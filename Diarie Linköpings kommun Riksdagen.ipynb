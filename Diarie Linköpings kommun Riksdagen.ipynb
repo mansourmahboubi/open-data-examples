{
 "cells": [
  {
   "cell_type": "markdown",
   "metadata": {},
   "source": [
    "## Diarie Linköpings kommun\n",
    "se https://www.linkoping.se/open/data/arende/ \n",
    "\n",
    "OBS unik nyckel måste begäras se [open](https://www.linkoping.se/open/)\n",
    "\n",
    "GITHUB [open-data-examples](https://github.com/salgo60/open-data-examples)\n"
   ]
  },
  {
   "cell_type": "code",
   "execution_count": 30,
   "metadata": {},
   "outputs": [
    {
     "data": {
      "text/plain": [
       "'http://arendedata.linkoping.se/api/v1/Cases?maxItemsInResult=1000&api_key=e4628c0b272a454f855ec3784b7b61a0'"
      ]
     },
     "execution_count": 30,
     "metadata": {},
     "output_type": "execute_result"
    }
   ],
   "source": [
    "from IPython.display  import JSON\n",
    "import requests\n",
    "import json\n",
    "key = \"e4628c0b272a454f855ec3784b7b61a0\"\n",
    "baseUrl = \"http://arendedata.linkoping.se/api/v1/\"\n",
    "endpoint = \"Cases?maxItemsInResult=1000&api_key=\"\n",
    "headers = {'content-type': 'application/json'}\n",
    "url = baseUrl + endpoint + key\n",
    "url\n"
   ]
  },
  {
   "cell_type": "code",
   "execution_count": 36,
   "metadata": {},
   "outputs": [
    {
     "data": {
      "text/plain": [
       "<Response [200]>"
      ]
     },
     "execution_count": 36,
     "metadata": {},
     "output_type": "execute_result"
    }
   ],
   "source": [
    "req = requests.get(url,headers=headers)\n",
    "data = json.loads(req.text)\n",
    "import pandas as pd\n",
    "df = pd.DataFrame(data)\n",
    "df.head(n=40) \n",
    "req"
   ]
  },
  {
   "cell_type": "code",
   "execution_count": 32,
   "metadata": {},
   "outputs": [],
   "source": [
    "import matplotlib.pyplot as plt\n",
    "%matplotlib inline \n"
   ]
  },
  {
   "cell_type": "code",
   "execution_count": 33,
   "metadata": {
    "scrolled": true
   },
   "outputs": [
    {
     "data": {
      "text/html": [
       "<div>\n",
       "<style scoped>\n",
       "    .dataframe tbody tr th:only-of-type {\n",
       "        vertical-align: middle;\n",
       "    }\n",
       "\n",
       "    .dataframe tbody tr th {\n",
       "        vertical-align: top;\n",
       "    }\n",
       "\n",
       "    .dataframe thead th {\n",
       "        text-align: right;\n",
       "    }\n",
       "</style>\n",
       "<table border=\"1\" class=\"dataframe\">\n",
       "  <thead>\n",
       "    <tr style=\"text-align: right;\">\n",
       "      <th></th>\n",
       "    </tr>\n",
       "  </thead>\n",
       "  <tbody>\n",
       "  </tbody>\n",
       "</table>\n",
       "</div>"
      ],
      "text/plain": [
       "Empty DataFrame\n",
       "Columns: []\n",
       "Index: []"
      ]
     },
     "execution_count": 33,
     "metadata": {},
     "output_type": "execute_result"
    }
   ],
   "source": [
    "df"
   ]
  },
  {
   "cell_type": "markdown",
   "metadata": {},
   "source": [
    "### Ärenden"
   ]
  },
  {
   "cell_type": "code",
   "execution_count": 16,
   "metadata": {},
   "outputs": [
    {
     "data": {
      "text/html": [
       "<div>\n",
       "<style scoped>\n",
       "    .dataframe tbody tr th:only-of-type {\n",
       "        vertical-align: middle;\n",
       "    }\n",
       "\n",
       "    .dataframe tbody tr th {\n",
       "        vertical-align: top;\n",
       "    }\n",
       "\n",
       "    .dataframe thead th {\n",
       "        text-align: right;\n",
       "    }\n",
       "</style>\n",
       "<table border=\"1\" class=\"dataframe\">\n",
       "  <thead>\n",
       "    <tr style=\"text-align: right;\">\n",
       "      <th></th>\n",
       "      <th>eventNumber</th>\n",
       "      <th>eventName</th>\n",
       "      <th>direction</th>\n",
       "      <th>date</th>\n",
       "      <th>eventType</th>\n",
       "      <th>senderOrReceiver</th>\n",
       "      <th>case</th>\n",
       "      <th>caseNumber</th>\n",
       "      <th>diary</th>\n",
       "      <th>diaryId</th>\n",
       "      <th>documentNumber</th>\n",
       "    </tr>\n",
       "  </thead>\n",
       "  <tbody>\n",
       "    <tr>\n",
       "      <th>0</th>\n",
       "      <td>SON 2020-546: 5</td>\n",
       "      <td>--- Sekretess ---</td>\n",
       "      <td>None</td>\n",
       "      <td>2020-06-01T21:09:16.39</td>\n",
       "      <td>None</td>\n",
       "      <td>None</td>\n",
       "      <td>Översyn av yrket personlig assistent.</td>\n",
       "      <td>SON 2020-546</td>\n",
       "      <td>Social- och omsorgsnämnden</td>\n",
       "      <td>215</td>\n",
       "      <td>5</td>\n",
       "    </tr>\n",
       "    <tr>\n",
       "      <th>1</th>\n",
       "      <td>SON 2020-535: 1</td>\n",
       "      <td>2020-06-04 Social- och omsorgsnämndens presidi...</td>\n",
       "      <td>None</td>\n",
       "      <td>2020-06-01T21:01:58.583</td>\n",
       "      <td>Till möte</td>\n",
       "      <td>None</td>\n",
       "      <td>Fritids och helgkollo barn och unga neuropsyki...</td>\n",
       "      <td>SON 2020-535</td>\n",
       "      <td>Social- och omsorgsnämnden</td>\n",
       "      <td>215</td>\n",
       "      <td>1</td>\n",
       "    </tr>\n",
       "    <tr>\n",
       "      <th>2</th>\n",
       "      <td>SON 2019-1232: 1</td>\n",
       "      <td>2020-06-04 Social- och omsorgsnämndens presidi...</td>\n",
       "      <td>None</td>\n",
       "      <td>2020-06-01T21:00:39.25</td>\n",
       "      <td>Till möte</td>\n",
       "      <td>None</td>\n",
       "      <td>Avtal med Leanlink LSS Funktionsstöd avseende ...</td>\n",
       "      <td>SON 2019-1232</td>\n",
       "      <td>Social- och omsorgsnämnden</td>\n",
       "      <td>215</td>\n",
       "      <td>1</td>\n",
       "    </tr>\n",
       "    <tr>\n",
       "      <th>3</th>\n",
       "      <td>SON 2019-950: 10</td>\n",
       "      <td>2020-06-04 Social- och omsorgsnämndens presidi...</td>\n",
       "      <td>None</td>\n",
       "      <td>2020-06-01T20:58:29.557</td>\n",
       "      <td>Till möte</td>\n",
       "      <td>None</td>\n",
       "      <td>Avtal med Aleris Omsorg AB avseende Bostäder m...</td>\n",
       "      <td>SON 2019-950</td>\n",
       "      <td>Social- och omsorgsnämnden</td>\n",
       "      <td>215</td>\n",
       "      <td>10</td>\n",
       "    </tr>\n",
       "    <tr>\n",
       "      <th>4</th>\n",
       "      <td>KS 2019-539: 15</td>\n",
       "      <td>Kommunstyrelsen 200818 (2020-08-18)</td>\n",
       "      <td>None</td>\n",
       "      <td>2020-06-01T20:40:57.777</td>\n",
       "      <td>Till möte</td>\n",
       "      <td>None</td>\n",
       "      <td>Motion (S) - Stärkt kameraövervakning för tryg...</td>\n",
       "      <td>KS 2019-539</td>\n",
       "      <td>Kommunstyrelsen</td>\n",
       "      <td>56</td>\n",
       "      <td>15</td>\n",
       "    </tr>\n",
       "    <tr>\n",
       "      <th>...</th>\n",
       "      <td>...</td>\n",
       "      <td>...</td>\n",
       "      <td>...</td>\n",
       "      <td>...</td>\n",
       "      <td>...</td>\n",
       "      <td>...</td>\n",
       "      <td>...</td>\n",
       "      <td>...</td>\n",
       "      <td>...</td>\n",
       "      <td>...</td>\n",
       "      <td>...</td>\n",
       "    </tr>\n",
       "    <tr>\n",
       "      <th>95</th>\n",
       "      <td>SBN 2016-497: 57</td>\n",
       "      <td>Föreläggande om ersättning- Sätra 4:1</td>\n",
       "      <td>Ut</td>\n",
       "      <td>2020-06-01T10:39:35.513</td>\n",
       "      <td>Föreläggande</td>\n",
       "      <td>{'name': '', 'organization': None}</td>\n",
       "      <td>Detaljplan i Bestorp för Sätra 4:1 m.fl. (Sätr...</td>\n",
       "      <td>SBN 2016-497</td>\n",
       "      <td>Samhällsbyggnadsnämnden</td>\n",
       "      <td>118</td>\n",
       "      <td>57</td>\n",
       "    </tr>\n",
       "    <tr>\n",
       "      <th>96</th>\n",
       "      <td>BOU 2020-5: 41</td>\n",
       "      <td>Avtal Motala kommuna</td>\n",
       "      <td>Ut</td>\n",
       "      <td>2020-06-01T10:36:49.667</td>\n",
       "      <td>Avtal</td>\n",
       "      <td>{'name': '', 'organization': None}</td>\n",
       "      <td>Interkommunala ersättningar</td>\n",
       "      <td>BOU 2020-5</td>\n",
       "      <td>Barn- och ungdomsnämnden</td>\n",
       "      <td>26</td>\n",
       "      <td>41</td>\n",
       "    </tr>\n",
       "    <tr>\n",
       "      <th>97</th>\n",
       "      <td>BOU 2020-104: 14</td>\n",
       "      <td>--- Sekretess ---</td>\n",
       "      <td>None</td>\n",
       "      <td>2020-06-01T10:32:00</td>\n",
       "      <td>None</td>\n",
       "      <td>None</td>\n",
       "      <td>--- Sekretess ---</td>\n",
       "      <td>BOU 2020-104</td>\n",
       "      <td>Barn- och ungdomsnämnden</td>\n",
       "      <td>26</td>\n",
       "      <td>14</td>\n",
       "    </tr>\n",
       "    <tr>\n",
       "      <th>98</th>\n",
       "      <td>BOU 2020-104: 13</td>\n",
       "      <td>--- Sekretess ---</td>\n",
       "      <td>None</td>\n",
       "      <td>2020-06-01T10:26:59.717</td>\n",
       "      <td>None</td>\n",
       "      <td>None</td>\n",
       "      <td>--- Sekretess ---</td>\n",
       "      <td>BOU 2020-104</td>\n",
       "      <td>Barn- och ungdomsnämnden</td>\n",
       "      <td>26</td>\n",
       "      <td>13</td>\n",
       "    </tr>\n",
       "    <tr>\n",
       "      <th>99</th>\n",
       "      <td>BOU 2020-5: 40</td>\n",
       "      <td>Yttrande om skolgång i Mora kommun</td>\n",
       "      <td>Ut</td>\n",
       "      <td>2020-06-01T10:23:28.03</td>\n",
       "      <td>Beslut Delegation</td>\n",
       "      <td>{'name': '', 'organization': None}</td>\n",
       "      <td>Interkommunala ersättningar</td>\n",
       "      <td>BOU 2020-5</td>\n",
       "      <td>Barn- och ungdomsnämnden</td>\n",
       "      <td>26</td>\n",
       "      <td>40</td>\n",
       "    </tr>\n",
       "  </tbody>\n",
       "</table>\n",
       "<p>100 rows × 11 columns</p>\n",
       "</div>"
      ],
      "text/plain": [
       "         eventNumber                                          eventName  ... diaryId documentNumber\n",
       "0    SON 2020-546: 5                                  --- Sekretess ---  ...     215              5\n",
       "1    SON 2020-535: 1  2020-06-04 Social- och omsorgsnämndens presidi...  ...     215              1\n",
       "2   SON 2019-1232: 1  2020-06-04 Social- och omsorgsnämndens presidi...  ...     215              1\n",
       "3   SON 2019-950: 10  2020-06-04 Social- och omsorgsnämndens presidi...  ...     215             10\n",
       "4    KS 2019-539: 15                Kommunstyrelsen 200818 (2020-08-18)  ...      56             15\n",
       "..               ...                                                ...  ...     ...            ...\n",
       "95  SBN 2016-497: 57              Föreläggande om ersättning- Sätra 4:1  ...     118             57\n",
       "96    BOU 2020-5: 41                               Avtal Motala kommuna  ...      26             41\n",
       "97  BOU 2020-104: 14                                  --- Sekretess ---  ...      26             14\n",
       "98  BOU 2020-104: 13                                  --- Sekretess ---  ...      26             13\n",
       "99    BOU 2020-5: 40                 Yttrande om skolgång i Mora kommun  ...      26             40\n",
       "\n",
       "[100 rows x 11 columns]"
      ]
     },
     "execution_count": 16,
     "metadata": {},
     "output_type": "execute_result"
    }
   ],
   "source": [
    "endpointEvent = \"Events?maxItemsInResult=1000&api_key=f3d212d2700f4c80aba7d2a88bc94529\"\n",
    "urlEvent = baseUrl + endpointEvent \n",
    "dataEvent = json.loads(requests.get(urlEvent).text)\n",
    "import pandas as pd\n",
    "dfEvent = pd.DataFrame(dataEvent)\n",
    "dfEvent.head(n=100)"
   ]
  },
  {
   "cell_type": "markdown",
   "metadata": {},
   "source": [
    "## Riksdagen\n",
    "    "
   ]
  },
  {
   "cell_type": "code",
   "execution_count": 9,
   "metadata": {},
   "outputs": [],
   "source": [
    "urlbaseRiks = \"http://data.riksdagen.se/dokumentlista/\"\n",
    "urlRiks = urlbaseRiks + \"?sok=&doktyp=mot&rm=&from=2020-05-01&tom=2020-06-30&ts=&bet=&tempbet=&nr=&org=&iid=&webbtv=&talare=&exakt=&planering=&sort=rel&sortorder=desc&rapport=&utformat=json&a=s#soktraff\""
   ]
  },
  {
   "cell_type": "code",
   "execution_count": 22,
   "metadata": {},
   "outputs": [
    {
     "name": "stdout",
     "output_type": "stream",
     "text": [
      "<class 'pandas.core.frame.DataFrame'>\n",
      "RangeIndex: 20 entries, 0 to 19\n",
      "Data columns (total 57 columns):\n",
      "traff                20 non-null object\n",
      "domain               20 non-null object\n",
      "database             20 non-null object\n",
      "datum                20 non-null object\n",
      "id                   20 non-null object\n",
      "rdrest               0 non-null object\n",
      "slutdatum            0 non-null object\n",
      "rddata               0 non-null object\n",
      "plats                0 non-null object\n",
      "klockslag            0 non-null object\n",
      "publicerad           20 non-null object\n",
      "systemdatum          20 non-null object\n",
      "undertitel           20 non-null object\n",
      "kalla                20 non-null object\n",
      "kall_id              20 non-null object\n",
      "dok_id               20 non-null object\n",
      "dokumentformat       0 non-null object\n",
      "dokument_url_text    20 non-null object\n",
      "dokument_url_html    20 non-null object\n",
      "inlamnad             0 non-null object\n",
      "motionstid           0 non-null object\n",
      "tilldelat            0 non-null object\n",
      "lang                 0 non-null object\n",
      "url                  0 non-null object\n",
      "relurl               0 non-null object\n",
      "titel                20 non-null object\n",
      "rm                   20 non-null object\n",
      "organ                20 non-null object\n",
      "relaterat_id         0 non-null object\n",
      "doktyp               20 non-null object\n",
      "typ                  20 non-null object\n",
      "subtyp               20 non-null object\n",
      "beteckning           20 non-null object\n",
      "tempbeteckning       20 non-null object\n",
      "nummer               20 non-null object\n",
      "status               20 non-null object\n",
      "score                20 non-null object\n",
      "sokdata              20 non-null object\n",
      "summary              20 non-null object\n",
      "notisrubrik          20 non-null object\n",
      "notis                20 non-null object\n",
      "dokintressent        20 non-null object\n",
      "filbilaga            20 non-null object\n",
      "avdelning            20 non-null object\n",
      "struktur             0 non-null object\n",
      "debattgrupp          0 non-null object\n",
      "debattdag            0 non-null object\n",
      "beslutsdag           0 non-null object\n",
      "beredningsdag        0 non-null object\n",
      "justeringsdag        0 non-null object\n",
      "beslutad             0 non-null object\n",
      "debattsekunder       0 non-null object\n",
      "ardometyp            0 non-null object\n",
      "reservationer        0 non-null object\n",
      "debatt               0 non-null object\n",
      "debattnamn           20 non-null object\n",
      "dokumentnamn         20 non-null object\n",
      "dtypes: object(57)\n",
      "memory usage: 9.0+ KB\n"
     ]
    }
   ],
   "source": [
    "dataRiks = json.loads(requests.get(urlRiks).text)\n",
    "import pandas as pd\n",
    "dfRiks = pd.DataFrame(dataRiks[\"dokumentlista\"][\"dokument\"])\n",
    "dfRiks.head()\n",
    "dfRiks.info()"
   ]
  },
  {
   "cell_type": "code",
   "execution_count": null,
   "metadata": {},
   "outputs": [],
   "source": []
  }
 ],
 "metadata": {
  "kernelspec": {
   "display_name": "Python 3",
   "language": "python",
   "name": "python3"
  },
  "language_info": {
   "codemirror_mode": {
    "name": "ipython",
    "version": 3
   },
   "file_extension": ".py",
   "mimetype": "text/x-python",
   "name": "python",
   "nbconvert_exporter": "python",
   "pygments_lexer": "ipython3",
   "version": "3.8.0"
  }
 },
 "nbformat": 4,
 "nbformat_minor": 4
}
