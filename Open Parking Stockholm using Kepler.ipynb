{
 "cells": [
  {
   "cell_type": "markdown",
   "metadata": {},
   "source": [
    "## Open Parking Stockholm\n",
    "https://openstreetgs.stockholm.se/home/Parking"
   ]
  },
  {
   "cell_type": "code",
   "execution_count": 60,
   "metadata": {},
   "outputs": [
    {
     "name": "stdout",
     "output_type": "stream",
     "text": [
      "User Guide: https://docs.kepler.gl/docs/keplergl-jupyter\n"
     ]
    }
   ],
   "source": [
    "from keplergl import KeplerGl \n",
    "map1=KeplerGl(height=1200)"
   ]
  },
  {
   "cell_type": "code",
   "execution_count": 61,
   "metadata": {},
   "outputs": [
    {
     "data": {
      "text/html": [
       "<div>\n",
       "<style scoped>\n",
       "    .dataframe tbody tr th:only-of-type {\n",
       "        vertical-align: middle;\n",
       "    }\n",
       "\n",
       "    .dataframe tbody tr th {\n",
       "        vertical-align: top;\n",
       "    }\n",
       "\n",
       "    .dataframe thead th {\n",
       "        text-align: right;\n",
       "    }\n",
       "</style>\n",
       "<table border=\"1\" class=\"dataframe\">\n",
       "  <thead>\n",
       "    <tr style=\"text-align: right;\">\n",
       "      <th></th>\n",
       "      <th>id</th>\n",
       "      <th>FID</th>\n",
       "      <th>FEATURE_OBJECT_ID</th>\n",
       "      <th>FEATURE_VERSION_ID</th>\n",
       "      <th>EXTENT_NO</th>\n",
       "      <th>VALID_FROM</th>\n",
       "      <th>START_TIME</th>\n",
       "      <th>END_TIME</th>\n",
       "      <th>START_WEEKDAY</th>\n",
       "      <th>START_MONTH</th>\n",
       "      <th>END_MONTH</th>\n",
       "      <th>START_DAY</th>\n",
       "      <th>END_DAY</th>\n",
       "      <th>CITATION</th>\n",
       "      <th>STREET_NAME</th>\n",
       "      <th>CITY_DISTRICT</th>\n",
       "      <th>PARKING_DISTRICT</th>\n",
       "      <th>VF_PLATS_TYP</th>\n",
       "      <th>ADDRESS</th>\n",
       "      <th>RDT_URL</th>\n",
       "      <th>VF_METER</th>\n",
       "      <th>VF_PLATSER</th>\n",
       "      <th>VALID_TO</th>\n",
       "      <th>ODD_EVEN</th>\n",
       "      <th>geometry</th>\n",
       "    </tr>\n",
       "  </thead>\n",
       "  <tbody>\n",
       "    <tr>\n",
       "      <th>0</th>\n",
       "      <td>LTFR_SERVICEDAG.31041785</td>\n",
       "      <td>31041785</td>\n",
       "      <td>2411435</td>\n",
       "      <td>1</td>\n",
       "      <td>1</td>\n",
       "      <td>2008-12-17T23:00:00</td>\n",
       "      <td>800</td>\n",
       "      <td>1600</td>\n",
       "      <td>måndag</td>\n",
       "      <td>11.0</td>\n",
       "      <td>5.0</td>\n",
       "      <td>1.0</td>\n",
       "      <td>15.0</td>\n",
       "      <td>0180 2008-10330</td>\n",
       "      <td>Kistvägen</td>\n",
       "      <td>Gubbängen</td>\n",
       "      <td>&lt;Område saknas&gt;</td>\n",
       "      <td>Tidsreglerat parkerings-/stoppförbud</td>\n",
       "      <td>Kistvägen 13 - 17</td>\n",
       "      <td>https://rdt.transportstyrelsen.se/rdt/AF06_Vie...</td>\n",
       "      <td>NaN</td>\n",
       "      <td>NaN</td>\n",
       "      <td>None</td>\n",
       "      <td>None</td>\n",
       "      <td>LINESTRING (18.07999 59.26315, 18.07995 59.263...</td>\n",
       "    </tr>\n",
       "    <tr>\n",
       "      <th>1</th>\n",
       "      <td>LTFR_SERVICEDAG.31041786</td>\n",
       "      <td>31041786</td>\n",
       "      <td>2411435</td>\n",
       "      <td>1</td>\n",
       "      <td>2</td>\n",
       "      <td>2008-12-17T23:00:00</td>\n",
       "      <td>800</td>\n",
       "      <td>1600</td>\n",
       "      <td>måndag</td>\n",
       "      <td>11.0</td>\n",
       "      <td>5.0</td>\n",
       "      <td>1.0</td>\n",
       "      <td>15.0</td>\n",
       "      <td>0180 2008-10330</td>\n",
       "      <td>Kistvägen</td>\n",
       "      <td>Gubbängen</td>\n",
       "      <td>&lt;Område saknas&gt;</td>\n",
       "      <td>Tidsreglerat parkerings-/stoppförbud</td>\n",
       "      <td>Herrhagsvägen 132 - Kistvägen 14</td>\n",
       "      <td>https://rdt.transportstyrelsen.se/rdt/AF06_Vie...</td>\n",
       "      <td>NaN</td>\n",
       "      <td>NaN</td>\n",
       "      <td>None</td>\n",
       "      <td>None</td>\n",
       "      <td>LINESTRING (18.08065 59.26477, 18.08060 59.264...</td>\n",
       "    </tr>\n",
       "    <tr>\n",
       "      <th>2</th>\n",
       "      <td>LTFR_SERVICEDAG.31042338</td>\n",
       "      <td>31042338</td>\n",
       "      <td>2506528</td>\n",
       "      <td>1</td>\n",
       "      <td>1</td>\n",
       "      <td>2010-01-14T23:00:00</td>\n",
       "      <td>0</td>\n",
       "      <td>600</td>\n",
       "      <td>måndag</td>\n",
       "      <td>NaN</td>\n",
       "      <td>NaN</td>\n",
       "      <td>NaN</td>\n",
       "      <td>NaN</td>\n",
       "      <td>0180 2009-08409</td>\n",
       "      <td>Hornsgatan</td>\n",
       "      <td>Södermalm</td>\n",
       "      <td>Södermalm</td>\n",
       "      <td>Tidsreglerat parkerings-/stoppförbud</td>\n",
       "      <td>Hornsgatan 86</td>\n",
       "      <td>https://rdt.transportstyrelsen.se/rdt/AF06_Vie...</td>\n",
       "      <td>12.0</td>\n",
       "      <td>NaN</td>\n",
       "      <td>None</td>\n",
       "      <td>None</td>\n",
       "      <td>LINESTRING (18.05412 59.31790, 18.05393 59.31788)</td>\n",
       "    </tr>\n",
       "    <tr>\n",
       "      <th>3</th>\n",
       "      <td>LTFR_SERVICEDAG.31042341</td>\n",
       "      <td>31042341</td>\n",
       "      <td>2506987</td>\n",
       "      <td>1</td>\n",
       "      <td>1</td>\n",
       "      <td>2009-12-02T23:00:00</td>\n",
       "      <td>800</td>\n",
       "      <td>1600</td>\n",
       "      <td>måndag</td>\n",
       "      <td>11.0</td>\n",
       "      <td>5.0</td>\n",
       "      <td>1.0</td>\n",
       "      <td>15.0</td>\n",
       "      <td>0180 2009-08583</td>\n",
       "      <td>Getfotsvägen</td>\n",
       "      <td>Gubbängen</td>\n",
       "      <td>&lt;Område saknas&gt;</td>\n",
       "      <td>Tidsreglerat parkerings-/stoppförbud</td>\n",
       "      <td>Getfotsvägen 59 - 56</td>\n",
       "      <td>https://rdt.transportstyrelsen.se/rdt/AF06_Vie...</td>\n",
       "      <td>NaN</td>\n",
       "      <td>NaN</td>\n",
       "      <td>None</td>\n",
       "      <td>None</td>\n",
       "      <td>LINESTRING (18.07632 59.26141, 18.07630 59.261...</td>\n",
       "    </tr>\n",
       "    <tr>\n",
       "      <th>4</th>\n",
       "      <td>LTFR_SERVICEDAG.31041799</td>\n",
       "      <td>31041799</td>\n",
       "      <td>2414638</td>\n",
       "      <td>1</td>\n",
       "      <td>1</td>\n",
       "      <td>2008-12-17T23:00:00</td>\n",
       "      <td>0</td>\n",
       "      <td>600</td>\n",
       "      <td>måndag</td>\n",
       "      <td>NaN</td>\n",
       "      <td>NaN</td>\n",
       "      <td>NaN</td>\n",
       "      <td>NaN</td>\n",
       "      <td>0180 2008-11254</td>\n",
       "      <td>Maria Skolgata</td>\n",
       "      <td>Södermalm</td>\n",
       "      <td>Södermalm</td>\n",
       "      <td>Tidsreglerat parkerings-/stoppförbud</td>\n",
       "      <td>Maria Skolgata 36</td>\n",
       "      <td>https://rdt.transportstyrelsen.se/rdt/AF06_Vie...</td>\n",
       "      <td>NaN</td>\n",
       "      <td>NaN</td>\n",
       "      <td>None</td>\n",
       "      <td>None</td>\n",
       "      <td>LINESTRING (18.05619 59.31526, 18.05600 59.31524)</td>\n",
       "    </tr>\n",
       "  </tbody>\n",
       "</table>\n",
       "</div>"
      ],
      "text/plain": [
       "                         id       FID  ...  ODD_EVEN                                           geometry\n",
       "0  LTFR_SERVICEDAG.31041785  31041785  ...      None  LINESTRING (18.07999 59.26315, 18.07995 59.263...\n",
       "1  LTFR_SERVICEDAG.31041786  31041786  ...      None  LINESTRING (18.08065 59.26477, 18.08060 59.264...\n",
       "2  LTFR_SERVICEDAG.31042338  31042338  ...      None  LINESTRING (18.05412 59.31790, 18.05393 59.31788)\n",
       "3  LTFR_SERVICEDAG.31042341  31042341  ...      None  LINESTRING (18.07632 59.26141, 18.07630 59.261...\n",
       "4  LTFR_SERVICEDAG.31041799  31041799  ...      None  LINESTRING (18.05619 59.31526, 18.05600 59.31524)\n",
       "\n",
       "[5 rows x 25 columns]"
      ]
     },
     "execution_count": 61,
     "metadata": {},
     "output_type": "execute_result"
    }
   ],
   "source": [
    "import urllib3 \n",
    "import geopandas as gpd\n",
    "http = urllib3.PoolManager()\n",
    "urlbase = \"https://openparking.stockholm.se/LTF-Tolken/v1/servicedagar/\"\n",
    "url = urlbase + \"weekday/m%C3%A5ndag?outputFormat=json&apiKey=cb5d9a39-f208-459a-b8d5-ccd6bf712fe2\"\n",
    "df = gpd.read_file(url)\n",
    "df.head()"
   ]
  },
  {
   "cell_type": "code",
   "execution_count": 62,
   "metadata": {},
   "outputs": [],
   "source": [
    " \n",
    "map1.add_data(data=df,name='Parking in Stockholm ') \n",
    "%run sthlm_config.py # config of map"
   ]
  },
  {
   "cell_type": "code",
   "execution_count": 63,
   "metadata": {
    "scrolled": true
   },
   "outputs": [
    {
     "data": {
      "application/vnd.jupyter.widget-view+json": {
       "model_id": "9ce60ac9980744028f5c7988a15a2a1e",
       "version_major": 2,
       "version_minor": 0
      },
      "text/plain": [
       "KeplerGl(data={'Parking in Stockholm ': {'index': [0, 1, 2, 3, 4, 5, 6, 7, 8, 9, 10, 11, 12, 13, 14, 15, 16, 1…"
      ]
     },
     "metadata": {},
     "output_type": "display_data"
    }
   ],
   "source": [
    "map1"
   ]
  },
  {
   "cell_type": "code",
   "execution_count": 47,
   "metadata": {},
   "outputs": [],
   "source": [
    "with open('sthlm_config.py', 'w') as f:\n",
    "   f.write('config = {}'.format(map1.config))"
   ]
  },
  {
   "cell_type": "code",
   "execution_count": 14,
   "metadata": {},
   "outputs": [],
   "source": []
  },
  {
   "cell_type": "code",
   "execution_count": null,
   "metadata": {},
   "outputs": [],
   "source": []
  }
 ],
 "metadata": {
  "kernelspec": {
   "display_name": "Python 3",
   "language": "python",
   "name": "python3"
  },
  "language_info": {
   "codemirror_mode": {
    "name": "ipython",
    "version": 3
   },
   "file_extension": ".py",
   "mimetype": "text/x-python",
   "name": "python",
   "nbconvert_exporter": "python",
   "pygments_lexer": "ipython3",
   "version": "3.8.0"
  }
 },
 "nbformat": 4,
 "nbformat_minor": 4
}
