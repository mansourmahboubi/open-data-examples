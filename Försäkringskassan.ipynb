{
 "cells": [
  {
   "cell_type": "markdown",
   "metadata": {},
   "source": [
    "# Dataset Pågående sjukfall per diagnos, specifikt för stressrelaterade sjukdomar 2005–\n",
    "\n",
    "[Datamängd tillhandahållen av Försäkringskassan](https://oppnadata.se/datamangd/#esc_entry=4778&esc_context=547)"
   ]
  },
  {
   "cell_type": "code",
   "execution_count": 5,
   "metadata": {},
   "outputs": [
    {
     "data": {
      "text/plain": [
       "'https://catalog.forsakringskassan.se/rowstore/dataset/bc40aa99-d0a1-4ee0-853c-2d4306c7fad2'"
      ]
     },
     "execution_count": 5,
     "metadata": {},
     "output_type": "execute_result"
    }
   ],
   "source": [
    "from IPython.display  import JSON\n",
    "import requests\n",
    "import json\n",
    "baseUrl = \"https://catalog.forsakringskassan.se/rowstore/dataset/\"\n",
    "endpoint = \"bc40aa99-d0a1-4ee0-853c-2d4306c7fad2\"\n",
    "headers = {'content-type': 'application/json'}\n",
    "url = baseUrl + endpoint\n",
    "url"
   ]
  },
  {
   "cell_type": "code",
   "execution_count": 6,
   "metadata": {},
   "outputs": [
    {
     "data": {
      "text/plain": [
       "list"
      ]
     },
     "execution_count": 6,
     "metadata": {},
     "output_type": "execute_result"
    }
   ],
   "source": [
    "# Call the API\n",
    "req = requests.get(url,headers=headers)\n",
    "data = json.loads(req.text)\n",
    "type(data['results'])"
   ]
  },
  {
   "cell_type": "code",
   "execution_count": 7,
   "metadata": {},
   "outputs": [
    {
     "data": {
      "text/plain": [
       "100"
      ]
     },
     "execution_count": 7,
     "metadata": {},
     "output_type": "execute_result"
    }
   ],
   "source": [
    "len(data['results'])"
   ]
  },
  {
   "cell_type": "code",
   "execution_count": 8,
   "metadata": {},
   "outputs": [],
   "source": [
    "import pandas as pd\n",
    "from pandas.io.json import json_normalize\n",
    "\n",
    "df = json_normalize(data['results'])"
   ]
  },
  {
   "cell_type": "code",
   "execution_count": 9,
   "metadata": {},
   "outputs": [
    {
     "data": {
      "text/html": [
       "<div>\n",
       "<style scoped>\n",
       "    .dataframe tbody tr th:only-of-type {\n",
       "        vertical-align: middle;\n",
       "    }\n",
       "\n",
       "    .dataframe tbody tr th {\n",
       "        vertical-align: top;\n",
       "    }\n",
       "\n",
       "    .dataframe thead th {\n",
       "        text-align: right;\n",
       "    }\n",
       "</style>\n",
       "<table border=\"1\" class=\"dataframe\">\n",
       "  <thead>\n",
       "    <tr style=\"text-align: right;\">\n",
       "      <th></th>\n",
       "      <th>kvartal</th>\n",
       "      <th>ar</th>\n",
       "      <th>lan_text</th>\n",
       "      <th>antal_f43_man</th>\n",
       "      <th>andel_f43_kvinna</th>\n",
       "      <th>andel_f43_man</th>\n",
       "      <th>antal_f43_kvinna</th>\n",
       "      <th>kommun_kod</th>\n",
       "      <th>lan_kod</th>\n",
       "      <th>andel_f43_samtliga</th>\n",
       "      <th>kommun_text</th>\n",
       "      <th>antal_f43_samtliga</th>\n",
       "    </tr>\n",
       "  </thead>\n",
       "  <tbody>\n",
       "    <tr>\n",
       "      <th>count</th>\n",
       "      <td>100</td>\n",
       "      <td>100</td>\n",
       "      <td>100</td>\n",
       "      <td>100</td>\n",
       "      <td>100</td>\n",
       "      <td>100</td>\n",
       "      <td>100</td>\n",
       "      <td>100</td>\n",
       "      <td>100</td>\n",
       "      <td>100</td>\n",
       "      <td>100</td>\n",
       "      <td>100</td>\n",
       "    </tr>\n",
       "    <tr>\n",
       "      <th>unique</th>\n",
       "      <td>1</td>\n",
       "      <td>1</td>\n",
       "      <td>10</td>\n",
       "      <td>46</td>\n",
       "      <td>66</td>\n",
       "      <td>66</td>\n",
       "      <td>58</td>\n",
       "      <td>100</td>\n",
       "      <td>10</td>\n",
       "      <td>95</td>\n",
       "      <td>92</td>\n",
       "      <td>75</td>\n",
       "    </tr>\n",
       "    <tr>\n",
       "      <th>top</th>\n",
       "      <td>1</td>\n",
       "      <td>2005</td>\n",
       "      <td>Stockholms län</td>\n",
       "      <td></td>\n",
       "      <td></td>\n",
       "      <td></td>\n",
       "      <td></td>\n",
       "      <td>0763</td>\n",
       "      <td>01</td>\n",
       "      <td></td>\n",
       "      <td>Samtliga kommuner</td>\n",
       "      <td></td>\n",
       "    </tr>\n",
       "    <tr>\n",
       "      <th>freq</th>\n",
       "      <td>100</td>\n",
       "      <td>100</td>\n",
       "      <td>27</td>\n",
       "      <td>34</td>\n",
       "      <td>34</td>\n",
       "      <td>34</td>\n",
       "      <td>34</td>\n",
       "      <td>1</td>\n",
       "      <td>27</td>\n",
       "      <td>4</td>\n",
       "      <td>9</td>\n",
       "      <td>4</td>\n",
       "    </tr>\n",
       "  </tbody>\n",
       "</table>\n",
       "</div>"
      ],
      "text/plain": [
       "       kvartal    ar        lan_text antal_f43_man andel_f43_kvinna  \\\n",
       "count      100   100             100           100              100   \n",
       "unique       1     1              10            46               66   \n",
       "top          1  2005  Stockholms län                                  \n",
       "freq       100   100              27            34               34   \n",
       "\n",
       "       andel_f43_man antal_f43_kvinna kommun_kod lan_kod andel_f43_samtliga  \\\n",
       "count            100              100        100     100                100   \n",
       "unique            66               58        100      10                 95   \n",
       "top                                         0763      01                      \n",
       "freq              34               34          1      27                  4   \n",
       "\n",
       "              kommun_text antal_f43_samtliga  \n",
       "count                 100                100  \n",
       "unique                 92                 75  \n",
       "top     Samtliga kommuner                     \n",
       "freq                    9                  4  "
      ]
     },
     "execution_count": 9,
     "metadata": {},
     "output_type": "execute_result"
    }
   ],
   "source": [
    "df.describe()"
   ]
  },
  {
   "cell_type": "code",
   "execution_count": null,
   "metadata": {},
   "outputs": [],
   "source": []
  }
 ],
 "metadata": {
  "kernelspec": {
   "display_name": "Python 3",
   "language": "python",
   "name": "python3"
  },
  "language_info": {
   "codemirror_mode": {
    "name": "ipython",
    "version": 3
   },
   "file_extension": ".py",
   "mimetype": "text/x-python",
   "name": "python",
   "nbconvert_exporter": "python",
   "pygments_lexer": "ipython3",
   "version": "3.8.0"
  }
 },
 "nbformat": 4,
 "nbformat_minor": 2
}
