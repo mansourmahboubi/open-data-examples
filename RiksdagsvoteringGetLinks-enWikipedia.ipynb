{
 "cells": [
  {
   "cell_type": "markdown",
   "id": "103b357a",
   "metadata": {},
   "source": [
    "### Get Links from a page on enWikipedia and check if the link is to a Swedish MP person   \n",
    "\n",
    "  \n",
    "* This [notebook](https://github.com/salgo60/open-data-examples/blob/master/RiksdagsvoteringGetLinks-enWikipedia.ipynb)\n",
    "** see also [notebook](https://github.com/salgo60/open-data-examples/blob/master/RiksdagsvoteringGetLinks.ipynb)\n",
    "\n",
    "version 1 \n",
    "\n",
    "Lesson learned\n",
    "* as en:Wikipedia dont have articles of all Swedish MP it gets messy \n",
    "\n"
   ]
  },
  {
   "cell_type": "code",
   "execution_count": 85,
   "id": "b0298836",
   "metadata": {},
   "outputs": [
    {
     "name": "stdout",
     "output_type": "stream",
     "text": [
      "Last run:  2021-12-03 09:55:10.612275\n"
     ]
    }
   ],
   "source": [
    "from datetime import datetime\n",
    "start_time  = datetime.now()\n",
    "print(\"Last run: \", start_time)"
   ]
  },
  {
   "cell_type": "code",
   "execution_count": 86,
   "id": "5fd2d12f",
   "metadata": {},
   "outputs": [],
   "source": [
    "enWikipediaAPIurl = \"https://en.wikipedia.org/w/api.php?action=query&format=json&prop=links&meta=&pllimit=500&titles=\" \n",
    "pagetoCheck = \"Andersson_Cabinet\""
   ]
  },
  {
   "cell_type": "code",
   "execution_count": 87,
   "id": "47120cd6",
   "metadata": {},
   "outputs": [],
   "source": [
    "from IPython.core.display import display, HTML\n",
    "urlcheck = enWikipediaAPIurl + pagetoCheck\n",
    "urlArticle = \"https://en.wikipedia.org/wiki/\" + pagetoCheck\n"
   ]
  },
  {
   "cell_type": "code",
   "execution_count": 88,
   "id": "3cee5ff6",
   "metadata": {},
   "outputs": [
    {
     "data": {
      "text/html": [
       "URL sida <a href=https://en.wikipedia.org/wiki/Andersson_Cabinet>Andersson_Cabinet</a><br>* API url <a href=https://en.wikipedia.org/w/api.php?action=query&format=json&prop=links&meta=&pllimit=500&titles=Andersson_Cabinet>https://en.wikipedia.org/w/api.php?action=query&format=json&prop=links&meta=&pllimit=500&titles=Andersson_Cabinet</a>"
      ],
      "text/plain": [
       "<IPython.core.display.HTML object>"
      ]
     },
     "metadata": {},
     "output_type": "display_data"
    }
   ],
   "source": [
    "display(HTML(\"URL sida <a href=\" + urlArticle + \">\" + pagetoCheck +  \"</a><br>* API url <a href=\" + urlcheck +\">\" + urlcheck + \"</a>\"))"
   ]
  },
  {
   "cell_type": "code",
   "execution_count": 93,
   "id": "1ef871a8",
   "metadata": {},
   "outputs": [],
   "source": [
    "import urllib3, json\n",
    "import pandas as pd \n",
    "http = urllib3.PoolManager() \n",
    "from wikidata.client import Client\n"
   ]
  },
  {
   "cell_type": "code",
   "execution_count": 94,
   "id": "1ee7e02d",
   "metadata": {},
   "outputs": [],
   "source": [
    "def getWD (url):\n",
    "    print(url)\n",
    "    baseUrl = \"https://en.wikipedia.org/w/api.php?action=query&prop=pageprops|wbentityusage&titles=\"\n",
    "    title = url.replace(\"https://en.wikipedia.org/wiki/\",\"\")\n",
    "    urlWD = baseUrl + title\n",
    "    wdr = http.request('Get', urlWD + \"&format=json\",\n",
    "                 headers={'Content-Type': 'application/json'})\n",
    "\n",
    "    if wdr.status != 200:\n",
    "        print(\"Error \", wdr.status)\n",
    "        return False\n",
    "    \n",
    "    datawd = json.loads(wdr.data.decode('utf-8'),) \n",
    "    pg_dict = datawd['query']['pages']\n",
    "    pg_key = list(pg_dict.keys())[0]\n",
    "    try:\n",
    "        wikidata_id = pg_dict[pg_key]['pageprops']['wikibase_item']\n",
    "    except:\n",
    "        print(\"\\tError \" + url)\n",
    "        return False\n",
    "    return wikidata_id\n",
    "\n",
    "def getRiks(wikidata_id):\n",
    "    # get SPA \n",
    "    client = Client()\n",
    "    entity = client.get(wikidata_id, load=True)\n",
    "    try:\n",
    "        riks_prop = entity[client.get('P8388')]\n",
    "    except:\n",
    "        return False\n",
    "    return riks_prop"
   ]
  },
  {
   "cell_type": "code",
   "execution_count": 95,
   "id": "f68ce38e",
   "metadata": {},
   "outputs": [
    {
     "name": "stdout",
     "output_type": "stream",
     "text": [
      "encoded_body  <class 'dict'> {'action': 'query', 'cmtitle': 'Andersson_Cabinet', 'cmlimit': 'max', 'prop': 'links', 'format': 'json'}\n",
      "Status  200\n"
     ]
    },
    {
     "ename": "JSONDecodeError",
     "evalue": "Expecting value: line 1 column 1 (char 0)",
     "output_type": "error",
     "traceback": [
      "\u001b[0;31m---------------------------------------------------------------------------\u001b[0m",
      "\u001b[0;31mJSONDecodeError\u001b[0m                           Traceback (most recent call last)",
      "\u001b[0;32m<ipython-input-95-7e88aaa44bc4>\u001b[0m in \u001b[0;36m<module>\u001b[0;34m\u001b[0m\n\u001b[1;32m     25\u001b[0m \u001b[0;31m#print(values)\u001b[0m\u001b[0;34m\u001b[0m\u001b[0;34m\u001b[0m\u001b[0;34m\u001b[0m\u001b[0m\n\u001b[1;32m     26\u001b[0m \u001b[0;31m#data = json.loads(r.data.decode('utf-8'))\u001b[0m\u001b[0;34m\u001b[0m\u001b[0;34m\u001b[0m\u001b[0;34m\u001b[0m\u001b[0m\n\u001b[0;32m---> 27\u001b[0;31m \u001b[0mdata\u001b[0m \u001b[0;34m=\u001b[0m \u001b[0mjson\u001b[0m\u001b[0;34m.\u001b[0m\u001b[0mloads\u001b[0m\u001b[0;34m(\u001b[0m\u001b[0mr\u001b[0m\u001b[0;34m.\u001b[0m\u001b[0mdata\u001b[0m\u001b[0;34m.\u001b[0m\u001b[0mdecode\u001b[0m\u001b[0;34m(\u001b[0m\u001b[0;34m'utf-8'\u001b[0m\u001b[0;34m)\u001b[0m\u001b[0;34m)\u001b[0m\u001b[0;34m\u001b[0m\u001b[0;34m\u001b[0m\u001b[0m\n\u001b[0m\u001b[1;32m     28\u001b[0m \u001b[0mlinks\u001b[0m \u001b[0;34m=\u001b[0m \u001b[0mdata\u001b[0m\u001b[0;34m[\u001b[0m\u001b[0;34m\"query\"\u001b[0m\u001b[0;34m]\u001b[0m\u001b[0;34m[\u001b[0m\u001b[0;34m\"pages\"\u001b[0m\u001b[0;34m]\u001b[0m\u001b[0;34m\u001b[0m\u001b[0;34m\u001b[0m\u001b[0m\n\u001b[1;32m     29\u001b[0m \u001b[0mprint\u001b[0m\u001b[0;34m(\u001b[0m\u001b[0;34m\"pages: \"\u001b[0m\u001b[0;34m,\u001b[0m \u001b[0mlinks\u001b[0m\u001b[0;34m)\u001b[0m\u001b[0;34m\u001b[0m\u001b[0;34m\u001b[0m\u001b[0m\n",
      "\u001b[0;32m/Library/Frameworks/Python.framework/Versions/3.9/lib/python3.9/json/__init__.py\u001b[0m in \u001b[0;36mloads\u001b[0;34m(s, cls, object_hook, parse_float, parse_int, parse_constant, object_pairs_hook, **kw)\u001b[0m\n\u001b[1;32m    344\u001b[0m             \u001b[0mparse_int\u001b[0m \u001b[0;32mis\u001b[0m \u001b[0;32mNone\u001b[0m \u001b[0;32mand\u001b[0m \u001b[0mparse_float\u001b[0m \u001b[0;32mis\u001b[0m \u001b[0;32mNone\u001b[0m \u001b[0;32mand\u001b[0m\u001b[0;34m\u001b[0m\u001b[0;34m\u001b[0m\u001b[0m\n\u001b[1;32m    345\u001b[0m             parse_constant is None and object_pairs_hook is None and not kw):\n\u001b[0;32m--> 346\u001b[0;31m         \u001b[0;32mreturn\u001b[0m \u001b[0m_default_decoder\u001b[0m\u001b[0;34m.\u001b[0m\u001b[0mdecode\u001b[0m\u001b[0;34m(\u001b[0m\u001b[0ms\u001b[0m\u001b[0;34m)\u001b[0m\u001b[0;34m\u001b[0m\u001b[0;34m\u001b[0m\u001b[0m\n\u001b[0m\u001b[1;32m    347\u001b[0m     \u001b[0;32mif\u001b[0m \u001b[0mcls\u001b[0m \u001b[0;32mis\u001b[0m \u001b[0;32mNone\u001b[0m\u001b[0;34m:\u001b[0m\u001b[0;34m\u001b[0m\u001b[0;34m\u001b[0m\u001b[0m\n\u001b[1;32m    348\u001b[0m         \u001b[0mcls\u001b[0m \u001b[0;34m=\u001b[0m \u001b[0mJSONDecoder\u001b[0m\u001b[0;34m\u001b[0m\u001b[0;34m\u001b[0m\u001b[0m\n",
      "\u001b[0;32m/Library/Frameworks/Python.framework/Versions/3.9/lib/python3.9/json/decoder.py\u001b[0m in \u001b[0;36mdecode\u001b[0;34m(self, s, _w)\u001b[0m\n\u001b[1;32m    335\u001b[0m \u001b[0;34m\u001b[0m\u001b[0m\n\u001b[1;32m    336\u001b[0m         \"\"\"\n\u001b[0;32m--> 337\u001b[0;31m         \u001b[0mobj\u001b[0m\u001b[0;34m,\u001b[0m \u001b[0mend\u001b[0m \u001b[0;34m=\u001b[0m \u001b[0mself\u001b[0m\u001b[0;34m.\u001b[0m\u001b[0mraw_decode\u001b[0m\u001b[0;34m(\u001b[0m\u001b[0ms\u001b[0m\u001b[0;34m,\u001b[0m \u001b[0midx\u001b[0m\u001b[0;34m=\u001b[0m\u001b[0m_w\u001b[0m\u001b[0;34m(\u001b[0m\u001b[0ms\u001b[0m\u001b[0;34m,\u001b[0m \u001b[0;36m0\u001b[0m\u001b[0;34m)\u001b[0m\u001b[0;34m.\u001b[0m\u001b[0mend\u001b[0m\u001b[0;34m(\u001b[0m\u001b[0;34m)\u001b[0m\u001b[0;34m)\u001b[0m\u001b[0;34m\u001b[0m\u001b[0;34m\u001b[0m\u001b[0m\n\u001b[0m\u001b[1;32m    338\u001b[0m         \u001b[0mend\u001b[0m \u001b[0;34m=\u001b[0m \u001b[0m_w\u001b[0m\u001b[0;34m(\u001b[0m\u001b[0ms\u001b[0m\u001b[0;34m,\u001b[0m \u001b[0mend\u001b[0m\u001b[0;34m)\u001b[0m\u001b[0;34m.\u001b[0m\u001b[0mend\u001b[0m\u001b[0;34m(\u001b[0m\u001b[0;34m)\u001b[0m\u001b[0;34m\u001b[0m\u001b[0;34m\u001b[0m\u001b[0m\n\u001b[1;32m    339\u001b[0m         \u001b[0;32mif\u001b[0m \u001b[0mend\u001b[0m \u001b[0;34m!=\u001b[0m \u001b[0mlen\u001b[0m\u001b[0;34m(\u001b[0m\u001b[0ms\u001b[0m\u001b[0;34m)\u001b[0m\u001b[0;34m:\u001b[0m\u001b[0;34m\u001b[0m\u001b[0;34m\u001b[0m\u001b[0m\n",
      "\u001b[0;32m/Library/Frameworks/Python.framework/Versions/3.9/lib/python3.9/json/decoder.py\u001b[0m in \u001b[0;36mraw_decode\u001b[0;34m(self, s, idx)\u001b[0m\n\u001b[1;32m    353\u001b[0m             \u001b[0mobj\u001b[0m\u001b[0;34m,\u001b[0m \u001b[0mend\u001b[0m \u001b[0;34m=\u001b[0m \u001b[0mself\u001b[0m\u001b[0;34m.\u001b[0m\u001b[0mscan_once\u001b[0m\u001b[0;34m(\u001b[0m\u001b[0ms\u001b[0m\u001b[0;34m,\u001b[0m \u001b[0midx\u001b[0m\u001b[0;34m)\u001b[0m\u001b[0;34m\u001b[0m\u001b[0;34m\u001b[0m\u001b[0m\n\u001b[1;32m    354\u001b[0m         \u001b[0;32mexcept\u001b[0m \u001b[0mStopIteration\u001b[0m \u001b[0;32mas\u001b[0m \u001b[0merr\u001b[0m\u001b[0;34m:\u001b[0m\u001b[0;34m\u001b[0m\u001b[0;34m\u001b[0m\u001b[0m\n\u001b[0;32m--> 355\u001b[0;31m             \u001b[0;32mraise\u001b[0m \u001b[0mJSONDecodeError\u001b[0m\u001b[0;34m(\u001b[0m\u001b[0;34m\"Expecting value\"\u001b[0m\u001b[0;34m,\u001b[0m \u001b[0ms\u001b[0m\u001b[0;34m,\u001b[0m \u001b[0merr\u001b[0m\u001b[0;34m.\u001b[0m\u001b[0mvalue\u001b[0m\u001b[0;34m)\u001b[0m \u001b[0;32mfrom\u001b[0m \u001b[0;32mNone\u001b[0m\u001b[0;34m\u001b[0m\u001b[0;34m\u001b[0m\u001b[0m\n\u001b[0m\u001b[1;32m    356\u001b[0m         \u001b[0;32mreturn\u001b[0m \u001b[0mobj\u001b[0m\u001b[0;34m,\u001b[0m \u001b[0mend\u001b[0m\u001b[0;34m\u001b[0m\u001b[0;34m\u001b[0m\u001b[0m\n",
      "\u001b[0;31mJSONDecodeError\u001b[0m: Expecting value: line 1 column 1 (char 0)"
     ]
    }
   ],
   "source": [
    "urlApi = \"https://commons.wikipedia.org/w/api.php\"\n",
    "\n",
    "encoded_body = {\n",
    "    \"action\": \"query\",\n",
    "    \"cmtitle\": pagetoCheck,\n",
    "    \"cmlimit\": \"max\",\n",
    "    \"prop\": \"links\",\n",
    "    \"format\": \"json\"\n",
    "}\n",
    "print(\"encoded_body \", type(encoded_body),encoded_body)\n",
    "\n",
    "r = http.request(method='POST', url=urlApi,\n",
    "                 headers={'Content-Type': 'application/json'},\n",
    "                 body=json.dumps(encoded_body))\n",
    "    \n",
    "print(\"Status \",r.status)\n",
    "\n",
    "#wdr = http.request('Get', urlWD + \"&format=json\",\n",
    "#                 headers={'Content-Type': 'application/json'})\n",
    "    \n",
    "#datawd = json.loads(wdr.data.decode('utf-8'),) \n",
    "\n",
    "#print(r.data)\n",
    "#values = json.loads(r.data)\n",
    "#print(values)\n",
    "#data = json.loads(r.data.decode('utf-8'))    \n",
    "data = json.loads(r.data.decode('utf-8'))    \n",
    "links = data[\"query\"][\"pages\"]\n",
    "print(\"pages: \", links)\n",
    "\n",
    "while('continue' in data):\n",
    "    print(\"continue: \\t\", data['continue'])\n",
    "    #encoded_body.update(data['plcontinue'])\n",
    "    r = http.request('POST', urlcheck,\n",
    "                 headers={'Content-Type': 'application/json'},\n",
    "                 body=encoded_body)\n",
    "    data = json.loads(r.data.decode('utf-8'))    \n",
    "    links = links.update(data['query']['pages'])\n",
    "    print(\"Length:\",len(links))\n",
    "print(\"Endpages: \", len(PAGES), type(PAGES))\n"
   ]
  },
  {
   "cell_type": "code",
   "execution_count": 96,
   "id": "ed81a390",
   "metadata": {},
   "outputs": [],
   "source": [
    "#data"
   ]
  },
  {
   "cell_type": "code",
   "execution_count": 28,
   "id": "f5eea0fa",
   "metadata": {},
   "outputs": [
    {
     "name": "stdout",
     "output_type": "stream",
     "text": [
      "Antal länkar: \t 500\n"
     ]
    }
   ],
   "source": [
    "links = data[\"query\"][\"pages\"]\n",
    "#print(\"links: \", type(links),\"\\t\",links.keys(),len(links['7623443'][\"links\"]))\n",
    "print(\"Antal länkar: \\t\",len(links[list(links.keys())[0]][\"links\"]))"
   ]
  },
  {
   "cell_type": "code",
   "execution_count": 30,
   "id": "d8a54471",
   "metadata": {},
   "outputs": [
    {
     "data": {
      "application/vnd.jupyter.widget-view+json": {
       "model_id": "b06383b9ba9e438a8ad3ddcdb5679e60",
       "version_major": 2,
       "version_minor": 0
      },
      "text/plain": [
       "  0%|          | 0/500 [00:00<?, ?it/s]"
      ]
     },
     "metadata": {},
     "output_type": "display_data"
    },
    {
     "name": "stdout",
     "output_type": "stream",
     "text": [
      "14th Government of Slovenia\n",
      "\t missing GUID: \tA-lotterierna\n",
      "2018 Swedish general election\n",
      "\t missing GUID: \tA-lotterierna\n",
      "2021 Swedish government formation\n",
      "\t missing GUID: \tA-lotterierna\n",
      "A-lotterierna\n",
      "\tError A-lotterierna\n",
      "\t missing GUID: \tA-lotterierna\n",
      "Abraham Halef\n",
      "\tError Abraham Halef\n",
      "\t missing GUID: \tA-lotterierna\n",
      "Acko Ankarberg Johansson\n"
     ]
    },
    {
     "data": {
      "text/html": [
       "1: <a href=http://en.wikipedia.org/wiki/Acko%20Ankarberg%20Johansson>A-lotterierna</a> - <a href=http://www.wikidata.org/wiki/Q4936116%23P39>Q4936116</a>  - <a href=http://www.riksdagen.se/sv/ledamoter-partier/ledamot/_669a8123-3f21-4920-80f8-e4ec200ae575>Riksdagen</a> <a href=http://data.riksdagen.se/personlista/?utformat=json&iid=669a8123-3f21-4920-80f8-e4ec200ae575>json</a>"
      ],
      "text/plain": [
       "<IPython.core.display.HTML object>"
      ]
     },
     "metadata": {},
     "output_type": "display_data"
    },
    {
     "name": "stdout",
     "output_type": "stream",
     "text": [
      "Adam Marttinen\n"
     ]
    },
    {
     "data": {
      "text/html": [
       "2: <a href=http://en.wikipedia.org/wiki/Adam%20Marttinen>A-lotterierna</a> - <a href=http://www.wikidata.org/wiki/Q15963975%23P39>Q15963975</a>  - <a href=http://www.riksdagen.se/sv/ledamoter-partier/ledamot/_db2ca6ff-5620-4ece-8d31-97777f2efb48>Riksdagen</a> <a href=http://data.riksdagen.se/personlista/?utformat=json&iid=db2ca6ff-5620-4ece-8d31-97777f2efb48>json</a>"
      ],
      "text/plain": [
       "<IPython.core.display.HTML object>"
      ]
     },
     "metadata": {},
     "output_type": "display_data"
    },
    {
     "name": "stdout",
     "output_type": "stream",
     "text": [
      "Adnan Dibrani\n"
     ]
    },
    {
     "data": {
      "text/html": [
       "3: <a href=http://en.wikipedia.org/wiki/Adnan%20Dibrani>A-lotterierna</a> - <a href=http://www.wikidata.org/wiki/Q5621490%23P39>Q5621490</a>  - <a href=http://www.riksdagen.se/sv/ledamoter-partier/ledamot/_2eb5b5ce-2e8c-4063-a2c2-d03b50ff4c5d>Riksdagen</a> <a href=http://data.riksdagen.se/personlista/?utformat=json&iid=2eb5b5ce-2e8c-4063-a2c2-d03b50ff4c5d>json</a>"
      ],
      "text/plain": [
       "<IPython.core.display.HTML object>"
      ]
     },
     "metadata": {},
     "output_type": "display_data"
    },
    {
     "name": "stdout",
     "output_type": "stream",
     "text": [
      "Alexander Christiansson\n"
     ]
    },
    {
     "data": {
      "text/html": [
       "4: <a href=http://en.wikipedia.org/wiki/Alexander%20Christiansson>A-lotterierna</a> - <a href=http://www.wikidata.org/wiki/Q65499866%23P39>Q65499866</a>  - <a href=http://www.riksdagen.se/sv/ledamoter-partier/ledamot/_300c041c-1f7e-4daa-97e0-4d2ec8e6f4f5>Riksdagen</a> <a href=http://data.riksdagen.se/personlista/?utformat=json&iid=300c041c-1f7e-4daa-97e0-4d2ec8e6f4f5>json</a>"
      ],
      "text/plain": [
       "<IPython.core.display.HTML object>"
      ]
     },
     "metadata": {},
     "output_type": "display_data"
    },
    {
     "name": "stdout",
     "output_type": "stream",
     "text": [
      "Alexandra Anstrell\n",
      "\tError Alexandra Anstrell\n",
      "\t missing GUID: \tA-lotterierna\n",
      "Ali Esbati\n"
     ]
    },
    {
     "data": {
      "text/html": [
       "5: <a href=http://en.wikipedia.org/wiki/Ali%20Esbati>A-lotterierna</a> - <a href=http://www.wikidata.org/wiki/Q4724776%23P39>Q4724776</a>  - <a href=http://www.riksdagen.se/sv/ledamoter-partier/ledamot/_979e9852-69ed-4077-8140-52ab99414a6c>Riksdagen</a> <a href=http://data.riksdagen.se/personlista/?utformat=json&iid=979e9852-69ed-4077-8140-52ab99414a6c>json</a>"
      ],
      "text/plain": [
       "<IPython.core.display.HTML object>"
      ]
     },
     "metadata": {},
     "output_type": "display_data"
    },
    {
     "name": "stdout",
     "output_type": "stream",
     "text": [
      "Alireza Akhondi\n"
     ]
    },
    {
     "data": {
      "text/html": [
       "6: <a href=http://en.wikipedia.org/wiki/Alireza%20Akhondi>A-lotterierna</a> - <a href=http://www.wikidata.org/wiki/Q70621742%23P39>Q70621742</a>  - <a href=http://www.riksdagen.se/sv/ledamoter-partier/ledamot/_4099ff9c-5d27-4605-b018-98fb229d94fa>Riksdagen</a> <a href=http://data.riksdagen.se/personlista/?utformat=json&iid=4099ff9c-5d27-4605-b018-98fb229d94fa>json</a>"
      ],
      "text/plain": [
       "<IPython.core.display.HTML object>"
      ]
     },
     "metadata": {},
     "output_type": "display_data"
    },
    {
     "name": "stdout",
     "output_type": "stream",
     "text": [
      "Allan Widman\n"
     ]
    },
    {
     "data": {
      "text/html": [
       "7: <a href=http://en.wikipedia.org/wiki/Allan%20Widman>A-lotterierna</a> - <a href=http://www.wikidata.org/wiki/Q4731041%23P39>Q4731041</a>  - <a href=http://www.riksdagen.se/sv/ledamoter-partier/ledamot/_b58dac92-0bb0-4fe3-a052-9049b9a99959>Riksdagen</a> <a href=http://data.riksdagen.se/personlista/?utformat=json&iid=b58dac92-0bb0-4fe3-a052-9049b9a99959>json</a>"
      ],
      "text/plain": [
       "<IPython.core.display.HTML object>"
      ]
     },
     "metadata": {},
     "output_type": "display_data"
    },
    {
     "name": "stdout",
     "output_type": "stream",
     "text": [
      "Amanda Palmstierna\n"
     ]
    },
    {
     "data": {
      "text/html": [
       "8: <a href=http://en.wikipedia.org/wiki/Amanda%20Palmstierna>A-lotterierna</a> - <a href=http://www.wikidata.org/wiki/Q71137237%23P39>Q71137237</a>  - <a href=http://www.riksdagen.se/sv/ledamoter-partier/ledamot/_d12313ba-680b-4784-b858-5c9e6db692e7>Riksdagen</a> <a href=http://data.riksdagen.se/personlista/?utformat=json&iid=d12313ba-680b-4784-b858-5c9e6db692e7>json</a>"
      ],
      "text/plain": [
       "<IPython.core.display.HTML object>"
      ]
     },
     "metadata": {},
     "output_type": "display_data"
    },
    {
     "name": "stdout",
     "output_type": "stream",
     "text": [
      "Amineh Kakabaveh\n"
     ]
    },
    {
     "data": {
      "text/html": [
       "9: <a href=http://en.wikipedia.org/wiki/Amineh%20Kakabaveh>A-lotterierna</a> - <a href=http://www.wikidata.org/wiki/Q3675519%23P39>Q3675519</a>  - <a href=http://www.riksdagen.se/sv/ledamoter-partier/ledamot/_8399ff3f-1fbe-4984-b59c-4ada1ec670ec>Riksdagen</a> <a href=http://data.riksdagen.se/personlista/?utformat=json&iid=8399ff3f-1fbe-4984-b59c-4ada1ec670ec>json</a>"
      ],
      "text/plain": [
       "<IPython.core.display.HTML object>"
      ]
     },
     "metadata": {},
     "output_type": "display_data"
    },
    {
     "name": "stdout",
     "output_type": "stream",
     "text": [
      "Anders Hansson (politician)\n"
     ]
    },
    {
     "data": {
      "text/html": [
       "10: <a href=http://en.wikipedia.org/wiki/Anders%20Hansson%20%28politician%29>A-lotterierna</a> - <a href=http://www.wikidata.org/wiki/Q4753804%23P39>Q4753804</a>  - <a href=http://www.riksdagen.se/sv/ledamoter-partier/ledamot/_fa84d5df-e8ef-43be-beff-a71453d18ebc>Riksdagen</a> <a href=http://data.riksdagen.se/personlista/?utformat=json&iid=fa84d5df-e8ef-43be-beff-a71453d18ebc>json</a>"
      ],
      "text/plain": [
       "<IPython.core.display.HTML object>"
      ]
     },
     "metadata": {},
     "output_type": "display_data"
    },
    {
     "name": "stdout",
     "output_type": "stream",
     "text": [
      "Anders Nilsson (politician)\n",
      "\tError Anders Nilsson (politician)\n",
      "\t missing GUID: \tA-lotterierna\n",
      "Anders W. Jonsson\n"
     ]
    },
    {
     "data": {
      "text/html": [
       "11: <a href=http://en.wikipedia.org/wiki/Anders%20W.%20Jonsson>A-lotterierna</a> - <a href=http://www.wikidata.org/wiki/Q5891398%23P39>Q5891398</a>  - <a href=http://www.riksdagen.se/sv/ledamoter-partier/ledamot/_6ad91da1-1287-4e8f-9778-3315390fdfca>Riksdagen</a> <a href=http://data.riksdagen.se/personlista/?utformat=json&iid=6ad91da1-1287-4e8f-9778-3315390fdfca>json</a>"
      ],
      "text/plain": [
       "<IPython.core.display.HTML object>"
      ]
     },
     "metadata": {},
     "output_type": "display_data"
    },
    {
     "name": "stdout",
     "output_type": "stream",
     "text": [
      "Anders Ygeman\n"
     ]
    },
    {
     "data": {
      "text/html": [
       "12: <a href=http://en.wikipedia.org/wiki/Anders%20Ygeman>A-lotterierna</a> - <a href=http://www.wikidata.org/wiki/Q3375050%23P39>Q3375050</a>  - <a href=http://www.riksdagen.se/sv/ledamoter-partier/ledamot/_d7c3235d-83e4-11d4-ae60-0050040c9b55>Riksdagen</a> <a href=http://data.riksdagen.se/personlista/?utformat=json&iid=d7c3235d-83e4-11d4-ae60-0050040c9b55>json</a>"
      ],
      "text/plain": [
       "<IPython.core.display.HTML object>"
      ]
     },
     "metadata": {},
     "output_type": "display_data"
    },
    {
     "name": "stdout",
     "output_type": "stream",
     "text": [
      "Anders Åkesson\n"
     ]
    },
    {
     "data": {
      "text/html": [
       "13: <a href=http://en.wikipedia.org/wiki/Anders%20%C3%85kesson>A-lotterierna</a> - <a href=http://www.wikidata.org/wiki/Q6255521%23P39>Q6255521</a>  - <a href=http://www.riksdagen.se/sv/ledamoter-partier/ledamot/_48144b97-5799-422d-9ede-8b2dd360ca19>Riksdagen</a> <a href=http://data.riksdagen.se/personlista/?utformat=json&iid=48144b97-5799-422d-9ede-8b2dd360ca19>json</a>"
      ],
      "text/plain": [
       "<IPython.core.display.HTML object>"
      ]
     },
     "metadata": {},
     "output_type": "display_data"
    },
    {
     "name": "stdout",
     "output_type": "stream",
     "text": [
      "Anders Österberg\n",
      "\tError Anders Österberg\n",
      "\t missing GUID: \tA-lotterierna\n",
      "Andreas Carlson\n",
      "\tError Andreas Carlson\n",
      "\t missing GUID: \tA-lotterierna\n",
      "Andrej Babiš' Second Cabinet\n",
      "\t missing GUID: \tA-lotterierna\n",
      "Angelica Lundberg\n"
     ]
    },
    {
     "data": {
      "text/html": [
       "14: <a href=http://en.wikipedia.org/wiki/Angelica%20Lundberg>A-lotterierna</a> - <a href=http://www.wikidata.org/wiki/Q71062310%23P39>Q71062310</a>  - <a href=http://www.riksdagen.se/sv/ledamoter-partier/ledamot/_a7ca5ca6-2e77-4360-8369-0671993019c4>Riksdagen</a> <a href=http://data.riksdagen.se/personlista/?utformat=json&iid=a7ca5ca6-2e77-4360-8369-0671993019c4>json</a>"
      ],
      "text/plain": [
       "<IPython.core.display.HTML object>"
      ]
     },
     "metadata": {},
     "output_type": "display_data"
    },
    {
     "name": "stdout",
     "output_type": "stream",
     "text": [
      "Angelika Bengtsson\n"
     ]
    },
    {
     "data": {
      "text/html": [
       "15: <a href=http://en.wikipedia.org/wiki/Angelika%20Bengtsson>A-lotterierna</a> - <a href=http://www.wikidata.org/wiki/Q18237639%23P39>Q18237639</a>  - <a href=http://www.riksdagen.se/sv/ledamoter-partier/ledamot/_9d68c0c3-2102-402d-998f-dc56a410d19d>Riksdagen</a> <a href=http://data.riksdagen.se/personlista/?utformat=json&iid=9d68c0c3-2102-402d-998f-dc56a410d19d>json</a>"
      ],
      "text/plain": [
       "<IPython.core.display.HTML object>"
      ]
     },
     "metadata": {},
     "output_type": "display_data"
    },
    {
     "name": "stdout",
     "output_type": "stream",
     "text": [
      "Ann-Britt Åsebol\n",
      "\tError Ann-Britt Åsebol\n",
      "\t missing GUID: \tA-lotterierna\n",
      "Ann-Charlotte Hammar Johnsson\n"
     ]
    },
    {
     "data": {
      "text/html": [
       "16: <a href=http://en.wikipedia.org/wiki/Ann-Charlotte%20Hammar%20Johnsson>A-lotterierna</a> - <a href=http://www.wikidata.org/wiki/Q4766168%23P39>Q4766168</a>  - <a href=http://www.riksdagen.se/sv/ledamoter-partier/ledamot/_5ac51ad6-c8ea-4ce6-bcd5-b8609d6c058a>Riksdagen</a> <a href=http://data.riksdagen.se/personlista/?utformat=json&iid=5ac51ad6-c8ea-4ce6-bcd5-b8609d6c058a>json</a>"
      ],
      "text/plain": [
       "<IPython.core.display.HTML object>"
      ]
     },
     "metadata": {},
     "output_type": "display_data"
    },
    {
     "name": "stdout",
     "output_type": "stream",
     "text": [
      "Ann-Christin Ahlberg\n"
     ]
    },
    {
     "data": {
      "text/html": [
       "17: <a href=http://en.wikipedia.org/wiki/Ann-Christin%20Ahlberg>A-lotterierna</a> - <a href=http://www.wikidata.org/wiki/Q3375059%23P39>Q3375059</a>  - <a href=http://www.riksdagen.se/sv/ledamoter-partier/ledamot/_8583281e-3621-49fd-a131-661a0f432452>Riksdagen</a> <a href=http://data.riksdagen.se/personlista/?utformat=json&iid=8583281e-3621-49fd-a131-661a0f432452>json</a>"
      ],
      "text/plain": [
       "<IPython.core.display.HTML object>"
      ]
     },
     "metadata": {},
     "output_type": "display_data"
    },
    {
     "name": "stdout",
     "output_type": "stream",
     "text": [
      "Ann-Christine From Utterstedt\n"
     ]
    },
    {
     "data": {
      "text/html": [
       "18: <a href=http://en.wikipedia.org/wiki/Ann-Christine%20From%20Utterstedt>A-lotterierna</a> - <a href=http://www.wikidata.org/wiki/Q71133291%23P39>Q71133291</a>  - <a href=http://www.riksdagen.se/sv/ledamoter-partier/ledamot/_3298ed49-917f-4230-8cf5-e10a70a93727>Riksdagen</a> <a href=http://data.riksdagen.se/personlista/?utformat=json&iid=3298ed49-917f-4230-8cf5-e10a70a93727>json</a>"
      ],
      "text/plain": [
       "<IPython.core.display.HTML object>"
      ]
     },
     "metadata": {},
     "output_type": "display_data"
    },
    {
     "name": "stdout",
     "output_type": "stream",
     "text": [
      "Ann-Sofie Alm\n",
      "\tError Ann-Sofie Alm\n",
      "\t missing GUID: \tA-lotterierna\n",
      "Ann-Sofie Lifvenhage\n"
     ]
    },
    {
     "data": {
      "text/html": [
       "19: <a href=http://en.wikipedia.org/wiki/Ann-Sofie%20Lifvenhage>A-lotterierna</a> - <a href=http://www.wikidata.org/wiki/Q71131299%23P39>Q71131299</a>  - <a href=http://www.riksdagen.se/sv/ledamoter-partier/ledamot/_16c58b85-7b9a-4f36-9160-3a40680f433c>Riksdagen</a> <a href=http://data.riksdagen.se/personlista/?utformat=json&iid=16c58b85-7b9a-4f36-9160-3a40680f433c>json</a>"
      ],
      "text/plain": [
       "<IPython.core.display.HTML object>"
      ]
     },
     "metadata": {},
     "output_type": "display_data"
    },
    {
     "name": "stdout",
     "output_type": "stream",
     "text": [
      "Ann Linde\n"
     ]
    },
    {
     "data": {
      "text/html": [
       "20: <a href=http://en.wikipedia.org/wiki/Ann%20Linde>A-lotterierna</a> - <a href=http://www.wikidata.org/wiki/Q18243775%23P39>Q18243775</a>  - <a href=http://www.riksdagen.se/sv/ledamoter-partier/ledamot/_908c814e-d988-4e03-af5a-9ce8b1237433>Riksdagen</a> <a href=http://data.riksdagen.se/personlista/?utformat=json&iid=908c814e-d988-4e03-af5a-9ce8b1237433>json</a>"
      ],
      "text/plain": [
       "<IPython.core.display.HTML object>"
      ]
     },
     "metadata": {},
     "output_type": "display_data"
    },
    {
     "name": "stdout",
     "output_type": "stream",
     "text": [
      "Anna-Caren Sätherberg\n"
     ]
    },
    {
     "data": {
      "text/html": [
       "21: <a href=http://en.wikipedia.org/wiki/Anna-Caren%20S%C3%A4therberg>A-lotterierna</a> - <a href=http://www.wikidata.org/wiki/Q18202413%23P39>Q18202413</a>  - <a href=http://www.riksdagen.se/sv/ledamoter-partier/ledamot/_c2917e84-a1f8-4de8-9c71-a492eee1f43f>Riksdagen</a> <a href=http://data.riksdagen.se/personlista/?utformat=json&iid=c2917e84-a1f8-4de8-9c71-a492eee1f43f>json</a>"
      ],
      "text/plain": [
       "<IPython.core.display.HTML object>"
      ]
     },
     "metadata": {},
     "output_type": "display_data"
    },
    {
     "name": "stdout",
     "output_type": "stream",
     "text": [
      "Anna Ekström\n"
     ]
    },
    {
     "data": {
      "text/html": [
       "22: <a href=http://en.wikipedia.org/wiki/Anna%20Ekstr%C3%B6m>A-lotterierna</a> - <a href=http://www.wikidata.org/wiki/Q4946204%23P39>Q4946204</a>  - <a href=http://www.riksdagen.se/sv/ledamoter-partier/ledamot/_d39218ba-1b36-44bb-aa6a-d646a4bdd9e0>Riksdagen</a> <a href=http://data.riksdagen.se/personlista/?utformat=json&iid=d39218ba-1b36-44bb-aa6a-d646a4bdd9e0>json</a>"
      ],
      "text/plain": [
       "<IPython.core.display.HTML object>"
      ]
     },
     "metadata": {},
     "output_type": "display_data"
    },
    {
     "name": "stdout",
     "output_type": "stream",
     "text": [
      "Anna Hallberg\n"
     ]
    },
    {
     "data": {
      "text/html": [
       "23: <a href=http://en.wikipedia.org/wiki/Anna%20Hallberg>A-lotterierna</a> - <a href=http://www.wikidata.org/wiki/Q67207189%23P39>Q67207189</a>  - <a href=http://www.riksdagen.se/sv/ledamoter-partier/ledamot/_10e2970c-6a3c-4927-9aed-e7242c45367e>Riksdagen</a> <a href=http://data.riksdagen.se/personlista/?utformat=json&iid=10e2970c-6a3c-4927-9aed-e7242c45367e>json</a>"
      ],
      "text/plain": [
       "<IPython.core.display.HTML object>"
      ]
     },
     "metadata": {},
     "output_type": "display_data"
    },
    {
     "name": "stdout",
     "output_type": "stream",
     "text": [
      "Anna Johansson (politician)\n"
     ]
    },
    {
     "data": {
      "text/html": [
       "24: <a href=http://en.wikipedia.org/wiki/Anna%20Johansson%20%28politician%29>A-lotterierna</a> - <a href=http://www.wikidata.org/wiki/Q4956893%23P39>Q4956893</a>  - <a href=http://www.riksdagen.se/sv/ledamoter-partier/ledamot/_9fd034bc-17ce-471b-b78c-94e03b34f7a0>Riksdagen</a> <a href=http://data.riksdagen.se/personlista/?utformat=json&iid=9fd034bc-17ce-471b-b78c-94e03b34f7a0>json</a>"
      ],
      "text/plain": [
       "<IPython.core.display.HTML object>"
      ]
     },
     "metadata": {},
     "output_type": "display_data"
    },
    {
     "name": "stdout",
     "output_type": "stream",
     "text": [
      "Anna Sibinska\n"
     ]
    },
    {
     "data": {
      "text/html": [
       "25: <a href=http://en.wikipedia.org/wiki/Anna%20Sibinska>A-lotterierna</a> - <a href=http://www.wikidata.org/wiki/Q57168710%23P39>Q57168710</a>  - <a href=http://www.riksdagen.se/sv/ledamoter-partier/ledamot/_214d9393-c01e-497c-8580-d033b9f57705>Riksdagen</a> <a href=http://data.riksdagen.se/personlista/?utformat=json&iid=214d9393-c01e-497c-8580-d033b9f57705>json</a>"
      ],
      "text/plain": [
       "<IPython.core.display.HTML object>"
      ]
     },
     "metadata": {},
     "output_type": "display_data"
    },
    {
     "name": "stdout",
     "output_type": "stream",
     "text": [
      "Anna Vikström\n"
     ]
    },
    {
     "data": {
      "text/html": [
       "26: <a href=http://en.wikipedia.org/wiki/Anna%20Vikstr%C3%B6m>A-lotterierna</a> - <a href=http://www.wikidata.org/wiki/Q27107494%23P39>Q27107494</a>  - <a href=http://www.riksdagen.se/sv/ledamoter-partier/ledamot/_fb0337ec-a1b0-440e-b9b4-a48e99fd415c>Riksdagen</a> <a href=http://data.riksdagen.se/personlista/?utformat=json&iid=fb0337ec-a1b0-440e-b9b4-a48e99fd415c>json</a>"
      ],
      "text/plain": [
       "<IPython.core.display.HTML object>"
      ]
     },
     "metadata": {},
     "output_type": "display_data"
    },
    {
     "name": "stdout",
     "output_type": "stream",
     "text": [
      "Anna Wallentheim\n"
     ]
    },
    {
     "data": {
      "text/html": [
       "27: <a href=http://en.wikipedia.org/wiki/Anna%20Wallentheim>A-lotterierna</a> - <a href=http://www.wikidata.org/wiki/Q18202414%23P39>Q18202414</a>  - <a href=http://www.riksdagen.se/sv/ledamoter-partier/ledamot/_200035cd-228a-4afa-8849-844f2c1e35fb>Riksdagen</a> <a href=http://data.riksdagen.se/personlista/?utformat=json&iid=200035cd-228a-4afa-8849-844f2c1e35fb>json</a>"
      ],
      "text/plain": [
       "<IPython.core.display.HTML object>"
      ]
     },
     "metadata": {},
     "output_type": "display_data"
    },
    {
     "name": "stdout",
     "output_type": "stream",
     "text": [
      "Anne Oskarsson\n"
     ]
    },
    {
     "data": {
      "text/html": [
       "28: <a href=http://en.wikipedia.org/wiki/Anne%20Oskarsson>A-lotterierna</a> - <a href=http://www.wikidata.org/wiki/Q71063276%23P39>Q71063276</a>  - <a href=http://www.riksdagen.se/sv/ledamoter-partier/ledamot/_314fe869-7e6c-441f-8d1f-5ab2c6052f1d>Riksdagen</a> <a href=http://data.riksdagen.se/personlista/?utformat=json&iid=314fe869-7e6c-441f-8d1f-5ab2c6052f1d>json</a>"
      ],
      "text/plain": [
       "<IPython.core.display.HTML object>"
      ]
     },
     "metadata": {},
     "output_type": "display_data"
    },
    {
     "name": "stdout",
     "output_type": "stream",
     "text": [
      "Annelie Karlsson\n"
     ]
    },
    {
     "data": {
      "text/html": [
       "29: <a href=http://en.wikipedia.org/wiki/Annelie%20Karlsson>A-lotterierna</a> - <a href=http://www.wikidata.org/wiki/Q4958102%23P39>Q4958102</a>  - <a href=http://www.riksdagen.se/sv/ledamoter-partier/ledamot/_cbadd933-3375-4216-92fd-3d64a56b5a13>Riksdagen</a> <a href=http://data.riksdagen.se/personlista/?utformat=json&iid=cbadd933-3375-4216-92fd-3d64a56b5a13>json</a>"
      ],
      "text/plain": [
       "<IPython.core.display.HTML object>"
      ]
     },
     "metadata": {},
     "output_type": "display_data"
    },
    {
     "name": "stdout",
     "output_type": "stream",
     "text": [
      "Annicka Engblom\n"
     ]
    },
    {
     "data": {
      "text/html": [
       "30: <a href=http://en.wikipedia.org/wiki/Annicka%20Engblom>A-lotterierna</a> - <a href=http://www.wikidata.org/wiki/Q4769201%23P39>Q4769201</a>  - <a href=http://www.riksdagen.se/sv/ledamoter-partier/ledamot/_23c1d1cc-f2a2-47f1-b144-0d52a464791a>Riksdagen</a> <a href=http://data.riksdagen.se/personlista/?utformat=json&iid=23c1d1cc-f2a2-47f1-b144-0d52a464791a>json</a>"
      ],
      "text/plain": [
       "<IPython.core.display.HTML object>"
      ]
     },
     "metadata": {},
     "output_type": "display_data"
    },
    {
     "name": "stdout",
     "output_type": "stream",
     "text": [
      "Annie Lööf\n"
     ]
    },
    {
     "data": {
      "text/html": [
       "31: <a href=http://en.wikipedia.org/wiki/Annie%20L%C3%B6%C3%B6f>A-lotterierna</a> - <a href=http://www.wikidata.org/wiki/Q439393%23P39>Q439393</a>  - <a href=http://www.riksdagen.se/sv/ledamoter-partier/ledamot/_e234524d-e04b-448a-b609-05926a0a8b36>Riksdagen</a> <a href=http://data.riksdagen.se/personlista/?utformat=json&iid=e234524d-e04b-448a-b609-05926a0a8b36>json</a>"
      ],
      "text/plain": [
       "<IPython.core.display.HTML object>"
      ]
     },
     "metadata": {},
     "output_type": "display_data"
    },
    {
     "name": "stdout",
     "output_type": "stream",
     "text": [
      "Annika Hirvonen\n",
      "\tError Annika Hirvonen\n",
      "\t missing GUID: \tA-lotterierna\n",
      "Annika Qarlsson\n"
     ]
    },
    {
     "data": {
      "text/html": [
       "32: <a href=http://en.wikipedia.org/wiki/Annika%20Qarlsson>A-lotterierna</a> - <a href=http://www.wikidata.org/wiki/Q4769498%23P39>Q4769498</a>  - <a href=http://www.riksdagen.se/sv/ledamoter-partier/ledamot/_238444e1-ea5f-4acc-b9d1-b7789658b931>Riksdagen</a> <a href=http://data.riksdagen.se/personlista/?utformat=json&iid=238444e1-ea5f-4acc-b9d1-b7789658b931>json</a>"
      ],
      "text/plain": [
       "<IPython.core.display.HTML object>"
      ]
     },
     "metadata": {},
     "output_type": "display_data"
    },
    {
     "name": "stdout",
     "output_type": "stream",
     "text": [
      "Annika Strandhäll\n"
     ]
    },
    {
     "data": {
      "text/html": [
       "33: <a href=http://en.wikipedia.org/wiki/Annika%20Strandh%C3%A4ll>A-lotterierna</a> - <a href=http://www.wikidata.org/wiki/Q4980750%23P39>Q4980750</a>  - <a href=http://www.riksdagen.se/sv/ledamoter-partier/ledamot/_83b5647b-ccf4-4398-aefb-6d93152f951b>Riksdagen</a> <a href=http://data.riksdagen.se/personlista/?utformat=json&iid=83b5647b-ccf4-4398-aefb-6d93152f951b>json</a>"
      ],
      "text/plain": [
       "<IPython.core.display.HTML object>"
      ]
     },
     "metadata": {},
     "output_type": "display_data"
    },
    {
     "name": "stdout",
     "output_type": "stream",
     "text": [
      "Arbetarnas bildningsförbund\n",
      "\t missing GUID: \tA-lotterierna\n",
      "Ardalan Shekarabi\n"
     ]
    },
    {
     "data": {
      "text/html": [
       "34: <a href=http://en.wikipedia.org/wiki/Ardalan%20Shekarabi>A-lotterierna</a> - <a href=http://www.wikidata.org/wiki/Q4787806%23P39>Q4787806</a>  - <a href=http://www.riksdagen.se/sv/ledamoter-partier/ledamot/_b2bb1d34-0f20-4daf-b26e-8916bb911075>Riksdagen</a> <a href=http://data.riksdagen.se/personlista/?utformat=json&iid=b2bb1d34-0f20-4daf-b26e-8916bb911075>json</a>"
      ],
      "text/plain": [
       "<IPython.core.display.HTML object>"
      ]
     },
     "metadata": {},
     "output_type": "display_data"
    },
    {
     "name": "stdout",
     "output_type": "stream",
     "text": [
      "Arin Karapet\n",
      "\tError Arin Karapet\n",
      "\t missing GUID: \tA-lotterierna\n",
      "Arman Teimouri\n",
      "\tError Arman Teimouri\n",
      "\t missing GUID: \tA-lotterierna\n",
      "Aron Emilsson\n"
     ]
    },
    {
     "data": {
      "text/html": [
       "35: <a href=http://en.wikipedia.org/wiki/Aron%20Emilsson>A-lotterierna</a> - <a href=http://www.wikidata.org/wiki/Q18238607%23P39>Q18238607</a>  - <a href=http://www.riksdagen.se/sv/ledamoter-partier/ledamot/_fc43f0dc-4fc1-4e6e-ba11-5b74b20a12b2>Riksdagen</a> <a href=http://data.riksdagen.se/personlista/?utformat=json&iid=fc43f0dc-4fc1-4e6e-ba11-5b74b20a12b2>json</a>"
      ],
      "text/plain": [
       "<IPython.core.display.HTML object>"
      ]
     },
     "metadata": {},
     "output_type": "display_data"
    },
    {
     "name": "stdout",
     "output_type": "stream",
     "text": [
      "Austria\n",
      "\t missing GUID: \tA-lotterierna\n",
      "Azadeh Rojhan Gustafsson\n"
     ]
    },
    {
     "data": {
      "text/html": [
       "36: <a href=http://en.wikipedia.org/wiki/Azadeh%20Rojhan%20Gustafsson>A-lotterierna</a> - <a href=http://www.wikidata.org/wiki/Q18245444%23P39>Q18245444</a>  - <a href=http://www.riksdagen.se/sv/ledamoter-partier/ledamot/_c325b529-3455-44a2-acd2-597698b321a6>Riksdagen</a> <a href=http://data.riksdagen.se/personlista/?utformat=json&iid=c325b529-3455-44a2-acd2-597698b321a6>json</a>"
      ],
      "text/plain": [
       "<IPython.core.display.HTML object>"
      ]
     },
     "metadata": {},
     "output_type": "display_data"
    },
    {
     "name": "stdout",
     "output_type": "stream",
     "text": [
      "Barbro Westerholm\n"
     ]
    },
    {
     "data": {
      "text/html": [
       "37: <a href=http://en.wikipedia.org/wiki/Barbro%20Westerholm>A-lotterierna</a> - <a href=http://www.wikidata.org/wiki/Q4859755%23P39>Q4859755</a>  - <a href=http://www.riksdagen.se/sv/ledamoter-partier/ledamot/_e7e41401-b4df-11d5-8079-0040ca16072a>Riksdagen</a> <a href=http://data.riksdagen.se/personlista/?utformat=json&iid=e7e41401-b4df-11d5-8079-0040ca16072a>json</a>"
      ],
      "text/plain": [
       "<IPython.core.display.HTML object>"
      ]
     },
     "metadata": {},
     "output_type": "display_data"
    },
    {
     "name": "stdout",
     "output_type": "stream",
     "text": [
      "Belgium\n",
      "\t missing GUID: \tA-lotterierna\n",
      "Bengt Eliasson\n"
     ]
    },
    {
     "data": {
      "text/html": [
       "38: <a href=http://en.wikipedia.org/wiki/Bengt%20Eliasson>A-lotterierna</a> - <a href=http://www.wikidata.org/wiki/Q18747077%23P39>Q18747077</a>  - <a href=http://www.riksdagen.se/sv/ledamoter-partier/ledamot/_18cd4aa9-d266-4c2b-bcaa-6118032ece49>Riksdagen</a> <a href=http://data.riksdagen.se/personlista/?utformat=json&iid=18cd4aa9-d266-4c2b-bcaa-6118032ece49>json</a>"
      ],
      "text/plain": [
       "<IPython.core.display.HTML object>"
      ]
     },
     "metadata": {},
     "output_type": "display_data"
    },
    {
     "name": "stdout",
     "output_type": "stream",
     "text": [
      "Bettel–Schneider Ministry II\n",
      "\t missing GUID: \tA-lotterierna\n",
      "Betty Malmberg\n"
     ]
    },
    {
     "data": {
      "text/html": [
       "39: <a href=http://en.wikipedia.org/wiki/Betty%20Malmberg>A-lotterierna</a> - <a href=http://www.wikidata.org/wiki/Q4898916%23P39>Q4898916</a>  - <a href=http://www.riksdagen.se/sv/ledamoter-partier/ledamot/_e32075e3-a115-4add-8652-4993f2f8d8ab>Riksdagen</a> <a href=http://data.riksdagen.se/personlista/?utformat=json&iid=e32075e3-a115-4add-8652-4993f2f8d8ab>json</a>"
      ],
      "text/plain": [
       "<IPython.core.display.HTML object>"
      ]
     },
     "metadata": {},
     "output_type": "display_data"
    },
    {
     "name": "stdout",
     "output_type": "stream",
     "text": [
      "Bildt Cabinet\n",
      "\t missing GUID: \tA-lotterierna\n",
      "Birger Lahti\n",
      "\tError Birger Lahti\n",
      "\t missing GUID: \tA-lotterierna\n",
      "Björn Petersson\n",
      "\tError Björn Petersson\n",
      "\t missing GUID: \tA-lotterierna\n",
      "Björn Söder\n"
     ]
    },
    {
     "data": {
      "text/html": [
       "40: <a href=http://en.wikipedia.org/wiki/Bj%C3%B6rn%20S%C3%B6der>A-lotterierna</a> - <a href=http://www.wikidata.org/wiki/Q4919772%23P39>Q4919772</a>  - <a href=http://www.riksdagen.se/sv/ledamoter-partier/ledamot/_06d7c195-c170-4103-bcc6-1d9c0d43b169>Riksdagen</a> <a href=http://data.riksdagen.se/personlista/?utformat=json&iid=06d7c195-c170-4103-bcc6-1d9c0d43b169>json</a>"
      ],
      "text/plain": [
       "<IPython.core.display.HTML object>"
      ]
     },
     "metadata": {},
     "output_type": "display_data"
    },
    {
     "name": "stdout",
     "output_type": "stream",
     "text": [
      "Björn Wiechel\n",
      "\tError Björn Wiechel\n",
      "\t missing GUID: \tA-lotterierna\n",
      "Bo Broman\n"
     ]
    },
    {
     "data": {
      "text/html": [
       "41: <a href=http://en.wikipedia.org/wiki/Bo%20Broman>A-lotterierna</a> - <a href=http://www.wikidata.org/wiki/Q70912742%23P39>Q70912742</a>  - <a href=http://www.riksdagen.se/sv/ledamoter-partier/ledamot/_24c753af-11ea-4c6f-90f9-f4142fc71e19>Riksdagen</a> <a href=http://data.riksdagen.se/personlista/?utformat=json&iid=24c753af-11ea-4c6f-90f9-f4142fc71e19>json</a>"
      ],
      "text/plain": [
       "<IPython.core.display.HTML object>"
      ]
     },
     "metadata": {},
     "output_type": "display_data"
    },
    {
     "name": "stdout",
     "output_type": "stream",
     "text": [
      "Bo Toresson\n",
      "\tError Bo Toresson\n",
      "\t missing GUID: \tA-lotterierna\n",
      "Boriana Åberg\n"
     ]
    },
    {
     "data": {
      "text/html": [
       "42: <a href=http://en.wikipedia.org/wiki/Boriana%20%C3%85berg>A-lotterierna</a> - <a href=http://www.wikidata.org/wiki/Q4990984%23P39>Q4990984</a>  - <a href=http://www.riksdagen.se/sv/ledamoter-partier/ledamot/_d3628aa4-ea6a-4466-8e2c-f3d0cb2d9cad>Riksdagen</a> <a href=http://data.riksdagen.se/personlista/?utformat=json&iid=d3628aa4-ea6a-4466-8e2c-f3d0cb2d9cad>json</a>"
      ],
      "text/plain": [
       "<IPython.core.display.HTML object>"
      ]
     },
     "metadata": {},
     "output_type": "display_data"
    },
    {
     "name": "stdout",
     "output_type": "stream",
     "text": [
      "Boström II Cabinet\n",
      "\tError Boström II Cabinet\n",
      "\t missing GUID: \tA-lotterierna\n",
      "Boström I Cabinet\n",
      "\tError Boström I Cabinet\n",
      "\t missing GUID: \tA-lotterierna\n",
      "Branting III Cabinet\n",
      "\t missing GUID: \tA-lotterierna\n",
      "Branting II Cabinet\n",
      "\t missing GUID: \tA-lotterierna\n",
      "Branting I Cabinet\n",
      "\t missing GUID: \tA-lotterierna\n",
      "Britt Bohlin Olsson\n"
     ]
    },
    {
     "data": {
      "text/html": [
       "43: <a href=http://en.wikipedia.org/wiki/Britt%20Bohlin%20Olsson>A-lotterierna</a> - <a href=http://www.wikidata.org/wiki/Q4939797%23P39>Q4939797</a>  - <a href=http://www.riksdagen.se/sv/ledamoter-partier/ledamot/_d7c31b20-83e4-11d4-ae60-0050040c9b55>Riksdagen</a> <a href=http://data.riksdagen.se/personlista/?utformat=json&iid=d7c31b20-83e4-11d4-ae60-0050040c9b55>json</a>"
      ],
      "text/plain": [
       "<IPython.core.display.HTML object>"
      ]
     },
     "metadata": {},
     "output_type": "display_data"
    },
    {
     "name": "stdout",
     "output_type": "stream",
     "text": [
      "Bulgaria\n",
      "\t missing GUID: \tA-lotterierna\n",
      "Cabinet of Andrej Plenković II\n",
      "\t missing GUID: \tA-lotterierna\n",
      "Cabinet of Charles XIII\n",
      "\tError Cabinet of Charles XIII\n",
      "\t missing GUID: \tA-lotterierna\n",
      "Cabinet of Charles XIV John (from 1840)\n",
      "\tError Cabinet of Charles XIV John (from 1840)\n",
      "\t missing GUID: \tA-lotterierna\n",
      "Cabinet of Charles XIV John (until 1840)\n",
      "\tError Cabinet of Charles XIV John (until 1840)\n",
      "\t missing GUID: \tA-lotterierna\n",
      "Cabinet of Charles XV\n",
      "\tError Cabinet of Charles XV\n",
      "\t missing GUID: \tA-lotterierna\n",
      "Cabinet of Kyriakos Mitsotakis\n",
      "\t missing GUID: \tA-lotterierna\n",
      "Cabinet of Oscar I\n",
      "\tError Cabinet of Oscar I\n",
      "\t missing GUID: \tA-lotterierna\n",
      "Cabinet of Oscar II\n",
      "\tError Cabinet of Oscar II\n",
      "\t missing GUID: \tA-lotterierna\n",
      "Camilla Brodin\n",
      "\tError Camilla Brodin\n",
      "\t missing GUID: \tA-lotterierna\n",
      "Camilla Hansén\n"
     ]
    },
    {
     "data": {
      "text/html": [
       "44: <a href=http://en.wikipedia.org/wiki/Camilla%20Hans%C3%A9n>A-lotterierna</a> - <a href=http://www.wikidata.org/wiki/Q22923559%23P39>Q22923559</a>  - <a href=http://www.riksdagen.se/sv/ledamoter-partier/ledamot/_94f81deb-b316-4a83-8712-1e4d9f102ec2>Riksdagen</a> <a href=http://data.riksdagen.se/personlista/?utformat=json&iid=94f81deb-b316-4a83-8712-1e4d9f102ec2>json</a>"
      ],
      "text/plain": [
       "<IPython.core.display.HTML object>"
      ]
     },
     "metadata": {},
     "output_type": "display_data"
    },
    {
     "name": "stdout",
     "output_type": "stream",
     "text": [
      "Camilla Waltersson Grönvall\n"
     ]
    },
    {
     "data": {
      "text/html": [
       "45: <a href=http://en.wikipedia.org/wiki/Camilla%20Waltersson%20Gr%C3%B6nvall>A-lotterierna</a> - <a href=http://www.wikidata.org/wiki/Q4990177%23P39>Q4990177</a>  - <a href=http://www.riksdagen.se/sv/ledamoter-partier/ledamot/_e581b273-02ee-4cb3-9390-35ea0061eca1>Riksdagen</a> <a href=http://data.riksdagen.se/personlista/?utformat=json&iid=e581b273-02ee-4cb3-9390-35ea0061eca1>json</a>"
      ],
      "text/plain": [
       "<IPython.core.display.HTML object>"
      ]
     },
     "metadata": {},
     "output_type": "display_data"
    },
    {
     "name": "stdout",
     "output_type": "stream",
     "text": [
      "Carin Jämtin\n"
     ]
    },
    {
     "data": {
      "text/html": [
       "46: <a href=http://en.wikipedia.org/wiki/Carin%20J%C3%A4mtin>A-lotterierna</a> - <a href=http://www.wikidata.org/wiki/Q2938797%23P39>Q2938797</a>  - <a href=http://www.riksdagen.se/sv/ledamoter-partier/ledamot/_835fee43-32d7-4f36-9489-11c05b580ef4>Riksdagen</a> <a href=http://data.riksdagen.se/personlista/?utformat=json&iid=835fee43-32d7-4f36-9489-11c05b580ef4>json</a>"
      ],
      "text/plain": [
       "<IPython.core.display.HTML object>"
      ]
     },
     "metadata": {},
     "output_type": "display_data"
    },
    {
     "name": "stdout",
     "output_type": "stream",
     "text": [
      "Carina Moberg\n"
     ]
    },
    {
     "data": {
      "text/html": [
       "47: <a href=http://en.wikipedia.org/wiki/Carina%20Moberg>A-lotterierna</a> - <a href=http://www.wikidata.org/wiki/Q2990882%23P39>Q2990882</a>  - <a href=http://www.riksdagen.se/sv/ledamoter-partier/ledamot/_d7c31f87-83e4-11d4-ae60-0050040c9b55>Riksdagen</a> <a href=http://data.riksdagen.se/personlista/?utformat=json&iid=d7c31f87-83e4-11d4-ae60-0050040c9b55>json</a>"
      ],
      "text/plain": [
       "<IPython.core.display.HTML object>"
      ]
     },
     "metadata": {},
     "output_type": "display_data"
    },
    {
     "name": "stdout",
     "output_type": "stream",
     "text": [
      "Carina Ohlsson\n"
     ]
    },
    {
     "data": {
      "text/html": [
       "48: <a href=http://en.wikipedia.org/wiki/Carina%20Ohlsson>A-lotterierna</a> - <a href=http://www.wikidata.org/wiki/Q3363827%23P39>Q3363827</a>  - <a href=http://www.riksdagen.se/sv/ledamoter-partier/ledamot/_d7c3279d-83e4-11d4-ae60-0050040c9b55>Riksdagen</a> <a href=http://data.riksdagen.se/personlista/?utformat=json&iid=d7c3279d-83e4-11d4-ae60-0050040c9b55>json</a>"
      ],
      "text/plain": [
       "<IPython.core.display.HTML object>"
      ]
     },
     "metadata": {},
     "output_type": "display_data"
    },
    {
     "name": "stdout",
     "output_type": "stream",
     "text": [
      "Carina Ståhl Herrstedt\n"
     ]
    },
    {
     "data": {
      "text/html": [
       "49: <a href=http://en.wikipedia.org/wiki/Carina%20St%C3%A5hl%20Herrstedt>A-lotterierna</a> - <a href=http://www.wikidata.org/wiki/Q4988712%23P39>Q4988712</a>  - <a href=http://www.riksdagen.se/sv/ledamoter-partier/ledamot/_96fd915b-03e4-436a-9fbd-879f0737d828>Riksdagen</a> <a href=http://data.riksdagen.se/personlista/?utformat=json&iid=96fd915b-03e4-436a-9fbd-879f0737d828>json</a>"
      ],
      "text/plain": [
       "<IPython.core.display.HTML object>"
      ]
     },
     "metadata": {},
     "output_type": "display_data"
    },
    {
     "name": "stdout",
     "output_type": "stream",
     "text": [
      "Carina Ödebrink\n",
      "\tError Carina Ödebrink\n",
      "\t missing GUID: \tA-lotterierna\n",
      "Carl-Oskar Bohlin\n",
      "\tError Carl-Oskar Bohlin\n",
      "\t missing GUID: \tA-lotterierna\n",
      "Carl Gustaf Wickman\n",
      "\tError Carl Gustaf Wickman\n",
      "\t missing GUID: \tA-lotterierna\n",
      "Carl XVI Gustaf\n",
      "\t missing GUID: \tA-lotterierna\n",
      "Carlsson III Cabinet\n",
      "\t missing GUID: \tA-lotterierna\n",
      "Carlsson II Cabinet\n",
      "\t missing GUID: \tA-lotterierna\n",
      "Carlsson I Cabinet\n",
      "\t missing GUID: \tA-lotterierna\n",
      "Caroline Helmersson Olsson\n"
     ]
    },
    {
     "data": {
      "text/html": [
       "50: <a href=http://en.wikipedia.org/wiki/Caroline%20Helmersson%20Olsson>A-lotterierna</a> - <a href=http://www.wikidata.org/wiki/Q3374751%23P39>Q3374751</a>  - <a href=http://www.riksdagen.se/sv/ledamoter-partier/ledamot/_ae67201e-c2ea-4c8d-8a62-54f12be55778>Riksdagen</a> <a href=http://data.riksdagen.se/personlista/?utformat=json&iid=ae67201e-c2ea-4c8d-8a62-54f12be55778>json</a>"
      ],
      "text/plain": [
       "<IPython.core.display.HTML object>"
      ]
     },
     "metadata": {},
     "output_type": "display_data"
    },
    {
     "name": "stdout",
     "output_type": "stream",
     "text": [
      "Caroline Nordengrip\n"
     ]
    },
    {
     "data": {
      "text/html": [
       "51: <a href=http://en.wikipedia.org/wiki/Caroline%20Nordengrip>A-lotterierna</a> - <a href=http://www.wikidata.org/wiki/Q71453214%23P39>Q71453214</a>  - <a href=http://www.riksdagen.se/sv/ledamoter-partier/ledamot/_54ecece4-3002-4cff-a4f2-f463efb2affb>Riksdagen</a> <a href=http://data.riksdagen.se/personlista/?utformat=json&iid=54ecece4-3002-4cff-a4f2-f463efb2affb>json</a>"
      ],
      "text/plain": [
       "<IPython.core.display.HTML object>"
      ]
     },
     "metadata": {},
     "output_type": "display_data"
    },
    {
     "name": "stdout",
     "output_type": "stream",
     "text": [
      "Cassandra Sundin\n"
     ]
    },
    {
     "data": {
      "text/html": [
       "52: <a href=http://en.wikipedia.org/wiki/Cassandra%20Sundin>A-lotterierna</a> - <a href=http://www.wikidata.org/wiki/Q18246234%23P39>Q18246234</a>  - <a href=http://www.riksdagen.se/sv/ledamoter-partier/ledamot/_e59e1306-99aa-4644-8fda-d54ff040ce98>Riksdagen</a> <a href=http://data.riksdagen.se/personlista/?utformat=json&iid=e59e1306-99aa-4644-8fda-d54ff040ce98>json</a>"
      ],
      "text/plain": [
       "<IPython.core.display.HTML object>"
      ]
     },
     "metadata": {},
     "output_type": "display_data"
    },
    {
     "name": "stdout",
     "output_type": "stream",
     "text": [
      "Castex government\n",
      "\t missing GUID: \tA-lotterierna\n",
      "Catarina Deremar\n"
     ]
    },
    {
     "data": {
      "text/html": [
       "53: <a href=http://en.wikipedia.org/wiki/Catarina%20Deremar>A-lotterierna</a> - <a href=http://www.wikidata.org/wiki/Q104215904%23P39>Q104215904</a>  - <a href=http://www.riksdagen.se/sv/ledamoter-partier/ledamot/_0f4ba90a-2db5-4fa8-b583-3f96edca5028>Riksdagen</a> <a href=http://data.riksdagen.se/personlista/?utformat=json&iid=0f4ba90a-2db5-4fa8-b583-3f96edca5028>json</a>"
      ],
      "text/plain": [
       "<IPython.core.display.HTML object>"
      ]
     },
     "metadata": {},
     "output_type": "display_data"
    },
    {
     "name": "stdout",
     "output_type": "stream",
     "text": [
      "Cecilia Widegren\n"
     ]
    },
    {
     "data": {
      "text/html": [
       "54: <a href=http://en.wikipedia.org/wiki/Cecilia%20Widegren>A-lotterierna</a> - <a href=http://www.wikidata.org/wiki/Q4990451%23P39>Q4990451</a>  - <a href=http://www.riksdagen.se/sv/ledamoter-partier/ledamot/_8a611e75-37ca-434d-9767-9fb3b60ea82f>Riksdagen</a> <a href=http://data.riksdagen.se/personlista/?utformat=json&iid=8a611e75-37ca-434d-9767-9fb3b60ea82f>json</a>"
      ],
      "text/plain": [
       "<IPython.core.display.HTML object>"
      ]
     },
     "metadata": {},
     "output_type": "display_data"
    },
    {
     "name": "stdout",
     "output_type": "stream",
     "text": [
      "Cecilie Tenfjord Toftby\n",
      "\tError Cecilie Tenfjord Toftby\n",
      "\t missing GUID: \tA-lotterierna\n",
      "Centre Party (Sweden)\n",
      "\t missing GUID: \tA-lotterierna\n",
      "Charlotte Quensel\n"
     ]
    },
    {
     "data": {
      "text/html": [
       "55: <a href=http://en.wikipedia.org/wiki/Charlotte%20Quensel>A-lotterierna</a> - <a href=http://www.wikidata.org/wiki/Q71455806%23P39>Q71455806</a>  - <a href=http://www.riksdagen.se/sv/ledamoter-partier/ledamot/_a4dcaec3-1333-46f3-a7df-632d40399505>Riksdagen</a> <a href=http://data.riksdagen.se/personlista/?utformat=json&iid=a4dcaec3-1333-46f3-a7df-632d40399505>json</a>"
      ],
      "text/plain": [
       "<IPython.core.display.HTML object>"
      ]
     },
     "metadata": {},
     "output_type": "display_data"
    },
    {
     "name": "stdout",
     "output_type": "stream",
     "text": [
      "Christer Nylander\n"
     ]
    },
    {
     "data": {
      "text/html": [
       "56: <a href=http://en.wikipedia.org/wiki/Christer%20Nylander>A-lotterierna</a> - <a href=http://www.wikidata.org/wiki/Q5109199%23P39>Q5109199</a>  - <a href=http://www.riksdagen.se/sv/ledamoter-partier/ledamot/_f03ff4a2-c476-11d4-ae40-006008578ce8>Riksdagen</a> <a href=http://data.riksdagen.se/personlista/?utformat=json&iid=f03ff4a2-c476-11d4-ae40-006008578ce8>json</a>"
      ],
      "text/plain": [
       "<IPython.core.display.HTML object>"
      ]
     },
     "metadata": {},
     "output_type": "display_data"
    },
    {
     "name": "stdout",
     "output_type": "stream",
     "text": [
      "Christian Carlsson\n",
      "\tError Christian Carlsson\n",
      "\t missing GUID: \tA-lotterierna\n",
      "Christian Democrats (Sweden)\n",
      "\t missing GUID: \tA-lotterierna\n",
      "Christina Höj Larsen\n",
      "\tError Christina Höj Larsen\n",
      "\t missing GUID: \tA-lotterierna\n",
      "Christina Östberg\n"
     ]
    },
    {
     "data": {
      "text/html": [
       "57: <a href=http://en.wikipedia.org/wiki/Christina%20%C3%96stberg>A-lotterierna</a> - <a href=http://www.wikidata.org/wiki/Q18246550%23P39>Q18246550</a>  - <a href=http://www.riksdagen.se/sv/ledamoter-partier/ledamot/_aa5e595b-e755-4a4e-a457-ea289ad1add3>Riksdagen</a> <a href=http://data.riksdagen.se/personlista/?utformat=json&iid=aa5e595b-e755-4a4e-a457-ea289ad1add3>json</a>"
      ],
      "text/plain": [
       "<IPython.core.display.HTML object>"
      ]
     },
     "metadata": {},
     "output_type": "display_data"
    },
    {
     "name": "stdout",
     "output_type": "stream",
     "text": [
      "Ciczie Weidby\n",
      "\tError Ciczie Weidby\n",
      "\t missing GUID: \tA-lotterierna\n",
      "Ciucă Cabinet\n",
      "\t missing GUID: \tA-lotterierna\n",
      "Claes Tholin\n",
      "\t missing GUID: \tA-lotterierna\n",
      "Clara Aranda\n"
     ]
    },
    {
     "data": {
      "text/html": [
       "58: <a href=http://en.wikipedia.org/wiki/Clara%20Aranda>A-lotterierna</a> - <a href=http://www.wikidata.org/wiki/Q70886056%23P39>Q70886056</a>  - <a href=http://www.riksdagen.se/sv/ledamoter-partier/ledamot/_6977f22f-363b-40fb-8f8f-8163b4492345>Riksdagen</a> <a href=http://data.riksdagen.se/personlista/?utformat=json&iid=6977f22f-363b-40fb-8f8f-8163b4492345>json</a>"
      ],
      "text/plain": [
       "<IPython.core.display.HTML object>"
      ]
     },
     "metadata": {},
     "output_type": "display_data"
    },
    {
     "name": "stdout",
     "output_type": "stream",
     "text": [
      "ClasGöran Carlsson\n",
      "\tError ClasGöran Carlsson\n",
      "\t missing GUID: \tA-lotterierna\n",
      "Coalition government\n",
      "\t missing GUID: \tA-lotterierna\n",
      "Constitution of Sweden\n",
      "\tError Constitution of Sweden\n",
      "\t missing GUID: \tA-lotterierna\n",
      "Croatia\n",
      "\t missing GUID: \tA-lotterierna\n",
      "Cyprus\n",
      "\t missing GUID: \tA-lotterierna\n",
      "Czech Republic\n",
      "\t missing GUID: \tA-lotterierna\n",
      "Dag Larsson\n",
      "\tError Dag Larsson\n",
      "\t missing GUID: \tA-lotterierna\n",
      "Daniel Andersson (politician)\n",
      "\tError Daniel Andersson (politician)\n",
      "\t missing GUID: \tA-lotterierna\n",
      "Daniel Bäckström\n"
     ]
    },
    {
     "data": {
      "text/html": [
       "59: <a href=http://en.wikipedia.org/wiki/Daniel%20B%C3%A4ckstr%C3%B6m>A-lotterierna</a> - <a href=http://www.wikidata.org/wiki/Q18600515%23P39>Q18600515</a>  - <a href=http://www.riksdagen.se/sv/ledamoter-partier/ledamot/_d9b65520-dba2-4ec1-a124-d89d667ebf37>Riksdagen</a> <a href=http://data.riksdagen.se/personlista/?utformat=json&iid=d9b65520-dba2-4ec1-a124-d89d667ebf37>json</a>"
      ],
      "text/plain": [
       "<IPython.core.display.HTML object>"
      ]
     },
     "metadata": {},
     "output_type": "display_data"
    },
    {
     "name": "stdout",
     "output_type": "stream",
     "text": [
      "Daniel Riazat\n",
      "\tError Daniel Riazat\n",
      "\t missing GUID: \tA-lotterierna\n",
      "David Josefsson\n",
      "\tError David Josefsson\n",
      "\t missing GUID: \tA-lotterierna\n",
      "David Lång\n"
     ]
    },
    {
     "data": {
      "text/html": [
       "60: <a href=http://en.wikipedia.org/wiki/David%20L%C3%A5ng>A-lotterierna</a> - <a href=http://www.wikidata.org/wiki/Q5969249%23P39>Q5969249</a>  - <a href=http://www.riksdagen.se/sv/ledamoter-partier/ledamot/_1b1880b5-b042-47b6-8669-8a51e1908365>Riksdagen</a> <a href=http://data.riksdagen.se/personlista/?utformat=json&iid=1b1880b5-b042-47b6-8669-8a51e1908365>json</a>"
      ],
      "text/plain": [
       "<IPython.core.display.HTML object>"
      ]
     },
     "metadata": {},
     "output_type": "display_data"
    },
    {
     "name": "stdout",
     "output_type": "stream",
     "text": [
      "David Perez (politician)\n"
     ]
    },
    {
     "data": {
      "text/html": [
       "61: <a href=http://en.wikipedia.org/wiki/David%20Perez%20%28politician%29>A-lotterierna</a> - <a href=http://www.wikidata.org/wiki/Q96323621%23P39>Q96323621</a>  - <a href=http://www.riksdagen.se/sv/ledamoter-partier/ledamot/_c5cc2c67-3638-430e-bccb-a04db799a9f0>Riksdagen</a> <a href=http://data.riksdagen.se/personlista/?utformat=json&iid=c5cc2c67-3638-430e-bccb-a04db799a9f0>json</a>"
      ],
      "text/plain": [
       "<IPython.core.display.HTML object>"
      ]
     },
     "metadata": {},
     "output_type": "display_data"
    },
    {
     "name": "stdout",
     "output_type": "stream",
     "text": [
      "De Croo Government\n",
      "\t missing GUID: \tA-lotterierna\n",
      "De Geer Cabinet\n",
      "\tError De Geer Cabinet\n",
      "\t missing GUID: \tA-lotterierna\n",
      "De Geer d.ä. Cabinet\n",
      "\tError De Geer d.ä. Cabinet\n",
      "\t missing GUID: \tA-lotterierna\n",
      "Denis Begic\n"
     ]
    },
    {
     "data": {
      "text/html": [
       "62: <a href=http://en.wikipedia.org/wiki/Denis%20Begic>A-lotterierna</a> - <a href=http://www.wikidata.org/wiki/Q71465386%23P39>Q71465386</a>  - <a href=http://www.riksdagen.se/sv/ledamoter-partier/ledamot/_47705a06-b78d-469f-9ebe-8f7407607be6>Riksdagen</a> <a href=http://data.riksdagen.se/personlista/?utformat=json&iid=47705a06-b78d-469f-9ebe-8f7407607be6>json</a>"
      ],
      "text/plain": [
       "<IPython.core.display.HTML object>"
      ]
     },
     "metadata": {},
     "output_type": "display_data"
    },
    {
     "name": "stdout",
     "output_type": "stream",
     "text": [
      "Denmark\n",
      "\t missing GUID: \tA-lotterierna\n",
      "Dennis Dioukarev\n"
     ]
    },
    {
     "data": {
      "text/html": [
       "63: <a href=http://en.wikipedia.org/wiki/Dennis%20Dioukarev>A-lotterierna</a> - <a href=http://www.wikidata.org/wiki/Q18238432%23P39>Q18238432</a>  - <a href=http://www.riksdagen.se/sv/ledamoter-partier/ledamot/_13a59e93-95fe-45fb-b7b5-a76f8181cb4f>Riksdagen</a> <a href=http://data.riksdagen.se/personlista/?utformat=json&iid=13a59e93-95fe-45fb-b7b5-a76f8181cb4f>json</a>"
      ],
      "text/plain": [
       "<IPython.core.display.HTML object>"
      ]
     },
     "metadata": {},
     "output_type": "display_data"
    },
    {
     "name": "stdout",
     "output_type": "stream",
     "text": [
      "Deputy Prime Minister of Sweden\n",
      "\t missing GUID: \tA-lotterierna\n",
      "Diana Laitinen Carlsson\n"
     ]
    },
    {
     "data": {
      "text/html": [
       "64: <a href=http://en.wikipedia.org/wiki/Diana%20Laitinen%20Carlsson>A-lotterierna</a> - <a href=http://www.wikidata.org/wiki/Q99909932%23P39>Q99909932</a>  - <a href=http://www.riksdagen.se/sv/ledamoter-partier/ledamot/_1e88d018-d8e2-4243-b95a-b72a290ccbd7>Riksdagen</a> <a href=http://data.riksdagen.se/personlista/?utformat=json&iid=1e88d018-d8e2-4243-b95a-b72a290ccbd7>json</a>"
      ],
      "text/plain": [
       "<IPython.core.display.HTML object>"
      ]
     },
     "metadata": {},
     "output_type": "display_data"
    },
    {
     "name": "stdout",
     "output_type": "stream",
     "text": [
      "Draghi Cabinet\n",
      "\t missing GUID: \tA-lotterierna\n",
      "Ebba Busch\n"
     ]
    },
    {
     "data": {
      "text/html": [
       "65: <a href=http://en.wikipedia.org/wiki/Ebba%20Busch>A-lotterierna</a> - <a href=http://www.wikidata.org/wiki/Q4941329%23P39>Q4941329</a>  - <a href=http://www.riksdagen.se/sv/ledamoter-partier/ledamot/_b0cce726-5e23-4d21-a609-95071f8820f0>Riksdagen</a> <a href=http://data.riksdagen.se/personlista/?utformat=json&iid=b0cce726-5e23-4d21-a609-95071f8820f0>json</a>"
      ],
      "text/plain": [
       "<IPython.core.display.HTML object>"
      ]
     },
     "metadata": {},
     "output_type": "display_data"
    },
    {
     "name": "stdout",
     "output_type": "stream",
     "text": [
      "Ebba Hermansson\n"
     ]
    },
    {
     "data": {
      "text/html": [
       "66: <a href=http://en.wikipedia.org/wiki/Ebba%20Hermansson>A-lotterierna</a> - <a href=http://www.wikidata.org/wiki/Q56669198%23P39>Q56669198</a>  - <a href=http://www.riksdagen.se/sv/ledamoter-partier/ledamot/_109831a1-4305-4376-a3cf-ecc173855d65>Riksdagen</a> <a href=http://data.riksdagen.se/personlista/?utformat=json&iid=109831a1-4305-4376-a3cf-ecc173855d65>json</a>"
      ],
      "text/plain": [
       "<IPython.core.display.HTML object>"
      ]
     },
     "metadata": {},
     "output_type": "display_data"
    },
    {
     "name": "stdout",
     "output_type": "stream",
     "text": [
      "Edward Riedl\n",
      "\tError Edward Riedl\n",
      "\t missing GUID: \tA-lotterierna\n",
      "Edén Cabinet\n",
      "\t missing GUID: \tA-lotterierna\n",
      "Ekman II Cabinet\n",
      "\tError Ekman II Cabinet\n",
      "\t missing GUID: \tA-lotterierna\n",
      "Ekman I Cabinet\n",
      "\tError Ekman I Cabinet\n",
      "\t missing GUID: \tA-lotterierna\n",
      "Elin Gustafsson\n",
      "\tError Elin Gustafsson\n",
      "\t missing GUID: \tA-lotterierna\n",
      "Elin Lundgren\n"
     ]
    },
    {
     "data": {
      "text/html": [
       "67: <a href=http://en.wikipedia.org/wiki/Elin%20Lundgren>A-lotterierna</a> - <a href=http://www.wikidata.org/wiki/Q4989123%23P39>Q4989123</a>  - <a href=http://www.riksdagen.se/sv/ledamoter-partier/ledamot/_a6beb479-16a2-443e-b0ea-e9c14639064c>Riksdagen</a> <a href=http://data.riksdagen.se/personlista/?utformat=json&iid=a6beb479-16a2-443e-b0ea-e9c14639064c>json</a>"
      ],
      "text/plain": [
       "<IPython.core.display.HTML object>"
      ]
     },
     "metadata": {},
     "output_type": "display_data"
    },
    {
     "name": "stdout",
     "output_type": "stream",
     "text": [
      "Elin Segerlind\n",
      "\tError Elin Segerlind\n",
      "\t missing GUID: \tA-lotterierna\n",
      "Elisabeth Björnsdotter Rahm\n",
      "\tError Elisabeth Björnsdotter Rahm\n",
      "\t missing GUID: \tA-lotterierna\n",
      "Elisabeth Falkhaven\n"
     ]
    },
    {
     "data": {
      "text/html": [
       "68: <a href=http://en.wikipedia.org/wiki/Elisabeth%20Falkhaven>A-lotterierna</a> - <a href=http://www.wikidata.org/wiki/Q57168691%23P39>Q57168691</a>  - <a href=http://www.riksdagen.se/sv/ledamoter-partier/ledamot/_cb53466b-8349-484e-9a7b-084561cdf8b4>Riksdagen</a> <a href=http://data.riksdagen.se/personlista/?utformat=json&iid=cb53466b-8349-484e-9a7b-084561cdf8b4>json</a>"
      ],
      "text/plain": [
       "<IPython.core.display.HTML object>"
      ]
     },
     "metadata": {},
     "output_type": "display_data"
    },
    {
     "name": "stdout",
     "output_type": "stream",
     "text": [
      "Elisabeth Svantesson\n"
     ]
    },
    {
     "data": {
      "text/html": [
       "69: <a href=http://en.wikipedia.org/wiki/Elisabeth%20Svantesson>A-lotterierna</a> - <a href=http://www.wikidata.org/wiki/Q4981393%23P39>Q4981393</a>  - <a href=http://www.riksdagen.se/sv/ledamoter-partier/ledamot/_b7538868-d298-4c5f-9098-e42ea9fb13da>Riksdagen</a> <a href=http://data.riksdagen.se/personlista/?utformat=json&iid=b7538868-d298-4c5f-9098-e42ea9fb13da>json</a>"
      ],
      "text/plain": [
       "<IPython.core.display.HTML object>"
      ]
     },
     "metadata": {},
     "output_type": "display_data"
    },
    {
     "name": "stdout",
     "output_type": "stream",
     "text": [
      "Ellen Juntti\n"
     ]
    },
    {
     "data": {
      "text/html": [
       "70: <a href=http://en.wikipedia.org/wiki/Ellen%20Juntti>A-lotterierna</a> - <a href=http://www.wikidata.org/wiki/Q4957570%23P39>Q4957570</a>  - <a href=http://www.riksdagen.se/sv/ledamoter-partier/ledamot/_efb2daaa-8053-411f-9fc7-dfcca1395bb0>Riksdagen</a> <a href=http://data.riksdagen.se/personlista/?utformat=json&iid=efb2daaa-8053-411f-9fc7-dfcca1395bb0>json</a>"
      ],
      "text/plain": [
       "<IPython.core.display.HTML object>"
      ]
     },
     "metadata": {},
     "output_type": "display_data"
    },
    {
     "name": "stdout",
     "output_type": "stream",
     "text": [
      "Emil Källström\n"
     ]
    },
    {
     "data": {
      "text/html": [
       "71: <a href=http://en.wikipedia.org/wiki/Emil%20K%C3%A4llstr%C3%B6m>A-lotterierna</a> - <a href=http://www.wikidata.org/wiki/Q5928457%23P39>Q5928457</a>  - <a href=http://www.riksdagen.se/sv/ledamoter-partier/ledamot/_17c541d7-8031-43e6-8a8f-8608b9afeed0>Riksdagen</a> <a href=http://data.riksdagen.se/personlista/?utformat=json&iid=17c541d7-8031-43e6-8a8f-8608b9afeed0>json</a>"
      ],
      "text/plain": [
       "<IPython.core.display.HTML object>"
      ]
     },
     "metadata": {},
     "output_type": "display_data"
    },
    {
     "name": "stdout",
     "output_type": "stream",
     "text": [
      "Emma Berginger\n",
      "\tError Emma Berginger\n",
      "\t missing GUID: \tA-lotterierna\n",
      "Emma Hult\n",
      "\tError Emma Hult\n",
      "\t missing GUID: \tA-lotterierna\n",
      "Eric Palmqvist\n"
     ]
    },
    {
     "data": {
      "text/html": [
       "72: <a href=http://en.wikipedia.org/wiki/Eric%20Palmqvist>A-lotterierna</a> - <a href=http://www.wikidata.org/wiki/Q60144183%23P39>Q60144183</a>  - <a href=http://www.riksdagen.se/sv/ledamoter-partier/ledamot/_fc3b3864-8e29-4fd4-ae65-fe387f3f6f4b>Riksdagen</a> <a href=http://data.riksdagen.se/personlista/?utformat=json&iid=fc3b3864-8e29-4fd4-ae65-fe387f3f6f4b>json</a>"
      ],
      "text/plain": [
       "<IPython.core.display.HTML object>"
      ]
     },
     "metadata": {},
     "output_type": "display_data"
    },
    {
     "name": "stdout",
     "output_type": "stream",
     "text": [
      "Eric Westroth\n"
     ]
    },
    {
     "data": {
      "text/html": [
       "73: <a href=http://en.wikipedia.org/wiki/Eric%20Westroth>A-lotterierna</a> - <a href=http://www.wikidata.org/wiki/Q71059733%23P39>Q71059733</a>  - <a href=http://www.riksdagen.se/sv/ledamoter-partier/ledamot/_a7390cef-27c2-4068-800d-ee21b1a94c69>Riksdagen</a> <a href=http://data.riksdagen.se/personlista/?utformat=json&iid=a7390cef-27c2-4068-800d-ee21b1a94c69>json</a>"
      ],
      "text/plain": [
       "<IPython.core.display.HTML object>"
      ]
     },
     "metadata": {},
     "output_type": "display_data"
    },
    {
     "name": "stdout",
     "output_type": "stream",
     "text": [
      "Erik Ezelius\n",
      "\tError Erik Ezelius\n",
      "\t missing GUID: \tA-lotterierna\n",
      "Erik Ottoson\n",
      "\tError Erik Ottoson\n",
      "\t missing GUID: \tA-lotterierna\n",
      "Erlander III Cabinet\n",
      "\tError Erlander III Cabinet\n",
      "\t missing GUID: \tA-lotterierna\n",
      "Erlander II Cabinet\n",
      "\tError Erlander II Cabinet\n",
      "\t missing GUID: \tA-lotterierna\n",
      "Erlander I Cabinet\n",
      "\t missing GUID: \tA-lotterierna\n",
      "Estonia\n",
      "\t missing GUID: \tA-lotterierna\n",
      "European Union\n",
      "\t missing GUID: \tA-lotterierna\n",
      "Eva Lindh\n"
     ]
    },
    {
     "data": {
      "text/html": [
       "74: <a href=http://en.wikipedia.org/wiki/Eva%20Lindh>A-lotterierna</a> - <a href=http://www.wikidata.org/wiki/Q30035702%23P39>Q30035702</a>  - <a href=http://www.riksdagen.se/sv/ledamoter-partier/ledamot/_ee86b181-9f3b-4e03-8ef4-b96b1e79cd25>Riksdagen</a> <a href=http://data.riksdagen.se/personlista/?utformat=json&iid=ee86b181-9f3b-4e03-8ef4-b96b1e79cd25>json</a>"
      ],
      "text/plain": [
       "<IPython.core.display.HTML object>"
      ]
     },
     "metadata": {},
     "output_type": "display_data"
    },
    {
     "name": "stdout",
     "output_type": "stream",
     "text": [
      "Eva Nordmark\n"
     ]
    },
    {
     "data": {
      "text/html": [
       "75: <a href=http://en.wikipedia.org/wiki/Eva%20Nordmark>A-lotterierna</a> - <a href=http://www.wikidata.org/wiki/Q4970111%23P39>Q4970111</a>  - <a href=http://www.riksdagen.se/sv/ledamoter-partier/ledamot/_2e1f942b-62f7-4649-9d31-6ae4e7bf914d>Riksdagen</a> <a href=http://data.riksdagen.se/personlista/?utformat=json&iid=2e1f942b-62f7-4649-9d31-6ae4e7bf914d>json</a>"
      ],
      "text/plain": [
       "<IPython.core.display.HTML object>"
      ]
     },
     "metadata": {},
     "output_type": "display_data"
    },
    {
     "name": "stdout",
     "output_type": "stream",
     "text": [
      "Feministas\n",
      "\tError Feministas\n",
      "\t missing GUID: \tA-lotterierna\n",
      "Finland\n",
      "\t missing GUID: \tA-lotterierna\n",
      "Folkhemmet\n",
      "\t missing GUID: \tA-lotterierna\n",
      "Folksam\n",
      "\t missing GUID: \tA-lotterierna\n",
      "Fourth Merkel cabinet\n",
      "\t missing GUID: \tA-lotterierna\n",
      "Fourth Orbán Government\n",
      "\t missing GUID: \tA-lotterierna\n",
      "France\n",
      "\t missing GUID: \tA-lotterierna\n",
      "Frederiksen Cabinet\n",
      "\t missing GUID: \tA-lotterierna\n",
      "Fredrik Christensson\n",
      "\tError Fredrik Christensson\n",
      "\t missing GUID: \tA-lotterierna\n",
      "Fredrik Lindahl (politician)\n"
     ]
    },
    {
     "data": {
      "text/html": [
       "76: <a href=http://en.wikipedia.org/wiki/Fredrik%20Lindahl%20%28politician%29>A-lotterierna</a> - <a href=http://www.wikidata.org/wiki/Q71132556%23P39>Q71132556</a>  - <a href=http://www.riksdagen.se/sv/ledamoter-partier/ledamot/_08bb4baa-24ca-4395-baf7-c907a4d5b776>Riksdagen</a> <a href=http://data.riksdagen.se/personlista/?utformat=json&iid=08bb4baa-24ca-4395-baf7-c907a4d5b776>json</a>"
      ],
      "text/plain": [
       "<IPython.core.display.HTML object>"
      ]
     },
     "metadata": {},
     "output_type": "display_data"
    },
    {
     "name": "stdout",
     "output_type": "stream",
     "text": [
      "Fredrik Lundh Sammeli\n",
      "\tError Fredrik Lundh Sammeli\n",
      "\t missing GUID: \tA-lotterierna\n",
      "Fredrik Malm\n"
     ]
    },
    {
     "data": {
      "text/html": [
       "77: <a href=http://en.wikipedia.org/wiki/Fredrik%20Malm>A-lotterierna</a> - <a href=http://www.wikidata.org/wiki/Q3675520%23P39>Q3675520</a>  - <a href=http://www.riksdagen.se/sv/ledamoter-partier/ledamot/_cf017275-5272-4506-a686-4e1d8edc5ab6>Riksdagen</a> <a href=http://data.riksdagen.se/personlista/?utformat=json&iid=cf017275-5272-4506-a686-4e1d8edc5ab6>json</a>"
      ],
      "text/plain": [
       "<IPython.core.display.HTML object>"
      ]
     },
     "metadata": {},
     "output_type": "display_data"
    },
    {
     "name": "stdout",
     "output_type": "stream",
     "text": [
      "Fredrik Schulte\n"
     ]
    },
    {
     "data": {
      "text/html": [
       "78: <a href=http://en.wikipedia.org/wiki/Fredrik%20Schulte>A-lotterierna</a> - <a href=http://www.wikidata.org/wiki/Q6169540%23P39>Q6169540</a>  - <a href=http://www.riksdagen.se/sv/ledamoter-partier/ledamot/_b22cb715-79b0-4610-988f-e344f13a8cd4>Riksdagen</a> <a href=http://data.riksdagen.se/personlista/?utformat=json&iid=b22cb715-79b0-4610-988f-e344f13a8cd4>json</a>"
      ],
      "text/plain": [
       "<IPython.core.display.HTML object>"
      ]
     },
     "metadata": {},
     "output_type": "display_data"
    },
    {
     "name": "stdout",
     "output_type": "stream",
     "text": [
      "Fredrik Ström\n",
      "\t missing GUID: \tA-lotterierna\n",
      "Fälldin III Cabinet\n",
      "\t missing GUID: \tA-lotterierna\n",
      "Fälldin II Cabinet\n",
      "\t missing GUID: \tA-lotterierna\n",
      "Fälldin I Cabinet\n",
      "\t missing GUID: \tA-lotterierna\n",
      "Germany\n",
      "\t missing GUID: \tA-lotterierna\n",
      "Gillis Bildt Cabinet\n",
      "\tError Gillis Bildt Cabinet\n",
      "\t missing GUID: \tA-lotterierna\n",
      "Government\n",
      "\t missing GUID: \tA-lotterierna\n",
      "Government of Sweden\n",
      "\t missing GUID: \tA-lotterierna\n",
      "Government of the 33rd Dáil\n",
      "\t missing GUID: \tA-lotterierna\n",
      "Grand coalition\n",
      "\t missing GUID: \tA-lotterierna\n",
      "Greece\n",
      "\t missing GUID: \tA-lotterierna\n",
      "Green Party (Sweden)\n",
      "\t missing GUID: \tA-lotterierna\n",
      "Gudrun Brunegård\n"
     ]
    },
    {
     "data": {
      "text/html": [
       "79: <a href=http://en.wikipedia.org/wiki/Gudrun%20Bruneg%C3%A5rd>A-lotterierna</a> - <a href=http://www.wikidata.org/wiki/Q4940950%23P39>Q4940950</a>  - <a href=http://www.riksdagen.se/sv/ledamoter-partier/ledamot/_aecfc5a6-954f-41b7-8593-998f1c446e1b>Riksdagen</a> <a href=http://data.riksdagen.se/personlista/?utformat=json&iid=aecfc5a6-954f-41b7-8593-998f1c446e1b>json</a>"
      ],
      "text/plain": [
       "<IPython.core.display.HTML object>"
      ]
     },
     "metadata": {},
     "output_type": "display_data"
    },
    {
     "name": "stdout",
     "output_type": "stream",
     "text": [
      "Gudrun Nordborg\n"
     ]
    },
    {
     "data": {
      "text/html": [
       "80: <a href=http://en.wikipedia.org/wiki/Gudrun%20Nordborg>A-lotterierna</a> - <a href=http://www.wikidata.org/wiki/Q101093736%23P39>Q101093736</a>  - <a href=http://www.riksdagen.se/sv/ledamoter-partier/ledamot/_66a97750-1ac5-4f8d-be57-ac4c1c733ee9>Riksdagen</a> <a href=http://data.riksdagen.se/personlista/?utformat=json&iid=66a97750-1ac5-4f8d-be57-ac4c1c733ee9>json</a>"
      ],
      "text/plain": [
       "<IPython.core.display.HTML object>"
      ]
     },
     "metadata": {},
     "output_type": "display_data"
    },
    {
     "name": "stdout",
     "output_type": "stream",
     "text": [
      "Gulan Avci\n"
     ]
    },
    {
     "data": {
      "text/html": [
       "81: <a href=http://en.wikipedia.org/wiki/Gulan%20Avci>A-lotterierna</a> - <a href=http://www.wikidata.org/wiki/Q3674337%23P39>Q3674337</a>  - <a href=http://www.riksdagen.se/sv/ledamoter-partier/ledamot/_9d13985d-9d6c-4cba-8492-1155d94fbe69>Riksdagen</a> <a href=http://data.riksdagen.se/personlista/?utformat=json&iid=9d13985d-9d6c-4cba-8492-1155d94fbe69>json</a>"
      ],
      "text/plain": [
       "<IPython.core.display.HTML object>"
      ]
     },
     "metadata": {},
     "output_type": "display_data"
    },
    {
     "name": "stdout",
     "output_type": "stream",
     "text": [
      "Gunilla Carlsson i Hisings Backa\n"
     ]
    },
    {
     "data": {
      "text/html": [
       "82: <a href=http://en.wikipedia.org/wiki/Gunilla%20Carlsson%20i%20Hisings%20Backa>A-lotterierna</a> - <a href=http://www.wikidata.org/wiki/Q3374499%23P39>Q3374499</a>  - <a href=http://www.riksdagen.se/sv/ledamoter-partier/ledamot/_11d950d5-e41f-4e94-af86-ae8a1996d81b>Riksdagen</a> <a href=http://data.riksdagen.se/personlista/?utformat=json&iid=11d950d5-e41f-4e94-af86-ae8a1996d81b>json</a>"
      ],
      "text/plain": [
       "<IPython.core.display.HTML object>"
      ]
     },
     "metadata": {},
     "output_type": "display_data"
    },
    {
     "name": "stdout",
     "output_type": "stream",
     "text": [
      "Gunilla Svantorp\n"
     ]
    },
    {
     "data": {
      "text/html": [
       "83: <a href=http://en.wikipedia.org/wiki/Gunilla%20Svantorp>A-lotterierna</a> - <a href=http://www.wikidata.org/wiki/Q4981396%23P39>Q4981396</a>  - <a href=http://www.riksdagen.se/sv/ledamoter-partier/ledamot/_434f8fc8-eb9d-4364-99f6-63f1ef873561>Riksdagen</a> <a href=http://data.riksdagen.se/personlista/?utformat=json&iid=434f8fc8-eb9d-4364-99f6-63f1ef873561>json</a>"
      ],
      "text/plain": [
       "<IPython.core.display.HTML object>"
      ]
     },
     "metadata": {},
     "output_type": "display_data"
    },
    {
     "name": "stdout",
     "output_type": "stream",
     "text": [
      "Gustaf Lantz\n",
      "\tError Gustaf Lantz\n",
      "\t missing GUID: \tA-lotterierna\n",
      "Gustav Möller\n",
      "\t missing GUID: \tA-lotterierna\n",
      "Göran Persson\n"
     ]
    },
    {
     "data": {
      "text/html": [
       "84: <a href=http://en.wikipedia.org/wiki/G%C3%B6ran%20Persson>A-lotterierna</a> - <a href=http://www.wikidata.org/wiki/Q53747%23P39>Q53747</a>  - <a href=http://www.riksdagen.se/sv/ledamoter-partier/ledamot/_d7c31be7-83e4-11d4-ae60-0050040c9b55>Riksdagen</a> <a href=http://data.riksdagen.se/personlista/?utformat=json&iid=d7c31be7-83e4-11d4-ae60-0050040c9b55>json</a>"
      ],
      "text/plain": [
       "<IPython.core.display.HTML object>"
      ]
     },
     "metadata": {},
     "output_type": "display_data"
    },
    {
     "name": "stdout",
     "output_type": "stream",
     "text": [
      "Hammarskjöld Cabinet\n",
      "\tError Hammarskjöld Cabinet\n",
      "\t missing GUID: \tA-lotterierna\n",
      "Hampus Hagman\n",
      "\tError Hampus Hagman\n",
      "\t missing GUID: \tA-lotterierna\n",
      "Hamrin Cabinet\n",
      "\tError Hamrin Cabinet\n",
      "\t missing GUID: \tA-lotterierna\n",
      "Handikapprörelsens s-förening\n",
      "\tError Handikapprörelsens s-förening\n",
      "\t missing GUID: \tA-lotterierna\n",
      "Hanif Bali\n"
     ]
    },
    {
     "data": {
      "text/html": [
       "85: <a href=http://en.wikipedia.org/wiki/Hanif%20Bali>A-lotterierna</a> - <a href=http://www.wikidata.org/wiki/Q5564796%23P39>Q5564796</a>  - <a href=http://www.riksdagen.se/sv/ledamoter-partier/ledamot/_b86c28d2-48d1-41a6-bea3-b3317cdfeec8>Riksdagen</a> <a href=http://data.riksdagen.se/personlista/?utformat=json&iid=b86c28d2-48d1-41a6-bea3-b3317cdfeec8>json</a>"
      ],
      "text/plain": [
       "<IPython.core.display.HTML object>"
      ]
     },
     "metadata": {},
     "output_type": "display_data"
    },
    {
     "name": "stdout",
     "output_type": "stream",
     "text": [
      "Hanna Gunnarsson\n",
      "\tError Hanna Gunnarsson\n",
      "\t missing GUID: \tA-lotterierna\n",
      "Hanna Westerén\n"
     ]
    },
    {
     "data": {
      "text/html": [
       "86: <a href=http://en.wikipedia.org/wiki/Hanna%20Wester%C3%A9n>A-lotterierna</a> - <a href=http://www.wikidata.org/wiki/Q19977330%23P39>Q19977330</a>  - <a href=http://www.riksdagen.se/sv/ledamoter-partier/ledamot/_ed3399e1-7bce-4ea4-baf6-587f722710f5>Riksdagen</a> <a href=http://data.riksdagen.se/personlista/?utformat=json&iid=ed3399e1-7bce-4ea4-baf6-587f722710f5>json</a>"
      ],
      "text/plain": [
       "<IPython.core.display.HTML object>"
      ]
     },
     "metadata": {},
     "output_type": "display_data"
    },
    {
     "name": "stdout",
     "output_type": "stream",
     "text": [
      "Hannah Bergstedt\n"
     ]
    },
    {
     "data": {
      "text/html": [
       "87: <a href=http://en.wikipedia.org/wiki/Hannah%20Bergstedt>A-lotterierna</a> - <a href=http://www.wikidata.org/wiki/Q4938643%23P39>Q4938643</a>  - <a href=http://www.riksdagen.se/sv/ledamoter-partier/ledamot/_f11ff8d6-c6c7-458d-be30-e478c5053ce1>Riksdagen</a> <a href=http://data.riksdagen.se/personlista/?utformat=json&iid=f11ff8d6-c6c7-458d-be30-e478c5053ce1>json</a>"
      ],
      "text/plain": [
       "<IPython.core.display.HTML object>"
      ]
     },
     "metadata": {},
     "output_type": "display_data"
    },
    {
     "name": "stdout",
     "output_type": "stream",
     "text": [
      "Hans Dahlgren\n"
     ]
    },
    {
     "data": {
      "text/html": [
       "88: <a href=http://en.wikipedia.org/wiki/Hans%20Dahlgren>A-lotterierna</a> - <a href=http://www.wikidata.org/wiki/Q5615474%23P39>Q5615474</a>  - <a href=http://www.riksdagen.se/sv/ledamoter-partier/ledamot/_92c700a2-28ce-4de3-8706-83c2b2530bf5>Riksdagen</a> <a href=http://data.riksdagen.se/personlista/?utformat=json&iid=92c700a2-28ce-4de3-8706-83c2b2530bf5>json</a>"
      ],
      "text/plain": [
       "<IPython.core.display.HTML object>"
      ]
     },
     "metadata": {},
     "output_type": "display_data"
    },
    {
     "name": "stdout",
     "output_type": "stream",
     "text": [
      "Hans Eklind\n"
     ]
    },
    {
     "data": {
      "text/html": [
       "89: <a href=http://en.wikipedia.org/wiki/Hans%20Eklind>A-lotterierna</a> - <a href=http://www.wikidata.org/wiki/Q5629994%23P39>Q5629994</a>  - <a href=http://www.riksdagen.se/sv/ledamoter-partier/ledamot/_f270f5c5-c28f-4267-8dff-0bead595f631>Riksdagen</a> <a href=http://data.riksdagen.se/personlista/?utformat=json&iid=f270f5c5-c28f-4267-8dff-0bead595f631>json</a>"
      ],
      "text/plain": [
       "<IPython.core.display.HTML object>"
      ]
     },
     "metadata": {},
     "output_type": "display_data"
    },
    {
     "name": "stdout",
     "output_type": "stream",
     "text": [
      "Hans Ekström\n",
      "\tError Hans Ekström\n",
      "\t missing GUID: \tA-lotterierna\n",
      "Hans Hoff\n"
     ]
    },
    {
     "data": {
      "text/html": [
       "90: <a href=http://en.wikipedia.org/wiki/Hans%20Hoff>A-lotterierna</a> - <a href=http://www.wikidata.org/wiki/Q3374562%23P39>Q3374562</a>  - <a href=http://www.riksdagen.se/sv/ledamoter-partier/ledamot/_d7c323f9-83e4-11d4-ae60-0050040c9b55>Riksdagen</a> <a href=http://data.riksdagen.se/personlista/?utformat=json&iid=d7c323f9-83e4-11d4-ae60-0050040c9b55>json</a>"
      ],
      "text/plain": [
       "<IPython.core.display.HTML object>"
      ]
     },
     "metadata": {},
     "output_type": "display_data"
    },
    {
     "name": "stdout",
     "output_type": "stream",
     "text": [
      "Hans Rothenberg\n"
     ]
    },
    {
     "data": {
      "text/html": [
       "91: <a href=http://en.wikipedia.org/wiki/Hans%20Rothenberg>A-lotterierna</a> - <a href=http://www.wikidata.org/wiki/Q378195%23P39>Q378195</a>  - <a href=http://www.riksdagen.se/sv/ledamoter-partier/ledamot/_eec523be-f85c-43d5-83b0-e734e43905d1>Riksdagen</a> <a href=http://data.riksdagen.se/personlista/?utformat=json&iid=eec523be-f85c-43d5-83b0-e734e43905d1>json</a>"
      ],
      "text/plain": [
       "<IPython.core.display.HTML object>"
      ]
     },
     "metadata": {},
     "output_type": "display_data"
    },
    {
     "name": "stdout",
     "output_type": "stream",
     "text": [
      "Hans Wallmark\n"
     ]
    },
    {
     "data": {
      "text/html": [
       "92: <a href=http://en.wikipedia.org/wiki/Hans%20Wallmark>A-lotterierna</a> - <a href=http://www.wikidata.org/wiki/Q5650816%23P39>Q5650816</a>  - <a href=http://www.riksdagen.se/sv/ledamoter-partier/ledamot/_ef84acf4-4f56-45d9-9951-1c8ba4098302>Riksdagen</a> <a href=http://data.riksdagen.se/personlista/?utformat=json&iid=ef84acf4-4f56-45d9-9951-1c8ba4098302>json</a>"
      ],
      "text/plain": [
       "<IPython.core.display.HTML object>"
      ]
     },
     "metadata": {},
     "output_type": "display_data"
    },
    {
     "name": "stdout",
     "output_type": "stream",
     "text": [
      "Hansson III Cabinet\n",
      "\t missing GUID: \tA-lotterierna\n",
      "Hansson II Cabinet\n",
      "\t missing GUID: \tA-lotterierna\n",
      "Hansson IV Cabinet\n",
      "\t missing GUID: \tA-lotterierna\n",
      "Hansson I Cabinet\n",
      "\tError Hansson I Cabinet\n",
      "\t missing GUID: \tA-lotterierna\n",
      "Heger's Cabinet\n",
      "\t missing GUID: \tA-lotterierna\n",
      "Helena Antoni\n",
      "\tError Helena Antoni\n",
      "\t missing GUID: \tA-lotterierna\n",
      "Helena Bouveng\n"
     ]
    },
    {
     "data": {
      "text/html": [
       "93: <a href=http://en.wikipedia.org/wiki/Helena%20Bouveng>A-lotterierna</a> - <a href=http://www.wikidata.org/wiki/Q4940303%23P39>Q4940303</a>  - <a href=http://www.riksdagen.se/sv/ledamoter-partier/ledamot/_a65ace9d-bbae-43cd-8a21-119c8b3b0bfb>Riksdagen</a> <a href=http://data.riksdagen.se/personlista/?utformat=json&iid=a65ace9d-bbae-43cd-8a21-119c8b3b0bfb>json</a>"
      ],
      "text/plain": [
       "<IPython.core.display.HTML object>"
      ]
     },
     "metadata": {},
     "output_type": "display_data"
    },
    {
     "name": "stdout",
     "output_type": "stream",
     "text": [
      "Helena Gellerman\n",
      "\tError Helena Gellerman\n",
      "\t missing GUID: \tA-lotterierna\n",
      "Helena Lindahl\n"
     ]
    },
    {
     "data": {
      "text/html": [
       "94: <a href=http://en.wikipedia.org/wiki/Helena%20Lindahl>A-lotterierna</a> - <a href=http://www.wikidata.org/wiki/Q4962331%23P39>Q4962331</a>  - <a href=http://www.riksdagen.se/sv/ledamoter-partier/ledamot/_6cca7c48-b127-4d65-8052-ac3588a50dbd>Riksdagen</a> <a href=http://data.riksdagen.se/personlista/?utformat=json&iid=6cca7c48-b127-4d65-8052-ac3588a50dbd>json</a>"
      ],
      "text/plain": [
       "<IPython.core.display.HTML object>"
      ]
     },
     "metadata": {},
     "output_type": "display_data"
    },
    {
     "name": "stdout",
     "output_type": "stream",
     "text": [
      "Helena Vilhelmsson\n"
     ]
    },
    {
     "data": {
      "text/html": [
       "95: <a href=http://en.wikipedia.org/wiki/Helena%20Vilhelmsson>A-lotterierna</a> - <a href=http://www.wikidata.org/wiki/Q57168726%23P39>Q57168726</a>  - <a href=http://www.riksdagen.se/sv/ledamoter-partier/ledamot/_bcf8f6dc-7be4-46d3-bb3e-df793b2c5256>Riksdagen</a> <a href=http://data.riksdagen.se/personlista/?utformat=json&iid=bcf8f6dc-7be4-46d3-bb3e-df793b2c5256>json</a>"
      ],
      "text/plain": [
       "<IPython.core.display.HTML object>"
      ]
     },
     "metadata": {},
     "output_type": "display_data"
    },
    {
     "name": "stdout",
     "output_type": "stream",
     "text": [
      "Helén Pettersson\n"
     ]
    },
    {
     "data": {
      "text/html": [
       "96: <a href=http://en.wikipedia.org/wiki/Hel%C3%A9n%20Pettersson>A-lotterierna</a> - <a href=http://www.wikidata.org/wiki/Q3374237%23P39>Q3374237</a>  - <a href=http://www.riksdagen.se/sv/ledamoter-partier/ledamot/_13c0a836-8abf-453d-92d0-44d009c27f85>Riksdagen</a> <a href=http://data.riksdagen.se/personlista/?utformat=json&iid=13c0a836-8abf-453d-92d0-44d009c27f85>json</a>"
      ],
      "text/plain": [
       "<IPython.core.display.HTML object>"
      ]
     },
     "metadata": {},
     "output_type": "display_data"
    },
    {
     "name": "stdout",
     "output_type": "stream",
     "text": [
      "Heléne Björklund\n"
     ]
    },
    {
     "data": {
      "text/html": [
       "97: <a href=http://en.wikipedia.org/wiki/Hel%C3%A9ne%20Bj%C3%B6rklund>A-lotterierna</a> - <a href=http://www.wikidata.org/wiki/Q57168842%23P39>Q57168842</a>  - <a href=http://www.riksdagen.se/sv/ledamoter-partier/ledamot/_a4581b8d-78fd-41c1-a55d-7fe9ed93c878>Riksdagen</a> <a href=http://data.riksdagen.se/personlista/?utformat=json&iid=a4581b8d-78fd-41c1-a55d-7fe9ed93c878>json</a>"
      ],
      "text/plain": [
       "<IPython.core.display.HTML object>"
      ]
     },
     "metadata": {},
     "output_type": "display_data"
    },
    {
     "name": "stdout",
     "output_type": "stream",
     "text": [
      "Henrik Vinge\n"
     ]
    },
    {
     "data": {
      "text/html": [
       "98: <a href=http://en.wikipedia.org/wiki/Henrik%20Vinge>A-lotterierna</a> - <a href=http://www.wikidata.org/wiki/Q56164156%23P39>Q56164156</a>  - <a href=http://www.riksdagen.se/sv/ledamoter-partier/ledamot/_1d7d8c9a-7879-4be3-8554-745991b615d2>Riksdagen</a> <a href=http://data.riksdagen.se/personlista/?utformat=json&iid=1d7d8c9a-7879-4be3-8554-745991b615d2>json</a>"
      ],
      "text/plain": [
       "<IPython.core.display.HTML object>"
      ]
     },
     "metadata": {},
     "output_type": "display_data"
    },
    {
     "name": "stdout",
     "output_type": "stream",
     "text": [
      "Hillevi Larsson\n"
     ]
    },
    {
     "data": {
      "text/html": [
       "99: <a href=http://en.wikipedia.org/wiki/Hillevi%20Larsson>A-lotterierna</a> - <a href=http://www.wikidata.org/wiki/Q3375042%23P39>Q3375042</a>  - <a href=http://www.riksdagen.se/sv/ledamoter-partier/ledamot/_d7c329b4-83e4-11d4-ae60-0050040c9b55>Riksdagen</a> <a href=http://data.riksdagen.se/personlista/?utformat=json&iid=d7c329b4-83e4-11d4-ae60-0050040c9b55>json</a>"
      ],
      "text/plain": [
       "<IPython.core.display.HTML object>"
      ]
     },
     "metadata": {},
     "output_type": "display_data"
    },
    {
     "name": "stdout",
     "output_type": "stream",
     "text": [
      "Hjalmar Branting\n",
      "\t missing GUID: \tA-lotterierna\n",
      "Homosexuella socialdemokrater\n",
      "\tError Homosexuella socialdemokrater\n",
      "\t missing GUID: \tA-lotterierna\n",
      "Hungary\n",
      "\t missing GUID: \tA-lotterierna\n",
      "Hyresgästföreningen\n",
      "\tError Hyresgästföreningen\n",
      "\t missing GUID: \tA-lotterierna\n",
      "Håkan Juholt\n"
     ]
    },
    {
     "data": {
      "text/html": [
       "100: <a href=http://en.wikipedia.org/wiki/H%C3%A5kan%20Juholt>A-lotterierna</a> - <a href=http://www.wikidata.org/wiki/Q714508%23P39>Q714508</a>  - <a href=http://www.riksdagen.se/sv/ledamoter-partier/ledamot/_d7c31fec-83e4-11d4-ae60-0050040c9b55>Riksdagen</a> <a href=http://data.riksdagen.se/personlista/?utformat=json&iid=d7c31fec-83e4-11d4-ae60-0050040c9b55>json</a>"
      ],
      "text/plain": [
       "<IPython.core.display.HTML object>"
      ]
     },
     "metadata": {},
     "output_type": "display_data"
    },
    {
     "name": "stdout",
     "output_type": "stream",
     "text": [
      "Håkan Svenneling\n"
     ]
    },
    {
     "data": {
      "text/html": [
       "101: <a href=http://en.wikipedia.org/wiki/H%C3%A5kan%20Svenneling>A-lotterierna</a> - <a href=http://www.wikidata.org/wiki/Q18246258%23P39>Q18246258</a>  - <a href=http://www.riksdagen.se/sv/ledamoter-partier/ledamot/_de1f77c9-338c-4547-a223-9898cd8ed084>Riksdagen</a> <a href=http://data.riksdagen.se/personlista/?utformat=json&iid=de1f77c9-338c-4547-a223-9898cd8ed084>json</a>"
      ],
      "text/plain": [
       "<IPython.core.display.HTML object>"
      ]
     },
     "metadata": {},
     "output_type": "display_data"
    },
    {
     "name": "stdout",
     "output_type": "stream",
     "text": [
      "Ibrahim Baylan\n"
     ]
    },
    {
     "data": {
      "text/html": [
       "102: <a href=http://en.wikipedia.org/wiki/Ibrahim%20Baylan>A-lotterierna</a> - <a href=http://www.wikidata.org/wiki/Q3055916%23P39>Q3055916</a>  - <a href=http://www.riksdagen.se/sv/ledamoter-partier/ledamot/_bcd88e0a-70d7-4a1c-b52e-7d7cd4651382>Riksdagen</a> <a href=http://data.riksdagen.se/personlista/?utformat=json&iid=bcd88e0a-70d7-4a1c-b52e-7d7cd4651382>json</a>"
      ],
      "text/plain": [
       "<IPython.core.display.HTML object>"
      ]
     },
     "metadata": {},
     "output_type": "display_data"
    },
    {
     "name": "stdout",
     "output_type": "stream",
     "text": [
      "Ida Drougge\n"
     ]
    },
    {
     "data": {
      "text/html": [
       "103: <a href=http://en.wikipedia.org/wiki/Ida%20Drougge>A-lotterierna</a> - <a href=http://www.wikidata.org/wiki/Q18202365%23P39>Q18202365</a>  - <a href=http://www.riksdagen.se/sv/ledamoter-partier/ledamot/_e8a2c04d-a186-421b-b1fd-a401f0917673>Riksdagen</a> <a href=http://data.riksdagen.se/personlista/?utformat=json&iid=e8a2c04d-a186-421b-b1fd-a401f0917673>json</a>"
      ],
      "text/plain": [
       "<IPython.core.display.HTML object>"
      ]
     },
     "metadata": {},
     "output_type": "display_data"
    },
    {
     "name": "stdout",
     "output_type": "stream",
     "text": [
      "Ida Gabrielsson\n",
      "\tError Ida Gabrielsson\n",
      "\t missing GUID: \tA-lotterierna\n",
      "Ida Karkiainen\n"
     ]
    },
    {
     "data": {
      "text/html": [
       "104: <a href=http://en.wikipedia.org/wiki/Ida%20Karkiainen>A-lotterierna</a> - <a href=http://www.wikidata.org/wiki/Q18451082%23P39>Q18451082</a>  - <a href=http://www.riksdagen.se/sv/ledamoter-partier/ledamot/_7891a68a-bcbd-43a3-bd8b-90bdbb040f45>Riksdagen</a> <a href=http://data.riksdagen.se/personlista/?utformat=json&iid=7891a68a-bcbd-43a3-bd8b-90bdbb040f45>json</a>"
      ],
      "text/plain": [
       "<IPython.core.display.HTML object>"
      ]
     },
     "metadata": {},
     "output_type": "display_data"
    },
    {
     "name": "stdout",
     "output_type": "stream",
     "text": [
      "Ilona Szatmari Waldau\n",
      "\tError Ilona Szatmari Waldau\n",
      "\t missing GUID: \tA-lotterierna\n",
      "Independent politician\n",
      "\t missing GUID: \tA-lotterierna\n",
      "Inge Ståhlgren\n",
      "\tError Inge Ståhlgren\n",
      "\t missing GUID: \tA-lotterierna\n",
      "Ingela Nylund Watz\n"
     ]
    },
    {
     "data": {
      "text/html": [
       "105: <a href=http://en.wikipedia.org/wiki/Ingela%20Nylund%20Watz>A-lotterierna</a> - <a href=http://www.wikidata.org/wiki/Q4970595%23P39>Q4970595</a>  - <a href=http://www.riksdagen.se/sv/ledamoter-partier/ledamot/_9cd4ce1a-c1f5-4743-aed6-8e60569e9947>Riksdagen</a> <a href=http://data.riksdagen.se/personlista/?utformat=json&iid=9cd4ce1a-c1f5-4743-aed6-8e60569e9947>json</a>"
      ],
      "text/plain": [
       "<IPython.core.display.HTML object>"
      ]
     },
     "metadata": {},
     "output_type": "display_data"
    },
    {
     "name": "stdout",
     "output_type": "stream",
     "text": [
      "Ingela Thalén\n"
     ]
    },
    {
     "data": {
      "text/html": [
       "106: <a href=http://en.wikipedia.org/wiki/Ingela%20Thal%C3%A9n>A-lotterierna</a> - <a href=http://www.wikidata.org/wiki/Q4982419%23P39>Q4982419</a>  - <a href=http://www.riksdagen.se/sv/ledamoter-partier/ledamot/_d7c31a97-83e4-11d4-ae60-0050040c9b55>Riksdagen</a> <a href=http://data.riksdagen.se/personlista/?utformat=json&iid=d7c31a97-83e4-11d4-ae60-0050040c9b55>json</a>"
      ],
      "text/plain": [
       "<IPython.core.display.HTML object>"
      ]
     },
     "metadata": {},
     "output_type": "display_data"
    },
    {
     "name": "stdout",
     "output_type": "stream",
     "text": [
      "Ingemar Kihlström\n",
      "\tError Ingemar Kihlström\n",
      "\t missing GUID: \tA-lotterierna\n",
      "Ingemar Nilsson\n",
      "\tError Ingemar Nilsson\n",
      "\t missing GUID: \tA-lotterierna\n",
      "Ingvar Carlsson\n"
     ]
    },
    {
     "data": {
      "text/html": [
       "107: <a href=http://en.wikipedia.org/wiki/Ingvar%20Carlsson>A-lotterierna</a> - <a href=http://www.wikidata.org/wiki/Q53740%23P39>Q53740</a>  - <a href=http://www.riksdagen.se/sv/ledamoter-partier/ledamot/_892e5447-fe1c-4b90-afab-3448ac24a524>Riksdagen</a> <a href=http://data.riksdagen.se/personlista/?utformat=json&iid=892e5447-fe1c-4b90-afab-3448ac24a524>json</a>"
      ],
      "text/plain": [
       "<IPython.core.display.HTML object>"
      ]
     },
     "metadata": {},
     "output_type": "display_data"
    },
    {
     "name": "stdout",
     "output_type": "stream",
     "text": [
      "Instrument of Government (1809)\n",
      "\t missing GUID: \tA-lotterierna\n",
      "Isak From\n",
      "\tError Isak From\n",
      "\t missing GUID: \tA-lotterierna\n",
      "Italy\n",
      "\t missing GUID: \tA-lotterierna\n",
      "Jakob Forssmed\n",
      "\tError Jakob Forssmed\n",
      "\t missing GUID: \tA-lotterierna\n",
      "Jakob Olofsgård\n",
      "\tError Jakob Olofsgård\n",
      "\t missing GUID: \tA-lotterierna\n",
      "Jamal El-Haj (politician)\n",
      "\tError Jamal El-Haj (politician)\n",
      "\t missing GUID: \tA-lotterierna\n",
      "Jan Bergqvist\n",
      "\tError Jan Bergqvist\n",
      "\t missing GUID: \tA-lotterierna\n",
      "Jan Ericson\n"
     ]
    },
    {
     "data": {
      "text/html": [
       "108: <a href=http://en.wikipedia.org/wiki/Jan%20Ericson>A-lotterierna</a> - <a href=http://www.wikidata.org/wiki/Q1681740%23P39>Q1681740</a>  - <a href=http://www.riksdagen.se/sv/ledamoter-partier/ledamot/_5c11ef9b-d56d-4e85-8cc6-800f0257548a>Riksdagen</a> <a href=http://data.riksdagen.se/personlista/?utformat=json&iid=5c11ef9b-d56d-4e85-8cc6-800f0257548a>json</a>"
      ],
      "text/plain": [
       "<IPython.core.display.HTML object>"
      ]
     },
     "metadata": {},
     "output_type": "display_data"
    },
    {
     "name": "stdout",
     "output_type": "stream",
     "text": [
      "Jan R. Andersson\n"
     ]
    },
    {
     "data": {
      "text/html": [
       "109: <a href=http://en.wikipedia.org/wiki/Jan%20R.%20Andersson>A-lotterierna</a> - <a href=http://www.wikidata.org/wiki/Q5554868%23P39>Q5554868</a>  - <a href=http://www.riksdagen.se/sv/ledamoter-partier/ledamot/_ecbe80be-fc66-48ce-81fd-14d6fa38aa4c>Riksdagen</a> <a href=http://data.riksdagen.se/personlista/?utformat=json&iid=ecbe80be-fc66-48ce-81fd-14d6fa38aa4c>json</a>"
      ],
      "text/plain": [
       "<IPython.core.display.HTML object>"
      ]
     },
     "metadata": {},
     "output_type": "display_data"
    },
    {
     "name": "stdout",
     "output_type": "stream",
     "text": [
      "Jasenko Omanovic\n",
      "\tError Jasenko Omanovic\n",
      "\t missing GUID: \tA-lotterierna\n",
      "Jeanette Gustafsdotter\n",
      "\t missing GUID: \tA-lotterierna\n",
      "Jennie Nilsson\n"
     ]
    },
    {
     "data": {
      "text/html": [
       "110: <a href=http://en.wikipedia.org/wiki/Jennie%20Nilsson>A-lotterierna</a> - <a href=http://www.wikidata.org/wiki/Q4563096%23P39>Q4563096</a>  - <a href=http://www.riksdagen.se/sv/ledamoter-partier/ledamot/_4c6f215d-de3a-452d-83b5-f472b8668b7e>Riksdagen</a> <a href=http://data.riksdagen.se/personlista/?utformat=json&iid=4c6f215d-de3a-452d-83b5-f472b8668b7e>json</a>"
      ],
      "text/plain": [
       "<IPython.core.display.HTML object>"
      ]
     },
     "metadata": {},
     "output_type": "display_data"
    },
    {
     "name": "stdout",
     "output_type": "stream",
     "text": [
      "Jennie Åfeldt\n"
     ]
    },
    {
     "data": {
      "text/html": [
       "111: <a href=http://en.wikipedia.org/wiki/Jennie%20%C3%85feldt>A-lotterierna</a> - <a href=http://www.wikidata.org/wiki/Q18275046%23P39>Q18275046</a>  - <a href=http://www.riksdagen.se/sv/ledamoter-partier/ledamot/_f17df284-828f-481d-9f83-8c6d2b6d2576>Riksdagen</a> <a href=http://data.riksdagen.se/personlista/?utformat=json&iid=f17df284-828f-481d-9f83-8c6d2b6d2576>json</a>"
      ],
      "text/plain": [
       "<IPython.core.display.HTML object>"
      ]
     },
     "metadata": {},
     "output_type": "display_data"
    },
    {
     "name": "stdout",
     "output_type": "stream",
     "text": [
      "Jens Holm\n"
     ]
    },
    {
     "data": {
      "text/html": [
       "112: <a href=http://en.wikipedia.org/wiki/Jens%20Holm>A-lotterierna</a> - <a href=http://www.wikidata.org/wiki/Q946708%23P39>Q946708</a>  - <a href=http://www.riksdagen.se/sv/ledamoter-partier/ledamot/_5b7ac02c-0819-426d-bc5d-41b8c21ca4dd>Riksdagen</a> <a href=http://data.riksdagen.se/personlista/?utformat=json&iid=5b7ac02c-0819-426d-bc5d-41b8c21ca4dd>json</a>"
      ],
      "text/plain": [
       "<IPython.core.display.HTML object>"
      ]
     },
     "metadata": {},
     "output_type": "display_data"
    },
    {
     "name": "stdout",
     "output_type": "stream",
     "text": [
      "Jessica Rosencrantz\n"
     ]
    },
    {
     "data": {
      "text/html": [
       "113: <a href=http://en.wikipedia.org/wiki/Jessica%20Rosencrantz>A-lotterierna</a> - <a href=http://www.wikidata.org/wiki/Q4975481%23P39>Q4975481</a>  - <a href=http://www.riksdagen.se/sv/ledamoter-partier/ledamot/_acdaa4aa-20f2-49a0-b929-0862f4bd6826>Riksdagen</a> <a href=http://data.riksdagen.se/personlista/?utformat=json&iid=acdaa4aa-20f2-49a0-b929-0862f4bd6826>json</a>"
      ],
      "text/plain": [
       "<IPython.core.display.HTML object>"
      ]
     },
     "metadata": {},
     "output_type": "display_data"
    },
    {
     "name": "stdout",
     "output_type": "stream",
     "text": [
      "Jessica Thunander\n"
     ]
    },
    {
     "data": {
      "text/html": [
       "114: <a href=http://en.wikipedia.org/wiki/Jessica%20Thunander>A-lotterierna</a> - <a href=http://www.wikidata.org/wiki/Q57168779%23P39>Q57168779</a>  - <a href=http://www.riksdagen.se/sv/ledamoter-partier/ledamot/_9a93ac06-5af1-475e-8b9f-858c6b003ef0>Riksdagen</a> <a href=http://data.riksdagen.se/personlista/?utformat=json&iid=9a93ac06-5af1-475e-8b9f-858c6b003ef0>json</a>"
      ],
      "text/plain": [
       "<IPython.core.display.HTML object>"
      ]
     },
     "metadata": {},
     "output_type": "display_data"
    },
    {
     "name": "stdout",
     "output_type": "stream",
     "text": [
      "Jessica Wetterling\n"
     ]
    },
    {
     "data": {
      "text/html": [
       "115: <a href=http://en.wikipedia.org/wiki/Jessica%20Wetterling>A-lotterierna</a> - <a href=http://www.wikidata.org/wiki/Q57168784%23P39>Q57168784</a>  - <a href=http://www.riksdagen.se/sv/ledamoter-partier/ledamot/_dc0c1e6e-450b-4763-be41-c3f810d50b72>Riksdagen</a> <a href=http://data.riksdagen.se/personlista/?utformat=json&iid=dc0c1e6e-450b-4763-be41-c3f810d50b72>json</a>"
      ],
      "text/plain": [
       "<IPython.core.display.HTML object>"
      ]
     },
     "metadata": {},
     "output_type": "display_data"
    },
    {
     "name": "stdout",
     "output_type": "stream",
     "text": [
      "Jessika Roswall\n"
     ]
    },
    {
     "data": {
      "text/html": [
       "116: <a href=http://en.wikipedia.org/wiki/Jessika%20Roswall>A-lotterierna</a> - <a href=http://www.wikidata.org/wiki/Q4984640%23P39>Q4984640</a>  - <a href=http://www.riksdagen.se/sv/ledamoter-partier/ledamot/_5e09bf12-6f96-4a96-ac0c-27203aef4d2f>Riksdagen</a> <a href=http://data.riksdagen.se/personlista/?utformat=json&iid=5e09bf12-6f96-4a96-ac0c-27203aef4d2f>json</a>"
      ],
      "text/plain": [
       "<IPython.core.display.HTML object>"
      ]
     },
     "metadata": {},
     "output_type": "display_data"
    },
    {
     "name": "stdout",
     "output_type": "stream",
     "text": [
      "Jimmie Åkesson\n"
     ]
    },
    {
     "data": {
      "text/html": [
       "117: <a href=http://en.wikipedia.org/wiki/Jimmie%20%C3%85kesson>A-lotterierna</a> - <a href=http://www.wikidata.org/wiki/Q518776%23P39>Q518776</a>  - <a href=http://www.riksdagen.se/sv/ledamoter-partier/ledamot/_5ecb17ba-ebbe-4958-a142-a5134aff9808>Riksdagen</a> <a href=http://data.riksdagen.se/personlista/?utformat=json&iid=5ecb17ba-ebbe-4958-a142-a5134aff9808>json</a>"
      ],
      "text/plain": [
       "<IPython.core.display.HTML object>"
      ]
     },
     "metadata": {},
     "output_type": "display_data"
    },
    {
     "name": "stdout",
     "output_type": "stream",
     "text": [
      "Jimmy Ståhl\n"
     ]
    },
    {
     "data": {
      "text/html": [
       "118: <a href=http://en.wikipedia.org/wiki/Jimmy%20St%C3%A5hl>A-lotterierna</a> - <a href=http://www.wikidata.org/wiki/Q18246207%23P39>Q18246207</a>  - <a href=http://www.riksdagen.se/sv/ledamoter-partier/ledamot/_c63331e9-02ca-4f71-a7de-9a17e2ec4ac4>Riksdagen</a> <a href=http://data.riksdagen.se/personlista/?utformat=json&iid=c63331e9-02ca-4f71-a7de-9a17e2ec4ac4>json</a>"
      ],
      "text/plain": [
       "<IPython.core.display.HTML object>"
      ]
     },
     "metadata": {},
     "output_type": "display_data"
    },
    {
     "name": "stdout",
     "output_type": "stream",
     "text": [
      "Joakim Järrebring\n"
     ]
    },
    {
     "data": {
      "text/html": [
       "119: <a href=http://en.wikipedia.org/wiki/Joakim%20J%C3%A4rrebring>A-lotterierna</a> - <a href=http://www.wikidata.org/wiki/Q57297792%23P39>Q57297792</a>  - <a href=http://www.riksdagen.se/sv/ledamoter-partier/ledamot/_a6a8678d-8fe2-414c-9dc4-da76ad161d23>Riksdagen</a> <a href=http://data.riksdagen.se/personlista/?utformat=json&iid=a6a8678d-8fe2-414c-9dc4-da76ad161d23>json</a>"
      ],
      "text/plain": [
       "<IPython.core.display.HTML object>"
      ]
     },
     "metadata": {},
     "output_type": "display_data"
    },
    {
     "name": "stdout",
     "output_type": "stream",
     "text": [
      "Joakim Sandell\n",
      "\tError Joakim Sandell\n",
      "\t missing GUID: \tA-lotterierna\n",
      "Joar Forssell\n"
     ]
    },
    {
     "data": {
      "text/html": [
       "120: <a href=http://en.wikipedia.org/wiki/Joar%20Forssell>A-lotterierna</a> - <a href=http://www.wikidata.org/wiki/Q26305112%23P39>Q26305112</a>  - <a href=http://www.riksdagen.se/sv/ledamoter-partier/ledamot/_1c9bf350-8e09-4e61-b337-d03d4656b86a>Riksdagen</a> <a href=http://data.riksdagen.se/personlista/?utformat=json&iid=1c9bf350-8e09-4e61-b337-d03d4656b86a>json</a>"
      ],
      "text/plain": [
       "<IPython.core.display.HTML object>"
      ]
     },
     "metadata": {},
     "output_type": "display_data"
    },
    {
     "name": "stdout",
     "output_type": "stream",
     "text": [
      "Johan Andersson (politician)\n"
     ]
    },
    {
     "data": {
      "text/html": [
       "121: <a href=http://en.wikipedia.org/wiki/Johan%20Andersson%20%28politician%29>A-lotterierna</a> - <a href=http://www.wikidata.org/wiki/Q5554920%23P39>Q5554920</a>  - <a href=http://www.riksdagen.se/sv/ledamoter-partier/ledamot/_fff74c6c-fae3-4977-a472-cfe2b6ae257a>Riksdagen</a> <a href=http://data.riksdagen.se/personlista/?utformat=json&iid=fff74c6c-fae3-4977-a472-cfe2b6ae257a>json</a>"
      ],
      "text/plain": [
       "<IPython.core.display.HTML object>"
      ]
     },
     "metadata": {},
     "output_type": "display_data"
    },
    {
     "name": "stdout",
     "output_type": "stream",
     "text": [
      "Johan Büser\n",
      "\tError Johan Büser\n",
      "\t missing GUID: \tA-lotterierna\n",
      "Johan Danielsson\n"
     ]
    },
    {
     "data": {
      "text/html": [
       "122: <a href=http://en.wikipedia.org/wiki/Johan%20Danielsson>A-lotterierna</a> - <a href=http://www.wikidata.org/wiki/Q63975305%23P39>Q63975305</a>  - <a href=http://www.riksdagen.se/sv/ledamoter-partier/ledamot/_a18bbb25-d4a3-4d01-949b-430407186fe4>Riksdagen</a> <a href=http://data.riksdagen.se/personlista/?utformat=json&iid=a18bbb25-d4a3-4d01-949b-430407186fe4>json</a>"
      ],
      "text/plain": [
       "<IPython.core.display.HTML object>"
      ]
     },
     "metadata": {},
     "output_type": "display_data"
    },
    {
     "name": "stdout",
     "output_type": "stream",
     "text": [
      "Johan Forssell (politician, born 1979)\n"
     ]
    },
    {
     "data": {
      "text/html": [
       "123: <a href=http://en.wikipedia.org/wiki/Johan%20Forssell%20%28politician%2C%20born%201979%29>A-lotterierna</a> - <a href=http://www.wikidata.org/wiki/Q5737622%23P39>Q5737622</a>  - <a href=http://www.riksdagen.se/sv/ledamoter-partier/ledamot/_0b564224-f764-4bfc-87f6-80fcaa33fa46>Riksdagen</a> <a href=http://data.riksdagen.se/personlista/?utformat=json&iid=0b564224-f764-4bfc-87f6-80fcaa33fa46>json</a>"
      ],
      "text/plain": [
       "<IPython.core.display.HTML object>"
      ]
     },
     "metadata": {},
     "output_type": "display_data"
    },
    {
     "name": "stdout",
     "output_type": "stream",
     "text": [
      "Johan Hedin\n",
      "\tError Johan Hedin\n",
      "\t missing GUID: \tA-lotterierna\n",
      "Johan Hultberg\n"
     ]
    },
    {
     "data": {
      "text/html": [
       "124: <a href=http://en.wikipedia.org/wiki/Johan%20Hultberg>A-lotterierna</a> - <a href=http://www.wikidata.org/wiki/Q5816436%23P39>Q5816436</a>  - <a href=http://www.riksdagen.se/sv/ledamoter-partier/ledamot/_31ae8846-ad0b-4ff2-aaf7-72b398d1fb5a>Riksdagen</a> <a href=http://data.riksdagen.se/personlista/?utformat=json&iid=31ae8846-ad0b-4ff2-aaf7-72b398d1fb5a>json</a>"
      ],
      "text/plain": [
       "<IPython.core.display.HTML object>"
      ]
     },
     "metadata": {},
     "output_type": "display_data"
    },
    {
     "name": "stdout",
     "output_type": "stream",
     "text": [
      "Johan Löfstrand\n"
     ]
    },
    {
     "data": {
      "text/html": [
       "125: <a href=http://en.wikipedia.org/wiki/Johan%20L%C3%B6fstrand>A-lotterierna</a> - <a href=http://www.wikidata.org/wiki/Q4563305%23P39>Q4563305</a>  - <a href=http://www.riksdagen.se/sv/ledamoter-partier/ledamot/_eaf0fa85-8858-4e0e-97d8-daee0a771d1f>Riksdagen</a> <a href=http://data.riksdagen.se/personlista/?utformat=json&iid=eaf0fa85-8858-4e0e-97d8-daee0a771d1f>json</a>"
      ],
      "text/plain": [
       "<IPython.core.display.HTML object>"
      ]
     },
     "metadata": {},
     "output_type": "display_data"
    },
    {
     "name": "stdout",
     "output_type": "stream",
     "text": [
      "Johan Pehrson\n"
     ]
    },
    {
     "data": {
      "text/html": [
       "126: <a href=http://en.wikipedia.org/wiki/Johan%20Pehrson>A-lotterierna</a> - <a href=http://www.wikidata.org/wiki/Q6039678%23P39>Q6039678</a>  - <a href=http://www.riksdagen.se/sv/ledamoter-partier/ledamot/_d7c327f8-83e4-11d4-ae60-0050040c9b55>Riksdagen</a> <a href=http://data.riksdagen.se/personlista/?utformat=json&iid=d7c327f8-83e4-11d4-ae60-0050040c9b55>json</a>"
      ],
      "text/plain": [
       "<IPython.core.display.HTML object>"
      ]
     },
     "metadata": {},
     "output_type": "display_data"
    },
    {
     "name": "stdout",
     "output_type": "stream",
     "text": [
      "Johanna Haraldsson\n"
     ]
    },
    {
     "data": {
      "text/html": [
       "127: <a href=http://en.wikipedia.org/wiki/Johanna%20Haraldsson>A-lotterierna</a> - <a href=http://www.wikidata.org/wiki/Q18202412%23P39>Q18202412</a>  - <a href=http://www.riksdagen.se/sv/ledamoter-partier/ledamot/_a1d94b24-2d7f-4d84-99fb-ca161ba77f78>Riksdagen</a> <a href=http://data.riksdagen.se/personlista/?utformat=json&iid=a1d94b24-2d7f-4d84-99fb-ca161ba77f78>json</a>"
      ],
      "text/plain": [
       "<IPython.core.display.HTML object>"
      ]
     },
     "metadata": {},
     "output_type": "display_data"
    },
    {
     "name": "stdout",
     "output_type": "stream",
     "text": [
      "Johanna Jönsson\n",
      "\tError Johanna Jönsson\n",
      "\t missing GUID: \tA-lotterierna\n",
      "John Weinerhall\n"
     ]
    },
    {
     "data": {
      "text/html": [
       "128: <a href=http://en.wikipedia.org/wiki/John%20Weinerhall>A-lotterierna</a> - <a href=http://www.wikidata.org/wiki/Q56660151%23P39>Q56660151</a>  - <a href=http://www.riksdagen.se/sv/ledamoter-partier/ledamot/_5af2318e-82dc-4271-b219-c12b3d74d11a>Riksdagen</a> <a href=http://data.riksdagen.se/personlista/?utformat=json&iid=5af2318e-82dc-4271-b219-c12b3d74d11a>json</a>"
      ],
      "text/plain": [
       "<IPython.core.display.HTML object>"
      ]
     },
     "metadata": {},
     "output_type": "display_data"
    },
    {
     "name": "stdout",
     "output_type": "stream",
     "text": [
      "John Widegren\n",
      "\tError John Widegren\n",
      "\t missing GUID: \tA-lotterierna\n",
      "Johnny Skalin\n"
     ]
    },
    {
     "data": {
      "text/html": [
       "129: <a href=http://en.wikipedia.org/wiki/Johnny%20Skalin>A-lotterierna</a> - <a href=http://www.wikidata.org/wiki/Q6328008%23P39>Q6328008</a>  - <a href=http://www.riksdagen.se/sv/ledamoter-partier/ledamot/_88b7893a-c9f3-4278-a486-353a1d77a96c>Riksdagen</a> <a href=http://data.riksdagen.se/personlista/?utformat=json&iid=88b7893a-c9f3-4278-a486-353a1d77a96c>json</a>"
      ],
      "text/plain": [
       "<IPython.core.display.HTML object>"
      ]
     },
     "metadata": {},
     "output_type": "display_data"
    },
    {
     "name": "stdout",
     "output_type": "stream",
     "text": [
      "Jon Thorbjörnson\n",
      "\tError Jon Thorbjörnson\n",
      "\t missing GUID: \tA-lotterierna\n",
      "Jonas Andersson (politician)\n"
     ]
    },
    {
     "data": {
      "text/html": [
       "130: <a href=http://en.wikipedia.org/wiki/Jonas%20Andersson%20%28politician%29>A-lotterierna</a> - <a href=http://www.wikidata.org/wiki/Q58837098%23P39>Q58837098</a>  - <a href=http://www.riksdagen.se/sv/ledamoter-partier/ledamot/_9944df03-e946-4046-aeef-c49117503a0c>Riksdagen</a> <a href=http://data.riksdagen.se/personlista/?utformat=json&iid=9944df03-e946-4046-aeef-c49117503a0c>json</a>"
      ],
      "text/plain": [
       "<IPython.core.display.HTML object>"
      ]
     },
     "metadata": {},
     "output_type": "display_data"
    },
    {
     "name": "stdout",
     "output_type": "stream",
     "text": [
      "Jonas Andersson i Skellefteå\n",
      "\tError Jonas Andersson i Skellefteå\n",
      "\t missing GUID: \tA-lotterierna\n",
      "Jonny Cato\n",
      "\tError Jonny Cato\n",
      "\t missing GUID: \tA-lotterierna\n",
      "Josef Fransson\n"
     ]
    },
    {
     "data": {
      "text/html": [
       "131: <a href=http://en.wikipedia.org/wiki/Josef%20Fransson>A-lotterierna</a> - <a href=http://www.wikidata.org/wiki/Q5740653%23P39>Q5740653</a>  - <a href=http://www.riksdagen.se/sv/ledamoter-partier/ledamot/_2131f2eb-348c-4b92-8e76-52c134d79919>Riksdagen</a> <a href=http://data.riksdagen.se/personlista/?utformat=json&iid=2131f2eb-348c-4b92-8e76-52c134d79919>json</a>"
      ],
      "text/plain": [
       "<IPython.core.display.HTML object>"
      ]
     },
     "metadata": {},
     "output_type": "display_data"
    },
    {
     "name": "stdout",
     "output_type": "stream",
     "text": [
      "Josefin Malmqvist\n",
      "\tError Josefin Malmqvist\n",
      "\t missing GUID: \tA-lotterierna\n",
      "Julia Kronlid\n"
     ]
    },
    {
     "data": {
      "text/html": [
       "132: <a href=http://en.wikipedia.org/wiki/Julia%20Kronlid>A-lotterierna</a> - <a href=http://www.wikidata.org/wiki/Q4959972%23P39>Q4959972</a>  - <a href=http://www.riksdagen.se/sv/ledamoter-partier/ledamot/_04727b66-64cd-4880-be85-dc8fe873bf8d>Riksdagen</a> <a href=http://data.riksdagen.se/personlista/?utformat=json&iid=04727b66-64cd-4880-be85-dc8fe873bf8d>json</a>"
      ],
      "text/plain": [
       "<IPython.core.display.HTML object>"
      ]
     },
     "metadata": {},
     "output_type": "display_data"
    },
    {
     "name": "stdout",
     "output_type": "stream",
     "text": [
      "Juno Blom\n"
     ]
    },
    {
     "data": {
      "text/html": [
       "133: <a href=http://en.wikipedia.org/wiki/Juno%20Blom>A-lotterierna</a> - <a href=http://www.wikidata.org/wiki/Q57168632%23P39>Q57168632</a>  - <a href=http://www.riksdagen.se/sv/ledamoter-partier/ledamot/_3eae18dc-594f-44eb-95a8-0e5b2b71d645>Riksdagen</a> <a href=http://data.riksdagen.se/personlista/?utformat=json&iid=3eae18dc-594f-44eb-95a8-0e5b2b71d645>json</a>"
      ],
      "text/plain": [
       "<IPython.core.display.HTML object>"
      ]
     },
     "metadata": {},
     "output_type": "display_data"
    },
    {
     "name": "stdout",
     "output_type": "stream",
     "text": [
      "Jörgen Berglund\n",
      "\tError Jörgen Berglund\n",
      "\t missing GUID: \tA-lotterierna\n",
      "Jörgen Grubb\n"
     ]
    },
    {
     "data": {
      "text/html": [
       "134: <a href=http://en.wikipedia.org/wiki/J%C3%B6rgen%20Grubb>A-lotterierna</a> - <a href=http://www.wikidata.org/wiki/Q71545861%23P39>Q71545861</a>  - <a href=http://www.riksdagen.se/sv/ledamoter-partier/ledamot/_086bff3d-8adb-47c2-b5dc-86d4a9f1b191>Riksdagen</a> <a href=http://data.riksdagen.se/personlista/?utformat=json&iid=086bff3d-8adb-47c2-b5dc-86d4a9f1b191>json</a>"
      ],
      "text/plain": [
       "<IPython.core.display.HTML object>"
      ]
     },
     "metadata": {},
     "output_type": "display_data"
    },
    {
     "name": "stdout",
     "output_type": "stream",
     "text": [
      "Jörgen Hellman\n",
      "\tError Jörgen Hellman\n",
      "\t missing GUID: \tA-lotterierna\n",
      "Kaja Kallas' cabinet\n",
      "\t missing GUID: \tA-lotterierna\n",
      "Kalle Olsson (politician)\n",
      "\tError Kalle Olsson (politician)\n",
      "\t missing GUID: \tA-lotterierna\n",
      "Karin Enström\n"
     ]
    },
    {
     "data": {
      "text/html": [
       "135: <a href=http://en.wikipedia.org/wiki/Karin%20Enstr%C3%B6m>A-lotterierna</a> - <a href=http://www.wikidata.org/wiki/Q3544279%23P39>Q3544279</a>  - <a href=http://www.riksdagen.se/sv/ledamoter-partier/ledamot/_d7c32504-83e4-11d4-ae60-0050040c9b55>Riksdagen</a> <a href=http://data.riksdagen.se/personlista/?utformat=json&iid=d7c32504-83e4-11d4-ae60-0050040c9b55>json</a>"
      ],
      "text/plain": [
       "<IPython.core.display.HTML object>"
      ]
     },
     "metadata": {},
     "output_type": "display_data"
    },
    {
     "name": "stdout",
     "output_type": "stream",
     "text": [
      "Karin Rågsjö\n",
      "\tError Karin Rågsjö\n",
      "\t missing GUID: \tA-lotterierna\n",
      "Kariņš cabinet\n",
      "\t missing GUID: \tA-lotterierna\n",
      "Karl-Petter Thorwaldsson\n",
      "\t missing GUID: \tA-lotterierna\n",
      "Karl Magnus Ziesnitz\n",
      "\tError Karl Magnus Ziesnitz\n",
      "\t missing GUID: \tA-lotterierna\n",
      "Karolina Skog\n"
     ]
    },
    {
     "data": {
      "text/html": [
       "136: <a href=http://en.wikipedia.org/wiki/Karolina%20Skog>A-lotterierna</a> - <a href=http://www.wikidata.org/wiki/Q4979119%23P39>Q4979119</a>  - <a href=http://www.riksdagen.se/sv/ledamoter-partier/ledamot/_b13770c1-edeb-4431-9ef2-2ce037d2567f>Riksdagen</a> <a href=http://data.riksdagen.se/personlista/?utformat=json&iid=b13770c1-edeb-4431-9ef2-2ce037d2567f>json</a>"
      ],
      "text/plain": [
       "<IPython.core.display.HTML object>"
      ]
     },
     "metadata": {},
     "output_type": "display_data"
    },
    {
     "name": "stdout",
     "output_type": "stream",
     "text": [
      "Katarina Brännström\n"
     ]
    },
    {
     "data": {
      "text/html": [
       "137: <a href=http://en.wikipedia.org/wiki/Katarina%20Br%C3%A4nnstr%C3%B6m>A-lotterierna</a> - <a href=http://www.wikidata.org/wiki/Q4941068%23P39>Q4941068</a>  - <a href=http://www.riksdagen.se/sv/ledamoter-partier/ledamot/_97a9cfb7-de78-4995-8e29-40891595e8d2>Riksdagen</a> <a href=http://data.riksdagen.se/personlista/?utformat=json&iid=97a9cfb7-de78-4995-8e29-40891595e8d2>json</a>"
      ],
      "text/plain": [
       "<IPython.core.display.HTML object>"
      ]
     },
     "metadata": {},
     "output_type": "display_data"
    },
    {
     "name": "stdout",
     "output_type": "stream",
     "text": [
      "Katja Nyberg (politician)\n"
     ]
    },
    {
     "data": {
      "text/html": [
       "138: <a href=http://en.wikipedia.org/wiki/Katja%20Nyberg%20%28politician%29>A-lotterierna</a> - <a href=http://www.wikidata.org/wiki/Q61103104%23P39>Q61103104</a>  - <a href=http://www.riksdagen.se/sv/ledamoter-partier/ledamot/_243a8476-df07-435b-b2e8-50d03926ae51>Riksdagen</a> <a href=http://data.riksdagen.se/personlista/?utformat=json&iid=243a8476-df07-435b-b2e8-50d03926ae51>json</a>"
      ],
      "text/plain": [
       "<IPython.core.display.HTML object>"
      ]
     },
     "metadata": {},
     "output_type": "display_data"
    },
    {
     "name": "stdout",
     "output_type": "stream",
     "text": [
      "Kenneth G Forslund\n",
      "\tError Kenneth G Forslund\n",
      "\t missing GUID: \tA-lotterierna\n",
      "Kerstin Lundgren\n"
     ]
    },
    {
     "data": {
      "text/html": [
       "139: <a href=http://en.wikipedia.org/wiki/Kerstin%20Lundgren>A-lotterierna</a> - <a href=http://www.wikidata.org/wiki/Q4964100%23P39>Q4964100</a>  - <a href=http://www.riksdagen.se/sv/ledamoter-partier/ledamot/_4a514760-f0a7-47a7-8a51-91bd46693df7>Riksdagen</a> <a href=http://data.riksdagen.se/personlista/?utformat=json&iid=4a514760-f0a7-47a7-8a51-91bd46693df7>json</a>"
      ],
      "text/plain": [
       "<IPython.core.display.HTML object>"
      ]
     },
     "metadata": {},
     "output_type": "display_data"
    },
    {
     "name": "stdout",
     "output_type": "stream",
     "text": [
      "Khashayar Farmanbar\n",
      "\t missing GUID: \tA-lotterierna\n",
      "King in Council (Sweden)\n",
      "\t missing GUID: \tA-lotterierna\n",
      "King of Sweden\n",
      "\tError King of Sweden\n",
      "\t missing GUID: \tA-lotterierna\n",
      "Kjell-Arne Ottosson\n",
      "\tError Kjell-Arne Ottosson\n",
      "\t missing GUID: \tA-lotterierna\n",
      "Kjell Jansson\n",
      "\tError Kjell Jansson\n",
      "\t missing GUID: \tA-lotterierna\n",
      "Kooperativa Förbundet\n",
      "\t missing GUID: \tA-lotterierna\n",
      "Koopi\n",
      "\tError Koopi\n",
      "\t missing GUID: \tA-lotterierna\n",
      "Kristina Axén Olin\n"
     ]
    },
    {
     "data": {
      "text/html": [
       "140: <a href=http://en.wikipedia.org/wiki/Kristina%20Ax%C3%A9n%20Olin>A-lotterierna</a> - <a href=http://www.wikidata.org/wiki/Q897282%23P39>Q897282</a>  - <a href=http://www.riksdagen.se/sv/ledamoter-partier/ledamot/_8cafb7dc-dbdd-4ac4-bd56-1e4e75daa4a6>Riksdagen</a> <a href=http://data.riksdagen.se/personlista/?utformat=json&iid=8cafb7dc-dbdd-4ac4-bd56-1e4e75daa4a6>json</a>"
      ],
      "text/plain": [
       "<IPython.core.display.HTML object>"
      ]
     },
     "metadata": {},
     "output_type": "display_data"
    },
    {
     "name": "stdout",
     "output_type": "stream",
     "text": [
      "Kristina Nilsson (politician)\n",
      "\tError Kristina Nilsson (politician)\n",
      "\t missing GUID: \tA-lotterierna\n",
      "Kristina Yngwe\n",
      "\tError Kristina Yngwe\n",
      "\t missing GUID: \tA-lotterierna\n",
      "Laila Naraghi\n"
     ]
    },
    {
     "data": {
      "text/html": [
       "141: <a href=http://en.wikipedia.org/wiki/Laila%20Naraghi>A-lotterierna</a> - <a href=http://www.wikidata.org/wiki/Q4968944%23P39>Q4968944</a>  - <a href=http://www.riksdagen.se/sv/ledamoter-partier/ledamot/_f65cb6f1-7001-4e8e-8d32-89d534577ab0>Riksdagen</a> <a href=http://data.riksdagen.se/personlista/?utformat=json&iid=f65cb6f1-7001-4e8e-8d32-89d534577ab0>json</a>"
      ],
      "text/plain": [
       "<IPython.core.display.HTML object>"
      ]
     },
     "metadata": {},
     "output_type": "display_data"
    },
    {
     "name": "stdout",
     "output_type": "stream",
     "text": [
      "Larry Söder\n",
      "\tError Larry Söder\n",
      "\t missing GUID: \tA-lotterierna\n",
      "Lars Adaktusson\n"
     ]
    },
    {
     "data": {
      "text/html": [
       "142: <a href=http://en.wikipedia.org/wiki/Lars%20Adaktusson>A-lotterierna</a> - <a href=http://www.wikidata.org/wiki/Q17080318%23P39>Q17080318</a>  - <a href=http://www.riksdagen.se/sv/ledamoter-partier/ledamot/_4a2cb0d8-5569-4f1b-bd0f-62c7e812a2fb>Riksdagen</a> <a href=http://data.riksdagen.se/personlista/?utformat=json&iid=4a2cb0d8-5569-4f1b-bd0f-62c7e812a2fb>json</a>"
      ],
      "text/plain": [
       "<IPython.core.display.HTML object>"
      ]
     },
     "metadata": {},
     "output_type": "display_data"
    },
    {
     "name": "stdout",
     "output_type": "stream",
     "text": [
      "Lars Andersson (politician)\n"
     ]
    },
    {
     "data": {
      "text/html": [
       "143: <a href=http://en.wikipedia.org/wiki/Lars%20Andersson%20%28politician%29>A-lotterierna</a> - <a href=http://www.wikidata.org/wiki/Q73918460%23P39>Q73918460</a>  - <a href=http://www.riksdagen.se/sv/ledamoter-partier/ledamot/_46472134-8e4e-4c65-856e-d401cad915dd>Riksdagen</a> <a href=http://data.riksdagen.se/personlista/?utformat=json&iid=46472134-8e4e-4c65-856e-d401cad915dd>json</a>"
      ],
      "text/plain": [
       "<IPython.core.display.HTML object>"
      ]
     },
     "metadata": {},
     "output_type": "display_data"
    },
    {
     "name": "stdout",
     "output_type": "stream",
     "text": [
      "Lars Beckman\n",
      "\tError Lars Beckman\n",
      "\t missing GUID: \tA-lotterierna\n",
      "Lars Hjälmered\n"
     ]
    },
    {
     "data": {
      "text/html": [
       "144: <a href=http://en.wikipedia.org/wiki/Lars%20Hj%C3%A4lmered>A-lotterierna</a> - <a href=http://www.wikidata.org/wiki/Q5807932%23P39>Q5807932</a>  - <a href=http://www.riksdagen.se/sv/ledamoter-partier/ledamot/_4cc89ee3-f5bd-4009-a13f-d86a40caff16>Riksdagen</a> <a href=http://data.riksdagen.se/personlista/?utformat=json&iid=4cc89ee3-f5bd-4009-a13f-d86a40caff16>json</a>"
      ],
      "text/plain": [
       "<IPython.core.display.HTML object>"
      ]
     },
     "metadata": {},
     "output_type": "display_data"
    },
    {
     "name": "stdout",
     "output_type": "stream",
     "text": [
      "Lars Jilmstad\n"
     ]
    },
    {
     "data": {
      "text/html": [
       "145: <a href=http://en.wikipedia.org/wiki/Lars%20Jilmstad>A-lotterierna</a> - <a href=http://www.wikidata.org/wiki/Q96309958%23P39>Q96309958</a>  - <a href=http://www.riksdagen.se/sv/ledamoter-partier/ledamot/_66c921d0-cc6d-4137-8e09-bd8c686faa11>Riksdagen</a> <a href=http://data.riksdagen.se/personlista/?utformat=json&iid=66c921d0-cc6d-4137-8e09-bd8c686faa11>json</a>"
      ],
      "text/plain": [
       "<IPython.core.display.HTML object>"
      ]
     },
     "metadata": {},
     "output_type": "display_data"
    },
    {
     "name": "stdout",
     "output_type": "stream",
     "text": [
      "Lars Mejern Larsson\n"
     ]
    },
    {
     "data": {
      "text/html": [
       "146: <a href=http://en.wikipedia.org/wiki/Lars%20Mejern%20Larsson>A-lotterierna</a> - <a href=http://www.wikidata.org/wiki/Q3358494%23P39>Q3358494</a>  - <a href=http://www.riksdagen.se/sv/ledamoter-partier/ledamot/_3badc18d-3c4a-4068-921a-b5fa8a9652d6>Riksdagen</a> <a href=http://data.riksdagen.se/personlista/?utformat=json&iid=3badc18d-3c4a-4068-921a-b5fa8a9652d6>json</a>"
      ],
      "text/plain": [
       "<IPython.core.display.HTML object>"
      ]
     },
     "metadata": {},
     "output_type": "display_data"
    },
    {
     "name": "stdout",
     "output_type": "stream",
     "text": [
      "Lars Püss\n",
      "\tError Lars Püss\n",
      "\t missing GUID: \tA-lotterierna\n",
      "Lars Stjernkvist\n",
      "\tError Lars Stjernkvist\n",
      "\t missing GUID: \tA-lotterierna\n",
      "Lars Thomsson\n"
     ]
    },
    {
     "data": {
      "text/html": [
       "147: <a href=http://en.wikipedia.org/wiki/Lars%20Thomsson>A-lotterierna</a> - <a href=http://www.wikidata.org/wiki/Q70731884%23P39>Q70731884</a>  - <a href=http://www.riksdagen.se/sv/ledamoter-partier/ledamot/_e40dbf5a-203b-4744-84b0-a40ac2a763cb>Riksdagen</a> <a href=http://data.riksdagen.se/personlista/?utformat=json&iid=e40dbf5a-203b-4744-84b0-a40ac2a763cb>json</a>"
      ],
      "text/plain": [
       "<IPython.core.display.HTML object>"
      ]
     },
     "metadata": {},
     "output_type": "display_data"
    },
    {
     "name": "stdout",
     "output_type": "stream",
     "text": [
      "Latvia\n",
      "\t missing GUID: \tA-lotterierna\n",
      "Lawen Redar\n"
     ]
    },
    {
     "data": {
      "text/html": [
       "148: <a href=http://en.wikipedia.org/wiki/Lawen%20Redar>A-lotterierna</a> - <a href=http://www.wikidata.org/wiki/Q18451520%23P39>Q18451520</a>  - <a href=http://www.riksdagen.se/sv/ledamoter-partier/ledamot/_285a3d5f-cb32-4958-9b7c-1545b2faff18>Riksdagen</a> <a href=http://data.riksdagen.se/personlista/?utformat=json&iid=285a3d5f-cb32-4958-9b7c-1545b2faff18>json</a>"
      ],
      "text/plain": [
       "<IPython.core.display.HTML object>"
      ]
     },
     "metadata": {},
     "output_type": "display_data"
    },
    {
     "name": "stdout",
     "output_type": "stream",
     "text": [
      "Left Party (Sweden)\n",
      "\t missing GUID: \tA-lotterierna\n",
      "Leif Linde\n",
      "\tError Leif Linde\n",
      "\t missing GUID: \tA-lotterierna\n",
      "Leif Nysmed\n",
      "\tError Leif Nysmed\n",
      "\t missing GUID: \tA-lotterierna\n",
      "Leila Ali-Elmi\n",
      "\tError Leila Ali-Elmi\n",
      "\t missing GUID: \tA-lotterierna\n",
      "Lena Hallengren\n"
     ]
    },
    {
     "data": {
      "text/html": [
       "149: <a href=http://en.wikipedia.org/wiki/Lena%20Hallengren>A-lotterierna</a> - <a href=http://www.wikidata.org/wiki/Q3431836%23P39>Q3431836</a>  - <a href=http://www.riksdagen.se/sv/ledamoter-partier/ledamot/_3c5cc43c-e4cd-11d6-ae81-0004755038ce>Riksdagen</a> <a href=http://data.riksdagen.se/personlista/?utformat=json&iid=3c5cc43c-e4cd-11d6-ae81-0004755038ce>json</a>"
      ],
      "text/plain": [
       "<IPython.core.display.HTML object>"
      ]
     },
     "metadata": {},
     "output_type": "display_data"
    },
    {
     "name": "stdout",
     "output_type": "stream",
     "text": [
      "Lena Rådström Baastad\n"
     ]
    },
    {
     "data": {
      "text/html": [
       "150: <a href=http://en.wikipedia.org/wiki/Lena%20R%C3%A5dstr%C3%B6m%20Baastad>A-lotterierna</a> - <a href=http://www.wikidata.org/wiki/Q26305110%23P39>Q26305110</a>  - <a href=http://www.riksdagen.se/sv/ledamoter-partier/ledamot/_3303f6e9-7957-4a86-9457-090ef22a54ef>Riksdagen</a> <a href=http://data.riksdagen.se/personlista/?utformat=json&iid=3303f6e9-7957-4a86-9457-090ef22a54ef>json</a>"
      ],
      "text/plain": [
       "<IPython.core.display.HTML object>"
      ]
     },
     "metadata": {},
     "output_type": "display_data"
    },
    {
     "name": "stdout",
     "output_type": "stream",
     "text": [
      "Liberals (Sweden)\n",
      "\t missing GUID: \tA-lotterierna\n",
      "Lina Axelsson Kihlblom\n",
      "\t missing GUID: \tA-lotterierna\n",
      "Lina Nordquist\n"
     ]
    },
    {
     "data": {
      "text/html": [
       "151: <a href=http://en.wikipedia.org/wiki/Lina%20Nordquist>A-lotterierna</a> - <a href=http://www.wikidata.org/wiki/Q16595953%23P39>Q16595953</a>  - <a href=http://www.riksdagen.se/sv/ledamoter-partier/ledamot/_87042942-c4f6-46ff-9eac-fceaf25729d5>Riksdagen</a> <a href=http://data.riksdagen.se/personlista/?utformat=json&iid=87042942-c4f6-46ff-9eac-fceaf25729d5>json</a>"
      ],
      "text/plain": [
       "<IPython.core.display.HTML object>"
      ]
     },
     "metadata": {},
     "output_type": "display_data"
    },
    {
     "name": "stdout",
     "output_type": "stream",
     "text": [
      "Linda Lindberg\n"
     ]
    },
    {
     "data": {
      "text/html": [
       "152: <a href=http://en.wikipedia.org/wiki/Linda%20Lindberg>A-lotterierna</a> - <a href=http://www.wikidata.org/wiki/Q71137014%23P39>Q71137014</a>  - <a href=http://www.riksdagen.se/sv/ledamoter-partier/ledamot/_669411b1-9abf-48dd-86c3-628cc7c5d137>Riksdagen</a> <a href=http://data.riksdagen.se/personlista/?utformat=json&iid=669411b1-9abf-48dd-86c3-628cc7c5d137>json</a>"
      ],
      "text/plain": [
       "<IPython.core.display.HTML object>"
      ]
     },
     "metadata": {},
     "output_type": "display_data"
    },
    {
     "name": "stdout",
     "output_type": "stream",
     "text": [
      "Linda Modig\n"
     ]
    },
    {
     "data": {
      "text/html": [
       "153: <a href=http://en.wikipedia.org/wiki/Linda%20Modig>A-lotterierna</a> - <a href=http://www.wikidata.org/wiki/Q57168715%23P39>Q57168715</a>  - <a href=http://www.riksdagen.se/sv/ledamoter-partier/ledamot/_63ea9085-f68c-4782-ae6e-12d84809d352>Riksdagen</a> <a href=http://data.riksdagen.se/personlista/?utformat=json&iid=63ea9085-f68c-4782-ae6e-12d84809d352>json</a>"
      ],
      "text/plain": [
       "<IPython.core.display.HTML object>"
      ]
     },
     "metadata": {},
     "output_type": "display_data"
    },
    {
     "name": "stdout",
     "output_type": "stream",
     "text": [
      "Linda Westerlund Snecker\n"
     ]
    },
    {
     "data": {
      "text/html": [
       "154: <a href=http://en.wikipedia.org/wiki/Linda%20Westerlund%20Snecker>A-lotterierna</a> - <a href=http://www.wikidata.org/wiki/Q18245930%23P39>Q18245930</a>  - <a href=http://www.riksdagen.se/sv/ledamoter-partier/ledamot/_1c03e794-a9a3-43d5-810a-7951e4c70901>Riksdagen</a> <a href=http://data.riksdagen.se/personlista/?utformat=json&iid=1c03e794-a9a3-43d5-810a-7951e4c70901>json</a>"
      ],
      "text/plain": [
       "<IPython.core.display.HTML object>"
      ]
     },
     "metadata": {},
     "output_type": "display_data"
    },
    {
     "name": "stdout",
     "output_type": "stream",
     "text": [
      "Lindman II Cabinet\n",
      "\tError Lindman II Cabinet\n",
      "\t missing GUID: \tA-lotterierna\n",
      "Lindman I Cabinet\n",
      "\tError Lindman I Cabinet\n",
      "\t missing GUID: \tA-lotterierna\n",
      "Linus Sköld\n",
      "\tError Linus Sköld\n",
      "\t missing GUID: \tA-lotterierna\n",
      "List of cabinets of Sweden\n",
      "\tError List of cabinets of Sweden\n",
      "\t missing GUID: \tA-lotterierna\n",
      "List of members of the Riksdag, 2018–2022\n",
      "\t missing GUID: \tA-lotterierna\n",
      "Lithuania\n",
      "\t missing GUID: \tA-lotterierna\n",
      "Lorena Delgado Varas\n",
      "\tError Lorena Delgado Varas\n",
      "\t missing GUID: \tA-lotterierna\n",
      "Lorentz Tovatt\n"
     ]
    },
    {
     "data": {
      "text/html": [
       "155: <a href=http://en.wikipedia.org/wiki/Lorentz%20Tovatt>A-lotterierna</a> - <a href=http://www.wikidata.org/wiki/Q16633513%23P39>Q16633513</a>  - <a href=http://www.riksdagen.se/sv/ledamoter-partier/ledamot/_087644a0-838d-4768-9133-62745aeee287>Riksdagen</a> <a href=http://data.riksdagen.se/personlista/?utformat=json&iid=087644a0-838d-4768-9133-62745aeee287>json</a>"
      ],
      "text/plain": [
       "<IPython.core.display.HTML object>"
      ]
     },
     "metadata": {},
     "output_type": "display_data"
    },
    {
     "name": "stdout",
     "output_type": "stream",
     "text": [
      "Lotta Johnsson Fornarve\n"
     ]
    },
    {
     "data": {
      "text/html": [
       "156: <a href=http://en.wikipedia.org/wiki/Lotta%20Johnsson%20Fornarve>A-lotterierna</a> - <a href=http://www.wikidata.org/wiki/Q18243097%23P39>Q18243097</a>  - <a href=http://www.riksdagen.se/sv/ledamoter-partier/ledamot/_4468626c-27a1-46c7-b530-f346b70b753b>Riksdagen</a> <a href=http://data.riksdagen.se/personlista/?utformat=json&iid=4468626c-27a1-46c7-b530-f346b70b753b>json</a>"
      ],
      "text/plain": [
       "<IPython.core.display.HTML object>"
      ]
     },
     "metadata": {},
     "output_type": "display_data"
    },
    {
     "name": "stdout",
     "output_type": "stream",
     "text": [
      "Lotta Olsson\n"
     ]
    },
    {
     "data": {
      "text/html": [
       "157: <a href=http://en.wikipedia.org/wiki/Lotta%20Olsson>A-lotterierna</a> - <a href=http://www.wikidata.org/wiki/Q4971184%23P39>Q4971184</a>  - <a href=http://www.riksdagen.se/sv/ledamoter-partier/ledamot/_acbfe365-7ddb-44db-b076-105b2b9b689a>Riksdagen</a> <a href=http://data.riksdagen.se/personlista/?utformat=json&iid=acbfe365-7ddb-44db-b076-105b2b9b689a>json</a>"
      ],
      "text/plain": [
       "<IPython.core.display.HTML object>"
      ]
     },
     "metadata": {},
     "output_type": "display_data"
    },
    {
     "name": "stdout",
     "output_type": "stream",
     "text": [
      "Louise Meijer\n",
      "\tError Louise Meijer\n",
      "\t missing GUID: \tA-lotterierna\n",
      "Ludvig Aspling\n"
     ]
    },
    {
     "data": {
      "text/html": [
       "158: <a href=http://en.wikipedia.org/wiki/Ludvig%20Aspling>A-lotterierna</a> - <a href=http://www.wikidata.org/wiki/Q71131688%23P39>Q71131688</a>  - <a href=http://www.riksdagen.se/sv/ledamoter-partier/ledamot/_5b6bef5c-75ce-4f53-894d-e89afd3b6799>Riksdagen</a> <a href=http://data.riksdagen.se/personlista/?utformat=json&iid=5b6bef5c-75ce-4f53-894d-e89afd3b6799>json</a>"
      ],
      "text/plain": [
       "<IPython.core.display.HTML object>"
      ]
     },
     "metadata": {},
     "output_type": "display_data"
    },
    {
     "name": "stdout",
     "output_type": "stream",
     "text": [
      "Lundeberg Cabinet\n",
      "\tError Lundeberg Cabinet\n",
      "\t missing GUID: \tA-lotterierna\n",
      "Luxembourg\n",
      "\t missing GUID: \tA-lotterierna\n",
      "Löfven III Cabinet\n",
      "\t missing GUID: \tA-lotterierna\n",
      "Löfven II Cabinet\n",
      "\t missing GUID: \tA-lotterierna\n",
      "Löfven I Cabinet\n",
      "\t missing GUID: \tA-lotterierna\n",
      "Magdalena Andersson\n"
     ]
    },
    {
     "data": {
      "text/html": [
       "159: <a href=http://en.wikipedia.org/wiki/Magdalena%20Andersson>A-lotterierna</a> - <a href=http://www.wikidata.org/wiki/Q4935873%23P39>Q4935873</a>  - <a href=http://www.riksdagen.se/sv/ledamoter-partier/ledamot/_dcc2ab7d-3fc1-4a28-b3c7-be1679c047b3>Riksdagen</a> <a href=http://data.riksdagen.se/personlista/?utformat=json&iid=dcc2ab7d-3fc1-4a28-b3c7-be1679c047b3>json</a>"
      ],
      "text/plain": [
       "<IPython.core.display.HTML object>"
      ]
     },
     "metadata": {},
     "output_type": "display_data"
    },
    {
     "name": "stdout",
     "output_type": "stream",
     "text": [
      "Magdalena Schröder\n",
      "\tError Magdalena Schröder\n",
      "\t missing GUID: \tA-lotterierna\n",
      "Magnus Ek\n"
     ]
    },
    {
     "data": {
      "text/html": [
       "160: <a href=http://en.wikipedia.org/wiki/Magnus%20Ek>A-lotterierna</a> - <a href=http://www.wikidata.org/wiki/Q20652801%23P39>Q20652801</a>  - <a href=http://www.riksdagen.se/sv/ledamoter-partier/ledamot/_529ac523-d10b-444b-8441-56a24a66ef5b>Riksdagen</a> <a href=http://data.riksdagen.se/personlista/?utformat=json&iid=529ac523-d10b-444b-8441-56a24a66ef5b>json</a>"
      ],
      "text/plain": [
       "<IPython.core.display.HTML object>"
      ]
     },
     "metadata": {},
     "output_type": "display_data"
    },
    {
     "name": "stdout",
     "output_type": "stream",
     "text": [
      "Magnus Jacobsson\n",
      "\tError Magnus Jacobsson\n",
      "\t missing GUID: \tA-lotterierna\n",
      "Magnus Manhammar\n"
     ]
    },
    {
     "data": {
      "text/html": [
       "161: <a href=http://en.wikipedia.org/wiki/Magnus%20Manhammar>A-lotterierna</a> - <a href=http://www.wikidata.org/wiki/Q5974768%23P39>Q5974768</a>  - <a href=http://www.riksdagen.se/sv/ledamoter-partier/ledamot/_639da251-c800-4b3d-a8c5-6626094c9035>Riksdagen</a> <a href=http://data.riksdagen.se/personlista/?utformat=json&iid=639da251-c800-4b3d-a8c5-6626094c9035>json</a>"
      ],
      "text/plain": [
       "<IPython.core.display.HTML object>"
      ]
     },
     "metadata": {},
     "output_type": "display_data"
    },
    {
     "name": "stdout",
     "output_type": "stream",
     "text": [
      "Magnus Oscarsson\n"
     ]
    },
    {
     "data": {
      "text/html": [
       "162: <a href=http://en.wikipedia.org/wiki/Magnus%20Oscarsson>A-lotterierna</a> - <a href=http://www.wikidata.org/wiki/Q18244900%23P39>Q18244900</a>  - <a href=http://www.riksdagen.se/sv/ledamoter-partier/ledamot/_0d218eb6-6294-4587-8abf-be0a351d7213>Riksdagen</a> <a href=http://data.riksdagen.se/personlista/?utformat=json&iid=0d218eb6-6294-4587-8abf-be0a351d7213>json</a>"
      ],
      "text/plain": [
       "<IPython.core.display.HTML object>"
      ]
     },
     "metadata": {},
     "output_type": "display_data"
    },
    {
     "name": "stdout",
     "output_type": "stream",
     "text": [
      "Magnus Persson (politician)\n",
      "\t missing GUID: \tA-lotterierna\n",
      "Magnus Stuart\n"
     ]
    },
    {
     "data": {
      "text/html": [
       "163: <a href=http://en.wikipedia.org/wiki/Magnus%20Stuart>A-lotterierna</a> - <a href=http://www.wikidata.org/wiki/Q105371172%23P39>Q105371172</a>  - <a href=http://www.riksdagen.se/sv/ledamoter-partier/ledamot/_60c72b3b-16de-4faf-b388-23947e62e933>Riksdagen</a> <a href=http://data.riksdagen.se/personlista/?utformat=json&iid=60c72b3b-16de-4faf-b388-23947e62e933>json</a>"
      ],
      "text/plain": [
       "<IPython.core.display.HTML object>"
      ]
     },
     "metadata": {},
     "output_type": "display_data"
    },
    {
     "name": "stdout",
     "output_type": "stream",
     "text": [
      "Maj Karlsson\n"
     ]
    },
    {
     "data": {
      "text/html": [
       "164: <a href=http://en.wikipedia.org/wiki/Maj%20Karlsson>A-lotterierna</a> - <a href=http://www.wikidata.org/wiki/Q18243244%23P39>Q18243244</a>  - <a href=http://www.riksdagen.se/sv/ledamoter-partier/ledamot/_9d6489d6-6fa5-4420-9224-8968abaa569c>Riksdagen</a> <a href=http://data.riksdagen.se/personlista/?utformat=json&iid=9d6489d6-6fa5-4420-9224-8968abaa569c>json</a>"
      ],
      "text/plain": [
       "<IPython.core.display.HTML object>"
      ]
     },
     "metadata": {},
     "output_type": "display_data"
    },
    {
     "name": "stdout",
     "output_type": "stream",
     "text": [
      "Malin Danielsson\n",
      "\tError Malin Danielsson\n",
      "\t missing GUID: \tA-lotterierna\n",
      "Malin Larsson\n",
      "\tError Malin Larsson\n",
      "\t missing GUID: \tA-lotterierna\n",
      "Malta\n",
      "\t missing GUID: \tA-lotterierna\n",
      "Maltese Government 2017–2022\n",
      "\t missing GUID: \tA-lotterierna\n",
      "Margareta Cederfelt\n"
     ]
    },
    {
     "data": {
      "text/html": [
       "165: <a href=http://en.wikipedia.org/wiki/Margareta%20Cederfelt>A-lotterierna</a> - <a href=http://www.wikidata.org/wiki/Q4942378%23P39>Q4942378</a>  - <a href=http://www.riksdagen.se/sv/ledamoter-partier/ledamot/_d7c329da-83e4-11d4-ae60-0050040c9b55>Riksdagen</a> <a href=http://data.riksdagen.se/personlista/?utformat=json&iid=d7c329da-83e4-11d4-ae60-0050040c9b55>json</a>"
      ],
      "text/plain": [
       "<IPython.core.display.HTML object>"
      ]
     },
     "metadata": {},
     "output_type": "display_data"
    },
    {
     "name": "stdout",
     "output_type": "stream",
     "text": [
      "Maria Gardfjell\n"
     ]
    },
    {
     "data": {
      "text/html": [
       "166: <a href=http://en.wikipedia.org/wiki/Maria%20Gardfjell>A-lotterierna</a> - <a href=http://www.wikidata.org/wiki/Q4949502%23P39>Q4949502</a>  - <a href=http://www.riksdagen.se/sv/ledamoter-partier/ledamot/_d9a13d2e-85ec-4c59-af10-773ff99b8eb1>Riksdagen</a> <a href=http://data.riksdagen.se/personlista/?utformat=json&iid=d9a13d2e-85ec-4c59-af10-773ff99b8eb1>json</a>"
      ],
      "text/plain": [
       "<IPython.core.display.HTML object>"
      ]
     },
     "metadata": {},
     "output_type": "display_data"
    },
    {
     "name": "stdout",
     "output_type": "stream",
     "text": [
      "Maria Malmer Stenergard\n",
      "\tError Maria Malmer Stenergard\n",
      "\t missing GUID: \tA-lotterierna\n",
      "Maria Nilsson\n",
      "\tError Maria Nilsson\n",
      "\t missing GUID: \tA-lotterierna\n",
      "Maria Stockhaus\n",
      "\tError Maria Stockhaus\n",
      "\t missing GUID: \tA-lotterierna\n",
      "Maria Strömkvist\n",
      "\tError Maria Strömkvist\n",
      "\t missing GUID: \tA-lotterierna\n",
      "Marianne Fundahn\n",
      "\tError Marianne Fundahn\n",
      "\t missing GUID: \tA-lotterierna\n",
      "Marie-Louise Hänel Sandström\n",
      "\tError Marie-Louise Hänel Sandström\n",
      "\t missing GUID: \tA-lotterierna\n",
      "Marin Cabinet\n",
      "\t missing GUID: \tA-lotterierna\n",
      "Marita Ulvskog\n"
     ]
    },
    {
     "data": {
      "text/html": [
       "167: <a href=http://en.wikipedia.org/wiki/Marita%20Ulvskog>A-lotterierna</a> - <a href=http://www.wikidata.org/wiki/Q3115681%23P39>Q3115681</a>  - <a href=http://www.riksdagen.se/sv/ledamoter-partier/ledamot/_d7c32336-83e4-11d4-ae60-0050040c9b55>Riksdagen</a> <a href=http://data.riksdagen.se/personlista/?utformat=json&iid=d7c32336-83e4-11d4-ae60-0050040c9b55>json</a>"
      ],
      "text/plain": [
       "<IPython.core.display.HTML object>"
      ]
     },
     "metadata": {},
     "output_type": "display_data"
    },
    {
     "name": "stdout",
     "output_type": "stream",
     "text": [
      "Markus Selin (politician)\n",
      "\tError Markus Selin (politician)\n",
      "\t missing GUID: \tA-lotterierna\n",
      "Markus Wiechel\n"
     ]
    },
    {
     "data": {
      "text/html": [
       "168: <a href=http://en.wikipedia.org/wiki/Markus%20Wiechel>A-lotterierna</a> - <a href=http://www.wikidata.org/wiki/Q6240455%23P39>Q6240455</a>  - <a href=http://www.riksdagen.se/sv/ledamoter-partier/ledamot/_8a9f3c8c-8ce8-4a17-9e57-0109af47efcc>Riksdagen</a> <a href=http://data.riksdagen.se/personlista/?utformat=json&iid=8a9f3c8c-8ce8-4a17-9e57-0109af47efcc>json</a>"
      ],
      "text/plain": [
       "<IPython.core.display.HTML object>"
      ]
     },
     "metadata": {},
     "output_type": "display_data"
    },
    {
     "name": "stdout",
     "output_type": "stream",
     "text": [
      "Marlene Burwick\n"
     ]
    },
    {
     "data": {
      "text/html": [
       "169: <a href=http://en.wikipedia.org/wiki/Marlene%20Burwick>A-lotterierna</a> - <a href=http://www.wikidata.org/wiki/Q42369058%23P39>Q42369058</a>  - <a href=http://www.riksdagen.se/sv/ledamoter-partier/ledamot/_cec8b2f1-f56f-4b7e-974f-eefa299c89cb>Riksdagen</a> <a href=http://data.riksdagen.se/personlista/?utformat=json&iid=cec8b2f1-f56f-4b7e-974f-eefa299c89cb>json</a>"
      ],
      "text/plain": [
       "<IPython.core.display.HTML object>"
      ]
     },
     "metadata": {},
     "output_type": "display_data"
    },
    {
     "name": "stdout",
     "output_type": "stream",
     "text": [
      "Marléne Lund Kopparklint\n",
      "\tError Marléne Lund Kopparklint\n",
      "\t missing GUID: \tA-lotterierna\n",
      "Martin Kinnunen\n"
     ]
    },
    {
     "data": {
      "text/html": [
       "170: <a href=http://en.wikipedia.org/wiki/Martin%20Kinnunen>A-lotterierna</a> - <a href=http://www.wikidata.org/wiki/Q5910434%23P39>Q5910434</a>  - <a href=http://www.riksdagen.se/sv/ledamoter-partier/ledamot/_57cbe134-829b-4fb8-9cc1-ce2f1cd02f3b>Riksdagen</a> <a href=http://data.riksdagen.se/personlista/?utformat=json&iid=57cbe134-829b-4fb8-9cc1-ce2f1cd02f3b>json</a>"
      ],
      "text/plain": [
       "<IPython.core.display.HTML object>"
      ]
     },
     "metadata": {},
     "output_type": "display_data"
    },
    {
     "name": "stdout",
     "output_type": "stream",
     "text": [
      "Martin Ådahl\n",
      "\tError Martin Ådahl\n",
      "\t missing GUID: \tA-lotterierna\n",
      "Martina Johansson\n",
      "\tError Martina Johansson\n",
      "\t missing GUID: \tA-lotterierna\n",
      "Matheus Enholm\n"
     ]
    },
    {
     "data": {
      "text/html": [
       "171: <a href=http://en.wikipedia.org/wiki/Matheus%20Enholm>A-lotterierna</a> - <a href=http://www.wikidata.org/wiki/Q70899253%23P39>Q70899253</a>  - <a href=http://www.riksdagen.se/sv/ledamoter-partier/ledamot/_8c4af927-7bb6-4012-9b46-12adb641f556>Riksdagen</a> <a href=http://data.riksdagen.se/personlista/?utformat=json&iid=8c4af927-7bb6-4012-9b46-12adb641f556>json</a>"
      ],
      "text/plain": [
       "<IPython.core.display.HTML object>"
      ]
     },
     "metadata": {},
     "output_type": "display_data"
    },
    {
     "name": "stdout",
     "output_type": "stream",
     "text": [
      "Mathias Tegnér\n",
      "\tError Mathias Tegnér\n",
      "\t missing GUID: \tA-lotterierna\n",
      "Matilda Ernkrans\n"
     ]
    },
    {
     "data": {
      "text/html": [
       "172: <a href=http://en.wikipedia.org/wiki/Matilda%20Ernkrans>A-lotterierna</a> - <a href=http://www.wikidata.org/wiki/Q3373058%23P39>Q3373058</a>  - <a href=http://www.riksdagen.se/sv/ledamoter-partier/ledamot/_8166bd73-bf10-4ef8-8e01-1975ca921c12>Riksdagen</a> <a href=http://data.riksdagen.se/personlista/?utformat=json&iid=8166bd73-bf10-4ef8-8e01-1975ca921c12>json</a>"
      ],
      "text/plain": [
       "<IPython.core.display.HTML object>"
      ]
     },
     "metadata": {},
     "output_type": "display_data"
    },
    {
     "name": "stdout",
     "output_type": "stream",
     "text": [
      "Mats Berglund\n",
      "\tError Mats Berglund\n",
      "\t missing GUID: \tA-lotterierna\n",
      "Mats Green\n"
     ]
    },
    {
     "data": {
      "text/html": [
       "173: <a href=http://en.wikipedia.org/wiki/Mats%20Green>A-lotterierna</a> - <a href=http://www.wikidata.org/wiki/Q18239250%23P39>Q18239250</a>  - <a href=http://www.riksdagen.se/sv/ledamoter-partier/ledamot/_d5c26045-6fd1-4c05-8f97-7195e1e324ff>Riksdagen</a> <a href=http://data.riksdagen.se/personlista/?utformat=json&iid=d5c26045-6fd1-4c05-8f97-7195e1e324ff>json</a>"
      ],
      "text/plain": [
       "<IPython.core.display.HTML object>"
      ]
     },
     "metadata": {},
     "output_type": "display_data"
    },
    {
     "name": "stdout",
     "output_type": "stream",
     "text": [
      "Mats Nordberg\n"
     ]
    },
    {
     "data": {
      "text/html": [
       "174: <a href=http://en.wikipedia.org/wiki/Mats%20Nordberg>A-lotterierna</a> - <a href=http://www.wikidata.org/wiki/Q71054855%23P39>Q71054855</a>  - <a href=http://www.riksdagen.se/sv/ledamoter-partier/ledamot/_3c0112b7-fdd4-4f06-833b-a27c93d6efdf>Riksdagen</a> <a href=http://data.riksdagen.se/personlista/?utformat=json&iid=3c0112b7-fdd4-4f06-833b-a27c93d6efdf>json</a>"
      ],
      "text/plain": [
       "<IPython.core.display.HTML object>"
      ]
     },
     "metadata": {},
     "output_type": "display_data"
    },
    {
     "name": "stdout",
     "output_type": "stream",
     "text": [
      "Mats Persson\n",
      "\t missing GUID: \tA-lotterierna\n",
      "Mats Wiking\n",
      "\tError Mats Wiking\n",
      "\t missing GUID: \tA-lotterierna\n",
      "Mattias Bäckström Johansson\n"
     ]
    },
    {
     "data": {
      "text/html": [
       "175: <a href=http://en.wikipedia.org/wiki/Mattias%20B%C3%A4ckstr%C3%B6m%20Johansson>A-lotterierna</a> - <a href=http://www.wikidata.org/wiki/Q5887149%23P39>Q5887149</a>  - <a href=http://www.riksdagen.se/sv/ledamoter-partier/ledamot/_cb0336b4-54a8-4384-abe3-8d6cbebc63fa>Riksdagen</a> <a href=http://data.riksdagen.se/personlista/?utformat=json&iid=cb0336b4-54a8-4384-abe3-8d6cbebc63fa>json</a>"
      ],
      "text/plain": [
       "<IPython.core.display.HTML object>"
      ]
     },
     "metadata": {},
     "output_type": "display_data"
    },
    {
     "name": "stdout",
     "output_type": "stream",
     "text": [
      "Mattias Jonsson\n",
      "\tError Mattias Jonsson\n",
      "\t missing GUID: \tA-lotterierna\n",
      "Mattias Karlsson (i Luleå)\n",
      "\tError Mattias Karlsson (i Luleå)\n",
      "\t missing GUID: \tA-lotterierna\n",
      "Mattias Karlsson (politician)\n"
     ]
    },
    {
     "data": {
      "text/html": [
       "176: <a href=http://en.wikipedia.org/wiki/Mattias%20Karlsson%20%28politician%29>A-lotterierna</a> - <a href=http://www.wikidata.org/wiki/Q5901848%23P39>Q5901848</a>  - <a href=http://www.riksdagen.se/sv/ledamoter-partier/ledamot/_727e2213-ac97-4ceb-bfab-f228debd8074>Riksdagen</a> <a href=http://data.riksdagen.se/personlista/?utformat=json&iid=727e2213-ac97-4ceb-bfab-f228debd8074>json</a>"
      ],
      "text/plain": [
       "<IPython.core.display.HTML object>"
      ]
     },
     "metadata": {},
     "output_type": "display_data"
    },
    {
     "name": "stdout",
     "output_type": "stream",
     "text": [
      "Mattias Ottosson\n"
     ]
    },
    {
     "data": {
      "text/html": [
       "177: <a href=http://en.wikipedia.org/wiki/Mattias%20Ottosson>A-lotterierna</a> - <a href=http://www.wikidata.org/wiki/Q16633339%23P39>Q16633339</a>  - <a href=http://www.riksdagen.se/sv/ledamoter-partier/ledamot/_df8c5ae3-43e8-4d8a-bf64-67b9a78fef66>Riksdagen</a> <a href=http://data.riksdagen.se/personlista/?utformat=json&iid=df8c5ae3-43e8-4d8a-bf64-67b9a78fef66>json</a>"
      ],
      "text/plain": [
       "<IPython.core.display.HTML object>"
      ]
     },
     "metadata": {},
     "output_type": "display_data"
    },
    {
     "name": "stdout",
     "output_type": "stream",
     "text": [
      "Mattias Vepsä\n"
     ]
    },
    {
     "data": {
      "text/html": [
       "178: <a href=http://en.wikipedia.org/wiki/Mattias%20Veps%C3%A4>A-lotterierna</a> - <a href=http://www.wikidata.org/wiki/Q6223773%23P39>Q6223773</a>  - <a href=http://www.riksdagen.se/sv/ledamoter-partier/ledamot/_b20fb0ab-e161-4d7a-acc9-57c3923d5456>Riksdagen</a> <a href=http://data.riksdagen.se/personlista/?utformat=json&iid=b20fb0ab-e161-4d7a-acc9-57c3923d5456>json</a>"
      ],
      "text/plain": [
       "<IPython.core.display.HTML object>"
      ]
     },
     "metadata": {},
     "output_type": "display_data"
    },
    {
     "name": "stdout",
     "output_type": "stream",
     "text": [
      "Max Elger\n",
      "\t missing GUID: \tA-lotterierna\n",
      "Member of Parliament (Sweden)\n",
      "\t missing GUID: \tA-lotterierna\n",
      "Member state of the European Union\n",
      "\t missing GUID: \tA-lotterierna\n",
      "Mia Sydow Mölleby\n"
     ]
    },
    {
     "data": {
      "text/html": [
       "179: <a href=http://en.wikipedia.org/wiki/Mia%20Sydow%20M%C3%B6lleby>A-lotterierna</a> - <a href=http://www.wikidata.org/wiki/Q4981668%23P39>Q4981668</a>  - <a href=http://www.riksdagen.se/sv/ledamoter-partier/ledamot/_0c2f572c-a7ce-4f39-8ea9-9a758a01680c>Riksdagen</a> <a href=http://data.riksdagen.se/personlista/?utformat=json&iid=0c2f572c-a7ce-4f39-8ea9-9a758a01680c>json</a>"
      ],
      "text/plain": [
       "<IPython.core.display.HTML object>"
      ]
     },
     "metadata": {},
     "output_type": "display_data"
    },
    {
     "name": "stdout",
     "output_type": "stream",
     "text": [
      "Michael Anefur\n",
      "\tError Michael Anefur\n",
      "\t missing GUID: \tA-lotterierna\n",
      "Michael Rubbestad\n"
     ]
    },
    {
     "data": {
      "text/html": [
       "180: <a href=http://en.wikipedia.org/wiki/Michael%20Rubbestad>A-lotterierna</a> - <a href=http://www.wikidata.org/wiki/Q62745971%23P39>Q62745971</a>  - <a href=http://www.riksdagen.se/sv/ledamoter-partier/ledamot/_6025366f-76b8-4664-a3ef-ea0864fc8365>Riksdagen</a> <a href=http://data.riksdagen.se/personlista/?utformat=json&iid=6025366f-76b8-4664-a3ef-ea0864fc8365>json</a>"
      ],
      "text/plain": [
       "<IPython.core.display.HTML object>"
      ]
     },
     "metadata": {},
     "output_type": "display_data"
    },
    {
     "name": "stdout",
     "output_type": "stream",
     "text": [
      "Mikael Dahlqvist\n"
     ]
    },
    {
     "data": {
      "text/html": [
       "181: <a href=http://en.wikipedia.org/wiki/Mikael%20Dahlqvist>A-lotterierna</a> - <a href=http://www.wikidata.org/wiki/Q18649252%23P39>Q18649252</a>  - <a href=http://www.riksdagen.se/sv/ledamoter-partier/ledamot/_4db15792-072c-456e-a46c-6d0cee07889e>Riksdagen</a> <a href=http://data.riksdagen.se/personlista/?utformat=json&iid=4db15792-072c-456e-a46c-6d0cee07889e>json</a>"
      ],
      "text/plain": [
       "<IPython.core.display.HTML object>"
      ]
     },
     "metadata": {},
     "output_type": "display_data"
    },
    {
     "name": "stdout",
     "output_type": "stream",
     "text": [
      "Mikael Damberg\n"
     ]
    },
    {
     "data": {
      "text/html": [
       "182: <a href=http://en.wikipedia.org/wiki/Mikael%20Damberg>A-lotterierna</a> - <a href=http://www.wikidata.org/wiki/Q3372917%23P39>Q3372917</a>  - <a href=http://www.riksdagen.se/sv/ledamoter-partier/ledamot/_70b5dfce-7871-4e6e-b0bf-a0d482fa4c6b>Riksdagen</a> <a href=http://data.riksdagen.se/personlista/?utformat=json&iid=70b5dfce-7871-4e6e-b0bf-a0d482fa4c6b>json</a>"
      ],
      "text/plain": [
       "<IPython.core.display.HTML object>"
      ]
     },
     "metadata": {},
     "output_type": "display_data"
    },
    {
     "name": "stdout",
     "output_type": "stream",
     "text": [
      "Mikael Damsgaard\n"
     ]
    },
    {
     "data": {
      "text/html": [
       "183: <a href=http://en.wikipedia.org/wiki/Mikael%20Damsgaard>A-lotterierna</a> - <a href=http://www.wikidata.org/wiki/Q70407251%23P39>Q70407251</a>  - <a href=http://www.riksdagen.se/sv/ledamoter-partier/ledamot/_cd568a26-75c0-401e-a4de-d43589a8dc21>Riksdagen</a> <a href=http://data.riksdagen.se/personlista/?utformat=json&iid=cd568a26-75c0-401e-a4de-d43589a8dc21>json</a>"
      ],
      "text/plain": [
       "<IPython.core.display.HTML object>"
      ]
     },
     "metadata": {},
     "output_type": "display_data"
    },
    {
     "name": "stdout",
     "output_type": "stream",
     "text": [
      "Mikael Eskilandersson\n"
     ]
    },
    {
     "data": {
      "text/html": [
       "184: <a href=http://en.wikipedia.org/wiki/Mikael%20Eskilandersson>A-lotterierna</a> - <a href=http://www.wikidata.org/wiki/Q18238731%23P39>Q18238731</a>  - <a href=http://www.riksdagen.se/sv/ledamoter-partier/ledamot/_cf98df89-2103-40cc-8524-b2df33125a3f>Riksdagen</a> <a href=http://data.riksdagen.se/personlista/?utformat=json&iid=cf98df89-2103-40cc-8524-b2df33125a3f>json</a>"
      ],
      "text/plain": [
       "<IPython.core.display.HTML object>"
      ]
     },
     "metadata": {},
     "output_type": "display_data"
    },
    {
     "name": "stdout",
     "output_type": "stream",
     "text": [
      "Mikael Larsson (politician)\n",
      "\tError Mikael Larsson (politician)\n",
      "\t missing GUID: \tA-lotterierna\n",
      "Mikael Oscarsson\n"
     ]
    },
    {
     "data": {
      "text/html": [
       "185: <a href=http://en.wikipedia.org/wiki/Mikael%20Oscarsson>A-lotterierna</a> - <a href=http://www.wikidata.org/wiki/Q6030080%23P39>Q6030080</a>  - <a href=http://www.riksdagen.se/sv/ledamoter-partier/ledamot/_d7c3256b-83e4-11d4-ae60-0050040c9b55>Riksdagen</a> <a href=http://data.riksdagen.se/personlista/?utformat=json&iid=d7c3256b-83e4-11d4-ae60-0050040c9b55>json</a>"
      ],
      "text/plain": [
       "<IPython.core.display.HTML object>"
      ]
     },
     "metadata": {},
     "output_type": "display_data"
    },
    {
     "name": "stdout",
     "output_type": "stream",
     "text": [
      "Mikael Strandman\n"
     ]
    },
    {
     "data": {
      "text/html": [
       "186: <a href=http://en.wikipedia.org/wiki/Mikael%20Strandman>A-lotterierna</a> - <a href=http://www.wikidata.org/wiki/Q71143822%23P39>Q71143822</a>  - <a href=http://www.riksdagen.se/sv/ledamoter-partier/ledamot/_eda7cbeb-16f4-4a35-b0cd-ca4158e60906>Riksdagen</a> <a href=http://data.riksdagen.se/personlista/?utformat=json&iid=eda7cbeb-16f4-4a35-b0cd-ca4158e60906>json</a>"
      ],
      "text/plain": [
       "<IPython.core.display.HTML object>"
      ]
     },
     "metadata": {},
     "output_type": "display_data"
    },
    {
     "name": "stdout",
     "output_type": "stream",
     "text": [
      "Minister for Consumer Affairs (Sweden)\n",
      "\t missing GUID: \tA-lotterierna\n",
      "Minister for Culture (Sweden)\n",
      "\t missing GUID: \tA-lotterierna\n",
      "Minister for Defence (Sweden)\n",
      "\tError Minister for Defence (Sweden)\n",
      "\t missing GUID: \tA-lotterierna\n",
      "Minister for Democracy (Sweden)\n",
      "\t missing GUID: \tA-lotterierna\n",
      "Minister for Digital Development (Sweden)\n",
      "\t missing GUID: \tA-lotterierna\n",
      "Minister for EU Affairs (Sweden)\n",
      "\t missing GUID: \tA-lotterierna\n",
      "Minister for Education (Sweden)\n",
      "\t missing GUID: \tA-lotterierna\n",
      "Minister for Employment (Sweden)\n",
      "\tError Minister for Employment (Sweden)\n",
      "\t missing GUID: \tA-lotterierna\n",
      "Minister for Energy (Sweden)\n",
      "\t missing GUID: \tA-lotterierna\n",
      "Minister for Enterprise (Sweden)\n",
      "\tError Minister for Enterprise (Sweden)\n",
      "\t missing GUID: \tA-lotterierna\n",
      "Minister for Finance (Sweden)\n",
      "\t missing GUID: \tA-lotterierna\n",
      "Minister for Financial Markets (Sweden)\n",
      "\t missing GUID: \tA-lotterierna\n",
      "Minister for Foreign Affairs (Sweden)\n",
      "\t missing GUID: \tA-lotterierna\n",
      "Minister for Health and Social Affairs (Sweden)\n",
      "\t missing GUID: \tA-lotterierna\n",
      "Minister for Housing (Sweden)\n",
      "\t missing GUID: \tA-lotterierna\n",
      "Minister for Infrastructure (Sweden)\n",
      "\t missing GUID: \tA-lotterierna\n",
      "Minister for Integration (Sweden)\n",
      "\t missing GUID: \tA-lotterierna\n",
      "Minister for International Development Cooperation (Sweden)\n",
      "\t missing GUID: \tA-lotterierna\n",
      "Minister for Justice (Sweden)\n",
      "\t missing GUID: \tA-lotterierna\n",
      "Minister for Migration (Sweden)\n",
      "\t missing GUID: \tA-lotterierna\n",
      "Minister for Nordic Cooperation (Sweden)\n",
      "\t missing GUID: \tA-lotterierna\n",
      "Minister for Public Administration (Sweden)\n",
      "\tError Minister for Public Administration (Sweden)\n",
      "\t missing GUID: \tA-lotterierna\n",
      "Minister for Rural Affairs (Sweden)\n",
      "\t missing GUID: \tA-lotterierna\n",
      "Minister for Social Security (Sweden)\n",
      "\t missing GUID: \tA-lotterierna\n",
      "Minister for Sports (Sweden)\n",
      "\t missing GUID: \tA-lotterierna\n",
      "Minister for Trade (Sweden)\n",
      "\t missing GUID: \tA-lotterierna\n",
      "Minister for the Climate (Sweden)\n",
      "\t missing GUID: \tA-lotterierna\n",
      "Minister for the Environment (Sweden)\n",
      "\t missing GUID: \tA-lotterierna\n",
      "Minister of the Interior (Sweden)\n",
      "\t missing GUID: \tA-lotterierna\n",
      "Ministry of Culture (Sweden)\n",
      "\t missing GUID: \tA-lotterierna\n",
      "Ministry of Defence (Sweden)\n",
      "\t missing GUID: \tA-lotterierna\n",
      "Ministry of Education and Research (Sweden)\n",
      "\t missing GUID: \tA-lotterierna\n",
      "Ministry of Employment (Sweden)\n",
      "\t missing GUID: \tA-lotterierna\n",
      "Ministry of Enterprise and Innovation (Sweden)\n",
      "\t missing GUID: \tA-lotterierna\n",
      "Ministry of Finance (Sweden)\n",
      "\t missing GUID: \tA-lotterierna\n",
      "Ministry of Foreign Affairs (Sweden)\n",
      "\tError Ministry of Foreign Affairs (Sweden)\n",
      "\t missing GUID: \tA-lotterierna\n",
      "Ministry of Health and Social Affairs (Sweden)\n",
      "\t missing GUID: \tA-lotterierna\n",
      "Ministry of Infrastructure (Sweden)\n",
      "\t missing GUID: \tA-lotterierna\n",
      "Ministry of Justice (Sweden)\n",
      "\t missing GUID: \tA-lotterierna\n",
      "Ministry of the Environment (Sweden)\n",
      "\t missing GUID: \tA-lotterierna\n",
      "Minority government\n",
      "\t missing GUID: \tA-lotterierna\n",
      "Moderate Party\n",
      "\t missing GUID: \tA-lotterierna\n",
      "Momodou Malcolm Jallow\n",
      "\tError Momodou Malcolm Jallow\n",
      "\t missing GUID: \tA-lotterierna\n",
      "Mona Sahlin\n"
     ]
    },
    {
     "data": {
      "text/html": [
       "187: <a href=http://en.wikipedia.org/wiki/Mona%20Sahlin>A-lotterierna</a> - <a href=http://www.wikidata.org/wiki/Q231413%23P39>Q231413</a>  - <a href=http://www.riksdagen.se/sv/ledamoter-partier/ledamot/_d7c31a3f-83e4-11d4-ae60-0050040c9b55>Riksdagen</a> <a href=http://data.riksdagen.se/personlista/?utformat=json&iid=d7c31a3f-83e4-11d4-ae60-0050040c9b55>json</a>"
      ],
      "text/plain": [
       "<IPython.core.display.HTML object>"
      ]
     },
     "metadata": {},
     "output_type": "display_data"
    },
    {
     "name": "stdout",
     "output_type": "stream",
     "text": [
      "Monarchy of Sweden\n",
      "\t missing GUID: \tA-lotterierna\n",
      "Monica Haider\n",
      "\tError Monica Haider\n",
      "\t missing GUID: \tA-lotterierna\n",
      "Morgan Johansson\n"
     ]
    },
    {
     "data": {
      "text/html": [
       "188: <a href=http://en.wikipedia.org/wiki/Morgan%20Johansson>A-lotterierna</a> - <a href=http://www.wikidata.org/wiki/Q5887217%23P39>Q5887217</a>  - <a href=http://www.riksdagen.se/sv/ledamoter-partier/ledamot/_d7c32690-83e4-11d4-ae60-0050040c9b55>Riksdagen</a> <a href=http://data.riksdagen.se/personlista/?utformat=json&iid=d7c32690-83e4-11d4-ae60-0050040c9b55>json</a>"
      ],
      "text/plain": [
       "<IPython.core.display.HTML object>"
      ]
     },
     "metadata": {},
     "output_type": "display_data"
    },
    {
     "name": "stdout",
     "output_type": "stream",
     "text": [
      "Netherlands\n",
      "\t missing GUID: \tA-lotterierna\n",
      "Nicklas Attefjord\n",
      "\tError Nicklas Attefjord\n",
      "\t missing GUID: \tA-lotterierna\n",
      "Niels Paarup-Petersen\n",
      "\tError Niels Paarup-Petersen\n",
      "\t missing GUID: \tA-lotterierna\n",
      "Niklas Karlsson\n",
      "\tError Niklas Karlsson\n",
      "\t missing GUID: \tA-lotterierna\n",
      "Niklas Wykman\n"
     ]
    },
    {
     "data": {
      "text/html": [
       "189: <a href=http://en.wikipedia.org/wiki/Niklas%20Wykman>A-lotterierna</a> - <a href=http://www.wikidata.org/wiki/Q6247957%23P39>Q6247957</a>  - <a href=http://www.riksdagen.se/sv/ledamoter-partier/ledamot/_ab589436-528b-42c5-8e0c-28849b0d2294>Riksdagen</a> <a href=http://data.riksdagen.se/personlista/?utformat=json&iid=ab589436-528b-42c5-8e0c-28849b0d2294>json</a>"
      ],
      "text/plain": [
       "<IPython.core.display.HTML object>"
      ]
     },
     "metadata": {},
     "output_type": "display_data"
    },
    {
     "name": "stdout",
     "output_type": "stream",
     "text": [
      "Nina Lundström\n"
     ]
    },
    {
     "data": {
      "text/html": [
       "190: <a href=http://en.wikipedia.org/wiki/Nina%20Lundstr%C3%B6m>A-lotterierna</a> - <a href=http://www.wikidata.org/wiki/Q4356431%23P39>Q4356431</a>  - <a href=http://www.riksdagen.se/sv/ledamoter-partier/ledamot/_241a3fd7-124c-4e9e-ac01-9083f36b3295>Riksdagen</a> <a href=http://data.riksdagen.se/personlista/?utformat=json&iid=241a3fd7-124c-4e9e-ac01-9083f36b3295>json</a>"
      ],
      "text/plain": [
       "<IPython.core.display.HTML object>"
      ]
     },
     "metadata": {},
     "output_type": "display_data"
    },
    {
     "name": "stdout",
     "output_type": "stream",
     "text": [
      "Nooshi Dadgostar\n"
     ]
    },
    {
     "data": {
      "text/html": [
       "191: <a href=http://en.wikipedia.org/wiki/Nooshi%20Dadgostar>A-lotterierna</a> - <a href=http://www.wikidata.org/wiki/Q18238235%23P39>Q18238235</a>  - <a href=http://www.riksdagen.se/sv/ledamoter-partier/ledamot/_78d79a96-956f-4ac3-bbf7-2b15b3d86ce7>Riksdagen</a> <a href=http://data.riksdagen.se/personlista/?utformat=json&iid=78d79a96-956f-4ac3-bbf7-2b15b3d86ce7>json</a>"
      ],
      "text/plain": [
       "<IPython.core.display.HTML object>"
      ]
     },
     "metadata": {},
     "output_type": "display_data"
    },
    {
     "name": "stdout",
     "output_type": "stream",
     "text": [
      "Noria Manouchi\n",
      "\tError Noria Manouchi\n",
      "\t missing GUID: \tA-lotterierna\n",
      "Ola Johansson (politician)\n"
     ]
    },
    {
     "data": {
      "text/html": [
       "192: <a href=http://en.wikipedia.org/wiki/Ola%20Johansson%20%28politician%29>A-lotterierna</a> - <a href=http://www.wikidata.org/wiki/Q5887280%23P39>Q5887280</a>  - <a href=http://www.riksdagen.se/sv/ledamoter-partier/ledamot/_728bd800-61df-4b9a-86ed-1fe3d8479f14>Riksdagen</a> <a href=http://data.riksdagen.se/personlista/?utformat=json&iid=728bd800-61df-4b9a-86ed-1fe3d8479f14>json</a>"
      ],
      "text/plain": [
       "<IPython.core.display.HTML object>"
      ]
     },
     "metadata": {},
     "output_type": "display_data"
    },
    {
     "name": "stdout",
     "output_type": "stream",
     "text": [
      "Ola Möller (politician)\n",
      "\tError Ola Möller (politician)\n",
      "\t missing GUID: \tA-lotterierna\n",
      "Olle Thorell\n",
      "\tError Olle Thorell\n",
      "\t missing GUID: \tA-lotterierna\n",
      "Olof Palme\n",
      "\t missing GUID: \tA-lotterierna\n",
      "Olof Palme International Center\n",
      "\t missing GUID: \tA-lotterierna\n",
      "Oscar Sjöstedt\n"
     ]
    },
    {
     "data": {
      "text/html": [
       "193: <a href=http://en.wikipedia.org/wiki/Oscar%20Sj%C3%B6stedt>A-lotterierna</a> - <a href=http://www.wikidata.org/wiki/Q18617010%23P39>Q18617010</a>  - <a href=http://www.riksdagen.se/sv/ledamoter-partier/ledamot/_78e41c66-0d03-4914-9369-f03b795217e5>Riksdagen</a> <a href=http://data.riksdagen.se/personlista/?utformat=json&iid=78e41c66-0d03-4914-9369-f03b795217e5>json</a>"
      ],
      "text/plain": [
       "<IPython.core.display.HTML object>"
      ]
     },
     "metadata": {},
     "output_type": "display_data"
    },
    {
     "name": "stdout",
     "output_type": "stream",
     "text": [
      "Palme II Cabinet\n",
      "\t missing GUID: \tA-lotterierna\n",
      "Palme I Cabinet\n",
      "\t missing GUID: \tA-lotterierna\n",
      "Parliamentary group leader\n",
      "\t missing GUID: \tA-lotterierna\n",
      "Patrick Reslow\n"
     ]
    },
    {
     "data": {
      "text/html": [
       "194: <a href=http://en.wikipedia.org/wiki/Patrick%20Reslow>A-lotterierna</a> - <a href=http://www.wikidata.org/wiki/Q6068516%23P39>Q6068516</a>  - <a href=http://www.riksdagen.se/sv/ledamoter-partier/ledamot/_6aa5f2eb-568a-4853-a925-65fee736b037>Riksdagen</a> <a href=http://data.riksdagen.se/personlista/?utformat=json&iid=6aa5f2eb-568a-4853-a925-65fee736b037>json</a>"
      ],
      "text/plain": [
       "<IPython.core.display.HTML object>"
      ]
     },
     "metadata": {},
     "output_type": "display_data"
    },
    {
     "name": "stdout",
     "output_type": "stream",
     "text": [
      "Patrik Björck\n",
      "\tError Patrik Björck\n",
      "\t missing GUID: \tA-lotterierna\n",
      "Patrik Engström\n",
      "\tError Patrik Engström\n",
      "\t missing GUID: \tA-lotterierna\n",
      "Patrik Jönsson\n",
      "\tError Patrik Jönsson\n",
      "\t missing GUID: \tA-lotterierna\n",
      "Patrik Lundqvist\n",
      "\tError Patrik Lundqvist\n",
      "\t missing GUID: \tA-lotterierna\n",
      "Paula Holmqvist\n"
     ]
    },
    {
     "data": {
      "text/html": [
       "195: <a href=http://en.wikipedia.org/wiki/Paula%20Holmqvist>A-lotterierna</a> - <a href=http://www.wikidata.org/wiki/Q18202338%23P39>Q18202338</a>  - <a href=http://www.riksdagen.se/sv/ledamoter-partier/ledamot/_ee75e6d6-b026-4d65-a54e-f02861c80721>Riksdagen</a> <a href=http://data.riksdagen.se/personlista/?utformat=json&iid=ee75e6d6-b026-4d65-a54e-f02861c80721>json</a>"
      ],
      "text/plain": [
       "<IPython.core.display.HTML object>"
      ]
     },
     "metadata": {},
     "output_type": "display_data"
    },
    {
     "name": "stdout",
     "output_type": "stream",
     "text": [
      "Paula Örn\n",
      "\tError Paula Örn\n",
      "\t missing GUID: \tA-lotterierna\n",
      "Pehrsson-Bramstorp Cabinet\n",
      "\tError Pehrsson-Bramstorp Cabinet\n",
      "\t missing GUID: \tA-lotterierna\n",
      "People's House\n",
      "\t missing GUID: \tA-lotterierna\n",
      "Per-Arne Håkansson\n",
      "\tError Per-Arne Håkansson\n",
      "\t missing GUID: \tA-lotterierna\n",
      "Per Albin Hansson\n",
      "\t missing GUID: \tA-lotterierna\n",
      "Per Lodenius\n"
     ]
    },
    {
     "data": {
      "text/html": [
       "196: <a href=http://en.wikipedia.org/wiki/Per%20Lodenius>A-lotterierna</a> - <a href=http://www.wikidata.org/wiki/Q5962258%23P39>Q5962258</a>  - <a href=http://www.riksdagen.se/sv/ledamoter-partier/ledamot/_66c12cfb-4888-443a-9e31-f64671296908>Riksdagen</a> <a href=http://data.riksdagen.se/personlista/?utformat=json&iid=66c12cfb-4888-443a-9e31-f64671296908>json</a>"
      ],
      "text/plain": [
       "<IPython.core.display.HTML object>"
      ]
     },
     "metadata": {},
     "output_type": "display_data"
    },
    {
     "name": "stdout",
     "output_type": "stream",
     "text": [
      "Per Ramhorn\n"
     ]
    },
    {
     "data": {
      "text/html": [
       "197: <a href=http://en.wikipedia.org/wiki/Per%20Ramhorn>A-lotterierna</a> - <a href=http://www.wikidata.org/wiki/Q6062372%23P39>Q6062372</a>  - <a href=http://www.riksdagen.se/sv/ledamoter-partier/ledamot/_e9375099-ca5f-4aac-a0ab-de8e3ed1ee99>Riksdagen</a> <a href=http://data.riksdagen.se/personlista/?utformat=json&iid=e9375099-ca5f-4aac-a0ab-de8e3ed1ee99>json</a>"
      ],
      "text/plain": [
       "<IPython.core.display.HTML object>"
      ]
     },
     "metadata": {},
     "output_type": "display_data"
    },
    {
     "name": "stdout",
     "output_type": "stream",
     "text": [
      "Per Schöldberg\n"
     ]
    },
    {
     "data": {
      "text/html": [
       "198: <a href=http://en.wikipedia.org/wiki/Per%20Sch%C3%B6ldberg>A-lotterierna</a> - <a href=http://www.wikidata.org/wiki/Q71064125%23P39>Q71064125</a>  - <a href=http://www.riksdagen.se/sv/ledamoter-partier/ledamot/_679f593a-0cce-4fbc-a5e4-0d803b93ac20>Riksdagen</a> <a href=http://data.riksdagen.se/personlista/?utformat=json&iid=679f593a-0cce-4fbc-a5e4-0d803b93ac20>json</a>"
      ],
      "text/plain": [
       "<IPython.core.display.HTML object>"
      ]
     },
     "metadata": {},
     "output_type": "display_data"
    },
    {
     "name": "stdout",
     "output_type": "stream",
     "text": [
      "Per Söderlund\n"
     ]
    },
    {
     "data": {
      "text/html": [
       "199: <a href=http://en.wikipedia.org/wiki/Per%20S%C3%B6derlund>A-lotterierna</a> - <a href=http://www.wikidata.org/wiki/Q71546781%23P39>Q71546781</a>  - <a href=http://www.riksdagen.se/sv/ledamoter-partier/ledamot/_f3da7403-18a0-454d-bcac-9a0a36783d38>Riksdagen</a> <a href=http://data.riksdagen.se/personlista/?utformat=json&iid=f3da7403-18a0-454d-bcac-9a0a36783d38>json</a>"
      ],
      "text/plain": [
       "<IPython.core.display.HTML object>"
      ]
     },
     "metadata": {},
     "output_type": "display_data"
    },
    {
     "name": "stdout",
     "output_type": "stream",
     "text": [
      "Per Åsling\n"
     ]
    },
    {
     "data": {
      "text/html": [
       "200: <a href=http://en.wikipedia.org/wiki/Per%20%C3%85sling>A-lotterierna</a> - <a href=http://www.wikidata.org/wiki/Q6255956%23P39>Q6255956</a>  - <a href=http://www.riksdagen.se/sv/ledamoter-partier/ledamot/_74c39a37-e184-44f6-9a7e-36cdb06c9dcc>Riksdagen</a> <a href=http://data.riksdagen.se/personlista/?utformat=json&iid=74c39a37-e184-44f6-9a7e-36cdb06c9dcc>json</a>"
      ],
      "text/plain": [
       "<IPython.core.display.HTML object>"
      ]
     },
     "metadata": {},
     "output_type": "display_data"
    },
    {
     "name": "stdout",
     "output_type": "stream",
     "text": [
      "Pernilla Stålhammar\n",
      "\tError Pernilla Stålhammar\n",
      "\t missing GUID: \tA-lotterierna\n",
      "Persson Cabinet\n",
      "\t missing GUID: \tA-lotterierna\n",
      "Peter Helander (politician)\n",
      "\tError Peter Helander (politician)\n",
      "\t missing GUID: \tA-lotterierna\n",
      "Peter Hultqvist\n"
     ]
    },
    {
     "data": {
      "text/html": [
       "201: <a href=http://en.wikipedia.org/wiki/Peter%20Hultqvist>A-lotterierna</a> - <a href=http://www.wikidata.org/wiki/Q3370162%23P39>Q3370162</a>  - <a href=http://www.riksdagen.se/sv/ledamoter-partier/ledamot/_8fdcd2db-91db-4cba-ae0c-258061f5ed59>Riksdagen</a> <a href=http://data.riksdagen.se/personlista/?utformat=json&iid=8fdcd2db-91db-4cba-ae0c-258061f5ed59>json</a>"
      ],
      "text/plain": [
       "<IPython.core.display.HTML object>"
      ]
     },
     "metadata": {},
     "output_type": "display_data"
    },
    {
     "name": "stdout",
     "output_type": "stream",
     "text": [
      "Petter Löberg\n"
     ]
    },
    {
     "data": {
      "text/html": [
       "202: <a href=http://en.wikipedia.org/wiki/Petter%20L%C3%B6berg>A-lotterierna</a> - <a href=http://www.wikidata.org/wiki/Q5969317%23P39>Q5969317</a>  - <a href=http://www.riksdagen.se/sv/ledamoter-partier/ledamot/_7826c819-d0da-4e4a-a16b-ffa3d8e9b155>Riksdagen</a> <a href=http://data.riksdagen.se/personlista/?utformat=json&iid=7826c819-d0da-4e4a-a16b-ffa3d8e9b155>json</a>"
      ],
      "text/plain": [
       "<IPython.core.display.HTML object>"
      ]
     },
     "metadata": {},
     "output_type": "display_data"
    },
    {
     "name": "stdout",
     "output_type": "stream",
     "text": [
      "Pia Nilsson (politician)\n"
     ]
    },
    {
     "data": {
      "text/html": [
       "203: <a href=http://en.wikipedia.org/wiki/Pia%20Nilsson%20%28politician%29>A-lotterierna</a> - <a href=http://www.wikidata.org/wiki/Q3370093%23P39>Q3370093</a>  - <a href=http://www.riksdagen.se/sv/ledamoter-partier/ledamot/_d6a34e6b-6f87-455c-ab36-fd75292f0ed0>Riksdagen</a> <a href=http://data.riksdagen.se/personlista/?utformat=json&iid=d6a34e6b-6f87-455c-ab36-fd75292f0ed0>json</a>"
      ],
      "text/plain": [
       "<IPython.core.display.HTML object>"
      ]
     },
     "metadata": {},
     "output_type": "display_data"
    },
    {
     "name": "stdout",
     "output_type": "stream",
     "text": [
      "Pia Steensland\n",
      "\tError Pia Steensland\n",
      "\t missing GUID: \tA-lotterierna\n",
      "Poland\n",
      "\t missing GUID: \tA-lotterierna\n",
      "Portugal\n",
      "\t missing GUID: \tA-lotterierna\n",
      "Posse Cabinet\n",
      "\tError Posse Cabinet\n",
      "\t missing GUID: \tA-lotterierna\n",
      "Prime Minister of Sweden\n",
      "\t missing GUID: \tA-lotterierna\n"
     ]
    }
   ],
   "source": [
    "from tqdm.notebook import trange, tqdm\n",
    "import urllib.parse \n",
    "\n",
    "urlen = \"en.wikipedia.org/wiki/\"\n",
    "urlwd = \"www.wikidata.org/wiki/\"\n",
    "urlriks = \"www.riksdagen.se/sv/ledamoter-partier/ledamot/_\"\n",
    "urlriksdata = \"data.riksdagen.se/personlista/?utformat=json&iid=\"\n",
    "\n",
    "linknr = 0\n",
    "for link in tqdm(links[list(links.keys())[0]][\"links\"]):\n",
    "    #print(link[\"title\"])\n",
    "    enName = link[\"title\"]\n",
    "    wdQnumber = getWD (enName)\n",
    "    wdRiksGUID = getRiks(wdQnumber)\n",
    "    if wdRiksGUID:\n",
    "        linknr = linknr + 1\n",
    "        enUrlArticle = \"http://\" + urllib.parse.quote(urlen+enName)\n",
    "        wdQnumberUrl = \"http://\" + urllib.parse.quote(urlwd+wdQnumber+\"#P39\")\n",
    "        riksUrl = \"http://\" + urllib.parse.quote(urlriks+wdRiksGUID)\n",
    "        riksData = \"http://\" + urlriksdata+wdRiksGUID\n",
    "        display(HTML(str(linknr) + \": <a href=\"+enUrlArticle+\">\"+svName+\"</a> - <a href=\"+wdQnumberUrl+\">\"+wdQnumber+\"</a> \" \\\n",
    "                + \" - <a href=\"+riksUrl+\">Riksdagen</a> \" \\\n",
    "                + \"<a href=\"+riksData+\">json</a>\"))\n",
    "    else:\n",
    "        print (\"\\t missing GUID: \\t\" + svName) \n",
    "               "
   ]
  },
  {
   "cell_type": "code",
   "execution_count": null,
   "id": "5cdf9b8d",
   "metadata": {},
   "outputs": [],
   "source": []
  },
  {
   "cell_type": "code",
   "execution_count": null,
   "id": "065c6c12",
   "metadata": {},
   "outputs": [],
   "source": []
  }
 ],
 "metadata": {
  "kernelspec": {
   "display_name": "Python 3",
   "language": "python",
   "name": "python3"
  },
  "language_info": {
   "codemirror_mode": {
    "name": "ipython",
    "version": 3
   },
   "file_extension": ".py",
   "mimetype": "text/x-python",
   "name": "python",
   "nbconvert_exporter": "python",
   "pygments_lexer": "ipython3",
   "version": "3.9.4"
  }
 },
 "nbformat": 4,
 "nbformat_minor": 5
}
