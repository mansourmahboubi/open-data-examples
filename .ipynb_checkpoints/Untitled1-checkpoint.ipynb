{
 "cells": [
  {
   "cell_type": "markdown",
   "metadata": {},
   "source": [
    "## Icke fungerande RAÄ länkar ofta kallat länkröta "
   ]
  },
  {
   "cell_type": "code",
   "execution_count": 57,
   "metadata": {},
   "outputs": [
    {
     "name": "stdout",
     "output_type": "stream",
     "text": [
      "Files:  4721 94\n",
      "4815\n"
     ]
    }
   ],
   "source": [
    "import urllib3, json  \n",
    "import pandas as pd\n",
    "nonWorkingfiles1 = \"https://gist.githubusercontent.com/salgo60/4f2fa0370a5541712fd274e5b9e84b26/raw/0d514aa8daa46666748f8d3cb2c6d48d0dcf1db3/nonWorkingURLS.txt\"\n",
    "nonWorkingfiles2 = \"https://gist.githubusercontent.com/salgo60/4af406c16e763ae02c4d12acb8b7a0aa/raw/830313009a64c88131f4d85e9c182700e170e3fa/nonWorkingURLs\"\n",
    " \n",
    "http = urllib3.PoolManager()\n",
    "r1 = http.request('GET', nonWorkingfiles1) \n",
    "files1 = r1.data.decode('utf-8').split(\"\\n\")   \n",
    "r2 = http.request('GET', nonWorkingfiles2) \n",
    "files2 = r2.data.decode('utf-8').split(\"\\n\")   \n",
    "files = files1 + files2 \n",
    "print(len(files))\n"
   ]
  },
  {
   "cell_type": "code",
   "execution_count": 58,
   "metadata": {},
   "outputs": [
    {
     "name": "stdout",
     "output_type": "stream",
     "text": [
      "<class 'pandas.core.frame.DataFrame'>\n",
      "RangeIndex: 4815 entries, 0 to 4814\n",
      "Data columns (total 1 columns):\n",
      "URL    4815 non-null object\n",
      "dtypes: object(1)\n",
      "memory usage: 37.7+ KB\n"
     ]
    }
   ],
   "source": [
    "df=pd.DataFrame(files,columns=[\"URL\"])  \n",
    "df.info()"
   ]
  },
  {
   "cell_type": "code",
   "execution_count": 75,
   "metadata": {},
   "outputs": [],
   "source": [
    "pd.set_option(\"display.max.rows\", None)   \n",
    "pd.set_option(\"display.max.columns\", None) "
   ]
  },
  {
   "cell_type": "code",
   "execution_count": 77,
   "metadata": {},
   "outputs": [],
   "source": [
    "dfsplit = df.URL.str.split(\"/\",n=0,expand = True)\n"
   ]
  },
  {
   "cell_type": "code",
   "execution_count": null,
   "metadata": {},
   "outputs": [],
   "source": []
  }
 ],
 "metadata": {
  "kernelspec": {
   "display_name": "Python 3",
   "language": "python",
   "name": "python3"
  },
  "language_info": {
   "codemirror_mode": {
    "name": "ipython",
    "version": 3
   },
   "file_extension": ".py",
   "mimetype": "text/x-python",
   "name": "python",
   "nbconvert_exporter": "python",
   "pygments_lexer": "ipython3",
   "version": "3.8.0"
  }
 },
 "nbformat": 4,
 "nbformat_minor": 4
}
