{
 "cells": [
  {
   "cell_type": "markdown",
   "metadata": {},
   "source": [
    "## Riksantikvarieämbetet RAÄ - kulturarvsdata\n",
    "get UGC data [see API](http://ugc.kulturarvsdata.se/UGC-hub/api/documentation)\n",
    "and understand how they link Europeana etc..."
   ]
  },
  {
   "cell_type": "code",
   "execution_count": 178,
   "metadata": {},
   "outputs": [
    {
     "name": "stdout",
     "output_type": "stream",
     "text": [
      "*********************************************************************************************************************************************************************************************************************************************************************************************************************************************************************************************************************************************************************************************************************************************************************************************************************************************************************************************************************************************************************************************************************************************************************************************************************************************************************************************************************************************************************************************************************************************************************************************************************************************************************************************************************************************************************************************************************************************************************************************************************************************************************************************************************************************************************************************************************************************************************************************************************************************************************************************************************************************************************************************************************************************************************************************************************************************************************************************************************************************************************************************************************************************************************************************************************************************************************************************************************************************************************************************************************************************************************************************"
     ]
    },
    {
     "ename": "KeyError",
     "evalue": "'relations'",
     "output_type": "error",
     "traceback": [
      "\u001b[0;31m---------------------------------------------------------------------------\u001b[0m",
      "\u001b[0;31mKeyError\u001b[0m                                  Traceback (most recent call last)",
      "\u001b[0;32m<ipython-input-178-06705f2ec74b>\u001b[0m in \u001b[0;36m<module>\u001b[0;34m\u001b[0m\n\u001b[1;32m     12\u001b[0m     \u001b[0mr\u001b[0m \u001b[0;34m=\u001b[0m \u001b[0mhttp\u001b[0m\u001b[0;34m.\u001b[0m\u001b[0mrequest\u001b[0m\u001b[0;34m(\u001b[0m\u001b[0;34m'GET'\u001b[0m\u001b[0;34m,\u001b[0m \u001b[0murl\u001b[0m\u001b[0;34m)\u001b[0m\u001b[0;34m\u001b[0m\u001b[0;34m\u001b[0m\u001b[0m\n\u001b[1;32m     13\u001b[0m     \u001b[0mdata\u001b[0m \u001b[0;34m=\u001b[0m \u001b[0mjson\u001b[0m\u001b[0;34m.\u001b[0m\u001b[0mloads\u001b[0m\u001b[0;34m(\u001b[0m\u001b[0mr\u001b[0m\u001b[0;34m.\u001b[0m\u001b[0mdata\u001b[0m\u001b[0;34m)\u001b[0m\u001b[0;34m\u001b[0m\u001b[0;34m\u001b[0m\u001b[0m\n\u001b[0;32m---> 14\u001b[0;31m     \u001b[0mdftot\u001b[0m \u001b[0;34m=\u001b[0m \u001b[0mdftot\u001b[0m\u001b[0;34m.\u001b[0m\u001b[0mappend\u001b[0m\u001b[0;34m(\u001b[0m\u001b[0mpd\u001b[0m\u001b[0;34m.\u001b[0m\u001b[0mDataFrame\u001b[0m\u001b[0;34m(\u001b[0m\u001b[0mdata\u001b[0m\u001b[0;34m[\u001b[0m\u001b[0;34m\"response\"\u001b[0m\u001b[0;34m]\u001b[0m\u001b[0;34m[\u001b[0m\u001b[0;34m\"relations\"\u001b[0m\u001b[0;34m]\u001b[0m\u001b[0;34m)\u001b[0m\u001b[0;34m)\u001b[0m\u001b[0;34m\u001b[0m\u001b[0;34m\u001b[0m\u001b[0m\n\u001b[0m\u001b[1;32m     15\u001b[0m \u001b[0mprint\u001b[0m\u001b[0;34m(\u001b[0m\u001b[0mdftot\u001b[0m\u001b[0;34m.\u001b[0m\u001b[0mhead\u001b[0m\u001b[0;34m(\u001b[0m\u001b[0;34m)\u001b[0m\u001b[0;34m)\u001b[0m\u001b[0;34m\u001b[0m\u001b[0;34m\u001b[0m\u001b[0m\n\u001b[1;32m     16\u001b[0m \u001b[0mprint\u001b[0m\u001b[0;34m(\u001b[0m\u001b[0mdftot\u001b[0m\u001b[0;34m.\u001b[0m\u001b[0muserName\u001b[0m\u001b[0;34m.\u001b[0m\u001b[0munique\u001b[0m\u001b[0;34m(\u001b[0m\u001b[0;34m)\u001b[0m\u001b[0;34m)\u001b[0m\u001b[0;34m\u001b[0m\u001b[0;34m\u001b[0m\u001b[0m\n",
      "\u001b[0;31mKeyError\u001b[0m: 'relations'"
     ]
    }
   ],
   "source": [
    "# from pandas.io.json import json_normalize\n",
    "import urllib3, json\n",
    "import pandas as pd \n",
    "http = urllib3.PoolManager()\n",
    "urlbase = \"http://ugc.kulturarvsdata.se/UGC-hub/api?method=retrieve&scope=all&maxCount=40000&objectUri=all&format=json&selectFrom=\"\n",
    "pd.set_option(\"display.max.columns\", None) \n",
    "dftot = pd.DataFrame()\n",
    "for i in range(1,3000000,200):\n",
    "    url = urlbase + str(i)\n",
    "    if ((i-1) % 1000) == 0:\n",
    "       print('*', end='', flush=True)\n",
    "    r = http.request('GET', url)\n",
    "    data = json.loads(r.data)\n",
    "    dftot = dftot.append(pd.DataFrame(data[\"response\"][\"relations\"]))\n",
    "print(dftot.head())\n",
    "print(dftot.userName.unique())\n"
   ]
  },
  {
   "cell_type": "code",
   "execution_count": 179,
   "metadata": {},
   "outputs": [
    {
     "name": "stdout",
     "output_type": "stream",
     "text": [
      "<class 'pandas.core.frame.DataFrame'>\n",
      "Int64Index: 2587929 entries, 0 to 128\n",
      "Data columns (total 12 columns):\n",
      "applicationName    object\n",
      "comment            object\n",
      "coordinateValue    object\n",
      "createDate         object\n",
      "id                 int64\n",
      "imageUrl           object\n",
      "objectUri          object\n",
      "relatedUri         object\n",
      "relationType       object\n",
      "tag                object\n",
      "updateDate         object\n",
      "userName           object\n",
      "dtypes: int64(1), object(11)\n",
      "memory usage: 256.7+ MB\n",
      "None\n"
     ]
    }
   ],
   "source": [
    "print(dftot.info())"
   ]
  },
  {
   "cell_type": "code",
   "execution_count": 180,
   "metadata": {},
   "outputs": [
    {
     "name": "stdout",
     "output_type": "stream",
     "text": [
      "['Kringla' 'Albin Larsson 1' 'Marcus Smith 1' 'Svensk runbibliografi']\n"
     ]
    }
   ],
   "source": [
    "print(dftot.applicationName.unique())"
   ]
  },
  {
   "cell_type": "code",
   "execution_count": 181,
   "metadata": {},
   "outputs": [
    {
     "data": {
      "text/plain": [
       "array(['isVisualizedBy', 'sameAsWikipedia', 'sameAs', 'describes',\n",
       "       'visualizes', 'isDescribedBy', 'isDescribedByWikipedia', 'hasPart',\n",
       "       'isRelatedTo', 'isPartOf', nan, 'has_created'], dtype=object)"
      ]
     },
     "execution_count": 181,
     "metadata": {},
     "output_type": "execute_result"
    }
   ],
   "source": [
    "dftot.relationType.unique()"
   ]
  },
  {
   "cell_type": "code",
   "execution_count": 182,
   "metadata": {},
   "outputs": [
    {
     "data": {
      "text/plain": [
       "sameAs                    2204256\n",
       "isRelatedTo                216265\n",
       "isVisualizedBy             135426\n",
       "isDescribedBy               13465\n",
       "sameAsWikipedia             12015\n",
       "visualizes                   6125\n",
       "isDescribedByWikipedia        193\n",
       "hasPart                        98\n",
       "isPartOf                       81\n",
       "describes                       2\n",
       "has_created                     1\n",
       "Name: relationType, dtype: int64"
      ]
     },
     "execution_count": 182,
     "metadata": {},
     "output_type": "execute_result"
    }
   ],
   "source": [
    "dftot[\"relationType\"].value_counts()"
   ]
  },
  {
   "cell_type": "code",
   "execution_count": 183,
   "metadata": {},
   "outputs": [
    {
     "data": {
      "text/html": [
       "<div>\n",
       "<style scoped>\n",
       "    .dataframe tbody tr th:only-of-type {\n",
       "        vertical-align: middle;\n",
       "    }\n",
       "\n",
       "    .dataframe tbody tr th {\n",
       "        vertical-align: top;\n",
       "    }\n",
       "\n",
       "    .dataframe thead th {\n",
       "        text-align: right;\n",
       "    }\n",
       "</style>\n",
       "<table border=\"1\" class=\"dataframe\">\n",
       "  <thead>\n",
       "    <tr style=\"text-align: right;\">\n",
       "      <th></th>\n",
       "      <th>applicationName</th>\n",
       "      <th>comment</th>\n",
       "      <th>coordinateValue</th>\n",
       "      <th>createDate</th>\n",
       "      <th>id</th>\n",
       "      <th>imageUrl</th>\n",
       "      <th>objectUri</th>\n",
       "      <th>relatedUri</th>\n",
       "      <th>relationType</th>\n",
       "      <th>tag</th>\n",
       "      <th>updateDate</th>\n",
       "      <th>userName</th>\n",
       "    </tr>\n",
       "  </thead>\n",
       "  <tbody>\n",
       "    <tr>\n",
       "      <th>0</th>\n",
       "      <td>Kringla</td>\n",
       "      <td>NaN</td>\n",
       "      <td>NaN</td>\n",
       "      <td>2020-06-17</td>\n",
       "      <td>34865339</td>\n",
       "      <td>NaN</td>\n",
       "      <td>http://kulturarvsdata.se/arme/object/AM140132</td>\n",
       "      <td>http://commons.wikimedia.org/wiki/File:Pansarv...</td>\n",
       "      <td>isVisualizedBy</td>\n",
       "      <td>NaN</td>\n",
       "      <td>NaN</td>\n",
       "      <td>WikimediaC</td>\n",
       "    </tr>\n",
       "    <tr>\n",
       "      <th>1</th>\n",
       "      <td>Kringla</td>\n",
       "      <td>NaN</td>\n",
       "      <td>NaN</td>\n",
       "      <td>2020-06-17</td>\n",
       "      <td>34865338</td>\n",
       "      <td>NaN</td>\n",
       "      <td>http://kulturarvsdata.se/arme/object/AM140132</td>\n",
       "      <td>http://commons.wikimedia.org/wiki/File:Pansarv...</td>\n",
       "      <td>isVisualizedBy</td>\n",
       "      <td>NaN</td>\n",
       "      <td>NaN</td>\n",
       "      <td>WikimediaC</td>\n",
       "    </tr>\n",
       "    <tr>\n",
       "      <th>2</th>\n",
       "      <td>Kringla</td>\n",
       "      <td>NaN</td>\n",
       "      <td>NaN</td>\n",
       "      <td>2020-06-17</td>\n",
       "      <td>34865337</td>\n",
       "      <td>NaN</td>\n",
       "      <td>http://kulturarvsdata.se/arme/object/AM140132</td>\n",
       "      <td>http://commons.wikimedia.org/wiki/File:Pansarv...</td>\n",
       "      <td>isVisualizedBy</td>\n",
       "      <td>NaN</td>\n",
       "      <td>NaN</td>\n",
       "      <td>WikimediaC</td>\n",
       "    </tr>\n",
       "    <tr>\n",
       "      <th>3</th>\n",
       "      <td>Kringla</td>\n",
       "      <td>NaN</td>\n",
       "      <td>NaN</td>\n",
       "      <td>2020-06-17</td>\n",
       "      <td>34865336</td>\n",
       "      <td>NaN</td>\n",
       "      <td>http://kulturarvsdata.se/arme/object/AM140139</td>\n",
       "      <td>http://commons.wikimedia.org/wiki/File:Bandvag...</td>\n",
       "      <td>isVisualizedBy</td>\n",
       "      <td>NaN</td>\n",
       "      <td>NaN</td>\n",
       "      <td>WikimediaC</td>\n",
       "    </tr>\n",
       "    <tr>\n",
       "      <th>4</th>\n",
       "      <td>Kringla</td>\n",
       "      <td>NaN</td>\n",
       "      <td>NaN</td>\n",
       "      <td>2020-06-17</td>\n",
       "      <td>34865335</td>\n",
       "      <td>NaN</td>\n",
       "      <td>http://kulturarvsdata.se/arme/object/AM140139</td>\n",
       "      <td>http://commons.wikimedia.org/wiki/File:Bandvag...</td>\n",
       "      <td>isVisualizedBy</td>\n",
       "      <td>NaN</td>\n",
       "      <td>NaN</td>\n",
       "      <td>WikimediaC</td>\n",
       "    </tr>\n",
       "  </tbody>\n",
       "</table>\n",
       "</div>"
      ],
      "text/plain": [
       "  applicationName comment coordinateValue  createDate        id imageUrl  \\\n",
       "0         Kringla     NaN             NaN  2020-06-17  34865339      NaN   \n",
       "1         Kringla     NaN             NaN  2020-06-17  34865338      NaN   \n",
       "2         Kringla     NaN             NaN  2020-06-17  34865337      NaN   \n",
       "3         Kringla     NaN             NaN  2020-06-17  34865336      NaN   \n",
       "4         Kringla     NaN             NaN  2020-06-17  34865335      NaN   \n",
       "\n",
       "                                       objectUri  \\\n",
       "0  http://kulturarvsdata.se/arme/object/AM140132   \n",
       "1  http://kulturarvsdata.se/arme/object/AM140132   \n",
       "2  http://kulturarvsdata.se/arme/object/AM140132   \n",
       "3  http://kulturarvsdata.se/arme/object/AM140139   \n",
       "4  http://kulturarvsdata.se/arme/object/AM140139   \n",
       "\n",
       "                                          relatedUri    relationType  tag  \\\n",
       "0  http://commons.wikimedia.org/wiki/File:Pansarv...  isVisualizedBy  NaN   \n",
       "1  http://commons.wikimedia.org/wiki/File:Pansarv...  isVisualizedBy  NaN   \n",
       "2  http://commons.wikimedia.org/wiki/File:Pansarv...  isVisualizedBy  NaN   \n",
       "3  http://commons.wikimedia.org/wiki/File:Bandvag...  isVisualizedBy  NaN   \n",
       "4  http://commons.wikimedia.org/wiki/File:Bandvag...  isVisualizedBy  NaN   \n",
       "\n",
       "  updateDate    userName  \n",
       "0        NaN  WikimediaC  \n",
       "1        NaN  WikimediaC  \n",
       "2        NaN  WikimediaC  \n",
       "3        NaN  WikimediaC  \n",
       "4        NaN  WikimediaC  "
      ]
     },
     "execution_count": 183,
     "metadata": {},
     "output_type": "execute_result"
    }
   ],
   "source": [
    "dftot.head()"
   ]
  },
  {
   "cell_type": "code",
   "execution_count": 184,
   "metadata": {},
   "outputs": [
    {
     "data": {
      "text/html": [
       "<div>\n",
       "<style scoped>\n",
       "    .dataframe tbody tr th:only-of-type {\n",
       "        vertical-align: middle;\n",
       "    }\n",
       "\n",
       "    .dataframe tbody tr th {\n",
       "        vertical-align: top;\n",
       "    }\n",
       "\n",
       "    .dataframe thead th {\n",
       "        text-align: right;\n",
       "    }\n",
       "</style>\n",
       "<table border=\"1\" class=\"dataframe\">\n",
       "  <thead>\n",
       "    <tr style=\"text-align: right;\">\n",
       "      <th></th>\n",
       "      <th>applicationName</th>\n",
       "      <th>comment</th>\n",
       "      <th>coordinateValue</th>\n",
       "      <th>createDate</th>\n",
       "      <th>id</th>\n",
       "      <th>imageUrl</th>\n",
       "      <th>objectUri</th>\n",
       "      <th>relatedUri</th>\n",
       "      <th>relationType</th>\n",
       "      <th>tag</th>\n",
       "      <th>updateDate</th>\n",
       "      <th>userName</th>\n",
       "    </tr>\n",
       "  </thead>\n",
       "  <tbody>\n",
       "    <tr>\n",
       "      <th>124</th>\n",
       "      <td>Kringla</td>\n",
       "      <td>NaN</td>\n",
       "      <td>NaN</td>\n",
       "      <td>2012-02-07</td>\n",
       "      <td>646</td>\n",
       "      <td>NaN</td>\n",
       "      <td>http://kulturarvsdata.se/raa/lamning/bb3319c0-...</td>\n",
       "      <td>http://kulturarvsdata.se/raa/kmb/16000300023226</td>\n",
       "      <td>isVisualizedBy</td>\n",
       "      <td>NaN</td>\n",
       "      <td>NaN</td>\n",
       "      <td>Johan</td>\n",
       "    </tr>\n",
       "    <tr>\n",
       "      <th>125</th>\n",
       "      <td>Kringla</td>\n",
       "      <td>NaN</td>\n",
       "      <td>NaN</td>\n",
       "      <td>2012-02-03</td>\n",
       "      <td>645</td>\n",
       "      <td>NaN</td>\n",
       "      <td>http://kulturarvsdata.se/SMVK-VKM/fotografi/12...</td>\n",
       "      <td>http://kulturarvsdata.se/SMVK-EM/objekt/1357297</td>\n",
       "      <td>visualizes</td>\n",
       "      <td>NaN</td>\n",
       "      <td>NaN</td>\n",
       "      <td>Mjohansson2</td>\n",
       "    </tr>\n",
       "    <tr>\n",
       "      <th>126</th>\n",
       "      <td>Kringla</td>\n",
       "      <td>NaN</td>\n",
       "      <td>NaN</td>\n",
       "      <td>2012-02-03</td>\n",
       "      <td>644</td>\n",
       "      <td>NaN</td>\n",
       "      <td>http://kulturarvsdata.se/SMVK-EM/objekt/1023638</td>\n",
       "      <td>http://kulturarvsdata.se/SMVK-VKM/fotografi/11...</td>\n",
       "      <td>isVisualizedBy</td>\n",
       "      <td>NaN</td>\n",
       "      <td>NaN</td>\n",
       "      <td>Mjohansson2</td>\n",
       "    </tr>\n",
       "    <tr>\n",
       "      <th>127</th>\n",
       "      <td>Kringla</td>\n",
       "      <td>NaN</td>\n",
       "      <td>NaN</td>\n",
       "      <td>2012-02-02</td>\n",
       "      <td>643</td>\n",
       "      <td>NaN</td>\n",
       "      <td>http://kulturarvsdata.se/raa/bbr/21400000444096</td>\n",
       "      <td>http://kulturarvsdata.se/raa/kmb/16001000227184</td>\n",
       "      <td>isVisualizedBy</td>\n",
       "      <td>NaN</td>\n",
       "      <td>NaN</td>\n",
       "      <td>Johan</td>\n",
       "    </tr>\n",
       "    <tr>\n",
       "      <th>128</th>\n",
       "      <td>Kringla</td>\n",
       "      <td>NaN</td>\n",
       "      <td>NaN</td>\n",
       "      <td>2012-02-02</td>\n",
       "      <td>642</td>\n",
       "      <td>NaN</td>\n",
       "      <td>http://kulturarvsdata.se/raa/lamning/bb3319c0-...</td>\n",
       "      <td>http://kulturarvsdata.se/raa/kmb/16001000064228</td>\n",
       "      <td>isVisualizedBy</td>\n",
       "      <td>NaN</td>\n",
       "      <td>NaN</td>\n",
       "      <td>Johan</td>\n",
       "    </tr>\n",
       "  </tbody>\n",
       "</table>\n",
       "</div>"
      ],
      "text/plain": [
       "    applicationName comment coordinateValue  createDate   id imageUrl  \\\n",
       "124         Kringla     NaN             NaN  2012-02-07  646      NaN   \n",
       "125         Kringla     NaN             NaN  2012-02-03  645      NaN   \n",
       "126         Kringla     NaN             NaN  2012-02-03  644      NaN   \n",
       "127         Kringla     NaN             NaN  2012-02-02  643      NaN   \n",
       "128         Kringla     NaN             NaN  2012-02-02  642      NaN   \n",
       "\n",
       "                                             objectUri  \\\n",
       "124  http://kulturarvsdata.se/raa/lamning/bb3319c0-...   \n",
       "125  http://kulturarvsdata.se/SMVK-VKM/fotografi/12...   \n",
       "126    http://kulturarvsdata.se/SMVK-EM/objekt/1023638   \n",
       "127    http://kulturarvsdata.se/raa/bbr/21400000444096   \n",
       "128  http://kulturarvsdata.se/raa/lamning/bb3319c0-...   \n",
       "\n",
       "                                            relatedUri    relationType  tag  \\\n",
       "124    http://kulturarvsdata.se/raa/kmb/16000300023226  isVisualizedBy  NaN   \n",
       "125    http://kulturarvsdata.se/SMVK-EM/objekt/1357297      visualizes  NaN   \n",
       "126  http://kulturarvsdata.se/SMVK-VKM/fotografi/11...  isVisualizedBy  NaN   \n",
       "127    http://kulturarvsdata.se/raa/kmb/16001000227184  isVisualizedBy  NaN   \n",
       "128    http://kulturarvsdata.se/raa/kmb/16001000064228  isVisualizedBy  NaN   \n",
       "\n",
       "    updateDate     userName  \n",
       "124        NaN        Johan  \n",
       "125        NaN  Mjohansson2  \n",
       "126        NaN  Mjohansson2  \n",
       "127        NaN        Johan  \n",
       "128        NaN        Johan  "
      ]
     },
     "execution_count": 184,
     "metadata": {},
     "output_type": "execute_result"
    }
   ],
   "source": [
    "dftot.tail()"
   ]
  },
  {
   "cell_type": "markdown",
   "metadata": {},
   "source": [
    "## Listar unika användare som bidragit\n"
   ]
  },
  {
   "cell_type": "code",
   "execution_count": 186,
   "metadata": {},
   "outputs": [
    {
     "name": "stdout",
     "output_type": "stream",
     "text": [
      "['WikimediaC' 'Wikipedia' 'Albin Larsson' 'carwash' 'Nixdorf' 'Boberger'\n",
      " 'Holger.Ellgaard' 'salgo60' 'DavidH' 'Bernt Fransson' 'kallep' 'Larissa'\n",
      " 'Lasse Lundqvist' 'HLP' 'babben' 'Allivet' 'demithor' 'Allvet'\n",
      " 'Jan Ainali' 'Anders Lindeberg-Lindvet' 'Magnus Sälgö' 'andersthe'\n",
      " 'Little Gun' 'kringelkrok' 'Magnus Johansson' 'Lennart T Olsson'\n",
      " 'tompahvall' 'Tore Danielsson' 'hamrelius' 'Julie' 'Johan' 'nilsw'\n",
      " 'David Haskiya' 'filosofiedoktor' 'kalle' 'Adlitam' 'Eva Vedin'\n",
      " 'Hammarkind' 'Work with Sounds' 'jssfrk' 'blajo' 'Dan Albert Koehl'\n",
      " 'Wilhelm Lagercrantz' 'Tester Testersson' 'Sendelbach' 'Johan Carlström'\n",
      " 'Anders Wennersten' 'Örjan Mattsson' 'carin' 'Anders Olsson'\n",
      " 'paulinadevries' 'anna söderström' 'Kalle Johansson' 'Sophie' 'henning'\n",
      " 'helenabjork' 'Kaysara' 'ekstahagar' 'Åsa Johansson' 'magnussonp'\n",
      " 'Kicki Ericson' 'LA2' 'Nils Weinander' 'Lotta' 'Per Rohdin'\n",
      " 'Henrik Summanen' 'Jomal' 'Mikael Lindmark' 'LittleGun99' 'Mjohansson2']\n"
     ]
    }
   ],
   "source": [
    "print(dftot.userName.unique())"
   ]
  },
  {
   "cell_type": "code",
   "execution_count": 234,
   "metadata": {},
   "outputs": [
    {
     "name": "stdout",
     "output_type": "stream",
     "text": [
      "Albin Larsson \t 2420261\n",
      "WikimediaC \t 134251\n",
      "carwash \t 20152\n",
      "Wikipedia \t 11028\n",
      "Jomal \t 604\n",
      "Adlitam \t 338\n",
      "Lasse Lundqvist \t 232\n",
      "Bernt Fransson \t 196\n",
      "Larissa \t 159\n",
      "Magnus Johansson \t 100\n",
      "Johan \t 93\n",
      "Holger.Ellgaard \t 82\n",
      "Eva Vedin \t 50\n",
      "Allvet \t 40\n",
      "blajo \t 30\n",
      "jssfrk \t 27\n",
      "Örjan Mattsson \t 24\n",
      "DavidH \t 23\n",
      "Jan Ainali \t 22\n",
      "Henrik Summanen \t 18\n",
      "David Haskiya \t 18\n",
      "Åsa Johansson \t 16\n",
      "tompahvall \t 15\n",
      "Kicki Ericson \t 15\n",
      "salgo60 \t 11\n",
      "nilsw \t 9\n",
      "HLP \t 9\n",
      "Nixdorf \t 9\n",
      "Allivet \t 8\n",
      "Anders Lindeberg-Lindvet \t 6\n",
      "Mikael Lindmark \t 5\n",
      "andersthe \t 5\n",
      "Magnus Sälgö \t 5\n",
      "paulinadevries \t 5\n",
      "Tore Danielsson \t 4\n",
      "Dan Albert Koehl \t 4\n",
      "Little Gun \t 3\n",
      "kalle \t 3\n",
      "Sendelbach \t 3\n",
      "carin \t 3\n",
      "LA2 \t 2\n",
      "Johan Carlström \t 2\n",
      "Wilhelm Lagercrantz \t 2\n",
      "babben \t 2\n",
      "hamrelius \t 2\n",
      "Hammarkind \t 2\n",
      "Work with Sounds \t 2\n",
      "helenabjork \t 2\n",
      "Julie \t 2\n",
      "Sophie \t 2\n",
      "kringelkrok \t 2\n",
      "kallep \t 2\n",
      "Mjohansson2 \t 2\n",
      "Kalle Johansson \t 1\n",
      "anna söderström \t 1\n",
      "Nils Weinander \t 1\n",
      "LittleGun99 \t 1\n",
      "demithor \t 1\n",
      "Anders Wennersten \t 1\n",
      "henning \t 1\n",
      "magnussonp \t 1\n",
      "Tester Testersson \t 1\n",
      "Anders Olsson \t 1\n",
      "ekstahagar \t 1\n",
      "Boberger \t 1\n",
      "Lennart T Olsson \t 1\n",
      "filosofiedoktor \t 1\n",
      "Per Rohdin \t 1\n",
      "Lotta \t 1\n",
      "Kaysara \t 1\n"
     ]
    }
   ],
   "source": [
    "usersActivity = dftot[\"userName\"].value_counts() \n",
    "for i,v in dftot[\"userName\"].value_counts().items():\n",
    "    print(i,\"\\t\",v)"
   ]
  },
  {
   "cell_type": "code",
   "execution_count": 235,
   "metadata": {},
   "outputs": [],
   "source": [
    "percentage = dftot[\"userName\"].value_counts(normalize=True) \n"
   ]
  },
  {
   "cell_type": "code",
   "execution_count": 236,
   "metadata": {},
   "outputs": [
    {
     "data": {
      "text/plain": [
       "Albin Larsson    0.935212\n",
       "WikimediaC       0.051876\n",
       "carwash          0.007787\n",
       "Wikipedia        0.004261\n",
       "Jomal            0.000233\n",
       "Name: userName, dtype: float64"
      ]
     },
     "execution_count": 236,
     "metadata": {},
     "output_type": "execute_result"
    }
   ],
   "source": [
    "percentage[:5]"
   ]
  },
  {
   "cell_type": "code",
   "execution_count": 209,
   "metadata": {},
   "outputs": [
    {
     "data": {
      "image/png": "[encoded data removed]",
      "text/plain": [
       "<Figure size 360x360 with 1 Axes>"
      ]
     },
     "metadata": {},
     "output_type": "display_data"
    }
   ],
   "source": [
    "plot = percentage.plot.pie(y='counts', figsize=(5, 5))"
   ]
  },
  {
   "cell_type": "code",
   "execution_count": 255,
   "metadata": {},
   "outputs": [
    {
     "data": {
      "image/png": "[encoded data removed]",
      "text/plain": [
       "<Figure size 2160x360 with 1 Axes>"
      ]
     },
     "metadata": {
      "needs_background": "light"
     },
     "output_type": "display_data"
    }
   ],
   "source": [
    "plot2 = percentage[:15].plot.bar(y='counts', figsize=(30, 5))"
   ]
  },
  {
   "cell_type": "code",
   "execution_count": 252,
   "metadata": {},
   "outputs": [
    {
     "data": {
      "image/png": "[encoded data removed]",
      "text/plain": [
       "<Figure size 1800x360 with 1 Axes>"
      ]
     },
     "metadata": {
      "needs_background": "light"
     },
     "output_type": "display_data"
    }
   ],
   "source": [
    "plot2 = percentage[5:40].plot.bar(y='counts', figsize=(25, 5))"
   ]
  },
  {
   "cell_type": "code",
   "execution_count": 190,
   "metadata": {},
   "outputs": [
    {
     "data": {
      "image/png": "[encoded data removed]",
      "text/plain": [
       "<Figure size 432x288 with 1 Axes>"
      ]
     },
     "metadata": {
      "needs_background": "light"
     },
     "output_type": "display_data"
    }
   ],
   "source": [
    "%matplotlib inline  \n",
    "import matplotlib.pyplot as plt \n",
    "users = dftot[\"userName\"].value_counts()\n",
    "\n",
    "users.plot( kind = 'bar') \n",
    "plt.show()"
   ]
  },
  {
   "cell_type": "code",
   "execution_count": 191,
   "metadata": {},
   "outputs": [
    {
     "data": {
      "text/plain": [
       "2018-11-28    1000004\n",
       "2018-12-03     955563\n",
       "2019-08-05     216202\n",
       "2018-10-06     156895\n",
       "2020-06-17     145279\n",
       "               ...   \n",
       "2019-12-10          1\n",
       "2014-11-20          1\n",
       "2013-12-20          1\n",
       "2014-04-30          1\n",
       "2014-07-29          1\n",
       "Name: createDate, Length: 502, dtype: int64"
      ]
     },
     "execution_count": 191,
     "metadata": {},
     "output_type": "execute_result"
    }
   ],
   "source": [
    "dftot[\"createDate\"].value_counts()"
   ]
  },
  {
   "cell_type": "markdown",
   "metadata": {},
   "source": [
    "Plot piechart user"
   ]
  },
  {
   "cell_type": "markdown",
   "metadata": {},
   "source": [
    "check links Europeana and if we have Linkeddata to agents ...."
   ]
  },
  {
   "cell_type": "code",
   "execution_count": 274,
   "metadata": {},
   "outputs": [
    {
     "data": {
      "text/plain": [
       "count     2587927\n",
       "unique          2\n",
       "top          True\n",
       "freq      1966045\n",
       "Name: relatedUri, dtype: object"
      ]
     },
     "execution_count": 274,
     "metadata": {},
     "output_type": "execute_result"
    }
   ],
   "source": [
    "europeana = dftot['relatedUri'].str.contains(\"data.europeana.eu\") \n",
    "europeana.describe()"
   ]
  },
  {
   "cell_type": "markdown",
   "metadata": {},
   "source": [
    "## Koll om det finns kopplingar länkad data dvs agent  \n",
    "1966045 kopplingar verkar vara mellan objekt i kulturarvsdata till data.europeana.eu/item/  \n",
    "Koppling Länkad data hittad dvs. samma som [Europeana Entity](https://www.wikidata.org/wiki/Property:P7704) samma som [Europeana Entity API](https://pro.europeana.eu/page/entity) verkar vara 167 stycken jmf Wikidata Europeana Entity > [160 000](https://www.wikidata.org/wiki/Property:P7704)"
   ]
  },
  {
   "cell_type": "code",
   "execution_count": 291,
   "metadata": {},
   "outputs": [
    {
     "data": {
      "text/plain": [
       "count       46\n",
       "unique       1\n",
       "top       True\n",
       "freq        46\n",
       "Name: relatedUri, dtype: object"
      ]
     },
     "execution_count": 291,
     "metadata": {},
     "output_type": "execute_result"
    }
   ],
   "source": [
    "europeanaagent = dftot['relatedUri'].str.contains(\"agent\",\"data.europeana.eu\") \n",
    "europeanaagent2 = europeanaagent[europeanaagent == True] \n",
    "europeanaagent2.describe()"
   ]
  },
  {
   "cell_type": "code",
   "execution_count": null,
   "metadata": {},
   "outputs": [],
   "source": []
  }
 ],
 "metadata": {
  "kernelspec": {
   "display_name": "Python 3",
   "language": "python",
   "name": "python3"
  },
  "language_info": {
   "codemirror_mode": {
    "name": "ipython",
    "version": 3
   },
   "file_extension": ".py",
   "mimetype": "text/x-python",
   "name": "python",
   "nbconvert_exporter": "python",
   "pygments_lexer": "ipython3",
   "version": "3.8.0"
  }
 },
 "nbformat": 4,
 "nbformat_minor": 4
}
