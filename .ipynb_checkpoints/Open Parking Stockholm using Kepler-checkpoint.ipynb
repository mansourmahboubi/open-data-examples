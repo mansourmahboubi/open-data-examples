{
 "cells": [
  {
   "cell_type": "markdown",
   "metadata": {},
   "source": [
    "## Open Parking Stockholm\n",
    "https://openstreetgs.stockholm.se/home/Parking\n",
    "* this [notebook](https://github.com/salgo60/open-data-examples/blob/master/Open%20Parking%20Stockholm%20using%20Kepler.ipynb)"
   ]
  },
  {
   "cell_type": "code",
   "execution_count": 1,
   "metadata": {},
   "outputs": [
    {
     "name": "stdout",
     "output_type": "stream",
     "text": [
      "User Guide: https://docs.kepler.gl/docs/keplergl-jupyter\n"
     ]
    }
   ],
   "source": [
    "from keplergl import KeplerGl \n",
    "map1=KeplerGl(height=1200)"
   ]
  },
  {
   "cell_type": "code",
   "execution_count": 2,
   "metadata": {},
   "outputs": [
    {
     "data": {
      "text/html": [
       "<div>\n",
       "<style scoped>\n",
       "    .dataframe tbody tr th:only-of-type {\n",
       "        vertical-align: middle;\n",
       "    }\n",
       "\n",
       "    .dataframe tbody tr th {\n",
       "        vertical-align: top;\n",
       "    }\n",
       "\n",
       "    .dataframe thead th {\n",
       "        text-align: right;\n",
       "    }\n",
       "</style>\n",
       "<table border=\"1\" class=\"dataframe\">\n",
       "  <thead>\n",
       "    <tr style=\"text-align: right;\">\n",
       "      <th></th>\n",
       "      <th>id</th>\n",
       "      <th>FID</th>\n",
       "      <th>FEATURE_OBJECT_ID</th>\n",
       "      <th>FEATURE_VERSION_ID</th>\n",
       "      <th>EXTENT_NO</th>\n",
       "      <th>VALID_FROM</th>\n",
       "      <th>START_TIME</th>\n",
       "      <th>END_TIME</th>\n",
       "      <th>START_WEEKDAY</th>\n",
       "      <th>START_MONTH</th>\n",
       "      <th>END_MONTH</th>\n",
       "      <th>START_DAY</th>\n",
       "      <th>END_DAY</th>\n",
       "      <th>CITATION</th>\n",
       "      <th>STREET_NAME</th>\n",
       "      <th>CITY_DISTRICT</th>\n",
       "      <th>PARKING_DISTRICT</th>\n",
       "      <th>ADDRESS</th>\n",
       "      <th>RDT_URL</th>\n",
       "      <th>VF_PLATS_TYP</th>\n",
       "      <th>VF_PLATSER</th>\n",
       "      <th>VF_METER</th>\n",
       "      <th>VALID_TO</th>\n",
       "      <th>ODD_EVEN</th>\n",
       "      <th>geometry</th>\n",
       "    </tr>\n",
       "  </thead>\n",
       "  <tbody>\n",
       "    <tr>\n",
       "      <th>0</th>\n",
       "      <td>LTFR_SERVICEDAG.31094366</td>\n",
       "      <td>31094366</td>\n",
       "      <td>2387392</td>\n",
       "      <td>1</td>\n",
       "      <td>1</td>\n",
       "      <td>2008-03-27T23:00:00</td>\n",
       "      <td>800</td>\n",
       "      <td>1600</td>\n",
       "      <td>måndag</td>\n",
       "      <td>11.0</td>\n",
       "      <td>5.0</td>\n",
       "      <td>1.0</td>\n",
       "      <td>15.0</td>\n",
       "      <td>0180 2008-02151</td>\n",
       "      <td>Sjösavägen</td>\n",
       "      <td>Bandhagen</td>\n",
       "      <td>&lt;Område saknas&gt;</td>\n",
       "      <td>Sjösavägen 151 - 149</td>\n",
       "      <td>https://rdt.transportstyrelsen.se/rdt/AF06_Vie...</td>\n",
       "      <td>None</td>\n",
       "      <td>NaN</td>\n",
       "      <td>NaN</td>\n",
       "      <td>None</td>\n",
       "      <td>None</td>\n",
       "      <td>LINESTRING (18.04339 59.26578, 18.04352 59.26587)</td>\n",
       "    </tr>\n",
       "    <tr>\n",
       "      <th>1</th>\n",
       "      <td>LTFR_SERVICEDAG.31094367</td>\n",
       "      <td>31094367</td>\n",
       "      <td>2387392</td>\n",
       "      <td>1</td>\n",
       "      <td>2</td>\n",
       "      <td>2008-03-27T23:00:00</td>\n",
       "      <td>800</td>\n",
       "      <td>1600</td>\n",
       "      <td>måndag</td>\n",
       "      <td>11.0</td>\n",
       "      <td>5.0</td>\n",
       "      <td>1.0</td>\n",
       "      <td>15.0</td>\n",
       "      <td>0180 2008-02151</td>\n",
       "      <td>Sjösavägen</td>\n",
       "      <td>Bandhagen</td>\n",
       "      <td>&lt;Område saknas&gt;</td>\n",
       "      <td>Sjösavägen 127 - 151</td>\n",
       "      <td>https://rdt.transportstyrelsen.se/rdt/AF06_Vie...</td>\n",
       "      <td>None</td>\n",
       "      <td>NaN</td>\n",
       "      <td>NaN</td>\n",
       "      <td>None</td>\n",
       "      <td>None</td>\n",
       "      <td>LINESTRING (18.04324 59.26570, 18.04327 59.265...</td>\n",
       "    </tr>\n",
       "    <tr>\n",
       "      <th>2</th>\n",
       "      <td>LTFR_SERVICEDAG.31094562</td>\n",
       "      <td>31094562</td>\n",
       "      <td>2383618</td>\n",
       "      <td>1</td>\n",
       "      <td>1</td>\n",
       "      <td>2008-03-16T23:00:00</td>\n",
       "      <td>800</td>\n",
       "      <td>1600</td>\n",
       "      <td>måndag</td>\n",
       "      <td>11.0</td>\n",
       "      <td>5.0</td>\n",
       "      <td>1.0</td>\n",
       "      <td>15.0</td>\n",
       "      <td>0180 2008-01403</td>\n",
       "      <td>Lännäsbacken</td>\n",
       "      <td>Rågsved</td>\n",
       "      <td>&lt;Område saknas&gt;</td>\n",
       "      <td>&lt;Adress saknas&gt;</td>\n",
       "      <td>https://rdt.transportstyrelsen.se/rdt/AF06_Vie...</td>\n",
       "      <td>None</td>\n",
       "      <td>NaN</td>\n",
       "      <td>NaN</td>\n",
       "      <td>None</td>\n",
       "      <td>None</td>\n",
       "      <td>LINESTRING (18.02351 59.25976, 18.02352 59.259...</td>\n",
       "    </tr>\n",
       "    <tr>\n",
       "      <th>3</th>\n",
       "      <td>LTFR_SERVICEDAG.31094563</td>\n",
       "      <td>31094563</td>\n",
       "      <td>2383618</td>\n",
       "      <td>1</td>\n",
       "      <td>2</td>\n",
       "      <td>2008-03-16T23:00:00</td>\n",
       "      <td>800</td>\n",
       "      <td>1600</td>\n",
       "      <td>måndag</td>\n",
       "      <td>11.0</td>\n",
       "      <td>5.0</td>\n",
       "      <td>1.0</td>\n",
       "      <td>15.0</td>\n",
       "      <td>0180 2008-01403</td>\n",
       "      <td>Lännäsbacken</td>\n",
       "      <td>Rågsved</td>\n",
       "      <td>&lt;Område saknas&gt;</td>\n",
       "      <td>Lännäsbacken 5</td>\n",
       "      <td>https://rdt.transportstyrelsen.se/rdt/AF06_Vie...</td>\n",
       "      <td>None</td>\n",
       "      <td>NaN</td>\n",
       "      <td>NaN</td>\n",
       "      <td>None</td>\n",
       "      <td>None</td>\n",
       "      <td>LINESTRING (18.02361 59.25935, 18.02360 59.259...</td>\n",
       "    </tr>\n",
       "    <tr>\n",
       "      <th>4</th>\n",
       "      <td>LTFR_SERVICEDAG.31094564</td>\n",
       "      <td>31094564</td>\n",
       "      <td>2383618</td>\n",
       "      <td>1</td>\n",
       "      <td>3</td>\n",
       "      <td>2008-03-16T23:00:00</td>\n",
       "      <td>800</td>\n",
       "      <td>1600</td>\n",
       "      <td>måndag</td>\n",
       "      <td>11.0</td>\n",
       "      <td>5.0</td>\n",
       "      <td>1.0</td>\n",
       "      <td>15.0</td>\n",
       "      <td>0180 2008-01403</td>\n",
       "      <td>Lännäsbacken</td>\n",
       "      <td>Rågsved</td>\n",
       "      <td>&lt;Område saknas&gt;</td>\n",
       "      <td>Lännäsbacken 5</td>\n",
       "      <td>https://rdt.transportstyrelsen.se/rdt/AF06_Vie...</td>\n",
       "      <td>None</td>\n",
       "      <td>NaN</td>\n",
       "      <td>NaN</td>\n",
       "      <td>None</td>\n",
       "      <td>None</td>\n",
       "      <td>LINESTRING (18.02370 59.25900, 18.02371 59.259...</td>\n",
       "    </tr>\n",
       "  </tbody>\n",
       "</table>\n",
       "</div>"
      ],
      "text/plain": [
       "                         id  ...                                           geometry\n",
       "0  LTFR_SERVICEDAG.31094366  ...  LINESTRING (18.04339 59.26578, 18.04352 59.26587)\n",
       "1  LTFR_SERVICEDAG.31094367  ...  LINESTRING (18.04324 59.26570, 18.04327 59.265...\n",
       "2  LTFR_SERVICEDAG.31094562  ...  LINESTRING (18.02351 59.25976, 18.02352 59.259...\n",
       "3  LTFR_SERVICEDAG.31094563  ...  LINESTRING (18.02361 59.25935, 18.02360 59.259...\n",
       "4  LTFR_SERVICEDAG.31094564  ...  LINESTRING (18.02370 59.25900, 18.02371 59.259...\n",
       "\n",
       "[5 rows x 25 columns]"
      ]
     },
     "execution_count": 2,
     "metadata": {},
     "output_type": "execute_result"
    }
   ],
   "source": [
    "import urllib3 \n",
    "import geopandas as gpd\n",
    "http = urllib3.PoolManager()\n",
    "urlbase = \"https://openparking.stockholm.se/LTF-Tolken/v1/servicedagar/\"\n",
    "url = urlbase + \"weekday/m%C3%A5ndag?outputFormat=json&apiKey=cb5d9a39-f208-459a-b8d5-ccd6bf712fe2\"\n",
    "df = gpd.read_file(url)\n",
    "df.head()"
   ]
  },
  {
   "cell_type": "code",
   "execution_count": 3,
   "metadata": {},
   "outputs": [],
   "source": [
    " \n",
    "map1.add_data(data=df,name='Parking in Stockholm ') \n",
    "%run sthlm_config.py # config of map"
   ]
  },
  {
   "cell_type": "code",
   "execution_count": 4,
   "metadata": {
    "scrolled": true
   },
   "outputs": [
    {
     "data": {
      "application/vnd.jupyter.widget-view+json": {
       "model_id": "5a8ab027d1ad4c44b97e28feb4e1cc0f",
       "version_major": 2,
       "version_minor": 0
      },
      "text/plain": [
       "KeplerGl(data={'Parking in Stockholm ': {'index': [0, 1, 2, 3, 4, 5, 6, 7, 8, 9, 10, 11, 12, 13, 14, 15, 16, 1…"
      ]
     },
     "metadata": {},
     "output_type": "display_data"
    }
   ],
   "source": [
    "map1"
   ]
  },
  {
   "cell_type": "code",
   "execution_count": 5,
   "metadata": {},
   "outputs": [],
   "source": [
    "with open('sthlm_config.py', 'w') as f:\n",
    "   f.write('config = {}'.format(map1.config))"
   ]
  },
  {
   "cell_type": "code",
   "execution_count": null,
   "metadata": {},
   "outputs": [],
   "source": []
  },
  {
   "cell_type": "code",
   "execution_count": null,
   "metadata": {},
   "outputs": [],
   "source": []
  }
 ],
 "metadata": {
  "kernelspec": {
   "display_name": "Python 3",
   "language": "python",
   "name": "python3"
  },
  "language_info": {
   "codemirror_mode": {
    "name": "ipython",
    "version": 3
   },
   "file_extension": ".py",
   "mimetype": "text/x-python",
   "name": "python",
   "nbconvert_exporter": "python",
   "pygments_lexer": "ipython3",
   "version": "3.8.0"
  }
 },
 "nbformat": 4,
 "nbformat_minor": 4
}
