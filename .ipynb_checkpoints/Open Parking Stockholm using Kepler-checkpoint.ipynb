{
 "cells": [
  {
   "cell_type": "markdown",
   "metadata": {},
   "source": [
    "## Open Parking Stockholm\n",
    "https://openstreetgs.stockholm.se/home/Parking"
   ]
  },
  {
   "cell_type": "code",
   "execution_count": 53,
   "metadata": {},
   "outputs": [
    {
     "name": "stdout",
     "output_type": "stream",
     "text": [
      "User Guide: https://docs.kepler.gl/docs/keplergl-jupyter\n"
     ]
    }
   ],
   "source": [
    "from keplergl import KeplerGl \n",
    "map1=KeplerGl(height=800)"
   ]
  },
  {
   "cell_type": "code",
   "execution_count": 54,
   "metadata": {},
   "outputs": [
    {
     "data": {
      "text/html": [
       "<div>\n",
       "<style scoped>\n",
       "    .dataframe tbody tr th:only-of-type {\n",
       "        vertical-align: middle;\n",
       "    }\n",
       "\n",
       "    .dataframe tbody tr th {\n",
       "        vertical-align: top;\n",
       "    }\n",
       "\n",
       "    .dataframe thead th {\n",
       "        text-align: right;\n",
       "    }\n",
       "</style>\n",
       "<table border=\"1\" class=\"dataframe\">\n",
       "  <thead>\n",
       "    <tr style=\"text-align: right;\">\n",
       "      <th></th>\n",
       "      <th>id</th>\n",
       "      <th>FID</th>\n",
       "      <th>FEATURE_OBJECT_ID</th>\n",
       "      <th>FEATURE_VERSION_ID</th>\n",
       "      <th>EXTENT_NO</th>\n",
       "      <th>VALID_FROM</th>\n",
       "      <th>START_TIME</th>\n",
       "      <th>END_TIME</th>\n",
       "      <th>START_WEEKDAY</th>\n",
       "      <th>START_MONTH</th>\n",
       "      <th>END_MONTH</th>\n",
       "      <th>START_DAY</th>\n",
       "      <th>END_DAY</th>\n",
       "      <th>CITATION</th>\n",
       "      <th>STREET_NAME</th>\n",
       "      <th>CITY_DISTRICT</th>\n",
       "      <th>PARKING_DISTRICT</th>\n",
       "      <th>VF_PLATSER</th>\n",
       "      <th>VF_PLATS_TYP</th>\n",
       "      <th>ADDRESS</th>\n",
       "      <th>RDT_URL</th>\n",
       "      <th>VF_METER</th>\n",
       "      <th>VALID_TO</th>\n",
       "      <th>ODD_EVEN</th>\n",
       "      <th>geometry</th>\n",
       "    </tr>\n",
       "  </thead>\n",
       "  <tbody>\n",
       "    <tr>\n",
       "      <th>0</th>\n",
       "      <td>LTFR_SERVICEDAG.31030102</td>\n",
       "      <td>31030102</td>\n",
       "      <td>5729911</td>\n",
       "      <td>1</td>\n",
       "      <td>1</td>\n",
       "      <td>2013-05-14T22:00:00</td>\n",
       "      <td>800</td>\n",
       "      <td>1600</td>\n",
       "      <td>måndag</td>\n",
       "      <td>11.0</td>\n",
       "      <td>5.0</td>\n",
       "      <td>1.0</td>\n",
       "      <td>15.0</td>\n",
       "      <td>0180 2013-01421</td>\n",
       "      <td>Fållnäsgatan</td>\n",
       "      <td>Tallkrogen</td>\n",
       "      <td>&lt;Område saknas&gt;</td>\n",
       "      <td>10.0</td>\n",
       "      <td>Avgiftsfri parkering</td>\n",
       "      <td>Fållnäsgatan 66 - 101</td>\n",
       "      <td>https://rdt.transportstyrelsen.se/rdt/AF06_Vie...</td>\n",
       "      <td>NaN</td>\n",
       "      <td>None</td>\n",
       "      <td>None</td>\n",
       "      <td>LINESTRING (18.07543 59.27288, 18.07555 59.272...</td>\n",
       "    </tr>\n",
       "    <tr>\n",
       "      <th>1</th>\n",
       "      <td>LTFR_SERVICEDAG.31030270</td>\n",
       "      <td>31030270</td>\n",
       "      <td>5663279</td>\n",
       "      <td>1</td>\n",
       "      <td>1</td>\n",
       "      <td>2015-03-11T23:00:00</td>\n",
       "      <td>800</td>\n",
       "      <td>1600</td>\n",
       "      <td>måndag</td>\n",
       "      <td>11.0</td>\n",
       "      <td>5.0</td>\n",
       "      <td>1.0</td>\n",
       "      <td>15.0</td>\n",
       "      <td>0180 2013-00776</td>\n",
       "      <td>Lummerstigen</td>\n",
       "      <td>Herrängen</td>\n",
       "      <td>&lt;Område saknas&gt;</td>\n",
       "      <td>NaN</td>\n",
       "      <td>Tidsreglerat parkerings-/stoppförbud</td>\n",
       "      <td>Lummerstigen 1 - 13</td>\n",
       "      <td>https://rdt.transportstyrelsen.se/rdt/AF06_Vie...</td>\n",
       "      <td>NaN</td>\n",
       "      <td>None</td>\n",
       "      <td>None</td>\n",
       "      <td>LINESTRING (17.97620 59.27260, 17.97622 59.272...</td>\n",
       "    </tr>\n",
       "    <tr>\n",
       "      <th>2</th>\n",
       "      <td>LTFR_SERVICEDAG.31030271</td>\n",
       "      <td>31030271</td>\n",
       "      <td>5407829</td>\n",
       "      <td>1</td>\n",
       "      <td>1</td>\n",
       "      <td>2013-12-09T23:00:00</td>\n",
       "      <td>800</td>\n",
       "      <td>1600</td>\n",
       "      <td>måndag</td>\n",
       "      <td>11.0</td>\n",
       "      <td>5.0</td>\n",
       "      <td>1.0</td>\n",
       "      <td>15.0</td>\n",
       "      <td>0180 2012-03385</td>\n",
       "      <td>Tanneforsvägen</td>\n",
       "      <td>Stureby</td>\n",
       "      <td>&lt;Område saknas&gt;</td>\n",
       "      <td>NaN</td>\n",
       "      <td>Tidsreglerat parkerings-/stoppförbud</td>\n",
       "      <td>Tanneforsvägen 5 - 9</td>\n",
       "      <td>https://rdt.transportstyrelsen.se/rdt/AF06_Vie...</td>\n",
       "      <td>NaN</td>\n",
       "      <td>None</td>\n",
       "      <td>None</td>\n",
       "      <td>LINESTRING (18.05866 59.27384, 18.05931 59.273...</td>\n",
       "    </tr>\n",
       "    <tr>\n",
       "      <th>3</th>\n",
       "      <td>LTFR_SERVICEDAG.31030272</td>\n",
       "      <td>31030272</td>\n",
       "      <td>5407848</td>\n",
       "      <td>1</td>\n",
       "      <td>1</td>\n",
       "      <td>2013-11-26T23:00:00</td>\n",
       "      <td>800</td>\n",
       "      <td>1600</td>\n",
       "      <td>måndag</td>\n",
       "      <td>11.0</td>\n",
       "      <td>5.0</td>\n",
       "      <td>1.0</td>\n",
       "      <td>15.0</td>\n",
       "      <td>0180 2012-03398</td>\n",
       "      <td>Östrandsvägen</td>\n",
       "      <td>Stureby</td>\n",
       "      <td>&lt;Område saknas&gt;</td>\n",
       "      <td>NaN</td>\n",
       "      <td>Tidsreglerat parkerings-/stoppförbud</td>\n",
       "      <td>Vivstavarvsvägen 161 - Östrandsvägen 53</td>\n",
       "      <td>https://rdt.transportstyrelsen.se/rdt/AF06_Vie...</td>\n",
       "      <td>NaN</td>\n",
       "      <td>None</td>\n",
       "      <td>None</td>\n",
       "      <td>LINESTRING (18.04857 59.28350, 18.04840 59.283...</td>\n",
       "    </tr>\n",
       "    <tr>\n",
       "      <th>4</th>\n",
       "      <td>LTFR_SERVICEDAG.31030273</td>\n",
       "      <td>31030273</td>\n",
       "      <td>5407848</td>\n",
       "      <td>1</td>\n",
       "      <td>2</td>\n",
       "      <td>2013-11-26T23:00:00</td>\n",
       "      <td>800</td>\n",
       "      <td>1600</td>\n",
       "      <td>måndag</td>\n",
       "      <td>11.0</td>\n",
       "      <td>5.0</td>\n",
       "      <td>1.0</td>\n",
       "      <td>15.0</td>\n",
       "      <td>0180 2012-03398</td>\n",
       "      <td>Östrandsvägen</td>\n",
       "      <td>Stureby</td>\n",
       "      <td>&lt;Område saknas&gt;</td>\n",
       "      <td>NaN</td>\n",
       "      <td>Tidsreglerat parkerings-/stoppförbud</td>\n",
       "      <td>Östrandsvägen 53 - 74</td>\n",
       "      <td>https://rdt.transportstyrelsen.se/rdt/AF06_Vie...</td>\n",
       "      <td>NaN</td>\n",
       "      <td>None</td>\n",
       "      <td>None</td>\n",
       "      <td>LINESTRING (18.04793 59.28301, 18.04786 59.282...</td>\n",
       "    </tr>\n",
       "  </tbody>\n",
       "</table>\n",
       "</div>"
      ],
      "text/plain": [
       "                         id       FID  ...  ODD_EVEN                                           geometry\n",
       "0  LTFR_SERVICEDAG.31030102  31030102  ...      None  LINESTRING (18.07543 59.27288, 18.07555 59.272...\n",
       "1  LTFR_SERVICEDAG.31030270  31030270  ...      None  LINESTRING (17.97620 59.27260, 17.97622 59.272...\n",
       "2  LTFR_SERVICEDAG.31030271  31030271  ...      None  LINESTRING (18.05866 59.27384, 18.05931 59.273...\n",
       "3  LTFR_SERVICEDAG.31030272  31030272  ...      None  LINESTRING (18.04857 59.28350, 18.04840 59.283...\n",
       "4  LTFR_SERVICEDAG.31030273  31030273  ...      None  LINESTRING (18.04793 59.28301, 18.04786 59.282...\n",
       "\n",
       "[5 rows x 25 columns]"
      ]
     },
     "execution_count": 54,
     "metadata": {},
     "output_type": "execute_result"
    }
   ],
   "source": [
    "import urllib3 \n",
    "import geopandas as gpd\n",
    "http = urllib3.PoolManager()\n",
    "urlbase = \"https://openparking.stockholm.se/LTF-Tolken/v1/servicedagar/\"\n",
    "url = urlbase + \"weekday/m%C3%A5ndag?outputFormat=json&apiKey=cb5d9a39-f208-459a-b8d5-ccd6bf712fe2\"\n",
    "df = gpd.read_file(url)\n",
    "df.head()"
   ]
  },
  {
   "cell_type": "code",
   "execution_count": 55,
   "metadata": {},
   "outputs": [],
   "source": [
    " \n",
    "map1.add_data(data=df,name='Parking in Stockholm ') \n",
    "%run sthlm_config.py # config of map"
   ]
  },
  {
   "cell_type": "code",
   "execution_count": 51,
   "metadata": {
    "scrolled": true
   },
   "outputs": [
    {
     "data": {
      "application/vnd.jupyter.widget-view+json": {
       "model_id": "195c2bdcc18e4e6c8e105568fdeae9dd",
       "version_major": 2,
       "version_minor": 0
      },
      "text/plain": [
       "KeplerGl(data={'Parking in Stockholm ': {'index': [0, 1, 2, 3, 4, 5, 6, 7, 8, 9, 10, 11, 12, 13, 14, 15, 16, 1…"
      ]
     },
     "metadata": {},
     "output_type": "display_data"
    }
   ],
   "source": [
    "map1"
   ]
  },
  {
   "cell_type": "code",
   "execution_count": 47,
   "metadata": {},
   "outputs": [],
   "source": [
    "with open('sthlm_config.py', 'w') as f:\n",
    "   f.write('config = {}'.format(map1.config))"
   ]
  },
  {
   "cell_type": "code",
   "execution_count": 14,
   "metadata": {},
   "outputs": [],
   "source": []
  },
  {
   "cell_type": "code",
   "execution_count": null,
   "metadata": {},
   "outputs": [],
   "source": []
  }
 ],
 "metadata": {
  "kernelspec": {
   "display_name": "Python 3",
   "language": "python",
   "name": "python3"
  },
  "language_info": {
   "codemirror_mode": {
    "name": "ipython",
    "version": 3
   },
   "file_extension": ".py",
   "mimetype": "text/x-python",
   "name": "python",
   "nbconvert_exporter": "python",
   "pygments_lexer": "ipython3",
   "version": "3.8.0"
  }
 },
 "nbformat": 4,
 "nbformat_minor": 4
}
