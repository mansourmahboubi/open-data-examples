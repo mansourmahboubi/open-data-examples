{
 "cells": [
  {
   "cell_type": "markdown",
   "id": "c2321978",
   "metadata": {},
   "source": [
    "Check Open Data portals for Swedish municipalities"
   ]
  },
  {
   "cell_type": "code",
   "execution_count": 1,
   "id": "db9092dd",
   "metadata": {},
   "outputs": [
    {
     "name": "stdout",
     "output_type": "stream",
     "text": [
      "Last runa:  2021-06-29 08:39:55.654661\n"
     ]
    }
   ],
   "source": [
    "from datetime import datetime\n",
    "start_time  = datetime.now()\n",
    "print(\"Last runa: \", start_time)"
   ]
  },
  {
   "cell_type": "code",
   "execution_count": 2,
   "id": "0d8b5634",
   "metadata": {},
   "outputs": [
    {
     "data": {
      "text/plain": [
       "(162, 5)"
      ]
     },
     "execution_count": 2,
     "metadata": {},
     "output_type": "execute_result"
    }
   ],
   "source": [
    "# pip install sparqlwrapper\n",
    "# https://rdflib.github.io/sparqlwrapper/\n",
    "\n",
    "import sys,json\n",
    "import pandas as pd\n",
    "from SPARQLWrapper import SPARQLWrapper, JSON\n",
    "\n",
    "endpoint_url = \"https://query.wikidata.org/sparql\"\n",
    "\n",
    "queryOpenData = \"\"\"SELECT  (REPLACE(STR(?org), \".*Q\", \"Q\") AS ?wikidata) ?org ?orgLabel ?portalLabel  ?www WHERE {\n",
    "  ?org wdt:P8402 ?portal.\n",
    "  ?org wdt:P31 wd:Q127448.\n",
    "  ?org wdt:P361 ?lan.\n",
    "  ?lan wdt:P31 wd:Q193556.\n",
    "  OPTIONAL { ?portal wdt:P856 ?www }\n",
    "  SERVICE wikibase:label { bd:serviceParam wikibase:language \"sv\". }\n",
    "}\n",
    "GROUP BY ?org ?orgLabel ?portal ?portalLabel ?www \n",
    "order by ?orgLabel \"\"\"\n",
    "\n",
    "\n",
    "def get_sparql_dataframe(endpoint_url, query):\n",
    "    \"\"\"\n",
    "    Helper function to convert SPARQL results into a Pandas data frame.\n",
    "    \"\"\"\n",
    "    user_agent = \"salgo60/%s.%s\" % (sys.version_info[0], sys.version_info[1])\n",
    " \n",
    "    sparql = SPARQLWrapper(endpoint_url, agent=user_agent)\n",
    "    sparql.setQuery(query)\n",
    "    sparql.setReturnFormat(JSON)\n",
    "    result = sparql.query()\n",
    "\n",
    "    processed_results = json.load(result.response)\n",
    "    cols = processed_results['head']['vars']\n",
    "\n",
    "    out = []\n",
    "    for row in processed_results['results']['bindings']:\n",
    "        item = []\n",
    "        for c in cols:\n",
    "            item.append(row.get(c, {}).get('value'))\n",
    "        out.append(item)\n",
    "\n",
    "    return pd.DataFrame(out, columns=cols)\n",
    "\n",
    "WDOpenData = get_sparql_dataframe(endpoint_url, queryOpenData)\n",
    "WDOpenData.shape"
   ]
  },
  {
   "cell_type": "code",
   "execution_count": 3,
   "id": "0c6b7591",
   "metadata": {},
   "outputs": [
    {
     "data": {
      "text/html": [
       "<div>\n",
       "<style scoped>\n",
       "    .dataframe tbody tr th:only-of-type {\n",
       "        vertical-align: middle;\n",
       "    }\n",
       "\n",
       "    .dataframe tbody tr th {\n",
       "        vertical-align: top;\n",
       "    }\n",
       "\n",
       "    .dataframe thead th {\n",
       "        text-align: right;\n",
       "    }\n",
       "</style>\n",
       "<table border=\"1\" class=\"dataframe\">\n",
       "  <thead>\n",
       "    <tr style=\"text-align: right;\">\n",
       "      <th></th>\n",
       "      <th>wikidata</th>\n",
       "      <th>org</th>\n",
       "      <th>orgLabel</th>\n",
       "      <th>portalLabel</th>\n",
       "      <th>www</th>\n",
       "    </tr>\n",
       "  </thead>\n",
       "  <tbody>\n",
       "    <tr>\n",
       "      <th>0</th>\n",
       "      <td>Q504601</td>\n",
       "      <td>http://www.wikidata.org/entity/Q504601</td>\n",
       "      <td>Sjöbo kommun</td>\n",
       "      <td>Sjöbo kommun för Öppna Data portal</td>\n",
       "      <td>https://www.sjobo.se/kommun-och-politik/oppna-data.html</td>\n",
       "    </tr>\n",
       "    <tr>\n",
       "      <th>1</th>\n",
       "      <td>Q487648</td>\n",
       "      <td>http://www.wikidata.org/entity/Q487648</td>\n",
       "      <td>Helsingborgs kommun</td>\n",
       "      <td>Öppna Helsingborg</td>\n",
       "      <td>http://www.helsingborg.se/psidata</td>\n",
       "    </tr>\n",
       "    <tr>\n",
       "      <th>2</th>\n",
       "      <td>Q514830</td>\n",
       "      <td>http://www.wikidata.org/entity/Q514830</td>\n",
       "      <td>Bromölla kommun</td>\n",
       "      <td>Bromölla kommun öppna data</td>\n",
       "      <td>https://www.bromolla.se/kommun-och-politik/kommunfakta/psi-data/</td>\n",
       "    </tr>\n",
       "    <tr>\n",
       "      <th>3</th>\n",
       "      <td>Q1130264</td>\n",
       "      <td>http://www.wikidata.org/entity/Q1130264</td>\n",
       "      <td>Eslövs kommun</td>\n",
       "      <td>Eslövs kommun öppna data</td>\n",
       "      <td>https://eslov.se/psidata</td>\n",
       "    </tr>\n",
       "    <tr>\n",
       "      <th>4</th>\n",
       "      <td>Q266401</td>\n",
       "      <td>http://www.wikidata.org/entity/Q266401</td>\n",
       "      <td>Höörs kommun</td>\n",
       "      <td>Höörs kommun öppna data</td>\n",
       "      <td>https://www.hoor.se/psidata</td>\n",
       "    </tr>\n",
       "    <tr>\n",
       "      <th>5</th>\n",
       "      <td>Q498857</td>\n",
       "      <td>http://www.wikidata.org/entity/Q498857</td>\n",
       "      <td>Kristianstads kommun</td>\n",
       "      <td>Öppna data från Kristianstads kommun</td>\n",
       "      <td>http://www.kristianstad.se/psidata</td>\n",
       "    </tr>\n",
       "    <tr>\n",
       "      <th>6</th>\n",
       "      <td>Q502298</td>\n",
       "      <td>http://www.wikidata.org/entity/Q502298</td>\n",
       "      <td>Landskrona kommun</td>\n",
       "      <td>Öppna data från Landskrona kommun</td>\n",
       "      <td>http://www.landskrona.se/psidata</td>\n",
       "    </tr>\n",
       "    <tr>\n",
       "      <th>7</th>\n",
       "      <td>Q505018</td>\n",
       "      <td>http://www.wikidata.org/entity/Q505018</td>\n",
       "      <td>Lunds kommun</td>\n",
       "      <td>Öppna data från Lunds kommun</td>\n",
       "      <td>http://www.lund.se/psidata</td>\n",
       "    </tr>\n",
       "    <tr>\n",
       "      <th>8</th>\n",
       "      <td>Q504609</td>\n",
       "      <td>http://www.wikidata.org/entity/Q504609</td>\n",
       "      <td>Staffanstorps kommun</td>\n",
       "      <td>Öppna data från Staffanstorps kommun</td>\n",
       "      <td>http://www.staffanstorp.se/psidata</td>\n",
       "    </tr>\n",
       "    <tr>\n",
       "      <th>9</th>\n",
       "      <td>Q504227</td>\n",
       "      <td>http://www.wikidata.org/entity/Q504227</td>\n",
       "      <td>Svalövs kommun</td>\n",
       "      <td>Öppna data från Svalövs kommun</td>\n",
       "      <td>http://www.svalov.se/psidata</td>\n",
       "    </tr>\n",
       "  </tbody>\n",
       "</table>\n",
       "</div>"
      ],
      "text/plain": [
       "   wikidata                                      org              orgLabel  \\\n",
       "0   Q504601   http://www.wikidata.org/entity/Q504601          Sjöbo kommun   \n",
       "1   Q487648   http://www.wikidata.org/entity/Q487648   Helsingborgs kommun   \n",
       "2   Q514830   http://www.wikidata.org/entity/Q514830       Bromölla kommun   \n",
       "3  Q1130264  http://www.wikidata.org/entity/Q1130264         Eslövs kommun   \n",
       "4   Q266401   http://www.wikidata.org/entity/Q266401          Höörs kommun   \n",
       "5   Q498857   http://www.wikidata.org/entity/Q498857  Kristianstads kommun   \n",
       "6   Q502298   http://www.wikidata.org/entity/Q502298     Landskrona kommun   \n",
       "7   Q505018   http://www.wikidata.org/entity/Q505018          Lunds kommun   \n",
       "8   Q504609   http://www.wikidata.org/entity/Q504609  Staffanstorps kommun   \n",
       "9   Q504227   http://www.wikidata.org/entity/Q504227        Svalövs kommun   \n",
       "\n",
       "                            portalLabel  \\\n",
       "0    Sjöbo kommun för Öppna Data portal   \n",
       "1                     Öppna Helsingborg   \n",
       "2            Bromölla kommun öppna data   \n",
       "3              Eslövs kommun öppna data   \n",
       "4               Höörs kommun öppna data   \n",
       "5  Öppna data från Kristianstads kommun   \n",
       "6     Öppna data från Landskrona kommun   \n",
       "7          Öppna data från Lunds kommun   \n",
       "8  Öppna data från Staffanstorps kommun   \n",
       "9        Öppna data från Svalövs kommun   \n",
       "\n",
       "                                                                www  \n",
       "0           https://www.sjobo.se/kommun-och-politik/oppna-data.html  \n",
       "1                                 http://www.helsingborg.se/psidata  \n",
       "2  https://www.bromolla.se/kommun-och-politik/kommunfakta/psi-data/  \n",
       "3                                          https://eslov.se/psidata  \n",
       "4                                       https://www.hoor.se/psidata  \n",
       "5                                http://www.kristianstad.se/psidata  \n",
       "6                                  http://www.landskrona.se/psidata  \n",
       "7                                        http://www.lund.se/psidata  \n",
       "8                                http://www.staffanstorp.se/psidata  \n",
       "9                                      http://www.svalov.se/psidata  "
      ]
     },
     "execution_count": 3,
     "metadata": {},
     "output_type": "execute_result"
    }
   ],
   "source": [
    "pd.set_option('max_colwidth', 400)\n",
    "WDOpenData.head(10)"
   ]
  },
  {
   "cell_type": "code",
   "execution_count": 4,
   "id": "f8dbf6c2",
   "metadata": {},
   "outputs": [
    {
     "name": "stderr",
     "output_type": "stream",
     "text": [
      "  1%|          | 2/162 [00:03<04:41,  1.76s/it]"
     ]
    },
    {
     "name": "stdout",
     "output_type": "stream",
     "text": [
      "Error  200 http://www.helsingborg.se/psidata Q487648\n"
     ]
    },
    {
     "name": "stderr",
     "output_type": "stream",
     "text": [
      " 29%|██▉       | 47/162 [00:29<00:38,  2.96it/s]"
     ]
    },
    {
     "name": "stdout",
     "output_type": "stream",
     "text": [
      "Error  200 http://www.vara.se/psidata Q501428\n"
     ]
    },
    {
     "name": "stderr",
     "output_type": "stream",
     "text": [
      " 56%|█████▌    | 91/162 [00:42<00:19,  3.67it/s]"
     ]
    },
    {
     "name": "stdout",
     "output_type": "stream",
     "text": [
      "Error  200 http://www.robertsfors.se/psidata Q507670\n"
     ]
    },
    {
     "name": "stderr",
     "output_type": "stream",
     "text": [
      " 67%|██████▋   | 108/162 [00:52<00:16,  3.35it/s]"
     ]
    },
    {
     "name": "stdout",
     "output_type": "stream",
     "text": [
      "Error  200 https://www.hultsfred.se/psidata Q512002\n"
     ]
    },
    {
     "name": "stderr",
     "output_type": "stream",
     "text": [
      " 98%|█████████▊| 158/162 [01:07<00:01,  3.30it/s]"
     ]
    },
    {
     "name": "stdout",
     "output_type": "stream",
     "text": [
      "Q504692 404 https://www.halmstad.se/psidata\n"
     ]
    },
    {
     "name": "stderr",
     "output_type": "stream",
     "text": [
      "100%|██████████| 162/162 [01:09<00:00,  2.34it/s]"
     ]
    },
    {
     "name": "stdout",
     "output_type": "stream",
     "text": [
      "162\n"
     ]
    },
    {
     "name": "stderr",
     "output_type": "stream",
     "text": [
      "\n"
     ]
    }
   ],
   "source": [
    "import urllib3, json\n",
    "from tqdm import tqdm\n",
    "http = urllib3.PoolManager()\n",
    "\n",
    "listOpenData = []\n",
    "for WD, row in tqdm(WDOpenData.iterrows(), total=WDOpenData.shape[0]):\n",
    "    url = row[\"www\"] \n",
    "    \n",
    "    new_item = dict()\n",
    "    new_item['wikidata'] = row[\"wikidata\"] \n",
    "    #print(url)\n",
    "    try:\n",
    "        r = http.request('GET', url) \n",
    "        new_item['status'] = r.status\n",
    "\n",
    "    except:\n",
    "        print (\"Error \", r.status, url, row[\"wikidata\"] )\n",
    "        new_item['status'] = r.status\n",
    "    if r.status != 200:\n",
    "        print (row[\"wikidata\"] , r.status, url)\n",
    "    new_item['url'] = url \n",
    "#    new_item['country'] = row[\"country\"] \n",
    "    \n",
    "    listOpenData.append(new_item)\n",
    "print (len(listOpenData))"
   ]
  },
  {
   "cell_type": "code",
   "execution_count": 5,
   "id": "18e2f8dc",
   "metadata": {},
   "outputs": [
    {
     "data": {
      "text/plain": [
       "(162, 3)"
      ]
     },
     "execution_count": 5,
     "metadata": {},
     "output_type": "execute_result"
    }
   ],
   "source": [
    "OpenDatatot = pd.DataFrame(listOpenData,\n",
    "                  columns=['wikidata','status','url'])\n",
    "OpenDatatot.shape\n"
   ]
  },
  {
   "cell_type": "code",
   "execution_count": 8,
   "id": "697db5b8",
   "metadata": {},
   "outputs": [
    {
     "data": {
      "text/html": [
       "<div>\n",
       "<style scoped>\n",
       "    .dataframe tbody tr th:only-of-type {\n",
       "        vertical-align: middle;\n",
       "    }\n",
       "\n",
       "    .dataframe tbody tr th {\n",
       "        vertical-align: top;\n",
       "    }\n",
       "\n",
       "    .dataframe thead th {\n",
       "        text-align: right;\n",
       "    }\n",
       "</style>\n",
       "<table border=\"1\" class=\"dataframe\">\n",
       "  <thead>\n",
       "    <tr style=\"text-align: right;\">\n",
       "      <th></th>\n",
       "      <th>wikidata</th>\n",
       "      <th>status</th>\n",
       "      <th>url</th>\n",
       "    </tr>\n",
       "  </thead>\n",
       "  <tbody>\n",
       "  </tbody>\n",
       "</table>\n",
       "</div>"
      ],
      "text/plain": [
       "Empty DataFrame\n",
       "Columns: [wikidata, status, url]\n",
       "Index: []"
      ]
     },
     "execution_count": 8,
     "metadata": {},
     "output_type": "execute_result"
    }
   ],
   "source": [
    "OpenDatatot[OpenDatatot.status == 400]"
   ]
  },
  {
   "cell_type": "code",
   "execution_count": 10,
   "id": "a6e5d739",
   "metadata": {},
   "outputs": [
    {
     "data": {
      "text/plain": [
       "200    161\n",
       "404      1\n",
       "Name: status, dtype: int64"
      ]
     },
     "execution_count": 10,
     "metadata": {},
     "output_type": "execute_result"
    }
   ],
   "source": [
    "OpenDatatot.status.value_counts()"
   ]
  },
  {
   "cell_type": "code",
   "execution_count": 12,
   "id": "9970a86d",
   "metadata": {},
   "outputs": [
    {
     "data": {
      "text/html": [
       "<div>\n",
       "<style scoped>\n",
       "    .dataframe tbody tr th:only-of-type {\n",
       "        vertical-align: middle;\n",
       "    }\n",
       "\n",
       "    .dataframe tbody tr th {\n",
       "        vertical-align: top;\n",
       "    }\n",
       "\n",
       "    .dataframe thead th {\n",
       "        text-align: right;\n",
       "    }\n",
       "</style>\n",
       "<table border=\"1\" class=\"dataframe\">\n",
       "  <thead>\n",
       "    <tr style=\"text-align: right;\">\n",
       "      <th></th>\n",
       "      <th>wikidata</th>\n",
       "      <th>status</th>\n",
       "      <th>url</th>\n",
       "    </tr>\n",
       "  </thead>\n",
       "  <tbody>\n",
       "    <tr>\n",
       "      <th>157</th>\n",
       "      <td>Q504692</td>\n",
       "      <td>404</td>\n",
       "      <td>https://www.halmstad.se/psidata</td>\n",
       "    </tr>\n",
       "  </tbody>\n",
       "</table>\n",
       "</div>"
      ],
      "text/plain": [
       "    wikidata  status                              url\n",
       "157  Q504692     404  https://www.halmstad.se/psidata"
      ]
     },
     "execution_count": 12,
     "metadata": {},
     "output_type": "execute_result"
    }
   ],
   "source": [
    "OpenDatatot[OpenDatatot.status == 404]"
   ]
  },
  {
   "cell_type": "code",
   "execution_count": null,
   "id": "aaf41482",
   "metadata": {},
   "outputs": [],
   "source": []
  }
 ],
 "metadata": {
  "kernelspec": {
   "display_name": "Python 3",
   "language": "python",
   "name": "python3"
  },
  "language_info": {
   "codemirror_mode": {
    "name": "ipython",
    "version": 3
   },
   "file_extension": ".py",
   "mimetype": "text/x-python",
   "name": "python",
   "nbconvert_exporter": "python",
   "pygments_lexer": "ipython3",
   "version": "3.9.4"
  }
 },
 "nbformat": 4,
 "nbformat_minor": 5
}
