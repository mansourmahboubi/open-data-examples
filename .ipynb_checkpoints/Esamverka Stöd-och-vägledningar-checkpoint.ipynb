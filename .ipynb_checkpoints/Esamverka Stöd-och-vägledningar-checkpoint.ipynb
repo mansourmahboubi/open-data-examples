{
 "cells": [
  {
   "cell_type": "markdown",
   "id": "a5dc61bf",
   "metadata": {},
   "source": [
    "* esamverka.se - [Stöd och vägledningar](https://www.esamverka.se/stod-och-vagledningar.html) \n",
    "\n",
    "* this [Notebook](https://github.com/salgo60/open-data-examples/blob/master/Esamverka%20St%C3%B6d-och-v%C3%A4gledningar.ipynb)"
   ]
  },
  {
   "cell_type": "code",
   "execution_count": 1,
   "id": "67f1adc7",
   "metadata": {},
   "outputs": [
    {
     "name": "stdout",
     "output_type": "stream",
     "text": [
      "Last run:  2022-06-30 18:10:20.820519\n"
     ]
    }
   ],
   "source": [
    "from datetime import datetime\n",
    "start_time  = datetime.now()\n",
    "print(\"Last run: \", start_time)\n",
    "\n",
    "url = \"https://www.esamverka.se/stod-och-vagledningar.html\"\n"
   ]
  },
  {
   "cell_type": "code",
   "execution_count": 2,
   "id": "19a904ec",
   "metadata": {},
   "outputs": [],
   "source": [
    "import urllib3, re, time\n",
    "import pandas as pd \n",
    "from bs4 import BeautifulSoup\n",
    "from csv import DictReader, DictWriter\n",
    "from tqdm import tqdm\n",
    "req = urllib3.PoolManager()\n",
    "\n",
    "listEsamverka = []  \n",
    "try:\n",
    "    res = req.request('GET', url)\n",
    "    soup = BeautifulSoup(res.data, 'html.parser')\n",
    "    classes = [\"ws-documentlisting-heading\"]\n",
    "    contents = soup.find_all(class_ = classes)\n",
    "    i = 0 \n",
    "    for tablerow in contents:\n",
    "        subject = tablerow.text\n",
    "        #print(subject)\n",
    "        \n",
    "        ultag = tablerow.findNext('ul')\n",
    "        #print(ultag)\n",
    "        for litag in ultag.find_all('li'):\n",
    "            #print (litag.text)\n",
    "            for atag in litag.find_all('a'):\n",
    "                #print(atag) \n",
    "                href = atag['href']\n",
    "                title = atag['title'].replace(\"Läs dokumentet '\",\"\")[:-1]\n",
    "                #print(\"\\tHref\",href) \n",
    "                #print(\"\\tTitle\",subject,\"- \\t\",title)\n",
    "            listEsamverka.append({\"Subject\" : subject, \"Title\" : title, \"Href\" : href})\n",
    "except Exception as e: \n",
    "    print(e)\n",
    "#print(listEsamverka)"
   ]
  },
  {
   "cell_type": "code",
   "execution_count": 3,
   "id": "687f52cb",
   "metadata": {},
   "outputs": [],
   "source": [
    "dfTot = pd.DataFrame(listEsamverka)"
   ]
  },
  {
   "cell_type": "code",
   "execution_count": 4,
   "id": "19812116",
   "metadata": {},
   "outputs": [
    {
     "data": {
      "text/html": [
       "<div>\n",
       "<style scoped>\n",
       "    .dataframe tbody tr th:only-of-type {\n",
       "        vertical-align: middle;\n",
       "    }\n",
       "\n",
       "    .dataframe tbody tr th {\n",
       "        vertical-align: top;\n",
       "    }\n",
       "\n",
       "    .dataframe thead th {\n",
       "        text-align: right;\n",
       "    }\n",
       "</style>\n",
       "<table border=\"1\" class=\"dataframe\">\n",
       "  <thead>\n",
       "    <tr style=\"text-align: right;\">\n",
       "      <th></th>\n",
       "      <th>Subject</th>\n",
       "      <th>Title</th>\n",
       "      <th>Href</th>\n",
       "    </tr>\n",
       "  </thead>\n",
       "  <tbody>\n",
       "    <tr>\n",
       "      <th>0</th>\n",
       "      <td>Vägledningar</td>\n",
       "      <td>Vägledning E-legitimation och E-underskrift 1.1</td>\n",
       "      <td>https://www.esamverka.se/download/18.1d126bc17...</td>\n",
       "    </tr>\n",
       "    <tr>\n",
       "      <th>1</th>\n",
       "      <td>Vägledningar</td>\n",
       "      <td>Vägledning för direktåtkomst och utlämnande på...</td>\n",
       "      <td>https://www.esamverka.se/download/18.1d126bc17...</td>\n",
       "    </tr>\n",
       "    <tr>\n",
       "      <th>2</th>\n",
       "      <td>Vägledningar</td>\n",
       "      <td>Analysverktyg och eget utrymme 200303</td>\n",
       "      <td>https://www.esamverka.se/download/18.1d126bc17...</td>\n",
       "    </tr>\n",
       "    <tr>\n",
       "      <th>3</th>\n",
       "      <td>Vägledningar</td>\n",
       "      <td>ES2022-02 Vägledning Bedömning och utveckling ...</td>\n",
       "      <td>https://www.esamverka.se/download/18.1ec521a61...</td>\n",
       "    </tr>\n",
       "    <tr>\n",
       "      <th>4</th>\n",
       "      <td>Vägledningar</td>\n",
       "      <td>ES2022-04 Vägledning Designprinciper och krav ...</td>\n",
       "      <td>https://www.esamverka.se/download/18.2191f2561...</td>\n",
       "    </tr>\n",
       "    <tr>\n",
       "      <th>...</th>\n",
       "      <td>...</td>\n",
       "      <td>...</td>\n",
       "      <td>...</td>\n",
       "    </tr>\n",
       "    <tr>\n",
       "      <th>65</th>\n",
       "      <td>Verksamhetsberättelser</td>\n",
       "      <td>Verksamhetsberättelse 2018-2019</td>\n",
       "      <td>https://www.esamverka.se/download/18.1d126bc17...</td>\n",
       "    </tr>\n",
       "    <tr>\n",
       "      <th>66</th>\n",
       "      <td>Verksamhetsberättelser</td>\n",
       "      <td>Verksamhetsberättelse 2019-2020.pdf</td>\n",
       "      <td>https://www.esamverka.se/download/18.1d126bc17...</td>\n",
       "    </tr>\n",
       "    <tr>\n",
       "      <th>67</th>\n",
       "      <td>Verksamhetsberättelser</td>\n",
       "      <td>Verksamhetsberättelse 2020-2021</td>\n",
       "      <td>https://www.esamverka.se/download/18.285cc2211...</td>\n",
       "    </tr>\n",
       "    <tr>\n",
       "      <th>68</th>\n",
       "      <td>Verksamhetsplan</td>\n",
       "      <td>eSams plan 22-23 med bilaga</td>\n",
       "      <td>https://www.esamverka.se/download/18.2191f2561...</td>\n",
       "    </tr>\n",
       "    <tr>\n",
       "      <th>69</th>\n",
       "      <td>E-delegationens vägledningar</td>\n",
       "      <td>Metamodell V1.0</td>\n",
       "      <td>https://www.esamverka.se/download/18.1d126bc17...</td>\n",
       "    </tr>\n",
       "  </tbody>\n",
       "</table>\n",
       "<p>70 rows × 3 columns</p>\n",
       "</div>"
      ],
      "text/plain": [
       "                         Subject  \\\n",
       "0                   Vägledningar   \n",
       "1                   Vägledningar   \n",
       "2                   Vägledningar   \n",
       "3                   Vägledningar   \n",
       "4                   Vägledningar   \n",
       "..                           ...   \n",
       "65        Verksamhetsberättelser   \n",
       "66        Verksamhetsberättelser   \n",
       "67        Verksamhetsberättelser   \n",
       "68               Verksamhetsplan   \n",
       "69  E-delegationens vägledningar   \n",
       "\n",
       "                                                Title  \\\n",
       "0     Vägledning E-legitimation och E-underskrift 1.1   \n",
       "1   Vägledning för direktåtkomst och utlämnande på...   \n",
       "2               Analysverktyg och eget utrymme 200303   \n",
       "3   ES2022-02 Vägledning Bedömning och utveckling ...   \n",
       "4   ES2022-04 Vägledning Designprinciper och krav ...   \n",
       "..                                                ...   \n",
       "65                    Verksamhetsberättelse 2018-2019   \n",
       "66                Verksamhetsberättelse 2019-2020.pdf   \n",
       "67                    Verksamhetsberättelse 2020-2021   \n",
       "68                        eSams plan 22-23 med bilaga   \n",
       "69                                    Metamodell V1.0   \n",
       "\n",
       "                                                 Href  \n",
       "0   https://www.esamverka.se/download/18.1d126bc17...  \n",
       "1   https://www.esamverka.se/download/18.1d126bc17...  \n",
       "2   https://www.esamverka.se/download/18.1d126bc17...  \n",
       "3   https://www.esamverka.se/download/18.1ec521a61...  \n",
       "4   https://www.esamverka.se/download/18.2191f2561...  \n",
       "..                                                ...  \n",
       "65  https://www.esamverka.se/download/18.1d126bc17...  \n",
       "66  https://www.esamverka.se/download/18.1d126bc17...  \n",
       "67  https://www.esamverka.se/download/18.285cc2211...  \n",
       "68  https://www.esamverka.se/download/18.2191f2561...  \n",
       "69  https://www.esamverka.se/download/18.1d126bc17...  \n",
       "\n",
       "[70 rows x 3 columns]"
      ]
     },
     "execution_count": 4,
     "metadata": {},
     "output_type": "execute_result"
    }
   ],
   "source": [
    "dfTot"
   ]
  },
  {
   "cell_type": "code",
   "execution_count": 5,
   "id": "36ea92f3",
   "metadata": {},
   "outputs": [],
   "source": [
    "dfTot.to_csv(\"Esamverka_doc.csv\")"
   ]
  },
  {
   "cell_type": "code",
   "execution_count": 6,
   "id": "7f0e0f67",
   "metadata": {},
   "outputs": [
    {
     "name": "stdout",
     "output_type": "stream",
     "text": [
      "Ended:  2022-06-30 18:10:21.902401\n",
      "Time elapsed (hh:mm:ss.ms) 0:00:01.083054\n"
     ]
    }
   ],
   "source": [
    "end = datetime.now()\n",
    "print(\"Ended: \", end) \n",
    "print('Time elapsed (hh:mm:ss.ms) {}'.format(datetime.now() - start_time))"
   ]
  },
  {
   "cell_type": "code",
   "execution_count": null,
   "id": "0770b855",
   "metadata": {},
   "outputs": [],
   "source": []
  }
 ],
 "metadata": {
  "kernelspec": {
   "display_name": "Python 3",
   "language": "python",
   "name": "python3"
  },
  "language_info": {
   "codemirror_mode": {
    "name": "ipython",
    "version": 3
   },
   "file_extension": ".py",
   "mimetype": "text/x-python",
   "name": "python",
   "nbconvert_exporter": "python",
   "pygments_lexer": "ipython3",
   "version": "3.9.13"
  }
 },
 "nbformat": 4,
 "nbformat_minor": 5
}
