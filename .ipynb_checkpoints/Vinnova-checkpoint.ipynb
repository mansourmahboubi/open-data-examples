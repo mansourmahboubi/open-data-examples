{
 "cells": [
  {
   "cell_type": "markdown",
   "metadata": {},
   "source": [
    "![vinnva](https://www.vinnova.se/globalassets/mikrosajter/nyhetsrum/bilder/logotyp/nya-okt-18/engelsk.png)\n",
    "# Vinnova -  overview of our calls for proposals\n",
    "\n",
    "With this API you can get calls for proposal, for more details [read this](https://www.vinnova.se/en/apply-for-funding/find-the-right-funding/) and  [API]().\n"
   ]
  },
  {
   "cell_type": "code",
   "execution_count": 1,
   "metadata": {},
   "outputs": [
    {
     "data": {
      "text/plain": [
       "'https://data.vinnova.se/api/utlysningar/2020-05-01'"
      ]
     },
     "execution_count": 1,
     "metadata": {},
     "output_type": "execute_result"
    }
   ],
   "source": [
    "from IPython.display  import JSON\n",
    "import requests\n",
    "import json\n",
    "\n",
    "baseUrl = \"https://data.vinnova.se/api\"\n",
    "endpoint = \"/utlysningar/2020-05-01\"\n",
    "urlProposals = baseUrl + endpoint\n",
    "urlProposals"
   ]
  },
  {
   "cell_type": "code",
   "execution_count": 2,
   "metadata": {},
   "outputs": [
    {
     "data": {
      "application/json": [
       {
        "AnsokningsomgangDnrLista": [
         {
          "DiarienummerAnsokningsomgang": "2011-04305"
         },
         {
          "DiarienummerAnsokningsomgang": "2013-04497"
         },
         {
          "DiarienummerAnsokningsomgang": "2013-04898"
         },
         {
          "DiarienummerAnsokningsomgang": "2014-00867"
         },
         {
          "DiarienummerAnsokningsomgang": "2015-02276"
         },
         {
          "DiarienummerAnsokningsomgang": "2015-05031"
         },
         {
          "DiarienummerAnsokningsomgang": "2016-00143"
         },
         {
          "DiarienummerAnsokningsomgang": "2016-00245"
         },
         {
          "DiarienummerAnsokningsomgang": "2016-03876"
         },
         {
          "DiarienummerAnsokningsomgang": "2016-04817"
         },
         {
          "DiarienummerAnsokningsomgang": "2017-01557"
         },
         {
          "DiarienummerAnsokningsomgang": "2017-02195"
         },
         {
          "DiarienummerAnsokningsomgang": "2017-04991"
         },
         {
          "DiarienummerAnsokningsomgang": "2017-05081"
         },
         {
          "DiarienummerAnsokningsomgang": "2017-05082"
         },
         {
          "DiarienummerAnsokningsomgang": "2018-05365"
         },
         {
          "DiarienummerAnsokningsomgang": "2018-05367"
         },
         {
          "DiarienummerAnsokningsomgang": "2019-04762"
         }
        ],
        "Beskrivning": "Utmaningsdriven innovation - Steg 2 Samverkansprojekt ",
        "BeskrivningEngelska": "Challenge-driven innovation - Phase 2 Collaboration",
        "Diarienummer": "2013-04314",
        "DiarienummerProgram": "2011-01544",
        "DokumentLista": [],
        "KontaktLista": [
         {
          "Epost": "Vilgot.Claesson@vinnova.se",
          "KontaktID": 12534863,
          "Namn": "Vilgot Claesson",
          "Roll": "",
          "Telefon": "46 8 473 30 56 "
         },
         {
          "Epost": "Frida.Lundmark@Vinnova.se",
          "KontaktID": 12534864,
          "Namn": "Frida Lundmark",
          "Roll": "",
          "Telefon": "46 8 473 30 74 "
         },
         {
          "Epost": "Adrian.Solitander@Vinnova.se",
          "KontaktID": 12534865,
          "Namn": "Adrian Solitander",
          "Roll": "",
          "Telefon": "46 8 473 31 42"
         },
         {
          "Epost": "Moa.Eklund@Vinnova.se",
          "KontaktID": 12534867,
          "Namn": "Moa Eklund",
          "Roll": "",
          "Telefon": "46 8 473 32 89"
         },
         {
          "Epost": "",
          "KontaktID": 12534868,
          "Namn": "Gruppnummer ",
          "Roll": "",
          "Telefon": "46 8 473 32 33"
         },
         {
          "Epost": "jessica.tagtstrom@vinnova.se",
          "KontaktID": 13029001,
          "Namn": "Jessica Tägström",
          "Roll": "Program- och utlysningsansvarig",
          "Telefon": "46 8 473 30 67"
         }
        ],
        "LankLista": [],
        "Publiceringsdatum": "2020-04-29T16:00:19",
        "Publik": 1,
        "Titel": "Utmaningsdriven innovation - Steg 2 Samverkansprojekt",
        "TitelEngelska": "Challenge-driven innovation - Phase 2 Collaboration"
       },
       {
        "AnsokningsomgangDnrLista": [
         {
          "DiarienummerAnsokningsomgang": "2014-04050"
         },
         {
          "DiarienummerAnsokningsomgang": "2015-00047"
         },
         {
          "DiarienummerAnsokningsomgang": "2015-04768"
         },
         {
          "DiarienummerAnsokningsomgang": "2015-06680"
         },
         {
          "DiarienummerAnsokningsomgang": "2016-02926"
         },
         {
          "DiarienummerAnsokningsomgang": "2016-04789"
         },
         {
          "DiarienummerAnsokningsomgang": "2016-05206"
         },
         {
          "DiarienummerAnsokningsomgang": "2017-01686"
         },
         {
          "DiarienummerAnsokningsomgang": "2017-02730"
         },
         {
          "DiarienummerAnsokningsomgang": "2017-04143"
         },
         {
          "DiarienummerAnsokningsomgang": "2017-05429"
         },
         {
          "DiarienummerAnsokningsomgang": "2018-04483"
         },
         {
          "DiarienummerAnsokningsomgang": "2019-03424"
         },
         {
          "DiarienummerAnsokningsomgang": "2020-02308"
         }
        ],
        "Beskrivning": "Strategiska Innovationsprogrammet för Grafen - öppna utlysningar",
        "BeskrivningEngelska": ".",
        "Diarienummer": "2014-04030",
        "DiarienummerProgram": "2014-04009",
        "DokumentLista": [
         {
          "Beskrivning": "Utlysningstext - SIO Grafen Samverkan för kommersiella grafentillämpningar (2017)",
          "DokumentID": "2014-04030_29",
          "FileName": "Utlysningstext - SIO Grafen -Samverkan för kommersiella grafentillämpningar (2017).pdf(796898).pdf",
          "Lang": "Sv",
          "Primary": false,
          "Titel": "Utlysningstext - SIO Grafen: Samverkan för kommersiella grafentillämpningar (2017)",
          "fileURL": "https://data.vinnova.se/api/file/2014-04030_29"
         },
         {
          "Beskrivning": "Projektbeskrivning - Mall - SIO Grafen Samverkan för kommersiella grafentillämpningar",
          "DokumentID": "2014-04030_30",
          "FileName": "Projektbeskrivning - Mall - SIO Grafen Samverkan för kommersiella grafentillämpningar.docx(796899).docx",
          "Lang": "Sv",
          "Primary": false,
          "Titel": "Projektbeskrivning - Mall - SIO Grafen Samverkan för kommersiella grafentillämpningar",
          "fileURL": "https://data.vinnova.se/api/file/2014-04030_30"
         },
         {
          "Beskrivning": "CV-bilaga - Mall - SIO Grafen Samverkan för kommersiella grafentillämpningar",
          "DokumentID": "2014-04030_31",
          "FileName": "CVbilaga - Mall - Mall - SIO Grafen Samverkan för kommersiella grafentillämpningar.docx(796900).docx",
          "Lang": "Sv",
          "Primary": false,
          "Titel": "CV-bilaga - Mall - SIO Grafen Samverkan för kommersiella grafentillämpningar",
          "fileURL": "https://data.vinnova.se/api/file/2014-04030_31"
         },
         {
          "Beskrivning": "Projektsammanfattning - Mall - SIO Grafen Samverkan för kommersiella grafentillämpningar",
          "DokumentID": "2014-04030_32",
          "FileName": "Projektsammanfattning - Mall - SIO Grafen Samverkan för kommersiella grafentillämpningar.docx(796901).docx",
          "Lang": "Sv",
          "Primary": false,
          "Titel": "Projektsammanfattning - Mall - SIO Grafen Samverkan för kommersiella grafentillämpningar",
          "fileURL": "https://data.vinnova.se/api/file/2014-04030_32"
         }
        ],
        "KontaktLista": [],
        "LankLista": [],
        "Publiceringsdatum": "2020-04-28T12:00:26",
        "Publik": 1,
        "Titel": "Strategiska innovationsprogrammet SIO Grafen ",
        "TitelEngelska": "Strategic innovation program SIO Grafen "
       },
       {
        "AnsokningsomgangDnrLista": [
         {
          "DiarienummerAnsokningsomgang": "2014-04062"
         },
         {
          "DiarienummerAnsokningsomgang": "2014-05494"
         },
         {
          "DiarienummerAnsokningsomgang": "2014-06301"
         },
         {
          "DiarienummerAnsokningsomgang": "2015-04728"
         },
         {
          "DiarienummerAnsokningsomgang": "2016-02691"
         },
         {
          "DiarienummerAnsokningsomgang": "2016-02713"
         },
         {
          "DiarienummerAnsokningsomgang": "2017-02478"
         },
         {
          "DiarienummerAnsokningsomgang": "2017-04819"
         },
         {
          "DiarienummerAnsokningsomgang": "2017-04923"
         },
         {
          "DiarienummerAnsokningsomgang": "2018-00823"
         },
         {
          "DiarienummerAnsokningsomgang": "2019-01589"
         },
         {
          "DiarienummerAnsokningsomgang": "2020-00195"
         }
        ],
        "Beskrivning": "Strategiska innovationsprogrammet för Sakernas Internet",
        "BeskrivningEngelska": "SIO Internet of Things",
        "Diarienummer": "2014-04033",
        "DiarienummerProgram": "2014-04011",
        "DokumentLista": [
         {
          "Beskrivning": "Strategiska innovationsprogrammet för Sakernas internet - utlysningstext VT2016",
          "DokumentID": "2014-04033_27",
          "FileName": "Strategiska innovationsprogrammet för Sakernas internet - utlysningstext.pdf(730430).pdf",
          "Lang": "Sv",
          "Primary": false,
          "Titel": "Strategiska innovationsprogrammet för Sakernas internet - utlysningstext",
          "fileURL": "https://data.vinnova.se/api/file/2014-04033_27"
         },
         {
          "Beskrivning": "Mall för CV IoT utlysning VT 2016",
          "DokumentID": "2014-04033_28",
          "FileName": "Mall för CV.docx(730431).docx",
          "Lang": "Sv",
          "Primary": false,
          "Titel": "Mall för CV",
          "fileURL": "https://data.vinnova.se/api/file/2014-04033_28"
         },
         {
          "Beskrivning": "Mall för projektreferat IoT Utlysning Våren 2016",
          "DokumentID": "2014-04033_29",
          "FileName": "Mall för projektreferat.docx(730432).docx",
          "Lang": "Sv",
          "Primary": false,
          "Titel": "Mall för projektreferat",
          "fileURL": "https://data.vinnova.se/api/file/2014-04033_29"
         },
         {
          "Beskrivning": "Projektbeskrivningsmall för IoT utlysning Våren 2016",
          "DokumentID": "2014-04033_31",
          "FileName": "Projektbeskrivningmall IoT V16_b.docx(744887).docx",
          "Lang": "Sv",
          "Primary": false,
          "Titel": "Projektbeskrivningsmall",
          "fileURL": "https://data.vinnova.se/api/file/2014-04033_31"
         }
        ],
        "KontaktLista": [],
        "LankLista": [],
        "Publiceringsdatum": "2020-04-09T10:00:24",
        "Publik": 1,
        "Titel": "Strategiska innovationsprogrammet för Sakernas Internet",
        "TitelEngelska": "SIO Internet of Things"
       },
       {
        "AnsokningsomgangDnrLista": [
         {
          "DiarienummerAnsokningsomgang": "2012-02236"
         },
         {
          "DiarienummerAnsokningsomgang": "2013-04880"
         },
         {
          "DiarienummerAnsokningsomgang": "2014-04355"
         },
         {
          "DiarienummerAnsokningsomgang": "2015-03082"
         },
         {
          "DiarienummerAnsokningsomgang": "2015-04092"
         },
         {
          "DiarienummerAnsokningsomgang": "2016-02735"
         },
         {
          "DiarienummerAnsokningsomgang": "2017-01728"
         },
         {
          "DiarienummerAnsokningsomgang": "2018-02234"
         },
         {
          "DiarienummerAnsokningsomgang": "2018-02347"
         },
         {
          "DiarienummerAnsokningsomgang": "2018-02672"
         },
         {
          "DiarienummerAnsokningsomgang": "2018-05312"
         }
        ],
        "Beskrivning": "Kunskapstriangeln Övrig utlysning",
        "BeskrivningEngelska": "x",
        "Diarienummer": "2014-04352",
        "DiarienummerProgram": "2012-02210",
        "DokumentLista": [],
        "KontaktLista": [
         {
          "Epost": "marten.berg@vinnova.se",
          "KontaktID": 11751016,
          "Namn": "Mårten Berg",
          "Roll": "Utlysningsansvarig",
          "Telefon": "08 473 91 37"
         }
        ],
        "LankLista": [],
        "Publiceringsdatum": "2018-11-26T11:30:21",
        "Publik": 0,
        "Titel": "Piloter och övrig utlysning",
        "TitelEngelska": "x"
       },
       {
        "AnsokningsomgangDnrLista": [
         {
          "DiarienummerAnsokningsomgang": "2013-05649"
         },
         {
          "DiarienummerAnsokningsomgang": "2016-00086"
         },
         {
          "DiarienummerAnsokningsomgang": "2017-03151"
         },
         {
          "DiarienummerAnsokningsomgang": "2017-05281"
         },
         {
          "DiarienummerAnsokningsomgang": "2017-05282"
         },
         {
          "DiarienummerAnsokningsomgang": "2018-03127"
         },
         {
          "DiarienummerAnsokningsomgang": "2018-05366"
         },
         {
          "DiarienummerAnsokningsomgang": "2019-00761"
         },
         {
          "DiarienummerAnsokningsomgang": "2019-02150"
         },
         {
          "DiarienummerAnsokningsomgang": "2019-02470"
         },
         {
          "DiarienummerAnsokningsomgang": "2019-02695"
         },
         {
          "DiarienummerAnsokningsomgang": "2019-04577"
         },
         {
          "DiarienummerAnsokningsomgang": "2019-05815"
         },
         {
          "DiarienummerAnsokningsomgang": "2020-00171"
         }
        ],
        "Beskrivning": "Eurostars 2 medfinansiering",
        "BeskrivningEngelska": "x",
        "Diarienummer": "2014-06148",
        "DiarienummerProgram": "2009-02150",
        "DokumentLista": [
         {
          "Beskrivning": "Utlysningstext",
          "DokumentID": "2014-06148_4",
          "FileName": "EU2016REKA.pdf(716984).pdf",
          "Lang": "Sv",
          "Primary": false,
          "Titel": "Utlysningstext",
          "fileURL": "https://data.vinnova.se/api/file/2014-06148_4"
         }
        ],
        "KontaktLista": [],
        "LankLista": [],
        "Publiceringsdatum": "2020-03-02T12:00:27",
        "Publik": 1,
        "Titel": "Eurostars 2 medfinansiering",
        "TitelEngelska": "x"
       },
       {
        "AnsokningsomgangDnrLista": [
         {
          "DiarienummerAnsokningsomgang": "2015-00063"
         },
         {
          "DiarienummerAnsokningsomgang": "2015-03435"
         },
         {
          "DiarienummerAnsokningsomgang": "2015-07080"
         },
         {
          "DiarienummerAnsokningsomgang": "2016-03251"
         },
         {
          "DiarienummerAnsokningsomgang": "2016-04896"
         },
         {
          "DiarienummerAnsokningsomgang": "2017-00862"
         },
         {
          "DiarienummerAnsokningsomgang": "2017-03389"
         },
         {
          "DiarienummerAnsokningsomgang": "2017-05290"
         },
         {
          "DiarienummerAnsokningsomgang": "2017-05307"
         },
         {
          "DiarienummerAnsokningsomgang": "2017-05559"
         },
         {
          "DiarienummerAnsokningsomgang": "2018-00736"
         },
         {
          "DiarienummerAnsokningsomgang": "2018-02080"
         },
         {
          "DiarienummerAnsokningsomgang": "2018-04012"
         },
         {
          "DiarienummerAnsokningsomgang": "2019-00816"
         },
         {
          "DiarienummerAnsokningsomgang": "2019-00817"
         },
         {
          "DiarienummerAnsokningsomgang": "2019-00828"
         },
         {
          "DiarienummerAnsokningsomgang": "2019-01165"
         },
         {
          "DiarienummerAnsokningsomgang": "2019-02145"
         },
         {
          "DiarienummerAnsokningsomgang": "2019-04399"
         },
         {
          "DiarienummerAnsokningsomgang": "2019-05080"
         },
         {
          "DiarienummerAnsokningsomgang": "2020-00184"
         },
         {
          "DiarienummerAnsokningsomgang": "2020-01962"
         }
        ],
        "Beskrivning": "Strategiska Innovationsprogrammet BioInnovation",
        "BeskrivningEngelska": "BioInnovation",
        "Diarienummer": "2015-00048",
        "DiarienummerProgram": "2014-04014",
        "DokumentLista": [],
        "KontaktLista": [
         {
          "Epost": "anna.wiberg@bioinnovation.se",
          "KontaktID": 12581711,
          "Namn": "Anna Wiberg",
          "Roll": "Programchef BioInnovation",
          "Telefon": "08-762 79 95"
         }
        ],
        "LankLista": [],
        "Publiceringsdatum": "2020-05-14T17:30:21",
        "Publik": 1,
        "Titel": "Strategiska Innovationsprogrammet BioInnovation",
        "TitelEngelska": "BioInnovation"
       },
       {
        "AnsokningsomgangDnrLista": [
         {
          "DiarienummerAnsokningsomgang": "2015-02364"
         },
         {
          "DiarienummerAnsokningsomgang": "2015-05869"
         },
         {
          "DiarienummerAnsokningsomgang": "2015-06954"
         },
         {
          "DiarienummerAnsokningsomgang": "2015-06955"
         },
         {
          "DiarienummerAnsokningsomgang": "2015-06956"
         },
         {
          "DiarienummerAnsokningsomgang": "2016-04635"
         }
        ],
        "Beskrivning": "FFI - Big Automotive Data Analytics (BADA) ",
        "BeskrivningEngelska": "x",
        "Diarienummer": "2015-02360",
        "DiarienummerProgram": "2009-02186",
        "DokumentLista": [
         {
          "Beskrivning": "Big Automotive Data Analytics - BADA - programbeskrivning",
          "DokumentID": "2015-02360_2",
          "FileName": "Big data - Programbeskrivning BADA - till webben.pdf(656570).pdf",
          "Lang": null,
          "Primary": false,
          "Titel": "Big Automotive Data Analytics - BADA - programbeskrivning",
          "fileURL": "https://data.vinnova.se/api/file/2015-02360_2"
         }
        ],
        "KontaktLista": [
         {
          "Epost": "lena.dalsmyr@vinnova.se",
          "KontaktID": 11909605,
          "Namn": "Lena Dalsmyr",
          "Roll": "Administrativa frågor",
          "Telefon": "46 8 473 31 61"
         },
         {
          "Epost": "per.norman@vinnova.se",
          "KontaktID": 11909606,
          "Namn": "Per Norman",
          "Roll": "Utlysningsansvarig",
          "Telefon": "46 8 473 31 73"
         }
        ],
        "LankLista": [],
        "Publiceringsdatum": "2017-07-19T15:30:09",
        "Publik": 1,
        "Titel": "FFI - Big Automotive Data Analytics (BADA) ",
        "TitelEngelska": "x"
       },
       {
        "AnsokningsomgangDnrLista": [
         {
          "DiarienummerAnsokningsomgang": "2015-06028"
         },
         {
          "DiarienummerAnsokningsomgang": "2018-04386"
         }
        ],
        "Beskrivning": "SWE DEMO 2015",
        "BeskrivningEngelska": "x",
        "Diarienummer": "2015-06027",
        "DiarienummerProgram": "2014-04016",
        "DokumentLista": [],
        "KontaktLista": [],
        "LankLista": [],
        "Publiceringsdatum": "2018-10-11T16:30:28",
        "Publik": 1,
        "Titel": "SWE DEMO 2015",
        "TitelEngelska": "x"
       },
       {
        "AnsokningsomgangDnrLista": [
         {
          "DiarienummerAnsokningsomgang": "2016-00265"
         },
         {
          "DiarienummerAnsokningsomgang": "2016-05341"
         },
         {
          "DiarienummerAnsokningsomgang": "2018-00536"
         },
         {
          "DiarienummerAnsokningsomgang": "2018-04474"
         },
         {
          "DiarienummerAnsokningsomgang": "2019-05925"
         }
        ],
        "Beskrivning": "Medtech4Health: Innovatörer i vård och omsorg",
        "BeskrivningEngelska": "Medtech4Health: Innovators in the healthcare sector",
        "Diarienummer": "2016-00232",
        "DiarienummerProgram": "2015-06135",
        "DokumentLista": [
         {
          "Beskrivning": "CV-mall 2017",
          "DokumentID": "2016-00232_14",
          "FileName": "CV template sv - Medtech4Health 2017-01-20.doc(777307).doc",
          "Lang": "Sv",
          "Primary": false,
          "Titel": "CV-mall 2017",
          "fileURL": "https://data.vinnova.se/api/file/2016-00232_14"
         },
         {
          "Beskrivning": "Projektbeskrivningsmall 2017",
          "DokumentID": "2016-00232_15",
          "FileName": "Projektbeskrivningsmall Innovatörer i VoO 2017.doc(777308).doc",
          "Lang": "Sv",
          "Primary": false,
          "Titel": "Projektbeskrivningsmall 2017",
          "fileURL": "https://data.vinnova.se/api/file/2016-00232_15"
         },
         {
          "Beskrivning": "Utlysningstext 2017",
          "DokumentID": "2016-00232_16",
          "FileName": "ÄndradUtlysningstext Innovatörer inom vård och omsorg 14 feb 2017.pdf(781841).pdf",
          "Lang": "Sv",
          "Primary": false,
          "Titel": "Utlysningstext 2017",
          "fileURL": "https://data.vinnova.se/api/file/2016-00232_16"
         }
        ],
        "KontaktLista": [],
        "LankLista": [],
        "Publiceringsdatum": "2020-05-13T16:30:07",
        "Publik": 1,
        "Titel": "Medtech4Health: Innovatörer i vård och omsorg",
        "TitelEngelska": "Medtech4Health: Innovators in the healthcare sector"
       },
       {
        "AnsokningsomgangDnrLista": [
         {
          "DiarienummerAnsokningsomgang": "2016-00997"
         },
         {
          "DiarienummerAnsokningsomgang": "2016-01638"
         },
         {
          "DiarienummerAnsokningsomgang": "2016-02765"
         },
         {
          "DiarienummerAnsokningsomgang": "2016-04022"
         },
         {
          "DiarienummerAnsokningsomgang": "2016-04028"
         },
         {
          "DiarienummerAnsokningsomgang": "2016-04574"
         },
         {
          "DiarienummerAnsokningsomgang": "2016-04576"
         },
         {
          "DiarienummerAnsokningsomgang": "2017-01701"
         },
         {
          "DiarienummerAnsokningsomgang": "2017-05392"
         },
         {
          "DiarienummerAnsokningsomgang": "2018-04809"
         },
         {
          "DiarienummerAnsokningsomgang": "2019-05534"
         },
         {
          "DiarienummerAnsokningsomgang": "2020-02371"
         }
        ],
        "Beskrivning": "Enskilda projekt inom SIP STRIM",
        "BeskrivningEngelska": "Strategic Projects within SIP STRIM",
        "Diarienummer": "2016-00315",
        "DiarienummerProgram": "2014-00598",
        "DokumentLista": [],
        "KontaktLista": [],
        "LankLista": [],
        "Publiceringsdatum": "2020-05-12T11:00:21",
        "Publik": 1,
        "Titel": "Enskilda projekt inom SIP STRIM",
        "TitelEngelska": "Strategic Projects within SIP STRIM"
       },
       {
        "AnsokningsomgangDnrLista": [
         {
          "DiarienummerAnsokningsomgang": "2017-02037"
         },
         {
          "DiarienummerAnsokningsomgang": "2017-03482"
         },
         {
          "DiarienummerAnsokningsomgang": "2018-00693"
         },
         {
          "DiarienummerAnsokningsomgang": "2018-03919"
         },
         {
          "DiarienummerAnsokningsomgang": "2018-03920"
         },
         {
          "DiarienummerAnsokningsomgang": "2018-04045"
         },
         {
          "DiarienummerAnsokningsomgang": "2019-02694"
         },
         {
          "DiarienummerAnsokningsomgang": "2020-00687"
         }
        ],
        "Beskrivning": "Kommunikation utlysningar 2017 - 2020",
        "BeskrivningEngelska": "xx",
        "Diarienummer": "2017-01935",
        "DiarienummerProgram": "2009-02154",
        "DokumentLista": [],
        "KontaktLista": [],
        "LankLista": [],
        "Publiceringsdatum": "2020-02-21T09:00:24",
        "Publik": 1,
        "Titel": "Kommunikation utlysningar 2017 - 2020",
        "TitelEngelska": "xx"
       },
       {
        "AnsokningsomgangDnrLista": [
         {
          "DiarienummerAnsokningsomgang": "2017-02186"
         },
         {
          "DiarienummerAnsokningsomgang": "2017-04658"
         },
         {
          "DiarienummerAnsokningsomgang": "2017-04660"
         },
         {
          "DiarienummerAnsokningsomgang": "2017-05023"
         }
        ],
        "Beskrivning": "Industrial Liaison Office ILO, Big Science Sweden. Utlysning för konsortium (ej publik). ",
        "BeskrivningEngelska": "Industry Liaison Office ILO",
        "Diarienummer": "2017-02019",
        "DiarienummerProgram": "2011-00500",
        "DokumentLista": [],
        "KontaktLista": [],
        "LankLista": [],
        "Publiceringsdatum": "2020-05-14T11:00:20",
        "Publik": 0,
        "Titel": "Big Science Sweden - Industrial Liaison Office ILO",
        "TitelEngelska": "Industry Liaison Office ILO"
       },
       {
        "AnsokningsomgangDnrLista": [
         {
          "DiarienummerAnsokningsomgang": "2017-02257"
         },
         {
          "DiarienummerAnsokningsomgang": "2017-05627"
         },
         {
          "DiarienummerAnsokningsomgang": "2018-04881"
         },
         {
          "DiarienummerAnsokningsomgang": "2020-02375"
         }
        ],
        "Beskrivning": "VINNVÄXT Strategiska projekt",
        "BeskrivningEngelska": "VINNVÄXT Strategiska project ",
        "Diarienummer": "2017-02247",
        "DiarienummerProgram": "2002-00568",
        "DokumentLista": [],
        "KontaktLista": [],
        "LankLista": [],
        "Publiceringsdatum": "2020-05-13T09:00:29",
        "Publik": 1,
        "Titel": "VINNVÄXT Strategiska projekt",
        "TitelEngelska": "VINNVÄXT Strategiska project "
       },
       {
        "AnsokningsomgangDnrLista": [
         {
          "DiarienummerAnsokningsomgang": "2017-04429"
         },
         {
          "DiarienummerAnsokningsomgang": "2019-04761"
         }
        ],
        "Beskrivning": "SVP aktiviteter -  Drive Sweden",
        "BeskrivningEngelska": "x",
        "Diarienummer": "2017-04418",
        "DiarienummerProgram": "2015-07014",
        "DokumentLista": [],
        "KontaktLista": [],
        "LankLista": [],
        "Publiceringsdatum": "2019-09-26T11:00:17",
        "Publik": 1,
        "Titel": "SVP aktiviteter -  Drive Sweden",
        "TitelEngelska": "x"
       },
       {
        "AnsokningsomgangDnrLista": [
         {
          "DiarienummerAnsokningsomgang": "2017-05314"
         },
         {
          "DiarienummerAnsokningsomgang": "2018-02818"
         },
         {
          "DiarienummerAnsokningsomgang": "2018-04676"
         },
         {
          "DiarienummerAnsokningsomgang": "2019-02873"
         },
         {
          "DiarienummerAnsokningsomgang": "2020-02367"
         }
        ],
        "Beskrivning": "SIP - Viable Cities - externa utlysningar",
        "BeskrivningEngelska": "x",
        "Diarienummer": "2017-05302",
        "DiarienummerProgram": "2017-04266",
        "DokumentLista": [],
        "KontaktLista": [],
        "LankLista": [],
        "Publiceringsdatum": "2020-05-12T08:30:24",
        "Publik": 1,
        "Titel": "SIP - Viable Cities - externa utlysningar",
        "TitelEngelska": "Viable Cities - external calls"
       },
       {
        "AnsokningsomgangDnrLista": [
         {
          "DiarienummerAnsokningsomgang": "2018-00076"
         },
         {
          "DiarienummerAnsokningsomgang": "2019-01313"
         },
         {
          "DiarienummerAnsokningsomgang": "2020-00703"
         }
        ],
        "Beskrivning": "Globala samarbeten särskilda insatser 2018-19 är utlysning för enstaka projekt utanför ordinarie  verksamhet. ",
        "BeskrivningEngelska": "Global cooperation specific measures ",
        "Diarienummer": "2018-00067",
        "DiarienummerProgram": "2011-00500",
        "DokumentLista": [],
        "KontaktLista": [],
        "LankLista": [],
        "Publiceringsdatum": "2020-03-01T10:30:03",
        "Publik": 0,
        "Titel": "Globala samarbeten särskilda insatser 2018-19",
        "TitelEngelska": "Global cooperation specific measures "
       },
       {
        "AnsokningsomgangDnrLista": [
         {
          "DiarienummerAnsokningsomgang": "2018-03110"
         },
         {
          "DiarienummerAnsokningsomgang": "2018-05351"
         },
         {
          "DiarienummerAnsokningsomgang": "2020-00225"
         }
        ],
        "Beskrivning": "Internationella samarbeten - UK",
        "BeskrivningEngelska": "x",
        "Diarienummer": "2018-02052",
        "DiarienummerProgram": "2014-04016",
        "DokumentLista": [],
        "KontaktLista": [],
        "LankLista": [],
        "Publiceringsdatum": "2020-01-28T16:00:16",
        "Publik": 1,
        "Titel": "Internationella samarbeten - UK",
        "TitelEngelska": "x"
       },
       {
        "AnsokningsomgangDnrLista": [
         {
          "DiarienummerAnsokningsomgang": "2018-04475"
         },
         {
          "DiarienummerAnsokningsomgang": "2019-01169"
         }
        ],
        "Beskrivning": "Utlysningen görs i samverkan mellan Swelife och Medtech4Health, två nationella strategiska innovationsprogram inom life science. Genom Swelife och Medtech4Health samverkar vården, akademin och näringslivet med avsikten att ta till vara och stärka Sveriges goda förutsättningar att förbli världsledande inom life science. Det gemensamma syftet med utlysningen är att främja förnyelse och innovation för en mer värdeskapande hälso- och sjukvård samt öka tillväxten inom life science-sektorn i Sverige.",
        "BeskrivningEngelska": "Swelife and Medtech4Health - Collaborative Projects for Improved Health ",
        "Diarienummer": "2018-03850",
        "DiarienummerProgram": "2014-04013",
        "DokumentLista": [],
        "KontaktLista": [
         {
          "Epost": "jonas.tranell@vinnova.se",
          "KontaktID": 12775470,
          "Namn": "Jonas Tranell",
          "Roll": "Kontaktperson angående bedömningsprocessen, juridiska frågor och övriga frågor om utlysningens innehåll",
          "Telefon": " 4684733073"
         },
         {
          "Epost": "asa.wallin@swelife.se",
          "KontaktID": 12775492,
          "Namn": "Åsa Wallin",
          "Roll": "Kontaktperson angående utlysningens bakgrund, syfte och önskade effekter",
          "Telefon": " 46700850510"
         },
         {
          "Epost": "ulla.elofsson@medtech4health.se",
          "KontaktID": 12775493,
          "Namn": "Ulla Elofsson",
          "Roll": "Kontaktperson angående utlysningens bakgrund, syfte och önskade effekter",
          "Telefon": " 46768640040"
         },
         {
          "Epost": "caroline.ekstrand@vinnova.se",
          "KontaktID": 12869682,
          "Namn": "Caroline Ekstrand",
          "Roll": "Kontaktperson angående bedömningsprocessen, juridiska frågor och övriga frågor om utlysningens innehåll",
          "Telefon": " 4684733027"
         },
         {
          "Epost": "anna.tegnesjo@vinnova.se",
          "KontaktID": 12870913,
          "Namn": "Anna Tegnesjö",
          "Roll": "Kontaktperson angående bedömningsprocessen, juridiska frågor och övriga frågor om utlysningens innehåll",
          "Telefon": " 4684733162"
         },
         {
          "Epost": "joanna.boquist@vinnova.se",
          "KontaktID": 12988164,
          "Namn": "Joanna Boquist",
          "Roll": "Kontaktperson angående bedömningsprocessen, juridiska frågor och övriga frågor om utlysningens innehåll",
          "Telefon": " 4684733124"
         },
         {
          "Epost": "emma.forai@vinnova.se",
          "KontaktID": 13029977,
          "Namn": "Emma Forai",
          "Roll": "Kontaktperson angående administrativa frågor",
          "Telefon": " 4684733090"
         }
        ],
        "LankLista": [],
        "Publiceringsdatum": "2020-03-18T09:00:23",
        "Publik": 1,
        "Titel": "Swelife och Medtech4Health - Samverkansprojekt för bättre hälsa  ",
        "TitelEngelska": "Swelife and Medtech4Health - Collaborative Projects for Improved Health "
       },
       {
        "AnsokningsomgangDnrLista": [
         {
          "DiarienummerAnsokningsomgang": "2019-01035"
         }
        ],
        "Beskrivning": "Kraftsamling kring Artificiell Intelligens ",
        "BeskrivningEngelska": "AI strategy for - Re:Source",
        "Diarienummer": "2019-00811",
        "DiarienummerProgram": "2015-07133",
        "DokumentLista": [],
        "KontaktLista": [],
        "LankLista": [],
        "Publiceringsdatum": "2020-05-07T15:00:40",
        "Publik": 0,
        "Titel": "Kraftsamling kring AI - Re:Source",
        "TitelEngelska": "AI strategy for - Re:Source"
       },
       {
        "AnsokningsomgangDnrLista": [
         {
          "DiarienummerAnsokningsomgang": "2019-01036"
         }
        ],
        "Beskrivning": "Kraftsamling kring Artificiell Intelligens - Smart Built Environment",
        "BeskrivningEngelska": "AI Strategy for Smart Built Environment",
        "Diarienummer": "2019-00812",
        "DiarienummerProgram": "2016-03527",
        "DokumentLista": [],
        "KontaktLista": [],
        "LankLista": [],
        "Publiceringsdatum": "2020-05-07T15:00:31",
        "Publik": 0,
        "Titel": "Kraftsamling kring AI - Smart Built Environment",
        "TitelEngelska": "AI Strategy for Smart Built Environment"
       },
       {
        "AnsokningsomgangDnrLista": [
         {
          "DiarienummerAnsokningsomgang": "2019-01292"
         },
         {
          "DiarienummerAnsokningsomgang": "2019-01303"
         },
         {
          "DiarienummerAnsokningsomgang": "2019-04908"
         },
         {
          "DiarienummerAnsokningsomgang": "2019-05010"
         },
         {
          "DiarienummerAnsokningsomgang": "2020-01007"
         }
        ],
        "Beskrivning": "AI - kompetens, kapacitet och förmåga",
        "BeskrivningEngelska": "AI - competence, capacity and capability ",
        "Diarienummer": "2019-01053",
        "DiarienummerProgram": "2019-00804",
        "DokumentLista": [],
        "KontaktLista": [],
        "LankLista": [],
        "Publiceringsdatum": "2020-03-24T12:00:17",
        "Publik": 1,
        "Titel": "AI - kompetens, kapacitet och förmåga",
        "TitelEngelska": "AI - competence, capacity and capability "
       },
       {
        "AnsokningsomgangDnrLista": [
         {
          "DiarienummerAnsokningsomgang": "2020-01813"
         }
        ],
        "Beskrivning": "Återhämtning via omställning av verksamheter och produktion i ljuset av Covid-19",
        "BeskrivningEngelska": "Recovery through restructuring of operations and production in light of Covid-19",
        "Diarienummer": "2020-01810",
        "DiarienummerProgram": "2020-01809",
        "DokumentLista": [],
        "KontaktLista": [],
        "LankLista": [],
        "Publiceringsdatum": "2020-03-27T11:00:27",
        "Publik": 1,
        "Titel": "Innovationer i krisens spår",
        "TitelEngelska": "Innovations to mitigate the crisis"
       },
       {
        "AnsokningsomgangDnrLista": [
         {
          "DiarienummerAnsokningsomgang": "2020-01902"
         },
         {
          "DiarienummerAnsokningsomgang": "2020-02326"
         }
        ],
        "Beskrivning": "Etablering av Europeiska Digitala Innovationshubbar (EDIH) i Sverige. Utlysning för hantering av den nationella processen att föreslå EDIH-kandidater till kommissionen.",
        "BeskrivningEngelska": "A call for the national process to designate Swedish EDIH-candidates to the Commission.",
        "Diarienummer": "2020-01883",
        "DiarienummerProgram": "2014-01141",
        "DokumentLista": [],
        "KontaktLista": [],
        "LankLista": [],
        "Publiceringsdatum": "2020-05-05T16:30:23",
        "Publik": 1,
        "Titel": "Etablering av Europeiska Digitala Innovationshubbar (EDIH) i Sverige",
        "TitelEngelska": "Swedish EDIH - European Digital Innovation Hubs"
       },
       {
        "AnsokningsomgangDnrLista": [
         {
          "DiarienummerAnsokningsomgang": "2020-01940"
         }
        ],
        "Beskrivning": " Innovationsledningsstöd ",
        "BeskrivningEngelska": " Innovation Management Support ",
        "Diarienummer": "2020-01939",
        "DiarienummerProgram": "2019-01294",
        "DokumentLista": [],
        "KontaktLista": [],
        "LankLista": [],
        "Publiceringsdatum": "2020-04-07T17:00:30",
        "Publik": 1,
        "Titel": "Innovationsledningsstöd ",
        "TitelEngelska": " Innovation Management Support "
       },
       {
        "AnsokningsomgangDnrLista": [],
        "Beskrivning": "På uppdrag av regeringen ska Vinnova genomföra en ny långsiktig satsning på finansmarknadsforskning. Syftet är stärka den svenska finansmarknadsforskningens internationella konkurrenskraft och dess relevans för både privata och offentliga aktörer inom den finansiella sektorn.",
        "BeskrivningEngelska": "On behalf of the government, Vinnova will implement a new long-term effort on financial market research. The aim is to strengthen the international competitiveness of Swedish financial market research and its relevance for both private and public actors in the financial sector.",
        "Diarienummer": "2020-02236",
        "DiarienummerProgram": "2010-01428",
        "DokumentLista": [],
        "KontaktLista": [],
        "LankLista": [],
        "Publiceringsdatum": "2020-05-12T14:30:21",
        "Publik": 1,
        "Titel": "Centrum för finansmarknadsforskning 2020",
        "TitelEngelska": "Center for Financial Market Research"
       },
       {
        "AnsokningsomgangDnrLista": [
         {
          "DiarienummerAnsokningsomgang": "2020-02353"
         }
        ],
        "Beskrivning": "EUREKA covid-19 call 2",
        "BeskrivningEngelska": "EUREKA covid-19 call 2",
        "Diarienummer": "2020-02331",
        "DiarienummerProgram": "2019-01588",
        "DokumentLista": [],
        "KontaktLista": [],
        "LankLista": [],
        "Publiceringsdatum": "2020-05-13T12:00:08",
        "Publik": 1,
        "Titel": "EUREKA covid-19 call 2",
        "TitelEngelska": "EUREKA covid-19 call 2"
       },
       {
        "AnsokningsomgangDnrLista": [
         {
          "DiarienummerAnsokningsomgang": "2020-02366"
         }
        ],
        "Beskrivning": "SIP - Resorce - externa utlysningar",
        "BeskrivningEngelska": "Call for proposals to external administrators",
        "Diarienummer": "2020-02365",
        "DiarienummerProgram": "2015-07133",
        "DokumentLista": [],
        "KontaktLista": [],
        "LankLista": [],
        "Publiceringsdatum": "2020-05-12T08:30:25",
        "Publik": 1,
        "Titel": "SIP - Resorce - externa utlysningar",
        "TitelEngelska": "Call for proposals to external administrators"
       }
      ],
      "text/plain": [
       "<IPython.core.display.JSON object>"
      ]
     },
     "execution_count": 2,
     "metadata": {
      "application/json": {
       "expanded": false,
       "root": "root"
      }
     },
     "output_type": "execute_result"
    }
   ],
   "source": [
    "# Call the API\n",
    "req = requests.get(urlProposals)\n",
    "req.status_code\n",
    "# Ensure we fail fast if the web request failed\n",
    "req.raise_for_status()\n",
    "\n",
    "data = json.loads(req.text)\n",
    "JSON(data)"
   ]
  },
  {
   "cell_type": "code",
   "execution_count": 6,
   "metadata": {},
   "outputs": [
    {
     "data": {
      "text/plain": [
       "27"
      ]
     },
     "execution_count": 6,
     "metadata": {},
     "output_type": "execute_result"
    }
   ],
   "source": [
    "import pandas as pd\n",
    "from pandas import json_normalize\n",
    "\n",
    "df = json_normalize(data)\n",
    "len(df.index)"
   ]
  },
  {
   "cell_type": "code",
   "execution_count": 7,
   "metadata": {},
   "outputs": [
    {
     "data": {
      "text/html": [
       "<div>\n",
       "<style scoped>\n",
       "    .dataframe tbody tr th:only-of-type {\n",
       "        vertical-align: middle;\n",
       "    }\n",
       "\n",
       "    .dataframe tbody tr th {\n",
       "        vertical-align: top;\n",
       "    }\n",
       "\n",
       "    .dataframe thead th {\n",
       "        text-align: right;\n",
       "    }\n",
       "</style>\n",
       "<table border=\"1\" class=\"dataframe\">\n",
       "  <thead>\n",
       "    <tr style=\"text-align: right;\">\n",
       "      <th></th>\n",
       "      <th>Diarienummer</th>\n",
       "      <th>DiarienummerProgram</th>\n",
       "      <th>Titel</th>\n",
       "      <th>Beskrivning</th>\n",
       "      <th>TitelEngelska</th>\n",
       "      <th>BeskrivningEngelska</th>\n",
       "      <th>Publiceringsdatum</th>\n",
       "      <th>DokumentLista</th>\n",
       "      <th>LankLista</th>\n",
       "      <th>AnsokningsomgangDnrLista</th>\n",
       "      <th>KontaktLista</th>\n",
       "      <th>Publik</th>\n",
       "    </tr>\n",
       "  </thead>\n",
       "  <tbody>\n",
       "    <tr>\n",
       "      <th>5</th>\n",
       "      <td>2015-00048</td>\n",
       "      <td>2014-04014</td>\n",
       "      <td>Strategiska Innovationsprogrammet BioInnovation</td>\n",
       "      <td>Strategiska Innovationsprogrammet BioInnovation</td>\n",
       "      <td>BioInnovation</td>\n",
       "      <td>BioInnovation</td>\n",
       "      <td>2020-05-14T17:30:21</td>\n",
       "      <td>[]</td>\n",
       "      <td>[]</td>\n",
       "      <td>[{'DiarienummerAnsokningsomgang': '2015-00063'...</td>\n",
       "      <td>[{'Namn': 'Anna Wiberg', 'Telefon': '08-762 79...</td>\n",
       "      <td>1</td>\n",
       "    </tr>\n",
       "    <tr>\n",
       "      <th>11</th>\n",
       "      <td>2017-02019</td>\n",
       "      <td>2011-00500</td>\n",
       "      <td>Big Science Sweden - Industrial Liaison Office...</td>\n",
       "      <td>Industrial Liaison Office ILO, Big Science Swe...</td>\n",
       "      <td>Industry Liaison Office ILO</td>\n",
       "      <td>Industry Liaison Office ILO</td>\n",
       "      <td>2020-05-14T11:00:20</td>\n",
       "      <td>[]</td>\n",
       "      <td>[]</td>\n",
       "      <td>[{'DiarienummerAnsokningsomgang': '2017-02186'...</td>\n",
       "      <td>[]</td>\n",
       "      <td>0</td>\n",
       "    </tr>\n",
       "    <tr>\n",
       "      <th>8</th>\n",
       "      <td>2016-00232</td>\n",
       "      <td>2015-06135</td>\n",
       "      <td>Medtech4Health: Innovatörer i vård och omsorg</td>\n",
       "      <td>Medtech4Health: Innovatörer i vård och omsorg</td>\n",
       "      <td>Medtech4Health: Innovators in the healthcare s...</td>\n",
       "      <td>Medtech4Health: Innovators in the healthcare s...</td>\n",
       "      <td>2020-05-13T16:30:07</td>\n",
       "      <td>[{'Titel': 'CV-mall 2017', 'Beskrivning': 'CV-...</td>\n",
       "      <td>[]</td>\n",
       "      <td>[{'DiarienummerAnsokningsomgang': '2016-00265'...</td>\n",
       "      <td>[]</td>\n",
       "      <td>1</td>\n",
       "    </tr>\n",
       "    <tr>\n",
       "      <th>25</th>\n",
       "      <td>2020-02331</td>\n",
       "      <td>2019-01588</td>\n",
       "      <td>EUREKA covid-19 call 2</td>\n",
       "      <td>EUREKA covid-19 call 2</td>\n",
       "      <td>EUREKA covid-19 call 2</td>\n",
       "      <td>EUREKA covid-19 call 2</td>\n",
       "      <td>2020-05-13T12:00:08</td>\n",
       "      <td>[]</td>\n",
       "      <td>[]</td>\n",
       "      <td>[{'DiarienummerAnsokningsomgang': '2020-02353'}]</td>\n",
       "      <td>[]</td>\n",
       "      <td>1</td>\n",
       "    </tr>\n",
       "    <tr>\n",
       "      <th>12</th>\n",
       "      <td>2017-02247</td>\n",
       "      <td>2002-00568</td>\n",
       "      <td>VINNVÄXT Strategiska projekt</td>\n",
       "      <td>VINNVÄXT Strategiska projekt</td>\n",
       "      <td>VINNVÄXT Strategiska project</td>\n",
       "      <td>VINNVÄXT Strategiska project</td>\n",
       "      <td>2020-05-13T09:00:29</td>\n",
       "      <td>[]</td>\n",
       "      <td>[]</td>\n",
       "      <td>[{'DiarienummerAnsokningsomgang': '2017-02257'...</td>\n",
       "      <td>[]</td>\n",
       "      <td>1</td>\n",
       "    </tr>\n",
       "  </tbody>\n",
       "</table>\n",
       "</div>"
      ],
      "text/plain": [
       "   Diarienummer DiarienummerProgram  \\\n",
       "5    2015-00048          2014-04014   \n",
       "11   2017-02019          2011-00500   \n",
       "8    2016-00232          2015-06135   \n",
       "25   2020-02331          2019-01588   \n",
       "12   2017-02247          2002-00568   \n",
       "\n",
       "                                                Titel  \\\n",
       "5     Strategiska Innovationsprogrammet BioInnovation   \n",
       "11  Big Science Sweden - Industrial Liaison Office...   \n",
       "8       Medtech4Health: Innovatörer i vård och omsorg   \n",
       "25                             EUREKA covid-19 call 2   \n",
       "12                       VINNVÄXT Strategiska projekt   \n",
       "\n",
       "                                          Beskrivning  \\\n",
       "5     Strategiska Innovationsprogrammet BioInnovation   \n",
       "11  Industrial Liaison Office ILO, Big Science Swe...   \n",
       "8       Medtech4Health: Innovatörer i vård och omsorg   \n",
       "25                             EUREKA covid-19 call 2   \n",
       "12                       VINNVÄXT Strategiska projekt   \n",
       "\n",
       "                                        TitelEngelska  \\\n",
       "5                                       BioInnovation   \n",
       "11                        Industry Liaison Office ILO   \n",
       "8   Medtech4Health: Innovators in the healthcare s...   \n",
       "25                             EUREKA covid-19 call 2   \n",
       "12                      VINNVÄXT Strategiska project    \n",
       "\n",
       "                                  BeskrivningEngelska    Publiceringsdatum  \\\n",
       "5                                       BioInnovation  2020-05-14T17:30:21   \n",
       "11                        Industry Liaison Office ILO  2020-05-14T11:00:20   \n",
       "8   Medtech4Health: Innovators in the healthcare s...  2020-05-13T16:30:07   \n",
       "25                             EUREKA covid-19 call 2  2020-05-13T12:00:08   \n",
       "12                      VINNVÄXT Strategiska project   2020-05-13T09:00:29   \n",
       "\n",
       "                                        DokumentLista LankLista  \\\n",
       "5                                                  []        []   \n",
       "11                                                 []        []   \n",
       "8   [{'Titel': 'CV-mall 2017', 'Beskrivning': 'CV-...        []   \n",
       "25                                                 []        []   \n",
       "12                                                 []        []   \n",
       "\n",
       "                             AnsokningsomgangDnrLista  \\\n",
       "5   [{'DiarienummerAnsokningsomgang': '2015-00063'...   \n",
       "11  [{'DiarienummerAnsokningsomgang': '2017-02186'...   \n",
       "8   [{'DiarienummerAnsokningsomgang': '2016-00265'...   \n",
       "25   [{'DiarienummerAnsokningsomgang': '2020-02353'}]   \n",
       "12  [{'DiarienummerAnsokningsomgang': '2017-02257'...   \n",
       "\n",
       "                                         KontaktLista  Publik  \n",
       "5   [{'Namn': 'Anna Wiberg', 'Telefon': '08-762 79...       1  \n",
       "11                                                 []       0  \n",
       "8                                                  []       1  \n",
       "25                                                 []       1  \n",
       "12                                                 []       1  "
      ]
     },
     "execution_count": 7,
     "metadata": {},
     "output_type": "execute_result"
    }
   ],
   "source": [
    "# Show the first entries\n",
    "df.sort_values(['Publiceringsdatum'], ascending=[False], inplace=True)\n",
    "df.head()"
   ]
  },
  {
   "cell_type": "code",
   "execution_count": 8,
   "metadata": {},
   "outputs": [
    {
     "data": {
      "text/plain": [
       "Index(['Diarienummer', 'DiarienummerProgram', 'Titel', 'Beskrivning',\n",
       "       'TitelEngelska', 'BeskrivningEngelska', 'Publiceringsdatum',\n",
       "       'DokumentLista', 'LankLista', 'AnsokningsomgangDnrLista',\n",
       "       'KontaktLista', 'Publik'],\n",
       "      dtype='object')"
      ]
     },
     "execution_count": 8,
     "metadata": {},
     "output_type": "execute_result"
    }
   ],
   "source": [
    "df.keys()"
   ]
  },
  {
   "cell_type": "code",
   "execution_count": 9,
   "metadata": {},
   "outputs": [
    {
     "data": {
      "text/html": [
       "<div>\n",
       "<style scoped>\n",
       "    .dataframe tbody tr th:only-of-type {\n",
       "        vertical-align: middle;\n",
       "    }\n",
       "\n",
       "    .dataframe tbody tr th {\n",
       "        vertical-align: top;\n",
       "    }\n",
       "\n",
       "    .dataframe thead th {\n",
       "        text-align: right;\n",
       "    }\n",
       "</style>\n",
       "<table border=\"1\" class=\"dataframe\">\n",
       "  <thead>\n",
       "    <tr style=\"text-align: right;\">\n",
       "      <th></th>\n",
       "      <th>Publiceringsdatum</th>\n",
       "      <th>Titel</th>\n",
       "      <th>Beskrivning</th>\n",
       "      <th>Diarienummer</th>\n",
       "    </tr>\n",
       "  </thead>\n",
       "  <tbody>\n",
       "    <tr>\n",
       "      <th>5</th>\n",
       "      <td>2020-05-14T17:30:21</td>\n",
       "      <td>Strategiska Innovationsprogrammet BioInnovation</td>\n",
       "      <td>Strategiska Innovationsprogrammet BioInnovation</td>\n",
       "      <td>2015-00048</td>\n",
       "    </tr>\n",
       "    <tr>\n",
       "      <th>11</th>\n",
       "      <td>2020-05-14T11:00:20</td>\n",
       "      <td>Big Science Sweden - Industrial Liaison Office...</td>\n",
       "      <td>Industrial Liaison Office ILO, Big Science Swe...</td>\n",
       "      <td>2017-02019</td>\n",
       "    </tr>\n",
       "    <tr>\n",
       "      <th>8</th>\n",
       "      <td>2020-05-13T16:30:07</td>\n",
       "      <td>Medtech4Health: Innovatörer i vård och omsorg</td>\n",
       "      <td>Medtech4Health: Innovatörer i vård och omsorg</td>\n",
       "      <td>2016-00232</td>\n",
       "    </tr>\n",
       "    <tr>\n",
       "      <th>25</th>\n",
       "      <td>2020-05-13T12:00:08</td>\n",
       "      <td>EUREKA covid-19 call 2</td>\n",
       "      <td>EUREKA covid-19 call 2</td>\n",
       "      <td>2020-02331</td>\n",
       "    </tr>\n",
       "    <tr>\n",
       "      <th>12</th>\n",
       "      <td>2020-05-13T09:00:29</td>\n",
       "      <td>VINNVÄXT Strategiska projekt</td>\n",
       "      <td>VINNVÄXT Strategiska projekt</td>\n",
       "      <td>2017-02247</td>\n",
       "    </tr>\n",
       "    <tr>\n",
       "      <th>24</th>\n",
       "      <td>2020-05-12T14:30:21</td>\n",
       "      <td>Centrum för finansmarknadsforskning 2020</td>\n",
       "      <td>På uppdrag av regeringen ska Vinnova genomföra...</td>\n",
       "      <td>2020-02236</td>\n",
       "    </tr>\n",
       "    <tr>\n",
       "      <th>9</th>\n",
       "      <td>2020-05-12T11:00:21</td>\n",
       "      <td>Enskilda projekt inom SIP STRIM</td>\n",
       "      <td>Enskilda projekt inom SIP STRIM</td>\n",
       "      <td>2016-00315</td>\n",
       "    </tr>\n",
       "    <tr>\n",
       "      <th>26</th>\n",
       "      <td>2020-05-12T08:30:25</td>\n",
       "      <td>SIP - Resorce - externa utlysningar</td>\n",
       "      <td>SIP - Resorce - externa utlysningar</td>\n",
       "      <td>2020-02365</td>\n",
       "    </tr>\n",
       "    <tr>\n",
       "      <th>14</th>\n",
       "      <td>2020-05-12T08:30:24</td>\n",
       "      <td>SIP - Viable Cities - externa utlysningar</td>\n",
       "      <td>SIP - Viable Cities - externa utlysningar</td>\n",
       "      <td>2017-05302</td>\n",
       "    </tr>\n",
       "    <tr>\n",
       "      <th>18</th>\n",
       "      <td>2020-05-07T15:00:40</td>\n",
       "      <td>Kraftsamling kring AI - Re:Source</td>\n",
       "      <td>Kraftsamling kring Artificiell Intelligens</td>\n",
       "      <td>2019-00811</td>\n",
       "    </tr>\n",
       "    <tr>\n",
       "      <th>19</th>\n",
       "      <td>2020-05-07T15:00:31</td>\n",
       "      <td>Kraftsamling kring AI - Smart Built Environment</td>\n",
       "      <td>Kraftsamling kring Artificiell Intelligens - S...</td>\n",
       "      <td>2019-00812</td>\n",
       "    </tr>\n",
       "    <tr>\n",
       "      <th>22</th>\n",
       "      <td>2020-05-05T16:30:23</td>\n",
       "      <td>Etablering av Europeiska Digitala Innovationsh...</td>\n",
       "      <td>Etablering av Europeiska Digitala Innovationsh...</td>\n",
       "      <td>2020-01883</td>\n",
       "    </tr>\n",
       "    <tr>\n",
       "      <th>0</th>\n",
       "      <td>2020-04-29T16:00:19</td>\n",
       "      <td>Utmaningsdriven innovation - Steg 2 Samverkans...</td>\n",
       "      <td>Utmaningsdriven innovation - Steg 2 Samverkans...</td>\n",
       "      <td>2013-04314</td>\n",
       "    </tr>\n",
       "    <tr>\n",
       "      <th>1</th>\n",
       "      <td>2020-04-28T12:00:26</td>\n",
       "      <td>Strategiska innovationsprogrammet SIO Grafen</td>\n",
       "      <td>Strategiska Innovationsprogrammet för Grafen -...</td>\n",
       "      <td>2014-04030</td>\n",
       "    </tr>\n",
       "    <tr>\n",
       "      <th>2</th>\n",
       "      <td>2020-04-09T10:00:24</td>\n",
       "      <td>Strategiska innovationsprogrammet för Sakernas...</td>\n",
       "      <td>Strategiska innovationsprogrammet för Sakernas...</td>\n",
       "      <td>2014-04033</td>\n",
       "    </tr>\n",
       "    <tr>\n",
       "      <th>23</th>\n",
       "      <td>2020-04-07T17:00:30</td>\n",
       "      <td>Innovationsledningsstöd</td>\n",
       "      <td>Innovationsledningsstöd</td>\n",
       "      <td>2020-01939</td>\n",
       "    </tr>\n",
       "    <tr>\n",
       "      <th>21</th>\n",
       "      <td>2020-03-27T11:00:27</td>\n",
       "      <td>Innovationer i krisens spår</td>\n",
       "      <td>Återhämtning via omställning av verksamheter o...</td>\n",
       "      <td>2020-01810</td>\n",
       "    </tr>\n",
       "    <tr>\n",
       "      <th>20</th>\n",
       "      <td>2020-03-24T12:00:17</td>\n",
       "      <td>AI - kompetens, kapacitet och förmåga</td>\n",
       "      <td>AI - kompetens, kapacitet och förmåga</td>\n",
       "      <td>2019-01053</td>\n",
       "    </tr>\n",
       "    <tr>\n",
       "      <th>17</th>\n",
       "      <td>2020-03-18T09:00:23</td>\n",
       "      <td>Swelife och Medtech4Health - Samverkansprojekt...</td>\n",
       "      <td>Utlysningen görs i samverkan mellan Swelife oc...</td>\n",
       "      <td>2018-03850</td>\n",
       "    </tr>\n",
       "    <tr>\n",
       "      <th>4</th>\n",
       "      <td>2020-03-02T12:00:27</td>\n",
       "      <td>Eurostars 2 medfinansiering</td>\n",
       "      <td>Eurostars 2 medfinansiering</td>\n",
       "      <td>2014-06148</td>\n",
       "    </tr>\n",
       "    <tr>\n",
       "      <th>15</th>\n",
       "      <td>2020-03-01T10:30:03</td>\n",
       "      <td>Globala samarbeten särskilda insatser 2018-19</td>\n",
       "      <td>Globala samarbeten särskilda insatser 2018-19 ...</td>\n",
       "      <td>2018-00067</td>\n",
       "    </tr>\n",
       "    <tr>\n",
       "      <th>10</th>\n",
       "      <td>2020-02-21T09:00:24</td>\n",
       "      <td>Kommunikation utlysningar 2017 - 2020</td>\n",
       "      <td>Kommunikation utlysningar 2017 - 2020</td>\n",
       "      <td>2017-01935</td>\n",
       "    </tr>\n",
       "    <tr>\n",
       "      <th>16</th>\n",
       "      <td>2020-01-28T16:00:16</td>\n",
       "      <td>Internationella samarbeten - UK</td>\n",
       "      <td>Internationella samarbeten - UK</td>\n",
       "      <td>2018-02052</td>\n",
       "    </tr>\n",
       "    <tr>\n",
       "      <th>13</th>\n",
       "      <td>2019-09-26T11:00:17</td>\n",
       "      <td>SVP aktiviteter -  Drive Sweden</td>\n",
       "      <td>SVP aktiviteter -  Drive Sweden</td>\n",
       "      <td>2017-04418</td>\n",
       "    </tr>\n",
       "    <tr>\n",
       "      <th>3</th>\n",
       "      <td>2018-11-26T11:30:21</td>\n",
       "      <td>Piloter och övrig utlysning</td>\n",
       "      <td>Kunskapstriangeln Övrig utlysning</td>\n",
       "      <td>2014-04352</td>\n",
       "    </tr>\n",
       "    <tr>\n",
       "      <th>7</th>\n",
       "      <td>2018-10-11T16:30:28</td>\n",
       "      <td>SWE DEMO 2015</td>\n",
       "      <td>SWE DEMO 2015</td>\n",
       "      <td>2015-06027</td>\n",
       "    </tr>\n",
       "    <tr>\n",
       "      <th>6</th>\n",
       "      <td>2017-07-19T15:30:09</td>\n",
       "      <td>FFI - Big Automotive Data Analytics (BADA)</td>\n",
       "      <td>FFI - Big Automotive Data Analytics (BADA)</td>\n",
       "      <td>2015-02360</td>\n",
       "    </tr>\n",
       "  </tbody>\n",
       "</table>\n",
       "</div>"
      ],
      "text/plain": [
       "      Publiceringsdatum                                              Titel  \\\n",
       "5   2020-05-14T17:30:21    Strategiska Innovationsprogrammet BioInnovation   \n",
       "11  2020-05-14T11:00:20  Big Science Sweden - Industrial Liaison Office...   \n",
       "8   2020-05-13T16:30:07      Medtech4Health: Innovatörer i vård och omsorg   \n",
       "25  2020-05-13T12:00:08                             EUREKA covid-19 call 2   \n",
       "12  2020-05-13T09:00:29                       VINNVÄXT Strategiska projekt   \n",
       "24  2020-05-12T14:30:21           Centrum för finansmarknadsforskning 2020   \n",
       "9   2020-05-12T11:00:21                    Enskilda projekt inom SIP STRIM   \n",
       "26  2020-05-12T08:30:25                SIP - Resorce - externa utlysningar   \n",
       "14  2020-05-12T08:30:24          SIP - Viable Cities - externa utlysningar   \n",
       "18  2020-05-07T15:00:40                  Kraftsamling kring AI - Re:Source   \n",
       "19  2020-05-07T15:00:31    Kraftsamling kring AI - Smart Built Environment   \n",
       "22  2020-05-05T16:30:23  Etablering av Europeiska Digitala Innovationsh...   \n",
       "0   2020-04-29T16:00:19  Utmaningsdriven innovation - Steg 2 Samverkans...   \n",
       "1   2020-04-28T12:00:26      Strategiska innovationsprogrammet SIO Grafen    \n",
       "2   2020-04-09T10:00:24  Strategiska innovationsprogrammet för Sakernas...   \n",
       "23  2020-04-07T17:00:30                           Innovationsledningsstöd    \n",
       "21  2020-03-27T11:00:27                        Innovationer i krisens spår   \n",
       "20  2020-03-24T12:00:17              AI - kompetens, kapacitet och förmåga   \n",
       "17  2020-03-18T09:00:23  Swelife och Medtech4Health - Samverkansprojekt...   \n",
       "4   2020-03-02T12:00:27                        Eurostars 2 medfinansiering   \n",
       "15  2020-03-01T10:30:03      Globala samarbeten särskilda insatser 2018-19   \n",
       "10  2020-02-21T09:00:24              Kommunikation utlysningar 2017 - 2020   \n",
       "16  2020-01-28T16:00:16                    Internationella samarbeten - UK   \n",
       "13  2019-09-26T11:00:17                    SVP aktiviteter -  Drive Sweden   \n",
       "3   2018-11-26T11:30:21                        Piloter och övrig utlysning   \n",
       "7   2018-10-11T16:30:28                                      SWE DEMO 2015   \n",
       "6   2017-07-19T15:30:09        FFI - Big Automotive Data Analytics (BADA)    \n",
       "\n",
       "                                          Beskrivning Diarienummer  \n",
       "5     Strategiska Innovationsprogrammet BioInnovation   2015-00048  \n",
       "11  Industrial Liaison Office ILO, Big Science Swe...   2017-02019  \n",
       "8       Medtech4Health: Innovatörer i vård och omsorg   2016-00232  \n",
       "25                             EUREKA covid-19 call 2   2020-02331  \n",
       "12                       VINNVÄXT Strategiska projekt   2017-02247  \n",
       "24  På uppdrag av regeringen ska Vinnova genomföra...   2020-02236  \n",
       "9                     Enskilda projekt inom SIP STRIM   2016-00315  \n",
       "26                SIP - Resorce - externa utlysningar   2020-02365  \n",
       "14          SIP - Viable Cities - externa utlysningar   2017-05302  \n",
       "18        Kraftsamling kring Artificiell Intelligens    2019-00811  \n",
       "19  Kraftsamling kring Artificiell Intelligens - S...   2019-00812  \n",
       "22  Etablering av Europeiska Digitala Innovationsh...   2020-01883  \n",
       "0   Utmaningsdriven innovation - Steg 2 Samverkans...   2013-04314  \n",
       "1   Strategiska Innovationsprogrammet för Grafen -...   2014-04030  \n",
       "2   Strategiska innovationsprogrammet för Sakernas...   2014-04033  \n",
       "23                           Innovationsledningsstöd    2020-01939  \n",
       "21  Återhämtning via omställning av verksamheter o...   2020-01810  \n",
       "20              AI - kompetens, kapacitet och förmåga   2019-01053  \n",
       "17  Utlysningen görs i samverkan mellan Swelife oc...   2018-03850  \n",
       "4                         Eurostars 2 medfinansiering   2014-06148  \n",
       "15  Globala samarbeten särskilda insatser 2018-19 ...   2018-00067  \n",
       "10              Kommunikation utlysningar 2017 - 2020   2017-01935  \n",
       "16                    Internationella samarbeten - UK   2018-02052  \n",
       "13                    SVP aktiviteter -  Drive Sweden   2017-04418  \n",
       "3                   Kunskapstriangeln Övrig utlysning   2014-04352  \n",
       "7                                       SWE DEMO 2015   2015-06027  \n",
       "6         FFI - Big Automotive Data Analytics (BADA)    2015-02360  "
      ]
     },
     "execution_count": 9,
     "metadata": {},
     "output_type": "execute_result"
    }
   ],
   "source": [
    "df.sort_values(['Publiceringsdatum'], ascending=[False], inplace=True)\n",
    "df[['Publiceringsdatum', 'Titel','Beskrivning','Diarienummer']]\n"
   ]
  },
  {
   "cell_type": "code",
   "execution_count": null,
   "metadata": {},
   "outputs": [],
   "source": []
  },
  {
   "cell_type": "code",
   "execution_count": null,
   "metadata": {},
   "outputs": [],
   "source": []
  }
 ],
 "metadata": {
  "kernelspec": {
   "display_name": "Python 3",
   "language": "python",
   "name": "python3"
  },
  "language_info": {
   "codemirror_mode": {
    "name": "ipython",
    "version": 3
   },
   "file_extension": ".py",
   "mimetype": "text/x-python",
   "name": "python",
   "nbconvert_exporter": "python",
   "pygments_lexer": "ipython3",
   "version": "3.8.0"
  }
 },
 "nbformat": 4,
 "nbformat_minor": 2
}
