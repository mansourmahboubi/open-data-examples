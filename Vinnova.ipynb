{
 "cells": [
  {
   "cell_type": "markdown",
   "metadata": {},
   "source": [
    "![vinnva](https://www.vinnova.se/globalassets/mikrosajter/nyhetsrum/bilder/logotyp/nya-okt-18/engelsk.png)\n",
    "# Vinnova -  overview of our calls for proposals\n",
    "\n",
    "With this API you can get calls for proposal, for more details [read this](https://www.vinnova.se/en/apply-for-funding/find-the-right-funding/) and  [API]().\n"
   ]
  },
  {
   "cell_type": "code",
   "execution_count": 10,
   "metadata": {},
   "outputs": [
    {
     "data": {
      "text/plain": [
       "'https://data.vinnova.se/api/utlysningar/2018-01-01'"
      ]
     },
     "execution_count": 10,
     "metadata": {},
     "output_type": "execute_result"
    }
   ],
   "source": [
    "from IPython.display  import JSON\n",
    "import requests\n",
    "import json\n",
    "\n",
    "baseUrl = \"https://data.vinnova.se/api\"\n",
    "endpoint = \"/utlysningar/2018-01-01\"\n",
    "urlProposals = baseUrl + endpoint\n",
    "urlProposals"
   ]
  },
  {
   "cell_type": "code",
   "execution_count": 11,
   "metadata": {},
   "outputs": [
    {
     "data": {
      "application/json": [
       {
        "AnsokningsomgangDnrLista": [
         {
          "DiarienummerAnsokningsomgang": "2009-02612"
         },
         {
          "DiarienummerAnsokningsomgang": "2010-00601"
         },
         {
          "DiarienummerAnsokningsomgang": "2010-00603"
         },
         {
          "DiarienummerAnsokningsomgang": "2010-00605"
         },
         {
          "DiarienummerAnsokningsomgang": "2011-01205"
         },
         {
          "DiarienummerAnsokningsomgang": "2011-03650"
         },
         {
          "DiarienummerAnsokningsomgang": "2011-03848"
         },
         {
          "DiarienummerAnsokningsomgang": "2013-04313"
         }
        ],
        "Beskrivning": "VINN Excellence Center 2003",
        "BeskrivningEngelska": "VINN Excellence Center 2003",
        "Diarienummer": "2002-02143",
        "DiarienummerProgram": "2009-02164",
        "DokumentLista": [],
        "KontaktLista": [],
        "LankLista": [],
        "Publiceringsdatum": "2014-12-03T13:52:48",
        "Publik": 1,
        "Titel": "VINN Excellence Center 2003",
        "TitelEngelska": "VINN Excellence Center 2003"
       },
       {
        "AnsokningsomgangDnrLista": [
         {
          "DiarienummerAnsokningsomgang": "2009-02610"
         }
        ],
        "Beskrivning": "DYNAMO - Dynamiska arbetsmarknader och organisationer",
        "BeskrivningEngelska": "DYNAMO - Dynamiska arbetsmarknader och organisationer",
        "Diarienummer": "2004-00651",
        "DiarienummerProgram": "2009-02126",
        "DokumentLista": [],
        "KontaktLista": [],
        "LankLista": [],
        "Publiceringsdatum": "2018-01-23T11:00:09",
        "Publik": 1,
        "Titel": "DYNAMO - Dynamiska arbetsmarknader och organisationer",
        "TitelEngelska": "DYNAMO - Dynamiska arbetsmarknader och organisationer"
       },
       {
        "AnsokningsomgangDnrLista": [
         {
          "DiarienummerAnsokningsomgang": "2009-02461"
         },
         {
          "DiarienummerAnsokningsomgang": "2009-02472"
         },
         {
          "DiarienummerAnsokningsomgang": "2010-00607"
         },
         {
          "DiarienummerAnsokningsomgang": "2010-00609"
         },
         {
          "DiarienummerAnsokningsomgang": "2010-00610"
         },
         {
          "DiarienummerAnsokningsomgang": "2010-00612"
         },
         {
          "DiarienummerAnsokningsomgang": "2011-02186"
         },
         {
          "DiarienummerAnsokningsomgang": "2013-05177"
         },
         {
          "DiarienummerAnsokningsomgang": "2014-02394"
         },
         {
          "DiarienummerAnsokningsomgang": "2017-02795"
         }
        ],
        "Beskrivning": "VINN Excellence Center 2004",
        "BeskrivningEngelska": "VINN Excellence Center 2004",
        "Diarienummer": "2004-01527",
        "DiarienummerProgram": "2009-02164",
        "DokumentLista": [],
        "KontaktLista": [],
        "LankLista": [],
        "Publiceringsdatum": "2014-12-03T13:57:05",
        "Publik": 1,
        "Titel": "VINN Excellence Center 2004",
        "TitelEngelska": "VINN Excellence Center 2004"
       },
       {
        "AnsokningsomgangDnrLista": [
         {
          "DiarienummerAnsokningsomgang": "2009-02622"
         }
        ],
        "Beskrivning": "Genusperspektiv på innovationssystem och jämställdhet - forsknings- och utvecklingsprojekt",
        "BeskrivningEngelska": "Genusperspektiv på innovationssystem och jämställdhet - forsknings- och utvecklingsprojekt",
        "Diarienummer": "2004-03144",
        "DiarienummerProgram": "2009-02191",
        "DokumentLista": [],
        "KontaktLista": [],
        "LankLista": [],
        "Publiceringsdatum": "2018-05-25T11:00:35",
        "Publik": 1,
        "Titel": "Genusperspektiv på innovationssystem och jämställdhet - forsknings- och utvecklingsprojekt",
        "TitelEngelska": "Genusperspektiv på innovationssystem och jämställdhet - forsknings- och utvecklingsprojekt"
       },
       {
        "AnsokningsomgangDnrLista": [
         {
          "DiarienummerAnsokningsomgang": "2009-02508"
         },
         {
          "DiarienummerAnsokningsomgang": "2009-02512"
         },
         {
          "DiarienummerAnsokningsomgang": "2018-02734"
         }
        ],
        "Beskrivning": "Innovationer för framtidens hälsa utlysning",
        "BeskrivningEngelska": "N/A",
        "Diarienummer": "2008-01145",
        "DiarienummerProgram": "2009-02187",
        "DokumentLista": [],
        "KontaktLista": [],
        "LankLista": [],
        "Publiceringsdatum": "2018-06-13T10:00:28",
        "Publik": 1,
        "Titel": "Innovationer för framtidens hälsa utlysning",
        "TitelEngelska": "N/A"
       },
       {
        "AnsokningsomgangDnrLista": [
         {
          "DiarienummerAnsokningsomgang": "2009-02574"
         },
         {
          "DiarienummerAnsokningsomgang": "2009-02575"
         },
         {
          "DiarienummerAnsokningsomgang": "2009-02693"
         },
         {
          "DiarienummerAnsokningsomgang": "2010-00082"
         },
         {
          "DiarienummerAnsokningsomgang": "2010-01879"
         },
         {
          "DiarienummerAnsokningsomgang": "2010-01882"
         }
        ],
        "Beskrivning": "Promotions and international mobility for researchers in industry, academia or research institutes  in strategic collaborations between excellent milieus. Co-financed by Marie Curie Actions.",
        "BeskrivningEngelska": "VINNMER Marie Curie international qualification",
        "Diarienummer": "2008-02331",
        "DiarienummerProgram": "2009-02166",
        "DokumentLista": [
         {
          "Beskrivning": "Utlysningstext VINNMER Marie Curie international qualification",
          "DokumentID": "2008-02331_62",
          "FileName": "Call VINNMER – Marie Curie international qualification_2008-02-25_eng(261405).pdf",
          "Titel": "Utlysningstext VINNMER Marie Curie international qualification",
          "fileURL": "https://data.vinnova.se/api/file/2008-02331_62"
         }
        ],
        "KontaktLista": [
         {
          "Epost": "erik.litborn@vinnova.se",
          "KontaktID": 10745915,
          "Namn": "Erik Litborn",
          "Roll": "Programme Director",
          "Telefon": " 46 8 4733198"
         }
        ],
        "LankLista": [],
        "Publiceringsdatum": "2019-04-03T07:30:30",
        "Publik": 1,
        "Titel": "VINNMER Marie Curie international qualification, avtalsnr 229694",
        "TitelEngelska": "VINNMER Marie Curie international qualification"
       },
       {
        "AnsokningsomgangDnrLista": [
         {
          "DiarienummerAnsokningsomgang": "2009-02562"
         },
         {
          "DiarienummerAnsokningsomgang": "2009-02565"
         },
         {
          "DiarienummerAnsokningsomgang": "2009-02584"
         },
         {
          "DiarienummerAnsokningsomgang": "2009-02585"
         },
         {
          "DiarienummerAnsokningsomgang": "2009-02586"
         },
         {
          "DiarienummerAnsokningsomgang": "2009-02590"
         },
         {
          "DiarienummerAnsokningsomgang": "2009-04522"
         },
         {
          "DiarienummerAnsokningsomgang": "2009-04844"
         },
         {
          "DiarienummerAnsokningsomgang": "2010-00769"
         },
         {
          "DiarienummerAnsokningsomgang": "2010-00860"
         },
         {
          "DiarienummerAnsokningsomgang": "2010-02549"
         },
         {
          "DiarienummerAnsokningsomgang": "2011-01298"
         },
         {
          "DiarienummerAnsokningsomgang": "2011-01836"
         },
         {
          "DiarienummerAnsokningsomgang": "2011-03731"
         },
         {
          "DiarienummerAnsokningsomgang": "2012-00069"
         },
         {
          "DiarienummerAnsokningsomgang": "2012-01045"
         },
         {
          "DiarienummerAnsokningsomgang": "2012-02182"
         },
         {
          "DiarienummerAnsokningsomgang": "2012-02183"
         },
         {
          "DiarienummerAnsokningsomgang": "2012-03735"
         },
         {
          "DiarienummerAnsokningsomgang": "2012-04642"
         },
         {
          "DiarienummerAnsokningsomgang": "2013-01489"
         },
         {
          "DiarienummerAnsokningsomgang": "2013-01869"
         },
         {
          "DiarienummerAnsokningsomgang": "2013-01927"
         },
         {
          "DiarienummerAnsokningsomgang": "2013-05659"
         },
         {
          "DiarienummerAnsokningsomgang": "2014-02965"
         },
         {
          "DiarienummerAnsokningsomgang": "2014-03965"
         },
         {
          "DiarienummerAnsokningsomgang": "2014-05309"
         },
         {
          "DiarienummerAnsokningsomgang": "2015-00040"
         },
         {
          "DiarienummerAnsokningsomgang": "2015-04024"
         },
         {
          "DiarienummerAnsokningsomgang": "2015-06854"
         },
         {
          "DiarienummerAnsokningsomgang": "2015-06940"
         },
         {
          "DiarienummerAnsokningsomgang": "2016-03548"
         },
         {
          "DiarienummerAnsokningsomgang": "2016-04640"
         },
         {
          "DiarienummerAnsokningsomgang": "2016-05461"
         },
         {
          "DiarienummerAnsokningsomgang": "2016-05465"
         },
         {
          "DiarienummerAnsokningsomgang": "2016-05469"
         },
         {
          "DiarienummerAnsokningsomgang": "2018-00535"
         },
         {
          "DiarienummerAnsokningsomgang": "2018-03502"
         },
         {
          "DiarienummerAnsokningsomgang": "2018-04013"
         },
         {
          "DiarienummerAnsokningsomgang": "2018-05322"
         },
         {
          "DiarienummerAnsokningsomgang": "2018-05330"
         }
        ],
        "Beskrivning": "Hållbar produktion - FFI ",
        "BeskrivningEngelska": "x",
        "Diarienummer": "2008-04346",
        "DiarienummerProgram": "2009-02186",
        "DokumentLista": [
         {
          "Beskrivning": "Uppdaterad färdplan 180519",
          "DokumentID": "2008-04346_87",
          "FileName": "88535898-2631-45ad-a653-482fdd27d1d8.pdf(875103).pdf",
          "Titel": "Uppdaterad färdplan 180519",
          "fileURL": "https://data.vinnova.se/api/file/2008-04346_87"
         }
        ],
        "KontaktLista": [
         {
          "Epost": "bengt.larsson@vinnova.se",
          "KontaktID": 10751222,
          "Namn": "Bengt Larsson",
          "Roll": "Administrativa frågor",
          "Telefon": "08-473 31 14"
         },
         {
          "Epost": "ida.langborg@vinnova.se",
          "KontaktID": 12604079,
          "Namn": "Ida Langborg",
          "Roll": "Utlysningsansvarig",
          "Telefon": "08-473 30 77"
         }
        ],
        "LankLista": [],
        "Publiceringsdatum": "2019-02-13T15:30:32",
        "Publik": 1,
        "Titel": "Hållbar produktion - FFI ",
        "TitelEngelska": "x"
       },
       {
        "AnsokningsomgangDnrLista": [
         {
          "DiarienummerAnsokningsomgang": "2009-01951"
         },
         {
          "DiarienummerAnsokningsomgang": "2009-01959"
         },
         {
          "DiarienummerAnsokningsomgang": "2009-01960"
         }
        ],
        "Beskrivning": "SLASK",
        "BeskrivningEngelska": "cccc",
        "Diarienummer": "2009-02242",
        "DiarienummerProgram": "2009-02224",
        "DokumentLista": [],
        "KontaktLista": [
         {
          "Epost": "",
          "KontaktID": 11984249,
          "Namn": "Annika ",
          "Roll": "",
          "Telefon": ""
         }
        ],
        "LankLista": [],
        "Publiceringsdatum": "2019-01-24T12:30:24",
        "Publik": 1,
        "Titel": "Osorterade från Nova - Utlysning",
        "TitelEngelska": "cccc"
       },
       {
        "AnsokningsomgangDnrLista": [
         {
          "DiarienummerAnsokningsomgang": "2009-02564"
         },
         {
          "DiarienummerAnsokningsomgang": "2009-02568"
         },
         {
          "DiarienummerAnsokningsomgang": "2009-02569"
         },
         {
          "DiarienummerAnsokningsomgang": "2009-02570"
         },
         {
          "DiarienummerAnsokningsomgang": "2009-02571"
         },
         {
          "DiarienummerAnsokningsomgang": "2009-04523"
         },
         {
          "DiarienummerAnsokningsomgang": "2009-04843"
         },
         {
          "DiarienummerAnsokningsomgang": "2010-00765"
         },
         {
          "DiarienummerAnsokningsomgang": "2010-00846"
         },
         {
          "DiarienummerAnsokningsomgang": "2010-00848"
         },
         {
          "DiarienummerAnsokningsomgang": "2010-02548"
         },
         {
          "DiarienummerAnsokningsomgang": "2011-01543"
         },
         {
          "DiarienummerAnsokningsomgang": "2011-02174"
         },
         {
          "DiarienummerAnsokningsomgang": "2011-04162"
         },
         {
          "DiarienummerAnsokningsomgang": "2012-02548"
         },
         {
          "DiarienummerAnsokningsomgang": "2012-04036"
         },
         {
          "DiarienummerAnsokningsomgang": "2012-04639"
         },
         {
          "DiarienummerAnsokningsomgang": "2013-01491"
         },
         {
          "DiarienummerAnsokningsomgang": "2013-01866"
         },
         {
          "DiarienummerAnsokningsomgang": "2013-01920"
         },
         {
          "DiarienummerAnsokningsomgang": "2013-05660"
         },
         {
          "DiarienummerAnsokningsomgang": "2014-02954"
         },
         {
          "DiarienummerAnsokningsomgang": "2014-03962"
         },
         {
          "DiarienummerAnsokningsomgang": "2014-04367"
         },
         {
          "DiarienummerAnsokningsomgang": "2014-05733"
         },
         {
          "DiarienummerAnsokningsomgang": "2015-00017"
         },
         {
          "DiarienummerAnsokningsomgang": "2015-02436"
         },
         {
          "DiarienummerAnsokningsomgang": "2015-05866"
         },
         {
          "DiarienummerAnsokningsomgang": "2015-06941"
         },
         {
          "DiarienummerAnsokningsomgang": "2015-06942"
         },
         {
          "DiarienummerAnsokningsomgang": "2015-06943"
         },
         {
          "DiarienummerAnsokningsomgang": "2016-04637"
         },
         {
          "DiarienummerAnsokningsomgang": "2016-05448"
         },
         {
          "DiarienummerAnsokningsomgang": "2016-05450"
         },
         {
          "DiarienummerAnsokningsomgang": "2016-05451"
         },
         {
          "DiarienummerAnsokningsomgang": "2018-00068"
         },
         {
          "DiarienummerAnsokningsomgang": "2018-02072"
         },
         {
          "DiarienummerAnsokningsomgang": "2018-03493"
         },
         {
          "DiarienummerAnsokningsomgang": "2018-05323"
         },
         {
          "DiarienummerAnsokningsomgang": "2018-05324"
         }
        ],
        "Beskrivning": "Programmet Transporteffektivitet ska skapa och säkerställa en fungerande och etablerad arena där industri, myndigheter, institut och akademi utvecklar nya samverkansformer.",
        "BeskrivningEngelska": "Transport Efficiency",
        "Diarienummer": "2009-02247",
        "DiarienummerProgram": "2009-02186",
        "DokumentLista": [
         {
          "Beskrivning": "Färdplan - Effektiva och uppkopplade transportsystem (EUTS)",
          "DokumentID": "2009-02247_61",
          "FileName": "Fa╠êrdplan FFI EUTS 2015-11-03.pdf(703956).pdf",
          "Titel": "Färdplan - Effektiva och uppkopplade transportsystem (EUTS)",
          "fileURL": "https://data.vinnova.se/api/file/2009-02247_61"
         },
         {
          "Beskrivning": "Strategic roadmap FFI - Efficient and Connected Transport Systems (EUTS) - 2015-11-03 ",
          "DokumentID": "2009-02247_65",
          "FileName": "Strategic roadmap FFI_EUTSÔÇô2015-11-03_ENG.pdf(734529).pdf",
          "Titel": "Strategic roadmap FFI - Efficient and Connected Transport Systems (EUTS) - 2015-11-03 ",
          "fileURL": "https://data.vinnova.se/api/file/2009-02247_65"
         }
        ],
        "KontaktLista": [
         {
          "Epost": "lena.dalsmyr@vinnova.se",
          "KontaktID": 10955482,
          "Namn": "Lena Dalsmyr",
          "Roll": "Administrativa frågor",
          "Telefon": "08-473 31 61"
         },
         {
          "Epost": " per.norman@vinnova.se ",
          "KontaktID": 11875878,
          "Namn": "Per Norman",
          "Roll": "Utlysningsansvarig",
          "Telefon": "08-473 31 73"
         }
        ],
        "LankLista": [],
        "Publiceringsdatum": "2019-02-13T15:30:28",
        "Publik": 1,
        "Titel": "Effektiva och uppkopplade transportsystem - FFI",
        "TitelEngelska": "Transport Efficiency"
       },
       {
        "AnsokningsomgangDnrLista": [
         {
          "DiarienummerAnsokningsomgang": "2009-02576"
         },
         {
          "DiarienummerAnsokningsomgang": "2009-02577"
         },
         {
          "DiarienummerAnsokningsomgang": "2009-02592"
         },
         {
          "DiarienummerAnsokningsomgang": "2010-00083"
         },
         {
          "DiarienummerAnsokningsomgang": "2010-01881"
         },
         {
          "DiarienummerAnsokningsomgang": "2010-01884"
         }
        ],
        "Beskrivning": "Promotions and national mobility for researchers in industry, academia or research institutes  in strategic collaborations between excellent milieus in Sweden.",
        "BeskrivningEngelska": "VINNMER national qualification",
        "Diarienummer": "2009-02248",
        "DiarienummerProgram": "2009-02166",
        "DokumentLista": [
         {
          "Beskrivning": "Utlysningstext VINNMER national qualification",
          "DokumentID": "2009-02248_1",
          "FileName": "Call VINNMER – National qualification_2008-02-25_eng(261406).pdf",
          "Titel": "Utlysningstext VINNMER national qualification",
          "fileURL": "https://data.vinnova.se/api/file/2009-02248_1"
         }
        ],
        "KontaktLista": [
         {
          "Epost": "erik.litborn@vinnova.se",
          "KontaktID": 10746057,
          "Namn": "Erik Litborn",
          "Roll": "Programme Director",
          "Telefon": " 46 8 4733198"
         }
        ],
        "LankLista": [],
        "Publiceringsdatum": "2016-12-16T10:30:06",
        "Publik": 1,
        "Titel": "VINNMER national qualification",
        "TitelEngelska": "VINNMER national qualification"
       },
       {
        "AnsokningsomgangDnrLista": [
         {
          "DiarienummerAnsokningsomgang": "2009-02561"
         },
         {
          "DiarienummerAnsokningsomgang": "2009-02580"
         },
         {
          "DiarienummerAnsokningsomgang": "2009-02581"
         },
         {
          "DiarienummerAnsokningsomgang": "2009-02698"
         },
         {
          "DiarienummerAnsokningsomgang": "2009-04524"
         },
         {
          "DiarienummerAnsokningsomgang": "2009-04839"
         },
         {
          "DiarienummerAnsokningsomgang": "2010-00767"
         },
         {
          "DiarienummerAnsokningsomgang": "2010-02546"
         },
         {
          "DiarienummerAnsokningsomgang": "2010-02547"
         },
         {
          "DiarienummerAnsokningsomgang": "2011-01837"
         },
         {
          "DiarienummerAnsokningsomgang": "2011-04014"
         },
         {
          "DiarienummerAnsokningsomgang": "2012-00664"
         },
         {
          "DiarienummerAnsokningsomgang": "2012-01046"
         },
         {
          "DiarienummerAnsokningsomgang": "2012-01768"
         },
         {
          "DiarienummerAnsokningsomgang": "2012-02238"
         },
         {
          "DiarienummerAnsokningsomgang": "2012-03907"
         },
         {
          "DiarienummerAnsokningsomgang": "2012-04640"
         },
         {
          "DiarienummerAnsokningsomgang": "2013-01492"
         },
         {
          "DiarienummerAnsokningsomgang": "2013-01868"
         },
         {
          "DiarienummerAnsokningsomgang": "2013-01925"
         },
         {
          "DiarienummerAnsokningsomgang": "2013-05661"
         },
         {
          "DiarienummerAnsokningsomgang": "2014-02962"
         },
         {
          "DiarienummerAnsokningsomgang": "2014-03967"
         },
         {
          "DiarienummerAnsokningsomgang": "2014-06000"
         },
         {
          "DiarienummerAnsokningsomgang": "2015-00026"
         },
         {
          "DiarienummerAnsokningsomgang": "2015-05867"
         },
         {
          "DiarienummerAnsokningsomgang": "2015-06893"
         },
         {
          "DiarienummerAnsokningsomgang": "2015-06944"
         },
         {
          "DiarienummerAnsokningsomgang": "2015-06945"
         },
         {
          "DiarienummerAnsokningsomgang": "2016-04638"
         },
         {
          "DiarienummerAnsokningsomgang": "2016-05458"
         },
         {
          "DiarienummerAnsokningsomgang": "2016-05459"
         },
         {
          "DiarienummerAnsokningsomgang": "2016-05460"
         },
         {
          "DiarienummerAnsokningsomgang": "2018-00592"
         },
         {
          "DiarienummerAnsokningsomgang": "2018-03501"
         },
         {
          "DiarienummerAnsokningsomgang": "2018-05338"
         },
         {
          "DiarienummerAnsokningsomgang": "2018-05339"
         }
        ],
        "Beskrivning": "Programmet Fordonsutveckling har som mål att bidra till ett globalt ledarskap inom fordonselektronik och programvara samt öka kompetensen att effektivt konstruera nya fordonskoncept.",
        "BeskrivningEngelska": "x",
        "Diarienummer": "2009-02249",
        "DiarienummerProgram": "2009-02186",
        "DokumentLista": [
         {
          "Beskrivning": "Strategisk färdplan - Elektronik mjukvara och kommunikation, reviderad 2015-10-28",
          "DokumentID": "2009-02249_56",
          "FileName": "Färdplan EMK 2015-10-28.pdf(690347).pdf",
          "Titel": "Strategisk färdplan - Elektronik mjukvara och kommunikation, reviderad 2015-10-28",
          "fileURL": "https://data.vinnova.se/api/file/2009-02249_56"
         },
         {
          "Beskrivning": "Strategic roadmap FFI -  Electronics, Software and Communication - 2015-11-03",
          "DokumentID": "2009-02249_61",
          "FileName": "Strategic roadmap FFI_EMK_2015-11-03_ENG.pdf(734528).pdf",
          "Titel": "Strategic roadmap FFI -  Electronics, Software and Communication - 2015-11-03",
          "fileURL": "https://data.vinnova.se/api/file/2009-02249_61"
         }
        ],
        "KontaktLista": [
         {
          "Epost": "lena.dalsmyr@vinnova.se",
          "KontaktID": 10751218,
          "Namn": "Lena Dalsmyr",
          "Roll": "",
          "Telefon": "08-473 31 61"
         },
         {
          "Epost": "Eric.Wallgren@VINNOVA.se",
          "KontaktID": 11208753,
          "Namn": "Eric Wallgren",
          "Roll": "Programansvarig",
          "Telefon": "+4684733096"
         }
        ],
        "LankLista": [],
        "Publiceringsdatum": "2019-02-13T15:30:30",
        "Publik": 1,
        "Titel": "Elektronik, mjukvara och kommunikation -  FFI",
        "TitelEngelska": "x"
       },
       {
        "AnsokningsomgangDnrLista": [
         {
          "DiarienummerAnsokningsomgang": "2009-02560"
         },
         {
          "DiarienummerAnsokningsomgang": "2009-02563"
         },
         {
          "DiarienummerAnsokningsomgang": "2009-02583"
         },
         {
          "DiarienummerAnsokningsomgang": "2009-02587"
         },
         {
          "DiarienummerAnsokningsomgang": "2009-02588"
         },
         {
          "DiarienummerAnsokningsomgang": "2009-02589"
         },
         {
          "DiarienummerAnsokningsomgang": "2009-04525"
         },
         {
          "DiarienummerAnsokningsomgang": "2009-04846"
         },
         {
          "DiarienummerAnsokningsomgang": "2010-00768"
         },
         {
          "DiarienummerAnsokningsomgang": "2010-00851"
         },
         {
          "DiarienummerAnsokningsomgang": "2010-00852"
         },
         {
          "DiarienummerAnsokningsomgang": "2010-02550"
         },
         {
          "DiarienummerAnsokningsomgang": "2011-01795"
         },
         {
          "DiarienummerAnsokningsomgang": "2011-01835"
         },
         {
          "DiarienummerAnsokningsomgang": "2011-04447"
         },
         {
          "DiarienummerAnsokningsomgang": "2012-00732"
         },
         {
          "DiarienummerAnsokningsomgang": "2012-01301"
         },
         {
          "DiarienummerAnsokningsomgang": "2012-01997"
         },
         {
          "DiarienummerAnsokningsomgang": "2012-03738"
         },
         {
          "DiarienummerAnsokningsomgang": "2012-04641"
         },
         {
          "DiarienummerAnsokningsomgang": "2013-01311"
         },
         {
          "DiarienummerAnsokningsomgang": "2013-01867"
         },
         {
          "DiarienummerAnsokningsomgang": "2013-01923"
         },
         {
          "DiarienummerAnsokningsomgang": "2013-05662"
         },
         {
          "DiarienummerAnsokningsomgang": "2014-02959"
         },
         {
          "DiarienummerAnsokningsomgang": "2014-03964"
         },
         {
          "DiarienummerAnsokningsomgang": "2014-06001"
         },
         {
          "DiarienummerAnsokningsomgang": "2015-00038"
         },
         {
          "DiarienummerAnsokningsomgang": "2015-05865"
         },
         {
          "DiarienummerAnsokningsomgang": "2015-06946"
         },
         {
          "DiarienummerAnsokningsomgang": "2015-06947"
         },
         {
          "DiarienummerAnsokningsomgang": "2015-06948"
         },
         {
          "DiarienummerAnsokningsomgang": "2016-04642"
         },
         {
          "DiarienummerAnsokningsomgang": "2016-05452"
         },
         {
          "DiarienummerAnsokningsomgang": "2016-05454"
         },
         {
          "DiarienummerAnsokningsomgang": "2016-05456"
         },
         {
          "DiarienummerAnsokningsomgang": "2018-00124"
         },
         {
          "DiarienummerAnsokningsomgang": "2018-02060"
         },
         {
          "DiarienummerAnsokningsomgang": "2018-03500"
         },
         {
          "DiarienummerAnsokningsomgang": "2018-05333"
         },
         {
          "DiarienummerAnsokningsomgang": "2018-05334"
         }
        ],
        "Beskrivning": "Programmet Fordons- och trafiksäkerhet har som mål att bidra till utvecklingen av ”nollvisionsfordon”, dvs fordon med en optimal kombination av system som reducerar antal olyckor och konsekvenserna av de olyckor som trots allt sker.",
        "BeskrivningEngelska": "FFI - Fordons- & Trafiksäkerhet",
        "Diarienummer": "2009-02250",
        "DiarienummerProgram": "2009-02186",
        "DokumentLista": [],
        "KontaktLista": [
         {
          "Epost": "lena.dalsmyr@vinnova.se",
          "KontaktID": 10751212,
          "Namn": "Lena Dalsmyr",
          "Roll": "Administrativa frågor",
          "Telefon": "08-473 31 61"
         },
         {
          "Epost": "ulrika.landelius@trafikverket.se",
          "KontaktID": 11387594,
          "Namn": "Ulrika Landelius",
          "Roll": "Utlysningsansvarig",
          "Telefon": "010-123 23 29"
         }
        ],
        "LankLista": [],
        "Publiceringsdatum": "2019-02-13T15:30:27",
        "Publik": 1,
        "Titel": "Trafiksäkerhet och automatiserade fordon - FFI",
        "TitelEngelska": "FFI - Fordons- & Trafiksäkerhet"
       },
       {
        "AnsokningsomgangDnrLista": [
         {
          "DiarienummerAnsokningsomgang": "2009-01988"
         },
         {
          "DiarienummerAnsokningsomgang": "2010-00540"
         },
         {
          "DiarienummerAnsokningsomgang": "2012-00147"
         },
         {
          "DiarienummerAnsokningsomgang": "2014-01631"
         },
         {
          "DiarienummerAnsokningsomgang": "2015-01448"
         },
         {
          "DiarienummerAnsokningsomgang": "2017-02810"
         }
        ],
        "Beskrivning": "Berzelii Centra 2005",
        "BeskrivningEngelska": "Berzelii Centra 2005",
        "Diarienummer": "2009-02298",
        "DiarienummerProgram": "2009-02167",
        "DokumentLista": [],
        "KontaktLista": [],
        "LankLista": [],
        "Publiceringsdatum": "2015-03-10T13:46:38",
        "Publik": 1,
        "Titel": "Berzelii Centra 2005",
        "TitelEngelska": "Berzelii Centra 2005"
       },
       {
        "AnsokningsomgangDnrLista": [
         {
          "DiarienummerAnsokningsomgang": "2009-02001"
         },
         {
          "DiarienummerAnsokningsomgang": "2013-00986"
         },
         {
          "DiarienummerAnsokningsomgang": "2013-01426"
         },
         {
          "DiarienummerAnsokningsomgang": "2014-06119"
         }
        ],
        "Beskrivning": "Utveckling av innovationssystem i regioner  Övrigt",
        "BeskrivningEngelska": "z",
        "Diarienummer": "2009-02317",
        "DiarienummerProgram": "2009-02176",
        "DokumentLista": [],
        "KontaktLista": [],
        "LankLista": [],
        "Publiceringsdatum": "2018-06-14T14:00:39",
        "Publik": 0,
        "Titel": "Utveckling av innovationssystem i regioner  Övrigt",
        "TitelEngelska": "z"
       },
       {
        "AnsokningsomgangDnrLista": [
         {
          "DiarienummerAnsokningsomgang": "2009-02004"
         },
         {
          "DiarienummerAnsokningsomgang": "2011-01198"
         }
        ],
        "Beskrivning": "Stöd till extern media",
        "BeskrivningEngelska": "",
        "Diarienummer": "2009-02320",
        "DiarienummerProgram": "2009-02155",
        "DokumentLista": [],
        "KontaktLista": [],
        "LankLista": [],
        "Publiceringsdatum": "2018-09-21T16:00:43",
        "Publik": 1,
        "Titel": "Stöd till extern media",
        "TitelEngelska": ""
       },
       {
        "AnsokningsomgangDnrLista": [
         {
          "DiarienummerAnsokningsomgang": "2009-02019"
         },
         {
          "DiarienummerAnsokningsomgang": "2011-03748"
         },
         {
          "DiarienummerAnsokningsomgang": "2012-00544"
         },
         {
          "DiarienummerAnsokningsomgang": "2013-04442"
         },
         {
          "DiarienummerAnsokningsomgang": "2014-03995"
         },
         {
          "DiarienummerAnsokningsomgang": "2015-04617"
         },
         {
          "DiarienummerAnsokningsomgang": "2015-06627"
         },
         {
          "DiarienummerAnsokningsomgang": "2015-06840"
         },
         {
          "DiarienummerAnsokningsomgang": "2016-02861"
         },
         {
          "DiarienummerAnsokningsomgang": "2016-04958"
         },
         {
          "DiarienummerAnsokningsomgang": "2017-01546"
         },
         {
          "DiarienummerAnsokningsomgang": "2019-02228"
         }
        ],
        "Beskrivning": "FFI - Styrelse initierade projekt",
        "BeskrivningEngelska": "x",
        "Diarienummer": "2009-02335",
        "DiarienummerProgram": "2009-02186",
        "DokumentLista": [],
        "KontaktLista": [],
        "LankLista": [],
        "Publiceringsdatum": "2019-04-03T13:00:24",
        "Publik": 0,
        "Titel": "FFI - Styrelse initierade projekt",
        "TitelEngelska": "x"
       },
       {
        "AnsokningsomgangDnrLista": [
         {
          "DiarienummerAnsokningsomgang": "2009-02023"
         },
         {
          "DiarienummerAnsokningsomgang": "2010-01380"
         },
         {
          "DiarienummerAnsokningsomgang": "2011-01370"
         },
         {
          "DiarienummerAnsokningsomgang": "2012-01533"
         },
         {
          "DiarienummerAnsokningsomgang": "2012-04055"
         },
         {
          "DiarienummerAnsokningsomgang": "2014-00061"
         },
         {
          "DiarienummerAnsokningsomgang": "2014-01129"
         }
        ],
        "Beskrivning": "ARTEMIS-JU utlysningar",
        "BeskrivningEngelska": "ARTEMIS-JU Calla",
        "Diarienummer": "2009-02340",
        "DiarienummerProgram": "2009-02207",
        "DokumentLista": [],
        "KontaktLista": [],
        "LankLista": [],
        "Publiceringsdatum": "2016-01-22T20:18:39",
        "Publik": 1,
        "Titel": "ARTEMIS",
        "TitelEngelska": "ARTEMIS"
       },
       {
        "AnsokningsomgangDnrLista": [
         {
          "DiarienummerAnsokningsomgang": "2009-02077"
         },
         {
          "DiarienummerAnsokningsomgang": "2011-02957"
         },
         {
          "DiarienummerAnsokningsomgang": "2012-01176"
         },
         {
          "DiarienummerAnsokningsomgang": "2014-01209"
         },
         {
          "DiarienummerAnsokningsomgang": "2014-05307"
         }
        ],
        "Beskrivning": "Innovativa fordon, farkoster och system -  Övrigt",
        "BeskrivningEngelska": "z",
        "Diarienummer": "2009-02397",
        "DiarienummerProgram": "2003-00314",
        "DokumentLista": [],
        "KontaktLista": [],
        "LankLista": [],
        "Publiceringsdatum": "2014-05-07T10:00:03",
        "Publik": 0,
        "Titel": "Innovativa fordon, farkoster och system -  Övrigt",
        "TitelEngelska": "z"
       },
       {
        "AnsokningsomgangDnrLista": [
         {
          "DiarienummerAnsokningsomgang": "2009-02681"
         }
        ],
        "Beskrivning": "Tillämpad genusforskning inom starka FoI-miljöer - Steg 2 (utlysning)",
        "BeskrivningEngelska": "Tillämpad genusforskning inom starka FoI-miljöer - Steg 2",
        "Diarienummer": "2009-02405",
        "DiarienummerProgram": "2009-02191",
        "DokumentLista": [],
        "KontaktLista": [],
        "LankLista": [],
        "Publiceringsdatum": "2018-05-25T11:00:34",
        "Publik": 1,
        "Titel": "Tillämpad genusforskning inom starka FoI-miljöer - Steg 2 (utlysning)",
        "TitelEngelska": "Tillämpad genusforskning inom starka FoI-miljöer - Steg 2"
       },
       {
        "AnsokningsomgangDnrLista": [
         {
          "DiarienummerAnsokningsomgang": "2009-02112"
         }
        ],
        "Beskrivning": "MTO - Övrigt",
        "BeskrivningEngelska": "",
        "Diarienummer": "2009-02436",
        "DiarienummerProgram": "2001-05752",
        "DokumentLista": [],
        "KontaktLista": [],
        "LankLista": [],
        "Publiceringsdatum": "2018-12-14T15:30:21",
        "Publik": 0,
        "Titel": "MTO - Övrigt",
        "TitelEngelska": ""
       },
       {
        "AnsokningsomgangDnrLista": [
         {
          "DiarienummerAnsokningsomgang": "2009-02114"
         }
        ],
        "Beskrivning": "Sida  - samarbeten och uppdrag - Övrigt",
        "BeskrivningEngelska": "",
        "Diarienummer": "2009-02438",
        "DiarienummerProgram": "2009-02174",
        "DokumentLista": [],
        "KontaktLista": [],
        "LankLista": [],
        "Publiceringsdatum": "2018-12-14T16:00:12",
        "Publik": 0,
        "Titel": "Sida  - samarbeten och uppdrag - Övrigt",
        "TitelEngelska": ""
       },
       {
        "AnsokningsomgangDnrLista": [
         {
          "DiarienummerAnsokningsomgang": "2009-04816"
         },
         {
          "DiarienummerAnsokningsomgang": "2009-04819"
         },
         {
          "DiarienummerAnsokningsomgang": "2010-01840"
         },
         {
          "DiarienummerAnsokningsomgang": "2010-02087"
         },
         {
          "DiarienummerAnsokningsomgang": "2010-02753"
         }
        ],
        "Beskrivning": "Forska&Väx 2010 - Erbjudande A och B",
        "BeskrivningEngelska": "Research&Grow",
        "Diarienummer": "2009-04815",
        "DiarienummerProgram": "2009-02172",
        "DokumentLista": [
         {
          "Beskrivning": "Projektbeskrivningsmall Forska&Väx erbj A",
          "DokumentID": "2009-04815_12",
          "FileName": "Mall för projektbeskrivning A FoU-projekt ForskaVäx 2010(287300).docx",
          "Titel": "Projektbeskrivningsmall Forska&Väx erbj A",
          "fileURL": "https://data.vinnova.se/api/file/2009-04815_12"
         },
         {
          "Beskrivning": "Projektbeskrivningsmall Forska&Väx erbj B",
          "DokumentID": "2009-04815_13",
          "FileName": "Mall för projektbeskrivning B förstudie verifiering ForskaVäx 2010(287308).docx",
          "Titel": "Projektbeskrivningsmall Forska&Väx erbj B",
          "fileURL": "https://data.vinnova.se/api/file/2009-04815_13"
         },
         {
          "Beskrivning": "Skillnader mot tidigare utlysning",
          "DokumentID": "2009-04815_14",
          "FileName": "Skillnader utlysning 2010-09-16(287867).pdf",
          "Titel": "Skillnader mot tidigare utlysning",
          "fileURL": "https://data.vinnova.se/api/file/2009-04815_14"
         },
         {
          "Beskrivning": "Forska&Väx",
          "DokumentID": "2009-04815_15",
          "FileName": "2010-09-07 ForskaVäx2010 utlysningstext(287292).pdf",
          "Titel": "Forska&Väx 2010 - utlysningstext. Rev 10-10-08.",
          "fileURL": "https://data.vinnova.se/api/file/2009-04815_15"
         }
        ],
        "KontaktLista": [
         {
          "Epost": "anne.lofquist@vinnova.se",
          "KontaktID": 10744609,
          "Namn": "Anne Löfquist",
          "Roll": "",
          "Telefon": "08-473 31 25"
         },
         {
          "Epost": "lars.gustafsson@vinnova.se",
          "KontaktID": 10744611,
          "Namn": "Lars Gustafsson",
          "Roll": "",
          "Telefon": "08-473 32 12"
         },
         {
          "Epost": "kaj.klarin@vinnova.se",
          "KontaktID": 10800334,
          "Namn": "Kaj Klarin",
          "Roll": "",
          "Telefon": "08-473 31 70"
         }
        ],
        "LankLista": [],
        "Publiceringsdatum": "2018-03-05T15:30:17",
        "Publik": 1,
        "Titel": "Forska&Väx 2010 - Erbjudande A och B",
        "TitelEngelska": "Research&Grow"
       },
       {
        "AnsokningsomgangDnrLista": [
         {
          "DiarienummerAnsokningsomgang": "2009-04824"
         },
         {
          "DiarienummerAnsokningsomgang": "2010-01336"
         }
        ],
        "Beskrivning": "Forska&Väx 2010 - Erbjudande C",
        "BeskrivningEngelska": "Research&Grow 2010 - prestudy",
        "Diarienummer": "2009-04821",
        "DiarienummerProgram": "2009-02172",
        "DokumentLista": [
         {
          "Beskrivning": "Forska&Väx 2010 - utlysningstext. Rev 2010-09-07",
          "DokumentID": "2009-04821_6",
          "FileName": "2010-09-07 ForskaVäx2010 utlysningstext(287314).pdf",
          "Titel": "Forska&Väx 2010 - utlysningstext. Rev 2010-09-07",
          "fileURL": "https://data.vinnova.se/api/file/2009-04821_6"
         },
         {
          "Beskrivning": "Projektbeskrivningsmall Forska&Väx erbj C",
          "DokumentID": "2009-04821_7",
          "FileName": "Mall för projektbeskrivning Behovsanalys C 2010(287312).docx",
          "Titel": "Projektbeskrivningsmall Forska&Väx erbj C",
          "fileURL": "https://data.vinnova.se/api/file/2009-04821_7"
         },
         {
          "Beskrivning": "Skillnader mot tidigare utlysning",
          "DokumentID": "2009-04821_8",
          "FileName": "Skillnader utlysning 2010-09-16(287888).pdf",
          "Titel": "Skillnader mot tidigare utlysning",
          "fileURL": "https://data.vinnova.se/api/file/2009-04821_8"
         }
        ],
        "KontaktLista": [
         {
          "Epost": "anne.lofquist@vinnova.se",
          "KontaktID": 10761610,
          "Namn": "Anne Löfquist",
          "Roll": "",
          "Telefon": "46 8 473 3125"
         },
         {
          "Epost": "kaj.klarin@vinnova.se",
          "KontaktID": 11013362,
          "Namn": "Kaj Klarin",
          "Roll": "",
          "Telefon": "  46 8 473 3170"
         }
        ],
        "LankLista": [],
        "Publiceringsdatum": "2018-03-05T15:30:15",
        "Publik": 1,
        "Titel": "Forska&Väx 2010. Erbjudande C",
        "TitelEngelska": "Research&Grow 2010 - prestudy"
       },
       {
        "AnsokningsomgangDnrLista": [
         {
          "DiarienummerAnsokningsomgang": "2010-00656"
         },
         {
          "DiarienummerAnsokningsomgang": "2010-01483"
         },
         {
          "DiarienummerAnsokningsomgang": "2011-01876"
         },
         {
          "DiarienummerAnsokningsomgang": "2011-03312"
         },
         {
          "DiarienummerAnsokningsomgang": "2012-01689"
         },
         {
          "DiarienummerAnsokningsomgang": "2013-01432"
         },
         {
          "DiarienummerAnsokningsomgang": "2014-01706"
         }
        ],
        "Beskrivning": "VINNOVA är Sveriges representant i ett nytt initiativ, Ambient Assisted Living (AAL) Joint Programme, ett gemensamt forsknings- och innovationsprogram för att möta de utmaningar det europeiska samhället står inför med en åldrande befolkning. Det övergripande syftet med de gemensamma insatserna är att förbättra livskvaliteten för Europas äldre människor i boendet och i vardagen med stöd av informations- och kommunikationsteknik (IKT) och att också inom området stärka näringslivet i Europa genom nya lösningar, tjänster, produkter och system.\r\nInitiativet bygger på Artikel 169 i EU-fördraget, vilken möjliggör samverkan mellan flera medlemsstaters forskningsprogram. VINNOVA har av Näringsdepartementet utsetts till Sveriges representant i samarbetet. För närvarande omfattar samverkan 23  länder.\r\nI samarbetet avsätter VINNOVA ca 500 000 euro per år för svenska parters medverkan i projekt inom AAL-programmet, vilket är tänkt att pågå från 2008 till och med 2013. De deltagande medlemsländerna avsätter gemensamt minst 150 miljoner euro  och EU-kommissionen bidrar därtill med maximalt 150 miljoner euro.\r\n\r\nEn gemensam organisation har bildats och på dess gemensamma webbplats finns all information som rör AAL tillgänglig - www.aal-europe.eu\r\n\r\n",
        "BeskrivningEngelska": "Ambient Assisted Living\" (AAL) is the name for a new European technology and innovation funding programme. \r\n\r\nThe programme is intended to address the needs of the ageing population, to reduce innovation barriers of forthcoming promising markets, but also to lower future social security costs. AAL aims - by the use of intelligent products and the provision of remote services including care services – at extending the time older people can live in their home environment by increasing their autonomy and assisting them in carrying out activities of daily living. \r\n\r\nThe programme AAL is prepared as a so-called Article 169 initiative - refering to the respective article of the European treaty. This article allows the EC to participate in the AAL programme which, however, remains a member state driven initiative in the first place. Before this becomes true, a co-decision process is required to get both, the approval of the Council and the European Parliament. This procedure officially stared on 14 June 2007 - with the adoption of  a European Action Plan for \"Ageing Well in the Information Society\" by the Commission: http://ec.europa.eu/information_society/activities/einclusion/policy/ageing/launch/index_en.htm\r\n",
        "Diarienummer": "2010-00614",
        "DiarienummerProgram": "2009-02183",
        "DokumentLista": [],
        "KontaktLista": [],
        "LankLista": [],
        "Publiceringsdatum": "2018-05-25T07:30:22",
        "Publik": 1,
        "Titel": "AAL- Ambient Assisted Living",
        "TitelEngelska": "AAL- Ambient Assisted Living"
       },
       {
        "AnsokningsomgangDnrLista": [
         {
          "DiarienummerAnsokningsomgang": "2010-00701"
         },
         {
          "DiarienummerAnsokningsomgang": "2010-01499"
         },
         {
          "DiarienummerAnsokningsomgang": "2012-00068"
         }
        ],
        "Beskrivning": "VINNMER - övrigt, mobilitetsprojekt i linje med VINNMER",
        "BeskrivningEngelska": "VINNMER - övrigt",
        "Diarienummer": "2010-00697",
        "DiarienummerProgram": "2009-02166",
        "DokumentLista": [],
        "KontaktLista": [],
        "LankLista": [],
        "Publiceringsdatum": "2012-01-13T17:04:30",
        "Publik": 0,
        "Titel": "VINNMER - övrigt",
        "TitelEngelska": "VINNMER - övrigt"
       },
       {
        "AnsokningsomgangDnrLista": [
         {
          "DiarienummerAnsokningsomgang": "2010-00752"
         },
         {
          "DiarienummerAnsokningsomgang": "2010-00754"
         },
         {
          "DiarienummerAnsokningsomgang": "2011-00183"
         },
         {
          "DiarienummerAnsokningsomgang": "2012-00060"
         },
         {
          "DiarienummerAnsokningsomgang": "2013-05655"
         },
         {
          "DiarienummerAnsokningsomgang": "2016-00088"
         },
         {
          "DiarienummerAnsokningsomgang": "2016-04931"
         }
        ],
        "Beskrivning": "EUREKA medfinansiering nätverksprojekt",
        "BeskrivningEngelska": "EUREKA cofunding individual projects",
        "Diarienummer": "2010-00741",
        "DiarienummerProgram": "2009-02150",
        "DokumentLista": [],
        "KontaktLista": [
         {
          "Epost": "peter.lindberg@vinnova.se",
          "KontaktID": 10767780,
          "Namn": "Peter Lindberg",
          "Roll": "Utlysningsansvarig",
          "Telefon": "46 8 473 3193"
         },
         {
          "Epost": "birgitta.lonne@vinnova.se",
          "KontaktID": 10767784,
          "Namn": "Birgitta Lonne",
          "Roll": "Administrativa frågor",
          "Telefon": "46 8 473 3116"
         },
         {
          "Epost": "elisabet.nielsen@vinnova.se",
          "KontaktID": 12283158,
          "Namn": "Elisabet Nielsen",
          "Roll": "Nationell projektkoordinator",
          "Telefon": "46 8 473 3107"
         },
         {
          "Epost": "tero.stjernstoft@vinnova.se",
          "KontaktID": 12283239,
          "Namn": "Tero Stjernstoft",
          "Roll": "Projekthandläggare produktion och material",
          "Telefon": "46 8 473 3296"
         }
        ],
        "LankLista": [],
        "Publiceringsdatum": "2018-02-09T14:30:11",
        "Publik": 1,
        "Titel": "EUREKA medfinansiering för nätverksprojekt",
        "TitelEngelska": "EUREKA cofunding individual projects"
       },
       {
        "AnsokningsomgangDnrLista": [
         {
          "DiarienummerAnsokningsomgang": "2010-01407"
         },
         {
          "DiarienummerAnsokningsomgang": "2012-00071"
         },
         {
          "DiarienummerAnsokningsomgang": "2013-03294"
         },
         {
          "DiarienummerAnsokningsomgang": "2014-01976"
         },
         {
          "DiarienummerAnsokningsomgang": "2018-00549"
         },
         {
          "DiarienummerAnsokningsomgang": "2018-02973"
         },
         {
          "DiarienummerAnsokningsomgang": "2018-04724"
         }
        ],
        "Beskrivning": "Behovsmotiverad genusforskning -övrigt",
        "BeskrivningEngelska": "x",
        "Diarienummer": "2010-01385",
        "DiarienummerProgram": "2009-02191",
        "DokumentLista": [],
        "KontaktLista": [],
        "LankLista": [],
        "Publiceringsdatum": "2018-11-16T11:00:14",
        "Publik": 1,
        "Titel": "Genus och Innovation -övrigt",
        "TitelEngelska": "x"
       },
       {
        "AnsokningsomgangDnrLista": [
         {
          "DiarienummerAnsokningsomgang": "2010-01402"
         },
         {
          "DiarienummerAnsokningsomgang": "2011-00207"
         },
         {
          "DiarienummerAnsokningsomgang": "2011-03331"
         },
         {
          "DiarienummerAnsokningsomgang": "2012-02030"
         },
         {
          "DiarienummerAnsokningsomgang": "2013-01367"
         },
         {
          "DiarienummerAnsokningsomgang": "2014-00047"
         }
        ],
        "Beskrivning": "Dynamiska innovationssystem i omvandling (DIO) - övrigt",
        "BeskrivningEngelska": "x",
        "Diarienummer": "2010-01399",
        "DiarienummerProgram": "2009-03168",
        "DokumentLista": [],
        "KontaktLista": [],
        "LankLista": [],
        "Publiceringsdatum": "2019-02-13T14:00:43",
        "Publik": 1,
        "Titel": "Dynamiska innovationssystem i omvandling (DIO) - övrigt (utl)",
        "TitelEngelska": "x"
       },
       {
        "AnsokningsomgangDnrLista": [
         {
          "DiarienummerAnsokningsomgang": "2010-01613"
         },
         {
          "DiarienummerAnsokningsomgang": "2010-02760"
         },
         {
          "DiarienummerAnsokningsomgang": "2012-02866"
         },
         {
          "DiarienummerAnsokningsomgang": "2012-04257"
         },
         {
          "DiarienummerAnsokningsomgang": "2013-00988"
         },
         {
          "DiarienummerAnsokningsomgang": "2014-00946"
         }
        ],
        "Beskrivning": "Industry Excellence Center",
        "BeskrivningEngelska": "Industry Excellence Center",
        "Diarienummer": "2010-01418",
        "DiarienummerProgram": "2010-01413",
        "DokumentLista": [],
        "KontaktLista": [],
        "LankLista": [],
        "Publiceringsdatum": "2014-02-04T16:14:04",
        "Publik": 1,
        "Titel": "Industry Excellence Center",
        "TitelEngelska": "Industry Excellence Center"
       },
       {
        "AnsokningsomgangDnrLista": [
         {
          "DiarienummerAnsokningsomgang": "2010-01472"
         },
         {
          "DiarienummerAnsokningsomgang": "2012-02393"
         },
         {
          "DiarienummerAnsokningsomgang": "2016-03087"
         },
         {
          "DiarienummerAnsokningsomgang": "2017-04948"
         },
         {
          "DiarienummerAnsokningsomgang": "2018-04660"
         }
        ],
        "Beskrivning": "Syftet med utlysningen är att etablera ett nationellt centrum och två kompletterande kompetenscentrum för finansmarknadsforskning.",
        "BeskrivningEngelska": "Center for Financial market research",
        "Diarienummer": "2010-01463",
        "DiarienummerProgram": "2010-01428",
        "DokumentLista": [
         {
          "Beskrivning": "Utlysningstext finansmarknadsforskning 100820",
          "DokumentID": "2010-01463_3",
          "FileName": "Utlysningstext finansmarknadsforskning100820(284292).pdf",
          "Titel": "Utlysningstext finansmarknadsforskning 100820",
          "fileURL": "https://data.vinnova.se/api/file/2010-01463_3"
         }
        ],
        "KontaktLista": [
         {
          "Epost": "joakim.appelquist@VINNOVA.se",
          "KontaktID": 10796556,
          "Namn": "Joakim Appelquist",
          "Roll": "Utlysningsansvarig",
          "Telefon": "08-4733098"
         },
         {
          "Epost": "joakim.appelquist@VINNOVA.se",
          "KontaktID": 10920996,
          "Namn": "Joakim Appelquist",
          "Roll": "",
          "Telefon": "  46 8 473 3098"
         }
        ],
        "LankLista": [],
        "Publiceringsdatum": "2019-02-06T21:00:19",
        "Publik": 1,
        "Titel": "Centrum för finansmarknadsforskning",
        "TitelEngelska": "Center for Financial market research"
       },
       {
        "AnsokningsomgangDnrLista": [
         {
          "DiarienummerAnsokningsomgang": "2010-01758"
         },
         {
          "DiarienummerAnsokningsomgang": "2011-01832"
         },
         {
          "DiarienummerAnsokningsomgang": "2012-02017"
         },
         {
          "DiarienummerAnsokningsomgang": "2013-00636"
         },
         {
          "DiarienummerAnsokningsomgang": "2014-00544"
         },
         {
          "DiarienummerAnsokningsomgang": "2014-06166"
         },
         {
          "DiarienummerAnsokningsomgang": "2015-02454"
         },
         {
          "DiarienummerAnsokningsomgang": "2015-06961"
         },
         {
          "DiarienummerAnsokningsomgang": "2016-05308"
         }
        ],
        "Beskrivning": "Produktion och Material Följdinvesteringar och udda ärenden",
        "BeskrivningEngelska": "Manufacturing and materials. Non regular applications",
        "Diarienummer": "2010-01757",
        "DiarienummerProgram": "2010-01747",
        "DokumentLista": [],
        "KontaktLista": [],
        "LankLista": [],
        "Publiceringsdatum": "2019-03-28T08:30:18",
        "Publik": 0,
        "Titel": "Utlysning. Produktion och Material Följdinvesteringar och udda ärenden",
        "TitelEngelska": "Manufacturing and materials. Non regular applications"
       },
       {
        "AnsokningsomgangDnrLista": [
         {
          "DiarienummerAnsokningsomgang": "2010-01763"
         },
         {
          "DiarienummerAnsokningsomgang": "2011-01119"
         }
        ],
        "Beskrivning": "Transport och Miljö Följdinvesteringar och udda ärenden",
        "BeskrivningEngelska": "Transport och Miljö Följdinvesteringar och udda ärenden",
        "Diarienummer": "2010-01762",
        "DiarienummerProgram": "2010-01749",
        "DokumentLista": [],
        "KontaktLista": [],
        "LankLista": [],
        "Publiceringsdatum": "2018-06-15T09:00:21",
        "Publik": 0,
        "Titel": "Transport och Miljö Följdinvesteringar och udda ärenden",
        "TitelEngelska": "Transport och Miljö Följdinvesteringar och udda ärenden"
       },
       {
        "AnsokningsomgangDnrLista": [
         {
          "DiarienummerAnsokningsomgang": "2010-02829"
         }
        ],
        "Beskrivning": "Innovation Radar är ett verktyg riktat till företag, utvecklat vid Kellogge university i USA. Nordic Innovation Center (NICe) koordinerar medverkan från företag i de nordiska länderna och motsvarande organisationer som VINNOVA ",
        "BeskrivningEngelska": "Innovation Radar",
        "Diarienummer": "2010-02603",
        "DiarienummerProgram": "2009-02173",
        "DokumentLista": [],
        "KontaktLista": [],
        "LankLista": [],
        "Publiceringsdatum": "2018-01-24T11:00:14",
        "Publik": 0,
        "Titel": "Innovation Radar - pilot",
        "TitelEngelska": "Innovation Radar"
       },
       {
        "AnsokningsomgangDnrLista": [
         {
          "DiarienummerAnsokningsomgang": "2011-01948"
         }
        ],
        "Beskrivning": "VINNOVAs finansiering av svenskt deltagande i transnationella projekt som initieras genom MNT ERA-NET Transnational Call 2011.",
        "BeskrivningEngelska": "MNT ERA-NET Transnational Call 2011",
        "Diarienummer": "2010-02884",
        "DiarienummerProgram": "2014-01140",
        "DokumentLista": [],
        "KontaktLista": [],
        "LankLista": [],
        "Publiceringsdatum": "2018-07-10T16:00:22",
        "Publik": 1,
        "Titel": "MNT ERA-NET Transnational Call 2011",
        "TitelEngelska": "MNT ERA-NET Transnational Call 2011"
       },
       {
        "AnsokningsomgangDnrLista": [],
        "Beskrivning": "Makulerad pga felregistreringInnovationslyftet - nyttiggörande av forskning för utveckling av organisationers innovationsförmåga",
        "BeskrivningEngelska": "Utilization of research for the development of organizations´ ability to innovate\r\n\r\n",
        "Diarienummer": "2011-01316",
        "DiarienummerProgram": "2009-02193",
        "DokumentLista": [],
        "KontaktLista": [],
        "LankLista": [],
        "Publiceringsdatum": "2019-03-14T09:00:20",
        "Publik": 1,
        "Titel": "Makulerad pga felregistrering. Innovationslyftet",
        "TitelEngelska": "Utilization of research for the development of organizations´ ability to innovate\r\n"
       },
       {
        "AnsokningsomgangDnrLista": [],
        "Beskrivning": "Utmaningsdriven innovation, utlysning våren 2011, samhällsutmaningar som tillväxtmöjligheter",
        "BeskrivningEngelska": "Challengedriven innovation",
        "Diarienummer": "2011-01546",
        "DiarienummerProgram": "2011-01544",
        "DokumentLista": [
         {
          "Beskrivning": "Utlysningstext Utmaningsdriven innovation 2011",
          "DokumentID": "2011-01546_1",
          "FileName": "Utlysningstext Utmaningsdriven Innovation  2011_ok.pdf(322881).pdf",
          "Titel": "Utlysningstext Utmaningsdriven innovation 2011",
          "fileURL": "https://data.vinnova.se/api/file/2011-01546_1"
         },
         {
          "Beskrivning": "Mall för projektbeskrivning projektform A",
          "DokumentID": "2011-01546_5",
          "FileName": "Projektmall för ansökan Projektform A(324741).doc",
          "Titel": "Mall för projektbeskrivning projektform A",
          "fileURL": "https://data.vinnova.se/api/file/2011-01546_5"
         },
         {
          "Beskrivning": "Mall för projektbeskrivning projektform B",
          "DokumentID": "2011-01546_6",
          "FileName": "Projektmall för ansökan Projektform B(324744).doc",
          "Titel": "Mall för projektbeskrivning projektform B",
          "fileURL": "https://data.vinnova.se/api/file/2011-01546_6"
         },
         {
          "Beskrivning": "Mall för budgetbilaga projektform B - rev 110831\r\n",
          "DokumentID": "2011-01546_9",
          "FileName": "UDI - mall för ansökan Projektform B budget ver 110831(335949).xls",
          "Titel": "Mall för budgetbilaga projektform B - rev 110831\r\n",
          "fileURL": "https://data.vinnova.se/api/file/2011-01546_9"
         }
        ],
        "KontaktLista": [
         {
          "Epost": "Jonas.Bjarne@VINNOVA.se",
          "KontaktID": 11010447,
          "Namn": "Jonas Bjarne",
          "Roll": "Informationssamhället 3.0",
          "Telefon": " 46 8473 3122"
         },
         {
          "Epost": "Rebecka.Engstrom@VINNOVA.se",
          "KontaktID": 11010448,
          "Namn": "Rebecka Engström",
          "Roll": "Hållbara attraktiva städer ",
          "Telefon": " 46 8 473 3169"
         },
         {
          "Epost": "Elisabet.Nielsen@VINNOVA.se",
          "KontaktID": 11010449,
          "Namn": "Elisabet  Nielsen",
          "Roll": "Framtidens hälsa och sjukvård ",
          "Telefon": " 46 8 473 3107"
         },
         {
          "Epost": "Daniel.Olausson@VINNOVA.se",
          "KontaktID": 11010450,
          "Namn": "Daniel Olausson",
          "Roll": "Konkurrenskraftig produktion",
          "Telefon": " 46 8 473 3184"
         },
         {
          "Epost": "Bengt.Larsson@VINNOVA.se",
          "KontaktID": 11010451,
          "Namn": "Bengt Larsson",
          "Roll": "Administrativa frågor",
          "Telefon": " 46 8 473 3114"
         },
         {
          "Epost": "Lena.Svendsen@VINNOVA.se",
          "KontaktID": 11054570,
          "Namn": "Lena  Svendsen",
          "Roll": "Utlysningsansvarig",
          "Telefon": " 46 8 473 3195"
         }
        ],
        "LankLista": [],
        "Publiceringsdatum": "2018-09-25T08:30:41",
        "Publik": 1,
        "Titel": "Utmaningsdriven innovation",
        "TitelEngelska": "Challengedriven innovation"
       },
       {
        "AnsokningsomgangDnrLista": [
         {
          "DiarienummerAnsokningsomgang": "2011-01553"
         },
         {
          "DiarienummerAnsokningsomgang": "2012-02216"
         },
         {
          "DiarienummerAnsokningsomgang": "2013-00518"
         },
         {
          "DiarienummerAnsokningsomgang": "2014-01287"
         },
         {
          "DiarienummerAnsokningsomgang": "2014-01288"
         }
        ],
        "Beskrivning": "Innovativa SMF utlysning 2011-2016  ÖVRIGA\r\n",
        "BeskrivningEngelska": "xx",
        "Diarienummer": "2011-01548",
        "DiarienummerProgram": "2009-02173",
        "DokumentLista": [],
        "KontaktLista": [],
        "LankLista": [],
        "Publiceringsdatum": "2018-03-08T11:00:07",
        "Publik": 0,
        "Titel": "Innovativa SMF utlysning 2011-2016 ÖVRIGA",
        "TitelEngelska": "xx"
       },
       {
        "AnsokningsomgangDnrLista": [
         {
          "DiarienummerAnsokningsomgang": "2011-01823"
         },
         {
          "DiarienummerAnsokningsomgang": "2011-02190"
         },
         {
          "DiarienummerAnsokningsomgang": "2012-00107"
         },
         {
          "DiarienummerAnsokningsomgang": "2012-00108"
         },
         {
          "DiarienummerAnsokningsomgang": "2013-01716"
         },
         {
          "DiarienummerAnsokningsomgang": "2014-00231"
         }
        ],
        "Beskrivning": "VINNOVA har inom programmet Innovationsupphandling öppnat utlysningen Upphandling av innovation. Avsikten är att ge incitament till upphandlande myndigheter att genomföra upphandling av innovation och att samverka i beställarnätverk. Utlysningen ska hjälpa till att hantera den risk som detta kan medföra.",
        "BeskrivningEngelska": "Procurement of innovation call",
        "Diarienummer": "2011-01807",
        "DiarienummerProgram": "2011-01793",
        "DokumentLista": [
         {
          "Beskrivning": "Utlysningstext Upphandling av innovation",
          "DokumentID": "2011-01807_6",
          "FileName": "Utlysning upphandling av innovation 2013-04-10(464915).pdf",
          "Titel": "Utlysning upphandling av innovation 2013-04-10",
          "fileURL": "https://data.vinnova.se/api/file/2011-01807_6"
         }
        ],
        "KontaktLista": [
         {
          "Epost": "nina.widmark@vinnova.se",
          "KontaktID": 11023035,
          "Namn": "Nina  Widmark",
          "Roll": "Utlysningsansvarig",
          "Telefon": "46 8 4733052"
         },
         {
          "Epost": "johan.lundstrom@vinnova.se",
          "KontaktID": 11168382,
          "Namn": "Johan Lundström",
          "Roll": "",
          "Telefon": "46 8 4733084"
         }
        ],
        "LankLista": [],
        "Publiceringsdatum": "2018-06-27T17:30:23",
        "Publik": 1,
        "Titel": "Upphandling av innovation",
        "TitelEngelska": "Procurement of innovation call"
       },
       {
        "AnsokningsomgangDnrLista": [
         {
          "DiarienummerAnsokningsomgang": "2011-02959"
         },
         {
          "DiarienummerAnsokningsomgang": "2013-02777"
         },
         {
          "DiarienummerAnsokningsomgang": "2015-06960"
         }
        ],
        "Beskrivning": "Bygginnovationen 2011-2018- utlysning",
        "BeskrivningEngelska": "Bygginnovationen 2011-2014",
        "Diarienummer": "2011-02947",
        "DiarienummerProgram": "2011-01385",
        "DokumentLista": [],
        "KontaktLista": [
         {
          "Epost": "lena.dalsmyr@vinnova.se",
          "KontaktID": 11054002,
          "Namn": "Lena Dalsmyr",
          "Roll": "Administratör, VINNOVA",
          "Telefon": "46 8 473 31 61"
         },
         {
          "Epost": "anna.land@iqs.se",
          "KontaktID": 12249136,
          "Namn": "Anna   Land",
          "Roll": "Bygginnovationens Programledning",
          "Telefon": "46 72-554 46 61"
         },
         {
          "Epost": "lejla.cengic@vinnova.se ",
          "KontaktID": 12607498,
          "Namn": "Lejla Cengic",
          "Roll": "Utlysningsansvarig på Vinnova",
          "Telefon": "46 8 473 30 10"
         }
        ],
        "LankLista": [
         {
          "Beskrivning": "Medlemsorganisationen Bygginnovationen",
          "URL": "http://www.bygginnovationen.se"
         }
        ],
        "Publiceringsdatum": "2018-02-09T16:00:25",
        "Publik": 1,
        "Titel": "Bygginnovationen 2011-2018 - utlysning",
        "TitelEngelska": "Bygginnovationen 2011-2014"
       },
       {
        "AnsokningsomgangDnrLista": [
         {
          "DiarienummerAnsokningsomgang": "2011-03401"
         },
         {
          "DiarienummerAnsokningsomgang": "2013-04911"
         },
         {
          "DiarienummerAnsokningsomgang": "2015-06845"
         }
        ],
        "Beskrivning": "Svensk-kinesiskt materialsamarbete",
        "BeskrivningEngelska": "Sino-Swedish collaboration and exchange on advanced materials",
        "Diarienummer": "2011-03397",
        "DiarienummerProgram": "2014-01140",
        "DokumentLista": [],
        "KontaktLista": [],
        "LankLista": [],
        "Publiceringsdatum": "2018-01-15T19:00:04",
        "Publik": 1,
        "Titel": "Svensk-kinesiskt materialsamarbete",
        "TitelEngelska": "Sino-Swedish collaboration and exchange on advanced materials"
       },
       {
        "AnsokningsomgangDnrLista": [
         {
          "DiarienummerAnsokningsomgang": "2012-01026"
         },
         {
          "DiarienummerAnsokningsomgang": "2013-00563"
         },
         {
          "DiarienummerAnsokningsomgang": "2014-02341"
         },
         {
          "DiarienummerAnsokningsomgang": "2016-02749"
         }
        ],
        "Beskrivning": "Knowledge Innovation Communities (KIC) - planeringsbidrag",
        "BeskrivningEngelska": "Knowledge Innovation Communities (KIC)",
        "Diarienummer": "2011-03827",
        "DiarienummerProgram": "2013-02062",
        "DokumentLista": [
         {
          "Beskrivning": "Planeringsbidrag KIC 2016",
          "DokumentID": "2011-03827_8",
          "FileName": "Utlysning 2016(730248).pdf",
          "Titel": "Utlysning 2016",
          "fileURL": "https://data.vinnova.se/api/file/2011-03827_8"
         }
        ],
        "KontaktLista": [
         {
          "Epost": "christian.hansen@vinnova.se",
          "KontaktID": 11149109,
          "Namn": "Christian  Hansen",
          "Roll": "Utlysningsansvarig",
          "Telefon": "46 8 545 15013"
         }
        ],
        "LankLista": [],
        "Publiceringsdatum": "2019-01-28T16:00:21",
        "Publik": 1,
        "Titel": "Knowledge Innovation Communities (KIC)",
        "TitelEngelska": "Knowledge Innovation Communities (KIC)"
       },
       {
        "AnsokningsomgangDnrLista": [],
        "Beskrivning": "Utmaningsdriven Innovation våren 2012",
        "BeskrivningEngelska": "Challengedriven Innovation spring 2012",
        "Diarienummer": "2011-04304",
        "DiarienummerProgram": "2011-01544",
        "DokumentLista": [
         {
          "Beskrivning": "Mall för personalbilaga",
          "DokumentID": "2011-04304_6",
          "FileName": "UDI - mall för personalbilaga Projektform B ver 120308.doc(381397).doc",
          "Titel": "Mall för personalbilaga",
          "fileURL": "https://data.vinnova.se/api/file/2011-04304_6"
         },
         {
          "Beskrivning": "Utlysningstext Utmaningsdriven Innovation, våren 2012, rev 120315",
          "DokumentID": "2011-04304_7",
          "FileName": "Utlysningstext Utmaningsdriven Innovation 120308.pdf(381401).pdf",
          "Titel": "Utlysningstext Utmaningsdriven Innovation, våren 2012, rev 120315",
          "fileURL": "https://data.vinnova.se/api/file/2011-04304_7"
         },
         {
          "Beskrivning": "Hjälptext ansökan portalen - UDI",
          "DokumentID": "2011-04304_8",
          "FileName": "Hjälptext ansökan portalen - UDI.pdf(383362).pdf",
          "Titel": "Hjälp till ansökningsfunktionen - UDI",
          "fileURL": "https://data.vinnova.se/api/file/2011-04304_8"
         },
         {
          "Beskrivning": "UDI - mall för ansökan Projektform B budget reviderad 120402\r\n\r\n* Layoutmässiga ändringar endast, t.ex. lagt till rubrik och numrering för Tabell 3",
          "DokumentID": "2011-04304_9",
          "FileName": "UDI - mall för ansökan Projektform B budget reviderad 120402.xls(383434).xls",
          "Titel": "UDI - mall för ansökan Projektform B budget reviderad 120402",
          "fileURL": "https://data.vinnova.se/api/file/2011-04304_9"
         }
        ],
        "KontaktLista": [
         {
          "Epost": "lena.svendsen@vinnova.se",
          "KontaktID": 11133923,
          "Namn": "Lena Svendsen",
          "Roll": "Utlysningsansvarig",
          "Telefon": " "
         },
         {
          "Epost": "daniel.olausson@vinnova.se",
          "KontaktID": 11133924,
          "Namn": "Daniel Olausson",
          "Roll": "Konkurrenskraftig Produktion",
          "Telefon": " 46 8 473 3184"
         },
         {
          "Epost": "rebecka.engstrom@vinnova.se",
          "KontaktID": 11133925,
          "Namn": "Rebecka Engström",
          "Roll": "Hållbara Attraktiva Städer",
          "Telefon": "46 8 473 3169"
         },
         {
          "Epost": "lars-gunnar.larsson@vinnova.se",
          "KontaktID": 11133926,
          "Namn": "Lars-Gunnar Larsson",
          "Roll": "Framtidens Hälsa och Sjukvård",
          "Telefon": "46 8 473 3137"
         },
         {
          "Epost": "peter.nou@vinnova.se",
          "KontaktID": 11133927,
          "Namn": "Peter Nõu",
          "Roll": "Informationssamhället 3.0",
          "Telefon": "46 8 473 3043"
         },
         {
          "Epost": "bengt.larsson@vinnova.se",
          "KontaktID": 11133928,
          "Namn": "Bengt Larsson",
          "Roll": "Administrativa frågor",
          "Telefon": "46 8 473 3114"
         },
         {
          "Epost": " ",
          "KontaktID": 11138113,
          "Namn": " Gruppnummer ",
          "Roll": " ",
          "Telefon": "46 8 473 32 33"
         }
        ],
        "LankLista": [],
        "Publiceringsdatum": "2018-09-25T09:00:04",
        "Publik": 1,
        "Titel": "Utmaningsdriven Innovation våren 2012",
        "TitelEngelska": "Challengedriven Innovation spring 2012"
       },
       {
        "AnsokningsomgangDnrLista": [
         {
          "DiarienummerAnsokningsomgang": "2012-00159"
         },
         {
          "DiarienummerAnsokningsomgang": "2013-00950"
         }
        ],
        "Beskrivning": "Nyckelaktörsprogrammet - övrigt utl",
        "BeskrivningEngelska": "Nyckelaktörsprogrammet - övrigt utl",
        "Diarienummer": "2012-00070",
        "DiarienummerProgram": "2009-02175",
        "DokumentLista": [],
        "KontaktLista": [],
        "LankLista": [],
        "Publiceringsdatum": "2015-05-21T10:31:41",
        "Publik": 0,
        "Titel": "Nyckelaktörsprogrammet - övrigt utl",
        "TitelEngelska": "Nyckelaktörsprogrammet - övrigt utl"
       },
       {
        "AnsokningsomgangDnrLista": [
         {
          "DiarienummerAnsokningsomgang": "2012-00129"
         },
         {
          "DiarienummerAnsokningsomgang": "2012-00130"
         },
         {
          "DiarienummerAnsokningsomgang": "2012-01763"
         },
         {
          "DiarienummerAnsokningsomgang": "2012-01764"
         }
        ],
        "Beskrivning": "För varje Berzelii Center finns det avsatt 4 Mkr per centrum för kommersialisering av resultat uppkomna i respektive centrum. Medlen finns tillgängliga när respektive center har startat Etapp 3 med underskrivet avtal samt godkänd verksamhetsplan.",
        "BeskrivningEngelska": "NA",
        "Diarienummer": "2012-00098",
        "DiarienummerProgram": "2009-02167",
        "DokumentLista": [],
        "KontaktLista": [],
        "LankLista": [],
        "Publiceringsdatum": "2015-02-20T12:30:27",
        "Publik": 1,
        "Titel": "Berzelii Centra 2005 - kommersialiseringsmedel 2012 - 2016",
        "TitelEngelska": "NA"
       },
       {
        "AnsokningsomgangDnrLista": [
         {
          "DiarienummerAnsokningsomgang": "2012-01002"
         },
         {
          "DiarienummerAnsokningsomgang": "2013-00157"
         }
        ],
        "Beskrivning": "Testbäddar inom hälso- och sjukvård och äldreomsorg",
        "BeskrivningEngelska": "Testbeds in healthcare",
        "Diarienummer": "2012-00657",
        "DiarienummerProgram": "2009-02225",
        "DokumentLista": [
         {
          "Beskrivning": "Testbäddar inom hälso- och sjukvård och äldreomsorg 2013 -utlysningstext",
          "DokumentID": "2012-00657_19",
          "FileName": "Utlysningstext Testbäddar 2013 20 feb(453788).pdf",
          "Titel": "Testbäddar inom hälso- och sjukvård och äldreomsorg 2013 -utlysningstext",
          "fileURL": "https://data.vinnova.se/api/file/2012-00657_19"
         },
         {
          "Beskrivning": "Testbäddar inom hälso- och sjukvård och äldreomsorg 2013 - budgetmall",
          "DokumentID": "2012-00657_20",
          "FileName": "Budgetmall Testbäddar inom hälso- och sjukvård och äldreomsorg 2013 (4)(453790).docx",
          "Titel": "Testbäddar inom hälso- och sjukvård och äldreomsorg 2013 -budgetmall",
          "fileURL": "https://data.vinnova.se/api/file/2012-00657_20"
         },
         {
          "Beskrivning": "Testbäddar inom hälso- och sjukvård och äldreomsorg 2013 - projektbeskrivningsmall",
          "DokumentID": "2012-00657_21",
          "FileName": "Projektbeskrivningsmall Testbäddar inom hälso- och sjukvården och äldreomsorgen 2013(453793).doc",
          "Titel": "Testbäddar inom hälso- och sjukvård och äldreomsorg 2013 - projektbeskrivningsmall",
          "fileURL": "https://data.vinnova.se/api/file/2012-00657_21"
         }
        ],
        "KontaktLista": [
         {
          "Epost": "Elisabet.Nielsen@VINNOVA.se",
          "KontaktID": 11143021,
          "Namn": "Elisabet Nielsen",
          "Roll": "Utlysningsansvarig",
          "Telefon": "46 8 473 3107"
         },
         {
          "Epost": "Johanna.Ulfvarson@VINNOVA.se",
          "KontaktID": 11143022,
          "Namn": "Johanna Ulfvarson",
          "Roll": "",
          "Telefon": "46 8 473 3218"
         },
         {
          "Epost": "Kerstin.Fröjd@VINNOVA.se",
          "KontaktID": 11143026,
          "Namn": "Kerstin Fröjd",
          "Roll": "Administrativa frågor",
          "Telefon": "46 8 473 3027"
         },
         {
          "Epost": "Karin.Eriksson@VINNOVA.se",
          "KontaktID": 11315412,
          "Namn": "Karin  Eriksson",
          "Roll": "",
          "Telefon": "46 8 473 3109"
         }
        ],
        "LankLista": [],
        "Publiceringsdatum": "2018-04-18T14:00:33",
        "Publik": 1,
        "Titel": "Testbäddar inom hälso- och sjukvård och äldreomsorg",
        "TitelEngelska": "Testbeds in healthcare"
       },
       {
        "AnsokningsomgangDnrLista": [
         {
          "DiarienummerAnsokningsomgang": "2012-03376"
         },
         {
          "DiarienummerAnsokningsomgang": "2012-03377"
         },
         {
          "DiarienummerAnsokningsomgang": "2012-03378"
         },
         {
          "DiarienummerAnsokningsomgang": "2012-03380"
         },
         {
          "DiarienummerAnsokningsomgang": "2014-00768"
         },
         {
          "DiarienummerAnsokningsomgang": "2014-06287"
         },
         {
          "DiarienummerAnsokningsomgang": "2015-03917"
         },
         {
          "DiarienummerAnsokningsomgang": "2015-07082"
         }
        ],
        "Beskrivning": "VINNMER Marie Curie Incoming",
        "BeskrivningEngelska": "VINNMER Marie Curie Incoming",
        "Diarienummer": "2012-00704",
        "DiarienummerProgram": "2011-02127",
        "DokumentLista": [
         {
          "Beskrivning": "VINNMER Marie Curie Incoming – Call for proposals",
          "DokumentID": "2012-00704_20",
          "FileName": "VINNMER Marie Curie Incoming call 2015-04-15 FINAL.pdf(647008).pdf",
          "Titel": "VINNMER Marie Curie Incoming – Call for proposals",
          "fileURL": "https://data.vinnova.se/api/file/2012-00704_20"
         },
         {
          "Beskrivning": "REA annex II",
          "DokumentID": "2012-00704_5",
          "FileName": "rea-annex2-mc-mono-v3_en.pdf(440102).pdf",
          "Titel": "REA annex II",
          "fileURL": "https://data.vinnova.se/api/file/2012-00704_5"
         },
         {
          "Beskrivning": "REA annex III",
          "DokumentID": "2012-00704_6",
          "FileName": "rea-annex3-mc-cofund-mono-v4_en.pdf(440103).pdf",
          "Titel": "REA annex III",
          "fileURL": "https://data.vinnova.se/api/file/2012-00704_6"
         },
         {
          "Beskrivning": "Ethical issues table",
          "DokumentID": "2012-00704_7",
          "FileName": "Ethical issues table.docx(440333).docx",
          "Titel": "Ethical issues table",
          "fileURL": "https://data.vinnova.se/api/file/2012-00704_7"
         },
         {
          "Beskrivning": "Template Project description",
          "DokumentID": "2012-00704_8",
          "FileName": "Template Project description.docx(440334).docx",
          "Titel": "Template Project description",
          "fileURL": "https://data.vinnova.se/api/file/2012-00704_8"
         }
        ],
        "KontaktLista": [
         {
          "Epost": "erik.litborn@VINNOVA.se",
          "KontaktID": 11273330,
          "Namn": "Erik Litborn",
          "Roll": "Programme Director",
          "Telefon": " 46 8 473 3198"
         },
         {
          "Epost": "katrin.danerlov@VINNOVA.se",
          "KontaktID": 11273340,
          "Namn": "Katrin Danerlöv",
          "Roll": "Programme Manager",
          "Telefon": "46 8 473 3026"
         },
         {
          "Epost": "ebba.lindegren@VINNOVA.se",
          "KontaktID": 11595335,
          "Namn": "Ebba Lindegren",
          "Roll": "Programme Manager",
          "Telefon": "46 8 473 3246"
         },
         {
          "Epost": "tommy.schonberg@VINNOVA.se",
          "KontaktID": 11595463,
          "Namn": "Tommy Schönberg",
          "Roll": "Programme Manager",
          "Telefon": "46 8 473 3030"
         },
         {
          "Epost": "eva.nystrom@VINNOVA.se",
          "KontaktID": 11640279,
          "Namn": "Eva Nyström",
          "Roll": "Administrator",
          "Telefon": "46 8 4733121"
         },
         {
          "Epost": "lena.rimsten@VINNOVA.se",
          "KontaktID": 11701538,
          "Namn": "Lena Rimsten",
          "Roll": "Programme Manager",
          "Telefon": "46 8 473 31 24"
         }
        ],
        "LankLista": [],
        "Publiceringsdatum": "2018-10-22T10:00:32",
        "Publik": 1,
        "Titel": "VINNMER Marie Curie Incoming",
        "TitelEngelska": "VINNMER Marie Curie Incoming"
       },
       {
        "AnsokningsomgangDnrLista": [
         {
          "DiarienummerAnsokningsomgang": "2012-03381"
         },
         {
          "DiarienummerAnsokningsomgang": "2012-03382"
         },
         {
          "DiarienummerAnsokningsomgang": "2012-03384"
         },
         {
          "DiarienummerAnsokningsomgang": "2012-03385"
         },
         {
          "DiarienummerAnsokningsomgang": "2014-00776"
         },
         {
          "DiarienummerAnsokningsomgang": "2014-06289"
         },
         {
          "DiarienummerAnsokningsomgang": "2015-03915"
         },
         {
          "DiarienummerAnsokningsomgang": "2015-07085"
         }
        ],
        "Beskrivning": "VINNMER Marie Curie Industry Outgoing",
        "BeskrivningEngelska": "VINNMER Marie Curie Industry Outgoing",
        "Diarienummer": "2012-00707",
        "DiarienummerProgram": "2011-02127",
        "DokumentLista": [
         {
          "Beskrivning": "VINNMER Marie Curie Industry Outgoing – Call for proposals",
          "DokumentID": "2012-00707_16",
          "FileName": "VINNMER Marie Curie Industry Outgoing call 2015-04-15 FINAL.pdf(647012).pdf",
          "Titel": "VINNMER Marie Curie Industry Outgoing – Call for proposals",
          "fileURL": "https://data.vinnova.se/api/file/2012-00707_16"
         },
         {
          "Beskrivning": "REA AnnexII",
          "DokumentID": "2012-00707_5",
          "FileName": "rea-annex2-mc-mono-v3_en.pdf(440104).pdf",
          "Titel": "REA AnnexII",
          "fileURL": "https://data.vinnova.se/api/file/2012-00707_5"
         },
         {
          "Beskrivning": "REA annex III",
          "DokumentID": "2012-00707_6",
          "FileName": "rea-annex3-mc-cofund-mono-v4_en.pdf(440105).pdf",
          "Titel": "REA annex III",
          "fileURL": "https://data.vinnova.se/api/file/2012-00707_6"
         },
         {
          "Beskrivning": "Ethical issues table",
          "DokumentID": "2012-00707_7",
          "FileName": "Ethical issues table.docx(440335).docx",
          "Titel": "Ethical issues table",
          "fileURL": "https://data.vinnova.se/api/file/2012-00707_7"
         },
         {
          "Beskrivning": "Template Project description",
          "DokumentID": "2012-00707_8",
          "FileName": "Template Project description.docx(440336).docx",
          "Titel": "Template Project description",
          "fileURL": "https://data.vinnova.se/api/file/2012-00707_8"
         }
        ],
        "KontaktLista": [
         {
          "Epost": "erik.litborn@VINNOVA.se",
          "KontaktID": 11273343,
          "Namn": "Erik Litborn",
          "Roll": "Programme Director",
          "Telefon": "46 8 473 3198"
         },
         {
          "Epost": "katrin.danerlov@VINNOVA.se",
          "KontaktID": 11273346,
          "Namn": "Katrin Danerlöv",
          "Roll": "Programme Manager",
          "Telefon": "46 8 473 3026"
         },
         {
          "Epost": "ebba.lindegren@VINNOVA.se",
          "KontaktID": 11595336,
          "Namn": "Ebba Lindegren",
          "Roll": "Programme Manager",
          "Telefon": "46 8 473 3246"
         },
         {
          "Epost": "tommy.schonberg@VINNOVA.se",
          "KontaktID": 11595467,
          "Namn": "Tommy Schönberg",
          "Roll": "Programme Manager",
          "Telefon": "46 8 473 3030"
         },
         {
          "Epost": "eva.nystrom@VINNOVA.se",
          "KontaktID": 11640284,
          "Namn": "Eva Nyström",
          "Roll": "Administrator",
          "Telefon": "46 8 4733121"
         },
         {
          "Epost": "lena.rimsten@VINNOVA.se",
          "KontaktID": 11701539,
          "Namn": "Lena Rimsten",
          "Roll": "Programme Manager",
          "Telefon": "46 8 473 31 24"
         }
        ],
        "LankLista": [],
        "Publiceringsdatum": "2016-12-19T09:30:06",
        "Publik": 1,
        "Titel": "VINNMER Marie Curie Industry Outgoing",
        "TitelEngelska": "VINNMER Marie Curie Industry Outgoing"
       },
       {
        "AnsokningsomgangDnrLista": [
         {
          "DiarienummerAnsokningsomgang": "2012-00873"
         },
         {
          "DiarienummerAnsokningsomgang": "2013-00965"
         }
        ],
        "Beskrivning": "Miljöteknikuppdraget export",
        "BeskrivningEngelska": "x",
        "Diarienummer": "2012-00870",
        "DiarienummerProgram": "2009-02919",
        "DokumentLista": [],
        "KontaktLista": [],
        "LankLista": [],
        "Publiceringsdatum": "2018-06-14T14:00:27",
        "Publik": 1,
        "Titel": "Miljöteknikuppdraget export",
        "TitelEngelska": "x"
       },
       {
        "AnsokningsomgangDnrLista": [
         {
          "DiarienummerAnsokningsomgang": "2012-01127"
         },
         {
          "DiarienummerAnsokningsomgang": "2012-01128"
         },
         {
          "DiarienummerAnsokningsomgang": "2012-01571"
         },
         {
          "DiarienummerAnsokningsomgang": "2012-01583"
         },
         {
          "DiarienummerAnsokningsomgang": "2012-01587"
         },
         {
          "DiarienummerAnsokningsomgang": "2012-02031"
         },
         {
          "DiarienummerAnsokningsomgang": "2012-02368"
         }
        ],
        "Beskrivning": "Innovation och Design 2012",
        "BeskrivningEngelska": "Innovation och Design 2012",
        "Diarienummer": "2012-01120",
        "DiarienummerProgram": "2009-02190",
        "DokumentLista": [
         {
          "Beskrivning": " Innovation och Design 2012 - utlysningstext",
          "DokumentID": "2012-01120_2",
          "FileName": "Utlysning KKN - Innovation och Design 2012_FINAL(391192).pdf",
          "Titel": " Innovation och Design 2012 - utlysningstext",
          "fileURL": "https://data.vinnova.se/api/file/2012-01120_2"
         }
        ],
        "KontaktLista": [
         {
          "Epost": "Tony.Friede@VINNOVA.se",
          "KontaktID": 11166897,
          "Namn": "Tony Friede",
          "Roll": "Utlysningsansvarig",
          "Telefon": "46 8 473 32 38"
         },
         {
          "Epost": "Birgitta.Lonne@VINNOVA.se",
          "KontaktID": 11166898,
          "Namn": "Birgitta Lonne",
          "Roll": "Administrativa frågor",
          "Telefon": "46 8 473 31 16"
         }
        ],
        "LankLista": [],
        "Publiceringsdatum": "2019-03-28T08:30:16",
        "Publik": 1,
        "Titel": "Innovation och Design 2012",
        "TitelEngelska": "Innovation och Design 2012"
       },
       {
        "AnsokningsomgangDnrLista": [
         {
          "DiarienummerAnsokningsomgang": "2012-02884"
         }
        ],
        "Beskrivning": "Möjliggörande elektronik ",
        "BeskrivningEngelska": "x",
        "Diarienummer": "2012-01742",
        "DiarienummerProgram": "2009-02186",
        "DokumentLista": [],
        "KontaktLista": [],
        "LankLista": [],
        "Publiceringsdatum": "2018-07-22T07:30:27",
        "Publik": 1,
        "Titel": "Möjliggörande elektronik ",
        "TitelEngelska": "x"
       },
       {
        "AnsokningsomgangDnrLista": [
         {
          "DiarienummerAnsokningsomgang": "2012-02172"
         }
        ],
        "Beskrivning": "VINNOVA - JSPS Joint Projects 2012",
        "BeskrivningEngelska": "VINNOVA - JSPS Joint Projects 2012",
        "Diarienummer": "2012-02120",
        "DiarienummerProgram": "2011-00500",
        "DokumentLista": [],
        "KontaktLista": [
         {
          "Epost": "birgitta.boman@vinnova.se",
          "KontaktID": 11187630,
          "Namn": "Birgitta Boman",
          "Roll": "",
          "Telefon": "46 8 473 30 17"
         },
         {
          "Epost": "henrik.friden@vinnova.se",
          "KontaktID": 11187631,
          "Namn": "Henrik Fridén",
          "Roll": "",
          "Telefon": "46 8 473 31 54"
         }
        ],
        "LankLista": [],
        "Publiceringsdatum": "2018-06-18T09:30:28",
        "Publik": 1,
        "Titel": "VINNOVA - JSPS Joint Projects 2012",
        "TitelEngelska": "VINNOVA - JSPS Joint Projects 2012"
       },
       {
        "AnsokningsomgangDnrLista": [
         {
          "DiarienummerAnsokningsomgang": "2012-02142"
         },
         {
          "DiarienummerAnsokningsomgang": "2012-02563"
         }
        ],
        "Beskrivning": "Finanskonferens",
        "BeskrivningEngelska": "Conference in Finance",
        "Diarienummer": "2012-02134",
        "DiarienummerProgram": "2010-01428",
        "DokumentLista": [],
        "KontaktLista": [],
        "LankLista": [],
        "Publiceringsdatum": "2018-11-13T13:30:21",
        "Publik": 0,
        "Titel": "Finanskonferens",
        "TitelEngelska": "Conference in Finance"
       },
       {
        "AnsokningsomgangDnrLista": [
         {
          "DiarienummerAnsokningsomgang": "2012-02845"
         },
         {
          "DiarienummerAnsokningsomgang": "2017-01936"
         }
        ],
        "Beskrivning": "VINNVÄXT 2003  Över- och uppväxling",
        "BeskrivningEngelska": "VINNVÄXT 2003 Extended",
        "Diarienummer": "2012-02197",
        "DiarienummerProgram": "2002-00568",
        "DokumentLista": [],
        "KontaktLista": [],
        "LankLista": [],
        "Publiceringsdatum": "2018-05-17T09:00:23",
        "Publik": 1,
        "Titel": "VINNVÄXT 2003 Över- och uppväxling",
        "TitelEngelska": "VINNVÄXT 2003 Extended"
       },
       {
        "AnsokningsomgangDnrLista": [
         {
          "DiarienummerAnsokningsomgang": "2012-03983"
         },
         {
          "DiarienummerAnsokningsomgang": "2014-02955"
         },
         {
          "DiarienummerAnsokningsomgang": "2014-05350"
         },
         {
          "DiarienummerAnsokningsomgang": "2018-03626"
         },
         {
          "DiarienummerAnsokningsomgang": "2018-04583"
         }
        ],
        "Beskrivning": "CLOSER",
        "BeskrivningEngelska": "x",
        "Diarienummer": "2012-02279",
        "DiarienummerProgram": "2003-00314",
        "DokumentLista": [],
        "KontaktLista": [],
        "LankLista": [],
        "Publiceringsdatum": "2018-11-06T10:00:29",
        "Publik": 1,
        "Titel": "CLOSER",
        "TitelEngelska": "x"
       },
       {
        "AnsokningsomgangDnrLista": [
         {
          "DiarienummerAnsokningsomgang": "2012-02995"
         },
         {
          "DiarienummerAnsokningsomgang": "2013-00673"
         }
        ],
        "Beskrivning": "Testbäddar särskilda insatser",
        "BeskrivningEngelska": "Testbäddar särskilda insatser",
        "Diarienummer": "2012-02967",
        "DiarienummerProgram": "2009-02225",
        "DokumentLista": [],
        "KontaktLista": [],
        "LankLista": [],
        "Publiceringsdatum": "2018-04-17T13:00:08",
        "Publik": 0,
        "Titel": "Testbäddar särskilda insatser",
        "TitelEngelska": "Testbäddar särskilda insatser"
       },
       {
        "AnsokningsomgangDnrLista": [
         {
          "DiarienummerAnsokningsomgang": "2012-03313"
         },
         {
          "DiarienummerAnsokningsomgang": "2013-04824"
         }
        ],
        "Beskrivning": "MAX IV 2011-2015",
        "BeskrivningEngelska": "MAX IV 2011-2015",
        "Diarienummer": "2012-03248",
        "DiarienummerProgram": "2012-03094",
        "DokumentLista": [],
        "KontaktLista": [],
        "LankLista": [],
        "Publiceringsdatum": "2018-08-23T17:00:30",
        "Publik": 0,
        "Titel": "MAX IV 2011-2015",
        "TitelEngelska": "MAX IV 2011-2015"
       },
       {
        "AnsokningsomgangDnrLista": [
         {
          "DiarienummerAnsokningsomgang": "2012-03593"
         },
         {
          "DiarienummerAnsokningsomgang": "2018-02063"
         }
        ],
        "Beskrivning": "Barns och ungdomars psykiska hälsa - samverkansprogram",
        "BeskrivningEngelska": "Barns och ungdomars psykiska hälsa - samverkansprogram",
        "Diarienummer": "2012-03581",
        "DiarienummerProgram": "2003-00409",
        "DokumentLista": [],
        "KontaktLista": [],
        "LankLista": [],
        "Publiceringsdatum": "2018-09-21T13:00:25",
        "Publik": 0,
        "Titel": "Barns och ungdomars psykiska hälsa - samverkansprogram",
        "TitelEngelska": "Barns och ungdomars psykiska hälsa - samverkansprogram"
       },
       {
        "AnsokningsomgangDnrLista": [
         {
          "DiarienummerAnsokningsomgang": "2012-03708"
         }
        ],
        "Beskrivning": "Kunskapsluckor implementering",
        "BeskrivningEngelska": "Kunskapsluckor implementering",
        "Diarienummer": "2012-03706",
        "DiarienummerProgram": "2003-00409",
        "DokumentLista": [],
        "KontaktLista": [],
        "LankLista": [],
        "Publiceringsdatum": "2018-02-09T07:30:23",
        "Publik": 0,
        "Titel": "Kunskapsluckor implementering",
        "TitelEngelska": "Kunskapsluckor implementering"
       },
       {
        "AnsokningsomgangDnrLista": [
         {
          "DiarienummerAnsokningsomgang": "2012-04393"
         },
         {
          "DiarienummerAnsokningsomgang": "2017-02175"
         },
         {
          "DiarienummerAnsokningsomgang": "2017-04965"
         },
         {
          "DiarienummerAnsokningsomgang": "2018-02474"
         }
        ],
        "Beskrivning": "Urban Europe",
        "BeskrivningEngelska": "Urban Europe",
        "Diarienummer": "2012-04392",
        "DiarienummerProgram": "2009-02218",
        "DokumentLista": [],
        "KontaktLista": [],
        "LankLista": [],
        "Publiceringsdatum": "2018-06-15T18:30:04",
        "Publik": 1,
        "Titel": "Urban Europe",
        "TitelEngelska": "Urban Europe"
       },
       {
        "AnsokningsomgangDnrLista": [
         {
          "DiarienummerAnsokningsomgang": "2013-00056"
         },
         {
          "DiarienummerAnsokningsomgang": "2013-04609"
         },
         {
          "DiarienummerAnsokningsomgang": "2016-04744"
         }
        ],
        "Beskrivning": "BONUS Baltic Sea",
        "BeskrivningEngelska": "BONUS Baltic Sea",
        "Diarienummer": "2013-00040",
        "DiarienummerProgram": "2009-02218",
        "DokumentLista": [],
        "KontaktLista": [],
        "LankLista": [],
        "Publiceringsdatum": "2018-05-08T14:00:12",
        "Publik": 1,
        "Titel": "BONUS Baltic Sea",
        "TitelEngelska": "BONUS Baltic Sea"
       },
       {
        "AnsokningsomgangDnrLista": [
         {
          "DiarienummerAnsokningsomgang": "2013-00066"
         },
         {
          "DiarienummerAnsokningsomgang": "2013-00198"
         }
        ],
        "Beskrivning": "VINN-Verifiering 2013",
        "BeskrivningEngelska": "VINN-Verifiering 2013",
        "Diarienummer": "2013-00065",
        "DiarienummerProgram": "2009-02171",
        "DokumentLista": [
         {
          "Beskrivning": "VINN-Verifiering 2013 - utlysningstext. Rev 130627.",
          "DokumentID": "2013-00065_9",
          "FileName": "Utlysningstext VFT-2_ 130617(485462).pdf",
          "Titel": "VINN-Verifiering 2013 - utlysningstext. Rev 130627.",
          "fileURL": "https://data.vinnova.se/api/file/2013-00065_9"
         }
        ],
        "KontaktLista": [
         {
          "Epost": "eva.lonnblom@vinnova.se",
          "KontaktID": 11289761,
          "Namn": "Eva Lönnblom",
          "Roll": "Administrativa frågor",
          "Telefon": "46 8 473 32 97"
         },
         {
          "Epost": "anna.tegnesjo@vinnova.se",
          "KontaktID": 11387929,
          "Namn": "Anna Tegnesjö",
          "Roll": "Utlysningsansvarig och Life Science",
          "Telefon": "48 8 473 31 62"
         },
         {
          "Epost": "mats.robertsson@vinnova.se",
          "KontaktID": 11387930,
          "Namn": "Mats Robertsson",
          "Roll": "Produktion och Arbetsliv",
          "Telefon": "46 8 473 30 78"
         },
         {
          "Epost": "tony.fride@vinnova.se",
          "KontaktID": 11387932,
          "Namn": "Tony Fride",
          "Roll": "Tjänster och IKT",
          "Telefon": "46 8 473 32 38"
         },
         {
          "Epost": "claes.deserves@vinnova.se",
          "KontaktID": 11387938,
          "Namn": "Claes de Serves",
          "Roll": "Transport och Miljö",
          "Telefon": "46 8 473 32 21"
         }
        ],
        "LankLista": [],
        "Publiceringsdatum": "2018-07-16T17:00:23",
        "Publik": 1,
        "Titel": "VINN-Verifiering 2013",
        "TitelEngelska": "VINN-Verifiering 2013"
       },
       {
        "AnsokningsomgangDnrLista": [
         {
          "DiarienummerAnsokningsomgang": "2013-00242"
         },
         {
          "DiarienummerAnsokningsomgang": "2013-04436"
         },
         {
          "DiarienummerAnsokningsomgang": "2016-04046"
         },
         {
          "DiarienummerAnsokningsomgang": "2017-01085"
         }
        ],
        "Beskrivning": "Indo-Swedish Innovation Call: Health and Disease prevention",
        "BeskrivningEngelska": "Indo-Swedish Innovation Call: Health and Disease prevention",
        "Diarienummer": "2013-00194",
        "DiarienummerProgram": "2003-00409",
        "DokumentLista": [
         {
          "Beskrivning": "Vinnovas guide till stödberättigande kostnader",
          "DokumentID": "2013-00194_10",
          "FileName": "Guide_till_Vinnovas_villkor_om_stodberattigande_kostnader_2016-04-11.pdf(751155).pdf",
          "Titel": "Vinnovas guide till stödberättigande kostnader",
          "fileURL": "https://data.vinnova.se/api/file/2013-00194_10"
         },
         {
          "Beskrivning": "Stödnivåer statligt stöd",
          "DokumentID": "2013-00194_11",
          "FileName": "Tabell_stodnivaer_statligt_stod.pdf(751156).pdf",
          "Titel": "Stödnivåer statligt stöd",
          "fileURL": "https://data.vinnova.se/api/file/2013-00194_11"
         },
         {
          "Beskrivning": "Utlysningstext Indo-Swedish Innovation Call: Health and Disease Prevention 2017-2020",
          "DokumentID": "2013-00194_12",
          "FileName": "Strategic_Indo_Swedish_third_call160923.pdf(752151).pdf",
          "Titel": "Utlysningstext Indo-Swedish Innovation Call: Health and Disease Prevention 2017-2020",
          "fileURL": "https://data.vinnova.se/api/file/2013-00194_12"
         },
         {
          "Beskrivning": "Ansökningsmall Indo-Swedish innovation Call: Health and Disease Prevention 2017-2020",
          "DokumentID": "2013-00194_7",
          "FileName": "India-Sweden Proposal Form 2016-09-06.doc(752184).doc",
          "Titel": "Ansökningsmall Indo-Swedish innovation Call: Health and Disease Prevention 2017-2020",
          "fileURL": "https://data.vinnova.se/api/file/2013-00194_7"
         },
         {
          "Beskrivning": "CV - Indo-Swedsih Innovation Call: Health and Disease Prevention 2017-2020",
          "DokumentID": "2013-00194_8",
          "FileName": "Indo-Swedish Innovation Call - mall CV.doc(751152).doc",
          "Titel": "CV - Indo-Swedsih Innovation Call: Health and Disease Prevention 2017-2020",
          "fileURL": "https://data.vinnova.se/api/file/2013-00194_8"
         },
         {
          "Beskrivning": "General terms Vinnova",
          "DokumentID": "2013-00194_9",
          "FileName": "General_terms_Vinnova_2016.pdf(751153).pdf",
          "Titel": "General terms Vinnova",
          "fileURL": "https://data.vinnova.se/api/file/2013-00194_9"
         }
        ],
        "KontaktLista": [
         {
          "Epost": "sofia.norberg@vinnova.se",
          "KontaktID": 12259921,
          "Namn": "Sofia Norberg",
          "Roll": "Ansvarig för utlysningen",
          "Telefon": " 46 8 473 32 95"
         },
         {
          "Epost": "christian.hansen@vinnova.se",
          "KontaktID": 12263865,
          "Namn": "Christian  Hansen",
          "Roll": "Internationella samarbeten - Indien",
          "Telefon": "46 8 473 31 12"
         }
        ],
        "LankLista": [],
        "Publiceringsdatum": "2017-06-09T12:00:22",
        "Publik": 1,
        "Titel": "Indo-Swedish Innovation Call: Health and Disease prevention",
        "TitelEngelska": "Indo-Swedish Innovation Call: Health and Disease prevention"
       },
       {
        "AnsokningsomgangDnrLista": [
         {
          "DiarienummerAnsokningsomgang": "2013-01395"
         },
         {
          "DiarienummerAnsokningsomgang": "2013-04687"
         }
        ],
        "Beskrivning": "Transport- och miljöinnovationer 2013",
        "BeskrivningEngelska": "x",
        "Diarienummer": "2013-00688",
        "DiarienummerProgram": "2013-00117",
        "DokumentLista": [
         {
          "Beskrivning": "Mall för ansökningar inom utlysningen Transport- och miljöinnovationer 2013 - reviderad",
          "DokumentID": "2013-00688_5",
          "FileName": "Mall för ansökningar 2013_v2.docx(462633).docx",
          "Titel": "Mall för ansökningar inom utlysningen Transport- och miljöinnovationer 2013",
          "fileURL": "https://data.vinnova.se/api/file/2013-00688_5"
         },
         {
          "Beskrivning": "Transport- och miljöinnovationer 2013 - utlysningstext reviderad 2013-04-15",
          "DokumentID": "2013-00688_7",
          "FileName": "IHS2013  Utlysningstext_20130425.pdf(470110).pdf",
          "Titel": "Transport- och miljöinnovationer 2013 - utlysningstext reviderad 2013-04-15",
          "fileURL": "https://data.vinnova.se/api/file/2013-00688_7"
         }
        ],
        "KontaktLista": [
         {
          "Epost": "Sebastian.Axelsson@VINNOVA.se",
          "KontaktID": 11329431,
          "Namn": "Sebastian Axelsson",
          "Roll": "Utlysningsansvarig",
          "Telefon": "46 8 473 31 71"
         },
         {
          "Epost": "Rebecka.Engstrom@VINNOVA.se",
          "KontaktID": 11329432,
          "Namn": "Rebecka Engström",
          "Roll": "Utlysningsansvarig",
          "Telefon": "46 8 473 31 69"
         },
         {
          "Epost": "Rein.Juriado@VINNOVA.se",
          "KontaktID": 11329436,
          "Namn": "Rein Jüriado",
          "Roll": "Utlysningsansvarig",
          "Telefon": "46 8 473 30 39 "
         },
         {
          "Epost": "Lena.Dalsmyr@vinnova.se",
          "KontaktID": 11329437,
          "Namn": "Lena Dalsmyr",
          "Roll": "Administrativa frågor",
          "Telefon": "46 8 473 31 61"
         }
        ],
        "LankLista": [],
        "Publiceringsdatum": "2013-10-15T15:18:14",
        "Publik": 1,
        "Titel": "Transport- och miljöinnovationer 2013",
        "TitelEngelska": "x"
       },
       {
        "AnsokningsomgangDnrLista": [
         {
          "DiarienummerAnsokningsomgang": "2013-02947"
         }
        ],
        "Beskrivning": "Innovationsslussar – insatser för vidareutveckling",
        "BeskrivningEngelska": "Innovationsslussar – insatser för vidareutveckling",
        "Diarienummer": "2013-00706",
        "DiarienummerProgram": "2009-02225",
        "DokumentLista": [],
        "KontaktLista": [],
        "LankLista": [],
        "Publiceringsdatum": "2018-01-11T17:00:04",
        "Publik": 0,
        "Titel": "Innovationsslussar – insatser för vidareutveckling",
        "TitelEngelska": "Innovationsslussar – insatser för vidareutveckling"
       },
       {
        "AnsokningsomgangDnrLista": [
         {
          "DiarienummerAnsokningsomgang": "2013-01063"
         }
        ],
        "Beskrivning": "Internationell samverkan med aktörer i Kina för Eco-innovationer 2013",
        "BeskrivningEngelska": "Call for proposals International\r\nCooperation with Actors in China for Eco-Innovations 2013",
        "Diarienummer": "2013-01061",
        "DiarienummerProgram": "2012-01568",
        "DokumentLista": [
         {
          "Beskrivning": "Internationell samverkan med aktörer i Kina för Ecoinnovationer\r\n2013 - utlysningstext",
          "DokumentID": "2013-01061_5",
          "FileName": "B Utlysning inom ram för IS med Kina för ECO Innovationer 2013 FINAL på Svenska 2013 03 14.pdf(459107).pdf",
          "Titel": "Internationell samverkan med aktörer i Kina för Ecoinnovationer\r\n2013 - utlysningstext",
          "fileURL": "https://data.vinnova.se/api/file/2013-01061_5"
         },
         {
          "Beskrivning": "International Cooperation with Actors in China for\r\nEco-Innovations 2013",
          "DokumentID": "2013-01061_6",
          "FileName": "CFP ICE 2013 B with Actors in China 2013 03 14.pdf(459108).pdf",
          "Titel": "International Cooperation with Actors in China for\r\nEco-Innovations 2013",
          "fileURL": "https://data.vinnova.se/api/file/2013-01061_6"
         }
        ],
        "KontaktLista": [
         {
          "Epost": "ciro.vasquez@VINNOVA.se",
          "KontaktID": 11318082,
          "Namn": "Ciro  Vasquez",
          "Roll": "Utlysningsansvarig",
          "Telefon": "46 8 473 31 30"
         },
         {
          "Epost": "",
          "KontaktID": 11318083,
          "Namn": "Ebba  Lindegren",
          "Roll": "",
          "Telefon": "46 8 473 32 46"
         },
         {
          "Epost": "",
          "KontaktID": 11318084,
          "Namn": "Lena Dalsmyr",
          "Roll": "Administrativa frågor",
          "Telefon": "46 8 473 31 61"
         }
        ],
        "LankLista": [],
        "Publiceringsdatum": "2018-11-29T07:30:12",
        "Publik": 1,
        "Titel": "Internationell samverkan med aktörer i Kina för Eco-innovationer 2013",
        "TitelEngelska": "Call for proposals International\r\nCooperation with Actors in China for Eco-Innovations 2013"
       },
       {
        "AnsokningsomgangDnrLista": [
         {
          "DiarienummerAnsokningsomgang": "2013-01425"
         },
         {
          "DiarienummerAnsokningsomgang": "2013-05657"
         },
         {
          "DiarienummerAnsokningsomgang": "2015-00083"
         },
         {
          "DiarienummerAnsokningsomgang": "2015-07089"
         }
        ],
        "Beskrivning": "Innovativ organisering\r\nSyftet med utlysningen är att stimulera forskning och forskarstött utvecklingsarbete som förbättrar organisationers innovations- och prestationsförmåga samtidigt som praktiskt användbar kunskap och metodik tas fram och nyttiggörs. ",
        "BeskrivningEngelska": "x",
        "Diarienummer": "2013-01397",
        "DiarienummerProgram": "2013-01243",
        "DokumentLista": [
         {
          "Beskrivning": "Mall för CV",
          "DokumentID": "2013-01397_16",
          "FileName": "CV-mall Leda och organisera för ökad innovationsförmåga.doc(718758).doc",
          "Titel": "Mall för CV",
          "fileURL": "https://data.vinnova.se/api/file/2013-01397_16"
         },
         {
          "Beskrivning": "Mall för projektbeskrivning",
          "DokumentID": "2013-01397_17",
          "FileName": "Projektmall Leda och organisera för ökad innovationsförmåga.docx(718759).docx",
          "Titel": "Mall för projektbeskrivning",
          "fileURL": "https://data.vinnova.se/api/file/2013-01397_17"
         },
         {
          "Beskrivning": "Utlysningstext Leda och organisera för ökad innovationsförmåga160525",
          "DokumentID": "2013-01397_19",
          "FileName": "Utlysningstext Leda och organisera för ökad innovationsförmåga160525(733548).pdf",
          "Titel": "Utlysningstext Leda och organisera för ökad innovationsförmåga - reviderad 160525 ",
          "fileURL": "https://data.vinnova.se/api/file/2013-01397_19"
         }
        ],
        "KontaktLista": [
         {
          "Epost": "Carl.Ridder@vinnova.se",
          "KontaktID": 11329708,
          "Namn": "Carl Ridder",
          "Roll": "Handläggare",
          "Telefon": "46 8 473 31 64"
         },
         {
          "Epost": "Cassandra.Marshall@vinnova.se",
          "KontaktID": 11329709,
          "Namn": "Cassandra Marshall",
          "Roll": "Programledare och handläggare",
          "Telefon": "46 8 473 32 60"
         },
         {
          "Epost": "Kristina. Larsen@vinnova.se",
          "KontaktID": 12155640,
          "Namn": "Kristina Larsen",
          "Roll": "Utlysningsansvarig och handläggare",
          "Telefon": "46 8 473 31 31"
         },
         {
          "Epost": "Kertin.frojd@vinnova.se",
          "KontaktID": 12155641,
          "Namn": "Kerstin Fröjd",
          "Roll": "Administrativa frågor",
          "Telefon": "46 8 473 20 27"
         }
        ],
        "LankLista": [],
        "Publiceringsdatum": "2016-11-23T09:30:06",
        "Publik": 1,
        "Titel": "Innovativ organisering",
        "TitelEngelska": "x"
       },
       {
        "AnsokningsomgangDnrLista": [
         {
          "DiarienummerAnsokningsomgang": "2013-01442"
         }
        ],
        "Beskrivning": "Transporter och miljö - särskilda insatser 2013",
        "BeskrivningEngelska": "x",
        "Diarienummer": "2013-01441",
        "DiarienummerProgram": "2010-01749",
        "DokumentLista": [],
        "KontaktLista": [],
        "LankLista": [],
        "Publiceringsdatum": "2018-06-14T14:00:47",
        "Publik": 1,
        "Titel": "Transporter och miljö - särskilda insatser 2013",
        "TitelEngelska": "x"
       },
       {
        "AnsokningsomgangDnrLista": [
         {
          "DiarienummerAnsokningsomgang": "2013-01861"
         },
         {
          "DiarienummerAnsokningsomgang": "2013-04248"
         },
         {
          "DiarienummerAnsokningsomgang": "2014-04102"
         },
         {
          "DiarienummerAnsokningsomgang": "2014-06329"
         },
         {
          "DiarienummerAnsokningsomgang": "2015-06446"
         },
         {
          "DiarienummerAnsokningsomgang": "2017-02428"
         },
         {
          "DiarienummerAnsokningsomgang": "2017-02955"
         },
         {
          "DiarienummerAnsokningsomgang": "2017-03018"
         },
         {
          "DiarienummerAnsokningsomgang": "2017-05068"
         }
        ],
        "Beskrivning": "Universitets och högskolors strategiska utveckling av samverkan",
        "BeskrivningEngelska": "Universitets och högskolors strategiska utveckling av samverkan",
        "Diarienummer": "2013-01860",
        "DiarienummerProgram": "2012-02210",
        "DokumentLista": [],
        "KontaktLista": [],
        "LankLista": [],
        "Publiceringsdatum": "2017-10-31T13:30:26",
        "Publik": 0,
        "Titel": "Universitets och högskolors strategiska utveckling av samverkan",
        "TitelEngelska": "Universitets och högskolors strategiska utveckling av samverkan"
       },
       {
        "AnsokningsomgangDnrLista": [
         {
          "DiarienummerAnsokningsomgang": "2013-02289"
         }
        ],
        "Beskrivning": "Innovationer för framtidens hälsa 2014",
        "BeskrivningEngelska": "För planering- Innovationer för framtidens hälsa 2014",
        "Diarienummer": "2013-02288",
        "DiarienummerProgram": "2009-02187",
        "DokumentLista": [
         {
          "Beskrivning": "Innovationer för framtidens hälsa 2014 - utlysningstext",
          "DokumentID": "2013-02288_4",
          "FileName": "Utlysningstext Innovationer för framtidens hälsa 2014.pdf(558028).pdf",
          "Titel": "Innovationer för framtidens hälsa 2014 - utlysningstext",
          "fileURL": "https://data.vinnova.se/api/file/2013-02288_4"
         },
         {
          "Beskrivning": "Mall - projektbeskrivning",
          "DokumentID": "2013-02288_5",
          "FileName": "IFH Växthuset 2014 mall projektbeskrivning.doc(558029).doc",
          "Titel": "Mall - projektbeskrivning",
          "fileURL": "https://data.vinnova.se/api/file/2013-02288_5"
         },
         {
          "Beskrivning": "Mall - budget",
          "DokumentID": "2013-02288_6",
          "FileName": "IFH Växthuset 2014 budgetmall.docx(558030).docx",
          "Titel": "Mall - budget",
          "fileURL": "https://data.vinnova.se/api/file/2013-02288_6"
         },
         {
          "Beskrivning": "Mall - CV",
          "DokumentID": "2013-02288_7",
          "FileName": "Mall för personalbilaga CV-bilaga.doc(558031).doc",
          "Titel": "Mall - CV",
          "fileURL": "https://data.vinnova.se/api/file/2013-02288_7"
         }
        ],
        "KontaktLista": [
         {
          "Epost": "margareta.danielsson@vinnova.se",
          "KontaktID": 11620740,
          "Namn": "Margareta Danielsson",
          "Roll": "Utlysningsansvarig",
          "Telefon": "46 8 473 31 52"
         },
         {
          "Epost": "peter.lindberg@vinnova.se",
          "KontaktID": 11620741,
          "Namn": "Peter Lindberg",
          "Roll": "",
          "Telefon": "46 8 473 31 93"
         },
         {
          "Epost": "sofia.norberg@vinnova.se",
          "KontaktID": 11620742,
          "Namn": "Sofia Norberg",
          "Roll": "",
          "Telefon": "46 8 473 32 95"
         },
         {
          "Epost": "gunnar.sandberg@vinnova.se",
          "KontaktID": 11620743,
          "Namn": "Gunnar Sandberg",
          "Roll": "",
          "Telefon": "46 8 454 64 45"
         },
         {
          "Epost": "johanna.ulfvarson@vinnova.se",
          "KontaktID": 11620744,
          "Namn": "Johanna Ulfvarson",
          "Roll": "",
          "Telefon": "46 8 473 32 18"
         },
         {
          "Epost": "kerstin.frojd@vinnova.se",
          "KontaktID": 11620745,
          "Namn": "Kerstin Fröjd",
          "Roll": "Administrativa frågor",
          "Telefon": "46 8 473 30 27"
         }
        ],
        "LankLista": [],
        "Publiceringsdatum": "2018-10-19T17:00:28",
        "Publik": 1,
        "Titel": "Innovationer för framtidens hälsa 2014",
        "TitelEngelska": "Innovationer för framtidens hälsa 2014"
       },
       {
        "AnsokningsomgangDnrLista": [
         {
          "DiarienummerAnsokningsomgang": "2013-02622"
         }
        ],
        "Beskrivning": "Innovativ IKT 2013 - Banbrytande lösningar för framtiden",
        "BeskrivningEngelska": "Innovative ICT 2013 - Groundbreaking solutions for the future",
        "Diarienummer": "2013-02456",
        "DiarienummerProgram": "2013-01779",
        "DokumentLista": [
         {
          "Beskrivning": "Innovativ IKT - utlysningstext",
          "DokumentID": "2013-02456_3",
          "FileName": "Innovativ_IKT_Utlysningstext130603(480998).pdf",
          "Titel": "Innovativ IKT - utlysningstext.",
          "fileURL": "https://data.vinnova.se/api/file/2013-02456_3"
         }
        ],
        "KontaktLista": [
         {
          "Epost": "bengt.nilsson@vinnova.se",
          "KontaktID": 11374736,
          "Namn": "Bengt Nilsson",
          "Roll": "Kontaktperson",
          "Telefon": "46 8 473 30 90"
         },
         {
          "Epost": "nabiel.elshiewy@vinnova.se",
          "KontaktID": 11374737,
          "Namn": "Nabiel Elshiewy",
          "Roll": "Utlysningsansvarig",
          "Telefon": "46 8 473 30 93"
         }
        ],
        "LankLista": [],
        "Publiceringsdatum": "2018-10-18T10:21:38",
        "Publik": 1,
        "Titel": "Innovativ IKT 2013",
        "TitelEngelska": "Innovative ICT 2013"
       },
       {
        "AnsokningsomgangDnrLista": [
         {
          "DiarienummerAnsokningsomgang": "2013-02608"
         }
        ],
        "Beskrivning": "Autonoma fordon",
        "BeskrivningEngelska": "x",
        "Diarienummer": "2013-02605",
        "DiarienummerProgram": "2009-02186",
        "DokumentLista": [],
        "KontaktLista": [],
        "LankLista": [],
        "Publiceringsdatum": "2018-06-12T07:30:26",
        "Publik": 1,
        "Titel": "Autonoma fordon",
        "TitelEngelska": "x"
       },
       {
        "AnsokningsomgangDnrLista": [
         {
          "DiarienummerAnsokningsomgang": "2013-02809"
         },
         {
          "DiarienummerAnsokningsomgang": "2014-03085"
         },
         {
          "DiarienummerAnsokningsomgang": "2016-03476"
         }
        ],
        "Beskrivning": "Forskning om Finansiella Marknader",
        "BeskrivningEngelska": "Financial Market Research",
        "Diarienummer": "2013-02804",
        "DiarienummerProgram": "2010-01428",
        "DokumentLista": [
         {
          "Beskrivning": "Utlysning Hållbar Finansutveckling, uppdaterad 160906",
          "DokumentID": "2013-02804_13",
          "FileName": "20160906-161914(748473).pdf",
          "Titel": "Utlysning Hållbar Finansutveckling, uppdaterad 160906",
          "fileURL": "https://data.vinnova.se/api/file/2013-02804_13"
         },
         {
          "Beskrivning": "Call for proposals Sustainable Financial Development, updated 2016-09-08",
          "DokumentID": "2013-02804_14",
          "FileName": "Utlysningstext Finans 2016-06-22 FINAL_EN-GB rev.pdf(748698).pdf",
          "Titel": "Call for proposals Sustainable Financial Development, updated 2016-09-08",
          "fileURL": "https://data.vinnova.se/api/file/2013-02804_14"
         }
        ],
        "KontaktLista": [
         {
          "Epost": "Ebba.Lindegren@Vinnova.se",
          "KontaktID": 12223804,
          "Namn": "Ebba Lindegren",
          "Roll": "Utlysningsansvarig",
          "Telefon": "46 8 473 32 46"
         },
         {
          "Epost": "Bengt.Larsson@Vinnova.se",
          "KontaktID": 12223822,
          "Namn": "Bengt Larsson",
          "Roll": "Administrativa frågor",
          "Telefon": "46 8 473 31 14"
         }
        ],
        "LankLista": [],
        "Publiceringsdatum": "2018-04-24T13:00:08",
        "Publik": 1,
        "Titel": "Forskning om finansiella marknader",
        "TitelEngelska": "Financial Market Research"
       },
       {
        "AnsokningsomgangDnrLista": [
         {
          "DiarienummerAnsokningsomgang": "2013-03126"
         },
         {
          "DiarienummerAnsokningsomgang": "2013-03146"
         },
         {
          "DiarienummerAnsokningsomgang": "2013-03147"
         },
         {
          "DiarienummerAnsokningsomgang": "2013-03257"
         },
         {
          "DiarienummerAnsokningsomgang": "2013-03533"
         },
         {
          "DiarienummerAnsokningsomgang": "2013-05572"
         },
         {
          "DiarienummerAnsokningsomgang": "2013-05573"
         },
         {
          "DiarienummerAnsokningsomgang": "2014-04161"
         },
         {
          "DiarienummerAnsokningsomgang": "2015-03349"
         },
         {
          "DiarienummerAnsokningsomgang": "2015-05040"
         },
         {
          "DiarienummerAnsokningsomgang": "2016-05317"
         },
         {
          "DiarienummerAnsokningsomgang": "2017-01556"
         },
         {
          "DiarienummerAnsokningsomgang": "2017-02196"
         },
         {
          "DiarienummerAnsokningsomgang": "2017-05020"
         },
         {
          "DiarienummerAnsokningsomgang": "2017-05079"
         },
         {
          "DiarienummerAnsokningsomgang": "2017-05080"
         }
        ],
        "Beskrivning": "Utmaningsdriven innovation - Steg 3 Implementering",
        "BeskrivningEngelska": "Challengedriven innovation - Phase 3 Implementation",
        "Diarienummer": "2013-02921",
        "DiarienummerProgram": "2011-01544",
        "DokumentLista": [],
        "KontaktLista": [
         {
          "Epost": "Vilgot.Claesson@vinnova.se",
          "KontaktID": 12534870,
          "Namn": "Vilgot Claesson",
          "Roll": "",
          "Telefon": "46 8 473 30 56 "
         },
         {
          "Epost": "Frida.Lundmark@Vinnova.se",
          "KontaktID": 12534871,
          "Namn": "Frida Lundmark",
          "Roll": "",
          "Telefon": "46 8 473 30 74 "
         },
         {
          "Epost": "Adrian.Solitander@Vinnova.se",
          "KontaktID": 12534872,
          "Namn": "Adrian Solitander",
          "Roll": "",
          "Telefon": "46 8 473 31 42"
         },
         {
          "Epost": "Moa.Eklund@Vinnova.se",
          "KontaktID": 12534873,
          "Namn": "Moa Eklund",
          "Roll": "",
          "Telefon": "46 8 473 32 89"
         },
         {
          "Epost": "Andreas.Netz@Vinnova.se",
          "KontaktID": 12534874,
          "Namn": "Andreas Netz",
          "Roll": "Program- och utlysningsansvarig",
          "Telefon": "46 8 473 30 86"
         },
         {
          "Epost": "",
          "KontaktID": 12534876,
          "Namn": "Gruppnummer ",
          "Roll": "",
          "Telefon": "46 8 473 32 33"
         }
        ],
        "LankLista": [],
        "Publiceringsdatum": "2019-02-01T09:30:21",
        "Publik": 1,
        "Titel": "Utmaningsdriven innovation - Steg 3 Implementering",
        "TitelEngelska": "Challengedriven innovation - Phase 3 Implementation"
       },
       {
        "AnsokningsomgangDnrLista": [
         {
          "DiarienummerAnsokningsomgang": "2013-03432"
         },
         {
          "DiarienummerAnsokningsomgang": "2014-01150"
         }
        ],
        "Beskrivning": "Integrerad Fordons och Infrastrukturutveckling inom FFI - (FIFFI)",
        "BeskrivningEngelska": "x",
        "Diarienummer": "2013-03429",
        "DiarienummerProgram": "2009-02186",
        "DokumentLista": [],
        "KontaktLista": [],
        "LankLista": [],
        "Publiceringsdatum": "2018-05-29T23:30:22",
        "Publik": 1,
        "Titel": "Integrerad Fordons och Infrastrukturutveckling inom FFI - (FIFFI)",
        "TitelEngelska": "x"
       },
       {
        "AnsokningsomgangDnrLista": [
         {
          "DiarienummerAnsokningsomgang": "2011-04305"
         },
         {
          "DiarienummerAnsokningsomgang": "2013-04497"
         },
         {
          "DiarienummerAnsokningsomgang": "2013-04898"
         },
         {
          "DiarienummerAnsokningsomgang": "2014-00867"
         },
         {
          "DiarienummerAnsokningsomgang": "2015-02276"
         },
         {
          "DiarienummerAnsokningsomgang": "2015-05031"
         },
         {
          "DiarienummerAnsokningsomgang": "2016-00143"
         },
         {
          "DiarienummerAnsokningsomgang": "2016-00245"
         },
         {
          "DiarienummerAnsokningsomgang": "2016-03876"
         },
         {
          "DiarienummerAnsokningsomgang": "2016-04817"
         },
         {
          "DiarienummerAnsokningsomgang": "2017-01557"
         },
         {
          "DiarienummerAnsokningsomgang": "2017-02195"
         },
         {
          "DiarienummerAnsokningsomgang": "2017-04991"
         },
         {
          "DiarienummerAnsokningsomgang": "2017-05081"
         },
         {
          "DiarienummerAnsokningsomgang": "2017-05082"
         }
        ],
        "Beskrivning": "Utmaningsdriven innovation - Steg 2 Samverkansprojekt",
        "BeskrivningEngelska": "Challenge-driven innovation - Phase 2 Collaboration",
        "Diarienummer": "2013-04314",
        "DiarienummerProgram": "2011-01544",
        "DokumentLista": [],
        "KontaktLista": [
         {
          "Epost": "Vilgot.Claesson@vinnova.se",
          "KontaktID": 12534863,
          "Namn": "Vilgot Claesson",
          "Roll": "",
          "Telefon": "46 8 473 30 56 "
         },
         {
          "Epost": "Frida.Lundmark@Vinnova.se",
          "KontaktID": 12534864,
          "Namn": "Frida Lundmark",
          "Roll": "",
          "Telefon": "46 8 473 30 74 "
         },
         {
          "Epost": "Adrian.Solitander@Vinnova.se",
          "KontaktID": 12534865,
          "Namn": "Adrian Solitander",
          "Roll": "",
          "Telefon": "46 8 473 31 42"
         },
         {
          "Epost": "Andreas.Netz@Vinnova.se",
          "KontaktID": 12534866,
          "Namn": "Andreas Netz",
          "Roll": "Program- och utlysningsansvarig",
          "Telefon": "46 8 473 30 86"
         },
         {
          "Epost": "Moa.Eklund@Vinnova.se",
          "KontaktID": 12534867,
          "Namn": "Moa Eklund",
          "Roll": "",
          "Telefon": "46 8 473 32 89"
         },
         {
          "Epost": "",
          "KontaktID": 12534868,
          "Namn": "Gruppnummer ",
          "Roll": "",
          "Telefon": "46 8 473 32 33"
         }
        ],
        "LankLista": [],
        "Publiceringsdatum": "2018-12-20T14:00:19",
        "Publik": 1,
        "Titel": "Utmaningsdriven innovation - Steg 2 Samverkansprojekt",
        "TitelEngelska": "Challenge-driven innovation - Phase 2 Collaboration"
       },
       {
        "AnsokningsomgangDnrLista": [
         {
          "DiarienummerAnsokningsomgang": "2011-01551"
         },
         {
          "DiarienummerAnsokningsomgang": "2012-01386"
         },
         {
          "DiarienummerAnsokningsomgang": "2013-04636"
         },
         {
          "DiarienummerAnsokningsomgang": "2013-04637"
         },
         {
          "DiarienummerAnsokningsomgang": "2013-04887"
         },
         {
          "DiarienummerAnsokningsomgang": "2014-00869"
         },
         {
          "DiarienummerAnsokningsomgang": "2014-05330"
         },
         {
          "DiarienummerAnsokningsomgang": "2014-05331"
         },
         {
          "DiarienummerAnsokningsomgang": "2016-00103"
         },
         {
          "DiarienummerAnsokningsomgang": "2016-00113"
         },
         {
          "DiarienummerAnsokningsomgang": "2016-05103"
         },
         {
          "DiarienummerAnsokningsomgang": "2017-05063"
         },
         {
          "DiarienummerAnsokningsomgang": "2017-05064"
         },
         {
          "DiarienummerAnsokningsomgang": "2018-03490"
         },
         {
          "DiarienummerAnsokningsomgang": "2018-05362"
         },
         {
          "DiarienummerAnsokningsomgang": "2018-05363"
         },
         {
          "DiarienummerAnsokningsomgang": "2018-05364"
         }
        ],
        "Beskrivning": "Utmaningsdriven innovation - Steg 1 Initiering",
        "BeskrivningEngelska": "Challenge-driven innovation - Phase 1 Initiation",
        "Diarienummer": "2013-04315",
        "DiarienummerProgram": "2011-01544",
        "DokumentLista": [],
        "KontaktLista": [
         {
          "Epost": "",
          "KontaktID": 11453699,
          "Namn": "Gruppnummer ",
          "Roll": "",
          "Telefon": "46 8 473 32 33"
         },
         {
          "Epost": "Vilgot.Claesson@Vinnova.se ",
          "KontaktID": 12534855,
          "Namn": "Vilgot Claesson ",
          "Roll": "Industri, produktion och nya material",
          "Telefon": "46 8 473 30 56 "
         },
         {
          "Epost": "Adrian.Solitander@Vinnova.se",
          "KontaktID": 12534857,
          "Namn": "Adrian Solitander",
          "Roll": "Social innovation och innovation i offentlig sektor",
          "Telefon": "46 8 473 31 42"
         },
         {
          "Epost": "Andreas.Netz@Vinnova.se",
          "KontaktID": 12534858,
          "Namn": "Andreas Netz",
          "Roll": "Program- och utlysningsansvarig",
          "Telefon": "46 8 473 30 86"
         },
         {
          "Epost": "Moa.Eklund@Vinnova.se",
          "KontaktID": 12534859,
          "Namn": "Moa Eklund",
          "Roll": "Städer, transport och miljö",
          "Telefon": "46 8 473 32 89"
         },
         {
          "Epost": "jessica.tagtstrom@vinnova.se",
          "KontaktID": 12570878,
          "Namn": "Jessica Tägtström",
          "Roll": "Hälsa och Life science",
          "Telefon": "46 8 473 30 67"
         }
        ],
        "LankLista": [],
        "Publiceringsdatum": "2019-01-22T14:00:50",
        "Publik": 1,
        "Titel": "Utmaningsdriven innovation - Steg 1 Initiering",
        "TitelEngelska": "Challenge-driven innovation - Phase 1 Initiation"
       },
       {
        "AnsokningsomgangDnrLista": [
         {
          "DiarienummerAnsokningsomgang": "2013-04694"
         },
         {
          "DiarienummerAnsokningsomgang": "2014-03886"
         },
         {
          "DiarienummerAnsokningsomgang": "2018-02975"
         }
        ],
        "Beskrivning": "VINNVÄXT 2004 Över- och uppväxling",
        "BeskrivningEngelska": "VINNVÄXT 2004 Extended",
        "Diarienummer": "2013-04632",
        "DiarienummerProgram": "2002-00568",
        "DokumentLista": [],
        "KontaktLista": [],
        "LankLista": [],
        "Publiceringsdatum": "2018-06-27T13:30:24",
        "Publik": 1,
        "Titel": "VINNVÄXT 2004 Över- och uppväxling",
        "TitelEngelska": "VINNVÄXT 2004 Extended"
       },
       {
        "AnsokningsomgangDnrLista": [
         {
          "DiarienummerAnsokningsomgang": "2013-05553"
         },
         {
          "DiarienummerAnsokningsomgang": "2014-01216"
         },
         {
          "DiarienummerAnsokningsomgang": "2014-03963"
         }
        ],
        "Beskrivning": "Innovationsledning",
        "BeskrivningEngelska": "X",
        "Diarienummer": "2013-04688",
        "DiarienummerProgram": "2013-01243",
        "DokumentLista": [],
        "KontaktLista": [],
        "LankLista": [],
        "Publiceringsdatum": "2018-04-24T15:30:04",
        "Publik": 1,
        "Titel": "Innovationsledning",
        "TitelEngelska": "X"
       },
       {
        "AnsokningsomgangDnrLista": [
         {
          "DiarienummerAnsokningsomgang": "2014-00945"
         }
        ],
        "Beskrivning": "NFFP 6 2013-2016 - utlysning 2",
        "BeskrivningEngelska": "x",
        "Diarienummer": "2013-04807",
        "DiarienummerProgram": "2012-03138",
        "DokumentLista": [
         {
          "Beskrivning": "NFFP 6  2013-2016- Utlysning nr 2\r\n\r\n",
          "DokumentID": "2013-04807_2",
          "FileName": "Utlysningstext NFFP6 utlysning 2 - 2013-10-24 v11 final.pdf(517295).pdf",
          "Titel": "NFFP 6  2013-2016 - Utlysning nr 2\r\n\r\n",
          "fileURL": "https://data.vinnova.se/api/file/2013-04807_2"
         },
         {
          "Beskrivning": "KLUSTERBESKRIVNING",
          "DokumentID": "2013-04807_4",
          "FileName": "Klusterbeskrivning NFFP 6 Call2 2013-10-10 v3 final.docx(517331).docx",
          "Titel": "Klusterbeskrivning",
          "fileURL": "https://data.vinnova.se/api/file/2013-04807_4"
         },
         {
          "Beskrivning": "Projektbeskrivningsmall",
          "DokumentID": "2013-04807_5",
          "FileName": "Projektbeskrivningsmall_NFFP6-Utlysning 2 2013-09-26 v7 final.docx(517712).docx",
          "Titel": "Mall för projektbeskrivning",
          "fileURL": "https://data.vinnova.se/api/file/2013-04807_5"
         },
         {
          "Beskrivning": "Mall för ekonomisk redovisning",
          "DokumentID": "2013-04807_8",
          "FileName": "Kopia av NFFP Projektbeskrivningsmall utlysning 2 ekonomisk redovisning nffp - final2.xlsx(523070).xlsx",
          "Titel": "Mall för ekonomisk redovisning",
          "fileURL": "https://data.vinnova.se/api/file/2013-04807_8"
         },
         {
          "Beskrivning": "NFFP 6 projektavtalsmall",
          "DokumentID": "2013-04807_9",
          "FileName": "NFFP6_PROJEKTAVTALSMALL_v2_saab_20140127_gkn_140128.docx(544671).docx",
          "Titel": "NFFP 6 projektavtalsmall",
          "fileURL": "https://data.vinnova.se/api/file/2013-04807_9"
         }
        ],
        "KontaktLista": [
         {
          "Epost": "vilgot.claesson@vinnova.se",
          "KontaktID": 11461067,
          "Namn": "Vilgot Claesson",
          "Roll": "Utlysningsansvarig",
          "Telefon": "46 8 473 30 56"
         },
         {
          "Epost": "lena.dalsmyr@vinnova.se",
          "KontaktID": 11461068,
          "Namn": "Lena Dalsmyr",
          "Roll": "Administrativa frågor",
          "Telefon": "46 8 473 31 61"
         }
        ],
        "LankLista": [],
        "Publiceringsdatum": "2018-10-05T16:30:28",
        "Publik": 1,
        "Titel": "NFFP 6 2013-2016 - utlysning 2",
        "TitelEngelska": "x"
       },
       {
        "AnsokningsomgangDnrLista": [
         {
          "DiarienummerAnsokningsomgang": "2013-05165"
         }
        ],
        "Beskrivning": "MinBaS-Innovation 2013",
        "BeskrivningEngelska": "MinBaS-Innovation - Initieringsutlysning",
        "Diarienummer": "2013-05138",
        "DiarienummerProgram": "2013-04999",
        "DokumentLista": [],
        "KontaktLista": [
         {
          "Epost": "jan.bida@minfo.se  ",
          "KontaktID": 11596740,
          "Namn": "Jan Bida",
          "Roll": "Programchef",
          "Telefon": "46 70-673 13 57"
         },
         {
          "Epost": "peter.aslund@vinnova.se  ",
          "KontaktID": 11596741,
          "Namn": "Peter Åslund",
          "Roll": "Utlysningsansvarig",
          "Telefon": "46 8-473 30 49 "
         },
         {
          "Epost": "Susanne.Gylesjo@vinnova.se",
          "KontaktID": 11596742,
          "Namn": "Susanne Gylesjö",
          "Roll": "Utlysningsansvarig",
          "Telefon": "46 8-473 31 87"
         },
         {
          "Epost": "marie.wikstrom@vinnova.se",
          "KontaktID": 11596743,
          "Namn": "Marie Wikström",
          "Roll": "Adminstrativa frågor",
          "Telefon": "46 8-473 31 79"
         }
        ],
        "LankLista": [],
        "Publiceringsdatum": "2018-11-28T10:00:21",
        "Publik": 1,
        "Titel": "MinBaS-Innovation 2013",
        "TitelEngelska": "MinBaS-Innovation - Initieringsutlysning"
       },
       {
        "AnsokningsomgangDnrLista": [
         {
          "DiarienummerAnsokningsomgang": "2013-05652"
         },
         {
          "DiarienummerAnsokningsomgang": "2013-05653"
         }
        ],
        "Beskrivning": "VINN-Verifiering 2014",
        "BeskrivningEngelska": "VINN-Verifiering 2014",
        "Diarienummer": "2013-05651",
        "DiarienummerProgram": "2009-02171",
        "DokumentLista": [
         {
          "Beskrivning": "VFT-2 utlysningstext ht2014",
          "DokumentID": "2013-05651_5",
          "FileName": "VINN Verifiering_utlysningstext ht 2014_140613(578532).pdf",
          "Titel": "VINN Verifiering utlysningstext ht 2014 rev 140613",
          "fileURL": "https://data.vinnova.se/api/file/2013-05651_5"
         },
         {
          "Beskrivning": "Mall affärsbeskrivning ht2014",
          "DokumentID": "2013-05651_6",
          "FileName": "VFT-2_mall affärsbeskrivning_140613(578534).pptx",
          "Titel": "VFT-2 mall affärsbeskrivning rev 140613",
          "fileURL": "https://data.vinnova.se/api/file/2013-05651_6"
         },
         {
          "Beskrivning": "Mall projektbeskrivning ht2014",
          "DokumentID": "2013-05651_7",
          "FileName": "VFT-2_mall projektbeskrivning_140613(578533).doc",
          "Titel": "VFT-2 mall projektbeskrivning rev 140613",
          "fileURL": "https://data.vinnova.se/api/file/2013-05651_7"
         }
        ],
        "KontaktLista": [
         {
          "Epost": "anna.tegnesjo@vinnova.se",
          "KontaktID": 11588806,
          "Namn": "Anna Tegnesjö",
          "Roll": "Utlysningsansvarig och Hälsa",
          "Telefon": "46 8 473 31 62"
         },
         {
          "Epost": "mats.robertsson@vinnova.se",
          "KontaktID": 11588807,
          "Namn": "Mats  Robertsson",
          "Roll": "Produktion och Arbetsliv",
          "Telefon": "46 8 473 30 78"
         },
         {
          "Epost": "tony.friede@vinnova.se",
          "KontaktID": 11588811,
          "Namn": "Tony Friede",
          "Roll": "Tjänster och IKT",
          "Telefon": "46 8 473 32 38"
         },
         {
          "Epost": "gun.jonsson@vinnova.se",
          "KontaktID": 11678606,
          "Namn": "Gun Jönsson",
          "Roll": "Administrativa frågor",
          "Telefon": "46 8 473 31 67"
         },
         {
          "Epost": "sebastian.axelsson@vinnova.se",
          "KontaktID": 11756513,
          "Namn": "Sebastian Axelsson",
          "Roll": "Transport och Miljö, Enhet Teknikutveckling",
          "Telefon": " 4684733171"
         }
        ],
        "LankLista": [],
        "Publiceringsdatum": "2019-02-12T15:00:20",
        "Publik": 1,
        "Titel": "VINN-Verifiering 2014",
        "TitelEngelska": "VINN-Verifiering 2014"
       },
       {
        "AnsokningsomgangDnrLista": [
         {
          "DiarienummerAnsokningsomgang": "2014-00086"
         },
         {
          "DiarienummerAnsokningsomgang": "2014-01565"
         },
         {
          "DiarienummerAnsokningsomgang": "2014-01775"
         },
         {
          "DiarienummerAnsokningsomgang": "2014-03973"
         }
        ],
        "Beskrivning": "Testbäddar inom miljöteknikområdet -  2014",
        "BeskrivningEngelska": "x",
        "Diarienummer": "2014-00075",
        "DiarienummerProgram": "2012-03291",
        "DokumentLista": [],
        "KontaktLista": [],
        "LankLista": [],
        "Publiceringsdatum": "2014-12-03T08:56:45",
        "Publik": 1,
        "Titel": "Testbäddar inom miljöteknikområdet -  2014",
        "TitelEngelska": "x"
       },
       {
        "AnsokningsomgangDnrLista": [
         {
          "DiarienummerAnsokningsomgang": "2014-00534"
         },
         {
          "DiarienummerAnsokningsomgang": "2015-00057"
         },
         {
          "DiarienummerAnsokningsomgang": "2015-07015"
         }
        ],
        "Beskrivning": "Innovationer för framtidens hälsa 2014 till 2016 - särskilda insatser",
        "BeskrivningEngelska": "Innovationer för framtidens hälsa 2014 - särskilda insatser",
        "Diarienummer": "2014-00514",
        "DiarienummerProgram": "2009-02187",
        "DokumentLista": [],
        "KontaktLista": [],
        "LankLista": [],
        "Publiceringsdatum": "2016-06-21T12:30:08",
        "Publik": 0,
        "Titel": "Innovationer för framtidens hälsa 2014 till 2016 - särskilda insatser",
        "TitelEngelska": "Innovationer för framtidens hälsa 2014 - särskilda insatser"
       },
       {
        "AnsokningsomgangDnrLista": [
         {
          "DiarienummerAnsokningsomgang": "2014-00566"
         }
        ],
        "Beskrivning": "Fullständig ansökan SIO-program hösten 2013",
        "BeskrivningEngelska": "x",
        "Diarienummer": "2014-00565",
        "DiarienummerProgram": "2012-01383",
        "DokumentLista": [],
        "KontaktLista": [],
        "LankLista": [],
        "Publiceringsdatum": "2018-11-19T12:00:15",
        "Publik": 1,
        "Titel": "Fullständig ansökan SIO-program hösten 2013",
        "TitelEngelska": "x"
       },
       {
        "AnsokningsomgangDnrLista": [
         {
          "DiarienummerAnsokningsomgang": "2014-00686"
         },
         {
          "DiarienummerAnsokningsomgang": "2014-01205"
         },
         {
          "DiarienummerAnsokningsomgang": "2014-03875"
         },
         {
          "DiarienummerAnsokningsomgang": "2014-03897"
         },
         {
          "DiarienummerAnsokningsomgang": "2014-05315"
         },
         {
          "DiarienummerAnsokningsomgang": "2015-00032"
         },
         {
          "DiarienummerAnsokningsomgang": "2015-00493"
         },
         {
          "DiarienummerAnsokningsomgang": "2015-06564"
         },
         {
          "DiarienummerAnsokningsomgang": "2015-06712"
         },
         {
          "DiarienummerAnsokningsomgang": "2015-06713"
         },
         {
          "DiarienummerAnsokningsomgang": "2016-04947"
         },
         {
          "DiarienummerAnsokningsomgang": "2016-05369"
         },
         {
          "DiarienummerAnsokningsomgang": "2017-00187"
         },
         {
          "DiarienummerAnsokningsomgang": "2017-02897"
         },
         {
          "DiarienummerAnsokningsomgang": "2017-05194"
         },
         {
          "DiarienummerAnsokningsomgang": "2017-05195"
         },
         {
          "DiarienummerAnsokningsomgang": "2017-05600"
         },
         {
          "DiarienummerAnsokningsomgang": "2018-02761"
         },
         {
          "DiarienummerAnsokningsomgang": "2019-00098"
         },
         {
          "DiarienummerAnsokningsomgang": "2019-01199"
         },
         {
          "DiarienummerAnsokningsomgang": "2019-01351"
         }
        ],
        "Beskrivning": "Strategiska innovationsprogrammet för processindustriell IT och automation - PiiA",
        "BeskrivningEngelska": "x",
        "Diarienummer": "2014-00621",
        "DiarienummerProgram": "2014-00599",
        "DokumentLista": [
         {
          "Beskrivning": "MALL - Projektbeskrivning SIP PiiA sommaren 2017",
          "DokumentID": "2014-00621_67",
          "FileName": "MALL - Projektbeskrivning SIP PiiA sommaren 2017(795029).docx",
          "Titel": "MALL - Projektbeskrivning SIP PiiA sommaren 2017",
          "fileURL": "https://data.vinnova.se/api/file/2014-00621_67"
         },
         {
          "Beskrivning": "MALL - CV-bilaga SIP PiiA sommaren 2017",
          "DokumentID": "2014-00621_68",
          "FileName": "MALL - CV-bilaga SIP PiiA sommaren 2017(795030).docx",
          "Titel": "MALL - CV-bilaga SIP PiiA sommaren 2017",
          "fileURL": "https://data.vinnova.se/api/file/2014-00621_68"
         },
         {
          "Beskrivning": "MALL - Projektreferat SIP PiiA sommaren 2017",
          "DokumentID": "2014-00621_69",
          "FileName": "MALL - Projektreferat SIP PiiA sommaren 2017(795031).docx",
          "Titel": "MALL - Projektreferat SIP PiiA sommaren 2017",
          "fileURL": "https://data.vinnova.se/api/file/2014-00621_69"
         },
         {
          "Beskrivning": "Utlysningstext SIP PiiA - Sommaren 2017 rev 2017-04-24",
          "DokumentID": "2014-00621_70",
          "FileName": "Utlysningstext SIP PiiA - Sommaren 2017 rev 2017-04-24(795275).pdf",
          "Titel": "Utlysningstext SIP PiiA - Sommaren 2017 rev 2017-04-24",
          "fileURL": "https://data.vinnova.se/api/file/2014-00621_70"
         }
        ],
        "KontaktLista": [],
        "LankLista": [],
        "Publiceringsdatum": "2019-02-25T16:00:20",
        "Publik": 1,
        "Titel": "Strategiska innovationsprogrammet för processindustriell IT och automation - PiiA",
        "TitelEngelska": "x"
       },
       {
        "AnsokningsomgangDnrLista": [
         {
          "DiarienummerAnsokningsomgang": "2014-00841"
         },
         {
          "DiarienummerAnsokningsomgang": "2014-01199"
         },
         {
          "DiarienummerAnsokningsomgang": "2014-03857"
         },
         {
          "DiarienummerAnsokningsomgang": "2014-05984"
         },
         {
          "DiarienummerAnsokningsomgang": "2017-01493"
         },
         {
          "DiarienummerAnsokningsomgang": "2017-02732"
         },
         {
          "DiarienummerAnsokningsomgang": "2017-04656"
         },
         {
          "DiarienummerAnsokningsomgang": "2017-05569"
         },
         {
          "DiarienummerAnsokningsomgang": "2019-01344"
         }
        ],
        "Beskrivning": "Strategiska innovationsprogrammet för lättvikt – LIGHTer",
        "BeskrivningEngelska": "Strategic Innovation Programme on Lightweight",
        "Diarienummer": "2014-00622",
        "DiarienummerProgram": "2014-00596",
        "DokumentLista": [
         {
          "Beskrivning": "Mall - LIGHTer projektbeskrivning hösten 2014",
          "DokumentID": "2014-00622_13",
          "FileName": "Mall - LIGHTer projektbeskrivning hösten 2014(576302).docx",
          "Titel": "Mall - LIGHTer projektbeskrivning hösten 2014",
          "fileURL": "https://data.vinnova.se/api/file/2014-00622_13"
         },
         {
          "Beskrivning": "Mall - LIGHTer projektsammanfattning hösten 2014",
          "DokumentID": "2014-00622_14",
          "FileName": "Mall - LIGHTer projektsammanfattning hösten 2014(576303).docx",
          "Titel": "Mall - LIGHTer projektsammanfattning hösten 2014",
          "fileURL": "https://data.vinnova.se/api/file/2014-00622_14"
         },
         {
          "Beskrivning": "Utlysningstext Strategiska innovationsprogrammet för lättvikt hösten 2014",
          "DokumentID": "2014-00622_16",
          "FileName": "Utlysningstext Strategiska innovationsprogrammet för lättvikt hösten 2014(577404).pdf",
          "Titel": "Utlysningstext Strategiska innovationsprogrammet för lättvikt hösten 2014",
          "fileURL": "https://data.vinnova.se/api/file/2014-00622_16"
         }
        ],
        "KontaktLista": [
         {
          "Epost": "cecilia.ramberg@swerea.se",
          "KontaktID": 11582378,
          "Namn": "Cecilia Ramberg",
          "Roll": "Utlysningsansvarig för LIGHTer",
          "Telefon": "46 70 780 60 52"
         },
         {
          "Epost": "anders.maren@vinnova.se",
          "KontaktID": 11582379,
          "Namn": "Anders Marén",
          "Roll": "Utlysningsansvarig på VINNOVA",
          "Telefon": "46 8 473 31 88"
         },
         {
          "Epost": "marie.wikstrom@vinnova.se",
          "KontaktID": 11582382,
          "Namn": "Marie Wikström",
          "Roll": "Administrativa frågor",
          "Telefon": "46 8 473 31 79"
         }
        ],
        "LankLista": [],
        "Publiceringsdatum": "2019-02-22T15:30:22",
        "Publik": 1,
        "Titel": "Strategiska innovationsprogrammet för lättvikt – LIGHTer",
        "TitelEngelska": "Strategic Innovation Programme on Lightweight"
       },
       {
        "AnsokningsomgangDnrLista": [
         {
          "DiarienummerAnsokningsomgang": "2014-00838"
         },
         {
          "DiarienummerAnsokningsomgang": "2014-01201"
         },
         {
          "DiarienummerAnsokningsomgang": "2014-05654"
         },
         {
          "DiarienummerAnsokningsomgang": "2015-00904"
         },
         {
          "DiarienummerAnsokningsomgang": "2015-07079"
         },
         {
          "DiarienummerAnsokningsomgang": "2016-04983"
         },
         {
          "DiarienummerAnsokningsomgang": "2017-00058"
         },
         {
          "DiarienummerAnsokningsomgang": "2017-03421"
         },
         {
          "DiarienummerAnsokningsomgang": "2017-05077"
         },
         {
          "DiarienummerAnsokningsomgang": "2017-05078"
         },
         {
          "DiarienummerAnsokningsomgang": "2017-05475"
         },
         {
          "DiarienummerAnsokningsomgang": "2018-00461"
         },
         {
          "DiarienummerAnsokningsomgang": "2018-02825"
         },
         {
          "DiarienummerAnsokningsomgang": "2018-04335"
         },
         {
          "DiarienummerAnsokningsomgang": "2019-01172"
         },
         {
          "DiarienummerAnsokningsomgang": "2019-02262"
         }
        ],
        "Beskrivning": "Strategiska innovationsprogrammet för Metalliska material",
        "BeskrivningEngelska": "Strategic Innovation Programme on Metallic Materials",
        "Diarienummer": "2014-00628",
        "DiarienummerProgram": "2014-00597",
        "DokumentLista": [
         {
          "Beskrivning": "Mall Projektbeskrivning Bärande idéer för stärkt konkurrenskraft - Genomförbarhetsstudier",
          "DokumentID": "2014-00628_43",
          "FileName": "Mall Projektbeskrivning Bärande idéer för stärkt konkurrenskraft - Genomförbarhetsstudier(766723).docx",
          "Titel": "Mall Projektbeskrivning Bärande idéer för stärkt konkurrenskraft - Genomförbarhetsstudier",
          "fileURL": "https://data.vinnova.se/api/file/2014-00628_43"
         },
         {
          "Beskrivning": "Mall Avsiktsförklaring Bärande idéer för stärkt konkurrenskraft - Genomförbarhetsstudier",
          "DokumentID": "2014-00628_44",
          "FileName": "Mall Avsiktsförklaring Bärande idéer för stärkt konkurrenskraft - Genomförbarhetsstudier(766724).docx",
          "Titel": "Mall Avsiktsförklaring Bärande idéer för stärkt konkurrenskraft - Genomförbarhetsstudier",
          "fileURL": "https://data.vinnova.se/api/file/2014-00628_44"
         },
         {
          "Beskrivning": "Mall CV-bilaga Bärande idéer för stärkt konkurrenskraft - Genomförbarhetsstudier",
          "DokumentID": "2014-00628_45",
          "FileName": "Mall CV-bilaga Bärande idéer för stärkt konkurrenskraft - Genomförbarhetsstudier(766725).docx",
          "Titel": "Mall CV-bilaga Bärande idéer för stärkt konkurrenskraft - Genomförbarhetsstudier",
          "fileURL": "https://data.vinnova.se/api/file/2014-00628_45"
         },
         {
          "Beskrivning": "Utlysningstext Bärande idéer för stärkt konkurrenskraft - Genomförbarhetsstudier",
          "DokumentID": "2014-00628_48",
          "FileName": "Utlysningstext Bärande idéer för stärkt konkurrenskraft - Genomförbarhetsstudier(769418).pdf",
          "Titel": "Utlysningstext Bärande idéer för stärkt konkurrenskraft - Genomförbarhetsstudier",
          "fileURL": "https://data.vinnova.se/api/file/2014-00628_48"
         }
        ],
        "KontaktLista": [
         {
          "Epost": "gert.nilson@jernkontoret.se",
          "KontaktID": 11582191,
          "Namn": "Gert Nilson",
          "Roll": "Kontaktperson vid programkontoret för Metalliska material: utlysningens inriktning och innehåll",
          "Telefon": "46 8 679 17 05"
         },
         {
          "Epost": "anna.ponzio@jernkontoret.se",
          "KontaktID": 11582192,
          "Namn": "Anna Ponzio",
          "Roll": "Kontaktperson vid programkontoret för Metalliska material: utlysningens inriktning och innehåll",
          "Telefon": "46 8 679 17 09"
         },
         {
          "Epost": "anders.maren@vinnova.se",
          "KontaktID": 12543237,
          "Namn": "Anders Marén",
          "Roll": "Kontaktperson Vinnova: bedömningsprocessen samt juridiska och administrativa frågor",
          "Telefon": "46 8 473 31 88"
         }
        ],
        "LankLista": [],
        "Publiceringsdatum": "2019-02-22T15:00:05",
        "Publik": 1,
        "Titel": "Det strategiska innovationsprogrammet Metalliska material",
        "TitelEngelska": "Strategic Innovation Programme on Metallic Materials"
       },
       {
        "AnsokningsomgangDnrLista": [
         {
          "DiarienummerAnsokningsomgang": "2014-00836"
         },
         {
          "DiarienummerAnsokningsomgang": "2014-01169"
         },
         {
          "DiarienummerAnsokningsomgang": "2014-06093"
         },
         {
          "DiarienummerAnsokningsomgang": "2015-00809"
         },
         {
          "DiarienummerAnsokningsomgang": "2015-01497"
         },
         {
          "DiarienummerAnsokningsomgang": "2015-07098"
         },
         {
          "DiarienummerAnsokningsomgang": "2016-01697"
         },
         {
          "DiarienummerAnsokningsomgang": "2016-01905"
         },
         {
          "DiarienummerAnsokningsomgang": "2016-04861"
         },
         {
          "DiarienummerAnsokningsomgang": "2016-05374"
         },
         {
          "DiarienummerAnsokningsomgang": "2017-01823"
         },
         {
          "DiarienummerAnsokningsomgang": "2017-03388"
         },
         {
          "DiarienummerAnsokningsomgang": "2017-05045"
         },
         {
          "DiarienummerAnsokningsomgang": "2018-00837"
         },
         {
          "DiarienummerAnsokningsomgang": "2018-02024"
         },
         {
          "DiarienummerAnsokningsomgang": "2018-04762"
         },
         {
          "DiarienummerAnsokningsomgang": "2019-02045"
         }
        ],
        "Beskrivning": "Strategiska innovationsprogrammet för Gruv och Metallutvinning ",
        "BeskrivningEngelska": "Sweden’s mining and supplier sector is at the leading edge of sustainability and efficiency within exploration, extraction and refinement. The strategic innovation programme for Swedish mining and metal producing industry (STRIM) aims to strengthen the sector’s competitiveness and to increase the sector’s innovative capacity throughout the value chain. \r\nSTRIM should contribute to sustainable development within the sector.\r\n\r\nhttps://www.vinnova.se/en/e/the-strategic-innovation-programme-for-mining-and-metal-recovery--strim/ \r\n",
        "Diarienummer": "2014-00633",
        "DiarienummerProgram": "2014-00598",
        "DokumentLista": [],
        "KontaktLista": [
         {
          "Epost": "susanne.gylesjo@vinnova.se",
          "KontaktID": 11849190,
          "Namn": "Susanne Gylesjö",
          "Roll": "Utlysningsansvarig på Vinnova (bedömningsprocessen och administrativa frågor)",
          "Telefon": "08-473 3187"
         },
         {
          "Epost": "bengt.larsson@vinnova",
          "KontaktID": 11849191,
          "Namn": "Bengt Larsson",
          "Roll": "Vinnova (administrativa frågor)",
          "Telefon": "08-473 3114"
         },
         {
          "Epost": "jenny.greberg@sipstrim.se",
          "KontaktID": 11849197,
          "Namn": "Jenny Greberg",
          "Roll": "Utlysningsansvarig programkontor (innehåll och inriktning)",
          "Telefon": "0920-49 28 40"
         },
         {
          "Epost": "ida.langborg@vinnova.se",
          "KontaktID": 12122639,
          "Namn": "Ida Langborg",
          "Roll": "Vinnova (bedömningsprocessen och administrativa frågor)",
          "Telefon": "08-473 3077"
         },
         {
          "Epost": "anna.utsi@sipstrim.se",
          "KontaktID": 12635033,
          "Namn": "Anna Utsi",
          "Roll": "Programchef\n(innehåll och inriktning)",
          "Telefon": ""
         }
        ],
        "LankLista": [],
        "Publiceringsdatum": "2019-03-14T08:30:18",
        "Publik": 1,
        "Titel": "Strategiska innovationsprogrammet för Gruv och Metallutvinning ",
        "TitelEngelska": "The strategic innovation programme for Swedish mining and metal producing industry – STRIM "
       },
       {
        "AnsokningsomgangDnrLista": [
         {
          "DiarienummerAnsokningsomgang": "2014-00749"
         },
         {
          "DiarienummerAnsokningsomgang": "2015-00514"
         },
         {
          "DiarienummerAnsokningsomgang": "2015-06677"
         }
        ],
        "Beskrivning": "Nationella påverkansplattformar för ökat deltagande i Horisont 2020 B",
        "BeskrivningEngelska": "Nationella påverkansplattformar för ökat deltagande i Horisont 2020 B",
        "Diarienummer": "2014-00985",
        "DiarienummerProgram": "2013-02062",
        "DokumentLista": [
         {
          "Beskrivning": "Utlysningstext Påverksansplattformar B 2015",
          "DokumentID": "2014-00985_7",
          "FileName": "Utlysning Påverkansplattformar Horizon 2020_erbj B_våren 2015 2015-04-27_FINAL.pdf(650118).pdf",
          "Titel": "Utlysningstext Påverksansplattformar B 2015",
          "fileURL": "https://data.vinnova.se/api/file/2014-00985_7"
         }
        ],
        "KontaktLista": [
         {
          "Epost": "erik.litborn@vinnova.se",
          "KontaktID": 11587000,
          "Namn": "Erik Litborn",
          "Roll": "Utlysningsansvarig",
          "Telefon": "46 8 473 31 98"
         },
         {
          "Epost": "johan.lindberg@vinnova.se",
          "KontaktID": 11587001,
          "Namn": "Johan Lindberg",
          "Roll": "Koordinator NCP",
          "Telefon": "46 8 454 64 53"
         },
         {
          "Epost": "magnus.carnwall@energimyndigheten.se",
          "KontaktID": 11587004,
          "Namn": "Magnus Carnwall",
          "Roll": "Energimyndigheten",
          "Telefon": "46 16 544 24 61"
         },
         {
          "Epost": "birgitta.myrman@vr.se",
          "KontaktID": 11587013,
          "Namn": "Birgitta Myrman",
          "Roll": "Vetenskapsrådet",
          "Telefon": "46 8 5464 42 24"
         },
         {
          "Epost": "ida.hallengren@vinnova.se",
          "KontaktID": 11863538,
          "Namn": "Ida Hallengren",
          "Roll": "Administratör",
          "Telefon": "46 8 473 31 92"
         },
         {
          "Epost": "johan.kohler@snsb.se",
          "KontaktID": 11863539,
          "Namn": "Johan Köhler",
          "Roll": "Rymdstyrelsen",
          "Telefon": "46 8 40 90 77 93"
         },
         {
          "Epost": "lisa.almesjo@formas.se",
          "KontaktID": 11863544,
          "Namn": "Lisa Almesjö",
          "Roll": "Formas",
          "Telefon": "46 8 775 40 53"
         },
         {
          "Epost": "thomas.jacobsson@forte.se",
          "KontaktID": 11863545,
          "Namn": "Thomas Jacobsson",
          "Roll": "Forte",
          "Telefon": "46 8 775 40 92"
         }
        ],
        "LankLista": [],
        "Publiceringsdatum": "2018-10-22T10:00:43",
        "Publik": 1,
        "Titel": "Nationella påverkansplattformar för ökat deltagande i Horisont 2020 B",
        "TitelEngelska": "Nationella påverkansplattformar för ökat deltagande i Horisont 2020 B"
       },
       {
        "AnsokningsomgangDnrLista": [
         {
          "DiarienummerAnsokningsomgang": "2014-01176"
         },
         {
          "DiarienummerAnsokningsomgang": "2014-04057"
         },
         {
          "DiarienummerAnsokningsomgang": "2014-04060"
         },
         {
          "DiarienummerAnsokningsomgang": "2014-06101"
         },
         {
          "DiarienummerAnsokningsomgang": "2015-03329"
         },
         {
          "DiarienummerAnsokningsomgang": "2015-04157"
         },
         {
          "DiarienummerAnsokningsomgang": "2016-00269"
         },
         {
          "DiarienummerAnsokningsomgang": "2016-02917"
         },
         {
          "DiarienummerAnsokningsomgang": "2016-05218"
         },
         {
          "DiarienummerAnsokningsomgang": "2016-05269"
         },
         {
          "DiarienummerAnsokningsomgang": "2017-02879"
         },
         {
          "DiarienummerAnsokningsomgang": "2017-02880"
         },
         {
          "DiarienummerAnsokningsomgang": "2017-05553"
         },
         {
          "DiarienummerAnsokningsomgang": "2018-02537"
         },
         {
          "DiarienummerAnsokningsomgang": "2018-04011"
         },
         {
          "DiarienummerAnsokningsomgang": "2019-00765"
         }
        ],
        "Beskrivning": "Strategiska innovationsprogrammet för Produktion2030",
        "BeskrivningEngelska": "Strategic Innovation Programme Produktion2030",
        "Diarienummer": "2014-01174",
        "DiarienummerProgram": "2014-00600",
        "DokumentLista": [],
        "KontaktLista": [
         {
          "Epost": "tero.stjernstoft@vinnova.se",
          "KontaktID": 11691554,
          "Namn": "Tero  Stjernstoft",
          "Roll": "Kontaktperson angående bedömningsprocessen, juridiska frågor och övriga frågor om utlysningens innehåll",
          "Telefon": " 46 8 473 32 96"
         },
         {
          "Epost": "cecilia.warrol@produktion2030.se",
          "KontaktID": 11691555,
          "Namn": "Cecilia  Warrol ",
          "Roll": "Kontaktpersoner kring utlysningens bakgrund, syfte och önskade effekter",
          "Telefon": " 46 703 779 375"
         },
         {
          "Epost": "johan.stahre@produktion2030.se",
          "KontaktID": 11691556,
          "Namn": "Johan Stahre",
          "Roll": "Kontaktpersoner kring utlysningens bakgrund, syfte och önskade effekter",
          "Telefon": " 46 703 088 838"
         },
         {
          "Epost": "bengt.larsson@vinnova.se",
          "KontaktID": 11691561,
          "Namn": "Bengt  Larsson",
          "Roll": "Administrativa frågor",
          "Telefon": " 46 8 473 31 14"
         },
         {
          "Epost": "anna.delin@vinnova.se",
          "KontaktID": 12875287,
          "Namn": "Anna Delin",
          "Roll": "Kontaktperson angående bedömningsprocessen, juridiska frågor och övriga frågor om utlysningens innehåll",
          "Telefon": "46 8 473 30 79"
         }
        ],
        "LankLista": [],
        "Publiceringsdatum": "2019-02-25T11:00:16",
        "Publik": 1,
        "Titel": "Strategiska innovationsprogrammet för Produktion2030",
        "TitelEngelska": "Strategic Innovation Programme Produktion2030"
       },
       {
        "AnsokningsomgangDnrLista": [
         {
          "DiarienummerAnsokningsomgang": "2014-01259"
         },
         {
          "DiarienummerAnsokningsomgang": "2015-00116"
         },
         {
          "DiarienummerAnsokningsomgang": "2015-06853"
         }
        ],
        "Beskrivning": "Strategisk samverkanskommunikation utlysningar",
        "BeskrivningEngelska": "x",
        "Diarienummer": "2014-01223",
        "DiarienummerProgram": "2009-02154",
        "DokumentLista": [],
        "KontaktLista": [],
        "LankLista": [],
        "Publiceringsdatum": "2017-06-29T14:30:07",
        "Publik": 0,
        "Titel": "Strategisk samverkanskommunikation utlysningar",
        "TitelEngelska": "x"
       },
       {
        "AnsokningsomgangDnrLista": [
         {
          "DiarienummerAnsokningsomgang": "2014-01281"
         },
         {
          "DiarienummerAnsokningsomgang": "2014-03461"
         },
         {
          "DiarienummerAnsokningsomgang": "2014-05954"
         }
        ],
        "Beskrivning": "Mångfaldslabbet - normkritisk innovation 2014",
        "BeskrivningEngelska": "Mångfaldslabbet - normkritisk innovation 2014",
        "Diarienummer": "2014-01280",
        "DiarienummerProgram": "2009-02191",
        "DokumentLista": [
         {
          "Beskrivning": "Mångfaldslabbet, Normkritisk Innovation Höst 2014 - utlysningstext",
          "DokumentID": "2014-01280_4",
          "FileName": "Utlysningtext  Mångfaldslabbet 20140611(577184).pdf",
          "Titel": "Mångfaldslabbet, Normkritisk Innovation Höst 2014 - utlysningstext",
          "fileURL": "https://data.vinnova.se/api/file/2014-01280_4"
         }
        ],
        "KontaktLista": [
         {
          "Epost": "Sophia.Ivarsson@VINNOVA.se",
          "KontaktID": 11598161,
          "Namn": "Sophia Ivarsson",
          "Roll": "utlysningsansvarig",
          "Telefon": "46 8 473 3160"
         },
         {
          "Epost": "Sussi.Trankell@VINNOVA.se",
          "KontaktID": 11598165,
          "Namn": "Sussi Trankell",
          "Roll": "administrativa frågor",
          "Telefon": "46 8 473 3158"
         }
        ],
        "LankLista": [],
        "Publiceringsdatum": "2018-06-12T07:30:50",
        "Publik": 1,
        "Titel": "Mångfaldslabbet - normkritisk innovation 2014",
        "TitelEngelska": "Mångfaldslabbet - normkritisk innovation 2014"
       },
       {
        "AnsokningsomgangDnrLista": [
         {
          "DiarienummerAnsokningsomgang": "2014-01313"
         },
         {
          "DiarienummerAnsokningsomgang": "2015-04908"
         }
        ],
        "Beskrivning": "Strategiska projekt Tjänster & IKT 2014, 2015",
        "BeskrivningEngelska": "x",
        "Diarienummer": "2014-01312",
        "DiarienummerProgram": "2010-01746",
        "DokumentLista": [],
        "KontaktLista": [],
        "LankLista": [],
        "Publiceringsdatum": "2019-01-23T13:00:19",
        "Publik": 1,
        "Titel": "Strategiska projekt Tjänster & IKT 2014, 2015",
        "TitelEngelska": "x"
       },
       {
        "AnsokningsomgangDnrLista": [
         {
          "DiarienummerAnsokningsomgang": "2014-01479"
         }
        ],
        "Beskrivning": "Transport- och miljöinnovationer 2014",
        "BeskrivningEngelska": "x",
        "Diarienummer": "2014-01430",
        "DiarienummerProgram": "2013-00117",
        "DokumentLista": [
         {
          "Beskrivning": "Mall för projektbeskrivning",
          "DokumentID": "2014-01430_2",
          "FileName": "Mall för ansökningar TMI 2014 140312.docx(553046).docx",
          "Titel": "Mall för projektbeskrivning",
          "fileURL": "https://data.vinnova.se/api/file/2014-01430_2"
         },
         {
          "Beskrivning": "Mall för CV",
          "DokumentID": "2014-01430_4",
          "FileName": "Mall CV.doc(553103).doc",
          "Titel": "Mall för CV",
          "fileURL": "https://data.vinnova.se/api/file/2014-01430_4"
         },
         {
          "Beskrivning": "Information om utlysningen",
          "DokumentID": "2014-01430_5",
          "FileName": "Info om utlysningen 140225 (2) [Skrivskyddad].pdf(553633).pdf",
          "Titel": "Information om utlysningen",
          "fileURL": "https://data.vinnova.se/api/file/2014-01430_5"
         },
         {
          "Beskrivning": "Frågor och svar om utlysningen",
          "DokumentID": "2014-01430_6",
          "FileName": "FAQ Utlysningen 140303.pdf(553634).pdf",
          "Titel": "Frågor och svar om utlysningen",
          "fileURL": "https://data.vinnova.se/api/file/2014-01430_6"
         },
         {
          "Beskrivning": "Transport- och miljöinnovationer 2014 - utlysningstext",
          "DokumentID": "2014-01430_7",
          "FileName": "TMI 2014 Utlysningstext 140319.pdf(553635).pdf",
          "Titel": "Transport- och miljöinnovationer 2014 - utlysningstext",
          "fileURL": "https://data.vinnova.se/api/file/2014-01430_7"
         }
        ],
        "KontaktLista": [
         {
          "Epost": "rein.juriado@vinnova.se",
          "KontaktID": 11605796,
          "Namn": "Rein Jüriado",
          "Roll": "Utlysningsansvarig/Transport",
          "Telefon": "46 8 473 30 39"
         },
         {
          "Epost": "rebecka.engstrom@vinnova.se",
          "KontaktID": 11605800,
          "Namn": "Rebecka Engström",
          "Roll": "Miljö",
          "Telefon": "46 8 473 31 69"
         },
         {
          "Epost": "per.norman@vinnova.se",
          "KontaktID": 11605801,
          "Namn": "Per Norman",
          "Roll": "Transport",
          "Telefon": "46 8 473 31 73"
         },
         {
          "Epost": "lena.dalsmyr@vinnova.se",
          "KontaktID": 11605802,
          "Namn": "Lena Dalsmyr",
          "Roll": "Administrativa frågor",
          "Telefon": "46 8 473 31 61"
         }
        ],
        "LankLista": [],
        "Publiceringsdatum": "2014-08-21T11:44:24",
        "Publik": 1,
        "Titel": "Transport- och miljöinnovationer 2014",
        "TitelEngelska": "x"
       },
       {
        "AnsokningsomgangDnrLista": [
         {
          "DiarienummerAnsokningsomgang": "2014-01542"
         },
         {
          "DiarienummerAnsokningsomgang": "2014-03923"
         },
         {
          "DiarienummerAnsokningsomgang": "2014-06085"
         },
         {
          "DiarienummerAnsokningsomgang": "2014-06116"
         },
         {
          "DiarienummerAnsokningsomgang": "2015-03694"
         }
        ],
        "Beskrivning": "MinBaS-Innovation; mineral, ballast och sten",
        "BeskrivningEngelska": "MinBaS Innovation 2014-2016",
        "Diarienummer": "2014-01527",
        "DiarienummerProgram": "2013-04999",
        "DokumentLista": [
         {
          "Beskrivning": "Utlysningstext MinBaS-Innovation sommaren 2015",
          "DokumentID": "2014-01527_11",
          "FileName": "MinBas-Innovation sommar 2015.pdf(663421).pdf",
          "Titel": "Utlysningstext MinBaS-Innovation sommaren 2015",
          "fileURL": "https://data.vinnova.se/api/file/2014-01527_11"
         }
        ],
        "KontaktLista": [
         {
          "Epost": "jan.bida@minfo.se",
          "KontaktID": 11609334,
          "Namn": "Jan Bida",
          "Roll": "Programchef",
          "Telefon": "46 70 673 13 57"
         },
         {
          "Epost": "susanne.gylesjo@vinnova.se",
          "KontaktID": 11609335,
          "Namn": "Susanne Gylesjö",
          "Roll": "Utlysningsansvarig",
          "Telefon": "46 8 473 3187"
         }
        ],
        "LankLista": [],
        "Publiceringsdatum": "2018-06-27T07:30:26",
        "Publik": 1,
        "Titel": "MinBaS-Innovation; mineral, ballast och sten",
        "TitelEngelska": "MinBaS Innovation 2014-2016"
       },
       {
        "AnsokningsomgangDnrLista": [
         {
          "DiarienummerAnsokningsomgang": "2014-01777"
         },
         {
          "DiarienummerAnsokningsomgang": "2017-05118"
         },
         {
          "DiarienummerAnsokningsomgang": "2017-05222"
         }
        ],
        "Beskrivning": "Samverkan för miljöinnovationer med aktörer i Brasilien 2014",
        "BeskrivningEngelska": "x",
        "Diarienummer": "2014-01762",
        "DiarienummerProgram": "2011-00500",
        "DokumentLista": [
         {
          "Beskrivning": "Mall - Avsiktsförklaring",
          "DokumentID": "2014-01762_10",
          "FileName": "Mall för avsiktsförklaring Samverkan för miljöinnovationer med aktörer i Brasilien 2014.doc(570223).doc",
          "Titel": "Mall - Avsiktsförklaring",
          "fileURL": "https://data.vinnova.se/api/file/2014-01762_10"
         },
         {
          "Beskrivning": "Cooperation for Eco-innovations with Actors in Brazil, 2014 - Call for Proposals",
          "DokumentID": "2014-01762_3",
          "FileName": "Utlysning Samverkan för miljöinnovationer med aktörer i Brasilien  20140402_EN.pdf(557789).pdf",
          "Titel": "Cooperation for Eco-innovations with Actors in Brazil, 2014 - Call for Proposals",
          "fileURL": "https://data.vinnova.se/api/file/2014-01762_3"
         },
         {
          "Beskrivning": "Samverkan för miljöinnovationer med aktörer i Brasilien 2014 - utlysningstext",
          "DokumentID": "2014-01762_4",
          "FileName": "Utlysning Samverkan med aktörer i Brasilien för miljöinnovationer 2014 20140402.pdf(557818).pdf",
          "Titel": "Samverkan för miljöinnovationer med aktörer i Brasilien 2014 - utlysningstext",
          "fileURL": "https://data.vinnova.se/api/file/2014-01762_4"
         }
        ],
        "KontaktLista": [
         {
          "Epost": "ciro.vasquez@VINNOVA.se",
          "KontaktID": 11614820,
          "Namn": "Ciro Vasquez",
          "Roll": "Utlysningsansvarig",
          "Telefon": "46 8 473 31 30"
         },
         {
          "Epost": "henrik.friden@VINNOVA.se",
          "KontaktID": 11614821,
          "Namn": "Henrik Fridén",
          "Roll": "",
          "Telefon": "46 8 473 31 54"
         },
         {
          "Epost": "christian.hansen@VINNOVA.se",
          "KontaktID": 11614822,
          "Namn": "Christian Hansen",
          "Roll": "",
          "Telefon": "46 8 473 31 12"
         },
         {
          "Epost": "lena.dalsmyr@VINNOVA.se",
          "KontaktID": 11614823,
          "Namn": "Lena Dalsmyr",
          "Roll": "Administrativa frågor",
          "Telefon": "46 8 473 31 61"
         }
        ],
        "LankLista": [],
        "Publiceringsdatum": "2019-03-02T07:30:18",
        "Publik": 1,
        "Titel": "Samverkan för miljöinnovationer med aktörer i Brasilien 2014",
        "TitelEngelska": "x"
       },
       {
        "AnsokningsomgangDnrLista": [
         {
          "DiarienummerAnsokningsomgang": "2014-01842"
         },
         {
          "DiarienummerAnsokningsomgang": "2015-06981"
         }
        ],
        "Beskrivning": "Materialbaserad konkurrenskraft 2014",
        "BeskrivningEngelska": "Materials based competitiveness 2014",
        "Diarienummer": "2014-01784",
        "DiarienummerProgram": "2013-02373",
        "DokumentLista": [
         {
          "Beskrivning": "Materialbaserad konkurrenskraft 2014-04-01 - utlysningstext",
          "DokumentID": "2014-01784_2",
          "FileName": "Materialbaserad konkurrenskraft 2014-04-01(556780).pdf",
          "Titel": "Materialbaserad konkurrenskraft 2014-04-01 - utlysningstext",
          "fileURL": "https://data.vinnova.se/api/file/2014-01784_2"
         },
         {
          "Beskrivning": "Mall för projektbeskrivning Materialbaserad konkurrenskraft - initiering-förstudie",
          "DokumentID": "2014-01784_3",
          "FileName": "Mall för projektbeskrivning Materialbaserad konkurrenskraft - initiering-förstudie(556782).doc",
          "Titel": "Mall för projektbeskrivning Materialbaserad konkurrenskraft - initiering-förstudie",
          "fileURL": "https://data.vinnova.se/api/file/2014-01784_3"
         },
         {
          "Beskrivning": "Mall för projektbeskrivning Materialbaserad konkurrenskraft - verifiering",
          "DokumentID": "2014-01784_4",
          "FileName": "Mall för projektbeskrivning Materialbaserad konkurrenskraft - verifiering(556783).doc",
          "Titel": "Mall för projektbeskrivning Materialbaserad konkurrenskraft - verifiering",
          "fileURL": "https://data.vinnova.se/api/file/2014-01784_4"
         },
         {
          "Beskrivning": "Mall för avsiktsförklaring Materialbaserad konkurrenskraft",
          "DokumentID": "2014-01784_5",
          "FileName": "Mall för avsiktsförklaring Materialbaserad konkurrenskraft(556789).doc",
          "Titel": "Mall för avsiktsförklaring Materialbaserad konkurrenskraft",
          "fileURL": "https://data.vinnova.se/api/file/2014-01784_5"
         },
         {
          "Beskrivning": "Intyg om försumbart stöd",
          "DokumentID": "2014-01784_6",
          "FileName": "Intyg om försumbart stöd(556790).doc",
          "Titel": "Intyg om försumbart stöd",
          "fileURL": "https://data.vinnova.se/api/file/2014-01784_6"
         },
         {
          "Beskrivning": "Budgetmall Materialbaserad konkurrenskraft",
          "DokumentID": "2014-01784_7",
          "FileName": "Budgetmall Materialbaserad konkurrenskraft.xls(556810).xls",
          "Titel": "Budgetmall Materialbaserad konkurrenskraft",
          "fileURL": "https://data.vinnova.se/api/file/2014-01784_7"
         }
        ],
        "KontaktLista": [
         {
          "Epost": "anders.maren@vinnova.se",
          "KontaktID": 11617387,
          "Namn": "Anders Marén",
          "Roll": "Utlysningsansvarig",
          "Telefon": "46 8 473 31 88"
         },
         {
          "Epost": "mats.robertsson@vinnova.se",
          "KontaktID": 11617406,
          "Namn": "Mats Robertsson",
          "Roll": "",
          "Telefon": "46 8 473 30 78"
         },
         {
          "Epost": "mats.jarekrans@vinnova.se",
          "KontaktID": 11617421,
          "Namn": "Mats Jarekrans",
          "Roll": "",
          "Telefon": "46 8 473 31 85"
         },
         {
          "Epost": "marie.wikstrom@vinnova.se",
          "KontaktID": 11617436,
          "Namn": "Marie Wikström",
          "Roll": "Adminstrativa frågor",
          "Telefon": "46 8 473 31 79"
         }
        ],
        "LankLista": [],
        "Publiceringsdatum": "2018-01-30T15:30:04",
        "Publik": 1,
        "Titel": "Materialbaserad konkurrenskraft 2014",
        "TitelEngelska": "Materials based competitiveness 2014"
       },
       {
        "AnsokningsomgangDnrLista": [
         {
          "DiarienummerAnsokningsomgang": "2014-02502"
         },
         {
          "DiarienummerAnsokningsomgang": "2014-06385"
         },
         {
          "DiarienummerAnsokningsomgang": "2016-02663"
         }
        ],
        "Beskrivning": "Digitalisering för framtidens skola. Innovationsprojekt.",
        "BeskrivningEngelska": "Digitalization for future learning.",
        "Diarienummer": "2014-02347",
        "DiarienummerProgram": "2013-01779",
        "DokumentLista": [
         {
          "Beskrivning": "Utlysningstext Digitalisering för framtidens skola - Innovationsprojekt vår 2015",
          "DokumentID": "2014-02347_11",
          "FileName": "Utlysningstext Digitalisering för framtidens skola - Innovationsprojekt vår 2015(653563).pdf",
          "Titel": "Utlysningstext Digitalisering för framtidens skola - Innovationsprojekt vår 2015",
          "fileURL": "https://data.vinnova.se/api/file/2014-02347_11"
         },
         {
          "Beskrivning": "Mall för Avsiktsförklaring - Digitalisering för framtidens skola - Innovationsprojekt vår 2015",
          "DokumentID": "2014-02347_13",
          "FileName": "Mall för Avsiktsförklaring - Digitalisering för framtidens skola - Innovationsprojekt vår 2015(653566).docx",
          "Titel": "Mall för Avsiktsförklaring - Digitalisering för framtidens skola - Innovationsprojekt vår 2015",
          "fileURL": "https://data.vinnova.se/api/file/2014-02347_13"
         },
         {
          "Beskrivning": "mall för meritförteckning (CV) ",
          "DokumentID": "2014-02347_14",
          "FileName": "mall för meritförteckning (CV)(653571).doc",
          "Titel": "mall för meritförteckning (CV) ",
          "fileURL": "https://data.vinnova.se/api/file/2014-02347_14"
         },
         {
          "Beskrivning": "Mall för projektbeskrivning  - Digitalisering för framtidens skola -Innovationsprojekt vår 2015",
          "DokumentID": "2014-02347_15",
          "FileName": "Mall för projektbeskrivning - Digitalisering för framtidens skola -Innovationsprojekt vår 2015(653572).docx",
          "Titel": "Mall för projektbeskrivning - Digitalisering för framtidens skola -Innovationsprojekt vår 2015",
          "fileURL": "https://data.vinnova.se/api/file/2014-02347_15"
         }
        ],
        "KontaktLista": [
         {
          "Epost": "Andreas.Aurelius@VINNOVA.se",
          "KontaktID": 11627382,
          "Namn": "Andreas Aurelius",
          "Roll": "Utlysningsansvarig",
          "Telefon": " 4684733087"
         },
         {
          "Epost": "Alexander.Alvsilver@VINNOVA.se",
          "KontaktID": 11627384,
          "Namn": "Alexander Alvsilver",
          "Roll": "",
          "Telefon": " 4684733055"
         },
         {
          "Epost": "annie.palm@VINNOVA.se",
          "KontaktID": 11627385,
          "Namn": "Annie Palm",
          "Roll": "Programassistent",
          "Telefon": " 4684733037"
         }
        ],
        "LankLista": [],
        "Publiceringsdatum": "2018-09-19T07:30:23",
        "Publik": 1,
        "Titel": "Digitalisering för framtidens skola - Innovationsprojekt",
        "TitelEngelska": "Digitalization for future learning."
       },
       {
        "AnsokningsomgangDnrLista": [
         {
          "DiarienummerAnsokningsomgang": "2014-02361"
         },
         {
          "DiarienummerAnsokningsomgang": "2014-06384"
         }
        ],
        "Beskrivning": "Digitalisering för framtidens skola - Innovativa Testmiljöer",
        "BeskrivningEngelska": "Digitalization for future learning - test beds",
        "Diarienummer": "2014-02348",
        "DiarienummerProgram": "2013-01779",
        "DokumentLista": [
         {
          "Beskrivning": "Digitalisering för framtidens skola -Innovativa testmiljöer vår 2015 mall för projektbeskrivning",
          "DokumentID": "2014-02348_10",
          "FileName": "Digitalisering för framtidens skola -Innovativa testmiljöer vår 2015 mall för projektbeskrivning(631442).docx",
          "Titel": "Digitalisering för framtidens skola -Innovativa testmiljöer vår 2015 mall för projektbeskrivning",
          "fileURL": "https://data.vinnova.se/api/file/2014-02348_10"
         },
         {
          "Beskrivning": "Digitalisering för framtidens skola - mall för avsiktsförklaring",
          "DokumentID": "2014-02348_11",
          "FileName": "Digitalisering för framtidens skola - mall för avsiktsförklaring(631364).docx",
          "Titel": "Digitalisering för framtidens skola - mall för avsiktsförklaring",
          "fileURL": "https://data.vinnova.se/api/file/2014-02348_11"
         },
         {
          "Beskrivning": "Digitalisering för framtidens skola - mall för meritförteckning (CV) 2014-04-09",
          "DokumentID": "2014-02348_3",
          "FileName": "Digitalisering för framtidens skola - mall för meritförteckning (CV) 2014-04-09(561873).doc",
          "Titel": "Digitalisering för framtidens skola - mall för meritförteckning (CV) 2014-04-09",
          "fileURL": "https://data.vinnova.se/api/file/2014-02348_3"
         },
         {
          "Beskrivning": "Digitalisering för framtidens skola - Innovativa testmiljöer vår 2015 utlysningstext",
          "DokumentID": "2014-02348_9",
          "FileName": "Digitalisering för framtidens skola - Innovativa testmiljöer vår 2015 utlysningstext(631439).pdf",
          "Titel": "Digitalisering för framtidens skola - Innovativa testmiljöer vår 2015 utlysningstext",
          "fileURL": "https://data.vinnova.se/api/file/2014-02348_9"
         }
        ],
        "KontaktLista": [
         {
          "Epost": "Andreas.Aurelius@VINNOVA.se",
          "KontaktID": 11627387,
          "Namn": "Andreas Aurelius",
          "Roll": "Utlysningsansvarig",
          "Telefon": " 4684733087"
         },
         {
          "Epost": "Anna.Bjurstrom@VINNOVA.se",
          "KontaktID": 11627388,
          "Namn": "Anna Bjurström",
          "Roll": "",
          "Telefon": " 4684733089"
         },
         {
          "Epost": "Alexander.Alvsilver@VINNOVA.se",
          "KontaktID": 11627389,
          "Namn": "Alexander Alvsilver",
          "Roll": "",
          "Telefon": " 4684733055"
         },
         {
          "Epost": "annie.palm@VINNOVA.se",
          "KontaktID": 11627390,
          "Namn": "Annie Palm",
          "Roll": "Administrativa frågor",
          "Telefon": " 4684733037"
         }
        ],
        "LankLista": [],
        "Publiceringsdatum": "2019-04-01T15:00:31",
        "Publik": 1,
        "Titel": "Digitalisering för framtidens skola - Innovativa Testmiljöer",
        "TitelEngelska": "Digitalization for future learning - test beds"
       },
       {
        "AnsokningsomgangDnrLista": [
         {
          "DiarienummerAnsokningsomgang": "2014-03118"
         }
        ],
        "Beskrivning": "Policy - hållbara städer",
        "BeskrivningEngelska": "z",
        "Diarienummer": "2014-03113",
        "DiarienummerProgram": "2003-00420",
        "DokumentLista": [],
        "KontaktLista": [],
        "LankLista": [],
        "Publiceringsdatum": "2018-06-29T10:00:31",
        "Publik": 1,
        "Titel": "Policy - hållbara städer",
        "TitelEngelska": "z"
       },
       {
        "AnsokningsomgangDnrLista": [
         {
          "DiarienummerAnsokningsomgang": "2014-03264"
         },
         {
          "DiarienummerAnsokningsomgang": "2014-06083"
         },
         {
          "DiarienummerAnsokningsomgang": "2015-06179"
         },
         {
          "DiarienummerAnsokningsomgang": "2016-05047"
         }
        ],
        "Beskrivning": "Koordineringsmedel SIP STRIM",
        "BeskrivningEngelska": "Coordination SIP STRIM",
        "Diarienummer": "2014-03169",
        "DiarienummerProgram": "2014-00598",
        "DokumentLista": [],
        "KontaktLista": [],
        "LankLista": [],
        "Publiceringsdatum": "2019-01-30T15:00:29",
        "Publik": 1,
        "Titel": "Koordineringsmedel SIP STRIM",
        "TitelEngelska": "Coordination SIP STRIM"
       },
       {
        "AnsokningsomgangDnrLista": [
         {
          "DiarienummerAnsokningsomgang": "2014-03266"
         },
         {
          "DiarienummerAnsokningsomgang": "2016-04952"
         }
        ],
        "Beskrivning": "Koordineringsmedel - SIP Produktion2030",
        "BeskrivningEngelska": "Coordination ",
        "Diarienummer": "2014-03170",
        "DiarienummerProgram": "2014-00600",
        "DokumentLista": [],
        "KontaktLista": [],
        "LankLista": [],
        "Publiceringsdatum": "2019-02-25T11:00:17",
        "Publik": 1,
        "Titel": "Koordineringsmedel - SIP Produktion2030",
        "TitelEngelska": "Coordination "
       },
       {
        "AnsokningsomgangDnrLista": [
         {
          "DiarienummerAnsokningsomgang": "2014-03268"
         },
         {
          "DiarienummerAnsokningsomgang": "2016-05253"
         },
         {
          "DiarienummerAnsokningsomgang": "2016-05412"
         }
        ],
        "Beskrivning": "Koordineringsmedel SIP Lättvikt",
        "BeskrivningEngelska": "xx",
        "Diarienummer": "2014-03177",
        "DiarienummerProgram": "2014-00596",
        "DokumentLista": [],
        "KontaktLista": [],
        "LankLista": [],
        "Publiceringsdatum": "2016-12-01T13:30:05",
        "Publik": 1,
        "Titel": "Koordineringsmedel SIP Lättvikt",
        "TitelEngelska": "xx"
       },
       {
        "AnsokningsomgangDnrLista": [
         {
          "DiarienummerAnsokningsomgang": "2014-03269"
         },
         {
          "DiarienummerAnsokningsomgang": "2014-05653"
         },
         {
          "DiarienummerAnsokningsomgang": "2016-05252"
         },
         {
          "DiarienummerAnsokningsomgang": "2017-04964"
         },
         {
          "DiarienummerAnsokningsomgang": "2018-02503"
         }
        ],
        "Beskrivning": "Koordineringsmedel SIP Metalliska Material",
        "BeskrivningEngelska": "xx",
        "Diarienummer": "2014-03178",
        "DiarienummerProgram": "2014-00597",
        "DokumentLista": [],
        "KontaktLista": [],
        "LankLista": [],
        "Publiceringsdatum": "2017-12-12T12:30:03",
        "Publik": 1,
        "Titel": "Koordineringsmedel SIP Metalliska Material",
        "TitelEngelska": "xx"
       },
       {
        "AnsokningsomgangDnrLista": [
         {
          "DiarienummerAnsokningsomgang": "2014-03217"
         },
         {
          "DiarienummerAnsokningsomgang": "2014-03895"
         },
         {
          "DiarienummerAnsokningsomgang": "2015-00039"
         },
         {
          "DiarienummerAnsokningsomgang": "2016-00441"
         }
        ],
        "Beskrivning": "Koordineringsmedel 2014-2016 SIO PiiA",
        "BeskrivningEngelska": "PiiA",
        "Diarienummer": "2014-03179",
        "DiarienummerProgram": "2014-00599",
        "DokumentLista": [],
        "KontaktLista": [],
        "LankLista": [],
        "Publiceringsdatum": "2016-10-20T09:00:05",
        "Publik": 1,
        "Titel": "Koordineringsmedel 2014-2016 SIO PiiA",
        "TitelEngelska": "PiiA"
       },
       {
        "AnsokningsomgangDnrLista": [
         {
          "DiarienummerAnsokningsomgang": "2014-03861"
         },
         {
          "DiarienummerAnsokningsomgang": "2015-06700"
         },
         {
          "DiarienummerAnsokningsomgang": "2015-06790"
         }
        ],
        "Beskrivning": "Strategiska projekt digitalisering och lärande",
        "BeskrivningEngelska": "x",
        "Diarienummer": "2014-03372",
        "DiarienummerProgram": "2013-01779",
        "DokumentLista": [],
        "KontaktLista": [],
        "LankLista": [],
        "Publiceringsdatum": "2018-10-24T11:30:44",
        "Publik": 1,
        "Titel": "Strategiska projekt digitalisering och lärande",
        "TitelEngelska": "x"
       },
       {
        "AnsokningsomgangDnrLista": [
         {
          "DiarienummerAnsokningsomgang": "2014-03883"
         },
         {
          "DiarienummerAnsokningsomgang": "2014-05003"
         },
         {
          "DiarienummerAnsokningsomgang": "2015-03307"
         },
         {
          "DiarienummerAnsokningsomgang": "2015-04696"
         }
        ],
        "Beskrivning": "Riksmätplatsen 2015",
        "BeskrivningEngelska": "Riksmätplatsen 2015",
        "Diarienummer": "2014-03880",
        "DiarienummerProgram": "2013-01244",
        "DokumentLista": [],
        "KontaktLista": [],
        "LankLista": [],
        "Publiceringsdatum": "2018-07-04T13:30:22",
        "Publik": 1,
        "Titel": "Riksmätplatsen 2015",
        "TitelEngelska": "Riksmätplatsen 2015"
       },
       {
        "AnsokningsomgangDnrLista": [
         {
          "DiarienummerAnsokningsomgang": "2016-01716"
         },
         {
          "DiarienummerAnsokningsomgang": "2016-05056"
         },
         {
          "DiarienummerAnsokningsomgang": "2017-05091"
         }
        ],
        "Beskrivning": "Koordineringsmedel SIO Grafen",
        "BeskrivningEngelska": "SIO Grafen",
        "Diarienummer": "2014-04028",
        "DiarienummerProgram": "2014-04009",
        "DokumentLista": [],
        "KontaktLista": [
         {
          "Epost": "helena.theander@cit.chalmers.se ",
          "KontaktID": 11689592,
          "Namn": "Helena  Theander",
          "Roll": "Kontaktperson angående utlysningens inriktning och innehåll",
          "Telefon": " 46 70-928 40 74"
         },
         {
          "Epost": "rebecca.hollertz@vinnova.se",
          "KontaktID": 12809021,
          "Namn": "Rebecca Hollertz",
          "Roll": "Kontaktperson på Vinnova",
          "Telefon": " 46 72-453 06 34 "
         }
        ],
        "LankLista": [],
        "Publiceringsdatum": "2018-11-23T15:30:36",
        "Publik": 1,
        "Titel": "Koordineringsmedel  SIO Grafen",
        "TitelEngelska": "SIO Grafen"
       },
       {
        "AnsokningsomgangDnrLista": [
         {
          "DiarienummerAnsokningsomgang": "2014-04050"
         },
         {
          "DiarienummerAnsokningsomgang": "2015-00047"
         },
         {
          "DiarienummerAnsokningsomgang": "2015-04768"
         },
         {
          "DiarienummerAnsokningsomgang": "2015-06680"
         },
         {
          "DiarienummerAnsokningsomgang": "2016-02926"
         },
         {
          "DiarienummerAnsokningsomgang": "2016-04789"
         },
         {
          "DiarienummerAnsokningsomgang": "2016-05206"
         },
         {
          "DiarienummerAnsokningsomgang": "2017-01686"
         },
         {
          "DiarienummerAnsokningsomgang": "2017-02730"
         },
         {
          "DiarienummerAnsokningsomgang": "2017-04143"
         },
         {
          "DiarienummerAnsokningsomgang": "2017-05429"
         },
         {
          "DiarienummerAnsokningsomgang": "2018-04483"
         }
        ],
        "Beskrivning": "Strategiska Innovationsprogrammet för Grafen - öppna utlysningar",
        "BeskrivningEngelska": ".",
        "Diarienummer": "2014-04030",
        "DiarienummerProgram": "2014-04009",
        "DokumentLista": [
         {
          "Beskrivning": "Utlysningstext - SIO Grafen Samverkan för kommersiella grafentillämpningar (2017)",
          "DokumentID": "2014-04030_29",
          "FileName": "Utlysningstext - SIO Grafen -Samverkan för kommersiella grafentillämpningar (2017).pdf(796898).pdf",
          "Titel": "Utlysningstext - SIO Grafen: Samverkan för kommersiella grafentillämpningar (2017)",
          "fileURL": "https://data.vinnova.se/api/file/2014-04030_29"
         },
         {
          "Beskrivning": "Projektbeskrivning - Mall - SIO Grafen Samverkan för kommersiella grafentillämpningar",
          "DokumentID": "2014-04030_30",
          "FileName": "Projektbeskrivning - Mall - SIO Grafen Samverkan för kommersiella grafentillämpningar.docx(796899).docx",
          "Titel": "Projektbeskrivning - Mall - SIO Grafen Samverkan för kommersiella grafentillämpningar",
          "fileURL": "https://data.vinnova.se/api/file/2014-04030_30"
         },
         {
          "Beskrivning": "CV-bilaga - Mall - SIO Grafen Samverkan för kommersiella grafentillämpningar",
          "DokumentID": "2014-04030_31",
          "FileName": "CVbilaga - Mall - Mall - SIO Grafen Samverkan för kommersiella grafentillämpningar.docx(796900).docx",
          "Titel": "CV-bilaga - Mall - SIO Grafen Samverkan för kommersiella grafentillämpningar",
          "fileURL": "https://data.vinnova.se/api/file/2014-04030_31"
         },
         {
          "Beskrivning": "Projektsammanfattning - Mall - SIO Grafen Samverkan för kommersiella grafentillämpningar",
          "DokumentID": "2014-04030_32",
          "FileName": "Projektsammanfattning - Mall - SIO Grafen Samverkan för kommersiella grafentillämpningar.docx(796901).docx",
          "Titel": "Projektsammanfattning - Mall - SIO Grafen Samverkan för kommersiella grafentillämpningar",
          "fileURL": "https://data.vinnova.se/api/file/2014-04030_32"
         }
        ],
        "KontaktLista": [
         {
          "Epost": "helena.theander@cit.chalmers.se",
          "KontaktID": 11689778,
          "Namn": "Helena  Theander",
          "Roll": "Kontaktperson angående utlysningens bakgrund, syfte och önskade effekter",
          "Telefon": " 46 70 928 40 74"
         },
         {
          "Epost": "rebecca.hollertz@vinnova.se",
          "KontaktID": 12802328,
          "Namn": "Rebecca Hollertz",
          "Roll": "Kontaktperson angående bedömningsprocessen, juridiska frågor och övriga frågor om utlysningens innehåll",
          "Telefon": "46 8 473 30 76"
         },
         {
          "Epost": "marie.wikstrom@vinnova.se",
          "KontaktID": 12815890,
          "Namn": "Marie Wikström",
          "Roll": "Administrativa frågor",
          "Telefon": "46 8 473 31 79"
         }
        ],
        "LankLista": [],
        "Publiceringsdatum": "2018-11-30T14:30:29",
        "Publik": 1,
        "Titel": "SIO Grafen: Samverkan för kommersiella tillämpningar med grafen",
        "TitelEngelska": "."
       },
       {
        "AnsokningsomgangDnrLista": [
         {
          "DiarienummerAnsokningsomgang": "2015-02527"
         },
         {
          "DiarienummerAnsokningsomgang": "2015-06506"
         },
         {
          "DiarienummerAnsokningsomgang": "2017-05477"
         }
        ],
        "Beskrivning": "Koordineringsmedel SIP IoT",
        "BeskrivningEngelska": "SIO IoT",
        "Diarienummer": "2014-04031",
        "DiarienummerProgram": "2014-04011",
        "DokumentLista": [],
        "KontaktLista": [],
        "LankLista": [],
        "Publiceringsdatum": "2017-12-08T11:30:24",
        "Publik": 1,
        "Titel": "Koordineringsmedel SIP IoT",
        "TitelEngelska": "SIO IoT"
       },
       {
        "AnsokningsomgangDnrLista": [
         {
          "DiarienummerAnsokningsomgang": "2014-04062"
         },
         {
          "DiarienummerAnsokningsomgang": "2014-05494"
         },
         {
          "DiarienummerAnsokningsomgang": "2014-06301"
         },
         {
          "DiarienummerAnsokningsomgang": "2015-04728"
         },
         {
          "DiarienummerAnsokningsomgang": "2016-02691"
         },
         {
          "DiarienummerAnsokningsomgang": "2016-02713"
         },
         {
          "DiarienummerAnsokningsomgang": "2017-02478"
         },
         {
          "DiarienummerAnsokningsomgang": "2017-04819"
         },
         {
          "DiarienummerAnsokningsomgang": "2017-04923"
         },
         {
          "DiarienummerAnsokningsomgang": "2018-00823"
         },
         {
          "DiarienummerAnsokningsomgang": "2019-01589"
         }
        ],
        "Beskrivning": "Strategiska innovationsprogrammet för Sakernas Internet",
        "BeskrivningEngelska": "SIO Internet of Things",
        "Diarienummer": "2014-04033",
        "DiarienummerProgram": "2014-04011",
        "DokumentLista": [
         {
          "Beskrivning": "Strategiska innovationsprogrammet för Sakernas internet - utlysningstext VT2016",
          "DokumentID": "2014-04033_27",
          "FileName": "Strategiska innovationsprogrammet för Sakernas internet - utlysningstext.pdf(730430).pdf",
          "Titel": "Strategiska innovationsprogrammet för Sakernas internet - utlysningstext",
          "fileURL": "https://data.vinnova.se/api/file/2014-04033_27"
         },
         {
          "Beskrivning": "Mall för CV IoT utlysning VT 2016",
          "DokumentID": "2014-04033_28",
          "FileName": "Mall för CV.docx(730431).docx",
          "Titel": "Mall för CV",
          "fileURL": "https://data.vinnova.se/api/file/2014-04033_28"
         },
         {
          "Beskrivning": "Mall för projektreferat IoT Utlysning Våren 2016",
          "DokumentID": "2014-04033_29",
          "FileName": "Mall för projektreferat.docx(730432).docx",
          "Titel": "Mall för projektreferat",
          "fileURL": "https://data.vinnova.se/api/file/2014-04033_29"
         },
         {
          "Beskrivning": "Projektbeskrivningsmall för IoT utlysning Våren 2016",
          "DokumentID": "2014-04033_31",
          "FileName": "Projektbeskrivningmall IoT V16_b.docx(744887).docx",
          "Titel": "Projektbeskrivningsmall",
          "fileURL": "https://data.vinnova.se/api/file/2014-04033_31"
         }
        ],
        "KontaktLista": [
         {
          "Epost": "torbjorn.fangstrom@angstrom.uu.se",
          "KontaktID": 11863615,
          "Namn": "Torbjörn Fängström",
          "Roll": "Kontaktperson angående utlysningens inriktning och innehåll",
          "Telefon": "46 70 167 93 90"
         },
         {
          "Epost": "joanna.franzen@vinnova.se",
          "KontaktID": 12222284,
          "Namn": "Joanna Franzén",
          "Roll": "Kontaktperson angående bedömningsprocessen samt juridiska och administrativa frågor",
          "Telefon": "46 8 473 3054"
         },
         {
          "Epost": "goran.persson@vinnova.se",
          "KontaktID": 12564130,
          "Namn": "Göran  Persson",
          "Roll": "Administrativa frågor",
          "Telefon": "46 8 473 31 32"
         }
        ],
        "LankLista": [],
        "Publiceringsdatum": "2018-05-14T17:00:03",
        "Publik": 1,
        "Titel": "Strategiska innovationsprogrammet för Sakernas Internet",
        "TitelEngelska": "SIO Internet of Things"
       },
       {
        "AnsokningsomgangDnrLista": [
         {
          "DiarienummerAnsokningsomgang": "2014-06161"
         },
         {
          "DiarienummerAnsokningsomgang": "2017-05381"
         }
        ],
        "Beskrivning": "Koordineringsmedel Smartare Elektroniksystem. Strategiskt Innovationsprogram.",
        "BeskrivningEngelska": "Funds coordination 2014-2020 SIO ICT Electronic Components and Systems",
        "Diarienummer": "2014-04035",
        "DiarienummerProgram": "2014-04012",
        "DokumentLista": [],
        "KontaktLista": [],
        "LankLista": [],
        "Publiceringsdatum": "2019-04-02T16:00:27",
        "Publik": 1,
        "Titel": "SIP Smartare Elektroniksystem. Koordineringsmedel.",
        "TitelEngelska": "Funds coordination 2014-2020 SIO ICT Electronic Components and Systems. Strategic Innovation Program."
       },
       {
        "AnsokningsomgangDnrLista": [
         {
          "DiarienummerAnsokningsomgang": "2014-04048"
         },
         {
          "DiarienummerAnsokningsomgang": "2014-04211"
         },
         {
          "DiarienummerAnsokningsomgang": "2014-06136"
         },
         {
          "DiarienummerAnsokningsomgang": "2014-06157"
         },
         {
          "DiarienummerAnsokningsomgang": "2014-06158"
         },
         {
          "DiarienummerAnsokningsomgang": "2015-03704"
         },
         {
          "DiarienummerAnsokningsomgang": "2015-04154"
         },
         {
          "DiarienummerAnsokningsomgang": "2015-04155"
         },
         {
          "DiarienummerAnsokningsomgang": "2016-00036"
         },
         {
          "DiarienummerAnsokningsomgang": "2016-00037"
         },
         {
          "DiarienummerAnsokningsomgang": "2016-00039"
         },
         {
          "DiarienummerAnsokningsomgang": "2016-02764"
         },
         {
          "DiarienummerAnsokningsomgang": "2017-03611"
         },
         {
          "DiarienummerAnsokningsomgang": "2017-05557"
         },
         {
          "DiarienummerAnsokningsomgang": "2018-02602"
         },
         {
          "DiarienummerAnsokningsomgang": "2018-03216"
         },
         {
          "DiarienummerAnsokningsomgang": "2018-03217"
         }
        ],
        "Beskrivning": "Strategiska innovationsprogrammet för Smartare Elektroniksystem. Utlysning och ansökningsomgångar. Publika ansökningsomgångar och slutna för strategiska projekt.",
        "BeskrivningEngelska": "Strategic innovation programme Electronic Components and Systems",
        "Diarienummer": "2014-04036",
        "DiarienummerProgram": "2014-04012",
        "DokumentLista": [
         {
          "Beskrivning": "Mall projektbeskrivning Smartare Elektroniksystem Genomförbarhetsstudier 2017",
          "DokumentID": "2014-04036_50",
          "FileName": "Mall Projektbeskrivning Genomförbarhetsstudie 2017 - SES rev 1.docx(797575).docx",
          "Titel": "Mall projektbeskrivning Smartare Elektroniksystem Genomförbarhetsstudier 2017",
          "fileURL": "https://data.vinnova.se/api/file/2014-04036_50"
         }
        ],
        "KontaktLista": [
         {
          "Epost": "Lars.Gustafsson@vinnova.se",
          "KontaktID": 11689940,
          "Namn": "Lars Gustafsson",
          "Roll": "Kontaktperson angående bedömningsprocessen samt juridiska och administrativa frågor",
          "Telefon": "46 8 473 3212"
         },
         {
          "Epost": "Magnus.Svensson@smartareelektroniksystem.se",
          "KontaktID": 11848930,
          "Namn": "Magnus Svensson",
          "Roll": "Programchef Smartare Elektroniksystem. Kontaktperson angående utlysningens inriktning och innehåll.",
          "Telefon": "46 706 963 617"
         },
         {
          "Epost": "Asa.Finth@vinnova.se",
          "KontaktID": 11969601,
          "Namn": "Åsa Finth",
          "Roll": "Administrativa frågor",
          "Telefon": "46 8 473 3104"
         }
        ],
        "LankLista": [],
        "Publiceringsdatum": "2019-04-02T16:00:28",
        "Publik": 1,
        "Titel": "Strategiska innovationsprogrammet Smartare Elektroniksystem",
        "TitelEngelska": "Strategic innovation programme Electronic Components and Systems"
       },
       {
        "AnsokningsomgangDnrLista": [
         {
          "DiarienummerAnsokningsomgang": "2014-04214"
         },
         {
          "DiarienummerAnsokningsomgang": "2015-02998"
         },
         {
          "DiarienummerAnsokningsomgang": "2017-05474"
         }
        ],
        "Beskrivning": "Koordineringsmedel SweLife",
        "BeskrivningEngelska": "Strategiskt innovationsprogram för SIO Folksjukdomar",
        "Diarienummer": "2014-04037",
        "DiarienummerProgram": "2014-04013",
        "DokumentLista": [],
        "KontaktLista": [],
        "LankLista": [],
        "Publiceringsdatum": "2018-12-03T11:00:13",
        "Publik": 1,
        "Titel": "Koordineringsmedel SweLife",
        "TitelEngelska": "Strategiskt innovationsprogram för SIO Folksjukdomar"
       },
       {
        "AnsokningsomgangDnrLista": [
         {
          "DiarienummerAnsokningsomgang": "2014-04143"
         },
         {
          "DiarienummerAnsokningsomgang": "2014-04144"
         },
         {
          "DiarienummerAnsokningsomgang": "2014-06288"
         },
         {
          "DiarienummerAnsokningsomgang": "2015-03916"
         },
         {
          "DiarienummerAnsokningsomgang": "2015-07086"
         }
        ],
        "Beskrivning": "VINNMER Marie Curie Academy Outgoing",
        "BeskrivningEngelska": "VINNMER Marie Curie Academy Outgoing",
        "Diarienummer": "2014-04139",
        "DiarienummerProgram": "2011-02127",
        "DokumentLista": [
         {
          "Beskrivning": "VINNMER Marie Curie Academy Outgoing – Call for proposals",
          "DokumentID": "2014-04139_11",
          "FileName": "VINNMER Marie Curie Academy Outgoing call 2015-04-15 FINAL.pdf(647016).pdf",
          "Titel": "VINNMER Marie Curie Academy Outgoing – Call for proposals",
          "fileURL": "https://data.vinnova.se/api/file/2014-04139_11"
         },
         {
          "Beskrivning": "ETHICAL ISSUES TABLE",
          "DokumentID": "2014-04139_3",
          "FileName": "Ethical issues table.docx(587312).docx",
          "Titel": "ETHICAL ISSUES TABLE",
          "fileURL": "https://data.vinnova.se/api/file/2014-04139_3"
         },
         {
          "Beskrivning": "REA Annex II",
          "DokumentID": "2014-04139_4",
          "FileName": "rea-annex2-mc-mono-v3_en.pdf(587314).pdf",
          "Titel": "REA Annex II",
          "fileURL": "https://data.vinnova.se/api/file/2014-04139_4"
         },
         {
          "Beskrivning": "REA - Annex III",
          "DokumentID": "2014-04139_5",
          "FileName": "rea-annex3-mc-cofund-mono-v4_en.pdf(587315).pdf",
          "Titel": "REA - Annex III",
          "fileURL": "https://data.vinnova.se/api/file/2014-04139_5"
         },
         {
          "Beskrivning": "Template Project description",
          "DokumentID": "2014-04139_6",
          "FileName": "Template Project description.docx(587317).docx",
          "Titel": "Template Project description",
          "fileURL": "https://data.vinnova.se/api/file/2014-04139_6"
         }
        ],
        "KontaktLista": [
         {
          "Epost": "erik.litborn@VINNOVA.se",
          "KontaktID": 11699343,
          "Namn": "Erik Litborn",
          "Roll": "Programme Director",
          "Telefon": "46 8 473 3198"
         },
         {
          "Epost": "ebba.lindegren@VINNOVA.se",
          "KontaktID": 11699344,
          "Namn": "Ebba Lindegren",
          "Roll": "Programme Manager",
          "Telefon": "46 8 473 3246"
         },
         {
          "Epost": "eva.nystrom@VINNOVA.se",
          "KontaktID": 11699345,
          "Namn": "Eva Nyström",
          "Roll": "Administrator",
          "Telefon": "46 8 4733121"
         },
         {
          "Epost": "katrin.danerlov@VINNOVA.se",
          "KontaktID": 11699346,
          "Namn": "Katrin Danerlöv",
          "Roll": "Programme Manager",
          "Telefon": "46 8 473 3026"
         },
         {
          "Epost": "tommy.schonberg@VINNOVA.se",
          "KontaktID": 11699348,
          "Namn": "Tommy Schönberg",
          "Roll": "Programme Manager",
          "Telefon": "46 8 473 3030"
         },
         {
          "Epost": "lena.rimsten@VINNOVA.se",
          "KontaktID": 11701537,
          "Namn": "Lena Rimsten",
          "Roll": "Programme Manager",
          "Telefon": "46 8 473 31 24"
         }
        ],
        "LankLista": [],
        "Publiceringsdatum": "2018-10-22T10:00:06",
        "Publik": 1,
        "Titel": "VINNMER Marie Curie Academy Outgoing",
        "TitelEngelska": "VINNMER Marie Curie Academy Outgoing"
       },
       {
        "AnsokningsomgangDnrLista": [
         {
          "DiarienummerAnsokningsomgang": "2015-00808"
         },
         {
          "DiarienummerAnsokningsomgang": "2017-05223"
         }
        ],
        "Beskrivning": "Koordineringsmedel SIP BioInnovation",
        "BeskrivningEngelska": "SIO BIOInnovation ",
        "Diarienummer": "2014-04154",
        "DiarienummerProgram": "2014-04014",
        "DokumentLista": [],
        "KontaktLista": [],
        "LankLista": [],
        "Publiceringsdatum": "2017-11-28T11:30:04",
        "Publik": 1,
        "Titel": "Koordineringsmedel SIP BioInnovation",
        "TitelEngelska": "SIO BIOInnovation "
       },
       {
        "AnsokningsomgangDnrLista": [
         {
          "DiarienummerAnsokningsomgang": "2014-05337"
         },
         {
          "DiarienummerAnsokningsomgang": "2017-05432"
         }
        ],
        "Beskrivning": "Koordineringsmedel 2014-2020 SIO Innovair",
        "BeskrivningEngelska": "SIO Innovair",
        "Diarienummer": "2014-04155",
        "DiarienummerProgram": "2014-04016",
        "DokumentLista": [],
        "KontaktLista": [],
        "LankLista": [],
        "Publiceringsdatum": "2017-12-07T13:00:21",
        "Publik": 1,
        "Titel": "Koordineringsmedel 2014-2020 SIO Innovair",
        "TitelEngelska": "SIO Innovair"
       },
       {
        "AnsokningsomgangDnrLista": [
         {
          "DiarienummerAnsokningsomgang": "2012-02236"
         },
         {
          "DiarienummerAnsokningsomgang": "2013-04880"
         },
         {
          "DiarienummerAnsokningsomgang": "2014-04355"
         },
         {
          "DiarienummerAnsokningsomgang": "2015-03082"
         },
         {
          "DiarienummerAnsokningsomgang": "2015-04092"
         },
         {
          "DiarienummerAnsokningsomgang": "2016-02735"
         },
         {
          "DiarienummerAnsokningsomgang": "2017-01728"
         },
         {
          "DiarienummerAnsokningsomgang": "2018-02234"
         },
         {
          "DiarienummerAnsokningsomgang": "2018-02347"
         },
         {
          "DiarienummerAnsokningsomgang": "2018-02672"
         },
         {
          "DiarienummerAnsokningsomgang": "2018-05312"
         }
        ],
        "Beskrivning": "Kunskapstriangeln Övrig utlysning",
        "BeskrivningEngelska": "x",
        "Diarienummer": "2014-04352",
        "DiarienummerProgram": "2012-02210",
        "DokumentLista": [],
        "KontaktLista": [
         {
          "Epost": "marten.berg@vinnova.se",
          "KontaktID": 11751016,
          "Namn": "Mårten Berg",
          "Roll": "Utlysningsansvarig",
          "Telefon": "08 473 91 37"
         }
        ],
        "LankLista": [],
        "Publiceringsdatum": "2018-11-26T11:30:21",
        "Publik": 0,
        "Titel": "Piloter och övrig utlysning",
        "TitelEngelska": "x"
       },
       {
        "AnsokningsomgangDnrLista": [
         {
          "DiarienummerAnsokningsomgang": "2014-05060"
         },
         {
          "DiarienummerAnsokningsomgang": "2015-00750"
         },
         {
          "DiarienummerAnsokningsomgang": "2016-02847"
         },
         {
          "DiarienummerAnsokningsomgang": "2016-03562"
         },
         {
          "DiarienummerAnsokningsomgang": "2016-03865"
         },
         {
          "DiarienummerAnsokningsomgang": "2016-05150"
         },
         {
          "DiarienummerAnsokningsomgang": "2017-03010"
         },
         {
          "DiarienummerAnsokningsomgang": "2017-03011"
         },
         {
          "DiarienummerAnsokningsomgang": "2017-05315"
         },
         {
          "DiarienummerAnsokningsomgang": "2019-02050"
         }
        ],
        "Beskrivning": "SIO Grafen Enskilda projekt (slutna AO till programkontoret)",
        "BeskrivningEngelska": "SIO Grafen",
        "Diarienummer": "2014-04992",
        "DiarienummerProgram": "2014-04009",
        "DokumentLista": [],
        "KontaktLista": [],
        "LankLista": [],
        "Publiceringsdatum": "2019-03-13T13:00:21",
        "Publik": 1,
        "Titel": "SIO Grafen Enskilda projekt",
        "TitelEngelska": "SIO Grafen"
       },
       {
        "AnsokningsomgangDnrLista": [
         {
          "DiarienummerAnsokningsomgang": "2014-05924"
         },
         {
          "DiarienummerAnsokningsomgang": "2016-03877"
         },
         {
          "DiarienummerAnsokningsomgang": "2016-05302"
         },
         {
          "DiarienummerAnsokningsomgang": "2017-01671"
         },
         {
          "DiarienummerAnsokningsomgang": "2017-02986"
         }
        ],
        "Beskrivning": "SIP BioInnovation - Innovationsprojekt",
        "BeskrivningEngelska": "BIO Innovation - strategiska projekt",
        "Diarienummer": "2014-05538",
        "DiarienummerProgram": "2014-04014",
        "DokumentLista": [
         {
          "Beskrivning": "Utlysningstext Bioinnovation delprojekt 2017- Sluten utlysning",
          "DokumentID": "2014-05538_10",
          "FileName": "Utlysningstext_BioInnovation_Delprojekt_20170228.pdf(784746).pdf",
          "Titel": "Utlysningstext Bioinnovation delprojekt 2017",
          "fileURL": "https://data.vinnova.se/api/file/2014-05538_10"
         }
        ],
        "KontaktLista": [
         {
          "Epost": "anders.holmgren@vinnova.se",
          "KontaktID": 12249758,
          "Namn": "Anders Holmgren",
          "Roll": "Utlysningsansvarig",
          "Telefon": "08-473 32 12"
         },
         {
          "Epost": "peter.aslund@vinnova.se",
          "KontaktID": 12249766,
          "Namn": "Peter Åslund",
          "Roll": "",
          "Telefon": "08-473 30 49"
         },
         {
          "Epost": "info@bioinnovation.se",
          "KontaktID": 12294753,
          "Namn": "Per Edström",
          "Roll": "BioInnovation",
          "Telefon": "073-760 21 51"
         },
         {
          "Epost": "bengt.larsson@vinnova.se",
          "KontaktID": 12371902,
          "Namn": "Bengt Larsson",
          "Roll": "Administratör",
          "Telefon": ""
         }
        ],
        "LankLista": [],
        "Publiceringsdatum": "2018-04-26T11:00:40",
        "Publik": 1,
        "Titel": "SIP BioInnovation - Innovationsprojekt",
        "TitelEngelska": "BIO Innovation - strategiska projekt"
       },
       {
        "AnsokningsomgangDnrLista": [
         {
          "DiarienummerAnsokningsomgang": "2014-05862"
         },
         {
          "DiarienummerAnsokningsomgang": "2015-00728"
         }
        ],
        "Beskrivning": "Innovationsledning i regioner",
        "BeskrivningEngelska": "x",
        "Diarienummer": "2014-05860",
        "DiarienummerProgram": "2013-01243",
        "DokumentLista": [
         {
          "Beskrivning": "Utlysningstext Innovationsledning i regioner 19 december 2014",
          "DokumentID": "2014-05860_11",
          "FileName": "Utlysningstext Innovationsledning i regioner 19 december 2014(624590).pdf",
          "Titel": "Utlysningstext Innovationsledning i regioner 19 december 2014",
          "fileURL": "https://data.vinnova.se/api/file/2014-05860_11"
         },
         {
          "Beskrivning": "Mall till CV-Bilaga",
          "DokumentID": "2014-05860_7",
          "FileName": "CV-bilaga Innovationsledning i regioner.pdf(614378).pdf",
          "Titel": "Mall till CV-Bilaga",
          "fileURL": "https://data.vinnova.se/api/file/2014-05860_7"
         },
         {
          "Beskrivning": "Mall för projektbeskrivning till utlysning innovationsledning",
          "DokumentID": "2014-05860_9",
          "FileName": "Mall för projektbeskrivning Innovationsledning i regioner 17 nov 2014.pdf(614561).pdf",
          "Titel": "Mall för projektbeskrivning till utlysning innovatiionsledning",
          "fileURL": "https://data.vinnova.se/api/file/2014-05860_9"
         }
        ],
        "KontaktLista": [
         {
          "Epost": "marit.werner@vinnova.se",
          "KontaktID": 11817578,
          "Namn": "Marit Werner",
          "Roll": "Utlysningsansvarig",
          "Telefon": "08-4733163"
         },
         {
          "Epost": "cassandra.marshall@vinnova.se",
          "KontaktID": 11817580,
          "Namn": "Cassandra Marshall",
          "Roll": "",
          "Telefon": "08-4733260"
         },
         {
          "Epost": "goran.andersson@vinnova.se",
          "KontaktID": 11817581,
          "Namn": "Göran Andersson",
          "Roll": "",
          "Telefon": "08-4733083"
         }
        ],
        "LankLista": [],
        "Publiceringsdatum": "2018-04-24T15:30:10",
        "Publik": 1,
        "Titel": "Innovationsledning i regioner",
        "TitelEngelska": "x"
       },
       {
        "AnsokningsomgangDnrLista": [
         {
          "DiarienummerAnsokningsomgang": "2014-06040"
         },
         {
          "DiarienummerAnsokningsomgang": "2015-00207"
         },
         {
          "DiarienummerAnsokningsomgang": "2016-05166"
         }
        ],
        "Beskrivning": "Strategiska utvecklingsområden",
        "BeskrivningEngelska": "Strategic innovation areas",
        "Diarienummer": "2014-06016",
        "DiarienummerProgram": "2012-01383",
        "DokumentLista": [],
        "KontaktLista": [],
        "LankLista": [],
        "Publiceringsdatum": "2018-09-21T07:30:27",
        "Publik": 1,
        "Titel": "Strategiska utvecklingsområden",
        "TitelEngelska": "Strategic innovation areas"
       },
       {
        "AnsokningsomgangDnrLista": [
         {
          "DiarienummerAnsokningsomgang": "2014-06100"
         }
        ],
        "Beskrivning": "Innovationscheckar 2015-2017. Rikstäckande förmedlare av innovationscheckar.",
        "BeskrivningEngelska": "Innovation vouchers 2015-2017.",
        "Diarienummer": "2014-06086",
        "DiarienummerProgram": "2009-02173",
        "DokumentLista": [
         {
          "Beskrivning": "Rikstäckande förmedlare av innovationscheckar -  utlysningstext.",
          "DokumentID": "2014-06086_3",
          "FileName": "Rikstäckande förmedlare av innovationscheckar -141201.docx(618740).docx",
          "Titel": "Rikstäckande förmedlare av innovationscheckar - utlysningstext",
          "fileURL": "https://data.vinnova.se/api/file/2014-06086_3"
         }
        ],
        "KontaktLista": [
         {
          "Epost": "lena.nyberg@vinnova.se",
          "KontaktID": 11823598,
          "Namn": "Lena Nyberg",
          "Roll": "Utlysningsansvarig",
          "Telefon": "46 8 473 31 13"
         },
         {
          "Epost": "anne.lofquist@vinnova.se",
          "KontaktID": 11823617,
          "Namn": "Anne Löfquist",
          "Roll": "",
          "Telefon": "48 8 473 31 25"
         },
         {
          "Epost": "kerstin.frojd@vinnova.se",
          "KontaktID": 11823623,
          "Namn": "Kerstin Fröjd",
          "Roll": "Administrativa frågor",
          "Telefon": "46 8 473 30 27"
         }
        ],
        "LankLista": [],
        "Publiceringsdatum": "2019-01-15T07:30:35",
        "Publik": 1,
        "Titel": "Rikstäckande förmedlare av innovationscheckar.",
        "TitelEngelska": "Innovation vouchers."
       },
       {
        "AnsokningsomgangDnrLista": [
         {
          "DiarienummerAnsokningsomgang": "2014-06107"
         },
         {
          "DiarienummerAnsokningsomgang": "2016-04899"
         },
         {
          "DiarienummerAnsokningsomgang": "2017-05140"
         }
        ],
        "Beskrivning": "EURAXESS nätverkets aktivitetsprojekt ",
        "BeskrivningEngelska": "EURAXESS",
        "Diarienummer": "2014-06106",
        "DiarienummerProgram": "2013-02062",
        "DokumentLista": [],
        "KontaktLista": [],
        "LankLista": [],
        "Publiceringsdatum": "2017-12-06T10:30:25",
        "Publik": 1,
        "Titel": "EURAXESS nätverkets aktivitetsprojekt ",
        "TitelEngelska": "EURAXESS"
       },
       {
        "AnsokningsomgangDnrLista": [
         {
          "DiarienummerAnsokningsomgang": "2014-06123"
         },
         {
          "DiarienummerAnsokningsomgang": "2015-06185"
         }
        ],
        "Beskrivning": "ERA-MIN sustainable supply of raw materials in Europe",
        "BeskrivningEngelska": "ERA-MIN sustainable supply of raw materials in Europe",
        "Diarienummer": "2014-06115",
        "DiarienummerProgram": "2014-01140",
        "DokumentLista": [],
        "KontaktLista": [],
        "LankLista": [],
        "Publiceringsdatum": "2016-01-20T12:06:18",
        "Publik": 1,
        "Titel": "ERA-MIN sustainable supply of raw materials in Europe",
        "TitelEngelska": "ERA-MIN sustainable supply of raw materials in Europe"
       },
       {
        "AnsokningsomgangDnrLista": [
         {
          "DiarienummerAnsokningsomgang": "2014-06208"
         },
         {
          "DiarienummerAnsokningsomgang": "2018-02489"
         },
         {
          "DiarienummerAnsokningsomgang": "2018-04371"
         }
        ],
        "Beskrivning": "Supportkontor för små och medelstora företag till Horisont 2020",
        "BeskrivningEngelska": "Support office for SMEs for Horizon 2020",
        "Diarienummer": "2014-06135",
        "DiarienummerProgram": "2013-02062",
        "DokumentLista": [
         {
          "Beskrivning": "Supportkontor för små och medelstora företag till Horisont 2020 - utlysningstext",
          "DokumentID": "2014-06135_2",
          "FileName": "Supportkontor för små och medelstora företag till Horisont 2020(623684).pdf",
          "Titel": "Supportkontor för små och medelstora företag till Horisont 2020 - utlysningstext",
          "fileURL": "https://data.vinnova.se/api/file/2014-06135_2"
         },
         {
          "Beskrivning": "CV-mall för personer som ska jobba i supportkontoret",
          "DokumentID": "2014-06135_3",
          "FileName": "CV-mall(623802).docx",
          "Titel": "CV-mall",
          "fileURL": "https://data.vinnova.se/api/file/2014-06135_3"
         }
        ],
        "KontaktLista": [
         {
          "Epost": "karin.aase@vinnova.se",
          "KontaktID": 11828876,
          "Namn": "Karin Aase",
          "Roll": "Utlysningsansvarig",
          "Telefon": "46 8 473 31 17"
         },
         {
          "Epost": "tony.meurke@tillvaxtverket.se",
          "KontaktID": 11828877,
          "Namn": "Tony Muerke",
          "Roll": "Tillväxtverket",
          "Telefon": "46 8 681 94 10"
         },
         {
          "Epost": "ida.hallengren@vinnova.se",
          "KontaktID": 11828881,
          "Namn": "Ida  Hallengren",
          "Roll": "Administrativa frågor",
          "Telefon": "46 8 473 31 92"
         }
        ],
        "LankLista": [],
        "Publiceringsdatum": "2018-10-04T13:00:23",
        "Publik": 1,
        "Titel": "Supportkontor för små och medelstora företag till Horisont 2020",
        "TitelEngelska": "Support office for SMEs for Horizon 2020"
       },
       {
        "AnsokningsomgangDnrLista": [
         {
          "DiarienummerAnsokningsomgang": "2013-05649"
         },
         {
          "DiarienummerAnsokningsomgang": "2016-00086"
         },
         {
          "DiarienummerAnsokningsomgang": "2017-03151"
         },
         {
          "DiarienummerAnsokningsomgang": "2017-05281"
         },
         {
          "DiarienummerAnsokningsomgang": "2017-05282"
         },
         {
          "DiarienummerAnsokningsomgang": "2018-03127"
         },
         {
          "DiarienummerAnsokningsomgang": "2018-05366"
         },
         {
          "DiarienummerAnsokningsomgang": "2019-00761"
         },
         {
          "DiarienummerAnsokningsomgang": "2019-02150"
         }
        ],
        "Beskrivning": "Eurostars 2 medfinansiering",
        "BeskrivningEngelska": "x",
        "Diarienummer": "2014-06148",
        "DiarienummerProgram": "2009-02150",
        "DokumentLista": [
         {
          "Beskrivning": "Utlysningstext",
          "DokumentID": "2014-06148_4",
          "FileName": "EU2016REKA.pdf(716984).pdf",
          "Titel": "Utlysningstext",
          "fileURL": "https://data.vinnova.se/api/file/2014-06148_4"
         }
        ],
        "KontaktLista": [
         {
          "Epost": "peter.lindberg@vinnova.se",
          "KontaktID": 12111892,
          "Namn": "Peter Lindberg",
          "Roll": "Nationell projektkoordinator\nEUREKA NPC",
          "Telefon": "46 8 473 31 93"
         },
         {
          "Epost": "lars.nybom@vinnova.se",
          "KontaktID": 12283217,
          "Namn": "Lars Nybom",
          "Roll": "Programledare Eurostars",
          "Telefon": "46 8 473 3123"
         }
        ],
        "LankLista": [],
        "Publiceringsdatum": "2019-03-21T14:00:38",
        "Publik": 1,
        "Titel": "Eurostars 2 medfinansiering",
        "TitelEngelska": "x"
       },
       {
        "AnsokningsomgangDnrLista": [
         {
          "DiarienummerAnsokningsomgang": "2014-06243"
         },
         {
          "DiarienummerAnsokningsomgang": "2015-00074"
         },
         {
          "DiarienummerAnsokningsomgang": "2015-00077"
         },
         {
          "DiarienummerAnsokningsomgang": "2015-00081"
         },
         {
          "DiarienummerAnsokningsomgang": "2015-00542"
         },
         {
          "DiarienummerAnsokningsomgang": "2016-00028"
         },
         {
          "DiarienummerAnsokningsomgang": "2016-00030"
         },
         {
          "DiarienummerAnsokningsomgang": "2016-00127"
         },
         {
          "DiarienummerAnsokningsomgang": "2016-01816"
         },
         {
          "DiarienummerAnsokningsomgang": "2016-01819"
         }
        ],
        "Beskrivning": "Innovationsprojekt i företag",
        "BeskrivningEngelska": "Innovation Projects in Enterprises - Programme",
        "Diarienummer": "2014-06218",
        "DiarienummerProgram": "2009-02172",
        "DokumentLista": [],
        "KontaktLista": [
         {
          "Epost": "carl.naumburg@vinnova.se",
          "KontaktID": 11990985,
          "Namn": "Innovationsprojekt i företag gruppnummer",
          "Roll": "",
          "Telefon": "08-473 31 90"
         },
         {
          "Epost": "carl.naumburg@vinnova.se",
          "KontaktID": 11994124,
          "Namn": "E-posta din fråga ",
          "Roll": "",
          "Telefon": ""
         }
        ],
        "LankLista": [],
        "Publiceringsdatum": "2017-12-19T09:00:06",
        "Publik": 1,
        "Titel": "Innovationsprojekt i företag 2016",
        "TitelEngelska": "Innovation Projects in Enterprises - Programme"
       },
       {
        "AnsokningsomgangDnrLista": [
         {
          "DiarienummerAnsokningsomgang": "2014-06295"
         },
         {
          "DiarienummerAnsokningsomgang": "2015-03711"
         },
         {
          "DiarienummerAnsokningsomgang": "2015-06967"
         },
         {
          "DiarienummerAnsokningsomgang": "2015-06970"
         },
         {
          "DiarienummerAnsokningsomgang": "2016-02904"
         },
         {
          "DiarienummerAnsokningsomgang": "2016-05185"
         },
         {
          "DiarienummerAnsokningsomgang": "2018-00728"
         },
         {
          "DiarienummerAnsokningsomgang": "2018-04883"
         }
        ],
        "Beskrivning": "Strategiska innovationsprogrammet för lättvikt",
        "BeskrivningEngelska": "x",
        "Diarienummer": "2014-06237",
        "DiarienummerProgram": "2014-00596",
        "DokumentLista": [
         {
          "Beskrivning": "Strategiska innovationsprogrammet Lättvikt – hösten 2017 (utlysningstext)",
          "DokumentID": "2014-06237_39",
          "FileName": "SIP_Lättvikt_utlysningstext_ht17_170503.pdf(797101).pdf",
          "Titel": "Strategiska innovationsprogrammet Lättvikt – hösten 2017 (utlysningstext)",
          "fileURL": "https://data.vinnova.se/api/file/2014-06237_39"
         },
         {
          "Beskrivning": "Lättvikt - Projektbeskrivning FoI-projekt - mall",
          "DokumentID": "2014-06237_40",
          "FileName": "SIP_Lättvikt_mall_FoI-projekt_ht17.docx(797102).docx",
          "Titel": "Lättvikt - Projektbeskrivning FoI-projekt - mall",
          "fileURL": "https://data.vinnova.se/api/file/2014-06237_40"
         },
         {
          "Beskrivning": "Lättvikt - Projektbeskrivning Förprojekt - mall\r\n\r\n ",
          "DokumentID": "2014-06237_41",
          "FileName": "SIP_Lättvikt_mall_förprojekt _ht17.docx(797103).docx",
          "Titel": "Lättvikt - Projektbeskrivning Förprojekt - mall\r\n\r\n ",
          "fileURL": "https://data.vinnova.se/api/file/2014-06237_41"
         },
         {
          "Beskrivning": "Lättvikt - CV-mall",
          "DokumentID": "2014-06237_42",
          "FileName": "SIP_Lättvikt_mall_CV_ht17.docx(797104).docx",
          "Titel": "Lättvikt - CV-mall",
          "fileURL": "https://data.vinnova.se/api/file/2014-06237_42"
         },
         {
          "Beskrivning": "Lättvikt - Avsiktsförklaring - mall",
          "DokumentID": "2014-06237_43",
          "FileName": "SIP_Lättvikt_mall_avsiktsförklaring_ht17.docx(797105).docx",
          "Titel": "Lättvikt - Avsiktsförklaring - mall",
          "fileURL": "https://data.vinnova.se/api/file/2014-06237_43"
         },
         {
          "Beskrivning": "Lättvikt - Projektsammanfattning - mall",
          "DokumentID": "2014-06237_44",
          "FileName": "SIP_Lättvikt_mall_projektsammanfattning_ht17.docx(797106).docx",
          "Titel": "Lättvikt - Projektsammanfattning - mall",
          "fileURL": "https://data.vinnova.se/api/file/2014-06237_44"
         }
        ],
        "KontaktLista": [
         {
          "Epost": "cecilia.ramberg@swerea.se",
          "KontaktID": 11837489,
          "Namn": "Cecilia Ramberg",
          "Roll": "Kontaktperson Swerea",
          "Telefon": "46 70 780 60 52"
         },
         {
          "Epost": "Claes.deserves@vinnova.se",
          "KontaktID": 11837493,
          "Namn": "Claes de Serves",
          "Roll": "Kontaktperson VINNOVA",
          "Telefon": "46 8 473 32 21"
         },
         {
          "Epost": "lena.dalsmyr@vinnova.se",
          "KontaktID": 11837501,
          "Namn": "Lena Dalsmyr",
          "Roll": "Administrativa frågor",
          "Telefon": "46 8 473 31 61"
         }
        ],
        "LankLista": [],
        "Publiceringsdatum": "2019-01-28T10:30:19",
        "Publik": 1,
        "Titel": "Strategiska innovationsprogrammet för lättvikt ",
        "TitelEngelska": "x"
       },
       {
        "AnsokningsomgangDnrLista": [
         {
          "DiarienummerAnsokningsomgang": "2014-06280"
         },
         {
          "DiarienummerAnsokningsomgang": "2015-03048"
         },
         {
          "DiarienummerAnsokningsomgang": "2015-03534"
         },
         {
          "DiarienummerAnsokningsomgang": "2016-00742"
         },
         {
          "DiarienummerAnsokningsomgang": "2017-02956"
         },
         {
          "DiarienummerAnsokningsomgang": "2018-00459"
         },
         {
          "DiarienummerAnsokningsomgang": "2019-01349"
         }
        ],
        "Beskrivning": "Strategiska innovationsprogrammet för folksjukdomar (SWElife)",
        "BeskrivningEngelska": "x",
        "Diarienummer": "2014-06274",
        "DiarienummerProgram": "2014-04013",
        "DokumentLista": [
         {
          "Beskrivning": "Project Description SWElife. Reviderad 2015-06-04.",
          "DokumentID": "2014-06274_24",
          "FileName": "Project Description SWElife.docx(661482).docx",
          "Titel": "Project Description SWElife",
          "fileURL": "https://data.vinnova.se/api/file/2014-06274_24"
         },
         {
          "Beskrivning": "Prediktiva eller prognostiska biomarkörer inom tumörsjukdomar SWElife 2015 - utlysningstext. Reviderad 2015-06-25",
          "DokumentID": "2014-06274_25",
          "FileName": "Prediktiva eller prognostiska biomarkörer inom tumörsjukdomar SWElife 2015 - utlysningstext.pdf(666040).pdf",
          "Titel": "Prediktiva eller prognostiska biomarkörer inom tumörsjukdomar SWElife 2015 - utlysningstext",
          "fileURL": "https://data.vinnova.se/api/file/2014-06274_25"
         },
         {
          "Beskrivning": "Predictive or prognostic biomarkers in tumour diseases - SWElife 2015 Call. Revised 2015-06-25",
          "DokumentID": "2014-06274_26",
          "FileName": "Predictive or prognostic biomarkers in tumour diseases - SWElife 2015 Call.pdf(666041).pdf",
          "Titel": "Predictive or prognostic biomarkers in tumour diseases - SWElife 2015 Call",
          "fileURL": "https://data.vinnova.se/api/file/2014-06274_26"
         },
         {
          "Beskrivning": "Project Summary SWElife. Reviderad 2015-06-25",
          "DokumentID": "2014-06274_27",
          "FileName": "Project Summary SWElife.docx(666042).docx",
          "Titel": "Project Summary SWElife",
          "fileURL": "https://data.vinnova.se/api/file/2014-06274_27"
         },
         {
          "Beskrivning": "CV template SWElife. Reviderad 2015-06-25",
          "DokumentID": "2014-06274_28",
          "FileName": "CV template SWElife.docx(666044).docx",
          "Titel": "CV template SWElife",
          "fileURL": "https://data.vinnova.se/api/file/2014-06274_28"
         }
        ],
        "KontaktLista": [
         {
          "Epost": "peter.nordstrom@swelife.se",
          "KontaktID": 11952920,
          "Namn": "Peter Nordström",
          "Roll": "Kontaktperson angående utlysningens inriktning och innehåll.",
          "Telefon": "46 70 5191220"
         },
         {
          "Epost": "sofia.waldemarson@immun.lth.se",
          "KontaktID": 11952922,
          "Namn": "Sofia Waldemarsson",
          "Roll": "Kontaktperson angående utlysningens inriktning och innehåll.",
          "Telefon": "46 73 4058720"
         },
         {
          "Epost": "karin.agerman@uppsalabio.se",
          "KontaktID": 11952923,
          "Namn": "Karin Agerman",
          "Roll": "Kontaktperson angående utlysningens inriktning och innehåll.",
          "Telefon": "46 70 3008809"
         },
         {
          "Epost": "gunnar.sandberg@vinnova.se",
          "KontaktID": 11952924,
          "Namn": "Gunnar  Sandberg",
          "Roll": "Kontaktperson angående bedömningsprocessen samt juridiska och administrativa frågor",
          "Telefon": "46 8 4733000"
         },
         {
          "Epost": "info@swelife.se",
          "KontaktID": 11952929,
          "Namn": "Under perioden 26 juni-2 augusti hänvisas frågor till info@sweli ",
          "Roll": "",
          "Telefon": ""
         }
        ],
        "LankLista": [],
        "Publiceringsdatum": "2019-02-27T15:00:05",
        "Publik": 1,
        "Titel": "Strategiska innovationsprogrammet för folksjukdomar (SWElife)",
        "TitelEngelska": "x"
       },
       {
        "AnsokningsomgangDnrLista": [
         {
          "DiarienummerAnsokningsomgang": "2014-06314"
         },
         {
          "DiarienummerAnsokningsomgang": "2014-06315"
         },
         {
          "DiarienummerAnsokningsomgang": "2015-01091"
         },
         {
          "DiarienummerAnsokningsomgang": "2015-03983"
         },
         {
          "DiarienummerAnsokningsomgang": "2015-06406"
         },
         {
          "DiarienummerAnsokningsomgang": "2015-06842"
         },
         {
          "DiarienummerAnsokningsomgang": "2015-06930"
         },
         {
          "DiarienummerAnsokningsomgang": "2016-03469"
         },
         {
          "DiarienummerAnsokningsomgang": "2016-04782"
         },
         {
          "DiarienummerAnsokningsomgang": "2016-05307"
         },
         {
          "DiarienummerAnsokningsomgang": "2017-05257"
         },
         {
          "DiarienummerAnsokningsomgang": "2017-05259"
         },
         {
          "DiarienummerAnsokningsomgang": "2018-01766"
         },
         {
          "DiarienummerAnsokningsomgang": "2018-01767"
         },
         {
          "DiarienummerAnsokningsomgang": "2018-04640"
         },
         {
          "DiarienummerAnsokningsomgang": "2018-04641"
         }
        ],
        "Beskrivning": "Normkreativ innovation",
        "BeskrivningEngelska": "x",
        "Diarienummer": "2014-06304",
        "DiarienummerProgram": "2009-02191",
        "DokumentLista": [
         {
          "Beskrivning": "Utlysningstext Normkreativ innovation 2017",
          "DokumentID": "2014-06304_12",
          "FileName": "Utlysningtext  Normkreativ innovation.pdf(777707).pdf",
          "Titel": "Utlysningstext Normkreativ innovation 2017",
          "fileURL": "https://data.vinnova.se/api/file/2014-06304_12"
         }
        ],
        "KontaktLista": [],
        "LankLista": [],
        "Publiceringsdatum": "2018-11-23T13:30:13",
        "Publik": 1,
        "Titel": "Normkreativ innovation",
        "TitelEngelska": "x"
       },
       {
        "AnsokningsomgangDnrLista": [
         {
          "DiarienummerAnsokningsomgang": "2014-06345"
         },
         {
          "DiarienummerAnsokningsomgang": "2015-06985"
         },
         {
          "DiarienummerAnsokningsomgang": "2016-00360"
         },
         {
          "DiarienummerAnsokningsomgang": "2016-00962"
         },
         {
          "DiarienummerAnsokningsomgang": "2016-03473"
         },
         {
          "DiarienummerAnsokningsomgang": "2016-04819"
         },
         {
          "DiarienummerAnsokningsomgang": "2016-04820"
         }
        ],
        "Beskrivning": "Social Innovation 2015",
        "BeskrivningEngelska": "Social Innovation 2015",
        "Diarienummer": "2014-06320",
        "DiarienummerProgram": "2014-06313",
        "DokumentLista": [
         {
          "Beskrivning": "Utlysning Social Innovation våren 2016, slutgiltig, version 3",
          "DokumentID": "2014-06320_23",
          "FileName": "Utlysning Social Innovation våren 2016_slutgiltig_v3.pdf(706905).pdf",
          "Titel": "Utlysning Social Innovation våren 2016, slutgiltig, version 3",
          "fileURL": "https://data.vinnova.se/api/file/2014-06320_23"
         },
         {
          "Beskrivning": "Mall för projektbeskrivning",
          "DokumentID": "2014-06320_25",
          "FileName": "151208 Mall för projektbeskrivning AO2_v1.docx(710793).docx",
          "Titel": "Mall för projektbeskrivning",
          "fileURL": "https://data.vinnova.se/api/file/2014-06320_25"
         },
         {
          "Beskrivning": "Ansökningsmalll",
          "DokumentID": "2014-06320_27",
          "FileName": "Mall för projektbeskrivning.pdf(742137).pdf",
          "Titel": "Ansökningsmalll",
          "fileURL": "https://data.vinnova.se/api/file/2014-06320_27"
         }
        ],
        "KontaktLista": [
         {
          "Epost": "Anna.Edwall@VINNOVA.se",
          "KontaktID": 11863492,
          "Namn": "Anna Edwall",
          "Roll": "Ultysningsansvarig (föräldraledig 2017-02-01-2017-11-01)",
          "Telefon": "08-473 31 66"
         },
         {
          "Epost": "Lars-Gunnar.Larsson@vinnova.se",
          "KontaktID": 12014714,
          "Namn": "Lars-Gunnar Larsson",
          "Roll": "Kontaktperson",
          "Telefon": ""
         },
         {
          "Epost": "Ylva.Strander@vinnova.se",
          "KontaktID": 12187601,
          "Namn": "Ylva Strander",
          "Roll": "Kontaktperson",
          "Telefon": "08-473 31 78"
         },
         {
          "Epost": "andreas.netz@vinnova.se",
          "KontaktID": 12352640,
          "Namn": "Andreas Netz",
          "Roll": "Utlysningsansvarig (1702-02-171101)",
          "Telefon": "08-4733086"
         },
         {
          "Epost": "Max.Parknas@vinnova.se",
          "KontaktID": 12352658,
          "Namn": "Max Parknäs",
          "Roll": "Kontaktperson",
          "Telefon": "08-4733167"
         }
        ],
        "LankLista": [],
        "Publiceringsdatum": "2018-03-29T10:00:02",
        "Publik": 1,
        "Titel": "Social Innovation 2015",
        "TitelEngelska": "Social Innovation 2015"
       },
       {
        "AnsokningsomgangDnrLista": [
         {
          "DiarienummerAnsokningsomgang": "2014-06327"
         },
         {
          "DiarienummerAnsokningsomgang": "2015-06401"
         }
        ],
        "Beskrivning": "Piloter - Regeringsuppdrag samverkan",
        "BeskrivningEngelska": "Pilots - Collaboration",
        "Diarienummer": "2014-06326",
        "DiarienummerProgram": "2012-02210",
        "DokumentLista": [],
        "KontaktLista": [],
        "LankLista": [],
        "Publiceringsdatum": "2018-04-23T12:00:12",
        "Publik": 0,
        "Titel": "Piloter - Regeringsuppdrag samverkan",
        "TitelEngelska": "Pilots - Collaboration"
       },
       {
        "AnsokningsomgangDnrLista": [
         {
          "DiarienummerAnsokningsomgang": "2014-06347"
         },
         {
          "DiarienummerAnsokningsomgang": "2015-00070"
         }
        ],
        "Beskrivning": "VINN-Verifiering 2015",
        "BeskrivningEngelska": "x",
        "Diarienummer": "2014-06346",
        "DiarienummerProgram": "2009-02171",
        "DokumentLista": [
         {
          "Beskrivning": "VINN Verifiering hösten 2015 - utlysningstext",
          "DokumentID": "2014-06346_10",
          "FileName": "VINN Verifiering utlysningstext hösten 2015.pdf(663982).pdf",
          "Titel": "VINN Verifiering hösten 2015 - utlysningstext",
          "fileURL": "https://data.vinnova.se/api/file/2014-06346_10"
         },
         {
          "Beskrivning": "VINN Verifiering hösten 2015 - ansökningsmall",
          "DokumentID": "2014-06346_11",
          "FileName": "Ansökningsmall VINN Verifiering hösten 2015.docx(663983).docx",
          "Titel": "VINN Verifiering hösten 2015 - ansökningsmall",
          "fileURL": "https://data.vinnova.se/api/file/2014-06346_11"
         }
        ],
        "KontaktLista": [
         {
          "Epost": "anna.tegnesjo@vinnova.se",
          "KontaktID": 11842384,
          "Namn": "Anna Tegnesjö",
          "Roll": "Utlysningsansvarig Hälsa",
          "Telefon": "46 8 473 31 62"
         },
         {
          "Epost": "tony.friede@vinnova.se",
          "KontaktID": 11842398,
          "Namn": "Tony Friede",
          "Roll": "Utlysningsansvarig Tjänster och IKT",
          "Telefon": "46 8 473 32 38"
         },
         {
          "Epost": "jens.vonaxelson@vinnova.se",
          "KontaktID": 11842399,
          "Namn": "Jens von Axelson",
          "Roll": "Utlysningsansvarig Industriell utveckling och innovationsledning",
          "Telefon": "46 8 473 31 82"
         },
         {
          "Epost": "sebastian.axelsson@vinnova.se",
          "KontaktID": 11842400,
          "Namn": "Sebastian Axelsson",
          "Roll": "Utlysningsansvarig Transport, miljö och regioner",
          "Telefon": "46 8 473 31 71"
         },
         {
          "Epost": "JenniAnn.Eriksson@VINNOVA.se",
          "KontaktID": 11925421,
          "Namn": "Jenni Ann Eriksson",
          "Roll": "Administrativa frågor",
          "Telefon": "46 8 473 32 45"
         },
         {
          "Epost": "lars.nybom@vinnova.se",
          "KontaktID": 11964938,
          "Namn": "Lars Nybom ",
          "Roll": "Utlysningsansvarig Transport, miljö och regioner",
          "Telefon": "46 8 473 3123"
         },
         {
          "Epost": "mats.robertsson@vinnova.se",
          "KontaktID": 11964951,
          "Namn": "Mats Robertsson ",
          "Roll": "Utlysningsansvarig Industriell utveckling och innovationsledning",
          "Telefon": "46 8 473 3078"
         }
        ],
        "LankLista": [],
        "Publiceringsdatum": "2018-12-15T07:30:44",
        "Publik": 1,
        "Titel": "VINN-Verifiering 2015",
        "TitelEngelska": "x"
       },
       {
        "AnsokningsomgangDnrLista": [
         {
          "DiarienummerAnsokningsomgang": "2015-00063"
         },
         {
          "DiarienummerAnsokningsomgang": "2015-03435"
         },
         {
          "DiarienummerAnsokningsomgang": "2015-07080"
         },
         {
          "DiarienummerAnsokningsomgang": "2016-03251"
         },
         {
          "DiarienummerAnsokningsomgang": "2016-04896"
         },
         {
          "DiarienummerAnsokningsomgang": "2017-00862"
         },
         {
          "DiarienummerAnsokningsomgang": "2017-03389"
         },
         {
          "DiarienummerAnsokningsomgang": "2017-05290"
         },
         {
          "DiarienummerAnsokningsomgang": "2017-05307"
         },
         {
          "DiarienummerAnsokningsomgang": "2017-05559"
         },
         {
          "DiarienummerAnsokningsomgang": "2018-00736"
         },
         {
          "DiarienummerAnsokningsomgang": "2018-02080"
         },
         {
          "DiarienummerAnsokningsomgang": "2018-04012"
         },
         {
          "DiarienummerAnsokningsomgang": "2019-00828"
         },
         {
          "DiarienummerAnsokningsomgang": "2019-02145"
         }
        ],
        "Beskrivning": "Strategiska Innovationsprogrammet BioInnovation",
        "BeskrivningEngelska": "BioInnovation",
        "Diarienummer": "2015-00048",
        "DiarienummerProgram": "2014-04014",
        "DokumentLista": [],
        "KontaktLista": [
         {
          "Epost": "Bengt.Larsson@vinnova.se",
          "KontaktID": 11848183,
          "Namn": "Bengt Larsson",
          "Roll": "Administrativa frågor",
          "Telefon": "08-473 31 14"
         },
         {
          "Epost": "anders.holmgren@vinnova.se",
          "KontaktID": 12581710,
          "Namn": "Anders Holmgren",
          "Roll": "Utlysningsansvarig",
          "Telefon": "08-473 32 13"
         },
         {
          "Epost": "anna.wiberg@bioinnovation.se",
          "KontaktID": 12581711,
          "Namn": "Anna Wiberg",
          "Roll": "Programchef BioInnovation",
          "Telefon": "08-762 79 95"
         }
        ],
        "LankLista": [],
        "Publiceringsdatum": "2019-04-08T17:00:16",
        "Publik": 1,
        "Titel": "Strategiska Innovationsprogrammet BioInnovation",
        "TitelEngelska": "BioInnovation"
       },
       {
        "AnsokningsomgangDnrLista": [],
        "Beskrivning": "Grön flygteknisk demonstration - 2015",
        "BeskrivningEngelska": "x",
        "Diarienummer": "2015-00069",
        "DiarienummerProgram": "2011-01431",
        "DokumentLista": [],
        "KontaktLista": [],
        "LankLista": [],
        "Publiceringsdatum": "2018-06-14T14:00:31",
        "Publik": 1,
        "Titel": "Grön flygteknisk demonstration - 2015",
        "TitelEngelska": "x"
       },
       {
        "AnsokningsomgangDnrLista": [
         {
          "DiarienummerAnsokningsomgang": "2015-00078"
         },
         {
          "DiarienummerAnsokningsomgang": "2017-01591"
         },
         {
          "DiarienummerAnsokningsomgang": "2017-03505"
         },
         {
          "DiarienummerAnsokningsomgang": "2019-01164"
         },
         {
          "DiarienummerAnsokningsomgang": "2019-01317"
         }
        ],
        "Beskrivning": "Inkubationsstöd - Excellens",
        "BeskrivningEngelska": "xx",
        "Diarienummer": "2015-00071",
        "DiarienummerProgram": "2014-06043",
        "DokumentLista": [
         {
          "Beskrivning": "Utlysningstext - Inkubationsstöd Excellens 2018-2019",
          "DokumentID": "2015-00071_12",
          "FileName": "Utlysningstext - Inkubationsstöd Excellens 2018-2019.pdf(781143).pdf",
          "Titel": "Utlysningstext - Inkubationsstöd Excellens 2018-2019",
          "fileURL": "https://data.vinnova.se/api/file/2015-00071_12"
         },
         {
          "Beskrivning": "Ansökningsmall Excellensutlysning steg 1",
          "DokumentID": "2015-00071_13",
          "FileName": "Ansökningsmall Excellensutlysning steg 1.docx(781144).docx",
          "Titel": "Ansökningsmall Excellensutlysning steg 1",
          "fileURL": "https://data.vinnova.se/api/file/2015-00071_13"
         }
        ],
        "KontaktLista": [
         {
          "Epost": "lena.nyberg@vinnova.se",
          "KontaktID": 11864135,
          "Namn": "Lena Nyberg",
          "Roll": "",
          "Telefon": "08-473 31 13"
         },
         {
          "Epost": "cathrine.asklint@vinnova.se",
          "KontaktID": 11905453,
          "Namn": "Cathrine Åsklint",
          "Roll": "",
          "Telefon": "08-473 30 88"
         },
         {
          "Epost": "kjell-hakan.narfelt@vinnova.se",
          "KontaktID": 11905455,
          "Namn": "Kjell Håkan Närfelt",
          "Roll": "",
          "Telefon": "08-473 30 47"
         },
         {
          "Epost": "goran.persson@vinnova.se",
          "KontaktID": 11905456,
          "Namn": "Göran Persson",
          "Roll": "Administrativa frågor",
          "Telefon": "08-473 31 32"
         }
        ],
        "LankLista": [],
        "Publiceringsdatum": "2019-02-06T10:00:20",
        "Publik": 1,
        "Titel": "Inkubationsstöd - Excellens",
        "TitelEngelska": "xx"
       },
       {
        "AnsokningsomgangDnrLista": [
         {
          "DiarienummerAnsokningsomgang": "2015-00679"
         },
         {
          "DiarienummerAnsokningsomgang": "2015-04161"
         },
         {
          "DiarienummerAnsokningsomgang": "2015-05868"
         },
         {
          "DiarienummerAnsokningsomgang": "2015-06950"
         },
         {
          "DiarienummerAnsokningsomgang": "2015-06951"
         },
         {
          "DiarienummerAnsokningsomgang": "2015-06952"
         },
         {
          "DiarienummerAnsokningsomgang": "2016-04641"
         },
         {
          "DiarienummerAnsokningsomgang": "2016-05474"
         }
        ],
        "Beskrivning": "Komplex reglering - FFI",
        "BeskrivningEngelska": "Complex Control",
        "Diarienummer": "2015-00075",
        "DiarienummerProgram": "2009-02186",
        "DokumentLista": [
         {
          "Beskrivning": "Complex Control - programbeskrivning",
          "DokumentID": "2015-00075_2",
          "FileName": "Programbeskrivning - Complex Control 1401215.pdf(633471).pdf",
          "Titel": "Complex Control - programbeskrivning",
          "fileURL": "https://data.vinnova.se/api/file/2015-00075_2"
         }
        ],
        "KontaktLista": [
         {
          "Epost": "eric.wallgren@vinnova.se ",
          "KontaktID": 11867475,
          "Namn": "Eric Wallgren",
          "Roll": "Utlysningsansvarig",
          "Telefon": "46 8 473  30 96"
         },
         {
          "Epost": "lena.dalsmyr@vinnova.se",
          "KontaktID": 11867476,
          "Namn": "Lena Dalsmyr",
          "Roll": "Administrativa frågor",
          "Telefon": ""
         }
        ],
        "LankLista": [],
        "Publiceringsdatum": "2017-10-24T16:00:10",
        "Publik": 1,
        "Titel": "Komplex reglering - FFI",
        "TitelEngelska": "Complex Control"
       },
       {
        "AnsokningsomgangDnrLista": [
         {
          "DiarienummerAnsokningsomgang": "2015-00079"
         },
         {
          "DiarienummerAnsokningsomgang": "2015-04662"
         },
         {
          "DiarienummerAnsokningsomgang": "2017-04571"
         },
         {
          "DiarienummerAnsokningsomgang": "2019-00080"
         }
        ],
        "Beskrivning": "Inkubationsstöd - Erfarenhetsutbyte",
        "BeskrivningEngelska": "xx",
        "Diarienummer": "2015-00076",
        "DiarienummerProgram": "2014-06043",
        "DokumentLista": [
         {
          "Beskrivning": "Utlysning lärande inkubation ",
          "DokumentID": "2015-00076_3",
          "FileName": "Utlysning lärande inkubation 2015-09-09(677202).pdf",
          "Titel": "Utlysning lärande inkubation ",
          "fileURL": "https://data.vinnova.se/api/file/2015-00076_3"
         },
         {
          "Beskrivning": "MALL - Tydliggörande av formella krav",
          "DokumentID": "2015-00076_4",
          "FileName": "MALL - Tydliggörande av formella krav(677203).docx",
          "Titel": "MALL - Tydliggörande av formella krav",
          "fileURL": "https://data.vinnova.se/api/file/2015-00076_4"
         }
        ],
        "KontaktLista": [
         {
          "Epost": "marie.wall@vinnova.se",
          "KontaktID": 12010274,
          "Namn": "Marie Wall",
          "Roll": "",
          "Telefon": "08-473 32 19"
         },
         {
          "Epost": "tony.friede@vinnova.se",
          "KontaktID": 12010275,
          "Namn": "Tony Friede",
          "Roll": "",
          "Telefon": "08-473 32 38"
         },
         {
          "Epost": "kjellhakan.narfelt@vinnova.se",
          "KontaktID": 12010276,
          "Namn": "Kjell-Håkan Närfelt",
          "Roll": "",
          "Telefon": "08-473 30 47"
         },
         {
          "Epost": "birgitta.lonne@vinnova.se",
          "KontaktID": 12010277,
          "Namn": "Birgitta Lonne",
          "Roll": "",
          "Telefon": "08-473 31 16"
         }
        ],
        "LankLista": [],
        "Publiceringsdatum": "2019-01-25T13:00:28",
        "Publik": 1,
        "Titel": "Inkubationsstöd - Erfarenhetsutbyte",
        "TitelEngelska": "xx"
       },
       {
        "AnsokningsomgangDnrLista": [
         {
          "DiarienummerAnsokningsomgang": "2015-00090"
         },
         {
          "DiarienummerAnsokningsomgang": "2015-00603"
         },
         {
          "DiarienummerAnsokningsomgang": "2015-00604"
         },
         {
          "DiarienummerAnsokningsomgang": "2015-07004"
         },
         {
          "DiarienummerAnsokningsomgang": "2015-07005"
         },
         {
          "DiarienummerAnsokningsomgang": "2015-07006"
         },
         {
          "DiarienummerAnsokningsomgang": "2016-05519"
         }
        ],
        "Beskrivning": "FRÖN - För ökad innovation i offentligt finansierad verksamhet",
        "BeskrivningEngelska": "FRÖN",
        "Diarienummer": "2015-00082",
        "DiarienummerProgram": "2012-01393",
        "DokumentLista": [
         {
          "Beskrivning": "FRÖN - För ökad innovation i offentligt finaniserad verksamhet - utlysningstext reviderad 2017-02-22",
          "DokumentID": "2015-00082_20",
          "FileName": "FRÖN fortsättning utlysningstext 2017.pdf(783170).pdf",
          "Titel": "FRÖN - För ökad innovation i offentligt finaniserad verksamhet - utlysningstext reviderad 2017-02-22",
          "fileURL": "https://data.vinnova.se/api/file/2015-00082_20"
         }
        ],
        "KontaktLista": [
         {
          "Epost": "nina.widmark@vinnova.se",
          "KontaktID": 12374108,
          "Namn": "Nina Widmark",
          "Roll": "Utlysningsansvarig",
          "Telefon": " 46 8 473 30 52"
         },
         {
          "Epost": "asa.finth@vinnova.se",
          "KontaktID": 12416152,
          "Namn": "Åsa Finth",
          "Roll": "Utlysningsadministratör",
          "Telefon": "46 8 473 31 04"
         }
        ],
        "LankLista": [],
        "Publiceringsdatum": "2017-12-21T15:30:06",
        "Publik": 1,
        "Titel": "FRÖN - För ökad innovation i offentligt finansierad verksamhet",
        "TitelEngelska": "FRÖN"
       },
       {
        "AnsokningsomgangDnrLista": [
         {
          "DiarienummerAnsokningsomgang": "2015-00142"
         },
         {
          "DiarienummerAnsokningsomgang": "2015-00156"
         },
         {
          "DiarienummerAnsokningsomgang": "2015-02301"
         },
         {
          "DiarienummerAnsokningsomgang": "2015-04003"
         },
         {
          "DiarienummerAnsokningsomgang": "2015-07092"
         }
        ],
        "Beskrivning": "Ledarskapslabbet, finansierar initiativ som syftar till att nyttiggöra forsknings- och erfarenhetsbaserad kunskap om innovationsledning och organisering.",
        "BeskrivningEngelska": "Ledarskapslabbet",
        "Diarienummer": "2015-00088",
        "DiarienummerProgram": "2013-01243",
        "DokumentLista": [],
        "KontaktLista": [],
        "LankLista": [],
        "Publiceringsdatum": "2018-04-24T15:30:13",
        "Publik": 1,
        "Titel": "Ledarskapslabbet",
        "TitelEngelska": "Ledarskapslabbet"
       },
       {
        "AnsokningsomgangDnrLista": [
         {
          "DiarienummerAnsokningsomgang": "2015-00092"
         },
         {
          "DiarienummerAnsokningsomgang": "2015-06678"
         },
         {
          "DiarienummerAnsokningsomgang": "2017-04929"
         }
        ],
        "Beskrivning": "SIO Nationella påverkansplattformar för ökat deltagande i Horison 2020 B",
        "BeskrivningEngelska": "SIO Nationella påverkansplattformar för ökat deltagande i Horisont 2020 B",
        "Diarienummer": "2015-00091",
        "DiarienummerProgram": "2013-02062",
        "DokumentLista": [],
        "KontaktLista": [],
        "LankLista": [],
        "Publiceringsdatum": "2018-10-22T10:00:37",
        "Publik": 1,
        "Titel": "SIO Nationella påverkansplattformar för ökat deltagande i Horisont 2020 B",
        "TitelEngelska": "SIO Nationella påverkansplattformar för ökat deltagande i Horisont 2020 B"
       },
       {
        "AnsokningsomgangDnrLista": [
         {
          "DiarienummerAnsokningsomgang": "2015-00103"
         },
         {
          "DiarienummerAnsokningsomgang": "2016-00982"
         }
        ],
        "Beskrivning": "Särskilda insatser i offentlig verksamhet",
        "BeskrivningEngelska": "x",
        "Diarienummer": "2015-00099",
        "DiarienummerProgram": "2009-02225",
        "DokumentLista": [],
        "KontaktLista": [],
        "LankLista": [],
        "Publiceringsdatum": "2018-04-17T13:00:06",
        "Publik": 0,
        "Titel": "Särskilda insatser i offentlig verksamhet",
        "TitelEngelska": "x"
       },
       {
        "AnsokningsomgangDnrLista": [
         {
          "DiarienummerAnsokningsomgang": "2015-00209"
         },
         {
          "DiarienummerAnsokningsomgang": "2016-00089"
         },
         {
          "DiarienummerAnsokningsomgang": "2016-02661"
         },
         {
          "DiarienummerAnsokningsomgang": "2017-01019"
         },
         {
          "DiarienummerAnsokningsomgang": "2017-02020"
         },
         {
          "DiarienummerAnsokningsomgang": "2018-00116"
         },
         {
          "DiarienummerAnsokningsomgang": "2018-02684"
         },
         {
          "DiarienummerAnsokningsomgang": "2018-03852"
         },
         {
          "DiarienummerAnsokningsomgang": "2019-00085"
         },
         {
          "DiarienummerAnsokningsomgang": "2019-01190"
         },
         {
          "DiarienummerAnsokningsomgang": "2019-01353"
         }
        ],
        "Beskrivning": "ECSEL",
        "BeskrivningEngelska": "ECSEL",
        "Diarienummer": "2015-00176",
        "DiarienummerProgram": "2009-02207",
        "DokumentLista": [
         {
          "Beskrivning": "Koordinatorstöd FPP ansökan ECSEL 2017\r\nutlysningstext",
          "DokumentID": "2015-00176_4",
          "FileName": "Sweden_conditions 2017_ECSEL_20170203.pdf(791688).pdf",
          "Titel": "Koordinatorstöd FPP ansökan ECSEL 2017\r\nutlysningstext",
          "fileURL": "https://data.vinnova.se/api/file/2015-00176_4"
         }
        ],
        "KontaktLista": [],
        "LankLista": [],
        "Publiceringsdatum": "2019-03-21T09:00:19",
        "Publik": 1,
        "Titel": "ECSEL",
        "TitelEngelska": "ECSEL"
       },
       {
        "AnsokningsomgangDnrLista": [
         {
          "DiarienummerAnsokningsomgang": "2015-00545"
         },
         {
          "DiarienummerAnsokningsomgang": "2016-00993"
         }
        ],
        "Beskrivning": "FFI - AstaZero",
        "BeskrivningEngelska": "z",
        "Diarienummer": "2015-00494",
        "DiarienummerProgram": "2009-02186",
        "DokumentLista": [
         {
          "Beskrivning": "AstaZero-projektbeskrivningsmall",
          "DokumentID": "2015-00494_6",
          "FileName": "Astazero-utlysning projektbeskrivning 160412.docx(711904).docx",
          "Titel": "AstaZero-projektbeskrivningsmall",
          "fileURL": "https://data.vinnova.se/api/file/2015-00494_6"
         }
        ],
        "KontaktLista": [
         {
          "Epost": "Lena.Dalsmyr@vinnova.se",
          "KontaktID": 11862617,
          "Namn": "Lena Dalsmyr",
          "Roll": "Administrativa frågor",
          "Telefon": "46 8 473 31 61"
         },
         {
          "Epost": "Christina.kvarnström@vinnova.se",
          "KontaktID": 12130716,
          "Namn": "Christina Kvarnström",
          "Roll": "Utlysningsansvarig",
          "Telefon": ""
         }
        ],
        "LankLista": [],
        "Publiceringsdatum": "2016-10-24T08:30:13",
        "Publik": 1,
        "Titel": "FFI - AstaZero",
        "TitelEngelska": "z"
       },
       {
        "AnsokningsomgangDnrLista": [
         {
          "DiarienummerAnsokningsomgang": "2015-00551"
         }
        ],
        "Beskrivning": "SWE DEMO",
        "BeskrivningEngelska": "SWE DEMO",
        "Diarienummer": "2015-00549",
        "DiarienummerProgram": "2011-01431",
        "DokumentLista": [
         {
          "Beskrivning": "SWE DEMO - utlysningstext",
          "DokumentID": "2015-00549_2",
          "FileName": "Utlysning SWE-DEMO  2015-06-11 3.pdf(664275).pdf",
          "Titel": "SWE DEMO - utlysningstext",
          "fileURL": "https://data.vinnova.se/api/file/2015-00549_2"
         }
        ],
        "KontaktLista": [
         {
          "Epost": "Ebba.lindegren@vinnova.se",
          "KontaktID": 11862687,
          "Namn": "Ebba Lindegren",
          "Roll": "Utlysningsansvarig",
          "Telefon": "46 8 473 32 46"
         },
         {
          "Epost": "Lena.dalsmyr@vinnova.se",
          "KontaktID": 11862688,
          "Namn": "Lena Dalsmyr",
          "Roll": "Administrativa frågor",
          "Telefon": "46 8 473 31 61"
         },
         {
          "Epost": "anders.blom@foi.se",
          "KontaktID": 11971129,
          "Namn": "Anders Blom",
          "Roll": "Frågor om tekniskt innehåll",
          "Telefon": "46 8 550 31 60"
         }
        ],
        "LankLista": [],
        "Publiceringsdatum": "2018-06-14T14:00:32",
        "Publik": 1,
        "Titel": "SWE DEMO",
        "TitelEngelska": "SWE DEMO"
       },
       {
        "AnsokningsomgangDnrLista": [
         {
          "DiarienummerAnsokningsomgang": "2015-00935"
         },
         {
          "DiarienummerAnsokningsomgang": "2016-02654"
         },
         {
          "DiarienummerAnsokningsomgang": "2016-03695"
         },
         {
          "DiarienummerAnsokningsomgang": "2017-01082"
         },
         {
          "DiarienummerAnsokningsomgang": "2017-04919"
         }
        ],
        "Beskrivning": "NFFP-piloter med UK/BR ",
        "BeskrivningEngelska": "x",
        "Diarienummer": "2015-00934",
        "DiarienummerProgram": "2012-03138",
        "DokumentLista": [],
        "KontaktLista": [],
        "LankLista": [],
        "Publiceringsdatum": "2017-10-02T09:00:18",
        "Publik": 1,
        "Titel": "NFFP-piloter med UK/BR",
        "TitelEngelska": "x"
       },
       {
        "AnsokningsomgangDnrLista": [
         {
          "DiarienummerAnsokningsomgang": "2015-00981"
         },
         {
          "DiarienummerAnsokningsomgang": "2016-02712"
         },
         {
          "DiarienummerAnsokningsomgang": "2017-02559"
         },
         {
          "DiarienummerAnsokningsomgang": "2018-00705"
         }
        ],
        "Beskrivning": "Öppen innovation särskilda insatser",
        "BeskrivningEngelska": "Open innovation strategic support",
        "Diarienummer": "2015-00971",
        "DiarienummerProgram": "2012-00741",
        "DokumentLista": [],
        "KontaktLista": [],
        "LankLista": [],
        "Publiceringsdatum": "2018-02-19T15:00:05",
        "Publik": 0,
        "Titel": "Öppen innovation särskilda insatser",
        "TitelEngelska": "Open innovation strategic support"
       },
       {
        "AnsokningsomgangDnrLista": [
         {
          "DiarienummerAnsokningsomgang": "2015-02303"
         }
        ],
        "Beskrivning": "CTS 2015",
        "BeskrivningEngelska": "CTS 2015",
        "Diarienummer": "2015-02302",
        "DiarienummerProgram": "2003-00420",
        "DokumentLista": [],
        "KontaktLista": [],
        "LankLista": [],
        "Publiceringsdatum": "2018-11-07T21:00:08",
        "Publik": 1,
        "Titel": "CTS 2015",
        "TitelEngelska": "CTS 2015"
       },
       {
        "AnsokningsomgangDnrLista": [
         {
          "DiarienummerAnsokningsomgang": "2015-02364"
         },
         {
          "DiarienummerAnsokningsomgang": "2015-05869"
         },
         {
          "DiarienummerAnsokningsomgang": "2015-06954"
         },
         {
          "DiarienummerAnsokningsomgang": "2015-06955"
         },
         {
          "DiarienummerAnsokningsomgang": "2015-06956"
         },
         {
          "DiarienummerAnsokningsomgang": "2016-04635"
         }
        ],
        "Beskrivning": "FFI - Big Automotive Data Analytics (BADA) ",
        "BeskrivningEngelska": "x",
        "Diarienummer": "2015-02360",
        "DiarienummerProgram": "2009-02186",
        "DokumentLista": [
         {
          "Beskrivning": "Big Automotive Data Analytics - BADA - programbeskrivning",
          "DokumentID": "2015-02360_2",
          "FileName": "Big data - Programbeskrivning BADA - till webben.pdf(656570).pdf",
          "Titel": "Big Automotive Data Analytics - BADA - programbeskrivning",
          "fileURL": "https://data.vinnova.se/api/file/2015-02360_2"
         }
        ],
        "KontaktLista": [
         {
          "Epost": "lena.dalsmyr@vinnova.se",
          "KontaktID": 11909605,
          "Namn": "Lena Dalsmyr",
          "Roll": "Administrativa frågor",
          "Telefon": "46 8 473 31 61"
         },
         {
          "Epost": "per.norman@vinnova.se",
          "KontaktID": 11909606,
          "Namn": "Per Norman",
          "Roll": "Utlysningsansvarig",
          "Telefon": "46 8 473 31 73"
         }
        ],
        "LankLista": [],
        "Publiceringsdatum": "2017-07-19T15:30:09",
        "Publik": 1,
        "Titel": "FFI - Big Automotive Data Analytics (BADA) ",
        "TitelEngelska": "x"
       },
       {
        "AnsokningsomgangDnrLista": [
         {
          "DiarienummerAnsokningsomgang": "2015-02502"
         },
         {
          "DiarienummerAnsokningsomgang": "2016-00231"
         }
        ],
        "Beskrivning": "Runner Up VINNOVAs finansering av SME instrumentet fas 1",
        "BeskrivningEngelska": "Runner Up financing of SME instrument phase 1",
        "Diarienummer": "2015-02373",
        "DiarienummerProgram": "2009-02150",
        "DokumentLista": [],
        "KontaktLista": [],
        "LankLista": [],
        "Publiceringsdatum": "2018-02-05T10:00:04",
        "Publik": 0,
        "Titel": "Runner Up VINNOVAs finansering av SME instrumentet fas 1",
        "TitelEngelska": "Runner Up financing of SME instrument phase 1"
       },
       {
        "AnsokningsomgangDnrLista": [
         {
          "DiarienummerAnsokningsomgang": "2015-02984"
         }
        ],
        "Beskrivning": "Centrumsatsning",
        "BeskrivningEngelska": "Centres of excellence",
        "Diarienummer": "2015-02741",
        "DiarienummerProgram": "2015-02453",
        "DokumentLista": [],
        "KontaktLista": [],
        "LankLista": [],
        "Publiceringsdatum": "2018-06-27T09:00:28",
        "Publik": 0,
        "Titel": "Centrumsatsning",
        "TitelEngelska": "Centres of excellence"
       },
       {
        "AnsokningsomgangDnrLista": [
         {
          "DiarienummerAnsokningsomgang": "2015-02985"
         }
        ],
        "Beskrivning": "Indikatorer",
        "BeskrivningEngelska": "Indicators",
        "Diarienummer": "2015-02747",
        "DiarienummerProgram": "2015-02453",
        "DokumentLista": [],
        "KontaktLista": [],
        "LankLista": [],
        "Publiceringsdatum": "2019-02-12T18:30:14",
        "Publik": 0,
        "Titel": "Indikatorer",
        "TitelEngelska": "Indicators"
       },
       {
        "AnsokningsomgangDnrLista": [
         {
          "DiarienummerAnsokningsomgang": "2015-02986"
         },
         {
          "DiarienummerAnsokningsomgang": "2015-04023"
         },
         {
          "DiarienummerAnsokningsomgang": "2016-00312"
         },
         {
          "DiarienummerAnsokningsomgang": "2017-01016"
         },
         {
          "DiarienummerAnsokningsomgang": "2018-00081"
         },
         {
          "DiarienummerAnsokningsomgang": "2019-00776"
         }
        ],
        "Beskrivning": "Tematiska insatser",
        "BeskrivningEngelska": "Thematic initiative",
        "Diarienummer": "2015-02754",
        "DiarienummerProgram": "2015-02453",
        "DokumentLista": [],
        "KontaktLista": [],
        "LankLista": [],
        "Publiceringsdatum": "2019-02-12T18:30:03",
        "Publik": 0,
        "Titel": "Tematiska insatser",
        "TitelEngelska": "Thematic initiative"
       },
       {
        "AnsokningsomgangDnrLista": [
         {
          "DiarienummerAnsokningsomgang": "2015-03034"
         },
         {
          "DiarienummerAnsokningsomgang": "2016-01585"
         },
         {
          "DiarienummerAnsokningsomgang": "2017-02330"
         },
         {
          "DiarienummerAnsokningsomgang": "2017-03518"
         },
         {
          "DiarienummerAnsokningsomgang": "2017-05255"
         },
         {
          "DiarienummerAnsokningsomgang": "2018-01787"
         },
         {
          "DiarienummerAnsokningsomgang": "2018-02336"
         },
         {
          "DiarienummerAnsokningsomgang": "2018-04477"
         }
        ],
        "Beskrivning": "Acceleration",
        "BeskrivningEngelska": "Acceleration TINC",
        "Diarienummer": "2015-03003",
        "DiarienummerProgram": "2014-06043",
        "DokumentLista": [],
        "KontaktLista": [],
        "LankLista": [],
        "Publiceringsdatum": "2019-02-22T11:00:14",
        "Publik": 0,
        "Titel": "Acceleration",
        "TitelEngelska": "Acceleration TINC"
       },
       {
        "AnsokningsomgangDnrLista": [
         {
          "DiarienummerAnsokningsomgang": "2015-03035"
         },
         {
          "DiarienummerAnsokningsomgang": "2016-01587"
         },
         {
          "DiarienummerAnsokningsomgang": "2017-02706"
         }
        ],
        "Beskrivning": "Acceleration Global Access Program",
        "BeskrivningEngelska": "Acceleration GAP",
        "Diarienummer": "2015-03004",
        "DiarienummerProgram": "2014-06043",
        "DokumentLista": [],
        "KontaktLista": [],
        "LankLista": [],
        "Publiceringsdatum": "2018-06-25T10:00:25",
        "Publik": 0,
        "Titel": "Acceleration GAP",
        "TitelEngelska": "Acceleration GAP"
       },
       {
        "AnsokningsomgangDnrLista": [
         {
          "DiarienummerAnsokningsomgang": "2015-03026"
         },
         {
          "DiarienummerAnsokningsomgang": "2016-01588"
         }
        ],
        "Beskrivning": "Acceleration Born Global",
        "BeskrivningEngelska": "Acceleration Born Global",
        "Diarienummer": "2015-03005",
        "DiarienummerProgram": "2014-06043",
        "DokumentLista": [],
        "KontaktLista": [],
        "LankLista": [],
        "Publiceringsdatum": "2018-06-20T13:30:28",
        "Publik": 0,
        "Titel": "Acceleration Born Global",
        "TitelEngelska": "Acceleration Born Global"
       },
       {
        "AnsokningsomgangDnrLista": [
         {
          "DiarienummerAnsokningsomgang": "2015-03109"
         },
         {
          "DiarienummerAnsokningsomgang": "2016-02736"
         },
         {
          "DiarienummerAnsokningsomgang": "2017-02479"
         }
        ],
        "Beskrivning": "Inkubation Övrigt",
        "BeskrivningEngelska": "Incubation ",
        "Diarienummer": "2015-03006",
        "DiarienummerProgram": "2014-06043",
        "DokumentLista": [],
        "KontaktLista": [],
        "LankLista": [],
        "Publiceringsdatum": "2018-12-19T15:00:19",
        "Publik": 0,
        "Titel": "Inkubation Övrigt",
        "TitelEngelska": "Incubation "
       },
       {
        "AnsokningsomgangDnrLista": [
         {
          "DiarienummerAnsokningsomgang": "2015-03097"
         }
        ],
        "Beskrivning": "Strategiskt samarbete mellan Sverige och Indien inom inbyggda system 2015",
        "BeskrivningEngelska": "Strategic Indo-Swedish Cooperative Innovation Programme – Call for proposals in the field of Embedded Systems 2015",
        "Diarienummer": "2015-03053",
        "DiarienummerProgram": "2011-00500",
        "DokumentLista": [
         {
          "Beskrivning": "India-Sweden Call for proposals Embedded Systems Reviderad 2015 05 08",
          "DokumentID": "2015-03053_4",
          "FileName": "India-Sweden Call for proposals Embedded REV 2015 05 08(652460).pdf",
          "Titel": "India-Sweden Call for proposals Embedded REV 2015 05 08",
          "fileURL": "https://data.vinnova.se/api/file/2015-03053_4"
         },
         {
          "Beskrivning": "India-Sweden Call for proposals Embedded Systems",
          "DokumentID": "2015-03053_5",
          "FileName": "India-Sweden Embedded Proposal Form REV 2015 06 24(665602).doc",
          "Titel": "India-Sweden Call for proposals Embedded Systems",
          "fileURL": "https://data.vinnova.se/api/file/2015-03053_5"
         }
        ],
        "KontaktLista": [
         {
          "Epost": "christian.hansen@vinnova.se",
          "KontaktID": 11930691,
          "Namn": "Christian Hansen",
          "Roll": "Indo-Swedish R&D Cooperation Coordinator",
          "Telefon": " 46 8 4733112"
         },
         {
          "Epost": "Lars.Gustafsson@VINNOVA.se",
          "KontaktID": 11930695,
          "Namn": "Lars Gustafsson",
          "Roll": "Programme Manager",
          "Telefon": " 46 8 4733212"
         }
        ],
        "LankLista": [],
        "Publiceringsdatum": "2018-09-24T14:30:26",
        "Publik": 1,
        "Titel": "Strategiskt samarbete mellan Sverige och Indien inom inbyggda system 2015",
        "TitelEngelska": "Strategic Indo-Swedish Cooperative Innovation Programme – Call for proposals in the field of Embedded Systems 2015"
       },
       {
        "AnsokningsomgangDnrLista": [
         {
          "DiarienummerAnsokningsomgang": "2015-03111"
         },
         {
          "DiarienummerAnsokningsomgang": "2016-00268"
         },
         {
          "DiarienummerAnsokningsomgang": "2016-00932"
         },
         {
          "DiarienummerAnsokningsomgang": "2016-02645"
         },
         {
          "DiarienummerAnsokningsomgang": "2016-04581"
         },
         {
          "DiarienummerAnsokningsomgang": "2018-02034"
         },
         {
          "DiarienummerAnsokningsomgang": "2019-01322"
         }
        ],
        "Beskrivning": "Inkubation verifiering ",
        "BeskrivningEngelska": "Inkubation verifiering ",
        "Diarienummer": "2015-03110",
        "DiarienummerProgram": "2014-06043",
        "DokumentLista": [],
        "KontaktLista": [],
        "LankLista": [],
        "Publiceringsdatum": "2019-02-18T15:30:19",
        "Publik": 0,
        "Titel": "Inkubationsstöd - Verifiering 2015-2020",
        "TitelEngelska": "Inkubation verifiering "
       },
       {
        "AnsokningsomgangDnrLista": [
         {
          "DiarienummerAnsokningsomgang": "2015-03360"
         }
        ],
        "Beskrivning": "EU - Mobilisering",
        "BeskrivningEngelska": "x",
        "Diarienummer": "2015-03356",
        "DiarienummerProgram": "2003-00420",
        "DokumentLista": [],
        "KontaktLista": [],
        "LankLista": [],
        "Publiceringsdatum": "2018-12-13T15:30:18",
        "Publik": 1,
        "Titel": "EU - Mobilisering",
        "TitelEngelska": "x"
       },
       {
        "AnsokningsomgangDnrLista": [
         {
          "DiarienummerAnsokningsomgang": "2015-03484"
         },
         {
          "DiarienummerAnsokningsomgang": "2016-03259"
         },
         {
          "DiarienummerAnsokningsomgang": "2016-04734"
         },
         {
          "DiarienummerAnsokningsomgang": "2017-02860"
         }
        ],
        "Beskrivning": "Arenaprojekt PTC",
        "BeskrivningEngelska": "x",
        "Diarienummer": "2015-03442",
        "DiarienummerProgram": "2014-04016",
        "DokumentLista": [],
        "KontaktLista": [],
        "LankLista": [],
        "Publiceringsdatum": "2017-05-23T17:00:07",
        "Publik": 1,
        "Titel": "Arenaprojekt PTC",
        "TitelEngelska": "x"
       },
       {
        "AnsokningsomgangDnrLista": [
         {
          "DiarienummerAnsokningsomgang": "2015-04205"
         },
         {
          "DiarienummerAnsokningsomgang": "2015-05857"
         },
         {
          "DiarienummerAnsokningsomgang": "2016-02850"
         }
        ],
        "Beskrivning": "Policy och samverkan – övrigt 2015",
        "BeskrivningEngelska": "x",
        "Diarienummer": "2015-04202",
        "DiarienummerProgram": "2003-00420",
        "DokumentLista": [],
        "KontaktLista": [],
        "LankLista": [],
        "Publiceringsdatum": "2018-06-21T07:30:26",
        "Publik": 1,
        "Titel": "Policy och samverkan – övrigt 2015",
        "TitelEngelska": "x"
       },
       {
        "AnsokningsomgangDnrLista": [
         {
          "DiarienummerAnsokningsomgang": "2015-04204"
         },
         {
          "DiarienummerAnsokningsomgang": "2016-02813"
         },
         {
          "DiarienummerAnsokningsomgang": "2017-05069"
         },
         {
          "DiarienummerAnsokningsomgang": "2019-01180"
         }
        ],
        "Beskrivning": "Innovationsplattformar för hållbara attraktiva städer",
        "BeskrivningEngelska": "x",
        "Diarienummer": "2015-04203",
        "DiarienummerProgram": "2003-00314",
        "DokumentLista": [],
        "KontaktLista": [],
        "LankLista": [],
        "Publiceringsdatum": "2019-02-11T09:30:15",
        "Publik": 1,
        "Titel": "Innovationsplattformar för hållbara attraktiva städer",
        "TitelEngelska": "x"
       },
       {
        "AnsokningsomgangDnrLista": [
         {
          "DiarienummerAnsokningsomgang": "2015-04693"
         },
         {
          "DiarienummerAnsokningsomgang": "2015-06409"
         },
         {
          "DiarienummerAnsokningsomgang": "2016-02615"
         },
         {
          "DiarienummerAnsokningsomgang": "2016-02723"
         },
         {
          "DiarienummerAnsokningsomgang": "2016-04605"
         },
         {
          "DiarienummerAnsokningsomgang": "2016-04725"
         },
         {
          "DiarienummerAnsokningsomgang": "2017-04450"
         },
         {
          "DiarienummerAnsokningsomgang": "2017-04490"
         },
         {
          "DiarienummerAnsokningsomgang": "2018-03279"
         }
        ],
        "Beskrivning": "Riksmätplats - Basverksamhet och investeringar",
        "BeskrivningEngelska": "Riksmätplats 2016 - Basverksamhet och investeringar",
        "Diarienummer": "2015-04619",
        "DiarienummerProgram": "2013-01244",
        "DokumentLista": [],
        "KontaktLista": [],
        "LankLista": [],
        "Publiceringsdatum": "2018-09-03T14:00:28",
        "Publik": 1,
        "Titel": "Riksmätplats - Basverksamhet och investeringar",
        "TitelEngelska": "Riksmätplats 2016 - Basverksamhet och investeringar"
       },
       {
        "AnsokningsomgangDnrLista": [
         {
          "DiarienummerAnsokningsomgang": "2015-04776"
         },
         {
          "DiarienummerAnsokningsomgang": "2015-04777"
         },
         {
          "DiarienummerAnsokningsomgang": "2016-00743"
         },
         {
          "DiarienummerAnsokningsomgang": "2016-03472"
         },
         {
          "DiarienummerAnsokningsomgang": "2016-05347"
         },
         {
          "DiarienummerAnsokningsomgang": "2017-02888"
         },
         {
          "DiarienummerAnsokningsomgang": "2018-00139"
         },
         {
          "DiarienummerAnsokningsomgang": "2018-00145"
         },
         {
          "DiarienummerAnsokningsomgang": "2018-01352"
         },
         {
          "DiarienummerAnsokningsomgang": "2019-00792"
         },
         {
          "DiarienummerAnsokningsomgang": "2019-01287"
         }
        ],
        "Beskrivning": "Kompetenscentrum",
        "BeskrivningEngelska": "Competence centre",
        "Diarienummer": "2015-04704",
        "DiarienummerProgram": "2015-03143",
        "DokumentLista": [
         {
          "Beskrivning": "Kompetenscentrum - Stöd till SMF",
          "DokumentID": "2015-04704_56",
          "FileName": "SMF-utlysningstext.pdf(787073).pdf",
          "Titel": "Kompetenscentrum - Stöd till SMF",
          "fileURL": "https://data.vinnova.se/api/file/2015-04704_56"
         },
         {
          "Beskrivning": "Competence Centre - Support for SMEs ",
          "DokumentID": "2015-04704_57",
          "FileName": "SMF-utlysningstext_EN-GB rev.pdf(787074).pdf",
          "Titel": "Competence Centre - Support for SMEs ",
          "fileURL": "https://data.vinnova.se/api/file/2015-04704_57"
         }
        ],
        "KontaktLista": [
         {
          "Epost": "Mats.Jarekrans@vinnova.se",
          "KontaktID": 12016952,
          "Namn": "Mats Jarekrans",
          "Roll": "",
          "Telefon": "46 8 473 31 85"
         },
         {
          "Epost": "Goran.Persson@vinnova.se",
          "KontaktID": 12599254,
          "Namn": "Göran  Persson",
          "Roll": "Kvalitetsansvarig",
          "Telefon": "46 8 473 31 32"
         },
         {
          "Epost": "Goran.Andersson@vinnova.se",
          "KontaktID": 12599255,
          "Namn": "Göran Andersson",
          "Roll": "",
          "Telefon": "46 8 473 30 83"
         },
         {
          "Epost": "Jessica Svennebring@vinnova.se",
          "KontaktID": 12599256,
          "Namn": "Jessica Svennebring",
          "Roll": "",
          "Telefon": "46 8 473 31 34"
         },
         {
          "Epost": "Jessica.Umegard@vinnova.se",
          "KontaktID": 12599257,
          "Namn": "Jessica Umegård",
          "Roll": "",
          "Telefon": "46 8 473 38 14"
         },
         {
          "Epost": "Glenn.Gran@vinnova.se",
          "KontaktID": 12599258,
          "Namn": "Glenn Gran",
          "Roll": "",
          "Telefon": "46 8 473 31 44"
         },
         {
          "Epost": "Marten.Berg@vinnova.se",
          "KontaktID": 12657448,
          "Namn": "Mårten  Berg",
          "Roll": "Utlysningsansvarig",
          "Telefon": "46 8 473 31 97"
         }
        ],
        "LankLista": [],
        "Publiceringsdatum": "2019-03-07T14:30:21",
        "Publik": 1,
        "Titel": "Kompetenscentrum",
        "TitelEngelska": "Competence centre"
       },
       {
        "AnsokningsomgangDnrLista": [
         {
          "DiarienummerAnsokningsomgang": "2015-04962"
         },
         {
          "DiarienummerAnsokningsomgang": "2019-01325"
         },
         {
          "DiarienummerAnsokningsomgang": "2019-02222"
         }
        ],
        "Beskrivning": "VINNVÄXT 2016 fullständig ansökan",
        "BeskrivningEngelska": "x",
        "Diarienummer": "2015-04958",
        "DiarienummerProgram": "2002-00568",
        "DokumentLista": [],
        "KontaktLista": [],
        "LankLista": [],
        "Publiceringsdatum": "2019-04-02T10:00:21",
        "Publik": 1,
        "Titel": "VINNVÄXT 2016 fullständig ansökan",
        "TitelEngelska": "x"
       },
       {
        "AnsokningsomgangDnrLista": [
         {
          "DiarienummerAnsokningsomgang": "2015-06041"
         },
         {
          "DiarienummerAnsokningsomgang": "2015-07068"
         },
         {
          "DiarienummerAnsokningsomgang": "2016-01907"
         },
         {
          "DiarienummerAnsokningsomgang": "2016-02880"
         },
         {
          "DiarienummerAnsokningsomgang": "2016-05246"
         },
         {
          "DiarienummerAnsokningsomgang": "2017-02498"
         },
         {
          "DiarienummerAnsokningsomgang": "2017-03469"
         },
         {
          "DiarienummerAnsokningsomgang": "2017-04722"
         },
         {
          "DiarienummerAnsokningsomgang": "2017-04723"
         },
         {
          "DiarienummerAnsokningsomgang": "2017-04724"
         }
        ],
        "Beskrivning": "Individers rörlighet för ökad samverkan. ",
        "BeskrivningEngelska": "Personal mobility between societal sectors",
        "Diarienummer": "2015-05904",
        "DiarienummerProgram": "2015-05886",
        "DokumentLista": [
         {
          "Beskrivning": "Utlysningstext 2017",
          "DokumentID": "2015-05904_11",
          "FileName": "Mobilitet 19 april 2017.pdf(794608).pdf",
          "Titel": "Utlysningstext 2017",
          "fileURL": "https://data.vinnova.se/api/file/2015-05904_11"
         }
        ],
        "KontaktLista": [
         {
          "Epost": "anna-carin.ramsten@vinnova.se",
          "KontaktID": 12041672,
          "Namn": "Anna-Carin Ramsten",
          "Roll": "Utlysningsansvarig, programledare",
          "Telefon": "08-473 30 78"
         },
         {
          "Epost": "karin.axelius-edgren@vinnova.se",
          "KontaktID": 12578615,
          "Namn": "Karin  Axelius-Edgren",
          "Roll": "Administrativa frågor",
          "Telefon": "08-473 31 10"
         }
        ],
        "LankLista": [],
        "Publiceringsdatum": "2018-09-26T20:30:03",
        "Publik": 1,
        "Titel": "Individrörlighet för innovation och samhällsnytta",
        "TitelEngelska": "Personal mobility between societal sectors"
       },
       {
        "AnsokningsomgangDnrLista": [
         {
          "DiarienummerAnsokningsomgang": "2015-06028"
         },
         {
          "DiarienummerAnsokningsomgang": "2018-04386"
         }
        ],
        "Beskrivning": "SWE DEMO 2015",
        "BeskrivningEngelska": "x",
        "Diarienummer": "2015-06027",
        "DiarienummerProgram": "2014-04016",
        "DokumentLista": [],
        "KontaktLista": [],
        "LankLista": [],
        "Publiceringsdatum": "2018-10-11T16:30:28",
        "Publik": 1,
        "Titel": "SWE DEMO 2015",
        "TitelEngelska": "x"
       },
       {
        "AnsokningsomgangDnrLista": [
         {
          "DiarienummerAnsokningsomgang": "2015-06071"
         },
         {
          "DiarienummerAnsokningsomgang": "2015-06958"
         },
         {
          "DiarienummerAnsokningsomgang": "2015-06959"
         },
         {
          "DiarienummerAnsokningsomgang": "2015-06962"
         },
         {
          "DiarienummerAnsokningsomgang": "2016-04639"
         },
         {
          "DiarienummerAnsokningsomgang": "2016-05486"
         },
         {
          "DiarienummerAnsokningsomgang": "2017-02043"
         },
         {
          "DiarienummerAnsokningsomgang": "2017-02044"
         },
         {
          "DiarienummerAnsokningsomgang": "2017-03259"
         }
        ],
        "Beskrivning": "Fordons IT-säkerhet och Integritet - FFI",
        "BeskrivningEngelska": "x",
        "Diarienummer": "2015-06058",
        "DiarienummerProgram": "2009-02186",
        "DokumentLista": [
         {
          "Beskrivning": "Program Automotive Security and Privacy - programbeskrivning",
          "DokumentID": "2015-06058_4",
          "FileName": "FFI_Strategic_Automotive_Security_Programbeskrivning 2015-10-05 (003).pdf(685735).pdf",
          "Titel": "Program Automotive Security and Privacy - programbeskrivning",
          "fileURL": "https://data.vinnova.se/api/file/2015-06058_4"
         }
        ],
        "KontaktLista": [
         {
          "Epost": "eric.wallgren@vinnova.se",
          "KontaktID": 12044180,
          "Namn": "Eric Wallgren",
          "Roll": "Utlysningsansvarig",
          "Telefon": "08-473 30 96"
         },
         {
          "Epost": "lena.dalsmyr@vinnova.se",
          "KontaktID": 12044181,
          "Namn": "Lena Dalsmyr",
          "Roll": "Administrativa frågor",
          "Telefon": "08-473 31 61"
         }
        ],
        "LankLista": [],
        "Publiceringsdatum": "2017-12-15T16:00:07",
        "Publik": 1,
        "Titel": "Fordons IT-säkerhet och Integritet - FFI",
        "TitelEngelska": "x"
       },
       {
        "AnsokningsomgangDnrLista": [
         {
          "DiarienummerAnsokningsomgang": "2015-06077"
         },
         {
          "DiarienummerAnsokningsomgang": "2015-06963"
         },
         {
          "DiarienummerAnsokningsomgang": "2015-06964"
         },
         {
          "DiarienummerAnsokningsomgang": "2015-06965"
         },
         {
          "DiarienummerAnsokningsomgang": "2016-04636"
         },
         {
          "DiarienummerAnsokningsomgang": "2016-05479"
         },
         {
          "DiarienummerAnsokningsomgang": "2016-05481"
         },
         {
          "DiarienummerAnsokningsomgang": "2016-05483"
         },
         {
          "DiarienummerAnsokningsomgang": "2017-03250"
         },
         {
          "DiarienummerAnsokningsomgang": "2018-00452"
         },
         {
          "DiarienummerAnsokningsomgang": "2018-02061"
         }
        ],
        "Beskrivning": "Cyklar och andra fordon i säker och smart samverkan för en hållbar framtid - FFI",
        "BeskrivningEngelska": "x",
        "Diarienummer": "2015-06059",
        "DiarienummerProgram": "2009-02186",
        "DokumentLista": [
         {
          "Beskrivning": "Cyklar och andra fordon i säker och smart samverkan för en hållbar framtid - programbeskrivning",
          "DokumentID": "2015-06059_1",
          "FileName": "Programbeskrivning Cyklar  andra fordon i säker smart samverkan.pdf(685728).pdf",
          "Titel": "Cyklar och andra fordon i säker och smart samverkan för en hållbar framtid - programbeskrivning",
          "fileURL": "https://data.vinnova.se/api/file/2015-06059_1"
         }
        ],
        "KontaktLista": [
         {
          "Epost": "ulrika.landelius@trafikverket.se",
          "KontaktID": 12044165,
          "Namn": "Ulrika Landelius",
          "Roll": "Utlysningsansvarig",
          "Telefon": "010-123 23 29"
         },
         {
          "Epost": "lena.dalsmyr@vinnova.se",
          "KontaktID": 12044166,
          "Namn": "Lena Dalsmyr",
          "Roll": "Administrativa frågor",
          "Telefon": "08-473 31 61"
         }
        ],
        "LankLista": [],
        "Publiceringsdatum": "2018-11-12T12:30:18",
        "Publik": 1,
        "Titel": "Cyklar och andra fordon i säker och smart samverkan för en hållbar framtid - FFI",
        "TitelEngelska": "x"
       },
       {
        "AnsokningsomgangDnrLista": [
         {
          "DiarienummerAnsokningsomgang": "2015-06098"
         },
         {
          "DiarienummerAnsokningsomgang": "2016-02711"
         }
        ],
        "Beskrivning": "Följdinvestering innovationstävlingar",
        "BeskrivningEngelska": "Challenge prize continued",
        "Diarienummer": "2015-06097",
        "DiarienummerProgram": "2012-00741",
        "DokumentLista": [],
        "KontaktLista": [],
        "LankLista": [],
        "Publiceringsdatum": "2018-11-15T11:30:23",
        "Publik": 0,
        "Titel": "Följdinvestering innovationstävlingar",
        "TitelEngelska": "Challenge prize continued"
       },
       {
        "AnsokningsomgangDnrLista": [
         {
          "DiarienummerAnsokningsomgang": "2015-06756"
         },
         {
          "DiarienummerAnsokningsomgang": "2016-04924"
         },
         {
          "DiarienummerAnsokningsomgang": "2017-03067"
         },
         {
          "DiarienummerAnsokningsomgang": "2018-05284"
         }
        ],
        "Beskrivning": "Strategiska innovationsprogrammet  InfraSweden2030 - strategiska projekt",
        "BeskrivningEngelska": "x",
        "Diarienummer": "2015-06116",
        "DiarienummerProgram": "2015-06114",
        "DokumentLista": [],
        "KontaktLista": [],
        "LankLista": [],
        "Publiceringsdatum": "2018-12-14T12:30:17",
        "Publik": 1,
        "Titel": "Strategiska innovationsprogrammet InfraSweden2030 - strategiska projekt",
        "TitelEngelska": "x"
       },
       {
        "AnsokningsomgangDnrLista": [
         {
          "DiarienummerAnsokningsomgang": "2015-06429"
         },
         {
          "DiarienummerAnsokningsomgang": "2017-02891"
         }
        ],
        "Beskrivning": "VINNVÄXT 2005 (2008) - överväxling",
        "BeskrivningEngelska": "x",
        "Diarienummer": "2015-06427",
        "DiarienummerProgram": "2002-00568",
        "DokumentLista": [],
        "KontaktLista": [],
        "LankLista": [],
        "Publiceringsdatum": "2018-05-17T08:30:27",
        "Publik": 1,
        "Titel": "VINNVÄXT 2005 (2008) - överväxling",
        "TitelEngelska": "x"
       },
       {
        "AnsokningsomgangDnrLista": [
         {
          "DiarienummerAnsokningsomgang": "2015-06498"
         },
         {
          "DiarienummerAnsokningsomgang": "2015-06805"
         },
         {
          "DiarienummerAnsokningsomgang": "2019-02159"
         }
        ],
        "Beskrivning": "Utmaningsdriven innovation - pilotsatsningar",
        "BeskrivningEngelska": "Challenge-Driven Innovation – miscellaneous projects and initiatives",
        "Diarienummer": "2015-06491",
        "DiarienummerProgram": "2011-01544",
        "DokumentLista": [],
        "KontaktLista": [],
        "LankLista": [],
        "Publiceringsdatum": "2019-03-22T14:00:41",
        "Publik": 1,
        "Titel": "Utmaningsdriven innovation - pilotsatsningar",
        "TitelEngelska": "Challenge-Driven Innovation – miscellaneous projects and initiatives"
       },
       {
        "AnsokningsomgangDnrLista": [
         {
          "DiarienummerAnsokningsomgang": "2015-04034"
         },
         {
          "DiarienummerAnsokningsomgang": "2015-06773"
         },
         {
          "DiarienummerAnsokningsomgang": "2016-02184"
         },
         {
          "DiarienummerAnsokningsomgang": "2017-03406"
         }
        ],
        "Beskrivning": "Särskilda insatser 2015 och 2016",
        "BeskrivningEngelska": "z",
        "Diarienummer": "2015-06647",
        "DiarienummerProgram": "2011-00500",
        "DokumentLista": [],
        "KontaktLista": [],
        "LankLista": [],
        "Publiceringsdatum": "2017-07-07T11:00:11",
        "Publik": 1,
        "Titel": "Globala samarbeten Särskilda insatser 2015-16",
        "TitelEngelska": "z"
       },
       {
        "AnsokningsomgangDnrLista": [
         {
          "DiarienummerAnsokningsomgang": "2015-06830"
         },
         {
          "DiarienummerAnsokningsomgang": "2018-04811"
         }
        ],
        "Beskrivning": "Koordineringsmedel Medtech4Health",
        "BeskrivningEngelska": "Koordineringsmedel 2015-2018 SIO Medtech4Health",
        "Diarienummer": "2015-06707",
        "DiarienummerProgram": "2015-06135",
        "DokumentLista": [],
        "KontaktLista": [
         {
          "Epost": "pontus.vonBahr@vinnova.se",
          "KontaktID": 12078257,
          "Namn": "Pontus  Von Bahr",
          "Roll": "Utlysningsansvarig",
          "Telefon": "08-4733091"
         },
         {
          "Epost": "karinsundbeck@vinnova.se",
          "KontaktID": 12078276,
          "Namn": "Karin Sundbeck",
          "Roll": "Administrativa frågor",
          "Telefon": "08-4733226"
         }
        ],
        "LankLista": [],
        "Publiceringsdatum": "2018-11-28T10:00:02",
        "Publik": 0,
        "Titel": "Koordineringsmedel Medtech4Health",
        "TitelEngelska": "Koordineringsmedel 2015-2018 SIO Medtech4Health"
       },
       {
        "AnsokningsomgangDnrLista": [
         {
          "DiarienummerAnsokningsomgang": "2015-06726"
         },
         {
          "DiarienummerAnsokningsomgang": "2016-03243"
         }
        ],
        "Beskrivning": "Det strategiska innovationsprogrammet SWElife är ett nationellt initiativ för att koordinera och utveckla stabila forsknings- och innovationsprocesser för svensk Life Science. För att möta samhällsutmaningen att förbättra folkhälsan i Sverige, vill SWElife med denna utlysning stödja nya sätt att förebygga, behandla eller underlätta livet för personer som riskerar att drabbas eller redan har drabbats av någon folksjukdom, dess riskfaktorer eller komplikationer.\r\n",
        "BeskrivningEngelska": "SWElife - Collaborative innovation projects within widespread diseases (folksjukdomar) 2016-2017",
        "Diarienummer": "2015-06711",
        "DiarienummerProgram": "2014-04013",
        "DokumentLista": [
         {
          "Beskrivning": "Utlysningstext 2016-06-07",
          "DokumentID": "2015-06711_12",
          "FileName": "Fullständig utlysningstext SWElife.pdf(736550).pdf",
          "Titel": "Utlysningstext 2016-06-07",
          "fileURL": "https://data.vinnova.se/api/file/2015-06711_12"
         },
         {
          "Beskrivning": "CV template 2016",
          "DokumentID": "2015-06711_13",
          "FileName": "TEMPLATE CV 2016-05-20.docx(736551).docx",
          "Titel": "CV template 2016",
          "fileURL": "https://data.vinnova.se/api/file/2015-06711_13"
         },
         {
          "Beskrivning": "Project summary template 2016",
          "DokumentID": "2015-06711_15",
          "FileName": "TEMPLATE Project Summary 2016-05-20.docx(736553).docx",
          "Titel": "Project summary template 2016",
          "fileURL": "https://data.vinnova.se/api/file/2015-06711_15"
         },
         {
          "Beskrivning": "SWElife Utlysningstext ENG ",
          "DokumentID": "2015-06711_16",
          "FileName": "Fullständig utlysningstext ENGELSKASWElife2016.pdf(739838).pdf",
          "Titel": "SWElife Utlysningstext ENG ",
          "fileURL": "https://data.vinnova.se/api/file/2015-06711_16"
         },
         {
          "Beskrivning": "Project description template 2016-08-10",
          "DokumentID": "2015-06711_17",
          "FileName": "TEMPLATE Project Description 2016-08-10.docm(736552) (0)_TMP.docm(744177).docm",
          "Titel": "Project description template 2016-08-10",
          "fileURL": "https://data.vinnova.se/api/file/2015-06711_17"
         }
        ],
        "KontaktLista": [
         {
          "Epost": "Gunnar.Sandberg@vinnova.se",
          "KontaktID": 12079178,
          "Namn": "Gunnar Sandberg",
          "Roll": "Handläggare",
          "Telefon": " 46 8-454 6445 "
         },
         {
          "Epost": "Karin.Sundbeck@vinnova.se",
          "KontaktID": 12079181,
          "Namn": "Karin Sundbeck",
          "Roll": "Administrativa frågor",
          "Telefon": " 46 8-473 3226 "
         },
         {
          "Epost": "",
          "KontaktID": 12079561,
          "Namn": "VINNOVAs IT-support ",
          "Roll": "",
          "Telefon": " 46 8-473 32 99"
         },
         {
          "Epost": "",
          "KontaktID": 12216152,
          "Namn": "Thomas  Gunnarsson",
          "Roll": "SWElife",
          "Telefon": " 46 72-531 38 46"
         },
         {
          "Epost": "",
          "KontaktID": 12216173,
          "Namn": "Sofia  Waldemarson",
          "Roll": "SWElife",
          "Telefon": " 46 73-405 87 20"
         }
        ],
        "LankLista": [],
        "Publiceringsdatum": "2016-08-10T08:30:07",
        "Publik": 1,
        "Titel": "SWElife - Innovativa samverkansprojekt inom folksjukdomar 2016-2017",
        "TitelEngelska": "SWElife - Collaborative innovation projects within widespread diseases (folksjukdomar) 2016-2017"
       },
       {
        "AnsokningsomgangDnrLista": [
         {
          "DiarienummerAnsokningsomgang": "2015-06972"
         },
         {
          "DiarienummerAnsokningsomgang": "2015-06973"
         },
         {
          "DiarienummerAnsokningsomgang": "2015-06974"
         },
         {
          "DiarienummerAnsokningsomgang": "2016-01733"
         },
         {
          "DiarienummerAnsokningsomgang": "2016-04033"
         },
         {
          "DiarienummerAnsokningsomgang": "2016-05323"
         },
         {
          "DiarienummerAnsokningsomgang": "2017-04657"
         },
         {
          "DiarienummerAnsokningsomgang": "2018-03133"
         }
        ],
        "Beskrivning": "Strategiska innovationsprogrammet  InfraSweden2030 - öppna utlysningar ",
        "BeskrivningEngelska": "x",
        "Diarienummer": "2015-06971",
        "DiarienummerProgram": "2015-06114",
        "DokumentLista": [
         {
          "Beskrivning": "SIP InfraSweden2030  -  Klimatneutral infrastruktur (utlysningstext)",
          "DokumentID": "2015-06971_10",
          "FileName": "Klimatneutral infrastruktur-utlysningstext.pdf(783145).pdf",
          "Titel": "SIP InfraSweden2030  -  Klimatneutral infrastruktur (utlysningstext)",
          "fileURL": "https://data.vinnova.se/api/file/2015-06971_10"
         },
         {
          "Beskrivning": "SIP InfraSweden2030 - projektbeskrivningsmall",
          "DokumentID": "2015-06971_11",
          "FileName": "Projektbeskrivning-mall.docx(783146).docx",
          "Titel": "SIP InfraSweden2030 - projektbeskrivningsmall",
          "fileURL": "https://data.vinnova.se/api/file/2015-06971_11"
         },
         {
          "Beskrivning": "SIP InfraSweden2030 - projektreferatmall",
          "DokumentID": "2015-06971_12",
          "FileName": "Projektreferat-mall.docx(783148).docx",
          "Titel": "SIP InfraSweden2030 - projektreferatmall",
          "fileURL": "https://data.vinnova.se/api/file/2015-06971_12"
         },
         {
          "Beskrivning": "CV-mall",
          "DokumentID": "2015-06971_13",
          "FileName": "CV-mall.docx(783149).docx",
          "Titel": "CV-mall",
          "fileURL": "https://data.vinnova.se/api/file/2015-06971_13"
         }
        ],
        "KontaktLista": [
         {
          "Epost": "programkontoret@infrasweden2030.se",
          "KontaktID": 12365389,
          "Namn": "Camilla Byström",
          "Roll": "Programchef",
          "Telefon": "073-765 21 38"
         },
         {
          "Epost": "lena.dalsmyr@vinnova.se",
          "KontaktID": 12537821,
          "Namn": "Lena Dalsmyr",
          "Roll": "Administrativa frågor",
          "Telefon": "08-473 31 61"
         },
         {
          "Epost": "lejla.cengic@vinnova.se ",
          "KontaktID": 12775116,
          "Namn": "Lejla Cengic",
          "Roll": "Utlysningsansvarig",
          "Telefon": "08-473 30 10"
         }
        ],
        "LankLista": [],
        "Publiceringsdatum": "2019-04-03T15:30:19",
        "Publik": 1,
        "Titel": "Strategiska innovationsprogrammet InfraSweden2030 ",
        "TitelEngelska": "x"
       },
       {
        "AnsokningsomgangDnrLista": [
         {
          "DiarienummerAnsokningsomgang": "2015-07036"
         },
         {
          "DiarienummerAnsokningsomgang": "2017-02042"
         },
         {
          "DiarienummerAnsokningsomgang": "2019-01038"
         },
         {
          "DiarienummerAnsokningsomgang": "2019-02230"
         }
        ],
        "Beskrivning": "Långsiktig insats för kompetens och utveckling kring datadriven innovation. Insatsen syftar till att i etapper bidra till nationella öppna miljöer där datadriven utveckling bidrar till branschers och verksamhetsområdens innovationsförmåga. ",
        "BeskrivningEngelska": "Data-driven innovation",
        "Diarienummer": "2015-07023",
        "DiarienummerProgram": "2012-00741",
        "DokumentLista": [
         {
          "Beskrivning": "Den här utlysningen har som övergripande syfte att öka kapaciteten i Sverige att återanvända data i innovationer. \r\nFörmågan att lära av och förädla data är idag central för att utveckla företag och offentlig sektor, en utveckling som kallas datadriven innovation. \r\nVinnova uppmuntrar nu forskningsorganisationer, företag, offentliga och ideella organisationer som har en plan för hur man systematiskt kan främja innovationer baserade på data, att söka finansiering i denna utlysning.",
          "DokumentID": "2015-07023_6",
          "FileName": "Datadrivna labb 2017 rev20170324(790590).pdf",
          "Titel": "Datadrivna labb 2017 rev20170324",
          "fileURL": "https://data.vinnova.se/api/file/2015-07023_6"
         }
        ],
        "KontaktLista": [],
        "LankLista": [],
        "Publiceringsdatum": "2019-04-03T14:00:47",
        "Publik": 1,
        "Titel": "Datadriven innovation",
        "TitelEngelska": "Data-driven innovation"
       },
       {
        "AnsokningsomgangDnrLista": [
         {
          "DiarienummerAnsokningsomgang": "2015-07039"
         }
        ],
        "Beskrivning": "Medtech4health: Medicintekniska innovationer inom vård och omsorg – 2016",
        "BeskrivningEngelska": "Collaboration project call MT4H",
        "Diarienummer": "2015-07026",
        "DiarienummerProgram": "2015-06135",
        "DokumentLista": [
         {
          "Beskrivning": "Utlysningstext",
          "DokumentID": "2015-07026_2",
          "FileName": "Utlysningstext Medicintekniska innovationer inom vård och omsorg - 2016.pdf(708992).pdf",
          "Titel": "Utlysningstext",
          "fileURL": "https://data.vinnova.se/api/file/2015-07026_2"
         },
         {
          "Beskrivning": "Blankett projektparts godkännande",
          "DokumentID": "2015-07026_3",
          "FileName": "Blankett Projektparts godkännande - modifierad.dotx(708995).dotx",
          "Titel": "Blankett projektparts godkännande",
          "fileURL": "https://data.vinnova.se/api/file/2015-07026_3"
         },
         {
          "Beskrivning": "TRL-trappa",
          "DokumentID": "2015-07026_6",
          "FileName": "TRL-trappa MT4H samt TRL SWElife.pdf(709012).pdf",
          "Titel": "TRL-trappa",
          "fileURL": "https://data.vinnova.se/api/file/2015-07026_6"
         },
         {
          "Beskrivning": "Projektbeskrivningsmall 2016-02-18",
          "DokumentID": "2015-07026_7",
          "FileName": "Projektbeskrivningsmall Medicinteknik i VoO feb 18.doc(715532).doc",
          "Titel": "Projektbeskrivningsmall 2016-02-18",
          "fileURL": "https://data.vinnova.se/api/file/2015-07026_7"
         },
         {
          "Beskrivning": "CV-mall 2016-03-22",
          "DokumentID": "2015-07026_8",
          "FileName": "CV template sv - Medtech4Health v1.2.docx(720963).docx",
          "Titel": "CV-mall 2016-03-22",
          "fileURL": "https://data.vinnova.se/api/file/2015-07026_8"
         }
        ],
        "KontaktLista": [
         {
          "Epost": "Pontus.vonBahr@VINNOVA.se",
          "KontaktID": 12099800,
          "Namn": "Pontus Von Bahr",
          "Roll": "Handläggare",
          "Telefon": "08-473 30 91"
         },
         {
          "Epost": "Karin.Sundbeck@VINNOVA.se",
          "KontaktID": 12099801,
          "Namn": "Karin Sundbeck",
          "Roll": "Administrativa frågor",
          "Telefon": "08-473 3226 "
         },
         {
          "Epost": "reidar.gardeback@medtech4health.se",
          "KontaktID": 12099803,
          "Namn": "Reidar  Gårdebäck",
          "Roll": "",
          "Telefon": "073-765 23 83"
         },
         {
          "Epost": "jukka.lausmaa@sp.se",
          "KontaktID": 12099804,
          "Namn": "Jukka  Lausmaa",
          "Roll": "",
          "Telefon": "070‐392 41 72"
         }
        ],
        "LankLista": [],
        "Publiceringsdatum": "2018-02-12T13:30:16",
        "Publik": 1,
        "Titel": "Medtech4health: Medicintekniska innovationer inom vård och omsorg - 2016",
        "TitelEngelska": "Collaboration project call MT4H"
       },
       {
        "AnsokningsomgangDnrLista": [
         {
          "DiarienummerAnsokningsomgang": "2015-07064"
         },
         {
          "DiarienummerAnsokningsomgang": "2016-05255"
         },
         {
          "DiarienummerAnsokningsomgang": "2016-05327"
         },
         {
          "DiarienummerAnsokningsomgang": "2017-02667"
         },
         {
          "DiarienummerAnsokningsomgang": "2018-02319"
         }
        ],
        "Beskrivning": "Gick tidigare under namnet \"Tjänsteinnovation för Transformation\"",
        "BeskrivningEngelska": "x",
        "Diarienummer": "2015-07062",
        "DiarienummerProgram": "2013-01117",
        "DokumentLista": [
         {
          "Beskrivning": "CV mall Från analog till digital",
          "DokumentID": "2015-07062_6",
          "FileName": "Mall för meritförteckning (CV) Från analog till digital_160729.docx(748644).docx",
          "Titel": "CV mall Från analog till digital",
          "fileURL": "https://data.vinnova.se/api/file/2015-07062_6"
         },
         {
          "Beskrivning": "Projektbeskrivningsmall  Från analog till digital",
          "DokumentID": "2015-07062_7",
          "FileName": "Mall för Projektbeskrivningsmall_Från analog till digital_160729.docx(748645).docx",
          "Titel": "Projektbeskrivningsmall  Från analog till digital",
          "fileURL": "https://data.vinnova.se/api/file/2015-07062_7"
         },
         {
          "Beskrivning": "Utlysningstext Analog till digital  ver2",
          "DokumentID": "2015-07062_8",
          "FileName": "Analogt_digitalt_160908_ver2.pdf(748765).pdf",
          "Titel": "Utlysningstext Analog till digital  ver2",
          "fileURL": "https://data.vinnova.se/api/file/2015-07062_8"
         }
        ],
        "KontaktLista": [
         {
          "Epost": "erik.sundstrom@vinnova.se",
          "KontaktID": 12207786,
          "Namn": "Erik Sundström",
          "Roll": "Programansvarig",
          "Telefon": "46 8 473 30 57"
         },
         {
          "Epost": "joanna.franzen@vinnova.se",
          "KontaktID": 12207789,
          "Namn": "Joanna Franzén",
          "Roll": "Handläggare",
          "Telefon": "46 8 473 30 54 "
         },
         {
          "Epost": "jenny.johansson@vinnova.se",
          "KontaktID": 12237359,
          "Namn": "Jenny Johansson",
          "Roll": "Administrativa frågor",
          "Telefon": "46 8 473 30 13"
         }
        ],
        "LankLista": [],
        "Publiceringsdatum": "2018-08-23T10:30:31",
        "Publik": 1,
        "Titel": "Från analog till digital",
        "TitelEngelska": "x"
       },
       {
        "AnsokningsomgangDnrLista": [
         {
          "DiarienummerAnsokningsomgang": "2016-03490"
         }
        ],
        "Beskrivning": "Inkubationsstöd -Utvecklingsprojekt beslut om budget",
        "BeskrivningEngelska": "x",
        "Diarienummer": "2015-07076",
        "DiarienummerProgram": "2014-06043",
        "DokumentLista": [],
        "KontaktLista": [
         {
          "Epost": "carl.naumburg@vinnova.se",
          "KontaktID": 12224486,
          "Namn": "Carl Naumburg",
          "Roll": "Utlysningsansvarig",
          "Telefon": "08-4733172"
         }
        ],
        "LankLista": [],
        "Publiceringsdatum": "2018-02-21T13:18:46",
        "Publik": 0,
        "Titel": "Inkubationsstöd -Utvecklingsprojekt beslut om budget",
        "TitelEngelska": "x"
       },
       {
        "AnsokningsomgangDnrLista": [
         {
          "DiarienummerAnsokningsomgang": "2015-07095"
         },
         {
          "DiarienummerAnsokningsomgang": "2016-05251"
         },
         {
          "DiarienummerAnsokningsomgang": "2018-00532"
         },
         {
          "DiarienummerAnsokningsomgang": "2019-00775"
         }
        ],
        "Beskrivning": "Kompetensförstärkning i småföretag",
        "BeskrivningEngelska": "Medtech4Health: Competence Enhancement in SME",
        "Diarienummer": "2015-07077",
        "DiarienummerProgram": "2015-06135",
        "DokumentLista": [
         {
          "Beskrivning": "Utlysningstext 2017-01-25",
          "DokumentID": "2015-07077_10",
          "FileName": "ÄNDRADUtlysningstext Kompetensförstärkning i småföretag 2017 26 jan 2017.pdf(778386).pdf",
          "Titel": "Utlysningstext 2017-01-25",
          "fileURL": "https://data.vinnova.se/api/file/2015-07077_10"
         },
         {
          "Beskrivning": "CV-mall 2017",
          "DokumentID": "2015-07077_8",
          "FileName": "CV template sv - Medtech4Health 2016-08-08.doc(778370).doc",
          "Titel": "CV-mall 2017",
          "fileURL": "https://data.vinnova.se/api/file/2015-07077_8"
         },
         {
          "Beskrivning": "Projektbeskrivningsmall 2017",
          "DokumentID": "2015-07077_9",
          "FileName": "Projektbeskrivningsmall Kompetensförstärkning i småföretag 25 jan 2017.doc(778371).doc",
          "Titel": "Projektbeskrivningsmall 2017",
          "fileURL": "https://data.vinnova.se/api/file/2015-07077_9"
         }
        ],
        "KontaktLista": [
         {
          "Epost": "henrik.mindedal@medtechwest.se",
          "KontaktID": 12101354,
          "Namn": "Henrik  Mindedal",
          "Roll": "Kontaktperson angående utlysningens inriktning och innehåll. ",
          "Telefon": "070‐888 84 45"
         },
         {
          "Epost": "Pontus.vonBahr@VINNOVA.se",
          "KontaktID": 12361114,
          "Namn": "Pontus von Bahr",
          "Roll": "Kontaktperson angående bedömningsprocessen samt juridiska och administrativa frågor, Vinnova. ",
          "Telefon": "08- 473 30 91"
         },
         {
          "Epost": "anna.tegnesjo@vinnova.se",
          "KontaktID": 12860536,
          "Namn": "Anna Tegnesjö",
          "Roll": "Kontaktperson angående bedömningsprocessen samt juridiska och administrativa frågor, Vinnova. ",
          "Telefon": "08-473 31 62"
         }
        ],
        "LankLista": [],
        "Publiceringsdatum": "2019-02-01T15:30:18",
        "Publik": 1,
        "Titel": "Medtech4Health: Kompetensförstärkning i småföretag",
        "TitelEngelska": "Medtech4Health: Competence Enhancement in SME"
       },
       {
        "AnsokningsomgangDnrLista": [
         {
          "DiarienummerAnsokningsomgang": "2015-07091"
         },
         {
          "DiarienummerAnsokningsomgang": "2015-07093"
         },
         {
          "DiarienummerAnsokningsomgang": "2015-07094"
         }
        ],
        "Beskrivning": "Materialbaserad konkurrenskraft 2016",
        "BeskrivningEngelska": "Materials based competitiveness 2016",
        "Diarienummer": "2015-07083",
        "DiarienummerProgram": "2013-02373",
        "DokumentLista": [
         {
          "Beskrivning": "Materialbaserad konkurrenskraft - mall för etappbeskrivning",
          "DokumentID": "2015-07083_10",
          "FileName": "Materialbaserad konkurrenskraft - mall för etappbeskrivning(749438).doc",
          "Titel": "Materialbaserad konkurrenskraft - mall för etappbeskrivning",
          "fileURL": "https://data.vinnova.se/api/file/2015-07083_10"
         },
         {
          "Beskrivning": "Materialbaserad konkurrenskraft - mall för avsiktsförklaring",
          "DokumentID": "2015-07083_11",
          "FileName": "Materialbaserad konkurrenskraft - mall för avsiktsförklaring(749440).doc",
          "Titel": "Materialbaserad konkurrenskraft - mall för avsiktsförklaring",
          "fileURL": "https://data.vinnova.se/api/file/2015-07083_11"
         },
         {
          "Beskrivning": "Materialbaserad konkurrenskraft - utlysningstext hösten 2016",
          "DokumentID": "2015-07083_7",
          "FileName": "Materialbaserad konkurrenskraft - utlysningstext hösten 2016(749441).pdf",
          "Titel": "Materialbaserad konkurrenskraft - utlysningstext hösten 2016",
          "fileURL": "https://data.vinnova.se/api/file/2015-07083_7"
         },
         {
          "Beskrivning": "Materialbaserad konkurrenskraft - mall för projektbeskrivning Förprojekt",
          "DokumentID": "2015-07083_8",
          "FileName": "Materialbaserad konkurrenskraft - mall för projektbeskrivning Förprojekt(749430).doc",
          "Titel": "Materialbaserad konkurrenskraft - mall för projektbeskrivning Förprojekt",
          "fileURL": "https://data.vinnova.se/api/file/2015-07083_8"
         },
         {
          "Beskrivning": "Materialbaserad konkurrenskraft - mall för projektbeskrivning Överbryggningsprojekt",
          "DokumentID": "2015-07083_9",
          "FileName": "Materialbaserad konkurrenskraft - mall för projektbeskrivning Överbryggningsprojekt(749437).doc",
          "Titel": "Materialbaserad konkurrenskraft - mall för projektbeskrivning Överbryggningsprojekt",
          "fileURL": "https://data.vinnova.se/api/file/2015-07083_9"
         }
        ],
        "KontaktLista": [
         {
          "Epost": "anders.maren@vinnova.se",
          "KontaktID": 12110544,
          "Namn": "Anders Marén",
          "Roll": "Utlysningsansvarig",
          "Telefon": "46 8 473 31 88"
         },
         {
          "Epost": "marie.wikstrom@vinnova.se",
          "KontaktID": 12110550,
          "Namn": "Marie Wikström",
          "Roll": "Administrativa frågor",
          "Telefon": "46 8 473 31 79"
         }
        ],
        "LankLista": [],
        "Publiceringsdatum": "2016-09-13T15:30:21",
        "Publik": 1,
        "Titel": "Materialbaserad konkurrenskraft 2016",
        "TitelEngelska": "Materials based competitiveness 2016"
       },
       {
        "AnsokningsomgangDnrLista": [
         {
          "DiarienummerAnsokningsomgang": "2015-07104"
         },
         {
          "DiarienummerAnsokningsomgang": "2018-04752"
         }
        ],
        "Beskrivning": "Strategiskt innovationsprogrammet Drive Sweden - koordineringsmedel ",
        "BeskrivningEngelska": "x",
        "Diarienummer": "2015-07103",
        "DiarienummerProgram": "2015-07014",
        "DokumentLista": [],
        "KontaktLista": [],
        "LankLista": [],
        "Publiceringsdatum": "2018-11-21T14:31:00",
        "Publik": 1,
        "Titel": "Strategiska innovationsprogrammet Drive Sweden - koordineringsmedel ",
        "TitelEngelska": "x"
       },
       {
        "AnsokningsomgangDnrLista": [
         {
          "DiarienummerAnsokningsomgang": "2015-07106"
         },
         {
          "DiarienummerAnsokningsomgang": "2015-07107"
         },
         {
          "DiarienummerAnsokningsomgang": "2015-07108"
         },
         {
          "DiarienummerAnsokningsomgang": "2017-03706"
         },
         {
          "DiarienummerAnsokningsomgang": "2018-01785"
         },
         {
          "DiarienummerAnsokningsomgang": "2018-02051"
         },
         {
          "DiarienummerAnsokningsomgang": "2019-01034"
         },
         {
          "DiarienummerAnsokningsomgang": "2019-02044"
         }
        ],
        "Beskrivning": "Strategiska innovationsprogrammet Drive Sweden - utlysningar",
        "BeskrivningEngelska": "x",
        "Diarienummer": "2015-07105",
        "DiarienummerProgram": "2015-07014",
        "DokumentLista": [
         {
          "Beskrivning": "Innovationer för ett automatiserat transportsystem för människor och gods VT2017 - utlysningstext\r\n",
          "DokumentID": "2015-07105_5",
          "FileName": "UtlysningsText-SIP Drive Sweden 2017-18 - 15Dec2016.pdf(771067).pdf",
          "Titel": "Innovationer för ett automatiserat transportsystem för människor och gods VT2017 - utlysningstext\r\n",
          "fileURL": "https://data.vinnova.se/api/file/2015-07105_5"
         },
         {
          "Beskrivning": "Publik projektreferat för programkontoret",
          "DokumentID": "2015-07105_6",
          "FileName": "Ansökningsmall projektreferat - Utlysningar Drive Sweden (12DEC2016).docx(771068).docx",
          "Titel": "Publik projektreferat för programkontoret",
          "fileURL": "https://data.vinnova.se/api/file/2015-07105_6"
         },
         {
          "Beskrivning": "Projektbeskrivningsmall",
          "DokumentID": "2015-07105_7",
          "FileName": "ansökningsmall DS - VT17.docx(787525).docx",
          "Titel": "Projektbeskrivningsmall",
          "fileURL": "https://data.vinnova.se/api/file/2015-07105_7"
         }
        ],
        "KontaktLista": [
         {
          "Epost": "eric.wallgren@vinnova.se",
          "KontaktID": 12133845,
          "Namn": "Eric Wallgren",
          "Roll": "Utlysningsansvarig på Vinnova",
          "Telefon": "08-473 30 96"
         },
         {
          "Epost": "lena.dalsmyr@vinnova.se",
          "KontaktID": 12133854,
          "Namn": "Lena Dalsmyr",
          "Roll": "Administrativa frågor",
          "Telefon": "08-473 31 61"
         },
         {
          "Epost": "sofie.vennersten@lindholmen.se ",
          "KontaktID": 12903480,
          "Namn": "Sofie  Vennersten",
          "Roll": "Programchef",
          "Telefon": "031-764 70 16"
         }
        ],
        "LankLista": [],
        "Publiceringsdatum": "2019-03-15T13:30:20",
        "Publik": 1,
        "Titel": "Strategiska innovationsprogrammet Drive Sweden - utlysningar",
        "TitelEngelska": "x"
       },
       {
        "AnsokningsomgangDnrLista": [
         {
          "DiarienummerAnsokningsomgang": "2015-07110"
         },
         {
          "DiarienummerAnsokningsomgang": "2018-04759"
         }
        ],
        "Beskrivning": "Strategiska innovationsprogrammet  InfraSweden2030 - koordineringsmedel",
        "BeskrivningEngelska": "x",
        "Diarienummer": "2015-07109",
        "DiarienummerProgram": "2015-06114",
        "DokumentLista": [],
        "KontaktLista": [],
        "LankLista": [],
        "Publiceringsdatum": "2018-11-21T15:31:00",
        "Publik": 1,
        "Titel": "Strategiska innovationsprogrammet InfraSweden2030 - koordineringsmedel",
        "TitelEngelska": "x"
       },
       {
        "AnsokningsomgangDnrLista": [
         {
          "DiarienummerAnsokningsomgang": "2012-00063"
         },
         {
          "DiarienummerAnsokningsomgang": "2013-05654"
         },
         {
          "DiarienummerAnsokningsomgang": "2016-00236"
         },
         {
          "DiarienummerAnsokningsomgang": "2017-01607"
         },
         {
          "DiarienummerAnsokningsomgang": "2017-01628"
         },
         {
          "DiarienummerAnsokningsomgang": "2017-03016"
         },
         {
          "DiarienummerAnsokningsomgang": "2017-03284"
         },
         {
          "DiarienummerAnsokningsomgang": "2017-03596"
         },
         {
          "DiarienummerAnsokningsomgang": "2017-05014"
         },
         {
          "DiarienummerAnsokningsomgang": "2017-05580"
         },
         {
          "DiarienummerAnsokningsomgang": "2018-02824"
         },
         {
          "DiarienummerAnsokningsomgang": "2018-03029"
         },
         {
          "DiarienummerAnsokningsomgang": "2018-03059"
         },
         {
          "DiarienummerAnsokningsomgang": "2018-04476"
         },
         {
          "DiarienummerAnsokningsomgang": "2018-05375"
         },
         {
          "DiarienummerAnsokningsomgang": "2019-00083"
         },
         {
          "DiarienummerAnsokningsomgang": "2019-01193"
         },
         {
          "DiarienummerAnsokningsomgang": "2019-01194"
         },
         {
          "DiarienummerAnsokningsomgang": "2019-01195"
         },
         {
          "DiarienummerAnsokningsomgang": "2019-01196"
         }
        ],
        "Beskrivning": "EUREKA Kluster medfinansiering",
        "BeskrivningEngelska": "EUREKA Cluster financing",
        "Diarienummer": "2016-00068",
        "DiarienummerProgram": "2016-00056",
        "DokumentLista": [
         {
          "Beskrivning": "EUREKA medfinansiering kluster",
          "DokumentID": "2016-00068_2",
          "FileName": "EUREKA medfinansiering kluster(705775).pdf",
          "Titel": "EUREKA medfinansiering kluster - utlysningstext",
          "fileURL": "https://data.vinnova.se/api/file/2016-00068_2"
         }
        ],
        "KontaktLista": [],
        "LankLista": [],
        "Publiceringsdatum": "2019-02-11T17:00:21",
        "Publik": 1,
        "Titel": "EUREKA Kluster medfinansiering",
        "TitelEngelska": "EUREKA Cluster financing"
       },
       {
        "AnsokningsomgangDnrLista": [
         {
          "DiarienummerAnsokningsomgang": "2016-00265"
         },
         {
          "DiarienummerAnsokningsomgang": "2016-05341"
         },
         {
          "DiarienummerAnsokningsomgang": "2018-00536"
         },
         {
          "DiarienummerAnsokningsomgang": "2018-04474"
         }
        ],
        "Beskrivning": "Medtech4Health: Innovatörer i vård och omsorg",
        "BeskrivningEngelska": "Medtech4Health: Innovators in the healthcare sector",
        "Diarienummer": "2016-00232",
        "DiarienummerProgram": "2015-06135",
        "DokumentLista": [
         {
          "Beskrivning": "CV-mall 2017",
          "DokumentID": "2016-00232_14",
          "FileName": "CV template sv - Medtech4Health 2017-01-20.doc(777307).doc",
          "Titel": "CV-mall 2017",
          "fileURL": "https://data.vinnova.se/api/file/2016-00232_14"
         },
         {
          "Beskrivning": "Projektbeskrivningsmall 2017",
          "DokumentID": "2016-00232_15",
          "FileName": "Projektbeskrivningsmall Innovatörer i VoO 2017.doc(777308).doc",
          "Titel": "Projektbeskrivningsmall 2017",
          "fileURL": "https://data.vinnova.se/api/file/2016-00232_15"
         },
         {
          "Beskrivning": "Utlysningstext 2017",
          "DokumentID": "2016-00232_16",
          "FileName": "ÄndradUtlysningstext Innovatörer inom vård och omsorg 14 feb 2017.pdf(781841).pdf",
          "Titel": "Utlysningstext 2017",
          "fileURL": "https://data.vinnova.se/api/file/2016-00232_16"
         }
        ],
        "KontaktLista": [
         {
          "Epost": "pontus.vonbahr@vinnova.se",
          "KontaktID": 12111101,
          "Namn": "Pontus von Bahr",
          "Roll": "Frågor angående bedömningsprocessen samt juridiska och administrativa frågor",
          "Telefon": " 46 8 473 30 91"
         },
         {
          "Epost": "anna.tegensjo@vinnova.se",
          "KontaktID": 12807040,
          "Namn": "Anna Tegnesjö",
          "Roll": "Frågor angående bedömningsprocessen samt juridiska och administrativa frågor",
          "Telefon": "46 8 473 3162"
         },
         {
          "Epost": "frida.lindberg@medtech4health.se",
          "KontaktID": 12807041,
          "Namn": "Frida Lindberg",
          "Roll": "Kontaktperson ang. utlysningens inriktning och innehåll",
          "Telefon": "07 790 96 13"
         }
        ],
        "LankLista": [],
        "Publiceringsdatum": "2018-12-03T09:30:04",
        "Publik": 1,
        "Titel": "Medtech4Health: Innovatörer i vård och omsorg",
        "TitelEngelska": "Medtech4Health: Innovators in the healthcare sector"
       },
       {
        "AnsokningsomgangDnrLista": [
         {
          "DiarienummerAnsokningsomgang": "2016-00697"
         }
        ],
        "Beskrivning": "ERANET Cofund Smart Cities and Communities",
        "BeskrivningEngelska": "ERANET Cofund Smart Cities and Communities",
        "Diarienummer": "2016-00304",
        "DiarienummerProgram": "2009-02218",
        "DokumentLista": [],
        "KontaktLista": [],
        "LankLista": [],
        "Publiceringsdatum": "2018-05-08T14:00:07",
        "Publik": 1,
        "Titel": "ERANET Cofund Smart Cities and Communities",
        "TitelEngelska": "ERANET Cofund Smart Cities and Communities"
       },
       {
        "AnsokningsomgangDnrLista": [
         {
          "DiarienummerAnsokningsomgang": "2016-00997"
         },
         {
          "DiarienummerAnsokningsomgang": "2016-01638"
         },
         {
          "DiarienummerAnsokningsomgang": "2016-02765"
         },
         {
          "DiarienummerAnsokningsomgang": "2016-04022"
         },
         {
          "DiarienummerAnsokningsomgang": "2016-04028"
         },
         {
          "DiarienummerAnsokningsomgang": "2016-04574"
         },
         {
          "DiarienummerAnsokningsomgang": "2016-04576"
         },
         {
          "DiarienummerAnsokningsomgang": "2017-01701"
         },
         {
          "DiarienummerAnsokningsomgang": "2017-05392"
         },
         {
          "DiarienummerAnsokningsomgang": "2018-04809"
         }
        ],
        "Beskrivning": "Enskilda projekt inom SIP STRIM",
        "BeskrivningEngelska": "Strategic Projects within SIP STRIM",
        "Diarienummer": "2016-00315",
        "DiarienummerProgram": "2014-00598",
        "DokumentLista": [],
        "KontaktLista": [],
        "LankLista": [],
        "Publiceringsdatum": "2018-12-04T11:00:19",
        "Publik": 1,
        "Titel": "Enskilda projekt inom SIP STRIM",
        "TitelEngelska": "Strategic Projects within SIP STRIM"
       },
       {
        "AnsokningsomgangDnrLista": [
         {
          "DiarienummerAnsokningsomgang": "2016-01006"
         },
         {
          "DiarienummerAnsokningsomgang": "2016-05144"
         }
        ],
        "Beskrivning": "Klimatsmart protein",
        "BeskrivningEngelska": "x",
        "Diarienummer": "2016-01005",
        "DiarienummerProgram": "2016-01914",
        "DokumentLista": [
         {
          "Beskrivning": "Klimatsmart protein - utlysningstext",
          "DokumentID": "2016-01005_2",
          "FileName": "xUtlysningstext - Klimatsmart protein_version2016-02-19.pdf(715581).pdf",
          "Titel": "Klimatsmart protein - utlysningstext",
          "fileURL": "https://data.vinnova.se/api/file/2016-01005_2"
         }
        ],
        "KontaktLista": [
         {
          "Epost": "sebastian.axelsson@vinnova.se",
          "KontaktID": 12131282,
          "Namn": "Sebastian Axelsson",
          "Roll": "Utlysningsansvarig",
          "Telefon": "8 46 473 31 71"
         },
         {
          "Epost": "jenny.sjoblom@vinnova.se",
          "KontaktID": 12131302,
          "Namn": "Jenny Sjöblom",
          "Roll": "",
          "Telefon": "8 46 473 31 35"
         },
         {
          "Epost": "anne.lofquist@vinnova.se",
          "KontaktID": 12131305,
          "Namn": "Anne Löfquist",
          "Roll": "",
          "Telefon": "8 46 473 31 25"
         },
         {
          "Epost": "lena.eckerdalrimsten@vinnova.se",
          "KontaktID": 12131308,
          "Namn": "Lena Eckerdal Rimsten",
          "Roll": "",
          "Telefon": "8 46 473 31 24"
         }
        ],
        "LankLista": [],
        "Publiceringsdatum": "2018-03-02T07:30:15",
        "Publik": 1,
        "Titel": "Klimatsmart protein",
        "TitelEngelska": "x"
       },
       {
        "AnsokningsomgangDnrLista": [
         {
          "DiarienummerAnsokningsomgang": "2016-01602"
         },
         {
          "DiarienummerAnsokningsomgang": "2016-04556"
         },
         {
          "DiarienummerAnsokningsomgang": "2017-02796"
         },
         {
          "DiarienummerAnsokningsomgang": "2017-04570"
         },
         {
          "DiarienummerAnsokningsomgang": "2018-03985"
         }
        ],
        "Beskrivning": "Digital hälsa",
        "BeskrivningEngelska": "x",
        "Diarienummer": "2016-01596",
        "DiarienummerProgram": "2009-02187",
        "DokumentLista": [
         {
          "Beskrivning": "Mall för meritförteckning (CV) - Beslutsstöd för hälsa, vård och omsorg med hjälp av artificiell intelligens",
          "DokumentID": "2016-01596_12",
          "FileName": "Mall för meritförteckning (CV) - Beslutsstöd för hälsa, vård och omsorg med hjälp av artificiell intelligens.doc(755390).doc",
          "Titel": "Mall för meritförteckning (CV) - Beslutsstöd för hälsa, vård och omsorg med hjälp av artificiell intelligens",
          "fileURL": "https://data.vinnova.se/api/file/2016-01596_12"
         },
         {
          "Beskrivning": "CV template - Decision support system for health care and social services using artificial intelligence",
          "DokumentID": "2016-01596_15",
          "FileName": "Mall för meritförteckning (CV) - Beslutsstöd för hälsa, vård och omsorg med hjälp av artificiell intelligens_EN.doc(758551).doc",
          "Titel": "CV template - Decision support system for health care and social services using artificial intelligence",
          "fileURL": "https://data.vinnova.se/api/file/2016-01596_15"
         },
         {
          "Beskrivning": "Projektbeskrivningsmall - Beslutsstöd för hälsa vård och omsorg med hjälp av artificiell intelligens, uppdaterad 2016-12-02",
          "DokumentID": "2016-01596_22",
          "FileName": "Projektbeskrivningsmall - Beslutsstöd för hälsa, vård och omsorg med hjälp av artificiell intellligens 2016-12-02.docx(768040).docx",
          "Titel": "Projektbeskrivningsmall - Beslutsstöd för hälsa vård och omsorg med hjälp av artificiell intelligens, uppdaterad 2016-12-02",
          "fileURL": "https://data.vinnova.se/api/file/2016-01596_22"
         },
         {
          "Beskrivning": "Project description templete - Decision support system for health care and social services using artificial intelligence 2016-12-08",
          "DokumentID": "2016-01596_23",
          "FileName": "Project description templete - Decision support system for health care and social services using artificial intelligence 2016-12-02.docx(769614).docx",
          "Titel": "Project description templete - Decision support system for health care and social services using artificial intelligence 2016-12-08",
          "fileURL": "https://data.vinnova.se/api/file/2016-01596_23"
         },
         {
          "Beskrivning": "Utlysningstext - beslutsstöd för hälsa, vård och omsorg med hjälp av artificiell intelligens, uppdaterad version 2017-02-22",
          "DokumentID": "2016-01596_24",
          "FileName": "Beslutsstöd för hälsa vård och omsorg med hjälp av artificiell intelligens 2017-02-22.pdf(783165).pdf",
          "Titel": "Utlysningstext - beslutsstöd för hälsa, vård och omsorg med hjälp av artificiell intelligens, uppdaterad version 2017-02-22",
          "fileURL": "https://data.vinnova.se/api/file/2016-01596_24"
         },
         {
          "Beskrivning": "Call for applications - Decision support system for health care and social services using artificial intelligence, updated version 2017-02-22 ",
          "DokumentID": "2016-01596_26",
          "FileName": "Decision support system for health care and social services using artificial intelligence 2017-02-22.pdf(788126).pdf",
          "Titel": "Call for applications - Decision support system for health care and social services using artificial intelligence, updated version 2017-02-22 ",
          "fileURL": "https://data.vinnova.se/api/file/2016-01596_26"
         }
        ],
        "KontaktLista": [],
        "LankLista": [],
        "Publiceringsdatum": "2018-05-31T10:00:25",
        "Publik": 1,
        "Titel": "Digital hälsa",
        "TitelEngelska": "x"
       },
       {
        "AnsokningsomgangDnrLista": [
         {
          "DiarienummerAnsokningsomgang": "2016-01673"
         }
        ],
        "Beskrivning": "ERA-NET Transport III Logistik",
        "BeskrivningEngelska": "ERA-NET Transport III Logistik",
        "Diarienummer": "2016-01664",
        "DiarienummerProgram": "2009-02218",
        "DokumentLista": [],
        "KontaktLista": [],
        "LankLista": [],
        "Publiceringsdatum": "2018-05-08T14:00:08",
        "Publik": 1,
        "Titel": "ERA-NET Transport III Logistik",
        "TitelEngelska": "ERA-NET Transport III Logistik"
       },
       {
        "AnsokningsomgangDnrLista": [
         {
          "DiarienummerAnsokningsomgang": "2016-01678"
         },
         {
          "DiarienummerAnsokningsomgang": "2016-01679"
         },
         {
          "DiarienummerAnsokningsomgang": "2016-05131"
         },
         {
          "DiarienummerAnsokningsomgang": "2016-05335"
         }
        ],
        "Beskrivning": "Pilot – resultatspridning 2016 ",
        "BeskrivningEngelska": "x",
        "Diarienummer": "2016-01674",
        "DiarienummerProgram": "2012-01393",
        "DokumentLista": [],
        "KontaktLista": [],
        "LankLista": [],
        "Publiceringsdatum": "2016-12-08T08:30:16",
        "Publik": 1,
        "Titel": "Pilot – resultatspridning 2016 ",
        "TitelEngelska": "x"
       },
       {
        "AnsokningsomgangDnrLista": [
         {
          "DiarienummerAnsokningsomgang": "2016-01894"
         },
         {
          "DiarienummerAnsokningsomgang": "2017-05297"
         },
         {
          "DiarienummerAnsokningsomgang": "2018-05233"
         }
        ],
        "Beskrivning": "Tjänsteinnovation Strategiska projekt",
        "BeskrivningEngelska": "x",
        "Diarienummer": "2016-01892",
        "DiarienummerProgram": "2013-01117",
        "DokumentLista": [],
        "KontaktLista": [],
        "LankLista": [],
        "Publiceringsdatum": "2017-11-28T11:00:13",
        "Publik": 0,
        "Titel": "Tjänsteinnovation Strategiska projekt",
        "TitelEngelska": "x"
       },
       {
        "AnsokningsomgangDnrLista": [
         {
          "DiarienummerAnsokningsomgang": "2016-02198"
         }
        ],
        "Beskrivning": "MT4H utlysning strategiska projekt",
        "BeskrivningEngelska": "MT4H strategic project call",
        "Diarienummer": "2016-02193",
        "DiarienummerProgram": "2015-06135",
        "DokumentLista": [],
        "KontaktLista": [
         {
          "Epost": "karin.sundbeck@vinnova.se",
          "KontaktID": 12163475,
          "Namn": "Karin Sundbeck",
          "Roll": "",
          "Telefon": "08-473 3226 "
         },
         {
          "Epost": "gunnar.sandberg@vinnova.se",
          "KontaktID": 12163476,
          "Namn": "Gunnar Sandberg",
          "Roll": "",
          "Telefon": "08-454 64 45 "
         },
         {
          "Epost": "pontus.vonbahr@vinnova.se",
          "KontaktID": 12163482,
          "Namn": "Pontus von Bahr",
          "Roll": "",
          "Telefon": " 08-473 3091 "
         }
        ],
        "LankLista": [],
        "Publiceringsdatum": "2018-09-06T15:30:37",
        "Publik": 0,
        "Titel": "MT4H utlysning strategiska projekt",
        "TitelEngelska": "MT4H strategic project call"
       },
       {
        "AnsokningsomgangDnrLista": [
         {
          "DiarienummerAnsokningsomgang": "2016-02701"
         },
         {
          "DiarienummerAnsokningsomgang": "2016-04802"
         }
        ],
        "Beskrivning": "Regeringsuppdrag Industrins Digitalisering 2",
        "BeskrivningEngelska": "Regeringsuppdrag Industrins Digitalisering:2",
        "Diarienummer": "2016-02697",
        "DiarienummerProgram": "2014-01141",
        "DokumentLista": [],
        "KontaktLista": [],
        "LankLista": [],
        "Publiceringsdatum": "2016-11-29T11:30:19",
        "Publik": 1,
        "Titel": "Regeringsuppdrag Industrins Digitalisering 2",
        "TitelEngelska": "Regeringsuppdrag Industrins Digitalisering:2"
       },
       {
        "AnsokningsomgangDnrLista": [
         {
          "DiarienummerAnsokningsomgang": "2016-02796"
         }
        ],
        "Beskrivning": "Internationell samverkan med aktörer i Brasilien för innovationer i samarbete med SENAI 2016",
        "BeskrivningEngelska": "xxx",
        "Diarienummer": "2016-02794",
        "DiarienummerProgram": "2011-00500",
        "DokumentLista": [
         {
          "Beskrivning": "Call for Applications - International collaboration with partners in Brazil for innovations in cooperation with SENAI 2016\r\n(reviderad 2016-11-01)",
          "DokumentID": "2016-02794_5",
          "FileName": "Utlysning Internationell samverkan med aktörer i Brasilien för innovationer i samarbete med SENAI 2016-04-23 FINAL3_EN-GB CV rev 161101.pdf(765652).pdf",
          "Titel": "Call for Applications - International collaboration with partners in Brazil for innovations in cooperation with SENAI 2016 (reviderad 2016-11-01)\r\n",
          "fileURL": "https://data.vinnova.se/api/file/2016-02794_5"
         },
         {
          "Beskrivning": "Internationell samverkan med aktörer i Brasilien för innovationer i samarbete med SENAI 2016 - utlysningstext (reviderad 2016-11-25)",
          "DokumentID": "2016-02794_6",
          "FileName": "Utlysning Internationell samverkan med aktörer i Brasilien för innovationer i samarbete med SENAI 2016-04-23 SE FINAL 20161125.pdf(766245).pdf",
          "Titel": "Internationell samverkan med aktörer i Brasilien för innovationer i samarbete med SENAI 2016 - utlysningstext (reviderad 2016-11-25)",
          "fileURL": "https://data.vinnova.se/api/file/2016-02794_6"
         }
        ],
        "KontaktLista": [
         {
          "Epost": "henrik.friden@vinnova.se",
          "KontaktID": 12192693,
          "Namn": "Henrik Fridén",
          "Roll": "",
          "Telefon": "08-473 31 54"
         },
         {
          "Epost": "lena.dalsmyr@vinnova.se",
          "KontaktID": 12192694,
          "Namn": "Lena Dalsmyr",
          "Roll": "Administrativa frågor",
          "Telefon": "08-473 31 61"
         },
         {
          "Epost": "ciro.vasquez@vinnova.se",
          "KontaktID": 12192695,
          "Namn": "Ciro Vasquez",
          "Roll": "Utlysningsansvarig",
          "Telefon": "08-473 31 30"
         },
         {
          "Epost": "christian.hansen@vinnova.se",
          "KontaktID": 12192705,
          "Namn": "Christian Hansen",
          "Roll": "",
          "Telefon": "08-473 31 12"
         }
        ],
        "LankLista": [],
        "Publiceringsdatum": "2019-02-13T14:01:05",
        "Publik": 1,
        "Titel": "Internationell samverkan med aktörer i Brasilien för innovationer i samarbete med SENAI 2016",
        "TitelEngelska": "xxx"
       },
       {
        "AnsokningsomgangDnrLista": [
         {
          "DiarienummerAnsokningsomgang": "2016-02797"
         }
        ],
        "Beskrivning": "Internationell samverkan med aktörer i Brasilien för innovationer i samarbete med FAPEMIG 2016",
        "BeskrivningEngelska": "xx",
        "Diarienummer": "2016-02795",
        "DiarienummerProgram": "2011-00500",
        "DokumentLista": [],
        "KontaktLista": [
         {
          "Epost": "ciro.vasquez@vinnova.se",
          "KontaktID": 12192715,
          "Namn": "Ciro Vasquez",
          "Roll": "Utlysningsansvarig",
          "Telefon": "08-473 31 30"
         },
         {
          "Epost": "henrik.friden@vinnova.se",
          "KontaktID": 12192716,
          "Namn": "Henrik Fridén",
          "Roll": "",
          "Telefon": "08-473 31 54"
         },
         {
          "Epost": "christian.hansen@vinnova.se",
          "KontaktID": 12192717,
          "Namn": "Christian Hansen",
          "Roll": "",
          "Telefon": "08-473 31 12"
         },
         {
          "Epost": "lena.dalsmyr@vinnova.se",
          "KontaktID": 12192718,
          "Namn": "Lena Dalsmyr",
          "Roll": "Administrativa frågor",
          "Telefon": ""
         }
        ],
        "LankLista": [],
        "Publiceringsdatum": "2018-09-13T15:03:43",
        "Publik": 1,
        "Titel": "Internationell samverkan med aktörer i Brasilien för innovationer i samarbete med FAPEMIG 2016",
        "TitelEngelska": "xx"
       },
       {
        "AnsokningsomgangDnrLista": [
         {
          "DiarienummerAnsokningsomgang": "2016-02803"
         },
         {
          "DiarienummerAnsokningsomgang": "2017-01643"
         },
         {
          "DiarienummerAnsokningsomgang": "2017-04918"
         }
        ],
        "Beskrivning": "Innovair/SMF ",
        "BeskrivningEngelska": "Innovair/SMF ",
        "Diarienummer": "2016-02798",
        "DiarienummerProgram": "2014-04016",
        "DokumentLista": [],
        "KontaktLista": [],
        "LankLista": [],
        "Publiceringsdatum": "2018-06-28T13:30:04",
        "Publik": 1,
        "Titel": "Innovair/SMF ",
        "TitelEngelska": "Innovair/SMF "
       },
       {
        "AnsokningsomgangDnrLista": [
         {
          "DiarienummerAnsokningsomgang": "2016-03992"
         }
        ],
        "Beskrivning": "VINNVÄXT 2013 Etapp2",
        "BeskrivningEngelska": "VINNVÄXT 2013 2:nd Phase",
        "Diarienummer": "2016-02848",
        "DiarienummerProgram": "2002-00568",
        "DokumentLista": [],
        "KontaktLista": [],
        "LankLista": [],
        "Publiceringsdatum": "2018-05-17T08:30:26",
        "Publik": 1,
        "Titel": "VINNVÄXT 2013 Etapp2",
        "TitelEngelska": "VINNVÄXT 2013 2:nd Phase"
       },
       {
        "AnsokningsomgangDnrLista": [
         {
          "DiarienummerAnsokningsomgang": "2016-02865"
         }
        ],
        "Beskrivning": "Patientinnovationsslussar",
        "BeskrivningEngelska": "Patient innovation gateway",
        "Diarienummer": "2016-02856",
        "DiarienummerProgram": "2012-00741",
        "DokumentLista": [
         {
          "Beskrivning": "Patientinnovationsslussar Utlysningstext Rev 27 maj 2016",
          "DokumentID": "2016-02856_3",
          "FileName": "Patientsluss - utlysningstext Rev 27maj2016.pdf(733894).pdf",
          "Titel": "Patientinnovationsslussar Utlysningstext Rev 27 maj 2016",
          "fileURL": "https://data.vinnova.se/api/file/2016-02856_3"
         }
        ],
        "KontaktLista": [
         {
          "Epost": "erik.boralv@vinnova.se ",
          "KontaktID": 12196927,
          "Namn": "Erik Borälv",
          "Roll": "Utlysningsansvarig",
          "Telefon": "46 8 473 32 22"
         },
         {
          "Epost": "Alexander.Alvsilver@Vinnova.se",
          "KontaktID": 12196928,
          "Namn": "Alexander Alvsilver",
          "Roll": "Utlysningsansvarig",
          "Telefon": "46 8 473 30 55"
         },
         {
          "Epost": "Birgitta.Lonne@vinnova.se",
          "KontaktID": 12196929,
          "Namn": "Birgitta Lonne",
          "Roll": "Administratör",
          "Telefon": "46 8 473 31 16"
         }
        ],
        "LankLista": [],
        "Publiceringsdatum": "2018-01-09T14:00:08",
        "Publik": 1,
        "Titel": "Patientinnovationsslussar",
        "TitelEngelska": "Patient innovation gateway"
       },
       {
        "AnsokningsomgangDnrLista": [
         {
          "DiarienummerAnsokningsomgang": "2016-02929"
         }
        ],
        "Beskrivning": "Testbäddar inom miljöteknikområdet -  hösten 2016",
        "BeskrivningEngelska": "x",
        "Diarienummer": "2016-02927",
        "DiarienummerProgram": "2012-03291",
        "DokumentLista": [
         {
          "Beskrivning": "Testbäddar inom miljöteknikområdet – hösten 2016 - mall för projektbeskrivning \r\n\r\n",
          "DokumentID": "2016-02927_3",
          "FileName": "160613_Testbäddar inom miljöteknikområdet - hösten 2016_mall för projektbeskrivning.docx(737358).docx",
          "Titel": "Testbäddar inom miljöteknikområdet – hösten 2016 - mall för projektbeskrivning \r\n",
          "fileURL": "https://data.vinnova.se/api/file/2016-02927_3"
         },
         {
          "Beskrivning": "Testbäddar inom miljöteknikområdet – hösten 2016 - mall för CV-bilaga \r\n",
          "DokumentID": "2016-02927_4",
          "FileName": "160613_Testbäddar inom miljöteknikområdet - hösten 2016_mall för CV-bilaga.docx(737373).docx",
          "Titel": "Testbäddar inom miljöteknikområdet – hösten 2016 - mall för CV-bilaga \r\n",
          "fileURL": "https://data.vinnova.se/api/file/2016-02927_4"
         },
         {
          "Beskrivning": "Presentation från informationsmöte Testbäddar inom miljöteknik  2016-06-16",
          "DokumentID": "2016-02927_5",
          "FileName": "160620_Informationsmöte Testbäddar inom miljöteknikområdet - hösten 2016.pdf(739458).pdf",
          "Titel": "Presentation från informationsmöte Testbäddar inom miljöteknik  2016-06-16",
          "fileURL": "https://data.vinnova.se/api/file/2016-02927_5"
         },
         {
          "Beskrivning": "Guide för testbäddsutveckling",
          "DokumentID": "2016-02927_6",
          "FileName": "1600704_Testbäddar inom miljöteknikområdet - hösten 2016_guide för testbäddsutveckling.pdf(741972).pdf",
          "Titel": "Guide för testbäddsutveckling",
          "fileURL": "https://data.vinnova.se/api/file/2016-02927_6"
         },
         {
          "Beskrivning": "Testbäddar inom miljöteknikområdet - hösten 2016 (utlysningstext) ",
          "DokumentID": "2016-02927_7",
          "FileName": "160704_Testbäddar inom miljöteknikområdet - hösten 2016_utlysningstext.pdf(741973).pdf",
          "Titel": "Testbäddar inom miljöteknikområdet - hösten 2016 (utlysningstext) ",
          "fileURL": "https://data.vinnova.se/api/file/2016-02927_7"
         }
        ],
        "KontaktLista": [
         {
          "Epost": "johan.stenberg@vinnova.se",
          "KontaktID": 12201896,
          "Namn": "Johan Stenberg",
          "Roll": "Handläggare",
          "Telefon": "08-473 32 23"
         },
         {
          "Epost": "klas.barklof@vinnova.se",
          "KontaktID": 12201897,
          "Namn": "Klas Barklöf",
          "Roll": "Handläggare",
          "Telefon": "08-473 30 04"
         },
         {
          "Epost": "moa.eklund@vinnova.se",
          "KontaktID": 12201898,
          "Namn": "Moa Eklund",
          "Roll": "Utlysningsansvarig",
          "Telefon": "08-473 32 89"
         },
         {
          "Epost": "lena.dalsmyr@vinnova.se",
          "KontaktID": 12201899,
          "Namn": "Lena Dalsmyr",
          "Roll": "Administrativa frågor",
          "Telefon": "08-473 31 61"
         }
        ],
        "LankLista": [],
        "Publiceringsdatum": "2016-11-16T15:30:30",
        "Publik": 1,
        "Titel": "Testbäddar inom miljöteknikområdet -  hösten 2016",
        "TitelEngelska": "x"
       },
       {
        "AnsokningsomgangDnrLista": [
         {
          "DiarienummerAnsokningsomgang": "2016-03342"
         },
         {
          "DiarienummerAnsokningsomgang": "2016-03343"
         }
        ],
        "Beskrivning": "Spjutspetsprojekt för framtidens digitaliserade industri",
        "BeskrivningEngelska": "Regeringsuppdrag - Spjutspetsprojekt för framtidens digitaliserande industri",
        "Diarienummer": "2016-03261",
        "DiarienummerProgram": "2014-01141",
        "DokumentLista": [
         {
          "Beskrivning": "MALL - CV-bilaga",
          "DokumentID": "2016-03261_5",
          "FileName": "MALL - CV-bilaga(740961).docx",
          "Titel": "MALL - CV-bilaga",
          "fileURL": "https://data.vinnova.se/api/file/2016-03261_5"
         },
         {
          "Beskrivning": "Utlysningstext Spjutspetsprojekt_rev 2016-10-12",
          "DokumentID": "2016-03261_6",
          "FileName": "Utlysningstext Spjutspetsprojekt_rev 2016-10-12(755338).pdf",
          "Titel": "Utlysningstext Spjutspetsprojekt_rev 2016-10-12",
          "fileURL": "https://data.vinnova.se/api/file/2016-03261_6"
         },
         {
          "Beskrivning": "MALL - Projektbeskrivning Fullskaligt Spjutspetsprojekt",
          "DokumentID": "2016-03261_7",
          "FileName": "MALL - Projektbeskrivning Fullskaligt Spjutspetsprojekt(755340).docx",
          "Titel": "MALL - Projektbeskrivning Fullskaligt Spjutspetsprojekt",
          "fileURL": "https://data.vinnova.se/api/file/2016-03261_7"
         }
        ],
        "KontaktLista": [
         {
          "Epost": "tommy.schonberg@vinnova.se",
          "KontaktID": 12217053,
          "Namn": "Tommy Schönberg",
          "Roll": "Utlysningsansvarig",
          "Telefon": "46 8 473 3030"
         },
         {
          "Epost": "tero.stjernstoft@vinnova.se",
          "KontaktID": 12217054,
          "Namn": "Tero Stjernstoft",
          "Roll": "Utlysningsansvarig",
          "Telefon": "46 8 473 3296"
         },
         {
          "Epost": "annika.zika-viktorsson@vinnova.se",
          "KontaktID": 12217116,
          "Namn": "Annika Zika Viktorsson",
          "Roll": "Utlysningsansvarig",
          "Telefon": "46 8 473 3059"
         },
         {
          "Epost": "marie.wikstrom@vinnova.se",
          "KontaktID": 12217140,
          "Namn": "Marie Wikström",
          "Roll": "Administrativa frågor",
          "Telefon": "46 8 473 3179"
         }
        ],
        "LankLista": [],
        "Publiceringsdatum": "2018-04-25T14:00:09",
        "Publik": 1,
        "Titel": "Spjutspetsprojekt för framtidens digitaliserade industri",
        "TitelEngelska": "Regeringsuppdrag - Spjutspetsprojekt för framtidens digitaliserande industri"
       },
       {
        "AnsokningsomgangDnrLista": [
         {
          "DiarienummerAnsokningsomgang": "2016-03424"
         },
         {
          "DiarienummerAnsokningsomgang": "2016-05333"
         }
        ],
        "Beskrivning": "Immateriella tillgångar, innovation och ekonomisk tillväxt",
        "BeskrivningEngelska": "Intangible Assets, Innovation, and Economic Growth",
        "Diarienummer": "2016-03279",
        "DiarienummerProgram": "2015-02453",
        "DokumentLista": [
         {
          "Beskrivning": "Sambandet mellan immateriella tillgångar och konkurrenskraft - företagsstrategier i digitaliseringens tid.",
          "DokumentID": "2016-03279_3",
          "FileName": "Sambandet mellan immateriella tillgångar och konkurrenskraft - företagsstrategier i digitaliseringens tid.pdf",
          "Titel": "Utlysningstext",
          "fileURL": "https://data.vinnova.se/api/file/2016-03279_3"
         }
        ],
        "KontaktLista": [
         {
          "Epost": "bjorn.skarp@vinnova.se",
          "KontaktID": 12219087,
          "Namn": "Björn Skarp",
          "Roll": "Utlysningsansvarig",
          "Telefon": "46 8 473 31 49"
         },
         {
          "Epost": "fredrik.engdahl@prv.se",
          "KontaktID": 12452823,
          "Namn": "Fredrik Engdahl",
          "Roll": "Kontaktperson PRV",
          "Telefon": "46 8 782 25 67"
         }
        ],
        "LankLista": [],
        "Publiceringsdatum": "2019-02-12T18:30:14",
        "Publik": 1,
        "Titel": "Immateriella tillgångar, innovation och ekonomisk tillväxt",
        "TitelEngelska": "Intangible Assets, Innovation, and Economic Growth"
       },
       {
        "AnsokningsomgangDnrLista": [
         {
          "DiarienummerAnsokningsomgang": "2016-03464"
         },
         {
          "DiarienummerAnsokningsomgang": "2016-04044"
         },
         {
          "DiarienummerAnsokningsomgang": "2017-02788"
         },
         {
          "DiarienummerAnsokningsomgang": "2018-04043"
         }
        ],
        "Beskrivning": "Testbäddar inom miljöteknikområdet - övrigt",
        "BeskrivningEngelska": "x",
        "Diarienummer": "2016-03463",
        "DiarienummerProgram": "2012-03291",
        "DokumentLista": [],
        "KontaktLista": [],
        "LankLista": [],
        "Publiceringsdatum": "2018-10-01T17:00:24",
        "Publik": 1,
        "Titel": "Testbäddar inom miljöteknikområdet - övrigt",
        "TitelEngelska": "x"
       },
       {
        "AnsokningsomgangDnrLista": [
         {
          "DiarienummerAnsokningsomgang": "2016-03503"
         },
         {
          "DiarienummerAnsokningsomgang": "2017-02023"
         },
         {
          "DiarienummerAnsokningsomgang": "2017-02024"
         },
         {
          "DiarienummerAnsokningsomgang": "2017-03278"
         }
        ],
        "Beskrivning": "Regeringsuppdrag Cirkulära affärsmodeller och industriell symbios",
        "BeskrivningEngelska": "Circular economy",
        "Diarienummer": "2016-03496",
        "DiarienummerProgram": "2014-01141",
        "DokumentLista": [
         {
          "Beskrivning": "Mall projektbeskr- Utveckling och innovationsprojekt",
          "DokumentID": "2016-03496_12",
          "FileName": "Mall projektbeskr- Utveckling och innovationsprojekt(790472).docx",
          "Titel": "Mall projektbeskr- Utveckling och innovationsprojekt",
          "fileURL": "https://data.vinnova.se/api/file/2016-03496_12"
         },
         {
          "Beskrivning": "Mall projektbeskr- Utredningar och tester",
          "DokumentID": "2016-03496_13",
          "FileName": "Mall projektbeskr- Utredningar och tester(790473).docx",
          "Titel": "Mall projektbeskr- Utredningar och tester",
          "fileURL": "https://data.vinnova.se/api/file/2016-03496_13"
         },
         {
          "Beskrivning": "Mall - CV rev",
          "DokumentID": "2016-03496_14",
          "FileName": "Mall - CV(790476).docx",
          "Titel": "Mall - CV",
          "fileURL": "https://data.vinnova.se/api/file/2016-03496_14"
         },
         {
          "Beskrivning": "Utlysningstext CE Utvecklings- och innovationsprojekt - rev",
          "DokumentID": "2016-03496_15",
          "FileName": "Utlysningstext CE Utvecklings- och innovationsprojekt(790488).pdf",
          "Titel": "Utlysningstext CE Utvecklings- och innovationsprojekt",
          "fileURL": "https://data.vinnova.se/api/file/2016-03496_15"
         },
         {
          "Beskrivning": "Utlysningstext CE Utredningar och enklare tester - rev",
          "DokumentID": "2016-03496_16",
          "FileName": "Utlysningstext CE Utredningar och enklare tester(790490).pdf",
          "Titel": "Utlysningstext CE Utredningar och enklare tester",
          "fileURL": "https://data.vinnova.se/api/file/2016-03496_16"
         }
        ],
        "KontaktLista": [
         {
          "Epost": "anders.holmgren@vinnova.se",
          "KontaktID": 12224716,
          "Namn": "Anders Holmgren",
          "Roll": "Utlysningsansvarig",
          "Telefon": "46 8 473 32 13"
         },
         {
          "Epost": "marie.wikstrom@vinnova.se",
          "KontaktID": 12224719,
          "Namn": "Marie Wikström",
          "Roll": "Administration",
          "Telefon": "46 8 473 31 79"
         }
        ],
        "LankLista": [],
        "Publiceringsdatum": "2018-02-12T11:00:16",
        "Publik": 1,
        "Titel": "Cirkulär ekonomi",
        "TitelEngelska": "Circular economy"
       },
       {
        "AnsokningsomgangDnrLista": [
         {
          "DiarienummerAnsokningsomgang": "2016-03515"
         }
        ],
        "Beskrivning": "Medtech4health: Klinisk verifiering av nya medicintekniska produkter",
        "BeskrivningEngelska": "Medtech4health: Clinical verification of new medtech Products\r\n\r\n",
        "Diarienummer": "2016-03507",
        "DiarienummerProgram": "2015-06135",
        "DokumentLista": [
         {
          "Beskrivning": "Utlysningstext",
          "DokumentID": "2016-03507_2",
          "FileName": "Utlysningstext Klinisk Verifiering 20160629.pdf(740924).pdf",
          "Titel": "Utlysningstext",
          "fileURL": "https://data.vinnova.se/api/file/2016-03507_2"
         },
         {
          "Beskrivning": "Projektbeskrivningsmall",
          "DokumentID": "2016-03507_4",
          "FileName": "Projektbeskrivningsmall Klinisk Verifiering 20160629.doc(740926).doc",
          "Titel": "Projektbeskrivningsmall",
          "fileURL": "https://data.vinnova.se/api/file/2016-03507_4"
         },
         {
          "Beskrivning": "CV-mall  2016-08-08",
          "DokumentID": "2016-03507_6",
          "FileName": "CV template sv - Medtech4Health 2016-08-08.doc(744003).doc",
          "Titel": "CV-mall 2016-08-08",
          "fileURL": "https://data.vinnova.se/api/file/2016-03507_6"
         }
        ],
        "KontaktLista": [
         {
          "Epost": "pontus.vonbahr@vinnova.se ",
          "KontaktID": 12226385,
          "Namn": "Pontus von Bahr",
          "Roll": "Frågor angående bedömningsprocessen samt juridiska och administrativa.",
          "Telefon": "08 - 473 30 91"
         },
         {
          "Epost": "reidar.gardeback@medtech4health.se",
          "KontaktID": 12226388,
          "Namn": "Reidar  Gårdebäck",
          "Roll": "Medtech4health",
          "Telefon": "0702 – 94 92 96"
         },
         {
          "Epost": "peter.hult@liu.se",
          "KontaktID": 12226389,
          "Namn": "Peter Hult",
          "Roll": "Kontaktperson angående utlysningens inriktning och innehåll. (ej tillgänglig under perioden 1/7 – 29/8)",
          "Telefon": "013 - 28 67 42"
         }
        ],
        "LankLista": [],
        "Publiceringsdatum": "2019-03-01T07:30:57",
        "Publik": 1,
        "Titel": "Medtech4health: Klinisk verifiering av nya medicintekniska produkter",
        "TitelEngelska": "Medtech4health: Clinical verification of new medtech Products\r\n\r\n"
       },
       {
        "AnsokningsomgangDnrLista": [
         {
          "DiarienummerAnsokningsomgang": "2016-03546"
         }
        ],
        "Beskrivning": "Internationell samverkan med aktörer i Brasilien för innovationer i samarbete med FINEP 2016",
        "BeskrivningEngelska": "x",
        "Diarienummer": "2016-03540",
        "DiarienummerProgram": "2011-00500",
        "DokumentLista": [
         {
          "Beskrivning": "Internationell samverkan med aktörer i Brasilien för innovationer i samarbete med FINEP  2016 (reviderad 2016-11-01)",
          "DokumentID": "2016-03540_8",
          "FileName": "Utlysning Internationell samverkan med aktörer i Brasilien för innovationer i samarbete med FINEP 2016-08-04 FINAL 20161101.pdf(765653).pdf",
          "Titel": "Internationell samverkan med aktörer i Brasilien för innovationer i samarbete med FINEP  2016 (reviderad 2016-11-01)",
          "fileURL": "https://data.vinnova.se/api/file/2016-03540_8"
         },
         {
          "Beskrivning": "Call for Proposals International collaboration with partners in Brazil for innovations in cooperation with FINEP 2016\r\n",
          "DokumentID": "2016-03540_9",
          "FileName": "Utlysning FINEP 2016-08-04_EN-GB.pdf(765654).pdf",
          "Titel": "Call for Proposals International collaboration with partners in Brazil for innovations in cooperation with FINEP 2016\r\n",
          "fileURL": "https://data.vinnova.se/api/file/2016-03540_9"
         }
        ],
        "KontaktLista": [
         {
          "Epost": "ciro.vasquez@vinnova.se ",
          "KontaktID": 12229364,
          "Namn": "Ciro   Vasquez",
          "Roll": "Utlysningsansvarig",
          "Telefon": "08-473 31 30"
         },
         {
          "Epost": "henrik.friden@vinnova.se ",
          "KontaktID": 12229369,
          "Namn": "Henrik Fridén ",
          "Roll": "",
          "Telefon": "08-473 31 54"
         },
         {
          "Epost": "christian.hansen@vinnova.se ",
          "KontaktID": 12229370,
          "Namn": "Christian   Hansen ",
          "Roll": "",
          "Telefon": "08-473 31 12"
         },
         {
          "Epost": "carolina.nilsson@vinnova.se ",
          "KontaktID": 12229371,
          "Namn": "Carolina  Nilsson",
          "Roll": "Administrativa frågor",
          "Telefon": "08-473 30 21"
         },
         {
          "Epost": "emeira@finep.gov.br",
          "KontaktID": 12235587,
          "Namn": "Mr. Erick Meira  De Oliveira",
          "Roll": "Departamento de Cooperação Internacional (DCIN) \nFINEP - Inovação e Pesquisa - http://www.finep.gov.br\n",
          "Telefon": " 55-21-2555-0275"
         }
        ],
        "LankLista": [],
        "Publiceringsdatum": "2018-11-13T15:00:23",
        "Publik": 1,
        "Titel": "Internationell samverkan med aktörer i Brasilien för innovationer i samarbete med FINEP 2016",
        "TitelEngelska": "x"
       },
       {
        "AnsokningsomgangDnrLista": [
         {
          "DiarienummerAnsokningsomgang": "2016-03549"
         },
         {
          "DiarienummerAnsokningsomgang": "2016-03550"
         },
         {
          "DiarienummerAnsokningsomgang": "2017-02722"
         },
         {
          "DiarienummerAnsokningsomgang": "2017-03493"
         },
         {
          "DiarienummerAnsokningsomgang": "2017-04416"
         }
        ],
        "Beskrivning": "Nyttiggörande av kunskap om innovationsledning och organisering.",
        "BeskrivningEngelska": "Nyttiggörande av kunskap om innovationsledning och organisering.",
        "Diarienummer": "2016-03545",
        "DiarienummerProgram": "2013-01243",
        "DokumentLista": [
         {
          "Beskrivning": "Nyttiggörande av kunskap om innovationsledning och organisering - utlysningstext",
          "DokumentID": "2016-03545_2",
          "FileName": "Nyttiggörande innovationsledning och organisering.pdf(742376).pdf",
          "Titel": "Nyttiggörande av kunskap om innovationsledning och organisering - utlysningstext",
          "fileURL": "https://data.vinnova.se/api/file/2016-03545_2"
         },
         {
          "Beskrivning": "CV-mall  - Nyttiggörandeutlysning ",
          "DokumentID": "2016-03545_3",
          "FileName": "CV-mall Nyttiggörandeutlysning.doc(742664).doc",
          "Titel": "CV-mall  - Nyttiggörandeutlysning ",
          "fileURL": "https://data.vinnova.se/api/file/2016-03545_3"
         },
         {
          "Beskrivning": "Mall projektbeskrivning - Projekttyp A. Kunskapsspridning",
          "DokumentID": "2016-03545_4",
          "FileName": "Mall projektbeskrivning projekttyp A.) Kunskapsspridning.docx(742665).docx",
          "Titel": "Mall projektbeskrivning - Projekttyp A. Kunskapsspridning",
          "fileURL": "https://data.vinnova.se/api/file/2016-03545_4"
         },
         {
          "Beskrivning": "Mall projektbeskrivning - Projekttyp B. Utveckling och test av insatser",
          "DokumentID": "2016-03545_5",
          "FileName": "Mall projektbeskrivning projekttyp B.) utvecklings och test av insatser.docx(742666).docx",
          "Titel": "Mall projektbeskrivning - Projekttyp B. Utveckling och test av insatser",
          "fileURL": "https://data.vinnova.se/api/file/2016-03545_5"
         }
        ],
        "KontaktLista": [
         {
          "Epost": "carl.ridder@vinnova.se",
          "KontaktID": 12230939,
          "Namn": "Carl Ridder",
          "Roll": "Utlysningsansvarig",
          "Telefon": "08-4733164"
         },
         {
          "Epost": "cassandra.marshall@vinnova.se",
          "KontaktID": 12230940,
          "Namn": "Cassandra Marshall",
          "Roll": "Programledare och handläggare",
          "Telefon": "08-4733260"
         },
         {
          "Epost": "kristina.larsen@vinnova.se",
          "KontaktID": 12230941,
          "Namn": "Kristina Larsen",
          "Roll": "Handläggare",
          "Telefon": "08-4733131"
         },
         {
          "Epost": "kerstin.frojd@vinnova.se",
          "KontaktID": 12230942,
          "Namn": "Kertin Fröjd",
          "Roll": "Koordinator",
          "Telefon": "08-4733027"
         }
        ],
        "LankLista": [],
        "Publiceringsdatum": "2018-04-24T15:30:17",
        "Publik": 1,
        "Titel": "Nyttiggörande av kunskap om innovationsledning och organisering.",
        "TitelEngelska": "Nyttiggörande av kunskap om innovationsledning och organisering."
       },
       {
        "AnsokningsomgangDnrLista": [
         {
          "DiarienummerAnsokningsomgang": "2016-03573"
         },
         {
          "DiarienummerAnsokningsomgang": "2019-01359"
         }
        ],
        "Beskrivning": "Japan - Sweden Academia-Industry International Collaboration Program on Innovative Solutions, Community Design and Services \r\nfor Elderly People Gemensam utlysning JST och Vinnova för Fas 1-projekt",
        "BeskrivningEngelska": "Japan - Sweden Academia-Industry\r\nInternational Collaboration Program on \r\nInnovative Solutions, Community Design and Services \r\nfor Elderly People\r\nJoint call JST and Vinnova for Phase 1 Projects ",
        "Diarienummer": "2016-03568",
        "DiarienummerProgram": "2011-00500",
        "DokumentLista": [
         {
          "Beskrivning": "APPLICATION FORMS - Japan - Sweden Academia-Industry International Collaboration Program on Innovative Solutions, Community Design and Services for Elderly People",
          "DokumentID": "2016-03568_2",
          "FileName": "APPLICATION FORMS - Japan - Sweden Academia-Industry International Collaboration Program on Innovative Solutions, Community Design and Services for Elderly People(742975).doc",
          "Titel": "APPLICATION FORMS - Japan - Sweden Academia-Industry International Collaboration Program on Innovative Solutions, Community Design and Services for Elderly People",
          "fileURL": "https://data.vinnova.se/api/file/2016-03568_2"
         },
         {
          "Beskrivning": "CALL TEXT AND ANNEX - Japan - Sweden Academia-Industry International Collaboration Program on Innovative Solutions, Community Design and Services for Elderly People",
          "DokumentID": "2016-03568_3",
          "FileName": "CALL TEXT AND ANNEX - Japan - Sweden Academia-Industry International Collaboration Program on Innovative Solutions, Community Design and Services for Elderly People(742974).pdf",
          "Titel": "CALL TEXT AND ANNEX - Japan - Sweden Academia-Industry International Collaboration Program on Innovative Solutions, Community Design and Services for Elderly People",
          "fileURL": "https://data.vinnova.se/api/file/2016-03568_3"
         }
        ],
        "KontaktLista": [
         {
          "Epost": "henrik.friden@vinnova.se",
          "KontaktID": 12231578,
          "Namn": "Henrik Fridén ",
          "Roll": "Utlysningsansvarig, Internationella avd.  ",
          "Telefon": "46 8 473 31 54"
         },
         {
          "Epost": "marten.berg@vinnova.se ",
          "KontaktID": 12231579,
          "Namn": "Mårten Berg",
          "Roll": "Handläggare, Avd. Hälsa ",
          "Telefon": "46 8 473 31 97 "
         },
         {
          "Epost": "carolina.nilsson@vinnova.se",
          "KontaktID": 12231580,
          "Namn": "Carolina Nilsson ",
          "Roll": "Administrativa frågor ",
          "Telefon": "46 8 473 30 21 "
         }
        ],
        "LankLista": [],
        "Publiceringsdatum": "2019-02-27T10:00:14",
        "Publik": 1,
        "Titel": "Japan - Sweden Academia-Industry International Collaboration Program on Innovative Solutions, Community Design and Services for Elderly People",
        "TitelEngelska": "Japan - Sweden Academia-Industry International Collaboration Program on Innovative Solutions, Community Design and Services for Elderly People\r\n"
       },
       {
        "AnsokningsomgangDnrLista": [
         {
          "DiarienummerAnsokningsomgang": "2016-03674"
         },
         {
          "DiarienummerAnsokningsomgang": "2017-01593"
         },
         {
          "DiarienummerAnsokningsomgang": "2018-02865"
         }
        ],
        "Beskrivning": "Intern hantering av innovationscheckar 2016-2017",
        "BeskrivningEngelska": "Intern hantering av innovationscheckar 2016-2017",
        "Diarienummer": "2016-03672",
        "DiarienummerProgram": "2009-02173",
        "DokumentLista": [],
        "KontaktLista": [],
        "LankLista": [],
        "Publiceringsdatum": "2018-06-27T13:30:25",
        "Publik": 0,
        "Titel": "Intern hantering av innovationscheckar 2016-2017",
        "TitelEngelska": "Intern hantering av innovationscheckar 2016-2017"
       },
       {
        "AnsokningsomgangDnrLista": [
         {
          "DiarienummerAnsokningsomgang": "2016-04613"
         },
         {
          "DiarienummerAnsokningsomgang": "2017-03517"
         }
        ],
        "Beskrivning": "Innovate Passion",
        "BeskrivningEngelska": "Innovate Passion",
        "Diarienummer": "2016-04157",
        "DiarienummerProgram": "2016-01914",
        "DokumentLista": [
         {
          "Beskrivning": "Innovate Passion - utlysningstext",
          "DokumentID": "2016-04157_2",
          "FileName": "Innovate Passion20161012.pdf(755318).pdf",
          "Titel": "Innovate Passion - utlysningstext",
          "fileURL": "https://data.vinnova.se/api/file/2016-04157_2"
         },
         {
          "Beskrivning": "Innovate Passion -projektbeskrivningsmall",
          "DokumentID": "2016-04157_3",
          "FileName": "Mall ansökan innovate passion 20160920.docx(755231).docx",
          "Titel": "Innovate Passion -projektbeskrivningsmall",
          "fileURL": "https://data.vinnova.se/api/file/2016-04157_3"
         }
        ],
        "KontaktLista": [
         {
          "Epost": "jan.sandred@vinnova.se ",
          "KontaktID": 12254928,
          "Namn": "Jan Sandred",
          "Roll": "Utlysningsansvarig",
          "Telefon": "46 8 473 32 16"
         },
         {
          "Epost": "ebba.lindegren@vinnova.se ",
          "KontaktID": 12254947,
          "Namn": "Ebba Lindegren",
          "Roll": "",
          "Telefon": "46 8 473 32 46 "
         },
         {
          "Epost": "sophia.ivarsson@vinnova.se",
          "KontaktID": 12254951,
          "Namn": "Sophia Ivarsson",
          "Roll": "",
          "Telefon": "46 8 473 31 60 "
         }
        ],
        "LankLista": [],
        "Publiceringsdatum": "2018-05-15T07:30:25",
        "Publik": 1,
        "Titel": "Innovate Passion",
        "TitelEngelska": "Innovate Passion"
       },
       {
        "AnsokningsomgangDnrLista": [
         {
          "DiarienummerAnsokningsomgang": "2016-04478"
         }
        ],
        "Beskrivning": "FFI Elvägar - 2016",
        "BeskrivningEngelska": "x",
        "Diarienummer": "2016-04476",
        "DiarienummerProgram": "2009-02186",
        "DokumentLista": [],
        "KontaktLista": [],
        "LankLista": [],
        "Publiceringsdatum": "2019-03-08T08:30:03",
        "Publik": 1,
        "Titel": "FFI Elvägar - 2016",
        "TitelEngelska": "x"
       },
       {
        "AnsokningsomgangDnrLista": [
         {
          "DiarienummerAnsokningsomgang": "2016-04687"
         },
         {
          "DiarienummerAnsokningsomgang": "2018-02738"
         }
        ],
        "Beskrivning": "Innovationshubbar Hälsa",
        "BeskrivningEngelska": "x",
        "Diarienummer": "2016-04673",
        "DiarienummerProgram": "2016-03566",
        "DokumentLista": [],
        "KontaktLista": [],
        "LankLista": [],
        "Publiceringsdatum": "2018-08-02T13:00:03",
        "Publik": 1,
        "Titel": "Innovationshubbar Hälsa",
        "TitelEngelska": "x"
       },
       {
        "AnsokningsomgangDnrLista": [
         {
          "DiarienummerAnsokningsomgang": "2016-04743"
         },
         {
          "DiarienummerAnsokningsomgang": "2016-05186"
         },
         {
          "DiarienummerAnsokningsomgang": "2016-05188"
         },
         {
          "DiarienummerAnsokningsomgang": "2017-05022"
         },
         {
          "DiarienummerAnsokningsomgang": "2017-05084"
         },
         {
          "DiarienummerAnsokningsomgang": "2017-05295"
         },
         {
          "DiarienummerAnsokningsomgang": "2017-05373"
         },
         {
          "DiarienummerAnsokningsomgang": "2018-00117"
         },
         {
          "DiarienummerAnsokningsomgang": "2018-00154"
         },
         {
          "DiarienummerAnsokningsomgang": "2018-02366"
         },
         {
          "DiarienummerAnsokningsomgang": "2018-02629"
         },
         {
          "DiarienummerAnsokningsomgang": "2018-03056"
         },
         {
          "DiarienummerAnsokningsomgang": "2018-04887"
         },
         {
          "DiarienummerAnsokningsomgang": "2019-00859"
         },
         {
          "DiarienummerAnsokningsomgang": "2019-01105"
         },
         {
          "DiarienummerAnsokningsomgang": "2019-01291"
         }
        ],
        "Beskrivning": "Innovativa Startups",
        "BeskrivningEngelska": "Startups with ideas that challenge existing structures and systems for better business and a better future, can apply for early-stage funding.",
        "Diarienummer": "2016-04714",
        "DiarienummerProgram": "2016-04663",
        "DokumentLista": [
         {
          "Beskrivning": "Utlysningstext - Innovativa startups rev 2016-12-06",
          "DokumentID": "2016-04714_4",
          "FileName": "Utlysningstext - Innovativa startups rev 2016-12-06(769085).pdf",
          "Titel": "Utlysningstext - Innovativa startups rev 2016-12-06",
          "fileURL": "https://data.vinnova.se/api/file/2016-04714_4"
         }
        ],
        "KontaktLista": [
         {
          "Epost": "startups@vinnova.se",
          "KontaktID": 12287426,
          "Namn": "Team Startups ",
          "Roll": "",
          "Telefon": "46 8 473 32 50"
         }
        ],
        "LankLista": [],
        "Publiceringsdatum": "2019-01-30T10:00:26",
        "Publik": 1,
        "Titel": "Innovativa Startups",
        "TitelEngelska": "Innovative startups"
       },
       {
        "AnsokningsomgangDnrLista": [
         {
          "DiarienummerAnsokningsomgang": "2016-04753"
         },
         {
          "DiarienummerAnsokningsomgang": "2018-04458"
         }
        ],
        "Beskrivning": "Centrum biologiska läkemedel",
        "BeskrivningEngelska": "Center for biologics",
        "Diarienummer": "2016-04751",
        "DiarienummerProgram": "2016-02206",
        "DokumentLista": [
         {
          "Beskrivning": "Letter of intent",
          "DokumentID": "2016-04751_11",
          "FileName": "Mall-Avsiktsförklaring Biologics.docx(761703).docx",
          "Titel": "Letter of intent",
          "fileURL": "https://data.vinnova.se/api/file/2016-04751_11"
         },
         {
          "Beskrivning": "Utlysningstext- Centrum för Utveckling och Produktion av Biologiska Läkemedel 2017",
          "DokumentID": "2016-04751_16",
          "FileName": "jan 2017 Utlysningstext SE baserad på  Centre for Biologics_eng C Ver 11.pdf(773759).pdf",
          "Titel": "Utlysningstext- Centrum för Utveckling och Produktion av Biologiska Läkemedel 2017",
          "fileURL": "https://data.vinnova.se/api/file/2016-04751_16"
         },
         {
          "Beskrivning": "Call for proposal- Centre for Development and Production of Biologics",
          "DokumentID": "2016-04751_17",
          "FileName": "Jan 2017 Utlysningstext Centre for Biologics_eng L.pdf(773760).pdf",
          "Titel": "Call for proposal- Centre for Development and Production of Biologics 2017",
          "fileURL": "https://data.vinnova.se/api/file/2016-04751_17"
         },
         {
          "Beskrivning": "Budget template 2017-03-21",
          "DokumentID": "2016-04751_18",
          "FileName": "Budgetmall Biologics.xlsx 20170321.xlsx(790018).xlsx",
          "Titel": "Budget template 2017-03-21",
          "fileURL": "https://data.vinnova.se/api/file/2016-04751_18"
         },
         {
          "Beskrivning": "Centre description",
          "DokumentID": "2016-04751_8",
          "FileName": "Mall projektbeskrivning Biologics.docx(761705).docx",
          "Titel": "Centre description",
          "fileURL": "https://data.vinnova.se/api/file/2016-04751_8"
         },
         {
          "Beskrivning": "CV template",
          "DokumentID": "2016-04751_9",
          "FileName": "TemplateCV_Biologics.docx(761704).docx",
          "Titel": "CV template",
          "fileURL": "https://data.vinnova.se/api/file/2016-04751_9"
         }
        ],
        "KontaktLista": [
         {
          "Epost": "mats.jarekrans@vinnova.se",
          "KontaktID": 12290560,
          "Namn": "Mats  Jarekrans",
          "Roll": "Utlysningsansvarig",
          "Telefon": "  4684733185"
         },
         {
          "Epost": "margareta.danielsson@vinnova.se",
          "KontaktID": 12290562,
          "Namn": "Margareta Danielsson",
          "Roll": "Handläggare",
          "Telefon": " 4684733152"
         },
         {
          "Epost": "johanna.ulfvarson@vinnova.se",
          "KontaktID": 12290563,
          "Namn": "Johanna  Ulfvarson",
          "Roll": "Programledare",
          "Telefon": "  4684733218"
         },
         {
          "Epost": "karin.tegerstedt@vr.se",
          "KontaktID": 12290564,
          "Namn": "Karin Tegerstedt",
          "Roll": "Kontaktperson Vetenskapsrådet",
          "Telefon": " 46854644000"
         },
         {
          "Epost": "karin.sundbeck@vinnova.se",
          "KontaktID": 12290566,
          "Namn": "Karin Sundbeck",
          "Roll": "Administrativa frågor",
          "Telefon": " 4684733226"
         }
        ],
        "LankLista": [],
        "Publiceringsdatum": "2018-10-18T17:00:28",
        "Publik": 1,
        "Titel": "Centrum biologiska läkemedel",
        "TitelEngelska": "Center for biologics"
       },
       {
        "AnsokningsomgangDnrLista": [
         {
          "DiarienummerAnsokningsomgang": "2016-04815"
         },
         {
          "DiarienummerAnsokningsomgang": "2016-05057"
         },
         {
          "DiarienummerAnsokningsomgang": "2016-05201"
         },
         {
          "DiarienummerAnsokningsomgang": "2016-05275"
         }
        ],
        "Beskrivning": "Verklighetslabb",
        "BeskrivningEngelska": "x",
        "Diarienummer": "2016-04792",
        "DiarienummerProgram": "2009-02225",
        "DokumentLista": [
         {
          "Beskrivning": "Verklighetslabb inom offentlig verksamhet – våren 2017 - projektbeskrivningsmall ",
          "DokumentID": "2016-04792_11",
          "FileName": "Verklighetslabb i offentlig verksamhet_mall för projektbeskrivnin_170213.docx(781464).docx",
          "Titel": "Verklighetslabb inom offentlig verksamhet – våren 2017 - projektbeskrivningsmall ",
          "fileURL": "https://data.vinnova.se/api/file/2016-04792_11"
         },
         {
          "Beskrivning": "Verklighetslabb utlysningstext -reviderad version 2017-02-28",
          "DokumentID": "2016-04792_12",
          "FileName": "Utlysningstext Verklighetslabb i offentlig verksamhet 20170224.pdf(784514).pdf",
          "Titel": "Verklighetslabb utlysningstext -reviderad version 2017-02-28",
          "fileURL": "https://data.vinnova.se/api/file/2016-04792_12"
         },
         {
          "Beskrivning": "CV- verklighetslabb",
          "DokumentID": "2016-04792_14",
          "FileName": "Mall CV verklighetslabb 2017.doc(785404).doc",
          "Titel": "CV- verklighetslabb",
          "fileURL": "https://data.vinnova.se/api/file/2016-04792_14"
         }
        ],
        "KontaktLista": [
         {
          "Epost": "tobias.ohman@vinnova.se",
          "KontaktID": 12327020,
          "Namn": "Tobias Öhman",
          "Roll": "Utlysningsansvarig",
          "Telefon": "08-473 32 17"
         },
         {
          "Epost": "filip.kjellgren@vinnova.se",
          "KontaktID": 12327021,
          "Namn": "Filip Kjellgren",
          "Roll": "Handläggare",
          "Telefon": "08-473 32 36"
         },
         {
          "Epost": "maria.johansson@vinnova.se",
          "KontaktID": 12327022,
          "Namn": "Maria Johansson",
          "Roll": "Handläggare",
          "Telefon": "08-473 31 70"
         },
         {
          "Epost": "anna.bjurstrom@vinnova.se",
          "KontaktID": 12380919,
          "Namn": "Anna Bjurström",
          "Roll": "Handläggare",
          "Telefon": "08-473 3089"
         }
        ],
        "LankLista": [],
        "Publiceringsdatum": "2017-05-30T17:00:04",
        "Publik": 1,
        "Titel": "Verklighetslabb",
        "TitelEngelska": "x"
       },
       {
        "AnsokningsomgangDnrLista": [
         {
          "DiarienummerAnsokningsomgang": "2016-04830"
         }
        ],
        "Beskrivning": "Testbäddsprojekt",
        "BeskrivningEngelska": "x",
        "Diarienummer": "2016-04829",
        "DiarienummerProgram": "2015-07014",
        "DokumentLista": [],
        "KontaktLista": [],
        "LankLista": [],
        "Publiceringsdatum": "2018-12-03T09:00:15",
        "Publik": 1,
        "Titel": "Testbäddsprojekt",
        "TitelEngelska": "x"
       },
       {
        "AnsokningsomgangDnrLista": [
         {
          "DiarienummerAnsokningsomgang": "2016-04843"
         },
         {
          "DiarienummerAnsokningsomgang": "2018-03970"
         },
         {
          "DiarienummerAnsokningsomgang": "2019-00010"
         }
        ],
        "Beskrivning": "IP-checkar för förbättrat offentligt stöd för hantering av immateriella tillgångar",
        "BeskrivningEngelska": "x",
        "Diarienummer": "2016-04842",
        "DiarienummerProgram": "2009-02173",
        "DokumentLista": [],
        "KontaktLista": [
         {
          "Epost": "lena.nyberg@vinnova.se",
          "KontaktID": 12290173,
          "Namn": "Lena Nyberg",
          "Roll": "Utlysningsansvarig",
          "Telefon": " 468- 473 3113"
         },
         {
          "Epost": "anne-lofquist@vinnova.se",
          "KontaktID": 12290180,
          "Namn": "Anne Löfquist",
          "Roll": "Handläggare",
          "Telefon": " 468-473 3125"
         }
        ],
        "LankLista": [],
        "Publiceringsdatum": "2019-03-28T14:30:26",
        "Publik": 1,
        "Titel": "IP-checkar för förbättrat offentligt stöd för hantering av immateriella tillgångar",
        "TitelEngelska": "x"
       },
       {
        "AnsokningsomgangDnrLista": [
         {
          "DiarienummerAnsokningsomgang": "2016-04848"
         }
        ],
        "Beskrivning": "Verklighetslabb och samverkan",
        "BeskrivningEngelska": "x",
        "Diarienummer": "2016-04847",
        "DiarienummerProgram": "2003-00420",
        "DokumentLista": [],
        "KontaktLista": [],
        "LankLista": [],
        "Publiceringsdatum": "2017-02-24T13:30:07",
        "Publik": 1,
        "Titel": "Verklighetslabb och samverkan",
        "TitelEngelska": "x"
       },
       {
        "AnsokningsomgangDnrLista": [
         {
          "DiarienummerAnsokningsomgang": "2016-04872"
         },
         {
          "DiarienummerAnsokningsomgang": "2016-05524"
         },
         {
          "DiarienummerAnsokningsomgang": "2017-01518"
         },
         {
          "DiarienummerAnsokningsomgang": "2018-01781"
         },
         {
          "DiarienummerAnsokningsomgang": "2018-03286"
         },
         {
          "DiarienummerAnsokningsomgang": "2019-01590"
         }
        ],
        "Beskrivning": "Social innovation - utveckla och testa",
        "BeskrivningEngelska": "Social innovation - development and testing",
        "Diarienummer": "2016-04866",
        "DiarienummerProgram": "2014-06313",
        "DokumentLista": [
         {
          "Beskrivning": "Frågor och svar Social Innovation, utveckla och testa",
          "DokumentID": "2016-04866_3",
          "FileName": "Frågor och svar ocial Innovation.pdf(763948) (0)_TMP.pdf(765731).pdf",
          "Titel": "Frågor och svar Social Innovation, utveckla och testa",
          "fileURL": "https://data.vinnova.se/api/file/2016-04866_3"
         },
         {
          "Beskrivning": "Uppdaterad utlysningstext social innovation utveckla och testa",
          "DokumentID": "2016-04866_5",
          "FileName": "Utlysningstext Social innovation våren 2017_slutgiltig.pdf(770794).pdf",
          "Titel": "Uppdaterad utlysningstext social innovation utveckla och testa",
          "fileURL": "https://data.vinnova.se/api/file/2016-04866_5"
         }
        ],
        "KontaktLista": [],
        "LankLista": [],
        "Publiceringsdatum": "2019-03-06T11:30:16",
        "Publik": 1,
        "Titel": "Social innovation - utveckla och testa",
        "TitelEngelska": "Social innovation - development and testing"
       },
       {
        "AnsokningsomgangDnrLista": [
         {
          "DiarienummerAnsokningsomgang": "2016-04874"
         },
         {
          "DiarienummerAnsokningsomgang": "2017-05036"
         },
         {
          "DiarienummerAnsokningsomgang": "2017-05062"
         },
         {
          "DiarienummerAnsokningsomgang": "2017-05564"
         },
         {
          "DiarienummerAnsokningsomgang": "2018-03842"
         }
        ],
        "Beskrivning": "Social innovation - långsiktigt hållbara lösningar",
        "BeskrivningEngelska": "Social innovation - Sustainable solutions",
        "Diarienummer": "2016-04873",
        "DiarienummerProgram": "2014-06313",
        "DokumentLista": [
         {
          "Beskrivning": "Utlysningstext, uppdaterad 170313",
          "DokumentID": "2016-04873_4",
          "FileName": "Utlysningstext Social innovation Följdfinansiering våren 2017_2016-04873 (002).pdf(789301).pdf",
          "Titel": "Utlysningstext, uppdaterad 170313",
          "fileURL": "https://data.vinnova.se/api/file/2016-04873_4"
         }
        ],
        "KontaktLista": [
         {
          "Epost": "socialinnovation@vinnova.se",
          "KontaktID": 12315933,
          "Namn": "Har ni några frågor e-posta oss",
          "Roll": "",
          "Telefon": "08-4733204"
         }
        ],
        "LankLista": [],
        "Publiceringsdatum": "2018-09-19T17:30:28",
        "Publik": 1,
        "Titel": "Social innovation - långsiktigt hållbara lösningar",
        "TitelEngelska": "Social innovation - Sustainable solutions"
       },
       {
        "AnsokningsomgangDnrLista": [
         {
          "DiarienummerAnsokningsomgang": "2016-04959"
         },
         {
          "DiarienummerAnsokningsomgang": "2016-05136"
         },
         {
          "DiarienummerAnsokningsomgang": "2017-01700"
         },
         {
          "DiarienummerAnsokningsomgang": "2018-00692"
         },
         {
          "DiarienummerAnsokningsomgang": "2019-02156"
         }
        ],
        "Beskrivning": "Samverkan SVP transport",
        "BeskrivningEngelska": "x",
        "Diarienummer": "2016-04957",
        "DiarienummerProgram": "2003-00420",
        "DokumentLista": [],
        "KontaktLista": [],
        "LankLista": [],
        "Publiceringsdatum": "2019-03-22T08:30:16",
        "Publik": 1,
        "Titel": "Samverkan SVP transport",
        "TitelEngelska": "x"
       },
       {
        "AnsokningsomgangDnrLista": [
         {
          "DiarienummerAnsokningsomgang": "2016-04996"
         },
         {
          "DiarienummerAnsokningsomgang": "2017-01491"
         },
         {
          "DiarienummerAnsokningsomgang": "2017-01549"
         },
         {
          "DiarienummerAnsokningsomgang": "2017-04432"
         }
        ],
        "Beskrivning": "Utlysningen görs i samverkan mellan Swelife och MedTech4Health, två nationella Vinnovafinansierade strategiska innovationsprogram inom life science. Genom Swelife samverkar vården, akademin och näringslivet, avsikten med Medtech4Health är att ta till vara och stärka Sveriges goda förutsättningar att förbli världsledande inom medicinteknik. Det gemensamma syftet är att främja förnyelse och innovation för en mer värdeskapande hälso- och sjukvård.",
        "BeskrivningEngelska": "SWElife and Medtech4Health- Improve health",
        "Diarienummer": "2016-04980",
        "DiarienummerProgram": "2014-04013",
        "DokumentLista": [
         {
          "Beskrivning": "Project description template",
          "DokumentID": "2016-04980_3",
          "FileName": "1c. Project Description_Swelife_MT4H_utl 2016-17 hälsa_Final.docx(763241).docx",
          "Titel": "Project description template",
          "fileURL": "https://data.vinnova.se/api/file/2016-04980_3"
         },
         {
          "Beskrivning": "Project summary template",
          "DokumentID": "2016-04980_4",
          "FileName": "1e. Project summary_Swelife_MT4H_final.docx(763242).docx",
          "Titel": "Project summary template",
          "fileURL": "https://data.vinnova.se/api/file/2016-04980_4"
         },
         {
          "Beskrivning": "Utlysningstext",
          "DokumentID": "2016-04980_5",
          "FileName": "1a  Utlysningsbeskrivning (sv)_Swelife_MT4H_utl 2016-17 hälsa_Final.pdf(763243).pdf",
          "Titel": "Utlysningstext SWElife och Medtech4health- Improve Health",
          "fileURL": "https://data.vinnova.se/api/file/2016-04980_5"
         },
         {
          "Beskrivning": "Call for proposals SWElife and Medtech4health- Improve Health",
          "DokumentID": "2016-04980_6",
          "FileName": "1b. Utlysningsbeskrivning (eng)_Swelife_MT4H_utl 2016-17 hälsa_Final.pdf(763246).pdf",
          "Titel": "Call for proposals SWElife and Medtech4health- Improve Health",
          "fileURL": "https://data.vinnova.se/api/file/2016-04980_6"
         },
         {
          "Beskrivning": "Övriga kontaktpersoner, SWElife och Medtech4health ",
          "DokumentID": "2016-04980_7",
          "FileName": "Kontaktpersoner.pdf(763264).pdf",
          "Titel": "Övriga kontaktpersoner, SWElife och Medtech4health ",
          "fileURL": "https://data.vinnova.se/api/file/2016-04980_7"
         },
         {
          "Beskrivning": "Projektbeskrivningsmall",
          "DokumentID": "2016-04980_8",
          "FileName": "1f. Projektbeskrivning (sv)_Swelife_MT4H_utl 2016-17 hälsa_final.docx(768744).docx",
          "Titel": "Projektbeskrivningsmall",
          "fileURL": "https://data.vinnova.se/api/file/2016-04980_8"
         },
         {
          "Beskrivning": "CV template 2017-01-09",
          "DokumentID": "2016-04980_9",
          "FileName": "1d UPPDATERAD CV_Swelife_MT4H_final_uppd20170109.docx(773125).docx",
          "Titel": "CV template 2017-01-09",
          "fileURL": "https://data.vinnova.se/api/file/2016-04980_9"
         }
        ],
        "KontaktLista": [
         {
          "Epost": "pontus.vonbahr@vinnova.se",
          "KontaktID": 12298739,
          "Namn": "Pontus  von Bahr",
          "Roll": "Frågor angående bedömningsprocessen samt juridiska och administrativa frågor",
          "Telefon": " 46-8 473 30 91"
         },
         {
          "Epost": "reidar.gardeback@medtech4health.se",
          "KontaktID": 12298742,
          "Namn": "Reidar Gårdebäck",
          "Roll": "Medtech4health",
          "Telefon": " 46 73 756 24 49"
         },
         {
          "Epost": "jonas.tranell@vinnova.se",
          "KontaktID": 12554473,
          "Namn": "Jonas Tranell",
          "Roll": "Utlysningsansvarig, Vinnova",
          "Telefon": "46-8 473 30 73"
         },
         {
          "Epost": "asa.wallin@swelife.se",
          "KontaktID": 12691483,
          "Namn": "Åsa Wallin",
          "Roll": "Utlysningsansvarig, Swelife",
          "Telefon": "46-700 85 05 10"
         }
        ],
        "LankLista": [],
        "Publiceringsdatum": "2018-05-31T09:00:28",
        "Publik": 1,
        "Titel": "Swelife och Medtech4Health- Projekt för bättre hälsa",
        "TitelEngelska": "Swelife and Medtech4Health- Project proposals to improve health"
       },
       {
        "AnsokningsomgangDnrLista": [
         {
          "DiarienummerAnsokningsomgang": "2016-05062"
         }
        ],
        "Beskrivning": "Strategiska projekt innovationsledning och organisering",
        "BeskrivningEngelska": "x",
        "Diarienummer": "2016-05048",
        "DiarienummerProgram": "2013-01243",
        "DokumentLista": [],
        "KontaktLista": [],
        "LankLista": [],
        "Publiceringsdatum": "2018-11-29T13:30:17",
        "Publik": 1,
        "Titel": "Strategiska projekt innovationsledning och organisering",
        "TitelEngelska": "x"
       },
       {
        "AnsokningsomgangDnrLista": [
         {
          "DiarienummerAnsokningsomgang": "2016-05128"
         },
         {
          "DiarienummerAnsokningsomgang": "2017-02025"
         }
        ],
        "Beskrivning": "Strategiska projekt 2016-2018",
        "BeskrivningEngelska": "xx",
        "Diarienummer": "2016-05119",
        "DiarienummerProgram": "2013-01779",
        "DokumentLista": [],
        "KontaktLista": [],
        "LankLista": [],
        "Publiceringsdatum": "2018-10-24T11:30:45",
        "Publik": 1,
        "Titel": "Strategiska projekt 2016-2018",
        "TitelEngelska": "xx"
       },
       {
        "AnsokningsomgangDnrLista": [
         {
          "DiarienummerAnsokningsomgang": "2016-05300"
         },
         {
          "DiarienummerAnsokningsomgang": "2017-02821"
         },
         {
          "DiarienummerAnsokningsomgang": "2017-03034"
         },
         {
          "DiarienummerAnsokningsomgang": "2017-03400"
         }
        ],
        "Beskrivning": "Öppen innovation i industrin. Vinnova har i uppdrag att genomföra en satsning på öppen innovation inom området digitalisering av svensk industri. \r\nMålet är att stärka innovations- och utvecklingssamarbetet mellan större industriföretag och små innovativa företag i digitaliseringens framkant. \r\nSyftet är att svensk industri bättre ska ta tillvara de möjligheter som digitaliseringen innebär.\r\n",
        "BeskrivningEngelska": "Open innovation in the Industry",
        "Diarienummer": "2016-05146",
        "DiarienummerProgram": "2012-00741",
        "DokumentLista": [
         {
          "Beskrivning": "Utlysningstext Öppen Innovation i Industrin ",
          "DokumentID": "2016-05146_4",
          "FileName": "Utlysningstext Öppen innovation i Industrin - reviderad.pdf(781966) (0)_TMP.pdf(782431).pdf",
          "Titel": "Utlysningstext Öppen Innovation i Industrin ",
          "fileURL": "https://data.vinnova.se/api/file/2016-05146_4"
         }
        ],
        "KontaktLista": [
         {
          "Epost": "ulf.ohlander@vinnova.se",
          "KontaktID": 12307756,
          "Namn": "Ulf Öhlander",
          "Roll": "Utlysningsansvarig",
          "Telefon": "084733008"
         },
         {
          "Epost": "tony.friede@vinnova.se",
          "KontaktID": 12307761,
          "Namn": "Tony Friede",
          "Roll": "Utlysningsansvarig",
          "Telefon": "084733238 "
         },
         {
          "Epost": "goran.persson@vinnova.se",
          "KontaktID": 12366446,
          "Namn": "Göran Persson",
          "Roll": "Administratör",
          "Telefon": "084733132"
         }
        ],
        "LankLista": [],
        "Publiceringsdatum": "2017-07-06T15:00:02",
        "Publik": 1,
        "Titel": "Öppen innovation i industrin",
        "TitelEngelska": "Open innovation in the Industry"
       },
       {
        "AnsokningsomgangDnrLista": [
         {
          "DiarienummerAnsokningsomgang": "2016-05295"
         },
         {
          "DiarienummerAnsokningsomgang": "2018-04740"
         }
        ],
        "Beskrivning": "Finansiering av svenskt deltagande i grafen-projekt initierade genom Flagship ERA-NET (FLAG ERA) Joint Transnational Call 2017 (dvs inom FLAG ERA II) samt Joint Transnational Call 2019)(dvs inom FLAG ERA III)",
        "BeskrivningEngelska": " FLAG ERA joint transnational call 2017",
        "Diarienummer": "2016-05200",
        "DiarienummerProgram": "2014-01140",
        "DokumentLista": [],
        "KontaktLista": [],
        "LankLista": [],
        "Publiceringsdatum": "2018-09-19T16:00:23",
        "Publik": 1,
        "Titel": "Finansiering av deltagande i grafen-projekt initierade genom Flagship ERA-NET JTC2017 och JTC2019",
        "TitelEngelska": " FLAG ERA joint transnational call 2017"
       },
       {
        "AnsokningsomgangDnrLista": [
         {
          "DiarienummerAnsokningsomgang": "2016-05268"
         }
        ],
        "Beskrivning": "Koordineringsmedel 2017-2019 SIP PiiA",
        "BeskrivningEngelska": "x",
        "Diarienummer": "2016-05250",
        "DiarienummerProgram": "2014-00599",
        "DokumentLista": [],
        "KontaktLista": [],
        "LankLista": [],
        "Publiceringsdatum": "2017-11-15T11:30:08",
        "Publik": 1,
        "Titel": "Koordineringsmedel 2017-2019 SIP PiiA",
        "TitelEngelska": "x"
       },
       {
        "AnsokningsomgangDnrLista": [
         {
          "DiarienummerAnsokningsomgang": "2016-05276"
         }
        ],
        "Beskrivning": "Resebidrag",
        "BeskrivningEngelska": "Travel grant",
        "Diarienummer": "2016-05261",
        "DiarienummerProgram": "2013-02062",
        "DokumentLista": [
         {
          "Beskrivning": "Utlysning Internationellt resebidrag",
          "DokumentID": "2016-05261_3",
          "FileName": "Utlysningstext Internationellt resebidrag(777912).pdf",
          "Titel": "Utlysning Internationellt resebidrag",
          "fileURL": "https://data.vinnova.se/api/file/2016-05261_3"
         }
        ],
        "KontaktLista": [
         {
          "Epost": "karin.aase@vinnova.se",
          "KontaktID": 12352721,
          "Namn": "Karin Aase",
          "Roll": "Frågor kring resebidrg Horisont 2020",
          "Telefon": "46 8 473 31 17"
         },
         {
          "Epost": "elisabet.nielsen@vinnova.se",
          "KontaktID": 12352722,
          "Namn": "Elisabet Nielsen",
          "Roll": "Frågor kring resebidrag EUREKA",
          "Telefon": "46 8 473 31 07"
         },
         {
          "Epost": "katarina.duca@vinnova.se",
          "KontaktID": 12352723,
          "Namn": "Katarina Duca",
          "Roll": "Administrativa frågor",
          "Telefon": "46 8 473 32 08"
         }
        ],
        "LankLista": [],
        "Publiceringsdatum": "2018-11-01T07:30:52",
        "Publik": 1,
        "Titel": "Internationellt resebidrag för små och medelstora företag",
        "TitelEngelska": "Travel grant"
       },
       {
        "AnsokningsomgangDnrLista": [
         {
          "DiarienummerAnsokningsomgang": "2016-05286"
         },
         {
          "DiarienummerAnsokningsomgang": "2016-05287"
         }
        ],
        "Beskrivning": "Testbäddar inom miljöteknikområdet – 2017",
        "BeskrivningEngelska": "x",
        "Diarienummer": "2016-05284",
        "DiarienummerProgram": "2012-03291",
        "DokumentLista": [
         {
          "Beskrivning": "Testbäddar inom miljöteknikområdet – våren 2017 - bilder från info-möte 2017-02-01",
          "DokumentID": "2016-05284_11",
          "FileName": "Testbäddar inom miljöteknikområdet - våren 2017_bilder infomöte 170201.pdf(781770).pdf",
          "Titel": "Testbäddar inom miljöteknikområdet – våren 2017 - bilder från info-möte 2017-02-01",
          "fileURL": "https://data.vinnova.se/api/file/2016-05284_11"
         },
         {
          "Beskrivning": "Testbäddar inom miljöteknikområdet - våren 2017 - utlysningstext (reviderad 2017-02-14)",
          "DokumentID": "2016-05284_12",
          "FileName": "170214_Testbäddar inom miljöteknikområdet - våren 2017_utlysningstext_reviderad 170214x.pdf(781878).pdf",
          "Titel": "Testbäddar inom miljöteknikområdet - våren 2017 - utlysningstext (reviderad 2017-02-14)",
          "fileURL": "https://data.vinnova.se/api/file/2016-05284_12"
         },
         {
          "Beskrivning": "Testbäddar inom miljöteknikområdet – våren 2017 - Guide för testbäddsutveckling (reviderad 2017-02-14)",
          "DokumentID": "2016-05284_13",
          "FileName": "170214_Testbäddar inom miljöteknikområdet - våren 2017_guide för testbäddsutveckling_reviderad 170214x.pdf(781879).pdf",
          "Titel": "Testbäddar inom miljöteknikområdet – våren 2017 - Guide för testbäddsutveckling (reviderad 2017-02-14)",
          "fileURL": "https://data.vinnova.se/api/file/2016-05284_13"
         },
         {
          "Beskrivning": "Testbäddar inom miljöteknikområdet – våren 2017 - Mall för projektbeskrivning planeringsbidrag\r\n",
          "DokumentID": "2016-05284_3",
          "FileName": "170124_Testbäddar inom miljöteknikområdet - våren 2017_mall för projektbeskrivning planeringsbidrag.docx(777750).docx",
          "Titel": "Testbäddar inom miljöteknikområdet – våren 2017 - Mall för projektbeskrivning planeringsbidrag\r\n\r\n\r\nAnsökan om planeringsbidrag\r\n\r\nMall för projektbeskrivning\r\n",
          "fileURL": "https://data.vinnova.se/api/file/2016-05284_3"
         },
         {
          "Beskrivning": "Testbäddar inom miljöteknikområdet – våren 2017 - Mall för projektbeskrivning fullskaliga projekt",
          "DokumentID": "2016-05284_5",
          "FileName": "170124_Testbäddar inom miljöteknikområdet - våren 2017_mall för projektbeskrivning fullskaliga projekt.docx(777756).docx",
          "Titel": "Testbäddar inom miljöteknikområdet – våren 2017 - Mall för projektbeskrivning fullskaliga projekt",
          "fileURL": "https://data.vinnova.se/api/file/2016-05284_5"
         },
         {
          "Beskrivning": "Testbäddar inom miljöteknikområdet – våren 2017 - Mall för CV-bilaga",
          "DokumentID": "2016-05284_6",
          "FileName": "170124_Testbäddar inom miljöteknikområdet - våren 2017_mall för CV-bilaga.docx(777758).docx",
          "Titel": "Testbäddar inom miljöteknikområdet – våren 2017 - Mall för CV-bilaga",
          "fileURL": "https://data.vinnova.se/api/file/2016-05284_6"
         },
         {
          "Beskrivning": "Intyg om försumbart stöd",
          "DokumentID": "2016-05284_8",
          "FileName": "Intyg om försumbart stöd.docx(777764).docx",
          "Titel": "Intyg om försumbart stöd",
          "fileURL": "https://data.vinnova.se/api/file/2016-05284_8"
         }
        ],
        "KontaktLista": [
         {
          "Epost": "moa.eklund@vinnova.se",
          "KontaktID": 12316332,
          "Namn": "Moa Eklund",
          "Roll": "Utlysningsansvarig",
          "Telefon": "08-473 32 89"
         },
         {
          "Epost": "klas.barklöf@vinnova.se",
          "KontaktID": 12316333,
          "Namn": "Klas Barklöf",
          "Roll": "",
          "Telefon": "08 473 30 04"
         },
         {
          "Epost": "johan.stenberg@vinnova.se",
          "KontaktID": 12316334,
          "Namn": "Johan Stenberg",
          "Roll": "",
          "Telefon": "08 473 32 23"
         },
         {
          "Epost": "lena.dalsmyr@vinnova.se",
          "KontaktID": 12316335,
          "Namn": "Lena  Dalsmyr",
          "Roll": "Administrativa frågor",
          "Telefon": "08 473 31 61"
         }
        ],
        "LankLista": [],
        "Publiceringsdatum": "2017-06-30T14:00:03",
        "Publik": 1,
        "Titel": "Testbäddar inom miljöteknikområdet – 2017",
        "TitelEngelska": "x"
       },
       {
        "AnsokningsomgangDnrLista": [
         {
          "DiarienummerAnsokningsomgang": "2016-05288"
         },
         {
          "DiarienummerAnsokningsomgang": "2018-00018"
         }
        ],
        "Beskrivning": "Innovationstävlingar miljöteknik i testbäddar 2017 ",
        "BeskrivningEngelska": "x",
        "Diarienummer": "2016-05285",
        "DiarienummerProgram": "2012-03291",
        "DokumentLista": [
         {
          "Beskrivning": "Innovationstävlingar miljöteknik i testbäddar 2017 - Planering\r\n(Mall för projektbeskrivning)\r\n",
          "DokumentID": "2016-05285_4",
          "FileName": "Mall för projektbeskrivning - Innovationstävlingar miljöteknik i testbäddar 2017 – Planering.docx(798224).docx",
          "Titel": "Innovationstävlingar miljöteknik i testbäddar 2017 - Planering\r\n(Mall för projektbeskrivning)\r\n",
          "fileURL": "https://data.vinnova.se/api/file/2016-05285_4"
         },
         {
          "Beskrivning": "Innovationstävlingar miljöteknik i testbäddar 2017 – Planering\r\n(Mall för CV-bilaga) \r\n",
          "DokumentID": "2016-05285_5",
          "FileName": "Mall för CV-bilaga - Innovationstävlingar miljöteknik i testbäddar 2017 – Planering.docx(798225).docx",
          "Titel": "Innovationstävlingar miljöteknik i testbäddar 2017 – Planering\r\n(Mall för CV-bilaga) \r\n",
          "fileURL": "https://data.vinnova.se/api/file/2016-05285_5"
         },
         {
          "Beskrivning": "Intyg om försumbart stöd ",
          "DokumentID": "2016-05285_6",
          "FileName": "Intyg om försumbart stöd.docx(798227).docx",
          "Titel": "Intyg om försumbart stöd ",
          "fileURL": "https://data.vinnova.se/api/file/2016-05285_6"
         },
         {
          "Beskrivning": "Nesta innovationstävlingar - guide",
          "DokumentID": "2016-05285_7",
          "FileName": "Nesta - Innovationstävlingar - en guide.pdf(798228).pdf",
          "Titel": "Nesta innovationstävlingar - guide",
          "fileURL": "https://data.vinnova.se/api/file/2016-05285_7"
         },
         {
          "Beskrivning": "Innovationstävlingar milöteknik i  testbäddar 2017 - planering (Utlysningstext)Innovationstävlingar milöteknik i  testbäddar 2017 - planering (Utlysningstext)",
          "DokumentID": "2016-05285_8",
          "FileName": "Utlysningstext - Innovationstävlingar miljöteknik i testbäddar 2017 - Planering.pdf(798251).pdf",
          "Titel": "Innovationstävlingar milöteknik i  testbäddar 2017 - planering (Utlysningstext)Innovationstävlingar milöteknik i  testbäddar 2017 - planering (Utlysningstext)",
          "fileURL": "https://data.vinnova.se/api/file/2016-05285_8"
         },
         {
          "Beskrivning": "Innovationstävlingar miljöteknik i testbäddar 2017 - genomförande (Utlysningstext steg 2)",
          "DokumentID": "2016-05285_9",
          "FileName": "Utlysningstext steg 2 - Innovationstävlingar miljöteknik i testbäddar 2017 - Genomförande.pdf(798252).pdf",
          "Titel": "Innovationstävlingar miljöteknik i testbäddar 2017 - genomförande (Utlysningstext steg 2)",
          "fileURL": "https://data.vinnova.se/api/file/2016-05285_9"
         }
        ],
        "KontaktLista": [
         {
          "Epost": "moa.eklund@vinnova.se",
          "KontaktID": 12316344,
          "Namn": "Moa Eklund",
          "Roll": "Utlysningsansvarig",
          "Telefon": "08 473 32 89"
         },
         {
          "Epost": "lena.dalsmyr@vinnova.se",
          "KontaktID": 12316353,
          "Namn": "Lena Dalsmyr",
          "Roll": "Administrativa frågor",
          "Telefon": "08 473 31 61"
         },
         {
          "Epost": "erik.boralv@vinnova.se ",
          "KontaktID": 12428867,
          "Namn": "Erik Borälv",
          "Roll": "Specifika frågor om innovationstävlingar",
          "Telefon": "08-473 32 22"
         },
         {
          "Epost": "alexander.alvsilver@vinnova.se ",
          "KontaktID": 12428880,
          "Namn": "Alexander Alvsilver",
          "Roll": "Specifika frågor om innovationstävlingar",
          "Telefon": "08-473 30 55"
         }
        ],
        "LankLista": [],
        "Publiceringsdatum": "2018-01-08T11:30:09",
        "Publik": 1,
        "Titel": "Innovationstävlingar miljöteknik i testbäddar 2017 ",
        "TitelEngelska": "x"
       },
       {
        "AnsokningsomgangDnrLista": [
         {
          "DiarienummerAnsokningsomgang": "2016-05350"
         }
        ],
        "Beskrivning": "VINNVÄXT 2019",
        "BeskrivningEngelska": "x",
        "Diarienummer": "2016-05305",
        "DiarienummerProgram": "2002-00568",
        "DokumentLista": [],
        "KontaktLista": [
         {
          "Epost": "lars-gunnar.larsson@vinnova.se",
          "KontaktID": 12320840,
          "Namn": "Lars-Gunnar Larsson",
          "Roll": "",
          "Telefon": "08-473 3137"
         },
         {
          "Epost": "moa.eklund@vinnova.se",
          "KontaktID": 12320845,
          "Namn": "Moa Eklund",
          "Roll": "",
          "Telefon": "08-473 3289"
         },
         {
          "Epost": "goran.andersson@vinnova.se",
          "KontaktID": 12320850,
          "Namn": "Göran Andersson",
          "Roll": "",
          "Telefon": "08-473 3083"
         },
         {
          "Epost": "andrea.rasberg@vinnova.se",
          "KontaktID": 12484838,
          "Namn": "Andrea Råsberg",
          "Roll": "Utlysningsansvarig",
          "Telefon": "08-473 31 59"
         },
         {
          "Epost": "bianca.dochtorowicz@vinnova.se ",
          "KontaktID": 12507627,
          "Namn": "Bianca Dochtorowicz",
          "Roll": "",
          "Telefon": "08-473 30 94 "
         }
        ],
        "LankLista": [],
        "Publiceringsdatum": "2017-09-21T16:30:05",
        "Publik": 1,
        "Titel": "VINNVÄXT 2019",
        "TitelEngelska": "x"
       },
       {
        "AnsokningsomgangDnrLista": [
         {
          "DiarienummerAnsokningsomgang": "2016-05311"
         }
        ],
        "Beskrivning": "Innovationstävlingar miljöteknik i testbäddar 2016 - steg 2 genomförande",
        "BeskrivningEngelska": "x",
        "Diarienummer": "2016-05310",
        "DiarienummerProgram": "2012-03291",
        "DokumentLista": [],
        "KontaktLista": [],
        "LankLista": [],
        "Publiceringsdatum": "2018-06-29T07:30:24",
        "Publik": 1,
        "Titel": "Innovationstävlingar miljöteknik i testbäddar 2016 - steg 2 genomförande",
        "TitelEngelska": "x"
       },
       {
        "AnsokningsomgangDnrLista": [
         {
          "DiarienummerAnsokningsomgang": "2016-05320"
         },
         {
          "DiarienummerAnsokningsomgang": "2016-05322"
         },
         {
          "DiarienummerAnsokningsomgang": "2018-02681"
         }
        ],
        "Beskrivning": "Utlysning inom ramen för regeringsuppdrag 2016-02697 som syftar till att främja digitaliseringen av svensk industri. Målet med utlysningen är att initiera pilotprojekt och att göra följdinvesteringar för ökat nyttiggörande.",
        "BeskrivningEngelska": "Digitalisering av svensk industri.",
        "Diarienummer": "2016-05318",
        "DiarienummerProgram": "2014-01141",
        "DokumentLista": [],
        "KontaktLista": [],
        "LankLista": [],
        "Publiceringsdatum": "2018-06-13T09:30:28",
        "Publik": 1,
        "Titel": "Digitalisering av svensk industri - pilotprojekt och följdinvesteringar",
        "TitelEngelska": "Digitalisering av svensk industri - pilotprojekt och följdinvesteringar"
       },
       {
        "AnsokningsomgangDnrLista": [
         {
          "DiarienummerAnsokningsomgang": "2016-05346"
         },
         {
          "DiarienummerAnsokningsomgang": "2017-02950"
         }
        ],
        "Beskrivning": "Innovationsledning - Nyttiggörande",
        "BeskrivningEngelska": "  ",
        "Diarienummer": "2016-05330",
        "DiarienummerProgram": "2013-01243",
        "DokumentLista": [],
        "KontaktLista": [
         {
          "Epost": "cassandra.marshall@vinnova.se",
          "KontaktID": 12321034,
          "Namn": "Cassandra Marshall",
          "Roll": "Programledare",
          "Telefon": "08-473 32 60"
         },
         {
          "Epost": "kristina.larsen@vinnova.se",
          "KontaktID": 12321043,
          "Namn": "Kristina Larsen",
          "Roll": "Handläggare",
          "Telefon": "08-473 31 31"
         },
         {
          "Epost": "carl.ridder@vinnova.se",
          "KontaktID": 12321044,
          "Namn": "Carl Ridder",
          "Roll": "Handläggare",
          "Telefon": "08-473 31 64"
         },
         {
          "Epost": "kerstin.frojd@vinnova.se",
          "KontaktID": 12321045,
          "Namn": "Kerstin Fröjd",
          "Roll": "Koordinator",
          "Telefon": "08-473 30 27"
         }
        ],
        "LankLista": [],
        "Publiceringsdatum": "2018-04-24T16:00:06",
        "Publik": 1,
        "Titel": "Innovationsledning - Nyttiggörande",
        "TitelEngelska": " "
       },
       {
        "AnsokningsomgangDnrLista": [
         {
          "DiarienummerAnsokningsomgang": "2016-05345"
         },
         {
          "DiarienummerAnsokningsomgang": "2016-05356"
         }
        ],
        "Beskrivning": "Innovationsledning - Kunskapsutveckling",
        "BeskrivningEngelska": "  ",
        "Diarienummer": "2016-05332",
        "DiarienummerProgram": "2013-01243",
        "DokumentLista": [
         {
          "Beskrivning": "Projektbeskrivningsmall",
          "DokumentID": "2016-05332_3",
          "FileName": "Projektmall Leda och organisera för ökad innovationsförmåga.docx(785250).docx",
          "Titel": "Projektbeskrivningsmall",
          "fileURL": "https://data.vinnova.se/api/file/2016-05332_3"
         },
         {
          "Beskrivning": "CV mall",
          "DokumentID": "2016-05332_4",
          "FileName": "CV-mall Leda och organisera för ökad innovationsförmåga.doc(785251).doc",
          "Titel": "CV mall",
          "fileURL": "https://data.vinnova.se/api/file/2016-05332_4"
         },
         {
          "Beskrivning": "Leda och organisera för ökad innovationsförmåga - utlysningstext",
          "DokumentID": "2016-05332_7",
          "FileName": "Utlysningtext Leda och organisera170321 (003) (003).pdf(790198).pdf",
          "Titel": "Leda och organisera för ökad innovationsförmåga - utlysningstext",
          "fileURL": "https://data.vinnova.se/api/file/2016-05332_7"
         }
        ],
        "KontaktLista": [
         {
          "Epost": "cassandra.marshall@vinnova.se",
          "KontaktID": 12321073,
          "Namn": "Cassandra Marshall",
          "Roll": "Programledare och handläggare",
          "Telefon": "08-473 32 60"
         },
         {
          "Epost": "carl.ridder@vinnova.se",
          "KontaktID": 12321074,
          "Namn": "Carl Ridder",
          "Roll": "Handläggare",
          "Telefon": "08-473 31 64"
         },
         {
          "Epost": "kristina.larsen@vinnova.se",
          "KontaktID": 12321087,
          "Namn": "Kristina Larsen",
          "Roll": "Utlysningsansvarig och handläggare",
          "Telefon": "08-4733131"
         },
         {
          "Epost": "kerstin.frojd@vinnova.se",
          "KontaktID": 12321089,
          "Namn": "Kerstin Fröjd",
          "Roll": "Koordinator",
          "Telefon": "08-4733027"
         }
        ],
        "LankLista": [],
        "Publiceringsdatum": "2018-04-24T16:00:12",
        "Publik": 1,
        "Titel": "Innovationsledning - Kunskapsutveckling",
        "TitelEngelska": " "
       },
       {
        "AnsokningsomgangDnrLista": [
         {
          "DiarienummerAnsokningsomgang": "2016-05342"
         },
         {
          "DiarienummerAnsokningsomgang": "2018-02352"
         }
        ],
        "Beskrivning": "Medtech4Health- Medicintekniska samverkansprojekt",
        "BeskrivningEngelska": "Medtech4Health- Collaboration Projects in Medical technology",
        "Diarienummer": "2016-05340",
        "DiarienummerProgram": "2015-06135",
        "DokumentLista": [],
        "KontaktLista": [
         {
          "Epost": "Cecilia.Persson@Medtech4Health.se",
          "KontaktID": 12694642,
          "Namn": "Cecilia Persson",
          "Roll": "Kontaktperson angående utlysningens inriktning oc innehåll",
          "Telefon": "018-471 79 11"
         },
         {
          "Epost": "Pontus.vonbahr@vinnova.se",
          "KontaktID": 12694643,
          "Namn": "Pontus von Bahr",
          "Roll": "Kontaktperson angående bedömningsprocess samt juridiska och administrativa frågor",
          "Telefon": "08-473 3091"
         },
         {
          "Epost": "Frida.Lindberg@Medtech4Health.se",
          "KontaktID": 12694644,
          "Namn": "Frida Lindberg",
          "Roll": "Kontaktperson angående utlysningens inriktning oc innehåll",
          "Telefon": "07-790 96 13"
         }
        ],
        "LankLista": [],
        "Publiceringsdatum": "2018-06-04T17:00:32",
        "Publik": 1,
        "Titel": "Medtech4Health- Medicintekniska samverkansprojekt",
        "TitelEngelska": "Medtech4Health- Collaboration Projects in Medical technology"
       },
       {
        "AnsokningsomgangDnrLista": [
         {
          "DiarienummerAnsokningsomgang": "2017-02449"
         },
         {
          "DiarienummerAnsokningsomgang": "2017-04956"
         }
        ],
        "Beskrivning": "Möjlighet att ansöka om stöd till projekt som tydligt bidrar till att stärka den materialbaserade konkurrenskraften och ökar tillväxtmöjligheterna för aktörer i Sverige som utvecklar, producerar, levererar eller använder material.",
        "BeskrivningEngelska": "Materials based competitiveness 2017",
        "Diarienummer": "2016-05348",
        "DiarienummerProgram": "2013-02373",
        "DokumentLista": [
         {
          "Beskrivning": "Mall Projektbeskrivning Materialbaserad konkurrenskraft våren 2017 - överbryggningsprojekt",
          "DokumentID": "2016-05348_3",
          "FileName": "Mall Projektbeskrivning Materialbaserad konkurrenskraft våren 2017 - överbryggningsprojekt(793606).doc",
          "Titel": "Mall Projektbeskrivning Materialbaserad konkurrenskraft våren 2017 - överbryggningsprojekt",
          "fileURL": "https://data.vinnova.se/api/file/2016-05348_3"
         },
         {
          "Beskrivning": "Mall Etappbeskrivning Materialbaserad konkurrenskraft våren 2017",
          "DokumentID": "2016-05348_4",
          "FileName": "Mall Etappbeskrivning Materialbaserad konkurrenskraft våren 2017(793607).doc",
          "Titel": "Mall Etappbeskrivning Materialbaserad konkurrenskraft våren 2017",
          "fileURL": "https://data.vinnova.se/api/file/2016-05348_4"
         },
         {
          "Beskrivning": "Mall Avsiktsförklaring Materialbaserad konkurrenskraft våren 2017",
          "DokumentID": "2016-05348_5",
          "FileName": "Mall Avsiktsförklaring Materialbaserad konkurrenskraft våren 2017(793608).doc",
          "Titel": "Mall Avsiktsförklaring Materialbaserad konkurrenskraft våren 2017",
          "fileURL": "https://data.vinnova.se/api/file/2016-05348_5"
         },
         {
          "Beskrivning": "Utlysningstext Materialbaserad konkurrenskraft våren 2017",
          "DokumentID": "2016-05348_7",
          "FileName": "Utlysningstext Materialbaserad konkurrenskraft våren 2017(793796).pdf",
          "Titel": "Utlysningstext Materialbaserad konkurrenskraft våren 2017",
          "fileURL": "https://data.vinnova.se/api/file/2016-05348_7"
         }
        ],
        "KontaktLista": [
         {
          "Epost": "anders.maren@vinnova.se",
          "KontaktID": 12321301,
          "Namn": "Anders Marén",
          "Roll": "Utlysningsansvarig",
          "Telefon": "46 8 473 31 88"
         },
         {
          "Epost": "maria.ohman@vinnova.se",
          "KontaktID": 12412309,
          "Namn": "Maria Öhman",
          "Roll": "Utlysningsmedlem",
          "Telefon": "46 8 473 31 89"
         }
        ],
        "LankLista": [],
        "Publiceringsdatum": "2017-04-11T12:30:08",
        "Publik": 1,
        "Titel": "Materialbaserad konkurrenskraft 2017",
        "TitelEngelska": "Materials based competitiveness 2017"
       },
       {
        "AnsokningsomgangDnrLista": [
         {
          "DiarienummerAnsokningsomgang": "2016-05502"
         },
         {
          "DiarienummerAnsokningsomgang": "2017-01619"
         },
         {
          "DiarienummerAnsokningsomgang": "2017-03249"
         }
        ],
        "Beskrivning": "E! nätverksprojekt",
        "BeskrivningEngelska": "EUREKA network projects",
        "Diarienummer": "2016-05494",
        "DiarienummerProgram": "2016-00056",
        "DokumentLista": [],
        "KontaktLista": [],
        "LankLista": [],
        "Publiceringsdatum": "2019-03-08T13:00:15",
        "Publik": 1,
        "Titel": "E! nätverksprojekt",
        "TitelEngelska": "EUREKA network projects"
       },
       {
        "AnsokningsomgangDnrLista": [
         {
          "DiarienummerAnsokningsomgang": "2016-05542"
         },
         {
          "DiarienummerAnsokningsomgang": "2018-00060"
         },
         {
          "DiarienummerAnsokningsomgang": "2018-00151"
         },
         {
          "DiarienummerAnsokningsomgang": "2018-02546"
         }
        ],
        "Beskrivning": "Social innovation - tema",
        "BeskrivningEngelska": "Social innovation - Challenge-driven innovation",
        "Diarienummer": "2016-05525",
        "DiarienummerProgram": "2014-06313",
        "DokumentLista": [],
        "KontaktLista": [],
        "LankLista": [],
        "Publiceringsdatum": "2018-09-19T16:30:40",
        "Publik": 1,
        "Titel": "Social innovation - tema",
        "TitelEngelska": "Social innovation - Challenge-driven innovation"
       },
       {
        "AnsokningsomgangDnrLista": [
         {
          "DiarienummerAnsokningsomgang": "2017-00082"
         }
        ],
        "Beskrivning": "Resebidrag 2017 utlysning",
        "BeskrivningEngelska": "Travel grants 2017",
        "Diarienummer": "2017-00066",
        "DiarienummerProgram": "2011-00500",
        "DokumentLista": [],
        "KontaktLista": [],
        "LankLista": [],
        "Publiceringsdatum": "2018-10-03T15:00:30",
        "Publik": 0,
        "Titel": "Resebidrag 2017 utlysning",
        "TitelEngelska": "Travel grants 2017"
       },
       {
        "AnsokningsomgangDnrLista": [
         {
          "DiarienummerAnsokningsomgang": "2017-01497"
         },
         {
          "DiarienummerAnsokningsomgang": "2018-00038"
         },
         {
          "DiarienummerAnsokningsomgang": "2018-05347"
         }
        ],
        "Beskrivning": "Runner up SME instrument",
        "BeskrivningEngelska": "Runner up SME instrument",
        "Diarienummer": "2017-01029",
        "DiarienummerProgram": "2013-02062",
        "DokumentLista": [],
        "KontaktLista": [],
        "LankLista": [],
        "Publiceringsdatum": "2019-04-01T10:00:17",
        "Publik": 1,
        "Titel": "Runner up SME instrument",
        "TitelEngelska": "Runner up SME instrument"
       },
       {
        "AnsokningsomgangDnrLista": [
         {
          "DiarienummerAnsokningsomgang": "2017-01537"
         }
        ],
        "Beskrivning": "ERA-NET Cofund Smart Urban Futures ",
        "BeskrivningEngelska": "ERA-NET Cofund Smart Urban Futures ",
        "Diarienummer": "2017-01514",
        "DiarienummerProgram": "2009-02218",
        "DokumentLista": [],
        "KontaktLista": [],
        "LankLista": [],
        "Publiceringsdatum": "2018-05-08T14:00:09",
        "Publik": 1,
        "Titel": "ERA-NET Cofund Smart Urban Futures ",
        "TitelEngelska": "ERA-NET Cofund Smart Urban Futures "
       },
       {
        "AnsokningsomgangDnrLista": [
         {
          "DiarienummerAnsokningsomgang": "2017-01604"
         },
         {
          "DiarienummerAnsokningsomgang": "2017-03282"
         },
         {
          "DiarienummerAnsokningsomgang": "2017-05568"
         },
         {
          "DiarienummerAnsokningsomgang": "2019-00074"
         },
         {
          "DiarienummerAnsokningsomgang": "2019-00752"
         }
        ],
        "Beskrivning": "Innovationer för framtidens hälsa 2017 till 2019- särskilda insatser",
        "BeskrivningEngelska": "x",
        "Diarienummer": "2017-01599",
        "DiarienummerProgram": "2009-02187",
        "DokumentLista": [],
        "KontaktLista": [],
        "LankLista": [],
        "Publiceringsdatum": "2018-12-13T16:30:11",
        "Publik": 1,
        "Titel": "Innovationer för framtidens hälsa 2017 till 2019 - särskilda insatser",
        "TitelEngelska": "x"
       },
       {
        "AnsokningsomgangDnrLista": [
         {
          "DiarienummerAnsokningsomgang": "2017-02012"
         },
         {
          "DiarienummerAnsokningsomgang": "2017-03344"
         },
         {
          "DiarienummerAnsokningsomgang": "2018-00591"
         },
         {
          "DiarienummerAnsokningsomgang": "2018-02071"
         }
        ],
        "Beskrivning": "Machine Learning - FFI",
        "BeskrivningEngelska": "Machine Learning - FFI",
        "Diarienummer": "2017-01639",
        "DiarienummerProgram": "2009-02186",
        "DokumentLista": [
         {
          "Beskrivning": "Machine Learning - Strategisk satsning inom fordonsindustrin (FFI) - utlysningstext",
          "DokumentID": "2017-01639_2",
          "FileName": "Strategisk satsning projekt beskrivning  Machine Learning.pdf(788873).pdf",
          "Titel": "Machine Learning - Strategisk satsning inom fordonsindustrin (FFI) - utlysningstext",
          "fileURL": "https://data.vinnova.se/api/file/2017-01639_2"
         }
        ],
        "KontaktLista": [
         {
          "Epost": "lena.dalsmyr@vinnova.se",
          "KontaktID": 12369400,
          "Namn": "Lena Dalsmyr",
          "Roll": "Administrativa frågor",
          "Telefon": "08-473 31 61"
         },
         {
          "Epost": "eric.wallgren@vinnova.se ",
          "KontaktID": 12460695,
          "Namn": "Eric Wallgren",
          "Roll": "Utlysningsansvarig",
          "Telefon": "08-473 30 96"
         }
        ],
        "LankLista": [],
        "Publiceringsdatum": "2018-12-11T12:30:15",
        "Publik": 1,
        "Titel": "Machine Learning - FFI",
        "TitelEngelska": "Machine Learning - FFI"
       },
       {
        "AnsokningsomgangDnrLista": [
         {
          "DiarienummerAnsokningsomgang": "2017-02037"
         },
         {
          "DiarienummerAnsokningsomgang": "2017-03482"
         },
         {
          "DiarienummerAnsokningsomgang": "2018-00693"
         },
         {
          "DiarienummerAnsokningsomgang": "2018-03919"
         },
         {
          "DiarienummerAnsokningsomgang": "2018-03920"
         },
         {
          "DiarienummerAnsokningsomgang": "2018-04045"
         }
        ],
        "Beskrivning": "Kommunikation utlysningar 2017 - 2020",
        "BeskrivningEngelska": "xx",
        "Diarienummer": "2017-01935",
        "DiarienummerProgram": "2009-02154",
        "DokumentLista": [],
        "KontaktLista": [],
        "LankLista": [],
        "Publiceringsdatum": "2018-11-23T09:30:31",
        "Publik": 1,
        "Titel": "Kommunikation utlysningar 2017 - 2020",
        "TitelEngelska": "xx"
       },
       {
        "AnsokningsomgangDnrLista": [
         {
          "DiarienummerAnsokningsomgang": "2017-02015"
         },
         {
          "DiarienummerAnsokningsomgang": "2017-02471"
         }
        ],
        "Beskrivning": "Satsningar 2017 som bidrar till prioriteringar inom regeringens strategiska samverkansprogram",
        "BeskrivningEngelska": "xx",
        "Diarienummer": "2017-02014",
        "DiarienummerProgram": "2017-02011",
        "DokumentLista": [],
        "KontaktLista": [],
        "LankLista": [],
        "Publiceringsdatum": "2017-04-10T15:00:23",
        "Publik": 1,
        "Titel": "Satsningar 2017 som bidrar till prioriteringar inom regeringens strategiska samverkansprogram",
        "TitelEngelska": "xx"
       },
       {
        "AnsokningsomgangDnrLista": [
         {
          "DiarienummerAnsokningsomgang": "2017-02186"
         },
         {
          "DiarienummerAnsokningsomgang": "2017-04658"
         },
         {
          "DiarienummerAnsokningsomgang": "2017-04660"
         },
         {
          "DiarienummerAnsokningsomgang": "2017-05023"
         }
        ],
        "Beskrivning": "Industrial Liaison Office ILO, Big Science Sweden. Utlysning för konsortium (ej publik). ",
        "BeskrivningEngelska": "Industry Liaison Office ILO",
        "Diarienummer": "2017-02019",
        "DiarienummerProgram": "2011-00500",
        "DokumentLista": [],
        "KontaktLista": [],
        "LankLista": [],
        "Publiceringsdatum": "2017-11-20T22:00:02",
        "Publik": 0,
        "Titel": "Big Science Sweden - Industrial Liaison Office ILO",
        "TitelEngelska": "Industry Liaison Office ILO"
       },
       {
        "AnsokningsomgangDnrLista": [
         {
          "DiarienummerAnsokningsomgang": "2017-02179"
         }
        ],
        "Beskrivning": "Koordineringsmedel SIP Smart Built Environment",
        "BeskrivningEngelska": "Koordination for SIP Smart Built Environment",
        "Diarienummer": "2017-02028",
        "DiarienummerProgram": "2016-03527",
        "DokumentLista": [],
        "KontaktLista": [],
        "LankLista": [],
        "Publiceringsdatum": "2018-05-04T07:30:06",
        "Publik": 0,
        "Titel": "Koordineringsmedel SIP Smart Built Environment",
        "TitelEngelska": "Koordination for SIP Smart Built Environment"
       },
       {
        "AnsokningsomgangDnrLista": [
         {
          "DiarienummerAnsokningsomgang": "2017-02257"
         },
         {
          "DiarienummerAnsokningsomgang": "2017-05627"
         },
         {
          "DiarienummerAnsokningsomgang": "2018-04881"
         }
        ],
        "Beskrivning": "VINNVÄXT Strategiska projekt",
        "BeskrivningEngelska": "x",
        "Diarienummer": "2017-02247",
        "DiarienummerProgram": "2002-00568",
        "DokumentLista": [],
        "KontaktLista": [],
        "LankLista": [],
        "Publiceringsdatum": "2018-12-05T15:30:17",
        "Publik": 1,
        "Titel": "VINNVÄXT Strategiska projekt",
        "TitelEngelska": "x"
       },
       {
        "AnsokningsomgangDnrLista": [
         {
          "DiarienummerAnsokningsomgang": "2017-02398"
         }
        ],
        "Beskrivning": "Riktar sig till inkubatorer som tidigare har fått finansiering inom Inkubationsstöd. Vi finansierar utvecklingsprojekt som stärker och utvecklar det svenska inkubatorsystemet. Här listar vi ansökningstillfällen inom satsningen.",
        "BeskrivningEngelska": "Intended for incubators that have previously received funding under Incubation support. We fund development projects which improve and develop the Swedish incubator system. Here is a list of application dates within the venture.",
        "Diarienummer": "2017-02396",
        "DiarienummerProgram": "2014-06043",
        "DokumentLista": [
         {
          "Beskrivning": "Mall projektbeskrivning Utvecklingsprojekt i Inkubatorer",
          "DokumentID": "2017-02396_3",
          "FileName": "Mall utvecklingsprojekt i inkubatorer 3 april.docx(793037).docx",
          "Titel": "Mall projektbeskrivning Utvecklingsprojekt i Inkubatorer",
          "fileURL": "https://data.vinnova.se/api/file/2017-02396_3"
         },
         {
          "Beskrivning": "Reviderad utlysningstext Utvecklingsprojekt i inkubatorer",
          "DokumentID": "2017-02396_4",
          "FileName": "utlysningstext-standigt-oppet-utvecklingsprojekt-i-inkubatorer-11 sept.pdf(815884).pdf",
          "Titel": "Reviderad utlysningstext Utvecklingsprojekt i inkubatorer",
          "fileURL": "https://data.vinnova.se/api/file/2017-02396_4"
         }
        ],
        "KontaktLista": [
         {
          "Epost": "carl.naumburg@vinnova.se",
          "KontaktID": 12415142,
          "Namn": "Carl Naumburg",
          "Roll": "Utlysningsansvarig",
          "Telefon": "084733172"
         },
         {
          "Epost": "goran.persson@vinnova.se",
          "KontaktID": 12415143,
          "Namn": "Göran  Persson",
          "Roll": "Administrativa frågor",
          "Telefon": "084733132"
         }
        ],
        "LankLista": [],
        "Publiceringsdatum": "2018-12-19T15:00:16",
        "Publik": 1,
        "Titel": "Inkubationsstöd - Utvecklingsprojekt",
        "TitelEngelska": "Incubation support - Development project "
       },
       {
        "AnsokningsomgangDnrLista": [
         {
          "DiarienummerAnsokningsomgang": "2017-02416"
         },
         {
          "DiarienummerAnsokningsomgang": "2018-04489"
         },
         {
          "DiarienummerAnsokningsomgang": "2019-02206"
         }
        ],
        "Beskrivning": "Samverkan",
        "BeskrivningEngelska": "x",
        "Diarienummer": "2017-02414",
        "DiarienummerProgram": "2003-00420",
        "DokumentLista": [],
        "KontaktLista": [],
        "LankLista": [],
        "Publiceringsdatum": "2019-04-01T13:00:25",
        "Publik": 1,
        "Titel": "Samverkan",
        "TitelEngelska": "x"
       },
       {
        "AnsokningsomgangDnrLista": [
         {
          "DiarienummerAnsokningsomgang": "2017-02647"
         }
        ],
        "Beskrivning": "Innovationer för ett hållbart samhälle: miljö och transport 2017 - del 2",
        "BeskrivningEngelska": "x",
        "Diarienummer": "2017-02644",
        "DiarienummerProgram": "2013-00117",
        "DokumentLista": [],
        "KontaktLista": [],
        "LankLista": [],
        "Publiceringsdatum": "2017-04-25T17:00:03",
        "Publik": 1,
        "Titel": "Innovationer för ett hållbart samhälle: miljö och transport 2017 - del 2",
        "TitelEngelska": "x"
       },
       {
        "AnsokningsomgangDnrLista": [
         {
          "DiarienummerAnsokningsomgang": "2017-02724"
         },
         {
          "DiarienummerAnsokningsomgang": "2017-03981"
         },
         {
          "DiarienummerAnsokningsomgang": "2017-05206"
         }
        ],
        "Beskrivning": "Innovatörer 2017 - 2018",
        "BeskrivningEngelska": "x",
        "Diarienummer": "2017-02645",
        "DiarienummerProgram": "2017-02438",
        "DokumentLista": [
         {
          "Beskrivning": "Innovatörer 2017 - utlysningstext",
          "DokumentID": "2017-02645_2",
          "FileName": "Utlysningstext_Stöd till innovatörer_170503 final.pdf(797277).pdf",
          "Titel": "Innovatörer 2017 - utlysningstext",
          "fileURL": "https://data.vinnova.se/api/file/2017-02645_2"
         },
         {
          "Beskrivning": "Projektbeskrivning",
          "DokumentID": "2017-02645_3",
          "FileName": "Projektbeskrivning innovatörer 170505.docx(797278).docx",
          "Titel": "Projektbeskrivning",
          "fileURL": "https://data.vinnova.se/api/file/2017-02645_3"
         }
        ],
        "KontaktLista": [
         {
          "Epost": "anna.tegnesjo@vinnova.se",
          "KontaktID": 12425817,
          "Namn": "Anna Tegnesjö",
          "Roll": "Programansvarig",
          "Telefon": "4684733162"
         },
         {
          "Epost": "carl.naumburg@vinnova.se",
          "KontaktID": 12425818,
          "Namn": "Carl Naumburg",
          "Roll": "",
          "Telefon": "4684733172"
         },
         {
          "Epost": "jan.sandred@vinnova.se",
          "KontaktID": 12425819,
          "Namn": "Jan Sandred",
          "Roll": "",
          "Telefon": "4684733216"
         }
        ],
        "LankLista": [],
        "Publiceringsdatum": "2017-11-17T13:30:15",
        "Publik": 1,
        "Titel": "Innovatörer 2017 - 2018",
        "TitelEngelska": "x"
       },
       {
        "AnsokningsomgangDnrLista": [
         {
          "DiarienummerAnsokningsomgang": "2017-02653"
         }
        ],
        "Beskrivning": "Samverkansprogram SIP Drive Sweden",
        "BeskrivningEngelska": "x",
        "Diarienummer": "2017-02650",
        "DiarienummerProgram": "2015-07014",
        "DokumentLista": [],
        "KontaktLista": [],
        "LankLista": [],
        "Publiceringsdatum": "2018-10-05T15:30:27",
        "Publik": 1,
        "Titel": "Samverkansprogram SIP Drive Sweden",
        "TitelEngelska": "x"
       },
       {
        "AnsokningsomgangDnrLista": [
         {
          "DiarienummerAnsokningsomgang": "2017-02652"
         }
        ],
        "Beskrivning": "Samverkansprogram SIP Innovair",
        "BeskrivningEngelska": "x",
        "Diarienummer": "2017-02651",
        "DiarienummerProgram": "2014-04016",
        "DokumentLista": [],
        "KontaktLista": [],
        "LankLista": [],
        "Publiceringsdatum": "2018-06-29T16:30:25",
        "Publik": 1,
        "Titel": "Samverkansprogram SIP Innovair",
        "TitelEngelska": "x"
       },
       {
        "AnsokningsomgangDnrLista": [
         {
          "DiarienummerAnsokningsomgang": "2017-02787"
         },
         {
          "DiarienummerAnsokningsomgang": "2018-00458"
         },
         {
          "DiarienummerAnsokningsomgang": "2019-00012"
         }
        ],
        "Beskrivning": "MSCA EF Seal of Excellence",
        "BeskrivningEngelska": "MSCA EF Seal of Excellence",
        "Diarienummer": "2017-02770",
        "DiarienummerProgram": "2013-02062",
        "DokumentLista": [],
        "KontaktLista": [],
        "LankLista": [],
        "Publiceringsdatum": "2019-03-26T08:30:16",
        "Publik": 1,
        "Titel": "MSCA EF Seal of Excellence",
        "TitelEngelska": "MSCA EF Seal of Excellence"
       },
       {
        "AnsokningsomgangDnrLista": [
         {
          "DiarienummerAnsokningsomgang": "2017-02808"
         },
         {
          "DiarienummerAnsokningsomgang": "2018-02544"
         }
        ],
        "Beskrivning": "SWElife Steg 2",
        "BeskrivningEngelska": "SWElife Phase 2 2017",
        "Diarienummer": "2017-02805",
        "DiarienummerProgram": "2014-04013",
        "DokumentLista": [],
        "KontaktLista": [
         {
          "Epost": "jonas.tranell@vinnova.se",
          "KontaktID": 12691475,
          "Namn": "Jonas Tranell",
          "Roll": "Utlysningsansvarig Vinnova. Kontaktperson angående bedömningsprocessen, juridiska frågor och övriga frågor om utlysningens innehåll",
          "Telefon": "46 8 473 30 73"
         },
         {
          "Epost": "therese.porsklint@vinnova.se",
          "KontaktID": 12691476,
          "Namn": "Therese Porsklint",
          "Roll": "Administrativa frågor",
          "Telefon": "46 8 473 30 28"
         },
         {
          "Epost": "asa.wallin@swelife.se",
          "KontaktID": 12691477,
          "Namn": "Åsa Wallin",
          "Roll": "Utlysningsansvarig Swelife. Kontaktperson angående utlysningens bakgrund, syfte och önskade effekter",
          "Telefon": "46 700 85 05 10"
         }
        ],
        "LankLista": [],
        "Publiceringsdatum": "2018-07-13T10:00:02",
        "Publik": 1,
        "Titel": "SWElife Steg 2",
        "TitelEngelska": "SWElife Phase 2 2017"
       },
       {
        "AnsokningsomgangDnrLista": [
         {
          "DiarienummerAnsokningsomgang": "2017-03349"
         },
         {
          "DiarienummerAnsokningsomgang": "2018-04798"
         },
         {
          "DiarienummerAnsokningsomgang": "2018-04991"
         }
        ],
        "Beskrivning": "Finansiering av svenskt deltagande i projekt inom ERA-NET cofund Forest Value",
        "BeskrivningEngelska": "Forest Value ERA-NET cofund",
        "Diarienummer": "2017-02820",
        "DiarienummerProgram": "2014-01140",
        "DokumentLista": [],
        "KontaktLista": [
         {
          "Epost": "anders.holmgren@vinnova.se",
          "KontaktID": 12468917,
          "Namn": "Anders Holmgren",
          "Roll": "",
          "Telefon": "08-473 32 13"
         }
        ],
        "LankLista": [],
        "Publiceringsdatum": "2018-11-27T13:30:12",
        "Publik": 1,
        "Titel": "Forest Value ERA-NET cofund",
        "TitelEngelska": "Forest Value ERA-NET cofund"
       },
       {
        "AnsokningsomgangDnrLista": [
         {
          "DiarienummerAnsokningsomgang": "2017-02861"
         },
         {
          "DiarienummerAnsokningsomgang": "2018-00004"
         }
        ],
        "Beskrivning": "Tillgänglighetsdesign ",
        "BeskrivningEngelska": "x",
        "Diarienummer": "2017-02849",
        "DiarienummerProgram": "2003-00420",
        "DokumentLista": [],
        "KontaktLista": [],
        "LankLista": [],
        "Publiceringsdatum": "2017-05-24T10:30:39",
        "Publik": 1,
        "Titel": "Tillgänglighetsdesign ",
        "TitelEngelska": "x"
       },
       {
        "AnsokningsomgangDnrLista": [
         {
          "DiarienummerAnsokningsomgang": "2017-02942"
         },
         {
          "DiarienummerAnsokningsomgang": "2018-05355"
         }
        ],
        "Beskrivning": "Nationella Flygtekniska Forsknings Programmet 7  ",
        "BeskrivningEngelska": "x",
        "Diarienummer": "2017-02932",
        "DiarienummerProgram": "2014-04016",
        "DokumentLista": [
         {
          "Beskrivning": "Fastställt beslut för utlysning",
          "DokumentID": "2017-02932_1",
          "FileName": "Fastställt beslut för utlysning(801501).pdf",
          "Titel": "Fastställt beslut för utlysning",
          "fileURL": "https://data.vinnova.se/api/file/2017-02932_1"
         }
        ],
        "KontaktLista": [
         {
          "Epost": "lena.dalsmyr@vinnova.se",
          "KontaktID": 12441084,
          "Namn": "Lena Dalsmyr",
          "Roll": "Administrativa frågor",
          "Telefon": "08-473 31 61"
         },
         {
          "Epost": "anders.blom@innovair.org",
          "KontaktID": 12441521,
          "Namn": "Anders Blom",
          "Roll": "Inriktning och innehållsansvarig, Innovair",
          "Telefon": "08-555 031 60"
         },
         {
          "Epost": "mats-olof.olsson@fmv.se",
          "KontaktID": 12441522,
          "Namn": "Mats-Olof Olsson",
          "Roll": "Inriktning och innehållsansvarig, FMV",
          "Telefon": "08-782 48 84"
         },
         {
          "Epost": "sanna.edlund@vinnova.se",
          "KontaktID": 12838904,
          "Namn": "Sanna Edlund",
          "Roll": "Utlysningsansvarig på Vinnova",
          "Telefon": "08-473 31 63"
         }
        ],
        "LankLista": [],
        "Publiceringsdatum": "2019-01-08T12:30:47",
        "Publik": 1,
        "Titel": "Nationella Flygtekniska Forsknings Programmet 7  ",
        "TitelEngelska": "x"
       },
       {
        "AnsokningsomgangDnrLista": [
         {
          "DiarienummerAnsokningsomgang": "2017-03252"
         },
         {
          "DiarienummerAnsokningsomgang": "2017-03704"
         },
         {
          "DiarienummerAnsokningsomgang": "2017-05130"
         },
         {
          "DiarienummerAnsokningsomgang": "2017-05185"
         },
         {
          "DiarienummerAnsokningsomgang": "2019-00097"
         },
         {
          "DiarienummerAnsokningsomgang": "2019-00774"
         },
         {
          "DiarienummerAnsokningsomgang": "2019-01103"
         },
         {
          "DiarienummerAnsokningsomgang": "2019-02197"
         }
        ],
        "Beskrivning": "Digital infrastruktur och digital säkerhet",
        "BeskrivningEngelska": "Digital infrastructure and cyber security",
        "Diarienummer": "2017-03247",
        "DiarienummerProgram": "2013-01779",
        "DokumentLista": [
         {
          "Beskrivning": "Denna utlysning ska främja svenskt deltagande i internationella samverkansprojekt inom digital säkerhet och tillförlitlighet. Genomförbarhetsstudierna ska analysera projektidéns potential genom att objektivt och rationellt avslöja projektets styrkor, svagheter, möjligheter och risker. Resultatet ska visa utsikterna för att projektet blir en framgång. ",
          "DokumentID": "2017-03247_3",
          "FileName": "Utlysningstext Genomförbarhetsstudier rev 2017-09-14(816297).pdf",
          "Titel": "Utlysningstext Genomförbarhetsstudier rev 2017-09-14",
          "fileURL": "https://data.vinnova.se/api/file/2017-03247_3"
         }
        ],
        "KontaktLista": [
         {
          "Epost": "tommy.schonberg@vinnova.se",
          "KontaktID": 12495709,
          "Namn": "Tommy Schönberg",
          "Roll": "Utlysningsansvarig",
          "Telefon": "46 8 473 30 30"
         }
        ],
        "LankLista": [],
        "Publiceringsdatum": "2019-03-29T14:01:05",
        "Publik": 1,
        "Titel": "Digital infrastruktur och digital säkerhet",
        "TitelEngelska": "Digital infrastructure and cyber security"
       },
       {
        "AnsokningsomgangDnrLista": [
         {
          "DiarienummerAnsokningsomgang": "2017-03413"
         },
         {
          "DiarienummerAnsokningsomgang": "2017-04971"
         },
         {
          "DiarienummerAnsokningsomgang": "2018-04401"
         }
        ],
        "Beskrivning": "RMP FoU-projekt",
        "BeskrivningEngelska": "RMP FoU-projekt",
        "Diarienummer": "2017-03280",
        "DiarienummerProgram": "2013-01244",
        "DokumentLista": [],
        "KontaktLista": [],
        "LankLista": [],
        "Publiceringsdatum": "2019-02-14T11:00:17",
        "Publik": 1,
        "Titel": "RMP FoU-projekt",
        "TitelEngelska": "RMP FoU-projekt"
       },
       {
        "AnsokningsomgangDnrLista": [
         {
          "DiarienummerAnsokningsomgang": "2017-04449"
         },
         {
          "DiarienummerAnsokningsomgang": "2018-03010"
         }
        ],
        "Beskrivning": "Next generation internet -kontaktnod för Future Internet Forum under höst och vinter 2017-2018 inför kommande utlysning på EU-nivå. Arbetet specificeras delvis löpande av EUs samordnare, och utförs i nära dialog med Vinnovas handläggare. Löpande arbete med att framför allt engagera nya målgrupper och lyssna in deras frågor utifrån ett ´human centric internet´-perspektiv. sammanställa dessa inkommande ´synpunkter´ och leverera upp till EU-nivån, parallellt med alla andra länder inom Future Internet Forum.",
        "BeskrivningEngelska": "Next generation internet-kontaktnod för Future Internet Forum",
        "Diarienummer": "2017-04397",
        "DiarienummerProgram": "2009-02207",
        "DokumentLista": [],
        "KontaktLista": [],
        "LankLista": [],
        "Publiceringsdatum": "2018-07-03T13:00:30",
        "Publik": 1,
        "Titel": "Next generation internet för Future Internet Forum",
        "TitelEngelska": "Next generation internet-kontaktnod för Future Internet Forum"
       },
       {
        "AnsokningsomgangDnrLista": [
         {
          "DiarienummerAnsokningsomgang": "2017-04428"
         },
         {
          "DiarienummerAnsokningsomgang": "2017-04661"
         },
         {
          "DiarienummerAnsokningsomgang": "2018-00457"
         }
        ],
        "Beskrivning": "SVP aktiviteter - Bioinnovation",
        "BeskrivningEngelska": "x",
        "Diarienummer": "2017-04419",
        "DiarienummerProgram": "2014-04014",
        "DokumentLista": [],
        "KontaktLista": [],
        "LankLista": [],
        "Publiceringsdatum": "2018-01-31T15:30:18",
        "Publik": 1,
        "Titel": "SVP aktiviteter - Bioinnovation",
        "TitelEngelska": "x"
       },
       {
        "AnsokningsomgangDnrLista": [
         {
          "DiarienummerAnsokningsomgang": "2017-04442"
         }
        ],
        "Beskrivning": "SVP aktiviteter - Medtech4Health",
        "BeskrivningEngelska": "x",
        "Diarienummer": "2017-04421",
        "DiarienummerProgram": "2015-06135",
        "DokumentLista": [],
        "KontaktLista": [],
        "LankLista": [],
        "Publiceringsdatum": "2018-06-07T15:30:45",
        "Publik": 1,
        "Titel": "SVP aktiviteter - Medtech4Health",
        "TitelEngelska": "x"
       },
       {
        "AnsokningsomgangDnrLista": [
         {
          "DiarienummerAnsokningsomgang": "2017-04430"
         },
         {
          "DiarienummerAnsokningsomgang": "2018-05318"
         },
         {
          "DiarienummerAnsokningsomgang": "2019-00760"
         }
        ],
        "Beskrivning": "SVP aktiviteter - Metalliska material",
        "BeskrivningEngelska": "x",
        "Diarienummer": "2017-04422",
        "DiarienummerProgram": "2014-00597",
        "DokumentLista": [],
        "KontaktLista": [],
        "LankLista": [],
        "Publiceringsdatum": "2019-01-16T14:30:29",
        "Publik": 1,
        "Titel": "SVP aktiviteter - Metalliska material",
        "TitelEngelska": "x"
       },
       {
        "AnsokningsomgangDnrLista": [
         {
          "DiarienummerAnsokningsomgang": "2017-04431"
         }
        ],
        "Beskrivning": "SVP aktiviteter - PiA",
        "BeskrivningEngelska": "x",
        "Diarienummer": "2017-04423",
        "DiarienummerProgram": "2014-00599",
        "DokumentLista": [],
        "KontaktLista": [],
        "LankLista": [],
        "Publiceringsdatum": "2017-09-08T14:30:17",
        "Publik": 1,
        "Titel": "SVP aktiviteter - PiA",
        "TitelEngelska": "x"
       },
       {
        "AnsokningsomgangDnrLista": [
         {
          "DiarienummerAnsokningsomgang": "2017-04438"
         },
         {
          "DiarienummerAnsokningsomgang": "2017-04715"
         },
         {
          "DiarienummerAnsokningsomgang": "2017-05191"
         }
        ],
        "Beskrivning": "SVP Aktiviteter SIP Produktion2030",
        "BeskrivningEngelska": "x",
        "Diarienummer": "2017-04424",
        "DiarienummerProgram": "2014-00600",
        "DokumentLista": [],
        "KontaktLista": [],
        "LankLista": [],
        "Publiceringsdatum": "2018-11-12T17:00:25",
        "Publik": 1,
        "Titel": "SVP Aktiviteter SIP Produktion2030",
        "TitelEngelska": "x"
       },
       {
        "AnsokningsomgangDnrLista": [
         {
          "DiarienummerAnsokningsomgang": "2017-04445"
         },
         {
          "DiarienummerAnsokningsomgang": "2018-00040"
         },
         {
          "DiarienummerAnsokningsomgang": "2018-04993"
         }
        ],
        "Beskrivning": "Tillgänglighetsdesign - 2017-2018",
        "BeskrivningEngelska": "x",
        "Diarienummer": "2017-04444",
        "DiarienummerProgram": "2003-00420",
        "DokumentLista": [],
        "KontaktLista": [],
        "LankLista": [],
        "Publiceringsdatum": "2018-12-11T12:00:13",
        "Publik": 1,
        "Titel": "Tillgänglighetsdesign - 2017-2018",
        "TitelEngelska": "x"
       },
       {
        "AnsokningsomgangDnrLista": [
         {
          "DiarienummerAnsokningsomgang": "2017-04713"
         },
         {
          "DiarienummerAnsokningsomgang": "2017-05113"
         },
         {
          "DiarienummerAnsokningsomgang": "2017-05306"
         },
         {
          "DiarienummerAnsokningsomgang": "2018-00685"
         },
         {
          "DiarienummerAnsokningsomgang": "2018-00686"
         },
         {
          "DiarienummerAnsokningsomgang": "2018-02990"
         },
         {
          "DiarienummerAnsokningsomgang": "2018-04364"
         }
        ],
        "Beskrivning": "Insatser för att stärka Sveriges roll inom internationell standardisering med syfte att skapa innovation och hållbar tillväxt",
        "BeskrivningEngelska": "(More) international standardization for innovation and sustainable growth.",
        "Diarienummer": "2017-04448",
        "DiarienummerProgram": "2014-01141",
        "DokumentLista": [],
        "KontaktLista": [],
        "LankLista": [],
        "Publiceringsdatum": "2018-10-03T12:30:05",
        "Publik": 1,
        "Titel": "Insatser för att stärka Sveriges roll inom internationell standardisering med syfte att skapa innovation och hållbar tillväxt",
        "TitelEngelska": "Activities and more to support Swedish engagement in international standardization efforts, to support innovation and sustanable growth \r\n"
       },
       {
        "AnsokningsomgangDnrLista": [
         {
          "DiarienummerAnsokningsomgang": "2017-04659"
         },
         {
          "DiarienummerAnsokningsomgang": "2017-04711"
         },
         {
          "DiarienummerAnsokningsomgang": "2018-02076"
         },
         {
          "DiarienummerAnsokningsomgang": "2018-04967"
         },
         {
          "DiarienummerAnsokningsomgang": "2019-01288"
         }
        ],
        "Beskrivning": "Forskningsinfrastrukturer - Nyttiggörande och samverkan",
        "BeskrivningEngelska": "The activities in this program aim to stimulate collaboration around skills development and industrial utilisation of advanced neutron and photon-based techniques at large scale research infrastructures, such as those being developed at MAX IV and ESS in Sweden \r\n",
        "Diarienummer": "2017-04491",
        "DiarienummerProgram": "2018-00584",
        "DokumentLista": [],
        "KontaktLista": [],
        "LankLista": [],
        "Publiceringsdatum": "2019-04-01T13:00:19",
        "Publik": 1,
        "Titel": "Forskningsinfrastrukturer - Nyttiggörande och samverkan",
        "TitelEngelska": "Research infrastructure - utilisation and collaboration"
       },
       {
        "AnsokningsomgangDnrLista": [
         {
          "DiarienummerAnsokningsomgang": "2017-04966"
         }
        ],
        "Beskrivning": "Kunskapssatsningar för industrins digitalisering",
        "BeskrivningEngelska": "Kunskapssatsningar för industrins digitalisering",
        "Diarienummer": "2017-04926",
        "DiarienummerProgram": "2014-01141",
        "DokumentLista": [],
        "KontaktLista": [
         {
          "Epost": "annika.zika-viktorsson@vinnova.se",
          "KontaktID": 12521709,
          "Namn": "Annika Zika-Viktorsson",
          "Roll": "Utlysningsansvarig",
          "Telefon": "08-473 30 59 "
         },
         {
          "Epost": "tommy.schonberg@vinnova.se",
          "KontaktID": 12521710,
          "Namn": "Tommy Schönberg ",
          "Roll": "Utlysningsansvarig",
          "Telefon": "08-473 30 30 "
         },
         {
          "Epost": "mikael.hedelind@vinnova.se",
          "KontaktID": 12521711,
          "Namn": "Mikael Hedelind",
          "Roll": "Utlysningsansvarig",
          "Telefon": "08-473 31 57"
         },
         {
          "Epost": "marie.wikstrom@vinnova.se",
          "KontaktID": 12521712,
          "Namn": "Marie Wikström ",
          "Roll": "Administrativa frågor",
          "Telefon": "08-473 31 79 "
         }
        ],
        "LankLista": [],
        "Publiceringsdatum": "2018-04-18T09:30:02",
        "Publik": 1,
        "Titel": "Kunskapssatsningar för industrins digitalisering",
        "TitelEngelska": "Kunskapssatsningar för industrins digitalisering"
       },
       {
        "AnsokningsomgangDnrLista": [
         {
          "DiarienummerAnsokningsomgang": "2017-05016"
         }
        ],
        "Beskrivning": "Testmiljöer för digitala lösningar",
        "BeskrivningEngelska": "Testmiljöer för digitala lösningar",
        "Diarienummer": "2017-04927",
        "DiarienummerProgram": "2014-01141",
        "DokumentLista": [],
        "KontaktLista": [],
        "LankLista": [],
        "Publiceringsdatum": "2017-10-23T13:30:17",
        "Publik": 1,
        "Titel": "Testmiljöer för digitala lösningar",
        "TitelEngelska": "Testmiljöer för digitala lösningar"
       },
       {
        "AnsokningsomgangDnrLista": [
         {
          "DiarienummerAnsokningsomgang": "2017-04959"
         },
         {
          "DiarienummerAnsokningsomgang": "2017-04984"
         }
        ],
        "Beskrivning": "Särskild medfinansiering till kollektivtrafikens arbete med nya biljettprodukter anpassat för Kombinerad Mobilitet som tjänst.\r\n",
        "BeskrivningEngelska": "x",
        "Diarienummer": "2017-04958",
        "DiarienummerProgram": "2015-07014",
        "DokumentLista": [],
        "KontaktLista": [],
        "LankLista": [],
        "Publiceringsdatum": "2017-10-17T08:30:21",
        "Publik": 1,
        "Titel": "Särskild medfinansiering till kollektivtrafikens arbete med nya biljettprodukter anpassat för Kombinerad Mobilitet som tjänst",
        "TitelEngelska": "x"
       },
       {
        "AnsokningsomgangDnrLista": [
         {
          "DiarienummerAnsokningsomgang": "2017-04997"
         }
        ],
        "Beskrivning": "SVP aktiviteter -  Innovair",
        "BeskrivningEngelska": "x",
        "Diarienummer": "2017-04996",
        "DiarienummerProgram": "2014-04016",
        "DokumentLista": [],
        "KontaktLista": [],
        "LankLista": [],
        "Publiceringsdatum": "2018-05-18T07:30:26",
        "Publik": 1,
        "Titel": "SVP aktiviteter -  Innovair",
        "TitelEngelska": "x"
       },
       {
        "AnsokningsomgangDnrLista": [
         {
          "DiarienummerAnsokningsomgang": "2017-05142"
         },
         {
          "DiarienummerAnsokningsomgang": "2018-04661"
         },
         {
          "DiarienummerAnsokningsomgang": "2019-01357"
         }
        ],
        "Beskrivning": "Strategiska områden för ökad svensk konkurrenskraft inom industriell utveckling",
        "BeskrivningEngelska": "Strategic areas for increased Swedish competitiveness within industrial technologies",
        "Diarienummer": "2017-05139",
        "DiarienummerProgram": "2014-01141",
        "DokumentLista": [],
        "KontaktLista": [],
        "LankLista": [],
        "Publiceringsdatum": "2019-02-26T15:30:21",
        "Publik": 1,
        "Titel": "Strategiska områden för ökad svensk konkurrenskraft inom industriell utveckling",
        "TitelEngelska": "Strategic areas for increased Swedish competitiveness within industrial technologies"
       },
       {
        "AnsokningsomgangDnrLista": [
         {
          "DiarienummerAnsokningsomgang": "2017-05192"
         },
         {
          "DiarienummerAnsokningsomgang": "2017-05193"
         },
         {
          "DiarienummerAnsokningsomgang": "2018-01838"
         }
        ],
        "Beskrivning": "Innovationsprojekt i företag 2018",
        "BeskrivningEngelska": "Innovationsprojekt i företag 2018",
        "Diarienummer": "2017-05176",
        "DiarienummerProgram": "2009-02172",
        "DokumentLista": [],
        "KontaktLista": [],
        "LankLista": [],
        "Publiceringsdatum": "2018-10-01T13:00:42",
        "Publik": 1,
        "Titel": "Innovationsprojekt i företag 2018",
        "TitelEngelska": "Innovationsprojekt i företag 2018   "
       },
       {
        "AnsokningsomgangDnrLista": [
         {
          "DiarienummerAnsokningsomgang": "2017-05312"
         },
         {
          "DiarienummerAnsokningsomgang": "2018-02984"
         }
        ],
        "Beskrivning": "Internationell samverkan för FoU/I med aktörer i Kina inom Life Science och trafiksäkerhet",
        "BeskrivningEngelska": "International collaboration for R&D/R&I with actors in China in the fields of Life Science and traffic safety.  ",
        "Diarienummer": "2017-05279",
        "DiarienummerProgram": "2011-00500",
        "DokumentLista": [],
        "KontaktLista": [],
        "LankLista": [],
        "Publiceringsdatum": "2019-02-25T09:30:20",
        "Publik": 1,
        "Titel": "Bilateral utlysning med Kina",
        "TitelEngelska": "Bilateral call for proposals with China "
       },
       {
        "AnsokningsomgangDnrLista": [
         {
          "DiarienummerAnsokningsomgang": "2017-05322"
         },
         {
          "DiarienummerAnsokningsomgang": "2017-05323"
         },
         {
          "DiarienummerAnsokningsomgang": "2018-02549"
         },
         {
          "DiarienummerAnsokningsomgang": "2018-02550"
         },
         {
          "DiarienummerAnsokningsomgang": "2018-03041"
         },
         {
          "DiarienummerAnsokningsomgang": "2018-03042"
         }
        ],
        "Beskrivning": "SIP - RE:Source - externa utlysningar",
        "BeskrivningEngelska": "x",
        "Diarienummer": "2017-05301",
        "DiarienummerProgram": "2015-07133",
        "DokumentLista": [],
        "KontaktLista": [],
        "LankLista": [],
        "Publiceringsdatum": "2018-07-05T16:00:05",
        "Publik": 1,
        "Titel": "SIP - RE:Source - externa utlysningar",
        "TitelEngelska": "x"
       },
       {
        "AnsokningsomgangDnrLista": [
         {
          "DiarienummerAnsokningsomgang": "2017-05314"
         },
         {
          "DiarienummerAnsokningsomgang": "2018-02818"
         },
         {
          "DiarienummerAnsokningsomgang": "2018-04676"
         }
        ],
        "Beskrivning": "SIP - Viable Cities - externa utlysningar",
        "BeskrivningEngelska": "x",
        "Diarienummer": "2017-05302",
        "DiarienummerProgram": "2017-04266",
        "DokumentLista": [],
        "KontaktLista": [],
        "LankLista": [],
        "Publiceringsdatum": "2018-11-15T13:30:10",
        "Publik": 1,
        "Titel": "SIP - Viable Cities - externa utlysningar",
        "TitelEngelska": "Viable Cities - external calls"
       },
       {
        "AnsokningsomgangDnrLista": [
         {
          "DiarienummerAnsokningsomgang": "2017-05427"
         }
        ],
        "Beskrivning": "Drönartekniken innebär stora möjligheter till innovation. Tekniken är applicerbar på många områden, och i kombination med digitala tjänster finns det förutsättningar för värdeskapande innovationer. Området har även policyutmanande inslag då de tekniska möjligheterna tangerar eller överstiger vad regler och lagar tillåter. Projekten som vi vill finansiera inom denna utlysning ska ha hög grad av originalitet och vara till nytta för både människor och samhälle. ",
        "BeskrivningEngelska": "Drone technology offers great opportunities for innovation. The technology is applicable in many areas, and in combination with digital services, there are prerequisites for value-creating innovations. The area also has policy-challenging features when the technical possibilities are tangent or exceed what rules and laws allow. The projects we want to fund within this call will have a high degree of originality and benefit both people and society.",
        "Diarienummer": "2017-05380",
        "DiarienummerProgram": "2012-00741",
        "DokumentLista": [],
        "KontaktLista": [],
        "LankLista": [],
        "Publiceringsdatum": "2018-05-14T16:30:38",
        "Publik": 1,
        "Titel": "Framtidens drönare ",
        "TitelEngelska": "Drones"
       },
       {
        "AnsokningsomgangDnrLista": [
         {
          "DiarienummerAnsokningsomgang": "2017-05570"
         },
         {
          "DiarienummerAnsokningsomgang": "2018-04040"
         }
        ],
        "Beskrivning": "1st German-Swedish Call for Proposals for joint R&D projects by Small and Medium-sized Enterprises (SMEs) är ett samarbete mellan Vinnova och AiF Projekt  där vi gemensamt stödjer samverkan mellan SMF och forskningsutförare i Tyskland och i Sverige. ",
        "BeskrivningEngelska": "1st German-Swedish Call for Proposals for joint R&D projects by Small and Medium-sized Enterprises (SMEs)",
        "Diarienummer": "2017-05562",
        "DiarienummerProgram": "2011-00500",
        "DokumentLista": [],
        "KontaktLista": [],
        "LankLista": [],
        "Publiceringsdatum": "2018-12-03T13:30:22",
        "Publik": 1,
        "Titel": "1st German-Swedish Call for Proposals for joint R&D projects by Small and Medium-sized Enterprises (SMEs)",
        "TitelEngelska": "1st German-Swedish Call for Proposals for joint R&D projects by Small and Medium-sized Enterprises (SMEs)"
       },
       {
        "AnsokningsomgangDnrLista": [
         {
          "DiarienummerAnsokningsomgang": "2017-05598"
         },
         {
          "DiarienummerAnsokningsomgang": "2019-00007"
         }
        ],
        "Beskrivning": "Innovationskraft i offentlig verksamhet - Strategiska insatser 2018-2020",
        "BeskrivningEngelska": "xx",
        "Diarienummer": "2017-05579",
        "DiarienummerProgram": "2009-02225",
        "DokumentLista": [],
        "KontaktLista": [],
        "LankLista": [],
        "Publiceringsdatum": "2018-03-28T14:30:19",
        "Publik": 1,
        "Titel": "Innovationskraft i offentlig verksamhet - Strategiska insatser 2018-2020",
        "TitelEngelska": "xx"
       },
       {
        "AnsokningsomgangDnrLista": [
         {
          "DiarienummerAnsokningsomgang": "2018-00557"
         }
        ],
        "Beskrivning": "Resebidrag 2018 och 2019",
        "BeskrivningEngelska": "Travel grants 2018",
        "Diarienummer": "2017-05597",
        "DiarienummerProgram": "2011-00500",
        "DokumentLista": [],
        "KontaktLista": [],
        "LankLista": [],
        "Publiceringsdatum": "2019-02-11T08:30:18",
        "Publik": 0,
        "Titel": "Resebidrag 2018 - 2019",
        "TitelEngelska": "Travel grants 2018"
       },
       {
        "AnsokningsomgangDnrLista": [
         {
          "DiarienummerAnsokningsomgang": "2017-05612"
         }
        ],
        "Beskrivning": "Enskilda projekt 2018-2020. SIP Smartare Elektroniksystem.",
        "BeskrivningEngelska": "Strategic Projects 2018-2020. Electronic Components and Systems",
        "Diarienummer": "2017-05611",
        "DiarienummerProgram": "2014-04012",
        "DokumentLista": [],
        "KontaktLista": [],
        "LankLista": [],
        "Publiceringsdatum": "2019-04-02T16:00:27",
        "Publik": 1,
        "Titel": "SIP Smartare Elektroniksystem. Enskilda projekt 2018-2020, inkl PEA",
        "TitelEngelska": "Strategic Projects 2018-2020. Electronic Components and Systems"
       },
       {
        "AnsokningsomgangDnrLista": [
         {
          "DiarienummerAnsokningsomgang": "2018-03325"
         }
        ],
        "Beskrivning": "Enskilda projekt SIP Produktion2030",
        "BeskrivningEngelska": "Individual Projects SIP Produktion2030",
        "Diarienummer": "2017-05629",
        "DiarienummerProgram": "2014-00600",
        "DokumentLista": [],
        "KontaktLista": [],
        "LankLista": [],
        "Publiceringsdatum": "2019-02-25T11:00:17",
        "Publik": 1,
        "Titel": "Enskilda projekt SIP Produktion2030",
        "TitelEngelska": "Individual Projects SIP Produktion2030"
       },
       {
        "AnsokningsomgangDnrLista": [
         {
          "DiarienummerAnsokningsomgang": "2018-00023"
         },
         {
          "DiarienummerAnsokningsomgang": "2018-02218"
         },
         {
          "DiarienummerAnsokningsomgang": "2018-03117"
         },
         {
          "DiarienummerAnsokningsomgang": "2018-03121"
         },
         {
          "DiarienummerAnsokningsomgang": "2019-00832"
         }
        ],
        "Beskrivning": "Extern utlysning för EU-hälsaprogram",
        "BeskrivningEngelska": "Under this proposition, innovation projects based on research into patient-centred medicine, immunobiology, digitalisation and antibiotics, among other things, are funded. Our offer is intended for academic researchers, companies, hospitals and patient associations. ",
        "Diarienummer": "2018-00022",
        "DiarienummerProgram": "2003-00409",
        "DokumentLista": [],
        "KontaktLista": [],
        "LankLista": [],
        "Publiceringsdatum": "2018-10-08T15:30:29",
        "Publik": 1,
        "Titel": "IMI - Innovative Medicines Initiative",
        "TitelEngelska": "IMI - Innovative Medicines Initiative: Funding of innovations in the field of medical research - IMI 2 Call 15 "
       },
       {
        "AnsokningsomgangDnrLista": [
         {
          "DiarienummerAnsokningsomgang": "2018-00039"
         }
        ],
        "Beskrivning": "Enskilda projekt -  SIP Innovair",
        "BeskrivningEngelska": "x",
        "Diarienummer": "2018-00033",
        "DiarienummerProgram": "2014-04016",
        "DokumentLista": [],
        "KontaktLista": [],
        "LankLista": [],
        "Publiceringsdatum": "2018-06-27T11:30:40",
        "Publik": 1,
        "Titel": "Enskilda projekt -  SIP Innovair",
        "TitelEngelska": "x"
       },
       {
        "AnsokningsomgangDnrLista": [
         {
          "DiarienummerAnsokningsomgang": "2018-00449"
         }
        ],
        "Beskrivning": "ERA-MIN 2 övergripande utlysning som samling för kommande AOs för att hantera projekt som beviljats i den internationella granskningen ",
        "BeskrivningEngelska": "ERA-MIN 2",
        "Diarienummer": "2018-00047",
        "DiarienummerProgram": "2014-01140",
        "DokumentLista": [],
        "KontaktLista": [],
        "LankLista": [],
        "Publiceringsdatum": "2018-05-02T09:00:17",
        "Publik": 1,
        "Titel": "ERA-MIN 2 ",
        "TitelEngelska": "ERA-MIN 2"
       },
       {
        "AnsokningsomgangDnrLista": [
         {
          "DiarienummerAnsokningsomgang": "2018-00076"
         },
         {
          "DiarienummerAnsokningsomgang": "2019-01313"
         }
        ],
        "Beskrivning": "Globala samarbeten särskilda insatser 2018-19 är utlysning för enstaka projekt utanför ordinarie  verksamhet. ",
        "BeskrivningEngelska": "Global cooperation specific measures ",
        "Diarienummer": "2018-00067",
        "DiarienummerProgram": "2011-00500",
        "DokumentLista": [],
        "KontaktLista": [],
        "LankLista": [],
        "Publiceringsdatum": "2019-02-18T14:00:54",
        "Publik": 0,
        "Titel": "Globala samarbeten särskilda insatser 2018-19",
        "TitelEngelska": "Global cooperation specific measures "
       },
       {
        "AnsokningsomgangDnrLista": [
         {
          "DiarienummerAnsokningsomgang": "2018-00134"
         }
        ],
        "Beskrivning": "Smarta och hållbara städer – internationalisering",
        "BeskrivningEngelska": "x",
        "Diarienummer": "2018-00133",
        "DiarienummerProgram": "2003-00420",
        "DokumentLista": [],
        "KontaktLista": [],
        "LankLista": [],
        "Publiceringsdatum": "2018-01-22T09:00:13",
        "Publik": 1,
        "Titel": "Smarta och hållbara städer – internationalisering",
        "TitelEngelska": "x"
       },
       {
        "AnsokningsomgangDnrLista": [
         {
          "DiarienummerAnsokningsomgang": "2018-00137"
         },
         {
          "DiarienummerAnsokningsomgang": "2018-02062"
         },
         {
          "DiarienummerAnsokningsomgang": "2018-03131"
         },
         {
          "DiarienummerAnsokningsomgang": "2018-05342"
         }
        ],
        "Beskrivning": "System-av-system för mobilitet i städer (SoSSUM) -  FFI ",
        "BeskrivningEngelska": "x",
        "Diarienummer": "2018-00136",
        "DiarienummerProgram": "2009-02186",
        "DokumentLista": [],
        "KontaktLista": [
         {
          "Epost": "andreas.allstrom@vinnova.se ",
          "KontaktID": 12649390,
          "Namn": "Andreas Allström",
          "Roll": "Utlysningsansvarig",
          "Telefon": "08-473 30 93"
         },
         {
          "Epost": "lena.dalsmyr@vinnova.se",
          "KontaktID": 12649391,
          "Namn": "Lena Dalsmyr",
          "Roll": "Administrativa frågor",
          "Telefon": "08-473 3 61"
         }
        ],
        "LankLista": [],
        "Publiceringsdatum": "2019-01-17T16:00:29",
        "Publik": 1,
        "Titel": "System-av-system för mobilitet i städer (SoSSUM) -  FFI ",
        "TitelEngelska": "x"
       },
       {
        "AnsokningsomgangDnrLista": [
         {
          "DiarienummerAnsokningsomgang": "2018-00168"
         },
         {
          "DiarienummerAnsokningsomgang": "2018-04537"
         }
        ],
        "Beskrivning": "Testbäddar inom miljöteknikområdet - särskild ansökningsomgång 2018",
        "BeskrivningEngelska": "x",
        "Diarienummer": "2018-00167",
        "DiarienummerProgram": "2012-03291",
        "DokumentLista": [],
        "KontaktLista": [],
        "LankLista": [],
        "Publiceringsdatum": "2018-10-31T10:30:36",
        "Publik": 1,
        "Titel": "Testbäddar inom miljöteknikområdet - särskild ansökningsomgång 2018",
        "TitelEngelska": "x"
       },
       {
        "AnsokningsomgangDnrLista": [
         {
          "DiarienummerAnsokningsomgang": "2018-00712"
         }
        ],
        "Beskrivning": "Särskilda insatser inom Innovationsledning",
        "BeskrivningEngelska": "Specific activities in Innovation management",
        "Diarienummer": "2018-00590",
        "DiarienummerProgram": "2018-00548",
        "DokumentLista": [],
        "KontaktLista": [],
        "LankLista": [],
        "Publiceringsdatum": "2018-12-18T08:30:06",
        "Publik": 1,
        "Titel": "Särskilda insatser inom Innovationsledning",
        "TitelEngelska": "Specific activities in Innovation management"
       },
       {
        "AnsokningsomgangDnrLista": [
         {
          "DiarienummerAnsokningsomgang": "2018-00677"
         },
         {
          "DiarienummerAnsokningsomgang": "2018-05337"
         }
        ],
        "Beskrivning": "Nordiskt samarbete inom hälsa",
        "BeskrivningEngelska": "Nordic collaboration in health",
        "Diarienummer": "2018-00597",
        "DiarienummerProgram": "2003-00409",
        "DokumentLista": [],
        "KontaktLista": [],
        "LankLista": [],
        "Publiceringsdatum": "2018-12-12T17:00:16",
        "Publik": 1,
        "Titel": "Nordiskt samarbete inom hälsa",
        "TitelEngelska": "Nordic collaboration in health"
       },
       {
        "AnsokningsomgangDnrLista": [
         {
          "DiarienummerAnsokningsomgang": "2018-01457"
         }
        ],
        "Beskrivning": "Möjlighet att ansöka om stöd till projekt som tydligt bidrar till att stärka den materialbaserade konkurrenskraften och ökar tillväxtmöjligheterna för aktörer i Sverige som utvecklar, producerar, levererar eller använder material.",
        "BeskrivningEngelska": "Materials based competitiveness 2017",
        "Diarienummer": "2018-00777",
        "DiarienummerProgram": "2013-02373",
        "DokumentLista": [],
        "KontaktLista": [
         {
          "Epost": "anders.maren@vinnova.se",
          "KontaktID": 12632794,
          "Namn": "Anders Marén",
          "Roll": "",
          "Telefon": "46 8 473 31 88"
         },
         {
          "Epost": "maria.ohman@vinnova.se",
          "KontaktID": 12632795,
          "Namn": "Maria Öhman",
          "Roll": "",
          "Telefon": "46 8 473 31 89"
         }
        ],
        "LankLista": [],
        "Publiceringsdatum": "2018-03-13T16:00:08",
        "Publik": 1,
        "Titel": "Materialbaserad konkurrenskraft 2018",
        "TitelEngelska": "Materials based competitiveness 2017"
       },
       {
        "AnsokningsomgangDnrLista": [],
        "Beskrivning": "Makulerad på grund av felregistrering. Övrig utlysning - ej på webben",
        "BeskrivningEngelska": "---",
        "Diarienummer": "2018-00778",
        "DiarienummerProgram": "2016-04663",
        "DokumentLista": [],
        "KontaktLista": [],
        "LankLista": [],
        "Publiceringsdatum": "2018-03-07T09:30:03",
        "Publik": 0,
        "Titel": "Makulerad på grund av felregistrering. Övrig utlysning - ej på webben",
        "TitelEngelska": "---"
       },
       {
        "AnsokningsomgangDnrLista": [
         {
          "DiarienummerAnsokningsomgang": "2018-01788"
         },
         {
          "DiarienummerAnsokningsomgang": "2018-03984"
         },
         {
          "DiarienummerAnsokningsomgang": "2019-01354"
         }
        ],
        "Beskrivning": "Externa utlysningar - SIP Smart Built Environment",
        "BeskrivningEngelska": "Smart Built Environment is a partnership between the Swedish Energy Agency, Formas and Vinnova which is administered by Formas. The following is a list of current application opportunities within the offer",
        "Diarienummer": "2018-01769",
        "DiarienummerProgram": "2016-03527",
        "DokumentLista": [],
        "KontaktLista": [],
        "LankLista": [],
        "Publiceringsdatum": "2019-02-26T11:30:04",
        "Publik": 1,
        "Titel": "Externa utlysningar - SIP Smart Built Environment",
        "TitelEngelska": "Smart Built Environment\r\n"
       },
       {
        "AnsokningsomgangDnrLista": [
         {
          "DiarienummerAnsokningsomgang": "2018-01786"
         }
        ],
        "Beskrivning": "Kombinerad mobilitet som tjänst  2018",
        "BeskrivningEngelska": "x",
        "Diarienummer": "2018-01784",
        "DiarienummerProgram": "2015-07014",
        "DokumentLista": [],
        "KontaktLista": [],
        "LankLista": [],
        "Publiceringsdatum": "2018-03-19T12:30:05",
        "Publik": 1,
        "Titel": "Kombinerad mobilitet som tjänst  2018",
        "TitelEngelska": "x"
       },
       {
        "AnsokningsomgangDnrLista": [
         {
          "DiarienummerAnsokningsomgang": "2018-03110"
         },
         {
          "DiarienummerAnsokningsomgang": "2018-05351"
         }
        ],
        "Beskrivning": "Internationella samarbeten - UK",
        "BeskrivningEngelska": "x",
        "Diarienummer": "2018-02052",
        "DiarienummerProgram": "2014-04016",
        "DokumentLista": [],
        "KontaktLista": [],
        "LankLista": [],
        "Publiceringsdatum": "2018-12-18T15:30:35",
        "Publik": 1,
        "Titel": "Internationella samarbeten - UK",
        "TitelEngelska": "x"
       },
       {
        "AnsokningsomgangDnrLista": [
         {
          "DiarienummerAnsokningsomgang": "2018-02054"
         },
         {
          "DiarienummerAnsokningsomgang": "2018-04397"
         },
         {
          "DiarienummerAnsokningsomgang": "2018-05372"
         }
        ],
        "Beskrivning": "Innovair – internationella samarbeten - Tyskland och Braslilien",
        "BeskrivningEngelska": "x",
        "Diarienummer": "2018-02053",
        "DiarienummerProgram": "2014-04016",
        "DokumentLista": [],
        "KontaktLista": [],
        "LankLista": [],
        "Publiceringsdatum": "2018-12-20T14:00:55",
        "Publik": 1,
        "Titel": "Innovair – internationella samarbeten - Tyskland och Braslilien",
        "TitelEngelska": "x"
       },
       {
        "AnsokningsomgangDnrLista": [
         {
          "DiarienummerAnsokningsomgang": "2018-02185"
         },
         {
          "DiarienummerAnsokningsomgang": "2018-05316"
         }
        ],
        "Beskrivning": "Innovationsledning och organisering – forskning för ökad innovationsförmåga",
        "BeskrivningEngelska": "x",
        "Diarienummer": "2018-02056",
        "DiarienummerProgram": "2013-01243",
        "DokumentLista": [],
        "KontaktLista": [],
        "LankLista": [],
        "Publiceringsdatum": "2019-02-13T11:30:17",
        "Publik": 1,
        "Titel": "Innovationsledning och organisering – forskning för ökad innovationsförmåga",
        "TitelEngelska": "x"
       },
       {
        "AnsokningsomgangDnrLista": [
         {
          "DiarienummerAnsokningsomgang": "2018-02186"
         },
         {
          "DiarienummerAnsokningsomgang": "2018-05317"
         }
        ],
        "Beskrivning": "Innovationsledning och organisering – nyttiggörande av kunskap för ökad innovationsförmåga",
        "BeskrivningEngelska": "x",
        "Diarienummer": "2018-02057",
        "DiarienummerProgram": "2013-01243",
        "DokumentLista": [],
        "KontaktLista": [],
        "LankLista": [],
        "Publiceringsdatum": "2018-12-17T12:00:16",
        "Publik": 1,
        "Titel": "Innovationsledning och organisering – nyttiggörande av kunskap för ökad innovationsförmåga",
        "TitelEngelska": "x"
       },
       {
        "AnsokningsomgangDnrLista": [],
        "Beskrivning": "Makulerad på grund av dubbelregistrering. Utlysning våren 2018 för insatser som identifierats av samverkansgrupperna för regeringens fem samverkansprogram  ",
        "BeskrivningEngelska": "x",
        "Diarienummer": "2018-02064",
        "DiarienummerProgram": "2017-02011",
        "DokumentLista": [],
        "KontaktLista": [],
        "LankLista": [],
        "Publiceringsdatum": "2018-04-03T08:30:05",
        "Publik": 0,
        "Titel": "Makulerad på grund av dubbelregistrering. Utlysning våren 2018 för insatser som identifierats av samverkansgrupperna för regeringens fem samverkansprogram  ",
        "TitelEngelska": "x"
       },
       {
        "AnsokningsomgangDnrLista": [
         {
          "DiarienummerAnsokningsomgang": "2018-02311"
         },
         {
          "DiarienummerAnsokningsomgang": "2018-02548"
         }
        ],
        "Beskrivning": "Satsningar som bidrar till prioriteringar inom regeringens strategiska samverkansprogram.  ",
        "BeskrivningEngelska": "x",
        "Diarienummer": "2018-02065",
        "DiarienummerProgram": "2017-02011",
        "DokumentLista": [],
        "KontaktLista": [
         {
          "Epost": "christina.kvarnstrom@vinnova.se",
          "KontaktID": 12657154,
          "Namn": "Christina Kvarnström",
          "Roll": "Utlysningsansvarig, Nästa generations resor och transporter",
          "Telefon": "46 8 473 31 28"
         },
         {
          "Epost": "filip.kjellgren@vinnova.se",
          "KontaktID": 12657168,
          "Namn": "Filip Kjellgren",
          "Roll": "Utlysningsansvarig, Nästa generations resor och transporter",
          "Telefon": "46 8 473 32 36"
         },
         {
          "Epost": "maria.johansson@vinnova.se",
          "KontaktID": 12657169,
          "Namn": "Maria Johansson",
          "Roll": "Utlysningsansvarig, Smarta städer",
          "Telefon": "46 8 473 31 70"
         },
         {
          "Epost": "marie.karlsson@vinnova.se",
          "KontaktID": 12657170,
          "Namn": "Marie Karlsson",
          "Roll": "Utlysningsansvarig, Smarta städer",
          "Telefon": "46 8 473 32 24"
         },
         {
          "Epost": "peter.aslund@vinnova.se",
          "KontaktID": 12657171,
          "Namn": "Peter Åslund",
          "Roll": "Utlysningsansvarig, Cirkulär och biobaserad ekonomi",
          "Telefon": "46 8 473 30 49"
         },
         {
          "Epost": "mikael.hedelind@vinnova.se",
          "KontaktID": 12657174,
          "Namn": "Mikael Hedelind",
          "Roll": "Utlysningsansvarig, Uppkopplad industri och nya material",
          "Telefon": "46 8 473 31 57"
         },
         {
          "Epost": "pontus.vonbahr@vinnova.se",
          "KontaktID": 12657175,
          "Namn": "Pontus von Bahr",
          "Roll": "Utlysningsansvarig, Life science",
          "Telefon": "46 8 473 30 91"
         },
         {
          "Epost": "frida.lundmark@vinnova.se",
          "KontaktID": 12657178,
          "Namn": "Frida Lundmark",
          "Roll": "Utlysningsansvarig, Life science",
          "Telefon": "46 8 473 30 74"
         }
        ],
        "LankLista": [],
        "Publiceringsdatum": "2018-11-30T09:30:11",
        "Publik": 0,
        "Titel": "Utlysning våren 2018 för insatser inom de fem samverkansprogrammet.",
        "TitelEngelska": "x"
       },
       {
        "AnsokningsomgangDnrLista": [
         {
          "DiarienummerAnsokningsomgang": "2018-02188"
         },
         {
          "DiarienummerAnsokningsomgang": "2018-04044"
         }
        ],
        "Beskrivning": "Hackathon",
        "BeskrivningEngelska": "x",
        "Diarienummer": "2018-02187",
        "DiarienummerProgram": "2003-00420",
        "DokumentLista": [],
        "KontaktLista": [],
        "LankLista": [],
        "Publiceringsdatum": "2018-10-02T08:30:31",
        "Publik": 1,
        "Titel": "Hackathon",
        "TitelEngelska": "x"
       },
       {
        "AnsokningsomgangDnrLista": [
         {
          "DiarienummerAnsokningsomgang": "2018-02235"
         },
         {
          "DiarienummerAnsokningsomgang": "2018-04372"
         },
         {
          "DiarienummerAnsokningsomgang": "2019-01192"
         }
        ],
        "Beskrivning": "Innovativa organisationsformer och tydliga målsättningar för att lösa Sveriges och världens hälsoutmaningar ",
        "BeskrivningEngelska": "Health Missions",
        "Diarienummer": "2018-02222",
        "DiarienummerProgram": "2009-02187",
        "DokumentLista": [],
        "KontaktLista": [],
        "LankLista": [],
        "Publiceringsdatum": "2019-02-11T19:00:05",
        "Publik": 1,
        "Titel": "Visionsdriven hälsa",
        "TitelEngelska": "Health Missions"
       },
       {
        "AnsokningsomgangDnrLista": [
         {
          "DiarienummerAnsokningsomgang": "2018-02338"
         },
         {
          "DiarienummerAnsokningsomgang": "2018-03299"
         },
         {
          "DiarienummerAnsokningsomgang": "2018-05352"
         },
         {
          "DiarienummerAnsokningsomgang": "2019-01166"
         }
        ],
        "Beskrivning": "Med det här erbjudandet vill Vinnova stärka förutsättningarna för att realisera en cirkulär och biobaserad ekonomi. Vi finansierar utvecklings- och innovationsprojekt som fokuserar på cirkulära flöden i befintliga eller nya tillämpningar.",
        "BeskrivningEngelska": "Circular and biobased economy",
        "Diarienummer": "2018-02242",
        "DiarienummerProgram": "2018-00583",
        "DokumentLista": [],
        "KontaktLista": [
         {
          "Epost": "Ida.Langborg@Vinnova.se",
          "KontaktID": 12661858,
          "Namn": "Ida Langborg",
          "Roll": "Utlysningsansvarig",
          "Telefon": "08-473 30 77"
         },
         {
          "Epost": "Anders.Holmgren@Vinnova.se",
          "KontaktID": 12661861,
          "Namn": "Anders Holmgren",
          "Roll": "",
          "Telefon": "08-473 32 13"
         },
         {
          "Epost": "Johan.Stenberg@Vinnova.se",
          "KontaktID": 12661864,
          "Namn": "Johan Stenberg",
          "Roll": "",
          "Telefon": "08-473 32 23"
         },
         {
          "Epost": "Bengt.Larsson@Vinnova.se",
          "KontaktID": 12661868,
          "Namn": "Bengt Larsson",
          "Roll": "Administrativa frågor",
          "Telefon": "08-473 31 14"
         }
        ],
        "LankLista": [],
        "Publiceringsdatum": "2019-01-17T14:30:21",
        "Publik": 1,
        "Titel": "Cirkulär och biobaserad ekonomi -ny utlysning",
        "TitelEngelska": "Circular and biobased economy"
       },
       {
        "AnsokningsomgangDnrLista": [
         {
          "DiarienummerAnsokningsomgang": "2018-02344"
         }
        ],
        "Beskrivning": "Strategiska projekt 2018",
        "BeskrivningEngelska": "Strategic Projects 2018",
        "Diarienummer": "2018-02310",
        "DiarienummerProgram": "2016-04663",
        "DokumentLista": [],
        "KontaktLista": [],
        "LankLista": [],
        "Publiceringsdatum": "2018-06-04T16:30:25",
        "Publik": 1,
        "Titel": "Strategiska projekt 2018",
        "TitelEngelska": "Strategic Projects 2018"
       },
       {
        "AnsokningsomgangDnrLista": [],
        "Beskrivning": "Demonstratorprojekt digital säkerhet och infrastruktur",
        "BeskrivningEngelska": "Demonstrator projects in cybersecurity och digital infrastructure",
        "Diarienummer": "2018-02348",
        "DiarienummerProgram": "2013-01779",
        "DokumentLista": [],
        "KontaktLista": [],
        "LankLista": [],
        "Publiceringsdatum": "2018-10-24T11:30:41",
        "Publik": 1,
        "Titel": "Demonstratorprojekt digital säkerhet och infrastruktur",
        "TitelEngelska": "Demonstrator projects in cybersecurity och digital infrastructure"
       },
       {
        "AnsokningsomgangDnrLista": [
         {
          "DiarienummerAnsokningsomgang": "2018-02485"
         },
         {
          "DiarienummerAnsokningsomgang": "2018-02559"
         },
         {
          "DiarienummerAnsokningsomgang": "2018-03629"
         },
         {
          "DiarienummerAnsokningsomgang": "2019-01104"
         },
         {
          "DiarienummerAnsokningsomgang": "2019-01894"
         }
        ],
        "Beskrivning": "Digital säkerhet och tillförlitlighet",
        "BeskrivningEngelska": "Collaboration projects in cybersecurity and digital infrastructure",
        "Diarienummer": "2018-02349",
        "DiarienummerProgram": "2013-01779",
        "DokumentLista": [],
        "KontaktLista": [],
        "LankLista": [],
        "Publiceringsdatum": "2019-03-07T13:30:02",
        "Publik": 1,
        "Titel": "Digital säkerhet och tillförlitlighet",
        "TitelEngelska": "Collaboration projects in cybersecurity and digital infrastructure"
       },
       {
        "AnsokningsomgangDnrLista": [
         {
          "DiarienummerAnsokningsomgang": "2018-02398"
         },
         {
          "DiarienummerAnsokningsomgang": "2018-02478"
         }
        ],
        "Beskrivning": "Särskilda satsningar inom  IKT-området",
        "BeskrivningEngelska": "Särskilda satsningar inom  IKT-området",
        "Diarienummer": "2018-02395",
        "DiarienummerProgram": "2009-02207",
        "DokumentLista": [],
        "KontaktLista": [],
        "LankLista": [],
        "Publiceringsdatum": "2018-04-26T15:30:11",
        "Publik": 1,
        "Titel": "Särskilda satsningar inom  IKT-området",
        "TitelEngelska": "Särskilda satsningar inom  IKT-området"
       },
       {
        "AnsokningsomgangDnrLista": [
         {
          "DiarienummerAnsokningsomgang": "2018-02475"
         },
         {
          "DiarienummerAnsokningsomgang": "2018-02476"
         }
        ],
        "Beskrivning": "Testbäddar för samhällets utmaningar",
        "BeskrivningEngelska": "X",
        "Diarienummer": "2018-02414",
        "DiarienummerProgram": "2009-02225",
        "DokumentLista": [],
        "KontaktLista": [
         {
          "Epost": "jonny.paulsson@vinnova.se",
          "KontaktID": 12680455,
          "Namn": "Jonny Ivarsson Paulsson",
          "Roll": "Utlysningsansvarig",
          "Telefon": " 46 8 473 32 42"
         },
         {
          "Epost": "tobias.ohman@vinnova.se",
          "KontaktID": 12680456,
          "Namn": "Tobias Öhman",
          "Roll": "Handläggare",
          "Telefon": " 46 8 473 32 17"
         },
         {
          "Epost": "therese.porsklint@vinnova.se",
          "KontaktID": 12680458,
          "Namn": "Therese Porsklint",
          "Roll": "Utlysningsadministratör",
          "Telefon": " 46 8 473 30 28"
         }
        ],
        "LankLista": [],
        "Publiceringsdatum": "2018-11-22T14:00:18",
        "Publik": 1,
        "Titel": "Testbäddar för samhällets utmaningar",
        "TitelEngelska": "X"
       },
       {
        "AnsokningsomgangDnrLista": [
         {
          "DiarienummerAnsokningsomgang": "2018-02535"
         },
         {
          "DiarienummerAnsokningsomgang": "2018-05346"
         }
        ],
        "Beskrivning": "Innovationer för ett hållbart samhälle 2018",
        "BeskrivningEngelska": "x",
        "Diarienummer": "2018-02510",
        "DiarienummerProgram": "2013-00117",
        "DokumentLista": [],
        "KontaktLista": [],
        "LankLista": [],
        "Publiceringsdatum": "2018-12-18T11:00:14",
        "Publik": 1,
        "Titel": "Innovationer för ett hållbart samhälle 2018",
        "TitelEngelska": "x"
       },
       {
        "AnsokningsomgangDnrLista": [
         {
          "DiarienummerAnsokningsomgang": "2018-02539"
         },
         {
          "DiarienummerAnsokningsomgang": "2018-03627"
         },
         {
          "DiarienummerAnsokningsomgang": "2018-03847"
         }
        ],
        "Beskrivning": "Utlysningen Från linjär till cirkulär syftar till att finansiera innovationsprojekt som genom digitala lösningar omvandlar linjärt värdeskapande till cirkulärt värdeskapande. ",
        "BeskrivningEngelska": "The aim for the call frFom linear to circular is financing innovation projects that through digital solutions transform linear value creation into circular value creation.",
        "Diarienummer": "2018-02526",
        "DiarienummerProgram": "2013-01117",
        "DokumentLista": [],
        "KontaktLista": [],
        "LankLista": [],
        "Publiceringsdatum": "2018-09-12T10:00:26",
        "Publik": 1,
        "Titel": "Från linjär till cirkulär ",
        "TitelEngelska": "From linear to circular"
       },
       {
        "AnsokningsomgangDnrLista": [
         {
          "DiarienummerAnsokningsomgang": "2018-02609"
         },
         {
          "DiarienummerAnsokningsomgang": "2018-02628"
         },
         {
          "DiarienummerAnsokningsomgang": "2019-00750"
         }
        ],
        "Beskrivning": "Proteinforskning och Processutveckling för Biologiska läkemedel",
        "BeskrivningEngelska": "Protein research and process development within the area of  Biologics",
        "Diarienummer": "2018-02527",
        "DiarienummerProgram": "2016-02206",
        "DokumentLista": [],
        "KontaktLista": [],
        "LankLista": [],
        "Publiceringsdatum": "2018-06-18T15:30:27",
        "Publik": 1,
        "Titel": "Proteinforskning och Processutveckling för Biologiska läkemedel",
        "TitelEngelska": "Protein research and process development within the area of  Biologics"
       },
       {
        "AnsokningsomgangDnrLista": [
         {
          "DiarienummerAnsokningsomgang": "2018-02547"
         },
         {
          "DiarienummerAnsokningsomgang": "2018-04884"
         }
        ],
        "Beskrivning": "Innovationsupphandling strategiska insatser",
        "BeskrivningEngelska": "Innovation procurement",
        "Diarienummer": "2018-02536",
        "DiarienummerProgram": "2011-01793",
        "DokumentLista": [],
        "KontaktLista": [],
        "LankLista": [],
        "Publiceringsdatum": "2018-12-06T12:00:11",
        "Publik": 0,
        "Titel": "Innovationsupphandling strategiska insatser",
        "TitelEngelska": "Innovation procurement"
       },
       {
        "AnsokningsomgangDnrLista": [
         {
          "DiarienummerAnsokningsomgang": "2018-02743"
         },
         {
          "DiarienummerAnsokningsomgang": "2018-04369"
         }
        ],
        "Beskrivning": "Banbrytande idéer inom industriell utveckling",
        "BeskrivningEngelska": "Banbrytande idéer inom industriell utveckling",
        "Diarienummer": "2018-02741",
        "DiarienummerProgram": "2018-00547",
        "DokumentLista": [],
        "KontaktLista": [],
        "LankLista": [],
        "Publiceringsdatum": "2018-10-04T10:30:28",
        "Publik": 1,
        "Titel": "Banbrytande idéer inom industriell utveckling",
        "TitelEngelska": "Banbrytande idéer inom industriell utveckling"
       },
       {
        "AnsokningsomgangDnrLista": [
         {
          "DiarienummerAnsokningsomgang": "2017-04951"
         },
         {
          "DiarienummerAnsokningsomgang": "2018-02314"
         },
         {
          "DiarienummerAnsokningsomgang": "2018-02315"
         },
         {
          "DiarienummerAnsokningsomgang": "2018-02829"
         },
         {
          "DiarienummerAnsokningsomgang": "2018-03008"
         },
         {
          "DiarienummerAnsokningsomgang": "2018-03342"
         },
         {
          "DiarienummerAnsokningsomgang": "2018-04749"
         }
        ],
        "Beskrivning": "Social innovation strategiska projekt",
        "BeskrivningEngelska": "Social innovation strategic projects",
        "Diarienummer": "2018-02797",
        "DiarienummerProgram": "2014-06313",
        "DokumentLista": [],
        "KontaktLista": [],
        "LankLista": [],
        "Publiceringsdatum": "2018-06-21T09:00:26",
        "Publik": 1,
        "Titel": "Social innovation strategiska projekt",
        "TitelEngelska": "Social innovation strategic projects"
       },
       {
        "AnsokningsomgangDnrLista": [],
        "Beskrivning": "Makulerad på grund av felregistrering. Social innovation strategiska projekt 2018",
        "BeskrivningEngelska": "Social innovation strategic projects",
        "Diarienummer": "2018-02798",
        "DiarienummerProgram": "2014-06313",
        "DokumentLista": [],
        "KontaktLista": [],
        "LankLista": [],
        "Publiceringsdatum": "2018-06-19T13:30:32",
        "Publik": 1,
        "Titel": "Makulerad på grund av felregistrering. Social innovation strategiska projekt 2018",
        "TitelEngelska": "Social innovation strategic projects"
       },
       {
        "AnsokningsomgangDnrLista": [],
        "Beskrivning": "Makulerad på grund av felregistrering. Strategiska projekt ",
        "BeskrivningEngelska": "Social innovation strategic projects",
        "Diarienummer": "2018-02799",
        "DiarienummerProgram": "2014-06313",
        "DokumentLista": [],
        "KontaktLista": [],
        "LankLista": [],
        "Publiceringsdatum": "2018-06-19T13:30:33",
        "Publik": 1,
        "Titel": "Makulerad på grund av felregistrering. Strategiska projekt ",
        "TitelEngelska": "Social innovation strategic projects"
       },
       {
        "AnsokningsomgangDnrLista": [
         {
          "DiarienummerAnsokningsomgang": "2018-02823"
         }
        ],
        "Beskrivning": "Strategiska internationella satsningar omfattar projekt som  ligger utanför ordinarie utlysningar inom programmet.",
        "BeskrivningEngelska": "Strategic international initiatives",
        "Diarienummer": "2018-02801",
        "DiarienummerProgram": "2011-00500",
        "DokumentLista": [],
        "KontaktLista": [],
        "LankLista": [],
        "Publiceringsdatum": "2018-11-12T13:30:25",
        "Publik": 0,
        "Titel": "Strategiska internationella satsningar ",
        "TitelEngelska": "Strategic international initiatives"
       },
       {
        "AnsokningsomgangDnrLista": [
         {
          "DiarienummerAnsokningsomgang": "2018-02828"
         },
         {
          "DiarienummerAnsokningsomgang": "2018-05241"
         }
        ],
        "Beskrivning": "Samverkan 2018",
        "BeskrivningEngelska": "x",
        "Diarienummer": "2018-02827",
        "DiarienummerProgram": "2003-00420",
        "DokumentLista": [],
        "KontaktLista": [],
        "LankLista": [],
        "Publiceringsdatum": "2018-12-13T13:30:13",
        "Publik": 1,
        "Titel": "Samverkan 2018",
        "TitelEngelska": "x"
       },
       {
        "AnsokningsomgangDnrLista": [
         {
          "DiarienummerAnsokningsomgang": "2018-02866"
         },
         {
          "DiarienummerAnsokningsomgang": "2019-00807"
         }
        ],
        "Beskrivning": "Strategiska projekt AI",
        "BeskrivningEngelska": "x",
        "Diarienummer": "2018-02864",
        "DiarienummerProgram": "2003-00420",
        "DokumentLista": [],
        "KontaktLista": [],
        "LankLista": [],
        "Publiceringsdatum": "2019-01-30T09:00:25",
        "Publik": 1,
        "Titel": "Strategiska projekt AI",
        "TitelEngelska": "x"
       },
       {
        "AnsokningsomgangDnrLista": [
         {
          "DiarienummerAnsokningsomgang": "2018-02983"
         }
        ],
        "Beskrivning": "Transportsamverkan (Forum, CTS m m)  2018",
        "BeskrivningEngelska": "x",
        "Diarienummer": "2018-02979",
        "DiarienummerProgram": "2003-00420",
        "DokumentLista": [],
        "KontaktLista": [],
        "LankLista": [],
        "Publiceringsdatum": "2018-06-28T13:30:34",
        "Publik": 1,
        "Titel": "Transportsamverkan (Forum, CTS m m)  2018",
        "TitelEngelska": "x"
       },
       {
        "AnsokningsomgangDnrLista": [
         {
          "DiarienummerAnsokningsomgang": "2018-04025"
         },
         {
          "DiarienummerAnsokningsomgang": "2018-04028"
         },
         {
          "DiarienummerAnsokningsomgang": "2019-01559"
         }
        ],
        "Beskrivning": "Utmaningsdriven innovation - Go Global",
        "BeskrivningEngelska": "x",
        "Diarienummer": "2018-02994",
        "DiarienummerProgram": "2011-01544",
        "DokumentLista": [],
        "KontaktLista": [],
        "LankLista": [],
        "Publiceringsdatum": "2019-03-05T09:00:20",
        "Publik": 1,
        "Titel": "Utmaningsdriven innovation - Go Global",
        "TitelEngelska": "x"
       },
       {
        "AnsokningsomgangDnrLista": [
         {
          "DiarienummerAnsokningsomgang": "2018-04747"
         }
        ],
        "Beskrivning": "Enskilda projekt : Forskningsinfrastruktur -nyttiggörande och samverkan",
        "BeskrivningEngelska": "..",
        "Diarienummer": "2018-03053",
        "DiarienummerProgram": "2018-00584",
        "DokumentLista": [],
        "KontaktLista": [],
        "LankLista": [],
        "Publiceringsdatum": "2018-11-29T14:30:23",
        "Publik": 0,
        "Titel": "Enskilda projekt : Forskningsinfrastruktur -nyttiggörande och samverkan",
        "TitelEngelska": "."
       },
       {
        "AnsokningsomgangDnrLista": [
         {
          "DiarienummerAnsokningsomgang": "2018-03300"
         },
         {
          "DiarienummerAnsokningsomgang": "2019-01906"
         }
        ],
        "Beskrivning": "Silicon Valley 2018 ",
        "BeskrivningEngelska": "Silicon Valley 2018 ",
        "Diarienummer": "2018-03297",
        "DiarienummerProgram": "2018-02992",
        "DokumentLista": [],
        "KontaktLista": [],
        "LankLista": [],
        "Publiceringsdatum": "2018-09-05T09:00:27",
        "Publik": 1,
        "Titel": "Silicon Valley 2018 ",
        "TitelEngelska": "Silicon Valley 2018 "
       },
       {
        "AnsokningsomgangDnrLista": [
         {
          "DiarienummerAnsokningsomgang": "2018-03982"
         }
        ],
        "Beskrivning": "Innovations- och IP-checkar",
        "BeskrivningEngelska": "Innovations- och IP-checkar",
        "Diarienummer": "2018-03846",
        "DiarienummerProgram": "2009-02173",
        "DokumentLista": [],
        "KontaktLista": [],
        "LankLista": [],
        "Publiceringsdatum": "2018-10-22T16:00:59",
        "Publik": 1,
        "Titel": "Innovations- och IP-checkar",
        "TitelEngelska": "Innovations- och IP-checkar"
       },
       {
        "AnsokningsomgangDnrLista": [
         {
          "DiarienummerAnsokningsomgang": "2018-04475"
         },
         {
          "DiarienummerAnsokningsomgang": "2019-01169"
         }
        ],
        "Beskrivning": "Utlysningen görs i samverkan mellan Swelife och MedTech4Health, två nationella strategiska innovationsprogram inom life science. Genom Swelife och Medtech4Health samverkar vården, akademin och näringslivet med avsikten att ta till vara och stärka Sveriges goda förutsättningar att förbli världsledande inom life science. Det gemensamma syftet med utlysningen är att främja förnyelse och innovation för en mer värdeskapande hälso- och sjukvård samt öka tillväxten inom life science-sektorn i Sverige.",
        "BeskrivningEngelska": "Swelife and Medtech4Health - Collaborative Projects for Improved Health ",
        "Diarienummer": "2018-03850",
        "DiarienummerProgram": "2014-04013",
        "DokumentLista": [],
        "KontaktLista": [
         {
          "Epost": "jonas.tranell@vinnova.se",
          "KontaktID": 12775470,
          "Namn": "Jonas Tranell",
          "Roll": "Kontaktperson angående bedömningsprocessen, juridiska frågor och övriga frågor om utlysningens innehåll",
          "Telefon": "46 8 473 30 73"
         },
         {
          "Epost": "pontus.vonbahr@vinnova.se",
          "KontaktID": 12775471,
          "Namn": "Pontus von Bahr",
          "Roll": "Kontaktperson angående bedömningsprocessen, juridiska frågor och övriga frågor om utlysningens innehåll",
          "Telefon": "46 8 473 30 91"
         },
         {
          "Epost": "maria.olsson@vinnova.se",
          "KontaktID": 12775477,
          "Namn": "Maria Olsson",
          "Roll": "Kontaktperson angående administrativa frågor",
          "Telefon": "46 8 473 31 18 "
         },
         {
          "Epost": "asa.wallin@swelife.se",
          "KontaktID": 12775492,
          "Namn": "Åsa Wallin",
          "Roll": "Kontaktperson angående utlysningens bakgrund, syfte och önskade effekter",
          "Telefon": "070 085 05 10"
         },
         {
          "Epost": "frida.lindberg@medtech4health.se",
          "KontaktID": 12775493,
          "Namn": "Frida  Lindberg",
          "Roll": "Kontaktperson angående utlysningens bakgrund, syfte och önskade effekter",
          "Telefon": "070 191 81 73"
         },
         {
          "Epost": "caroline.ekstrand@vinnova.se",
          "KontaktID": 12869682,
          "Namn": "Caroline Ekstrand",
          "Roll": "Kontaktperson angående bedömningsprocessen, juridiska frågor och övriga frågor om utlysningens innehåll",
          "Telefon": "46 8 473 30 27"
         },
         {
          "Epost": "anna.tegnesjo@vinnova.se",
          "KontaktID": 12870913,
          "Namn": "Anna Tegnesjö",
          "Roll": "Kontaktperson angående bedömningsprocessen, juridiska frågor och övriga frågor om utlysningens innehåll",
          "Telefon": "46 8 473 31 62"
         }
        ],
        "LankLista": [],
        "Publiceringsdatum": "2019-02-05T15:00:18",
        "Publik": 1,
        "Titel": "Swelife och Medtech4Health - Samverkansprojekt för bättre hälsa ",
        "TitelEngelska": "Swelife and Medtech4Health - Collaborative Projects for Improved Health "
       },
       {
        "AnsokningsomgangDnrLista": [
         {
          "DiarienummerAnsokningsomgang": "2018-04449"
         }
        ],
        "Beskrivning": "Strategiskt deltagande i Horisont 2020",
        "BeskrivningEngelska": "Strategic participation in Horizon 2020",
        "Diarienummer": "2018-04441",
        "DiarienummerProgram": "2013-02062",
        "DokumentLista": [],
        "KontaktLista": [],
        "LankLista": [],
        "Publiceringsdatum": "2018-11-16T09:00:13",
        "Publik": 1,
        "Titel": "Strategiskt deltagande i Horisont 2020",
        "TitelEngelska": "Strategic participation in Horizon 2020"
       },
       {
        "AnsokningsomgangDnrLista": [],
        "Beskrivning": "På grund av felregistrering. För att accelerera arbetet mot en mer jämställd och jämlik samhällsutveckling krävs nya typer av samarbeten, angreppsätt och innovativa lösningar. Här listar vi aktuella tillfällen att söka finansiering inom erbjudandet.",
        "BeskrivningEngelska": "To accelerate work towards a more equal society, new types of collaborations, approaches and innovative solutions are required. Here we list current opportunities to apply for funding within the offer.",
        "Diarienummer": "2018-04520",
        "DiarienummerProgram": "2009-02191",
        "DokumentLista": [],
        "KontaktLista": [],
        "LankLista": [],
        "Publiceringsdatum": "2018-11-09T11:00:08",
        "Publik": 1,
        "Titel": "På grund av felregistrering. Innovationer för ökad jämställdhet och jämlikhet",
        "TitelEngelska": "Innovations for increased equality"
       },
       {
        "AnsokningsomgangDnrLista": [
         {
          "DiarienummerAnsokningsomgang": "2018-04544"
         },
         {
          "DiarienummerAnsokningsomgang": "2018-05234"
         }
        ],
        "Beskrivning": "Viable Cities - Strategiska projekt",
        "BeskrivningEngelska": "x",
        "Diarienummer": "2018-04543",
        "DiarienummerProgram": "2017-04266",
        "DokumentLista": [],
        "KontaktLista": [],
        "LankLista": [],
        "Publiceringsdatum": "2018-12-12T15:30:18",
        "Publik": 1,
        "Titel": "Viable Cities - Strategiska projekt",
        "TitelEngelska": "x"
       },
       {
        "AnsokningsomgangDnrLista": [
         {
          "DiarienummerAnsokningsomgang": "2018-04589"
         }
        ],
        "Beskrivning": "Strategisk samverkan med Silicon Valley",
        "BeskrivningEngelska": "x",
        "Diarienummer": "2018-04587",
        "DiarienummerProgram": "2015-07014",
        "DokumentLista": [],
        "KontaktLista": [],
        "LankLista": [],
        "Publiceringsdatum": "2018-11-06T13:30:10",
        "Publik": 1,
        "Titel": "Strategisk samverkan med Silicon Valley",
        "TitelEngelska": "x"
       },
       {
        "AnsokningsomgangDnrLista": [
         {
          "DiarienummerAnsokningsomgang": "2018-04722"
         }
        ],
        "Beskrivning": "Internationalisering Drive Sweden",
        "BeskrivningEngelska": "x",
        "Diarienummer": "2018-04721",
        "DiarienummerProgram": "2015-07014",
        "DokumentLista": [],
        "KontaktLista": [],
        "LankLista": [],
        "Publiceringsdatum": "2018-11-16T09:00:19",
        "Publik": 1,
        "Titel": "Internationalisering Drive Sweden",
        "TitelEngelska": "x"
       },
       {
        "AnsokningsomgangDnrLista": [
         {
          "DiarienummerAnsokningsomgang": "2018-05287"
         },
         {
          "DiarienummerAnsokningsomgang": "2018-05294"
         },
         {
          "DiarienummerAnsokningsomgang": "2019-02154"
         }
        ],
        "Beskrivning": "Satsningar som bidrar till prioriteringar inom regeringens strategiska samverkansprogram ",
        "BeskrivningEngelska": "x",
        "Diarienummer": "2018-05281",
        "DiarienummerProgram": "2003-00314",
        "DokumentLista": [],
        "KontaktLista": [],
        "LankLista": [],
        "Publiceringsdatum": "2019-03-21T16:00:15",
        "Publik": 1,
        "Titel": "Satsningar som bidrar till prioriteringar inom regeringens strategiska samverkansprogram ",
        "TitelEngelska": "x"
       },
       {
        "AnsokningsomgangDnrLista": [
         {
          "DiarienummerAnsokningsomgang": "2019-00076"
         }
        ],
        "Beskrivning": "Resebidrag 2019 Utlysning",
        "BeskrivningEngelska": "Travelgrant 2019",
        "Diarienummer": "2019-00011",
        "DiarienummerProgram": "2011-00500",
        "DokumentLista": [],
        "KontaktLista": [],
        "LankLista": [],
        "Publiceringsdatum": "2019-01-09T11:00:22",
        "Publik": 1,
        "Titel": "Resebidrag 2019 Utlysning",
        "TitelEngelska": "Travelgrant 2019"
       },
       {
        "AnsokningsomgangDnrLista": [
         {
          "DiarienummerAnsokningsomgang": "2019-00090"
         }
        ],
        "Beskrivning": "European Joint Programme on Rare Diseases",
        "BeskrivningEngelska": "European Joint Programme on Rare Diseases",
        "Diarienummer": "2019-00087",
        "DiarienummerProgram": "2003-00409",
        "DokumentLista": [],
        "KontaktLista": [],
        "LankLista": [],
        "Publiceringsdatum": "2019-01-14T10:00:05",
        "Publik": 1,
        "Titel": "European Joint Programme on Rare Diseases",
        "TitelEngelska": "European Joint Programme on Rare Diseases"
       },
       {
        "AnsokningsomgangDnrLista": [
         {
          "DiarienummerAnsokningsomgang": "2019-00796"
         }
        ],
        "Beskrivning": "Testbäddar inom miljöteknikområdet - särskild ansökningsomgång 2019",
        "BeskrivningEngelska": "x",
        "Diarienummer": "2019-00795",
        "DiarienummerProgram": "2012-03291",
        "DokumentLista": [],
        "KontaktLista": [],
        "LankLista": [],
        "Publiceringsdatum": "2019-01-23T13:30:28",
        "Publik": 1,
        "Titel": "Testbäddar inom miljöteknikområdet - särskild ansökningsomgång 2019",
        "TitelEngelska": "x"
       },
       {
        "AnsokningsomgangDnrLista": [
         {
          "DiarienummerAnsokningsomgang": "2019-01037"
         },
         {
          "DiarienummerAnsokningsomgang": "2019-01557"
         }
        ],
        "Beskrivning": "Kraftsamling kring Artificiell Intelligens",
        "BeskrivningEngelska": "AI strategy",
        "Diarienummer": "2019-00810",
        "DiarienummerProgram": "2017-04266",
        "DokumentLista": [],
        "KontaktLista": [],
        "LankLista": [],
        "Publiceringsdatum": "2019-03-29T13:00:16",
        "Publik": 0,
        "Titel": "Kraftsamling kring AI - Viable Cities",
        "TitelEngelska": "AI strategy"
       },
       {
        "AnsokningsomgangDnrLista": [
         {
          "DiarienummerAnsokningsomgang": "2019-01035"
         }
        ],
        "Beskrivning": "Kraftsamling kring Artificiell Intelligens ",
        "BeskrivningEngelska": "AI strategy for - Re:Source",
        "Diarienummer": "2019-00811",
        "DiarienummerProgram": "2015-07133",
        "DokumentLista": [],
        "KontaktLista": [],
        "LankLista": [],
        "Publiceringsdatum": "2019-01-30T16:00:05",
        "Publik": 0,
        "Titel": "Kraftsamling kring AI - Re:Source",
        "TitelEngelska": "AI strategy for - Re:Source"
       },
       {
        "AnsokningsomgangDnrLista": [
         {
          "DiarienummerAnsokningsomgang": "2019-01036"
         }
        ],
        "Beskrivning": "Kraftsamling kring Artificiell Intelligens - Smart Built Environment",
        "BeskrivningEngelska": "AI Strategy for Smart Built Environment",
        "Diarienummer": "2019-00812",
        "DiarienummerProgram": "2016-03527",
        "DokumentLista": [],
        "KontaktLista": [],
        "LankLista": [],
        "Publiceringsdatum": "2019-01-30T16:00:21",
        "Publik": 0,
        "Titel": "Kraftsamling kring AI - Smart Built Environment",
        "TitelEngelska": "AI Strategy for Smart Built Environment"
       },
       {
        "AnsokningsomgangDnrLista": [
         {
          "DiarienummerAnsokningsomgang": "2019-00827"
         }
        ],
        "Beskrivning": "Innovationer för hållbart samhälle - 2019",
        "BeskrivningEngelska": "x",
        "Diarienummer": "2019-00825",
        "DiarienummerProgram": "2013-00117",
        "DokumentLista": [],
        "KontaktLista": [],
        "LankLista": [],
        "Publiceringsdatum": "2019-01-29T09:00:04",
        "Publik": 1,
        "Titel": "Innovationer för hållbart samhälle - 2019",
        "TitelEngelska": "x"
       },
       {
        "AnsokningsomgangDnrLista": [
         {
          "DiarienummerAnsokningsomgang": "2019-01097"
         }
        ],
        "Beskrivning": "AI - Särskilda insatser inom programmet Artificiell intelligens",
        "BeskrivningEngelska": "Specific initiatives in the program Artificial intelligence ",
        "Diarienummer": "2019-01050",
        "DiarienummerProgram": "2019-00804",
        "DokumentLista": [],
        "KontaktLista": [],
        "LankLista": [],
        "Publiceringsdatum": "2019-02-13T14:00:29",
        "Publik": 1,
        "Titel": "AI - Särskilda insatser inom programmet Artificiell intelligens",
        "TitelEngelska": "Specific initiatives in the program Artificial intelligence "
       },
       {
        "AnsokningsomgangDnrLista": [],
        "Beskrivning": "AI - data och infrastruktur",
        "BeskrivningEngelska": "AI - data and infrastructure",
        "Diarienummer": "2019-01051",
        "DiarienummerProgram": "2019-00804",
        "DokumentLista": [],
        "KontaktLista": [],
        "LankLista": [],
        "Publiceringsdatum": "2019-02-01T14:00:45",
        "Publik": 1,
        "Titel": "AI - data och infrastruktur",
        "TitelEngelska": "AI - data and infrastructure"
       },
       {
        "AnsokningsomgangDnrLista": [
         {
          "DiarienummerAnsokningsomgang": "2019-01308"
         }
        ],
        "Beskrivning": "Från AI-forskning till innovation",
        "BeskrivningEngelska": "AI - from research to innovation",
        "Diarienummer": "2019-01052",
        "DiarienummerProgram": "2019-00804",
        "DokumentLista": [],
        "KontaktLista": [],
        "LankLista": [],
        "Publiceringsdatum": "2019-04-08T11:30:34",
        "Publik": 1,
        "Titel": "Från AI-forskning till innovation",
        "TitelEngelska": "AI - from research to innovation"
       },
       {
        "AnsokningsomgangDnrLista": [
         {
          "DiarienummerAnsokningsomgang": "2019-01292"
         }
        ],
        "Beskrivning": "AI - kompetens, kapacitet och förmåga",
        "BeskrivningEngelska": "AI - competence, capacity and capability ",
        "Diarienummer": "2019-01053",
        "DiarienummerProgram": "2019-00804",
        "DokumentLista": [],
        "KontaktLista": [],
        "LankLista": [],
        "Publiceringsdatum": "2019-02-15T09:00:14",
        "Publik": 1,
        "Titel": "AI - kompetens, kapacitet och förmåga",
        "TitelEngelska": "AI - competence, capacity and capability "
       },
       {
        "AnsokningsomgangDnrLista": [],
        "Beskrivning": "Innovationsplattformar hösten 2019",
        "BeskrivningEngelska": "Innovation platforms",
        "Diarienummer": "2019-01182",
        "DiarienummerProgram": "2003-00314",
        "DokumentLista": [],
        "KontaktLista": [],
        "LankLista": [],
        "Publiceringsdatum": "2019-03-14T15:00:19",
        "Publik": 1,
        "Titel": "Innovationsplattformar hösten 2019",
        "TitelEngelska": "Innovation platforms"
       },
       {
        "AnsokningsomgangDnrLista": [],
        "Beskrivning": "Biologiska läkemedel-5",
        "BeskrivningEngelska": "Next-Generation Biologics 5",
        "Diarienummer": "2019-01191",
        "DiarienummerProgram": "2016-02206",
        "DokumentLista": [],
        "KontaktLista": [],
        "LankLista": [],
        "Publiceringsdatum": "2019-02-11T16:00:47",
        "Publik": 1,
        "Titel": "Biologiska läkemedel-5",
        "TitelEngelska": "Next-Generation Biologics 5"
       },
       {
        "AnsokningsomgangDnrLista": [],
        "Beskrivning": "Ett finansieringserbjudande för små och medelstora företag",
        "BeskrivningEngelska": "A funding opportunity for small och medium-sized enterprises",
        "Diarienummer": "2019-01197",
        "DiarienummerProgram": "2009-02172",
        "DokumentLista": [],
        "KontaktLista": [],
        "LankLista": [],
        "Publiceringsdatum": "2019-02-13T13:30:21",
        "Publik": 1,
        "Titel": "Innovationsprojekt i företag 2019",
        "TitelEngelska": "Innovation Projects in Enterprises 2019"
       },
       {
        "AnsokningsomgangDnrLista": [
         {
          "DiarienummerAnsokningsomgang": "2019-01560"
         }
        ],
        "Beskrivning": "Policylabb",
        "BeskrivningEngelska": "Policylab",
        "Diarienummer": "2019-01338",
        "DiarienummerProgram": "2012-01393",
        "DokumentLista": [],
        "KontaktLista": [],
        "LankLista": [],
        "Publiceringsdatum": "2019-03-05T10:00:16",
        "Publik": 1,
        "Titel": "Policylabb",
        "TitelEngelska": "Policylab"
       },
       {
        "AnsokningsomgangDnrLista": [
         {
          "DiarienummerAnsokningsomgang": "2019-01558"
         }
        ],
        "Beskrivning": "SKL överenskommelse",
        "BeskrivningEngelska": "X",
        "Diarienummer": "2019-01348",
        "DiarienummerProgram": "2012-01393",
        "DokumentLista": [],
        "KontaktLista": [],
        "LankLista": [],
        "Publiceringsdatum": "2019-03-05T14:30:34",
        "Publik": 1,
        "Titel": "SKL överenskommelse",
        "TitelEngelska": "X"
       },
       {
        "AnsokningsomgangDnrLista": [
         {
          "DiarienummerAnsokningsomgang": "2019-02078"
         }
        ],
        "Beskrivning": "Strategiskt bidrag till svenska deltagare i EU:s Fet-flagship piloter ",
        "BeskrivningEngelska": "Strategic grant for Swedish participants in EUs Fet-flagship pilots",
        "Diarienummer": "2019-02048",
        "DiarienummerProgram": "2013-02062",
        "DokumentLista": [],
        "KontaktLista": [],
        "LankLista": [],
        "Publiceringsdatum": "2019-03-14T06:30:04",
        "Publik": 1,
        "Titel": "Strategiskt bidrag till svenska deltagare i EU:s Fet-flagship piloter ",
        "TitelEngelska": "Strategic grant for Swedish participants in EUs Fet-flagship pilots"
       },
       {
        "AnsokningsomgangDnrLista": [
         {
          "DiarienummerAnsokningsomgang": "2019-02221"
         }
        ],
        "Beskrivning": "Samverkan mellan Vinnova och GITA (utförarorganisation under Department of Science and Technology, Indien) för stöd till bilaterala industriella och företagsledda forsknings- och innovationssamarbeten med parter i bägge länderna. ",
        "BeskrivningEngelska": "Collaboration between Vinnova and GITA (executing organization under the Department of Science and Technology, India) for support of bilateral industrial and company-led research and innovation collaborations with parties in both countries.",
        "Diarienummer": "2019-02167",
        "DiarienummerProgram": "2011-00500",
        "DokumentLista": [],
        "KontaktLista": [],
        "LankLista": [],
        "Publiceringsdatum": "2019-04-02T09:30:16",
        "Publik": 1,
        "Titel": "Indisk-svenskt samarbete för industriella forsknings- och innovationsprojekt 2019",
        "TitelEngelska": "India- Sweden\r\nCollaborative Industrial\r\nResearch & Development Program \r\nRequest for Proposal - 2019\r\n"
       },
       {
        "AnsokningsomgangDnrLista": [
         {
          "DiarienummerAnsokningsomgang": "2019-02220"
         }
        ],
        "Beskrivning": "Processledningsstöd Innovationsledning",
        "BeskrivningEngelska": "  ",
        "Diarienummer": "2019-02168",
        "DiarienummerProgram": "2013-01243",
        "DokumentLista": [],
        "KontaktLista": [],
        "LankLista": [],
        "Publiceringsdatum": "2019-04-02T11:30:19",
        "Publik": 0,
        "Titel": "Processledningsstöd Innovationsledning",
        "TitelEngelska": " "
       },
       {
        "AnsokningsomgangDnrLista": [
         {
          "DiarienummerAnsokningsomgang": "2019-02264"
         }
        ],
        "Beskrivning": "Smart City Sweden - övrigt",
        "BeskrivningEngelska": "x",
        "Diarienummer": "2019-02263",
        "DiarienummerProgram": "2009-02218",
        "DokumentLista": [],
        "KontaktLista": [],
        "LankLista": [],
        "Publiceringsdatum": "2019-04-05T13:30:23",
        "Publik": 1,
        "Titel": "Smart City Sweden - övrigt",
        "TitelEngelska": "x"
       }
      ],
      "text/plain": [
       "<IPython.core.display.JSON object>"
      ]
     },
     "execution_count": 11,
     "metadata": {
      "application/json": {
       "expanded": false,
       "root": "root"
      }
     },
     "output_type": "execute_result"
    }
   ],
   "source": [
    "# Call the API\n",
    "req = requests.get(urlProposals)\n",
    "req.status_code\n",
    "# Ensure we fail fast if the web request failed\n",
    "req.raise_for_status()\n",
    "\n",
    "data = json.loads(req.text)\n",
    "JSON(data)"
   ]
  },
  {
   "cell_type": "code",
   "execution_count": 34,
   "metadata": {},
   "outputs": [
    {
     "data": {
      "text/plain": [
       "361"
      ]
     },
     "execution_count": 34,
     "metadata": {},
     "output_type": "execute_result"
    }
   ],
   "source": [
    "import pandas as pd\n",
    "from pandas.io.json import json_normalize\n",
    "\n",
    "df = json_normalize(data)\n",
    "len(df.index)"
   ]
  },
  {
   "cell_type": "code",
   "execution_count": null,
   "metadata": {},
   "outputs": [],
   "source": []
  },
  {
   "cell_type": "code",
   "execution_count": 30,
   "metadata": {},
   "outputs": [
    {
     "data": {
      "text/html": [
       "<div>\n",
       "<style scoped>\n",
       "    .dataframe tbody tr th:only-of-type {\n",
       "        vertical-align: middle;\n",
       "    }\n",
       "\n",
       "    .dataframe tbody tr th {\n",
       "        vertical-align: top;\n",
       "    }\n",
       "\n",
       "    .dataframe thead th {\n",
       "        text-align: right;\n",
       "    }\n",
       "</style>\n",
       "<table border=\"1\" class=\"dataframe\">\n",
       "  <thead>\n",
       "    <tr style=\"text-align: right;\">\n",
       "      <th></th>\n",
       "      <th>AnsokningsomgangDnrLista</th>\n",
       "      <th>Beskrivning</th>\n",
       "      <th>BeskrivningEngelska</th>\n",
       "      <th>Diarienummer</th>\n",
       "      <th>DiarienummerProgram</th>\n",
       "      <th>DokumentLista</th>\n",
       "      <th>KontaktLista</th>\n",
       "      <th>LankLista</th>\n",
       "      <th>Publiceringsdatum</th>\n",
       "      <th>Publik</th>\n",
       "      <th>Titel</th>\n",
       "      <th>TitelEngelska</th>\n",
       "    </tr>\n",
       "  </thead>\n",
       "  <tbody>\n",
       "    <tr>\n",
       "      <th>134</th>\n",
       "      <td>[{'DiarienummerAnsokningsomgang': '2015-00063'...</td>\n",
       "      <td>Strategiska Innovationsprogrammet BioInnovation</td>\n",
       "      <td>BioInnovation</td>\n",
       "      <td>2015-00048</td>\n",
       "      <td>2014-04014</td>\n",
       "      <td>[]</td>\n",
       "      <td>[{'Namn': 'Bengt Larsson', 'Telefon': '08-473 ...</td>\n",
       "      <td>[]</td>\n",
       "      <td>2019-04-08T17:00:16</td>\n",
       "      <td>1</td>\n",
       "      <td>Strategiska Innovationsprogrammet BioInnovation</td>\n",
       "      <td>BioInnovation</td>\n",
       "    </tr>\n",
       "    <tr>\n",
       "      <th>350</th>\n",
       "      <td>[{'DiarienummerAnsokningsomgang': '2019-01308'}]</td>\n",
       "      <td>Från AI-forskning till innovation</td>\n",
       "      <td>AI - from research to innovation</td>\n",
       "      <td>2019-01052</td>\n",
       "      <td>2019-00804</td>\n",
       "      <td>[]</td>\n",
       "      <td>[]</td>\n",
       "      <td>[]</td>\n",
       "      <td>2019-04-08T11:30:34</td>\n",
       "      <td>1</td>\n",
       "      <td>Från AI-forskning till innovation</td>\n",
       "      <td>AI - from research to innovation</td>\n",
       "    </tr>\n",
       "    <tr>\n",
       "      <th>360</th>\n",
       "      <td>[{'DiarienummerAnsokningsomgang': '2019-02264'}]</td>\n",
       "      <td>Smart City Sweden - övrigt</td>\n",
       "      <td>x</td>\n",
       "      <td>2019-02263</td>\n",
       "      <td>2009-02218</td>\n",
       "      <td>[]</td>\n",
       "      <td>[]</td>\n",
       "      <td>[]</td>\n",
       "      <td>2019-04-05T13:30:23</td>\n",
       "      <td>1</td>\n",
       "      <td>Smart City Sweden - övrigt</td>\n",
       "      <td>x</td>\n",
       "    </tr>\n",
       "    <tr>\n",
       "      <th>178</th>\n",
       "      <td>[{'DiarienummerAnsokningsomgang': '2015-06972'...</td>\n",
       "      <td>Strategiska innovationsprogrammet  InfraSweden...</td>\n",
       "      <td>x</td>\n",
       "      <td>2015-06971</td>\n",
       "      <td>2015-06114</td>\n",
       "      <td>[{'Titel': 'SIP InfraSweden2030  -  Klimatneut...</td>\n",
       "      <td>[{'Namn': 'Camilla Byström', 'Telefon': '073-7...</td>\n",
       "      <td>[]</td>\n",
       "      <td>2019-04-03T15:30:19</td>\n",
       "      <td>1</td>\n",
       "      <td>Strategiska innovationsprogrammet InfraSweden2...</td>\n",
       "      <td>x</td>\n",
       "    </tr>\n",
       "    <tr>\n",
       "      <th>179</th>\n",
       "      <td>[{'DiarienummerAnsokningsomgang': '2015-07036'...</td>\n",
       "      <td>Långsiktig insats för kompetens och utveckling...</td>\n",
       "      <td>Data-driven innovation</td>\n",
       "      <td>2015-07023</td>\n",
       "      <td>2012-00741</td>\n",
       "      <td>[{'Titel': 'Datadrivna labb 2017 rev20170324',...</td>\n",
       "      <td>[]</td>\n",
       "      <td>[]</td>\n",
       "      <td>2019-04-03T14:00:47</td>\n",
       "      <td>1</td>\n",
       "      <td>Datadriven innovation</td>\n",
       "      <td>Data-driven innovation</td>\n",
       "    </tr>\n",
       "  </tbody>\n",
       "</table>\n",
       "</div>"
      ],
      "text/plain": [
       "                              AnsokningsomgangDnrLista  \\\n",
       "134  [{'DiarienummerAnsokningsomgang': '2015-00063'...   \n",
       "350   [{'DiarienummerAnsokningsomgang': '2019-01308'}]   \n",
       "360   [{'DiarienummerAnsokningsomgang': '2019-02264'}]   \n",
       "178  [{'DiarienummerAnsokningsomgang': '2015-06972'...   \n",
       "179  [{'DiarienummerAnsokningsomgang': '2015-07036'...   \n",
       "\n",
       "                                           Beskrivning  \\\n",
       "134    Strategiska Innovationsprogrammet BioInnovation   \n",
       "350                  Från AI-forskning till innovation   \n",
       "360                         Smart City Sweden - övrigt   \n",
       "178  Strategiska innovationsprogrammet  InfraSweden...   \n",
       "179  Långsiktig insats för kompetens och utveckling...   \n",
       "\n",
       "                  BeskrivningEngelska Diarienummer DiarienummerProgram  \\\n",
       "134                     BioInnovation   2015-00048          2014-04014   \n",
       "350  AI - from research to innovation   2019-01052          2019-00804   \n",
       "360                                 x   2019-02263          2009-02218   \n",
       "178                                 x   2015-06971          2015-06114   \n",
       "179            Data-driven innovation   2015-07023          2012-00741   \n",
       "\n",
       "                                         DokumentLista  \\\n",
       "134                                                 []   \n",
       "350                                                 []   \n",
       "360                                                 []   \n",
       "178  [{'Titel': 'SIP InfraSweden2030  -  Klimatneut...   \n",
       "179  [{'Titel': 'Datadrivna labb 2017 rev20170324',...   \n",
       "\n",
       "                                          KontaktLista LankLista  \\\n",
       "134  [{'Namn': 'Bengt Larsson', 'Telefon': '08-473 ...        []   \n",
       "350                                                 []        []   \n",
       "360                                                 []        []   \n",
       "178  [{'Namn': 'Camilla Byström', 'Telefon': '073-7...        []   \n",
       "179                                                 []        []   \n",
       "\n",
       "       Publiceringsdatum  Publik  \\\n",
       "134  2019-04-08T17:00:16       1   \n",
       "350  2019-04-08T11:30:34       1   \n",
       "360  2019-04-05T13:30:23       1   \n",
       "178  2019-04-03T15:30:19       1   \n",
       "179  2019-04-03T14:00:47       1   \n",
       "\n",
       "                                                 Titel  \\\n",
       "134    Strategiska Innovationsprogrammet BioInnovation   \n",
       "350                  Från AI-forskning till innovation   \n",
       "360                         Smart City Sweden - övrigt   \n",
       "178  Strategiska innovationsprogrammet InfraSweden2...   \n",
       "179                              Datadriven innovation   \n",
       "\n",
       "                        TitelEngelska  \n",
       "134                     BioInnovation  \n",
       "350  AI - from research to innovation  \n",
       "360                                 x  \n",
       "178                                 x  \n",
       "179            Data-driven innovation  "
      ]
     },
     "execution_count": 30,
     "metadata": {},
     "output_type": "execute_result"
    }
   ],
   "source": [
    "# Show the first entries\n",
    "df.sort_values(['Publiceringsdatum'], ascending=[False], inplace=True)\n",
    "df.head()"
   ]
  },
  {
   "cell_type": "code",
   "execution_count": 14,
   "metadata": {},
   "outputs": [
    {
     "data": {
      "text/plain": [
       "Index(['AnsokningsomgangDnrLista', 'Beskrivning', 'BeskrivningEngelska',\n",
       "       'Diarienummer', 'DiarienummerProgram', 'DokumentLista', 'KontaktLista',\n",
       "       'LankLista', 'Publiceringsdatum', 'Publik', 'Titel', 'TitelEngelska'],\n",
       "      dtype='object')"
      ]
     },
     "execution_count": 14,
     "metadata": {},
     "output_type": "execute_result"
    }
   ],
   "source": [
    "df.keys()"
   ]
  },
  {
   "cell_type": "code",
   "execution_count": 41,
   "metadata": {},
   "outputs": [
    {
     "data": {
      "text/html": [
       "<div>\n",
       "<style scoped>\n",
       "    .dataframe tbody tr th:only-of-type {\n",
       "        vertical-align: middle;\n",
       "    }\n",
       "\n",
       "    .dataframe tbody tr th {\n",
       "        vertical-align: top;\n",
       "    }\n",
       "\n",
       "    .dataframe thead th {\n",
       "        text-align: right;\n",
       "    }\n",
       "</style>\n",
       "<table border=\"1\" class=\"dataframe\">\n",
       "  <thead>\n",
       "    <tr style=\"text-align: right;\">\n",
       "      <th></th>\n",
       "      <th>Publiceringsdatum</th>\n",
       "      <th>Titel</th>\n",
       "      <th>Beskrivning</th>\n",
       "      <th>Diarienummer</th>\n",
       "    </tr>\n",
       "  </thead>\n",
       "  <tbody>\n",
       "    <tr>\n",
       "      <th>134</th>\n",
       "      <td>2019-04-08T17:00:16</td>\n",
       "      <td>Strategiska Innovationsprogrammet BioInnovation</td>\n",
       "      <td>Strategiska Innovationsprogrammet BioInnovation</td>\n",
       "      <td>2015-00048</td>\n",
       "    </tr>\n",
       "    <tr>\n",
       "      <th>350</th>\n",
       "      <td>2019-04-08T11:30:34</td>\n",
       "      <td>Från AI-forskning till innovation</td>\n",
       "      <td>Från AI-forskning till innovation</td>\n",
       "      <td>2019-01052</td>\n",
       "    </tr>\n",
       "    <tr>\n",
       "      <th>360</th>\n",
       "      <td>2019-04-05T13:30:23</td>\n",
       "      <td>Smart City Sweden - övrigt</td>\n",
       "      <td>Smart City Sweden - övrigt</td>\n",
       "      <td>2019-02263</td>\n",
       "    </tr>\n",
       "    <tr>\n",
       "      <th>178</th>\n",
       "      <td>2019-04-03T15:30:19</td>\n",
       "      <td>Strategiska innovationsprogrammet InfraSweden2...</td>\n",
       "      <td>Strategiska innovationsprogrammet  InfraSweden...</td>\n",
       "      <td>2015-06971</td>\n",
       "    </tr>\n",
       "    <tr>\n",
       "      <th>179</th>\n",
       "      <td>2019-04-03T14:00:47</td>\n",
       "      <td>Datadriven innovation</td>\n",
       "      <td>Långsiktig insats för kompetens och utveckling...</td>\n",
       "      <td>2015-07023</td>\n",
       "    </tr>\n",
       "    <tr>\n",
       "      <th>15</th>\n",
       "      <td>2019-04-03T13:00:24</td>\n",
       "      <td>FFI - Styrelse initierade projekt</td>\n",
       "      <td>FFI - Styrelse initierade projekt</td>\n",
       "      <td>2009-02335</td>\n",
       "    </tr>\n",
       "    <tr>\n",
       "      <th>5</th>\n",
       "      <td>2019-04-03T07:30:30</td>\n",
       "      <td>VINNMER Marie Curie international qualificatio...</td>\n",
       "      <td>Promotions and international mobility for rese...</td>\n",
       "      <td>2008-02331</td>\n",
       "    </tr>\n",
       "    <tr>\n",
       "      <th>112</th>\n",
       "      <td>2019-04-02T16:00:28</td>\n",
       "      <td>Strategiska innovationsprogrammet Smartare Ele...</td>\n",
       "      <td>Strategiska innovationsprogrammet för Smartare...</td>\n",
       "      <td>2014-04036</td>\n",
       "    </tr>\n",
       "    <tr>\n",
       "      <th>289</th>\n",
       "      <td>2019-04-02T16:00:27</td>\n",
       "      <td>SIP Smartare Elektroniksystem. Enskilda projek...</td>\n",
       "      <td>Enskilda projekt 2018-2020. SIP Smartare Elekt...</td>\n",
       "      <td>2017-05611</td>\n",
       "    </tr>\n",
       "    <tr>\n",
       "      <th>111</th>\n",
       "      <td>2019-04-02T16:00:27</td>\n",
       "      <td>SIP Smartare Elektroniksystem. Koordineringsme...</td>\n",
       "      <td>Koordineringsmedel Smartare Elektroniksystem. ...</td>\n",
       "      <td>2014-04035</td>\n",
       "    </tr>\n",
       "    <tr>\n",
       "      <th>359</th>\n",
       "      <td>2019-04-02T11:30:19</td>\n",
       "      <td>Processledningsstöd Innovationsledning</td>\n",
       "      <td>Processledningsstöd Innovationsledning</td>\n",
       "      <td>2019-02168</td>\n",
       "    </tr>\n",
       "    <tr>\n",
       "      <th>166</th>\n",
       "      <td>2019-04-02T10:00:21</td>\n",
       "      <td>VINNVÄXT 2016 fullständig ansökan</td>\n",
       "      <td>VINNVÄXT 2016 fullständig ansökan</td>\n",
       "      <td>2015-04958</td>\n",
       "    </tr>\n",
       "    <tr>\n",
       "      <th>358</th>\n",
       "      <td>2019-04-02T09:30:16</td>\n",
       "      <td>Indisk-svenskt samarbete för industriella fors...</td>\n",
       "      <td>Samverkan mellan Vinnova och GITA (utförarorga...</td>\n",
       "      <td>2019-02167</td>\n",
       "    </tr>\n",
       "    <tr>\n",
       "      <th>98</th>\n",
       "      <td>2019-04-01T15:00:31</td>\n",
       "      <td>Digitalisering för framtidens skola - Innovati...</td>\n",
       "      <td>Digitalisering för framtidens skola - Innovati...</td>\n",
       "      <td>2014-02348</td>\n",
       "    </tr>\n",
       "    <tr>\n",
       "      <th>255</th>\n",
       "      <td>2019-04-01T13:00:25</td>\n",
       "      <td>Samverkan</td>\n",
       "      <td>Samverkan</td>\n",
       "      <td>2017-02414</td>\n",
       "    </tr>\n",
       "    <tr>\n",
       "      <th>275</th>\n",
       "      <td>2019-04-01T13:00:19</td>\n",
       "      <td>Forskningsinfrastrukturer - Nyttiggörande och ...</td>\n",
       "      <td>Forskningsinfrastrukturer - Nyttiggörande och ...</td>\n",
       "      <td>2017-04491</td>\n",
       "    </tr>\n",
       "    <tr>\n",
       "      <th>245</th>\n",
       "      <td>2019-04-01T10:00:17</td>\n",
       "      <td>Runner up SME instrument</td>\n",
       "      <td>Runner up SME instrument</td>\n",
       "      <td>2017-01029</td>\n",
       "    </tr>\n",
       "    <tr>\n",
       "      <th>265</th>\n",
       "      <td>2019-03-29T14:01:05</td>\n",
       "      <td>Digital infrastruktur och digital säkerhet</td>\n",
       "      <td>Digital infrastruktur och digital säkerhet</td>\n",
       "      <td>2017-03247</td>\n",
       "    </tr>\n",
       "    <tr>\n",
       "      <th>344</th>\n",
       "      <td>2019-03-29T13:00:16</td>\n",
       "      <td>Kraftsamling kring AI - Viable Cities</td>\n",
       "      <td>Kraftsamling kring Artificiell Intelligens</td>\n",
       "      <td>2019-00810</td>\n",
       "    </tr>\n",
       "    <tr>\n",
       "      <th>221</th>\n",
       "      <td>2019-03-28T14:30:26</td>\n",
       "      <td>IP-checkar för förbättrat offentligt stöd för ...</td>\n",
       "      <td>IP-checkar för förbättrat offentligt stöd för ...</td>\n",
       "      <td>2016-04842</td>\n",
       "    </tr>\n",
       "    <tr>\n",
       "      <th>30</th>\n",
       "      <td>2019-03-28T08:30:18</td>\n",
       "      <td>Utlysning. Produktion och Material Följdinvest...</td>\n",
       "      <td>Produktion och Material Följdinvesteringar och...</td>\n",
       "      <td>2010-01757</td>\n",
       "    </tr>\n",
       "    <tr>\n",
       "      <th>48</th>\n",
       "      <td>2019-03-28T08:30:16</td>\n",
       "      <td>Innovation och Design 2012</td>\n",
       "      <td>Innovation och Design 2012</td>\n",
       "      <td>2012-01120</td>\n",
       "    </tr>\n",
       "    <tr>\n",
       "      <th>260</th>\n",
       "      <td>2019-03-26T08:30:16</td>\n",
       "      <td>MSCA EF Seal of Excellence</td>\n",
       "      <td>MSCA EF Seal of Excellence</td>\n",
       "      <td>2017-02770</td>\n",
       "    </tr>\n",
       "    <tr>\n",
       "      <th>174</th>\n",
       "      <td>2019-03-22T14:00:41</td>\n",
       "      <td>Utmaningsdriven innovation - pilotsatsningar</td>\n",
       "      <td>Utmaningsdriven innovation - pilotsatsningar</td>\n",
       "      <td>2015-06491</td>\n",
       "    </tr>\n",
       "    <tr>\n",
       "      <th>225</th>\n",
       "      <td>2019-03-22T08:30:16</td>\n",
       "      <td>Samverkan SVP transport</td>\n",
       "      <td>Samverkan SVP transport</td>\n",
       "      <td>2016-04957</td>\n",
       "    </tr>\n",
       "    <tr>\n",
       "      <th>340</th>\n",
       "      <td>2019-03-21T16:00:15</td>\n",
       "      <td>Satsningar som bidrar till prioriteringar inom...</td>\n",
       "      <td>Satsningar som bidrar till prioriteringar inom...</td>\n",
       "      <td>2018-05281</td>\n",
       "    </tr>\n",
       "    <tr>\n",
       "      <th>126</th>\n",
       "      <td>2019-03-21T14:00:38</td>\n",
       "      <td>Eurostars 2 medfinansiering</td>\n",
       "      <td>Eurostars 2 medfinansiering</td>\n",
       "      <td>2014-06148</td>\n",
       "    </tr>\n",
       "    <tr>\n",
       "      <th>143</th>\n",
       "      <td>2019-03-21T09:00:19</td>\n",
       "      <td>ECSEL</td>\n",
       "      <td>ECSEL</td>\n",
       "      <td>2015-00176</td>\n",
       "    </tr>\n",
       "    <tr>\n",
       "      <th>186</th>\n",
       "      <td>2019-03-15T13:30:20</td>\n",
       "      <td>Strategiska innovationsprogrammet Drive Sweden...</td>\n",
       "      <td>Strategiska innovationsprogrammet Drive Sweden...</td>\n",
       "      <td>2015-07105</td>\n",
       "    </tr>\n",
       "    <tr>\n",
       "      <th>352</th>\n",
       "      <td>2019-03-14T15:00:19</td>\n",
       "      <td>Innovationsplattformar hösten 2019</td>\n",
       "      <td>Innovationsplattformar hösten 2019</td>\n",
       "      <td>2019-01182</td>\n",
       "    </tr>\n",
       "    <tr>\n",
       "      <th>...</th>\n",
       "      <td>...</td>\n",
       "      <td>...</td>\n",
       "      <td>...</td>\n",
       "      <td>...</td>\n",
       "    </tr>\n",
       "    <tr>\n",
       "      <th>161</th>\n",
       "      <td>2017-05-23T17:00:07</td>\n",
       "      <td>Arenaprojekt PTC</td>\n",
       "      <td>Arenaprojekt PTC</td>\n",
       "      <td>2015-03442</td>\n",
       "    </tr>\n",
       "    <tr>\n",
       "      <th>256</th>\n",
       "      <td>2017-04-25T17:00:03</td>\n",
       "      <td>Innovationer för ett hållbart samhälle: miljö ...</td>\n",
       "      <td>Innovationer för ett hållbart samhälle: miljö ...</td>\n",
       "      <td>2017-02644</td>\n",
       "    </tr>\n",
       "    <tr>\n",
       "      <th>241</th>\n",
       "      <td>2017-04-11T12:30:08</td>\n",
       "      <td>Materialbaserad konkurrenskraft 2017</td>\n",
       "      <td>Möjlighet att ansöka om stöd till projekt som ...</td>\n",
       "      <td>2016-05348</td>\n",
       "    </tr>\n",
       "    <tr>\n",
       "      <th>250</th>\n",
       "      <td>2017-04-10T15:00:23</td>\n",
       "      <td>Satsningar 2017 som bidrar till prioriteringar...</td>\n",
       "      <td>Satsningar 2017 som bidrar till prioriteringar...</td>\n",
       "      <td>2017-02014</td>\n",
       "    </tr>\n",
       "    <tr>\n",
       "      <th>222</th>\n",
       "      <td>2017-02-24T13:30:07</td>\n",
       "      <td>Verklighetslabb och samverkan</td>\n",
       "      <td>Verklighetslabb och samverkan</td>\n",
       "      <td>2016-04847</td>\n",
       "    </tr>\n",
       "    <tr>\n",
       "      <th>46</th>\n",
       "      <td>2016-12-19T09:30:06</td>\n",
       "      <td>VINNMER Marie Curie Industry Outgoing</td>\n",
       "      <td>VINNMER Marie Curie Industry Outgoing</td>\n",
       "      <td>2012-00707</td>\n",
       "    </tr>\n",
       "    <tr>\n",
       "      <th>9</th>\n",
       "      <td>2016-12-16T10:30:06</td>\n",
       "      <td>VINNMER national qualification</td>\n",
       "      <td>Promotions and national mobility for researche...</td>\n",
       "      <td>2009-02248</td>\n",
       "    </tr>\n",
       "    <tr>\n",
       "      <th>195</th>\n",
       "      <td>2016-12-08T08:30:16</td>\n",
       "      <td>Pilot – resultatspridning 2016</td>\n",
       "      <td>Pilot – resultatspridning 2016</td>\n",
       "      <td>2016-01674</td>\n",
       "    </tr>\n",
       "    <tr>\n",
       "      <th>102</th>\n",
       "      <td>2016-12-01T13:30:05</td>\n",
       "      <td>Koordineringsmedel SIP Lättvikt</td>\n",
       "      <td>Koordineringsmedel SIP Lättvikt</td>\n",
       "      <td>2014-03177</td>\n",
       "    </tr>\n",
       "    <tr>\n",
       "      <th>198</th>\n",
       "      <td>2016-11-29T11:30:19</td>\n",
       "      <td>Regeringsuppdrag Industrins Digitalisering 2</td>\n",
       "      <td>Regeringsuppdrag Industrins Digitalisering 2</td>\n",
       "      <td>2016-02697</td>\n",
       "    </tr>\n",
       "    <tr>\n",
       "      <th>65</th>\n",
       "      <td>2016-11-23T09:30:06</td>\n",
       "      <td>Innovativ organisering</td>\n",
       "      <td>Innovativ organisering\\r\\nSyftet med utlysning...</td>\n",
       "      <td>2013-01397</td>\n",
       "    </tr>\n",
       "    <tr>\n",
       "      <th>204</th>\n",
       "      <td>2016-11-16T15:30:30</td>\n",
       "      <td>Testbäddar inom miljöteknikområdet -  hösten 2016</td>\n",
       "      <td>Testbäddar inom miljöteknikområdet -  hösten 2016</td>\n",
       "      <td>2016-02927</td>\n",
       "    </tr>\n",
       "    <tr>\n",
       "      <th>144</th>\n",
       "      <td>2016-10-24T08:30:13</td>\n",
       "      <td>FFI - AstaZero</td>\n",
       "      <td>FFI - AstaZero</td>\n",
       "      <td>2015-00494</td>\n",
       "    </tr>\n",
       "    <tr>\n",
       "      <th>104</th>\n",
       "      <td>2016-10-20T09:00:05</td>\n",
       "      <td>Koordineringsmedel 2014-2016 SIO PiiA</td>\n",
       "      <td>Koordineringsmedel 2014-2016 SIO PiiA</td>\n",
       "      <td>2014-03179</td>\n",
       "    </tr>\n",
       "    <tr>\n",
       "      <th>184</th>\n",
       "      <td>2016-09-13T15:30:21</td>\n",
       "      <td>Materialbaserad konkurrenskraft 2016</td>\n",
       "      <td>Materialbaserad konkurrenskraft 2016</td>\n",
       "      <td>2015-07083</td>\n",
       "    </tr>\n",
       "    <tr>\n",
       "      <th>177</th>\n",
       "      <td>2016-08-10T08:30:07</td>\n",
       "      <td>SWElife - Innovativa samverkansprojekt inom fo...</td>\n",
       "      <td>Det strategiska innovationsprogrammet SWElife ...</td>\n",
       "      <td>2015-06711</td>\n",
       "    </tr>\n",
       "    <tr>\n",
       "      <th>82</th>\n",
       "      <td>2016-06-21T12:30:08</td>\n",
       "      <td>Innovationer för framtidens hälsa 2014 till 20...</td>\n",
       "      <td>Innovationer för framtidens hälsa 2014 till 20...</td>\n",
       "      <td>2014-00514</td>\n",
       "    </tr>\n",
       "    <tr>\n",
       "      <th>16</th>\n",
       "      <td>2016-01-22T20:18:39</td>\n",
       "      <td>ARTEMIS</td>\n",
       "      <td>ARTEMIS-JU utlysningar</td>\n",
       "      <td>2009-02340</td>\n",
       "    </tr>\n",
       "    <tr>\n",
       "      <th>124</th>\n",
       "      <td>2016-01-20T12:06:18</td>\n",
       "      <td>ERA-MIN sustainable supply of raw materials in...</td>\n",
       "      <td>ERA-MIN sustainable supply of raw materials in...</td>\n",
       "      <td>2014-06115</td>\n",
       "    </tr>\n",
       "    <tr>\n",
       "      <th>42</th>\n",
       "      <td>2015-05-21T10:31:41</td>\n",
       "      <td>Nyckelaktörsprogrammet - övrigt utl</td>\n",
       "      <td>Nyckelaktörsprogrammet - övrigt utl</td>\n",
       "      <td>2012-00070</td>\n",
       "    </tr>\n",
       "    <tr>\n",
       "      <th>12</th>\n",
       "      <td>2015-03-10T13:46:38</td>\n",
       "      <td>Berzelii Centra 2005</td>\n",
       "      <td>Berzelii Centra 2005</td>\n",
       "      <td>2009-02298</td>\n",
       "    </tr>\n",
       "    <tr>\n",
       "      <th>43</th>\n",
       "      <td>2015-02-20T12:30:27</td>\n",
       "      <td>Berzelii Centra 2005 - kommersialiseringsmedel...</td>\n",
       "      <td>För varje Berzelii Center finns det avsatt 4 M...</td>\n",
       "      <td>2012-00098</td>\n",
       "    </tr>\n",
       "    <tr>\n",
       "      <th>2</th>\n",
       "      <td>2014-12-03T13:57:05</td>\n",
       "      <td>VINN Excellence Center 2004</td>\n",
       "      <td>VINN Excellence Center 2004</td>\n",
       "      <td>2004-01527</td>\n",
       "    </tr>\n",
       "    <tr>\n",
       "      <th>0</th>\n",
       "      <td>2014-12-03T13:52:48</td>\n",
       "      <td>VINN Excellence Center 2003</td>\n",
       "      <td>VINN Excellence Center 2003</td>\n",
       "      <td>2002-02143</td>\n",
       "    </tr>\n",
       "    <tr>\n",
       "      <th>81</th>\n",
       "      <td>2014-12-03T08:56:45</td>\n",
       "      <td>Testbäddar inom miljöteknikområdet -  2014</td>\n",
       "      <td>Testbäddar inom miljöteknikområdet -  2014</td>\n",
       "      <td>2014-00075</td>\n",
       "    </tr>\n",
       "    <tr>\n",
       "      <th>93</th>\n",
       "      <td>2014-08-21T11:44:24</td>\n",
       "      <td>Transport- och miljöinnovationer 2014</td>\n",
       "      <td>Transport- och miljöinnovationer 2014</td>\n",
       "      <td>2014-01430</td>\n",
       "    </tr>\n",
       "    <tr>\n",
       "      <th>17</th>\n",
       "      <td>2014-05-07T10:00:03</td>\n",
       "      <td>Innovativa fordon, farkoster och system -  Övrigt</td>\n",
       "      <td>Innovativa fordon, farkoster och system -  Övrigt</td>\n",
       "      <td>2009-02397</td>\n",
       "    </tr>\n",
       "    <tr>\n",
       "      <th>28</th>\n",
       "      <td>2014-02-04T16:14:04</td>\n",
       "      <td>Industry Excellence Center</td>\n",
       "      <td>Industry Excellence Center</td>\n",
       "      <td>2010-01418</td>\n",
       "    </tr>\n",
       "    <tr>\n",
       "      <th>62</th>\n",
       "      <td>2013-10-15T15:18:14</td>\n",
       "      <td>Transport- och miljöinnovationer 2013</td>\n",
       "      <td>Transport- och miljöinnovationer 2013</td>\n",
       "      <td>2013-00688</td>\n",
       "    </tr>\n",
       "    <tr>\n",
       "      <th>24</th>\n",
       "      <td>2012-01-13T17:04:30</td>\n",
       "      <td>VINNMER - övrigt</td>\n",
       "      <td>VINNMER - övrigt, mobilitetsprojekt i linje me...</td>\n",
       "      <td>2010-00697</td>\n",
       "    </tr>\n",
       "  </tbody>\n",
       "</table>\n",
       "<p>361 rows × 4 columns</p>\n",
       "</div>"
      ],
      "text/plain": [
       "       Publiceringsdatum                                              Titel  \\\n",
       "134  2019-04-08T17:00:16    Strategiska Innovationsprogrammet BioInnovation   \n",
       "350  2019-04-08T11:30:34                  Från AI-forskning till innovation   \n",
       "360  2019-04-05T13:30:23                         Smart City Sweden - övrigt   \n",
       "178  2019-04-03T15:30:19  Strategiska innovationsprogrammet InfraSweden2...   \n",
       "179  2019-04-03T14:00:47                              Datadriven innovation   \n",
       "15   2019-04-03T13:00:24                  FFI - Styrelse initierade projekt   \n",
       "5    2019-04-03T07:30:30  VINNMER Marie Curie international qualificatio...   \n",
       "112  2019-04-02T16:00:28  Strategiska innovationsprogrammet Smartare Ele...   \n",
       "289  2019-04-02T16:00:27  SIP Smartare Elektroniksystem. Enskilda projek...   \n",
       "111  2019-04-02T16:00:27  SIP Smartare Elektroniksystem. Koordineringsme...   \n",
       "359  2019-04-02T11:30:19             Processledningsstöd Innovationsledning   \n",
       "166  2019-04-02T10:00:21                  VINNVÄXT 2016 fullständig ansökan   \n",
       "358  2019-04-02T09:30:16  Indisk-svenskt samarbete för industriella fors...   \n",
       "98   2019-04-01T15:00:31  Digitalisering för framtidens skola - Innovati...   \n",
       "255  2019-04-01T13:00:25                                          Samverkan   \n",
       "275  2019-04-01T13:00:19  Forskningsinfrastrukturer - Nyttiggörande och ...   \n",
       "245  2019-04-01T10:00:17                           Runner up SME instrument   \n",
       "265  2019-03-29T14:01:05         Digital infrastruktur och digital säkerhet   \n",
       "344  2019-03-29T13:00:16              Kraftsamling kring AI - Viable Cities   \n",
       "221  2019-03-28T14:30:26  IP-checkar för förbättrat offentligt stöd för ...   \n",
       "30   2019-03-28T08:30:18  Utlysning. Produktion och Material Följdinvest...   \n",
       "48   2019-03-28T08:30:16                         Innovation och Design 2012   \n",
       "260  2019-03-26T08:30:16                         MSCA EF Seal of Excellence   \n",
       "174  2019-03-22T14:00:41       Utmaningsdriven innovation - pilotsatsningar   \n",
       "225  2019-03-22T08:30:16                            Samverkan SVP transport   \n",
       "340  2019-03-21T16:00:15  Satsningar som bidrar till prioriteringar inom...   \n",
       "126  2019-03-21T14:00:38                        Eurostars 2 medfinansiering   \n",
       "143  2019-03-21T09:00:19                                              ECSEL   \n",
       "186  2019-03-15T13:30:20  Strategiska innovationsprogrammet Drive Sweden...   \n",
       "352  2019-03-14T15:00:19                 Innovationsplattformar hösten 2019   \n",
       "..                   ...                                                ...   \n",
       "161  2017-05-23T17:00:07                                   Arenaprojekt PTC   \n",
       "256  2017-04-25T17:00:03  Innovationer för ett hållbart samhälle: miljö ...   \n",
       "241  2017-04-11T12:30:08               Materialbaserad konkurrenskraft 2017   \n",
       "250  2017-04-10T15:00:23  Satsningar 2017 som bidrar till prioriteringar...   \n",
       "222  2017-02-24T13:30:07                      Verklighetslabb och samverkan   \n",
       "46   2016-12-19T09:30:06              VINNMER Marie Curie Industry Outgoing   \n",
       "9    2016-12-16T10:30:06                     VINNMER national qualification   \n",
       "195  2016-12-08T08:30:16                    Pilot – resultatspridning 2016    \n",
       "102  2016-12-01T13:30:05                    Koordineringsmedel SIP Lättvikt   \n",
       "198  2016-11-29T11:30:19       Regeringsuppdrag Industrins Digitalisering 2   \n",
       "65   2016-11-23T09:30:06                             Innovativ organisering   \n",
       "204  2016-11-16T15:30:30  Testbäddar inom miljöteknikområdet -  hösten 2016   \n",
       "144  2016-10-24T08:30:13                                     FFI - AstaZero   \n",
       "104  2016-10-20T09:00:05              Koordineringsmedel 2014-2016 SIO PiiA   \n",
       "184  2016-09-13T15:30:21               Materialbaserad konkurrenskraft 2016   \n",
       "177  2016-08-10T08:30:07  SWElife - Innovativa samverkansprojekt inom fo...   \n",
       "82   2016-06-21T12:30:08  Innovationer för framtidens hälsa 2014 till 20...   \n",
       "16   2016-01-22T20:18:39                                            ARTEMIS   \n",
       "124  2016-01-20T12:06:18  ERA-MIN sustainable supply of raw materials in...   \n",
       "42   2015-05-21T10:31:41                Nyckelaktörsprogrammet - övrigt utl   \n",
       "12   2015-03-10T13:46:38                               Berzelii Centra 2005   \n",
       "43   2015-02-20T12:30:27  Berzelii Centra 2005 - kommersialiseringsmedel...   \n",
       "2    2014-12-03T13:57:05                        VINN Excellence Center 2004   \n",
       "0    2014-12-03T13:52:48                        VINN Excellence Center 2003   \n",
       "81   2014-12-03T08:56:45         Testbäddar inom miljöteknikområdet -  2014   \n",
       "93   2014-08-21T11:44:24              Transport- och miljöinnovationer 2014   \n",
       "17   2014-05-07T10:00:03  Innovativa fordon, farkoster och system -  Övrigt   \n",
       "28   2014-02-04T16:14:04                         Industry Excellence Center   \n",
       "62   2013-10-15T15:18:14              Transport- och miljöinnovationer 2013   \n",
       "24   2012-01-13T17:04:30                                   VINNMER - övrigt   \n",
       "\n",
       "                                           Beskrivning Diarienummer  \n",
       "134    Strategiska Innovationsprogrammet BioInnovation   2015-00048  \n",
       "350                  Från AI-forskning till innovation   2019-01052  \n",
       "360                         Smart City Sweden - övrigt   2019-02263  \n",
       "178  Strategiska innovationsprogrammet  InfraSweden...   2015-06971  \n",
       "179  Långsiktig insats för kompetens och utveckling...   2015-07023  \n",
       "15                   FFI - Styrelse initierade projekt   2009-02335  \n",
       "5    Promotions and international mobility for rese...   2008-02331  \n",
       "112  Strategiska innovationsprogrammet för Smartare...   2014-04036  \n",
       "289  Enskilda projekt 2018-2020. SIP Smartare Elekt...   2017-05611  \n",
       "111  Koordineringsmedel Smartare Elektroniksystem. ...   2014-04035  \n",
       "359             Processledningsstöd Innovationsledning   2019-02168  \n",
       "166                  VINNVÄXT 2016 fullständig ansökan   2015-04958  \n",
       "358  Samverkan mellan Vinnova och GITA (utförarorga...   2019-02167  \n",
       "98   Digitalisering för framtidens skola - Innovati...   2014-02348  \n",
       "255                                          Samverkan   2017-02414  \n",
       "275  Forskningsinfrastrukturer - Nyttiggörande och ...   2017-04491  \n",
       "245                           Runner up SME instrument   2017-01029  \n",
       "265         Digital infrastruktur och digital säkerhet   2017-03247  \n",
       "344         Kraftsamling kring Artificiell Intelligens   2019-00810  \n",
       "221  IP-checkar för förbättrat offentligt stöd för ...   2016-04842  \n",
       "30   Produktion och Material Följdinvesteringar och...   2010-01757  \n",
       "48                          Innovation och Design 2012   2012-01120  \n",
       "260                         MSCA EF Seal of Excellence   2017-02770  \n",
       "174       Utmaningsdriven innovation - pilotsatsningar   2015-06491  \n",
       "225                            Samverkan SVP transport   2016-04957  \n",
       "340  Satsningar som bidrar till prioriteringar inom...   2018-05281  \n",
       "126                        Eurostars 2 medfinansiering   2014-06148  \n",
       "143                                              ECSEL   2015-00176  \n",
       "186  Strategiska innovationsprogrammet Drive Sweden...   2015-07105  \n",
       "352                 Innovationsplattformar hösten 2019   2019-01182  \n",
       "..                                                 ...          ...  \n",
       "161                                   Arenaprojekt PTC   2015-03442  \n",
       "256  Innovationer för ett hållbart samhälle: miljö ...   2017-02644  \n",
       "241  Möjlighet att ansöka om stöd till projekt som ...   2016-05348  \n",
       "250  Satsningar 2017 som bidrar till prioriteringar...   2017-02014  \n",
       "222                      Verklighetslabb och samverkan   2016-04847  \n",
       "46               VINNMER Marie Curie Industry Outgoing   2012-00707  \n",
       "9    Promotions and national mobility for researche...   2009-02248  \n",
       "195                    Pilot – resultatspridning 2016    2016-01674  \n",
       "102                    Koordineringsmedel SIP Lättvikt   2014-03177  \n",
       "198       Regeringsuppdrag Industrins Digitalisering 2   2016-02697  \n",
       "65   Innovativ organisering\\r\\nSyftet med utlysning...   2013-01397  \n",
       "204  Testbäddar inom miljöteknikområdet -  hösten 2016   2016-02927  \n",
       "144                                     FFI - AstaZero   2015-00494  \n",
       "104              Koordineringsmedel 2014-2016 SIO PiiA   2014-03179  \n",
       "184               Materialbaserad konkurrenskraft 2016   2015-07083  \n",
       "177  Det strategiska innovationsprogrammet SWElife ...   2015-06711  \n",
       "82   Innovationer för framtidens hälsa 2014 till 20...   2014-00514  \n",
       "16                              ARTEMIS-JU utlysningar   2009-02340  \n",
       "124  ERA-MIN sustainable supply of raw materials in...   2014-06115  \n",
       "42                 Nyckelaktörsprogrammet - övrigt utl   2012-00070  \n",
       "12                                Berzelii Centra 2005   2009-02298  \n",
       "43   För varje Berzelii Center finns det avsatt 4 M...   2012-00098  \n",
       "2                          VINN Excellence Center 2004   2004-01527  \n",
       "0                          VINN Excellence Center 2003   2002-02143  \n",
       "81          Testbäddar inom miljöteknikområdet -  2014   2014-00075  \n",
       "93               Transport- och miljöinnovationer 2014   2014-01430  \n",
       "17   Innovativa fordon, farkoster och system -  Övrigt   2009-02397  \n",
       "28                          Industry Excellence Center   2010-01418  \n",
       "62               Transport- och miljöinnovationer 2013   2013-00688  \n",
       "24   VINNMER - övrigt, mobilitetsprojekt i linje me...   2010-00697  \n",
       "\n",
       "[361 rows x 4 columns]"
      ]
     },
     "execution_count": 41,
     "metadata": {},
     "output_type": "execute_result"
    }
   ],
   "source": [
    "df.sort_values(['Publiceringsdatum'], ascending=[False], inplace=True)\n",
    "df[['Publiceringsdatum', 'Titel','Beskrivning','Diarienummer']]\n"
   ]
  },
  {
   "cell_type": "code",
   "execution_count": null,
   "metadata": {},
   "outputs": [],
   "source": []
  }
 ],
 "metadata": {
  "kernelspec": {
   "display_name": "Python 3",
   "language": "python",
   "name": "python3"
  },
  "language_info": {
   "codemirror_mode": {
    "name": "ipython",
    "version": 3
   },
   "file_extension": ".py",
   "mimetype": "text/x-python",
   "name": "python",
   "nbconvert_exporter": "python",
   "pygments_lexer": "ipython3",
   "version": "3.7.1"
  }
 },
 "nbformat": 4,
 "nbformat_minor": 2
}
