{
 "cells": [
  {
   "cell_type": "markdown",
   "metadata": {},
   "source": [
    "## Digitaltmuseum \n",
    "* [API](https://github.com/nasjonalmuseet/DiMu-API-documentation)"
   ]
  },
  {
   "cell_type": "code",
   "execution_count": null,
   "metadata": {},
   "outputs": [
    {
     "name": "stdout",
     "output_type": "stream",
     "text": [
      "**************************************************************************************************************************************************************************************************************************************************************************************************************************************************************************************************************************************************************************************************************************************************************************************************************************************************************************************************************************************************************************************************************************************************"
     ]
    }
   ],
   "source": [
    "import urllib3, json\n",
    "import pandas as pd \n",
    "http = urllib3.PoolManager() \n",
    "pd.set_option(\"display.max.columns\", None) \n",
    "urlbase =\"https://api.dimu.org/api/solr/select?q=*&fq=identifier.owner:*&wt=json&api.key=demo&start=\"\n",
    "\n",
    "dftot = pd.DataFrame()\n",
    "for i in range(1,5712391,10):\n",
    "#for i in range(1,571,10):\n",
    "    url = urlbase + str(i)\n",
    "    if ((i-1) % 100) == 0:\n",
    "       print('*', end='', flush=True)\n",
    "    r = http.request('GET', url)\n",
    "    try:\n",
    "        data = json.loads(r.data)\n",
    "        dftot = dftot.append(pd.DataFrame(data[\"response\"][\"docs\"]),sort=False)\n",
    "    except:\n",
    "        print(\"\\tError in i=\",i) \n",
    "dftot.head()"
   ]
  },
  {
   "cell_type": "code",
   "execution_count": 17,
   "metadata": {},
   "outputs": [
    {
     "data": {
      "text/plain": [
       "Photograph      465\n",
       "Thing            98\n",
       "Fineart           4\n",
       "Artdesign         2\n",
       "Architecture      1\n",
       "Name: artifact.type, dtype: int64"
      ]
     },
     "execution_count": 17,
     "metadata": {},
     "output_type": "execute_result"
    }
   ],
   "source": [
    "dftot[\"artifact.type\"].value_counts()"
   ]
  },
  {
   "cell_type": "code",
   "execution_count": 18,
   "metadata": {},
   "outputs": [
    {
     "data": {
      "text/plain": [
       "S-VM     97\n",
       "KFS      94\n",
       "HVM      56\n",
       "S-VLM    35\n",
       "NF       25\n",
       "         ..\n",
       "LE        1\n",
       "TEM       1\n",
       "NJB       1\n",
       "S-SM      1\n",
       "S-SK      1\n",
       "Name: identifier.owner, Length: 61, dtype: int64"
      ]
     },
     "execution_count": 18,
     "metadata": {},
     "output_type": "execute_result"
    }
   ],
   "source": [
    "dftot[\"identifier.owner\"].value_counts()"
   ]
  },
  {
   "cell_type": "code",
   "execution_count": 19,
   "metadata": {},
   "outputs": [
    {
     "data": {
      "text/plain": [
       "1.0     517\n",
       "2.0      22\n",
       "3.0       6\n",
       "5.0       2\n",
       "31.0      1\n",
       "7.0       1\n",
       "Name: artifact.pictureCount, dtype: int64"
      ]
     },
     "execution_count": 19,
     "metadata": {},
     "output_type": "execute_result"
    }
   ],
   "source": [
    "dftot[\"artifact.pictureCount\"].value_counts()"
   ]
  },
  {
   "cell_type": "code",
   "execution_count": 20,
   "metadata": {},
   "outputs": [
    {
     "data": {
      "text/plain": [
       "1964.0    42\n",
       "1989.0    37\n",
       "1960.0    33\n",
       "1945.0    15\n",
       "1959.0    12\n",
       "          ..\n",
       "2014.0     1\n",
       "1730.0     1\n",
       "1927.0     1\n",
       "2006.0     1\n",
       "1903.0     1\n",
       "Name: artifact.ingress.production.toYear, Length: 75, dtype: int64"
      ]
     },
     "execution_count": 20,
     "metadata": {},
     "output_type": "execute_result"
    }
   ],
   "source": [
    "dftot[\"artifact.ingress.production.toYear\"].value_counts()"
   ]
  },
  {
   "cell_type": "code",
   "execution_count": 21,
   "metadata": {},
   "outputs": [
    {
     "data": {
      "text/plain": [
       "[CC by]          104\n",
       "[CC by-sa]        97\n",
       "[CC by-nc]        49\n",
       "[CC pdm]          46\n",
       "[CC by-nc-nd]     39\n",
       "[CC by-nc-sa]      9\n",
       "[AC 1]             4\n",
       "Name: artifact.ingress.license, dtype: int64"
      ]
     },
     "execution_count": 21,
     "metadata": {},
     "output_type": "execute_result"
    }
   ],
   "source": [
    "dftot[\"artifact.ingress.license\"].value_counts()"
   ]
  },
  {
   "cell_type": "code",
   "execution_count": null,
   "metadata": {},
   "outputs": [],
   "source": []
  }
 ],
 "metadata": {
  "kernelspec": {
   "display_name": "Python 3",
   "language": "python",
   "name": "python3"
  },
  "language_info": {
   "codemirror_mode": {
    "name": "ipython",
    "version": 3
   },
   "file_extension": ".py",
   "mimetype": "text/x-python",
   "name": "python",
   "nbconvert_exporter": "python",
   "pygments_lexer": "ipython3",
   "version": "3.8.0"
  }
 },
 "nbformat": 4,
 "nbformat_minor": 4
}
