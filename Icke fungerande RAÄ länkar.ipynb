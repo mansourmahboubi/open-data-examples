{
 "cells": [
  {
   "cell_type": "markdown",
   "metadata": {},
   "source": [
    "## Icke fungerande RAÄ länkar Wikipedia -> RAÄ   \n",
    "version 1.0 \n",
    "\n",
    "* Denna [Notebook](https://github.com/salgo60/open-data-examples/blob/master/Icke%20fungerande%20RA%C3%84%20l%C3%A4nkar.ipynb)\n",
    "\n",
    "* Larske tog fram en lista som en python snutt kollade igenom\n",
    "  * Larske lista i [Quarry](https://quarry.wmflabs.org/query/46216) = 164141 rows\n",
    "* [Python kod](https://gist.github.com/salgo60/f33116056e2698186b9ee424626246fd) som kollade http-status\n",
    "  * Filer som inte gav [http Status 200](https://raw.githubusercontent.com/salgo60/open-data-examples/master/data/RA%C3%84files20200630.txt)\n",
    "* Förklaring [Abbe98 på Bybrunnen](https://sv.wikipedia.org/wiki/Wikipedia:Bybrunnen#K-sams%C3%B6k_anv%C3%A4nds_det?_N%C3%A5gon_som_lyckats_felrapportera) som kan ge ledtråd vad som skall städas eller ej  \n"
   ]
  },
  {
   "cell_type": "code",
   "execution_count": 10,
   "metadata": {},
   "outputs": [
    {
     "name": "stdout",
     "output_type": "stream",
     "text": [
      "7602\n"
     ]
    }
   ],
   "source": [
    "import urllib3, json  \n",
    "import pandas as pd\n",
    "nonWorkingfiles = \"https://raw.githubusercontent.com/salgo60/open-data-examples/master/data/RA%C3%84files20200630.txt\"\n",
    " \n",
    "http = urllib3.PoolManager()\n",
    "r1 = http.request('GET', nonWorkingfiles) \n",
    "files = r1.data.decode('utf-8').split(\"\\n\")   \n",
    "print(len(files))"
   ]
  },
  {
   "cell_type": "code",
   "execution_count": 11,
   "metadata": {},
   "outputs": [
    {
     "name": "stdout",
     "output_type": "stream",
     "text": [
      "<class 'pandas.core.frame.DataFrame'>\n",
      "RangeIndex: 7602 entries, 0 to 7601\n",
      "Data columns (total 1 columns):\n",
      "Line    7602 non-null object\n",
      "dtypes: object(1)\n",
      "memory usage: 59.5+ KB\n"
     ]
    }
   ],
   "source": [
    "df=pd.DataFrame(files,columns=[\"Line\"])  \n",
    "df.info()"
   ]
  },
  {
   "cell_type": "code",
   "execution_count": 12,
   "metadata": {},
   "outputs": [],
   "source": [
    "pd.set_option(\"display.max.rows\", None)   \n",
    "pd.set_option(\"display.max.columns\", None) "
   ]
  },
  {
   "cell_type": "code",
   "execution_count": 13,
   "metadata": {},
   "outputs": [],
   "source": [
    "dfsplit = df.Line.str.split(\"\\t\",n=0,expand = True)\n"
   ]
  },
  {
   "cell_type": "code",
   "execution_count": 14,
   "metadata": {},
   "outputs": [
    {
     "name": "stdout",
     "output_type": "stream",
     "text": [
      "<class 'pandas.core.frame.DataFrame'>\n",
      "RangeIndex: 7602 entries, 0 to 7601\n",
      "Data columns (total 2 columns):\n",
      "0    7602 non-null object\n",
      "1    7602 non-null object\n",
      "dtypes: object(2)\n",
      "memory usage: 118.9+ KB\n"
     ]
    }
   ],
   "source": [
    "dfsplit.info()"
   ]
  },
  {
   "cell_type": "code",
   "execution_count": 15,
   "metadata": {},
   "outputs": [
    {
     "data": {
      "text/html": [
       "<div>\n",
       "<style scoped>\n",
       "    .dataframe tbody tr th:only-of-type {\n",
       "        vertical-align: middle;\n",
       "    }\n",
       "\n",
       "    .dataframe tbody tr th {\n",
       "        vertical-align: top;\n",
       "    }\n",
       "\n",
       "    .dataframe thead th {\n",
       "        text-align: right;\n",
       "    }\n",
       "</style>\n",
       "<table border=\"1\" class=\"dataframe\">\n",
       "  <thead>\n",
       "    <tr style=\"text-align: right;\">\n",
       "      <th></th>\n",
       "      <th>0</th>\n",
       "      <th>1</th>\n",
       "    </tr>\n",
       "  </thead>\n",
       "  <tbody>\n",
       "    <tr>\n",
       "      <th>0</th>\n",
       "      <td>Status:  410</td>\n",
       "      <td>http://kulturarvsdata.se/BHM/media/html/BM_UM...</td>\n",
       "    </tr>\n",
       "    <tr>\n",
       "      <th>1</th>\n",
       "      <td>Status:  410</td>\n",
       "      <td>http://kulturarvsdata.se/BHM/media/html/BM_UM...</td>\n",
       "    </tr>\n",
       "    <tr>\n",
       "      <th>2</th>\n",
       "      <td>Status:  410</td>\n",
       "      <td>http://kulturarvsdata.se/BHM/media/html/BM_UM...</td>\n",
       "    </tr>\n",
       "    <tr>\n",
       "      <th>3</th>\n",
       "      <td>Status:  410</td>\n",
       "      <td>http://kulturarvsdata.se/BHM/media/html/BM_UM...</td>\n",
       "    </tr>\n",
       "    <tr>\n",
       "      <th>4</th>\n",
       "      <td>Status:  410</td>\n",
       "      <td>http://kulturarvsdata.se/BHM/media/html/BM_UM...</td>\n",
       "    </tr>\n",
       "  </tbody>\n",
       "</table>\n",
       "</div>"
      ],
      "text/plain": [
       "                0                                                  1\n",
       "0  Status:  410     http://kulturarvsdata.se/BHM/media/html/BM_UM...\n",
       "1  Status:  410     http://kulturarvsdata.se/BHM/media/html/BM_UM...\n",
       "2  Status:  410     http://kulturarvsdata.se/BHM/media/html/BM_UM...\n",
       "3  Status:  410     http://kulturarvsdata.se/BHM/media/html/BM_UM...\n",
       "4  Status:  410     http://kulturarvsdata.se/BHM/media/html/BM_UM..."
      ]
     },
     "execution_count": 15,
     "metadata": {},
     "output_type": "execute_result"
    }
   ],
   "source": [
    "dfsplit.head()"
   ]
  },
  {
   "cell_type": "code",
   "execution_count": 16,
   "metadata": {},
   "outputs": [
    {
     "data": {
      "text/plain": [
       "Status:  410      7479\n",
       "Status:  404       122\n",
       "Status:  400         1\n",
       "Name: 0, dtype: int64"
      ]
     },
     "execution_count": 16,
     "metadata": {},
     "output_type": "execute_result"
    }
   ],
   "source": [
    "dfsplit[0].value_counts()"
   ]
  },
  {
   "cell_type": "code",
   "execution_count": 17,
   "metadata": {},
   "outputs": [
    {
     "data": {
      "image/png": "[encoded data removed]",
      "text/plain": [
       "<Figure size 432x288 with 1 Axes>"
      ]
     },
     "metadata": {},
     "output_type": "display_data"
    }
   ],
   "source": [
    "%matplotlib inline  \n",
    "import matplotlib.pyplot as plt \n",
    "dfsplit[0].value_counts().plot.pie()\n",
    "plt.show()"
   ]
  },
  {
   "cell_type": "markdown",
   "metadata": {},
   "source": [
    "Enligt Bybrunnen Abbe98 finns det en logik i felen och tolkas enligt nedan\n",
    "* 410 = 7479 poster skall tolkas som borttagen är att RAÄ har problem med upphovsrätt\n",
    "* 404 = 122 poster finns inte  \n",
    "* 400 = 1 ???   \n",
    "\n",
    "Normal tolkning \n",
    "\n",
    "404: ”Den begärda resursen hittades inte.” Det vanligaste felmeddelandet av dem alla. Denna kod betyder att den begärda resursen inte existerar och att servern inte vet om den någonsin existerade.\n",
    "\n",
    "410: ”Den begärda resursen är borta och kommer inte att komma tillbaka.” Liknande en 404 ”sidan finns inte” -kod, förutom att en 410 indikerar att tillståndet är förväntat och permanent.\n"
   ]
  },
  {
   "cell_type": "code",
   "execution_count": 164,
   "metadata": {},
   "outputs": [
    {
     "name": "stdout",
     "output_type": "stream",
     "text": [
      "<class 'pandas.core.frame.DataFrame'>\n",
      "Int64Index: 7479 entries, 0 to 7599\n",
      "Data columns (total 3 columns):\n",
      "0    7479 non-null object\n",
      "1    7479 non-null object\n",
      "3    7479 non-null object\n",
      "dtypes: object(3)\n",
      "memory usage: 233.7+ KB\n"
     ]
    }
   ],
   "source": [
    "dfStatus410Flag = dfsplit[0].str.strip() == \"Status:  410\" \n",
    "dfStatus410 =  dfsplit[dfStatus410Flag]  \n",
    "dfStatus410.info()   "
   ]
  },
  {
   "cell_type": "code",
   "execution_count": 96,
   "metadata": {},
   "outputs": [
    {
     "data": {
      "image/png": "[encoded data removed]",
      "text/plain": [
       "<Figure size 432x288 with 1 Axes>"
      ]
     },
     "metadata": {},
     "output_type": "display_data"
    }
   ],
   "source": [
    "dfsplit[4].value_counts().plot.pie()\n",
    "plt.show()"
   ]
  },
  {
   "cell_type": "code",
   "execution_count": 99,
   "metadata": {},
   "outputs": [
    {
     "data": {
      "image/png": "[encoded data removed]",
      "text/plain": [
       "<Figure size 432x288 with 1 Axes>"
      ]
     },
     "metadata": {},
     "output_type": "display_data"
    }
   ],
   "source": [
    "dfsplit[4].value_counts()[1:10].plot.pie()\n",
    "plt.show()"
   ]
  },
  {
   "cell_type": "code",
   "execution_count": 100,
   "metadata": {},
   "outputs": [
    {
     "data": {
      "image/png": "[encoded data removed]",
      "text/plain": [
       "<Figure size 432x288 with 1 Axes>"
      ]
     },
     "metadata": {},
     "output_type": "display_data"
    }
   ],
   "source": [
    "dfsplit[4].value_counts()[2:].plot.pie()\n",
    "plt.show()"
   ]
  },
  {
   "cell_type": "code",
   "execution_count": null,
   "metadata": {},
   "outputs": [],
   "source": []
  }
 ],
 "metadata": {
  "kernelspec": {
   "display_name": "Python 3",
   "language": "python",
   "name": "python3"
  },
  "language_info": {
   "codemirror_mode": {
    "name": "ipython",
    "version": 3
   },
   "file_extension": ".py",
   "mimetype": "text/x-python",
   "name": "python",
   "nbconvert_exporter": "python",
   "pygments_lexer": "ipython3",
   "version": "3.8.0"
  }
 },
 "nbformat": 4,
 "nbformat_minor": 4
}
