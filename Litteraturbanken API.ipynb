{
 "cells": [
  {
   "cell_type": "markdown",
   "metadata": {},
   "source": [
    "# Litteraturbanken Author  <-> API\n",
    "version 0.1 \n",
    "\n",
    "Check Litteraturbanken authors and compare Wikidata [P5101](https://www.wikidata.org/wiki/Property:P5101) to see if there is a mismatch\n",
    "\n",
    "\n",
    "* this [Jupyter Notebook](https://github.com/salgo60/open-data-examples/blob/master/Litteraturbanken%20API.ipynb) \n",
    "* [SPARQL](https://w.wiki/cri) \n",
    "* [Litteraturbanken API](https://litteraturbanken.se/api/list_all/etext,faksimil,pdf?from=0&to=10000&include=lbworkid,titlepath,title,librisid,mediatype,main_author.author_id)"
   ]
  },
  {
   "cell_type": "markdown",
   "metadata": {},
   "source": [
    "# Wikidata"
   ]
  },
  {
   "cell_type": "code",
   "execution_count": 1,
   "metadata": {},
   "outputs": [
    {
     "name": "stdout",
     "output_type": "stream",
     "text": [
      "Last run:  2020-09-20 17:20:49.761544\n"
     ]
    }
   ],
   "source": [
    "from datetime import datetime\n",
    "now = datetime.now()\n",
    "print(\"Last run: \", datetime.now())"
   ]
  },
  {
   "cell_type": "code",
   "execution_count": null,
   "metadata": {},
   "outputs": [],
   "source": [
    "# pip install sparqlwrapper\n",
    "# https://rdflib.github.io/sparqlwrapper/\n",
    "\n",
    "import sys,json\n",
    "import pandas as pd \n",
    "\n",
    "from SPARQLWrapper import SPARQLWrapper, JSON\n",
    "\n",
    "endpoint_url = \"https://query.wikidata.org/sparql\"\n",
    "\n",
    "query  = \"\"\"SELECT ?item ?itemLabel ?authorid  WHERE {\n",
    "?item wdt:P5101 ?authorid \n",
    "SERVICE wikibase:label { bd:serviceParam wikibase:language \"sv,en\". }\n",
    "}\n",
    "ORDER BY (?itemLabel)\"\"\"\n",
    "\n",
    "def get_sparql_dataframe(endpoint_url, query):\n",
    "    \"\"\"\n",
    "    Helper function to convert SPARQL results into a Pandas data frame.\n",
    "    \"\"\"\n",
    "    user_agent = \"salgo60/%s.%s\" % (sys.version_info[0], sys.version_info[1])\n",
    " \n",
    "    sparql = SPARQLWrapper(endpoint_url, agent=user_agent)\n",
    "    sparql.setQuery(query)\n",
    "    sparql.setReturnFormat(JSON)\n",
    "    result = sparql.query()\n",
    "\n",
    "    processed_results = json.load(result.response)\n",
    "    cols = processed_results['head']['vars']\n",
    "\n",
    "    out = []\n",
    "    for row in processed_results['results']['bindings']:\n",
    "        item = []\n",
    "        for c in cols:\n",
    "            item.append(row.get(c, {}).get('value'))\n",
    "        out.append(item)\n",
    "\n",
    "    return pd.DataFrame(out, columns=cols)\n",
    "\n",
    "WDLitteraturbankenAuthor = get_sparql_dataframe(endpoint_url, query )\n"
   ]
  },
  {
   "cell_type": "code",
   "execution_count": null,
   "metadata": {},
   "outputs": [],
   "source": [
    "WDLitteraturbankenAuthor.info()"
   ]
  },
  {
   "cell_type": "markdown",
   "metadata": {},
   "source": [
    "## Litteraturbanken "
   ]
  },
  {
   "cell_type": "code",
   "execution_count": null,
   "metadata": {
    "scrolled": false
   },
   "outputs": [],
   "source": [
    "import urllib3, json\n",
    "import pandas as pd \n",
    "http = urllib3.PoolManager() \n",
    "pd.set_option(\"display.max.columns\", None)\n",
    "pd.set_option('display.max_rows', None)\n",
    "    \n",
    "#url = \"https://litteraturbanken.se/api/list_all/etext,faksimil,pdf?from=0&to=10000&include=lbworkid,titlepath,title,librisid,mediatype,main_author.author_id\"\n",
    "url = \"https://litteraturbanken.se/api/list_all/etext,faksimil,pdf?from=0&to=10000&include=lbworkid,titlepath,title,librisid,mediatype,main_author\"\n",
    "r = http.request('GET', url) \n",
    "data = json.loads(r.data.decode('utf-8')) \n",
    "#print(type(data))\n",
    "\n",
    "listLitteraturbanken = []\n",
    "i = 0 \n",
    "print(\"Length:  \")\n",
    "for row in (data[\"data\"]):\n",
    "    #print (row)\n",
    "    new_item = dict()\n",
    "    new_item['lbworkid'] = row[\"lbworkid\"]\n",
    "   \n",
    "    try:\n",
    "        librisid = row['librisid']        \n",
    "    except:\n",
    "        librisid =\"\"\n",
    "    new_item['librisid'] = librisid\n",
    "    try:\n",
    "        mediatype = row[\"mediatype\"]\n",
    "    except:\n",
    "        mediatype =\"\"\n",
    "    new_item['mediatype'] = mediatype\n",
    "    try:\n",
    "        title = row[\"title\"]\n",
    "    except:\n",
    "        title =\"\"\n",
    "    new_item['title'] = title\n",
    "    try:\n",
    "        titlepath = row[\"titlepath\"]\n",
    "    except:\n",
    "        titlepath =\"\"\n",
    "    new_item['titlepath'] = titlepath\n",
    "    try:\n",
    "        main_author = row[\"main_author\"]\n",
    "    except:\n",
    "        main_author =\"\"\n",
    "    new_item['main_author'] = main_author\n",
    "    try:\n",
    "        authorid = row['main_author'][\"authorid\"]\n",
    "    except:\n",
    "        authorid =\"\"\n",
    "    new_item['authorid'] = authorid\n",
    "    try:\n",
    "        authorfull_name = row['main_author'][\"full_name\"]\n",
    "    except:\n",
    "        authorfull_name =\"\"\n",
    "    new_item['author_fullname'] = authorfull_name\n",
    "    try:\n",
    "        name_for_index = row['main_author'][\"name_for_index\"]\n",
    "    except:\n",
    "        name_for_index =\"\"\n",
    "    new_item['name_for_index'] = name_for_index\n",
    "    \n",
    "    listLitteraturbanken.append(new_item)\n",
    "    i = i + 1 \n",
    "print (len(listLitteraturbanken) ,\" antal poster\")\n"
   ]
  },
  {
   "cell_type": "code",
   "execution_count": null,
   "metadata": {},
   "outputs": [],
   "source": [
    "import pandas as pd  \n",
    "dfLitteraturbanken = pd.DataFrame(listLitteraturbanken)"
   ]
  },
  {
   "cell_type": "code",
   "execution_count": null,
   "metadata": {},
   "outputs": [],
   "source": [
    "dfLitteraturbanken.info()"
   ]
  },
  {
   "cell_type": "code",
   "execution_count": null,
   "metadata": {},
   "outputs": [],
   "source": [
    "dfLitteraturbanken"
   ]
  },
  {
   "cell_type": "code",
   "execution_count": null,
   "metadata": {},
   "outputs": [],
   "source": []
  }
 ],
 "metadata": {
  "kernelspec": {
   "display_name": "Python 3",
   "language": "python",
   "name": "python3"
  },
  "language_info": {
   "codemirror_mode": {
    "name": "ipython",
    "version": 3
   },
   "file_extension": ".py",
   "mimetype": "text/x-python",
   "name": "python",
   "nbconvert_exporter": "python",
   "pygments_lexer": "ipython3",
   "version": "3.8.0"
  }
 },
 "nbformat": 4,
 "nbformat_minor": 4
}
