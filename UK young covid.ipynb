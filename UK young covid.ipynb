{
 "cells": [
  {
   "cell_type": "markdown",
   "id": "250c2698",
   "metadata": {},
   "source": [
    "* [jph00/uk-young-covid.ipynb](https://gist.github.com/jph00/635082450a8c9491dee52d5158c790a6)"
   ]
  },
  {
   "cell_type": "code",
   "execution_count": 2,
   "id": "885b9e6e",
   "metadata": {},
   "outputs": [],
   "source": [
    "import requests, pandas as pd, matplotlib as mpl, matplotlib.pyplot as plt \n",
    "endpoint = ('https://api.coronavirus.data.gov.uk/v1/data?'\n",
    "            'filters=areaType=nation;areaName=england&'\n",
    "            'structure={\"date\":\"date\",\"newCases\":\"newCasesBySpecimenDateAgeDemographics\"}')\n",
    "data = requests.get(endpoint, timeout=20).json()['data'] \n",
    "rows = [(o['date'],p['age'],p['cases']) for o in data for p in o['newCases']]\n",
    "df = pd.DataFrame(rows, columns=['date','age','cases'])\n",
    "df['date']= pd.to_datetime(df['date'])\n",
    "df = df.query(\"age not in ['00_59','60+'] & '2020-03-01'<=date<'2021-08-01'\")\n",
    "young = df.query(\"age in ['00_04','05_09','10_14','15_19']\"\n",
    "                ).groupby(pd.Grouper(key='date', freq='M')).sum()\n"
   ]
  },
  {
   "cell_type": "code",
   "execution_count": 3,
   "id": "985e0a01",
   "metadata": {},
   "outputs": [
    {
     "data": {
      "image/png": "[encoded data removed]",
      "text/plain": [
       "<Figure size 432x288 with 1 Axes>"
      ]
     },
     "metadata": {
      "needs_background": "light"
     },
     "output_type": "display_data"
    }
   ],
   "source": [
    "young.plot(y='cases', legend=False, title='England Monthly Cases, Age<20')\n",
    "plt.gca().yaxis.set_major_formatter(mpl.tbicker.StrMethodFormatter('{x:,.0f}'))"
   ]
  },
  {
   "cell_type": "code",
   "execution_count": 4,
   "id": "4d6c943b",
   "metadata": {},
   "outputs": [
    {
     "data": {
      "text/html": [
       "<div>\n",
       "<style scoped>\n",
       "    .dataframe tbody tr th:only-of-type {\n",
       "        vertical-align: middle;\n",
       "    }\n",
       "\n",
       "    .dataframe tbody tr th {\n",
       "        vertical-align: top;\n",
       "    }\n",
       "\n",
       "    .dataframe thead th {\n",
       "        text-align: right;\n",
       "    }\n",
       "</style>\n",
       "<table border=\"1\" class=\"dataframe\">\n",
       "  <thead>\n",
       "    <tr style=\"text-align: right;\">\n",
       "      <th></th>\n",
       "      <th>cases</th>\n",
       "    </tr>\n",
       "    <tr>\n",
       "      <th>date</th>\n",
       "      <th></th>\n",
       "    </tr>\n",
       "  </thead>\n",
       "  <tbody>\n",
       "    <tr>\n",
       "      <th>2020-03-31</th>\n",
       "      <td>562</td>\n",
       "    </tr>\n",
       "    <tr>\n",
       "      <th>2020-04-30</th>\n",
       "      <td>2059</td>\n",
       "    </tr>\n",
       "    <tr>\n",
       "      <th>2020-05-31</th>\n",
       "      <td>2924</td>\n",
       "    </tr>\n",
       "    <tr>\n",
       "      <th>2020-06-30</th>\n",
       "      <td>2229</td>\n",
       "    </tr>\n",
       "    <tr>\n",
       "      <th>2020-07-31</th>\n",
       "      <td>2646</td>\n",
       "    </tr>\n",
       "    <tr>\n",
       "      <th>2020-08-31</th>\n",
       "      <td>4875</td>\n",
       "    </tr>\n",
       "    <tr>\n",
       "      <th>2020-09-30</th>\n",
       "      <td>26398</td>\n",
       "    </tr>\n",
       "    <tr>\n",
       "      <th>2020-10-31</th>\n",
       "      <td>88670</td>\n",
       "    </tr>\n",
       "    <tr>\n",
       "      <th>2020-11-30</th>\n",
       "      <td>88447</td>\n",
       "    </tr>\n",
       "    <tr>\n",
       "      <th>2020-12-31</th>\n",
       "      <td>141049</td>\n",
       "    </tr>\n",
       "    <tr>\n",
       "      <th>2021-01-31</th>\n",
       "      <td>136015</td>\n",
       "    </tr>\n",
       "    <tr>\n",
       "      <th>2021-02-28</th>\n",
       "      <td>39657</td>\n",
       "    </tr>\n",
       "    <tr>\n",
       "      <th>2021-03-31</th>\n",
       "      <td>34709</td>\n",
       "    </tr>\n",
       "    <tr>\n",
       "      <th>2021-04-30</th>\n",
       "      <td>15669</td>\n",
       "    </tr>\n",
       "    <tr>\n",
       "      <th>2021-05-31</th>\n",
       "      <td>20728</td>\n",
       "    </tr>\n",
       "    <tr>\n",
       "      <th>2021-06-30</th>\n",
       "      <td>92120</td>\n",
       "    </tr>\n",
       "    <tr>\n",
       "      <th>2021-07-31</th>\n",
       "      <td>271070</td>\n",
       "    </tr>\n",
       "  </tbody>\n",
       "</table>\n",
       "</div>"
      ],
      "text/plain": [
       "             cases\n",
       "date              \n",
       "2020-03-31     562\n",
       "2020-04-30    2059\n",
       "2020-05-31    2924\n",
       "2020-06-30    2229\n",
       "2020-07-31    2646\n",
       "2020-08-31    4875\n",
       "2020-09-30   26398\n",
       "2020-10-31   88670\n",
       "2020-11-30   88447\n",
       "2020-12-31  141049\n",
       "2021-01-31  136015\n",
       "2021-02-28   39657\n",
       "2021-03-31   34709\n",
       "2021-04-30   15669\n",
       "2021-05-31   20728\n",
       "2021-06-30   92120\n",
       "2021-07-31  271070"
      ]
     },
     "execution_count": 4,
     "metadata": {},
     "output_type": "execute_result"
    }
   ],
   "source": [
    "young"
   ]
  },
  {
   "cell_type": "code",
   "execution_count": null,
   "id": "09be77bc",
   "metadata": {},
   "outputs": [],
   "source": []
  },
  {
   "cell_type": "code",
   "execution_count": null,
   "id": "a3f65904",
   "metadata": {},
   "outputs": [],
   "source": []
  }
 ],
 "metadata": {
  "kernelspec": {
   "display_name": "Python 3",
   "language": "python",
   "name": "python3"
  },
  "language_info": {
   "codemirror_mode": {
    "name": "ipython",
    "version": 3
   },
   "file_extension": ".py",
   "mimetype": "text/x-python",
   "name": "python",
   "nbconvert_exporter": "python",
   "pygments_lexer": "ipython3",
   "version": "3.9.4"
  }
 },
 "nbformat": 4,
 "nbformat_minor": 5
}
