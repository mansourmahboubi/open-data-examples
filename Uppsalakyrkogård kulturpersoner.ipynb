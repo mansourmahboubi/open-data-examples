{
 "cells": [
  {
   "cell_type": "markdown",
   "metadata": {},
   "source": [
    "## Uppsalakyrkogård kulturpersoner\n",
    "version 0.1\n",
    "* [This Notebook](https://github.com/salgo60/open-data-examples/blob/master/Uppsalakyrkogård%20kulturpersoner.ipynb)\n",
    "* [Map](https://kulturpersoner.uppsalakyrkogardar.se/karta/) / [Lista](https://kulturpersoner.uppsalakyrkogardar.se/galleri/)\n",
    "* [GIST](https://gist.github.com/salgo60/34e9a6bfc223687951ad827bf84b330d)"
   ]
  },
  {
   "cell_type": "code",
   "execution_count": null,
   "metadata": {},
   "outputs": [],
   "source": []
  },
  {
   "cell_type": "code",
   "execution_count": null,
   "metadata": {},
   "outputs": [],
   "source": []
  }
 ],
 "metadata": {
  "kernelspec": {
   "display_name": "Python 3",
   "language": "python",
   "name": "python3"
  },
  "language_info": {
   "codemirror_mode": {
    "name": "ipython",
    "version": 3
   },
   "file_extension": ".py",
   "mimetype": "text/x-python",
   "name": "python",
   "nbconvert_exporter": "python",
   "pygments_lexer": "ipython3",
   "version": "3.8.0"
  }
 },
 "nbformat": 4,
 "nbformat_minor": 4
}
