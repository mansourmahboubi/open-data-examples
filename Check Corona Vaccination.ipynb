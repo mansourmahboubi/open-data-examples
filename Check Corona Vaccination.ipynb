{
 "cells": [
  {
   "cell_type": "markdown",
   "metadata": {},
   "source": [
    "### Check Corona Vaccinations \n",
    "* [this Notebook](https://github.com/salgo60/open-data-examples/blob/master/Check%20Corona%20Vaccination.ipynb) \n",
    "\n",
    "* read the data on [github.com/owid/covid-19-data...vaccinations/country_data](https://github.com/owid/covid-19-data/tree/master/public/data/vaccinations/country_data)\n",
    "  * Data is reported cummulated for United Kingdom but also subnational data England, Scotland, Northern Ireland, Wales see [issue 228](https://github.com/owid/covid-19-data/issues/228)\n",
    "     * although subnational data have been published quite irregularly so far ==> we filter them out"
   ]
  },
  {
   "cell_type": "code",
   "execution_count": 1,
   "metadata": {},
   "outputs": [],
   "source": [
    "from datetime import datetime\n",
    "start_time  = datetime.now()\n",
    "print(\"Last run: \", start_time)"
   ]
  },
  {
   "cell_type": "code",
   "execution_count": 2,
   "metadata": {},
   "outputs": [],
   "source": [
    "import pandas as pd\n",
    "GITHUB_directory = \"https://api.github.com/repos/owid/covid-19-data/contents/public/data/vaccinations/country_data\"  \n",
    "countries = pd.read_json(GITHUB_directory)  \n",
    "listcountries = []\n",
    "for index,row in countries.iterrows():\n",
    "    df = pd.read_csv(row[\"download_url\"])\n",
    "    listcountries.append(df)\n",
    "    \n",
    "allCountries = pd.concat(listcountries, axis=0, ignore_index=True)    "
   ]
  },
  {
   "cell_type": "code",
   "execution_count": 3,
   "metadata": {},
   "outputs": [
    {
     "data": {
      "text/html": [
       "<div>\n",
       "<style scoped>\n",
       "    .dataframe tbody tr th:only-of-type {\n",
       "        vertical-align: middle;\n",
       "    }\n",
       "\n",
       "    .dataframe tbody tr th {\n",
       "        vertical-align: top;\n",
       "    }\n",
       "\n",
       "    .dataframe thead th {\n",
       "        text-align: right;\n",
       "    }\n",
       "</style>\n",
       "<table border=\"1\" class=\"dataframe\">\n",
       "  <thead>\n",
       "    <tr style=\"text-align: right;\">\n",
       "      <th></th>\n",
       "      <th>location</th>\n",
       "      <th>date</th>\n",
       "      <th>vaccine</th>\n",
       "      <th>total_vaccinations</th>\n",
       "      <th>source_url</th>\n",
       "    </tr>\n",
       "  </thead>\n",
       "  <tbody>\n",
       "    <tr>\n",
       "      <th>26</th>\n",
       "      <td>United Kingdom</td>\n",
       "      <td>2020-12-24</td>\n",
       "      <td>Pfizer/BioNTech</td>\n",
       "      <td>800000</td>\n",
       "      <td>https://www.gov.uk/government/speeches/prime-m...</td>\n",
       "    </tr>\n",
       "    <tr>\n",
       "      <th>1</th>\n",
       "      <td>Bahrain</td>\n",
       "      <td>2020-12-24</td>\n",
       "      <td>Sinopharm</td>\n",
       "      <td>50071</td>\n",
       "      <td>https://twitter.com/MOH_Bahrain/status/1342189...</td>\n",
       "    </tr>\n",
       "    <tr>\n",
       "      <th>0</th>\n",
       "      <td>Bahrain</td>\n",
       "      <td>2020-12-23</td>\n",
       "      <td>Sinopharm</td>\n",
       "      <td>38965</td>\n",
       "      <td>https://twitter.com/MOH_Bahrain/status/1341855...</td>\n",
       "    </tr>\n",
       "    <tr>\n",
       "      <th>27</th>\n",
       "      <td>United States</td>\n",
       "      <td>2020-12-23</td>\n",
       "      <td>Moderna, Pfizer/BioNTech</td>\n",
       "      <td>1008025</td>\n",
       "      <td>https://covid.cdc.gov/covid-data-tracker/#vacc...</td>\n",
       "    </tr>\n",
       "    <tr>\n",
       "      <th>17</th>\n",
       "      <td>Israel</td>\n",
       "      <td>2020-12-23</td>\n",
       "      <td>Pfizer/BioNTech</td>\n",
       "      <td>140000</td>\n",
       "      <td>https://twitter.com/YuliEdelstein/status/13418...</td>\n",
       "    </tr>\n",
       "    <tr>\n",
       "      <th>11</th>\n",
       "      <td>Canada</td>\n",
       "      <td>2020-12-23</td>\n",
       "      <td>Pfizer/BioNTech</td>\n",
       "      <td>31736</td>\n",
       "      <td>https://github.com/ishaberry/Covid19Canada/blo...</td>\n",
       "    </tr>\n",
       "    <tr>\n",
       "      <th>10</th>\n",
       "      <td>Canada</td>\n",
       "      <td>2020-12-22</td>\n",
       "      <td>Pfizer/BioNTech</td>\n",
       "      <td>26287</td>\n",
       "      <td>https://github.com/ishaberry/Covid19Canada/blo...</td>\n",
       "    </tr>\n",
       "    <tr>\n",
       "      <th>16</th>\n",
       "      <td>Israel</td>\n",
       "      <td>2020-12-22</td>\n",
       "      <td>Pfizer/BioNTech</td>\n",
       "      <td>71876</td>\n",
       "      <td>https://www.gov.il/en/departments/news/2212202...</td>\n",
       "    </tr>\n",
       "    <tr>\n",
       "      <th>28</th>\n",
       "      <td>United States</td>\n",
       "      <td>2020-12-21</td>\n",
       "      <td>Moderna, Pfizer/BioNTech</td>\n",
       "      <td>614117</td>\n",
       "      <td>https://covid.cdc.gov/covid-data-tracker/#vacc...</td>\n",
       "    </tr>\n",
       "    <tr>\n",
       "      <th>9</th>\n",
       "      <td>Canada</td>\n",
       "      <td>2020-12-21</td>\n",
       "      <td>Pfizer/BioNTech</td>\n",
       "      <td>20866</td>\n",
       "      <td>https://github.com/ishaberry/Covid19Canada/blo...</td>\n",
       "    </tr>\n",
       "    <tr>\n",
       "      <th>15</th>\n",
       "      <td>Israel</td>\n",
       "      <td>2020-12-21</td>\n",
       "      <td>Pfizer/BioNTech</td>\n",
       "      <td>30000</td>\n",
       "      <td>https://www.gov.il/en/departments/news/2212202...</td>\n",
       "    </tr>\n",
       "    <tr>\n",
       "      <th>8</th>\n",
       "      <td>Canada</td>\n",
       "      <td>2020-12-20</td>\n",
       "      <td>Pfizer/BioNTech</td>\n",
       "      <td>14492</td>\n",
       "      <td>https://github.com/ishaberry/Covid19Canada/blo...</td>\n",
       "    </tr>\n",
       "    <tr>\n",
       "      <th>25</th>\n",
       "      <td>United Kingdom</td>\n",
       "      <td>2020-12-20</td>\n",
       "      <td>Pfizer/BioNTech</td>\n",
       "      <td>616933</td>\n",
       "      <td>https://coronavirus.data.gov.uk/</td>\n",
       "    </tr>\n",
       "    <tr>\n",
       "      <th>29</th>\n",
       "      <td>United States</td>\n",
       "      <td>2020-12-20</td>\n",
       "      <td>Moderna, Pfizer/BioNTech</td>\n",
       "      <td>556208</td>\n",
       "      <td>https://www.cdc.gov/coronavirus/2019-ncov/vacc...</td>\n",
       "    </tr>\n",
       "    <tr>\n",
       "      <th>23</th>\n",
       "      <td>Scotland</td>\n",
       "      <td>2020-12-20</td>\n",
       "      <td>Pfizer/BioNTech</td>\n",
       "      <td>56676</td>\n",
       "      <td>https://coronavirus.data.gov.uk/</td>\n",
       "    </tr>\n",
       "  </tbody>\n",
       "</table>\n",
       "</div>"
      ],
      "text/plain": [
       "          location        date  ... total_vaccinations                                         source_url\n",
       "26  United Kingdom  2020-12-24  ...             800000  https://www.gov.uk/government/speeches/prime-m...\n",
       "1          Bahrain  2020-12-24  ...              50071  https://twitter.com/MOH_Bahrain/status/1342189...\n",
       "0          Bahrain  2020-12-23  ...              38965  https://twitter.com/MOH_Bahrain/status/1341855...\n",
       "27   United States  2020-12-23  ...            1008025  https://covid.cdc.gov/covid-data-tracker/#vacc...\n",
       "17          Israel  2020-12-23  ...             140000  https://twitter.com/YuliEdelstein/status/13418...\n",
       "11          Canada  2020-12-23  ...              31736  https://github.com/ishaberry/Covid19Canada/blo...\n",
       "10          Canada  2020-12-22  ...              26287  https://github.com/ishaberry/Covid19Canada/blo...\n",
       "16          Israel  2020-12-22  ...              71876  https://www.gov.il/en/departments/news/2212202...\n",
       "28   United States  2020-12-21  ...             614117  https://covid.cdc.gov/covid-data-tracker/#vacc...\n",
       "9           Canada  2020-12-21  ...              20866  https://github.com/ishaberry/Covid19Canada/blo...\n",
       "15          Israel  2020-12-21  ...              30000  https://www.gov.il/en/departments/news/2212202...\n",
       "8           Canada  2020-12-20  ...              14492  https://github.com/ishaberry/Covid19Canada/blo...\n",
       "25  United Kingdom  2020-12-20  ...             616933                   https://coronavirus.data.gov.uk/\n",
       "29   United States  2020-12-20  ...             556208  https://www.cdc.gov/coronavirus/2019-ncov/vacc...\n",
       "23        Scotland  2020-12-20  ...              56676                   https://coronavirus.data.gov.uk/\n",
       "\n",
       "[15 rows x 5 columns]"
      ]
     },
     "execution_count": 3,
     "metadata": {},
     "output_type": "execute_result"
    }
   ],
   "source": [
    "# Show 15 latest sorted by dates\n",
    "allCountries.sort_values(by=['date'],ascending=False)[0:15]"
   ]
  },
  {
   "cell_type": "code",
   "execution_count": 4,
   "metadata": {},
   "outputs": [
    {
     "name": "stdout",
     "output_type": "stream",
     "text": [
      "<class 'pandas.core.frame.DataFrame'>\n",
      "Int64Index: 26 entries, 0 to 30\n",
      "Data columns (total 5 columns):\n",
      " #   Column              Non-Null Count  Dtype         \n",
      "---  ------              --------------  -----         \n",
      " 0   location            26 non-null     object        \n",
      " 1   date                26 non-null     datetime64[ns]\n",
      " 2   vaccine             26 non-null     object        \n",
      " 3   total_vaccinations  26 non-null     int64         \n",
      " 4   source_url          26 non-null     object        \n",
      "dtypes: datetime64[ns](1), int64(1), object(3)\n",
      "memory usage: 1.2+ KB\n"
     ]
    }
   ],
   "source": [
    "allCountries['date'] = allCountries['date'].astype('datetime64[ns]')   \n",
    "\n",
    "# Filter away Wales , England, Scotland see above and [issue 228](https://github.com/owid/covid-19-data/issues/228)\n",
    "list_of_countries_to_delete = [\"England\",\"Northern Ireland\",\"Scotland\",\"Wales\"]\n",
    "\n",
    "allCountriesFiltered = allCountries[~allCountries[\"location\"].isin(list_of_countries_to_delete)]\n",
    "allCountriesFiltered.info()\n",
    "\n"
   ]
  },
  {
   "cell_type": "code",
   "execution_count": null,
   "metadata": {},
   "outputs": [],
   "source": []
  },
  {
   "cell_type": "code",
   "execution_count": 5,
   "metadata": {},
   "outputs": [
    {
     "data": {
      "image/png": "[encoded data removed]",
      "text/plain": [
       "<Figure size 432x288 with 1 Axes>"
      ]
     },
     "metadata": {},
     "output_type": "display_data"
    }
   ],
   "source": [
    "#Countries\n",
    "%matplotlib inline    \n",
    "import matplotlib.pyplot as plt   \n",
    "\n",
    "#Reported numbers are accumulated --> get latest\n",
    "plotCountries = allCountriesFiltered.sort_values(by=['date'],ascending=False) \\\n",
    "    [['total_vaccinations','location','vaccine']].groupby('location').apply(lambda x: x.head(1))\n",
    "plotCountries = plotCountries.set_index('location')\n",
    "plotCountries[\"total_vaccinations\"].plot( y='location',kind = 'pie') \n",
    "plt.title(\"Vaccination per countries - \" + start_time.strftime('%Y %m %d'))\n",
    "plt.savefig('Corona_VaccinationperCountry.png')  \n",
    "plt.show() \n"
   ]
  },
  {
   "cell_type": "code",
   "execution_count": 6,
   "metadata": {},
   "outputs": [
    {
     "data": {
      "text/html": [
       "<div>\n",
       "<style scoped>\n",
       "    .dataframe tbody tr th:only-of-type {\n",
       "        vertical-align: middle;\n",
       "    }\n",
       "\n",
       "    .dataframe tbody tr th {\n",
       "        vertical-align: top;\n",
       "    }\n",
       "\n",
       "    .dataframe thead th {\n",
       "        text-align: right;\n",
       "    }\n",
       "</style>\n",
       "<table border=\"1\" class=\"dataframe\">\n",
       "  <thead>\n",
       "    <tr style=\"text-align: right;\">\n",
       "      <th></th>\n",
       "      <th>total_vaccinations</th>\n",
       "      <th>vaccine</th>\n",
       "    </tr>\n",
       "    <tr>\n",
       "      <th>location</th>\n",
       "      <th></th>\n",
       "      <th></th>\n",
       "    </tr>\n",
       "  </thead>\n",
       "  <tbody>\n",
       "    <tr>\n",
       "      <th>Bahrain</th>\n",
       "      <td>50071</td>\n",
       "      <td>Sinopharm</td>\n",
       "    </tr>\n",
       "    <tr>\n",
       "      <th>Canada</th>\n",
       "      <td>31736</td>\n",
       "      <td>Pfizer/BioNTech</td>\n",
       "    </tr>\n",
       "    <tr>\n",
       "      <th>China</th>\n",
       "      <td>1000000</td>\n",
       "      <td>CNBG, Sinovac</td>\n",
       "    </tr>\n",
       "    <tr>\n",
       "      <th>Israel</th>\n",
       "      <td>140000</td>\n",
       "      <td>Pfizer/BioNTech</td>\n",
       "    </tr>\n",
       "    <tr>\n",
       "      <th>Russia</th>\n",
       "      <td>200000</td>\n",
       "      <td>Sputnik V</td>\n",
       "    </tr>\n",
       "    <tr>\n",
       "      <th>United Kingdom</th>\n",
       "      <td>800000</td>\n",
       "      <td>Pfizer/BioNTech</td>\n",
       "    </tr>\n",
       "    <tr>\n",
       "      <th>United States</th>\n",
       "      <td>1008025</td>\n",
       "      <td>Moderna, Pfizer/BioNTech</td>\n",
       "    </tr>\n",
       "  </tbody>\n",
       "</table>\n",
       "</div>"
      ],
      "text/plain": [
       "                total_vaccinations                   vaccine\n",
       "location                                                    \n",
       "Bahrain                      50071                 Sinopharm\n",
       "Canada                       31736           Pfizer/BioNTech\n",
       "China                      1000000             CNBG, Sinovac\n",
       "Israel                      140000           Pfizer/BioNTech\n",
       "Russia                      200000                 Sputnik V\n",
       "United Kingdom              800000           Pfizer/BioNTech\n",
       "United States              1008025  Moderna, Pfizer/BioNTech"
      ]
     },
     "execution_count": 6,
     "metadata": {},
     "output_type": "execute_result"
    }
   ],
   "source": [
    "plotCountries"
   ]
  },
  {
   "cell_type": "code",
   "execution_count": 7,
   "metadata": {},
   "outputs": [
    {
     "data": {
      "text/plain": [
       "total_vaccinations                                              3229832\n",
       "vaccine               SinopharmPfizer/BioNTechCNBG, SinovacPfizer/Bi...\n",
       "dtype: object"
      ]
     },
     "execution_count": 7,
     "metadata": {},
     "output_type": "execute_result"
    }
   ],
   "source": [
    "plotCountries.sum()"
   ]
  },
  {
   "cell_type": "code",
   "execution_count": 8,
   "metadata": {},
   "outputs": [
    {
     "data": {
      "image/png": "[encoded data removed]",
      "text/plain": [
       "<Figure size 432x288 with 1 Axes>"
      ]
     },
     "metadata": {},
     "output_type": "display_data"
    }
   ],
   "source": [
    "# Vaccine numbers\n",
    "plotVaccine = plotCountries.groupby('vaccine')['total_vaccinations'].sum()\n",
    "plotVaccine.plot( kind = 'pie') \n",
    "plt.title(\"Vaccination per Vaccine - \" + start_time.strftime('%Y %m %d'))\n",
    "plt.savefig('Corona_VaccinationperVaccine.png')  \n",
    "plt.show()"
   ]
  },
  {
   "cell_type": "code",
   "execution_count": 9,
   "metadata": {},
   "outputs": [
    {
     "data": {
      "text/plain": [
       "vaccine\n",
       "Sinopharm                     50071\n",
       "Sputnik V                    200000\n",
       "Pfizer/BioNTech              971736\n",
       "CNBG, Sinovac               1000000\n",
       "Moderna, Pfizer/BioNTech    1008025\n",
       "Name: total_vaccinations, dtype: int64"
      ]
     },
     "execution_count": 9,
     "metadata": {},
     "output_type": "execute_result"
    }
   ],
   "source": [
    "plotVaccine.sort_values(ascending=True)"
   ]
  },
  {
   "cell_type": "code",
   "execution_count": 10,
   "metadata": {},
   "outputs": [],
   "source": [
    "# Sweden have 10 000 doses...."
   ]
  },
  {
   "cell_type": "code",
   "execution_count": 11,
   "metadata": {},
   "outputs": [
    {
     "name": "stdout",
     "output_type": "stream",
     "text": [
      "Ended:  2020-12-25 09:29:14.152511\n",
      "Time elapsed (hh:mm:ss.ms) 0:00:03.189371\n"
     ]
    }
   ],
   "source": [
    "end = datetime.now()\n",
    "print(\"Ended: \", end) \n",
    "print('Time elapsed (hh:mm:ss.ms) {}'.format(datetime.now() - start_time))"
   ]
  },
  {
   "cell_type": "markdown",
   "metadata": {},
   "source": [
    "### Whole dataset\n",
    "see \n",
    "* [COVID-19 Data Processing Pipelines and datasets](https://github.com/covid19-data/covid19-data)"
   ]
  },
  {
   "cell_type": "code",
   "execution_count": 12,
   "metadata": {},
   "outputs": [],
   "source": [
    "ourworldindata = \"https://covid.ourworldindata.org/data/owid-covid-data.json\"\n",
    "#df_ourworldindata = pd.read_json(ourworldindata) "
   ]
  },
  {
   "cell_type": "code",
   "execution_count": 13,
   "metadata": {},
   "outputs": [],
   "source": [
    "#df_ourworldindata.info()"
   ]
  }
 ],
 "metadata": {
  "kernelspec": {
   "display_name": "Python 3",
   "language": "python",
   "name": "python3"
  },
  "language_info": {
   "codemirror_mode": {
    "name": "ipython",
    "version": 3
   },
   "file_extension": ".py",
   "mimetype": "text/x-python",
   "name": "python",
   "nbconvert_exporter": "python",
   "pygments_lexer": "ipython3",
   "version": "3.8.0"
  }
 },
 "nbformat": 4,
 "nbformat_minor": 4
}
