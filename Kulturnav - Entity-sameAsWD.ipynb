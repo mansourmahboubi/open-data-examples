{
 "cells": [
  {
   "cell_type": "markdown",
   "metadata": {},
   "source": [
    "## Kulturnav - Same as Wikidata  \n",
    "* [This Notebook](https://github.com/salgo60/open-data-examples/blob/master/Kulturnav%20-%20Entity-sameAsWD.ipynb)\n",
    "* [API](https://kulturnav.org/info/api)\n",
    "  * [get all same as](https://kulturnav.org/api/search/actualEntityType:Person,entity.sameAs:https%3A%2F%2Fwww.wikidata.org%2Fentity%2FQ*)"
   ]
  },
  {
   "cell_type": "code",
   "execution_count": 1,
   "metadata": {},
   "outputs": [
    {
     "data": {
      "application/vnd.jupyter.widget-view+json": {
       "model_id": "6654e1f9f73f49c7931396f0c6ab2081",
       "version_major": 2,
       "version_minor": 0
      },
      "text/plain": [
       "HBox(children=(FloatProgress(value=0.0, max=50.0), HTML(value='')))"
      ]
     },
     "metadata": {},
     "output_type": "display_data"
    },
    {
     "name": "stdout",
     "output_type": "stream",
     "text": [
      "\t <class 'str'> \t https://www.wikidata.org/entity/Q20973618\n",
      "\n",
      "1000  antal poster\n"
     ]
    }
   ],
   "source": [
    "import urllib3, json\n",
    "import traceback\n",
    "import pandas as pd  \n",
    "from tqdm.notebook import trange  \n",
    "http = urllib3.PoolManager() \n",
    "pd.set_option(\"display.max.columns\", None) \n",
    "urlbase = \"https://kulturnav.org/api/search/actualEntityType:Person,entity.sameAs:https%3A%2F%2Fwww.wikidata.org%2Fentity%2FQ*?start=\" \n",
    "urlbase = \"https://kulturnav.org/api/search/actualEntityType:Person,entity.sameAs:https%3A%2F%2Fwww.wikidata.org%2Fentity%2FQ*/\" \n",
    "urlbase = \"https://kulturnav.org/api/search/entity.sameAs:https%3A%2F%2Fwww.wikidata.org%2Fentity%2FQ*/\" \n",
    "\n",
    "dftot = pd.DataFrame()\n",
    "listNewKulturnav =[]\n",
    "for i in trange(1,1000,20):\n",
    "    url = urlbase + str(i)\n",
    "    r = http.request('GET', url)\n",
    "    if len(r.data) > 10: \n",
    "        #print(len(r.data),r.status, url)\n",
    "        new_item = dict()\n",
    "\n",
    "        try:\n",
    "            data = json.loads(r.data)\n",
    "            dftot = dftot.append(pd.DataFrame(data),sort=False)\n",
    "            for d in data:\n",
    "                try:\n",
    "                    captionsv = d[\"caption\"][\"sv\"]\n",
    "                except:\n",
    "                    captionsv = \"\"\n",
    "                try:\n",
    "                    captionno = d[\"caption\"][\"no\"]\n",
    "                except:\n",
    "                    captionno = \"\"\n",
    "                try:\n",
    "                    sameasList = d[\"properties\"][\"entity.sameAs\"]\n",
    "                    for s in sameasList:\n",
    "                        wdurl = s[\"value\"]\n",
    "                        if \"wikidata.org\" in wdurl:\n",
    "                            if d[\"uuid\"] in \"d52e11ab-7f03-4f3e-bdc4-da24ee497c95\":\n",
    "                                print(\"\\t\",type(wdurl),\"\\t\", wdurl)\n",
    "                            wdurl =  wdurl.replace(\"https://www.wikidata.org/entity/\",\"\")\n",
    "                            break\n",
    "\n",
    "                except:\n",
    "                    pass\n",
    "                #print(d[\"uuid\"],\"|\",d[\"entityType\"],\"|\",captionsv,\"|\",captionno,\"|\",wdurl)\n",
    "                new_item['uuid'] = d[\"uuid\"]\n",
    "                new_item['entityType'] = d[\"entityType\"]\n",
    "                new_item['captionsv'] = captionsv\n",
    "                new_item['captionno'] = captionno\n",
    "                new_item['wdurl'] = wdurl\n",
    "\n",
    "                listNewKulturnav.append(new_item)\n",
    "        except Exception:\n",
    "            traceback.print_exc()\n",
    "            print(\"\\tError in i=\",i) \n",
    "        \n",
    "print (len(listNewKulturnav) ,\" antal poster\")\n",
    "\n"
   ]
  },
  {
   "cell_type": "code",
   "execution_count": 2,
   "metadata": {},
   "outputs": [],
   "source": [
    "kulturnav_df = pd.DataFrame(listNewKulturnav)"
   ]
  },
  {
   "cell_type": "code",
   "execution_count": 3,
   "metadata": {},
   "outputs": [],
   "source": [
    "#dftot.info()"
   ]
  },
  {
   "cell_type": "code",
   "execution_count": 4,
   "metadata": {},
   "outputs": [
    {
     "name": "stdout",
     "output_type": "stream",
     "text": [
      "<class 'pandas.core.frame.DataFrame'>\n",
      "RangeIndex: 1000 entries, 0 to 999\n",
      "Data columns (total 5 columns):\n",
      "uuid          1000 non-null object\n",
      "entityType    1000 non-null object\n",
      "captionsv     1000 non-null object\n",
      "captionno     1000 non-null object\n",
      "wdurl         1000 non-null object\n",
      "dtypes: object(5)\n",
      "memory usage: 39.2+ KB\n"
     ]
    }
   ],
   "source": [
    "# 1655 om 10000\n",
    "kulturnav_df.info()"
   ]
  },
  {
   "cell_type": "code",
   "execution_count": 5,
   "metadata": {},
   "outputs": [
    {
     "data": {
      "text/html": [
       "<div>\n",
       "<style scoped>\n",
       "    .dataframe tbody tr th:only-of-type {\n",
       "        vertical-align: middle;\n",
       "    }\n",
       "\n",
       "    .dataframe tbody tr th {\n",
       "        vertical-align: top;\n",
       "    }\n",
       "\n",
       "    .dataframe thead th {\n",
       "        text-align: right;\n",
       "    }\n",
       "</style>\n",
       "<table border=\"1\" class=\"dataframe\">\n",
       "  <thead>\n",
       "    <tr style=\"text-align: right;\">\n",
       "      <th></th>\n",
       "      <th>uuid</th>\n",
       "      <th>entityType</th>\n",
       "      <th>captionsv</th>\n",
       "      <th>captionno</th>\n",
       "      <th>wdurl</th>\n",
       "    </tr>\n",
       "  </thead>\n",
       "  <tbody>\n",
       "    <tr>\n",
       "      <th>20</th>\n",
       "      <td>e824461d-8fc1-4fcd-80fe-8931c33ffa84</td>\n",
       "      <td>Person</td>\n",
       "      <td>Ahlsén, Tore (1906 - 1991)</td>\n",
       "      <td></td>\n",
       "      <td>Q17298514</td>\n",
       "    </tr>\n",
       "    <tr>\n",
       "      <th>21</th>\n",
       "      <td>e824461d-8fc1-4fcd-80fe-8931c33ffa84</td>\n",
       "      <td>Person</td>\n",
       "      <td>Ahlsén, Tore (1906 - 1991)</td>\n",
       "      <td></td>\n",
       "      <td>Q17298514</td>\n",
       "    </tr>\n",
       "    <tr>\n",
       "      <th>22</th>\n",
       "      <td>e824461d-8fc1-4fcd-80fe-8931c33ffa84</td>\n",
       "      <td>Person</td>\n",
       "      <td>Ahlsén, Tore (1906 - 1991)</td>\n",
       "      <td></td>\n",
       "      <td>Q17298514</td>\n",
       "    </tr>\n",
       "    <tr>\n",
       "      <th>23</th>\n",
       "      <td>e824461d-8fc1-4fcd-80fe-8931c33ffa84</td>\n",
       "      <td>Person</td>\n",
       "      <td>Ahlsén, Tore (1906 - 1991)</td>\n",
       "      <td></td>\n",
       "      <td>Q17298514</td>\n",
       "    </tr>\n",
       "    <tr>\n",
       "      <th>24</th>\n",
       "      <td>e824461d-8fc1-4fcd-80fe-8931c33ffa84</td>\n",
       "      <td>Person</td>\n",
       "      <td>Ahlsén, Tore (1906 - 1991)</td>\n",
       "      <td></td>\n",
       "      <td>Q17298514</td>\n",
       "    </tr>\n",
       "    <tr>\n",
       "      <th>...</th>\n",
       "      <td>...</td>\n",
       "      <td>...</td>\n",
       "      <td>...</td>\n",
       "      <td>...</td>\n",
       "      <td>...</td>\n",
       "    </tr>\n",
       "    <tr>\n",
       "      <th>95</th>\n",
       "      <td>107a18f0-8ae8-44f0-9bd5-1767dd00edfb</td>\n",
       "      <td>NavalVessel</td>\n",
       "      <td>ASPÖ (1962)</td>\n",
       "      <td></td>\n",
       "      <td>Q10513108</td>\n",
       "    </tr>\n",
       "    <tr>\n",
       "      <th>96</th>\n",
       "      <td>107a18f0-8ae8-44f0-9bd5-1767dd00edfb</td>\n",
       "      <td>NavalVessel</td>\n",
       "      <td>ASPÖ (1962)</td>\n",
       "      <td></td>\n",
       "      <td>Q10513108</td>\n",
       "    </tr>\n",
       "    <tr>\n",
       "      <th>97</th>\n",
       "      <td>107a18f0-8ae8-44f0-9bd5-1767dd00edfb</td>\n",
       "      <td>NavalVessel</td>\n",
       "      <td>ASPÖ (1962)</td>\n",
       "      <td></td>\n",
       "      <td>Q10513108</td>\n",
       "    </tr>\n",
       "    <tr>\n",
       "      <th>98</th>\n",
       "      <td>107a18f0-8ae8-44f0-9bd5-1767dd00edfb</td>\n",
       "      <td>NavalVessel</td>\n",
       "      <td>ASPÖ (1962)</td>\n",
       "      <td></td>\n",
       "      <td>Q10513108</td>\n",
       "    </tr>\n",
       "    <tr>\n",
       "      <th>99</th>\n",
       "      <td>107a18f0-8ae8-44f0-9bd5-1767dd00edfb</td>\n",
       "      <td>NavalVessel</td>\n",
       "      <td>ASPÖ (1962)</td>\n",
       "      <td></td>\n",
       "      <td>Q10513108</td>\n",
       "    </tr>\n",
       "  </tbody>\n",
       "</table>\n",
       "<p>80 rows × 5 columns</p>\n",
       "</div>"
      ],
      "text/plain": [
       "                                    uuid   entityType  \\\n",
       "20  e824461d-8fc1-4fcd-80fe-8931c33ffa84       Person   \n",
       "21  e824461d-8fc1-4fcd-80fe-8931c33ffa84       Person   \n",
       "22  e824461d-8fc1-4fcd-80fe-8931c33ffa84       Person   \n",
       "23  e824461d-8fc1-4fcd-80fe-8931c33ffa84       Person   \n",
       "24  e824461d-8fc1-4fcd-80fe-8931c33ffa84       Person   \n",
       "..                                   ...          ...   \n",
       "95  107a18f0-8ae8-44f0-9bd5-1767dd00edfb  NavalVessel   \n",
       "96  107a18f0-8ae8-44f0-9bd5-1767dd00edfb  NavalVessel   \n",
       "97  107a18f0-8ae8-44f0-9bd5-1767dd00edfb  NavalVessel   \n",
       "98  107a18f0-8ae8-44f0-9bd5-1767dd00edfb  NavalVessel   \n",
       "99  107a18f0-8ae8-44f0-9bd5-1767dd00edfb  NavalVessel   \n",
       "\n",
       "                     captionsv captionno      wdurl  \n",
       "20  Ahlsén, Tore (1906 - 1991)            Q17298514  \n",
       "21  Ahlsén, Tore (1906 - 1991)            Q17298514  \n",
       "22  Ahlsén, Tore (1906 - 1991)            Q17298514  \n",
       "23  Ahlsén, Tore (1906 - 1991)            Q17298514  \n",
       "24  Ahlsén, Tore (1906 - 1991)            Q17298514  \n",
       "..                         ...       ...        ...  \n",
       "95                 ASPÖ (1962)            Q10513108  \n",
       "96                 ASPÖ (1962)            Q10513108  \n",
       "97                 ASPÖ (1962)            Q10513108  \n",
       "98                 ASPÖ (1962)            Q10513108  \n",
       "99                 ASPÖ (1962)            Q10513108  \n",
       "\n",
       "[80 rows x 5 columns]"
      ]
     },
     "execution_count": 5,
     "metadata": {},
     "output_type": "execute_result"
    }
   ],
   "source": [
    "kulturnav_df[20:100]"
   ]
  },
  {
   "cell_type": "code",
   "execution_count": 6,
   "metadata": {},
   "outputs": [
    {
     "data": {
      "text/plain": [
       "950"
      ]
     },
     "execution_count": 6,
     "metadata": {},
     "output_type": "execute_result"
    }
   ],
   "source": [
    "kulturnav_df.duplicated(subset=None, keep='first').sum()"
   ]
  },
  {
   "cell_type": "code",
   "execution_count": 7,
   "metadata": {},
   "outputs": [
    {
     "data": {
      "text/plain": [
       "Person          720\n",
       "NavalVessel     220\n",
       "Organization     40\n",
       "Place            20\n",
       "Name: entityType, dtype: int64"
      ]
     },
     "execution_count": 7,
     "metadata": {},
     "output_type": "execute_result"
    }
   ],
   "source": [
    "kulturnav_df.entityType.value_counts()"
   ]
  },
  {
   "cell_type": "code",
   "execution_count": 8,
   "metadata": {},
   "outputs": [
    {
     "data": {
      "image/png": "[encoded data removed]",
      "text/plain": [
       "<Figure size 1800x360 with 1 Axes>"
      ]
     },
     "metadata": {},
     "output_type": "display_data"
    }
   ],
   "source": [
    "%matplotlib inline  \n",
    "import matplotlib.pyplot as plt   \n",
    "    !Q       "
   ]
  },
  {
   "cell_type": "markdown",
   "metadata": {},
   "source": [
    "### Check Wikidata diff"
   ]
  },
  {
   "cell_type": "code",
   "execution_count": 9,
   "metadata": {},
   "outputs": [
    {
     "name": "stdout",
     "output_type": "stream",
     "text": [
      "Last run:  2020-09-07 02:06:03.704647\n"
     ]
    }
   ],
   "source": [
    "import sys,json\n",
    "import pandas as pd \n",
    "from datetime import datetime\n",
    "\n",
    "now = datetime.now()\n",
    "print(\"Last run: \", now)\n",
    "from SPARQLWrapper import SPARQLWrapper, JSON\n",
    "\n",
    "endpoint_url = \"https://query.wikidata.org/sparql\"\n",
    "\n",
    "query = \"\"\"SELECT ?item  (REPLACE(STR(?item), \".*Q\", \"Q\") AS ?qid) ?itemLabel ?kulturnav {\n",
    "  ?item wdt:P1254 ?kulturnav\n",
    "  SERVICE wikibase:label { bd:serviceParam wikibase:language \"sv,en\". }\n",
    "} order by ?itemLabel\"\"\"\n",
    "\n",
    "def get_sparql_dataframe(endpoint_url, query):\n",
    "    \"\"\"\n",
    "    Helper function to convert SPARQL results into a Pandas data frame.\n",
    "    \"\"\"\n",
    "    user_agent = \"salgo60/%s.%s\" % (sys.version_info[0], sys.version_info[1])\n",
    " \n",
    "    sparql = SPARQLWrapper(endpoint_url, agent=user_agent)\n",
    "    sparql.setQuery(query)\n",
    "    sparql.setReturnFormat(JSON)\n",
    "    result = sparql.query()\n",
    "\n",
    "    processed_results = json.load(result.response)\n",
    "    cols = processed_results['head']['vars']\n",
    "\n",
    "    out = []\n",
    "    for row in processed_results['results']['bindings']:\n",
    "        item = []\n",
    "        for c in cols:\n",
    "            item.append(row.get(c, {}).get('value'))\n",
    "        out.append(item)\n",
    "\n",
    "    return pd.DataFrame(out, columns=cols)\n",
    "\n",
    "WDKulturnav = get_sparql_dataframe(endpoint_url, query)\n",
    "WDKulturnav[\"Source\"] = \"Kulturnav\" "
   ]
  },
  {
   "cell_type": "code",
   "execution_count": 10,
   "metadata": {},
   "outputs": [
    {
     "name": "stdout",
     "output_type": "stream",
     "text": [
      "<class 'pandas.core.frame.DataFrame'>\n",
      "RangeIndex: 7158 entries, 0 to 7157\n",
      "Data columns (total 5 columns):\n",
      "item         7158 non-null object\n",
      "qid          7158 non-null object\n",
      "itemLabel    7158 non-null object\n",
      "kulturnav    7158 non-null object\n",
      "Source       7158 non-null object\n",
      "dtypes: object(5)\n",
      "memory usage: 279.7+ KB\n"
     ]
    }
   ],
   "source": [
    "WDKulturnav.info()"
   ]
  },
  {
   "cell_type": "code",
   "execution_count": null,
   "metadata": {},
   "outputs": [],
   "source": []
  },
  {
   "cell_type": "code",
   "execution_count": 11,
   "metadata": {},
   "outputs": [
    {
     "data": {
      "text/html": [
       "<div>\n",
       "<style scoped>\n",
       "    .dataframe tbody tr th:only-of-type {\n",
       "        vertical-align: middle;\n",
       "    }\n",
       "\n",
       "    .dataframe tbody tr th {\n",
       "        vertical-align: top;\n",
       "    }\n",
       "\n",
       "    .dataframe thead th {\n",
       "        text-align: right;\n",
       "    }\n",
       "</style>\n",
       "<table border=\"1\" class=\"dataframe\">\n",
       "  <thead>\n",
       "    <tr style=\"text-align: right;\">\n",
       "      <th></th>\n",
       "      <th>uuid</th>\n",
       "      <th>entityType</th>\n",
       "      <th>captionsv</th>\n",
       "      <th>captionno</th>\n",
       "      <th>wdurl</th>\n",
       "    </tr>\n",
       "  </thead>\n",
       "  <tbody>\n",
       "    <tr>\n",
       "      <th>0</th>\n",
       "      <td>d52e11ab-7f03-4f3e-bdc4-da24ee497c95</td>\n",
       "      <td>Person</td>\n",
       "      <td></td>\n",
       "      <td>Abel, Hans Holtermann (1830 - 1903)</td>\n",
       "      <td>Q20973618</td>\n",
       "    </tr>\n",
       "    <tr>\n",
       "      <th>1</th>\n",
       "      <td>d52e11ab-7f03-4f3e-bdc4-da24ee497c95</td>\n",
       "      <td>Person</td>\n",
       "      <td></td>\n",
       "      <td>Abel, Hans Holtermann (1830 - 1903)</td>\n",
       "      <td>Q20973618</td>\n",
       "    </tr>\n",
       "    <tr>\n",
       "      <th>2</th>\n",
       "      <td>d52e11ab-7f03-4f3e-bdc4-da24ee497c95</td>\n",
       "      <td>Person</td>\n",
       "      <td></td>\n",
       "      <td>Abel, Hans Holtermann (1830 - 1903)</td>\n",
       "      <td>Q20973618</td>\n",
       "    </tr>\n",
       "    <tr>\n",
       "      <th>3</th>\n",
       "      <td>d52e11ab-7f03-4f3e-bdc4-da24ee497c95</td>\n",
       "      <td>Person</td>\n",
       "      <td></td>\n",
       "      <td>Abel, Hans Holtermann (1830 - 1903)</td>\n",
       "      <td>Q20973618</td>\n",
       "    </tr>\n",
       "    <tr>\n",
       "      <th>4</th>\n",
       "      <td>d52e11ab-7f03-4f3e-bdc4-da24ee497c95</td>\n",
       "      <td>Person</td>\n",
       "      <td></td>\n",
       "      <td>Abel, Hans Holtermann (1830 - 1903)</td>\n",
       "      <td>Q20973618</td>\n",
       "    </tr>\n",
       "    <tr>\n",
       "      <th>...</th>\n",
       "      <td>...</td>\n",
       "      <td>...</td>\n",
       "      <td>...</td>\n",
       "      <td>...</td>\n",
       "      <td>...</td>\n",
       "    </tr>\n",
       "    <tr>\n",
       "      <th>995</th>\n",
       "      <td>9de040c5-c35b-406e-98dd-8280e00e6a81</td>\n",
       "      <td>Person</td>\n",
       "      <td>Nyberg, Bernt (1927 - 1978)</td>\n",
       "      <td></td>\n",
       "      <td>Q6019084</td>\n",
       "    </tr>\n",
       "    <tr>\n",
       "      <th>996</th>\n",
       "      <td>9de040c5-c35b-406e-98dd-8280e00e6a81</td>\n",
       "      <td>Person</td>\n",
       "      <td>Nyberg, Bernt (1927 - 1978)</td>\n",
       "      <td></td>\n",
       "      <td>Q6019084</td>\n",
       "    </tr>\n",
       "    <tr>\n",
       "      <th>997</th>\n",
       "      <td>9de040c5-c35b-406e-98dd-8280e00e6a81</td>\n",
       "      <td>Person</td>\n",
       "      <td>Nyberg, Bernt (1927 - 1978)</td>\n",
       "      <td></td>\n",
       "      <td>Q6019084</td>\n",
       "    </tr>\n",
       "    <tr>\n",
       "      <th>998</th>\n",
       "      <td>9de040c5-c35b-406e-98dd-8280e00e6a81</td>\n",
       "      <td>Person</td>\n",
       "      <td>Nyberg, Bernt (1927 - 1978)</td>\n",
       "      <td></td>\n",
       "      <td>Q6019084</td>\n",
       "    </tr>\n",
       "    <tr>\n",
       "      <th>999</th>\n",
       "      <td>9de040c5-c35b-406e-98dd-8280e00e6a81</td>\n",
       "      <td>Person</td>\n",
       "      <td>Nyberg, Bernt (1927 - 1978)</td>\n",
       "      <td></td>\n",
       "      <td>Q6019084</td>\n",
       "    </tr>\n",
       "  </tbody>\n",
       "</table>\n",
       "<p>1000 rows × 5 columns</p>\n",
       "</div>"
      ],
      "text/plain": [
       "                                     uuid entityType  \\\n",
       "0    d52e11ab-7f03-4f3e-bdc4-da24ee497c95     Person   \n",
       "1    d52e11ab-7f03-4f3e-bdc4-da24ee497c95     Person   \n",
       "2    d52e11ab-7f03-4f3e-bdc4-da24ee497c95     Person   \n",
       "3    d52e11ab-7f03-4f3e-bdc4-da24ee497c95     Person   \n",
       "4    d52e11ab-7f03-4f3e-bdc4-da24ee497c95     Person   \n",
       "..                                    ...        ...   \n",
       "995  9de040c5-c35b-406e-98dd-8280e00e6a81     Person   \n",
       "996  9de040c5-c35b-406e-98dd-8280e00e6a81     Person   \n",
       "997  9de040c5-c35b-406e-98dd-8280e00e6a81     Person   \n",
       "998  9de040c5-c35b-406e-98dd-8280e00e6a81     Person   \n",
       "999  9de040c5-c35b-406e-98dd-8280e00e6a81     Person   \n",
       "\n",
       "                       captionsv                            captionno  \\\n",
       "0                                 Abel, Hans Holtermann (1830 - 1903)   \n",
       "1                                 Abel, Hans Holtermann (1830 - 1903)   \n",
       "2                                 Abel, Hans Holtermann (1830 - 1903)   \n",
       "3                                 Abel, Hans Holtermann (1830 - 1903)   \n",
       "4                                 Abel, Hans Holtermann (1830 - 1903)   \n",
       "..                           ...                                  ...   \n",
       "995  Nyberg, Bernt (1927 - 1978)                                        \n",
       "996  Nyberg, Bernt (1927 - 1978)                                        \n",
       "997  Nyberg, Bernt (1927 - 1978)                                        \n",
       "998  Nyberg, Bernt (1927 - 1978)                                        \n",
       "999  Nyberg, Bernt (1927 - 1978)                                        \n",
       "\n",
       "         wdurl  \n",
       "0    Q20973618  \n",
       "1    Q20973618  \n",
       "2    Q20973618  \n",
       "3    Q20973618  \n",
       "4    Q20973618  \n",
       "..         ...  \n",
       "995   Q6019084  \n",
       "996   Q6019084  \n",
       "997   Q6019084  \n",
       "998   Q6019084  \n",
       "999   Q6019084  \n",
       "\n",
       "[1000 rows x 5 columns]"
      ]
     },
     "execution_count": 11,
     "metadata": {},
     "output_type": "execute_result"
    }
   ],
   "source": [
    "kulturnav_df"
   ]
  },
  {
   "cell_type": "code",
   "execution_count": null,
   "metadata": {},
   "outputs": [],
   "source": []
  },
  {
   "cell_type": "code",
   "execution_count": 12,
   "metadata": {},
   "outputs": [],
   "source": [
    "import numpy as np\n",
    "from pandas_profiling import ProfileReport"
   ]
  },
  {
   "cell_type": "code",
   "execution_count": 13,
   "metadata": {},
   "outputs": [],
   "source": [
    "profile = ProfileReport(kulturnav_df, title=\"Pandas Profiling Report\")"
   ]
  },
  {
   "cell_type": "code",
   "execution_count": null,
   "metadata": {},
   "outputs": [],
   "source": []
  }
 ],
 "metadata": {
  "kernelspec": {
   "display_name": "Python 3",
   "language": "python",
   "name": "python3"
  },
  "language_info": {
   "codemirror_mode": {
    "name": "ipython",
    "version": 3
   },
   "file_extension": ".py",
   "mimetype": "text/x-python",
   "name": "python",
   "nbconvert_exporter": "python",
   "pygments_lexer": "ipython3",
   "version": "3.8.0"
  }
 },
 "nbformat": 4,
 "nbformat_minor": 4
}
