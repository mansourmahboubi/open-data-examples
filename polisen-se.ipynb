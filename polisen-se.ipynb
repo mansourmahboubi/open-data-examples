{
 "cells": [
  {
   "cell_type": "markdown",
   "metadata": {},
   "source": [
    "![polis](https://polisen.se/siteassets/bilder/polisen_twitter_image.png)\n",
    "# Polisen.se - Get police events\n",
    "\n",
    "With this API you can get events based on _when_, _where_ and _what_, for more details [read this](https://polisen.se/om-polisen/om-webbplatsen/oppna-data/api-over-polisens-handelser/).\n",
    "\n",
    "- https://polisen.se/api\n",
    "  - [/events?locationname=Stockholm](https://polisen.se/api/events?locationname=Stockholm)\n",
    "  - [/events?type=Brand](https://polisen.se/api/events?type=Brand)\n",
    "  - [/events?DateTime=2020-05](https://polisen.se/api/events?DateTime=2020-05)\n",
    "  - [/events?DateTime=2020-05&type=Stöld&locationname=Stockholm](https://polisen.se/api/events?DateTime=2020-05&type=Stöld&locationname=Stockholm)\n",
    " \n",
    "    \n"
   ]
  },
  {
   "cell_type": "code",
   "execution_count": 5,
   "metadata": {},
   "outputs": [
    {
     "data": {
      "text/plain": [
       "'https://polisen.se/api/events?DateTime=2020-05&type=Stöld&locationname=Stockholm;Göteborg;Malmö;Uppsala'"
      ]
     },
     "execution_count": 5,
     "metadata": {},
     "output_type": "execute_result"
    }
   ],
   "source": [
    "from IPython.display  import JSON\n",
    "import requests\n",
    "import json\n",
    "\n",
    "baseUrl = \"https://polisen.se/api\"\n",
    "endpoint = \"/events?DateTime=2020-05&type=Stöld&locationname=Stockholm;Göteborg;Malmö;Uppsala\"\n",
    "url = baseUrl + endpoint\n",
    "url"
   ]
  },
  {
   "cell_type": "code",
   "execution_count": 6,
   "metadata": {},
   "outputs": [
    {
     "data": {
      "application/json": [
       {
        "datetime": "2020-05-12 17:20:00 +02:00",
        "id": 204496,
        "location": {
         "gps": "59.329324,18.068581",
         "name": "Stockholm"
        },
        "name": "12 maj 17:20, Stöld, Stockholm",
        "summary": "Två personer grips efter att ha tagit varor från en butik på Södermalm.",
        "type": "Stöld",
        "url": "https://polisen.se/aktuellt/handelser/2020/maj/12/12-maj-1720-stold-stockholm/"
       },
       {
        "datetime": "2020-05-12 1:35:00 +02:00",
        "id": 204375,
        "location": {
         "gps": "59.329324,18.068581",
         "name": "Stockholm"
        },
        "name": "12 maj 01:35, Stöld, Stockholm",
        "summary": "Polisen identiferade den man som är misstänkt för bland annat stöld av blommor i Örby.",
        "type": "Stöld",
        "url": "https://polisen.se/aktuellt/handelser/2020/maj/12/12-maj-0135-stold-stockholm/"
       },
       {
        "datetime": "2020-05-11 20:16:00 +02:00",
        "id": 204349,
        "location": {
         "gps": "59.329324,18.068581",
         "name": "Stockholm"
        },
        "name": "11 maj 20:16, Stöld, Stockholm",
        "summary": "En anmälare ringde in om att denne blivit bestulen vid en bankomat på Norrmalm.",
        "type": "Stöld",
        "url": "https://polisen.se/aktuellt/handelser/2020/maj/11/11-maj-2016-stold-stockholm/"
       },
       {
        "datetime": "2020-05-09 18:31:00 +02:00",
        "id": 204112,
        "location": {
         "gps": "55.604981,13.003822",
         "name": "Malmö"
        },
        "name": "09 maj 18:31, Stöld, Malmö",
        "summary": "Södervärn. Stöld av klocka.",
        "type": "Stöld",
        "url": "https://polisen.se/aktuellt/handelser/2020/maj/9/09-maj-1831-stold-malmo/"
       },
       {
        "datetime": "2020-05-08 16:12:00 +02:00",
        "id": 203996,
        "location": {
         "gps": "59.329324,18.068581",
         "name": "Stockholm"
        },
        "name": "08 maj 16:12, Stöld, Stockholm",
        "summary": "Två personer har gripits i en butik i Farsta Centrum efter att ha stulit. De uppger båda att de är under femton år.",
        "type": "Stöld",
        "url": "https://polisen.se/aktuellt/handelser/2020/maj/8/08-maj-1612-stold-stockholm/"
       },
       {
        "datetime": "2020-05-08 14:14:00 +02:00",
        "id": 203987,
        "location": {
         "gps": "59.329324,18.068581",
         "name": "Stockholm"
        },
        "name": "08 maj 14:14, Stöld, Stockholm",
        "summary": "Anmälaren har fått en dyrare barnvagn stulen och nu har vagnen annonserats ut till försäljning på en köp/sälj sight.",
        "type": "Stöld",
        "url": "https://polisen.se/aktuellt/handelser/2020/maj/8/08-maj-1414-stold-stockholm/"
       },
       {
        "datetime": "2020-05-08 3:39:00 +02:00",
        "id": 203908,
        "location": {
         "gps": "59.329324,18.068581",
         "name": "Stockholm"
        },
        "name": "08 maj 03:39, Stöld, Stockholm",
        "summary": "Ett inbrottslarm har registrerat rörelser i en byggnad i Bromma. När polisen anlände var flera rum uppbrutna.",
        "type": "Stöld",
        "url": "https://polisen.se/aktuellt/handelser/2020/maj/8/08-maj-0339-stold-stockholm/"
       },
       {
        "datetime": "2020-05-06 20:13:00 +02:00",
        "id": 203692,
        "location": {
         "gps": "59.329324,18.068581",
         "name": "Stockholm"
        },
        "name": "06 maj 20:13, Stöld, Stockholm",
        "summary": "En person har ringt på en lägenhet i Bagarmossen och när dörren öppnades gick personen in och tillgrep den boendes mobiltelefon.",
        "type": "Stöld",
        "url": "https://polisen.se/aktuellt/handelser/2020/maj/6/06-maj-2013-stold-stockholm/"
       },
       {
        "datetime": "2020-05-06 18:00:00 +02:00",
        "id": 203673,
        "location": {
         "gps": "59.329324,18.068581",
         "name": "Stockholm"
        },
        "name": "06 maj 18:00, Stöld, Stockholm",
        "summary": "Enligt initiala uppgifter har en person försökt stjäla en väska på ett café i city. En väktare har gripit den misstänkte.",
        "type": "Stöld",
        "url": "https://polisen.se/aktuellt/handelser/2020/maj/6/06-maj-1800-stold-stockholm/"
       },
       {
        "datetime": "2020-05-05 19:51:00 +02:00",
        "id": 203523,
        "location": {
         "gps": "59.329324,18.068581",
         "name": "Stockholm"
        },
        "name": "05 maj 19:51, Stöld, Stockholm",
        "summary": "Ett flertal personer har stulit föremål från en person på Södermalm. I den efterföljande polisinsatsen har tre personer gripits",
        "type": "Stöld",
        "url": "https://polisen.se/aktuellt/handelser/2020/maj/5/05-maj-1951-stold-stockholm/"
       },
       {
        "datetime": "2020-05-05 11:37:00 +02:00",
        "id": 203449,
        "location": {
         "gps": "59.329324,18.068581",
         "name": "Stockholm"
        },
        "name": "05 maj 11:37, Stöld, Stockholm",
        "summary": "En man har setts stjäla varor i en inredningsbutik på Norrmalm och vittnet har gått efter och samtidigt larmat polis.",
        "type": "Stöld",
        "url": "https://polisen.se/aktuellt/handelser/2020/maj/5/05-maj-1137-stold-stockholm/"
       }
      ],
      "text/plain": [
       "<IPython.core.display.JSON object>"
      ]
     },
     "execution_count": 6,
     "metadata": {
      "application/json": {
       "expanded": false,
       "root": "root"
      }
     },
     "output_type": "execute_result"
    }
   ],
   "source": [
    "# Call the API\n",
    "req = requests.get(url)\n",
    "\n",
    "# Ensure we fail fast if the web request failed\n",
    "req.raise_for_status()\n",
    "\n",
    "data = json.loads(req.text)\n",
    "JSON(data)"
   ]
  },
  {
   "cell_type": "code",
   "execution_count": 28,
   "metadata": {},
   "outputs": [
    {
     "name": "stderr",
     "output_type": "stream",
     "text": [
      "<ipython-input-28-073446b6c521>:4: FutureWarning: pandas.io.json.json_normalize is deprecated, use pandas.json_normalize instead\n",
      "  df = json_normalize(data)\n"
     ]
    }
   ],
   "source": [
    "import pandas as pd\n",
    "from pandas.io.json import json_normalize\n",
    "\n",
    "df = json_normalize(data)"
   ]
  },
  {
   "cell_type": "code",
   "execution_count": 29,
   "metadata": {},
   "outputs": [
    {
     "data": {
      "text/html": [
       "<div>\n",
       "<style scoped>\n",
       "    .dataframe tbody tr th:only-of-type {\n",
       "        vertical-align: middle;\n",
       "    }\n",
       "\n",
       "    .dataframe tbody tr th {\n",
       "        vertical-align: top;\n",
       "    }\n",
       "\n",
       "    .dataframe thead th {\n",
       "        text-align: right;\n",
       "    }\n",
       "</style>\n",
       "<table border=\"1\" class=\"dataframe\">\n",
       "  <thead>\n",
       "    <tr style=\"text-align: right;\">\n",
       "      <th></th>\n",
       "      <th>id</th>\n",
       "      <th>datetime</th>\n",
       "      <th>name</th>\n",
       "      <th>summary</th>\n",
       "      <th>url</th>\n",
       "      <th>type</th>\n",
       "      <th>location.name</th>\n",
       "      <th>location.gps</th>\n",
       "    </tr>\n",
       "  </thead>\n",
       "  <tbody>\n",
       "    <tr>\n",
       "      <th>0</th>\n",
       "      <td>204496</td>\n",
       "      <td>2020-05-12 17:20:00 +02:00</td>\n",
       "      <td>12 maj 17:20, Stöld, Stockholm</td>\n",
       "      <td>Två personer grips efter att ha tagit varor fr...</td>\n",
       "      <td>https://polisen.se/aktuellt/handelser/2020/maj...</td>\n",
       "      <td>Stöld</td>\n",
       "      <td>Stockholm</td>\n",
       "      <td>59.329324,18.068581</td>\n",
       "    </tr>\n",
       "    <tr>\n",
       "      <th>1</th>\n",
       "      <td>204375</td>\n",
       "      <td>2020-05-12 1:35:00 +02:00</td>\n",
       "      <td>12 maj 01:35, Stöld, Stockholm</td>\n",
       "      <td>Polisen identiferade den man som är misstänkt ...</td>\n",
       "      <td>https://polisen.se/aktuellt/handelser/2020/maj...</td>\n",
       "      <td>Stöld</td>\n",
       "      <td>Stockholm</td>\n",
       "      <td>59.329324,18.068581</td>\n",
       "    </tr>\n",
       "    <tr>\n",
       "      <th>2</th>\n",
       "      <td>204349</td>\n",
       "      <td>2020-05-11 20:16:00 +02:00</td>\n",
       "      <td>11 maj 20:16, Stöld, Stockholm</td>\n",
       "      <td>En anmälare ringde in om att denne blivit best...</td>\n",
       "      <td>https://polisen.se/aktuellt/handelser/2020/maj...</td>\n",
       "      <td>Stöld</td>\n",
       "      <td>Stockholm</td>\n",
       "      <td>59.329324,18.068581</td>\n",
       "    </tr>\n",
       "    <tr>\n",
       "      <th>3</th>\n",
       "      <td>204112</td>\n",
       "      <td>2020-05-09 18:31:00 +02:00</td>\n",
       "      <td>09 maj 18:31, Stöld, Malmö</td>\n",
       "      <td>Södervärn. Stöld av klocka.</td>\n",
       "      <td>https://polisen.se/aktuellt/handelser/2020/maj...</td>\n",
       "      <td>Stöld</td>\n",
       "      <td>Malmö</td>\n",
       "      <td>55.604981,13.003822</td>\n",
       "    </tr>\n",
       "    <tr>\n",
       "      <th>4</th>\n",
       "      <td>203996</td>\n",
       "      <td>2020-05-08 16:12:00 +02:00</td>\n",
       "      <td>08 maj 16:12, Stöld, Stockholm</td>\n",
       "      <td>Två personer har gripits i en butik i Farsta C...</td>\n",
       "      <td>https://polisen.se/aktuellt/handelser/2020/maj...</td>\n",
       "      <td>Stöld</td>\n",
       "      <td>Stockholm</td>\n",
       "      <td>59.329324,18.068581</td>\n",
       "    </tr>\n",
       "  </tbody>\n",
       "</table>\n",
       "</div>"
      ],
      "text/plain": [
       "       id                    datetime                            name  \\\n",
       "0  204496  2020-05-12 17:20:00 +02:00  12 maj 17:20, Stöld, Stockholm   \n",
       "1  204375   2020-05-12 1:35:00 +02:00  12 maj 01:35, Stöld, Stockholm   \n",
       "2  204349  2020-05-11 20:16:00 +02:00  11 maj 20:16, Stöld, Stockholm   \n",
       "3  204112  2020-05-09 18:31:00 +02:00      09 maj 18:31, Stöld, Malmö   \n",
       "4  203996  2020-05-08 16:12:00 +02:00  08 maj 16:12, Stöld, Stockholm   \n",
       "\n",
       "                                             summary  \\\n",
       "0  Två personer grips efter att ha tagit varor fr...   \n",
       "1  Polisen identiferade den man som är misstänkt ...   \n",
       "2  En anmälare ringde in om att denne blivit best...   \n",
       "3                        Södervärn. Stöld av klocka.   \n",
       "4  Två personer har gripits i en butik i Farsta C...   \n",
       "\n",
       "                                                 url   type location.name  \\\n",
       "0  https://polisen.se/aktuellt/handelser/2020/maj...  Stöld     Stockholm   \n",
       "1  https://polisen.se/aktuellt/handelser/2020/maj...  Stöld     Stockholm   \n",
       "2  https://polisen.se/aktuellt/handelser/2020/maj...  Stöld     Stockholm   \n",
       "3  https://polisen.se/aktuellt/handelser/2020/maj...  Stöld         Malmö   \n",
       "4  https://polisen.se/aktuellt/handelser/2020/maj...  Stöld     Stockholm   \n",
       "\n",
       "          location.gps  \n",
       "0  59.329324,18.068581  \n",
       "1  59.329324,18.068581  \n",
       "2  59.329324,18.068581  \n",
       "3  55.604981,13.003822  \n",
       "4  59.329324,18.068581  "
      ]
     },
     "execution_count": 29,
     "metadata": {},
     "output_type": "execute_result"
    }
   ],
   "source": [
    "# Show the first entries\n",
    "df.head()"
   ]
  },
  {
   "cell_type": "code",
   "execution_count": 30,
   "metadata": {},
   "outputs": [
    {
     "data": {
      "text/html": [
       "<div>\n",
       "<style scoped>\n",
       "    .dataframe tbody tr th:only-of-type {\n",
       "        vertical-align: middle;\n",
       "    }\n",
       "\n",
       "    .dataframe tbody tr th {\n",
       "        vertical-align: top;\n",
       "    }\n",
       "\n",
       "    .dataframe thead th {\n",
       "        text-align: right;\n",
       "    }\n",
       "</style>\n",
       "<table border=\"1\" class=\"dataframe\">\n",
       "  <thead>\n",
       "    <tr style=\"text-align: right;\">\n",
       "      <th></th>\n",
       "      <th>id</th>\n",
       "      <th>datetime</th>\n",
       "      <th>name</th>\n",
       "      <th>summary</th>\n",
       "      <th>url</th>\n",
       "      <th>type</th>\n",
       "      <th>location.name</th>\n",
       "      <th>Latitude</th>\n",
       "      <th>Longitude</th>\n",
       "    </tr>\n",
       "  </thead>\n",
       "  <tbody>\n",
       "    <tr>\n",
       "      <th>0</th>\n",
       "      <td>204496</td>\n",
       "      <td>2020-05-12 17:20:00 +02:00</td>\n",
       "      <td>12 maj 17:20, Stöld, Stockholm</td>\n",
       "      <td>Två personer grips efter att ha tagit varor fr...</td>\n",
       "      <td>https://polisen.se/aktuellt/handelser/2020/maj...</td>\n",
       "      <td>Stöld</td>\n",
       "      <td>Stockholm</td>\n",
       "      <td>59.329324</td>\n",
       "      <td>18.068581</td>\n",
       "    </tr>\n",
       "    <tr>\n",
       "      <th>1</th>\n",
       "      <td>204375</td>\n",
       "      <td>2020-05-12 1:35:00 +02:00</td>\n",
       "      <td>12 maj 01:35, Stöld, Stockholm</td>\n",
       "      <td>Polisen identiferade den man som är misstänkt ...</td>\n",
       "      <td>https://polisen.se/aktuellt/handelser/2020/maj...</td>\n",
       "      <td>Stöld</td>\n",
       "      <td>Stockholm</td>\n",
       "      <td>59.329324</td>\n",
       "      <td>18.068581</td>\n",
       "    </tr>\n",
       "    <tr>\n",
       "      <th>2</th>\n",
       "      <td>204349</td>\n",
       "      <td>2020-05-11 20:16:00 +02:00</td>\n",
       "      <td>11 maj 20:16, Stöld, Stockholm</td>\n",
       "      <td>En anmälare ringde in om att denne blivit best...</td>\n",
       "      <td>https://polisen.se/aktuellt/handelser/2020/maj...</td>\n",
       "      <td>Stöld</td>\n",
       "      <td>Stockholm</td>\n",
       "      <td>59.329324</td>\n",
       "      <td>18.068581</td>\n",
       "    </tr>\n",
       "    <tr>\n",
       "      <th>3</th>\n",
       "      <td>204112</td>\n",
       "      <td>2020-05-09 18:31:00 +02:00</td>\n",
       "      <td>09 maj 18:31, Stöld, Malmö</td>\n",
       "      <td>Södervärn. Stöld av klocka.</td>\n",
       "      <td>https://polisen.se/aktuellt/handelser/2020/maj...</td>\n",
       "      <td>Stöld</td>\n",
       "      <td>Malmö</td>\n",
       "      <td>55.604981</td>\n",
       "      <td>13.003822</td>\n",
       "    </tr>\n",
       "    <tr>\n",
       "      <th>4</th>\n",
       "      <td>203996</td>\n",
       "      <td>2020-05-08 16:12:00 +02:00</td>\n",
       "      <td>08 maj 16:12, Stöld, Stockholm</td>\n",
       "      <td>Två personer har gripits i en butik i Farsta C...</td>\n",
       "      <td>https://polisen.se/aktuellt/handelser/2020/maj...</td>\n",
       "      <td>Stöld</td>\n",
       "      <td>Stockholm</td>\n",
       "      <td>59.329324</td>\n",
       "      <td>18.068581</td>\n",
       "    </tr>\n",
       "    <tr>\n",
       "      <th>5</th>\n",
       "      <td>203987</td>\n",
       "      <td>2020-05-08 14:14:00 +02:00</td>\n",
       "      <td>08 maj 14:14, Stöld, Stockholm</td>\n",
       "      <td>Anmälaren har fått en dyrare barnvagn stulen o...</td>\n",
       "      <td>https://polisen.se/aktuellt/handelser/2020/maj...</td>\n",
       "      <td>Stöld</td>\n",
       "      <td>Stockholm</td>\n",
       "      <td>59.329324</td>\n",
       "      <td>18.068581</td>\n",
       "    </tr>\n",
       "    <tr>\n",
       "      <th>6</th>\n",
       "      <td>203908</td>\n",
       "      <td>2020-05-08 3:39:00 +02:00</td>\n",
       "      <td>08 maj 03:39, Stöld, Stockholm</td>\n",
       "      <td>Ett inbrottslarm har registrerat rörelser i en...</td>\n",
       "      <td>https://polisen.se/aktuellt/handelser/2020/maj...</td>\n",
       "      <td>Stöld</td>\n",
       "      <td>Stockholm</td>\n",
       "      <td>59.329324</td>\n",
       "      <td>18.068581</td>\n",
       "    </tr>\n",
       "    <tr>\n",
       "      <th>7</th>\n",
       "      <td>203692</td>\n",
       "      <td>2020-05-06 20:13:00 +02:00</td>\n",
       "      <td>06 maj 20:13, Stöld, Stockholm</td>\n",
       "      <td>En person har ringt på en lägenhet i Bagarmoss...</td>\n",
       "      <td>https://polisen.se/aktuellt/handelser/2020/maj...</td>\n",
       "      <td>Stöld</td>\n",
       "      <td>Stockholm</td>\n",
       "      <td>59.329324</td>\n",
       "      <td>18.068581</td>\n",
       "    </tr>\n",
       "    <tr>\n",
       "      <th>8</th>\n",
       "      <td>203673</td>\n",
       "      <td>2020-05-06 18:00:00 +02:00</td>\n",
       "      <td>06 maj 18:00, Stöld, Stockholm</td>\n",
       "      <td>Enligt initiala uppgifter har en person försök...</td>\n",
       "      <td>https://polisen.se/aktuellt/handelser/2020/maj...</td>\n",
       "      <td>Stöld</td>\n",
       "      <td>Stockholm</td>\n",
       "      <td>59.329324</td>\n",
       "      <td>18.068581</td>\n",
       "    </tr>\n",
       "    <tr>\n",
       "      <th>9</th>\n",
       "      <td>203523</td>\n",
       "      <td>2020-05-05 19:51:00 +02:00</td>\n",
       "      <td>05 maj 19:51, Stöld, Stockholm</td>\n",
       "      <td>Ett flertal personer har stulit föremål från e...</td>\n",
       "      <td>https://polisen.se/aktuellt/handelser/2020/maj...</td>\n",
       "      <td>Stöld</td>\n",
       "      <td>Stockholm</td>\n",
       "      <td>59.329324</td>\n",
       "      <td>18.068581</td>\n",
       "    </tr>\n",
       "    <tr>\n",
       "      <th>10</th>\n",
       "      <td>203449</td>\n",
       "      <td>2020-05-05 11:37:00 +02:00</td>\n",
       "      <td>05 maj 11:37, Stöld, Stockholm</td>\n",
       "      <td>En man har setts stjäla varor i en inredningsb...</td>\n",
       "      <td>https://polisen.se/aktuellt/handelser/2020/maj...</td>\n",
       "      <td>Stöld</td>\n",
       "      <td>Stockholm</td>\n",
       "      <td>59.329324</td>\n",
       "      <td>18.068581</td>\n",
       "    </tr>\n",
       "  </tbody>\n",
       "</table>\n",
       "</div>"
      ],
      "text/plain": [
       "        id                    datetime                            name  \\\n",
       "0   204496  2020-05-12 17:20:00 +02:00  12 maj 17:20, Stöld, Stockholm   \n",
       "1   204375   2020-05-12 1:35:00 +02:00  12 maj 01:35, Stöld, Stockholm   \n",
       "2   204349  2020-05-11 20:16:00 +02:00  11 maj 20:16, Stöld, Stockholm   \n",
       "3   204112  2020-05-09 18:31:00 +02:00      09 maj 18:31, Stöld, Malmö   \n",
       "4   203996  2020-05-08 16:12:00 +02:00  08 maj 16:12, Stöld, Stockholm   \n",
       "5   203987  2020-05-08 14:14:00 +02:00  08 maj 14:14, Stöld, Stockholm   \n",
       "6   203908   2020-05-08 3:39:00 +02:00  08 maj 03:39, Stöld, Stockholm   \n",
       "7   203692  2020-05-06 20:13:00 +02:00  06 maj 20:13, Stöld, Stockholm   \n",
       "8   203673  2020-05-06 18:00:00 +02:00  06 maj 18:00, Stöld, Stockholm   \n",
       "9   203523  2020-05-05 19:51:00 +02:00  05 maj 19:51, Stöld, Stockholm   \n",
       "10  203449  2020-05-05 11:37:00 +02:00  05 maj 11:37, Stöld, Stockholm   \n",
       "\n",
       "                                              summary  \\\n",
       "0   Två personer grips efter att ha tagit varor fr...   \n",
       "1   Polisen identiferade den man som är misstänkt ...   \n",
       "2   En anmälare ringde in om att denne blivit best...   \n",
       "3                         Södervärn. Stöld av klocka.   \n",
       "4   Två personer har gripits i en butik i Farsta C...   \n",
       "5   Anmälaren har fått en dyrare barnvagn stulen o...   \n",
       "6   Ett inbrottslarm har registrerat rörelser i en...   \n",
       "7   En person har ringt på en lägenhet i Bagarmoss...   \n",
       "8   Enligt initiala uppgifter har en person försök...   \n",
       "9   Ett flertal personer har stulit föremål från e...   \n",
       "10  En man har setts stjäla varor i en inredningsb...   \n",
       "\n",
       "                                                  url   type location.name  \\\n",
       "0   https://polisen.se/aktuellt/handelser/2020/maj...  Stöld     Stockholm   \n",
       "1   https://polisen.se/aktuellt/handelser/2020/maj...  Stöld     Stockholm   \n",
       "2   https://polisen.se/aktuellt/handelser/2020/maj...  Stöld     Stockholm   \n",
       "3   https://polisen.se/aktuellt/handelser/2020/maj...  Stöld         Malmö   \n",
       "4   https://polisen.se/aktuellt/handelser/2020/maj...  Stöld     Stockholm   \n",
       "5   https://polisen.se/aktuellt/handelser/2020/maj...  Stöld     Stockholm   \n",
       "6   https://polisen.se/aktuellt/handelser/2020/maj...  Stöld     Stockholm   \n",
       "7   https://polisen.se/aktuellt/handelser/2020/maj...  Stöld     Stockholm   \n",
       "8   https://polisen.se/aktuellt/handelser/2020/maj...  Stöld     Stockholm   \n",
       "9   https://polisen.se/aktuellt/handelser/2020/maj...  Stöld     Stockholm   \n",
       "10  https://polisen.se/aktuellt/handelser/2020/maj...  Stöld     Stockholm   \n",
       "\n",
       "     Latitude  Longitude  \n",
       "0   59.329324  18.068581  \n",
       "1   59.329324  18.068581  \n",
       "2   59.329324  18.068581  \n",
       "3   55.604981  13.003822  \n",
       "4   59.329324  18.068581  \n",
       "5   59.329324  18.068581  \n",
       "6   59.329324  18.068581  \n",
       "7   59.329324  18.068581  \n",
       "8   59.329324  18.068581  \n",
       "9   59.329324  18.068581  \n",
       "10  59.329324  18.068581  "
      ]
     },
     "execution_count": 30,
     "metadata": {},
     "output_type": "execute_result"
    }
   ],
   "source": [
    "# Create two new columns, one Latitude and one Longitude, using data in location.gps\n",
    "df[['Latitude', 'Longitude']] = df['location.gps'].str.split(\",\", expand=True)\n",
    "# Remove the old column\n",
    "df.drop(labels='location.gps', axis=1)"
   ]
  },
  {
   "cell_type": "code",
   "execution_count": 31,
   "metadata": {},
   "outputs": [
    {
     "data": {
      "text/html": [
       "<div>\n",
       "<style scoped>\n",
       "    .dataframe tbody tr th:only-of-type {\n",
       "        vertical-align: middle;\n",
       "    }\n",
       "\n",
       "    .dataframe tbody tr th {\n",
       "        vertical-align: top;\n",
       "    }\n",
       "\n",
       "    .dataframe thead th {\n",
       "        text-align: right;\n",
       "    }\n",
       "</style>\n",
       "<table border=\"1\" class=\"dataframe\">\n",
       "  <thead>\n",
       "    <tr style=\"text-align: right;\">\n",
       "      <th></th>\n",
       "      <th>id</th>\n",
       "      <th>datetime</th>\n",
       "      <th>name</th>\n",
       "      <th>summary</th>\n",
       "      <th>url</th>\n",
       "      <th>type</th>\n",
       "      <th>location.name</th>\n",
       "      <th>location.gps</th>\n",
       "      <th>Latitude</th>\n",
       "      <th>Longitude</th>\n",
       "    </tr>\n",
       "  </thead>\n",
       "  <tbody>\n",
       "    <tr>\n",
       "      <th>0</th>\n",
       "      <td>204496</td>\n",
       "      <td>2020-05-12 17:20:00 +02:00</td>\n",
       "      <td>12 maj 17:20, Stöld, Stockholm</td>\n",
       "      <td>Två personer grips efter att ha tagit varor fr...</td>\n",
       "      <td>https://polisen.se/aktuellt/handelser/2020/maj...</td>\n",
       "      <td>Stöld</td>\n",
       "      <td>Stockholm</td>\n",
       "      <td>59.329324,18.068581</td>\n",
       "      <td>59.329324</td>\n",
       "      <td>18.068581</td>\n",
       "    </tr>\n",
       "    <tr>\n",
       "      <th>1</th>\n",
       "      <td>204375</td>\n",
       "      <td>2020-05-12 1:35:00 +02:00</td>\n",
       "      <td>12 maj 01:35, Stöld, Stockholm</td>\n",
       "      <td>Polisen identiferade den man som är misstänkt ...</td>\n",
       "      <td>https://polisen.se/aktuellt/handelser/2020/maj...</td>\n",
       "      <td>Stöld</td>\n",
       "      <td>Stockholm</td>\n",
       "      <td>59.329324,18.068581</td>\n",
       "      <td>59.329324</td>\n",
       "      <td>18.068581</td>\n",
       "    </tr>\n",
       "    <tr>\n",
       "      <th>2</th>\n",
       "      <td>204349</td>\n",
       "      <td>2020-05-11 20:16:00 +02:00</td>\n",
       "      <td>11 maj 20:16, Stöld, Stockholm</td>\n",
       "      <td>En anmälare ringde in om att denne blivit best...</td>\n",
       "      <td>https://polisen.se/aktuellt/handelser/2020/maj...</td>\n",
       "      <td>Stöld</td>\n",
       "      <td>Stockholm</td>\n",
       "      <td>59.329324,18.068581</td>\n",
       "      <td>59.329324</td>\n",
       "      <td>18.068581</td>\n",
       "    </tr>\n",
       "    <tr>\n",
       "      <th>3</th>\n",
       "      <td>204112</td>\n",
       "      <td>2020-05-09 18:31:00 +02:00</td>\n",
       "      <td>09 maj 18:31, Stöld, Malmö</td>\n",
       "      <td>Södervärn. Stöld av klocka.</td>\n",
       "      <td>https://polisen.se/aktuellt/handelser/2020/maj...</td>\n",
       "      <td>Stöld</td>\n",
       "      <td>Malmö</td>\n",
       "      <td>55.604981,13.003822</td>\n",
       "      <td>55.604981</td>\n",
       "      <td>13.003822</td>\n",
       "    </tr>\n",
       "    <tr>\n",
       "      <th>4</th>\n",
       "      <td>203996</td>\n",
       "      <td>2020-05-08 16:12:00 +02:00</td>\n",
       "      <td>08 maj 16:12, Stöld, Stockholm</td>\n",
       "      <td>Två personer har gripits i en butik i Farsta C...</td>\n",
       "      <td>https://polisen.se/aktuellt/handelser/2020/maj...</td>\n",
       "      <td>Stöld</td>\n",
       "      <td>Stockholm</td>\n",
       "      <td>59.329324,18.068581</td>\n",
       "      <td>59.329324</td>\n",
       "      <td>18.068581</td>\n",
       "    </tr>\n",
       "  </tbody>\n",
       "</table>\n",
       "</div>"
      ],
      "text/plain": [
       "       id                    datetime                            name  \\\n",
       "0  204496  2020-05-12 17:20:00 +02:00  12 maj 17:20, Stöld, Stockholm   \n",
       "1  204375   2020-05-12 1:35:00 +02:00  12 maj 01:35, Stöld, Stockholm   \n",
       "2  204349  2020-05-11 20:16:00 +02:00  11 maj 20:16, Stöld, Stockholm   \n",
       "3  204112  2020-05-09 18:31:00 +02:00      09 maj 18:31, Stöld, Malmö   \n",
       "4  203996  2020-05-08 16:12:00 +02:00  08 maj 16:12, Stöld, Stockholm   \n",
       "\n",
       "                                             summary  \\\n",
       "0  Två personer grips efter att ha tagit varor fr...   \n",
       "1  Polisen identiferade den man som är misstänkt ...   \n",
       "2  En anmälare ringde in om att denne blivit best...   \n",
       "3                        Södervärn. Stöld av klocka.   \n",
       "4  Två personer har gripits i en butik i Farsta C...   \n",
       "\n",
       "                                                 url   type location.name  \\\n",
       "0  https://polisen.se/aktuellt/handelser/2020/maj...  Stöld     Stockholm   \n",
       "1  https://polisen.se/aktuellt/handelser/2020/maj...  Stöld     Stockholm   \n",
       "2  https://polisen.se/aktuellt/handelser/2020/maj...  Stöld     Stockholm   \n",
       "3  https://polisen.se/aktuellt/handelser/2020/maj...  Stöld         Malmö   \n",
       "4  https://polisen.se/aktuellt/handelser/2020/maj...  Stöld     Stockholm   \n",
       "\n",
       "          location.gps   Latitude  Longitude  \n",
       "0  59.329324,18.068581  59.329324  18.068581  \n",
       "1  59.329324,18.068581  59.329324  18.068581  \n",
       "2  59.329324,18.068581  59.329324  18.068581  \n",
       "3  55.604981,13.003822  55.604981  13.003822  \n",
       "4  59.329324,18.068581  59.329324  18.068581  "
      ]
     },
     "execution_count": 31,
     "metadata": {},
     "output_type": "execute_result"
    }
   ],
   "source": [
    "# Show us the first few rows only \n",
    "df.head()"
   ]
  },
  {
   "cell_type": "code",
   "execution_count": 32,
   "metadata": {},
   "outputs": [
    {
     "data": {
      "text/plain": [
       "Stöld    11\n",
       "Name: type, dtype: int64"
      ]
     },
     "execution_count": 32,
     "metadata": {},
     "output_type": "execute_result"
    }
   ],
   "source": [
    "df[\"type\"].value_counts()"
   ]
  },
  {
   "cell_type": "code",
   "execution_count": 33,
   "metadata": {},
   "outputs": [
    {
     "data": {
      "text/plain": [
       "location.name  type \n",
       "Malmö          Stöld     1\n",
       "Stockholm      Stöld    10\n",
       "dtype: int64"
      ]
     },
     "execution_count": 33,
     "metadata": {},
     "output_type": "execute_result"
    }
   ],
   "source": [
    "df.groupby([\"location.name\", \"type\"]).size()"
   ]
  },
  {
   "cell_type": "code",
   "execution_count": 34,
   "metadata": {},
   "outputs": [
    {
     "data": {
      "text/plain": [
       "type   location.name\n",
       "Stöld  Malmö             1\n",
       "       Stockholm        10\n",
       "dtype: int64"
      ]
     },
     "execution_count": 34,
     "metadata": {},
     "output_type": "execute_result"
    }
   ],
   "source": [
    "df.groupby([\"type\", \"location.name\"]).size()"
   ]
  },
  {
   "cell_type": "markdown",
   "metadata": {},
   "source": [
    "![polis](https://polisen.se/Content/Images/polisenLogo.png)\n",
    "# Policestation API\n",
    "see  about [api-over-polisstationer](https://polisen.se/om-polisen/om-webbplatsen/oppna-data/api-over-polisstationer/)"
   ]
  },
  {
   "cell_type": "code",
   "execution_count": 35,
   "metadata": {},
   "outputs": [
    {
     "data": {
      "text/plain": [
       "'https://polisen.se/api/policestations'"
      ]
     },
     "execution_count": 35,
     "metadata": {},
     "output_type": "execute_result"
    }
   ],
   "source": [
    "baseUrl = \"https://polisen.se/api\"\n",
    "endpoint = \"/policestations\"\n",
    "urlPolisStation= baseUrl + endpoint\n",
    "urlPolisStation\n"
   ]
  },
  {
   "cell_type": "code",
   "execution_count": 36,
   "metadata": {},
   "outputs": [
    {
     "data": {
      "application/json": [
       {
        "Url": "https://polisen.se/kontakt/polisstationer/vastra-gotaland/alingsas/",
        "id": 1233,
        "location": {
         "gps": "57.930105,12.529608",
         "name": "N Strömgatan 8, Alingsås"
        },
        "name": "Alingsås",
        "services": [
         {
          "name": "Anmälan"
         },
         {
          "name": "Cyklar"
         },
         {
          "name": "Hittegods"
         },
         {
          "name": "Pass/nationellt id-kort"
         },
         {
          "name": "Vapen"
         }
        ]
       },
       {
        "Url": "https://polisen.se/kontakt/polisstationer/kronoberg/alvesta/",
        "id": 811,
        "location": {
         "gps": "56.900514,14.555233",
         "name": "Värendsgatan 14, Alvesta"
        },
        "name": "Alvesta",
        "services": [
         {
          "name": "Anmälan"
         },
         {
          "name": "Hittegods"
         }
        ]
       },
       {
        "Url": "https://polisen.se/kontakt/polisstationer/jonkopings-lan/aneby/",
        "id": 7519,
        "location": {
         "gps": "57.836076,14.807909",
         "name": "Stigbergsvägen 11, Aneby"
        },
        "name": "Aneby",
        "services": [
         {
          "name": "Anmälan"
         },
         {
          "name": "Hittegods"
         }
        ]
       },
       {
        "Url": "https://polisen.se/kontakt/polisstationer/vastmanland/arboga/",
        "id": 1216,
        "location": {
         "gps": "59.39417,15.840519",
         "name": "Järntorget 8, Arboga"
        },
        "name": "Arboga",
        "services": [
         {
          "name": "Anmälan"
         },
         {
          "name": "Hittegods"
         },
         {
          "name": "Tillstånd"
         }
        ]
       },
       {
        "Url": "https://polisen.se/kontakt/polisstationer/norrbotten/arjeplog/",
        "id": 832,
        "location": {
         "gps": "66.052216,17.893128",
         "name": "Tingsbacka, Storgatan 20   , Arjeplog"
        },
        "name": "Arjeplog",
        "services": [
         {
          "name": "Anmälan"
         },
         {
          "name": "Cyklar"
         },
         {
          "name": "Hittegods"
         }
        ]
       },
       {
        "Url": "https://polisen.se/kontakt/polisstationer/stockholms-lan/arlanda/",
        "id": 1077,
        "location": {
         "gps": "59.646492,17.937797",
         "name": "Tullvägen 7A, Stockholm-Arlanda"
        },
        "name": "Arlanda",
        "services": [
         {
          "name": "Pass/nationellt id-kort"
         },
         {
          "name": "Provisoriskt pass"
         }
        ]
       },
       {
        "Url": "https://polisen.se/kontakt/polisstationer/norrbotten/arvidsjaur/",
        "id": 834,
        "location": {
         "gps": "65.593781,19.160384",
         "name": "Östra Kyrkogatan 1, Arvidsjaur"
        },
        "name": "Arvidsjaur",
        "services": [
         {
          "name": "Anmälan"
         },
         {
          "name": "Cyklar"
         },
         {
          "name": "Hittegods"
         },
         {
          "name": "Pass/nationellt id-kort"
         }
        ]
       },
       {
        "Url": "https://polisen.se/kontakt/polisstationer/varmland/arvika/",
        "id": 1128,
        "location": {
         "gps": "59.653932,12.602657",
         "name": "Styckåsgatan 10-12, Arvika"
        },
        "name": "Arvika",
        "services": [
         {
          "name": "Anmälan"
         },
         {
          "name": "Hittegods"
         },
         {
          "name": "Pass/nationellt id-kort"
         },
         {
          "name": "Vapen"
         }
        ]
       },
       {
        "Url": "https://polisen.se/kontakt/polisstationer/orebro-lan/askersund/",
        "id": 1321,
        "location": {
         "gps": "58.879601,14.905849",
         "name": "Lilla Bergsgatan 12 B, Askersund"
        },
        "name": "Askersund",
        "services": [
         {
          "name": "Anmälan"
         },
         {
          "name": "Pass/nationellt id-kort"
         }
        ]
       },
       {
        "Url": "https://polisen.se/kontakt/polisstationer/dalarna/avesta/",
        "id": 674,
        "location": {
         "gps": "60.146648,16.163744",
         "name": "Kungsgatan 42, Avesta"
        },
        "name": "Avesta",
        "services": [
         {
          "name": "Anmälan"
         },
         {
          "name": "Cyklar"
         },
         {
          "name": "Hittegods"
         },
         {
          "name": "Pass/nationellt id-kort"
         },
         {
          "name": "Tillstånd"
         },
         {
          "name": "Vapen"
         }
        ]
       },
       {
        "Url": "https://polisen.se/kontakt/polisstationer/vastra-gotaland/bengtsfors/",
        "id": 1235,
        "location": {
         "gps": "59.031614,12.219173",
         "name": "Storgatan 42, Bengtsfors"
        },
        "name": "Bengtsfors",
        "services": [
         {
          "name": "Anmälan"
         }
        ]
       },
       {
        "Url": "https://polisen.se/kontakt/polisstationer/vasterbotten/bjurholm/",
        "id": 1163,
        "location": {
         "gps": "63.929735,19.2119135",
         "name": "Storgatan 9, 916 31 Bjurholm"
        },
        "name": "Bjurholm",
        "services": [
         {
          "name": "Anmälan"
         },
         {
          "name": "Hittegods"
         },
         {
          "name": "Tillstånd"
         }
        ]
       },
       {
        "Url": "https://polisen.se/kontakt/polisstationer/skane/bjuv/",
        "id": 879,
        "location": {
         "gps": "56.08384,12.911404",
         "name": "Bangatan 1, Bjuv"
        },
        "name": "Bjuv",
        "services": [
         {
          "name": "Anmälan"
         },
         {
          "name": "Cyklar"
         },
         {
          "name": "Hittegods"
         },
         {
          "name": "Vapen"
         }
        ]
       },
       {
        "Url": "https://polisen.se/kontakt/polisstationer/norrbotten/boden/",
        "id": 836,
        "location": {
         "gps": "65.824986,21.698839",
         "name": "Garnisonsgatan 6 A, Boden"
        },
        "name": "Boden",
        "services": [
         {
          "name": "Anmälan"
         },
         {
          "name": "Cyklar"
         },
         {
          "name": "Hittegods"
         },
         {
          "name": "Pass/nationellt id-kort"
         },
         {
          "name": "Vapen"
         }
        ]
       },
       {
        "Url": "https://polisen.se/kontakt/polisstationer/vastra-gotaland/bollebygd/",
        "id": 1237,
        "location": {
         "gps": "57.669572,12.57078",
         "name": "Kommunalhuset, Ballebovägen 2, Bollebygd"
        },
        "name": "Bollebygd",
        "services": []
       },
       {
        "Url": "https://polisen.se/kontakt/polisstationer/gavleborg/bollnas/",
        "id": 714,
        "location": {
         "gps": "61.349777,16.397383",
         "name": "Långgatan 32, Bollnäs"
        },
        "name": "Bollnäs",
        "services": [
         {
          "name": "Anmälan"
         },
         {
          "name": "Hittegods"
         },
         {
          "name": "Pass/nationellt id-kort"
         },
         {
          "name": "Tillstånd"
         },
         {
          "name": "Vapen"
         }
        ]
       },
       {
        "Url": "https://polisen.se/kontakt/polisstationer/kalmar-lan/borgholm/",
        "id": 788,
        "location": {
         "gps": "56.877094,16.66179",
         "name": "Stenbergsgatan 4, Borgholm"
        },
        "name": "Borgholm",
        "services": [
         {
          "name": "Anmälan"
         },
         {
          "name": "Cyklar"
         },
         {
          "name": "Hittegods"
         }
        ]
       },
       {
        "Url": "https://polisen.se/kontakt/polisstationer/dalarna/borlange/",
        "id": 676,
        "location": {
         "gps": "60.485958,15.435876",
         "name": "Wallintorget 9, Borlänge"
        },
        "name": "Borlänge",
        "services": [
         {
          "name": "Anmälan"
         },
         {
          "name": "Cyklar"
         },
         {
          "name": "Hittegods"
         },
         {
          "name": "Pass/nationellt id-kort"
         },
         {
          "name": "Tillstånd"
         },
         {
          "name": "Vapen"
         }
        ]
       },
       {
        "Url": "https://polisen.se/kontakt/polisstationer/vastra-gotaland/boras/",
        "id": 1239,
        "location": {
         "gps": "57.72363,12.941762",
         "name": "Sandgärdsgatan 15, Borås"
        },
        "name": "Borås",
        "services": [
         {
          "name": "Anmälan"
         },
         {
          "name": "Hittegods"
         },
         {
          "name": "Pass/nationellt id-kort"
         },
         {
          "name": "Vapen"
         }
        ]
       },
       {
        "Url": "https://polisen.se/kontakt/polisstationer/ostergotland/boxholm/",
        "id": 1346,
        "location": {
         "gps": "58.19697,15.0524",
         "name": "Storgatan 20, Boxholm"
        },
        "name": "Boxholm",
        "services": [
         {
          "name": "Anmälan"
         }
        ]
       },
       {
        "Url": "https://polisen.se/kontakt/polisstationer/skane/broby/",
        "id": 881,
        "location": {
         "gps": "56.252607,14.078057",
         "name": "Köpmannagatan 7, Broby"
        },
        "name": "Broby",
        "services": [
         {
          "name": "Anmälan"
         },
         {
          "name": "Cyklar"
         },
         {
          "name": "Hittegods"
         }
        ]
       },
       {
        "Url": "https://polisen.se/kontakt/polisstationer/skane/burlov/",
        "id": 885,
        "location": {
         "gps": "55.633394,13.070579",
         "name": "Kärleksgatan 6, Arlöv"
        },
        "name": "Burlöv",
        "services": [
         {
          "name": "Anmälan"
         }
        ]
       },
       {
        "Url": "https://polisen.se/kontakt/polisstationer/uppsala-lan/balsta/",
        "id": 1102,
        "location": {
         "gps": "59.566631,17.531596",
         "name": "Centrumstråket 1, Bålsta"
        },
        "name": "Bålsta",
        "services": [
         {
          "name": "Anmälan"
         },
         {
          "name": "Cyklar"
         },
         {
          "name": "Hittegods"
         },
         {
          "name": "Tillstånd"
         }
        ]
       },
       {
        "Url": "https://polisen.se/kontakt/polisstationer/skane/bastad/",
        "id": 887,
        "location": {
         "gps": "56.426418,12.846166",
         "name": "Vångavägen 2, Båstad"
        },
        "name": "Båstad",
        "services": [
         {
          "name": "Anmälan"
         },
         {
          "name": "Cyklar"
         },
         {
          "name": "Hittegods"
         }
        ]
       },
       {
        "Url": "https://polisen.se/kontakt/polisstationer/stockholms-lan/stockholm-nord/danderyd-omradeskontor/",
        "id": 123322,
        "location": {
         "gps": "59.3978717,18.0366457",
         "name": "Mörby centrum, Informationscenter, "
        },
        "name": "Danderyd områdeskontor",
        "services": []
       },
       {
        "Url": "https://polisen.se/kontakt/polisstationer/orebro-lan/degerfors/",
        "id": 1323,
        "location": {
         "gps": "59.238016,14.43365",
         "name": "Medborgargatan 16 B, Degerfors"
        },
        "name": "Degerfors",
        "services": [
         {
          "name": "Anmälan"
         }
        ]
       },
       {
        "Url": "https://polisen.se/kontakt/polisstationer/vasterbotten/dorotea/",
        "id": 1165,
        "location": {
         "gps": "64.261558,16.410731",
         "name": "Storgatan 33, 917 32 Dorotea"
        },
        "name": "Dorotea",
        "services": [
         {
          "name": "Anmälan"
         },
         {
          "name": "Hittegods"
         },
         {
          "name": "Tillstånd"
         },
         {
          "name": "Vapen"
         }
        ]
       },
       {
        "Url": "https://polisen.se/kontakt/polisstationer/varmland/eda/",
        "id": 1130,
        "location": {
         "gps": "59.883427,12.302679",
         "name": "Postgatan 10, Charlottenberg"
        },
        "name": "Eda",
        "services": [
         {
          "name": "Anmälan"
         },
         {
          "name": "Hittegods"
         }
        ]
       },
       {
        "Url": "https://polisen.se/kontakt/polisstationer/stockholms-lan/stockholm-nord/ekero-omradeskontor/",
        "id": 123314,
        "location": {
         "gps": "59.2914964,17.807675",
         "name": "Kommunhuset, Tappströmsvägen 2, "
        },
        "name": "Ekerö områdeskontor",
        "services": []
       },
       {
        "Url": "https://polisen.se/kontakt/polisstationer/jonkopings-lan/eksjo/",
        "id": 771,
        "location": {
         "gps": "57.659283,14.960808",
         "name": "Mosstegsgatan 2, Eksjö"
        },
        "name": "Eksjö",
        "services": [
         {
          "name": "Anmälan"
         },
         {
          "name": "Hittegods"
         },
         {
          "name": "Pass/nationellt id-kort"
         }
        ]
       },
       {
        "Url": "https://polisen.se/kontakt/polisstationer/kalmar-lan/emmaboda/",
        "id": 790,
        "location": {
         "gps": "56.630452,15.53336",
         "name": "Järnvägsgatan 41, Emmaboda"
        },
        "name": "Emmaboda",
        "services": [
         {
          "name": "Anmälan"
         },
         {
          "name": "Hittegods"
         }
        ]
       },
       {
        "Url": "https://polisen.se/kontakt/polisstationer/uppsala-lan/enkoping/",
        "id": 1104,
        "location": {
         "gps": "59.636833,17.083393",
         "name": "Korsängsgatan 42, Enköping"
        },
        "name": "Enköping",
        "services": [
         {
          "name": "Anmälan"
         },
         {
          "name": "Cyklar"
         },
         {
          "name": "Hittegods"
         },
         {
          "name": "Pass/nationellt id-kort"
         },
         {
          "name": "Tillstånd"
         }
        ]
       },
       {
        "Url": "https://polisen.se/kontakt/polisstationer/sodermanland/eskilstuna/",
        "id": 1080,
        "location": {
         "gps": "59.368893,16.515372",
         "name": "Nygatan 4, Eskilstuna"
        },
        "name": "Eskilstuna",
        "services": [
         {
          "name": "Anmälan"
         },
         {
          "name": "Beslag"
         },
         {
          "name": "Cyklar"
         },
         {
          "name": "Hittegods"
         },
         {
          "name": "Pass/nationellt id-kort"
         }
        ]
       },
       {
        "Url": "https://polisen.se/kontakt/polisstationer/skane/eslov/",
        "id": 891,
        "location": {
         "gps": "55.830099,13.309147",
         "name": "Ellingevägen 14, Eslöv"
        },
        "name": "Eslöv",
        "services": [
         {
          "name": "Anmälan"
         },
         {
          "name": "Cyklar"
         },
         {
          "name": "Hittegods"
         }
        ]
       },
       {
        "Url": "https://polisen.se/kontakt/polisstationer/vastmanland/fagersta/",
        "id": 1218,
        "location": {
         "gps": "60.003667,15.799268",
         "name": "Daliavägen 5, Fagersta"
        },
        "name": "Fagersta",
        "services": [
         {
          "name": "Anmälan"
         },
         {
          "name": "Hittegods"
         },
         {
          "name": "Pass/nationellt id-kort"
         },
         {
          "name": "Tillstånd"
         },
         {
          "name": "Vapen"
         }
        ]
       },
       {
        "Url": "https://polisen.se/kontakt/polisstationer/halland/falkenberg/",
        "id": 735,
        "location": {
         "gps": "56.90625,12.488467",
         "name": "Arvidstorpsv 14-16, Falkenberg"
        },
        "name": "Falkenberg",
        "services": [
         {
          "name": "Anmälan"
         },
         {
          "name": "Cyklar"
         },
         {
          "name": "Hittegods"
         },
         {
          "name": "Pass/nationellt id-kort"
         },
         {
          "name": "Tillstånd"
         }
        ]
       },
       {
        "Url": "https://polisen.se/kontakt/polisstationer/vastra-gotaland/falkoping/",
        "id": 1241,
        "location": {
         "gps": "58.161282,13.558324",
         "name": "Trädgårdsgatan 41, Falköping"
        },
        "name": "Falköping",
        "services": [
         {
          "name": "Anmälan"
         },
         {
          "name": "Cyklar"
         },
         {
          "name": "Hittegods"
         },
         {
          "name": "Pass/nationellt id-kort"
         }
        ]
       },
       {
        "Url": "https://polisen.se/kontakt/polisstationer/dalarna/falun/",
        "id": 678,
        "location": {
         "gps": "60.606778,15.625906",
         "name": "Kristinegatan 26, Falun"
        },
        "name": "Falun",
        "services": [
         {
          "name": "Anmälan"
         },
         {
          "name": "Beslag"
         },
         {
          "name": "Cyklar"
         },
         {
          "name": "Hittegods"
         },
         {
          "name": "Tillstånd"
         }
        ]
       },
       {
        "Url": "https://polisen.se/kontakt/polisstationer/varmland/filipstad/",
        "id": 1132,
        "location": {
         "gps": "59.712668,14.170511",
         "name": "Viktoriagatan 6, Filipstad"
        },
        "name": "Filipstad",
        "services": [
         {
          "name": "Anmälan"
         },
         {
          "name": "Hittegods"
         },
         {
          "name": "Pass/nationellt id-kort"
         }
        ]
       },
       {
        "Url": "https://polisen.se/kontakt/polisstationer/ostergotland/finspang/",
        "id": 1348,
        "location": {
         "gps": "58.707826,15.776457",
         "name": "Stationsvägen 3, Finspång"
        },
        "name": "Finspång",
        "services": [
         {
          "name": "Anmälan"
         },
         {
          "name": "Beslag"
         },
         {
          "name": "Hittegods"
         },
         {
          "name": "Tillstånd"
         },
         {
          "name": "Vapen"
         }
        ]
       },
       {
        "Url": "https://polisen.se/kontakt/polisstationer/stockholms-lan/stockholm-syd/flemingsberg/",
        "id": 1050,
        "location": {
         "gps": "59.217061,17.94709",
         "name": "Björnkullavägen 9, Flemingsberg"
        },
        "name": "Flemingsberg",
        "services": [
         {
          "name": "Anmälan"
         },
         {
          "name": "Beslag"
         },
         {
          "name": "Hittegods"
         },
         {
          "name": "Pass/nationellt id-kort"
         },
         {
          "name": "Vapen"
         }
        ]
       },
       {
        "Url": "https://polisen.se/kontakt/polisstationer/sodermanland/flen/",
        "id": 1083,
        "location": {
         "gps": "59.055743,16.589667",
         "name": "Sveavägen 1, Flen "
        },
        "name": "Flen",
        "services": [
         {
          "name": "Anmälan"
         }
        ]
       },
       {
        "Url": "https://polisen.se/kontakt/polisstationer/varmland/forshaga/",
        "id": 1134,
        "location": {
         "gps": "59.530471,13.479465",
         "name": "Esplanaden 5, Forshaga"
        },
        "name": "Forshaga",
        "services": [
         {
          "name": "Anmälan"
         },
         {
          "name": "Hittegods"
         }
        ]
       },
       {
        "Url": "https://polisen.se/kontakt/polisstationer/jamtland/funasdalen/",
        "id": 752,
        "location": {
         "gps": "62.544768,12.546411",
         "name": "Rörosvägen 12, Funäsdalen"
        },
        "name": "Funäsdalen",
        "services": [
         {
          "name": "Anmälan"
         },
         {
          "name": "Cyklar"
         },
         {
          "name": "Hittegods"
         },
         {
          "name": "Pass/nationellt id-kort"
         },
         {
          "name": "Tillstånd"
         },
         {
          "name": "Vapen"
         }
        ]
       },
       {
        "Url": "https://polisen.se/kontakt/polisstationer/dalarna/gagnef/",
        "id": 680,
        "location": {
         "gps": "60.559788,15.133806",
         "name": "Kommunhuset, Färjbacksvägen 5, Djurås"
        },
        "name": "Gagnef",
        "services": [
         {
          "name": "Anmälan"
         },
         {
          "name": "Hittegods"
         },
         {
          "name": "Tillstånd"
         }
        ]
       },
       {
        "Url": "https://polisen.se/kontakt/polisstationer/jonkopings-lan/gislaved/",
        "id": 773,
        "location": {
         "gps": "57.295225,13.565552",
         "name": "Weland Industricentrum, Anderstorpsvägen 24, Gislaved"
        },
        "name": "Gislaved",
        "services": [
         {
          "name": "Anmälan"
         },
         {
          "name": "Hittegods"
         }
        ]
       },
       {
        "Url": "https://polisen.se/kontakt/polisstationer/stockholms-lan/stockholm-syd/globen/",
        "id": 1053,
        "location": {
         "gps": "59.2921974,18.0817704",
         "name": "Arenavägen 63, "
        },
        "name": "Globen",
        "services": [
         {
          "name": "Anmälan"
         },
         {
          "name": "Hittegods"
         },
         {
          "name": "Pass/nationellt id-kort"
         }
        ]
       },
       {
        "Url": "https://polisen.se/kontakt/polisstationer/sodermanland/gnesta/",
        "id": 1085,
        "location": {
         "gps": "59.04793,17.310531",
         "name": "Medborgarkontoret, Marieströmsgatan 3, Gnesta"
        },
        "name": "Gnesta",
        "services": [
         {
          "name": "Anmälan"
         },
         {
          "name": "Hittegods"
         }
        ]
       },
       {
        "Url": "https://polisen.se/kontakt/polisstationer/varmland/grums/",
        "id": 1136,
        "location": {
         "gps": "59.351525,13.111032",
         "name": "Sveagatan 77, Grums"
        },
        "name": "Grums",
        "services": [
         {
          "name": "Anmälan"
         },
         {
          "name": "Hittegods"
         }
        ]
       },
       {
        "Url": "https://polisen.se/kontakt/polisstationer/norrbotten/gallivare/",
        "id": 838,
        "location": {
         "gps": "67.132138,20.663296",
         "name": "Lasarettsgatan 20, Gällivare"
        },
        "name": "Gällivare",
        "services": [
         {
          "name": "Anmälan"
         },
         {
          "name": "Cyklar"
         },
         {
          "name": "Hittegods"
         },
         {
          "name": "Pass/nationellt id-kort"
         }
        ]
       },
       {
        "Url": "https://polisen.se/kontakt/polisstationer/gavleborg/gavle/",
        "id": 716,
        "location": {
         "gps": "60.674199,17.150824",
         "name": "Södra Centralgatan 1, Gävle"
        },
        "name": "Gävle",
        "services": [
         {
          "name": "Anmälan"
         },
         {
          "name": "Hittegods"
         },
         {
          "name": "Pass/nationellt id-kort"
         },
         {
          "name": "Tillstånd"
         }
        ]
       },
       {
        "Url": "https://polisen.se/kontakt/polisstationer/vastra-gotaland/goteborg-city/",
        "id": 1243,
        "location": {
         "gps": "57.707694,11.983464",
         "name": "Stampgatan 28, Göteborg"
        },
        "name": "Göteborg City",
        "services": [
         {
          "name": "Anmälan"
         },
         {
          "name": "Delgivning"
         },
         {
          "name": "Hittegods"
         }
        ]
       },
       {
        "Url": "https://polisen.se/kontakt/polisstationer/vastra-gotaland/goteborg-delgivningscentralen/",
        "id": 1245,
        "location": {
         "gps": "57.707694,11.983464",
         "name": "Ernst Fontells plats, Göteborg"
        },
        "name": "Göteborg Delgivningscentralen",
        "services": []
       },
       {
        "Url": "https://polisen.se/kontakt/polisstationer/vastra-gotaland/goteborg-hisingen/",
        "id": 1247,
        "location": {
         "gps": "57.719859,11.945917",
         "name": "Vågmästaregatan 5, Göteborg"
        },
        "name": "Göteborg Hisingen",
        "services": [
         {
          "name": "Anmälan"
         },
         {
          "name": "Hittegods"
         }
        ]
       },
       {
        "Url": "https://polisen.se/kontakt/polisstationer/vastra-gotaland/goteborg-hittegodscentralen/",
        "id": 1249,
        "location": {
         "gps": "57.70959,11.983729",
         "name": "Odinsgatan 28 B, Göteborg"
        },
        "name": "Göteborg Hittegodscentralen",
        "services": [
         {
          "name": "Cyklar"
         },
         {
          "name": "Hittegods"
         }
        ]
       },
       {
        "Url": "https://polisen.se/kontakt/polisstationer/vastra-gotaland/goteborg-landvetter-/",
        "id": 1251,
        "location": {
         "gps": "57.668799,12.292314",
         "name": "Landvetter Flygplats. Flygfraktsvägen 3, uppgång A, våning 5, Landvetter"
        },
        "name": "Göteborg Landvetter",
        "services": [
         {
          "name": "Provisoriskt pass"
         }
        ]
       },
       {
        "Url": "https://polisen.se/kontakt/polisstationer/vastra-gotaland/goteborg-nordost/",
        "id": 1253,
        "location": {
         "gps": "57.772206,12.028801",
         "name": "Hjällbo Lillgata 1, Göteborg"
        },
        "name": "Göteborg Nordost Hjällbo",
        "services": [
         {
          "name": "Anmälan"
         },
         {
          "name": "Hittegods"
         }
        ]
       },
       {
        "Url": "https://polisen.se/kontakt/polisstationer/vastra-gotaland/goteborg-passcentralen/",
        "id": 1255,
        "location": {
         "gps": "57.707694,11.983845",
         "name": "Stampgatan 34, Göteborg"
        },
        "name": "Göteborg Passcentralen",
        "services": [
         {
          "name": "Pass/nationellt id-kort"
         },
         {
          "name": "Provisoriskt pass"
         }
        ]
       },
       {
        "Url": "https://polisen.se/kontakt/polisstationer/vastra-gotaland/goteborg-polishuset/",
        "id": 8106,
        "location": {
         "gps": "57.705298,11.982956",
         "name": "Ernst Fontells plats, Göteborg"
        },
        "name": "Göteborg Polishuset",
        "services": [
         {
          "name": "Anmälan"
         }
        ]
       },
       {
        "Url": "https://polisen.se/kontakt/polisstationer/vastra-gotaland/gotene/",
        "id": 1259,
        "location": {
         "gps": "58.527339,13.493157",
         "name": "Centrumhuset, Doktorsvägen 3, Götene"
        },
        "name": "Götene",
        "services": []
       },
       {
        "Url": "https://polisen.se/kontakt/polisstationer/varmland/hagfors/",
        "id": 1138,
        "location": {
         "gps": "60.030174,13.701198",
         "name": "Dalavägen 6-8, Hagfors"
        },
        "name": "Hagfors",
        "services": [
         {
          "name": "Anmälan"
         },
         {
          "name": "Hittegods"
         },
         {
          "name": "Pass/nationellt id-kort"
         },
         {
          "name": "Vapen"
         }
        ]
       },
       {
        "Url": "https://polisen.se/kontakt/polisstationer/orebro-lan/hallsberg/",
        "id": 1325,
        "location": {
         "gps": "59.065917,15.107341",
         "name": "Västra Storgatan 6-8, Hallsberg"
        },
        "name": "Hallsberg",
        "services": [
         {
          "name": "Anmälan"
         },
         {
          "name": "Pass/nationellt id-kort"
         }
        ]
       },
       {
        "Url": "https://polisen.se/kontakt/polisstationer/vastmanland/hallstahammar/",
        "id": 1220,
        "location": {
         "gps": "59.614113,16.228792",
         "name": "Hammartorget 7B, Hallstahammar"
        },
        "name": "Hallstahammar",
        "services": [
         {
          "name": "Anmälan"
         },
         {
          "name": "Hittegods"
         },
         {
          "name": "Tillstånd"
         }
        ]
       },
       {
        "Url": "https://polisen.se/kontakt/polisstationer/halland/halmstad/",
        "id": 737,
        "location": {
         "gps": "56.678382,12.855126",
         "name": "Norra Källegatan 3, Halmstad"
        },
        "name": "Halmstad",
        "services": [
         {
          "name": "Anmälan"
         },
         {
          "name": "Hittegods"
         },
         {
          "name": "Pass/nationellt id-kort"
         },
         {
          "name": "Tillstånd"
         }
        ]
       },
       {
        "Url": "https://polisen.se/kontakt/polisstationer/varmland/hammaro/",
        "id": 1140,
        "location": {
         "gps": "59.3233043,13.4664318",
         "name": "Skomakargränd 1, Skoghall"
        },
        "name": "Hammarö",
        "services": [
         {
          "name": "Anmälan"
         },
         {
          "name": "Hittegods"
         }
        ]
       },
       {
        "Url": "https://polisen.se/kontakt/polisstationer/stockholms-lan/stockholm-syd/haninge/",
        "id": 1059,
        "location": {
         "gps": "59.169713,18.140736",
         "name": "Runstensvägen 3, Handen"
        },
        "name": "Haninge",
        "services": [
         {
          "name": "Anmälan"
         },
         {
          "name": "Hittegods"
         },
         {
          "name": "Pass/nationellt id-kort"
         },
         {
          "name": "Vapen"
         }
        ]
       },
       {
        "Url": "https://polisen.se/kontakt/polisstationer/norrbotten/haparanda/",
        "id": 840,
        "location": {
         "gps": "65.837982,24.140597",
         "name": "Strandgatan 10, Haparanda"
        },
        "name": "Haparanda",
        "services": [
         {
          "name": "Anmälan"
         },
         {
          "name": "Cyklar"
         },
         {
          "name": "Hittegods"
         },
         {
          "name": "Pass/nationellt id-kort"
         }
        ]
       },
       {
        "Url": "https://polisen.se/kontakt/polisstationer/uppsala-lan/heby/",
        "id": 1106,
        "location": {
         "gps": "59.941584,16.858946",
         "name": "Kapellgatan 2, Heby"
        },
        "name": "Heby",
        "services": [
         {
          "name": "Anmälan"
         },
         {
          "name": "Hittegods"
         }
        ]
       },
       {
        "Url": "https://polisen.se/kontakt/polisstationer/skane/helsingborg/",
        "id": 893,
        "location": {
         "gps": "56.063879,12.712355",
         "name": "Berga allé 25, Helsingborg"
        },
        "name": "Helsingborg",
        "services": [
         {
          "name": "Anmälan"
         },
         {
          "name": "Beslag"
         },
         {
          "name": "Cyklar"
         },
         {
          "name": "Hittegods"
         },
         {
          "name": "Pass/nationellt id-kort"
         }
        ]
       },
       {
        "Url": "https://polisen.se/kontakt/polisstationer/gotland/hemse/",
        "id": 709,
        "location": {
         "gps": "57.239118,18.3712",
         "name": "Hagagatan 30 (Hemse Vårdcentrum), Hemse"
        },
        "name": "Hemse",
        "services": []
       },
       {
        "Url": "https://polisen.se/kontakt/polisstationer/vastra-gotaland/herrljunga/",
        "id": 1261,
        "location": {
         "gps": "58.077045,13.026741",
         "name": "Torget 1, Herrljunga"
        },
        "name": "Herrljunga",
        "services": []
       },
       {
        "Url": "https://polisen.se/kontakt/polisstationer/gavleborg/hofors/",
        "id": 718,
        "location": {
         "gps": "60.549984,16.267793",
         "name": "Granvägen 8, Kommunkontoret, Hofors"
        },
        "name": "Hofors",
        "services": []
       },
       {
        "Url": "https://polisen.se/kontakt/polisstationer/gavleborg/hudiksvall/",
        "id": 720,
        "location": {
         "gps": "61.729248,17.102241",
         "name": "N Kyrkogatan 17, Hudiksvall"
        },
        "name": "Hudiksvall",
        "services": [
         {
          "name": "Anmälan"
         },
         {
          "name": "Hittegods"
         },
         {
          "name": "Pass/nationellt id-kort"
         },
         {
          "name": "Tillstånd"
         },
         {
          "name": "Vapen"
         }
        ]
       },
       {
        "Url": "https://polisen.se/kontakt/polisstationer/kalmar-lan/hultsfred/",
        "id": 792,
        "location": {
         "gps": "57.485776,15.841557",
         "name": "Västra Långgatan 36, Hultsfred"
        },
        "name": "Hultsfred",
        "services": [
         {
          "name": "Anmälan"
         },
         {
          "name": "Cyklar"
         },
         {
          "name": "Delgivning"
         },
         {
          "name": "Hittegods"
         },
         {
          "name": "Pass/nationellt id-kort"
         }
        ]
       },
       {
        "Url": "https://polisen.se/kontakt/polisstationer/halland/hylte/",
        "id": 739,
        "location": {
         "gps": "57.000881,13.241829",
         "name": "Storgatan 3, Hyltebruk"
        },
        "name": "Hylte",
        "services": [
         {
          "name": "Anmälan"
         },
         {
          "name": "Hittegods"
         },
         {
          "name": "Pass/nationellt id-kort"
         },
         {
          "name": "Tillstånd"
         }
        ]
       },
       {
        "Url": "https://polisen.se/kontakt/polisstationer/orebro-lan/hallefors/",
        "id": 1327,
        "location": {
         "gps": "59.783335,14.520379",
         "name": "Stationsvägen 1, Hällefors"
        },
        "name": "Hällefors",
        "services": [
         {
          "name": "Anmälan"
         },
         {
          "name": "Pass/nationellt id-kort"
         }
        ]
       },
       {
        "Url": "https://polisen.se/kontakt/polisstationer/vasternorrland/harnosand/",
        "id": 1201,
        "location": {
         "gps": "62.629215,17.933054",
         "name": "Storgatan 2, Härnösand "
        },
        "name": "Härnösand",
        "services": [
         {
          "name": "Anmälan"
         },
         {
          "name": "Pass/nationellt id-kort"
         },
         {
          "name": "Vapen"
         }
        ]
       },
       {
        "Url": "https://polisen.se/kontakt/polisstationer/skane/hassleholm/",
        "id": 895,
        "location": {
         "gps": "56.15628,13.766756",
         "name": "Östergatan 19, Hässleholm"
        },
        "name": "Hässleholm",
        "services": [
         {
          "name": "Anmälan"
         },
         {
          "name": "Cyklar"
         },
         {
          "name": "Hittegods"
         },
         {
          "name": "Pass/nationellt id-kort"
         }
        ]
       },
       {
        "Url": "https://polisen.se/kontakt/polisstationer/skane/hoganas/",
        "id": 897,
        "location": {
         "gps": "56.200564,12.557187",
         "name": "Torggatan 2, Höganäs"
        },
        "name": "Höganäs",
        "services": [
         {
          "name": "Anmälan"
         },
         {
          "name": "Cyklar"
         },
         {
          "name": "Hittegods"
         },
         {
          "name": "Pass/nationellt id-kort"
         },
         {
          "name": "Vapen"
         }
        ]
       },
       {
        "Url": "https://polisen.se/kontakt/polisstationer/skane/horby/",
        "id": 899,
        "location": {
         "gps": "55.851322,13.658556",
         "name": "Ringsjövägen 4, Hörby"
        },
        "name": "Hörby",
        "services": [
         {
          "name": "Anmälan"
         },
         {
          "name": "Cyklar"
         },
         {
          "name": "Hittegods"
         }
        ]
       },
       {
        "Url": "https://polisen.se/kontakt/polisstationer/skane/hoor/",
        "id": 901,
        "location": {
         "gps": "55.926089,13.543933",
         "name": "Ringvägen 1, Höör"
        },
        "name": "Höör",
        "services": [
         {
          "name": "Anmälan"
         },
         {
          "name": "Cyklar"
         },
         {
          "name": "Hittegods"
         }
        ]
       },
       {
        "Url": "https://polisen.se/kontakt/polisstationer/dalarna/idre/",
        "id": 684,
        "location": {
         "gps": "61.858005,12.712541",
         "name": "Byvägen 34, Idre"
        },
        "name": "Idre",
        "services": [
         {
          "name": "Anmälan"
         },
         {
          "name": "Hittegods"
         },
         {
          "name": "Pass/nationellt id-kort"
         },
         {
          "name": "Tillstånd"
         }
        ]
       },
       {
        "Url": "https://polisen.se/kontakt/polisstationer/norrbotten/jokkmokk/",
        "id": 847,
        "location": {
         "gps": "66.607503,19.82275",
         "name": "Klockarvägen 21, Jokkmokk"
        },
        "name": "Jokkmokk",
        "services": [
         {
          "name": "Anmälan"
         }
        ]
       },
       {
        "Url": "https://polisen.se/kontakt/polisstationer/stockholms-lan/stockholm-nord/jarfalla/",
        "id": 998,
        "location": {
         "gps": "59.425878,17.842135",
         "name": "Hästskovägen 88, Järfälla"
        },
        "name": "Järfälla",
        "services": [
         {
          "name": "Anmälan"
         },
         {
          "name": "Hittegods"
         },
         {
          "name": "Vapen"
         }
        ]
       },
       {
        "Url": "https://polisen.se/kontakt/polisstationer/jonkopings-lan/jonkoping/",
        "id": 775,
        "location": {
         "gps": "57.77981,14.166756",
         "name": "Vallgatan 3-5, Jönköping"
        },
        "name": "Jönköping",
        "services": [
         {
          "name": "Anmälan"
         },
         {
          "name": "Cyklar"
         },
         {
          "name": "Hittegods"
         },
         {
          "name": "Pass/nationellt id-kort"
         }
        ]
       },
       {
        "Url": "https://polisen.se/kontakt/polisstationer/norrbotten/kalix/",
        "id": 849,
        "location": {
         "gps": "65.855126,23.131884",
         "name": "Köpmannagatan 1, Kalix"
        },
        "name": "Kalix",
        "services": [
         {
          "name": "Anmälan"
         },
         {
          "name": "Cyklar"
         },
         {
          "name": "Hittegods"
         },
         {
          "name": "Pass/nationellt id-kort"
         }
        ]
       },
       {
        "Url": "https://polisen.se/kontakt/polisstationer/kalmar-lan/kalmar/",
        "id": 794,
        "location": {
         "gps": "56.672139,16.340322",
         "name": "Galggatan 4, Kalmar"
        },
        "name": "Kalmar",
        "services": [
         {
          "name": "Anmälan"
         },
         {
          "name": "Cyklar"
         },
         {
          "name": "Delgivning"
         },
         {
          "name": "Hittegods"
         },
         {
          "name": "Pass/nationellt id-kort"
         }
        ]
       },
       {
        "Url": "https://polisen.se/kontakt/polisstationer/vastra-gotaland/karlsborg/",
        "id": 1263,
        "location": {
         "gps": "58.529279,14.512075",
         "name": "Storgatan 12, Karlsborg"
        },
        "name": "Karlsborg",
        "services": [
         {
          "name": "Anmälan"
         },
         {
          "name": "Cyklar"
         },
         {
          "name": "Delgivning"
         },
         {
          "name": "Hittegods"
         },
         {
          "name": "Vapen"
         }
        ]
       },
       {
        "Url": "https://polisen.se/kontakt/polisstationer/blekinge/karlshamn/",
        "id": 663,
        "location": {
         "gps": "56.171176,14.869001",
         "name": "Erik Dahlbergsvägen 30 B, Karlshamn"
        },
        "name": "Karlshamn",
        "services": [
         {
          "name": "Anmälan"
         },
         {
          "name": "Hittegods"
         },
         {
          "name": "Pass/nationellt id-kort"
         }
        ]
       },
       {
        "Url": "https://polisen.se/kontakt/polisstationer/orebro-lan/karlskoga/",
        "id": 1329,
        "location": {
         "gps": "59.327415,14.509668",
         "name": "Värmlandsvägen 25, Karlskoga"
        },
        "name": "Karlskoga",
        "services": [
         {
          "name": "Anmälan"
         },
         {
          "name": "Beslag"
         },
         {
          "name": "Hittegods"
         },
         {
          "name": "Pass/nationellt id-kort"
         }
        ]
       },
       {
        "Url": "https://polisen.se/kontakt/polisstationer/blekinge/karlskrona/",
        "id": 665,
        "location": {
         "gps": "56.165085,15.5838",
         "name": "Järnvägstorget 5, Karlskrona"
        },
        "name": "Karlskrona",
        "services": [
         {
          "name": "Anmälan"
         },
         {
          "name": "Hittegods"
         },
         {
          "name": "Pass/nationellt id-kort"
         },
         {
          "name": "Provisoriskt pass"
         }
        ]
       },
       {
        "Url": "https://polisen.se/kontakt/polisstationer/varmland/karlstad/",
        "id": 1142,
        "location": {
         "gps": "59.39068,13.489011",
         "name": "Infanterigatan 22, Karlstad"
        },
        "name": "Karlstad",
        "services": [
         {
          "name": "Anmälan"
         },
         {
          "name": "Cyklar"
         },
         {
          "name": "Delgivning"
         },
         {
          "name": "Hittegods"
         },
         {
          "name": "Pass/nationellt id-kort"
         },
         {
          "name": "Provisoriskt pass"
         },
         {
          "name": "Vapen"
         }
        ]
       },
       {
        "Url": "https://polisen.se/kontakt/polisstationer/sodermanland/katrineholm/",
        "id": 1087,
        "location": {
         "gps": "58.993271,16.202029",
         "name": "Djulögatan 26, Katrineholm "
        },
        "name": "Katrineholm",
        "services": [
         {
          "name": "Anmälan"
         },
         {
          "name": "Hittegods"
         },
         {
          "name": "Pass/nationellt id-kort"
         }
        ]
       },
       {
        "Url": "https://polisen.se/kontakt/polisstationer/varmland/kil/",
        "id": 1144,
        "location": {
         "gps": "59.503566,13.316269",
         "name": "Storgatan 45, Kil"
        },
        "name": "Kil",
        "services": [
         {
          "name": "Anmälan"
         },
         {
          "name": "Hittegods"
         }
        ]
       },
       {
        "Url": "https://polisen.se/kontakt/polisstationer/ostergotland/kindaydre/",
        "id": 1350,
        "location": {
         "gps": "57.987378,15.632099",
         "name": "Stora Torget 5A, Kisa"
        },
        "name": "Kinda/Ydre",
        "services": [
         {
          "name": "Anmälan"
         }
        ]
       },
       {
        "Url": "https://polisen.se/kontakt/polisstationer/norrbotten/kiruna/",
        "id": 851,
        "location": {
         "gps": "67.856365,20.22071",
         "name": "Lars Jansonsgatan 10, Kiruna"
        },
        "name": "Kiruna",
        "services": [
         {
          "name": "Cyklar"
         },
         {
          "name": "Hittegods"
         },
         {
          "name": "Pass/nationellt id-kort"
         }
        ]
       },
       {
        "Url": "https://polisen.se/kontakt/polisstationer/stockholms-lan/stockholm-city/klara/",
        "id": 962,
        "location": {
         "gps": "59.330517,18.05709",
         "name": "Klarabergsviadukten 49, Stockholm"
        },
        "name": "Klara",
        "services": [
         {
          "name": "Anmälan"
         },
         {
          "name": "Cyklar"
         },
         {
          "name": "Hittegods"
         }
        ]
       },
       {
        "Url": "https://polisen.se/kontakt/polisstationer/skane/klippan/",
        "id": 903,
        "location": {
         "gps": "56.137565,13.125752",
         "name": "Storgatan 60, Klippan"
        },
        "name": "Klippan",
        "services": [
         {
          "name": "Anmälan"
         },
         {
          "name": "Cyklar"
         },
         {
          "name": "Hittegods"
         },
         {
          "name": "Vapen"
         }
        ]
       },
       {
        "Url": "https://polisen.se/kontakt/polisstationer/uppsala-lan/knivsta/",
        "id": 1109,
        "location": {
         "gps": "59.727964,17.785557",
         "name": "Centralvägen 18, kommunhuset i anslutning till biblioteket, Knivsta"
        },
        "name": "Knivsta",
        "services": [
         {
          "name": "Anmälan"
         },
         {
          "name": "Hittegods"
         }
        ]
       },
       {
        "Url": "https://polisen.se/kontakt/polisstationer/vasternorrland/kramfors/",
        "id": 1205,
        "location": {
         "gps": "62.930104,17.775498",
         "name": "Viktoriagatan 2, Kramfors"
        },
        "name": "Kramfors",
        "services": [
         {
          "name": "Anmälan"
         },
         {
          "name": "Pass/nationellt id-kort"
         },
         {
          "name": "Vapen"
         }
        ]
       },
       {
        "Url": "https://polisen.se/kontakt/polisstationer/skane/kristianstad/",
        "id": 905,
        "location": {
         "gps": "56.037407,14.154072",
         "name": "Östra Kaserngatan 1, Kristianstad"
        },
        "name": "Kristianstad",
        "services": [
         {
          "name": "Anmälan"
         },
         {
          "name": "Cyklar"
         },
         {
          "name": "Hittegods"
         },
         {
          "name": "Pass/nationellt id-kort"
         }
        ]
       },
       {
        "Url": "https://polisen.se/kontakt/polisstationer/varmland/kristinehamn/",
        "id": 1146,
        "location": {
         "gps": "59.312646,14.106952",
         "name": "Kungsgatan 30, Kristinehamn"
        },
        "name": "Kristinehamn",
        "services": [
         {
          "name": "Anmälan"
         },
         {
          "name": "Pass/nationellt id-kort"
         },
         {
          "name": "Vapen"
         }
        ]
       },
       {
        "Url": "https://polisen.se/kontakt/polisstationer/jamtland/krokom/",
        "id": 760,
        "location": {
         "gps": "63.326822,14.447556",
         "name": "Offerdalsvägen 3 , Krokom"
        },
        "name": "Krokom",
        "services": [
         {
          "name": "Anmälan"
         },
         {
          "name": "Cyklar"
         },
         {
          "name": "Delgivning"
         },
         {
          "name": "Hittegods"
         },
         {
          "name": "Tillstånd"
         }
        ]
       },
       {
        "Url": "https://polisen.se/kontakt/polisstationer/orebro-lan/kumla/",
        "id": 1331,
        "location": {
         "gps": "59.1281068,15.1424907",
         "name": "Stadshuset, Torget 1, 692 31 Kumla"
        },
        "name": "Kumla",
        "services": [
         {
          "name": "Hittegods"
         },
         {
          "name": "Tillstånd"
         }
        ]
       },
       {
        "Url": "https://polisen.se/kontakt/polisstationer/halland/kungsbacka/",
        "id": 741,
        "location": {
         "gps": "57.485555,12.080835",
         "name": "Lantmannagatan 5, Kungsbacka"
        },
        "name": "Kungsbacka",
        "services": [
         {
          "name": "Anmälan"
         },
         {
          "name": "Hittegods"
         },
         {
          "name": "Pass/nationellt id-kort"
         },
         {
          "name": "Tillstånd"
         }
        ]
       },
       {
        "Url": "https://polisen.se/kontakt/polisstationer/vastmanland/kungsor/",
        "id": 1222,
        "location": {
         "gps": "59.422594,16.097583",
         "name": "Drottninggatan 34, Kungsör"
        },
        "name": "Kungsör",
        "services": [
         {
          "name": "Anmälan"
         },
         {
          "name": "Cyklar"
         },
         {
          "name": "Hittegods"
         }
        ]
       },
       {
        "Url": "https://polisen.se/kontakt/polisstationer/vastra-gotaland/kungalv/",
        "id": 1267,
        "location": {
         "gps": "57.870578,11.972248",
         "name": "Ytterbyvägen 25, Kungälv"
        },
        "name": "Kungälv",
        "services": [
         {
          "name": "Anmälan"
         },
         {
          "name": "Hittegods"
         },
         {
          "name": "Pass/nationellt id-kort"
         },
         {
          "name": "Tillstånd"
         }
        ]
       },
       {
        "Url": "https://polisen.se/kontakt/polisstationer/skane/kavlinge/",
        "id": 907,
        "location": {
         "gps": "55.796782,13.115392",
         "name": "Karl Johans väg 102, Kävlinge"
        },
        "name": "Kävlinge",
        "services": [
         {
          "name": "Anmälan"
         },
         {
          "name": "Hittegods"
         }
        ]
       },
       {
        "Url": "https://polisen.se/kontakt/polisstationer/vastmanland/koping/",
        "id": 1224,
        "location": {
         "gps": "59.517207,15.966556",
         "name": "Ringvägen 88, Köping"
        },
        "name": "Köping",
        "services": [
         {
          "name": "Anmälan"
         },
         {
          "name": "Cyklar"
         },
         {
          "name": "Hittegods"
         },
         {
          "name": "Pass/nationellt id-kort"
         },
         {
          "name": "Tillstånd"
         },
         {
          "name": "Vapen"
         }
        ]
       },
       {
        "Url": "https://polisen.se/kontakt/polisstationer/halland/laholm/",
        "id": 743,
        "location": {
         "gps": "56.513205,13.050235",
         "name": "Lantmannagatan 3, Laholm"
        },
        "name": "Laholm",
        "services": [
         {
          "name": "Anmälan"
         },
         {
          "name": "Hittegods"
         },
         {
          "name": "Pass/nationellt id-kort"
         },
         {
          "name": "Tillstånd"
         }
        ]
       },
       {
        "Url": "https://polisen.se/kontakt/polisstationer/skane/landskrona/",
        "id": 909,
        "location": {
         "gps": "55.869568,12.83006",
         "name": "Rådhusgatan 1, Landskrona"
        },
        "name": "Landskrona",
        "services": [
         {
          "name": "Anmälan"
         },
         {
          "name": "Cyklar"
         },
         {
          "name": "Hittegods"
         },
         {
          "name": "Pass/nationellt id-kort"
         }
        ]
       },
       {
        "Url": "https://polisen.se/kontakt/polisstationer/orebro-lan/laxa/",
        "id": 1333,
        "location": {
         "gps": "58.989128,14.617326",
         "name": "Kommunhuset Laxå, Postgatan 2, Laxå"
        },
        "name": "Laxå",
        "services": []
       },
       {
        "Url": "https://polisen.se/kontakt/polisstationer/dalarna/leksand/",
        "id": 686,
        "location": {
         "gps": "60.73223,14.998055",
         "name": "Kommunhuset, Torget 5, Leksand"
        },
        "name": "Leksand",
        "services": [
         {
          "name": "Anmälan"
         },
         {
          "name": "Hittegods"
         },
         {
          "name": "Pass/nationellt id-kort"
         },
         {
          "name": "Tillstånd"
         }
        ]
       },
       {
        "Url": "https://polisen.se/kontakt/polisstationer/vastra-gotaland/lerum/",
        "id": 1269,
        "location": {
         "gps": "57.768456,12.265073",
         "name": "Göteborgsvägen 16, Lerum"
        },
        "name": "Lerum",
        "services": [
         {
          "name": "Anmälan"
         },
         {
          "name": "Hittegods"
         }
        ]
       },
       {
        "Url": "https://polisen.se/kontakt/polisstationer/kronoberg/lessebo/",
        "id": 813,
        "location": {
         "gps": "56.751387,15.269421",
         "name": "Storgatan 78, Lessebo"
        },
        "name": "Lessebo",
        "services": [
         {
          "name": "Anmälan"
         },
         {
          "name": "Hittegods"
         }
        ]
       },
       {
        "Url": "https://polisen.se/kontakt/polisstationer/vastra-gotaland/lidkoping/",
        "id": 1271,
        "location": {
         "gps": "58.50214,13.155002",
         "name": "Mellbygatan 5, Lidköping"
        },
        "name": "Lidköping",
        "services": [
         {
          "name": "Anmälan"
         },
         {
          "name": "Cyklar"
         },
         {
          "name": "Hittegods"
         },
         {
          "name": "Pass/nationellt id-kort"
         },
         {
          "name": "Vapen"
         }
        ]
       },
       {
        "Url": "https://polisen.se/kontakt/polisstationer/orebro-lan/lindesberg/",
        "id": 1337,
        "location": {
         "gps": "59.592221,15.227791",
         "name": "Prästgatan 6, Lindesberg"
        },
        "name": "Lindesberg",
        "services": [
         {
          "name": "Anmälan"
         },
         {
          "name": "Pass/nationellt id-kort"
         }
        ]
       },
       {
        "Url": "https://polisen.se/kontakt/polisstationer/ostergotland/linkoping/",
        "id": 1352,
        "location": {
         "gps": "58.396756,15.618866",
         "name": "Brigadgatan 13, Linköping"
        },
        "name": "Linköping",
        "services": [
         {
          "name": "Anmälan"
         },
         {
          "name": "Beslag"
         },
         {
          "name": "Cyklar"
         },
         {
          "name": "Delgivning"
         },
         {
          "name": "Hittegods"
         },
         {
          "name": "Pass/nationellt id-kort"
         },
         {
          "name": "Tillstånd"
         },
         {
          "name": "Vapen"
         }
        ]
       },
       {
        "Url": "https://polisen.se/kontakt/polisstationer/kronoberg/ljungby/",
        "id": 815,
        "location": {
         "gps": "56.834814,13.937252",
         "name": "Södra Torggatan 1, Ljungby"
        },
        "name": "Ljungby",
        "services": [
         {
          "name": "Anmälan"
         },
         {
          "name": "Cyklar"
         },
         {
          "name": "Delgivning"
         },
         {
          "name": "Hittegods"
         },
         {
          "name": "Pass/nationellt id-kort"
         }
        ]
       },
       {
        "Url": "https://polisen.se/kontakt/polisstationer/gavleborg/ljusdal/",
        "id": 722,
        "location": {
         "gps": "61.8276658,16.101895",
         "name": "Hotellgatan 35, Ljusdal"
        },
        "name": "Ljusdal",
        "services": [
         {
          "name": "Anmälan"
         },
         {
          "name": "Hittegods"
         },
         {
          "name": "Tillstånd"
         },
         {
          "name": "Vapen"
         }
        ]
       },
       {
        "Url": "https://polisen.se/kontakt/polisstationer/orebro-lan/ljusnarsberg/",
        "id": 1339,
        "location": {
         "gps": "59.876035,14.998717",
         "name": "Gruvstugutorget 6, Kopparberg "
        },
        "name": "Ljusnarsberg",
        "services": [
         {
          "name": "Anmälan"
         }
        ]
       },
       {
        "Url": "https://polisen.se/kontakt/polisstationer/skane/lomma/",
        "id": 911,
        "location": {
         "gps": "55.674818,13.072137",
         "name": "Hamngatan 3, Lomma"
        },
        "name": "Lomma",
        "services": [
         {
          "name": "Anmälan"
         },
         {
          "name": "Cyklar"
         },
         {
          "name": "Hittegods"
         }
        ]
       },
       {
        "Url": "https://polisen.se/kontakt/polisstationer/dalarna/ludvika-/",
        "id": 688,
        "location": {
         "gps": "60.1483,15.187602",
         "name": "Engelbrektsgatan 18, Ludvika"
        },
        "name": "Ludvika ",
        "services": [
         {
          "name": "Anmälan"
         },
         {
          "name": "Cyklar"
         },
         {
          "name": "Hittegods"
         },
         {
          "name": "Pass/nationellt id-kort"
         },
         {
          "name": "Tillstånd"
         },
         {
          "name": "Vapen"
         }
        ]
       },
       {
        "Url": "https://polisen.se/kontakt/polisstationer/norrbotten/lulea/",
        "id": 854,
        "location": {
         "gps": "65.5861,22.160199",
         "name": "Skeppsbrogatan 37, Luleå"
        },
        "name": "Luleå",
        "services": [
         {
          "name": "Anmälan"
         },
         {
          "name": "Hittegods"
         },
         {
          "name": "Pass/nationellt id-kort"
         },
         {
          "name": "Provisoriskt pass"
         },
         {
          "name": "Vapen"
         }
        ]
       },
       {
        "Url": "https://polisen.se/kontakt/polisstationer/skane/lund/",
        "id": 913,
        "location": {
         "gps": "55.704204,13.18353",
         "name": "Byggmästaregatan 1, Lund"
        },
        "name": "Lund",
        "services": [
         {
          "name": "Anmälan"
         },
         {
          "name": "Beslag"
         },
         {
          "name": "Cyklar"
         },
         {
          "name": "Hittegods"
         },
         {
          "name": "Pass/nationellt id-kort"
         }
        ]
       },
       {
        "Url": "https://polisen.se/kontakt/polisstationer/vasterbotten/lycksele/",
        "id": 1170,
        "location": {
         "gps": "64.594354,18.679252",
         "name": "Borgaregatan 4, 921 31 Lycksele"
        },
        "name": "Lycksele",
        "services": [
         {
          "name": "Anmälan"
         },
         {
          "name": "Hittegods"
         },
         {
          "name": "Pass/nationellt id-kort"
         },
         {
          "name": "Tillstånd"
         },
         {
          "name": "Vapen"
         }
        ]
       },
       {
        "Url": "https://polisen.se/kontakt/polisstationer/vastra-gotaland/lysekil/",
        "id": 1273,
        "location": {
         "gps": "58.276311,11.442036",
         "name": "Landsvägsgatan 8, Lysekil"
        },
        "name": "Lysekil",
        "services": [
         {
          "name": "Anmälan"
         }
        ]
       },
       {
        "Url": "https://polisen.se/kontakt/polisstationer/skane/malmo-drottninggatan/",
        "id": 918,
        "location": {
         "gps": "55.602845,13.011065",
         "name": "Drottninggatan 18, Malmö"
        },
        "name": "Malmö Drottninggatan",
        "services": [
         {
          "name": "Delgivning"
         },
         {
          "name": "Pass/nationellt id-kort"
         },
         {
          "name": "Provisoriskt pass"
         }
        ]
       },
       {
        "Url": "https://polisen.se/kontakt/polisstationer/skane/malmo-hittegodsbeslag/",
        "id": 920,
        "location": {
         "gps": "55.622716,13.041993",
         "name": "Sturkögatan 10, Malmö (Upphittade nycklar finns på stationen på Porslinsgatan 4B)"
        },
        "name": "Malmö hittegods/beslag",
        "services": [
         {
          "name": "Beslag"
         },
         {
          "name": "Cyklar"
         },
         {
          "name": "Hittegods"
         }
        ]
       },
       {
        "Url": "https://polisen.se/kontakt/polisstationer/skane/malmo-porslinsgatan/",
        "id": 922,
        "location": {
         "gps": "55.606157,13.015432",
         "name": "Porslinsgatan 4B, Malmö"
        },
        "name": "Malmö Porslinsgatan",
        "services": [
         {
          "name": "Anmälan"
         },
         {
          "name": "Vapen"
         }
        ]
       },
       {
        "Url": "https://polisen.se/kontakt/polisstationer/skane/malmo-rosengard/",
        "id": 924,
        "location": {
         "gps": "55.587067,13.050536",
         "name": "Von Lingens väg 130 b, Malmö"
        },
        "name": "Malmö Rosengård",
        "services": [
         {
          "name": "Anmälan"
         }
        ]
       },
       {
        "Url": "https://polisen.se/kontakt/polisstationer/dalarna/malung/",
        "id": 690,
        "location": {
         "gps": "60.683521,13.717502",
         "name": "Lisagatan 53, Malung"
        },
        "name": "Malung",
        "services": [
         {
          "name": "Anmälan"
         },
         {
          "name": "Hittegods"
         },
         {
          "name": "Pass/nationellt id-kort"
         },
         {
          "name": "Tillstånd"
         }
        ]
       },
       {
        "Url": "https://polisen.se/kontakt/polisstationer/vasterbotten/mala/",
        "id": 1172,
        "location": {
         "gps": "65.182865,18.742222",
         "name": "Storgatan 46, 930 70 Malå"
        },
        "name": "Malå",
        "services": [
         {
          "name": "Anmälan"
         },
         {
          "name": "Hittegods"
         }
        ]
       },
       {
        "Url": "https://polisen.se/kontakt/polisstationer/vastra-gotaland/mariestad/",
        "id": 1275,
        "location": {
         "gps": "58.708971,13.812818",
         "name": "Oxvägen 1, Mariestad"
        },
        "name": "Mariestad",
        "services": [
         {
          "name": "Anmälan"
         },
         {
          "name": "Cyklar"
         },
         {
          "name": "Hittegods"
         },
         {
          "name": "Pass/nationellt id-kort"
         }
        ]
       },
       {
        "Url": "https://polisen.se/kontakt/polisstationer/vastra-gotaland/mark/",
        "id": 1277,
        "location": {
         "gps": "57.50999,12.698547",
         "name": "Boråsvägen 50, Kinna"
        },
        "name": "Mark",
        "services": [
         {
          "name": "Anmälan"
         },
         {
          "name": "Hittegods"
         },
         {
          "name": "Pass/nationellt id-kort"
         }
        ]
       },
       {
        "Url": "https://polisen.se/kontakt/polisstationer/vastra-gotaland/mellerud/",
        "id": 1279,
        "location": {
         "gps": "58.698524,12.459995",
         "name": "Storgatan 40, Mellerud"
        },
        "name": "Mellerud",
        "services": [
         {
          "name": "Anmälan"
         },
         {
          "name": "Cyklar"
         },
         {
          "name": "Delgivning"
         },
         {
          "name": "Hittegods"
         },
         {
          "name": "Tillstånd"
         },
         {
          "name": "Vapen"
         }
        ]
       },
       {
        "Url": "https://polisen.se/kontakt/polisstationer/ostergotland/mjolby/",
        "id": 1354,
        "location": {
         "gps": "58.327416,15.125935",
         "name": "Kungsvägen 69, Mjölby"
        },
        "name": "Mjölby",
        "services": [
         {
          "name": "Anmälan"
         },
         {
          "name": "Cyklar"
         },
         {
          "name": "Delgivning"
         },
         {
          "name": "Hittegods"
         },
         {
          "name": "Tillstånd"
         },
         {
          "name": "Vapen"
         }
        ]
       },
       {
        "Url": "https://polisen.se/kontakt/polisstationer/vastra-gotaland/mobila-kontoret-fyrbodal/",
        "id": 1281,
        "location": {
         "gps": "0,0",
         "name": ", "
        },
        "name": "Mobila kontoret Fyrbodal",
        "services": [
         {
          "name": "Anmälan"
         }
        ]
       },
       {
        "Url": "https://polisen.se/kontakt/polisstationer/vastra-gotaland/mobila-kontoret-alvsborg/",
        "id": 6706,
        "location": {
         "gps": "58.121111,12.530556",
         "name": "Herrljunga, Sollebrunn, Tranemo, Svenljunga, Bollebygd, Gråbo, "
        },
        "name": "Mobila kontoret Älvsborg",
        "services": [
         {
          "name": "Anmälan"
         },
         {
          "name": "Hittegods"
         },
         {
          "name": "Vapen"
         }
        ]
       },
       {
        "Url": "https://polisen.se/kontakt/polisstationer/vastra-gotaland/mobila-kontoret-skaraborg/",
        "id": 1283,
        "location": {
         "gps": "0,0",
         "name": ", "
        },
        "name": "Mobila kontoret östra Skaraborg",
        "services": [
         {
          "name": "Anmälan"
         }
        ]
       },
       {
        "Url": "https://polisen.se/kontakt/polisstationer/kalmar-lan/mobila-poliskontoret/",
        "id": 796,
        "location": {
         "gps": "56.630072,15.538553",
         "name": "Emmaboda, Högsby, Målilla, Mörbylånga, Torsås, Virserum, "
        },
        "name": "Mobila poliskontoret i Kalmar och Kronobergs län",
        "services": [
         {
          "name": "Anmälan"
         },
         {
          "name": "Hittegods"
         }
        ]
       },
       {
        "Url": "https://polisen.se/kontakt/polisstationer/kronoberg/mobila-poliskontoret/",
        "id": 25994,
        "location": {
         "gps": "56.751162,15.270459",
         "name": "Lessebo, Ryd, Tingsryd, Vislanda, "
        },
        "name": "Mobila poliskontoret i Kalmar och Kronobergs län",
        "services": [
         {
          "name": "Anmälan"
         },
         {
          "name": "Hittegods"
         }
        ]
       },
       {
        "Url": "https://polisen.se/kontakt/polisstationer/skane/mobila-poliskontoret-i-lpo-klippan/",
        "id": 189988,
        "location": {
         "gps": "56.137565,13.125752",
         "name": "Ekeby, Kågeröd, Ljungbyhed, Perstorp, Röstånga, Svalöv, Teckomatorp och Östra Ljungby, "
        },
        "name": "Mobila poliskontoret i lokalpolisområde Klippan",
        "services": []
       },
       {
        "Url": "https://polisen.se/kontakt/polisstationer/skane/mobila-poliskontoret-i-blekinge-nordostra-skane/",
        "id": 31164,
        "location": {
         "gps": "56.037572,14.153985",
         "name": "Hässleholm, Olofström, Osby, Ronneby, "
        },
        "name": "Mobila poliskontoret i polisområde Blekinge nordöstra Skåne",
        "services": [
         {
          "name": "Anmälan"
         },
         {
          "name": "Hittegods"
         }
        ]
       },
       {
        "Url": "https://polisen.se/kontakt/polisstationer/blekinge/mobila-poliskontoret-i-blekinge-nordostra-skane/",
        "id": 87257,
        "location": {
         "gps": "56.210434,15.2760229",
         "name": "Hässleholm, Olofström, Osby, Ronneby, "
        },
        "name": "Mobila poliskontoret i polisområde Blekinge nordöstra Skåne",
        "services": [
         {
          "name": "Anmälan"
         },
         {
          "name": "Hittegods"
         }
        ]
       },
       {
        "Url": "https://polisen.se/kontakt/polisstationer/dalarna/mora/",
        "id": 692,
        "location": {
         "gps": "61.005612,14.536855",
         "name": "Millåkersgatan 6-8, Mora"
        },
        "name": "Mora",
        "services": [
         {
          "name": "Anmälan"
         },
         {
          "name": "Beslag"
         },
         {
          "name": "Cyklar"
         },
         {
          "name": "Delgivning"
         },
         {
          "name": "Hittegods"
         },
         {
          "name": "Pass/nationellt id-kort"
         },
         {
          "name": "Tillstånd"
         },
         {
          "name": "Vapen"
         }
        ]
       },
       {
        "Url": "https://polisen.se/kontakt/polisstationer/ostergotland/motala/",
        "id": 1356,
        "location": {
         "gps": "58.537724,15.046239",
         "name": "Järnvägsparken 1, Motala"
        },
        "name": "Motala",
        "services": [
         {
          "name": "Anmälan"
         },
         {
          "name": "Beslag"
         },
         {
          "name": "Cyklar"
         },
         {
          "name": "Delgivning"
         },
         {
          "name": "Hittegods"
         },
         {
          "name": "Pass/nationellt id-kort"
         },
         {
          "name": "Tillstånd"
         },
         {
          "name": "Vapen"
         }
        ]
       },
       {
        "Url": "https://polisen.se/kontakt/polisstationer/varmland/munkfors/",
        "id": 1148,
        "location": {
         "gps": "59.835599,13.545839",
         "name": "Tallbacksvägen 21A, Munkfors"
        },
        "name": "Munkfors",
        "services": [
         {
          "name": "Anmälan"
         },
         {
          "name": "Hittegods"
         }
        ]
       },
       {
        "Url": "https://polisen.se/kontakt/polisstationer/vastra-gotaland/molndal/",
        "id": 1286,
        "location": {
         "gps": "57.659398,12.019758",
         "name": "Torggatan 3, Mölndal"
        },
        "name": "Mölndal",
        "services": [
         {
          "name": "Anmälan"
         },
         {
          "name": "Hittegods"
         },
         {
          "name": "Pass/nationellt id-kort"
         }
        ]
       },
       {
        "Url": "https://polisen.se/kontakt/polisstationer/vastra-gotaland/molnlycke/",
        "id": 1288,
        "location": {
         "gps": "57.6590691,12.1146302",
         "name": "Råda torg 1, Mölnlycke"
        },
        "name": "Mölnlycke",
        "services": []
       },
       {
        "Url": "https://polisen.se/kontakt/polisstationer/kalmar-lan/monsteras/",
        "id": 798,
        "location": {
         "gps": "57.041343,16.445039",
         "name": "Storgatan 13, Mönsterås"
        },
        "name": "Mönsterås",
        "services": [
         {
          "name": "Anmälan"
         },
         {
          "name": "Hittegods"
         }
        ]
       },
       {
        "Url": "https://polisen.se/kontakt/polisstationer/stockholms-lan/stockholm-syd/nacka/",
        "id": 1035,
        "location": {
         "gps": "59.314907,18.164518",
         "name": "Jakobsdalsvägen 1, Nacka Strand"
        },
        "name": "Nacka",
        "services": [
         {
          "name": "Anmälan"
         },
         {
          "name": "Hittegods"
         },
         {
          "name": "Pass/nationellt id-kort"
         }
        ]
       },
       {
        "Url": "https://polisen.se/kontakt/polisstationer/orebro-lan/nora/",
        "id": 1341,
        "location": {
         "gps": "59.520672,15.036672",
         "name": "Skolgatan 13, Nora"
        },
        "name": "Nora",
        "services": [
         {
          "name": "Anmälan"
         }
        ]
       },
       {
        "Url": "https://polisen.se/kontakt/polisstationer/vastmanland/norberg/",
        "id": 1226,
        "location": {
         "gps": "60.064318,15.922239",
         "name": "Malmgatan 7, Norberg"
        },
        "name": "Norberg",
        "services": [
         {
          "name": "Anmälan"
         }
        ]
       },
       {
        "Url": "https://polisen.se/kontakt/polisstationer/gavleborg/nordanstig---bergsjo/",
        "id": 724,
        "location": {
         "gps": "61.980603,17.060067",
         "name": "Stationsvägen 2 , Bergsjö"
        },
        "name": "Nordanstig - Bergsjö",
        "services": []
       },
       {
        "Url": "https://polisen.se/kontakt/polisstationer/vasterbotten/nordmaling/",
        "id": 1174,
        "location": {
         "gps": "63.567966,19.5",
         "name": "Storgatan 11, 914 33 Nordmaling"
        },
        "name": "Nordmaling",
        "services": [
         {
          "name": "Anmälan"
         },
         {
          "name": "Hittegods"
         },
         {
          "name": "Tillstånd"
         }
        ]
       },
       {
        "Url": "https://polisen.se/kontakt/polisstationer/ostergotland/norrkoping/",
        "id": 1358,
        "location": {
         "gps": "58.595566,16.174239",
         "name": "Stockholmsvägen 4-6, Norrköping"
        },
        "name": "Norrköping",
        "services": [
         {
          "name": "Anmälan"
         },
         {
          "name": "Beslag"
         },
         {
          "name": "Delgivning"
         },
         {
          "name": "Hittegods"
         },
         {
          "name": "Pass/nationellt id-kort"
         }
        ]
       },
       {
        "Url": "https://polisen.se/kontakt/polisstationer/stockholms-lan/stockholm-nord/norrtalje/",
        "id": 1001,
        "location": {
         "gps": "59.756701,18.697308",
         "name": "Esplanaden 1, Norrtälje"
        },
        "name": "Norrtälje ",
        "services": [
         {
          "name": "Anmälan"
         },
         {
          "name": "Hittegods"
         },
         {
          "name": "Pass/nationellt id-kort"
         },
         {
          "name": "Vapen"
         }
        ]
       },
       {
        "Url": "https://polisen.se/kontakt/polisstationer/vasterbotten/norsjo/",
        "id": 1176,
        "location": {
         "gps": "64.913451,19.484497",
         "name": "Åkargatan 7, 935 31 Norsjö"
        },
        "name": "Norsjö",
        "services": [
         {
          "name": "Anmälan"
         },
         {
          "name": "Hittegods"
         }
        ]
       },
       {
        "Url": "https://polisen.se/kontakt/polisstationer/kalmar-lan/nybro/",
        "id": 800,
        "location": {
         "gps": "56.745436,15.910707",
         "name": "Långgatan 9, Nybro"
        },
        "name": "Nybro",
        "services": [
         {
          "name": "Anmälan"
         },
         {
          "name": "Cyklar"
         },
         {
          "name": "Hittegods"
         }
        ]
       },
       {
        "Url": "https://polisen.se/kontakt/polisstationer/sodermanland/nykoping/",
        "id": 1089,
        "location": {
         "gps": "58.749382,17.015824",
         "name": "Folkungavägen 2, Nyköping"
        },
        "name": "Nyköping",
        "services": [
         {
          "name": "Anmälan"
         },
         {
          "name": "Delgivning"
         },
         {
          "name": "Hittegods"
         },
         {
          "name": "Pass/nationellt id-kort"
         }
        ]
       },
       {
        "Url": "https://polisen.se/kontakt/polisstationer/jonkopings-lan/nassjo/",
        "id": 779,
        "location": {
         "gps": "57.649617,14.699045",
         "name": "Södergatan 1, Nässjö"
        },
        "name": "Nässjö",
        "services": [
         {
          "name": "Anmälan"
         },
         {
          "name": "Hittegods"
         }
        ]
       },
       {
        "Url": "https://polisen.se/kontakt/polisstationer/gavleborg/ockelbo/",
        "id": 726,
        "location": {
         "gps": "60.890612,16.716791",
         "name": "Åsgatan 30D, Kommunkontoret, Ockelbo"
        },
        "name": "Ockelbo",
        "services": []
       },
       {
        "Url": "https://polisen.se/kontakt/polisstationer/dalarna/orsa/",
        "id": 694,
        "location": {
         "gps": "61.120585,14.611938",
         "name": "Kommunhuset, Parkgatan 1, Orsa"
        },
        "name": "Orsa",
        "services": [
         {
          "name": "Anmälan"
         },
         {
          "name": "Hittegods"
         },
         {
          "name": "Tillstånd"
         }
        ]
       },
       {
        "Url": "https://polisen.se/kontakt/polisstationer/kalmar-lan/oskarshamn/",
        "id": 802,
        "location": {
         "gps": "57.264954,16.45004",
         "name": "Slottsgatan 5, Oskarshamn"
        },
        "name": "Oskarshamn",
        "services": [
         {
          "name": "Anmälan"
         },
         {
          "name": "Cyklar"
         },
         {
          "name": "Delgivning"
         },
         {
          "name": "Hittegods"
         },
         {
          "name": "Pass/nationellt id-kort"
         }
        ]
       },
       {
        "Url": "https://polisen.se/kontakt/polisstationer/gavleborg/ovanaker---edsbyn/",
        "id": 728,
        "location": {
         "gps": "61.377322,15.817505",
         "name": "Långgatan 24, Edsbyn"
        },
        "name": "Ovanåker - Edsbyn",
        "services": []
       },
       {
        "Url": "https://polisen.se/kontakt/polisstationer/sodermanland/oxelosund/",
        "id": 1093,
        "location": {
         "gps": "58.671354,17.106963",
         "name": "Höjdgatan 26, Oxelösund"
        },
        "name": "Oxelösund",
        "services": [
         {
          "name": "Anmälan"
         },
         {
          "name": "Hittegods"
         }
        ]
       },
       {
        "Url": "https://polisen.se/kontakt/polisstationer/norrbotten/pajala/",
        "id": 858,
        "location": {
         "gps": "67.21346,23.365942",
         "name": "Tingsgatan 1, Pajala"
        },
        "name": "Pajala",
        "services": [
         {
          "name": "Anmälan"
         }
        ]
       },
       {
        "Url": "https://polisen.se/kontakt/polisstationer/vastra-gotaland/partille/",
        "id": 1290,
        "location": {
         "gps": "57.739064,12.102153",
         "name": "Gamla Kronvägen 34, Göteborg"
        },
        "name": "Partille",
        "services": [
         {
          "name": "Anmälan"
         }
        ]
       },
       {
        "Url": "https://polisen.se/kontakt/polisstationer/skane/perstorp/",
        "id": 928,
        "location": {
         "gps": "56.137991,13.396545",
         "name": "Hantverkaregatan 9 B, Perstorp"
        },
        "name": "Perstorp",
        "services": [
         {
          "name": "Anmälan"
         }
        ]
       },
       {
        "Url": "https://polisen.se/kontakt/polisstationer/norrbotten/pitea/",
        "id": 865,
        "location": {
         "gps": "65.31648,21.465651",
         "name": "Kolugnsvägen 1, Piteå"
        },
        "name": "Piteå",
        "services": [
         {
          "name": "Anmälan"
         },
         {
          "name": "Cyklar"
         },
         {
          "name": "Hittegods"
         },
         {
          "name": "Pass/nationellt id-kort"
         },
         {
          "name": "Vapen"
         }
        ]
       },
       {
        "Url": "https://polisen.se/kontakt/polisstationer/vasterbotten/robertsfors/",
        "id": 1178,
        "location": {
         "gps": "64.193529,20.847385",
         "name": "Storgatan 28, 915 31 Robertsfors"
        },
        "name": "Robertsfors",
        "services": [
         {
          "name": "Anmälan"
         },
         {
          "name": "Hittegods"
         },
         {
          "name": "Tillstånd"
         }
        ]
       },
       {
        "Url": "https://polisen.se/kontakt/polisstationer/blekinge/ronneby/",
        "id": 669,
        "location": {
         "gps": "56.213557,15.2738",
         "name": "Gamla Karlshamnsvägen 2, Ronneby"
        },
        "name": "Ronneby",
        "services": [
         {
          "name": "Anmälan"
         },
         {
          "name": "Hittegods"
         }
        ]
       },
       {
        "Url": "https://polisen.se/kontakt/polisstationer/dalarna/rattvik/",
        "id": 696,
        "location": {
         "gps": "60.886756,15.119315",
         "name": "Torggatan 18, Rättvik"
        },
        "name": "Rättvik",
        "services": [
         {
          "name": "Anmälan"
         },
         {
          "name": "Hittegods"
         },
         {
          "name": "Pass/nationellt id-kort"
         },
         {
          "name": "Tillstånd"
         }
        ]
       },
       {
        "Url": "https://polisen.se/kontakt/polisstationer/vastmanland/sala/",
        "id": 1228,
        "location": {
         "gps": "59.91911,16.606581",
         "name": "Gillegatan 5C, Sala"
        },
        "name": "Sala",
        "services": [
         {
          "name": "Anmälan"
         },
         {
          "name": "Cyklar"
         },
         {
          "name": "Hittegods"
         },
         {
          "name": "Pass/nationellt id-kort"
         },
         {
          "name": "Vapen"
         }
        ]
       },
       {
        "Url": "https://polisen.se/kontakt/polisstationer/gavleborg/sandviken/",
        "id": 730,
        "location": {
         "gps": "60.621891,16.779447",
         "name": "Bryggargatan 6, Sandviken"
        },
        "name": "Sandviken",
        "services": [
         {
          "name": "Anmälan"
         },
         {
          "name": "Hittegods"
         },
         {
          "name": "Tillstånd"
         }
        ]
       },
       {
        "Url": "https://polisen.se/kontakt/polisstationer/skane/simrishamn/",
        "id": 930,
        "location": {
         "gps": "55.554463,14.351678",
         "name": "Stenbocksgatan 24, Simrishamn"
        },
        "name": "Simrishamn",
        "services": [
         {
          "name": "Anmälan"
         },
         {
          "name": "Cyklar"
         },
         {
          "name": "Hittegods"
         }
        ]
       },
       {
        "Url": "https://polisen.se/kontakt/polisstationer/skane/sjobo/",
        "id": 932,
        "location": {
         "gps": "55.632385,13.709213",
         "name": "Trädgårdsgatan 5, Sjöbo"
        },
        "name": "Sjöbo",
        "services": [
         {
          "name": "Anmälan"
         }
        ]
       },
       {
        "Url": "https://polisen.se/kontakt/polisstationer/vastra-gotaland/skara/",
        "id": 1292,
        "location": {
         "gps": "58.384982,13.440924",
         "name": "Östra Kungshusgatan 11, Skara"
        },
        "name": "Skara",
        "services": [
         {
          "name": "Anmälan"
         },
         {
          "name": "Hittegods"
         }
        ]
       },
       {
        "Url": "https://polisen.se/kontakt/polisstationer/sodermanland/nykoping-skavsta/",
        "id": 1091,
        "location": {
         "gps": "58.78341,16.923055",
         "name": "General Schybergs väg 27, Stockholm-Skavsta flygplats"
        },
        "name": "Skavsta",
        "services": [
         {
          "name": "Pass/nationellt id-kort"
         },
         {
          "name": "Provisoriskt pass"
         }
        ]
       },
       {
        "Url": "https://polisen.se/kontakt/polisstationer/vasterbotten/skelleftehamn/",
        "id": 1180,
        "location": {
         "gps": "64.688025,21.23783",
         "name": "S:t Örjansvägen 7, 932 32 Skelleftehamn"
        },
        "name": "Skelleftehamn",
        "services": []
       },
       {
        "Url": "https://polisen.se/kontakt/polisstationer/vasterbotten/skelleftea/",
        "id": 1182,
        "location": {
         "gps": "64.74848,20.95886",
         "name": "Strandgatan 47, 931 30 Skellefteå"
        },
        "name": "Skellefteå",
        "services": [
         {
          "name": "Anmälan"
         },
         {
          "name": "Hittegods"
         },
         {
          "name": "Pass/nationellt id-kort"
         },
         {
          "name": "Tillstånd"
         },
         {
          "name": "Vapen"
         }
        ]
       },
       {
        "Url": "https://polisen.se/kontakt/polisstationer/skane/skurup/",
        "id": 934,
        "location": {
         "gps": "55.47911,13.503588",
         "name": "Kyrkogatan 31, Skurup "
        },
        "name": "Skurup",
        "services": []
       },
       {
        "Url": "https://polisen.se/kontakt/polisstationer/uppsala-lan/skutskar/",
        "id": 1111,
        "location": {
         "gps": "60.626215,17.414337",
         "name": "Centralgatan 5, Skutskär, "
        },
        "name": "Skutskär",
        "services": [
         {
          "name": "Anmälan"
         },
         {
          "name": "Hittegods"
         }
        ]
       },
       {
        "Url": "https://polisen.se/kontakt/polisstationer/stockholms-lan/stockholm-syd/skarholmen/",
        "id": 1056,
        "location": {
         "gps": "59.273417,17.90706",
         "name": "Måsholmstorget 5, Skärholmen"
        },
        "name": "Skärholmen",
        "services": [
         {
          "name": "Anmälan"
         },
         {
          "name": "Hittegods"
         },
         {
          "name": "Pass/nationellt id-kort"
         },
         {
          "name": "Vapen"
         }
        ]
       },
       {
        "Url": "https://polisen.se/kontakt/polisstationer/vastra-gotaland/skovde/",
        "id": 1294,
        "location": {
         "gps": "58.386664,13.847876",
         "name": "Prinsgatan 7-9, Skövde"
        },
        "name": "Skövde",
        "services": [
         {
          "name": "Anmälan"
         },
         {
          "name": "Cyklar"
         },
         {
          "name": "Hittegods"
         },
         {
          "name": "Pass/nationellt id-kort"
         },
         {
          "name": "Vapen"
         }
        ]
       },
       {
        "Url": "https://polisen.se/kontakt/polisstationer/dalarna/smedjebacken/",
        "id": 698,
        "location": {
         "gps": "60.143241,15.414532",
         "name": "Kommunalhuset, Smedjebacken"
        },
        "name": "Smedjebacken",
        "services": [
         {
          "name": "Anmälan"
         },
         {
          "name": "Hittegods"
         },
         {
          "name": "Tillstånd"
         }
        ]
       },
       {
        "Url": "https://polisen.se/kontakt/polisstationer/vasternorrland/solleftea/",
        "id": 1207,
        "location": {
         "gps": "63.169085,17.28717",
         "name": "Hågestavägen 2, Sollefteå"
        },
        "name": "Sollefteå",
        "services": [
         {
          "name": "Anmälan"
         },
         {
          "name": "Pass/nationellt id-kort"
         },
         {
          "name": "Vapen"
         }
        ]
       },
       {
        "Url": "https://polisen.se/kontakt/polisstationer/stockholms-lan/stockholm-nord/sollentuna-/",
        "id": 1022,
        "location": {
         "gps": "59.426257,17.949564",
         "name": "Tingsvägen 7, Sollentuna"
        },
        "name": "Sollentuna ",
        "services": [
         {
          "name": "Anmälan"
         },
         {
          "name": "Hittegods"
         },
         {
          "name": "Pass/nationellt id-kort"
         },
         {
          "name": "Vapen"
         }
        ]
       },
       {
        "Url": "https://polisen.se/kontakt/polisstationer/stockholms-lan/stockholm-nord/solna/",
        "id": 986,
        "location": {
         "gps": "59.355097,18.001389",
         "name": "Sundbybergsvägen 15, Solna"
        },
        "name": "Solna",
        "services": [
         {
          "name": "Anmälan"
         },
         {
          "name": "Beslag"
         },
         {
          "name": "Hittegods"
         },
         {
          "name": "Pass/nationellt id-kort"
         },
         {
          "name": "Vapen"
         }
        ]
       },
       {
        "Url": "https://polisen.se/kontakt/polisstationer/vasterbotten/sorsele/",
        "id": 1184,
        "location": {
         "gps": "65.53494,17.539965",
         "name": "Norra Esplanaden 5, 924 31 Sorsele"
        },
        "name": "Sorsele",
        "services": [
         {
          "name": "Anmälan"
         },
         {
          "name": "Hittegods"
         },
         {
          "name": "Tillstånd"
         }
        ]
       },
       {
        "Url": "https://polisen.se/kontakt/polisstationer/skane/staffanstorp/",
        "id": 936,
        "location": {
         "gps": "55.644006,13.207598",
         "name": "Torget 6, Staffanstorp"
        },
        "name": "Staffanstorp",
        "services": [
         {
          "name": "Anmälan"
         },
         {
          "name": "Hittegods"
         }
        ]
       },
       {
        "Url": "https://polisen.se/kontakt/polisstationer/vastra-gotaland/stenungsund/",
        "id": 1296,
        "location": {
         "gps": "58.06738,11.816805",
         "name": "Västanvindsgatan 4, Stenungsund"
        },
        "name": "Stenungsund",
        "services": [
         {
          "name": "Anmälan"
         },
         {
          "name": "Hittegods"
         },
         {
          "name": "Pass/nationellt id-kort"
         },
         {
          "name": "Tillstånd"
         },
         {
          "name": "Vapen"
         }
        ]
       },
       {
        "Url": "https://polisen.se/kontakt/polisstationer/stockholms-lan/stockholm-city/stockholms-city-norrmalm/",
        "id": 976,
        "location": {
         "gps": "59.332051,18.038768",
         "name": "Kungsholmsgatan 43, Stockholm. För ärenden om beslag är adressen Bergsgatan 54"
        },
        "name": "Stockholms City Norrmalm",
        "services": [
         {
          "name": "Anmälan"
         },
         {
          "name": "Beslag"
         },
         {
          "name": "Hittegods"
         },
         {
          "name": "Tillstånd"
         },
         {
          "name": "Vapen"
         }
        ]
       },
       {
        "Url": "https://polisen.se/kontakt/polisstationer/stockholms-lan/stockholm-city/stockholms-city-passexpedition/",
        "id": 979,
        "location": {
         "gps": "59.330489,18.039916",
         "name": "Bergsgatan 48, Stockholm"
        },
        "name": "Stockholms City passexpedition",
        "services": [
         {
          "name": "Pass/nationellt id-kort"
         }
        ]
       },
       {
        "Url": "https://polisen.se/kontakt/polisstationer/stockholms-lan/stockholm-city/stockholms-city-sodermalm/",
        "id": 982,
        "location": {
         "gps": "59.316928,18.057505",
         "name": "Torkel Knutssonsgatan 20, Stockholm"
        },
        "name": "Stockholms City Södermalm",
        "services": [
         {
          "name": "Anmälan"
         },
         {
          "name": "Hittegods"
         },
         {
          "name": "Vapen"
         }
        ]
       },
       {
        "Url": "https://polisen.se/kontakt/polisstationer/varmland/storfors/",
        "id": 1150,
        "location": {
         "gps": "59.529933,14.273017",
         "name": "Djupadalsgatan 20, Storfors"
        },
        "name": "Storfors",
        "services": [
         {
          "name": "Anmälan"
         },
         {
          "name": "Hittegods"
         }
        ]
       },
       {
        "Url": "https://polisen.se/kontakt/polisstationer/vasterbotten/storuman/",
        "id": 1186,
        "location": {
         "gps": "65.09563,17.11404",
         "name": "Skolgatan 19, 923 31 Storuman"
        },
        "name": "Storuman",
        "services": [
         {
          "name": "Anmälan"
         },
         {
          "name": "Hittegods"
         },
         {
          "name": "Pass/nationellt id-kort"
         },
         {
          "name": "Tillstånd"
         },
         {
          "name": "Vapen"
         }
        ]
       },
       {
        "Url": "https://polisen.se/kontakt/polisstationer/sodermanland/strangnas/",
        "id": 1095,
        "location": {
         "gps": "59.367805,17.024608",
         "name": "Finningevägen 54 A, Strängnäs  "
        },
        "name": "Strängnäs",
        "services": [
         {
          "name": "Anmälan"
         },
         {
          "name": "Hittegods"
         },
         {
          "name": "Pass/nationellt id-kort"
         }
        ]
       },
       {
        "Url": "https://polisen.se/kontakt/polisstationer/vastra-gotaland/stromstad/",
        "id": 1298,
        "location": {
         "gps": "58.939241,11.171202",
         "name": "Södra Hamngatan 8 - 10, Strömstad"
        },
        "name": "Strömstad",
        "services": [
         {
          "name": "Anmälan"
         },
         {
          "name": "Hittegods"
         },
         {
          "name": "Pass/nationellt id-kort"
         },
         {
          "name": "Vapen"
         }
        ]
       },
       {
        "Url": "https://polisen.se/kontakt/polisstationer/jamtland/stromsund/",
        "id": 762,
        "location": {
         "gps": "63.853852,15.551905",
         "name": "Lagmansgatan 25, Strömsund"
        },
        "name": "Strömsund",
        "services": [
         {
          "name": "Anmälan"
         },
         {
          "name": "Cyklar"
         },
         {
          "name": "Hittegods"
         },
         {
          "name": "Pass/nationellt id-kort"
         },
         {
          "name": "Tillstånd"
         },
         {
          "name": "Vapen"
         }
        ]
       },
       {
        "Url": "https://polisen.se/kontakt/polisstationer/skane/sturup---malmo-airport/",
        "id": 938,
        "location": {
         "gps": "55.540637,13.366576",
         "name": "Flygplatsen Malmö-Sturup, "
        },
        "name": "Sturup - Malmö Airport",
        "services": [
         {
          "name": "Anmälan"
         },
         {
          "name": "Provisoriskt pass"
         }
        ]
       },
       {
        "Url": "https://polisen.se/kontakt/polisstationer/vasternorrland/sundsvall/",
        "id": 1209,
        "location": {
         "gps": "62.392034,17.295554",
         "name": "Storgatan 37, Sundsvall "
        },
        "name": "Sundsvall",
        "services": [
         {
          "name": "Anmälan"
         },
         {
          "name": "Beslag"
         },
         {
          "name": "Hittegods"
         },
         {
          "name": "Pass/nationellt id-kort"
         },
         {
          "name": "Vapen"
         }
        ]
       },
       {
        "Url": "https://polisen.se/kontakt/polisstationer/varmland/sunne/",
        "id": 1152,
        "location": {
         "gps": "59.837147,13.141644",
         "name": "Långgatan 8, Sunne"
        },
        "name": "Sunne",
        "services": [
         {
          "name": "Anmälan"
         },
         {
          "name": "Hittegods"
         },
         {
          "name": "Pass/nationellt id-kort"
         },
         {
          "name": "Vapen"
         }
        ]
       },
       {
        "Url": "https://polisen.se/kontakt/polisstationer/skane/svalov/",
        "id": 940,
        "location": {
         "gps": "55.913864,13.107231",
         "name": "Herrevadsgatan 11 F, Svalöv"
        },
        "name": "Svalöv",
        "services": []
       },
       {
        "Url": "https://polisen.se/kontakt/polisstationer/jamtland/sveg/",
        "id": 764,
        "location": {
         "gps": "62.032374,14.358192",
         "name": "Fjällvägen 7, Sveg"
        },
        "name": "Sveg",
        "services": [
         {
          "name": "Anmälan"
         },
         {
          "name": "Cyklar"
         },
         {
          "name": "Hittegods"
         },
         {
          "name": "Pass/nationellt id-kort"
         },
         {
          "name": "Tillstånd"
         },
         {
          "name": "Vapen"
         }
        ]
       },
       {
        "Url": "https://polisen.se/kontakt/polisstationer/vastra-gotaland/svenljunga/",
        "id": 1300,
        "location": {
         "gps": "57.499112,13.111025",
         "name": "Kommunhuset, Boråsvägen 13, Svenljunga"
        },
        "name": "Svenljunga",
        "services": []
       },
       {
        "Url": "https://polisen.se/kontakt/polisstationer/jamtland/svenstavik/",
        "id": 766,
        "location": {
         "gps": "62.767662,14.438614",
         "name": "Centrumvägen 11,  Svenstavik"
        },
        "name": "Svenstavik",
        "services": [
         {
          "name": "Anmälan"
         },
         {
          "name": "Cyklar"
         },
         {
          "name": "Hittegods"
         },
         {
          "name": "Tillstånd"
         },
         {
          "name": "Vapen"
         }
        ]
       },
       {
        "Url": "https://polisen.se/kontakt/polisstationer/varmland/saffle/",
        "id": 1156,
        "location": {
         "gps": "59.133512,12.923679",
         "name": "Hamngatan 4, Säffle"
        },
        "name": "Säffle",
        "services": [
         {
          "name": "Anmälan"
         },
         {
          "name": "Hittegods"
         },
         {
          "name": "Pass/nationellt id-kort"
         },
         {
          "name": "Vapen"
         }
        ]
       },
       {
        "Url": "https://polisen.se/kontakt/polisstationer/dalarna/salen/",
        "id": 700,
        "location": {
         "gps": "61.155826,13.268137",
         "name": "Centrumhuset, Sälen"
        },
        "name": "Sälen",
        "services": [
         {
          "name": "Anmälan"
         },
         {
          "name": "Hittegods"
         },
         {
          "name": "Pass/nationellt id-kort"
         },
         {
          "name": "Tillstånd"
         }
        ]
       },
       {
        "Url": "https://polisen.se/kontakt/polisstationer/dalarna/sater/",
        "id": 702,
        "location": {
         "gps": "60.346898,15.747854",
         "name": "Kommunhuset, Åsgränd 2, Säter"
        },
        "name": "Säter",
        "services": [
         {
          "name": "Anmälan"
         },
         {
          "name": "Hittegods"
         },
         {
          "name": "Tillstånd"
         }
        ]
       },
       {
        "Url": "https://polisen.se/kontakt/polisstationer/jonkopings-lan/savsjo/",
        "id": 7518,
        "location": {
         "gps": "57.399561,14.661323",
         "name": "Mejensjögatan 6, Sävsjö"
        },
        "name": "Sävsjö",
        "services": [
         {
          "name": "Anmälan"
         },
         {
          "name": "Hittegods"
         }
        ]
       },
       {
        "Url": "https://polisen.se/kontakt/polisstationer/gavleborg/soderhamn/",
        "id": 732,
        "location": {
         "gps": "61.304731,17.06082",
         "name": "Köpmangatan 21, Söderhamn"
        },
        "name": "Söderhamn",
        "services": [
         {
          "name": "Anmälan"
         },
         {
          "name": "Hittegods"
         },
         {
          "name": "Tillstånd"
         },
         {
          "name": "Vapen"
         }
        ]
       },
       {
        "Url": "https://polisen.se/kontakt/polisstationer/ostergotland/soderkoping/",
        "id": 1360,
        "location": {
         "gps": "58.4801,16.323701",
         "name": "Skönbergagatan 2, Söderköping"
        },
        "name": "Söderköping",
        "services": [
         {
          "name": "Anmälan"
         },
         {
          "name": "Tillstånd"
         }
        ]
       },
       {
        "Url": "https://polisen.se/kontakt/polisstationer/stockholms-lan/stockholm-syd/sodertalje/",
        "id": 1071,
        "location": {
         "gps": "59.187927,17.628206",
         "name": "Nyköpingsvägen 23, Södertälje"
        },
        "name": "Södertälje",
        "services": [
         {
          "name": "Anmälan"
         },
         {
          "name": "Beslag"
         },
         {
          "name": "Hittegods"
         },
         {
          "name": "Pass/nationellt id-kort"
         },
         {
          "name": "Vapen"
         }
        ]
       },
       {
        "Url": "https://polisen.se/kontakt/polisstationer/blekinge/solvesborg/",
        "id": 671,
        "location": {
         "gps": "56.051724,14.582851",
         "name": "Järnvägsgatan 2 , Sölvesborg"
        },
        "name": "Sölvesborg",
        "services": [
         {
          "name": "Anmälan"
         }
        ]
       },
       {
        "Url": "https://polisen.se/kontakt/polisstationer/uppsala-lan/tierp/",
        "id": 1114,
        "location": {
         "gps": "60.341657,17.511625",
         "name": "Gävlevägen 25, Tierp"
        },
        "name": "Tierp",
        "services": [
         {
          "name": "Anmälan"
         },
         {
          "name": "Beslag"
         },
         {
          "name": "Cyklar"
         },
         {
          "name": "Delgivning"
         },
         {
          "name": "Hittegods"
         },
         {
          "name": "Pass/nationellt id-kort"
         },
         {
          "name": "Tillstånd"
         },
         {
          "name": "Vapen"
         }
        ]
       },
       {
        "Url": "https://polisen.se/kontakt/polisstationer/kronoberg/tingsryd/",
        "id": 819,
        "location": {
         "gps": "56.525552,14.979028",
         "name": "Torggatan 5, Tingsryd"
        },
        "name": "Tingsryd",
        "services": [
         {
          "name": "Anmälan"
         },
         {
          "name": "Cyklar"
         },
         {
          "name": "Hittegods"
         }
        ]
       },
       {
        "Url": "https://polisen.se/kontakt/polisstationer/skane/tomelilla/",
        "id": 944,
        "location": {
         "gps": "55.542451,13.957077",
         "name": "Gustafs Torg 16, Tomelilla"
        },
        "name": "Tomelilla",
        "services": [
         {
          "name": "Anmälan"
         }
        ]
       },
       {
        "Url": "https://polisen.se/kontakt/polisstationer/varmland/torsby/",
        "id": 1158,
        "location": {
         "gps": "60.146983,13.005797",
         "name": "Bergebyvägen 22, Torsby"
        },
        "name": "Torsby",
        "services": [
         {
          "name": "Anmälan"
         },
         {
          "name": "Hittegods"
         },
         {
          "name": "Pass/nationellt id-kort"
         },
         {
          "name": "Vapen"
         }
        ]
       },
       {
        "Url": "https://polisen.se/kontakt/polisstationer/kalmar-lan/torsas/",
        "id": 804,
        "location": {
         "gps": "56.411347,15.996177",
         "name": "Karlskronavägen 7, Torsås"
        },
        "name": "Torsås",
        "services": [
         {
          "name": "Anmälan"
         },
         {
          "name": "Hittegods"
         }
        ]
       },
       {
        "Url": "https://polisen.se/kontakt/polisstationer/jonkopings-lan/tranas/",
        "id": 781,
        "location": {
         "gps": "58.035216,14.985098",
         "name": "Falkgatan 19, Tranås"
        },
        "name": "Tranås",
        "services": [
         {
          "name": "Anmälan"
         },
         {
          "name": "Hittegods"
         }
        ]
       },
       {
        "Url": "https://polisen.se/kontakt/polisstationer/skane/trelleborg/",
        "id": 946,
        "location": {
         "gps": "55.371824,13.167215",
         "name": "Henry Dunkers gata 2, Trelleborg"
        },
        "name": "Trelleborg",
        "services": [
         {
          "name": "Anmälan"
         },
         {
          "name": "Hittegods"
         },
         {
          "name": "Pass/nationellt id-kort"
         }
        ]
       },
       {
        "Url": "https://polisen.se/kontakt/polisstationer/vastra-gotaland/trollhattan/",
        "id": 1306,
        "location": {
         "gps": "58.280147,12.290657",
         "name": "Klintvägen 2, Trollhättan"
        },
        "name": "Trollhättan",
        "services": [
         {
          "name": "Anmälan"
         },
         {
          "name": "Cyklar"
         },
         {
          "name": "Delgivning"
         },
         {
          "name": "Hittegods"
         },
         {
          "name": "Pass/nationellt id-kort"
         },
         {
          "name": "Tillstånd"
         },
         {
          "name": "Vapen"
         }
        ]
       },
       {
        "Url": "https://polisen.se/kontakt/polisstationer/stockholms-lan/stockholm-nord/taby/",
        "id": 1010,
        "location": {
         "gps": "59.445024,18.06899",
         "name": "Biblioteksgången 11, Täby"
        },
        "name": "Täby",
        "services": [
         {
          "name": "Anmälan"
         },
         {
          "name": "Hittegods"
         },
         {
          "name": "Pass/nationellt id-kort"
         },
         {
          "name": "Vapen"
         }
        ]
       },
       {
        "Url": "https://polisen.se/kontakt/polisstationer/vasterbotten/tarnaby/",
        "id": 1188,
        "location": {
         "gps": "65.711357,15.255791",
         "name": "Västra Strandvägen 11, 920 64 Tärnaby"
        },
        "name": "Tärnaby",
        "services": [
         {
          "name": "Anmälan"
         },
         {
          "name": "Hittegods"
         },
         {
          "name": "Tillstånd"
         }
        ]
       },
       {
        "Url": "https://polisen.se/kontakt/polisstationer/vastra-gotaland/uddevalla/",
        "id": 1308,
        "location": {
         "gps": "58.351256,11.940227",
         "name": "Lagerbergsgatan 35, Uddevalla"
        },
        "name": "Uddevalla",
        "services": [
         {
          "name": "Anmälan"
         },
         {
          "name": "Hittegods"
         },
         {
          "name": "Pass/nationellt id-kort"
         },
         {
          "name": "Tillstånd"
         }
        ]
       },
       {
        "Url": "https://polisen.se/kontakt/polisstationer/halland/ullared/",
        "id": 745,
        "location": {
         "gps": "57.136397,12.716861",
         "name": "Varbergsvägen 3, Ullared"
        },
        "name": "Ullared",
        "services": [
         {
          "name": "Anmälan"
         },
         {
          "name": "Hittegods"
         },
         {
          "name": "Tillstånd"
         }
        ]
       },
       {
        "Url": "https://polisen.se/kontakt/polisstationer/vastra-gotaland/ulricehamn/",
        "id": 1310,
        "location": {
         "gps": "57.797663,13.413872",
         "name": "Boråsvägen 18, Ulricehamn"
        },
        "name": "Ulricehamn",
        "services": [
         {
          "name": "Anmälan"
         },
         {
          "name": "Hittegods"
         },
         {
          "name": "Pass/nationellt id-kort"
         }
        ]
       },
       {
        "Url": "https://polisen.se/kontakt/polisstationer/vasterbotten/umea/",
        "id": 1190,
        "location": {
         "gps": "63.834216,20.2500198",
         "name": "Ridvägen 10, 903 25 Umeå"
        },
        "name": "Umeå",
        "services": [
         {
          "name": "Anmälan"
         },
         {
          "name": "Beslag"
         },
         {
          "name": "Cyklar"
         },
         {
          "name": "Hittegods"
         },
         {
          "name": "Pass/nationellt id-kort"
         },
         {
          "name": "Provisoriskt pass"
         },
         {
          "name": "Tillstånd"
         },
         {
          "name": "Vapen"
         }
        ]
       },
       {
        "Url": "https://polisen.se/kontakt/polisstationer/stockholms-lan/stockholm-nord/upplands-vasby-omradeskontor/",
        "id": 123330,
        "location": {
         "gps": "59.521578,17.90155",
         "name": "Centralvägen, Industrivägen Upplands Väsby, "
        },
        "name": "Upplands Väsby områdeskontor",
        "services": []
       },
       {
        "Url": "https://polisen.se/kontakt/polisstationer/stockholms-lan/stockholm-nord/upplands-bro-omradeskontor/",
        "id": 123321,
        "location": {
         "gps": "59.478725,17.752009",
         "name": "Kommunhuset, Furuhällsplan 1, "
        },
        "name": "Upplands-Bro områdeskontor",
        "services": []
       },
       {
        "Url": "https://polisen.se/kontakt/polisstationer/uppsala-lan/uppsala/",
        "id": 1117,
        "location": {
         "gps": "59.865528,17.630946",
         "name": "Svartbäcksgatan 49, Uppsala"
        },
        "name": "Uppsala",
        "services": [
         {
          "name": "Anmälan"
         },
         {
          "name": "Delgivning"
         },
         {
          "name": "Hittegods"
         },
         {
          "name": "Pass/nationellt id-kort"
         },
         {
          "name": "Vapen"
         }
        ]
       },
       {
        "Url": "https://polisen.se/kontakt/polisstationer/uppsala-lan/uppsala---beslagsgruppen/",
        "id": 1119,
        "location": {
         "gps": "59.855237,17.664572",
         "name": "Knivstagatan 16, Boländerna, Uppsala"
        },
        "name": "Uppsala - Beslagsgruppen",
        "services": [
         {
          "name": "Beslag"
         },
         {
          "name": "Cyklar"
         },
         {
          "name": "Hittegods"
         }
        ]
       },
       {
        "Url": "https://polisen.se/kontakt/polisstationer/ostergotland/vadstena/",
        "id": 1362,
        "location": {
         "gps": "58.44665,14.888587",
         "name": "Knivsmedsgatan 3, Vadstena"
        },
        "name": "Vadstena",
        "services": [
         {
          "name": "Anmälan"
         }
        ]
       },
       {
        "Url": "https://polisen.se/kontakt/polisstationer/sodermanland/vagnharad/",
        "id": 1097,
        "location": {
         "gps": "58.945841,17.485391",
         "name": "Vagnhärads Torg 1D, Vagnhärad"
        },
        "name": "Vagnhärad",
        "services": [
         {
          "name": "Anmälan"
         },
         {
          "name": "Hittegods"
         }
        ]
       },
       {
        "Url": "https://polisen.se/kontakt/polisstationer/ostergotland/valdemarsvik/",
        "id": 1364,
        "location": {
         "gps": "58.205143,16.600564",
         "name": "Garvaregatan 3, Valdemarsvik"
        },
        "name": "Valdemarsvik",
        "services": [
         {
          "name": "Anmälan"
         },
         {
          "name": "Hittegods"
         },
         {
          "name": "Tillstånd"
         },
         {
          "name": "Vapen"
         }
        ]
       },
       {
        "Url": "https://polisen.se/kontakt/polisstationer/stockholms-lan/stockholm-nord/vallentuna-omradeskontor/",
        "id": 123318,
        "location": {
         "gps": "59.534261,18.076655",
         "name": "Kulturhuset, Allévägen 1, "
        },
        "name": "Vallentuna områdeskontor",
        "services": []
       },
       {
        "Url": "https://polisen.se/kontakt/polisstationer/dalarna/vansbro/",
        "id": 704,
        "location": {
         "gps": "60.51082,14.2235",
         "name": "Norra Allégatan 30, Vansbro"
        },
        "name": "Vansbro",
        "services": [
         {
          "name": "Anmälan"
         },
         {
          "name": "Hittegods"
         },
         {
          "name": "Tillstånd"
         }
        ]
       },
       {
        "Url": "https://polisen.se/kontakt/polisstationer/vastra-gotaland/vara/",
        "id": 1312,
        "location": {
         "gps": "58.261108,12.95279",
         "name": "Drottninggatan 1, Vara"
        },
        "name": "Vara",
        "services": [
         {
          "name": "Anmälan"
         },
         {
          "name": "Hittegods"
         }
        ]
       },
       {
        "Url": "https://polisen.se/kontakt/polisstationer/halland/varberg/",
        "id": 747,
        "location": {
         "gps": "57.111451,12.255091",
         "name": "Östra Långgatan 5, Varberg"
        },
        "name": "Varberg",
        "services": [
         {
          "name": "Anmälan"
         },
         {
          "name": "Hittegods"
         },
         {
          "name": "Pass/nationellt id-kort"
         },
         {
          "name": "Tillstånd"
         }
        ]
       },
       {
        "Url": "https://polisen.se/kontakt/polisstationer/stockholms-lan/stockholm-nord/vaxholm-omradeskontor/",
        "id": 123319,
        "location": {
         "gps": "59.4047731,18.3157138",
         "name": "Eriksövägen 27, "
        },
        "name": "Vaxholm områdeskontor",
        "services": []
       },
       {
        "Url": "https://polisen.se/kontakt/polisstationer/jonkopings-lan/vetlanda/",
        "id": 783,
        "location": {
         "gps": "57.424844,15.090357",
         "name": "Missionsgatan 4, Vetlanda"
        },
        "name": "Vetlanda",
        "services": [
         {
          "name": "Anmälan"
         },
         {
          "name": "Hittegods"
         }
        ]
       },
       {
        "Url": "https://polisen.se/kontakt/polisstationer/vasterbotten/vilhelmina/",
        "id": 1192,
        "location": {
         "gps": "64.61509,16.68489",
         "name": "Terminalgatan 2, 912 32 Vilhelmina"
        },
        "name": "Vilhelmina",
        "services": [
         {
          "name": "Anmälan"
         },
         {
          "name": "Hittegods"
         },
         {
          "name": "Pass/nationellt id-kort"
         },
         {
          "name": "Tillstånd"
         },
         {
          "name": "Vapen"
         }
        ]
       },
       {
        "Url": "https://polisen.se/kontakt/polisstationer/kalmar-lan/vimmerby/",
        "id": 806,
        "location": {
         "gps": "57.668271,15.861861",
         "name": "Kungsgatan 10, Vimmerby"
        },
        "name": "Vimmerby",
        "services": [
         {
          "name": "Anmälan"
         },
         {
          "name": "Cyklar"
         },
         {
          "name": "Delgivning"
         },
         {
          "name": "Hittegods"
         }
        ]
       },
       {
        "Url": "https://polisen.se/kontakt/polisstationer/vasterbotten/vindeln/",
        "id": 1194,
        "location": {
         "gps": "64.202599,19.718721",
         "name": "Torggränd 10A, 922 32 Vindeln"
        },
        "name": "Vindeln",
        "services": [
         {
          "name": "Anmälan"
         },
         {
          "name": "Hittegods"
         },
         {
          "name": "Tillstånd"
         }
        ]
       },
       {
        "Url": "https://polisen.se/kontakt/polisstationer/sodermanland/vingaker/",
        "id": 1099,
        "location": {
         "gps": "59.049361,15.874967",
         "name": "Åbrogården, Storgatan 55, Vingåker"
        },
        "name": "Vingåker",
        "services": [
         {
          "name": "Anmälan"
         }
        ]
       },
       {
        "Url": "https://polisen.se/kontakt/polisstationer/gotland/visby/",
        "id": 711,
        "location": {
         "gps": "57.63735,18.305441",
         "name": "Norra Hansegatan 2 B, Visby"
        },
        "name": "Visby",
        "services": [
         {
          "name": "Anmälan"
         },
         {
          "name": "Beslag"
         },
         {
          "name": "Cyklar"
         },
         {
          "name": "Hittegods"
         },
         {
          "name": "Pass/nationellt id-kort"
         },
         {
          "name": "Tillstånd"
         },
         {
          "name": "Vapen"
         }
        ]
       },
       {
        "Url": "https://polisen.se/kontakt/polisstationer/orebro-lan/vivalla/",
        "id": 85875,
        "location": {
         "gps": "59.2988,15.18883",
         "name": "Poesigatan 20, Örebro"
        },
        "name": "Vivalla",
        "services": [
         {
          "name": "Anmälan"
         },
         {
          "name": "Tillstånd"
         }
        ]
       },
       {
        "Url": "https://polisen.se/kontakt/polisstationer/vastra-gotaland/vargarda/",
        "id": 1314,
        "location": {
         "gps": "58.033216,12.809188",
         "name": "Kungsgatan 40, Vårgårda"
        },
        "name": "Vårgårda",
        "services": [
         {
          "name": "Anmälan"
         },
         {
          "name": "Hittegods"
         }
        ]
       },
       {
        "Url": "https://polisen.se/kontakt/polisstationer/stockholms-lan/stockholm-nord/vallingby/",
        "id": 992,
        "location": {
         "gps": "59.363596,17.87243",
         "name": "Pajalagatan 46, Vällingby"
        },
        "name": "Vällingby",
        "services": [
         {
          "name": "Anmälan"
         },
         {
          "name": "Hittegods"
         },
         {
          "name": "Vapen"
         }
        ]
       },
       {
        "Url": "https://polisen.se/kontakt/polisstationer/vastra-gotaland/vanersborg/",
        "id": 1316,
        "location": {
         "gps": "58.384319,12.323687",
         "name": "Residensgatan 30, Vänersborg"
        },
        "name": "Vänersborg",
        "services": [
         {
          "name": "Anmälan"
         },
         {
          "name": "Cyklar"
         },
         {
          "name": "Delgivning"
         },
         {
          "name": "Hittegods"
         },
         {
          "name": "Tillstånd"
         }
        ]
       },
       {
        "Url": "https://polisen.se/kontakt/polisstationer/vasterbotten/vannas/",
        "id": 1196,
        "location": {
         "gps": "63.90429,19.752756",
         "name": "Norrlandsgatan 2, 911 33 Vännäs"
        },
        "name": "Vännäs",
        "services": [
         {
          "name": "Anmälan"
         },
         {
          "name": "Hittegods"
         },
         {
          "name": "Tillstånd"
         }
        ]
       },
       {
        "Url": "https://polisen.se/kontakt/polisstationer/jonkopings-lan/varnamo/",
        "id": 785,
        "location": {
         "gps": "57.183344,14.050065",
         "name": "Storgatan 53, Värnamo"
        },
        "name": "Värnamo",
        "services": [
         {
          "name": "Anmälan"
         },
         {
          "name": "Beslag"
         },
         {
          "name": "Hittegods"
         },
         {
          "name": "Pass/nationellt id-kort"
         }
        ]
       },
       {
        "Url": "https://polisen.se/kontakt/polisstationer/stockholms-lan/stockholm-syd/vastberga/",
        "id": 1068,
        "location": {
         "gps": "59.291954,18.011047",
         "name": "Västberga Gårdsväg 52, Hägersten"
        },
        "name": "Västberga",
        "services": [
         {
          "name": "Beslag"
         },
         {
          "name": "Cyklar"
         },
         {
          "name": "Hittegods"
         }
        ]
       },
       {
        "Url": "https://polisen.se/kontakt/polisstationer/kalmar-lan/vastervik/",
        "id": 808,
        "location": {
         "gps": "57.766423,16.619759",
         "name": "Breviksvägen 35, Västervik"
        },
        "name": "Västervik",
        "services": [
         {
          "name": "Anmälan"
         },
         {
          "name": "Cyklar"
         },
         {
          "name": "Delgivning"
         },
         {
          "name": "Hittegods"
         },
         {
          "name": "Pass/nationellt id-kort"
         }
        ]
       },
       {
        "Url": "https://polisen.se/kontakt/polisstationer/vastmanland/vasteras/",
        "id": 1230,
        "location": {
         "gps": "59.607646,16.542119",
         "name": "Västgötegatan 7, Västerås"
        },
        "name": "Västerås",
        "services": [
         {
          "name": "Anmälan"
         },
         {
          "name": "Cyklar"
         },
         {
          "name": "Hittegods"
         },
         {
          "name": "Pass/nationellt id-kort"
         },
         {
          "name": "Provisoriskt pass"
         }
        ]
       },
       {
        "Url": "https://polisen.se/kontakt/polisstationer/kronoberg/vaxjo-/",
        "id": 821,
        "location": {
         "gps": "56.878276,14.798882",
         "name": "Sandgärdsgatan 31, Växjö"
        },
        "name": "Växjö ",
        "services": [
         {
          "name": "Anmälan"
         },
         {
          "name": "Delgivning"
         },
         {
          "name": "Hittegods"
         },
         {
          "name": "Pass/nationellt id-kort"
         }
        ]
       },
       {
        "Url": "https://polisen.se/kontakt/polisstationer/kronoberg/vaxjo-cykelforrad/",
        "id": 823,
        "location": {
         "gps": "56.877393,14.797177",
         "name": "Krukmakaregatan 1, Växjö"
        },
        "name": "Växjö cykelförråd",
        "services": [
         {
          "name": "Cyklar"
         }
        ]
       },
       {
        "Url": "https://polisen.se/kontakt/polisstationer/kronoberg/vaxjo-dalbo/",
        "id": 825,
        "location": {
         "gps": "56.89067,14.797639",
         "name": "Brittsommarvägen 2, Växjö"
        },
        "name": "Växjö Dalbo",
        "services": []
       },
       {
        "Url": "https://polisen.se/kontakt/polisstationer/skane/ystad/",
        "id": 950,
        "location": {
         "gps": "55.43936,13.82716",
         "name": "Kristianstadsvägen 51, Ystad"
        },
        "name": "Ystad",
        "services": [
         {
          "name": "Anmälan"
         },
         {
          "name": "Beslag"
         },
         {
          "name": "Cyklar"
         },
         {
          "name": "Hittegods"
         },
         {
          "name": "Pass/nationellt id-kort"
         }
        ]
       },
       {
        "Url": "https://polisen.se/kontakt/polisstationer/skane/ahus/",
        "id": 952,
        "location": {
         "gps": "55.926898,14.300058",
         "name": "Järnvägsgatan 7, Åhus"
        },
        "name": "Åhus",
        "services": [
         {
          "name": "Anmälan"
         },
         {
          "name": "Cyklar"
         },
         {
          "name": "Hittegods"
         }
        ]
       },
       {
        "Url": "https://polisen.se/kontakt/polisstationer/stockholms-lan/stockholm-nord/akersberga-omradeskontor/",
        "id": 123320,
        "location": {
         "gps": "59.480103,18.29529",
         "name": "Storängstorget 4, "
        },
        "name": "Åkersberga områdeskontor",
        "services": []
       },
       {
        "Url": "https://polisen.se/kontakt/polisstationer/vastra-gotaland/amal/",
        "id": 1318,
        "location": {
         "gps": "59.051271,12.704634",
         "name": "Norra Långgatan 18, Åmål"
        },
        "name": "Åmål",
        "services": [
         {
          "name": "Anmälan"
         },
         {
          "name": "Cyklar"
         },
         {
          "name": "Delgivning"
         },
         {
          "name": "Hittegods"
         },
         {
          "name": "Pass/nationellt id-kort"
         },
         {
          "name": "Tillstånd"
         },
         {
          "name": "Vapen"
         }
        ]
       },
       {
        "Url": "https://polisen.se/kontakt/polisstationer/vasternorrland/ange/",
        "id": 1211,
        "location": {
         "gps": "62.524741,15.664624",
         "name": "Fridhemsvägen 6, Ånge"
        },
        "name": "Ånge",
        "services": [
         {
          "name": "Anmälan"
         },
         {
          "name": "Pass/nationellt id-kort"
         },
         {
          "name": "Vapen"
         }
        ]
       },
       {
        "Url": "https://polisen.se/kontakt/polisstationer/jamtland/are/",
        "id": 5639,
        "location": {
         "gps": "63.394506,13.096971",
         "name": "Kurortsvägen 20, Åre"
        },
        "name": "Åre",
        "services": [
         {
          "name": "Anmälan"
         },
         {
          "name": "Beslag"
         },
         {
          "name": "Cyklar"
         },
         {
          "name": "Hittegods"
         },
         {
          "name": "Pass/nationellt id-kort"
         },
         {
          "name": "Tillstånd"
         },
         {
          "name": "Vapen"
         }
        ]
       },
       {
        "Url": "https://polisen.se/kontakt/polisstationer/varmland/arjang/",
        "id": 1160,
        "location": {
         "gps": "59.39313,12.133889",
         "name": "Storgatan 66, Årjäng"
        },
        "name": "Årjäng",
        "services": [
         {
          "name": "Anmälan"
         },
         {
          "name": "Hittegods"
         },
         {
          "name": "Pass/nationellt id-kort"
         }
        ]
       },
       {
        "Url": "https://polisen.se/kontakt/polisstationer/kronoberg/aseda/",
        "id": 827,
        "location": {
         "gps": "57.171215,15.344492",
         "name": "Olofsgatan 8, Åseda"
        },
        "name": "Åseda",
        "services": [
         {
          "name": "Anmälan"
         },
         {
          "name": "Hittegods"
         }
        ]
       },
       {
        "Url": "https://polisen.se/kontakt/polisstationer/vasterbotten/asele/",
        "id": 1198,
        "location": {
         "gps": "64.16182,17.354",
         "name": "Lillgatan 6, 919 32 Åsele"
        },
        "name": "Åsele",
        "services": [
         {
          "name": "Anmälan"
         },
         {
          "name": "Hittegods"
         },
         {
          "name": "Tillstånd"
         },
         {
          "name": "Vapen"
         }
        ]
       },
       {
        "Url": "https://polisen.se/kontakt/polisstationer/skane/astorp/",
        "id": 954,
        "location": {
         "gps": "56.134485,12.94856",
         "name": "Storgatan 5, Åstorp"
        },
        "name": "Åstorp",
        "services": [
         {
          "name": "Anmälan"
         },
         {
          "name": "Cyklar"
         },
         {
          "name": "Hittegods"
         }
        ]
       },
       {
        "Url": "https://polisen.se/kontakt/polisstationer/ostergotland/atvidaberg/",
        "id": 1366,
        "location": {
         "gps": "58.201018,15.998716",
         "name": "Stenhusgatan 6A, Åtvidaberg"
        },
        "name": "Åtvidaberg",
        "services": [
         {
          "name": "Anmälan"
         }
        ]
       },
       {
        "Url": "https://polisen.se/kontakt/polisstationer/kronoberg/almhult/",
        "id": 829,
        "location": {
         "gps": "56.540069,14.12805",
         "name": "Bäckgatan 17, Älmhult"
        },
        "name": "Älmhult",
        "services": [
         {
          "name": "Anmälan"
         },
         {
          "name": "Cyklar"
         },
         {
          "name": "Hittegods"
         },
         {
          "name": "Pass/nationellt id-kort"
         }
        ]
       },
       {
        "Url": "https://polisen.se/kontakt/polisstationer/dalarna/alvdalen/",
        "id": 706,
        "location": {
         "gps": "61.228253,14.04017",
         "name": "Permatsvägen 1, Älvdalen"
        },
        "name": "Älvdalen",
        "services": [
         {
          "name": "Anmälan"
         },
         {
          "name": "Hittegods"
         },
         {
          "name": "Tillstånd"
         }
        ]
       },
       {
        "Url": "https://polisen.se/kontakt/polisstationer/norrbotten/alvsbyn/",
        "id": 867,
        "location": {
         "gps": "65.677241,20.997854",
         "name": "Storgatan 43, Älvsbyn"
        },
        "name": "Älvsbyn",
        "services": [
         {
          "name": "Anmälan"
         },
         {
          "name": "Cyklar"
         },
         {
          "name": "Hittegods"
         }
        ]
       },
       {
        "Url": "https://polisen.se/kontakt/polisstationer/skane/angelholm/",
        "id": 956,
        "location": {
         "gps": "56.24865,12.871691",
         "name": "Polisgatan 2, Ängelholm"
        },
        "name": "Ängelholm",
        "services": [
         {
          "name": "Anmälan"
         },
         {
          "name": "Cyklar"
         },
         {
          "name": "Hittegods"
         },
         {
          "name": "Pass/nationellt id-kort"
         }
        ]
       },
       {
        "Url": "https://polisen.se/kontakt/polisstationer/ostergotland/odeshog/",
        "id": 1368,
        "location": {
         "gps": "58.229398,14.655137",
         "name": "Tingshusgatan 4, Ödeshög"
        },
        "name": "Ödeshög",
        "services": [
         {
          "name": "Anmälan"
         },
         {
          "name": "Cyklar"
         },
         {
          "name": "Hittegods"
         },
         {
          "name": "Vapen"
         }
        ]
       },
       {
        "Url": "https://polisen.se/kontakt/polisstationer/orebro-lan/orebro/",
        "id": 1343,
        "location": {
         "gps": "59.278136,15.216131",
         "name": "Järnvägsgatan 3, Örebro"
        },
        "name": "Örebro",
        "services": [
         {
          "name": "Anmälan"
         },
         {
          "name": "Beslag"
         },
         {
          "name": "Hittegods"
         },
         {
          "name": "Pass/nationellt id-kort"
         }
        ]
       },
       {
        "Url": "https://polisen.se/kontakt/polisstationer/skane/orkelljunga/",
        "id": 958,
        "location": {
         "gps": "56.283547,13.281082",
         "name": "Stockholmsvägen 2, Örkelljunga"
        },
        "name": "Örkelljunga",
        "services": [
         {
          "name": "Anmälan"
         },
         {
          "name": "Cyklar"
         },
         {
          "name": "Hittegods"
         }
        ]
       },
       {
        "Url": "https://polisen.se/kontakt/polisstationer/vasternorrland/ornskoldsvik/",
        "id": 1213,
        "location": {
         "gps": "63.292551,18.718383",
         "name": "Nytorgsgatan 1, Örnsköldsvik"
        },
        "name": "Örnsköldsvik",
        "services": [
         {
          "name": "Anmälan"
         },
         {
          "name": "Pass/nationellt id-kort"
         },
         {
          "name": "Vapen"
         }
        ]
       },
       {
        "Url": "https://polisen.se/kontakt/polisstationer/ostergotland/osterbymo/",
        "id": 1370,
        "location": {
         "gps": "57.82471,15.27425",
         "name": "Bondegatan 5, Österbymo"
        },
        "name": "Österbymo",
        "services": [
         {
          "name": "Anmälan"
         }
        ]
       },
       {
        "Url": "https://polisen.se/kontakt/polisstationer/jamtland/ostersund/",
        "id": 768,
        "location": {
         "gps": "63.176285,14.660373",
         "name": "Fyrvallavägen 4, Östersund"
        },
        "name": "Östersund",
        "services": [
         {
          "name": "Anmälan"
         },
         {
          "name": "Beslag"
         },
         {
          "name": "Delgivning"
         },
         {
          "name": "Hittegods"
         },
         {
          "name": "Pass/nationellt id-kort"
         },
         {
          "name": "Tillstånd"
         },
         {
          "name": "Vapen"
         }
        ]
       },
       {
        "Url": "https://polisen.se/kontakt/polisstationer/uppsala-lan/osthammar/",
        "id": 1124,
        "location": {
         "gps": "60.259612,18.36821",
         "name": "Klockaregatan 11, Östhammar"
        },
        "name": "Östhammar",
        "services": [
         {
          "name": "Anmälan"
         },
         {
          "name": "Beslag"
         },
         {
          "name": "Cyklar"
         },
         {
          "name": "Delgivning"
         },
         {
          "name": "Hittegods"
         },
         {
          "name": "Pass/nationellt id-kort"
         },
         {
          "name": "Tillstånd"
         }
        ]
       },
       {
        "Url": "https://polisen.se/kontakt/polisstationer/norrbotten/overkalix/",
        "id": 869,
        "location": {
         "gps": "66.388553,22.83961",
         "name": "Skolgatan 1, Överkalix"
        },
        "name": "Överkalix",
        "services": [
         {
          "name": "Anmälan"
         }
        ]
       },
       {
        "Url": "https://polisen.se/kontakt/polisstationer/norrbotten/overtornea/",
        "id": 871,
        "location": {
         "gps": "66.389235,23.656569",
         "name": "Sockenvägen 32, Övertorneå"
        },
        "name": "Övertorneå",
        "services": [
         {
          "name": "Anmälan"
         }
        ]
       }
      ],
      "text/plain": [
       "<IPython.core.display.JSON object>"
      ]
     },
     "execution_count": 36,
     "metadata": {
      "application/json": {
       "expanded": false,
       "root": "root"
      }
     },
     "output_type": "execute_result"
    }
   ],
   "source": [
    "# Call the API\n",
    "reqPolisStation = requests.get(urlPolisStation)\n",
    "\n",
    "# Ensure we fail fast if the web request failed\n",
    "reqPolisStation.raise_for_status()\n",
    "\n",
    "dataPolisStation = json.loads(reqPolisStation.text)\n",
    "JSON(dataPolisStation)"
   ]
  },
  {
   "cell_type": "code",
   "execution_count": 55,
   "metadata": {},
   "outputs": [],
   "source": [
    "import pandas as pd\n",
    "from pandas import json_normalize\n",
    "dfPolisStations = json_normalize(dataPolisStation)"
   ]
  },
  {
   "cell_type": "code",
   "execution_count": 56,
   "metadata": {},
   "outputs": [
    {
     "data": {
      "text/html": [
       "<div>\n",
       "<style scoped>\n",
       "    .dataframe tbody tr th:only-of-type {\n",
       "        vertical-align: middle;\n",
       "    }\n",
       "\n",
       "    .dataframe tbody tr th {\n",
       "        vertical-align: top;\n",
       "    }\n",
       "\n",
       "    .dataframe thead th {\n",
       "        text-align: right;\n",
       "    }\n",
       "</style>\n",
       "<table border=\"1\" class=\"dataframe\">\n",
       "  <thead>\n",
       "    <tr style=\"text-align: right;\">\n",
       "      <th></th>\n",
       "      <th>id</th>\n",
       "      <th>name</th>\n",
       "      <th>Url</th>\n",
       "      <th>services</th>\n",
       "      <th>location.name</th>\n",
       "      <th>location.gps</th>\n",
       "    </tr>\n",
       "  </thead>\n",
       "  <tbody>\n",
       "    <tr>\n",
       "      <th>0</th>\n",
       "      <td>1233</td>\n",
       "      <td>Alingsås</td>\n",
       "      <td>https://polisen.se/kontakt/polisstationer/vast...</td>\n",
       "      <td>[{'name': 'Anmälan'}, {'name': 'Cyklar'}, {'na...</td>\n",
       "      <td>N Strömgatan 8, Alingsås</td>\n",
       "      <td>57.930105,12.529608</td>\n",
       "    </tr>\n",
       "    <tr>\n",
       "      <th>1</th>\n",
       "      <td>811</td>\n",
       "      <td>Alvesta</td>\n",
       "      <td>https://polisen.se/kontakt/polisstationer/kron...</td>\n",
       "      <td>[{'name': 'Anmälan'}, {'name': 'Hittegods'}]</td>\n",
       "      <td>Värendsgatan 14, Alvesta</td>\n",
       "      <td>56.900514,14.555233</td>\n",
       "    </tr>\n",
       "    <tr>\n",
       "      <th>2</th>\n",
       "      <td>7519</td>\n",
       "      <td>Aneby</td>\n",
       "      <td>https://polisen.se/kontakt/polisstationer/jonk...</td>\n",
       "      <td>[{'name': 'Anmälan'}, {'name': 'Hittegods'}]</td>\n",
       "      <td>Stigbergsvägen 11, Aneby</td>\n",
       "      <td>57.836076,14.807909</td>\n",
       "    </tr>\n",
       "    <tr>\n",
       "      <th>3</th>\n",
       "      <td>1216</td>\n",
       "      <td>Arboga</td>\n",
       "      <td>https://polisen.se/kontakt/polisstationer/vast...</td>\n",
       "      <td>[{'name': 'Anmälan'}, {'name': 'Hittegods'}, {...</td>\n",
       "      <td>Järntorget 8, Arboga</td>\n",
       "      <td>59.39417,15.840519</td>\n",
       "    </tr>\n",
       "    <tr>\n",
       "      <th>4</th>\n",
       "      <td>832</td>\n",
       "      <td>Arjeplog</td>\n",
       "      <td>https://polisen.se/kontakt/polisstationer/norr...</td>\n",
       "      <td>[{'name': 'Anmälan'}, {'name': 'Cyklar'}, {'na...</td>\n",
       "      <td>Tingsbacka, Storgatan 20   , Arjeplog</td>\n",
       "      <td>66.052216,17.893128</td>\n",
       "    </tr>\n",
       "  </tbody>\n",
       "</table>\n",
       "</div>"
      ],
      "text/plain": [
       "     id      name                                                Url  \\\n",
       "0  1233  Alingsås  https://polisen.se/kontakt/polisstationer/vast...   \n",
       "1   811   Alvesta  https://polisen.se/kontakt/polisstationer/kron...   \n",
       "2  7519     Aneby  https://polisen.se/kontakt/polisstationer/jonk...   \n",
       "3  1216    Arboga  https://polisen.se/kontakt/polisstationer/vast...   \n",
       "4   832  Arjeplog  https://polisen.se/kontakt/polisstationer/norr...   \n",
       "\n",
       "                                            services  \\\n",
       "0  [{'name': 'Anmälan'}, {'name': 'Cyklar'}, {'na...   \n",
       "1       [{'name': 'Anmälan'}, {'name': 'Hittegods'}]   \n",
       "2       [{'name': 'Anmälan'}, {'name': 'Hittegods'}]   \n",
       "3  [{'name': 'Anmälan'}, {'name': 'Hittegods'}, {...   \n",
       "4  [{'name': 'Anmälan'}, {'name': 'Cyklar'}, {'na...   \n",
       "\n",
       "                           location.name         location.gps  \n",
       "0               N Strömgatan 8, Alingsås  57.930105,12.529608  \n",
       "1               Värendsgatan 14, Alvesta  56.900514,14.555233  \n",
       "2               Stigbergsvägen 11, Aneby  57.836076,14.807909  \n",
       "3                   Järntorget 8, Arboga   59.39417,15.840519  \n",
       "4  Tingsbacka, Storgatan 20   , Arjeplog  66.052216,17.893128  "
      ]
     },
     "execution_count": 56,
     "metadata": {},
     "output_type": "execute_result"
    }
   ],
   "source": [
    "dfPolisStations.head()"
   ]
  },
  {
   "cell_type": "code",
   "execution_count": 57,
   "metadata": {},
   "outputs": [],
   "source": [
    "dfPolisStations[['Latitude', 'Longitude']] = dfPolisStations['location.gps'].str.split(\",\", expand=True)"
   ]
  },
  {
   "cell_type": "code",
   "execution_count": 58,
   "metadata": {},
   "outputs": [],
   "source": [
    "from geojson import Point "
   ]
  },
  {
   "cell_type": "code",
   "execution_count": 59,
   "metadata": {},
   "outputs": [
    {
     "name": "stdout",
     "output_type": "stream",
     "text": [
      "57.930105 12.529608 Alingsås\n",
      "56.900514 14.555233 Alvesta\n",
      "57.836076 14.807909 Aneby\n",
      "59.39417 15.840519 Arboga\n",
      "66.052216 17.893128 Arjeplog\n",
      "59.646492 17.937797 Arlanda\n",
      "65.593781 19.160384 Arvidsjaur\n",
      "59.653932 12.602657 Arvika\n",
      "58.879601 14.905849 Askersund\n",
      "60.146648 16.163744 Avesta\n",
      "59.031614 12.219173 Bengtsfors\n",
      "63.929735 19.2119135 Bjurholm\n",
      "56.08384 12.911404 Bjuv\n",
      "65.824986 21.698839 Boden\n",
      "57.669572 12.57078 Bollebygd\n",
      "61.349777 16.397383 Bollnäs\n",
      "56.877094 16.66179 Borgholm\n",
      "60.485958 15.435876 Borlänge\n",
      "57.72363 12.941762 Borås\n",
      "58.19697 15.0524 Boxholm\n",
      "56.252607 14.078057 Broby\n",
      "55.633394 13.070579 Burlöv\n",
      "59.566631 17.531596 Bålsta\n",
      "56.426418 12.846166 Båstad\n",
      "59.3978717 18.0366457 Danderyd områdeskontor\n",
      "59.238016 14.43365 Degerfors\n",
      "64.261558 16.410731 Dorotea\n",
      "59.883427 12.302679 Eda\n",
      "59.2914964 17.807675 Ekerö områdeskontor\n",
      "57.659283 14.960808 Eksjö\n",
      "56.630452 15.53336 Emmaboda\n",
      "59.636833 17.083393 Enköping\n",
      "59.368893 16.515372 Eskilstuna\n",
      "55.830099 13.309147 Eslöv\n",
      "60.003667 15.799268 Fagersta\n",
      "56.90625 12.488467 Falkenberg\n",
      "58.161282 13.558324 Falköping\n",
      "60.606778 15.625906 Falun\n",
      "59.712668 14.170511 Filipstad\n",
      "58.707826 15.776457 Finspång\n",
      "59.217061 17.94709 Flemingsberg\n",
      "59.055743 16.589667 Flen\n",
      "59.530471 13.479465 Forshaga\n",
      "62.544768 12.546411 Funäsdalen\n",
      "60.559788 15.133806 Gagnef\n",
      "57.295225 13.565552 Gislaved\n",
      "59.2921974 18.0817704 Globen\n",
      "59.04793 17.310531 Gnesta\n",
      "59.351525 13.111032 Grums\n",
      "67.132138 20.663296 Gällivare\n",
      "60.674199 17.150824 Gävle\n",
      "57.707694 11.983464 Göteborg City\n",
      "57.707694 11.983464 Göteborg Delgivningscentralen\n",
      "57.719859 11.945917 Göteborg Hisingen\n",
      "57.70959 11.983729 Göteborg Hittegodscentralen\n",
      "57.668799 12.292314 Göteborg Landvetter\n",
      "57.772206 12.028801 Göteborg Nordost Hjällbo\n",
      "57.707694 11.983845 Göteborg Passcentralen\n",
      "57.705298 11.982956 Göteborg Polishuset\n",
      "58.527339 13.493157 Götene\n",
      "60.030174 13.701198 Hagfors\n",
      "59.065917 15.107341 Hallsberg\n",
      "59.614113 16.228792 Hallstahammar\n",
      "56.678382 12.855126 Halmstad\n",
      "59.3233043 13.4664318 Hammarö\n",
      "59.169713 18.140736 Haninge\n",
      "65.837982 24.140597 Haparanda\n",
      "59.941584 16.858946 Heby\n",
      "56.063879 12.712355 Helsingborg\n",
      "57.239118 18.3712 Hemse\n",
      "58.077045 13.026741 Herrljunga\n",
      "60.549984 16.267793 Hofors\n",
      "61.729248 17.102241 Hudiksvall\n",
      "57.485776 15.841557 Hultsfred\n",
      "57.000881 13.241829 Hylte\n",
      "59.783335 14.520379 Hällefors\n",
      "62.629215 17.933054 Härnösand\n",
      "56.15628 13.766756 Hässleholm\n",
      "56.200564 12.557187 Höganäs\n",
      "55.851322 13.658556 Hörby\n",
      "55.926089 13.543933 Höör\n",
      "61.858005 12.712541 Idre\n",
      "66.607503 19.82275 Jokkmokk\n",
      "59.425878 17.842135 Järfälla\n",
      "57.77981 14.166756 Jönköping\n",
      "65.855126 23.131884 Kalix\n",
      "56.672139 16.340322 Kalmar\n",
      "58.529279 14.512075 Karlsborg\n",
      "56.171176 14.869001 Karlshamn\n",
      "59.327415 14.509668 Karlskoga\n",
      "56.165085 15.5838 Karlskrona\n",
      "59.39068 13.489011 Karlstad\n",
      "58.993271 16.202029 Katrineholm\n",
      "59.503566 13.316269 Kil\n",
      "57.987378 15.632099 Kinda/Ydre\n",
      "67.856365 20.22071 Kiruna\n",
      "59.330517 18.05709 Klara\n",
      "56.137565 13.125752 Klippan\n",
      "59.727964 17.785557 Knivsta\n",
      "62.930104 17.775498 Kramfors\n",
      "56.037407 14.154072 Kristianstad\n",
      "59.312646 14.106952 Kristinehamn\n",
      "63.326822 14.447556 Krokom\n",
      "59.1281068 15.1424907 Kumla\n",
      "57.485555 12.080835 Kungsbacka\n",
      "59.422594 16.097583 Kungsör\n",
      "57.870578 11.972248 Kungälv\n",
      "55.796782 13.115392 Kävlinge\n",
      "59.517207 15.966556 Köping\n",
      "56.513205 13.050235 Laholm\n",
      "55.869568 12.83006 Landskrona\n",
      "58.989128 14.617326 Laxå\n",
      "60.73223 14.998055 Leksand\n",
      "57.768456 12.265073 Lerum\n",
      "56.751387 15.269421 Lessebo\n",
      "58.50214 13.155002 Lidköping\n",
      "59.592221 15.227791 Lindesberg\n",
      "58.396756 15.618866 Linköping\n",
      "56.834814 13.937252 Ljungby\n",
      "61.8276658 16.101895 Ljusdal\n",
      "59.876035 14.998717 Ljusnarsberg\n",
      "55.674818 13.072137 Lomma\n",
      "60.1483 15.187602 Ludvika \n",
      "65.5861 22.160199 Luleå\n",
      "55.704204 13.18353 Lund\n",
      "64.594354 18.679252 Lycksele\n",
      "58.276311 11.442036 Lysekil\n",
      "55.602845 13.011065 Malmö Drottninggatan\n",
      "55.622716 13.041993 Malmö hittegods/beslag\n",
      "55.606157 13.015432 Malmö Porslinsgatan\n",
      "55.587067 13.050536 Malmö Rosengård\n",
      "60.683521 13.717502 Malung\n",
      "65.182865 18.742222 Malå\n",
      "58.708971 13.812818 Mariestad\n",
      "57.50999 12.698547 Mark\n",
      "58.698524 12.459995 Mellerud\n",
      "58.327416 15.125935 Mjölby\n",
      "0 0 Mobila kontoret Fyrbodal\n",
      "58.121111 12.530556 Mobila kontoret Älvsborg\n",
      "0 0 Mobila kontoret östra Skaraborg\n",
      "56.630072 15.538553 Mobila poliskontoret i Kalmar och Kronobergs län\n",
      "56.751162 15.270459 Mobila poliskontoret i Kalmar och Kronobergs län\n",
      "56.137565 13.125752 Mobila poliskontoret i lokalpolisområde Klippan\n",
      "56.037572 14.153985 Mobila poliskontoret i polisområde Blekinge nordöstra Skåne\n",
      "56.210434 15.2760229 Mobila poliskontoret i polisområde Blekinge nordöstra Skåne\n",
      "61.005612 14.536855 Mora\n",
      "58.537724 15.046239 Motala\n",
      "59.835599 13.545839 Munkfors\n",
      "57.659398 12.019758 Mölndal\n",
      "57.6590691 12.1146302 Mölnlycke\n",
      "57.041343 16.445039 Mönsterås\n",
      "59.314907 18.164518 Nacka\n",
      "59.520672 15.036672 Nora\n",
      "60.064318 15.922239 Norberg\n",
      "61.980603 17.060067 Nordanstig - Bergsjö\n",
      "63.567966 19.5 Nordmaling\n",
      "58.595566 16.174239 Norrköping\n",
      "59.756701 18.697308 Norrtälje \n",
      "64.913451 19.484497 Norsjö\n",
      "56.745436 15.910707 Nybro\n",
      "58.749382 17.015824 Nyköping\n",
      "57.649617 14.699045 Nässjö\n",
      "60.890612 16.716791 Ockelbo\n",
      "61.120585 14.611938 Orsa\n",
      "57.264954 16.45004 Oskarshamn\n",
      "61.377322 15.817505 Ovanåker - Edsbyn\n",
      "58.671354 17.106963 Oxelösund\n",
      "67.21346 23.365942 Pajala\n",
      "57.739064 12.102153 Partille\n",
      "56.137991 13.396545 Perstorp\n",
      "65.31648 21.465651 Piteå\n",
      "64.193529 20.847385 Robertsfors\n",
      "56.213557 15.2738 Ronneby\n",
      "60.886756 15.119315 Rättvik\n",
      "59.91911 16.606581 Sala\n",
      "60.621891 16.779447 Sandviken\n",
      "55.554463 14.351678 Simrishamn\n",
      "55.632385 13.709213 Sjöbo\n",
      "58.384982 13.440924 Skara\n",
      "58.78341 16.923055 Skavsta\n",
      "64.688025 21.23783 Skelleftehamn\n",
      "64.74848 20.95886 Skellefteå\n",
      "55.47911 13.503588 Skurup\n",
      "60.626215 17.414337 Skutskär\n",
      "59.273417 17.90706 Skärholmen\n",
      "58.386664 13.847876 Skövde\n",
      "60.143241 15.414532 Smedjebacken\n",
      "63.169085 17.28717 Sollefteå\n",
      "59.426257 17.949564 Sollentuna \n",
      "59.355097 18.001389 Solna\n",
      "65.53494 17.539965 Sorsele\n",
      "55.644006 13.207598 Staffanstorp\n",
      "58.06738 11.816805 Stenungsund\n",
      "59.332051 18.038768 Stockholms City Norrmalm\n",
      "59.330489 18.039916 Stockholms City passexpedition\n",
      "59.316928 18.057505 Stockholms City Södermalm\n",
      "59.529933 14.273017 Storfors\n",
      "65.09563 17.11404 Storuman\n",
      "59.367805 17.024608 Strängnäs\n",
      "58.939241 11.171202 Strömstad\n",
      "63.853852 15.551905 Strömsund\n",
      "55.540637 13.366576 Sturup - Malmö Airport\n",
      "62.392034 17.295554 Sundsvall\n",
      "59.837147 13.141644 Sunne\n",
      "55.913864 13.107231 Svalöv\n",
      "62.032374 14.358192 Sveg\n",
      "57.499112 13.111025 Svenljunga\n",
      "62.767662 14.438614 Svenstavik\n",
      "59.133512 12.923679 Säffle\n",
      "61.155826 13.268137 Sälen\n",
      "60.346898 15.747854 Säter\n",
      "57.399561 14.661323 Sävsjö\n",
      "61.304731 17.06082 Söderhamn\n",
      "58.4801 16.323701 Söderköping\n",
      "59.187927 17.628206 Södertälje\n",
      "56.051724 14.582851 Sölvesborg\n",
      "60.341657 17.511625 Tierp\n",
      "56.525552 14.979028 Tingsryd\n",
      "55.542451 13.957077 Tomelilla\n",
      "60.146983 13.005797 Torsby\n",
      "56.411347 15.996177 Torsås\n",
      "58.035216 14.985098 Tranås\n",
      "55.371824 13.167215 Trelleborg\n",
      "58.280147 12.290657 Trollhättan\n",
      "59.445024 18.06899 Täby\n",
      "65.711357 15.255791 Tärnaby\n",
      "58.351256 11.940227 Uddevalla\n",
      "57.136397 12.716861 Ullared\n",
      "57.797663 13.413872 Ulricehamn\n",
      "63.834216 20.2500198 Umeå\n",
      "59.521578 17.90155 Upplands Väsby områdeskontor\n",
      "59.478725 17.752009 Upplands-Bro områdeskontor\n",
      "59.865528 17.630946 Uppsala\n",
      "59.855237 17.664572 Uppsala - Beslagsgruppen\n",
      "58.44665 14.888587 Vadstena\n",
      "58.945841 17.485391 Vagnhärad\n",
      "58.205143 16.600564 Valdemarsvik\n",
      "59.534261 18.076655 Vallentuna områdeskontor\n",
      "60.51082 14.2235 Vansbro\n",
      "58.261108 12.95279 Vara\n",
      "57.111451 12.255091 Varberg\n",
      "59.4047731 18.3157138 Vaxholm områdeskontor\n",
      "57.424844 15.090357 Vetlanda\n",
      "64.61509 16.68489 Vilhelmina\n",
      "57.668271 15.861861 Vimmerby\n",
      "64.202599 19.718721 Vindeln\n",
      "59.049361 15.874967 Vingåker\n",
      "57.63735 18.305441 Visby\n",
      "59.2988 15.18883 Vivalla\n",
      "58.033216 12.809188 Vårgårda\n",
      "59.363596 17.87243 Vällingby\n",
      "58.384319 12.323687 Vänersborg\n",
      "63.90429 19.752756 Vännäs\n",
      "57.183344 14.050065 Värnamo\n",
      "59.291954 18.011047 Västberga\n",
      "57.766423 16.619759 Västervik\n",
      "59.607646 16.542119 Västerås\n",
      "56.878276 14.798882 Växjö \n",
      "56.877393 14.797177 Växjö cykelförråd\n",
      "56.89067 14.797639 Växjö Dalbo\n",
      "55.43936 13.82716 Ystad\n",
      "55.926898 14.300058 Åhus\n",
      "59.480103 18.29529 Åkersberga områdeskontor\n",
      "59.051271 12.704634 Åmål\n",
      "62.524741 15.664624 Ånge\n",
      "63.394506 13.096971 Åre\n",
      "59.39313 12.133889 Årjäng\n",
      "57.171215 15.344492 Åseda\n",
      "64.16182 17.354 Åsele\n",
      "56.134485 12.94856 Åstorp\n",
      "58.201018 15.998716 Åtvidaberg\n",
      "56.540069 14.12805 Älmhult\n",
      "61.228253 14.04017 Älvdalen\n",
      "65.677241 20.997854 Älvsbyn\n",
      "56.24865 12.871691 Ängelholm\n",
      "58.229398 14.655137 Ödeshög\n",
      "59.278136 15.216131 Örebro\n",
      "56.283547 13.281082 Örkelljunga\n",
      "63.292551 18.718383 Örnsköldsvik\n",
      "57.82471 15.27425 Österbymo\n",
      "63.176285 14.660373 Östersund\n",
      "60.259612 18.36821 Östhammar\n",
      "66.388553 22.83961 Överkalix\n",
      "66.389235 23.656569 Övertorneå\n",
      "{\n",
      "  \"type\": \"FeatureCollection\",\n",
      "  \"features\": [\n",
      "    {\n",
      "      \"type\": \"Feature\",\n",
      "      \"properties\": {\n",
      "        \"name\": \"Alings\\u00e5s\"\n",
      "      },\n",
      "      \"geometry\": {\n",
      "        \"type\": \"Point\",\n",
      "        \"coordinates\": [\n",
      "          \"12.529608\",\n",
      "          \"57.930105\"\n",
      "        ]\n",
      "      }\n",
      "    },\n",
      "    {\n",
      "      \"type\": \"Feature\",\n",
      "      \"properties\": {\n",
      "        \"name\": \"Alvesta\"\n",
      "      },\n",
      "      \"geometry\": {\n",
      "        \"type\": \"Point\",\n",
      "        \"coordinates\": [\n",
      "          \"14.555233\",\n",
      "          \"56.900514\"\n",
      "        ]\n",
      "      }\n",
      "    },\n",
      "    {\n",
      "      \"type\": \"Feature\",\n",
      "      \"properties\": {\n",
      "        \"name\": \"Aneby\"\n",
      "      },\n",
      "      \"geometry\": {\n",
      "        \"type\": \"Point\",\n",
      "        \"coordinates\": [\n",
      "          \"14.807909\",\n",
      "          \"57.836076\"\n",
      "        ]\n",
      "      }\n",
      "    },\n",
      "    {\n",
      "      \"type\": \"Feature\",\n",
      "      \"properties\": {\n",
      "        \"name\": \"Arboga\"\n",
      "      },\n",
      "      \"geometry\": {\n",
      "        \"type\": \"Point\",\n",
      "        \"coordinates\": [\n",
      "          \"15.840519\",\n",
      "          \"59.39417\"\n",
      "        ]\n",
      "      }\n",
      "    },\n",
      "    {\n",
      "      \"type\": \"Feature\",\n",
      "      \"properties\": {\n",
      "        \"name\": \"Arjeplog\"\n",
      "      },\n",
      "      \"geometry\": {\n",
      "        \"type\": \"Point\",\n",
      "        \"coordinates\": [\n",
      "          \"17.893128\",\n",
      "          \"66.052216\"\n",
      "        ]\n",
      "      }\n",
      "    },\n",
      "    {\n",
      "      \"type\": \"Feature\",\n",
      "      \"properties\": {\n",
      "        \"name\": \"Arlanda\"\n",
      "      },\n",
      "      \"geometry\": {\n",
      "        \"type\": \"Point\",\n",
      "        \"coordinates\": [\n",
      "          \"17.937797\",\n",
      "          \"59.646492\"\n",
      "        ]\n",
      "      }\n",
      "    },\n",
      "    {\n",
      "      \"type\": \"Feature\",\n",
      "      \"properties\": {\n",
      "        \"name\": \"Arvidsjaur\"\n",
      "      },\n",
      "      \"geometry\": {\n",
      "        \"type\": \"Point\",\n",
      "        \"coordinates\": [\n",
      "          \"19.160384\",\n",
      "          \"65.593781\"\n",
      "        ]\n",
      "      }\n",
      "    },\n",
      "    {\n",
      "      \"type\": \"Feature\",\n",
      "      \"properties\": {\n",
      "        \"name\": \"Arvika\"\n",
      "      },\n",
      "      \"geometry\": {\n",
      "        \"type\": \"Point\",\n",
      "        \"coordinates\": [\n",
      "          \"12.602657\",\n",
      "          \"59.653932\"\n",
      "        ]\n",
      "      }\n",
      "    },\n",
      "    {\n",
      "      \"type\": \"Feature\",\n",
      "      \"properties\": {\n",
      "        \"name\": \"Askersund\"\n",
      "      },\n",
      "      \"geometry\": {\n",
      "        \"type\": \"Point\",\n",
      "        \"coordinates\": [\n",
      "          \"14.905849\",\n",
      "          \"58.879601\"\n",
      "        ]\n",
      "      }\n",
      "    },\n",
      "    {\n",
      "      \"type\": \"Feature\",\n",
      "      \"properties\": {\n",
      "        \"name\": \"Avesta\"\n",
      "      },\n",
      "      \"geometry\": {\n",
      "        \"type\": \"Point\",\n",
      "        \"coordinates\": [\n",
      "          \"16.163744\",\n",
      "          \"60.146648\"\n",
      "        ]\n",
      "      }\n",
      "    },\n",
      "    {\n",
      "      \"type\": \"Feature\",\n",
      "      \"properties\": {\n",
      "        \"name\": \"Bengtsfors\"\n",
      "      },\n",
      "      \"geometry\": {\n",
      "        \"type\": \"Point\",\n",
      "        \"coordinates\": [\n",
      "          \"12.219173\",\n",
      "          \"59.031614\"\n",
      "        ]\n",
      "      }\n",
      "    },\n",
      "    {\n",
      "      \"type\": \"Feature\",\n",
      "      \"properties\": {\n",
      "        \"name\": \"Bjurholm\"\n",
      "      },\n",
      "      \"geometry\": {\n",
      "        \"type\": \"Point\",\n",
      "        \"coordinates\": [\n",
      "          \"19.2119135\",\n",
      "          \"63.929735\"\n",
      "        ]\n",
      "      }\n",
      "    },\n",
      "    {\n",
      "      \"type\": \"Feature\",\n",
      "      \"properties\": {\n",
      "        \"name\": \"Bjuv\"\n",
      "      },\n",
      "      \"geometry\": {\n",
      "        \"type\": \"Point\",\n",
      "        \"coordinates\": [\n",
      "          \"12.911404\",\n",
      "          \"56.08384\"\n",
      "        ]\n",
      "      }\n",
      "    },\n",
      "    {\n",
      "      \"type\": \"Feature\",\n",
      "      \"properties\": {\n",
      "        \"name\": \"Boden\"\n",
      "      },\n",
      "      \"geometry\": {\n",
      "        \"type\": \"Point\",\n",
      "        \"coordinates\": [\n",
      "          \"21.698839\",\n",
      "          \"65.824986\"\n",
      "        ]\n",
      "      }\n",
      "    },\n",
      "    {\n",
      "      \"type\": \"Feature\",\n",
      "      \"properties\": {\n",
      "        \"name\": \"Bollebygd\"\n",
      "      },\n",
      "      \"geometry\": {\n",
      "        \"type\": \"Point\",\n",
      "        \"coordinates\": [\n",
      "          \"12.57078\",\n",
      "          \"57.669572\"\n",
      "        ]\n",
      "      }\n",
      "    },\n",
      "    {\n",
      "      \"type\": \"Feature\",\n",
      "      \"properties\": {\n",
      "        \"name\": \"Bolln\\u00e4s\"\n",
      "      },\n",
      "      \"geometry\": {\n",
      "        \"type\": \"Point\",\n",
      "        \"coordinates\": [\n",
      "          \"16.397383\",\n",
      "          \"61.349777\"\n",
      "        ]\n",
      "      }\n",
      "    },\n",
      "    {\n",
      "      \"type\": \"Feature\",\n",
      "      \"properties\": {\n",
      "        \"name\": \"Borgholm\"\n",
      "      },\n",
      "      \"geometry\": {\n",
      "        \"type\": \"Point\",\n",
      "        \"coordinates\": [\n",
      "          \"16.66179\",\n",
      "          \"56.877094\"\n",
      "        ]\n",
      "      }\n",
      "    },\n",
      "    {\n",
      "      \"type\": \"Feature\",\n",
      "      \"properties\": {\n",
      "        \"name\": \"Borl\\u00e4nge\"\n",
      "      },\n",
      "      \"geometry\": {\n",
      "        \"type\": \"Point\",\n",
      "        \"coordinates\": [\n",
      "          \"15.435876\",\n",
      "          \"60.485958\"\n",
      "        ]\n",
      "      }\n",
      "    },\n",
      "    {\n",
      "      \"type\": \"Feature\",\n",
      "      \"properties\": {\n",
      "        \"name\": \"Bor\\u00e5s\"\n",
      "      },\n",
      "      \"geometry\": {\n",
      "        \"type\": \"Point\",\n",
      "        \"coordinates\": [\n",
      "          \"12.941762\",\n",
      "          \"57.72363\"\n",
      "        ]\n",
      "      }\n",
      "    },\n",
      "    {\n",
      "      \"type\": \"Feature\",\n",
      "      \"properties\": {\n",
      "        \"name\": \"Boxholm\"\n",
      "      },\n",
      "      \"geometry\": {\n",
      "        \"type\": \"Point\",\n",
      "        \"coordinates\": [\n",
      "          \"15.0524\",\n",
      "          \"58.19697\"\n",
      "        ]\n",
      "      }\n",
      "    },\n",
      "    {\n",
      "      \"type\": \"Feature\",\n",
      "      \"properties\": {\n",
      "        \"name\": \"Broby\"\n",
      "      },\n",
      "      \"geometry\": {\n",
      "        \"type\": \"Point\",\n",
      "        \"coordinates\": [\n",
      "          \"14.078057\",\n",
      "          \"56.252607\"\n",
      "        ]\n",
      "      }\n",
      "    },\n",
      "    {\n",
      "      \"type\": \"Feature\",\n",
      "      \"properties\": {\n",
      "        \"name\": \"Burl\\u00f6v\"\n",
      "      },\n",
      "      \"geometry\": {\n",
      "        \"type\": \"Point\",\n",
      "        \"coordinates\": [\n",
      "          \"13.070579\",\n",
      "          \"55.633394\"\n",
      "        ]\n",
      "      }\n",
      "    },\n",
      "    {\n",
      "      \"type\": \"Feature\",\n",
      "      \"properties\": {\n",
      "        \"name\": \"B\\u00e5lsta\"\n",
      "      },\n",
      "      \"geometry\": {\n",
      "        \"type\": \"Point\",\n",
      "        \"coordinates\": [\n",
      "          \"17.531596\",\n",
      "          \"59.566631\"\n",
      "        ]\n",
      "      }\n",
      "    },\n",
      "    {\n",
      "      \"type\": \"Feature\",\n",
      "      \"properties\": {\n",
      "        \"name\": \"B\\u00e5stad\"\n",
      "      },\n",
      "      \"geometry\": {\n",
      "        \"type\": \"Point\",\n",
      "        \"coordinates\": [\n",
      "          \"12.846166\",\n",
      "          \"56.426418\"\n",
      "        ]\n",
      "      }\n",
      "    },\n",
      "    {\n",
      "      \"type\": \"Feature\",\n",
      "      \"properties\": {\n",
      "        \"name\": \"Danderyd omr\\u00e5deskontor\"\n",
      "      },\n",
      "      \"geometry\": {\n",
      "        \"type\": \"Point\",\n",
      "        \"coordinates\": [\n",
      "          \"18.0366457\",\n",
      "          \"59.3978717\"\n",
      "        ]\n",
      "      }\n",
      "    },\n",
      "    {\n",
      "      \"type\": \"Feature\",\n",
      "      \"properties\": {\n",
      "        \"name\": \"Degerfors\"\n",
      "      },\n",
      "      \"geometry\": {\n",
      "        \"type\": \"Point\",\n",
      "        \"coordinates\": [\n",
      "          \"14.43365\",\n",
      "          \"59.238016\"\n",
      "        ]\n",
      "      }\n",
      "    },\n",
      "    {\n",
      "      \"type\": \"Feature\",\n",
      "      \"properties\": {\n",
      "        \"name\": \"Dorotea\"\n",
      "      },\n",
      "      \"geometry\": {\n",
      "        \"type\": \"Point\",\n",
      "        \"coordinates\": [\n",
      "          \"16.410731\",\n",
      "          \"64.261558\"\n",
      "        ]\n",
      "      }\n",
      "    },\n",
      "    {\n",
      "      \"type\": \"Feature\",\n",
      "      \"properties\": {\n",
      "        \"name\": \"Eda\"\n",
      "      },\n",
      "      \"geometry\": {\n",
      "        \"type\": \"Point\",\n",
      "        \"coordinates\": [\n",
      "          \"12.302679\",\n",
      "          \"59.883427\"\n",
      "        ]\n",
      "      }\n",
      "    },\n",
      "    {\n",
      "      \"type\": \"Feature\",\n",
      "      \"properties\": {\n",
      "        \"name\": \"Eker\\u00f6 omr\\u00e5deskontor\"\n",
      "      },\n",
      "      \"geometry\": {\n",
      "        \"type\": \"Point\",\n",
      "        \"coordinates\": [\n",
      "          \"17.807675\",\n",
      "          \"59.2914964\"\n",
      "        ]\n",
      "      }\n",
      "    },\n",
      "    {\n",
      "      \"type\": \"Feature\",\n",
      "      \"properties\": {\n",
      "        \"name\": \"Eksj\\u00f6\"\n",
      "      },\n",
      "      \"geometry\": {\n",
      "        \"type\": \"Point\",\n",
      "        \"coordinates\": [\n",
      "          \"14.960808\",\n",
      "          \"57.659283\"\n",
      "        ]\n",
      "      }\n",
      "    },\n",
      "    {\n",
      "      \"type\": \"Feature\",\n",
      "      \"properties\": {\n",
      "        \"name\": \"Emmaboda\"\n",
      "      },\n",
      "      \"geometry\": {\n",
      "        \"type\": \"Point\",\n",
      "        \"coordinates\": [\n",
      "          \"15.53336\",\n",
      "          \"56.630452\"\n",
      "        ]\n",
      "      }\n",
      "    },\n",
      "    {\n",
      "      \"type\": \"Feature\",\n",
      "      \"properties\": {\n",
      "        \"name\": \"Enk\\u00f6ping\"\n",
      "      },\n",
      "      \"geometry\": {\n",
      "        \"type\": \"Point\",\n",
      "        \"coordinates\": [\n",
      "          \"17.083393\",\n",
      "          \"59.636833\"\n",
      "        ]\n",
      "      }\n",
      "    },\n",
      "    {\n",
      "      \"type\": \"Feature\",\n",
      "      \"properties\": {\n",
      "        \"name\": \"Eskilstuna\"\n",
      "      },\n",
      "      \"geometry\": {\n",
      "        \"type\": \"Point\",\n",
      "        \"coordinates\": [\n",
      "          \"16.515372\",\n",
      "          \"59.368893\"\n",
      "        ]\n",
      "      }\n",
      "    },\n",
      "    {\n",
      "      \"type\": \"Feature\",\n",
      "      \"properties\": {\n",
      "        \"name\": \"Esl\\u00f6v\"\n",
      "      },\n",
      "      \"geometry\": {\n",
      "        \"type\": \"Point\",\n",
      "        \"coordinates\": [\n",
      "          \"13.309147\",\n",
      "          \"55.830099\"\n",
      "        ]\n",
      "      }\n",
      "    },\n",
      "    {\n",
      "      \"type\": \"Feature\",\n",
      "      \"properties\": {\n",
      "        \"name\": \"Fagersta\"\n",
      "      },\n",
      "      \"geometry\": {\n",
      "        \"type\": \"Point\",\n",
      "        \"coordinates\": [\n",
      "          \"15.799268\",\n",
      "          \"60.003667\"\n",
      "        ]\n",
      "      }\n",
      "    },\n",
      "    {\n",
      "      \"type\": \"Feature\",\n",
      "      \"properties\": {\n",
      "        \"name\": \"Falkenberg\"\n",
      "      },\n",
      "      \"geometry\": {\n",
      "        \"type\": \"Point\",\n",
      "        \"coordinates\": [\n",
      "          \"12.488467\",\n",
      "          \"56.90625\"\n",
      "        ]\n",
      "      }\n",
      "    },\n",
      "    {\n",
      "      \"type\": \"Feature\",\n",
      "      \"properties\": {\n",
      "        \"name\": \"Falk\\u00f6ping\"\n",
      "      },\n",
      "      \"geometry\": {\n",
      "        \"type\": \"Point\",\n",
      "        \"coordinates\": [\n",
      "          \"13.558324\",\n",
      "          \"58.161282\"\n",
      "        ]\n",
      "      }\n",
      "    },\n",
      "    {\n",
      "      \"type\": \"Feature\",\n",
      "      \"properties\": {\n",
      "        \"name\": \"Falun\"\n",
      "      },\n",
      "      \"geometry\": {\n",
      "        \"type\": \"Point\",\n",
      "        \"coordinates\": [\n",
      "          \"15.625906\",\n",
      "          \"60.606778\"\n",
      "        ]\n",
      "      }\n",
      "    },\n",
      "    {\n",
      "      \"type\": \"Feature\",\n",
      "      \"properties\": {\n",
      "        \"name\": \"Filipstad\"\n",
      "      },\n",
      "      \"geometry\": {\n",
      "        \"type\": \"Point\",\n",
      "        \"coordinates\": [\n",
      "          \"14.170511\",\n",
      "          \"59.712668\"\n",
      "        ]\n",
      "      }\n",
      "    },\n",
      "    {\n",
      "      \"type\": \"Feature\",\n",
      "      \"properties\": {\n",
      "        \"name\": \"Finsp\\u00e5ng\"\n",
      "      },\n",
      "      \"geometry\": {\n",
      "        \"type\": \"Point\",\n",
      "        \"coordinates\": [\n",
      "          \"15.776457\",\n",
      "          \"58.707826\"\n",
      "        ]\n",
      "      }\n",
      "    },\n",
      "    {\n",
      "      \"type\": \"Feature\",\n",
      "      \"properties\": {\n",
      "        \"name\": \"Flemingsberg\"\n",
      "      },\n",
      "      \"geometry\": {\n",
      "        \"type\": \"Point\",\n",
      "        \"coordinates\": [\n",
      "          \"17.94709\",\n",
      "          \"59.217061\"\n",
      "        ]\n",
      "      }\n",
      "    },\n",
      "    {\n",
      "      \"type\": \"Feature\",\n",
      "      \"properties\": {\n",
      "        \"name\": \"Flen\"\n",
      "      },\n",
      "      \"geometry\": {\n",
      "        \"type\": \"Point\",\n",
      "        \"coordinates\": [\n",
      "          \"16.589667\",\n",
      "          \"59.055743\"\n",
      "        ]\n",
      "      }\n",
      "    },\n",
      "    {\n",
      "      \"type\": \"Feature\",\n",
      "      \"properties\": {\n",
      "        \"name\": \"Forshaga\"\n",
      "      },\n",
      "      \"geometry\": {\n",
      "        \"type\": \"Point\",\n",
      "        \"coordinates\": [\n",
      "          \"13.479465\",\n",
      "          \"59.530471\"\n",
      "        ]\n",
      "      }\n",
      "    },\n",
      "    {\n",
      "      \"type\": \"Feature\",\n",
      "      \"properties\": {\n",
      "        \"name\": \"Fun\\u00e4sdalen\"\n",
      "      },\n",
      "      \"geometry\": {\n",
      "        \"type\": \"Point\",\n",
      "        \"coordinates\": [\n",
      "          \"12.546411\",\n",
      "          \"62.544768\"\n",
      "        ]\n",
      "      }\n",
      "    },\n",
      "    {\n",
      "      \"type\": \"Feature\",\n",
      "      \"properties\": {\n",
      "        \"name\": \"Gagnef\"\n",
      "      },\n",
      "      \"geometry\": {\n",
      "        \"type\": \"Point\",\n",
      "        \"coordinates\": [\n",
      "          \"15.133806\",\n",
      "          \"60.559788\"\n",
      "        ]\n",
      "      }\n",
      "    },\n",
      "    {\n",
      "      \"type\": \"Feature\",\n",
      "      \"properties\": {\n",
      "        \"name\": \"Gislaved\"\n",
      "      },\n",
      "      \"geometry\": {\n",
      "        \"type\": \"Point\",\n",
      "        \"coordinates\": [\n",
      "          \"13.565552\",\n",
      "          \"57.295225\"\n",
      "        ]\n",
      "      }\n",
      "    },\n",
      "    {\n",
      "      \"type\": \"Feature\",\n",
      "      \"properties\": {\n",
      "        \"name\": \"Globen\"\n",
      "      },\n",
      "      \"geometry\": {\n",
      "        \"type\": \"Point\",\n",
      "        \"coordinates\": [\n",
      "          \"18.0817704\",\n",
      "          \"59.2921974\"\n",
      "        ]\n",
      "      }\n",
      "    },\n",
      "    {\n",
      "      \"type\": \"Feature\",\n",
      "      \"properties\": {\n",
      "        \"name\": \"Gnesta\"\n",
      "      },\n",
      "      \"geometry\": {\n",
      "        \"type\": \"Point\",\n",
      "        \"coordinates\": [\n",
      "          \"17.310531\",\n",
      "          \"59.04793\"\n",
      "        ]\n",
      "      }\n",
      "    },\n",
      "    {\n",
      "      \"type\": \"Feature\",\n",
      "      \"properties\": {\n",
      "        \"name\": \"Grums\"\n",
      "      },\n",
      "      \"geometry\": {\n",
      "        \"type\": \"Point\",\n",
      "        \"coordinates\": [\n",
      "          \"13.111032\",\n",
      "          \"59.351525\"\n",
      "        ]\n",
      "      }\n",
      "    },\n",
      "    {\n",
      "      \"type\": \"Feature\",\n",
      "      \"properties\": {\n",
      "        \"name\": \"G\\u00e4llivare\"\n",
      "      },\n",
      "      \"geometry\": {\n",
      "        \"type\": \"Point\",\n",
      "        \"coordinates\": [\n",
      "          \"20.663296\",\n",
      "          \"67.132138\"\n",
      "        ]\n",
      "      }\n",
      "    },\n",
      "    {\n",
      "      \"type\": \"Feature\",\n",
      "      \"properties\": {\n",
      "        \"name\": \"G\\u00e4vle\"\n",
      "      },\n",
      "      \"geometry\": {\n",
      "        \"type\": \"Point\",\n",
      "        \"coordinates\": [\n",
      "          \"17.150824\",\n",
      "          \"60.674199\"\n",
      "        ]\n",
      "      }\n",
      "    },\n",
      "    {\n",
      "      \"type\": \"Feature\",\n",
      "      \"properties\": {\n",
      "        \"name\": \"G\\u00f6teborg City\"\n",
      "      },\n",
      "      \"geometry\": {\n",
      "        \"type\": \"Point\",\n",
      "        \"coordinates\": [\n",
      "          \"11.983464\",\n",
      "          \"57.707694\"\n",
      "        ]\n",
      "      }\n",
      "    },\n",
      "    {\n",
      "      \"type\": \"Feature\",\n",
      "      \"properties\": {\n",
      "        \"name\": \"G\\u00f6teborg Delgivningscentralen\"\n",
      "      },\n",
      "      \"geometry\": {\n",
      "        \"type\": \"Point\",\n",
      "        \"coordinates\": [\n",
      "          \"11.983464\",\n",
      "          \"57.707694\"\n",
      "        ]\n",
      "      }\n",
      "    },\n",
      "    {\n",
      "      \"type\": \"Feature\",\n",
      "      \"properties\": {\n",
      "        \"name\": \"G\\u00f6teborg Hisingen\"\n",
      "      },\n",
      "      \"geometry\": {\n",
      "        \"type\": \"Point\",\n",
      "        \"coordinates\": [\n",
      "          \"11.945917\",\n",
      "          \"57.719859\"\n",
      "        ]\n",
      "      }\n",
      "    },\n",
      "    {\n",
      "      \"type\": \"Feature\",\n",
      "      \"properties\": {\n",
      "        \"name\": \"G\\u00f6teborg Hittegodscentralen\"\n",
      "      },\n",
      "      \"geometry\": {\n",
      "        \"type\": \"Point\",\n",
      "        \"coordinates\": [\n",
      "          \"11.983729\",\n",
      "          \"57.70959\"\n",
      "        ]\n",
      "      }\n",
      "    },\n",
      "    {\n",
      "      \"type\": \"Feature\",\n",
      "      \"properties\": {\n",
      "        \"name\": \"G\\u00f6teborg Landvetter\"\n",
      "      },\n",
      "      \"geometry\": {\n",
      "        \"type\": \"Point\",\n",
      "        \"coordinates\": [\n",
      "          \"12.292314\",\n",
      "          \"57.668799\"\n",
      "        ]\n",
      "      }\n",
      "    },\n",
      "    {\n",
      "      \"type\": \"Feature\",\n",
      "      \"properties\": {\n",
      "        \"name\": \"G\\u00f6teborg Nordost Hj\\u00e4llbo\"\n",
      "      },\n",
      "      \"geometry\": {\n",
      "        \"type\": \"Point\",\n",
      "        \"coordinates\": [\n",
      "          \"12.028801\",\n",
      "          \"57.772206\"\n",
      "        ]\n",
      "      }\n",
      "    },\n",
      "    {\n",
      "      \"type\": \"Feature\",\n",
      "      \"properties\": {\n",
      "        \"name\": \"G\\u00f6teborg Passcentralen\"\n",
      "      },\n",
      "      \"geometry\": {\n",
      "        \"type\": \"Point\",\n",
      "        \"coordinates\": [\n",
      "          \"11.983845\",\n",
      "          \"57.707694\"\n",
      "        ]\n",
      "      }\n",
      "    },\n",
      "    {\n",
      "      \"type\": \"Feature\",\n",
      "      \"properties\": {\n",
      "        \"name\": \"G\\u00f6teborg Polishuset\"\n",
      "      },\n",
      "      \"geometry\": {\n",
      "        \"type\": \"Point\",\n",
      "        \"coordinates\": [\n",
      "          \"11.982956\",\n",
      "          \"57.705298\"\n",
      "        ]\n",
      "      }\n",
      "    },\n",
      "    {\n",
      "      \"type\": \"Feature\",\n",
      "      \"properties\": {\n",
      "        \"name\": \"G\\u00f6tene\"\n",
      "      },\n",
      "      \"geometry\": {\n",
      "        \"type\": \"Point\",\n",
      "        \"coordinates\": [\n",
      "          \"13.493157\",\n",
      "          \"58.527339\"\n",
      "        ]\n",
      "      }\n",
      "    },\n",
      "    {\n",
      "      \"type\": \"Feature\",\n",
      "      \"properties\": {\n",
      "        \"name\": \"Hagfors\"\n",
      "      },\n",
      "      \"geometry\": {\n",
      "        \"type\": \"Point\",\n",
      "        \"coordinates\": [\n",
      "          \"13.701198\",\n",
      "          \"60.030174\"\n",
      "        ]\n",
      "      }\n",
      "    },\n",
      "    {\n",
      "      \"type\": \"Feature\",\n",
      "      \"properties\": {\n",
      "        \"name\": \"Hallsberg\"\n",
      "      },\n",
      "      \"geometry\": {\n",
      "        \"type\": \"Point\",\n",
      "        \"coordinates\": [\n",
      "          \"15.107341\",\n",
      "          \"59.065917\"\n",
      "        ]\n",
      "      }\n",
      "    },\n",
      "    {\n",
      "      \"type\": \"Feature\",\n",
      "      \"properties\": {\n",
      "        \"name\": \"Hallstahammar\"\n",
      "      },\n",
      "      \"geometry\": {\n",
      "        \"type\": \"Point\",\n",
      "        \"coordinates\": [\n",
      "          \"16.228792\",\n",
      "          \"59.614113\"\n",
      "        ]\n",
      "      }\n",
      "    },\n",
      "    {\n",
      "      \"type\": \"Feature\",\n",
      "      \"properties\": {\n",
      "        \"name\": \"Halmstad\"\n",
      "      },\n",
      "      \"geometry\": {\n",
      "        \"type\": \"Point\",\n",
      "        \"coordinates\": [\n",
      "          \"12.855126\",\n",
      "          \"56.678382\"\n",
      "        ]\n",
      "      }\n",
      "    },\n",
      "    {\n",
      "      \"type\": \"Feature\",\n",
      "      \"properties\": {\n",
      "        \"name\": \"Hammar\\u00f6\"\n",
      "      },\n",
      "      \"geometry\": {\n",
      "        \"type\": \"Point\",\n",
      "        \"coordinates\": [\n",
      "          \"13.4664318\",\n",
      "          \"59.3233043\"\n",
      "        ]\n",
      "      }\n",
      "    },\n",
      "    {\n",
      "      \"type\": \"Feature\",\n",
      "      \"properties\": {\n",
      "        \"name\": \"Haninge\"\n",
      "      },\n",
      "      \"geometry\": {\n",
      "        \"type\": \"Point\",\n",
      "        \"coordinates\": [\n",
      "          \"18.140736\",\n",
      "          \"59.169713\"\n",
      "        ]\n",
      "      }\n",
      "    },\n",
      "    {\n",
      "      \"type\": \"Feature\",\n",
      "      \"properties\": {\n",
      "        \"name\": \"Haparanda\"\n",
      "      },\n",
      "      \"geometry\": {\n",
      "        \"type\": \"Point\",\n",
      "        \"coordinates\": [\n",
      "          \"24.140597\",\n",
      "          \"65.837982\"\n",
      "        ]\n",
      "      }\n",
      "    },\n",
      "    {\n",
      "      \"type\": \"Feature\",\n",
      "      \"properties\": {\n",
      "        \"name\": \"Heby\"\n",
      "      },\n",
      "      \"geometry\": {\n",
      "        \"type\": \"Point\",\n",
      "        \"coordinates\": [\n",
      "          \"16.858946\",\n",
      "          \"59.941584\"\n",
      "        ]\n",
      "      }\n",
      "    },\n",
      "    {\n",
      "      \"type\": \"Feature\",\n",
      "      \"properties\": {\n",
      "        \"name\": \"Helsingborg\"\n",
      "      },\n",
      "      \"geometry\": {\n",
      "        \"type\": \"Point\",\n",
      "        \"coordinates\": [\n",
      "          \"12.712355\",\n",
      "          \"56.063879\"\n",
      "        ]\n",
      "      }\n",
      "    },\n",
      "    {\n",
      "      \"type\": \"Feature\",\n",
      "      \"properties\": {\n",
      "        \"name\": \"Hemse\"\n",
      "      },\n",
      "      \"geometry\": {\n",
      "        \"type\": \"Point\",\n",
      "        \"coordinates\": [\n",
      "          \"18.3712\",\n",
      "          \"57.239118\"\n",
      "        ]\n",
      "      }\n",
      "    },\n",
      "    {\n",
      "      \"type\": \"Feature\",\n",
      "      \"properties\": {\n",
      "        \"name\": \"Herrljunga\"\n",
      "      },\n",
      "      \"geometry\": {\n",
      "        \"type\": \"Point\",\n",
      "        \"coordinates\": [\n",
      "          \"13.026741\",\n",
      "          \"58.077045\"\n",
      "        ]\n",
      "      }\n",
      "    },\n",
      "    {\n",
      "      \"type\": \"Feature\",\n",
      "      \"properties\": {\n",
      "        \"name\": \"Hofors\"\n",
      "      },\n",
      "      \"geometry\": {\n",
      "        \"type\": \"Point\",\n",
      "        \"coordinates\": [\n",
      "          \"16.267793\",\n",
      "          \"60.549984\"\n",
      "        ]\n",
      "      }\n",
      "    },\n",
      "    {\n",
      "      \"type\": \"Feature\",\n",
      "      \"properties\": {\n",
      "        \"name\": \"Hudiksvall\"\n",
      "      },\n",
      "      \"geometry\": {\n",
      "        \"type\": \"Point\",\n",
      "        \"coordinates\": [\n",
      "          \"17.102241\",\n",
      "          \"61.729248\"\n",
      "        ]\n",
      "      }\n",
      "    },\n",
      "    {\n",
      "      \"type\": \"Feature\",\n",
      "      \"properties\": {\n",
      "        \"name\": \"Hultsfred\"\n",
      "      },\n",
      "      \"geometry\": {\n",
      "        \"type\": \"Point\",\n",
      "        \"coordinates\": [\n",
      "          \"15.841557\",\n",
      "          \"57.485776\"\n",
      "        ]\n",
      "      }\n",
      "    },\n",
      "    {\n",
      "      \"type\": \"Feature\",\n",
      "      \"properties\": {\n",
      "        \"name\": \"Hylte\"\n",
      "      },\n",
      "      \"geometry\": {\n",
      "        \"type\": \"Point\",\n",
      "        \"coordinates\": [\n",
      "          \"13.241829\",\n",
      "          \"57.000881\"\n",
      "        ]\n",
      "      }\n",
      "    },\n",
      "    {\n",
      "      \"type\": \"Feature\",\n",
      "      \"properties\": {\n",
      "        \"name\": \"H\\u00e4llefors\"\n",
      "      },\n",
      "      \"geometry\": {\n",
      "        \"type\": \"Point\",\n",
      "        \"coordinates\": [\n",
      "          \"14.520379\",\n",
      "          \"59.783335\"\n",
      "        ]\n",
      "      }\n",
      "    },\n",
      "    {\n",
      "      \"type\": \"Feature\",\n",
      "      \"properties\": {\n",
      "        \"name\": \"H\\u00e4rn\\u00f6sand\"\n",
      "      },\n",
      "      \"geometry\": {\n",
      "        \"type\": \"Point\",\n",
      "        \"coordinates\": [\n",
      "          \"17.933054\",\n",
      "          \"62.629215\"\n",
      "        ]\n",
      "      }\n",
      "    },\n",
      "    {\n",
      "      \"type\": \"Feature\",\n",
      "      \"properties\": {\n",
      "        \"name\": \"H\\u00e4ssleholm\"\n",
      "      },\n",
      "      \"geometry\": {\n",
      "        \"type\": \"Point\",\n",
      "        \"coordinates\": [\n",
      "          \"13.766756\",\n",
      "          \"56.15628\"\n",
      "        ]\n",
      "      }\n",
      "    },\n",
      "    {\n",
      "      \"type\": \"Feature\",\n",
      "      \"properties\": {\n",
      "        \"name\": \"H\\u00f6gan\\u00e4s\"\n",
      "      },\n",
      "      \"geometry\": {\n",
      "        \"type\": \"Point\",\n",
      "        \"coordinates\": [\n",
      "          \"12.557187\",\n",
      "          \"56.200564\"\n",
      "        ]\n",
      "      }\n",
      "    },\n",
      "    {\n",
      "      \"type\": \"Feature\",\n",
      "      \"properties\": {\n",
      "        \"name\": \"H\\u00f6rby\"\n",
      "      },\n",
      "      \"geometry\": {\n",
      "        \"type\": \"Point\",\n",
      "        \"coordinates\": [\n",
      "          \"13.658556\",\n",
      "          \"55.851322\"\n",
      "        ]\n",
      "      }\n",
      "    },\n",
      "    {\n",
      "      \"type\": \"Feature\",\n",
      "      \"properties\": {\n",
      "        \"name\": \"H\\u00f6\\u00f6r\"\n",
      "      },\n",
      "      \"geometry\": {\n",
      "        \"type\": \"Point\",\n",
      "        \"coordinates\": [\n",
      "          \"13.543933\",\n",
      "          \"55.926089\"\n",
      "        ]\n",
      "      }\n",
      "    },\n",
      "    {\n",
      "      \"type\": \"Feature\",\n",
      "      \"properties\": {\n",
      "        \"name\": \"Idre\"\n",
      "      },\n",
      "      \"geometry\": {\n",
      "        \"type\": \"Point\",\n",
      "        \"coordinates\": [\n",
      "          \"12.712541\",\n",
      "          \"61.858005\"\n",
      "        ]\n",
      "      }\n",
      "    },\n",
      "    {\n",
      "      \"type\": \"Feature\",\n",
      "      \"properties\": {\n",
      "        \"name\": \"Jokkmokk\"\n",
      "      },\n",
      "      \"geometry\": {\n",
      "        \"type\": \"Point\",\n",
      "        \"coordinates\": [\n",
      "          \"19.82275\",\n",
      "          \"66.607503\"\n",
      "        ]\n",
      "      }\n",
      "    },\n",
      "    {\n",
      "      \"type\": \"Feature\",\n",
      "      \"properties\": {\n",
      "        \"name\": \"J\\u00e4rf\\u00e4lla\"\n",
      "      },\n",
      "      \"geometry\": {\n",
      "        \"type\": \"Point\",\n",
      "        \"coordinates\": [\n",
      "          \"17.842135\",\n",
      "          \"59.425878\"\n",
      "        ]\n",
      "      }\n",
      "    },\n",
      "    {\n",
      "      \"type\": \"Feature\",\n",
      "      \"properties\": {\n",
      "        \"name\": \"J\\u00f6nk\\u00f6ping\"\n",
      "      },\n",
      "      \"geometry\": {\n",
      "        \"type\": \"Point\",\n",
      "        \"coordinates\": [\n",
      "          \"14.166756\",\n",
      "          \"57.77981\"\n",
      "        ]\n",
      "      }\n",
      "    },\n",
      "    {\n",
      "      \"type\": \"Feature\",\n",
      "      \"properties\": {\n",
      "        \"name\": \"Kalix\"\n",
      "      },\n",
      "      \"geometry\": {\n",
      "        \"type\": \"Point\",\n",
      "        \"coordinates\": [\n",
      "          \"23.131884\",\n",
      "          \"65.855126\"\n",
      "        ]\n",
      "      }\n",
      "    },\n",
      "    {\n",
      "      \"type\": \"Feature\",\n",
      "      \"properties\": {\n",
      "        \"name\": \"Kalmar\"\n",
      "      },\n",
      "      \"geometry\": {\n",
      "        \"type\": \"Point\",\n",
      "        \"coordinates\": [\n",
      "          \"16.340322\",\n",
      "          \"56.672139\"\n",
      "        ]\n",
      "      }\n",
      "    },\n",
      "    {\n",
      "      \"type\": \"Feature\",\n",
      "      \"properties\": {\n",
      "        \"name\": \"Karlsborg\"\n",
      "      },\n",
      "      \"geometry\": {\n",
      "        \"type\": \"Point\",\n",
      "        \"coordinates\": [\n",
      "          \"14.512075\",\n",
      "          \"58.529279\"\n",
      "        ]\n",
      "      }\n",
      "    },\n",
      "    {\n",
      "      \"type\": \"Feature\",\n",
      "      \"properties\": {\n",
      "        \"name\": \"Karlshamn\"\n",
      "      },\n",
      "      \"geometry\": {\n",
      "        \"type\": \"Point\",\n",
      "        \"coordinates\": [\n",
      "          \"14.869001\",\n",
      "          \"56.171176\"\n",
      "        ]\n",
      "      }\n",
      "    },\n",
      "    {\n",
      "      \"type\": \"Feature\",\n",
      "      \"properties\": {\n",
      "        \"name\": \"Karlskoga\"\n",
      "      },\n",
      "      \"geometry\": {\n",
      "        \"type\": \"Point\",\n",
      "        \"coordinates\": [\n",
      "          \"14.509668\",\n",
      "          \"59.327415\"\n",
      "        ]\n",
      "      }\n",
      "    },\n",
      "    {\n",
      "      \"type\": \"Feature\",\n",
      "      \"properties\": {\n",
      "        \"name\": \"Karlskrona\"\n",
      "      },\n",
      "      \"geometry\": {\n",
      "        \"type\": \"Point\",\n",
      "        \"coordinates\": [\n",
      "          \"15.5838\",\n",
      "          \"56.165085\"\n",
      "        ]\n",
      "      }\n",
      "    },\n",
      "    {\n",
      "      \"type\": \"Feature\",\n",
      "      \"properties\": {\n",
      "        \"name\": \"Karlstad\"\n",
      "      },\n",
      "      \"geometry\": {\n",
      "        \"type\": \"Point\",\n",
      "        \"coordinates\": [\n",
      "          \"13.489011\",\n",
      "          \"59.39068\"\n",
      "        ]\n",
      "      }\n",
      "    },\n",
      "    {\n",
      "      \"type\": \"Feature\",\n",
      "      \"properties\": {\n",
      "        \"name\": \"Katrineholm\"\n",
      "      },\n",
      "      \"geometry\": {\n",
      "        \"type\": \"Point\",\n",
      "        \"coordinates\": [\n",
      "          \"16.202029\",\n",
      "          \"58.993271\"\n",
      "        ]\n",
      "      }\n",
      "    },\n",
      "    {\n",
      "      \"type\": \"Feature\",\n",
      "      \"properties\": {\n",
      "        \"name\": \"Kil\"\n",
      "      },\n",
      "      \"geometry\": {\n",
      "        \"type\": \"Point\",\n",
      "        \"coordinates\": [\n",
      "          \"13.316269\",\n",
      "          \"59.503566\"\n",
      "        ]\n",
      "      }\n",
      "    },\n",
      "    {\n",
      "      \"type\": \"Feature\",\n",
      "      \"properties\": {\n",
      "        \"name\": \"Kinda/Ydre\"\n",
      "      },\n",
      "      \"geometry\": {\n",
      "        \"type\": \"Point\",\n",
      "        \"coordinates\": [\n",
      "          \"15.632099\",\n",
      "          \"57.987378\"\n",
      "        ]\n",
      "      }\n",
      "    },\n",
      "    {\n",
      "      \"type\": \"Feature\",\n",
      "      \"properties\": {\n",
      "        \"name\": \"Kiruna\"\n",
      "      },\n",
      "      \"geometry\": {\n",
      "        \"type\": \"Point\",\n",
      "        \"coordinates\": [\n",
      "          \"20.22071\",\n",
      "          \"67.856365\"\n",
      "        ]\n",
      "      }\n",
      "    },\n",
      "    {\n",
      "      \"type\": \"Feature\",\n",
      "      \"properties\": {\n",
      "        \"name\": \"Klara\"\n",
      "      },\n",
      "      \"geometry\": {\n",
      "        \"type\": \"Point\",\n",
      "        \"coordinates\": [\n",
      "          \"18.05709\",\n",
      "          \"59.330517\"\n",
      "        ]\n",
      "      }\n",
      "    },\n",
      "    {\n",
      "      \"type\": \"Feature\",\n",
      "      \"properties\": {\n",
      "        \"name\": \"Klippan\"\n",
      "      },\n",
      "      \"geometry\": {\n",
      "        \"type\": \"Point\",\n",
      "        \"coordinates\": [\n",
      "          \"13.125752\",\n",
      "          \"56.137565\"\n",
      "        ]\n",
      "      }\n",
      "    },\n",
      "    {\n",
      "      \"type\": \"Feature\",\n",
      "      \"properties\": {\n",
      "        \"name\": \"Knivsta\"\n",
      "      },\n",
      "      \"geometry\": {\n",
      "        \"type\": \"Point\",\n",
      "        \"coordinates\": [\n",
      "          \"17.785557\",\n",
      "          \"59.727964\"\n",
      "        ]\n",
      "      }\n",
      "    },\n",
      "    {\n",
      "      \"type\": \"Feature\",\n",
      "      \"properties\": {\n",
      "        \"name\": \"Kramfors\"\n",
      "      },\n",
      "      \"geometry\": {\n",
      "        \"type\": \"Point\",\n",
      "        \"coordinates\": [\n",
      "          \"17.775498\",\n",
      "          \"62.930104\"\n",
      "        ]\n",
      "      }\n",
      "    },\n",
      "    {\n",
      "      \"type\": \"Feature\",\n",
      "      \"properties\": {\n",
      "        \"name\": \"Kristianstad\"\n",
      "      },\n",
      "      \"geometry\": {\n",
      "        \"type\": \"Point\",\n",
      "        \"coordinates\": [\n",
      "          \"14.154072\",\n",
      "          \"56.037407\"\n",
      "        ]\n",
      "      }\n",
      "    },\n",
      "    {\n",
      "      \"type\": \"Feature\",\n",
      "      \"properties\": {\n",
      "        \"name\": \"Kristinehamn\"\n",
      "      },\n",
      "      \"geometry\": {\n",
      "        \"type\": \"Point\",\n",
      "        \"coordinates\": [\n",
      "          \"14.106952\",\n",
      "          \"59.312646\"\n",
      "        ]\n",
      "      }\n",
      "    },\n",
      "    {\n",
      "      \"type\": \"Feature\",\n",
      "      \"properties\": {\n",
      "        \"name\": \"Krokom\"\n",
      "      },\n",
      "      \"geometry\": {\n",
      "        \"type\": \"Point\",\n",
      "        \"coordinates\": [\n",
      "          \"14.447556\",\n",
      "          \"63.326822\"\n",
      "        ]\n",
      "      }\n",
      "    },\n",
      "    {\n",
      "      \"type\": \"Feature\",\n",
      "      \"properties\": {\n",
      "        \"name\": \"Kumla\"\n",
      "      },\n",
      "      \"geometry\": {\n",
      "        \"type\": \"Point\",\n",
      "        \"coordinates\": [\n",
      "          \"15.1424907\",\n",
      "          \"59.1281068\"\n",
      "        ]\n",
      "      }\n",
      "    },\n",
      "    {\n",
      "      \"type\": \"Feature\",\n",
      "      \"properties\": {\n",
      "        \"name\": \"Kungsbacka\"\n",
      "      },\n",
      "      \"geometry\": {\n",
      "        \"type\": \"Point\",\n",
      "        \"coordinates\": [\n",
      "          \"12.080835\",\n",
      "          \"57.485555\"\n",
      "        ]\n",
      "      }\n",
      "    },\n",
      "    {\n",
      "      \"type\": \"Feature\",\n",
      "      \"properties\": {\n",
      "        \"name\": \"Kungs\\u00f6r\"\n",
      "      },\n",
      "      \"geometry\": {\n",
      "        \"type\": \"Point\",\n",
      "        \"coordinates\": [\n",
      "          \"16.097583\",\n",
      "          \"59.422594\"\n",
      "        ]\n",
      "      }\n",
      "    },\n",
      "    {\n",
      "      \"type\": \"Feature\",\n",
      "      \"properties\": {\n",
      "        \"name\": \"Kung\\u00e4lv\"\n",
      "      },\n",
      "      \"geometry\": {\n",
      "        \"type\": \"Point\",\n",
      "        \"coordinates\": [\n",
      "          \"11.972248\",\n",
      "          \"57.870578\"\n",
      "        ]\n",
      "      }\n",
      "    },\n",
      "    {\n",
      "      \"type\": \"Feature\",\n",
      "      \"properties\": {\n",
      "        \"name\": \"K\\u00e4vlinge\"\n",
      "      },\n",
      "      \"geometry\": {\n",
      "        \"type\": \"Point\",\n",
      "        \"coordinates\": [\n",
      "          \"13.115392\",\n",
      "          \"55.796782\"\n",
      "        ]\n",
      "      }\n",
      "    },\n",
      "    {\n",
      "      \"type\": \"Feature\",\n",
      "      \"properties\": {\n",
      "        \"name\": \"K\\u00f6ping\"\n",
      "      },\n",
      "      \"geometry\": {\n",
      "        \"type\": \"Point\",\n",
      "        \"coordinates\": [\n",
      "          \"15.966556\",\n",
      "          \"59.517207\"\n",
      "        ]\n",
      "      }\n",
      "    },\n",
      "    {\n",
      "      \"type\": \"Feature\",\n",
      "      \"properties\": {\n",
      "        \"name\": \"Laholm\"\n",
      "      },\n",
      "      \"geometry\": {\n",
      "        \"type\": \"Point\",\n",
      "        \"coordinates\": [\n",
      "          \"13.050235\",\n",
      "          \"56.513205\"\n",
      "        ]\n",
      "      }\n",
      "    },\n",
      "    {\n",
      "      \"type\": \"Feature\",\n",
      "      \"properties\": {\n",
      "        \"name\": \"Landskrona\"\n",
      "      },\n",
      "      \"geometry\": {\n",
      "        \"type\": \"Point\",\n",
      "        \"coordinates\": [\n",
      "          \"12.83006\",\n",
      "          \"55.869568\"\n",
      "        ]\n",
      "      }\n",
      "    },\n",
      "    {\n",
      "      \"type\": \"Feature\",\n",
      "      \"properties\": {\n",
      "        \"name\": \"Lax\\u00e5\"\n",
      "      },\n",
      "      \"geometry\": {\n",
      "        \"type\": \"Point\",\n",
      "        \"coordinates\": [\n",
      "          \"14.617326\",\n",
      "          \"58.989128\"\n",
      "        ]\n",
      "      }\n",
      "    },\n",
      "    {\n",
      "      \"type\": \"Feature\",\n",
      "      \"properties\": {\n",
      "        \"name\": \"Leksand\"\n",
      "      },\n",
      "      \"geometry\": {\n",
      "        \"type\": \"Point\",\n",
      "        \"coordinates\": [\n",
      "          \"14.998055\",\n",
      "          \"60.73223\"\n",
      "        ]\n",
      "      }\n",
      "    },\n",
      "    {\n",
      "      \"type\": \"Feature\",\n",
      "      \"properties\": {\n",
      "        \"name\": \"Lerum\"\n",
      "      },\n",
      "      \"geometry\": {\n",
      "        \"type\": \"Point\",\n",
      "        \"coordinates\": [\n",
      "          \"12.265073\",\n",
      "          \"57.768456\"\n",
      "        ]\n",
      "      }\n",
      "    },\n",
      "    {\n",
      "      \"type\": \"Feature\",\n",
      "      \"properties\": {\n",
      "        \"name\": \"Lessebo\"\n",
      "      },\n",
      "      \"geometry\": {\n",
      "        \"type\": \"Point\",\n",
      "        \"coordinates\": [\n",
      "          \"15.269421\",\n",
      "          \"56.751387\"\n",
      "        ]\n",
      "      }\n",
      "    },\n",
      "    {\n",
      "      \"type\": \"Feature\",\n",
      "      \"properties\": {\n",
      "        \"name\": \"Lidk\\u00f6ping\"\n",
      "      },\n",
      "      \"geometry\": {\n",
      "        \"type\": \"Point\",\n",
      "        \"coordinates\": [\n",
      "          \"13.155002\",\n",
      "          \"58.50214\"\n",
      "        ]\n",
      "      }\n",
      "    },\n",
      "    {\n",
      "      \"type\": \"Feature\",\n",
      "      \"properties\": {\n",
      "        \"name\": \"Lindesberg\"\n",
      "      },\n",
      "      \"geometry\": {\n",
      "        \"type\": \"Point\",\n",
      "        \"coordinates\": [\n",
      "          \"15.227791\",\n",
      "          \"59.592221\"\n",
      "        ]\n",
      "      }\n",
      "    },\n",
      "    {\n",
      "      \"type\": \"Feature\",\n",
      "      \"properties\": {\n",
      "        \"name\": \"Link\\u00f6ping\"\n",
      "      },\n",
      "      \"geometry\": {\n",
      "        \"type\": \"Point\",\n",
      "        \"coordinates\": [\n",
      "          \"15.618866\",\n",
      "          \"58.396756\"\n",
      "        ]\n",
      "      }\n",
      "    },\n",
      "    {\n",
      "      \"type\": \"Feature\",\n",
      "      \"properties\": {\n",
      "        \"name\": \"Ljungby\"\n",
      "      },\n",
      "      \"geometry\": {\n",
      "        \"type\": \"Point\",\n",
      "        \"coordinates\": [\n",
      "          \"13.937252\",\n",
      "          \"56.834814\"\n",
      "        ]\n",
      "      }\n",
      "    },\n",
      "    {\n",
      "      \"type\": \"Feature\",\n",
      "      \"properties\": {\n",
      "        \"name\": \"Ljusdal\"\n",
      "      },\n",
      "      \"geometry\": {\n",
      "        \"type\": \"Point\",\n",
      "        \"coordinates\": [\n",
      "          \"16.101895\",\n",
      "          \"61.8276658\"\n",
      "        ]\n",
      "      }\n",
      "    },\n",
      "    {\n",
      "      \"type\": \"Feature\",\n",
      "      \"properties\": {\n",
      "        \"name\": \"Ljusnarsberg\"\n",
      "      },\n",
      "      \"geometry\": {\n",
      "        \"type\": \"Point\",\n",
      "        \"coordinates\": [\n",
      "          \"14.998717\",\n",
      "          \"59.876035\"\n",
      "        ]\n",
      "      }\n",
      "    },\n",
      "    {\n",
      "      \"type\": \"Feature\",\n",
      "      \"properties\": {\n",
      "        \"name\": \"Lomma\"\n",
      "      },\n",
      "      \"geometry\": {\n",
      "        \"type\": \"Point\",\n",
      "        \"coordinates\": [\n",
      "          \"13.072137\",\n",
      "          \"55.674818\"\n",
      "        ]\n",
      "      }\n",
      "    },\n",
      "    {\n",
      "      \"type\": \"Feature\",\n",
      "      \"properties\": {\n",
      "        \"name\": \"Ludvika \"\n",
      "      },\n",
      "      \"geometry\": {\n",
      "        \"type\": \"Point\",\n",
      "        \"coordinates\": [\n",
      "          \"15.187602\",\n",
      "          \"60.1483\"\n",
      "        ]\n",
      "      }\n",
      "    },\n",
      "    {\n",
      "      \"type\": \"Feature\",\n",
      "      \"properties\": {\n",
      "        \"name\": \"Lule\\u00e5\"\n",
      "      },\n",
      "      \"geometry\": {\n",
      "        \"type\": \"Point\",\n",
      "        \"coordinates\": [\n",
      "          \"22.160199\",\n",
      "          \"65.5861\"\n",
      "        ]\n",
      "      }\n",
      "    },\n",
      "    {\n",
      "      \"type\": \"Feature\",\n",
      "      \"properties\": {\n",
      "        \"name\": \"Lund\"\n",
      "      },\n",
      "      \"geometry\": {\n",
      "        \"type\": \"Point\",\n",
      "        \"coordinates\": [\n",
      "          \"13.18353\",\n",
      "          \"55.704204\"\n",
      "        ]\n",
      "      }\n",
      "    },\n",
      "    {\n",
      "      \"type\": \"Feature\",\n",
      "      \"properties\": {\n",
      "        \"name\": \"Lycksele\"\n",
      "      },\n",
      "      \"geometry\": {\n",
      "        \"type\": \"Point\",\n",
      "        \"coordinates\": [\n",
      "          \"18.679252\",\n",
      "          \"64.594354\"\n",
      "        ]\n",
      "      }\n",
      "    },\n",
      "    {\n",
      "      \"type\": \"Feature\",\n",
      "      \"properties\": {\n",
      "        \"name\": \"Lysekil\"\n",
      "      },\n",
      "      \"geometry\": {\n",
      "        \"type\": \"Point\",\n",
      "        \"coordinates\": [\n",
      "          \"11.442036\",\n",
      "          \"58.276311\"\n",
      "        ]\n",
      "      }\n",
      "    },\n",
      "    {\n",
      "      \"type\": \"Feature\",\n",
      "      \"properties\": {\n",
      "        \"name\": \"Malm\\u00f6 Drottninggatan\"\n",
      "      },\n",
      "      \"geometry\": {\n",
      "        \"type\": \"Point\",\n",
      "        \"coordinates\": [\n",
      "          \"13.011065\",\n",
      "          \"55.602845\"\n",
      "        ]\n",
      "      }\n",
      "    },\n",
      "    {\n",
      "      \"type\": \"Feature\",\n",
      "      \"properties\": {\n",
      "        \"name\": \"Malm\\u00f6 hittegods/beslag\"\n",
      "      },\n",
      "      \"geometry\": {\n",
      "        \"type\": \"Point\",\n",
      "        \"coordinates\": [\n",
      "          \"13.041993\",\n",
      "          \"55.622716\"\n",
      "        ]\n",
      "      }\n",
      "    },\n",
      "    {\n",
      "      \"type\": \"Feature\",\n",
      "      \"properties\": {\n",
      "        \"name\": \"Malm\\u00f6 Porslinsgatan\"\n",
      "      },\n",
      "      \"geometry\": {\n",
      "        \"type\": \"Point\",\n",
      "        \"coordinates\": [\n",
      "          \"13.015432\",\n",
      "          \"55.606157\"\n",
      "        ]\n",
      "      }\n",
      "    },\n",
      "    {\n",
      "      \"type\": \"Feature\",\n",
      "      \"properties\": {\n",
      "        \"name\": \"Malm\\u00f6 Roseng\\u00e5rd\"\n",
      "      },\n",
      "      \"geometry\": {\n",
      "        \"type\": \"Point\",\n",
      "        \"coordinates\": [\n",
      "          \"13.050536\",\n",
      "          \"55.587067\"\n",
      "        ]\n",
      "      }\n",
      "    },\n",
      "    {\n",
      "      \"type\": \"Feature\",\n",
      "      \"properties\": {\n",
      "        \"name\": \"Malung\"\n",
      "      },\n",
      "      \"geometry\": {\n",
      "        \"type\": \"Point\",\n",
      "        \"coordinates\": [\n",
      "          \"13.717502\",\n",
      "          \"60.683521\"\n",
      "        ]\n",
      "      }\n",
      "    },\n",
      "    {\n",
      "      \"type\": \"Feature\",\n",
      "      \"properties\": {\n",
      "        \"name\": \"Mal\\u00e5\"\n",
      "      },\n",
      "      \"geometry\": {\n",
      "        \"type\": \"Point\",\n",
      "        \"coordinates\": [\n",
      "          \"18.742222\",\n",
      "          \"65.182865\"\n",
      "        ]\n",
      "      }\n",
      "    },\n",
      "    {\n",
      "      \"type\": \"Feature\",\n",
      "      \"properties\": {\n",
      "        \"name\": \"Mariestad\"\n",
      "      },\n",
      "      \"geometry\": {\n",
      "        \"type\": \"Point\",\n",
      "        \"coordinates\": [\n",
      "          \"13.812818\",\n",
      "          \"58.708971\"\n",
      "        ]\n",
      "      }\n",
      "    },\n",
      "    {\n",
      "      \"type\": \"Feature\",\n",
      "      \"properties\": {\n",
      "        \"name\": \"Mark\"\n",
      "      },\n",
      "      \"geometry\": {\n",
      "        \"type\": \"Point\",\n",
      "        \"coordinates\": [\n",
      "          \"12.698547\",\n",
      "          \"57.50999\"\n",
      "        ]\n",
      "      }\n",
      "    },\n",
      "    {\n",
      "      \"type\": \"Feature\",\n",
      "      \"properties\": {\n",
      "        \"name\": \"Mellerud\"\n",
      "      },\n",
      "      \"geometry\": {\n",
      "        \"type\": \"Point\",\n",
      "        \"coordinates\": [\n",
      "          \"12.459995\",\n",
      "          \"58.698524\"\n",
      "        ]\n",
      "      }\n",
      "    },\n",
      "    {\n",
      "      \"type\": \"Feature\",\n",
      "      \"properties\": {\n",
      "        \"name\": \"Mj\\u00f6lby\"\n",
      "      },\n",
      "      \"geometry\": {\n",
      "        \"type\": \"Point\",\n",
      "        \"coordinates\": [\n",
      "          \"15.125935\",\n",
      "          \"58.327416\"\n",
      "        ]\n",
      "      }\n",
      "    },\n",
      "    {\n",
      "      \"type\": \"Feature\",\n",
      "      \"properties\": {\n",
      "        \"name\": \"Mobila kontoret Fyrbodal\"\n",
      "      },\n",
      "      \"geometry\": {\n",
      "        \"type\": \"Point\",\n",
      "        \"coordinates\": [\n",
      "          \"0\",\n",
      "          \"0\"\n",
      "        ]\n",
      "      }\n",
      "    },\n",
      "    {\n",
      "      \"type\": \"Feature\",\n",
      "      \"properties\": {\n",
      "        \"name\": \"Mobila kontoret \\u00c4lvsborg\"\n",
      "      },\n",
      "      \"geometry\": {\n",
      "        \"type\": \"Point\",\n",
      "        \"coordinates\": [\n",
      "          \"12.530556\",\n",
      "          \"58.121111\"\n",
      "        ]\n",
      "      }\n",
      "    },\n",
      "    {\n",
      "      \"type\": \"Feature\",\n",
      "      \"properties\": {\n",
      "        \"name\": \"Mobila kontoret \\u00f6stra Skaraborg\"\n",
      "      },\n",
      "      \"geometry\": {\n",
      "        \"type\": \"Point\",\n",
      "        \"coordinates\": [\n",
      "          \"0\",\n",
      "          \"0\"\n",
      "        ]\n",
      "      }\n",
      "    },\n",
      "    {\n",
      "      \"type\": \"Feature\",\n",
      "      \"properties\": {\n",
      "        \"name\": \"Mobila poliskontoret i Kalmar och Kronobergs l\\u00e4n\"\n",
      "      },\n",
      "      \"geometry\": {\n",
      "        \"type\": \"Point\",\n",
      "        \"coordinates\": [\n",
      "          \"15.538553\",\n",
      "          \"56.630072\"\n",
      "        ]\n",
      "      }\n",
      "    },\n",
      "    {\n",
      "      \"type\": \"Feature\",\n",
      "      \"properties\": {\n",
      "        \"name\": \"Mobila poliskontoret i Kalmar och Kronobergs l\\u00e4n\"\n",
      "      },\n",
      "      \"geometry\": {\n",
      "        \"type\": \"Point\",\n",
      "        \"coordinates\": [\n",
      "          \"15.270459\",\n",
      "          \"56.751162\"\n",
      "        ]\n",
      "      }\n",
      "    },\n",
      "    {\n",
      "      \"type\": \"Feature\",\n",
      "      \"properties\": {\n",
      "        \"name\": \"Mobila poliskontoret i lokalpolisomr\\u00e5de Klippan\"\n",
      "      },\n",
      "      \"geometry\": {\n",
      "        \"type\": \"Point\",\n",
      "        \"coordinates\": [\n",
      "          \"13.125752\",\n",
      "          \"56.137565\"\n",
      "        ]\n",
      "      }\n",
      "    },\n",
      "    {\n",
      "      \"type\": \"Feature\",\n",
      "      \"properties\": {\n",
      "        \"name\": \"Mobila poliskontoret i polisomr\\u00e5de Blekinge nord\\u00f6stra Sk\\u00e5ne\"\n",
      "      },\n",
      "      \"geometry\": {\n",
      "        \"type\": \"Point\",\n",
      "        \"coordinates\": [\n",
      "          \"14.153985\",\n",
      "          \"56.037572\"\n",
      "        ]\n",
      "      }\n",
      "    },\n",
      "    {\n",
      "      \"type\": \"Feature\",\n",
      "      \"properties\": {\n",
      "        \"name\": \"Mobila poliskontoret i polisomr\\u00e5de Blekinge nord\\u00f6stra Sk\\u00e5ne\"\n",
      "      },\n",
      "      \"geometry\": {\n",
      "        \"type\": \"Point\",\n",
      "        \"coordinates\": [\n",
      "          \"15.2760229\",\n",
      "          \"56.210434\"\n",
      "        ]\n",
      "      }\n",
      "    },\n",
      "    {\n",
      "      \"type\": \"Feature\",\n",
      "      \"properties\": {\n",
      "        \"name\": \"Mora\"\n",
      "      },\n",
      "      \"geometry\": {\n",
      "        \"type\": \"Point\",\n",
      "        \"coordinates\": [\n",
      "          \"14.536855\",\n",
      "          \"61.005612\"\n",
      "        ]\n",
      "      }\n",
      "    },\n",
      "    {\n",
      "      \"type\": \"Feature\",\n",
      "      \"properties\": {\n",
      "        \"name\": \"Motala\"\n",
      "      },\n",
      "      \"geometry\": {\n",
      "        \"type\": \"Point\",\n",
      "        \"coordinates\": [\n",
      "          \"15.046239\",\n",
      "          \"58.537724\"\n",
      "        ]\n",
      "      }\n",
      "    },\n",
      "    {\n",
      "      \"type\": \"Feature\",\n",
      "      \"properties\": {\n",
      "        \"name\": \"Munkfors\"\n",
      "      },\n",
      "      \"geometry\": {\n",
      "        \"type\": \"Point\",\n",
      "        \"coordinates\": [\n",
      "          \"13.545839\",\n",
      "          \"59.835599\"\n",
      "        ]\n",
      "      }\n",
      "    },\n",
      "    {\n",
      "      \"type\": \"Feature\",\n",
      "      \"properties\": {\n",
      "        \"name\": \"M\\u00f6lndal\"\n",
      "      },\n",
      "      \"geometry\": {\n",
      "        \"type\": \"Point\",\n",
      "        \"coordinates\": [\n",
      "          \"12.019758\",\n",
      "          \"57.659398\"\n",
      "        ]\n",
      "      }\n",
      "    },\n",
      "    {\n",
      "      \"type\": \"Feature\",\n",
      "      \"properties\": {\n",
      "        \"name\": \"M\\u00f6lnlycke\"\n",
      "      },\n",
      "      \"geometry\": {\n",
      "        \"type\": \"Point\",\n",
      "        \"coordinates\": [\n",
      "          \"12.1146302\",\n",
      "          \"57.6590691\"\n",
      "        ]\n",
      "      }\n",
      "    },\n",
      "    {\n",
      "      \"type\": \"Feature\",\n",
      "      \"properties\": {\n",
      "        \"name\": \"M\\u00f6nster\\u00e5s\"\n",
      "      },\n",
      "      \"geometry\": {\n",
      "        \"type\": \"Point\",\n",
      "        \"coordinates\": [\n",
      "          \"16.445039\",\n",
      "          \"57.041343\"\n",
      "        ]\n",
      "      }\n",
      "    },\n",
      "    {\n",
      "      \"type\": \"Feature\",\n",
      "      \"properties\": {\n",
      "        \"name\": \"Nacka\"\n",
      "      },\n",
      "      \"geometry\": {\n",
      "        \"type\": \"Point\",\n",
      "        \"coordinates\": [\n",
      "          \"18.164518\",\n",
      "          \"59.314907\"\n",
      "        ]\n",
      "      }\n",
      "    },\n",
      "    {\n",
      "      \"type\": \"Feature\",\n",
      "      \"properties\": {\n",
      "        \"name\": \"Nora\"\n",
      "      },\n",
      "      \"geometry\": {\n",
      "        \"type\": \"Point\",\n",
      "        \"coordinates\": [\n",
      "          \"15.036672\",\n",
      "          \"59.520672\"\n",
      "        ]\n",
      "      }\n",
      "    },\n",
      "    {\n",
      "      \"type\": \"Feature\",\n",
      "      \"properties\": {\n",
      "        \"name\": \"Norberg\"\n",
      "      },\n",
      "      \"geometry\": {\n",
      "        \"type\": \"Point\",\n",
      "        \"coordinates\": [\n",
      "          \"15.922239\",\n",
      "          \"60.064318\"\n",
      "        ]\n",
      "      }\n",
      "    },\n",
      "    {\n",
      "      \"type\": \"Feature\",\n",
      "      \"properties\": {\n",
      "        \"name\": \"Nordanstig - Bergsj\\u00f6\"\n",
      "      },\n",
      "      \"geometry\": {\n",
      "        \"type\": \"Point\",\n",
      "        \"coordinates\": [\n",
      "          \"17.060067\",\n",
      "          \"61.980603\"\n",
      "        ]\n",
      "      }\n",
      "    },\n",
      "    {\n",
      "      \"type\": \"Feature\",\n",
      "      \"properties\": {\n",
      "        \"name\": \"Nordmaling\"\n",
      "      },\n",
      "      \"geometry\": {\n",
      "        \"type\": \"Point\",\n",
      "        \"coordinates\": [\n",
      "          \"19.5\",\n",
      "          \"63.567966\"\n",
      "        ]\n",
      "      }\n",
      "    },\n",
      "    {\n",
      "      \"type\": \"Feature\",\n",
      "      \"properties\": {\n",
      "        \"name\": \"Norrk\\u00f6ping\"\n",
      "      },\n",
      "      \"geometry\": {\n",
      "        \"type\": \"Point\",\n",
      "        \"coordinates\": [\n",
      "          \"16.174239\",\n",
      "          \"58.595566\"\n",
      "        ]\n",
      "      }\n",
      "    },\n",
      "    {\n",
      "      \"type\": \"Feature\",\n",
      "      \"properties\": {\n",
      "        \"name\": \"Norrt\\u00e4lje \"\n",
      "      },\n",
      "      \"geometry\": {\n",
      "        \"type\": \"Point\",\n",
      "        \"coordinates\": [\n",
      "          \"18.697308\",\n",
      "          \"59.756701\"\n",
      "        ]\n",
      "      }\n",
      "    },\n",
      "    {\n",
      "      \"type\": \"Feature\",\n",
      "      \"properties\": {\n",
      "        \"name\": \"Norsj\\u00f6\"\n",
      "      },\n",
      "      \"geometry\": {\n",
      "        \"type\": \"Point\",\n",
      "        \"coordinates\": [\n",
      "          \"19.484497\",\n",
      "          \"64.913451\"\n",
      "        ]\n",
      "      }\n",
      "    },\n",
      "    {\n",
      "      \"type\": \"Feature\",\n",
      "      \"properties\": {\n",
      "        \"name\": \"Nybro\"\n",
      "      },\n",
      "      \"geometry\": {\n",
      "        \"type\": \"Point\",\n",
      "        \"coordinates\": [\n",
      "          \"15.910707\",\n",
      "          \"56.745436\"\n",
      "        ]\n",
      "      }\n",
      "    },\n",
      "    {\n",
      "      \"type\": \"Feature\",\n",
      "      \"properties\": {\n",
      "        \"name\": \"Nyk\\u00f6ping\"\n",
      "      },\n",
      "      \"geometry\": {\n",
      "        \"type\": \"Point\",\n",
      "        \"coordinates\": [\n",
      "          \"17.015824\",\n",
      "          \"58.749382\"\n",
      "        ]\n",
      "      }\n",
      "    },\n",
      "    {\n",
      "      \"type\": \"Feature\",\n",
      "      \"properties\": {\n",
      "        \"name\": \"N\\u00e4ssj\\u00f6\"\n",
      "      },\n",
      "      \"geometry\": {\n",
      "        \"type\": \"Point\",\n",
      "        \"coordinates\": [\n",
      "          \"14.699045\",\n",
      "          \"57.649617\"\n",
      "        ]\n",
      "      }\n",
      "    },\n",
      "    {\n",
      "      \"type\": \"Feature\",\n",
      "      \"properties\": {\n",
      "        \"name\": \"Ockelbo\"\n",
      "      },\n",
      "      \"geometry\": {\n",
      "        \"type\": \"Point\",\n",
      "        \"coordinates\": [\n",
      "          \"16.716791\",\n",
      "          \"60.890612\"\n",
      "        ]\n",
      "      }\n",
      "    },\n",
      "    {\n",
      "      \"type\": \"Feature\",\n",
      "      \"properties\": {\n",
      "        \"name\": \"Orsa\"\n",
      "      },\n",
      "      \"geometry\": {\n",
      "        \"type\": \"Point\",\n",
      "        \"coordinates\": [\n",
      "          \"14.611938\",\n",
      "          \"61.120585\"\n",
      "        ]\n",
      "      }\n",
      "    },\n",
      "    {\n",
      "      \"type\": \"Feature\",\n",
      "      \"properties\": {\n",
      "        \"name\": \"Oskarshamn\"\n",
      "      },\n",
      "      \"geometry\": {\n",
      "        \"type\": \"Point\",\n",
      "        \"coordinates\": [\n",
      "          \"16.45004\",\n",
      "          \"57.264954\"\n",
      "        ]\n",
      "      }\n",
      "    },\n",
      "    {\n",
      "      \"type\": \"Feature\",\n",
      "      \"properties\": {\n",
      "        \"name\": \"Ovan\\u00e5ker - Edsbyn\"\n",
      "      },\n",
      "      \"geometry\": {\n",
      "        \"type\": \"Point\",\n",
      "        \"coordinates\": [\n",
      "          \"15.817505\",\n",
      "          \"61.377322\"\n",
      "        ]\n",
      "      }\n",
      "    },\n",
      "    {\n",
      "      \"type\": \"Feature\",\n",
      "      \"properties\": {\n",
      "        \"name\": \"Oxel\\u00f6sund\"\n",
      "      },\n",
      "      \"geometry\": {\n",
      "        \"type\": \"Point\",\n",
      "        \"coordinates\": [\n",
      "          \"17.106963\",\n",
      "          \"58.671354\"\n",
      "        ]\n",
      "      }\n",
      "    },\n",
      "    {\n",
      "      \"type\": \"Feature\",\n",
      "      \"properties\": {\n",
      "        \"name\": \"Pajala\"\n",
      "      },\n",
      "      \"geometry\": {\n",
      "        \"type\": \"Point\",\n",
      "        \"coordinates\": [\n",
      "          \"23.365942\",\n",
      "          \"67.21346\"\n",
      "        ]\n",
      "      }\n",
      "    },\n",
      "    {\n",
      "      \"type\": \"Feature\",\n",
      "      \"properties\": {\n",
      "        \"name\": \"Partille\"\n",
      "      },\n",
      "      \"geometry\": {\n",
      "        \"type\": \"Point\",\n",
      "        \"coordinates\": [\n",
      "          \"12.102153\",\n",
      "          \"57.739064\"\n",
      "        ]\n",
      "      }\n",
      "    },\n",
      "    {\n",
      "      \"type\": \"Feature\",\n",
      "      \"properties\": {\n",
      "        \"name\": \"Perstorp\"\n",
      "      },\n",
      "      \"geometry\": {\n",
      "        \"type\": \"Point\",\n",
      "        \"coordinates\": [\n",
      "          \"13.396545\",\n",
      "          \"56.137991\"\n",
      "        ]\n",
      "      }\n",
      "    },\n",
      "    {\n",
      "      \"type\": \"Feature\",\n",
      "      \"properties\": {\n",
      "        \"name\": \"Pite\\u00e5\"\n",
      "      },\n",
      "      \"geometry\": {\n",
      "        \"type\": \"Point\",\n",
      "        \"coordinates\": [\n",
      "          \"21.465651\",\n",
      "          \"65.31648\"\n",
      "        ]\n",
      "      }\n",
      "    },\n",
      "    {\n",
      "      \"type\": \"Feature\",\n",
      "      \"properties\": {\n",
      "        \"name\": \"Robertsfors\"\n",
      "      },\n",
      "      \"geometry\": {\n",
      "        \"type\": \"Point\",\n",
      "        \"coordinates\": [\n",
      "          \"20.847385\",\n",
      "          \"64.193529\"\n",
      "        ]\n",
      "      }\n",
      "    },\n",
      "    {\n",
      "      \"type\": \"Feature\",\n",
      "      \"properties\": {\n",
      "        \"name\": \"Ronneby\"\n",
      "      },\n",
      "      \"geometry\": {\n",
      "        \"type\": \"Point\",\n",
      "        \"coordinates\": [\n",
      "          \"15.2738\",\n",
      "          \"56.213557\"\n",
      "        ]\n",
      "      }\n",
      "    },\n",
      "    {\n",
      "      \"type\": \"Feature\",\n",
      "      \"properties\": {\n",
      "        \"name\": \"R\\u00e4ttvik\"\n",
      "      },\n",
      "      \"geometry\": {\n",
      "        \"type\": \"Point\",\n",
      "        \"coordinates\": [\n",
      "          \"15.119315\",\n",
      "          \"60.886756\"\n",
      "        ]\n",
      "      }\n",
      "    },\n",
      "    {\n",
      "      \"type\": \"Feature\",\n",
      "      \"properties\": {\n",
      "        \"name\": \"Sala\"\n",
      "      },\n",
      "      \"geometry\": {\n",
      "        \"type\": \"Point\",\n",
      "        \"coordinates\": [\n",
      "          \"16.606581\",\n",
      "          \"59.91911\"\n",
      "        ]\n",
      "      }\n",
      "    },\n",
      "    {\n",
      "      \"type\": \"Feature\",\n",
      "      \"properties\": {\n",
      "        \"name\": \"Sandviken\"\n",
      "      },\n",
      "      \"geometry\": {\n",
      "        \"type\": \"Point\",\n",
      "        \"coordinates\": [\n",
      "          \"16.779447\",\n",
      "          \"60.621891\"\n",
      "        ]\n",
      "      }\n",
      "    },\n",
      "    {\n",
      "      \"type\": \"Feature\",\n",
      "      \"properties\": {\n",
      "        \"name\": \"Simrishamn\"\n",
      "      },\n",
      "      \"geometry\": {\n",
      "        \"type\": \"Point\",\n",
      "        \"coordinates\": [\n",
      "          \"14.351678\",\n",
      "          \"55.554463\"\n",
      "        ]\n",
      "      }\n",
      "    },\n",
      "    {\n",
      "      \"type\": \"Feature\",\n",
      "      \"properties\": {\n",
      "        \"name\": \"Sj\\u00f6bo\"\n",
      "      },\n",
      "      \"geometry\": {\n",
      "        \"type\": \"Point\",\n",
      "        \"coordinates\": [\n",
      "          \"13.709213\",\n",
      "          \"55.632385\"\n",
      "        ]\n",
      "      }\n",
      "    },\n",
      "    {\n",
      "      \"type\": \"Feature\",\n",
      "      \"properties\": {\n",
      "        \"name\": \"Skara\"\n",
      "      },\n",
      "      \"geometry\": {\n",
      "        \"type\": \"Point\",\n",
      "        \"coordinates\": [\n",
      "          \"13.440924\",\n",
      "          \"58.384982\"\n",
      "        ]\n",
      "      }\n",
      "    },\n",
      "    {\n",
      "      \"type\": \"Feature\",\n",
      "      \"properties\": {\n",
      "        \"name\": \"Skavsta\"\n",
      "      },\n",
      "      \"geometry\": {\n",
      "        \"type\": \"Point\",\n",
      "        \"coordinates\": [\n",
      "          \"16.923055\",\n",
      "          \"58.78341\"\n",
      "        ]\n",
      "      }\n",
      "    },\n",
      "    {\n",
      "      \"type\": \"Feature\",\n",
      "      \"properties\": {\n",
      "        \"name\": \"Skelleftehamn\"\n",
      "      },\n",
      "      \"geometry\": {\n",
      "        \"type\": \"Point\",\n",
      "        \"coordinates\": [\n",
      "          \"21.23783\",\n",
      "          \"64.688025\"\n",
      "        ]\n",
      "      }\n",
      "    },\n",
      "    {\n",
      "      \"type\": \"Feature\",\n",
      "      \"properties\": {\n",
      "        \"name\": \"Skellefte\\u00e5\"\n",
      "      },\n",
      "      \"geometry\": {\n",
      "        \"type\": \"Point\",\n",
      "        \"coordinates\": [\n",
      "          \"20.95886\",\n",
      "          \"64.74848\"\n",
      "        ]\n",
      "      }\n",
      "    },\n",
      "    {\n",
      "      \"type\": \"Feature\",\n",
      "      \"properties\": {\n",
      "        \"name\": \"Skurup\"\n",
      "      },\n",
      "      \"geometry\": {\n",
      "        \"type\": \"Point\",\n",
      "        \"coordinates\": [\n",
      "          \"13.503588\",\n",
      "          \"55.47911\"\n",
      "        ]\n",
      "      }\n",
      "    },\n",
      "    {\n",
      "      \"type\": \"Feature\",\n",
      "      \"properties\": {\n",
      "        \"name\": \"Skutsk\\u00e4r\"\n",
      "      },\n",
      "      \"geometry\": {\n",
      "        \"type\": \"Point\",\n",
      "        \"coordinates\": [\n",
      "          \"17.414337\",\n",
      "          \"60.626215\"\n",
      "        ]\n",
      "      }\n",
      "    },\n",
      "    {\n",
      "      \"type\": \"Feature\",\n",
      "      \"properties\": {\n",
      "        \"name\": \"Sk\\u00e4rholmen\"\n",
      "      },\n",
      "      \"geometry\": {\n",
      "        \"type\": \"Point\",\n",
      "        \"coordinates\": [\n",
      "          \"17.90706\",\n",
      "          \"59.273417\"\n",
      "        ]\n",
      "      }\n",
      "    },\n",
      "    {\n",
      "      \"type\": \"Feature\",\n",
      "      \"properties\": {\n",
      "        \"name\": \"Sk\\u00f6vde\"\n",
      "      },\n",
      "      \"geometry\": {\n",
      "        \"type\": \"Point\",\n",
      "        \"coordinates\": [\n",
      "          \"13.847876\",\n",
      "          \"58.386664\"\n",
      "        ]\n",
      "      }\n",
      "    },\n",
      "    {\n",
      "      \"type\": \"Feature\",\n",
      "      \"properties\": {\n",
      "        \"name\": \"Smedjebacken\"\n",
      "      },\n",
      "      \"geometry\": {\n",
      "        \"type\": \"Point\",\n",
      "        \"coordinates\": [\n",
      "          \"15.414532\",\n",
      "          \"60.143241\"\n",
      "        ]\n",
      "      }\n",
      "    },\n",
      "    {\n",
      "      \"type\": \"Feature\",\n",
      "      \"properties\": {\n",
      "        \"name\": \"Sollefte\\u00e5\"\n",
      "      },\n",
      "      \"geometry\": {\n",
      "        \"type\": \"Point\",\n",
      "        \"coordinates\": [\n",
      "          \"17.28717\",\n",
      "          \"63.169085\"\n",
      "        ]\n",
      "      }\n",
      "    },\n",
      "    {\n",
      "      \"type\": \"Feature\",\n",
      "      \"properties\": {\n",
      "        \"name\": \"Sollentuna \"\n",
      "      },\n",
      "      \"geometry\": {\n",
      "        \"type\": \"Point\",\n",
      "        \"coordinates\": [\n",
      "          \"17.949564\",\n",
      "          \"59.426257\"\n",
      "        ]\n",
      "      }\n",
      "    },\n",
      "    {\n",
      "      \"type\": \"Feature\",\n",
      "      \"properties\": {\n",
      "        \"name\": \"Solna\"\n",
      "      },\n",
      "      \"geometry\": {\n",
      "        \"type\": \"Point\",\n",
      "        \"coordinates\": [\n",
      "          \"18.001389\",\n",
      "          \"59.355097\"\n",
      "        ]\n",
      "      }\n",
      "    },\n",
      "    {\n",
      "      \"type\": \"Feature\",\n",
      "      \"properties\": {\n",
      "        \"name\": \"Sorsele\"\n",
      "      },\n",
      "      \"geometry\": {\n",
      "        \"type\": \"Point\",\n",
      "        \"coordinates\": [\n",
      "          \"17.539965\",\n",
      "          \"65.53494\"\n",
      "        ]\n",
      "      }\n",
      "    },\n",
      "    {\n",
      "      \"type\": \"Feature\",\n",
      "      \"properties\": {\n",
      "        \"name\": \"Staffanstorp\"\n",
      "      },\n",
      "      \"geometry\": {\n",
      "        \"type\": \"Point\",\n",
      "        \"coordinates\": [\n",
      "          \"13.207598\",\n",
      "          \"55.644006\"\n",
      "        ]\n",
      "      }\n",
      "    },\n",
      "    {\n",
      "      \"type\": \"Feature\",\n",
      "      \"properties\": {\n",
      "        \"name\": \"Stenungsund\"\n",
      "      },\n",
      "      \"geometry\": {\n",
      "        \"type\": \"Point\",\n",
      "        \"coordinates\": [\n",
      "          \"11.816805\",\n",
      "          \"58.06738\"\n",
      "        ]\n",
      "      }\n",
      "    },\n",
      "    {\n",
      "      \"type\": \"Feature\",\n",
      "      \"properties\": {\n",
      "        \"name\": \"Stockholms City Norrmalm\"\n",
      "      },\n",
      "      \"geometry\": {\n",
      "        \"type\": \"Point\",\n",
      "        \"coordinates\": [\n",
      "          \"18.038768\",\n",
      "          \"59.332051\"\n",
      "        ]\n",
      "      }\n",
      "    },\n",
      "    {\n",
      "      \"type\": \"Feature\",\n",
      "      \"properties\": {\n",
      "        \"name\": \"Stockholms City passexpedition\"\n",
      "      },\n",
      "      \"geometry\": {\n",
      "        \"type\": \"Point\",\n",
      "        \"coordinates\": [\n",
      "          \"18.039916\",\n",
      "          \"59.330489\"\n",
      "        ]\n",
      "      }\n",
      "    },\n",
      "    {\n",
      "      \"type\": \"Feature\",\n",
      "      \"properties\": {\n",
      "        \"name\": \"Stockholms City S\\u00f6dermalm\"\n",
      "      },\n",
      "      \"geometry\": {\n",
      "        \"type\": \"Point\",\n",
      "        \"coordinates\": [\n",
      "          \"18.057505\",\n",
      "          \"59.316928\"\n",
      "        ]\n",
      "      }\n",
      "    },\n",
      "    {\n",
      "      \"type\": \"Feature\",\n",
      "      \"properties\": {\n",
      "        \"name\": \"Storfors\"\n",
      "      },\n",
      "      \"geometry\": {\n",
      "        \"type\": \"Point\",\n",
      "        \"coordinates\": [\n",
      "          \"14.273017\",\n",
      "          \"59.529933\"\n",
      "        ]\n",
      "      }\n",
      "    },\n",
      "    {\n",
      "      \"type\": \"Feature\",\n",
      "      \"properties\": {\n",
      "        \"name\": \"Storuman\"\n",
      "      },\n",
      "      \"geometry\": {\n",
      "        \"type\": \"Point\",\n",
      "        \"coordinates\": [\n",
      "          \"17.11404\",\n",
      "          \"65.09563\"\n",
      "        ]\n",
      "      }\n",
      "    },\n",
      "    {\n",
      "      \"type\": \"Feature\",\n",
      "      \"properties\": {\n",
      "        \"name\": \"Str\\u00e4ngn\\u00e4s\"\n",
      "      },\n",
      "      \"geometry\": {\n",
      "        \"type\": \"Point\",\n",
      "        \"coordinates\": [\n",
      "          \"17.024608\",\n",
      "          \"59.367805\"\n",
      "        ]\n",
      "      }\n",
      "    },\n",
      "    {\n",
      "      \"type\": \"Feature\",\n",
      "      \"properties\": {\n",
      "        \"name\": \"Str\\u00f6mstad\"\n",
      "      },\n",
      "      \"geometry\": {\n",
      "        \"type\": \"Point\",\n",
      "        \"coordinates\": [\n",
      "          \"11.171202\",\n",
      "          \"58.939241\"\n",
      "        ]\n",
      "      }\n",
      "    },\n",
      "    {\n",
      "      \"type\": \"Feature\",\n",
      "      \"properties\": {\n",
      "        \"name\": \"Str\\u00f6msund\"\n",
      "      },\n",
      "      \"geometry\": {\n",
      "        \"type\": \"Point\",\n",
      "        \"coordinates\": [\n",
      "          \"15.551905\",\n",
      "          \"63.853852\"\n",
      "        ]\n",
      "      }\n",
      "    },\n",
      "    {\n",
      "      \"type\": \"Feature\",\n",
      "      \"properties\": {\n",
      "        \"name\": \"Sturup - Malm\\u00f6 Airport\"\n",
      "      },\n",
      "      \"geometry\": {\n",
      "        \"type\": \"Point\",\n",
      "        \"coordinates\": [\n",
      "          \"13.366576\",\n",
      "          \"55.540637\"\n",
      "        ]\n",
      "      }\n",
      "    },\n",
      "    {\n",
      "      \"type\": \"Feature\",\n",
      "      \"properties\": {\n",
      "        \"name\": \"Sundsvall\"\n",
      "      },\n",
      "      \"geometry\": {\n",
      "        \"type\": \"Point\",\n",
      "        \"coordinates\": [\n",
      "          \"17.295554\",\n",
      "          \"62.392034\"\n",
      "        ]\n",
      "      }\n",
      "    },\n",
      "    {\n",
      "      \"type\": \"Feature\",\n",
      "      \"properties\": {\n",
      "        \"name\": \"Sunne\"\n",
      "      },\n",
      "      \"geometry\": {\n",
      "        \"type\": \"Point\",\n",
      "        \"coordinates\": [\n",
      "          \"13.141644\",\n",
      "          \"59.837147\"\n",
      "        ]\n",
      "      }\n",
      "    },\n",
      "    {\n",
      "      \"type\": \"Feature\",\n",
      "      \"properties\": {\n",
      "        \"name\": \"Sval\\u00f6v\"\n",
      "      },\n",
      "      \"geometry\": {\n",
      "        \"type\": \"Point\",\n",
      "        \"coordinates\": [\n",
      "          \"13.107231\",\n",
      "          \"55.913864\"\n",
      "        ]\n",
      "      }\n",
      "    },\n",
      "    {\n",
      "      \"type\": \"Feature\",\n",
      "      \"properties\": {\n",
      "        \"name\": \"Sveg\"\n",
      "      },\n",
      "      \"geometry\": {\n",
      "        \"type\": \"Point\",\n",
      "        \"coordinates\": [\n",
      "          \"14.358192\",\n",
      "          \"62.032374\"\n",
      "        ]\n",
      "      }\n",
      "    },\n",
      "    {\n",
      "      \"type\": \"Feature\",\n",
      "      \"properties\": {\n",
      "        \"name\": \"Svenljunga\"\n",
      "      },\n",
      "      \"geometry\": {\n",
      "        \"type\": \"Point\",\n",
      "        \"coordinates\": [\n",
      "          \"13.111025\",\n",
      "          \"57.499112\"\n",
      "        ]\n",
      "      }\n",
      "    },\n",
      "    {\n",
      "      \"type\": \"Feature\",\n",
      "      \"properties\": {\n",
      "        \"name\": \"Svenstavik\"\n",
      "      },\n",
      "      \"geometry\": {\n",
      "        \"type\": \"Point\",\n",
      "        \"coordinates\": [\n",
      "          \"14.438614\",\n",
      "          \"62.767662\"\n",
      "        ]\n",
      "      }\n",
      "    },\n",
      "    {\n",
      "      \"type\": \"Feature\",\n",
      "      \"properties\": {\n",
      "        \"name\": \"S\\u00e4ffle\"\n",
      "      },\n",
      "      \"geometry\": {\n",
      "        \"type\": \"Point\",\n",
      "        \"coordinates\": [\n",
      "          \"12.923679\",\n",
      "          \"59.133512\"\n",
      "        ]\n",
      "      }\n",
      "    },\n",
      "    {\n",
      "      \"type\": \"Feature\",\n",
      "      \"properties\": {\n",
      "        \"name\": \"S\\u00e4len\"\n",
      "      },\n",
      "      \"geometry\": {\n",
      "        \"type\": \"Point\",\n",
      "        \"coordinates\": [\n",
      "          \"13.268137\",\n",
      "          \"61.155826\"\n",
      "        ]\n",
      "      }\n",
      "    },\n",
      "    {\n",
      "      \"type\": \"Feature\",\n",
      "      \"properties\": {\n",
      "        \"name\": \"S\\u00e4ter\"\n",
      "      },\n",
      "      \"geometry\": {\n",
      "        \"type\": \"Point\",\n",
      "        \"coordinates\": [\n",
      "          \"15.747854\",\n",
      "          \"60.346898\"\n",
      "        ]\n",
      "      }\n",
      "    },\n",
      "    {\n",
      "      \"type\": \"Feature\",\n",
      "      \"properties\": {\n",
      "        \"name\": \"S\\u00e4vsj\\u00f6\"\n",
      "      },\n",
      "      \"geometry\": {\n",
      "        \"type\": \"Point\",\n",
      "        \"coordinates\": [\n",
      "          \"14.661323\",\n",
      "          \"57.399561\"\n",
      "        ]\n",
      "      }\n",
      "    },\n",
      "    {\n",
      "      \"type\": \"Feature\",\n",
      "      \"properties\": {\n",
      "        \"name\": \"S\\u00f6derhamn\"\n",
      "      },\n",
      "      \"geometry\": {\n",
      "        \"type\": \"Point\",\n",
      "        \"coordinates\": [\n",
      "          \"17.06082\",\n",
      "          \"61.304731\"\n",
      "        ]\n",
      "      }\n",
      "    },\n",
      "    {\n",
      "      \"type\": \"Feature\",\n",
      "      \"properties\": {\n",
      "        \"name\": \"S\\u00f6derk\\u00f6ping\"\n",
      "      },\n",
      "      \"geometry\": {\n",
      "        \"type\": \"Point\",\n",
      "        \"coordinates\": [\n",
      "          \"16.323701\",\n",
      "          \"58.4801\"\n",
      "        ]\n",
      "      }\n",
      "    },\n",
      "    {\n",
      "      \"type\": \"Feature\",\n",
      "      \"properties\": {\n",
      "        \"name\": \"S\\u00f6dert\\u00e4lje\"\n",
      "      },\n",
      "      \"geometry\": {\n",
      "        \"type\": \"Point\",\n",
      "        \"coordinates\": [\n",
      "          \"17.628206\",\n",
      "          \"59.187927\"\n",
      "        ]\n",
      "      }\n",
      "    },\n",
      "    {\n",
      "      \"type\": \"Feature\",\n",
      "      \"properties\": {\n",
      "        \"name\": \"S\\u00f6lvesborg\"\n",
      "      },\n",
      "      \"geometry\": {\n",
      "        \"type\": \"Point\",\n",
      "        \"coordinates\": [\n",
      "          \"14.582851\",\n",
      "          \"56.051724\"\n",
      "        ]\n",
      "      }\n",
      "    },\n",
      "    {\n",
      "      \"type\": \"Feature\",\n",
      "      \"properties\": {\n",
      "        \"name\": \"Tierp\"\n",
      "      },\n",
      "      \"geometry\": {\n",
      "        \"type\": \"Point\",\n",
      "        \"coordinates\": [\n",
      "          \"17.511625\",\n",
      "          \"60.341657\"\n",
      "        ]\n",
      "      }\n",
      "    },\n",
      "    {\n",
      "      \"type\": \"Feature\",\n",
      "      \"properties\": {\n",
      "        \"name\": \"Tingsryd\"\n",
      "      },\n",
      "      \"geometry\": {\n",
      "        \"type\": \"Point\",\n",
      "        \"coordinates\": [\n",
      "          \"14.979028\",\n",
      "          \"56.525552\"\n",
      "        ]\n",
      "      }\n",
      "    },\n",
      "    {\n",
      "      \"type\": \"Feature\",\n",
      "      \"properties\": {\n",
      "        \"name\": \"Tomelilla\"\n",
      "      },\n",
      "      \"geometry\": {\n",
      "        \"type\": \"Point\",\n",
      "        \"coordinates\": [\n",
      "          \"13.957077\",\n",
      "          \"55.542451\"\n",
      "        ]\n",
      "      }\n",
      "    },\n",
      "    {\n",
      "      \"type\": \"Feature\",\n",
      "      \"properties\": {\n",
      "        \"name\": \"Torsby\"\n",
      "      },\n",
      "      \"geometry\": {\n",
      "        \"type\": \"Point\",\n",
      "        \"coordinates\": [\n",
      "          \"13.005797\",\n",
      "          \"60.146983\"\n",
      "        ]\n",
      "      }\n",
      "    },\n",
      "    {\n",
      "      \"type\": \"Feature\",\n",
      "      \"properties\": {\n",
      "        \"name\": \"Tors\\u00e5s\"\n",
      "      },\n",
      "      \"geometry\": {\n",
      "        \"type\": \"Point\",\n",
      "        \"coordinates\": [\n",
      "          \"15.996177\",\n",
      "          \"56.411347\"\n",
      "        ]\n",
      "      }\n",
      "    },\n",
      "    {\n",
      "      \"type\": \"Feature\",\n",
      "      \"properties\": {\n",
      "        \"name\": \"Tran\\u00e5s\"\n",
      "      },\n",
      "      \"geometry\": {\n",
      "        \"type\": \"Point\",\n",
      "        \"coordinates\": [\n",
      "          \"14.985098\",\n",
      "          \"58.035216\"\n",
      "        ]\n",
      "      }\n",
      "    },\n",
      "    {\n",
      "      \"type\": \"Feature\",\n",
      "      \"properties\": {\n",
      "        \"name\": \"Trelleborg\"\n",
      "      },\n",
      "      \"geometry\": {\n",
      "        \"type\": \"Point\",\n",
      "        \"coordinates\": [\n",
      "          \"13.167215\",\n",
      "          \"55.371824\"\n",
      "        ]\n",
      "      }\n",
      "    },\n",
      "    {\n",
      "      \"type\": \"Feature\",\n",
      "      \"properties\": {\n",
      "        \"name\": \"Trollh\\u00e4ttan\"\n",
      "      },\n",
      "      \"geometry\": {\n",
      "        \"type\": \"Point\",\n",
      "        \"coordinates\": [\n",
      "          \"12.290657\",\n",
      "          \"58.280147\"\n",
      "        ]\n",
      "      }\n",
      "    },\n",
      "    {\n",
      "      \"type\": \"Feature\",\n",
      "      \"properties\": {\n",
      "        \"name\": \"T\\u00e4by\"\n",
      "      },\n",
      "      \"geometry\": {\n",
      "        \"type\": \"Point\",\n",
      "        \"coordinates\": [\n",
      "          \"18.06899\",\n",
      "          \"59.445024\"\n",
      "        ]\n",
      "      }\n",
      "    },\n",
      "    {\n",
      "      \"type\": \"Feature\",\n",
      "      \"properties\": {\n",
      "        \"name\": \"T\\u00e4rnaby\"\n",
      "      },\n",
      "      \"geometry\": {\n",
      "        \"type\": \"Point\",\n",
      "        \"coordinates\": [\n",
      "          \"15.255791\",\n",
      "          \"65.711357\"\n",
      "        ]\n",
      "      }\n",
      "    },\n",
      "    {\n",
      "      \"type\": \"Feature\",\n",
      "      \"properties\": {\n",
      "        \"name\": \"Uddevalla\"\n",
      "      },\n",
      "      \"geometry\": {\n",
      "        \"type\": \"Point\",\n",
      "        \"coordinates\": [\n",
      "          \"11.940227\",\n",
      "          \"58.351256\"\n",
      "        ]\n",
      "      }\n",
      "    },\n",
      "    {\n",
      "      \"type\": \"Feature\",\n",
      "      \"properties\": {\n",
      "        \"name\": \"Ullared\"\n",
      "      },\n",
      "      \"geometry\": {\n",
      "        \"type\": \"Point\",\n",
      "        \"coordinates\": [\n",
      "          \"12.716861\",\n",
      "          \"57.136397\"\n",
      "        ]\n",
      "      }\n",
      "    },\n",
      "    {\n",
      "      \"type\": \"Feature\",\n",
      "      \"properties\": {\n",
      "        \"name\": \"Ulricehamn\"\n",
      "      },\n",
      "      \"geometry\": {\n",
      "        \"type\": \"Point\",\n",
      "        \"coordinates\": [\n",
      "          \"13.413872\",\n",
      "          \"57.797663\"\n",
      "        ]\n",
      "      }\n",
      "    },\n",
      "    {\n",
      "      \"type\": \"Feature\",\n",
      "      \"properties\": {\n",
      "        \"name\": \"Ume\\u00e5\"\n",
      "      },\n",
      "      \"geometry\": {\n",
      "        \"type\": \"Point\",\n",
      "        \"coordinates\": [\n",
      "          \"20.2500198\",\n",
      "          \"63.834216\"\n",
      "        ]\n",
      "      }\n",
      "    },\n",
      "    {\n",
      "      \"type\": \"Feature\",\n",
      "      \"properties\": {\n",
      "        \"name\": \"Upplands V\\u00e4sby omr\\u00e5deskontor\"\n",
      "      },\n",
      "      \"geometry\": {\n",
      "        \"type\": \"Point\",\n",
      "        \"coordinates\": [\n",
      "          \"17.90155\",\n",
      "          \"59.521578\"\n",
      "        ]\n",
      "      }\n",
      "    },\n",
      "    {\n",
      "      \"type\": \"Feature\",\n",
      "      \"properties\": {\n",
      "        \"name\": \"Upplands-Bro omr\\u00e5deskontor\"\n",
      "      },\n",
      "      \"geometry\": {\n",
      "        \"type\": \"Point\",\n",
      "        \"coordinates\": [\n",
      "          \"17.752009\",\n",
      "          \"59.478725\"\n",
      "        ]\n",
      "      }\n",
      "    },\n",
      "    {\n",
      "      \"type\": \"Feature\",\n",
      "      \"properties\": {\n",
      "        \"name\": \"Uppsala\"\n",
      "      },\n",
      "      \"geometry\": {\n",
      "        \"type\": \"Point\",\n",
      "        \"coordinates\": [\n",
      "          \"17.630946\",\n",
      "          \"59.865528\"\n",
      "        ]\n",
      "      }\n",
      "    },\n",
      "    {\n",
      "      \"type\": \"Feature\",\n",
      "      \"properties\": {\n",
      "        \"name\": \"Uppsala - Beslagsgruppen\"\n",
      "      },\n",
      "      \"geometry\": {\n",
      "        \"type\": \"Point\",\n",
      "        \"coordinates\": [\n",
      "          \"17.664572\",\n",
      "          \"59.855237\"\n",
      "        ]\n",
      "      }\n",
      "    },\n",
      "    {\n",
      "      \"type\": \"Feature\",\n",
      "      \"properties\": {\n",
      "        \"name\": \"Vadstena\"\n",
      "      },\n",
      "      \"geometry\": {\n",
      "        \"type\": \"Point\",\n",
      "        \"coordinates\": [\n",
      "          \"14.888587\",\n",
      "          \"58.44665\"\n",
      "        ]\n",
      "      }\n",
      "    },\n",
      "    {\n",
      "      \"type\": \"Feature\",\n",
      "      \"properties\": {\n",
      "        \"name\": \"Vagnh\\u00e4rad\"\n",
      "      },\n",
      "      \"geometry\": {\n",
      "        \"type\": \"Point\",\n",
      "        \"coordinates\": [\n",
      "          \"17.485391\",\n",
      "          \"58.945841\"\n",
      "        ]\n",
      "      }\n",
      "    },\n",
      "    {\n",
      "      \"type\": \"Feature\",\n",
      "      \"properties\": {\n",
      "        \"name\": \"Valdemarsvik\"\n",
      "      },\n",
      "      \"geometry\": {\n",
      "        \"type\": \"Point\",\n",
      "        \"coordinates\": [\n",
      "          \"16.600564\",\n",
      "          \"58.205143\"\n",
      "        ]\n",
      "      }\n",
      "    },\n",
      "    {\n",
      "      \"type\": \"Feature\",\n",
      "      \"properties\": {\n",
      "        \"name\": \"Vallentuna omr\\u00e5deskontor\"\n",
      "      },\n",
      "      \"geometry\": {\n",
      "        \"type\": \"Point\",\n",
      "        \"coordinates\": [\n",
      "          \"18.076655\",\n",
      "          \"59.534261\"\n",
      "        ]\n",
      "      }\n",
      "    },\n",
      "    {\n",
      "      \"type\": \"Feature\",\n",
      "      \"properties\": {\n",
      "        \"name\": \"Vansbro\"\n",
      "      },\n",
      "      \"geometry\": {\n",
      "        \"type\": \"Point\",\n",
      "        \"coordinates\": [\n",
      "          \"14.2235\",\n",
      "          \"60.51082\"\n",
      "        ]\n",
      "      }\n",
      "    },\n",
      "    {\n",
      "      \"type\": \"Feature\",\n",
      "      \"properties\": {\n",
      "        \"name\": \"Vara\"\n",
      "      },\n",
      "      \"geometry\": {\n",
      "        \"type\": \"Point\",\n",
      "        \"coordinates\": [\n",
      "          \"12.95279\",\n",
      "          \"58.261108\"\n",
      "        ]\n",
      "      }\n",
      "    },\n",
      "    {\n",
      "      \"type\": \"Feature\",\n",
      "      \"properties\": {\n",
      "        \"name\": \"Varberg\"\n",
      "      },\n",
      "      \"geometry\": {\n",
      "        \"type\": \"Point\",\n",
      "        \"coordinates\": [\n",
      "          \"12.255091\",\n",
      "          \"57.111451\"\n",
      "        ]\n",
      "      }\n",
      "    },\n",
      "    {\n",
      "      \"type\": \"Feature\",\n",
      "      \"properties\": {\n",
      "        \"name\": \"Vaxholm omr\\u00e5deskontor\"\n",
      "      },\n",
      "      \"geometry\": {\n",
      "        \"type\": \"Point\",\n",
      "        \"coordinates\": [\n",
      "          \"18.3157138\",\n",
      "          \"59.4047731\"\n",
      "        ]\n",
      "      }\n",
      "    },\n",
      "    {\n",
      "      \"type\": \"Feature\",\n",
      "      \"properties\": {\n",
      "        \"name\": \"Vetlanda\"\n",
      "      },\n",
      "      \"geometry\": {\n",
      "        \"type\": \"Point\",\n",
      "        \"coordinates\": [\n",
      "          \"15.090357\",\n",
      "          \"57.424844\"\n",
      "        ]\n",
      "      }\n",
      "    },\n",
      "    {\n",
      "      \"type\": \"Feature\",\n",
      "      \"properties\": {\n",
      "        \"name\": \"Vilhelmina\"\n",
      "      },\n",
      "      \"geometry\": {\n",
      "        \"type\": \"Point\",\n",
      "        \"coordinates\": [\n",
      "          \"16.68489\",\n",
      "          \"64.61509\"\n",
      "        ]\n",
      "      }\n",
      "    },\n",
      "    {\n",
      "      \"type\": \"Feature\",\n",
      "      \"properties\": {\n",
      "        \"name\": \"Vimmerby\"\n",
      "      },\n",
      "      \"geometry\": {\n",
      "        \"type\": \"Point\",\n",
      "        \"coordinates\": [\n",
      "          \"15.861861\",\n",
      "          \"57.668271\"\n",
      "        ]\n",
      "      }\n",
      "    },\n",
      "    {\n",
      "      \"type\": \"Feature\",\n",
      "      \"properties\": {\n",
      "        \"name\": \"Vindeln\"\n",
      "      },\n",
      "      \"geometry\": {\n",
      "        \"type\": \"Point\",\n",
      "        \"coordinates\": [\n",
      "          \"19.718721\",\n",
      "          \"64.202599\"\n",
      "        ]\n",
      "      }\n",
      "    },\n",
      "    {\n",
      "      \"type\": \"Feature\",\n",
      "      \"properties\": {\n",
      "        \"name\": \"Ving\\u00e5ker\"\n",
      "      },\n",
      "      \"geometry\": {\n",
      "        \"type\": \"Point\",\n",
      "        \"coordinates\": [\n",
      "          \"15.874967\",\n",
      "          \"59.049361\"\n",
      "        ]\n",
      "      }\n",
      "    },\n",
      "    {\n",
      "      \"type\": \"Feature\",\n",
      "      \"properties\": {\n",
      "        \"name\": \"Visby\"\n",
      "      },\n",
      "      \"geometry\": {\n",
      "        \"type\": \"Point\",\n",
      "        \"coordinates\": [\n",
      "          \"18.305441\",\n",
      "          \"57.63735\"\n",
      "        ]\n",
      "      }\n",
      "    },\n",
      "    {\n",
      "      \"type\": \"Feature\",\n",
      "      \"properties\": {\n",
      "        \"name\": \"Vivalla\"\n",
      "      },\n",
      "      \"geometry\": {\n",
      "        \"type\": \"Point\",\n",
      "        \"coordinates\": [\n",
      "          \"15.18883\",\n",
      "          \"59.2988\"\n",
      "        ]\n",
      "      }\n",
      "    },\n",
      "    {\n",
      "      \"type\": \"Feature\",\n",
      "      \"properties\": {\n",
      "        \"name\": \"V\\u00e5rg\\u00e5rda\"\n",
      "      },\n",
      "      \"geometry\": {\n",
      "        \"type\": \"Point\",\n",
      "        \"coordinates\": [\n",
      "          \"12.809188\",\n",
      "          \"58.033216\"\n",
      "        ]\n",
      "      }\n",
      "    },\n",
      "    {\n",
      "      \"type\": \"Feature\",\n",
      "      \"properties\": {\n",
      "        \"name\": \"V\\u00e4llingby\"\n",
      "      },\n",
      "      \"geometry\": {\n",
      "        \"type\": \"Point\",\n",
      "        \"coordinates\": [\n",
      "          \"17.87243\",\n",
      "          \"59.363596\"\n",
      "        ]\n",
      "      }\n",
      "    },\n",
      "    {\n",
      "      \"type\": \"Feature\",\n",
      "      \"properties\": {\n",
      "        \"name\": \"V\\u00e4nersborg\"\n",
      "      },\n",
      "      \"geometry\": {\n",
      "        \"type\": \"Point\",\n",
      "        \"coordinates\": [\n",
      "          \"12.323687\",\n",
      "          \"58.384319\"\n",
      "        ]\n",
      "      }\n",
      "    },\n",
      "    {\n",
      "      \"type\": \"Feature\",\n",
      "      \"properties\": {\n",
      "        \"name\": \"V\\u00e4nn\\u00e4s\"\n",
      "      },\n",
      "      \"geometry\": {\n",
      "        \"type\": \"Point\",\n",
      "        \"coordinates\": [\n",
      "          \"19.752756\",\n",
      "          \"63.90429\"\n",
      "        ]\n",
      "      }\n",
      "    },\n",
      "    {\n",
      "      \"type\": \"Feature\",\n",
      "      \"properties\": {\n",
      "        \"name\": \"V\\u00e4rnamo\"\n",
      "      },\n",
      "      \"geometry\": {\n",
      "        \"type\": \"Point\",\n",
      "        \"coordinates\": [\n",
      "          \"14.050065\",\n",
      "          \"57.183344\"\n",
      "        ]\n",
      "      }\n",
      "    },\n",
      "    {\n",
      "      \"type\": \"Feature\",\n",
      "      \"properties\": {\n",
      "        \"name\": \"V\\u00e4stberga\"\n",
      "      },\n",
      "      \"geometry\": {\n",
      "        \"type\": \"Point\",\n",
      "        \"coordinates\": [\n",
      "          \"18.011047\",\n",
      "          \"59.291954\"\n",
      "        ]\n",
      "      }\n",
      "    },\n",
      "    {\n",
      "      \"type\": \"Feature\",\n",
      "      \"properties\": {\n",
      "        \"name\": \"V\\u00e4stervik\"\n",
      "      },\n",
      "      \"geometry\": {\n",
      "        \"type\": \"Point\",\n",
      "        \"coordinates\": [\n",
      "          \"16.619759\",\n",
      "          \"57.766423\"\n",
      "        ]\n",
      "      }\n",
      "    },\n",
      "    {\n",
      "      \"type\": \"Feature\",\n",
      "      \"properties\": {\n",
      "        \"name\": \"V\\u00e4ster\\u00e5s\"\n",
      "      },\n",
      "      \"geometry\": {\n",
      "        \"type\": \"Point\",\n",
      "        \"coordinates\": [\n",
      "          \"16.542119\",\n",
      "          \"59.607646\"\n",
      "        ]\n",
      "      }\n",
      "    },\n",
      "    {\n",
      "      \"type\": \"Feature\",\n",
      "      \"properties\": {\n",
      "        \"name\": \"V\\u00e4xj\\u00f6 \"\n",
      "      },\n",
      "      \"geometry\": {\n",
      "        \"type\": \"Point\",\n",
      "        \"coordinates\": [\n",
      "          \"14.798882\",\n",
      "          \"56.878276\"\n",
      "        ]\n",
      "      }\n",
      "    },\n",
      "    {\n",
      "      \"type\": \"Feature\",\n",
      "      \"properties\": {\n",
      "        \"name\": \"V\\u00e4xj\\u00f6 cykelf\\u00f6rr\\u00e5d\"\n",
      "      },\n",
      "      \"geometry\": {\n",
      "        \"type\": \"Point\",\n",
      "        \"coordinates\": [\n",
      "          \"14.797177\",\n",
      "          \"56.877393\"\n",
      "        ]\n",
      "      }\n",
      "    },\n",
      "    {\n",
      "      \"type\": \"Feature\",\n",
      "      \"properties\": {\n",
      "        \"name\": \"V\\u00e4xj\\u00f6 Dalbo\"\n",
      "      },\n",
      "      \"geometry\": {\n",
      "        \"type\": \"Point\",\n",
      "        \"coordinates\": [\n",
      "          \"14.797639\",\n",
      "          \"56.89067\"\n",
      "        ]\n",
      "      }\n",
      "    },\n",
      "    {\n",
      "      \"type\": \"Feature\",\n",
      "      \"properties\": {\n",
      "        \"name\": \"Ystad\"\n",
      "      },\n",
      "      \"geometry\": {\n",
      "        \"type\": \"Point\",\n",
      "        \"coordinates\": [\n",
      "          \"13.82716\",\n",
      "          \"55.43936\"\n",
      "        ]\n",
      "      }\n",
      "    },\n",
      "    {\n",
      "      \"type\": \"Feature\",\n",
      "      \"properties\": {\n",
      "        \"name\": \"\\u00c5hus\"\n",
      "      },\n",
      "      \"geometry\": {\n",
      "        \"type\": \"Point\",\n",
      "        \"coordinates\": [\n",
      "          \"14.300058\",\n",
      "          \"55.926898\"\n",
      "        ]\n",
      "      }\n",
      "    },\n",
      "    {\n",
      "      \"type\": \"Feature\",\n",
      "      \"properties\": {\n",
      "        \"name\": \"\\u00c5kersberga omr\\u00e5deskontor\"\n",
      "      },\n",
      "      \"geometry\": {\n",
      "        \"type\": \"Point\",\n",
      "        \"coordinates\": [\n",
      "          \"18.29529\",\n",
      "          \"59.480103\"\n",
      "        ]\n",
      "      }\n",
      "    },\n",
      "    {\n",
      "      \"type\": \"Feature\",\n",
      "      \"properties\": {\n",
      "        \"name\": \"\\u00c5m\\u00e5l\"\n",
      "      },\n",
      "      \"geometry\": {\n",
      "        \"type\": \"Point\",\n",
      "        \"coordinates\": [\n",
      "          \"12.704634\",\n",
      "          \"59.051271\"\n",
      "        ]\n",
      "      }\n",
      "    },\n",
      "    {\n",
      "      \"type\": \"Feature\",\n",
      "      \"properties\": {\n",
      "        \"name\": \"\\u00c5nge\"\n",
      "      },\n",
      "      \"geometry\": {\n",
      "        \"type\": \"Point\",\n",
      "        \"coordinates\": [\n",
      "          \"15.664624\",\n",
      "          \"62.524741\"\n",
      "        ]\n",
      "      }\n",
      "    },\n",
      "    {\n",
      "      \"type\": \"Feature\",\n",
      "      \"properties\": {\n",
      "        \"name\": \"\\u00c5re\"\n",
      "      },\n",
      "      \"geometry\": {\n",
      "        \"type\": \"Point\",\n",
      "        \"coordinates\": [\n",
      "          \"13.096971\",\n",
      "          \"63.394506\"\n",
      "        ]\n",
      "      }\n",
      "    },\n",
      "    {\n",
      "      \"type\": \"Feature\",\n",
      "      \"properties\": {\n",
      "        \"name\": \"\\u00c5rj\\u00e4ng\"\n",
      "      },\n",
      "      \"geometry\": {\n",
      "        \"type\": \"Point\",\n",
      "        \"coordinates\": [\n",
      "          \"12.133889\",\n",
      "          \"59.39313\"\n",
      "        ]\n",
      "      }\n",
      "    },\n",
      "    {\n",
      "      \"type\": \"Feature\",\n",
      "      \"properties\": {\n",
      "        \"name\": \"\\u00c5seda\"\n",
      "      },\n",
      "      \"geometry\": {\n",
      "        \"type\": \"Point\",\n",
      "        \"coordinates\": [\n",
      "          \"15.344492\",\n",
      "          \"57.171215\"\n",
      "        ]\n",
      "      }\n",
      "    },\n",
      "    {\n",
      "      \"type\": \"Feature\",\n",
      "      \"properties\": {\n",
      "        \"name\": \"\\u00c5sele\"\n",
      "      },\n",
      "      \"geometry\": {\n",
      "        \"type\": \"Point\",\n",
      "        \"coordinates\": [\n",
      "          \"17.354\",\n",
      "          \"64.16182\"\n",
      "        ]\n",
      "      }\n",
      "    },\n",
      "    {\n",
      "      \"type\": \"Feature\",\n",
      "      \"properties\": {\n",
      "        \"name\": \"\\u00c5storp\"\n",
      "      },\n",
      "      \"geometry\": {\n",
      "        \"type\": \"Point\",\n",
      "        \"coordinates\": [\n",
      "          \"12.94856\",\n",
      "          \"56.134485\"\n",
      "        ]\n",
      "      }\n",
      "    },\n",
      "    {\n",
      "      \"type\": \"Feature\",\n",
      "      \"properties\": {\n",
      "        \"name\": \"\\u00c5tvidaberg\"\n",
      "      },\n",
      "      \"geometry\": {\n",
      "        \"type\": \"Point\",\n",
      "        \"coordinates\": [\n",
      "          \"15.998716\",\n",
      "          \"58.201018\"\n",
      "        ]\n",
      "      }\n",
      "    },\n",
      "    {\n",
      "      \"type\": \"Feature\",\n",
      "      \"properties\": {\n",
      "        \"name\": \"\\u00c4lmhult\"\n",
      "      },\n",
      "      \"geometry\": {\n",
      "        \"type\": \"Point\",\n",
      "        \"coordinates\": [\n",
      "          \"14.12805\",\n",
      "          \"56.540069\"\n",
      "        ]\n",
      "      }\n",
      "    },\n",
      "    {\n",
      "      \"type\": \"Feature\",\n",
      "      \"properties\": {\n",
      "        \"name\": \"\\u00c4lvdalen\"\n",
      "      },\n",
      "      \"geometry\": {\n",
      "        \"type\": \"Point\",\n",
      "        \"coordinates\": [\n",
      "          \"14.04017\",\n",
      "          \"61.228253\"\n",
      "        ]\n",
      "      }\n",
      "    },\n",
      "    {\n",
      "      \"type\": \"Feature\",\n",
      "      \"properties\": {\n",
      "        \"name\": \"\\u00c4lvsbyn\"\n",
      "      },\n",
      "      \"geometry\": {\n",
      "        \"type\": \"Point\",\n",
      "        \"coordinates\": [\n",
      "          \"20.997854\",\n",
      "          \"65.677241\"\n",
      "        ]\n",
      "      }\n",
      "    },\n",
      "    {\n",
      "      \"type\": \"Feature\",\n",
      "      \"properties\": {\n",
      "        \"name\": \"\\u00c4ngelholm\"\n",
      "      },\n",
      "      \"geometry\": {\n",
      "        \"type\": \"Point\",\n",
      "        \"coordinates\": [\n",
      "          \"12.871691\",\n",
      "          \"56.24865\"\n",
      "        ]\n",
      "      }\n",
      "    },\n",
      "    {\n",
      "      \"type\": \"Feature\",\n",
      "      \"properties\": {\n",
      "        \"name\": \"\\u00d6desh\\u00f6g\"\n",
      "      },\n",
      "      \"geometry\": {\n",
      "        \"type\": \"Point\",\n",
      "        \"coordinates\": [\n",
      "          \"14.655137\",\n",
      "          \"58.229398\"\n",
      "        ]\n",
      "      }\n",
      "    },\n",
      "    {\n",
      "      \"type\": \"Feature\",\n",
      "      \"properties\": {\n",
      "        \"name\": \"\\u00d6rebro\"\n",
      "      },\n",
      "      \"geometry\": {\n",
      "        \"type\": \"Point\",\n",
      "        \"coordinates\": [\n",
      "          \"15.216131\",\n",
      "          \"59.278136\"\n",
      "        ]\n",
      "      }\n",
      "    },\n",
      "    {\n",
      "      \"type\": \"Feature\",\n",
      "      \"properties\": {\n",
      "        \"name\": \"\\u00d6rkelljunga\"\n",
      "      },\n",
      "      \"geometry\": {\n",
      "        \"type\": \"Point\",\n",
      "        \"coordinates\": [\n",
      "          \"13.281082\",\n",
      "          \"56.283547\"\n",
      "        ]\n",
      "      }\n",
      "    },\n",
      "    {\n",
      "      \"type\": \"Feature\",\n",
      "      \"properties\": {\n",
      "        \"name\": \"\\u00d6rnsk\\u00f6ldsvik\"\n",
      "      },\n",
      "      \"geometry\": {\n",
      "        \"type\": \"Point\",\n",
      "        \"coordinates\": [\n",
      "          \"18.718383\",\n",
      "          \"63.292551\"\n",
      "        ]\n",
      "      }\n",
      "    },\n",
      "    {\n",
      "      \"type\": \"Feature\",\n",
      "      \"properties\": {\n",
      "        \"name\": \"\\u00d6sterbymo\"\n",
      "      },\n",
      "      \"geometry\": {\n",
      "        \"type\": \"Point\",\n",
      "        \"coordinates\": [\n",
      "          \"15.27425\",\n",
      "          \"57.82471\"\n",
      "        ]\n",
      "      }\n",
      "    },\n",
      "    {\n",
      "      \"type\": \"Feature\",\n",
      "      \"properties\": {\n",
      "        \"name\": \"\\u00d6stersund\"\n",
      "      },\n",
      "      \"geometry\": {\n",
      "        \"type\": \"Point\",\n",
      "        \"coordinates\": [\n",
      "          \"14.660373\",\n",
      "          \"63.176285\"\n",
      "        ]\n",
      "      }\n",
      "    },\n",
      "    {\n",
      "      \"type\": \"Feature\",\n",
      "      \"properties\": {\n",
      "        \"name\": \"\\u00d6sthammar\"\n",
      "      },\n",
      "      \"geometry\": {\n",
      "        \"type\": \"Point\",\n",
      "        \"coordinates\": [\n",
      "          \"18.36821\",\n",
      "          \"60.259612\"\n",
      "        ]\n",
      "      }\n",
      "    },\n",
      "    {\n",
      "      \"type\": \"Feature\",\n",
      "      \"properties\": {\n",
      "        \"name\": \"\\u00d6verkalix\"\n",
      "      },\n",
      "      \"geometry\": {\n",
      "        \"type\": \"Point\",\n",
      "        \"coordinates\": [\n",
      "          \"22.83961\",\n",
      "          \"66.388553\"\n",
      "        ]\n",
      "      }\n",
      "    },\n",
      "    {\n",
      "      \"type\": \"Feature\",\n",
      "      \"properties\": {\n",
      "        \"name\": \"\\u00d6vertorne\\u00e5\"\n",
      "      },\n",
      "      \"geometry\": {\n",
      "        \"type\": \"Point\",\n",
      "        \"coordinates\": [\n",
      "          \"23.656569\",\n",
      "          \"66.389235\"\n",
      "        ]\n",
      "      }\n",
      "    }\n",
      "  ]\n",
      "}\n"
     ]
    }
   ],
   "source": [
    "# Convert a pandas dataframe to geojson\n",
    "geojson = {'type':'FeatureCollection', 'features':[]}\n",
    "for i, row in enumerate(dfPolisStations.values):\n",
    "    features = []\n",
    "    print(dfPolisStations.Latitude[i],dfPolisStations.Longitude[i],dfPolisStations.name[i])\n",
    "    feature = {'type':'Feature', 'properties':{},'geometry':{'type':'Point','coordinates':[]}}   \n",
    "    # fill in the coordinates\n",
    "    feature['geometry']['coordinates'] = [dfPolisStations.Longitude[i],dfPolisStations.Latitude[i]]\n",
    "    feature['properties']['name'] = dfPolisStations.name[i]\n",
    "        \n",
    "    # add this feature to the list of features inside our dict\n",
    "    geojson['features'].append(feature)\n",
    "#print(json.dumps(geojson, indent=2))"
   ]
  },
  {
   "cell_type": "code",
   "execution_count": 87,
   "metadata": {},
   "outputs": [
    {
     "data": {
      "application/vnd.jupyter.widget-view+json": {
       "model_id": "acef9ac2a4de4c73b07941d1a6844262",
       "version_major": 2,
       "version_minor": 0
      },
      "text/plain": [
       "Map(center=[59.3, 18.3], controls=(ZoomControl(options=['position', 'zoom_in_text', 'zoom_in_title', 'zoom_out…"
      ]
     },
     "metadata": {},
     "output_type": "display_data"
    }
   ],
   "source": [
    "from ipyleaflet import * \n",
    "m = Map(center=(59.3,18.3), zoom=10)\n",
    "m"
   ]
  },
  {
   "cell_type": "code",
   "execution_count": null,
   "metadata": {},
   "outputs": [],
   "source": []
  },
  {
   "cell_type": "code",
   "execution_count": null,
   "metadata": {},
   "outputs": [],
   "source": []
  },
  {
   "cell_type": "code",
   "execution_count": null,
   "metadata": {},
   "outputs": [],
   "source": []
  },
  {
   "cell_type": "code",
   "execution_count": 82,
   "metadata": {},
   "outputs": [],
   "source": [
    "#Add geoJSON as a layer\n",
    "from ipyleaflet import GeoJSON\n",
    "geo_json = GeoJSON(data=geojson, style = {'color': 'green', 'opacity':1, 'weight':1.9, 'dashArray':'9', 'fillOpacity':0.1})\n",
    "m.add_layer(geo_json)\n",
    "\n"
   ]
  },
  {
   "cell_type": "code",
   "execution_count": null,
   "metadata": {},
   "outputs": [],
   "source": []
  }
 ],
 "metadata": {
  "kernelspec": {
   "display_name": "Python 3",
   "language": "python",
   "name": "python3"
  },
  "language_info": {
   "codemirror_mode": {
    "name": "ipython",
    "version": 3
   },
   "file_extension": ".py",
   "mimetype": "text/x-python",
   "name": "python",
   "nbconvert_exporter": "python",
   "pygments_lexer": "ipython3",
   "version": "3.8.0"
  }
 },
 "nbformat": 4,
 "nbformat_minor": 2
}
