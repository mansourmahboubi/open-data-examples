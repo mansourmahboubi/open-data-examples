{
 "cells": [
  {
   "cell_type": "markdown",
   "id": "2468a19b",
   "metadata": {},
   "source": [
    "* se [newschecker_Riksarkivet_and_DIGG/blob/master/webscraperdigg.py](https://github.com/Viktor-Lundberg/newschecker_Riksarkivet_and_DIGG/blob/master/webscraperdigg.py)\n",
    "* [DIGG fråga om API](https://community.dataportal.se/topic/214/lagbrott-r%C3%B6rande-skydd-av-personuppgifter-hos-statliga-myndigheter/3)"
   ]
  },
  {
   "cell_type": "code",
   "execution_count": 8,
   "id": "be59179f",
   "metadata": {},
   "outputs": [
    {
     "name": "stdout",
     "output_type": "stream",
     "text": [
      "E-legitimationer blir tillgängliga för fler\n",
      "/om-oss/nyheter/2021/e-legitimationer-blir-tillgangliga-for-fler\n",
      "11 oktober 2021\n",
      "Fyra finalister vidare till final i höstens hackaton\n",
      "/om-oss/nyheter/2021/fyra-finalister-vidare-till-final-i-hostens-hackaton\n",
      "10 oktober 2021\n",
      "Hack for Sweden med fokus på digital inkludering\n",
      "/om-oss/nyheter/2021/hack-for-sweden-med-fokus-pa-digital-inkludering\n",
      "4 oktober 2021\n",
      "Behov av rättsligt stöd i olika former\n",
      "/om-oss/nyheter/2021/behov-av-rattsligt-stod-i-olika-former\n",
      "1 oktober 2021\n",
      "Uppdrag till DIGG om digital plånbok\n",
      "/om-oss/nyheter/2021/uppdrag-till-digg-om-digital-planbok\n",
      "29 september 2021\n",
      "Stort genomslag för digitala brevlådor till följd av covidbeviset\n",
      "/om-oss/nyheter/2021/stort-genomslag-for-digitala-brevlador-till-foljd-av-covidbeviset\n",
      "22 september 2021\n",
      "De sex vanligaste bristerna när DIGG granskar webbplatser\n",
      "/om-oss/nyheter/2021/de-sex-vanligaste-bristerna-nar-digg-granskar-webbplatser\n",
      "22 september 2021\n",
      "Nu fortsätter nätverket NOSAD:s seminarier\n",
      "/om-oss/nyheter/2021/nu-fortsatter-natverket-nosads-seminarier\n",
      "5 september 2021\n",
      "Hackaton med fokus på digital inkludering i oktober\n",
      "/om-oss/nyheter/2021/hackaton-med-fokus-pa-digital-inkludering-i-oktober\n",
      "5 september 2021\n",
      "Ökad andel e-fakturor – 25 myndigheter uppnår 90 procent\n",
      "/om-oss/nyheter/2021/okad-andel-e-fakturor--25-myndigheter-uppnar-90-procent\n",
      "5 september 2021\n"
     ]
    }
   ],
   "source": [
    "import requests\n",
    "from bs4 import BeautifulSoup\n",
    "from datetime import *\n",
    "import time\n",
    "import locale\n",
    "#from win10toast import ToastNotifier\n",
    "import webbrowser\n",
    "import ssl\n",
    "\n",
    "\n",
    "def go_to_page(adress):\n",
    "    adress = f'https://digg.se{adress}'\n",
    "    webbrowser.open(adress)\n",
    "\n",
    "# Hantera ev certifikatsproblem\n",
    "ctx = ssl.create_default_context()\n",
    "ctx.check_hostname = False\n",
    "ctx.verify_mode = ssl.CERT_NONE\n",
    "\n",
    "\n",
    "#locale.setlocale(locale.LC_ALL, 'sv_SE.utf8')\n",
    "today = date.today()\n",
    "yesterday = today - timedelta(days=1)\n",
    "curdate = time.strptime(str(yesterday), '%Y-%m-%d')\n",
    "\n",
    "#toaster = ToastNotifier()\n",
    "nonewnews = True\n",
    "\n",
    "url = 'https://www.digg.se/om-oss/nyheter'\n",
    "page = requests.get(url) #verify=False\n",
    "\n",
    "soup = BeautifulSoup(page.content,'html.parser')\n",
    "\n",
    "results = soup.find_all('li', class_='key-0')\n",
    "\n",
    "for result in results:\n",
    "    newsheader = result.find('div', class_='key-1wwwi8').text\n",
    "    date = result.find('div', class_='key-6vk0lw').text\n",
    "    #comparedate = time.strptime(date, '%d %B %Y')\n",
    "    link = result.find('a')['href']\n",
    "#    if curdate <= comparedate:\n",
    "    print(newsheader)\n",
    "    print(link)\n",
    "    print(date)\n",
    "        #toaster.show_toast(f'DIGG {date}', newsheader, duration=30, threaded=False, callback_on_click=lambda: go_to_page(link))\n",
    "    nonewnews = False\n",
    "\n",
    "\n",
    "if nonewnews == True:\n",
    "    print('På DIGG intet nytt!', '....')    \n",
    "    #toaster.show_toast('På DIGG intet nytt!', '....')"
   ]
  },
  {
   "cell_type": "code",
   "execution_count": null,
   "id": "f73df23e",
   "metadata": {},
   "outputs": [],
   "source": []
  }
 ],
 "metadata": {
  "kernelspec": {
   "display_name": "Python 3",
   "language": "python",
   "name": "python3"
  },
  "language_info": {
   "codemirror_mode": {
    "name": "ipython",
    "version": 3
   },
   "file_extension": ".py",
   "mimetype": "text/x-python",
   "name": "python",
   "nbconvert_exporter": "python",
   "pygments_lexer": "ipython3",
   "version": "3.9.4"
  }
 },
 "nbformat": 4,
 "nbformat_minor": 5
}
