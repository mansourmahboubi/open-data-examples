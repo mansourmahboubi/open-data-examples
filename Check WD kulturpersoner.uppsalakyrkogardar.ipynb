{
 "cells": [
  {
   "cell_type": "markdown",
   "metadata": {},
   "source": [
    "## Webscrape  \n",
    "* SPARQL https://w.wiki/PgP\n",
    "* https://kulturpersoner.uppsalakyrkogardar.se/galleri/"
   ]
  },
  {
   "cell_type": "code",
   "execution_count": 56,
   "metadata": {},
   "outputs": [
    {
     "name": "stdout",
     "output_type": "stream",
     "text": [
      "128  antal poster\n"
     ]
    }
   ],
   "source": [
    "#https://kulturpersoner.uppsalakyrkogardar.se/galleri/\n",
    "import requests\n",
    "import urllib.request\n",
    "import time\n",
    "from bs4 import BeautifulSoup\n",
    "def cleanupstring(s):\n",
    "    out_s = s\n",
    "    while '  ' in out_s:\n",
    "        out_s = out_s.strip().replace('  ', ' ')\n",
    "    return out_s, len(s)-len(out_s)\n",
    "\n",
    "urls = [\n",
    "    'https://kulturpersoner.uppsalakyrkogardar.se/galleri/']\n",
    "\n",
    "newList = []\n",
    "\n",
    "for url in urls:\n",
    "\n",
    "    response = requests.get(url)\n",
    "    soup = BeautifulSoup(response.text, \"html.parser\")\n",
    "    soup.findAll('a')\n",
    "    one_a_tag = soup.findAll('a')[0]\n",
    "    #    print ( one_a_tag )\n",
    "    #   link = one_a_tag['href']\n",
    "    time.sleep(1)\n",
    "    for i in range(1, len(soup.findAll('a'))):\n",
    "        new_item = dict()\n",
    "        one_a_tag = soup.findAll('a')[i]\n",
    "        one_a_tag_href = one_a_tag['href']\n",
    "        #print(one_a_tag_href)\n",
    "        #print(\"\\t\",one_a_tag.text)\n",
    "        if   \"karta\" not in one_a_tag_href \\\n",
    "                and not \"Kyrkogårdsvandring\" in one_a_tag.text \\\n",
    "                and not \"Search\" in one_a_tag.text \\\n",
    "                and not \"Start\" in one_a_tag.text \\\n",
    "                and not \"Vandringar\" in one_a_tag.text \\\n",
    "                and not \"Guidad\" in one_a_tag.text \\\n",
    "                and not \"galleri\" in one_a_tag_href \\\n",
    "                and not \"om-oss\"  in one_a_tag_href \\\n",
    "                and not \"kyrkogardsexpedition\"  in one_a_tag_href:\n",
    "            #print(one_a_tag.text,\"|\",one_a_tag.text.replace(\" \",\"_\").replace(\"%C3%84\",\"Ä\"),\"|\",one_a_tag_href.replace(\"/genealogi/\",\"\"))\n",
    "            \n",
    "            #person = one_a_tag.text.replace(\"https://kulturpersoner.uppsalakyrkogardar.se/\",\"\").replace(\"-\",\" \").replace(\"%C3%84\",\"Ä\")\n",
    "            #person = one_a_tag.text.replace(\"https://kulturpersoner.uppsalakyrkogardar.se/\",\"\")\n",
    "            new_item[\"person\"] = one_a_tag.text\n",
    "            new_item[\"href\"] = one_a_tag['href'].replace(\"https://kulturpersoner.uppsalakyrkogardar.se/\",\"\").replace(\"/\",\"\")\n",
    "            #print(new_item)\n",
    "            newList.append(new_item)\n",
    "print (len(newList) ,\" antal poster\")"
   ]
  },
  {
   "cell_type": "code",
   "execution_count": 57,
   "metadata": {},
   "outputs": [],
   "source": [
    "import pandas as pd  \n",
    "Kulturgravar = pd.DataFrame(newList)"
   ]
  },
  {
   "cell_type": "code",
   "execution_count": 58,
   "metadata": {},
   "outputs": [
    {
     "data": {
      "text/html": [
       "<div>\n",
       "<style scoped>\n",
       "    .dataframe tbody tr th:only-of-type {\n",
       "        vertical-align: middle;\n",
       "    }\n",
       "\n",
       "    .dataframe tbody tr th {\n",
       "        vertical-align: top;\n",
       "    }\n",
       "\n",
       "    .dataframe thead th {\n",
       "        text-align: right;\n",
       "    }\n",
       "</style>\n",
       "<table border=\"1\" class=\"dataframe\">\n",
       "  <thead>\n",
       "    <tr style=\"text-align: right;\">\n",
       "      <th></th>\n",
       "      <th>person</th>\n",
       "      <th>href</th>\n",
       "    </tr>\n",
       "  </thead>\n",
       "  <tbody>\n",
       "    <tr>\n",
       "      <th>0</th>\n",
       "      <td>Anita Nathorst</td>\n",
       "      <td>anita-nathorst</td>\n",
       "    </tr>\n",
       "    <tr>\n",
       "      <th>1</th>\n",
       "      <td>Henri Osti</td>\n",
       "      <td>henri-osti</td>\n",
       "    </tr>\n",
       "    <tr>\n",
       "      <th>2</th>\n",
       "      <td>Fadime Sahindal</td>\n",
       "      <td>fadime-sahindal</td>\n",
       "    </tr>\n",
       "    <tr>\n",
       "      <th>3</th>\n",
       "      <td>Edvard Raab</td>\n",
       "      <td>edvard-raab</td>\n",
       "    </tr>\n",
       "    <tr>\n",
       "      <th>4</th>\n",
       "      <td>Karl Gustaf Lennander</td>\n",
       "      <td>karl-gustaf-lennander</td>\n",
       "    </tr>\n",
       "    <tr>\n",
       "      <th>...</th>\n",
       "      <td>...</td>\n",
       "      <td>...</td>\n",
       "    </tr>\n",
       "    <tr>\n",
       "      <th>123</th>\n",
       "      <td>Uno von Troil</td>\n",
       "      <td>uno-von-troil</td>\n",
       "    </tr>\n",
       "    <tr>\n",
       "      <th>124</th>\n",
       "      <td>Viktor Persson</td>\n",
       "      <td>viktor-persson</td>\n",
       "    </tr>\n",
       "    <tr>\n",
       "      <th>125</th>\n",
       "      <td>Vivi Täckholm</td>\n",
       "      <td>vivi-tackholm</td>\n",
       "    </tr>\n",
       "    <tr>\n",
       "      <th>126</th>\n",
       "      <td>Yngve Svalander</td>\n",
       "      <td>yngve-svalander</td>\n",
       "    </tr>\n",
       "    <tr>\n",
       "      <th>127</th>\n",
       "      <td>Åke Holm</td>\n",
       "      <td>ake-holm</td>\n",
       "    </tr>\n",
       "  </tbody>\n",
       "</table>\n",
       "<p>128 rows × 2 columns</p>\n",
       "</div>"
      ],
      "text/plain": [
       "                    person                   href\n",
       "0           Anita Nathorst         anita-nathorst\n",
       "1               Henri Osti             henri-osti\n",
       "2          Fadime Sahindal        fadime-sahindal\n",
       "3              Edvard Raab            edvard-raab\n",
       "4    Karl Gustaf Lennander  karl-gustaf-lennander\n",
       "..                     ...                    ...\n",
       "123          Uno von Troil          uno-von-troil\n",
       "124         Viktor Persson         viktor-persson\n",
       "125          Vivi Täckholm          vivi-tackholm\n",
       "126        Yngve Svalander        yngve-svalander\n",
       "127               Åke Holm               ake-holm\n",
       "\n",
       "[128 rows x 2 columns]"
      ]
     },
     "execution_count": 58,
     "metadata": {},
     "output_type": "execute_result"
    }
   ],
   "source": [
    "Kulturgravar"
   ]
  },
  {
   "cell_type": "markdown",
   "metadata": {},
   "source": [
    "Wikidata "
   ]
  },
  {
   "cell_type": "code",
   "execution_count": null,
   "metadata": {},
   "outputs": [],
   "source": []
  }
 ],
 "metadata": {
  "kernelspec": {
   "display_name": "Python 3",
   "language": "python",
   "name": "python3"
  },
  "language_info": {
   "codemirror_mode": {
    "name": "ipython",
    "version": 3
   },
   "file_extension": ".py",
   "mimetype": "text/x-python",
   "name": "python",
   "nbconvert_exporter": "python",
   "pygments_lexer": "ipython3",
   "version": "3.8.0"
  }
 },
 "nbformat": 4,
 "nbformat_minor": 4
}
