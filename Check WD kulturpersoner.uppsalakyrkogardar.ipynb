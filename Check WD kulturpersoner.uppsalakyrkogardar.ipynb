{
 "cells": [
  {
   "cell_type": "markdown",
   "metadata": {},
   "source": [
    "## Webscrape kulturpersoner.uppsalakyrkogardar\n",
    "version 0.2\n",
    "\n",
    "checks uppsalakyrkogardar and compare with Wikidata. \n",
    "\n",
    "* This [notebook](https://github.com/salgo60/open-data-examples/blob/master/Check%20WD%20kulturpersoner.uppsalakyrkogardar.ipynb)\n",
    "* Wikidata SPARQL https://w.wiki/PgP\n",
    "* Webpage to check https://kulturpersoner.uppsalakyrkogardar.se/galleri/"
   ]
  },
  {
   "cell_type": "code",
   "execution_count": 1,
   "metadata": {},
   "outputs": [
    {
     "name": "stdout",
     "output_type": "stream",
     "text": [
      "Last run:  2020-09-29 13:51:05.533821\n"
     ]
    }
   ],
   "source": [
    "from datetime import datetime\n",
    "start_time  = datetime.now()\n",
    "print(\"Last run: \", start_time)"
   ]
  },
  {
   "cell_type": "code",
   "execution_count": 2,
   "metadata": {},
   "outputs": [
    {
     "name": "stdout",
     "output_type": "stream",
     "text": [
      "128  antal poster\n"
     ]
    }
   ],
   "source": [
    "#https://kulturpersoner.uppsalakyrkogardar.se/galleri/\n",
    "import requests\n",
    "import urllib.request\n",
    "import time\n",
    "from bs4 import BeautifulSoup\n",
    "def cleanupstring(s):\n",
    "    out_s = s\n",
    "    while '  ' in out_s:\n",
    "        out_s = out_s.strip().replace('  ', ' ')\n",
    "    return out_s, len(s)-len(out_s)\n",
    "\n",
    "urls = [\n",
    "    'https://kulturpersoner.uppsalakyrkogardar.se/galleri/']\n",
    "\n",
    "newList = []\n",
    "\n",
    "for url in urls:\n",
    "\n",
    "    response = requests.get(url)\n",
    "    soup = BeautifulSoup(response.text, \"html.parser\")\n",
    "    soup.findAll('a')\n",
    "    one_a_tag = soup.findAll('a')[0]\n",
    "    #    print ( one_a_tag )\n",
    "    #   link = one_a_tag['href']\n",
    "    time.sleep(1)\n",
    "    for i in range(1, len(soup.findAll('a'))):\n",
    "        new_item = dict()\n",
    "        one_a_tag = soup.findAll('a')[i]\n",
    "        one_a_tag_href = one_a_tag['href']\n",
    "        #print(one_a_tag_href)\n",
    "        #print(\"\\t\",one_a_tag.text)\n",
    "        if   \"karta\" not in one_a_tag_href \\\n",
    "                and not \"Kyrkogårdsvandring\" in one_a_tag.text \\\n",
    "                and not \"Search\" in one_a_tag.text \\\n",
    "                and not \"Start\" in one_a_tag.text \\\n",
    "                and not \"Vandringar\" in one_a_tag.text \\\n",
    "                and not \"Guidad\" in one_a_tag.text \\\n",
    "                and not \"galleri\" in one_a_tag_href \\\n",
    "                and not \"om-oss\"  in one_a_tag_href \\\n",
    "                and not \"kyrkogardsexpedition\"  in one_a_tag_href:\n",
    "            #print(one_a_tag.text,\"|\",one_a_tag.text.replace(\" \",\"_\").replace(\"%C3%84\",\"Ä\"),\"|\",one_a_tag_href.replace(\"/genealogi/\",\"\"))\n",
    "            \n",
    "            #person = one_a_tag.text.replace(\"https://kulturpersoner.uppsalakyrkogardar.se/\",\"\").replace(\"-\",\" \").replace(\"%C3%84\",\"Ä\")\n",
    "            #person = one_a_tag.text.replace(\"https://kulturpersoner.uppsalakyrkogardar.se/\",\"\")\n",
    "            new_item[\"kulturgravname\"] = one_a_tag.text\n",
    "            new_item[\"href\"] = one_a_tag['href'].replace(\"https://kulturpersoner.uppsalakyrkogardar.se/\",\"\").replace(\"/\",\"\")\n",
    "            #print(new_item)\n",
    "            newList.append(new_item)\n",
    "print (len(newList) ,\" antal poster\")"
   ]
  },
  {
   "cell_type": "code",
   "execution_count": 3,
   "metadata": {},
   "outputs": [],
   "source": [
    "import pandas as pd  \n",
    "Kulturgravar = pd.DataFrame(newList)"
   ]
  },
  {
   "cell_type": "code",
   "execution_count": 4,
   "metadata": {},
   "outputs": [
    {
     "data": {
      "text/html": [
       "<div>\n",
       "<style scoped>\n",
       "    .dataframe tbody tr th:only-of-type {\n",
       "        vertical-align: middle;\n",
       "    }\n",
       "\n",
       "    .dataframe tbody tr th {\n",
       "        vertical-align: top;\n",
       "    }\n",
       "\n",
       "    .dataframe thead th {\n",
       "        text-align: right;\n",
       "    }\n",
       "</style>\n",
       "<table border=\"1\" class=\"dataframe\">\n",
       "  <thead>\n",
       "    <tr style=\"text-align: right;\">\n",
       "      <th></th>\n",
       "      <th>kulturgravname</th>\n",
       "      <th>href</th>\n",
       "    </tr>\n",
       "  </thead>\n",
       "  <tbody>\n",
       "    <tr>\n",
       "      <th>0</th>\n",
       "      <td>Alfred Dahlgren</td>\n",
       "      <td>alfred-dahlgren</td>\n",
       "    </tr>\n",
       "    <tr>\n",
       "      <th>1</th>\n",
       "      <td>Rosalie Olivecrona</td>\n",
       "      <td>rosalie-olivecrona</td>\n",
       "    </tr>\n",
       "    <tr>\n",
       "      <th>2</th>\n",
       "      <td>Hans Rosling</td>\n",
       "      <td>hans-rosling</td>\n",
       "    </tr>\n",
       "    <tr>\n",
       "      <th>3</th>\n",
       "      <td>Emma Schenson</td>\n",
       "      <td>emma-schenson</td>\n",
       "    </tr>\n",
       "    <tr>\n",
       "      <th>4</th>\n",
       "      <td>Sonja Lyttkens</td>\n",
       "      <td>sonja-lyttkens</td>\n",
       "    </tr>\n",
       "    <tr>\n",
       "      <th>...</th>\n",
       "      <td>...</td>\n",
       "      <td>...</td>\n",
       "    </tr>\n",
       "    <tr>\n",
       "      <th>123</th>\n",
       "      <td>Uno von Troil</td>\n",
       "      <td>uno-von-troil</td>\n",
       "    </tr>\n",
       "    <tr>\n",
       "      <th>124</th>\n",
       "      <td>Viktor Persson</td>\n",
       "      <td>viktor-persson</td>\n",
       "    </tr>\n",
       "    <tr>\n",
       "      <th>125</th>\n",
       "      <td>Vivi Täckholm</td>\n",
       "      <td>vivi-tackholm</td>\n",
       "    </tr>\n",
       "    <tr>\n",
       "      <th>126</th>\n",
       "      <td>Yngve Svalander</td>\n",
       "      <td>yngve-svalander</td>\n",
       "    </tr>\n",
       "    <tr>\n",
       "      <th>127</th>\n",
       "      <td>Åke Holm</td>\n",
       "      <td>ake-holm</td>\n",
       "    </tr>\n",
       "  </tbody>\n",
       "</table>\n",
       "<p>128 rows × 2 columns</p>\n",
       "</div>"
      ],
      "text/plain": [
       "         kulturgravname                href\n",
       "0       Alfred Dahlgren     alfred-dahlgren\n",
       "1    Rosalie Olivecrona  rosalie-olivecrona\n",
       "2          Hans Rosling        hans-rosling\n",
       "3         Emma Schenson       emma-schenson\n",
       "4        Sonja Lyttkens      sonja-lyttkens\n",
       "..                  ...                 ...\n",
       "123       Uno von Troil       uno-von-troil\n",
       "124      Viktor Persson      viktor-persson\n",
       "125       Vivi Täckholm       vivi-tackholm\n",
       "126     Yngve Svalander     yngve-svalander\n",
       "127            Åke Holm            ake-holm\n",
       "\n",
       "[128 rows x 2 columns]"
      ]
     },
     "execution_count": 4,
     "metadata": {},
     "output_type": "execute_result"
    }
   ],
   "source": [
    "Kulturgravar"
   ]
  },
  {
   "cell_type": "markdown",
   "metadata": {},
   "source": [
    "Wikidata "
   ]
  },
  {
   "cell_type": "code",
   "execution_count": 5,
   "metadata": {},
   "outputs": [],
   "source": [
    "# pip install sparqlwrapper\n",
    "# https://rdflib.github.io/sparqlwrapper/\n",
    "\n",
    "import sys,json\n",
    "from SPARQLWrapper import SPARQLWrapper, JSON\n",
    "\n",
    "endpoint_url = \"https://query.wikidata.org/sparql\"\n",
    "\n",
    "# https://w.wiki/crt\n",
    "\n",
    "query = \"\"\"select ?person (REPLACE(STR(?person),\".*Q\",\"Q\") AS ?qid) ?personLabel ?refURL ?href\n",
    "{\n",
    "   hint:Query hint:optimizer \"None\" .\n",
    "   ?person wdt:P119 wd:Q4353116;\n",
    "           p:P119 ?burial_statement. #Place of burial\n",
    "   {?burial_statement prov:wasDerivedFrom ?ref}\n",
    "   {?ref pr:P854 ?refURL} \n",
    "   FILTER (CONTAINS(str(?refURL),'kulturpersoner')) .  \n",
    "   BIND(REPLACE(REPLACE(str(?refURL), \"https://kulturpersoner.uppsalakyrkogardar.se/\", \"\"),\"/\",\"\") AS ?href)\n",
    " \n",
    "   SERVICE wikibase:label { bd:serviceParam wikibase:language \"sv\"}\n",
    "}\n",
    "Order by ?personLabel\n",
    "\"\"\"\n",
    "\n",
    "def get_sparql_dataframe(endpoint_url, query):\n",
    "    \"\"\"\n",
    "    Helper function to convert SPARQL results into a Pandas data frame.\n",
    "    \"\"\"\n",
    "    user_agent = \"salgo60/%s.%s\" % (sys.version_info[0], sys.version_info[1])\n",
    " \n",
    "    sparql = SPARQLWrapper(endpoint_url, agent=user_agent)\n",
    "    sparql.setQuery(query)\n",
    "    sparql.setReturnFormat(JSON)\n",
    "    result = sparql.query()\n",
    "\n",
    "    processed_results = json.load(result.response)\n",
    "    cols = processed_results['head']['vars']\n",
    "\n",
    "    out = []\n",
    "    for row in processed_results['results']['bindings']:\n",
    "        item = []\n",
    "        for c in cols:\n",
    "            item.append(row.get(c, {}).get('value'))\n",
    "        out.append(item)\n",
    "\n",
    "    return pd.DataFrame(out, columns=cols)\n",
    "\n",
    "WDKulturGravar = get_sparql_dataframe(endpoint_url, query)\n"
   ]
  },
  {
   "cell_type": "code",
   "execution_count": 6,
   "metadata": {},
   "outputs": [
    {
     "data": {
      "text/html": [
       "<div>\n",
       "<style scoped>\n",
       "    .dataframe tbody tr th:only-of-type {\n",
       "        vertical-align: middle;\n",
       "    }\n",
       "\n",
       "    .dataframe tbody tr th {\n",
       "        vertical-align: top;\n",
       "    }\n",
       "\n",
       "    .dataframe thead th {\n",
       "        text-align: right;\n",
       "    }\n",
       "</style>\n",
       "<table border=\"1\" class=\"dataframe\">\n",
       "  <thead>\n",
       "    <tr style=\"text-align: right;\">\n",
       "      <th></th>\n",
       "      <th>person</th>\n",
       "      <th>qid</th>\n",
       "      <th>personLabel</th>\n",
       "      <th>refURL</th>\n",
       "      <th>href</th>\n",
       "    </tr>\n",
       "  </thead>\n",
       "  <tbody>\n",
       "    <tr>\n",
       "      <th>0</th>\n",
       "      <td>http://www.wikidata.org/entity/Q63992891</td>\n",
       "      <td>Q63992891</td>\n",
       "      <td>Adolf Fredrik Nyman</td>\n",
       "      <td>https://kulturpersoner.uppsalakyrkogardar.se/a...</td>\n",
       "      <td>adolf-nyman</td>\n",
       "    </tr>\n",
       "    <tr>\n",
       "      <th>1</th>\n",
       "      <td>http://www.wikidata.org/entity/Q2913935</td>\n",
       "      <td>Q2913935</td>\n",
       "      <td>Adolf Murray</td>\n",
       "      <td>https://kulturpersoner.uppsalakyrkogardar.se/a...</td>\n",
       "      <td>adolph-murray</td>\n",
       "    </tr>\n",
       "    <tr>\n",
       "      <th>2</th>\n",
       "      <td>http://www.wikidata.org/entity/Q2653181</td>\n",
       "      <td>Q2653181</td>\n",
       "      <td>Adolf Noreen</td>\n",
       "      <td>https://kulturpersoner.uppsalakyrkogardar.se/a...</td>\n",
       "      <td>adolf-noreen</td>\n",
       "    </tr>\n",
       "    <tr>\n",
       "      <th>3</th>\n",
       "      <td>http://www.wikidata.org/entity/Q364399</td>\n",
       "      <td>Q364399</td>\n",
       "      <td>Adolph Törneros</td>\n",
       "      <td>https://kulturpersoner.uppsalakyrkogardar.se/a...</td>\n",
       "      <td>adolph-torneros</td>\n",
       "    </tr>\n",
       "    <tr>\n",
       "      <th>4</th>\n",
       "      <td>http://www.wikidata.org/entity/Q4949712</td>\n",
       "      <td>Q4949712</td>\n",
       "      <td>Agnes Geijer</td>\n",
       "      <td>https://kulturpersoner.uppsalakyrkogardar.se/a...</td>\n",
       "      <td>agnes-geijer</td>\n",
       "    </tr>\n",
       "    <tr>\n",
       "      <th>...</th>\n",
       "      <td>...</td>\n",
       "      <td>...</td>\n",
       "      <td>...</td>\n",
       "      <td>...</td>\n",
       "      <td>...</td>\n",
       "    </tr>\n",
       "    <tr>\n",
       "      <th>116</th>\n",
       "      <td>http://www.wikidata.org/entity/Q943803</td>\n",
       "      <td>Q943803</td>\n",
       "      <td>Uno von Troil</td>\n",
       "      <td>https://kulturpersoner.uppsalakyrkogardar.se/u...</td>\n",
       "      <td>uno-von-troil</td>\n",
       "    </tr>\n",
       "    <tr>\n",
       "      <th>117</th>\n",
       "      <td>http://www.wikidata.org/entity/Q6043915</td>\n",
       "      <td>Q6043915</td>\n",
       "      <td>Viktor Persson</td>\n",
       "      <td>https://kulturpersoner.uppsalakyrkogardar.se/v...</td>\n",
       "      <td>viktor-persson</td>\n",
       "    </tr>\n",
       "    <tr>\n",
       "      <th>118</th>\n",
       "      <td>http://www.wikidata.org/entity/Q4983741</td>\n",
       "      <td>Q4983741</td>\n",
       "      <td>Vivi Laurent-Täckholm</td>\n",
       "      <td>https://kulturpersoner.uppsalakyrkogardar.se/v...</td>\n",
       "      <td>vivi-tackholm</td>\n",
       "    </tr>\n",
       "    <tr>\n",
       "      <th>119</th>\n",
       "      <td>http://www.wikidata.org/entity/Q6197251</td>\n",
       "      <td>Q6197251</td>\n",
       "      <td>Yngve Svalander</td>\n",
       "      <td>https://kulturpersoner.uppsalakyrkogardar.se/y...</td>\n",
       "      <td>yngve-svalander</td>\n",
       "    </tr>\n",
       "    <tr>\n",
       "      <th>120</th>\n",
       "      <td>http://www.wikidata.org/entity/Q13390628</td>\n",
       "      <td>Q13390628</td>\n",
       "      <td>Åke Holm</td>\n",
       "      <td>https://kulturpersoner.uppsalakyrkogardar.se/a...</td>\n",
       "      <td>ake-holm</td>\n",
       "    </tr>\n",
       "  </tbody>\n",
       "</table>\n",
       "<p>121 rows × 5 columns</p>\n",
       "</div>"
      ],
      "text/plain": [
       "                                       person  ...             href\n",
       "0    http://www.wikidata.org/entity/Q63992891  ...      adolf-nyman\n",
       "1     http://www.wikidata.org/entity/Q2913935  ...    adolph-murray\n",
       "2     http://www.wikidata.org/entity/Q2653181  ...     adolf-noreen\n",
       "3      http://www.wikidata.org/entity/Q364399  ...  adolph-torneros\n",
       "4     http://www.wikidata.org/entity/Q4949712  ...     agnes-geijer\n",
       "..                                        ...  ...              ...\n",
       "116    http://www.wikidata.org/entity/Q943803  ...    uno-von-troil\n",
       "117   http://www.wikidata.org/entity/Q6043915  ...   viktor-persson\n",
       "118   http://www.wikidata.org/entity/Q4983741  ...    vivi-tackholm\n",
       "119   http://www.wikidata.org/entity/Q6197251  ...  yngve-svalander\n",
       "120  http://www.wikidata.org/entity/Q13390628  ...         ake-holm\n",
       "\n",
       "[121 rows x 5 columns]"
      ]
     },
     "execution_count": 6,
     "metadata": {},
     "output_type": "execute_result"
    }
   ],
   "source": [
    "WDKulturGravar"
   ]
  },
  {
   "cell_type": "markdown",
   "metadata": {},
   "source": [
    "compare href "
   ]
  },
  {
   "cell_type": "code",
   "execution_count": 7,
   "metadata": {},
   "outputs": [],
   "source": [
    "dfmerge = pd.merge(WDKulturGravar, Kulturgravar,how='outer', on='href',indicator=True)"
   ]
  },
  {
   "cell_type": "code",
   "execution_count": 8,
   "metadata": {},
   "outputs": [],
   "source": [
    "dfmerge['_merge'] = dfmerge['_merge'].str.replace('left_only','Wikidata_only').str.replace('right_only','Kulturgravar_only')\n",
    "dfmerge.rename(columns={\"_merge\": \"Kulturgravar_Wikidata\"},inplace = True)\n"
   ]
  },
  {
   "cell_type": "code",
   "execution_count": 9,
   "metadata": {},
   "outputs": [
    {
     "data": {
      "text/plain": [
       "both    130\n",
       "Name: Kulturgravar_Wikidata, dtype: int64"
      ]
     },
     "execution_count": 9,
     "metadata": {},
     "output_type": "execute_result"
    }
   ],
   "source": [
    "dfmerge[\"Kulturgravar_Wikidata\"].value_counts()"
   ]
  },
  {
   "cell_type": "code",
   "execution_count": 10,
   "metadata": {},
   "outputs": [
    {
     "data": {
      "text/html": [
       "<div>\n",
       "<style scoped>\n",
       "    .dataframe tbody tr th:only-of-type {\n",
       "        vertical-align: middle;\n",
       "    }\n",
       "\n",
       "    .dataframe tbody tr th {\n",
       "        vertical-align: top;\n",
       "    }\n",
       "\n",
       "    .dataframe thead th {\n",
       "        text-align: right;\n",
       "    }\n",
       "</style>\n",
       "<table border=\"1\" class=\"dataframe\">\n",
       "  <thead>\n",
       "    <tr style=\"text-align: right;\">\n",
       "      <th></th>\n",
       "      <th>person</th>\n",
       "      <th>qid</th>\n",
       "      <th>personLabel</th>\n",
       "      <th>refURL</th>\n",
       "      <th>href</th>\n",
       "      <th>kulturgravname</th>\n",
       "      <th>Kulturgravar_Wikidata</th>\n",
       "    </tr>\n",
       "  </thead>\n",
       "  <tbody>\n",
       "  </tbody>\n",
       "</table>\n",
       "</div>"
      ],
      "text/plain": [
       "Empty DataFrame\n",
       "Columns: [person, qid, personLabel, refURL, href, kulturgravname, Kulturgravar_Wikidata]\n",
       "Index: []"
      ]
     },
     "execution_count": 10,
     "metadata": {},
     "output_type": "execute_result"
    }
   ],
   "source": [
    "KulturgravarNotBoth = dfmerge[~(dfmerge[\"Kulturgravar_Wikidata\"] == \"both\")].copy() \n",
    "KulturgravarNotBoth\n"
   ]
  },
  {
   "cell_type": "code",
   "execution_count": 11,
   "metadata": {},
   "outputs": [
    {
     "data": {
      "text/plain": [
       "Series([], Name: refURL, dtype: object)"
      ]
     },
     "execution_count": 11,
     "metadata": {},
     "output_type": "execute_result"
    }
   ],
   "source": [
    "KulturgravarNotBoth[\"refURL\"]\n"
   ]
  },
  {
   "cell_type": "code",
   "execution_count": 12,
   "metadata": {},
   "outputs": [],
   "source": [
    "Kulturgravaronly = dfmerge[dfmerge[\"Kulturgravar_Wikidata\"] == \"Kulturgravar_only\"].copy() "
   ]
  },
  {
   "cell_type": "code",
   "execution_count": 13,
   "metadata": {},
   "outputs": [
    {
     "name": "stdout",
     "output_type": "stream",
     "text": [
      "<class 'pandas.core.frame.DataFrame'>\n",
      "Int64Index: 0 entries\n",
      "Data columns (total 7 columns):\n",
      " #   Column                 Non-Null Count  Dtype \n",
      "---  ------                 --------------  ----- \n",
      " 0   person                 0 non-null      object\n",
      " 1   qid                    0 non-null      object\n",
      " 2   personLabel            0 non-null      object\n",
      " 3   refURL                 0 non-null      object\n",
      " 4   href                   0 non-null      object\n",
      " 5   kulturgravname         0 non-null      object\n",
      " 6   Kulturgravar_Wikidata  0 non-null      object\n",
      "dtypes: object(7)\n",
      "memory usage: 0.0+ bytes\n"
     ]
    }
   ],
   "source": [
    "Kulturgravaronly.info()"
   ]
  },
  {
   "cell_type": "code",
   "execution_count": 14,
   "metadata": {},
   "outputs": [
    {
     "data": {
      "text/html": [
       "<div>\n",
       "<style scoped>\n",
       "    .dataframe tbody tr th:only-of-type {\n",
       "        vertical-align: middle;\n",
       "    }\n",
       "\n",
       "    .dataframe tbody tr th {\n",
       "        vertical-align: top;\n",
       "    }\n",
       "\n",
       "    .dataframe thead th {\n",
       "        text-align: right;\n",
       "    }\n",
       "</style>\n",
       "<table border=\"1\" class=\"dataframe\">\n",
       "  <thead>\n",
       "    <tr style=\"text-align: right;\">\n",
       "      <th></th>\n",
       "      <th>kulturgravname</th>\n",
       "      <th>url</th>\n",
       "    </tr>\n",
       "  </thead>\n",
       "  <tbody>\n",
       "  </tbody>\n",
       "</table>\n",
       "</div>"
      ],
      "text/plain": [
       "Empty DataFrame\n",
       "Columns: [kulturgravname, url]\n",
       "Index: []"
      ]
     },
     "execution_count": 14,
     "metadata": {},
     "output_type": "execute_result"
    }
   ],
   "source": [
    "Kulturgravaronly[\"url\"] = \"https://kulturpersoner.uppsalakyrkogardar.se/\" + Kulturgravaronly[\"href\"] \n",
    "pd.set_option('column_space', 20)\n",
    "pd.set_option('max_colwidth', 300)\n",
    "Kulturgravaronly = Kulturgravaronly.reset_index(drop=True)  \n",
    "\n",
    "Kulturgravaronly[[\"kulturgravname\",\"url\"]]"
   ]
  },
  {
   "cell_type": "code",
   "execution_count": 15,
   "metadata": {},
   "outputs": [
    {
     "name": "stdout",
     "output_type": "stream",
     "text": [
      "Ended:  2020-09-29 13:51:07.428835\n",
      "Time elapsed (hh:mm:ss.ms) 0:00:01.895286\n"
     ]
    }
   ],
   "source": [
    "end = datetime.now()\n",
    "print(\"Ended: \", end)\n",
    "print('Time elapsed (hh:mm:ss.ms) {}'.format(datetime.now() - start_time))"
   ]
  }
 ],
 "metadata": {
  "kernelspec": {
   "display_name": "Python 3",
   "language": "python",
   "name": "python3"
  },
  "language_info": {
   "codemirror_mode": {
    "name": "ipython",
    "version": 3
   },
   "file_extension": ".py",
   "mimetype": "text/x-python",
   "name": "python",
   "nbconvert_exporter": "python",
   "pygments_lexer": "ipython3",
   "version": "3.8.0"
  }
 },
 "nbformat": 4,
 "nbformat_minor": 4
}
