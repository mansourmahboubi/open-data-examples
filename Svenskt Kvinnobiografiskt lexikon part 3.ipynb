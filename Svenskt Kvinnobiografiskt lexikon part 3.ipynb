{
 "cells": [
  {
   "cell_type": "markdown",
   "metadata": {},
   "source": [
    "# Svenskt Kvinnobiografiskt lexikon part 3\n",
    "    version part 3 - 1.13  get statiustics SKBL and compare with SBL\n",
    "\n",
    "\n",
    "* this [Jupyter Notebook](https://github.com/salgo60/open-data-examples/blob/master/Svenskt%20Kvinnobiografiskt%20lexikon%20part%203.ipynb) \n",
    "  * [part 1](https://github.com/salgo60/open-data-examples/blob/master/Svenskt%20Kvinnobiografiskt%20lexikon.ipynb) check Wikidata and SKBL\n",
    "  * [part 2](https://github.com/salgo60/open-data-examples/blob/master/Svenskt%20Kvinnobiografiskt%20lexikon%20part%202.ipynb) more queries etc.\n",
    "  * [part 4](https://github.com/salgo60/open-data-examples/blob/master/Svenskt%20Kvinnobiografiskt%20lexikon%20part%204.ipynb) get archives\n",
    "  * [part 5](https://github.com/salgo60/open-data-examples/blob/master/Svenskt%20Kvinnobiografiskt%20lexikon%20part%205.ipynb) check Uppsala University Alvin\n",
    "* [video](https://www.youtube.com/watch?v=6jxH8MBIhvg) in Swedish about how SKBL deliver and work with Wikidata\n",
    "  * Example how project Women in Red at en:Wikipedia automatic [creates list](https://en.wikipedia.org/wiki/Wikipedia:WikiProject_Women_in_Red/Missing_articles_by_dictionary/BDSW) that shows what in SKBL has an english article about a women but not have an english article in en:Wikipedia\n",
    "    * see [version history](https://en.wikipedia.org/w/index.php?title=Wikipedia:WikiProject_Women_in_Red/Missing_articles_by_dictionary/BDSW&action=history) of list created\n",
    "    * see en:Wikipedia articles [with a link to SKBL](https://en.wikipedia.org/wiki/Category:SKBL_template_using_Wikidata_property_P4963) > 680 articles"
   ]
  },
  {
   "cell_type": "markdown",
   "metadata": {},
   "source": [
    "Below we get SKBL, SBL and Wikidata to create some statistics\n",
    "\n",
    "**See also**\n",
    "* video [Introduction to Wikidata](https://www.youtube.com/watch?v=m_9_23jXPoE)"
   ]
  },
  {
   "cell_type": "markdown",
   "metadata": {},
   "source": [
    "# Wikidata - WDSKBLtot"
   ]
  },
  {
   "cell_type": "code",
   "execution_count": 1,
   "metadata": {},
   "outputs": [
    {
     "name": "stdout",
     "output_type": "stream",
     "text": [
      "Last run:  2020-09-17 18:27:06.506147\n"
     ]
    }
   ],
   "source": [
    "from datetime import datetime\n",
    "start_time  = datetime.now()\n",
    "print(\"Last run: \", start_time)"
   ]
  },
  {
   "cell_type": "code",
   "execution_count": 2,
   "metadata": {},
   "outputs": [],
   "source": [
    "# pip install sparqlwrapper\n",
    "# https://rdflib.github.io/sparqlwrapper/\n",
    "\n",
    "import sys,json\n",
    "import pandas as pd \n",
    "\n",
    "from SPARQLWrapper import SPARQLWrapper, JSON\n",
    "\n",
    "endpoint_url = \"https://query.wikidata.org/sparql\"\n",
    "\n",
    "querySKBL = \"\"\"SELECT (REPLACE(STR(?item), \".*Q\", \"Q\") AS ?wid)  ?skblid WHERE {\n",
    "?item wdt:P31 wd:Q5.\n",
    "?item wdt:P4963 ?skblid\n",
    "} order by ?skbl\"\"\"\n",
    "\n",
    "def get_sparql_dataframe(endpoint_url, query):\n",
    "    \"\"\"\n",
    "    Helper function to convert SPARQL results into a Pandas data frame.\n",
    "    \"\"\"\n",
    "    user_agent = \"salgo60/%s.%s\" % (sys.version_info[0], sys.version_info[1])\n",
    " \n",
    "    sparql = SPARQLWrapper(endpoint_url, agent=user_agent)\n",
    "    sparql.setQuery(query)\n",
    "    sparql.setReturnFormat(JSON)\n",
    "    result = sparql.query()\n",
    "\n",
    "    processed_results = json.load(result.response)\n",
    "    cols = processed_results['head']['vars']\n",
    "\n",
    "    out = []\n",
    "    for row in processed_results['results']['bindings']:\n",
    "        item = []\n",
    "        for c in cols:\n",
    "            item.append(row.get(c, {}).get('value'))\n",
    "        out.append(item)\n",
    "\n",
    "    return pd.DataFrame(out, columns=cols)\n",
    "\n",
    "WDSKBLtot = get_sparql_dataframe(endpoint_url, querySKBL)\n",
    "WDSKBLtot[\"Source\"] = \"SKBL\" \n"
   ]
  },
  {
   "cell_type": "code",
   "execution_count": 3,
   "metadata": {},
   "outputs": [],
   "source": [
    "WDSKBLtot.sort_index(inplace=True)  "
   ]
  },
  {
   "cell_type": "code",
   "execution_count": 4,
   "metadata": {},
   "outputs": [
    {
     "name": "stdout",
     "output_type": "stream",
     "text": [
      "<class 'pandas.core.frame.DataFrame'>\n",
      "RangeIndex: 1500 entries, 0 to 1499\n",
      "Data columns (total 3 columns):\n",
      " #   Column  Non-Null Count  Dtype \n",
      "---  ------  --------------  ----- \n",
      " 0   wid     1500 non-null   object\n",
      " 1   skblid  1500 non-null   object\n",
      " 2   Source  1500 non-null   object\n",
      "dtypes: object(3)\n",
      "memory usage: 35.3+ KB\n"
     ]
    }
   ],
   "source": [
    "WDSKBLtot.info()"
   ]
  },
  {
   "cell_type": "markdown",
   "metadata": {},
   "source": [
    "## Get SKBL records - SKBLtot"
   ]
  },
  {
   "cell_type": "code",
   "execution_count": 5,
   "metadata": {
    "scrolled": false
   },
   "outputs": [
    {
     "name": "stdout",
     "output_type": "stream",
     "text": [
      "1500  antal poster\n"
     ]
    }
   ],
   "source": [
    "import urllib3, json\n",
    "import pandas as pd \n",
    "http = urllib3.PoolManager() \n",
    "pd.set_option(\"display.max.columns\", None)\n",
    "pd.set_option('display.max_rows', None)\n",
    "\n",
    "  \n",
    "#Ny bättre URL    \n",
    "url = \"https://ws.spraakbanken.gu.se/ws/karp/v5/query?mode=skbl&q=extended%7C%7Cand%7Cskblstatus%7Cequals%7Cok&size=10000\"\n",
    "r = http.request('GET', url) \n",
    "data = json.loads(r.data.decode('utf-8')) \n",
    "#print(type(data))\n",
    "#print(r.info())  \n",
    "\n",
    "listSKBL = []\n",
    "i = 0 \n",
    "for row in (data[\"hits\"][\"hits\"]):\n",
    "    #print (row[\"_source\"][\"url\"])\n",
    "    new_item = dict()\n",
    "    new_item['skblid'] = row[\"_source\"][\"url\"]\n",
    "   \n",
    "    try:\n",
    "        publishedDate = row[\"_source\"]['publication_date']        \n",
    "    except:\n",
    "        publishedDate =\"\"\n",
    "    new_item['publishedDate'] = publishedDate\n",
    "    try:\n",
    "        article_author_firstname = row[\"_source\"][\"article_author\"][0]['firstname']\n",
    "    except:\n",
    "        article_author_firstname =\"\"\n",
    "    new_item['article_author_firstname'] = article_author_firstname\n",
    "    try:\n",
    "        article_author_lastname = row[\"_source\"][\"article_author\"][0]['lastname']\n",
    "    except:\n",
    "        article_author_lastname =\"\"\n",
    "    new_item['article_author_lastname'] = article_author_lastname\n",
    "    try:\n",
    "        subtitle_sv = row[\"_source\"]['subtitle']\n",
    "    except:\n",
    "        subtitle_sv =\"\"\n",
    "    new_item['subtitle_sv'] = subtitle_sv\n",
    "    try:\n",
    "        name_lastname = row[\"_source\"]['name']['lastname']\n",
    "    except:\n",
    "        name_lastname = \"\"\n",
    "    new_item['name_lastname'] = name_lastname\n",
    "    try:\n",
    "        name_firstname = row[\"_source\"]['name']['firstname']\n",
    "    except:\n",
    "        name_firstname = \"\"\n",
    "    new_item['name_firstname'] = name_firstname\n",
    "    listSKBL.append(new_item)\n",
    "    i = i + 1 \n",
    "    #print (i)\n",
    "print (len(listSKBL) ,\" antal poster\")\n"
   ]
  },
  {
   "cell_type": "code",
   "execution_count": 6,
   "metadata": {},
   "outputs": [],
   "source": [
    "SKBLtot = pd.DataFrame(listSKBL,\n",
    "                  columns=['skblid','publishedDate','article_author_firstname','article_author_lastname',\n",
    "                          'subtitle_sv','name_lastname','name_firstname'])"
   ]
  },
  {
   "cell_type": "code",
   "execution_count": 7,
   "metadata": {
    "scrolled": true
   },
   "outputs": [
    {
     "name": "stdout",
     "output_type": "stream",
     "text": [
      "<class 'pandas.core.frame.DataFrame'>\n",
      "RangeIndex: 1500 entries, 0 to 1499\n",
      "Data columns (total 7 columns):\n",
      " #   Column                    Non-Null Count  Dtype \n",
      "---  ------                    --------------  ----- \n",
      " 0   skblid                    1500 non-null   object\n",
      " 1   publishedDate             1500 non-null   object\n",
      " 2   article_author_firstname  1500 non-null   object\n",
      " 3   article_author_lastname   1500 non-null   object\n",
      " 4   subtitle_sv               1500 non-null   object\n",
      " 5   name_lastname             1500 non-null   object\n",
      " 6   name_firstname            1500 non-null   object\n",
      "dtypes: object(7)\n",
      "memory usage: 82.2+ KB\n"
     ]
    }
   ],
   "source": [
    "SKBLtot.info()"
   ]
  },
  {
   "cell_type": "code",
   "execution_count": 8,
   "metadata": {},
   "outputs": [],
   "source": [
    "SKBLtot[\"publishedDate\"] = SKBLtot[\"publishedDate\"].astype(\"datetime64\")\n",
    "SKBLtot[\"Source\"] = \"SKBL\""
   ]
  },
  {
   "cell_type": "code",
   "execution_count": 9,
   "metadata": {},
   "outputs": [],
   "source": [
    "%matplotlib inline    \n",
    "import matplotlib.pyplot as plt   \n"
   ]
  },
  {
   "cell_type": "code",
   "execution_count": 10,
   "metadata": {},
   "outputs": [
    {
     "data": {
      "image/png": "[encoded data removed]",
      "text/plain": [
       "<Figure size 432x288 with 1 Axes>"
      ]
     },
     "metadata": {},
     "output_type": "display_data"
    }
   ],
   "source": [
    "plotPublishedAuthor = SKBLtot  \n",
    "  \n",
    "plotPublishedAuthor[\"Author\"] = plotPublishedAuthor[\"article_author_firstname\"] + \" \" + plotPublishedAuthor[\"article_author_lastname\"]   \n",
    "plotAuthor = plotPublishedAuthor[\"Author\"].value_counts()[:20]\n",
    "plotAuthor.plot( kind = 'pie') \n",
    "plt.title(\"SKBL authors -20\")\n",
    "plt.show()"
   ]
  },
  {
   "cell_type": "code",
   "execution_count": 11,
   "metadata": {},
   "outputs": [
    {
     "data": {
      "image/png": "[encoded data removed]",
      "text/plain": [
       "<Figure size 432x288 with 1 Axes>"
      ]
     },
     "metadata": {},
     "output_type": "display_data"
    }
   ],
   "source": [
    "plotAuthor = plotPublishedAuthor[\"Author\"].value_counts()[20:50]\n",
    "plotAuthor.plot( kind = 'pie') \n",
    "plt.title(\"SKBL authors 20-50\")\n",
    "plt.show()"
   ]
  },
  {
   "cell_type": "code",
   "execution_count": 12,
   "metadata": {},
   "outputs": [
    {
     "data": {
      "image/png": "[encoded data removed]",
      "text/plain": [
       "<Figure size 432x288 with 1 Axes>"
      ]
     },
     "metadata": {
      "needs_background": "light"
     },
     "output_type": "display_data"
    }
   ],
   "source": [
    "#plotPublishedperMonth = dfSKBLAuthorcsv['publishedDate'].groupby(df['last_payout'].dt.to_period('M')).sum().plot(kind='bar')\n",
    "#plotPublishedperMonth = dfSKBLAuthorcsv['publishedDate'].groupby([dfSKBLAuthorcsv.publishedDate.year,dfSKBLAuthorcsv.publishedDate.month].agg('count'))\n",
    "plotPublishedperMonth = SKBLtot['publishedDate'].groupby(SKBLtot.publishedDate.dt.to_period(\"M\")).agg('count')\n",
    "plotPublishedperMonth.plot( kind = 'bar') \n",
    "plt.title(\"SKBL articles published per month\")\n",
    "plt.show()"
   ]
  },
  {
   "cell_type": "code",
   "execution_count": 13,
   "metadata": {},
   "outputs": [
    {
     "data": {
      "text/plain": [
       "publishedDate\n",
       "2018-03    1008\n",
       "2020-03     254\n",
       "2020-04      47\n",
       "2020-05      71\n",
       "2020-06      51\n",
       "2020-07      11\n",
       "2020-08      22\n",
       "2020-09      36\n",
       "Freq: M, Name: publishedDate, dtype: int64"
      ]
     },
     "execution_count": 13,
     "metadata": {},
     "output_type": "execute_result"
    }
   ],
   "source": [
    "plotPublishedperMonth"
   ]
  },
  {
   "cell_type": "code",
   "execution_count": 14,
   "metadata": {},
   "outputs": [
    {
     "data": {
      "image/png": "[encoded data removed]",
      "text/plain": [
       "<Figure size 432x288 with 1 Axes>"
      ]
     },
     "metadata": {},
     "output_type": "display_data"
    }
   ],
   "source": [
    "plotPublishedperMonth.plot( kind = 'pie') \n",
    "plt.title(\"SKBL articles published per month\")\n",
    "plt.show()"
   ]
  },
  {
   "cell_type": "code",
   "execution_count": 15,
   "metadata": {},
   "outputs": [],
   "source": [
    "pd.set_option('display.max_rows', None) \n",
    "# Sort latest first \n",
    "#dfSKBLAuthorcsv.sort_values(by=['publishedDate'], ascending=[False])"
   ]
  },
  {
   "cell_type": "code",
   "execution_count": 16,
   "metadata": {},
   "outputs": [
    {
     "data": {
      "text/plain": [
       "both    1500\n",
       "Name: WD_SKBL, dtype: int64"
      ]
     },
     "execution_count": 16,
     "metadata": {},
     "output_type": "execute_result"
    }
   ],
   "source": [
    "from IPython.display import display, HTML  \n",
    "plotPublishedAuthor['Link'] = plotPublishedAuthor['skblid'].apply(lambda x: \"https://skbl.se/sv/artikel/{0}\".format(x))  \n",
    "plotPublishedAuthor.style.set_properties(subset=['publishedDate'], **{'width': '200px'}) \n",
    "\n",
    "# Merge plotPublishedAuthor WDSKBLtot  \n",
    "mergeSKBLWD = pd.merge(WDSKBLtot, plotPublishedAuthor,how='outer', on='skblid',indicator=True)   \n",
    "mergeSKBLWD.rename(columns={\"_merge\": \"WD_SKBL\"},inplace = True)\n",
    "mergeSKBLWD['WD_SKBL'] = mergeSKBLWD['WD_SKBL'].str.replace('left_only','WD_only').str.replace('right_only','SKBL_only')\n",
    "mergeSKBLWD[\"WD_SKBL\"].value_counts()  \n"
   ]
  },
  {
   "cell_type": "markdown",
   "metadata": {},
   "source": [
    "### Latest articles in SKBL"
   ]
  },
  {
   "cell_type": "code",
   "execution_count": 17,
   "metadata": {},
   "outputs": [
    {
     "data": {
      "text/html": [
       "<div>\n",
       "<style scoped>\n",
       "    .dataframe tbody tr th:only-of-type {\n",
       "        vertical-align: middle;\n",
       "    }\n",
       "\n",
       "    .dataframe tbody tr th {\n",
       "        vertical-align: top;\n",
       "    }\n",
       "\n",
       "    .dataframe thead th {\n",
       "        text-align: right;\n",
       "    }\n",
       "</style>\n",
       "<table border=\"1\" class=\"dataframe\">\n",
       "  <thead>\n",
       "    <tr style=\"text-align: right;\">\n",
       "      <th></th>\n",
       "      <th>wid</th>\n",
       "      <th>skblid</th>\n",
       "      <th>Source_x</th>\n",
       "      <th>publishedDate</th>\n",
       "      <th>article_author_firstname</th>\n",
       "      <th>article_author_lastname</th>\n",
       "      <th>subtitle_sv</th>\n",
       "      <th>name_lastname</th>\n",
       "      <th>name_firstname</th>\n",
       "      <th>Source_y</th>\n",
       "      <th>Author</th>\n",
       "      <th>Link</th>\n",
       "      <th>WD_SKBL</th>\n",
       "    </tr>\n",
       "  </thead>\n",
       "  <tbody>\n",
       "    <tr>\n",
       "      <th>0</th>\n",
       "      <td>Q99428948</td>\n",
       "      <td>CeciliaAnderson</td>\n",
       "      <td>SKBL</td>\n",
       "      <td>2020-09-17</td>\n",
       "      <td>Hege</td>\n",
       "      <td>Vårdal</td>\n",
       "      <td>Entomolog, pionjär, globetrotter</td>\n",
       "      <td>Anderson</td>\n",
       "      <td>/Cecilia/</td>\n",
       "      <td>SKBL</td>\n",
       "      <td>Hege Vårdal</td>\n",
       "      <td>https://skbl.se/sv/artikel/CeciliaAnderson</td>\n",
       "      <td>both</td>\n",
       "    </tr>\n",
       "    <tr>\n",
       "      <th>1</th>\n",
       "      <td>Q18242858</td>\n",
       "      <td>HedvigIndebetou</td>\n",
       "      <td>SKBL</td>\n",
       "      <td>2020-09-17</td>\n",
       "      <td>Kristina</td>\n",
       "      <td>Lauridsen</td>\n",
       "      <td>Författare, dramatiker, översättare</td>\n",
       "      <td>Indebetou</td>\n",
       "      <td>/Hedvig/ Sofia Amalia</td>\n",
       "      <td>SKBL</td>\n",
       "      <td>Kristina Lauridsen</td>\n",
       "      <td>https://skbl.se/sv/artikel/HedvigIndebetou</td>\n",
       "      <td>both</td>\n",
       "    </tr>\n",
       "    <tr>\n",
       "      <th>2</th>\n",
       "      <td>Q53594431</td>\n",
       "      <td>LisbethRenner</td>\n",
       "      <td>SKBL</td>\n",
       "      <td>2020-09-16</td>\n",
       "      <td>Ulrika</td>\n",
       "      <td>Jannert Kallenberg</td>\n",
       "      <td>Översättare</td>\n",
       "      <td>Renner</td>\n",
       "      <td>/Lisbeth/</td>\n",
       "      <td>SKBL</td>\n",
       "      <td>Ulrika Jannert Kallenberg</td>\n",
       "      <td>https://skbl.se/sv/artikel/LisbethRenner</td>\n",
       "      <td>both</td>\n",
       "    </tr>\n",
       "    <tr>\n",
       "      <th>3</th>\n",
       "      <td>Q24680682</td>\n",
       "      <td>WendelaLovisaUlrikaAnderssonFalck</td>\n",
       "      <td>SKBL</td>\n",
       "      <td>2020-09-16</td>\n",
       "      <td>Hans</td>\n",
       "      <td>Bolling</td>\n",
       "      <td>Konstnär, illustratör, gymnastiklärare</td>\n",
       "      <td>Andersson-Falck</td>\n",
       "      <td>/Wendela/ Lovisa Ulrika</td>\n",
       "      <td>SKBL</td>\n",
       "      <td>Hans Bolling</td>\n",
       "      <td>https://skbl.se/sv/artikel/WendelaLovisaUlrika...</td>\n",
       "      <td>both</td>\n",
       "    </tr>\n",
       "    <tr>\n",
       "      <th>4</th>\n",
       "      <td>Q161133</td>\n",
       "      <td>Annadrottning</td>\n",
       "      <td>SKBL</td>\n",
       "      <td>2020-09-16</td>\n",
       "      <td>Jenny</td>\n",
       "      <td>Öhman</td>\n",
       "      <td>Drottning av Sverige och Polen</td>\n",
       "      <td></td>\n",
       "      <td>/Anna/, drottning</td>\n",
       "      <td>SKBL</td>\n",
       "      <td>Jenny Öhman</td>\n",
       "      <td>https://skbl.se/sv/artikel/Annadrottning</td>\n",
       "      <td>both</td>\n",
       "    </tr>\n",
       "    <tr>\n",
       "      <th>5</th>\n",
       "      <td>Q16946278</td>\n",
       "      <td>GretaHammarsten</td>\n",
       "      <td>SKBL</td>\n",
       "      <td>2020-09-16</td>\n",
       "      <td>Michaela</td>\n",
       "      <td>Malmberg</td>\n",
       "      <td>Läkare, biokemist, pionjär</td>\n",
       "      <td>Hammarsten</td>\n",
       "      <td>/Greta/</td>\n",
       "      <td>SKBL</td>\n",
       "      <td>Michaela Malmberg</td>\n",
       "      <td>https://skbl.se/sv/artikel/GretaHammarsten</td>\n",
       "      <td>both</td>\n",
       "    </tr>\n",
       "    <tr>\n",
       "      <th>6</th>\n",
       "      <td>Q99342659</td>\n",
       "      <td>EllenTerserus</td>\n",
       "      <td>SKBL</td>\n",
       "      <td>2020-09-15</td>\n",
       "      <td>Charlott</td>\n",
       "      <td>Wikström</td>\n",
       "      <td>Lärare, skolföreståndare</td>\n",
       "      <td>Terserus</td>\n",
       "      <td>/Ellen/</td>\n",
       "      <td>SKBL</td>\n",
       "      <td>Charlott Wikström</td>\n",
       "      <td>https://skbl.se/sv/artikel/EllenTerserus</td>\n",
       "      <td>both</td>\n",
       "    </tr>\n",
       "    <tr>\n",
       "      <th>7</th>\n",
       "      <td>Q19975954</td>\n",
       "      <td>KarinGunnelIngegerdEriksson</td>\n",
       "      <td>SKBL</td>\n",
       "      <td>2020-09-15</td>\n",
       "      <td>Kerstin</td>\n",
       "      <td>Thörn</td>\n",
       "      <td>Bibliotekarie, länsantikvarie</td>\n",
       "      <td>Eriksson</td>\n",
       "      <td>/Karin/ Gunnel Ingegerd</td>\n",
       "      <td>SKBL</td>\n",
       "      <td>Kerstin Thörn</td>\n",
       "      <td>https://skbl.se/sv/artikel/KarinGunnelIngegerd...</td>\n",
       "      <td>both</td>\n",
       "    </tr>\n",
       "    <tr>\n",
       "      <th>8</th>\n",
       "      <td>Q4989368</td>\n",
       "      <td>KerstinBirgittaNordenstam</td>\n",
       "      <td>SKBL</td>\n",
       "      <td>2020-09-15</td>\n",
       "      <td>Anna</td>\n",
       "      <td>Nordenstam</td>\n",
       "      <td>Lektor, språkforskare, genusforskningspionjär</td>\n",
       "      <td>Nordenstam</td>\n",
       "      <td>/Kerstin/ Birgitta</td>\n",
       "      <td>SKBL</td>\n",
       "      <td>Anna Nordenstam</td>\n",
       "      <td>https://skbl.se/sv/artikel/KerstinBirgittaNord...</td>\n",
       "      <td>both</td>\n",
       "    </tr>\n",
       "    <tr>\n",
       "      <th>9</th>\n",
       "      <td>Q15451929</td>\n",
       "      <td>IngaStinaEwbank0</td>\n",
       "      <td>SKBL</td>\n",
       "      <td>2020-09-15</td>\n",
       "      <td>Ulrika</td>\n",
       "      <td>Jannert Kallenberg</td>\n",
       "      <td>Professor, litteraturhistoriker, översättare</td>\n",
       "      <td>Ewbank</td>\n",
       "      <td>/Inga-Stina/</td>\n",
       "      <td>SKBL</td>\n",
       "      <td>Ulrika Jannert Kallenberg</td>\n",
       "      <td>https://skbl.se/sv/artikel/IngaStinaEwbank0</td>\n",
       "      <td>both</td>\n",
       "    </tr>\n",
       "  </tbody>\n",
       "</table>\n",
       "</div>"
      ],
      "text/plain": [
       "         wid                             skblid Source_x publishedDate  \\\n",
       "0  Q99428948                    CeciliaAnderson     SKBL    2020-09-17   \n",
       "1  Q18242858                    HedvigIndebetou     SKBL    2020-09-17   \n",
       "2  Q53594431                      LisbethRenner     SKBL    2020-09-16   \n",
       "3  Q24680682  WendelaLovisaUlrikaAnderssonFalck     SKBL    2020-09-16   \n",
       "4    Q161133                      Annadrottning     SKBL    2020-09-16   \n",
       "5  Q16946278                    GretaHammarsten     SKBL    2020-09-16   \n",
       "6  Q99342659                      EllenTerserus     SKBL    2020-09-15   \n",
       "7  Q19975954        KarinGunnelIngegerdEriksson     SKBL    2020-09-15   \n",
       "8   Q4989368          KerstinBirgittaNordenstam     SKBL    2020-09-15   \n",
       "9  Q15451929                   IngaStinaEwbank0     SKBL    2020-09-15   \n",
       "\n",
       "  article_author_firstname article_author_lastname  \\\n",
       "0                     Hege                  Vårdal   \n",
       "1                 Kristina               Lauridsen   \n",
       "2                   Ulrika      Jannert Kallenberg   \n",
       "3                     Hans                 Bolling   \n",
       "4                    Jenny                   Öhman   \n",
       "5                 Michaela                Malmberg   \n",
       "6                 Charlott                Wikström   \n",
       "7                  Kerstin                   Thörn   \n",
       "8                     Anna              Nordenstam   \n",
       "9                   Ulrika      Jannert Kallenberg   \n",
       "\n",
       "                                     subtitle_sv    name_lastname  \\\n",
       "0               Entomolog, pionjär, globetrotter         Anderson   \n",
       "1            Författare, dramatiker, översättare        Indebetou   \n",
       "2                                    Översättare           Renner   \n",
       "3         Konstnär, illustratör, gymnastiklärare  Andersson-Falck   \n",
       "4                 Drottning av Sverige och Polen                    \n",
       "5                     Läkare, biokemist, pionjär       Hammarsten   \n",
       "6                       Lärare, skolföreståndare         Terserus   \n",
       "7                  Bibliotekarie, länsantikvarie         Eriksson   \n",
       "8  Lektor, språkforskare, genusforskningspionjär       Nordenstam   \n",
       "9   Professor, litteraturhistoriker, översättare           Ewbank   \n",
       "\n",
       "            name_firstname Source_y                     Author  \\\n",
       "0                /Cecilia/     SKBL                Hege Vårdal   \n",
       "1    /Hedvig/ Sofia Amalia     SKBL         Kristina Lauridsen   \n",
       "2                /Lisbeth/     SKBL  Ulrika Jannert Kallenberg   \n",
       "3  /Wendela/ Lovisa Ulrika     SKBL               Hans Bolling   \n",
       "4        /Anna/, drottning     SKBL                Jenny Öhman   \n",
       "5                  /Greta/     SKBL          Michaela Malmberg   \n",
       "6                  /Ellen/     SKBL          Charlott Wikström   \n",
       "7  /Karin/ Gunnel Ingegerd     SKBL              Kerstin Thörn   \n",
       "8       /Kerstin/ Birgitta     SKBL            Anna Nordenstam   \n",
       "9             /Inga-Stina/     SKBL  Ulrika Jannert Kallenberg   \n",
       "\n",
       "                                                Link WD_SKBL  \n",
       "0         https://skbl.se/sv/artikel/CeciliaAnderson    both  \n",
       "1         https://skbl.se/sv/artikel/HedvigIndebetou    both  \n",
       "2           https://skbl.se/sv/artikel/LisbethRenner    both  \n",
       "3  https://skbl.se/sv/artikel/WendelaLovisaUlrika...    both  \n",
       "4           https://skbl.se/sv/artikel/Annadrottning    both  \n",
       "5         https://skbl.se/sv/artikel/GretaHammarsten    both  \n",
       "6           https://skbl.se/sv/artikel/EllenTerserus    both  \n",
       "7  https://skbl.se/sv/artikel/KarinGunnelIngegerd...    both  \n",
       "8  https://skbl.se/sv/artikel/KerstinBirgittaNord...    both  \n",
       "9        https://skbl.se/sv/artikel/IngaStinaEwbank0    both  "
      ]
     },
     "execution_count": 17,
     "metadata": {},
     "output_type": "execute_result"
    }
   ],
   "source": [
    "# de sista 10 publiserade biografier \n",
    "mergeSKBLWD = mergeSKBLWD.sort_values(by=['publishedDate'], ascending=[False])\n",
    "mergeSKBLWD = mergeSKBLWD.reset_index(drop=True)  \n",
    "\n",
    "mergeSKBLWD[:10]"
   ]
  },
  {
   "cell_type": "markdown",
   "metadata": {},
   "source": [
    "## Compare SBL\n",
    "SBL started in 1918 and is published by the [National Archives](https://sok.riksarkivet.se/sbl/Start.aspx?lang=en) in Sweden. They have\n",
    "* No API\n",
    "* focus on publish on paper\n",
    "* dont have structured data\n",
    "* no understanding of [Linked data](https://vimeo.com/36752317)\n",
    "* we have before manually and doing webscrabing populated [Wikidata P3217](https://www.wikidata.org/wiki/Property_talk:P3217) now I guess we wait on SBL for delivering data as data see question asked [236883](https://phabricator.wikimedia.org/T236883) Oct 30 2019, 11:03 AM - no official answer so far and The Swedish National Archives has no helpdesk system were you get an unique helpdesk number ([some action was promised aug 2018 by Rolf Källman](https://twitter.com/salgo60/status/1030269242296414208?s=20) nothing heard)\n",
    "\n",
    "### Wikidata <-> SBL updated\n",
    "We did a NEW try getting structure from webscrabed data see [Jupyter Notebook](https://github.com/salgo60/open-data-examples/blob/master/SBL.ipynb)"
   ]
  },
  {
   "cell_type": "code",
   "execution_count": 18,
   "metadata": {},
   "outputs": [
    {
     "name": "stdout",
     "output_type": "stream",
     "text": [
      "<class 'pandas.core.frame.DataFrame'>\n",
      "RangeIndex: 7599 entries, 0 to 7598\n",
      "Data columns (total 5 columns):\n",
      " #   Column       Non-Null Count  Dtype \n",
      "---  ------       --------------  ----- \n",
      " 0   wid          7599 non-null   object\n",
      " 1   sblid        7599 non-null   object\n",
      " 2   skblid       333 non-null    object\n",
      " 3   genderLabel  7599 non-null   object\n",
      " 4   Source       7599 non-null   object\n",
      "dtypes: object(5)\n",
      "memory usage: 297.0+ KB\n"
     ]
    }
   ],
   "source": [
    "# SPARQL \n",
    "querySBL = \"\"\"SELECT distinct (REPLACE(STR(?item), \".*Q\", \"Q\") AS ?wid)  ?sblid  ?skblid ?genderLabel  WHERE {\n",
    "?item wdt:P31 wd:Q5.\n",
    "OPTIONAL {?item wdt:P21 ?gender}\n",
    "?item wdt:P3217 ?sblid\n",
    "OPTIONAL {?item wdt:P4963 ?skblid}\n",
    "SERVICE wikibase:label { bd:serviceParam wikibase:language \"en\". }\n",
    "} order by ?sblid \"\"\"\n",
    "\n",
    "\n",
    "WDSBLtot = get_sparql_dataframe(endpoint_url, querySBL)\n",
    "WDSBLtot[\"Source\"] = \"SBL\" \n",
    "WDSBLtot.info()"
   ]
  },
  {
   "cell_type": "code",
   "execution_count": 19,
   "metadata": {},
   "outputs": [
    {
     "data": {
      "image/png": "[encoded data removed]",
      "text/plain": [
       "<Figure size 432x288 with 1 Axes>"
      ]
     },
     "metadata": {},
     "output_type": "display_data"
    }
   ],
   "source": [
    "plotSBLgender = WDSBLtot[\"genderLabel\"].value_counts()\n",
    "plotSBLgender.plot( kind = 'pie') \n",
    "plt.title(\"Riksarkivet SBL male/female\")\n",
    "plot = plotSBLgender.plot.pie( \\\n",
    "                   autopct='%1.0f%%', \\\n",
    "                   shadow=True, startangle=0)\n",
    "plt.title(\"SBL male vs. female articles 1918 - \" + start_time.strftime('%Y %m %d'))\n",
    "\n",
    "plt.show()"
   ]
  },
  {
   "cell_type": "code",
   "execution_count": 20,
   "metadata": {},
   "outputs": [
    {
     "data": {
      "text/plain": [
       "male                7071\n",
       "female               527\n",
       "transgender male       1\n",
       "Name: genderLabel, dtype: int64"
      ]
     },
     "execution_count": 20,
     "metadata": {},
     "output_type": "execute_result"
    }
   ],
   "source": [
    "plotSBLgender"
   ]
  },
  {
   "cell_type": "code",
   "execution_count": 21,
   "metadata": {},
   "outputs": [
    {
     "name": "stdout",
     "output_type": "stream",
     "text": [
      "<class 'pandas.core.frame.DataFrame'>\n",
      "RangeIndex: 7599 entries, 0 to 7598\n",
      "Data columns (total 5 columns):\n",
      " #   Column       Non-Null Count  Dtype \n",
      "---  ------       --------------  ----- \n",
      " 0   wid          7599 non-null   object\n",
      " 1   sblid        7599 non-null   object\n",
      " 2   skblid       333 non-null    object\n",
      " 3   genderLabel  7599 non-null   object\n",
      " 4   Source       7599 non-null   object\n",
      "dtypes: object(5)\n",
      "memory usage: 297.0+ KB\n"
     ]
    }
   ],
   "source": [
    "WDSBLtot.info()"
   ]
  },
  {
   "cell_type": "code",
   "execution_count": 22,
   "metadata": {},
   "outputs": [
    {
     "data": {
      "text/html": [
       "<div>\n",
       "<style scoped>\n",
       "    .dataframe tbody tr th:only-of-type {\n",
       "        vertical-align: middle;\n",
       "    }\n",
       "\n",
       "    .dataframe tbody tr th {\n",
       "        vertical-align: top;\n",
       "    }\n",
       "\n",
       "    .dataframe thead th {\n",
       "        text-align: right;\n",
       "    }\n",
       "</style>\n",
       "<table border=\"1\" class=\"dataframe\">\n",
       "  <thead>\n",
       "    <tr style=\"text-align: right;\">\n",
       "      <th></th>\n",
       "      <th>wid</th>\n",
       "      <th>sblid</th>\n",
       "      <th>skblid</th>\n",
       "      <th>genderLabel</th>\n",
       "      <th>Source</th>\n",
       "    </tr>\n",
       "  </thead>\n",
       "  <tbody>\n",
       "  </tbody>\n",
       "</table>\n",
       "</div>"
      ],
      "text/plain": [
       "Empty DataFrame\n",
       "Columns: [wid, sblid, skblid, genderLabel, Source]\n",
       "Index: []"
      ]
     },
     "execution_count": 22,
     "metadata": {},
     "output_type": "execute_result"
    }
   ],
   "source": [
    "WDSBLtot[WDSBLtot.duplicated(subset=['wid'])]"
   ]
  },
  {
   "cell_type": "code",
   "execution_count": 23,
   "metadata": {},
   "outputs": [
    {
     "data": {
      "text/plain": [
       "male                7071\n",
       "female               527\n",
       "transgender male       1\n",
       "Name: genderLabel, dtype: int64"
      ]
     },
     "execution_count": 23,
     "metadata": {},
     "output_type": "execute_result"
    }
   ],
   "source": [
    "plotSBLgender"
   ]
  },
  {
   "cell_type": "code",
   "execution_count": 24,
   "metadata": {},
   "outputs": [
    {
     "name": "stdout",
     "output_type": "stream",
     "text": [
      "<class 'pandas.core.frame.DataFrame'>\n",
      "Int64Index: 527 entries, 7 to 7580\n",
      "Data columns (total 5 columns):\n",
      " #   Column       Non-Null Count  Dtype \n",
      "---  ------       --------------  ----- \n",
      " 0   wid          527 non-null    object\n",
      " 1   sblid        527 non-null    object\n",
      " 2   skblid       332 non-null    object\n",
      " 3   genderLabel  527 non-null    object\n",
      " 4   Source       527 non-null    object\n",
      "dtypes: object(5)\n",
      "memory usage: 24.7+ KB\n"
     ]
    }
   ],
   "source": [
    "plotSBLfemale = WDSBLtot[WDSBLtot[\"genderLabel\"] == \"female\"] \n",
    "#plotSBLfemale[\"birth\"] = plotSBLfemale[\"birth\"].astype(\"datetime64\")\n",
    "plotSBLfemale.info() "
   ]
  },
  {
   "cell_type": "code",
   "execution_count": 25,
   "metadata": {},
   "outputs": [],
   "source": [
    "#Merge mergeSKBLWD and plotSBLfemale \n"
   ]
  },
  {
   "cell_type": "code",
   "execution_count": 26,
   "metadata": {},
   "outputs": [
    {
     "name": "stdout",
     "output_type": "stream",
     "text": [
      "Ended:  2020-09-17 18:27:25.900716\n"
     ]
    }
   ],
   "source": [
    "end = datetime.now()\n",
    "print(\"Ended: \", end)"
   ]
  },
  {
   "cell_type": "code",
   "execution_count": 27,
   "metadata": {},
   "outputs": [],
   "source": [
    "dfmerge = pd.merge(plotSBLfemale, mergeSKBLWD,how='outer', on='wid',indicator=True)"
   ]
  },
  {
   "cell_type": "code",
   "execution_count": 28,
   "metadata": {},
   "outputs": [
    {
     "name": "stdout",
     "output_type": "stream",
     "text": [
      "<class 'pandas.core.frame.DataFrame'>\n",
      "Int64Index: 1695 entries, 0 to 1694\n",
      "Data columns (total 18 columns):\n",
      " #   Column                    Non-Null Count  Dtype         \n",
      "---  ------                    --------------  -----         \n",
      " 0   wid                       1695 non-null   object        \n",
      " 1   sblid                     527 non-null    object        \n",
      " 2   skblid_x                  332 non-null    object        \n",
      " 3   genderLabel               527 non-null    object        \n",
      " 4   Source                    527 non-null    object        \n",
      " 5   skblid_y                  1500 non-null   object        \n",
      " 6   Source_x                  1500 non-null   object        \n",
      " 7   publishedDate             1500 non-null   datetime64[ns]\n",
      " 8   article_author_firstname  1500 non-null   object        \n",
      " 9   article_author_lastname   1500 non-null   object        \n",
      " 10  subtitle_sv               1500 non-null   object        \n",
      " 11  name_lastname             1500 non-null   object        \n",
      " 12  name_firstname            1500 non-null   object        \n",
      " 13  Source_y                  1500 non-null   object        \n",
      " 14  Author                    1500 non-null   object        \n",
      " 15  Link                      1500 non-null   object        \n",
      " 16  WD_SKBL                   1500 non-null   object        \n",
      " 17  _merge                    1695 non-null   category      \n",
      "dtypes: category(1), datetime64[ns](1), object(16)\n",
      "memory usage: 240.1+ KB\n"
     ]
    }
   ],
   "source": [
    "dfmerge.info()"
   ]
  },
  {
   "cell_type": "code",
   "execution_count": 29,
   "metadata": {},
   "outputs": [
    {
     "data": {
      "text/plain": [
       "right_only    1168\n",
       "both           332\n",
       "left_only      195\n",
       "Name: _merge, dtype: int64"
      ]
     },
     "execution_count": 29,
     "metadata": {},
     "output_type": "execute_result"
    }
   ],
   "source": [
    "dfmerge[\"_merge\"].value_counts()"
   ]
  },
  {
   "cell_type": "code",
   "execution_count": 30,
   "metadata": {},
   "outputs": [],
   "source": [
    "# both is number in bioth SBL and SKBL   \n",
    "# right_only is SBL\n",
    "# left_only is SKBL"
   ]
  },
  {
   "cell_type": "code",
   "execution_count": 31,
   "metadata": {},
   "outputs": [
    {
     "data": {
      "text/html": [
       "<div>\n",
       "<style scoped>\n",
       "    .dataframe tbody tr th:only-of-type {\n",
       "        vertical-align: middle;\n",
       "    }\n",
       "\n",
       "    .dataframe tbody tr th {\n",
       "        vertical-align: top;\n",
       "    }\n",
       "\n",
       "    .dataframe thead th {\n",
       "        text-align: right;\n",
       "    }\n",
       "</style>\n",
       "<table border=\"1\" class=\"dataframe\">\n",
       "  <thead>\n",
       "    <tr style=\"text-align: right;\">\n",
       "      <th></th>\n",
       "      <th>wid</th>\n",
       "      <th>sblid</th>\n",
       "      <th>skblid_x</th>\n",
       "      <th>genderLabel</th>\n",
       "      <th>Source</th>\n",
       "      <th>skblid_y</th>\n",
       "      <th>Source_x</th>\n",
       "      <th>publishedDate</th>\n",
       "      <th>article_author_firstname</th>\n",
       "      <th>article_author_lastname</th>\n",
       "      <th>subtitle_sv</th>\n",
       "      <th>name_lastname</th>\n",
       "      <th>name_firstname</th>\n",
       "      <th>Source_y</th>\n",
       "      <th>Author</th>\n",
       "      <th>Link</th>\n",
       "      <th>WD_SKBL</th>\n",
       "      <th>SBL_SKBL</th>\n",
       "    </tr>\n",
       "  </thead>\n",
       "  <tbody>\n",
       "    <tr>\n",
       "      <th>0</th>\n",
       "      <td>Q1794132</td>\n",
       "      <td>10025</td>\n",
       "      <td>None</td>\n",
       "      <td>female</td>\n",
       "      <td>SBL</td>\n",
       "      <td>NaN</td>\n",
       "      <td>NaN</td>\n",
       "      <td>NaT</td>\n",
       "      <td>NaN</td>\n",
       "      <td>NaN</td>\n",
       "      <td>NaN</td>\n",
       "      <td>NaN</td>\n",
       "      <td>NaN</td>\n",
       "      <td>NaN</td>\n",
       "      <td>NaN</td>\n",
       "      <td>NaN</td>\n",
       "      <td>NaN</td>\n",
       "      <td>SBL_only</td>\n",
       "    </tr>\n",
       "    <tr>\n",
       "      <th>1</th>\n",
       "      <td>Q3431866</td>\n",
       "      <td>10043</td>\n",
       "      <td>MarianneLofgren</td>\n",
       "      <td>female</td>\n",
       "      <td>SBL</td>\n",
       "      <td>MarianneLofgren</td>\n",
       "      <td>SKBL</td>\n",
       "      <td>2018-03-08</td>\n",
       "      <td>Jennifer</td>\n",
       "      <td>Vintkvist</td>\n",
       "      <td>Skådespelare</td>\n",
       "      <td>Löfgren</td>\n",
       "      <td>Jeannette Wedday /Marianne/ Ida Carolina</td>\n",
       "      <td>SKBL</td>\n",
       "      <td>Jennifer Vintkvist</td>\n",
       "      <td>https://skbl.se/sv/artikel/MarianneLofgren</td>\n",
       "      <td>both</td>\n",
       "      <td>both</td>\n",
       "    </tr>\n",
       "    <tr>\n",
       "      <th>2</th>\n",
       "      <td>Q4964675</td>\n",
       "      <td>10125</td>\n",
       "      <td>HarrietLowenhjelm</td>\n",
       "      <td>female</td>\n",
       "      <td>SBL</td>\n",
       "      <td>HarrietLowenhjelm</td>\n",
       "      <td>SKBL</td>\n",
       "      <td>2018-03-08</td>\n",
       "      <td>Boel</td>\n",
       "      <td>Hackman</td>\n",
       "      <td>Författare, konstnär</td>\n",
       "      <td>Löwenhjelm</td>\n",
       "      <td>/Harriet/ Augusta Dorothea</td>\n",
       "      <td>SKBL</td>\n",
       "      <td>Boel Hackman</td>\n",
       "      <td>https://skbl.se/sv/artikel/HarrietLowenhjelm</td>\n",
       "      <td>both</td>\n",
       "      <td>both</td>\n",
       "    </tr>\n",
       "    <tr>\n",
       "      <th>3</th>\n",
       "      <td>Q4942488</td>\n",
       "      <td>10132</td>\n",
       "      <td>None</td>\n",
       "      <td>female</td>\n",
       "      <td>SBL</td>\n",
       "      <td>NaN</td>\n",
       "      <td>NaN</td>\n",
       "      <td>NaT</td>\n",
       "      <td>NaN</td>\n",
       "      <td>NaN</td>\n",
       "      <td>NaN</td>\n",
       "      <td>NaN</td>\n",
       "      <td>NaN</td>\n",
       "      <td>NaN</td>\n",
       "      <td>NaN</td>\n",
       "      <td>NaN</td>\n",
       "      <td>NaN</td>\n",
       "      <td>SBL_only</td>\n",
       "    </tr>\n",
       "    <tr>\n",
       "      <th>4</th>\n",
       "      <td>Q4965144</td>\n",
       "      <td>10184</td>\n",
       "      <td>MathildaMalling</td>\n",
       "      <td>female</td>\n",
       "      <td>SBL</td>\n",
       "      <td>MathildaMalling</td>\n",
       "      <td>SKBL</td>\n",
       "      <td>2018-03-08</td>\n",
       "      <td>Birgitta</td>\n",
       "      <td>Ney</td>\n",
       "      <td>Författare</td>\n",
       "      <td>Malling</td>\n",
       "      <td>Ingrid /Mathilda/</td>\n",
       "      <td>SKBL</td>\n",
       "      <td>Birgitta Ney</td>\n",
       "      <td>https://skbl.se/sv/artikel/MathildaMalling</td>\n",
       "      <td>both</td>\n",
       "      <td>both</td>\n",
       "    </tr>\n",
       "    <tr>\n",
       "      <th>5</th>\n",
       "      <td>Q16595614</td>\n",
       "      <td>10248</td>\n",
       "      <td>None</td>\n",
       "      <td>female</td>\n",
       "      <td>SBL</td>\n",
       "      <td>NaN</td>\n",
       "      <td>NaN</td>\n",
       "      <td>NaT</td>\n",
       "      <td>NaN</td>\n",
       "      <td>NaN</td>\n",
       "      <td>NaN</td>\n",
       "      <td>NaN</td>\n",
       "      <td>NaN</td>\n",
       "      <td>NaN</td>\n",
       "      <td>NaN</td>\n",
       "      <td>NaN</td>\n",
       "      <td>NaN</td>\n",
       "      <td>SBL_only</td>\n",
       "    </tr>\n",
       "    <tr>\n",
       "      <th>6</th>\n",
       "      <td>Q4968661</td>\n",
       "      <td>10331</td>\n",
       "      <td>EbbaMansdotterLilliehook0</td>\n",
       "      <td>female</td>\n",
       "      <td>SBL</td>\n",
       "      <td>EbbaMansdotterLilliehook0</td>\n",
       "      <td>SKBL</td>\n",
       "      <td>2020-03-02</td>\n",
       "      <td>Jan</td>\n",
       "      <td>Samuelson</td>\n",
       "      <td>Grevinna, godsägare</td>\n",
       "      <td>Månsdotter (Lilliehöök)</td>\n",
       "      <td>/Ebba/</td>\n",
       "      <td>SKBL</td>\n",
       "      <td>Jan Samuelson</td>\n",
       "      <td>https://skbl.se/sv/artikel/EbbaMansdotterLilli...</td>\n",
       "      <td>both</td>\n",
       "      <td>both</td>\n",
       "    </tr>\n",
       "    <tr>\n",
       "      <th>7</th>\n",
       "      <td>Q16595619</td>\n",
       "      <td>10332</td>\n",
       "      <td>None</td>\n",
       "      <td>female</td>\n",
       "      <td>SBL</td>\n",
       "      <td>NaN</td>\n",
       "      <td>NaN</td>\n",
       "      <td>NaT</td>\n",
       "      <td>NaN</td>\n",
       "      <td>NaN</td>\n",
       "      <td>NaN</td>\n",
       "      <td>NaN</td>\n",
       "      <td>NaN</td>\n",
       "      <td>NaN</td>\n",
       "      <td>NaN</td>\n",
       "      <td>NaN</td>\n",
       "      <td>NaN</td>\n",
       "      <td>SBL_only</td>\n",
       "    </tr>\n",
       "    <tr>\n",
       "      <th>8</th>\n",
       "      <td>Q4962236</td>\n",
       "      <td>10390</td>\n",
       "      <td>FredrikaCatharinaLimnell</td>\n",
       "      <td>female</td>\n",
       "      <td>SBL</td>\n",
       "      <td>FredrikaCatharinaLimnell</td>\n",
       "      <td>SKBL</td>\n",
       "      <td>2020-03-02</td>\n",
       "      <td>Birgitta</td>\n",
       "      <td>Jordansson</td>\n",
       "      <td>Kvinnosakskvinna, salongsvärdinna, mecenat</td>\n",
       "      <td>Limnell</td>\n",
       "      <td>/Fredrika/ Catharina</td>\n",
       "      <td>SKBL</td>\n",
       "      <td>Birgitta Jordansson</td>\n",
       "      <td>https://skbl.se/sv/artikel/FredrikaCatharinaLi...</td>\n",
       "      <td>both</td>\n",
       "      <td>both</td>\n",
       "    </tr>\n",
       "    <tr>\n",
       "      <th>9</th>\n",
       "      <td>Q42399094</td>\n",
       "      <td>10396</td>\n",
       "      <td>None</td>\n",
       "      <td>female</td>\n",
       "      <td>SBL</td>\n",
       "      <td>NaN</td>\n",
       "      <td>NaN</td>\n",
       "      <td>NaT</td>\n",
       "      <td>NaN</td>\n",
       "      <td>NaN</td>\n",
       "      <td>NaN</td>\n",
       "      <td>NaN</td>\n",
       "      <td>NaN</td>\n",
       "      <td>NaN</td>\n",
       "      <td>NaN</td>\n",
       "      <td>NaN</td>\n",
       "      <td>NaN</td>\n",
       "      <td>SBL_only</td>\n",
       "    </tr>\n",
       "  </tbody>\n",
       "</table>\n",
       "</div>"
      ],
      "text/plain": [
       "         wid  sblid                   skblid_x genderLabel Source  \\\n",
       "0   Q1794132  10025                       None      female    SBL   \n",
       "1   Q3431866  10043            MarianneLofgren      female    SBL   \n",
       "2   Q4964675  10125          HarrietLowenhjelm      female    SBL   \n",
       "3   Q4942488  10132                       None      female    SBL   \n",
       "4   Q4965144  10184            MathildaMalling      female    SBL   \n",
       "5  Q16595614  10248                       None      female    SBL   \n",
       "6   Q4968661  10331  EbbaMansdotterLilliehook0      female    SBL   \n",
       "7  Q16595619  10332                       None      female    SBL   \n",
       "8   Q4962236  10390   FredrikaCatharinaLimnell      female    SBL   \n",
       "9  Q42399094  10396                       None      female    SBL   \n",
       "\n",
       "                    skblid_y Source_x publishedDate article_author_firstname  \\\n",
       "0                        NaN      NaN           NaT                      NaN   \n",
       "1            MarianneLofgren     SKBL    2018-03-08                 Jennifer   \n",
       "2          HarrietLowenhjelm     SKBL    2018-03-08                     Boel   \n",
       "3                        NaN      NaN           NaT                      NaN   \n",
       "4            MathildaMalling     SKBL    2018-03-08                 Birgitta   \n",
       "5                        NaN      NaN           NaT                      NaN   \n",
       "6  EbbaMansdotterLilliehook0     SKBL    2020-03-02                      Jan   \n",
       "7                        NaN      NaN           NaT                      NaN   \n",
       "8   FredrikaCatharinaLimnell     SKBL    2020-03-02                 Birgitta   \n",
       "9                        NaN      NaN           NaT                      NaN   \n",
       "\n",
       "  article_author_lastname                                 subtitle_sv  \\\n",
       "0                     NaN                                         NaN   \n",
       "1               Vintkvist                                Skådespelare   \n",
       "2                 Hackman                        Författare, konstnär   \n",
       "3                     NaN                                         NaN   \n",
       "4                     Ney                                  Författare   \n",
       "5                     NaN                                         NaN   \n",
       "6               Samuelson                         Grevinna, godsägare   \n",
       "7                     NaN                                         NaN   \n",
       "8              Jordansson  Kvinnosakskvinna, salongsvärdinna, mecenat   \n",
       "9                     NaN                                         NaN   \n",
       "\n",
       "             name_lastname                            name_firstname Source_y  \\\n",
       "0                      NaN                                       NaN      NaN   \n",
       "1                  Löfgren  Jeannette Wedday /Marianne/ Ida Carolina     SKBL   \n",
       "2               Löwenhjelm                /Harriet/ Augusta Dorothea     SKBL   \n",
       "3                      NaN                                       NaN      NaN   \n",
       "4                  Malling                         Ingrid /Mathilda/     SKBL   \n",
       "5                      NaN                                       NaN      NaN   \n",
       "6  Månsdotter (Lilliehöök)                                    /Ebba/     SKBL   \n",
       "7                      NaN                                       NaN      NaN   \n",
       "8                  Limnell                      /Fredrika/ Catharina     SKBL   \n",
       "9                      NaN                                       NaN      NaN   \n",
       "\n",
       "                Author                                               Link  \\\n",
       "0                  NaN                                                NaN   \n",
       "1   Jennifer Vintkvist         https://skbl.se/sv/artikel/MarianneLofgren   \n",
       "2         Boel Hackman       https://skbl.se/sv/artikel/HarrietLowenhjelm   \n",
       "3                  NaN                                                NaN   \n",
       "4         Birgitta Ney         https://skbl.se/sv/artikel/MathildaMalling   \n",
       "5                  NaN                                                NaN   \n",
       "6        Jan Samuelson  https://skbl.se/sv/artikel/EbbaMansdotterLilli...   \n",
       "7                  NaN                                                NaN   \n",
       "8  Birgitta Jordansson  https://skbl.se/sv/artikel/FredrikaCatharinaLi...   \n",
       "9                  NaN                                                NaN   \n",
       "\n",
       "  WD_SKBL  SBL_SKBL  \n",
       "0     NaN  SBL_only  \n",
       "1    both      both  \n",
       "2    both      both  \n",
       "3     NaN  SBL_only  \n",
       "4    both      both  \n",
       "5     NaN  SBL_only  \n",
       "6    both      both  \n",
       "7     NaN  SBL_only  \n",
       "8    both      both  \n",
       "9     NaN  SBL_only  "
      ]
     },
     "execution_count": 31,
     "metadata": {},
     "output_type": "execute_result"
    }
   ],
   "source": [
    "dfmerge['_merge'] = dfmerge['_merge'].str.replace('left_only','SBL_only').str.replace('right_only','SKBL_only')\n",
    "dfmerge.rename(columns={\"_merge\": \"SBL_SKBL\"},inplace = True)\n",
    "\n",
    "dfmerge[0:10]  \n"
   ]
  },
  {
   "cell_type": "code",
   "execution_count": 32,
   "metadata": {},
   "outputs": [
    {
     "name": "stdout",
     "output_type": "stream",
     "text": [
      "<class 'pandas.core.frame.DataFrame'>\n",
      "Int64Index: 1695 entries, 0 to 1694\n",
      "Data columns (total 5 columns):\n",
      " #   Column         Non-Null Count  Dtype         \n",
      "---  ------         --------------  -----         \n",
      " 0   wid            1695 non-null   object        \n",
      " 1   sblid          527 non-null    object        \n",
      " 2   skblid_x       332 non-null    object        \n",
      " 3   publishedDate  1500 non-null   datetime64[ns]\n",
      " 4   SBL_SKBL       1695 non-null   object        \n",
      "dtypes: datetime64[ns](1), object(4)\n",
      "memory usage: 79.5+ KB\n"
     ]
    }
   ],
   "source": [
    "mergeCheck = dfmerge[['wid', 'sblid','skblid_x','publishedDate','SBL_SKBL']] \n",
    "mergeCheck.info() "
   ]
  },
  {
   "cell_type": "code",
   "execution_count": 33,
   "metadata": {},
   "outputs": [
    {
     "data": {
      "image/png": "[encoded data removed]",
      "text/plain": [
       "<Figure size 432x288 with 1 Axes>"
      ]
     },
     "metadata": {},
     "output_type": "display_data"
    }
   ],
   "source": [
    "mergeCheckNumber = mergeCheck[\"SBL_SKBL\"].value_counts()\n",
    "mergeCheckNumber.plot( kind = 'pie')  \n",
    "plot = mergeCheckNumber.plot.pie( \\\n",
    "                   autopct='%1.0f%%', \\\n",
    "                   shadow=True, startangle=0)\n",
    "plt.title(\"Wikidata statistics SBL vs SKBL female articles \" + start_time.strftime('%Y %m %d'))\n",
    "plt.show()\n"
   ]
  },
  {
   "cell_type": "code",
   "execution_count": 34,
   "metadata": {},
   "outputs": [
    {
     "data": {
      "text/plain": [
       "SKBL_only    1168\n",
       "both          332\n",
       "SBL_only      195\n",
       "Name: SBL_SKBL, dtype: int64"
      ]
     },
     "execution_count": 34,
     "metadata": {},
     "output_type": "execute_result"
    }
   ],
   "source": [
    "mergeCheckNumber"
   ]
  },
  {
   "cell_type": "code",
   "execution_count": 35,
   "metadata": {},
   "outputs": [],
   "source": [
    "#Profiles missing in SKBL that SBL has written = left_only \n",
    "WDSBLonly = mergeCheck[mergeCheck[\"SBL_SKBL\"] == \"SBL_only\"].copy() "
   ]
  },
  {
   "cell_type": "code",
   "execution_count": 36,
   "metadata": {},
   "outputs": [
    {
     "name": "stdout",
     "output_type": "stream",
     "text": [
      "<class 'pandas.core.frame.DataFrame'>\n",
      "Int64Index: 195 entries, 0 to 523\n",
      "Data columns (total 5 columns):\n",
      " #   Column         Non-Null Count  Dtype         \n",
      "---  ------         --------------  -----         \n",
      " 0   wid            195 non-null    object        \n",
      " 1   sblid          195 non-null    object        \n",
      " 2   skblid_x       0 non-null      object        \n",
      " 3   publishedDate  0 non-null      datetime64[ns]\n",
      " 4   SBL_SKBL       195 non-null    object        \n",
      "dtypes: datetime64[ns](1), object(4)\n",
      "memory usage: 9.1+ KB\n"
     ]
    }
   ],
   "source": [
    "WDSBLonly.info()"
   ]
  },
  {
   "cell_type": "code",
   "execution_count": 37,
   "metadata": {},
   "outputs": [
    {
     "data": {
      "text/html": [
       "<div>\n",
       "<style scoped>\n",
       "    .dataframe tbody tr th:only-of-type {\n",
       "        vertical-align: middle;\n",
       "    }\n",
       "\n",
       "    .dataframe tbody tr th {\n",
       "        vertical-align: top;\n",
       "    }\n",
       "\n",
       "    .dataframe thead th {\n",
       "        text-align: right;\n",
       "    }\n",
       "</style>\n",
       "<table border=\"1\" class=\"dataframe\">\n",
       "  <thead>\n",
       "    <tr style=\"text-align: right;\">\n",
       "      <th></th>\n",
       "      <th>wid</th>\n",
       "      <th>sblid</th>\n",
       "      <th>sbl</th>\n",
       "    </tr>\n",
       "  </thead>\n",
       "  <tbody>\n",
       "    <tr>\n",
       "      <th>0</th>\n",
       "      <td>Q1794132</td>\n",
       "      <td>10025</td>\n",
       "      <td>https://sok.riksarkivet.se/Sbl/Presentation.aspx?id=10025</td>\n",
       "    </tr>\n",
       "    <tr>\n",
       "      <th>3</th>\n",
       "      <td>Q4942488</td>\n",
       "      <td>10132</td>\n",
       "      <td>https://sok.riksarkivet.se/Sbl/Presentation.aspx?id=10132</td>\n",
       "    </tr>\n",
       "    <tr>\n",
       "      <th>5</th>\n",
       "      <td>Q16595614</td>\n",
       "      <td>10248</td>\n",
       "      <td>https://sok.riksarkivet.se/Sbl/Presentation.aspx?id=10248</td>\n",
       "    </tr>\n",
       "    <tr>\n",
       "      <th>7</th>\n",
       "      <td>Q16595619</td>\n",
       "      <td>10332</td>\n",
       "      <td>https://sok.riksarkivet.se/Sbl/Presentation.aspx?id=10332</td>\n",
       "    </tr>\n",
       "    <tr>\n",
       "      <th>9</th>\n",
       "      <td>Q42399094</td>\n",
       "      <td>10396</td>\n",
       "      <td>https://sok.riksarkivet.se/Sbl/Presentation.aspx?id=10396</td>\n",
       "    </tr>\n",
       "    <tr>\n",
       "      <th>11</th>\n",
       "      <td>Q4767223</td>\n",
       "      <td>10404</td>\n",
       "      <td>https://sok.riksarkivet.se/Sbl/Presentation.aspx?id=10404</td>\n",
       "    </tr>\n",
       "    <tr>\n",
       "      <th>12</th>\n",
       "      <td>Q4962366</td>\n",
       "      <td>10417</td>\n",
       "      <td>https://sok.riksarkivet.se/Sbl/Presentation.aspx?id=10417</td>\n",
       "    </tr>\n",
       "    <tr>\n",
       "      <th>13</th>\n",
       "      <td>Q11857592</td>\n",
       "      <td>10445</td>\n",
       "      <td>https://sok.riksarkivet.se/Sbl/Presentation.aspx?id=10445</td>\n",
       "    </tr>\n",
       "    <tr>\n",
       "      <th>22</th>\n",
       "      <td>Q38373456</td>\n",
       "      <td>10673</td>\n",
       "      <td>https://sok.riksarkivet.se/Sbl/Presentation.aspx?id=10673</td>\n",
       "    </tr>\n",
       "    <tr>\n",
       "      <th>23</th>\n",
       "      <td>Q4963073</td>\n",
       "      <td>10728</td>\n",
       "      <td>https://sok.riksarkivet.se/Sbl/Presentation.aspx?id=10728</td>\n",
       "    </tr>\n",
       "  </tbody>\n",
       "</table>\n",
       "</div>"
      ],
      "text/plain": [
       "          wid  sblid  \\\n",
       "0    Q1794132  10025   \n",
       "3    Q4942488  10132   \n",
       "5   Q16595614  10248   \n",
       "7   Q16595619  10332   \n",
       "9   Q42399094  10396   \n",
       "11   Q4767223  10404   \n",
       "12   Q4962366  10417   \n",
       "13  Q11857592  10445   \n",
       "22  Q38373456  10673   \n",
       "23   Q4963073  10728   \n",
       "\n",
       "                                                          sbl  \n",
       "0   https://sok.riksarkivet.se/Sbl/Presentation.aspx?id=10025  \n",
       "3   https://sok.riksarkivet.se/Sbl/Presentation.aspx?id=10132  \n",
       "5   https://sok.riksarkivet.se/Sbl/Presentation.aspx?id=10248  \n",
       "7   https://sok.riksarkivet.se/Sbl/Presentation.aspx?id=10332  \n",
       "9   https://sok.riksarkivet.se/Sbl/Presentation.aspx?id=10396  \n",
       "11  https://sok.riksarkivet.se/Sbl/Presentation.aspx?id=10404  \n",
       "12  https://sok.riksarkivet.se/Sbl/Presentation.aspx?id=10417  \n",
       "13  https://sok.riksarkivet.se/Sbl/Presentation.aspx?id=10445  \n",
       "22  https://sok.riksarkivet.se/Sbl/Presentation.aspx?id=10673  \n",
       "23  https://sok.riksarkivet.se/Sbl/Presentation.aspx?id=10728  "
      ]
     },
     "execution_count": 37,
     "metadata": {},
     "output_type": "execute_result"
    }
   ],
   "source": [
    "WDSBLonly[\"sbl\"] = \"https://sok.riksarkivet.se/Sbl/Presentation.aspx?id=\" + WDSBLonly[\"sblid\"] \n",
    "pd.set_option('column_space', 20)\n",
    "pd.set_option('max_colwidth', 300)\n",
    "\n",
    "WDSBLonly[[\"wid\",\"sblid\",\"sbl\"]][:10]"
   ]
  },
  {
   "cell_type": "markdown",
   "metadata": {},
   "source": [
    "### Same query in Wikidata \n",
    "* Find all women [in SBL but not in SKBL](https://w.wiki/bFw) = 196 women\n",
    "* Find all women [in SBL but not in SKBL and have an en:Wikipedia article](https://w.wiki/bFy) = 128 \n",
    "### Wikipedia articles linking SKBL \n",
    "* sv:Wikipedia [usage template Authority](https://sv.wikipedia.org/wiki/Kategori:Wikipediaartiklar_med_identifierare_fr%C3%A5n_SKBL) > 1410\n",
    "* en:Wikipedia [usage template SKBL](https://en.wikipedia.org/wiki/Category:SKBL_template_using_Wikidata_property_P4963) > 686 articles\n",
    "\n",
    "* SPARQL sv\n",
    "** Swedish\n",
    "** English"
   ]
  },
  {
   "cell_type": "code",
   "execution_count": 38,
   "metadata": {},
   "outputs": [
    {
     "name": "stdout",
     "output_type": "stream",
     "text": [
      "<class 'pandas.core.frame.DataFrame'>\n",
      "Int64Index: 195 entries, 0 to 523\n",
      "Data columns (total 6 columns):\n",
      " #   Column         Non-Null Count  Dtype         \n",
      "---  ------         --------------  -----         \n",
      " 0   wid            195 non-null    object        \n",
      " 1   sblid          195 non-null    object        \n",
      " 2   skblid_x       0 non-null      object        \n",
      " 3   publishedDate  0 non-null      datetime64[ns]\n",
      " 4   SBL_SKBL       195 non-null    object        \n",
      " 5   sbl            195 non-null    object        \n",
      "dtypes: datetime64[ns](1), object(5)\n",
      "memory usage: 10.7+ KB\n"
     ]
    }
   ],
   "source": [
    "WDSBLonly.info()"
   ]
  },
  {
   "cell_type": "code",
   "execution_count": 39,
   "metadata": {},
   "outputs": [
    {
     "name": "stdout",
     "output_type": "stream",
     "text": [
      "<class 'pandas.core.frame.DataFrame'>\n",
      "Int64Index: 195 entries, 0 to 523\n",
      "Data columns (total 6 columns):\n",
      " #   Column         Non-Null Count  Dtype         \n",
      "---  ------         --------------  -----         \n",
      " 0   wid            195 non-null    object        \n",
      " 1   sblid          195 non-null    object        \n",
      " 2   skblid_x       0 non-null      object        \n",
      " 3   publishedDate  0 non-null      datetime64[ns]\n",
      " 4   SBL_SKBL       195 non-null    object        \n",
      " 5   sbl            195 non-null    object        \n",
      "dtypes: datetime64[ns](1), object(5)\n",
      "memory usage: 10.7+ KB\n"
     ]
    }
   ],
   "source": [
    "WDSBLonly.drop_duplicates(subset =\"wid\", keep = False, inplace = True)\n",
    "WDSBLonly.info() "
   ]
  },
  {
   "cell_type": "code",
   "execution_count": 40,
   "metadata": {},
   "outputs": [
    {
     "name": "stdout",
     "output_type": "stream",
     "text": [
      "Ended:  2020-09-17 18:27:26.339995\n"
     ]
    }
   ],
   "source": [
    "end = datetime.now()\n",
    "print(\"Ended: \", end)"
   ]
  },
  {
   "cell_type": "code",
   "execution_count": 41,
   "metadata": {},
   "outputs": [
    {
     "name": "stdout",
     "output_type": "stream",
     "text": [
      "Time elapsed (hh:mm:ss.ms) 0:00:19.842951\n"
     ]
    }
   ],
   "source": [
    "print('Time elapsed (hh:mm:ss.ms) {}'.format(datetime.now() - start_time))"
   ]
  },
  {
   "cell_type": "code",
   "execution_count": 42,
   "metadata": {},
   "outputs": [
    {
     "data": {
      "text/plain": [
       "SKBL_only    1168\n",
       "both          332\n",
       "SBL_only      195\n",
       "Name: SBL_SKBL, dtype: int64"
      ]
     },
     "execution_count": 42,
     "metadata": {},
     "output_type": "execute_result"
    }
   ],
   "source": [
    "dfmerge[\"SBL_SKBL\"].value_counts()"
   ]
  },
  {
   "cell_type": "code",
   "execution_count": 43,
   "metadata": {},
   "outputs": [
    {
     "data": {
      "text/plain": [
       "both    1500\n",
       "Name: WD_SKBL, dtype: int64"
      ]
     },
     "execution_count": 43,
     "metadata": {},
     "output_type": "execute_result"
    }
   ],
   "source": [
    "mergeSKBLWD[\"WD_SKBL\"].value_counts() "
   ]
  },
  {
   "cell_type": "code",
   "execution_count": 44,
   "metadata": {},
   "outputs": [
    {
     "data": {
      "text/html": [
       "<div>\n",
       "<style scoped>\n",
       "    .dataframe tbody tr th:only-of-type {\n",
       "        vertical-align: middle;\n",
       "    }\n",
       "\n",
       "    .dataframe tbody tr th {\n",
       "        vertical-align: top;\n",
       "    }\n",
       "\n",
       "    .dataframe thead th {\n",
       "        text-align: right;\n",
       "    }\n",
       "</style>\n",
       "<table border=\"1\" class=\"dataframe\">\n",
       "  <thead>\n",
       "    <tr style=\"text-align: right;\">\n",
       "      <th></th>\n",
       "      <th>wid</th>\n",
       "      <th>skblid</th>\n",
       "      <th>Source_x</th>\n",
       "      <th>publishedDate</th>\n",
       "      <th>article_author_firstname</th>\n",
       "      <th>article_author_lastname</th>\n",
       "      <th>subtitle_sv</th>\n",
       "      <th>name_lastname</th>\n",
       "      <th>name_firstname</th>\n",
       "      <th>Source_y</th>\n",
       "      <th>Author</th>\n",
       "      <th>Link</th>\n",
       "      <th>WD_SKBL</th>\n",
       "    </tr>\n",
       "  </thead>\n",
       "  <tbody>\n",
       "  </tbody>\n",
       "</table>\n",
       "</div>"
      ],
      "text/plain": [
       "Empty DataFrame\n",
       "Columns: [wid, skblid, Source_x, publishedDate, article_author_firstname, article_author_lastname, subtitle_sv, name_lastname, name_firstname, Source_y, Author, Link, WD_SKBL]\n",
       "Index: []"
      ]
     },
     "execution_count": 44,
     "metadata": {},
     "output_type": "execute_result"
    }
   ],
   "source": [
    "mergeSKBLWD[mergeSKBLWD[\"WD_SKBL\"] == \"SKBL_only\"] "
   ]
  },
  {
   "cell_type": "code",
   "execution_count": null,
   "metadata": {},
   "outputs": [],
   "source": []
  }
 ],
 "metadata": {
  "kernelspec": {
   "display_name": "Python 3",
   "language": "python",
   "name": "python3"
  },
  "language_info": {
   "codemirror_mode": {
    "name": "ipython",
    "version": 3
   },
   "file_extension": ".py",
   "mimetype": "text/x-python",
   "name": "python",
   "nbconvert_exporter": "python",
   "pygments_lexer": "ipython3",
   "version": "3.8.0"
  }
 },
 "nbformat": 4,
 "nbformat_minor": 4
}
