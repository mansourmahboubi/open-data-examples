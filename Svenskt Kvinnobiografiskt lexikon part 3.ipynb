{
 "cells": [
  {
   "cell_type": "markdown",
   "metadata": {},
   "source": [
    "# Svenskt Kvinnobiografiskt lexikon - SKBL part 3\n",
    "    version part 3 - 2.5\n",
    " \n",
    " This [notebook](https://github.com/salgo60/open-data-examples/blob/master/Svenskt%20Kvinnobiografiskt%20lexikon%20part%203.ipynb)\n",
    "  \n",
    "  \n",
    "  * SKBL see https://skbl.se/en  \n",
    "    * example structured data from SKBL [GretaGarbo JSON](https://skbl.se/en/article/GretaGarbo.json)\n",
    "    * video \n",
    "      * in [Swedish what we do today](https://youtu.be/LBx7XowzrJ0)\n",
    "      * the vision with [Wikidata <-> SKBL](https://www.youtube.com/watch?v=HIHO-szkD1A)\n",
    "    * [presentation](https://docs.google.com/presentation/d/1EvQHdzPsIA4hr2WuNXnbpsLHec2GS89b_pHvilO6xhQ/edit?usp=sharing) about start using Linked data at SKBL and have same as Wikidata \n",
    "  \n",
    " \n",
    "  * gets statistics about SKBL and compare with The Swedish National archives SBL biographies [about SBL](https://sok.riksarkivet.se/sbl/Start.aspx?lang=en)\n",
    "  * check if SKBL has new articles created not in Wikidata\n",
    "\n",
    "* [video](https://www.youtube.com/watch?v=6jxH8MBIhvg) in Swedish about how SKBL deliver and work with Wikidata\n",
    "  * Example how project Women in Red at en:Wikipedia automatic [creates dynamic lists of \"missing\" articles](https://en.wikipedia.org/wiki/Wikipedia:WikiProject_Women_in_Red/Missing_articles_by_dictionary/BDSW) that shows what in SKBL has an english article about a women but not have an english article in en:Wikipedia\n",
    "    * see [version history](https://en.wikipedia.org/w/index.php?title=Wikipedia:WikiProject_Women_in_Red/Missing_articles_by_dictionary/BDSW&action=history) of list created\n",
    "    * see en:Wikipedia articles [with a link to SKBL](https://en.wikipedia.org/wiki/Category:SKBL_template_using_Wikidata_property_P4963) > 680 articles using the [SKBL template](https://en.wikipedia.org/wiki/Template:SKBL)"
   ]
  },
  {
   "cell_type": "markdown",
   "metadata": {},
   "source": [
    "Below we also use Wikidata to compare number of female articles produced\n",
    "* [SKBL started 2018](https://skbl.se/en/about-skbl)\n",
    "  * use a data driven approach with structured data\n",
    "  * has swedish/english articles see [https://pageviews.toolforge.org/massviews/?platform=all-access&agent=user&source=category&range=this-year&subjectpage=0&subcategories=0&sort=views&direction=1&view=list&target=https://en.wikipedia.org/wiki/Category:SKBL_template_using_Wikidata_property_P4963 statistics en:Wikipedia]\n",
    "     * page views in different languages for [Ingrid Bergman](https://pageviews.toolforge.org/langviews/?project=en.wikipedia.org&platform=all-access&agent=user&range=latest-20&sort=views&direction=1&view=list&page=Ingrid%20Bergman)\n",
    "* [SBL started 1917](https://sok.riksarkivet.se/sbl/Start.aspx?lang=en)\n",
    "  * publish on paper and then scan the paper and creates a webpage with no machinereadable structured data  \n",
    "\n",
    "**See also**\n",
    "* video [Introduction to Wikidata](https://www.youtube.com/watch?v=m_9_23jXPoE)"
   ]
  },
  {
   "cell_type": "code",
   "execution_count": 1,
   "metadata": {},
   "outputs": [
    {
     "data": {
      "text/html": [
       "<div style=\"display: inline-block; width: 720px; vertical-align: top; text-align: center;\"><h4 style=\"font-size: 12px\">0</h4><h4 style=\"font-size: 9px; padding-left: 10px; padding-right: 10px; width: 90%; word-wrap: break-word; white-space: normal;\">SBLmalefemale.png</h4><img src=\"SBLmalefemale.png\" style=\"margin: 1px; width: 700px; border: 2px solid #ddd;\"/></div><div style=\"display: inline-block; width: 720px; vertical-align: top; text-align: center;\"><h4 style=\"font-size: 12px\">1</h4><h4 style=\"font-size: 9px; padding-left: 10px; padding-right: 10px; width: 90%; word-wrap: break-word; white-space: normal;\">SKBLSBLfemale.png</h4><img src=\"SKBLSBLfemale.png\" style=\"margin: 1px; width: 700px; border: 2px solid #ddd;\"/></div><div style=\"display: inline-block; width: 720px; vertical-align: top; text-align: center;\"><h4 style=\"font-size: 12px\">2</h4><h4 style=\"font-size: 9px; padding-left: 10px; padding-right: 10px; width: 90%; word-wrap: break-word; white-space: normal;\">SKBLPiepublished.png</h4><img src=\"SKBLPiepublished.png\" style=\"margin: 1px; width: 700px; border: 2px solid #ddd;\"/></div><div style=\"display: inline-block; width: 720px; vertical-align: top; text-align: center;\"><h4 style=\"font-size: 12px\">3</h4><h4 style=\"font-size: 9px; padding-left: 10px; padding-right: 10px; width: 90%; word-wrap: break-word; white-space: normal;\">SKBLBarpublished.png</h4><img src=\"SKBLBarpublished.png\" style=\"margin: 1px; width: 700px; border: 2px solid #ddd;\"/></div><div style=\"display: inline-block; width: 720px; vertical-align: top; text-align: center;\"><h4 style=\"font-size: 12px\">4</h4><h4 style=\"font-size: 9px; padding-left: 10px; padding-right: 10px; width: 90%; word-wrap: break-word; white-space: normal;\">en_Wikipedia_SKBL_views-20200101-20200919.png</h4><img src=\"en_Wikipedia_SKBL_views-20200101-20200919.png\" style=\"margin: 1px; width: 700px; border: 2px solid #ddd;\"/></div><div style=\"display: inline-block; width: 720px; vertical-align: top; text-align: center;\"><h4 style=\"font-size: 12px\">5</h4><h4 style=\"font-size: 9px; padding-left: 10px; padding-right: 10px; width: 90%; word-wrap: break-word; white-space: normal;\">SBL_published_articles_1918-2018.png</h4><img src=\"SBL_published_articles_1918-2018.png\" style=\"margin: 1px; width: 700px; border: 2px solid #ddd;\"/></div><div style=\"display: inline-block; width: 720px; vertical-align: top; text-align: center;\"><h4 style=\"font-size: 12px\">6</h4><h4 style=\"font-size: 9px; padding-left: 10px; padding-right: 10px; width: 90%; word-wrap: break-word; white-space: normal;\">SBL_published_articles_women_1918-2018.png</h4><img src=\"SBL_published_articles_women_1918-2018.png\" style=\"margin: 1px; width: 700px; border: 2px solid #ddd;\"/></div>"
      ],
      "text/plain": [
       "<IPython.core.display.HTML object>"
      ]
     },
     "metadata": {},
     "output_type": "display_data"
    }
   ],
   "source": [
    "import ipyplot\n",
    "listOfImageNames = ['SBLmalefemale.png','SKBLSBLfemale.png','SKBLPiepublished.png',\n",
    "                   'SKBLBarpublished.png','en_Wikipedia_SKBL_views-20200101-20200919.png',\n",
    "                    'SBL_published_articles_1918-2018.png','SBL_published_articles_women_1918-2018.png']\n",
    "\n",
    "ipyplot.plot_images(listOfImageNames,img_width=700)"
   ]
  },
  {
   "cell_type": "markdown",
   "metadata": {},
   "source": [
    "* Map with [SKBL ladies](https://w.wiki/cyv) born,died,buried...\n",
    "* [Other external properties](https://w.wiki/czi) in WD on records that has the SKBL property "
   ]
  },
  {
   "cell_type": "code",
   "execution_count": 2,
   "metadata": {},
   "outputs": [
    {
     "data": {
      "text/html": [
       "\n",
       "        <iframe\n",
       "            width=\"900\"\n",
       "            height=\"800\"\n",
       "            src=\"https://w.wiki/cyv\"\n",
       "            frameborder=\"0\"\n",
       "            allowfullscreen\n",
       "        ></iframe>\n",
       "        "
      ],
      "text/plain": [
       "<IPython.lib.display.IFrame at 0x118a9c340>"
      ]
     },
     "execution_count": 2,
     "metadata": {},
     "output_type": "execute_result"
    }
   ],
   "source": [
    "import IPython \n",
    "#iframe = '<iframe width=\"900\" height=\"800\" frameborder=\"0\" scrolling=\"no\" src=\"https://w.wiki/cyv\"></iframe>'\n",
    "IPython.display.IFrame(src=\"https://w.wiki/cyv\",width=900,height=800)"
   ]
  },
  {
   "cell_type": "markdown",
   "metadata": {},
   "source": [
    "# Wikidata - WDSKBLtot"
   ]
  },
  {
   "cell_type": "code",
   "execution_count": 3,
   "metadata": {},
   "outputs": [
    {
     "name": "stdout",
     "output_type": "stream",
     "text": [
      "Last run:  2020-10-01 13:25:58.976568\n"
     ]
    }
   ],
   "source": [
    "from datetime import datetime\n",
    "start_time  = datetime.now()\n",
    "print(\"Last run: \", start_time)"
   ]
  },
  {
   "cell_type": "code",
   "execution_count": 4,
   "metadata": {},
   "outputs": [],
   "source": [
    "# pip install sparqlwrapper\n",
    "# https://rdflib.github.io/sparqlwrapper/\n",
    "\n",
    "import sys,json\n",
    "import pandas as pd \n",
    "\n",
    "from SPARQLWrapper import SPARQLWrapper, JSON\n",
    "\n",
    "endpoint_url = \"https://query.wikidata.org/sparql\"\n",
    "\n",
    "querySKBL = \"\"\"SELECT (REPLACE(STR(?item), \".*Q\", \"Q\") AS ?WikidataID)  ?skblid WHERE {\n",
    "?item wdt:P31 wd:Q5.\n",
    "?item wdt:P4963 ?skblid\n",
    "} order by ?skbl\"\"\"\n",
    "\n",
    "def get_sparql_dataframe(endpoint_url, query):\n",
    "    \"\"\"\n",
    "    Helper function to convert SPARQL results into a Pandas data frame.\n",
    "    \"\"\"\n",
    "    user_agent = \"salgo60/%s.%s\" % (sys.version_info[0], sys.version_info[1])\n",
    " \n",
    "    sparql = SPARQLWrapper(endpoint_url, agent=user_agent)\n",
    "    sparql.setQuery(query)\n",
    "    sparql.setReturnFormat(JSON)\n",
    "    result = sparql.query()\n",
    "\n",
    "    processed_results = json.load(result.response)\n",
    "    cols = processed_results['head']['vars']\n",
    "\n",
    "    out = []\n",
    "    for row in processed_results['results']['bindings']:\n",
    "        item = []\n",
    "        for c in cols:\n",
    "            item.append(row.get(c, {}).get('value'))\n",
    "        out.append(item)\n",
    "\n",
    "    return pd.DataFrame(out, columns=cols)\n",
    "\n",
    "WDSKBLtot = get_sparql_dataframe(endpoint_url, querySKBL)\n",
    "WDSKBLtot[\"Source\"] = \"SKBL\" \n"
   ]
  },
  {
   "cell_type": "code",
   "execution_count": 5,
   "metadata": {},
   "outputs": [],
   "source": [
    "WDSKBLtot.sort_index(inplace=True)  "
   ]
  },
  {
   "cell_type": "code",
   "execution_count": 6,
   "metadata": {},
   "outputs": [
    {
     "name": "stdout",
     "output_type": "stream",
     "text": [
      "<class 'pandas.core.frame.DataFrame'>\n",
      "RangeIndex: 1531 entries, 0 to 1530\n",
      "Data columns (total 3 columns):\n",
      " #   Column      Non-Null Count  Dtype \n",
      "---  ------      --------------  ----- \n",
      " 0   WikidataID  1531 non-null   object\n",
      " 1   skblid      1531 non-null   object\n",
      " 2   Source      1531 non-null   object\n",
      "dtypes: object(3)\n",
      "memory usage: 36.0+ KB\n"
     ]
    }
   ],
   "source": [
    "WDSKBLtot.info()"
   ]
  },
  {
   "cell_type": "markdown",
   "metadata": {},
   "source": [
    "## Get SKBL records - SKBLtot"
   ]
  },
  {
   "cell_type": "code",
   "execution_count": 7,
   "metadata": {
    "scrolled": false
   },
   "outputs": [
    {
     "name": "stdout",
     "output_type": "stream",
     "text": [
      "1531  antal poster\n"
     ]
    }
   ],
   "source": [
    "import urllib3, json\n",
    "import pandas as pd \n",
    "http = urllib3.PoolManager() \n",
    "pd.set_option(\"display.max.columns\", None)\n",
    "pd.set_option('display.max_rows', None)\n",
    "\n",
    "  \n",
    "#Ny bättre URL    \n",
    "url = \"https://ws.spraakbanken.gu.se/ws/karp/v5/query?mode=skbl&q=extended%7C%7Cand%7Cskblstatus%7Cequals%7Cok&size=10000\"\n",
    "r = http.request('GET', url) \n",
    "data = json.loads(r.data.decode('utf-8')) \n",
    "#print(type(data))\n",
    "#print(r.info())  \n",
    "\n",
    "listSKBL = []\n",
    "i = 0 \n",
    "for row in (data[\"hits\"][\"hits\"]):\n",
    "    #print (row[\"_source\"][\"url\"])\n",
    "    new_item = dict()\n",
    "    new_item['skblid'] = row[\"_source\"][\"url\"]\n",
    "   \n",
    "    try:\n",
    "        publishedDate = row[\"_source\"]['publication_date']        \n",
    "    except:\n",
    "        publishedDate =\"\"\n",
    "    new_item['publishedDate'] = publishedDate\n",
    "    try:\n",
    "        article_author_firstname = row[\"_source\"][\"article_author\"][0]['firstname']\n",
    "    except:\n",
    "        article_author_firstname =\"\"\n",
    "    new_item['article_author_firstname'] = article_author_firstname\n",
    "    try:\n",
    "        article_author_lastname = row[\"_source\"][\"article_author\"][0]['lastname']\n",
    "    except:\n",
    "        article_author_lastname =\"\"\n",
    "    new_item['article_author_lastname'] = article_author_lastname\n",
    "    try:\n",
    "        subtitle_sv = row[\"_source\"]['subtitle']\n",
    "    except:\n",
    "        subtitle_sv =\"\"\n",
    "    new_item['subtitle_sv'] = subtitle_sv\n",
    "    try:\n",
    "        name_lastname = row[\"_source\"]['name']['lastname']\n",
    "    except:\n",
    "        name_lastname = \"\"\n",
    "    new_item['name_lastname'] = name_lastname\n",
    "    try:\n",
    "        name_firstname = row[\"_source\"]['name']['firstname']\n",
    "    except:\n",
    "        name_firstname = \"\"\n",
    "    new_item['name_firstname'] = name_firstname\n",
    "    listSKBL.append(new_item)\n",
    "    i = i + 1 \n",
    "    #print (i)\n",
    "print (len(listSKBL) ,\" antal poster\")\n"
   ]
  },
  {
   "cell_type": "code",
   "execution_count": 8,
   "metadata": {},
   "outputs": [],
   "source": [
    "SKBLtot = pd.DataFrame(listSKBL,\n",
    "                  columns=['skblid','publishedDate','article_author_firstname','article_author_lastname',\n",
    "                          'subtitle_sv','name_lastname','name_firstname'])"
   ]
  },
  {
   "cell_type": "code",
   "execution_count": 9,
   "metadata": {
    "scrolled": true
   },
   "outputs": [
    {
     "name": "stdout",
     "output_type": "stream",
     "text": [
      "<class 'pandas.core.frame.DataFrame'>\n",
      "RangeIndex: 1531 entries, 0 to 1530\n",
      "Data columns (total 7 columns):\n",
      " #   Column                    Non-Null Count  Dtype \n",
      "---  ------                    --------------  ----- \n",
      " 0   skblid                    1531 non-null   object\n",
      " 1   publishedDate             1531 non-null   object\n",
      " 2   article_author_firstname  1531 non-null   object\n",
      " 3   article_author_lastname   1531 non-null   object\n",
      " 4   subtitle_sv               1531 non-null   object\n",
      " 5   name_lastname             1531 non-null   object\n",
      " 6   name_firstname            1531 non-null   object\n",
      "dtypes: object(7)\n",
      "memory usage: 83.9+ KB\n"
     ]
    }
   ],
   "source": [
    "SKBLtot.info()"
   ]
  },
  {
   "cell_type": "code",
   "execution_count": 10,
   "metadata": {},
   "outputs": [],
   "source": [
    "SKBLtot[\"publishedDate\"] = SKBLtot[\"publishedDate\"].astype(\"datetime64\")\n",
    "SKBLtot[\"Source\"] = \"SKBL\""
   ]
  },
  {
   "cell_type": "code",
   "execution_count": 11,
   "metadata": {},
   "outputs": [],
   "source": [
    "%matplotlib inline    \n",
    "import matplotlib.pyplot as plt   \n"
   ]
  },
  {
   "cell_type": "code",
   "execution_count": 12,
   "metadata": {},
   "outputs": [
    {
     "data": {
      "image/png": "[encoded data removed]",
      "text/plain": [
       "<Figure size 432x288 with 1 Axes>"
      ]
     },
     "metadata": {},
     "output_type": "display_data"
    }
   ],
   "source": [
    "plotPublishedAuthor = SKBLtot  \n",
    "  \n",
    "plotPublishedAuthor[\"Author\"] = plotPublishedAuthor[\"article_author_firstname\"] + \" \" + plotPublishedAuthor[\"article_author_lastname\"]   \n",
    "plotAuthor = plotPublishedAuthor[\"Author\"].value_counts()[:20]\n",
    "plotAuthor.plot( kind = 'pie') \n",
    "plt.title(\"SKBL authors -20\")\n",
    "plt.show()"
   ]
  },
  {
   "cell_type": "code",
   "execution_count": 13,
   "metadata": {},
   "outputs": [
    {
     "data": {
      "image/png": "[encoded data removed]",
      "text/plain": [
       "<Figure size 432x288 with 1 Axes>"
      ]
     },
     "metadata": {},
     "output_type": "display_data"
    }
   ],
   "source": [
    "plotAuthor = plotPublishedAuthor[\"Author\"].value_counts()[20:50]\n",
    "plotAuthor.plot( kind = 'pie') \n",
    "plt.title(\"SKBL authors 20-50\")\n",
    "plt.show()"
   ]
  },
  {
   "cell_type": "code",
   "execution_count": 14,
   "metadata": {},
   "outputs": [
    {
     "data": {
      "image/png": "[encoded data removed]",
      "text/plain": [
       "<Figure size 432x288 with 1 Axes>"
      ]
     },
     "metadata": {
      "needs_background": "light"
     },
     "output_type": "display_data"
    }
   ],
   "source": [
    "#plotPublishedperMonth = dfSKBLAuthorcsv['publishedDate'].groupby(df['last_payout'].dt.to_period('M')).sum().plot(kind='bar')\n",
    "#plotPublishedperMonth = dfSKBLAuthorcsv['publishedDate'].groupby([dfSKBLAuthorcsv.publishedDate.year,dfSKBLAuthorcsv.publishedDate.month].agg('count'))\n",
    "plotPublishedperMonth = SKBLtot['publishedDate'].groupby(SKBLtot.publishedDate.dt.to_period(\"M\")).agg('count')\n",
    "plotPublishedperMonth.plot( kind = 'bar') \n",
    "plt.title(\"SKBL articles published per month\")\n",
    "plt.savefig('SKBLBarpublished.png')  \n",
    "plt.show()"
   ]
  },
  {
   "cell_type": "code",
   "execution_count": 15,
   "metadata": {},
   "outputs": [
    {
     "data": {
      "text/plain": [
       "publishedDate\n",
       "2018-03    1008\n",
       "2020-03     254\n",
       "2020-04      47\n",
       "2020-05      71\n",
       "2020-06      51\n",
       "2020-07      11\n",
       "2020-08      22\n",
       "2020-09      67\n",
       "Freq: M, Name: publishedDate, dtype: int64"
      ]
     },
     "execution_count": 15,
     "metadata": {},
     "output_type": "execute_result"
    }
   ],
   "source": [
    "plotPublishedperMonth"
   ]
  },
  {
   "cell_type": "code",
   "execution_count": 16,
   "metadata": {},
   "outputs": [
    {
     "data": {
      "image/png": "[encoded data removed]",
      "text/plain": [
       "<Figure size 432x288 with 1 Axes>"
      ]
     },
     "metadata": {},
     "output_type": "display_data"
    }
   ],
   "source": [
    "plotPublishedperMonth.plot( kind = 'pie') \n",
    "plt.title(\"SKBL articles published per month\") \n",
    "plt.savefig('SKBLPiepublished.png')\n",
    "plt.show()"
   ]
  },
  {
   "cell_type": "code",
   "execution_count": 17,
   "metadata": {},
   "outputs": [],
   "source": [
    "pd.set_option('display.max_rows', None) \n",
    "# Sort latest first \n",
    "#dfSKBLAuthorcsv.sort_values(by=['publishedDate'], ascending=[False])"
   ]
  },
  {
   "cell_type": "code",
   "execution_count": 18,
   "metadata": {},
   "outputs": [
    {
     "data": {
      "text/plain": [
       "both    1531\n",
       "Name: WD_SKBL, dtype: int64"
      ]
     },
     "execution_count": 18,
     "metadata": {},
     "output_type": "execute_result"
    }
   ],
   "source": [
    "from IPython.display import display, HTML  \n",
    "plotPublishedAuthor['Link'] = plotPublishedAuthor['skblid'].apply(lambda x: \"https://skbl.se/sv/artikel/{0}\".format(x))  \n",
    "plotPublishedAuthor.style.set_properties(subset=['publishedDate'], **{'width': '200px'}) \n",
    "\n",
    "# Merge plotPublishedAuthor WDSKBLtot  \n",
    "mergeSKBLWD = pd.merge(WDSKBLtot, plotPublishedAuthor,how='outer', on='skblid',indicator=True)   \n",
    "mergeSKBLWD.rename(columns={\"_merge\": \"WD_SKBL\"},inplace = True)\n",
    "mergeSKBLWD['WD_SKBL'] = mergeSKBLWD['WD_SKBL'].str.replace('left_only','WD_only').str.replace('right_only','SKBL_only')\n",
    "mergeSKBLWD[\"WD_SKBL\"].value_counts()  \n"
   ]
  },
  {
   "cell_type": "markdown",
   "metadata": {},
   "source": [
    "### Latest articles in SKBL"
   ]
  },
  {
   "cell_type": "code",
   "execution_count": 19,
   "metadata": {},
   "outputs": [
    {
     "data": {
      "text/html": [
       "<div>\n",
       "<style scoped>\n",
       "    .dataframe tbody tr th:only-of-type {\n",
       "        vertical-align: middle;\n",
       "    }\n",
       "\n",
       "    .dataframe tbody tr th {\n",
       "        vertical-align: top;\n",
       "    }\n",
       "\n",
       "    .dataframe thead th {\n",
       "        text-align: right;\n",
       "    }\n",
       "</style>\n",
       "<table border=\"1\" class=\"dataframe\">\n",
       "  <thead>\n",
       "    <tr style=\"text-align: right;\">\n",
       "      <th></th>\n",
       "      <th>WikidataID</th>\n",
       "      <th>skblid</th>\n",
       "      <th>Source_x</th>\n",
       "      <th>publishedDate</th>\n",
       "      <th>article_author_firstname</th>\n",
       "      <th>article_author_lastname</th>\n",
       "      <th>subtitle_sv</th>\n",
       "      <th>name_lastname</th>\n",
       "      <th>name_firstname</th>\n",
       "      <th>Source_y</th>\n",
       "      <th>Author</th>\n",
       "      <th>Link</th>\n",
       "      <th>WD_SKBL</th>\n",
       "    </tr>\n",
       "  </thead>\n",
       "  <tbody>\n",
       "    <tr>\n",
       "      <th>0</th>\n",
       "      <td>Q99756568</td>\n",
       "      <td>KatalinKatieBorg</td>\n",
       "      <td>SKBL</td>\n",
       "      <td>2020-09-30</td>\n",
       "      <td>Elisabeth</td>\n",
       "      <td>Borg</td>\n",
       "      <td>Politiker, Förintelseöverlevare, människorätts...</td>\n",
       "      <td>Borg</td>\n",
       "      <td>Katalin (/Katie/)</td>\n",
       "      <td>SKBL</td>\n",
       "      <td>Elisabeth Borg</td>\n",
       "      <td>https://skbl.se/sv/artikel/KatalinKatieBorg</td>\n",
       "      <td>both</td>\n",
       "    </tr>\n",
       "    <tr>\n",
       "      <th>1</th>\n",
       "      <td>Q4953096</td>\n",
       "      <td>GunnelBeritHedeby</td>\n",
       "      <td>SKBL</td>\n",
       "      <td>2020-09-30</td>\n",
       "      <td>Berit</td>\n",
       "      <td>Lindberg Johansson</td>\n",
       "      <td>Journalist, författare, samhällsdebattör</td>\n",
       "      <td>Hedeby</td>\n",
       "      <td>Gunnel /Berit/</td>\n",
       "      <td>SKBL</td>\n",
       "      <td>Berit Lindberg Johansson</td>\n",
       "      <td>https://skbl.se/sv/artikel/GunnelBeritHedeby</td>\n",
       "      <td>both</td>\n",
       "    </tr>\n",
       "    <tr>\n",
       "      <th>2</th>\n",
       "      <td>Q99753842</td>\n",
       "      <td>BritaEkelundStark</td>\n",
       "      <td>SKBL</td>\n",
       "      <td>2020-09-30</td>\n",
       "      <td>Håkan</td>\n",
       "      <td>Bengtsson</td>\n",
       "      <td>Lärare, biståndsarbetare</td>\n",
       "      <td>Ekelund Stark</td>\n",
       "      <td>Ella /Brita/ Marianne</td>\n",
       "      <td>SKBL</td>\n",
       "      <td>Håkan Bengtsson</td>\n",
       "      <td>https://skbl.se/sv/artikel/BritaEkelundStark</td>\n",
       "      <td>both</td>\n",
       "    </tr>\n",
       "    <tr>\n",
       "      <th>3</th>\n",
       "      <td>Q16595154</td>\n",
       "      <td>SophieHermansson</td>\n",
       "      <td>SKBL</td>\n",
       "      <td>2020-09-29</td>\n",
       "      <td>Martin</td>\n",
       "      <td>Andersson</td>\n",
       "      <td>Pionjär inom privat psykiatrisk vård</td>\n",
       "      <td>Hermansson</td>\n",
       "      <td>Sofia (/Sophie/) Augusta Fredrika</td>\n",
       "      <td>SKBL</td>\n",
       "      <td>Martin Andersson</td>\n",
       "      <td>https://skbl.se/sv/artikel/SophieHermansson</td>\n",
       "      <td>both</td>\n",
       "    </tr>\n",
       "    <tr>\n",
       "      <th>4</th>\n",
       "      <td>Q4954346</td>\n",
       "      <td>GretaHofsten</td>\n",
       "      <td>SKBL</td>\n",
       "      <td>2020-09-29</td>\n",
       "      <td>Alva</td>\n",
       "      <td>Dahl</td>\n",
       "      <td>Chefredaktör, tidningsutgivare, byrådirektör</td>\n",
       "      <td>Hofsten</td>\n",
       "      <td>/Greta/ Elisabeth</td>\n",
       "      <td>SKBL</td>\n",
       "      <td>Alva Dahl</td>\n",
       "      <td>https://skbl.se/sv/artikel/GretaHofsten</td>\n",
       "      <td>both</td>\n",
       "    </tr>\n",
       "    <tr>\n",
       "      <th>5</th>\n",
       "      <td>Q2961021</td>\n",
       "      <td>CharlottaSlottsberg</td>\n",
       "      <td>SKBL</td>\n",
       "      <td>2020-09-29</td>\n",
       "      <td>Eva Helen</td>\n",
       "      <td>Ulvros</td>\n",
       "      <td>Balettdansare, mätress</td>\n",
       "      <td>Slottsberg</td>\n",
       "      <td>/Charlotta/ Gustafva</td>\n",
       "      <td>SKBL</td>\n",
       "      <td>Eva Helen Ulvros</td>\n",
       "      <td>https://skbl.se/sv/artikel/CharlottaSlottsberg</td>\n",
       "      <td>both</td>\n",
       "    </tr>\n",
       "    <tr>\n",
       "      <th>6</th>\n",
       "      <td>Q4936022</td>\n",
       "      <td>GretaEbbaSofiaAndren</td>\n",
       "      <td>SKBL</td>\n",
       "      <td>2020-09-29</td>\n",
       "      <td>Håkan</td>\n",
       "      <td>Bengtsson</td>\n",
       "      <td>Missionär, diakon, författare</td>\n",
       "      <td>Andrén</td>\n",
       "      <td>/Greta/ Ebba Sofia</td>\n",
       "      <td>SKBL</td>\n",
       "      <td>Håkan Bengtsson</td>\n",
       "      <td>https://skbl.se/sv/artikel/GretaEbbaSofiaAndren</td>\n",
       "      <td>both</td>\n",
       "    </tr>\n",
       "    <tr>\n",
       "      <th>7</th>\n",
       "      <td>Q4948686</td>\n",
       "      <td>MariaRuckman</td>\n",
       "      <td>SKBL</td>\n",
       "      <td>2020-09-29</td>\n",
       "      <td>Marie</td>\n",
       "      <td>Steinrud</td>\n",
       "      <td>Skådespelare, skolföreståndare</td>\n",
       "      <td>Ruckman</td>\n",
       "      <td>/Maria/ Christina</td>\n",
       "      <td>SKBL</td>\n",
       "      <td>Marie Steinrud</td>\n",
       "      <td>https://skbl.se/sv/artikel/MariaRuckman</td>\n",
       "      <td>both</td>\n",
       "    </tr>\n",
       "    <tr>\n",
       "      <th>8</th>\n",
       "      <td>Q99735382</td>\n",
       "      <td>EllenAnnaMariaHilberth</td>\n",
       "      <td>SKBL</td>\n",
       "      <td>2020-09-29</td>\n",
       "      <td>Göran</td>\n",
       "      <td>Janzon</td>\n",
       "      <td>Missionär, sjuksköterska</td>\n",
       "      <td>Hilberth</td>\n",
       "      <td>/Ellen/ Anna Maria</td>\n",
       "      <td>SKBL</td>\n",
       "      <td>Göran Janzon</td>\n",
       "      <td>https://skbl.se/sv/artikel/EllenAnnaMariaHilberth</td>\n",
       "      <td>both</td>\n",
       "    </tr>\n",
       "    <tr>\n",
       "      <th>9</th>\n",
       "      <td>Q99735823</td>\n",
       "      <td>AnnaAhrenberg</td>\n",
       "      <td>SKBL</td>\n",
       "      <td>2020-09-29</td>\n",
       "      <td>Ulla</td>\n",
       "      <td>Åkerström</td>\n",
       "      <td>Donator</td>\n",
       "      <td>Ahrenberg</td>\n",
       "      <td>/Anna/ Emilia</td>\n",
       "      <td>SKBL</td>\n",
       "      <td>Ulla Åkerström</td>\n",
       "      <td>https://skbl.se/sv/artikel/AnnaAhrenberg</td>\n",
       "      <td>both</td>\n",
       "    </tr>\n",
       "  </tbody>\n",
       "</table>\n",
       "</div>"
      ],
      "text/plain": [
       "  WikidataID                  skblid Source_x publishedDate  \\\n",
       "0  Q99756568        KatalinKatieBorg     SKBL    2020-09-30   \n",
       "1   Q4953096       GunnelBeritHedeby     SKBL    2020-09-30   \n",
       "2  Q99753842       BritaEkelundStark     SKBL    2020-09-30   \n",
       "3  Q16595154        SophieHermansson     SKBL    2020-09-29   \n",
       "4   Q4954346            GretaHofsten     SKBL    2020-09-29   \n",
       "5   Q2961021     CharlottaSlottsberg     SKBL    2020-09-29   \n",
       "6   Q4936022    GretaEbbaSofiaAndren     SKBL    2020-09-29   \n",
       "7   Q4948686            MariaRuckman     SKBL    2020-09-29   \n",
       "8  Q99735382  EllenAnnaMariaHilberth     SKBL    2020-09-29   \n",
       "9  Q99735823           AnnaAhrenberg     SKBL    2020-09-29   \n",
       "\n",
       "  article_author_firstname article_author_lastname  \\\n",
       "0                Elisabeth                    Borg   \n",
       "1                    Berit      Lindberg Johansson   \n",
       "2                    Håkan               Bengtsson   \n",
       "3                   Martin               Andersson   \n",
       "4                     Alva                    Dahl   \n",
       "5                Eva Helen                  Ulvros   \n",
       "6                    Håkan               Bengtsson   \n",
       "7                    Marie                Steinrud   \n",
       "8                    Göran                  Janzon   \n",
       "9                     Ulla               Åkerström   \n",
       "\n",
       "                                         subtitle_sv  name_lastname  \\\n",
       "0  Politiker, Förintelseöverlevare, människorätts...           Borg   \n",
       "1           Journalist, författare, samhällsdebattör         Hedeby   \n",
       "2                           Lärare, biståndsarbetare  Ekelund Stark   \n",
       "3               Pionjär inom privat psykiatrisk vård     Hermansson   \n",
       "4       Chefredaktör, tidningsutgivare, byrådirektör        Hofsten   \n",
       "5                             Balettdansare, mätress     Slottsberg   \n",
       "6                      Missionär, diakon, författare         Andrén   \n",
       "7                     Skådespelare, skolföreståndare        Ruckman   \n",
       "8                           Missionär, sjuksköterska       Hilberth   \n",
       "9                                            Donator      Ahrenberg   \n",
       "\n",
       "                      name_firstname Source_y                    Author  \\\n",
       "0                  Katalin (/Katie/)     SKBL            Elisabeth Borg   \n",
       "1                     Gunnel /Berit/     SKBL  Berit Lindberg Johansson   \n",
       "2              Ella /Brita/ Marianne     SKBL           Håkan Bengtsson   \n",
       "3  Sofia (/Sophie/) Augusta Fredrika     SKBL          Martin Andersson   \n",
       "4                  /Greta/ Elisabeth     SKBL                 Alva Dahl   \n",
       "5               /Charlotta/ Gustafva     SKBL          Eva Helen Ulvros   \n",
       "6                 /Greta/ Ebba Sofia     SKBL           Håkan Bengtsson   \n",
       "7                  /Maria/ Christina     SKBL            Marie Steinrud   \n",
       "8                 /Ellen/ Anna Maria     SKBL              Göran Janzon   \n",
       "9                      /Anna/ Emilia     SKBL            Ulla Åkerström   \n",
       "\n",
       "                                                Link WD_SKBL  \n",
       "0        https://skbl.se/sv/artikel/KatalinKatieBorg    both  \n",
       "1       https://skbl.se/sv/artikel/GunnelBeritHedeby    both  \n",
       "2       https://skbl.se/sv/artikel/BritaEkelundStark    both  \n",
       "3        https://skbl.se/sv/artikel/SophieHermansson    both  \n",
       "4            https://skbl.se/sv/artikel/GretaHofsten    both  \n",
       "5     https://skbl.se/sv/artikel/CharlottaSlottsberg    both  \n",
       "6    https://skbl.se/sv/artikel/GretaEbbaSofiaAndren    both  \n",
       "7            https://skbl.se/sv/artikel/MariaRuckman    both  \n",
       "8  https://skbl.se/sv/artikel/EllenAnnaMariaHilberth    both  \n",
       "9           https://skbl.se/sv/artikel/AnnaAhrenberg    both  "
      ]
     },
     "execution_count": 19,
     "metadata": {},
     "output_type": "execute_result"
    }
   ],
   "source": [
    "# de sista 10 publiserade biografier \n",
    "mergeSKBLWD = mergeSKBLWD.sort_values(by=['publishedDate'], ascending=[False])\n",
    "mergeSKBLWD = mergeSKBLWD.reset_index(drop=True)  \n",
    "\n",
    "mergeSKBLWD[:10]"
   ]
  },
  {
   "cell_type": "markdown",
   "metadata": {},
   "source": [
    "## Compare SBL\n",
    "SBL started in 1918 and is published by the [National Archives](https://sok.riksarkivet.se/sbl/Start.aspx?lang=en) in Sweden. They have\n",
    "* No API\n",
    "* focus on publish on paper\n",
    "* dont have structured data\n",
    "* no understanding of [Linked data](https://vimeo.com/36752317)\n",
    "* we have before manually been adding links but also tried doing webscrabing to populate [Wikidata P3217](https://www.wikidata.org/wiki/Property_talk:P3217) now I guess we wait on SBL for delivering data as data see question asked [236883](https://phabricator.wikimedia.org/T236883) Oct 30 2019, 11:03 AM - no official answer so far and The Swedish National Archives has no helpdesk system were you get an unique helpdesk number ([some action was promised aug 2018 by Rolf Källman](https://twitter.com/salgo60/status/1030269242296414208?s=20) nothing heard)\n",
    "\n",
    "### Wikidata <-> SBL updated\n",
    "We did a NEW try getting structure from webscrabed data see [Jupyter Notebook](https://github.com/salgo60/open-data-examples/blob/master/SBL.ipynb) as SBL is non structured data we will get errors and also problem understand what is an article about a family and what is about a person.... "
   ]
  },
  {
   "cell_type": "code",
   "execution_count": 20,
   "metadata": {},
   "outputs": [],
   "source": [
    "# SPARQL \n",
    "querySBL = \"\"\"SELECT distinct (REPLACE(STR(?item), \".*Q\", \"Q\") AS ?WikidataID)  ?sblid  ?skblid ?genderLabel  WHERE {\n",
    "?item wdt:P31 wd:Q5.\n",
    "OPTIONAL {?item wdt:P21 ?gender}\n",
    "?item wdt:P3217 ?sblid\n",
    "OPTIONAL {?item wdt:P4963 ?skblid}\n",
    "SERVICE wikibase:label { bd:serviceParam wikibase:language \"en\". }\n",
    "} order by ?sblid \"\"\"\n",
    "\n",
    "\n",
    "WDSBLtot = get_sparql_dataframe(endpoint_url, querySBL)\n",
    "WDSBLtot[\"Source\"] = \"SBL\" \n",
    "#WDSBLtot.info()"
   ]
  },
  {
   "cell_type": "code",
   "execution_count": 21,
   "metadata": {},
   "outputs": [
    {
     "data": {
      "image/png": "[encoded data removed]",
      "text/plain": [
       "<Figure size 432x288 with 1 Axes>"
      ]
     },
     "metadata": {},
     "output_type": "display_data"
    }
   ],
   "source": [
    "plotSBLgender = WDSBLtot[\"genderLabel\"].value_counts()\n",
    "plotSBLgender.plot( kind = 'pie') \n",
    "plt.title(\"Riksarkivet SBL male/female\")\n",
    "plot = plotSBLgender.plot.pie( \\\n",
    "                   autopct='%1.0f%%', \\\n",
    "                   shadow=True, startangle=0)\n",
    "plt.title(\"SBL male vs. female articles 1918 - \" + start_time.strftime('%Y %m %d'))\n",
    "plt.savefig('SBLmalefemale.png')\n",
    "plt.show()"
   ]
  },
  {
   "cell_type": "code",
   "execution_count": 22,
   "metadata": {},
   "outputs": [
    {
     "data": {
      "text/plain": [
       "male                7071\n",
       "female               527\n",
       "transgender male       1\n",
       "Name: genderLabel, dtype: int64"
      ]
     },
     "execution_count": 22,
     "metadata": {},
     "output_type": "execute_result"
    }
   ],
   "source": [
    "plotSBLgender"
   ]
  },
  {
   "cell_type": "code",
   "execution_count": 23,
   "metadata": {},
   "outputs": [
    {
     "name": "stdout",
     "output_type": "stream",
     "text": [
      "<class 'pandas.core.frame.DataFrame'>\n",
      "RangeIndex: 7599 entries, 0 to 7598\n",
      "Data columns (total 5 columns):\n",
      " #   Column       Non-Null Count  Dtype \n",
      "---  ------       --------------  ----- \n",
      " 0   WikidataID   7599 non-null   object\n",
      " 1   sblid        7599 non-null   object\n",
      " 2   skblid       336 non-null    object\n",
      " 3   genderLabel  7599 non-null   object\n",
      " 4   Source       7599 non-null   object\n",
      "dtypes: object(5)\n",
      "memory usage: 297.0+ KB\n"
     ]
    }
   ],
   "source": [
    "WDSBLtot.info()"
   ]
  },
  {
   "cell_type": "code",
   "execution_count": 24,
   "metadata": {},
   "outputs": [
    {
     "data": {
      "text/html": [
       "<div>\n",
       "<style scoped>\n",
       "    .dataframe tbody tr th:only-of-type {\n",
       "        vertical-align: middle;\n",
       "    }\n",
       "\n",
       "    .dataframe tbody tr th {\n",
       "        vertical-align: top;\n",
       "    }\n",
       "\n",
       "    .dataframe thead th {\n",
       "        text-align: right;\n",
       "    }\n",
       "</style>\n",
       "<table border=\"1\" class=\"dataframe\">\n",
       "  <thead>\n",
       "    <tr style=\"text-align: right;\">\n",
       "      <th></th>\n",
       "      <th>WikidataID</th>\n",
       "      <th>sblid</th>\n",
       "      <th>skblid</th>\n",
       "      <th>genderLabel</th>\n",
       "      <th>Source</th>\n",
       "    </tr>\n",
       "  </thead>\n",
       "  <tbody>\n",
       "  </tbody>\n",
       "</table>\n",
       "</div>"
      ],
      "text/plain": [
       "Empty DataFrame\n",
       "Columns: [WikidataID, sblid, skblid, genderLabel, Source]\n",
       "Index: []"
      ]
     },
     "execution_count": 24,
     "metadata": {},
     "output_type": "execute_result"
    }
   ],
   "source": [
    "WDSBLtot[WDSBLtot.duplicated(subset=['WikidataID'])]"
   ]
  },
  {
   "cell_type": "code",
   "execution_count": 25,
   "metadata": {},
   "outputs": [
    {
     "data": {
      "text/plain": [
       "male                7071\n",
       "female               527\n",
       "transgender male       1\n",
       "Name: genderLabel, dtype: int64"
      ]
     },
     "execution_count": 25,
     "metadata": {},
     "output_type": "execute_result"
    }
   ],
   "source": [
    "plotSBLgender"
   ]
  },
  {
   "cell_type": "code",
   "execution_count": 26,
   "metadata": {},
   "outputs": [],
   "source": [
    "plotSBLfemale = WDSBLtot[WDSBLtot[\"genderLabel\"] == \"female\"] \n",
    "#plotSBLfemale[\"birth\"] = plotSBLfemale[\"birth\"].astype(\"datetime64\")\n",
    "#plotSBLfemale.info() "
   ]
  },
  {
   "cell_type": "code",
   "execution_count": 27,
   "metadata": {},
   "outputs": [],
   "source": [
    "#Merge mergeSKBLWD and plotSBLfemale \n"
   ]
  },
  {
   "cell_type": "code",
   "execution_count": 28,
   "metadata": {},
   "outputs": [
    {
     "name": "stdout",
     "output_type": "stream",
     "text": [
      "Ended:  2020-10-01 13:26:16.775486\n"
     ]
    }
   ],
   "source": [
    "end = datetime.now()\n",
    "print(\"Ended: \", end)"
   ]
  },
  {
   "cell_type": "code",
   "execution_count": 29,
   "metadata": {},
   "outputs": [],
   "source": [
    "dfmerge = pd.merge(plotSBLfemale, mergeSKBLWD,how='outer', on='WikidataID',indicator=True)"
   ]
  },
  {
   "cell_type": "code",
   "execution_count": 30,
   "metadata": {},
   "outputs": [],
   "source": [
    "#dfmerge.info()"
   ]
  },
  {
   "cell_type": "code",
   "execution_count": 31,
   "metadata": {},
   "outputs": [
    {
     "data": {
      "text/plain": [
       "right_only    1196\n",
       "both           335\n",
       "left_only      192\n",
       "Name: _merge, dtype: int64"
      ]
     },
     "execution_count": 31,
     "metadata": {},
     "output_type": "execute_result"
    }
   ],
   "source": [
    "dfmerge[\"_merge\"].value_counts()"
   ]
  },
  {
   "cell_type": "code",
   "execution_count": 32,
   "metadata": {},
   "outputs": [],
   "source": [
    "# both is number in bioth SBL and SKBL   \n",
    "# right_only is SBL\n",
    "# left_only is SKBL"
   ]
  },
  {
   "cell_type": "code",
   "execution_count": 33,
   "metadata": {},
   "outputs": [
    {
     "data": {
      "text/html": [
       "<div>\n",
       "<style scoped>\n",
       "    .dataframe tbody tr th:only-of-type {\n",
       "        vertical-align: middle;\n",
       "    }\n",
       "\n",
       "    .dataframe tbody tr th {\n",
       "        vertical-align: top;\n",
       "    }\n",
       "\n",
       "    .dataframe thead th {\n",
       "        text-align: right;\n",
       "    }\n",
       "</style>\n",
       "<table border=\"1\" class=\"dataframe\">\n",
       "  <thead>\n",
       "    <tr style=\"text-align: right;\">\n",
       "      <th></th>\n",
       "      <th>WikidataID</th>\n",
       "      <th>sblid</th>\n",
       "      <th>skblid_x</th>\n",
       "      <th>genderLabel</th>\n",
       "      <th>Source</th>\n",
       "      <th>skblid_y</th>\n",
       "      <th>Source_x</th>\n",
       "      <th>publishedDate</th>\n",
       "      <th>article_author_firstname</th>\n",
       "      <th>article_author_lastname</th>\n",
       "      <th>subtitle_sv</th>\n",
       "      <th>name_lastname</th>\n",
       "      <th>name_firstname</th>\n",
       "      <th>Source_y</th>\n",
       "      <th>Author</th>\n",
       "      <th>Link</th>\n",
       "      <th>WD_SKBL</th>\n",
       "      <th>SBL_SKBL</th>\n",
       "    </tr>\n",
       "  </thead>\n",
       "  <tbody>\n",
       "    <tr>\n",
       "      <th>0</th>\n",
       "      <td>Q1794132</td>\n",
       "      <td>10025</td>\n",
       "      <td>None</td>\n",
       "      <td>female</td>\n",
       "      <td>SBL</td>\n",
       "      <td>NaN</td>\n",
       "      <td>NaN</td>\n",
       "      <td>NaT</td>\n",
       "      <td>NaN</td>\n",
       "      <td>NaN</td>\n",
       "      <td>NaN</td>\n",
       "      <td>NaN</td>\n",
       "      <td>NaN</td>\n",
       "      <td>NaN</td>\n",
       "      <td>NaN</td>\n",
       "      <td>NaN</td>\n",
       "      <td>NaN</td>\n",
       "      <td>SBL_only</td>\n",
       "    </tr>\n",
       "    <tr>\n",
       "      <th>1</th>\n",
       "      <td>Q3431866</td>\n",
       "      <td>10043</td>\n",
       "      <td>MarianneLofgren</td>\n",
       "      <td>female</td>\n",
       "      <td>SBL</td>\n",
       "      <td>MarianneLofgren</td>\n",
       "      <td>SKBL</td>\n",
       "      <td>2018-03-08</td>\n",
       "      <td>Jennifer</td>\n",
       "      <td>Vintkvist</td>\n",
       "      <td>Skådespelare</td>\n",
       "      <td>Löfgren</td>\n",
       "      <td>Jeannette Wedday /Marianne/ Ida Carolina</td>\n",
       "      <td>SKBL</td>\n",
       "      <td>Jennifer Vintkvist</td>\n",
       "      <td>https://skbl.se/sv/artikel/MarianneLofgren</td>\n",
       "      <td>both</td>\n",
       "      <td>both</td>\n",
       "    </tr>\n",
       "    <tr>\n",
       "      <th>2</th>\n",
       "      <td>Q4964675</td>\n",
       "      <td>10125</td>\n",
       "      <td>HarrietLowenhjelm</td>\n",
       "      <td>female</td>\n",
       "      <td>SBL</td>\n",
       "      <td>HarrietLowenhjelm</td>\n",
       "      <td>SKBL</td>\n",
       "      <td>2018-03-08</td>\n",
       "      <td>Boel</td>\n",
       "      <td>Hackman</td>\n",
       "      <td>Författare, konstnär</td>\n",
       "      <td>Löwenhjelm</td>\n",
       "      <td>/Harriet/ Augusta Dorothea</td>\n",
       "      <td>SKBL</td>\n",
       "      <td>Boel Hackman</td>\n",
       "      <td>https://skbl.se/sv/artikel/HarrietLowenhjelm</td>\n",
       "      <td>both</td>\n",
       "      <td>both</td>\n",
       "    </tr>\n",
       "    <tr>\n",
       "      <th>3</th>\n",
       "      <td>Q4942488</td>\n",
       "      <td>10132</td>\n",
       "      <td>None</td>\n",
       "      <td>female</td>\n",
       "      <td>SBL</td>\n",
       "      <td>NaN</td>\n",
       "      <td>NaN</td>\n",
       "      <td>NaT</td>\n",
       "      <td>NaN</td>\n",
       "      <td>NaN</td>\n",
       "      <td>NaN</td>\n",
       "      <td>NaN</td>\n",
       "      <td>NaN</td>\n",
       "      <td>NaN</td>\n",
       "      <td>NaN</td>\n",
       "      <td>NaN</td>\n",
       "      <td>NaN</td>\n",
       "      <td>SBL_only</td>\n",
       "    </tr>\n",
       "    <tr>\n",
       "      <th>4</th>\n",
       "      <td>Q4965144</td>\n",
       "      <td>10184</td>\n",
       "      <td>MathildaMalling</td>\n",
       "      <td>female</td>\n",
       "      <td>SBL</td>\n",
       "      <td>MathildaMalling</td>\n",
       "      <td>SKBL</td>\n",
       "      <td>2018-03-08</td>\n",
       "      <td>Birgitta</td>\n",
       "      <td>Ney</td>\n",
       "      <td>Författare</td>\n",
       "      <td>Malling</td>\n",
       "      <td>Ingrid /Mathilda/</td>\n",
       "      <td>SKBL</td>\n",
       "      <td>Birgitta Ney</td>\n",
       "      <td>https://skbl.se/sv/artikel/MathildaMalling</td>\n",
       "      <td>both</td>\n",
       "      <td>both</td>\n",
       "    </tr>\n",
       "    <tr>\n",
       "      <th>5</th>\n",
       "      <td>Q16595614</td>\n",
       "      <td>10248</td>\n",
       "      <td>None</td>\n",
       "      <td>female</td>\n",
       "      <td>SBL</td>\n",
       "      <td>NaN</td>\n",
       "      <td>NaN</td>\n",
       "      <td>NaT</td>\n",
       "      <td>NaN</td>\n",
       "      <td>NaN</td>\n",
       "      <td>NaN</td>\n",
       "      <td>NaN</td>\n",
       "      <td>NaN</td>\n",
       "      <td>NaN</td>\n",
       "      <td>NaN</td>\n",
       "      <td>NaN</td>\n",
       "      <td>NaN</td>\n",
       "      <td>SBL_only</td>\n",
       "    </tr>\n",
       "    <tr>\n",
       "      <th>6</th>\n",
       "      <td>Q4968661</td>\n",
       "      <td>10331</td>\n",
       "      <td>EbbaMansdotterLilliehook0</td>\n",
       "      <td>female</td>\n",
       "      <td>SBL</td>\n",
       "      <td>EbbaMansdotterLilliehook0</td>\n",
       "      <td>SKBL</td>\n",
       "      <td>2020-03-02</td>\n",
       "      <td>Jan</td>\n",
       "      <td>Samuelson</td>\n",
       "      <td>Grevinna, godsägare</td>\n",
       "      <td>Månsdotter (Lilliehöök)</td>\n",
       "      <td>/Ebba/</td>\n",
       "      <td>SKBL</td>\n",
       "      <td>Jan Samuelson</td>\n",
       "      <td>https://skbl.se/sv/artikel/EbbaMansdotterLilli...</td>\n",
       "      <td>both</td>\n",
       "      <td>both</td>\n",
       "    </tr>\n",
       "    <tr>\n",
       "      <th>7</th>\n",
       "      <td>Q16595619</td>\n",
       "      <td>10332</td>\n",
       "      <td>None</td>\n",
       "      <td>female</td>\n",
       "      <td>SBL</td>\n",
       "      <td>NaN</td>\n",
       "      <td>NaN</td>\n",
       "      <td>NaT</td>\n",
       "      <td>NaN</td>\n",
       "      <td>NaN</td>\n",
       "      <td>NaN</td>\n",
       "      <td>NaN</td>\n",
       "      <td>NaN</td>\n",
       "      <td>NaN</td>\n",
       "      <td>NaN</td>\n",
       "      <td>NaN</td>\n",
       "      <td>NaN</td>\n",
       "      <td>SBL_only</td>\n",
       "    </tr>\n",
       "    <tr>\n",
       "      <th>8</th>\n",
       "      <td>Q4962236</td>\n",
       "      <td>10390</td>\n",
       "      <td>FredrikaCatharinaLimnell</td>\n",
       "      <td>female</td>\n",
       "      <td>SBL</td>\n",
       "      <td>FredrikaCatharinaLimnell</td>\n",
       "      <td>SKBL</td>\n",
       "      <td>2020-03-02</td>\n",
       "      <td>Birgitta</td>\n",
       "      <td>Jordansson</td>\n",
       "      <td>Kvinnosakskvinna, salongsvärdinna, mecenat</td>\n",
       "      <td>Limnell</td>\n",
       "      <td>/Fredrika/ Catharina</td>\n",
       "      <td>SKBL</td>\n",
       "      <td>Birgitta Jordansson</td>\n",
       "      <td>https://skbl.se/sv/artikel/FredrikaCatharinaLi...</td>\n",
       "      <td>both</td>\n",
       "      <td>both</td>\n",
       "    </tr>\n",
       "    <tr>\n",
       "      <th>9</th>\n",
       "      <td>Q42399094</td>\n",
       "      <td>10396</td>\n",
       "      <td>None</td>\n",
       "      <td>female</td>\n",
       "      <td>SBL</td>\n",
       "      <td>NaN</td>\n",
       "      <td>NaN</td>\n",
       "      <td>NaT</td>\n",
       "      <td>NaN</td>\n",
       "      <td>NaN</td>\n",
       "      <td>NaN</td>\n",
       "      <td>NaN</td>\n",
       "      <td>NaN</td>\n",
       "      <td>NaN</td>\n",
       "      <td>NaN</td>\n",
       "      <td>NaN</td>\n",
       "      <td>NaN</td>\n",
       "      <td>SBL_only</td>\n",
       "    </tr>\n",
       "  </tbody>\n",
       "</table>\n",
       "</div>"
      ],
      "text/plain": [
       "  WikidataID  sblid                   skblid_x genderLabel Source  \\\n",
       "0   Q1794132  10025                       None      female    SBL   \n",
       "1   Q3431866  10043            MarianneLofgren      female    SBL   \n",
       "2   Q4964675  10125          HarrietLowenhjelm      female    SBL   \n",
       "3   Q4942488  10132                       None      female    SBL   \n",
       "4   Q4965144  10184            MathildaMalling      female    SBL   \n",
       "5  Q16595614  10248                       None      female    SBL   \n",
       "6   Q4968661  10331  EbbaMansdotterLilliehook0      female    SBL   \n",
       "7  Q16595619  10332                       None      female    SBL   \n",
       "8   Q4962236  10390   FredrikaCatharinaLimnell      female    SBL   \n",
       "9  Q42399094  10396                       None      female    SBL   \n",
       "\n",
       "                    skblid_y Source_x publishedDate article_author_firstname  \\\n",
       "0                        NaN      NaN           NaT                      NaN   \n",
       "1            MarianneLofgren     SKBL    2018-03-08                 Jennifer   \n",
       "2          HarrietLowenhjelm     SKBL    2018-03-08                     Boel   \n",
       "3                        NaN      NaN           NaT                      NaN   \n",
       "4            MathildaMalling     SKBL    2018-03-08                 Birgitta   \n",
       "5                        NaN      NaN           NaT                      NaN   \n",
       "6  EbbaMansdotterLilliehook0     SKBL    2020-03-02                      Jan   \n",
       "7                        NaN      NaN           NaT                      NaN   \n",
       "8   FredrikaCatharinaLimnell     SKBL    2020-03-02                 Birgitta   \n",
       "9                        NaN      NaN           NaT                      NaN   \n",
       "\n",
       "  article_author_lastname                                 subtitle_sv  \\\n",
       "0                     NaN                                         NaN   \n",
       "1               Vintkvist                                Skådespelare   \n",
       "2                 Hackman                        Författare, konstnär   \n",
       "3                     NaN                                         NaN   \n",
       "4                     Ney                                  Författare   \n",
       "5                     NaN                                         NaN   \n",
       "6               Samuelson                         Grevinna, godsägare   \n",
       "7                     NaN                                         NaN   \n",
       "8              Jordansson  Kvinnosakskvinna, salongsvärdinna, mecenat   \n",
       "9                     NaN                                         NaN   \n",
       "\n",
       "             name_lastname                            name_firstname Source_y  \\\n",
       "0                      NaN                                       NaN      NaN   \n",
       "1                  Löfgren  Jeannette Wedday /Marianne/ Ida Carolina     SKBL   \n",
       "2               Löwenhjelm                /Harriet/ Augusta Dorothea     SKBL   \n",
       "3                      NaN                                       NaN      NaN   \n",
       "4                  Malling                         Ingrid /Mathilda/     SKBL   \n",
       "5                      NaN                                       NaN      NaN   \n",
       "6  Månsdotter (Lilliehöök)                                    /Ebba/     SKBL   \n",
       "7                      NaN                                       NaN      NaN   \n",
       "8                  Limnell                      /Fredrika/ Catharina     SKBL   \n",
       "9                      NaN                                       NaN      NaN   \n",
       "\n",
       "                Author                                               Link  \\\n",
       "0                  NaN                                                NaN   \n",
       "1   Jennifer Vintkvist         https://skbl.se/sv/artikel/MarianneLofgren   \n",
       "2         Boel Hackman       https://skbl.se/sv/artikel/HarrietLowenhjelm   \n",
       "3                  NaN                                                NaN   \n",
       "4         Birgitta Ney         https://skbl.se/sv/artikel/MathildaMalling   \n",
       "5                  NaN                                                NaN   \n",
       "6        Jan Samuelson  https://skbl.se/sv/artikel/EbbaMansdotterLilli...   \n",
       "7                  NaN                                                NaN   \n",
       "8  Birgitta Jordansson  https://skbl.se/sv/artikel/FredrikaCatharinaLi...   \n",
       "9                  NaN                                                NaN   \n",
       "\n",
       "  WD_SKBL  SBL_SKBL  \n",
       "0     NaN  SBL_only  \n",
       "1    both      both  \n",
       "2    both      both  \n",
       "3     NaN  SBL_only  \n",
       "4    both      both  \n",
       "5     NaN  SBL_only  \n",
       "6    both      both  \n",
       "7     NaN  SBL_only  \n",
       "8    both      both  \n",
       "9     NaN  SBL_only  "
      ]
     },
     "execution_count": 33,
     "metadata": {},
     "output_type": "execute_result"
    }
   ],
   "source": [
    "dfmerge['_merge'] = dfmerge['_merge'].str.replace('left_only','SBL_only').str.replace('right_only','SKBL_only')\n",
    "dfmerge.rename(columns={\"_merge\": \"SBL_SKBL\"},inplace = True)\n",
    "\n",
    "dfmerge[0:10]  \n"
   ]
  },
  {
   "cell_type": "code",
   "execution_count": 34,
   "metadata": {},
   "outputs": [
    {
     "name": "stdout",
     "output_type": "stream",
     "text": [
      "<class 'pandas.core.frame.DataFrame'>\n",
      "Int64Index: 1723 entries, 0 to 1722\n",
      "Data columns (total 5 columns):\n",
      " #   Column         Non-Null Count  Dtype         \n",
      "---  ------         --------------  -----         \n",
      " 0   WikidataID     1723 non-null   object        \n",
      " 1   sblid          527 non-null    object        \n",
      " 2   skblid_x       335 non-null    object        \n",
      " 3   publishedDate  1531 non-null   datetime64[ns]\n",
      " 4   SBL_SKBL       1723 non-null   object        \n",
      "dtypes: datetime64[ns](1), object(4)\n",
      "memory usage: 80.8+ KB\n"
     ]
    }
   ],
   "source": [
    "mergeCheck = dfmerge[['WikidataID', 'sblid','skblid_x','publishedDate','SBL_SKBL']] \n",
    "mergeCheck.info() "
   ]
  },
  {
   "cell_type": "code",
   "execution_count": 35,
   "metadata": {},
   "outputs": [
    {
     "data": {
      "image/png": "[encoded data removed]",
      "text/plain": [
       "<Figure size 432x288 with 1 Axes>"
      ]
     },
     "metadata": {},
     "output_type": "display_data"
    }
   ],
   "source": [
    "mergeCheckNumber = mergeCheck[\"SBL_SKBL\"].value_counts()\n",
    "mergeCheckNumber.plot( kind = 'pie')  \n",
    "plot = mergeCheckNumber.plot.pie( \\\n",
    "                   autopct='%1.0f%%', \\\n",
    "                   shadow=True, startangle=0)\n",
    "plt.title(\"Wikidata statistics SBL vs SKBL female articles \" + start_time.strftime('%Y %m %d'))\n",
    "plt.savefig('SKBLSBLfemale.png')\n",
    "plt.show()\n"
   ]
  },
  {
   "cell_type": "code",
   "execution_count": 36,
   "metadata": {},
   "outputs": [
    {
     "data": {
      "text/plain": [
       "SKBL_only    1196\n",
       "both          335\n",
       "SBL_only      192\n",
       "Name: SBL_SKBL, dtype: int64"
      ]
     },
     "execution_count": 36,
     "metadata": {},
     "output_type": "execute_result"
    }
   ],
   "source": [
    "mergeCheckNumber"
   ]
  },
  {
   "cell_type": "code",
   "execution_count": 37,
   "metadata": {},
   "outputs": [],
   "source": [
    "#Profiles missing in SKBL that SBL has written = left_only \n",
    "WDSBLonly = mergeCheck[mergeCheck[\"SBL_SKBL\"] == \"SBL_only\"].copy() "
   ]
  },
  {
   "cell_type": "code",
   "execution_count": 38,
   "metadata": {},
   "outputs": [
    {
     "name": "stdout",
     "output_type": "stream",
     "text": [
      "<class 'pandas.core.frame.DataFrame'>\n",
      "Int64Index: 192 entries, 0 to 523\n",
      "Data columns (total 5 columns):\n",
      " #   Column         Non-Null Count  Dtype         \n",
      "---  ------         --------------  -----         \n",
      " 0   WikidataID     192 non-null    object        \n",
      " 1   sblid          192 non-null    object        \n",
      " 2   skblid_x       0 non-null      object        \n",
      " 3   publishedDate  0 non-null      datetime64[ns]\n",
      " 4   SBL_SKBL       192 non-null    object        \n",
      "dtypes: datetime64[ns](1), object(4)\n",
      "memory usage: 9.0+ KB\n"
     ]
    }
   ],
   "source": [
    "WDSBLonly.info()"
   ]
  },
  {
   "cell_type": "code",
   "execution_count": 39,
   "metadata": {},
   "outputs": [
    {
     "data": {
      "text/html": [
       "<div>\n",
       "<style scoped>\n",
       "    .dataframe tbody tr th:only-of-type {\n",
       "        vertical-align: middle;\n",
       "    }\n",
       "\n",
       "    .dataframe tbody tr th {\n",
       "        vertical-align: top;\n",
       "    }\n",
       "\n",
       "    .dataframe thead th {\n",
       "        text-align: right;\n",
       "    }\n",
       "</style>\n",
       "<table border=\"1\" class=\"dataframe\">\n",
       "  <thead>\n",
       "    <tr style=\"text-align: right;\">\n",
       "      <th></th>\n",
       "      <th>WikidataID</th>\n",
       "      <th>sblid</th>\n",
       "      <th>sbl</th>\n",
       "    </tr>\n",
       "  </thead>\n",
       "  <tbody>\n",
       "    <tr>\n",
       "      <th>0</th>\n",
       "      <td>Q1794132</td>\n",
       "      <td>10025</td>\n",
       "      <td>https://sok.riksarkivet.se/Sbl/Presentation.aspx?id=10025</td>\n",
       "    </tr>\n",
       "    <tr>\n",
       "      <th>3</th>\n",
       "      <td>Q4942488</td>\n",
       "      <td>10132</td>\n",
       "      <td>https://sok.riksarkivet.se/Sbl/Presentation.aspx?id=10132</td>\n",
       "    </tr>\n",
       "    <tr>\n",
       "      <th>5</th>\n",
       "      <td>Q16595614</td>\n",
       "      <td>10248</td>\n",
       "      <td>https://sok.riksarkivet.se/Sbl/Presentation.aspx?id=10248</td>\n",
       "    </tr>\n",
       "    <tr>\n",
       "      <th>7</th>\n",
       "      <td>Q16595619</td>\n",
       "      <td>10332</td>\n",
       "      <td>https://sok.riksarkivet.se/Sbl/Presentation.aspx?id=10332</td>\n",
       "    </tr>\n",
       "    <tr>\n",
       "      <th>9</th>\n",
       "      <td>Q42399094</td>\n",
       "      <td>10396</td>\n",
       "      <td>https://sok.riksarkivet.se/Sbl/Presentation.aspx?id=10396</td>\n",
       "    </tr>\n",
       "    <tr>\n",
       "      <th>11</th>\n",
       "      <td>Q4767223</td>\n",
       "      <td>10404</td>\n",
       "      <td>https://sok.riksarkivet.se/Sbl/Presentation.aspx?id=10404</td>\n",
       "    </tr>\n",
       "    <tr>\n",
       "      <th>12</th>\n",
       "      <td>Q4962366</td>\n",
       "      <td>10417</td>\n",
       "      <td>https://sok.riksarkivet.se/Sbl/Presentation.aspx?id=10417</td>\n",
       "    </tr>\n",
       "    <tr>\n",
       "      <th>13</th>\n",
       "      <td>Q11857592</td>\n",
       "      <td>10445</td>\n",
       "      <td>https://sok.riksarkivet.se/Sbl/Presentation.aspx?id=10445</td>\n",
       "    </tr>\n",
       "    <tr>\n",
       "      <th>22</th>\n",
       "      <td>Q38373456</td>\n",
       "      <td>10673</td>\n",
       "      <td>https://sok.riksarkivet.se/Sbl/Presentation.aspx?id=10673</td>\n",
       "    </tr>\n",
       "    <tr>\n",
       "      <th>23</th>\n",
       "      <td>Q4963073</td>\n",
       "      <td>10728</td>\n",
       "      <td>https://sok.riksarkivet.se/Sbl/Presentation.aspx?id=10728</td>\n",
       "    </tr>\n",
       "  </tbody>\n",
       "</table>\n",
       "</div>"
      ],
      "text/plain": [
       "   WikidataID  sblid  \\\n",
       "0    Q1794132  10025   \n",
       "3    Q4942488  10132   \n",
       "5   Q16595614  10248   \n",
       "7   Q16595619  10332   \n",
       "9   Q42399094  10396   \n",
       "11   Q4767223  10404   \n",
       "12   Q4962366  10417   \n",
       "13  Q11857592  10445   \n",
       "22  Q38373456  10673   \n",
       "23   Q4963073  10728   \n",
       "\n",
       "                                                          sbl  \n",
       "0   https://sok.riksarkivet.se/Sbl/Presentation.aspx?id=10025  \n",
       "3   https://sok.riksarkivet.se/Sbl/Presentation.aspx?id=10132  \n",
       "5   https://sok.riksarkivet.se/Sbl/Presentation.aspx?id=10248  \n",
       "7   https://sok.riksarkivet.se/Sbl/Presentation.aspx?id=10332  \n",
       "9   https://sok.riksarkivet.se/Sbl/Presentation.aspx?id=10396  \n",
       "11  https://sok.riksarkivet.se/Sbl/Presentation.aspx?id=10404  \n",
       "12  https://sok.riksarkivet.se/Sbl/Presentation.aspx?id=10417  \n",
       "13  https://sok.riksarkivet.se/Sbl/Presentation.aspx?id=10445  \n",
       "22  https://sok.riksarkivet.se/Sbl/Presentation.aspx?id=10673  \n",
       "23  https://sok.riksarkivet.se/Sbl/Presentation.aspx?id=10728  "
      ]
     },
     "execution_count": 39,
     "metadata": {},
     "output_type": "execute_result"
    }
   ],
   "source": [
    "WDSBLonly[\"sbl\"] = \"https://sok.riksarkivet.se/Sbl/Presentation.aspx?id=\" + WDSBLonly[\"sblid\"] \n",
    "pd.set_option('column_space', 20)\n",
    "pd.set_option('max_colwidth', 300)\n",
    "\n",
    "WDSBLonly[[\"WikidataID\",\"sblid\",\"sbl\"]][:10]"
   ]
  },
  {
   "cell_type": "markdown",
   "metadata": {},
   "source": [
    "### Same query in Wikidata \n",
    "* Find all women [in SBL but not in SKBL](https://w.wiki/bFw) < 196 women\n",
    "* Find all women [in SBL but not in SKBL and have an en:Wikipedia article](https://w.wiki/bFy) < 128 \n",
    "### Wikipedia articles linking SKBL \n",
    "* sv:Wikipedia [usage template Authority](https://sv.wikipedia.org/wiki/Kategori:Wikipediaartiklar_med_identifierare_fr%C3%A5n_SKBL) > 1410\n",
    "  * **[Issue 23](https://github.com/spraakbanken/skbl-portal/issues/23)** SKBL has no date when the article is  translated maybe bad \"workaround\" is check tag **text_eng** that is missing in a non translated article as [JosephineGabrielleMarcelleMeunierSainteClaire.json](https://skbl.se/sv/artikel/JosephineGabrielleMarcelleMeunierSainteClaire.json) compare translated [article](https://skbl.se/sv/artikel/JennyLind.json) and then check that all articles with **text_eng** has [template SBL](https://en.wikipedia.org/wiki/Category:SKBL_template_using_Wikidata_property_P4963)\n",
    "* en:Wikipedia [usage template SKBL](https://en.wikipedia.org/wiki/Category:SKBL_template_using_Wikidata_property_P4963) > 686 articles\n",
    "\n",
    "### Lists related to SKBL\n",
    "* en:Wikipedia [Women in Red SKBL](https://en.wikipedia.org/wiki/Wikipedia:WikiProject_Women_in_Red/Missing_articles_by_dictionary/BDSW) list with articles \"missing\" in en:Wikipedia but in SKBL\n",
    "* sv:Wikipedia [articles missing](https://w.wiki/Zun) but in SKBL\n"
   ]
  },
  {
   "cell_type": "code",
   "execution_count": 40,
   "metadata": {},
   "outputs": [
    {
     "name": "stdout",
     "output_type": "stream",
     "text": [
      "<class 'pandas.core.frame.DataFrame'>\n",
      "Int64Index: 192 entries, 0 to 523\n",
      "Data columns (total 6 columns):\n",
      " #   Column         Non-Null Count  Dtype         \n",
      "---  ------         --------------  -----         \n",
      " 0   WikidataID     192 non-null    object        \n",
      " 1   sblid          192 non-null    object        \n",
      " 2   skblid_x       0 non-null      object        \n",
      " 3   publishedDate  0 non-null      datetime64[ns]\n",
      " 4   SBL_SKBL       192 non-null    object        \n",
      " 5   sbl            192 non-null    object        \n",
      "dtypes: datetime64[ns](1), object(5)\n",
      "memory usage: 10.5+ KB\n"
     ]
    }
   ],
   "source": [
    "WDSBLonly.info()"
   ]
  },
  {
   "cell_type": "code",
   "execution_count": 41,
   "metadata": {},
   "outputs": [
    {
     "data": {
      "text/plain": [
       "SKBL_only    1196\n",
       "both          335\n",
       "SBL_only      192\n",
       "Name: SBL_SKBL, dtype: int64"
      ]
     },
     "execution_count": 41,
     "metadata": {},
     "output_type": "execute_result"
    }
   ],
   "source": [
    "dfmerge[\"SBL_SKBL\"].value_counts()"
   ]
  },
  {
   "cell_type": "code",
   "execution_count": 42,
   "metadata": {},
   "outputs": [
    {
     "data": {
      "text/plain": [
       "both    1531\n",
       "Name: WD_SKBL, dtype: int64"
      ]
     },
     "execution_count": 42,
     "metadata": {},
     "output_type": "execute_result"
    }
   ],
   "source": [
    "mergeSKBLWD[\"WD_SKBL\"].value_counts() "
   ]
  },
  {
   "cell_type": "code",
   "execution_count": 43,
   "metadata": {},
   "outputs": [
    {
     "data": {
      "text/html": [
       "<div>\n",
       "<style scoped>\n",
       "    .dataframe tbody tr th:only-of-type {\n",
       "        vertical-align: middle;\n",
       "    }\n",
       "\n",
       "    .dataframe tbody tr th {\n",
       "        vertical-align: top;\n",
       "    }\n",
       "\n",
       "    .dataframe thead th {\n",
       "        text-align: right;\n",
       "    }\n",
       "</style>\n",
       "<table border=\"1\" class=\"dataframe\">\n",
       "  <thead>\n",
       "    <tr style=\"text-align: right;\">\n",
       "      <th></th>\n",
       "      <th>WikidataID</th>\n",
       "      <th>skblid</th>\n",
       "      <th>Source_x</th>\n",
       "      <th>publishedDate</th>\n",
       "      <th>article_author_firstname</th>\n",
       "      <th>article_author_lastname</th>\n",
       "      <th>subtitle_sv</th>\n",
       "      <th>name_lastname</th>\n",
       "      <th>name_firstname</th>\n",
       "      <th>Source_y</th>\n",
       "      <th>Author</th>\n",
       "      <th>Link</th>\n",
       "      <th>WD_SKBL</th>\n",
       "    </tr>\n",
       "  </thead>\n",
       "  <tbody>\n",
       "  </tbody>\n",
       "</table>\n",
       "</div>"
      ],
      "text/plain": [
       "Empty DataFrame\n",
       "Columns: [WikidataID, skblid, Source_x, publishedDate, article_author_firstname, article_author_lastname, subtitle_sv, name_lastname, name_firstname, Source_y, Author, Link, WD_SKBL]\n",
       "Index: []"
      ]
     },
     "execution_count": 43,
     "metadata": {},
     "output_type": "execute_result"
    }
   ],
   "source": [
    "#List new SKBL articles not in Wikidata\n",
    "mergeSKBLWD[mergeSKBLWD[\"WD_SKBL\"] == \"SKBL_only\"] "
   ]
  },
  {
   "cell_type": "code",
   "execution_count": 44,
   "metadata": {},
   "outputs": [
    {
     "name": "stdout",
     "output_type": "stream",
     "text": [
      "Ended:  2020-10-01 13:26:17.093006\n",
      "Time elapsed (hh:mm:ss.ms) 0:00:18.116765\n"
     ]
    }
   ],
   "source": [
    "end = datetime.now()\n",
    "print(\"Ended: \", end) \n",
    "print('Time elapsed (hh:mm:ss.ms) {}'.format(datetime.now() - start_time))"
   ]
  },
  {
   "cell_type": "markdown",
   "metadata": {},
   "source": [
    "### more links \n",
    "  * this [Jupyter Notebook](https://github.com/salgo60/open-data-examples/blob/master/Svenskt%20Kvinnobiografiskt%20lexikon%20part%203.ipynb) [tinyurl.com/SKBLSBL](https://tinyurl.com/SKBLSBL)\n",
    "    * [part 1](https://github.com/salgo60/open-data-examples/blob/master/Svenskt%20Kvinnobiografiskt%20lexikon.ipynb) check Wikidata and SKBL - obsolete is done in this Notebook \n",
    "    * [part 2](https://github.com/salgo60/open-data-examples/blob/master/Svenskt%20Kvinnobiografiskt%20lexikon%20part%202.ipynb) more queries etc.\n",
    "    * [part 4](https://github.com/salgo60/open-data-examples/blob/master/Svenskt%20Kvinnobiografiskt%20lexikon%20part%204.ipynb) test extract archives\n",
    "    * [part 5](https://github.com/salgo60/open-data-examples/blob/master/Svenskt%20Kvinnobiografiskt%20lexikon%20part%205.ipynb) check Uppsala University Alvin\n",
    "    * [SKBL issue board](https://github.com/spraakbanken/skbl-portal/issues) on GitHub\n",
    "      * open [SKBL 23](https://github.com/spraakbanken/skbl-portal/issues/23) field when translated\n",
    "      * open [SKBL 24](https://github.com/spraakbanken/skbl-portal/issues/24) fail when send a chenge request in SKBL\n"
   ]
  },
  {
   "cell_type": "code",
   "execution_count": null,
   "metadata": {},
   "outputs": [],
   "source": []
  },
  {
   "cell_type": "code",
   "execution_count": null,
   "metadata": {},
   "outputs": [],
   "source": []
  }
 ],
 "metadata": {
  "kernelspec": {
   "display_name": "Python 3",
   "language": "python",
   "name": "python3"
  },
  "language_info": {
   "codemirror_mode": {
    "name": "ipython",
    "version": 3
   },
   "file_extension": ".py",
   "mimetype": "text/x-python",
   "name": "python",
   "nbconvert_exporter": "python",
   "pygments_lexer": "ipython3",
   "version": "3.8.0"
  }
 },
 "nbformat": 4,
 "nbformat_minor": 4
}
