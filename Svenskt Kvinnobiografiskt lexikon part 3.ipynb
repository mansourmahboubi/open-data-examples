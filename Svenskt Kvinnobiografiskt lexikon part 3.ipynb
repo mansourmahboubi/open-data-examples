{
 "cells": [
  {
   "cell_type": "markdown",
   "metadata": {},
   "source": [
    "# Svenskt Kvinnobiografiskt lexikon - SKBL part 3\n",
    "    version part 3 - 2.7\n",
    " \n",
    " This [notebook](https://tinyurl.com/SKBLWDsynch) - latest run [diff WD / SKBL](https://github.com/salgo60/open-data-examples/blob/master/SKBL_new.csv)\n",
    "  \n",
    "  \n",
    "  * SKBL see https://skbl.se/en  \n",
    "    * example structured data from SKBL [GretaGarbo JSON](https://skbl.se/en/article/GretaGarbo.json)\n",
    "    * video \n",
    "      * in [Swedish what we do today](https://youtu.be/LBx7XowzrJ0)\n",
    "      * the vision with [Wikidata <-> SKBL](https://www.youtube.com/watch?v=HIHO-szkD1A)\n",
    "    * [presentation](https://docs.google.com/presentation/d/1EvQHdzPsIA4hr2WuNXnbpsLHec2GS89b_pHvilO6xhQ/edit?usp=sharing) about start using Linked data at SKBL and have same as Wikidata \n",
    "  * [Wikidata:WikiProject_Sweden/Svenskt_kvinnobiografiskt_lexikon](https://www.wikidata.org/wiki/Wikidata:WikiProject_Sweden/Svenskt_kvinnobiografiskt_lexikon)\n",
    "    \n",
    "  \n",
    "### Purpose\n",
    "  * gets statistics about SKBL and compare number of articles produced with what The Swedish National archives [SBL biographies](https://sok.riksarkivet.se/sbl/Start.aspx?lang=en) has produced since 1918\n",
    "  * check if SKBL has new articles created not added to [Wikidata](https://www.youtube.com/watch?v=m_9_23jXPoE)"
   ]
  },
  {
   "cell_type": "code",
   "execution_count": 1,
   "metadata": {},
   "outputs": [
    {
     "name": "stdout",
     "output_type": "stream",
     "text": [
      "Last run:  2021-03-04 15:23:35.670841\n"
     ]
    }
   ],
   "source": [
    "from datetime import datetime\n",
    "start_time  = datetime.now()\n",
    "print(\"Last run: \", start_time)"
   ]
  },
  {
   "cell_type": "markdown",
   "metadata": {},
   "source": [
    "#### Other sources we sync\n",
    "* [Arken](https://github.com/salgo60/open-data-examples/blob/master/Arken.ipynb) \n",
    "  * WD [Property:P8899](https://www.wikidata.org/wiki/Property:P8899) \n",
    "* [Kulturpersoner Uppsalakyrkogård](https://github.com/salgo60/open-data-examples/blob/master/Check%20WD%20kulturpersoner%20uppsalakyrkogardar.ipynb)\n",
    "* [Litteraturbanken](https://github.com/salgo60/open-data-examples/blob/master/Litteraturbanken%20Author.ipynb) \n",
    "  * WD property [P5101](https://www.wikidata.org/wiki/Property_talk:P5101) [P5123](https://www.wikidata.org/wiki/Property_talk:P5123)\n",
    "* [Nobelprize.org](https://github.com/salgo60/open-data-examples/blob/master/Nobel%20API.ipynb)\n",
    "  * WD [property 8024](https://www.wikidata.org/wiki/Property:P8024)\n",
    "* [SBL](https://github.com/salgo60/open-data-examples/blob/master/SBL.ipynb) \n",
    "  * WD [property 3217](https://www.wikidata.org/wiki/Property:P3217) \n",
    "* [SKBL](https://github.com/salgo60/open-data-examples/blob/master/Svenskt%20Kvinnobiografiskt%20lexikon%20part%203.ipynb)\n",
    "  * WD [property 4963](https://www.wikidata.org/wiki/Property:P4963)\n",
    "* [Svenska Akademien](https://github.com/salgo60/open-data-examples/blob/master/Svenska%20Akademien.ipynb) \n",
    "  * WD [property 5325](https://www.wikidata.org/wiki/Property:P5325) \n"
   ]
  },
  {
   "cell_type": "markdown",
   "metadata": {},
   "source": [
    "### Links\n",
    "* [video](https://www.youtube.com/watch?v=6jxH8MBIhvg) in Swedish about how SKBL deliver and work with Wikidata\n",
    "  * Example how project Women in Red at en:Wikipedia automatic [creates dynamic lists of \"missing\" articles](https://en.wikipedia.org/wiki/Wikipedia:WikiProject_Women_in_Red/Missing_articles_by_dictionary/BDSW) that shows what in SKBL has an english article about a women but not have an english article in en:Wikipedia\n",
    "    * see [version history](https://en.wikipedia.org/w/index.php?title=Wikipedia:WikiProject_Women_in_Red/Missing_articles_by_dictionary/BDSW&action=history) of list created\n",
    "    * see en:Wikipedia articles [with a link to SKBL](https://en.wikipedia.org/wiki/Category:SKBL_template_using_Wikidata_property_P4963) > 680 articles using the [SKBL template](https://en.wikipedia.org/wiki/Template:SKBL)"
   ]
  },
  {
   "cell_type": "markdown",
   "metadata": {},
   "source": [
    "Below we also use Wikidata to compare number of female articles produced\n",
    "* [SKBL started 2018](https://skbl.se/en/about-skbl)\n",
    "  * use a data driven approach with structured data\n",
    "  * has swedish/english articles see [https://pageviews.toolforge.org/massviews/?platform=all-access&agent=user&source=category&range=this-year&subjectpage=0&subcategories=0&sort=views&direction=1&view=list&target=https://en.wikipedia.org/wiki/Category:SKBL_template_using_Wikidata_property_P4963 statistics en:Wikipedia]\n",
    "     * page views in different languages for [Ingrid Bergman](https://pageviews.toolforge.org/langviews/?project=en.wikipedia.org&platform=all-access&agent=user&range=latest-20&sort=views&direction=1&view=list&page=Ingrid%20Bergman)\n",
    "* [SBL started 1917](https://sok.riksarkivet.se/sbl/Start.aspx?lang=en)\n",
    "  * publish on paper and then scan the paper and creates a webpage with no machinereadable structured data  \n",
    "\n",
    "**See also**\n",
    "* video [Introduction to Wikidata](https://www.youtube.com/watch?v=m_9_23jXPoE)"
   ]
  },
  {
   "cell_type": "code",
   "execution_count": 2,
   "metadata": {},
   "outputs": [
    {
     "data": {
      "text/html": [
       "<div style=\"display: inline-block; width: 720px; vertical-align: top; text-align: center;\"><h4 style=\"font-size: 12px\">0</h4><h4 style=\"font-size: 9px; padding-left: 10px; padding-right: 10px; width: 90%; word-wrap: break-word; white-space: normal;\">SBLmalefemale.png</h4><img src=\"SBLmalefemale.png\" style=\"margin: 1px; width: 700px; border: 2px solid #ddd;\"/></div><div style=\"display: inline-block; width: 720px; vertical-align: top; text-align: center;\"><h4 style=\"font-size: 12px\">1</h4><h4 style=\"font-size: 9px; padding-left: 10px; padding-right: 10px; width: 90%; word-wrap: break-word; white-space: normal;\">SKBLSBLfemale.png</h4><img src=\"SKBLSBLfemale.png\" style=\"margin: 1px; width: 700px; border: 2px solid #ddd;\"/></div><div style=\"display: inline-block; width: 720px; vertical-align: top; text-align: center;\"><h4 style=\"font-size: 12px\">2</h4><h4 style=\"font-size: 9px; padding-left: 10px; padding-right: 10px; width: 90%; word-wrap: break-word; white-space: normal;\">SKBLPiepublished.png</h4><img src=\"SKBLPiepublished.png\" style=\"margin: 1px; width: 700px; border: 2px solid #ddd;\"/></div><div style=\"display: inline-block; width: 720px; vertical-align: top; text-align: center;\"><h4 style=\"font-size: 12px\">3</h4><h4 style=\"font-size: 9px; padding-left: 10px; padding-right: 10px; width: 90%; word-wrap: break-word; white-space: normal;\">SKBLBarpublished.png</h4><img src=\"SKBLBarpublished.png\" style=\"margin: 1px; width: 700px; border: 2px solid #ddd;\"/></div><div style=\"display: inline-block; width: 720px; vertical-align: top; text-align: center;\"><h4 style=\"font-size: 12px\">4</h4><h4 style=\"font-size: 9px; padding-left: 10px; padding-right: 10px; width: 90%; word-wrap: break-word; white-space: normal;\">en_Wikipedia_SKBL_views-20200101-20200919.png</h4><img src=\"en_Wikipedia_SKBL_views-20200101-20200919.png\" style=\"margin: 1px; width: 700px; border: 2px solid #ddd;\"/></div><div style=\"display: inline-block; width: 720px; vertical-align: top; text-align: center;\"><h4 style=\"font-size: 12px\">5</h4><h4 style=\"font-size: 9px; padding-left: 10px; padding-right: 10px; width: 90%; word-wrap: break-word; white-space: normal;\">SBL_published_articles_1918-2018.png</h4><img src=\"SBL_published_articles_1918-2018.png\" style=\"margin: 1px; width: 700px; border: 2px solid #ddd;\"/></div><div style=\"display: inline-block; width: 720px; vertical-align: top; text-align: center;\"><h4 style=\"font-size: 12px\">6</h4><h4 style=\"font-size: 9px; padding-left: 10px; padding-right: 10px; width: 90%; word-wrap: break-word; white-space: normal;\">SBL_published_articles_women_1918-2018.png</h4><img src=\"SBL_published_articles_women_1918-2018.png\" style=\"margin: 1px; width: 700px; border: 2px solid #ddd;\"/></div>"
      ],
      "text/plain": [
       "<IPython.core.display.HTML object>"
      ]
     },
     "metadata": {},
     "output_type": "display_data"
    }
   ],
   "source": [
    "import ipyplot\n",
    "listOfImageNames = ['SBLmalefemale.png','SKBLSBLfemale.png','SKBLPiepublished.png',\n",
    "                   'SKBLBarpublished.png','en_Wikipedia_SKBL_views-20200101-20200919.png',\n",
    "                    'SBL_published_articles_1918-2018.png','SBL_published_articles_women_1918-2018.png']\n",
    "\n",
    "ipyplot.plot_images(listOfImageNames,img_width=700)"
   ]
  },
  {
   "cell_type": "markdown",
   "metadata": {},
   "source": [
    "* Map with [SKBL ladies](https://w.wiki/cyv) born,died,buried...\n",
    "* [Other external properties](https://w.wiki/czi) in WD on records that has the SKBL property "
   ]
  },
  {
   "cell_type": "code",
   "execution_count": 3,
   "metadata": {},
   "outputs": [],
   "source": [
    "import IPython \n",
    "#iframe = '<iframe width=\"900\" height=\"800\" frameborder=\"0\" scrolling=\"no\" src=\"https://w.wiki/cyv\"></iframe>'\n",
    "#IPython.display.IFrame(src=\"https://w.wiki/cyv\",width=900,height=800)"
   ]
  },
  {
   "cell_type": "markdown",
   "metadata": {},
   "source": [
    "# Wikidata - WDSKBLtot"
   ]
  },
  {
   "cell_type": "code",
   "execution_count": 4,
   "metadata": {},
   "outputs": [],
   "source": [
    "# pip install sparqlwrapper\n",
    "# https://rdflib.github.io/sparqlwrapper/\n",
    "\n",
    "import sys,json\n",
    "import pandas as pd \n",
    "\n",
    "from SPARQLWrapper import SPARQLWrapper, JSON\n",
    "\n",
    "endpoint_url = \"https://query.wikidata.org/sparql\"\n",
    "\n",
    "querySKBL = \"\"\"SELECT (REPLACE(STR(?item), \".*Q\", \"Q\") AS ?WikidataID)  ?skblid ?en ?sv WHERE {\n",
    "?item wdt:P31 wd:Q5.\n",
    "?item wdt:P4963 ?skblid\n",
    "OPTIONAL {?en schema:about ?item;\n",
    "         schema:inLanguage \"en\";\n",
    "         schema:isPartOf <https://en.wikipedia.org/> . }\n",
    "OPTIONAL {?sv schema:about ?item;\n",
    "         schema:inLanguage \"sv\";\n",
    "         schema:isPartOf <https://sv.wikipedia.org/> . }\n",
    "} order by ?skbl\"\"\"\n",
    "\n",
    "def get_sparql_dataframe(endpoint_url, query):\n",
    "    \"\"\"\n",
    "    Helper function to convert SPARQL results into a Pandas data frame.\n",
    "    \"\"\"\n",
    "    user_agent = \"salgo60/%s.%s\" % (sys.version_info[0], sys.version_info[1])\n",
    " \n",
    "    sparql = SPARQLWrapper(endpoint_url, agent=user_agent)\n",
    "    sparql.setQuery(query)\n",
    "    sparql.setReturnFormat(JSON)\n",
    "    result = sparql.query()\n",
    "\n",
    "    processed_results = json.load(result.response)\n",
    "    cols = processed_results['head']['vars']\n",
    "\n",
    "    out = []\n",
    "    for row in processed_results['results']['bindings']:\n",
    "        item = []\n",
    "        for c in cols:\n",
    "            item.append(row.get(c, {}).get('value'))\n",
    "        out.append(item)\n",
    "\n",
    "    return pd.DataFrame(out, columns=cols)\n",
    "\n",
    "WDSKBLtot = get_sparql_dataframe(endpoint_url, querySKBL)\n",
    "WDSKBLtot[\"Source\"] = \"SKBL\" \n"
   ]
  },
  {
   "cell_type": "code",
   "execution_count": 5,
   "metadata": {},
   "outputs": [],
   "source": [
    "WDSKBLtot.sort_index(inplace=True)  "
   ]
  },
  {
   "cell_type": "code",
   "execution_count": 6,
   "metadata": {},
   "outputs": [
    {
     "name": "stdout",
     "output_type": "stream",
     "text": [
      "<class 'pandas.core.frame.DataFrame'>\n",
      "RangeIndex: 1902 entries, 0 to 1901\n",
      "Data columns (total 5 columns):\n",
      " #   Column      Non-Null Count  Dtype \n",
      "---  ------      --------------  ----- \n",
      " 0   WikidataID  1902 non-null   object\n",
      " 1   skblid      1902 non-null   object\n",
      " 2   en          838 non-null    object\n",
      " 3   sv          1715 non-null   object\n",
      " 4   Source      1902 non-null   object\n",
      "dtypes: object(5)\n",
      "memory usage: 74.4+ KB\n"
     ]
    }
   ],
   "source": [
    "WDSKBLtot.info()"
   ]
  },
  {
   "cell_type": "markdown",
   "metadata": {},
   "source": [
    "## Get SKBL records - SKBLtot"
   ]
  },
  {
   "cell_type": "code",
   "execution_count": 7,
   "metadata": {
    "scrolled": false
   },
   "outputs": [
    {
     "name": "stdout",
     "output_type": "stream",
     "text": [
      "1956  antal poster\n"
     ]
    }
   ],
   "source": [
    "import urllib3, json\n",
    "import pandas as pd \n",
    "http = urllib3.PoolManager() \n",
    "\n",
    "\n",
    "  \n",
    "#Ny bättre URL    \n",
    "url = \"https://ws.spraakbanken.gu.se/ws/karp/v5/query?mode=skbl&q=extended%7C%7Cand%7Cskblstatus%7Cequals%7Cok&size=10000\"\n",
    "r = http.request('GET', url) \n",
    "data = json.loads(r.data.decode('utf-8')) \n",
    "#print(type(data))\n",
    "#print(r.info())  \n",
    "\n",
    "listSKBL = []\n",
    "i = 0 \n",
    "for row in (data[\"hits\"][\"hits\"]):\n",
    "    #print (row[\"_source\"][\"url\"])\n",
    "    new_item = dict()\n",
    "    new_item['skblid'] = row[\"_source\"][\"url\"]\n",
    "   \n",
    "    try:\n",
    "        publishedDate = row[\"_source\"]['publication_date']        \n",
    "    except:\n",
    "        publishedDate =\"\"\n",
    "    new_item['publishedDate'] = publishedDate\n",
    "    try:\n",
    "        article_author_firstname = row[\"_source\"][\"article_author\"][0]['firstname']\n",
    "    except:\n",
    "        article_author_firstname =\"\"\n",
    "    new_item['article_author_firstname'] = article_author_firstname\n",
    "    try:\n",
    "        article_author_lastname = row[\"_source\"][\"article_author\"][0]['lastname']\n",
    "    except:\n",
    "        article_author_lastname =\"\"\n",
    "    new_item['article_author_lastname'] = article_author_lastname\n",
    "    try:\n",
    "        subtitle_sv = row[\"_source\"]['subtitle']\n",
    "    except:\n",
    "        subtitle_sv =\"\"\n",
    "    new_item['subtitle_sv'] = subtitle_sv\n",
    "    try:\n",
    "        name_lastname = row[\"_source\"]['name']['lastname']\n",
    "    except:\n",
    "        name_lastname = \"\"\n",
    "    new_item['name_lastname'] = name_lastname\n",
    "    try:\n",
    "        name_firstname = row[\"_source\"]['name']['firstname']\n",
    "    except:\n",
    "        name_firstname = \"\"\n",
    "    new_item['name_firstname'] = name_firstname\n",
    "    try:\n",
    "        born = row[\"_source\"][\"lifespan\"]['from']['date']['date']\n",
    "#        born = row[\"_source\"][\"name\"]\n",
    "    except:\n",
    "        born = \"\"\n",
    "    new_item['born'] = born\n",
    "    try:\n",
    "        death = row[\"_source\"][\"lifespan\"]['to']['date']['date']\n",
    "    except:\n",
    "        death = \"\"\n",
    "    new_item['death'] = death\n",
    "    try:\n",
    "        longname = row[\"_source\"][\"lifespan\"]['to']['date']['date']\n",
    "    except:\n",
    "        death = \"\"\n",
    "    new_item['death'] = death\n",
    "    try:\n",
    "        internal_comment = row[\"_source\"][\"internal_comment\"]\n",
    "    except:\n",
    "        internal_comment = \"\"\n",
    "    new_item['internal_comment'] = internal_comment\n",
    "\n",
    "    listSKBL.append(new_item)\n",
    "    i = i + 1 \n",
    "    #print (i)\n",
    "print (len(listSKBL) ,\" antal poster\")\n"
   ]
  },
  {
   "cell_type": "code",
   "execution_count": 8,
   "metadata": {},
   "outputs": [],
   "source": [
    "SKBLtot = pd.DataFrame(listSKBL,\n",
    "                  columns=['skblid','publishedDate','article_author_firstname','article_author_lastname',\n",
    "                          'subtitle_sv','name_lastname','name_firstname','born','death','internal_comment'])"
   ]
  },
  {
   "cell_type": "code",
   "execution_count": 9,
   "metadata": {
    "scrolled": true
   },
   "outputs": [
    {
     "name": "stdout",
     "output_type": "stream",
     "text": [
      "<class 'pandas.core.frame.DataFrame'>\n",
      "RangeIndex: 1956 entries, 0 to 1955\n",
      "Data columns (total 10 columns):\n",
      " #   Column                    Non-Null Count  Dtype \n",
      "---  ------                    --------------  ----- \n",
      " 0   skblid                    1956 non-null   object\n",
      " 1   publishedDate             1956 non-null   object\n",
      " 2   article_author_firstname  1956 non-null   object\n",
      " 3   article_author_lastname   1956 non-null   object\n",
      " 4   subtitle_sv               1956 non-null   object\n",
      " 5   name_lastname             1956 non-null   object\n",
      " 6   name_firstname            1956 non-null   object\n",
      " 7   born                      1956 non-null   object\n",
      " 8   death                     1956 non-null   object\n",
      " 9   internal_comment          1956 non-null   object\n",
      "dtypes: object(10)\n",
      "memory usage: 152.9+ KB\n"
     ]
    }
   ],
   "source": [
    "SKBLtot.info()"
   ]
  },
  {
   "cell_type": "code",
   "execution_count": 10,
   "metadata": {
    "scrolled": true
   },
   "outputs": [],
   "source": [
    "#SKBLtot.sample(10)"
   ]
  },
  {
   "cell_type": "code",
   "execution_count": 11,
   "metadata": {},
   "outputs": [],
   "source": [
    "SKBLtot[\"publishedDate\"] = SKBLtot[\"publishedDate\"].astype(\"datetime64\")\n",
    "SKBLtot[\"Source\"] = \"SKBL\""
   ]
  },
  {
   "cell_type": "code",
   "execution_count": 12,
   "metadata": {},
   "outputs": [],
   "source": [
    "%matplotlib inline    \n",
    "import matplotlib.pyplot as plt   \n"
   ]
  },
  {
   "cell_type": "code",
   "execution_count": 13,
   "metadata": {},
   "outputs": [
    {
     "data": {
      "image/png": "[encoded data removed]",
      "text/plain": [
       "<Figure size 432x288 with 1 Axes>"
      ]
     },
     "metadata": {},
     "output_type": "display_data"
    }
   ],
   "source": [
    "plotPublishedAuthor = SKBLtot  \n",
    "  \n",
    "plotPublishedAuthor[\"Author\"] = plotPublishedAuthor[\"article_author_firstname\"] + \" \" + plotPublishedAuthor[\"article_author_lastname\"]   \n",
    "plotAuthor = plotPublishedAuthor[\"Author\"].value_counts()[:20]\n",
    "plotAuthor.plot( kind = 'pie') \n",
    "plt.title(\"SKBL authors -20\")\n",
    "plt.show()"
   ]
  },
  {
   "cell_type": "code",
   "execution_count": 14,
   "metadata": {},
   "outputs": [
    {
     "data": {
      "image/png": "[encoded data removed]",
      "text/plain": [
       "<Figure size 432x288 with 1 Axes>"
      ]
     },
     "metadata": {},
     "output_type": "display_data"
    }
   ],
   "source": [
    "plotAuthor = plotPublishedAuthor[\"Author\"].value_counts()[20:50]\n",
    "plotAuthor.plot( kind = 'pie') \n",
    "plt.title(\"SKBL authors 20-50\")\n",
    "plt.show()"
   ]
  },
  {
   "cell_type": "code",
   "execution_count": 15,
   "metadata": {},
   "outputs": [
    {
     "data": {
      "image/png": "[encoded data removed]",
      "text/plain": [
       "<Figure size 432x288 with 1 Axes>"
      ]
     },
     "metadata": {
      "needs_background": "light"
     },
     "output_type": "display_data"
    },
    {
     "data": {
      "text/plain": [
       "<Figure size 1600x2400 with 0 Axes>"
      ]
     },
     "metadata": {},
     "output_type": "display_data"
    }
   ],
   "source": [
    "from matplotlib.pyplot import figure\n",
    "#plotPublishedperMonth = dfSKBLAuthorcsv['publishedDate'].groupby(df['last_payout'].dt.to_period('M')).sum().plot(kind='bar')\n",
    "#plotPublishedperMonth = dfSKBLAuthorcsv['publishedDate'].groupby([dfSKBLAuthorcsv.publishedDate.year,dfSKBLAuthorcsv.publishedDate.month].agg('count'))\n",
    "plotPublishedperMonth = SKBLtot['publishedDate'].groupby(SKBLtot.publishedDate.dt.to_period(\"M\")).agg('count')\n",
    "plotPublishedperMonth.plot( kind = 'bar') \n",
    "plt.title(\"SKBL articles published per month - \")\n",
    "plt.savefig('SKBLBarpublished.png') \n",
    "figure(num=None, figsize=(20, 30), dpi=80, facecolor='w', edgecolor='k')\n",
    "plt.show()"
   ]
  },
  {
   "cell_type": "code",
   "execution_count": 16,
   "metadata": {},
   "outputs": [
    {
     "data": {
      "text/plain": [
       "publishedDate\n",
       "2018-03    1008\n",
       "2020-03     254\n",
       "2020-04      47\n",
       "2020-05      71\n",
       "2020-06      51\n",
       "2020-07      11\n",
       "2020-08      22\n",
       "2020-09      67\n",
       "2020-10      70\n",
       "2020-11      89\n",
       "2020-12      59\n",
       "2021-01      82\n",
       "2021-02     112\n",
       "2021-03      13\n",
       "Freq: M, Name: publishedDate, dtype: int64"
      ]
     },
     "execution_count": 16,
     "metadata": {},
     "output_type": "execute_result"
    }
   ],
   "source": [
    "plotPublishedperMonth"
   ]
  },
  {
   "cell_type": "code",
   "execution_count": 17,
   "metadata": {},
   "outputs": [
    {
     "data": {
      "text/plain": [
       "publishedDate\n",
       "2018-03    1008\n",
       "2020-03     254\n",
       "2020-04      47\n",
       "2020-05      71\n",
       "2020-06      51\n",
       "2020-07      11\n",
       "2020-08      22\n",
       "2020-09      67\n",
       "2020-10      70\n",
       "2020-11      89\n",
       "2020-12      59\n",
       "2021-01      82\n",
       "2021-02     112\n",
       "2021-03      13\n",
       "Freq: M, Name: publishedDate, dtype: int64"
      ]
     },
     "execution_count": 17,
     "metadata": {},
     "output_type": "execute_result"
    }
   ],
   "source": [
    "plotPublishedperMonth"
   ]
  },
  {
   "cell_type": "code",
   "execution_count": 18,
   "metadata": {},
   "outputs": [
    {
     "data": {
      "image/png": "[encoded data removed]",
      "text/plain": [
       "<Figure size 432x288 with 1 Axes>"
      ]
     },
     "metadata": {
      "needs_background": "light"
     },
     "output_type": "display_data"
    },
    {
     "data": {
      "text/plain": [
       "<Figure size 1600x2400 with 0 Axes>"
      ]
     },
     "metadata": {},
     "output_type": "display_data"
    }
   ],
   "source": [
    "plotPublishedperMonth2020 = SKBLtot['publishedDate'].groupby(SKBLtot.publishedDate.dt.to_period(\"M\")).agg('count')\n",
    "\n",
    "plotPublishedperMonth2020.plot( kind = 'bar') \n",
    "plt.title(\"SKBL articles published 2021 per month - \")\n",
    "plt.savefig('SKBL2020Barpublished.png') \n",
    "figure(num=None, figsize=(20, 30), dpi=80, facecolor='w', edgecolor='k')\n",
    "plt.show()"
   ]
  },
  {
   "cell_type": "code",
   "execution_count": 19,
   "metadata": {},
   "outputs": [
    {
     "data": {
      "text/plain": [
       "1956"
      ]
     },
     "execution_count": 19,
     "metadata": {},
     "output_type": "execute_result"
    }
   ],
   "source": [
    "plotPublishedperMonth.sum()"
   ]
  },
  {
   "cell_type": "code",
   "execution_count": 20,
   "metadata": {},
   "outputs": [
    {
     "name": "stdout",
     "output_type": "stream",
     "text": [
      "Nr articles left to the goal 2000 =  44\n"
     ]
    }
   ],
   "source": [
    "print(\"Nr articles left to the goal 2000 = \",2000- plotPublishedperMonth.sum())"
   ]
  },
  {
   "cell_type": "code",
   "execution_count": 21,
   "metadata": {},
   "outputs": [],
   "source": [
    "#plotPublishedAccumalted"
   ]
  },
  {
   "cell_type": "code",
   "execution_count": 22,
   "metadata": {},
   "outputs": [
    {
     "data": {
      "image/png": "[encoded data removed]",
      "text/plain": [
       "<Figure size 432x288 with 1 Axes>"
      ]
     },
     "metadata": {},
     "output_type": "display_data"
    }
   ],
   "source": [
    "plotPublishedperMonth.plot( kind = 'pie') \n",
    "plt.title(\"SKBL articles published per month\") \n",
    "plt.savefig('SKBLPiepublished.png')\n",
    "plt.show()"
   ]
  },
  {
   "cell_type": "code",
   "execution_count": 23,
   "metadata": {},
   "outputs": [],
   "source": [
    "pd.set_option('display.max_rows', None) \n",
    "# Sort latest first \n",
    "#dfSKBLAuthorcsv.sort_values(by=['publishedDate'], ascending=[False])"
   ]
  },
  {
   "cell_type": "code",
   "execution_count": 24,
   "metadata": {},
   "outputs": [
    {
     "data": {
      "text/plain": [
       "both         1901\n",
       "SKBL_only      55\n",
       "WD_only         1\n",
       "Name: WD_SKBL, dtype: int64"
      ]
     },
     "execution_count": 24,
     "metadata": {},
     "output_type": "execute_result"
    }
   ],
   "source": [
    "from IPython.display import display, HTML  \n",
    "\n",
    "plotPublishedAuthor[\"Link\"] = \"<a href='https://skbl.se/sv/artikel/\" + plotPublishedAuthor['skblid'].astype(str) + \"'>SKBL web</a>\"\n",
    "plotPublishedAuthor[\"Linkjson\"] = \"<a href='https://skbl.se/sv/artikel/\" + plotPublishedAuthor['skblid'].astype(str) + \".json'>SKBL Json</a>\"\n",
    "\n",
    "# Merge plotPublishedAuthor WDSKBLtot  \n",
    "mergeSKBLWD = pd.merge(WDSKBLtot, plotPublishedAuthor,how='outer', on='skblid',indicator=True)   \n",
    "mergeSKBLWD.rename(columns={\"_merge\": \"WD_SKBL\"},inplace = True)\n",
    "mergeSKBLWD['WD_SKBL'] = mergeSKBLWD['WD_SKBL'].str.replace('left_only','WD_only').str.replace('right_only','SKBL_only')\n",
    "mergeSKBLWD[\"WD_SKBL\"].value_counts()  \n"
   ]
  },
  {
   "cell_type": "code",
   "execution_count": 25,
   "metadata": {},
   "outputs": [
    {
     "name": "stdout",
     "output_type": "stream",
     "text": [
      "<class 'pandas.core.frame.DataFrame'>\n",
      "Int64Index: 1957 entries, 0 to 1956\n",
      "Data columns (total 19 columns):\n",
      " #   Column                    Non-Null Count  Dtype         \n",
      "---  ------                    --------------  -----         \n",
      " 0   WikidataID                1902 non-null   object        \n",
      " 1   skblid                    1957 non-null   object        \n",
      " 2   en                        838 non-null    object        \n",
      " 3   sv                        1715 non-null   object        \n",
      " 4   Source_x                  1902 non-null   object        \n",
      " 5   publishedDate             1956 non-null   datetime64[ns]\n",
      " 6   article_author_firstname  1956 non-null   object        \n",
      " 7   article_author_lastname   1956 non-null   object        \n",
      " 8   subtitle_sv               1956 non-null   object        \n",
      " 9   name_lastname             1956 non-null   object        \n",
      " 10  name_firstname            1956 non-null   object        \n",
      " 11  born                      1956 non-null   object        \n",
      " 12  death                     1956 non-null   object        \n",
      " 13  internal_comment          1956 non-null   object        \n",
      " 14  Source_y                  1956 non-null   object        \n",
      " 15  Author                    1956 non-null   object        \n",
      " 16  Link                      1956 non-null   object        \n",
      " 17  Linkjson                  1956 non-null   object        \n",
      " 18  WD_SKBL                   1957 non-null   object        \n",
      "dtypes: datetime64[ns](1), object(18)\n",
      "memory usage: 305.8+ KB\n"
     ]
    }
   ],
   "source": [
    "mergeSKBLWD.info()"
   ]
  },
  {
   "cell_type": "markdown",
   "metadata": {},
   "source": [
    "# Latest articles published in SKBL"
   ]
  },
  {
   "cell_type": "code",
   "execution_count": 26,
   "metadata": {},
   "outputs": [],
   "source": [
    "#mergeSKBLWD.info()"
   ]
  },
  {
   "cell_type": "code",
   "execution_count": 27,
   "metadata": {
    "scrolled": false
   },
   "outputs": [
    {
     "data": {
      "text/html": [
       "<table border=\"1\" class=\"dataframe\">\n",
       "  <thead>\n",
       "    <tr style=\"text-align: right;\">\n",
       "      <th></th>\n",
       "      <th>Wikidata</th>\n",
       "      <th>publishedDate</th>\n",
       "      <th>en</th>\n",
       "      <th>Linkjson</th>\n",
       "      <th>WikidataID</th>\n",
       "      <th>Link</th>\n",
       "      <th>WD_SKBL</th>\n",
       "      <th>sv</th>\n",
       "      <th>svWikipedia</th>\n",
       "      <th>internal_comment</th>\n",
       "      <th>skblid</th>\n",
       "      <th>subtitle_sv</th>\n",
       "    </tr>\n",
       "  </thead>\n",
       "  <tbody>\n",
       "    <tr>\n",
       "      <th>0</th>\n",
       "      <td><a href='https://www.wikidata.org/wiki/nan'>Wikidata</a></td>\n",
       "      <td>2021-03-04</td>\n",
       "      <td>NaN</td>\n",
       "      <td><a href='https://skbl.se/sv/artikel/BritaSkotsner.json'>SKBL Json</a></td>\n",
       "      <td>NaN</td>\n",
       "      <td><a href='https://skbl.se/sv/artikel/BritaSkotsner'>SKBL web</a></td>\n",
       "      <td>SKBL_only</td>\n",
       "      <td>NaN</td>\n",
       "      <td><a href='https://www.wikidata.org/wiki/Special:GoToLinkedPage/svwiki/nan'>svWiki</a></td>\n",
       "      <td>Saknar ISNI; LÅ;</td>\n",
       "      <td>BritaSkotsner</td>\n",
       "      <td>Fotograf</td>\n",
       "    </tr>\n",
       "    <tr>\n",
       "      <th>1</th>\n",
       "      <td><a href='https://www.wikidata.org/wiki/nan'>Wikidata</a></td>\n",
       "      <td>2021-03-04</td>\n",
       "      <td>NaN</td>\n",
       "      <td><a href='https://skbl.se/sv/artikel/TillieAnderson.json'>SKBL Json</a></td>\n",
       "      <td>NaN</td>\n",
       "      <td><a href='https://skbl.se/sv/artikel/TillieAnderson'>SKBL web</a></td>\n",
       "      <td>SKBL_only</td>\n",
       "      <td>NaN</td>\n",
       "      <td><a href='https://www.wikidata.org/wiki/Special:GoToLinkedPage/svwiki/nan'>svWiki</a></td>\n",
       "      <td>Saknar ISNI; LÅ;</td>\n",
       "      <td>TillieAnderson</td>\n",
       "      <td>Idrottare, cyklist, pionjär</td>\n",
       "    </tr>\n",
       "    <tr>\n",
       "      <th>2</th>\n",
       "      <td><a href='https://www.wikidata.org/wiki/nan'>Wikidata</a></td>\n",
       "      <td>2021-03-04</td>\n",
       "      <td>NaN</td>\n",
       "      <td><a href='https://skbl.se/sv/artikel/MarieLouiseBachman.json'>SKBL Json</a></td>\n",
       "      <td>NaN</td>\n",
       "      <td><a href='https://skbl.se/sv/artikel/MarieLouiseBachman'>SKBL web</a></td>\n",
       "      <td>SKBL_only</td>\n",
       "      <td>NaN</td>\n",
       "      <td><a href='https://www.wikidata.org/wiki/Special:GoToLinkedPage/svwiki/nan'>svWiki</a></td>\n",
       "      <td>LÅ; porträttsök pågår</td>\n",
       "      <td>MarieLouiseBachman</td>\n",
       "      <td>Bibliotekarie, historiker, pionjär</td>\n",
       "    </tr>\n",
       "    <tr>\n",
       "      <th>3</th>\n",
       "      <td><a href='https://www.wikidata.org/wiki/nan'>Wikidata</a></td>\n",
       "      <td>2021-03-04</td>\n",
       "      <td>NaN</td>\n",
       "      <td><a href='https://skbl.se/sv/artikel/BeataBergstrom.json'>SKBL Json</a></td>\n",
       "      <td>NaN</td>\n",
       "      <td><a href='https://skbl.se/sv/artikel/BeataBergstrom'>SKBL web</a></td>\n",
       "      <td>SKBL_only</td>\n",
       "      <td>NaN</td>\n",
       "      <td><a href='https://www.wikidata.org/wiki/Special:GoToLinkedPage/svwiki/nan'>svWiki</a></td>\n",
       "      <td>LÅ; porträttsök pågår</td>\n",
       "      <td>BeataBergstrom</td>\n",
       "      <td>Teaterfotograf, pionjär</td>\n",
       "    </tr>\n",
       "    <tr>\n",
       "      <th>4</th>\n",
       "      <td><a href='https://www.wikidata.org/wiki/nan'>Wikidata</a></td>\n",
       "      <td>2021-03-04</td>\n",
       "      <td>NaN</td>\n",
       "      <td><a href='https://skbl.se/sv/artikel/IngerRudberg0.json'>SKBL Json</a></td>\n",
       "      <td>NaN</td>\n",
       "      <td><a href='https://skbl.se/sv/artikel/IngerRudberg0'>SKBL web</a></td>\n",
       "      <td>SKBL_only</td>\n",
       "      <td>NaN</td>\n",
       "      <td><a href='https://www.wikidata.org/wiki/Special:GoToLinkedPage/svwiki/nan'>svWiki</a></td>\n",
       "      <td>LÅ; porträttsök pågår</td>\n",
       "      <td>IngerRudberg0</td>\n",
       "      <td>Lärare, folkbildare, debattör</td>\n",
       "    </tr>\n",
       "    <tr>\n",
       "      <th>5</th>\n",
       "      <td><a href='https://www.wikidata.org/wiki/nan'>Wikidata</a></td>\n",
       "      <td>2021-03-03</td>\n",
       "      <td>NaN</td>\n",
       "      <td><a href='https://skbl.se/sv/artikel/ChristinaCatharinaLarsdotter.json'>SKBL Json</a></td>\n",
       "      <td>NaN</td>\n",
       "      <td><a href='https://skbl.se/sv/artikel/ChristinaCatharinaLarsdotter'>SKBL web</a></td>\n",
       "      <td>SKBL_only</td>\n",
       "      <td>NaN</td>\n",
       "      <td><a href='https://www.wikidata.org/wiki/Special:GoToLinkedPage/svwiki/nan'>svWiki</a></td>\n",
       "      <td>LÅ; OBS: jag utelämnade &quot;Långa Lappflickan&quot; bland namnen av samma orsak som jag utelämnade &quot;Svarta Sara&quot; om Mazahr Makatemele, och vi fick byta namn på &quot;Margareta lappkvinna&quot; till &quot;Margareta, missionär&quot;.</td>\n",
       "      <td>ChristinaCatharinaLarsdotter</td>\n",
       "      <td>Flicka med gigantism, utställningsartist</td>\n",
       "    </tr>\n",
       "    <tr>\n",
       "      <th>6</th>\n",
       "      <td><a href='https://www.wikidata.org/wiki/nan'>Wikidata</a></td>\n",
       "      <td>2021-03-03</td>\n",
       "      <td>NaN</td>\n",
       "      <td><a href='https://skbl.se/sv/artikel/MariaMarySofiaAnderson.json'>SKBL Json</a></td>\n",
       "      <td>NaN</td>\n",
       "      <td><a href='https://skbl.se/sv/artikel/MariaMarySofiaAnderson'>SKBL web</a></td>\n",
       "      <td>SKBL_only</td>\n",
       "      <td>NaN</td>\n",
       "      <td><a href='https://www.wikidata.org/wiki/Special:GoToLinkedPage/svwiki/nan'>svWiki</a></td>\n",
       "      <td>LÅ;</td>\n",
       "      <td>MariaMarySofiaAnderson</td>\n",
       "      <td>Facklig ledare, kvinnosakskvinna</td>\n",
       "    </tr>\n",
       "    <tr>\n",
       "      <th>7</th>\n",
       "      <td><a href='https://www.wikidata.org/wiki/nan'>Wikidata</a></td>\n",
       "      <td>2021-03-03</td>\n",
       "      <td>NaN</td>\n",
       "      <td><a href='https://skbl.se/sv/artikel/EllyBertaIsabellaLofstrand.json'>SKBL Json</a></td>\n",
       "      <td>NaN</td>\n",
       "      <td><a href='https://skbl.se/sv/artikel/EllyBertaIsabellaLofstrand'>SKBL web</a></td>\n",
       "      <td>SKBL_only</td>\n",
       "      <td>NaN</td>\n",
       "      <td><a href='https://www.wikidata.org/wiki/Special:GoToLinkedPage/svwiki/nan'>svWiki</a></td>\n",
       "      <td>Saknar ISNI; LÅ;</td>\n",
       "      <td>EllyBertaIsabellaLofstrand</td>\n",
       "      <td>Gymnast, pionjär, folkbildare</td>\n",
       "    </tr>\n",
       "    <tr>\n",
       "      <th>8</th>\n",
       "      <td><a href='https://www.wikidata.org/wiki/nan'>Wikidata</a></td>\n",
       "      <td>2021-03-03</td>\n",
       "      <td>NaN</td>\n",
       "      <td><a href='https://skbl.se/sv/artikel/MirjamFuruhjelm.json'>SKBL Json</a></td>\n",
       "      <td>NaN</td>\n",
       "      <td><a href='https://skbl.se/sv/artikel/MirjamFuruhjelm'>SKBL web</a></td>\n",
       "      <td>SKBL_only</td>\n",
       "      <td>NaN</td>\n",
       "      <td><a href='https://www.wikidata.org/wiki/Special:GoToLinkedPage/svwiki/nan'>svWiki</a></td>\n",
       "      <td>LÅ; porträtt saknas</td>\n",
       "      <td>MirjamFuruhjelm</td>\n",
       "      <td>Gynekolog, professor, pionjär</td>\n",
       "    </tr>\n",
       "    <tr>\n",
       "      <th>9</th>\n",
       "      <td><a href='https://www.wikidata.org/wiki/nan'>Wikidata</a></td>\n",
       "      <td>2021-03-02</td>\n",
       "      <td>NaN</td>\n",
       "      <td><a href='https://skbl.se/sv/artikel/IngridYlvaBirgittaKallstromEklund.json'>SKBL Json</a></td>\n",
       "      <td>NaN</td>\n",
       "      <td><a href='https://skbl.se/sv/artikel/IngridYlvaBirgittaKallstromEklund'>SKBL web</a></td>\n",
       "      <td>SKBL_only</td>\n",
       "      <td>NaN</td>\n",
       "      <td><a href='https://www.wikidata.org/wiki/Special:GoToLinkedPage/svwiki/nan'>svWiki</a></td>\n",
       "      <td>LÅ;</td>\n",
       "      <td>IngridYlvaBirgittaKallstromEklund</td>\n",
       "      <td>Tecknare, illustratör, grafisk formgivare</td>\n",
       "    </tr>\n",
       "  </tbody>\n",
       "</table>"
      ],
      "text/plain": [
       "<IPython.core.display.HTML object>"
      ]
     },
     "execution_count": 27,
     "metadata": {},
     "output_type": "execute_result"
    }
   ],
   "source": [
    "# de sista 10 publiserade biografier \n",
    "mergeSKBLWD = mergeSKBLWD.sort_values(by=['publishedDate'], ascending=[False])\n",
    "mergeSKBLWD = mergeSKBLWD.reset_index(drop=True)  \n",
    "mergeSKBLWD[\"Wikidata\"] = \"<a href='https://www.wikidata.org/wiki/\" + mergeSKBLWD['WikidataID'].astype(str) + \"'>Wikidata</a>\"\n",
    "mergeSKBLWD[\"svWikipedia\"] = \"<a href='https://www.wikidata.org/wiki/Special:GoToLinkedPage/svwiki/\" + mergeSKBLWD['WikidataID'].astype(str) + \"'>svWiki</a>\"\n",
    "#mergeSKBLWD[\"enWikipedia\"] = \"<a href='\" + mergeSKBLWD['en'].astype(str) + \"'>enWiki</a>\"\n",
    "\n",
    "HTML(mergeSKBLWD[{'publishedDate','internal_comment','WikidataID','Wikidata','skblid','subtitle_sv','WD_SKBL','Link','Linkjson','svWikipedia','en','sv'}][:10].to_html(escape=False))\n"
   ]
  },
  {
   "cell_type": "code",
   "execution_count": 28,
   "metadata": {},
   "outputs": [],
   "source": [
    "#mergeSKBLWDOVRST = mergeSKBLWD[mergeSKBLWD[\"internal_comment\"].str.contains(\"ÖVRST\")].copy() \n",
    "#TBD filter en 20201221\n",
    "#HTML(mergeSKBLWDOVRST[{'publishedDate','internal_comment','skblid','subtitle_sv','WD_SKBL','Link','Linkjson','svWikipedia','en','sv'}][:50].to_html(escape=False))\n"
   ]
  },
  {
   "cell_type": "code",
   "execution_count": 29,
   "metadata": {},
   "outputs": [],
   "source": [
    "#Get öatest translated add date for ÖVRST\n",
    "#temp = mergeSKBLWD[mergeSKBLWD[\"internal_comment\"].str.contains(\"2021\")].copy() \n",
    "#HTML(temp[{'publishedDate','internal_comment','skblid','subtitle_sv','WD_SKBL','Link','Linkjson','svWikipedia','en'}][:50].to_html(escape=False))\n"
   ]
  },
  {
   "cell_type": "markdown",
   "metadata": {},
   "source": [
    "## Compare SBL\n",
    "SBL started in 1918 and is published by the [National Archives](https://sok.riksarkivet.se/sbl/Start.aspx?lang=en) in Sweden. They have\n",
    "* No API\n",
    "* focus on publish on paper\n",
    "* dont have structured data\n",
    "* no understanding of [Linked data](https://vimeo.com/36752317)\n",
    "* we have before manually been adding links but also tried doing webscrabing to populate [Wikidata P3217](https://www.wikidata.org/wiki/Property_talk:P3217) now I guess we wait on SBL for delivering data as data see question asked [236883](https://phabricator.wikimedia.org/T236883) Oct 30 2019, 11:03 AM - no official answer so far and The Swedish National Archives has no helpdesk system were you get an unique helpdesk number ([some action was promised aug 2018 by Rolf Källman](https://twitter.com/salgo60/status/1030269242296414208?s=20) nothing heard)\n",
    "\n",
    "### Wikidata <-> SBL updated\n",
    "We did a NEW try getting structure from webscrabed data see [Jupyter Notebook](https://github.com/salgo60/open-data-examples/blob/master/SBL.ipynb) as SBL is non structured data we will get errors and also problem understand what is an article about a family and what is about a person.... "
   ]
  },
  {
   "cell_type": "code",
   "execution_count": 30,
   "metadata": {},
   "outputs": [],
   "source": [
    "# SPARQL \n",
    "querySBL = \"\"\"SELECT distinct (REPLACE(STR(?item), \".*Q\", \"Q\") AS ?WikidataID)  ?sblid  ?skblid ?genderLabel  WHERE {\n",
    "?item wdt:P31 wd:Q5.\n",
    "OPTIONAL {?item wdt:P21 ?gender}\n",
    "?item wdt:P3217 ?sblid\n",
    "OPTIONAL {?item wdt:P4963 ?skblid}\n",
    "SERVICE wikibase:label { bd:serviceParam wikibase:language \"en\". }\n",
    "} order by ?sblid \"\"\"\n",
    "\n",
    "\n",
    "WDSBLtot = get_sparql_dataframe(endpoint_url, querySBL)\n",
    "WDSBLtot[\"Source\"] = \"SBL\" \n",
    "#WDSBLtot.info()"
   ]
  },
  {
   "cell_type": "code",
   "execution_count": 31,
   "metadata": {},
   "outputs": [
    {
     "data": {
      "image/png": "[encoded data removed]",
      "text/plain": [
       "<Figure size 432x288 with 1 Axes>"
      ]
     },
     "metadata": {},
     "output_type": "display_data"
    }
   ],
   "source": [
    "plotSBLgender = WDSBLtot[\"genderLabel\"].value_counts()\n",
    "plotSBLgender.plot( kind = 'pie') \n",
    "plt.title(\"Riksarkivet SBL male/female\")\n",
    "plot = plotSBLgender.plot.pie( \\\n",
    "                   autopct='%1.0f%%', \\\n",
    "                   shadow=True, startangle=0)\n",
    "plt.title(\"SBL male vs. female articles 1918 - \" + start_time.strftime('%Y %m %d'))\n",
    "plt.savefig('SBLmalefemale.png')\n",
    "plt.show()"
   ]
  },
  {
   "cell_type": "code",
   "execution_count": 32,
   "metadata": {},
   "outputs": [
    {
     "data": {
      "text/plain": [
       "male                7069\n",
       "female               527\n",
       "transgender male       1\n",
       "Name: genderLabel, dtype: int64"
      ]
     },
     "execution_count": 32,
     "metadata": {},
     "output_type": "execute_result"
    }
   ],
   "source": [
    "plotSBLgender"
   ]
  },
  {
   "cell_type": "code",
   "execution_count": 33,
   "metadata": {},
   "outputs": [
    {
     "name": "stdout",
     "output_type": "stream",
     "text": [
      "<class 'pandas.core.frame.DataFrame'>\n",
      "RangeIndex: 7597 entries, 0 to 7596\n",
      "Data columns (total 5 columns):\n",
      " #   Column       Non-Null Count  Dtype \n",
      "---  ------       --------------  ----- \n",
      " 0   WikidataID   7597 non-null   object\n",
      " 1   sblid        7597 non-null   object\n",
      " 2   skblid       377 non-null    object\n",
      " 3   genderLabel  7597 non-null   object\n",
      " 4   Source       7597 non-null   object\n",
      "dtypes: object(5)\n",
      "memory usage: 296.9+ KB\n"
     ]
    }
   ],
   "source": [
    "WDSBLtot.info()"
   ]
  },
  {
   "cell_type": "code",
   "execution_count": 34,
   "metadata": {},
   "outputs": [
    {
     "data": {
      "text/html": [
       "<div>\n",
       "<style scoped>\n",
       "    .dataframe tbody tr th:only-of-type {\n",
       "        vertical-align: middle;\n",
       "    }\n",
       "\n",
       "    .dataframe tbody tr th {\n",
       "        vertical-align: top;\n",
       "    }\n",
       "\n",
       "    .dataframe thead th {\n",
       "        text-align: right;\n",
       "    }\n",
       "</style>\n",
       "<table border=\"1\" class=\"dataframe\">\n",
       "  <thead>\n",
       "    <tr style=\"text-align: right;\">\n",
       "      <th></th>\n",
       "      <th>WikidataID</th>\n",
       "      <th>sblid</th>\n",
       "      <th>skblid</th>\n",
       "      <th>genderLabel</th>\n",
       "      <th>Source</th>\n",
       "    </tr>\n",
       "  </thead>\n",
       "  <tbody>\n",
       "  </tbody>\n",
       "</table>\n",
       "</div>"
      ],
      "text/plain": [
       "Empty DataFrame\n",
       "Columns: [WikidataID, sblid, skblid, genderLabel, Source]\n",
       "Index: []"
      ]
     },
     "execution_count": 34,
     "metadata": {},
     "output_type": "execute_result"
    }
   ],
   "source": [
    "WDSBLtot[WDSBLtot.duplicated(subset=['WikidataID'])]"
   ]
  },
  {
   "cell_type": "code",
   "execution_count": 35,
   "metadata": {},
   "outputs": [
    {
     "data": {
      "text/plain": [
       "male                7069\n",
       "female               527\n",
       "transgender male       1\n",
       "Name: genderLabel, dtype: int64"
      ]
     },
     "execution_count": 35,
     "metadata": {},
     "output_type": "execute_result"
    }
   ],
   "source": [
    "plotSBLgender"
   ]
  },
  {
   "cell_type": "code",
   "execution_count": 36,
   "metadata": {},
   "outputs": [],
   "source": [
    "plotSBLfemale = WDSBLtot[WDSBLtot[\"genderLabel\"] == \"female\"] \n",
    "#plotSBLfemale[\"birth\"] = plotSBLfemale[\"birth\"].astype(\"datetime64\")\n",
    "#plotSBLfemale.info() "
   ]
  },
  {
   "cell_type": "code",
   "execution_count": 37,
   "metadata": {},
   "outputs": [
    {
     "name": "stdout",
     "output_type": "stream",
     "text": [
      "Ended:  2021-03-04 15:23:54.506759\n"
     ]
    }
   ],
   "source": [
    "end = datetime.now()\n",
    "print(\"Ended: \", end)"
   ]
  },
  {
   "cell_type": "code",
   "execution_count": 38,
   "metadata": {},
   "outputs": [],
   "source": [
    "dfmerge = pd.merge(plotSBLfemale, mergeSKBLWD,how='outer', on='WikidataID',indicator=True)"
   ]
  },
  {
   "cell_type": "code",
   "execution_count": 39,
   "metadata": {},
   "outputs": [],
   "source": [
    "#dfmerge.info()"
   ]
  },
  {
   "cell_type": "code",
   "execution_count": 40,
   "metadata": {},
   "outputs": [
    {
     "data": {
      "text/plain": [
       "right_only    1581\n",
       "both           376\n",
       "left_only      151\n",
       "Name: _merge, dtype: int64"
      ]
     },
     "execution_count": 40,
     "metadata": {},
     "output_type": "execute_result"
    }
   ],
   "source": [
    "dfmerge[\"_merge\"].value_counts()"
   ]
  },
  {
   "cell_type": "code",
   "execution_count": 41,
   "metadata": {},
   "outputs": [],
   "source": [
    "# both is number in bioth SBL and SKBL   \n",
    "# right_only is SBL\n",
    "# left_only is SKBL"
   ]
  },
  {
   "cell_type": "code",
   "execution_count": 42,
   "metadata": {},
   "outputs": [],
   "source": [
    "dfmerge['_merge'] = dfmerge['_merge'].str.replace('left_only','SBL_only').str.replace('right_only','SKBL_only')\n",
    "dfmerge.rename(columns={\"_merge\": \"SBL_SKBL\"},inplace = True)\n",
    "\n",
    "#dfmerge[0:10]  \n"
   ]
  },
  {
   "cell_type": "code",
   "execution_count": 43,
   "metadata": {},
   "outputs": [
    {
     "name": "stdout",
     "output_type": "stream",
     "text": [
      "<class 'pandas.core.frame.DataFrame'>\n",
      "Int64Index: 2108 entries, 0 to 2107\n",
      "Data columns (total 5 columns):\n",
      " #   Column         Non-Null Count  Dtype         \n",
      "---  ------         --------------  -----         \n",
      " 0   WikidataID     2053 non-null   object        \n",
      " 1   sblid          527 non-null    object        \n",
      " 2   skblid_x       376 non-null    object        \n",
      " 3   publishedDate  1956 non-null   datetime64[ns]\n",
      " 4   SBL_SKBL       2108 non-null   object        \n",
      "dtypes: datetime64[ns](1), object(4)\n",
      "memory usage: 98.8+ KB\n"
     ]
    }
   ],
   "source": [
    "mergeCheck = dfmerge[['WikidataID', 'sblid','skblid_x','publishedDate','SBL_SKBL']] \n",
    "mergeCheck.info() "
   ]
  },
  {
   "cell_type": "code",
   "execution_count": 44,
   "metadata": {},
   "outputs": [
    {
     "data": {
      "image/png": "[encoded data removed]",
      "text/plain": [
       "<Figure size 432x288 with 1 Axes>"
      ]
     },
     "metadata": {},
     "output_type": "display_data"
    }
   ],
   "source": [
    "mergeCheckNumber = mergeCheck[\"SBL_SKBL\"].value_counts()\n",
    "mergeCheckNumber.plot( kind = 'pie')  \n",
    "plot = mergeCheckNumber.plot.pie( \\\n",
    "                   autopct='%1.0f%%', \\\n",
    "                   shadow=True, startangle=0)\n",
    "plt.title(\"Wikidata statistics SBL vs SKBL female articles \" + start_time.strftime('%Y %m %d'))\n",
    "plt.savefig('SKBLSBLfemale.png')\n",
    "plt.show()\n"
   ]
  },
  {
   "cell_type": "code",
   "execution_count": 45,
   "metadata": {},
   "outputs": [
    {
     "data": {
      "text/plain": [
       "SKBL_only    1581\n",
       "both          376\n",
       "SBL_only      151\n",
       "Name: SBL_SKBL, dtype: int64"
      ]
     },
     "execution_count": 45,
     "metadata": {},
     "output_type": "execute_result"
    }
   ],
   "source": [
    "mergeCheckNumber"
   ]
  },
  {
   "cell_type": "code",
   "execution_count": 46,
   "metadata": {},
   "outputs": [],
   "source": [
    "#Profiles missing in SKBL that SBL has written = left_only \n",
    "WDSBLonly = mergeCheck[mergeCheck[\"SBL_SKBL\"] == \"SBL_only\"].copy() "
   ]
  },
  {
   "cell_type": "code",
   "execution_count": 47,
   "metadata": {},
   "outputs": [
    {
     "name": "stdout",
     "output_type": "stream",
     "text": [
      "<class 'pandas.core.frame.DataFrame'>\n",
      "Int64Index: 151 entries, 7 to 523\n",
      "Data columns (total 5 columns):\n",
      " #   Column         Non-Null Count  Dtype         \n",
      "---  ------         --------------  -----         \n",
      " 0   WikidataID     151 non-null    object        \n",
      " 1   sblid          151 non-null    object        \n",
      " 2   skblid_x       0 non-null      object        \n",
      " 3   publishedDate  0 non-null      datetime64[ns]\n",
      " 4   SBL_SKBL       151 non-null    object        \n",
      "dtypes: datetime64[ns](1), object(4)\n",
      "memory usage: 7.1+ KB\n"
     ]
    }
   ],
   "source": [
    "WDSBLonly.info()"
   ]
  },
  {
   "cell_type": "code",
   "execution_count": 48,
   "metadata": {},
   "outputs": [
    {
     "data": {
      "text/html": [
       "<table border=\"1\" class=\"dataframe\">\n",
       "  <thead>\n",
       "    <tr style=\"text-align: right;\">\n",
       "      <th></th>\n",
       "      <th>Wikidata</th>\n",
       "      <th>sblid</th>\n",
       "      <th>WikidataID</th>\n",
       "      <th>sbl</th>\n",
       "    </tr>\n",
       "  </thead>\n",
       "  <tbody>\n",
       "    <tr>\n",
       "      <th>486</th>\n",
       "      <td><a href='https://www.wikidata.org/wiki/Q262305'>Wikidata</a></td>\n",
       "      <td>9095</td>\n",
       "      <td>Q262305</td>\n",
       "      <td><a href='https://sok.riksarkivet.se/Sbl/Presentation.aspx?id=9095'>SBL web</a></td>\n",
       "    </tr>\n",
       "    <tr>\n",
       "      <th>487</th>\n",
       "      <td><a href='https://www.wikidata.org/wiki/Q1991150'>Wikidata</a></td>\n",
       "      <td>9096</td>\n",
       "      <td>Q1991150</td>\n",
       "      <td><a href='https://sok.riksarkivet.se/Sbl/Presentation.aspx?id=9096'>SBL web</a></td>\n",
       "    </tr>\n",
       "    <tr>\n",
       "      <th>492</th>\n",
       "      <td><a href='https://www.wikidata.org/wiki/Q4965627'>Wikidata</a></td>\n",
       "      <td>9101</td>\n",
       "      <td>Q4965627</td>\n",
       "      <td><a href='https://sok.riksarkivet.se/Sbl/Presentation.aspx?id=9101'>SBL web</a></td>\n",
       "    </tr>\n",
       "    <tr>\n",
       "      <th>493</th>\n",
       "      <td><a href='https://www.wikidata.org/wiki/Q622833'>Wikidata</a></td>\n",
       "      <td>9103</td>\n",
       "      <td>Q622833</td>\n",
       "      <td><a href='https://sok.riksarkivet.se/Sbl/Presentation.aspx?id=9103'>SBL web</a></td>\n",
       "    </tr>\n",
       "    <tr>\n",
       "      <th>494</th>\n",
       "      <td><a href='https://www.wikidata.org/wiki/Q61475'>Wikidata</a></td>\n",
       "      <td>9105</td>\n",
       "      <td>Q61475</td>\n",
       "      <td><a href='https://sok.riksarkivet.se/Sbl/Presentation.aspx?id=9105'>SBL web</a></td>\n",
       "    </tr>\n",
       "    <tr>\n",
       "      <th>495</th>\n",
       "      <td><a href='https://www.wikidata.org/wiki/Q233319'>Wikidata</a></td>\n",
       "      <td>9106</td>\n",
       "      <td>Q233319</td>\n",
       "      <td><a href='https://sok.riksarkivet.se/Sbl/Presentation.aspx?id=9106'>SBL web</a></td>\n",
       "    </tr>\n",
       "    <tr>\n",
       "      <th>496</th>\n",
       "      <td><a href='https://www.wikidata.org/wiki/Q3847259'>Wikidata</a></td>\n",
       "      <td>9107</td>\n",
       "      <td>Q3847259</td>\n",
       "      <td><a href='https://sok.riksarkivet.se/Sbl/Presentation.aspx?id=9107'>SBL web</a></td>\n",
       "    </tr>\n",
       "    <tr>\n",
       "      <th>497</th>\n",
       "      <td><a href='https://www.wikidata.org/wiki/Q235438'>Wikidata</a></td>\n",
       "      <td>9109</td>\n",
       "      <td>Q235438</td>\n",
       "      <td><a href='https://sok.riksarkivet.se/Sbl/Presentation.aspx?id=9109'>SBL web</a></td>\n",
       "    </tr>\n",
       "    <tr>\n",
       "      <th>499</th>\n",
       "      <td><a href='https://www.wikidata.org/wiki/Q4966895'>Wikidata</a></td>\n",
       "      <td>9243</td>\n",
       "      <td>Q4966895</td>\n",
       "      <td><a href='https://sok.riksarkivet.se/Sbl/Presentation.aspx?id=9243'>SBL web</a></td>\n",
       "    </tr>\n",
       "    <tr>\n",
       "      <th>501</th>\n",
       "      <td><a href='https://www.wikidata.org/wiki/Q3307503'>Wikidata</a></td>\n",
       "      <td>9294</td>\n",
       "      <td>Q3307503</td>\n",
       "      <td><a href='https://sok.riksarkivet.se/Sbl/Presentation.aspx?id=9294'>SBL web</a></td>\n",
       "    </tr>\n",
       "    <tr>\n",
       "      <th>502</th>\n",
       "      <td><a href='https://www.wikidata.org/wiki/Q16595847'>Wikidata</a></td>\n",
       "      <td>9334</td>\n",
       "      <td>Q16595847</td>\n",
       "      <td><a href='https://sok.riksarkivet.se/Sbl/Presentation.aspx?id=9334'>SBL web</a></td>\n",
       "    </tr>\n",
       "    <tr>\n",
       "      <th>506</th>\n",
       "      <td><a href='https://www.wikidata.org/wiki/Q13534119'>Wikidata</a></td>\n",
       "      <td>9352</td>\n",
       "      <td>Q13534119</td>\n",
       "      <td><a href='https://sok.riksarkivet.se/Sbl/Presentation.aspx?id=9352'>SBL web</a></td>\n",
       "    </tr>\n",
       "    <tr>\n",
       "      <th>508</th>\n",
       "      <td><a href='https://www.wikidata.org/wiki/Q4967436'>Wikidata</a></td>\n",
       "      <td>9360</td>\n",
       "      <td>Q4967436</td>\n",
       "      <td><a href='https://sok.riksarkivet.se/Sbl/Presentation.aspx?id=9360'>SBL web</a></td>\n",
       "    </tr>\n",
       "    <tr>\n",
       "      <th>517</th>\n",
       "      <td><a href='https://www.wikidata.org/wiki/Q232402'>Wikidata</a></td>\n",
       "      <td>9718</td>\n",
       "      <td>Q232402</td>\n",
       "      <td><a href='https://sok.riksarkivet.se/Sbl/Presentation.aspx?id=9718'>SBL web</a></td>\n",
       "    </tr>\n",
       "    <tr>\n",
       "      <th>523</th>\n",
       "      <td><a href='https://www.wikidata.org/wiki/Q16602175'>Wikidata</a></td>\n",
       "      <td>9853</td>\n",
       "      <td>Q16602175</td>\n",
       "      <td><a href='https://sok.riksarkivet.se/Sbl/Presentation.aspx?id=9853'>SBL web</a></td>\n",
       "    </tr>\n",
       "  </tbody>\n",
       "</table>"
      ],
      "text/plain": [
       "<IPython.core.display.HTML object>"
      ]
     },
     "execution_count": 48,
     "metadata": {},
     "output_type": "execute_result"
    }
   ],
   "source": [
    "WDSBLonly[\"sbl\"] = \"<a href='https://sok.riksarkivet.se/Sbl/Presentation.aspx?id=\" + WDSBLonly['sblid'].astype(str) + \"'>SBL web</a>\"\n",
    "WDSBLonly[\"Wikidata\"] = \"<a href='https://www.wikidata.org/wiki/\" + WDSBLonly['WikidataID'].astype(str) + \"'>Wikidata</a>\"\n",
    "\n",
    "pd.set_option('column_space', 20)\n",
    "pd.set_option('max_colwidth', 300)\n",
    "#List new SKBL articles not in Wikidata\n",
    "pd.set_option(\"display.max.columns\", None) \n",
    "HTML(WDSBLonly[{'WikidataID','Wikidata','sblid','sbl'}].tail(15).to_html(escape=False))"
   ]
  },
  {
   "cell_type": "markdown",
   "metadata": {},
   "source": [
    "### Same query in Wikidata \n",
    "* Find all women [in SBL but not in SKBL](https://w.wiki/bFw) < 190 women\n",
    "* Find all women [in SBL but not in SKBL and have an en:Wikipedia article](https://w.wiki/bFy) = 123 \n",
    "### Wikipedia articles linking SKBL \n",
    "* sv:Wikipedia [usage template Authority](https://sv.wikipedia.org/wiki/Kategori:Wikipediaartiklar_med_identifierare_fr%C3%A5n_SKBL) > 1460\n",
    "  * **[Issue 23](https://github.com/spraakbanken/skbl-portal/issues/23)** SKBL has no date when the article is  translated maybe bad \"workaround\" is check tag **text_eng** that is missing in a non translated article as [JosephineGabrielleMarcelleMeunierSainteClaire.json](https://skbl.se/sv/artikel/JosephineGabrielleMarcelleMeunierSainteClaire.json) compare translated [article](https://skbl.se/sv/artikel/JennyLind.json) and then check that all articles with **text_eng** has [template SBL](https://en.wikipedia.org/wiki/Category:SKBL_template_using_Wikidata_property_P4963)\n",
    "* en:Wikipedia [usage template SKBL](https://en.wikipedia.org/wiki/Category:SKBL_template_using_Wikidata_property_P4963) > 686 articles\n",
    "\n",
    "### Lists related to SKBL\n",
    "* en:Wikipedia [Women in Red SKBL](https://en.wikipedia.org/wiki/Wikipedia:WikiProject_Women_in_Red/Missing_articles_by_dictionary/BDSW) list with articles \"missing\" in en:Wikipedia but in SKBL\n",
    "* sv:Wikipedia [articles missing](https://w.wiki/Zun) but in SKBL\n"
   ]
  },
  {
   "cell_type": "code",
   "execution_count": 49,
   "metadata": {},
   "outputs": [
    {
     "name": "stdout",
     "output_type": "stream",
     "text": [
      "<class 'pandas.core.frame.DataFrame'>\n",
      "Int64Index: 151 entries, 7 to 523\n",
      "Data columns (total 7 columns):\n",
      " #   Column         Non-Null Count  Dtype         \n",
      "---  ------         --------------  -----         \n",
      " 0   WikidataID     151 non-null    object        \n",
      " 1   sblid          151 non-null    object        \n",
      " 2   skblid_x       0 non-null      object        \n",
      " 3   publishedDate  0 non-null      datetime64[ns]\n",
      " 4   SBL_SKBL       151 non-null    object        \n",
      " 5   sbl            151 non-null    object        \n",
      " 6   Wikidata       151 non-null    object        \n",
      "dtypes: datetime64[ns](1), object(6)\n",
      "memory usage: 9.4+ KB\n"
     ]
    }
   ],
   "source": [
    "WDSBLonly.info()"
   ]
  },
  {
   "cell_type": "code",
   "execution_count": 50,
   "metadata": {},
   "outputs": [
    {
     "data": {
      "text/plain": [
       "SKBL_only    1581\n",
       "both          376\n",
       "SBL_only      151\n",
       "Name: SBL_SKBL, dtype: int64"
      ]
     },
     "execution_count": 50,
     "metadata": {},
     "output_type": "execute_result"
    }
   ],
   "source": [
    "dfmerge[\"SBL_SKBL\"].value_counts()"
   ]
  },
  {
   "cell_type": "code",
   "execution_count": 51,
   "metadata": {},
   "outputs": [
    {
     "data": {
      "text/plain": [
       "both         1901\n",
       "SKBL_only      55\n",
       "WD_only         1\n",
       "Name: WD_SKBL, dtype: int64"
      ]
     },
     "execution_count": 51,
     "metadata": {},
     "output_type": "execute_result"
    }
   ],
   "source": [
    "mergeSKBLWD[\"WD_SKBL\"].value_counts() "
   ]
  },
  {
   "cell_type": "code",
   "execution_count": 52,
   "metadata": {},
   "outputs": [],
   "source": [
    "#List new SKBL articles not in Wikidata\n",
    "mergeSKBLWD_WDOnly = mergeSKBLWD[mergeSKBLWD[\"WD_SKBL\"] == \"SKBL_only\"].copy() \n",
    "mergeSKBLWD_WDOnly[\"linkjson\"] = \"<a href='https://www.skbl.se/sv/artikel/\" + mergeSKBLWD_WDOnly[\"skblid\"].astype(str) + \".json'>json</a>\"\n",
    "mergeSKBLWD_WDOnly[\"linkhtml\"] = \"<a href='https://www.skbl.se/sv/artikel/\" + mergeSKBLWD_WDOnly[\"skblid\"].astype(str) + \"'>html</a>\"\n",
    "mergeSKBLWD_WDOnly[\"newWdref\"] = \"<a href='https://quickstatements.toolforge.org/#/v1=WDOBJEKT%7CP1343%7CQ50395049%7CP407%7CQ9027%7CP407%7CQ1860%7CS4963%7C%22\" + \\\n",
    "                                  mergeSKBLWD_WDOnly[\"skblid\"].astype(str) + \"%22'>QS</a>\"\n",
    "#                                  \"%7CP1343%7C\" + mergeSKBLWD_WDOnly[\"skblid\"].astype(str) +  \"%22'>QS</a>\"\n",
    "                                  \n",
    "pd.set_option(\"display.max.columns\", None) \n"
   ]
  },
  {
   "cell_type": "code",
   "execution_count": 53,
   "metadata": {},
   "outputs": [
    {
     "data": {
      "text/html": [
       "<div>\n",
       "<style scoped>\n",
       "    .dataframe tbody tr th:only-of-type {\n",
       "        vertical-align: middle;\n",
       "    }\n",
       "\n",
       "    .dataframe tbody tr th {\n",
       "        vertical-align: top;\n",
       "    }\n",
       "\n",
       "    .dataframe thead th {\n",
       "        text-align: right;\n",
       "    }\n",
       "</style>\n",
       "<table border=\"1\" class=\"dataframe\">\n",
       "  <thead>\n",
       "    <tr style=\"text-align: right;\">\n",
       "      <th></th>\n",
       "      <th>WikidataID</th>\n",
       "      <th>skblid</th>\n",
       "      <th>en</th>\n",
       "      <th>sv</th>\n",
       "      <th>Source_x</th>\n",
       "      <th>publishedDate</th>\n",
       "      <th>article_author_firstname</th>\n",
       "      <th>article_author_lastname</th>\n",
       "      <th>subtitle_sv</th>\n",
       "      <th>name_lastname</th>\n",
       "      <th>name_firstname</th>\n",
       "      <th>born</th>\n",
       "      <th>death</th>\n",
       "      <th>internal_comment</th>\n",
       "      <th>Source_y</th>\n",
       "      <th>Author</th>\n",
       "      <th>Link</th>\n",
       "      <th>Linkjson</th>\n",
       "      <th>WD_SKBL</th>\n",
       "      <th>Wikidata</th>\n",
       "      <th>svWikipedia</th>\n",
       "      <th>linkjson</th>\n",
       "      <th>linkhtml</th>\n",
       "      <th>newWdref</th>\n",
       "    </tr>\n",
       "  </thead>\n",
       "  <tbody>\n",
       "    <tr>\n",
       "      <th>53</th>\n",
       "      <td>NaN</td>\n",
       "      <td>EstherRoeckHansen</td>\n",
       "      <td>NaN</td>\n",
       "      <td>NaN</td>\n",
       "      <td>NaN</td>\n",
       "      <td>2021-02-19</td>\n",
       "      <td>Jennifer</td>\n",
       "      <td>Vintkvist</td>\n",
       "      <td>Skådespelare</td>\n",
       "      <td>Roeck-Hansen</td>\n",
       "      <td>Ester (/Esther/) Linéa</td>\n",
       "      <td>1897-08-12</td>\n",
       "      <td>1987-06-14</td>\n",
       "      <td>Saknar ISNI; LÅ;</td>\n",
       "      <td>SKBL</td>\n",
       "      <td>Jennifer Vintkvist</td>\n",
       "      <td>&lt;a href='https://skbl.se/sv/artikel/EstherRoeckHansen'&gt;SKBL web&lt;/a&gt;</td>\n",
       "      <td>&lt;a href='https://skbl.se/sv/artikel/EstherRoeckHansen.json'&gt;SKBL Json&lt;/a&gt;</td>\n",
       "      <td>SKBL_only</td>\n",
       "      <td>&lt;a href='https://www.wikidata.org/wiki/nan'&gt;Wikidata&lt;/a&gt;</td>\n",
       "      <td>&lt;a href='https://www.wikidata.org/wiki/Special:GoToLinkedPage/svwiki/nan'&gt;svWiki&lt;/a&gt;</td>\n",
       "      <td>&lt;a href='https://www.skbl.se/sv/artikel/EstherRoeckHansen.json'&gt;json&lt;/a&gt;</td>\n",
       "      <td>&lt;a href='https://www.skbl.se/sv/artikel/EstherRoeckHansen'&gt;html&lt;/a&gt;</td>\n",
       "      <td>&lt;a href='https://quickstatements.toolforge.org/#/v1=WDOBJEKT%7CP1343%7CQ50395049%7CP407%7CQ9027%7CP407%7CQ1860%7CS4963%7C%22EstherRoeckHansen%22'&gt;QS&lt;/a&gt;</td>\n",
       "    </tr>\n",
       "  </tbody>\n",
       "</table>\n",
       "</div>"
      ],
      "text/plain": [
       "   WikidataID             skblid   en   sv Source_x publishedDate  \\\n",
       "53        NaN  EstherRoeckHansen  NaN  NaN      NaN    2021-02-19   \n",
       "\n",
       "   article_author_firstname article_author_lastname   subtitle_sv  \\\n",
       "53                 Jennifer               Vintkvist  Skådespelare   \n",
       "\n",
       "   name_lastname          name_firstname        born       death  \\\n",
       "53  Roeck-Hansen  Ester (/Esther/) Linéa  1897-08-12  1987-06-14   \n",
       "\n",
       "    internal_comment Source_y              Author  \\\n",
       "53  Saknar ISNI; LÅ;     SKBL  Jennifer Vintkvist   \n",
       "\n",
       "                                                                   Link  \\\n",
       "53  <a href='https://skbl.se/sv/artikel/EstherRoeckHansen'>SKBL web</a>   \n",
       "\n",
       "                                                                     Linkjson  \\\n",
       "53  <a href='https://skbl.se/sv/artikel/EstherRoeckHansen.json'>SKBL Json</a>   \n",
       "\n",
       "      WD_SKBL                                                  Wikidata  \\\n",
       "53  SKBL_only  <a href='https://www.wikidata.org/wiki/nan'>Wikidata</a>   \n",
       "\n",
       "                                                                             svWikipedia  \\\n",
       "53  <a href='https://www.wikidata.org/wiki/Special:GoToLinkedPage/svwiki/nan'>svWiki</a>   \n",
       "\n",
       "                                                                    linkjson  \\\n",
       "53  <a href='https://www.skbl.se/sv/artikel/EstherRoeckHansen.json'>json</a>   \n",
       "\n",
       "                                                               linkhtml  \\\n",
       "53  <a href='https://www.skbl.se/sv/artikel/EstherRoeckHansen'>html</a>   \n",
       "\n",
       "                                                                                                                                                    newWdref  \n",
       "53  <a href='https://quickstatements.toolforge.org/#/v1=WDOBJEKT%7CP1343%7CQ50395049%7CP407%7CQ9027%7CP407%7CQ1860%7CS4963%7C%22EstherRoeckHansen%22'>QS</a>  "
      ]
     },
     "execution_count": 53,
     "metadata": {},
     "output_type": "execute_result"
    }
   ],
   "source": [
    "mergeSKBLWD_WDOnly.sample()"
   ]
  },
  {
   "cell_type": "markdown",
   "metadata": {},
   "source": [
    "## New SKBL records\n",
    "missing in Wikidata"
   ]
  },
  {
   "cell_type": "code",
   "execution_count": 54,
   "metadata": {},
   "outputs": [
    {
     "data": {
      "text/plain": [
       "(55, 24)"
      ]
     },
     "execution_count": 54,
     "metadata": {},
     "output_type": "execute_result"
    }
   ],
   "source": [
    "mergeSKBLWD_WDOnly.shape"
   ]
  },
  {
   "cell_type": "code",
   "execution_count": 55,
   "metadata": {},
   "outputs": [
    {
     "data": {
      "text/html": [
       "<table border=\"1\" class=\"dataframe\">\n",
       "  <thead>\n",
       "    <tr style=\"text-align: right;\">\n",
       "      <th></th>\n",
       "      <th>publishedDate</th>\n",
       "      <th>WikidataID</th>\n",
       "      <th>skblid</th>\n",
       "      <th>newWdref</th>\n",
       "      <th>linkhtml</th>\n",
       "      <th>linkjson</th>\n",
       "    </tr>\n",
       "  </thead>\n",
       "  <tbody>\n",
       "    <tr>\n",
       "      <th>0</th>\n",
       "      <td>2021-03-04</td>\n",
       "      <td>NaN</td>\n",
       "      <td>BritaSkotsner</td>\n",
       "      <td><a href='https://quickstatements.toolforge.org/#/v1=WDOBJEKT%7CP1343%7CQ50395049%7CP407%7CQ9027%7CP407%7CQ1860%7CS4963%7C%22BritaSkotsner%22'>QS</a></td>\n",
       "      <td><a href='https://www.skbl.se/sv/artikel/BritaSkotsner'>html</a></td>\n",
       "      <td><a href='https://www.skbl.se/sv/artikel/BritaSkotsner.json'>json</a></td>\n",
       "    </tr>\n",
       "    <tr>\n",
       "      <th>1</th>\n",
       "      <td>2021-03-04</td>\n",
       "      <td>NaN</td>\n",
       "      <td>TillieAnderson</td>\n",
       "      <td><a href='https://quickstatements.toolforge.org/#/v1=WDOBJEKT%7CP1343%7CQ50395049%7CP407%7CQ9027%7CP407%7CQ1860%7CS4963%7C%22TillieAnderson%22'>QS</a></td>\n",
       "      <td><a href='https://www.skbl.se/sv/artikel/TillieAnderson'>html</a></td>\n",
       "      <td><a href='https://www.skbl.se/sv/artikel/TillieAnderson.json'>json</a></td>\n",
       "    </tr>\n",
       "    <tr>\n",
       "      <th>2</th>\n",
       "      <td>2021-03-04</td>\n",
       "      <td>NaN</td>\n",
       "      <td>MarieLouiseBachman</td>\n",
       "      <td><a href='https://quickstatements.toolforge.org/#/v1=WDOBJEKT%7CP1343%7CQ50395049%7CP407%7CQ9027%7CP407%7CQ1860%7CS4963%7C%22MarieLouiseBachman%22'>QS</a></td>\n",
       "      <td><a href='https://www.skbl.se/sv/artikel/MarieLouiseBachman'>html</a></td>\n",
       "      <td><a href='https://www.skbl.se/sv/artikel/MarieLouiseBachman.json'>json</a></td>\n",
       "    </tr>\n",
       "    <tr>\n",
       "      <th>3</th>\n",
       "      <td>2021-03-04</td>\n",
       "      <td>NaN</td>\n",
       "      <td>BeataBergstrom</td>\n",
       "      <td><a href='https://quickstatements.toolforge.org/#/v1=WDOBJEKT%7CP1343%7CQ50395049%7CP407%7CQ9027%7CP407%7CQ1860%7CS4963%7C%22BeataBergstrom%22'>QS</a></td>\n",
       "      <td><a href='https://www.skbl.se/sv/artikel/BeataBergstrom'>html</a></td>\n",
       "      <td><a href='https://www.skbl.se/sv/artikel/BeataBergstrom.json'>json</a></td>\n",
       "    </tr>\n",
       "    <tr>\n",
       "      <th>4</th>\n",
       "      <td>2021-03-04</td>\n",
       "      <td>NaN</td>\n",
       "      <td>IngerRudberg0</td>\n",
       "      <td><a href='https://quickstatements.toolforge.org/#/v1=WDOBJEKT%7CP1343%7CQ50395049%7CP407%7CQ9027%7CP407%7CQ1860%7CS4963%7C%22IngerRudberg0%22'>QS</a></td>\n",
       "      <td><a href='https://www.skbl.se/sv/artikel/IngerRudberg0'>html</a></td>\n",
       "      <td><a href='https://www.skbl.se/sv/artikel/IngerRudberg0.json'>json</a></td>\n",
       "    </tr>\n",
       "    <tr>\n",
       "      <th>5</th>\n",
       "      <td>2021-03-03</td>\n",
       "      <td>NaN</td>\n",
       "      <td>ChristinaCatharinaLarsdotter</td>\n",
       "      <td><a href='https://quickstatements.toolforge.org/#/v1=WDOBJEKT%7CP1343%7CQ50395049%7CP407%7CQ9027%7CP407%7CQ1860%7CS4963%7C%22ChristinaCatharinaLarsdotter%22'>QS</a></td>\n",
       "      <td><a href='https://www.skbl.se/sv/artikel/ChristinaCatharinaLarsdotter'>html</a></td>\n",
       "      <td><a href='https://www.skbl.se/sv/artikel/ChristinaCatharinaLarsdotter.json'>json</a></td>\n",
       "    </tr>\n",
       "    <tr>\n",
       "      <th>6</th>\n",
       "      <td>2021-03-03</td>\n",
       "      <td>NaN</td>\n",
       "      <td>MariaMarySofiaAnderson</td>\n",
       "      <td><a href='https://quickstatements.toolforge.org/#/v1=WDOBJEKT%7CP1343%7CQ50395049%7CP407%7CQ9027%7CP407%7CQ1860%7CS4963%7C%22MariaMarySofiaAnderson%22'>QS</a></td>\n",
       "      <td><a href='https://www.skbl.se/sv/artikel/MariaMarySofiaAnderson'>html</a></td>\n",
       "      <td><a href='https://www.skbl.se/sv/artikel/MariaMarySofiaAnderson.json'>json</a></td>\n",
       "    </tr>\n",
       "    <tr>\n",
       "      <th>7</th>\n",
       "      <td>2021-03-03</td>\n",
       "      <td>NaN</td>\n",
       "      <td>EllyBertaIsabellaLofstrand</td>\n",
       "      <td><a href='https://quickstatements.toolforge.org/#/v1=WDOBJEKT%7CP1343%7CQ50395049%7CP407%7CQ9027%7CP407%7CQ1860%7CS4963%7C%22EllyBertaIsabellaLofstrand%22'>QS</a></td>\n",
       "      <td><a href='https://www.skbl.se/sv/artikel/EllyBertaIsabellaLofstrand'>html</a></td>\n",
       "      <td><a href='https://www.skbl.se/sv/artikel/EllyBertaIsabellaLofstrand.json'>json</a></td>\n",
       "    </tr>\n",
       "    <tr>\n",
       "      <th>8</th>\n",
       "      <td>2021-03-03</td>\n",
       "      <td>NaN</td>\n",
       "      <td>MirjamFuruhjelm</td>\n",
       "      <td><a href='https://quickstatements.toolforge.org/#/v1=WDOBJEKT%7CP1343%7CQ50395049%7CP407%7CQ9027%7CP407%7CQ1860%7CS4963%7C%22MirjamFuruhjelm%22'>QS</a></td>\n",
       "      <td><a href='https://www.skbl.se/sv/artikel/MirjamFuruhjelm'>html</a></td>\n",
       "      <td><a href='https://www.skbl.se/sv/artikel/MirjamFuruhjelm.json'>json</a></td>\n",
       "    </tr>\n",
       "    <tr>\n",
       "      <th>9</th>\n",
       "      <td>2021-03-02</td>\n",
       "      <td>NaN</td>\n",
       "      <td>IngridYlvaBirgittaKallstromEklund</td>\n",
       "      <td><a href='https://quickstatements.toolforge.org/#/v1=WDOBJEKT%7CP1343%7CQ50395049%7CP407%7CQ9027%7CP407%7CQ1860%7CS4963%7C%22IngridYlvaBirgittaKallstromEklund%22'>QS</a></td>\n",
       "      <td><a href='https://www.skbl.se/sv/artikel/IngridYlvaBirgittaKallstromEklund'>html</a></td>\n",
       "      <td><a href='https://www.skbl.se/sv/artikel/IngridYlvaBirgittaKallstromEklund.json'>json</a></td>\n",
       "    </tr>\n",
       "    <tr>\n",
       "      <th>10</th>\n",
       "      <td>2021-03-02</td>\n",
       "      <td>NaN</td>\n",
       "      <td>LillemorIngeborgAinaSophieConstanceMannerheim</td>\n",
       "      <td><a href='https://quickstatements.toolforge.org/#/v1=WDOBJEKT%7CP1343%7CQ50395049%7CP407%7CQ9027%7CP407%7CQ1860%7CS4963%7C%22LillemorIngeborgAinaSophieConstanceMannerheim%22'>QS</a></td>\n",
       "      <td><a href='https://www.skbl.se/sv/artikel/LillemorIngeborgAinaSophieConstanceMannerheim'>html</a></td>\n",
       "      <td><a href='https://www.skbl.se/sv/artikel/LillemorIngeborgAinaSophieConstanceMannerheim.json'>json</a></td>\n",
       "    </tr>\n",
       "    <tr>\n",
       "      <th>11</th>\n",
       "      <td>2021-03-01</td>\n",
       "      <td>NaN</td>\n",
       "      <td>BirgittaPalme0</td>\n",
       "      <td><a href='https://quickstatements.toolforge.org/#/v1=WDOBJEKT%7CP1343%7CQ50395049%7CP407%7CQ9027%7CP407%7CQ1860%7CS4963%7C%22BirgittaPalme0%22'>QS</a></td>\n",
       "      <td><a href='https://www.skbl.se/sv/artikel/BirgittaPalme0'>html</a></td>\n",
       "      <td><a href='https://www.skbl.se/sv/artikel/BirgittaPalme0.json'>json</a></td>\n",
       "    </tr>\n",
       "    <tr>\n",
       "      <th>12</th>\n",
       "      <td>2021-03-01</td>\n",
       "      <td>NaN</td>\n",
       "      <td>BedaWennerqvist0</td>\n",
       "      <td><a href='https://quickstatements.toolforge.org/#/v1=WDOBJEKT%7CP1343%7CQ50395049%7CP407%7CQ9027%7CP407%7CQ1860%7CS4963%7C%22BedaWennerqvist0%22'>QS</a></td>\n",
       "      <td><a href='https://www.skbl.se/sv/artikel/BedaWennerqvist0'>html</a></td>\n",
       "      <td><a href='https://www.skbl.se/sv/artikel/BedaWennerqvist0.json'>json</a></td>\n",
       "    </tr>\n",
       "    <tr>\n",
       "      <th>13</th>\n",
       "      <td>2021-02-28</td>\n",
       "      <td>NaN</td>\n",
       "      <td>AgnesViktoriaElinHansson</td>\n",
       "      <td><a href='https://quickstatements.toolforge.org/#/v1=WDOBJEKT%7CP1343%7CQ50395049%7CP407%7CQ9027%7CP407%7CQ1860%7CS4963%7C%22AgnesViktoriaElinHansson%22'>QS</a></td>\n",
       "      <td><a href='https://www.skbl.se/sv/artikel/AgnesViktoriaElinHansson'>html</a></td>\n",
       "      <td><a href='https://www.skbl.se/sv/artikel/AgnesViktoriaElinHansson.json'>json</a></td>\n",
       "    </tr>\n",
       "    <tr>\n",
       "      <th>14</th>\n",
       "      <td>2021-02-28</td>\n",
       "      <td>NaN</td>\n",
       "      <td>KarolinaAlfridaFridaWinnerstrand</td>\n",
       "      <td><a href='https://quickstatements.toolforge.org/#/v1=WDOBJEKT%7CP1343%7CQ50395049%7CP407%7CQ9027%7CP407%7CQ1860%7CS4963%7C%22KarolinaAlfridaFridaWinnerstrand%22'>QS</a></td>\n",
       "      <td><a href='https://www.skbl.se/sv/artikel/KarolinaAlfridaFridaWinnerstrand'>html</a></td>\n",
       "      <td><a href='https://www.skbl.se/sv/artikel/KarolinaAlfridaFridaWinnerstrand.json'>json</a></td>\n",
       "    </tr>\n",
       "    <tr>\n",
       "      <th>15</th>\n",
       "      <td>2021-02-27</td>\n",
       "      <td>NaN</td>\n",
       "      <td>BrittIngegerdMoller</td>\n",
       "      <td><a href='https://quickstatements.toolforge.org/#/v1=WDOBJEKT%7CP1343%7CQ50395049%7CP407%7CQ9027%7CP407%7CQ1860%7CS4963%7C%22BrittIngegerdMoller%22'>QS</a></td>\n",
       "      <td><a href='https://www.skbl.se/sv/artikel/BrittIngegerdMoller'>html</a></td>\n",
       "      <td><a href='https://www.skbl.se/sv/artikel/BrittIngegerdMoller.json'>json</a></td>\n",
       "    </tr>\n",
       "    <tr>\n",
       "      <th>16</th>\n",
       "      <td>2021-02-27</td>\n",
       "      <td>NaN</td>\n",
       "      <td>UllaSonjaSallert</td>\n",
       "      <td><a href='https://quickstatements.toolforge.org/#/v1=WDOBJEKT%7CP1343%7CQ50395049%7CP407%7CQ9027%7CP407%7CQ1860%7CS4963%7C%22UllaSonjaSallert%22'>QS</a></td>\n",
       "      <td><a href='https://www.skbl.se/sv/artikel/UllaSonjaSallert'>html</a></td>\n",
       "      <td><a href='https://www.skbl.se/sv/artikel/UllaSonjaSallert.json'>json</a></td>\n",
       "    </tr>\n",
       "    <tr>\n",
       "      <th>17</th>\n",
       "      <td>2021-02-27</td>\n",
       "      <td>NaN</td>\n",
       "      <td>LinaJonn</td>\n",
       "      <td><a href='https://quickstatements.toolforge.org/#/v1=WDOBJEKT%7CP1343%7CQ50395049%7CP407%7CQ9027%7CP407%7CQ1860%7CS4963%7C%22LinaJonn%22'>QS</a></td>\n",
       "      <td><a href='https://www.skbl.se/sv/artikel/LinaJonn'>html</a></td>\n",
       "      <td><a href='https://www.skbl.se/sv/artikel/LinaJonn.json'>json</a></td>\n",
       "    </tr>\n",
       "    <tr>\n",
       "      <th>18</th>\n",
       "      <td>2021-02-27</td>\n",
       "      <td>NaN</td>\n",
       "      <td>MariaJonn</td>\n",
       "      <td><a href='https://quickstatements.toolforge.org/#/v1=WDOBJEKT%7CP1343%7CQ50395049%7CP407%7CQ9027%7CP407%7CQ1860%7CS4963%7C%22MariaJonn%22'>QS</a></td>\n",
       "      <td><a href='https://www.skbl.se/sv/artikel/MariaJonn'>html</a></td>\n",
       "      <td><a href='https://www.skbl.se/sv/artikel/MariaJonn.json'>json</a></td>\n",
       "    </tr>\n",
       "    <tr>\n",
       "      <th>19</th>\n",
       "      <td>2021-02-27</td>\n",
       "      <td>NaN</td>\n",
       "      <td>ToraAdelheidTeje</td>\n",
       "      <td><a href='https://quickstatements.toolforge.org/#/v1=WDOBJEKT%7CP1343%7CQ50395049%7CP407%7CQ9027%7CP407%7CQ1860%7CS4963%7C%22ToraAdelheidTeje%22'>QS</a></td>\n",
       "      <td><a href='https://www.skbl.se/sv/artikel/ToraAdelheidTeje'>html</a></td>\n",
       "      <td><a href='https://www.skbl.se/sv/artikel/ToraAdelheidTeje.json'>json</a></td>\n",
       "    </tr>\n",
       "    <tr>\n",
       "      <th>20</th>\n",
       "      <td>2021-02-26</td>\n",
       "      <td>NaN</td>\n",
       "      <td>FrancoiseMargueriteJanicon0</td>\n",
       "      <td><a href='https://quickstatements.toolforge.org/#/v1=WDOBJEKT%7CP1343%7CQ50395049%7CP407%7CQ9027%7CP407%7CQ1860%7CS4963%7C%22FrancoiseMargueriteJanicon0%22'>QS</a></td>\n",
       "      <td><a href='https://www.skbl.se/sv/artikel/FrancoiseMargueriteJanicon0'>html</a></td>\n",
       "      <td><a href='https://www.skbl.se/sv/artikel/FrancoiseMargueriteJanicon0.json'>json</a></td>\n",
       "    </tr>\n",
       "    <tr>\n",
       "      <th>21</th>\n",
       "      <td>2021-02-26</td>\n",
       "      <td>NaN</td>\n",
       "      <td>StinaLjunggren</td>\n",
       "      <td><a href='https://quickstatements.toolforge.org/#/v1=WDOBJEKT%7CP1343%7CQ50395049%7CP407%7CQ9027%7CP407%7CQ1860%7CS4963%7C%22StinaLjunggren%22'>QS</a></td>\n",
       "      <td><a href='https://www.skbl.se/sv/artikel/StinaLjunggren'>html</a></td>\n",
       "      <td><a href='https://www.skbl.se/sv/artikel/StinaLjunggren.json'>json</a></td>\n",
       "    </tr>\n",
       "    <tr>\n",
       "      <th>22</th>\n",
       "      <td>2021-02-26</td>\n",
       "      <td>NaN</td>\n",
       "      <td>EvaCeciliaDahlgren</td>\n",
       "      <td><a href='https://quickstatements.toolforge.org/#/v1=WDOBJEKT%7CP1343%7CQ50395049%7CP407%7CQ9027%7CP407%7CQ1860%7CS4963%7C%22EvaCeciliaDahlgren%22'>QS</a></td>\n",
       "      <td><a href='https://www.skbl.se/sv/artikel/EvaCeciliaDahlgren'>html</a></td>\n",
       "      <td><a href='https://www.skbl.se/sv/artikel/EvaCeciliaDahlgren.json'>json</a></td>\n",
       "    </tr>\n",
       "    <tr>\n",
       "      <th>23</th>\n",
       "      <td>2021-02-25</td>\n",
       "      <td>NaN</td>\n",
       "      <td>LeoniaMariaLeonieGeisendorf</td>\n",
       "      <td><a href='https://quickstatements.toolforge.org/#/v1=WDOBJEKT%7CP1343%7CQ50395049%7CP407%7CQ9027%7CP407%7CQ1860%7CS4963%7C%22LeoniaMariaLeonieGeisendorf%22'>QS</a></td>\n",
       "      <td><a href='https://www.skbl.se/sv/artikel/LeoniaMariaLeonieGeisendorf'>html</a></td>\n",
       "      <td><a href='https://www.skbl.se/sv/artikel/LeoniaMariaLeonieGeisendorf.json'>json</a></td>\n",
       "    </tr>\n",
       "    <tr>\n",
       "      <th>24</th>\n",
       "      <td>2021-02-25</td>\n",
       "      <td>NaN</td>\n",
       "      <td>PaulineWestdahl</td>\n",
       "      <td><a href='https://quickstatements.toolforge.org/#/v1=WDOBJEKT%7CP1343%7CQ50395049%7CP407%7CQ9027%7CP407%7CQ1860%7CS4963%7C%22PaulineWestdahl%22'>QS</a></td>\n",
       "      <td><a href='https://www.skbl.se/sv/artikel/PaulineWestdahl'>html</a></td>\n",
       "      <td><a href='https://www.skbl.se/sv/artikel/PaulineWestdahl.json'>json</a></td>\n",
       "    </tr>\n",
       "    <tr>\n",
       "      <th>25</th>\n",
       "      <td>2021-02-25</td>\n",
       "      <td>NaN</td>\n",
       "      <td>DagnyMarianneErikson</td>\n",
       "      <td><a href='https://quickstatements.toolforge.org/#/v1=WDOBJEKT%7CP1343%7CQ50395049%7CP407%7CQ9027%7CP407%7CQ1860%7CS4963%7C%22DagnyMarianneErikson%22'>QS</a></td>\n",
       "      <td><a href='https://www.skbl.se/sv/artikel/DagnyMarianneErikson'>html</a></td>\n",
       "      <td><a href='https://www.skbl.se/sv/artikel/DagnyMarianneErikson.json'>json</a></td>\n",
       "    </tr>\n",
       "    <tr>\n",
       "      <th>26</th>\n",
       "      <td>2021-02-25</td>\n",
       "      <td>NaN</td>\n",
       "      <td>IngridAtterberg</td>\n",
       "      <td><a href='https://quickstatements.toolforge.org/#/v1=WDOBJEKT%7CP1343%7CQ50395049%7CP407%7CQ9027%7CP407%7CQ1860%7CS4963%7C%22IngridAtterberg%22'>QS</a></td>\n",
       "      <td><a href='https://www.skbl.se/sv/artikel/IngridAtterberg'>html</a></td>\n",
       "      <td><a href='https://www.skbl.se/sv/artikel/IngridAtterberg.json'>json</a></td>\n",
       "    </tr>\n",
       "    <tr>\n",
       "      <th>27</th>\n",
       "      <td>2021-02-25</td>\n",
       "      <td>NaN</td>\n",
       "      <td>RagnhildWahlborg0</td>\n",
       "      <td><a href='https://quickstatements.toolforge.org/#/v1=WDOBJEKT%7CP1343%7CQ50395049%7CP407%7CQ9027%7CP407%7CQ1860%7CS4963%7C%22RagnhildWahlborg0%22'>QS</a></td>\n",
       "      <td><a href='https://www.skbl.se/sv/artikel/RagnhildWahlborg0'>html</a></td>\n",
       "      <td><a href='https://www.skbl.se/sv/artikel/RagnhildWahlborg0.json'>json</a></td>\n",
       "    </tr>\n",
       "    <tr>\n",
       "      <th>28</th>\n",
       "      <td>2021-02-24</td>\n",
       "      <td>NaN</td>\n",
       "      <td>AliceErikssonKalla</td>\n",
       "      <td><a href='https://quickstatements.toolforge.org/#/v1=WDOBJEKT%7CP1343%7CQ50395049%7CP407%7CQ9027%7CP407%7CQ1860%7CS4963%7C%22AliceErikssonKalla%22'>QS</a></td>\n",
       "      <td><a href='https://www.skbl.se/sv/artikel/AliceErikssonKalla'>html</a></td>\n",
       "      <td><a href='https://www.skbl.se/sv/artikel/AliceErikssonKalla.json'>json</a></td>\n",
       "    </tr>\n",
       "    <tr>\n",
       "      <th>29</th>\n",
       "      <td>2021-02-24</td>\n",
       "      <td>NaN</td>\n",
       "      <td>AliceJennyEklund</td>\n",
       "      <td><a href='https://quickstatements.toolforge.org/#/v1=WDOBJEKT%7CP1343%7CQ50395049%7CP407%7CQ9027%7CP407%7CQ1860%7CS4963%7C%22AliceJennyEklund%22'>QS</a></td>\n",
       "      <td><a href='https://www.skbl.se/sv/artikel/AliceJennyEklund'>html</a></td>\n",
       "      <td><a href='https://www.skbl.se/sv/artikel/AliceJennyEklund.json'>json</a></td>\n",
       "    </tr>\n",
       "    <tr>\n",
       "      <th>30</th>\n",
       "      <td>2021-02-24</td>\n",
       "      <td>NaN</td>\n",
       "      <td>EmmaMeissner</td>\n",
       "      <td><a href='https://quickstatements.toolforge.org/#/v1=WDOBJEKT%7CP1343%7CQ50395049%7CP407%7CQ9027%7CP407%7CQ1860%7CS4963%7C%22EmmaMeissner%22'>QS</a></td>\n",
       "      <td><a href='https://www.skbl.se/sv/artikel/EmmaMeissner'>html</a></td>\n",
       "      <td><a href='https://www.skbl.se/sv/artikel/EmmaMeissner.json'>json</a></td>\n",
       "    </tr>\n",
       "    <tr>\n",
       "      <th>31</th>\n",
       "      <td>2021-02-24</td>\n",
       "      <td>NaN</td>\n",
       "      <td>BertaPersson</td>\n",
       "      <td><a href='https://quickstatements.toolforge.org/#/v1=WDOBJEKT%7CP1343%7CQ50395049%7CP407%7CQ9027%7CP407%7CQ1860%7CS4963%7C%22BertaPersson%22'>QS</a></td>\n",
       "      <td><a href='https://www.skbl.se/sv/artikel/BertaPersson'>html</a></td>\n",
       "      <td><a href='https://www.skbl.se/sv/artikel/BertaPersson.json'>json</a></td>\n",
       "    </tr>\n",
       "    <tr>\n",
       "      <th>32</th>\n",
       "      <td>2021-02-24</td>\n",
       "      <td>NaN</td>\n",
       "      <td>ReneeLouiseBjorling</td>\n",
       "      <td><a href='https://quickstatements.toolforge.org/#/v1=WDOBJEKT%7CP1343%7CQ50395049%7CP407%7CQ9027%7CP407%7CQ1860%7CS4963%7C%22ReneeLouiseBjorling%22'>QS</a></td>\n",
       "      <td><a href='https://www.skbl.se/sv/artikel/ReneeLouiseBjorling'>html</a></td>\n",
       "      <td><a href='https://www.skbl.se/sv/artikel/ReneeLouiseBjorling.json'>json</a></td>\n",
       "    </tr>\n",
       "    <tr>\n",
       "      <th>33</th>\n",
       "      <td>2021-02-24</td>\n",
       "      <td>NaN</td>\n",
       "      <td>MargitRosengren</td>\n",
       "      <td><a href='https://quickstatements.toolforge.org/#/v1=WDOBJEKT%7CP1343%7CQ50395049%7CP407%7CQ9027%7CP407%7CQ1860%7CS4963%7C%22MargitRosengren%22'>QS</a></td>\n",
       "      <td><a href='https://www.skbl.se/sv/artikel/MargitRosengren'>html</a></td>\n",
       "      <td><a href='https://www.skbl.se/sv/artikel/MargitRosengren.json'>json</a></td>\n",
       "    </tr>\n",
       "    <tr>\n",
       "      <th>34</th>\n",
       "      <td>2021-02-23</td>\n",
       "      <td>NaN</td>\n",
       "      <td>MargaretaNordstrom</td>\n",
       "      <td><a href='https://quickstatements.toolforge.org/#/v1=WDOBJEKT%7CP1343%7CQ50395049%7CP407%7CQ9027%7CP407%7CQ1860%7CS4963%7C%22MargaretaNordstrom%22'>QS</a></td>\n",
       "      <td><a href='https://www.skbl.se/sv/artikel/MargaretaNordstrom'>html</a></td>\n",
       "      <td><a href='https://www.skbl.se/sv/artikel/MargaretaNordstrom.json'>json</a></td>\n",
       "    </tr>\n",
       "    <tr>\n",
       "      <th>35</th>\n",
       "      <td>2021-02-23</td>\n",
       "      <td>NaN</td>\n",
       "      <td>RutEvaStiberg</td>\n",
       "      <td><a href='https://quickstatements.toolforge.org/#/v1=WDOBJEKT%7CP1343%7CQ50395049%7CP407%7CQ9027%7CP407%7CQ1860%7CS4963%7C%22RutEvaStiberg%22'>QS</a></td>\n",
       "      <td><a href='https://www.skbl.se/sv/artikel/RutEvaStiberg'>html</a></td>\n",
       "      <td><a href='https://www.skbl.se/sv/artikel/RutEvaStiberg.json'>json</a></td>\n",
       "    </tr>\n",
       "    <tr>\n",
       "      <th>36</th>\n",
       "      <td>2021-02-23</td>\n",
       "      <td>NaN</td>\n",
       "      <td>OlgaNyblom</td>\n",
       "      <td><a href='https://quickstatements.toolforge.org/#/v1=WDOBJEKT%7CP1343%7CQ50395049%7CP407%7CQ9027%7CP407%7CQ1860%7CS4963%7C%22OlgaNyblom%22'>QS</a></td>\n",
       "      <td><a href='https://www.skbl.se/sv/artikel/OlgaNyblom'>html</a></td>\n",
       "      <td><a href='https://www.skbl.se/sv/artikel/OlgaNyblom.json'>json</a></td>\n",
       "    </tr>\n",
       "    <tr>\n",
       "      <th>37</th>\n",
       "      <td>2021-02-23</td>\n",
       "      <td>NaN</td>\n",
       "      <td>IngridMariaOsvald</td>\n",
       "      <td><a href='https://quickstatements.toolforge.org/#/v1=WDOBJEKT%7CP1343%7CQ50395049%7CP407%7CQ9027%7CP407%7CQ1860%7CS4963%7C%22IngridMariaOsvald%22'>QS</a></td>\n",
       "      <td><a href='https://www.skbl.se/sv/artikel/IngridMariaOsvald'>html</a></td>\n",
       "      <td><a href='https://www.skbl.se/sv/artikel/IngridMariaOsvald.json'>json</a></td>\n",
       "    </tr>\n",
       "    <tr>\n",
       "      <th>38</th>\n",
       "      <td>2021-02-23</td>\n",
       "      <td>NaN</td>\n",
       "      <td>IngeborgThorin</td>\n",
       "      <td><a href='https://quickstatements.toolforge.org/#/v1=WDOBJEKT%7CP1343%7CQ50395049%7CP407%7CQ9027%7CP407%7CQ1860%7CS4963%7C%22IngeborgThorin%22'>QS</a></td>\n",
       "      <td><a href='https://www.skbl.se/sv/artikel/IngeborgThorin'>html</a></td>\n",
       "      <td><a href='https://www.skbl.se/sv/artikel/IngeborgThorin.json'>json</a></td>\n",
       "    </tr>\n",
       "    <tr>\n",
       "      <th>39</th>\n",
       "      <td>2021-02-23</td>\n",
       "      <td>NaN</td>\n",
       "      <td>MaritaLindgrenFridell</td>\n",
       "      <td><a href='https://quickstatements.toolforge.org/#/v1=WDOBJEKT%7CP1343%7CQ50395049%7CP407%7CQ9027%7CP407%7CQ1860%7CS4963%7C%22MaritaLindgrenFridell%22'>QS</a></td>\n",
       "      <td><a href='https://www.skbl.se/sv/artikel/MaritaLindgrenFridell'>html</a></td>\n",
       "      <td><a href='https://www.skbl.se/sv/artikel/MaritaLindgrenFridell.json'>json</a></td>\n",
       "    </tr>\n",
       "    <tr>\n",
       "      <th>40</th>\n",
       "      <td>2021-02-23</td>\n",
       "      <td>NaN</td>\n",
       "      <td>NancyFredrikaAugustaEdberg</td>\n",
       "      <td><a href='https://quickstatements.toolforge.org/#/v1=WDOBJEKT%7CP1343%7CQ50395049%7CP407%7CQ9027%7CP407%7CQ1860%7CS4963%7C%22NancyFredrikaAugustaEdberg%22'>QS</a></td>\n",
       "      <td><a href='https://www.skbl.se/sv/artikel/NancyFredrikaAugustaEdberg'>html</a></td>\n",
       "      <td><a href='https://www.skbl.se/sv/artikel/NancyFredrikaAugustaEdberg.json'>json</a></td>\n",
       "    </tr>\n",
       "    <tr>\n",
       "      <th>41</th>\n",
       "      <td>2021-02-22</td>\n",
       "      <td>NaN</td>\n",
       "      <td>EmmaDagmarStenbeck</td>\n",
       "      <td><a href='https://quickstatements.toolforge.org/#/v1=WDOBJEKT%7CP1343%7CQ50395049%7CP407%7CQ9027%7CP407%7CQ1860%7CS4963%7C%22EmmaDagmarStenbeck%22'>QS</a></td>\n",
       "      <td><a href='https://www.skbl.se/sv/artikel/EmmaDagmarStenbeck'>html</a></td>\n",
       "      <td><a href='https://www.skbl.se/sv/artikel/EmmaDagmarStenbeck.json'>json</a></td>\n",
       "    </tr>\n",
       "    <tr>\n",
       "      <th>42</th>\n",
       "      <td>2021-02-22</td>\n",
       "      <td>NaN</td>\n",
       "      <td>EliseMalmros</td>\n",
       "      <td><a href='https://quickstatements.toolforge.org/#/v1=WDOBJEKT%7CP1343%7CQ50395049%7CP407%7CQ9027%7CP407%7CQ1860%7CS4963%7C%22EliseMalmros%22'>QS</a></td>\n",
       "      <td><a href='https://www.skbl.se/sv/artikel/EliseMalmros'>html</a></td>\n",
       "      <td><a href='https://www.skbl.se/sv/artikel/EliseMalmros.json'>json</a></td>\n",
       "    </tr>\n",
       "    <tr>\n",
       "      <th>43</th>\n",
       "      <td>2021-02-21</td>\n",
       "      <td>NaN</td>\n",
       "      <td>IrmaChristenson</td>\n",
       "      <td><a href='https://quickstatements.toolforge.org/#/v1=WDOBJEKT%7CP1343%7CQ50395049%7CP407%7CQ9027%7CP407%7CQ1860%7CS4963%7C%22IrmaChristenson%22'>QS</a></td>\n",
       "      <td><a href='https://www.skbl.se/sv/artikel/IrmaChristenson'>html</a></td>\n",
       "      <td><a href='https://www.skbl.se/sv/artikel/IrmaChristenson.json'>json</a></td>\n",
       "    </tr>\n",
       "    <tr>\n",
       "      <th>44</th>\n",
       "      <td>2021-02-21</td>\n",
       "      <td>NaN</td>\n",
       "      <td>EllaBilling</td>\n",
       "      <td><a href='https://quickstatements.toolforge.org/#/v1=WDOBJEKT%7CP1343%7CQ50395049%7CP407%7CQ9027%7CP407%7CQ1860%7CS4963%7C%22EllaBilling%22'>QS</a></td>\n",
       "      <td><a href='https://www.skbl.se/sv/artikel/EllaBilling'>html</a></td>\n",
       "      <td><a href='https://www.skbl.se/sv/artikel/EllaBilling.json'>json</a></td>\n",
       "    </tr>\n",
       "    <tr>\n",
       "      <th>45</th>\n",
       "      <td>2021-02-20</td>\n",
       "      <td>NaN</td>\n",
       "      <td>JuliaSvedelius</td>\n",
       "      <td><a href='https://quickstatements.toolforge.org/#/v1=WDOBJEKT%7CP1343%7CQ50395049%7CP407%7CQ9027%7CP407%7CQ1860%7CS4963%7C%22JuliaSvedelius%22'>QS</a></td>\n",
       "      <td><a href='https://www.skbl.se/sv/artikel/JuliaSvedelius'>html</a></td>\n",
       "      <td><a href='https://www.skbl.se/sv/artikel/JuliaSvedelius.json'>json</a></td>\n",
       "    </tr>\n",
       "    <tr>\n",
       "      <th>46</th>\n",
       "      <td>2021-02-20</td>\n",
       "      <td>NaN</td>\n",
       "      <td>SveaJansson</td>\n",
       "      <td><a href='https://quickstatements.toolforge.org/#/v1=WDOBJEKT%7CP1343%7CQ50395049%7CP407%7CQ9027%7CP407%7CQ1860%7CS4963%7C%22SveaJansson%22'>QS</a></td>\n",
       "      <td><a href='https://www.skbl.se/sv/artikel/SveaJansson'>html</a></td>\n",
       "      <td><a href='https://www.skbl.se/sv/artikel/SveaJansson.json'>json</a></td>\n",
       "    </tr>\n",
       "    <tr>\n",
       "      <th>47</th>\n",
       "      <td>2021-02-20</td>\n",
       "      <td>NaN</td>\n",
       "      <td>KerstinBernhard</td>\n",
       "      <td><a href='https://quickstatements.toolforge.org/#/v1=WDOBJEKT%7CP1343%7CQ50395049%7CP407%7CQ9027%7CP407%7CQ1860%7CS4963%7C%22KerstinBernhard%22'>QS</a></td>\n",
       "      <td><a href='https://www.skbl.se/sv/artikel/KerstinBernhard'>html</a></td>\n",
       "      <td><a href='https://www.skbl.se/sv/artikel/KerstinBernhard.json'>json</a></td>\n",
       "    </tr>\n",
       "    <tr>\n",
       "      <th>48</th>\n",
       "      <td>2021-02-20</td>\n",
       "      <td>NaN</td>\n",
       "      <td>AlmaGunillaMariaGullNatorp</td>\n",
       "      <td><a href='https://quickstatements.toolforge.org/#/v1=WDOBJEKT%7CP1343%7CQ50395049%7CP407%7CQ9027%7CP407%7CQ1860%7CS4963%7C%22AlmaGunillaMariaGullNatorp%22'>QS</a></td>\n",
       "      <td><a href='https://www.skbl.se/sv/artikel/AlmaGunillaMariaGullNatorp'>html</a></td>\n",
       "      <td><a href='https://www.skbl.se/sv/artikel/AlmaGunillaMariaGullNatorp.json'>json</a></td>\n",
       "    </tr>\n",
       "    <tr>\n",
       "      <th>49</th>\n",
       "      <td>2021-02-19</td>\n",
       "      <td>NaN</td>\n",
       "      <td>GudrunBrost</td>\n",
       "      <td><a href='https://quickstatements.toolforge.org/#/v1=WDOBJEKT%7CP1343%7CQ50395049%7CP407%7CQ9027%7CP407%7CQ1860%7CS4963%7C%22GudrunBrost%22'>QS</a></td>\n",
       "      <td><a href='https://www.skbl.se/sv/artikel/GudrunBrost'>html</a></td>\n",
       "      <td><a href='https://www.skbl.se/sv/artikel/GudrunBrost.json'>json</a></td>\n",
       "    </tr>\n",
       "    <tr>\n",
       "      <th>50</th>\n",
       "      <td>2021-02-19</td>\n",
       "      <td>NaN</td>\n",
       "      <td>EllenBergman0</td>\n",
       "      <td><a href='https://quickstatements.toolforge.org/#/v1=WDOBJEKT%7CP1343%7CQ50395049%7CP407%7CQ9027%7CP407%7CQ1860%7CS4963%7C%22EllenBergman0%22'>QS</a></td>\n",
       "      <td><a href='https://www.skbl.se/sv/artikel/EllenBergman0'>html</a></td>\n",
       "      <td><a href='https://www.skbl.se/sv/artikel/EllenBergman0.json'>json</a></td>\n",
       "    </tr>\n",
       "    <tr>\n",
       "      <th>52</th>\n",
       "      <td>2021-02-19</td>\n",
       "      <td>NaN</td>\n",
       "      <td>ElisabethChristinavonLinne</td>\n",
       "      <td><a href='https://quickstatements.toolforge.org/#/v1=WDOBJEKT%7CP1343%7CQ50395049%7CP407%7CQ9027%7CP407%7CQ1860%7CS4963%7C%22ElisabethChristinavonLinne%22'>QS</a></td>\n",
       "      <td><a href='https://www.skbl.se/sv/artikel/ElisabethChristinavonLinne'>html</a></td>\n",
       "      <td><a href='https://www.skbl.se/sv/artikel/ElisabethChristinavonLinne.json'>json</a></td>\n",
       "    </tr>\n",
       "    <tr>\n",
       "      <th>53</th>\n",
       "      <td>2021-02-19</td>\n",
       "      <td>NaN</td>\n",
       "      <td>EstherRoeckHansen</td>\n",
       "      <td><a href='https://quickstatements.toolforge.org/#/v1=WDOBJEKT%7CP1343%7CQ50395049%7CP407%7CQ9027%7CP407%7CQ1860%7CS4963%7C%22EstherRoeckHansen%22'>QS</a></td>\n",
       "      <td><a href='https://www.skbl.se/sv/artikel/EstherRoeckHansen'>html</a></td>\n",
       "      <td><a href='https://www.skbl.se/sv/artikel/EstherRoeckHansen.json'>json</a></td>\n",
       "    </tr>\n",
       "    <tr>\n",
       "      <th>56</th>\n",
       "      <td>2021-02-18</td>\n",
       "      <td>NaN</td>\n",
       "      <td>EdlaHedvigSofiaafKlercker</td>\n",
       "      <td><a href='https://quickstatements.toolforge.org/#/v1=WDOBJEKT%7CP1343%7CQ50395049%7CP407%7CQ9027%7CP407%7CQ1860%7CS4963%7C%22EdlaHedvigSofiaafKlercker%22'>QS</a></td>\n",
       "      <td><a href='https://www.skbl.se/sv/artikel/EdlaHedvigSofiaafKlercker'>html</a></td>\n",
       "      <td><a href='https://www.skbl.se/sv/artikel/EdlaHedvigSofiaafKlercker.json'>json</a></td>\n",
       "    </tr>\n",
       "    <tr>\n",
       "      <th>58</th>\n",
       "      <td>2021-02-18</td>\n",
       "      <td>NaN</td>\n",
       "      <td>MajGunillaElisabetSkyttla</td>\n",
       "      <td><a href='https://quickstatements.toolforge.org/#/v1=WDOBJEKT%7CP1343%7CQ50395049%7CP407%7CQ9027%7CP407%7CQ1860%7CS4963%7C%22MajGunillaElisabetSkyttla%22'>QS</a></td>\n",
       "      <td><a href='https://www.skbl.se/sv/artikel/MajGunillaElisabetSkyttla'>html</a></td>\n",
       "      <td><a href='https://www.skbl.se/sv/artikel/MajGunillaElisabetSkyttla.json'>json</a></td>\n",
       "    </tr>\n",
       "  </tbody>\n",
       "</table>"
      ],
      "text/plain": [
       "<IPython.core.display.HTML object>"
      ]
     },
     "execution_count": 55,
     "metadata": {},
     "output_type": "execute_result"
    }
   ],
   "source": [
    "#Display 10\n",
    "HTML(mergeSKBLWD_WDOnly[{'WikidataID','skblid','publishedDate','linkjson','linkhtml','newWdref'}].tail(100).to_html(escape=False))"
   ]
  },
  {
   "cell_type": "code",
   "execution_count": 56,
   "metadata": {},
   "outputs": [
    {
     "data": {
      "text/html": [
       "<div>\n",
       "<style scoped>\n",
       "    .dataframe tbody tr th:only-of-type {\n",
       "        vertical-align: middle;\n",
       "    }\n",
       "\n",
       "    .dataframe tbody tr th {\n",
       "        vertical-align: top;\n",
       "    }\n",
       "\n",
       "    .dataframe thead th {\n",
       "        text-align: right;\n",
       "    }\n",
       "</style>\n",
       "<table border=\"1\" class=\"dataframe\">\n",
       "  <thead>\n",
       "    <tr style=\"text-align: right;\">\n",
       "      <th></th>\n",
       "      <th>publishedDate</th>\n",
       "      <th>skblid</th>\n",
       "      <th>subtitle_sv</th>\n",
       "    </tr>\n",
       "  </thead>\n",
       "  <tbody>\n",
       "    <tr>\n",
       "      <th>0</th>\n",
       "      <td>2021-03-04</td>\n",
       "      <td>BritaSkotsner</td>\n",
       "      <td>Fotograf</td>\n",
       "    </tr>\n",
       "    <tr>\n",
       "      <th>1</th>\n",
       "      <td>2021-03-04</td>\n",
       "      <td>TillieAnderson</td>\n",
       "      <td>Idrottare, cyklist, pionjär</td>\n",
       "    </tr>\n",
       "    <tr>\n",
       "      <th>2</th>\n",
       "      <td>2021-03-04</td>\n",
       "      <td>MarieLouiseBachman</td>\n",
       "      <td>Bibliotekarie, historiker, pionjär</td>\n",
       "    </tr>\n",
       "    <tr>\n",
       "      <th>3</th>\n",
       "      <td>2021-03-04</td>\n",
       "      <td>BeataBergstrom</td>\n",
       "      <td>Teaterfotograf, pionjär</td>\n",
       "    </tr>\n",
       "    <tr>\n",
       "      <th>4</th>\n",
       "      <td>2021-03-04</td>\n",
       "      <td>IngerRudberg0</td>\n",
       "      <td>Lärare, folkbildare, debattör</td>\n",
       "    </tr>\n",
       "    <tr>\n",
       "      <th>5</th>\n",
       "      <td>2021-03-03</td>\n",
       "      <td>ChristinaCatharinaLarsdotter</td>\n",
       "      <td>Flicka med gigantism, utställningsartist</td>\n",
       "    </tr>\n",
       "    <tr>\n",
       "      <th>6</th>\n",
       "      <td>2021-03-03</td>\n",
       "      <td>MariaMarySofiaAnderson</td>\n",
       "      <td>Facklig ledare, kvinnosakskvinna</td>\n",
       "    </tr>\n",
       "    <tr>\n",
       "      <th>7</th>\n",
       "      <td>2021-03-03</td>\n",
       "      <td>EllyBertaIsabellaLofstrand</td>\n",
       "      <td>Gymnast, pionjär, folkbildare</td>\n",
       "    </tr>\n",
       "    <tr>\n",
       "      <th>8</th>\n",
       "      <td>2021-03-03</td>\n",
       "      <td>MirjamFuruhjelm</td>\n",
       "      <td>Gynekolog, professor, pionjär</td>\n",
       "    </tr>\n",
       "    <tr>\n",
       "      <th>9</th>\n",
       "      <td>2021-03-02</td>\n",
       "      <td>IngridYlvaBirgittaKallstromEklund</td>\n",
       "      <td>Tecknare, illustratör, grafisk formgivare</td>\n",
       "    </tr>\n",
       "    <tr>\n",
       "      <th>10</th>\n",
       "      <td>2021-03-02</td>\n",
       "      <td>LillemorIngeborgAinaSophieConstanceMannerheim</td>\n",
       "      <td>Kermaiker, formgivare</td>\n",
       "    </tr>\n",
       "    <tr>\n",
       "      <th>11</th>\n",
       "      <td>2021-03-01</td>\n",
       "      <td>BirgittaPalme0</td>\n",
       "      <td>Skådespelare, teaterchef, regissör</td>\n",
       "    </tr>\n",
       "    <tr>\n",
       "      <th>12</th>\n",
       "      <td>2021-03-01</td>\n",
       "      <td>BedaWennerqvist0</td>\n",
       "      <td>Missionär, lärare, skolföreståndare</td>\n",
       "    </tr>\n",
       "    <tr>\n",
       "      <th>13</th>\n",
       "      <td>2021-02-28</td>\n",
       "      <td>AgnesViktoriaElinHansson</td>\n",
       "      <td>Amatörfotograf</td>\n",
       "    </tr>\n",
       "    <tr>\n",
       "      <th>14</th>\n",
       "      <td>2021-02-28</td>\n",
       "      <td>KarolinaAlfridaFridaWinnerstrand</td>\n",
       "      <td>Skådespelare</td>\n",
       "    </tr>\n",
       "    <tr>\n",
       "      <th>15</th>\n",
       "      <td>2021-02-27</td>\n",
       "      <td>BrittIngegerdMoller</td>\n",
       "      <td>Konstnär, textilkonstnär</td>\n",
       "    </tr>\n",
       "    <tr>\n",
       "      <th>16</th>\n",
       "      <td>2021-02-27</td>\n",
       "      <td>UllaSonjaSallert</td>\n",
       "      <td>Sångare, skådespelare</td>\n",
       "    </tr>\n",
       "    <tr>\n",
       "      <th>17</th>\n",
       "      <td>2021-02-27</td>\n",
       "      <td>LinaJonn</td>\n",
       "      <td>Fotograf, företagare</td>\n",
       "    </tr>\n",
       "    <tr>\n",
       "      <th>18</th>\n",
       "      <td>2021-02-27</td>\n",
       "      <td>MariaJonn</td>\n",
       "      <td>Fotograf, företagare</td>\n",
       "    </tr>\n",
       "    <tr>\n",
       "      <th>19</th>\n",
       "      <td>2021-02-27</td>\n",
       "      <td>ToraAdelheidTeje</td>\n",
       "      <td>Skådespelare</td>\n",
       "    </tr>\n",
       "    <tr>\n",
       "      <th>20</th>\n",
       "      <td>2021-02-26</td>\n",
       "      <td>FrancoiseMargueriteJanicon0</td>\n",
       "      <td>Författare, samhällsdebattör</td>\n",
       "    </tr>\n",
       "    <tr>\n",
       "      <th>21</th>\n",
       "      <td>2021-02-26</td>\n",
       "      <td>StinaLjunggren</td>\n",
       "      <td>Rektor, idrottsledare</td>\n",
       "    </tr>\n",
       "    <tr>\n",
       "      <th>22</th>\n",
       "      <td>2021-02-26</td>\n",
       "      <td>EvaCeciliaDahlgren</td>\n",
       "      <td>Balettdansare, koreograf, danslärare</td>\n",
       "    </tr>\n",
       "    <tr>\n",
       "      <th>23</th>\n",
       "      <td>2021-02-25</td>\n",
       "      <td>LeoniaMariaLeonieGeisendorf</td>\n",
       "      <td>Arkitekt</td>\n",
       "    </tr>\n",
       "    <tr>\n",
       "      <th>24</th>\n",
       "      <td>2021-02-25</td>\n",
       "      <td>PaulineWestdahl</td>\n",
       "      <td>Väckelsekristen pionjär, författare, nykterhetskämpe</td>\n",
       "    </tr>\n",
       "    <tr>\n",
       "      <th>25</th>\n",
       "      <td>2021-02-25</td>\n",
       "      <td>DagnyMarianneErikson</td>\n",
       "      <td>Textilhistoriker</td>\n",
       "    </tr>\n",
       "    <tr>\n",
       "      <th>26</th>\n",
       "      <td>2021-02-25</td>\n",
       "      <td>IngridAtterberg</td>\n",
       "      <td>Keramiker, formgivare</td>\n",
       "    </tr>\n",
       "    <tr>\n",
       "      <th>27</th>\n",
       "      <td>2021-02-25</td>\n",
       "      <td>RagnhildWahlborg0</td>\n",
       "      <td>Sjuksköterska</td>\n",
       "    </tr>\n",
       "    <tr>\n",
       "      <th>28</th>\n",
       "      <td>2021-02-24</td>\n",
       "      <td>AliceErikssonKalla</td>\n",
       "      <td>Arbetslägeröverlevare, en av Kirunasvenskarna</td>\n",
       "    </tr>\n",
       "    <tr>\n",
       "      <th>29</th>\n",
       "      <td>2021-02-24</td>\n",
       "      <td>AliceJennyEklund</td>\n",
       "      <td>Skådespelare, regissör, teaterdirektör</td>\n",
       "    </tr>\n",
       "    <tr>\n",
       "      <th>30</th>\n",
       "      <td>2021-02-24</td>\n",
       "      <td>EmmaMeissner</td>\n",
       "      <td>Skådespelare, operettsångare</td>\n",
       "    </tr>\n",
       "    <tr>\n",
       "      <th>31</th>\n",
       "      <td>2021-02-24</td>\n",
       "      <td>BertaPersson</td>\n",
       "      <td>Busschaufför, pionjär, företagare</td>\n",
       "    </tr>\n",
       "    <tr>\n",
       "      <th>32</th>\n",
       "      <td>2021-02-24</td>\n",
       "      <td>ReneeLouiseBjorling</td>\n",
       "      <td>Skådespelare, teaterlärare</td>\n",
       "    </tr>\n",
       "    <tr>\n",
       "      <th>33</th>\n",
       "      <td>2021-02-24</td>\n",
       "      <td>MargitRosengren</td>\n",
       "      <td>Skådespelare, operettsångare</td>\n",
       "    </tr>\n",
       "    <tr>\n",
       "      <th>34</th>\n",
       "      <td>2021-02-23</td>\n",
       "      <td>MargaretaNordstrom</td>\n",
       "      <td>Politiker, filantrop</td>\n",
       "    </tr>\n",
       "    <tr>\n",
       "      <th>35</th>\n",
       "      <td>2021-02-23</td>\n",
       "      <td>RutEvaStiberg</td>\n",
       "      <td>Skådespelare</td>\n",
       "    </tr>\n",
       "    <tr>\n",
       "      <th>36</th>\n",
       "      <td>2021-02-23</td>\n",
       "      <td>OlgaNyblom</td>\n",
       "      <td>Konstnär, textilkonstnär, redaktör</td>\n",
       "    </tr>\n",
       "    <tr>\n",
       "      <th>37</th>\n",
       "      <td>2021-02-23</td>\n",
       "      <td>IngridMariaOsvald</td>\n",
       "      <td>Skolföreståndare, författare, politiker</td>\n",
       "    </tr>\n",
       "    <tr>\n",
       "      <th>38</th>\n",
       "      <td>2021-02-23</td>\n",
       "      <td>IngeborgThorin</td>\n",
       "      <td>Porträttfotograf, donator</td>\n",
       "    </tr>\n",
       "    <tr>\n",
       "      <th>39</th>\n",
       "      <td>2021-02-23</td>\n",
       "      <td>MaritaLindgrenFridell</td>\n",
       "      <td>Konsthistoriker, folkbildare, författare</td>\n",
       "    </tr>\n",
       "    <tr>\n",
       "      <th>40</th>\n",
       "      <td>2021-02-23</td>\n",
       "      <td>NancyFredrikaAugustaEdberg</td>\n",
       "      <td>Idrottare, simlärare, pionjär</td>\n",
       "    </tr>\n",
       "    <tr>\n",
       "      <th>41</th>\n",
       "      <td>2021-02-22</td>\n",
       "      <td>EmmaDagmarStenbeck</td>\n",
       "      <td>Filantrop, engagerad i Röda Korset</td>\n",
       "    </tr>\n",
       "    <tr>\n",
       "      <th>42</th>\n",
       "      <td>2021-02-22</td>\n",
       "      <td>EliseMalmros</td>\n",
       "      <td>Bankkamrer, pionjär, filantrop</td>\n",
       "    </tr>\n",
       "    <tr>\n",
       "      <th>43</th>\n",
       "      <td>2021-02-21</td>\n",
       "      <td>IrmaChristenson</td>\n",
       "      <td>Skådespelare</td>\n",
       "    </tr>\n",
       "    <tr>\n",
       "      <th>44</th>\n",
       "      <td>2021-02-21</td>\n",
       "      <td>EllaBilling</td>\n",
       "      <td>Rösträttskvinna, samhällsdebattör</td>\n",
       "    </tr>\n",
       "    <tr>\n",
       "      <th>45</th>\n",
       "      <td>2021-02-20</td>\n",
       "      <td>JuliaSvedelius</td>\n",
       "      <td>Filantrop, föreläsare, redaktör</td>\n",
       "    </tr>\n",
       "    <tr>\n",
       "      <th>46</th>\n",
       "      <td>2021-02-20</td>\n",
       "      <td>SveaJansson</td>\n",
       "      <td>Vissångare</td>\n",
       "    </tr>\n",
       "    <tr>\n",
       "      <th>47</th>\n",
       "      <td>2021-02-20</td>\n",
       "      <td>KerstinBernhard</td>\n",
       "      <td>Fotograf, pionjär</td>\n",
       "    </tr>\n",
       "    <tr>\n",
       "      <th>48</th>\n",
       "      <td>2021-02-20</td>\n",
       "      <td>AlmaGunillaMariaGullNatorp</td>\n",
       "      <td>Skådespelare</td>\n",
       "    </tr>\n",
       "    <tr>\n",
       "      <th>49</th>\n",
       "      <td>2021-02-19</td>\n",
       "      <td>GudrunBrost</td>\n",
       "      <td>Skådespelare, revyartist</td>\n",
       "    </tr>\n",
       "    <tr>\n",
       "      <th>50</th>\n",
       "      <td>2021-02-19</td>\n",
       "      <td>EllenBergman0</td>\n",
       "      <td>Musiker, lärare, kvinnosakskvinna</td>\n",
       "    </tr>\n",
       "    <tr>\n",
       "      <th>52</th>\n",
       "      <td>2021-02-19</td>\n",
       "      <td>ElisabethChristinavonLinne</td>\n",
       "      <td>Botaniker</td>\n",
       "    </tr>\n",
       "    <tr>\n",
       "      <th>53</th>\n",
       "      <td>2021-02-19</td>\n",
       "      <td>EstherRoeckHansen</td>\n",
       "      <td>Skådespelare</td>\n",
       "    </tr>\n",
       "    <tr>\n",
       "      <th>56</th>\n",
       "      <td>2021-02-18</td>\n",
       "      <td>EdlaHedvigSofiaafKlercker</td>\n",
       "      <td>Författare, donator</td>\n",
       "    </tr>\n",
       "    <tr>\n",
       "      <th>58</th>\n",
       "      <td>2021-02-18</td>\n",
       "      <td>MajGunillaElisabetSkyttla</td>\n",
       "      <td>Textilkonstnär</td>\n",
       "    </tr>\n",
       "  </tbody>\n",
       "</table>\n",
       "</div>"
      ],
      "text/plain": [
       "   publishedDate                                         skblid  \\\n",
       "0     2021-03-04                                  BritaSkotsner   \n",
       "1     2021-03-04                                 TillieAnderson   \n",
       "2     2021-03-04                             MarieLouiseBachman   \n",
       "3     2021-03-04                                 BeataBergstrom   \n",
       "4     2021-03-04                                  IngerRudberg0   \n",
       "5     2021-03-03                   ChristinaCatharinaLarsdotter   \n",
       "6     2021-03-03                         MariaMarySofiaAnderson   \n",
       "7     2021-03-03                     EllyBertaIsabellaLofstrand   \n",
       "8     2021-03-03                                MirjamFuruhjelm   \n",
       "9     2021-03-02              IngridYlvaBirgittaKallstromEklund   \n",
       "10    2021-03-02  LillemorIngeborgAinaSophieConstanceMannerheim   \n",
       "11    2021-03-01                                 BirgittaPalme0   \n",
       "12    2021-03-01                               BedaWennerqvist0   \n",
       "13    2021-02-28                       AgnesViktoriaElinHansson   \n",
       "14    2021-02-28               KarolinaAlfridaFridaWinnerstrand   \n",
       "15    2021-02-27                            BrittIngegerdMoller   \n",
       "16    2021-02-27                               UllaSonjaSallert   \n",
       "17    2021-02-27                                       LinaJonn   \n",
       "18    2021-02-27                                      MariaJonn   \n",
       "19    2021-02-27                               ToraAdelheidTeje   \n",
       "20    2021-02-26                    FrancoiseMargueriteJanicon0   \n",
       "21    2021-02-26                                 StinaLjunggren   \n",
       "22    2021-02-26                             EvaCeciliaDahlgren   \n",
       "23    2021-02-25                    LeoniaMariaLeonieGeisendorf   \n",
       "24    2021-02-25                                PaulineWestdahl   \n",
       "25    2021-02-25                           DagnyMarianneErikson   \n",
       "26    2021-02-25                                IngridAtterberg   \n",
       "27    2021-02-25                              RagnhildWahlborg0   \n",
       "28    2021-02-24                             AliceErikssonKalla   \n",
       "29    2021-02-24                               AliceJennyEklund   \n",
       "30    2021-02-24                                   EmmaMeissner   \n",
       "31    2021-02-24                                   BertaPersson   \n",
       "32    2021-02-24                            ReneeLouiseBjorling   \n",
       "33    2021-02-24                                MargitRosengren   \n",
       "34    2021-02-23                             MargaretaNordstrom   \n",
       "35    2021-02-23                                  RutEvaStiberg   \n",
       "36    2021-02-23                                     OlgaNyblom   \n",
       "37    2021-02-23                              IngridMariaOsvald   \n",
       "38    2021-02-23                                 IngeborgThorin   \n",
       "39    2021-02-23                          MaritaLindgrenFridell   \n",
       "40    2021-02-23                     NancyFredrikaAugustaEdberg   \n",
       "41    2021-02-22                             EmmaDagmarStenbeck   \n",
       "42    2021-02-22                                   EliseMalmros   \n",
       "43    2021-02-21                                IrmaChristenson   \n",
       "44    2021-02-21                                    EllaBilling   \n",
       "45    2021-02-20                                 JuliaSvedelius   \n",
       "46    2021-02-20                                    SveaJansson   \n",
       "47    2021-02-20                                KerstinBernhard   \n",
       "48    2021-02-20                     AlmaGunillaMariaGullNatorp   \n",
       "49    2021-02-19                                    GudrunBrost   \n",
       "50    2021-02-19                                  EllenBergman0   \n",
       "52    2021-02-19                     ElisabethChristinavonLinne   \n",
       "53    2021-02-19                              EstherRoeckHansen   \n",
       "56    2021-02-18                      EdlaHedvigSofiaafKlercker   \n",
       "58    2021-02-18                      MajGunillaElisabetSkyttla   \n",
       "\n",
       "                                             subtitle_sv  \n",
       "0                                               Fotograf  \n",
       "1                            Idrottare, cyklist, pionjär  \n",
       "2                     Bibliotekarie, historiker, pionjär  \n",
       "3                                Teaterfotograf, pionjär  \n",
       "4                          Lärare, folkbildare, debattör  \n",
       "5               Flicka med gigantism, utställningsartist  \n",
       "6                       Facklig ledare, kvinnosakskvinna  \n",
       "7                          Gymnast, pionjär, folkbildare  \n",
       "8                          Gynekolog, professor, pionjär  \n",
       "9              Tecknare, illustratör, grafisk formgivare  \n",
       "10                                 Kermaiker, formgivare  \n",
       "11                    Skådespelare, teaterchef, regissör  \n",
       "12                   Missionär, lärare, skolföreståndare  \n",
       "13                                        Amatörfotograf  \n",
       "14                                          Skådespelare  \n",
       "15                              Konstnär, textilkonstnär  \n",
       "16                                 Sångare, skådespelare  \n",
       "17                                  Fotograf, företagare  \n",
       "18                                  Fotograf, företagare  \n",
       "19                                          Skådespelare  \n",
       "20                          Författare, samhällsdebattör  \n",
       "21                                 Rektor, idrottsledare  \n",
       "22                  Balettdansare, koreograf, danslärare  \n",
       "23                                              Arkitekt  \n",
       "24  Väckelsekristen pionjär, författare, nykterhetskämpe  \n",
       "25                                      Textilhistoriker  \n",
       "26                                 Keramiker, formgivare  \n",
       "27                                         Sjuksköterska  \n",
       "28         Arbetslägeröverlevare, en av Kirunasvenskarna  \n",
       "29                Skådespelare, regissör, teaterdirektör  \n",
       "30                          Skådespelare, operettsångare  \n",
       "31                     Busschaufför, pionjär, företagare  \n",
       "32                            Skådespelare, teaterlärare  \n",
       "33                          Skådespelare, operettsångare  \n",
       "34                                  Politiker, filantrop  \n",
       "35                                          Skådespelare  \n",
       "36                    Konstnär, textilkonstnär, redaktör  \n",
       "37               Skolföreståndare, författare, politiker  \n",
       "38                             Porträttfotograf, donator  \n",
       "39              Konsthistoriker, folkbildare, författare  \n",
       "40                         Idrottare, simlärare, pionjär  \n",
       "41                    Filantrop, engagerad i Röda Korset  \n",
       "42                        Bankkamrer, pionjär, filantrop  \n",
       "43                                          Skådespelare  \n",
       "44                     Rösträttskvinna, samhällsdebattör  \n",
       "45                       Filantrop, föreläsare, redaktör  \n",
       "46                                            Vissångare  \n",
       "47                                     Fotograf, pionjär  \n",
       "48                                          Skådespelare  \n",
       "49                              Skådespelare, revyartist  \n",
       "50                     Musiker, lärare, kvinnosakskvinna  \n",
       "52                                             Botaniker  \n",
       "53                                          Skådespelare  \n",
       "56                                   Författare, donator  \n",
       "58                                        Textilkonstnär  "
      ]
     },
     "execution_count": 56,
     "metadata": {},
     "output_type": "execute_result"
    }
   ],
   "source": [
    "#SKBLtot.info() \n",
    "#SKBLtot[SKBLtot['skblid'].str.contains(\"AlmaIsabelSofiaHedin\")] \n",
    "#df['Position'].str.contains(\"PG\")\n",
    "#Missing in Wikidata    \n",
    "\n",
    "mergeSKBLWD_WDOnly[{\"skblid\",\"publishedDate\",\"subtitle_sv\"}]"
   ]
  },
  {
   "cell_type": "code",
   "execution_count": 57,
   "metadata": {},
   "outputs": [],
   "source": [
    "mergeSKBLWD_WDOnly[{\"skblid\",\"publishedDate\",\"subtitle_sv\"}].to_csv(\"SKBL_new.csv\")"
   ]
  },
  {
   "cell_type": "markdown",
   "metadata": {},
   "source": [
    "* See latest checked [SKBL_new.csv in GITHUB](https://github.com/salgo60/open-data-examples/blob/master/SKBL_new.csv)"
   ]
  },
  {
   "cell_type": "markdown",
   "metadata": {},
   "source": [
    "\n"
   ]
  },
  {
   "cell_type": "code",
   "execution_count": 58,
   "metadata": {},
   "outputs": [
    {
     "data": {
      "text/plain": [
       "(55, 24)"
      ]
     },
     "execution_count": 58,
     "metadata": {},
     "output_type": "execute_result"
    }
   ],
   "source": [
    "mergeSKBLWD_WDOnly.shape"
   ]
  },
  {
   "cell_type": "code",
   "execution_count": 59,
   "metadata": {},
   "outputs": [
    {
     "name": "stdout",
     "output_type": "stream",
     "text": [
      "Ended:  2021-03-04 15:23:54.882600\n",
      "Time elapsed (hh:mm:ss.ms) 0:00:19.212210\n"
     ]
    }
   ],
   "source": [
    "end = datetime.now()\n",
    "print(\"Ended: \", end) \n",
    "print('Time elapsed (hh:mm:ss.ms) {}'.format(datetime.now() - start_time))"
   ]
  },
  {
   "cell_type": "markdown",
   "metadata": {},
   "source": [
    "### more links \n",
    "  * this [Jupyter Notebook](https://github.com/salgo60/open-data-examples/blob/master/Svenskt%20Kvinnobiografiskt%20lexikon%20part%203.ipynb) [tinyurl.com/SKBLSBL](https://tinyurl.com/SKBLSBL)\n",
    "    * [part 1](https://github.com/salgo60/open-data-examples/blob/master/Svenskt%20Kvinnobiografiskt%20lexikon.ipynb) check Wikidata and SKBL - obsolete is done in this Notebook \n",
    "    * [part 2](https://github.com/salgo60/open-data-examples/blob/master/Svenskt%20Kvinnobiografiskt%20lexikon%20part%202.ipynb) more queries etc.\n",
    "    * [part 4](https://github.com/salgo60/open-data-examples/blob/master/Svenskt%20Kvinnobiografiskt%20lexikon%20part%204.ipynb) test extract archives\n",
    "    * [part 5](https://github.com/salgo60/open-data-examples/blob/master/Svenskt%20Kvinnobiografiskt%20lexikon%20part%205.ipynb) check Uppsala University Alvin\n",
    "    * [SKBL issue board](https://github.com/spraakbanken/skbl-portal/issues) on GitHub\n",
    "      * open [SKBL 23](https://github.com/spraakbanken/skbl-portal/issues/23) field when translated\n",
    "      * \n",
    "  * [Möte 2020 dec](https://phabricator.wikimedia.org/T269498)\n",
    "  "
   ]
  }
 ],
 "metadata": {
  "kernelspec": {
   "display_name": "Python 3",
   "language": "python",
   "name": "python3"
  },
  "language_info": {
   "codemirror_mode": {
    "name": "ipython",
    "version": 3
   },
   "file_extension": ".py",
   "mimetype": "text/x-python",
   "name": "python",
   "nbconvert_exporter": "python",
   "pygments_lexer": "ipython3",
   "version": "3.8.0"
  }
 },
 "nbformat": 4,
 "nbformat_minor": 4
}
