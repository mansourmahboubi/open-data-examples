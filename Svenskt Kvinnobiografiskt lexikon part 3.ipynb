{
 "cells": [
  {
   "cell_type": "markdown",
   "metadata": {},
   "source": [
    "# Svenskt Kvinnobiografiskt lexikon - SKBL part 3\n",
    "    version part 3 - 2.7\n",
    " \n",
    " This [notebook](https://tinyurl.com/SKBLWDsynch)\n",
    "  \n",
    "  \n",
    "  * SKBL see https://skbl.se/en  \n",
    "    * example structured data from SKBL [GretaGarbo JSON](https://skbl.se/en/article/GretaGarbo.json)\n",
    "    * video \n",
    "      * in [Swedish what we do today](https://youtu.be/LBx7XowzrJ0)\n",
    "      * the vision with [Wikidata <-> SKBL](https://www.youtube.com/watch?v=HIHO-szkD1A)\n",
    "    * [presentation](https://docs.google.com/presentation/d/1EvQHdzPsIA4hr2WuNXnbpsLHec2GS89b_pHvilO6xhQ/edit?usp=sharing) about start using Linked data at SKBL and have same as Wikidata \n",
    "  * [Wikidata:WikiProject_Sweden/Svenskt_kvinnobiografiskt_lexikon](https://www.wikidata.org/wiki/Wikidata:WikiProject_Sweden/Svenskt_kvinnobiografiskt_lexikon)\n",
    "    \n",
    "  \n",
    "### Purpose\n",
    "  * gets statistics about SKBL and compare number of articles produced with what The Swedish National archives [SBL biographies](https://sok.riksarkivet.se/sbl/Start.aspx?lang=en) has produced since 1918\n",
    "  * check if SKBL has new articles created not added to [Wikidata](https://www.youtube.com/watch?v=m_9_23jXPoE)"
   ]
  },
  {
   "cell_type": "code",
   "execution_count": 1,
   "metadata": {},
   "outputs": [
    {
     "name": "stdout",
     "output_type": "stream",
     "text": [
      "Last run:  2020-10-27 16:21:09.787183\n"
     ]
    }
   ],
   "source": [
    "from datetime import datetime\n",
    "start_time  = datetime.now()\n",
    "print(\"Last run: \", start_time)"
   ]
  },
  {
   "cell_type": "markdown",
   "metadata": {},
   "source": [
    "#### Other sources we sync\n",
    "* [Kulturpersoner Uppsalakyrkogård](https://github.com/salgo60/open-data-examples/blob/master/Check%20WD%20kulturpersoner%20uppsalakyrkogardar.ipynb)\n",
    "* [Litteraturbanken](https://github.com/salgo60/open-data-examples/blob/master/Litteraturbanken%20Author.ipynb)\n",
    "* [Nobelprize.org](https://github.com/salgo60/open-data-examples/blob/master/Nobel%20API.ipynb)\n",
    "* [SBL](https://github.com/salgo60/open-data-examples/blob/master/SBL.ipynb)\n",
    "* [SKBL](https://github.com/salgo60/open-data-examples/blob/master/Svenskt%20Kvinnobiografiskt%20lexikon%20part%203.ipynb)  \n",
    "* [Svenska Akademien](https://github.com/salgo60/open-data-examples/blob/master/Svenska%20Akademien.ipynb)  \n"
   ]
  },
  {
   "cell_type": "markdown",
   "metadata": {},
   "source": [
    "### Links\n",
    "* [video](https://www.youtube.com/watch?v=6jxH8MBIhvg) in Swedish about how SKBL deliver and work with Wikidata\n",
    "  * Example how project Women in Red at en:Wikipedia automatic [creates dynamic lists of \"missing\" articles](https://en.wikipedia.org/wiki/Wikipedia:WikiProject_Women_in_Red/Missing_articles_by_dictionary/BDSW) that shows what in SKBL has an english article about a women but not have an english article in en:Wikipedia\n",
    "    * see [version history](https://en.wikipedia.org/w/index.php?title=Wikipedia:WikiProject_Women_in_Red/Missing_articles_by_dictionary/BDSW&action=history) of list created\n",
    "    * see en:Wikipedia articles [with a link to SKBL](https://en.wikipedia.org/wiki/Category:SKBL_template_using_Wikidata_property_P4963) > 680 articles using the [SKBL template](https://en.wikipedia.org/wiki/Template:SKBL)"
   ]
  },
  {
   "cell_type": "markdown",
   "metadata": {},
   "source": [
    "Below we also use Wikidata to compare number of female articles produced\n",
    "* [SKBL started 2018](https://skbl.se/en/about-skbl)\n",
    "  * use a data driven approach with structured data\n",
    "  * has swedish/english articles see [https://pageviews.toolforge.org/massviews/?platform=all-access&agent=user&source=category&range=this-year&subjectpage=0&subcategories=0&sort=views&direction=1&view=list&target=https://en.wikipedia.org/wiki/Category:SKBL_template_using_Wikidata_property_P4963 statistics en:Wikipedia]\n",
    "     * page views in different languages for [Ingrid Bergman](https://pageviews.toolforge.org/langviews/?project=en.wikipedia.org&platform=all-access&agent=user&range=latest-20&sort=views&direction=1&view=list&page=Ingrid%20Bergman)\n",
    "* [SBL started 1917](https://sok.riksarkivet.se/sbl/Start.aspx?lang=en)\n",
    "  * publish on paper and then scan the paper and creates a webpage with no machinereadable structured data  \n",
    "\n",
    "**See also**\n",
    "* video [Introduction to Wikidata](https://www.youtube.com/watch?v=m_9_23jXPoE)"
   ]
  },
  {
   "cell_type": "code",
   "execution_count": 2,
   "metadata": {},
   "outputs": [
    {
     "data": {
      "text/html": [
       "<div style=\"display: inline-block; width: 720px; vertical-align: top; text-align: center;\"><h4 style=\"font-size: 12px\">0</h4><h4 style=\"font-size: 9px; padding-left: 10px; padding-right: 10px; width: 90%; word-wrap: break-word; white-space: normal;\">SBLmalefemale.png</h4><img src=\"SBLmalefemale.png\" style=\"margin: 1px; width: 700px; border: 2px solid #ddd;\"/></div><div style=\"display: inline-block; width: 720px; vertical-align: top; text-align: center;\"><h4 style=\"font-size: 12px\">1</h4><h4 style=\"font-size: 9px; padding-left: 10px; padding-right: 10px; width: 90%; word-wrap: break-word; white-space: normal;\">SKBLSBLfemale.png</h4><img src=\"SKBLSBLfemale.png\" style=\"margin: 1px; width: 700px; border: 2px solid #ddd;\"/></div><div style=\"display: inline-block; width: 720px; vertical-align: top; text-align: center;\"><h4 style=\"font-size: 12px\">2</h4><h4 style=\"font-size: 9px; padding-left: 10px; padding-right: 10px; width: 90%; word-wrap: break-word; white-space: normal;\">SKBLPiepublished.png</h4><img src=\"SKBLPiepublished.png\" style=\"margin: 1px; width: 700px; border: 2px solid #ddd;\"/></div><div style=\"display: inline-block; width: 720px; vertical-align: top; text-align: center;\"><h4 style=\"font-size: 12px\">3</h4><h4 style=\"font-size: 9px; padding-left: 10px; padding-right: 10px; width: 90%; word-wrap: break-word; white-space: normal;\">SKBLBarpublished.png</h4><img src=\"SKBLBarpublished.png\" style=\"margin: 1px; width: 700px; border: 2px solid #ddd;\"/></div><div style=\"display: inline-block; width: 720px; vertical-align: top; text-align: center;\"><h4 style=\"font-size: 12px\">4</h4><h4 style=\"font-size: 9px; padding-left: 10px; padding-right: 10px; width: 90%; word-wrap: break-word; white-space: normal;\">en_Wikipedia_SKBL_views-20200101-20200919.png</h4><img src=\"en_Wikipedia_SKBL_views-20200101-20200919.png\" style=\"margin: 1px; width: 700px; border: 2px solid #ddd;\"/></div><div style=\"display: inline-block; width: 720px; vertical-align: top; text-align: center;\"><h4 style=\"font-size: 12px\">5</h4><h4 style=\"font-size: 9px; padding-left: 10px; padding-right: 10px; width: 90%; word-wrap: break-word; white-space: normal;\">SBL_published_articles_1918-2018.png</h4><img src=\"SBL_published_articles_1918-2018.png\" style=\"margin: 1px; width: 700px; border: 2px solid #ddd;\"/></div><div style=\"display: inline-block; width: 720px; vertical-align: top; text-align: center;\"><h4 style=\"font-size: 12px\">6</h4><h4 style=\"font-size: 9px; padding-left: 10px; padding-right: 10px; width: 90%; word-wrap: break-word; white-space: normal;\">SBL_published_articles_women_1918-2018.png</h4><img src=\"SBL_published_articles_women_1918-2018.png\" style=\"margin: 1px; width: 700px; border: 2px solid #ddd;\"/></div>"
      ],
      "text/plain": [
       "<IPython.core.display.HTML object>"
      ]
     },
     "metadata": {},
     "output_type": "display_data"
    }
   ],
   "source": [
    "import ipyplot\n",
    "listOfImageNames = ['SBLmalefemale.png','SKBLSBLfemale.png','SKBLPiepublished.png',\n",
    "                   'SKBLBarpublished.png','en_Wikipedia_SKBL_views-20200101-20200919.png',\n",
    "                    'SBL_published_articles_1918-2018.png','SBL_published_articles_women_1918-2018.png']\n",
    "\n",
    "ipyplot.plot_images(listOfImageNames,img_width=700)"
   ]
  },
  {
   "cell_type": "markdown",
   "metadata": {},
   "source": [
    "* Map with [SKBL ladies](https://w.wiki/cyv) born,died,buried...\n",
    "* [Other external properties](https://w.wiki/czi) in WD on records that has the SKBL property "
   ]
  },
  {
   "cell_type": "code",
   "execution_count": 3,
   "metadata": {},
   "outputs": [],
   "source": [
    "import IPython \n",
    "#iframe = '<iframe width=\"900\" height=\"800\" frameborder=\"0\" scrolling=\"no\" src=\"https://w.wiki/cyv\"></iframe>'\n",
    "#IPython.display.IFrame(src=\"https://w.wiki/cyv\",width=900,height=800)"
   ]
  },
  {
   "cell_type": "markdown",
   "metadata": {},
   "source": [
    "# Wikidata - WDSKBLtot"
   ]
  },
  {
   "cell_type": "code",
   "execution_count": 4,
   "metadata": {},
   "outputs": [],
   "source": [
    "# pip install sparqlwrapper\n",
    "# https://rdflib.github.io/sparqlwrapper/\n",
    "\n",
    "import sys,json\n",
    "import pandas as pd \n",
    "\n",
    "from SPARQLWrapper import SPARQLWrapper, JSON\n",
    "\n",
    "endpoint_url = \"https://query.wikidata.org/sparql\"\n",
    "\n",
    "querySKBL = \"\"\"SELECT (REPLACE(STR(?item), \".*Q\", \"Q\") AS ?WikidataID)  ?skblid WHERE {\n",
    "?item wdt:P31 wd:Q5.\n",
    "?item wdt:P4963 ?skblid\n",
    "} order by ?skbl\"\"\"\n",
    "\n",
    "def get_sparql_dataframe(endpoint_url, query):\n",
    "    \"\"\"\n",
    "    Helper function to convert SPARQL results into a Pandas data frame.\n",
    "    \"\"\"\n",
    "    user_agent = \"salgo60/%s.%s\" % (sys.version_info[0], sys.version_info[1])\n",
    " \n",
    "    sparql = SPARQLWrapper(endpoint_url, agent=user_agent)\n",
    "    sparql.setQuery(query)\n",
    "    sparql.setReturnFormat(JSON)\n",
    "    result = sparql.query()\n",
    "\n",
    "    processed_results = json.load(result.response)\n",
    "    cols = processed_results['head']['vars']\n",
    "\n",
    "    out = []\n",
    "    for row in processed_results['results']['bindings']:\n",
    "        item = []\n",
    "        for c in cols:\n",
    "            item.append(row.get(c, {}).get('value'))\n",
    "        out.append(item)\n",
    "\n",
    "    return pd.DataFrame(out, columns=cols)\n",
    "\n",
    "WDSKBLtot = get_sparql_dataframe(endpoint_url, querySKBL)\n",
    "WDSKBLtot[\"Source\"] = \"SKBL\" \n"
   ]
  },
  {
   "cell_type": "code",
   "execution_count": 5,
   "metadata": {},
   "outputs": [],
   "source": [
    "WDSKBLtot.sort_index(inplace=True)  "
   ]
  },
  {
   "cell_type": "code",
   "execution_count": 6,
   "metadata": {},
   "outputs": [
    {
     "name": "stdout",
     "output_type": "stream",
     "text": [
      "<class 'pandas.core.frame.DataFrame'>\n",
      "RangeIndex: 1588 entries, 0 to 1587\n",
      "Data columns (total 3 columns):\n",
      " #   Column      Non-Null Count  Dtype \n",
      "---  ------      --------------  ----- \n",
      " 0   WikidataID  1588 non-null   object\n",
      " 1   skblid      1588 non-null   object\n",
      " 2   Source      1588 non-null   object\n",
      "dtypes: object(3)\n",
      "memory usage: 37.3+ KB\n"
     ]
    }
   ],
   "source": [
    "WDSKBLtot.info()"
   ]
  },
  {
   "cell_type": "markdown",
   "metadata": {},
   "source": [
    "## Get SKBL records - SKBLtot"
   ]
  },
  {
   "cell_type": "code",
   "execution_count": 7,
   "metadata": {
    "scrolled": false
   },
   "outputs": [
    {
     "name": "stdout",
     "output_type": "stream",
     "text": [
      "1592  antal poster\n"
     ]
    }
   ],
   "source": [
    "import urllib3, json\n",
    "import pandas as pd \n",
    "http = urllib3.PoolManager() \n",
    "pd.set_option(\"display.max.columns\", None)\n",
    "pd.set_option('display.max_rows', None)\n",
    "\n",
    "  \n",
    "#Ny bättre URL    \n",
    "url = \"https://ws.spraakbanken.gu.se/ws/karp/v5/query?mode=skbl&q=extended%7C%7Cand%7Cskblstatus%7Cequals%7Cok&size=10000\"\n",
    "r = http.request('GET', url) \n",
    "data = json.loads(r.data.decode('utf-8')) \n",
    "#print(type(data))\n",
    "#print(r.info())  \n",
    "\n",
    "listSKBL = []\n",
    "i = 0 \n",
    "for row in (data[\"hits\"][\"hits\"]):\n",
    "    #print (row[\"_source\"][\"url\"])\n",
    "    new_item = dict()\n",
    "    new_item['skblid'] = row[\"_source\"][\"url\"]\n",
    "   \n",
    "    try:\n",
    "        publishedDate = row[\"_source\"]['publication_date']        \n",
    "    except:\n",
    "        publishedDate =\"\"\n",
    "    new_item['publishedDate'] = publishedDate\n",
    "    try:\n",
    "        article_author_firstname = row[\"_source\"][\"article_author\"][0]['firstname']\n",
    "    except:\n",
    "        article_author_firstname =\"\"\n",
    "    new_item['article_author_firstname'] = article_author_firstname\n",
    "    try:\n",
    "        article_author_lastname = row[\"_source\"][\"article_author\"][0]['lastname']\n",
    "    except:\n",
    "        article_author_lastname =\"\"\n",
    "    new_item['article_author_lastname'] = article_author_lastname\n",
    "    try:\n",
    "        subtitle_sv = row[\"_source\"]['subtitle']\n",
    "    except:\n",
    "        subtitle_sv =\"\"\n",
    "    new_item['subtitle_sv'] = subtitle_sv\n",
    "    try:\n",
    "        name_lastname = row[\"_source\"]['name']['lastname']\n",
    "    except:\n",
    "        name_lastname = \"\"\n",
    "    new_item['name_lastname'] = name_lastname\n",
    "    try:\n",
    "        name_firstname = row[\"_source\"]['name']['firstname']\n",
    "    except:\n",
    "        name_firstname = \"\"\n",
    "    new_item['name_firstname'] = name_firstname\n",
    "    try:\n",
    "        born = row[\"_source\"][\"lifespan\"]['from']['date']['date']\n",
    "#        born = row[\"_source\"][\"name\"]\n",
    "    except:\n",
    "        born = \"\"\n",
    "    new_item['born'] = born\n",
    "    try:\n",
    "        death = row[\"_source\"][\"lifespan\"]['to']['date']['date']\n",
    "    except:\n",
    "        death = \"\"\n",
    "    new_item['death'] = death\n",
    "    try:\n",
    "        longname = row[\"_source\"][\"lifespan\"]['to']['date']['date']\n",
    "    except:\n",
    "        death = \"\"\n",
    "    new_item['death'] = death\n",
    "    listSKBL.append(new_item)\n",
    "    i = i + 1 \n",
    "    #print (i)\n",
    "print (len(listSKBL) ,\" antal poster\")\n"
   ]
  },
  {
   "cell_type": "code",
   "execution_count": 8,
   "metadata": {},
   "outputs": [],
   "source": [
    "SKBLtot = pd.DataFrame(listSKBL,\n",
    "                  columns=['skblid','publishedDate','article_author_firstname','article_author_lastname',\n",
    "                          'subtitle_sv','name_lastname','name_firstname','born','death'])"
   ]
  },
  {
   "cell_type": "code",
   "execution_count": 9,
   "metadata": {
    "scrolled": true
   },
   "outputs": [
    {
     "name": "stdout",
     "output_type": "stream",
     "text": [
      "<class 'pandas.core.frame.DataFrame'>\n",
      "RangeIndex: 1592 entries, 0 to 1591\n",
      "Data columns (total 9 columns):\n",
      " #   Column                    Non-Null Count  Dtype \n",
      "---  ------                    --------------  ----- \n",
      " 0   skblid                    1592 non-null   object\n",
      " 1   publishedDate             1592 non-null   object\n",
      " 2   article_author_firstname  1592 non-null   object\n",
      " 3   article_author_lastname   1592 non-null   object\n",
      " 4   subtitle_sv               1592 non-null   object\n",
      " 5   name_lastname             1592 non-null   object\n",
      " 6   name_firstname            1592 non-null   object\n",
      " 7   born                      1592 non-null   object\n",
      " 8   death                     1592 non-null   object\n",
      "dtypes: object(9)\n",
      "memory usage: 112.1+ KB\n"
     ]
    }
   ],
   "source": [
    "SKBLtot.info()"
   ]
  },
  {
   "cell_type": "code",
   "execution_count": 10,
   "metadata": {
    "scrolled": true
   },
   "outputs": [],
   "source": [
    "#SKBLtot.sample(10)"
   ]
  },
  {
   "cell_type": "code",
   "execution_count": 11,
   "metadata": {},
   "outputs": [],
   "source": [
    "SKBLtot[\"publishedDate\"] = SKBLtot[\"publishedDate\"].astype(\"datetime64\")\n",
    "SKBLtot[\"Source\"] = \"SKBL\""
   ]
  },
  {
   "cell_type": "code",
   "execution_count": 12,
   "metadata": {},
   "outputs": [],
   "source": [
    "%matplotlib inline    \n",
    "import matplotlib.pyplot as plt   \n"
   ]
  },
  {
   "cell_type": "code",
   "execution_count": 13,
   "metadata": {},
   "outputs": [
    {
     "data": {
      "image/png": "[encoded data removed]",
      "text/plain": [
       "<Figure size 432x288 with 1 Axes>"
      ]
     },
     "metadata": {},
     "output_type": "display_data"
    }
   ],
   "source": [
    "plotPublishedAuthor = SKBLtot  \n",
    "  \n",
    "plotPublishedAuthor[\"Author\"] = plotPublishedAuthor[\"article_author_firstname\"] + \" \" + plotPublishedAuthor[\"article_author_lastname\"]   \n",
    "plotAuthor = plotPublishedAuthor[\"Author\"].value_counts()[:20]\n",
    "plotAuthor.plot( kind = 'pie') \n",
    "plt.title(\"SKBL authors -20\")\n",
    "plt.show()"
   ]
  },
  {
   "cell_type": "code",
   "execution_count": 14,
   "metadata": {},
   "outputs": [
    {
     "data": {
      "image/png": "[encoded data removed]",
      "text/plain": [
       "<Figure size 432x288 with 1 Axes>"
      ]
     },
     "metadata": {},
     "output_type": "display_data"
    }
   ],
   "source": [
    "plotAuthor = plotPublishedAuthor[\"Author\"].value_counts()[20:50]\n",
    "plotAuthor.plot( kind = 'pie') \n",
    "plt.title(\"SKBL authors 20-50\")\n",
    "plt.show()"
   ]
  },
  {
   "cell_type": "code",
   "execution_count": 15,
   "metadata": {},
   "outputs": [
    {
     "data": {
      "image/png": "[encoded data removed]",
      "text/plain": [
       "<Figure size 432x288 with 1 Axes>"
      ]
     },
     "metadata": {
      "needs_background": "light"
     },
     "output_type": "display_data"
    }
   ],
   "source": [
    "#plotPublishedperMonth = dfSKBLAuthorcsv['publishedDate'].groupby(df['last_payout'].dt.to_period('M')).sum().plot(kind='bar')\n",
    "#plotPublishedperMonth = dfSKBLAuthorcsv['publishedDate'].groupby([dfSKBLAuthorcsv.publishedDate.year,dfSKBLAuthorcsv.publishedDate.month].agg('count'))\n",
    "plotPublishedperMonth = SKBLtot['publishedDate'].groupby(SKBLtot.publishedDate.dt.to_period(\"M\")).agg('count')\n",
    "plotPublishedperMonth.plot( kind = 'bar') \n",
    "plt.title(\"SKBL articles published per month - \")\n",
    "plt.savefig('SKBLBarpublished.png')  \n",
    "plt.show()"
   ]
  },
  {
   "cell_type": "code",
   "execution_count": 16,
   "metadata": {},
   "outputs": [
    {
     "data": {
      "text/plain": [
       "publishedDate\n",
       "2018-03    1008\n",
       "2020-03     254\n",
       "2020-04      47\n",
       "2020-05      71\n",
       "2020-06      51\n",
       "2020-07      11\n",
       "2020-08      22\n",
       "2020-09      67\n",
       "2020-10      61\n",
       "Freq: M, Name: publishedDate, dtype: int64"
      ]
     },
     "execution_count": 16,
     "metadata": {},
     "output_type": "execute_result"
    }
   ],
   "source": [
    "plotPublishedperMonth"
   ]
  },
  {
   "cell_type": "code",
   "execution_count": 17,
   "metadata": {},
   "outputs": [
    {
     "data": {
      "text/plain": [
       "1592"
      ]
     },
     "execution_count": 17,
     "metadata": {},
     "output_type": "execute_result"
    }
   ],
   "source": [
    "plotPublishedperMonth.sum()"
   ]
  },
  {
   "cell_type": "code",
   "execution_count": 18,
   "metadata": {},
   "outputs": [
    {
     "name": "stdout",
     "output_type": "stream",
     "text": [
      "Nr articles left to the goal 2000 =  408\n"
     ]
    }
   ],
   "source": [
    "print(\"Nr articles left to the goal 2000 = \",2000- plotPublishedperMonth.sum())"
   ]
  },
  {
   "cell_type": "code",
   "execution_count": 19,
   "metadata": {},
   "outputs": [
    {
     "name": "stdout",
     "output_type": "stream",
     "text": [
      "Nr working days left = 49 ==> Articles per day needed =  8.326530612244898\n"
     ]
    }
   ],
   "source": [
    "#Nr working days to 2021 when we should have 2000 profiles\n",
    "print(\"Nr working days left =\",pd.bdate_range(datetime.today(),'2021-01-01').value_counts().sum(),\n",
    "      \"==> Articles per day needed = \",(2000- plotPublishedperMonth.sum())/pd.bdate_range(datetime.today(),'2021-01-01').value_counts().sum())"
   ]
  },
  {
   "cell_type": "code",
   "execution_count": 20,
   "metadata": {},
   "outputs": [],
   "source": [
    "#plotPublishedAccumalted"
   ]
  },
  {
   "cell_type": "code",
   "execution_count": 21,
   "metadata": {},
   "outputs": [
    {
     "data": {
      "image/png": "[encoded data removed]",
      "text/plain": [
       "<Figure size 432x288 with 1 Axes>"
      ]
     },
     "metadata": {},
     "output_type": "display_data"
    }
   ],
   "source": [
    "plotPublishedperMonth.plot( kind = 'pie') \n",
    "plt.title(\"SKBL articles published per month\") \n",
    "plt.savefig('SKBLPiepublished.png')\n",
    "plt.show()"
   ]
  },
  {
   "cell_type": "code",
   "execution_count": 22,
   "metadata": {},
   "outputs": [],
   "source": [
    "pd.set_option('display.max_rows', None) \n",
    "# Sort latest first \n",
    "#dfSKBLAuthorcsv.sort_values(by=['publishedDate'], ascending=[False])"
   ]
  },
  {
   "cell_type": "code",
   "execution_count": 23,
   "metadata": {},
   "outputs": [
    {
     "data": {
      "text/plain": [
       "both         1588\n",
       "SKBL_only       4\n",
       "Name: WD_SKBL, dtype: int64"
      ]
     },
     "execution_count": 23,
     "metadata": {},
     "output_type": "execute_result"
    }
   ],
   "source": [
    "from IPython.display import display, HTML  \n",
    "\n",
    "plotPublishedAuthor[\"Link\"] = \"<a href='https://skbl.se/sv/artikel/\" + plotPublishedAuthor['skblid'].astype(str) + \"'>SKBL web</a>\"\n",
    "plotPublishedAuthor[\"Linkjson\"] = \"<a href='https://skbl.se/sv/artikel/\" + plotPublishedAuthor['skblid'].astype(str) + \".json'>SKBL Json</a>\"\n",
    "\n",
    "# Merge plotPublishedAuthor WDSKBLtot  \n",
    "mergeSKBLWD = pd.merge(WDSKBLtot, plotPublishedAuthor,how='outer', on='skblid',indicator=True)   \n",
    "mergeSKBLWD.rename(columns={\"_merge\": \"WD_SKBL\"},inplace = True)\n",
    "mergeSKBLWD['WD_SKBL'] = mergeSKBLWD['WD_SKBL'].str.replace('left_only','WD_only').str.replace('right_only','SKBL_only')\n",
    "mergeSKBLWD[\"WD_SKBL\"].value_counts()  \n"
   ]
  },
  {
   "cell_type": "markdown",
   "metadata": {},
   "source": [
    "# Latest articles published in SKBL"
   ]
  },
  {
   "cell_type": "code",
   "execution_count": 24,
   "metadata": {},
   "outputs": [],
   "source": [
    "#mergeSKBLWD.info()"
   ]
  },
  {
   "cell_type": "code",
   "execution_count": 25,
   "metadata": {},
   "outputs": [
    {
     "data": {
      "text/html": [
       "<table border=\"1\" class=\"dataframe\">\n",
       "  <thead>\n",
       "    <tr style=\"text-align: right;\">\n",
       "      <th></th>\n",
       "      <th>Link</th>\n",
       "      <th>WD_SKBL</th>\n",
       "      <th>WikidataID</th>\n",
       "      <th>Linkjson</th>\n",
       "      <th>skblid</th>\n",
       "      <th>svWikipedia</th>\n",
       "      <th>publishedDate</th>\n",
       "      <th>Wikidata</th>\n",
       "      <th>subtitle_sv</th>\n",
       "    </tr>\n",
       "  </thead>\n",
       "  <tbody>\n",
       "    <tr>\n",
       "      <th>0</th>\n",
       "      <td><a href='https://skbl.se/sv/artikel/FredricaLof'>SKBL web</a></td>\n",
       "      <td>SKBL_only</td>\n",
       "      <td>NaN</td>\n",
       "      <td><a href='https://skbl.se/sv/artikel/FredricaLof.json'>SKBL Json</a></td>\n",
       "      <td>FredricaLof</td>\n",
       "      <td><a href='https://www.wikidata.org/wiki/Special:GoToLinkedPage/svwiki/nan'>svWiki</a></td>\n",
       "      <td>2020-10-27</td>\n",
       "      <td><a href='https://www.wikidata.org/wiki/nan'>Wikidata</a></td>\n",
       "      <td>Skådespelare, kurtisan, kulturpersonlighet</td>\n",
       "    </tr>\n",
       "    <tr>\n",
       "      <th>1</th>\n",
       "      <td><a href='https://skbl.se/sv/artikel/MillanBoy'>SKBL web</a></td>\n",
       "      <td>SKBL_only</td>\n",
       "      <td>NaN</td>\n",
       "      <td><a href='https://skbl.se/sv/artikel/MillanBoy.json'>SKBL Json</a></td>\n",
       "      <td>MillanBoy</td>\n",
       "      <td><a href='https://www.wikidata.org/wiki/Special:GoToLinkedPage/svwiki/nan'>svWiki</a></td>\n",
       "      <td>2020-10-27</td>\n",
       "      <td><a href='https://www.wikidata.org/wiki/nan'>Wikidata</a></td>\n",
       "      <td>Musiklärare, en av de första afrosvenska kvinnorna</td>\n",
       "    </tr>\n",
       "    <tr>\n",
       "      <th>2</th>\n",
       "      <td><a href='https://skbl.se/sv/artikel/AnneLiNorberg'>SKBL web</a></td>\n",
       "      <td>both</td>\n",
       "      <td>Q4969902</td>\n",
       "      <td><a href='https://skbl.se/sv/artikel/AnneLiNorberg.json'>SKBL Json</a></td>\n",
       "      <td>AnneLiNorberg</td>\n",
       "      <td><a href='https://www.wikidata.org/wiki/Special:GoToLinkedPage/svwiki/Q4969902'>svWiki</a></td>\n",
       "      <td>2020-10-27</td>\n",
       "      <td><a href='https://www.wikidata.org/wiki/Q4969902'>Wikidata</a></td>\n",
       "      <td>Skådespelare, lärare</td>\n",
       "    </tr>\n",
       "    <tr>\n",
       "      <th>3</th>\n",
       "      <td><a href='https://skbl.se/sv/artikel/MimmoWahlander'>SKBL web</a></td>\n",
       "      <td>both</td>\n",
       "      <td>Q4990784</td>\n",
       "      <td><a href='https://skbl.se/sv/artikel/MimmoWahlander.json'>SKBL Json</a></td>\n",
       "      <td>MimmoWahlander</td>\n",
       "      <td><a href='https://www.wikidata.org/wiki/Special:GoToLinkedPage/svwiki/Q4990784'>svWiki</a></td>\n",
       "      <td>2020-10-27</td>\n",
       "      <td><a href='https://www.wikidata.org/wiki/Q4990784'>Wikidata</a></td>\n",
       "      <td>Skådespelare</td>\n",
       "    </tr>\n",
       "    <tr>\n",
       "      <th>4</th>\n",
       "      <td><a href='https://skbl.se/sv/artikel/IngridafStrom'>SKBL web</a></td>\n",
       "      <td>both</td>\n",
       "      <td>Q46998347</td>\n",
       "      <td><a href='https://skbl.se/sv/artikel/IngridafStrom.json'>SKBL Json</a></td>\n",
       "      <td>IngridafStrom</td>\n",
       "      <td><a href='https://www.wikidata.org/wiki/Special:GoToLinkedPage/svwiki/Q46998347'>svWiki</a></td>\n",
       "      <td>2020-10-27</td>\n",
       "      <td><a href='https://www.wikidata.org/wiki/Q46998347'>Wikidata</a></td>\n",
       "      <td>Modejournalist, designer, konstnär</td>\n",
       "    </tr>\n",
       "    <tr>\n",
       "      <th>5</th>\n",
       "      <td><a href='https://skbl.se/sv/artikel/IngegerdHenschenIngvar'>SKBL web</a></td>\n",
       "      <td>SKBL_only</td>\n",
       "      <td>NaN</td>\n",
       "      <td><a href='https://skbl.se/sv/artikel/IngegerdHenschenIngvar.json'>SKBL Json</a></td>\n",
       "      <td>IngegerdHenschenIngvar</td>\n",
       "      <td><a href='https://www.wikidata.org/wiki/Special:GoToLinkedPage/svwiki/nan'>svWiki</a></td>\n",
       "      <td>2020-10-27</td>\n",
       "      <td><a href='https://www.wikidata.org/wiki/nan'>Wikidata</a></td>\n",
       "      <td>Konsthistoriker, forskare</td>\n",
       "    </tr>\n",
       "    <tr>\n",
       "      <th>6</th>\n",
       "      <td><a href='https://skbl.se/sv/artikel/LeonieDeshayes'>SKBL web</a></td>\n",
       "      <td>SKBL_only</td>\n",
       "      <td>NaN</td>\n",
       "      <td><a href='https://skbl.se/sv/artikel/LeonieDeshayes.json'>SKBL Json</a></td>\n",
       "      <td>LeonieDeshayes</td>\n",
       "      <td><a href='https://www.wikidata.org/wiki/Special:GoToLinkedPage/svwiki/nan'>svWiki</a></td>\n",
       "      <td>2020-10-27</td>\n",
       "      <td><a href='https://www.wikidata.org/wiki/nan'>Wikidata</a></td>\n",
       "      <td>Kontorschef, rösträttskvinna, donator</td>\n",
       "    </tr>\n",
       "    <tr>\n",
       "      <th>7</th>\n",
       "      <td><a href='https://skbl.se/sv/artikel/AnnaKarolinaLenaLarsson'>SKBL web</a></td>\n",
       "      <td>both</td>\n",
       "      <td>Q53108512</td>\n",
       "      <td><a href='https://skbl.se/sv/artikel/AnnaKarolinaLenaLarsson.json'>SKBL Json</a></td>\n",
       "      <td>AnnaKarolinaLenaLarsson</td>\n",
       "      <td><a href='https://www.wikidata.org/wiki/Special:GoToLinkedPage/svwiki/Q53108512'>svWiki</a></td>\n",
       "      <td>2020-10-26</td>\n",
       "      <td><a href='https://www.wikidata.org/wiki/Q53108512'>Wikidata</a></td>\n",
       "      <td>Vissångare</td>\n",
       "    </tr>\n",
       "    <tr>\n",
       "      <th>8</th>\n",
       "      <td><a href='https://skbl.se/sv/artikel/UlrikaLindholm'>SKBL web</a></td>\n",
       "      <td>both</td>\n",
       "      <td>Q100919071</td>\n",
       "      <td><a href='https://skbl.se/sv/artikel/UlrikaLindholm.json'>SKBL Json</a></td>\n",
       "      <td>UlrikaLindholm</td>\n",
       "      <td><a href='https://www.wikidata.org/wiki/Special:GoToLinkedPage/svwiki/Q100919071'>svWiki</a></td>\n",
       "      <td>2020-10-26</td>\n",
       "      <td><a href='https://www.wikidata.org/wiki/Q100919071'>Wikidata</a></td>\n",
       "      <td>Vissångare</td>\n",
       "    </tr>\n",
       "    <tr>\n",
       "      <th>9</th>\n",
       "      <td><a href='https://skbl.se/sv/artikel/AnnieWallen'>SKBL web</a></td>\n",
       "      <td>both</td>\n",
       "      <td>Q100919030</td>\n",
       "      <td><a href='https://skbl.se/sv/artikel/AnnieWallen.json'>SKBL Json</a></td>\n",
       "      <td>AnnieWallen</td>\n",
       "      <td><a href='https://www.wikidata.org/wiki/Special:GoToLinkedPage/svwiki/Q100919030'>svWiki</a></td>\n",
       "      <td>2020-10-26</td>\n",
       "      <td><a href='https://www.wikidata.org/wiki/Q100919030'>Wikidata</a></td>\n",
       "      <td>Fotograf</td>\n",
       "    </tr>\n",
       "  </tbody>\n",
       "</table>"
      ],
      "text/plain": [
       "<IPython.core.display.HTML object>"
      ]
     },
     "execution_count": 25,
     "metadata": {},
     "output_type": "execute_result"
    }
   ],
   "source": [
    "# de sista 10 publiserade biografier \n",
    "mergeSKBLWD = mergeSKBLWD.sort_values(by=['publishedDate'], ascending=[False])\n",
    "mergeSKBLWD = mergeSKBLWD.reset_index(drop=True)  \n",
    "mergeSKBLWD[\"Wikidata\"] = \"<a href='https://www.wikidata.org/wiki/\" + mergeSKBLWD['WikidataID'].astype(str) + \"'>Wikidata</a>\"\n",
    "mergeSKBLWD[\"svWikipedia\"] = \"<a href='https://www.wikidata.org/wiki/Special:GoToLinkedPage/svwiki/\" + mergeSKBLWD['WikidataID'].astype(str) + \"'>svWiki</a>\"\n",
    "\n",
    "HTML(mergeSKBLWD[{'publishedDate','WikidataID','Wikidata','skblid','subtitle_sv','WD_SKBL','Link','Linkjson','svWikipedia'}][:10].to_html(escape=False))\n"
   ]
  },
  {
   "cell_type": "markdown",
   "metadata": {},
   "source": [
    "## Compare SBL\n",
    "SBL started in 1918 and is published by the [National Archives](https://sok.riksarkivet.se/sbl/Start.aspx?lang=en) in Sweden. They have\n",
    "* No API\n",
    "* focus on publish on paper\n",
    "* dont have structured data\n",
    "* no understanding of [Linked data](https://vimeo.com/36752317)\n",
    "* we have before manually been adding links but also tried doing webscrabing to populate [Wikidata P3217](https://www.wikidata.org/wiki/Property_talk:P3217) now I guess we wait on SBL for delivering data as data see question asked [236883](https://phabricator.wikimedia.org/T236883) Oct 30 2019, 11:03 AM - no official answer so far and The Swedish National Archives has no helpdesk system were you get an unique helpdesk number ([some action was promised aug 2018 by Rolf Källman](https://twitter.com/salgo60/status/1030269242296414208?s=20) nothing heard)\n",
    "\n",
    "### Wikidata <-> SBL updated\n",
    "We did a NEW try getting structure from webscrabed data see [Jupyter Notebook](https://github.com/salgo60/open-data-examples/blob/master/SBL.ipynb) as SBL is non structured data we will get errors and also problem understand what is an article about a family and what is about a person.... "
   ]
  },
  {
   "cell_type": "code",
   "execution_count": 26,
   "metadata": {},
   "outputs": [],
   "source": [
    "# SPARQL \n",
    "querySBL = \"\"\"SELECT distinct (REPLACE(STR(?item), \".*Q\", \"Q\") AS ?WikidataID)  ?sblid  ?skblid ?genderLabel  WHERE {\n",
    "?item wdt:P31 wd:Q5.\n",
    "OPTIONAL {?item wdt:P21 ?gender}\n",
    "?item wdt:P3217 ?sblid\n",
    "OPTIONAL {?item wdt:P4963 ?skblid}\n",
    "SERVICE wikibase:label { bd:serviceParam wikibase:language \"en\". }\n",
    "} order by ?sblid \"\"\"\n",
    "\n",
    "\n",
    "WDSBLtot = get_sparql_dataframe(endpoint_url, querySBL)\n",
    "WDSBLtot[\"Source\"] = \"SBL\" \n",
    "#WDSBLtot.info()"
   ]
  },
  {
   "cell_type": "code",
   "execution_count": 27,
   "metadata": {},
   "outputs": [
    {
     "data": {
      "image/png": "[encoded data removed]",
      "text/plain": [
       "<Figure size 432x288 with 1 Axes>"
      ]
     },
     "metadata": {},
     "output_type": "display_data"
    }
   ],
   "source": [
    "plotSBLgender = WDSBLtot[\"genderLabel\"].value_counts()\n",
    "plotSBLgender.plot( kind = 'pie') \n",
    "plt.title(\"Riksarkivet SBL male/female\")\n",
    "plot = plotSBLgender.plot.pie( \\\n",
    "                   autopct='%1.0f%%', \\\n",
    "                   shadow=True, startangle=0)\n",
    "plt.title(\"SBL male vs. female articles 1918 - \" + start_time.strftime('%Y %m %d'))\n",
    "plt.savefig('SBLmalefemale.png')\n",
    "plt.show()"
   ]
  },
  {
   "cell_type": "code",
   "execution_count": 28,
   "metadata": {},
   "outputs": [
    {
     "data": {
      "text/plain": [
       "male                7071\n",
       "female               527\n",
       "transgender male       1\n",
       "Name: genderLabel, dtype: int64"
      ]
     },
     "execution_count": 28,
     "metadata": {},
     "output_type": "execute_result"
    }
   ],
   "source": [
    "plotSBLgender"
   ]
  },
  {
   "cell_type": "code",
   "execution_count": 29,
   "metadata": {},
   "outputs": [
    {
     "name": "stdout",
     "output_type": "stream",
     "text": [
      "<class 'pandas.core.frame.DataFrame'>\n",
      "RangeIndex: 7599 entries, 0 to 7598\n",
      "Data columns (total 5 columns):\n",
      " #   Column       Non-Null Count  Dtype \n",
      "---  ------       --------------  ----- \n",
      " 0   WikidataID   7599 non-null   object\n",
      " 1   sblid        7599 non-null   object\n",
      " 2   skblid       340 non-null    object\n",
      " 3   genderLabel  7599 non-null   object\n",
      " 4   Source       7599 non-null   object\n",
      "dtypes: object(5)\n",
      "memory usage: 297.0+ KB\n"
     ]
    }
   ],
   "source": [
    "WDSBLtot.info()"
   ]
  },
  {
   "cell_type": "code",
   "execution_count": 30,
   "metadata": {},
   "outputs": [
    {
     "data": {
      "text/html": [
       "<div>\n",
       "<style scoped>\n",
       "    .dataframe tbody tr th:only-of-type {\n",
       "        vertical-align: middle;\n",
       "    }\n",
       "\n",
       "    .dataframe tbody tr th {\n",
       "        vertical-align: top;\n",
       "    }\n",
       "\n",
       "    .dataframe thead th {\n",
       "        text-align: right;\n",
       "    }\n",
       "</style>\n",
       "<table border=\"1\" class=\"dataframe\">\n",
       "  <thead>\n",
       "    <tr style=\"text-align: right;\">\n",
       "      <th></th>\n",
       "      <th>WikidataID</th>\n",
       "      <th>sblid</th>\n",
       "      <th>skblid</th>\n",
       "      <th>genderLabel</th>\n",
       "      <th>Source</th>\n",
       "    </tr>\n",
       "  </thead>\n",
       "  <tbody>\n",
       "  </tbody>\n",
       "</table>\n",
       "</div>"
      ],
      "text/plain": [
       "Empty DataFrame\n",
       "Columns: [WikidataID, sblid, skblid, genderLabel, Source]\n",
       "Index: []"
      ]
     },
     "execution_count": 30,
     "metadata": {},
     "output_type": "execute_result"
    }
   ],
   "source": [
    "WDSBLtot[WDSBLtot.duplicated(subset=['WikidataID'])]"
   ]
  },
  {
   "cell_type": "code",
   "execution_count": 31,
   "metadata": {},
   "outputs": [
    {
     "data": {
      "text/plain": [
       "male                7071\n",
       "female               527\n",
       "transgender male       1\n",
       "Name: genderLabel, dtype: int64"
      ]
     },
     "execution_count": 31,
     "metadata": {},
     "output_type": "execute_result"
    }
   ],
   "source": [
    "plotSBLgender"
   ]
  },
  {
   "cell_type": "code",
   "execution_count": 32,
   "metadata": {},
   "outputs": [],
   "source": [
    "plotSBLfemale = WDSBLtot[WDSBLtot[\"genderLabel\"] == \"female\"] \n",
    "#plotSBLfemale[\"birth\"] = plotSBLfemale[\"birth\"].astype(\"datetime64\")\n",
    "#plotSBLfemale.info() "
   ]
  },
  {
   "cell_type": "code",
   "execution_count": 33,
   "metadata": {},
   "outputs": [
    {
     "name": "stdout",
     "output_type": "stream",
     "text": [
      "Ended:  2020-10-27 16:21:25.932598\n"
     ]
    }
   ],
   "source": [
    "end = datetime.now()\n",
    "print(\"Ended: \", end)"
   ]
  },
  {
   "cell_type": "code",
   "execution_count": 34,
   "metadata": {},
   "outputs": [],
   "source": [
    "dfmerge = pd.merge(plotSBLfemale, mergeSKBLWD,how='outer', on='WikidataID',indicator=True)"
   ]
  },
  {
   "cell_type": "code",
   "execution_count": 35,
   "metadata": {},
   "outputs": [],
   "source": [
    "#dfmerge.info()"
   ]
  },
  {
   "cell_type": "code",
   "execution_count": 36,
   "metadata": {},
   "outputs": [
    {
     "data": {
      "text/plain": [
       "right_only    1253\n",
       "both           339\n",
       "left_only      188\n",
       "Name: _merge, dtype: int64"
      ]
     },
     "execution_count": 36,
     "metadata": {},
     "output_type": "execute_result"
    }
   ],
   "source": [
    "dfmerge[\"_merge\"].value_counts()"
   ]
  },
  {
   "cell_type": "code",
   "execution_count": 37,
   "metadata": {},
   "outputs": [],
   "source": [
    "# both is number in bioth SBL and SKBL   \n",
    "# right_only is SBL\n",
    "# left_only is SKBL"
   ]
  },
  {
   "cell_type": "code",
   "execution_count": 38,
   "metadata": {},
   "outputs": [],
   "source": [
    "dfmerge['_merge'] = dfmerge['_merge'].str.replace('left_only','SBL_only').str.replace('right_only','SKBL_only')\n",
    "dfmerge.rename(columns={\"_merge\": \"SBL_SKBL\"},inplace = True)\n",
    "\n",
    "#dfmerge[0:10]  \n"
   ]
  },
  {
   "cell_type": "code",
   "execution_count": 39,
   "metadata": {},
   "outputs": [
    {
     "name": "stdout",
     "output_type": "stream",
     "text": [
      "<class 'pandas.core.frame.DataFrame'>\n",
      "Int64Index: 1780 entries, 0 to 1779\n",
      "Data columns (total 5 columns):\n",
      " #   Column         Non-Null Count  Dtype         \n",
      "---  ------         --------------  -----         \n",
      " 0   WikidataID     1776 non-null   object        \n",
      " 1   sblid          527 non-null    object        \n",
      " 2   skblid_x       339 non-null    object        \n",
      " 3   publishedDate  1592 non-null   datetime64[ns]\n",
      " 4   SBL_SKBL       1780 non-null   object        \n",
      "dtypes: datetime64[ns](1), object(4)\n",
      "memory usage: 83.4+ KB\n"
     ]
    }
   ],
   "source": [
    "mergeCheck = dfmerge[['WikidataID', 'sblid','skblid_x','publishedDate','SBL_SKBL']] \n",
    "mergeCheck.info() "
   ]
  },
  {
   "cell_type": "code",
   "execution_count": 40,
   "metadata": {},
   "outputs": [
    {
     "data": {
      "image/png": "[encoded data removed]",
      "text/plain": [
       "<Figure size 432x288 with 1 Axes>"
      ]
     },
     "metadata": {},
     "output_type": "display_data"
    }
   ],
   "source": [
    "mergeCheckNumber = mergeCheck[\"SBL_SKBL\"].value_counts()\n",
    "mergeCheckNumber.plot( kind = 'pie')  \n",
    "plot = mergeCheckNumber.plot.pie( \\\n",
    "                   autopct='%1.0f%%', \\\n",
    "                   shadow=True, startangle=0)\n",
    "plt.title(\"Wikidata statistics SBL vs SKBL female articles \" + start_time.strftime('%Y %m %d'))\n",
    "plt.savefig('SKBLSBLfemale.png')\n",
    "plt.show()\n"
   ]
  },
  {
   "cell_type": "code",
   "execution_count": 41,
   "metadata": {},
   "outputs": [
    {
     "data": {
      "text/plain": [
       "SKBL_only    1253\n",
       "both          339\n",
       "SBL_only      188\n",
       "Name: SBL_SKBL, dtype: int64"
      ]
     },
     "execution_count": 41,
     "metadata": {},
     "output_type": "execute_result"
    }
   ],
   "source": [
    "mergeCheckNumber"
   ]
  },
  {
   "cell_type": "code",
   "execution_count": 42,
   "metadata": {},
   "outputs": [],
   "source": [
    "#Profiles missing in SKBL that SBL has written = left_only \n",
    "WDSBLonly = mergeCheck[mergeCheck[\"SBL_SKBL\"] == \"SBL_only\"].copy() "
   ]
  },
  {
   "cell_type": "code",
   "execution_count": 43,
   "metadata": {},
   "outputs": [
    {
     "name": "stdout",
     "output_type": "stream",
     "text": [
      "<class 'pandas.core.frame.DataFrame'>\n",
      "Int64Index: 188 entries, 0 to 523\n",
      "Data columns (total 5 columns):\n",
      " #   Column         Non-Null Count  Dtype         \n",
      "---  ------         --------------  -----         \n",
      " 0   WikidataID     188 non-null    object        \n",
      " 1   sblid          188 non-null    object        \n",
      " 2   skblid_x       0 non-null      object        \n",
      " 3   publishedDate  0 non-null      datetime64[ns]\n",
      " 4   SBL_SKBL       188 non-null    object        \n",
      "dtypes: datetime64[ns](1), object(4)\n",
      "memory usage: 8.8+ KB\n"
     ]
    }
   ],
   "source": [
    "WDSBLonly.info()"
   ]
  },
  {
   "cell_type": "code",
   "execution_count": 44,
   "metadata": {},
   "outputs": [
    {
     "data": {
      "text/html": [
       "<table border=\"1\" class=\"dataframe\">\n",
       "  <thead>\n",
       "    <tr style=\"text-align: right;\">\n",
       "      <th></th>\n",
       "      <th>WikidataID</th>\n",
       "      <th>sbl</th>\n",
       "      <th>Wikidata</th>\n",
       "      <th>sblid</th>\n",
       "    </tr>\n",
       "  </thead>\n",
       "  <tbody>\n",
       "    <tr>\n",
       "      <th>496</th>\n",
       "      <td>Q3847259</td>\n",
       "      <td><a href='https://sok.riksarkivet.se/Sbl/Presentation.aspx?id=9107'>SBL web</a></td>\n",
       "      <td><a href='https://www.wikidata.org/wiki/Q3847259'>Wikidata</a></td>\n",
       "      <td>9107</td>\n",
       "    </tr>\n",
       "    <tr>\n",
       "      <th>497</th>\n",
       "      <td>Q235438</td>\n",
       "      <td><a href='https://sok.riksarkivet.se/Sbl/Presentation.aspx?id=9109'>SBL web</a></td>\n",
       "      <td><a href='https://www.wikidata.org/wiki/Q235438'>Wikidata</a></td>\n",
       "      <td>9109</td>\n",
       "    </tr>\n",
       "    <tr>\n",
       "      <th>499</th>\n",
       "      <td>Q4966895</td>\n",
       "      <td><a href='https://sok.riksarkivet.se/Sbl/Presentation.aspx?id=9243'>SBL web</a></td>\n",
       "      <td><a href='https://www.wikidata.org/wiki/Q4966895'>Wikidata</a></td>\n",
       "      <td>9243</td>\n",
       "    </tr>\n",
       "    <tr>\n",
       "      <th>501</th>\n",
       "      <td>Q3307503</td>\n",
       "      <td><a href='https://sok.riksarkivet.se/Sbl/Presentation.aspx?id=9294'>SBL web</a></td>\n",
       "      <td><a href='https://www.wikidata.org/wiki/Q3307503'>Wikidata</a></td>\n",
       "      <td>9294</td>\n",
       "    </tr>\n",
       "    <tr>\n",
       "      <th>502</th>\n",
       "      <td>Q16595847</td>\n",
       "      <td><a href='https://sok.riksarkivet.se/Sbl/Presentation.aspx?id=9334'>SBL web</a></td>\n",
       "      <td><a href='https://www.wikidata.org/wiki/Q16595847'>Wikidata</a></td>\n",
       "      <td>9334</td>\n",
       "    </tr>\n",
       "    <tr>\n",
       "      <th>505</th>\n",
       "      <td>Q38052554</td>\n",
       "      <td><a href='https://sok.riksarkivet.se/Sbl/Presentation.aspx?id=9348'>SBL web</a></td>\n",
       "      <td><a href='https://www.wikidata.org/wiki/Q38052554'>Wikidata</a></td>\n",
       "      <td>9348</td>\n",
       "    </tr>\n",
       "    <tr>\n",
       "      <th>506</th>\n",
       "      <td>Q13534119</td>\n",
       "      <td><a href='https://sok.riksarkivet.se/Sbl/Presentation.aspx?id=9352'>SBL web</a></td>\n",
       "      <td><a href='https://www.wikidata.org/wiki/Q13534119'>Wikidata</a></td>\n",
       "      <td>9352</td>\n",
       "    </tr>\n",
       "    <tr>\n",
       "      <th>508</th>\n",
       "      <td>Q4967436</td>\n",
       "      <td><a href='https://sok.riksarkivet.se/Sbl/Presentation.aspx?id=9360'>SBL web</a></td>\n",
       "      <td><a href='https://www.wikidata.org/wiki/Q4967436'>Wikidata</a></td>\n",
       "      <td>9360</td>\n",
       "    </tr>\n",
       "    <tr>\n",
       "      <th>515</th>\n",
       "      <td>Q115477</td>\n",
       "      <td><a href='https://sok.riksarkivet.se/Sbl/Presentation.aspx?id=9693'>SBL web</a></td>\n",
       "      <td><a href='https://www.wikidata.org/wiki/Q115477'>Wikidata</a></td>\n",
       "      <td>9693</td>\n",
       "    </tr>\n",
       "    <tr>\n",
       "      <th>516</th>\n",
       "      <td>Q130413</td>\n",
       "      <td><a href='https://sok.riksarkivet.se/Sbl/Presentation.aspx?id=9717'>SBL web</a></td>\n",
       "      <td><a href='https://www.wikidata.org/wiki/Q130413'>Wikidata</a></td>\n",
       "      <td>9717</td>\n",
       "    </tr>\n",
       "    <tr>\n",
       "      <th>517</th>\n",
       "      <td>Q232402</td>\n",
       "      <td><a href='https://sok.riksarkivet.se/Sbl/Presentation.aspx?id=9718'>SBL web</a></td>\n",
       "      <td><a href='https://www.wikidata.org/wiki/Q232402'>Wikidata</a></td>\n",
       "      <td>9718</td>\n",
       "    </tr>\n",
       "    <tr>\n",
       "      <th>520</th>\n",
       "      <td>Q41668701</td>\n",
       "      <td><a href='https://sok.riksarkivet.se/Sbl/Presentation.aspx?id=9782'>SBL web</a></td>\n",
       "      <td><a href='https://www.wikidata.org/wiki/Q41668701'>Wikidata</a></td>\n",
       "      <td>9782</td>\n",
       "    </tr>\n",
       "    <tr>\n",
       "      <th>521</th>\n",
       "      <td>Q527032</td>\n",
       "      <td><a href='https://sok.riksarkivet.se/Sbl/Presentation.aspx?id=9820'>SBL web</a></td>\n",
       "      <td><a href='https://www.wikidata.org/wiki/Q527032'>Wikidata</a></td>\n",
       "      <td>9820</td>\n",
       "    </tr>\n",
       "    <tr>\n",
       "      <th>522</th>\n",
       "      <td>Q4964115</td>\n",
       "      <td><a href='https://sok.riksarkivet.se/Sbl/Presentation.aspx?id=9841'>SBL web</a></td>\n",
       "      <td><a href='https://www.wikidata.org/wiki/Q4964115'>Wikidata</a></td>\n",
       "      <td>9841</td>\n",
       "    </tr>\n",
       "    <tr>\n",
       "      <th>523</th>\n",
       "      <td>Q16602175</td>\n",
       "      <td><a href='https://sok.riksarkivet.se/Sbl/Presentation.aspx?id=9853'>SBL web</a></td>\n",
       "      <td><a href='https://www.wikidata.org/wiki/Q16602175'>Wikidata</a></td>\n",
       "      <td>9853</td>\n",
       "    </tr>\n",
       "  </tbody>\n",
       "</table>"
      ],
      "text/plain": [
       "<IPython.core.display.HTML object>"
      ]
     },
     "execution_count": 44,
     "metadata": {},
     "output_type": "execute_result"
    }
   ],
   "source": [
    "WDSBLonly[\"sbl\"] = \"<a href='https://sok.riksarkivet.se/Sbl/Presentation.aspx?id=\" + WDSBLonly['sblid'].astype(str) + \"'>SBL web</a>\"\n",
    "WDSBLonly[\"Wikidata\"] = \"<a href='https://www.wikidata.org/wiki/\" + WDSBLonly['WikidataID'].astype(str) + \"'>Wikidata</a>\"\n",
    "\n",
    "pd.set_option('column_space', 20)\n",
    "pd.set_option('max_colwidth', 300)\n",
    "#List new SKBL articles not in Wikidata\n",
    "pd.set_option(\"display.max.columns\", None) \n",
    "HTML(WDSBLonly[{'WikidataID','Wikidata','sblid','sbl'}].tail(15).to_html(escape=False))"
   ]
  },
  {
   "cell_type": "markdown",
   "metadata": {},
   "source": [
    "### Same query in Wikidata \n",
    "* Find all women [in SBL but not in SKBL](https://w.wiki/bFw) < 190 women\n",
    "* Find all women [in SBL but not in SKBL and have an en:Wikipedia article](https://w.wiki/bFy) = 123 \n",
    "### Wikipedia articles linking SKBL \n",
    "* sv:Wikipedia [usage template Authority](https://sv.wikipedia.org/wiki/Kategori:Wikipediaartiklar_med_identifierare_fr%C3%A5n_SKBL) > 1460\n",
    "  * **[Issue 23](https://github.com/spraakbanken/skbl-portal/issues/23)** SKBL has no date when the article is  translated maybe bad \"workaround\" is check tag **text_eng** that is missing in a non translated article as [JosephineGabrielleMarcelleMeunierSainteClaire.json](https://skbl.se/sv/artikel/JosephineGabrielleMarcelleMeunierSainteClaire.json) compare translated [article](https://skbl.se/sv/artikel/JennyLind.json) and then check that all articles with **text_eng** has [template SBL](https://en.wikipedia.org/wiki/Category:SKBL_template_using_Wikidata_property_P4963)\n",
    "* en:Wikipedia [usage template SKBL](https://en.wikipedia.org/wiki/Category:SKBL_template_using_Wikidata_property_P4963) > 686 articles\n",
    "\n",
    "### Lists related to SKBL\n",
    "* en:Wikipedia [Women in Red SKBL](https://en.wikipedia.org/wiki/Wikipedia:WikiProject_Women_in_Red/Missing_articles_by_dictionary/BDSW) list with articles \"missing\" in en:Wikipedia but in SKBL\n",
    "* sv:Wikipedia [articles missing](https://w.wiki/Zun) but in SKBL\n"
   ]
  },
  {
   "cell_type": "code",
   "execution_count": 45,
   "metadata": {},
   "outputs": [
    {
     "name": "stdout",
     "output_type": "stream",
     "text": [
      "<class 'pandas.core.frame.DataFrame'>\n",
      "Int64Index: 188 entries, 0 to 523\n",
      "Data columns (total 7 columns):\n",
      " #   Column         Non-Null Count  Dtype         \n",
      "---  ------         --------------  -----         \n",
      " 0   WikidataID     188 non-null    object        \n",
      " 1   sblid          188 non-null    object        \n",
      " 2   skblid_x       0 non-null      object        \n",
      " 3   publishedDate  0 non-null      datetime64[ns]\n",
      " 4   SBL_SKBL       188 non-null    object        \n",
      " 5   sbl            188 non-null    object        \n",
      " 6   Wikidata       188 non-null    object        \n",
      "dtypes: datetime64[ns](1), object(6)\n",
      "memory usage: 11.8+ KB\n"
     ]
    }
   ],
   "source": [
    "WDSBLonly.info()"
   ]
  },
  {
   "cell_type": "code",
   "execution_count": 46,
   "metadata": {},
   "outputs": [
    {
     "data": {
      "text/plain": [
       "SKBL_only    1253\n",
       "both          339\n",
       "SBL_only      188\n",
       "Name: SBL_SKBL, dtype: int64"
      ]
     },
     "execution_count": 46,
     "metadata": {},
     "output_type": "execute_result"
    }
   ],
   "source": [
    "dfmerge[\"SBL_SKBL\"].value_counts()"
   ]
  },
  {
   "cell_type": "code",
   "execution_count": 47,
   "metadata": {},
   "outputs": [
    {
     "data": {
      "text/plain": [
       "both         1588\n",
       "SKBL_only       4\n",
       "Name: WD_SKBL, dtype: int64"
      ]
     },
     "execution_count": 47,
     "metadata": {},
     "output_type": "execute_result"
    }
   ],
   "source": [
    "mergeSKBLWD[\"WD_SKBL\"].value_counts() "
   ]
  },
  {
   "cell_type": "code",
   "execution_count": 48,
   "metadata": {},
   "outputs": [],
   "source": [
    "#List new SKBL articles not in Wikidata\n",
    "mergeSKBLWD_WDOnly = mergeSKBLWD[mergeSKBLWD[\"WD_SKBL\"] == \"SKBL_only\"].copy() \n",
    "mergeSKBLWD_WDOnly[\"linkjson\"] = \"<a href='https://www.skbl.se/sv/artikel/\" + mergeSKBLWD_WDOnly[\"skblid\"].astype(str) + \".json'>json</a>\"\n",
    "mergeSKBLWD_WDOnly[\"linkhtml\"] = \"<a href='https://www.skbl.se/sv/artikel/\" + mergeSKBLWD_WDOnly[\"skblid\"].astype(str) + \"'>html</a>\"\n",
    "\n",
    "pd.set_option(\"display.max.columns\", None) \n"
   ]
  },
  {
   "cell_type": "markdown",
   "metadata": {},
   "source": [
    "## New SKBL records\n",
    "missing in Wikidata"
   ]
  },
  {
   "cell_type": "code",
   "execution_count": 49,
   "metadata": {},
   "outputs": [
    {
     "data": {
      "text/html": [
       "<table border=\"1\" class=\"dataframe\">\n",
       "  <thead>\n",
       "    <tr style=\"text-align: right;\">\n",
       "      <th></th>\n",
       "      <th>linkhtml</th>\n",
       "      <th>WikidataID</th>\n",
       "      <th>skblid</th>\n",
       "      <th>publishedDate</th>\n",
       "      <th>linkjson</th>\n",
       "    </tr>\n",
       "  </thead>\n",
       "  <tbody>\n",
       "    <tr>\n",
       "      <th>0</th>\n",
       "      <td><a href='https://www.skbl.se/sv/artikel/FredricaLof'>html</a></td>\n",
       "      <td>NaN</td>\n",
       "      <td>FredricaLof</td>\n",
       "      <td>2020-10-27</td>\n",
       "      <td><a href='https://www.skbl.se/sv/artikel/FredricaLof.json'>json</a></td>\n",
       "    </tr>\n",
       "    <tr>\n",
       "      <th>1</th>\n",
       "      <td><a href='https://www.skbl.se/sv/artikel/MillanBoy'>html</a></td>\n",
       "      <td>NaN</td>\n",
       "      <td>MillanBoy</td>\n",
       "      <td>2020-10-27</td>\n",
       "      <td><a href='https://www.skbl.se/sv/artikel/MillanBoy.json'>json</a></td>\n",
       "    </tr>\n",
       "    <tr>\n",
       "      <th>5</th>\n",
       "      <td><a href='https://www.skbl.se/sv/artikel/IngegerdHenschenIngvar'>html</a></td>\n",
       "      <td>NaN</td>\n",
       "      <td>IngegerdHenschenIngvar</td>\n",
       "      <td>2020-10-27</td>\n",
       "      <td><a href='https://www.skbl.se/sv/artikel/IngegerdHenschenIngvar.json'>json</a></td>\n",
       "    </tr>\n",
       "    <tr>\n",
       "      <th>6</th>\n",
       "      <td><a href='https://www.skbl.se/sv/artikel/LeonieDeshayes'>html</a></td>\n",
       "      <td>NaN</td>\n",
       "      <td>LeonieDeshayes</td>\n",
       "      <td>2020-10-27</td>\n",
       "      <td><a href='https://www.skbl.se/sv/artikel/LeonieDeshayes.json'>json</a></td>\n",
       "    </tr>\n",
       "  </tbody>\n",
       "</table>"
      ],
      "text/plain": [
       "<IPython.core.display.HTML object>"
      ]
     },
     "execution_count": 49,
     "metadata": {},
     "output_type": "execute_result"
    }
   ],
   "source": [
    "HTML(mergeSKBLWD_WDOnly[{'WikidataID','skblid','publishedDate','linkjson','linkhtml'}].tail(15).to_html(escape=False))"
   ]
  },
  {
   "cell_type": "code",
   "execution_count": 50,
   "metadata": {},
   "outputs": [],
   "source": [
    "#SKBLtot.info() \n",
    "#SKBLtot[SKBLtot['skblid'].str.contains(\"AlmaIsabelSofiaHedin\")] \n",
    "#df['Position'].str.contains(\"PG\")"
   ]
  },
  {
   "cell_type": "markdown",
   "metadata": {},
   "source": [
    "***TODO***\n",
    "create a quickstament URL see [help](https://www.wikidata.org/wiki/Help:QuickStatements#Running_QuickStatements_through_URL)\n",
    "\n",
    "* SKBL property \n",
    "** P4963 \n",
    "* Described by\n",
    "** P1343 Q50395049\n",
    "* Language Swedish / English\n",
    "** P407\n",
    "***  Q9027\n",
    "***  Q1860\n",
    "* Title \n",
    "** P1476\n",
    "* Retrieved date \n",
    "** P813\n",
    "\n",
    "TBD create URLS\n",
    "https://quickstatements.toolforge.org/#/v1=Q4953125%7CP4963%7C%22AlmaIsabelSofiaHedin%22\n",
    "\n",
    "* Q4953125\n",
    "* P4963 AlmaIsabelSofiaHedin\n",
    "\n",
    "https://quickstatements.toolforge.org/#/v1=Q4953125%7CP1343%7CQ50395049\n",
    "https://quickstatements.toolforge.org/#/v1=Q4953125%7CP1343%7CQ50395049%7CS4963%7C%22AlmaIsabelSofiaHedin%22\n",
    "https://quickstatements.toolforge.org/#/v1=Q4953125%7CP1343%7CQ50395049%7CP407%7CQ9027%7CP407%7CQ1860%7CS4963%7C%22AlmaIsabelSofiaHedin%22  \n",
    "\n",
    "https://quickstatements.toolforge.org/#/v1=Q22696925%7CP1343%7CQ50395049%7CP407%7CQ9027%7CP407%7CQ1860%7CS4963%7C%22AnnaMariaHoke0%22 \n",
    "\n",
    "\n",
    "* P1343 Q50395049\n",
    "* P407 Q9027 \n",
    "* P407 Q1860\n",
    "* P4963 AlmaIsabelSofiaHedin\n",
    "* P813 date \n",
    "Alma Isabel Sofia Hedin 1876-04-22 — 1958-05-21 Filantrop, politiker\n",
    "* P1476 + \" \" + NAME? + \" \" BORN? + \" - \" ?DEATH + \" \" + subtitle_sv\n",
    "\n",
    "https://quickstatements.toolforge.org/#/v1=Q22696925%7CP1343%7CQ50395049%7CP407%7CQ9027%7CP407%7CQ1860%7CS4963%7C%22AnnaMariaHoke0%22 \n",
    "+ P813 +\n",
    "\n",
    "Create new record \n",
    "\n",
    "e.g. \n",
    "Ulla-Britt Englund\n",
    "1928-06-27   \n",
    "2020-05-20   \n",
    "Smögens församling  \n",
    "Göteborg    \n",
    "Idrottare, idrottslärare\n",
    "\n",
    "\n",
    "\n",
    "\n",
    "\n",
    "\n",
    "\n",
    "\n"
   ]
  },
  {
   "cell_type": "code",
   "execution_count": 51,
   "metadata": {},
   "outputs": [
    {
     "name": "stdout",
     "output_type": "stream",
     "text": [
      "Ended:  2020-10-27 16:21:26.235853\n",
      "Time elapsed (hh:mm:ss.ms) 0:00:16.448823\n"
     ]
    }
   ],
   "source": [
    "end = datetime.now()\n",
    "print(\"Ended: \", end) \n",
    "print('Time elapsed (hh:mm:ss.ms) {}'.format(datetime.now() - start_time))"
   ]
  },
  {
   "cell_type": "markdown",
   "metadata": {},
   "source": [
    "### more links \n",
    "  * this [Jupyter Notebook](https://github.com/salgo60/open-data-examples/blob/master/Svenskt%20Kvinnobiografiskt%20lexikon%20part%203.ipynb) [tinyurl.com/SKBLSBL](https://tinyurl.com/SKBLSBL)\n",
    "    * [part 1](https://github.com/salgo60/open-data-examples/blob/master/Svenskt%20Kvinnobiografiskt%20lexikon.ipynb) check Wikidata and SKBL - obsolete is done in this Notebook \n",
    "    * [part 2](https://github.com/salgo60/open-data-examples/blob/master/Svenskt%20Kvinnobiografiskt%20lexikon%20part%202.ipynb) more queries etc.\n",
    "    * [part 4](https://github.com/salgo60/open-data-examples/blob/master/Svenskt%20Kvinnobiografiskt%20lexikon%20part%204.ipynb) test extract archives\n",
    "    * [part 5](https://github.com/salgo60/open-data-examples/blob/master/Svenskt%20Kvinnobiografiskt%20lexikon%20part%205.ipynb) check Uppsala University Alvin\n",
    "    * [SKBL issue board](https://github.com/spraakbanken/skbl-portal/issues) on GitHub\n",
    "      * open [SKBL 23](https://github.com/spraakbanken/skbl-portal/issues/23) field when translated\n",
    "      * "
   ]
  },
  {
   "cell_type": "code",
   "execution_count": null,
   "metadata": {},
   "outputs": [],
   "source": []
  }
 ],
 "metadata": {
  "kernelspec": {
   "display_name": "Python 3",
   "language": "python",
   "name": "python3"
  },
  "language_info": {
   "codemirror_mode": {
    "name": "ipython",
    "version": 3
   },
   "file_extension": ".py",
   "mimetype": "text/x-python",
   "name": "python",
   "nbconvert_exporter": "python",
   "pygments_lexer": "ipython3",
   "version": "3.8.0"
  }
 },
 "nbformat": 4,
 "nbformat_minor": 4
}
