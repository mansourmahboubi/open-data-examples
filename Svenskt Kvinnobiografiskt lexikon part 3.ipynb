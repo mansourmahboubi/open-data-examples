{
 "cells": [
  {
   "cell_type": "markdown",
   "metadata": {},
   "source": [
    "# Svenskt Kvinnobiografiskt lexikon part 3\n",
    "version part 3 - 1.10\n",
    "\n",
    "\n",
    "* this [Jupyter Notebook](https://github.com/salgo60/open-data-examples/blob/master/Svenskt%20Kvinnobiografiskt%20lexikon%20part%203.ipynb) \n",
    "  * [part 1](https://github.com/salgo60/open-data-examples/blob/master/Svenskt%20Kvinnobiografiskt%20lexikon.ipynb) check Wikidata and SKBL\n",
    "  * [part 2](https://github.com/salgo60/open-data-examples/blob/master/Svenskt%20Kvinnobiografiskt%20lexikon%20part%202.ipynb) more queries etc.\n",
    "* [video](https://www.youtube.com/watch?v=6jxH8MBIhvg) in Swedish about how SKBL deliver and work with Wikidata\n",
    "  * Example how project Women in Red at en:Wikipedia automatic [creates list](https://en.wikipedia.org/wiki/Wikipedia:WikiProject_Women_in_Red/Missing_articles_by_dictionary/BDSW) that shows what in SKBL has an english article about a women but not have an english article in en:Wikipedia\n",
    "    * see [version history](https://en.wikipedia.org/w/index.php?title=Wikipedia:WikiProject_Women_in_Red/Missing_articles_by_dictionary/BDSW&action=history) of list created\n",
    "    * see en:Wikipedia articles [with a link to SKBL](https://en.wikipedia.org/wiki/Category:SKBL_template_using_Wikidata_property_P4963) > 680 articles"
   ]
  },
  {
   "cell_type": "markdown",
   "metadata": {},
   "source": [
    "# Get metadata from SKBL and use it on the articles using Wikidata\n",
    "Test getting the author data from SKBL  \n",
    "\n",
    "If we get this data with license [CC0](https://creativecommons.org/share-your-work/public-domain/cc0/) \"No rights reserved\" we can store it in [Wikidata](https://www.wikidata.org/wiki/Wikidata:Licensing) and use it on all > 1500 articles in [sv:Wikipedia](https://sv.wikipedia.org/wiki/Kategori:SKBL) and [en:Wikipedia](https://en.wikipedia.org/wiki/Category:SKBL_template_using_Wikidata_property_P4963) using the [template SKBL](https://en.wikipedia.org/wiki/Template:SKBL) see also [Template Talk SKBL](https://en.wikipedia.org/wiki/Template_talk:SKBL#Store_author_in_Wikidata_and_use_in_the_SKBL_template) \n",
    "\n",
    "and display who the author is of the article in SKBL e.g. \n",
    "* Nauman, Sari [Ulrika Eleonora d.y., drottning](https://skbl.se/en/article/UlrikaEleonoradydrottning) at [Svenskt kvinnobiografiskt lexikon](https://en.wikipedia.org/wiki/Svenskt_kvinnobiografiskt_lexikon)\n",
    "\n",
    "**See also**\n",
    "* video [Introduction to WIkidata](https://www.youtube.com/watch?v=m_9_23jXPoE)"
   ]
  },
  {
   "cell_type": "markdown",
   "metadata": {},
   "source": [
    "# Wikidata"
   ]
  },
  {
   "cell_type": "code",
   "execution_count": 1,
   "metadata": {},
   "outputs": [
    {
     "name": "stdout",
     "output_type": "stream",
     "text": [
      "Last run:  2020-09-04 17:01:55.668861\n"
     ]
    }
   ],
   "source": [
    "# pip install sparqlwrapper\n",
    "# https://rdflib.github.io/sparqlwrapper/\n",
    "\n",
    "import sys,json\n",
    "import pandas as pd \n",
    "from datetime import datetime\n",
    "\n",
    "now = datetime.now()\n",
    "print(\"Last run: \", now)\n",
    "from SPARQLWrapper import SPARQLWrapper, JSON\n",
    "\n",
    "endpoint_url = \"https://query.wikidata.org/sparql\"\n",
    "\n",
    "querySKBL = \"\"\"SELECT (REPLACE(STR(?item), \".*Q\", \"Q\") AS ?wid)  ?skblid WHERE {\n",
    "?item wdt:P31 wd:Q5.\n",
    "?item wdt:P4963 ?skblid\n",
    "} order by ?skbl\"\"\"\n",
    "\n",
    "def get_sparql_dataframe(endpoint_url, query):\n",
    "    \"\"\"\n",
    "    Helper function to convert SPARQL results into a Pandas data frame.\n",
    "    \"\"\"\n",
    "    user_agent = \"salgo60/%s.%s\" % (sys.version_info[0], sys.version_info[1])\n",
    " \n",
    "    sparql = SPARQLWrapper(endpoint_url, agent=user_agent)\n",
    "    sparql.setQuery(query)\n",
    "    sparql.setReturnFormat(JSON)\n",
    "    result = sparql.query()\n",
    "\n",
    "    processed_results = json.load(result.response)\n",
    "    cols = processed_results['head']['vars']\n",
    "\n",
    "    out = []\n",
    "    for row in processed_results['results']['bindings']:\n",
    "        item = []\n",
    "        for c in cols:\n",
    "            item.append(row.get(c, {}).get('value'))\n",
    "        out.append(item)\n",
    "\n",
    "    return pd.DataFrame(out, columns=cols)\n",
    "\n",
    "WDSKBLtot = get_sparql_dataframe(endpoint_url, querySKBL)\n",
    "WDSKBLtot[\"Source\"] = \"SKBL\" \n"
   ]
  },
  {
   "cell_type": "code",
   "execution_count": 2,
   "metadata": {},
   "outputs": [],
   "source": [
    "WDSKBLtot.sort_index(inplace=True)  "
   ]
  },
  {
   "cell_type": "code",
   "execution_count": 3,
   "metadata": {},
   "outputs": [
    {
     "name": "stdout",
     "output_type": "stream",
     "text": [
      "<class 'pandas.core.frame.DataFrame'>\n",
      "RangeIndex: 1478 entries, 0 to 1477\n",
      "Data columns (total 3 columns):\n",
      "wid       1478 non-null object\n",
      "skblid    1478 non-null object\n",
      "Source    1478 non-null object\n",
      "dtypes: object(3)\n",
      "memory usage: 34.8+ KB\n"
     ]
    }
   ],
   "source": [
    "WDSKBLtot.info()"
   ]
  },
  {
   "cell_type": "code",
   "execution_count": 4,
   "metadata": {
    "scrolled": false
   },
   "outputs": [
    {
     "name": "stdout",
     "output_type": "stream",
     "text": [
      "1478  antal poster\n"
     ]
    }
   ],
   "source": [
    "import csv  \n",
    "import urllib3, json\n",
    "http = urllib3.PoolManager() \n",
    "\n",
    "jsonURL = \"https://skbl.se/sv/artikel/\"\n",
    "listNewItems =[]\n",
    "for index,row in WDSKBLtot.iterrows():\n",
    "    url = jsonURL + row[\"skblid\"] + \".json\"\n",
    "    r = http.request('GET', url) \n",
    "    data = json.loads(r.data.decode('utf-8'))  \n",
    "    new_item = dict()\n",
    "    new_item['skblid'] = row[\"skblid\"]\n",
    "    new_item['wid'] = row[\"wid\"]\n",
    "    try:\n",
    "        publishedDate = data['publication_date']        \n",
    "    except:\n",
    "        publishedDate =\"\"\n",
    "    new_item['publishedDate'] = publishedDate\n",
    "    try:\n",
    "        article_author_firstname = data['article_author'][0]['firstname']\n",
    "    except:\n",
    "        article_author_firstname =\"\"\n",
    "    new_item['article_author_firstname'] = article_author_firstname\n",
    "    try:\n",
    "        article_author_lastname = data['article_author'][0]['lastname']\n",
    "    except:\n",
    "        article_author_lastname =\"\"\n",
    "    new_item['article_author_lastname'] = article_author_lastname\n",
    "    try:\n",
    "        subtitle_sv = data['subtitle']\n",
    "    except:\n",
    "        subtitle_sv =\"\"\n",
    "    new_item['subtitle_sv'] = subtitle_sv\n",
    "    try:\n",
    "        subtitle_eng = data['subtitle_eng']\n",
    "    except:\n",
    "        subtitle_eng =\"\"\n",
    "    new_item['subtitle_eng'] = subtitle_eng\n",
    "    try:\n",
    "        name_lastname = data['name']['lastname']\n",
    "    except:\n",
    "        name_lastname = \"\"\n",
    "    new_item['name_lastname'] = name_lastname\n",
    "    try:\n",
    "        name_firstname = data['name']['firstname']\n",
    "    except:\n",
    "        name_firstname = \"\"\n",
    "    new_item['name_firstname'] = name_firstname\n",
    "    listNewItems.append(new_item)\n",
    "print (len(listNewItems) ,\" antal poster\")\n"
   ]
  },
  {
   "cell_type": "code",
   "execution_count": 5,
   "metadata": {},
   "outputs": [],
   "source": [
    "if len(listNewItems) > 0:\n",
    "    keys = listNewItems[0].keys()\n",
    "    with open(\"SKBLAuthor_newfile.csv\", \"w\", newline='') as SKBLfile:\n",
    "        dict_writer = csv.DictWriter(SKBLfile, keys)\n",
    "        dict_writer.writeheader()\n",
    "        dict_writer.writerows(listNewItems)\n",
    "\n",
    "    dfSKBLAuthorcsv = pd.read_csv(\"SKBLAuthor_newfile.csv\", sep=\",\")   \n",
    "    \n",
    "else:\n",
    "    print (\"Ingen fil skapas inga nya poster\") \n",
    "            \n"
   ]
  },
  {
   "cell_type": "code",
   "execution_count": 58,
   "metadata": {
    "scrolled": true
   },
   "outputs": [
    {
     "name": "stdout",
     "output_type": "stream",
     "text": [
      "<class 'pandas.core.frame.DataFrame'>\n",
      "RangeIndex: 1478 entries, 0 to 1477\n",
      "Data columns (total 12 columns):\n",
      "skblid                      1478 non-null object\n",
      "wid                         1478 non-null object\n",
      "publishedDate               1478 non-null datetime64[ns]\n",
      "article_author_firstname    1476 non-null object\n",
      "article_author_lastname     1476 non-null object\n",
      "subtitle_sv                 1478 non-null object\n",
      "subtitle_eng                1475 non-null object\n",
      "name_lastname               1446 non-null object\n",
      "name_firstname              1478 non-null object\n",
      "Source                      1478 non-null object\n",
      "Author                      1476 non-null object\n",
      "Link                        1478 non-null object\n",
      "dtypes: datetime64[ns](1), object(11)\n",
      "memory usage: 138.7+ KB\n"
     ]
    }
   ],
   "source": [
    "dfSKBLAuthorcsv.info()"
   ]
  },
  {
   "cell_type": "markdown",
   "metadata": {},
   "source": [
    "## Store Authorname in WIkidata \n",
    "\n",
    "1. Step nr one is that we just add the author as a text string e.g.\n",
    "  1. Example article UlrikaEleonoradydrottning has in metadata json see line 1 below  \n",
    "\n",
    "    1. article_author_firstname: \"Sari\"\n",
    "    1. article_author_lastname: \"Nauman\" \n",
    "    \n",
    "I guess then we create a authorname string **Nauman, Sari**\n",
    "\n",
    "Many of the authors has an Wikipedia article on Swedish Wikipedia --> then we could add the author as a Wikilink e.g.\n",
    "Lisbeth Larsson [Q4961115](https://www.wikidata.org/wiki/Q4961115) is same as SKBL [articleauthor/Larsson, Lisbeth](https://skbl.se/en/articleauthor/Larsson%2C%20Lisbeth)  \n",
    "\n",
    "See also [en:Wikipedia:Template:Talk:SKBL](https://en.wikipedia.org/wiki/Template_talk:SKBL#Store_author_in_Wikidata_and_use_in_the_SKBL_template)"
   ]
  },
  {
   "cell_type": "code",
   "execution_count": 6,
   "metadata": {},
   "outputs": [],
   "source": [
    "dfSKBLAuthorcsv[\"publishedDate\"] = dfSKBLAuthorcsv[\"publishedDate\"].astype(\"datetime64\")\n",
    "dfSKBLAuthorcsv[\"Source\"] = \"SKBL\""
   ]
  },
  {
   "cell_type": "code",
   "execution_count": 7,
   "metadata": {},
   "outputs": [],
   "source": [
    "%matplotlib inline    \n",
    "import matplotlib.pyplot as plt   \n"
   ]
  },
  {
   "cell_type": "code",
   "execution_count": 37,
   "metadata": {},
   "outputs": [
    {
     "data": {
      "image/png": "[encoded data removed]",
      "text/plain": [
       "<Figure size 432x288 with 1 Axes>"
      ]
     },
     "metadata": {},
     "output_type": "display_data"
    }
   ],
   "source": [
    "plotPublishedAuthor =   dfSKBLAuthorcsv  \n",
    "  \n",
    "plotPublishedAuthor[\"Author\"] = plotPublishedAuthor[\"article_author_firstname\"] + \" \" + plotPublishedAuthor[\"article_author_lastname\"]   \n",
    "plotAuthor = plotPublishedAuthor[\"Author\"].value_counts()[:20]\n",
    "plotAuthor.plot( kind = 'pie') \n",
    "plt.title(\"SKBL authors -20\")\n",
    "plt.show()"
   ]
  },
  {
   "cell_type": "code",
   "execution_count": 38,
   "metadata": {},
   "outputs": [
    {
     "data": {
      "image/png": "[encoded data removed]",
      "text/plain": [
       "<Figure size 432x288 with 1 Axes>"
      ]
     },
     "metadata": {},
     "output_type": "display_data"
    }
   ],
   "source": [
    "plotAuthor = plotPublishedAuthor[\"Author\"].value_counts()[20:50]\n",
    "plotAuthor.plot( kind = 'pie') \n",
    "plt.title(\"SKBL authors 20-50\")\n",
    "plt.show()"
   ]
  },
  {
   "cell_type": "code",
   "execution_count": 40,
   "metadata": {},
   "outputs": [
    {
     "data": {
      "image/png": "[encoded data removed]",
      "text/plain": [
       "<Figure size 432x288 with 1 Axes>"
      ]
     },
     "metadata": {
      "needs_background": "light"
     },
     "output_type": "display_data"
    }
   ],
   "source": [
    "#plotPublishedperMonth = dfSKBLAuthorcsv['publishedDate'].groupby(df['last_payout'].dt.to_period('M')).sum().plot(kind='bar')\n",
    "#plotPublishedperMonth = dfSKBLAuthorcsv['publishedDate'].groupby([dfSKBLAuthorcsv.publishedDate.year,dfSKBLAuthorcsv.publishedDate.month].agg('count'))\n",
    "plotPublishedperMonth = dfSKBLAuthorcsv['publishedDate'].groupby(dfSKBLAuthorcsv.publishedDate.dt.to_period(\"M\")).agg('count')\n",
    "plotPublishedperMonth.plot( kind = 'bar') \n",
    "plt.title(\"SKBL articles published per month\")\n",
    "plt.show()"
   ]
  },
  {
   "cell_type": "code",
   "execution_count": 11,
   "metadata": {},
   "outputs": [
    {
     "data": {
      "text/plain": [
       "publishedDate\n",
       "2018-03    1008\n",
       "2020-03     254\n",
       "2020-04      47\n",
       "2020-05      71\n",
       "2020-06      51\n",
       "2020-07      11\n",
       "2020-08      22\n",
       "2020-09      14\n",
       "Freq: M, Name: publishedDate, dtype: int64"
      ]
     },
     "execution_count": 11,
     "metadata": {},
     "output_type": "execute_result"
    }
   ],
   "source": [
    "plotPublishedperMonth"
   ]
  },
  {
   "cell_type": "code",
   "execution_count": 41,
   "metadata": {},
   "outputs": [
    {
     "data": {
      "image/png": "[encoded data removed]",
      "text/plain": [
       "<Figure size 432x288 with 1 Axes>"
      ]
     },
     "metadata": {},
     "output_type": "display_data"
    }
   ],
   "source": [
    "plotPublishedperMonth.plot( kind = 'pie') \n",
    "plt.title(\"SKBL articles published per month\")\n",
    "plt.show()"
   ]
  },
  {
   "cell_type": "code",
   "execution_count": 13,
   "metadata": {},
   "outputs": [],
   "source": [
    "pd.set_option('display.max_rows', None) \n",
    "# Sort latest first \n",
    "#dfSKBLAuthorcsv.sort_values(by=['publishedDate'], ascending=[False])"
   ]
  },
  {
   "cell_type": "code",
   "execution_count": 43,
   "metadata": {},
   "outputs": [
    {
     "data": {
      "text/html": [
       "<div>\n",
       "<style scoped>\n",
       "    .dataframe tbody tr th:only-of-type {\n",
       "        vertical-align: middle;\n",
       "    }\n",
       "\n",
       "    .dataframe tbody tr th {\n",
       "        vertical-align: top;\n",
       "    }\n",
       "\n",
       "    .dataframe thead th {\n",
       "        text-align: right;\n",
       "    }\n",
       "</style>\n",
       "<table border=\"1\" class=\"dataframe\">\n",
       "  <thead>\n",
       "    <tr style=\"text-align: right;\">\n",
       "      <th></th>\n",
       "      <th>skblid</th>\n",
       "      <th>wid</th>\n",
       "      <th>publishedDate</th>\n",
       "      <th>article_author_firstname</th>\n",
       "      <th>article_author_lastname</th>\n",
       "      <th>subtitle_sv</th>\n",
       "      <th>subtitle_eng</th>\n",
       "      <th>name_lastname</th>\n",
       "      <th>name_firstname</th>\n",
       "      <th>Source</th>\n",
       "      <th>Author</th>\n",
       "      <th>Link</th>\n",
       "    </tr>\n",
       "  </thead>\n",
       "  <tbody>\n",
       "    <tr>\n",
       "      <th>0</th>\n",
       "      <td>BarbroKerstinElisabetSoderberg</td>\n",
       "      <td>Q98894908</td>\n",
       "      <td>2020-09-04</td>\n",
       "      <td>Anna-Malin</td>\n",
       "      <td>Karlsson</td>\n",
       "      <td>Professor, språkvetare</td>\n",
       "      <td>Professor, language researcher</td>\n",
       "      <td>Söderberg</td>\n",
       "      <td>/Barbro/ Kerstin Elisabet</td>\n",
       "      <td>SKBL</td>\n",
       "      <td>Anna-Malin Karlsson</td>\n",
       "      <td>https://skbl.se/sv/artikel/BarbroKerstinElisabetSoderberg</td>\n",
       "    </tr>\n",
       "    <tr>\n",
       "      <th>1</th>\n",
       "      <td>MarianneLindsten</td>\n",
       "      <td>Q4962945</td>\n",
       "      <td>2020-09-04</td>\n",
       "      <td>Jan</td>\n",
       "      <td>Thomasson</td>\n",
       "      <td>Provinsialläkare, pionjär, kvinnosakskvinna</td>\n",
       "      <td>Pioneering district medical officer, proponent of women&amp;apos;s issues</td>\n",
       "      <td>Lindstén</td>\n",
       "      <td>/Marianne/ Charlotta</td>\n",
       "      <td>SKBL</td>\n",
       "      <td>Jan Thomasson</td>\n",
       "      <td>https://skbl.se/sv/artikel/MarianneLindsten</td>\n",
       "    </tr>\n",
       "    <tr>\n",
       "      <th>2</th>\n",
       "      <td>ClaraNataliaTeresiaEuren</td>\n",
       "      <td>Q4988449</td>\n",
       "      <td>2020-09-04</td>\n",
       "      <td>Ulrika</td>\n",
       "      <td>Jannert Kallenberg</td>\n",
       "      <td>Författare, översättare, lärare</td>\n",
       "      <td>Author, translator, teacher</td>\n",
       "      <td>Eurén</td>\n",
       "      <td>Clara Natalia /Teresia/</td>\n",
       "      <td>SKBL</td>\n",
       "      <td>Ulrika Jannert Kallenberg</td>\n",
       "      <td>https://skbl.se/sv/artikel/ClaraNataliaTeresiaEuren</td>\n",
       "    </tr>\n",
       "    <tr>\n",
       "      <th>3</th>\n",
       "      <td>CarinWastberg</td>\n",
       "      <td>Q4990774</td>\n",
       "      <td>2020-09-04</td>\n",
       "      <td>Marie</td>\n",
       "      <td>Andersson</td>\n",
       "      <td>Textilkonstnär, direktör</td>\n",
       "      <td>Textile artist, director</td>\n",
       "      <td>Wästberg</td>\n",
       "      <td>/Carin/ Helena</td>\n",
       "      <td>SKBL</td>\n",
       "      <td>Marie Andersson</td>\n",
       "      <td>https://skbl.se/sv/artikel/CarinWastberg</td>\n",
       "    </tr>\n",
       "    <tr>\n",
       "      <th>4</th>\n",
       "      <td>MariaWidebeck</td>\n",
       "      <td>Q33043583</td>\n",
       "      <td>2020-09-03</td>\n",
       "      <td>Marie</td>\n",
       "      <td>Andersson</td>\n",
       "      <td>Textilkonstnär, formgivare</td>\n",
       "      <td>Textile artist, designer</td>\n",
       "      <td>Widebeck</td>\n",
       "      <td>/Maria/ Cecilia</td>\n",
       "      <td>SKBL</td>\n",
       "      <td>Marie Andersson</td>\n",
       "      <td>https://skbl.se/sv/artikel/MariaWidebeck</td>\n",
       "    </tr>\n",
       "    <tr>\n",
       "      <th>5</th>\n",
       "      <td>SaraWennerbergReuter</td>\n",
       "      <td>Q4990297</td>\n",
       "      <td>2020-09-03</td>\n",
       "      <td>Magdalena</td>\n",
       "      <td>Fronczak</td>\n",
       "      <td>Organist, kompositör, pionjär</td>\n",
       "      <td>Pioneering organist, composer</td>\n",
       "      <td>Wennerberg-Reuter</td>\n",
       "      <td>/Sara/ Margareta Eugenia Eufrosyne</td>\n",
       "      <td>SKBL</td>\n",
       "      <td>Magdalena Fronczak</td>\n",
       "      <td>https://skbl.se/sv/artikel/SaraWennerbergReuter</td>\n",
       "    </tr>\n",
       "    <tr>\n",
       "      <th>6</th>\n",
       "      <td>LottenEdholm</td>\n",
       "      <td>Q4945709</td>\n",
       "      <td>2020-09-03</td>\n",
       "      <td>Camilla</td>\n",
       "      <td>Bergvall</td>\n",
       "      <td>Hovfunktionär, pionjär inom svenska Röda Korset, kompositör</td>\n",
       "      <td>Court functionary, pioneer within the Swedish Red Cross, composer</td>\n",
       "      <td>Edholm</td>\n",
       "      <td>Lovisa (/Lotten/) Christina Charlotta</td>\n",
       "      <td>SKBL</td>\n",
       "      <td>Camilla Bergvall</td>\n",
       "      <td>https://skbl.se/sv/artikel/LottenEdholm</td>\n",
       "    </tr>\n",
       "    <tr>\n",
       "      <th>7</th>\n",
       "      <td>BirgitCarell</td>\n",
       "      <td>Q98842875</td>\n",
       "      <td>2020-09-03</td>\n",
       "      <td>Johanna</td>\n",
       "      <td>Overud</td>\n",
       "      <td>Konsulent, beredskapsivrare</td>\n",
       "      <td>Advisory officer, civil defence activist</td>\n",
       "      <td>Carell</td>\n",
       "      <td>Karin Anna /Birgit/</td>\n",
       "      <td>SKBL</td>\n",
       "      <td>Johanna Overud</td>\n",
       "      <td>https://skbl.se/sv/artikel/BirgitCarell</td>\n",
       "    </tr>\n",
       "    <tr>\n",
       "      <th>8</th>\n",
       "      <td>EvaFroberg</td>\n",
       "      <td>Q4949121</td>\n",
       "      <td>2020-09-02</td>\n",
       "      <td>Camilla</td>\n",
       "      <td>Bergvall</td>\n",
       "      <td>Godsägare, politiker, kvinnosakskvinna</td>\n",
       "      <td>Property owner, politician, proponent of women&amp;apos;s issues</td>\n",
       "      <td>Fröberg</td>\n",
       "      <td>/Eva/ Maria</td>\n",
       "      <td>SKBL</td>\n",
       "      <td>Camilla Bergvall</td>\n",
       "      <td>https://skbl.se/sv/artikel/EvaFroberg</td>\n",
       "    </tr>\n",
       "    <tr>\n",
       "      <th>9</th>\n",
       "      <td>GallieAkerhielm</td>\n",
       "      <td>Q18275056</td>\n",
       "      <td>2020-09-02</td>\n",
       "      <td>Ulrika</td>\n",
       "      <td>Jannert Kallenberg</td>\n",
       "      <td>Författare, journalist, översättare</td>\n",
       "      <td>Author, journalist, translator</td>\n",
       "      <td>Åkerhielm</td>\n",
       "      <td>/Gallie/</td>\n",
       "      <td>SKBL</td>\n",
       "      <td>Ulrika Jannert Kallenberg</td>\n",
       "      <td>https://skbl.se/sv/artikel/GallieAkerhielm</td>\n",
       "    </tr>\n",
       "  </tbody>\n",
       "</table>\n",
       "</div>"
      ],
      "text/plain": [
       "                           skblid  ...                                                       Link\n",
       "0  BarbroKerstinElisabetSoderberg  ...  https://skbl.se/sv/artikel/BarbroKerstinElisabetSoderberg\n",
       "1                MarianneLindsten  ...                https://skbl.se/sv/artikel/MarianneLindsten\n",
       "2        ClaraNataliaTeresiaEuren  ...        https://skbl.se/sv/artikel/ClaraNataliaTeresiaEuren\n",
       "3                   CarinWastberg  ...                   https://skbl.se/sv/artikel/CarinWastberg\n",
       "4                   MariaWidebeck  ...                   https://skbl.se/sv/artikel/MariaWidebeck\n",
       "5            SaraWennerbergReuter  ...            https://skbl.se/sv/artikel/SaraWennerbergReuter\n",
       "6                    LottenEdholm  ...                    https://skbl.se/sv/artikel/LottenEdholm\n",
       "7                    BirgitCarell  ...                    https://skbl.se/sv/artikel/BirgitCarell\n",
       "8                      EvaFroberg  ...                      https://skbl.se/sv/artikel/EvaFroberg\n",
       "9                 GallieAkerhielm  ...                 https://skbl.se/sv/artikel/GallieAkerhielm\n",
       "\n",
       "[10 rows x 12 columns]"
      ]
     },
     "execution_count": 43,
     "metadata": {},
     "output_type": "execute_result"
    }
   ],
   "source": [
    "from IPython.display import display, HTML  \n",
    "plotPublishedAuthor['Link'] = plotPublishedAuthor['skblid'].apply(lambda x: \"https://skbl.se/sv/artikel/{0}\".format(x))  \n",
    "plotPublishedAuthor.style.set_properties(subset=['publishedDate'], **{'width': '200px'}) \n",
    "plotPublishedAuthor = plotPublishedAuthor.sort_values(by=['publishedDate'], ascending=[False])\n",
    "plotPublishedAuthor = plotPublishedAuthor.reset_index(drop=True)  \n",
    "\n",
    "# de sista 10 publiserade biografier \n",
    "plotPublishedAuthor[:10]"
   ]
  },
  {
   "cell_type": "markdown",
   "metadata": {},
   "source": [
    "## Compare SBL\n",
    "SBL started in 1918 and is published by the [National Archives](https://sok.riksarkivet.se/sbl/Start.aspx?lang=en) in Sweden. They have\n",
    "* No API\n",
    "* focus on publish on paper\n",
    "* dont have structured data\n",
    "* no understanding of [Linked data](https://vimeo.com/36752317)\n",
    "* we have before manually and doing webscrabing populated [Wikidata P3217](https://www.wikidata.org/wiki/Property_talk:P3217) now I guess we wait on SBL for delivering data as data see question asked [236883](https://phabricator.wikimedia.org/T236883) Oct 30 2019, 11:03 AM - no official answer so far and The Swedish National Archives has no helpdesk system were you get an unique helpdesk number ([some action was promised aug 2018 by Rolf Källman](https://twitter.com/salgo60/status/1030269242296414208?s=20) nothing heard)\n"
   ]
  },
  {
   "cell_type": "code",
   "execution_count": 80,
   "metadata": {},
   "outputs": [
    {
     "name": "stdout",
     "output_type": "stream",
     "text": [
      "<class 'pandas.core.frame.DataFrame'>\n",
      "RangeIndex: 7527 entries, 0 to 7526\n",
      "Data columns (total 4 columns):\n",
      "wid            7527 non-null object\n",
      "sblid          7527 non-null object\n",
      "genderLabel    7527 non-null object\n",
      "Source         7527 non-null object\n",
      "dtypes: object(4)\n",
      "memory usage: 235.3+ KB\n"
     ]
    }
   ],
   "source": [
    "# SPARQL \n",
    "querySBL = \"\"\"SELECT distinct (REPLACE(STR(?item), \".*Q\", \"Q\") AS ?wid)  ?sblid  ?genderLabel  WHERE {\n",
    "?item wdt:P31 wd:Q5.\n",
    "OPTIONAL {?item wdt:P21 ?gender}\n",
    "?item wdt:P3217 ?sblid\n",
    "SERVICE wikibase:label { bd:serviceParam wikibase:language \"en\". }\n",
    "} order by ?sblid \"\"\"\n",
    "\n",
    "\n",
    "WDSBLtot = get_sparql_dataframe(endpoint_url, querySBL)\n",
    "WDSBLtot[\"Source\"] = \"SBL\" \n",
    "WDSBLtot.info()"
   ]
  },
  {
   "cell_type": "code",
   "execution_count": 81,
   "metadata": {},
   "outputs": [
    {
     "data": {
      "image/png": "[encoded data removed]",
      "text/plain": [
       "<Figure size 432x288 with 1 Axes>"
      ]
     },
     "metadata": {},
     "output_type": "display_data"
    }
   ],
   "source": [
    "plotSBLgender = WDSBLtot[\"genderLabel\"].value_counts()\n",
    "plotSBLgender.plot( kind = 'pie') \n",
    "plt.title(\"Riksarkivet SBL male/female\")\n",
    "plot = plotSBLgender.plot.pie( \\\n",
    "                   autopct='%1.0f%%', \\\n",
    "                   shadow=True, startangle=0)\n",
    "plt.title(\"SBL male vs. female articles 1918 - \" + now.strftime('%Y %m %d'))\n",
    "\n",
    "plt.show()"
   ]
  },
  {
   "cell_type": "code",
   "execution_count": 82,
   "metadata": {},
   "outputs": [
    {
     "name": "stdout",
     "output_type": "stream",
     "text": [
      "<class 'pandas.core.frame.DataFrame'>\n",
      "RangeIndex: 7527 entries, 0 to 7526\n",
      "Data columns (total 4 columns):\n",
      "wid            7527 non-null object\n",
      "sblid          7527 non-null object\n",
      "genderLabel    7527 non-null object\n",
      "Source         7527 non-null object\n",
      "dtypes: object(4)\n",
      "memory usage: 235.3+ KB\n"
     ]
    }
   ],
   "source": [
    "WDSBLtot.info()"
   ]
  },
  {
   "cell_type": "code",
   "execution_count": 83,
   "metadata": {},
   "outputs": [
    {
     "data": {
      "text/plain": [
       "1"
      ]
     },
     "execution_count": 83,
     "metadata": {},
     "output_type": "execute_result"
    }
   ],
   "source": [
    "WDSBLtot.duplicated(subset=['wid']).sum()"
   ]
  },
  {
   "cell_type": "code",
   "execution_count": 84,
   "metadata": {},
   "outputs": [
    {
     "data": {
      "text/plain": [
       "male                7008\n",
       "female               518\n",
       "transgender male       1\n",
       "Name: genderLabel, dtype: int64"
      ]
     },
     "execution_count": 84,
     "metadata": {},
     "output_type": "execute_result"
    }
   ],
   "source": [
    "plotSBLgender"
   ]
  },
  {
   "cell_type": "code",
   "execution_count": 85,
   "metadata": {},
   "outputs": [
    {
     "name": "stdout",
     "output_type": "stream",
     "text": [
      "<class 'pandas.core.frame.DataFrame'>\n",
      "Int64Index: 518 entries, 7 to 7508\n",
      "Data columns (total 4 columns):\n",
      "wid            518 non-null object\n",
      "sblid          518 non-null object\n",
      "genderLabel    518 non-null object\n",
      "Source         518 non-null object\n",
      "dtypes: object(4)\n",
      "memory usage: 20.2+ KB\n"
     ]
    }
   ],
   "source": [
    "plotSBLfemale = WDSBLtot[WDSBLtot[\"genderLabel\"] == \"female\"] \n",
    "#plotSBLfemale[\"birth\"] = plotSBLfemale[\"birth\"].astype(\"datetime64\")\n",
    "plotSBLfemale.info() "
   ]
  },
  {
   "cell_type": "code",
   "execution_count": 86,
   "metadata": {},
   "outputs": [],
   "source": [
    "#Merge dfSKBLAuthorcsv and plotSBLfemale \n"
   ]
  },
  {
   "cell_type": "code",
   "execution_count": 87,
   "metadata": {},
   "outputs": [
    {
     "name": "stdout",
     "output_type": "stream",
     "text": [
      "Ended:  2020-09-05 22:11:15.147245\n"
     ]
    }
   ],
   "source": [
    "end = datetime.now()\n",
    "print(\"Ended: \", end)"
   ]
  },
  {
   "cell_type": "code",
   "execution_count": 88,
   "metadata": {},
   "outputs": [],
   "source": [
    "dfmerge = pd.merge(plotSBLfemale, plotPublishedAuthor,how='outer', on='wid',indicator=True)"
   ]
  },
  {
   "cell_type": "code",
   "execution_count": 89,
   "metadata": {},
   "outputs": [
    {
     "name": "stdout",
     "output_type": "stream",
     "text": [
      "<class 'pandas.core.frame.DataFrame'>\n",
      "Int64Index: 1674 entries, 0 to 1673\n",
      "Data columns (total 16 columns):\n",
      "wid                         1674 non-null object\n",
      "sblid                       518 non-null object\n",
      "genderLabel                 518 non-null object\n",
      "Source_x                    518 non-null object\n",
      "skblid                      1478 non-null object\n",
      "publishedDate               1478 non-null datetime64[ns]\n",
      "article_author_firstname    1476 non-null object\n",
      "article_author_lastname     1476 non-null object\n",
      "subtitle_sv                 1478 non-null object\n",
      "subtitle_eng                1475 non-null object\n",
      "name_lastname               1446 non-null object\n",
      "name_firstname              1478 non-null object\n",
      "Source_y                    1478 non-null object\n",
      "Author                      1476 non-null object\n",
      "Link                        1478 non-null object\n",
      "_merge                      1674 non-null category\n",
      "dtypes: category(1), datetime64[ns](1), object(14)\n",
      "memory usage: 211.0+ KB\n"
     ]
    }
   ],
   "source": [
    "dfmerge.info()"
   ]
  },
  {
   "cell_type": "code",
   "execution_count": 90,
   "metadata": {},
   "outputs": [
    {
     "data": {
      "text/plain": [
       "right_only    1156\n",
       "both           322\n",
       "left_only      196\n",
       "Name: _merge, dtype: int64"
      ]
     },
     "execution_count": 90,
     "metadata": {},
     "output_type": "execute_result"
    }
   ],
   "source": [
    "dfmerge[\"_merge\"].value_counts()"
   ]
  },
  {
   "cell_type": "code",
   "execution_count": 91,
   "metadata": {},
   "outputs": [],
   "source": [
    "# both is number in bioth SBL and SKBL   \n",
    "# right_only is SBL\n",
    "# left_only is SKBL"
   ]
  },
  {
   "cell_type": "code",
   "execution_count": 92,
   "metadata": {},
   "outputs": [
    {
     "data": {
      "text/html": [
       "<div>\n",
       "<style scoped>\n",
       "    .dataframe tbody tr th:only-of-type {\n",
       "        vertical-align: middle;\n",
       "    }\n",
       "\n",
       "    .dataframe tbody tr th {\n",
       "        vertical-align: top;\n",
       "    }\n",
       "\n",
       "    .dataframe thead th {\n",
       "        text-align: right;\n",
       "    }\n",
       "</style>\n",
       "<table border=\"1\" class=\"dataframe\">\n",
       "  <thead>\n",
       "    <tr style=\"text-align: right;\">\n",
       "      <th></th>\n",
       "      <th>wid</th>\n",
       "      <th>sblid</th>\n",
       "      <th>genderLabel</th>\n",
       "      <th>Source_x</th>\n",
       "      <th>skblid</th>\n",
       "      <th>publishedDate</th>\n",
       "      <th>article_author_firstname</th>\n",
       "      <th>article_author_lastname</th>\n",
       "      <th>subtitle_sv</th>\n",
       "      <th>subtitle_eng</th>\n",
       "      <th>name_lastname</th>\n",
       "      <th>name_firstname</th>\n",
       "      <th>Source_y</th>\n",
       "      <th>Author</th>\n",
       "      <th>Link</th>\n",
       "      <th>_merge</th>\n",
       "    </tr>\n",
       "  </thead>\n",
       "  <tbody>\n",
       "    <tr>\n",
       "      <th>0</th>\n",
       "      <td>Q1794132</td>\n",
       "      <td>10025</td>\n",
       "      <td>female</td>\n",
       "      <td>SBL</td>\n",
       "      <td>NaN</td>\n",
       "      <td>NaT</td>\n",
       "      <td>NaN</td>\n",
       "      <td>NaN</td>\n",
       "      <td>NaN</td>\n",
       "      <td>NaN</td>\n",
       "      <td>NaN</td>\n",
       "      <td>NaN</td>\n",
       "      <td>NaN</td>\n",
       "      <td>NaN</td>\n",
       "      <td>NaN</td>\n",
       "      <td>SBL_only</td>\n",
       "    </tr>\n",
       "    <tr>\n",
       "      <th>1</th>\n",
       "      <td>Q3431866</td>\n",
       "      <td>10043</td>\n",
       "      <td>female</td>\n",
       "      <td>SBL</td>\n",
       "      <td>MarianneLofgren</td>\n",
       "      <td>2018-03-08</td>\n",
       "      <td>Jennifer</td>\n",
       "      <td>Vintkvist</td>\n",
       "      <td>Skådespelare</td>\n",
       "      <td>Actor</td>\n",
       "      <td>Löfgren</td>\n",
       "      <td>Jeannette Wedday /Marianne/ Ida Carolina</td>\n",
       "      <td>SKBL</td>\n",
       "      <td>Jennifer Vintkvist</td>\n",
       "      <td>https://skbl.se/sv/artikel/MarianneLofgren</td>\n",
       "      <td>both</td>\n",
       "    </tr>\n",
       "    <tr>\n",
       "      <th>2</th>\n",
       "      <td>Q4964675</td>\n",
       "      <td>10125</td>\n",
       "      <td>female</td>\n",
       "      <td>SBL</td>\n",
       "      <td>HarrietLowenhjelm</td>\n",
       "      <td>2018-03-08</td>\n",
       "      <td>Boel</td>\n",
       "      <td>Hackman</td>\n",
       "      <td>Författare, konstnär</td>\n",
       "      <td>Author, artist</td>\n",
       "      <td>Löwenhjelm</td>\n",
       "      <td>/Harriet/ Augusta Dorothea</td>\n",
       "      <td>SKBL</td>\n",
       "      <td>Boel Hackman</td>\n",
       "      <td>https://skbl.se/sv/artikel/HarrietLowenhjelm</td>\n",
       "      <td>both</td>\n",
       "    </tr>\n",
       "    <tr>\n",
       "      <th>3</th>\n",
       "      <td>Q4942488</td>\n",
       "      <td>10132</td>\n",
       "      <td>female</td>\n",
       "      <td>SBL</td>\n",
       "      <td>NaN</td>\n",
       "      <td>NaT</td>\n",
       "      <td>NaN</td>\n",
       "      <td>NaN</td>\n",
       "      <td>NaN</td>\n",
       "      <td>NaN</td>\n",
       "      <td>NaN</td>\n",
       "      <td>NaN</td>\n",
       "      <td>NaN</td>\n",
       "      <td>NaN</td>\n",
       "      <td>NaN</td>\n",
       "      <td>SBL_only</td>\n",
       "    </tr>\n",
       "    <tr>\n",
       "      <th>4</th>\n",
       "      <td>Q4965144</td>\n",
       "      <td>10184</td>\n",
       "      <td>female</td>\n",
       "      <td>SBL</td>\n",
       "      <td>MathildaMalling</td>\n",
       "      <td>2018-03-08</td>\n",
       "      <td>Birgitta</td>\n",
       "      <td>Ney</td>\n",
       "      <td>Författare</td>\n",
       "      <td>Author</td>\n",
       "      <td>Malling</td>\n",
       "      <td>Ingrid /Mathilda/</td>\n",
       "      <td>SKBL</td>\n",
       "      <td>Birgitta Ney</td>\n",
       "      <td>https://skbl.se/sv/artikel/MathildaMalling</td>\n",
       "      <td>both</td>\n",
       "    </tr>\n",
       "    <tr>\n",
       "      <th>5</th>\n",
       "      <td>Q16595614</td>\n",
       "      <td>10248</td>\n",
       "      <td>female</td>\n",
       "      <td>SBL</td>\n",
       "      <td>NaN</td>\n",
       "      <td>NaT</td>\n",
       "      <td>NaN</td>\n",
       "      <td>NaN</td>\n",
       "      <td>NaN</td>\n",
       "      <td>NaN</td>\n",
       "      <td>NaN</td>\n",
       "      <td>NaN</td>\n",
       "      <td>NaN</td>\n",
       "      <td>NaN</td>\n",
       "      <td>NaN</td>\n",
       "      <td>SBL_only</td>\n",
       "    </tr>\n",
       "    <tr>\n",
       "      <th>6</th>\n",
       "      <td>Q4968661</td>\n",
       "      <td>10331</td>\n",
       "      <td>female</td>\n",
       "      <td>SBL</td>\n",
       "      <td>EbbaMansdotterLilliehook0</td>\n",
       "      <td>2020-03-02</td>\n",
       "      <td>Jan</td>\n",
       "      <td>Samuelson</td>\n",
       "      <td>Grevinna, godsägare</td>\n",
       "      <td>Countess, property owner</td>\n",
       "      <td>Månsdotter (Lilliehöök)</td>\n",
       "      <td>/Ebba/</td>\n",
       "      <td>SKBL</td>\n",
       "      <td>Jan Samuelson</td>\n",
       "      <td>https://skbl.se/sv/artikel/EbbaMansdotterLilliehook0</td>\n",
       "      <td>both</td>\n",
       "    </tr>\n",
       "    <tr>\n",
       "      <th>7</th>\n",
       "      <td>Q16595619</td>\n",
       "      <td>10332</td>\n",
       "      <td>female</td>\n",
       "      <td>SBL</td>\n",
       "      <td>NaN</td>\n",
       "      <td>NaT</td>\n",
       "      <td>NaN</td>\n",
       "      <td>NaN</td>\n",
       "      <td>NaN</td>\n",
       "      <td>NaN</td>\n",
       "      <td>NaN</td>\n",
       "      <td>NaN</td>\n",
       "      <td>NaN</td>\n",
       "      <td>NaN</td>\n",
       "      <td>NaN</td>\n",
       "      <td>SBL_only</td>\n",
       "    </tr>\n",
       "    <tr>\n",
       "      <th>8</th>\n",
       "      <td>Q4962236</td>\n",
       "      <td>10390</td>\n",
       "      <td>female</td>\n",
       "      <td>SBL</td>\n",
       "      <td>FredrikaCatharinaLimnell</td>\n",
       "      <td>2020-03-02</td>\n",
       "      <td>Birgitta</td>\n",
       "      <td>Jordansson</td>\n",
       "      <td>Kvinnosakskvinna, salongsvärdinna, mecenat</td>\n",
       "      <td>Proponent of women's issues, hostess of cultural salons, patron of literature and the arts</td>\n",
       "      <td>Limnell</td>\n",
       "      <td>/Fredrika/ Catharina</td>\n",
       "      <td>SKBL</td>\n",
       "      <td>Birgitta Jordansson</td>\n",
       "      <td>https://skbl.se/sv/artikel/FredrikaCatharinaLimnell</td>\n",
       "      <td>both</td>\n",
       "    </tr>\n",
       "    <tr>\n",
       "      <th>9</th>\n",
       "      <td>Q42399094</td>\n",
       "      <td>10396</td>\n",
       "      <td>female</td>\n",
       "      <td>SBL</td>\n",
       "      <td>NaN</td>\n",
       "      <td>NaT</td>\n",
       "      <td>NaN</td>\n",
       "      <td>NaN</td>\n",
       "      <td>NaN</td>\n",
       "      <td>NaN</td>\n",
       "      <td>NaN</td>\n",
       "      <td>NaN</td>\n",
       "      <td>NaN</td>\n",
       "      <td>NaN</td>\n",
       "      <td>NaN</td>\n",
       "      <td>SBL_only</td>\n",
       "    </tr>\n",
       "  </tbody>\n",
       "</table>\n",
       "</div>"
      ],
      "text/plain": [
       "         wid  ...    _merge\n",
       "0   Q1794132  ...  SBL_only\n",
       "1   Q3431866  ...      both\n",
       "2   Q4964675  ...      both\n",
       "3   Q4942488  ...  SBL_only\n",
       "4   Q4965144  ...      both\n",
       "5  Q16595614  ...  SBL_only\n",
       "6   Q4968661  ...      both\n",
       "7  Q16595619  ...  SBL_only\n",
       "8   Q4962236  ...      both\n",
       "9  Q42399094  ...  SBL_only\n",
       "\n",
       "[10 rows x 16 columns]"
      ]
     },
     "execution_count": 92,
     "metadata": {},
     "output_type": "execute_result"
    }
   ],
   "source": [
    "dfmerge['_merge'] = dfmerge['_merge'].str.replace('left_only','SBL_only').str.replace('right_only','SKBL_only')\n",
    "dfmerge[0:10]"
   ]
  },
  {
   "cell_type": "code",
   "execution_count": 97,
   "metadata": {},
   "outputs": [
    {
     "name": "stdout",
     "output_type": "stream",
     "text": [
      "<class 'pandas.core.frame.DataFrame'>\n",
      "Int64Index: 1674 entries, 0 to 1673\n",
      "Data columns (total 5 columns):\n",
      "wid              1674 non-null object\n",
      "sblid            518 non-null object\n",
      "skblid           1478 non-null object\n",
      "publishedDate    1478 non-null datetime64[ns]\n",
      "_merge           1674 non-null object\n",
      "dtypes: datetime64[ns](1), object(4)\n",
      "memory usage: 78.5+ KB\n"
     ]
    }
   ],
   "source": [
    "mergeCheck = dfmerge[['wid', 'sblid','skblid','publishedDate','_merge']] \n",
    "mergeCheck.info() "
   ]
  },
  {
   "cell_type": "code",
   "execution_count": 98,
   "metadata": {},
   "outputs": [
    {
     "data": {
      "text/plain": [
       "<bound method IndexOpsMixin.value_counts of SKBL_only    1155\n",
       "both          346\n",
       "SBL_only      213\n",
       "Name: _merge, dtype: int64>"
      ]
     },
     "execution_count": 98,
     "metadata": {},
     "output_type": "execute_result"
    }
   ],
   "source": [
    "mergeCheckNumber.value_counts"
   ]
  },
  {
   "cell_type": "code",
   "execution_count": 99,
   "metadata": {},
   "outputs": [
    {
     "data": {
      "image/png": "[encoded data removed]",
      "text/plain": [
       "<Figure size 432x288 with 1 Axes>"
      ]
     },
     "metadata": {},
     "output_type": "display_data"
    }
   ],
   "source": [
    "mergeCheckNumber = mergeCheck[\"_merge\"].value_counts()\n",
    "mergeCheckNumber.plot( kind = 'pie')  \n",
    "plot = mergeCheckNumber.plot.pie( \\\n",
    "                   autopct='%1.0f%%', \\\n",
    "                   shadow=True, startangle=0)\n",
    "plt.title(\"SBL vs SKBL female articles \" + now.strftime('%Y %m %d'))\n",
    "plt.show()\n"
   ]
  },
  {
   "cell_type": "code",
   "execution_count": 100,
   "metadata": {},
   "outputs": [
    {
     "data": {
      "text/plain": [
       "SKBL_only    1156\n",
       "both          322\n",
       "SBL_only      196\n",
       "Name: _merge, dtype: int64"
      ]
     },
     "execution_count": 100,
     "metadata": {},
     "output_type": "execute_result"
    }
   ],
   "source": [
    "mergeCheckNumber"
   ]
  },
  {
   "cell_type": "code",
   "execution_count": 101,
   "metadata": {},
   "outputs": [],
   "source": [
    "#Profiles missing in SKBL that SBL has written = left_only \n",
    "WDSBLonly = mergeCheck[mergeCheck[\"_merge\"] == \"SBL_only\"].copy() "
   ]
  },
  {
   "cell_type": "code",
   "execution_count": 102,
   "metadata": {},
   "outputs": [
    {
     "name": "stdout",
     "output_type": "stream",
     "text": [
      "<class 'pandas.core.frame.DataFrame'>\n",
      "Int64Index: 196 entries, 0 to 514\n",
      "Data columns (total 5 columns):\n",
      "wid              196 non-null object\n",
      "sblid            196 non-null object\n",
      "skblid           0 non-null object\n",
      "publishedDate    0 non-null datetime64[ns]\n",
      "_merge           196 non-null object\n",
      "dtypes: datetime64[ns](1), object(4)\n",
      "memory usage: 9.2+ KB\n"
     ]
    }
   ],
   "source": [
    "WDSBLonly.info()"
   ]
  },
  {
   "cell_type": "code",
   "execution_count": 103,
   "metadata": {},
   "outputs": [
    {
     "data": {
      "text/html": [
       "<div>\n",
       "<style scoped>\n",
       "    .dataframe tbody tr th:only-of-type {\n",
       "        vertical-align: middle;\n",
       "    }\n",
       "\n",
       "    .dataframe tbody tr th {\n",
       "        vertical-align: top;\n",
       "    }\n",
       "\n",
       "    .dataframe thead th {\n",
       "        text-align: right;\n",
       "    }\n",
       "</style>\n",
       "<table border=\"1\" class=\"dataframe\">\n",
       "  <thead>\n",
       "    <tr style=\"text-align: right;\">\n",
       "      <th></th>\n",
       "      <th>wid</th>\n",
       "      <th>sblid</th>\n",
       "      <th>sbl</th>\n",
       "    </tr>\n",
       "  </thead>\n",
       "  <tbody>\n",
       "    <tr>\n",
       "      <th>0</th>\n",
       "      <td>Q1794132</td>\n",
       "      <td>10025</td>\n",
       "      <td>https://sok.riksarkivet.se/Sbl/Presentation.aspx?id=10025</td>\n",
       "    </tr>\n",
       "    <tr>\n",
       "      <th>3</th>\n",
       "      <td>Q4942488</td>\n",
       "      <td>10132</td>\n",
       "      <td>https://sok.riksarkivet.se/Sbl/Presentation.aspx?id=10132</td>\n",
       "    </tr>\n",
       "    <tr>\n",
       "      <th>5</th>\n",
       "      <td>Q16595614</td>\n",
       "      <td>10248</td>\n",
       "      <td>https://sok.riksarkivet.se/Sbl/Presentation.aspx?id=10248</td>\n",
       "    </tr>\n",
       "    <tr>\n",
       "      <th>7</th>\n",
       "      <td>Q16595619</td>\n",
       "      <td>10332</td>\n",
       "      <td>https://sok.riksarkivet.se/Sbl/Presentation.aspx?id=10332</td>\n",
       "    </tr>\n",
       "    <tr>\n",
       "      <th>9</th>\n",
       "      <td>Q42399094</td>\n",
       "      <td>10396</td>\n",
       "      <td>https://sok.riksarkivet.se/Sbl/Presentation.aspx?id=10396</td>\n",
       "    </tr>\n",
       "    <tr>\n",
       "      <th>11</th>\n",
       "      <td>Q4767223</td>\n",
       "      <td>10404</td>\n",
       "      <td>https://sok.riksarkivet.se/Sbl/Presentation.aspx?id=10404</td>\n",
       "    </tr>\n",
       "    <tr>\n",
       "      <th>12</th>\n",
       "      <td>Q4962366</td>\n",
       "      <td>10417</td>\n",
       "      <td>https://sok.riksarkivet.se/Sbl/Presentation.aspx?id=10417</td>\n",
       "    </tr>\n",
       "    <tr>\n",
       "      <th>13</th>\n",
       "      <td>Q11857592</td>\n",
       "      <td>10445</td>\n",
       "      <td>https://sok.riksarkivet.se/Sbl/Presentation.aspx?id=10445</td>\n",
       "    </tr>\n",
       "    <tr>\n",
       "      <th>22</th>\n",
       "      <td>Q38373456</td>\n",
       "      <td>10673</td>\n",
       "      <td>https://sok.riksarkivet.se/Sbl/Presentation.aspx?id=10673</td>\n",
       "    </tr>\n",
       "    <tr>\n",
       "      <th>23</th>\n",
       "      <td>Q4963073</td>\n",
       "      <td>10728</td>\n",
       "      <td>https://sok.riksarkivet.se/Sbl/Presentation.aspx?id=10728</td>\n",
       "    </tr>\n",
       "  </tbody>\n",
       "</table>\n",
       "</div>"
      ],
      "text/plain": [
       "          wid  sblid                                                        sbl\n",
       "0    Q1794132  10025  https://sok.riksarkivet.se/Sbl/Presentation.aspx?id=10025\n",
       "3    Q4942488  10132  https://sok.riksarkivet.se/Sbl/Presentation.aspx?id=10132\n",
       "5   Q16595614  10248  https://sok.riksarkivet.se/Sbl/Presentation.aspx?id=10248\n",
       "7   Q16595619  10332  https://sok.riksarkivet.se/Sbl/Presentation.aspx?id=10332\n",
       "9   Q42399094  10396  https://sok.riksarkivet.se/Sbl/Presentation.aspx?id=10396\n",
       "11   Q4767223  10404  https://sok.riksarkivet.se/Sbl/Presentation.aspx?id=10404\n",
       "12   Q4962366  10417  https://sok.riksarkivet.se/Sbl/Presentation.aspx?id=10417\n",
       "13  Q11857592  10445  https://sok.riksarkivet.se/Sbl/Presentation.aspx?id=10445\n",
       "22  Q38373456  10673  https://sok.riksarkivet.se/Sbl/Presentation.aspx?id=10673\n",
       "23   Q4963073  10728  https://sok.riksarkivet.se/Sbl/Presentation.aspx?id=10728"
      ]
     },
     "execution_count": 103,
     "metadata": {},
     "output_type": "execute_result"
    }
   ],
   "source": [
    "WDSBLonly[\"sbl\"] = \"https://sok.riksarkivet.se/Sbl/Presentation.aspx?id=\" + WDSBLonly[\"sblid\"] \n",
    "pd.set_option('column_space', 20)\n",
    "pd.set_option('max_colwidth', 300)\n",
    "\n",
    "WDSBLonly[[\"wid\",\"sblid\",\"sbl\"]][:10]"
   ]
  },
  {
   "cell_type": "markdown",
   "metadata": {},
   "source": [
    "### Same query in Wikidata \n",
    "* Find all women [in SBL but not in SKBL](https://w.wiki/bFw) = 196 women\n",
    "* Find all women [in SBL but not in SKBL and have an en:Wikipedia article](https://w.wiki/bFy) = 128 \n"
   ]
  },
  {
   "cell_type": "code",
   "execution_count": 104,
   "metadata": {},
   "outputs": [
    {
     "name": "stdout",
     "output_type": "stream",
     "text": [
      "<class 'pandas.core.frame.DataFrame'>\n",
      "Int64Index: 196 entries, 0 to 514\n",
      "Data columns (total 6 columns):\n",
      "wid              196 non-null object\n",
      "sblid            196 non-null object\n",
      "skblid           0 non-null object\n",
      "publishedDate    0 non-null datetime64[ns]\n",
      "_merge           196 non-null object\n",
      "sbl              196 non-null object\n",
      "dtypes: datetime64[ns](1), object(5)\n",
      "memory usage: 10.7+ KB\n"
     ]
    }
   ],
   "source": [
    "WDSBLonly.info()"
   ]
  },
  {
   "cell_type": "code",
   "execution_count": 105,
   "metadata": {},
   "outputs": [
    {
     "name": "stdout",
     "output_type": "stream",
     "text": [
      "<class 'pandas.core.frame.DataFrame'>\n",
      "Int64Index: 194 entries, 0 to 514\n",
      "Data columns (total 6 columns):\n",
      "wid              194 non-null object\n",
      "sblid            194 non-null object\n",
      "skblid           0 non-null object\n",
      "publishedDate    0 non-null datetime64[ns]\n",
      "_merge           194 non-null object\n",
      "sbl              194 non-null object\n",
      "dtypes: datetime64[ns](1), object(5)\n",
      "memory usage: 10.6+ KB\n"
     ]
    }
   ],
   "source": [
    "WDSBLonly.drop_duplicates(subset =\"wid\", keep = False, inplace = True)\n",
    "WDSBLonly.info() "
   ]
  },
  {
   "cell_type": "code",
   "execution_count": 106,
   "metadata": {},
   "outputs": [
    {
     "name": "stdout",
     "output_type": "stream",
     "text": [
      "Ended:  2020-09-05 22:14:07.293054\n"
     ]
    }
   ],
   "source": [
    "end = datetime.now()\n",
    "print(\"Ended: \", end)"
   ]
  },
  {
   "cell_type": "code",
   "execution_count": null,
   "metadata": {},
   "outputs": [],
   "source": []
  }
 ],
 "metadata": {
  "kernelspec": {
   "display_name": "Python 3",
   "language": "python",
   "name": "python3"
  },
  "language_info": {
   "codemirror_mode": {
    "name": "ipython",
    "version": 3
   },
   "file_extension": ".py",
   "mimetype": "text/x-python",
   "name": "python",
   "nbconvert_exporter": "python",
   "pygments_lexer": "ipython3",
   "version": "3.8.0"
  }
 },
 "nbformat": 4,
 "nbformat_minor": 4
}
