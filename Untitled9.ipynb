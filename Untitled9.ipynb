{
 "cells": [
  {
   "cell_type": "code",
   "execution_count": 4,
   "id": "fdce94b1",
   "metadata": {},
   "outputs": [
    {
     "name": "stdout",
     "output_type": "stream",
     "text": [
      "404\n"
     ]
    }
   ],
   "source": [
    "import urllib3, json\n",
    "import pandas as pd \n",
    "url = 'https://storsthlm.dataplatform.se/api/action/datastore_search?resource_id=31da7c53-e9cb-4d3b-8b08-a97b2f00d811&limit=5'\n",
    "http = urllib3.PoolManager() \n",
    "r = http.request('GET', url) \n",
    "#data = json.loads(r.data.decode('utf-8'))\n",
    "print (r.status)"
   ]
  },
  {
   "cell_type": "code",
   "execution_count": null,
   "id": "437ea964",
   "metadata": {},
   "outputs": [],
   "source": []
  }
 ],
 "metadata": {
  "kernelspec": {
   "display_name": "Python 3",
   "language": "python",
   "name": "python3"
  },
  "language_info": {
   "codemirror_mode": {
    "name": "ipython",
    "version": 3
   },
   "file_extension": ".py",
   "mimetype": "text/x-python",
   "name": "python",
   "nbconvert_exporter": "python",
   "pygments_lexer": "ipython3",
   "version": "3.9.4"
  }
 },
 "nbformat": 4,
 "nbformat_minor": 5
}
