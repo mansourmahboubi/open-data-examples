{
 "cells": [
  {
   "cell_type": "markdown",
   "metadata": {},
   "source": [
    "# SVT Sentiment Analysis Using Python\n",
    "Test if we can do the same as done in BBC see [blog](https://medium.com/@darshipatel/how-to-perform-sentiment-analysis-using-python-32746c5bd248)\n"
   ]
  },
  {
   "cell_type": "code",
   "execution_count": 2,
   "metadata": {},
   "outputs": [],
   "source": [
    "rss = \"http://svt.se/nyheter/regionalt/blekingenytt/rss.xml\"\n",
    "\n",
    "#Import Lib\n",
    "import pandas as pd\n",
    "import matplotlib.pyplot as plt\n",
    "%matplotlib inline  \n",
    "import nltk\n",
    "from nltk import word_tokenize, sent_tokenize\n",
    "from nltk.corpus import stopwords\n",
    "from nltk.stem import LancasterStemmer, WordNetLemmatizer, PorterStemmer\n",
    "from wordcloud import WordCloud, STOPWORDS\n",
    "from textblob import TextBlob\n",
    "\n",
    "from textblob import TextBlob\n",
    "import csv \n"
   ]
  },
  {
   "cell_type": "code",
   "execution_count": 4,
   "metadata": {},
   "outputs": [],
   "source": [
    "#create object\n",
    "def sentiment(polarity):\n",
    "    if blob.sentiment.polarity < 0:\n",
    "        print(\"Negative\")\n",
    "    elif blob.sentiment.polarity > 0:\n",
    "        print(\"Positive\")\n",
    "    else:\n",
    "        print(\"Neutral\")\n",
    "\n",
    "infile = 'SVTdata1.csv'\n",
    "\n",
    "with open(infile, 'r') as csvfile:\n",
    "    rows = csv.reader(csvfile)\n",
    "    for row in rows:\n",
    "        sentence = row[0]\n",
    "        blob = TextBlob(sentence)\n",
    "        print(blob.sentiment)\n",
    "        print sentence\n",
    "        sentiment(blob.sentiment.polarity)\n",
    "        print ('-------')\n"
   ]
  },
  {
   "cell_type": "code",
   "execution_count": 5,
   "metadata": {},
   "outputs": [
    {
     "ename": "SyntaxError",
     "evalue": "Missing parentheses in call to 'print'. Did you mean print(sentence)? (<ipython-input-5-f8ba72825097>, line 7)",
     "output_type": "error",
     "traceback": [
      "\u001b[0;36m  File \u001b[0;32m\"<ipython-input-5-f8ba72825097>\"\u001b[0;36m, line \u001b[0;32m7\u001b[0m\n\u001b[0;31m    print sentence\u001b[0m\n\u001b[0m          ^\u001b[0m\n\u001b[0;31mSyntaxError\u001b[0m\u001b[0;31m:\u001b[0m Missing parentheses in call to 'print'. Did you mean print(sentence)?\n"
     ]
    }
   ],
   "source": []
  },
  {
   "cell_type": "code",
   "execution_count": null,
   "metadata": {},
   "outputs": [],
   "source": []
  }
 ],
 "metadata": {
  "kernelspec": {
   "display_name": "Python 3",
   "language": "python",
   "name": "python3"
  },
  "language_info": {
   "codemirror_mode": {
    "name": "ipython",
    "version": 3
   },
   "file_extension": ".py",
   "mimetype": "text/x-python",
   "name": "python",
   "nbconvert_exporter": "python",
   "pygments_lexer": "ipython3",
   "version": "3.8.0"
  }
 },
 "nbformat": 4,
 "nbformat_minor": 4
}
