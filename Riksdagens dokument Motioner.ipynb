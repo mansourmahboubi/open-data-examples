{
 "cells": [
  {
   "cell_type": "markdown",
   "metadata": {},
   "source": [
    "## Riksdagen motioner \n",
    "\n",
    "* Denna [Jupyter Notebook](https://github.com/salgo60/open-data-examples/blob/master/Riksdagens%20dokument%20Motioner.ipynb) \n",
    "  * samma men 10000 motioner och [engelska](https://github.com/salgo60/open-data-examples/blob/master/Riksdagens%20dokument%20Motioner-en.ipynb) \n",
    "  * [GITHUB Riksdagen](https://github.com/salgo60/Riksdagen)\n",
    "  * [video](https://www.youtube.com/watch?v=WaEpU0FCnK8) om Open Refine och Lagstiftande [#WikidataRiksdahge](https://www.youtube.com/hashtag/wikidatariksdagen)\n",
    "* [Skapa sökfråga](http://data.riksdagen.se/dokumentlista/)  --> 245204 Motioner \n",
    "  \n",
    "* Wikipedia [WikiProject_Sweden/Swedish_Riksdag_documents](https://www.wikidata.org/wiki/Wikidata:WikiProject_Sweden/Swedish_Riksdag_documents) \n",
    "\n",
    "* [Sida med prefix](https://data.riksdagen.se/dokumentation/sa-funkar-dokument-id/#:~:text=kod%20for%20riksmote%20eller%20ar)\n",
    "\n",
    "\n",
    "### Test H7023008 Motion 2019/20:3008 av Jonas Sjöstedt m.fl. (V)\n",
    "* [text](http://data.riksdagen.se/dokument/H7023008.text) / [html](http://data.riksdagen.se/dokument/H7023008.html) /  [json](http://data.riksdagen.se/dokumentlista/?sok=H7023008&utformat=json) \n"
   ]
  },
  {
   "cell_type": "code",
   "execution_count": 1,
   "metadata": {},
   "outputs": [
    {
     "name": "stdout",
     "output_type": "stream",
     "text": [
      "Last run:  2022-09-08 05:18:16.735113\n"
     ]
    }
   ],
   "source": [
    "from datetime import datetime\n",
    "start_time  = datetime.now()\n",
    "print(\"Last run: \", start_time)"
   ]
  },
  {
   "cell_type": "code",
   "execution_count": 2,
   "metadata": {},
   "outputs": [
    {
     "data": {
      "application/vnd.jupyter.widget-view+json": {
       "model_id": "c1346e112686406596c7d7e9fb08bbea",
       "version_major": 2,
       "version_minor": 0
      },
      "text/plain": [
       "  0%|          | 0/12260 [00:00<?, ?it/s]"
      ]
     },
     "metadata": {},
     "output_type": "display_data"
    },
    {
     "data": {
      "text/html": [
       "<div>\n",
       "<style scoped>\n",
       "    .dataframe tbody tr th:only-of-type {\n",
       "        vertical-align: middle;\n",
       "    }\n",
       "\n",
       "    .dataframe tbody tr th {\n",
       "        vertical-align: top;\n",
       "    }\n",
       "\n",
       "    .dataframe thead th {\n",
       "        text-align: right;\n",
       "    }\n",
       "</style>\n",
       "<table border=\"1\" class=\"dataframe\">\n",
       "  <thead>\n",
       "    <tr style=\"text-align: right;\">\n",
       "      <th></th>\n",
       "      <th>traff</th>\n",
       "      <th>domain</th>\n",
       "      <th>database</th>\n",
       "      <th>datum</th>\n",
       "      <th>id</th>\n",
       "      <th>rdrest</th>\n",
       "      <th>slutdatum</th>\n",
       "      <th>rddata</th>\n",
       "      <th>plats</th>\n",
       "      <th>klockslag</th>\n",
       "      <th>publicerad</th>\n",
       "      <th>systemdatum</th>\n",
       "      <th>undertitel</th>\n",
       "      <th>kalla</th>\n",
       "      <th>kall_id</th>\n",
       "      <th>dok_id</th>\n",
       "      <th>dokumentformat</th>\n",
       "      <th>dokument_url_text</th>\n",
       "      <th>dokument_url_html</th>\n",
       "      <th>inlamnad</th>\n",
       "      <th>motionstid</th>\n",
       "      <th>tilldelat</th>\n",
       "      <th>lang</th>\n",
       "      <th>url</th>\n",
       "      <th>relurl</th>\n",
       "      <th>titel</th>\n",
       "      <th>rm</th>\n",
       "      <th>organ</th>\n",
       "      <th>relaterat_id</th>\n",
       "      <th>doktyp</th>\n",
       "      <th>typ</th>\n",
       "      <th>subtyp</th>\n",
       "      <th>beteckning</th>\n",
       "      <th>tempbeteckning</th>\n",
       "      <th>nummer</th>\n",
       "      <th>status</th>\n",
       "      <th>score</th>\n",
       "      <th>sokdata</th>\n",
       "      <th>summary</th>\n",
       "      <th>notisrubrik</th>\n",
       "      <th>notis</th>\n",
       "      <th>dokintressent</th>\n",
       "      <th>filbilaga</th>\n",
       "      <th>avdelning</th>\n",
       "      <th>struktur</th>\n",
       "      <th>audio</th>\n",
       "      <th>video</th>\n",
       "      <th>debattgrupp</th>\n",
       "      <th>debattdag</th>\n",
       "      <th>beslutsdag</th>\n",
       "      <th>beredningsdag</th>\n",
       "      <th>justeringsdag</th>\n",
       "      <th>beslutad</th>\n",
       "      <th>debattsekunder</th>\n",
       "      <th>ardometyp</th>\n",
       "      <th>reservationer</th>\n",
       "      <th>debatt</th>\n",
       "      <th>debattnamn</th>\n",
       "      <th>dokumentnamn</th>\n",
       "    </tr>\n",
       "  </thead>\n",
       "  <tbody>\n",
       "    <tr>\n",
       "      <th>0</th>\n",
       "      <td>9981</td>\n",
       "      <td>rdwebb</td>\n",
       "      <td>dokument</td>\n",
       "      <td>2019-10-03</td>\n",
       "      <td>H7023006</td>\n",
       "      <td>None</td>\n",
       "      <td></td>\n",
       "      <td>None</td>\n",
       "      <td></td>\n",
       "      <td></td>\n",
       "      <td>2019-10-03</td>\n",
       "      <td>2020-07-01 11:52:00</td>\n",
       "      <td>av Edward Riedl (M)</td>\n",
       "      <td>Filur</td>\n",
       "      <td>af72adaa-60b1-4ae9-bcda-f3da2edabcc3</td>\n",
       "      <td>H7023006</td>\n",
       "      <td></td>\n",
       "      <td>//data.riksdagen.se/dokument/H7023006.text</td>\n",
       "      <td>//data.riksdagen.se/dokument/H7023006.html</td>\n",
       "      <td></td>\n",
       "      <td></td>\n",
       "      <td></td>\n",
       "      <td></td>\n",
       "      <td></td>\n",
       "      <td></td>\n",
       "      <td>Cancerscreening</td>\n",
       "      <td>2019/20</td>\n",
       "      <td>SoU</td>\n",
       "      <td></td>\n",
       "      <td>mot</td>\n",
       "      <td>mot</td>\n",
       "      <td>Enskild motion</td>\n",
       "      <td>3006</td>\n",
       "      <td>M1238</td>\n",
       "      <td>3006</td>\n",
       "      <td>Klar</td>\n",
       "      <td>202</td>\n",
       "      <td>{'titel': 'Cancerscreening', 'undertitel': 'Mo...</td>\n",
       "      <td>Motion till riksdagen\\n 2019/20:3006\\n av Edwa...</td>\n",
       "      <td>Cancerscreening</td>\n",
       "      <td>Motion till riksdagen\\n 2019/20:3006\\n av Edwa...</td>\n",
       "      <td>{'intressent': [{'roll': 'undertecknare', 'nam...</td>\n",
       "      <td>{'fil': [{'typ': 'docx', 'namn': 'mot_201920__...</td>\n",
       "      <td>dokument</td>\n",
       "      <td></td>\n",
       "      <td></td>\n",
       "      <td></td>\n",
       "      <td></td>\n",
       "      <td></td>\n",
       "      <td></td>\n",
       "      <td></td>\n",
       "      <td></td>\n",
       "      <td></td>\n",
       "      <td></td>\n",
       "      <td></td>\n",
       "      <td></td>\n",
       "      <td>None</td>\n",
       "      <td>Motion</td>\n",
       "      <td>Motion</td>\n",
       "    </tr>\n",
       "    <tr>\n",
       "      <th>1</th>\n",
       "      <td>9982</td>\n",
       "      <td>rdwebb</td>\n",
       "      <td>dokument</td>\n",
       "      <td>2019-10-03</td>\n",
       "      <td>H7023004</td>\n",
       "      <td>None</td>\n",
       "      <td></td>\n",
       "      <td>None</td>\n",
       "      <td></td>\n",
       "      <td></td>\n",
       "      <td>2019-10-03</td>\n",
       "      <td>2020-07-01 11:49:45</td>\n",
       "      <td>av Edward Riedl (M)</td>\n",
       "      <td>Filur</td>\n",
       "      <td>200e6d70-b23b-4727-a766-ff809c0ada71</td>\n",
       "      <td>H7023004</td>\n",
       "      <td></td>\n",
       "      <td>//data.riksdagen.se/dokument/H7023004.text</td>\n",
       "      <td>//data.riksdagen.se/dokument/H7023004.html</td>\n",
       "      <td></td>\n",
       "      <td></td>\n",
       "      <td></td>\n",
       "      <td></td>\n",
       "      <td></td>\n",
       "      <td></td>\n",
       "      <td>Anslag för skolresor till Auschwitz</td>\n",
       "      <td>2019/20</td>\n",
       "      <td>UbU</td>\n",
       "      <td></td>\n",
       "      <td>mot</td>\n",
       "      <td>mot</td>\n",
       "      <td>Enskild motion</td>\n",
       "      <td>3004</td>\n",
       "      <td>M2133</td>\n",
       "      <td>3004</td>\n",
       "      <td>Klar</td>\n",
       "      <td>202</td>\n",
       "      <td>{'titel': 'Anslag för skolresor till Auschwitz...</td>\n",
       "      <td>Motion till riksdagen\\n 2019/20:3004\\n av Edwa...</td>\n",
       "      <td>Anslag för skolresor till Auschwitz</td>\n",
       "      <td>Motion till riksdagen\\n 2019/20:3004\\n av Edwa...</td>\n",
       "      <td>{'intressent': [{'roll': 'undertecknare', 'nam...</td>\n",
       "      <td>{'fil': [{'typ': 'docx', 'namn': 'mot_201920__...</td>\n",
       "      <td>dokument</td>\n",
       "      <td></td>\n",
       "      <td></td>\n",
       "      <td></td>\n",
       "      <td></td>\n",
       "      <td></td>\n",
       "      <td></td>\n",
       "      <td></td>\n",
       "      <td></td>\n",
       "      <td></td>\n",
       "      <td></td>\n",
       "      <td></td>\n",
       "      <td></td>\n",
       "      <td>None</td>\n",
       "      <td>Motion</td>\n",
       "      <td>Motion</td>\n",
       "    </tr>\n",
       "    <tr>\n",
       "      <th>2</th>\n",
       "      <td>9983</td>\n",
       "      <td>rdwebb</td>\n",
       "      <td>dokument</td>\n",
       "      <td>2019-10-03</td>\n",
       "      <td>H7023003</td>\n",
       "      <td>None</td>\n",
       "      <td></td>\n",
       "      <td>None</td>\n",
       "      <td></td>\n",
       "      <td></td>\n",
       "      <td>2019-10-03</td>\n",
       "      <td>2020-07-01 11:47:34</td>\n",
       "      <td>av Edward Riedl (M)</td>\n",
       "      <td>Filur</td>\n",
       "      <td>0b6211c6-8f63-4519-8d31-97644b20b220</td>\n",
       "      <td>H7023003</td>\n",
       "      <td></td>\n",
       "      <td>//data.riksdagen.se/dokument/H7023003.text</td>\n",
       "      <td>//data.riksdagen.se/dokument/H7023003.html</td>\n",
       "      <td></td>\n",
       "      <td></td>\n",
       "      <td></td>\n",
       "      <td></td>\n",
       "      <td></td>\n",
       "      <td></td>\n",
       "      <td>Inför en nationell sköldkörtelstrategi i Sverige</td>\n",
       "      <td>2019/20</td>\n",
       "      <td>SoU</td>\n",
       "      <td></td>\n",
       "      <td>mot</td>\n",
       "      <td>mot</td>\n",
       "      <td>Enskild motion</td>\n",
       "      <td>3003</td>\n",
       "      <td>M1282</td>\n",
       "      <td>3003</td>\n",
       "      <td>Klar</td>\n",
       "      <td>202</td>\n",
       "      <td>{'titel': 'Inför en nationell sköldkörtelstrat...</td>\n",
       "      <td>Motion till riksdagen\\n 2019/20:3003\\n av Edwa...</td>\n",
       "      <td>Inför en nationell sköldkörtelstrategi i Sverige</td>\n",
       "      <td>Motion till riksdagen\\n 2019/20:3003\\n av Edwa...</td>\n",
       "      <td>{'intressent': [{'roll': 'undertecknare', 'nam...</td>\n",
       "      <td>{'fil': [{'typ': 'docx', 'namn': 'mot_201920__...</td>\n",
       "      <td>dokument</td>\n",
       "      <td></td>\n",
       "      <td></td>\n",
       "      <td></td>\n",
       "      <td></td>\n",
       "      <td></td>\n",
       "      <td></td>\n",
       "      <td></td>\n",
       "      <td></td>\n",
       "      <td></td>\n",
       "      <td></td>\n",
       "      <td></td>\n",
       "      <td></td>\n",
       "      <td>None</td>\n",
       "      <td>Motion</td>\n",
       "      <td>Motion</td>\n",
       "    </tr>\n",
       "    <tr>\n",
       "      <th>3</th>\n",
       "      <td>9984</td>\n",
       "      <td>rdwebb</td>\n",
       "      <td>dokument</td>\n",
       "      <td>2019-10-03</td>\n",
       "      <td>H7023002</td>\n",
       "      <td>None</td>\n",
       "      <td></td>\n",
       "      <td>None</td>\n",
       "      <td></td>\n",
       "      <td></td>\n",
       "      <td>2019-10-03</td>\n",
       "      <td>2020-07-01 11:46:11</td>\n",
       "      <td>av Edward Riedl (M)</td>\n",
       "      <td>Filur</td>\n",
       "      <td>27e7f165-7a5a-43f4-97cf-961cc448475d</td>\n",
       "      <td>H7023002</td>\n",
       "      <td></td>\n",
       "      <td>//data.riksdagen.se/dokument/H7023002.text</td>\n",
       "      <td>//data.riksdagen.se/dokument/H7023002.html</td>\n",
       "      <td></td>\n",
       "      <td></td>\n",
       "      <td></td>\n",
       "      <td></td>\n",
       "      <td></td>\n",
       "      <td></td>\n",
       "      <td>Kontroll i fråga om assistansersättning</td>\n",
       "      <td>2019/20</td>\n",
       "      <td>SoU</td>\n",
       "      <td></td>\n",
       "      <td>mot</td>\n",
       "      <td>mot</td>\n",
       "      <td>Enskild motion</td>\n",
       "      <td>3002</td>\n",
       "      <td>M1285</td>\n",
       "      <td>3002</td>\n",
       "      <td>Klar</td>\n",
       "      <td>202</td>\n",
       "      <td>{'titel': 'Kontroll i fråga om assistansersätt...</td>\n",
       "      <td>Motion till riksdagen\\n 2019/20:3002\\n av Edwa...</td>\n",
       "      <td>Kontroll i fråga om assistansersättning</td>\n",
       "      <td>Motion till riksdagen\\n 2019/20:3002\\n av Edwa...</td>\n",
       "      <td>{'intressent': [{'roll': 'undertecknare', 'nam...</td>\n",
       "      <td>{'fil': [{'typ': 'docx', 'namn': 'mot_201920__...</td>\n",
       "      <td>dokument</td>\n",
       "      <td></td>\n",
       "      <td></td>\n",
       "      <td></td>\n",
       "      <td></td>\n",
       "      <td></td>\n",
       "      <td></td>\n",
       "      <td></td>\n",
       "      <td></td>\n",
       "      <td></td>\n",
       "      <td></td>\n",
       "      <td></td>\n",
       "      <td></td>\n",
       "      <td>None</td>\n",
       "      <td>Motion</td>\n",
       "      <td>Motion</td>\n",
       "    </tr>\n",
       "    <tr>\n",
       "      <th>4</th>\n",
       "      <td>9985</td>\n",
       "      <td>rdwebb</td>\n",
       "      <td>dokument</td>\n",
       "      <td>2019-10-03</td>\n",
       "      <td>H7023001</td>\n",
       "      <td>None</td>\n",
       "      <td></td>\n",
       "      <td>None</td>\n",
       "      <td></td>\n",
       "      <td></td>\n",
       "      <td>2019-10-03</td>\n",
       "      <td>2020-07-01 11:44:26</td>\n",
       "      <td>av Edward Riedl (M)</td>\n",
       "      <td>Filur</td>\n",
       "      <td>733e56f5-3f7a-4bd3-be73-0c8c6abd9c4e</td>\n",
       "      <td>H7023001</td>\n",
       "      <td></td>\n",
       "      <td>//data.riksdagen.se/dokument/H7023001.text</td>\n",
       "      <td>//data.riksdagen.se/dokument/H7023001.html</td>\n",
       "      <td></td>\n",
       "      <td></td>\n",
       "      <td></td>\n",
       "      <td></td>\n",
       "      <td></td>\n",
       "      <td></td>\n",
       "      <td>Stärkt skydd för den svenska demokratin</td>\n",
       "      <td>2019/20</td>\n",
       "      <td>KU</td>\n",
       "      <td></td>\n",
       "      <td>mot</td>\n",
       "      <td>mot</td>\n",
       "      <td>Enskild motion</td>\n",
       "      <td>3001</td>\n",
       "      <td>M1474</td>\n",
       "      <td>3001</td>\n",
       "      <td>Klar</td>\n",
       "      <td>202</td>\n",
       "      <td>{'titel': 'Stärkt skydd för den svenska demokr...</td>\n",
       "      <td>Motion till riksdagen\\n 2019/20:3001\\n av Edwa...</td>\n",
       "      <td>Stärkt skydd för den svenska demokratin</td>\n",
       "      <td>Motion till riksdagen\\n 2019/20:3001\\n av Edwa...</td>\n",
       "      <td>{'intressent': [{'roll': 'undertecknare', 'nam...</td>\n",
       "      <td>{'fil': [{'typ': 'docx', 'namn': 'mot_201920__...</td>\n",
       "      <td>dokument</td>\n",
       "      <td></td>\n",
       "      <td></td>\n",
       "      <td></td>\n",
       "      <td></td>\n",
       "      <td></td>\n",
       "      <td></td>\n",
       "      <td></td>\n",
       "      <td></td>\n",
       "      <td></td>\n",
       "      <td></td>\n",
       "      <td></td>\n",
       "      <td></td>\n",
       "      <td>None</td>\n",
       "      <td>Motion</td>\n",
       "      <td>Motion</td>\n",
       "    </tr>\n",
       "  </tbody>\n",
       "</table>\n",
       "</div>"
      ],
      "text/plain": [
       "  traff  domain  database       datum        id rdrest slutdatum rddata plats  \\\n",
       "0  9981  rdwebb  dokument  2019-10-03  H7023006   None             None         \n",
       "1  9982  rdwebb  dokument  2019-10-03  H7023004   None             None         \n",
       "2  9983  rdwebb  dokument  2019-10-03  H7023003   None             None         \n",
       "3  9984  rdwebb  dokument  2019-10-03  H7023002   None             None         \n",
       "4  9985  rdwebb  dokument  2019-10-03  H7023001   None             None         \n",
       "\n",
       "  klockslag  publicerad          systemdatum           undertitel  kalla  \\\n",
       "0            2019-10-03  2020-07-01 11:52:00  av Edward Riedl (M)  Filur   \n",
       "1            2019-10-03  2020-07-01 11:49:45  av Edward Riedl (M)  Filur   \n",
       "2            2019-10-03  2020-07-01 11:47:34  av Edward Riedl (M)  Filur   \n",
       "3            2019-10-03  2020-07-01 11:46:11  av Edward Riedl (M)  Filur   \n",
       "4            2019-10-03  2020-07-01 11:44:26  av Edward Riedl (M)  Filur   \n",
       "\n",
       "                                kall_id    dok_id dokumentformat  \\\n",
       "0  af72adaa-60b1-4ae9-bcda-f3da2edabcc3  H7023006                  \n",
       "1  200e6d70-b23b-4727-a766-ff809c0ada71  H7023004                  \n",
       "2  0b6211c6-8f63-4519-8d31-97644b20b220  H7023003                  \n",
       "3  27e7f165-7a5a-43f4-97cf-961cc448475d  H7023002                  \n",
       "4  733e56f5-3f7a-4bd3-be73-0c8c6abd9c4e  H7023001                  \n",
       "\n",
       "                            dokument_url_text  \\\n",
       "0  //data.riksdagen.se/dokument/H7023006.text   \n",
       "1  //data.riksdagen.se/dokument/H7023004.text   \n",
       "2  //data.riksdagen.se/dokument/H7023003.text   \n",
       "3  //data.riksdagen.se/dokument/H7023002.text   \n",
       "4  //data.riksdagen.se/dokument/H7023001.text   \n",
       "\n",
       "                            dokument_url_html inlamnad motionstid tilldelat  \\\n",
       "0  //data.riksdagen.se/dokument/H7023006.html                                 \n",
       "1  //data.riksdagen.se/dokument/H7023004.html                                 \n",
       "2  //data.riksdagen.se/dokument/H7023003.html                                 \n",
       "3  //data.riksdagen.se/dokument/H7023002.html                                 \n",
       "4  //data.riksdagen.se/dokument/H7023001.html                                 \n",
       "\n",
       "  lang url relurl                                             titel       rm  \\\n",
       "0                                                   Cancerscreening  2019/20   \n",
       "1                               Anslag för skolresor till Auschwitz  2019/20   \n",
       "2                  Inför en nationell sköldkörtelstrategi i Sverige  2019/20   \n",
       "3                           Kontroll i fråga om assistansersättning  2019/20   \n",
       "4                           Stärkt skydd för den svenska demokratin  2019/20   \n",
       "\n",
       "  organ relaterat_id doktyp  typ          subtyp beteckning tempbeteckning  \\\n",
       "0   SoU                 mot  mot  Enskild motion       3006          M1238   \n",
       "1   UbU                 mot  mot  Enskild motion       3004          M2133   \n",
       "2   SoU                 mot  mot  Enskild motion       3003          M1282   \n",
       "3   SoU                 mot  mot  Enskild motion       3002          M1285   \n",
       "4    KU                 mot  mot  Enskild motion       3001          M1474   \n",
       "\n",
       "  nummer status score                                            sokdata  \\\n",
       "0   3006   Klar   202  {'titel': 'Cancerscreening', 'undertitel': 'Mo...   \n",
       "1   3004   Klar   202  {'titel': 'Anslag för skolresor till Auschwitz...   \n",
       "2   3003   Klar   202  {'titel': 'Inför en nationell sköldkörtelstrat...   \n",
       "3   3002   Klar   202  {'titel': 'Kontroll i fråga om assistansersätt...   \n",
       "4   3001   Klar   202  {'titel': 'Stärkt skydd för den svenska demokr...   \n",
       "\n",
       "                                             summary  \\\n",
       "0  Motion till riksdagen\\n 2019/20:3006\\n av Edwa...   \n",
       "1  Motion till riksdagen\\n 2019/20:3004\\n av Edwa...   \n",
       "2  Motion till riksdagen\\n 2019/20:3003\\n av Edwa...   \n",
       "3  Motion till riksdagen\\n 2019/20:3002\\n av Edwa...   \n",
       "4  Motion till riksdagen\\n 2019/20:3001\\n av Edwa...   \n",
       "\n",
       "                                        notisrubrik  \\\n",
       "0                                   Cancerscreening   \n",
       "1               Anslag för skolresor till Auschwitz   \n",
       "2  Inför en nationell sköldkörtelstrategi i Sverige   \n",
       "3           Kontroll i fråga om assistansersättning   \n",
       "4           Stärkt skydd för den svenska demokratin   \n",
       "\n",
       "                                               notis  \\\n",
       "0  Motion till riksdagen\\n 2019/20:3006\\n av Edwa...   \n",
       "1  Motion till riksdagen\\n 2019/20:3004\\n av Edwa...   \n",
       "2  Motion till riksdagen\\n 2019/20:3003\\n av Edwa...   \n",
       "3  Motion till riksdagen\\n 2019/20:3002\\n av Edwa...   \n",
       "4  Motion till riksdagen\\n 2019/20:3001\\n av Edwa...   \n",
       "\n",
       "                                       dokintressent  \\\n",
       "0  {'intressent': [{'roll': 'undertecknare', 'nam...   \n",
       "1  {'intressent': [{'roll': 'undertecknare', 'nam...   \n",
       "2  {'intressent': [{'roll': 'undertecknare', 'nam...   \n",
       "3  {'intressent': [{'roll': 'undertecknare', 'nam...   \n",
       "4  {'intressent': [{'roll': 'undertecknare', 'nam...   \n",
       "\n",
       "                                           filbilaga avdelning struktur audio  \\\n",
       "0  {'fil': [{'typ': 'docx', 'namn': 'mot_201920__...  dokument                  \n",
       "1  {'fil': [{'typ': 'docx', 'namn': 'mot_201920__...  dokument                  \n",
       "2  {'fil': [{'typ': 'docx', 'namn': 'mot_201920__...  dokument                  \n",
       "3  {'fil': [{'typ': 'docx', 'namn': 'mot_201920__...  dokument                  \n",
       "4  {'fil': [{'typ': 'docx', 'namn': 'mot_201920__...  dokument                  \n",
       "\n",
       "  video debattgrupp debattdag beslutsdag beredningsdag justeringsdag beslutad  \\\n",
       "0                                                                               \n",
       "1                                                                               \n",
       "2                                                                               \n",
       "3                                                                               \n",
       "4                                                                               \n",
       "\n",
       "  debattsekunder ardometyp reservationer debatt debattnamn dokumentnamn  \n",
       "0                                          None     Motion       Motion  \n",
       "1                                          None     Motion       Motion  \n",
       "2                                          None     Motion       Motion  \n",
       "3                                          None     Motion       Motion  \n",
       "4                                          None     Motion       Motion  "
      ]
     },
     "execution_count": 2,
     "metadata": {},
     "output_type": "execute_result"
    }
   ],
   "source": [
    "import urllib3, json\n",
    "import pandas as pd  \n",
    "from tqdm.notebook import trange \n",
    "import warnings\n",
    "warnings.simplefilter(action='ignore', category=FutureWarning)\n",
    "\n",
    "http = urllib3.PoolManager() \n",
    "pd.set_option(\"display.max.columns\", None) \n",
    "#pd.set_option(\"display.max.rows\", None) \n",
    "urlbase =\"http://data.riksdagen.se/dokumentlista/?sok=&doktyp=mot&utformat=json\"\n",
    "urlbase =\"http://data.riksdagen.se/dokumentlista/?sok=&doktyp=mot&utformat=json&start=2021\"\n",
    "\n",
    "dftot = pd.DataFrame()\n",
    "maxrun = int(245204/20)+1\n",
    "for i in trange(1,maxrun):\n",
    "#for i in trange(1,10):\n",
    "    url = urlbase + str(i)\n",
    "    #print(url)\n",
    "    r = http.request('GET', url)\n",
    "    try:\n",
    "        data = json.loads(r.data)\n",
    "        dftot = dftot.append(pd.DataFrame(data[\"dokumentlista\"][\"dokument\"]),sort=False)\n",
    "    except:\n",
    "        print(\"\\tError in i=\",i,\" can be html problem\") \n",
    "dftot.head()\n"
   ]
  },
  {
   "cell_type": "code",
   "execution_count": 3,
   "metadata": {},
   "outputs": [
    {
     "name": "stdout",
     "output_type": "stream",
     "text": [
      "<class 'pandas.core.frame.DataFrame'>\n",
      "Int64Index: 245200 entries, 0 to 19\n",
      "Data columns (total 59 columns):\n",
      " #   Column             Non-Null Count   Dtype \n",
      "---  ------             --------------   ----- \n",
      " 0   traff              245200 non-null  object\n",
      " 1   domain             245200 non-null  object\n",
      " 2   database           245200 non-null  object\n",
      " 3   datum              245200 non-null  object\n",
      " 4   id                 245200 non-null  object\n",
      " 5   rdrest             0 non-null       object\n",
      " 6   slutdatum          245200 non-null  object\n",
      " 7   rddata             0 non-null       object\n",
      " 8   plats              245200 non-null  object\n",
      " 9   klockslag          245200 non-null  object\n",
      " 10  publicerad         245200 non-null  object\n",
      " 11  systemdatum        245200 non-null  object\n",
      " 12  undertitel         245200 non-null  object\n",
      " 13  kalla              245200 non-null  object\n",
      " 14  kall_id            245200 non-null  object\n",
      " 15  dok_id             245200 non-null  object\n",
      " 16  dokumentformat     245200 non-null  object\n",
      " 17  dokument_url_text  245200 non-null  object\n",
      " 18  dokument_url_html  245200 non-null  object\n",
      " 19  inlamnad           245200 non-null  object\n",
      " 20  motionstid         245200 non-null  object\n",
      " 21  tilldelat          245200 non-null  object\n",
      " 22  lang               245200 non-null  object\n",
      " 23  url                245200 non-null  object\n",
      " 24  relurl             245200 non-null  object\n",
      " 25  titel              245200 non-null  object\n",
      " 26  rm                 245200 non-null  object\n",
      " 27  organ              245200 non-null  object\n",
      " 28  relaterat_id       245200 non-null  object\n",
      " 29  doktyp             245200 non-null  object\n",
      " 30  typ                245200 non-null  object\n",
      " 31  subtyp             245200 non-null  object\n",
      " 32  beteckning         245200 non-null  object\n",
      " 33  tempbeteckning     245200 non-null  object\n",
      " 34  nummer             245200 non-null  object\n",
      " 35  status             245200 non-null  object\n",
      " 36  score              245200 non-null  object\n",
      " 37  sokdata            245200 non-null  object\n",
      " 38  summary            245200 non-null  object\n",
      " 39  notisrubrik        245200 non-null  object\n",
      " 40  notis              245200 non-null  object\n",
      " 41  dokintressent      245200 non-null  object\n",
      " 42  filbilaga          245200 non-null  object\n",
      " 43  avdelning          245200 non-null  object\n",
      " 44  struktur           245200 non-null  object\n",
      " 45  audio              245200 non-null  object\n",
      " 46  video              245200 non-null  object\n",
      " 47  debattgrupp        245200 non-null  object\n",
      " 48  debattdag          245200 non-null  object\n",
      " 49  beslutsdag         245200 non-null  object\n",
      " 50  beredningsdag      245200 non-null  object\n",
      " 51  justeringsdag      245200 non-null  object\n",
      " 52  beslutad           245200 non-null  object\n",
      " 53  debattsekunder     245200 non-null  object\n",
      " 54  ardometyp          245200 non-null  object\n",
      " 55  reservationer      245200 non-null  object\n",
      " 56  debatt             0 non-null       object\n",
      " 57  debattnamn         245200 non-null  object\n",
      " 58  dokumentnamn       245200 non-null  object\n",
      "dtypes: object(59)\n",
      "memory usage: 112.2+ MB\n"
     ]
    }
   ],
   "source": [
    "dftot.info()"
   ]
  },
  {
   "cell_type": "code",
   "execution_count": 4,
   "metadata": {},
   "outputs": [],
   "source": [
    "pd.set_option(\"display.max.rows\", None) \n",
    "#dftot"
   ]
  },
  {
   "cell_type": "code",
   "execution_count": 5,
   "metadata": {},
   "outputs": [],
   "source": [
    "#dftot.id.value_counts()"
   ]
  },
  {
   "cell_type": "code",
   "execution_count": 6,
   "metadata": {},
   "outputs": [],
   "source": [
    "#dftot.dok_id.value_counts()"
   ]
  },
  {
   "cell_type": "code",
   "execution_count": 7,
   "metadata": {},
   "outputs": [],
   "source": [
    "#dftot[['nummer','titel','publicerad','beslutad','datum','summary']] \n"
   ]
  },
  {
   "cell_type": "code",
   "execution_count": 8,
   "metadata": {},
   "outputs": [
    {
     "data": {
      "text/plain": [
       "array(['2019-10-03'], dtype=object)"
      ]
     },
     "execution_count": 8,
     "metadata": {},
     "output_type": "execute_result"
    }
   ],
   "source": [
    "dftot.publicerad.unique()"
   ]
  },
  {
   "cell_type": "code",
   "execution_count": 9,
   "metadata": {},
   "outputs": [],
   "source": [
    "#dftot.publicerad.value_counts()"
   ]
  },
  {
   "cell_type": "code",
   "execution_count": 10,
   "metadata": {},
   "outputs": [],
   "source": [
    "#matplotlib inline  \n",
    "#import matplotlib.pyplot as plt   \n",
    "#plot = dftot.publicerad.value_counts()[1:30].plot.bar(y='counts', figsize=(25, 5)) \n",
    "#plt.show()"
   ]
  },
  {
   "cell_type": "code",
   "execution_count": 11,
   "metadata": {},
   "outputs": [
    {
     "data": {
      "text/plain": [
       "JuU    61300\n",
       "SkU    49040\n",
       "SoU    36780\n",
       "UbU    24520\n",
       "SfU    24520\n",
       "KU     12260\n",
       "KrU    12260\n",
       "NU     12260\n",
       "MJU    12260\n",
       "Name: organ, dtype: int64"
      ]
     },
     "execution_count": 11,
     "metadata": {},
     "output_type": "execute_result"
    }
   ],
   "source": [
    "organCount = dftot.organ.value_counts() \n",
    "organCount"
   ]
  },
  {
   "cell_type": "code",
   "execution_count": 12,
   "metadata": {},
   "outputs": [
    {
     "data": {
      "text/plain": [
       "av Richard Jomshof (SD)          49040\n",
       "av Laila Naraghi m.fl. (S)       12260\n",
       "av Lars Hjälmered m.fl. (M)      12260\n",
       "av Andreas Carlson m.fl. (KD)    12260\n",
       "av Ann-Sofie Alm (M)             12260\n",
       "av Richard Jomshof m.fl. (SD)    12260\n",
       "Name: undertitel, dtype: int64"
      ]
     },
     "execution_count": 12,
     "metadata": {},
     "output_type": "execute_result"
    }
   ],
   "source": [
    "dftot.undertitel.value_counts()[1:50]"
   ]
  },
  {
   "cell_type": "code",
   "execution_count": 13,
   "metadata": {},
   "outputs": [
    {
     "data": {
      "text/plain": [
       "Enskild motion    220680\n",
       "Kommittémotion     24520\n",
       "Name: subtyp, dtype: int64"
      ]
     },
     "execution_count": 13,
     "metadata": {},
     "output_type": "execute_result"
    }
   ],
   "source": [
    "dftot.subtyp.value_counts()"
   ]
  },
  {
   "cell_type": "code",
   "execution_count": 14,
   "metadata": {},
   "outputs": [
    {
     "data": {
      "text/plain": [
       "mot    245200\n",
       "Name: doktyp, dtype: int64"
      ]
     },
     "execution_count": 14,
     "metadata": {},
     "output_type": "execute_result"
    }
   ],
   "source": [
    "dftot.doktyp.value_counts()"
   ]
  },
  {
   "cell_type": "code",
   "execution_count": 15,
   "metadata": {},
   "outputs": [
    {
     "data": {
      "text/plain": [
       "mot    245200\n",
       "Name: typ, dtype: int64"
      ]
     },
     "execution_count": 15,
     "metadata": {},
     "output_type": "execute_result"
    }
   ],
   "source": [
    "dftot.typ.value_counts()"
   ]
  },
  {
   "cell_type": "code",
   "execution_count": 16,
   "metadata": {},
   "outputs": [
    {
     "data": {
      "text/plain": [
       "2019/20    245200\n",
       "Name: rm, dtype: int64"
      ]
     },
     "execution_count": 16,
     "metadata": {},
     "output_type": "execute_result"
    }
   ],
   "source": [
    "dftot.rm.value_counts()"
   ]
  },
  {
   "cell_type": "code",
   "execution_count": 17,
   "metadata": {},
   "outputs": [
    {
     "data": {
      "text/plain": [
       "Klar    245200\n",
       "Name: status, dtype: int64"
      ]
     },
     "execution_count": 17,
     "metadata": {},
     "output_type": "execute_result"
    }
   ],
   "source": [
    "dftot.status.value_counts()"
   ]
  },
  {
   "cell_type": "code",
   "execution_count": 18,
   "metadata": {},
   "outputs": [
    {
     "data": {
      "text/plain": [
       "3006    12260\n",
       "3004    12260\n",
       "2957    12260\n",
       "2683    12260\n",
       "2684    12260\n",
       "2687    12260\n",
       "2688    12260\n",
       "2689    12260\n",
       "2700    12260\n",
       "2728    12260\n",
       "2677    12260\n",
       "3043    12260\n",
       "2997    12260\n",
       "2998    12260\n",
       "2999    12260\n",
       "3000    12260\n",
       "3001    12260\n",
       "3002    12260\n",
       "3003    12260\n",
       "2956    12260\n",
       "Name: beteckning, dtype: int64"
      ]
     },
     "execution_count": 18,
     "metadata": {},
     "output_type": "execute_result"
    }
   ],
   "source": [
    "dftot.beteckning.value_counts()"
   ]
  },
  {
   "cell_type": "code",
   "execution_count": 19,
   "metadata": {},
   "outputs": [
    {
     "data": {
      "text/plain": [
       "SD       61300\n",
       "M1238    12260\n",
       "M2133    12260\n",
       "M1282    12260\n",
       "M1285    12260\n",
       "M1474    12260\n",
       "M1229    12260\n",
       "M1305    12260\n",
       "M1320    12260\n",
       "M1333    12260\n",
       "S1550    12260\n",
       "M        12260\n",
       "KD       12260\n",
       "M1362    12260\n",
       "M1873    12260\n",
       "M1427    12260\n",
       "Name: tempbeteckning, dtype: int64"
      ]
     },
     "execution_count": 19,
     "metadata": {},
     "output_type": "execute_result"
    }
   ],
   "source": [
    "dftot.tempbeteckning.value_counts()"
   ]
  },
  {
   "cell_type": "code",
   "execution_count": 20,
   "metadata": {},
   "outputs": [
    {
     "data": {
      "text/plain": [
       "3006    12260\n",
       "3004    12260\n",
       "2957    12260\n",
       "2683    12260\n",
       "2684    12260\n",
       "2687    12260\n",
       "2688    12260\n",
       "2689    12260\n",
       "2700    12260\n",
       "2728    12260\n",
       "2677    12260\n",
       "3043    12260\n",
       "2997    12260\n",
       "2998    12260\n",
       "2999    12260\n",
       "3000    12260\n",
       "3001    12260\n",
       "3002    12260\n",
       "3003    12260\n",
       "2956    12260\n",
       "Name: nummer, dtype: int64"
      ]
     },
     "execution_count": 20,
     "metadata": {},
     "output_type": "execute_result"
    }
   ],
   "source": [
    "dftot.nummer.value_counts()"
   ]
  },
  {
   "cell_type": "code",
   "execution_count": 21,
   "metadata": {},
   "outputs": [
    {
     "data": {
      "text/plain": [
       "202    245200\n",
       "Name: score, dtype: int64"
      ]
     },
     "execution_count": 21,
     "metadata": {},
     "output_type": "execute_result"
    }
   ],
   "source": [
    "dftot.score.value_counts()"
   ]
  },
  {
   "cell_type": "code",
   "execution_count": 22,
   "metadata": {},
   "outputs": [],
   "source": [
    "#dftot.sokdata.value_counts()"
   ]
  },
  {
   "cell_type": "code",
   "execution_count": 23,
   "metadata": {},
   "outputs": [],
   "source": [
    "import seaborn as sns\n",
    "%matplotlib inline\n",
    "%config InlineBackend.figure_format = 'svg'"
   ]
  },
  {
   "cell_type": "code",
   "execution_count": 24,
   "metadata": {},
   "outputs": [],
   "source": [
    "#sns.heatmap(dftot.isnull(), \n",
    "#            yticklabels=False, \n",
    "#            cbar=False, \n",
    "#            cmap='viridis')"
   ]
  },
  {
   "cell_type": "code",
   "execution_count": 25,
   "metadata": {},
   "outputs": [
    {
     "ename": "NameError",
     "evalue": "name 'plt' is not defined",
     "output_type": "error",
     "traceback": [
      "\u001b[0;31m---------------------------------------------------------------------------\u001b[0m",
      "\u001b[0;31mNameError\u001b[0m                                 Traceback (most recent call last)",
      "\u001b[0;32m<ipython-input-25-1eb00ff78cf2>\u001b[0m in \u001b[0;36m<module>\u001b[0;34m\u001b[0m\n\u001b[0;32m----> 1\u001b[0;31m \u001b[0mplt\u001b[0m\u001b[0;34m.\u001b[0m\u001b[0mshow\u001b[0m\u001b[0;34m(\u001b[0m\u001b[0;34m)\u001b[0m\u001b[0;34m\u001b[0m\u001b[0;34m\u001b[0m\u001b[0m\n\u001b[0m",
      "\u001b[0;31mNameError\u001b[0m: name 'plt' is not defined"
     ]
    }
   ],
   "source": [
    "#plt.show()"
   ]
  },
  {
   "cell_type": "markdown",
   "metadata": {},
   "source": [
    "## Lagstiftande utskott \n",
    "\n",
    "Fält **organ**"
   ]
  },
  {
   "cell_type": "code",
   "execution_count": 26,
   "metadata": {},
   "outputs": [
    {
     "data": {
      "text/plain": [
       "array(['SoU', 'UbU', 'KU', 'SkU', 'KrU', 'NU', 'JuU', 'MJU', 'SfU'],\n",
       "      dtype=object)"
      ]
     },
     "execution_count": 26,
     "metadata": {},
     "output_type": "execute_result"
    }
   ],
   "source": [
    "dftot.organ.unique()"
   ]
  },
  {
   "cell_type": "code",
   "execution_count": 27,
   "metadata": {},
   "outputs": [
    {
     "data": {
      "text/html": [
       "<div>\n",
       "<style scoped>\n",
       "    .dataframe tbody tr th:only-of-type {\n",
       "        vertical-align: middle;\n",
       "    }\n",
       "\n",
       "    .dataframe tbody tr th {\n",
       "        vertical-align: top;\n",
       "    }\n",
       "\n",
       "    .dataframe thead th {\n",
       "        text-align: right;\n",
       "    }\n",
       "</style>\n",
       "<table border=\"1\" class=\"dataframe\">\n",
       "  <thead>\n",
       "    <tr style=\"text-align: right;\">\n",
       "      <th></th>\n",
       "      <th>id</th>\n",
       "      <th>organ</th>\n",
       "    </tr>\n",
       "  </thead>\n",
       "  <tbody>\n",
       "    <tr>\n",
       "      <th>0</th>\n",
       "      <td>H7023006</td>\n",
       "      <td>SoU</td>\n",
       "    </tr>\n",
       "    <tr>\n",
       "      <th>1</th>\n",
       "      <td>H7023004</td>\n",
       "      <td>UbU</td>\n",
       "    </tr>\n",
       "    <tr>\n",
       "      <th>2</th>\n",
       "      <td>H7023003</td>\n",
       "      <td>SoU</td>\n",
       "    </tr>\n",
       "    <tr>\n",
       "      <th>3</th>\n",
       "      <td>H7023002</td>\n",
       "      <td>SoU</td>\n",
       "    </tr>\n",
       "    <tr>\n",
       "      <th>4</th>\n",
       "      <td>H7023001</td>\n",
       "      <td>KU</td>\n",
       "    </tr>\n",
       "  </tbody>\n",
       "</table>\n",
       "</div>"
      ],
      "text/plain": [
       "         id organ\n",
       "0  H7023006   SoU\n",
       "1  H7023004   UbU\n",
       "2  H7023003   SoU\n",
       "3  H7023002   SoU\n",
       "4  H7023001    KU"
      ]
     },
     "execution_count": 27,
     "metadata": {},
     "output_type": "execute_result"
    }
   ],
   "source": [
    "dftot[['id','organ']].head()"
   ]
  },
  {
   "cell_type": "code",
   "execution_count": 28,
   "metadata": {},
   "outputs": [],
   "source": [
    "dftot[['id','organ']].to_csv(\"Lagstiftande.csv\")"
   ]
  },
  {
   "cell_type": "code",
   "execution_count": 29,
   "metadata": {},
   "outputs": [
    {
     "data": {
      "text/plain": [
       "JuU    61300\n",
       "SkU    49040\n",
       "SoU    36780\n",
       "UbU    24520\n",
       "SfU    24520\n",
       "KU     12260\n",
       "KrU    12260\n",
       "NU     12260\n",
       "MJU    12260\n",
       "Name: organ, dtype: int64"
      ]
     },
     "execution_count": 29,
     "metadata": {},
     "output_type": "execute_result"
    }
   ],
   "source": [
    "dftot.organ.value_counts()"
   ]
  },
  {
   "cell_type": "code",
   "execution_count": 30,
   "metadata": {},
   "outputs": [
    {
     "name": "stdout",
     "output_type": "stream",
     "text": [
      "Ended:  2022-09-08 08:14:31.350017\n",
      "Time elapsed (hh:mm:ss.ms) 2:56:14.615543\n"
     ]
    }
   ],
   "source": [
    "end = datetime.now()\n",
    "print(\"Ended: \", end) \n",
    "print('Time elapsed (hh:mm:ss.ms) {}'.format(datetime.now() - start_time))"
   ]
  },
  {
   "cell_type": "code",
   "execution_count": null,
   "metadata": {},
   "outputs": [],
   "source": []
  },
  {
   "cell_type": "code",
   "execution_count": null,
   "metadata": {},
   "outputs": [],
   "source": []
  }
 ],
 "metadata": {
  "kernelspec": {
   "display_name": "Python 3",
   "language": "python",
   "name": "python3"
  },
  "language_info": {
   "codemirror_mode": {
    "name": "ipython",
    "version": 3
   },
   "file_extension": ".py",
   "mimetype": "text/x-python",
   "name": "python",
   "nbconvert_exporter": "python",
   "pygments_lexer": "ipython3",
   "version": "3.9.13"
  }
 },
 "nbformat": 4,
 "nbformat_minor": 4
}
