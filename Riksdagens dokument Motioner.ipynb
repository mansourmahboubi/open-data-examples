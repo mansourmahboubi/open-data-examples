{
 "cells": [
  {
   "cell_type": "markdown",
   "metadata": {},
   "source": [
    "## Riksdagen motioner \n",
    "\n",
    "* Denna [Jupyter Notebook](https://github.com/salgo60/open-data-examples/blob/master/Riksdagens%20dokument%20Motioner.ipynb) \n",
    "  * samma men 10000 motioner och [engelska](https://github.com/salgo60/open-data-examples/blob/master/Riksdagens%20dokument%20Motioner-en.ipynb) \n",
    "  * [GITHUB Riksdagen](https://github.com/salgo60/Riksdagen)\n",
    "  * [video](https://www.youtube.com/watch?v=WaEpU0FCnK8) om Open Refine och Lagstiftande [#WikidataRiksdahge](https://www.youtube.com/hashtag/wikidatariksdagen)\n",
    "* [Skapa sökfråga](http://data.riksdagen.se/dokumentlista/)  --> 245204 Motioner \n",
    "  \n",
    "* Wikipedia [WikiProject_Sweden/Swedish_Riksdag_documents](https://www.wikidata.org/wiki/Wikidata:WikiProject_Sweden/Swedish_Riksdag_documents) \n",
    "\n",
    "* [Sida med prefix](https://data.riksdagen.se/dokumentation/sa-funkar-dokument-id/#:~:text=kod%20for%20riksmote%20eller%20ar)\n",
    "\n",
    "\n",
    "### Test H7023008 Motion 2019/20:3008 av Jonas Sjöstedt m.fl. (V)\n",
    "* [text](http://data.riksdagen.se/dokument/H7023008.text) / [html](http://data.riksdagen.se/dokument/H7023008.html) /  [json](http://data.riksdagen.se/dokumentlista/?sok=H7023008&utformat=json) \n"
   ]
  },
  {
   "cell_type": "code",
   "execution_count": 1,
   "metadata": {},
   "outputs": [
    {
     "name": "stdout",
     "output_type": "stream",
     "text": [
      "Last run:  2022-09-30 16:15:50.885529\n"
     ]
    }
   ],
   "source": [
    "from datetime import datetime\n",
    "start_time  = datetime.now()\n",
    "print(\"Last run: \", start_time)"
   ]
  },
  {
   "cell_type": "code",
   "execution_count": 2,
   "metadata": {},
   "outputs": [
    {
     "data": {
      "application/vnd.jupyter.widget-view+json": {
       "model_id": "a77f10d452b04bae9659d9acbf67d8ad",
       "version_major": 2,
       "version_minor": 0
      },
      "text/plain": [
       "  0%|          | 0/16347 [00:00<?, ?it/s]"
      ]
     },
     "metadata": {},
     "output_type": "display_data"
    },
    {
     "data": {
      "text/html": [
       "<div>\n",
       "<style scoped>\n",
       "    .dataframe tbody tr th:only-of-type {\n",
       "        vertical-align: middle;\n",
       "    }\n",
       "\n",
       "    .dataframe tbody tr th {\n",
       "        vertical-align: top;\n",
       "    }\n",
       "\n",
       "    .dataframe thead th {\n",
       "        text-align: right;\n",
       "    }\n",
       "</style>\n",
       "<table border=\"1\" class=\"dataframe\">\n",
       "  <thead>\n",
       "    <tr style=\"text-align: right;\">\n",
       "      <th></th>\n",
       "      <th>traff</th>\n",
       "      <th>domain</th>\n",
       "      <th>database</th>\n",
       "      <th>datum</th>\n",
       "      <th>id</th>\n",
       "      <th>rdrest</th>\n",
       "      <th>slutdatum</th>\n",
       "      <th>rddata</th>\n",
       "      <th>plats</th>\n",
       "      <th>klockslag</th>\n",
       "      <th>publicerad</th>\n",
       "      <th>systemdatum</th>\n",
       "      <th>undertitel</th>\n",
       "      <th>kalla</th>\n",
       "      <th>kall_id</th>\n",
       "      <th>dok_id</th>\n",
       "      <th>dokumentformat</th>\n",
       "      <th>dokument_url_text</th>\n",
       "      <th>dokument_url_html</th>\n",
       "      <th>inlamnad</th>\n",
       "      <th>motionstid</th>\n",
       "      <th>tilldelat</th>\n",
       "      <th>lang</th>\n",
       "      <th>url</th>\n",
       "      <th>relurl</th>\n",
       "      <th>titel</th>\n",
       "      <th>rm</th>\n",
       "      <th>organ</th>\n",
       "      <th>relaterat_id</th>\n",
       "      <th>doktyp</th>\n",
       "      <th>typ</th>\n",
       "      <th>subtyp</th>\n",
       "      <th>beteckning</th>\n",
       "      <th>tempbeteckning</th>\n",
       "      <th>nummer</th>\n",
       "      <th>status</th>\n",
       "      <th>score</th>\n",
       "      <th>sokdata</th>\n",
       "      <th>summary</th>\n",
       "      <th>notisrubrik</th>\n",
       "      <th>notis</th>\n",
       "      <th>dokintressent</th>\n",
       "      <th>filbilaga</th>\n",
       "      <th>avdelning</th>\n",
       "      <th>struktur</th>\n",
       "      <th>audio</th>\n",
       "      <th>video</th>\n",
       "      <th>debattgrupp</th>\n",
       "      <th>debattdag</th>\n",
       "      <th>beslutsdag</th>\n",
       "      <th>beredningsdag</th>\n",
       "      <th>justeringsdag</th>\n",
       "      <th>beslutad</th>\n",
       "      <th>debattsekunder</th>\n",
       "      <th>ardometyp</th>\n",
       "      <th>reservationer</th>\n",
       "      <th>debatt</th>\n",
       "      <th>debattnamn</th>\n",
       "      <th>dokumentnamn</th>\n",
       "    </tr>\n",
       "  </thead>\n",
       "  <tbody>\n",
       "    <tr>\n",
       "      <th>0</th>\n",
       "      <td>1</td>\n",
       "      <td>rdwebb</td>\n",
       "      <td>dokument</td>\n",
       "      <td>2022-09-30</td>\n",
       "      <td>HA021</td>\n",
       "      <td>None</td>\n",
       "      <td></td>\n",
       "      <td>None</td>\n",
       "      <td></td>\n",
       "      <td></td>\n",
       "      <td>2022-09-30</td>\n",
       "      <td>2022-09-30 15:46:03</td>\n",
       "      <td>av Lotta Johnsson Fornarve m.fl. (V)</td>\n",
       "      <td>Filur</td>\n",
       "      <td>7a4bffe6-9c85-4d42-a403-be8bd8b3e44b</td>\n",
       "      <td>HA021</td>\n",
       "      <td></td>\n",
       "      <td>//data.riksdagen.se/dokument/HA021.text</td>\n",
       "      <td>//data.riksdagen.se/dokument/HA021.html</td>\n",
       "      <td></td>\n",
       "      <td></td>\n",
       "      <td></td>\n",
       "      <td></td>\n",
       "      <td></td>\n",
       "      <td></td>\n",
       "      <td>med anledning av skr. 2021/22:236 Resultatskri...</td>\n",
       "      <td>2022/23</td>\n",
       "      <td>UU</td>\n",
       "      <td></td>\n",
       "      <td>mot</td>\n",
       "      <td>mot</td>\n",
       "      <td>Kommittémotion</td>\n",
       "      <td>1</td>\n",
       "      <td>V003</td>\n",
       "      <td>1</td>\n",
       "      <td>Inkommen</td>\n",
       "      <td>221</td>\n",
       "      <td>{'titel': 'med anledning av skr. 2021/22:236 R...</td>\n",
       "      <td>Motion till riksdagen\\n 2022/23:1\\n av Lotta J...</td>\n",
       "      <td>med anledning av skr. 2021/22:236 Resultatskri...</td>\n",
       "      <td>Motion till riksdagen\\n 2022/23:1\\n av Lotta J...</td>\n",
       "      <td>{'intressent': [{'roll': 'undertecknare', 'nam...</td>\n",
       "      <td>{'fil': [{'typ': 'docx', 'namn': 'mot_202223__...</td>\n",
       "      <td>dokument</td>\n",
       "      <td></td>\n",
       "      <td></td>\n",
       "      <td></td>\n",
       "      <td></td>\n",
       "      <td></td>\n",
       "      <td></td>\n",
       "      <td></td>\n",
       "      <td></td>\n",
       "      <td></td>\n",
       "      <td></td>\n",
       "      <td></td>\n",
       "      <td></td>\n",
       "      <td>None</td>\n",
       "      <td>Motion</td>\n",
       "      <td>Motion</td>\n",
       "    </tr>\n",
       "    <tr>\n",
       "      <th>1</th>\n",
       "      <td>2</td>\n",
       "      <td>rdwebb</td>\n",
       "      <td>dokument</td>\n",
       "      <td>2022-09-30</td>\n",
       "      <td>HA023</td>\n",
       "      <td>None</td>\n",
       "      <td></td>\n",
       "      <td>None</td>\n",
       "      <td></td>\n",
       "      <td></td>\n",
       "      <td>2022-09-30</td>\n",
       "      <td>2022-09-30 15:37:48</td>\n",
       "      <td>av Linda Westerlund Snecker m.fl. (V)</td>\n",
       "      <td>Filur</td>\n",
       "      <td>8d58194c-9d42-44c6-8555-e1f5a8e0d4db</td>\n",
       "      <td>HA023</td>\n",
       "      <td></td>\n",
       "      <td>//data.riksdagen.se/dokument/HA023.text</td>\n",
       "      <td>//data.riksdagen.se/dokument/HA023.html</td>\n",
       "      <td></td>\n",
       "      <td></td>\n",
       "      <td></td>\n",
       "      <td></td>\n",
       "      <td></td>\n",
       "      <td></td>\n",
       "      <td>med anledning av skr. 2021/22:261 Nationell pl...</td>\n",
       "      <td>2022/23</td>\n",
       "      <td>TU</td>\n",
       "      <td></td>\n",
       "      <td>mot</td>\n",
       "      <td>mot</td>\n",
       "      <td>Kommittémotion</td>\n",
       "      <td>3</td>\n",
       "      <td>V004</td>\n",
       "      <td>3</td>\n",
       "      <td>Inkommen</td>\n",
       "      <td>221</td>\n",
       "      <td>{'titel': 'med anledning av skr. 2021/22:261 N...</td>\n",
       "      <td>Motion till riksdagen\\n 2022/23:3\\n av Linda W...</td>\n",
       "      <td>med anledning av skr. 2021/22:261 Nationell pl...</td>\n",
       "      <td>Motion till riksdagen\\n 2022/23:3\\n av Linda W...</td>\n",
       "      <td>{'intressent': [{'roll': 'undertecknare', 'nam...</td>\n",
       "      <td>{'fil': [{'typ': 'docx', 'namn': 'mot_202223__...</td>\n",
       "      <td>dokument</td>\n",
       "      <td></td>\n",
       "      <td></td>\n",
       "      <td></td>\n",
       "      <td></td>\n",
       "      <td></td>\n",
       "      <td></td>\n",
       "      <td></td>\n",
       "      <td></td>\n",
       "      <td></td>\n",
       "      <td></td>\n",
       "      <td></td>\n",
       "      <td></td>\n",
       "      <td>None</td>\n",
       "      <td>Motion</td>\n",
       "      <td>Motion</td>\n",
       "    </tr>\n",
       "    <tr>\n",
       "      <th>2</th>\n",
       "      <td>3</td>\n",
       "      <td>rdwebb</td>\n",
       "      <td>dokument</td>\n",
       "      <td>2022-09-30</td>\n",
       "      <td>HA022</td>\n",
       "      <td>None</td>\n",
       "      <td></td>\n",
       "      <td>None</td>\n",
       "      <td></td>\n",
       "      <td></td>\n",
       "      <td>2022-09-30</td>\n",
       "      <td>2022-09-30 15:19:10</td>\n",
       "      <td>av Karin Rågsjö m.fl. (V)</td>\n",
       "      <td>Filur</td>\n",
       "      <td>69c25c79-fc88-4546-a2cb-eb39a6c4f294</td>\n",
       "      <td>HA022</td>\n",
       "      <td></td>\n",
       "      <td>//data.riksdagen.se/dokument/HA022.text</td>\n",
       "      <td>//data.riksdagen.se/dokument/HA022.html</td>\n",
       "      <td></td>\n",
       "      <td></td>\n",
       "      <td></td>\n",
       "      <td></td>\n",
       "      <td></td>\n",
       "      <td></td>\n",
       "      <td>med anledning av prop. 2021/22:260 Ökad kontro...</td>\n",
       "      <td>2022/23</td>\n",
       "      <td>SoU</td>\n",
       "      <td></td>\n",
       "      <td>mot</td>\n",
       "      <td>mot</td>\n",
       "      <td>Kommittémotion</td>\n",
       "      <td>2</td>\n",
       "      <td>V002</td>\n",
       "      <td>2</td>\n",
       "      <td>Inkommen</td>\n",
       "      <td>221</td>\n",
       "      <td>{'titel': 'med anledning av prop. 2021/22:260 ...</td>\n",
       "      <td>Motion till riksdagen\\n 2022/23:2\\n av Karin R...</td>\n",
       "      <td>med anledning av prop. 2021/22:260 Ökad kontro...</td>\n",
       "      <td>Motion till riksdagen\\n 2022/23:2\\n av Karin R...</td>\n",
       "      <td>{'intressent': [{'roll': 'undertecknare', 'nam...</td>\n",
       "      <td>{'fil': [{'typ': 'docx', 'namn': 'mot_202223__...</td>\n",
       "      <td>dokument</td>\n",
       "      <td></td>\n",
       "      <td></td>\n",
       "      <td></td>\n",
       "      <td></td>\n",
       "      <td></td>\n",
       "      <td></td>\n",
       "      <td></td>\n",
       "      <td></td>\n",
       "      <td></td>\n",
       "      <td></td>\n",
       "      <td></td>\n",
       "      <td></td>\n",
       "      <td>None</td>\n",
       "      <td>Motion</td>\n",
       "      <td>Motion</td>\n",
       "    </tr>\n",
       "    <tr>\n",
       "      <th>3</th>\n",
       "      <td>4</td>\n",
       "      <td>rdwebb</td>\n",
       "      <td>dokument</td>\n",
       "      <td>2022-09-21</td>\n",
       "      <td>H9024777</td>\n",
       "      <td>None</td>\n",
       "      <td></td>\n",
       "      <td>None</td>\n",
       "      <td></td>\n",
       "      <td></td>\n",
       "      <td>2022-09-21</td>\n",
       "      <td>2022-09-22 08:56:16</td>\n",
       "      <td>av Ola Johansson (C)</td>\n",
       "      <td>Filur</td>\n",
       "      <td>21e65fae-70e0-4b58-93bb-e5e7d42ab6ee</td>\n",
       "      <td>H9024777</td>\n",
       "      <td></td>\n",
       "      <td>//data.riksdagen.se/dokument/H9024777.text</td>\n",
       "      <td>//data.riksdagen.se/dokument/H9024777.html</td>\n",
       "      <td></td>\n",
       "      <td></td>\n",
       "      <td></td>\n",
       "      <td></td>\n",
       "      <td></td>\n",
       "      <td></td>\n",
       "      <td>med anledning av skr. 2021/22:265 Riksrevision...</td>\n",
       "      <td>2021/22</td>\n",
       "      <td>CU</td>\n",
       "      <td></td>\n",
       "      <td>mot</td>\n",
       "      <td>mot</td>\n",
       "      <td>Kommittémotion</td>\n",
       "      <td>4777</td>\n",
       "      <td>C</td>\n",
       "      <td>4777</td>\n",
       "      <td>Inkommen</td>\n",
       "      <td>214</td>\n",
       "      <td>{'titel': 'med anledning av skr. 2021/22:265 R...</td>\n",
       "      <td>Motion till riksdagen\\n 2021/22:4777\\n av Ola ...</td>\n",
       "      <td>med anledning av skr. 2021/22:265 Riksrevision...</td>\n",
       "      <td>Motion till riksdagen\\n 2021/22:4777\\n av Ola ...</td>\n",
       "      <td>{'intressent': [{'roll': 'undertecknare', 'nam...</td>\n",
       "      <td>{'fil': [{'typ': 'docx', 'namn': 'mot_202122__...</td>\n",
       "      <td>dokument</td>\n",
       "      <td></td>\n",
       "      <td></td>\n",
       "      <td></td>\n",
       "      <td></td>\n",
       "      <td></td>\n",
       "      <td></td>\n",
       "      <td></td>\n",
       "      <td></td>\n",
       "      <td></td>\n",
       "      <td></td>\n",
       "      <td></td>\n",
       "      <td></td>\n",
       "      <td>None</td>\n",
       "      <td>Motion</td>\n",
       "      <td>Motion</td>\n",
       "    </tr>\n",
       "    <tr>\n",
       "      <th>4</th>\n",
       "      <td>5</td>\n",
       "      <td>rdwebb</td>\n",
       "      <td>dokument</td>\n",
       "      <td>2022-06-17</td>\n",
       "      <td>H9024776</td>\n",
       "      <td>None</td>\n",
       "      <td></td>\n",
       "      <td>None</td>\n",
       "      <td></td>\n",
       "      <td></td>\n",
       "      <td>2022-06-17</td>\n",
       "      <td>2022-09-08 10:35:26</td>\n",
       "      <td>av Elisabeth Svantesson m.fl. (M)</td>\n",
       "      <td>Filur</td>\n",
       "      <td>4df559c7-7a41-42ac-aaae-78a2ed01e51f</td>\n",
       "      <td>H9024776</td>\n",
       "      <td></td>\n",
       "      <td>//data.riksdagen.se/dokument/H9024776.text</td>\n",
       "      <td>//data.riksdagen.se/dokument/H9024776.html</td>\n",
       "      <td></td>\n",
       "      <td></td>\n",
       "      <td></td>\n",
       "      <td></td>\n",
       "      <td></td>\n",
       "      <td></td>\n",
       "      <td>med anledning av prop. 2021/22:251 Samverkan m...</td>\n",
       "      <td>2021/22</td>\n",
       "      <td>FiU</td>\n",
       "      <td></td>\n",
       "      <td>mot</td>\n",
       "      <td>mot</td>\n",
       "      <td>Kommittémotion</td>\n",
       "      <td>4776</td>\n",
       "      <td>M</td>\n",
       "      <td>4776</td>\n",
       "      <td>Hänvisad</td>\n",
       "      <td>214</td>\n",
       "      <td>{'titel': 'med anledning av prop. 2021/22:251 ...</td>\n",
       "      <td>Motion till riksdagen\\n 2021/22:4776\\n av Elis...</td>\n",
       "      <td>med anledning av prop. 2021/22:251 Samverkan m...</td>\n",
       "      <td>Motion till riksdagen\\n 2021/22:4776\\n av Elis...</td>\n",
       "      <td>{'intressent': [{'roll': 'undertecknare', 'nam...</td>\n",
       "      <td>{'fil': [{'typ': 'docx', 'namn': 'mot_202122__...</td>\n",
       "      <td>dokument</td>\n",
       "      <td></td>\n",
       "      <td></td>\n",
       "      <td></td>\n",
       "      <td></td>\n",
       "      <td></td>\n",
       "      <td></td>\n",
       "      <td></td>\n",
       "      <td></td>\n",
       "      <td></td>\n",
       "      <td></td>\n",
       "      <td></td>\n",
       "      <td></td>\n",
       "      <td>None</td>\n",
       "      <td>Motion</td>\n",
       "      <td>Motion</td>\n",
       "    </tr>\n",
       "  </tbody>\n",
       "</table>\n",
       "</div>"
      ],
      "text/plain": [
       "  traff  domain  database       datum        id rdrest slutdatum rddata plats  \\\n",
       "0     1  rdwebb  dokument  2022-09-30     HA021   None             None         \n",
       "1     2  rdwebb  dokument  2022-09-30     HA023   None             None         \n",
       "2     3  rdwebb  dokument  2022-09-30     HA022   None             None         \n",
       "3     4  rdwebb  dokument  2022-09-21  H9024777   None             None         \n",
       "4     5  rdwebb  dokument  2022-06-17  H9024776   None             None         \n",
       "\n",
       "  klockslag  publicerad          systemdatum  \\\n",
       "0            2022-09-30  2022-09-30 15:46:03   \n",
       "1            2022-09-30  2022-09-30 15:37:48   \n",
       "2            2022-09-30  2022-09-30 15:19:10   \n",
       "3            2022-09-21  2022-09-22 08:56:16   \n",
       "4            2022-06-17  2022-09-08 10:35:26   \n",
       "\n",
       "                              undertitel  kalla  \\\n",
       "0   av Lotta Johnsson Fornarve m.fl. (V)  Filur   \n",
       "1  av Linda Westerlund Snecker m.fl. (V)  Filur   \n",
       "2              av Karin Rågsjö m.fl. (V)  Filur   \n",
       "3                   av Ola Johansson (C)  Filur   \n",
       "4      av Elisabeth Svantesson m.fl. (M)  Filur   \n",
       "\n",
       "                                kall_id    dok_id dokumentformat  \\\n",
       "0  7a4bffe6-9c85-4d42-a403-be8bd8b3e44b     HA021                  \n",
       "1  8d58194c-9d42-44c6-8555-e1f5a8e0d4db     HA023                  \n",
       "2  69c25c79-fc88-4546-a2cb-eb39a6c4f294     HA022                  \n",
       "3  21e65fae-70e0-4b58-93bb-e5e7d42ab6ee  H9024777                  \n",
       "4  4df559c7-7a41-42ac-aaae-78a2ed01e51f  H9024776                  \n",
       "\n",
       "                            dokument_url_text  \\\n",
       "0     //data.riksdagen.se/dokument/HA021.text   \n",
       "1     //data.riksdagen.se/dokument/HA023.text   \n",
       "2     //data.riksdagen.se/dokument/HA022.text   \n",
       "3  //data.riksdagen.se/dokument/H9024777.text   \n",
       "4  //data.riksdagen.se/dokument/H9024776.text   \n",
       "\n",
       "                            dokument_url_html inlamnad motionstid tilldelat  \\\n",
       "0     //data.riksdagen.se/dokument/HA021.html                                 \n",
       "1     //data.riksdagen.se/dokument/HA023.html                                 \n",
       "2     //data.riksdagen.se/dokument/HA022.html                                 \n",
       "3  //data.riksdagen.se/dokument/H9024777.html                                 \n",
       "4  //data.riksdagen.se/dokument/H9024776.html                                 \n",
       "\n",
       "  lang url relurl                                              titel       rm  \\\n",
       "0                  med anledning av skr. 2021/22:236 Resultatskri...  2022/23   \n",
       "1                  med anledning av skr. 2021/22:261 Nationell pl...  2022/23   \n",
       "2                  med anledning av prop. 2021/22:260 Ökad kontro...  2022/23   \n",
       "3                  med anledning av skr. 2021/22:265 Riksrevision...  2021/22   \n",
       "4                  med anledning av prop. 2021/22:251 Samverkan m...  2021/22   \n",
       "\n",
       "  organ relaterat_id doktyp  typ          subtyp beteckning tempbeteckning  \\\n",
       "0    UU                 mot  mot  Kommittémotion          1           V003   \n",
       "1    TU                 mot  mot  Kommittémotion          3           V004   \n",
       "2   SoU                 mot  mot  Kommittémotion          2           V002   \n",
       "3    CU                 mot  mot  Kommittémotion       4777              C   \n",
       "4   FiU                 mot  mot  Kommittémotion       4776              M   \n",
       "\n",
       "  nummer    status score                                            sokdata  \\\n",
       "0      1  Inkommen   221  {'titel': 'med anledning av skr. 2021/22:236 R...   \n",
       "1      3  Inkommen   221  {'titel': 'med anledning av skr. 2021/22:261 N...   \n",
       "2      2  Inkommen   221  {'titel': 'med anledning av prop. 2021/22:260 ...   \n",
       "3   4777  Inkommen   214  {'titel': 'med anledning av skr. 2021/22:265 R...   \n",
       "4   4776  Hänvisad   214  {'titel': 'med anledning av prop. 2021/22:251 ...   \n",
       "\n",
       "                                             summary  \\\n",
       "0  Motion till riksdagen\\n 2022/23:1\\n av Lotta J...   \n",
       "1  Motion till riksdagen\\n 2022/23:3\\n av Linda W...   \n",
       "2  Motion till riksdagen\\n 2022/23:2\\n av Karin R...   \n",
       "3  Motion till riksdagen\\n 2021/22:4777\\n av Ola ...   \n",
       "4  Motion till riksdagen\\n 2021/22:4776\\n av Elis...   \n",
       "\n",
       "                                         notisrubrik  \\\n",
       "0  med anledning av skr. 2021/22:236 Resultatskri...   \n",
       "1  med anledning av skr. 2021/22:261 Nationell pl...   \n",
       "2  med anledning av prop. 2021/22:260 Ökad kontro...   \n",
       "3  med anledning av skr. 2021/22:265 Riksrevision...   \n",
       "4  med anledning av prop. 2021/22:251 Samverkan m...   \n",
       "\n",
       "                                               notis  \\\n",
       "0  Motion till riksdagen\\n 2022/23:1\\n av Lotta J...   \n",
       "1  Motion till riksdagen\\n 2022/23:3\\n av Linda W...   \n",
       "2  Motion till riksdagen\\n 2022/23:2\\n av Karin R...   \n",
       "3  Motion till riksdagen\\n 2021/22:4777\\n av Ola ...   \n",
       "4  Motion till riksdagen\\n 2021/22:4776\\n av Elis...   \n",
       "\n",
       "                                       dokintressent  \\\n",
       "0  {'intressent': [{'roll': 'undertecknare', 'nam...   \n",
       "1  {'intressent': [{'roll': 'undertecknare', 'nam...   \n",
       "2  {'intressent': [{'roll': 'undertecknare', 'nam...   \n",
       "3  {'intressent': [{'roll': 'undertecknare', 'nam...   \n",
       "4  {'intressent': [{'roll': 'undertecknare', 'nam...   \n",
       "\n",
       "                                           filbilaga avdelning struktur audio  \\\n",
       "0  {'fil': [{'typ': 'docx', 'namn': 'mot_202223__...  dokument                  \n",
       "1  {'fil': [{'typ': 'docx', 'namn': 'mot_202223__...  dokument                  \n",
       "2  {'fil': [{'typ': 'docx', 'namn': 'mot_202223__...  dokument                  \n",
       "3  {'fil': [{'typ': 'docx', 'namn': 'mot_202122__...  dokument                  \n",
       "4  {'fil': [{'typ': 'docx', 'namn': 'mot_202122__...  dokument                  \n",
       "\n",
       "  video debattgrupp debattdag beslutsdag beredningsdag justeringsdag beslutad  \\\n",
       "0                                                                               \n",
       "1                                                                               \n",
       "2                                                                               \n",
       "3                                                                               \n",
       "4                                                                               \n",
       "\n",
       "  debattsekunder ardometyp reservationer debatt debattnamn dokumentnamn  \n",
       "0                                          None     Motion       Motion  \n",
       "1                                          None     Motion       Motion  \n",
       "2                                          None     Motion       Motion  \n",
       "3                                          None     Motion       Motion  \n",
       "4                                          None     Motion       Motion  "
      ]
     },
     "execution_count": 2,
     "metadata": {},
     "output_type": "execute_result"
    }
   ],
   "source": [
    "import urllib3, json\n",
    "import pandas as pd  \n",
    "from tqdm.notebook import trange \n",
    "import warnings\n",
    "warnings.simplefilter(action='ignore', category=FutureWarning)\n",
    "\n",
    "http = urllib3.PoolManager() \n",
    "pd.set_option(\"display.max.columns\", None) \n",
    "#pd.set_option(\"display.max.rows\", None) \n",
    "#urlbase =\"http://data.riksdagen.se/dokumentlista/?sok=&doktyp=mot&utformat=json&p=\"\n",
    "urlbase =\"http://data.riksdagen.se/dokumentlista/?sok=&doktyp=mot&utformat=json&p=\"\n",
    "\n",
    "dftot = pd.DataFrame()\n",
    "maxrun = int(245208/15)+1\n",
    "#maxrun = int(5094/20)+1\n",
    "for i in trange(1,maxrun):\n",
    "#for i in trange(1,10):\n",
    "    url = urlbase + str(i)\n",
    "    #print(url)\n",
    "    r = http.request('GET', url)\n",
    "    try:\n",
    "        data = json.loads(r.data)\n",
    "        dftot = dftot.append(pd.DataFrame(data[\"dokumentlista\"][\"dokument\"]),sort=False)\n",
    "    except:\n",
    "        print(\"\\tError in i=\",i,\" can be html problem\") \n",
    "dftot.head()\n"
   ]
  },
  {
   "cell_type": "code",
   "execution_count": 3,
   "metadata": {},
   "outputs": [
    {
     "name": "stdout",
     "output_type": "stream",
     "text": [
      "<class 'pandas.core.frame.DataFrame'>\n",
      "Int64Index: 326940 entries, 0 to 19\n",
      "Data columns (total 59 columns):\n",
      " #   Column             Non-Null Count   Dtype \n",
      "---  ------             --------------   ----- \n",
      " 0   traff              326940 non-null  object\n",
      " 1   domain             326940 non-null  object\n",
      " 2   database           326940 non-null  object\n",
      " 3   datum              326940 non-null  object\n",
      " 4   id                 326940 non-null  object\n",
      " 5   rdrest             0 non-null       object\n",
      " 6   slutdatum          326940 non-null  object\n",
      " 7   rddata             0 non-null       object\n",
      " 8   plats              326940 non-null  object\n",
      " 9   klockslag          326940 non-null  object\n",
      " 10  publicerad         326940 non-null  object\n",
      " 11  systemdatum        326940 non-null  object\n",
      " 12  undertitel         326940 non-null  object\n",
      " 13  kalla              326940 non-null  object\n",
      " 14  kall_id            326940 non-null  object\n",
      " 15  dok_id             326940 non-null  object\n",
      " 16  dokumentformat     326940 non-null  object\n",
      " 17  dokument_url_text  326940 non-null  object\n",
      " 18  dokument_url_html  326940 non-null  object\n",
      " 19  inlamnad           326940 non-null  object\n",
      " 20  motionstid         326940 non-null  object\n",
      " 21  tilldelat          326940 non-null  object\n",
      " 22  lang               326940 non-null  object\n",
      " 23  url                326940 non-null  object\n",
      " 24  relurl             326940 non-null  object\n",
      " 25  titel              326940 non-null  object\n",
      " 26  rm                 326940 non-null  object\n",
      " 27  organ              326940 non-null  object\n",
      " 28  relaterat_id       326940 non-null  object\n",
      " 29  doktyp             326940 non-null  object\n",
      " 30  typ                326940 non-null  object\n",
      " 31  subtyp             326940 non-null  object\n",
      " 32  beteckning         326940 non-null  object\n",
      " 33  tempbeteckning     326940 non-null  object\n",
      " 34  nummer             326940 non-null  object\n",
      " 35  status             326940 non-null  object\n",
      " 36  score              326940 non-null  object\n",
      " 37  sokdata            326940 non-null  object\n",
      " 38  summary            326940 non-null  object\n",
      " 39  notisrubrik        326940 non-null  object\n",
      " 40  notis              326940 non-null  object\n",
      " 41  dokintressent      326863 non-null  object\n",
      " 42  filbilaga          326863 non-null  object\n",
      " 43  avdelning          326940 non-null  object\n",
      " 44  struktur           326940 non-null  object\n",
      " 45  audio              326940 non-null  object\n",
      " 46  video              326940 non-null  object\n",
      " 47  debattgrupp        326940 non-null  object\n",
      " 48  debattdag          326940 non-null  object\n",
      " 49  beslutsdag         326940 non-null  object\n",
      " 50  beredningsdag      326940 non-null  object\n",
      " 51  justeringsdag      326940 non-null  object\n",
      " 52  beslutad           326940 non-null  object\n",
      " 53  debattsekunder     326940 non-null  object\n",
      " 54  ardometyp          326940 non-null  object\n",
      " 55  reservationer      326940 non-null  object\n",
      " 56  debatt             0 non-null       object\n",
      " 57  debattnamn         326940 non-null  object\n",
      " 58  dokumentnamn       326940 non-null  object\n",
      "dtypes: object(59)\n",
      "memory usage: 149.7+ MB\n"
     ]
    }
   ],
   "source": [
    "dftot.info()"
   ]
  },
  {
   "cell_type": "code",
   "execution_count": 4,
   "metadata": {},
   "outputs": [],
   "source": [
    "pd.set_option(\"display.max.rows\", None) \n",
    "#dftot"
   ]
  },
  {
   "cell_type": "code",
   "execution_count": 5,
   "metadata": {},
   "outputs": [],
   "source": [
    "#dftot.id.value_counts()"
   ]
  },
  {
   "cell_type": "code",
   "execution_count": 6,
   "metadata": {},
   "outputs": [],
   "source": [
    "#dftot.dok_id.value_counts()"
   ]
  },
  {
   "cell_type": "code",
   "execution_count": 7,
   "metadata": {},
   "outputs": [],
   "source": [
    "#dftot[['nummer','titel','publicerad','beslutad','datum','summary']] \n"
   ]
  },
  {
   "cell_type": "code",
   "execution_count": 8,
   "metadata": {},
   "outputs": [],
   "source": [
    "#dftot.publicerad.unique()"
   ]
  },
  {
   "cell_type": "code",
   "execution_count": 9,
   "metadata": {},
   "outputs": [],
   "source": [
    "#dftot.publicerad.value_counts()"
   ]
  },
  {
   "cell_type": "code",
   "execution_count": 10,
   "metadata": {},
   "outputs": [],
   "source": [
    "#matplotlib inline  \n",
    "#import matplotlib.pyplot as plt   \n",
    "#plot = dftot.publicerad.value_counts()[1:30].plot.bar(y='counts', figsize=(25, 5)) \n",
    "#plt.show()"
   ]
  },
  {
   "cell_type": "code",
   "execution_count": 11,
   "metadata": {},
   "outputs": [
    {
     "data": {
      "text/plain": [
       "SoU    64614\n",
       "JuU    64388\n",
       "SkU    64120\n",
       "UbU    48327\n",
       "KU     32274\n",
       "MJU    16839\n",
       "NU     16418\n",
       "KrU    16215\n",
       "TU      1054\n",
       "CU       677\n",
       "SfU      584\n",
       "UU       414\n",
       "FiU      380\n",
       "AU       318\n",
       "FöU      239\n",
       "          79\n",
       "Name: organ, dtype: int64"
      ]
     },
     "execution_count": 11,
     "metadata": {},
     "output_type": "execute_result"
    }
   ],
   "source": [
    "organCount = dftot.organ.value_counts() \n",
    "organCount"
   ]
  },
  {
   "cell_type": "code",
   "execution_count": 12,
   "metadata": {},
   "outputs": [
    {
     "data": {
      "text/plain": [
       "av Richard Jomshof (SD)                                         31732\n",
       "av Lars Hjälmered m.fl. (M)                                     15903\n",
       "av Ann-Sofie Alm (M)                                            15902\n",
       "av Andreas Carlson m.fl. (KD)                                   15900\n",
       "av Laila Naraghi m.fl. (S)                                      15856\n",
       "av Richard Jomshof m.fl. (SD)                                   15850\n",
       "av Elin Lundgren och Kristina Nilsson (båda S)                  15849\n",
       "av Sten Bergheden (M)                                             384\n",
       "av Boriana Åberg (M)                                              200\n",
       "av Markus Wiechel m.fl. (SD)                                      165\n",
       "av Ann-Sofie Lifvenhage (M)                                       132\n",
       "av Lars Beckman (M)                                               122\n",
       "av Jan Ericson (M)                                                113\n",
       "av Betty Malmberg (M)                                             102\n",
       "av Magnus Manhammar (S)                                            90\n",
       "av Marléne Lund Kopparklint (M)                                    78\n",
       "av Markus Wiechel (SD)                                             78\n",
       "                                                                   77\n",
       "av Elisabeth Björnsdotter Rahm och Ann-Britt Åsebol (båda M)       77\n",
       "av Saila Quicklund (M)                                             70\n",
       "av Johan Forssell m.fl. (M)                                        69\n",
       "av Lotta Olsson (M)                                                67\n",
       "av Cecilia Widegren (M)                                            66\n",
       "av Camilla Waltersson Grönvall m.fl. (M)                           63\n",
       "av Ida Drougge (M)                                                 58\n",
       "av Nooshi Dadgostar m.fl. (V)                                      56\n",
       "av Tobias Andersson m.fl. (SD)                                     52\n",
       "av Jonas Sjöstedt m.fl. (V)                                        52\n",
       "av Ann-Christine From Utterstedt (SD)                              49\n",
       "av Adam Marttinen m.fl. (SD)                                       49\n",
       "av Markus Wiechel och Alexander Christiansson (båda SD)            49\n",
       "av Lotta Finstorp (M)                                              48\n",
       "av Maria Malmer Stenergard m.fl. (M)                               48\n",
       "av Kristina Axén Olin m.fl. (M)                                    47\n",
       "av Anders Hansson (M)                                              44\n",
       "av Linda Westerlund Snecker m.fl. (V)                              43\n",
       "av Jessica Rosencrantz m.fl. (M)                                   43\n",
       "av Aron Emilsson m.fl. (SD)                                        42\n",
       "av Magnus Jacobsson (KD)                                           42\n",
       "av Ann-Charlotte Hammar Johnsson m.fl. (M)                         42\n",
       "av Louise Meijer (M)                                               41\n",
       "av Michael Rubbestad (SD)                                          41\n",
       "av Lars Thomsson (C)                                               40\n",
       "av Patrick Reslow m.fl. (SD)                                       39\n",
       "av Maria Nilsson (L)                                               37\n",
       "av Per Åsling (C)                                                  37\n",
       "av Niklas Wykman m.fl. (M)                                         37\n",
       "av Pål Jonson (M)                                                  37\n",
       "av Björn Söder m.fl. (SD)                                          36\n",
       "Name: undertitel, dtype: int64"
      ]
     },
     "execution_count": 12,
     "metadata": {},
     "output_type": "execute_result"
    }
   ],
   "source": [
    "dftot.undertitel.value_counts()[1:50]"
   ]
  },
  {
   "cell_type": "code",
   "execution_count": 13,
   "metadata": {},
   "outputs": [
    {
     "data": {
      "text/plain": [
       "Enskild motion    292511\n",
       "Kommittémotion     34171\n",
       "Partimotion          181\n",
       "                      77\n",
       "Name: subtyp, dtype: int64"
      ]
     },
     "execution_count": 13,
     "metadata": {},
     "output_type": "execute_result"
    }
   ],
   "source": [
    "dftot.subtyp.value_counts()"
   ]
  },
  {
   "cell_type": "code",
   "execution_count": 14,
   "metadata": {},
   "outputs": [
    {
     "data": {
      "text/plain": [
       "mot    326940\n",
       "Name: doktyp, dtype: int64"
      ]
     },
     "execution_count": 14,
     "metadata": {},
     "output_type": "execute_result"
    }
   ],
   "source": [
    "dftot.doktyp.value_counts()"
   ]
  },
  {
   "cell_type": "code",
   "execution_count": 15,
   "metadata": {},
   "outputs": [
    {
     "data": {
      "text/plain": [
       "mot    326940\n",
       "Name: typ, dtype: int64"
      ]
     },
     "execution_count": 15,
     "metadata": {},
     "output_type": "execute_result"
    }
   ],
   "source": [
    "dftot.typ.value_counts()"
   ]
  },
  {
   "cell_type": "code",
   "execution_count": 16,
   "metadata": {},
   "outputs": [
    {
     "data": {
      "text/plain": [
       "2019/20    318047\n",
       "2021/22      4777\n",
       "2020/21      4113\n",
       "2022/23         3\n",
       "Name: rm, dtype: int64"
      ]
     },
     "execution_count": 16,
     "metadata": {},
     "output_type": "execute_result"
    }
   ],
   "source": [
    "dftot.rm.value_counts()"
   ]
  },
  {
   "cell_type": "code",
   "execution_count": 17,
   "metadata": {},
   "outputs": [
    {
     "data": {
      "text/plain": [
       "Klar        326793\n",
       "Utgången        77\n",
       "Hänvisad        65\n",
       "Inkommen         4\n",
       "Granskad         1\n",
       "Name: status, dtype: int64"
      ]
     },
     "execution_count": 17,
     "metadata": {},
     "output_type": "execute_result"
    }
   ],
   "source": [
    "dftot.status.value_counts()"
   ]
  },
  {
   "cell_type": "code",
   "execution_count": 18,
   "metadata": {},
   "outputs": [],
   "source": [
    "#dftot.beteckning.value_counts()"
   ]
  },
  {
   "cell_type": "code",
   "execution_count": 19,
   "metadata": {},
   "outputs": [],
   "source": [
    "#dftot.tempbeteckning.value_counts()"
   ]
  },
  {
   "cell_type": "code",
   "execution_count": 20,
   "metadata": {},
   "outputs": [
    {
     "data": {
      "text/plain": [
       "2019/20    318047\n",
       "2021/22      4777\n",
       "2020/21      4113\n",
       "2022/23         3\n",
       "Name: rm, dtype: int64"
      ]
     },
     "execution_count": 20,
     "metadata": {},
     "output_type": "execute_result"
    }
   ],
   "source": [
    "dftot.rm.value_counts()"
   ]
  },
  {
   "cell_type": "code",
   "execution_count": 21,
   "metadata": {},
   "outputs": [
    {
     "data": {
      "text/plain": [
       "202    318007\n",
       "214      4695\n",
       "208      4054\n",
       "322        82\n",
       "312        59\n",
       "302        40\n",
       "221         3\n",
       "Name: score, dtype: int64"
      ]
     },
     "execution_count": 21,
     "metadata": {},
     "output_type": "execute_result"
    }
   ],
   "source": [
    "dftot.score.value_counts()"
   ]
  },
  {
   "cell_type": "code",
   "execution_count": 22,
   "metadata": {},
   "outputs": [],
   "source": [
    "#dftot.sokdata.value_counts()"
   ]
  },
  {
   "cell_type": "code",
   "execution_count": 23,
   "metadata": {},
   "outputs": [],
   "source": [
    "import seaborn as sns\n",
    "%matplotlib inline\n",
    "%config InlineBackend.figure_format = 'svg'"
   ]
  },
  {
   "cell_type": "code",
   "execution_count": 24,
   "metadata": {},
   "outputs": [],
   "source": [
    "#sns.heatmap(dftot.isnull(), \n",
    "#            yticklabels=False, \n",
    "#            cbar=False, \n",
    "#            cmap='viridis')"
   ]
  },
  {
   "cell_type": "code",
   "execution_count": 25,
   "metadata": {},
   "outputs": [],
   "source": [
    "#plt.show()"
   ]
  },
  {
   "cell_type": "markdown",
   "metadata": {},
   "source": [
    "## Lagstiftande utskott \n",
    "\n",
    "Fält **organ**"
   ]
  },
  {
   "cell_type": "code",
   "execution_count": 26,
   "metadata": {},
   "outputs": [
    {
     "data": {
      "text/plain": [
       "array(['UU', 'TU', 'SoU', 'CU', 'FiU', 'SkU', 'KrU', 'SfU', 'MJU', '',\n",
       "       'NU', 'JuU', 'KU', 'AU', 'UbU', 'FöU'], dtype=object)"
      ]
     },
     "execution_count": 26,
     "metadata": {},
     "output_type": "execute_result"
    }
   ],
   "source": [
    "dftot.organ.unique()"
   ]
  },
  {
   "cell_type": "code",
   "execution_count": 27,
   "metadata": {},
   "outputs": [
    {
     "data": {
      "text/html": [
       "<div>\n",
       "<style scoped>\n",
       "    .dataframe tbody tr th:only-of-type {\n",
       "        vertical-align: middle;\n",
       "    }\n",
       "\n",
       "    .dataframe tbody tr th {\n",
       "        vertical-align: top;\n",
       "    }\n",
       "\n",
       "    .dataframe thead th {\n",
       "        text-align: right;\n",
       "    }\n",
       "</style>\n",
       "<table border=\"1\" class=\"dataframe\">\n",
       "  <thead>\n",
       "    <tr style=\"text-align: right;\">\n",
       "      <th></th>\n",
       "      <th>id</th>\n",
       "      <th>organ</th>\n",
       "    </tr>\n",
       "  </thead>\n",
       "  <tbody>\n",
       "    <tr>\n",
       "      <th>0</th>\n",
       "      <td>HA021</td>\n",
       "      <td>UU</td>\n",
       "    </tr>\n",
       "    <tr>\n",
       "      <th>1</th>\n",
       "      <td>HA023</td>\n",
       "      <td>TU</td>\n",
       "    </tr>\n",
       "    <tr>\n",
       "      <th>2</th>\n",
       "      <td>HA022</td>\n",
       "      <td>SoU</td>\n",
       "    </tr>\n",
       "    <tr>\n",
       "      <th>3</th>\n",
       "      <td>H9024777</td>\n",
       "      <td>CU</td>\n",
       "    </tr>\n",
       "    <tr>\n",
       "      <th>4</th>\n",
       "      <td>H9024776</td>\n",
       "      <td>FiU</td>\n",
       "    </tr>\n",
       "  </tbody>\n",
       "</table>\n",
       "</div>"
      ],
      "text/plain": [
       "         id organ\n",
       "0     HA021    UU\n",
       "1     HA023    TU\n",
       "2     HA022   SoU\n",
       "3  H9024777    CU\n",
       "4  H9024776   FiU"
      ]
     },
     "execution_count": 27,
     "metadata": {},
     "output_type": "execute_result"
    }
   ],
   "source": [
    "dftot[['id','organ']].head()"
   ]
  },
  {
   "cell_type": "code",
   "execution_count": 28,
   "metadata": {},
   "outputs": [],
   "source": [
    "dftot[['id','organ']].to_csv(\"Lagstiftande.csv\")"
   ]
  },
  {
   "cell_type": "code",
   "execution_count": 29,
   "metadata": {},
   "outputs": [
    {
     "data": {
      "text/plain": [
       "SoU    64614\n",
       "JuU    64388\n",
       "SkU    64120\n",
       "UbU    48327\n",
       "KU     32274\n",
       "MJU    16839\n",
       "NU     16418\n",
       "KrU    16215\n",
       "TU      1054\n",
       "CU       677\n",
       "SfU      584\n",
       "UU       414\n",
       "FiU      380\n",
       "AU       318\n",
       "FöU      239\n",
       "          79\n",
       "Name: organ, dtype: int64"
      ]
     },
     "execution_count": 29,
     "metadata": {},
     "output_type": "execute_result"
    }
   ],
   "source": [
    "dftot.organ.value_counts()"
   ]
  },
  {
   "cell_type": "code",
   "execution_count": 30,
   "metadata": {},
   "outputs": [
    {
     "data": {
      "text/plain": [
       "organ  rm     \n",
       "JuU    2019/20    63532\n",
       "SoU    2019/20    63526\n",
       "SkU    2019/20    63459\n",
       "UbU    2019/20    47619\n",
       "KU     2019/20    31758\n",
       "MJU    2019/20    15937\n",
       "NU     2019/20    15903\n",
       "KrU    2019/20    15885\n",
       "SoU    2021/22      599\n",
       "TU     2021/22      514\n",
       "MJU    2021/22      512\n",
       "SoU    2020/21      488\n",
       "JuU    2021/22      483\n",
       "TU     2020/21      448\n",
       "UbU    2021/22      394\n",
       "MJU    2020/21      390\n",
       "JuU    2020/21      373\n",
       "SkU    2021/22      339\n",
       "       2020/21      322\n",
       "UbU    2020/21      314\n",
       "CU     2021/22      310\n",
       "       2020/21      297\n",
       "SfU    2021/22      278\n",
       "NU     2021/22      267\n",
       "KU     2021/22      267\n",
       "SfU    2020/21      249\n",
       "KU     2020/21      249\n",
       "NU     2020/21      248\n",
       "FiU    2021/22      177\n",
       "UU     2021/22      172\n",
       "KrU    2021/22      167\n",
       "UU     2020/21      167\n",
       "KrU    2020/21      163\n",
       "FiU    2020/21      147\n",
       "AU     2021/22      143\n",
       "       2020/21      139\n",
       "FöU    2021/22      108\n",
       "       2020/21       98\n",
       "TU     2019/20       91\n",
       "UU     2019/20       74\n",
       "CU     2019/20       70\n",
       "SfU    2019/20       57\n",
       "FiU    2019/20       56\n",
       "       2021/22       47\n",
       "AU     2019/20       36\n",
       "FöU    2019/20       33\n",
       "       2020/21       21\n",
       "       2019/20       11\n",
       "TU     2022/23        1\n",
       "UU     2022/23        1\n",
       "SoU    2022/23        1\n",
       "dtype: int64"
      ]
     },
     "execution_count": 30,
     "metadata": {},
     "output_type": "execute_result"
    }
   ],
   "source": [
    "dftot.value_counts([\"organ\",\"rm\"])\n"
   ]
  },
  {
   "cell_type": "code",
   "execution_count": 32,
   "metadata": {},
   "outputs": [],
   "source": [
    "dftotCounts = dftot.value_counts([\"organ\",\"rm\"])\n",
    "dftotCounts.to_csv(\"Value_counts_organ_rm.csv\")"
   ]
  },
  {
   "cell_type": "code",
   "execution_count": 31,
   "metadata": {},
   "outputs": [
    {
     "name": "stdout",
     "output_type": "stream",
     "text": [
      "Ended:  2022-09-30 18:42:45.561335\n",
      "Time elapsed (hh:mm:ss.ms) 2:26:54.676856\n"
     ]
    }
   ],
   "source": [
    "end = datetime.now()\n",
    "print(\"Ended: \", end) \n",
    "print('Time elapsed (hh:mm:ss.ms) {}'.format(datetime.now() - start_time))"
   ]
  },
  {
   "cell_type": "code",
   "execution_count": null,
   "metadata": {},
   "outputs": [],
   "source": []
  },
  {
   "cell_type": "code",
   "execution_count": null,
   "metadata": {},
   "outputs": [],
   "source": []
  },
  {
   "cell_type": "code",
   "execution_count": null,
   "metadata": {},
   "outputs": [],
   "source": []
  }
 ],
 "metadata": {
  "kernelspec": {
   "display_name": "Python 3",
   "language": "python",
   "name": "python3"
  },
  "language_info": {
   "codemirror_mode": {
    "name": "ipython",
    "version": 3
   },
   "file_extension": ".py",
   "mimetype": "text/x-python",
   "name": "python",
   "nbconvert_exporter": "python",
   "pygments_lexer": "ipython3",
   "version": "3.9.13"
  }
 },
 "nbformat": 4,
 "nbformat_minor": 4
}
