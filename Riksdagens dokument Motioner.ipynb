{
 "cells": [
  {
   "cell_type": "markdown",
   "metadata": {},
   "source": [
    "## Riksdagen motioner \n",
    "\n",
    "* Denna [Jupyter Notebook](https://github.com/salgo60/open-data-examples/blob/master/Riksdagens%20dokument%20Motioner.ipynb) \n",
    "  * samma men 10000 motioner och [engelska](https://github.com/salgo60/open-data-examples/blob/master/Riksdagens%20dokument%20Motioner-en.ipynb) \n",
    "  * [GITHUB Riksdagen](https://github.com/salgo60/Riksdagen)\n",
    "  * [video](https://www.youtube.com/watch?v=WaEpU0FCnK8) om Open Refine och Lagstiftande [#WikidataRiksdahge](https://www.youtube.com/hashtag/wikidatariksdagen)\n",
    "* [Skapa sökfråga](http://data.riksdagen.se/dokumentlista/)  --> 245204 Motioner \n",
    "  \n",
    "* Wikipedia [WikiProject_Sweden/Swedish_Riksdag_documents](https://www.wikidata.org/wiki/Wikidata:WikiProject_Sweden/Swedish_Riksdag_documents) \n",
    "\n",
    "* [Sida med prefix](https://data.riksdagen.se/dokumentation/sa-funkar-dokument-id/#:~:text=kod%20for%20riksmote%20eller%20ar)\n",
    "\n",
    "\n",
    "### Test H7023008 Motion 2019/20:3008 av Jonas Sjöstedt m.fl. (V)\n",
    "* [text](http://data.riksdagen.se/dokument/H7023008.text) / [html](http://data.riksdagen.se/dokument/H7023008.html) /  [json](http://data.riksdagen.se/dokumentlista/?sok=H7023008&utformat=json) \n"
   ]
  },
  {
   "cell_type": "code",
   "execution_count": 1,
   "metadata": {},
   "outputs": [
    {
     "name": "stdout",
     "output_type": "stream",
     "text": [
      "Last run:  2022-10-01 09:24:55.860364\n"
     ]
    }
   ],
   "source": [
    "from datetime import datetime\n",
    "start_time  = datetime.now()\n",
    "print(\"Last run: \", start_time)"
   ]
  },
  {
   "cell_type": "code",
   "execution_count": 2,
   "metadata": {},
   "outputs": [
    {
     "data": {
      "application/vnd.jupyter.widget-view+json": {
       "model_id": "d3be8c1fbec34942866b7652e1b5a420",
       "version_major": 2,
       "version_minor": 0
      },
      "text/plain": [
       "  0%|          | 0/16347 [00:00<?, ?it/s]"
      ]
     },
     "metadata": {},
     "output_type": "display_data"
    },
    {
     "data": {
      "text/html": [
       "<div>\n",
       "<style scoped>\n",
       "    .dataframe tbody tr th:only-of-type {\n",
       "        vertical-align: middle;\n",
       "    }\n",
       "\n",
       "    .dataframe tbody tr th {\n",
       "        vertical-align: top;\n",
       "    }\n",
       "\n",
       "    .dataframe thead th {\n",
       "        text-align: right;\n",
       "    }\n",
       "</style>\n",
       "<table border=\"1\" class=\"dataframe\">\n",
       "  <thead>\n",
       "    <tr style=\"text-align: right;\">\n",
       "      <th></th>\n",
       "      <th>traff</th>\n",
       "      <th>domain</th>\n",
       "      <th>database</th>\n",
       "      <th>datum</th>\n",
       "      <th>id</th>\n",
       "      <th>rdrest</th>\n",
       "      <th>slutdatum</th>\n",
       "      <th>rddata</th>\n",
       "      <th>plats</th>\n",
       "      <th>klockslag</th>\n",
       "      <th>publicerad</th>\n",
       "      <th>systemdatum</th>\n",
       "      <th>undertitel</th>\n",
       "      <th>kalla</th>\n",
       "      <th>kall_id</th>\n",
       "      <th>dok_id</th>\n",
       "      <th>dokumentformat</th>\n",
       "      <th>dokument_url_text</th>\n",
       "      <th>dokument_url_html</th>\n",
       "      <th>inlamnad</th>\n",
       "      <th>motionstid</th>\n",
       "      <th>tilldelat</th>\n",
       "      <th>lang</th>\n",
       "      <th>url</th>\n",
       "      <th>relurl</th>\n",
       "      <th>titel</th>\n",
       "      <th>rm</th>\n",
       "      <th>organ</th>\n",
       "      <th>relaterat_id</th>\n",
       "      <th>doktyp</th>\n",
       "      <th>typ</th>\n",
       "      <th>subtyp</th>\n",
       "      <th>beteckning</th>\n",
       "      <th>tempbeteckning</th>\n",
       "      <th>nummer</th>\n",
       "      <th>status</th>\n",
       "      <th>score</th>\n",
       "      <th>sokdata</th>\n",
       "      <th>summary</th>\n",
       "      <th>notisrubrik</th>\n",
       "      <th>notis</th>\n",
       "      <th>dokintressent</th>\n",
       "      <th>filbilaga</th>\n",
       "      <th>avdelning</th>\n",
       "      <th>struktur</th>\n",
       "      <th>audio</th>\n",
       "      <th>video</th>\n",
       "      <th>debattgrupp</th>\n",
       "      <th>debattdag</th>\n",
       "      <th>beslutsdag</th>\n",
       "      <th>beredningsdag</th>\n",
       "      <th>justeringsdag</th>\n",
       "      <th>beslutad</th>\n",
       "      <th>debattsekunder</th>\n",
       "      <th>ardometyp</th>\n",
       "      <th>reservationer</th>\n",
       "      <th>debatt</th>\n",
       "      <th>debattnamn</th>\n",
       "      <th>dokumentnamn</th>\n",
       "    </tr>\n",
       "  </thead>\n",
       "  <tbody>\n",
       "    <tr>\n",
       "      <th>0</th>\n",
       "      <td>1</td>\n",
       "      <td>rdwebb</td>\n",
       "      <td>dokument</td>\n",
       "      <td>2021-10-04</td>\n",
       "      <td>H9023196</td>\n",
       "      <td>None</td>\n",
       "      <td></td>\n",
       "      <td>None</td>\n",
       "      <td></td>\n",
       "      <td></td>\n",
       "      <td>2021-10-04</td>\n",
       "      <td>2022-05-04 17:44:49</td>\n",
       "      <td>av Nooshi Dadgostar m.fl. (V)</td>\n",
       "      <td>Filur</td>\n",
       "      <td>c2353c77-f312-4a5a-a4c1-d7ee883f3b40</td>\n",
       "      <td>H9023196</td>\n",
       "      <td></td>\n",
       "      <td>//data.riksdagen.se/dokument/H9023196.text</td>\n",
       "      <td>//data.riksdagen.se/dokument/H9023196.html</td>\n",
       "      <td></td>\n",
       "      <td></td>\n",
       "      <td></td>\n",
       "      <td></td>\n",
       "      <td></td>\n",
       "      <td></td>\n",
       "      <td>Ett levande kulturarv</td>\n",
       "      <td>2021/22</td>\n",
       "      <td>KrU</td>\n",
       "      <td></td>\n",
       "      <td>mot</td>\n",
       "      <td>mot</td>\n",
       "      <td>Partimotion</td>\n",
       "      <td>3196</td>\n",
       "      <td>332</td>\n",
       "      <td>3196</td>\n",
       "      <td>Klar</td>\n",
       "      <td>322</td>\n",
       "      <td>{'titel': 'Ett levande kulturarv', 'undertitel...</td>\n",
       "      <td>Motion till riksdagen\\n 2021/22:3196\\n av Noos...</td>\n",
       "      <td>Ett levande kulturarv</td>\n",
       "      <td>Motion till riksdagen\\n 2021/22:3196\\n av Noos...</td>\n",
       "      <td>{'intressent': [{'roll': 'undertecknare', 'nam...</td>\n",
       "      <td>{'fil': [{'typ': 'docx', 'namn': 'mot_202122__...</td>\n",
       "      <td>dokument</td>\n",
       "      <td></td>\n",
       "      <td></td>\n",
       "      <td></td>\n",
       "      <td></td>\n",
       "      <td></td>\n",
       "      <td></td>\n",
       "      <td></td>\n",
       "      <td></td>\n",
       "      <td></td>\n",
       "      <td></td>\n",
       "      <td></td>\n",
       "      <td></td>\n",
       "      <td>None</td>\n",
       "      <td>Motion</td>\n",
       "      <td>Motion</td>\n",
       "    </tr>\n",
       "    <tr>\n",
       "      <th>1</th>\n",
       "      <td>2</td>\n",
       "      <td>rdwebb</td>\n",
       "      <td>dokument</td>\n",
       "      <td>2021-10-04</td>\n",
       "      <td>H9023185</td>\n",
       "      <td>None</td>\n",
       "      <td></td>\n",
       "      <td>None</td>\n",
       "      <td></td>\n",
       "      <td></td>\n",
       "      <td>2021-10-04</td>\n",
       "      <td>2022-03-02 10:44:49</td>\n",
       "      <td>av Nooshi Dadgostar m.fl. (V)</td>\n",
       "      <td>Filur</td>\n",
       "      <td>45a5fc03-3086-4d16-a0dc-f85046e039a4</td>\n",
       "      <td>H9023185</td>\n",
       "      <td></td>\n",
       "      <td>//data.riksdagen.se/dokument/H9023185.text</td>\n",
       "      <td>//data.riksdagen.se/dokument/H9023185.html</td>\n",
       "      <td></td>\n",
       "      <td></td>\n",
       "      <td></td>\n",
       "      <td></td>\n",
       "      <td></td>\n",
       "      <td></td>\n",
       "      <td>Utgiftsområde 17 Kultur, medier, trossamfund o...</td>\n",
       "      <td>2021/22</td>\n",
       "      <td>KrU</td>\n",
       "      <td></td>\n",
       "      <td>mot</td>\n",
       "      <td>mot</td>\n",
       "      <td>Partimotion</td>\n",
       "      <td>3185</td>\n",
       "      <td>333</td>\n",
       "      <td>3185</td>\n",
       "      <td>Klar</td>\n",
       "      <td>322</td>\n",
       "      <td>{'titel': 'Utgiftsområde 17 Kultur, medier, tr...</td>\n",
       "      <td>Motion till riksdagen\\n 2021/22:3185\\n av Noos...</td>\n",
       "      <td>Utgiftsområde 17 Kultur, medier, trossamfund o...</td>\n",
       "      <td>Motion till riksdagen\\n 2021/22:3185\\n av Noos...</td>\n",
       "      <td>{'intressent': [{'roll': 'undertecknare', 'nam...</td>\n",
       "      <td>{'fil': [{'typ': 'docx', 'namn': 'mot_202122__...</td>\n",
       "      <td>dokument</td>\n",
       "      <td></td>\n",
       "      <td></td>\n",
       "      <td></td>\n",
       "      <td></td>\n",
       "      <td></td>\n",
       "      <td></td>\n",
       "      <td></td>\n",
       "      <td></td>\n",
       "      <td></td>\n",
       "      <td></td>\n",
       "      <td></td>\n",
       "      <td></td>\n",
       "      <td>None</td>\n",
       "      <td>Motion</td>\n",
       "      <td>Motion</td>\n",
       "    </tr>\n",
       "    <tr>\n",
       "      <th>2</th>\n",
       "      <td>3</td>\n",
       "      <td>rdwebb</td>\n",
       "      <td>dokument</td>\n",
       "      <td>2021-10-04</td>\n",
       "      <td>H9023184</td>\n",
       "      <td>None</td>\n",
       "      <td></td>\n",
       "      <td>None</td>\n",
       "      <td></td>\n",
       "      <td></td>\n",
       "      <td>2021-10-04</td>\n",
       "      <td>2022-03-02 10:44:58</td>\n",
       "      <td>av Nooshi Dadgostar m.fl. (V)</td>\n",
       "      <td>Filur</td>\n",
       "      <td>f1f3fa0a-9fc5-41f1-8a46-93e16220e1bf</td>\n",
       "      <td>H9023184</td>\n",
       "      <td></td>\n",
       "      <td>//data.riksdagen.se/dokument/H9023184.text</td>\n",
       "      <td>//data.riksdagen.se/dokument/H9023184.html</td>\n",
       "      <td></td>\n",
       "      <td></td>\n",
       "      <td></td>\n",
       "      <td></td>\n",
       "      <td></td>\n",
       "      <td></td>\n",
       "      <td>Utgiftsområde 24 Näringsliv</td>\n",
       "      <td>2021/22</td>\n",
       "      <td>NU</td>\n",
       "      <td></td>\n",
       "      <td>mot</td>\n",
       "      <td>mot</td>\n",
       "      <td>Partimotion</td>\n",
       "      <td>3184</td>\n",
       "      <td>324</td>\n",
       "      <td>3184</td>\n",
       "      <td>Klar</td>\n",
       "      <td>322</td>\n",
       "      <td>{'titel': 'Utgiftsområde 24 Näringsliv', 'unde...</td>\n",
       "      <td>Motion till riksdagen\\n 2021/22:3184\\n av Noos...</td>\n",
       "      <td>Utgiftsområde 24 Näringsliv</td>\n",
       "      <td>Motion till riksdagen\\n 2021/22:3184\\n av Noos...</td>\n",
       "      <td>{'intressent': [{'roll': 'undertecknare', 'nam...</td>\n",
       "      <td>{'fil': [{'typ': 'docx', 'namn': 'mot_202122__...</td>\n",
       "      <td>dokument</td>\n",
       "      <td></td>\n",
       "      <td></td>\n",
       "      <td></td>\n",
       "      <td></td>\n",
       "      <td></td>\n",
       "      <td></td>\n",
       "      <td></td>\n",
       "      <td></td>\n",
       "      <td></td>\n",
       "      <td></td>\n",
       "      <td></td>\n",
       "      <td></td>\n",
       "      <td>None</td>\n",
       "      <td>Motion</td>\n",
       "      <td>Motion</td>\n",
       "    </tr>\n",
       "    <tr>\n",
       "      <th>3</th>\n",
       "      <td>4</td>\n",
       "      <td>rdwebb</td>\n",
       "      <td>dokument</td>\n",
       "      <td>2021-10-05</td>\n",
       "      <td>H9023938</td>\n",
       "      <td>None</td>\n",
       "      <td></td>\n",
       "      <td>None</td>\n",
       "      <td></td>\n",
       "      <td></td>\n",
       "      <td>2021-10-05</td>\n",
       "      <td>2022-03-02 10:45:49</td>\n",
       "      <td>av Jimmie Åkesson m.fl. (SD)</td>\n",
       "      <td>Filur</td>\n",
       "      <td>efd4b75a-3a97-4e0f-b99a-2fe9f14f061d</td>\n",
       "      <td>H9023938</td>\n",
       "      <td></td>\n",
       "      <td>//data.riksdagen.se/dokument/H9023938.text</td>\n",
       "      <td>//data.riksdagen.se/dokument/H9023938.html</td>\n",
       "      <td></td>\n",
       "      <td></td>\n",
       "      <td></td>\n",
       "      <td></td>\n",
       "      <td></td>\n",
       "      <td></td>\n",
       "      <td>Nu är det dags för Sverige – Sverigedemokrater...</td>\n",
       "      <td>2021/22</td>\n",
       "      <td>FiU</td>\n",
       "      <td></td>\n",
       "      <td>mot</td>\n",
       "      <td>mot</td>\n",
       "      <td>Partimotion</td>\n",
       "      <td>3938</td>\n",
       "      <td>752</td>\n",
       "      <td>3938</td>\n",
       "      <td>Klar</td>\n",
       "      <td>322</td>\n",
       "      <td>{'titel': 'Nu är det dags för Sverige – Sverig...</td>\n",
       "      <td>Motion till riksdagen\\n 2021/22:3938\\n av Jimm...</td>\n",
       "      <td>Nu är det dags för Sverige – Sverigedemokrater...</td>\n",
       "      <td>Motion till riksdagen\\n 2021/22:3938\\n av Jimm...</td>\n",
       "      <td>{'intressent': [{'roll': 'undertecknare', 'nam...</td>\n",
       "      <td>{'fil': [{'typ': 'docx', 'namn': 'mot_202122__...</td>\n",
       "      <td>dokument</td>\n",
       "      <td></td>\n",
       "      <td></td>\n",
       "      <td></td>\n",
       "      <td></td>\n",
       "      <td></td>\n",
       "      <td></td>\n",
       "      <td></td>\n",
       "      <td></td>\n",
       "      <td></td>\n",
       "      <td></td>\n",
       "      <td></td>\n",
       "      <td></td>\n",
       "      <td>None</td>\n",
       "      <td>Motion</td>\n",
       "      <td>Motion</td>\n",
       "    </tr>\n",
       "    <tr>\n",
       "      <th>4</th>\n",
       "      <td>5</td>\n",
       "      <td>rdwebb</td>\n",
       "      <td>dokument</td>\n",
       "      <td>2021-10-04</td>\n",
       "      <td>H9023275</td>\n",
       "      <td>None</td>\n",
       "      <td></td>\n",
       "      <td>None</td>\n",
       "      <td></td>\n",
       "      <td></td>\n",
       "      <td>2021-10-04</td>\n",
       "      <td>2022-03-02 10:47:35</td>\n",
       "      <td>av Nooshi Dadgostar m.fl. (V)</td>\n",
       "      <td>Filur</td>\n",
       "      <td>984edcaa-ed5c-4283-8027-10e7a9992bdb</td>\n",
       "      <td>H9023275</td>\n",
       "      <td></td>\n",
       "      <td>//data.riksdagen.se/dokument/H9023275.text</td>\n",
       "      <td>//data.riksdagen.se/dokument/H9023275.html</td>\n",
       "      <td></td>\n",
       "      <td></td>\n",
       "      <td></td>\n",
       "      <td></td>\n",
       "      <td></td>\n",
       "      <td></td>\n",
       "      <td>Utgiftsområde 2 Samhällsekonomi och finansförv...</td>\n",
       "      <td>2021/22</td>\n",
       "      <td>FiU</td>\n",
       "      <td></td>\n",
       "      <td>mot</td>\n",
       "      <td>mot</td>\n",
       "      <td>Partimotion</td>\n",
       "      <td>3275</td>\n",
       "      <td>261</td>\n",
       "      <td>3275</td>\n",
       "      <td>Klar</td>\n",
       "      <td>322</td>\n",
       "      <td>{'titel': 'Utgiftsområde 2 Samhällsekonomi och...</td>\n",
       "      <td>Motion till riksdagen\\n 2021/22:3275\\n av Noos...</td>\n",
       "      <td>Utgiftsområde 2 Samhällsekonomi och finansförv...</td>\n",
       "      <td>Motion till riksdagen\\n 2021/22:3275\\n av Noos...</td>\n",
       "      <td>{'intressent': [{'roll': 'undertecknare', 'nam...</td>\n",
       "      <td>{'fil': [{'typ': 'docx', 'namn': 'mot_202122__...</td>\n",
       "      <td>dokument</td>\n",
       "      <td></td>\n",
       "      <td></td>\n",
       "      <td></td>\n",
       "      <td></td>\n",
       "      <td></td>\n",
       "      <td></td>\n",
       "      <td></td>\n",
       "      <td></td>\n",
       "      <td></td>\n",
       "      <td></td>\n",
       "      <td></td>\n",
       "      <td></td>\n",
       "      <td>None</td>\n",
       "      <td>Motion</td>\n",
       "      <td>Motion</td>\n",
       "    </tr>\n",
       "  </tbody>\n",
       "</table>\n",
       "</div>"
      ],
      "text/plain": [
       "  traff  domain  database       datum        id rdrest slutdatum rddata plats  \\\n",
       "0     1  rdwebb  dokument  2021-10-04  H9023196   None             None         \n",
       "1     2  rdwebb  dokument  2021-10-04  H9023185   None             None         \n",
       "2     3  rdwebb  dokument  2021-10-04  H9023184   None             None         \n",
       "3     4  rdwebb  dokument  2021-10-05  H9023938   None             None         \n",
       "4     5  rdwebb  dokument  2021-10-04  H9023275   None             None         \n",
       "\n",
       "  klockslag  publicerad          systemdatum                     undertitel  \\\n",
       "0            2021-10-04  2022-05-04 17:44:49  av Nooshi Dadgostar m.fl. (V)   \n",
       "1            2021-10-04  2022-03-02 10:44:49  av Nooshi Dadgostar m.fl. (V)   \n",
       "2            2021-10-04  2022-03-02 10:44:58  av Nooshi Dadgostar m.fl. (V)   \n",
       "3            2021-10-05  2022-03-02 10:45:49   av Jimmie Åkesson m.fl. (SD)   \n",
       "4            2021-10-04  2022-03-02 10:47:35  av Nooshi Dadgostar m.fl. (V)   \n",
       "\n",
       "   kalla                               kall_id    dok_id dokumentformat  \\\n",
       "0  Filur  c2353c77-f312-4a5a-a4c1-d7ee883f3b40  H9023196                  \n",
       "1  Filur  45a5fc03-3086-4d16-a0dc-f85046e039a4  H9023185                  \n",
       "2  Filur  f1f3fa0a-9fc5-41f1-8a46-93e16220e1bf  H9023184                  \n",
       "3  Filur  efd4b75a-3a97-4e0f-b99a-2fe9f14f061d  H9023938                  \n",
       "4  Filur  984edcaa-ed5c-4283-8027-10e7a9992bdb  H9023275                  \n",
       "\n",
       "                            dokument_url_text  \\\n",
       "0  //data.riksdagen.se/dokument/H9023196.text   \n",
       "1  //data.riksdagen.se/dokument/H9023185.text   \n",
       "2  //data.riksdagen.se/dokument/H9023184.text   \n",
       "3  //data.riksdagen.se/dokument/H9023938.text   \n",
       "4  //data.riksdagen.se/dokument/H9023275.text   \n",
       "\n",
       "                            dokument_url_html inlamnad motionstid tilldelat  \\\n",
       "0  //data.riksdagen.se/dokument/H9023196.html                                 \n",
       "1  //data.riksdagen.se/dokument/H9023185.html                                 \n",
       "2  //data.riksdagen.se/dokument/H9023184.html                                 \n",
       "3  //data.riksdagen.se/dokument/H9023938.html                                 \n",
       "4  //data.riksdagen.se/dokument/H9023275.html                                 \n",
       "\n",
       "  lang url relurl                                              titel       rm  \\\n",
       "0                                              Ett levande kulturarv  2021/22   \n",
       "1                  Utgiftsområde 17 Kultur, medier, trossamfund o...  2021/22   \n",
       "2                                        Utgiftsområde 24 Näringsliv  2021/22   \n",
       "3                  Nu är det dags för Sverige – Sverigedemokrater...  2021/22   \n",
       "4                  Utgiftsområde 2 Samhällsekonomi och finansförv...  2021/22   \n",
       "\n",
       "  organ relaterat_id doktyp  typ       subtyp beteckning tempbeteckning  \\\n",
       "0   KrU                 mot  mot  Partimotion       3196            332   \n",
       "1   KrU                 mot  mot  Partimotion       3185            333   \n",
       "2    NU                 mot  mot  Partimotion       3184            324   \n",
       "3   FiU                 mot  mot  Partimotion       3938            752   \n",
       "4   FiU                 mot  mot  Partimotion       3275            261   \n",
       "\n",
       "  nummer status score                                            sokdata  \\\n",
       "0   3196   Klar   322  {'titel': 'Ett levande kulturarv', 'undertitel...   \n",
       "1   3185   Klar   322  {'titel': 'Utgiftsområde 17 Kultur, medier, tr...   \n",
       "2   3184   Klar   322  {'titel': 'Utgiftsområde 24 Näringsliv', 'unde...   \n",
       "3   3938   Klar   322  {'titel': 'Nu är det dags för Sverige – Sverig...   \n",
       "4   3275   Klar   322  {'titel': 'Utgiftsområde 2 Samhällsekonomi och...   \n",
       "\n",
       "                                             summary  \\\n",
       "0  Motion till riksdagen\\n 2021/22:3196\\n av Noos...   \n",
       "1  Motion till riksdagen\\n 2021/22:3185\\n av Noos...   \n",
       "2  Motion till riksdagen\\n 2021/22:3184\\n av Noos...   \n",
       "3  Motion till riksdagen\\n 2021/22:3938\\n av Jimm...   \n",
       "4  Motion till riksdagen\\n 2021/22:3275\\n av Noos...   \n",
       "\n",
       "                                         notisrubrik  \\\n",
       "0                              Ett levande kulturarv   \n",
       "1  Utgiftsområde 17 Kultur, medier, trossamfund o...   \n",
       "2                        Utgiftsområde 24 Näringsliv   \n",
       "3  Nu är det dags för Sverige – Sverigedemokrater...   \n",
       "4  Utgiftsområde 2 Samhällsekonomi och finansförv...   \n",
       "\n",
       "                                               notis  \\\n",
       "0  Motion till riksdagen\\n 2021/22:3196\\n av Noos...   \n",
       "1  Motion till riksdagen\\n 2021/22:3185\\n av Noos...   \n",
       "2  Motion till riksdagen\\n 2021/22:3184\\n av Noos...   \n",
       "3  Motion till riksdagen\\n 2021/22:3938\\n av Jimm...   \n",
       "4  Motion till riksdagen\\n 2021/22:3275\\n av Noos...   \n",
       "\n",
       "                                       dokintressent  \\\n",
       "0  {'intressent': [{'roll': 'undertecknare', 'nam...   \n",
       "1  {'intressent': [{'roll': 'undertecknare', 'nam...   \n",
       "2  {'intressent': [{'roll': 'undertecknare', 'nam...   \n",
       "3  {'intressent': [{'roll': 'undertecknare', 'nam...   \n",
       "4  {'intressent': [{'roll': 'undertecknare', 'nam...   \n",
       "\n",
       "                                           filbilaga avdelning struktur audio  \\\n",
       "0  {'fil': [{'typ': 'docx', 'namn': 'mot_202122__...  dokument                  \n",
       "1  {'fil': [{'typ': 'docx', 'namn': 'mot_202122__...  dokument                  \n",
       "2  {'fil': [{'typ': 'docx', 'namn': 'mot_202122__...  dokument                  \n",
       "3  {'fil': [{'typ': 'docx', 'namn': 'mot_202122__...  dokument                  \n",
       "4  {'fil': [{'typ': 'docx', 'namn': 'mot_202122__...  dokument                  \n",
       "\n",
       "  video debattgrupp debattdag beslutsdag beredningsdag justeringsdag beslutad  \\\n",
       "0                                                                               \n",
       "1                                                                               \n",
       "2                                                                               \n",
       "3                                                                               \n",
       "4                                                                               \n",
       "\n",
       "  debattsekunder ardometyp reservationer debatt debattnamn dokumentnamn  \n",
       "0                                          None     Motion       Motion  \n",
       "1                                          None     Motion       Motion  \n",
       "2                                          None     Motion       Motion  \n",
       "3                                          None     Motion       Motion  \n",
       "4                                          None     Motion       Motion  "
      ]
     },
     "execution_count": 2,
     "metadata": {},
     "output_type": "execute_result"
    }
   ],
   "source": [
    "import urllib3, json\n",
    "import pandas as pd  \n",
    "from tqdm.notebook import trange \n",
    "import warnings\n",
    "warnings.simplefilter(action='ignore', category=FutureWarning)\n",
    "\n",
    "http = urllib3.PoolManager() \n",
    "pd.set_option(\"display.max.columns\", None) \n",
    "#pd.set_option(\"display.max.rows\", None) \n",
    "#urlbase =\"http://data.riksdagen.se/dokumentlista/?sok=&doktyp=mot&utformat=json&p=\"\n",
    "urlbase =\"http://data.riksdagen.se/dokumentlista/?sok=&typ=mot&utformat=json&p=\"\n",
    "urlbase =\"https://data.riksdagen.se/dokumentlista/?sok=&doktyp=mot&rm=&from=1880-01-01&tom=&ts=&bet=&tempbet=&nr=&org=&iid=&avd=&webbtv=&talare=&exakt=&planering=&facets=&sort=rel&sortorder=asc&rapport=&utformat=json&a=s#soktraff&p=\"\n",
    "\n",
    "dftot = pd.DataFrame()\n",
    "maxrun = int(245208/15)+1\n",
    "#maxrun = int(5094/20)+1\n",
    "#maxrun = 12300\n",
    "for i in trange(1,maxrun):\n",
    "#for i in trange(1,10):\n",
    "    url = urlbase + str(i)\n",
    "    #print(url)\n",
    "    r = http.request('GET', url)\n",
    "    try:\n",
    "        data = json.loads(r.data)\n",
    "        dftot = dftot.append(pd.DataFrame(data[\"dokumentlista\"][\"dokument\"]),sort=False)\n",
    "    except:\n",
    "        print(\"\\tError in i=\",i,\" can be html problem\") \n",
    "dftot.head()\n"
   ]
  },
  {
   "cell_type": "code",
   "execution_count": 3,
   "metadata": {},
   "outputs": [
    {
     "name": "stdout",
     "output_type": "stream",
     "text": [
      "<class 'pandas.core.frame.DataFrame'>\n",
      "Int64Index: 326940 entries, 0 to 19\n",
      "Data columns (total 59 columns):\n",
      " #   Column             Non-Null Count   Dtype \n",
      "---  ------             --------------   ----- \n",
      " 0   traff              326940 non-null  object\n",
      " 1   domain             326940 non-null  object\n",
      " 2   database           326940 non-null  object\n",
      " 3   datum              326940 non-null  object\n",
      " 4   id                 326940 non-null  object\n",
      " 5   rdrest             0 non-null       object\n",
      " 6   slutdatum          326940 non-null  object\n",
      " 7   rddata             0 non-null       object\n",
      " 8   plats              326940 non-null  object\n",
      " 9   klockslag          326940 non-null  object\n",
      " 10  publicerad         326940 non-null  object\n",
      " 11  systemdatum        326940 non-null  object\n",
      " 12  undertitel         326940 non-null  object\n",
      " 13  kalla              326940 non-null  object\n",
      " 14  kall_id            326940 non-null  object\n",
      " 15  dok_id             326940 non-null  object\n",
      " 16  dokumentformat     326940 non-null  object\n",
      " 17  dokument_url_text  326940 non-null  object\n",
      " 18  dokument_url_html  326940 non-null  object\n",
      " 19  inlamnad           326940 non-null  object\n",
      " 20  motionstid         326940 non-null  object\n",
      " 21  tilldelat          326940 non-null  object\n",
      " 22  lang               326940 non-null  object\n",
      " 23  url                326940 non-null  object\n",
      " 24  relurl             326940 non-null  object\n",
      " 25  titel              326940 non-null  object\n",
      " 26  rm                 326940 non-null  object\n",
      " 27  organ              326940 non-null  object\n",
      " 28  relaterat_id       326940 non-null  object\n",
      " 29  doktyp             326940 non-null  object\n",
      " 30  typ                326940 non-null  object\n",
      " 31  subtyp             326940 non-null  object\n",
      " 32  beteckning         326940 non-null  object\n",
      " 33  tempbeteckning     326940 non-null  object\n",
      " 34  nummer             326940 non-null  object\n",
      " 35  status             326940 non-null  object\n",
      " 36  score              326940 non-null  object\n",
      " 37  sokdata            326940 non-null  object\n",
      " 38  summary            326940 non-null  object\n",
      " 39  notisrubrik        326940 non-null  object\n",
      " 40  notis              326940 non-null  object\n",
      " 41  dokintressent      326940 non-null  object\n",
      " 42  filbilaga          326940 non-null  object\n",
      " 43  avdelning          326940 non-null  object\n",
      " 44  struktur           326940 non-null  object\n",
      " 45  audio              326940 non-null  object\n",
      " 46  video              326940 non-null  object\n",
      " 47  debattgrupp        326940 non-null  object\n",
      " 48  debattdag          326940 non-null  object\n",
      " 49  beslutsdag         326940 non-null  object\n",
      " 50  beredningsdag      326940 non-null  object\n",
      " 51  justeringsdag      326940 non-null  object\n",
      " 52  beslutad           326940 non-null  object\n",
      " 53  debattsekunder     326940 non-null  object\n",
      " 54  ardometyp          326940 non-null  object\n",
      " 55  reservationer      326940 non-null  object\n",
      " 56  debatt             0 non-null       object\n",
      " 57  debattnamn         326940 non-null  object\n",
      " 58  dokumentnamn       326940 non-null  object\n",
      "dtypes: object(59)\n",
      "memory usage: 149.7+ MB\n"
     ]
    }
   ],
   "source": [
    "dftot.info()"
   ]
  },
  {
   "cell_type": "code",
   "execution_count": 4,
   "metadata": {},
   "outputs": [],
   "source": [
    "pd.set_option(\"display.max.rows\", None) \n",
    "#dftot"
   ]
  },
  {
   "cell_type": "code",
   "execution_count": 5,
   "metadata": {},
   "outputs": [],
   "source": [
    "#dftot.id.value_counts()"
   ]
  },
  {
   "cell_type": "code",
   "execution_count": 6,
   "metadata": {},
   "outputs": [],
   "source": [
    "#dftot.dok_id.value_counts()"
   ]
  },
  {
   "cell_type": "code",
   "execution_count": 7,
   "metadata": {},
   "outputs": [],
   "source": [
    "#dftot[['nummer','titel','publicerad','beslutad','datum','summary']] \n"
   ]
  },
  {
   "cell_type": "code",
   "execution_count": 8,
   "metadata": {},
   "outputs": [],
   "source": [
    "#dftot.publicerad.unique()"
   ]
  },
  {
   "cell_type": "code",
   "execution_count": 9,
   "metadata": {},
   "outputs": [],
   "source": [
    "#dftot.publicerad.value_counts()"
   ]
  },
  {
   "cell_type": "code",
   "execution_count": 10,
   "metadata": {},
   "outputs": [],
   "source": [
    "#matplotlib inline  \n",
    "#import matplotlib.pyplot as plt   \n",
    "#plot = dftot.publicerad.value_counts()[1:30].plot.bar(y='counts', figsize=(25, 5)) \n",
    "#plt.show()"
   ]
  },
  {
   "cell_type": "code",
   "execution_count": 11,
   "metadata": {},
   "outputs": [
    {
     "data": {
      "text/plain": [
       "FiU    97218\n",
       "NU     43880\n",
       "UU     43880\n",
       "SfU    32694\n",
       "KrU    27533\n",
       "SoU    16347\n",
       "CU     16347\n",
       "JuU    16347\n",
       "MJU    16347\n",
       "TU     11186\n",
       "UbU     5161\n",
       "Name: organ, dtype: int64"
      ]
     },
     "execution_count": 11,
     "metadata": {},
     "output_type": "execute_result"
    }
   ],
   "source": [
    "organCount = dftot.organ.value_counts() \n",
    "organCount"
   ]
  },
  {
   "cell_type": "code",
   "execution_count": 12,
   "metadata": {},
   "outputs": [
    {
     "data": {
      "text/plain": [
       "av Ebba Busch m.fl. (KD)                                27584\n",
       "av Jimmie Åkesson m.fl. (SD)                            16347\n",
       "av Annie Lööf m.fl. (C)                                 16347\n",
       "av Ulf Kristersson och Elisabeth Svantesson (båda M)    16347\n",
       "av Johan Pehrson m.fl. (L)                              15483\n",
       "av Per Bolund m.fl. (MP)                                 5161\n",
       "Name: undertitel, dtype: int64"
      ]
     },
     "execution_count": 12,
     "metadata": {},
     "output_type": "execute_result"
    }
   ],
   "source": [
    "dftot.undertitel.value_counts()[1:50]"
   ]
  },
  {
   "cell_type": "code",
   "execution_count": 13,
   "metadata": {},
   "outputs": [
    {
     "data": {
      "text/plain": [
       "Partimotion    326940\n",
       "Name: subtyp, dtype: int64"
      ]
     },
     "execution_count": 13,
     "metadata": {},
     "output_type": "execute_result"
    }
   ],
   "source": [
    "dftot.subtyp.value_counts()"
   ]
  },
  {
   "cell_type": "code",
   "execution_count": 14,
   "metadata": {},
   "outputs": [
    {
     "data": {
      "text/plain": [
       "mot    326940\n",
       "Name: doktyp, dtype: int64"
      ]
     },
     "execution_count": 14,
     "metadata": {},
     "output_type": "execute_result"
    }
   ],
   "source": [
    "dftot.doktyp.value_counts()"
   ]
  },
  {
   "cell_type": "code",
   "execution_count": 15,
   "metadata": {},
   "outputs": [
    {
     "data": {
      "text/plain": [
       "mot    326940\n",
       "Name: typ, dtype: int64"
      ]
     },
     "execution_count": 15,
     "metadata": {},
     "output_type": "execute_result"
    }
   ],
   "source": [
    "dftot.typ.value_counts()"
   ]
  },
  {
   "cell_type": "code",
   "execution_count": 16,
   "metadata": {},
   "outputs": [
    {
     "data": {
      "text/plain": [
       "2021/22    326940\n",
       "Name: rm, dtype: int64"
      ]
     },
     "execution_count": 16,
     "metadata": {},
     "output_type": "execute_result"
    }
   ],
   "source": [
    "dftot.rm.value_counts()"
   ]
  },
  {
   "cell_type": "code",
   "execution_count": 17,
   "metadata": {},
   "outputs": [
    {
     "data": {
      "text/plain": [
       "Klar        310593\n",
       "Hänvisad     16347\n",
       "Name: status, dtype: int64"
      ]
     },
     "execution_count": 17,
     "metadata": {},
     "output_type": "execute_result"
    }
   ],
   "source": [
    "dftot.status.value_counts()"
   ]
  },
  {
   "cell_type": "code",
   "execution_count": 18,
   "metadata": {},
   "outputs": [],
   "source": [
    "#dftot.beteckning.value_counts()"
   ]
  },
  {
   "cell_type": "code",
   "execution_count": 19,
   "metadata": {},
   "outputs": [],
   "source": [
    "#dftot.tempbeteckning.value_counts()"
   ]
  },
  {
   "cell_type": "code",
   "execution_count": 20,
   "metadata": {},
   "outputs": [
    {
     "data": {
      "text/plain": [
       "2021/22    326940\n",
       "Name: rm, dtype: int64"
      ]
     },
     "execution_count": 20,
     "metadata": {},
     "output_type": "execute_result"
    }
   ],
   "source": [
    "dftot.rm.value_counts()"
   ]
  },
  {
   "cell_type": "code",
   "execution_count": 21,
   "metadata": {},
   "outputs": [
    {
     "data": {
      "text/plain": [
       "322    326940\n",
       "Name: score, dtype: int64"
      ]
     },
     "execution_count": 21,
     "metadata": {},
     "output_type": "execute_result"
    }
   ],
   "source": [
    "dftot.score.value_counts()"
   ]
  },
  {
   "cell_type": "code",
   "execution_count": 22,
   "metadata": {},
   "outputs": [],
   "source": [
    "#dftot.sokdata.value_counts()"
   ]
  },
  {
   "cell_type": "code",
   "execution_count": 23,
   "metadata": {},
   "outputs": [],
   "source": [
    "import seaborn as sns\n",
    "%matplotlib inline\n",
    "%config InlineBackend.figure_format = 'svg'"
   ]
  },
  {
   "cell_type": "code",
   "execution_count": 24,
   "metadata": {},
   "outputs": [],
   "source": [
    "#sns.heatmap(dftot.isnull(), \n",
    "#            yticklabels=False, \n",
    "#            cbar=False, \n",
    "#            cmap='viridis')"
   ]
  },
  {
   "cell_type": "code",
   "execution_count": 25,
   "metadata": {},
   "outputs": [],
   "source": [
    "#plt.show()"
   ]
  },
  {
   "cell_type": "markdown",
   "metadata": {},
   "source": [
    "## Lagstiftande utskott \n",
    "\n",
    "Fält **organ**"
   ]
  },
  {
   "cell_type": "code",
   "execution_count": 26,
   "metadata": {},
   "outputs": [
    {
     "data": {
      "text/plain": [
       "array(['KrU', 'NU', 'FiU', 'UU', 'SfU', 'SoU', 'CU', 'JuU', 'TU', 'MJU',\n",
       "       'UbU'], dtype=object)"
      ]
     },
     "execution_count": 26,
     "metadata": {},
     "output_type": "execute_result"
    }
   ],
   "source": [
    "dftot.organ.unique()"
   ]
  },
  {
   "cell_type": "code",
   "execution_count": 27,
   "metadata": {},
   "outputs": [
    {
     "data": {
      "text/html": [
       "<div>\n",
       "<style scoped>\n",
       "    .dataframe tbody tr th:only-of-type {\n",
       "        vertical-align: middle;\n",
       "    }\n",
       "\n",
       "    .dataframe tbody tr th {\n",
       "        vertical-align: top;\n",
       "    }\n",
       "\n",
       "    .dataframe thead th {\n",
       "        text-align: right;\n",
       "    }\n",
       "</style>\n",
       "<table border=\"1\" class=\"dataframe\">\n",
       "  <thead>\n",
       "    <tr style=\"text-align: right;\">\n",
       "      <th></th>\n",
       "      <th>id</th>\n",
       "      <th>organ</th>\n",
       "    </tr>\n",
       "  </thead>\n",
       "  <tbody>\n",
       "    <tr>\n",
       "      <th>0</th>\n",
       "      <td>H9023196</td>\n",
       "      <td>KrU</td>\n",
       "    </tr>\n",
       "    <tr>\n",
       "      <th>1</th>\n",
       "      <td>H9023185</td>\n",
       "      <td>KrU</td>\n",
       "    </tr>\n",
       "    <tr>\n",
       "      <th>2</th>\n",
       "      <td>H9023184</td>\n",
       "      <td>NU</td>\n",
       "    </tr>\n",
       "    <tr>\n",
       "      <th>3</th>\n",
       "      <td>H9023938</td>\n",
       "      <td>FiU</td>\n",
       "    </tr>\n",
       "    <tr>\n",
       "      <th>4</th>\n",
       "      <td>H9023275</td>\n",
       "      <td>FiU</td>\n",
       "    </tr>\n",
       "  </tbody>\n",
       "</table>\n",
       "</div>"
      ],
      "text/plain": [
       "         id organ\n",
       "0  H9023196   KrU\n",
       "1  H9023185   KrU\n",
       "2  H9023184    NU\n",
       "3  H9023938   FiU\n",
       "4  H9023275   FiU"
      ]
     },
     "execution_count": 27,
     "metadata": {},
     "output_type": "execute_result"
    }
   ],
   "source": [
    "dftot[['id','organ']].head()"
   ]
  },
  {
   "cell_type": "code",
   "execution_count": 28,
   "metadata": {},
   "outputs": [],
   "source": [
    "dftot[['id','organ']].to_csv(\"Lagstiftande.csv\")"
   ]
  },
  {
   "cell_type": "code",
   "execution_count": 29,
   "metadata": {},
   "outputs": [
    {
     "data": {
      "text/plain": [
       "FiU    97218\n",
       "NU     43880\n",
       "UU     43880\n",
       "SfU    32694\n",
       "KrU    27533\n",
       "SoU    16347\n",
       "CU     16347\n",
       "JuU    16347\n",
       "MJU    16347\n",
       "TU     11186\n",
       "UbU     5161\n",
       "Name: organ, dtype: int64"
      ]
     },
     "execution_count": 29,
     "metadata": {},
     "output_type": "execute_result"
    }
   ],
   "source": [
    "dftot.organ.value_counts()"
   ]
  },
  {
   "cell_type": "code",
   "execution_count": 30,
   "metadata": {},
   "outputs": [
    {
     "data": {
      "text/plain": [
       "organ  rm     \n",
       "FiU    2021/22    97218\n",
       "NU     2021/22    43880\n",
       "UU     2021/22    43880\n",
       "SfU    2021/22    32694\n",
       "KrU    2021/22    27533\n",
       "CU     2021/22    16347\n",
       "JuU    2021/22    16347\n",
       "MJU    2021/22    16347\n",
       "SoU    2021/22    16347\n",
       "TU     2021/22    11186\n",
       "UbU    2021/22     5161\n",
       "dtype: int64"
      ]
     },
     "execution_count": 30,
     "metadata": {},
     "output_type": "execute_result"
    }
   ],
   "source": [
    "dftot.value_counts([\"organ\",\"rm\"])\n"
   ]
  },
  {
   "cell_type": "code",
   "execution_count": 31,
   "metadata": {},
   "outputs": [],
   "source": [
    "dftotCounts = dftot.value_counts([\"organ\",\"rm\"])\n",
    "dftotCounts.to_csv(\"Value_counts_organ_rm.csv\")"
   ]
  },
  {
   "cell_type": "code",
   "execution_count": 32,
   "metadata": {},
   "outputs": [
    {
     "data": {
      "text/plain": [
       "rm     \n",
       "2021/22    326940\n",
       "dtype: int64"
      ]
     },
     "execution_count": 32,
     "metadata": {},
     "output_type": "execute_result"
    }
   ],
   "source": [
    "dftot.value_counts([\"rm\"])\n"
   ]
  },
  {
   "cell_type": "code",
   "execution_count": 33,
   "metadata": {},
   "outputs": [
    {
     "name": "stdout",
     "output_type": "stream",
     "text": [
      "Ended:  2022-10-01 11:17:26.267977\n",
      "Time elapsed (hh:mm:ss.ms) 1:52:30.407838\n"
     ]
    }
   ],
   "source": [
    "end = datetime.now()\n",
    "print(\"Ended: \", end) \n",
    "print('Time elapsed (hh:mm:ss.ms) {}'.format(datetime.now() - start_time))"
   ]
  },
  {
   "cell_type": "code",
   "execution_count": 34,
   "metadata": {},
   "outputs": [
    {
     "ename": "SyntaxError",
     "evalue": "invalid syntax (<ipython-input-34-514e2028d703>, line 2)",
     "output_type": "error",
     "traceback": [
      "\u001b[0;36m  File \u001b[0;32m\"<ipython-input-34-514e2028d703>\"\u001b[0;36m, line \u001b[0;32m2\u001b[0m\n\u001b[0;31m    dftot[dftot[\"id\"] = \"GE02Bo518\"]\u001b[0m\n\u001b[0m                      ^\u001b[0m\n\u001b[0;31mSyntaxError\u001b[0m\u001b[0;31m:\u001b[0m invalid syntax\n"
     ]
    }
   ],
   "source": [
    "# GE02Bo518\n",
    "dftot[dftot[\"id\"] = \"GE02Bo518\"]\n",
    "dftot[dftot['authorid_norm'].str.contains(\"BirchPfeifferC\")]"
   ]
  },
  {
   "cell_type": "code",
   "execution_count": null,
   "metadata": {},
   "outputs": [],
   "source": []
  },
  {
   "cell_type": "code",
   "execution_count": null,
   "metadata": {},
   "outputs": [],
   "source": []
  }
 ],
 "metadata": {
  "kernelspec": {
   "display_name": "Python 3",
   "language": "python",
   "name": "python3"
  },
  "language_info": {
   "codemirror_mode": {
    "name": "ipython",
    "version": 3
   },
   "file_extension": ".py",
   "mimetype": "text/x-python",
   "name": "python",
   "nbconvert_exporter": "python",
   "pygments_lexer": "ipython3",
   "version": "3.9.13"
  }
 },
 "nbformat": 4,
 "nbformat_minor": 4
}
