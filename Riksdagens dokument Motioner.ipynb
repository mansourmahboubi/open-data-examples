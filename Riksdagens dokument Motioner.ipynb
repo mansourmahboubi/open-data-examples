{
 "cells": [
  {
   "cell_type": "markdown",
   "metadata": {},
   "source": [
    "## Riksdagen motioner \n",
    "\n",
    "* Denna [Jupyter Notebook](https://github.com/salgo60/open-data-examples/blob/master/Riksdagens%20dokument%20Motioner.ipynb) \n",
    "  * samma men 10000 motioner och [engelska](https://github.com/salgo60/open-data-examples/blob/master/Riksdagens%20dokument%20Motioner-en.ipynb) \n",
    "  * [GITHUB Riksdagen](https://github.com/salgo60/Riksdagen)\n",
    "  * [video](https://www.youtube.com/watch?v=WaEpU0FCnK8) om Open Refine och Lagstiftande [#WikidataRiksdahge](https://www.youtube.com/hashtag/wikidatariksdagen)\n",
    "* [Skapa sökfråga](http://data.riksdagen.se/dokumentlista/)  --> 245204 Motioner \n",
    "  \n",
    "* Wikipedia [WikiProject_Sweden/Swedish_Riksdag_documents](https://www.wikidata.org/wiki/Wikidata:WikiProject_Sweden/Swedish_Riksdag_documents) \n",
    "\n",
    "* [Sida med prefix](https://data.riksdagen.se/dokumentation/sa-funkar-dokument-id/#:~:text=kod%20for%20riksmote%20eller%20ar)\n",
    "\n",
    "* [Buggar Riksdagens öppna api](https://github.com/salgo60/Wikidata_riksdagen-corpus/issues/50)\n",
    "  * verkar vara en bug att man måste ange rm för att äldre dokument skall hämtas\n",
    "\n",
    "\n",
    "### Test H7023008 Motion 2019/20:3008 av Jonas Sjöstedt m.fl. (V)\n",
    "* [text](http://data.riksdagen.se/dokument/H7023008.text) / [html](http://data.riksdagen.se/dokument/H7023008.html) /  [json](http://data.riksdagen.se/dokumentlista/?sok=H7023008&utformat=json) \n"
   ]
  },
  {
   "cell_type": "code",
   "execution_count": 1,
   "metadata": {},
   "outputs": [
    {
     "name": "stdout",
     "output_type": "stream",
     "text": [
      "Last run:  2022-10-01 14:39:09.917008\n"
     ]
    }
   ],
   "source": [
    "from datetime import datetime\n",
    "start_time  = datetime.now()\n",
    "print(\"Last run: \", start_time)"
   ]
  },
  {
   "cell_type": "code",
   "execution_count": 12,
   "metadata": {},
   "outputs": [
    {
     "data": {
      "application/vnd.jupyter.widget-view+json": {
       "model_id": "2cfeef1171a6410db8f0441a34dc1798",
       "version_major": 2,
       "version_minor": 0
      },
      "text/plain": [
       "  0%|          | 0/332 [00:00<?, ?it/s]"
      ]
     },
     "metadata": {},
     "output_type": "display_data"
    },
    {
     "name": "stdout",
     "output_type": "stream",
     "text": [
      "\tError in i= 245  can be html problem\n",
      "\tError in i= 246  can be html problem\n",
      "\tError in i= 247  can be html problem\n",
      "\tError in i= 248  can be html problem\n",
      "\tError in i= 249  can be html problem\n",
      "\tError in i= 250  can be html problem\n",
      "\tError in i= 251  can be html problem\n",
      "\tError in i= 252  can be html problem\n",
      "\tError in i= 253  can be html problem\n",
      "\tError in i= 254  can be html problem\n",
      "\tError in i= 255  can be html problem\n",
      "\tError in i= 256  can be html problem\n",
      "\tError in i= 257  can be html problem\n",
      "\tError in i= 258  can be html problem\n",
      "\tError in i= 259  can be html problem\n",
      "\tError in i= 260  can be html problem\n",
      "\tError in i= 261  can be html problem\n",
      "\tError in i= 262  can be html problem\n",
      "\tError in i= 263  can be html problem\n",
      "\tError in i= 264  can be html problem\n",
      "\tError in i= 265  can be html problem\n",
      "\tError in i= 266  can be html problem\n",
      "\tError in i= 267  can be html problem\n",
      "\tError in i= 268  can be html problem\n",
      "\tError in i= 269  can be html problem\n",
      "\tError in i= 270  can be html problem\n",
      "\tError in i= 271  can be html problem\n",
      "\tError in i= 272  can be html problem\n",
      "\tError in i= 273  can be html problem\n",
      "\tError in i= 274  can be html problem\n",
      "\tError in i= 275  can be html problem\n",
      "\tError in i= 276  can be html problem\n",
      "\tError in i= 277  can be html problem\n",
      "\tError in i= 278  can be html problem\n",
      "\tError in i= 279  can be html problem\n",
      "\tError in i= 280  can be html problem\n",
      "\tError in i= 281  can be html problem\n",
      "\tError in i= 282  can be html problem\n",
      "\tError in i= 283  can be html problem\n",
      "\tError in i= 284  can be html problem\n",
      "\tError in i= 285  can be html problem\n",
      "\tError in i= 286  can be html problem\n",
      "\tError in i= 287  can be html problem\n",
      "\tError in i= 288  can be html problem\n",
      "\tError in i= 289  can be html problem\n",
      "\tError in i= 290  can be html problem\n",
      "\tError in i= 291  can be html problem\n",
      "\tError in i= 292  can be html problem\n",
      "\tError in i= 293  can be html problem\n",
      "\tError in i= 294  can be html problem\n",
      "\tError in i= 295  can be html problem\n",
      "\tError in i= 296  can be html problem\n",
      "\tError in i= 297  can be html problem\n",
      "\tError in i= 298  can be html problem\n",
      "\tError in i= 299  can be html problem\n",
      "\tError in i= 300  can be html problem\n",
      "\tError in i= 301  can be html problem\n",
      "\tError in i= 302  can be html problem\n",
      "\tError in i= 303  can be html problem\n",
      "\tError in i= 304  can be html problem\n",
      "\tError in i= 305  can be html problem\n",
      "\tError in i= 306  can be html problem\n",
      "\tError in i= 307  can be html problem\n",
      "\tError in i= 308  can be html problem\n",
      "\tError in i= 309  can be html problem\n",
      "\tError in i= 310  can be html problem\n",
      "\tError in i= 311  can be html problem\n",
      "\tError in i= 312  can be html problem\n",
      "\tError in i= 313  can be html problem\n",
      "\tError in i= 314  can be html problem\n",
      "\tError in i= 315  can be html problem\n",
      "\tError in i= 316  can be html problem\n",
      "\tError in i= 317  can be html problem\n",
      "\tError in i= 318  can be html problem\n",
      "\tError in i= 319  can be html problem\n",
      "\tError in i= 320  can be html problem\n",
      "\tError in i= 321  can be html problem\n",
      "\tError in i= 322  can be html problem\n",
      "\tError in i= 323  can be html problem\n",
      "\tError in i= 324  can be html problem\n",
      "\tError in i= 325  can be html problem\n",
      "\tError in i= 326  can be html problem\n",
      "\tError in i= 327  can be html problem\n",
      "\tError in i= 328  can be html problem\n",
      "\tError in i= 329  can be html problem\n",
      "\tError in i= 330  can be html problem\n",
      "\tError in i= 331  can be html problem\n",
      "\tError in i= 332  can be html problem\n"
     ]
    },
    {
     "data": {
      "text/html": [
       "<div>\n",
       "<style scoped>\n",
       "    .dataframe tbody tr th:only-of-type {\n",
       "        vertical-align: middle;\n",
       "    }\n",
       "\n",
       "    .dataframe tbody tr th {\n",
       "        vertical-align: top;\n",
       "    }\n",
       "\n",
       "    .dataframe thead th {\n",
       "        text-align: right;\n",
       "    }\n",
       "</style>\n",
       "<table border=\"1\" class=\"dataframe\">\n",
       "  <thead>\n",
       "    <tr style=\"text-align: right;\">\n",
       "      <th></th>\n",
       "      <th>traff</th>\n",
       "      <th>domain</th>\n",
       "      <th>database</th>\n",
       "      <th>datum</th>\n",
       "      <th>id</th>\n",
       "      <th>rdrest</th>\n",
       "      <th>slutdatum</th>\n",
       "      <th>rddata</th>\n",
       "      <th>plats</th>\n",
       "      <th>klockslag</th>\n",
       "      <th>publicerad</th>\n",
       "      <th>systemdatum</th>\n",
       "      <th>undertitel</th>\n",
       "      <th>kalla</th>\n",
       "      <th>kall_id</th>\n",
       "      <th>dok_id</th>\n",
       "      <th>dokumentformat</th>\n",
       "      <th>dokument_url_text</th>\n",
       "      <th>dokument_url_html</th>\n",
       "      <th>inlamnad</th>\n",
       "      <th>motionstid</th>\n",
       "      <th>tilldelat</th>\n",
       "      <th>lang</th>\n",
       "      <th>url</th>\n",
       "      <th>relurl</th>\n",
       "      <th>titel</th>\n",
       "      <th>rm</th>\n",
       "      <th>organ</th>\n",
       "      <th>relaterat_id</th>\n",
       "      <th>doktyp</th>\n",
       "      <th>typ</th>\n",
       "      <th>subtyp</th>\n",
       "      <th>beteckning</th>\n",
       "      <th>tempbeteckning</th>\n",
       "      <th>nummer</th>\n",
       "      <th>status</th>\n",
       "      <th>score</th>\n",
       "      <th>sokdata</th>\n",
       "      <th>summary</th>\n",
       "      <th>notisrubrik</th>\n",
       "      <th>notis</th>\n",
       "      <th>dokintressent</th>\n",
       "      <th>filbilaga</th>\n",
       "      <th>avdelning</th>\n",
       "      <th>struktur</th>\n",
       "      <th>audio</th>\n",
       "      <th>video</th>\n",
       "      <th>debattgrupp</th>\n",
       "      <th>debattdag</th>\n",
       "      <th>beslutsdag</th>\n",
       "      <th>beredningsdag</th>\n",
       "      <th>justeringsdag</th>\n",
       "      <th>beslutad</th>\n",
       "      <th>debattsekunder</th>\n",
       "      <th>ardometyp</th>\n",
       "      <th>reservationer</th>\n",
       "      <th>debatt</th>\n",
       "      <th>debattnamn</th>\n",
       "      <th>dokumentnamn</th>\n",
       "    </tr>\n",
       "  </thead>\n",
       "  <tbody>\n",
       "    <tr>\n",
       "      <th>0</th>\n",
       "      <td>1</td>\n",
       "      <td>rdwebb</td>\n",
       "      <td>dokument</td>\n",
       "      <td>1990-08-25</td>\n",
       "      <td>GD02Kr376</td>\n",
       "      <td>None</td>\n",
       "      <td></td>\n",
       "      <td>None</td>\n",
       "      <td></td>\n",
       "      <td></td>\n",
       "      <td>2014-11-04</td>\n",
       "      <td>2014-11-04 15:04:18</td>\n",
       "      <td>av Jan Hyttring m.fl. (c)</td>\n",
       "      <td>skanning</td>\n",
       "      <td></td>\n",
       "      <td>GD02Kr376</td>\n",
       "      <td></td>\n",
       "      <td>//data.riksdagen.se/dokument/GD02Kr376.text</td>\n",
       "      <td>//data.riksdagen.se/dokument/GD02Kr376.html</td>\n",
       "      <td></td>\n",
       "      <td></td>\n",
       "      <td></td>\n",
       "      <td></td>\n",
       "      <td></td>\n",
       "      <td></td>\n",
       "      <td>Vissa filmfrågor</td>\n",
       "      <td>1989/90</td>\n",
       "      <td>KrU</td>\n",
       "      <td></td>\n",
       "      <td>mot</td>\n",
       "      <td>mot</td>\n",
       "      <td></td>\n",
       "      <td>Kr376</td>\n",
       "      <td></td>\n",
       "      <td>376</td>\n",
       "      <td></td>\n",
       "      <td>71</td>\n",
       "      <td>{'titel': 'Vissa filmfrågor', 'undertitel': 'M...</td>\n",
       "      <td>Observera att dokumentet är inskannat och fel ...</td>\n",
       "      <td>Vissa filmfrågor</td>\n",
       "      <td>Observera att dokumentet är inskannat och fel ...</td>\n",
       "      <td>{'intressent': [{'roll': 'undertecknare', 'nam...</td>\n",
       "      <td>{'fil': [{'typ': 'pdf', 'namn': 'mot_198990_kr...</td>\n",
       "      <td>dokument</td>\n",
       "      <td></td>\n",
       "      <td></td>\n",
       "      <td></td>\n",
       "      <td></td>\n",
       "      <td></td>\n",
       "      <td></td>\n",
       "      <td></td>\n",
       "      <td></td>\n",
       "      <td></td>\n",
       "      <td></td>\n",
       "      <td></td>\n",
       "      <td></td>\n",
       "      <td>None</td>\n",
       "      <td>Motion</td>\n",
       "      <td>Motion</td>\n",
       "    </tr>\n",
       "    <tr>\n",
       "      <th>1</th>\n",
       "      <td>2</td>\n",
       "      <td>rdwebb</td>\n",
       "      <td>dokument</td>\n",
       "      <td>1990-06-13</td>\n",
       "      <td>GD02N78</td>\n",
       "      <td>None</td>\n",
       "      <td></td>\n",
       "      <td>None</td>\n",
       "      <td></td>\n",
       "      <td></td>\n",
       "      <td>2014-11-04</td>\n",
       "      <td>2014-11-04 15:08:46</td>\n",
       "      <td>av Per-Ola Eriksson m.fl. (c)</td>\n",
       "      <td>skanning</td>\n",
       "      <td></td>\n",
       "      <td>GD02N78</td>\n",
       "      <td></td>\n",
       "      <td>//data.riksdagen.se/dokument/GD02N78.text</td>\n",
       "      <td>//data.riksdagen.se/dokument/GD02N78.html</td>\n",
       "      <td></td>\n",
       "      <td></td>\n",
       "      <td></td>\n",
       "      <td></td>\n",
       "      <td></td>\n",
       "      <td></td>\n",
       "      <td>med anledning av prop. 1989/90:153</td>\n",
       "      <td>1989/90</td>\n",
       "      <td>NU</td>\n",
       "      <td></td>\n",
       "      <td>mot</td>\n",
       "      <td>mot</td>\n",
       "      <td></td>\n",
       "      <td>N78</td>\n",
       "      <td></td>\n",
       "      <td>78</td>\n",
       "      <td></td>\n",
       "      <td>71</td>\n",
       "      <td>{'titel': 'med anledning av prop. 1989/90:153'...</td>\n",
       "      <td>Observera att dokumentet är inskannat och fel ...</td>\n",
       "      <td>med anledning av prop. 1989/90:153</td>\n",
       "      <td>Observera att dokumentet är inskannat och fel ...</td>\n",
       "      <td>{'intressent': [{'roll': 'undertecknare', 'nam...</td>\n",
       "      <td>{'fil': [{'typ': 'pdf', 'namn': 'mot_198990_n_...</td>\n",
       "      <td>dokument</td>\n",
       "      <td></td>\n",
       "      <td></td>\n",
       "      <td></td>\n",
       "      <td></td>\n",
       "      <td></td>\n",
       "      <td></td>\n",
       "      <td></td>\n",
       "      <td></td>\n",
       "      <td></td>\n",
       "      <td></td>\n",
       "      <td></td>\n",
       "      <td></td>\n",
       "      <td>None</td>\n",
       "      <td>Motion</td>\n",
       "      <td>Motion</td>\n",
       "    </tr>\n",
       "    <tr>\n",
       "      <th>2</th>\n",
       "      <td>3</td>\n",
       "      <td>rdwebb</td>\n",
       "      <td>dokument</td>\n",
       "      <td>1990-06-06</td>\n",
       "      <td>GD02Bo73</td>\n",
       "      <td>None</td>\n",
       "      <td></td>\n",
       "      <td>None</td>\n",
       "      <td></td>\n",
       "      <td></td>\n",
       "      <td>2014-10-14</td>\n",
       "      <td>2014-10-14 12:30:37</td>\n",
       "      <td>av Claes Roxbergh m.fl. (mp)</td>\n",
       "      <td>skanning</td>\n",
       "      <td></td>\n",
       "      <td>GD02Bo73</td>\n",
       "      <td></td>\n",
       "      <td>//data.riksdagen.se/dokument/GD02Bo73.text</td>\n",
       "      <td>//data.riksdagen.se/dokument/GD02Bo73.html</td>\n",
       "      <td></td>\n",
       "      <td></td>\n",
       "      <td></td>\n",
       "      <td></td>\n",
       "      <td></td>\n",
       "      <td></td>\n",
       "      <td>med anledning av prop. 1989/90:151  Fastighets...</td>\n",
       "      <td>1989/90</td>\n",
       "      <td>BoU</td>\n",
       "      <td></td>\n",
       "      <td>mot</td>\n",
       "      <td>mot</td>\n",
       "      <td></td>\n",
       "      <td>Bo73</td>\n",
       "      <td></td>\n",
       "      <td>73</td>\n",
       "      <td></td>\n",
       "      <td>71</td>\n",
       "      <td>{'titel': 'med anledning av prop. 1989/90:151 ...</td>\n",
       "      <td>Observera att dokumentet är inskannat och fel ...</td>\n",
       "      <td>med anledning av prop. 1989/90:151  Fastighets...</td>\n",
       "      <td>Observera att dokumentet är inskannat och fel ...</td>\n",
       "      <td>{'intressent': [{'roll': 'undertecknare', 'nam...</td>\n",
       "      <td>{'fil': [{'typ': 'pdf', 'namn': 'mot_198990_bo...</td>\n",
       "      <td>dokument</td>\n",
       "      <td></td>\n",
       "      <td></td>\n",
       "      <td></td>\n",
       "      <td></td>\n",
       "      <td></td>\n",
       "      <td></td>\n",
       "      <td></td>\n",
       "      <td></td>\n",
       "      <td></td>\n",
       "      <td></td>\n",
       "      <td></td>\n",
       "      <td></td>\n",
       "      <td>None</td>\n",
       "      <td>Motion</td>\n",
       "      <td>Motion</td>\n",
       "    </tr>\n",
       "    <tr>\n",
       "      <th>3</th>\n",
       "      <td>4</td>\n",
       "      <td>rdwebb</td>\n",
       "      <td>dokument</td>\n",
       "      <td>1990-06-06</td>\n",
       "      <td>GD02Bo72</td>\n",
       "      <td>None</td>\n",
       "      <td></td>\n",
       "      <td>None</td>\n",
       "      <td></td>\n",
       "      <td></td>\n",
       "      <td>2014-10-14</td>\n",
       "      <td>2014-10-14 12:30:36</td>\n",
       "      <td>av Annika Åhnberg (v)</td>\n",
       "      <td>skanning</td>\n",
       "      <td></td>\n",
       "      <td>GD02Bo72</td>\n",
       "      <td></td>\n",
       "      <td>//data.riksdagen.se/dokument/GD02Bo72.text</td>\n",
       "      <td>//data.riksdagen.se/dokument/GD02Bo72.html</td>\n",
       "      <td></td>\n",
       "      <td></td>\n",
       "      <td></td>\n",
       "      <td></td>\n",
       "      <td></td>\n",
       "      <td></td>\n",
       "      <td>med anledning av prop. 1989/90:151  Fastighets...</td>\n",
       "      <td>1989/90</td>\n",
       "      <td>BoU</td>\n",
       "      <td></td>\n",
       "      <td>mot</td>\n",
       "      <td>mot</td>\n",
       "      <td></td>\n",
       "      <td>Bo72</td>\n",
       "      <td></td>\n",
       "      <td>72</td>\n",
       "      <td></td>\n",
       "      <td>71</td>\n",
       "      <td>{'titel': 'med anledning av prop. 1989/90:151 ...</td>\n",
       "      <td>Observera att dokumentet är inskannat och fel ...</td>\n",
       "      <td>med anledning av prop. 1989/90:151  Fastighets...</td>\n",
       "      <td>Observera att dokumentet är inskannat och fel ...</td>\n",
       "      <td>{'intressent': [{'roll': 'undertecknare', 'nam...</td>\n",
       "      <td>{'fil': [{'typ': 'pdf', 'namn': 'mot_198990_bo...</td>\n",
       "      <td>dokument</td>\n",
       "      <td></td>\n",
       "      <td></td>\n",
       "      <td></td>\n",
       "      <td></td>\n",
       "      <td></td>\n",
       "      <td></td>\n",
       "      <td></td>\n",
       "      <td></td>\n",
       "      <td></td>\n",
       "      <td></td>\n",
       "      <td></td>\n",
       "      <td></td>\n",
       "      <td>None</td>\n",
       "      <td>Motion</td>\n",
       "      <td>Motion</td>\n",
       "    </tr>\n",
       "    <tr>\n",
       "      <th>4</th>\n",
       "      <td>5</td>\n",
       "      <td>rdwebb</td>\n",
       "      <td>dokument</td>\n",
       "      <td>1990-06-06</td>\n",
       "      <td>GD02Bo71</td>\n",
       "      <td>None</td>\n",
       "      <td></td>\n",
       "      <td>None</td>\n",
       "      <td></td>\n",
       "      <td></td>\n",
       "      <td>2014-10-14</td>\n",
       "      <td>2014-10-14 12:30:35</td>\n",
       "      <td>av Agne Hansson och Birger Andersson (båda c)</td>\n",
       "      <td>skanning</td>\n",
       "      <td></td>\n",
       "      <td>GD02Bo71</td>\n",
       "      <td></td>\n",
       "      <td>//data.riksdagen.se/dokument/GD02Bo71.text</td>\n",
       "      <td>//data.riksdagen.se/dokument/GD02Bo71.html</td>\n",
       "      <td></td>\n",
       "      <td></td>\n",
       "      <td></td>\n",
       "      <td></td>\n",
       "      <td></td>\n",
       "      <td></td>\n",
       "      <td>med anledning av prop. 1989/90:151  Fastighets...</td>\n",
       "      <td>1989/90</td>\n",
       "      <td>BoU</td>\n",
       "      <td></td>\n",
       "      <td>mot</td>\n",
       "      <td>mot</td>\n",
       "      <td></td>\n",
       "      <td>Bo71</td>\n",
       "      <td></td>\n",
       "      <td>71</td>\n",
       "      <td></td>\n",
       "      <td>71</td>\n",
       "      <td>{'titel': 'med anledning av prop. 1989/90:151 ...</td>\n",
       "      <td>Observera att dokumentet är inskannat och fel ...</td>\n",
       "      <td>med anledning av prop. 1989/90:151  Fastighets...</td>\n",
       "      <td>Observera att dokumentet är inskannat och fel ...</td>\n",
       "      <td>{'intressent': [{'roll': 'undertecknare', 'nam...</td>\n",
       "      <td>{'fil': [{'typ': 'pdf', 'namn': 'mot_198990_bo...</td>\n",
       "      <td>dokument</td>\n",
       "      <td></td>\n",
       "      <td></td>\n",
       "      <td></td>\n",
       "      <td></td>\n",
       "      <td></td>\n",
       "      <td></td>\n",
       "      <td></td>\n",
       "      <td></td>\n",
       "      <td></td>\n",
       "      <td></td>\n",
       "      <td></td>\n",
       "      <td></td>\n",
       "      <td>None</td>\n",
       "      <td>Motion</td>\n",
       "      <td>Motion</td>\n",
       "    </tr>\n",
       "  </tbody>\n",
       "</table>\n",
       "</div>"
      ],
      "text/plain": [
       "  traff  domain  database       datum         id rdrest slutdatum rddata  \\\n",
       "0     1  rdwebb  dokument  1990-08-25  GD02Kr376   None             None   \n",
       "1     2  rdwebb  dokument  1990-06-13    GD02N78   None             None   \n",
       "2     3  rdwebb  dokument  1990-06-06   GD02Bo73   None             None   \n",
       "3     4  rdwebb  dokument  1990-06-06   GD02Bo72   None             None   \n",
       "4     5  rdwebb  dokument  1990-06-06   GD02Bo71   None             None   \n",
       "\n",
       "  plats klockslag  publicerad          systemdatum  \\\n",
       "0                  2014-11-04  2014-11-04 15:04:18   \n",
       "1                  2014-11-04  2014-11-04 15:08:46   \n",
       "2                  2014-10-14  2014-10-14 12:30:37   \n",
       "3                  2014-10-14  2014-10-14 12:30:36   \n",
       "4                  2014-10-14  2014-10-14 12:30:35   \n",
       "\n",
       "                                      undertitel     kalla kall_id     dok_id  \\\n",
       "0                     av Jan Hyttring m.fl. (c)   skanning          GD02Kr376   \n",
       "1                 av Per-Ola Eriksson m.fl. (c)   skanning            GD02N78   \n",
       "2                   av Claes Roxbergh m.fl. (mp)  skanning           GD02Bo73   \n",
       "3                          av Annika Åhnberg (v)  skanning           GD02Bo72   \n",
       "4  av Agne Hansson och Birger Andersson (båda c)  skanning           GD02Bo71   \n",
       "\n",
       "  dokumentformat                            dokument_url_text  \\\n",
       "0                 //data.riksdagen.se/dokument/GD02Kr376.text   \n",
       "1                   //data.riksdagen.se/dokument/GD02N78.text   \n",
       "2                  //data.riksdagen.se/dokument/GD02Bo73.text   \n",
       "3                  //data.riksdagen.se/dokument/GD02Bo72.text   \n",
       "4                  //data.riksdagen.se/dokument/GD02Bo71.text   \n",
       "\n",
       "                             dokument_url_html inlamnad motionstid tilldelat  \\\n",
       "0  //data.riksdagen.se/dokument/GD02Kr376.html                                 \n",
       "1    //data.riksdagen.se/dokument/GD02N78.html                                 \n",
       "2   //data.riksdagen.se/dokument/GD02Bo73.html                                 \n",
       "3   //data.riksdagen.se/dokument/GD02Bo72.html                                 \n",
       "4   //data.riksdagen.se/dokument/GD02Bo71.html                                 \n",
       "\n",
       "  lang url relurl                                              titel       rm  \\\n",
       "0                                                   Vissa filmfrågor  1989/90   \n",
       "1                                 med anledning av prop. 1989/90:153  1989/90   \n",
       "2                  med anledning av prop. 1989/90:151  Fastighets...  1989/90   \n",
       "3                  med anledning av prop. 1989/90:151  Fastighets...  1989/90   \n",
       "4                  med anledning av prop. 1989/90:151  Fastighets...  1989/90   \n",
       "\n",
       "  organ relaterat_id doktyp  typ subtyp beteckning tempbeteckning nummer  \\\n",
       "0   KrU                 mot  mot             Kr376                   376   \n",
       "1    NU                 mot  mot               N78                    78   \n",
       "2   BoU                 mot  mot              Bo73                    73   \n",
       "3   BoU                 mot  mot              Bo72                    72   \n",
       "4   BoU                 mot  mot              Bo71                    71   \n",
       "\n",
       "  status score                                            sokdata  \\\n",
       "0           71  {'titel': 'Vissa filmfrågor', 'undertitel': 'M...   \n",
       "1           71  {'titel': 'med anledning av prop. 1989/90:153'...   \n",
       "2           71  {'titel': 'med anledning av prop. 1989/90:151 ...   \n",
       "3           71  {'titel': 'med anledning av prop. 1989/90:151 ...   \n",
       "4           71  {'titel': 'med anledning av prop. 1989/90:151 ...   \n",
       "\n",
       "                                             summary  \\\n",
       "0  Observera att dokumentet är inskannat och fel ...   \n",
       "1  Observera att dokumentet är inskannat och fel ...   \n",
       "2  Observera att dokumentet är inskannat och fel ...   \n",
       "3  Observera att dokumentet är inskannat och fel ...   \n",
       "4  Observera att dokumentet är inskannat och fel ...   \n",
       "\n",
       "                                         notisrubrik  \\\n",
       "0                                   Vissa filmfrågor   \n",
       "1                 med anledning av prop. 1989/90:153   \n",
       "2  med anledning av prop. 1989/90:151  Fastighets...   \n",
       "3  med anledning av prop. 1989/90:151  Fastighets...   \n",
       "4  med anledning av prop. 1989/90:151  Fastighets...   \n",
       "\n",
       "                                               notis  \\\n",
       "0  Observera att dokumentet är inskannat och fel ...   \n",
       "1  Observera att dokumentet är inskannat och fel ...   \n",
       "2  Observera att dokumentet är inskannat och fel ...   \n",
       "3  Observera att dokumentet är inskannat och fel ...   \n",
       "4  Observera att dokumentet är inskannat och fel ...   \n",
       "\n",
       "                                       dokintressent  \\\n",
       "0  {'intressent': [{'roll': 'undertecknare', 'nam...   \n",
       "1  {'intressent': [{'roll': 'undertecknare', 'nam...   \n",
       "2  {'intressent': [{'roll': 'undertecknare', 'nam...   \n",
       "3  {'intressent': [{'roll': 'undertecknare', 'nam...   \n",
       "4  {'intressent': [{'roll': 'undertecknare', 'nam...   \n",
       "\n",
       "                                           filbilaga avdelning struktur audio  \\\n",
       "0  {'fil': [{'typ': 'pdf', 'namn': 'mot_198990_kr...  dokument                  \n",
       "1  {'fil': [{'typ': 'pdf', 'namn': 'mot_198990_n_...  dokument                  \n",
       "2  {'fil': [{'typ': 'pdf', 'namn': 'mot_198990_bo...  dokument                  \n",
       "3  {'fil': [{'typ': 'pdf', 'namn': 'mot_198990_bo...  dokument                  \n",
       "4  {'fil': [{'typ': 'pdf', 'namn': 'mot_198990_bo...  dokument                  \n",
       "\n",
       "  video debattgrupp debattdag beslutsdag beredningsdag justeringsdag beslutad  \\\n",
       "0                                                                               \n",
       "1                                                                               \n",
       "2                                                                               \n",
       "3                                                                               \n",
       "4                                                                               \n",
       "\n",
       "  debattsekunder ardometyp reservationer debatt debattnamn dokumentnamn  \n",
       "0                                          None     Motion       Motion  \n",
       "1                                          None     Motion       Motion  \n",
       "2                                          None     Motion       Motion  \n",
       "3                                          None     Motion       Motion  \n",
       "4                                          None     Motion       Motion  "
      ]
     },
     "execution_count": 12,
     "metadata": {},
     "output_type": "execute_result"
    }
   ],
   "source": [
    "import urllib3, json\n",
    "import pandas as pd  \n",
    "from tqdm.notebook import trange \n",
    "import warnings\n",
    "warnings.simplefilter(action='ignore', category=FutureWarning)\n",
    "\n",
    "http = urllib3.PoolManager() \n",
    "pd.set_option(\"display.max.columns\", None) \n",
    "#pd.set_option(\"display.max.rows\", None) \n",
    "#urlbase =\"http://data.riksdagen.se/dokumentlista/?sok=&doktyp=mot&utformat=json&p=\"\n",
    "urlbase =\"http://data.riksdagen.se/dokumentlista/?sok=&typ=mot&utformat=json&p=\"\n",
    "#1990/91\n",
    "urlbase =\"http://data.riksdagen.se/dokumentlista/?sok=&typ=mot&utformat=json&rm=1990%2F91&p=\"\n",
    "urlbase =\"http://data.riksdagen.se/dokumentlista/?sok=&typ=mot&utformat=json&rm=1989%2F90&p=\"\n",
    "\n",
    "dftot = pd.DataFrame()\n",
    "maxrun = int(245208/15)+1\n",
    "#maxrun = int(5094/20)+1\n",
    "maxrun = int(5000/15)\n",
    "for i in trange(1,maxrun):\n",
    "#for i in trange(1,10):\n",
    "    url = urlbase + str(i)\n",
    "    #print(url)\n",
    "    r = http.request('GET', url)\n",
    "    try:\n",
    "        data = json.loads(r.data)\n",
    "        dftot = dftot.append(pd.DataFrame(data[\"dokumentlista\"][\"dokument\"]),sort=False)\n",
    "    except:\n",
    "        print(\"\\tError in i=\",i,\" can be html problem\") \n",
    "dftot.head()\n"
   ]
  },
  {
   "cell_type": "code",
   "execution_count": 3,
   "metadata": {},
   "outputs": [
    {
     "name": "stdout",
     "output_type": "stream",
     "text": [
      "<class 'pandas.core.frame.DataFrame'>\n",
      "Index: 0 entries\n",
      "Empty DataFrame"
     ]
    }
   ],
   "source": [
    "dftot.info()"
   ]
  },
  {
   "cell_type": "code",
   "execution_count": 4,
   "metadata": {},
   "outputs": [],
   "source": [
    "pd.set_option(\"display.max.rows\", None) \n",
    "#dftot"
   ]
  },
  {
   "cell_type": "code",
   "execution_count": 5,
   "metadata": {},
   "outputs": [],
   "source": [
    "#dftot.id.value_counts()"
   ]
  },
  {
   "cell_type": "code",
   "execution_count": 6,
   "metadata": {},
   "outputs": [],
   "source": [
    "#dftot.dok_id.value_counts()"
   ]
  },
  {
   "cell_type": "code",
   "execution_count": 7,
   "metadata": {},
   "outputs": [],
   "source": [
    "#dftot[['nummer','titel','publicerad','beslutad','datum','summary']] \n"
   ]
  },
  {
   "cell_type": "code",
   "execution_count": 8,
   "metadata": {},
   "outputs": [],
   "source": [
    "#dftot.publicerad.unique()"
   ]
  },
  {
   "cell_type": "code",
   "execution_count": 9,
   "metadata": {},
   "outputs": [],
   "source": [
    "#dftot.publicerad.value_counts()"
   ]
  },
  {
   "cell_type": "code",
   "execution_count": 10,
   "metadata": {},
   "outputs": [],
   "source": [
    "#matplotlib inline  \n",
    "#import matplotlib.pyplot as plt   \n",
    "#plot = dftot.publicerad.value_counts()[1:30].plot.bar(y='counts', figsize=(25, 5)) \n",
    "#plt.show()"
   ]
  },
  {
   "cell_type": "code",
   "execution_count": 14,
   "metadata": {},
   "outputs": [
    {
     "name": "stdout",
     "output_type": "stream",
     "text": [
      "<class 'pandas.core.frame.DataFrame'>\n",
      "Int64Index: 4861 entries, 0 to 0\n",
      "Data columns (total 59 columns):\n",
      " #   Column             Non-Null Count  Dtype \n",
      "---  ------             --------------  ----- \n",
      " 0   traff              4861 non-null   object\n",
      " 1   domain             4861 non-null   object\n",
      " 2   database           4861 non-null   object\n",
      " 3   datum              4861 non-null   object\n",
      " 4   id                 4861 non-null   object\n",
      " 5   rdrest             0 non-null      object\n",
      " 6   slutdatum          4861 non-null   object\n",
      " 7   rddata             0 non-null      object\n",
      " 8   plats              4861 non-null   object\n",
      " 9   klockslag          4861 non-null   object\n",
      " 10  publicerad         4861 non-null   object\n",
      " 11  systemdatum        4861 non-null   object\n",
      " 12  undertitel         4861 non-null   object\n",
      " 13  kalla              4861 non-null   object\n",
      " 14  kall_id            4861 non-null   object\n",
      " 15  dok_id             4861 non-null   object\n",
      " 16  dokumentformat     4861 non-null   object\n",
      " 17  dokument_url_text  4861 non-null   object\n",
      " 18  dokument_url_html  4861 non-null   object\n",
      " 19  inlamnad           4861 non-null   object\n",
      " 20  motionstid         4861 non-null   object\n",
      " 21  tilldelat          4861 non-null   object\n",
      " 22  lang               4861 non-null   object\n",
      " 23  url                4861 non-null   object\n",
      " 24  relurl             4861 non-null   object\n",
      " 25  titel              4861 non-null   object\n",
      " 26  rm                 4861 non-null   object\n",
      " 27  organ              4861 non-null   object\n",
      " 28  relaterat_id       4861 non-null   object\n",
      " 29  doktyp             4861 non-null   object\n",
      " 30  typ                4861 non-null   object\n",
      " 31  subtyp             4861 non-null   object\n",
      " 32  beteckning         4861 non-null   object\n",
      " 33  tempbeteckning     4861 non-null   object\n",
      " 34  nummer             4861 non-null   object\n",
      " 35  status             4861 non-null   object\n",
      " 36  score              4861 non-null   object\n",
      " 37  sokdata            4861 non-null   object\n",
      " 38  summary            4861 non-null   object\n",
      " 39  notisrubrik        4861 non-null   object\n",
      " 40  notis              4861 non-null   object\n",
      " 41  dokintressent      4848 non-null   object\n",
      " 42  filbilaga          4861 non-null   object\n",
      " 43  avdelning          4861 non-null   object\n",
      " 44  struktur           4861 non-null   object\n",
      " 45  audio              4861 non-null   object\n",
      " 46  video              4861 non-null   object\n",
      " 47  debattgrupp        4861 non-null   object\n",
      " 48  debattdag          4861 non-null   object\n",
      " 49  beslutsdag         4861 non-null   object\n",
      " 50  beredningsdag      4861 non-null   object\n",
      " 51  justeringsdag      4861 non-null   object\n",
      " 52  beslutad           4861 non-null   object\n",
      " 53  debattsekunder     4861 non-null   object\n",
      " 54  ardometyp          4861 non-null   object\n",
      " 55  reservationer      4861 non-null   object\n",
      " 56  debatt             0 non-null      object\n",
      " 57  debattnamn         4861 non-null   object\n",
      " 58  dokumentnamn       4861 non-null   object\n",
      "dtypes: object(59)\n",
      "memory usage: 2.2+ MB\n"
     ]
    }
   ],
   "source": [
    "dftot.info()"
   ]
  },
  {
   "cell_type": "code",
   "execution_count": 16,
   "metadata": {},
   "outputs": [
    {
     "data": {
      "text/plain": [
       "UbU    584\n",
       "JoU    499\n",
       "SkU    431\n",
       "SoU    376\n",
       "TU     376\n",
       "AU     366\n",
       "SfU    345\n",
       "NU     333\n",
       "KrU    252\n",
       "BoU    222\n",
       "UU     222\n",
       "JuU    213\n",
       "KU     205\n",
       "FiU    179\n",
       "LU     141\n",
       "FöU    117\n",
       "Name: organ, dtype: int64"
      ]
     },
     "execution_count": 16,
     "metadata": {},
     "output_type": "execute_result"
    }
   ],
   "source": [
    "organCount = dftot.organ.value_counts() \n",
    "organCount"
   ]
  },
  {
   "cell_type": "code",
   "execution_count": 17,
   "metadata": {},
   "outputs": [
    {
     "data": {
      "text/plain": [
       "av Lars Werner m.fl. (vpk)                        112\n",
       "av Inger Schörling m.fl. (mp)                      57\n",
       "av Carl Bildt m.fl. (m)                            53\n",
       "av Bengt Westerberg m.fl. (fp)                     51\n",
       "av Olof Johansson m.fl. (c)                        49\n",
       "av Claes Roxbergh m.fl. (mp)                       40\n",
       "av Olof Johansson m.fl. (c)                        35\n",
       "av Carl Bildt m.fl. (m)                            31\n",
       "av Claes Roxbergh m.fl. (mp)                       30\n",
       "av Inger Schörling m.fl. (mp)                      29\n",
       "av Bengt Westerberg m.fl. (fp)                     26\n",
       "av Lars Ernestam m.fl. (fp)                        19\n",
       "av Ulla Orring (fp)                                16\n",
       "av Bengt Harding Olson (fp)                        16\n",
       "av Siw Persson (fp)                                16\n",
       "av Gunnar Björk m.fl. (c)                          16\n",
       "av Sten Svensson m.fl. (m)                         15\n",
       "av Bo Lundgren m.fl. (m)                           15\n",
       "av Ylva Annerstedt (fp)                            15\n",
       "av Karin Israelsson m.fl. (c)                      15\n",
       "av Jan Hyttring m.fl. (c)                          14\n",
       "av Isa Halvarsson (fp)                             14\n",
       "av Ylva Annerstedt m.fl. (fp)                      14\n",
       "av Gullan Lindblad och Göthe Knutson (båda m)      14\n",
       "av Margaretha af Ugglas m.fl. (m)                  14\n",
       "av Roy Ottosson m.fl. (mp)                         13\n",
       "av Leif Olsson och Kenth Skårvik (båda fp)         13\n",
       "av Martin Olsson (c)                               12\n",
       "av Bo Lundgren m.fl. (m)                           12\n",
       "av Rolf Clarkson m.fl. (m)                         12\n",
       "av Ann-Cathrine Haglund m.fl. (m)                  11\n",
       "av Sten Svensson m.fl. (m)                         11\n",
       "av Ingela Mårtensson m.fl. (fp)                    11\n",
       "av Kenth Skårvik och Leif Olsson (båda fp)         11\n",
       "av Rolf Clarkson m.fl. (m)                         11\n",
       "av Ann-Cathrine Haglund m.fl. (m)                  11\n",
       "av Börje Hörnlund m.fl. (c)                        11\n",
       "av Anita Stenberg m.fl. (mp)                       11\n",
       "av Lars Tobisson m.fl. (m)                         11\n",
       "av Göthe Knutson (m)                               11\n",
       "av Hans Göran Franck m.fl. (s)                     11\n",
       "av Stina Eliasson (c)                              11\n",
       "av Eva Goés m.fl. (mp)                             11\n",
       "av Daniel Tarschys m.fl. (fp)                      11\n",
       "av Sven Eric Lorentzon m.fl. (m)                   11\n",
       "av Knut Billing m.fl. (m)                          10\n",
       "av Daniel Tarschys m.fl. (fp)                      10\n",
       "av Per-Ola Eriksson m.fl. (c)                      10\n",
       "av Britta Bjelle (fp)                              10\n",
       "Name: undertitel, dtype: int64"
      ]
     },
     "execution_count": 17,
     "metadata": {},
     "output_type": "execute_result"
    }
   ],
   "source": [
    "dftot.undertitel.value_counts()[1:50]"
   ]
  },
  {
   "cell_type": "code",
   "execution_count": 18,
   "metadata": {},
   "outputs": [
    {
     "data": {
      "text/plain": [
       "    4861\n",
       "Name: subtyp, dtype: int64"
      ]
     },
     "execution_count": 18,
     "metadata": {},
     "output_type": "execute_result"
    }
   ],
   "source": [
    "dftot.subtyp.value_counts()"
   ]
  },
  {
   "cell_type": "code",
   "execution_count": 19,
   "metadata": {},
   "outputs": [
    {
     "data": {
      "text/plain": [
       "mot    4861\n",
       "Name: doktyp, dtype: int64"
      ]
     },
     "execution_count": 19,
     "metadata": {},
     "output_type": "execute_result"
    }
   ],
   "source": [
    "dftot.doktyp.value_counts()"
   ]
  },
  {
   "cell_type": "code",
   "execution_count": 20,
   "metadata": {},
   "outputs": [
    {
     "data": {
      "text/plain": [
       "mot    4861\n",
       "Name: typ, dtype: int64"
      ]
     },
     "execution_count": 20,
     "metadata": {},
     "output_type": "execute_result"
    }
   ],
   "source": [
    "dftot.typ.value_counts()"
   ]
  },
  {
   "cell_type": "code",
   "execution_count": 21,
   "metadata": {},
   "outputs": [
    {
     "data": {
      "text/plain": [
       "1989/90    4861\n",
       "Name: rm, dtype: int64"
      ]
     },
     "execution_count": 21,
     "metadata": {},
     "output_type": "execute_result"
    }
   ],
   "source": [
    "dftot.rm.value_counts()"
   ]
  },
  {
   "cell_type": "code",
   "execution_count": 22,
   "metadata": {},
   "outputs": [
    {
     "data": {
      "text/plain": [
       "           4860\n",
       "defekt?       1\n",
       "Name: status, dtype: int64"
      ]
     },
     "execution_count": 22,
     "metadata": {},
     "output_type": "execute_result"
    }
   ],
   "source": [
    "dftot.status.value_counts()"
   ]
  },
  {
   "cell_type": "code",
   "execution_count": 23,
   "metadata": {},
   "outputs": [],
   "source": [
    "#dftot.beteckning.value_counts()"
   ]
  },
  {
   "cell_type": "code",
   "execution_count": 24,
   "metadata": {},
   "outputs": [],
   "source": [
    "#dftot.tempbeteckning.value_counts()"
   ]
  },
  {
   "cell_type": "code",
   "execution_count": 25,
   "metadata": {},
   "outputs": [
    {
     "data": {
      "text/plain": [
       "1989/90    4861\n",
       "Name: rm, dtype: int64"
      ]
     },
     "execution_count": 25,
     "metadata": {},
     "output_type": "execute_result"
    }
   ],
   "source": [
    "dftot.rm.value_counts()"
   ]
  },
  {
   "cell_type": "code",
   "execution_count": 26,
   "metadata": {},
   "outputs": [
    {
     "data": {
      "text/plain": [
       "71    4861\n",
       "Name: score, dtype: int64"
      ]
     },
     "execution_count": 26,
     "metadata": {},
     "output_type": "execute_result"
    }
   ],
   "source": [
    "dftot.score.value_counts()"
   ]
  },
  {
   "cell_type": "code",
   "execution_count": 27,
   "metadata": {},
   "outputs": [],
   "source": [
    "#dftot.sokdata.value_counts()"
   ]
  },
  {
   "cell_type": "code",
   "execution_count": 28,
   "metadata": {},
   "outputs": [],
   "source": [
    "import seaborn as sns\n",
    "%matplotlib inline\n",
    "%config InlineBackend.figure_format = 'svg'"
   ]
  },
  {
   "cell_type": "code",
   "execution_count": 29,
   "metadata": {},
   "outputs": [],
   "source": [
    "#sns.heatmap(dftot.isnull(), \n",
    "#            yticklabels=False, \n",
    "#            cbar=False, \n",
    "#            cmap='viridis')"
   ]
  },
  {
   "cell_type": "code",
   "execution_count": 30,
   "metadata": {},
   "outputs": [],
   "source": [
    "#plt.show()"
   ]
  },
  {
   "cell_type": "markdown",
   "metadata": {},
   "source": [
    "## Lagstiftande utskott \n",
    "\n",
    "Fält **organ**"
   ]
  },
  {
   "cell_type": "code",
   "execution_count": 31,
   "metadata": {},
   "outputs": [
    {
     "data": {
      "text/plain": [
       "array(['KrU', 'NU', 'BoU', 'JuU', 'FiU', 'SfU', 'SkU', 'FöU', 'JoU', 'UU',\n",
       "       'SoU', 'TU', 'AU', 'KU', 'UbU', 'LU'], dtype=object)"
      ]
     },
     "execution_count": 31,
     "metadata": {},
     "output_type": "execute_result"
    }
   ],
   "source": [
    "dftot.organ.unique()"
   ]
  },
  {
   "cell_type": "code",
   "execution_count": 32,
   "metadata": {},
   "outputs": [
    {
     "data": {
      "text/html": [
       "<div>\n",
       "<style scoped>\n",
       "    .dataframe tbody tr th:only-of-type {\n",
       "        vertical-align: middle;\n",
       "    }\n",
       "\n",
       "    .dataframe tbody tr th {\n",
       "        vertical-align: top;\n",
       "    }\n",
       "\n",
       "    .dataframe thead th {\n",
       "        text-align: right;\n",
       "    }\n",
       "</style>\n",
       "<table border=\"1\" class=\"dataframe\">\n",
       "  <thead>\n",
       "    <tr style=\"text-align: right;\">\n",
       "      <th></th>\n",
       "      <th>id</th>\n",
       "      <th>organ</th>\n",
       "    </tr>\n",
       "  </thead>\n",
       "  <tbody>\n",
       "    <tr>\n",
       "      <th>0</th>\n",
       "      <td>GD02Kr376</td>\n",
       "      <td>KrU</td>\n",
       "    </tr>\n",
       "    <tr>\n",
       "      <th>1</th>\n",
       "      <td>GD02N78</td>\n",
       "      <td>NU</td>\n",
       "    </tr>\n",
       "    <tr>\n",
       "      <th>2</th>\n",
       "      <td>GD02Bo73</td>\n",
       "      <td>BoU</td>\n",
       "    </tr>\n",
       "    <tr>\n",
       "      <th>3</th>\n",
       "      <td>GD02Bo72</td>\n",
       "      <td>BoU</td>\n",
       "    </tr>\n",
       "    <tr>\n",
       "      <th>4</th>\n",
       "      <td>GD02Bo71</td>\n",
       "      <td>BoU</td>\n",
       "    </tr>\n",
       "  </tbody>\n",
       "</table>\n",
       "</div>"
      ],
      "text/plain": [
       "          id organ\n",
       "0  GD02Kr376   KrU\n",
       "1    GD02N78    NU\n",
       "2   GD02Bo73   BoU\n",
       "3   GD02Bo72   BoU\n",
       "4   GD02Bo71   BoU"
      ]
     },
     "execution_count": 32,
     "metadata": {},
     "output_type": "execute_result"
    }
   ],
   "source": [
    "dftot[['id','organ']].head()"
   ]
  },
  {
   "cell_type": "code",
   "execution_count": 33,
   "metadata": {},
   "outputs": [],
   "source": [
    "dftot[['id','organ']].to_csv(\"Lagstiftande.csv\")"
   ]
  },
  {
   "cell_type": "code",
   "execution_count": 34,
   "metadata": {},
   "outputs": [
    {
     "data": {
      "text/plain": [
       "UbU    584\n",
       "JoU    499\n",
       "SkU    431\n",
       "SoU    376\n",
       "TU     376\n",
       "AU     366\n",
       "SfU    345\n",
       "NU     333\n",
       "KrU    252\n",
       "BoU    222\n",
       "UU     222\n",
       "JuU    213\n",
       "KU     205\n",
       "FiU    179\n",
       "LU     141\n",
       "FöU    117\n",
       "Name: organ, dtype: int64"
      ]
     },
     "execution_count": 34,
     "metadata": {},
     "output_type": "execute_result"
    }
   ],
   "source": [
    "dftot.organ.value_counts()"
   ]
  },
  {
   "cell_type": "code",
   "execution_count": 35,
   "metadata": {},
   "outputs": [
    {
     "data": {
      "text/plain": [
       "organ  rm     \n",
       "UbU    1989/90    584\n",
       "JoU    1989/90    499\n",
       "SkU    1989/90    431\n",
       "SoU    1989/90    376\n",
       "TU     1989/90    376\n",
       "AU     1989/90    366\n",
       "SfU    1989/90    345\n",
       "NU     1989/90    333\n",
       "KrU    1989/90    252\n",
       "BoU    1989/90    222\n",
       "UU     1989/90    222\n",
       "JuU    1989/90    213\n",
       "KU     1989/90    205\n",
       "FiU    1989/90    179\n",
       "LU     1989/90    141\n",
       "FöU    1989/90    117\n",
       "dtype: int64"
      ]
     },
     "execution_count": 35,
     "metadata": {},
     "output_type": "execute_result"
    }
   ],
   "source": [
    "dftot.value_counts([\"organ\",\"rm\"])\n"
   ]
  },
  {
   "cell_type": "code",
   "execution_count": 36,
   "metadata": {},
   "outputs": [],
   "source": [
    "dftotCounts = dftot.value_counts([\"organ\",\"rm\"])\n",
    "dftotCounts.to_csv(\"Value_counts_organ_rm.csv\")"
   ]
  },
  {
   "cell_type": "code",
   "execution_count": 37,
   "metadata": {},
   "outputs": [
    {
     "data": {
      "text/plain": [
       "rm     \n",
       "1989/90    4861\n",
       "dtype: int64"
      ]
     },
     "execution_count": 37,
     "metadata": {},
     "output_type": "execute_result"
    }
   ],
   "source": [
    "dftot.value_counts([\"rm\"])\n"
   ]
  },
  {
   "cell_type": "code",
   "execution_count": 38,
   "metadata": {},
   "outputs": [
    {
     "name": "stdout",
     "output_type": "stream",
     "text": [
      "Ended:  2022-10-01 14:44:05.296461\n",
      "Time elapsed (hh:mm:ss.ms) 0:04:55.384045\n"
     ]
    }
   ],
   "source": [
    "end = datetime.now()\n",
    "print(\"Ended: \", end) \n",
    "print('Time elapsed (hh:mm:ss.ms) {}'.format(datetime.now() - start_time))"
   ]
  },
  {
   "cell_type": "code",
   "execution_count": 39,
   "metadata": {},
   "outputs": [
    {
     "data": {
      "text/html": [
       "<div>\n",
       "<style scoped>\n",
       "    .dataframe tbody tr th:only-of-type {\n",
       "        vertical-align: middle;\n",
       "    }\n",
       "\n",
       "    .dataframe tbody tr th {\n",
       "        vertical-align: top;\n",
       "    }\n",
       "\n",
       "    .dataframe thead th {\n",
       "        text-align: right;\n",
       "    }\n",
       "</style>\n",
       "<table border=\"1\" class=\"dataframe\">\n",
       "  <thead>\n",
       "    <tr style=\"text-align: right;\">\n",
       "      <th></th>\n",
       "      <th>traff</th>\n",
       "      <th>domain</th>\n",
       "      <th>database</th>\n",
       "      <th>datum</th>\n",
       "      <th>id</th>\n",
       "      <th>rdrest</th>\n",
       "      <th>slutdatum</th>\n",
       "      <th>rddata</th>\n",
       "      <th>plats</th>\n",
       "      <th>klockslag</th>\n",
       "      <th>publicerad</th>\n",
       "      <th>systemdatum</th>\n",
       "      <th>undertitel</th>\n",
       "      <th>kalla</th>\n",
       "      <th>kall_id</th>\n",
       "      <th>dok_id</th>\n",
       "      <th>dokumentformat</th>\n",
       "      <th>dokument_url_text</th>\n",
       "      <th>dokument_url_html</th>\n",
       "      <th>inlamnad</th>\n",
       "      <th>motionstid</th>\n",
       "      <th>tilldelat</th>\n",
       "      <th>lang</th>\n",
       "      <th>url</th>\n",
       "      <th>relurl</th>\n",
       "      <th>titel</th>\n",
       "      <th>rm</th>\n",
       "      <th>organ</th>\n",
       "      <th>relaterat_id</th>\n",
       "      <th>doktyp</th>\n",
       "      <th>typ</th>\n",
       "      <th>subtyp</th>\n",
       "      <th>beteckning</th>\n",
       "      <th>tempbeteckning</th>\n",
       "      <th>nummer</th>\n",
       "      <th>status</th>\n",
       "      <th>score</th>\n",
       "      <th>sokdata</th>\n",
       "      <th>summary</th>\n",
       "      <th>notisrubrik</th>\n",
       "      <th>notis</th>\n",
       "      <th>dokintressent</th>\n",
       "      <th>filbilaga</th>\n",
       "      <th>avdelning</th>\n",
       "      <th>struktur</th>\n",
       "      <th>audio</th>\n",
       "      <th>video</th>\n",
       "      <th>debattgrupp</th>\n",
       "      <th>debattdag</th>\n",
       "      <th>beslutsdag</th>\n",
       "      <th>beredningsdag</th>\n",
       "      <th>justeringsdag</th>\n",
       "      <th>beslutad</th>\n",
       "      <th>debattsekunder</th>\n",
       "      <th>ardometyp</th>\n",
       "      <th>reservationer</th>\n",
       "      <th>debatt</th>\n",
       "      <th>debattnamn</th>\n",
       "      <th>dokumentnamn</th>\n",
       "    </tr>\n",
       "  </thead>\n",
       "  <tbody>\n",
       "  </tbody>\n",
       "</table>\n",
       "</div>"
      ],
      "text/plain": [
       "Empty DataFrame\n",
       "Columns: [traff, domain, database, datum, id, rdrest, slutdatum, rddata, plats, klockslag, publicerad, systemdatum, undertitel, kalla, kall_id, dok_id, dokumentformat, dokument_url_text, dokument_url_html, inlamnad, motionstid, tilldelat, lang, url, relurl, titel, rm, organ, relaterat_id, doktyp, typ, subtyp, beteckning, tempbeteckning, nummer, status, score, sokdata, summary, notisrubrik, notis, dokintressent, filbilaga, avdelning, struktur, audio, video, debattgrupp, debattdag, beslutsdag, beredningsdag, justeringsdag, beslutad, debattsekunder, ardometyp, reservationer, debatt, debattnamn, dokumentnamn]\n",
       "Index: []"
      ]
     },
     "execution_count": 39,
     "metadata": {},
     "output_type": "execute_result"
    }
   ],
   "source": [
    "# GE02Bo518\n",
    "dftot[dftot[\"id\"] == \"GE02Bo518\"]\n"
   ]
  },
  {
   "cell_type": "code",
   "execution_count": null,
   "metadata": {},
   "outputs": [],
   "source": []
  },
  {
   "cell_type": "code",
   "execution_count": null,
   "metadata": {},
   "outputs": [],
   "source": []
  }
 ],
 "metadata": {
  "kernelspec": {
   "display_name": "Python 3",
   "language": "python",
   "name": "python3"
  },
  "language_info": {
   "codemirror_mode": {
    "name": "ipython",
    "version": 3
   },
   "file_extension": ".py",
   "mimetype": "text/x-python",
   "name": "python",
   "nbconvert_exporter": "python",
   "pygments_lexer": "ipython3",
   "version": "3.9.13"
  }
 },
 "nbformat": 4,
 "nbformat_minor": 4
}
