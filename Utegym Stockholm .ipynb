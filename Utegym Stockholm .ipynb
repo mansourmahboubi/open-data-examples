{
 "cells": [
  {
   "cell_type": "markdown",
   "metadata": {},
   "source": [
    "## Utegym Stockholm \n",
    "* ÖDIS [Utegym Stockholm](https://smartstad.stockholm/2020/05/08/projekt-odis-efterfragar-oppna-data-om-utegym/) \n",
    "* Utegym i Stockholms stad [cf2effb7-8e1e-41ab-90b4-d09fd383f0fd](https://storsthlm.dataplatform.se/#/data/cf2effb7-8e1e-41ab-90b4-d09fd383f0fd)"
   ]
  },
  {
   "cell_type": "code",
   "execution_count": 1,
   "metadata": {},
   "outputs": [],
   "source": [
    "import requests\n",
    "import json\n",
    "url = \"https://ckan-storsthlm.dataplatform.se/api/action/datastore_search?resource_id=5e2c496a-3a48-4a85-ace0-e8357cbb7a67&limit=500\"\n",
    "req = requests.get(url) \n",
    "# Ensure we fail fast if the web request failed\n",
    "req.raise_for_status() \n",
    "data = json.loads(req.text)"
   ]
  },
  {
   "cell_type": "code",
   "execution_count": 14,
   "metadata": {},
   "outputs": [
    {
     "data": {
      "text/plain": [
       "<bound method DataFrame.info of     _id Kommun-KOD          Utegym-ID                 Namn  ... Axelpress Hackar Langbarr Styrkeyta\n",
       "0     1        180  0180_Utegym_00001  Akalla Gårds utegym  ...        Ja   None     None      None\n",
       "1     2        180  0180_Utegym_00002   Björkhagens utegym  ...        Ja   None     None      None\n",
       "2     3        180  0180_Utegym_00003      Bredängs utegym  ...      None   None     None      None\n",
       "3     4        180  0180_Utegym_00004       Brotorp utegym  ...        Ja   None     None      None\n",
       "4     5        180  0180_Utegym_00005     Eriksdals utegym  ...        Ja   None     None      None\n",
       "..  ...        ...                ...                  ...  ...       ...    ...      ...       ...\n",
       "59   60        180  0180_Utegym_00060       Ärvinge utegym  ...      None   None     None      None\n",
       "60   61        180  0180_Utegym_00061       Ågestas utegym  ...      None   None     None      None\n",
       "61   62        180  0180_Utegym_00062  Årstaskogens utegym  ...      None   None     None      None\n",
       "62   63        180  0180_Utegym_00063   Årstavikens utegym  ...        Ja   None     None      None\n",
       "63   64        180  0180_Utegym_00064     Östbergas utegym  ...        Ja   None     None      None\n",
       "\n",
       "[64 rows x 51 columns]>"
      ]
     },
     "execution_count": 14,
     "metadata": {},
     "output_type": "execute_result"
    }
   ],
   "source": [
    "import pandas as pd \n",
    "import geopandas as gpd\n",
    "import matplotlib.pyplot as plt \n",
    "df =  pd.DataFrame(data[\"result\"][\"records\"])\n",
    "df.info"
   ]
  },
  {
   "cell_type": "code",
   "execution_count": 21,
   "metadata": {},
   "outputs": [
    {
     "name": "stdout",
     "output_type": "stream",
     "text": [
      "<class 'pandas.core.frame.DataFrame'>\n",
      "RangeIndex: 64 entries, 0 to 63\n",
      "Data columns (total 51 columns):\n",
      "_id                               64 non-null int64\n",
      "Kommun-KOD                        64 non-null object\n",
      "Utegym-ID                         64 non-null object\n",
      "Namn                              64 non-null object\n",
      "Namn pa plats                     64 non-null object\n",
      "Koordinat_Lat_(WGS84)             64 non-null object\n",
      "Koordinat_Long_(WGS84)            64 non-null object\n",
      "Koordinat_Lat_(Sweref-99-TM)      0 non-null object\n",
      "Koordinat_Long_(Sweref-99-TM)     0 non-null object\n",
      "Koordinat_Lat_(Sweref-lokal)      0 non-null object\n",
      "Koordinat_Long_(Sweref-lokal)     0 non-null object\n",
      "Parkeringsplatser                 64 non-null object\n",
      "Namn pa agare                     64 non-null object\n",
      "Telefonnummer                     64 non-null object\n",
      "E-post                            64 non-null object\n",
      "Bild                              38 non-null object\n",
      "Bild 2                            0 non-null object\n",
      "Bild 3                            0 non-null object\n",
      "Vagbeskrivning                    45 non-null object\n",
      "Ovrig beskrivning                 0 non-null object\n",
      "Lank for mer information          64 non-null object\n",
      "Belysning                         17 non-null object\n",
      "Rullstolsanpassat                 0 non-null object\n",
      "Postnummer                        0 non-null object\n",
      "Datum skapad                      0 non-null object\n",
      "Datum modifierad                  0 non-null object\n",
      "Sit ups                           28 non-null object\n",
      "Armhav                            2 non-null object\n",
      "Rygglyft                          1 non-null object\n",
      "Parallella stangar                15 non-null object\n",
      "Armgang                           21 non-null object\n",
      "Balansbom                         10 non-null object\n",
      "Marklyft                          21 non-null object\n",
      "Trappsteg                         2 non-null object\n",
      "Horistontell stang                0 non-null object\n",
      "Ribbstolar                        1 non-null object\n",
      "Viktade rep                       0 non-null object\n",
      "Benlyft                           1 non-null object\n",
      "Slackline                         0 non-null object\n",
      "Air walker                        0 non-null object\n",
      "Rodd                              21 non-null object\n",
      "Traningscykel                     0 non-null object\n",
      "Skylt med ovningsinstruktioner    0 non-null object\n",
      "Romerska ringar                   0 non-null object\n",
      "Elliptisk traningsmaskin          0 non-null object\n",
      "Bankpress                         21 non-null object\n",
      "Knaboj                            24 non-null object\n",
      "Axelpress                         22 non-null object\n",
      "Hackar                            0 non-null object\n",
      "Langbarr                          0 non-null object\n",
      "Styrkeyta                         0 non-null object\n",
      "dtypes: int64(1), object(50)\n",
      "memory usage: 25.6+ KB\n"
     ]
    }
   ],
   "source": [
    "df.info()"
   ]
  },
  {
   "cell_type": "code",
   "execution_count": 25,
   "metadata": {},
   "outputs": [
    {
     "name": "stdout",
     "output_type": "stream",
     "text": [
      "User Guide: https://docs.kepler.gl/docs/keplergl-jupyter\n"
     ]
    }
   ],
   "source": [
    "from keplergl import KeplerGl\n",
    "map1=KeplerGl(height=800)\n",
    "map1.add_data(data=df,name='Stockholm Utegym') "
   ]
  },
  {
   "cell_type": "code",
   "execution_count": 47,
   "metadata": {},
   "outputs": [
    {
     "name": "stdout",
     "output_type": "stream",
     "text": [
      "_id | Kommun-KOD | Utegym-ID | Namn | Namn pa plats | Koordinat_Lat_(WGS84) | Koordinat_Long_(WGS84)\n",
      "1 | 180 | 0180_Utegym_00001 | Akalla Gårds utegym | Akalla Gårds bollplan | 59.412051 | 17.915596\n",
      "2 | 180 | 0180_Utegym_00002 | Björkhagens utegym | Startplatsen för Björkhagsspåret | 59.293862 | 18.126439\n",
      "3 | 180 | 0180_Utegym_00003 | Bredängs utegym | Intill Bredängs camping | 59.295756000000004 | 17.923198\n",
      "4 | 180 | 0180_Utegym_00004 | Brotorp utegym | Brotorp | 59.272175 | 18.148630999999998\n",
      "5 | 180 | 0180_Utegym_00005 | Eriksdals utegym | Intill Eriksdalsbadet | 59.304697999999995 | 18.074382\n",
      "6 | 180 | 0180_Utegym_00006 | Fagersjöskogens utegym | Intill Fagersjöspåret | 59.251093999999995 | 18.077149\n",
      "7 | 180 | 0180_Utegym_00007 | Farsta utegym | Utanför grindarna till Farsta idrottsplats | 59.23976999999999 | 18.079995999999998\n",
      "8 | 180 | 0180_Utegym_00008 | Farstanäsets utegym | Farstanäset | 59.239064 | 18.070715\n",
      "9 | 180 | 0180_Utegym_00009 | Farstastrandsbadets utegym | Farstastrandsbadet | 59.237469999999995 | 18.085333\n",
      "10 | 180 | 0180_Utegym_00010 | Flatenbadet utegym | Flatenbadet | 59.253682999999995 | 18.161676\n",
      "11 | 180 | 0180_Utegym_00011 | Fruängens utegym | Vid Fruängens bollplan | 59.283127 | 17.962843\n",
      "12 | 180 | 0180_Utegym_00012 | Grimsta utegym | Grimsta gärde | 59.357766000000005 | 17.865457\n",
      "13 | 180 | 0180_Utegym_00013 | Grimstafältet - Grimsta motionsspår | Grimstafältet | 59.36164300000001 | 17.846410000000002\n",
      "14 | 180 | 0180_Utegym_00014 | Gärdets utegym | Gärdet | 59.342101 | 18.108704\n",
      "15 | 180 | 0180_Utegym_00015 | Hammarby Sjöstads utegym | Hammarby Sjöstad | 59.301567000000006 | 18.11109\n",
      "16 | 180 | 0180_Utegym_00016 | Hellasgårdens utegym | Hellasgården | 59.289772 | 18.158952\n",
      "17 | 180 | 0180_Utegym_00017 | Hinderstorpsparkens utegym | Hinderstorpsparken | 59.388563 | 17.935285999999998\n",
      "18 | 180 | 0180_Utegym_00018 | Hjorthagens utegym | Hjorthagen | 59.357636 | 18.098828\n",
      "37 | 180 | 0180_Utegym_00037 | Pålsundsparkens utegym | Pålslundaparken | 59.318822999999995 | 18.027859\n",
      "19 | 180 | 0180_Utegym_00019 | Hornsbergs strands utegym | Hornsbergs strand | 59.34065 | 18.010499\n",
      "20 | 180 | 0180_Utegym_00020 | Hökarängsbadets utegym | Hökarängsbadet | 59.246837 | 18.109381\n",
      "21 | 180 | 0180_Utegym_00021 | Kaknäs utegym | Kaknäs motionsspår | 59.336133999999994 | 18.136206\n",
      "22 | 180 | 0180_Utegym_00022 | Kanaanbadets utegym | Kanaanbadet | 59.348849 | 17.859301000000002\n",
      "29 | 180 | 0180_Utegym_00029 | Lillsjöns utegym | Lillsjön | 59.342025 | 17.953515\n",
      "23 | 180 | 0180_Utegym_00023 | Kronobergsparkens utegym | Kronobergsparken | 59.332426 | 18.036282\n",
      "24 | 180 | 0180_Utegym_00024 | Kungsholms strandstigs utegym | Kungsholms strandstig | 59.333843 | 18.047520000000002\n",
      "25 | 180 | 0180_Utegym_00025 | Kämpetorpsskolans utegym | Kämpetorpsskolan | 59.283719999999995 | 17.996853\n",
      "26 | 180 | 0180_Utegym_00026 | Kärrtorps utegym | Kärrtorp | 59.285587 | 18.125069\n",
      "27 | 180 | 0180_Utegym_00027 | Lappkärrsbergets utegym | Docentbacken, Lappkärrsberget | 59.371623 | 18.058726\n",
      "28 | 180 | 0180_Utegym_00028 | Liljeholmens utegym | Trekantsparken | 59.310646999999996 | 18.020778\n",
      "30 | 180 | 0180_Utegym_00030 | Mellanbergsparkens utegym | Mellanbergsparken | 59.29135600000001 | 17.981223999999997\n",
      "31 | 180 | 0180_Utegym_00031 | Mossens utegym | Stora Mossens idrottsplats | 59.328956999999996 | 17.963759\n",
      "32 | 180 | 0180_Utegym_00032 | Mälarhöjdsbadets utegym | Mälarhöjdsbadet | 59.300068 | 17.925742\n",
      "33 | 180 | 0180_Utegym_00033 | Nytorpsgärdes utegym | Nytorpsbadet | 59.289607999999994 | 18.106392\n",
      "34 | 180 | 0180_Utegym_00034 | Nälsta utegym | Nälsta | 59.369468000000005 | 17.8802\n",
      "35 | 180 | 0180_Utegym_00035 | Oppundaparkens utegym | Oppundaparken | 59.271542000000004 | 18.07292\n",
      "36 | 180 | 0180_Utegym_00036 | Oxtungans utegym | Oxtungans lekplats | 59.370146999999996 | 17.818056\n",
      "38 | 180 | 0180_Utegym_00038 | Rålambshovsparkens utegym | Rålambshovsparken | 59.329186 | 18.025254\n",
      "39 | 180 | 0180_Utegym_00039 | Sannadalsparkens utegym | Sannadalsparken | 59.315560999999995 | 18.011020000000002\n",
      "40 | 180 | 0180_Utegym_00040 | Skarpnäcksfältets utegym | Skarpnäcks sportfält | 59.270132999999994 | 18.119933\n",
      "41 | 180 | 0180_Utegym_00041 | Skärholmens utegym | Skärholmens gård | 59.283053 | 17.888932999999998\n",
      "42 | 180 | 0180_Utegym_00042 | Smedsuddsbadets utegym | Smedsuddsbadet | 59.325638 | 18.021422\n",
      "43 | 180 | 0180_Utegym_00043 | Solbergskogens utegym | Solbergskogen | 59.286729 | 18.004291000000002\n",
      "57 | 180 | 0180_Utegym_00057 | Vintervikens utegym | Vinterviksparken | 59.311741000000005 | 18.002447\n",
      "44 | 180 | 0180_Utegym_00044 | Solbrännans utegym | Parken Solbrännan | 59.281968000000006 | 18.015535\n",
      "45 | 180 | 0180_Utegym_00045 | Solviks utegym | Solviksbadet | 59.315803 | 17.964651999999997\n",
      "46 | 180 | 0180_Utegym_00046 | Spånga idrottsplats | Spånga IP | 59.387381000000005 | 17.907621\n",
      "47 | 180 | 0180_Utegym_00047 | Spånga utegym | Spånga centrum | 59.382783999999994 | 17.89545\n",
      "48 | 180 | 0180_Utegym_00048 | Stora Sköndals utegym | Stora Sköndals handikappbad | 59.249131000000006 | 18.125449\n",
      "49 | 180 | 0180_Utegym_00049 | Stråkets utegym | Stråkets parklek | 59.359758 | 17.831231\n",
      "58 | 180 | 0180_Utegym_00058 | Vårgårdens utegym | Vårgårdens parklek | 59.276537 | 17.884601\n",
      "50 | 180 | 0180_Utegym_00050 | Sätra idrottsplats utegym | Sätra IP | 59.289586 | 17.928911\n",
      "51 | 180 | 0180_Utegym_00051 | Sätradals utegym | Sätradalsparken | 59.286080000000005 | 17.917117\n",
      "52 | 180 | 0180_Utegym_00052 | Sätrastrandsbadets utegym | Sätrastrandsbadet | 59.286547999999996 | 17.892867000000003\n",
      "53 | 180 | 0180_Utegym_00053 | Tantolundens utegym | Tantolunden | 59.313632999999996 | 18.036248\n",
      "54 | 180 | 0180_Utegym_00054 | Uteträffen i Tessinparken | Tessinparken | 59.344561999999996 | 18.095565\n",
      "55 | 180 | 0180_Utegym_00055 | Vanadislundens utegym | Vanadislunden | 59.347196 | 18.05315\n",
      "56 | 180 | 0180_Utegym_00056 | Vasaparkens utegym | Vasaparken | 59.339307999999996 | 18.040205\n",
      "59 | 180 | 0180_Utegym_00059 | Älvsjöskogens utegym | Älvsjöskogens naturreservat | 59.271556999999994 | 17.995136\n",
      "60 | 180 | 0180_Utegym_00060 | Ärvinge utegym | Ärvinge | 59.399211 | 17.933564\n",
      "61 | 180 | 0180_Utegym_00061 | Ågestas utegym | Ågesta motionsområde | 59.222753000000004 | 18.104855\n",
      "62 | 180 | 0180_Utegym_00062 | Årstaskogens utegym | Årstaskogen | 59.30309499999999 | 18.059095000000003\n",
      "63 | 180 | 0180_Utegym_00063 | Årstavikens utegym | Årstaviken | 59.305066000000004 | 18.040284\n",
      "64 | 180 | 0180_Utegym_00064 | Östbergas utegym | Lisebergs bollplan | 59.28631 | 18.032016\n"
     ]
    }
   ],
   "source": [
    "print(\"_id\",\"|\",\"Kommun-KOD\",\"|\",\"Utegym-ID\",\"|\",\"Namn\",\"|\",\"Namn pa plats\",\"|\",\"Koordinat_Lat_(WGS84)\",\"|\",\"Koordinat_Long_(WGS84)\") \n",
    "for index, r in df.iterrows():\n",
    "    print(r[\"_id\"],\"|\",r[\"Kommun-KOD\"],\"|\",r[\"Utegym-ID\"],\"|\",r[\"Namn\"],\"|\",r[\"Namn pa plats\"],\"|\",r[\"Koordinat_Lat_(WGS84)\"],\"|\",r[\"Koordinat_Long_(WGS84)\"])"
   ]
  },
  {
   "cell_type": "code",
   "execution_count": null,
   "metadata": {},
   "outputs": [],
   "source": []
  }
 ],
 "metadata": {
  "kernelspec": {
   "display_name": "Python 3",
   "language": "python",
   "name": "python3"
  },
  "language_info": {
   "codemirror_mode": {
    "name": "ipython",
    "version": 3
   },
   "file_extension": ".py",
   "mimetype": "text/x-python",
   "name": "python",
   "nbconvert_exporter": "python",
   "pygments_lexer": "ipython3",
   "version": "3.8.0"
  }
 },
 "nbformat": 4,
 "nbformat_minor": 4
}
