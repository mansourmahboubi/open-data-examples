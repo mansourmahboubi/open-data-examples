{
 "cells": [
  {
   "cell_type": "markdown",
   "metadata": {},
   "source": [
    "### Södertälje kommun  \n",
    "\n",
    "se också [blogpost](http://minancestry.blogspot.com/2020/05/blog-post.html) \n",
    "* anpassad [geojson](https://gist.githubusercontent.com/salgo60/31fd8d6fb4accfb7b4824ecf70986fae/raw/47901403ecd09d3da4bfc83ed2ce47b3372fa378/S%25C3%25B6dert%25C3%25A4ljeKommunNaturreservat.json)\n",
    " \n",
    "GITHUB [open-data-examples](https://github.com/salgo60/open-data-examples)\n"
   ]
  },
  {
   "cell_type": "code",
   "execution_count": 5,
   "metadata": {},
   "outputs": [],
   "source": [
    "from shapely.geometry import Point, Polygon"
   ]
  },
  {
   "cell_type": "code",
   "execution_count": 6,
   "metadata": {},
   "outputs": [
    {
     "name": "stdout",
     "output_type": "stream",
     "text": [
      "                              Namn                                        Information  ...     WDPAID                   geometry\n",
      "0  Öbacken-Bränninge naturreservat  En sann naturpärla nära Södertälje tätort! I r...  ...     152461  POINT (17.67025 59.13849)\n",
      "1       Slessbergets naturreservat  I Slessberget har naturen fått sköta sig själv...  ...     152720  POINT (17.65307 58.96655)\n",
      "2    Moraåns dalgång naturreservat  Här vandrar havsöringen uppströms för att lägg...  ...  555551342  POINT (17.57012 59.08243)\n",
      "3              Kålsö naturreservat  Kålsö är en halvö med betade strandängar, hagm...  ...     152090  POINT (17.64928 58.95038)\n",
      "4   Parkudden-Lövsta naturreservat  Har hittar du en klassisk herrgårdsmiljö med g...  ...     151348  POINT (17.39403 59.25086)\n",
      "\n",
      "[5 rows x 8 columns]\n",
      "                               Namn  ...                   geometry\n",
      "0   Öbacken-Bränninge naturreservat  ...  POINT (17.67025 59.13849)\n",
      "1        Slessbergets naturreservat  ...  POINT (17.65307 58.96655)\n",
      "2     Moraåns dalgång naturreservat  ...  POINT (17.57012 59.08243)\n",
      "3               Kålsö naturreservat  ...  POINT (17.64928 58.95038)\n",
      "4    Parkudden-Lövsta naturreservat  ...  POINT (17.39403 59.25086)\n",
      "5          Yttereneby naturreservat  ...  POINT (17.62515 59.04709)\n",
      "6        Talbyskogens naturreservat  ...  POINT (17.60923 59.23221)\n",
      "7        Grottbergets naturreservat  ...  POINT (17.45605 58.99408)\n",
      "8            Bårsjöns naturreservat  ...  POINT (17.51176 59.23202)\n",
      "9         Korpbergets naturreservat  ...  POINT (17.61724 59.25156)\n",
      "10           Bornsjön naturreservat  ...  POINT (17.67783 59.21672)\n",
      "11     Vackstaskogens naturreservat  ...  POINT (17.48760 59.15285)\n",
      "12       Tullgarns naturvårdsområde  ...  POINT (17.56623 58.97558)\n",
      "13      Stora Alsjöns naturreservat  ...  POINT (17.41483 59.09041)\n",
      "14          Farstanäs naturreservat  ...  POINT (17.65334 59.09417)\n",
      "15             Fifång naturreservat  ...  POINT (17.70780 58.85065)\n",
      "16    Vattgruvmossens naturreservat  ...  POINT (17.45058 59.08516)\n",
      "17          Tullgarns naturreservat  ...  POINT (17.60524 58.95989)\n",
      "18             Eriksö naturreservat  ...  POINT (17.64656 58.93059)\n",
      "19               Lina naturreservat  ...  POINT (17.58050 59.22729)\n",
      "20   Stora Envätterns naturreservat  ...  POINT (17.34427 59.11353)\n",
      "21         Skogstorps naturreservat  ...  POINT (17.35951 59.05930)\n",
      "22        Kalkbergets naturreservat  ...  POINT (17.70260 59.00324)\n",
      "23       Brandalsunds naturreservat  ...  POINT (17.68048 59.10385)\n",
      "\n",
      "[24 rows x 8 columns]\n"
     ]
    }
   ],
   "source": [
    "import geopandas as gpd\n",
    "naturreservat = gpd.read_file('https://gist.githubusercontent.com/salgo60/31fd8d6fb4accfb7b4824ecf70986fae/raw/47901403ecd09d3da4bfc83ed2ce47b3372fa378/S%25C3%25B6dert%25C3%25A4ljeKommunNaturreservat.json')\n",
    "print(naturreservat.head()) \n",
    "print(naturreservat) \n"
   ]
  },
  {
   "cell_type": "code",
   "execution_count": 7,
   "metadata": {},
   "outputs": [
    {
     "name": "stdout",
     "output_type": "stream",
     "text": [
      "User Guide: https://docs.kepler.gl/docs/keplergl-jupyter\n"
     ]
    }
   ],
   "source": [
    "from keplergl import KeplerGl\n",
    "map1=KeplerGl(height=800)"
   ]
  },
  {
   "cell_type": "code",
   "execution_count": 14,
   "metadata": {},
   "outputs": [],
   "source": [
    "map1.add_data(data=naturreservat,name='Naturreservat') "
   ]
  },
  {
   "cell_type": "code",
   "execution_count": 15,
   "metadata": {},
   "outputs": [],
   "source": [
    "%run sthlm_config.py # config of map"
   ]
  },
  {
   "cell_type": "code",
   "execution_count": 16,
   "metadata": {
    "scrolled": true
   },
   "outputs": [
    {
     "data": {
      "application/vnd.jupyter.widget-view+json": {
       "model_id": "d8d4d7af98324ab08f0803ddef8850e3",
       "version_major": 2,
       "version_minor": 0
      },
      "text/plain": [
       "KeplerGl(config={'version': 'v1', 'config': {'visState': {'filters': [], 'layers': [{'id': 'n3329cj', 'type': …"
      ]
     },
     "metadata": {},
     "output_type": "display_data"
    }
   ],
   "source": [
    "map1"
   ]
  },
  {
   "cell_type": "code",
   "execution_count": 13,
   "metadata": {},
   "outputs": [],
   "source": [
    "with open('sodertalje_config.py', 'w') as f:\n",
    "   f.write('config = {}'.format(map1.config))"
   ]
  },
  {
   "cell_type": "code",
   "execution_count": null,
   "metadata": {},
   "outputs": [],
   "source": []
  }
 ],
 "metadata": {
  "kernelspec": {
   "display_name": "Python 3",
   "language": "python",
   "name": "python3"
  },
  "language_info": {
   "codemirror_mode": {
    "name": "ipython",
    "version": 3
   },
   "file_extension": ".py",
   "mimetype": "text/x-python",
   "name": "python",
   "nbconvert_exporter": "python",
   "pygments_lexer": "ipython3",
   "version": "3.8.0"
  }
 },
 "nbformat": 4,
 "nbformat_minor": 4
}
