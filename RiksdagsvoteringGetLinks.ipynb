{
 "cells": [
  {
   "cell_type": "markdown",
   "id": "103b357a",
   "metadata": {},
   "source": [
    "### Get Links from a page on svWikipedia and check if the link is to a Swedish MP person   \n",
    "\n",
    "  \n",
    "* This [notebook](https://github.com/salgo60/open-data-examples/blob/master/RiksdagsvoteringGetLinks.ipynb)\n",
    "  * Wikipedia [discussion related to this exercise](https://sv.wikipedia.org/wiki/Diskussion:Regeringen_Andersson#en_Wikipedia_har_med_vilka_som_r%C3%B6star_p%C3%A5_vad_borde_finnas_i_sv:Wikipedia)\n",
    "  * API documentation [query](https://www.mediawiki.org/w/api.php?action=help&modules=query%2Blinks)\n",
    "\n",
    "version 1 \n",
    "* known limits\n",
    "  * just get 500 links\n",
    "* if more links to the same page is in the article it looks like we just get one item\n",
    "  * as we have two votes --> \n",
    "     * we get 117 + 174+57 = 348 from the [first vote](https://www.riksdagen.se/globalassets/01.-aktuellt/202021/srv5-10-mpc21112410220.pdf)\n",
    "     * [second vote](https://www.riksdagen.se/sv/aktuellt/2021/nov/29/magdalena-andersson-godkandes-som-statsminister/) --> 101+173+75 = 349\n",
    "  * links in article to MPs will be unique members in vote one and two below we have **340** --> **I guess its wrong** in this code or in the page\n",
    "\n",
    "\n",
    "TODO\n",
    "* [ ] ~~get the voting data as data from [Riksdagens Öppna data](https://data.riksdagen.se/) and check that we have done our home work correct reading scanned [PDF](https://www.riksdagen.se/globalassets/01.-aktuellt/202021/srv5-10-mpc21112410220.pdf)~~ **lesson leraned not possible**\n",
    "* [ ] maybe generate the Wiki syntax direct from the voting data, could maybe be used for other voting in Riksdagen that has a Wikipedia article....\n",
    "* [ ] redirects\n"
   ]
  },
  {
   "cell_type": "code",
   "execution_count": 1,
   "id": "b0298836",
   "metadata": {},
   "outputs": [
    {
     "name": "stdout",
     "output_type": "stream",
     "text": [
      "Last run:  2021-12-03 16:06:13.555725\n"
     ]
    }
   ],
   "source": [
    "from datetime import datetime\n",
    "start_time  = datetime.now()\n",
    "print(\"Last run: \", start_time)"
   ]
  },
  {
   "cell_type": "code",
   "execution_count": 12,
   "id": "5fd2d12f",
   "metadata": {},
   "outputs": [],
   "source": [
    "svWikipediaAPIurl = \"https://sv.wikipedia.org/w/api.php?action=query&format=json&prop=links&meta=&pllimit=500&titles=\" \n",
    "pagetoCheck = \"Användare:Salgo60/sandlåda\"\n",
    "pagetoCheck = \"Statsministeromröstningen_i_Sverige_24_november_2021\""
   ]
  },
  {
   "cell_type": "code",
   "execution_count": 13,
   "id": "47120cd6",
   "metadata": {},
   "outputs": [],
   "source": [
    "from IPython.core.display import display, HTML\n",
    "urlcheck = svWikipediaAPIurl + pagetoCheck\n",
    "urlArticle = \"https://sv.wikipedia.org/wiki/\" + pagetoCheck\n"
   ]
  },
  {
   "cell_type": "code",
   "execution_count": 14,
   "id": "3cee5ff6",
   "metadata": {},
   "outputs": [
    {
     "data": {
      "text/html": [
       "URL sida <a href=https://sv.wikipedia.org/wiki/Statsministeromröstningen_i_Sverige_24_november_2021>Statsministeromröstningen_i_Sverige_24_november_2021</a><br>* API url <a href=https://sv.wikipedia.org/w/api.php?action=query&format=json&prop=links&meta=&pllimit=500&titles=Statsministeromröstningen_i_Sverige_24_november_2021>https://sv.wikipedia.org/w/api.php?action=query&format=json&prop=links&meta=&pllimit=500&titles=Statsministeromröstningen_i_Sverige_24_november_2021</a>"
      ],
      "text/plain": [
       "<IPython.core.display.HTML object>"
      ]
     },
     "metadata": {},
     "output_type": "display_data"
    }
   ],
   "source": [
    "display(HTML(\"URL sida <a href=\" + urlArticle + \">\" + pagetoCheck +  \"</a><br>* API url <a href=\" + urlcheck +\">\" + urlcheck + \"</a>\"))"
   ]
  },
  {
   "cell_type": "code",
   "execution_count": 15,
   "id": "1ef871a8",
   "metadata": {},
   "outputs": [],
   "source": [
    "import urllib3, json\n",
    "import pandas as pd \n",
    "http = urllib3.PoolManager() \n",
    "from wikidata.client import Client\n"
   ]
  },
  {
   "cell_type": "code",
   "execution_count": 21,
   "id": "1ee7e02d",
   "metadata": {},
   "outputs": [],
   "source": [
    "def getWD (url):\n",
    "    print(url)\n",
    "    baseUrl = \"https://sv.wikipedia.org/w/api.php?action=query&prop=pageprops|wbentityusage&titles=\"\n",
    "    title = url.replace(\"https://sv.wikipedia.org/wiki/\",\"\")\n",
    "    urlWD = baseUrl + title\n",
    "    wdr = http.request('Get', urlWD + \"&format=json\",\n",
    "                 headers={'Content-Type': 'application/json'})\n",
    "\n",
    "    if wdr.status != 200:\n",
    "        print(\"Error \", wdr.status)\n",
    "        return False\n",
    "    \n",
    "    datawd = json.loads(wdr.data.decode('utf-8'),) \n",
    "    pg_dict = datawd['query']['pages']\n",
    "    pg_key = list(pg_dict.keys())[0]\n",
    "    wikidata_id = pg_dict[pg_key]['pageprops']['wikibase_item']\n",
    "    return wikidata_id\n",
    "\n",
    "\n",
    "def getRiks(wikidata_id):\n",
    "    # get SPA \n",
    "    client = Client()\n",
    "    entity = client.get(wikidata_id, load=True)\n",
    "    try:\n",
    "        riks_prop = entity[client.get('P8388')]\n",
    "    except:\n",
    "        return False\n",
    "    return riks_prop"
   ]
  },
  {
   "cell_type": "code",
   "execution_count": 22,
   "id": "f68ce38e",
   "metadata": {},
   "outputs": [],
   "source": [
    "r = http.request('GET', urlcheck,\n",
    "            headers={'Content-Type': 'application/json'})\n",
    "#print(\"http status \", r.status)\n",
    "if r.status != 200:\n",
    "    print(\"Error \",r.status)\n",
    "    \n",
    "data = json.loads(r.data.decode('utf-8'),)         "
   ]
  },
  {
   "cell_type": "code",
   "execution_count": 23,
   "id": "ed81a390",
   "metadata": {},
   "outputs": [],
   "source": [
    "#data"
   ]
  },
  {
   "cell_type": "code",
   "execution_count": 24,
   "id": "f5eea0fa",
   "metadata": {},
   "outputs": [
    {
     "name": "stdout",
     "output_type": "stream",
     "text": [
      "Antal länkar: \t 464\n"
     ]
    }
   ],
   "source": [
    "page = data[\"query\"][\"pages\"]\n",
    "print(\"Antal länkar: \\t\",len(page[list(page.keys())[0]][\"links\"]))"
   ]
  },
  {
   "cell_type": "code",
   "execution_count": 25,
   "id": "d8a54471",
   "metadata": {
    "scrolled": false
   },
   "outputs": [
    {
     "data": {
      "application/vnd.jupyter.widget-view+json": {
       "model_id": "80b819b964984c86b08781ae228a35a8",
       "version_major": 2,
       "version_minor": 0
      },
      "text/plain": [
       "  0%|          | 0/464 [00:00<?, ?it/s]"
      ]
     },
     "metadata": {},
     "output_type": "display_data"
    },
    {
     "name": "stdout",
     "output_type": "stream",
     "text": [
      "26 november\n",
      "\t saknar Riksdagens GUID i Wikidata: \t26 november\n",
      "A-lotterierna\n",
      "\t saknar Riksdagens GUID i Wikidata: \tA-lotterierna\n",
      "Abraham Halef\n"
     ]
    },
    {
     "data": {
      "text/html": [
       "1: <a href=http://sv.wikipedia.org/wiki/Abraham%20Halef>Abraham Halef</a> - <a href=http://www.wikidata.org/wiki/Q97971343%23P39>Q97971343</a>  - <a href=http://www.riksdagen.se/sv/ledamoter-partier/ledamot/_4f8c750f-e0e5-4011-bfda-31a41f4b5996>Riksdagen</a> <a href=http://data.riksdagen.se/personlista/?utformat=json&iid=4f8c750f-e0e5-4011-bfda-31a41f4b5996>json</a>"
      ],
      "text/plain": [
       "<IPython.core.display.HTML object>"
      ]
     },
     "metadata": {},
     "output_type": "display_data"
    },
    {
     "name": "stdout",
     "output_type": "stream",
     "text": [
      "Acko Ankarberg Johansson\n"
     ]
    },
    {
     "data": {
      "text/html": [
       "2: <a href=http://sv.wikipedia.org/wiki/Acko%20Ankarberg%20Johansson>Acko Ankarberg Johansson</a> - <a href=http://www.wikidata.org/wiki/Q4936116%23P39>Q4936116</a>  - <a href=http://www.riksdagen.se/sv/ledamoter-partier/ledamot/_669a8123-3f21-4920-80f8-e4ec200ae575>Riksdagen</a> <a href=http://data.riksdagen.se/personlista/?utformat=json&iid=669a8123-3f21-4920-80f8-e4ec200ae575>json</a>"
      ],
      "text/plain": [
       "<IPython.core.display.HTML object>"
      ]
     },
     "metadata": {},
     "output_type": "display_data"
    },
    {
     "name": "stdout",
     "output_type": "stream",
     "text": [
      "Adam Marttinen\n"
     ]
    },
    {
     "data": {
      "text/html": [
       "3: <a href=http://sv.wikipedia.org/wiki/Adam%20Marttinen>Adam Marttinen</a> - <a href=http://www.wikidata.org/wiki/Q15963975%23P39>Q15963975</a>  - <a href=http://www.riksdagen.se/sv/ledamoter-partier/ledamot/_db2ca6ff-5620-4ece-8d31-97777f2efb48>Riksdagen</a> <a href=http://data.riksdagen.se/personlista/?utformat=json&iid=db2ca6ff-5620-4ece-8d31-97777f2efb48>json</a>"
      ],
      "text/plain": [
       "<IPython.core.display.HTML object>"
      ]
     },
     "metadata": {},
     "output_type": "display_data"
    },
    {
     "name": "stdout",
     "output_type": "stream",
     "text": [
      "Adnan Dibrani\n"
     ]
    },
    {
     "data": {
      "text/html": [
       "4: <a href=http://sv.wikipedia.org/wiki/Adnan%20Dibrani>Adnan Dibrani</a> - <a href=http://www.wikidata.org/wiki/Q5621490%23P39>Q5621490</a>  - <a href=http://www.riksdagen.se/sv/ledamoter-partier/ledamot/_2eb5b5ce-2e8c-4063-a2c2-d03b50ff4c5d>Riksdagen</a> <a href=http://data.riksdagen.se/personlista/?utformat=json&iid=2eb5b5ce-2e8c-4063-a2c2-d03b50ff4c5d>json</a>"
      ],
      "text/plain": [
       "<IPython.core.display.HTML object>"
      ]
     },
     "metadata": {},
     "output_type": "display_data"
    },
    {
     "name": "stdout",
     "output_type": "stream",
     "text": [
      "Alexander Christiansson\n"
     ]
    },
    {
     "data": {
      "text/html": [
       "5: <a href=http://sv.wikipedia.org/wiki/Alexander%20Christiansson>Alexander Christiansson</a> - <a href=http://www.wikidata.org/wiki/Q65499866%23P39>Q65499866</a>  - <a href=http://www.riksdagen.se/sv/ledamoter-partier/ledamot/_300c041c-1f7e-4daa-97e0-4d2ec8e6f4f5>Riksdagen</a> <a href=http://data.riksdagen.se/personlista/?utformat=json&iid=300c041c-1f7e-4daa-97e0-4d2ec8e6f4f5>json</a>"
      ],
      "text/plain": [
       "<IPython.core.display.HTML object>"
      ]
     },
     "metadata": {},
     "output_type": "display_data"
    },
    {
     "name": "stdout",
     "output_type": "stream",
     "text": [
      "Alexandra Anstrell\n"
     ]
    },
    {
     "data": {
      "text/html": [
       "6: <a href=http://sv.wikipedia.org/wiki/Alexandra%20Anstrell>Alexandra Anstrell</a> - <a href=http://www.wikidata.org/wiki/Q30035697%23P39>Q30035697</a>  - <a href=http://www.riksdagen.se/sv/ledamoter-partier/ledamot/_8310e472-996b-4c8a-bce5-4d09fb20a66a>Riksdagen</a> <a href=http://data.riksdagen.se/personlista/?utformat=json&iid=8310e472-996b-4c8a-bce5-4d09fb20a66a>json</a>"
      ],
      "text/plain": [
       "<IPython.core.display.HTML object>"
      ]
     },
     "metadata": {},
     "output_type": "display_data"
    },
    {
     "name": "stdout",
     "output_type": "stream",
     "text": [
      "Ali Esbati\n"
     ]
    },
    {
     "data": {
      "text/html": [
       "7: <a href=http://sv.wikipedia.org/wiki/Ali%20Esbati>Ali Esbati</a> - <a href=http://www.wikidata.org/wiki/Q4724776%23P39>Q4724776</a>  - <a href=http://www.riksdagen.se/sv/ledamoter-partier/ledamot/_979e9852-69ed-4077-8140-52ab99414a6c>Riksdagen</a> <a href=http://data.riksdagen.se/personlista/?utformat=json&iid=979e9852-69ed-4077-8140-52ab99414a6c>json</a>"
      ],
      "text/plain": [
       "<IPython.core.display.HTML object>"
      ]
     },
     "metadata": {},
     "output_type": "display_data"
    },
    {
     "name": "stdout",
     "output_type": "stream",
     "text": [
      "Alireza Akhondi\n"
     ]
    },
    {
     "data": {
      "text/html": [
       "8: <a href=http://sv.wikipedia.org/wiki/Alireza%20Akhondi>Alireza Akhondi</a> - <a href=http://www.wikidata.org/wiki/Q70621742%23P39>Q70621742</a>  - <a href=http://www.riksdagen.se/sv/ledamoter-partier/ledamot/_4099ff9c-5d27-4605-b018-98fb229d94fa>Riksdagen</a> <a href=http://data.riksdagen.se/personlista/?utformat=json&iid=4099ff9c-5d27-4605-b018-98fb229d94fa>json</a>"
      ],
      "text/plain": [
       "<IPython.core.display.HTML object>"
      ]
     },
     "metadata": {},
     "output_type": "display_data"
    },
    {
     "name": "stdout",
     "output_type": "stream",
     "text": [
      "Allan Widman\n"
     ]
    },
    {
     "data": {
      "text/html": [
       "9: <a href=http://sv.wikipedia.org/wiki/Allan%20Widman>Allan Widman</a> - <a href=http://www.wikidata.org/wiki/Q4731041%23P39>Q4731041</a>  - <a href=http://www.riksdagen.se/sv/ledamoter-partier/ledamot/_b58dac92-0bb0-4fe3-a052-9049b9a99959>Riksdagen</a> <a href=http://data.riksdagen.se/personlista/?utformat=json&iid=b58dac92-0bb0-4fe3-a052-9049b9a99959>json</a>"
      ],
      "text/plain": [
       "<IPython.core.display.HTML object>"
      ]
     },
     "metadata": {},
     "output_type": "display_data"
    },
    {
     "name": "stdout",
     "output_type": "stream",
     "text": [
      "Amanda Palmstierna\n"
     ]
    },
    {
     "data": {
      "text/html": [
       "10: <a href=http://sv.wikipedia.org/wiki/Amanda%20Palmstierna>Amanda Palmstierna</a> - <a href=http://www.wikidata.org/wiki/Q71137237%23P39>Q71137237</a>  - <a href=http://www.riksdagen.se/sv/ledamoter-partier/ledamot/_d12313ba-680b-4784-b858-5c9e6db692e7>Riksdagen</a> <a href=http://data.riksdagen.se/personlista/?utformat=json&iid=d12313ba-680b-4784-b858-5c9e6db692e7>json</a>"
      ],
      "text/plain": [
       "<IPython.core.display.HTML object>"
      ]
     },
     "metadata": {},
     "output_type": "display_data"
    },
    {
     "name": "stdout",
     "output_type": "stream",
     "text": [
      "Amineh Kakabaveh\n"
     ]
    },
    {
     "data": {
      "text/html": [
       "11: <a href=http://sv.wikipedia.org/wiki/Amineh%20Kakabaveh>Amineh Kakabaveh</a> - <a href=http://www.wikidata.org/wiki/Q3675519%23P39>Q3675519</a>  - <a href=http://www.riksdagen.se/sv/ledamoter-partier/ledamot/_8399ff3f-1fbe-4984-b59c-4ada1ec670ec>Riksdagen</a> <a href=http://data.riksdagen.se/personlista/?utformat=json&iid=8399ff3f-1fbe-4984-b59c-4ada1ec670ec>json</a>"
      ],
      "text/plain": [
       "<IPython.core.display.HTML object>"
      ]
     },
     "metadata": {},
     "output_type": "display_data"
    },
    {
     "name": "stdout",
     "output_type": "stream",
     "text": [
      "Anders Hansson (moderat)\n"
     ]
    },
    {
     "data": {
      "text/html": [
       "12: <a href=http://sv.wikipedia.org/wiki/Anders%20Hansson%20%28moderat%29>Anders Hansson (moderat)</a> - <a href=http://www.wikidata.org/wiki/Q4753804%23P39>Q4753804</a>  - <a href=http://www.riksdagen.se/sv/ledamoter-partier/ledamot/_fa84d5df-e8ef-43be-beff-a71453d18ebc>Riksdagen</a> <a href=http://data.riksdagen.se/personlista/?utformat=json&iid=fa84d5df-e8ef-43be-beff-a71453d18ebc>json</a>"
      ],
      "text/plain": [
       "<IPython.core.display.HTML object>"
      ]
     },
     "metadata": {},
     "output_type": "display_data"
    },
    {
     "name": "stdout",
     "output_type": "stream",
     "text": [
      "Anders Nilsson (1899–1985)\n",
      "\t saknar Riksdagens GUID i Wikidata: \tAnders Nilsson (1899–1985)\n",
      "Anders W. Jonsson\n"
     ]
    },
    {
     "data": {
      "text/html": [
       "13: <a href=http://sv.wikipedia.org/wiki/Anders%20W.%20Jonsson>Anders W. Jonsson</a> - <a href=http://www.wikidata.org/wiki/Q5891398%23P39>Q5891398</a>  - <a href=http://www.riksdagen.se/sv/ledamoter-partier/ledamot/_6ad91da1-1287-4e8f-9778-3315390fdfca>Riksdagen</a> <a href=http://data.riksdagen.se/personlista/?utformat=json&iid=6ad91da1-1287-4e8f-9778-3315390fdfca>json</a>"
      ],
      "text/plain": [
       "<IPython.core.display.HTML object>"
      ]
     },
     "metadata": {},
     "output_type": "display_data"
    },
    {
     "name": "stdout",
     "output_type": "stream",
     "text": [
      "Anders Ygeman\n"
     ]
    },
    {
     "data": {
      "text/html": [
       "14: <a href=http://sv.wikipedia.org/wiki/Anders%20Ygeman>Anders Ygeman</a> - <a href=http://www.wikidata.org/wiki/Q3375050%23P39>Q3375050</a>  - <a href=http://www.riksdagen.se/sv/ledamoter-partier/ledamot/_d7c3235d-83e4-11d4-ae60-0050040c9b55>Riksdagen</a> <a href=http://data.riksdagen.se/personlista/?utformat=json&iid=d7c3235d-83e4-11d4-ae60-0050040c9b55>json</a>"
      ],
      "text/plain": [
       "<IPython.core.display.HTML object>"
      ]
     },
     "metadata": {},
     "output_type": "display_data"
    },
    {
     "name": "stdout",
     "output_type": "stream",
     "text": [
      "Anders Åkesson (centerpartist)\n"
     ]
    },
    {
     "data": {
      "text/html": [
       "15: <a href=http://sv.wikipedia.org/wiki/Anders%20%C3%85kesson%20%28centerpartist%29>Anders Åkesson (centerpartist)</a> - <a href=http://www.wikidata.org/wiki/Q6255521%23P39>Q6255521</a>  - <a href=http://www.riksdagen.se/sv/ledamoter-partier/ledamot/_48144b97-5799-422d-9ede-8b2dd360ca19>Riksdagen</a> <a href=http://data.riksdagen.se/personlista/?utformat=json&iid=48144b97-5799-422d-9ede-8b2dd360ca19>json</a>"
      ],
      "text/plain": [
       "<IPython.core.display.HTML object>"
      ]
     },
     "metadata": {},
     "output_type": "display_data"
    },
    {
     "name": "stdout",
     "output_type": "stream",
     "text": [
      "Anders Österberg\n"
     ]
    },
    {
     "data": {
      "text/html": [
       "16: <a href=http://sv.wikipedia.org/wiki/Anders%20%C3%96sterberg>Anders Österberg</a> - <a href=http://www.wikidata.org/wiki/Q30035700%23P39>Q30035700</a>  - <a href=http://www.riksdagen.se/sv/ledamoter-partier/ledamot/_df3988c4-9541-465c-b02e-1410c3d31155>Riksdagen</a> <a href=http://data.riksdagen.se/personlista/?utformat=json&iid=df3988c4-9541-465c-b02e-1410c3d31155>json</a>"
      ],
      "text/plain": [
       "<IPython.core.display.HTML object>"
      ]
     },
     "metadata": {},
     "output_type": "display_data"
    },
    {
     "name": "stdout",
     "output_type": "stream",
     "text": [
      "Andreas Carlson\n"
     ]
    },
    {
     "data": {
      "text/html": [
       "17: <a href=http://sv.wikipedia.org/wiki/Andreas%20Carlson>Andreas Carlson</a> - <a href=http://www.wikidata.org/wiki/Q5602835%23P39>Q5602835</a>  - <a href=http://www.riksdagen.se/sv/ledamoter-partier/ledamot/_7f431f89-8b2f-4499-8997-f55f1b57d8ab>Riksdagen</a> <a href=http://data.riksdagen.se/personlista/?utformat=json&iid=7f431f89-8b2f-4499-8997-f55f1b57d8ab>json</a>"
      ],
      "text/plain": [
       "<IPython.core.display.HTML object>"
      ]
     },
     "metadata": {},
     "output_type": "display_data"
    },
    {
     "name": "stdout",
     "output_type": "stream",
     "text": [
      "Angelica Lundberg\n"
     ]
    },
    {
     "data": {
      "text/html": [
       "18: <a href=http://sv.wikipedia.org/wiki/Angelica%20Lundberg>Angelica Lundberg</a> - <a href=http://www.wikidata.org/wiki/Q71062310%23P39>Q71062310</a>  - <a href=http://www.riksdagen.se/sv/ledamoter-partier/ledamot/_a7ca5ca6-2e77-4360-8369-0671993019c4>Riksdagen</a> <a href=http://data.riksdagen.se/personlista/?utformat=json&iid=a7ca5ca6-2e77-4360-8369-0671993019c4>json</a>"
      ],
      "text/plain": [
       "<IPython.core.display.HTML object>"
      ]
     },
     "metadata": {},
     "output_type": "display_data"
    },
    {
     "name": "stdout",
     "output_type": "stream",
     "text": [
      "Angelika Bengtsson\n"
     ]
    },
    {
     "data": {
      "text/html": [
       "19: <a href=http://sv.wikipedia.org/wiki/Angelika%20Bengtsson>Angelika Bengtsson</a> - <a href=http://www.wikidata.org/wiki/Q18237639%23P39>Q18237639</a>  - <a href=http://www.riksdagen.se/sv/ledamoter-partier/ledamot/_9d68c0c3-2102-402d-998f-dc56a410d19d>Riksdagen</a> <a href=http://data.riksdagen.se/personlista/?utformat=json&iid=9d68c0c3-2102-402d-998f-dc56a410d19d>json</a>"
      ],
      "text/plain": [
       "<IPython.core.display.HTML object>"
      ]
     },
     "metadata": {},
     "output_type": "display_data"
    },
    {
     "name": "stdout",
     "output_type": "stream",
     "text": [
      "Ann-Britt Åsebol\n"
     ]
    },
    {
     "data": {
      "text/html": [
       "20: <a href=http://sv.wikipedia.org/wiki/Ann-Britt%20%C3%85sebol>Ann-Britt Åsebol</a> - <a href=http://www.wikidata.org/wiki/Q4991079%23P39>Q4991079</a>  - <a href=http://www.riksdagen.se/sv/ledamoter-partier/ledamot/_71b2ece2-dcf7-4e51-aa4c-042cca81cf1e>Riksdagen</a> <a href=http://data.riksdagen.se/personlista/?utformat=json&iid=71b2ece2-dcf7-4e51-aa4c-042cca81cf1e>json</a>"
      ],
      "text/plain": [
       "<IPython.core.display.HTML object>"
      ]
     },
     "metadata": {},
     "output_type": "display_data"
    },
    {
     "name": "stdout",
     "output_type": "stream",
     "text": [
      "Ann-Charlotte Hammar Johnsson\n"
     ]
    },
    {
     "data": {
      "text/html": [
       "21: <a href=http://sv.wikipedia.org/wiki/Ann-Charlotte%20Hammar%20Johnsson>Ann-Charlotte Hammar Johnsson</a> - <a href=http://www.wikidata.org/wiki/Q4766168%23P39>Q4766168</a>  - <a href=http://www.riksdagen.se/sv/ledamoter-partier/ledamot/_5ac51ad6-c8ea-4ce6-bcd5-b8609d6c058a>Riksdagen</a> <a href=http://data.riksdagen.se/personlista/?utformat=json&iid=5ac51ad6-c8ea-4ce6-bcd5-b8609d6c058a>json</a>"
      ],
      "text/plain": [
       "<IPython.core.display.HTML object>"
      ]
     },
     "metadata": {},
     "output_type": "display_data"
    },
    {
     "name": "stdout",
     "output_type": "stream",
     "text": [
      "Ann-Christin Ahlberg\n"
     ]
    },
    {
     "data": {
      "text/html": [
       "22: <a href=http://sv.wikipedia.org/wiki/Ann-Christin%20Ahlberg>Ann-Christin Ahlberg</a> - <a href=http://www.wikidata.org/wiki/Q3375059%23P39>Q3375059</a>  - <a href=http://www.riksdagen.se/sv/ledamoter-partier/ledamot/_8583281e-3621-49fd-a131-661a0f432452>Riksdagen</a> <a href=http://data.riksdagen.se/personlista/?utformat=json&iid=8583281e-3621-49fd-a131-661a0f432452>json</a>"
      ],
      "text/plain": [
       "<IPython.core.display.HTML object>"
      ]
     },
     "metadata": {},
     "output_type": "display_data"
    },
    {
     "name": "stdout",
     "output_type": "stream",
     "text": [
      "Ann-Christine From Utterstedt\n"
     ]
    },
    {
     "data": {
      "text/html": [
       "23: <a href=http://sv.wikipedia.org/wiki/Ann-Christine%20From%20Utterstedt>Ann-Christine From Utterstedt</a> - <a href=http://www.wikidata.org/wiki/Q71133291%23P39>Q71133291</a>  - <a href=http://www.riksdagen.se/sv/ledamoter-partier/ledamot/_3298ed49-917f-4230-8cf5-e10a70a93727>Riksdagen</a> <a href=http://data.riksdagen.se/personlista/?utformat=json&iid=3298ed49-917f-4230-8cf5-e10a70a93727>json</a>"
      ],
      "text/plain": [
       "<IPython.core.display.HTML object>"
      ]
     },
     "metadata": {},
     "output_type": "display_data"
    },
    {
     "name": "stdout",
     "output_type": "stream",
     "text": [
      "Ann-Sofie Alm\n"
     ]
    },
    {
     "data": {
      "text/html": [
       "24: <a href=http://sv.wikipedia.org/wiki/Ann-Sofie%20Alm>Ann-Sofie Alm</a> - <a href=http://www.wikidata.org/wiki/Q59269310%23P39>Q59269310</a>  - <a href=http://www.riksdagen.se/sv/ledamoter-partier/ledamot/_f91f6a86-591c-449c-b3dd-1fdaa86338cd>Riksdagen</a> <a href=http://data.riksdagen.se/personlista/?utformat=json&iid=f91f6a86-591c-449c-b3dd-1fdaa86338cd>json</a>"
      ],
      "text/plain": [
       "<IPython.core.display.HTML object>"
      ]
     },
     "metadata": {},
     "output_type": "display_data"
    },
    {
     "name": "stdout",
     "output_type": "stream",
     "text": [
      "Ann-Sofie Lifvenhage\n"
     ]
    },
    {
     "data": {
      "text/html": [
       "25: <a href=http://sv.wikipedia.org/wiki/Ann-Sofie%20Lifvenhage>Ann-Sofie Lifvenhage</a> - <a href=http://www.wikidata.org/wiki/Q71131299%23P39>Q71131299</a>  - <a href=http://www.riksdagen.se/sv/ledamoter-partier/ledamot/_16c58b85-7b9a-4f36-9160-3a40680f433c>Riksdagen</a> <a href=http://data.riksdagen.se/personlista/?utformat=json&iid=16c58b85-7b9a-4f36-9160-3a40680f433c>json</a>"
      ],
      "text/plain": [
       "<IPython.core.display.HTML object>"
      ]
     },
     "metadata": {},
     "output_type": "display_data"
    },
    {
     "name": "stdout",
     "output_type": "stream",
     "text": [
      "Anna-Belle Strömberg\n"
     ]
    },
    {
     "data": {
      "text/html": [
       "26: <a href=http://sv.wikipedia.org/wiki/Anna-Belle%20Str%C3%B6mberg>Anna-Belle Strömberg</a> - <a href=http://www.wikidata.org/wiki/Q108525972%23P39>Q108525972</a>  - <a href=http://www.riksdagen.se/sv/ledamoter-partier/ledamot/_0a614b1d-8d24-4794-838d-8fbed7b503c5>Riksdagen</a> <a href=http://data.riksdagen.se/personlista/?utformat=json&iid=0a614b1d-8d24-4794-838d-8fbed7b503c5>json</a>"
      ],
      "text/plain": [
       "<IPython.core.display.HTML object>"
      ]
     },
     "metadata": {},
     "output_type": "display_data"
    },
    {
     "name": "stdout",
     "output_type": "stream",
     "text": [
      "Anna-Caren Sätherberg\n"
     ]
    },
    {
     "data": {
      "text/html": [
       "27: <a href=http://sv.wikipedia.org/wiki/Anna-Caren%20S%C3%A4therberg>Anna-Caren Sätherberg</a> - <a href=http://www.wikidata.org/wiki/Q18202413%23P39>Q18202413</a>  - <a href=http://www.riksdagen.se/sv/ledamoter-partier/ledamot/_c2917e84-a1f8-4de8-9c71-a492eee1f43f>Riksdagen</a> <a href=http://data.riksdagen.se/personlista/?utformat=json&iid=c2917e84-a1f8-4de8-9c71-a492eee1f43f>json</a>"
      ],
      "text/plain": [
       "<IPython.core.display.HTML object>"
      ]
     },
     "metadata": {},
     "output_type": "display_data"
    },
    {
     "name": "stdout",
     "output_type": "stream",
     "text": [
      "Anna Johansson (socialdemokrat)\n"
     ]
    },
    {
     "data": {
      "text/html": [
       "28: <a href=http://sv.wikipedia.org/wiki/Anna%20Johansson%20%28socialdemokrat%29>Anna Johansson (socialdemokrat)</a> - <a href=http://www.wikidata.org/wiki/Q4956893%23P39>Q4956893</a>  - <a href=http://www.riksdagen.se/sv/ledamoter-partier/ledamot/_9fd034bc-17ce-471b-b78c-94e03b34f7a0>Riksdagen</a> <a href=http://data.riksdagen.se/personlista/?utformat=json&iid=9fd034bc-17ce-471b-b78c-94e03b34f7a0>json</a>"
      ],
      "text/plain": [
       "<IPython.core.display.HTML object>"
      ]
     },
     "metadata": {},
     "output_type": "display_data"
    },
    {
     "name": "stdout",
     "output_type": "stream",
     "text": [
      "Anna Sibinska\n"
     ]
    },
    {
     "data": {
      "text/html": [
       "29: <a href=http://sv.wikipedia.org/wiki/Anna%20Sibinska>Anna Sibinska</a> - <a href=http://www.wikidata.org/wiki/Q57168710%23P39>Q57168710</a>  - <a href=http://www.riksdagen.se/sv/ledamoter-partier/ledamot/_214d9393-c01e-497c-8580-d033b9f57705>Riksdagen</a> <a href=http://data.riksdagen.se/personlista/?utformat=json&iid=214d9393-c01e-497c-8580-d033b9f57705>json</a>"
      ],
      "text/plain": [
       "<IPython.core.display.HTML object>"
      ]
     },
     "metadata": {},
     "output_type": "display_data"
    },
    {
     "name": "stdout",
     "output_type": "stream",
     "text": [
      "Anna Vikström (politiker)\n"
     ]
    },
    {
     "data": {
      "text/html": [
       "30: <a href=http://sv.wikipedia.org/wiki/Anna%20Vikstr%C3%B6m%20%28politiker%29>Anna Vikström (politiker)</a> - <a href=http://www.wikidata.org/wiki/Q27107494%23P39>Q27107494</a>  - <a href=http://www.riksdagen.se/sv/ledamoter-partier/ledamot/_fb0337ec-a1b0-440e-b9b4-a48e99fd415c>Riksdagen</a> <a href=http://data.riksdagen.se/personlista/?utformat=json&iid=fb0337ec-a1b0-440e-b9b4-a48e99fd415c>json</a>"
      ],
      "text/plain": [
       "<IPython.core.display.HTML object>"
      ]
     },
     "metadata": {},
     "output_type": "display_data"
    },
    {
     "name": "stdout",
     "output_type": "stream",
     "text": [
      "Anna Wallentheim\n"
     ]
    },
    {
     "data": {
      "text/html": [
       "31: <a href=http://sv.wikipedia.org/wiki/Anna%20Wallentheim>Anna Wallentheim</a> - <a href=http://www.wikidata.org/wiki/Q18202414%23P39>Q18202414</a>  - <a href=http://www.riksdagen.se/sv/ledamoter-partier/ledamot/_200035cd-228a-4afa-8849-844f2c1e35fb>Riksdagen</a> <a href=http://data.riksdagen.se/personlista/?utformat=json&iid=200035cd-228a-4afa-8849-844f2c1e35fb>json</a>"
      ],
      "text/plain": [
       "<IPython.core.display.HTML object>"
      ]
     },
     "metadata": {},
     "output_type": "display_data"
    },
    {
     "name": "stdout",
     "output_type": "stream",
     "text": [
      "Anne-Li Sjölund\n"
     ]
    },
    {
     "data": {
      "text/html": [
       "32: <a href=http://sv.wikipedia.org/wiki/Anne-Li%20Sj%C3%B6lund>Anne-Li Sjölund</a> - <a href=http://www.wikidata.org/wiki/Q99541757%23P39>Q99541757</a>  - <a href=http://www.riksdagen.se/sv/ledamoter-partier/ledamot/_4777adeb-0a0f-4154-ace9-0c5f149f228b>Riksdagen</a> <a href=http://data.riksdagen.se/personlista/?utformat=json&iid=4777adeb-0a0f-4154-ace9-0c5f149f228b>json</a>"
      ],
      "text/plain": [
       "<IPython.core.display.HTML object>"
      ]
     },
     "metadata": {},
     "output_type": "display_data"
    },
    {
     "name": "stdout",
     "output_type": "stream",
     "text": [
      "Anne Oskarsson\n"
     ]
    },
    {
     "data": {
      "text/html": [
       "33: <a href=http://sv.wikipedia.org/wiki/Anne%20Oskarsson>Anne Oskarsson</a> - <a href=http://www.wikidata.org/wiki/Q71063276%23P39>Q71063276</a>  - <a href=http://www.riksdagen.se/sv/ledamoter-partier/ledamot/_314fe869-7e6c-441f-8d1f-5ab2c6052f1d>Riksdagen</a> <a href=http://data.riksdagen.se/personlista/?utformat=json&iid=314fe869-7e6c-441f-8d1f-5ab2c6052f1d>json</a>"
      ],
      "text/plain": [
       "<IPython.core.display.HTML object>"
      ]
     },
     "metadata": {},
     "output_type": "display_data"
    },
    {
     "name": "stdout",
     "output_type": "stream",
     "text": [
      "Annelie Karlsson\n"
     ]
    },
    {
     "data": {
      "text/html": [
       "34: <a href=http://sv.wikipedia.org/wiki/Annelie%20Karlsson>Annelie Karlsson</a> - <a href=http://www.wikidata.org/wiki/Q4958102%23P39>Q4958102</a>  - <a href=http://www.riksdagen.se/sv/ledamoter-partier/ledamot/_cbadd933-3375-4216-92fd-3d64a56b5a13>Riksdagen</a> <a href=http://data.riksdagen.se/personlista/?utformat=json&iid=cbadd933-3375-4216-92fd-3d64a56b5a13>json</a>"
      ],
      "text/plain": [
       "<IPython.core.display.HTML object>"
      ]
     },
     "metadata": {},
     "output_type": "display_data"
    },
    {
     "name": "stdout",
     "output_type": "stream",
     "text": [
      "Annicka Engblom\n"
     ]
    },
    {
     "data": {
      "text/html": [
       "35: <a href=http://sv.wikipedia.org/wiki/Annicka%20Engblom>Annicka Engblom</a> - <a href=http://www.wikidata.org/wiki/Q4769201%23P39>Q4769201</a>  - <a href=http://www.riksdagen.se/sv/ledamoter-partier/ledamot/_23c1d1cc-f2a2-47f1-b144-0d52a464791a>Riksdagen</a> <a href=http://data.riksdagen.se/personlista/?utformat=json&iid=23c1d1cc-f2a2-47f1-b144-0d52a464791a>json</a>"
      ],
      "text/plain": [
       "<IPython.core.display.HTML object>"
      ]
     },
     "metadata": {},
     "output_type": "display_data"
    },
    {
     "name": "stdout",
     "output_type": "stream",
     "text": [
      "Annie Lööf\n"
     ]
    },
    {
     "data": {
      "text/html": [
       "36: <a href=http://sv.wikipedia.org/wiki/Annie%20L%C3%B6%C3%B6f>Annie Lööf</a> - <a href=http://www.wikidata.org/wiki/Q439393%23P39>Q439393</a>  - <a href=http://www.riksdagen.se/sv/ledamoter-partier/ledamot/_e234524d-e04b-448a-b609-05926a0a8b36>Riksdagen</a> <a href=http://data.riksdagen.se/personlista/?utformat=json&iid=e234524d-e04b-448a-b609-05926a0a8b36>json</a>"
      ],
      "text/plain": [
       "<IPython.core.display.HTML object>"
      ]
     },
     "metadata": {},
     "output_type": "display_data"
    },
    {
     "name": "stdout",
     "output_type": "stream",
     "text": [
      "Annika Hirvonen\n"
     ]
    },
    {
     "data": {
      "text/html": [
       "37: <a href=http://sv.wikipedia.org/wiki/Annika%20Hirvonen>Annika Hirvonen</a> - <a href=http://www.wikidata.org/wiki/Q18242588%23P39>Q18242588</a>  - <a href=http://www.riksdagen.se/sv/ledamoter-partier/ledamot/_a9346ffe-2c1f-4e2b-b686-d8248a3d0db2>Riksdagen</a> <a href=http://data.riksdagen.se/personlista/?utformat=json&iid=a9346ffe-2c1f-4e2b-b686-d8248a3d0db2>json</a>"
      ],
      "text/plain": [
       "<IPython.core.display.HTML object>"
      ]
     },
     "metadata": {},
     "output_type": "display_data"
    },
    {
     "name": "stdout",
     "output_type": "stream",
     "text": [
      "Annika Qarlsson\n"
     ]
    },
    {
     "data": {
      "text/html": [
       "38: <a href=http://sv.wikipedia.org/wiki/Annika%20Qarlsson>Annika Qarlsson</a> - <a href=http://www.wikidata.org/wiki/Q4769498%23P39>Q4769498</a>  - <a href=http://www.riksdagen.se/sv/ledamoter-partier/ledamot/_238444e1-ea5f-4acc-b9d1-b7789658b931>Riksdagen</a> <a href=http://data.riksdagen.se/personlista/?utformat=json&iid=238444e1-ea5f-4acc-b9d1-b7789658b931>json</a>"
      ],
      "text/plain": [
       "<IPython.core.display.HTML object>"
      ]
     },
     "metadata": {},
     "output_type": "display_data"
    },
    {
     "name": "stdout",
     "output_type": "stream",
     "text": [
      "Annika Strandhäll\n"
     ]
    },
    {
     "data": {
      "text/html": [
       "39: <a href=http://sv.wikipedia.org/wiki/Annika%20Strandh%C3%A4ll>Annika Strandhäll</a> - <a href=http://www.wikidata.org/wiki/Q4980750%23P39>Q4980750</a>  - <a href=http://www.riksdagen.se/sv/ledamoter-partier/ledamot/_83b5647b-ccf4-4398-aefb-6d93152f951b>Riksdagen</a> <a href=http://data.riksdagen.se/personlista/?utformat=json&iid=83b5647b-ccf4-4398-aefb-6d93152f951b>json</a>"
      ],
      "text/plain": [
       "<IPython.core.display.HTML object>"
      ]
     },
     "metadata": {},
     "output_type": "display_data"
    },
    {
     "name": "stdout",
     "output_type": "stream",
     "text": [
      "Aphram Melki\n"
     ]
    },
    {
     "data": {
      "text/html": [
       "40: <a href=http://sv.wikipedia.org/wiki/Aphram%20Melki>Aphram Melki</a> - <a href=http://www.wikidata.org/wiki/Q108765984%23P39>Q108765984</a>  - <a href=http://www.riksdagen.se/sv/ledamoter-partier/ledamot/_474786eb-b958-46d1-9966-cc545749d362>Riksdagen</a> <a href=http://data.riksdagen.se/personlista/?utformat=json&iid=474786eb-b958-46d1-9966-cc545749d362>json</a>"
      ],
      "text/plain": [
       "<IPython.core.display.HTML object>"
      ]
     },
     "metadata": {},
     "output_type": "display_data"
    },
    {
     "name": "stdout",
     "output_type": "stream",
     "text": [
      "Arbetarnas bildningsförbund (Sverige)\n",
      "\t saknar Riksdagens GUID i Wikidata: \tArbetarnas bildningsförbund (Sverige)\n",
      "Arin Karapet\n"
     ]
    },
    {
     "data": {
      "text/html": [
       "41: <a href=http://sv.wikipedia.org/wiki/Arin%20Karapet>Arin Karapet</a> - <a href=http://www.wikidata.org/wiki/Q70529257%23P39>Q70529257</a>  - <a href=http://www.riksdagen.se/sv/ledamoter-partier/ledamot/_2658d745-0315-41b7-926c-f136a7803b88>Riksdagen</a> <a href=http://data.riksdagen.se/personlista/?utformat=json&iid=2658d745-0315-41b7-926c-f136a7803b88>json</a>"
      ],
      "text/plain": [
       "<IPython.core.display.HTML object>"
      ]
     },
     "metadata": {},
     "output_type": "display_data"
    },
    {
     "name": "stdout",
     "output_type": "stream",
     "text": [
      "Arman Teimouri\n"
     ]
    },
    {
     "data": {
      "text/html": [
       "42: <a href=http://sv.wikipedia.org/wiki/Arman%20Teimouri>Arman Teimouri</a> - <a href=http://www.wikidata.org/wiki/Q56743173%23P39>Q56743173</a>  - <a href=http://www.riksdagen.se/sv/ledamoter-partier/ledamot/_92355c36-d95d-42ed-9ad9-463bf9558767>Riksdagen</a> <a href=http://data.riksdagen.se/personlista/?utformat=json&iid=92355c36-d95d-42ed-9ad9-463bf9558767>json</a>"
      ],
      "text/plain": [
       "<IPython.core.display.HTML object>"
      ]
     },
     "metadata": {},
     "output_type": "display_data"
    },
    {
     "name": "stdout",
     "output_type": "stream",
     "text": [
      "Aron Emilsson\n"
     ]
    },
    {
     "data": {
      "text/html": [
       "43: <a href=http://sv.wikipedia.org/wiki/Aron%20Emilsson>Aron Emilsson</a> - <a href=http://www.wikidata.org/wiki/Q18238607%23P39>Q18238607</a>  - <a href=http://www.riksdagen.se/sv/ledamoter-partier/ledamot/_fc43f0dc-4fc1-4e6e-ba11-5b74b20a12b2>Riksdagen</a> <a href=http://data.riksdagen.se/personlista/?utformat=json&iid=fc43f0dc-4fc1-4e6e-ba11-5b74b20a12b2>json</a>"
      ],
      "text/plain": [
       "<IPython.core.display.HTML object>"
      ]
     },
     "metadata": {},
     "output_type": "display_data"
    },
    {
     "name": "stdout",
     "output_type": "stream",
     "text": [
      "Axel Hallberg\n"
     ]
    },
    {
     "data": {
      "text/html": [
       "44: <a href=http://sv.wikipedia.org/wiki/Axel%20Hallberg>Axel Hallberg</a> - <a href=http://www.wikidata.org/wiki/Q42393729%23P39>Q42393729</a>  - <a href=http://www.riksdagen.se/sv/ledamoter-partier/ledamot/_839960b7-7e73-41f6-a590-ff7d7301a868>Riksdagen</a> <a href=http://data.riksdagen.se/personlista/?utformat=json&iid=839960b7-7e73-41f6-a590-ff7d7301a868>json</a>"
      ],
      "text/plain": [
       "<IPython.core.display.HTML object>"
      ]
     },
     "metadata": {},
     "output_type": "display_data"
    },
    {
     "name": "stdout",
     "output_type": "stream",
     "text": [
      "Azadeh Rojhan Gustafsson\n"
     ]
    },
    {
     "data": {
      "text/html": [
       "45: <a href=http://sv.wikipedia.org/wiki/Azadeh%20Rojhan%20Gustafsson>Azadeh Rojhan Gustafsson</a> - <a href=http://www.wikidata.org/wiki/Q18245444%23P39>Q18245444</a>  - <a href=http://www.riksdagen.se/sv/ledamoter-partier/ledamot/_c325b529-3455-44a2-acd2-597698b321a6>Riksdagen</a> <a href=http://data.riksdagen.se/personlista/?utformat=json&iid=c325b529-3455-44a2-acd2-597698b321a6>json</a>"
      ],
      "text/plain": [
       "<IPython.core.display.HTML object>"
      ]
     },
     "metadata": {},
     "output_type": "display_data"
    },
    {
     "name": "stdout",
     "output_type": "stream",
     "text": [
      "Barbro Westerholm\n"
     ]
    },
    {
     "data": {
      "text/html": [
       "46: <a href=http://sv.wikipedia.org/wiki/Barbro%20Westerholm>Barbro Westerholm</a> - <a href=http://www.wikidata.org/wiki/Q4859755%23P39>Q4859755</a>  - <a href=http://www.riksdagen.se/sv/ledamoter-partier/ledamot/_e7e41401-b4df-11d5-8079-0040ca16072a>Riksdagen</a> <a href=http://data.riksdagen.se/personlista/?utformat=json&iid=e7e41401-b4df-11d5-8079-0040ca16072a>json</a>"
      ],
      "text/plain": [
       "<IPython.core.display.HTML object>"
      ]
     },
     "metadata": {},
     "output_type": "display_data"
    },
    {
     "name": "stdout",
     "output_type": "stream",
     "text": [
      "Bengt Eliasson\n"
     ]
    },
    {
     "data": {
      "text/html": [
       "47: <a href=http://sv.wikipedia.org/wiki/Bengt%20Eliasson>Bengt Eliasson</a> - <a href=http://www.wikidata.org/wiki/Q18747077%23P39>Q18747077</a>  - <a href=http://www.riksdagen.se/sv/ledamoter-partier/ledamot/_18cd4aa9-d266-4c2b-bcaa-6118032ece49>Riksdagen</a> <a href=http://data.riksdagen.se/personlista/?utformat=json&iid=18cd4aa9-d266-4c2b-bcaa-6118032ece49>json</a>"
      ],
      "text/plain": [
       "<IPython.core.display.HTML object>"
      ]
     },
     "metadata": {},
     "output_type": "display_data"
    },
    {
     "name": "stdout",
     "output_type": "stream",
     "text": [
      "Betty Malmberg\n"
     ]
    },
    {
     "data": {
      "text/html": [
       "48: <a href=http://sv.wikipedia.org/wiki/Betty%20Malmberg>Betty Malmberg</a> - <a href=http://www.wikidata.org/wiki/Q4898916%23P39>Q4898916</a>  - <a href=http://www.riksdagen.se/sv/ledamoter-partier/ledamot/_e32075e3-a115-4add-8652-4993f2f8d8ab>Riksdagen</a> <a href=http://data.riksdagen.se/personlista/?utformat=json&iid=e32075e3-a115-4add-8652-4993f2f8d8ab>json</a>"
      ],
      "text/plain": [
       "<IPython.core.display.HTML object>"
      ]
     },
     "metadata": {},
     "output_type": "display_data"
    },
    {
     "name": "stdout",
     "output_type": "stream",
     "text": [
      "Birger Lahti\n"
     ]
    },
    {
     "data": {
      "text/html": [
       "49: <a href=http://sv.wikipedia.org/wiki/Birger%20Lahti>Birger Lahti</a> - <a href=http://www.wikidata.org/wiki/Q18243576%23P39>Q18243576</a>  - <a href=http://www.riksdagen.se/sv/ledamoter-partier/ledamot/_a2c4e9f3-6d4a-4994-9351-66ce4c752905>Riksdagen</a> <a href=http://data.riksdagen.se/personlista/?utformat=json&iid=a2c4e9f3-6d4a-4994-9351-66ce4c752905>json</a>"
      ],
      "text/plain": [
       "<IPython.core.display.HTML object>"
      ]
     },
     "metadata": {},
     "output_type": "display_data"
    },
    {
     "name": "stdout",
     "output_type": "stream",
     "text": [
      "Björn Petersson\n"
     ]
    },
    {
     "data": {
      "text/html": [
       "50: <a href=http://sv.wikipedia.org/wiki/Bj%C3%B6rn%20Petersson>Björn Petersson</a> - <a href=http://www.wikidata.org/wiki/Q62287028%23P39>Q62287028</a>  - <a href=http://www.riksdagen.se/sv/ledamoter-partier/ledamot/_d2d94e0b-a745-4457-8c2f-9557caf78cdf>Riksdagen</a> <a href=http://data.riksdagen.se/personlista/?utformat=json&iid=d2d94e0b-a745-4457-8c2f-9557caf78cdf>json</a>"
      ],
      "text/plain": [
       "<IPython.core.display.HTML object>"
      ]
     },
     "metadata": {},
     "output_type": "display_data"
    },
    {
     "name": "stdout",
     "output_type": "stream",
     "text": [
      "Björn Söder\n"
     ]
    },
    {
     "data": {
      "text/html": [
       "51: <a href=http://sv.wikipedia.org/wiki/Bj%C3%B6rn%20S%C3%B6der>Björn Söder</a> - <a href=http://www.wikidata.org/wiki/Q4919772%23P39>Q4919772</a>  - <a href=http://www.riksdagen.se/sv/ledamoter-partier/ledamot/_06d7c195-c170-4103-bcc6-1d9c0d43b169>Riksdagen</a> <a href=http://data.riksdagen.se/personlista/?utformat=json&iid=06d7c195-c170-4103-bcc6-1d9c0d43b169>json</a>"
      ],
      "text/plain": [
       "<IPython.core.display.HTML object>"
      ]
     },
     "metadata": {},
     "output_type": "display_data"
    },
    {
     "name": "stdout",
     "output_type": "stream",
     "text": [
      "Björn Wiechel\n"
     ]
    },
    {
     "data": {
      "text/html": [
       "52: <a href=http://sv.wikipedia.org/wiki/Bj%C3%B6rn%20Wiechel>Björn Wiechel</a> - <a href=http://www.wikidata.org/wiki/Q20156222%23P39>Q20156222</a>  - <a href=http://www.riksdagen.se/sv/ledamoter-partier/ledamot/_7ef75999-90a2-41af-a083-6dfd70e8e3e8>Riksdagen</a> <a href=http://data.riksdagen.se/personlista/?utformat=json&iid=7ef75999-90a2-41af-a083-6dfd70e8e3e8>json</a>"
      ],
      "text/plain": [
       "<IPython.core.display.HTML object>"
      ]
     },
     "metadata": {},
     "output_type": "display_data"
    },
    {
     "name": "stdout",
     "output_type": "stream",
     "text": [
      "Bo Broman\n"
     ]
    },
    {
     "data": {
      "text/html": [
       "53: <a href=http://sv.wikipedia.org/wiki/Bo%20Broman>Bo Broman</a> - <a href=http://www.wikidata.org/wiki/Q70912742%23P39>Q70912742</a>  - <a href=http://www.riksdagen.se/sv/ledamoter-partier/ledamot/_24c753af-11ea-4c6f-90f9-f4142fc71e19>Riksdagen</a> <a href=http://data.riksdagen.se/personlista/?utformat=json&iid=24c753af-11ea-4c6f-90f9-f4142fc71e19>json</a>"
      ],
      "text/plain": [
       "<IPython.core.display.HTML object>"
      ]
     },
     "metadata": {},
     "output_type": "display_data"
    },
    {
     "name": "stdout",
     "output_type": "stream",
     "text": [
      "Bo Toresson\n"
     ]
    },
    {
     "data": {
      "text/html": [
       "54: <a href=http://sv.wikipedia.org/wiki/Bo%20Toresson>Bo Toresson</a> - <a href=http://www.wikidata.org/wiki/Q6213461%23P39>Q6213461</a>  - <a href=http://www.riksdagen.se/sv/ledamoter-partier/ledamot/_061bead7-de87-4093-bd44-b55e0db38e96>Riksdagen</a> <a href=http://data.riksdagen.se/personlista/?utformat=json&iid=061bead7-de87-4093-bd44-b55e0db38e96>json</a>"
      ],
      "text/plain": [
       "<IPython.core.display.HTML object>"
      ]
     },
     "metadata": {},
     "output_type": "display_data"
    },
    {
     "name": "stdout",
     "output_type": "stream",
     "text": [
      "Boriana Åberg\n"
     ]
    },
    {
     "data": {
      "text/html": [
       "55: <a href=http://sv.wikipedia.org/wiki/Boriana%20%C3%85berg>Boriana Åberg</a> - <a href=http://www.wikidata.org/wiki/Q4990984%23P39>Q4990984</a>  - <a href=http://www.riksdagen.se/sv/ledamoter-partier/ledamot/_d3628aa4-ea6a-4466-8e2c-f3d0cb2d9cad>Riksdagen</a> <a href=http://data.riksdagen.se/personlista/?utformat=json&iid=d3628aa4-ea6a-4466-8e2c-f3d0cb2d9cad>json</a>"
      ],
      "text/plain": [
       "<IPython.core.display.HTML object>"
      ]
     },
     "metadata": {},
     "output_type": "display_data"
    },
    {
     "name": "stdout",
     "output_type": "stream",
     "text": [
      "Britt Bohlin Olsson\n"
     ]
    },
    {
     "ename": "KeyError",
     "evalue": "'pageprops'",
     "output_type": "error",
     "traceback": [
      "\u001b[0;31m---------------------------------------------------------------------------\u001b[0m",
      "\u001b[0;31mKeyError\u001b[0m                                  Traceback (most recent call last)",
      "\u001b[0;32m<ipython-input-25-0ea1891acf74>\u001b[0m in \u001b[0;36m<module>\u001b[0;34m\u001b[0m\n\u001b[1;32m     11\u001b[0m     \u001b[0;31m#print(link[\"title\"])\u001b[0m\u001b[0;34m\u001b[0m\u001b[0;34m\u001b[0m\u001b[0;34m\u001b[0m\u001b[0m\n\u001b[1;32m     12\u001b[0m     \u001b[0msvName\u001b[0m \u001b[0;34m=\u001b[0m \u001b[0mlink\u001b[0m\u001b[0;34m[\u001b[0m\u001b[0;34m\"title\"\u001b[0m\u001b[0;34m]\u001b[0m\u001b[0;34m\u001b[0m\u001b[0;34m\u001b[0m\u001b[0m\n\u001b[0;32m---> 13\u001b[0;31m     \u001b[0mwdQnumber\u001b[0m \u001b[0;34m=\u001b[0m \u001b[0mgetWD\u001b[0m \u001b[0;34m(\u001b[0m\u001b[0msvName\u001b[0m\u001b[0;34m)\u001b[0m\u001b[0;34m\u001b[0m\u001b[0;34m\u001b[0m\u001b[0m\n\u001b[0m\u001b[1;32m     14\u001b[0m     \u001b[0mwdRiksGUID\u001b[0m \u001b[0;34m=\u001b[0m \u001b[0mgetRiks\u001b[0m\u001b[0;34m(\u001b[0m\u001b[0mwdQnumber\u001b[0m\u001b[0;34m)\u001b[0m\u001b[0;34m\u001b[0m\u001b[0;34m\u001b[0m\u001b[0m\n\u001b[1;32m     15\u001b[0m     \u001b[0;32mif\u001b[0m \u001b[0mwdRiksGUID\u001b[0m\u001b[0;34m:\u001b[0m\u001b[0;34m\u001b[0m\u001b[0;34m\u001b[0m\u001b[0m\n",
      "\u001b[0;32m<ipython-input-21-bb7576e932d4>\u001b[0m in \u001b[0;36mgetWD\u001b[0;34m(url)\u001b[0m\n\u001b[1;32m     14\u001b[0m     \u001b[0mpg_dict\u001b[0m \u001b[0;34m=\u001b[0m \u001b[0mdatawd\u001b[0m\u001b[0;34m[\u001b[0m\u001b[0;34m'query'\u001b[0m\u001b[0;34m]\u001b[0m\u001b[0;34m[\u001b[0m\u001b[0;34m'pages'\u001b[0m\u001b[0;34m]\u001b[0m\u001b[0;34m\u001b[0m\u001b[0;34m\u001b[0m\u001b[0m\n\u001b[1;32m     15\u001b[0m     \u001b[0mpg_key\u001b[0m \u001b[0;34m=\u001b[0m \u001b[0mlist\u001b[0m\u001b[0;34m(\u001b[0m\u001b[0mpg_dict\u001b[0m\u001b[0;34m.\u001b[0m\u001b[0mkeys\u001b[0m\u001b[0;34m(\u001b[0m\u001b[0;34m)\u001b[0m\u001b[0;34m)\u001b[0m\u001b[0;34m[\u001b[0m\u001b[0;36m0\u001b[0m\u001b[0;34m]\u001b[0m\u001b[0;34m\u001b[0m\u001b[0;34m\u001b[0m\u001b[0m\n\u001b[0;32m---> 16\u001b[0;31m     \u001b[0mwikidata_id\u001b[0m \u001b[0;34m=\u001b[0m \u001b[0mpg_dict\u001b[0m\u001b[0;34m[\u001b[0m\u001b[0mpg_key\u001b[0m\u001b[0;34m]\u001b[0m\u001b[0;34m[\u001b[0m\u001b[0;34m'pageprops'\u001b[0m\u001b[0;34m]\u001b[0m\u001b[0;34m[\u001b[0m\u001b[0;34m'wikibase_item'\u001b[0m\u001b[0;34m]\u001b[0m\u001b[0;34m\u001b[0m\u001b[0;34m\u001b[0m\u001b[0m\n\u001b[0m\u001b[1;32m     17\u001b[0m     \u001b[0;32mreturn\u001b[0m \u001b[0mwikidata_id\u001b[0m\u001b[0;34m\u001b[0m\u001b[0;34m\u001b[0m\u001b[0m\n\u001b[1;32m     18\u001b[0m \u001b[0;34m\u001b[0m\u001b[0m\n",
      "\u001b[0;31mKeyError\u001b[0m: 'pageprops'"
     ]
    }
   ],
   "source": [
    "from tqdm.notebook import trange, tqdm\n",
    "import urllib.parse \n",
    "\n",
    "urlsv = \"sv.wikipedia.org/wiki/\"\n",
    "urlwd = \"www.wikidata.org/wiki/\"\n",
    "urlriks = \"www.riksdagen.se/sv/ledamoter-partier/ledamot/_\"\n",
    "urlriksdata = \"data.riksdagen.se/personlista/?utformat=json&iid=\"\n",
    "\n",
    "linknr = 0\n",
    "for link in tqdm(page[list(page.keys())[0]][\"links\"]):\n",
    "    #print(link[\"title\"])\n",
    "    svName = link[\"title\"]\n",
    "    wdQnumber = getWD (svName)\n",
    "    wdRiksGUID = getRiks(wdQnumber)\n",
    "    if wdRiksGUID:\n",
    "        linknr = linknr + 1\n",
    "        svUrlArticle = \"http://\" + urllib.parse.quote(urlsv+svName)\n",
    "        wdQnumberUrl = \"http://\" + urllib.parse.quote(urlwd+wdQnumber+\"#P39\")\n",
    "        riksUrl = \"http://\" + urllib.parse.quote(urlriks+wdRiksGUID)\n",
    "        riksData = \"http://\" + urlriksdata+wdRiksGUID\n",
    "        display(HTML(str(linknr) + \": <a href=\"+svUrlArticle+\">\"+svName+\"</a> - <a href=\"+wdQnumberUrl+\">\"+wdQnumber+\"</a> \" \\\n",
    "                + \" - <a href=\"+riksUrl+\">Riksdagen</a> \" \\\n",
    "                + \"<a href=\"+riksData+\">json</a>\"))\n",
    "    else:\n",
    "        print (\"\\t saknar Riksdagens GUID i Wikidata: \\t\" + svName) \n",
    "               "
   ]
  },
  {
   "cell_type": "code",
   "execution_count": null,
   "id": "5cdf9b8d",
   "metadata": {},
   "outputs": [],
   "source": [
    "#### Sort per party"
   ]
  },
  {
   "cell_type": "code",
   "execution_count": null,
   "id": "065c6c12",
   "metadata": {},
   "outputs": [],
   "source": []
  }
 ],
 "metadata": {
  "kernelspec": {
   "display_name": "Python 3",
   "language": "python",
   "name": "python3"
  },
  "language_info": {
   "codemirror_mode": {
    "name": "ipython",
    "version": 3
   },
   "file_extension": ".py",
   "mimetype": "text/x-python",
   "name": "python",
   "nbconvert_exporter": "python",
   "pygments_lexer": "ipython3",
   "version": "3.9.4"
  }
 },
 "nbformat": 4,
 "nbformat_minor": 5
}
