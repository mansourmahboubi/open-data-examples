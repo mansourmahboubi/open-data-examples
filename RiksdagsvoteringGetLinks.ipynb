{
 "cells": [
  {
   "cell_type": "markdown",
   "id": "103b357a",
   "metadata": {},
   "source": [
    "### Get Links from a page on svWikipedia and check if the link is to a Swedish MP person   \n",
    "\n",
    "  \n",
    "* This [notebook](https://github.com/salgo60/open-data-examples/blob/master/RiksdagsvoteringGetLinks.ipynb)\n",
    "  * Wikipedia [discussion related to this exercise](https://sv.wikipedia.org/wiki/Diskussion:Regeringen_Andersson#en_Wikipedia_har_med_vilka_som_r%C3%B6star_p%C3%A5_vad_borde_finnas_i_sv:Wikipedia)\n",
    "  * API documentation [query](https://www.mediawiki.org/w/api.php?action=help&modules=query%2Blinks)\n",
    "\n",
    "version 1 \n",
    "* known limits\n",
    "  * just get 500 links\n",
    "* if more links to the same page is in the article it looks like we just get one item\n",
    "  * as we have two votes --> \n",
    "     * we get 117 + 174+57 = 348 from the [first vote](https://www.riksdagen.se/globalassets/01.-aktuellt/202021/srv5-10-mpc21112410220.pdf)\n",
    "     * [second vote](https://www.riksdagen.se/sv/aktuellt/2021/nov/29/magdalena-andersson-godkandes-som-statsminister/) --> 101+173+75 = 349\n",
    "  * links in article to MPs will be unique members in vote one and two below we have **340** --> **I guess its wrong** in this code or in the page\n",
    "\n",
    "\n",
    "TODO\n",
    "* [ ] ~~get the voting data as data from [Riksdagens Öppna data](https://data.riksdagen.se/) and check that we have done our home work correct reading scanned [PDF](https://www.riksdagen.se/globalassets/01.-aktuellt/202021/srv5-10-mpc21112410220.pdf)~~ **lesson leraned not possible**\n",
    "* [ ] maybe generate the Wiki syntax direct from the voting data, could maybe be used for other voting in Riksdagen that has a Wikipedia article...."
   ]
  },
  {
   "cell_type": "code",
   "execution_count": 1,
   "id": "b0298836",
   "metadata": {},
   "outputs": [
    {
     "name": "stdout",
     "output_type": "stream",
     "text": [
      "Last run:  2021-12-03 15:43:50.891767\n"
     ]
    }
   ],
   "source": [
    "from datetime import datetime\n",
    "start_time  = datetime.now()\n",
    "print(\"Last run: \", start_time)"
   ]
  },
  {
   "cell_type": "code",
   "execution_count": 2,
   "id": "5fd2d12f",
   "metadata": {},
   "outputs": [],
   "source": [
    "svWikipediaAPIurl = \"https://sv.wikipedia.org/w/api.php?action=query&format=json&prop=links&meta=&pllimit=500&titles=\" \n",
    "pagetoCheck = \"Användare:Salgo60/sandlåda\""
   ]
  },
  {
   "cell_type": "code",
   "execution_count": 3,
   "id": "47120cd6",
   "metadata": {},
   "outputs": [],
   "source": [
    "from IPython.core.display import display, HTML\n",
    "urlcheck = svWikipediaAPIurl + pagetoCheck\n",
    "urlArticle = \"https://sv.wikipedia.org/wiki/\" + pagetoCheck\n"
   ]
  },
  {
   "cell_type": "code",
   "execution_count": 4,
   "id": "3cee5ff6",
   "metadata": {},
   "outputs": [
    {
     "data": {
      "text/html": [
       "URL sida <a href=https://sv.wikipedia.org/wiki/Användare:Salgo60/sandlåda>Användare:Salgo60/sandlåda</a><br>* API url <a href=https://sv.wikipedia.org/w/api.php?action=query&format=json&prop=links&meta=&pllimit=500&titles=Användare:Salgo60/sandlåda>https://sv.wikipedia.org/w/api.php?action=query&format=json&prop=links&meta=&pllimit=500&titles=Användare:Salgo60/sandlåda</a>"
      ],
      "text/plain": [
       "<IPython.core.display.HTML object>"
      ]
     },
     "metadata": {},
     "output_type": "display_data"
    }
   ],
   "source": [
    "display(HTML(\"URL sida <a href=\" + urlArticle + \">\" + pagetoCheck +  \"</a><br>* API url <a href=\" + urlcheck +\">\" + urlcheck + \"</a>\"))"
   ]
  },
  {
   "cell_type": "code",
   "execution_count": 5,
   "id": "1ef871a8",
   "metadata": {},
   "outputs": [],
   "source": [
    "import urllib3, json\n",
    "import pandas as pd \n",
    "http = urllib3.PoolManager() \n",
    "from wikidata.client import Client\n"
   ]
  },
  {
   "cell_type": "code",
   "execution_count": 6,
   "id": "1ee7e02d",
   "metadata": {},
   "outputs": [],
   "source": [
    "def getWD (url):\n",
    "    #print(url)\n",
    "    baseUrl = \"https://sv.wikipedia.org/w/api.php?action=query&prop=pageprops|wbentityusage&titles=\"\n",
    "    title = url.replace(\"https://sv.wikipedia.org/wiki/\",\"\")\n",
    "    urlWD = baseUrl + title\n",
    "    wdr = http.request('Get', urlWD + \"&format=json\",\n",
    "                 headers={'Content-Type': 'application/json'})\n",
    "\n",
    "    if wdr.status != 200:\n",
    "        print(\"Error \", wdr.status)\n",
    "        return False\n",
    "    \n",
    "    datawd = json.loads(wdr.data.decode('utf-8'),) \n",
    "    pg_dict = datawd['query']['pages']\n",
    "    pg_key = list(pg_dict.keys())[0]\n",
    "    wikidata_id = pg_dict[pg_key]['pageprops']['wikibase_item']\n",
    "    return wikidata_id\n",
    "\n",
    "def getRiks(wikidata_id):\n",
    "    # get SPA \n",
    "    client = Client()\n",
    "    entity = client.get(wikidata_id, load=True)\n",
    "    try:\n",
    "        riks_prop = entity[client.get('P8388')]\n",
    "    except:\n",
    "        return False\n",
    "    return riks_prop"
   ]
  },
  {
   "cell_type": "code",
   "execution_count": 7,
   "id": "f68ce38e",
   "metadata": {},
   "outputs": [],
   "source": [
    "r = http.request('GET', urlcheck,\n",
    "            headers={'Content-Type': 'application/json'})\n",
    "#print(\"http status \", r.status)\n",
    "if r.status != 200:\n",
    "    print(\"Error \",r.status)\n",
    "    \n",
    "data = json.loads(r.data.decode('utf-8'),)         "
   ]
  },
  {
   "cell_type": "code",
   "execution_count": 8,
   "id": "ed81a390",
   "metadata": {},
   "outputs": [],
   "source": [
    "#data"
   ]
  },
  {
   "cell_type": "code",
   "execution_count": 9,
   "id": "f5eea0fa",
   "metadata": {},
   "outputs": [
    {
     "name": "stdout",
     "output_type": "stream",
     "text": [
      "Antal länkar: \t 359\n"
     ]
    }
   ],
   "source": [
    "page = data[\"query\"][\"pages\"]\n",
    "print(\"Antal länkar: \\t\",len(page[list(page.keys())[0]][\"links\"]))"
   ]
  },
  {
   "cell_type": "code",
   "execution_count": 10,
   "id": "d8a54471",
   "metadata": {},
   "outputs": [
    {
     "data": {
      "application/vnd.jupyter.widget-view+json": {
       "model_id": "1e153a5cc0944b1494a9f09686287e58",
       "version_major": 2,
       "version_minor": 0
      },
      "text/plain": [
       "  0%|          | 0/359 [00:00<?, ?it/s]"
      ]
     },
     "metadata": {},
     "output_type": "display_data"
    },
    {
     "data": {
      "text/html": [
       "1: <a href=http://sv.wikipedia.org/wiki/Abraham%20Halef>Abraham Halef</a> - <a href=http://www.wikidata.org/wiki/Q97971343%23P39>Q97971343</a>  - <a href=http://www.riksdagen.se/sv/ledamoter-partier/ledamot/_4f8c750f-e0e5-4011-bfda-31a41f4b5996>Riksdagen</a> <a href=http://data.riksdagen.se/personlista/?utformat=json&iid=4f8c750f-e0e5-4011-bfda-31a41f4b5996>json</a>"
      ],
      "text/plain": [
       "<IPython.core.display.HTML object>"
      ]
     },
     "metadata": {},
     "output_type": "display_data"
    },
    {
     "data": {
      "text/html": [
       "2: <a href=http://sv.wikipedia.org/wiki/Acko%20Ankarberg%20Johansson>Acko Ankarberg Johansson</a> - <a href=http://www.wikidata.org/wiki/Q4936116%23P39>Q4936116</a>  - <a href=http://www.riksdagen.se/sv/ledamoter-partier/ledamot/_669a8123-3f21-4920-80f8-e4ec200ae575>Riksdagen</a> <a href=http://data.riksdagen.se/personlista/?utformat=json&iid=669a8123-3f21-4920-80f8-e4ec200ae575>json</a>"
      ],
      "text/plain": [
       "<IPython.core.display.HTML object>"
      ]
     },
     "metadata": {},
     "output_type": "display_data"
    },
    {
     "data": {
      "text/html": [
       "3: <a href=http://sv.wikipedia.org/wiki/Adam%20Marttinen>Adam Marttinen</a> - <a href=http://www.wikidata.org/wiki/Q15963975%23P39>Q15963975</a>  - <a href=http://www.riksdagen.se/sv/ledamoter-partier/ledamot/_db2ca6ff-5620-4ece-8d31-97777f2efb48>Riksdagen</a> <a href=http://data.riksdagen.se/personlista/?utformat=json&iid=db2ca6ff-5620-4ece-8d31-97777f2efb48>json</a>"
      ],
      "text/plain": [
       "<IPython.core.display.HTML object>"
      ]
     },
     "metadata": {},
     "output_type": "display_data"
    },
    {
     "data": {
      "text/html": [
       "4: <a href=http://sv.wikipedia.org/wiki/Adnan%20Dibrani>Adnan Dibrani</a> - <a href=http://www.wikidata.org/wiki/Q5621490%23P39>Q5621490</a>  - <a href=http://www.riksdagen.se/sv/ledamoter-partier/ledamot/_2eb5b5ce-2e8c-4063-a2c2-d03b50ff4c5d>Riksdagen</a> <a href=http://data.riksdagen.se/personlista/?utformat=json&iid=2eb5b5ce-2e8c-4063-a2c2-d03b50ff4c5d>json</a>"
      ],
      "text/plain": [
       "<IPython.core.display.HTML object>"
      ]
     },
     "metadata": {},
     "output_type": "display_data"
    },
    {
     "data": {
      "text/html": [
       "5: <a href=http://sv.wikipedia.org/wiki/Alexander%20Christiansson>Alexander Christiansson</a> - <a href=http://www.wikidata.org/wiki/Q65499866%23P39>Q65499866</a>  - <a href=http://www.riksdagen.se/sv/ledamoter-partier/ledamot/_300c041c-1f7e-4daa-97e0-4d2ec8e6f4f5>Riksdagen</a> <a href=http://data.riksdagen.se/personlista/?utformat=json&iid=300c041c-1f7e-4daa-97e0-4d2ec8e6f4f5>json</a>"
      ],
      "text/plain": [
       "<IPython.core.display.HTML object>"
      ]
     },
     "metadata": {},
     "output_type": "display_data"
    },
    {
     "data": {
      "text/html": [
       "6: <a href=http://sv.wikipedia.org/wiki/Alexandra%20Anstrell>Alexandra Anstrell</a> - <a href=http://www.wikidata.org/wiki/Q30035697%23P39>Q30035697</a>  - <a href=http://www.riksdagen.se/sv/ledamoter-partier/ledamot/_8310e472-996b-4c8a-bce5-4d09fb20a66a>Riksdagen</a> <a href=http://data.riksdagen.se/personlista/?utformat=json&iid=8310e472-996b-4c8a-bce5-4d09fb20a66a>json</a>"
      ],
      "text/plain": [
       "<IPython.core.display.HTML object>"
      ]
     },
     "metadata": {},
     "output_type": "display_data"
    },
    {
     "data": {
      "text/html": [
       "7: <a href=http://sv.wikipedia.org/wiki/Ali%20Esbati>Ali Esbati</a> - <a href=http://www.wikidata.org/wiki/Q4724776%23P39>Q4724776</a>  - <a href=http://www.riksdagen.se/sv/ledamoter-partier/ledamot/_979e9852-69ed-4077-8140-52ab99414a6c>Riksdagen</a> <a href=http://data.riksdagen.se/personlista/?utformat=json&iid=979e9852-69ed-4077-8140-52ab99414a6c>json</a>"
      ],
      "text/plain": [
       "<IPython.core.display.HTML object>"
      ]
     },
     "metadata": {},
     "output_type": "display_data"
    },
    {
     "data": {
      "text/html": [
       "8: <a href=http://sv.wikipedia.org/wiki/Alireza%20Akhondi>Alireza Akhondi</a> - <a href=http://www.wikidata.org/wiki/Q70621742%23P39>Q70621742</a>  - <a href=http://www.riksdagen.se/sv/ledamoter-partier/ledamot/_4099ff9c-5d27-4605-b018-98fb229d94fa>Riksdagen</a> <a href=http://data.riksdagen.se/personlista/?utformat=json&iid=4099ff9c-5d27-4605-b018-98fb229d94fa>json</a>"
      ],
      "text/plain": [
       "<IPython.core.display.HTML object>"
      ]
     },
     "metadata": {},
     "output_type": "display_data"
    },
    {
     "data": {
      "text/html": [
       "9: <a href=http://sv.wikipedia.org/wiki/Allan%20Widman>Allan Widman</a> - <a href=http://www.wikidata.org/wiki/Q4731041%23P39>Q4731041</a>  - <a href=http://www.riksdagen.se/sv/ledamoter-partier/ledamot/_b58dac92-0bb0-4fe3-a052-9049b9a99959>Riksdagen</a> <a href=http://data.riksdagen.se/personlista/?utformat=json&iid=b58dac92-0bb0-4fe3-a052-9049b9a99959>json</a>"
      ],
      "text/plain": [
       "<IPython.core.display.HTML object>"
      ]
     },
     "metadata": {},
     "output_type": "display_data"
    },
    {
     "data": {
      "text/html": [
       "10: <a href=http://sv.wikipedia.org/wiki/Amanda%20Palmstierna>Amanda Palmstierna</a> - <a href=http://www.wikidata.org/wiki/Q71137237%23P39>Q71137237</a>  - <a href=http://www.riksdagen.se/sv/ledamoter-partier/ledamot/_d12313ba-680b-4784-b858-5c9e6db692e7>Riksdagen</a> <a href=http://data.riksdagen.se/personlista/?utformat=json&iid=d12313ba-680b-4784-b858-5c9e6db692e7>json</a>"
      ],
      "text/plain": [
       "<IPython.core.display.HTML object>"
      ]
     },
     "metadata": {},
     "output_type": "display_data"
    },
    {
     "data": {
      "text/html": [
       "11: <a href=http://sv.wikipedia.org/wiki/Anders%20Hansson%20%28moderat%29>Anders Hansson (moderat)</a> - <a href=http://www.wikidata.org/wiki/Q4753804%23P39>Q4753804</a>  - <a href=http://www.riksdagen.se/sv/ledamoter-partier/ledamot/_fa84d5df-e8ef-43be-beff-a71453d18ebc>Riksdagen</a> <a href=http://data.riksdagen.se/personlista/?utformat=json&iid=fa84d5df-e8ef-43be-beff-a71453d18ebc>json</a>"
      ],
      "text/plain": [
       "<IPython.core.display.HTML object>"
      ]
     },
     "metadata": {},
     "output_type": "display_data"
    },
    {
     "data": {
      "text/html": [
       "12: <a href=http://sv.wikipedia.org/wiki/Anders%20W.%20Jonsson>Anders W. Jonsson</a> - <a href=http://www.wikidata.org/wiki/Q5891398%23P39>Q5891398</a>  - <a href=http://www.riksdagen.se/sv/ledamoter-partier/ledamot/_6ad91da1-1287-4e8f-9778-3315390fdfca>Riksdagen</a> <a href=http://data.riksdagen.se/personlista/?utformat=json&iid=6ad91da1-1287-4e8f-9778-3315390fdfca>json</a>"
      ],
      "text/plain": [
       "<IPython.core.display.HTML object>"
      ]
     },
     "metadata": {},
     "output_type": "display_data"
    },
    {
     "data": {
      "text/html": [
       "13: <a href=http://sv.wikipedia.org/wiki/Anders%20%C3%85kesson%20%28centerpartist%29>Anders Åkesson (centerpartist)</a> - <a href=http://www.wikidata.org/wiki/Q6255521%23P39>Q6255521</a>  - <a href=http://www.riksdagen.se/sv/ledamoter-partier/ledamot/_48144b97-5799-422d-9ede-8b2dd360ca19>Riksdagen</a> <a href=http://data.riksdagen.se/personlista/?utformat=json&iid=48144b97-5799-422d-9ede-8b2dd360ca19>json</a>"
      ],
      "text/plain": [
       "<IPython.core.display.HTML object>"
      ]
     },
     "metadata": {},
     "output_type": "display_data"
    },
    {
     "data": {
      "text/html": [
       "14: <a href=http://sv.wikipedia.org/wiki/Anders%20%C3%96sterberg>Anders Österberg</a> - <a href=http://www.wikidata.org/wiki/Q30035700%23P39>Q30035700</a>  - <a href=http://www.riksdagen.se/sv/ledamoter-partier/ledamot/_df3988c4-9541-465c-b02e-1410c3d31155>Riksdagen</a> <a href=http://data.riksdagen.se/personlista/?utformat=json&iid=df3988c4-9541-465c-b02e-1410c3d31155>json</a>"
      ],
      "text/plain": [
       "<IPython.core.display.HTML object>"
      ]
     },
     "metadata": {},
     "output_type": "display_data"
    },
    {
     "data": {
      "text/html": [
       "15: <a href=http://sv.wikipedia.org/wiki/Andreas%20Carlson>Andreas Carlson</a> - <a href=http://www.wikidata.org/wiki/Q5602835%23P39>Q5602835</a>  - <a href=http://www.riksdagen.se/sv/ledamoter-partier/ledamot/_7f431f89-8b2f-4499-8997-f55f1b57d8ab>Riksdagen</a> <a href=http://data.riksdagen.se/personlista/?utformat=json&iid=7f431f89-8b2f-4499-8997-f55f1b57d8ab>json</a>"
      ],
      "text/plain": [
       "<IPython.core.display.HTML object>"
      ]
     },
     "metadata": {},
     "output_type": "display_data"
    },
    {
     "data": {
      "text/html": [
       "16: <a href=http://sv.wikipedia.org/wiki/Angelica%20Lundberg>Angelica Lundberg</a> - <a href=http://www.wikidata.org/wiki/Q71062310%23P39>Q71062310</a>  - <a href=http://www.riksdagen.se/sv/ledamoter-partier/ledamot/_a7ca5ca6-2e77-4360-8369-0671993019c4>Riksdagen</a> <a href=http://data.riksdagen.se/personlista/?utformat=json&iid=a7ca5ca6-2e77-4360-8369-0671993019c4>json</a>"
      ],
      "text/plain": [
       "<IPython.core.display.HTML object>"
      ]
     },
     "metadata": {},
     "output_type": "display_data"
    },
    {
     "data": {
      "text/html": [
       "17: <a href=http://sv.wikipedia.org/wiki/Angelika%20Bengtsson>Angelika Bengtsson</a> - <a href=http://www.wikidata.org/wiki/Q18237639%23P39>Q18237639</a>  - <a href=http://www.riksdagen.se/sv/ledamoter-partier/ledamot/_9d68c0c3-2102-402d-998f-dc56a410d19d>Riksdagen</a> <a href=http://data.riksdagen.se/personlista/?utformat=json&iid=9d68c0c3-2102-402d-998f-dc56a410d19d>json</a>"
      ],
      "text/plain": [
       "<IPython.core.display.HTML object>"
      ]
     },
     "metadata": {},
     "output_type": "display_data"
    },
    {
     "data": {
      "text/html": [
       "18: <a href=http://sv.wikipedia.org/wiki/Ann-Britt%20%C3%85sebol>Ann-Britt Åsebol</a> - <a href=http://www.wikidata.org/wiki/Q4991079%23P39>Q4991079</a>  - <a href=http://www.riksdagen.se/sv/ledamoter-partier/ledamot/_71b2ece2-dcf7-4e51-aa4c-042cca81cf1e>Riksdagen</a> <a href=http://data.riksdagen.se/personlista/?utformat=json&iid=71b2ece2-dcf7-4e51-aa4c-042cca81cf1e>json</a>"
      ],
      "text/plain": [
       "<IPython.core.display.HTML object>"
      ]
     },
     "metadata": {},
     "output_type": "display_data"
    },
    {
     "data": {
      "text/html": [
       "19: <a href=http://sv.wikipedia.org/wiki/Ann-Charlotte%20Hammar%20Johnsson>Ann-Charlotte Hammar Johnsson</a> - <a href=http://www.wikidata.org/wiki/Q4766168%23P39>Q4766168</a>  - <a href=http://www.riksdagen.se/sv/ledamoter-partier/ledamot/_5ac51ad6-c8ea-4ce6-bcd5-b8609d6c058a>Riksdagen</a> <a href=http://data.riksdagen.se/personlista/?utformat=json&iid=5ac51ad6-c8ea-4ce6-bcd5-b8609d6c058a>json</a>"
      ],
      "text/plain": [
       "<IPython.core.display.HTML object>"
      ]
     },
     "metadata": {},
     "output_type": "display_data"
    },
    {
     "data": {
      "text/html": [
       "20: <a href=http://sv.wikipedia.org/wiki/Ann-Christin%20Ahlberg>Ann-Christin Ahlberg</a> - <a href=http://www.wikidata.org/wiki/Q3375059%23P39>Q3375059</a>  - <a href=http://www.riksdagen.se/sv/ledamoter-partier/ledamot/_8583281e-3621-49fd-a131-661a0f432452>Riksdagen</a> <a href=http://data.riksdagen.se/personlista/?utformat=json&iid=8583281e-3621-49fd-a131-661a0f432452>json</a>"
      ],
      "text/plain": [
       "<IPython.core.display.HTML object>"
      ]
     },
     "metadata": {},
     "output_type": "display_data"
    },
    {
     "data": {
      "text/html": [
       "21: <a href=http://sv.wikipedia.org/wiki/Ann-Christine%20From%20Utterstedt>Ann-Christine From Utterstedt</a> - <a href=http://www.wikidata.org/wiki/Q71133291%23P39>Q71133291</a>  - <a href=http://www.riksdagen.se/sv/ledamoter-partier/ledamot/_3298ed49-917f-4230-8cf5-e10a70a93727>Riksdagen</a> <a href=http://data.riksdagen.se/personlista/?utformat=json&iid=3298ed49-917f-4230-8cf5-e10a70a93727>json</a>"
      ],
      "text/plain": [
       "<IPython.core.display.HTML object>"
      ]
     },
     "metadata": {},
     "output_type": "display_data"
    },
    {
     "data": {
      "text/html": [
       "22: <a href=http://sv.wikipedia.org/wiki/Ann-Sofie%20Alm>Ann-Sofie Alm</a> - <a href=http://www.wikidata.org/wiki/Q59269310%23P39>Q59269310</a>  - <a href=http://www.riksdagen.se/sv/ledamoter-partier/ledamot/_f91f6a86-591c-449c-b3dd-1fdaa86338cd>Riksdagen</a> <a href=http://data.riksdagen.se/personlista/?utformat=json&iid=f91f6a86-591c-449c-b3dd-1fdaa86338cd>json</a>"
      ],
      "text/plain": [
       "<IPython.core.display.HTML object>"
      ]
     },
     "metadata": {},
     "output_type": "display_data"
    },
    {
     "data": {
      "text/html": [
       "23: <a href=http://sv.wikipedia.org/wiki/Ann-Sofie%20Lifvenhage>Ann-Sofie Lifvenhage</a> - <a href=http://www.wikidata.org/wiki/Q71131299%23P39>Q71131299</a>  - <a href=http://www.riksdagen.se/sv/ledamoter-partier/ledamot/_16c58b85-7b9a-4f36-9160-3a40680f433c>Riksdagen</a> <a href=http://data.riksdagen.se/personlista/?utformat=json&iid=16c58b85-7b9a-4f36-9160-3a40680f433c>json</a>"
      ],
      "text/plain": [
       "<IPython.core.display.HTML object>"
      ]
     },
     "metadata": {},
     "output_type": "display_data"
    },
    {
     "data": {
      "text/html": [
       "24: <a href=http://sv.wikipedia.org/wiki/Anna-Belle%20Str%C3%B6mberg>Anna-Belle Strömberg</a> - <a href=http://www.wikidata.org/wiki/Q108525972%23P39>Q108525972</a>  - <a href=http://www.riksdagen.se/sv/ledamoter-partier/ledamot/_0a614b1d-8d24-4794-838d-8fbed7b503c5>Riksdagen</a> <a href=http://data.riksdagen.se/personlista/?utformat=json&iid=0a614b1d-8d24-4794-838d-8fbed7b503c5>json</a>"
      ],
      "text/plain": [
       "<IPython.core.display.HTML object>"
      ]
     },
     "metadata": {},
     "output_type": "display_data"
    },
    {
     "data": {
      "text/html": [
       "25: <a href=http://sv.wikipedia.org/wiki/Anna-Caren%20S%C3%A4therberg>Anna-Caren Sätherberg</a> - <a href=http://www.wikidata.org/wiki/Q18202413%23P39>Q18202413</a>  - <a href=http://www.riksdagen.se/sv/ledamoter-partier/ledamot/_c2917e84-a1f8-4de8-9c71-a492eee1f43f>Riksdagen</a> <a href=http://data.riksdagen.se/personlista/?utformat=json&iid=c2917e84-a1f8-4de8-9c71-a492eee1f43f>json</a>"
      ],
      "text/plain": [
       "<IPython.core.display.HTML object>"
      ]
     },
     "metadata": {},
     "output_type": "display_data"
    },
    {
     "data": {
      "text/html": [
       "26: <a href=http://sv.wikipedia.org/wiki/Anna%20Johansson%20%28socialdemokrat%29>Anna Johansson (socialdemokrat)</a> - <a href=http://www.wikidata.org/wiki/Q4956893%23P39>Q4956893</a>  - <a href=http://www.riksdagen.se/sv/ledamoter-partier/ledamot/_9fd034bc-17ce-471b-b78c-94e03b34f7a0>Riksdagen</a> <a href=http://data.riksdagen.se/personlista/?utformat=json&iid=9fd034bc-17ce-471b-b78c-94e03b34f7a0>json</a>"
      ],
      "text/plain": [
       "<IPython.core.display.HTML object>"
      ]
     },
     "metadata": {},
     "output_type": "display_data"
    },
    {
     "data": {
      "text/html": [
       "27: <a href=http://sv.wikipedia.org/wiki/Anna%20Sibinska>Anna Sibinska</a> - <a href=http://www.wikidata.org/wiki/Q57168710%23P39>Q57168710</a>  - <a href=http://www.riksdagen.se/sv/ledamoter-partier/ledamot/_214d9393-c01e-497c-8580-d033b9f57705>Riksdagen</a> <a href=http://data.riksdagen.se/personlista/?utformat=json&iid=214d9393-c01e-497c-8580-d033b9f57705>json</a>"
      ],
      "text/plain": [
       "<IPython.core.display.HTML object>"
      ]
     },
     "metadata": {},
     "output_type": "display_data"
    },
    {
     "data": {
      "text/html": [
       "28: <a href=http://sv.wikipedia.org/wiki/Anna%20Vikstr%C3%B6m%20%28politiker%29>Anna Vikström (politiker)</a> - <a href=http://www.wikidata.org/wiki/Q27107494%23P39>Q27107494</a>  - <a href=http://www.riksdagen.se/sv/ledamoter-partier/ledamot/_fb0337ec-a1b0-440e-b9b4-a48e99fd415c>Riksdagen</a> <a href=http://data.riksdagen.se/personlista/?utformat=json&iid=fb0337ec-a1b0-440e-b9b4-a48e99fd415c>json</a>"
      ],
      "text/plain": [
       "<IPython.core.display.HTML object>"
      ]
     },
     "metadata": {},
     "output_type": "display_data"
    },
    {
     "data": {
      "text/html": [
       "29: <a href=http://sv.wikipedia.org/wiki/Anna%20Wallentheim>Anna Wallentheim</a> - <a href=http://www.wikidata.org/wiki/Q18202414%23P39>Q18202414</a>  - <a href=http://www.riksdagen.se/sv/ledamoter-partier/ledamot/_200035cd-228a-4afa-8849-844f2c1e35fb>Riksdagen</a> <a href=http://data.riksdagen.se/personlista/?utformat=json&iid=200035cd-228a-4afa-8849-844f2c1e35fb>json</a>"
      ],
      "text/plain": [
       "<IPython.core.display.HTML object>"
      ]
     },
     "metadata": {},
     "output_type": "display_data"
    },
    {
     "data": {
      "text/html": [
       "30: <a href=http://sv.wikipedia.org/wiki/Anne-Li%20Sj%C3%B6lund>Anne-Li Sjölund</a> - <a href=http://www.wikidata.org/wiki/Q99541757%23P39>Q99541757</a>  - <a href=http://www.riksdagen.se/sv/ledamoter-partier/ledamot/_4777adeb-0a0f-4154-ace9-0c5f149f228b>Riksdagen</a> <a href=http://data.riksdagen.se/personlista/?utformat=json&iid=4777adeb-0a0f-4154-ace9-0c5f149f228b>json</a>"
      ],
      "text/plain": [
       "<IPython.core.display.HTML object>"
      ]
     },
     "metadata": {},
     "output_type": "display_data"
    },
    {
     "data": {
      "text/html": [
       "31: <a href=http://sv.wikipedia.org/wiki/Anne%20Oskarsson>Anne Oskarsson</a> - <a href=http://www.wikidata.org/wiki/Q71063276%23P39>Q71063276</a>  - <a href=http://www.riksdagen.se/sv/ledamoter-partier/ledamot/_314fe869-7e6c-441f-8d1f-5ab2c6052f1d>Riksdagen</a> <a href=http://data.riksdagen.se/personlista/?utformat=json&iid=314fe869-7e6c-441f-8d1f-5ab2c6052f1d>json</a>"
      ],
      "text/plain": [
       "<IPython.core.display.HTML object>"
      ]
     },
     "metadata": {},
     "output_type": "display_data"
    },
    {
     "data": {
      "text/html": [
       "32: <a href=http://sv.wikipedia.org/wiki/Annelie%20Karlsson>Annelie Karlsson</a> - <a href=http://www.wikidata.org/wiki/Q4958102%23P39>Q4958102</a>  - <a href=http://www.riksdagen.se/sv/ledamoter-partier/ledamot/_cbadd933-3375-4216-92fd-3d64a56b5a13>Riksdagen</a> <a href=http://data.riksdagen.se/personlista/?utformat=json&iid=cbadd933-3375-4216-92fd-3d64a56b5a13>json</a>"
      ],
      "text/plain": [
       "<IPython.core.display.HTML object>"
      ]
     },
     "metadata": {},
     "output_type": "display_data"
    },
    {
     "data": {
      "text/html": [
       "33: <a href=http://sv.wikipedia.org/wiki/Annicka%20Engblom>Annicka Engblom</a> - <a href=http://www.wikidata.org/wiki/Q4769201%23P39>Q4769201</a>  - <a href=http://www.riksdagen.se/sv/ledamoter-partier/ledamot/_23c1d1cc-f2a2-47f1-b144-0d52a464791a>Riksdagen</a> <a href=http://data.riksdagen.se/personlista/?utformat=json&iid=23c1d1cc-f2a2-47f1-b144-0d52a464791a>json</a>"
      ],
      "text/plain": [
       "<IPython.core.display.HTML object>"
      ]
     },
     "metadata": {},
     "output_type": "display_data"
    },
    {
     "data": {
      "text/html": [
       "34: <a href=http://sv.wikipedia.org/wiki/Annie%20L%C3%B6%C3%B6f>Annie Lööf</a> - <a href=http://www.wikidata.org/wiki/Q439393%23P39>Q439393</a>  - <a href=http://www.riksdagen.se/sv/ledamoter-partier/ledamot/_e234524d-e04b-448a-b609-05926a0a8b36>Riksdagen</a> <a href=http://data.riksdagen.se/personlista/?utformat=json&iid=e234524d-e04b-448a-b609-05926a0a8b36>json</a>"
      ],
      "text/plain": [
       "<IPython.core.display.HTML object>"
      ]
     },
     "metadata": {},
     "output_type": "display_data"
    },
    {
     "data": {
      "text/html": [
       "35: <a href=http://sv.wikipedia.org/wiki/Annika%20Hirvonen>Annika Hirvonen</a> - <a href=http://www.wikidata.org/wiki/Q18242588%23P39>Q18242588</a>  - <a href=http://www.riksdagen.se/sv/ledamoter-partier/ledamot/_a9346ffe-2c1f-4e2b-b686-d8248a3d0db2>Riksdagen</a> <a href=http://data.riksdagen.se/personlista/?utformat=json&iid=a9346ffe-2c1f-4e2b-b686-d8248a3d0db2>json</a>"
      ],
      "text/plain": [
       "<IPython.core.display.HTML object>"
      ]
     },
     "metadata": {},
     "output_type": "display_data"
    },
    {
     "data": {
      "text/html": [
       "36: <a href=http://sv.wikipedia.org/wiki/Annika%20Qarlsson>Annika Qarlsson</a> - <a href=http://www.wikidata.org/wiki/Q4769498%23P39>Q4769498</a>  - <a href=http://www.riksdagen.se/sv/ledamoter-partier/ledamot/_238444e1-ea5f-4acc-b9d1-b7789658b931>Riksdagen</a> <a href=http://data.riksdagen.se/personlista/?utformat=json&iid=238444e1-ea5f-4acc-b9d1-b7789658b931>json</a>"
      ],
      "text/plain": [
       "<IPython.core.display.HTML object>"
      ]
     },
     "metadata": {},
     "output_type": "display_data"
    },
    {
     "data": {
      "text/html": [
       "37: <a href=http://sv.wikipedia.org/wiki/Annika%20Strandh%C3%A4ll>Annika Strandhäll</a> - <a href=http://www.wikidata.org/wiki/Q4980750%23P39>Q4980750</a>  - <a href=http://www.riksdagen.se/sv/ledamoter-partier/ledamot/_83b5647b-ccf4-4398-aefb-6d93152f951b>Riksdagen</a> <a href=http://data.riksdagen.se/personlista/?utformat=json&iid=83b5647b-ccf4-4398-aefb-6d93152f951b>json</a>"
      ],
      "text/plain": [
       "<IPython.core.display.HTML object>"
      ]
     },
     "metadata": {},
     "output_type": "display_data"
    },
    {
     "data": {
      "text/html": [
       "38: <a href=http://sv.wikipedia.org/wiki/Aphram%20Melki>Aphram Melki</a> - <a href=http://www.wikidata.org/wiki/Q108765984%23P39>Q108765984</a>  - <a href=http://www.riksdagen.se/sv/ledamoter-partier/ledamot/_474786eb-b958-46d1-9966-cc545749d362>Riksdagen</a> <a href=http://data.riksdagen.se/personlista/?utformat=json&iid=474786eb-b958-46d1-9966-cc545749d362>json</a>"
      ],
      "text/plain": [
       "<IPython.core.display.HTML object>"
      ]
     },
     "metadata": {},
     "output_type": "display_data"
    },
    {
     "data": {
      "text/html": [
       "39: <a href=http://sv.wikipedia.org/wiki/Arin%20Karapet>Arin Karapet</a> - <a href=http://www.wikidata.org/wiki/Q70529257%23P39>Q70529257</a>  - <a href=http://www.riksdagen.se/sv/ledamoter-partier/ledamot/_2658d745-0315-41b7-926c-f136a7803b88>Riksdagen</a> <a href=http://data.riksdagen.se/personlista/?utformat=json&iid=2658d745-0315-41b7-926c-f136a7803b88>json</a>"
      ],
      "text/plain": [
       "<IPython.core.display.HTML object>"
      ]
     },
     "metadata": {},
     "output_type": "display_data"
    },
    {
     "data": {
      "text/html": [
       "40: <a href=http://sv.wikipedia.org/wiki/Arman%20Teimouri>Arman Teimouri</a> - <a href=http://www.wikidata.org/wiki/Q56743173%23P39>Q56743173</a>  - <a href=http://www.riksdagen.se/sv/ledamoter-partier/ledamot/_92355c36-d95d-42ed-9ad9-463bf9558767>Riksdagen</a> <a href=http://data.riksdagen.se/personlista/?utformat=json&iid=92355c36-d95d-42ed-9ad9-463bf9558767>json</a>"
      ],
      "text/plain": [
       "<IPython.core.display.HTML object>"
      ]
     },
     "metadata": {},
     "output_type": "display_data"
    },
    {
     "data": {
      "text/html": [
       "41: <a href=http://sv.wikipedia.org/wiki/Aron%20Emilsson>Aron Emilsson</a> - <a href=http://www.wikidata.org/wiki/Q18238607%23P39>Q18238607</a>  - <a href=http://www.riksdagen.se/sv/ledamoter-partier/ledamot/_fc43f0dc-4fc1-4e6e-ba11-5b74b20a12b2>Riksdagen</a> <a href=http://data.riksdagen.se/personlista/?utformat=json&iid=fc43f0dc-4fc1-4e6e-ba11-5b74b20a12b2>json</a>"
      ],
      "text/plain": [
       "<IPython.core.display.HTML object>"
      ]
     },
     "metadata": {},
     "output_type": "display_data"
    },
    {
     "data": {
      "text/html": [
       "42: <a href=http://sv.wikipedia.org/wiki/Axel%20Hallberg>Axel Hallberg</a> - <a href=http://www.wikidata.org/wiki/Q42393729%23P39>Q42393729</a>  - <a href=http://www.riksdagen.se/sv/ledamoter-partier/ledamot/_839960b7-7e73-41f6-a590-ff7d7301a868>Riksdagen</a> <a href=http://data.riksdagen.se/personlista/?utformat=json&iid=839960b7-7e73-41f6-a590-ff7d7301a868>json</a>"
      ],
      "text/plain": [
       "<IPython.core.display.HTML object>"
      ]
     },
     "metadata": {},
     "output_type": "display_data"
    },
    {
     "data": {
      "text/html": [
       "43: <a href=http://sv.wikipedia.org/wiki/Azadeh%20Rojhan%20Gustafsson>Azadeh Rojhan Gustafsson</a> - <a href=http://www.wikidata.org/wiki/Q18245444%23P39>Q18245444</a>  - <a href=http://www.riksdagen.se/sv/ledamoter-partier/ledamot/_c325b529-3455-44a2-acd2-597698b321a6>Riksdagen</a> <a href=http://data.riksdagen.se/personlista/?utformat=json&iid=c325b529-3455-44a2-acd2-597698b321a6>json</a>"
      ],
      "text/plain": [
       "<IPython.core.display.HTML object>"
      ]
     },
     "metadata": {},
     "output_type": "display_data"
    },
    {
     "data": {
      "text/html": [
       "44: <a href=http://sv.wikipedia.org/wiki/Barbro%20Westerholm>Barbro Westerholm</a> - <a href=http://www.wikidata.org/wiki/Q4859755%23P39>Q4859755</a>  - <a href=http://www.riksdagen.se/sv/ledamoter-partier/ledamot/_e7e41401-b4df-11d5-8079-0040ca16072a>Riksdagen</a> <a href=http://data.riksdagen.se/personlista/?utformat=json&iid=e7e41401-b4df-11d5-8079-0040ca16072a>json</a>"
      ],
      "text/plain": [
       "<IPython.core.display.HTML object>"
      ]
     },
     "metadata": {},
     "output_type": "display_data"
    },
    {
     "data": {
      "text/html": [
       "45: <a href=http://sv.wikipedia.org/wiki/Bengt%20Eliasson>Bengt Eliasson</a> - <a href=http://www.wikidata.org/wiki/Q18747077%23P39>Q18747077</a>  - <a href=http://www.riksdagen.se/sv/ledamoter-partier/ledamot/_18cd4aa9-d266-4c2b-bcaa-6118032ece49>Riksdagen</a> <a href=http://data.riksdagen.se/personlista/?utformat=json&iid=18cd4aa9-d266-4c2b-bcaa-6118032ece49>json</a>"
      ],
      "text/plain": [
       "<IPython.core.display.HTML object>"
      ]
     },
     "metadata": {},
     "output_type": "display_data"
    },
    {
     "data": {
      "text/html": [
       "46: <a href=http://sv.wikipedia.org/wiki/Betty%20Malmberg>Betty Malmberg</a> - <a href=http://www.wikidata.org/wiki/Q4898916%23P39>Q4898916</a>  - <a href=http://www.riksdagen.se/sv/ledamoter-partier/ledamot/_e32075e3-a115-4add-8652-4993f2f8d8ab>Riksdagen</a> <a href=http://data.riksdagen.se/personlista/?utformat=json&iid=e32075e3-a115-4add-8652-4993f2f8d8ab>json</a>"
      ],
      "text/plain": [
       "<IPython.core.display.HTML object>"
      ]
     },
     "metadata": {},
     "output_type": "display_data"
    },
    {
     "data": {
      "text/html": [
       "47: <a href=http://sv.wikipedia.org/wiki/Birger%20Lahti>Birger Lahti</a> - <a href=http://www.wikidata.org/wiki/Q18243576%23P39>Q18243576</a>  - <a href=http://www.riksdagen.se/sv/ledamoter-partier/ledamot/_a2c4e9f3-6d4a-4994-9351-66ce4c752905>Riksdagen</a> <a href=http://data.riksdagen.se/personlista/?utformat=json&iid=a2c4e9f3-6d4a-4994-9351-66ce4c752905>json</a>"
      ],
      "text/plain": [
       "<IPython.core.display.HTML object>"
      ]
     },
     "metadata": {},
     "output_type": "display_data"
    },
    {
     "data": {
      "text/html": [
       "48: <a href=http://sv.wikipedia.org/wiki/Bj%C3%B6rn%20Petersson>Björn Petersson</a> - <a href=http://www.wikidata.org/wiki/Q62287028%23P39>Q62287028</a>  - <a href=http://www.riksdagen.se/sv/ledamoter-partier/ledamot/_d2d94e0b-a745-4457-8c2f-9557caf78cdf>Riksdagen</a> <a href=http://data.riksdagen.se/personlista/?utformat=json&iid=d2d94e0b-a745-4457-8c2f-9557caf78cdf>json</a>"
      ],
      "text/plain": [
       "<IPython.core.display.HTML object>"
      ]
     },
     "metadata": {},
     "output_type": "display_data"
    },
    {
     "data": {
      "text/html": [
       "49: <a href=http://sv.wikipedia.org/wiki/Bj%C3%B6rn%20S%C3%B6der>Björn Söder</a> - <a href=http://www.wikidata.org/wiki/Q4919772%23P39>Q4919772</a>  - <a href=http://www.riksdagen.se/sv/ledamoter-partier/ledamot/_06d7c195-c170-4103-bcc6-1d9c0d43b169>Riksdagen</a> <a href=http://data.riksdagen.se/personlista/?utformat=json&iid=06d7c195-c170-4103-bcc6-1d9c0d43b169>json</a>"
      ],
      "text/plain": [
       "<IPython.core.display.HTML object>"
      ]
     },
     "metadata": {},
     "output_type": "display_data"
    },
    {
     "data": {
      "text/html": [
       "50: <a href=http://sv.wikipedia.org/wiki/Bj%C3%B6rn%20Wiechel>Björn Wiechel</a> - <a href=http://www.wikidata.org/wiki/Q20156222%23P39>Q20156222</a>  - <a href=http://www.riksdagen.se/sv/ledamoter-partier/ledamot/_7ef75999-90a2-41af-a083-6dfd70e8e3e8>Riksdagen</a> <a href=http://data.riksdagen.se/personlista/?utformat=json&iid=7ef75999-90a2-41af-a083-6dfd70e8e3e8>json</a>"
      ],
      "text/plain": [
       "<IPython.core.display.HTML object>"
      ]
     },
     "metadata": {},
     "output_type": "display_data"
    },
    {
     "data": {
      "text/html": [
       "51: <a href=http://sv.wikipedia.org/wiki/Bo%20Broman>Bo Broman</a> - <a href=http://www.wikidata.org/wiki/Q70912742%23P39>Q70912742</a>  - <a href=http://www.riksdagen.se/sv/ledamoter-partier/ledamot/_24c753af-11ea-4c6f-90f9-f4142fc71e19>Riksdagen</a> <a href=http://data.riksdagen.se/personlista/?utformat=json&iid=24c753af-11ea-4c6f-90f9-f4142fc71e19>json</a>"
      ],
      "text/plain": [
       "<IPython.core.display.HTML object>"
      ]
     },
     "metadata": {},
     "output_type": "display_data"
    },
    {
     "data": {
      "text/html": [
       "52: <a href=http://sv.wikipedia.org/wiki/Boriana%20%C3%85berg>Boriana Åberg</a> - <a href=http://www.wikidata.org/wiki/Q4990984%23P39>Q4990984</a>  - <a href=http://www.riksdagen.se/sv/ledamoter-partier/ledamot/_d3628aa4-ea6a-4466-8e2c-f3d0cb2d9cad>Riksdagen</a> <a href=http://data.riksdagen.se/personlista/?utformat=json&iid=d3628aa4-ea6a-4466-8e2c-f3d0cb2d9cad>json</a>"
      ],
      "text/plain": [
       "<IPython.core.display.HTML object>"
      ]
     },
     "metadata": {},
     "output_type": "display_data"
    },
    {
     "data": {
      "text/html": [
       "53: <a href=http://sv.wikipedia.org/wiki/Camilla%20Brodin>Camilla Brodin</a> - <a href=http://www.wikidata.org/wiki/Q63870850%23P39>Q63870850</a>  - <a href=http://www.riksdagen.se/sv/ledamoter-partier/ledamot/_86c365a5-452c-4bca-8871-45bf67a44645>Riksdagen</a> <a href=http://data.riksdagen.se/personlista/?utformat=json&iid=86c365a5-452c-4bca-8871-45bf67a44645>json</a>"
      ],
      "text/plain": [
       "<IPython.core.display.HTML object>"
      ]
     },
     "metadata": {},
     "output_type": "display_data"
    },
    {
     "data": {
      "text/html": [
       "54: <a href=http://sv.wikipedia.org/wiki/Camilla%20Hans%C3%A9n>Camilla Hansén</a> - <a href=http://www.wikidata.org/wiki/Q22923559%23P39>Q22923559</a>  - <a href=http://www.riksdagen.se/sv/ledamoter-partier/ledamot/_94f81deb-b316-4a83-8712-1e4d9f102ec2>Riksdagen</a> <a href=http://data.riksdagen.se/personlista/?utformat=json&iid=94f81deb-b316-4a83-8712-1e4d9f102ec2>json</a>"
      ],
      "text/plain": [
       "<IPython.core.display.HTML object>"
      ]
     },
     "metadata": {},
     "output_type": "display_data"
    },
    {
     "data": {
      "text/html": [
       "55: <a href=http://sv.wikipedia.org/wiki/Camilla%20Waltersson%20Gr%C3%B6nvall>Camilla Waltersson Grönvall</a> - <a href=http://www.wikidata.org/wiki/Q4990177%23P39>Q4990177</a>  - <a href=http://www.riksdagen.se/sv/ledamoter-partier/ledamot/_e581b273-02ee-4cb3-9390-35ea0061eca1>Riksdagen</a> <a href=http://data.riksdagen.se/personlista/?utformat=json&iid=e581b273-02ee-4cb3-9390-35ea0061eca1>json</a>"
      ],
      "text/plain": [
       "<IPython.core.display.HTML object>"
      ]
     },
     "metadata": {},
     "output_type": "display_data"
    },
    {
     "data": {
      "text/html": [
       "56: <a href=http://sv.wikipedia.org/wiki/Carina%20Ohlsson>Carina Ohlsson</a> - <a href=http://www.wikidata.org/wiki/Q3363827%23P39>Q3363827</a>  - <a href=http://www.riksdagen.se/sv/ledamoter-partier/ledamot/_d7c3279d-83e4-11d4-ae60-0050040c9b55>Riksdagen</a> <a href=http://data.riksdagen.se/personlista/?utformat=json&iid=d7c3279d-83e4-11d4-ae60-0050040c9b55>json</a>"
      ],
      "text/plain": [
       "<IPython.core.display.HTML object>"
      ]
     },
     "metadata": {},
     "output_type": "display_data"
    },
    {
     "data": {
      "text/html": [
       "57: <a href=http://sv.wikipedia.org/wiki/Carina%20St%C3%A5hl%20Herrstedt>Carina Ståhl Herrstedt</a> - <a href=http://www.wikidata.org/wiki/Q4988712%23P39>Q4988712</a>  - <a href=http://www.riksdagen.se/sv/ledamoter-partier/ledamot/_96fd915b-03e4-436a-9fbd-879f0737d828>Riksdagen</a> <a href=http://data.riksdagen.se/personlista/?utformat=json&iid=96fd915b-03e4-436a-9fbd-879f0737d828>json</a>"
      ],
      "text/plain": [
       "<IPython.core.display.HTML object>"
      ]
     },
     "metadata": {},
     "output_type": "display_data"
    },
    {
     "data": {
      "text/html": [
       "58: <a href=http://sv.wikipedia.org/wiki/Carina%20%C3%96debrink>Carina Ödebrink</a> - <a href=http://www.wikidata.org/wiki/Q57168837%23P39>Q57168837</a>  - <a href=http://www.riksdagen.se/sv/ledamoter-partier/ledamot/_10b75fcf-dbac-4fba-9773-7e8889c237b2>Riksdagen</a> <a href=http://data.riksdagen.se/personlista/?utformat=json&iid=10b75fcf-dbac-4fba-9773-7e8889c237b2>json</a>"
      ],
      "text/plain": [
       "<IPython.core.display.HTML object>"
      ]
     },
     "metadata": {},
     "output_type": "display_data"
    },
    {
     "data": {
      "text/html": [
       "59: <a href=http://sv.wikipedia.org/wiki/Carl-Oskar%20Bohlin>Carl-Oskar Bohlin</a> - <a href=http://www.wikidata.org/wiki/Q5580727%23P39>Q5580727</a>  - <a href=http://www.riksdagen.se/sv/ledamoter-partier/ledamot/_7223f863-4406-4833-8f54-ed21dd2ccbc3>Riksdagen</a> <a href=http://data.riksdagen.se/personlista/?utformat=json&iid=7223f863-4406-4833-8f54-ed21dd2ccbc3>json</a>"
      ],
      "text/plain": [
       "<IPython.core.display.HTML object>"
      ]
     },
     "metadata": {},
     "output_type": "display_data"
    },
    {
     "data": {
      "text/html": [
       "60: <a href=http://sv.wikipedia.org/wiki/Caroline%20Helmersson%20Olsson>Caroline Helmersson Olsson</a> - <a href=http://www.wikidata.org/wiki/Q3374751%23P39>Q3374751</a>  - <a href=http://www.riksdagen.se/sv/ledamoter-partier/ledamot/_ae67201e-c2ea-4c8d-8a62-54f12be55778>Riksdagen</a> <a href=http://data.riksdagen.se/personlista/?utformat=json&iid=ae67201e-c2ea-4c8d-8a62-54f12be55778>json</a>"
      ],
      "text/plain": [
       "<IPython.core.display.HTML object>"
      ]
     },
     "metadata": {},
     "output_type": "display_data"
    },
    {
     "data": {
      "text/html": [
       "61: <a href=http://sv.wikipedia.org/wiki/Caroline%20Nordengrip>Caroline Nordengrip</a> - <a href=http://www.wikidata.org/wiki/Q71453214%23P39>Q71453214</a>  - <a href=http://www.riksdagen.se/sv/ledamoter-partier/ledamot/_54ecece4-3002-4cff-a4f2-f463efb2affb>Riksdagen</a> <a href=http://data.riksdagen.se/personlista/?utformat=json&iid=54ecece4-3002-4cff-a4f2-f463efb2affb>json</a>"
      ],
      "text/plain": [
       "<IPython.core.display.HTML object>"
      ]
     },
     "metadata": {},
     "output_type": "display_data"
    },
    {
     "data": {
      "text/html": [
       "62: <a href=http://sv.wikipedia.org/wiki/Cassandra%20Sundin>Cassandra Sundin</a> - <a href=http://www.wikidata.org/wiki/Q18246234%23P39>Q18246234</a>  - <a href=http://www.riksdagen.se/sv/ledamoter-partier/ledamot/_e59e1306-99aa-4644-8fda-d54ff040ce98>Riksdagen</a> <a href=http://data.riksdagen.se/personlista/?utformat=json&iid=e59e1306-99aa-4644-8fda-d54ff040ce98>json</a>"
      ],
      "text/plain": [
       "<IPython.core.display.HTML object>"
      ]
     },
     "metadata": {},
     "output_type": "display_data"
    },
    {
     "data": {
      "text/html": [
       "63: <a href=http://sv.wikipedia.org/wiki/Catarina%20Deremar>Catarina Deremar</a> - <a href=http://www.wikidata.org/wiki/Q104215904%23P39>Q104215904</a>  - <a href=http://www.riksdagen.se/sv/ledamoter-partier/ledamot/_0f4ba90a-2db5-4fa8-b583-3f96edca5028>Riksdagen</a> <a href=http://data.riksdagen.se/personlista/?utformat=json&iid=0f4ba90a-2db5-4fa8-b583-3f96edca5028>json</a>"
      ],
      "text/plain": [
       "<IPython.core.display.HTML object>"
      ]
     },
     "metadata": {},
     "output_type": "display_data"
    },
    {
     "data": {
      "text/html": [
       "64: <a href=http://sv.wikipedia.org/wiki/Cecilia%20Widegren>Cecilia Widegren</a> - <a href=http://www.wikidata.org/wiki/Q4990451%23P39>Q4990451</a>  - <a href=http://www.riksdagen.se/sv/ledamoter-partier/ledamot/_8a611e75-37ca-434d-9767-9fb3b60ea82f>Riksdagen</a> <a href=http://data.riksdagen.se/personlista/?utformat=json&iid=8a611e75-37ca-434d-9767-9fb3b60ea82f>json</a>"
      ],
      "text/plain": [
       "<IPython.core.display.HTML object>"
      ]
     },
     "metadata": {},
     "output_type": "display_data"
    },
    {
     "data": {
      "text/html": [
       "65: <a href=http://sv.wikipedia.org/wiki/Cecilie%20Tenfjord-Toftby>Cecilie Tenfjord-Toftby</a> - <a href=http://www.wikidata.org/wiki/Q4982318%23P39>Q4982318</a>  - <a href=http://www.riksdagen.se/sv/ledamoter-partier/ledamot/_4c83b0e0-8dda-47a4-9464-81c56db30430>Riksdagen</a> <a href=http://data.riksdagen.se/personlista/?utformat=json&iid=4c83b0e0-8dda-47a4-9464-81c56db30430>json</a>"
      ],
      "text/plain": [
       "<IPython.core.display.HTML object>"
      ]
     },
     "metadata": {},
     "output_type": "display_data"
    },
    {
     "name": "stdout",
     "output_type": "stream",
     "text": [
      "\t saknar Riksdagens GUID i Wikidata: \tCenterpartiet\n"
     ]
    },
    {
     "data": {
      "text/html": [
       "66: <a href=http://sv.wikipedia.org/wiki/Charlotte%20Quensel>Charlotte Quensel</a> - <a href=http://www.wikidata.org/wiki/Q71455806%23P39>Q71455806</a>  - <a href=http://www.riksdagen.se/sv/ledamoter-partier/ledamot/_a4dcaec3-1333-46f3-a7df-632d40399505>Riksdagen</a> <a href=http://data.riksdagen.se/personlista/?utformat=json&iid=a4dcaec3-1333-46f3-a7df-632d40399505>json</a>"
      ],
      "text/plain": [
       "<IPython.core.display.HTML object>"
      ]
     },
     "metadata": {},
     "output_type": "display_data"
    },
    {
     "data": {
      "text/html": [
       "67: <a href=http://sv.wikipedia.org/wiki/Christer%20Nylander>Christer Nylander</a> - <a href=http://www.wikidata.org/wiki/Q5109199%23P39>Q5109199</a>  - <a href=http://www.riksdagen.se/sv/ledamoter-partier/ledamot/_f03ff4a2-c476-11d4-ae40-006008578ce8>Riksdagen</a> <a href=http://data.riksdagen.se/personlista/?utformat=json&iid=f03ff4a2-c476-11d4-ae40-006008578ce8>json</a>"
      ],
      "text/plain": [
       "<IPython.core.display.HTML object>"
      ]
     },
     "metadata": {},
     "output_type": "display_data"
    },
    {
     "data": {
      "text/html": [
       "68: <a href=http://sv.wikipedia.org/wiki/Christina%20H%C3%B6j%20Larsen>Christina Höj Larsen</a> - <a href=http://www.wikidata.org/wiki/Q4955459%23P39>Q4955459</a>  - <a href=http://www.riksdagen.se/sv/ledamoter-partier/ledamot/_74612723-9c78-4dbd-b635-1309681dea16>Riksdagen</a> <a href=http://data.riksdagen.se/personlista/?utformat=json&iid=74612723-9c78-4dbd-b635-1309681dea16>json</a>"
      ],
      "text/plain": [
       "<IPython.core.display.HTML object>"
      ]
     },
     "metadata": {},
     "output_type": "display_data"
    },
    {
     "data": {
      "text/html": [
       "69: <a href=http://sv.wikipedia.org/wiki/Christina%20Nilsson%20%28sverigedemokrat%29>Christina Nilsson (sverigedemokrat)</a> - <a href=http://www.wikidata.org/wiki/Q108986522%23P39>Q108986522</a>  - <a href=http://www.riksdagen.se/sv/ledamoter-partier/ledamot/_3c4bc558-e433-4a72-a08b-c8d6a40c5ef8>Riksdagen</a> <a href=http://data.riksdagen.se/personlista/?utformat=json&iid=3c4bc558-e433-4a72-a08b-c8d6a40c5ef8>json</a>"
      ],
      "text/plain": [
       "<IPython.core.display.HTML object>"
      ]
     },
     "metadata": {},
     "output_type": "display_data"
    },
    {
     "data": {
      "text/html": [
       "70: <a href=http://sv.wikipedia.org/wiki/Christina%20Tapper%20%C3%96stberg>Christina Tapper Östberg</a> - <a href=http://www.wikidata.org/wiki/Q18246550%23P39>Q18246550</a>  - <a href=http://www.riksdagen.se/sv/ledamoter-partier/ledamot/_aa5e595b-e755-4a4e-a457-ea289ad1add3>Riksdagen</a> <a href=http://data.riksdagen.se/personlista/?utformat=json&iid=aa5e595b-e755-4a4e-a457-ea289ad1add3>json</a>"
      ],
      "text/plain": [
       "<IPython.core.display.HTML object>"
      ]
     },
     "metadata": {},
     "output_type": "display_data"
    },
    {
     "data": {
      "text/html": [
       "71: <a href=http://sv.wikipedia.org/wiki/Ciczie%20Weidby>Ciczie Weidby</a> - <a href=http://www.wikidata.org/wiki/Q57168740%23P39>Q57168740</a>  - <a href=http://www.riksdagen.se/sv/ledamoter-partier/ledamot/_b34f05f5-d73a-428c-88a1-4e112c650498>Riksdagen</a> <a href=http://data.riksdagen.se/personlista/?utformat=json&iid=b34f05f5-d73a-428c-88a1-4e112c650498>json</a>"
      ],
      "text/plain": [
       "<IPython.core.display.HTML object>"
      ]
     },
     "metadata": {},
     "output_type": "display_data"
    },
    {
     "data": {
      "text/html": [
       "72: <a href=http://sv.wikipedia.org/wiki/Clara%20Aranda>Clara Aranda</a> - <a href=http://www.wikidata.org/wiki/Q70886056%23P39>Q70886056</a>  - <a href=http://www.riksdagen.se/sv/ledamoter-partier/ledamot/_6977f22f-363b-40fb-8f8f-8163b4492345>Riksdagen</a> <a href=http://data.riksdagen.se/personlista/?utformat=json&iid=6977f22f-363b-40fb-8f8f-8163b4492345>json</a>"
      ],
      "text/plain": [
       "<IPython.core.display.HTML object>"
      ]
     },
     "metadata": {},
     "output_type": "display_data"
    },
    {
     "data": {
      "text/html": [
       "73: <a href=http://sv.wikipedia.org/wiki/Clas-G%C3%B6ran%20Carlsson>Clas-Göran Carlsson</a> - <a href=http://www.wikidata.org/wiki/Q4887285%23P39>Q4887285</a>  - <a href=http://www.riksdagen.se/sv/ledamoter-partier/ledamot/_34f7ceb6-9f7c-4b37-a15e-1c61ffa639e5>Riksdagen</a> <a href=http://data.riksdagen.se/personlista/?utformat=json&iid=34f7ceb6-9f7c-4b37-a15e-1c61ffa639e5>json</a>"
      ],
      "text/plain": [
       "<IPython.core.display.HTML object>"
      ]
     },
     "metadata": {},
     "output_type": "display_data"
    },
    {
     "data": {
      "text/html": [
       "74: <a href=http://sv.wikipedia.org/wiki/Dag%20Larsson%20%28politiker%29>Dag Larsson (politiker)</a> - <a href=http://www.wikidata.org/wiki/Q5937190%23P39>Q5937190</a>  - <a href=http://www.riksdagen.se/sv/ledamoter-partier/ledamot/_56a35546-926b-4ac3-a101-a157de119e00>Riksdagen</a> <a href=http://data.riksdagen.se/personlista/?utformat=json&iid=56a35546-926b-4ac3-a101-a157de119e00>json</a>"
      ],
      "text/plain": [
       "<IPython.core.display.HTML object>"
      ]
     },
     "metadata": {},
     "output_type": "display_data"
    },
    {
     "data": {
      "text/html": [
       "75: <a href=http://sv.wikipedia.org/wiki/Daniel%20Andersson%20%28politiker%29>Daniel Andersson (politiker)</a> - <a href=http://www.wikidata.org/wiki/Q74566289%23P39>Q74566289</a>  - <a href=http://www.riksdagen.se/sv/ledamoter-partier/ledamot/_a9ffa63a-bd3e-4f78-ab3d-5228673ff370>Riksdagen</a> <a href=http://data.riksdagen.se/personlista/?utformat=json&iid=a9ffa63a-bd3e-4f78-ab3d-5228673ff370>json</a>"
      ],
      "text/plain": [
       "<IPython.core.display.HTML object>"
      ]
     },
     "metadata": {},
     "output_type": "display_data"
    },
    {
     "data": {
      "text/html": [
       "76: <a href=http://sv.wikipedia.org/wiki/Daniel%20B%C3%A4ckstr%C3%B6m>Daniel Bäckström</a> - <a href=http://www.wikidata.org/wiki/Q18600515%23P39>Q18600515</a>  - <a href=http://www.riksdagen.se/sv/ledamoter-partier/ledamot/_d9b65520-dba2-4ec1-a124-d89d667ebf37>Riksdagen</a> <a href=http://data.riksdagen.se/personlista/?utformat=json&iid=d9b65520-dba2-4ec1-a124-d89d667ebf37>json</a>"
      ],
      "text/plain": [
       "<IPython.core.display.HTML object>"
      ]
     },
     "metadata": {},
     "output_type": "display_data"
    },
    {
     "data": {
      "text/html": [
       "77: <a href=http://sv.wikipedia.org/wiki/Daniel%20Riazat>Daniel Riazat</a> - <a href=http://www.wikidata.org/wiki/Q18245374%23P39>Q18245374</a>  - <a href=http://www.riksdagen.se/sv/ledamoter-partier/ledamot/_b00db2a8-378a-440c-982e-af62d234ed95>Riksdagen</a> <a href=http://data.riksdagen.se/personlista/?utformat=json&iid=b00db2a8-378a-440c-982e-af62d234ed95>json</a>"
      ],
      "text/plain": [
       "<IPython.core.display.HTML object>"
      ]
     },
     "metadata": {},
     "output_type": "display_data"
    },
    {
     "data": {
      "text/html": [
       "78: <a href=http://sv.wikipedia.org/wiki/David%20L%C3%A5ng>David Lång</a> - <a href=http://www.wikidata.org/wiki/Q5969249%23P39>Q5969249</a>  - <a href=http://www.riksdagen.se/sv/ledamoter-partier/ledamot/_1b1880b5-b042-47b6-8669-8a51e1908365>Riksdagen</a> <a href=http://data.riksdagen.se/personlista/?utformat=json&iid=1b1880b5-b042-47b6-8669-8a51e1908365>json</a>"
      ],
      "text/plain": [
       "<IPython.core.display.HTML object>"
      ]
     },
     "metadata": {},
     "output_type": "display_data"
    },
    {
     "data": {
      "text/html": [
       "79: <a href=http://sv.wikipedia.org/wiki/David%20Perez>David Perez</a> - <a href=http://www.wikidata.org/wiki/Q96323621%23P39>Q96323621</a>  - <a href=http://www.riksdagen.se/sv/ledamoter-partier/ledamot/_c5cc2c67-3638-430e-bccb-a04db799a9f0>Riksdagen</a> <a href=http://data.riksdagen.se/personlista/?utformat=json&iid=c5cc2c67-3638-430e-bccb-a04db799a9f0>json</a>"
      ],
      "text/plain": [
       "<IPython.core.display.HTML object>"
      ]
     },
     "metadata": {},
     "output_type": "display_data"
    },
    {
     "data": {
      "text/html": [
       "80: <a href=http://sv.wikipedia.org/wiki/Denis%20Begic>Denis Begic</a> - <a href=http://www.wikidata.org/wiki/Q71465386%23P39>Q71465386</a>  - <a href=http://www.riksdagen.se/sv/ledamoter-partier/ledamot/_47705a06-b78d-469f-9ebe-8f7407607be6>Riksdagen</a> <a href=http://data.riksdagen.se/personlista/?utformat=json&iid=47705a06-b78d-469f-9ebe-8f7407607be6>json</a>"
      ],
      "text/plain": [
       "<IPython.core.display.HTML object>"
      ]
     },
     "metadata": {},
     "output_type": "display_data"
    },
    {
     "data": {
      "text/html": [
       "81: <a href=http://sv.wikipedia.org/wiki/Dennis%20Dioukarev>Dennis Dioukarev</a> - <a href=http://www.wikidata.org/wiki/Q18238432%23P39>Q18238432</a>  - <a href=http://www.riksdagen.se/sv/ledamoter-partier/ledamot/_13a59e93-95fe-45fb-b7b5-a76f8181cb4f>Riksdagen</a> <a href=http://data.riksdagen.se/personlista/?utformat=json&iid=13a59e93-95fe-45fb-b7b5-a76f8181cb4f>json</a>"
      ],
      "text/plain": [
       "<IPython.core.display.HTML object>"
      ]
     },
     "metadata": {},
     "output_type": "display_data"
    },
    {
     "data": {
      "text/html": [
       "82: <a href=http://sv.wikipedia.org/wiki/Diana%20Laitinen%20Carlsson>Diana Laitinen Carlsson</a> - <a href=http://www.wikidata.org/wiki/Q99909932%23P39>Q99909932</a>  - <a href=http://www.riksdagen.se/sv/ledamoter-partier/ledamot/_1e88d018-d8e2-4243-b95a-b72a290ccbd7>Riksdagen</a> <a href=http://data.riksdagen.se/personlista/?utformat=json&iid=1e88d018-d8e2-4243-b95a-b72a290ccbd7>json</a>"
      ],
      "text/plain": [
       "<IPython.core.display.HTML object>"
      ]
     },
     "metadata": {},
     "output_type": "display_data"
    },
    {
     "data": {
      "text/html": [
       "83: <a href=http://sv.wikipedia.org/wiki/Ebba%20Busch>Ebba Busch</a> - <a href=http://www.wikidata.org/wiki/Q4941329%23P39>Q4941329</a>  - <a href=http://www.riksdagen.se/sv/ledamoter-partier/ledamot/_b0cce726-5e23-4d21-a609-95071f8820f0>Riksdagen</a> <a href=http://data.riksdagen.se/personlista/?utformat=json&iid=b0cce726-5e23-4d21-a609-95071f8820f0>json</a>"
      ],
      "text/plain": [
       "<IPython.core.display.HTML object>"
      ]
     },
     "metadata": {},
     "output_type": "display_data"
    },
    {
     "data": {
      "text/html": [
       "84: <a href=http://sv.wikipedia.org/wiki/Ebba%20Hermansson>Ebba Hermansson</a> - <a href=http://www.wikidata.org/wiki/Q56669198%23P39>Q56669198</a>  - <a href=http://www.riksdagen.se/sv/ledamoter-partier/ledamot/_109831a1-4305-4376-a3cf-ecc173855d65>Riksdagen</a> <a href=http://data.riksdagen.se/personlista/?utformat=json&iid=109831a1-4305-4376-a3cf-ecc173855d65>json</a>"
      ],
      "text/plain": [
       "<IPython.core.display.HTML object>"
      ]
     },
     "metadata": {},
     "output_type": "display_data"
    },
    {
     "data": {
      "text/html": [
       "85: <a href=http://sv.wikipedia.org/wiki/Edward%20Riedl>Edward Riedl</a> - <a href=http://www.wikidata.org/wiki/Q6071900%23P39>Q6071900</a>  - <a href=http://www.riksdagen.se/sv/ledamoter-partier/ledamot/_eaa4ca85-20f4-4375-8b76-61febbcf37f6>Riksdagen</a> <a href=http://data.riksdagen.se/personlista/?utformat=json&iid=eaa4ca85-20f4-4375-8b76-61febbcf37f6>json</a>"
      ],
      "text/plain": [
       "<IPython.core.display.HTML object>"
      ]
     },
     "metadata": {},
     "output_type": "display_data"
    },
    {
     "data": {
      "text/html": [
       "86: <a href=http://sv.wikipedia.org/wiki/Elin%20Gustafsson%20%28politiker%29>Elin Gustafsson (politiker)</a> - <a href=http://www.wikidata.org/wiki/Q96323985%23P39>Q96323985</a>  - <a href=http://www.riksdagen.se/sv/ledamoter-partier/ledamot/_994eee01-a983-4409-9455-cd915c86d94d>Riksdagen</a> <a href=http://data.riksdagen.se/personlista/?utformat=json&iid=994eee01-a983-4409-9455-cd915c86d94d>json</a>"
      ],
      "text/plain": [
       "<IPython.core.display.HTML object>"
      ]
     },
     "metadata": {},
     "output_type": "display_data"
    },
    {
     "data": {
      "text/html": [
       "87: <a href=http://sv.wikipedia.org/wiki/Elin%20Lundgren>Elin Lundgren</a> - <a href=http://www.wikidata.org/wiki/Q4989123%23P39>Q4989123</a>  - <a href=http://www.riksdagen.se/sv/ledamoter-partier/ledamot/_a6beb479-16a2-443e-b0ea-e9c14639064c>Riksdagen</a> <a href=http://data.riksdagen.se/personlista/?utformat=json&iid=a6beb479-16a2-443e-b0ea-e9c14639064c>json</a>"
      ],
      "text/plain": [
       "<IPython.core.display.HTML object>"
      ]
     },
     "metadata": {},
     "output_type": "display_data"
    },
    {
     "data": {
      "text/html": [
       "88: <a href=http://sv.wikipedia.org/wiki/Elin%20Segerlind>Elin Segerlind</a> - <a href=http://www.wikidata.org/wiki/Q57168773%23P39>Q57168773</a>  - <a href=http://www.riksdagen.se/sv/ledamoter-partier/ledamot/_c5632090-a0aa-461e-9ab2-e9aaa45d0983>Riksdagen</a> <a href=http://data.riksdagen.se/personlista/?utformat=json&iid=c5632090-a0aa-461e-9ab2-e9aaa45d0983>json</a>"
      ],
      "text/plain": [
       "<IPython.core.display.HTML object>"
      ]
     },
     "metadata": {},
     "output_type": "display_data"
    },
    {
     "data": {
      "text/html": [
       "89: <a href=http://sv.wikipedia.org/wiki/Elisabeth%20Bj%C3%B6rnsdotter%20Rahm>Elisabeth Björnsdotter Rahm</a> - <a href=http://www.wikidata.org/wiki/Q4939382%23P39>Q4939382</a>  - <a href=http://www.riksdagen.se/sv/ledamoter-partier/ledamot/_96765f90-7072-436d-8143-264d7cbd7fa9>Riksdagen</a> <a href=http://data.riksdagen.se/personlista/?utformat=json&iid=96765f90-7072-436d-8143-264d7cbd7fa9>json</a>"
      ],
      "text/plain": [
       "<IPython.core.display.HTML object>"
      ]
     },
     "metadata": {},
     "output_type": "display_data"
    },
    {
     "data": {
      "text/html": [
       "90: <a href=http://sv.wikipedia.org/wiki/Elisabeth%20Falkhaven>Elisabeth Falkhaven</a> - <a href=http://www.wikidata.org/wiki/Q57168691%23P39>Q57168691</a>  - <a href=http://www.riksdagen.se/sv/ledamoter-partier/ledamot/_cb53466b-8349-484e-9a7b-084561cdf8b4>Riksdagen</a> <a href=http://data.riksdagen.se/personlista/?utformat=json&iid=cb53466b-8349-484e-9a7b-084561cdf8b4>json</a>"
      ],
      "text/plain": [
       "<IPython.core.display.HTML object>"
      ]
     },
     "metadata": {},
     "output_type": "display_data"
    },
    {
     "data": {
      "text/html": [
       "91: <a href=http://sv.wikipedia.org/wiki/Elisabeth%20Svantesson>Elisabeth Svantesson</a> - <a href=http://www.wikidata.org/wiki/Q4981393%23P39>Q4981393</a>  - <a href=http://www.riksdagen.se/sv/ledamoter-partier/ledamot/_b7538868-d298-4c5f-9098-e42ea9fb13da>Riksdagen</a> <a href=http://data.riksdagen.se/personlista/?utformat=json&iid=b7538868-d298-4c5f-9098-e42ea9fb13da>json</a>"
      ],
      "text/plain": [
       "<IPython.core.display.HTML object>"
      ]
     },
     "metadata": {},
     "output_type": "display_data"
    },
    {
     "data": {
      "text/html": [
       "92: <a href=http://sv.wikipedia.org/wiki/Ellen%20Juntti>Ellen Juntti</a> - <a href=http://www.wikidata.org/wiki/Q4957570%23P39>Q4957570</a>  - <a href=http://www.riksdagen.se/sv/ledamoter-partier/ledamot/_efb2daaa-8053-411f-9fc7-dfcca1395bb0>Riksdagen</a> <a href=http://data.riksdagen.se/personlista/?utformat=json&iid=efb2daaa-8053-411f-9fc7-dfcca1395bb0>json</a>"
      ],
      "text/plain": [
       "<IPython.core.display.HTML object>"
      ]
     },
     "metadata": {},
     "output_type": "display_data"
    },
    {
     "data": {
      "text/html": [
       "93: <a href=http://sv.wikipedia.org/wiki/Emilia%20T%C3%B6yr%C3%A4>Emilia Töyrä</a> - <a href=http://www.wikidata.org/wiki/Q18202407%23P39>Q18202407</a>  - <a href=http://www.riksdagen.se/sv/ledamoter-partier/ledamot/_8e282183-f357-460d-80e3-094d61d40889>Riksdagen</a> <a href=http://data.riksdagen.se/personlista/?utformat=json&iid=8e282183-f357-460d-80e3-094d61d40889>json</a>"
      ],
      "text/plain": [
       "<IPython.core.display.HTML object>"
      ]
     },
     "metadata": {},
     "output_type": "display_data"
    },
    {
     "data": {
      "text/html": [
       "94: <a href=http://sv.wikipedia.org/wiki/Emma%20Hult>Emma Hult</a> - <a href=http://www.wikidata.org/wiki/Q18242665%23P39>Q18242665</a>  - <a href=http://www.riksdagen.se/sv/ledamoter-partier/ledamot/_ae37cc33-2580-4221-aa93-4dd4621ecb98>Riksdagen</a> <a href=http://data.riksdagen.se/personlista/?utformat=json&iid=ae37cc33-2580-4221-aa93-4dd4621ecb98>json</a>"
      ],
      "text/plain": [
       "<IPython.core.display.HTML object>"
      ]
     },
     "metadata": {},
     "output_type": "display_data"
    },
    {
     "data": {
      "text/html": [
       "95: <a href=http://sv.wikipedia.org/wiki/Eric%20Palmqvist>Eric Palmqvist</a> - <a href=http://www.wikidata.org/wiki/Q60144183%23P39>Q60144183</a>  - <a href=http://www.riksdagen.se/sv/ledamoter-partier/ledamot/_fc3b3864-8e29-4fd4-ae65-fe387f3f6f4b>Riksdagen</a> <a href=http://data.riksdagen.se/personlista/?utformat=json&iid=fc3b3864-8e29-4fd4-ae65-fe387f3f6f4b>json</a>"
      ],
      "text/plain": [
       "<IPython.core.display.HTML object>"
      ]
     },
     "metadata": {},
     "output_type": "display_data"
    },
    {
     "data": {
      "text/html": [
       "96: <a href=http://sv.wikipedia.org/wiki/Eric%20Westroth>Eric Westroth</a> - <a href=http://www.wikidata.org/wiki/Q71059733%23P39>Q71059733</a>  - <a href=http://www.riksdagen.se/sv/ledamoter-partier/ledamot/_a7390cef-27c2-4068-800d-ee21b1a94c69>Riksdagen</a> <a href=http://data.riksdagen.se/personlista/?utformat=json&iid=a7390cef-27c2-4068-800d-ee21b1a94c69>json</a>"
      ],
      "text/plain": [
       "<IPython.core.display.HTML object>"
      ]
     },
     "metadata": {},
     "output_type": "display_data"
    },
    {
     "data": {
      "text/html": [
       "97: <a href=http://sv.wikipedia.org/wiki/Erik%20Ezelius>Erik Ezelius</a> - <a href=http://www.wikidata.org/wiki/Q21558211%23P39>Q21558211</a>  - <a href=http://www.riksdagen.se/sv/ledamoter-partier/ledamot/_45bd9e8b-22f0-4cb7-9cfe-b40847e9715f>Riksdagen</a> <a href=http://data.riksdagen.se/personlista/?utformat=json&iid=45bd9e8b-22f0-4cb7-9cfe-b40847e9715f>json</a>"
      ],
      "text/plain": [
       "<IPython.core.display.HTML object>"
      ]
     },
     "metadata": {},
     "output_type": "display_data"
    },
    {
     "data": {
      "text/html": [
       "98: <a href=http://sv.wikipedia.org/wiki/Erik%20Ottoson>Erik Ottoson</a> - <a href=http://www.wikidata.org/wiki/Q19977128%23P39>Q19977128</a>  - <a href=http://www.riksdagen.se/sv/ledamoter-partier/ledamot/_0f90ef03-a652-45a1-b697-39a33b32e512>Riksdagen</a> <a href=http://data.riksdagen.se/personlista/?utformat=json&iid=0f90ef03-a652-45a1-b697-39a33b32e512>json</a>"
      ],
      "text/plain": [
       "<IPython.core.display.HTML object>"
      ]
     },
     "metadata": {},
     "output_type": "display_data"
    },
    {
     "data": {
      "text/html": [
       "99: <a href=http://sv.wikipedia.org/wiki/Eva-Lena%20Jansson>Eva-Lena Jansson</a> - <a href=http://www.wikidata.org/wiki/Q3374622%23P39>Q3374622</a>  - <a href=http://www.riksdagen.se/sv/ledamoter-partier/ledamot/_dd4afc3e-7460-4e22-8eba-9ad0fc2915ac>Riksdagen</a> <a href=http://data.riksdagen.se/personlista/?utformat=json&iid=dd4afc3e-7460-4e22-8eba-9ad0fc2915ac>json</a>"
      ],
      "text/plain": [
       "<IPython.core.display.HTML object>"
      ]
     },
     "metadata": {},
     "output_type": "display_data"
    },
    {
     "data": {
      "text/html": [
       "100: <a href=http://sv.wikipedia.org/wiki/Eva%20Lindh>Eva Lindh</a> - <a href=http://www.wikidata.org/wiki/Q30035702%23P39>Q30035702</a>  - <a href=http://www.riksdagen.se/sv/ledamoter-partier/ledamot/_ee86b181-9f3b-4e03-8ef4-b96b1e79cd25>Riksdagen</a> <a href=http://data.riksdagen.se/personlista/?utformat=json&iid=ee86b181-9f3b-4e03-8ef4-b96b1e79cd25>json</a>"
      ],
      "text/plain": [
       "<IPython.core.display.HTML object>"
      ]
     },
     "metadata": {},
     "output_type": "display_data"
    },
    {
     "data": {
      "text/html": [
       "101: <a href=http://sv.wikipedia.org/wiki/Fredrik%20Christensson>Fredrik Christensson</a> - <a href=http://www.wikidata.org/wiki/Q18238133%23P39>Q18238133</a>  - <a href=http://www.riksdagen.se/sv/ledamoter-partier/ledamot/_08f0d4c3-a02f-4e08-88b2-c03d384f63fc>Riksdagen</a> <a href=http://data.riksdagen.se/personlista/?utformat=json&iid=08f0d4c3-a02f-4e08-88b2-c03d384f63fc>json</a>"
      ],
      "text/plain": [
       "<IPython.core.display.HTML object>"
      ]
     },
     "metadata": {},
     "output_type": "display_data"
    },
    {
     "data": {
      "text/html": [
       "102: <a href=http://sv.wikipedia.org/wiki/Fredrik%20Lindahl%20%28politiker%29>Fredrik Lindahl (politiker)</a> - <a href=http://www.wikidata.org/wiki/Q71132556%23P39>Q71132556</a>  - <a href=http://www.riksdagen.se/sv/ledamoter-partier/ledamot/_08bb4baa-24ca-4395-baf7-c907a4d5b776>Riksdagen</a> <a href=http://data.riksdagen.se/personlista/?utformat=json&iid=08bb4baa-24ca-4395-baf7-c907a4d5b776>json</a>"
      ],
      "text/plain": [
       "<IPython.core.display.HTML object>"
      ]
     },
     "metadata": {},
     "output_type": "display_data"
    },
    {
     "data": {
      "text/html": [
       "103: <a href=http://sv.wikipedia.org/wiki/Fredrik%20Lundh%20Sammeli>Fredrik Lundh Sammeli</a> - <a href=http://www.wikidata.org/wiki/Q5966830%23P39>Q5966830</a>  - <a href=http://www.riksdagen.se/sv/ledamoter-partier/ledamot/_19d6281a-a1fc-4399-9631-89acf6420f42>Riksdagen</a> <a href=http://data.riksdagen.se/personlista/?utformat=json&iid=19d6281a-a1fc-4399-9631-89acf6420f42>json</a>"
      ],
      "text/plain": [
       "<IPython.core.display.HTML object>"
      ]
     },
     "metadata": {},
     "output_type": "display_data"
    },
    {
     "data": {
      "text/html": [
       "104: <a href=http://sv.wikipedia.org/wiki/Fredrik%20Malm>Fredrik Malm</a> - <a href=http://www.wikidata.org/wiki/Q3675520%23P39>Q3675520</a>  - <a href=http://www.riksdagen.se/sv/ledamoter-partier/ledamot/_cf017275-5272-4506-a686-4e1d8edc5ab6>Riksdagen</a> <a href=http://data.riksdagen.se/personlista/?utformat=json&iid=cf017275-5272-4506-a686-4e1d8edc5ab6>json</a>"
      ],
      "text/plain": [
       "<IPython.core.display.HTML object>"
      ]
     },
     "metadata": {},
     "output_type": "display_data"
    },
    {
     "data": {
      "text/html": [
       "105: <a href=http://sv.wikipedia.org/wiki/Fredrik%20Schulte>Fredrik Schulte</a> - <a href=http://www.wikidata.org/wiki/Q6169540%23P39>Q6169540</a>  - <a href=http://www.riksdagen.se/sv/ledamoter-partier/ledamot/_b22cb715-79b0-4610-988f-e344f13a8cd4>Riksdagen</a> <a href=http://data.riksdagen.se/personlista/?utformat=json&iid=b22cb715-79b0-4610-988f-e344f13a8cd4>json</a>"
      ],
      "text/plain": [
       "<IPython.core.display.HTML object>"
      ]
     },
     "metadata": {},
     "output_type": "display_data"
    },
    {
     "data": {
      "text/html": [
       "106: <a href=http://sv.wikipedia.org/wiki/Gudrun%20Bruneg%C3%A5rd>Gudrun Brunegård</a> - <a href=http://www.wikidata.org/wiki/Q4940950%23P39>Q4940950</a>  - <a href=http://www.riksdagen.se/sv/ledamoter-partier/ledamot/_aecfc5a6-954f-41b7-8593-998f1c446e1b>Riksdagen</a> <a href=http://data.riksdagen.se/personlista/?utformat=json&iid=aecfc5a6-954f-41b7-8593-998f1c446e1b>json</a>"
      ],
      "text/plain": [
       "<IPython.core.display.HTML object>"
      ]
     },
     "metadata": {},
     "output_type": "display_data"
    },
    {
     "data": {
      "text/html": [
       "107: <a href=http://sv.wikipedia.org/wiki/Gudrun%20Nordborg>Gudrun Nordborg</a> - <a href=http://www.wikidata.org/wiki/Q101093736%23P39>Q101093736</a>  - <a href=http://www.riksdagen.se/sv/ledamoter-partier/ledamot/_66a97750-1ac5-4f8d-be57-ac4c1c733ee9>Riksdagen</a> <a href=http://data.riksdagen.se/personlista/?utformat=json&iid=66a97750-1ac5-4f8d-be57-ac4c1c733ee9>json</a>"
      ],
      "text/plain": [
       "<IPython.core.display.HTML object>"
      ]
     },
     "metadata": {},
     "output_type": "display_data"
    },
    {
     "data": {
      "text/html": [
       "108: <a href=http://sv.wikipedia.org/wiki/Gulan%20Avci>Gulan Avci</a> - <a href=http://www.wikidata.org/wiki/Q3674337%23P39>Q3674337</a>  - <a href=http://www.riksdagen.se/sv/ledamoter-partier/ledamot/_9d13985d-9d6c-4cba-8492-1155d94fbe69>Riksdagen</a> <a href=http://data.riksdagen.se/personlista/?utformat=json&iid=9d13985d-9d6c-4cba-8492-1155d94fbe69>json</a>"
      ],
      "text/plain": [
       "<IPython.core.display.HTML object>"
      ]
     },
     "metadata": {},
     "output_type": "display_data"
    },
    {
     "data": {
      "text/html": [
       "109: <a href=http://sv.wikipedia.org/wiki/Gunilla%20Carlsson%20%28socialdemokrat%29>Gunilla Carlsson (socialdemokrat)</a> - <a href=http://www.wikidata.org/wiki/Q3374499%23P39>Q3374499</a>  - <a href=http://www.riksdagen.se/sv/ledamoter-partier/ledamot/_11d950d5-e41f-4e94-af86-ae8a1996d81b>Riksdagen</a> <a href=http://data.riksdagen.se/personlista/?utformat=json&iid=11d950d5-e41f-4e94-af86-ae8a1996d81b>json</a>"
      ],
      "text/plain": [
       "<IPython.core.display.HTML object>"
      ]
     },
     "metadata": {},
     "output_type": "display_data"
    },
    {
     "data": {
      "text/html": [
       "110: <a href=http://sv.wikipedia.org/wiki/Gunilla%20Svantorp>Gunilla Svantorp</a> - <a href=http://www.wikidata.org/wiki/Q4981396%23P39>Q4981396</a>  - <a href=http://www.riksdagen.se/sv/ledamoter-partier/ledamot/_434f8fc8-eb9d-4364-99f6-63f1ef873561>Riksdagen</a> <a href=http://data.riksdagen.se/personlista/?utformat=json&iid=434f8fc8-eb9d-4364-99f6-63f1ef873561>json</a>"
      ],
      "text/plain": [
       "<IPython.core.display.HTML object>"
      ]
     },
     "metadata": {},
     "output_type": "display_data"
    },
    {
     "data": {
      "text/html": [
       "111: <a href=http://sv.wikipedia.org/wiki/Gustaf%20Lantz>Gustaf Lantz</a> - <a href=http://www.wikidata.org/wiki/Q30035705%23P39>Q30035705</a>  - <a href=http://www.riksdagen.se/sv/ledamoter-partier/ledamot/_82c56b96-b106-4b16-958c-98b153d02639>Riksdagen</a> <a href=http://data.riksdagen.se/personlista/?utformat=json&iid=82c56b96-b106-4b16-958c-98b153d02639>json</a>"
      ],
      "text/plain": [
       "<IPython.core.display.HTML object>"
      ]
     },
     "metadata": {},
     "output_type": "display_data"
    },
    {
     "data": {
      "text/html": [
       "112: <a href=http://sv.wikipedia.org/wiki/Hampus%20Hagman>Hampus Hagman</a> - <a href=http://www.wikidata.org/wiki/Q63869806%23P39>Q63869806</a>  - <a href=http://www.riksdagen.se/sv/ledamoter-partier/ledamot/_88438cea-b340-48cf-8fa8-230f1a8d2ea2>Riksdagen</a> <a href=http://data.riksdagen.se/personlista/?utformat=json&iid=88438cea-b340-48cf-8fa8-230f1a8d2ea2>json</a>"
      ],
      "text/plain": [
       "<IPython.core.display.HTML object>"
      ]
     },
     "metadata": {},
     "output_type": "display_data"
    },
    {
     "data": {
      "text/html": [
       "113: <a href=http://sv.wikipedia.org/wiki/Hanif%20Bali>Hanif Bali</a> - <a href=http://www.wikidata.org/wiki/Q5564796%23P39>Q5564796</a>  - <a href=http://www.riksdagen.se/sv/ledamoter-partier/ledamot/_b86c28d2-48d1-41a6-bea3-b3317cdfeec8>Riksdagen</a> <a href=http://data.riksdagen.se/personlista/?utformat=json&iid=b86c28d2-48d1-41a6-bea3-b3317cdfeec8>json</a>"
      ],
      "text/plain": [
       "<IPython.core.display.HTML object>"
      ]
     },
     "metadata": {},
     "output_type": "display_data"
    },
    {
     "data": {
      "text/html": [
       "114: <a href=http://sv.wikipedia.org/wiki/Hanna%20Gunnarsson>Hanna Gunnarsson</a> - <a href=http://www.wikidata.org/wiki/Q57168756%23P39>Q57168756</a>  - <a href=http://www.riksdagen.se/sv/ledamoter-partier/ledamot/_8880da78-8ec1-41f7-96c7-f007375352ac>Riksdagen</a> <a href=http://data.riksdagen.se/personlista/?utformat=json&iid=8880da78-8ec1-41f7-96c7-f007375352ac>json</a>"
      ],
      "text/plain": [
       "<IPython.core.display.HTML object>"
      ]
     },
     "metadata": {},
     "output_type": "display_data"
    },
    {
     "data": {
      "text/html": [
       "115: <a href=http://sv.wikipedia.org/wiki/Hanna%20Wester%C3%A9n>Hanna Westerén</a> - <a href=http://www.wikidata.org/wiki/Q19977330%23P39>Q19977330</a>  - <a href=http://www.riksdagen.se/sv/ledamoter-partier/ledamot/_ed3399e1-7bce-4ea4-baf6-587f722710f5>Riksdagen</a> <a href=http://data.riksdagen.se/personlista/?utformat=json&iid=ed3399e1-7bce-4ea4-baf6-587f722710f5>json</a>"
      ],
      "text/plain": [
       "<IPython.core.display.HTML object>"
      ]
     },
     "metadata": {},
     "output_type": "display_data"
    },
    {
     "data": {
      "text/html": [
       "116: <a href=http://sv.wikipedia.org/wiki/Hans%20Eklind>Hans Eklind</a> - <a href=http://www.wikidata.org/wiki/Q5629994%23P39>Q5629994</a>  - <a href=http://www.riksdagen.se/sv/ledamoter-partier/ledamot/_f270f5c5-c28f-4267-8dff-0bead595f631>Riksdagen</a> <a href=http://data.riksdagen.se/personlista/?utformat=json&iid=f270f5c5-c28f-4267-8dff-0bead595f631>json</a>"
      ],
      "text/plain": [
       "<IPython.core.display.HTML object>"
      ]
     },
     "metadata": {},
     "output_type": "display_data"
    },
    {
     "data": {
      "text/html": [
       "117: <a href=http://sv.wikipedia.org/wiki/Hans%20Ekstr%C3%B6m>Hans Ekström</a> - <a href=http://www.wikidata.org/wiki/Q5707578%23P39>Q5707578</a>  - <a href=http://www.riksdagen.se/sv/ledamoter-partier/ledamot/_b6fe54d6-ffc7-4435-9326-5baf132b3338>Riksdagen</a> <a href=http://data.riksdagen.se/personlista/?utformat=json&iid=b6fe54d6-ffc7-4435-9326-5baf132b3338>json</a>"
      ],
      "text/plain": [
       "<IPython.core.display.HTML object>"
      ]
     },
     "metadata": {},
     "output_type": "display_data"
    },
    {
     "data": {
      "text/html": [
       "118: <a href=http://sv.wikipedia.org/wiki/Hans%20Hoff>Hans Hoff</a> - <a href=http://www.wikidata.org/wiki/Q3374562%23P39>Q3374562</a>  - <a href=http://www.riksdagen.se/sv/ledamoter-partier/ledamot/_d7c323f9-83e4-11d4-ae60-0050040c9b55>Riksdagen</a> <a href=http://data.riksdagen.se/personlista/?utformat=json&iid=d7c323f9-83e4-11d4-ae60-0050040c9b55>json</a>"
      ],
      "text/plain": [
       "<IPython.core.display.HTML object>"
      ]
     },
     "metadata": {},
     "output_type": "display_data"
    },
    {
     "data": {
      "text/html": [
       "119: <a href=http://sv.wikipedia.org/wiki/Hans%20Rothenberg>Hans Rothenberg</a> - <a href=http://www.wikidata.org/wiki/Q378195%23P39>Q378195</a>  - <a href=http://www.riksdagen.se/sv/ledamoter-partier/ledamot/_eec523be-f85c-43d5-83b0-e734e43905d1>Riksdagen</a> <a href=http://data.riksdagen.se/personlista/?utformat=json&iid=eec523be-f85c-43d5-83b0-e734e43905d1>json</a>"
      ],
      "text/plain": [
       "<IPython.core.display.HTML object>"
      ]
     },
     "metadata": {},
     "output_type": "display_data"
    },
    {
     "data": {
      "text/html": [
       "120: <a href=http://sv.wikipedia.org/wiki/Hans%20Wallmark>Hans Wallmark</a> - <a href=http://www.wikidata.org/wiki/Q5650816%23P39>Q5650816</a>  - <a href=http://www.riksdagen.se/sv/ledamoter-partier/ledamot/_ef84acf4-4f56-45d9-9951-1c8ba4098302>Riksdagen</a> <a href=http://data.riksdagen.se/personlista/?utformat=json&iid=ef84acf4-4f56-45d9-9951-1c8ba4098302>json</a>"
      ],
      "text/plain": [
       "<IPython.core.display.HTML object>"
      ]
     },
     "metadata": {},
     "output_type": "display_data"
    },
    {
     "data": {
      "text/html": [
       "121: <a href=http://sv.wikipedia.org/wiki/Helena%20Bouveng>Helena Bouveng</a> - <a href=http://www.wikidata.org/wiki/Q4940303%23P39>Q4940303</a>  - <a href=http://www.riksdagen.se/sv/ledamoter-partier/ledamot/_a65ace9d-bbae-43cd-8a21-119c8b3b0bfb>Riksdagen</a> <a href=http://data.riksdagen.se/personlista/?utformat=json&iid=a65ace9d-bbae-43cd-8a21-119c8b3b0bfb>json</a>"
      ],
      "text/plain": [
       "<IPython.core.display.HTML object>"
      ]
     },
     "metadata": {},
     "output_type": "display_data"
    },
    {
     "data": {
      "text/html": [
       "122: <a href=http://sv.wikipedia.org/wiki/Helena%20Gellerman>Helena Gellerman</a> - <a href=http://www.wikidata.org/wiki/Q57168729%23P39>Q57168729</a>  - <a href=http://www.riksdagen.se/sv/ledamoter-partier/ledamot/_5e7c5792-d4ff-4d8e-999f-92e1a7af86f3>Riksdagen</a> <a href=http://data.riksdagen.se/personlista/?utformat=json&iid=5e7c5792-d4ff-4d8e-999f-92e1a7af86f3>json</a>"
      ],
      "text/plain": [
       "<IPython.core.display.HTML object>"
      ]
     },
     "metadata": {},
     "output_type": "display_data"
    },
    {
     "data": {
      "text/html": [
       "123: <a href=http://sv.wikipedia.org/wiki/Helena%20Lindahl>Helena Lindahl</a> - <a href=http://www.wikidata.org/wiki/Q4962331%23P39>Q4962331</a>  - <a href=http://www.riksdagen.se/sv/ledamoter-partier/ledamot/_6cca7c48-b127-4d65-8052-ac3588a50dbd>Riksdagen</a> <a href=http://data.riksdagen.se/personlista/?utformat=json&iid=6cca7c48-b127-4d65-8052-ac3588a50dbd>json</a>"
      ],
      "text/plain": [
       "<IPython.core.display.HTML object>"
      ]
     },
     "metadata": {},
     "output_type": "display_data"
    },
    {
     "data": {
      "text/html": [
       "124: <a href=http://sv.wikipedia.org/wiki/Helena%20Storckenfeldt>Helena Storckenfeldt</a> - <a href=http://www.wikidata.org/wiki/Q65130310%23P39>Q65130310</a>  - <a href=http://www.riksdagen.se/sv/ledamoter-partier/ledamot/_d36827d1-ca61-4bf0-8482-7e9db375cb43>Riksdagen</a> <a href=http://data.riksdagen.se/personlista/?utformat=json&iid=d36827d1-ca61-4bf0-8482-7e9db375cb43>json</a>"
      ],
      "text/plain": [
       "<IPython.core.display.HTML object>"
      ]
     },
     "metadata": {},
     "output_type": "display_data"
    },
    {
     "data": {
      "text/html": [
       "125: <a href=http://sv.wikipedia.org/wiki/Helena%20Vilhelmsson>Helena Vilhelmsson</a> - <a href=http://www.wikidata.org/wiki/Q57168726%23P39>Q57168726</a>  - <a href=http://www.riksdagen.se/sv/ledamoter-partier/ledamot/_bcf8f6dc-7be4-46d3-bb3e-df793b2c5256>Riksdagen</a> <a href=http://data.riksdagen.se/personlista/?utformat=json&iid=bcf8f6dc-7be4-46d3-bb3e-df793b2c5256>json</a>"
      ],
      "text/plain": [
       "<IPython.core.display.HTML object>"
      ]
     },
     "metadata": {},
     "output_type": "display_data"
    },
    {
     "data": {
      "text/html": [
       "126: <a href=http://sv.wikipedia.org/wiki/Hel%C3%A9n%20Pettersson>Helén Pettersson</a> - <a href=http://www.wikidata.org/wiki/Q3374237%23P39>Q3374237</a>  - <a href=http://www.riksdagen.se/sv/ledamoter-partier/ledamot/_13c0a836-8abf-453d-92d0-44d009c27f85>Riksdagen</a> <a href=http://data.riksdagen.se/personlista/?utformat=json&iid=13c0a836-8abf-453d-92d0-44d009c27f85>json</a>"
      ],
      "text/plain": [
       "<IPython.core.display.HTML object>"
      ]
     },
     "metadata": {},
     "output_type": "display_data"
    },
    {
     "data": {
      "text/html": [
       "127: <a href=http://sv.wikipedia.org/wiki/Hel%C3%A9ne%20Bj%C3%B6rklund>Heléne Björklund</a> - <a href=http://www.wikidata.org/wiki/Q57168842%23P39>Q57168842</a>  - <a href=http://www.riksdagen.se/sv/ledamoter-partier/ledamot/_a4581b8d-78fd-41c1-a55d-7fe9ed93c878>Riksdagen</a> <a href=http://data.riksdagen.se/personlista/?utformat=json&iid=a4581b8d-78fd-41c1-a55d-7fe9ed93c878>json</a>"
      ],
      "text/plain": [
       "<IPython.core.display.HTML object>"
      ]
     },
     "metadata": {},
     "output_type": "display_data"
    },
    {
     "data": {
      "text/html": [
       "128: <a href=http://sv.wikipedia.org/wiki/Henrik%20Vinge>Henrik Vinge</a> - <a href=http://www.wikidata.org/wiki/Q56164156%23P39>Q56164156</a>  - <a href=http://www.riksdagen.se/sv/ledamoter-partier/ledamot/_1d7d8c9a-7879-4be3-8554-745991b615d2>Riksdagen</a> <a href=http://data.riksdagen.se/personlista/?utformat=json&iid=1d7d8c9a-7879-4be3-8554-745991b615d2>json</a>"
      ],
      "text/plain": [
       "<IPython.core.display.HTML object>"
      ]
     },
     "metadata": {},
     "output_type": "display_data"
    },
    {
     "data": {
      "text/html": [
       "129: <a href=http://sv.wikipedia.org/wiki/H%C3%A5kan%20Svenneling>Håkan Svenneling</a> - <a href=http://www.wikidata.org/wiki/Q18246258%23P39>Q18246258</a>  - <a href=http://www.riksdagen.se/sv/ledamoter-partier/ledamot/_de1f77c9-338c-4547-a223-9898cd8ed084>Riksdagen</a> <a href=http://data.riksdagen.se/personlista/?utformat=json&iid=de1f77c9-338c-4547-a223-9898cd8ed084>json</a>"
      ],
      "text/plain": [
       "<IPython.core.display.HTML object>"
      ]
     },
     "metadata": {},
     "output_type": "display_data"
    },
    {
     "data": {
      "text/html": [
       "130: <a href=http://sv.wikipedia.org/wiki/Ida%20Drougge>Ida Drougge</a> - <a href=http://www.wikidata.org/wiki/Q18202365%23P39>Q18202365</a>  - <a href=http://www.riksdagen.se/sv/ledamoter-partier/ledamot/_e8a2c04d-a186-421b-b1fd-a401f0917673>Riksdagen</a> <a href=http://data.riksdagen.se/personlista/?utformat=json&iid=e8a2c04d-a186-421b-b1fd-a401f0917673>json</a>"
      ],
      "text/plain": [
       "<IPython.core.display.HTML object>"
      ]
     },
     "metadata": {},
     "output_type": "display_data"
    },
    {
     "data": {
      "text/html": [
       "131: <a href=http://sv.wikipedia.org/wiki/Ida%20Gabrielsson>Ida Gabrielsson</a> - <a href=http://www.wikidata.org/wiki/Q4949356%23P39>Q4949356</a>  - <a href=http://www.riksdagen.se/sv/ledamoter-partier/ledamot/_964e3aff-b4df-4f49-acc1-3bba2afc2f80>Riksdagen</a> <a href=http://data.riksdagen.se/personlista/?utformat=json&iid=964e3aff-b4df-4f49-acc1-3bba2afc2f80>json</a>"
      ],
      "text/plain": [
       "<IPython.core.display.HTML object>"
      ]
     },
     "metadata": {},
     "output_type": "display_data"
    },
    {
     "data": {
      "text/html": [
       "132: <a href=http://sv.wikipedia.org/wiki/Ida%20Karkiainen>Ida Karkiainen</a> - <a href=http://www.wikidata.org/wiki/Q18451082%23P39>Q18451082</a>  - <a href=http://www.riksdagen.se/sv/ledamoter-partier/ledamot/_7891a68a-bcbd-43a3-bd8b-90bdbb040f45>Riksdagen</a> <a href=http://data.riksdagen.se/personlista/?utformat=json&iid=7891a68a-bcbd-43a3-bd8b-90bdbb040f45>json</a>"
      ],
      "text/plain": [
       "<IPython.core.display.HTML object>"
      ]
     },
     "metadata": {},
     "output_type": "display_data"
    },
    {
     "data": {
      "text/html": [
       "133: <a href=http://sv.wikipedia.org/wiki/Ilona%20Szatm%C3%A1ri%20Waldau>Ilona Szatmári Waldau</a> - <a href=http://www.wikidata.org/wiki/Q4981700%23P39>Q4981700</a>  - <a href=http://www.riksdagen.se/sv/ledamoter-partier/ledamot/_ffe5107b-dc51-4209-ae87-9eabf8fe014d>Riksdagen</a> <a href=http://data.riksdagen.se/personlista/?utformat=json&iid=ffe5107b-dc51-4209-ae87-9eabf8fe014d>json</a>"
      ],
      "text/plain": [
       "<IPython.core.display.HTML object>"
      ]
     },
     "metadata": {},
     "output_type": "display_data"
    },
    {
     "data": {
      "text/html": [
       "134: <a href=http://sv.wikipedia.org/wiki/Ingela%20Nylund%20Watz>Ingela Nylund Watz</a> - <a href=http://www.wikidata.org/wiki/Q4970595%23P39>Q4970595</a>  - <a href=http://www.riksdagen.se/sv/ledamoter-partier/ledamot/_9cd4ce1a-c1f5-4743-aed6-8e60569e9947>Riksdagen</a> <a href=http://data.riksdagen.se/personlista/?utformat=json&iid=9cd4ce1a-c1f5-4743-aed6-8e60569e9947>json</a>"
      ],
      "text/plain": [
       "<IPython.core.display.HTML object>"
      ]
     },
     "metadata": {},
     "output_type": "display_data"
    },
    {
     "data": {
      "text/html": [
       "135: <a href=http://sv.wikipedia.org/wiki/Ingemar%20Kihlstr%C3%B6m>Ingemar Kihlström</a> - <a href=http://www.wikidata.org/wiki/Q71340705%23P39>Q71340705</a>  - <a href=http://www.riksdagen.se/sv/ledamoter-partier/ledamot/_06f647f7-2937-4767-af38-04636afc040d>Riksdagen</a> <a href=http://data.riksdagen.se/personlista/?utformat=json&iid=06f647f7-2937-4767-af38-04636afc040d>json</a>"
      ],
      "text/plain": [
       "<IPython.core.display.HTML object>"
      ]
     },
     "metadata": {},
     "output_type": "display_data"
    },
    {
     "data": {
      "text/html": [
       "136: <a href=http://sv.wikipedia.org/wiki/Isak%20From>Isak From</a> - <a href=http://www.wikidata.org/wiki/Q5745541%23P39>Q5745541</a>  - <a href=http://www.riksdagen.se/sv/ledamoter-partier/ledamot/_cebc9890-55f1-41ff-acc7-af2de3e4320e>Riksdagen</a> <a href=http://data.riksdagen.se/personlista/?utformat=json&iid=cebc9890-55f1-41ff-acc7-af2de3e4320e>json</a>"
      ],
      "text/plain": [
       "<IPython.core.display.HTML object>"
      ]
     },
     "metadata": {},
     "output_type": "display_data"
    },
    {
     "data": {
      "text/html": [
       "137: <a href=http://sv.wikipedia.org/wiki/Jakob%20Forssmed>Jakob Forssmed</a> - <a href=http://www.wikidata.org/wiki/Q5737841%23P39>Q5737841</a>  - <a href=http://www.riksdagen.se/sv/ledamoter-partier/ledamot/_0ab695ba-6994-11d7-ae76-0004755038ce>Riksdagen</a> <a href=http://data.riksdagen.se/personlista/?utformat=json&iid=0ab695ba-6994-11d7-ae76-0004755038ce>json</a>"
      ],
      "text/plain": [
       "<IPython.core.display.HTML object>"
      ]
     },
     "metadata": {},
     "output_type": "display_data"
    },
    {
     "data": {
      "text/html": [
       "138: <a href=http://sv.wikipedia.org/wiki/Jakob%20Olofsg%C3%A5rd>Jakob Olofsgård</a> - <a href=http://www.wikidata.org/wiki/Q108059200%23P39>Q108059200</a>  - <a href=http://www.riksdagen.se/sv/ledamoter-partier/ledamot/_cf93a30c-7563-418e-a111-60d31ad24bcc>Riksdagen</a> <a href=http://data.riksdagen.se/personlista/?utformat=json&iid=cf93a30c-7563-418e-a111-60d31ad24bcc>json</a>"
      ],
      "text/plain": [
       "<IPython.core.display.HTML object>"
      ]
     },
     "metadata": {},
     "output_type": "display_data"
    },
    {
     "data": {
      "text/html": [
       "139: <a href=http://sv.wikipedia.org/wiki/Jamal%20El-Haj>Jamal El-Haj</a> - <a href=http://www.wikidata.org/wiki/Q30035682%23P39>Q30035682</a>  - <a href=http://www.riksdagen.se/sv/ledamoter-partier/ledamot/_6a1b02dd-bdc4-4019-ab3e-dfeb133018ed>Riksdagen</a> <a href=http://data.riksdagen.se/personlista/?utformat=json&iid=6a1b02dd-bdc4-4019-ab3e-dfeb133018ed>json</a>"
      ],
      "text/plain": [
       "<IPython.core.display.HTML object>"
      ]
     },
     "metadata": {},
     "output_type": "display_data"
    },
    {
     "data": {
      "text/html": [
       "140: <a href=http://sv.wikipedia.org/wiki/Jan%20Ericson%20%28politiker%29>Jan Ericson (politiker)</a> - <a href=http://www.wikidata.org/wiki/Q1681740%23P39>Q1681740</a>  - <a href=http://www.riksdagen.se/sv/ledamoter-partier/ledamot/_5c11ef9b-d56d-4e85-8cc6-800f0257548a>Riksdagen</a> <a href=http://data.riksdagen.se/personlista/?utformat=json&iid=5c11ef9b-d56d-4e85-8cc6-800f0257548a>json</a>"
      ],
      "text/plain": [
       "<IPython.core.display.HTML object>"
      ]
     },
     "metadata": {},
     "output_type": "display_data"
    },
    {
     "data": {
      "text/html": [
       "141: <a href=http://sv.wikipedia.org/wiki/Jan%20R.%20Andersson>Jan R. Andersson</a> - <a href=http://www.wikidata.org/wiki/Q5554868%23P39>Q5554868</a>  - <a href=http://www.riksdagen.se/sv/ledamoter-partier/ledamot/_ecbe80be-fc66-48ce-81fd-14d6fa38aa4c>Riksdagen</a> <a href=http://data.riksdagen.se/personlista/?utformat=json&iid=ecbe80be-fc66-48ce-81fd-14d6fa38aa4c>json</a>"
      ],
      "text/plain": [
       "<IPython.core.display.HTML object>"
      ]
     },
     "metadata": {},
     "output_type": "display_data"
    },
    {
     "data": {
      "text/html": [
       "142: <a href=http://sv.wikipedia.org/wiki/Jasenko%20Omanovi%C4%87>Jasenko Omanović</a> - <a href=http://www.wikidata.org/wiki/Q6028336%23P39>Q6028336</a>  - <a href=http://www.riksdagen.se/sv/ledamoter-partier/ledamot/_294cd1d7-df0b-4794-b433-b3892d3ad29d>Riksdagen</a> <a href=http://data.riksdagen.se/personlista/?utformat=json&iid=294cd1d7-df0b-4794-b433-b3892d3ad29d>json</a>"
      ],
      "text/plain": [
       "<IPython.core.display.HTML object>"
      ]
     },
     "metadata": {},
     "output_type": "display_data"
    },
    {
     "data": {
      "text/html": [
       "143: <a href=http://sv.wikipedia.org/wiki/Jennie%20Nilsson>Jennie Nilsson</a> - <a href=http://www.wikidata.org/wiki/Q4563096%23P39>Q4563096</a>  - <a href=http://www.riksdagen.se/sv/ledamoter-partier/ledamot/_4c6f215d-de3a-452d-83b5-f472b8668b7e>Riksdagen</a> <a href=http://data.riksdagen.se/personlista/?utformat=json&iid=4c6f215d-de3a-452d-83b5-f472b8668b7e>json</a>"
      ],
      "text/plain": [
       "<IPython.core.display.HTML object>"
      ]
     },
     "metadata": {},
     "output_type": "display_data"
    },
    {
     "data": {
      "text/html": [
       "144: <a href=http://sv.wikipedia.org/wiki/Jennie%20%C3%85feldt>Jennie Åfeldt</a> - <a href=http://www.wikidata.org/wiki/Q18275046%23P39>Q18275046</a>  - <a href=http://www.riksdagen.se/sv/ledamoter-partier/ledamot/_f17df284-828f-481d-9f83-8c6d2b6d2576>Riksdagen</a> <a href=http://data.riksdagen.se/personlista/?utformat=json&iid=f17df284-828f-481d-9f83-8c6d2b6d2576>json</a>"
      ],
      "text/plain": [
       "<IPython.core.display.HTML object>"
      ]
     },
     "metadata": {},
     "output_type": "display_data"
    },
    {
     "data": {
      "text/html": [
       "145: <a href=http://sv.wikipedia.org/wiki/Jens%20Holm>Jens Holm</a> - <a href=http://www.wikidata.org/wiki/Q946708%23P39>Q946708</a>  - <a href=http://www.riksdagen.se/sv/ledamoter-partier/ledamot/_5b7ac02c-0819-426d-bc5d-41b8c21ca4dd>Riksdagen</a> <a href=http://data.riksdagen.se/personlista/?utformat=json&iid=5b7ac02c-0819-426d-bc5d-41b8c21ca4dd>json</a>"
      ],
      "text/plain": [
       "<IPython.core.display.HTML object>"
      ]
     },
     "metadata": {},
     "output_type": "display_data"
    },
    {
     "data": {
      "text/html": [
       "146: <a href=http://sv.wikipedia.org/wiki/Jessica%20Rosencrantz>Jessica Rosencrantz</a> - <a href=http://www.wikidata.org/wiki/Q4975481%23P39>Q4975481</a>  - <a href=http://www.riksdagen.se/sv/ledamoter-partier/ledamot/_acdaa4aa-20f2-49a0-b929-0862f4bd6826>Riksdagen</a> <a href=http://data.riksdagen.se/personlista/?utformat=json&iid=acdaa4aa-20f2-49a0-b929-0862f4bd6826>json</a>"
      ],
      "text/plain": [
       "<IPython.core.display.HTML object>"
      ]
     },
     "metadata": {},
     "output_type": "display_data"
    },
    {
     "data": {
      "text/html": [
       "147: <a href=http://sv.wikipedia.org/wiki/Jessica%20Thunander>Jessica Thunander</a> - <a href=http://www.wikidata.org/wiki/Q57168779%23P39>Q57168779</a>  - <a href=http://www.riksdagen.se/sv/ledamoter-partier/ledamot/_9a93ac06-5af1-475e-8b9f-858c6b003ef0>Riksdagen</a> <a href=http://data.riksdagen.se/personlista/?utformat=json&iid=9a93ac06-5af1-475e-8b9f-858c6b003ef0>json</a>"
      ],
      "text/plain": [
       "<IPython.core.display.HTML object>"
      ]
     },
     "metadata": {},
     "output_type": "display_data"
    },
    {
     "data": {
      "text/html": [
       "148: <a href=http://sv.wikipedia.org/wiki/Jessica%20Wetterling>Jessica Wetterling</a> - <a href=http://www.wikidata.org/wiki/Q57168784%23P39>Q57168784</a>  - <a href=http://www.riksdagen.se/sv/ledamoter-partier/ledamot/_dc0c1e6e-450b-4763-be41-c3f810d50b72>Riksdagen</a> <a href=http://data.riksdagen.se/personlista/?utformat=json&iid=dc0c1e6e-450b-4763-be41-c3f810d50b72>json</a>"
      ],
      "text/plain": [
       "<IPython.core.display.HTML object>"
      ]
     },
     "metadata": {},
     "output_type": "display_data"
    },
    {
     "data": {
      "text/html": [
       "149: <a href=http://sv.wikipedia.org/wiki/Jessika%20Roswall>Jessika Roswall</a> - <a href=http://www.wikidata.org/wiki/Q4984640%23P39>Q4984640</a>  - <a href=http://www.riksdagen.se/sv/ledamoter-partier/ledamot/_5e09bf12-6f96-4a96-ac0c-27203aef4d2f>Riksdagen</a> <a href=http://data.riksdagen.se/personlista/?utformat=json&iid=5e09bf12-6f96-4a96-ac0c-27203aef4d2f>json</a>"
      ],
      "text/plain": [
       "<IPython.core.display.HTML object>"
      ]
     },
     "metadata": {},
     "output_type": "display_data"
    },
    {
     "data": {
      "text/html": [
       "150: <a href=http://sv.wikipedia.org/wiki/Jimmie%20%C3%85kesson>Jimmie Åkesson</a> - <a href=http://www.wikidata.org/wiki/Q518776%23P39>Q518776</a>  - <a href=http://www.riksdagen.se/sv/ledamoter-partier/ledamot/_5ecb17ba-ebbe-4958-a142-a5134aff9808>Riksdagen</a> <a href=http://data.riksdagen.se/personlista/?utformat=json&iid=5ecb17ba-ebbe-4958-a142-a5134aff9808>json</a>"
      ],
      "text/plain": [
       "<IPython.core.display.HTML object>"
      ]
     },
     "metadata": {},
     "output_type": "display_data"
    },
    {
     "data": {
      "text/html": [
       "151: <a href=http://sv.wikipedia.org/wiki/Jimmy%20St%C3%A5hl>Jimmy Ståhl</a> - <a href=http://www.wikidata.org/wiki/Q18246207%23P39>Q18246207</a>  - <a href=http://www.riksdagen.se/sv/ledamoter-partier/ledamot/_c63331e9-02ca-4f71-a7de-9a17e2ec4ac4>Riksdagen</a> <a href=http://data.riksdagen.se/personlista/?utformat=json&iid=c63331e9-02ca-4f71-a7de-9a17e2ec4ac4>json</a>"
      ],
      "text/plain": [
       "<IPython.core.display.HTML object>"
      ]
     },
     "metadata": {},
     "output_type": "display_data"
    },
    {
     "data": {
      "text/html": [
       "152: <a href=http://sv.wikipedia.org/wiki/Joakim%20J%C3%A4rrebring>Joakim Järrebring</a> - <a href=http://www.wikidata.org/wiki/Q57297792%23P39>Q57297792</a>  - <a href=http://www.riksdagen.se/sv/ledamoter-partier/ledamot/_a6a8678d-8fe2-414c-9dc4-da76ad161d23>Riksdagen</a> <a href=http://data.riksdagen.se/personlista/?utformat=json&iid=a6a8678d-8fe2-414c-9dc4-da76ad161d23>json</a>"
      ],
      "text/plain": [
       "<IPython.core.display.HTML object>"
      ]
     },
     "metadata": {},
     "output_type": "display_data"
    },
    {
     "data": {
      "text/html": [
       "153: <a href=http://sv.wikipedia.org/wiki/Joakim%20Sandell>Joakim Sandell</a> - <a href=http://www.wikidata.org/wiki/Q56706633%23P39>Q56706633</a>  - <a href=http://www.riksdagen.se/sv/ledamoter-partier/ledamot/_4a486ea1-d97c-4393-9ada-2639140cfd46>Riksdagen</a> <a href=http://data.riksdagen.se/personlista/?utformat=json&iid=4a486ea1-d97c-4393-9ada-2639140cfd46>json</a>"
      ],
      "text/plain": [
       "<IPython.core.display.HTML object>"
      ]
     },
     "metadata": {},
     "output_type": "display_data"
    },
    {
     "data": {
      "text/html": [
       "154: <a href=http://sv.wikipedia.org/wiki/Joar%20Forssell>Joar Forssell</a> - <a href=http://www.wikidata.org/wiki/Q26305112%23P39>Q26305112</a>  - <a href=http://www.riksdagen.se/sv/ledamoter-partier/ledamot/_1c9bf350-8e09-4e61-b337-d03d4656b86a>Riksdagen</a> <a href=http://data.riksdagen.se/personlista/?utformat=json&iid=1c9bf350-8e09-4e61-b337-d03d4656b86a>json</a>"
      ],
      "text/plain": [
       "<IPython.core.display.HTML object>"
      ]
     },
     "metadata": {},
     "output_type": "display_data"
    },
    {
     "data": {
      "text/html": [
       "155: <a href=http://sv.wikipedia.org/wiki/Johan%20Andersson%20%28socialdemokrat%29>Johan Andersson (socialdemokrat)</a> - <a href=http://www.wikidata.org/wiki/Q5554920%23P39>Q5554920</a>  - <a href=http://www.riksdagen.se/sv/ledamoter-partier/ledamot/_fff74c6c-fae3-4977-a472-cfe2b6ae257a>Riksdagen</a> <a href=http://data.riksdagen.se/personlista/?utformat=json&iid=fff74c6c-fae3-4977-a472-cfe2b6ae257a>json</a>"
      ],
      "text/plain": [
       "<IPython.core.display.HTML object>"
      ]
     },
     "metadata": {},
     "output_type": "display_data"
    },
    {
     "data": {
      "text/html": [
       "156: <a href=http://sv.wikipedia.org/wiki/Johan%20B%C3%BCser>Johan Büser</a> - <a href=http://www.wikidata.org/wiki/Q20095387%23P39>Q20095387</a>  - <a href=http://www.riksdagen.se/sv/ledamoter-partier/ledamot/_90110ece-022e-4e0f-bb4e-f5102900fa9a>Riksdagen</a> <a href=http://data.riksdagen.se/personlista/?utformat=json&iid=90110ece-022e-4e0f-bb4e-f5102900fa9a>json</a>"
      ],
      "text/plain": [
       "<IPython.core.display.HTML object>"
      ]
     },
     "metadata": {},
     "output_type": "display_data"
    },
    {
     "data": {
      "text/html": [
       "157: <a href=http://sv.wikipedia.org/wiki/Johan%20Forssell>Johan Forssell</a> - <a href=http://www.wikidata.org/wiki/Q5737622%23P39>Q5737622</a>  - <a href=http://www.riksdagen.se/sv/ledamoter-partier/ledamot/_0b564224-f764-4bfc-87f6-80fcaa33fa46>Riksdagen</a> <a href=http://data.riksdagen.se/personlista/?utformat=json&iid=0b564224-f764-4bfc-87f6-80fcaa33fa46>json</a>"
      ],
      "text/plain": [
       "<IPython.core.display.HTML object>"
      ]
     },
     "metadata": {},
     "output_type": "display_data"
    },
    {
     "data": {
      "text/html": [
       "158: <a href=http://sv.wikipedia.org/wiki/Johan%20Hedin%20%28politiker%29>Johan Hedin (politiker)</a> - <a href=http://www.wikidata.org/wiki/Q5795894%23P39>Q5795894</a>  - <a href=http://www.riksdagen.se/sv/ledamoter-partier/ledamot/_6014c0f6-d3b6-4ed4-ae63-ace3af71dc86>Riksdagen</a> <a href=http://data.riksdagen.se/personlista/?utformat=json&iid=6014c0f6-d3b6-4ed4-ae63-ace3af71dc86>json</a>"
      ],
      "text/plain": [
       "<IPython.core.display.HTML object>"
      ]
     },
     "metadata": {},
     "output_type": "display_data"
    },
    {
     "data": {
      "text/html": [
       "159: <a href=http://sv.wikipedia.org/wiki/Johan%20Hultberg>Johan Hultberg</a> - <a href=http://www.wikidata.org/wiki/Q5816436%23P39>Q5816436</a>  - <a href=http://www.riksdagen.se/sv/ledamoter-partier/ledamot/_31ae8846-ad0b-4ff2-aaf7-72b398d1fb5a>Riksdagen</a> <a href=http://data.riksdagen.se/personlista/?utformat=json&iid=31ae8846-ad0b-4ff2-aaf7-72b398d1fb5a>json</a>"
      ],
      "text/plain": [
       "<IPython.core.display.HTML object>"
      ]
     },
     "metadata": {},
     "output_type": "display_data"
    },
    {
     "data": {
      "text/html": [
       "160: <a href=http://sv.wikipedia.org/wiki/Johan%20L%C3%B6fstrand>Johan Löfstrand</a> - <a href=http://www.wikidata.org/wiki/Q4563305%23P39>Q4563305</a>  - <a href=http://www.riksdagen.se/sv/ledamoter-partier/ledamot/_eaf0fa85-8858-4e0e-97d8-daee0a771d1f>Riksdagen</a> <a href=http://data.riksdagen.se/personlista/?utformat=json&iid=eaf0fa85-8858-4e0e-97d8-daee0a771d1f>json</a>"
      ],
      "text/plain": [
       "<IPython.core.display.HTML object>"
      ]
     },
     "metadata": {},
     "output_type": "display_data"
    },
    {
     "data": {
      "text/html": [
       "161: <a href=http://sv.wikipedia.org/wiki/Johan%20Pehrson>Johan Pehrson</a> - <a href=http://www.wikidata.org/wiki/Q6039678%23P39>Q6039678</a>  - <a href=http://www.riksdagen.se/sv/ledamoter-partier/ledamot/_d7c327f8-83e4-11d4-ae60-0050040c9b55>Riksdagen</a> <a href=http://data.riksdagen.se/personlista/?utformat=json&iid=d7c327f8-83e4-11d4-ae60-0050040c9b55>json</a>"
      ],
      "text/plain": [
       "<IPython.core.display.HTML object>"
      ]
     },
     "metadata": {},
     "output_type": "display_data"
    },
    {
     "data": {
      "text/html": [
       "162: <a href=http://sv.wikipedia.org/wiki/Johanna%20Haraldsson>Johanna Haraldsson</a> - <a href=http://www.wikidata.org/wiki/Q18202412%23P39>Q18202412</a>  - <a href=http://www.riksdagen.se/sv/ledamoter-partier/ledamot/_a1d94b24-2d7f-4d84-99fb-ca161ba77f78>Riksdagen</a> <a href=http://data.riksdagen.se/personlista/?utformat=json&iid=a1d94b24-2d7f-4d84-99fb-ca161ba77f78>json</a>"
      ],
      "text/plain": [
       "<IPython.core.display.HTML object>"
      ]
     },
     "metadata": {},
     "output_type": "display_data"
    },
    {
     "data": {
      "text/html": [
       "163: <a href=http://sv.wikipedia.org/wiki/John%20E.%20Weinerhall>John E. Weinerhall</a> - <a href=http://www.wikidata.org/wiki/Q56660151%23P39>Q56660151</a>  - <a href=http://www.riksdagen.se/sv/ledamoter-partier/ledamot/_5af2318e-82dc-4271-b219-c12b3d74d11a>Riksdagen</a> <a href=http://data.riksdagen.se/personlista/?utformat=json&iid=5af2318e-82dc-4271-b219-c12b3d74d11a>json</a>"
      ],
      "text/plain": [
       "<IPython.core.display.HTML object>"
      ]
     },
     "metadata": {},
     "output_type": "display_data"
    },
    {
     "data": {
      "text/html": [
       "164: <a href=http://sv.wikipedia.org/wiki/John%20Widegren>John Widegren</a> - <a href=http://www.wikidata.org/wiki/Q50353136%23P39>Q50353136</a>  - <a href=http://www.riksdagen.se/sv/ledamoter-partier/ledamot/_5d1ac61d-4464-41a4-bae0-42ea3782cba8>Riksdagen</a> <a href=http://data.riksdagen.se/personlista/?utformat=json&iid=5d1ac61d-4464-41a4-bae0-42ea3782cba8>json</a>"
      ],
      "text/plain": [
       "<IPython.core.display.HTML object>"
      ]
     },
     "metadata": {},
     "output_type": "display_data"
    },
    {
     "data": {
      "text/html": [
       "165: <a href=http://sv.wikipedia.org/wiki/Johnny%20Skalin>Johnny Skalin</a> - <a href=http://www.wikidata.org/wiki/Q6328008%23P39>Q6328008</a>  - <a href=http://www.riksdagen.se/sv/ledamoter-partier/ledamot/_88b7893a-c9f3-4278-a486-353a1d77a96c>Riksdagen</a> <a href=http://data.riksdagen.se/personlista/?utformat=json&iid=88b7893a-c9f3-4278-a486-353a1d77a96c>json</a>"
      ],
      "text/plain": [
       "<IPython.core.display.HTML object>"
      ]
     },
     "metadata": {},
     "output_type": "display_data"
    },
    {
     "data": {
      "text/html": [
       "166: <a href=http://sv.wikipedia.org/wiki/Jon%20Thorbj%C3%B6rnson>Jon Thorbjörnson</a> - <a href=http://www.wikidata.org/wiki/Q70611350%23P39>Q70611350</a>  - <a href=http://www.riksdagen.se/sv/ledamoter-partier/ledamot/_e66d3e3a-3f97-4942-bc4a-f4aa89ad365a>Riksdagen</a> <a href=http://data.riksdagen.se/personlista/?utformat=json&iid=e66d3e3a-3f97-4942-bc4a-f4aa89ad365a>json</a>"
      ],
      "text/plain": [
       "<IPython.core.display.HTML object>"
      ]
     },
     "metadata": {},
     "output_type": "display_data"
    },
    {
     "data": {
      "text/html": [
       "167: <a href=http://sv.wikipedia.org/wiki/Jonas%20Andersson%20i%20Link%C3%B6ping>Jonas Andersson i Linköping</a> - <a href=http://www.wikidata.org/wiki/Q58837098%23P39>Q58837098</a>  - <a href=http://www.riksdagen.se/sv/ledamoter-partier/ledamot/_9944df03-e946-4046-aeef-c49117503a0c>Riksdagen</a> <a href=http://data.riksdagen.se/personlista/?utformat=json&iid=9944df03-e946-4046-aeef-c49117503a0c>json</a>"
      ],
      "text/plain": [
       "<IPython.core.display.HTML object>"
      ]
     },
     "metadata": {},
     "output_type": "display_data"
    },
    {
     "data": {
      "text/html": [
       "168: <a href=http://sv.wikipedia.org/wiki/Jonas%20Andersson%20i%20Skellefte%C3%A5>Jonas Andersson i Skellefteå</a> - <a href=http://www.wikidata.org/wiki/Q59387749%23P39>Q59387749</a>  - <a href=http://www.riksdagen.se/sv/ledamoter-partier/ledamot/_c5e9daf0-868f-4c8e-9a69-671c7b22855a>Riksdagen</a> <a href=http://data.riksdagen.se/personlista/?utformat=json&iid=c5e9daf0-868f-4c8e-9a69-671c7b22855a>json</a>"
      ],
      "text/plain": [
       "<IPython.core.display.HTML object>"
      ]
     },
     "metadata": {},
     "output_type": "display_data"
    },
    {
     "data": {
      "text/html": [
       "169: <a href=http://sv.wikipedia.org/wiki/Jonny%20Cato>Jonny Cato</a> - <a href=http://www.wikidata.org/wiki/Q19976447%23P39>Q19976447</a>  - <a href=http://www.riksdagen.se/sv/ledamoter-partier/ledamot/_946642dd-825a-47fb-b150-37373b873083>Riksdagen</a> <a href=http://data.riksdagen.se/personlista/?utformat=json&iid=946642dd-825a-47fb-b150-37373b873083>json</a>"
      ],
      "text/plain": [
       "<IPython.core.display.HTML object>"
      ]
     },
     "metadata": {},
     "output_type": "display_data"
    },
    {
     "data": {
      "text/html": [
       "170: <a href=http://sv.wikipedia.org/wiki/Josef%20Fransson>Josef Fransson</a> - <a href=http://www.wikidata.org/wiki/Q5740653%23P39>Q5740653</a>  - <a href=http://www.riksdagen.se/sv/ledamoter-partier/ledamot/_2131f2eb-348c-4b92-8e76-52c134d79919>Riksdagen</a> <a href=http://data.riksdagen.se/personlista/?utformat=json&iid=2131f2eb-348c-4b92-8e76-52c134d79919>json</a>"
      ],
      "text/plain": [
       "<IPython.core.display.HTML object>"
      ]
     },
     "metadata": {},
     "output_type": "display_data"
    },
    {
     "data": {
      "text/html": [
       "171: <a href=http://sv.wikipedia.org/wiki/Josefin%20Malmqvist>Josefin Malmqvist</a> - <a href=http://www.wikidata.org/wiki/Q42712344%23P39>Q42712344</a>  - <a href=http://www.riksdagen.se/sv/ledamoter-partier/ledamot/_698a36fb-19f3-48cf-bfda-20a17195fbd5>Riksdagen</a> <a href=http://data.riksdagen.se/personlista/?utformat=json&iid=698a36fb-19f3-48cf-bfda-20a17195fbd5>json</a>"
      ],
      "text/plain": [
       "<IPython.core.display.HTML object>"
      ]
     },
     "metadata": {},
     "output_type": "display_data"
    },
    {
     "data": {
      "text/html": [
       "172: <a href=http://sv.wikipedia.org/wiki/Julia%20Kronlid>Julia Kronlid</a> - <a href=http://www.wikidata.org/wiki/Q4959972%23P39>Q4959972</a>  - <a href=http://www.riksdagen.se/sv/ledamoter-partier/ledamot/_04727b66-64cd-4880-be85-dc8fe873bf8d>Riksdagen</a> <a href=http://data.riksdagen.se/personlista/?utformat=json&iid=04727b66-64cd-4880-be85-dc8fe873bf8d>json</a>"
      ],
      "text/plain": [
       "<IPython.core.display.HTML object>"
      ]
     },
     "metadata": {},
     "output_type": "display_data"
    },
    {
     "data": {
      "text/html": [
       "173: <a href=http://sv.wikipedia.org/wiki/Juno%20Blom>Juno Blom</a> - <a href=http://www.wikidata.org/wiki/Q57168632%23P39>Q57168632</a>  - <a href=http://www.riksdagen.se/sv/ledamoter-partier/ledamot/_3eae18dc-594f-44eb-95a8-0e5b2b71d645>Riksdagen</a> <a href=http://data.riksdagen.se/personlista/?utformat=json&iid=3eae18dc-594f-44eb-95a8-0e5b2b71d645>json</a>"
      ],
      "text/plain": [
       "<IPython.core.display.HTML object>"
      ]
     },
     "metadata": {},
     "output_type": "display_data"
    },
    {
     "data": {
      "text/html": [
       "174: <a href=http://sv.wikipedia.org/wiki/J%C3%B6rgen%20Berglund>Jörgen Berglund</a> - <a href=http://www.wikidata.org/wiki/Q57168821%23P39>Q57168821</a>  - <a href=http://www.riksdagen.se/sv/ledamoter-partier/ledamot/_fe6f437b-729a-4943-8e41-f43d39a5605f>Riksdagen</a> <a href=http://data.riksdagen.se/personlista/?utformat=json&iid=fe6f437b-729a-4943-8e41-f43d39a5605f>json</a>"
      ],
      "text/plain": [
       "<IPython.core.display.HTML object>"
      ]
     },
     "metadata": {},
     "output_type": "display_data"
    },
    {
     "data": {
      "text/html": [
       "175: <a href=http://sv.wikipedia.org/wiki/J%C3%B6rgen%20Grubb>Jörgen Grubb</a> - <a href=http://www.wikidata.org/wiki/Q71545861%23P39>Q71545861</a>  - <a href=http://www.riksdagen.se/sv/ledamoter-partier/ledamot/_086bff3d-8adb-47c2-b5dc-86d4a9f1b191>Riksdagen</a> <a href=http://data.riksdagen.se/personlista/?utformat=json&iid=086bff3d-8adb-47c2-b5dc-86d4a9f1b191>json</a>"
      ],
      "text/plain": [
       "<IPython.core.display.HTML object>"
      ]
     },
     "metadata": {},
     "output_type": "display_data"
    },
    {
     "data": {
      "text/html": [
       "176: <a href=http://sv.wikipedia.org/wiki/J%C3%B6rgen%20Hellman>Jörgen Hellman</a> - <a href=http://www.wikidata.org/wiki/Q5799323%23P39>Q5799323</a>  - <a href=http://www.riksdagen.se/sv/ledamoter-partier/ledamot/_26eb9dcc-8638-445e-8356-ba8fdeb6d742>Riksdagen</a> <a href=http://data.riksdagen.se/personlista/?utformat=json&iid=26eb9dcc-8638-445e-8356-ba8fdeb6d742>json</a>"
      ],
      "text/plain": [
       "<IPython.core.display.HTML object>"
      ]
     },
     "metadata": {},
     "output_type": "display_data"
    },
    {
     "data": {
      "text/html": [
       "177: <a href=http://sv.wikipedia.org/wiki/Kalle%20Olsson%20%28politiker%29>Kalle Olsson (politiker)</a> - <a href=http://www.wikidata.org/wiki/Q6027267%23P39>Q6027267</a>  - <a href=http://www.riksdagen.se/sv/ledamoter-partier/ledamot/_f8d1d1b6-f008-446e-a7f8-dd324fbb71d4>Riksdagen</a> <a href=http://data.riksdagen.se/personlista/?utformat=json&iid=f8d1d1b6-f008-446e-a7f8-dd324fbb71d4>json</a>"
      ],
      "text/plain": [
       "<IPython.core.display.HTML object>"
      ]
     },
     "metadata": {},
     "output_type": "display_data"
    },
    {
     "data": {
      "text/html": [
       "178: <a href=http://sv.wikipedia.org/wiki/Karin%20Enstr%C3%B6m>Karin Enström</a> - <a href=http://www.wikidata.org/wiki/Q3544279%23P39>Q3544279</a>  - <a href=http://www.riksdagen.se/sv/ledamoter-partier/ledamot/_d7c32504-83e4-11d4-ae60-0050040c9b55>Riksdagen</a> <a href=http://data.riksdagen.se/personlista/?utformat=json&iid=d7c32504-83e4-11d4-ae60-0050040c9b55>json</a>"
      ],
      "text/plain": [
       "<IPython.core.display.HTML object>"
      ]
     },
     "metadata": {},
     "output_type": "display_data"
    },
    {
     "data": {
      "text/html": [
       "179: <a href=http://sv.wikipedia.org/wiki/Karin%20R%C3%A5gsj%C3%B6>Karin Rågsjö</a> - <a href=http://www.wikidata.org/wiki/Q18245556%23P39>Q18245556</a>  - <a href=http://www.riksdagen.se/sv/ledamoter-partier/ledamot/_b250135d-d424-497a-8484-36cb6c0dbf3d>Riksdagen</a> <a href=http://data.riksdagen.se/personlista/?utformat=json&iid=b250135d-d424-497a-8484-36cb6c0dbf3d>json</a>"
      ],
      "text/plain": [
       "<IPython.core.display.HTML object>"
      ]
     },
     "metadata": {},
     "output_type": "display_data"
    },
    {
     "data": {
      "text/html": [
       "180: <a href=http://sv.wikipedia.org/wiki/Karolina%20Skog>Karolina Skog</a> - <a href=http://www.wikidata.org/wiki/Q4979119%23P39>Q4979119</a>  - <a href=http://www.riksdagen.se/sv/ledamoter-partier/ledamot/_b13770c1-edeb-4431-9ef2-2ce037d2567f>Riksdagen</a> <a href=http://data.riksdagen.se/personlista/?utformat=json&iid=b13770c1-edeb-4431-9ef2-2ce037d2567f>json</a>"
      ],
      "text/plain": [
       "<IPython.core.display.HTML object>"
      ]
     },
     "metadata": {},
     "output_type": "display_data"
    },
    {
     "data": {
      "text/html": [
       "181: <a href=http://sv.wikipedia.org/wiki/Katarina%20Br%C3%A4nnstr%C3%B6m>Katarina Brännström</a> - <a href=http://www.wikidata.org/wiki/Q4941068%23P39>Q4941068</a>  - <a href=http://www.riksdagen.se/sv/ledamoter-partier/ledamot/_97a9cfb7-de78-4995-8e29-40891595e8d2>Riksdagen</a> <a href=http://data.riksdagen.se/personlista/?utformat=json&iid=97a9cfb7-de78-4995-8e29-40891595e8d2>json</a>"
      ],
      "text/plain": [
       "<IPython.core.display.HTML object>"
      ]
     },
     "metadata": {},
     "output_type": "display_data"
    },
    {
     "data": {
      "text/html": [
       "182: <a href=http://sv.wikipedia.org/wiki/Katja%20Nyberg%20%28politiker%29>Katja Nyberg (politiker)</a> - <a href=http://www.wikidata.org/wiki/Q61103104%23P39>Q61103104</a>  - <a href=http://www.riksdagen.se/sv/ledamoter-partier/ledamot/_243a8476-df07-435b-b2e8-50d03926ae51>Riksdagen</a> <a href=http://data.riksdagen.se/personlista/?utformat=json&iid=243a8476-df07-435b-b2e8-50d03926ae51>json</a>"
      ],
      "text/plain": [
       "<IPython.core.display.HTML object>"
      ]
     },
     "metadata": {},
     "output_type": "display_data"
    },
    {
     "data": {
      "text/html": [
       "183: <a href=http://sv.wikipedia.org/wiki/Kenneth%20G.%20Forslund>Kenneth G. Forslund</a> - <a href=http://www.wikidata.org/wiki/Q3373169%23P39>Q3373169</a>  - <a href=http://www.riksdagen.se/sv/ledamoter-partier/ledamot/_f1484855-05d7-498f-8872-5a0c33ad535b>Riksdagen</a> <a href=http://data.riksdagen.se/personlista/?utformat=json&iid=f1484855-05d7-498f-8872-5a0c33ad535b>json</a>"
      ],
      "text/plain": [
       "<IPython.core.display.HTML object>"
      ]
     },
     "metadata": {},
     "output_type": "display_data"
    },
    {
     "data": {
      "text/html": [
       "184: <a href=http://sv.wikipedia.org/wiki/Kerstin%20Lundgren>Kerstin Lundgren</a> - <a href=http://www.wikidata.org/wiki/Q4964100%23P39>Q4964100</a>  - <a href=http://www.riksdagen.se/sv/ledamoter-partier/ledamot/_4a514760-f0a7-47a7-8a51-91bd46693df7>Riksdagen</a> <a href=http://data.riksdagen.se/personlista/?utformat=json&iid=4a514760-f0a7-47a7-8a51-91bd46693df7>json</a>"
      ],
      "text/plain": [
       "<IPython.core.display.HTML object>"
      ]
     },
     "metadata": {},
     "output_type": "display_data"
    },
    {
     "data": {
      "text/html": [
       "185: <a href=http://sv.wikipedia.org/wiki/Kjell-Arne%20Ottosson>Kjell-Arne Ottosson</a> - <a href=http://www.wikidata.org/wiki/Q70639708%23P39>Q70639708</a>  - <a href=http://www.riksdagen.se/sv/ledamoter-partier/ledamot/_708eae46-00f3-433c-ba07-7129def782fb>Riksdagen</a> <a href=http://data.riksdagen.se/personlista/?utformat=json&iid=708eae46-00f3-433c-ba07-7129def782fb>json</a>"
      ],
      "text/plain": [
       "<IPython.core.display.HTML object>"
      ]
     },
     "metadata": {},
     "output_type": "display_data"
    },
    {
     "data": {
      "text/html": [
       "186: <a href=http://sv.wikipedia.org/wiki/Kjell%20Jansson%20%28politiker%29>Kjell Jansson (politiker)</a> - <a href=http://www.wikidata.org/wiki/Q5879681%23P39>Q5879681</a>  - <a href=http://www.riksdagen.se/sv/ledamoter-partier/ledamot/_3ce8f147-129f-412c-b6ad-db566d53b1db>Riksdagen</a> <a href=http://data.riksdagen.se/personlista/?utformat=json&iid=3ce8f147-129f-412c-b6ad-db566d53b1db>json</a>"
      ],
      "text/plain": [
       "<IPython.core.display.HTML object>"
      ]
     },
     "metadata": {},
     "output_type": "display_data"
    },
    {
     "name": "stdout",
     "output_type": "stream",
     "text": [
      "\t saknar Riksdagens GUID i Wikidata: \tKristdemokraterna (Sverige)\n"
     ]
    },
    {
     "data": {
      "text/html": [
       "187: <a href=http://sv.wikipedia.org/wiki/Kristina%20Ax%C3%A9n%20Olin>Kristina Axén Olin</a> - <a href=http://www.wikidata.org/wiki/Q897282%23P39>Q897282</a>  - <a href=http://www.riksdagen.se/sv/ledamoter-partier/ledamot/_8cafb7dc-dbdd-4ac4-bd56-1e4e75daa4a6>Riksdagen</a> <a href=http://data.riksdagen.se/personlista/?utformat=json&iid=8cafb7dc-dbdd-4ac4-bd56-1e4e75daa4a6>json</a>"
      ],
      "text/plain": [
       "<IPython.core.display.HTML object>"
      ]
     },
     "metadata": {},
     "output_type": "display_data"
    },
    {
     "data": {
      "text/html": [
       "188: <a href=http://sv.wikipedia.org/wiki/Kristina%20Nilsson%20%28politiker%29>Kristina Nilsson (politiker)</a> - <a href=http://www.wikidata.org/wiki/Q4958119%23P39>Q4958119</a>  - <a href=http://www.riksdagen.se/sv/ledamoter-partier/ledamot/_a761212d-42d3-4b7d-a535-58fb33d2098d>Riksdagen</a> <a href=http://data.riksdagen.se/personlista/?utformat=json&iid=a761212d-42d3-4b7d-a535-58fb33d2098d>json</a>"
      ],
      "text/plain": [
       "<IPython.core.display.HTML object>"
      ]
     },
     "metadata": {},
     "output_type": "display_data"
    },
    {
     "data": {
      "text/html": [
       "189: <a href=http://sv.wikipedia.org/wiki/Kristina%20Yngwe>Kristina Yngwe</a> - <a href=http://www.wikidata.org/wiki/Q16616153%23P39>Q16616153</a>  - <a href=http://www.riksdagen.se/sv/ledamoter-partier/ledamot/_2cfb5b7e-ac47-45e5-84f4-6c53c047cdca>Riksdagen</a> <a href=http://data.riksdagen.se/personlista/?utformat=json&iid=2cfb5b7e-ac47-45e5-84f4-6c53c047cdca>json</a>"
      ],
      "text/plain": [
       "<IPython.core.display.HTML object>"
      ]
     },
     "metadata": {},
     "output_type": "display_data"
    },
    {
     "data": {
      "text/html": [
       "190: <a href=http://sv.wikipedia.org/wiki/Kristoffer%20Lindberg>Kristoffer Lindberg</a> - <a href=http://www.wikidata.org/wiki/Q109352589%23P39>Q109352589</a>  - <a href=http://www.riksdagen.se/sv/ledamoter-partier/ledamot/_9842d41a-513d-4030-9799-7a44b6d775ce>Riksdagen</a> <a href=http://data.riksdagen.se/personlista/?utformat=json&iid=9842d41a-513d-4030-9799-7a44b6d775ce>json</a>"
      ],
      "text/plain": [
       "<IPython.core.display.HTML object>"
      ]
     },
     "metadata": {},
     "output_type": "display_data"
    },
    {
     "data": {
      "text/html": [
       "191: <a href=http://sv.wikipedia.org/wiki/Laila%20Naraghi>Laila Naraghi</a> - <a href=http://www.wikidata.org/wiki/Q4968944%23P39>Q4968944</a>  - <a href=http://www.riksdagen.se/sv/ledamoter-partier/ledamot/_f65cb6f1-7001-4e8e-8d32-89d534577ab0>Riksdagen</a> <a href=http://data.riksdagen.se/personlista/?utformat=json&iid=f65cb6f1-7001-4e8e-8d32-89d534577ab0>json</a>"
      ],
      "text/plain": [
       "<IPython.core.display.HTML object>"
      ]
     },
     "metadata": {},
     "output_type": "display_data"
    },
    {
     "data": {
      "text/html": [
       "192: <a href=http://sv.wikipedia.org/wiki/Larry%20S%C3%B6der>Larry Söder</a> - <a href=http://www.wikidata.org/wiki/Q21578777%23P39>Q21578777</a>  - <a href=http://www.riksdagen.se/sv/ledamoter-partier/ledamot/_e238e06a-acac-4fae-829c-1773ee851878>Riksdagen</a> <a href=http://data.riksdagen.se/personlista/?utformat=json&iid=e238e06a-acac-4fae-829c-1773ee851878>json</a>"
      ],
      "text/plain": [
       "<IPython.core.display.HTML object>"
      ]
     },
     "metadata": {},
     "output_type": "display_data"
    },
    {
     "data": {
      "text/html": [
       "193: <a href=http://sv.wikipedia.org/wiki/Lars%20Adaktusson>Lars Adaktusson</a> - <a href=http://www.wikidata.org/wiki/Q17080318%23P39>Q17080318</a>  - <a href=http://www.riksdagen.se/sv/ledamoter-partier/ledamot/_4a2cb0d8-5569-4f1b-bd0f-62c7e812a2fb>Riksdagen</a> <a href=http://data.riksdagen.se/personlista/?utformat=json&iid=4a2cb0d8-5569-4f1b-bd0f-62c7e812a2fb>json</a>"
      ],
      "text/plain": [
       "<IPython.core.display.HTML object>"
      ]
     },
     "metadata": {},
     "output_type": "display_data"
    },
    {
     "data": {
      "text/html": [
       "194: <a href=http://sv.wikipedia.org/wiki/Lars%20Andersson%20%28sverigedemokrat%29>Lars Andersson (sverigedemokrat)</a> - <a href=http://www.wikidata.org/wiki/Q73918460%23P39>Q73918460</a>  - <a href=http://www.riksdagen.se/sv/ledamoter-partier/ledamot/_46472134-8e4e-4c65-856e-d401cad915dd>Riksdagen</a> <a href=http://data.riksdagen.se/personlista/?utformat=json&iid=46472134-8e4e-4c65-856e-d401cad915dd>json</a>"
      ],
      "text/plain": [
       "<IPython.core.display.HTML object>"
      ]
     },
     "metadata": {},
     "output_type": "display_data"
    },
    {
     "data": {
      "text/html": [
       "195: <a href=http://sv.wikipedia.org/wiki/Lars%20Beckman>Lars Beckman</a> - <a href=http://www.wikidata.org/wiki/Q5596130%23P39>Q5596130</a>  - <a href=http://www.riksdagen.se/sv/ledamoter-partier/ledamot/_db90fc94-9496-4748-9b84-bcfadc24af74>Riksdagen</a> <a href=http://data.riksdagen.se/personlista/?utformat=json&iid=db90fc94-9496-4748-9b84-bcfadc24af74>json</a>"
      ],
      "text/plain": [
       "<IPython.core.display.HTML object>"
      ]
     },
     "metadata": {},
     "output_type": "display_data"
    },
    {
     "data": {
      "text/html": [
       "196: <a href=http://sv.wikipedia.org/wiki/Lars%20Hj%C3%A4lmered>Lars Hjälmered</a> - <a href=http://www.wikidata.org/wiki/Q5807932%23P39>Q5807932</a>  - <a href=http://www.riksdagen.se/sv/ledamoter-partier/ledamot/_4cc89ee3-f5bd-4009-a13f-d86a40caff16>Riksdagen</a> <a href=http://data.riksdagen.se/personlista/?utformat=json&iid=4cc89ee3-f5bd-4009-a13f-d86a40caff16>json</a>"
      ],
      "text/plain": [
       "<IPython.core.display.HTML object>"
      ]
     },
     "metadata": {},
     "output_type": "display_data"
    },
    {
     "data": {
      "text/html": [
       "197: <a href=http://sv.wikipedia.org/wiki/Lars%20Jilmstad>Lars Jilmstad</a> - <a href=http://www.wikidata.org/wiki/Q96309958%23P39>Q96309958</a>  - <a href=http://www.riksdagen.se/sv/ledamoter-partier/ledamot/_66c921d0-cc6d-4137-8e09-bd8c686faa11>Riksdagen</a> <a href=http://data.riksdagen.se/personlista/?utformat=json&iid=66c921d0-cc6d-4137-8e09-bd8c686faa11>json</a>"
      ],
      "text/plain": [
       "<IPython.core.display.HTML object>"
      ]
     },
     "metadata": {},
     "output_type": "display_data"
    },
    {
     "data": {
      "text/html": [
       "198: <a href=http://sv.wikipedia.org/wiki/Lars%20Mejern%20Larsson>Lars Mejern Larsson</a> - <a href=http://www.wikidata.org/wiki/Q3358494%23P39>Q3358494</a>  - <a href=http://www.riksdagen.se/sv/ledamoter-partier/ledamot/_3badc18d-3c4a-4068-921a-b5fa8a9652d6>Riksdagen</a> <a href=http://data.riksdagen.se/personlista/?utformat=json&iid=3badc18d-3c4a-4068-921a-b5fa8a9652d6>json</a>"
      ],
      "text/plain": [
       "<IPython.core.display.HTML object>"
      ]
     },
     "metadata": {},
     "output_type": "display_data"
    },
    {
     "data": {
      "text/html": [
       "199: <a href=http://sv.wikipedia.org/wiki/Lars%20P%C3%BCss>Lars Püss</a> - <a href=http://www.wikidata.org/wiki/Q30035679%23P39>Q30035679</a>  - <a href=http://www.riksdagen.se/sv/ledamoter-partier/ledamot/_9f5c5d35-c450-4068-923a-2d8d077223d5>Riksdagen</a> <a href=http://data.riksdagen.se/personlista/?utformat=json&iid=9f5c5d35-c450-4068-923a-2d8d077223d5>json</a>"
      ],
      "text/plain": [
       "<IPython.core.display.HTML object>"
      ]
     },
     "metadata": {},
     "output_type": "display_data"
    },
    {
     "data": {
      "text/html": [
       "200: <a href=http://sv.wikipedia.org/wiki/Lars%20Thomsson>Lars Thomsson</a> - <a href=http://www.wikidata.org/wiki/Q70731884%23P39>Q70731884</a>  - <a href=http://www.riksdagen.se/sv/ledamoter-partier/ledamot/_e40dbf5a-203b-4744-84b0-a40ac2a763cb>Riksdagen</a> <a href=http://data.riksdagen.se/personlista/?utformat=json&iid=e40dbf5a-203b-4744-84b0-a40ac2a763cb>json</a>"
      ],
      "text/plain": [
       "<IPython.core.display.HTML object>"
      ]
     },
     "metadata": {},
     "output_type": "display_data"
    },
    {
     "data": {
      "text/html": [
       "201: <a href=http://sv.wikipedia.org/wiki/Lawen%20Redar>Lawen Redar</a> - <a href=http://www.wikidata.org/wiki/Q18451520%23P39>Q18451520</a>  - <a href=http://www.riksdagen.se/sv/ledamoter-partier/ledamot/_285a3d5f-cb32-4958-9b7c-1545b2faff18>Riksdagen</a> <a href=http://data.riksdagen.se/personlista/?utformat=json&iid=285a3d5f-cb32-4958-9b7c-1545b2faff18>json</a>"
      ],
      "text/plain": [
       "<IPython.core.display.HTML object>"
      ]
     },
     "metadata": {},
     "output_type": "display_data"
    },
    {
     "data": {
      "text/html": [
       "202: <a href=http://sv.wikipedia.org/wiki/Leif%20Nysmed>Leif Nysmed</a> - <a href=http://www.wikidata.org/wiki/Q20652878%23P39>Q20652878</a>  - <a href=http://www.riksdagen.se/sv/ledamoter-partier/ledamot/_bdd26f21-dca7-4e7c-af32-131937aa539b>Riksdagen</a> <a href=http://data.riksdagen.se/personlista/?utformat=json&iid=bdd26f21-dca7-4e7c-af32-131937aa539b>json</a>"
      ],
      "text/plain": [
       "<IPython.core.display.HTML object>"
      ]
     },
     "metadata": {},
     "output_type": "display_data"
    },
    {
     "data": {
      "text/html": [
       "203: <a href=http://sv.wikipedia.org/wiki/Leila%20Ali%20Elmi>Leila Ali Elmi</a> - <a href=http://www.wikidata.org/wiki/Q56640168%23P39>Q56640168</a>  - <a href=http://www.riksdagen.se/sv/ledamoter-partier/ledamot/_5997ba96-4f01-46f4-8bd8-e1411a9d503b>Riksdagen</a> <a href=http://data.riksdagen.se/personlista/?utformat=json&iid=5997ba96-4f01-46f4-8bd8-e1411a9d503b>json</a>"
      ],
      "text/plain": [
       "<IPython.core.display.HTML object>"
      ]
     },
     "metadata": {},
     "output_type": "display_data"
    },
    {
     "name": "stdout",
     "output_type": "stream",
     "text": [
      "\t saknar Riksdagens GUID i Wikidata: \tLiberalerna\n"
     ]
    },
    {
     "data": {
      "text/html": [
       "204: <a href=http://sv.wikipedia.org/wiki/Lina%20Nordquist>Lina Nordquist</a> - <a href=http://www.wikidata.org/wiki/Q16595953%23P39>Q16595953</a>  - <a href=http://www.riksdagen.se/sv/ledamoter-partier/ledamot/_87042942-c4f6-46ff-9eac-fceaf25729d5>Riksdagen</a> <a href=http://data.riksdagen.se/personlista/?utformat=json&iid=87042942-c4f6-46ff-9eac-fceaf25729d5>json</a>"
      ],
      "text/plain": [
       "<IPython.core.display.HTML object>"
      ]
     },
     "metadata": {},
     "output_type": "display_data"
    },
    {
     "data": {
      "text/html": [
       "205: <a href=http://sv.wikipedia.org/wiki/Linda%20Lindberg>Linda Lindberg</a> - <a href=http://www.wikidata.org/wiki/Q71137014%23P39>Q71137014</a>  - <a href=http://www.riksdagen.se/sv/ledamoter-partier/ledamot/_669411b1-9abf-48dd-86c3-628cc7c5d137>Riksdagen</a> <a href=http://data.riksdagen.se/personlista/?utformat=json&iid=669411b1-9abf-48dd-86c3-628cc7c5d137>json</a>"
      ],
      "text/plain": [
       "<IPython.core.display.HTML object>"
      ]
     },
     "metadata": {},
     "output_type": "display_data"
    },
    {
     "data": {
      "text/html": [
       "206: <a href=http://sv.wikipedia.org/wiki/Linda%20Modig>Linda Modig</a> - <a href=http://www.wikidata.org/wiki/Q57168715%23P39>Q57168715</a>  - <a href=http://www.riksdagen.se/sv/ledamoter-partier/ledamot/_63ea9085-f68c-4782-ae6e-12d84809d352>Riksdagen</a> <a href=http://data.riksdagen.se/personlista/?utformat=json&iid=63ea9085-f68c-4782-ae6e-12d84809d352>json</a>"
      ],
      "text/plain": [
       "<IPython.core.display.HTML object>"
      ]
     },
     "metadata": {},
     "output_type": "display_data"
    },
    {
     "data": {
      "text/html": [
       "207: <a href=http://sv.wikipedia.org/wiki/Linda%20Westerlund%20Snecker>Linda Westerlund Snecker</a> - <a href=http://www.wikidata.org/wiki/Q18245930%23P39>Q18245930</a>  - <a href=http://www.riksdagen.se/sv/ledamoter-partier/ledamot/_1c03e794-a9a3-43d5-810a-7951e4c70901>Riksdagen</a> <a href=http://data.riksdagen.se/personlista/?utformat=json&iid=1c03e794-a9a3-43d5-810a-7951e4c70901>json</a>"
      ],
      "text/plain": [
       "<IPython.core.display.HTML object>"
      ]
     },
     "metadata": {},
     "output_type": "display_data"
    },
    {
     "data": {
      "text/html": [
       "208: <a href=http://sv.wikipedia.org/wiki/Linus%20Sk%C3%B6ld>Linus Sköld</a> - <a href=http://www.wikidata.org/wiki/Q30035676%23P39>Q30035676</a>  - <a href=http://www.riksdagen.se/sv/ledamoter-partier/ledamot/_d17ef55a-9e3b-4a4d-894e-d57c7fb4973f>Riksdagen</a> <a href=http://data.riksdagen.se/personlista/?utformat=json&iid=d17ef55a-9e3b-4a4d-894e-d57c7fb4973f>json</a>"
      ],
      "text/plain": [
       "<IPython.core.display.HTML object>"
      ]
     },
     "metadata": {},
     "output_type": "display_data"
    },
    {
     "data": {
      "text/html": [
       "209: <a href=http://sv.wikipedia.org/wiki/Lorena%20Delgado%20Varas>Lorena Delgado Varas</a> - <a href=http://www.wikidata.org/wiki/Q57168752%23P39>Q57168752</a>  - <a href=http://www.riksdagen.se/sv/ledamoter-partier/ledamot/_d3874590-31fb-4743-8d55-2565df5ed8af>Riksdagen</a> <a href=http://data.riksdagen.se/personlista/?utformat=json&iid=d3874590-31fb-4743-8d55-2565df5ed8af>json</a>"
      ],
      "text/plain": [
       "<IPython.core.display.HTML object>"
      ]
     },
     "metadata": {},
     "output_type": "display_data"
    },
    {
     "data": {
      "text/html": [
       "210: <a href=http://sv.wikipedia.org/wiki/Lorentz%20Tovatt>Lorentz Tovatt</a> - <a href=http://www.wikidata.org/wiki/Q16633513%23P39>Q16633513</a>  - <a href=http://www.riksdagen.se/sv/ledamoter-partier/ledamot/_087644a0-838d-4768-9133-62745aeee287>Riksdagen</a> <a href=http://data.riksdagen.se/personlista/?utformat=json&iid=087644a0-838d-4768-9133-62745aeee287>json</a>"
      ],
      "text/plain": [
       "<IPython.core.display.HTML object>"
      ]
     },
     "metadata": {},
     "output_type": "display_data"
    },
    {
     "data": {
      "text/html": [
       "211: <a href=http://sv.wikipedia.org/wiki/Lotta%20Johnsson%20Fornarve>Lotta Johnsson Fornarve</a> - <a href=http://www.wikidata.org/wiki/Q18243097%23P39>Q18243097</a>  - <a href=http://www.riksdagen.se/sv/ledamoter-partier/ledamot/_4468626c-27a1-46c7-b530-f346b70b753b>Riksdagen</a> <a href=http://data.riksdagen.se/personlista/?utformat=json&iid=4468626c-27a1-46c7-b530-f346b70b753b>json</a>"
      ],
      "text/plain": [
       "<IPython.core.display.HTML object>"
      ]
     },
     "metadata": {},
     "output_type": "display_data"
    },
    {
     "data": {
      "text/html": [
       "212: <a href=http://sv.wikipedia.org/wiki/Lotta%20Olsson%20%28politiker%29>Lotta Olsson (politiker)</a> - <a href=http://www.wikidata.org/wiki/Q4971184%23P39>Q4971184</a>  - <a href=http://www.riksdagen.se/sv/ledamoter-partier/ledamot/_acbfe365-7ddb-44db-b076-105b2b9b689a>Riksdagen</a> <a href=http://data.riksdagen.se/personlista/?utformat=json&iid=acbfe365-7ddb-44db-b076-105b2b9b689a>json</a>"
      ],
      "text/plain": [
       "<IPython.core.display.HTML object>"
      ]
     },
     "metadata": {},
     "output_type": "display_data"
    },
    {
     "data": {
      "text/html": [
       "213: <a href=http://sv.wikipedia.org/wiki/Louise%20Meijer>Louise Meijer</a> - <a href=http://www.wikidata.org/wiki/Q57168719%23P39>Q57168719</a>  - <a href=http://www.riksdagen.se/sv/ledamoter-partier/ledamot/_88e092fa-1769-43c7-bfef-9d260811c982>Riksdagen</a> <a href=http://data.riksdagen.se/personlista/?utformat=json&iid=88e092fa-1769-43c7-bfef-9d260811c982>json</a>"
      ],
      "text/plain": [
       "<IPython.core.display.HTML object>"
      ]
     },
     "metadata": {},
     "output_type": "display_data"
    },
    {
     "data": {
      "text/html": [
       "214: <a href=http://sv.wikipedia.org/wiki/Ludvig%20Aspling>Ludvig Aspling</a> - <a href=http://www.wikidata.org/wiki/Q71131688%23P39>Q71131688</a>  - <a href=http://www.riksdagen.se/sv/ledamoter-partier/ledamot/_5b6bef5c-75ce-4f53-894d-e89afd3b6799>Riksdagen</a> <a href=http://data.riksdagen.se/personlista/?utformat=json&iid=5b6bef5c-75ce-4f53-894d-e89afd3b6799>json</a>"
      ],
      "text/plain": [
       "<IPython.core.display.HTML object>"
      ]
     },
     "metadata": {},
     "output_type": "display_data"
    },
    {
     "data": {
      "text/html": [
       "215: <a href=http://sv.wikipedia.org/wiki/Magdalena%20Schr%C3%B6der>Magdalena Schröder</a> - <a href=http://www.wikidata.org/wiki/Q58769193%23P39>Q58769193</a>  - <a href=http://www.riksdagen.se/sv/ledamoter-partier/ledamot/_af75fe5c-7d6c-493e-91d6-b44a1445c718>Riksdagen</a> <a href=http://data.riksdagen.se/personlista/?utformat=json&iid=af75fe5c-7d6c-493e-91d6-b44a1445c718>json</a>"
      ],
      "text/plain": [
       "<IPython.core.display.HTML object>"
      ]
     },
     "metadata": {},
     "output_type": "display_data"
    },
    {
     "data": {
      "text/html": [
       "216: <a href=http://sv.wikipedia.org/wiki/Magnus%20Ek>Magnus Ek</a> - <a href=http://www.wikidata.org/wiki/Q20652801%23P39>Q20652801</a>  - <a href=http://www.riksdagen.se/sv/ledamoter-partier/ledamot/_529ac523-d10b-444b-8441-56a24a66ef5b>Riksdagen</a> <a href=http://data.riksdagen.se/personlista/?utformat=json&iid=529ac523-d10b-444b-8441-56a24a66ef5b>json</a>"
      ],
      "text/plain": [
       "<IPython.core.display.HTML object>"
      ]
     },
     "metadata": {},
     "output_type": "display_data"
    },
    {
     "data": {
      "text/html": [
       "217: <a href=http://sv.wikipedia.org/wiki/Magnus%20Jacobsson>Magnus Jacobsson</a> - <a href=http://www.wikidata.org/wiki/Q5826586%23P39>Q5826586</a>  - <a href=http://www.riksdagen.se/sv/ledamoter-partier/ledamot/_d7c3282f-83e4-11d4-ae60-0050040c9b55>Riksdagen</a> <a href=http://data.riksdagen.se/personlista/?utformat=json&iid=d7c3282f-83e4-11d4-ae60-0050040c9b55>json</a>"
      ],
      "text/plain": [
       "<IPython.core.display.HTML object>"
      ]
     },
     "metadata": {},
     "output_type": "display_data"
    },
    {
     "data": {
      "text/html": [
       "218: <a href=http://sv.wikipedia.org/wiki/Magnus%20Manhammar>Magnus Manhammar</a> - <a href=http://www.wikidata.org/wiki/Q5974768%23P39>Q5974768</a>  - <a href=http://www.riksdagen.se/sv/ledamoter-partier/ledamot/_639da251-c800-4b3d-a8c5-6626094c9035>Riksdagen</a> <a href=http://data.riksdagen.se/personlista/?utformat=json&iid=639da251-c800-4b3d-a8c5-6626094c9035>json</a>"
      ],
      "text/plain": [
       "<IPython.core.display.HTML object>"
      ]
     },
     "metadata": {},
     "output_type": "display_data"
    },
    {
     "data": {
      "text/html": [
       "219: <a href=http://sv.wikipedia.org/wiki/Magnus%20Oscarsson>Magnus Oscarsson</a> - <a href=http://www.wikidata.org/wiki/Q18244900%23P39>Q18244900</a>  - <a href=http://www.riksdagen.se/sv/ledamoter-partier/ledamot/_0d218eb6-6294-4587-8abf-be0a351d7213>Riksdagen</a> <a href=http://data.riksdagen.se/personlista/?utformat=json&iid=0d218eb6-6294-4587-8abf-be0a351d7213>json</a>"
      ],
      "text/plain": [
       "<IPython.core.display.HTML object>"
      ]
     },
     "metadata": {},
     "output_type": "display_data"
    },
    {
     "data": {
      "text/html": [
       "220: <a href=http://sv.wikipedia.org/wiki/Magnus%20Persson%20%28sverigedemokrat%29>Magnus Persson (sverigedemokrat)</a> - <a href=http://www.wikidata.org/wiki/Q18245020%23P39>Q18245020</a>  - <a href=http://www.riksdagen.se/sv/ledamoter-partier/ledamot/_de52ae16-706b-4138-a194-aec42fd28aab>Riksdagen</a> <a href=http://data.riksdagen.se/personlista/?utformat=json&iid=de52ae16-706b-4138-a194-aec42fd28aab>json</a>"
      ],
      "text/plain": [
       "<IPython.core.display.HTML object>"
      ]
     },
     "metadata": {},
     "output_type": "display_data"
    },
    {
     "data": {
      "text/html": [
       "221: <a href=http://sv.wikipedia.org/wiki/Magnus%20Stuart>Magnus Stuart</a> - <a href=http://www.wikidata.org/wiki/Q105371172%23P39>Q105371172</a>  - <a href=http://www.riksdagen.se/sv/ledamoter-partier/ledamot/_60c72b3b-16de-4faf-b388-23947e62e933>Riksdagen</a> <a href=http://data.riksdagen.se/personlista/?utformat=json&iid=60c72b3b-16de-4faf-b388-23947e62e933>json</a>"
      ],
      "text/plain": [
       "<IPython.core.display.HTML object>"
      ]
     },
     "metadata": {},
     "output_type": "display_data"
    },
    {
     "data": {
      "text/html": [
       "222: <a href=http://sv.wikipedia.org/wiki/Maj%20Karlsson>Maj Karlsson</a> - <a href=http://www.wikidata.org/wiki/Q18243244%23P39>Q18243244</a>  - <a href=http://www.riksdagen.se/sv/ledamoter-partier/ledamot/_9d6489d6-6fa5-4420-9224-8968abaa569c>Riksdagen</a> <a href=http://data.riksdagen.se/personlista/?utformat=json&iid=9d6489d6-6fa5-4420-9224-8968abaa569c>json</a>"
      ],
      "text/plain": [
       "<IPython.core.display.HTML object>"
      ]
     },
     "metadata": {},
     "output_type": "display_data"
    },
    {
     "data": {
      "text/html": [
       "223: <a href=http://sv.wikipedia.org/wiki/Malin%20Bj%C3%B6rk%20%28centerpartist%29>Malin Björk (centerpartist)</a> - <a href=http://www.wikidata.org/wiki/Q108420017%23P39>Q108420017</a>  - <a href=http://www.riksdagen.se/sv/ledamoter-partier/ledamot/_02b66d05-3a6a-4bdc-9f6b-b938c7cf24b0>Riksdagen</a> <a href=http://data.riksdagen.se/personlista/?utformat=json&iid=02b66d05-3a6a-4bdc-9f6b-b938c7cf24b0>json</a>"
      ],
      "text/plain": [
       "<IPython.core.display.HTML object>"
      ]
     },
     "metadata": {},
     "output_type": "display_data"
    },
    {
     "data": {
      "text/html": [
       "224: <a href=http://sv.wikipedia.org/wiki/Malin%20Danielsson>Malin Danielsson</a> - <a href=http://www.wikidata.org/wiki/Q64404514%23P39>Q64404514</a>  - <a href=http://www.riksdagen.se/sv/ledamoter-partier/ledamot/_b25b78e6-540a-4b6d-8a54-e365587df379>Riksdagen</a> <a href=http://data.riksdagen.se/personlista/?utformat=json&iid=b25b78e6-540a-4b6d-8a54-e365587df379>json</a>"
      ],
      "text/plain": [
       "<IPython.core.display.HTML object>"
      ]
     },
     "metadata": {},
     "output_type": "display_data"
    },
    {
     "data": {
      "text/html": [
       "225: <a href=http://sv.wikipedia.org/wiki/Malin%20Larsson%20%28politiker%29>Malin Larsson (politiker)</a> - <a href=http://www.wikidata.org/wiki/Q60823079%23P39>Q60823079</a>  - <a href=http://www.riksdagen.se/sv/ledamoter-partier/ledamot/_39523176-322e-469e-a754-3c46db2b0756>Riksdagen</a> <a href=http://data.riksdagen.se/personlista/?utformat=json&iid=39523176-322e-469e-a754-3c46db2b0756>json</a>"
      ],
      "text/plain": [
       "<IPython.core.display.HTML object>"
      ]
     },
     "metadata": {},
     "output_type": "display_data"
    },
    {
     "data": {
      "text/html": [
       "226: <a href=http://sv.wikipedia.org/wiki/Margareta%20Cederfelt>Margareta Cederfelt</a> - <a href=http://www.wikidata.org/wiki/Q4942378%23P39>Q4942378</a>  - <a href=http://www.riksdagen.se/sv/ledamoter-partier/ledamot/_d7c329da-83e4-11d4-ae60-0050040c9b55>Riksdagen</a> <a href=http://data.riksdagen.se/personlista/?utformat=json&iid=d7c329da-83e4-11d4-ae60-0050040c9b55>json</a>"
      ],
      "text/plain": [
       "<IPython.core.display.HTML object>"
      ]
     },
     "metadata": {},
     "output_type": "display_data"
    },
    {
     "data": {
      "text/html": [
       "227: <a href=http://sv.wikipedia.org/wiki/Margareta%20Fransson>Margareta Fransson</a> - <a href=http://www.wikidata.org/wiki/Q108598507%23P39>Q108598507</a>  - <a href=http://www.riksdagen.se/sv/ledamoter-partier/ledamot/_0db8710b-fb8c-4e23-9f9e-e9fa7486ef15>Riksdagen</a> <a href=http://data.riksdagen.se/personlista/?utformat=json&iid=0db8710b-fb8c-4e23-9f9e-e9fa7486ef15>json</a>"
      ],
      "text/plain": [
       "<IPython.core.display.HTML object>"
      ]
     },
     "metadata": {},
     "output_type": "display_data"
    },
    {
     "data": {
      "text/html": [
       "228: <a href=http://sv.wikipedia.org/wiki/Maria%20Gardfjell>Maria Gardfjell</a> - <a href=http://www.wikidata.org/wiki/Q4949502%23P39>Q4949502</a>  - <a href=http://www.riksdagen.se/sv/ledamoter-partier/ledamot/_d9a13d2e-85ec-4c59-af10-773ff99b8eb1>Riksdagen</a> <a href=http://data.riksdagen.se/personlista/?utformat=json&iid=d9a13d2e-85ec-4c59-af10-773ff99b8eb1>json</a>"
      ],
      "text/plain": [
       "<IPython.core.display.HTML object>"
      ]
     },
     "metadata": {},
     "output_type": "display_data"
    },
    {
     "data": {
      "text/html": [
       "229: <a href=http://sv.wikipedia.org/wiki/Maria%20Malmer%20Stenergard>Maria Malmer Stenergard</a> - <a href=http://www.wikidata.org/wiki/Q18202362%23P39>Q18202362</a>  - <a href=http://www.riksdagen.se/sv/ledamoter-partier/ledamot/_4f48a9f3-c14a-4436-8ad3-a1d4166bdf30>Riksdagen</a> <a href=http://data.riksdagen.se/personlista/?utformat=json&iid=4f48a9f3-c14a-4436-8ad3-a1d4166bdf30>json</a>"
      ],
      "text/plain": [
       "<IPython.core.display.HTML object>"
      ]
     },
     "metadata": {},
     "output_type": "display_data"
    },
    {
     "data": {
      "text/html": [
       "230: <a href=http://sv.wikipedia.org/wiki/Maria%20Nilsson>Maria Nilsson</a> - <a href=http://www.wikidata.org/wiki/Q59418273%23P39>Q59418273</a>  - <a href=http://www.riksdagen.se/sv/ledamoter-partier/ledamot/_f950f83d-d19e-4ae8-82c5-8a302c4bd0eb>Riksdagen</a> <a href=http://data.riksdagen.se/personlista/?utformat=json&iid=f950f83d-d19e-4ae8-82c5-8a302c4bd0eb>json</a>"
      ],
      "text/plain": [
       "<IPython.core.display.HTML object>"
      ]
     },
     "metadata": {},
     "output_type": "display_data"
    },
    {
     "data": {
      "text/html": [
       "231: <a href=http://sv.wikipedia.org/wiki/Maria%20Stockhaus>Maria Stockhaus</a> - <a href=http://www.wikidata.org/wiki/Q4980571%23P39>Q4980571</a>  - <a href=http://www.riksdagen.se/sv/ledamoter-partier/ledamot/_ee32e119-fdfe-4e00-b136-b2102d79b2a6>Riksdagen</a> <a href=http://data.riksdagen.se/personlista/?utformat=json&iid=ee32e119-fdfe-4e00-b136-b2102d79b2a6>json</a>"
      ],
      "text/plain": [
       "<IPython.core.display.HTML object>"
      ]
     },
     "metadata": {},
     "output_type": "display_data"
    },
    {
     "data": {
      "text/html": [
       "232: <a href=http://sv.wikipedia.org/wiki/Maria%20Str%C3%B6mkvist>Maria Strömkvist</a> - <a href=http://www.wikidata.org/wiki/Q18202390%23P39>Q18202390</a>  - <a href=http://www.riksdagen.se/sv/ledamoter-partier/ledamot/_566a8a1c-0625-4f24-9beb-6b6dec928df7>Riksdagen</a> <a href=http://data.riksdagen.se/personlista/?utformat=json&iid=566a8a1c-0625-4f24-9beb-6b6dec928df7>json</a>"
      ],
      "text/plain": [
       "<IPython.core.display.HTML object>"
      ]
     },
     "metadata": {},
     "output_type": "display_data"
    },
    {
     "data": {
      "text/html": [
       "233: <a href=http://sv.wikipedia.org/wiki/Marianne%20Fundahn>Marianne Fundahn</a> - <a href=http://www.wikidata.org/wiki/Q18452054%23P39>Q18452054</a>  - <a href=http://www.riksdagen.se/sv/ledamoter-partier/ledamot/_d9f971a1-12ab-4a01-8cb6-2d2d6a9e0791>Riksdagen</a> <a href=http://data.riksdagen.se/personlista/?utformat=json&iid=d9f971a1-12ab-4a01-8cb6-2d2d6a9e0791>json</a>"
      ],
      "text/plain": [
       "<IPython.core.display.HTML object>"
      ]
     },
     "metadata": {},
     "output_type": "display_data"
    },
    {
     "data": {
      "text/html": [
       "234: <a href=http://sv.wikipedia.org/wiki/Marie-Louise%20H%C3%A4nel%20Sandstr%C3%B6m>Marie-Louise Hänel Sandström</a> - <a href=http://www.wikidata.org/wiki/Q70586981%23P39>Q70586981</a>  - <a href=http://www.riksdagen.se/sv/ledamoter-partier/ledamot/_ddbc56dc-35aa-4c01-828c-5a117e4f2682>Riksdagen</a> <a href=http://data.riksdagen.se/personlista/?utformat=json&iid=ddbc56dc-35aa-4c01-828c-5a117e4f2682>json</a>"
      ],
      "text/plain": [
       "<IPython.core.display.HTML object>"
      ]
     },
     "metadata": {},
     "output_type": "display_data"
    },
    {
     "data": {
      "text/html": [
       "235: <a href=http://sv.wikipedia.org/wiki/Marie%20Granlund>Marie Granlund</a> - <a href=http://www.wikidata.org/wiki/Q3373324%23P39>Q3373324</a>  - <a href=http://www.riksdagen.se/sv/ledamoter-partier/ledamot/_d7c3202c-83e4-11d4-ae60-0050040c9b55>Riksdagen</a> <a href=http://data.riksdagen.se/personlista/?utformat=json&iid=d7c3202c-83e4-11d4-ae60-0050040c9b55>json</a>"
      ],
      "text/plain": [
       "<IPython.core.display.HTML object>"
      ]
     },
     "metadata": {},
     "output_type": "display_data"
    },
    {
     "data": {
      "text/html": [
       "236: <a href=http://sv.wikipedia.org/wiki/Markus%20Selin>Markus Selin</a> - <a href=http://www.wikidata.org/wiki/Q72922068%23P39>Q72922068</a>  - <a href=http://www.riksdagen.se/sv/ledamoter-partier/ledamot/_4da8bb6b-fc06-4f3a-ba25-f70dfe5eb5a7>Riksdagen</a> <a href=http://data.riksdagen.se/personlista/?utformat=json&iid=4da8bb6b-fc06-4f3a-ba25-f70dfe5eb5a7>json</a>"
      ],
      "text/plain": [
       "<IPython.core.display.HTML object>"
      ]
     },
     "metadata": {},
     "output_type": "display_data"
    },
    {
     "data": {
      "text/html": [
       "237: <a href=http://sv.wikipedia.org/wiki/Markus%20Wiechel>Markus Wiechel</a> - <a href=http://www.wikidata.org/wiki/Q6240455%23P39>Q6240455</a>  - <a href=http://www.riksdagen.se/sv/ledamoter-partier/ledamot/_8a9f3c8c-8ce8-4a17-9e57-0109af47efcc>Riksdagen</a> <a href=http://data.riksdagen.se/personlista/?utformat=json&iid=8a9f3c8c-8ce8-4a17-9e57-0109af47efcc>json</a>"
      ],
      "text/plain": [
       "<IPython.core.display.HTML object>"
      ]
     },
     "metadata": {},
     "output_type": "display_data"
    },
    {
     "data": {
      "text/html": [
       "238: <a href=http://sv.wikipedia.org/wiki/Marlene%20Burwick>Marlene Burwick</a> - <a href=http://www.wikidata.org/wiki/Q42369058%23P39>Q42369058</a>  - <a href=http://www.riksdagen.se/sv/ledamoter-partier/ledamot/_cec8b2f1-f56f-4b7e-974f-eefa299c89cb>Riksdagen</a> <a href=http://data.riksdagen.se/personlista/?utformat=json&iid=cec8b2f1-f56f-4b7e-974f-eefa299c89cb>json</a>"
      ],
      "text/plain": [
       "<IPython.core.display.HTML object>"
      ]
     },
     "metadata": {},
     "output_type": "display_data"
    },
    {
     "data": {
      "text/html": [
       "239: <a href=http://sv.wikipedia.org/wiki/Marl%C3%A9ne%20Lund%20Kopparklint>Marléne Lund Kopparklint</a> - <a href=http://www.wikidata.org/wiki/Q57168695%23P39>Q57168695</a>  - <a href=http://www.riksdagen.se/sv/ledamoter-partier/ledamot/_ac019194-2cf6-4ebd-8d29-29e1f3950cdf>Riksdagen</a> <a href=http://data.riksdagen.se/personlista/?utformat=json&iid=ac019194-2cf6-4ebd-8d29-29e1f3950cdf>json</a>"
      ],
      "text/plain": [
       "<IPython.core.display.HTML object>"
      ]
     },
     "metadata": {},
     "output_type": "display_data"
    },
    {
     "data": {
      "text/html": [
       "240: <a href=http://sv.wikipedia.org/wiki/Martin%20Kinnunen>Martin Kinnunen</a> - <a href=http://www.wikidata.org/wiki/Q5910434%23P39>Q5910434</a>  - <a href=http://www.riksdagen.se/sv/ledamoter-partier/ledamot/_57cbe134-829b-4fb8-9cc1-ce2f1cd02f3b>Riksdagen</a> <a href=http://data.riksdagen.se/personlista/?utformat=json&iid=57cbe134-829b-4fb8-9cc1-ce2f1cd02f3b>json</a>"
      ],
      "text/plain": [
       "<IPython.core.display.HTML object>"
      ]
     },
     "metadata": {},
     "output_type": "display_data"
    },
    {
     "data": {
      "text/html": [
       "241: <a href=http://sv.wikipedia.org/wiki/Martin%20%C3%85dahl>Martin Ådahl</a> - <a href=http://www.wikidata.org/wiki/Q6254715%23P39>Q6254715</a>  - <a href=http://www.riksdagen.se/sv/ledamoter-partier/ledamot/_1e70f7df-dd11-410b-941a-bcac14e919a8>Riksdagen</a> <a href=http://data.riksdagen.se/personlista/?utformat=json&iid=1e70f7df-dd11-410b-941a-bcac14e919a8>json</a>"
      ],
      "text/plain": [
       "<IPython.core.display.HTML object>"
      ]
     },
     "metadata": {},
     "output_type": "display_data"
    },
    {
     "data": {
      "text/html": [
       "242: <a href=http://sv.wikipedia.org/wiki/Martina%20Johansson%20%28politiker%29>Martina Johansson (politiker)</a> - <a href=http://www.wikidata.org/wiki/Q71132178%23P39>Q71132178</a>  - <a href=http://www.riksdagen.se/sv/ledamoter-partier/ledamot/_5f965f4e-69e5-489d-99bf-a8908fc3e34a>Riksdagen</a> <a href=http://data.riksdagen.se/personlista/?utformat=json&iid=5f965f4e-69e5-489d-99bf-a8908fc3e34a>json</a>"
      ],
      "text/plain": [
       "<IPython.core.display.HTML object>"
      ]
     },
     "metadata": {},
     "output_type": "display_data"
    },
    {
     "data": {
      "text/html": [
       "243: <a href=http://sv.wikipedia.org/wiki/Matheus%20Enholm>Matheus Enholm</a> - <a href=http://www.wikidata.org/wiki/Q70899253%23P39>Q70899253</a>  - <a href=http://www.riksdagen.se/sv/ledamoter-partier/ledamot/_8c4af927-7bb6-4012-9b46-12adb641f556>Riksdagen</a> <a href=http://data.riksdagen.se/personlista/?utformat=json&iid=8c4af927-7bb6-4012-9b46-12adb641f556>json</a>"
      ],
      "text/plain": [
       "<IPython.core.display.HTML object>"
      ]
     },
     "metadata": {},
     "output_type": "display_data"
    },
    {
     "data": {
      "text/html": [
       "244: <a href=http://sv.wikipedia.org/wiki/Mathias%20Tegn%C3%A9r>Mathias Tegnér</a> - <a href=http://www.wikidata.org/wiki/Q24701062%23P39>Q24701062</a>  - <a href=http://www.riksdagen.se/sv/ledamoter-partier/ledamot/_2091e357-e195-430b-8dab-7e13732ffa41>Riksdagen</a> <a href=http://data.riksdagen.se/personlista/?utformat=json&iid=2091e357-e195-430b-8dab-7e13732ffa41>json</a>"
      ],
      "text/plain": [
       "<IPython.core.display.HTML object>"
      ]
     },
     "metadata": {},
     "output_type": "display_data"
    },
    {
     "data": {
      "text/html": [
       "245: <a href=http://sv.wikipedia.org/wiki/Mats%20Berglund%20%28politiker%29>Mats Berglund (politiker)</a> - <a href=http://www.wikidata.org/wiki/Q70994131%23P39>Q70994131</a>  - <a href=http://www.riksdagen.se/sv/ledamoter-partier/ledamot/_7a3c3bff-401a-45da-9f1b-e92d4a5c2637>Riksdagen</a> <a href=http://data.riksdagen.se/personlista/?utformat=json&iid=7a3c3bff-401a-45da-9f1b-e92d4a5c2637>json</a>"
      ],
      "text/plain": [
       "<IPython.core.display.HTML object>"
      ]
     },
     "metadata": {},
     "output_type": "display_data"
    },
    {
     "data": {
      "text/html": [
       "246: <a href=http://sv.wikipedia.org/wiki/Mats%20Green>Mats Green</a> - <a href=http://www.wikidata.org/wiki/Q18239250%23P39>Q18239250</a>  - <a href=http://www.riksdagen.se/sv/ledamoter-partier/ledamot/_d5c26045-6fd1-4c05-8f97-7195e1e324ff>Riksdagen</a> <a href=http://data.riksdagen.se/personlista/?utformat=json&iid=d5c26045-6fd1-4c05-8f97-7195e1e324ff>json</a>"
      ],
      "text/plain": [
       "<IPython.core.display.HTML object>"
      ]
     },
     "metadata": {},
     "output_type": "display_data"
    },
    {
     "data": {
      "text/html": [
       "247: <a href=http://sv.wikipedia.org/wiki/Mats%20Nordberg>Mats Nordberg</a> - <a href=http://www.wikidata.org/wiki/Q71054855%23P39>Q71054855</a>  - <a href=http://www.riksdagen.se/sv/ledamoter-partier/ledamot/_3c0112b7-fdd4-4f06-833b-a27c93d6efdf>Riksdagen</a> <a href=http://data.riksdagen.se/personlista/?utformat=json&iid=3c0112b7-fdd4-4f06-833b-a27c93d6efdf>json</a>"
      ],
      "text/plain": [
       "<IPython.core.display.HTML object>"
      ]
     },
     "metadata": {},
     "output_type": "display_data"
    },
    {
     "data": {
      "text/html": [
       "248: <a href=http://sv.wikipedia.org/wiki/Mats%20Persson%20%28politiker%29>Mats Persson (politiker)</a> - <a href=http://www.wikidata.org/wiki/Q6043377%23P39>Q6043377</a>  - <a href=http://www.riksdagen.se/sv/ledamoter-partier/ledamot/_66fca0ac-0ebb-4bd0-b1e1-f34e223d2f1b>Riksdagen</a> <a href=http://data.riksdagen.se/personlista/?utformat=json&iid=66fca0ac-0ebb-4bd0-b1e1-f34e223d2f1b>json</a>"
      ],
      "text/plain": [
       "<IPython.core.display.HTML object>"
      ]
     },
     "metadata": {},
     "output_type": "display_data"
    },
    {
     "data": {
      "text/html": [
       "249: <a href=http://sv.wikipedia.org/wiki/Mats%20Wiking>Mats Wiking</a> - <a href=http://www.wikidata.org/wiki/Q57168927%23P39>Q57168927</a>  - <a href=http://www.riksdagen.se/sv/ledamoter-partier/ledamot/_d235dd08-8b15-4e31-aec7-b380a1c1ac0b>Riksdagen</a> <a href=http://data.riksdagen.se/personlista/?utformat=json&iid=d235dd08-8b15-4e31-aec7-b380a1c1ac0b>json</a>"
      ],
      "text/plain": [
       "<IPython.core.display.HTML object>"
      ]
     },
     "metadata": {},
     "output_type": "display_data"
    },
    {
     "data": {
      "text/html": [
       "250: <a href=http://sv.wikipedia.org/wiki/Mattias%20B%C3%A4ckstr%C3%B6m%20Johansson>Mattias Bäckström Johansson</a> - <a href=http://www.wikidata.org/wiki/Q5887149%23P39>Q5887149</a>  - <a href=http://www.riksdagen.se/sv/ledamoter-partier/ledamot/_cb0336b4-54a8-4384-abe3-8d6cbebc63fa>Riksdagen</a> <a href=http://data.riksdagen.se/personlista/?utformat=json&iid=cb0336b4-54a8-4384-abe3-8d6cbebc63fa>json</a>"
      ],
      "text/plain": [
       "<IPython.core.display.HTML object>"
      ]
     },
     "metadata": {},
     "output_type": "display_data"
    },
    {
     "data": {
      "text/html": [
       "251: <a href=http://sv.wikipedia.org/wiki/Mattias%20Jonsson>Mattias Jonsson</a> - <a href=http://www.wikidata.org/wiki/Q5891875%23P39>Q5891875</a>  - <a href=http://www.riksdagen.se/sv/ledamoter-partier/ledamot/_9ae916dd-799d-4d2b-80c4-f00bc5a7344d>Riksdagen</a> <a href=http://data.riksdagen.se/personlista/?utformat=json&iid=9ae916dd-799d-4d2b-80c4-f00bc5a7344d>json</a>"
      ],
      "text/plain": [
       "<IPython.core.display.HTML object>"
      ]
     },
     "metadata": {},
     "output_type": "display_data"
    },
    {
     "data": {
      "text/html": [
       "252: <a href=http://sv.wikipedia.org/wiki/Mattias%20Karlsson%20%28moderat%29>Mattias Karlsson (moderat)</a> - <a href=http://www.wikidata.org/wiki/Q70588456%23P39>Q70588456</a>  - <a href=http://www.riksdagen.se/sv/ledamoter-partier/ledamot/_951f7039-b277-4696-ab49-7f0df0f39d1a>Riksdagen</a> <a href=http://data.riksdagen.se/personlista/?utformat=json&iid=951f7039-b277-4696-ab49-7f0df0f39d1a>json</a>"
      ],
      "text/plain": [
       "<IPython.core.display.HTML object>"
      ]
     },
     "metadata": {},
     "output_type": "display_data"
    },
    {
     "data": {
      "text/html": [
       "253: <a href=http://sv.wikipedia.org/wiki/Mattias%20Karlsson%20%28sverigedemokrat%29>Mattias Karlsson (sverigedemokrat)</a> - <a href=http://www.wikidata.org/wiki/Q5901848%23P39>Q5901848</a>  - <a href=http://www.riksdagen.se/sv/ledamoter-partier/ledamot/_727e2213-ac97-4ceb-bfab-f228debd8074>Riksdagen</a> <a href=http://data.riksdagen.se/personlista/?utformat=json&iid=727e2213-ac97-4ceb-bfab-f228debd8074>json</a>"
      ],
      "text/plain": [
       "<IPython.core.display.HTML object>"
      ]
     },
     "metadata": {},
     "output_type": "display_data"
    },
    {
     "data": {
      "text/html": [
       "254: <a href=http://sv.wikipedia.org/wiki/Mattias%20Ottosson>Mattias Ottosson</a> - <a href=http://www.wikidata.org/wiki/Q16633339%23P39>Q16633339</a>  - <a href=http://www.riksdagen.se/sv/ledamoter-partier/ledamot/_df8c5ae3-43e8-4d8a-bf64-67b9a78fef66>Riksdagen</a> <a href=http://data.riksdagen.se/personlista/?utformat=json&iid=df8c5ae3-43e8-4d8a-bf64-67b9a78fef66>json</a>"
      ],
      "text/plain": [
       "<IPython.core.display.HTML object>"
      ]
     },
     "metadata": {},
     "output_type": "display_data"
    },
    {
     "data": {
      "text/html": [
       "255: <a href=http://sv.wikipedia.org/wiki/Mattias%20Veps%C3%A4>Mattias Vepsä</a> - <a href=http://www.wikidata.org/wiki/Q6223773%23P39>Q6223773</a>  - <a href=http://www.riksdagen.se/sv/ledamoter-partier/ledamot/_b20fb0ab-e161-4d7a-acc9-57c3923d5456>Riksdagen</a> <a href=http://data.riksdagen.se/personlista/?utformat=json&iid=b20fb0ab-e161-4d7a-acc9-57c3923d5456>json</a>"
      ],
      "text/plain": [
       "<IPython.core.display.HTML object>"
      ]
     },
     "metadata": {},
     "output_type": "display_data"
    },
    {
     "data": {
      "text/html": [
       "256: <a href=http://sv.wikipedia.org/wiki/Mia%20Sydow%20M%C3%B6lleby>Mia Sydow Mölleby</a> - <a href=http://www.wikidata.org/wiki/Q4981668%23P39>Q4981668</a>  - <a href=http://www.riksdagen.se/sv/ledamoter-partier/ledamot/_0c2f572c-a7ce-4f39-8ea9-9a758a01680c>Riksdagen</a> <a href=http://data.riksdagen.se/personlista/?utformat=json&iid=0c2f572c-a7ce-4f39-8ea9-9a758a01680c>json</a>"
      ],
      "text/plain": [
       "<IPython.core.display.HTML object>"
      ]
     },
     "metadata": {},
     "output_type": "display_data"
    },
    {
     "data": {
      "text/html": [
       "257: <a href=http://sv.wikipedia.org/wiki/Michael%20Anefur>Michael Anefur</a> - <a href=http://www.wikidata.org/wiki/Q5556973%23P39>Q5556973</a>  - <a href=http://www.riksdagen.se/sv/ledamoter-partier/ledamot/_0e4e69c7-d657-47e6-be67-e8a3003084fd>Riksdagen</a> <a href=http://data.riksdagen.se/personlista/?utformat=json&iid=0e4e69c7-d657-47e6-be67-e8a3003084fd>json</a>"
      ],
      "text/plain": [
       "<IPython.core.display.HTML object>"
      ]
     },
     "metadata": {},
     "output_type": "display_data"
    },
    {
     "data": {
      "text/html": [
       "258: <a href=http://sv.wikipedia.org/wiki/Michael%20Rubbestad>Michael Rubbestad</a> - <a href=http://www.wikidata.org/wiki/Q62745971%23P39>Q62745971</a>  - <a href=http://www.riksdagen.se/sv/ledamoter-partier/ledamot/_6025366f-76b8-4664-a3ef-ea0864fc8365>Riksdagen</a> <a href=http://data.riksdagen.se/personlista/?utformat=json&iid=6025366f-76b8-4664-a3ef-ea0864fc8365>json</a>"
      ],
      "text/plain": [
       "<IPython.core.display.HTML object>"
      ]
     },
     "metadata": {},
     "output_type": "display_data"
    },
    {
     "data": {
      "text/html": [
       "259: <a href=http://sv.wikipedia.org/wiki/Mikael%20Dahlqvist>Mikael Dahlqvist</a> - <a href=http://www.wikidata.org/wiki/Q18649252%23P39>Q18649252</a>  - <a href=http://www.riksdagen.se/sv/ledamoter-partier/ledamot/_4db15792-072c-456e-a46c-6d0cee07889e>Riksdagen</a> <a href=http://data.riksdagen.se/personlista/?utformat=json&iid=4db15792-072c-456e-a46c-6d0cee07889e>json</a>"
      ],
      "text/plain": [
       "<IPython.core.display.HTML object>"
      ]
     },
     "metadata": {},
     "output_type": "display_data"
    },
    {
     "data": {
      "text/html": [
       "260: <a href=http://sv.wikipedia.org/wiki/Mikael%20Damsgaard>Mikael Damsgaard</a> - <a href=http://www.wikidata.org/wiki/Q70407251%23P39>Q70407251</a>  - <a href=http://www.riksdagen.se/sv/ledamoter-partier/ledamot/_cd568a26-75c0-401e-a4de-d43589a8dc21>Riksdagen</a> <a href=http://data.riksdagen.se/personlista/?utformat=json&iid=cd568a26-75c0-401e-a4de-d43589a8dc21>json</a>"
      ],
      "text/plain": [
       "<IPython.core.display.HTML object>"
      ]
     },
     "metadata": {},
     "output_type": "display_data"
    },
    {
     "data": {
      "text/html": [
       "261: <a href=http://sv.wikipedia.org/wiki/Mikael%20Eskilandersson>Mikael Eskilandersson</a> - <a href=http://www.wikidata.org/wiki/Q18238731%23P39>Q18238731</a>  - <a href=http://www.riksdagen.se/sv/ledamoter-partier/ledamot/_cf98df89-2103-40cc-8524-b2df33125a3f>Riksdagen</a> <a href=http://data.riksdagen.se/personlista/?utformat=json&iid=cf98df89-2103-40cc-8524-b2df33125a3f>json</a>"
      ],
      "text/plain": [
       "<IPython.core.display.HTML object>"
      ]
     },
     "metadata": {},
     "output_type": "display_data"
    },
    {
     "data": {
      "text/html": [
       "262: <a href=http://sv.wikipedia.org/wiki/Mikael%20Larsson>Mikael Larsson</a> - <a href=http://www.wikidata.org/wiki/Q60823132%23P39>Q60823132</a>  - <a href=http://www.riksdagen.se/sv/ledamoter-partier/ledamot/_39797ca4-c136-41c6-bf6b-feb256dee6b3>Riksdagen</a> <a href=http://data.riksdagen.se/personlista/?utformat=json&iid=39797ca4-c136-41c6-bf6b-feb256dee6b3>json</a>"
      ],
      "text/plain": [
       "<IPython.core.display.HTML object>"
      ]
     },
     "metadata": {},
     "output_type": "display_data"
    },
    {
     "data": {
      "text/html": [
       "263: <a href=http://sv.wikipedia.org/wiki/Mikael%20Oscarsson>Mikael Oscarsson</a> - <a href=http://www.wikidata.org/wiki/Q6030080%23P39>Q6030080</a>  - <a href=http://www.riksdagen.se/sv/ledamoter-partier/ledamot/_d7c3256b-83e4-11d4-ae60-0050040c9b55>Riksdagen</a> <a href=http://data.riksdagen.se/personlista/?utformat=json&iid=d7c3256b-83e4-11d4-ae60-0050040c9b55>json</a>"
      ],
      "text/plain": [
       "<IPython.core.display.HTML object>"
      ]
     },
     "metadata": {},
     "output_type": "display_data"
    },
    {
     "data": {
      "text/html": [
       "264: <a href=http://sv.wikipedia.org/wiki/Mikael%20Strandman>Mikael Strandman</a> - <a href=http://www.wikidata.org/wiki/Q71143822%23P39>Q71143822</a>  - <a href=http://www.riksdagen.se/sv/ledamoter-partier/ledamot/_eda7cbeb-16f4-4a35-b0cd-ca4158e60906>Riksdagen</a> <a href=http://data.riksdagen.se/personlista/?utformat=json&iid=eda7cbeb-16f4-4a35-b0cd-ca4158e60906>json</a>"
      ],
      "text/plain": [
       "<IPython.core.display.HTML object>"
      ]
     },
     "metadata": {},
     "output_type": "display_data"
    },
    {
     "name": "stdout",
     "output_type": "stream",
     "text": [
      "\t saknar Riksdagens GUID i Wikidata: \tMiljöpartiet\n",
      "\t saknar Riksdagens GUID i Wikidata: \tModeraterna\n"
     ]
    },
    {
     "data": {
      "text/html": [
       "265: <a href=http://sv.wikipedia.org/wiki/Momodou%20Jallow>Momodou Jallow</a> - <a href=http://www.wikidata.org/wiki/Q37013194%23P39>Q37013194</a>  - <a href=http://www.riksdagen.se/sv/ledamoter-partier/ledamot/_f257311a-2900-4db5-a2e2-df250c764ad6>Riksdagen</a> <a href=http://data.riksdagen.se/personlista/?utformat=json&iid=f257311a-2900-4db5-a2e2-df250c764ad6>json</a>"
      ],
      "text/plain": [
       "<IPython.core.display.HTML object>"
      ]
     },
     "metadata": {},
     "output_type": "display_data"
    },
    {
     "data": {
      "text/html": [
       "266: <a href=http://sv.wikipedia.org/wiki/Monica%20Haider>Monica Haider</a> - <a href=http://www.wikidata.org/wiki/Q18202340%23P39>Q18202340</a>  - <a href=http://www.riksdagen.se/sv/ledamoter-partier/ledamot/_6f818cd1-9a97-412f-bc59-1d1e8a2ceb19>Riksdagen</a> <a href=http://data.riksdagen.se/personlista/?utformat=json&iid=6f818cd1-9a97-412f-bc59-1d1e8a2ceb19>json</a>"
      ],
      "text/plain": [
       "<IPython.core.display.HTML object>"
      ]
     },
     "metadata": {},
     "output_type": "display_data"
    },
    {
     "data": {
      "text/html": [
       "267: <a href=http://sv.wikipedia.org/wiki/Nicklas%20Attefjord>Nicklas Attefjord</a> - <a href=http://www.wikidata.org/wiki/Q105414501%23P39>Q105414501</a>  - <a href=http://www.riksdagen.se/sv/ledamoter-partier/ledamot/_dcb6381a-3e44-4efa-9a47-1303b691a7e7>Riksdagen</a> <a href=http://data.riksdagen.se/personlista/?utformat=json&iid=dcb6381a-3e44-4efa-9a47-1303b691a7e7>json</a>"
      ],
      "text/plain": [
       "<IPython.core.display.HTML object>"
      ]
     },
     "metadata": {},
     "output_type": "display_data"
    },
    {
     "data": {
      "text/html": [
       "268: <a href=http://sv.wikipedia.org/wiki/Niels%20Paarup-Petersen>Niels Paarup-Petersen</a> - <a href=http://www.wikidata.org/wiki/Q63344500%23P39>Q63344500</a>  - <a href=http://www.riksdagen.se/sv/ledamoter-partier/ledamot/_1512b21b-9312-41bc-80ed-f4f0e58f1de4>Riksdagen</a> <a href=http://data.riksdagen.se/personlista/?utformat=json&iid=1512b21b-9312-41bc-80ed-f4f0e58f1de4>json</a>"
      ],
      "text/plain": [
       "<IPython.core.display.HTML object>"
      ]
     },
     "metadata": {},
     "output_type": "display_data"
    },
    {
     "data": {
      "text/html": [
       "269: <a href=http://sv.wikipedia.org/wiki/Niklas%20Karlsson%20%28politiker%29>Niklas Karlsson (politiker)</a> - <a href=http://www.wikidata.org/wiki/Q16633140%23P39>Q16633140</a>  - <a href=http://www.riksdagen.se/sv/ledamoter-partier/ledamot/_b20fb574-b44c-42af-ae93-064dfabbffaf>Riksdagen</a> <a href=http://data.riksdagen.se/personlista/?utformat=json&iid=b20fb574-b44c-42af-ae93-064dfabbffaf>json</a>"
      ],
      "text/plain": [
       "<IPython.core.display.HTML object>"
      ]
     },
     "metadata": {},
     "output_type": "display_data"
    },
    {
     "data": {
      "text/html": [
       "270: <a href=http://sv.wikipedia.org/wiki/Niklas%20Wykman>Niklas Wykman</a> - <a href=http://www.wikidata.org/wiki/Q6247957%23P39>Q6247957</a>  - <a href=http://www.riksdagen.se/sv/ledamoter-partier/ledamot/_ab589436-528b-42c5-8e0c-28849b0d2294>Riksdagen</a> <a href=http://data.riksdagen.se/personlista/?utformat=json&iid=ab589436-528b-42c5-8e0c-28849b0d2294>json</a>"
      ],
      "text/plain": [
       "<IPython.core.display.HTML object>"
      ]
     },
     "metadata": {},
     "output_type": "display_data"
    },
    {
     "data": {
      "text/html": [
       "271: <a href=http://sv.wikipedia.org/wiki/Nina%20Lundstr%C3%B6m>Nina Lundström</a> - <a href=http://www.wikidata.org/wiki/Q4356431%23P39>Q4356431</a>  - <a href=http://www.riksdagen.se/sv/ledamoter-partier/ledamot/_241a3fd7-124c-4e9e-ac01-9083f36b3295>Riksdagen</a> <a href=http://data.riksdagen.se/personlista/?utformat=json&iid=241a3fd7-124c-4e9e-ac01-9083f36b3295>json</a>"
      ],
      "text/plain": [
       "<IPython.core.display.HTML object>"
      ]
     },
     "metadata": {},
     "output_type": "display_data"
    },
    {
     "data": {
      "text/html": [
       "272: <a href=http://sv.wikipedia.org/wiki/Nooshi%20Dadgostar>Nooshi Dadgostar</a> - <a href=http://www.wikidata.org/wiki/Q18238235%23P39>Q18238235</a>  - <a href=http://www.riksdagen.se/sv/ledamoter-partier/ledamot/_78d79a96-956f-4ac3-bbf7-2b15b3d86ce7>Riksdagen</a> <a href=http://data.riksdagen.se/personlista/?utformat=json&iid=78d79a96-956f-4ac3-bbf7-2b15b3d86ce7>json</a>"
      ],
      "text/plain": [
       "<IPython.core.display.HTML object>"
      ]
     },
     "metadata": {},
     "output_type": "display_data"
    },
    {
     "data": {
      "text/html": [
       "273: <a href=http://sv.wikipedia.org/wiki/Noria%20Manouchi>Noria Manouchi</a> - <a href=http://www.wikidata.org/wiki/Q70589038%23P39>Q70589038</a>  - <a href=http://www.riksdagen.se/sv/ledamoter-partier/ledamot/_2d211f58-34b9-44c9-b2f0-def45ed3e03c>Riksdagen</a> <a href=http://data.riksdagen.se/personlista/?utformat=json&iid=2d211f58-34b9-44c9-b2f0-def45ed3e03c>json</a>"
      ],
      "text/plain": [
       "<IPython.core.display.HTML object>"
      ]
     },
     "metadata": {},
     "output_type": "display_data"
    },
    {
     "data": {
      "text/html": [
       "274: <a href=http://sv.wikipedia.org/wiki/Ola%20Johansson%20%28politiker%29>Ola Johansson (politiker)</a> - <a href=http://www.wikidata.org/wiki/Q5887280%23P39>Q5887280</a>  - <a href=http://www.riksdagen.se/sv/ledamoter-partier/ledamot/_728bd800-61df-4b9a-86ed-1fe3d8479f14>Riksdagen</a> <a href=http://data.riksdagen.se/personlista/?utformat=json&iid=728bd800-61df-4b9a-86ed-1fe3d8479f14>json</a>"
      ],
      "text/plain": [
       "<IPython.core.display.HTML object>"
      ]
     },
     "metadata": {},
     "output_type": "display_data"
    },
    {
     "data": {
      "text/html": [
       "275: <a href=http://sv.wikipedia.org/wiki/Ola%20M%C3%B6ller%20%28politiker%29>Ola Möller (politiker)</a> - <a href=http://www.wikidata.org/wiki/Q19977055%23P39>Q19977055</a>  - <a href=http://www.riksdagen.se/sv/ledamoter-partier/ledamot/_002ed7e8-1202-46df-a87c-8585e5b92012>Riksdagen</a> <a href=http://data.riksdagen.se/personlista/?utformat=json&iid=002ed7e8-1202-46df-a87c-8585e5b92012>json</a>"
      ],
      "text/plain": [
       "<IPython.core.display.HTML object>"
      ]
     },
     "metadata": {},
     "output_type": "display_data"
    },
    {
     "data": {
      "text/html": [
       "276: <a href=http://sv.wikipedia.org/wiki/Olle%20Thorell>Olle Thorell</a> - <a href=http://www.wikidata.org/wiki/Q6209093%23P39>Q6209093</a>  - <a href=http://www.riksdagen.se/sv/ledamoter-partier/ledamot/_6d1640b5-12e6-41a3-82a2-a3e91c172cda>Riksdagen</a> <a href=http://data.riksdagen.se/personlista/?utformat=json&iid=6d1640b5-12e6-41a3-82a2-a3e91c172cda>json</a>"
      ],
      "text/plain": [
       "<IPython.core.display.HTML object>"
      ]
     },
     "metadata": {},
     "output_type": "display_data"
    },
    {
     "data": {
      "text/html": [
       "277: <a href=http://sv.wikipedia.org/wiki/Oscar%20Sj%C3%B6stedt>Oscar Sjöstedt</a> - <a href=http://www.wikidata.org/wiki/Q18617010%23P39>Q18617010</a>  - <a href=http://www.riksdagen.se/sv/ledamoter-partier/ledamot/_78e41c66-0d03-4914-9369-f03b795217e5>Riksdagen</a> <a href=http://data.riksdagen.se/personlista/?utformat=json&iid=78e41c66-0d03-4914-9369-f03b795217e5>json</a>"
      ],
      "text/plain": [
       "<IPython.core.display.HTML object>"
      ]
     },
     "metadata": {},
     "output_type": "display_data"
    },
    {
     "name": "stdout",
     "output_type": "stream",
     "text": [
      "\t saknar Riksdagens GUID i Wikidata: \tPartilös\n"
     ]
    },
    {
     "data": {
      "text/html": [
       "278: <a href=http://sv.wikipedia.org/wiki/Patrick%20Reslow>Patrick Reslow</a> - <a href=http://www.wikidata.org/wiki/Q6068516%23P39>Q6068516</a>  - <a href=http://www.riksdagen.se/sv/ledamoter-partier/ledamot/_6aa5f2eb-568a-4853-a925-65fee736b037>Riksdagen</a> <a href=http://data.riksdagen.se/personlista/?utformat=json&iid=6aa5f2eb-568a-4853-a925-65fee736b037>json</a>"
      ],
      "text/plain": [
       "<IPython.core.display.HTML object>"
      ]
     },
     "metadata": {},
     "output_type": "display_data"
    },
    {
     "data": {
      "text/html": [
       "279: <a href=http://sv.wikipedia.org/wiki/Patrik%20Bj%C3%B6rck>Patrik Björck</a> - <a href=http://www.wikidata.org/wiki/Q5577436%23P39>Q5577436</a>  - <a href=http://www.riksdagen.se/sv/ledamoter-partier/ledamot/_8a5b8260-f6d5-4d17-af0b-a339cd40470e>Riksdagen</a> <a href=http://data.riksdagen.se/personlista/?utformat=json&iid=8a5b8260-f6d5-4d17-af0b-a339cd40470e>json</a>"
      ],
      "text/plain": [
       "<IPython.core.display.HTML object>"
      ]
     },
     "metadata": {},
     "output_type": "display_data"
    },
    {
     "data": {
      "text/html": [
       "280: <a href=http://sv.wikipedia.org/wiki/Patrik%20Engstr%C3%B6m%20%28politiker%29>Patrik Engström (politiker)</a> - <a href=http://www.wikidata.org/wiki/Q30000498%23P39>Q30000498</a>  - <a href=http://www.riksdagen.se/sv/ledamoter-partier/ledamot/_22fbd180-3870-4f26-a5ee-eeab42b00de8>Riksdagen</a> <a href=http://data.riksdagen.se/personlista/?utformat=json&iid=22fbd180-3870-4f26-a5ee-eeab42b00de8>json</a>"
      ],
      "text/plain": [
       "<IPython.core.display.HTML object>"
      ]
     },
     "metadata": {},
     "output_type": "display_data"
    },
    {
     "data": {
      "text/html": [
       "281: <a href=http://sv.wikipedia.org/wiki/Patrik%20J%C3%B6nsson%20%28politiker%29>Patrik Jönsson (politiker)</a> - <a href=http://www.wikidata.org/wiki/Q18243181%23P39>Q18243181</a>  - <a href=http://www.riksdagen.se/sv/ledamoter-partier/ledamot/_0007cc9d-247c-4136-80d1-0bae44bd20ba>Riksdagen</a> <a href=http://data.riksdagen.se/personlista/?utformat=json&iid=0007cc9d-247c-4136-80d1-0bae44bd20ba>json</a>"
      ],
      "text/plain": [
       "<IPython.core.display.HTML object>"
      ]
     },
     "metadata": {},
     "output_type": "display_data"
    },
    {
     "data": {
      "text/html": [
       "282: <a href=http://sv.wikipedia.org/wiki/Paula%20Holmqvist>Paula Holmqvist</a> - <a href=http://www.wikidata.org/wiki/Q18202338%23P39>Q18202338</a>  - <a href=http://www.riksdagen.se/sv/ledamoter-partier/ledamot/_ee75e6d6-b026-4d65-a54e-f02861c80721>Riksdagen</a> <a href=http://data.riksdagen.se/personlista/?utformat=json&iid=ee75e6d6-b026-4d65-a54e-f02861c80721>json</a>"
      ],
      "text/plain": [
       "<IPython.core.display.HTML object>"
      ]
     },
     "metadata": {},
     "output_type": "display_data"
    },
    {
     "data": {
      "text/html": [
       "283: <a href=http://sv.wikipedia.org/wiki/Paula%20%C3%96rn>Paula Örn</a> - <a href=http://www.wikidata.org/wiki/Q39871399%23P39>Q39871399</a>  - <a href=http://www.riksdagen.se/sv/ledamoter-partier/ledamot/_8d3bb6de-ab72-465c-8060-f0104da40b4e>Riksdagen</a> <a href=http://data.riksdagen.se/personlista/?utformat=json&iid=8d3bb6de-ab72-465c-8060-f0104da40b4e>json</a>"
      ],
      "text/plain": [
       "<IPython.core.display.HTML object>"
      ]
     },
     "metadata": {},
     "output_type": "display_data"
    },
    {
     "data": {
      "text/html": [
       "284: <a href=http://sv.wikipedia.org/wiki/Per-Arne%20H%C3%A5kansson>Per-Arne Håkansson</a> - <a href=http://www.wikidata.org/wiki/Q21531339%23P39>Q21531339</a>  - <a href=http://www.riksdagen.se/sv/ledamoter-partier/ledamot/_0ba9f702-555f-419f-89fb-7e1234ae1171>Riksdagen</a> <a href=http://data.riksdagen.se/personlista/?utformat=json&iid=0ba9f702-555f-419f-89fb-7e1234ae1171>json</a>"
      ],
      "text/plain": [
       "<IPython.core.display.HTML object>"
      ]
     },
     "metadata": {},
     "output_type": "display_data"
    },
    {
     "data": {
      "text/html": [
       "285: <a href=http://sv.wikipedia.org/wiki/Per%20Ramhorn>Per Ramhorn</a> - <a href=http://www.wikidata.org/wiki/Q6062372%23P39>Q6062372</a>  - <a href=http://www.riksdagen.se/sv/ledamoter-partier/ledamot/_e9375099-ca5f-4aac-a0ab-de8e3ed1ee99>Riksdagen</a> <a href=http://data.riksdagen.se/personlista/?utformat=json&iid=e9375099-ca5f-4aac-a0ab-de8e3ed1ee99>json</a>"
      ],
      "text/plain": [
       "<IPython.core.display.HTML object>"
      ]
     },
     "metadata": {},
     "output_type": "display_data"
    },
    {
     "data": {
      "text/html": [
       "286: <a href=http://sv.wikipedia.org/wiki/Per%20Sch%C3%B6ldberg>Per Schöldberg</a> - <a href=http://www.wikidata.org/wiki/Q71064125%23P39>Q71064125</a>  - <a href=http://www.riksdagen.se/sv/ledamoter-partier/ledamot/_679f593a-0cce-4fbc-a5e4-0d803b93ac20>Riksdagen</a> <a href=http://data.riksdagen.se/personlista/?utformat=json&iid=679f593a-0cce-4fbc-a5e4-0d803b93ac20>json</a>"
      ],
      "text/plain": [
       "<IPython.core.display.HTML object>"
      ]
     },
     "metadata": {},
     "output_type": "display_data"
    },
    {
     "data": {
      "text/html": [
       "287: <a href=http://sv.wikipedia.org/wiki/Per%20S%C3%B6derlund>Per Söderlund</a> - <a href=http://www.wikidata.org/wiki/Q71546781%23P39>Q71546781</a>  - <a href=http://www.riksdagen.se/sv/ledamoter-partier/ledamot/_f3da7403-18a0-454d-bcac-9a0a36783d38>Riksdagen</a> <a href=http://data.riksdagen.se/personlista/?utformat=json&iid=f3da7403-18a0-454d-bcac-9a0a36783d38>json</a>"
      ],
      "text/plain": [
       "<IPython.core.display.HTML object>"
      ]
     },
     "metadata": {},
     "output_type": "display_data"
    },
    {
     "data": {
      "text/html": [
       "288: <a href=http://sv.wikipedia.org/wiki/Per%20%C3%85sling>Per Åsling</a> - <a href=http://www.wikidata.org/wiki/Q6255956%23P39>Q6255956</a>  - <a href=http://www.riksdagen.se/sv/ledamoter-partier/ledamot/_74c39a37-e184-44f6-9a7e-36cdb06c9dcc>Riksdagen</a> <a href=http://data.riksdagen.se/personlista/?utformat=json&iid=74c39a37-e184-44f6-9a7e-36cdb06c9dcc>json</a>"
      ],
      "text/plain": [
       "<IPython.core.display.HTML object>"
      ]
     },
     "metadata": {},
     "output_type": "display_data"
    },
    {
     "data": {
      "text/html": [
       "289: <a href=http://sv.wikipedia.org/wiki/Pernilla%20St%C3%A5lhammar>Pernilla Stålhammar</a> - <a href=http://www.wikidata.org/wiki/Q18454922%23P39>Q18454922</a>  - <a href=http://www.riksdagen.se/sv/ledamoter-partier/ledamot/_02562f8f-735e-4da4-9a8c-e0c9d2a021fd>Riksdagen</a> <a href=http://data.riksdagen.se/personlista/?utformat=json&iid=02562f8f-735e-4da4-9a8c-e0c9d2a021fd>json</a>"
      ],
      "text/plain": [
       "<IPython.core.display.HTML object>"
      ]
     },
     "metadata": {},
     "output_type": "display_data"
    },
    {
     "data": {
      "text/html": [
       "290: <a href=http://sv.wikipedia.org/wiki/Peter%20Helander%20%28politiker%29>Peter Helander (politiker)</a> - <a href=http://www.wikidata.org/wiki/Q25935880%23P39>Q25935880</a>  - <a href=http://www.riksdagen.se/sv/ledamoter-partier/ledamot/_3234a755-70b3-40db-b414-d5afb960ed4e>Riksdagen</a> <a href=http://data.riksdagen.se/personlista/?utformat=json&iid=3234a755-70b3-40db-b414-d5afb960ed4e>json</a>"
      ],
      "text/plain": [
       "<IPython.core.display.HTML object>"
      ]
     },
     "metadata": {},
     "output_type": "display_data"
    },
    {
     "data": {
      "text/html": [
       "291: <a href=http://sv.wikipedia.org/wiki/Petter%20L%C3%B6berg>Petter Löberg</a> - <a href=http://www.wikidata.org/wiki/Q5969317%23P39>Q5969317</a>  - <a href=http://www.riksdagen.se/sv/ledamoter-partier/ledamot/_7826c819-d0da-4e4a-a16b-ffa3d8e9b155>Riksdagen</a> <a href=http://data.riksdagen.se/personlista/?utformat=json&iid=7826c819-d0da-4e4a-a16b-ffa3d8e9b155>json</a>"
      ],
      "text/plain": [
       "<IPython.core.display.HTML object>"
      ]
     },
     "metadata": {},
     "output_type": "display_data"
    },
    {
     "data": {
      "text/html": [
       "292: <a href=http://sv.wikipedia.org/wiki/Pia%20Nilsson%20%28politiker%29>Pia Nilsson (politiker)</a> - <a href=http://www.wikidata.org/wiki/Q3370093%23P39>Q3370093</a>  - <a href=http://www.riksdagen.se/sv/ledamoter-partier/ledamot/_d6a34e6b-6f87-455c-ab36-fd75292f0ed0>Riksdagen</a> <a href=http://data.riksdagen.se/personlista/?utformat=json&iid=d6a34e6b-6f87-455c-ab36-fd75292f0ed0>json</a>"
      ],
      "text/plain": [
       "<IPython.core.display.HTML object>"
      ]
     },
     "metadata": {},
     "output_type": "display_data"
    },
    {
     "data": {
      "text/html": [
       "293: <a href=http://sv.wikipedia.org/wiki/Pia%20Steensland>Pia Steensland</a> - <a href=http://www.wikidata.org/wiki/Q57280146%23P39>Q57280146</a>  - <a href=http://www.riksdagen.se/sv/ledamoter-partier/ledamot/_0255b271-a7f0-43bc-9f5b-9fa694990dab>Riksdagen</a> <a href=http://data.riksdagen.se/personlista/?utformat=json&iid=0255b271-a7f0-43bc-9f5b-9fa694990dab>json</a>"
      ],
      "text/plain": [
       "<IPython.core.display.HTML object>"
      ]
     },
     "metadata": {},
     "output_type": "display_data"
    },
    {
     "data": {
      "text/html": [
       "294: <a href=http://sv.wikipedia.org/wiki/Pyry%20Niemi>Pyry Niemi</a> - <a href=http://www.wikidata.org/wiki/Q6007973%23P39>Q6007973</a>  - <a href=http://www.riksdagen.se/sv/ledamoter-partier/ledamot/_f0303245-c279-46dc-bffb-549d300db73a>Riksdagen</a> <a href=http://data.riksdagen.se/personlista/?utformat=json&iid=f0303245-c279-46dc-bffb-549d300db73a>json</a>"
      ],
      "text/plain": [
       "<IPython.core.display.HTML object>"
      ]
     },
     "metadata": {},
     "output_type": "display_data"
    },
    {
     "data": {
      "text/html": [
       "295: <a href=http://sv.wikipedia.org/wiki/P%C3%A5l%20Jonson>Pål Jonson</a> - <a href=http://www.wikidata.org/wiki/Q27299991%23P39>Q27299991</a>  - <a href=http://www.riksdagen.se/sv/ledamoter-partier/ledamot/_057d1c7b-e668-4acc-8167-5d8dc68db0af>Riksdagen</a> <a href=http://data.riksdagen.se/personlista/?utformat=json&iid=057d1c7b-e668-4acc-8167-5d8dc68db0af>json</a>"
      ],
      "text/plain": [
       "<IPython.core.display.HTML object>"
      ]
     },
     "metadata": {},
     "output_type": "display_data"
    },
    {
     "data": {
      "text/html": [
       "296: <a href=http://sv.wikipedia.org/wiki/Rasmus%20Ling>Rasmus Ling</a> - <a href=http://www.wikidata.org/wiki/Q18243853%23P39>Q18243853</a>  - <a href=http://www.riksdagen.se/sv/ledamoter-partier/ledamot/_8af2f4df-6c44-4844-89af-c0fd142e4eed>Riksdagen</a> <a href=http://data.riksdagen.se/personlista/?utformat=json&iid=8af2f4df-6c44-4844-89af-c0fd142e4eed>json</a>"
      ],
      "text/plain": [
       "<IPython.core.display.HTML object>"
      ]
     },
     "metadata": {},
     "output_type": "display_data"
    },
    {
     "data": {
      "text/html": [
       "297: <a href=http://sv.wikipedia.org/wiki/Richard%20Jomshof>Richard Jomshof</a> - <a href=http://www.wikidata.org/wiki/Q5890031%23P39>Q5890031</a>  - <a href=http://www.riksdagen.se/sv/ledamoter-partier/ledamot/_ea8bae0d-0db4-4c68-b59f-3ba83d5f445d>Riksdagen</a> <a href=http://data.riksdagen.se/personlista/?utformat=json&iid=ea8bae0d-0db4-4c68-b59f-3ba83d5f445d>json</a>"
      ],
      "text/plain": [
       "<IPython.core.display.HTML object>"
      ]
     },
     "metadata": {},
     "output_type": "display_data"
    },
    {
     "data": {
      "text/html": [
       "298: <a href=http://sv.wikipedia.org/wiki/Rickard%20Nordin>Rickard Nordin</a> - <a href=http://www.wikidata.org/wiki/Q6015398%23P39>Q6015398</a>  - <a href=http://www.riksdagen.se/sv/ledamoter-partier/ledamot/_a57d39bb-9f60-4def-ab90-97791ec56447>Riksdagen</a> <a href=http://data.riksdagen.se/personlista/?utformat=json&iid=a57d39bb-9f60-4def-ab90-97791ec56447>json</a>"
      ],
      "text/plain": [
       "<IPython.core.display.HTML object>"
      ]
     },
     "metadata": {},
     "output_type": "display_data"
    },
    {
     "data": {
      "text/html": [
       "299: <a href=http://sv.wikipedia.org/wiki/Rikard%20Larsson>Rikard Larsson</a> - <a href=http://www.wikidata.org/wiki/Q5938586%23P39>Q5938586</a>  - <a href=http://www.riksdagen.se/sv/ledamoter-partier/ledamot/_d3a9b52a-0d94-4610-b20e-d0ed8375c9d1>Riksdagen</a> <a href=http://data.riksdagen.se/personlista/?utformat=json&iid=d3a9b52a-0d94-4610-b20e-d0ed8375c9d1>json</a>"
      ],
      "text/plain": [
       "<IPython.core.display.HTML object>"
      ]
     },
     "metadata": {},
     "output_type": "display_data"
    },
    {
     "data": {
      "text/html": [
       "300: <a href=http://sv.wikipedia.org/wiki/Robert%20Halef>Robert Halef</a> - <a href=http://www.wikidata.org/wiki/Q5783589%23P39>Q5783589</a>  - <a href=http://www.riksdagen.se/sv/ledamoter-partier/ledamot/_4eda0e46-58a1-446f-b12b-1de6132f4f35>Riksdagen</a> <a href=http://data.riksdagen.se/personlista/?utformat=json&iid=4eda0e46-58a1-446f-b12b-1de6132f4f35>json</a>"
      ],
      "text/plain": [
       "<IPython.core.display.HTML object>"
      ]
     },
     "metadata": {},
     "output_type": "display_data"
    },
    {
     "data": {
      "text/html": [
       "301: <a href=http://sv.wikipedia.org/wiki/Robert%20Hannah>Robert Hannah</a> - <a href=http://www.wikidata.org/wiki/Q17265833%23P39>Q17265833</a>  - <a href=http://www.riksdagen.se/sv/ledamoter-partier/ledamot/_99a5ca75-949e-470a-9b44-e2cdbcec920b>Riksdagen</a> <a href=http://data.riksdagen.se/personlista/?utformat=json&iid=99a5ca75-949e-470a-9b44-e2cdbcec920b>json</a>"
      ],
      "text/plain": [
       "<IPython.core.display.HTML object>"
      ]
     },
     "metadata": {},
     "output_type": "display_data"
    },
    {
     "data": {
      "text/html": [
       "302: <a href=http://sv.wikipedia.org/wiki/Robert%20Stenkvist>Robert Stenkvist</a> - <a href=http://www.wikidata.org/wiki/Q18243514%23P39>Q18243514</a>  - <a href=http://www.riksdagen.se/sv/ledamoter-partier/ledamot/_0cb27c59-4f9e-4d84-a8e2-f45325b5a93c>Riksdagen</a> <a href=http://data.riksdagen.se/personlista/?utformat=json&iid=0cb27c59-4f9e-4d84-a8e2-f45325b5a93c>json</a>"
      ],
      "text/plain": [
       "<IPython.core.display.HTML object>"
      ]
     },
     "metadata": {},
     "output_type": "display_data"
    },
    {
     "data": {
      "text/html": [
       "303: <a href=http://sv.wikipedia.org/wiki/Roger%20Haddad>Roger Haddad</a> - <a href=http://www.wikidata.org/wiki/Q5781437%23P39>Q5781437</a>  - <a href=http://www.riksdagen.se/sv/ledamoter-partier/ledamot/_521898f1-51de-46ff-8701-d28b8a0e651d>Riksdagen</a> <a href=http://data.riksdagen.se/personlista/?utformat=json&iid=521898f1-51de-46ff-8701-d28b8a0e651d>json</a>"
      ],
      "text/plain": [
       "<IPython.core.display.HTML object>"
      ]
     },
     "metadata": {},
     "output_type": "display_data"
    },
    {
     "data": {
      "text/html": [
       "304: <a href=http://sv.wikipedia.org/wiki/Roger%20Hedlund>Roger Hedlund</a> - <a href=http://www.wikidata.org/wiki/Q18274557%23P39>Q18274557</a>  - <a href=http://www.riksdagen.se/sv/ledamoter-partier/ledamot/_dd0d47ea-5e71-4ec9-b987-3261320ac857>Riksdagen</a> <a href=http://data.riksdagen.se/personlista/?utformat=json&iid=dd0d47ea-5e71-4ec9-b987-3261320ac857>json</a>"
      ],
      "text/plain": [
       "<IPython.core.display.HTML object>"
      ]
     },
     "metadata": {},
     "output_type": "display_data"
    },
    {
     "data": {
      "text/html": [
       "305: <a href=http://sv.wikipedia.org/wiki/Roger%20Richtoff>Roger Richtoff</a> - <a href=http://www.wikidata.org/wiki/Q18245379%23P39>Q18245379</a>  - <a href=http://www.riksdagen.se/sv/ledamoter-partier/ledamot/_b4329cc3-9256-470c-a712-5e2501c6fde7>Riksdagen</a> <a href=http://data.riksdagen.se/personlista/?utformat=json&iid=b4329cc3-9256-470c-a712-5e2501c6fde7>json</a>"
      ],
      "text/plain": [
       "<IPython.core.display.HTML object>"
      ]
     },
     "metadata": {},
     "output_type": "display_data"
    },
    {
     "data": {
      "text/html": [
       "306: <a href=http://sv.wikipedia.org/wiki/Roland%20Utbult>Roland Utbult</a> - <a href=http://www.wikidata.org/wiki/Q6220743%23P39>Q6220743</a>  - <a href=http://www.riksdagen.se/sv/ledamoter-partier/ledamot/_e3b6587d-15fd-4a54-a95b-c1eaa56d2f68>Riksdagen</a> <a href=http://data.riksdagen.se/personlista/?utformat=json&iid=e3b6587d-15fd-4a54-a95b-c1eaa56d2f68>json</a>"
      ],
      "text/plain": [
       "<IPython.core.display.HTML object>"
      ]
     },
     "metadata": {},
     "output_type": "display_data"
    },
    {
     "data": {
      "text/html": [
       "307: <a href=http://sv.wikipedia.org/wiki/Roza%20G%C3%BCcl%C3%BC%20Hedin>Roza Güclü Hedin</a> - <a href=http://www.wikidata.org/wiki/Q4951217%23P39>Q4951217</a>  - <a href=http://www.riksdagen.se/sv/ledamoter-partier/ledamot/_e53ce4a4-b399-4ed6-9815-cb96818871b3>Riksdagen</a> <a href=http://data.riksdagen.se/personlista/?utformat=json&iid=e53ce4a4-b399-4ed6-9815-cb96818871b3>json</a>"
      ],
      "text/plain": [
       "<IPython.core.display.HTML object>"
      ]
     },
     "metadata": {},
     "output_type": "display_data"
    },
    {
     "data": {
      "text/html": [
       "308: <a href=http://sv.wikipedia.org/wiki/Runar%20Filper>Runar Filper</a> - <a href=http://www.wikidata.org/wiki/Q18238847%23P39>Q18238847</a>  - <a href=http://www.riksdagen.se/sv/ledamoter-partier/ledamot/_49cb272f-9347-407a-bac0-06403fbec5b5>Riksdagen</a> <a href=http://data.riksdagen.se/personlista/?utformat=json&iid=49cb272f-9347-407a-bac0-06403fbec5b5>json</a>"
      ],
      "text/plain": [
       "<IPython.core.display.HTML object>"
      ]
     },
     "metadata": {},
     "output_type": "display_data"
    },
    {
     "data": {
      "text/html": [
       "309: <a href=http://sv.wikipedia.org/wiki/Saila%20Quicklund>Saila Quicklund</a> - <a href=http://www.wikidata.org/wiki/Q4973765%23P39>Q4973765</a>  - <a href=http://www.riksdagen.se/sv/ledamoter-partier/ledamot/_243f0434-ae15-41b4-92b6-146a0fb0700a>Riksdagen</a> <a href=http://data.riksdagen.se/personlista/?utformat=json&iid=243f0434-ae15-41b4-92b6-146a0fb0700a>json</a>"
      ],
      "text/plain": [
       "<IPython.core.display.HTML object>"
      ]
     },
     "metadata": {},
     "output_type": "display_data"
    },
    {
     "data": {
      "text/html": [
       "310: <a href=http://sv.wikipedia.org/wiki/Sanne%20Lennstr%C3%B6m>Sanne Lennström</a> - <a href=http://www.wikidata.org/wiki/Q18448703%23P39>Q18448703</a>  - <a href=http://www.riksdagen.se/sv/ledamoter-partier/ledamot/_1d28738c-16d7-48f3-bb2a-e8cdcf348ca1>Riksdagen</a> <a href=http://data.riksdagen.se/personlista/?utformat=json&iid=1d28738c-16d7-48f3-bb2a-e8cdcf348ca1>json</a>"
      ],
      "text/plain": [
       "<IPython.core.display.HTML object>"
      ]
     },
     "metadata": {},
     "output_type": "display_data"
    },
    {
     "data": {
      "text/html": [
       "311: <a href=http://sv.wikipedia.org/wiki/Serkan%20K%C3%B6se>Serkan Köse</a> - <a href=http://www.wikidata.org/wiki/Q26710616%23P39>Q26710616</a>  - <a href=http://www.riksdagen.se/sv/ledamoter-partier/ledamot/_f2597c6d-8286-457a-9d62-6243f260af40>Riksdagen</a> <a href=http://data.riksdagen.se/personlista/?utformat=json&iid=f2597c6d-8286-457a-9d62-6243f260af40>json</a>"
      ],
      "text/plain": [
       "<IPython.core.display.HTML object>"
      ]
     },
     "metadata": {},
     "output_type": "display_data"
    },
    {
     "name": "stdout",
     "output_type": "stream",
     "text": [
      "\t saknar Riksdagens GUID i Wikidata: \tSocialdemokraterna (Sverige)\n"
     ]
    },
    {
     "data": {
      "text/html": [
       "312: <a href=http://sv.wikipedia.org/wiki/Sofia%20Amloh>Sofia Amloh</a> - <a href=http://www.wikidata.org/wiki/Q108525852%23P39>Q108525852</a>  - <a href=http://www.riksdagen.se/sv/ledamoter-partier/ledamot/_359e75f3-519e-49d7-b155-ada488e621ea>Riksdagen</a> <a href=http://data.riksdagen.se/personlista/?utformat=json&iid=359e75f3-519e-49d7-b155-ada488e621ea>json</a>"
      ],
      "text/plain": [
       "<IPython.core.display.HTML object>"
      ]
     },
     "metadata": {},
     "output_type": "display_data"
    },
    {
     "data": {
      "text/html": [
       "313: <a href=http://sv.wikipedia.org/wiki/Sofia%20Damm>Sofia Damm</a> - <a href=http://www.wikidata.org/wiki/Q18238286%23P39>Q18238286</a>  - <a href=http://www.riksdagen.se/sv/ledamoter-partier/ledamot/_a6a33386-bc67-4702-aa8c-331ffe7e2f9c>Riksdagen</a> <a href=http://data.riksdagen.se/personlista/?utformat=json&iid=a6a33386-bc67-4702-aa8c-331ffe7e2f9c>json</a>"
      ],
      "text/plain": [
       "<IPython.core.display.HTML object>"
      ]
     },
     "metadata": {},
     "output_type": "display_data"
    },
    {
     "data": {
      "text/html": [
       "314: <a href=http://sv.wikipedia.org/wiki/Sofia%20Nilsson>Sofia Nilsson</a> - <a href=http://www.wikidata.org/wiki/Q60823070%23P39>Q60823070</a>  - <a href=http://www.riksdagen.se/sv/ledamoter-partier/ledamot/_560c0817-1b91-478a-b273-87a82888328e>Riksdagen</a> <a href=http://data.riksdagen.se/personlista/?utformat=json&iid=560c0817-1b91-478a-b273-87a82888328e>json</a>"
      ],
      "text/plain": [
       "<IPython.core.display.HTML object>"
      ]
     },
     "metadata": {},
     "output_type": "display_data"
    },
    {
     "data": {
      "text/html": [
       "315: <a href=http://sv.wikipedia.org/wiki/Sofia%20Westergren>Sofia Westergren</a> - <a href=http://www.wikidata.org/wiki/Q70592245%23P39>Q70592245</a>  - <a href=http://www.riksdagen.se/sv/ledamoter-partier/ledamot/_1ee04f4d-e5a6-4aab-8461-f5baa7d2a2da>Riksdagen</a> <a href=http://data.riksdagen.se/personlista/?utformat=json&iid=1ee04f4d-e5a6-4aab-8461-f5baa7d2a2da>json</a>"
      ],
      "text/plain": [
       "<IPython.core.display.HTML object>"
      ]
     },
     "metadata": {},
     "output_type": "display_data"
    },
    {
     "data": {
      "text/html": [
       "316: <a href=http://sv.wikipedia.org/wiki/Solange%20Olame%20Bayibsa>Solange Olame Bayibsa</a> - <a href=http://www.wikidata.org/wiki/Q103821442%23P39>Q103821442</a>  - <a href=http://www.riksdagen.se/sv/ledamoter-partier/ledamot/_e7479c89-0534-4762-baa4-2517b636dde2>Riksdagen</a> <a href=http://data.riksdagen.se/personlista/?utformat=json&iid=e7479c89-0534-4762-baa4-2517b636dde2>json</a>"
      ],
      "text/plain": [
       "<IPython.core.display.HTML object>"
      ]
     },
     "metadata": {},
     "output_type": "display_data"
    },
    {
     "data": {
      "text/html": [
       "317: <a href=http://sv.wikipedia.org/wiki/Staffan%20Ekl%C3%B6f>Staffan Eklöf</a> - <a href=http://www.wikidata.org/wiki/Q70407841%23P39>Q70407841</a>  - <a href=http://www.riksdagen.se/sv/ledamoter-partier/ledamot/_5c165eb8-a2d3-4991-8732-430ea585d763>Riksdagen</a> <a href=http://data.riksdagen.se/personlista/?utformat=json&iid=5c165eb8-a2d3-4991-8732-430ea585d763>json</a>"
      ],
      "text/plain": [
       "<IPython.core.display.HTML object>"
      ]
     },
     "metadata": {},
     "output_type": "display_data"
    },
    {
     "data": {
      "text/html": [
       "318: <a href=http://sv.wikipedia.org/wiki/Stefan%20Plath>Stefan Plath</a> - <a href=http://www.wikidata.org/wiki/Q108713160%23P39>Q108713160</a>  - <a href=http://www.riksdagen.se/sv/ledamoter-partier/ledamot/_a03c0e2e-1bdb-4f90-97ea-3d8de9adebe7>Riksdagen</a> <a href=http://data.riksdagen.se/personlista/?utformat=json&iid=a03c0e2e-1bdb-4f90-97ea-3d8de9adebe7>json</a>"
      ],
      "text/plain": [
       "<IPython.core.display.HTML object>"
      ]
     },
     "metadata": {},
     "output_type": "display_data"
    },
    {
     "data": {
      "text/html": [
       "319: <a href=http://sv.wikipedia.org/wiki/Sten%20Bergheden>Sten Bergheden</a> - <a href=http://www.wikidata.org/wiki/Q5572155%23P39>Q5572155</a>  - <a href=http://www.riksdagen.se/sv/ledamoter-partier/ledamot/_641344b2-dc65-4282-b308-8fca005983a1>Riksdagen</a> <a href=http://data.riksdagen.se/personlista/?utformat=json&iid=641344b2-dc65-4282-b308-8fca005983a1>json</a>"
      ],
      "text/plain": [
       "<IPython.core.display.HTML object>"
      ]
     },
     "metadata": {},
     "output_type": "display_data"
    },
    {
     "data": {
      "text/html": [
       "320: <a href=http://sv.wikipedia.org/wiki/Sultan%20Kayhan>Sultan Kayhan</a> - <a href=http://www.wikidata.org/wiki/Q29059095%23P39>Q29059095</a>  - <a href=http://www.riksdagen.se/sv/ledamoter-partier/ledamot/_50277320-fb16-40ba-82aa-8093fbb3126e>Riksdagen</a> <a href=http://data.riksdagen.se/personlista/?utformat=json&iid=50277320-fb16-40ba-82aa-8093fbb3126e>json</a>"
      ],
      "text/plain": [
       "<IPython.core.display.HTML object>"
      ]
     },
     "metadata": {},
     "output_type": "display_data"
    },
    {
     "data": {
      "text/html": [
       "321: <a href=http://sv.wikipedia.org/wiki/Sven-Olof%20S%C3%A4llstr%C3%B6m>Sven-Olof Sällström</a> - <a href=http://www.wikidata.org/wiki/Q6201234%23P39>Q6201234</a>  - <a href=http://www.riksdagen.se/sv/ledamoter-partier/ledamot/_06776272-4f62-44c7-9011-f66349279c88>Riksdagen</a> <a href=http://data.riksdagen.se/personlista/?utformat=json&iid=06776272-4f62-44c7-9011-f66349279c88>json</a>"
      ],
      "text/plain": [
       "<IPython.core.display.HTML object>"
      ]
     },
     "metadata": {},
     "output_type": "display_data"
    },
    {
     "name": "stdout",
     "output_type": "stream",
     "text": [
      "\t saknar Riksdagens GUID i Wikidata: \tSverigedemokraterna\n"
     ]
    },
    {
     "data": {
      "text/html": [
       "322: <a href=http://sv.wikipedia.org/wiki/Teres%20Lindberg>Teres Lindberg</a> - <a href=http://www.wikidata.org/wiki/Q4962466%23P39>Q4962466</a>  - <a href=http://www.riksdagen.se/sv/ledamoter-partier/ledamot/_2d7334ea-9a6f-4381-b6ec-3c46d744cb9a>Riksdagen</a> <a href=http://data.riksdagen.se/personlista/?utformat=json&iid=2d7334ea-9a6f-4381-b6ec-3c46d744cb9a>json</a>"
      ],
      "text/plain": [
       "<IPython.core.display.HTML object>"
      ]
     },
     "metadata": {},
     "output_type": "display_data"
    },
    {
     "data": {
      "text/html": [
       "323: <a href=http://sv.wikipedia.org/wiki/Teresa%20Carvalho>Teresa Carvalho</a> - <a href=http://www.wikidata.org/wiki/Q18202339%23P39>Q18202339</a>  - <a href=http://www.riksdagen.se/sv/ledamoter-partier/ledamot/_3d764cf6-705b-460b-8226-df8f1226b27b>Riksdagen</a> <a href=http://data.riksdagen.se/personlista/?utformat=json&iid=3d764cf6-705b-460b-8226-df8f1226b27b>json</a>"
      ],
      "text/plain": [
       "<IPython.core.display.HTML object>"
      ]
     },
     "metadata": {},
     "output_type": "display_data"
    },
    {
     "data": {
      "text/html": [
       "324: <a href=http://sv.wikipedia.org/wiki/Thomas%20Hammarberg>Thomas Hammarberg</a> - <a href=http://www.wikidata.org/wiki/Q438397%23P39>Q438397</a>  - <a href=http://www.riksdagen.se/sv/ledamoter-partier/ledamot/_0363ee54-6077-4caf-b7d6-09dcb7051213>Riksdagen</a> <a href=http://data.riksdagen.se/personlista/?utformat=json&iid=0363ee54-6077-4caf-b7d6-09dcb7051213>json</a>"
      ],
      "text/plain": [
       "<IPython.core.display.HTML object>"
      ]
     },
     "metadata": {},
     "output_type": "display_data"
    },
    {
     "data": {
      "text/html": [
       "325: <a href=http://sv.wikipedia.org/wiki/Thomas%20Morell%20%28politiker%29>Thomas Morell (politiker)</a> - <a href=http://www.wikidata.org/wiki/Q71055616%23P39>Q71055616</a>  - <a href=http://www.riksdagen.se/sv/ledamoter-partier/ledamot/_ee4900a4-1434-4ae5-8ddf-4f18755e02cc>Riksdagen</a> <a href=http://data.riksdagen.se/personlista/?utformat=json&iid=ee4900a4-1434-4ae5-8ddf-4f18755e02cc>json</a>"
      ],
      "text/plain": [
       "<IPython.core.display.HTML object>"
      ]
     },
     "metadata": {},
     "output_type": "display_data"
    },
    {
     "data": {
      "text/html": [
       "326: <a href=http://sv.wikipedia.org/wiki/Tina%20Acketoft>Tina Acketoft</a> - <a href=http://www.wikidata.org/wiki/Q4933704%23P39>Q4933704</a>  - <a href=http://www.riksdagen.se/sv/ledamoter-partier/ledamot/_45445eb9-01dc-4786-990e-c1864d4f7c50>Riksdagen</a> <a href=http://data.riksdagen.se/personlista/?utformat=json&iid=45445eb9-01dc-4786-990e-c1864d4f7c50>json</a>"
      ],
      "text/plain": [
       "<IPython.core.display.HTML object>"
      ]
     },
     "metadata": {},
     "output_type": "display_data"
    },
    {
     "data": {
      "text/html": [
       "327: <a href=http://sv.wikipedia.org/wiki/Tobias%20Andersson%20%28politiker%29>Tobias Andersson (politiker)</a> - <a href=http://www.wikidata.org/wiki/Q26211839%23P39>Q26211839</a>  - <a href=http://www.riksdagen.se/sv/ledamoter-partier/ledamot/_5763c159-5105-47b3-82fb-9cc7dc20dc7d>Riksdagen</a> <a href=http://data.riksdagen.se/personlista/?utformat=json&iid=5763c159-5105-47b3-82fb-9cc7dc20dc7d>json</a>"
      ],
      "text/plain": [
       "<IPython.core.display.HTML object>"
      ]
     },
     "metadata": {},
     "output_type": "display_data"
    },
    {
     "data": {
      "text/html": [
       "328: <a href=http://sv.wikipedia.org/wiki/Tobias%20Billstr%C3%B6m>Tobias Billström</a> - <a href=http://www.wikidata.org/wiki/Q3112958%23P39>Q3112958</a>  - <a href=http://www.riksdagen.se/sv/ledamoter-partier/ledamot/_0918737e-5224-47aa-a86b-d64f6d820618>Riksdagen</a> <a href=http://data.riksdagen.se/personlista/?utformat=json&iid=0918737e-5224-47aa-a86b-d64f6d820618>json</a>"
      ],
      "text/plain": [
       "<IPython.core.display.HTML object>"
      ]
     },
     "metadata": {},
     "output_type": "display_data"
    },
    {
     "data": {
      "text/html": [
       "329: <a href=http://sv.wikipedia.org/wiki/Tomas%20Kronst%C3%A5hl>Tomas Kronståhl</a> - <a href=http://www.wikidata.org/wiki/Q62287119%23P39>Q62287119</a>  - <a href=http://www.riksdagen.se/sv/ledamoter-partier/ledamot/_173d7387-fa63-4689-ac8c-e12f278487bd>Riksdagen</a> <a href=http://data.riksdagen.se/personlista/?utformat=json&iid=173d7387-fa63-4689-ac8c-e12f278487bd>json</a>"
      ],
      "text/plain": [
       "<IPython.core.display.HTML object>"
      ]
     },
     "metadata": {},
     "output_type": "display_data"
    },
    {
     "data": {
      "text/html": [
       "330: <a href=http://sv.wikipedia.org/wiki/Tony%20Haddou>Tony Haddou</a> - <a href=http://www.wikidata.org/wiki/Q63741595%23P39>Q63741595</a>  - <a href=http://www.riksdagen.se/sv/ledamoter-partier/ledamot/_8e21a563-23d4-46cd-a901-acf5839d72d9>Riksdagen</a> <a href=http://data.riksdagen.se/personlista/?utformat=json&iid=8e21a563-23d4-46cd-a901-acf5839d72d9>json</a>"
      ],
      "text/plain": [
       "<IPython.core.display.HTML object>"
      ]
     },
     "metadata": {},
     "output_type": "display_data"
    },
    {
     "data": {
      "text/html": [
       "331: <a href=http://sv.wikipedia.org/wiki/Tuve%20Sk%C3%A5nberg>Tuve Skånberg</a> - <a href=http://www.wikidata.org/wiki/Q4354054%23P39>Q4354054</a>  - <a href=http://www.riksdagen.se/sv/ledamoter-partier/ledamot/_d7c31c8c-83e4-11d4-ae60-0050040c9b55>Riksdagen</a> <a href=http://data.riksdagen.se/personlista/?utformat=json&iid=d7c31c8c-83e4-11d4-ae60-0050040c9b55>json</a>"
      ],
      "text/plain": [
       "<IPython.core.display.HTML object>"
      ]
     },
     "metadata": {},
     "output_type": "display_data"
    },
    {
     "data": {
      "text/html": [
       "332: <a href=http://sv.wikipedia.org/wiki/Ulf%20Kristersson>Ulf Kristersson</a> - <a href=http://www.wikidata.org/wiki/Q1780398%23P39>Q1780398</a>  - <a href=http://www.riksdagen.se/sv/ledamoter-partier/ledamot/_e7e4132a-b4df-11d5-8079-0040ca16072a>Riksdagen</a> <a href=http://data.riksdagen.se/personlista/?utformat=json&iid=e7e4132a-b4df-11d5-8079-0040ca16072a>json</a>"
      ],
      "text/plain": [
       "<IPython.core.display.HTML object>"
      ]
     },
     "metadata": {},
     "output_type": "display_data"
    },
    {
     "data": {
      "text/html": [
       "333: <a href=http://sv.wikipedia.org/wiki/Ulf%20L%C3%B6nnberg>Ulf Lönnberg</a> - <a href=http://www.wikidata.org/wiki/Q109747746%23P39>Q109747746</a>  - <a href=http://www.riksdagen.se/sv/ledamoter-partier/ledamot/_86eb5e42-4363-46ab-9242-fb5db16b0e0d>Riksdagen</a> <a href=http://data.riksdagen.se/personlista/?utformat=json&iid=86eb5e42-4363-46ab-9242-fb5db16b0e0d>json</a>"
      ],
      "text/plain": [
       "<IPython.core.display.HTML object>"
      ]
     },
     "metadata": {},
     "output_type": "display_data"
    },
    {
     "data": {
      "text/html": [
       "334: <a href=http://sv.wikipedia.org/wiki/Ulla%20Andersson%20%28politiker%29>Ulla Andersson (politiker)</a> - <a href=http://www.wikidata.org/wiki/Q4935938%23P39>Q4935938</a>  - <a href=http://www.riksdagen.se/sv/ledamoter-partier/ledamot/_a9eff036-3d8c-487e-9325-e3bece8df1e4>Riksdagen</a> <a href=http://data.riksdagen.se/personlista/?utformat=json&iid=a9eff036-3d8c-487e-9325-e3bece8df1e4>json</a>"
      ],
      "text/plain": [
       "<IPython.core.display.HTML object>"
      ]
     },
     "metadata": {},
     "output_type": "display_data"
    },
    {
     "data": {
      "text/html": [
       "335: <a href=http://sv.wikipedia.org/wiki/Ulrika%20Heie>Ulrika Heie</a> - <a href=http://www.wikidata.org/wiki/Q4987958%23P39>Q4987958</a>  - <a href=http://www.riksdagen.se/sv/ledamoter-partier/ledamot/_8c343e73-ddab-428a-87aa-0ab8e2879ce4>Riksdagen</a> <a href=http://data.riksdagen.se/personlista/?utformat=json&iid=8c343e73-ddab-428a-87aa-0ab8e2879ce4>json</a>"
      ],
      "text/plain": [
       "<IPython.core.display.HTML object>"
      ]
     },
     "metadata": {},
     "output_type": "display_data"
    },
    {
     "data": {
      "text/html": [
       "336: <a href=http://sv.wikipedia.org/wiki/Ulrika%20Heindorff>Ulrika Heindorff</a> - <a href=http://www.wikidata.org/wiki/Q30000205%23P39>Q30000205</a>  - <a href=http://www.riksdagen.se/sv/ledamoter-partier/ledamot/_7c4e35b2-f653-4746-bb03-351abbd566eb>Riksdagen</a> <a href=http://data.riksdagen.se/personlista/?utformat=json&iid=7c4e35b2-f653-4746-bb03-351abbd566eb>json</a>"
      ],
      "text/plain": [
       "<IPython.core.display.HTML object>"
      ]
     },
     "metadata": {},
     "output_type": "display_data"
    },
    {
     "data": {
      "text/html": [
       "337: <a href=http://sv.wikipedia.org/wiki/Ulrika%20J%C3%B6rgensen>Ulrika Jörgensen</a> - <a href=http://www.wikidata.org/wiki/Q71057524%23P39>Q71057524</a>  - <a href=http://www.riksdagen.se/sv/ledamoter-partier/ledamot/_fa0256bd-46ac-4027-be42-ffebef7b0dcf>Riksdagen</a> <a href=http://data.riksdagen.se/personlista/?utformat=json&iid=fa0256bd-46ac-4027-be42-ffebef7b0dcf>json</a>"
      ],
      "text/plain": [
       "<IPython.core.display.HTML object>"
      ]
     },
     "metadata": {},
     "output_type": "display_data"
    },
    {
     "data": {
      "text/html": [
       "338: <a href=http://sv.wikipedia.org/wiki/Ulrika%20Karlsson%20%28politiker%29>Ulrika Karlsson (politiker)</a> - <a href=http://www.wikidata.org/wiki/Q4958187%23P39>Q4958187</a>  - <a href=http://www.riksdagen.se/sv/ledamoter-partier/ledamot/_ca44a628-ee7f-4760-a56a-6ac195740ba0>Riksdagen</a> <a href=http://data.riksdagen.se/personlista/?utformat=json&iid=ca44a628-ee7f-4760-a56a-6ac195740ba0>json</a>"
      ],
      "text/plain": [
       "<IPython.core.display.HTML object>"
      ]
     },
     "metadata": {},
     "output_type": "display_data"
    },
    {
     "data": {
      "text/html": [
       "339: <a href=http://sv.wikipedia.org/wiki/Vasiliki%20Tsouplaki>Vasiliki Tsouplaki</a> - <a href=http://www.wikidata.org/wiki/Q4983517%23P39>Q4983517</a>  - <a href=http://www.riksdagen.se/sv/ledamoter-partier/ledamot/_9d24d55a-be20-4caa-ac48-4da11b50969c>Riksdagen</a> <a href=http://data.riksdagen.se/personlista/?utformat=json&iid=9d24d55a-be20-4caa-ac48-4da11b50969c>json</a>"
      ],
      "text/plain": [
       "<IPython.core.display.HTML object>"
      ]
     },
     "metadata": {},
     "output_type": "display_data"
    },
    {
     "data": {
      "text/html": [
       "340: <a href=http://sv.wikipedia.org/wiki/Viktor%20W%C3%A4rnick>Viktor Wärnick</a> - <a href=http://www.wikidata.org/wiki/Q60732958%23P39>Q60732958</a>  - <a href=http://www.riksdagen.se/sv/ledamoter-partier/ledamot/_7cdc7712-4bb7-4361-8b72-8f98a111d0c5>Riksdagen</a> <a href=http://data.riksdagen.se/personlista/?utformat=json&iid=7cdc7712-4bb7-4361-8b72-8f98a111d0c5>json</a>"
      ],
      "text/plain": [
       "<IPython.core.display.HTML object>"
      ]
     },
     "metadata": {},
     "output_type": "display_data"
    },
    {
     "name": "stdout",
     "output_type": "stream",
     "text": [
      "\t saknar Riksdagens GUID i Wikidata: \tVänsterpartiet\n"
     ]
    },
    {
     "data": {
      "text/html": [
       "341: <a href=http://sv.wikipedia.org/wiki/Yasmine%20Bladelius>Yasmine Bladelius</a> - <a href=http://www.wikidata.org/wiki/Q18202336%23P39>Q18202336</a>  - <a href=http://www.riksdagen.se/sv/ledamoter-partier/ledamot/_69da57e0-b072-45d0-944a-aa5d3f9e3070>Riksdagen</a> <a href=http://data.riksdagen.se/personlista/?utformat=json&iid=69da57e0-b072-45d0-944a-aa5d3f9e3070>json</a>"
      ],
      "text/plain": [
       "<IPython.core.display.HTML object>"
      ]
     },
     "metadata": {},
     "output_type": "display_data"
    },
    {
     "data": {
      "text/html": [
       "342: <a href=http://sv.wikipedia.org/wiki/Yasmine%20Eriksson>Yasmine Eriksson</a> - <a href=http://www.wikidata.org/wiki/Q70906950%23P39>Q70906950</a>  - <a href=http://www.riksdagen.se/sv/ledamoter-partier/ledamot/_ae22d593-d382-40dc-918c-df30916b6d9e>Riksdagen</a> <a href=http://data.riksdagen.se/personlista/?utformat=json&iid=ae22d593-d382-40dc-918c-df30916b6d9e>json</a>"
      ],
      "text/plain": [
       "<IPython.core.display.HTML object>"
      ]
     },
     "metadata": {},
     "output_type": "display_data"
    },
    {
     "data": {
      "text/html": [
       "343: <a href=http://sv.wikipedia.org/wiki/Yasmine%20Posio>Yasmine Posio</a> - <a href=http://www.wikidata.org/wiki/Q50353141%23P39>Q50353141</a>  - <a href=http://www.riksdagen.se/sv/ledamoter-partier/ledamot/_3b9b4858-4b06-4e43-b452-a0dc9d730e9a>Riksdagen</a> <a href=http://data.riksdagen.se/personlista/?utformat=json&iid=3b9b4858-4b06-4e43-b452-a0dc9d730e9a>json</a>"
      ],
      "text/plain": [
       "<IPython.core.display.HTML object>"
      ]
     },
     "metadata": {},
     "output_type": "display_data"
    },
    {
     "data": {
      "text/html": [
       "344: <a href=http://sv.wikipedia.org/wiki/%C3%85sa%20Coenraads>Åsa Coenraads</a> - <a href=http://www.wikidata.org/wiki/Q4943175%23P39>Q4943175</a>  - <a href=http://www.riksdagen.se/sv/ledamoter-partier/ledamot/_d07b112d-3095-4283-bf67-806499587845>Riksdagen</a> <a href=http://data.riksdagen.se/personlista/?utformat=json&iid=d07b112d-3095-4283-bf67-806499587845>json</a>"
      ],
      "text/plain": [
       "<IPython.core.display.HTML object>"
      ]
     },
     "metadata": {},
     "output_type": "display_data"
    },
    {
     "data": {
      "text/html": [
       "345: <a href=http://sv.wikipedia.org/wiki/%C3%85sa%20Eriksson%20%28politiker%29>Åsa Eriksson (politiker)</a> - <a href=http://www.wikidata.org/wiki/Q9393603%23P39>Q9393603</a>  - <a href=http://www.riksdagen.se/sv/ledamoter-partier/ledamot/_473cc883-b475-42fe-8553-4f1a6bd17a54>Riksdagen</a> <a href=http://data.riksdagen.se/personlista/?utformat=json&iid=473cc883-b475-42fe-8553-4f1a6bd17a54>json</a>"
      ],
      "text/plain": [
       "<IPython.core.display.HTML object>"
      ]
     },
     "metadata": {},
     "output_type": "display_data"
    },
    {
     "data": {
      "text/html": [
       "346: <a href=http://sv.wikipedia.org/wiki/%C3%85sa%20Hartzell>Åsa Hartzell</a> - <a href=http://www.wikidata.org/wiki/Q104215963%23P39>Q104215963</a>  - <a href=http://www.riksdagen.se/sv/ledamoter-partier/ledamot/_f965c024-1cd1-4a10-bff1-7615c8b1bde4>Riksdagen</a> <a href=http://data.riksdagen.se/personlista/?utformat=json&iid=f965c024-1cd1-4a10-bff1-7615c8b1bde4>json</a>"
      ],
      "text/plain": [
       "<IPython.core.display.HTML object>"
      ]
     },
     "metadata": {},
     "output_type": "display_data"
    },
    {
     "data": {
      "text/html": [
       "347: <a href=http://sv.wikipedia.org/wiki/%C3%85sa%20Karlsson%20%28politiker%29>Åsa Karlsson (politiker)</a> - <a href=http://www.wikidata.org/wiki/Q60823082%23P39>Q60823082</a>  - <a href=http://www.riksdagen.se/sv/ledamoter-partier/ledamot/_317c6cc9-dcd5-4dcc-b275-9e17d973da4c>Riksdagen</a> <a href=http://data.riksdagen.se/personlista/?utformat=json&iid=317c6cc9-dcd5-4dcc-b275-9e17d973da4c>json</a>"
      ],
      "text/plain": [
       "<IPython.core.display.HTML object>"
      ]
     },
     "metadata": {},
     "output_type": "display_data"
    },
    {
     "data": {
      "text/html": [
       "348: <a href=http://sv.wikipedia.org/wiki/%C3%85sa%20Lindestam>Åsa Lindestam</a> - <a href=http://www.wikidata.org/wiki/Q4962686%23P39>Q4962686</a>  - <a href=http://www.riksdagen.se/sv/ledamoter-partier/ledamot/_25617b2f-2cc7-477a-a872-d1c14e9ef187>Riksdagen</a> <a href=http://data.riksdagen.se/personlista/?utformat=json&iid=25617b2f-2cc7-477a-a872-d1c14e9ef187>json</a>"
      ],
      "text/plain": [
       "<IPython.core.display.HTML object>"
      ]
     },
     "metadata": {},
     "output_type": "display_data"
    },
    {
     "data": {
      "text/html": [
       "349: <a href=http://sv.wikipedia.org/wiki/%C3%85sa%20Westlund>Åsa Westlund</a> - <a href=http://www.wikidata.org/wiki/Q269859%23P39>Q269859</a>  - <a href=http://www.riksdagen.se/sv/ledamoter-partier/ledamot/_73281fee-b276-4150-8cf0-fd3368b3c5c6>Riksdagen</a> <a href=http://data.riksdagen.se/personlista/?utformat=json&iid=73281fee-b276-4150-8cf0-fd3368b3c5c6>json</a>"
      ],
      "text/plain": [
       "<IPython.core.display.HTML object>"
      ]
     },
     "metadata": {},
     "output_type": "display_data"
    },
    {
     "name": "stdout",
     "output_type": "stream",
     "text": [
      "\t saknar Riksdagens GUID i Wikidata: \tMall:Centerpartiet/meta/färg\n"
     ]
    }
   ],
   "source": [
    "from tqdm.notebook import trange, tqdm\n",
    "import urllib.parse \n",
    "\n",
    "urlsv = \"sv.wikipedia.org/wiki/\"\n",
    "urlwd = \"www.wikidata.org/wiki/\"\n",
    "urlriks = \"www.riksdagen.se/sv/ledamoter-partier/ledamot/_\"\n",
    "urlriksdata = \"data.riksdagen.se/personlista/?utformat=json&iid=\"\n",
    "\n",
    "linknr = 0\n",
    "for link in tqdm(page[list(page.keys())[0]][\"links\"]):\n",
    "    #print(link[\"title\"])\n",
    "    svName = link[\"title\"]\n",
    "    wdQnumber = getWD (svName)\n",
    "    wdRiksGUID = getRiks(wdQnumber)\n",
    "    if wdRiksGUID:\n",
    "        linknr = linknr + 1\n",
    "        svUrlArticle = \"http://\" + urllib.parse.quote(urlsv+svName)\n",
    "        wdQnumberUrl = \"http://\" + urllib.parse.quote(urlwd+wdQnumber+\"#P39\")\n",
    "        riksUrl = \"http://\" + urllib.parse.quote(urlriks+wdRiksGUID)\n",
    "        riksData = \"http://\" + urlriksdata+wdRiksGUID\n",
    "        display(HTML(str(linknr) + \": <a href=\"+svUrlArticle+\">\"+svName+\"</a> - <a href=\"+wdQnumberUrl+\">\"+wdQnumber+\"</a> \" \\\n",
    "                + \" - <a href=\"+riksUrl+\">Riksdagen</a> \" \\\n",
    "                + \"<a href=\"+riksData+\">json</a>\"))\n",
    "    else:\n",
    "        print (\"\\t saknar Riksdagens GUID i Wikidata: \\t\" + svName) \n",
    "               "
   ]
  },
  {
   "cell_type": "code",
   "execution_count": null,
   "id": "5cdf9b8d",
   "metadata": {},
   "outputs": [],
   "source": []
  },
  {
   "cell_type": "code",
   "execution_count": null,
   "id": "065c6c12",
   "metadata": {},
   "outputs": [],
   "source": []
  }
 ],
 "metadata": {
  "kernelspec": {
   "display_name": "Python 3",
   "language": "python",
   "name": "python3"
  },
  "language_info": {
   "codemirror_mode": {
    "name": "ipython",
    "version": 3
   },
   "file_extension": ".py",
   "mimetype": "text/x-python",
   "name": "python",
   "nbconvert_exporter": "python",
   "pygments_lexer": "ipython3",
   "version": "3.9.4"
  }
 },
 "nbformat": 4,
 "nbformat_minor": 5
}
