{
 "cells": [
  {
   "cell_type": "markdown",
   "metadata": {},
   "source": [
    "## Riksarkivet SBL  - Wikidata ett försök att synka och dansa med dom\n",
    "version 0.46 this [notebook](https://github.com/salgo60/open-data-examples/blob/master/SBL.ipynb)\n",
    "\n",
    "WD egenskap [Property:P3217](https://www.wikidata.org/wiki/Property:P3217) \n",
    "* SBL personartiklar som saknar [sv:Wikipedia artikel](https://w.wiki/c5f) < 150\n",
    "* [SBL vs SKBL female articles](https://github.com/salgo60/open-data-examples/blob/master/Svenskt%20Kvinnobiografiskt%20lexikon%20part%203.ipynb)  \n",
    "\n",
    "#### Andra källor vi synkar\n",
    "* [Kulturpersoner Uppsalakyrkogård](https://github.com/salgo60/open-data-examples/blob/master/Check%20WD%20kulturpersoner%20uppsalakyrkogardar.ipynb)\n",
    "* [Litteraturbanken](https://github.com/salgo60/open-data-examples/blob/master/Litteraturbanken%20Author.ipynb) \n",
    "  * WD property [P5101](https://www.wikidata.org/wiki/Property_talk:P5101) [P5123](https://www.wikidata.org/wiki/Property_talk:P5123)\n",
    "* [Nobelprize.org](https://github.com/salgo60/open-data-examples/blob/master/Nobel%20API.ipynb)\n",
    "  * WD [property 8024](https://www.wikidata.org/wiki/Property:P8024)\n",
    "* [SBL](https://github.com/salgo60/open-data-examples/blob/master/SBL.ipynb) \n",
    "  * WD [property 3217](https://www.wikidata.org/wiki/Property:P3217) \n",
    "* [SKBL](https://github.com/salgo60/open-data-examples/blob/master/Svenskt%20Kvinnobiografiskt%20lexikon%20part%203.ipynb)\n",
    "  * WD [property 4963](https://www.wikidata.org/wiki/Property:P4963)\n",
    "* [Svenska Akademien](https://github.com/salgo60/open-data-examples/blob/master/Svenska%20Akademien.ipynb) \n",
    "  * WD [property 5325](https://www.wikidata.org/wiki/Property:P5325) \n",
    "\n",
    "### SBL\n",
    "SBL har idag\n",
    "* personartiklar\n",
    "* släktartiklar\n",
    "  * en person i en släktartikel kan ha en sida som bara pekar till släktartikeln (med text ej alltid länk)\n",
    "\n",
    "Det saknas idag från Riksarkivet ett API så nedanstående är ett försök att webscrapa deras data och sedan försöka hitta en struktur. \n",
    "\n",
    "Målsättningen är att ha personerna som har en SBL personartikel representerade i Wikidata. Kul vore att även ha släktartiklarna kopplade till Wikidata... är inte säkert hur bra strukturen är för släkter/ätter/familjer i WD och sedan behövs det matchas en hel del. En person kan även omnämnas i en släktartikel och bör då i Wikidata ha \"beskriven av källa\" kopplad till dessa artiklar (exempel Gunnar Morssing [Q5994570#P1343](https://www.wikidata.org/wiki/Q5994570#P1343) som finns i artikel SBL [\"Morssing, släkt\"](https://sok.riksarkivet.se/sbl/Presentation.aspx?id=9512)) vilket är ett mycket stort jobb om Riksarkivet inte går över till att leverera [länkade data](https://sv.wikipedia.org/wiki/L%C3%A4nkade_data)... se förfrågan om bättre metadata 2019 okt 30 [T236883](https://phabricator.wikimedia.org/T236883)    \n",
    "\n",
    "**Mina gissningar** \n",
    "1. sida med född/död är en person\n",
    "2. sida med titel släkt är en släktartikel\n",
    "3. sida med född/död men för kort kan vara en referens till en släktartikel\n",
    "4. släkt artikel kan ha \"[ätt](https://sok.riksarkivet.se/sbl/Search.aspx?t=0)\" i titeln men det kan visst även person artiklar ha\n",
    "5. ....\n",
    "\n",
    "### jmf SKBL med SBL \n",
    "med ett mera komplett Wikidata kan vi nu jämföra [Svenskt Kvinnobiografiskt lexikon - SKBL](https://www.skbl.se/sv/om-skbl) med [Riksarkivet](https://sok.riksarkivet.se/sbl/OmSBL.aspx) då det gäller urval av kvinnor, antal kvinnor, hur dom levererar, API vs. inte API, skillnaden att ha enbart svenska artiklar som SBL med att även ha [engelska artiklar som SKBL](https://www.skbl.se/en/about-skbl) \n",
    "\n",
    "* [Notebook](https://github.com/salgo60/open-data-examples/blob/master/Svenskt%20Kvinnobiografiskt%20lexikon%20part%203.ipynb)\n",
    "\n",
    "# Webscrape \n",
    "1. vi gissar id min 4000 och max 40000\n"
   ]
  },
  {
   "cell_type": "code",
   "execution_count": 1,
   "metadata": {},
   "outputs": [
    {
     "name": "stdout",
     "output_type": "stream",
     "text": [
      "Last run:  2021-03-18 00:54:36.996029\n"
     ]
    }
   ],
   "source": [
    "from datetime import datetime\n",
    "now = datetime.now()\n",
    "print(\"Last run: \", now)"
   ]
  },
  {
   "cell_type": "code",
   "execution_count": null,
   "metadata": {},
   "outputs": [
    {
     "data": {
      "application/vnd.jupyter.widget-view+json": {
       "model_id": "6b3316a7fc5244b086bded88719e0e26",
       "version_major": 2,
       "version_minor": 0
      },
      "text/plain": [
       "HBox(children=(FloatProgress(value=0.0, max=36000.0), HTML(value='')))"
      ]
     },
     "metadata": {},
     "output_type": "display_data"
    }
   ],
   "source": [
    "import urllib3, json\n",
    "import pandas as pd   \n",
    "from bs4 import BeautifulSoup\n",
    "import sys\n",
    "import pprint\n",
    "http = urllib3.PoolManager()\n",
    "\n",
    "from tqdm.notebook import trange  \n",
    "listNewItems =[]\n",
    "\n",
    "for SBLnr in trange(4000,40000): #gissar min 4000 max 40000\n",
    "    url = \"https://sok.riksarkivet.se/sbl/Presentation.aspx?id=\" + str(SBLnr)\n",
    "    r = http.request('GET', url) \n",
    "    if len(r.data) > 11020:\n",
    "        new_item = dict()\n",
    "        #print(SBLnr)\n",
    "        new_item['SBLnr'] = SBLnr\n",
    "        new_item['SBLlength'] = len(r.data)\n",
    "        soup = BeautifulSoup(r.data, \"html.parser\")  \n",
    "        \n",
    "        try:\n",
    "            titel = soup.findAll(\"span\", {\"id\": \"ctl00_MainContent_lblTitle\"})[0].get_text()\n",
    "            new_item['titel'] = titel\n",
    "            #print (\"\\t\",titel)\n",
    "        except:\n",
    "            pass\n",
    "        try:\n",
    "            Fodd = soup.findAll(\"span\", {\"id\": \"ctl00_MainContent_lblFodelse\"})[0].get_text()\n",
    "            #print (\"\\t\",Fodd)\n",
    "            new_item['Fodd'] = Fodd\n",
    "        except:\n",
    "            pass\n",
    "        try:\n",
    "            Dod = soup.findAll(\"span\", {\"id\": \"ctl00_MainContent_lblDod\"})[0].get_text()\n",
    "            #print (\"\\t\",Dod)\n",
    "            new_item['Dod'] = Dod\n",
    "        except:\n",
    "            pass\n",
    "        try:\n",
    "            band = soup.findAll(\"span\", {\"id\": \"ctl00_MainContent_lblBandSida\"})[0].get_text()\n",
    "            #print (\"\\t\",band)\n",
    "            new_item['Band'] = band\n",
    "            try:\n",
    "#                year = band.get_text().split(\"(\")[1].split(\")\")\n",
    "                year = band.split(\"(\")[1].split(\")\")[0]\n",
    "                #print (\"\\t\\tYear\",year)\n",
    "                new_item['Year'] = year\n",
    "            except:\n",
    "                pass\n",
    "        except:\n",
    "            pass\n",
    "            \n",
    "        listNewItems.append(new_item)\n",
    "print (len(listNewItems) ,\" antal poster\")\n",
    "        \n"
   ]
  },
  {
   "cell_type": "code",
   "execution_count": null,
   "metadata": {},
   "outputs": [],
   "source": [
    "import csv\n",
    "if len(listNewItems) > 0:\n",
    "    keys = listNewItems[0].keys()\n",
    "    with open(\"SBL_newfile.csv\", \"w\", newline='') as SBLfile:\n",
    "        dict_writer = csv.DictWriter(SBLfile, keys)\n",
    "        dict_writer.writeheader()\n",
    "        dict_writer.writerows(listNewItems)\n",
    "\n",
    "    dfSBLcsv = pd.read_csv(\"SBL_newfile.csv\", sep=\",\")   \n",
    "    \n",
    "else:\n",
    "    print (\"Ingen fil skapas inga nya poster\") "
   ]
  },
  {
   "cell_type": "code",
   "execution_count": null,
   "metadata": {},
   "outputs": [],
   "source": [
    "pd.set_option(\"display.max.rows\", None) "
   ]
  },
  {
   "cell_type": "code",
   "execution_count": null,
   "metadata": {},
   "outputs": [],
   "source": [
    "dfSBLcsv.info()  "
   ]
  },
  {
   "cell_type": "markdown",
   "metadata": {},
   "source": [
    "## Wikidata hämtar alla med P3217 satt \n",
    "dvs. även släkt kopplingar"
   ]
  },
  {
   "cell_type": "code",
   "execution_count": null,
   "metadata": {},
   "outputs": [],
   "source": [
    "from SPARQLWrapper import SPARQLWrapper, JSON\n",
    "\n",
    "endpoint_url = \"https://query.wikidata.org/sparql\"\n",
    "\n",
    "#https://w.wiki/cvY\n",
    "querySBL = \"\"\"SELECT (REPLACE(STR(?item), \".*Q\", \"Q\") AS ?wid)  ?sblid ?gender ?genderLabel WHERE {\n",
    "?item wdt:P3217 ?sblid.\n",
    "?item wdt:P31 wd:Q5.\n",
    "optional {?item wdt:P21 ?gender}\n",
    "SERVICE wikibase:label { bd:serviceParam wikibase:language \"sv,en\". }  \n",
    "}\"\"\"\n",
    "\n",
    "def get_sparql_dataframe(endpoint_url, query):\n",
    "    \"\"\"\n",
    "    Helper function to convert SPARQL results into a Pandas data frame.\n",
    "    \"\"\"\n",
    "    user_agent = \"salgo60/%s.%s\" % (sys.version_info[0], sys.version_info[1])\n",
    " \n",
    "    sparql = SPARQLWrapper(endpoint_url, agent=user_agent)\n",
    "    sparql.setQuery(query)\n",
    "    sparql.setReturnFormat(JSON)\n",
    "    result = sparql.query()\n",
    "\n",
    "    processed_results = json.load(result.response)\n",
    "    cols = processed_results['head']['vars']\n",
    "\n",
    "    out = []\n",
    "    for row in processed_results['results']['bindings']:\n",
    "        item = []\n",
    "        for c in cols:\n",
    "            item.append(row.get(c, {}).get('value'))\n",
    "        out.append(item)\n",
    "\n",
    "    return pd.DataFrame(out, columns=cols)\n",
    "\n",
    "WDSBLtot = get_sparql_dataframe(endpoint_url, querySBL)\n"
   ]
  },
  {
   "cell_type": "code",
   "execution_count": null,
   "metadata": {},
   "outputs": [],
   "source": [
    "WDSBLtot.sort_index(inplace=True)  "
   ]
  },
  {
   "cell_type": "code",
   "execution_count": null,
   "metadata": {},
   "outputs": [],
   "source": [
    "WDSBLtot.info()"
   ]
  },
  {
   "cell_type": "code",
   "execution_count": null,
   "metadata": {},
   "outputs": [],
   "source": [
    "%matplotlib inline    \n",
    "import matplotlib.pyplot as plt   \n",
    "plotSBLYearBand = dfSBLcsv[\"Year\"].value_counts()\n"
   ]
  },
  {
   "cell_type": "code",
   "execution_count": null,
   "metadata": {},
   "outputs": [],
   "source": [
    "plotSBLYearBand.plot( kind = 'bar') \n",
    "plt.title(\"SBL artiklar publiserade per Bok/Band\")\n",
    "plt.show()"
   ]
  },
  {
   "cell_type": "code",
   "execution_count": null,
   "metadata": {},
   "outputs": [],
   "source": [
    "import matplotlib.dates as mdates  \n",
    "dfSBLcsv.set_index('YearPublished',inplace=True)  \n",
    "dfSBLcsv[\"YearPublished\"] = dfSBLcsv[\"Year\"].str[-4:] \n",
    "dfSBLcsv[\"YearPublished\"] = dfSBLcsv[\"YearPublished\"].astype(\"datetime64\")\n",
    "dfSBLcsv[\"YearPublished\"].dt.strftime('%Y')\n",
    "# set date as index\n",
    "fig, ax = plt.subplots(figsize=(15,7))\n",
    "years_fmt = mdates.DateFormatter('%M')\n",
    "ax.xaxis.set_major_formatter(years_fmt) \n",
    "\n",
    "#plotSBLYearPublished = dfSBLcsv[\"YearPublished\"].dt.year.value_counts().sort_index()\n",
    "#plotSBLYearPublished = dfSBLcsv[\"YearPublished\"].dt.strftime(\"%Y\").value_counts().sort_index()\n",
    "#plotSBLYearPublished.plot( kind = 'bar',ax=ax)   \n",
    "\n",
    "#set major ticks format\n",
    "#ax.xaxis_date()\n",
    "#ax.autoscale_view()\n",
    "#ax.xaxis.set_major_formatter(mdates.DateFormatter('%b %d'))\n",
    "#plt.title(\"SBL articles published per Year 1918-2019\")\n",
    "#plt.savefig('SBL_published_articles_1918-2018.png')  \n",
    "#plt.show()  \n",
    "#plotSBLYearPublished.info"
   ]
  },
  {
   "cell_type": "code",
   "execution_count": null,
   "metadata": {},
   "outputs": [],
   "source": [
    "dfSBLcsv.info()"
   ]
  },
  {
   "cell_type": "code",
   "execution_count": null,
   "metadata": {},
   "outputs": [],
   "source": [
    "dfSBLcsv.head()"
   ]
  },
  {
   "cell_type": "code",
   "execution_count": null,
   "metadata": {},
   "outputs": [],
   "source": [
    "dfSBLcsv[\"url\"] = \"https://sok.riksarkivet.se/sbl/Presentation.aspx?id=\" + str(dfSBLcsv[\"SBLnr\"])"
   ]
  },
  {
   "cell_type": "code",
   "execution_count": null,
   "metadata": {},
   "outputs": [],
   "source": [
    "#dfFamily = dfSBLAuthorcsv.dropna()  \n",
    "dfPerson = dfSBLcsv.dropna(subset = ['Fodd', 'Dod'])"
   ]
  },
  {
   "cell_type": "code",
   "execution_count": null,
   "metadata": {},
   "outputs": [],
   "source": [
    "dfPerson.info()"
   ]
  },
  {
   "cell_type": "markdown",
   "metadata": {},
   "source": [
    "### Join Wikidata\n",
    "as Wikidata we guess knows what articles are about a man and a women we can try merge "
   ]
  },
  {
   "cell_type": "code",
   "execution_count": null,
   "metadata": {},
   "outputs": [],
   "source": [
    "dfSBLcsv['SBLnr']= dfSBLcsv['SBLnr'].astype(str).astype(int)\n",
    "dfSBLcsv.info()"
   ]
  },
  {
   "cell_type": "code",
   "execution_count": null,
   "metadata": {},
   "outputs": [],
   "source": [
    "dfSBLcsv.info()"
   ]
  },
  {
   "cell_type": "code",
   "execution_count": null,
   "metadata": {},
   "outputs": [],
   "source": [
    "WDSBLtot['sblid']= WDSBLtot['sblid'].astype(str).astype(int)\n",
    "WDSBLtot.info()"
   ]
  },
  {
   "cell_type": "code",
   "execution_count": null,
   "metadata": {},
   "outputs": [],
   "source": [
    "WDSBLtot.head()"
   ]
  },
  {
   "cell_type": "code",
   "execution_count": null,
   "metadata": {},
   "outputs": [],
   "source": [
    "WDSBLtot[\"genderLabel\"].value_counts()  "
   ]
  },
  {
   "cell_type": "code",
   "execution_count": null,
   "metadata": {},
   "outputs": [],
   "source": [
    "#WDSBLtot plotSBLYearPublished  \n",
    "mergeWDSBLwebscrape = pd.merge(WDSBLtot, dfSBLcsv,how='outer',left_on='sblid', right_on='SBLnr',indicator=True)   \n",
    "mergeWDSBLwebscrape.rename(columns={\"_merge\": \"WD_Webscrape\"},inplace = True)\n",
    "mergeWDSBLwebscrape['WD_Webscrape'] = mergeWDSBLwebscrape['WD_Webscrape'].str.replace('left_only','WD_only').str.replace('right_only','scrape_only')\n",
    "mergeWDSBLwebscrape[\"WD_Webscrape\"].value_counts()  \n"
   ]
  },
  {
   "cell_type": "code",
   "execution_count": null,
   "metadata": {},
   "outputs": [],
   "source": [
    "dfWD_SBL_article = mergeWDSBLwebscrape[mergeWDSBLwebscrape.WD_Webscrape.str.contains(\"both\")]\n",
    "#dfWDSKBLarticle.YearPublished.dt.strftime(\"%Y\") \n",
    "#dfWDSKBLarticle.info()  \n",
    "dfWD_SBL_female_article = dfWD_SBL_article[dfWD_SBL_article.genderLabel.str.contains(\"kvinna\")]\n",
    "dfWD_SBL_female_article.head()  \n",
    "# Year genderLabel count"
   ]
  },
  {
   "cell_type": "code",
   "execution_count": null,
   "metadata": {},
   "outputs": [],
   "source": [
    "# set date as index\n",
    "#fig = plt.subplots(figsize=(15,7))\n",
    "\n",
    "#plotSBLYearFemailPublished = dfWD_SBL_female_article[\"YearPublished\"].dt.strftime(\"%Y\").value_counts().sort_index().plot(kind='bar', color=['red'])\n",
    "\n",
    "#plt.title(\"SBL articles published per Year about women 1918-2019\")\n",
    "#plt.savefig('SBL_published_articles_women_1918-2018.png')  \n",
    "#plt.show()  \n",
    "#plotSBLYearPublished.info \n"
   ]
  },
  {
   "cell_type": "code",
   "execution_count": null,
   "metadata": {},
   "outputs": [],
   "source": [
    "#dfWD_SBL_female_article[\"YearPublished\"].dt.strftime(\"%Y\").value_counts().sort_index(ascending=False)"
   ]
  },
  {
   "cell_type": "code",
   "execution_count": null,
   "metadata": {},
   "outputs": [],
   "source": [
    "dfWD_SBL_female_article.head()"
   ]
  },
  {
   "cell_type": "code",
   "execution_count": null,
   "metadata": {},
   "outputs": [],
   "source": [
    "fig = plt.subplots(figsize=(15,7))\n",
    "\n",
    "plotSBLYearFemailPublished = dfWD_SBL_female_article[\"YearPublished\"].dt.strftime(\"%Y\").value_counts().sort_index().plot(kind='bar', color=['red'])\n",
    "#plotSBLYearPublished = dfSBLcsv[\"YearPublished\"].dt.strftime(\"%Y\").value_counts().sort_index()\n",
    "plotSBLYearPublished.plot( kind = 'bar', color=['g']) \n",
    "plt.title(\"SBL articles published per Year all and women 1918-2019\")\n",
    "plt.savefig('SBL_published_articles_all_women_1918-2018.png')  \n",
    "plt.show()  "
   ]
  },
  {
   "cell_type": "code",
   "execution_count": null,
   "metadata": {},
   "outputs": [],
   "source": [
    "speed = [0.1, 17.5, 40, 48, 52, 69, 88]\n",
    "lifespan = [2, 8, 70, 1.5, 25, 12, 28]\n",
    "index = ['snail', 'pig', 'elephant',\n",
    "          'rabbit', 'giraffe', 'coyote', 'horse']\n",
    "df = pd.DataFrame({'speed': speed,\n",
    "                    'lifespan': lifespan}, index=index)\n",
    "#ax = df.plot.bar(rot=0)\n",
    "\n",
    "\n",
    "#plotSBLYearPublished_FM = dfWD_SBL_article.groupby([\"YearPublished\"])\n",
    "#plotSBLYearPublished_FM = dfWD_SBL_article.groupby([\"YearPublished\"])[\"genderLabel\"].transform(\"count\")\n",
    "#df['Counts'] = df.groupby(['Color'])['Value'].transform('count')\n",
    "#plotSBLYearPublished_FM.head()  \n",
    "dfWD_SBL_article.info()\n",
    "dfWD_SBL_article.head()\n",
    "\n",
    "# Group by YearPublished genderLabel"
   ]
  },
  {
   "cell_type": "markdown",
   "metadata": {},
   "source": [
    "### Släktartiklar  \n",
    "Nedan lite gissning att en släktartikel har ordet släkt i titeln. \n",
    "\n",
    "* se också [webscarping Adelsvapen](https://gist.github.com/salgo60/31e0c4bf6f075c373fb5bbfb6cc807c6)\n",
    "* csv lista skapad nedan på [GIST](https://gist.github.com/salgo60/31e0c4bf6f075c373fb5bbfb6cc807c6#gistcomment-3457126) "
   ]
  },
  {
   "cell_type": "code",
   "execution_count": null,
   "metadata": {},
   "outputs": [],
   "source": [
    "dfFamily = dfSBLcsv[dfSBLcsv.isnull().any(1)]"
   ]
  },
  {
   "cell_type": "code",
   "execution_count": null,
   "metadata": {},
   "outputs": [],
   "source": [
    "dfFamily.info()"
   ]
  },
  {
   "cell_type": "code",
   "execution_count": null,
   "metadata": {},
   "outputs": [],
   "source": [
    "#dfFamily"
   ]
  },
  {
   "cell_type": "code",
   "execution_count": null,
   "metadata": {
    "scrolled": false
   },
   "outputs": [],
   "source": [
    "dfFamilySlakt = dfFamily[dfFamily.titel.str.contains(\"släkt\")]\n",
    "#dfFamilySlakt"
   ]
  },
  {
   "cell_type": "code",
   "execution_count": null,
   "metadata": {},
   "outputs": [],
   "source": [
    "dictFamily = dfFamilySlakt.to_dict()"
   ]
  },
  {
   "cell_type": "code",
   "execution_count": null,
   "metadata": {},
   "outputs": [],
   "source": []
  },
  {
   "cell_type": "code",
   "execution_count": null,
   "metadata": {},
   "outputs": [],
   "source": [
    "dfFamily.titel.str.contains(\"släkt\").sum()"
   ]
  },
  {
   "cell_type": "code",
   "execution_count": null,
   "metadata": {},
   "outputs": [],
   "source": [
    "dfFamily.titel.str.contains(\"ätten\").sum()"
   ]
  },
  {
   "cell_type": "code",
   "execution_count": null,
   "metadata": {},
   "outputs": [],
   "source": [
    "dfFamily.titel.str.contains(\"Släkt\").sum()"
   ]
  },
  {
   "cell_type": "code",
   "execution_count": null,
   "metadata": {},
   "outputs": [],
   "source": [
    "dfFamily.Dod.str.contains(\"senas\").sum()"
   ]
  },
  {
   "cell_type": "code",
   "execution_count": null,
   "metadata": {},
   "outputs": [],
   "source": [
    "#dfFamily[dfFamily.Dod.str.contains(\"senas\", na=False)]"
   ]
  },
  {
   "cell_type": "code",
   "execution_count": null,
   "metadata": {},
   "outputs": [],
   "source": [
    "dfFamily[dfFamily.Fodd.str.contains(\"\", na=False)].head"
   ]
  },
  {
   "cell_type": "code",
   "execution_count": null,
   "metadata": {},
   "outputs": [],
   "source": [
    "#Check diff WDSBLtot and dfSBLcsv \n",
    "WDSBLtot.duplicated(subset=['wid']).sum()"
   ]
  },
  {
   "cell_type": "code",
   "execution_count": null,
   "metadata": {},
   "outputs": [],
   "source": [
    "dfSBLcsv.duplicated(subset=['SBLnr']).sum()"
   ]
  },
  {
   "cell_type": "code",
   "execution_count": null,
   "metadata": {},
   "outputs": [],
   "source": [
    "WDSBLtot.duplicated(subset=['sblid']).sum()"
   ]
  },
  {
   "cell_type": "code",
   "execution_count": null,
   "metadata": {},
   "outputs": [],
   "source": [
    "WDSBLtot = WDSBLtot.rename(columns={'sblid':'SBLnr'})\n",
    "WDSBLtot['SBLnr']= WDSBLtot['SBLnr'].astype(str).astype(int)\n",
    "WDSBLtot.info()"
   ]
  },
  {
   "cell_type": "code",
   "execution_count": null,
   "metadata": {},
   "outputs": [],
   "source": [
    "dfmerge = pd.merge(WDSBLtot, dfSBLcsv,how='outer', on='SBLnr',indicator=True)"
   ]
  },
  {
   "cell_type": "code",
   "execution_count": null,
   "metadata": {},
   "outputs": [],
   "source": [
    "dfmerge[\"_merge\"].value_counts()"
   ]
  },
  {
   "cell_type": "code",
   "execution_count": null,
   "metadata": {},
   "outputs": [],
   "source": [
    "#dfmerge"
   ]
  },
  {
   "cell_type": "code",
   "execution_count": null,
   "metadata": {},
   "outputs": [],
   "source": [
    "dfmerge['_merge'] = dfmerge['_merge'].str.replace('left_only','WD_only').str.replace('right_only','SBL_only')\n"
   ]
  },
  {
   "cell_type": "code",
   "execution_count": null,
   "metadata": {},
   "outputs": [],
   "source": [
    "WDSBLonly = dfmerge[dfmerge[\"_merge\"] == \"SBL_only\"].copy()   \n",
    "dfmerge[\"_merge\"].value_counts()"
   ]
  },
  {
   "cell_type": "code",
   "execution_count": null,
   "metadata": {},
   "outputs": [],
   "source": [
    "WD_only = dfmerge[dfmerge[\"_merge\"] == \"WD_only\"].copy()   \n",
    "WD_only"
   ]
  },
  {
   "cell_type": "code",
   "execution_count": null,
   "metadata": {},
   "outputs": [],
   "source": [
    "WDSBLonly.info()"
   ]
  },
  {
   "cell_type": "code",
   "execution_count": null,
   "metadata": {},
   "outputs": [],
   "source": [
    "WDSBLonly.titel.str.contains(\"släkt\").sum() \n"
   ]
  },
  {
   "cell_type": "code",
   "execution_count": null,
   "metadata": {},
   "outputs": [],
   "source": [
    "WDSBLonly[WDSBLonly.titel.str.contains(\"ätt\")].head"
   ]
  },
  {
   "cell_type": "code",
   "execution_count": null,
   "metadata": {},
   "outputs": [],
   "source": [
    "#Inte släkt \n",
    "WDmissingPerson = WDSBLonly[~WDSBLonly.titel.str.contains(\"släkt\")]"
   ]
  },
  {
   "cell_type": "code",
   "execution_count": null,
   "metadata": {},
   "outputs": [],
   "source": [
    "WDmissingPerson.info()"
   ]
  },
  {
   "cell_type": "code",
   "execution_count": null,
   "metadata": {},
   "outputs": [],
   "source": [
    "WDmissingPerson[\"Year\"].value_counts()"
   ]
  },
  {
   "cell_type": "code",
   "execution_count": null,
   "metadata": {},
   "outputs": [],
   "source": []
  },
  {
   "cell_type": "code",
   "execution_count": null,
   "metadata": {},
   "outputs": [],
   "source": [
    "print(\"Min, Max SBLlength: \", WDmissingPerson.SBLlength.min(), WDmissingPerson.SBLlength.max())"
   ]
  },
  {
   "cell_type": "code",
   "execution_count": null,
   "metadata": {},
   "outputs": [],
   "source": [
    "# sorterar artiklarna efter sidstorlek för att kanske hitta någon vi missat  \n",
    "# wid är Wikidata objekt , NaN är att det saknas  \n",
    "# SBLnr är id i SBL\n",
    "# SBLlength är sidans storlek hos SBL \n",
    "# Fodd, Dod... är det jag hittade i WEBsidan, NaN innebär saknas\n",
    "\n",
    "#WDmissingPerson.sort_values(by='SBLlength', ascending=False, na_position='first')"
   ]
  },
  {
   "cell_type": "code",
   "execution_count": null,
   "metadata": {},
   "outputs": [],
   "source": [
    "WDmissingPerson[\"Year\"].value_counts()"
   ]
  },
  {
   "cell_type": "code",
   "execution_count": null,
   "metadata": {},
   "outputs": [],
   "source": [
    "print(\"End run: \", datetime.now())"
   ]
  },
  {
   "cell_type": "code",
   "execution_count": null,
   "metadata": {},
   "outputs": [],
   "source": [
    "#Släkt \n",
    "#WDSlakt = WDSBLonly[~WDSBLonly.titel.str.contains(\"släkt\")].copy"
   ]
  },
  {
   "cell_type": "code",
   "execution_count": null,
   "metadata": {},
   "outputs": [],
   "source": [
    "WDSlakt = WDSBLonly[WDSBLonly.titel.str.contains(\"släkt\")]"
   ]
  },
  {
   "cell_type": "code",
   "execution_count": null,
   "metadata": {},
   "outputs": [],
   "source": [
    "WDSlakt.info()"
   ]
  },
  {
   "cell_type": "code",
   "execution_count": null,
   "metadata": {},
   "outputs": [],
   "source": [
    "#Need a workaround as pandas to_csv dont work ?!?!?\n",
    "for  index,row in WDSlakt.iterrows():\n",
    "#    print(row[\"SBLnr\"],row[\"titel\"],row[\"Year\"],row[\"url\"])    \n",
    "#    print(row[\"SBLnr\"],\"|\",row[\"titel\"],\"|\",row[\"Year\"])  "
   ]
  },
  {
   "cell_type": "markdown",
   "metadata": {},
   "source": [
    "List produced also on [GIST](https://gist.github.com/salgo60/31e0c4bf6f075c373fb5bbfb6cc807c6#gistcomment-3457126) "
   ]
  },
  {
   "cell_type": "markdown",
   "metadata": {},
   "source": [
    "### Estimate published articles male/female /family\n"
   ]
  },
  {
   "cell_type": "code",
   "execution_count": null,
   "metadata": {},
   "outputs": [],
   "source": [
    "dfmerge.info()"
   ]
  },
  {
   "cell_type": "code",
   "execution_count": null,
   "metadata": {},
   "outputs": [],
   "source": [
    "personSBL = dfmerge[~dfmerge['wid'].isnull()] "
   ]
  },
  {
   "cell_type": "code",
   "execution_count": null,
   "metadata": {},
   "outputs": [],
   "source": [
    "personSBL.info()"
   ]
  },
  {
   "cell_type": "code",
   "execution_count": null,
   "metadata": {},
   "outputs": [],
   "source": [
    "#plotSBLGender = personSBL.groupby([\"genderLabel\", \"YearPublished\"]).size()\n",
    "#plotSBLGender  "
   ]
  },
  {
   "cell_type": "code",
   "execution_count": null,
   "metadata": {},
   "outputs": [],
   "source": [
    "#plotSBLGender.unstack()"
   ]
  },
  {
   "cell_type": "code",
   "execution_count": null,
   "metadata": {},
   "outputs": [],
   "source": []
  },
  {
   "cell_type": "code",
   "execution_count": null,
   "metadata": {},
   "outputs": [],
   "source": []
  }
 ],
 "metadata": {
  "kernelspec": {
   "display_name": "Python 3",
   "language": "python",
   "name": "python3"
  },
  "language_info": {
   "codemirror_mode": {
    "name": "ipython",
    "version": 3
   },
   "file_extension": ".py",
   "mimetype": "text/x-python",
   "name": "python",
   "nbconvert_exporter": "python",
   "pygments_lexer": "ipython3",
   "version": "3.8.0"
  }
 },
 "nbformat": 4,
 "nbformat_minor": 4
}
