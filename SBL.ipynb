{
 "cells": [
  {
   "cell_type": "markdown",
   "metadata": {},
   "source": [
    "## Riksarkivet SBL  - Wikidata ett försök att synka och dansa med dom\n",
    "version 0.47 this [notebook](https://github.com/salgo60/open-data-examples/blob/master/SBL.ipynb)\n",
    "\n",
    "WD egenskap [Property:P3217](https://www.wikidata.org/wiki/Property:P3217) \n",
    "* SBL personartiklar som saknar [sv:Wikipedia artikel](https://w.wiki/c5f) < 150\n",
    "* [SBL vs SKBL female articles](https://github.com/salgo60/open-data-examples/blob/master/Svenskt%20Kvinnobiografiskt%20lexikon%20part%203.ipynb)  \n",
    "\n",
    "#### Andra källor vi synkar\n",
    "* [Kulturpersoner Uppsalakyrkogård](https://github.com/salgo60/open-data-examples/blob/master/Check%20WD%20kulturpersoner%20uppsalakyrkogardar.ipynb)\n",
    "* [Litteraturbanken](https://github.com/salgo60/open-data-examples/blob/master/Litteraturbanken%20Author.ipynb) \n",
    "  * WD property [P5101](https://www.wikidata.org/wiki/Property_talk:P5101) [P5123](https://www.wikidata.org/wiki/Property_talk:P5123)\n",
    "* [Nobelprize.org](https://github.com/salgo60/open-data-examples/blob/master/Nobel%20API.ipynb)\n",
    "  * WD [property 8024](https://www.wikidata.org/wiki/Property:P8024)\n",
    "* [SBL](https://github.com/salgo60/open-data-examples/blob/master/SBL.ipynb) \n",
    "  * WD [property 3217](https://www.wikidata.org/wiki/Property:P3217) \n",
    "* [SKBL](https://github.com/salgo60/open-data-examples/blob/master/Svenskt%20Kvinnobiografiskt%20lexikon%20part%203.ipynb)\n",
    "  * WD [property 4963](https://www.wikidata.org/wiki/Property:P4963)\n",
    "* [Svenska Akademien](https://github.com/salgo60/open-data-examples/blob/master/Svenska%20Akademien.ipynb) \n",
    "  * WD [property 5325](https://www.wikidata.org/wiki/Property:P5325) \n",
    "\n",
    "### SBL\n",
    "SBL har idag\n",
    "* personartiklar\n",
    "* släktartiklar\n",
    "  * en person i en släktartikel kan ha en sida som bara pekar till släktartikeln (med text ej alltid länk)\n",
    "\n",
    "Det saknas idag från Riksarkivet ett API så nedanstående är ett försök att webscrapa deras data och sedan försöka hitta en struktur. \n",
    "\n",
    "Målsättningen är att ha personerna som har en SBL personartikel representerade i Wikidata. Kul vore att även ha släktartiklarna kopplade till Wikidata... är inte säkert hur bra strukturen är för släkter/ätter/familjer i WD och sedan behövs det matchas en hel del. En person kan även omnämnas i en släktartikel och bör då i Wikidata ha \"beskriven av källa\" kopplad till dessa artiklar (exempel Gunnar Morssing [Q5994570#P1343](https://www.wikidata.org/wiki/Q5994570#P1343) som finns i artikel SBL [\"Morssing, släkt\"](https://sok.riksarkivet.se/sbl/Presentation.aspx?id=9512)) vilket är ett mycket stort jobb om Riksarkivet inte går över till att leverera [länkade data](https://sv.wikipedia.org/wiki/L%C3%A4nkade_data)... se förfrågan om bättre metadata 2019 okt 30 [T236883](https://phabricator.wikimedia.org/T236883)    \n",
    "\n",
    "**Mina gissningar** \n",
    "1. sida med född/död är en person\n",
    "2. sida med titel släkt är en släktartikel\n",
    "3. sida med född/död men för kort kan vara en referens till en släktartikel\n",
    "4. släkt artikel kan ha \"[ätt](https://sok.riksarkivet.se/sbl/Search.aspx?t=0)\" i titeln men det kan visst även person artiklar ha\n",
    "5. tom sida < 12000 tecken se EmptyPageLength\n",
    "6. ....\n",
    "\n",
    "### jmf SKBL med SBL \n",
    "med ett mera komplett Wikidata kan vi nu jämföra [Svenskt Kvinnobiografiskt lexikon - SKBL](https://www.skbl.se/sv/om-skbl) med [Riksarkivet](https://sok.riksarkivet.se/sbl/OmSBL.aspx) då det gäller urval av kvinnor, antal kvinnor, hur dom levererar, API vs. inte API, skillnaden att ha enbart svenska artiklar som SBL med att även ha [engelska artiklar som SKBL](https://www.skbl.se/en/about-skbl) \n",
    "\n",
    "* [Notebook](https://github.com/salgo60/open-data-examples/blob/master/Svenskt%20Kvinnobiografiskt%20lexikon%20part%203.ipynb)\n",
    "\n",
    "# Webscrape \n",
    "1. vi gissar id min 4000 och max 40000\n",
    "2. webdesignen verkar ha ändrats --> ändra size tom sida __EmptyPageLength__\n"
   ]
  },
  {
   "cell_type": "code",
   "execution_count": 150,
   "metadata": {},
   "outputs": [
    {
     "name": "stdout",
     "output_type": "stream",
     "text": [
      "Last run:  2022-06-10 01:30:05.290761\n"
     ]
    }
   ],
   "source": [
    "from datetime import datetime\n",
    "startdate = datetime.now()\n",
    "print(\"Last run: \", startdate)"
   ]
  },
  {
   "cell_type": "code",
   "execution_count": null,
   "metadata": {},
   "outputs": [],
   "source": [
    "EmptyPageLength = 12000 # parameter to check if we webscrape an empty page right now 12000 seems ok"
   ]
  },
  {
   "cell_type": "code",
   "execution_count": 15,
   "metadata": {},
   "outputs": [
    {
     "data": {
      "application/vnd.jupyter.widget-view+json": {
       "model_id": "d39b5b42d6df4a1aa4e18c96d0d03fc8",
       "version_major": 2,
       "version_minor": 0
      },
      "text/plain": [
       "  0%|          | 0/36000 [00:00<?, ?it/s]"
      ]
     },
     "metadata": {},
     "output_type": "display_data"
    },
    {
     "name": "stdout",
     "output_type": "stream",
     "text": [
      "10211  antal poster\n"
     ]
    }
   ],
   "source": [
    "import urllib3, json\n",
    "import pandas as pd   \n",
    "from bs4 import BeautifulSoup\n",
    "import sys\n",
    "import pprint\n",
    "http = urllib3.PoolManager()\n",
    "\n",
    "from tqdm.notebook import trange  \n",
    "listNewItems =[]\n",
    "\n",
    "for SBLnr in trange(4000,40000): #gissar min 4000 max 40000\n",
    "    url = \"https://sok.riksarkivet.se/sbl/Presentation.aspx?id=\" + str(SBLnr)\n",
    "    r = http.request('GET', url) \n",
    "    if len(r.data) > EmptyPageLength: # Looks like they change the webdesign raise EmptyPageLength\n",
    "        new_item = dict()\n",
    "        #print(SBLnr,len(r.data))\n",
    "        new_item['SBLnr'] = SBLnr\n",
    "        new_item['SBLlength'] = len(r.data)\n",
    "        soup = BeautifulSoup(r.data, \"html.parser\")  \n",
    "        \n",
    "        try:\n",
    "            titel = soup.findAll(\"span\", {\"id\": \"ctl00_MainContent_lblTitle\"})[0].get_text()\n",
    "            new_item['titel'] = titel\n",
    "            #print (\"\\t\",titel)\n",
    "        except:\n",
    "            pass\n",
    "        try:\n",
    "            Fodd = soup.findAll(\"span\", {\"id\": \"ctl00_MainContent_lblFodelse\"})[0].get_text()\n",
    "            #print (\"\\t\",Fodd)\n",
    "            new_item['Fodd'] = Fodd\n",
    "        except:\n",
    "            pass\n",
    "        try:\n",
    "            Dod = soup.findAll(\"span\", {\"id\": \"ctl00_MainContent_lblDod\"})[0].get_text()\n",
    "            #print (\"\\t\",Dod)\n",
    "            new_item['Dod'] = Dod\n",
    "        except:\n",
    "            pass\n",
    "        try:\n",
    "            band = soup.findAll(\"span\", {\"id\": \"ctl00_MainContent_lblBandSida\"})[0].get_text()\n",
    "            #print (\"\\t\",band)\n",
    "            new_item['Band'] = band\n",
    "            try:\n",
    "#                year = band.get_text().split(\"(\")[1].split(\")\")\n",
    "                year = band.split(\"(\")[1].split(\")\")[0]\n",
    "                #print (\"\\t\\tYear\",year)\n",
    "                new_item['Year'] = year\n",
    "            except:\n",
    "                pass\n",
    "        except:\n",
    "            pass\n",
    "            \n",
    "        listNewItems.append(new_item)\n",
    "print (len(listNewItems) ,\" antal poster\")\n",
    "        \n"
   ]
  },
  {
   "cell_type": "code",
   "execution_count": 16,
   "metadata": {},
   "outputs": [
    {
     "data": {
      "text/plain": [
       "dict_keys(['SBLnr', 'SBLlength', 'titel', 'Fodd', 'Dod', 'Band', 'Year'])"
      ]
     },
     "execution_count": 16,
     "metadata": {},
     "output_type": "execute_result"
    }
   ],
   "source": [
    "listNewItems[0].keys()"
   ]
  },
  {
   "cell_type": "code",
   "execution_count": null,
   "metadata": {},
   "outputs": [],
   "source": [
    "\n"
   ]
  },
  {
   "cell_type": "code",
   "execution_count": 17,
   "metadata": {},
   "outputs": [],
   "source": [
    "import csv\n",
    "if len(listNewItems) > 0:\n",
    "    keys = listNewItems[0].keys()\n",
    "    with open(\"SBL_newfile.csv\", \"w\", newline='') as SBLfile:\n",
    "        dict_writer = csv.DictWriter(SBLfile, keys)\n",
    "        dict_writer.writeheader()\n",
    "        dict_writer.writerows(listNewItems)\n",
    "\n",
    "    dfSBLcsv = pd.read_csv(\"SBL_newfile.csv\", sep=\",\")   \n",
    "    \n",
    "else:\n",
    "    print (\"Ingen fil skapas inga nya poster\") "
   ]
  },
  {
   "cell_type": "code",
   "execution_count": 18,
   "metadata": {},
   "outputs": [],
   "source": [
    "pd.set_option(\"display.max.rows\", None) "
   ]
  },
  {
   "cell_type": "code",
   "execution_count": 19,
   "metadata": {},
   "outputs": [
    {
     "name": "stdout",
     "output_type": "stream",
     "text": [
      "<class 'pandas.core.frame.DataFrame'>\n",
      "RangeIndex: 10211 entries, 0 to 10210\n",
      "Data columns (total 7 columns):\n",
      " #   Column     Non-Null Count  Dtype \n",
      "---  ------     --------------  ----- \n",
      " 0   SBLnr      10211 non-null  int64 \n",
      " 1   SBLlength  10211 non-null  int64 \n",
      " 2   titel      10211 non-null  object\n",
      " 3   Fodd       7117 non-null   object\n",
      " 4   Dod        7602 non-null   object\n",
      " 5   Band       10211 non-null  object\n",
      " 6   Year       10190 non-null  object\n",
      "dtypes: int64(2), object(5)\n",
      "memory usage: 558.5+ KB\n"
     ]
    }
   ],
   "source": [
    "dfSBLcsv.info()  "
   ]
  },
  {
   "cell_type": "markdown",
   "metadata": {},
   "source": [
    "## Wikidata hämtar alla med P3217 satt \n",
    "dvs. även släkt kopplingar"
   ]
  },
  {
   "cell_type": "code",
   "execution_count": 20,
   "metadata": {},
   "outputs": [],
   "source": [
    "from SPARQLWrapper import SPARQLWrapper, JSON\n",
    "\n",
    "endpoint_url = \"https://query.wikidata.org/sparql\"\n",
    "\n",
    "#https://w.wiki/cvY\n",
    "querySBL = \"\"\"SELECT (REPLACE(STR(?item), \".*Q\", \"Q\") AS ?wid)  ?sblid ?gender ?genderLabel WHERE {\n",
    "?item wdt:P3217 ?sblid.\n",
    "?item wdt:P31 wd:Q5.\n",
    "optional {?item wdt:P21 ?gender}\n",
    "SERVICE wikibase:label { bd:serviceParam wikibase:language \"sv,en\". }  \n",
    "}\"\"\"\n",
    "\n",
    "def get_sparql_dataframe(endpoint_url, query):\n",
    "    \"\"\"\n",
    "    Helper function to convert SPARQL results into a Pandas data frame.\n",
    "    \"\"\"\n",
    "    user_agent = \"salgo60/%s.%s\" % (sys.version_info[0], sys.version_info[1])\n",
    " \n",
    "    sparql = SPARQLWrapper(endpoint_url, agent=user_agent)\n",
    "    sparql.setQuery(query)\n",
    "    sparql.setReturnFormat(JSON)\n",
    "    result = sparql.query()\n",
    "\n",
    "    processed_results = json.load(result.response)\n",
    "    cols = processed_results['head']['vars']\n",
    "\n",
    "    out = []\n",
    "    for row in processed_results['results']['bindings']:\n",
    "        item = []\n",
    "        for c in cols:\n",
    "            item.append(row.get(c, {}).get('value'))\n",
    "        out.append(item)\n",
    "\n",
    "    return pd.DataFrame(out, columns=cols)\n",
    "\n",
    "WDSBLtot = get_sparql_dataframe(endpoint_url, querySBL)\n"
   ]
  },
  {
   "cell_type": "code",
   "execution_count": 21,
   "metadata": {},
   "outputs": [],
   "source": [
    "WDSBLtot.sort_index(inplace=True)  "
   ]
  },
  {
   "cell_type": "code",
   "execution_count": 22,
   "metadata": {},
   "outputs": [
    {
     "name": "stdout",
     "output_type": "stream",
     "text": [
      "<class 'pandas.core.frame.DataFrame'>\n",
      "RangeIndex: 7628 entries, 0 to 7627\n",
      "Data columns (total 4 columns):\n",
      " #   Column       Non-Null Count  Dtype \n",
      "---  ------       --------------  ----- \n",
      " 0   wid          7628 non-null   object\n",
      " 1   sblid        7628 non-null   object\n",
      " 2   gender       7628 non-null   object\n",
      " 3   genderLabel  7628 non-null   object\n",
      "dtypes: object(4)\n",
      "memory usage: 238.5+ KB\n"
     ]
    }
   ],
   "source": [
    "WDSBLtot.info()"
   ]
  },
  {
   "cell_type": "code",
   "execution_count": 23,
   "metadata": {},
   "outputs": [],
   "source": [
    "%matplotlib inline    \n",
    "import matplotlib.pyplot as plt   \n",
    "plotSBLYearBand = dfSBLcsv[\"Year\"].value_counts()\n"
   ]
  },
  {
   "cell_type": "code",
   "execution_count": 24,
   "metadata": {},
   "outputs": [
    {
     "data": {
      "image/png": "[encoded data removed]",
      "text/plain": [
       "<Figure size 432x288 with 1 Axes>"
      ]
     },
     "metadata": {
      "needs_background": "light"
     },
     "output_type": "display_data"
    }
   ],
   "source": [
    "plotSBLYearBand.plot( kind = 'bar') \n",
    "plt.title(\"SBL artiklar publiserade per Bok/Band\")\n",
    "plt.show()"
   ]
  },
  {
   "cell_type": "code",
   "execution_count": 151,
   "metadata": {},
   "outputs": [
    {
     "data": {
      "text/html": [
       "<div>\n",
       "<style scoped>\n",
       "    .dataframe tbody tr th:only-of-type {\n",
       "        vertical-align: middle;\n",
       "    }\n",
       "\n",
       "    .dataframe tbody tr th {\n",
       "        vertical-align: top;\n",
       "    }\n",
       "\n",
       "    .dataframe thead th {\n",
       "        text-align: right;\n",
       "    }\n",
       "</style>\n",
       "<table border=\"1\" class=\"dataframe\">\n",
       "  <thead>\n",
       "    <tr style=\"text-align: right;\">\n",
       "      <th></th>\n",
       "      <th>SBLnr</th>\n",
       "      <th>SBLlength</th>\n",
       "      <th>titel</th>\n",
       "      <th>Fodd</th>\n",
       "      <th>Dod</th>\n",
       "      <th>Band</th>\n",
       "      <th>Year</th>\n",
       "    </tr>\n",
       "  </thead>\n",
       "  <tbody>\n",
       "    <tr>\n",
       "      <th>4114</th>\n",
       "      <td>12177</td>\n",
       "      <td>16654</td>\n",
       "      <td>Johnson, släkt</td>\n",
       "      <td>NaN</td>\n",
       "      <td>NaN</td>\n",
       "      <td>Band 20 (1973-1975), sida 350.</td>\n",
       "      <td>1973-1975</td>\n",
       "    </tr>\n",
       "    <tr>\n",
       "      <th>5137</th>\n",
       "      <td>13541</td>\n",
       "      <td>26659</td>\n",
       "      <td>Halenius, släkt</td>\n",
       "      <td>NaN</td>\n",
       "      <td>NaN</td>\n",
       "      <td>Band 17 (1967-1969), sida 770.</td>\n",
       "      <td>1967-1969</td>\n",
       "    </tr>\n",
       "    <tr>\n",
       "      <th>120</th>\n",
       "      <td>5622</td>\n",
       "      <td>28674</td>\n",
       "      <td>Alfred Gustaf Ahlqvist</td>\n",
       "      <td>Född:1838-06-17 – Runstens församling, Kalmar län</td>\n",
       "      <td>Död:1881-03-26 – Växjö domkyrkoförsamling, Kro...</td>\n",
       "      <td>Band 01 (1918), sida 317.</td>\n",
       "      <td>1918</td>\n",
       "    </tr>\n",
       "    <tr>\n",
       "      <th>7733</th>\n",
       "      <td>17049</td>\n",
       "      <td>38665</td>\n",
       "      <td>Anders Bruhn</td>\n",
       "      <td>Född:1778-11-25 – Stockholms stad, Stockholms län</td>\n",
       "      <td>Död:1856-02-23 – Göteborgs stad, Västra Götala...</td>\n",
       "      <td>Band 06 (1926), sida 480.</td>\n",
       "      <td>1926</td>\n",
       "    </tr>\n",
       "    <tr>\n",
       "      <th>6808</th>\n",
       "      <td>15854</td>\n",
       "      <td>29752</td>\n",
       "      <td>Carl Gustaf Ekman</td>\n",
       "      <td>Född:1738-12-25 – Nyköpings Alla Helgona försa...</td>\n",
       "      <td>Död:1819-10-22 – Nikolai församling, Stockholm...</td>\n",
       "      <td>Band 13 (1950), sida 51.</td>\n",
       "      <td>1950</td>\n",
       "    </tr>\n",
       "    <tr>\n",
       "      <th>8474</th>\n",
       "      <td>18021</td>\n",
       "      <td>13274</td>\n",
       "      <td>Bowallius, släkt</td>\n",
       "      <td>NaN</td>\n",
       "      <td>NaN</td>\n",
       "      <td>Band 05 (1925), sida 611.</td>\n",
       "      <td>1925</td>\n",
       "    </tr>\n",
       "    <tr>\n",
       "      <th>4817</th>\n",
       "      <td>13100</td>\n",
       "      <td>16132</td>\n",
       "      <td>Godenius, släkt</td>\n",
       "      <td>NaN</td>\n",
       "      <td>NaN</td>\n",
       "      <td>Band 17 (1967-1969), sida 166.</td>\n",
       "      <td>1967-1969</td>\n",
       "    </tr>\n",
       "    <tr>\n",
       "      <th>1060</th>\n",
       "      <td>7212</td>\n",
       "      <td>27165</td>\n",
       "      <td>Petrus Philippi</td>\n",
       "      <td>NaN</td>\n",
       "      <td>Död:1341-08-12 – Sigtuna församling, Stockholm...</td>\n",
       "      <td>Band 29 (1995-1997), sida 228.</td>\n",
       "      <td>1995-1997</td>\n",
       "    </tr>\n",
       "    <tr>\n",
       "      <th>5342</th>\n",
       "      <td>13824</td>\n",
       "      <td>40614</td>\n",
       "      <td>Henrik Klasson (Horn)</td>\n",
       "      <td>Född:1512/13</td>\n",
       "      <td>Död:1595-06-21 – Finland (på Kankas, Masku)</td>\n",
       "      <td>Band 19 (1971-1973), sida 353.</td>\n",
       "      <td>1971-1973</td>\n",
       "    </tr>\n",
       "    <tr>\n",
       "      <th>9409</th>\n",
       "      <td>20046</td>\n",
       "      <td>83221</td>\n",
       "      <td>H F (Frida) M Stéenhoff</td>\n",
       "      <td>Född:1865-12-11 – Jakobs församling, Stockholm...</td>\n",
       "      <td>Död:1945-06-22 – Engelbrekts församling, Stock...</td>\n",
       "      <td>Band 33 (2007-2011), sida 191.</td>\n",
       "      <td>2007-2011</td>\n",
       "    </tr>\n",
       "  </tbody>\n",
       "</table>\n",
       "</div>"
      ],
      "text/plain": [
       "      SBLnr  SBLlength                    titel  \\\n",
       "4114  12177      16654           Johnson, släkt   \n",
       "5137  13541      26659          Halenius, släkt   \n",
       "120    5622      28674   Alfred Gustaf Ahlqvist   \n",
       "7733  17049      38665             Anders Bruhn   \n",
       "6808  15854      29752        Carl Gustaf Ekman   \n",
       "8474  18021      13274         Bowallius, släkt   \n",
       "4817  13100      16132          Godenius, släkt   \n",
       "1060   7212      27165          Petrus Philippi   \n",
       "5342  13824      40614    Henrik Klasson (Horn)   \n",
       "9409  20046      83221  H F (Frida) M Stéenhoff   \n",
       "\n",
       "                                                   Fodd  \\\n",
       "4114                                                NaN   \n",
       "5137                                                NaN   \n",
       "120   Född:1838-06-17 – Runstens församling, Kalmar län   \n",
       "7733  Född:1778-11-25 – Stockholms stad, Stockholms län   \n",
       "6808  Född:1738-12-25 – Nyköpings Alla Helgona försa...   \n",
       "8474                                                NaN   \n",
       "4817                                                NaN   \n",
       "1060                                                NaN   \n",
       "5342                                       Född:1512/13   \n",
       "9409  Född:1865-12-11 – Jakobs församling, Stockholm...   \n",
       "\n",
       "                                                    Dod  \\\n",
       "4114                                                NaN   \n",
       "5137                                                NaN   \n",
       "120   Död:1881-03-26 – Växjö domkyrkoförsamling, Kro...   \n",
       "7733  Död:1856-02-23 – Göteborgs stad, Västra Götala...   \n",
       "6808  Död:1819-10-22 – Nikolai församling, Stockholm...   \n",
       "8474                                                NaN   \n",
       "4817                                                NaN   \n",
       "1060  Död:1341-08-12 – Sigtuna församling, Stockholm...   \n",
       "5342        Död:1595-06-21 – Finland (på Kankas, Masku)   \n",
       "9409  Död:1945-06-22 – Engelbrekts församling, Stock...   \n",
       "\n",
       "                                Band       Year  \n",
       "4114  Band 20 (1973-1975), sida 350.  1973-1975  \n",
       "5137  Band 17 (1967-1969), sida 770.  1967-1969  \n",
       "120        Band 01 (1918), sida 317.       1918  \n",
       "7733       Band 06 (1926), sida 480.       1926  \n",
       "6808        Band 13 (1950), sida 51.       1950  \n",
       "8474       Band 05 (1925), sida 611.       1925  \n",
       "4817  Band 17 (1967-1969), sida 166.  1967-1969  \n",
       "1060  Band 29 (1995-1997), sida 228.  1995-1997  \n",
       "5342  Band 19 (1971-1973), sida 353.  1971-1973  \n",
       "9409  Band 33 (2007-2011), sida 191.  2007-2011  "
      ]
     },
     "execution_count": 151,
     "metadata": {},
     "output_type": "execute_result"
    }
   ],
   "source": [
    "dfSBLcsv.sample(10)"
   ]
  },
  {
   "cell_type": "code",
   "execution_count": 152,
   "metadata": {},
   "outputs": [
    {
     "name": "stdout",
     "output_type": "stream",
     "text": [
      "<class 'pandas.core.frame.DataFrame'>\n",
      "RangeIndex: 10211 entries, 0 to 10210\n",
      "Data columns (total 7 columns):\n",
      " #   Column     Non-Null Count  Dtype \n",
      "---  ------     --------------  ----- \n",
      " 0   SBLnr      10211 non-null  int64 \n",
      " 1   SBLlength  10211 non-null  int64 \n",
      " 2   titel      10211 non-null  object\n",
      " 3   Fodd       7117 non-null   object\n",
      " 4   Dod        7602 non-null   object\n",
      " 5   Band       10211 non-null  object\n",
      " 6   Year       10190 non-null  object\n",
      "dtypes: int64(2), object(5)\n",
      "memory usage: 558.5+ KB\n"
     ]
    }
   ],
   "source": [
    "dfSBLcsv.info()"
   ]
  },
  {
   "cell_type": "code",
   "execution_count": 27,
   "metadata": {},
   "outputs": [
    {
     "data": {
      "text/html": [
       "<div>\n",
       "<style scoped>\n",
       "    .dataframe tbody tr th:only-of-type {\n",
       "        vertical-align: middle;\n",
       "    }\n",
       "\n",
       "    .dataframe tbody tr th {\n",
       "        vertical-align: top;\n",
       "    }\n",
       "\n",
       "    .dataframe thead th {\n",
       "        text-align: right;\n",
       "    }\n",
       "</style>\n",
       "<table border=\"1\" class=\"dataframe\">\n",
       "  <thead>\n",
       "    <tr style=\"text-align: right;\">\n",
       "      <th></th>\n",
       "      <th>SBLnr</th>\n",
       "      <th>SBLlength</th>\n",
       "      <th>titel</th>\n",
       "      <th>Fodd</th>\n",
       "      <th>Dod</th>\n",
       "      <th>Band</th>\n",
       "      <th>Year</th>\n",
       "    </tr>\n",
       "  </thead>\n",
       "  <tbody>\n",
       "    <tr>\n",
       "      <th>9813</th>\n",
       "      <td>34619</td>\n",
       "      <td>11294</td>\n",
       "      <td>Stuart, Hans (John)</td>\n",
       "      <td>NaN</td>\n",
       "      <td>NaN</td>\n",
       "      <td>Band , sida .</td>\n",
       "      <td>NaN</td>\n",
       "    </tr>\n",
       "    <tr>\n",
       "      <th>9842</th>\n",
       "      <td>34648</td>\n",
       "      <td>47568</td>\n",
       "      <td>Carl Olof (Olle) Sturén</td>\n",
       "      <td>Född:1919-02-20 – Katarina församling, Stockho...</td>\n",
       "      <td>Död:2003-05-16 – Spanien</td>\n",
       "      <td>Band , sida .</td>\n",
       "      <td>NaN</td>\n",
       "    </tr>\n",
       "    <tr>\n",
       "      <th>9855</th>\n",
       "      <td>34661</td>\n",
       "      <td>11334</td>\n",
       "      <td>Nathorst, Johan Theofil</td>\n",
       "      <td>NaN</td>\n",
       "      <td>NaN</td>\n",
       "      <td>Band , sida .</td>\n",
       "      <td>NaN</td>\n",
       "    </tr>\n",
       "    <tr>\n",
       "      <th>9856</th>\n",
       "      <td>34662</td>\n",
       "      <td>11388</td>\n",
       "      <td>Nathorst, Carl-Bertel Richard</td>\n",
       "      <td>NaN</td>\n",
       "      <td>NaN</td>\n",
       "      <td>Band , sida .</td>\n",
       "      <td>NaN</td>\n",
       "    </tr>\n",
       "    <tr>\n",
       "      <th>9930</th>\n",
       "      <td>34736</td>\n",
       "      <td>11405</td>\n",
       "      <td>Suremain, Charles Jean Baptiste de</td>\n",
       "      <td>NaN</td>\n",
       "      <td>NaN</td>\n",
       "      <td>Band , sida .</td>\n",
       "      <td>NaN</td>\n",
       "    </tr>\n",
       "    <tr>\n",
       "      <th>9931</th>\n",
       "      <td>34737</td>\n",
       "      <td>11248</td>\n",
       "      <td>Talis Qualis,</td>\n",
       "      <td>NaN</td>\n",
       "      <td>NaN</td>\n",
       "      <td>Band , sida .</td>\n",
       "      <td>NaN</td>\n",
       "    </tr>\n",
       "    <tr>\n",
       "      <th>9932</th>\n",
       "      <td>34738</td>\n",
       "      <td>11199</td>\n",
       "      <td>Vitalis,</td>\n",
       "      <td>NaN</td>\n",
       "      <td>NaN</td>\n",
       "      <td>Band , sida .</td>\n",
       "      <td>NaN</td>\n",
       "    </tr>\n",
       "    <tr>\n",
       "      <th>9933</th>\n",
       "      <td>34739</td>\n",
       "      <td>11233</td>\n",
       "      <td>Orvar Odd,</td>\n",
       "      <td>NaN</td>\n",
       "      <td>NaN</td>\n",
       "      <td>Band , sida .</td>\n",
       "      <td>NaN</td>\n",
       "    </tr>\n",
       "    <tr>\n",
       "      <th>9934</th>\n",
       "      <td>34740</td>\n",
       "      <td>11204</td>\n",
       "      <td>Arreskow,</td>\n",
       "      <td>NaN</td>\n",
       "      <td>NaN</td>\n",
       "      <td>Band , sida .</td>\n",
       "      <td>NaN</td>\n",
       "    </tr>\n",
       "    <tr>\n",
       "      <th>10082</th>\n",
       "      <td>34894</td>\n",
       "      <td>11239</td>\n",
       "      <td>Vasa, Gustav</td>\n",
       "      <td>NaN</td>\n",
       "      <td>NaN</td>\n",
       "      <td>Band , sida .</td>\n",
       "      <td>NaN</td>\n",
       "    </tr>\n",
       "    <tr>\n",
       "      <th>10083</th>\n",
       "      <td>34895</td>\n",
       "      <td>11279</td>\n",
       "      <td>Heliga, Birgitta</td>\n",
       "      <td>NaN</td>\n",
       "      <td>NaN</td>\n",
       "      <td>Band , sida .</td>\n",
       "      <td>NaN</td>\n",
       "    </tr>\n",
       "    <tr>\n",
       "      <th>10084</th>\n",
       "      <td>34896</td>\n",
       "      <td>11283</td>\n",
       "      <td>Ladulås, Magnus</td>\n",
       "      <td>NaN</td>\n",
       "      <td>NaN</td>\n",
       "      <td>Band , sida .</td>\n",
       "      <td>NaN</td>\n",
       "    </tr>\n",
       "    <tr>\n",
       "      <th>10085</th>\n",
       "      <td>34897</td>\n",
       "      <td>11239</td>\n",
       "      <td>jarl, Birger</td>\n",
       "      <td>NaN</td>\n",
       "      <td>NaN</td>\n",
       "      <td>Band , sida .</td>\n",
       "      <td>NaN</td>\n",
       "    </tr>\n",
       "    <tr>\n",
       "      <th>10086</th>\n",
       "      <td>34898</td>\n",
       "      <td>11284</td>\n",
       "      <td>Jedvardsson, Erik</td>\n",
       "      <td>NaN</td>\n",
       "      <td>NaN</td>\n",
       "      <td>Band , sida .</td>\n",
       "      <td>NaN</td>\n",
       "    </tr>\n",
       "    <tr>\n",
       "      <th>10087</th>\n",
       "      <td>34899</td>\n",
       "      <td>11244</td>\n",
       "      <td>Vasa, Cecilia</td>\n",
       "      <td>NaN</td>\n",
       "      <td>NaN</td>\n",
       "      <td>Band , sida .</td>\n",
       "      <td>NaN</td>\n",
       "    </tr>\n",
       "    <tr>\n",
       "      <th>10088</th>\n",
       "      <td>34900</td>\n",
       "      <td>11293</td>\n",
       "      <td>Agricola, Kristian</td>\n",
       "      <td>NaN</td>\n",
       "      <td>NaN</td>\n",
       "      <td>Band 1, sida 294.</td>\n",
       "      <td>NaN</td>\n",
       "    </tr>\n",
       "    <tr>\n",
       "      <th>10146</th>\n",
       "      <td>34968</td>\n",
       "      <td>11288</td>\n",
       "      <td>Sverker Karlsson,</td>\n",
       "      <td>NaN</td>\n",
       "      <td>NaN</td>\n",
       "      <td>Band , sida .</td>\n",
       "      <td>NaN</td>\n",
       "    </tr>\n",
       "    <tr>\n",
       "      <th>10147</th>\n",
       "      <td>34969</td>\n",
       "      <td>11238</td>\n",
       "      <td>Sverker II,</td>\n",
       "      <td>NaN</td>\n",
       "      <td>NaN</td>\n",
       "      <td>Band , sida .</td>\n",
       "      <td>NaN</td>\n",
       "    </tr>\n",
       "    <tr>\n",
       "      <th>10148</th>\n",
       "      <td>34970</td>\n",
       "      <td>11254</td>\n",
       "      <td>Svensson, Herta</td>\n",
       "      <td>NaN</td>\n",
       "      <td>NaN</td>\n",
       "      <td>Band , sida .</td>\n",
       "      <td>NaN</td>\n",
       "    </tr>\n",
       "    <tr>\n",
       "      <th>10168</th>\n",
       "      <td>34995</td>\n",
       "      <td>11288</td>\n",
       "      <td>Svinhufvud, Jöns</td>\n",
       "      <td>NaN</td>\n",
       "      <td>NaN</td>\n",
       "      <td>Band , sida .</td>\n",
       "      <td>NaN</td>\n",
       "    </tr>\n",
       "    <tr>\n",
       "      <th>10210</th>\n",
       "      <td>35047</td>\n",
       "      <td>11344</td>\n",
       "      <td>Gyllenhielm, Carl Carlson</td>\n",
       "      <td>NaN</td>\n",
       "      <td>NaN</td>\n",
       "      <td>Band , sida .</td>\n",
       "      <td>NaN</td>\n",
       "    </tr>\n",
       "  </tbody>\n",
       "</table>\n",
       "</div>"
      ],
      "text/plain": [
       "       SBLnr  SBLlength                               titel  \\\n",
       "9813   34619      11294                 Stuart, Hans (John)   \n",
       "9842   34648      47568             Carl Olof (Olle) Sturén   \n",
       "9855   34661      11334             Nathorst, Johan Theofil   \n",
       "9856   34662      11388       Nathorst, Carl-Bertel Richard   \n",
       "9930   34736      11405  Suremain, Charles Jean Baptiste de   \n",
       "9931   34737      11248                      Talis Qualis,    \n",
       "9932   34738      11199                           Vitalis,    \n",
       "9933   34739      11233                         Orvar Odd,    \n",
       "9934   34740      11204                          Arreskow,    \n",
       "10082  34894      11239                        Vasa, Gustav   \n",
       "10083  34895      11279                    Heliga, Birgitta   \n",
       "10084  34896      11283                     Ladulås, Magnus   \n",
       "10085  34897      11239                        jarl, Birger   \n",
       "10086  34898      11284                   Jedvardsson, Erik   \n",
       "10087  34899      11244                       Vasa, Cecilia   \n",
       "10088  34900      11293                  Agricola, Kristian   \n",
       "10146  34968      11288                  Sverker Karlsson,    \n",
       "10147  34969      11238                        Sverker II,    \n",
       "10148  34970      11254                     Svensson, Herta   \n",
       "10168  34995      11288                    Svinhufvud, Jöns   \n",
       "10210  35047      11344           Gyllenhielm, Carl Carlson   \n",
       "\n",
       "                                                    Fodd  \\\n",
       "9813                                                 NaN   \n",
       "9842   Född:1919-02-20 – Katarina församling, Stockho...   \n",
       "9855                                                 NaN   \n",
       "9856                                                 NaN   \n",
       "9930                                                 NaN   \n",
       "9931                                                 NaN   \n",
       "9932                                                 NaN   \n",
       "9933                                                 NaN   \n",
       "9934                                                 NaN   \n",
       "10082                                                NaN   \n",
       "10083                                                NaN   \n",
       "10084                                                NaN   \n",
       "10085                                                NaN   \n",
       "10086                                                NaN   \n",
       "10087                                                NaN   \n",
       "10088                                                NaN   \n",
       "10146                                                NaN   \n",
       "10147                                                NaN   \n",
       "10148                                                NaN   \n",
       "10168                                                NaN   \n",
       "10210                                                NaN   \n",
       "\n",
       "                             Dod               Band Year  \n",
       "9813                         NaN      Band , sida .  NaN  \n",
       "9842   Död:2003-05-16 – Spanien       Band , sida .  NaN  \n",
       "9855                         NaN      Band , sida .  NaN  \n",
       "9856                         NaN      Band , sida .  NaN  \n",
       "9930                         NaN      Band , sida .  NaN  \n",
       "9931                         NaN      Band , sida .  NaN  \n",
       "9932                         NaN      Band , sida .  NaN  \n",
       "9933                         NaN      Band , sida .  NaN  \n",
       "9934                         NaN      Band , sida .  NaN  \n",
       "10082                        NaN      Band , sida .  NaN  \n",
       "10083                        NaN      Band , sida .  NaN  \n",
       "10084                        NaN      Band , sida .  NaN  \n",
       "10085                        NaN      Band , sida .  NaN  \n",
       "10086                        NaN      Band , sida .  NaN  \n",
       "10087                        NaN      Band , sida .  NaN  \n",
       "10088                        NaN  Band 1, sida 294.  NaN  \n",
       "10146                        NaN      Band , sida .  NaN  \n",
       "10147                        NaN      Band , sida .  NaN  \n",
       "10148                        NaN      Band , sida .  NaN  \n",
       "10168                        NaN      Band , sida .  NaN  \n",
       "10210                        NaN      Band , sida .  NaN  "
      ]
     },
     "execution_count": 27,
     "metadata": {},
     "output_type": "execute_result"
    }
   ],
   "source": [
    "plotSBL = dfSBLcsv.copy()\n",
    "# check year eg. empty year in https://sok.riksarkivet.se/sbl/Presentation.aspx?id=34648 --> set 2021\n",
    "#dfSBLcsv[\"Year\"]\n",
    "plotSBL[plotSBL[\"Year\"].isnull()]"
   ]
  },
  {
   "cell_type": "code",
   "execution_count": 28,
   "metadata": {},
   "outputs": [
    {
     "name": "stdout",
     "output_type": "stream",
     "text": [
      "<class 'pandas.core.frame.DataFrame'>\n",
      "RangeIndex: 10211 entries, 0 to 10210\n",
      "Data columns (total 7 columns):\n",
      " #   Column     Non-Null Count  Dtype \n",
      "---  ------     --------------  ----- \n",
      " 0   SBLnr      10211 non-null  int64 \n",
      " 1   SBLlength  10211 non-null  int64 \n",
      " 2   titel      10211 non-null  object\n",
      " 3   Fodd       7117 non-null   object\n",
      " 4   Dod        7602 non-null   object\n",
      " 5   Band       10211 non-null  object\n",
      " 6   Year       10190 non-null  object\n",
      "dtypes: int64(2), object(5)\n",
      "memory usage: 558.5+ KB\n"
     ]
    }
   ],
   "source": [
    "\n",
    "plotSBL.info()"
   ]
  },
  {
   "cell_type": "code",
   "execution_count": 29,
   "metadata": {},
   "outputs": [],
   "source": [
    "\n",
    "#plotSBL.[plotSBL[\"Year\"].isnull()] \n",
    "#df.replace('N/A',np.NaN)\n",
    "#plotSBL['Year'] = plotSBL['Year'].replace({'np.nan': \"2021\"})   \n",
    "\n",
    "plotSBL[\"Year\"].fillna(\"2021\", inplace = True)"
   ]
  },
  {
   "cell_type": "code",
   "execution_count": 30,
   "metadata": {},
   "outputs": [
    {
     "name": "stdout",
     "output_type": "stream",
     "text": [
      "<class 'pandas.core.frame.DataFrame'>\n",
      "RangeIndex: 10211 entries, 0 to 10210\n",
      "Data columns (total 7 columns):\n",
      " #   Column     Non-Null Count  Dtype \n",
      "---  ------     --------------  ----- \n",
      " 0   SBLnr      10211 non-null  int64 \n",
      " 1   SBLlength  10211 non-null  int64 \n",
      " 2   titel      10211 non-null  object\n",
      " 3   Fodd       7117 non-null   object\n",
      " 4   Dod        7602 non-null   object\n",
      " 5   Band       10211 non-null  object\n",
      " 6   Year       10211 non-null  object\n",
      "dtypes: int64(2), object(5)\n",
      "memory usage: 558.5+ KB\n"
     ]
    }
   ],
   "source": [
    "plotSBL.info()"
   ]
  },
  {
   "cell_type": "code",
   "execution_count": 31,
   "metadata": {},
   "outputs": [],
   "source": [
    "import matplotlib.dates as mdates  \n",
    "plotSBL[\"YearPublished\"] = plotSBL[\"Year\"].str[-4:] \n",
    "plotSBL.set_index('Year',inplace=True)  "
   ]
  },
  {
   "cell_type": "code",
   "execution_count": 32,
   "metadata": {},
   "outputs": [],
   "source": [
    "#plotSBL[\"YearPublished\"] = plotSBL[\"YearPublished\"].astype(\"datetime64\")\n",
    "plotSBL[\"YearPublished\"] = pd.to_datetime(plotSBL[\"YearPublished\"], errors = 'coerce')"
   ]
  },
  {
   "cell_type": "code",
   "execution_count": 33,
   "metadata": {},
   "outputs": [
    {
     "name": "stdout",
     "output_type": "stream",
     "text": [
      "<class 'pandas.core.frame.DataFrame'>\n",
      "Index: 10211 entries, 1918 to 2021\n",
      "Data columns (total 7 columns):\n",
      " #   Column         Non-Null Count  Dtype         \n",
      "---  ------         --------------  -----         \n",
      " 0   SBLnr          10211 non-null  int64         \n",
      " 1   SBLlength      10211 non-null  int64         \n",
      " 2   titel          10211 non-null  object        \n",
      " 3   Fodd           7117 non-null   object        \n",
      " 4   Dod            7602 non-null   object        \n",
      " 5   Band           10211 non-null  object        \n",
      " 6   YearPublished  10149 non-null  datetime64[ns]\n",
      "dtypes: datetime64[ns](1), int64(2), object(4)\n",
      "memory usage: 638.2+ KB\n"
     ]
    }
   ],
   "source": [
    "plotSBL.info()"
   ]
  },
  {
   "cell_type": "code",
   "execution_count": 34,
   "metadata": {},
   "outputs": [
    {
     "data": {
      "text/html": [
       "<div>\n",
       "<style scoped>\n",
       "    .dataframe tbody tr th:only-of-type {\n",
       "        vertical-align: middle;\n",
       "    }\n",
       "\n",
       "    .dataframe tbody tr th {\n",
       "        vertical-align: top;\n",
       "    }\n",
       "\n",
       "    .dataframe thead th {\n",
       "        text-align: right;\n",
       "    }\n",
       "</style>\n",
       "<table border=\"1\" class=\"dataframe\">\n",
       "  <thead>\n",
       "    <tr style=\"text-align: right;\">\n",
       "      <th></th>\n",
       "      <th>SBLnr</th>\n",
       "      <th>SBLlength</th>\n",
       "      <th>titel</th>\n",
       "      <th>Fodd</th>\n",
       "      <th>Dod</th>\n",
       "      <th>Band</th>\n",
       "      <th>YearPublished</th>\n",
       "    </tr>\n",
       "    <tr>\n",
       "      <th>Year</th>\n",
       "      <th></th>\n",
       "      <th></th>\n",
       "      <th></th>\n",
       "      <th></th>\n",
       "      <th></th>\n",
       "      <th></th>\n",
       "      <th></th>\n",
       "    </tr>\n",
       "  </thead>\n",
       "  <tbody>\n",
       "    <tr>\n",
       "      <th>1918</th>\n",
       "      <td>5490</td>\n",
       "      <td>12229</td>\n",
       "      <td>Abelin, släkt</td>\n",
       "      <td>NaN</td>\n",
       "      <td>NaN</td>\n",
       "      <td>Band 01 (1918), sida 1.</td>\n",
       "      <td>1918-01-01</td>\n",
       "    </tr>\n",
       "    <tr>\n",
       "      <th>1918</th>\n",
       "      <td>5491</td>\n",
       "      <td>33408</td>\n",
       "      <td>Gustaf R Abelin</td>\n",
       "      <td>Född:1819-05-17 – Linköpings Domkyrkoförsamlin...</td>\n",
       "      <td>Död:1903-09-19 – Kvillinge församling, Östergö...</td>\n",
       "      <td>Band 01 (1918), sida 5.</td>\n",
       "      <td>1918-01-01</td>\n",
       "    </tr>\n",
       "    <tr>\n",
       "      <th>1918</th>\n",
       "      <td>5492</td>\n",
       "      <td>41845</td>\n",
       "      <td>Hjalmar A Abelin</td>\n",
       "      <td>Född:1817-05-22 – Linköpings Domkyrkoförsamlin...</td>\n",
       "      <td>Död:1893-09-13 – Stockholms stad, Stockholms län</td>\n",
       "      <td>Band 01 (1918), sida 1.</td>\n",
       "      <td>1918-01-01</td>\n",
       "    </tr>\n",
       "    <tr>\n",
       "      <th>1918</th>\n",
       "      <td>5493</td>\n",
       "      <td>21919</td>\n",
       "      <td>C Rudolf Z Abelin</td>\n",
       "      <td>Född:1864-05-30 – Malmö stad, Skåne län</td>\n",
       "      <td>Död:1961 – Västra Karups församling, Kristians...</td>\n",
       "      <td>Band 01 (1918), sida 9.</td>\n",
       "      <td>1918-01-01</td>\n",
       "    </tr>\n",
       "    <tr>\n",
       "      <th>1918</th>\n",
       "      <td>5494</td>\n",
       "      <td>27209</td>\n",
       "      <td>P Wilhelm Abenius</td>\n",
       "      <td>Född:1864-05-21 – Orsa församling, Dalarnas län</td>\n",
       "      <td>Död:1956 – Ramsbergs församling, Örebro län</td>\n",
       "      <td>Band 01 (1918), sida 11.</td>\n",
       "      <td>1918-01-01</td>\n",
       "    </tr>\n",
       "  </tbody>\n",
       "</table>\n",
       "</div>"
      ],
      "text/plain": [
       "      SBLnr  SBLlength              titel  \\\n",
       "Year                                        \n",
       "1918   5490      12229      Abelin, släkt   \n",
       "1918   5491      33408    Gustaf R Abelin   \n",
       "1918   5492      41845   Hjalmar A Abelin   \n",
       "1918   5493      21919  C Rudolf Z Abelin   \n",
       "1918   5494      27209  P Wilhelm Abenius   \n",
       "\n",
       "                                                   Fodd  \\\n",
       "Year                                                      \n",
       "1918                                                NaN   \n",
       "1918  Född:1819-05-17 – Linköpings Domkyrkoförsamlin...   \n",
       "1918  Född:1817-05-22 – Linköpings Domkyrkoförsamlin...   \n",
       "1918            Född:1864-05-30 – Malmö stad, Skåne län   \n",
       "1918    Född:1864-05-21 – Orsa församling, Dalarnas län   \n",
       "\n",
       "                                                    Dod  \\\n",
       "Year                                                      \n",
       "1918                                                NaN   \n",
       "1918  Död:1903-09-19 – Kvillinge församling, Östergö...   \n",
       "1918   Död:1893-09-13 – Stockholms stad, Stockholms län   \n",
       "1918  Död:1961 – Västra Karups församling, Kristians...   \n",
       "1918        Död:1956 – Ramsbergs församling, Örebro län   \n",
       "\n",
       "                          Band YearPublished  \n",
       "Year                                          \n",
       "1918   Band 01 (1918), sida 1.    1918-01-01  \n",
       "1918   Band 01 (1918), sida 5.    1918-01-01  \n",
       "1918   Band 01 (1918), sida 1.    1918-01-01  \n",
       "1918   Band 01 (1918), sida 9.    1918-01-01  \n",
       "1918  Band 01 (1918), sida 11.    1918-01-01  "
      ]
     },
     "execution_count": 34,
     "metadata": {},
     "output_type": "execute_result"
    }
   ],
   "source": [
    "plotSBL.head()"
   ]
  },
  {
   "cell_type": "code",
   "execution_count": 35,
   "metadata": {},
   "outputs": [],
   "source": [
    "plotSBL[\"url\"] = \"https://sok.riksarkivet.se/sbl/Presentation.aspx?id=\" + str(dfSBLcsv[\"SBLnr\"])"
   ]
  },
  {
   "cell_type": "code",
   "execution_count": 36,
   "metadata": {},
   "outputs": [],
   "source": [
    "#dfFamily = dfSBLAuthorcsv.dropna()  \n",
    "dfPerson = plotSBL.dropna(subset = ['Fodd', 'Dod'])"
   ]
  },
  {
   "cell_type": "code",
   "execution_count": 37,
   "metadata": {},
   "outputs": [
    {
     "name": "stdout",
     "output_type": "stream",
     "text": [
      "<class 'pandas.core.frame.DataFrame'>\n",
      "Index: 7110 entries, 1918 to 2020-\n",
      "Data columns (total 8 columns):\n",
      " #   Column         Non-Null Count  Dtype         \n",
      "---  ------         --------------  -----         \n",
      " 0   SBLnr          7110 non-null   int64         \n",
      " 1   SBLlength      7110 non-null   int64         \n",
      " 2   titel          7110 non-null   object        \n",
      " 3   Fodd           7110 non-null   object        \n",
      " 4   Dod            7110 non-null   object        \n",
      " 5   Band           7110 non-null   object        \n",
      " 6   YearPublished  7075 non-null   datetime64[ns]\n",
      " 7   url            7110 non-null   object        \n",
      "dtypes: datetime64[ns](1), int64(2), object(5)\n",
      "memory usage: 499.9+ KB\n"
     ]
    }
   ],
   "source": [
    "dfPerson.info()"
   ]
  },
  {
   "cell_type": "markdown",
   "metadata": {},
   "source": [
    "### Join Wikidata\n",
    "as Wikidata we guess knows what articles are about a man and a women we can try merge "
   ]
  },
  {
   "cell_type": "code",
   "execution_count": 38,
   "metadata": {},
   "outputs": [
    {
     "name": "stdout",
     "output_type": "stream",
     "text": [
      "<class 'pandas.core.frame.DataFrame'>\n",
      "Index: 10211 entries, 1918 to 2021\n",
      "Data columns (total 8 columns):\n",
      " #   Column         Non-Null Count  Dtype         \n",
      "---  ------         --------------  -----         \n",
      " 0   SBLnr          10211 non-null  int64         \n",
      " 1   SBLlength      10211 non-null  int64         \n",
      " 2   titel          10211 non-null  object        \n",
      " 3   Fodd           7117 non-null   object        \n",
      " 4   Dod            7602 non-null   object        \n",
      " 5   Band           10211 non-null  object        \n",
      " 6   YearPublished  10149 non-null  datetime64[ns]\n",
      " 7   url            10211 non-null  object        \n",
      "dtypes: datetime64[ns](1), int64(2), object(5)\n",
      "memory usage: 718.0+ KB\n"
     ]
    }
   ],
   "source": [
    "plotSBL['SBLnr']= plotSBL['SBLnr'].astype(str).astype(int)\n",
    "plotSBL.info()"
   ]
  },
  {
   "cell_type": "code",
   "execution_count": 39,
   "metadata": {},
   "outputs": [
    {
     "name": "stdout",
     "output_type": "stream",
     "text": [
      "<class 'pandas.core.frame.DataFrame'>\n",
      "Index: 10211 entries, 1918 to 2021\n",
      "Data columns (total 8 columns):\n",
      " #   Column         Non-Null Count  Dtype         \n",
      "---  ------         --------------  -----         \n",
      " 0   SBLnr          10211 non-null  int64         \n",
      " 1   SBLlength      10211 non-null  int64         \n",
      " 2   titel          10211 non-null  object        \n",
      " 3   Fodd           7117 non-null   object        \n",
      " 4   Dod            7602 non-null   object        \n",
      " 5   Band           10211 non-null  object        \n",
      " 6   YearPublished  10149 non-null  datetime64[ns]\n",
      " 7   url            10211 non-null  object        \n",
      "dtypes: datetime64[ns](1), int64(2), object(5)\n",
      "memory usage: 718.0+ KB\n"
     ]
    }
   ],
   "source": [
    "plotSBL.info()"
   ]
  },
  {
   "cell_type": "code",
   "execution_count": 40,
   "metadata": {},
   "outputs": [
    {
     "name": "stdout",
     "output_type": "stream",
     "text": [
      "<class 'pandas.core.frame.DataFrame'>\n",
      "RangeIndex: 7628 entries, 0 to 7627\n",
      "Data columns (total 4 columns):\n",
      " #   Column       Non-Null Count  Dtype \n",
      "---  ------       --------------  ----- \n",
      " 0   wid          7628 non-null   object\n",
      " 1   sblid        7628 non-null   int64 \n",
      " 2   gender       7628 non-null   object\n",
      " 3   genderLabel  7628 non-null   object\n",
      "dtypes: int64(1), object(3)\n",
      "memory usage: 238.5+ KB\n"
     ]
    }
   ],
   "source": [
    "WDSBLtot['sblid']= WDSBLtot['sblid'].astype(str).astype(int)\n",
    "WDSBLtot.info()"
   ]
  },
  {
   "cell_type": "code",
   "execution_count": 41,
   "metadata": {},
   "outputs": [
    {
     "data": {
      "text/html": [
       "<div>\n",
       "<style scoped>\n",
       "    .dataframe tbody tr th:only-of-type {\n",
       "        vertical-align: middle;\n",
       "    }\n",
       "\n",
       "    .dataframe tbody tr th {\n",
       "        vertical-align: top;\n",
       "    }\n",
       "\n",
       "    .dataframe thead th {\n",
       "        text-align: right;\n",
       "    }\n",
       "</style>\n",
       "<table border=\"1\" class=\"dataframe\">\n",
       "  <thead>\n",
       "    <tr style=\"text-align: right;\">\n",
       "      <th></th>\n",
       "      <th>wid</th>\n",
       "      <th>sblid</th>\n",
       "      <th>gender</th>\n",
       "      <th>genderLabel</th>\n",
       "    </tr>\n",
       "  </thead>\n",
       "  <tbody>\n",
       "    <tr>\n",
       "      <th>0</th>\n",
       "      <td>Q44519</td>\n",
       "      <td>10922</td>\n",
       "      <td>http://www.wikidata.org/entity/Q6581072</td>\n",
       "      <td>kvinna</td>\n",
       "    </tr>\n",
       "    <tr>\n",
       "      <th>1</th>\n",
       "      <td>Q132695</td>\n",
       "      <td>9140</td>\n",
       "      <td>http://www.wikidata.org/entity/Q6581097</td>\n",
       "      <td>man</td>\n",
       "    </tr>\n",
       "    <tr>\n",
       "      <th>2</th>\n",
       "      <td>Q192651</td>\n",
       "      <td>13293</td>\n",
       "      <td>http://www.wikidata.org/entity/Q6581097</td>\n",
       "      <td>man</td>\n",
       "    </tr>\n",
       "    <tr>\n",
       "      <th>3</th>\n",
       "      <td>Q243068</td>\n",
       "      <td>11121</td>\n",
       "      <td>http://www.wikidata.org/entity/Q6581072</td>\n",
       "      <td>kvinna</td>\n",
       "    </tr>\n",
       "    <tr>\n",
       "      <th>4</th>\n",
       "      <td>Q275893</td>\n",
       "      <td>9141</td>\n",
       "      <td>http://www.wikidata.org/entity/Q6581072</td>\n",
       "      <td>kvinna</td>\n",
       "    </tr>\n",
       "  </tbody>\n",
       "</table>\n",
       "</div>"
      ],
      "text/plain": [
       "       wid  sblid                                   gender genderLabel\n",
       "0   Q44519  10922  http://www.wikidata.org/entity/Q6581072      kvinna\n",
       "1  Q132695   9140  http://www.wikidata.org/entity/Q6581097         man\n",
       "2  Q192651  13293  http://www.wikidata.org/entity/Q6581097         man\n",
       "3  Q243068  11121  http://www.wikidata.org/entity/Q6581072      kvinna\n",
       "4  Q275893   9141  http://www.wikidata.org/entity/Q6581072      kvinna"
      ]
     },
     "execution_count": 41,
     "metadata": {},
     "output_type": "execute_result"
    }
   ],
   "source": [
    "WDSBLtot.head()"
   ]
  },
  {
   "cell_type": "code",
   "execution_count": 42,
   "metadata": {},
   "outputs": [
    {
     "data": {
      "text/plain": [
       "man         7093\n",
       "kvinna       534\n",
       "transman       1\n",
       "Name: genderLabel, dtype: int64"
      ]
     },
     "execution_count": 42,
     "metadata": {},
     "output_type": "execute_result"
    }
   ],
   "source": [
    "WDSBLtot[\"genderLabel\"].value_counts()  "
   ]
  },
  {
   "cell_type": "code",
   "execution_count": 43,
   "metadata": {},
   "outputs": [
    {
     "data": {
      "text/plain": [
       "both           7628\n",
       "scrape_only    2584\n",
       "Name: WD_Webscrape, dtype: int64"
      ]
     },
     "execution_count": 43,
     "metadata": {},
     "output_type": "execute_result"
    }
   ],
   "source": [
    "#WDSBLtot plotSBLYearPublished  \n",
    "mergeWDSBLwebscrape = pd.merge(WDSBLtot, plotSBL,how='outer',left_on='sblid', right_on='SBLnr',indicator=True)   \n",
    "mergeWDSBLwebscrape.rename(columns={\"_merge\": \"WD_Webscrape\"},inplace = True)\n",
    "mergeWDSBLwebscrape['WD_Webscrape'] = mergeWDSBLwebscrape['WD_Webscrape'].str.replace('left_only','WD_only').str.replace('right_only','scrape_only')\n",
    "mergeWDSBLwebscrape[\"WD_Webscrape\"].value_counts()  \n"
   ]
  },
  {
   "cell_type": "code",
   "execution_count": 44,
   "metadata": {},
   "outputs": [
    {
     "data": {
      "text/html": [
       "<div>\n",
       "<style scoped>\n",
       "    .dataframe tbody tr th:only-of-type {\n",
       "        vertical-align: middle;\n",
       "    }\n",
       "\n",
       "    .dataframe tbody tr th {\n",
       "        vertical-align: top;\n",
       "    }\n",
       "\n",
       "    .dataframe thead th {\n",
       "        text-align: right;\n",
       "    }\n",
       "</style>\n",
       "<table border=\"1\" class=\"dataframe\">\n",
       "  <thead>\n",
       "    <tr style=\"text-align: right;\">\n",
       "      <th></th>\n",
       "      <th>wid</th>\n",
       "      <th>sblid</th>\n",
       "      <th>gender</th>\n",
       "      <th>genderLabel</th>\n",
       "      <th>SBLnr</th>\n",
       "      <th>SBLlength</th>\n",
       "      <th>titel</th>\n",
       "      <th>Fodd</th>\n",
       "      <th>Dod</th>\n",
       "      <th>Band</th>\n",
       "      <th>YearPublished</th>\n",
       "      <th>url</th>\n",
       "      <th>WD_Webscrape</th>\n",
       "    </tr>\n",
       "  </thead>\n",
       "  <tbody>\n",
       "    <tr>\n",
       "      <th>0</th>\n",
       "      <td>Q44519</td>\n",
       "      <td>10922.0</td>\n",
       "      <td>http://www.wikidata.org/entity/Q6581072</td>\n",
       "      <td>kvinna</td>\n",
       "      <td>10922</td>\n",
       "      <td>104002</td>\n",
       "      <td>Selma O L Lagerlöf</td>\n",
       "      <td>Född:1858-11-20 – Östra Ämterviks församling, ...</td>\n",
       "      <td>Död:1940-03-16 – Östra Ämterviks församling, V...</td>\n",
       "      <td>Band 22 (1977-1979), sida 154.</td>\n",
       "      <td>1979-01-01</td>\n",
       "      <td>https://sok.riksarkivet.se/sbl/Presentation.as...</td>\n",
       "      <td>both</td>\n",
       "    </tr>\n",
       "    <tr>\n",
       "      <th>3</th>\n",
       "      <td>Q243068</td>\n",
       "      <td>11121.0</td>\n",
       "      <td>http://www.wikidata.org/entity/Q6581072</td>\n",
       "      <td>kvinna</td>\n",
       "      <td>11121</td>\n",
       "      <td>75717</td>\n",
       "      <td>Anne Charlotte G Leffler</td>\n",
       "      <td>Född:1849-10-01 – Klara församling, Stockholms...</td>\n",
       "      <td>Död:1892-10-21 – Italien (i Neapel)</td>\n",
       "      <td>Band 22 (1977-1979), sida 434.</td>\n",
       "      <td>1979-01-01</td>\n",
       "      <td>https://sok.riksarkivet.se/sbl/Presentation.as...</td>\n",
       "      <td>both</td>\n",
       "    </tr>\n",
       "    <tr>\n",
       "      <th>4</th>\n",
       "      <td>Q275893</td>\n",
       "      <td>9141.0</td>\n",
       "      <td>http://www.wikidata.org/entity/Q6581072</td>\n",
       "      <td>kvinna</td>\n",
       "      <td>9141</td>\n",
       "      <td>69066</td>\n",
       "      <td>H Maria (Moa) Martinson</td>\n",
       "      <td>Född:1890-11-02 – Vårdnäs församling, Östergöt...</td>\n",
       "      <td>Död:1964-08-05 – Södertälje församling (Sorund...</td>\n",
       "      <td>Band 25 (1985-1987), sida 220.</td>\n",
       "      <td>1987-01-01</td>\n",
       "      <td>https://sok.riksarkivet.se/sbl/Presentation.as...</td>\n",
       "      <td>both</td>\n",
       "    </tr>\n",
       "    <tr>\n",
       "      <th>9</th>\n",
       "      <td>Q1679990</td>\n",
       "      <td>11113.0</td>\n",
       "      <td>http://www.wikidata.org/entity/Q6581072</td>\n",
       "      <td>kvinna</td>\n",
       "      <td>11113</td>\n",
       "      <td>43402</td>\n",
       "      <td>E Maria (Mia) L Leche Löfgren</td>\n",
       "      <td>Född:1878-10-10 – Lunds domkyrkoförsamling, Sk...</td>\n",
       "      <td>Död:1966-04-08 – Engelbrekts församling, Stock...</td>\n",
       "      <td>Band 22 (1977-1979), sida 416.</td>\n",
       "      <td>1979-01-01</td>\n",
       "      <td>https://sok.riksarkivet.se/sbl/Presentation.as...</td>\n",
       "      <td>both</td>\n",
       "    </tr>\n",
       "    <tr>\n",
       "      <th>25</th>\n",
       "      <td>Q4898802</td>\n",
       "      <td>5689.0</td>\n",
       "      <td>http://www.wikidata.org/entity/Q6581072</td>\n",
       "      <td>kvinna</td>\n",
       "      <td>5689</td>\n",
       "      <td>18658</td>\n",
       "      <td>H C E (Betty) Almlöf (f. Deland)</td>\n",
       "      <td>Född:1831-11-14 – Örebro Nikolai församling, Ö...</td>\n",
       "      <td>Död:1882-04-01 – Stockholms stad, Stockholms län</td>\n",
       "      <td>Band 01 (1918), sida 453.</td>\n",
       "      <td>1918-01-01</td>\n",
       "      <td>https://sok.riksarkivet.se/sbl/Presentation.as...</td>\n",
       "      <td>both</td>\n",
       "    </tr>\n",
       "  </tbody>\n",
       "</table>\n",
       "</div>"
      ],
      "text/plain": [
       "         wid    sblid                                   gender genderLabel  \\\n",
       "0     Q44519  10922.0  http://www.wikidata.org/entity/Q6581072      kvinna   \n",
       "3    Q243068  11121.0  http://www.wikidata.org/entity/Q6581072      kvinna   \n",
       "4    Q275893   9141.0  http://www.wikidata.org/entity/Q6581072      kvinna   \n",
       "9   Q1679990  11113.0  http://www.wikidata.org/entity/Q6581072      kvinna   \n",
       "25  Q4898802   5689.0  http://www.wikidata.org/entity/Q6581072      kvinna   \n",
       "\n",
       "    SBLnr  SBLlength                             titel  \\\n",
       "0   10922     104002                Selma O L Lagerlöf   \n",
       "3   11121      75717          Anne Charlotte G Leffler   \n",
       "4    9141      69066           H Maria (Moa) Martinson   \n",
       "9   11113      43402     E Maria (Mia) L Leche Löfgren   \n",
       "25   5689      18658  H C E (Betty) Almlöf (f. Deland)   \n",
       "\n",
       "                                                 Fodd  \\\n",
       "0   Född:1858-11-20 – Östra Ämterviks församling, ...   \n",
       "3   Född:1849-10-01 – Klara församling, Stockholms...   \n",
       "4   Född:1890-11-02 – Vårdnäs församling, Östergöt...   \n",
       "9   Född:1878-10-10 – Lunds domkyrkoförsamling, Sk...   \n",
       "25  Född:1831-11-14 – Örebro Nikolai församling, Ö...   \n",
       "\n",
       "                                                  Dod  \\\n",
       "0   Död:1940-03-16 – Östra Ämterviks församling, V...   \n",
       "3                 Död:1892-10-21 – Italien (i Neapel)   \n",
       "4   Död:1964-08-05 – Södertälje församling (Sorund...   \n",
       "9   Död:1966-04-08 – Engelbrekts församling, Stock...   \n",
       "25   Död:1882-04-01 – Stockholms stad, Stockholms län   \n",
       "\n",
       "                              Band YearPublished  \\\n",
       "0   Band 22 (1977-1979), sida 154.    1979-01-01   \n",
       "3   Band 22 (1977-1979), sida 434.    1979-01-01   \n",
       "4   Band 25 (1985-1987), sida 220.    1987-01-01   \n",
       "9   Band 22 (1977-1979), sida 416.    1979-01-01   \n",
       "25       Band 01 (1918), sida 453.    1918-01-01   \n",
       "\n",
       "                                                  url WD_Webscrape  \n",
       "0   https://sok.riksarkivet.se/sbl/Presentation.as...         both  \n",
       "3   https://sok.riksarkivet.se/sbl/Presentation.as...         both  \n",
       "4   https://sok.riksarkivet.se/sbl/Presentation.as...         both  \n",
       "9   https://sok.riksarkivet.se/sbl/Presentation.as...         both  \n",
       "25  https://sok.riksarkivet.se/sbl/Presentation.as...         both  "
      ]
     },
     "execution_count": 44,
     "metadata": {},
     "output_type": "execute_result"
    }
   ],
   "source": [
    "dfWD_SBL_article = mergeWDSBLwebscrape[mergeWDSBLwebscrape.WD_Webscrape.str.contains(\"both\")]\n",
    "#dfWDSKBLarticle.YearPublished.dt.strftime(\"%Y\") \n",
    "#dfWDSKBLarticle.info()  \n",
    "dfWD_SBL_female_article = dfWD_SBL_article[dfWD_SBL_article.genderLabel.str.contains(\"kvinna\")]\n",
    "dfWD_SBL_female_article.head()  \n",
    "# Year genderLabel count"
   ]
  },
  {
   "cell_type": "code",
   "execution_count": 45,
   "metadata": {},
   "outputs": [],
   "source": [
    "# set date as index\n",
    "#fig = plt.subplots(figsize=(15,7))\n",
    "\n",
    "#plotSBLYearFemailPublished = dfWD_SBL_female_article[\"YearPublished\"].dt.strftime(\"%Y\").value_counts().sort_index().plot(kind='bar', color=['red'])\n",
    "\n",
    "#plt.title(\"SBL articles published per Year about women 1918-2019\")\n",
    "#plt.savefig('SBL_published_articles_women_1918-2018.png')  \n",
    "#plt.show()  \n",
    "#plotSBLYearPublished.info \n"
   ]
  },
  {
   "cell_type": "code",
   "execution_count": 46,
   "metadata": {},
   "outputs": [],
   "source": [
    "#dfWD_SBL_female_article[\"YearPublished\"].dt.strftime(\"%Y\").value_counts().sort_index(ascending=False)"
   ]
  },
  {
   "cell_type": "code",
   "execution_count": 47,
   "metadata": {},
   "outputs": [
    {
     "data": {
      "text/html": [
       "<div>\n",
       "<style scoped>\n",
       "    .dataframe tbody tr th:only-of-type {\n",
       "        vertical-align: middle;\n",
       "    }\n",
       "\n",
       "    .dataframe tbody tr th {\n",
       "        vertical-align: top;\n",
       "    }\n",
       "\n",
       "    .dataframe thead th {\n",
       "        text-align: right;\n",
       "    }\n",
       "</style>\n",
       "<table border=\"1\" class=\"dataframe\">\n",
       "  <thead>\n",
       "    <tr style=\"text-align: right;\">\n",
       "      <th></th>\n",
       "      <th>wid</th>\n",
       "      <th>sblid</th>\n",
       "      <th>gender</th>\n",
       "      <th>genderLabel</th>\n",
       "      <th>SBLnr</th>\n",
       "      <th>SBLlength</th>\n",
       "      <th>titel</th>\n",
       "      <th>Fodd</th>\n",
       "      <th>Dod</th>\n",
       "      <th>Band</th>\n",
       "      <th>YearPublished</th>\n",
       "      <th>url</th>\n",
       "      <th>WD_Webscrape</th>\n",
       "    </tr>\n",
       "  </thead>\n",
       "  <tbody>\n",
       "    <tr>\n",
       "      <th>0</th>\n",
       "      <td>Q44519</td>\n",
       "      <td>10922.0</td>\n",
       "      <td>http://www.wikidata.org/entity/Q6581072</td>\n",
       "      <td>kvinna</td>\n",
       "      <td>10922</td>\n",
       "      <td>104002</td>\n",
       "      <td>Selma O L Lagerlöf</td>\n",
       "      <td>Född:1858-11-20 – Östra Ämterviks församling, ...</td>\n",
       "      <td>Död:1940-03-16 – Östra Ämterviks församling, V...</td>\n",
       "      <td>Band 22 (1977-1979), sida 154.</td>\n",
       "      <td>1979-01-01</td>\n",
       "      <td>https://sok.riksarkivet.se/sbl/Presentation.as...</td>\n",
       "      <td>both</td>\n",
       "    </tr>\n",
       "    <tr>\n",
       "      <th>3</th>\n",
       "      <td>Q243068</td>\n",
       "      <td>11121.0</td>\n",
       "      <td>http://www.wikidata.org/entity/Q6581072</td>\n",
       "      <td>kvinna</td>\n",
       "      <td>11121</td>\n",
       "      <td>75717</td>\n",
       "      <td>Anne Charlotte G Leffler</td>\n",
       "      <td>Född:1849-10-01 – Klara församling, Stockholms...</td>\n",
       "      <td>Död:1892-10-21 – Italien (i Neapel)</td>\n",
       "      <td>Band 22 (1977-1979), sida 434.</td>\n",
       "      <td>1979-01-01</td>\n",
       "      <td>https://sok.riksarkivet.se/sbl/Presentation.as...</td>\n",
       "      <td>both</td>\n",
       "    </tr>\n",
       "    <tr>\n",
       "      <th>4</th>\n",
       "      <td>Q275893</td>\n",
       "      <td>9141.0</td>\n",
       "      <td>http://www.wikidata.org/entity/Q6581072</td>\n",
       "      <td>kvinna</td>\n",
       "      <td>9141</td>\n",
       "      <td>69066</td>\n",
       "      <td>H Maria (Moa) Martinson</td>\n",
       "      <td>Född:1890-11-02 – Vårdnäs församling, Östergöt...</td>\n",
       "      <td>Död:1964-08-05 – Södertälje församling (Sorund...</td>\n",
       "      <td>Band 25 (1985-1987), sida 220.</td>\n",
       "      <td>1987-01-01</td>\n",
       "      <td>https://sok.riksarkivet.se/sbl/Presentation.as...</td>\n",
       "      <td>both</td>\n",
       "    </tr>\n",
       "    <tr>\n",
       "      <th>9</th>\n",
       "      <td>Q1679990</td>\n",
       "      <td>11113.0</td>\n",
       "      <td>http://www.wikidata.org/entity/Q6581072</td>\n",
       "      <td>kvinna</td>\n",
       "      <td>11113</td>\n",
       "      <td>43402</td>\n",
       "      <td>E Maria (Mia) L Leche Löfgren</td>\n",
       "      <td>Född:1878-10-10 – Lunds domkyrkoförsamling, Sk...</td>\n",
       "      <td>Död:1966-04-08 – Engelbrekts församling, Stock...</td>\n",
       "      <td>Band 22 (1977-1979), sida 416.</td>\n",
       "      <td>1979-01-01</td>\n",
       "      <td>https://sok.riksarkivet.se/sbl/Presentation.as...</td>\n",
       "      <td>both</td>\n",
       "    </tr>\n",
       "    <tr>\n",
       "      <th>25</th>\n",
       "      <td>Q4898802</td>\n",
       "      <td>5689.0</td>\n",
       "      <td>http://www.wikidata.org/entity/Q6581072</td>\n",
       "      <td>kvinna</td>\n",
       "      <td>5689</td>\n",
       "      <td>18658</td>\n",
       "      <td>H C E (Betty) Almlöf (f. Deland)</td>\n",
       "      <td>Född:1831-11-14 – Örebro Nikolai församling, Ö...</td>\n",
       "      <td>Död:1882-04-01 – Stockholms stad, Stockholms län</td>\n",
       "      <td>Band 01 (1918), sida 453.</td>\n",
       "      <td>1918-01-01</td>\n",
       "      <td>https://sok.riksarkivet.se/sbl/Presentation.as...</td>\n",
       "      <td>both</td>\n",
       "    </tr>\n",
       "  </tbody>\n",
       "</table>\n",
       "</div>"
      ],
      "text/plain": [
       "         wid    sblid                                   gender genderLabel  \\\n",
       "0     Q44519  10922.0  http://www.wikidata.org/entity/Q6581072      kvinna   \n",
       "3    Q243068  11121.0  http://www.wikidata.org/entity/Q6581072      kvinna   \n",
       "4    Q275893   9141.0  http://www.wikidata.org/entity/Q6581072      kvinna   \n",
       "9   Q1679990  11113.0  http://www.wikidata.org/entity/Q6581072      kvinna   \n",
       "25  Q4898802   5689.0  http://www.wikidata.org/entity/Q6581072      kvinna   \n",
       "\n",
       "    SBLnr  SBLlength                             titel  \\\n",
       "0   10922     104002                Selma O L Lagerlöf   \n",
       "3   11121      75717          Anne Charlotte G Leffler   \n",
       "4    9141      69066           H Maria (Moa) Martinson   \n",
       "9   11113      43402     E Maria (Mia) L Leche Löfgren   \n",
       "25   5689      18658  H C E (Betty) Almlöf (f. Deland)   \n",
       "\n",
       "                                                 Fodd  \\\n",
       "0   Född:1858-11-20 – Östra Ämterviks församling, ...   \n",
       "3   Född:1849-10-01 – Klara församling, Stockholms...   \n",
       "4   Född:1890-11-02 – Vårdnäs församling, Östergöt...   \n",
       "9   Född:1878-10-10 – Lunds domkyrkoförsamling, Sk...   \n",
       "25  Född:1831-11-14 – Örebro Nikolai församling, Ö...   \n",
       "\n",
       "                                                  Dod  \\\n",
       "0   Död:1940-03-16 – Östra Ämterviks församling, V...   \n",
       "3                 Död:1892-10-21 – Italien (i Neapel)   \n",
       "4   Död:1964-08-05 – Södertälje församling (Sorund...   \n",
       "9   Död:1966-04-08 – Engelbrekts församling, Stock...   \n",
       "25   Död:1882-04-01 – Stockholms stad, Stockholms län   \n",
       "\n",
       "                              Band YearPublished  \\\n",
       "0   Band 22 (1977-1979), sida 154.    1979-01-01   \n",
       "3   Band 22 (1977-1979), sida 434.    1979-01-01   \n",
       "4   Band 25 (1985-1987), sida 220.    1987-01-01   \n",
       "9   Band 22 (1977-1979), sida 416.    1979-01-01   \n",
       "25       Band 01 (1918), sida 453.    1918-01-01   \n",
       "\n",
       "                                                  url WD_Webscrape  \n",
       "0   https://sok.riksarkivet.se/sbl/Presentation.as...         both  \n",
       "3   https://sok.riksarkivet.se/sbl/Presentation.as...         both  \n",
       "4   https://sok.riksarkivet.se/sbl/Presentation.as...         both  \n",
       "9   https://sok.riksarkivet.se/sbl/Presentation.as...         both  \n",
       "25  https://sok.riksarkivet.se/sbl/Presentation.as...         both  "
      ]
     },
     "execution_count": 47,
     "metadata": {},
     "output_type": "execute_result"
    }
   ],
   "source": [
    "dfWD_SBL_female_article.head()"
   ]
  },
  {
   "cell_type": "code",
   "execution_count": 48,
   "metadata": {},
   "outputs": [
    {
     "data": {
      "image/png": "[encoded data removed]",
      "text/plain": [
       "<Figure size 1080x504 with 1 Axes>"
      ]
     },
     "metadata": {
      "needs_background": "light"
     },
     "output_type": "display_data"
    }
   ],
   "source": [
    "fig = plt.subplots(figsize=(15,7))\n",
    "\n",
    "plotSBLYearFemailPublished = dfWD_SBL_female_article[\"YearPublished\"].dt.strftime(\"%Y\").value_counts().sort_index().plot(kind='bar', color=['red'])\n",
    "#plotSBLYearPublished = plotSBL[\"YearPublished\"].dt.strftime(\"%Y\").value_counts().sort_index()\n",
    "#plotSBLYearPublished.plot( kind = 'bar', color=['g']) \n",
    "plt.title(\"SBL articles published per Year all and women 1918-2019\")\n",
    "plt.savefig('SBL_published_articles_all_women_1918-2018.png')  \n",
    "plt.show()  "
   ]
  },
  {
   "cell_type": "code",
   "execution_count": 49,
   "metadata": {},
   "outputs": [
    {
     "name": "stdout",
     "output_type": "stream",
     "text": [
      "<class 'pandas.core.frame.DataFrame'>\n",
      "Int64Index: 7628 entries, 0 to 7627\n",
      "Data columns (total 13 columns):\n",
      " #   Column         Non-Null Count  Dtype         \n",
      "---  ------         --------------  -----         \n",
      " 0   wid            7628 non-null   object        \n",
      " 1   sblid          7628 non-null   float64       \n",
      " 2   gender         7628 non-null   object        \n",
      " 3   genderLabel    7628 non-null   object        \n",
      " 4   SBLnr          7628 non-null   int64         \n",
      " 5   SBLlength      7628 non-null   int64         \n",
      " 6   titel          7628 non-null   object        \n",
      " 7   Fodd           7109 non-null   object        \n",
      " 8   Dod            7587 non-null   object        \n",
      " 9   Band           7628 non-null   object        \n",
      " 10  YearPublished  7596 non-null   datetime64[ns]\n",
      " 11  url            7628 non-null   object        \n",
      " 12  WD_Webscrape   7628 non-null   object        \n",
      "dtypes: datetime64[ns](1), float64(1), int64(2), object(9)\n",
      "memory usage: 834.3+ KB\n"
     ]
    },
    {
     "data": {
      "text/html": [
       "<div>\n",
       "<style scoped>\n",
       "    .dataframe tbody tr th:only-of-type {\n",
       "        vertical-align: middle;\n",
       "    }\n",
       "\n",
       "    .dataframe tbody tr th {\n",
       "        vertical-align: top;\n",
       "    }\n",
       "\n",
       "    .dataframe thead th {\n",
       "        text-align: right;\n",
       "    }\n",
       "</style>\n",
       "<table border=\"1\" class=\"dataframe\">\n",
       "  <thead>\n",
       "    <tr style=\"text-align: right;\">\n",
       "      <th></th>\n",
       "      <th>wid</th>\n",
       "      <th>sblid</th>\n",
       "      <th>gender</th>\n",
       "      <th>genderLabel</th>\n",
       "      <th>SBLnr</th>\n",
       "      <th>SBLlength</th>\n",
       "      <th>titel</th>\n",
       "      <th>Fodd</th>\n",
       "      <th>Dod</th>\n",
       "      <th>Band</th>\n",
       "      <th>YearPublished</th>\n",
       "      <th>url</th>\n",
       "      <th>WD_Webscrape</th>\n",
       "    </tr>\n",
       "  </thead>\n",
       "  <tbody>\n",
       "    <tr>\n",
       "      <th>0</th>\n",
       "      <td>Q44519</td>\n",
       "      <td>10922.0</td>\n",
       "      <td>http://www.wikidata.org/entity/Q6581072</td>\n",
       "      <td>kvinna</td>\n",
       "      <td>10922</td>\n",
       "      <td>104002</td>\n",
       "      <td>Selma O L Lagerlöf</td>\n",
       "      <td>Född:1858-11-20 – Östra Ämterviks församling, ...</td>\n",
       "      <td>Död:1940-03-16 – Östra Ämterviks församling, V...</td>\n",
       "      <td>Band 22 (1977-1979), sida 154.</td>\n",
       "      <td>1979-01-01</td>\n",
       "      <td>https://sok.riksarkivet.se/sbl/Presentation.as...</td>\n",
       "      <td>both</td>\n",
       "    </tr>\n",
       "    <tr>\n",
       "      <th>1</th>\n",
       "      <td>Q132695</td>\n",
       "      <td>9140.0</td>\n",
       "      <td>http://www.wikidata.org/entity/Q6581097</td>\n",
       "      <td>man</td>\n",
       "      <td>9140</td>\n",
       "      <td>207392</td>\n",
       "      <td>Harry E Martinson</td>\n",
       "      <td>Född:1904-05-06 – Jämshögs församling, Bleking...</td>\n",
       "      <td>Död:1978-02-11 – Sollentuna församling, Stockh...</td>\n",
       "      <td>Band 25 (1985-1987), sida 204.</td>\n",
       "      <td>1987-01-01</td>\n",
       "      <td>https://sok.riksarkivet.se/sbl/Presentation.as...</td>\n",
       "      <td>both</td>\n",
       "    </tr>\n",
       "    <tr>\n",
       "      <th>2</th>\n",
       "      <td>Q192651</td>\n",
       "      <td>13293.0</td>\n",
       "      <td>http://www.wikidata.org/entity/Q6581097</td>\n",
       "      <td>man</td>\n",
       "      <td>13293</td>\n",
       "      <td>41879</td>\n",
       "      <td>Allvar Gullstrand</td>\n",
       "      <td>Född:1862-06-05 – Landskrona församling, Skåne...</td>\n",
       "      <td>Död:1930-07-28 – Oscars församling, Stockholms...</td>\n",
       "      <td>Band 17 (1967-1969), sida 404.</td>\n",
       "      <td>1969-01-01</td>\n",
       "      <td>https://sok.riksarkivet.se/sbl/Presentation.as...</td>\n",
       "      <td>both</td>\n",
       "    </tr>\n",
       "    <tr>\n",
       "      <th>3</th>\n",
       "      <td>Q243068</td>\n",
       "      <td>11121.0</td>\n",
       "      <td>http://www.wikidata.org/entity/Q6581072</td>\n",
       "      <td>kvinna</td>\n",
       "      <td>11121</td>\n",
       "      <td>75717</td>\n",
       "      <td>Anne Charlotte G Leffler</td>\n",
       "      <td>Född:1849-10-01 – Klara församling, Stockholms...</td>\n",
       "      <td>Död:1892-10-21 – Italien (i Neapel)</td>\n",
       "      <td>Band 22 (1977-1979), sida 434.</td>\n",
       "      <td>1979-01-01</td>\n",
       "      <td>https://sok.riksarkivet.se/sbl/Presentation.as...</td>\n",
       "      <td>both</td>\n",
       "    </tr>\n",
       "    <tr>\n",
       "      <th>4</th>\n",
       "      <td>Q275893</td>\n",
       "      <td>9141.0</td>\n",
       "      <td>http://www.wikidata.org/entity/Q6581072</td>\n",
       "      <td>kvinna</td>\n",
       "      <td>9141</td>\n",
       "      <td>69066</td>\n",
       "      <td>H Maria (Moa) Martinson</td>\n",
       "      <td>Född:1890-11-02 – Vårdnäs församling, Östergöt...</td>\n",
       "      <td>Död:1964-08-05 – Södertälje församling (Sorund...</td>\n",
       "      <td>Band 25 (1985-1987), sida 220.</td>\n",
       "      <td>1987-01-01</td>\n",
       "      <td>https://sok.riksarkivet.se/sbl/Presentation.as...</td>\n",
       "      <td>both</td>\n",
       "    </tr>\n",
       "  </tbody>\n",
       "</table>\n",
       "</div>"
      ],
      "text/plain": [
       "       wid    sblid                                   gender genderLabel  \\\n",
       "0   Q44519  10922.0  http://www.wikidata.org/entity/Q6581072      kvinna   \n",
       "1  Q132695   9140.0  http://www.wikidata.org/entity/Q6581097         man   \n",
       "2  Q192651  13293.0  http://www.wikidata.org/entity/Q6581097         man   \n",
       "3  Q243068  11121.0  http://www.wikidata.org/entity/Q6581072      kvinna   \n",
       "4  Q275893   9141.0  http://www.wikidata.org/entity/Q6581072      kvinna   \n",
       "\n",
       "   SBLnr  SBLlength                     titel  \\\n",
       "0  10922     104002        Selma O L Lagerlöf   \n",
       "1   9140     207392         Harry E Martinson   \n",
       "2  13293      41879         Allvar Gullstrand   \n",
       "3  11121      75717  Anne Charlotte G Leffler   \n",
       "4   9141      69066   H Maria (Moa) Martinson   \n",
       "\n",
       "                                                Fodd  \\\n",
       "0  Född:1858-11-20 – Östra Ämterviks församling, ...   \n",
       "1  Född:1904-05-06 – Jämshögs församling, Bleking...   \n",
       "2  Född:1862-06-05 – Landskrona församling, Skåne...   \n",
       "3  Född:1849-10-01 – Klara församling, Stockholms...   \n",
       "4  Född:1890-11-02 – Vårdnäs församling, Östergöt...   \n",
       "\n",
       "                                                 Dod  \\\n",
       "0  Död:1940-03-16 – Östra Ämterviks församling, V...   \n",
       "1  Död:1978-02-11 – Sollentuna församling, Stockh...   \n",
       "2  Död:1930-07-28 – Oscars församling, Stockholms...   \n",
       "3                Död:1892-10-21 – Italien (i Neapel)   \n",
       "4  Död:1964-08-05 – Södertälje församling (Sorund...   \n",
       "\n",
       "                             Band YearPublished  \\\n",
       "0  Band 22 (1977-1979), sida 154.    1979-01-01   \n",
       "1  Band 25 (1985-1987), sida 204.    1987-01-01   \n",
       "2  Band 17 (1967-1969), sida 404.    1969-01-01   \n",
       "3  Band 22 (1977-1979), sida 434.    1979-01-01   \n",
       "4  Band 25 (1985-1987), sida 220.    1987-01-01   \n",
       "\n",
       "                                                 url WD_Webscrape  \n",
       "0  https://sok.riksarkivet.se/sbl/Presentation.as...         both  \n",
       "1  https://sok.riksarkivet.se/sbl/Presentation.as...         both  \n",
       "2  https://sok.riksarkivet.se/sbl/Presentation.as...         both  \n",
       "3  https://sok.riksarkivet.se/sbl/Presentation.as...         both  \n",
       "4  https://sok.riksarkivet.se/sbl/Presentation.as...         both  "
      ]
     },
     "execution_count": 49,
     "metadata": {},
     "output_type": "execute_result"
    }
   ],
   "source": [
    "speed = [0.1, 17.5, 40, 48, 52, 69, 88]\n",
    "lifespan = [2, 8, 70, 1.5, 25, 12, 28]\n",
    "index = ['snail', 'pig', 'elephant',\n",
    "          'rabbit', 'giraffe', 'coyote', 'horse']\n",
    "df = pd.DataFrame({'speed': speed,\n",
    "                    'lifespan': lifespan}, index=index)\n",
    "#ax = df.plot.bar(rot=0)\n",
    "\n",
    "\n",
    "#plotSBLYearPublished_FM = dfWD_SBL_article.groupby([\"YearPublished\"])\n",
    "#plotSBLYearPublished_FM = dfWD_SBL_article.groupby([\"YearPublished\"])[\"genderLabel\"].transform(\"count\")\n",
    "#df['Counts'] = df.groupby(['Color'])['Value'].transform('count')\n",
    "#plotSBLYearPublished_FM.head()  \n",
    "dfWD_SBL_article.info()\n",
    "dfWD_SBL_article.head()\n",
    "\n",
    "# Group by YearPublished genderLabel"
   ]
  },
  {
   "cell_type": "markdown",
   "metadata": {},
   "source": [
    "### Släktartiklar  \n",
    "Nedan lite gissning att en släktartikel har ordet släkt i titeln. \n",
    "\n",
    "* se också [webscarping Adelsvapen](https://gist.github.com/salgo60/31e0c4bf6f075c373fb5bbfb6cc807c6)\n",
    "* csv lista skapad nedan på [GIST](https://gist.github.com/salgo60/31e0c4bf6f075c373fb5bbfb6cc807c6#gistcomment-3457126) "
   ]
  },
  {
   "cell_type": "code",
   "execution_count": 50,
   "metadata": {},
   "outputs": [],
   "source": [
    "dfFamily = plotSBL[plotSBL.isnull().any(1)]"
   ]
  },
  {
   "cell_type": "code",
   "execution_count": 51,
   "metadata": {},
   "outputs": [
    {
     "name": "stdout",
     "output_type": "stream",
     "text": [
      "<class 'pandas.core.frame.DataFrame'>\n",
      "Index: 3136 entries, 1918 to 2021\n",
      "Data columns (total 8 columns):\n",
      " #   Column         Non-Null Count  Dtype         \n",
      "---  ------         --------------  -----         \n",
      " 0   SBLnr          3136 non-null   int64         \n",
      " 1   SBLlength      3136 non-null   int64         \n",
      " 2   titel          3136 non-null   object        \n",
      " 3   Fodd           42 non-null     object        \n",
      " 4   Dod            527 non-null    object        \n",
      " 5   Band           3136 non-null   object        \n",
      " 6   YearPublished  3074 non-null   datetime64[ns]\n",
      " 7   url            3136 non-null   object        \n",
      "dtypes: datetime64[ns](1), int64(2), object(5)\n",
      "memory usage: 220.5+ KB\n"
     ]
    }
   ],
   "source": [
    "dfFamily.info()"
   ]
  },
  {
   "cell_type": "code",
   "execution_count": 52,
   "metadata": {},
   "outputs": [],
   "source": [
    "#dfFamily"
   ]
  },
  {
   "cell_type": "code",
   "execution_count": 53,
   "metadata": {
    "scrolled": false
   },
   "outputs": [],
   "source": [
    "dfFamilySlakt = dfFamily[dfFamily.titel.str.contains(\"släkt\")]\n",
    "#dfFamilySlakt"
   ]
  },
  {
   "cell_type": "code",
   "execution_count": 54,
   "metadata": {},
   "outputs": [],
   "source": [
    "dictFamily = dfFamilySlakt.to_dict()"
   ]
  },
  {
   "cell_type": "code",
   "execution_count": null,
   "metadata": {},
   "outputs": [],
   "source": []
  },
  {
   "cell_type": "code",
   "execution_count": 55,
   "metadata": {},
   "outputs": [
    {
     "data": {
      "text/plain": [
       "1725"
      ]
     },
     "execution_count": 55,
     "metadata": {},
     "output_type": "execute_result"
    }
   ],
   "source": [
    "dfFamily.titel.str.contains(\"släkt\").sum()"
   ]
  },
  {
   "cell_type": "code",
   "execution_count": 56,
   "metadata": {},
   "outputs": [
    {
     "data": {
      "text/plain": [
       "38"
      ]
     },
     "execution_count": 56,
     "metadata": {},
     "output_type": "execute_result"
    }
   ],
   "source": [
    "dfFamily.titel.str.contains(\"ätten\").sum()"
   ]
  },
  {
   "cell_type": "code",
   "execution_count": 57,
   "metadata": {},
   "outputs": [
    {
     "data": {
      "text/plain": [
       "1"
      ]
     },
     "execution_count": 57,
     "metadata": {},
     "output_type": "execute_result"
    }
   ],
   "source": [
    "dfFamily.titel.str.contains(\"Släkt\").sum()"
   ]
  },
  {
   "cell_type": "code",
   "execution_count": 58,
   "metadata": {},
   "outputs": [
    {
     "data": {
      "text/plain": [
       "23"
      ]
     },
     "execution_count": 58,
     "metadata": {},
     "output_type": "execute_result"
    }
   ],
   "source": [
    "dfFamily.Dod.str.contains(\"senas\").sum()"
   ]
  },
  {
   "cell_type": "code",
   "execution_count": 59,
   "metadata": {},
   "outputs": [],
   "source": [
    "#dfFamily[dfFamily.Dod.str.contains(\"senas\", na=False)]"
   ]
  },
  {
   "cell_type": "code",
   "execution_count": 156,
   "metadata": {},
   "outputs": [
    {
     "data": {
      "text/html": [
       "<div>\n",
       "<style scoped>\n",
       "    .dataframe tbody tr th:only-of-type {\n",
       "        vertical-align: middle;\n",
       "    }\n",
       "\n",
       "    .dataframe tbody tr th {\n",
       "        vertical-align: top;\n",
       "    }\n",
       "\n",
       "    .dataframe thead th {\n",
       "        text-align: right;\n",
       "    }\n",
       "</style>\n",
       "<table border=\"1\" class=\"dataframe\">\n",
       "  <thead>\n",
       "    <tr style=\"text-align: right;\">\n",
       "      <th></th>\n",
       "      <th>SBLnr</th>\n",
       "      <th>SBLlength</th>\n",
       "      <th>titel</th>\n",
       "      <th>Fodd</th>\n",
       "      <th>Dod</th>\n",
       "      <th>Band</th>\n",
       "      <th>YearPublished</th>\n",
       "      <th>url</th>\n",
       "    </tr>\n",
       "    <tr>\n",
       "      <th>Year</th>\n",
       "      <th></th>\n",
       "      <th></th>\n",
       "      <th></th>\n",
       "      <th></th>\n",
       "      <th></th>\n",
       "      <th></th>\n",
       "      <th></th>\n",
       "      <th></th>\n",
       "    </tr>\n",
       "  </thead>\n",
       "  <tbody>\n",
       "    <tr>\n",
       "      <th>2020-</th>\n",
       "      <td>34990</td>\n",
       "      <td>33489</td>\n",
       "      <td>Kurt Karl Albert Swolin</td>\n",
       "      <td>Född:1923-05-23 – Tyskland (Wuppertal)</td>\n",
       "      <td>Död:1998-04-14 – (Näset, V Göt)</td>\n",
       "      <td>Band 35 (2020-), sida 37.</td>\n",
       "      <td>NaT</td>\n",
       "      <td>https://sok.riksarkivet.se/sbl/Presentation.as...</td>\n",
       "    </tr>\n",
       "    <tr>\n",
       "      <th>1931</th>\n",
       "      <td>15785</td>\n",
       "      <td>56493</td>\n",
       "      <td>Robert Dahlander</td>\n",
       "      <td>Född:1870-06-09 – Göteborgs stad, Västra Götal...</td>\n",
       "      <td>NaN</td>\n",
       "      <td>Band 09 (1931), sida 596.</td>\n",
       "      <td>1931-01-01</td>\n",
       "      <td>https://sok.riksarkivet.se/sbl/Presentation.as...</td>\n",
       "    </tr>\n",
       "    <tr>\n",
       "      <th>2020-</th>\n",
       "      <td>35003</td>\n",
       "      <td>11945</td>\n",
       "      <td>Jacob Svinhufvud</td>\n",
       "      <td>Född:1677</td>\n",
       "      <td>Död:1738</td>\n",
       "      <td>Band 35 (2020-), sida 23.</td>\n",
       "      <td>NaT</td>\n",
       "      <td>https://sok.riksarkivet.se/sbl/Presentation.as...</td>\n",
       "    </tr>\n",
       "    <tr>\n",
       "      <th>2020-</th>\n",
       "      <td>35033</td>\n",
       "      <td>42058</td>\n",
       "      <td>Lajos Szécsi</td>\n",
       "      <td>Född:1930-02-27 – Ungern (Budapest)</td>\n",
       "      <td>Död:2004-10-15 – Skarpnäcks församling, Stockh...</td>\n",
       "      <td>Band 35 (2020-), sida 149.</td>\n",
       "      <td>NaT</td>\n",
       "      <td>https://sok.riksarkivet.se/sbl/Presentation.as...</td>\n",
       "    </tr>\n",
       "    <tr>\n",
       "      <th>2020-</th>\n",
       "      <td>35020</td>\n",
       "      <td>44493</td>\n",
       "      <td>Arvid Swärd</td>\n",
       "      <td>Född:1886-08-11 – Sörby församling (L-län), Kr...</td>\n",
       "      <td>Död:1961-10-16 – Hedvig Eleonora församling, S...</td>\n",
       "      <td>Band 35 (2020-), sida 43.</td>\n",
       "      <td>NaT</td>\n",
       "      <td>https://sok.riksarkivet.se/sbl/Presentation.as...</td>\n",
       "    </tr>\n",
       "    <tr>\n",
       "      <th>1918</th>\n",
       "      <td>5671</td>\n",
       "      <td>18231</td>\n",
       "      <td>A Adele L Almati-Rundberg</td>\n",
       "      <td>Född:1861-02-23 – USA, Amerikas Förenta Stater...</td>\n",
       "      <td>NaN</td>\n",
       "      <td>Band 01 (1918), sida 417.</td>\n",
       "      <td>1918-01-01</td>\n",
       "      <td>https://sok.riksarkivet.se/sbl/Presentation.as...</td>\n",
       "    </tr>\n",
       "    <tr>\n",
       "      <th>2020-</th>\n",
       "      <td>35001</td>\n",
       "      <td>11954</td>\n",
       "      <td>Christer Jönsson</td>\n",
       "      <td>Född:1607</td>\n",
       "      <td>Död:1660</td>\n",
       "      <td>Band 35 (2020-), sida 23.</td>\n",
       "      <td>NaT</td>\n",
       "      <td>https://sok.riksarkivet.se/sbl/Presentation.as...</td>\n",
       "    </tr>\n",
       "    <tr>\n",
       "      <th>1918</th>\n",
       "      <td>5735</td>\n",
       "      <td>24834</td>\n",
       "      <td>Johan Mathias Ambrosius</td>\n",
       "      <td>Född:1843-02-08</td>\n",
       "      <td>NaN</td>\n",
       "      <td>Band 01 (1918), sida 576.</td>\n",
       "      <td>1918-01-01</td>\n",
       "      <td>https://sok.riksarkivet.se/sbl/Presentation.as...</td>\n",
       "    </tr>\n",
       "    <tr>\n",
       "      <th>2020-</th>\n",
       "      <td>35041</td>\n",
       "      <td>66773</td>\n",
       "      <td>Carl Wilhelm von Sydow</td>\n",
       "      <td>Född:1878-12-21 – Ryssby församling (G-län), K...</td>\n",
       "      <td>Död:1952-03-04 – Lunds domkyrkoförsamling, Skå...</td>\n",
       "      <td>Band 35 (2020-), sida 77.</td>\n",
       "      <td>NaT</td>\n",
       "      <td>https://sok.riksarkivet.se/sbl/Presentation.as...</td>\n",
       "    </tr>\n",
       "    <tr>\n",
       "      <th>2020-</th>\n",
       "      <td>35036</td>\n",
       "      <td>64441</td>\n",
       "      <td>Stefan Szende</td>\n",
       "      <td>Född:1901-04-10 – Ungern (Szombathely)</td>\n",
       "      <td>Död:1985-05-04 – Skarpnäcks församling, Stockh...</td>\n",
       "      <td>Band 35 (2020-), sida 156.</td>\n",
       "      <td>NaT</td>\n",
       "      <td>https://sok.riksarkivet.se/sbl/Presentation.as...</td>\n",
       "    </tr>\n",
       "  </tbody>\n",
       "</table>\n",
       "</div>"
      ],
      "text/plain": [
       "       SBLnr  SBLlength                      titel  \\\n",
       "Year                                                 \n",
       "2020-  34990      33489    Kurt Karl Albert Swolin   \n",
       "1931   15785      56493           Robert Dahlander   \n",
       "2020-  35003      11945           Jacob Svinhufvud   \n",
       "2020-  35033      42058               Lajos Szécsi   \n",
       "2020-  35020      44493                Arvid Swärd   \n",
       "1918    5671      18231  A Adele L Almati-Rundberg   \n",
       "2020-  35001      11954           Christer Jönsson   \n",
       "1918    5735      24834    Johan Mathias Ambrosius   \n",
       "2020-  35041      66773     Carl Wilhelm von Sydow   \n",
       "2020-  35036      64441              Stefan Szende   \n",
       "\n",
       "                                                    Fodd  \\\n",
       "Year                                                       \n",
       "2020-             Född:1923-05-23 – Tyskland (Wuppertal)   \n",
       "1931   Född:1870-06-09 – Göteborgs stad, Västra Götal...   \n",
       "2020-                                          Född:1677   \n",
       "2020-                Född:1930-02-27 – Ungern (Budapest)   \n",
       "2020-  Född:1886-08-11 – Sörby församling (L-län), Kr...   \n",
       "1918   Född:1861-02-23 – USA, Amerikas Förenta Stater...   \n",
       "2020-                                          Född:1607   \n",
       "1918                                     Född:1843-02-08   \n",
       "2020-  Född:1878-12-21 – Ryssby församling (G-län), K...   \n",
       "2020-             Född:1901-04-10 – Ungern (Szombathely)   \n",
       "\n",
       "                                                     Dod  \\\n",
       "Year                                                       \n",
       "2020-                    Död:1998-04-14 – (Näset, V Göt)   \n",
       "1931                                                 NaN   \n",
       "2020-                                           Död:1738   \n",
       "2020-  Död:2004-10-15 – Skarpnäcks församling, Stockh...   \n",
       "2020-  Död:1961-10-16 – Hedvig Eleonora församling, S...   \n",
       "1918                                                 NaN   \n",
       "2020-                                           Död:1660   \n",
       "1918                                                 NaN   \n",
       "2020-  Död:1952-03-04 – Lunds domkyrkoförsamling, Skå...   \n",
       "2020-  Död:1985-05-04 – Skarpnäcks församling, Stockh...   \n",
       "\n",
       "                             Band YearPublished  \\\n",
       "Year                                              \n",
       "2020-   Band 35 (2020-), sida 37.           NaT   \n",
       "1931    Band 09 (1931), sida 596.    1931-01-01   \n",
       "2020-   Band 35 (2020-), sida 23.           NaT   \n",
       "2020-  Band 35 (2020-), sida 149.           NaT   \n",
       "2020-   Band 35 (2020-), sida 43.           NaT   \n",
       "1918    Band 01 (1918), sida 417.    1918-01-01   \n",
       "2020-   Band 35 (2020-), sida 23.           NaT   \n",
       "1918    Band 01 (1918), sida 576.    1918-01-01   \n",
       "2020-   Band 35 (2020-), sida 77.           NaT   \n",
       "2020-  Band 35 (2020-), sida 156.           NaT   \n",
       "\n",
       "                                                     url  \n",
       "Year                                                      \n",
       "2020-  https://sok.riksarkivet.se/sbl/Presentation.as...  \n",
       "1931   https://sok.riksarkivet.se/sbl/Presentation.as...  \n",
       "2020-  https://sok.riksarkivet.se/sbl/Presentation.as...  \n",
       "2020-  https://sok.riksarkivet.se/sbl/Presentation.as...  \n",
       "2020-  https://sok.riksarkivet.se/sbl/Presentation.as...  \n",
       "1918   https://sok.riksarkivet.se/sbl/Presentation.as...  \n",
       "2020-  https://sok.riksarkivet.se/sbl/Presentation.as...  \n",
       "1918   https://sok.riksarkivet.se/sbl/Presentation.as...  \n",
       "2020-  https://sok.riksarkivet.se/sbl/Presentation.as...  \n",
       "2020-  https://sok.riksarkivet.se/sbl/Presentation.as...  "
      ]
     },
     "execution_count": 156,
     "metadata": {},
     "output_type": "execute_result"
    }
   ],
   "source": [
    "dfFamily[dfFamily.Fodd.str.contains(\"\", na=False)].sample(10)"
   ]
  },
  {
   "cell_type": "code",
   "execution_count": 94,
   "metadata": {},
   "outputs": [
    {
     "data": {
      "text/plain": [
       "0"
      ]
     },
     "execution_count": 94,
     "metadata": {},
     "output_type": "execute_result"
    }
   ],
   "source": [
    "#Check diff WDSBLtot and plotSBL \n",
    "WDSBLtot.duplicated(subset=['wid']).sum()"
   ]
  },
  {
   "cell_type": "code",
   "execution_count": 95,
   "metadata": {},
   "outputs": [
    {
     "data": {
      "text/plain": [
       "0"
      ]
     },
     "execution_count": 95,
     "metadata": {},
     "output_type": "execute_result"
    }
   ],
   "source": [
    "plotSBL.duplicated(subset=['SBLnr']).sum()"
   ]
  },
  {
   "cell_type": "code",
   "execution_count": 97,
   "metadata": {},
   "outputs": [],
   "source": [
    "#WDSBLtot.duplicated(subset=['sblid']).sum()"
   ]
  },
  {
   "cell_type": "code",
   "execution_count": 98,
   "metadata": {},
   "outputs": [
    {
     "name": "stdout",
     "output_type": "stream",
     "text": [
      "<class 'pandas.core.frame.DataFrame'>\n",
      "RangeIndex: 7628 entries, 0 to 7627\n",
      "Data columns (total 4 columns):\n",
      " #   Column       Non-Null Count  Dtype \n",
      "---  ------       --------------  ----- \n",
      " 0   wid          7628 non-null   object\n",
      " 1   SBLnr        7628 non-null   int64 \n",
      " 2   gender       7628 non-null   object\n",
      " 3   genderLabel  7628 non-null   object\n",
      "dtypes: int64(1), object(3)\n",
      "memory usage: 238.5+ KB\n"
     ]
    }
   ],
   "source": [
    "WDSBLtot = WDSBLtot.rename(columns={'sblid':'SBLnr'})\n",
    "WDSBLtot['SBLnr']= WDSBLtot['SBLnr'].astype(str).astype(int)\n",
    "WDSBLtot.info()"
   ]
  },
  {
   "cell_type": "code",
   "execution_count": 99,
   "metadata": {},
   "outputs": [],
   "source": [
    "dfmerge = pd.merge(WDSBLtot, plotSBL,how='outer', on='SBLnr',indicator=True)"
   ]
  },
  {
   "cell_type": "code",
   "execution_count": 100,
   "metadata": {},
   "outputs": [
    {
     "data": {
      "text/plain": [
       "both          7628\n",
       "right_only    2584\n",
       "left_only        0\n",
       "Name: _merge, dtype: int64"
      ]
     },
     "execution_count": 100,
     "metadata": {},
     "output_type": "execute_result"
    }
   ],
   "source": [
    "dfmerge[\"_merge\"].value_counts()"
   ]
  },
  {
   "cell_type": "code",
   "execution_count": 101,
   "metadata": {},
   "outputs": [],
   "source": [
    "#dfmerge"
   ]
  },
  {
   "cell_type": "code",
   "execution_count": 102,
   "metadata": {},
   "outputs": [],
   "source": [
    "dfmerge['_merge'] = dfmerge['_merge'].str.replace('left_only','WD_only').str.replace('right_only','SBL_only')\n"
   ]
  },
  {
   "cell_type": "code",
   "execution_count": 103,
   "metadata": {},
   "outputs": [
    {
     "data": {
      "text/plain": [
       "both        7628\n",
       "SBL_only    2584\n",
       "Name: _merge, dtype: int64"
      ]
     },
     "execution_count": 103,
     "metadata": {},
     "output_type": "execute_result"
    }
   ],
   "source": [
    "WDSBLonly = dfmerge[dfmerge[\"_merge\"] == \"SBL_only\"].copy()   \n",
    "dfmerge[\"_merge\"].value_counts()"
   ]
  },
  {
   "cell_type": "code",
   "execution_count": 104,
   "metadata": {},
   "outputs": [
    {
     "data": {
      "text/html": [
       "<div>\n",
       "<style scoped>\n",
       "    .dataframe tbody tr th:only-of-type {\n",
       "        vertical-align: middle;\n",
       "    }\n",
       "\n",
       "    .dataframe tbody tr th {\n",
       "        vertical-align: top;\n",
       "    }\n",
       "\n",
       "    .dataframe thead th {\n",
       "        text-align: right;\n",
       "    }\n",
       "</style>\n",
       "<table border=\"1\" class=\"dataframe\">\n",
       "  <thead>\n",
       "    <tr style=\"text-align: right;\">\n",
       "      <th></th>\n",
       "      <th>wid</th>\n",
       "      <th>SBLnr</th>\n",
       "      <th>gender</th>\n",
       "      <th>genderLabel</th>\n",
       "      <th>SBLlength</th>\n",
       "      <th>titel</th>\n",
       "      <th>Fodd</th>\n",
       "      <th>Dod</th>\n",
       "      <th>Band</th>\n",
       "      <th>YearPublished</th>\n",
       "      <th>url</th>\n",
       "      <th>_merge</th>\n",
       "    </tr>\n",
       "  </thead>\n",
       "  <tbody>\n",
       "  </tbody>\n",
       "</table>\n",
       "</div>"
      ],
      "text/plain": [
       "Empty DataFrame\n",
       "Columns: [wid, SBLnr, gender, genderLabel, SBLlength, titel, Fodd, Dod, Band, YearPublished, url, _merge]\n",
       "Index: []"
      ]
     },
     "execution_count": 104,
     "metadata": {},
     "output_type": "execute_result"
    }
   ],
   "source": [
    "WD_only = dfmerge[dfmerge[\"_merge\"] == \"WD_only\"].copy()   \n",
    "WD_only"
   ]
  },
  {
   "cell_type": "code",
   "execution_count": 105,
   "metadata": {},
   "outputs": [
    {
     "name": "stdout",
     "output_type": "stream",
     "text": [
      "<class 'pandas.core.frame.DataFrame'>\n",
      "Int64Index: 2584 entries, 7628 to 10211\n",
      "Data columns (total 12 columns):\n",
      " #   Column         Non-Null Count  Dtype         \n",
      "---  ------         --------------  -----         \n",
      " 0   wid            0 non-null      object        \n",
      " 1   SBLnr          2584 non-null   int64         \n",
      " 2   gender         0 non-null      object        \n",
      " 3   genderLabel    0 non-null      object        \n",
      " 4   SBLlength      2584 non-null   int64         \n",
      " 5   titel          2584 non-null   object        \n",
      " 6   Fodd           8 non-null      object        \n",
      " 7   Dod            16 non-null     object        \n",
      " 8   Band           2584 non-null   object        \n",
      " 9   YearPublished  2554 non-null   datetime64[ns]\n",
      " 10  url            2584 non-null   object        \n",
      " 11  _merge         2584 non-null   object        \n",
      "dtypes: datetime64[ns](1), int64(2), object(9)\n",
      "memory usage: 262.4+ KB\n"
     ]
    }
   ],
   "source": [
    "WDSBLonly.info()"
   ]
  },
  {
   "cell_type": "code",
   "execution_count": 106,
   "metadata": {},
   "outputs": [
    {
     "data": {
      "text/plain": [
       "1688"
      ]
     },
     "execution_count": 106,
     "metadata": {},
     "output_type": "execute_result"
    }
   ],
   "source": [
    "WDSBLonly.titel.str.contains(\"släkt\").sum() \n"
   ]
  },
  {
   "cell_type": "code",
   "execution_count": 153,
   "metadata": {},
   "outputs": [
    {
     "data": {
      "text/html": [
       "<div>\n",
       "<style scoped>\n",
       "    .dataframe tbody tr th:only-of-type {\n",
       "        vertical-align: middle;\n",
       "    }\n",
       "\n",
       "    .dataframe tbody tr th {\n",
       "        vertical-align: top;\n",
       "    }\n",
       "\n",
       "    .dataframe thead th {\n",
       "        text-align: right;\n",
       "    }\n",
       "</style>\n",
       "<table border=\"1\" class=\"dataframe\">\n",
       "  <thead>\n",
       "    <tr style=\"text-align: right;\">\n",
       "      <th></th>\n",
       "      <th>wid</th>\n",
       "      <th>SBLnr</th>\n",
       "      <th>gender</th>\n",
       "      <th>genderLabel</th>\n",
       "      <th>SBLlength</th>\n",
       "      <th>titel</th>\n",
       "      <th>Fodd</th>\n",
       "      <th>Dod</th>\n",
       "      <th>Band</th>\n",
       "      <th>YearPublished</th>\n",
       "      <th>url</th>\n",
       "      <th>_merge</th>\n",
       "    </tr>\n",
       "  </thead>\n",
       "  <tbody>\n",
       "    <tr>\n",
       "      <th>7808</th>\n",
       "      <td>NaN</td>\n",
       "      <td>7249</td>\n",
       "      <td>NaN</td>\n",
       "      <td>NaN</td>\n",
       "      <td>23681</td>\n",
       "      <td>Pfalziska ätten,</td>\n",
       "      <td>NaN</td>\n",
       "      <td>NaN</td>\n",
       "      <td>Band 29 (1995-1997), sida 283.</td>\n",
       "      <td>1997-01-01</td>\n",
       "      <td>https://sok.riksarkivet.se/sbl/Presentation.as...</td>\n",
       "      <td>SBL_only</td>\n",
       "    </tr>\n",
       "    <tr>\n",
       "      <th>7980</th>\n",
       "      <td>NaN</td>\n",
       "      <td>9007</td>\n",
       "      <td>NaN</td>\n",
       "      <td>NaN</td>\n",
       "      <td>41975</td>\n",
       "      <td>Malsta-ätten,</td>\n",
       "      <td>NaN</td>\n",
       "      <td>NaN</td>\n",
       "      <td>Band 25 (1985-1987), sida 40.</td>\n",
       "      <td>1987-01-01</td>\n",
       "      <td>https://sok.riksarkivet.se/sbl/Presentation.as...</td>\n",
       "      <td>SBL_only</td>\n",
       "    </tr>\n",
       "    <tr>\n",
       "      <th>7981</th>\n",
       "      <td>NaN</td>\n",
       "      <td>9008</td>\n",
       "      <td>NaN</td>\n",
       "      <td>NaN</td>\n",
       "      <td>11219</td>\n",
       "      <td>(Malsta-ätten), Kettil Johansson</td>\n",
       "      <td>NaN</td>\n",
       "      <td>NaN</td>\n",
       "      <td>Band 25 (1985-1987), sida 41.</td>\n",
       "      <td>1987-01-01</td>\n",
       "      <td>https://sok.riksarkivet.se/sbl/Presentation.as...</td>\n",
       "      <td>SBL_only</td>\n",
       "    </tr>\n",
       "    <tr>\n",
       "      <th>7982</th>\n",
       "      <td>NaN</td>\n",
       "      <td>9009</td>\n",
       "      <td>NaN</td>\n",
       "      <td>NaN</td>\n",
       "      <td>11209</td>\n",
       "      <td>(Malsta-ätten), Thomas Jonsson</td>\n",
       "      <td>NaN</td>\n",
       "      <td>NaN</td>\n",
       "      <td>Band 25 (1985-1987), sida 40.</td>\n",
       "      <td>1987-01-01</td>\n",
       "      <td>https://sok.riksarkivet.se/sbl/Presentation.as...</td>\n",
       "      <td>SBL_only</td>\n",
       "    </tr>\n",
       "    <tr>\n",
       "      <th>8274</th>\n",
       "      <td>NaN</td>\n",
       "      <td>11237</td>\n",
       "      <td>NaN</td>\n",
       "      <td>NaN</td>\n",
       "      <td>39858</td>\n",
       "      <td>Lepasätten, släkt</td>\n",
       "      <td>NaN</td>\n",
       "      <td>NaN</td>\n",
       "      <td>Band 22 (1977-1979), sida 579.</td>\n",
       "      <td>1979-01-01</td>\n",
       "      <td>https://sok.riksarkivet.se/sbl/Presentation.as...</td>\n",
       "      <td>SBL_only</td>\n",
       "    </tr>\n",
       "    <tr>\n",
       "      <th>8275</th>\n",
       "      <td>NaN</td>\n",
       "      <td>11238</td>\n",
       "      <td>NaN</td>\n",
       "      <td>NaN</td>\n",
       "      <td>11213</td>\n",
       "      <td>(Lepasätten), Björn Clausson</td>\n",
       "      <td>NaN</td>\n",
       "      <td>NaN</td>\n",
       "      <td>Band 22 (1977-1979), sida 579.</td>\n",
       "      <td>1979-01-01</td>\n",
       "      <td>https://sok.riksarkivet.se/sbl/Presentation.as...</td>\n",
       "      <td>SBL_only</td>\n",
       "    </tr>\n",
       "    <tr>\n",
       "      <th>8276</th>\n",
       "      <td>NaN</td>\n",
       "      <td>11239</td>\n",
       "      <td>NaN</td>\n",
       "      <td>NaN</td>\n",
       "      <td>11213</td>\n",
       "      <td>(Lepasätten), Hans Björnsson</td>\n",
       "      <td>NaN</td>\n",
       "      <td>NaN</td>\n",
       "      <td>Band 22 (1977-1979), sida 580.</td>\n",
       "      <td>1979-01-01</td>\n",
       "      <td>https://sok.riksarkivet.se/sbl/Presentation.as...</td>\n",
       "      <td>SBL_only</td>\n",
       "    </tr>\n",
       "    <tr>\n",
       "      <th>8293</th>\n",
       "      <td>NaN</td>\n",
       "      <td>11376</td>\n",
       "      <td>NaN</td>\n",
       "      <td>NaN</td>\n",
       "      <td>34717</td>\n",
       "      <td>Likvidssönernas ätt,</td>\n",
       "      <td>NaN</td>\n",
       "      <td>NaN</td>\n",
       "      <td>Band 22 (1977-1979), sida 767.</td>\n",
       "      <td>1979-01-01</td>\n",
       "      <td>https://sok.riksarkivet.se/sbl/Presentation.as...</td>\n",
       "      <td>SBL_only</td>\n",
       "    </tr>\n",
       "    <tr>\n",
       "      <th>8294</th>\n",
       "      <td>NaN</td>\n",
       "      <td>11377</td>\n",
       "      <td>NaN</td>\n",
       "      <td>NaN</td>\n",
       "      <td>11317</td>\n",
       "      <td>(Likvidssönernas ätt), Anund Hemmingsson</td>\n",
       "      <td>NaN</td>\n",
       "      <td>NaN</td>\n",
       "      <td>Band 22 (1977-1979), sida 768.</td>\n",
       "      <td>1979-01-01</td>\n",
       "      <td>https://sok.riksarkivet.se/sbl/Presentation.as...</td>\n",
       "      <td>SBL_only</td>\n",
       "    </tr>\n",
       "    <tr>\n",
       "      <th>8295</th>\n",
       "      <td>NaN</td>\n",
       "      <td>11378</td>\n",
       "      <td>NaN</td>\n",
       "      <td>NaN</td>\n",
       "      <td>11307</td>\n",
       "      <td>(Likvidssönernas ätt), Hemming Larsson</td>\n",
       "      <td>NaN</td>\n",
       "      <td>NaN</td>\n",
       "      <td>Band 22 (1977-1979), sida 768.</td>\n",
       "      <td>1979-01-01</td>\n",
       "      <td>https://sok.riksarkivet.se/sbl/Presentation.as...</td>\n",
       "      <td>SBL_only</td>\n",
       "    </tr>\n",
       "  </tbody>\n",
       "</table>\n",
       "</div>"
      ],
      "text/plain": [
       "      wid  SBLnr gender genderLabel  SBLlength  \\\n",
       "7808  NaN   7249    NaN         NaN      23681   \n",
       "7980  NaN   9007    NaN         NaN      41975   \n",
       "7981  NaN   9008    NaN         NaN      11219   \n",
       "7982  NaN   9009    NaN         NaN      11209   \n",
       "8274  NaN  11237    NaN         NaN      39858   \n",
       "8275  NaN  11238    NaN         NaN      11213   \n",
       "8276  NaN  11239    NaN         NaN      11213   \n",
       "8293  NaN  11376    NaN         NaN      34717   \n",
       "8294  NaN  11377    NaN         NaN      11317   \n",
       "8295  NaN  11378    NaN         NaN      11307   \n",
       "\n",
       "                                         titel Fodd  Dod  \\\n",
       "7808                         Pfalziska ätten,   NaN  NaN   \n",
       "7980                            Malsta-ätten,   NaN  NaN   \n",
       "7981          (Malsta-ätten), Kettil Johansson  NaN  NaN   \n",
       "7982            (Malsta-ätten), Thomas Jonsson  NaN  NaN   \n",
       "8274                         Lepasätten, släkt  NaN  NaN   \n",
       "8275              (Lepasätten), Björn Clausson  NaN  NaN   \n",
       "8276              (Lepasätten), Hans Björnsson  NaN  NaN   \n",
       "8293                     Likvidssönernas ätt,   NaN  NaN   \n",
       "8294  (Likvidssönernas ätt), Anund Hemmingsson  NaN  NaN   \n",
       "8295    (Likvidssönernas ätt), Hemming Larsson  NaN  NaN   \n",
       "\n",
       "                                Band YearPublished  \\\n",
       "7808  Band 29 (1995-1997), sida 283.    1997-01-01   \n",
       "7980   Band 25 (1985-1987), sida 40.    1987-01-01   \n",
       "7981   Band 25 (1985-1987), sida 41.    1987-01-01   \n",
       "7982   Band 25 (1985-1987), sida 40.    1987-01-01   \n",
       "8274  Band 22 (1977-1979), sida 579.    1979-01-01   \n",
       "8275  Band 22 (1977-1979), sida 579.    1979-01-01   \n",
       "8276  Band 22 (1977-1979), sida 580.    1979-01-01   \n",
       "8293  Band 22 (1977-1979), sida 767.    1979-01-01   \n",
       "8294  Band 22 (1977-1979), sida 768.    1979-01-01   \n",
       "8295  Band 22 (1977-1979), sida 768.    1979-01-01   \n",
       "\n",
       "                                                    url    _merge  \n",
       "7808  https://sok.riksarkivet.se/sbl/Presentation.as...  SBL_only  \n",
       "7980  https://sok.riksarkivet.se/sbl/Presentation.as...  SBL_only  \n",
       "7981  https://sok.riksarkivet.se/sbl/Presentation.as...  SBL_only  \n",
       "7982  https://sok.riksarkivet.se/sbl/Presentation.as...  SBL_only  \n",
       "8274  https://sok.riksarkivet.se/sbl/Presentation.as...  SBL_only  \n",
       "8275  https://sok.riksarkivet.se/sbl/Presentation.as...  SBL_only  \n",
       "8276  https://sok.riksarkivet.se/sbl/Presentation.as...  SBL_only  \n",
       "8293  https://sok.riksarkivet.se/sbl/Presentation.as...  SBL_only  \n",
       "8294  https://sok.riksarkivet.se/sbl/Presentation.as...  SBL_only  \n",
       "8295  https://sok.riksarkivet.se/sbl/Presentation.as...  SBL_only  "
      ]
     },
     "execution_count": 153,
     "metadata": {},
     "output_type": "execute_result"
    }
   ],
   "source": [
    "WDSBLonly[WDSBLonly.titel.str.contains(\"ätt\")].head(10)"
   ]
  },
  {
   "cell_type": "code",
   "execution_count": 108,
   "metadata": {},
   "outputs": [],
   "source": [
    "#Inte släkt \n",
    "WDmissingPerson = WDSBLonly[~WDSBLonly.titel.str.contains(\"släkt\")]"
   ]
  },
  {
   "cell_type": "code",
   "execution_count": 109,
   "metadata": {},
   "outputs": [
    {
     "name": "stdout",
     "output_type": "stream",
     "text": [
      "<class 'pandas.core.frame.DataFrame'>\n",
      "Int64Index: 896 entries, 7630 to 10211\n",
      "Data columns (total 12 columns):\n",
      " #   Column         Non-Null Count  Dtype         \n",
      "---  ------         --------------  -----         \n",
      " 0   wid            0 non-null      object        \n",
      " 1   SBLnr          896 non-null    int64         \n",
      " 2   gender         0 non-null      object        \n",
      " 3   genderLabel    0 non-null      object        \n",
      " 4   SBLlength      896 non-null    int64         \n",
      " 5   titel          896 non-null    object        \n",
      " 6   Fodd           8 non-null      object        \n",
      " 7   Dod            16 non-null     object        \n",
      " 8   Band           896 non-null    object        \n",
      " 9   YearPublished  868 non-null    datetime64[ns]\n",
      " 10  url            896 non-null    object        \n",
      " 11  _merge         896 non-null    object        \n",
      "dtypes: datetime64[ns](1), int64(2), object(9)\n",
      "memory usage: 91.0+ KB\n"
     ]
    }
   ],
   "source": [
    "WDmissingPerson.info()"
   ]
  },
  {
   "cell_type": "code",
   "execution_count": 111,
   "metadata": {},
   "outputs": [
    {
     "data": {
      "text/plain": [
       "2019-01-01    140\n",
       "2011-01-01     66\n",
       "1953-01-01     54\n",
       "1987-01-01     44\n",
       "2006-01-01     36\n",
       "1931-01-01     34\n",
       "1950-01-01     33\n",
       "1994-01-01     31\n",
       "1979-01-01     31\n",
       "1984-01-01     28\n",
       "1981-01-01     27\n",
       "2000-01-01     26\n",
       "1975-01-01     24\n",
       "1966-01-01     24\n",
       "1971-01-01     21\n",
       "1969-01-01     21\n",
       "1945-01-01     21\n",
       "1989-01-01     21\n",
       "2002-01-01     21\n",
       "1956-01-01     21\n",
       "2021-01-01     20\n",
       "1929-01-01     20\n",
       "1949-01-01     16\n",
       "1973-01-01     12\n",
       "1991-01-01     11\n",
       "1926-01-01     10\n",
       "1977-01-01     10\n",
       "1920-01-01     10\n",
       "1997-01-01      8\n",
       "1925-01-01      7\n",
       "1918-01-01      7\n",
       "1927-01-01      5\n",
       "1924-01-01      4\n",
       "1922-01-01      4\n",
       "Name: YearPublished, dtype: int64"
      ]
     },
     "execution_count": 111,
     "metadata": {},
     "output_type": "execute_result"
    }
   ],
   "source": [
    "WDmissingPerson[\"YearPublished\"].value_counts()"
   ]
  },
  {
   "cell_type": "code",
   "execution_count": null,
   "metadata": {},
   "outputs": [],
   "source": []
  },
  {
   "cell_type": "code",
   "execution_count": 112,
   "metadata": {},
   "outputs": [
    {
     "name": "stdout",
     "output_type": "stream",
     "text": [
      "Min, Max SBLlength:  11194 74771\n"
     ]
    }
   ],
   "source": [
    "print(\"Min, Max SBLlength: \", WDmissingPerson.SBLlength.min(), WDmissingPerson.SBLlength.max())"
   ]
  },
  {
   "cell_type": "code",
   "execution_count": 113,
   "metadata": {},
   "outputs": [],
   "source": [
    "# sorterar artiklarna efter sidstorlek för att kanske hitta någon vi missat  \n",
    "# wid är Wikidata objekt , NaN är att det saknas  \n",
    "# SBLnr är id i SBL\n",
    "# SBLlength är sidans storlek hos SBL \n",
    "# Fodd, Dod... är det jag hittade i WEBsidan, NaN innebär saknas\n",
    "\n",
    "#WDmissingPerson.sort_values(by='SBLlength', ascending=False, na_position='first')"
   ]
  },
  {
   "cell_type": "code",
   "execution_count": 114,
   "metadata": {},
   "outputs": [
    {
     "name": "stdout",
     "output_type": "stream",
     "text": [
      "<class 'pandas.core.frame.DataFrame'>\n",
      "Int64Index: 896 entries, 7630 to 10211\n",
      "Data columns (total 12 columns):\n",
      " #   Column         Non-Null Count  Dtype         \n",
      "---  ------         --------------  -----         \n",
      " 0   wid            0 non-null      object        \n",
      " 1   SBLnr          896 non-null    int64         \n",
      " 2   gender         0 non-null      object        \n",
      " 3   genderLabel    0 non-null      object        \n",
      " 4   SBLlength      896 non-null    int64         \n",
      " 5   titel          896 non-null    object        \n",
      " 6   Fodd           8 non-null      object        \n",
      " 7   Dod            16 non-null     object        \n",
      " 8   Band           896 non-null    object        \n",
      " 9   YearPublished  868 non-null    datetime64[ns]\n",
      " 10  url            896 non-null    object        \n",
      " 11  _merge         896 non-null    object        \n",
      "dtypes: datetime64[ns](1), int64(2), object(9)\n",
      "memory usage: 91.0+ KB\n"
     ]
    }
   ],
   "source": [
    "WDmissingPerson.info()"
   ]
  },
  {
   "cell_type": "code",
   "execution_count": 115,
   "metadata": {},
   "outputs": [
    {
     "data": {
      "text/plain": [
       "2019-01-01    140\n",
       "2011-01-01     66\n",
       "1953-01-01     54\n",
       "1987-01-01     44\n",
       "2006-01-01     36\n",
       "1931-01-01     34\n",
       "1950-01-01     33\n",
       "1994-01-01     31\n",
       "1979-01-01     31\n",
       "1984-01-01     28\n",
       "1981-01-01     27\n",
       "2000-01-01     26\n",
       "1975-01-01     24\n",
       "1966-01-01     24\n",
       "1971-01-01     21\n",
       "1969-01-01     21\n",
       "1945-01-01     21\n",
       "1989-01-01     21\n",
       "2002-01-01     21\n",
       "1956-01-01     21\n",
       "2021-01-01     20\n",
       "1929-01-01     20\n",
       "1949-01-01     16\n",
       "1973-01-01     12\n",
       "1991-01-01     11\n",
       "1926-01-01     10\n",
       "1977-01-01     10\n",
       "1920-01-01     10\n",
       "1997-01-01      8\n",
       "1925-01-01      7\n",
       "1918-01-01      7\n",
       "1927-01-01      5\n",
       "1924-01-01      4\n",
       "1922-01-01      4\n",
       "Name: YearPublished, dtype: int64"
      ]
     },
     "execution_count": 115,
     "metadata": {},
     "output_type": "execute_result"
    }
   ],
   "source": [
    "WDmissingPerson[\"YearPublished\"].value_counts()"
   ]
  },
  {
   "cell_type": "code",
   "execution_count": 116,
   "metadata": {},
   "outputs": [
    {
     "name": "stdout",
     "output_type": "stream",
     "text": [
      "End run:  2022-06-09 22:43:45.802968\n"
     ]
    }
   ],
   "source": [
    "print(\"End run: \", datetime.now())"
   ]
  },
  {
   "cell_type": "code",
   "execution_count": 117,
   "metadata": {},
   "outputs": [],
   "source": [
    "#Släkt \n",
    "#WDSlakt = WDSBLonly[~WDSBLonly.titel.str.contains(\"släkt\")].copy"
   ]
  },
  {
   "cell_type": "code",
   "execution_count": 118,
   "metadata": {},
   "outputs": [],
   "source": [
    "WDSlakt = WDSBLonly[WDSBLonly.titel.str.contains(\"släkt\")]"
   ]
  },
  {
   "cell_type": "code",
   "execution_count": 119,
   "metadata": {},
   "outputs": [
    {
     "name": "stdout",
     "output_type": "stream",
     "text": [
      "<class 'pandas.core.frame.DataFrame'>\n",
      "Int64Index: 1688 entries, 7628 to 10202\n",
      "Data columns (total 12 columns):\n",
      " #   Column         Non-Null Count  Dtype         \n",
      "---  ------         --------------  -----         \n",
      " 0   wid            0 non-null      object        \n",
      " 1   SBLnr          1688 non-null   int64         \n",
      " 2   gender         0 non-null      object        \n",
      " 3   genderLabel    0 non-null      object        \n",
      " 4   SBLlength      1688 non-null   int64         \n",
      " 5   titel          1688 non-null   object        \n",
      " 6   Fodd           0 non-null      object        \n",
      " 7   Dod            0 non-null      object        \n",
      " 8   Band           1688 non-null   object        \n",
      " 9   YearPublished  1686 non-null   datetime64[ns]\n",
      " 10  url            1688 non-null   object        \n",
      " 11  _merge         1688 non-null   object        \n",
      "dtypes: datetime64[ns](1), int64(2), object(9)\n",
      "memory usage: 171.4+ KB\n"
     ]
    }
   ],
   "source": [
    "WDSlakt.info()"
   ]
  },
  {
   "cell_type": "code",
   "execution_count": 120,
   "metadata": {},
   "outputs": [],
   "source": [
    "#Need a workaround as pandas to_csv dont work ?!?!?\n",
    "#for  index,row in WDSlakt.iterrows():\n",
    "#    print(row[\"SBLnr\"],row[\"titel\"],row[\"Year\"],row[\"url\"])    \n",
    "#    print(row[\"SBLnr\"],\"|\",row[\"titel\"],\"|\",row[\"Year\"])  "
   ]
  },
  {
   "cell_type": "markdown",
   "metadata": {},
   "source": [
    "List produced also on [GIST](https://gist.github.com/salgo60/31e0c4bf6f075c373fb5bbfb6cc807c6#gistcomment-3457126) "
   ]
  },
  {
   "cell_type": "markdown",
   "metadata": {},
   "source": [
    "### Estimate published articles male/female /family\n"
   ]
  },
  {
   "cell_type": "code",
   "execution_count": 121,
   "metadata": {},
   "outputs": [
    {
     "name": "stdout",
     "output_type": "stream",
     "text": [
      "<class 'pandas.core.frame.DataFrame'>\n",
      "Int64Index: 10212 entries, 0 to 10211\n",
      "Data columns (total 12 columns):\n",
      " #   Column         Non-Null Count  Dtype         \n",
      "---  ------         --------------  -----         \n",
      " 0   wid            7628 non-null   object        \n",
      " 1   SBLnr          10212 non-null  int64         \n",
      " 2   gender         7628 non-null   object        \n",
      " 3   genderLabel    7628 non-null   object        \n",
      " 4   SBLlength      10212 non-null  int64         \n",
      " 5   titel          10212 non-null  object        \n",
      " 6   Fodd           7117 non-null   object        \n",
      " 7   Dod            7603 non-null   object        \n",
      " 8   Band           10212 non-null  object        \n",
      " 9   YearPublished  10150 non-null  datetime64[ns]\n",
      " 10  url            10212 non-null  object        \n",
      " 11  _merge         10212 non-null  object        \n",
      "dtypes: datetime64[ns](1), int64(2), object(9)\n",
      "memory usage: 1.0+ MB\n"
     ]
    }
   ],
   "source": [
    "dfmerge.info()"
   ]
  },
  {
   "cell_type": "code",
   "execution_count": 122,
   "metadata": {},
   "outputs": [],
   "source": [
    "personSBL = dfmerge[~dfmerge['wid'].isnull()] "
   ]
  },
  {
   "cell_type": "code",
   "execution_count": 123,
   "metadata": {},
   "outputs": [
    {
     "name": "stdout",
     "output_type": "stream",
     "text": [
      "<class 'pandas.core.frame.DataFrame'>\n",
      "Int64Index: 7628 entries, 0 to 7627\n",
      "Data columns (total 12 columns):\n",
      " #   Column         Non-Null Count  Dtype         \n",
      "---  ------         --------------  -----         \n",
      " 0   wid            7628 non-null   object        \n",
      " 1   SBLnr          7628 non-null   int64         \n",
      " 2   gender         7628 non-null   object        \n",
      " 3   genderLabel    7628 non-null   object        \n",
      " 4   SBLlength      7628 non-null   int64         \n",
      " 5   titel          7628 non-null   object        \n",
      " 6   Fodd           7109 non-null   object        \n",
      " 7   Dod            7587 non-null   object        \n",
      " 8   Band           7628 non-null   object        \n",
      " 9   YearPublished  7596 non-null   datetime64[ns]\n",
      " 10  url            7628 non-null   object        \n",
      " 11  _merge         7628 non-null   object        \n",
      "dtypes: datetime64[ns](1), int64(2), object(9)\n",
      "memory usage: 774.7+ KB\n"
     ]
    }
   ],
   "source": [
    "personSBL.info()"
   ]
  },
  {
   "cell_type": "code",
   "execution_count": 137,
   "metadata": {},
   "outputs": [
    {
     "data": {
      "image/png": "[encoded data removed]",
      "text/plain": [
       "<Figure size 1080x504 with 1 Axes>"
      ]
     },
     "metadata": {
      "needs_background": "light"
     },
     "output_type": "display_data"
    }
   ],
   "source": [
    "fig = plt.subplots(figsize=(15,7))\n",
    "plotSBLGender = personSBL.groupby([\"genderLabel\", \"YearPublished\"]).size()\n",
    "#plotSBLGender  \n",
    "plotSBLGender.plot( kind = 'bar', color=['g'],) \n",
    "plt.show()"
   ]
  },
  {
   "cell_type": "code",
   "execution_count": 149,
   "metadata": {},
   "outputs": [
    {
     "name": "stdout",
     "output_type": "stream",
     "text": [
      "<class 'pandas.core.frame.DataFrame'>\n",
      "Int64Index: 7628 entries, 0 to 7627\n",
      "Data columns (total 12 columns):\n",
      " #   Column         Non-Null Count  Dtype         \n",
      "---  ------         --------------  -----         \n",
      " 0   wid            7628 non-null   object        \n",
      " 1   SBLnr          7628 non-null   int64         \n",
      " 2   gender         7628 non-null   object        \n",
      " 3   genderLabel    7628 non-null   object        \n",
      " 4   SBLlength      7628 non-null   int64         \n",
      " 5   titel          7628 non-null   object        \n",
      " 6   Fodd           7109 non-null   object        \n",
      " 7   Dod            7587 non-null   object        \n",
      " 8   Band           7628 non-null   object        \n",
      " 9   YearPublished  7596 non-null   datetime64[ns]\n",
      " 10  url            7628 non-null   object        \n",
      " 11  _merge         7628 non-null   object        \n",
      "dtypes: datetime64[ns](1), int64(2), object(9)\n",
      "memory usage: 774.7+ KB\n"
     ]
    }
   ],
   "source": [
    "#plotSBLGender = personSBL.groupby([\"genderLabel\", \"YearPublished\"]).size()\n",
    "personSBL.info()\n",
    "#plotSBLGender.pivot(\"genderLabel\", \"YearPublished\")"
   ]
  },
  {
   "cell_type": "code",
   "execution_count": null,
   "metadata": {},
   "outputs": [],
   "source": []
  },
  {
   "cell_type": "code",
   "execution_count": null,
   "metadata": {},
   "outputs": [],
   "source": []
  },
  {
   "cell_type": "code",
   "execution_count": 136,
   "metadata": {},
   "outputs": [
    {
     "data": {
      "text/html": [
       "<div>\n",
       "<style scoped>\n",
       "    .dataframe tbody tr th:only-of-type {\n",
       "        vertical-align: middle;\n",
       "    }\n",
       "\n",
       "    .dataframe tbody tr th {\n",
       "        vertical-align: top;\n",
       "    }\n",
       "\n",
       "    .dataframe thead th {\n",
       "        text-align: right;\n",
       "    }\n",
       "</style>\n",
       "<table border=\"1\" class=\"dataframe\">\n",
       "  <thead>\n",
       "    <tr style=\"text-align: right;\">\n",
       "      <th>YearPublished</th>\n",
       "      <th>1918-01-01</th>\n",
       "      <th>1920-01-01</th>\n",
       "      <th>1922-01-01</th>\n",
       "      <th>1924-01-01</th>\n",
       "      <th>1925-01-01</th>\n",
       "      <th>1926-01-01</th>\n",
       "      <th>1927-01-01</th>\n",
       "      <th>1929-01-01</th>\n",
       "      <th>1931-01-01</th>\n",
       "      <th>1945-01-01</th>\n",
       "      <th>...</th>\n",
       "      <th>1989-01-01</th>\n",
       "      <th>1991-01-01</th>\n",
       "      <th>1994-01-01</th>\n",
       "      <th>1997-01-01</th>\n",
       "      <th>2000-01-01</th>\n",
       "      <th>2002-01-01</th>\n",
       "      <th>2006-01-01</th>\n",
       "      <th>2011-01-01</th>\n",
       "      <th>2019-01-01</th>\n",
       "      <th>2021-01-01</th>\n",
       "    </tr>\n",
       "    <tr>\n",
       "      <th>genderLabel</th>\n",
       "      <th></th>\n",
       "      <th></th>\n",
       "      <th></th>\n",
       "      <th></th>\n",
       "      <th></th>\n",
       "      <th></th>\n",
       "      <th></th>\n",
       "      <th></th>\n",
       "      <th></th>\n",
       "      <th></th>\n",
       "      <th></th>\n",
       "      <th></th>\n",
       "      <th></th>\n",
       "      <th></th>\n",
       "      <th></th>\n",
       "      <th></th>\n",
       "      <th></th>\n",
       "      <th></th>\n",
       "      <th></th>\n",
       "      <th></th>\n",
       "      <th></th>\n",
       "    </tr>\n",
       "  </thead>\n",
       "  <tbody>\n",
       "    <tr>\n",
       "      <th>kvinna</th>\n",
       "      <td>17.0</td>\n",
       "      <td>12.0</td>\n",
       "      <td>8.0</td>\n",
       "      <td>5.0</td>\n",
       "      <td>16.0</td>\n",
       "      <td>16.0</td>\n",
       "      <td>16.0</td>\n",
       "      <td>6.0</td>\n",
       "      <td>14.0</td>\n",
       "      <td>9.0</td>\n",
       "      <td>...</td>\n",
       "      <td>13.0</td>\n",
       "      <td>20.0</td>\n",
       "      <td>14.0</td>\n",
       "      <td>23.0</td>\n",
       "      <td>15.0</td>\n",
       "      <td>19.0</td>\n",
       "      <td>21.0</td>\n",
       "      <td>19.0</td>\n",
       "      <td>29.0</td>\n",
       "      <td>NaN</td>\n",
       "    </tr>\n",
       "    <tr>\n",
       "      <th>man</th>\n",
       "      <td>255.0</td>\n",
       "      <td>243.0</td>\n",
       "      <td>214.0</td>\n",
       "      <td>188.0</td>\n",
       "      <td>180.0</td>\n",
       "      <td>188.0</td>\n",
       "      <td>181.0</td>\n",
       "      <td>138.0</td>\n",
       "      <td>251.0</td>\n",
       "      <td>203.0</td>\n",
       "      <td>...</td>\n",
       "      <td>228.0</td>\n",
       "      <td>203.0</td>\n",
       "      <td>213.0</td>\n",
       "      <td>222.0</td>\n",
       "      <td>179.0</td>\n",
       "      <td>150.0</td>\n",
       "      <td>141.0</td>\n",
       "      <td>146.0</td>\n",
       "      <td>165.0</td>\n",
       "      <td>1.0</td>\n",
       "    </tr>\n",
       "    <tr>\n",
       "      <th>transman</th>\n",
       "      <td>NaN</td>\n",
       "      <td>NaN</td>\n",
       "      <td>NaN</td>\n",
       "      <td>NaN</td>\n",
       "      <td>NaN</td>\n",
       "      <td>NaN</td>\n",
       "      <td>NaN</td>\n",
       "      <td>NaN</td>\n",
       "      <td>NaN</td>\n",
       "      <td>NaN</td>\n",
       "      <td>...</td>\n",
       "      <td>NaN</td>\n",
       "      <td>NaN</td>\n",
       "      <td>NaN</td>\n",
       "      <td>NaN</td>\n",
       "      <td>NaN</td>\n",
       "      <td>NaN</td>\n",
       "      <td>NaN</td>\n",
       "      <td>NaN</td>\n",
       "      <td>1.0</td>\n",
       "      <td>NaN</td>\n",
       "    </tr>\n",
       "  </tbody>\n",
       "</table>\n",
       "<p>3 rows × 34 columns</p>\n",
       "</div>"
      ],
      "text/plain": [
       "YearPublished  1918-01-01  1920-01-01  1922-01-01  1924-01-01  1925-01-01  \\\n",
       "genderLabel                                                                 \n",
       "kvinna               17.0        12.0         8.0         5.0        16.0   \n",
       "man                 255.0       243.0       214.0       188.0       180.0   \n",
       "transman              NaN         NaN         NaN         NaN         NaN   \n",
       "\n",
       "YearPublished  1926-01-01  1927-01-01  1929-01-01  1931-01-01  1945-01-01  \\\n",
       "genderLabel                                                                 \n",
       "kvinna               16.0        16.0         6.0        14.0         9.0   \n",
       "man                 188.0       181.0       138.0       251.0       203.0   \n",
       "transman              NaN         NaN         NaN         NaN         NaN   \n",
       "\n",
       "YearPublished  ...  1989-01-01  1991-01-01  1994-01-01  1997-01-01  \\\n",
       "genderLabel    ...                                                   \n",
       "kvinna         ...        13.0        20.0        14.0        23.0   \n",
       "man            ...       228.0       203.0       213.0       222.0   \n",
       "transman       ...         NaN         NaN         NaN         NaN   \n",
       "\n",
       "YearPublished  2000-01-01  2002-01-01  2006-01-01  2011-01-01  2019-01-01  \\\n",
       "genderLabel                                                                 \n",
       "kvinna               15.0        19.0        21.0        19.0        29.0   \n",
       "man                 179.0       150.0       141.0       146.0       165.0   \n",
       "transman              NaN         NaN         NaN         NaN         1.0   \n",
       "\n",
       "YearPublished  2021-01-01  \n",
       "genderLabel                \n",
       "kvinna                NaN  \n",
       "man                   1.0  \n",
       "transman              NaN  \n",
       "\n",
       "[3 rows x 34 columns]"
      ]
     },
     "execution_count": 136,
     "metadata": {},
     "output_type": "execute_result"
    }
   ],
   "source": [
    "plotSBLGender.unstack()"
   ]
  },
  {
   "cell_type": "code",
   "execution_count": 129,
   "metadata": {},
   "outputs": [
    {
     "name": "stdout",
     "output_type": "stream",
     "text": [
      "Ended:  2022-06-09 22:44:56.834373\n",
      "Time elapsed (hh:mm:ss.ms) 1:19:32.664877\n"
     ]
    }
   ],
   "source": [
    "end = datetime.now()\n",
    "print(\"Ended: \", end) \n",
    "print('Time elapsed (hh:mm:ss.ms) {}'.format(datetime.now() - startdate))"
   ]
  },
  {
   "cell_type": "code",
   "execution_count": null,
   "metadata": {},
   "outputs": [],
   "source": []
  }
 ],
 "metadata": {
  "kernelspec": {
   "display_name": "Python 3",
   "language": "python",
   "name": "python3"
  },
  "language_info": {
   "codemirror_mode": {
    "name": "ipython",
    "version": 3
   },
   "file_extension": ".py",
   "mimetype": "text/x-python",
   "name": "python",
   "nbconvert_exporter": "python",
   "pygments_lexer": "ipython3",
   "version": "3.9.13"
  }
 },
 "nbformat": 4,
 "nbformat_minor": 4
}
