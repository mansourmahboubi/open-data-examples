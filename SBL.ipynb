{
 "cells": [
  {
   "cell_type": "markdown",
   "metadata": {},
   "source": [
    "## Riksarkivet SBL  - Wikidata ett försök att synka dom\n",
    "version 0.46 this [notebook](https://github.com/salgo60/open-data-examples/blob/master/SBL.ipynb)\n",
    "\n",
    "WD egenskap [Property:P3217](https://www.wikidata.org/wiki/Property:P3217) \n",
    "* SBL personartiklar som saknar [sv:Wikipedia artikel](https://w.wiki/c5f) < 150\n",
    "* [SBL vs SKBL female articles](https://github.com/salgo60/open-data-examples/blob/master/Svenskt%20Kvinnobiografiskt%20lexikon%20part%203.ipynb)  \n",
    "\n",
    "#### Andra källor vi synkar\n",
    "* [Litteraturbanken](https://github.com/salgo60/open-data-examples/blob/master/Litteraturbanken%20Author.ipynb)\n",
    "* [Nobelprize.org](https://github.com/salgo60/open-data-examples/blob/master/Nobel%20API.ipynb)\n",
    "* [SBL](https://github.com/salgo60/open-data-examples/blob/master/SBL.ipynb)\n",
    "* [SKBL](https://github.com/salgo60/open-data-examples/blob/master/Svenskt%20Kvinnobiografiskt%20lexikon%20part%203.ipynb)  \n",
    "\n",
    "### SBL\n",
    "SBL har idag\n",
    "* personartiklar\n",
    "* släktartiklar\n",
    "  * en person i en släktartikel kan ha en sida som bara pekar till släktartikeln (med text ej alltid länk)\n",
    "\n",
    "Det saknas idag från Riksarkivet ett API så nedanstående är ett försök att webscrapa deras data och sedan försöka hitta en struktur. \n",
    "\n",
    "Målsättningen är att ha personerna som har en SBL personartikel representerade i Wikidata. Kul vore att även ha släktartiklarna kopplade till Wikidata... är inte säkert hur bra strukturen är för släkter/ätter/familjer i WD och sedan behövs det matchas en hel del. En person kan även omnämnas i en släktartikel och bör då i Wikidata ha \"beskriven av källa\" kopplad till dessa artiklar (exempel Gunnar Mossing [Q5994570#P1343](https://www.wikidata.org/wiki/Q5994570#P1343) som finns i artikel SBL [\"Morssing, släkt\"](https://sok.riksarkivet.se/sbl/Presentation.aspx?id=9512)) vilket är ett mycket stort jobb om Riksarkivet inte går över till att leverera [länkade data](https://sv.wikipedia.org/wiki/L%C3%A4nkade_data)...     \n",
    "\n",
    "**Mina gissningar** \n",
    "1. sida med född/död är en person\n",
    "2. sida med titel släkt är en släktartikel\n",
    "3. sida med född/död men för kort kan vara en referens till en släktartikel\n",
    "4. släkt artikel kan ha \"[ätt](https://sok.riksarkivet.se/sbl/Search.aspx?t=0)\" i titeln men det kan visst även person artiklar ha\n",
    "5. ....\n",
    "\n",
    "### jmf SKBL med SBL \n",
    "med ett mera komplett Wikidata kan vi nu jämföra [Svenskt Kvinnobiografiskt lexikon - SKBL](https://www.skbl.se/sv/om-skbl) med [Riksarkivet](https://sok.riksarkivet.se/sbl/OmSBL.aspx) då det gäller urval av kvinnor, antal kvinnor, hur dom levererar, API vs. inte API, skillnaden att ha enbart svenska artiklar som SBL med att även ha [engelska artiklar som SKBL](https://www.skbl.se/en/about-skbl) \n",
    "\n",
    "* [Notebook](https://github.com/salgo60/open-data-examples/blob/master/Svenskt%20Kvinnobiografiskt%20lexikon%20part%203.ipynb)\n",
    "\n",
    "# Webscrape \n",
    "1. vi gissar id min 4000 och max 40000\n"
   ]
  },
  {
   "cell_type": "code",
   "execution_count": 1,
   "metadata": {},
   "outputs": [
    {
     "name": "stdout",
     "output_type": "stream",
     "text": [
      "Last run:  2020-09-17 06:49:48.910460\n"
     ]
    }
   ],
   "source": [
    "from datetime import datetime\n",
    "now = datetime.now()\n",
    "print(\"Last run: \", now)"
   ]
  },
  {
   "cell_type": "code",
   "execution_count": 2,
   "metadata": {},
   "outputs": [
    {
     "data": {
      "application/vnd.jupyter.widget-view+json": {
       "model_id": "2a77d2a44c764be5bc4b8327f0184721",
       "version_major": 2,
       "version_minor": 0
      },
      "text/plain": [
       "HBox(children=(FloatProgress(value=0.0, max=36000.0), HTML(value='')))"
      ]
     },
     "metadata": {},
     "output_type": "display_data"
    },
    {
     "name": "stdout",
     "output_type": "stream",
     "text": [
      "\n",
      "10127  antal poster\n"
     ]
    }
   ],
   "source": [
    "import urllib3, json\n",
    "import pandas as pd   \n",
    "from bs4 import BeautifulSoup\n",
    "import sys\n",
    "import pprint\n",
    "http = urllib3.PoolManager()\n",
    "\n",
    "from tqdm.notebook import trange  \n",
    "listNewItems =[]\n",
    "\n",
    "for SBLnr in trange(4000,40000): #gissar min 4000 max 40000\n",
    "    url = \"https://sok.riksarkivet.se/sbl/Presentation.aspx?id=\" + str(SBLnr)\n",
    "    r = http.request('GET', url) \n",
    "    if len(r.data) > 11020:\n",
    "        new_item = dict()\n",
    "        #print(SBLnr)\n",
    "        new_item['SBLnr'] = SBLnr\n",
    "        new_item['SBLlength'] = len(r.data)\n",
    "        soup = BeautifulSoup(r.data, \"html.parser\")  \n",
    "        \n",
    "        try:\n",
    "            titel = soup.findAll(\"span\", {\"id\": \"ctl00_MainContent_lblTitle\"})[0].get_text()\n",
    "            new_item['titel'] = titel\n",
    "            #print (\"\\t\",titel)\n",
    "        except:\n",
    "            pass\n",
    "        try:\n",
    "            Fodd = soup.findAll(\"span\", {\"id\": \"ctl00_MainContent_lblFodelse\"})[0].get_text()\n",
    "            #print (\"\\t\",Fodd)\n",
    "            new_item['Fodd'] = Fodd\n",
    "        except:\n",
    "            pass\n",
    "        try:\n",
    "            Dod = soup.findAll(\"span\", {\"id\": \"ctl00_MainContent_lblDod\"})[0].get_text()\n",
    "            #print (\"\\t\",Dod)\n",
    "            new_item['Dod'] = Dod\n",
    "        except:\n",
    "            pass\n",
    "        try:\n",
    "            band = soup.findAll(\"span\", {\"id\": \"ctl00_MainContent_lblBandSida\"})[0].get_text()\n",
    "            #print (\"\\t\",band)\n",
    "            new_item['Band'] = band\n",
    "            try:\n",
    "#                year = band.get_text().split(\"(\")[1].split(\")\")\n",
    "                year = band.split(\"(\")[1].split(\")\")[0]\n",
    "                #print (\"\\t\\tYear\",year)\n",
    "                new_item['Year'] = year\n",
    "            except:\n",
    "                pass\n",
    "        except:\n",
    "            pass\n",
    "            \n",
    "        listNewItems.append(new_item)\n",
    "print (len(listNewItems) ,\" antal poster\")\n",
    "        \n"
   ]
  },
  {
   "cell_type": "code",
   "execution_count": 3,
   "metadata": {},
   "outputs": [],
   "source": [
    "import csv\n",
    "if len(listNewItems) > 0:\n",
    "    keys = listNewItems[0].keys()\n",
    "    with open(\"SBL_newfile.csv\", \"w\", newline='') as SBLfile:\n",
    "        dict_writer = csv.DictWriter(SBLfile, keys)\n",
    "        dict_writer.writeheader()\n",
    "        dict_writer.writerows(listNewItems)\n",
    "\n",
    "    dfSBLcsv = pd.read_csv(\"SBL_newfile.csv\", sep=\",\")   \n",
    "    \n",
    "else:\n",
    "    print (\"Ingen fil skapas inga nya poster\") "
   ]
  },
  {
   "cell_type": "code",
   "execution_count": 4,
   "metadata": {},
   "outputs": [],
   "source": [
    "pd.set_option(\"display.max.rows\", None) "
   ]
  },
  {
   "cell_type": "code",
   "execution_count": 5,
   "metadata": {},
   "outputs": [
    {
     "name": "stdout",
     "output_type": "stream",
     "text": [
      "<class 'pandas.core.frame.DataFrame'>\n",
      "RangeIndex: 10127 entries, 0 to 10126\n",
      "Data columns (total 7 columns):\n",
      " #   Column     Non-Null Count  Dtype \n",
      "---  ------     --------------  ----- \n",
      " 0   SBLnr      10127 non-null  int64 \n",
      " 1   SBLlength  10127 non-null  int64 \n",
      " 2   titel      10127 non-null  object\n",
      " 3   Fodd       7081 non-null   object\n",
      " 4   Dod        7563 non-null   object\n",
      " 5   Band       10127 non-null  object\n",
      " 6   Year       10111 non-null  object\n",
      "dtypes: int64(2), object(5)\n",
      "memory usage: 553.9+ KB\n"
     ]
    }
   ],
   "source": [
    "dfSBLcsv.info()  "
   ]
  },
  {
   "cell_type": "markdown",
   "metadata": {},
   "source": [
    "## Wikidata hämtar alla med P3217 satt \n",
    "dvs. även släkt kopplingar"
   ]
  },
  {
   "cell_type": "code",
   "execution_count": 176,
   "metadata": {},
   "outputs": [],
   "source": [
    "from SPARQLWrapper import SPARQLWrapper, JSON\n",
    "\n",
    "endpoint_url = \"https://query.wikidata.org/sparql\"\n",
    "\n",
    "#https://w.wiki/cvY\n",
    "querySBL = \"\"\"SELECT (REPLACE(STR(?item), \".*Q\", \"Q\") AS ?wid)  ?sblid ?gender ?genderLabel WHERE {\n",
    "?item wdt:P3217 ?sblid.\n",
    "?item wdt:P31 wd:Q5.\n",
    "optional {?item wdt:P21 ?gender}\n",
    "SERVICE wikibase:label { bd:serviceParam wikibase:language \"sv,en\". }  \n",
    "}\"\"\"\n",
    "\n",
    "def get_sparql_dataframe(endpoint_url, query):\n",
    "    \"\"\"\n",
    "    Helper function to convert SPARQL results into a Pandas data frame.\n",
    "    \"\"\"\n",
    "    user_agent = \"salgo60/%s.%s\" % (sys.version_info[0], sys.version_info[1])\n",
    " \n",
    "    sparql = SPARQLWrapper(endpoint_url, agent=user_agent)\n",
    "    sparql.setQuery(query)\n",
    "    sparql.setReturnFormat(JSON)\n",
    "    result = sparql.query()\n",
    "\n",
    "    processed_results = json.load(result.response)\n",
    "    cols = processed_results['head']['vars']\n",
    "\n",
    "    out = []\n",
    "    for row in processed_results['results']['bindings']:\n",
    "        item = []\n",
    "        for c in cols:\n",
    "            item.append(row.get(c, {}).get('value'))\n",
    "        out.append(item)\n",
    "\n",
    "    return pd.DataFrame(out, columns=cols)\n",
    "\n",
    "WDSBLtot = get_sparql_dataframe(endpoint_url, querySBL)\n"
   ]
  },
  {
   "cell_type": "code",
   "execution_count": 177,
   "metadata": {},
   "outputs": [],
   "source": [
    "WDSBLtot.sort_index(inplace=True)  "
   ]
  },
  {
   "cell_type": "code",
   "execution_count": 178,
   "metadata": {},
   "outputs": [
    {
     "name": "stdout",
     "output_type": "stream",
     "text": [
      "<class 'pandas.core.frame.DataFrame'>\n",
      "RangeIndex: 7599 entries, 0 to 7598\n",
      "Data columns (total 4 columns):\n",
      " #   Column       Non-Null Count  Dtype \n",
      "---  ------       --------------  ----- \n",
      " 0   wid          7599 non-null   object\n",
      " 1   sblid        7599 non-null   object\n",
      " 2   gender       7599 non-null   object\n",
      " 3   genderLabel  7599 non-null   object\n",
      "dtypes: object(4)\n",
      "memory usage: 237.6+ KB\n"
     ]
    }
   ],
   "source": [
    "WDSBLtot.info()"
   ]
  },
  {
   "cell_type": "code",
   "execution_count": 179,
   "metadata": {},
   "outputs": [],
   "source": [
    "%matplotlib inline    \n",
    "import matplotlib.pyplot as plt   \n",
    "plotSBLYearBand = dfSBLcsv[\"Year\"].value_counts()\n"
   ]
  },
  {
   "cell_type": "code",
   "execution_count": 180,
   "metadata": {},
   "outputs": [
    {
     "data": {
      "image/png": "[encoded data removed]",
      "text/plain": [
       "<Figure size 432x288 with 1 Axes>"
      ]
     },
     "metadata": {
      "needs_background": "light"
     },
     "output_type": "display_data"
    }
   ],
   "source": [
    "plotSBLYearBand.plot( kind = 'bar') \n",
    "plt.title(\"SBL artiklar publiserade per Bok/Band\")\n",
    "plt.show()"
   ]
  },
  {
   "cell_type": "code",
   "execution_count": 299,
   "metadata": {},
   "outputs": [
    {
     "data": {
      "image/png": "[encoded data removed]",
      "text/plain": [
       "<Figure size 1080x504 with 1 Axes>"
      ]
     },
     "metadata": {
      "needs_background": "light"
     },
     "output_type": "display_data"
    }
   ],
   "source": [
    "import matplotlib.dates as mdates  \n",
    "dfSBLcsv.set_index('YearPublished',inplace=True)  \n",
    "dfSBLcsv[\"YearPublished\"] = dfSBLcsv[\"Year\"].str[-4:] \n",
    "dfSBLcsv[\"YearPublished\"] = dfSBLcsv[\"YearPublished\"].astype(\"datetime64\")\n",
    "dfSBLcsv[\"YearPublished\"].dt.strftime('%Y')\n",
    "# set date as index\n",
    "fig, ax = plt.subplots(figsize=(15,7))\n",
    "years_fmt = mdates.DateFormatter('%M')\n",
    "ax.xaxis.set_major_formatter(years_fmt) \n",
    "\n",
    "#plotSBLYearPublished = dfSBLcsv[\"YearPublished\"].dt.year.value_counts().sort_index()\n",
    "plotSBLYearPublished = dfSBLcsv[\"YearPublished\"].dt.strftime(\"%Y\").value_counts().sort_index()\n",
    "plotSBLYearPublished.plot( kind = 'bar',ax=ax)   \n",
    "\n",
    "#set major ticks format\n",
    "#ax.xaxis_date()\n",
    "#ax.autoscale_view()\n",
    "#ax.xaxis.set_major_formatter(mdates.DateFormatter('%b %d'))\n",
    "plt.title(\"SBL articles published per Year 1918-2019\")\n",
    "plt.savefig('SBL_published_articles_1918-2018.png')  \n",
    "plt.show()  \n",
    "#plotSBLYearPublished.info"
   ]
  },
  {
   "cell_type": "code",
   "execution_count": 182,
   "metadata": {},
   "outputs": [
    {
     "name": "stdout",
     "output_type": "stream",
     "text": [
      "<class 'pandas.core.frame.DataFrame'>\n",
      "DatetimeIndex: 10127 entries, 1918-01-01 to 1924-01-01\n",
      "Data columns (total 9 columns):\n",
      " #   Column         Non-Null Count  Dtype         \n",
      "---  ------         --------------  -----         \n",
      " 0   SBLnr          10127 non-null  int64         \n",
      " 1   SBLlength      10127 non-null  int64         \n",
      " 2   titel          10127 non-null  object        \n",
      " 3   Fodd           7081 non-null   object        \n",
      " 4   Dod            7563 non-null   object        \n",
      " 5   Band           10127 non-null  object        \n",
      " 6   Year           10111 non-null  object        \n",
      " 7   url            10127 non-null  object        \n",
      " 8   YearPublished  10111 non-null  datetime64[ns]\n",
      "dtypes: datetime64[ns](1), int64(2), object(6)\n",
      "memory usage: 791.2+ KB\n"
     ]
    }
   ],
   "source": [
    "dfSBLcsv.info()a"
   ]
  },
  {
   "cell_type": "code",
   "execution_count": 183,
   "metadata": {},
   "outputs": [
    {
     "data": {
      "text/html": [
       "<div>\n",
       "<style scoped>\n",
       "    .dataframe tbody tr th:only-of-type {\n",
       "        vertical-align: middle;\n",
       "    }\n",
       "\n",
       "    .dataframe tbody tr th {\n",
       "        vertical-align: top;\n",
       "    }\n",
       "\n",
       "    .dataframe thead th {\n",
       "        text-align: right;\n",
       "    }\n",
       "</style>\n",
       "<table border=\"1\" class=\"dataframe\">\n",
       "  <thead>\n",
       "    <tr style=\"text-align: right;\">\n",
       "      <th></th>\n",
       "      <th>SBLnr</th>\n",
       "      <th>SBLlength</th>\n",
       "      <th>titel</th>\n",
       "      <th>Fodd</th>\n",
       "      <th>Dod</th>\n",
       "      <th>Band</th>\n",
       "      <th>Year</th>\n",
       "      <th>url</th>\n",
       "      <th>YearPublished</th>\n",
       "    </tr>\n",
       "    <tr>\n",
       "      <th>YearPublished</th>\n",
       "      <th></th>\n",
       "      <th></th>\n",
       "      <th></th>\n",
       "      <th></th>\n",
       "      <th></th>\n",
       "      <th></th>\n",
       "      <th></th>\n",
       "      <th></th>\n",
       "      <th></th>\n",
       "    </tr>\n",
       "  </thead>\n",
       "  <tbody>\n",
       "    <tr>\n",
       "      <th>1918-01-01</th>\n",
       "      <td>5490</td>\n",
       "      <td>12160</td>\n",
       "      <td>Abelin, släkt</td>\n",
       "      <td>NaN</td>\n",
       "      <td>NaN</td>\n",
       "      <td>Band 01 (1918), sida 1.</td>\n",
       "      <td>1918</td>\n",
       "      <td>https://sok.riksarkivet.se/sbl/Presentation.as...</td>\n",
       "      <td>1918-01-01</td>\n",
       "    </tr>\n",
       "    <tr>\n",
       "      <th>1918-01-01</th>\n",
       "      <td>5491</td>\n",
       "      <td>36851</td>\n",
       "      <td>Gustaf R Abelin</td>\n",
       "      <td>Född:1819-05-17 – Linköpings Domkyrkoförsamlin...</td>\n",
       "      <td>Död:1903-09-19 – Kvillinge församling, Östergö...</td>\n",
       "      <td>Band 01 (1918), sida 5.</td>\n",
       "      <td>1918</td>\n",
       "      <td>https://sok.riksarkivet.se/sbl/Presentation.as...</td>\n",
       "      <td>1918-01-01</td>\n",
       "    </tr>\n",
       "    <tr>\n",
       "      <th>1918-01-01</th>\n",
       "      <td>5492</td>\n",
       "      <td>46079</td>\n",
       "      <td>Hjalmar A Abelin</td>\n",
       "      <td>Född:1817-05-22 – Linköpings Domkyrkoförsamlin...</td>\n",
       "      <td>Död:1893-09-13 – Stockholms stad, Stockholms län</td>\n",
       "      <td>Band 01 (1918), sida 1.</td>\n",
       "      <td>1918</td>\n",
       "      <td>https://sok.riksarkivet.se/sbl/Presentation.as...</td>\n",
       "      <td>1918-01-01</td>\n",
       "    </tr>\n",
       "    <tr>\n",
       "      <th>1918-01-01</th>\n",
       "      <td>5493</td>\n",
       "      <td>23231</td>\n",
       "      <td>C Rudolf Z Abelin</td>\n",
       "      <td>Född:1864-05-30 – Malmö stad, Skåne län</td>\n",
       "      <td>Död:1961 – Västra Karups församling, Kristians...</td>\n",
       "      <td>Band 01 (1918), sida 9.</td>\n",
       "      <td>1918</td>\n",
       "      <td>https://sok.riksarkivet.se/sbl/Presentation.as...</td>\n",
       "      <td>1918-01-01</td>\n",
       "    </tr>\n",
       "    <tr>\n",
       "      <th>1918-01-01</th>\n",
       "      <td>5494</td>\n",
       "      <td>28942</td>\n",
       "      <td>P Wilhelm Abenius</td>\n",
       "      <td>Född:1864-05-21 – Orsa församling, Dalarnas län</td>\n",
       "      <td>Död:1956 – Ramsbergs församling, Örebro län</td>\n",
       "      <td>Band 01 (1918), sida 11.</td>\n",
       "      <td>1918</td>\n",
       "      <td>https://sok.riksarkivet.se/sbl/Presentation.as...</td>\n",
       "      <td>1918-01-01</td>\n",
       "    </tr>\n",
       "  </tbody>\n",
       "</table>\n",
       "</div>"
      ],
      "text/plain": [
       "               SBLnr  ...  YearPublished\n",
       "YearPublished         ...               \n",
       "1918-01-01      5490  ...     1918-01-01\n",
       "1918-01-01      5491  ...     1918-01-01\n",
       "1918-01-01      5492  ...     1918-01-01\n",
       "1918-01-01      5493  ...     1918-01-01\n",
       "1918-01-01      5494  ...     1918-01-01\n",
       "\n",
       "[5 rows x 9 columns]"
      ]
     },
     "execution_count": 183,
     "metadata": {},
     "output_type": "execute_result"
    }
   ],
   "source": [
    "dfSBLcsv.head()"
   ]
  },
  {
   "cell_type": "code",
   "execution_count": 184,
   "metadata": {},
   "outputs": [],
   "source": [
    "dfSBLcsv[\"url\"] = \"https://sok.riksarkivet.se/sbl/Presentation.aspx?id=\" + str(dfSBLcsv[\"SBLnr\"])"
   ]
  },
  {
   "cell_type": "code",
   "execution_count": 185,
   "metadata": {},
   "outputs": [],
   "source": [
    "#dfFamily = dfSBLAuthorcsv.dropna()  \n",
    "dfPerson = dfSBLcsv.dropna(subset = ['Fodd', 'Dod'])"
   ]
  },
  {
   "cell_type": "code",
   "execution_count": 186,
   "metadata": {},
   "outputs": [
    {
     "name": "stdout",
     "output_type": "stream",
     "text": [
      "<class 'pandas.core.frame.DataFrame'>\n",
      "DatetimeIndex: 7074 entries, 1918-01-01 to 2019-01-01\n",
      "Data columns (total 9 columns):\n",
      " #   Column         Non-Null Count  Dtype         \n",
      "---  ------         --------------  -----         \n",
      " 0   SBLnr          7074 non-null   int64         \n",
      " 1   SBLlength      7074 non-null   int64         \n",
      " 2   titel          7074 non-null   object        \n",
      " 3   Fodd           7074 non-null   object        \n",
      " 4   Dod            7074 non-null   object        \n",
      " 5   Band           7074 non-null   object        \n",
      " 6   Year           7073 non-null   object        \n",
      " 7   url            7074 non-null   object        \n",
      " 8   YearPublished  7073 non-null   datetime64[ns]\n",
      "dtypes: datetime64[ns](1), int64(2), object(6)\n",
      "memory usage: 552.7+ KB\n"
     ]
    }
   ],
   "source": [
    "dfPerson.info()"
   ]
  },
  {
   "cell_type": "markdown",
   "metadata": {},
   "source": [
    "### Join Wikidata\n",
    "as Wikidata we guess knows what articles are about a man and a women we can try merge "
   ]
  },
  {
   "cell_type": "code",
   "execution_count": 283,
   "metadata": {},
   "outputs": [
    {
     "name": "stdout",
     "output_type": "stream",
     "text": [
      "<class 'pandas.core.frame.DataFrame'>\n",
      "DatetimeIndex: 10127 entries, 1918-01-01 to 1924-01-01\n",
      "Data columns (total 9 columns):\n",
      " #   Column         Non-Null Count  Dtype         \n",
      "---  ------         --------------  -----         \n",
      " 0   SBLnr          10127 non-null  int64         \n",
      " 1   SBLlength      10127 non-null  int64         \n",
      " 2   titel          10127 non-null  object        \n",
      " 3   Fodd           7081 non-null   object        \n",
      " 4   Dod            7563 non-null   object        \n",
      " 5   Band           10127 non-null  object        \n",
      " 6   Year           10111 non-null  object        \n",
      " 7   url            10127 non-null  object        \n",
      " 8   YearPublished  10111 non-null  datetime64[ns]\n",
      "dtypes: datetime64[ns](1), int64(2), object(6)\n",
      "memory usage: 791.2+ KB\n"
     ]
    }
   ],
   "source": [
    "dfSBLcsv.info()"
   ]
  },
  {
   "cell_type": "code",
   "execution_count": 287,
   "metadata": {},
   "outputs": [
    {
     "name": "stdout",
     "output_type": "stream",
     "text": [
      "<class 'pandas.core.frame.DataFrame'>\n",
      "DatetimeIndex: 10127 entries, 1918-01-01 to 1924-01-01\n",
      "Data columns (total 9 columns):\n",
      " #   Column         Non-Null Count  Dtype         \n",
      "---  ------         --------------  -----         \n",
      " 0   SBLnr          10127 non-null  int64         \n",
      " 1   SBLlength      10127 non-null  int64         \n",
      " 2   titel          10127 non-null  object        \n",
      " 3   Fodd           7081 non-null   object        \n",
      " 4   Dod            7563 non-null   object        \n",
      " 5   Band           10127 non-null  object        \n",
      " 6   Year           10111 non-null  object        \n",
      " 7   url            10127 non-null  object        \n",
      " 8   YearPublished  10111 non-null  datetime64[ns]\n",
      "dtypes: datetime64[ns](1), int64(2), object(6)\n",
      "memory usage: 791.2+ KB\n"
     ]
    }
   ],
   "source": [
    "dfSBLcsv.info()"
   ]
  },
  {
   "cell_type": "code",
   "execution_count": 286,
   "metadata": {},
   "outputs": [
    {
     "name": "stdout",
     "output_type": "stream",
     "text": [
      "<class 'pandas.core.frame.DataFrame'>\n",
      "RangeIndex: 7599 entries, 0 to 7598\n",
      "Data columns (total 4 columns):\n",
      " #   Column       Non-Null Count  Dtype \n",
      "---  ------       --------------  ----- \n",
      " 0   wid          7599 non-null   object\n",
      " 1   SBLnr        7599 non-null   int64 \n",
      " 2   gender       7599 non-null   object\n",
      " 3   genderLabel  7599 non-null   object\n",
      "dtypes: int64(1), object(3)\n",
      "memory usage: 237.6+ KB\n"
     ]
    }
   ],
   "source": [
    "WDSBLtot.info()"
   ]
  },
  {
   "cell_type": "code",
   "execution_count": 289,
   "metadata": {},
   "outputs": [
    {
     "data": {
      "text/html": [
       "<div>\n",
       "<style scoped>\n",
       "    .dataframe tbody tr th:only-of-type {\n",
       "        vertical-align: middle;\n",
       "    }\n",
       "\n",
       "    .dataframe tbody tr th {\n",
       "        vertical-align: top;\n",
       "    }\n",
       "\n",
       "    .dataframe thead th {\n",
       "        text-align: right;\n",
       "    }\n",
       "</style>\n",
       "<table border=\"1\" class=\"dataframe\">\n",
       "  <thead>\n",
       "    <tr style=\"text-align: right;\">\n",
       "      <th></th>\n",
       "      <th>wid</th>\n",
       "      <th>SBLnr</th>\n",
       "      <th>gender</th>\n",
       "      <th>genderLabel</th>\n",
       "    </tr>\n",
       "  </thead>\n",
       "  <tbody>\n",
       "    <tr>\n",
       "      <th>0</th>\n",
       "      <td>Q15405</td>\n",
       "      <td>14482</td>\n",
       "      <td>http://www.wikidata.org/entity/Q6581097</td>\n",
       "      <td>man</td>\n",
       "    </tr>\n",
       "    <tr>\n",
       "      <th>1</th>\n",
       "      <td>Q154460</td>\n",
       "      <td>11768</td>\n",
       "      <td>http://www.wikidata.org/entity/Q6581097</td>\n",
       "      <td>man</td>\n",
       "    </tr>\n",
       "    <tr>\n",
       "      <th>2</th>\n",
       "      <td>Q320977</td>\n",
       "      <td>11661</td>\n",
       "      <td>http://www.wikidata.org/entity/Q6581097</td>\n",
       "      <td>man</td>\n",
       "    </tr>\n",
       "    <tr>\n",
       "      <th>3</th>\n",
       "      <td>Q322335</td>\n",
       "      <td>9430</td>\n",
       "      <td>http://www.wikidata.org/entity/Q6581097</td>\n",
       "      <td>man</td>\n",
       "    </tr>\n",
       "    <tr>\n",
       "      <th>4</th>\n",
       "      <td>Q343674</td>\n",
       "      <td>7317</td>\n",
       "      <td>http://www.wikidata.org/entity/Q6581097</td>\n",
       "      <td>man</td>\n",
       "    </tr>\n",
       "  </tbody>\n",
       "</table>\n",
       "</div>"
      ],
      "text/plain": [
       "       wid  SBLnr                                   gender genderLabel\n",
       "0   Q15405  14482  http://www.wikidata.org/entity/Q6581097         man\n",
       "1  Q154460  11768  http://www.wikidata.org/entity/Q6581097         man\n",
       "2  Q320977  11661  http://www.wikidata.org/entity/Q6581097         man\n",
       "3  Q322335   9430  http://www.wikidata.org/entity/Q6581097         man\n",
       "4  Q343674   7317  http://www.wikidata.org/entity/Q6581097         man"
      ]
     },
     "execution_count": 289,
     "metadata": {},
     "output_type": "execute_result"
    }
   ],
   "source": [
    "WDSBLtot.head()"
   ]
  },
  {
   "cell_type": "code",
   "execution_count": 290,
   "metadata": {},
   "outputs": [
    {
     "data": {
      "text/plain": [
       "man         7071\n",
       "kvinna       527\n",
       "transman       1\n",
       "Name: genderLabel, dtype: int64"
      ]
     },
     "execution_count": 290,
     "metadata": {},
     "output_type": "execute_result"
    }
   ],
   "source": [
    "WDSBLtot[\"genderLabel\"].value_counts()  "
   ]
  },
  {
   "cell_type": "code",
   "execution_count": 288,
   "metadata": {},
   "outputs": [
    {
     "data": {
      "text/plain": [
       "both           7599\n",
       "scrape_only    2531\n",
       "Name: WD_Webscrape, dtype: int64"
      ]
     },
     "execution_count": 288,
     "metadata": {},
     "output_type": "execute_result"
    }
   ],
   "source": [
    "#WDSBLtot plotSBLYearPublished  \n",
    "mergeWDSBLwebscrape = pd.merge(WDSBLtot, dfSBLcsv,how='outer',left_on='SBLnr', right_on='SBLnr',indicator=True)   \n",
    "mergeWDSBLwebscrape.rename(columns={\"_merge\": \"WD_Webscrape\"},inplace = True)\n",
    "mergeWDSBLwebscrape['WD_Webscrape'] = mergeWDSBLwebscrape['WD_Webscrape'].str.replace('left_only','WD_only').str.replace('right_only','scrape_only')\n",
    "mergeWDSBLwebscrape[\"WD_Webscrape\"].value_counts()  \n"
   ]
  },
  {
   "cell_type": "code",
   "execution_count": 304,
   "metadata": {},
   "outputs": [
    {
     "data": {
      "text/html": [
       "<div>\n",
       "<style scoped>\n",
       "    .dataframe tbody tr th:only-of-type {\n",
       "        vertical-align: middle;\n",
       "    }\n",
       "\n",
       "    .dataframe tbody tr th {\n",
       "        vertical-align: top;\n",
       "    }\n",
       "\n",
       "    .dataframe thead th {\n",
       "        text-align: right;\n",
       "    }\n",
       "</style>\n",
       "<table border=\"1\" class=\"dataframe\">\n",
       "  <thead>\n",
       "    <tr style=\"text-align: right;\">\n",
       "      <th></th>\n",
       "      <th>wid</th>\n",
       "      <th>SBLnr</th>\n",
       "      <th>gender</th>\n",
       "      <th>genderLabel</th>\n",
       "      <th>SBLlength</th>\n",
       "      <th>titel</th>\n",
       "      <th>Fodd</th>\n",
       "      <th>Dod</th>\n",
       "      <th>Band</th>\n",
       "      <th>Year</th>\n",
       "      <th>url</th>\n",
       "      <th>YearPublished</th>\n",
       "      <th>WD_Webscrape</th>\n",
       "    </tr>\n",
       "  </thead>\n",
       "  <tbody>\n",
       "    <tr>\n",
       "      <th>15</th>\n",
       "      <td>Q2576159</td>\n",
       "      <td>12455</td>\n",
       "      <td>http://www.wikidata.org/entity/Q6581072</td>\n",
       "      <td>kvinna</td>\n",
       "      <td>27433</td>\n",
       "      <td>A F Wilhelmina Hallwyl, von</td>\n",
       "      <td>Född:1844-10-01 – Tyska Sankta Gertruds försam...</td>\n",
       "      <td>Död:1930-07-25 – Tyska Sankta Gertruds församl...</td>\n",
       "      <td>Band 18 (1969-1971), sida 68.</td>\n",
       "      <td>1969-1971</td>\n",
       "      <td>https://sok.riksarkivet.se/sbl/Presentation.as...</td>\n",
       "      <td>1971-01-01</td>\n",
       "      <td>both</td>\n",
       "    </tr>\n",
       "    <tr>\n",
       "      <th>17</th>\n",
       "      <td>Q3355468</td>\n",
       "      <td>7869</td>\n",
       "      <td>http://www.wikidata.org/entity/Q6581072</td>\n",
       "      <td>kvinna</td>\n",
       "      <td>52985</td>\n",
       "      <td>Elise Ottesen-Jensen</td>\n",
       "      <td>Född:1886-01-02 – Norge (i Højland, Rogaland)</td>\n",
       "      <td>Död:1973-09-04 – Kungsholm eller Ulrika Eleono...</td>\n",
       "      <td>Band 28 (1992-1994), sida 450.</td>\n",
       "      <td>1992-1994</td>\n",
       "      <td>https://sok.riksarkivet.se/sbl/Presentation.as...</td>\n",
       "      <td>1994-01-01</td>\n",
       "      <td>both</td>\n",
       "    </tr>\n",
       "    <tr>\n",
       "      <th>21</th>\n",
       "      <td>Q4975387</td>\n",
       "      <td>6846</td>\n",
       "      <td>http://www.wikidata.org/entity/Q6581072</td>\n",
       "      <td>kvinna</td>\n",
       "      <td>84865</td>\n",
       "      <td>Mathilda L Roos</td>\n",
       "      <td>Född:1852-08-02 – Stockholms domkyrkoförsamlin...</td>\n",
       "      <td>Död:1908-07-17 – Danderyds församling, Stockho...</td>\n",
       "      <td>Band 30 (1998-2000), sida 339.</td>\n",
       "      <td>1998-2000</td>\n",
       "      <td>https://sok.riksarkivet.se/sbl/Presentation.as...</td>\n",
       "      <td>2000-01-01</td>\n",
       "      <td>both</td>\n",
       "    </tr>\n",
       "    <tr>\n",
       "      <th>106</th>\n",
       "      <td>Q444475</td>\n",
       "      <td>11967</td>\n",
       "      <td>http://www.wikidata.org/entity/Q6581072</td>\n",
       "      <td>kvinna</td>\n",
       "      <td>21697</td>\n",
       "      <td>Ingrid Elofsdotter</td>\n",
       "      <td>NaN</td>\n",
       "      <td>Död:1282-09-02 – Skänninge stad, Östergötlands...</td>\n",
       "      <td>Band 20 (1973-1975), sida 25.</td>\n",
       "      <td>1973-1975</td>\n",
       "      <td>https://sok.riksarkivet.se/sbl/Presentation.as...</td>\n",
       "      <td>1975-01-01</td>\n",
       "      <td>both</td>\n",
       "    </tr>\n",
       "    <tr>\n",
       "      <th>116</th>\n",
       "      <td>Q2482366</td>\n",
       "      <td>11769</td>\n",
       "      <td>http://www.wikidata.org/entity/Q6581072</td>\n",
       "      <td>kvinna</td>\n",
       "      <td>17658</td>\n",
       "      <td>Kristina</td>\n",
       "      <td>NaN</td>\n",
       "      <td>Död:levde 1158</td>\n",
       "      <td>Band 21 (1975-1977), sida 570.</td>\n",
       "      <td>1975-1977</td>\n",
       "      <td>https://sok.riksarkivet.se/sbl/Presentation.as...</td>\n",
       "      <td>1977-01-01</td>\n",
       "      <td>both</td>\n",
       "    </tr>\n",
       "  </tbody>\n",
       "</table>\n",
       "</div>"
      ],
      "text/plain": [
       "          wid  SBLnr  ... YearPublished WD_Webscrape\n",
       "15   Q2576159  12455  ...    1971-01-01         both\n",
       "17   Q3355468   7869  ...    1994-01-01         both\n",
       "21   Q4975387   6846  ...    2000-01-01         both\n",
       "106   Q444475  11967  ...    1975-01-01         both\n",
       "116  Q2482366  11769  ...    1977-01-01         both\n",
       "\n",
       "[5 rows x 13 columns]"
      ]
     },
     "execution_count": 304,
     "metadata": {},
     "output_type": "execute_result"
    }
   ],
   "source": [
    "dfWD_SBL_article = mergeWDSBLwebscrape[mergeWDSBLwebscrape.WD_Webscrape.str.contains(\"both\")]\n",
    "#dfWDSKBLarticle.YearPublished.dt.strftime(\"%Y\") \n",
    "#dfWDSKBLarticle.info()  \n",
    "dfWD_SBL_female_article = dfWD_SBL_article[dfWD_SBL_article.genderLabel.str.contains(\"kvinna\")]\n",
    "dfWD_SBL_female_article.head()  \n",
    "# Year genderLabel count"
   ]
  },
  {
   "cell_type": "code",
   "execution_count": 361,
   "metadata": {},
   "outputs": [
    {
     "data": {
      "image/png": "[encoded data removed]",
      "text/plain": [
       "<Figure size 1080x504 with 1 Axes>"
      ]
     },
     "metadata": {
      "needs_background": "light"
     },
     "output_type": "display_data"
    }
   ],
   "source": [
    "# set date as index\n",
    "fig = plt.subplots(figsize=(15,7))\n",
    "\n",
    "plotSBLYearFemailPublished = dfWD_SBL_female_article[\"YearPublished\"].dt.strftime(\"%Y\").value_counts().sort_index().plot(kind='bar', color=['red'])\n",
    "\n",
    "plt.title(\"SBL articles published per Year about women 1918-2019\")\n",
    "plt.savefig('SBL_published_articles_women_1918-2018.png')  \n",
    "plt.show()  \n",
    "#plotSBLYearPublished.info \n"
   ]
  },
  {
   "cell_type": "code",
   "execution_count": 365,
   "metadata": {},
   "outputs": [
    {
     "data": {
      "text/plain": [
       "2019    29\n",
       "2011    19\n",
       "2006    21\n",
       "2002    19\n",
       "2000    15\n",
       "1997    23\n",
       "1994    14\n",
       "1991    20\n",
       "1989    13\n",
       "1987    32\n",
       "1984    18\n",
       "1981    21\n",
       "1979    12\n",
       "1977    26\n",
       "1975    27\n",
       "1973    12\n",
       "1971    19\n",
       "1969    15\n",
       "1966    14\n",
       "1956     9\n",
       "1953     7\n",
       "1950    13\n",
       "1949    11\n",
       "1945     9\n",
       "1931    13\n",
       "1929     6\n",
       "1927    16\n",
       "1926    16\n",
       "1925    16\n",
       "1924     5\n",
       "1922     8\n",
       "1920    12\n",
       "1918    17\n",
       "Name: YearPublished, dtype: int64"
      ]
     },
     "execution_count": 365,
     "metadata": {},
     "output_type": "execute_result"
    }
   ],
   "source": [
    "dfWD_SBL_female_article[\"YearPublished\"].dt.strftime(\"%Y\").value_counts().sort_index(ascending=False)"
   ]
  },
  {
   "cell_type": "code",
   "execution_count": 356,
   "metadata": {},
   "outputs": [
    {
     "data": {
      "text/html": [
       "<div>\n",
       "<style scoped>\n",
       "    .dataframe tbody tr th:only-of-type {\n",
       "        vertical-align: middle;\n",
       "    }\n",
       "\n",
       "    .dataframe tbody tr th {\n",
       "        vertical-align: top;\n",
       "    }\n",
       "\n",
       "    .dataframe thead th {\n",
       "        text-align: right;\n",
       "    }\n",
       "</style>\n",
       "<table border=\"1\" class=\"dataframe\">\n",
       "  <thead>\n",
       "    <tr style=\"text-align: right;\">\n",
       "      <th></th>\n",
       "      <th>wid</th>\n",
       "      <th>SBLnr</th>\n",
       "      <th>gender</th>\n",
       "      <th>genderLabel</th>\n",
       "      <th>SBLlength</th>\n",
       "      <th>titel</th>\n",
       "      <th>Fodd</th>\n",
       "      <th>Dod</th>\n",
       "      <th>Band</th>\n",
       "      <th>Year</th>\n",
       "      <th>url</th>\n",
       "      <th>YearPublished</th>\n",
       "      <th>WD_Webscrape</th>\n",
       "    </tr>\n",
       "  </thead>\n",
       "  <tbody>\n",
       "    <tr>\n",
       "      <th>15</th>\n",
       "      <td>Q2576159</td>\n",
       "      <td>12455</td>\n",
       "      <td>http://www.wikidata.org/entity/Q6581072</td>\n",
       "      <td>kvinna</td>\n",
       "      <td>27433</td>\n",
       "      <td>A F Wilhelmina Hallwyl, von</td>\n",
       "      <td>Född:1844-10-01 – Tyska Sankta Gertruds försam...</td>\n",
       "      <td>Död:1930-07-25 – Tyska Sankta Gertruds församl...</td>\n",
       "      <td>Band 18 (1969-1971), sida 68.</td>\n",
       "      <td>1969-1971</td>\n",
       "      <td>https://sok.riksarkivet.se/sbl/Presentation.as...</td>\n",
       "      <td>1971-01-01</td>\n",
       "      <td>both</td>\n",
       "    </tr>\n",
       "    <tr>\n",
       "      <th>17</th>\n",
       "      <td>Q3355468</td>\n",
       "      <td>7869</td>\n",
       "      <td>http://www.wikidata.org/entity/Q6581072</td>\n",
       "      <td>kvinna</td>\n",
       "      <td>52985</td>\n",
       "      <td>Elise Ottesen-Jensen</td>\n",
       "      <td>Född:1886-01-02 – Norge (i Højland, Rogaland)</td>\n",
       "      <td>Död:1973-09-04 – Kungsholm eller Ulrika Eleono...</td>\n",
       "      <td>Band 28 (1992-1994), sida 450.</td>\n",
       "      <td>1992-1994</td>\n",
       "      <td>https://sok.riksarkivet.se/sbl/Presentation.as...</td>\n",
       "      <td>1994-01-01</td>\n",
       "      <td>both</td>\n",
       "    </tr>\n",
       "    <tr>\n",
       "      <th>21</th>\n",
       "      <td>Q4975387</td>\n",
       "      <td>6846</td>\n",
       "      <td>http://www.wikidata.org/entity/Q6581072</td>\n",
       "      <td>kvinna</td>\n",
       "      <td>84865</td>\n",
       "      <td>Mathilda L Roos</td>\n",
       "      <td>Född:1852-08-02 – Stockholms domkyrkoförsamlin...</td>\n",
       "      <td>Död:1908-07-17 – Danderyds församling, Stockho...</td>\n",
       "      <td>Band 30 (1998-2000), sida 339.</td>\n",
       "      <td>1998-2000</td>\n",
       "      <td>https://sok.riksarkivet.se/sbl/Presentation.as...</td>\n",
       "      <td>2000-01-01</td>\n",
       "      <td>both</td>\n",
       "    </tr>\n",
       "    <tr>\n",
       "      <th>106</th>\n",
       "      <td>Q444475</td>\n",
       "      <td>11967</td>\n",
       "      <td>http://www.wikidata.org/entity/Q6581072</td>\n",
       "      <td>kvinna</td>\n",
       "      <td>21697</td>\n",
       "      <td>Ingrid Elofsdotter</td>\n",
       "      <td>NaN</td>\n",
       "      <td>Död:1282-09-02 – Skänninge stad, Östergötlands...</td>\n",
       "      <td>Band 20 (1973-1975), sida 25.</td>\n",
       "      <td>1973-1975</td>\n",
       "      <td>https://sok.riksarkivet.se/sbl/Presentation.as...</td>\n",
       "      <td>1975-01-01</td>\n",
       "      <td>both</td>\n",
       "    </tr>\n",
       "    <tr>\n",
       "      <th>116</th>\n",
       "      <td>Q2482366</td>\n",
       "      <td>11769</td>\n",
       "      <td>http://www.wikidata.org/entity/Q6581072</td>\n",
       "      <td>kvinna</td>\n",
       "      <td>17658</td>\n",
       "      <td>Kristina</td>\n",
       "      <td>NaN</td>\n",
       "      <td>Död:levde 1158</td>\n",
       "      <td>Band 21 (1975-1977), sida 570.</td>\n",
       "      <td>1975-1977</td>\n",
       "      <td>https://sok.riksarkivet.se/sbl/Presentation.as...</td>\n",
       "      <td>1977-01-01</td>\n",
       "      <td>both</td>\n",
       "    </tr>\n",
       "  </tbody>\n",
       "</table>\n",
       "</div>"
      ],
      "text/plain": [
       "          wid  SBLnr  ... YearPublished WD_Webscrape\n",
       "15   Q2576159  12455  ...    1971-01-01         both\n",
       "17   Q3355468   7869  ...    1994-01-01         both\n",
       "21   Q4975387   6846  ...    2000-01-01         both\n",
       "106   Q444475  11967  ...    1975-01-01         both\n",
       "116  Q2482366  11769  ...    1977-01-01         both\n",
       "\n",
       "[5 rows x 13 columns]"
      ]
     },
     "execution_count": 356,
     "metadata": {},
     "output_type": "execute_result"
    }
   ],
   "source": [
    "dfWD_SBL_female_article.head()"
   ]
  },
  {
   "cell_type": "code",
   "execution_count": 350,
   "metadata": {},
   "outputs": [
    {
     "data": {
      "image/png": "[encoded data removed]",
      "text/plain": [
       "<Figure size 1080x504 with 1 Axes>"
      ]
     },
     "metadata": {
      "needs_background": "light"
     },
     "output_type": "display_data"
    }
   ],
   "source": [
    "fig = plt.subplots(figsize=(15,7))\n",
    "\n",
    "plotSBLYearFemailPublished = dfWD_SBL_female_article[\"YearPublished\"].dt.strftime(\"%Y\").value_counts().sort_index().plot(kind='bar', color=['red'])\n",
    "#plotSBLYearPublished = dfSBLcsv[\"YearPublished\"].dt.strftime(\"%Y\").value_counts().sort_index()\n",
    "plotSBLYearPublished.plot( kind = 'bar', color=['g']) \n",
    "plt.title(\"SBL articles published per Year all and women 1918-2019\")\n",
    "plt.savefig('SBL_published_articles_all_women_1918-2018.png')  \n",
    "plt.show()  "
   ]
  },
  {
   "cell_type": "code",
   "execution_count": 354,
   "metadata": {},
   "outputs": [
    {
     "name": "stdout",
     "output_type": "stream",
     "text": [
      "<class 'pandas.core.frame.DataFrame'>\n",
      "Int64Index: 7599 entries, 0 to 7598\n",
      "Data columns (total 13 columns):\n",
      " #   Column         Non-Null Count  Dtype         \n",
      "---  ------         --------------  -----         \n",
      " 0   wid            7599 non-null   object        \n",
      " 1   SBLnr          7599 non-null   int64         \n",
      " 2   gender         7599 non-null   object        \n",
      " 3   genderLabel    7599 non-null   object        \n",
      " 4   SBLlength      7599 non-null   int64         \n",
      " 5   titel          7599 non-null   object        \n",
      " 6   Fodd           7080 non-null   object        \n",
      " 7   Dod            7558 non-null   object        \n",
      " 8   Band           7599 non-null   object        \n",
      " 9   Year           7598 non-null   object        \n",
      " 10  url            7599 non-null   object        \n",
      " 11  YearPublished  7598 non-null   datetime64[ns]\n",
      " 12  WD_Webscrape   7599 non-null   object        \n",
      "dtypes: datetime64[ns](1), int64(2), object(10)\n",
      "memory usage: 831.1+ KB\n"
     ]
    },
    {
     "data": {
      "text/html": [
       "<div>\n",
       "<style scoped>\n",
       "    .dataframe tbody tr th:only-of-type {\n",
       "        vertical-align: middle;\n",
       "    }\n",
       "\n",
       "    .dataframe tbody tr th {\n",
       "        vertical-align: top;\n",
       "    }\n",
       "\n",
       "    .dataframe thead th {\n",
       "        text-align: right;\n",
       "    }\n",
       "</style>\n",
       "<table border=\"1\" class=\"dataframe\">\n",
       "  <thead>\n",
       "    <tr style=\"text-align: right;\">\n",
       "      <th></th>\n",
       "      <th>wid</th>\n",
       "      <th>SBLnr</th>\n",
       "      <th>gender</th>\n",
       "      <th>genderLabel</th>\n",
       "      <th>SBLlength</th>\n",
       "      <th>titel</th>\n",
       "      <th>Fodd</th>\n",
       "      <th>Dod</th>\n",
       "      <th>Band</th>\n",
       "      <th>Year</th>\n",
       "      <th>url</th>\n",
       "      <th>YearPublished</th>\n",
       "      <th>WD_Webscrape</th>\n",
       "    </tr>\n",
       "  </thead>\n",
       "  <tbody>\n",
       "    <tr>\n",
       "      <th>0</th>\n",
       "      <td>Q15405</td>\n",
       "      <td>14482</td>\n",
       "      <td>http://www.wikidata.org/entity/Q6581097</td>\n",
       "      <td>man</td>\n",
       "      <td>74999</td>\n",
       "      <td>Elias M Fries</td>\n",
       "      <td>Född:1794-08-15 – Femsjö församling, Hallands län</td>\n",
       "      <td>Död:1878-02-08 – Uppsala domkyrkoförsamling, U...</td>\n",
       "      <td>Band 16 (1964-1966), sida 522.</td>\n",
       "      <td>1964-1966</td>\n",
       "      <td>https://sok.riksarkivet.se/sbl/Presentation.as...</td>\n",
       "      <td>1966-01-01</td>\n",
       "      <td>both</td>\n",
       "    </tr>\n",
       "    <tr>\n",
       "      <th>1</th>\n",
       "      <td>Q154460</td>\n",
       "      <td>11768</td>\n",
       "      <td>http://www.wikidata.org/entity/Q6581097</td>\n",
       "      <td>man</td>\n",
       "      <td>45847</td>\n",
       "      <td>Kristian II</td>\n",
       "      <td>Född:1481-07-02</td>\n",
       "      <td>Död:1559-01-25</td>\n",
       "      <td>Band 21 (1975-1977), sida 566.</td>\n",
       "      <td>1975-1977</td>\n",
       "      <td>https://sok.riksarkivet.se/sbl/Presentation.as...</td>\n",
       "      <td>1977-01-01</td>\n",
       "      <td>both</td>\n",
       "    </tr>\n",
       "    <tr>\n",
       "      <th>2</th>\n",
       "      <td>Q320977</td>\n",
       "      <td>11661</td>\n",
       "      <td>http://www.wikidata.org/entity/Q6581097</td>\n",
       "      <td>man</td>\n",
       "      <td>54804</td>\n",
       "      <td>Knut Eriksson</td>\n",
       "      <td>NaN</td>\n",
       "      <td>Död:1195/96</td>\n",
       "      <td>Band 21 (1975-1977), sida 383.</td>\n",
       "      <td>1975-1977</td>\n",
       "      <td>https://sok.riksarkivet.se/sbl/Presentation.as...</td>\n",
       "      <td>1977-01-01</td>\n",
       "      <td>both</td>\n",
       "    </tr>\n",
       "    <tr>\n",
       "      <th>3</th>\n",
       "      <td>Q322335</td>\n",
       "      <td>9430</td>\n",
       "      <td>http://www.wikidata.org/entity/Q6581097</td>\n",
       "      <td>man</td>\n",
       "      <td>51007</td>\n",
       "      <td>Lars Larsson (Lasse-Maja) Molin</td>\n",
       "      <td>Född:1785-10-05 – Ramsbergs församling, Örebro...</td>\n",
       "      <td>Död:1845-06-04 – Arboga stadsförsamling, Västm...</td>\n",
       "      <td>Band 25 (1985-1987), sida 648.</td>\n",
       "      <td>1985-1987</td>\n",
       "      <td>https://sok.riksarkivet.se/sbl/Presentation.as...</td>\n",
       "      <td>1987-01-01</td>\n",
       "      <td>both</td>\n",
       "    </tr>\n",
       "    <tr>\n",
       "      <th>4</th>\n",
       "      <td>Q343674</td>\n",
       "      <td>7317</td>\n",
       "      <td>http://www.wikidata.org/entity/Q6581097</td>\n",
       "      <td>man</td>\n",
       "      <td>50014</td>\n",
       "      <td>Baltzar J E Platen, von</td>\n",
       "      <td>Född:1804-04-16 – Näs församling (R-län), Skar...</td>\n",
       "      <td>Död:1875-03-20 – Jakobs församling, Stockholms...</td>\n",
       "      <td>Band 29 (1995-1997), sida 359.</td>\n",
       "      <td>1995-1997</td>\n",
       "      <td>https://sok.riksarkivet.se/sbl/Presentation.as...</td>\n",
       "      <td>1997-01-01</td>\n",
       "      <td>both</td>\n",
       "    </tr>\n",
       "  </tbody>\n",
       "</table>\n",
       "</div>"
      ],
      "text/plain": [
       "       wid  SBLnr  ... YearPublished WD_Webscrape\n",
       "0   Q15405  14482  ...    1966-01-01         both\n",
       "1  Q154460  11768  ...    1977-01-01         both\n",
       "2  Q320977  11661  ...    1977-01-01         both\n",
       "3  Q322335   9430  ...    1987-01-01         both\n",
       "4  Q343674   7317  ...    1997-01-01         both\n",
       "\n",
       "[5 rows x 13 columns]"
      ]
     },
     "execution_count": 354,
     "metadata": {},
     "output_type": "execute_result"
    }
   ],
   "source": [
    "speed = [0.1, 17.5, 40, 48, 52, 69, 88]\n",
    "lifespan = [2, 8, 70, 1.5, 25, 12, 28]\n",
    "index = ['snail', 'pig', 'elephant',\n",
    "          'rabbit', 'giraffe', 'coyote', 'horse']\n",
    "df = pd.DataFrame({'speed': speed,\n",
    "                    'lifespan': lifespan}, index=index)\n",
    "#ax = df.plot.bar(rot=0)\n",
    "\n",
    "\n",
    "#plotSBLYearPublished_FM = dfWD_SBL_article.groupby([\"YearPublished\"])\n",
    "#plotSBLYearPublished_FM = dfWD_SBL_article.groupby([\"YearPublished\"])[\"genderLabel\"].transform(\"count\")\n",
    "#df['Counts'] = df.groupby(['Color'])['Value'].transform('count')\n",
    "#plotSBLYearPublished_FM.head()  \n",
    "dfWD_SBL_article.info()\n",
    "dfWD_SBL_article.head()\n",
    "\n",
    "# Group by YearPublished genderLabel"
   ]
  },
  {
   "cell_type": "markdown",
   "metadata": {},
   "source": [
    "### Släktartiklar  \n",
    "Nedan lite gissning att en släktartikel har ordet släkt i titeln. \n",
    "\n",
    "* se också [webscarping Adelsvapen](https://gist.github.com/salgo60/31e0c4bf6f075c373fb5bbfb6cc807c6)\n",
    "* csv lista skapad nedan på [GIST](https://gist.github.com/salgo60/31e0c4bf6f075c373fb5bbfb6cc807c6#gistcomment-3457126) "
   ]
  },
  {
   "cell_type": "code",
   "execution_count": 187,
   "metadata": {},
   "outputs": [],
   "source": [
    "dfFamily = dfSBLcsv[dfSBLcsv.isnull().any(1)]"
   ]
  },
  {
   "cell_type": "code",
   "execution_count": 188,
   "metadata": {},
   "outputs": [
    {
     "name": "stdout",
     "output_type": "stream",
     "text": [
      "<class 'pandas.core.frame.DataFrame'>\n",
      "DatetimeIndex: 3054 entries, 1918-01-01 to 1924-01-01\n",
      "Data columns (total 9 columns):\n",
      " #   Column         Non-Null Count  Dtype         \n",
      "---  ------         --------------  -----         \n",
      " 0   SBLnr          3054 non-null   int64         \n",
      " 1   SBLlength      3054 non-null   int64         \n",
      " 2   titel          3054 non-null   object        \n",
      " 3   Fodd           8 non-null      object        \n",
      " 4   Dod            490 non-null    object        \n",
      " 5   Band           3054 non-null   object        \n",
      " 6   Year           3038 non-null   object        \n",
      " 7   url            3054 non-null   object        \n",
      " 8   YearPublished  3038 non-null   datetime64[ns]\n",
      "dtypes: datetime64[ns](1), int64(2), object(6)\n",
      "memory usage: 238.6+ KB\n"
     ]
    }
   ],
   "source": [
    "dfFamily.info()"
   ]
  },
  {
   "cell_type": "code",
   "execution_count": 189,
   "metadata": {},
   "outputs": [],
   "source": [
    "#dfFamily"
   ]
  },
  {
   "cell_type": "code",
   "execution_count": 190,
   "metadata": {
    "scrolled": false
   },
   "outputs": [],
   "source": [
    "dfFamilySlakt = dfFamily[dfFamily.titel.str.contains(\"släkt\")]\n",
    "#dfFamilySlakt"
   ]
  },
  {
   "cell_type": "code",
   "execution_count": 191,
   "metadata": {},
   "outputs": [],
   "source": [
    "dictFamily = dfFamilySlakt.to_dict()"
   ]
  },
  {
   "cell_type": "code",
   "execution_count": null,
   "metadata": {},
   "outputs": [],
   "source": []
  },
  {
   "cell_type": "code",
   "execution_count": 192,
   "metadata": {},
   "outputs": [
    {
     "data": {
      "text/plain": [
       "1722"
      ]
     },
     "execution_count": 192,
     "metadata": {},
     "output_type": "execute_result"
    }
   ],
   "source": [
    "dfFamily.titel.str.contains(\"släkt\").sum()"
   ]
  },
  {
   "cell_type": "code",
   "execution_count": 193,
   "metadata": {},
   "outputs": [
    {
     "data": {
      "text/plain": [
       "37"
      ]
     },
     "execution_count": 193,
     "metadata": {},
     "output_type": "execute_result"
    }
   ],
   "source": [
    "dfFamily.titel.str.contains(\"ätten\").sum()"
   ]
  },
  {
   "cell_type": "code",
   "execution_count": 194,
   "metadata": {},
   "outputs": [
    {
     "data": {
      "text/plain": [
       "1"
      ]
     },
     "execution_count": 194,
     "metadata": {},
     "output_type": "execute_result"
    }
   ],
   "source": [
    "dfFamily.titel.str.contains(\"Släkt\").sum()"
   ]
  },
  {
   "cell_type": "code",
   "execution_count": 195,
   "metadata": {},
   "outputs": [
    {
     "data": {
      "text/plain": [
       "22"
      ]
     },
     "execution_count": 195,
     "metadata": {},
     "output_type": "execute_result"
    }
   ],
   "source": [
    "dfFamily.Dod.str.contains(\"senas\").sum()"
   ]
  },
  {
   "cell_type": "code",
   "execution_count": 196,
   "metadata": {},
   "outputs": [],
   "source": [
    "#dfFamily[dfFamily.Dod.str.contains(\"senas\", na=False)]"
   ]
  },
  {
   "cell_type": "code",
   "execution_count": 353,
   "metadata": {},
   "outputs": [
    {
     "data": {
      "text/plain": [
       "<bound method NDFrame.head of                SBLnr  ...  YearPublished\n",
       "YearPublished         ...               \n",
       "1918-01-01      5671  ...     1918-01-01\n",
       "1918-01-01      5735  ...     1918-01-01\n",
       "2006-01-01      6061  ...     2006-01-01\n",
       "1931-01-01     15777  ...     1931-01-01\n",
       "1931-01-01     15784  ...     1931-01-01\n",
       "1931-01-01     15785  ...     1931-01-01\n",
       "1926-01-01     16990  ...     1926-01-01\n",
       "NaT            34648  ...            NaT\n",
       "\n",
       "[8 rows x 9 columns]>"
      ]
     },
     "execution_count": 353,
     "metadata": {},
     "output_type": "execute_result"
    }
   ],
   "source": [
    "dfFamily[dfFamily.Fodd.str.contains(\"\", na=False)].head"
   ]
  },
  {
   "cell_type": "code",
   "execution_count": 198,
   "metadata": {},
   "outputs": [
    {
     "data": {
      "text/plain": [
       "0"
      ]
     },
     "execution_count": 198,
     "metadata": {},
     "output_type": "execute_result"
    }
   ],
   "source": [
    "#Check diff WDSBLtot and dfSBLcsv \n",
    "WDSBLtot.duplicated(subset=['wid']).sum()"
   ]
  },
  {
   "cell_type": "code",
   "execution_count": 199,
   "metadata": {},
   "outputs": [
    {
     "data": {
      "text/plain": [
       "0"
      ]
     },
     "execution_count": 199,
     "metadata": {},
     "output_type": "execute_result"
    }
   ],
   "source": [
    "dfSBLcsv.duplicated(subset=['SBLnr']).sum()"
   ]
  },
  {
   "cell_type": "code",
   "execution_count": 200,
   "metadata": {},
   "outputs": [
    {
     "data": {
      "text/plain": [
       "3"
      ]
     },
     "execution_count": 200,
     "metadata": {},
     "output_type": "execute_result"
    }
   ],
   "source": [
    "WDSBLtot.duplicated(subset=['sblid']).sum()"
   ]
  },
  {
   "cell_type": "code",
   "execution_count": 201,
   "metadata": {},
   "outputs": [
    {
     "name": "stdout",
     "output_type": "stream",
     "text": [
      "<class 'pandas.core.frame.DataFrame'>\n",
      "RangeIndex: 7599 entries, 0 to 7598\n",
      "Data columns (total 4 columns):\n",
      " #   Column       Non-Null Count  Dtype \n",
      "---  ------       --------------  ----- \n",
      " 0   wid          7599 non-null   object\n",
      " 1   SBLnr        7599 non-null   int64 \n",
      " 2   gender       7599 non-null   object\n",
      " 3   genderLabel  7599 non-null   object\n",
      "dtypes: int64(1), object(3)\n",
      "memory usage: 237.6+ KB\n"
     ]
    }
   ],
   "source": [
    "WDSBLtot = WDSBLtot.rename(columns={'sblid':'SBLnr'})\n",
    "WDSBLtot['SBLnr']= WDSBLtot['SBLnr'].astype(str).astype(int)\n",
    "WDSBLtot.info()"
   ]
  },
  {
   "cell_type": "code",
   "execution_count": 202,
   "metadata": {},
   "outputs": [],
   "source": [
    "dfmerge = pd.merge(WDSBLtot, dfSBLcsv,how='outer', on='SBLnr',indicator=True)"
   ]
  },
  {
   "cell_type": "code",
   "execution_count": 203,
   "metadata": {},
   "outputs": [
    {
     "data": {
      "text/plain": [
       "both          7599\n",
       "right_only    2531\n",
       "left_only        0\n",
       "Name: _merge, dtype: int64"
      ]
     },
     "execution_count": 203,
     "metadata": {},
     "output_type": "execute_result"
    }
   ],
   "source": [
    "dfmerge[\"_merge\"].value_counts()"
   ]
  },
  {
   "cell_type": "code",
   "execution_count": 204,
   "metadata": {},
   "outputs": [],
   "source": [
    "#dfmerge"
   ]
  },
  {
   "cell_type": "code",
   "execution_count": 205,
   "metadata": {},
   "outputs": [],
   "source": [
    "dfmerge['_merge'] = dfmerge['_merge'].str.replace('left_only','WD_only').str.replace('right_only','SBL_only')\n"
   ]
  },
  {
   "cell_type": "code",
   "execution_count": 206,
   "metadata": {},
   "outputs": [
    {
     "data": {
      "text/plain": [
       "both        7599\n",
       "SBL_only    2531\n",
       "Name: _merge, dtype: int64"
      ]
     },
     "execution_count": 206,
     "metadata": {},
     "output_type": "execute_result"
    }
   ],
   "source": [
    "WDSBLonly = dfmerge[dfmerge[\"_merge\"] == \"SBL_only\"].copy()   \n",
    "dfmerge[\"_merge\"].value_counts()"
   ]
  },
  {
   "cell_type": "code",
   "execution_count": 207,
   "metadata": {},
   "outputs": [
    {
     "data": {
      "text/html": [
       "<div>\n",
       "<style scoped>\n",
       "    .dataframe tbody tr th:only-of-type {\n",
       "        vertical-align: middle;\n",
       "    }\n",
       "\n",
       "    .dataframe tbody tr th {\n",
       "        vertical-align: top;\n",
       "    }\n",
       "\n",
       "    .dataframe thead th {\n",
       "        text-align: right;\n",
       "    }\n",
       "</style>\n",
       "<table border=\"1\" class=\"dataframe\">\n",
       "  <thead>\n",
       "    <tr style=\"text-align: right;\">\n",
       "      <th></th>\n",
       "      <th>wid</th>\n",
       "      <th>SBLnr</th>\n",
       "      <th>gender</th>\n",
       "      <th>genderLabel</th>\n",
       "      <th>SBLlength</th>\n",
       "      <th>titel</th>\n",
       "      <th>Fodd</th>\n",
       "      <th>Dod</th>\n",
       "      <th>Band</th>\n",
       "      <th>Year</th>\n",
       "      <th>url</th>\n",
       "      <th>YearPublished</th>\n",
       "      <th>_merge</th>\n",
       "    </tr>\n",
       "  </thead>\n",
       "  <tbody>\n",
       "  </tbody>\n",
       "</table>\n",
       "</div>"
      ],
      "text/plain": [
       "Empty DataFrame\n",
       "Columns: [wid, SBLnr, gender, genderLabel, SBLlength, titel, Fodd, Dod, Band, Year, url, YearPublished, _merge]\n",
       "Index: []"
      ]
     },
     "execution_count": 207,
     "metadata": {},
     "output_type": "execute_result"
    }
   ],
   "source": [
    "WD_only = dfmerge[dfmerge[\"_merge\"] == \"WD_only\"].copy()   \n",
    "WD_only"
   ]
  },
  {
   "cell_type": "code",
   "execution_count": 208,
   "metadata": {},
   "outputs": [
    {
     "name": "stdout",
     "output_type": "stream",
     "text": [
      "<class 'pandas.core.frame.DataFrame'>\n",
      "Int64Index: 2531 entries, 7599 to 10129\n",
      "Data columns (total 13 columns):\n",
      " #   Column         Non-Null Count  Dtype         \n",
      "---  ------         --------------  -----         \n",
      " 0   wid            0 non-null      object        \n",
      " 1   SBLnr          2531 non-null   int64         \n",
      " 2   gender         0 non-null      object        \n",
      " 3   genderLabel    0 non-null      object        \n",
      " 4   SBLlength      2531 non-null   int64         \n",
      " 5   titel          2531 non-null   object        \n",
      " 6   Fodd           3 non-null      object        \n",
      " 7   Dod            8 non-null      object        \n",
      " 8   Band           2531 non-null   object        \n",
      " 9   Year           2516 non-null   object        \n",
      " 10  url            2531 non-null   object        \n",
      " 11  YearPublished  2516 non-null   datetime64[ns]\n",
      " 12  _merge         2531 non-null   object        \n",
      "dtypes: datetime64[ns](1), int64(2), object(10)\n",
      "memory usage: 276.8+ KB\n"
     ]
    }
   ],
   "source": [
    "WDSBLonly.info()"
   ]
  },
  {
   "cell_type": "code",
   "execution_count": 209,
   "metadata": {},
   "outputs": [
    {
     "data": {
      "text/plain": [
       "1685"
      ]
     },
     "execution_count": 209,
     "metadata": {},
     "output_type": "execute_result"
    }
   ],
   "source": [
    "WDSBLonly.titel.str.contains(\"släkt\").sum() \n"
   ]
  },
  {
   "cell_type": "code",
   "execution_count": 352,
   "metadata": {},
   "outputs": [
    {
     "data": {
      "text/plain": [
       "<bound method NDFrame.head of        wid  SBLnr  ... YearPublished    _merge\n",
       "7777   NaN   7249  ...    1997-01-01  SBL_only\n",
       "7948   NaN   9007  ...    1987-01-01  SBL_only\n",
       "7949   NaN   9008  ...    1987-01-01  SBL_only\n",
       "7950   NaN   9009  ...    1987-01-01  SBL_only\n",
       "8238   NaN  11237  ...    1979-01-01  SBL_only\n",
       "8239   NaN  11238  ...    1979-01-01  SBL_only\n",
       "8240   NaN  11239  ...    1979-01-01  SBL_only\n",
       "8255   NaN  11376  ...    1979-01-01  SBL_only\n",
       "8256   NaN  11377  ...    1979-01-01  SBL_only\n",
       "8257   NaN  11378  ...    1979-01-01  SBL_only\n",
       "8258   NaN  11379  ...    1979-01-01  SBL_only\n",
       "8259   NaN  11380  ...    1979-01-01  SBL_only\n",
       "8455   NaN  12565  ...    1971-01-01  SBL_only\n",
       "8456   NaN  12566  ...    1971-01-01  SBL_only\n",
       "8457   NaN  12568  ...    1971-01-01  SBL_only\n",
       "8553   NaN  13016  ...    1969-01-01  SBL_only\n",
       "8572   NaN  13096  ...    1969-01-01  SBL_only\n",
       "8594   NaN  13177  ...    1969-01-01  SBL_only\n",
       "8706   NaN  13783  ...    1973-01-01  SBL_only\n",
       "8776   NaN  14142  ...    1966-01-01  SBL_only\n",
       "8777   NaN  14143  ...    1966-01-01  SBL_only\n",
       "8801   NaN  14301  ...    1966-01-01  SBL_only\n",
       "8802   NaN  14302  ...    1966-01-01  SBL_only\n",
       "8803   NaN  14303  ...    1966-01-01  SBL_only\n",
       "8853   NaN  14573  ...    1966-01-01  SBL_only\n",
       "8854   NaN  14574  ...    1966-01-01  SBL_only\n",
       "8861   NaN  14607  ...    1966-01-01  SBL_only\n",
       "8862   NaN  14608  ...    1966-01-01  SBL_only\n",
       "8863   NaN  14609  ...    1966-01-01  SBL_only\n",
       "8864   NaN  14612  ...    1966-01-01  SBL_only\n",
       "9028   NaN  15340  ...    1953-01-01  SBL_only\n",
       "9035   NaN  15413  ...    1953-01-01  SBL_only\n",
       "9046   NaN  15481  ...    1953-01-01  SBL_only\n",
       "9161   NaN  16037  ...    1950-01-01  SBL_only\n",
       "9162   NaN  16041  ...    1950-01-01  SBL_only\n",
       "9680   NaN  18893  ...    1920-01-01  SBL_only\n",
       "9736   NaN  20138  ...    2011-01-01  SBL_only\n",
       "9955   NaN  34576  ...    1966-01-01  SBL_only\n",
       "9984   NaN  34621  ...    2019-01-01  SBL_only\n",
       "10001  NaN  34644  ...    2019-01-01  SBL_only\n",
       "\n",
       "[40 rows x 13 columns]>"
      ]
     },
     "execution_count": 352,
     "metadata": {},
     "output_type": "execute_result"
    }
   ],
   "source": [
    "WDSBLonly[WDSBLonly.titel.str.contains(\"ätt\")].head"
   ]
  },
  {
   "cell_type": "code",
   "execution_count": 211,
   "metadata": {},
   "outputs": [],
   "source": [
    "#Inte släkt \n",
    "WDmissingPerson = WDSBLonly[~WDSBLonly.titel.str.contains(\"släkt\")]"
   ]
  },
  {
   "cell_type": "code",
   "execution_count": 212,
   "metadata": {},
   "outputs": [
    {
     "name": "stdout",
     "output_type": "stream",
     "text": [
      "<class 'pandas.core.frame.DataFrame'>\n",
      "Int64Index: 846 entries, 7601 to 10129\n",
      "Data columns (total 13 columns):\n",
      " #   Column         Non-Null Count  Dtype         \n",
      "---  ------         --------------  -----         \n",
      " 0   wid            0 non-null      object        \n",
      " 1   SBLnr          846 non-null    int64         \n",
      " 2   gender         0 non-null      object        \n",
      " 3   genderLabel    0 non-null      object        \n",
      " 4   SBLlength      846 non-null    int64         \n",
      " 5   titel          846 non-null    object        \n",
      " 6   Fodd           3 non-null      object        \n",
      " 7   Dod            8 non-null      object        \n",
      " 8   Band           846 non-null    object        \n",
      " 9   Year           831 non-null    object        \n",
      " 10  url            846 non-null    object        \n",
      " 11  YearPublished  831 non-null    datetime64[ns]\n",
      " 12  _merge         846 non-null    object        \n",
      "dtypes: datetime64[ns](1), int64(2), object(10)\n",
      "memory usage: 92.5+ KB\n"
     ]
    }
   ],
   "source": [
    "WDmissingPerson.info()"
   ]
  },
  {
   "cell_type": "code",
   "execution_count": 213,
   "metadata": {},
   "outputs": [
    {
     "data": {
      "text/plain": [
       "2013-2019    140\n",
       "2007-2011     65\n",
       "1953          53\n",
       "1985-1987     44\n",
       "2003-2006     36\n",
       "1931          33\n",
       "1950          33\n",
       "1992-1994     31\n",
       "1977-1979     29\n",
       "1982-1984     26\n",
       "1980-1981     25\n",
       "1998-2000     25\n",
       "1973-1975     24\n",
       "1964-1966     23\n",
       "1945          21\n",
       "1987-1989     21\n",
       "1929          20\n",
       "1969-1971     20\n",
       "2000-2002     20\n",
       "1956          20\n",
       "1967-1969     20\n",
       "1949          16\n",
       "1990-1991     11\n",
       "1971-1973     11\n",
       "1920          10\n",
       "1975-1977     10\n",
       "1926           9\n",
       "1995-1997      8\n",
       "1918           7\n",
       "1925           7\n",
       "1927           5\n",
       "1924           4\n",
       "1922           4\n",
       "Name: Year, dtype: int64"
      ]
     },
     "execution_count": 213,
     "metadata": {},
     "output_type": "execute_result"
    }
   ],
   "source": [
    "WDmissingPerson[\"Year\"].value_counts()"
   ]
  },
  {
   "cell_type": "code",
   "execution_count": null,
   "metadata": {},
   "outputs": [],
   "source": []
  },
  {
   "cell_type": "code",
   "execution_count": 214,
   "metadata": {},
   "outputs": [
    {
     "name": "stdout",
     "output_type": "stream",
     "text": [
      "Min, Max SBLlength:  11021 82050\n"
     ]
    }
   ],
   "source": [
    "print(\"Min, Max SBLlength: \", WDmissingPerson.SBLlength.min(), WDmissingPerson.SBLlength.max())"
   ]
  },
  {
   "cell_type": "code",
   "execution_count": 215,
   "metadata": {},
   "outputs": [],
   "source": [
    "# sorterar artiklarna efter sidstorlek för att kanske hitta någon vi missat  \n",
    "# wid är Wikidata objekt , NaN är att det saknas  \n",
    "# SBLnr är id i SBL\n",
    "# SBLlength är sidans storlek hos SBL \n",
    "# Fodd, Dod... är det jag hittade i WEBsidan, NaN innebär saknas\n",
    "\n",
    "#WDmissingPerson.sort_values(by='SBLlength', ascending=False, na_position='first')"
   ]
  },
  {
   "cell_type": "code",
   "execution_count": 216,
   "metadata": {},
   "outputs": [
    {
     "data": {
      "text/plain": [
       "2013-2019    140\n",
       "2007-2011     65\n",
       "1953          53\n",
       "1985-1987     44\n",
       "2003-2006     36\n",
       "1931          33\n",
       "1950          33\n",
       "1992-1994     31\n",
       "1977-1979     29\n",
       "1982-1984     26\n",
       "1980-1981     25\n",
       "1998-2000     25\n",
       "1973-1975     24\n",
       "1964-1966     23\n",
       "1945          21\n",
       "1987-1989     21\n",
       "1929          20\n",
       "1969-1971     20\n",
       "2000-2002     20\n",
       "1956          20\n",
       "1967-1969     20\n",
       "1949          16\n",
       "1990-1991     11\n",
       "1971-1973     11\n",
       "1920          10\n",
       "1975-1977     10\n",
       "1926           9\n",
       "1995-1997      8\n",
       "1918           7\n",
       "1925           7\n",
       "1927           5\n",
       "1924           4\n",
       "1922           4\n",
       "Name: Year, dtype: int64"
      ]
     },
     "execution_count": 216,
     "metadata": {},
     "output_type": "execute_result"
    }
   ],
   "source": [
    "WDmissingPerson[\"Year\"].value_counts()"
   ]
  },
  {
   "cell_type": "code",
   "execution_count": 217,
   "metadata": {},
   "outputs": [
    {
     "name": "stdout",
     "output_type": "stream",
     "text": [
      "End run:  2020-09-20 23:07:57.781977\n"
     ]
    }
   ],
   "source": [
    "print(\"End run: \", datetime.now())"
   ]
  },
  {
   "cell_type": "code",
   "execution_count": 218,
   "metadata": {},
   "outputs": [],
   "source": [
    "#Släkt \n",
    "#WDSlakt = WDSBLonly[~WDSBLonly.titel.str.contains(\"släkt\")].copy"
   ]
  },
  {
   "cell_type": "code",
   "execution_count": 219,
   "metadata": {},
   "outputs": [],
   "source": [
    "WDSlakt = WDSBLonly[WDSBLonly.titel.str.contains(\"släkt\")]"
   ]
  },
  {
   "cell_type": "code",
   "execution_count": 220,
   "metadata": {},
   "outputs": [
    {
     "name": "stdout",
     "output_type": "stream",
     "text": [
      "<class 'pandas.core.frame.DataFrame'>\n",
      "Int64Index: 1685 entries, 7599 to 10087\n",
      "Data columns (total 13 columns):\n",
      " #   Column         Non-Null Count  Dtype         \n",
      "---  ------         --------------  -----         \n",
      " 0   wid            0 non-null      object        \n",
      " 1   SBLnr          1685 non-null   int64         \n",
      " 2   gender         0 non-null      object        \n",
      " 3   genderLabel    0 non-null      object        \n",
      " 4   SBLlength      1685 non-null   int64         \n",
      " 5   titel          1685 non-null   object        \n",
      " 6   Fodd           0 non-null      object        \n",
      " 7   Dod            0 non-null      object        \n",
      " 8   Band           1685 non-null   object        \n",
      " 9   Year           1685 non-null   object        \n",
      " 10  url            1685 non-null   object        \n",
      " 11  YearPublished  1685 non-null   datetime64[ns]\n",
      " 12  _merge         1685 non-null   object        \n",
      "dtypes: datetime64[ns](1), int64(2), object(10)\n",
      "memory usage: 184.3+ KB\n"
     ]
    }
   ],
   "source": [
    "WDSlakt.info()"
   ]
  },
  {
   "cell_type": "code",
   "execution_count": 351,
   "metadata": {},
   "outputs": [
    {
     "ename": "SyntaxError",
     "evalue": "unexpected EOF while parsing (<ipython-input-351-e33fe5db66b3>, line 4)",
     "output_type": "error",
     "traceback": [
      "\u001b[0;36m  File \u001b[0;32m\"<ipython-input-351-e33fe5db66b3>\"\u001b[0;36m, line \u001b[0;32m4\u001b[0m\n\u001b[0;31m    #    print(row[\"SBLnr\"],\"|\",row[\"titel\"],\"|\",row[\"Year\"])\u001b[0m\n\u001b[0m                                                               ^\u001b[0m\n\u001b[0;31mSyntaxError\u001b[0m\u001b[0;31m:\u001b[0m unexpected EOF while parsing\n"
     ]
    }
   ],
   "source": [
    "#Need a workaround as pandas to_csv dont work ?!?!?\n",
    "for  index,row in WDSlakt.iterrows():\n",
    "#    print(row[\"SBLnr\"],row[\"titel\"],row[\"Year\"],row[\"url\"])    \n",
    "#    print(row[\"SBLnr\"],\"|\",row[\"titel\"],\"|\",row[\"Year\"])  "
   ]
  },
  {
   "cell_type": "markdown",
   "metadata": {},
   "source": [
    "List produced also on [GIST](https://gist.github.com/salgo60/31e0c4bf6f075c373fb5bbfb6cc807c6#gistcomment-3457126) "
   ]
  },
  {
   "cell_type": "markdown",
   "metadata": {},
   "source": [
    "### Estimate published articles male/female /family\n"
   ]
  },
  {
   "cell_type": "code",
   "execution_count": 222,
   "metadata": {},
   "outputs": [
    {
     "name": "stdout",
     "output_type": "stream",
     "text": [
      "<class 'pandas.core.frame.DataFrame'>\n",
      "Int64Index: 10130 entries, 0 to 10129\n",
      "Data columns (total 13 columns):\n",
      " #   Column         Non-Null Count  Dtype         \n",
      "---  ------         --------------  -----         \n",
      " 0   wid            7599 non-null   object        \n",
      " 1   SBLnr          10130 non-null  int64         \n",
      " 2   gender         7599 non-null   object        \n",
      " 3   genderLabel    7599 non-null   object        \n",
      " 4   SBLlength      10130 non-null  int64         \n",
      " 5   titel          10130 non-null  object        \n",
      " 6   Fodd           7083 non-null   object        \n",
      " 7   Dod            7566 non-null   object        \n",
      " 8   Band           10130 non-null  object        \n",
      " 9   Year           10114 non-null  object        \n",
      " 10  url            10130 non-null  object        \n",
      " 11  YearPublished  10114 non-null  datetime64[ns]\n",
      " 12  _merge         10130 non-null  object        \n",
      "dtypes: datetime64[ns](1), int64(2), object(10)\n",
      "memory usage: 1.1+ MB\n"
     ]
    }
   ],
   "source": [
    "dfmerge.info()"
   ]
  },
  {
   "cell_type": "code",
   "execution_count": 236,
   "metadata": {},
   "outputs": [],
   "source": [
    "personSBL = dfmerge[~dfmerge['wid'].isnull()] "
   ]
  },
  {
   "cell_type": "code",
   "execution_count": 237,
   "metadata": {},
   "outputs": [
    {
     "name": "stdout",
     "output_type": "stream",
     "text": [
      "<class 'pandas.core.frame.DataFrame'>\n",
      "Int64Index: 7599 entries, 0 to 7598\n",
      "Data columns (total 13 columns):\n",
      " #   Column         Non-Null Count  Dtype         \n",
      "---  ------         --------------  -----         \n",
      " 0   wid            7599 non-null   object        \n",
      " 1   SBLnr          7599 non-null   int64         \n",
      " 2   gender         7599 non-null   object        \n",
      " 3   genderLabel    7599 non-null   object        \n",
      " 4   SBLlength      7599 non-null   int64         \n",
      " 5   titel          7599 non-null   object        \n",
      " 6   Fodd           7080 non-null   object        \n",
      " 7   Dod            7558 non-null   object        \n",
      " 8   Band           7599 non-null   object        \n",
      " 9   Year           7598 non-null   object        \n",
      " 10  url            7599 non-null   object        \n",
      " 11  YearPublished  7598 non-null   datetime64[ns]\n",
      " 12  _merge         7599 non-null   object        \n",
      "dtypes: datetime64[ns](1), int64(2), object(10)\n",
      "memory usage: 831.1+ KB\n"
     ]
    }
   ],
   "source": [
    "personSBL.info()"
   ]
  },
  {
   "cell_type": "code",
   "execution_count": 268,
   "metadata": {},
   "outputs": [
    {
     "data": {
      "text/plain": [
       "genderLabel  YearPublished\n",
       "kvinna       1918-01-01        17\n",
       "             1920-01-01        12\n",
       "             1922-01-01         8\n",
       "             1924-01-01         5\n",
       "             1925-01-01        16\n",
       "             1926-01-01        16\n",
       "             1927-01-01        16\n",
       "             1929-01-01         6\n",
       "             1931-01-01        13\n",
       "             1945-01-01         9\n",
       "             1949-01-01        11\n",
       "             1950-01-01        13\n",
       "             1953-01-01         7\n",
       "             1956-01-01         9\n",
       "             1966-01-01        14\n",
       "             1969-01-01        15\n",
       "             1971-01-01        19\n",
       "             1973-01-01        12\n",
       "             1975-01-01        27\n",
       "             1977-01-01        26\n",
       "             1979-01-01        12\n",
       "             1981-01-01        21\n",
       "             1984-01-01        18\n",
       "             1987-01-01        32\n",
       "             1989-01-01        13\n",
       "             1991-01-01        20\n",
       "             1994-01-01        14\n",
       "             1997-01-01        23\n",
       "             2000-01-01        15\n",
       "             2002-01-01        19\n",
       "             2006-01-01        21\n",
       "             2011-01-01        19\n",
       "             2019-01-01        29\n",
       "man          1918-01-01       255\n",
       "             1920-01-01       243\n",
       "             1922-01-01       214\n",
       "             1924-01-01       188\n",
       "             1925-01-01       180\n",
       "             1926-01-01       188\n",
       "             1927-01-01       181\n",
       "             1929-01-01       138\n",
       "             1931-01-01       252\n",
       "             1945-01-01       203\n",
       "             1949-01-01       162\n",
       "             1950-01-01       172\n",
       "             1953-01-01       148\n",
       "             1956-01-01       126\n",
       "             1966-01-01       311\n",
       "             1969-01-01       285\n",
       "             1971-01-01       278\n",
       "             1973-01-01       287\n",
       "             1975-01-01       284\n",
       "             1977-01-01       272\n",
       "             1979-01-01       264\n",
       "             1981-01-01       283\n",
       "             1984-01-01       269\n",
       "             1987-01-01       238\n",
       "             1989-01-01       229\n",
       "             1991-01-01       203\n",
       "             1994-01-01       213\n",
       "             1997-01-01       222\n",
       "             2000-01-01       180\n",
       "             2002-01-01       150\n",
       "             2006-01-01       141\n",
       "             2011-01-01       146\n",
       "             2019-01-01       165\n",
       "transman     2019-01-01         1\n",
       "dtype: int64"
      ]
     },
     "execution_count": 268,
     "metadata": {},
     "output_type": "execute_result"
    }
   ],
   "source": [
    "plotSBLGender = personSBL.groupby([\"genderLabel\", \"YearPublished\"]).size()\n",
    "plotSBLGender  "
   ]
  },
  {
   "cell_type": "code",
   "execution_count": 269,
   "metadata": {},
   "outputs": [
    {
     "data": {
      "text/html": [
       "<div>\n",
       "<style scoped>\n",
       "    .dataframe tbody tr th:only-of-type {\n",
       "        vertical-align: middle;\n",
       "    }\n",
       "\n",
       "    .dataframe tbody tr th {\n",
       "        vertical-align: top;\n",
       "    }\n",
       "\n",
       "    .dataframe thead th {\n",
       "        text-align: right;\n",
       "    }\n",
       "</style>\n",
       "<table border=\"1\" class=\"dataframe\">\n",
       "  <thead>\n",
       "    <tr style=\"text-align: right;\">\n",
       "      <th>YearPublished</th>\n",
       "      <th>1918-01-01</th>\n",
       "      <th>1920-01-01</th>\n",
       "      <th>1922-01-01</th>\n",
       "      <th>1924-01-01</th>\n",
       "      <th>1925-01-01</th>\n",
       "      <th>1926-01-01</th>\n",
       "      <th>1927-01-01</th>\n",
       "      <th>1929-01-01</th>\n",
       "      <th>1931-01-01</th>\n",
       "      <th>1945-01-01</th>\n",
       "      <th>1949-01-01</th>\n",
       "      <th>1950-01-01</th>\n",
       "      <th>1953-01-01</th>\n",
       "      <th>1956-01-01</th>\n",
       "      <th>1966-01-01</th>\n",
       "      <th>1969-01-01</th>\n",
       "      <th>1971-01-01</th>\n",
       "      <th>1973-01-01</th>\n",
       "      <th>1975-01-01</th>\n",
       "      <th>1977-01-01</th>\n",
       "      <th>1979-01-01</th>\n",
       "      <th>1981-01-01</th>\n",
       "      <th>1984-01-01</th>\n",
       "      <th>1987-01-01</th>\n",
       "      <th>1989-01-01</th>\n",
       "      <th>1991-01-01</th>\n",
       "      <th>1994-01-01</th>\n",
       "      <th>1997-01-01</th>\n",
       "      <th>2000-01-01</th>\n",
       "      <th>2002-01-01</th>\n",
       "      <th>2006-01-01</th>\n",
       "      <th>2011-01-01</th>\n",
       "      <th>2019-01-01</th>\n",
       "    </tr>\n",
       "    <tr>\n",
       "      <th>genderLabel</th>\n",
       "      <th></th>\n",
       "      <th></th>\n",
       "      <th></th>\n",
       "      <th></th>\n",
       "      <th></th>\n",
       "      <th></th>\n",
       "      <th></th>\n",
       "      <th></th>\n",
       "      <th></th>\n",
       "      <th></th>\n",
       "      <th></th>\n",
       "      <th></th>\n",
       "      <th></th>\n",
       "      <th></th>\n",
       "      <th></th>\n",
       "      <th></th>\n",
       "      <th></th>\n",
       "      <th></th>\n",
       "      <th></th>\n",
       "      <th></th>\n",
       "      <th></th>\n",
       "      <th></th>\n",
       "      <th></th>\n",
       "      <th></th>\n",
       "      <th></th>\n",
       "      <th></th>\n",
       "      <th></th>\n",
       "      <th></th>\n",
       "      <th></th>\n",
       "      <th></th>\n",
       "      <th></th>\n",
       "      <th></th>\n",
       "      <th></th>\n",
       "    </tr>\n",
       "  </thead>\n",
       "  <tbody>\n",
       "    <tr>\n",
       "      <th>kvinna</th>\n",
       "      <td>17.0</td>\n",
       "      <td>12.0</td>\n",
       "      <td>8.0</td>\n",
       "      <td>5.0</td>\n",
       "      <td>16.0</td>\n",
       "      <td>16.0</td>\n",
       "      <td>16.0</td>\n",
       "      <td>6.0</td>\n",
       "      <td>13.0</td>\n",
       "      <td>9.0</td>\n",
       "      <td>11.0</td>\n",
       "      <td>13.0</td>\n",
       "      <td>7.0</td>\n",
       "      <td>9.0</td>\n",
       "      <td>14.0</td>\n",
       "      <td>15.0</td>\n",
       "      <td>19.0</td>\n",
       "      <td>12.0</td>\n",
       "      <td>27.0</td>\n",
       "      <td>26.0</td>\n",
       "      <td>12.0</td>\n",
       "      <td>21.0</td>\n",
       "      <td>18.0</td>\n",
       "      <td>32.0</td>\n",
       "      <td>13.0</td>\n",
       "      <td>20.0</td>\n",
       "      <td>14.0</td>\n",
       "      <td>23.0</td>\n",
       "      <td>15.0</td>\n",
       "      <td>19.0</td>\n",
       "      <td>21.0</td>\n",
       "      <td>19.0</td>\n",
       "      <td>29.0</td>\n",
       "    </tr>\n",
       "    <tr>\n",
       "      <th>man</th>\n",
       "      <td>255.0</td>\n",
       "      <td>243.0</td>\n",
       "      <td>214.0</td>\n",
       "      <td>188.0</td>\n",
       "      <td>180.0</td>\n",
       "      <td>188.0</td>\n",
       "      <td>181.0</td>\n",
       "      <td>138.0</td>\n",
       "      <td>252.0</td>\n",
       "      <td>203.0</td>\n",
       "      <td>162.0</td>\n",
       "      <td>172.0</td>\n",
       "      <td>148.0</td>\n",
       "      <td>126.0</td>\n",
       "      <td>311.0</td>\n",
       "      <td>285.0</td>\n",
       "      <td>278.0</td>\n",
       "      <td>287.0</td>\n",
       "      <td>284.0</td>\n",
       "      <td>272.0</td>\n",
       "      <td>264.0</td>\n",
       "      <td>283.0</td>\n",
       "      <td>269.0</td>\n",
       "      <td>238.0</td>\n",
       "      <td>229.0</td>\n",
       "      <td>203.0</td>\n",
       "      <td>213.0</td>\n",
       "      <td>222.0</td>\n",
       "      <td>180.0</td>\n",
       "      <td>150.0</td>\n",
       "      <td>141.0</td>\n",
       "      <td>146.0</td>\n",
       "      <td>165.0</td>\n",
       "    </tr>\n",
       "    <tr>\n",
       "      <th>transman</th>\n",
       "      <td>NaN</td>\n",
       "      <td>NaN</td>\n",
       "      <td>NaN</td>\n",
       "      <td>NaN</td>\n",
       "      <td>NaN</td>\n",
       "      <td>NaN</td>\n",
       "      <td>NaN</td>\n",
       "      <td>NaN</td>\n",
       "      <td>NaN</td>\n",
       "      <td>NaN</td>\n",
       "      <td>NaN</td>\n",
       "      <td>NaN</td>\n",
       "      <td>NaN</td>\n",
       "      <td>NaN</td>\n",
       "      <td>NaN</td>\n",
       "      <td>NaN</td>\n",
       "      <td>NaN</td>\n",
       "      <td>NaN</td>\n",
       "      <td>NaN</td>\n",
       "      <td>NaN</td>\n",
       "      <td>NaN</td>\n",
       "      <td>NaN</td>\n",
       "      <td>NaN</td>\n",
       "      <td>NaN</td>\n",
       "      <td>NaN</td>\n",
       "      <td>NaN</td>\n",
       "      <td>NaN</td>\n",
       "      <td>NaN</td>\n",
       "      <td>NaN</td>\n",
       "      <td>NaN</td>\n",
       "      <td>NaN</td>\n",
       "      <td>NaN</td>\n",
       "      <td>1.0</td>\n",
       "    </tr>\n",
       "  </tbody>\n",
       "</table>\n",
       "</div>"
      ],
      "text/plain": [
       "YearPublished  1918-01-01  1920-01-01  ...  2011-01-01  2019-01-01\n",
       "genderLabel                            ...                        \n",
       "kvinna               17.0        12.0  ...        19.0        29.0\n",
       "man                 255.0       243.0  ...       146.0       165.0\n",
       "transman              NaN         NaN  ...         NaN         1.0\n",
       "\n",
       "[3 rows x 33 columns]"
      ]
     },
     "execution_count": 269,
     "metadata": {},
     "output_type": "execute_result"
    }
   ],
   "source": [
    "plotSBLGender.unstack()"
   ]
  },
  {
   "cell_type": "code",
   "execution_count": null,
   "metadata": {},
   "outputs": [],
   "source": []
  },
  {
   "cell_type": "code",
   "execution_count": null,
   "metadata": {},
   "outputs": [],
   "source": []
  }
 ],
 "metadata": {
  "kernelspec": {
   "display_name": "Python 3",
   "language": "python",
   "name": "python3"
  },
  "language_info": {
   "codemirror_mode": {
    "name": "ipython",
    "version": 3
   },
   "file_extension": ".py",
   "mimetype": "text/x-python",
   "name": "python",
   "nbconvert_exporter": "python",
   "pygments_lexer": "ipython3",
   "version": "3.8.0"
  }
 },
 "nbformat": 4,
 "nbformat_minor": 4
}
