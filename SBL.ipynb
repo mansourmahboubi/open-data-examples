{
 "cells": [
  {
   "cell_type": "markdown",
   "metadata": {},
   "source": [
    "## Riksarkivet SBL  - Wikidata ett försök att synka och dansa med dom\n",
    "version 0.46 this [notebook](https://github.com/salgo60/open-data-examples/blob/master/SBL.ipynb)\n",
    "\n",
    "WD egenskap [Property:P3217](https://www.wikidata.org/wiki/Property:P3217) \n",
    "* SBL personartiklar som saknar [sv:Wikipedia artikel](https://w.wiki/c5f) < 150\n",
    "* [SBL vs SKBL female articles](https://github.com/salgo60/open-data-examples/blob/master/Svenskt%20Kvinnobiografiskt%20lexikon%20part%203.ipynb)  \n",
    "\n",
    "#### Andra källor vi synkar\n",
    "* [Kulturpersoner Uppsalakyrkogård](https://github.com/salgo60/open-data-examples/blob/master/Check%20WD%20kulturpersoner%20uppsalakyrkogardar.ipynb)\n",
    "* [Litteraturbanken](https://github.com/salgo60/open-data-examples/blob/master/Litteraturbanken%20Author.ipynb) \n",
    "  * WD property [P5101](https://www.wikidata.org/wiki/Property_talk:P5101) [P5123](https://www.wikidata.org/wiki/Property_talk:P5123)\n",
    "* [Nobelprize.org](https://github.com/salgo60/open-data-examples/blob/master/Nobel%20API.ipynb)\n",
    "  * WD [property 8024](https://www.wikidata.org/wiki/Property:P8024)\n",
    "* [SBL](https://github.com/salgo60/open-data-examples/blob/master/SBL.ipynb) \n",
    "  * WD [property 3217](https://www.wikidata.org/wiki/Property:P3217) \n",
    "* [SKBL](https://github.com/salgo60/open-data-examples/blob/master/Svenskt%20Kvinnobiografiskt%20lexikon%20part%203.ipynb)\n",
    "  * WD [property 4963](https://www.wikidata.org/wiki/Property:P4963)\n",
    "* [Svenska Akademien](https://github.com/salgo60/open-data-examples/blob/master/Svenska%20Akademien.ipynb) \n",
    "  * WD [property 5325](https://www.wikidata.org/wiki/Property:P5325) \n",
    "\n",
    "### SBL\n",
    "SBL har idag\n",
    "* personartiklar\n",
    "* släktartiklar\n",
    "  * en person i en släktartikel kan ha en sida som bara pekar till släktartikeln (med text ej alltid länk)\n",
    "\n",
    "Det saknas idag från Riksarkivet ett API så nedanstående är ett försök att webscrapa deras data och sedan försöka hitta en struktur. \n",
    "\n",
    "Målsättningen är att ha personerna som har en SBL personartikel representerade i Wikidata. Kul vore att även ha släktartiklarna kopplade till Wikidata... är inte säkert hur bra strukturen är för släkter/ätter/familjer i WD och sedan behövs det matchas en hel del. En person kan även omnämnas i en släktartikel och bör då i Wikidata ha \"beskriven av källa\" kopplad till dessa artiklar (exempel Gunnar Morssing [Q5994570#P1343](https://www.wikidata.org/wiki/Q5994570#P1343) som finns i artikel SBL [\"Morssing, släkt\"](https://sok.riksarkivet.se/sbl/Presentation.aspx?id=9512)) vilket är ett mycket stort jobb om Riksarkivet inte går över till att leverera [länkade data](https://sv.wikipedia.org/wiki/L%C3%A4nkade_data)... se förfrågan om bättre metadata 2019 okt 30 [T236883](https://phabricator.wikimedia.org/T236883)    \n",
    "\n",
    "**Mina gissningar** \n",
    "1. sida med född/död är en person\n",
    "2. sida med titel släkt är en släktartikel\n",
    "3. sida med född/död men för kort kan vara en referens till en släktartikel\n",
    "4. släkt artikel kan ha \"[ätt](https://sok.riksarkivet.se/sbl/Search.aspx?t=0)\" i titeln men det kan visst även person artiklar ha\n",
    "5. ....\n",
    "\n",
    "### jmf SKBL med SBL \n",
    "med ett mera komplett Wikidata kan vi nu jämföra [Svenskt Kvinnobiografiskt lexikon - SKBL](https://www.skbl.se/sv/om-skbl) med [Riksarkivet](https://sok.riksarkivet.se/sbl/OmSBL.aspx) då det gäller urval av kvinnor, antal kvinnor, hur dom levererar, API vs. inte API, skillnaden att ha enbart svenska artiklar som SBL med att även ha [engelska artiklar som SKBL](https://www.skbl.se/en/about-skbl) \n",
    "\n",
    "* [Notebook](https://github.com/salgo60/open-data-examples/blob/master/Svenskt%20Kvinnobiografiskt%20lexikon%20part%203.ipynb)\n",
    "\n",
    "# Webscrape \n",
    "1. vi gissar id min 4000 och max 40000\n"
   ]
  },
  {
   "cell_type": "code",
   "execution_count": 1,
   "metadata": {},
   "outputs": [
    {
     "name": "stdout",
     "output_type": "stream",
     "text": [
      "Last run:  2021-03-08 18:47:42.857237\n"
     ]
    }
   ],
   "source": [
    "from datetime import datetime\n",
    "now = datetime.now()\n",
    "print(\"Last run: \", now)"
   ]
  },
  {
   "cell_type": "code",
   "execution_count": 2,
   "metadata": {},
   "outputs": [
    {
     "data": {
      "application/vnd.jupyter.widget-view+json": {
       "model_id": "11f188235b1a4dc099df376767b25b85",
       "version_major": 2,
       "version_minor": 0
      },
      "text/plain": [
       "HBox(children=(FloatProgress(value=0.0, max=36000.0), HTML(value='')))"
      ]
     },
     "metadata": {},
     "output_type": "display_data"
    },
    {
     "name": "stdout",
     "output_type": "stream",
     "text": [
      "\n",
      "10129  antal poster\n"
     ]
    }
   ],
   "source": [
    "import urllib3, json\n",
    "import pandas as pd   \n",
    "from bs4 import BeautifulSoup\n",
    "import sys\n",
    "import pprint\n",
    "http = urllib3.PoolManager()\n",
    "\n",
    "from tqdm.notebook import trange  \n",
    "listNewItems =[]\n",
    "\n",
    "for SBLnr in trange(4000,40000): #gissar min 4000 max 40000\n",
    "    url = \"https://sok.riksarkivet.se/sbl/Presentation.aspx?id=\" + str(SBLnr)\n",
    "    r = http.request('GET', url) \n",
    "    if len(r.data) > 11020:\n",
    "        new_item = dict()\n",
    "        #print(SBLnr)\n",
    "        new_item['SBLnr'] = SBLnr\n",
    "        new_item['SBLlength'] = len(r.data)\n",
    "        soup = BeautifulSoup(r.data, \"html.parser\")  \n",
    "        \n",
    "        try:\n",
    "            titel = soup.findAll(\"span\", {\"id\": \"ctl00_MainContent_lblTitle\"})[0].get_text()\n",
    "            new_item['titel'] = titel\n",
    "            #print (\"\\t\",titel)\n",
    "        except:\n",
    "            pass\n",
    "        try:\n",
    "            Fodd = soup.findAll(\"span\", {\"id\": \"ctl00_MainContent_lblFodelse\"})[0].get_text()\n",
    "            #print (\"\\t\",Fodd)\n",
    "            new_item['Fodd'] = Fodd\n",
    "        except:\n",
    "            pass\n",
    "        try:\n",
    "            Dod = soup.findAll(\"span\", {\"id\": \"ctl00_MainContent_lblDod\"})[0].get_text()\n",
    "            #print (\"\\t\",Dod)\n",
    "            new_item['Dod'] = Dod\n",
    "        except:\n",
    "            pass\n",
    "        try:\n",
    "            band = soup.findAll(\"span\", {\"id\": \"ctl00_MainContent_lblBandSida\"})[0].get_text()\n",
    "            #print (\"\\t\",band)\n",
    "            new_item['Band'] = band\n",
    "            try:\n",
    "#                year = band.get_text().split(\"(\")[1].split(\")\")\n",
    "                year = band.split(\"(\")[1].split(\")\")[0]\n",
    "                #print (\"\\t\\tYear\",year)\n",
    "                new_item['Year'] = year\n",
    "            except:\n",
    "                pass\n",
    "        except:\n",
    "            pass\n",
    "            \n",
    "        listNewItems.append(new_item)\n",
    "print (len(listNewItems) ,\" antal poster\")\n",
    "        \n"
   ]
  },
  {
   "cell_type": "code",
   "execution_count": 3,
   "metadata": {},
   "outputs": [],
   "source": [
    "import csv\n",
    "if len(listNewItems) > 0:\n",
    "    keys = listNewItems[0].keys()\n",
    "    with open(\"SBL_newfile.csv\", \"w\", newline='') as SBLfile:\n",
    "        dict_writer = csv.DictWriter(SBLfile, keys)\n",
    "        dict_writer.writeheader()\n",
    "        dict_writer.writerows(listNewItems)\n",
    "\n",
    "    dfSBLcsv = pd.read_csv(\"SBL_newfile.csv\", sep=\",\")   \n",
    "    \n",
    "else:\n",
    "    print (\"Ingen fil skapas inga nya poster\") "
   ]
  },
  {
   "cell_type": "code",
   "execution_count": 4,
   "metadata": {},
   "outputs": [],
   "source": [
    "pd.set_option(\"display.max.rows\", None) "
   ]
  },
  {
   "cell_type": "code",
   "execution_count": 5,
   "metadata": {},
   "outputs": [
    {
     "name": "stdout",
     "output_type": "stream",
     "text": [
      "<class 'pandas.core.frame.DataFrame'>\n",
      "RangeIndex: 10129 entries, 0 to 10128\n",
      "Data columns (total 7 columns):\n",
      " #   Column     Non-Null Count  Dtype \n",
      "---  ------     --------------  ----- \n",
      " 0   SBLnr      10129 non-null  int64 \n",
      " 1   SBLlength  10129 non-null  int64 \n",
      " 2   titel      10129 non-null  object\n",
      " 3   Fodd       7080 non-null   object\n",
      " 4   Dod        7563 non-null   object\n",
      " 5   Band       10129 non-null  object\n",
      " 6   Year       10111 non-null  object\n",
      "dtypes: int64(2), object(5)\n",
      "memory usage: 554.1+ KB\n"
     ]
    }
   ],
   "source": [
    "dfSBLcsv.info()  "
   ]
  },
  {
   "cell_type": "markdown",
   "metadata": {},
   "source": [
    "## Wikidata hämtar alla med P3217 satt \n",
    "dvs. även släkt kopplingar"
   ]
  },
  {
   "cell_type": "code",
   "execution_count": 6,
   "metadata": {},
   "outputs": [],
   "source": [
    "from SPARQLWrapper import SPARQLWrapper, JSON\n",
    "\n",
    "endpoint_url = \"https://query.wikidata.org/sparql\"\n",
    "\n",
    "#https://w.wiki/cvY\n",
    "querySBL = \"\"\"SELECT (REPLACE(STR(?item), \".*Q\", \"Q\") AS ?wid)  ?sblid ?gender ?genderLabel WHERE {\n",
    "?item wdt:P3217 ?sblid.\n",
    "?item wdt:P31 wd:Q5.\n",
    "optional {?item wdt:P21 ?gender}\n",
    "SERVICE wikibase:label { bd:serviceParam wikibase:language \"sv,en\". }  \n",
    "}\"\"\"\n",
    "\n",
    "def get_sparql_dataframe(endpoint_url, query):\n",
    "    \"\"\"\n",
    "    Helper function to convert SPARQL results into a Pandas data frame.\n",
    "    \"\"\"\n",
    "    user_agent = \"salgo60/%s.%s\" % (sys.version_info[0], sys.version_info[1])\n",
    " \n",
    "    sparql = SPARQLWrapper(endpoint_url, agent=user_agent)\n",
    "    sparql.setQuery(query)\n",
    "    sparql.setReturnFormat(JSON)\n",
    "    result = sparql.query()\n",
    "\n",
    "    processed_results = json.load(result.response)\n",
    "    cols = processed_results['head']['vars']\n",
    "\n",
    "    out = []\n",
    "    for row in processed_results['results']['bindings']:\n",
    "        item = []\n",
    "        for c in cols:\n",
    "            item.append(row.get(c, {}).get('value'))\n",
    "        out.append(item)\n",
    "\n",
    "    return pd.DataFrame(out, columns=cols)\n",
    "\n",
    "WDSBLtot = get_sparql_dataframe(endpoint_url, querySBL)\n"
   ]
  },
  {
   "cell_type": "code",
   "execution_count": 7,
   "metadata": {},
   "outputs": [],
   "source": [
    "WDSBLtot.sort_index(inplace=True)  "
   ]
  },
  {
   "cell_type": "code",
   "execution_count": 8,
   "metadata": {},
   "outputs": [
    {
     "name": "stdout",
     "output_type": "stream",
     "text": [
      "<class 'pandas.core.frame.DataFrame'>\n",
      "RangeIndex: 7597 entries, 0 to 7596\n",
      "Data columns (total 4 columns):\n",
      " #   Column       Non-Null Count  Dtype \n",
      "---  ------       --------------  ----- \n",
      " 0   wid          7597 non-null   object\n",
      " 1   sblid        7597 non-null   object\n",
      " 2   gender       7597 non-null   object\n",
      " 3   genderLabel  7597 non-null   object\n",
      "dtypes: object(4)\n",
      "memory usage: 237.5+ KB\n"
     ]
    }
   ],
   "source": [
    "WDSBLtot.info()"
   ]
  },
  {
   "cell_type": "code",
   "execution_count": 9,
   "metadata": {},
   "outputs": [],
   "source": [
    "%matplotlib inline    \n",
    "import matplotlib.pyplot as plt   \n",
    "plotSBLYearBand = dfSBLcsv[\"Year\"].value_counts()\n"
   ]
  },
  {
   "cell_type": "code",
   "execution_count": 10,
   "metadata": {},
   "outputs": [
    {
     "data": {
      "image/png": "[encoded data removed]",
      "text/plain": [
       "<Figure size 432x288 with 1 Axes>"
      ]
     },
     "metadata": {
      "needs_background": "light"
     },
     "output_type": "display_data"
    }
   ],
   "source": [
    "plotSBLYearBand.plot( kind = 'bar') \n",
    "plt.title(\"SBL artiklar publiserade per Bok/Band\")\n",
    "plt.show()"
   ]
  },
  {
   "cell_type": "code",
   "execution_count": 13,
   "metadata": {},
   "outputs": [
    {
     "ename": "KeyError",
     "evalue": "\"None of ['YearPublished'] are in the columns\"",
     "output_type": "error",
     "traceback": [
      "\u001b[0;31m---------------------------------------------------------------------------\u001b[0m",
      "\u001b[0;31mKeyError\u001b[0m                                  Traceback (most recent call last)",
      "\u001b[0;32m<ipython-input-13-ce2af16639f0>\u001b[0m in \u001b[0;36m<module>\u001b[0;34m\u001b[0m\n\u001b[1;32m      1\u001b[0m \u001b[0;32mimport\u001b[0m \u001b[0mmatplotlib\u001b[0m\u001b[0;34m.\u001b[0m\u001b[0mdates\u001b[0m \u001b[0;32mas\u001b[0m \u001b[0mmdates\u001b[0m\u001b[0;34m\u001b[0m\u001b[0;34m\u001b[0m\u001b[0m\n\u001b[0;32m----> 2\u001b[0;31m \u001b[0mdfSBLcsv\u001b[0m\u001b[0;34m.\u001b[0m\u001b[0mset_index\u001b[0m\u001b[0;34m(\u001b[0m\u001b[0;34m'YearPublished'\u001b[0m\u001b[0;34m,\u001b[0m\u001b[0minplace\u001b[0m\u001b[0;34m=\u001b[0m\u001b[0;32mTrue\u001b[0m\u001b[0;34m)\u001b[0m\u001b[0;34m\u001b[0m\u001b[0;34m\u001b[0m\u001b[0m\n\u001b[0m\u001b[1;32m      3\u001b[0m \u001b[0mdfSBLcsv\u001b[0m\u001b[0;34m[\u001b[0m\u001b[0;34m\"YearPublished\"\u001b[0m\u001b[0;34m]\u001b[0m \u001b[0;34m=\u001b[0m \u001b[0mdfSBLcsv\u001b[0m\u001b[0;34m[\u001b[0m\u001b[0;34m\"Year\"\u001b[0m\u001b[0;34m]\u001b[0m\u001b[0;34m.\u001b[0m\u001b[0mstr\u001b[0m\u001b[0;34m[\u001b[0m\u001b[0;34m-\u001b[0m\u001b[0;36m4\u001b[0m\u001b[0;34m:\u001b[0m\u001b[0;34m]\u001b[0m\u001b[0;34m\u001b[0m\u001b[0;34m\u001b[0m\u001b[0m\n\u001b[1;32m      4\u001b[0m \u001b[0mdfSBLcsv\u001b[0m\u001b[0;34m[\u001b[0m\u001b[0;34m\"YearPublished\"\u001b[0m\u001b[0;34m]\u001b[0m \u001b[0;34m=\u001b[0m \u001b[0mdfSBLcsv\u001b[0m\u001b[0;34m[\u001b[0m\u001b[0;34m\"YearPublished\"\u001b[0m\u001b[0;34m]\u001b[0m\u001b[0;34m.\u001b[0m\u001b[0mastype\u001b[0m\u001b[0;34m(\u001b[0m\u001b[0;34m\"datetime64\"\u001b[0m\u001b[0;34m)\u001b[0m\u001b[0;34m\u001b[0m\u001b[0;34m\u001b[0m\u001b[0m\n\u001b[1;32m      5\u001b[0m \u001b[0mdfSBLcsv\u001b[0m\u001b[0;34m[\u001b[0m\u001b[0;34m\"YearPublished\"\u001b[0m\u001b[0;34m]\u001b[0m\u001b[0;34m.\u001b[0m\u001b[0mdt\u001b[0m\u001b[0;34m.\u001b[0m\u001b[0mstrftime\u001b[0m\u001b[0;34m(\u001b[0m\u001b[0;34m'%Y'\u001b[0m\u001b[0;34m)\u001b[0m\u001b[0;34m\u001b[0m\u001b[0;34m\u001b[0m\u001b[0m\n",
      "\u001b[0;32m/Library/Frameworks/Python.framework/Versions/3.8/lib/python3.8/site-packages/pandas/core/frame.py\u001b[0m in \u001b[0;36mset_index\u001b[0;34m(self, keys, drop, append, inplace, verify_integrity)\u001b[0m\n\u001b[1;32m   4548\u001b[0m \u001b[0;34m\u001b[0m\u001b[0m\n\u001b[1;32m   4549\u001b[0m         \u001b[0;32mif\u001b[0m \u001b[0mmissing\u001b[0m\u001b[0;34m:\u001b[0m\u001b[0;34m\u001b[0m\u001b[0;34m\u001b[0m\u001b[0m\n\u001b[0;32m-> 4550\u001b[0;31m             \u001b[0;32mraise\u001b[0m \u001b[0mKeyError\u001b[0m\u001b[0;34m(\u001b[0m\u001b[0;34mf\"None of {missing} are in the columns\"\u001b[0m\u001b[0;34m)\u001b[0m\u001b[0;34m\u001b[0m\u001b[0;34m\u001b[0m\u001b[0m\n\u001b[0m\u001b[1;32m   4551\u001b[0m \u001b[0;34m\u001b[0m\u001b[0m\n\u001b[1;32m   4552\u001b[0m         \u001b[0;32mif\u001b[0m \u001b[0minplace\u001b[0m\u001b[0;34m:\u001b[0m\u001b[0;34m\u001b[0m\u001b[0;34m\u001b[0m\u001b[0m\n",
      "\u001b[0;31mKeyError\u001b[0m: \"None of ['YearPublished'] are in the columns\""
     ]
    }
   ],
   "source": [
    "import matplotlib.dates as mdates  \n",
    "dfSBLcsv.set_index('YearPublished',inplace=True)  \n",
    "dfSBLcsv[\"YearPublished\"] = dfSBLcsv[\"Year\"].str[-4:] \n",
    "dfSBLcsv[\"YearPublished\"] = dfSBLcsv[\"YearPublished\"].astype(\"datetime64\")\n",
    "dfSBLcsv[\"YearPublished\"].dt.strftime('%Y')\n",
    "# set date as index\n",
    "fig, ax = plt.subplots(figsize=(15,7))\n",
    "years_fmt = mdates.DateFormatter('%M')\n",
    "ax.xaxis.set_major_formatter(years_fmt) \n",
    "\n",
    "#plotSBLYearPublished = dfSBLcsv[\"YearPublished\"].dt.year.value_counts().sort_index()\n",
    "#plotSBLYearPublished = dfSBLcsv[\"YearPublished\"].dt.strftime(\"%Y\").value_counts().sort_index()\n",
    "#plotSBLYearPublished.plot( kind = 'bar',ax=ax)   \n",
    "\n",
    "#set major ticks format\n",
    "#ax.xaxis_date()\n",
    "#ax.autoscale_view()\n",
    "#ax.xaxis.set_major_formatter(mdates.DateFormatter('%b %d'))\n",
    "#plt.title(\"SBL articles published per Year 1918-2019\")\n",
    "#plt.savefig('SBL_published_articles_1918-2018.png')  \n",
    "#plt.show()  \n",
    "#plotSBLYearPublished.info"
   ]
  },
  {
   "cell_type": "code",
   "execution_count": 14,
   "metadata": {},
   "outputs": [
    {
     "name": "stdout",
     "output_type": "stream",
     "text": [
      "<class 'pandas.core.frame.DataFrame'>\n",
      "RangeIndex: 10129 entries, 0 to 10128\n",
      "Data columns (total 7 columns):\n",
      " #   Column     Non-Null Count  Dtype \n",
      "---  ------     --------------  ----- \n",
      " 0   SBLnr      10129 non-null  int64 \n",
      " 1   SBLlength  10129 non-null  int64 \n",
      " 2   titel      10129 non-null  object\n",
      " 3   Fodd       7080 non-null   object\n",
      " 4   Dod        7563 non-null   object\n",
      " 5   Band       10129 non-null  object\n",
      " 6   Year       10111 non-null  object\n",
      "dtypes: int64(2), object(5)\n",
      "memory usage: 554.1+ KB\n"
     ]
    }
   ],
   "source": [
    "dfSBLcsv.info()"
   ]
  },
  {
   "cell_type": "code",
   "execution_count": 15,
   "metadata": {},
   "outputs": [
    {
     "data": {
      "text/html": [
       "<div>\n",
       "<style scoped>\n",
       "    .dataframe tbody tr th:only-of-type {\n",
       "        vertical-align: middle;\n",
       "    }\n",
       "\n",
       "    .dataframe tbody tr th {\n",
       "        vertical-align: top;\n",
       "    }\n",
       "\n",
       "    .dataframe thead th {\n",
       "        text-align: right;\n",
       "    }\n",
       "</style>\n",
       "<table border=\"1\" class=\"dataframe\">\n",
       "  <thead>\n",
       "    <tr style=\"text-align: right;\">\n",
       "      <th></th>\n",
       "      <th>SBLnr</th>\n",
       "      <th>SBLlength</th>\n",
       "      <th>titel</th>\n",
       "      <th>Fodd</th>\n",
       "      <th>Dod</th>\n",
       "      <th>Band</th>\n",
       "      <th>Year</th>\n",
       "    </tr>\n",
       "  </thead>\n",
       "  <tbody>\n",
       "    <tr>\n",
       "      <th>0</th>\n",
       "      <td>5490</td>\n",
       "      <td>12160</td>\n",
       "      <td>Abelin, släkt</td>\n",
       "      <td>NaN</td>\n",
       "      <td>NaN</td>\n",
       "      <td>Band 01 (1918), sida 1.</td>\n",
       "      <td>1918</td>\n",
       "    </tr>\n",
       "    <tr>\n",
       "      <th>1</th>\n",
       "      <td>5491</td>\n",
       "      <td>36851</td>\n",
       "      <td>Gustaf R Abelin</td>\n",
       "      <td>Född:1819-05-17 – Linköpings Domkyrkoförsamlin...</td>\n",
       "      <td>Död:1903-09-19 – Kvillinge församling, Östergö...</td>\n",
       "      <td>Band 01 (1918), sida 5.</td>\n",
       "      <td>1918</td>\n",
       "    </tr>\n",
       "    <tr>\n",
       "      <th>2</th>\n",
       "      <td>5492</td>\n",
       "      <td>46079</td>\n",
       "      <td>Hjalmar A Abelin</td>\n",
       "      <td>Född:1817-05-22 – Linköpings Domkyrkoförsamlin...</td>\n",
       "      <td>Död:1893-09-13 – Stockholms stad, Stockholms län</td>\n",
       "      <td>Band 01 (1918), sida 1.</td>\n",
       "      <td>1918</td>\n",
       "    </tr>\n",
       "    <tr>\n",
       "      <th>3</th>\n",
       "      <td>5493</td>\n",
       "      <td>23231</td>\n",
       "      <td>C Rudolf Z Abelin</td>\n",
       "      <td>Född:1864-05-30 – Malmö stad, Skåne län</td>\n",
       "      <td>Död:1961 – Västra Karups församling, Kristians...</td>\n",
       "      <td>Band 01 (1918), sida 9.</td>\n",
       "      <td>1918</td>\n",
       "    </tr>\n",
       "    <tr>\n",
       "      <th>4</th>\n",
       "      <td>5494</td>\n",
       "      <td>28942</td>\n",
       "      <td>P Wilhelm Abenius</td>\n",
       "      <td>Född:1864-05-21 – Orsa församling, Dalarnas län</td>\n",
       "      <td>Död:1956 – Ramsbergs församling, Örebro län</td>\n",
       "      <td>Band 01 (1918), sida 11.</td>\n",
       "      <td>1918</td>\n",
       "    </tr>\n",
       "  </tbody>\n",
       "</table>\n",
       "</div>"
      ],
      "text/plain": [
       "   SBLnr  SBLlength  ...                      Band  Year\n",
       "0   5490      12160  ...   Band 01 (1918), sida 1.  1918\n",
       "1   5491      36851  ...   Band 01 (1918), sida 5.  1918\n",
       "2   5492      46079  ...   Band 01 (1918), sida 1.  1918\n",
       "3   5493      23231  ...   Band 01 (1918), sida 9.  1918\n",
       "4   5494      28942  ...  Band 01 (1918), sida 11.  1918\n",
       "\n",
       "[5 rows x 7 columns]"
      ]
     },
     "execution_count": 15,
     "metadata": {},
     "output_type": "execute_result"
    }
   ],
   "source": [
    "dfSBLcsv.head()"
   ]
  },
  {
   "cell_type": "code",
   "execution_count": 16,
   "metadata": {},
   "outputs": [],
   "source": [
    "dfSBLcsv[\"url\"] = \"https://sok.riksarkivet.se/sbl/Presentation.aspx?id=\" + str(dfSBLcsv[\"SBLnr\"])"
   ]
  },
  {
   "cell_type": "code",
   "execution_count": 17,
   "metadata": {},
   "outputs": [],
   "source": [
    "#dfFamily = dfSBLAuthorcsv.dropna()  \n",
    "dfPerson = dfSBLcsv.dropna(subset = ['Fodd', 'Dod'])"
   ]
  },
  {
   "cell_type": "code",
   "execution_count": 18,
   "metadata": {},
   "outputs": [
    {
     "name": "stdout",
     "output_type": "stream",
     "text": [
      "<class 'pandas.core.frame.DataFrame'>\n",
      "Int64Index: 7073 entries, 1 to 10126\n",
      "Data columns (total 8 columns):\n",
      " #   Column     Non-Null Count  Dtype \n",
      "---  ------     --------------  ----- \n",
      " 0   SBLnr      7073 non-null   int64 \n",
      " 1   SBLlength  7073 non-null   int64 \n",
      " 2   titel      7073 non-null   object\n",
      " 3   Fodd       7073 non-null   object\n",
      " 4   Dod        7073 non-null   object\n",
      " 5   Band       7073 non-null   object\n",
      " 6   Year       7072 non-null   object\n",
      " 7   url        7073 non-null   object\n",
      "dtypes: int64(2), object(6)\n",
      "memory usage: 497.3+ KB\n"
     ]
    }
   ],
   "source": [
    "dfPerson.info()"
   ]
  },
  {
   "cell_type": "markdown",
   "metadata": {},
   "source": [
    "### Join Wikidata\n",
    "as Wikidata we guess knows what articles are about a man and a women we can try merge "
   ]
  },
  {
   "cell_type": "code",
   "execution_count": 28,
   "metadata": {},
   "outputs": [
    {
     "name": "stdout",
     "output_type": "stream",
     "text": [
      "<class 'pandas.core.frame.DataFrame'>\n",
      "RangeIndex: 10129 entries, 0 to 10128\n",
      "Data columns (total 8 columns):\n",
      " #   Column     Non-Null Count  Dtype \n",
      "---  ------     --------------  ----- \n",
      " 0   SBLnr      10129 non-null  int64 \n",
      " 1   SBLlength  10129 non-null  int64 \n",
      " 2   titel      10129 non-null  object\n",
      " 3   Fodd       7080 non-null   object\n",
      " 4   Dod        7563 non-null   object\n",
      " 5   Band       10129 non-null  object\n",
      " 6   Year       10111 non-null  object\n",
      " 7   url        10129 non-null  object\n",
      "dtypes: int64(2), object(6)\n",
      "memory usage: 633.2+ KB\n"
     ]
    }
   ],
   "source": [
    "dfSBLcsv['SBLnr']= dfSBLcsv['SBLnr'].astype(str).astype(int)\n",
    "dfSBLcsv.info()"
   ]
  },
  {
   "cell_type": "code",
   "execution_count": 20,
   "metadata": {},
   "outputs": [
    {
     "name": "stdout",
     "output_type": "stream",
     "text": [
      "<class 'pandas.core.frame.DataFrame'>\n",
      "RangeIndex: 10129 entries, 0 to 10128\n",
      "Data columns (total 8 columns):\n",
      " #   Column     Non-Null Count  Dtype \n",
      "---  ------     --------------  ----- \n",
      " 0   SBLnr      10129 non-null  int64 \n",
      " 1   SBLlength  10129 non-null  int64 \n",
      " 2   titel      10129 non-null  object\n",
      " 3   Fodd       7080 non-null   object\n",
      " 4   Dod        7563 non-null   object\n",
      " 5   Band       10129 non-null  object\n",
      " 6   Year       10111 non-null  object\n",
      " 7   url        10129 non-null  object\n",
      "dtypes: int64(2), object(6)\n",
      "memory usage: 633.2+ KB\n"
     ]
    }
   ],
   "source": [
    "dfSBLcsv.info()"
   ]
  },
  {
   "cell_type": "code",
   "execution_count": 29,
   "metadata": {},
   "outputs": [
    {
     "name": "stdout",
     "output_type": "stream",
     "text": [
      "<class 'pandas.core.frame.DataFrame'>\n",
      "RangeIndex: 7597 entries, 0 to 7596\n",
      "Data columns (total 4 columns):\n",
      " #   Column       Non-Null Count  Dtype \n",
      "---  ------       --------------  ----- \n",
      " 0   wid          7597 non-null   object\n",
      " 1   sblid        7597 non-null   int64 \n",
      " 2   gender       7597 non-null   object\n",
      " 3   genderLabel  7597 non-null   object\n",
      "dtypes: int64(1), object(3)\n",
      "memory usage: 237.5+ KB\n"
     ]
    }
   ],
   "source": [
    "WDSBLtot['sblid']= WDSBLtot['sblid'].astype(str).astype(int)\n",
    "WDSBLtot.info()"
   ]
  },
  {
   "cell_type": "code",
   "execution_count": 30,
   "metadata": {},
   "outputs": [
    {
     "data": {
      "text/html": [
       "<div>\n",
       "<style scoped>\n",
       "    .dataframe tbody tr th:only-of-type {\n",
       "        vertical-align: middle;\n",
       "    }\n",
       "\n",
       "    .dataframe tbody tr th {\n",
       "        vertical-align: top;\n",
       "    }\n",
       "\n",
       "    .dataframe thead th {\n",
       "        text-align: right;\n",
       "    }\n",
       "</style>\n",
       "<table border=\"1\" class=\"dataframe\">\n",
       "  <thead>\n",
       "    <tr style=\"text-align: right;\">\n",
       "      <th></th>\n",
       "      <th>wid</th>\n",
       "      <th>sblid</th>\n",
       "      <th>gender</th>\n",
       "      <th>genderLabel</th>\n",
       "    </tr>\n",
       "  </thead>\n",
       "  <tbody>\n",
       "    <tr>\n",
       "      <th>0</th>\n",
       "      <td>Q44519</td>\n",
       "      <td>10922</td>\n",
       "      <td>http://www.wikidata.org/entity/Q6581072</td>\n",
       "      <td>kvinna</td>\n",
       "    </tr>\n",
       "    <tr>\n",
       "      <th>1</th>\n",
       "      <td>Q67194</td>\n",
       "      <td>5575</td>\n",
       "      <td>http://www.wikidata.org/entity/Q6581097</td>\n",
       "      <td>man</td>\n",
       "    </tr>\n",
       "    <tr>\n",
       "      <th>2</th>\n",
       "      <td>Q243068</td>\n",
       "      <td>11121</td>\n",
       "      <td>http://www.wikidata.org/entity/Q6581072</td>\n",
       "      <td>kvinna</td>\n",
       "    </tr>\n",
       "    <tr>\n",
       "      <th>3</th>\n",
       "      <td>Q364505</td>\n",
       "      <td>10453</td>\n",
       "      <td>http://www.wikidata.org/entity/Q6581097</td>\n",
       "      <td>man</td>\n",
       "    </tr>\n",
       "    <tr>\n",
       "      <th>4</th>\n",
       "      <td>Q445357</td>\n",
       "      <td>12878</td>\n",
       "      <td>http://www.wikidata.org/entity/Q6581097</td>\n",
       "      <td>man</td>\n",
       "    </tr>\n",
       "  </tbody>\n",
       "</table>\n",
       "</div>"
      ],
      "text/plain": [
       "       wid  sblid                                   gender genderLabel\n",
       "0   Q44519  10922  http://www.wikidata.org/entity/Q6581072      kvinna\n",
       "1   Q67194   5575  http://www.wikidata.org/entity/Q6581097         man\n",
       "2  Q243068  11121  http://www.wikidata.org/entity/Q6581072      kvinna\n",
       "3  Q364505  10453  http://www.wikidata.org/entity/Q6581097         man\n",
       "4  Q445357  12878  http://www.wikidata.org/entity/Q6581097         man"
      ]
     },
     "execution_count": 30,
     "metadata": {},
     "output_type": "execute_result"
    }
   ],
   "source": [
    "WDSBLtot.head()"
   ]
  },
  {
   "cell_type": "code",
   "execution_count": 31,
   "metadata": {},
   "outputs": [
    {
     "data": {
      "text/plain": [
       "man         7069\n",
       "kvinna       527\n",
       "transman       1\n",
       "Name: genderLabel, dtype: int64"
      ]
     },
     "execution_count": 31,
     "metadata": {},
     "output_type": "execute_result"
    }
   ],
   "source": [
    "WDSBLtot[\"genderLabel\"].value_counts()  "
   ]
  },
  {
   "cell_type": "code",
   "execution_count": 32,
   "metadata": {},
   "outputs": [
    {
     "data": {
      "text/plain": [
       "both           7595\n",
       "scrape_only    2535\n",
       "WD_only           2\n",
       "Name: WD_Webscrape, dtype: int64"
      ]
     },
     "execution_count": 32,
     "metadata": {},
     "output_type": "execute_result"
    }
   ],
   "source": [
    "#WDSBLtot plotSBLYearPublished  \n",
    "mergeWDSBLwebscrape = pd.merge(WDSBLtot, dfSBLcsv,how='outer',left_on='sblid', right_on='SBLnr',indicator=True)   \n",
    "mergeWDSBLwebscrape.rename(columns={\"_merge\": \"WD_Webscrape\"},inplace = True)\n",
    "mergeWDSBLwebscrape['WD_Webscrape'] = mergeWDSBLwebscrape['WD_Webscrape'].str.replace('left_only','WD_only').str.replace('right_only','scrape_only')\n",
    "mergeWDSBLwebscrape[\"WD_Webscrape\"].value_counts()  \n"
   ]
  },
  {
   "cell_type": "code",
   "execution_count": 33,
   "metadata": {},
   "outputs": [
    {
     "data": {
      "text/html": [
       "<div>\n",
       "<style scoped>\n",
       "    .dataframe tbody tr th:only-of-type {\n",
       "        vertical-align: middle;\n",
       "    }\n",
       "\n",
       "    .dataframe tbody tr th {\n",
       "        vertical-align: top;\n",
       "    }\n",
       "\n",
       "    .dataframe thead th {\n",
       "        text-align: right;\n",
       "    }\n",
       "</style>\n",
       "<table border=\"1\" class=\"dataframe\">\n",
       "  <thead>\n",
       "    <tr style=\"text-align: right;\">\n",
       "      <th></th>\n",
       "      <th>wid</th>\n",
       "      <th>sblid</th>\n",
       "      <th>gender</th>\n",
       "      <th>genderLabel</th>\n",
       "      <th>SBLnr</th>\n",
       "      <th>SBLlength</th>\n",
       "      <th>titel</th>\n",
       "      <th>Fodd</th>\n",
       "      <th>Dod</th>\n",
       "      <th>Band</th>\n",
       "      <th>Year</th>\n",
       "      <th>url</th>\n",
       "      <th>WD_Webscrape</th>\n",
       "    </tr>\n",
       "  </thead>\n",
       "  <tbody>\n",
       "    <tr>\n",
       "      <th>0</th>\n",
       "      <td>Q44519</td>\n",
       "      <td>10922.0</td>\n",
       "      <td>http://www.wikidata.org/entity/Q6581072</td>\n",
       "      <td>kvinna</td>\n",
       "      <td>10922.0</td>\n",
       "      <td>103928.0</td>\n",
       "      <td>Selma O L Lagerlöf</td>\n",
       "      <td>Född:1858-11-20 – Östra Ämterviks församling, ...</td>\n",
       "      <td>Död:1940-03-16 – Östra Ämterviks församling, V...</td>\n",
       "      <td>Band 22 (1977-1979), sida 154.</td>\n",
       "      <td>1977-1979</td>\n",
       "      <td>https://sok.riksarkivet.se/sbl/Presentation.as...</td>\n",
       "      <td>both</td>\n",
       "    </tr>\n",
       "    <tr>\n",
       "      <th>2</th>\n",
       "      <td>Q243068</td>\n",
       "      <td>11121.0</td>\n",
       "      <td>http://www.wikidata.org/entity/Q6581072</td>\n",
       "      <td>kvinna</td>\n",
       "      <td>11121.0</td>\n",
       "      <td>75619.0</td>\n",
       "      <td>Anne Charlotte G Leffler</td>\n",
       "      <td>Född:1849-10-01 – Klara församling, Stockholms...</td>\n",
       "      <td>Död:1892-10-21 – Italien (i Neapel)</td>\n",
       "      <td>Band 22 (1977-1979), sida 434.</td>\n",
       "      <td>1977-1979</td>\n",
       "      <td>https://sok.riksarkivet.se/sbl/Presentation.as...</td>\n",
       "      <td>both</td>\n",
       "    </tr>\n",
       "    <tr>\n",
       "      <th>6</th>\n",
       "      <td>Q526915</td>\n",
       "      <td>15535.0</td>\n",
       "      <td>http://www.wikidata.org/entity/Q6581072</td>\n",
       "      <td>kvinna</td>\n",
       "      <td>15535.0</td>\n",
       "      <td>61956.0</td>\n",
       "      <td>Eugénie (C. Eugénie A. A. A.)</td>\n",
       "      <td>Född:1830-04-24 – Stockholms stad, Stockholms ...</td>\n",
       "      <td>Död:1889-04-23 – Stockholms stad, Stockholms l...</td>\n",
       "      <td>Band 14 (1953), sida 662.</td>\n",
       "      <td>1953</td>\n",
       "      <td>https://sok.riksarkivet.se/sbl/Presentation.as...</td>\n",
       "      <td>both</td>\n",
       "    </tr>\n",
       "    <tr>\n",
       "      <th>16</th>\n",
       "      <td>Q2925391</td>\n",
       "      <td>16949.0</td>\n",
       "      <td>http://www.wikidata.org/entity/Q6581072</td>\n",
       "      <td>kvinna</td>\n",
       "      <td>16949.0</td>\n",
       "      <td>12769.0</td>\n",
       "      <td>Brigida</td>\n",
       "      <td>NaN</td>\n",
       "      <td>Död:levde på 1100</td>\n",
       "      <td>Band 06 (1926), sida 231.</td>\n",
       "      <td>1926</td>\n",
       "      <td>https://sok.riksarkivet.se/sbl/Presentation.as...</td>\n",
       "      <td>both</td>\n",
       "    </tr>\n",
       "    <tr>\n",
       "      <th>22</th>\n",
       "      <td>Q4681829</td>\n",
       "      <td>6014.0</td>\n",
       "      <td>http://www.wikidata.org/entity/Q6581072</td>\n",
       "      <td>kvinna</td>\n",
       "      <td>6014.0</td>\n",
       "      <td>35179.0</td>\n",
       "      <td>Adelaide A Skilondz</td>\n",
       "      <td>Född:1882-01-27 – Ryssland (i S:t Petersburg)</td>\n",
       "      <td>Död:1969-04-05 – Oscars församling, Stockholms...</td>\n",
       "      <td>Band 32 (2003-2006), sida 438.</td>\n",
       "      <td>2003-2006</td>\n",
       "      <td>https://sok.riksarkivet.se/sbl/Presentation.as...</td>\n",
       "      <td>both</td>\n",
       "    </tr>\n",
       "  </tbody>\n",
       "</table>\n",
       "</div>"
      ],
      "text/plain": [
       "         wid  ...  WD_Webscrape\n",
       "0     Q44519  ...          both\n",
       "2    Q243068  ...          both\n",
       "6    Q526915  ...          both\n",
       "16  Q2925391  ...          both\n",
       "22  Q4681829  ...          both\n",
       "\n",
       "[5 rows x 13 columns]"
      ]
     },
     "execution_count": 33,
     "metadata": {},
     "output_type": "execute_result"
    }
   ],
   "source": [
    "dfWD_SBL_article = mergeWDSBLwebscrape[mergeWDSBLwebscrape.WD_Webscrape.str.contains(\"both\")]\n",
    "#dfWDSKBLarticle.YearPublished.dt.strftime(\"%Y\") \n",
    "#dfWDSKBLarticle.info()  \n",
    "dfWD_SBL_female_article = dfWD_SBL_article[dfWD_SBL_article.genderLabel.str.contains(\"kvinna\")]\n",
    "dfWD_SBL_female_article.head()  \n",
    "# Year genderLabel count"
   ]
  },
  {
   "cell_type": "code",
   "execution_count": 36,
   "metadata": {},
   "outputs": [],
   "source": [
    "# set date as index\n",
    "#fig = plt.subplots(figsize=(15,7))\n",
    "\n",
    "#plotSBLYearFemailPublished = dfWD_SBL_female_article[\"YearPublished\"].dt.strftime(\"%Y\").value_counts().sort_index().plot(kind='bar', color=['red'])\n",
    "\n",
    "#plt.title(\"SBL articles published per Year about women 1918-2019\")\n",
    "#plt.savefig('SBL_published_articles_women_1918-2018.png')  \n",
    "#plt.show()  \n",
    "#plotSBLYearPublished.info \n"
   ]
  },
  {
   "cell_type": "code",
   "execution_count": 38,
   "metadata": {},
   "outputs": [],
   "source": [
    "#dfWD_SBL_female_article[\"YearPublished\"].dt.strftime(\"%Y\").value_counts().sort_index(ascending=False)"
   ]
  },
  {
   "cell_type": "code",
   "execution_count": 39,
   "metadata": {},
   "outputs": [
    {
     "data": {
      "text/html": [
       "<div>\n",
       "<style scoped>\n",
       "    .dataframe tbody tr th:only-of-type {\n",
       "        vertical-align: middle;\n",
       "    }\n",
       "\n",
       "    .dataframe tbody tr th {\n",
       "        vertical-align: top;\n",
       "    }\n",
       "\n",
       "    .dataframe thead th {\n",
       "        text-align: right;\n",
       "    }\n",
       "</style>\n",
       "<table border=\"1\" class=\"dataframe\">\n",
       "  <thead>\n",
       "    <tr style=\"text-align: right;\">\n",
       "      <th></th>\n",
       "      <th>wid</th>\n",
       "      <th>sblid</th>\n",
       "      <th>gender</th>\n",
       "      <th>genderLabel</th>\n",
       "      <th>SBLnr</th>\n",
       "      <th>SBLlength</th>\n",
       "      <th>titel</th>\n",
       "      <th>Fodd</th>\n",
       "      <th>Dod</th>\n",
       "      <th>Band</th>\n",
       "      <th>Year</th>\n",
       "      <th>url</th>\n",
       "      <th>WD_Webscrape</th>\n",
       "    </tr>\n",
       "  </thead>\n",
       "  <tbody>\n",
       "    <tr>\n",
       "      <th>0</th>\n",
       "      <td>Q44519</td>\n",
       "      <td>10922.0</td>\n",
       "      <td>http://www.wikidata.org/entity/Q6581072</td>\n",
       "      <td>kvinna</td>\n",
       "      <td>10922.0</td>\n",
       "      <td>103928.0</td>\n",
       "      <td>Selma O L Lagerlöf</td>\n",
       "      <td>Född:1858-11-20 – Östra Ämterviks församling, ...</td>\n",
       "      <td>Död:1940-03-16 – Östra Ämterviks församling, V...</td>\n",
       "      <td>Band 22 (1977-1979), sida 154.</td>\n",
       "      <td>1977-1979</td>\n",
       "      <td>https://sok.riksarkivet.se/sbl/Presentation.as...</td>\n",
       "      <td>both</td>\n",
       "    </tr>\n",
       "    <tr>\n",
       "      <th>2</th>\n",
       "      <td>Q243068</td>\n",
       "      <td>11121.0</td>\n",
       "      <td>http://www.wikidata.org/entity/Q6581072</td>\n",
       "      <td>kvinna</td>\n",
       "      <td>11121.0</td>\n",
       "      <td>75619.0</td>\n",
       "      <td>Anne Charlotte G Leffler</td>\n",
       "      <td>Född:1849-10-01 – Klara församling, Stockholms...</td>\n",
       "      <td>Död:1892-10-21 – Italien (i Neapel)</td>\n",
       "      <td>Band 22 (1977-1979), sida 434.</td>\n",
       "      <td>1977-1979</td>\n",
       "      <td>https://sok.riksarkivet.se/sbl/Presentation.as...</td>\n",
       "      <td>both</td>\n",
       "    </tr>\n",
       "    <tr>\n",
       "      <th>6</th>\n",
       "      <td>Q526915</td>\n",
       "      <td>15535.0</td>\n",
       "      <td>http://www.wikidata.org/entity/Q6581072</td>\n",
       "      <td>kvinna</td>\n",
       "      <td>15535.0</td>\n",
       "      <td>61956.0</td>\n",
       "      <td>Eugénie (C. Eugénie A. A. A.)</td>\n",
       "      <td>Född:1830-04-24 – Stockholms stad, Stockholms ...</td>\n",
       "      <td>Död:1889-04-23 – Stockholms stad, Stockholms l...</td>\n",
       "      <td>Band 14 (1953), sida 662.</td>\n",
       "      <td>1953</td>\n",
       "      <td>https://sok.riksarkivet.se/sbl/Presentation.as...</td>\n",
       "      <td>both</td>\n",
       "    </tr>\n",
       "    <tr>\n",
       "      <th>16</th>\n",
       "      <td>Q2925391</td>\n",
       "      <td>16949.0</td>\n",
       "      <td>http://www.wikidata.org/entity/Q6581072</td>\n",
       "      <td>kvinna</td>\n",
       "      <td>16949.0</td>\n",
       "      <td>12769.0</td>\n",
       "      <td>Brigida</td>\n",
       "      <td>NaN</td>\n",
       "      <td>Död:levde på 1100</td>\n",
       "      <td>Band 06 (1926), sida 231.</td>\n",
       "      <td>1926</td>\n",
       "      <td>https://sok.riksarkivet.se/sbl/Presentation.as...</td>\n",
       "      <td>both</td>\n",
       "    </tr>\n",
       "    <tr>\n",
       "      <th>22</th>\n",
       "      <td>Q4681829</td>\n",
       "      <td>6014.0</td>\n",
       "      <td>http://www.wikidata.org/entity/Q6581072</td>\n",
       "      <td>kvinna</td>\n",
       "      <td>6014.0</td>\n",
       "      <td>35179.0</td>\n",
       "      <td>Adelaide A Skilondz</td>\n",
       "      <td>Född:1882-01-27 – Ryssland (i S:t Petersburg)</td>\n",
       "      <td>Död:1969-04-05 – Oscars församling, Stockholms...</td>\n",
       "      <td>Band 32 (2003-2006), sida 438.</td>\n",
       "      <td>2003-2006</td>\n",
       "      <td>https://sok.riksarkivet.se/sbl/Presentation.as...</td>\n",
       "      <td>both</td>\n",
       "    </tr>\n",
       "  </tbody>\n",
       "</table>\n",
       "</div>"
      ],
      "text/plain": [
       "         wid  ...  WD_Webscrape\n",
       "0     Q44519  ...          both\n",
       "2    Q243068  ...          both\n",
       "6    Q526915  ...          both\n",
       "16  Q2925391  ...          both\n",
       "22  Q4681829  ...          both\n",
       "\n",
       "[5 rows x 13 columns]"
      ]
     },
     "execution_count": 39,
     "metadata": {},
     "output_type": "execute_result"
    }
   ],
   "source": [
    "dfWD_SBL_female_article.head()"
   ]
  },
  {
   "cell_type": "code",
   "execution_count": 40,
   "metadata": {},
   "outputs": [
    {
     "ename": "KeyError",
     "evalue": "'YearPublished'",
     "output_type": "error",
     "traceback": [
      "\u001b[0;31m---------------------------------------------------------------------------\u001b[0m",
      "\u001b[0;31mKeyError\u001b[0m                                  Traceback (most recent call last)",
      "\u001b[0;32m/Library/Frameworks/Python.framework/Versions/3.8/lib/python3.8/site-packages/pandas/core/indexes/base.py\u001b[0m in \u001b[0;36mget_loc\u001b[0;34m(self, key, method, tolerance)\u001b[0m\n\u001b[1;32m   2890\u001b[0m             \u001b[0;32mtry\u001b[0m\u001b[0;34m:\u001b[0m\u001b[0;34m\u001b[0m\u001b[0;34m\u001b[0m\u001b[0m\n\u001b[0;32m-> 2891\u001b[0;31m                 \u001b[0;32mreturn\u001b[0m \u001b[0mself\u001b[0m\u001b[0;34m.\u001b[0m\u001b[0m_engine\u001b[0m\u001b[0;34m.\u001b[0m\u001b[0mget_loc\u001b[0m\u001b[0;34m(\u001b[0m\u001b[0mcasted_key\u001b[0m\u001b[0;34m)\u001b[0m\u001b[0;34m\u001b[0m\u001b[0;34m\u001b[0m\u001b[0m\n\u001b[0m\u001b[1;32m   2892\u001b[0m             \u001b[0;32mexcept\u001b[0m \u001b[0mKeyError\u001b[0m \u001b[0;32mas\u001b[0m \u001b[0merr\u001b[0m\u001b[0;34m:\u001b[0m\u001b[0;34m\u001b[0m\u001b[0;34m\u001b[0m\u001b[0m\n",
      "\u001b[0;32mpandas/_libs/index.pyx\u001b[0m in \u001b[0;36mpandas._libs.index.IndexEngine.get_loc\u001b[0;34m()\u001b[0m\n",
      "\u001b[0;32mpandas/_libs/index.pyx\u001b[0m in \u001b[0;36mpandas._libs.index.IndexEngine.get_loc\u001b[0;34m()\u001b[0m\n",
      "\u001b[0;32mpandas/_libs/hashtable_class_helper.pxi\u001b[0m in \u001b[0;36mpandas._libs.hashtable.PyObjectHashTable.get_item\u001b[0;34m()\u001b[0m\n",
      "\u001b[0;32mpandas/_libs/hashtable_class_helper.pxi\u001b[0m in \u001b[0;36mpandas._libs.hashtable.PyObjectHashTable.get_item\u001b[0;34m()\u001b[0m\n",
      "\u001b[0;31mKeyError\u001b[0m: 'YearPublished'",
      "\nThe above exception was the direct cause of the following exception:\n",
      "\u001b[0;31mKeyError\u001b[0m                                  Traceback (most recent call last)",
      "\u001b[0;32m<ipython-input-40-442ecd73c7fd>\u001b[0m in \u001b[0;36m<module>\u001b[0;34m\u001b[0m\n\u001b[1;32m      1\u001b[0m \u001b[0mfig\u001b[0m \u001b[0;34m=\u001b[0m \u001b[0mplt\u001b[0m\u001b[0;34m.\u001b[0m\u001b[0msubplots\u001b[0m\u001b[0;34m(\u001b[0m\u001b[0mfigsize\u001b[0m\u001b[0;34m=\u001b[0m\u001b[0;34m(\u001b[0m\u001b[0;36m15\u001b[0m\u001b[0;34m,\u001b[0m\u001b[0;36m7\u001b[0m\u001b[0;34m)\u001b[0m\u001b[0;34m)\u001b[0m\u001b[0;34m\u001b[0m\u001b[0;34m\u001b[0m\u001b[0m\n\u001b[1;32m      2\u001b[0m \u001b[0;34m\u001b[0m\u001b[0m\n\u001b[0;32m----> 3\u001b[0;31m \u001b[0mplotSBLYearFemailPublished\u001b[0m \u001b[0;34m=\u001b[0m \u001b[0mdfWD_SBL_female_article\u001b[0m\u001b[0;34m[\u001b[0m\u001b[0;34m\"YearPublished\"\u001b[0m\u001b[0;34m]\u001b[0m\u001b[0;34m.\u001b[0m\u001b[0mdt\u001b[0m\u001b[0;34m.\u001b[0m\u001b[0mstrftime\u001b[0m\u001b[0;34m(\u001b[0m\u001b[0;34m\"%Y\"\u001b[0m\u001b[0;34m)\u001b[0m\u001b[0;34m.\u001b[0m\u001b[0mvalue_counts\u001b[0m\u001b[0;34m(\u001b[0m\u001b[0;34m)\u001b[0m\u001b[0;34m.\u001b[0m\u001b[0msort_index\u001b[0m\u001b[0;34m(\u001b[0m\u001b[0;34m)\u001b[0m\u001b[0;34m.\u001b[0m\u001b[0mplot\u001b[0m\u001b[0;34m(\u001b[0m\u001b[0mkind\u001b[0m\u001b[0;34m=\u001b[0m\u001b[0;34m'bar'\u001b[0m\u001b[0;34m,\u001b[0m \u001b[0mcolor\u001b[0m\u001b[0;34m=\u001b[0m\u001b[0;34m[\u001b[0m\u001b[0;34m'red'\u001b[0m\u001b[0;34m]\u001b[0m\u001b[0;34m)\u001b[0m\u001b[0;34m\u001b[0m\u001b[0;34m\u001b[0m\u001b[0m\n\u001b[0m\u001b[1;32m      4\u001b[0m \u001b[0;31m#plotSBLYearPublished = dfSBLcsv[\"YearPublished\"].dt.strftime(\"%Y\").value_counts().sort_index()\u001b[0m\u001b[0;34m\u001b[0m\u001b[0;34m\u001b[0m\u001b[0;34m\u001b[0m\u001b[0m\n\u001b[1;32m      5\u001b[0m \u001b[0mplotSBLYearPublished\u001b[0m\u001b[0;34m.\u001b[0m\u001b[0mplot\u001b[0m\u001b[0;34m(\u001b[0m \u001b[0mkind\u001b[0m \u001b[0;34m=\u001b[0m \u001b[0;34m'bar'\u001b[0m\u001b[0;34m,\u001b[0m \u001b[0mcolor\u001b[0m\u001b[0;34m=\u001b[0m\u001b[0;34m[\u001b[0m\u001b[0;34m'g'\u001b[0m\u001b[0;34m]\u001b[0m\u001b[0;34m)\u001b[0m\u001b[0;34m\u001b[0m\u001b[0;34m\u001b[0m\u001b[0m\n",
      "\u001b[0;32m/Library/Frameworks/Python.framework/Versions/3.8/lib/python3.8/site-packages/pandas/core/frame.py\u001b[0m in \u001b[0;36m__getitem__\u001b[0;34m(self, key)\u001b[0m\n\u001b[1;32m   2900\u001b[0m             \u001b[0;32mif\u001b[0m \u001b[0mself\u001b[0m\u001b[0;34m.\u001b[0m\u001b[0mcolumns\u001b[0m\u001b[0;34m.\u001b[0m\u001b[0mnlevels\u001b[0m \u001b[0;34m>\u001b[0m \u001b[0;36m1\u001b[0m\u001b[0;34m:\u001b[0m\u001b[0;34m\u001b[0m\u001b[0;34m\u001b[0m\u001b[0m\n\u001b[1;32m   2901\u001b[0m                 \u001b[0;32mreturn\u001b[0m \u001b[0mself\u001b[0m\u001b[0;34m.\u001b[0m\u001b[0m_getitem_multilevel\u001b[0m\u001b[0;34m(\u001b[0m\u001b[0mkey\u001b[0m\u001b[0;34m)\u001b[0m\u001b[0;34m\u001b[0m\u001b[0;34m\u001b[0m\u001b[0m\n\u001b[0;32m-> 2902\u001b[0;31m             \u001b[0mindexer\u001b[0m \u001b[0;34m=\u001b[0m \u001b[0mself\u001b[0m\u001b[0;34m.\u001b[0m\u001b[0mcolumns\u001b[0m\u001b[0;34m.\u001b[0m\u001b[0mget_loc\u001b[0m\u001b[0;34m(\u001b[0m\u001b[0mkey\u001b[0m\u001b[0;34m)\u001b[0m\u001b[0;34m\u001b[0m\u001b[0;34m\u001b[0m\u001b[0m\n\u001b[0m\u001b[1;32m   2903\u001b[0m             \u001b[0;32mif\u001b[0m \u001b[0mis_integer\u001b[0m\u001b[0;34m(\u001b[0m\u001b[0mindexer\u001b[0m\u001b[0;34m)\u001b[0m\u001b[0;34m:\u001b[0m\u001b[0;34m\u001b[0m\u001b[0;34m\u001b[0m\u001b[0m\n\u001b[1;32m   2904\u001b[0m                 \u001b[0mindexer\u001b[0m \u001b[0;34m=\u001b[0m \u001b[0;34m[\u001b[0m\u001b[0mindexer\u001b[0m\u001b[0;34m]\u001b[0m\u001b[0;34m\u001b[0m\u001b[0;34m\u001b[0m\u001b[0m\n",
      "\u001b[0;32m/Library/Frameworks/Python.framework/Versions/3.8/lib/python3.8/site-packages/pandas/core/indexes/base.py\u001b[0m in \u001b[0;36mget_loc\u001b[0;34m(self, key, method, tolerance)\u001b[0m\n\u001b[1;32m   2891\u001b[0m                 \u001b[0;32mreturn\u001b[0m \u001b[0mself\u001b[0m\u001b[0;34m.\u001b[0m\u001b[0m_engine\u001b[0m\u001b[0;34m.\u001b[0m\u001b[0mget_loc\u001b[0m\u001b[0;34m(\u001b[0m\u001b[0mcasted_key\u001b[0m\u001b[0;34m)\u001b[0m\u001b[0;34m\u001b[0m\u001b[0;34m\u001b[0m\u001b[0m\n\u001b[1;32m   2892\u001b[0m             \u001b[0;32mexcept\u001b[0m \u001b[0mKeyError\u001b[0m \u001b[0;32mas\u001b[0m \u001b[0merr\u001b[0m\u001b[0;34m:\u001b[0m\u001b[0;34m\u001b[0m\u001b[0;34m\u001b[0m\u001b[0m\n\u001b[0;32m-> 2893\u001b[0;31m                 \u001b[0;32mraise\u001b[0m \u001b[0mKeyError\u001b[0m\u001b[0;34m(\u001b[0m\u001b[0mkey\u001b[0m\u001b[0;34m)\u001b[0m \u001b[0;32mfrom\u001b[0m \u001b[0merr\u001b[0m\u001b[0;34m\u001b[0m\u001b[0;34m\u001b[0m\u001b[0m\n\u001b[0m\u001b[1;32m   2894\u001b[0m \u001b[0;34m\u001b[0m\u001b[0m\n\u001b[1;32m   2895\u001b[0m         \u001b[0;32mif\u001b[0m \u001b[0mtolerance\u001b[0m \u001b[0;32mis\u001b[0m \u001b[0;32mnot\u001b[0m \u001b[0;32mNone\u001b[0m\u001b[0;34m:\u001b[0m\u001b[0;34m\u001b[0m\u001b[0;34m\u001b[0m\u001b[0m\n",
      "\u001b[0;31mKeyError\u001b[0m: 'YearPublished'"
     ]
    },
    {
     "data": {
      "image/png": "[encoded data removed]",
      "text/plain": [
       "<Figure size 1080x504 with 1 Axes>"
      ]
     },
     "metadata": {
      "needs_background": "light"
     },
     "output_type": "display_data"
    }
   ],
   "source": [
    "fig = plt.subplots(figsize=(15,7))\n",
    "\n",
    "plotSBLYearFemailPublished = dfWD_SBL_female_article[\"YearPublished\"].dt.strftime(\"%Y\").value_counts().sort_index().plot(kind='bar', color=['red'])\n",
    "#plotSBLYearPublished = dfSBLcsv[\"YearPublished\"].dt.strftime(\"%Y\").value_counts().sort_index()\n",
    "plotSBLYearPublished.plot( kind = 'bar', color=['g']) \n",
    "plt.title(\"SBL articles published per Year all and women 1918-2019\")\n",
    "plt.savefig('SBL_published_articles_all_women_1918-2018.png')  \n",
    "plt.show()  "
   ]
  },
  {
   "cell_type": "code",
   "execution_count": 41,
   "metadata": {},
   "outputs": [
    {
     "name": "stdout",
     "output_type": "stream",
     "text": [
      "<class 'pandas.core.frame.DataFrame'>\n",
      "Int64Index: 7595 entries, 0 to 7596\n",
      "Data columns (total 13 columns):\n",
      " #   Column        Non-Null Count  Dtype  \n",
      "---  ------        --------------  -----  \n",
      " 0   wid           7595 non-null   object \n",
      " 1   sblid         7595 non-null   float64\n",
      " 2   gender        7595 non-null   object \n",
      " 3   genderLabel   7595 non-null   object \n",
      " 4   SBLnr         7595 non-null   float64\n",
      " 5   SBLlength     7595 non-null   float64\n",
      " 6   titel         7595 non-null   object \n",
      " 7   Fodd          7076 non-null   object \n",
      " 8   Dod           7554 non-null   object \n",
      " 9   Band          7595 non-null   object \n",
      " 10  Year          7594 non-null   object \n",
      " 11  url           7595 non-null   object \n",
      " 12  WD_Webscrape  7595 non-null   object \n",
      "dtypes: float64(3), object(10)\n",
      "memory usage: 830.7+ KB\n"
     ]
    },
    {
     "data": {
      "text/html": [
       "<div>\n",
       "<style scoped>\n",
       "    .dataframe tbody tr th:only-of-type {\n",
       "        vertical-align: middle;\n",
       "    }\n",
       "\n",
       "    .dataframe tbody tr th {\n",
       "        vertical-align: top;\n",
       "    }\n",
       "\n",
       "    .dataframe thead th {\n",
       "        text-align: right;\n",
       "    }\n",
       "</style>\n",
       "<table border=\"1\" class=\"dataframe\">\n",
       "  <thead>\n",
       "    <tr style=\"text-align: right;\">\n",
       "      <th></th>\n",
       "      <th>wid</th>\n",
       "      <th>sblid</th>\n",
       "      <th>gender</th>\n",
       "      <th>genderLabel</th>\n",
       "      <th>SBLnr</th>\n",
       "      <th>SBLlength</th>\n",
       "      <th>titel</th>\n",
       "      <th>Fodd</th>\n",
       "      <th>Dod</th>\n",
       "      <th>Band</th>\n",
       "      <th>Year</th>\n",
       "      <th>url</th>\n",
       "      <th>WD_Webscrape</th>\n",
       "    </tr>\n",
       "  </thead>\n",
       "  <tbody>\n",
       "    <tr>\n",
       "      <th>0</th>\n",
       "      <td>Q44519</td>\n",
       "      <td>10922.0</td>\n",
       "      <td>http://www.wikidata.org/entity/Q6581072</td>\n",
       "      <td>kvinna</td>\n",
       "      <td>10922.0</td>\n",
       "      <td>103928.0</td>\n",
       "      <td>Selma O L Lagerlöf</td>\n",
       "      <td>Född:1858-11-20 – Östra Ämterviks församling, ...</td>\n",
       "      <td>Död:1940-03-16 – Östra Ämterviks församling, V...</td>\n",
       "      <td>Band 22 (1977-1979), sida 154.</td>\n",
       "      <td>1977-1979</td>\n",
       "      <td>https://sok.riksarkivet.se/sbl/Presentation.as...</td>\n",
       "      <td>both</td>\n",
       "    </tr>\n",
       "    <tr>\n",
       "      <th>1</th>\n",
       "      <td>Q67194</td>\n",
       "      <td>5575.0</td>\n",
       "      <td>http://www.wikidata.org/entity/Q6581097</td>\n",
       "      <td>man</td>\n",
       "      <td>5575.0</td>\n",
       "      <td>63077.0</td>\n",
       "      <td>Adolf Johan</td>\n",
       "      <td>Född:1629-10-11 – Gryts församling (E-län), Ös...</td>\n",
       "      <td>Död:1689-10-14 – Gryts församling (E-län), Öst...</td>\n",
       "      <td>Band 01 (1918), sida 209.</td>\n",
       "      <td>1918</td>\n",
       "      <td>https://sok.riksarkivet.se/sbl/Presentation.as...</td>\n",
       "      <td>both</td>\n",
       "    </tr>\n",
       "    <tr>\n",
       "      <th>2</th>\n",
       "      <td>Q243068</td>\n",
       "      <td>11121.0</td>\n",
       "      <td>http://www.wikidata.org/entity/Q6581072</td>\n",
       "      <td>kvinna</td>\n",
       "      <td>11121.0</td>\n",
       "      <td>75619.0</td>\n",
       "      <td>Anne Charlotte G Leffler</td>\n",
       "      <td>Född:1849-10-01 – Klara församling, Stockholms...</td>\n",
       "      <td>Död:1892-10-21 – Italien (i Neapel)</td>\n",
       "      <td>Band 22 (1977-1979), sida 434.</td>\n",
       "      <td>1977-1979</td>\n",
       "      <td>https://sok.riksarkivet.se/sbl/Presentation.as...</td>\n",
       "      <td>both</td>\n",
       "    </tr>\n",
       "    <tr>\n",
       "      <th>3</th>\n",
       "      <td>Q364505</td>\n",
       "      <td>10453.0</td>\n",
       "      <td>http://www.wikidata.org/entity/Q6581097</td>\n",
       "      <td>man</td>\n",
       "      <td>10453.0</td>\n",
       "      <td>54652.0</td>\n",
       "      <td>Bertil Lindblad</td>\n",
       "      <td>Född:1895-11-26 – Örebro församling, Örebro län</td>\n",
       "      <td>Död:1965-06-25 – Saltsjöbadens församling, Sto...</td>\n",
       "      <td>Band 23 (1980-1981), sida 289.</td>\n",
       "      <td>1980-1981</td>\n",
       "      <td>https://sok.riksarkivet.se/sbl/Presentation.as...</td>\n",
       "      <td>both</td>\n",
       "    </tr>\n",
       "    <tr>\n",
       "      <th>4</th>\n",
       "      <td>Q445357</td>\n",
       "      <td>12878.0</td>\n",
       "      <td>http://www.wikidata.org/entity/Q6581097</td>\n",
       "      <td>man</td>\n",
       "      <td>12878.0</td>\n",
       "      <td>21033.0</td>\n",
       "      <td>Henrik den helige</td>\n",
       "      <td>NaN</td>\n",
       "      <td>Död:0</td>\n",
       "      <td>Band 18 (1969-1971), sida 652.</td>\n",
       "      <td>1969-1971</td>\n",
       "      <td>https://sok.riksarkivet.se/sbl/Presentation.as...</td>\n",
       "      <td>both</td>\n",
       "    </tr>\n",
       "  </tbody>\n",
       "</table>\n",
       "</div>"
      ],
      "text/plain": [
       "       wid  ...  WD_Webscrape\n",
       "0   Q44519  ...          both\n",
       "1   Q67194  ...          both\n",
       "2  Q243068  ...          both\n",
       "3  Q364505  ...          both\n",
       "4  Q445357  ...          both\n",
       "\n",
       "[5 rows x 13 columns]"
      ]
     },
     "execution_count": 41,
     "metadata": {},
     "output_type": "execute_result"
    }
   ],
   "source": [
    "speed = [0.1, 17.5, 40, 48, 52, 69, 88]\n",
    "lifespan = [2, 8, 70, 1.5, 25, 12, 28]\n",
    "index = ['snail', 'pig', 'elephant',\n",
    "          'rabbit', 'giraffe', 'coyote', 'horse']\n",
    "df = pd.DataFrame({'speed': speed,\n",
    "                    'lifespan': lifespan}, index=index)\n",
    "#ax = df.plot.bar(rot=0)\n",
    "\n",
    "\n",
    "#plotSBLYearPublished_FM = dfWD_SBL_article.groupby([\"YearPublished\"])\n",
    "#plotSBLYearPublished_FM = dfWD_SBL_article.groupby([\"YearPublished\"])[\"genderLabel\"].transform(\"count\")\n",
    "#df['Counts'] = df.groupby(['Color'])['Value'].transform('count')\n",
    "#plotSBLYearPublished_FM.head()  \n",
    "dfWD_SBL_article.info()\n",
    "dfWD_SBL_article.head()\n",
    "\n",
    "# Group by YearPublished genderLabel"
   ]
  },
  {
   "cell_type": "markdown",
   "metadata": {},
   "source": [
    "### Släktartiklar  \n",
    "Nedan lite gissning att en släktartikel har ordet släkt i titeln. \n",
    "\n",
    "* se också [webscarping Adelsvapen](https://gist.github.com/salgo60/31e0c4bf6f075c373fb5bbfb6cc807c6)\n",
    "* csv lista skapad nedan på [GIST](https://gist.github.com/salgo60/31e0c4bf6f075c373fb5bbfb6cc807c6#gistcomment-3457126) "
   ]
  },
  {
   "cell_type": "code",
   "execution_count": 42,
   "metadata": {},
   "outputs": [],
   "source": [
    "dfFamily = dfSBLcsv[dfSBLcsv.isnull().any(1)]"
   ]
  },
  {
   "cell_type": "code",
   "execution_count": 43,
   "metadata": {},
   "outputs": [
    {
     "name": "stdout",
     "output_type": "stream",
     "text": [
      "<class 'pandas.core.frame.DataFrame'>\n",
      "Int64Index: 3057 entries, 0 to 10128\n",
      "Data columns (total 8 columns):\n",
      " #   Column     Non-Null Count  Dtype \n",
      "---  ------     --------------  ----- \n",
      " 0   SBLnr      3057 non-null   int64 \n",
      " 1   SBLlength  3057 non-null   int64 \n",
      " 2   titel      3057 non-null   object\n",
      " 3   Fodd       8 non-null      object\n",
      " 4   Dod        491 non-null    object\n",
      " 5   Band       3057 non-null   object\n",
      " 6   Year       3039 non-null   object\n",
      " 7   url        3057 non-null   object\n",
      "dtypes: int64(2), object(6)\n",
      "memory usage: 214.9+ KB\n"
     ]
    }
   ],
   "source": [
    "dfFamily.info()"
   ]
  },
  {
   "cell_type": "code",
   "execution_count": 44,
   "metadata": {},
   "outputs": [],
   "source": [
    "#dfFamily"
   ]
  },
  {
   "cell_type": "code",
   "execution_count": 45,
   "metadata": {
    "scrolled": false
   },
   "outputs": [],
   "source": [
    "dfFamilySlakt = dfFamily[dfFamily.titel.str.contains(\"släkt\")]\n",
    "#dfFamilySlakt"
   ]
  },
  {
   "cell_type": "code",
   "execution_count": 46,
   "metadata": {},
   "outputs": [],
   "source": [
    "dictFamily = dfFamilySlakt.to_dict()"
   ]
  },
  {
   "cell_type": "code",
   "execution_count": null,
   "metadata": {},
   "outputs": [],
   "source": []
  },
  {
   "cell_type": "code",
   "execution_count": 47,
   "metadata": {},
   "outputs": [
    {
     "data": {
      "text/plain": [
       "1721"
      ]
     },
     "execution_count": 47,
     "metadata": {},
     "output_type": "execute_result"
    }
   ],
   "source": [
    "dfFamily.titel.str.contains(\"släkt\").sum()"
   ]
  },
  {
   "cell_type": "code",
   "execution_count": 48,
   "metadata": {},
   "outputs": [
    {
     "data": {
      "text/plain": [
       "36"
      ]
     },
     "execution_count": 48,
     "metadata": {},
     "output_type": "execute_result"
    }
   ],
   "source": [
    "dfFamily.titel.str.contains(\"ätten\").sum()"
   ]
  },
  {
   "cell_type": "code",
   "execution_count": 49,
   "metadata": {},
   "outputs": [
    {
     "data": {
      "text/plain": [
       "1"
      ]
     },
     "execution_count": 49,
     "metadata": {},
     "output_type": "execute_result"
    }
   ],
   "source": [
    "dfFamily.titel.str.contains(\"Släkt\").sum()"
   ]
  },
  {
   "cell_type": "code",
   "execution_count": 50,
   "metadata": {},
   "outputs": [
    {
     "data": {
      "text/plain": [
       "22"
      ]
     },
     "execution_count": 50,
     "metadata": {},
     "output_type": "execute_result"
    }
   ],
   "source": [
    "dfFamily.Dod.str.contains(\"senas\").sum()"
   ]
  },
  {
   "cell_type": "code",
   "execution_count": 51,
   "metadata": {},
   "outputs": [],
   "source": [
    "#dfFamily[dfFamily.Dod.str.contains(\"senas\", na=False)]"
   ]
  },
  {
   "cell_type": "code",
   "execution_count": 52,
   "metadata": {},
   "outputs": [
    {
     "data": {
      "text/plain": [
       "<bound method NDFrame.head of       SBLnr  ...                                                url\n",
       "165    5671  ...  https://sok.riksarkivet.se/sbl/Presentation.as...\n",
       "223    5735  ...  https://sok.riksarkivet.se/sbl/Presentation.as...\n",
       "459    6061  ...  https://sok.riksarkivet.se/sbl/Presentation.as...\n",
       "6728  15777  ...  https://sok.riksarkivet.se/sbl/Presentation.as...\n",
       "6735  15784  ...  https://sok.riksarkivet.se/sbl/Presentation.as...\n",
       "6736  15785  ...  https://sok.riksarkivet.se/sbl/Presentation.as...\n",
       "7673  16990  ...  https://sok.riksarkivet.se/sbl/Presentation.as...\n",
       "9824  34648  ...  https://sok.riksarkivet.se/sbl/Presentation.as...\n",
       "\n",
       "[8 rows x 8 columns]>"
      ]
     },
     "execution_count": 52,
     "metadata": {},
     "output_type": "execute_result"
    }
   ],
   "source": [
    "dfFamily[dfFamily.Fodd.str.contains(\"\", na=False)].head"
   ]
  },
  {
   "cell_type": "code",
   "execution_count": 53,
   "metadata": {},
   "outputs": [
    {
     "data": {
      "text/plain": [
       "0"
      ]
     },
     "execution_count": 53,
     "metadata": {},
     "output_type": "execute_result"
    }
   ],
   "source": [
    "#Check diff WDSBLtot and dfSBLcsv \n",
    "WDSBLtot.duplicated(subset=['wid']).sum()"
   ]
  },
  {
   "cell_type": "code",
   "execution_count": 54,
   "metadata": {},
   "outputs": [
    {
     "data": {
      "text/plain": [
       "0"
      ]
     },
     "execution_count": 54,
     "metadata": {},
     "output_type": "execute_result"
    }
   ],
   "source": [
    "dfSBLcsv.duplicated(subset=['SBLnr']).sum()"
   ]
  },
  {
   "cell_type": "code",
   "execution_count": 55,
   "metadata": {},
   "outputs": [
    {
     "data": {
      "text/plain": [
       "1"
      ]
     },
     "execution_count": 55,
     "metadata": {},
     "output_type": "execute_result"
    }
   ],
   "source": [
    "WDSBLtot.duplicated(subset=['sblid']).sum()"
   ]
  },
  {
   "cell_type": "code",
   "execution_count": 56,
   "metadata": {},
   "outputs": [
    {
     "name": "stdout",
     "output_type": "stream",
     "text": [
      "<class 'pandas.core.frame.DataFrame'>\n",
      "RangeIndex: 7597 entries, 0 to 7596\n",
      "Data columns (total 4 columns):\n",
      " #   Column       Non-Null Count  Dtype \n",
      "---  ------       --------------  ----- \n",
      " 0   wid          7597 non-null   object\n",
      " 1   SBLnr        7597 non-null   int64 \n",
      " 2   gender       7597 non-null   object\n",
      " 3   genderLabel  7597 non-null   object\n",
      "dtypes: int64(1), object(3)\n",
      "memory usage: 237.5+ KB\n"
     ]
    }
   ],
   "source": [
    "WDSBLtot = WDSBLtot.rename(columns={'sblid':'SBLnr'})\n",
    "WDSBLtot['SBLnr']= WDSBLtot['SBLnr'].astype(str).astype(int)\n",
    "WDSBLtot.info()"
   ]
  },
  {
   "cell_type": "code",
   "execution_count": 57,
   "metadata": {},
   "outputs": [],
   "source": [
    "dfmerge = pd.merge(WDSBLtot, dfSBLcsv,how='outer', on='SBLnr',indicator=True)"
   ]
  },
  {
   "cell_type": "code",
   "execution_count": 58,
   "metadata": {},
   "outputs": [
    {
     "data": {
      "text/plain": [
       "both          7595\n",
       "right_only    2535\n",
       "left_only        2\n",
       "Name: _merge, dtype: int64"
      ]
     },
     "execution_count": 58,
     "metadata": {},
     "output_type": "execute_result"
    }
   ],
   "source": [
    "dfmerge[\"_merge\"].value_counts()"
   ]
  },
  {
   "cell_type": "code",
   "execution_count": 59,
   "metadata": {},
   "outputs": [],
   "source": [
    "#dfmerge"
   ]
  },
  {
   "cell_type": "code",
   "execution_count": 60,
   "metadata": {},
   "outputs": [],
   "source": [
    "dfmerge['_merge'] = dfmerge['_merge'].str.replace('left_only','WD_only').str.replace('right_only','SBL_only')\n"
   ]
  },
  {
   "cell_type": "code",
   "execution_count": 61,
   "metadata": {},
   "outputs": [
    {
     "data": {
      "text/plain": [
       "both        7595\n",
       "SBL_only    2535\n",
       "WD_only        2\n",
       "Name: _merge, dtype: int64"
      ]
     },
     "execution_count": 61,
     "metadata": {},
     "output_type": "execute_result"
    }
   ],
   "source": [
    "WDSBLonly = dfmerge[dfmerge[\"_merge\"] == \"SBL_only\"].copy()   \n",
    "dfmerge[\"_merge\"].value_counts()"
   ]
  },
  {
   "cell_type": "code",
   "execution_count": 62,
   "metadata": {},
   "outputs": [
    {
     "data": {
      "text/html": [
       "<div>\n",
       "<style scoped>\n",
       "    .dataframe tbody tr th:only-of-type {\n",
       "        vertical-align: middle;\n",
       "    }\n",
       "\n",
       "    .dataframe tbody tr th {\n",
       "        vertical-align: top;\n",
       "    }\n",
       "\n",
       "    .dataframe thead th {\n",
       "        text-align: right;\n",
       "    }\n",
       "</style>\n",
       "<table border=\"1\" class=\"dataframe\">\n",
       "  <thead>\n",
       "    <tr style=\"text-align: right;\">\n",
       "      <th></th>\n",
       "      <th>wid</th>\n",
       "      <th>SBLnr</th>\n",
       "      <th>gender</th>\n",
       "      <th>genderLabel</th>\n",
       "      <th>SBLlength</th>\n",
       "      <th>titel</th>\n",
       "      <th>Fodd</th>\n",
       "      <th>Dod</th>\n",
       "      <th>Band</th>\n",
       "      <th>Year</th>\n",
       "      <th>url</th>\n",
       "      <th>_merge</th>\n",
       "    </tr>\n",
       "  </thead>\n",
       "  <tbody>\n",
       "    <tr>\n",
       "      <th>2641</th>\n",
       "      <td>Q5578497</td>\n",
       "      <td>18348</td>\n",
       "      <td>http://www.wikidata.org/entity/Q6581097</td>\n",
       "      <td>man</td>\n",
       "      <td>NaN</td>\n",
       "      <td>NaN</td>\n",
       "      <td>NaN</td>\n",
       "      <td>NaN</td>\n",
       "      <td>NaN</td>\n",
       "      <td>NaN</td>\n",
       "      <td>NaN</td>\n",
       "      <td>WD_only</td>\n",
       "    </tr>\n",
       "    <tr>\n",
       "      <th>4973</th>\n",
       "      <td>Q26240118</td>\n",
       "      <td>14192</td>\n",
       "      <td>http://www.wikidata.org/entity/Q6581097</td>\n",
       "      <td>man</td>\n",
       "      <td>NaN</td>\n",
       "      <td>NaN</td>\n",
       "      <td>NaN</td>\n",
       "      <td>NaN</td>\n",
       "      <td>NaN</td>\n",
       "      <td>NaN</td>\n",
       "      <td>NaN</td>\n",
       "      <td>WD_only</td>\n",
       "    </tr>\n",
       "  </tbody>\n",
       "</table>\n",
       "</div>"
      ],
      "text/plain": [
       "            wid  SBLnr  ...  url   _merge\n",
       "2641   Q5578497  18348  ...  NaN  WD_only\n",
       "4973  Q26240118  14192  ...  NaN  WD_only\n",
       "\n",
       "[2 rows x 12 columns]"
      ]
     },
     "execution_count": 62,
     "metadata": {},
     "output_type": "execute_result"
    }
   ],
   "source": [
    "WD_only = dfmerge[dfmerge[\"_merge\"] == \"WD_only\"].copy()   \n",
    "WD_only"
   ]
  },
  {
   "cell_type": "code",
   "execution_count": 63,
   "metadata": {},
   "outputs": [
    {
     "name": "stdout",
     "output_type": "stream",
     "text": [
      "<class 'pandas.core.frame.DataFrame'>\n",
      "Int64Index: 2535 entries, 7597 to 10131\n",
      "Data columns (total 12 columns):\n",
      " #   Column       Non-Null Count  Dtype  \n",
      "---  ------       --------------  -----  \n",
      " 0   wid          0 non-null      object \n",
      " 1   SBLnr        2535 non-null   int64  \n",
      " 2   gender       0 non-null      object \n",
      " 3   genderLabel  0 non-null      object \n",
      " 4   SBLlength    2535 non-null   float64\n",
      " 5   titel        2535 non-null   object \n",
      " 6   Fodd         4 non-null      object \n",
      " 7   Dod          10 non-null     object \n",
      " 8   Band         2535 non-null   object \n",
      " 9   Year         2518 non-null   object \n",
      " 10  url          2535 non-null   object \n",
      " 11  _merge       2535 non-null   object \n",
      "dtypes: float64(1), int64(1), object(10)\n",
      "memory usage: 257.5+ KB\n"
     ]
    }
   ],
   "source": [
    "WDSBLonly.info()"
   ]
  },
  {
   "cell_type": "code",
   "execution_count": 64,
   "metadata": {},
   "outputs": [
    {
     "data": {
      "text/plain": [
       "1684"
      ]
     },
     "execution_count": 64,
     "metadata": {},
     "output_type": "execute_result"
    }
   ],
   "source": [
    "WDSBLonly.titel.str.contains(\"släkt\").sum() \n"
   ]
  },
  {
   "cell_type": "code",
   "execution_count": 65,
   "metadata": {},
   "outputs": [
    {
     "data": {
      "text/plain": [
       "<bound method NDFrame.head of       wid  SBLnr  ...                                                url    _merge\n",
       "7776  NaN   7249  ...  https://sok.riksarkivet.se/sbl/Presentation.as...  SBL_only\n",
       "7947  NaN   9007  ...  https://sok.riksarkivet.se/sbl/Presentation.as...  SBL_only\n",
       "7948  NaN   9008  ...  https://sok.riksarkivet.se/sbl/Presentation.as...  SBL_only\n",
       "7949  NaN   9009  ...  https://sok.riksarkivet.se/sbl/Presentation.as...  SBL_only\n",
       "8237  NaN  11237  ...  https://sok.riksarkivet.se/sbl/Presentation.as...  SBL_only\n",
       "8238  NaN  11238  ...  https://sok.riksarkivet.se/sbl/Presentation.as...  SBL_only\n",
       "8239  NaN  11239  ...  https://sok.riksarkivet.se/sbl/Presentation.as...  SBL_only\n",
       "8254  NaN  11376  ...  https://sok.riksarkivet.se/sbl/Presentation.as...  SBL_only\n",
       "8255  NaN  11377  ...  https://sok.riksarkivet.se/sbl/Presentation.as...  SBL_only\n",
       "8256  NaN  11378  ...  https://sok.riksarkivet.se/sbl/Presentation.as...  SBL_only\n",
       "8257  NaN  11379  ...  https://sok.riksarkivet.se/sbl/Presentation.as...  SBL_only\n",
       "8258  NaN  11380  ...  https://sok.riksarkivet.se/sbl/Presentation.as...  SBL_only\n",
       "8454  NaN  12565  ...  https://sok.riksarkivet.se/sbl/Presentation.as...  SBL_only\n",
       "8455  NaN  12566  ...  https://sok.riksarkivet.se/sbl/Presentation.as...  SBL_only\n",
       "8456  NaN  12568  ...  https://sok.riksarkivet.se/sbl/Presentation.as...  SBL_only\n",
       "8552  NaN  13016  ...  https://sok.riksarkivet.se/sbl/Presentation.as...  SBL_only\n",
       "8571  NaN  13096  ...  https://sok.riksarkivet.se/sbl/Presentation.as...  SBL_only\n",
       "8593  NaN  13177  ...  https://sok.riksarkivet.se/sbl/Presentation.as...  SBL_only\n",
       "8705  NaN  13783  ...  https://sok.riksarkivet.se/sbl/Presentation.as...  SBL_only\n",
       "8775  NaN  14142  ...  https://sok.riksarkivet.se/sbl/Presentation.as...  SBL_only\n",
       "8776  NaN  14143  ...  https://sok.riksarkivet.se/sbl/Presentation.as...  SBL_only\n",
       "8800  NaN  14301  ...  https://sok.riksarkivet.se/sbl/Presentation.as...  SBL_only\n",
       "8801  NaN  14302  ...  https://sok.riksarkivet.se/sbl/Presentation.as...  SBL_only\n",
       "8802  NaN  14303  ...  https://sok.riksarkivet.se/sbl/Presentation.as...  SBL_only\n",
       "8852  NaN  14573  ...  https://sok.riksarkivet.se/sbl/Presentation.as...  SBL_only\n",
       "8853  NaN  14574  ...  https://sok.riksarkivet.se/sbl/Presentation.as...  SBL_only\n",
       "8860  NaN  14607  ...  https://sok.riksarkivet.se/sbl/Presentation.as...  SBL_only\n",
       "8861  NaN  14608  ...  https://sok.riksarkivet.se/sbl/Presentation.as...  SBL_only\n",
       "8862  NaN  14609  ...  https://sok.riksarkivet.se/sbl/Presentation.as...  SBL_only\n",
       "8863  NaN  14612  ...  https://sok.riksarkivet.se/sbl/Presentation.as...  SBL_only\n",
       "9027  NaN  15340  ...  https://sok.riksarkivet.se/sbl/Presentation.as...  SBL_only\n",
       "9034  NaN  15413  ...  https://sok.riksarkivet.se/sbl/Presentation.as...  SBL_only\n",
       "9045  NaN  15481  ...  https://sok.riksarkivet.se/sbl/Presentation.as...  SBL_only\n",
       "9160  NaN  16037  ...  https://sok.riksarkivet.se/sbl/Presentation.as...  SBL_only\n",
       "9161  NaN  16041  ...  https://sok.riksarkivet.se/sbl/Presentation.as...  SBL_only\n",
       "9679  NaN  18893  ...  https://sok.riksarkivet.se/sbl/Presentation.as...  SBL_only\n",
       "9953  NaN  34576  ...  https://sok.riksarkivet.se/sbl/Presentation.as...  SBL_only\n",
       "9982  NaN  34621  ...  https://sok.riksarkivet.se/sbl/Presentation.as...  SBL_only\n",
       "9999  NaN  34644  ...  https://sok.riksarkivet.se/sbl/Presentation.as...  SBL_only\n",
       "\n",
       "[39 rows x 12 columns]>"
      ]
     },
     "execution_count": 65,
     "metadata": {},
     "output_type": "execute_result"
    }
   ],
   "source": [
    "WDSBLonly[WDSBLonly.titel.str.contains(\"ätt\")].head"
   ]
  },
  {
   "cell_type": "code",
   "execution_count": 66,
   "metadata": {},
   "outputs": [],
   "source": [
    "#Inte släkt \n",
    "WDmissingPerson = WDSBLonly[~WDSBLonly.titel.str.contains(\"släkt\")]"
   ]
  },
  {
   "cell_type": "code",
   "execution_count": 67,
   "metadata": {},
   "outputs": [
    {
     "name": "stdout",
     "output_type": "stream",
     "text": [
      "<class 'pandas.core.frame.DataFrame'>\n",
      "Int64Index: 851 entries, 7599 to 10131\n",
      "Data columns (total 12 columns):\n",
      " #   Column       Non-Null Count  Dtype  \n",
      "---  ------       --------------  -----  \n",
      " 0   wid          0 non-null      object \n",
      " 1   SBLnr        851 non-null    int64  \n",
      " 2   gender       0 non-null      object \n",
      " 3   genderLabel  0 non-null      object \n",
      " 4   SBLlength    851 non-null    float64\n",
      " 5   titel        851 non-null    object \n",
      " 6   Fodd         4 non-null      object \n",
      " 7   Dod          10 non-null     object \n",
      " 8   Band         851 non-null    object \n",
      " 9   Year         834 non-null    object \n",
      " 10  url          851 non-null    object \n",
      " 11  _merge       851 non-null    object \n",
      "dtypes: float64(1), int64(1), object(10)\n",
      "memory usage: 86.4+ KB\n"
     ]
    }
   ],
   "source": [
    "WDmissingPerson.info()"
   ]
  },
  {
   "cell_type": "code",
   "execution_count": 68,
   "metadata": {},
   "outputs": [
    {
     "data": {
      "text/plain": [
       "2013-2019    140\n",
       "2007-2011     65\n",
       "1953          53\n",
       "1985-1987     44\n",
       "2003-2006     36\n",
       "1950          33\n",
       "1931          33\n",
       "1992-1994     31\n",
       "1977-1979     29\n",
       "1998-2000     26\n",
       "1982-1984     26\n",
       "1980-1981     25\n",
       "1973-1975     24\n",
       "1964-1966     23\n",
       "1945          21\n",
       "1987-1989     21\n",
       "1956          20\n",
       "1967-1969     20\n",
       "1969-1971     20\n",
       "1929          20\n",
       "2000-2002     20\n",
       "1949          16\n",
       "1971-1973     11\n",
       "1990-1991     11\n",
       "1920          10\n",
       "1975-1977     10\n",
       "1926           9\n",
       "1995-1997      8\n",
       "1918           7\n",
       "1925           7\n",
       "1927           5\n",
       "1922           4\n",
       "1924           4\n",
       "2019-          2\n",
       "Name: Year, dtype: int64"
      ]
     },
     "execution_count": 68,
     "metadata": {},
     "output_type": "execute_result"
    }
   ],
   "source": [
    "WDmissingPerson[\"Year\"].value_counts()"
   ]
  },
  {
   "cell_type": "code",
   "execution_count": null,
   "metadata": {},
   "outputs": [],
   "source": []
  },
  {
   "cell_type": "code",
   "execution_count": 69,
   "metadata": {},
   "outputs": [
    {
     "name": "stdout",
     "output_type": "stream",
     "text": [
      "Min, Max SBLlength:  11021.0 82050.0\n"
     ]
    }
   ],
   "source": [
    "print(\"Min, Max SBLlength: \", WDmissingPerson.SBLlength.min(), WDmissingPerson.SBLlength.max())"
   ]
  },
  {
   "cell_type": "code",
   "execution_count": 70,
   "metadata": {},
   "outputs": [],
   "source": [
    "# sorterar artiklarna efter sidstorlek för att kanske hitta någon vi missat  \n",
    "# wid är Wikidata objekt , NaN är att det saknas  \n",
    "# SBLnr är id i SBL\n",
    "# SBLlength är sidans storlek hos SBL \n",
    "# Fodd, Dod... är det jag hittade i WEBsidan, NaN innebär saknas\n",
    "\n",
    "#WDmissingPerson.sort_values(by='SBLlength', ascending=False, na_position='first')"
   ]
  },
  {
   "cell_type": "code",
   "execution_count": 71,
   "metadata": {},
   "outputs": [
    {
     "data": {
      "text/plain": [
       "2013-2019    140\n",
       "2007-2011     65\n",
       "1953          53\n",
       "1985-1987     44\n",
       "2003-2006     36\n",
       "1950          33\n",
       "1931          33\n",
       "1992-1994     31\n",
       "1977-1979     29\n",
       "1998-2000     26\n",
       "1982-1984     26\n",
       "1980-1981     25\n",
       "1973-1975     24\n",
       "1964-1966     23\n",
       "1945          21\n",
       "1987-1989     21\n",
       "1956          20\n",
       "1967-1969     20\n",
       "1969-1971     20\n",
       "1929          20\n",
       "2000-2002     20\n",
       "1949          16\n",
       "1971-1973     11\n",
       "1990-1991     11\n",
       "1920          10\n",
       "1975-1977     10\n",
       "1926           9\n",
       "1995-1997      8\n",
       "1918           7\n",
       "1925           7\n",
       "1927           5\n",
       "1922           4\n",
       "1924           4\n",
       "2019-          2\n",
       "Name: Year, dtype: int64"
      ]
     },
     "execution_count": 71,
     "metadata": {},
     "output_type": "execute_result"
    }
   ],
   "source": [
    "WDmissingPerson[\"Year\"].value_counts()"
   ]
  },
  {
   "cell_type": "code",
   "execution_count": 72,
   "metadata": {},
   "outputs": [
    {
     "name": "stdout",
     "output_type": "stream",
     "text": [
      "End run:  2021-03-08 22:15:30.730038\n"
     ]
    }
   ],
   "source": [
    "print(\"End run: \", datetime.now())"
   ]
  },
  {
   "cell_type": "code",
   "execution_count": 73,
   "metadata": {},
   "outputs": [],
   "source": [
    "#Släkt \n",
    "#WDSlakt = WDSBLonly[~WDSBLonly.titel.str.contains(\"släkt\")].copy"
   ]
  },
  {
   "cell_type": "code",
   "execution_count": 74,
   "metadata": {},
   "outputs": [],
   "source": [
    "WDSlakt = WDSBLonly[WDSBLonly.titel.str.contains(\"släkt\")]"
   ]
  },
  {
   "cell_type": "code",
   "execution_count": 75,
   "metadata": {},
   "outputs": [
    {
     "name": "stdout",
     "output_type": "stream",
     "text": [
      "<class 'pandas.core.frame.DataFrame'>\n",
      "Int64Index: 1684 entries, 7597 to 10085\n",
      "Data columns (total 12 columns):\n",
      " #   Column       Non-Null Count  Dtype  \n",
      "---  ------       --------------  -----  \n",
      " 0   wid          0 non-null      object \n",
      " 1   SBLnr        1684 non-null   int64  \n",
      " 2   gender       0 non-null      object \n",
      " 3   genderLabel  0 non-null      object \n",
      " 4   SBLlength    1684 non-null   float64\n",
      " 5   titel        1684 non-null   object \n",
      " 6   Fodd         0 non-null      object \n",
      " 7   Dod          0 non-null      object \n",
      " 8   Band         1684 non-null   object \n",
      " 9   Year         1684 non-null   object \n",
      " 10  url          1684 non-null   object \n",
      " 11  _merge       1684 non-null   object \n",
      "dtypes: float64(1), int64(1), object(10)\n",
      "memory usage: 171.0+ KB\n"
     ]
    }
   ],
   "source": [
    "WDSlakt.info()"
   ]
  },
  {
   "cell_type": "code",
   "execution_count": 76,
   "metadata": {},
   "outputs": [
    {
     "ename": "SyntaxError",
     "evalue": "unexpected EOF while parsing (<ipython-input-76-e33fe5db66b3>, line 4)",
     "output_type": "error",
     "traceback": [
      "\u001b[0;36m  File \u001b[0;32m\"<ipython-input-76-e33fe5db66b3>\"\u001b[0;36m, line \u001b[0;32m4\u001b[0m\n\u001b[0;31m    #    print(row[\"SBLnr\"],\"|\",row[\"titel\"],\"|\",row[\"Year\"])\u001b[0m\n\u001b[0m                                                               ^\u001b[0m\n\u001b[0;31mSyntaxError\u001b[0m\u001b[0;31m:\u001b[0m unexpected EOF while parsing\n"
     ]
    }
   ],
   "source": [
    "#Need a workaround as pandas to_csv dont work ?!?!?\n",
    "for  index,row in WDSlakt.iterrows():\n",
    "#    print(row[\"SBLnr\"],row[\"titel\"],row[\"Year\"],row[\"url\"])    \n",
    "#    print(row[\"SBLnr\"],\"|\",row[\"titel\"],\"|\",row[\"Year\"])  "
   ]
  },
  {
   "cell_type": "markdown",
   "metadata": {},
   "source": [
    "List produced also on [GIST](https://gist.github.com/salgo60/31e0c4bf6f075c373fb5bbfb6cc807c6#gistcomment-3457126) "
   ]
  },
  {
   "cell_type": "markdown",
   "metadata": {},
   "source": [
    "### Estimate published articles male/female /family\n"
   ]
  },
  {
   "cell_type": "code",
   "execution_count": 77,
   "metadata": {},
   "outputs": [
    {
     "name": "stdout",
     "output_type": "stream",
     "text": [
      "<class 'pandas.core.frame.DataFrame'>\n",
      "Int64Index: 10132 entries, 0 to 10131\n",
      "Data columns (total 12 columns):\n",
      " #   Column       Non-Null Count  Dtype  \n",
      "---  ------       --------------  -----  \n",
      " 0   wid          7597 non-null   object \n",
      " 1   SBLnr        10132 non-null  int64  \n",
      " 2   gender       7597 non-null   object \n",
      " 3   genderLabel  7597 non-null   object \n",
      " 4   SBLlength    10130 non-null  float64\n",
      " 5   titel        10130 non-null  object \n",
      " 6   Fodd         7080 non-null   object \n",
      " 7   Dod          7564 non-null   object \n",
      " 8   Band         10130 non-null  object \n",
      " 9   Year         10112 non-null  object \n",
      " 10  url          10130 non-null  object \n",
      " 11  _merge       10132 non-null  object \n",
      "dtypes: float64(1), int64(1), object(10)\n",
      "memory usage: 1.0+ MB\n"
     ]
    }
   ],
   "source": [
    "dfmerge.info()"
   ]
  },
  {
   "cell_type": "code",
   "execution_count": 78,
   "metadata": {},
   "outputs": [],
   "source": [
    "personSBL = dfmerge[~dfmerge['wid'].isnull()] "
   ]
  },
  {
   "cell_type": "code",
   "execution_count": 79,
   "metadata": {},
   "outputs": [
    {
     "name": "stdout",
     "output_type": "stream",
     "text": [
      "<class 'pandas.core.frame.DataFrame'>\n",
      "Int64Index: 7597 entries, 0 to 7596\n",
      "Data columns (total 12 columns):\n",
      " #   Column       Non-Null Count  Dtype  \n",
      "---  ------       --------------  -----  \n",
      " 0   wid          7597 non-null   object \n",
      " 1   SBLnr        7597 non-null   int64  \n",
      " 2   gender       7597 non-null   object \n",
      " 3   genderLabel  7597 non-null   object \n",
      " 4   SBLlength    7595 non-null   float64\n",
      " 5   titel        7595 non-null   object \n",
      " 6   Fodd         7076 non-null   object \n",
      " 7   Dod          7554 non-null   object \n",
      " 8   Band         7595 non-null   object \n",
      " 9   Year         7594 non-null   object \n",
      " 10  url          7595 non-null   object \n",
      " 11  _merge       7597 non-null   object \n",
      "dtypes: float64(1), int64(1), object(10)\n",
      "memory usage: 771.6+ KB\n"
     ]
    }
   ],
   "source": [
    "personSBL.info()"
   ]
  },
  {
   "cell_type": "code",
   "execution_count": 81,
   "metadata": {},
   "outputs": [],
   "source": [
    "#plotSBLGender = personSBL.groupby([\"genderLabel\", \"YearPublished\"]).size()\n",
    "#plotSBLGender  "
   ]
  },
  {
   "cell_type": "code",
   "execution_count": 82,
   "metadata": {},
   "outputs": [],
   "source": [
    "#plotSBLGender.unstack()"
   ]
  },
  {
   "cell_type": "code",
   "execution_count": null,
   "metadata": {},
   "outputs": [],
   "source": []
  },
  {
   "cell_type": "code",
   "execution_count": null,
   "metadata": {},
   "outputs": [],
   "source": []
  }
 ],
 "metadata": {
  "kernelspec": {
   "display_name": "Python 3",
   "language": "python",
   "name": "python3"
  },
  "language_info": {
   "codemirror_mode": {
    "name": "ipython",
    "version": 3
   },
   "file_extension": ".py",
   "mimetype": "text/x-python",
   "name": "python",
   "nbconvert_exporter": "python",
   "pygments_lexer": "ipython3",
   "version": "3.8.0"
  }
 },
 "nbformat": 4,
 "nbformat_minor": 4
}
