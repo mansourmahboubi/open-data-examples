{
 "cells": [
  {
   "cell_type": "markdown",
   "id": "978c6909",
   "metadata": {},
   "source": [
    "## Test hämta data enl. utegym spec....\n"
   ]
  },
  {
   "cell_type": "markdown",
   "id": "308ca9db",
   "metadata": {},
   "source": [
    "Enligt [slide](https://user-images.githubusercontent.com/14206509/190118930-a44eea52-d634-4423-8681-fe64feee619d.png) skall följande data följa utegymsspec\n",
    "* Essunga kommun [link json](https://catalog.essunga.se/rowstore/dataset/50392303-6c97-4398-a162-38d61fbf637b/html)\n",
    "* Gävle kommun [link json](https://catalog.gavle.se/store/1/resource/360)\n",
    "* Huddinge kommun [link json](https://catalog.skara.se/rowstore/dataset/e490ebb8-9507-463a-bfec-e82054a20b14/html)\n",
    "* Skara kommun [link json](https://catalog.skara.se/rowstore/dataset/e490ebb8-9507-463a-bfec-e82054a20b14)\n",
    "* Sundbybergs kommun [link csv](https://www.dataportal.se/sv/datasets/281_1600/utegym-i-sundbyberg#ref=?p=1&q=sundbyberg&s=2&t=20&f=&rt=dataset%24esterms_IndependentDataService%24esterms_ServedByDataService&c=false) - **finns inte**\n",
    "* Södertälje kommun [link json](https://catalog.sodertalje.se/rowstore/dataset/ad01a6d6-e986-4d97-820b-f7d5f44d0a03/html)\n",
    "* Tidaholms kommun [link csv](https://catalog.tidaholm.se/store/2/resource/58)\n"
   ]
  },
  {
   "cell_type": "code",
   "execution_count": null,
   "id": "958cd1f9",
   "metadata": {},
   "outputs": [],
   "source": []
  }
 ],
 "metadata": {
  "kernelspec": {
   "display_name": "Python 3",
   "language": "python",
   "name": "python3"
  },
  "language_info": {
   "codemirror_mode": {
    "name": "ipython",
    "version": 3
   },
   "file_extension": ".py",
   "mimetype": "text/x-python",
   "name": "python",
   "nbconvert_exporter": "python",
   "pygments_lexer": "ipython3",
   "version": "3.9.13"
  }
 },
 "nbformat": 4,
 "nbformat_minor": 5
}
