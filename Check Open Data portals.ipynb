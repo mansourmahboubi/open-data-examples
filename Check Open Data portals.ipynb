{
 "cells": [
  {
   "cell_type": "markdown",
   "id": "e634cb2b",
   "metadata": {},
   "source": [
    "Check Open Data portals for Swedish municipalities"
   ]
  },
  {
   "cell_type": "code",
   "execution_count": 1,
   "id": "db9092dd",
   "metadata": {},
   "outputs": [
    {
     "name": "stdout",
     "output_type": "stream",
     "text": [
      "Last run:  2021-06-28 14:11:16.227553\n"
     ]
    }
   ],
   "source": [
    "from datetime import datetime\n",
    "start_time  = datetime.now()\n",
    "print(\"Last runa: \", start_time)"
   ]
  },
  {
   "cell_type": "code",
   "execution_count": 2,
   "id": "0d8b5634",
   "metadata": {},
   "outputs": [
    {
     "data": {
      "text/plain": [
       "(154, 5)"
      ]
     },
     "execution_count": 2,
     "metadata": {},
     "output_type": "execute_result"
    }
   ],
   "source": [
    "# pip install sparqlwrapper\n",
    "# https://rdflib.github.io/sparqlwrapper/\n",
    "\n",
    "import sys,json\n",
    "import pandas as pd\n",
    "from SPARQLWrapper import SPARQLWrapper, JSON\n",
    "\n",
    "endpoint_url = \"https://query.wikidata.org/sparql\"\n",
    "\n",
    "queryOpenData = \"\"\"SELECT  (REPLACE(STR(?org), \".*Q\", \"Q\") AS ?wikidata) ?org ?orgLabel ?portalLabel  ?www WHERE {\n",
    "  ?org wdt:P8402 ?portal.\n",
    "  ?org wdt:P31 wd:Q127448.\n",
    "  ?org wdt:P361 ?lan.\n",
    "  ?lan wdt:P31 wd:Q193556.\n",
    "  OPTIONAL { ?portal wdt:P856 ?www }\n",
    "  SERVICE wikibase:label { bd:serviceParam wikibase:language \"sv\". }\n",
    "}\n",
    "GROUP BY ?org ?orgLabel ?portal ?portalLabel ?www  \"\"\"\n",
    "\n",
    "\n",
    "def get_sparql_dataframe(endpoint_url, query):\n",
    "    \"\"\"\n",
    "    Helper function to convert SPARQL results into a Pandas data frame.\n",
    "    \"\"\"\n",
    "    user_agent = \"salgo60/%s.%s\" % (sys.version_info[0], sys.version_info[1])\n",
    " \n",
    "    sparql = SPARQLWrapper(endpoint_url, agent=user_agent)\n",
    "    sparql.setQuery(query)\n",
    "    sparql.setReturnFormat(JSON)\n",
    "    result = sparql.query()\n",
    "\n",
    "    processed_results = json.load(result.response)\n",
    "    cols = processed_results['head']['vars']\n",
    "\n",
    "    out = []\n",
    "    for row in processed_results['results']['bindings']:\n",
    "        item = []\n",
    "        for c in cols:\n",
    "            item.append(row.get(c, {}).get('value'))\n",
    "        out.append(item)\n",
    "\n",
    "    return pd.DataFrame(out, columns=cols)\n",
    "\n",
    "WDOpenData = get_sparql_dataframe(endpoint_url, queryOpenData)\n",
    "WDOpenData.shape"
   ]
  },
  {
   "cell_type": "code",
   "execution_count": 3,
   "id": "0c6b7591",
   "metadata": {},
   "outputs": [
    {
     "data": {
      "text/html": [
       "<div>\n",
       "<style scoped>\n",
       "    .dataframe tbody tr th:only-of-type {\n",
       "        vertical-align: middle;\n",
       "    }\n",
       "\n",
       "    .dataframe tbody tr th {\n",
       "        vertical-align: top;\n",
       "    }\n",
       "\n",
       "    .dataframe thead th {\n",
       "        text-align: right;\n",
       "    }\n",
       "</style>\n",
       "<table border=\"1\" class=\"dataframe\">\n",
       "  <thead>\n",
       "    <tr style=\"text-align: right;\">\n",
       "      <th></th>\n",
       "      <th>wikidata</th>\n",
       "      <th>org</th>\n",
       "      <th>orgLabel</th>\n",
       "      <th>portalLabel</th>\n",
       "      <th>www</th>\n",
       "    </tr>\n",
       "  </thead>\n",
       "  <tbody>\n",
       "    <tr>\n",
       "      <th>0</th>\n",
       "      <td>Q113692</td>\n",
       "      <td>http://www.wikidata.org/entity/Q113692</td>\n",
       "      <td>Haninge kommun</td>\n",
       "      <td>Stockholmskommunernas öppna data-portal</td>\n",
       "      <td>https://storsthlm.dataplatform.se</td>\n",
       "    </tr>\n",
       "    <tr>\n",
       "      <th>1</th>\n",
       "      <td>Q113718</td>\n",
       "      <td>http://www.wikidata.org/entity/Q113718</td>\n",
       "      <td>Botkyrka kommun</td>\n",
       "      <td>Stockholmskommunernas öppna data-portal</td>\n",
       "      <td>https://storsthlm.dataplatform.se</td>\n",
       "    </tr>\n",
       "    <tr>\n",
       "      <th>2</th>\n",
       "      <td>Q113730</td>\n",
       "      <td>http://www.wikidata.org/entity/Q113730</td>\n",
       "      <td>Tyresö kommun</td>\n",
       "      <td>Stockholmskommunernas öppna data-portal</td>\n",
       "      <td>https://storsthlm.dataplatform.se</td>\n",
       "    </tr>\n",
       "    <tr>\n",
       "      <th>3</th>\n",
       "      <td>Q492575</td>\n",
       "      <td>http://www.wikidata.org/entity/Q492575</td>\n",
       "      <td>Huddinge kommun</td>\n",
       "      <td>Stockholmskommunernas öppna data-portal</td>\n",
       "      <td>https://storsthlm.dataplatform.se</td>\n",
       "    </tr>\n",
       "    <tr>\n",
       "      <th>4</th>\n",
       "      <td>Q499460</td>\n",
       "      <td>http://www.wikidata.org/entity/Q499460</td>\n",
       "      <td>Nykvarns kommun</td>\n",
       "      <td>Stockholmskommunernas öppna data-portal</td>\n",
       "      <td>https://storsthlm.dataplatform.se</td>\n",
       "    </tr>\n",
       "    <tr>\n",
       "      <th>5</th>\n",
       "      <td>Q505090</td>\n",
       "      <td>http://www.wikidata.org/entity/Q505090</td>\n",
       "      <td>Nynäshamns kommun</td>\n",
       "      <td>Stockholmskommunernas öppna data-portal</td>\n",
       "      <td>https://storsthlm.dataplatform.se</td>\n",
       "    </tr>\n",
       "    <tr>\n",
       "      <th>6</th>\n",
       "      <td>Q506250</td>\n",
       "      <td>http://www.wikidata.org/entity/Q506250</td>\n",
       "      <td>Stockholms kommun</td>\n",
       "      <td>Stockholmskommunernas öppna data-portal</td>\n",
       "      <td>https://storsthlm.dataplatform.se</td>\n",
       "    </tr>\n",
       "    <tr>\n",
       "      <th>7</th>\n",
       "      <td>Q516080</td>\n",
       "      <td>http://www.wikidata.org/entity/Q516080</td>\n",
       "      <td>Salems kommun</td>\n",
       "      <td>Stockholmskommunernas öppna data-portal</td>\n",
       "      <td>https://storsthlm.dataplatform.se</td>\n",
       "    </tr>\n",
       "    <tr>\n",
       "      <th>8</th>\n",
       "      <td>Q516336</td>\n",
       "      <td>http://www.wikidata.org/entity/Q516336</td>\n",
       "      <td>Södertälje kommun</td>\n",
       "      <td>Stockholmskommunernas öppna data-portal</td>\n",
       "      <td>https://storsthlm.dataplatform.se</td>\n",
       "    </tr>\n",
       "    <tr>\n",
       "      <th>9</th>\n",
       "      <td>Q516336</td>\n",
       "      <td>http://www.wikidata.org/entity/Q516336</td>\n",
       "      <td>Södertälje kommun</td>\n",
       "      <td>Södertäljes öppna data</td>\n",
       "      <td>https://www.sodertalje.se/PSIdata</td>\n",
       "    </tr>\n",
       "  </tbody>\n",
       "</table>\n",
       "</div>"
      ],
      "text/plain": [
       "  wikidata                                     org           orgLabel  \\\n",
       "0  Q113692  http://www.wikidata.org/entity/Q113692     Haninge kommun   \n",
       "1  Q113718  http://www.wikidata.org/entity/Q113718    Botkyrka kommun   \n",
       "2  Q113730  http://www.wikidata.org/entity/Q113730      Tyresö kommun   \n",
       "3  Q492575  http://www.wikidata.org/entity/Q492575    Huddinge kommun   \n",
       "4  Q499460  http://www.wikidata.org/entity/Q499460    Nykvarns kommun   \n",
       "5  Q505090  http://www.wikidata.org/entity/Q505090  Nynäshamns kommun   \n",
       "6  Q506250  http://www.wikidata.org/entity/Q506250  Stockholms kommun   \n",
       "7  Q516080  http://www.wikidata.org/entity/Q516080      Salems kommun   \n",
       "8  Q516336  http://www.wikidata.org/entity/Q516336  Södertälje kommun   \n",
       "9  Q516336  http://www.wikidata.org/entity/Q516336  Södertälje kommun   \n",
       "\n",
       "                               portalLabel                                www  \n",
       "0  Stockholmskommunernas öppna data-portal  https://storsthlm.dataplatform.se  \n",
       "1  Stockholmskommunernas öppna data-portal  https://storsthlm.dataplatform.se  \n",
       "2  Stockholmskommunernas öppna data-portal  https://storsthlm.dataplatform.se  \n",
       "3  Stockholmskommunernas öppna data-portal  https://storsthlm.dataplatform.se  \n",
       "4  Stockholmskommunernas öppna data-portal  https://storsthlm.dataplatform.se  \n",
       "5  Stockholmskommunernas öppna data-portal  https://storsthlm.dataplatform.se  \n",
       "6  Stockholmskommunernas öppna data-portal  https://storsthlm.dataplatform.se  \n",
       "7  Stockholmskommunernas öppna data-portal  https://storsthlm.dataplatform.se  \n",
       "8  Stockholmskommunernas öppna data-portal  https://storsthlm.dataplatform.se  \n",
       "9                   Södertäljes öppna data  https://www.sodertalje.se/PSIdata  "
      ]
     },
     "execution_count": 3,
     "metadata": {},
     "output_type": "execute_result"
    }
   ],
   "source": [
    "pd.set_option('max_colwidth', 400)\n",
    "WDOpenData.head(10)"
   ]
  },
  {
   "cell_type": "code",
   "execution_count": 4,
   "id": "f8dbf6c2",
   "metadata": {},
   "outputs": [
    {
     "name": "stderr",
     "output_type": "stream",
     "text": [
      " 11%|█         | 17/154 [00:03<00:34,  3.98it/s]"
     ]
    },
    {
     "name": "stdout",
     "output_type": "stream",
     "text": [
      "Q504692 404 https://www.halmstad.se/psidata\n"
     ]
    },
    {
     "name": "stderr",
     "output_type": "stream",
     "text": [
      " 19%|█▉        | 30/154 [00:06<00:39,  3.10it/s]"
     ]
    },
    {
     "name": "stdout",
     "output_type": "stream",
     "text": [
      "Error  200 http://www.helsingborg.se/psidata Q487648\n"
     ]
    },
    {
     "name": "stderr",
     "output_type": "stream",
     "text": [
      " 54%|█████▍    | 83/154 [00:27<00:25,  2.74it/s]"
     ]
    },
    {
     "name": "stdout",
     "output_type": "stream",
     "text": [
      "Error  200 https://www.hultsfred.se/psidata Q512002\n"
     ]
    },
    {
     "name": "stderr",
     "output_type": "stream",
     "text": [
      " 64%|██████▎   | 98/154 [00:32<00:11,  4.84it/s]"
     ]
    },
    {
     "name": "stdout",
     "output_type": "stream",
     "text": [
      "Q504505 404 https://www.vindeln.se/psidata\n"
     ]
    },
    {
     "name": "stderr",
     "output_type": "stream",
     "text": [
      " 83%|████████▎ | 128/154 [00:42<00:06,  3.86it/s]"
     ]
    },
    {
     "name": "stdout",
     "output_type": "stream",
     "text": [
      "Error  200 http://www.robertsfors.se/psidata Q507670\n"
     ]
    },
    {
     "name": "stderr",
     "output_type": "stream",
     "text": [
      "100%|██████████| 154/154 [00:54<00:00,  2.83it/s]"
     ]
    },
    {
     "name": "stdout",
     "output_type": "stream",
     "text": [
      "154\n"
     ]
    },
    {
     "name": "stderr",
     "output_type": "stream",
     "text": [
      "\n"
     ]
    }
   ],
   "source": [
    "import urllib3, json\n",
    "from tqdm import tqdm\n",
    "http = urllib3.PoolManager()\n",
    "\n",
    "listOpenData = []\n",
    "for WD, row in tqdm(WDOpenData.iterrows(), total=WDOpenData.shape[0]):\n",
    "    url = row[\"www\"] \n",
    "    \n",
    "    new_item = dict()\n",
    "    new_item['wikidata'] = row[\"wikidata\"] \n",
    "    #print(url)\n",
    "    try:\n",
    "        r = http.request('GET', url) \n",
    "        new_item['status'] = r.status\n",
    "\n",
    "    except:\n",
    "        print (\"Error \", r.status, url, row[\"wikidata\"] )\n",
    "        new_item['status'] = r.status\n",
    "    if r.status != 200:\n",
    "        print (row[\"wikidata\"] , r.status, url)\n",
    "    new_item['url'] = url \n",
    "#    new_item['country'] = row[\"country\"] \n",
    "    \n",
    "    listOpenData.append(new_item)\n",
    "print (len(listOpenData))"
   ]
  },
  {
   "cell_type": "code",
   "execution_count": 6,
   "id": "18e2f8dc",
   "metadata": {},
   "outputs": [
    {
     "data": {
      "text/plain": [
       "(154, 3)"
      ]
     },
     "execution_count": 6,
     "metadata": {},
     "output_type": "execute_result"
    }
   ],
   "source": [
    "OpenDatatot = pd.DataFrame(listOpenData,\n",
    "                  columns=['wikidata','status','url'])\n",
    "OpenDatatot.shape\n"
   ]
  },
  {
   "cell_type": "code",
   "execution_count": 9,
   "id": "605343df",
   "metadata": {},
   "outputs": [
    {
     "data": {
      "text/html": [
       "<div>\n",
       "<style scoped>\n",
       "    .dataframe tbody tr th:only-of-type {\n",
       "        vertical-align: middle;\n",
       "    }\n",
       "\n",
       "    .dataframe tbody tr th {\n",
       "        vertical-align: top;\n",
       "    }\n",
       "\n",
       "    .dataframe thead th {\n",
       "        text-align: right;\n",
       "    }\n",
       "</style>\n",
       "<table border=\"1\" class=\"dataframe\">\n",
       "  <thead>\n",
       "    <tr style=\"text-align: right;\">\n",
       "      <th></th>\n",
       "      <th>wikidata</th>\n",
       "      <th>status</th>\n",
       "      <th>url</th>\n",
       "    </tr>\n",
       "  </thead>\n",
       "  <tbody>\n",
       "  </tbody>\n",
       "</table>\n",
       "</div>"
      ],
      "text/plain": [
       "Empty DataFrame\n",
       "Columns: [wikidata, status, url]\n",
       "Index: []"
      ]
     },
     "execution_count": 9,
     "metadata": {},
     "output_type": "execute_result"
    }
   ],
   "source": [
    "OpenDatatot[OpenDatatot.status == 400]"
   ]
  },
  {
   "cell_type": "code",
   "execution_count": null,
   "id": "1195c24e",
   "metadata": {},
   "outputs": [],
   "source": []
  }
 ],
 "metadata": {
  "kernelspec": {
   "display_name": "Python 3",
   "language": "python",
   "name": "python3"
  },
  "language_info": {
   "codemirror_mode": {
    "name": "ipython",
    "version": 3
   },
   "file_extension": ".py",
   "mimetype": "text/x-python",
   "name": "python",
   "nbconvert_exporter": "python",
   "pygments_lexer": "ipython3",
   "version": "3.9.4"
  }
 },
 "nbformat": 4,
 "nbformat_minor": 5
}
