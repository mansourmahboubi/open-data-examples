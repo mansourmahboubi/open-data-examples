{
 "cells": [
  {
   "cell_type": "markdown",
   "metadata": {},
   "source": [
    "# Litteraturbanken Author \n",
    "version 1.12 \n",
    "\n",
    "* this [notebook](https://github.com/salgo60/open-data-examples/blob/master/Litteraturbanken%20Author.ipynb)\n",
    "* [T238932 API Litteraturbanken]([https://phabricator.wikimedia.org/T238932)\n",
    "  * good API documention has not been found\n",
    "  * GITHUB [spraakbanken/littb-frontend](https://github.com/spraakbanken/littb-frontend)\n",
    "      Open question how to see [JSON 23](https://github.com/spraakbanken/littb-frontend/issues/23)\n",
    "  * API [get_authors](https://litteraturbanken.se/api/get_authors)\n",
    "  * [url_list](https://litteraturbanken.se/api/url_list)\n",
    "  * [API List all 0-10 include](https://litteraturbanken.se/api/list_all/etext,faksimil,pdf?from=0&to=10&include=authors,forfattare,lbworkid,titlepath,title,librisid,mediatype,main_author.author_id)\n",
    "    * [List all 0-10](https://litteraturbanken.se/api/list_all/etext,faksimil,pdf?from=0&to=10)\n",
    "  * Wikidata \n",
    "    * property [P5101](https://www.wikidata.org/wiki/Property:P5101)\n",
    "    * [other properties](https://w.wiki/eck) on the same object as Litterturbanken Author\n",
    "\n",
    "**The objective** \n",
    "1. Find all Litteraturbanken Author objects that has Show True\n",
    "1. Try to match Wikidata or create a new object for as many authors in Litteraturbanken as possible\n",
    "  1. lesson learned not all authors are identified by Litteraturbanken --> we should not create everyoine in Wikidata \n",
    "1. If Litteraturbanken has identified an author with LIBRIS id and we dont find it in Wikidata we create it\n",
    "\n",
    "**Lesson learned**\n",
    "1. we need to filter in Show True\n",
    "  1-1. looks like we need better filter e.g. \"[CanthM](https://litteraturbanken.se/f%C3%B6rfattare/CanthM)\" has false but has text \n",
    "2. in Wikidata we get entries from my earlier load but also Mix-and-Match [katalog 1223](https://mix-n-match.toolforge.org/#/catalog/1223) --> we have also got the form \"authorid_norm\" that I feel we should not use --> some cleaning\n",
    "\n",
    "\n",
    "\n",
    "## Issues\n",
    "### 1) Filter out authors with no books \n",
    "* BergenstråhleJ miss books \n",
    "* BjorklundJA miss books\n",
    "\n",
    "**solution** Filter on field Show\n",
    "\n",
    "LitteraturbankenTotShow = LitteraturbankenTot[LitteraturbankenTot[\"show\"]==True]   \n",
    "\n",
    "### 2) copyright on metadata?\n",
    "We need CC0 to import data in Wikidata (see [Wikidata:Licensing](https://www.wikidata.org/wiki/Wikidata:Licensing)) e.g. if we should add all books as objects in Wikidata with no text and create links to Litteraturbanken then fields like below need to be [CC-0](https://creativecommons.org/share-your-work/public-domain/cc0/)  \n",
    "* Författare\n",
    "* Verk\n",
    "* Libris-id \n",
    "* förlaga\t\n",
    "* eid\t\n",
    "* Införd\t\n",
    "* Länk i klartext\t\n",
    "* Epub\t\n",
    "* Källa"
   ]
  },
  {
   "cell_type": "code",
   "execution_count": 1,
   "metadata": {},
   "outputs": [
    {
     "data": {
      "text/html": [
       "<div style=\"display: inline-block; width: 720px; vertical-align: top; text-align: center;\"><h4 style=\"font-size: 12px\">0</h4><h4 style=\"font-size: 9px; padding-left: 10px; padding-right: 10px; width: 90%; word-wrap: break-word; white-space: normal;\">LitteraturbankenWD.png</h4><img src=\"LitteraturbankenWD.png\" style=\"margin: 1px; width: 700px; border: 2px solid #ddd;\"/></div>"
      ],
      "text/plain": [
       "<IPython.core.display.HTML object>"
      ]
     },
     "metadata": {},
     "output_type": "display_data"
    }
   ],
   "source": [
    "import ipyplot\n",
    "listOfImageNames = ['LitteraturbankenWD.png']\n",
    "\n",
    "ipyplot.plot_images(listOfImageNames,img_width=700)"
   ]
  },
  {
   "cell_type": "code",
   "execution_count": 2,
   "metadata": {},
   "outputs": [
    {
     "name": "stdout",
     "output_type": "stream",
     "text": [
      "Last run:  2020-10-06 10:48:54.286525\n"
     ]
    }
   ],
   "source": [
    "from datetime import datetime\n",
    "start_time  = datetime.now()\n",
    "print(\"Last run: \", start_time)"
   ]
  },
  {
   "cell_type": "code",
   "execution_count": 3,
   "metadata": {},
   "outputs": [],
   "source": [
    "import urllib3, json\n",
    "import pandas as pd \n",
    "http = urllib3.PoolManager() \n",
    "pd.set_option(\"display.max.columns\", None) \n",
    " \n",
    "url = \"https://litteraturbanken.se/api/get_authors\"\n",
    "r = http.request('GET', url)\n",
    "data = json.loads(r.data)\n",
    "df = pd.DataFrame(data[\"data\"])"
   ]
  },
  {
   "cell_type": "code",
   "execution_count": 4,
   "metadata": {},
   "outputs": [],
   "source": [
    "#df.head()"
   ]
  },
  {
   "cell_type": "code",
   "execution_count": 5,
   "metadata": {},
   "outputs": [
    {
     "data": {
      "text/html": [
       "<div>\n",
       "<style scoped>\n",
       "    .dataframe tbody tr th:only-of-type {\n",
       "        vertical-align: middle;\n",
       "    }\n",
       "\n",
       "    .dataframe tbody tr th {\n",
       "        vertical-align: top;\n",
       "    }\n",
       "\n",
       "    .dataframe thead th {\n",
       "        text-align: right;\n",
       "    }\n",
       "</style>\n",
       "<table border=\"1\" class=\"dataframe\">\n",
       "  <thead>\n",
       "    <tr style=\"text-align: right;\">\n",
       "      <th></th>\n",
       "      <th>authorid</th>\n",
       "      <th>authorid_norm</th>\n",
       "      <th>birth</th>\n",
       "      <th>db_checksum</th>\n",
       "      <th>db_timestamp</th>\n",
       "      <th>death</th>\n",
       "      <th>doc_type</th>\n",
       "      <th>full_name</th>\n",
       "      <th>gender</th>\n",
       "      <th>imported</th>\n",
       "      <th>intro</th>\n",
       "      <th>librisid</th>\n",
       "      <th>name_for_index</th>\n",
       "      <th>pictureinfo</th>\n",
       "      <th>searchable</th>\n",
       "      <th>show</th>\n",
       "      <th>surname</th>\n",
       "      <th>updated</th>\n",
       "      <th>wikidata</th>\n",
       "      <th>db_timestamp_updated</th>\n",
       "      <th>dramawebben</th>\n",
       "      <th>popularity</th>\n",
       "      <th>pseudonym</th>\n",
       "      <th>sources</th>\n",
       "      <th>other_name</th>\n",
       "      <th>intro_author</th>\n",
       "      <th>intro_author_norm</th>\n",
       "      <th>picture</th>\n",
       "      <th>bibliography</th>\n",
       "      <th>external_ref</th>\n",
       "      <th>presentation</th>\n",
       "      <th>seemore</th>\n",
       "    </tr>\n",
       "  </thead>\n",
       "  <tbody>\n",
       "    <tr>\n",
       "      <th>365</th>\n",
       "      <td>BirchPfeifferC</td>\n",
       "      <td>BirchPfeifferC</td>\n",
       "      <td>{'date': '1800', 'plain': '1868'}</td>\n",
       "      <td>a4ba99138da2a29c78a5f39c12fe7649</td>\n",
       "      <td>1600563813891</td>\n",
       "      <td>{'plain': '1800'}</td>\n",
       "      <td>author</td>\n",
       "      <td>Charlotte Birch-Pfeiffer</td>\n",
       "      <td>female</td>\n",
       "      <td>2018-10-25</td>\n",
       "      <td>None</td>\n",
       "      <td>NaN</td>\n",
       "      <td>Birch-Pfeiffer, Charlotte</td>\n",
       "      <td>None</td>\n",
       "      <td>False</td>\n",
       "      <td>False</td>\n",
       "      <td>Birch-Pfeiffer</td>\n",
       "      <td>2019-05-14</td>\n",
       "      <td>NaN</td>\n",
       "      <td>NaN</td>\n",
       "      <td>{'intro': None, 'intro_author': 'LagercrantzMV...</td>\n",
       "      <td>NaN</td>\n",
       "      <td>NaN</td>\n",
       "      <td>NaN</td>\n",
       "      <td>NaN</td>\n",
       "      <td>NaN</td>\n",
       "      <td>NaN</td>\n",
       "      <td>NaN</td>\n",
       "      <td>NaN</td>\n",
       "      <td>NaN</td>\n",
       "      <td>NaN</td>\n",
       "      <td>NaN</td>\n",
       "    </tr>\n",
       "  </tbody>\n",
       "</table>\n",
       "</div>"
      ],
      "text/plain": [
       "           authorid   authorid_norm                              birth  \\\n",
       "365  BirchPfeifferC  BirchPfeifferC  {'date': '1800', 'plain': '1868'}   \n",
       "\n",
       "                          db_checksum   db_timestamp              death  \\\n",
       "365  a4ba99138da2a29c78a5f39c12fe7649  1600563813891  {'plain': '1800'}   \n",
       "\n",
       "    doc_type                 full_name  gender    imported intro librisid  \\\n",
       "365   author  Charlotte Birch-Pfeiffer  female  2018-10-25  None      NaN   \n",
       "\n",
       "                name_for_index pictureinfo  searchable   show         surname  \\\n",
       "365  Birch-Pfeiffer, Charlotte        None       False  False  Birch-Pfeiffer   \n",
       "\n",
       "        updated wikidata  db_timestamp_updated  \\\n",
       "365  2019-05-14      NaN                   NaN   \n",
       "\n",
       "                                           dramawebben  popularity pseudonym  \\\n",
       "365  {'intro': None, 'intro_author': 'LagercrantzMV...         NaN       NaN   \n",
       "\n",
       "    sources other_name intro_author intro_author_norm picture bibliography  \\\n",
       "365     NaN        NaN          NaN               NaN     NaN          NaN   \n",
       "\n",
       "    external_ref presentation seemore  \n",
       "365          NaN          NaN     NaN  "
      ]
     },
     "execution_count": 5,
     "metadata": {},
     "output_type": "execute_result"
    }
   ],
   "source": [
    "#df.info() \n",
    "df[df['authorid_norm'].str.contains(\"BirchPfeifferC\")]"
   ]
  },
  {
   "cell_type": "code",
   "execution_count": 6,
   "metadata": {},
   "outputs": [
    {
     "name": "stdout",
     "output_type": "stream",
     "text": [
      "<class 'pandas.core.frame.DataFrame'>\n",
      "RangeIndex: 3656 entries, 0 to 3655\n",
      "Data columns (total 7 columns):\n",
      " #   Column                   Non-Null Count  Dtype         \n",
      "---  ------                   --------------  -----         \n",
      " 0   authorid                 3656 non-null   object        \n",
      " 1   wd_hos_Litteraturbanken  1418 non-null   object        \n",
      " 2   authorid_norm            3656 non-null   object        \n",
      " 3   show                     3656 non-null   bool          \n",
      " 4   updated                  2989 non-null   datetime64[ns]\n",
      " 5   imported                 2989 non-null   datetime64[ns]\n",
      " 6   librisid                 1929 non-null   object        \n",
      "dtypes: bool(1), datetime64[ns](2), object(4)\n",
      "memory usage: 175.1+ KB\n"
     ]
    }
   ],
   "source": [
    "# create a smaller dataset from this\n",
    "listLittWD = []\n",
    "for index,row in df.iterrows():\n",
    "    new_item = dict()\n",
    "    new_item['authorid'] = row['authorid']\n",
    "    new_item['authorid_norm'] = row['authorid_norm']\n",
    "    new_item['show'] = row['show']\n",
    "    new_item['updated'] = row['updated']\n",
    "    new_item['imported'] = row['imported']\n",
    "    new_item['librisid'] = row['librisid']   \n",
    "    wd = row['wikidata']\n",
    "    try:            \n",
    "        new_item['wd_hos_Litteraturbanken'] = wd['wikidata_id']\n",
    "    except:\n",
    "        pass\n",
    "    listLittWD.append(new_item)\n",
    "LitteraturbankenTot = pd.DataFrame(listLittWD,\n",
    "                  columns=['authorid','wd_hos_Litteraturbanken','authorid_norm','show','updated','imported','librisid'])\n",
    "LitteraturbankenTot[\"updated\"] = LitteraturbankenTot[\"updated\"].astype(\"datetime64\")\n",
    "LitteraturbankenTot[\"imported\"] = LitteraturbankenTot[\"imported\"].astype(\"datetime64\")\n",
    "\n",
    "LitteraturbankenTot.info()"
   ]
  },
  {
   "cell_type": "code",
   "execution_count": 7,
   "metadata": {},
   "outputs": [],
   "source": [
    "#LitteraturbankenTot[\"authorid\"].value_counts()"
   ]
  },
  {
   "cell_type": "code",
   "execution_count": 8,
   "metadata": {},
   "outputs": [
    {
     "data": {
      "text/plain": [
       "True     2288\n",
       "False    1368\n",
       "Name: show, dtype: int64"
      ]
     },
     "execution_count": 8,
     "metadata": {},
     "output_type": "execute_result"
    }
   ],
   "source": [
    "# flag I guess we should use\n",
    "LitteraturbankenTot[\"show\"].value_counts()"
   ]
  },
  {
   "cell_type": "code",
   "execution_count": 9,
   "metadata": {},
   "outputs": [
    {
     "name": "stdout",
     "output_type": "stream",
     "text": [
      "<class 'pandas.core.frame.DataFrame'>\n",
      "Int64Index: 2288 entries, 1 to 3655\n",
      "Data columns (total 7 columns):\n",
      " #   Column                   Non-Null Count  Dtype         \n",
      "---  ------                   --------------  -----         \n",
      " 0   authorid                 2288 non-null   object        \n",
      " 1   wd_hos_Litteraturbanken  1318 non-null   object        \n",
      " 2   authorid_norm            2288 non-null   object        \n",
      " 3   show                     2288 non-null   bool          \n",
      " 4   updated                  1837 non-null   datetime64[ns]\n",
      " 5   imported                 1837 non-null   datetime64[ns]\n",
      " 6   librisid                 1212 non-null   object        \n",
      "dtypes: bool(1), datetime64[ns](2), object(4)\n",
      "memory usage: 127.4+ KB\n"
     ]
    }
   ],
   "source": [
    "LitteraturbankenTotShow = LitteraturbankenTot[LitteraturbankenTot[\"show\"]==True] \n",
    "\n",
    "LitteraturbankenTotShow.info()"
   ]
  },
  {
   "cell_type": "code",
   "execution_count": 10,
   "metadata": {},
   "outputs": [],
   "source": [
    "#LitteraturbankenTotShow"
   ]
  },
  {
   "cell_type": "markdown",
   "metadata": {},
   "source": [
    "### Latest updated at Litteraturbanken"
   ]
  },
  {
   "cell_type": "code",
   "execution_count": 11,
   "metadata": {},
   "outputs": [
    {
     "data": {
      "text/html": [
       "<div>\n",
       "<style scoped>\n",
       "    .dataframe tbody tr th:only-of-type {\n",
       "        vertical-align: middle;\n",
       "    }\n",
       "\n",
       "    .dataframe tbody tr th {\n",
       "        vertical-align: top;\n",
       "    }\n",
       "\n",
       "    .dataframe thead th {\n",
       "        text-align: right;\n",
       "    }\n",
       "</style>\n",
       "<table border=\"1\" class=\"dataframe\">\n",
       "  <thead>\n",
       "    <tr style=\"text-align: right;\">\n",
       "      <th></th>\n",
       "      <th>authorid</th>\n",
       "      <th>wd_hos_Litteraturbanken</th>\n",
       "      <th>authorid_norm</th>\n",
       "      <th>show</th>\n",
       "      <th>updated</th>\n",
       "      <th>imported</th>\n",
       "      <th>librisid</th>\n",
       "    </tr>\n",
       "  </thead>\n",
       "  <tbody>\n",
       "    <tr>\n",
       "      <th>0</th>\n",
       "      <td>Eugénie</td>\n",
       "      <td>NaN</td>\n",
       "      <td>Eugenie</td>\n",
       "      <td>True</td>\n",
       "      <td>2022-02-22</td>\n",
       "      <td>2022-02-22</td>\n",
       "      <td>vs6888xd2lx9tfd</td>\n",
       "    </tr>\n",
       "    <tr>\n",
       "      <th>1</th>\n",
       "      <td>WägnerE</td>\n",
       "      <td>Q270468</td>\n",
       "      <td>WagnerE</td>\n",
       "      <td>True</td>\n",
       "      <td>2020-09-22</td>\n",
       "      <td>2010-02-17</td>\n",
       "      <td>0xbdgmxj0thr95n</td>\n",
       "    </tr>\n",
       "    <tr>\n",
       "      <th>2</th>\n",
       "      <td>JörlinE</td>\n",
       "      <td>NaN</td>\n",
       "      <td>JorlinE</td>\n",
       "      <td>True</td>\n",
       "      <td>2020-09-21</td>\n",
       "      <td>2020-09-21</td>\n",
       "      <td>NaN</td>\n",
       "    </tr>\n",
       "    <tr>\n",
       "      <th>3</th>\n",
       "      <td>FechtPM</td>\n",
       "      <td>NaN</td>\n",
       "      <td>FechtPM</td>\n",
       "      <td>True</td>\n",
       "      <td>2020-09-21</td>\n",
       "      <td>2020-09-21</td>\n",
       "      <td>NaN</td>\n",
       "    </tr>\n",
       "    <tr>\n",
       "      <th>4</th>\n",
       "      <td>RichardsonJ</td>\n",
       "      <td>NaN</td>\n",
       "      <td>RichardsonJ</td>\n",
       "      <td>True</td>\n",
       "      <td>2020-09-21</td>\n",
       "      <td>2020-09-21</td>\n",
       "      <td>NaN</td>\n",
       "    </tr>\n",
       "    <tr>\n",
       "      <th>5</th>\n",
       "      <td>BrattI</td>\n",
       "      <td>NaN</td>\n",
       "      <td>BrattI</td>\n",
       "      <td>True</td>\n",
       "      <td>2020-09-21</td>\n",
       "      <td>2020-09-21</td>\n",
       "      <td>hftwzbq12j7vcjz</td>\n",
       "    </tr>\n",
       "    <tr>\n",
       "      <th>6</th>\n",
       "      <td>FrondinE</td>\n",
       "      <td>NaN</td>\n",
       "      <td>FrondinE</td>\n",
       "      <td>True</td>\n",
       "      <td>2020-09-21</td>\n",
       "      <td>2020-09-21</td>\n",
       "      <td>zw9dkwmh3fc7gdr</td>\n",
       "    </tr>\n",
       "    <tr>\n",
       "      <th>7</th>\n",
       "      <td>LaurentiusPetriGothus</td>\n",
       "      <td>NaN</td>\n",
       "      <td>LaurentiusPetriGothus</td>\n",
       "      <td>True</td>\n",
       "      <td>2020-09-21</td>\n",
       "      <td>2020-09-21</td>\n",
       "      <td>64jlpf6q2k76524</td>\n",
       "    </tr>\n",
       "    <tr>\n",
       "      <th>8</th>\n",
       "      <td>BerglundD</td>\n",
       "      <td>NaN</td>\n",
       "      <td>BerglundD</td>\n",
       "      <td>True</td>\n",
       "      <td>2020-09-21</td>\n",
       "      <td>2020-09-21</td>\n",
       "      <td>NaN</td>\n",
       "    </tr>\n",
       "    <tr>\n",
       "      <th>9</th>\n",
       "      <td>HallmanJG</td>\n",
       "      <td>NaN</td>\n",
       "      <td>HallmanJG</td>\n",
       "      <td>True</td>\n",
       "      <td>2020-09-21</td>\n",
       "      <td>2020-09-21</td>\n",
       "      <td>nl024sx63m6jpz4</td>\n",
       "    </tr>\n",
       "  </tbody>\n",
       "</table>\n",
       "</div>"
      ],
      "text/plain": [
       "                authorid wd_hos_Litteraturbanken          authorid_norm  show  \\\n",
       "0                Eugénie                     NaN                Eugenie  True   \n",
       "1                WägnerE                 Q270468                WagnerE  True   \n",
       "2                JörlinE                     NaN                JorlinE  True   \n",
       "3                FechtPM                     NaN                FechtPM  True   \n",
       "4            RichardsonJ                     NaN            RichardsonJ  True   \n",
       "5                 BrattI                     NaN                 BrattI  True   \n",
       "6               FrondinE                     NaN               FrondinE  True   \n",
       "7  LaurentiusPetriGothus                     NaN  LaurentiusPetriGothus  True   \n",
       "8              BerglundD                     NaN              BerglundD  True   \n",
       "9              HallmanJG                     NaN              HallmanJG  True   \n",
       "\n",
       "     updated   imported         librisid  \n",
       "0 2022-02-22 2022-02-22  vs6888xd2lx9tfd  \n",
       "1 2020-09-22 2010-02-17  0xbdgmxj0thr95n  \n",
       "2 2020-09-21 2020-09-21              NaN  \n",
       "3 2020-09-21 2020-09-21              NaN  \n",
       "4 2020-09-21 2020-09-21              NaN  \n",
       "5 2020-09-21 2020-09-21  hftwzbq12j7vcjz  \n",
       "6 2020-09-21 2020-09-21  zw9dkwmh3fc7gdr  \n",
       "7 2020-09-21 2020-09-21  64jlpf6q2k76524  \n",
       "8 2020-09-21 2020-09-21              NaN  \n",
       "9 2020-09-21 2020-09-21  nl024sx63m6jpz4  "
      ]
     },
     "execution_count": 11,
     "metadata": {},
     "output_type": "execute_result"
    }
   ],
   "source": [
    "# latest updated \n",
    "LitteraturbankenTotShow = LitteraturbankenTotShow.sort_values(by=['updated'], ascending=[False])\n",
    "LitteraturbankenTotShow = LitteraturbankenTotShow.reset_index(drop=True)  \n",
    "\n",
    "LitteraturbankenTotShow[:10]"
   ]
  },
  {
   "cell_type": "markdown",
   "metadata": {},
   "source": [
    "### Latest imported at Litteraturbanken"
   ]
  },
  {
   "cell_type": "code",
   "execution_count": 12,
   "metadata": {},
   "outputs": [
    {
     "data": {
      "text/html": [
       "<div>\n",
       "<style scoped>\n",
       "    .dataframe tbody tr th:only-of-type {\n",
       "        vertical-align: middle;\n",
       "    }\n",
       "\n",
       "    .dataframe tbody tr th {\n",
       "        vertical-align: top;\n",
       "    }\n",
       "\n",
       "    .dataframe thead th {\n",
       "        text-align: right;\n",
       "    }\n",
       "</style>\n",
       "<table border=\"1\" class=\"dataframe\">\n",
       "  <thead>\n",
       "    <tr style=\"text-align: right;\">\n",
       "      <th></th>\n",
       "      <th>authorid</th>\n",
       "      <th>wd_hos_Litteraturbanken</th>\n",
       "      <th>authorid_norm</th>\n",
       "      <th>show</th>\n",
       "      <th>updated</th>\n",
       "      <th>imported</th>\n",
       "      <th>librisid</th>\n",
       "    </tr>\n",
       "  </thead>\n",
       "  <tbody>\n",
       "    <tr>\n",
       "      <th>0</th>\n",
       "      <td>Eugénie</td>\n",
       "      <td>NaN</td>\n",
       "      <td>Eugenie</td>\n",
       "      <td>True</td>\n",
       "      <td>2022-02-22</td>\n",
       "      <td>2022-02-22</td>\n",
       "      <td>vs6888xd2lx9tfd</td>\n",
       "    </tr>\n",
       "    <tr>\n",
       "      <th>1</th>\n",
       "      <td>HallmanJG</td>\n",
       "      <td>NaN</td>\n",
       "      <td>HallmanJG</td>\n",
       "      <td>True</td>\n",
       "      <td>2020-09-21</td>\n",
       "      <td>2020-09-21</td>\n",
       "      <td>nl024sx63m6jpz4</td>\n",
       "    </tr>\n",
       "    <tr>\n",
       "      <th>2</th>\n",
       "      <td>JohanIII</td>\n",
       "      <td>NaN</td>\n",
       "      <td>JohanIII</td>\n",
       "      <td>True</td>\n",
       "      <td>2020-09-21</td>\n",
       "      <td>2020-09-21</td>\n",
       "      <td>ljx016344bl6mdn</td>\n",
       "    </tr>\n",
       "    <tr>\n",
       "      <th>3</th>\n",
       "      <td>WestdahlP</td>\n",
       "      <td>NaN</td>\n",
       "      <td>WestdahlP</td>\n",
       "      <td>True</td>\n",
       "      <td>2020-09-21</td>\n",
       "      <td>2020-09-21</td>\n",
       "      <td>NaN</td>\n",
       "    </tr>\n",
       "    <tr>\n",
       "      <th>4</th>\n",
       "      <td>WahlenbergG</td>\n",
       "      <td>NaN</td>\n",
       "      <td>WahlenbergG</td>\n",
       "      <td>True</td>\n",
       "      <td>2020-09-21</td>\n",
       "      <td>2020-09-21</td>\n",
       "      <td>dbqspmqx0z27d0d</td>\n",
       "    </tr>\n",
       "    <tr>\n",
       "      <th>5</th>\n",
       "      <td>AckeJAG</td>\n",
       "      <td>NaN</td>\n",
       "      <td>AckeJAG</td>\n",
       "      <td>True</td>\n",
       "      <td>2020-09-21</td>\n",
       "      <td>2020-09-21</td>\n",
       "      <td>tr577tpc0k0tfc9</td>\n",
       "    </tr>\n",
       "    <tr>\n",
       "      <th>6</th>\n",
       "      <td>HolthusenCJ</td>\n",
       "      <td>NaN</td>\n",
       "      <td>HolthusenCJ</td>\n",
       "      <td>True</td>\n",
       "      <td>2020-09-21</td>\n",
       "      <td>2020-09-21</td>\n",
       "      <td>NaN</td>\n",
       "    </tr>\n",
       "    <tr>\n",
       "      <th>7</th>\n",
       "      <td>TollinF</td>\n",
       "      <td>NaN</td>\n",
       "      <td>TollinF</td>\n",
       "      <td>True</td>\n",
       "      <td>2020-09-21</td>\n",
       "      <td>2020-09-21</td>\n",
       "      <td>53hkn33p1btlh7l</td>\n",
       "    </tr>\n",
       "    <tr>\n",
       "      <th>8</th>\n",
       "      <td>BäckströmPO</td>\n",
       "      <td>NaN</td>\n",
       "      <td>BackstromPO</td>\n",
       "      <td>True</td>\n",
       "      <td>2020-09-21</td>\n",
       "      <td>2020-09-21</td>\n",
       "      <td>53hlqskp2qx9r38</td>\n",
       "    </tr>\n",
       "    <tr>\n",
       "      <th>9</th>\n",
       "      <td>DahlgrenL</td>\n",
       "      <td>NaN</td>\n",
       "      <td>DahlgrenL</td>\n",
       "      <td>True</td>\n",
       "      <td>2020-09-21</td>\n",
       "      <td>2020-09-21</td>\n",
       "      <td>42gjklkn56sfzxw</td>\n",
       "    </tr>\n",
       "    <tr>\n",
       "      <th>10</th>\n",
       "      <td>BerglundD</td>\n",
       "      <td>NaN</td>\n",
       "      <td>BerglundD</td>\n",
       "      <td>True</td>\n",
       "      <td>2020-09-21</td>\n",
       "      <td>2020-09-21</td>\n",
       "      <td>NaN</td>\n",
       "    </tr>\n",
       "    <tr>\n",
       "      <th>11</th>\n",
       "      <td>LaurentiusPetriGothus</td>\n",
       "      <td>NaN</td>\n",
       "      <td>LaurentiusPetriGothus</td>\n",
       "      <td>True</td>\n",
       "      <td>2020-09-21</td>\n",
       "      <td>2020-09-21</td>\n",
       "      <td>64jlpf6q2k76524</td>\n",
       "    </tr>\n",
       "    <tr>\n",
       "      <th>12</th>\n",
       "      <td>FrondinE</td>\n",
       "      <td>NaN</td>\n",
       "      <td>FrondinE</td>\n",
       "      <td>True</td>\n",
       "      <td>2020-09-21</td>\n",
       "      <td>2020-09-21</td>\n",
       "      <td>zw9dkwmh3fc7gdr</td>\n",
       "    </tr>\n",
       "    <tr>\n",
       "      <th>13</th>\n",
       "      <td>BrattI</td>\n",
       "      <td>NaN</td>\n",
       "      <td>BrattI</td>\n",
       "      <td>True</td>\n",
       "      <td>2020-09-21</td>\n",
       "      <td>2020-09-21</td>\n",
       "      <td>hftwzbq12j7vcjz</td>\n",
       "    </tr>\n",
       "    <tr>\n",
       "      <th>14</th>\n",
       "      <td>RichardsonJ</td>\n",
       "      <td>NaN</td>\n",
       "      <td>RichardsonJ</td>\n",
       "      <td>True</td>\n",
       "      <td>2020-09-21</td>\n",
       "      <td>2020-09-21</td>\n",
       "      <td>NaN</td>\n",
       "    </tr>\n",
       "    <tr>\n",
       "      <th>15</th>\n",
       "      <td>FechtPM</td>\n",
       "      <td>NaN</td>\n",
       "      <td>FechtPM</td>\n",
       "      <td>True</td>\n",
       "      <td>2020-09-21</td>\n",
       "      <td>2020-09-21</td>\n",
       "      <td>NaN</td>\n",
       "    </tr>\n",
       "    <tr>\n",
       "      <th>16</th>\n",
       "      <td>JörlinE</td>\n",
       "      <td>NaN</td>\n",
       "      <td>JorlinE</td>\n",
       "      <td>True</td>\n",
       "      <td>2020-09-21</td>\n",
       "      <td>2020-09-21</td>\n",
       "      <td>NaN</td>\n",
       "    </tr>\n",
       "    <tr>\n",
       "      <th>17</th>\n",
       "      <td>AxelsonM</td>\n",
       "      <td>NaN</td>\n",
       "      <td>AxelsonM</td>\n",
       "      <td>True</td>\n",
       "      <td>2020-09-03</td>\n",
       "      <td>2020-09-03</td>\n",
       "      <td>hftwxxs11k7svss</td>\n",
       "    </tr>\n",
       "    <tr>\n",
       "      <th>18</th>\n",
       "      <td>StaaffCT</td>\n",
       "      <td>NaN</td>\n",
       "      <td>StaaffCT</td>\n",
       "      <td>True</td>\n",
       "      <td>2020-08-24</td>\n",
       "      <td>2020-08-24</td>\n",
       "      <td>86lpsv3s08ds2hw</td>\n",
       "    </tr>\n",
       "    <tr>\n",
       "      <th>19</th>\n",
       "      <td>LöfgrenE</td>\n",
       "      <td>NaN</td>\n",
       "      <td>LofgrenE</td>\n",
       "      <td>True</td>\n",
       "      <td>2020-08-24</td>\n",
       "      <td>2020-08-24</td>\n",
       "      <td>NaN</td>\n",
       "    </tr>\n",
       "  </tbody>\n",
       "</table>\n",
       "</div>"
      ],
      "text/plain": [
       "                 authorid wd_hos_Litteraturbanken          authorid_norm  \\\n",
       "0                 Eugénie                     NaN                Eugenie   \n",
       "1               HallmanJG                     NaN              HallmanJG   \n",
       "2                JohanIII                     NaN               JohanIII   \n",
       "3               WestdahlP                     NaN              WestdahlP   \n",
       "4             WahlenbergG                     NaN            WahlenbergG   \n",
       "5                 AckeJAG                     NaN                AckeJAG   \n",
       "6             HolthusenCJ                     NaN            HolthusenCJ   \n",
       "7                 TollinF                     NaN                TollinF   \n",
       "8             BäckströmPO                     NaN            BackstromPO   \n",
       "9               DahlgrenL                     NaN              DahlgrenL   \n",
       "10              BerglundD                     NaN              BerglundD   \n",
       "11  LaurentiusPetriGothus                     NaN  LaurentiusPetriGothus   \n",
       "12               FrondinE                     NaN               FrondinE   \n",
       "13                 BrattI                     NaN                 BrattI   \n",
       "14            RichardsonJ                     NaN            RichardsonJ   \n",
       "15                FechtPM                     NaN                FechtPM   \n",
       "16                JörlinE                     NaN                JorlinE   \n",
       "17               AxelsonM                     NaN               AxelsonM   \n",
       "18               StaaffCT                     NaN               StaaffCT   \n",
       "19               LöfgrenE                     NaN               LofgrenE   \n",
       "\n",
       "    show    updated   imported         librisid  \n",
       "0   True 2022-02-22 2022-02-22  vs6888xd2lx9tfd  \n",
       "1   True 2020-09-21 2020-09-21  nl024sx63m6jpz4  \n",
       "2   True 2020-09-21 2020-09-21  ljx016344bl6mdn  \n",
       "3   True 2020-09-21 2020-09-21              NaN  \n",
       "4   True 2020-09-21 2020-09-21  dbqspmqx0z27d0d  \n",
       "5   True 2020-09-21 2020-09-21  tr577tpc0k0tfc9  \n",
       "6   True 2020-09-21 2020-09-21              NaN  \n",
       "7   True 2020-09-21 2020-09-21  53hkn33p1btlh7l  \n",
       "8   True 2020-09-21 2020-09-21  53hlqskp2qx9r38  \n",
       "9   True 2020-09-21 2020-09-21  42gjklkn56sfzxw  \n",
       "10  True 2020-09-21 2020-09-21              NaN  \n",
       "11  True 2020-09-21 2020-09-21  64jlpf6q2k76524  \n",
       "12  True 2020-09-21 2020-09-21  zw9dkwmh3fc7gdr  \n",
       "13  True 2020-09-21 2020-09-21  hftwzbq12j7vcjz  \n",
       "14  True 2020-09-21 2020-09-21              NaN  \n",
       "15  True 2020-09-21 2020-09-21              NaN  \n",
       "16  True 2020-09-21 2020-09-21              NaN  \n",
       "17  True 2020-09-03 2020-09-03  hftwxxs11k7svss  \n",
       "18  True 2020-08-24 2020-08-24  86lpsv3s08ds2hw  \n",
       "19  True 2020-08-24 2020-08-24              NaN  "
      ]
     },
     "execution_count": 12,
     "metadata": {},
     "output_type": "execute_result"
    }
   ],
   "source": [
    "LitteraturbankenTotShow = LitteraturbankenTotShow.sort_values(by=['imported'], ascending=[False])\n",
    "LitteraturbankenTotShow = LitteraturbankenTotShow.reset_index(drop=True)  \n",
    "\n",
    "LitteraturbankenTotShow[:20]"
   ]
  },
  {
   "cell_type": "markdown",
   "metadata": {},
   "source": [
    "## Wikidata"
   ]
  },
  {
   "cell_type": "code",
   "execution_count": 13,
   "metadata": {},
   "outputs": [],
   "source": [
    "# pip install sparqlwrapper\n",
    "# https://rdflib.github.io/sparqlwrapper/\n",
    "\n",
    "import sys,json\n",
    "import pandas as pd \n",
    "\n",
    "from SPARQLWrapper import SPARQLWrapper, JSON\n",
    "\n",
    "endpoint_url = \"https://query.wikidata.org/sparql\"\n",
    "\n",
    "query = \"\"\"SELECT (REPLACE(STR(?item), \".*Q\", \"Q\") AS ?WikidataID)  ?authorid WHERE {\n",
    "?item wdt:P31 wd:Q5.\n",
    "?item wdt:P5101 ?authorid\n",
    "} order by ?authorid\"\"\"\n",
    "\n",
    "def get_sparql_dataframe(endpoint_url, query):\n",
    "    \"\"\"\n",
    "    Helper function to convert SPARQL results into a Pandas data frame.\n",
    "    \"\"\"\n",
    "    user_agent = \"salgo60/%s.%s\" % (sys.version_info[0], sys.version_info[1])\n",
    " \n",
    "    sparql = SPARQLWrapper(endpoint_url, agent=user_agent)\n",
    "    sparql.setQuery(query)\n",
    "    sparql.setReturnFormat(JSON)\n",
    "    result = sparql.query()\n",
    "\n",
    "    processed_results = json.load(result.response)\n",
    "    cols = processed_results['head']['vars']\n",
    "    out = []\n",
    "    for row in processed_results['results']['bindings']:\n",
    "        item = []\n",
    "        for c in cols:\n",
    "            item.append(row.get(c, {}).get('value'))\n",
    "        out.append(item)\n",
    "\n",
    "    return pd.DataFrame(out, columns=cols)\n",
    "\n",
    "WDLittbanktot = get_sparql_dataframe(endpoint_url, query)\n"
   ]
  },
  {
   "cell_type": "code",
   "execution_count": 14,
   "metadata": {},
   "outputs": [
    {
     "name": "stdout",
     "output_type": "stream",
     "text": [
      "<class 'pandas.core.frame.DataFrame'>\n",
      "RangeIndex: 1665 entries, 0 to 1664\n",
      "Data columns (total 2 columns):\n",
      " #   Column      Non-Null Count  Dtype \n",
      "---  ------      --------------  ----- \n",
      " 0   WikidataID  1665 non-null   object\n",
      " 1   authorid    1665 non-null   object\n",
      "dtypes: object(2)\n",
      "memory usage: 26.1+ KB\n"
     ]
    }
   ],
   "source": [
    "WDLittbanktot.info()"
   ]
  },
  {
   "cell_type": "markdown",
   "metadata": {},
   "source": [
    "Duplicates in WD https://w.wiki/eM2\n",
    "We try to have one if two then set one to preferred rang"
   ]
  },
  {
   "cell_type": "code",
   "execution_count": 15,
   "metadata": {},
   "outputs": [
    {
     "data": {
      "text/plain": [
       "WikidataID    0\n",
       "authorid      0\n",
       "dtype: int64"
      ]
     },
     "execution_count": 15,
     "metadata": {},
     "output_type": "execute_result"
    }
   ],
   "source": [
    "WDLittbanktot[WDLittbanktot.duplicated(subset=['WikidataID'])].count()"
   ]
  },
  {
   "cell_type": "markdown",
   "metadata": {},
   "source": [
    "## Merge Litteraturbanken dataset with Wikidata"
   ]
  },
  {
   "cell_type": "code",
   "execution_count": 16,
   "metadata": {},
   "outputs": [
    {
     "data": {
      "text/html": [
       "<div>\n",
       "<style scoped>\n",
       "    .dataframe tbody tr th:only-of-type {\n",
       "        vertical-align: middle;\n",
       "    }\n",
       "\n",
       "    .dataframe tbody tr th {\n",
       "        vertical-align: top;\n",
       "    }\n",
       "\n",
       "    .dataframe thead th {\n",
       "        text-align: right;\n",
       "    }\n",
       "</style>\n",
       "<table border=\"1\" class=\"dataframe\">\n",
       "  <thead>\n",
       "    <tr style=\"text-align: right;\">\n",
       "      <th></th>\n",
       "      <th>WikidataID</th>\n",
       "      <th>authorid</th>\n",
       "      <th>wd_hos_Litteraturbanken</th>\n",
       "      <th>authorid_norm</th>\n",
       "      <th>show</th>\n",
       "      <th>updated</th>\n",
       "      <th>imported</th>\n",
       "      <th>librisid</th>\n",
       "      <th>WD_Litteraturbanken</th>\n",
       "    </tr>\n",
       "  </thead>\n",
       "  <tbody>\n",
       "    <tr>\n",
       "      <th>0</th>\n",
       "      <td>Q11967131</td>\n",
       "      <td>AasenE</td>\n",
       "      <td>Q11967131</td>\n",
       "      <td>AasenE</td>\n",
       "      <td>True</td>\n",
       "      <td>2019-10-16</td>\n",
       "      <td>2014-03-13</td>\n",
       "      <td>53hlsf1p1mc2mpw</td>\n",
       "      <td>both</td>\n",
       "    </tr>\n",
       "    <tr>\n",
       "      <th>1</th>\n",
       "      <td>Q4933592</td>\n",
       "      <td>AbeniusM</td>\n",
       "      <td>Q4933592</td>\n",
       "      <td>AbeniusM</td>\n",
       "      <td>True</td>\n",
       "      <td>2019-10-16</td>\n",
       "      <td>2017-04-14</td>\n",
       "      <td>ljx00mt45v0dfx5</td>\n",
       "      <td>both</td>\n",
       "    </tr>\n",
       "    <tr>\n",
       "      <th>2</th>\n",
       "      <td>Q4934135</td>\n",
       "      <td>AbrahamssonS</td>\n",
       "      <td>NaN</td>\n",
       "      <td>AbrahamssonS</td>\n",
       "      <td>True</td>\n",
       "      <td>2018-10-25</td>\n",
       "      <td>2018-10-25</td>\n",
       "      <td>NaN</td>\n",
       "      <td>both</td>\n",
       "    </tr>\n",
       "    <tr>\n",
       "      <th>3</th>\n",
       "      <td>Q365923</td>\n",
       "      <td>AchariusE</td>\n",
       "      <td>Q365923</td>\n",
       "      <td>AchariusE</td>\n",
       "      <td>True</td>\n",
       "      <td>2019-10-16</td>\n",
       "      <td>2018-02-01</td>\n",
       "      <td>dbqtx0hx5srsg85</td>\n",
       "      <td>both</td>\n",
       "    </tr>\n",
       "    <tr>\n",
       "      <th>4</th>\n",
       "      <td>Q5541979</td>\n",
       "      <td>AckeJAG</td>\n",
       "      <td>NaN</td>\n",
       "      <td>AckeJAG</td>\n",
       "      <td>True</td>\n",
       "      <td>2020-09-21</td>\n",
       "      <td>2020-09-21</td>\n",
       "      <td>tr577tpc0k0tfc9</td>\n",
       "      <td>both</td>\n",
       "    </tr>\n",
       "    <tr>\n",
       "      <th>5</th>\n",
       "      <td>Q109244</td>\n",
       "      <td>AdamBremen</td>\n",
       "      <td>Q109244</td>\n",
       "      <td>AdamBremen</td>\n",
       "      <td>True</td>\n",
       "      <td>2019-10-16</td>\n",
       "      <td>2014-02-05</td>\n",
       "      <td>53hkk5vp1k798w1</td>\n",
       "      <td>both</td>\n",
       "    </tr>\n",
       "    <tr>\n",
       "      <th>6</th>\n",
       "      <td>Q4933819</td>\n",
       "      <td>AdelborgO</td>\n",
       "      <td>Q4933819</td>\n",
       "      <td>AdelborgO</td>\n",
       "      <td>True</td>\n",
       "      <td>2019-10-16</td>\n",
       "      <td>2008-11-11</td>\n",
       "      <td>sq466t3b4s743md</td>\n",
       "      <td>both</td>\n",
       "    </tr>\n",
       "    <tr>\n",
       "      <th>7</th>\n",
       "      <td>Q3338577</td>\n",
       "      <td>AdlerbethGJ</td>\n",
       "      <td>Q3338577</td>\n",
       "      <td>AdlerbethGJ</td>\n",
       "      <td>True</td>\n",
       "      <td>2019-10-16</td>\n",
       "      <td>2010-10-19</td>\n",
       "      <td>wt794lsf0mx0xqp</td>\n",
       "      <td>both</td>\n",
       "    </tr>\n",
       "    <tr>\n",
       "      <th>8</th>\n",
       "      <td>Q918652</td>\n",
       "      <td>AdlersparreG</td>\n",
       "      <td>Q918652</td>\n",
       "      <td>AdlersparreG</td>\n",
       "      <td>True</td>\n",
       "      <td>2019-10-16</td>\n",
       "      <td>2015-02-16</td>\n",
       "      <td>86lnqg0s0b2bxhx</td>\n",
       "      <td>both</td>\n",
       "    </tr>\n",
       "    <tr>\n",
       "      <th>9</th>\n",
       "      <td>Q4346827</td>\n",
       "      <td>AdlersparreS</td>\n",
       "      <td>Q4346827</td>\n",
       "      <td>AdlersparreS</td>\n",
       "      <td>True</td>\n",
       "      <td>2019-10-16</td>\n",
       "      <td>2014-02-11</td>\n",
       "      <td>64jlfw3q2m71jcx</td>\n",
       "      <td>both</td>\n",
       "    </tr>\n",
       "  </tbody>\n",
       "</table>\n",
       "</div>"
      ],
      "text/plain": [
       "  WikidataID      authorid wd_hos_Litteraturbanken authorid_norm  show  \\\n",
       "0  Q11967131        AasenE               Q11967131        AasenE  True   \n",
       "1   Q4933592      AbeniusM                Q4933592      AbeniusM  True   \n",
       "2   Q4934135  AbrahamssonS                     NaN  AbrahamssonS  True   \n",
       "3    Q365923     AchariusE                 Q365923     AchariusE  True   \n",
       "4   Q5541979       AckeJAG                     NaN       AckeJAG  True   \n",
       "5    Q109244    AdamBremen                 Q109244    AdamBremen  True   \n",
       "6   Q4933819     AdelborgO                Q4933819     AdelborgO  True   \n",
       "7   Q3338577   AdlerbethGJ                Q3338577   AdlerbethGJ  True   \n",
       "8    Q918652  AdlersparreG                 Q918652  AdlersparreG  True   \n",
       "9   Q4346827  AdlersparreS                Q4346827  AdlersparreS  True   \n",
       "\n",
       "     updated   imported         librisid WD_Litteraturbanken  \n",
       "0 2019-10-16 2014-03-13  53hlsf1p1mc2mpw                both  \n",
       "1 2019-10-16 2017-04-14  ljx00mt45v0dfx5                both  \n",
       "2 2018-10-25 2018-10-25              NaN                both  \n",
       "3 2019-10-16 2018-02-01  dbqtx0hx5srsg85                both  \n",
       "4 2020-09-21 2020-09-21  tr577tpc0k0tfc9                both  \n",
       "5 2019-10-16 2014-02-05  53hkk5vp1k798w1                both  \n",
       "6 2019-10-16 2008-11-11  sq466t3b4s743md                both  \n",
       "7 2019-10-16 2010-10-19  wt794lsf0mx0xqp                both  \n",
       "8 2019-10-16 2015-02-16  86lnqg0s0b2bxhx                both  \n",
       "9 2019-10-16 2014-02-11  64jlfw3q2m71jcx                both  "
      ]
     },
     "execution_count": 16,
     "metadata": {},
     "output_type": "execute_result"
    }
   ],
   "source": [
    "#merge \n",
    "dfmerge = pd.merge(WDLittbanktot, LitteraturbankenTotShow,how='outer', on='authorid',indicator=True)\n",
    "# left_only is propably that we have authorid_norm in WIkidata instead of preferred authorid\n",
    "# right_only is missing in WD (could be they are part of left_only)\n",
    "#dfmerge[\"_merge\"].value_counts()   \n",
    "dfmerge['_merge'] = dfmerge['_merge'].str.replace('left_only','WD_only').str.replace('right_only','Litterturbanken_only')\n",
    "dfmerge.rename(columns={\"_merge\": \"WD_Litteraturbanken\"},inplace = True)    \n",
    "dfmerge[0:10]  "
   ]
  },
  {
   "cell_type": "code",
   "execution_count": 17,
   "metadata": {},
   "outputs": [
    {
     "name": "stdout",
     "output_type": "stream",
     "text": [
      "<class 'pandas.core.frame.DataFrame'>\n",
      "Int64Index: 2301 entries, 0 to 2300\n",
      "Data columns (total 9 columns):\n",
      " #   Column                   Non-Null Count  Dtype         \n",
      "---  ------                   --------------  -----         \n",
      " 0   WikidataID               1665 non-null   object        \n",
      " 1   authorid                 2301 non-null   object        \n",
      " 2   wd_hos_Litteraturbanken  1319 non-null   object        \n",
      " 3   authorid_norm            2289 non-null   object        \n",
      " 4   show                     2289 non-null   object        \n",
      " 5   updated                  1838 non-null   datetime64[ns]\n",
      " 6   imported                 1838 non-null   datetime64[ns]\n",
      " 7   librisid                 1212 non-null   object        \n",
      " 8   WD_Litteraturbanken      2301 non-null   object        \n",
      "dtypes: datetime64[ns](2), object(7)\n",
      "memory usage: 179.8+ KB\n"
     ]
    }
   ],
   "source": [
    "# WikidataID is Wikidata object\n",
    "# wd_hos_Litteraturbanken is the Wikidata object at Litteraturbanken \n",
    "dfmerge.info()"
   ]
  },
  {
   "cell_type": "markdown",
   "metadata": {},
   "source": [
    "### Check diff Wikidata <-> Litteraturbanken \n",
    "\n",
    "1. **WD_only** --> är oftast att Wikidata har den normerade egenskapen och skall bytas\n",
    "2. **Litterturbanken_only** skall skapas/matchas i Wikidata\n",
    " "
   ]
  },
  {
   "cell_type": "code",
   "execution_count": 18,
   "metadata": {},
   "outputs": [
    {
     "data": {
      "text/plain": [
       "both                    1653\n",
       "Litterturbanken_only     636\n",
       "WD_only                   12\n",
       "Name: WD_Litteraturbanken, dtype: int64"
      ]
     },
     "execution_count": 18,
     "metadata": {},
     "output_type": "execute_result"
    }
   ],
   "source": [
    "# left_only is propably that we have authorid_norm in WIkidata instead of preferred authorid\n",
    "# right_only is missing in WD (could be they are part of left_only)\n",
    "dfmerge[\"WD_Litteraturbanken\"].value_counts()  "
   ]
  },
  {
   "cell_type": "code",
   "execution_count": 19,
   "metadata": {},
   "outputs": [
    {
     "data": {
      "image/png": "[encoded data removed]",
      "text/plain": [
       "<Figure size 432x288 with 1 Axes>"
      ]
     },
     "metadata": {},
     "output_type": "display_data"
    }
   ],
   "source": [
    "%matplotlib inline \n",
    "import matplotlib.pyplot as plt   \n",
    "mergeCheckNumber = dfmerge[\"WD_Litteraturbanken\"].value_counts()  \n",
    "plotmerge = mergeCheckNumber.plot.pie( \\\n",
    "                   autopct='%1.0f%%', \\\n",
    "                   shadow=True, startangle=0, \\\n",
    "                   title = \"Wikidata statistics Litteraturbanken vs WD \" + start_time.strftime('%Y %m %d'))\n",
    "plt.savefig('LitteraturbankenWD.png')\n",
    "plt.show()\n"
   ]
  },
  {
   "cell_type": "code",
   "execution_count": 20,
   "metadata": {},
   "outputs": [
    {
     "data": {
      "text/plain": [
       "both                    1653\n",
       "Litterturbanken_only     636\n",
       "WD_only                   12\n",
       "Name: WD_Litteraturbanken, dtype: int64"
      ]
     },
     "execution_count": 20,
     "metadata": {},
     "output_type": "execute_result"
    }
   ],
   "source": [
    "mergeCheckNumber"
   ]
  },
  {
   "cell_type": "markdown",
   "metadata": {},
   "source": [
    "### Check diff Wikidata <-> Litteraturbanken were we have LIBRISid"
   ]
  },
  {
   "cell_type": "code",
   "execution_count": 25,
   "metadata": {},
   "outputs": [
    {
     "data": {
      "text/html": [
       "<div>\n",
       "<style scoped>\n",
       "    .dataframe tbody tr th:only-of-type {\n",
       "        vertical-align: middle;\n",
       "    }\n",
       "\n",
       "    .dataframe tbody tr th {\n",
       "        vertical-align: top;\n",
       "    }\n",
       "\n",
       "    .dataframe thead th {\n",
       "        text-align: right;\n",
       "    }\n",
       "</style>\n",
       "<table border=\"1\" class=\"dataframe\">\n",
       "  <thead>\n",
       "    <tr style=\"text-align: right;\">\n",
       "      <th></th>\n",
       "      <th>WikidataID</th>\n",
       "      <th>authorid</th>\n",
       "      <th>wd_hos_Litteraturbanken</th>\n",
       "      <th>authorid_norm</th>\n",
       "      <th>show</th>\n",
       "      <th>updated</th>\n",
       "      <th>imported</th>\n",
       "      <th>librisid</th>\n",
       "      <th>WD_Litteraturbanken</th>\n",
       "    </tr>\n",
       "  </thead>\n",
       "  <tbody>\n",
       "    <tr>\n",
       "      <th>0</th>\n",
       "      <td>Q11967131</td>\n",
       "      <td>AasenE</td>\n",
       "      <td>Q11967131</td>\n",
       "      <td>AasenE</td>\n",
       "      <td>True</td>\n",
       "      <td>2019-10-16</td>\n",
       "      <td>2014-03-13</td>\n",
       "      <td>53hlsf1p1mc2mpw</td>\n",
       "      <td>both</td>\n",
       "    </tr>\n",
       "    <tr>\n",
       "      <th>1</th>\n",
       "      <td>Q4933592</td>\n",
       "      <td>AbeniusM</td>\n",
       "      <td>Q4933592</td>\n",
       "      <td>AbeniusM</td>\n",
       "      <td>True</td>\n",
       "      <td>2019-10-16</td>\n",
       "      <td>2017-04-14</td>\n",
       "      <td>ljx00mt45v0dfx5</td>\n",
       "      <td>both</td>\n",
       "    </tr>\n",
       "    <tr>\n",
       "      <th>3</th>\n",
       "      <td>Q365923</td>\n",
       "      <td>AchariusE</td>\n",
       "      <td>Q365923</td>\n",
       "      <td>AchariusE</td>\n",
       "      <td>True</td>\n",
       "      <td>2019-10-16</td>\n",
       "      <td>2018-02-01</td>\n",
       "      <td>dbqtx0hx5srsg85</td>\n",
       "      <td>both</td>\n",
       "    </tr>\n",
       "    <tr>\n",
       "      <th>4</th>\n",
       "      <td>Q5541979</td>\n",
       "      <td>AckeJAG</td>\n",
       "      <td>NaN</td>\n",
       "      <td>AckeJAG</td>\n",
       "      <td>True</td>\n",
       "      <td>2020-09-21</td>\n",
       "      <td>2020-09-21</td>\n",
       "      <td>tr577tpc0k0tfc9</td>\n",
       "      <td>both</td>\n",
       "    </tr>\n",
       "    <tr>\n",
       "      <th>5</th>\n",
       "      <td>Q109244</td>\n",
       "      <td>AdamBremen</td>\n",
       "      <td>Q109244</td>\n",
       "      <td>AdamBremen</td>\n",
       "      <td>True</td>\n",
       "      <td>2019-10-16</td>\n",
       "      <td>2014-02-05</td>\n",
       "      <td>53hkk5vp1k798w1</td>\n",
       "      <td>both</td>\n",
       "    </tr>\n",
       "    <tr>\n",
       "      <th>...</th>\n",
       "      <td>...</td>\n",
       "      <td>...</td>\n",
       "      <td>...</td>\n",
       "      <td>...</td>\n",
       "      <td>...</td>\n",
       "      <td>...</td>\n",
       "      <td>...</td>\n",
       "      <td>...</td>\n",
       "      <td>...</td>\n",
       "    </tr>\n",
       "    <tr>\n",
       "      <th>1995</th>\n",
       "      <td>NaN</td>\n",
       "      <td>SimonsenM</td>\n",
       "      <td>Q1886707</td>\n",
       "      <td>SimonsenM</td>\n",
       "      <td>True</td>\n",
       "      <td>2019-12-09</td>\n",
       "      <td>2014-03-12</td>\n",
       "      <td>dbqsnnnx5flknct</td>\n",
       "      <td>Litterturbanken_only</td>\n",
       "    </tr>\n",
       "    <tr>\n",
       "      <th>1998</th>\n",
       "      <td>NaN</td>\n",
       "      <td>AnderssonE</td>\n",
       "      <td>NaN</td>\n",
       "      <td>AnderssonE</td>\n",
       "      <td>True</td>\n",
       "      <td>2019-10-16</td>\n",
       "      <td>2014-02-11</td>\n",
       "      <td>pm135h77182cbrc</td>\n",
       "      <td>Litterturbanken_only</td>\n",
       "    </tr>\n",
       "    <tr>\n",
       "      <th>2000</th>\n",
       "      <td>NaN</td>\n",
       "      <td>SandbergA</td>\n",
       "      <td>NaN</td>\n",
       "      <td>SandbergA</td>\n",
       "      <td>True</td>\n",
       "      <td>2019-10-16</td>\n",
       "      <td>2014-02-11</td>\n",
       "      <td>75kmq58r1twg518</td>\n",
       "      <td>Litterturbanken_only</td>\n",
       "    </tr>\n",
       "    <tr>\n",
       "      <th>2001</th>\n",
       "      <td>NaN</td>\n",
       "      <td>BrantingA</td>\n",
       "      <td>NaN</td>\n",
       "      <td>BrantingA</td>\n",
       "      <td>True</td>\n",
       "      <td>2019-10-16</td>\n",
       "      <td>2014-02-11</td>\n",
       "      <td>sq461wrb1pd33qx</td>\n",
       "      <td>Litterturbanken_only</td>\n",
       "    </tr>\n",
       "    <tr>\n",
       "      <th>2012</th>\n",
       "      <td>NaN</td>\n",
       "      <td>NordinC</td>\n",
       "      <td>NaN</td>\n",
       "      <td>NordinC</td>\n",
       "      <td>True</td>\n",
       "      <td>2019-10-16</td>\n",
       "      <td>2012-03-15</td>\n",
       "      <td>64jmq82q3rs896w</td>\n",
       "      <td>Litterturbanken_only</td>\n",
       "    </tr>\n",
       "  </tbody>\n",
       "</table>\n",
       "<p>1212 rows × 9 columns</p>\n",
       "</div>"
      ],
      "text/plain": [
       "     WikidataID    authorid wd_hos_Litteraturbanken authorid_norm  show  \\\n",
       "0     Q11967131      AasenE               Q11967131        AasenE  True   \n",
       "1      Q4933592    AbeniusM                Q4933592      AbeniusM  True   \n",
       "3       Q365923   AchariusE                 Q365923     AchariusE  True   \n",
       "4      Q5541979     AckeJAG                     NaN       AckeJAG  True   \n",
       "5       Q109244  AdamBremen                 Q109244    AdamBremen  True   \n",
       "...         ...         ...                     ...           ...   ...   \n",
       "1995        NaN   SimonsenM                Q1886707     SimonsenM  True   \n",
       "1998        NaN  AnderssonE                     NaN    AnderssonE  True   \n",
       "2000        NaN   SandbergA                     NaN     SandbergA  True   \n",
       "2001        NaN   BrantingA                     NaN     BrantingA  True   \n",
       "2012        NaN     NordinC                     NaN       NordinC  True   \n",
       "\n",
       "        updated   imported         librisid   WD_Litteraturbanken  \n",
       "0    2019-10-16 2014-03-13  53hlsf1p1mc2mpw                  both  \n",
       "1    2019-10-16 2017-04-14  ljx00mt45v0dfx5                  both  \n",
       "3    2019-10-16 2018-02-01  dbqtx0hx5srsg85                  both  \n",
       "4    2020-09-21 2020-09-21  tr577tpc0k0tfc9                  both  \n",
       "5    2019-10-16 2014-02-05  53hkk5vp1k798w1                  both  \n",
       "...         ...        ...              ...                   ...  \n",
       "1995 2019-12-09 2014-03-12  dbqsnnnx5flknct  Litterturbanken_only  \n",
       "1998 2019-10-16 2014-02-11  pm135h77182cbrc  Litterturbanken_only  \n",
       "2000 2019-10-16 2014-02-11  75kmq58r1twg518  Litterturbanken_only  \n",
       "2001 2019-10-16 2014-02-11  sq461wrb1pd33qx  Litterturbanken_only  \n",
       "2012 2019-10-16 2012-03-15  64jmq82q3rs896w  Litterturbanken_only  \n",
       "\n",
       "[1212 rows x 9 columns]"
      ]
     },
     "execution_count": 25,
     "metadata": {},
     "output_type": "execute_result"
    }
   ],
   "source": [
    "mergewithLibris"
   ]
  },
  {
   "cell_type": "code",
   "execution_count": 24,
   "metadata": {},
   "outputs": [
    {
     "ename": "ValueError",
     "evalue": "pie requires either y column or 'subplots=True'",
     "output_type": "error",
     "traceback": [
      "\u001b[0;31m---------------------------------------------------------------------------\u001b[0m",
      "\u001b[0;31mValueError\u001b[0m                                Traceback (most recent call last)",
      "\u001b[0;32m<ipython-input-24-58ea69b025f8>\u001b[0m in \u001b[0;36m<module>\u001b[0;34m\u001b[0m\n\u001b[1;32m      1\u001b[0m \u001b[0mmergewithLibris\u001b[0m \u001b[0;34m=\u001b[0m \u001b[0mdfmerge\u001b[0m\u001b[0;34m[\u001b[0m\u001b[0mdfmerge\u001b[0m\u001b[0;34m[\u001b[0m\u001b[0;34m\"librisid\"\u001b[0m\u001b[0;34m]\u001b[0m\u001b[0;34m.\u001b[0m\u001b[0mnotnull\u001b[0m\u001b[0;34m(\u001b[0m\u001b[0;34m)\u001b[0m\u001b[0;34m]\u001b[0m\u001b[0;34m.\u001b[0m\u001b[0mcopy\u001b[0m\u001b[0;34m(\u001b[0m\u001b[0;34m)\u001b[0m\u001b[0;34m\u001b[0m\u001b[0;34m\u001b[0m\u001b[0m\n\u001b[0;32m----> 2\u001b[0;31m plotmerge = mergewithLibris.plot.pie( \\\n\u001b[0m\u001b[1;32m      3\u001b[0m                    \u001b[0mautopct\u001b[0m\u001b[0;34m=\u001b[0m\u001b[0;34m'%1.0f%%'\u001b[0m\u001b[0;34m,\u001b[0m\u001b[0;31m \u001b[0m\u001b[0;31m\\\u001b[0m\u001b[0;34m\u001b[0m\u001b[0;34m\u001b[0m\u001b[0m\n\u001b[1;32m      4\u001b[0m                    \u001b[0mshadow\u001b[0m\u001b[0;34m=\u001b[0m\u001b[0;32mTrue\u001b[0m\u001b[0;34m,\u001b[0m \u001b[0mstartangle\u001b[0m\u001b[0;34m=\u001b[0m\u001b[0;36m0\u001b[0m\u001b[0;34m,\u001b[0m\u001b[0;31m \u001b[0m\u001b[0;31m\\\u001b[0m\u001b[0;34m\u001b[0m\u001b[0;34m\u001b[0m\u001b[0m\n\u001b[1;32m      5\u001b[0m                    title = \"Wikidata statistics Litteraturbanken with LIBRIS \" + start_time.strftime('%Y %m %d'))\n",
      "\u001b[0;32m/Library/Frameworks/Python.framework/Versions/3.8/lib/python3.8/site-packages/pandas/plotting/_core.py\u001b[0m in \u001b[0;36mpie\u001b[0;34m(self, **kwargs)\u001b[0m\n\u001b[1;32m   1525\u001b[0m             \u001b[0;32mand\u001b[0m \u001b[0;32mnot\u001b[0m \u001b[0mkwargs\u001b[0m\u001b[0;34m.\u001b[0m\u001b[0mget\u001b[0m\u001b[0;34m(\u001b[0m\u001b[0;34m\"subplots\"\u001b[0m\u001b[0;34m,\u001b[0m \u001b[0;32mFalse\u001b[0m\u001b[0;34m)\u001b[0m\u001b[0;34m\u001b[0m\u001b[0;34m\u001b[0m\u001b[0m\n\u001b[1;32m   1526\u001b[0m         ):\n\u001b[0;32m-> 1527\u001b[0;31m             \u001b[0;32mraise\u001b[0m \u001b[0mValueError\u001b[0m\u001b[0;34m(\u001b[0m\u001b[0;34m\"pie requires either y column or 'subplots=True'\"\u001b[0m\u001b[0;34m)\u001b[0m\u001b[0;34m\u001b[0m\u001b[0;34m\u001b[0m\u001b[0m\n\u001b[0m\u001b[1;32m   1528\u001b[0m         \u001b[0;32mreturn\u001b[0m \u001b[0mself\u001b[0m\u001b[0;34m(\u001b[0m\u001b[0mkind\u001b[0m\u001b[0;34m=\u001b[0m\u001b[0;34m\"pie\"\u001b[0m\u001b[0;34m,\u001b[0m \u001b[0;34m**\u001b[0m\u001b[0mkwargs\u001b[0m\u001b[0;34m)\u001b[0m\u001b[0;34m\u001b[0m\u001b[0;34m\u001b[0m\u001b[0m\n\u001b[1;32m   1529\u001b[0m \u001b[0;34m\u001b[0m\u001b[0m\n",
      "\u001b[0;31mValueError\u001b[0m: pie requires either y column or 'subplots=True'"
     ]
    }
   ],
   "source": [
    "mergewithLibris = dfmerge[dfmerge[\"librisid\"].notnull()].copy() \n",
    "plotmerge = mergewithLibris.plot.pie( \\\n",
    "                   autopct='%1.0f%%', \\\n",
    "                   shadow=True, startangle=0, \\\n",
    "                   title = \"Wikidata statistics Litteraturbanken with LIBRIS \" + start_time.strftime('%Y %m %d'))\n",
    "plotmerge.plot( kind = 'bar',subplots=True) \n",
    "plt.title(\"LIBRIS \")\n",
    "plt.savefig('LitteraturbankenWDLibris.png')\n",
    "plt.show()\n"
   ]
  },
  {
   "cell_type": "code",
   "execution_count": null,
   "metadata": {},
   "outputs": [],
   "source": [
    "mergewithLibris.info()"
   ]
  },
  {
   "cell_type": "code",
   "execution_count": null,
   "metadata": {},
   "outputs": [],
   "source": [
    "\n",
    "\n",
    "mergeCheckNumber = dfmerge[\"WD_Litteraturbanken\"].value_counts()  \n",
    "plotmerge = mergeCheckNumber.plot.pie( \\\n",
    "                   autopct='%1.0f%%', \\\n",
    "                   shadow=True, startangle=0, \\\n",
    "                   title = \"Wikidata statistics Litteraturbanken vs WD \" + start_time.strftime('%Y %m %d'))\n",
    "plt.savefig('LitteraturbankenWD.png')\n",
    "plt.show()\n"
   ]
  },
  {
   "cell_type": "code",
   "execution_count": null,
   "metadata": {},
   "outputs": [],
   "source": [
    "pd.set_option(\"display.max.rows\", None) \n",
    " \n",
    "wdonly = dfmerge[dfmerge[\"WD_Litteraturbanken\"]==\"WD_only\"]\n",
    "# could be items with Show false at Litteraturbanken \n",
    "wdonly.info()\n"
   ]
  },
  {
   "cell_type": "code",
   "execution_count": null,
   "metadata": {},
   "outputs": [],
   "source": [
    "LitteraturbankenTotShow.info()"
   ]
  },
  {
   "cell_type": "code",
   "execution_count": null,
   "metadata": {},
   "outputs": [],
   "source": [
    "wdonly_norm = pd.merge(wdonly, LitteraturbankenTotShow,how='outer', left_on='authorid', right_on='authorid_norm',indicator=True)\n",
    "wdonly_norm.info()"
   ]
  },
  {
   "cell_type": "code",
   "execution_count": null,
   "metadata": {},
   "outputs": [],
   "source": [
    "df[df['authorid_norm'].str.contains(\"WahlinK\")] \n",
    "#df[df['authorid'].str.contains(\"SjödinS\")] "
   ]
  },
  {
   "cell_type": "code",
   "execution_count": null,
   "metadata": {},
   "outputs": [],
   "source": [
    "df[df['authorid'].str.contains(\"BjörkmanE\")] "
   ]
  },
  {
   "cell_type": "markdown",
   "metadata": {},
   "source": [
    "1. merge wdonly authorid on authorid_norm --> we get the authorid that we should use \n",
    "1. next step is create Quickstatement  for delete and upload the new one see example [Calc](https://docs.google.com/spreadsheets/d/1lw1wqTmFndxlltJHhyEyzQxoGTph6J2tdVCwgmJFHdI/edit?usp=sharing)\n"
   ]
  },
  {
   "cell_type": "code",
   "execution_count": null,
   "metadata": {},
   "outputs": [],
   "source": [
    "wdonlymerge = pd.merge(wdonly, LitteraturbankenTotShow, left_on='authorid',right_on='authorid_norm')\n",
    "wdonlymerge[{'WikidataID','authorid_x','authorid_y','show_y'}] \n"
   ]
  },
  {
   "cell_type": "code",
   "execution_count": null,
   "metadata": {},
   "outputs": [],
   "source": [
    "from IPython.display import HTML\n",
    "wddelete = wdonly = dfmerge[dfmerge[\"WD_Litteraturbanken\"]==\"both\"].copy()  \n",
    "wddelete[\"Littbank\"] = \"<a href='https://litteraturbanken.se/f%C3%B6rfattare/\" + wddelete[\"authorid\"] + \"'>link</a>\"\n",
    "pd.set_option(\"display.max.columns\", None) \n",
    "HTML(wddelete[{\"Littbank\",\"WikidataID\",\"authorid\"}].to_html(escape=False))"
   ]
  },
  {
   "cell_type": "code",
   "execution_count": null,
   "metadata": {},
   "outputs": [],
   "source": [
    "dfmerge_authorid_norm = pd.merge(wdonly, LitteraturbankenTotShow, left_on='authorid', right_on='authorid_norm',indicator=True)"
   ]
  },
  {
   "cell_type": "code",
   "execution_count": null,
   "metadata": {},
   "outputs": [],
   "source": [
    "dfmerge_authorid_norm.info()"
   ]
  },
  {
   "cell_type": "code",
   "execution_count": null,
   "metadata": {},
   "outputs": [],
   "source": [
    "dfmerge_authorid_norm.head()"
   ]
  },
  {
   "cell_type": "code",
   "execution_count": null,
   "metadata": {
    "scrolled": false
   },
   "outputs": [],
   "source": [
    "#dfmerge_authorid_norm[{'WikidataID','authorid_x','authorid_y'}] "
   ]
  },
  {
   "cell_type": "markdown",
   "metadata": {},
   "source": [
    "### Check items not matched to Wikidata but has Librisid"
   ]
  },
  {
   "cell_type": "code",
   "execution_count": null,
   "metadata": {},
   "outputs": [],
   "source": [
    "dfmerge[\"WD_Litteraturbanken\"].value_counts()  "
   ]
  },
  {
   "cell_type": "code",
   "execution_count": null,
   "metadata": {
    "scrolled": true
   },
   "outputs": [],
   "source": [
    "Litterturbanken_only = dfmerge[dfmerge[\"WD_Litteraturbanken\"]==\"Litterturbanken_only\"]  \n",
    "Litterturbanken_only.info()\n",
    "#Litterturbanken_only.head(50)"
   ]
  },
  {
   "cell_type": "code",
   "execution_count": null,
   "metadata": {},
   "outputs": [],
   "source": [
    "#Get all items with no Wikidata item but has librisid --> can match them using Open Refine \n",
    "Litterturbanken_only[Litterturbanken_only['librisid'].notnull()].count()"
   ]
  },
  {
   "cell_type": "code",
   "execution_count": null,
   "metadata": {},
   "outputs": [],
   "source": [
    "Litterturbanken_only[Litterturbanken_only['librisid'].notnull()]"
   ]
  },
  {
   "cell_type": "markdown",
   "metadata": {},
   "source": [
    "### Find objects with Show false at Litteraturbanken \n",
    "If found in Wikidata they are candidates to be deleted in Wikidata \n",
    "\n",
    "* Looks like we have some oddities in the Litteraturbanken data as items with Show False looks ok to use "
   ]
  },
  {
   "cell_type": "code",
   "execution_count": null,
   "metadata": {},
   "outputs": [],
   "source": [
    "LitteraturbankenTotNotShow = LitteraturbankenTot[LitteraturbankenTot[\"show\"]==False]  \n",
    "dfmergeDelete = pd.merge(WDLittbanktot, LitteraturbankenTotNotShow,how='outer', on='authorid',indicator=True)"
   ]
  },
  {
   "cell_type": "code",
   "execution_count": null,
   "metadata": {},
   "outputs": [],
   "source": [
    "# both are candidates to be deleted as they have show False\n",
    "dfmergeDelete[\"_merge\"].value_counts()  "
   ]
  },
  {
   "cell_type": "code",
   "execution_count": null,
   "metadata": {},
   "outputs": [],
   "source": [
    "dfmergeDeleteBoth = dfmergeDelete[dfmergeDelete[\"_merge\"]==\"both\"].copy()  \n",
    "dfmergeDeleteBoth[\"Littbank\"] = \"<a href='https://litteraturbanken.se/f%C3%B6rfattare/\" + dfmergeDeleteBoth[\"authorid\"] + \"'>link Litteraturbanken</a>\"\n",
    "HTML(dfmergeDeleteBoth.to_html(escape=False))\n"
   ]
  },
  {
   "cell_type": "code",
   "execution_count": null,
   "metadata": {},
   "outputs": [],
   "source": [
    "dfmergeDeleteBoth.info()"
   ]
  },
  {
   "cell_type": "code",
   "execution_count": null,
   "metadata": {},
   "outputs": [],
   "source": [
    "end = datetime.now()\n",
    "print(\"Ended: \", end) \n",
    "print('Time elapsed (hh:mm:ss.ms) {}'.format(datetime.now() - start_time))"
   ]
  }
 ],
 "metadata": {
  "kernelspec": {
   "display_name": "Python 3",
   "language": "python",
   "name": "python3"
  },
  "language_info": {
   "codemirror_mode": {
    "name": "ipython",
    "version": 3
   },
   "file_extension": ".py",
   "mimetype": "text/x-python",
   "name": "python",
   "nbconvert_exporter": "python",
   "pygments_lexer": "ipython3",
   "version": "3.8.0"
  }
 },
 "nbformat": 4,
 "nbformat_minor": 4
}
