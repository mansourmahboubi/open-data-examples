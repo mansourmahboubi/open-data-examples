{
 "cells": [
  {
   "cell_type": "markdown",
   "metadata": {},
   "source": [
    "# Litteraturbanken Author \n",
    "* this [notebook](https://github.com/salgo60/open-data-examples/blob/master/Litteraturbanken%20Author.ipynb)\n",
    "* [T238932 API Litteraturbanken]([https://phabricator.wikimedia.org/T238932)\n",
    "  * good documention feels is missing\n",
    "  * GITHUB [spraakbanken/littb-frontend](https://github.com/spraakbanken/littb-frontend)\n",
    "      Open question how to see [JSON 23](https://github.com/spraakbanken/littb-frontend/issues/23)\n",
    "  * API [Author](https://litteraturbanken.se/api/get_authors)\n",
    "  * [url_list](https://litteraturbanken.se/api/url_list)\n",
    "  * [API List all 0-10 include](https://litteraturbanken.se/api/list_all/etext,faksimil,pdf?from=0&to=10&include=authors,forfattare,lbworkid,titlepath,title,librisid,mediatype,main_author.author_id)\n",
    "    * [List all 0-10](https://litteraturbanken.se/api/list_all/etext,faksimil,pdf?from=0&to=10)\n",
    "    \n",
    "## Issues\n",
    "### 1) Filter out authors with no books \n",
    "* BergenstråhleJ miss books \n",
    "* BjorklundJA miss books\n",
    "\n",
    "**solution** Filter on field Show\n",
    "\n",
    "LitteraturbankenTotShow = LitteraturbankenTot[LitteraturbankenTot[\"show\"]==True]  \n",
    "### 2) copyright on metadata?\n",
    "We need CC0 to import data in Wikidata (see [Wikidata:Licensing](https://www.wikidata.org/wiki/Wikidata:Licensing)) e.g. if we should add all books as objecys with no text nut limnks Litteraturbanken then fields like nelow need to be [CC-0](https://creativecommons.org/share-your-work/public-domain/cc0/)  \n",
    "* Författare\n",
    "* Verk\n",
    "* Libris-id \n",
    "* förlaga\t\n",
    "* eid\t\n",
    "* Införd\t\n",
    "* Länk i klartext\t\n",
    "* Epub\t\n",
    "* Källa"
   ]
  },
  {
   "cell_type": "code",
   "execution_count": 1,
   "metadata": {},
   "outputs": [
    {
     "name": "stdout",
     "output_type": "stream",
     "text": [
      "Last run:  2020-09-30 15:46:09.465931\n"
     ]
    }
   ],
   "source": [
    "from datetime import datetime\n",
    "start_time  = datetime.now()\n",
    "print(\"Last run: \", start_time)"
   ]
  },
  {
   "cell_type": "code",
   "execution_count": 2,
   "metadata": {},
   "outputs": [],
   "source": [
    "import urllib3, json\n",
    "import pandas as pd \n",
    "http = urllib3.PoolManager() \n",
    "pd.set_option(\"display.max.columns\", None) \n",
    " \n",
    "url = \"https://litteraturbanken.se/api/get_authors\"\n",
    "r = http.request('GET', url)\n",
    "data = json.loads(r.data)\n",
    "df = pd.DataFrame(data[\"data\"])"
   ]
  },
  {
   "cell_type": "code",
   "execution_count": 3,
   "metadata": {},
   "outputs": [
    {
     "data": {
      "text/html": [
       "<div>\n",
       "<style scoped>\n",
       "    .dataframe tbody tr th:only-of-type {\n",
       "        vertical-align: middle;\n",
       "    }\n",
       "\n",
       "    .dataframe tbody tr th {\n",
       "        vertical-align: top;\n",
       "    }\n",
       "\n",
       "    .dataframe thead th {\n",
       "        text-align: right;\n",
       "    }\n",
       "</style>\n",
       "<table border=\"1\" class=\"dataframe\">\n",
       "  <thead>\n",
       "    <tr style=\"text-align: right;\">\n",
       "      <th></th>\n",
       "      <th>authorid</th>\n",
       "      <th>authorid_norm</th>\n",
       "      <th>birth</th>\n",
       "      <th>db_checksum</th>\n",
       "      <th>db_timestamp</th>\n",
       "      <th>death</th>\n",
       "      <th>doc_type</th>\n",
       "      <th>full_name</th>\n",
       "      <th>gender</th>\n",
       "      <th>imported</th>\n",
       "      <th>intro</th>\n",
       "      <th>librisid</th>\n",
       "      <th>name_for_index</th>\n",
       "      <th>pictureinfo</th>\n",
       "      <th>searchable</th>\n",
       "      <th>show</th>\n",
       "      <th>surname</th>\n",
       "      <th>updated</th>\n",
       "      <th>wikidata</th>\n",
       "      <th>db_timestamp_updated</th>\n",
       "      <th>dramawebben</th>\n",
       "      <th>popularity</th>\n",
       "      <th>pseudonym</th>\n",
       "      <th>sources</th>\n",
       "      <th>other_name</th>\n",
       "      <th>intro_author</th>\n",
       "      <th>intro_author_norm</th>\n",
       "      <th>picture</th>\n",
       "      <th>bibliography</th>\n",
       "      <th>external_ref</th>\n",
       "      <th>presentation</th>\n",
       "      <th>seemore</th>\n",
       "    </tr>\n",
       "  </thead>\n",
       "  <tbody>\n",
       "    <tr>\n",
       "      <th>0</th>\n",
       "      <td>AarneA</td>\n",
       "      <td>AarneA</td>\n",
       "      <td>{'date': '1867', 'plain': '1867'}</td>\n",
       "      <td>d4646f71d18e1304e4b16a557dd2f8cf</td>\n",
       "      <td>1600563813743</td>\n",
       "      <td>{'date': '1925', 'plain': '1925'}</td>\n",
       "      <td>author</td>\n",
       "      <td>Antti Aarne</td>\n",
       "      <td>male</td>\n",
       "      <td>2014-02-11</td>\n",
       "      <td>None</td>\n",
       "      <td>0xbfm5hj2hjvvwn</td>\n",
       "      <td>Aarne, Antti</td>\n",
       "      <td>None</td>\n",
       "      <td>False</td>\n",
       "      <td>False</td>\n",
       "      <td>Aarne</td>\n",
       "      <td>2019-10-16</td>\n",
       "      <td>NaN</td>\n",
       "      <td>NaN</td>\n",
       "      <td>NaN</td>\n",
       "      <td>NaN</td>\n",
       "      <td>NaN</td>\n",
       "      <td>NaN</td>\n",
       "      <td>NaN</td>\n",
       "      <td>NaN</td>\n",
       "      <td>NaN</td>\n",
       "      <td>NaN</td>\n",
       "      <td>NaN</td>\n",
       "      <td>NaN</td>\n",
       "      <td>NaN</td>\n",
       "      <td>NaN</td>\n",
       "    </tr>\n",
       "    <tr>\n",
       "      <th>1</th>\n",
       "      <td>AasenE</td>\n",
       "      <td>AasenE</td>\n",
       "      <td>{'date': '1935', 'plain': '1935'}</td>\n",
       "      <td>f9d8d6666830bbe11a5153518eb5ca7b</td>\n",
       "      <td>1600563813501</td>\n",
       "      <td>NaN</td>\n",
       "      <td>author</td>\n",
       "      <td>Elisabeth Aasen</td>\n",
       "      <td>female</td>\n",
       "      <td>2014-03-13</td>\n",
       "      <td>None</td>\n",
       "      <td>53hlsf1p1mc2mpw</td>\n",
       "      <td>Aasen, Elisabeth</td>\n",
       "      <td>None</td>\n",
       "      <td>False</td>\n",
       "      <td>True</td>\n",
       "      <td>Aasen</td>\n",
       "      <td>2019-10-16</td>\n",
       "      <td>{'birthplace': None, 'birthplace_label': None,...</td>\n",
       "      <td>NaN</td>\n",
       "      <td>NaN</td>\n",
       "      <td>NaN</td>\n",
       "      <td>NaN</td>\n",
       "      <td>NaN</td>\n",
       "      <td>NaN</td>\n",
       "      <td>NaN</td>\n",
       "      <td>NaN</td>\n",
       "      <td>NaN</td>\n",
       "      <td>NaN</td>\n",
       "      <td>NaN</td>\n",
       "      <td>NaN</td>\n",
       "      <td>NaN</td>\n",
       "    </tr>\n",
       "    <tr>\n",
       "      <th>2</th>\n",
       "      <td>AbeniusM</td>\n",
       "      <td>AbeniusM</td>\n",
       "      <td>{'date': '1899', 'plain': '1899'}</td>\n",
       "      <td>3f54cad107a4eabdbe746046f109a593</td>\n",
       "      <td>1600563813504</td>\n",
       "      <td>{'plain': '1970'}</td>\n",
       "      <td>author</td>\n",
       "      <td>Margit Abenius</td>\n",
       "      <td>female</td>\n",
       "      <td>2017-04-14</td>\n",
       "      <td>\\n&lt;p&gt;MARGIT ABENIUS (1899–1970): ”Margit Abeni...</td>\n",
       "      <td>ljx00mt45v0dfx5</td>\n",
       "      <td>Abenius, Margit</td>\n",
       "      <td>None</td>\n",
       "      <td>True</td>\n",
       "      <td>True</td>\n",
       "      <td>Abenius</td>\n",
       "      <td>2019-10-16</td>\n",
       "      <td>{'birthplace': [14.628893758, 61.090146823], '...</td>\n",
       "      <td>1.600608e+12</td>\n",
       "      <td>NaN</td>\n",
       "      <td>NaN</td>\n",
       "      <td>NaN</td>\n",
       "      <td>NaN</td>\n",
       "      <td>NaN</td>\n",
       "      <td>NaN</td>\n",
       "      <td>NaN</td>\n",
       "      <td>NaN</td>\n",
       "      <td>NaN</td>\n",
       "      <td>NaN</td>\n",
       "      <td>NaN</td>\n",
       "      <td>NaN</td>\n",
       "    </tr>\n",
       "    <tr>\n",
       "      <th>3</th>\n",
       "      <td>AbrahamssonG</td>\n",
       "      <td>AbrahamssonG</td>\n",
       "      <td>{'date': '1961', 'plain': '1961'}</td>\n",
       "      <td>3d398cb6d33ac0cb9f1f0bc26d6eb9bf</td>\n",
       "      <td>1600563813515</td>\n",
       "      <td>NaN</td>\n",
       "      <td>author</td>\n",
       "      <td>Gunnel Abrahamsson</td>\n",
       "      <td>female</td>\n",
       "      <td>2014-02-11</td>\n",
       "      <td>None</td>\n",
       "      <td>NaN</td>\n",
       "      <td>Abrahamsson, Gunnel</td>\n",
       "      <td>None</td>\n",
       "      <td>False</td>\n",
       "      <td>False</td>\n",
       "      <td>Abrahamsson</td>\n",
       "      <td>2014-03-07</td>\n",
       "      <td>NaN</td>\n",
       "      <td>NaN</td>\n",
       "      <td>NaN</td>\n",
       "      <td>NaN</td>\n",
       "      <td>NaN</td>\n",
       "      <td>NaN</td>\n",
       "      <td>NaN</td>\n",
       "      <td>NaN</td>\n",
       "      <td>NaN</td>\n",
       "      <td>NaN</td>\n",
       "      <td>NaN</td>\n",
       "      <td>NaN</td>\n",
       "      <td>NaN</td>\n",
       "      <td>NaN</td>\n",
       "    </tr>\n",
       "    <tr>\n",
       "      <th>4</th>\n",
       "      <td>AbrahamssonS</td>\n",
       "      <td>AbrahamssonS</td>\n",
       "      <td>{'date': '1872', 'plain': '1872'}</td>\n",
       "      <td>4f3cceeb16912e0524fd79011dafbf7f</td>\n",
       "      <td>1600563813518</td>\n",
       "      <td>{'date': '1911', 'plain': '1911'}</td>\n",
       "      <td>author</td>\n",
       "      <td>Selma Abrahamsson</td>\n",
       "      <td>female</td>\n",
       "      <td>2018-10-25</td>\n",
       "      <td>None</td>\n",
       "      <td>NaN</td>\n",
       "      <td>Abrahamsson, Selma</td>\n",
       "      <td>None</td>\n",
       "      <td>False</td>\n",
       "      <td>True</td>\n",
       "      <td>Abrahamsson</td>\n",
       "      <td>2018-10-25</td>\n",
       "      <td>NaN</td>\n",
       "      <td>1.600608e+12</td>\n",
       "      <td>{'intro': '\n",
       "\n",
       "&lt;p&gt;SELMA ABRAHAMSSON (1872–1911) ...</td>\n",
       "      <td>722.0</td>\n",
       "      <td>[{'authorid': 'Flavia_pseudonym', 'authorid_no...</td>\n",
       "      <td>NaN</td>\n",
       "      <td>NaN</td>\n",
       "      <td>NaN</td>\n",
       "      <td>NaN</td>\n",
       "      <td>NaN</td>\n",
       "      <td>NaN</td>\n",
       "      <td>NaN</td>\n",
       "      <td>NaN</td>\n",
       "      <td>NaN</td>\n",
       "    </tr>\n",
       "  </tbody>\n",
       "</table>\n",
       "</div>"
      ],
      "text/plain": [
       "       authorid authorid_norm                              birth  \\\n",
       "0        AarneA        AarneA  {'date': '1867', 'plain': '1867'}   \n",
       "1        AasenE        AasenE  {'date': '1935', 'plain': '1935'}   \n",
       "2      AbeniusM      AbeniusM  {'date': '1899', 'plain': '1899'}   \n",
       "3  AbrahamssonG  AbrahamssonG  {'date': '1961', 'plain': '1961'}   \n",
       "4  AbrahamssonS  AbrahamssonS  {'date': '1872', 'plain': '1872'}   \n",
       "\n",
       "                        db_checksum   db_timestamp  \\\n",
       "0  d4646f71d18e1304e4b16a557dd2f8cf  1600563813743   \n",
       "1  f9d8d6666830bbe11a5153518eb5ca7b  1600563813501   \n",
       "2  3f54cad107a4eabdbe746046f109a593  1600563813504   \n",
       "3  3d398cb6d33ac0cb9f1f0bc26d6eb9bf  1600563813515   \n",
       "4  4f3cceeb16912e0524fd79011dafbf7f  1600563813518   \n",
       "\n",
       "                               death doc_type           full_name  gender  \\\n",
       "0  {'date': '1925', 'plain': '1925'}   author         Antti Aarne    male   \n",
       "1                                NaN   author     Elisabeth Aasen  female   \n",
       "2                  {'plain': '1970'}   author      Margit Abenius  female   \n",
       "3                                NaN   author  Gunnel Abrahamsson  female   \n",
       "4  {'date': '1911', 'plain': '1911'}   author   Selma Abrahamsson  female   \n",
       "\n",
       "     imported                                              intro  \\\n",
       "0  2014-02-11                                               None   \n",
       "1  2014-03-13                                               None   \n",
       "2  2017-04-14  \\n<p>MARGIT ABENIUS (1899–1970): ”Margit Abeni...   \n",
       "3  2014-02-11                                               None   \n",
       "4  2018-10-25                                               None   \n",
       "\n",
       "          librisid       name_for_index pictureinfo  searchable   show  \\\n",
       "0  0xbfm5hj2hjvvwn         Aarne, Antti        None       False  False   \n",
       "1  53hlsf1p1mc2mpw     Aasen, Elisabeth        None       False   True   \n",
       "2  ljx00mt45v0dfx5      Abenius, Margit        None        True   True   \n",
       "3              NaN  Abrahamsson, Gunnel        None       False  False   \n",
       "4              NaN   Abrahamsson, Selma        None       False   True   \n",
       "\n",
       "       surname     updated                                           wikidata  \\\n",
       "0        Aarne  2019-10-16                                                NaN   \n",
       "1        Aasen  2019-10-16  {'birthplace': None, 'birthplace_label': None,...   \n",
       "2      Abenius  2019-10-16  {'birthplace': [14.628893758, 61.090146823], '...   \n",
       "3  Abrahamsson  2014-03-07                                                NaN   \n",
       "4  Abrahamsson  2018-10-25                                                NaN   \n",
       "\n",
       "   db_timestamp_updated                                        dramawebben  \\\n",
       "0                   NaN                                                NaN   \n",
       "1                   NaN                                                NaN   \n",
       "2          1.600608e+12                                                NaN   \n",
       "3                   NaN                                                NaN   \n",
       "4          1.600608e+12  {'intro': '\n",
       "\n",
       "<p>SELMA ABRAHAMSSON (1872–1911) ...   \n",
       "\n",
       "   popularity                                          pseudonym sources  \\\n",
       "0         NaN                                                NaN     NaN   \n",
       "1         NaN                                                NaN     NaN   \n",
       "2         NaN                                                NaN     NaN   \n",
       "3         NaN                                                NaN     NaN   \n",
       "4       722.0  [{'authorid': 'Flavia_pseudonym', 'authorid_no...     NaN   \n",
       "\n",
       "  other_name intro_author intro_author_norm picture bibliography external_ref  \\\n",
       "0        NaN          NaN               NaN     NaN          NaN          NaN   \n",
       "1        NaN          NaN               NaN     NaN          NaN          NaN   \n",
       "2        NaN          NaN               NaN     NaN          NaN          NaN   \n",
       "3        NaN          NaN               NaN     NaN          NaN          NaN   \n",
       "4        NaN          NaN               NaN     NaN          NaN          NaN   \n",
       "\n",
       "  presentation seemore  \n",
       "0          NaN     NaN  \n",
       "1          NaN     NaN  \n",
       "2          NaN     NaN  \n",
       "3          NaN     NaN  \n",
       "4          NaN     NaN  "
      ]
     },
     "execution_count": 3,
     "metadata": {},
     "output_type": "execute_result"
    }
   ],
   "source": [
    "df.head()"
   ]
  },
  {
   "cell_type": "code",
   "execution_count": 4,
   "metadata": {},
   "outputs": [
    {
     "data": {
      "text/html": [
       "<div>\n",
       "<style scoped>\n",
       "    .dataframe tbody tr th:only-of-type {\n",
       "        vertical-align: middle;\n",
       "    }\n",
       "\n",
       "    .dataframe tbody tr th {\n",
       "        vertical-align: top;\n",
       "    }\n",
       "\n",
       "    .dataframe thead th {\n",
       "        text-align: right;\n",
       "    }\n",
       "</style>\n",
       "<table border=\"1\" class=\"dataframe\">\n",
       "  <thead>\n",
       "    <tr style=\"text-align: right;\">\n",
       "      <th></th>\n",
       "      <th>authorid</th>\n",
       "      <th>authorid_norm</th>\n",
       "      <th>birth</th>\n",
       "      <th>db_checksum</th>\n",
       "      <th>db_timestamp</th>\n",
       "      <th>death</th>\n",
       "      <th>doc_type</th>\n",
       "      <th>full_name</th>\n",
       "      <th>gender</th>\n",
       "      <th>imported</th>\n",
       "      <th>intro</th>\n",
       "      <th>librisid</th>\n",
       "      <th>name_for_index</th>\n",
       "      <th>pictureinfo</th>\n",
       "      <th>searchable</th>\n",
       "      <th>show</th>\n",
       "      <th>surname</th>\n",
       "      <th>updated</th>\n",
       "      <th>wikidata</th>\n",
       "      <th>db_timestamp_updated</th>\n",
       "      <th>dramawebben</th>\n",
       "      <th>popularity</th>\n",
       "      <th>pseudonym</th>\n",
       "      <th>sources</th>\n",
       "      <th>other_name</th>\n",
       "      <th>intro_author</th>\n",
       "      <th>intro_author_norm</th>\n",
       "      <th>picture</th>\n",
       "      <th>bibliography</th>\n",
       "      <th>external_ref</th>\n",
       "      <th>presentation</th>\n",
       "      <th>seemore</th>\n",
       "    </tr>\n",
       "  </thead>\n",
       "  <tbody>\n",
       "    <tr>\n",
       "      <th>951</th>\n",
       "      <td>FahlströmS</td>\n",
       "      <td>FahlstromS</td>\n",
       "      <td>{'date': '1898', 'plain': '1898'}</td>\n",
       "      <td>c20fc56dbfbd39a208d92e0e1e3af8d7</td>\n",
       "      <td>1600563814413</td>\n",
       "      <td>{'date': '1932', 'plain': '1932'}</td>\n",
       "      <td>author</td>\n",
       "      <td>Samuel Fahlström</td>\n",
       "      <td>male</td>\n",
       "      <td>2014-02-11</td>\n",
       "      <td>None</td>\n",
       "      <td>NaN</td>\n",
       "      <td>Fahlström, Samuel</td>\n",
       "      <td>None</td>\n",
       "      <td>False</td>\n",
       "      <td>False</td>\n",
       "      <td>Fahlström</td>\n",
       "      <td>2014-03-17</td>\n",
       "      <td>{'birthplace': [16.35, 63.1], 'birthplace_labe...</td>\n",
       "      <td>NaN</td>\n",
       "      <td>NaN</td>\n",
       "      <td>NaN</td>\n",
       "      <td>NaN</td>\n",
       "      <td>NaN</td>\n",
       "      <td>NaN</td>\n",
       "      <td>NaN</td>\n",
       "      <td>NaN</td>\n",
       "      <td>NaN</td>\n",
       "      <td>NaN</td>\n",
       "      <td>NaN</td>\n",
       "      <td>NaN</td>\n",
       "      <td>NaN</td>\n",
       "    </tr>\n",
       "  </tbody>\n",
       "</table>\n",
       "</div>"
      ],
      "text/plain": [
       "       authorid authorid_norm                              birth  \\\n",
       "951  FahlströmS    FahlstromS  {'date': '1898', 'plain': '1898'}   \n",
       "\n",
       "                          db_checksum   db_timestamp  \\\n",
       "951  c20fc56dbfbd39a208d92e0e1e3af8d7  1600563814413   \n",
       "\n",
       "                                 death doc_type         full_name gender  \\\n",
       "951  {'date': '1932', 'plain': '1932'}   author  Samuel Fahlström   male   \n",
       "\n",
       "       imported intro librisid     name_for_index pictureinfo  searchable  \\\n",
       "951  2014-02-11  None      NaN  Fahlström, Samuel        None       False   \n",
       "\n",
       "      show    surname     updated  \\\n",
       "951  False  Fahlström  2014-03-17   \n",
       "\n",
       "                                              wikidata  db_timestamp_updated  \\\n",
       "951  {'birthplace': [16.35, 63.1], 'birthplace_labe...                   NaN   \n",
       "\n",
       "    dramawebben  popularity pseudonym sources other_name intro_author  \\\n",
       "951         NaN         NaN       NaN     NaN        NaN          NaN   \n",
       "\n",
       "    intro_author_norm picture bibliography external_ref presentation seemore  \n",
       "951               NaN     NaN          NaN          NaN          NaN     NaN  "
      ]
     },
     "execution_count": 4,
     "metadata": {},
     "output_type": "execute_result"
    }
   ],
   "source": [
    "#df.info() \n",
    "df[df['authorid'].str.contains(\"FahlströmS\")]"
   ]
  },
  {
   "cell_type": "code",
   "execution_count": 5,
   "metadata": {},
   "outputs": [
    {
     "name": "stdout",
     "output_type": "stream",
     "text": [
      "<class 'pandas.core.frame.DataFrame'>\n",
      "RangeIndex: 3656 entries, 0 to 3655\n",
      "Data columns (total 4 columns):\n",
      " #   Column         Non-Null Count  Dtype \n",
      "---  ------         --------------  ----- \n",
      " 0   authorid       3656 non-null   object\n",
      " 1   wd             1418 non-null   object\n",
      " 2   authorid_norm  3656 non-null   object\n",
      " 3   show           3656 non-null   bool  \n",
      "dtypes: bool(1), object(3)\n",
      "memory usage: 89.4+ KB\n"
     ]
    }
   ],
   "source": [
    "listLittWD = []\n",
    "for index,row in df.iterrows():\n",
    "    new_item = dict()\n",
    "    new_item['authorid'] = row['authorid']\n",
    "    new_item['authorid_norm'] = row['authorid_norm']\n",
    "    new_item['show'] = row['show']\n",
    "    wd = row['wikidata']\n",
    "    try:            \n",
    "        new_item['wd'] = wd['wikidata_id']\n",
    "    except:\n",
    "        pass\n",
    "    listLittWD.append(new_item)\n",
    "LitteraturbankenTot = pd.DataFrame(listLittWD,\n",
    "                  columns=['authorid','wd','authorid_norm','show'])\n",
    "LitteraturbankenTot.info()"
   ]
  },
  {
   "cell_type": "code",
   "execution_count": 6,
   "metadata": {},
   "outputs": [
    {
     "data": {
      "text/plain": [
       "MånssonP                 1\n",
       "MontgomeryCederhielmH    1\n",
       "MarnersdóttirM           1\n",
       "SGS                      1\n",
       "EriksonB                 1\n",
       "                        ..\n",
       "FrondinE                 1\n",
       "SvedénM                  1\n",
       "WranérH                  1\n",
       "LindnerM                 1\n",
       "LiBai                    1\n",
       "Name: authorid, Length: 3656, dtype: int64"
      ]
     },
     "execution_count": 6,
     "metadata": {},
     "output_type": "execute_result"
    }
   ],
   "source": [
    "LitteraturbankenTot[\"authorid\"].value_counts()"
   ]
  },
  {
   "cell_type": "code",
   "execution_count": 7,
   "metadata": {},
   "outputs": [
    {
     "data": {
      "text/plain": [
       "True     2288\n",
       "False    1368\n",
       "Name: show, dtype: int64"
      ]
     },
     "execution_count": 7,
     "metadata": {},
     "output_type": "execute_result"
    }
   ],
   "source": [
    "LitteraturbankenTot[\"show\"].value_counts()"
   ]
  },
  {
   "cell_type": "code",
   "execution_count": 8,
   "metadata": {},
   "outputs": [
    {
     "name": "stdout",
     "output_type": "stream",
     "text": [
      "<class 'pandas.core.frame.DataFrame'>\n",
      "Int64Index: 2288 entries, 1 to 3655\n",
      "Data columns (total 4 columns):\n",
      " #   Column         Non-Null Count  Dtype \n",
      "---  ------         --------------  ----- \n",
      " 0   authorid       2288 non-null   object\n",
      " 1   wd             1318 non-null   object\n",
      " 2   authorid_norm  2288 non-null   object\n",
      " 3   show           2288 non-null   bool  \n",
      "dtypes: bool(1), object(3)\n",
      "memory usage: 73.7+ KB\n"
     ]
    }
   ],
   "source": [
    "LitteraturbankenTotShow = LitteraturbankenTot[LitteraturbankenTot[\"show\"]==True]  \n",
    "LitteraturbankenTotShow.info()"
   ]
  },
  {
   "cell_type": "markdown",
   "metadata": {},
   "source": [
    "## Wikidata"
   ]
  },
  {
   "cell_type": "code",
   "execution_count": 9,
   "metadata": {},
   "outputs": [],
   "source": [
    "# pip install sparqlwrapper\n",
    "# https://rdflib.github.io/sparqlwrapper/\n",
    "\n",
    "import sys,json\n",
    "import pandas as pd \n",
    "\n",
    "from SPARQLWrapper import SPARQLWrapper, JSON\n",
    "\n",
    "endpoint_url = \"https://query.wikidata.org/sparql\"\n",
    "\n",
    "query = \"\"\"SELECT (REPLACE(STR(?item), \".*Q\", \"Q\") AS ?WikidataID)  ?authorid WHERE {\n",
    "?item wdt:P31 wd:Q5.\n",
    "?item wdt:P5101 ?authorid\n",
    "} order by ?authorid\"\"\"\n",
    "\n",
    "def get_sparql_dataframe(endpoint_url, query):\n",
    "    \"\"\"\n",
    "    Helper function to convert SPARQL results into a Pandas data frame.\n",
    "    \"\"\"\n",
    "    user_agent = \"salgo60/%s.%s\" % (sys.version_info[0], sys.version_info[1])\n",
    " \n",
    "    sparql = SPARQLWrapper(endpoint_url, agent=user_agent)\n",
    "    sparql.setQuery(query)\n",
    "    sparql.setReturnFormat(JSON)\n",
    "    result = sparql.query()\n",
    "\n",
    "    processed_results = json.load(result.response)\n",
    "    cols = processed_results['head']['vars']\n",
    "    out = []\n",
    "    for row in processed_results['results']['bindings']:\n",
    "        item = []\n",
    "        for c in cols:\n",
    "            item.append(row.get(c, {}).get('value'))\n",
    "        out.append(item)\n",
    "\n",
    "    return pd.DataFrame(out, columns=cols)\n",
    "\n",
    "WDLittbanktot = get_sparql_dataframe(endpoint_url, query)\n"
   ]
  },
  {
   "cell_type": "code",
   "execution_count": 10,
   "metadata": {},
   "outputs": [
    {
     "name": "stdout",
     "output_type": "stream",
     "text": [
      "<class 'pandas.core.frame.DataFrame'>\n",
      "RangeIndex: 1884 entries, 0 to 1883\n",
      "Data columns (total 2 columns):\n",
      " #   Column      Non-Null Count  Dtype \n",
      "---  ------      --------------  ----- \n",
      " 0   WikidataID  1884 non-null   object\n",
      " 1   authorid    1884 non-null   object\n",
      "dtypes: object(2)\n",
      "memory usage: 29.6+ KB\n"
     ]
    }
   ],
   "source": [
    "WDLittbanktot.info()"
   ]
  },
  {
   "cell_type": "markdown",
   "metadata": {},
   "source": [
    "Duplicates in WD https://w.wiki/eM2\n",
    "We try to have one if two then set one to preferred rang"
   ]
  },
  {
   "cell_type": "code",
   "execution_count": 11,
   "metadata": {},
   "outputs": [
    {
     "data": {
      "text/plain": [
       "WikidataID    0\n",
       "authorid      0\n",
       "dtype: int64"
      ]
     },
     "execution_count": 11,
     "metadata": {},
     "output_type": "execute_result"
    }
   ],
   "source": [
    "WDLittbanktot[WDLittbanktot.duplicated(subset=['WikidataID'])].count()"
   ]
  },
  {
   "cell_type": "markdown",
   "metadata": {},
   "source": [
    "### Check diff Wikidata <-> Litteraturbanken"
   ]
  },
  {
   "cell_type": "code",
   "execution_count": 12,
   "metadata": {},
   "outputs": [],
   "source": [
    "dfmerge = pd.merge(WDLittbanktot, LitteraturbankenTotShow,how='outer', on='authorid',indicator=True)"
   ]
  },
  {
   "cell_type": "code",
   "execution_count": 13,
   "metadata": {},
   "outputs": [
    {
     "data": {
      "text/plain": [
       "both          1485\n",
       "right_only     803\n",
       "left_only      399\n",
       "Name: _merge, dtype: int64"
      ]
     },
     "execution_count": 13,
     "metadata": {},
     "output_type": "execute_result"
    }
   ],
   "source": [
    "dfmerge[\"_merge\"].value_counts()  "
   ]
  },
  {
   "cell_type": "code",
   "execution_count": 14,
   "metadata": {},
   "outputs": [
    {
     "data": {
      "text/html": [
       "<div>\n",
       "<style scoped>\n",
       "    .dataframe tbody tr th:only-of-type {\n",
       "        vertical-align: middle;\n",
       "    }\n",
       "\n",
       "    .dataframe tbody tr th {\n",
       "        vertical-align: top;\n",
       "    }\n",
       "\n",
       "    .dataframe thead th {\n",
       "        text-align: right;\n",
       "    }\n",
       "</style>\n",
       "<table border=\"1\" class=\"dataframe\">\n",
       "  <thead>\n",
       "    <tr style=\"text-align: right;\">\n",
       "      <th></th>\n",
       "      <th>WikidataID</th>\n",
       "      <th>authorid</th>\n",
       "      <th>wd</th>\n",
       "      <th>authorid_norm</th>\n",
       "      <th>show</th>\n",
       "      <th>WD_Litteraturbanken</th>\n",
       "    </tr>\n",
       "  </thead>\n",
       "  <tbody>\n",
       "    <tr>\n",
       "      <th>0</th>\n",
       "      <td>Q11967131</td>\n",
       "      <td>AasenE</td>\n",
       "      <td>Q11967131</td>\n",
       "      <td>AasenE</td>\n",
       "      <td>True</td>\n",
       "      <td>both</td>\n",
       "    </tr>\n",
       "    <tr>\n",
       "      <th>1</th>\n",
       "      <td>Q4933592</td>\n",
       "      <td>AbeniusM</td>\n",
       "      <td>Q4933592</td>\n",
       "      <td>AbeniusM</td>\n",
       "      <td>True</td>\n",
       "      <td>both</td>\n",
       "    </tr>\n",
       "    <tr>\n",
       "      <th>2</th>\n",
       "      <td>Q4934135</td>\n",
       "      <td>AbrahamssonS</td>\n",
       "      <td>NaN</td>\n",
       "      <td>AbrahamssonS</td>\n",
       "      <td>True</td>\n",
       "      <td>both</td>\n",
       "    </tr>\n",
       "    <tr>\n",
       "      <th>3</th>\n",
       "      <td>Q365923</td>\n",
       "      <td>AchariusE</td>\n",
       "      <td>Q365923</td>\n",
       "      <td>AchariusE</td>\n",
       "      <td>True</td>\n",
       "      <td>both</td>\n",
       "    </tr>\n",
       "    <tr>\n",
       "      <th>4</th>\n",
       "      <td>Q5541979</td>\n",
       "      <td>AckeJAG</td>\n",
       "      <td>NaN</td>\n",
       "      <td>AckeJAG</td>\n",
       "      <td>True</td>\n",
       "      <td>both</td>\n",
       "    </tr>\n",
       "    <tr>\n",
       "      <th>5</th>\n",
       "      <td>Q109244</td>\n",
       "      <td>AdamBremen</td>\n",
       "      <td>Q109244</td>\n",
       "      <td>AdamBremen</td>\n",
       "      <td>True</td>\n",
       "      <td>both</td>\n",
       "    </tr>\n",
       "    <tr>\n",
       "      <th>6</th>\n",
       "      <td>Q4933819</td>\n",
       "      <td>AdelborgO</td>\n",
       "      <td>Q4933819</td>\n",
       "      <td>AdelborgO</td>\n",
       "      <td>True</td>\n",
       "      <td>both</td>\n",
       "    </tr>\n",
       "    <tr>\n",
       "      <th>7</th>\n",
       "      <td>Q3338577</td>\n",
       "      <td>AdlerbethGJ</td>\n",
       "      <td>Q3338577</td>\n",
       "      <td>AdlerbethGJ</td>\n",
       "      <td>True</td>\n",
       "      <td>both</td>\n",
       "    </tr>\n",
       "    <tr>\n",
       "      <th>8</th>\n",
       "      <td>Q918652</td>\n",
       "      <td>AdlersparreG</td>\n",
       "      <td>Q918652</td>\n",
       "      <td>AdlersparreG</td>\n",
       "      <td>True</td>\n",
       "      <td>both</td>\n",
       "    </tr>\n",
       "    <tr>\n",
       "      <th>9</th>\n",
       "      <td>Q64992157</td>\n",
       "      <td>AdlersparreGA</td>\n",
       "      <td>NaN</td>\n",
       "      <td>NaN</td>\n",
       "      <td>NaN</td>\n",
       "      <td>WD_only</td>\n",
       "    </tr>\n",
       "  </tbody>\n",
       "</table>\n",
       "</div>"
      ],
      "text/plain": [
       "  WikidataID       authorid         wd authorid_norm  show WD_Litteraturbanken\n",
       "0  Q11967131         AasenE  Q11967131        AasenE  True                both\n",
       "1   Q4933592       AbeniusM   Q4933592      AbeniusM  True                both\n",
       "2   Q4934135   AbrahamssonS        NaN  AbrahamssonS  True                both\n",
       "3    Q365923      AchariusE    Q365923     AchariusE  True                both\n",
       "4   Q5541979        AckeJAG        NaN       AckeJAG  True                both\n",
       "5    Q109244     AdamBremen    Q109244    AdamBremen  True                both\n",
       "6   Q4933819      AdelborgO   Q4933819     AdelborgO  True                both\n",
       "7   Q3338577    AdlerbethGJ   Q3338577   AdlerbethGJ  True                both\n",
       "8    Q918652   AdlersparreG    Q918652  AdlersparreG  True                both\n",
       "9  Q64992157  AdlersparreGA        NaN           NaN   NaN             WD_only"
      ]
     },
     "execution_count": 14,
     "metadata": {},
     "output_type": "execute_result"
    }
   ],
   "source": [
    "dfmerge['_merge'] = dfmerge['_merge'].str.replace('left_only','WD_only').str.replace('right_only','Litterturbanken_only')\n",
    "dfmerge.rename(columns={\"_merge\": \"WD_Litteraturbanken\"},inplace = True)\n",
    "\n",
    "dfmerge[0:10]  "
   ]
  },
  {
   "cell_type": "code",
   "execution_count": 15,
   "metadata": {},
   "outputs": [
    {
     "data": {
      "image/png": "[encoded data removed]",
      "text/plain": [
       "<Figure size 432x288 with 1 Axes>"
      ]
     },
     "metadata": {},
     "output_type": "display_data"
    }
   ],
   "source": [
    "%matplotlib inline \n",
    "import matplotlib.pyplot as plt   \n",
    "mergeCheckNumber = dfmerge[\"WD_Litteraturbanken\"].value_counts()  \n",
    "plotmerge = mergeCheckNumber.plot.pie( \\\n",
    "                   autopct='%1.0f%%', \\\n",
    "                   shadow=True, startangle=0, \\\n",
    "                   title = \"Wikidata statistics Litteraturbanken vs WD \" + start_time.strftime('%Y %m %d'))\n",
    "plt.savefig('LitteraturbankenWD.png')\n",
    "plt.show()\n"
   ]
  },
  {
   "cell_type": "code",
   "execution_count": 16,
   "metadata": {},
   "outputs": [
    {
     "data": {
      "text/plain": [
       "both                    1485\n",
       "Litterturbanken_only     803\n",
       "WD_only                  399\n",
       "Name: WD_Litteraturbanken, dtype: int64"
      ]
     },
     "execution_count": 16,
     "metadata": {},
     "output_type": "execute_result"
    }
   ],
   "source": [
    "mergeCheckNumber"
   ]
  },
  {
   "cell_type": "code",
   "execution_count": 17,
   "metadata": {},
   "outputs": [],
   "source": [
    "pd.set_option(\"display.max.rows\", None) \n",
    " \n",
    "wdonly = dfmerge[dfmerge[\"WD_Litteraturbanken\"]==\"WD_only\"]"
   ]
  },
  {
   "cell_type": "code",
   "execution_count": 18,
   "metadata": {},
   "outputs": [],
   "source": [
    "dfmerge_authorid_norm = pd.merge(wdonly, LitteraturbankenTotShow, left_on='authorid', right_on='authorid_norm',indicator=True)"
   ]
  },
  {
   "cell_type": "code",
   "execution_count": 19,
   "metadata": {},
   "outputs": [
    {
     "name": "stdout",
     "output_type": "stream",
     "text": [
      "<class 'pandas.core.frame.DataFrame'>\n",
      "Int64Index: 86 entries, 0 to 85\n",
      "Data columns (total 11 columns):\n",
      " #   Column               Non-Null Count  Dtype   \n",
      "---  ------               --------------  -----   \n",
      " 0   WikidataID           86 non-null     object  \n",
      " 1   authorid_x           86 non-null     object  \n",
      " 2   wd_x                 0 non-null      object  \n",
      " 3   authorid_norm_x      0 non-null      object  \n",
      " 4   show_x               0 non-null      object  \n",
      " 5   WD_Litteraturbanken  86 non-null     object  \n",
      " 6   authorid_y           86 non-null     object  \n",
      " 7   wd_y                 86 non-null     object  \n",
      " 8   authorid_norm_y      86 non-null     object  \n",
      " 9   show_y               86 non-null     bool    \n",
      " 10  _merge               86 non-null     category\n",
      "dtypes: bool(1), category(1), object(9)\n",
      "memory usage: 7.0+ KB\n"
     ]
    }
   ],
   "source": [
    "dfmerge_authorid_norm.info()"
   ]
  },
  {
   "cell_type": "code",
   "execution_count": 21,
   "metadata": {
    "scrolled": false
   },
   "outputs": [],
   "source": [
    "#dfmerge_authorid_norm[{'WikidataID','authorid_x','authorid_y'}] "
   ]
  },
  {
   "cell_type": "code",
   "execution_count": null,
   "metadata": {},
   "outputs": [],
   "source": []
  }
 ],
 "metadata": {
  "kernelspec": {
   "display_name": "Python 3",
   "language": "python",
   "name": "python3"
  },
  "language_info": {
   "codemirror_mode": {
    "name": "ipython",
    "version": 3
   },
   "file_extension": ".py",
   "mimetype": "text/x-python",
   "name": "python",
   "nbconvert_exporter": "python",
   "pygments_lexer": "ipython3",
   "version": "3.8.0"
  }
 },
 "nbformat": 4,
 "nbformat_minor": 4
}
