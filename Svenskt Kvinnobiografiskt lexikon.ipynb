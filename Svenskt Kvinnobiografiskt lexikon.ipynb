{
 "cells": [
  {
   "cell_type": "markdown",
   "metadata": {},
   "source": [
    "# Svenskt Kvinnobiografiskt lexikon part 1\n",
    "version 1.3.5\n",
    "checks for new records in SKBL\n",
    "\n",
    "* Denna [Jupyter Notebook](https://github.com/salgo60/open-data-examples/blob/master/Svenskt%20Kvinnobiografiskt%20lexikon.ipynb) \n",
    "  * [del 2](https://github.com/salgo60/open-data-examples/blob/master/Svenskt%20Kvinnobiografiskt%20lexikon%20part%202.ipynb) med sökfrågor etc.\n",
    "  * [del 3](https://github.com/salgo60/open-data-examples/blob/master/Svenskt%20Kvinnobiografiskt%20lexikon%20part%203.ipynb) jmf SBL och SKBL och även SKBL <-> Wikidata\n",
    "* Video om detta [svenska](https://www.youtube.com/watch?v=_LP48Yf6vgI) / [engelska](https://www.youtube.com/watch?v=wolyLu0WVsA)  \n",
    "* Wikidata - [An introduction to Wikidata](https://www.youtube.com/watch?v=m_9_23jXPoE)\n",
    "  * SKBL WIkidata property [P4963](https://www.wikidata.org/wiki/Property_talk:P4963) \n",
    "  "
   ]
  },
  {
   "cell_type": "markdown",
   "metadata": {},
   "source": [
    "# Check diff SKBL Wikidata \n",
    "ett försök att hålla Wikidata / SKBL i fas \n",
    "* [KARP APIet](https://spraakbanken.gu.se/verktyg/karp/webb-api)\n",
    "* se tidigare försök att ha ISNI i synk [T219700](https://phabricator.wikimedia.org/T219700), GITHUB [salgo60/SKBLWikidata](https://github.com/salgo60/SKBLWikidata) \n",
    "  * mar 2019 kommentar om [platser i SKBL](https://phabricator.wikimedia.org/T218782)  \n",
    "  \n",
    "Viss osäkerhet hur en bra API fråga skall se ut returnerar alla personer i SKBL"
   ]
  },
  {
   "cell_type": "code",
   "execution_count": 1,
   "metadata": {},
   "outputs": [],
   "source": [
    "from datetime import datetime\n",
    "print(\"Last run: \", datetime.now())\n"
   ]
  },
  {
   "cell_type": "code",
   "execution_count": 2,
   "metadata": {},
   "outputs": [
    {
     "name": "stdout",
     "output_type": "stream",
     "text": [
      "1840  antal poster\n"
     ]
    }
   ],
   "source": [
    "import urllib3, json\n",
    "import pandas as pd \n",
    "http = urllib3.PoolManager() \n",
    "pd.set_option(\"display.max.columns\", None)\n",
    "pd.set_option('display.max_rows', None)\n",
    "\n",
    "  \n",
    "#Ny bättre URL    \n",
    "url = \"https://ws.spraakbanken.gu.se/ws/karp/v5/query?mode=skbl&q=extended%7C%7Cand%7Cskblstatus%7Cequals%7Cok&size=10000\"\n",
    "r = http.request('GET', url) \n",
    "data = json.loads(r.data.decode('utf-8')) \n",
    "#print(type(data))\n",
    "#print(r.info())  \n",
    "\n",
    "listSKBL = []\n",
    "i = 0 \n",
    "for row in (data[\"hits\"][\"hits\"]):\n",
    "    #print (row[\"_source\"][\"url\"])\n",
    "    new_item = dict()\n",
    "    new_item['skblid'] = row[\"_source\"][\"url\"]\n",
    "   \n",
    "    try:\n",
    "        publishedDate = row[\"_source\"]['publication_date']        \n",
    "    except:\n",
    "        publishedDate =\"\"\n",
    "    new_item['publishedDate'] = publishedDate\n",
    "    try:\n",
    "        article_author_firstname = row[\"_source\"][\"article_author\"][0]['firstname']\n",
    "    except:\n",
    "        article_author_firstname =\"\"\n",
    "    new_item['article_author_firstname'] = article_author_firstname\n",
    "    try:\n",
    "        article_author_lastname = row[\"_source\"][\"article_author\"][0]['lastname']\n",
    "    except:\n",
    "        article_author_lastname =\"\"\n",
    "    new_item['article_author_lastname'] = article_author_lastname\n",
    "    try:\n",
    "        subtitle_sv = row[\"_source\"]['subtitle']\n",
    "    except:\n",
    "        subtitle_sv =\"\"\n",
    "    new_item['subtitle_sv'] = subtitle_sv\n",
    "    try:\n",
    "        name_lastname = row[\"_source\"]['name']['lastname']\n",
    "    except:\n",
    "        name_lastname = \"\"\n",
    "    new_item['name_lastname'] = name_lastname\n",
    "    try:\n",
    "        name_firstname = row[\"_source\"]['name']['firstname']\n",
    "    except:\n",
    "        name_firstname = \"\"\n",
    "    new_item['name_firstname'] = name_firstname\n",
    "    listSKBL.append(new_item)\n",
    "    i = i + 1 \n",
    "    #print (i)\n",
    "print (len(listSKBL) ,\" antal poster\")\n"
   ]
  },
  {
   "cell_type": "code",
   "execution_count": 3,
   "metadata": {},
   "outputs": [],
   "source": [
    "#listSKBL"
   ]
  },
  {
   "cell_type": "code",
   "execution_count": 4,
   "metadata": {},
   "outputs": [],
   "source": [
    "SKBLtot = pd.DataFrame(listSKBL,\n",
    "                  columns=['skblid','publishedDate','article_author_firstname','article_author_lastname',\n",
    "                          'subtitle_sv','name_lastname','name_firstname'])"
   ]
  },
  {
   "cell_type": "code",
   "execution_count": 5,
   "metadata": {},
   "outputs": [
    {
     "name": "stdout",
     "output_type": "stream",
     "text": [
      "<class 'pandas.core.frame.DataFrame'>\n",
      "RangeIndex: 1840 entries, 0 to 1839\n",
      "Data columns (total 7 columns):\n",
      " #   Column                    Non-Null Count  Dtype \n",
      "---  ------                    --------------  ----- \n",
      " 0   skblid                    1840 non-null   object\n",
      " 1   publishedDate             1840 non-null   object\n",
      " 2   article_author_firstname  1840 non-null   object\n",
      " 3   article_author_lastname   1840 non-null   object\n",
      " 4   subtitle_sv               1840 non-null   object\n",
      " 5   name_lastname             1840 non-null   object\n",
      " 6   name_firstname            1840 non-null   object\n",
      "dtypes: object(7)\n",
      "memory usage: 100.8+ KB\n"
     ]
    }
   ],
   "source": [
    "SKBLtot.info()"
   ]
  },
  {
   "cell_type": "code",
   "execution_count": 6,
   "metadata": {},
   "outputs": [],
   "source": [
    "#SKBLtot"
   ]
  },
  {
   "cell_type": "code",
   "execution_count": 7,
   "metadata": {},
   "outputs": [],
   "source": [
    "#SKBLtot.sort_index(inplace=True) \n",
    "SKBLtot.sort_values(['skblid'], ascending=[1],inplace=True) "
   ]
  },
  {
   "cell_type": "markdown",
   "metadata": {},
   "source": [
    "# Wikidata"
   ]
  },
  {
   "cell_type": "code",
   "execution_count": 8,
   "metadata": {},
   "outputs": [
    {
     "name": "stdout",
     "output_type": "stream",
     "text": [
      "<class 'pandas.core.frame.DataFrame'>\n",
      "RangeIndex: 1824 entries, 0 to 1823\n",
      "Data columns (total 1 columns):\n",
      " #   Column  Non-Null Count  Dtype \n",
      "---  ------  --------------  ----- \n",
      " 0   skblid  1824 non-null   object\n",
      "dtypes: object(1)\n",
      "memory usage: 14.4+ KB\n"
     ]
    }
   ],
   "source": [
    "# pip install sparqlwrapper\n",
    "# https://rdflib.github.io/sparqlwrapper/\n",
    "\n",
    "import sys\n",
    "from SPARQLWrapper import SPARQLWrapper, JSON\n",
    "\n",
    "endpoint_url = \"https://query.wikidata.org/sparql\"\n",
    "\n",
    "query = \"\"\"SELECT * WHERE {\n",
    "?item wdt:P31 wd:Q5.\n",
    "?item wdt:P4963 ?skbl\n",
    "} order by ?skbl\"\"\"\n",
    "\n",
    "\n",
    "def get_results(endpoint_url, query):\n",
    "    user_agent = \"User:salgo60/%s.%s\" % (sys.version_info[0], sys.version_info[1])\n",
    "    sparql = SPARQLWrapper(endpoint_url, agent=user_agent)\n",
    "    sparql.setQuery(query)\n",
    "    sparql.setReturnFormat(JSON)\n",
    "    return sparql.query().convert()\n",
    "\n",
    "\n",
    "results = get_results(endpoint_url, query)\n",
    " \n",
    "lst = []\n",
    "for result in results[\"results\"][\"bindings\"]:\n",
    "    lst.append((result[\"skbl\"][\"value\"]))\n",
    "WDtot = pd.DataFrame(lst,columns={'skblid'}) \n",
    "WDtot.info()"
   ]
  },
  {
   "cell_type": "code",
   "execution_count": 9,
   "metadata": {},
   "outputs": [],
   "source": [
    "WDtot.sort_index(inplace=True)  "
   ]
  },
  {
   "cell_type": "code",
   "execution_count": 10,
   "metadata": {},
   "outputs": [
    {
     "name": "stdout",
     "output_type": "stream",
     "text": [
      "<class 'pandas.core.frame.DataFrame'>\n",
      "RangeIndex: 1824 entries, 0 to 1823\n",
      "Data columns (total 1 columns):\n",
      " #   Column  Non-Null Count  Dtype \n",
      "---  ------  --------------  ----- \n",
      " 0   skblid  1824 non-null   object\n",
      "dtypes: object(1)\n",
      "memory usage: 14.4+ KB\n"
     ]
    }
   ],
   "source": [
    "WDtot.info()"
   ]
  },
  {
   "cell_type": "code",
   "execution_count": 11,
   "metadata": {},
   "outputs": [],
   "source": [
    "#WDtot"
   ]
  },
  {
   "cell_type": "markdown",
   "metadata": {},
   "source": [
    "### Check duplicates SKBL and Wikidata"
   ]
  },
  {
   "cell_type": "code",
   "execution_count": 12,
   "metadata": {},
   "outputs": [],
   "source": [
    "dfmerge = pd.merge(WDtot, SKBLtot,how='outer', indicator=True)"
   ]
  },
  {
   "cell_type": "code",
   "execution_count": 13,
   "metadata": {},
   "outputs": [
    {
     "data": {
      "text/plain": [
       "both          1824\n",
       "right_only      16\n",
       "left_only        0\n",
       "Name: _merge, dtype: int64"
      ]
     },
     "execution_count": 13,
     "metadata": {},
     "output_type": "execute_result"
    }
   ],
   "source": [
    "# check whatsnew / deleted  \n",
    "dfmerge['_merge'].value_counts()"
   ]
  },
  {
   "cell_type": "code",
   "execution_count": 14,
   "metadata": {},
   "outputs": [],
   "source": [
    "#dfmerge"
   ]
  },
  {
   "cell_type": "code",
   "execution_count": 15,
   "metadata": {},
   "outputs": [],
   "source": [
    "SKBLnew = dfmerge[dfmerge['_merge']==\"right_only\"]\n"
   ]
  },
  {
   "cell_type": "code",
   "execution_count": 16,
   "metadata": {},
   "outputs": [
    {
     "data": {
      "text/html": [
       "<div>\n",
       "<style scoped>\n",
       "    .dataframe tbody tr th:only-of-type {\n",
       "        vertical-align: middle;\n",
       "    }\n",
       "\n",
       "    .dataframe tbody tr th {\n",
       "        vertical-align: top;\n",
       "    }\n",
       "\n",
       "    .dataframe thead th {\n",
       "        text-align: right;\n",
       "    }\n",
       "</style>\n",
       "<table border=\"1\" class=\"dataframe\">\n",
       "  <thead>\n",
       "    <tr style=\"text-align: right;\">\n",
       "      <th></th>\n",
       "      <th>skblid</th>\n",
       "      <th>publishedDate</th>\n",
       "      <th>article_author_firstname</th>\n",
       "      <th>article_author_lastname</th>\n",
       "      <th>subtitle_sv</th>\n",
       "      <th>name_lastname</th>\n",
       "      <th>name_firstname</th>\n",
       "      <th>_merge</th>\n",
       "    </tr>\n",
       "  </thead>\n",
       "  <tbody>\n",
       "    <tr>\n",
       "      <th>1824</th>\n",
       "      <td>AmyReginaNitaHarleman</td>\n",
       "      <td>2021-01-31</td>\n",
       "      <td>Fredrik</td>\n",
       "      <td>Tersmeden</td>\n",
       "      <td>Skådespelare, revyartist, sufflör</td>\n",
       "      <td>Hårleman</td>\n",
       "      <td>Amy Regina (/Nita/)</td>\n",
       "      <td>right_only</td>\n",
       "    </tr>\n",
       "    <tr>\n",
       "      <th>1825</th>\n",
       "      <td>BirgitSunesson</td>\n",
       "      <td>2021-01-31</td>\n",
       "      <td>Birgitta</td>\n",
       "      <td>Ney</td>\n",
       "      <td>Journalist, författare</td>\n",
       "      <td>Sunesson</td>\n",
       "      <td>/Birgit/ Sofia</td>\n",
       "      <td>right_only</td>\n",
       "    </tr>\n",
       "    <tr>\n",
       "      <th>1826</th>\n",
       "      <td>ElsaSofiaHammarMoeschlin</td>\n",
       "      <td>2021-02-02</td>\n",
       "      <td>Christian</td>\n",
       "      <td>Mehrstam</td>\n",
       "      <td>Konstnär, författare</td>\n",
       "      <td>Hammar-Moeschlin</td>\n",
       "      <td>/Elsa/ Sofia</td>\n",
       "      <td>right_only</td>\n",
       "    </tr>\n",
       "    <tr>\n",
       "      <th>1827</th>\n",
       "      <td>ElsaSvartengren</td>\n",
       "      <td>2021-01-31</td>\n",
       "      <td>Birgitta</td>\n",
       "      <td>Wistrand</td>\n",
       "      <td>Politisk journalist, feminist</td>\n",
       "      <td>Svartengren</td>\n",
       "      <td>/Elsa/ Maria</td>\n",
       "      <td>right_only</td>\n",
       "    </tr>\n",
       "    <tr>\n",
       "      <th>1828</th>\n",
       "      <td>EmmaAmaliaZorn</td>\n",
       "      <td>2021-02-02</td>\n",
       "      <td>Birgitta</td>\n",
       "      <td>Sandström</td>\n",
       "      <td>Filantrop, donator, museigrundare</td>\n",
       "      <td>Zorn</td>\n",
       "      <td>/Emma/ Amalia</td>\n",
       "      <td>right_only</td>\n",
       "    </tr>\n",
       "    <tr>\n",
       "      <th>1829</th>\n",
       "      <td>ErnaMarianneEriksson</td>\n",
       "      <td>2021-01-31</td>\n",
       "      <td>Caroline</td>\n",
       "      <td>Bergström</td>\n",
       "      <td>Redaktör, förlagschef</td>\n",
       "      <td>Eriksson</td>\n",
       "      <td>Erna /Marianne/</td>\n",
       "      <td>right_only</td>\n",
       "    </tr>\n",
       "    <tr>\n",
       "      <th>1830</th>\n",
       "      <td>GerdaMargaretaRenberg</td>\n",
       "      <td>2021-01-31</td>\n",
       "      <td>Birgitta</td>\n",
       "      <td>Flensburg</td>\n",
       "      <td>Konstnär, poet</td>\n",
       "      <td>Renberg</td>\n",
       "      <td>Gerda /Margareta/</td>\n",
       "      <td>right_only</td>\n",
       "    </tr>\n",
       "    <tr>\n",
       "      <th>1831</th>\n",
       "      <td>HedvigAmaliaPosse</td>\n",
       "      <td>2021-02-02</td>\n",
       "      <td>Kristina</td>\n",
       "      <td>Helgesson Kjellin</td>\n",
       "      <td>Missionär, sjukhusgrundare, psalmförfattare</td>\n",
       "      <td>Posse</td>\n",
       "      <td>/Hedvig/ Amalia</td>\n",
       "      <td>right_only</td>\n",
       "    </tr>\n",
       "    <tr>\n",
       "      <th>1832</th>\n",
       "      <td>HildegardDinclau</td>\n",
       "      <td>2021-02-01</td>\n",
       "      <td>Johanna</td>\n",
       "      <td>Rosenqvist</td>\n",
       "      <td>Textilkonstnär, lärare</td>\n",
       "      <td>Dinclau</td>\n",
       "      <td>/Hildegard/ Maria</td>\n",
       "      <td>right_only</td>\n",
       "    </tr>\n",
       "    <tr>\n",
       "      <th>1833</th>\n",
       "      <td>IngaStinaGill</td>\n",
       "      <td>2021-02-01</td>\n",
       "      <td>Jennifer</td>\n",
       "      <td>Vintkvist</td>\n",
       "      <td>Skådespelare, dansare</td>\n",
       "      <td>Gill</td>\n",
       "      <td>/Inga/ Stina</td>\n",
       "      <td>right_only</td>\n",
       "    </tr>\n",
       "    <tr>\n",
       "      <th>1834</th>\n",
       "      <td>LeaWikstrom</td>\n",
       "      <td>2021-01-31</td>\n",
       "      <td>Robert</td>\n",
       "      <td>Pohjanen</td>\n",
       "      <td>Fotograf</td>\n",
       "      <td>Wikström</td>\n",
       "      <td>/Lea/ Maria Adina</td>\n",
       "      <td>right_only</td>\n",
       "    </tr>\n",
       "    <tr>\n",
       "      <th>1835</th>\n",
       "      <td>MajaFjstad</td>\n",
       "      <td>2021-01-31</td>\n",
       "      <td>Patrik</td>\n",
       "      <td>Steorn</td>\n",
       "      <td>Textilkonstnär, träsnidare</td>\n",
       "      <td>Fjæstad</td>\n",
       "      <td>Kerstin Maria (/Maja/)</td>\n",
       "      <td>right_only</td>\n",
       "    </tr>\n",
       "    <tr>\n",
       "      <th>1836</th>\n",
       "      <td>SolveigHedengran</td>\n",
       "      <td>2021-02-02</td>\n",
       "      <td>Jennifer</td>\n",
       "      <td>Vintkvist</td>\n",
       "      <td>Skådespelare, filmstjärna</td>\n",
       "      <td>Hedengran</td>\n",
       "      <td>/Solveig/</td>\n",
       "      <td>right_only</td>\n",
       "    </tr>\n",
       "    <tr>\n",
       "      <th>1837</th>\n",
       "      <td>SonjaLyttkens</td>\n",
       "      <td>2021-02-01</td>\n",
       "      <td>Sten</td>\n",
       "      <td>Kaijser</td>\n",
       "      <td>Matematiker, konstnär, kvinnosakskvinna</td>\n",
       "      <td>Lyttkens</td>\n",
       "      <td>/Sonja/ Marie Louise</td>\n",
       "      <td>right_only</td>\n",
       "    </tr>\n",
       "    <tr>\n",
       "      <th>1838</th>\n",
       "      <td>ThyraBratt</td>\n",
       "      <td>2021-02-01</td>\n",
       "      <td>Birgitta</td>\n",
       "      <td>Wistrand</td>\n",
       "      <td>Politiker, kvinnosakskvinna</td>\n",
       "      <td>Bratt</td>\n",
       "      <td>/Thyra/ Augusta Elisabeth</td>\n",
       "      <td>right_only</td>\n",
       "    </tr>\n",
       "    <tr>\n",
       "      <th>1839</th>\n",
       "      <td>YrsaStenius</td>\n",
       "      <td>2021-01-31</td>\n",
       "      <td>Birgitta</td>\n",
       "      <td>Wistrand</td>\n",
       "      <td>Journalist, författare, chefredaktör</td>\n",
       "      <td>Stenius</td>\n",
       "      <td>/Yrsa/ Carola</td>\n",
       "      <td>right_only</td>\n",
       "    </tr>\n",
       "  </tbody>\n",
       "</table>\n",
       "</div>"
      ],
      "text/plain": [
       "                        skblid publishedDate article_author_firstname  \\\n",
       "1824     AmyReginaNitaHarleman    2021-01-31                  Fredrik   \n",
       "1825            BirgitSunesson    2021-01-31                 Birgitta   \n",
       "1826  ElsaSofiaHammarMoeschlin    2021-02-02                Christian   \n",
       "1827           ElsaSvartengren    2021-01-31                 Birgitta   \n",
       "1828            EmmaAmaliaZorn    2021-02-02                 Birgitta   \n",
       "1829      ErnaMarianneEriksson    2021-01-31                 Caroline   \n",
       "1830     GerdaMargaretaRenberg    2021-01-31                 Birgitta   \n",
       "1831         HedvigAmaliaPosse    2021-02-02                 Kristina   \n",
       "1832          HildegardDinclau    2021-02-01                  Johanna   \n",
       "1833             IngaStinaGill    2021-02-01                 Jennifer   \n",
       "1834               LeaWikstrom    2021-01-31                   Robert   \n",
       "1835                MajaFjstad    2021-01-31                   Patrik   \n",
       "1836          SolveigHedengran    2021-02-02                 Jennifer   \n",
       "1837             SonjaLyttkens    2021-02-01                     Sten   \n",
       "1838                ThyraBratt    2021-02-01                 Birgitta   \n",
       "1839               YrsaStenius    2021-01-31                 Birgitta   \n",
       "\n",
       "     article_author_lastname                                  subtitle_sv  \\\n",
       "1824               Tersmeden            Skådespelare, revyartist, sufflör   \n",
       "1825                     Ney                       Journalist, författare   \n",
       "1826                Mehrstam                         Konstnär, författare   \n",
       "1827                Wistrand                Politisk journalist, feminist   \n",
       "1828               Sandström            Filantrop, donator, museigrundare   \n",
       "1829               Bergström                        Redaktör, förlagschef   \n",
       "1830               Flensburg                               Konstnär, poet   \n",
       "1831       Helgesson Kjellin  Missionär, sjukhusgrundare, psalmförfattare   \n",
       "1832              Rosenqvist                       Textilkonstnär, lärare   \n",
       "1833               Vintkvist                        Skådespelare, dansare   \n",
       "1834                Pohjanen                                     Fotograf   \n",
       "1835                  Steorn                   Textilkonstnär, träsnidare   \n",
       "1836               Vintkvist                    Skådespelare, filmstjärna   \n",
       "1837                 Kaijser      Matematiker, konstnär, kvinnosakskvinna   \n",
       "1838                Wistrand                  Politiker, kvinnosakskvinna   \n",
       "1839                Wistrand         Journalist, författare, chefredaktör   \n",
       "\n",
       "         name_lastname             name_firstname      _merge  \n",
       "1824          Hårleman        Amy Regina (/Nita/)  right_only  \n",
       "1825          Sunesson             /Birgit/ Sofia  right_only  \n",
       "1826  Hammar-Moeschlin               /Elsa/ Sofia  right_only  \n",
       "1827       Svartengren               /Elsa/ Maria  right_only  \n",
       "1828              Zorn              /Emma/ Amalia  right_only  \n",
       "1829          Eriksson            Erna /Marianne/  right_only  \n",
       "1830           Renberg          Gerda /Margareta/  right_only  \n",
       "1831             Posse            /Hedvig/ Amalia  right_only  \n",
       "1832           Dinclau          /Hildegard/ Maria  right_only  \n",
       "1833              Gill               /Inga/ Stina  right_only  \n",
       "1834          Wikström          /Lea/ Maria Adina  right_only  \n",
       "1835           Fjæstad     Kerstin Maria (/Maja/)  right_only  \n",
       "1836         Hedengran                  /Solveig/  right_only  \n",
       "1837          Lyttkens       /Sonja/ Marie Louise  right_only  \n",
       "1838             Bratt  /Thyra/ Augusta Elisabeth  right_only  \n",
       "1839           Stenius              /Yrsa/ Carola  right_only  "
      ]
     },
     "execution_count": 16,
     "metadata": {},
     "output_type": "execute_result"
    }
   ],
   "source": [
    "SKBLnew"
   ]
  },
  {
   "cell_type": "code",
   "execution_count": 17,
   "metadata": {},
   "outputs": [
    {
     "name": "stdout",
     "output_type": "stream",
     "text": [
      "<class 'pandas.core.frame.DataFrame'>\n",
      "Int64Index: 16 entries, 1824 to 1839\n",
      "Data columns (total 8 columns):\n",
      " #   Column                    Non-Null Count  Dtype   \n",
      "---  ------                    --------------  -----   \n",
      " 0   skblid                    16 non-null     object  \n",
      " 1   publishedDate             16 non-null     object  \n",
      " 2   article_author_firstname  16 non-null     object  \n",
      " 3   article_author_lastname   16 non-null     object  \n",
      " 4   subtitle_sv               16 non-null     object  \n",
      " 5   name_lastname             16 non-null     object  \n",
      " 6   name_firstname            16 non-null     object  \n",
      " 7   _merge                    16 non-null     category\n",
      "dtypes: category(1), object(7)\n",
      "memory usage: 1.1+ KB\n"
     ]
    }
   ],
   "source": [
    "SKBLnew.info()"
   ]
  },
  {
   "cell_type": "code",
   "execution_count": 18,
   "metadata": {},
   "outputs": [
    {
     "name": "stdout",
     "output_type": "stream",
     "text": [
      "16  antal poster\n"
     ]
    }
   ],
   "source": [
    "import csv  \n",
    "jsonURL = \"https://skbl.se/sv/artikel/\"\n",
    "listNewItems =[]\n",
    "for index,row in SKBLnew.iterrows():\n",
    "    url = jsonURL + row[\"skblid\"] + \".json\"\n",
    "    r = http.request('GET', url) \n",
    "    data = json.loads(r.data.decode('utf-8'))  \n",
    "    \n",
    "    new_item = dict()\n",
    "    try:\n",
    "        publishedDate = data['publication_date'],        \n",
    "    except:\n",
    "        publishedDate =\"\"\n",
    "    new_item['publishedDate'] = publishedDate[0]\n",
    "    try:\n",
    "        birthdate = data['lifespan']['from']['date']['date'],\n",
    "    except:\n",
    "        birtdate =\"\"\n",
    "    new_item['birthdate'] = birthdate[0]\n",
    "    try:\n",
    "        deathdate = data['lifespan']['to']['date']['date']\n",
    "    except:\n",
    "        deathdate=\"\"\n",
    "    new_item['deathdate'] = deathdate\n",
    "    try:\n",
    "        birthparish = data['lifespan']['from']['place']['parish']\n",
    "    except:\n",
    "        birthparish = \"\"        \n",
    "    new_item['birthparish'] = birthparish\n",
    "    try:\n",
    "        deathparish = data['lifespan']['to']['place']['parish']\n",
    "    except:\n",
    "        deathparish = \"\"\n",
    "    new_item['deathparish'] = deathparish\n",
    "    try:\n",
    "        ISNI = data['id']['id']\n",
    "    except:\n",
    "        ISNI = \"\"\n",
    "    new_item['ISNI'] = ISNI\n",
    "    new_item['SKBL'] = row[\"skblid\"]\n",
    "    new_item['index'] = index\n",
    "    new_item['skbl_status'] = data['skbl_status']\n",
    "    new_item['firstname'] = data['name'].get('firstname')\n",
    "    new_item['lastname'] = data['name'].get('lastname')\n",
    "    new_item['subtitle'] = data['subtitle']\n",
    "    listNewItems.append(new_item)\n",
    "print (len(listNewItems) ,\" antal poster\")\n",
    "if len(listNewItems) > 0:\n",
    "    keys = listNewItems[0].keys()\n",
    "    with open(\"SKBL_newfile.csv\", \"w\", newline='') as SKBLfile:\n",
    "        dict_writer = csv.DictWriter(SKBLfile, keys)\n",
    "        dict_writer.writeheader()\n",
    "        dict_writer.writerows(listNewItems)\n",
    "\n",
    "    dfSKBLcsv = pd.read_csv(\"SKBL_newfile.csv\", sep=\",\")   \n",
    "    dfSKBLcsv\n",
    "else:\n",
    "    print (\"Ingen fil skapas inga nya poster\") \n",
    "            \n"
   ]
  },
  {
   "cell_type": "code",
   "execution_count": 19,
   "metadata": {},
   "outputs": [
    {
     "name": "stdout",
     "output_type": "stream",
     "text": [
      "Ended:  2021-02-02 18:29:29.365415\n"
     ]
    }
   ],
   "source": [
    "end = datetime.now()\n",
    "print(\"Ended: \", end)"
   ]
  },
  {
   "cell_type": "code",
   "execution_count": null,
   "metadata": {},
   "outputs": [],
   "source": []
  }
 ],
 "metadata": {
  "kernelspec": {
   "display_name": "Python 3",
   "language": "python",
   "name": "python3"
  },
  "language_info": {
   "codemirror_mode": {
    "name": "ipython",
    "version": 3
   },
   "file_extension": ".py",
   "mimetype": "text/x-python",
   "name": "python",
   "nbconvert_exporter": "python",
   "pygments_lexer": "ipython3",
   "version": "3.8.0"
  }
 },
 "nbformat": 4,
 "nbformat_minor": 4
}
