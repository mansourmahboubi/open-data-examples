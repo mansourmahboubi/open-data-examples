{
 "cells": [
  {
   "cell_type": "markdown",
   "metadata": {},
   "source": [
    "# Svenskt Kvinnobiografiskt lexikon \n",
    "version 1.3.2\n",
    "\n",
    "* Denna [Jupityr Notebook](https://github.com/salgo60/open-data-examples/blob/master/Svenskt%20Kvinnobiografiskt%20lexikon.ipynb) \n",
    "* Wikidataproperty [P4963](https://www.wikidata.org/wiki/Property_talk:P4963) \n",
    "  * Wikidata ung. 1200 kopplingar SKBL 7/04/2020\n",
    "* SKBL databas [KARP](https://ws.spraakbanken.gu.se/ws/karp)\n",
    "  * 1495 poster 7/04/2020\n",
    "  * 1512 poster 16/08/2020\n",
    "  \n",
    "### TODO\n",
    "* prata ihop oss med SKBL hur vi kan enklare använda varandras data\n",
    "  * församlingar skrivs idag ut i text i JSON filen med koordinat vore tydligare om ni hade ett Qnummer med exempel\n",
    "    * Borrby församling visas idag med text och \n",
    "    place: { parish: \"Borrby församling\", pin: { lat: 55.456944, lon: 14.180278 }.....\n",
    "    * vore tydligare om ni hade med\n",
    "        * Wikipedia namnet \n",
    "        * Wikipedia Q numret\n",
    "        * se [video](https://www.youtube.com/watch?v=qwVL0OOEdkY)\n",
    "  * namnet blir idag lite grötigt med \"/vera/\" skapa hellre nya fält\n",
    "  * kontakter anges idag som textsträngar bättre med samma som ISNI, Wikidata Qnummer eller annat så vi kan enklare vara säkra på rätt person\n",
    "  \n",
    "## Statistik\n",
    "* idag länkar sv:Wikipedia se [video](https://www.youtube.com/watch?v=qwVL0OOEdkY)\n",
    "  * med mall SKBL --> 358 artiklar --> 2019 antal visningar > [700 000](https://pageviews.toolforge.org/massviews/?platform=all-access&agent=user&source=category&range=this-year&subjectpage=0&subcategories=0&sort=views&direction=1&view=list&target=https://sv.wikipedia.org/wiki/Kategori:SKBL)\n",
    "  * med mall Auktioritetsdata --> 1166 artiklar --> 2019 antal visningar > [3,3 miljoner](https://pageviews.toolforge.org/massviews/?platform=all-access&agent=user&source=category&range=this-year&subjectpage=0&subcategories=0&sort=views&direction=1&view=list&target=https://sv.wikipedia.org/wiki/Kategori:Wikipediaartiklar_med_identifierare_fr%25C3%25A5n_SKBL)\n",
    "  * vi borde kunna lyfta detta vidare och ha samma som för orter/församlingar/organisationer/skolor\n",
    "  \n",
    "### sv:Wikipedia     \n",
    "* SKBL artiklar som [saknar motsvarande artikel på sv:Wikipedia](https://w.wiki/Zui) \n",
    "* SKBL artiklar som [saknar Auktoritetsdatamallen](https://petscan.wmflabs.org/?psid=17130486)\n",
    "\n",
    "### en:Wikipedia    \n",
    "en:WIkipedia är en av världens 10 största siter så SKBLs engelska artiklar borde försöka länkas därifrån se [länk visningar](https://stats.wikimedia.org/v2/#/en.wikipedia.org)\n",
    "* SKBL kopplade poster som [har en:Wikipedia artikel](https://w.wiki/Zur) = 534 stycken \n",
    "  * som [saknar en:Wikipedia artikel](https://w.wiki/Zup)\n",
    "* borde tas fram en [SKBL mall](https://sv.wikipedia.org/wiki/Mall:SKBL) på engelsk Wikipedia som pekar på SKBLs engelska artikel\n",
    "* borde försöka få med SKBL i en:Wikipedia motsvarighet till Auktoritetsdata [Template:Authority_control](https://en.wikipedia.org/wiki/Template:Authority_control)\n",
    "\n",
    "### ru:Wikipedia\n",
    "video om hur [Wikipedia och olika språkversioner fungerar](https://youtu.be/GzJfXsdmfeU)\n",
    "ryska WIkipedia har varit rel enkla att lyfta in Wikidata egenskaper dom har idag [länk visningar](https://stats.wikimedia.org/v2/#/ru.wikipedia.org) 806 M visningar per månad så det kan vara en utmaning\n",
    "* SKBL kopplade poster som [har ru:Wikipedia artikel](https://w.wiki/Zus) = 568 stycken samma men med [länk ru artikeln](https://w.wiki/Zuz)\n",
    "  * som [saknar ru:Wikipedia artikel](https://w.wiki/Zup)\n",
    "* Auktoritetsdata på ru:Wikipedia [Шаблон:Внешние ссылки](https://ru.wikipedia.org/wiki/%D0%A8%D0%B0%D0%B1%D0%BB%D0%BE%D0%BD:%D0%92%D0%BD%D0%B5%D1%88%D0%BD%D0%B8%D0%B5_%D1%81%D1%81%D1%8B%D0%BB%D0%BA%D0%B8)\n"
   ]
  },
  {
   "cell_type": "code",
   "execution_count": 231,
   "metadata": {},
   "outputs": [],
   "source": [
    "import urllib3, json\n",
    "import pandas as pd \n",
    "http = urllib3.PoolManager() \n",
    "pd.set_option(\"display.max.columns\", None)\n",
    "pd.set_option('display.max_rows', None)\n",
    "\n",
    "dftot = pd.DataFrame()\n",
    " \n",
    "url = \"https://ws.spraakbanken.gu.se/ws/karp/v5/minientry?q=extended%7C%7Cand%7Cnamn%7Cexists&mode=skbllinks&show=name%2Curl&sort=sorteringsnamn.sort%2Csorteringsnamn.init%2Ctilltalsnamn.sort&size=10000&resource=skbl\"\n",
    "r = http.request('GET', url) \n",
    "data = json.loads(r.data.decode('utf-8')) \n",
    "#print(type(data))\n",
    "#print(r.info())\n",
    "listSKBL = []\n",
    "for row in (data[\"hits\"][\"hits\"]):\n",
    "    #print (row[\"_source\"][\"url\"])\n",
    "    listSKBL.append(row[\"_source\"][\"url\"])\n",
    "#dftot = pd.DataFrame(listSKBL)\n",
    "SKBLtot = pd.DataFrame(listSKBL,\n",
    "                  columns=['skblid'])\n"
   ]
  },
  {
   "cell_type": "code",
   "execution_count": 232,
   "metadata": {},
   "outputs": [
    {
     "name": "stdout",
     "output_type": "stream",
     "text": [
      "<class 'pandas.core.frame.DataFrame'>\n",
      "RangeIndex: 1513 entries, 0 to 1512\n",
      "Data columns (total 1 columns):\n",
      "skblid    1513 non-null object\n",
      "dtypes: object(1)\n",
      "memory usage: 11.9+ KB\n"
     ]
    }
   ],
   "source": [
    "SKBLtot.info()"
   ]
  },
  {
   "cell_type": "markdown",
   "metadata": {},
   "source": [
    "# Wikidata"
   ]
  },
  {
   "cell_type": "code",
   "execution_count": 233,
   "metadata": {},
   "outputs": [
    {
     "name": "stdout",
     "output_type": "stream",
     "text": [
      "<class 'pandas.core.frame.DataFrame'>\n",
      "RangeIndex: 1263 entries, 0 to 1262\n",
      "Data columns (total 1 columns):\n",
      "skblid    1263 non-null object\n",
      "dtypes: object(1)\n",
      "memory usage: 10.0+ KB\n"
     ]
    }
   ],
   "source": [
    "# pip install sparqlwrapper\n",
    "# https://rdflib.github.io/sparqlwrapper/\n",
    "\n",
    "import sys\n",
    "from SPARQLWrapper import SPARQLWrapper, JSON\n",
    "\n",
    "endpoint_url = \"https://query.wikidata.org/sparql\"\n",
    "\n",
    "query = \"\"\"SELECT * WHERE {\n",
    "?item wdt:P31 wd:Q5.\n",
    "?item wdt:P4963 ?skbl\n",
    "} order by ?skbl\"\"\"\n",
    "\n",
    "\n",
    "def get_results(endpoint_url, query):\n",
    "    user_agent = \"User:salgo60/%s.%s\" % (sys.version_info[0], sys.version_info[1])\n",
    "    sparql = SPARQLWrapper(endpoint_url, agent=user_agent)\n",
    "    sparql.setQuery(query)\n",
    "    sparql.setReturnFormat(JSON)\n",
    "    return sparql.query().convert()\n",
    "\n",
    "\n",
    "results = get_results(endpoint_url, query)\n",
    " \n",
    "lst = []\n",
    "for result in results[\"results\"][\"bindings\"]:\n",
    "    lst.append((result[\"skbl\"][\"value\"]))\n",
    "WDtot = pd.DataFrame(lst,columns={'skblid'}) \n",
    "WDtot.info()"
   ]
  },
  {
   "cell_type": "code",
   "execution_count": 234,
   "metadata": {},
   "outputs": [],
   "source": [
    "WDtot.sort_index(inplace=True)  "
   ]
  },
  {
   "cell_type": "code",
   "execution_count": 235,
   "metadata": {},
   "outputs": [
    {
     "name": "stdout",
     "output_type": "stream",
     "text": [
      "<class 'pandas.core.frame.DataFrame'>\n",
      "RangeIndex: 1263 entries, 0 to 1262\n",
      "Data columns (total 1 columns):\n",
      "skblid    1263 non-null object\n",
      "dtypes: object(1)\n",
      "memory usage: 10.0+ KB\n"
     ]
    }
   ],
   "source": [
    "WDtot.info()"
   ]
  },
  {
   "cell_type": "code",
   "execution_count": 236,
   "metadata": {},
   "outputs": [
    {
     "name": "stdout",
     "output_type": "stream",
     "text": [
      "<class 'pandas.core.frame.DataFrame'>\n",
      "Int64Index: 1384 entries, 0 to 1512\n",
      "Data columns (total 1 columns):\n",
      "skblid    1384 non-null object\n",
      "dtypes: object(1)\n",
      "memory usage: 21.6+ KB\n"
     ]
    }
   ],
   "source": [
    "SKBLtot.drop_duplicates(subset =\"skblid\", keep = False, inplace = True)\n",
    "SKBLtot.info() "
   ]
  },
  {
   "cell_type": "code",
   "execution_count": 237,
   "metadata": {},
   "outputs": [],
   "source": [
    "dfmerge = pd.merge(WDtot, SKBLtot,how='outer', indicator=True)"
   ]
  },
  {
   "cell_type": "code",
   "execution_count": 238,
   "metadata": {},
   "outputs": [
    {
     "data": {
      "text/plain": [
       "both          1202\n",
       "right_only     182\n",
       "left_only       61\n",
       "Name: _merge, dtype: int64"
      ]
     },
     "execution_count": 238,
     "metadata": {},
     "output_type": "execute_result"
    }
   ],
   "source": [
    "# check whatsnew / deleted  \n",
    "dfmerge['_merge'].value_counts()"
   ]
  },
  {
   "cell_type": "markdown",
   "metadata": {},
   "source": [
    "## Create OpenRefine file for rights_only\n",
    "firstname lastname Name , birth death "
   ]
  },
  {
   "cell_type": "code",
   "execution_count": 239,
   "metadata": {},
   "outputs": [],
   "source": [
    "SKBLnew = dfmerge[dfmerge['_merge']==\"right_only\"]\n"
   ]
  },
  {
   "cell_type": "code",
   "execution_count": 240,
   "metadata": {},
   "outputs": [
    {
     "data": {
      "text/plain": [
       "Index(['skblid', '_merge'], dtype='object')"
      ]
     },
     "execution_count": 240,
     "metadata": {},
     "output_type": "execute_result"
    }
   ],
   "source": [
    "SKBLnew.columns"
   ]
  },
  {
   "cell_type": "code",
   "execution_count": 241,
   "metadata": {},
   "outputs": [
    {
     "name": "stdout",
     "output_type": "stream",
     "text": [
      "<class 'pandas.core.frame.DataFrame'>\n",
      "Int64Index: 182 entries, 1263 to 1444\n",
      "Data columns (total 2 columns):\n",
      "skblid    182 non-null object\n",
      "_merge    182 non-null category\n",
      "dtypes: category(1), object(1)\n",
      "memory usage: 3.1+ KB\n"
     ]
    }
   ],
   "source": [
    "SKBLnew.info()"
   ]
  },
  {
   "cell_type": "code",
   "execution_count": 242,
   "metadata": {},
   "outputs": [],
   "source": [
    "import csv  \n",
    "jsonURL = \"https://skbl.se/sv/artikel/\"\n",
    "listNewItems =[]\n",
    "for index,row in SKBLnew.iterrows():\n",
    "    url = jsonURL + row[\"skblid\"] + \".json\"\n",
    "    r = http.request('GET', url) \n",
    "    data = json.loads(r.data.decode('utf-8'))  \n",
    "    \n",
    "    new_item = dict()\n",
    "    try:\n",
    "        birthdate = data['lifespan']['from']['date']['date'],\n",
    "    except:\n",
    "        birtdate =\"\"\n",
    "    new_item['birthdate'] = birthdate\n",
    "    try:\n",
    "        deathdate = data['lifespan']['to']['date']['date']\n",
    "    except:\n",
    "        deathdate=\"\"\n",
    "    new_item['deathdate'] = deathdate\n",
    "    try:\n",
    "        birthparish = data['lifespan']['from']['place']['parish']\n",
    "    except:\n",
    "        birthparish = \"\"        \n",
    "    new_item['birthparish'] = birthparish\n",
    "    try:\n",
    "        deathparish = data['lifespan']['to']['place']['parish']\n",
    "    except:\n",
    "        deathparish = \"\"\n",
    "    new_item['deathparish'] = deathparish\n",
    "    try:\n",
    "        ISNI = data['id']['id']\n",
    "    except:\n",
    "        ISNI = \"\"\n",
    "    new_item['ISNI'] = ISNI\n",
    "    new_item['SKBL'] = row[\"skblid\"]\n",
    "    new_item['index'] = index\n",
    "    new_item['skbl_status'] = data['skbl_status']\n",
    "    new_item['firstname'] = data['name'].get('firstname')\n",
    "    new_item['lastname'] = data['name'].get('lastname')\n",
    "    new_item['subtitle'] = data['subtitle']\n",
    "    listNewItems.append(new_item)\n",
    "\n",
    "keys = listNewItems[0].keys()\n",
    "with open(\"SKBL_newfile.csv\", \"w\", newline='') as SKBLfile:\n",
    "    dict_writer = csv.DictWriter(SKBLfile, keys)\n",
    "    dict_writer.writeheader()\n",
    "    dict_writer.writerows(listNewItems)\n",
    "\n",
    "            \n",
    "    "
   ]
  },
  {
   "cell_type": "code",
   "execution_count": null,
   "metadata": {},
   "outputs": [],
   "source": []
  }
 ],
 "metadata": {
  "kernelspec": {
   "display_name": "Python 3",
   "language": "python",
   "name": "python3"
  },
  "language_info": {
   "codemirror_mode": {
    "name": "ipython",
    "version": 3
   },
   "file_extension": ".py",
   "mimetype": "text/x-python",
   "name": "python",
   "nbconvert_exporter": "python",
   "pygments_lexer": "ipython3",
   "version": "3.8.0"
  }
 },
 "nbformat": 4,
 "nbformat_minor": 4
}
