{
 "cells": [
  {
   "cell_type": "markdown",
   "metadata": {},
   "source": [
    "# Svenskt Kvinnobiografiskt lexikon \n",
    "version 1.3.4.27\n",
    "\n",
    "* Denna [Jupityr Notebook](https://github.com/salgo60/open-data-examples/blob/master/Svenskt%20Kvinnobiografiskt%20lexikon.ipynb) \n",
    "* Wikidata property [P4963](https://www.wikidata.org/wiki/Property_talk:P4963) \n",
    "  * Wikidata ung. 1200 kopplingar SKBL 7/04/2020\n",
    "    *  1450 WD <-> SKBL 20/08/2020\n",
    "      * WD items sorterade efter [antal egenskaper i WD](https://w.wiki/aB5) \n",
    "        * sorterade efter [sitelinks](https://w.wiki/a7i)\n",
    "  * Wikidata [1451 SKBL 21/08/2020](https://w.wiki/a4w )\n",
    "    * antal språk WIkipedia har åtminstone [en artikel om en kvinna på SKBL = 144](https://w.wiki/a4z)\n",
    "    * andra externa WD [egenskaper där SKBL finns](https://w.wiki/9wN )\n",
    "    * alla WD [egenskaper där SKBL finns](https://w.wiki/a6i)\n",
    "    * karta SKBL personer födda/döda begravda [som WD vet](https://tinyurl.com/SKBLmap)\n",
    "    * karta begravda [Norra Begravningsplatsen Sthlm](https://tinyurl.com/SKBLgrave)\n",
    "    * platser uppkallade efter en [SKBL person](https://tinyurl.com/y9qv8omv) \n",
    "    * SKBL person som [fyller år idag](https://tinyurl.com/y7u2sjdw) \n",
    "    * deltagit i [Olympiska spel](https://tinyurl.com/ybpnrrgm)  \n",
    "    * finns på [Spotify](https://w.wiki/a6j)  \n",
    "    * finns på [SVT Öppen kanal](https://w.wiki/a6m)  \n",
    "    * motioner skrivna i Riksdagen [av en kvinna på SKBL](https://w.wiki/a6q)\n",
    "      * vilka som skrev motioner [ihop med en person i SKBL](https://w.wiki/a6r) (som WD vet om)\n",
    "      * verktyget Scholia som används för citation graphs men fungerar för riksdagspersoner ex. [scholia.toolforge.org Anna Lind](https://scholia.toolforge.org/author/Q208591)\n",
    "        * hennes [co-author graph](https://w.wiki/a7F) samma men visa [parti](https://w.wiki/a7N)  \n",
    "          * jmf [Karin Andersson](https://w.wiki/a7L)\n",
    "    * målningar med CC-0 som finns i Wikicommon [skapade av SKBL person](https://t.co/8yxATKmoDJ) \n",
    "    * lista med källor från [Kyrkböcker Wikidata har för personer i SKBL](https://w.wiki/a58) \n",
    "    * lista hur [många språk SKBL personerna finns på i Wikipedia](https://tinyurl.com/yaqx9jl2) \n",
    "    * avlidna svenska kvinnor med mest artiklar i Wikipedia [men ej finns hos SKBL](http://tinyurl.com/y6s2wvc2)\n",
    "    * senaste ändringar i [Wikidata för SKBL person](https://tinyurl.com/SKBLc) jmf. [Change Stream WD](https://tools.wmflabs.org/wikidata-todo/rcvis.html)\n",
    "    \n",
    "    ![](https://github.com/salgo60/FactGrid/blob/master/SKBL.png?raw=true)\n",
    "  * Test [Kepler.gl](https://kepler.gl/) se bild ovan, [video](https://youtu.be/kMAwWJpEolw)\n",
    "    * [Test sida SKBL <-> Kepker.gl](https://salgo60.github.io/SKBLWikidata/web/)\n",
    "    * Hur detta skapas se [Jupyter](https://github.com/salgo60/FactGrid/blob/master/SKBL%20-%3E%20Kepler.gl.ipynb) och [datafil](https://github.com/salgo60/SKBLWikidata/blob/master/web/SKBL.geojson) / [raw](https://raw.githubusercontent.com/salgo60/SKBLWikidata/master/web/SKBL.geojson)\n",
    "* SKBL databas [KARP](https://ws.spraakbanken.gu.se/ws/karp) \n",
    "  * 1495 poster 7/04/2020\n",
    "  * 1512 poster 16/08/2020\n",
    "  * 1517 poster 20/08/2020 (är fel pga dålig API fråga)\n",
    "  \n",
    "  Jag nås på 070-5937579 twitter: [salgo60](https://twitter.com/salgo60)\n",
    "  \n",
    "### TODO\n",
    "* bättre API fråga till SKBL behövs så alla returneras skickat fråga GITHUB [issue 22](https://github.com/spraakbanken/skbl-portal/issues/22) om hjälp\n",
    "* prata ihop oss med SKBL hur vi kan enklare använda varandras data \n",
    "  * församlingar skrivs idag ut i text i JSON filen med koordinat vore tydligare om ni hade ett Qnummer med exempel\n",
    "    * Borrby församling visas idag med text och \n",
    "    place: { parish: \"Borrby församling\", pin: { lat: 55.456944, lon: 14.180278 }.....\n",
    "    * vore tydligare om ni hade med\n",
    "        * unikt identifierade metadata som\n",
    "          * sv:Wikipedia [Borrby_församling](https://sv.wikipedia.org/wiki/Borrby_f%C3%B6rsamling)  \n",
    "          * Wikidata [Q10433305](https://www.wikidata.org/wiki/Q10433305?uselang=sv)\n",
    "          * NAD nummer [SE/LLA/13038](https://sok.riksarkivet.se/?postid=ArkisRef%20SE/LLA/13038)\n",
    "        * se [video](https://www.youtube.com/watch?v=qwVL0OOEdkY)\n",
    "  * namnet blir idag lite grötigt med \"/vera/\" skapa hellre nya fält\n",
    "  * kontakter anges idag som textsträngar bättre med samma som ISNI, Wikidata Qnummer eller annat så vi kan enklare vara säkra på rätt person\n",
    "  * författare som exempel Brita Plank ange hennes Qnummer eller hennes ORCID\n",
    "    * --> så kan vi enkelt ange rätt författare i Wikidata \n",
    "      * Brita Planck = [WD Q96205230](https://www.wikidata.org/wiki/Q96205230?uselang=sv) ORCID [0000-0002-1043-7455](https://orcid.org/0000-0002-1043-7455) WD [graf](https://w.wiki/ZxA)\n",
    "      * Lisbeth Larsson [WD Q4961115](https://www.wikidata.org/wiki/Q4961115?uselang=sv) ORCID ''missing'' WD [graf](https://w.wiki/Zv8)\n",
    "      * Marie Sjöberg [WD Q50383736](https://www.wikidata.org/wiki/Q50383736?uselang=sv) ORCID ''missing'' WD [graf](https://w.wiki/Zv7)\n",
    "\n",
    "  \n",
    "## Statistik\n",
    "* idag länkar sv:Wikipedia se [video](https://www.youtube.com/watch?v=qwVL0OOEdkY)\n",
    "  * med mall SKBL --> [573 artiklar](https://sv.wikipedia.org/wiki/Kategori:SKBL) --> 2019 antal visningar > [2 040 000](https://pageviews.toolforge.org/massviews/?platform=all-access&agent=user&source=category&range=this-year&subjectpage=0&subcategories=0&sort=views&direction=1&view=list&target=https://sv.wikipedia.org/wiki/Kategori:SKBL)\n",
    "  * med mall Auktioritetsdata --> [1379 artiklar](https://sv.wikipedia.org/wiki/Kategori:Wikipediaartiklar_med_identifierare_fr%C3%A5n_SKBL) --> 2019 antal visningar > [3,4 miljoner](https://pageviews.toolforge.org/massviews/?platform=all-access&agent=user&source=category&range=this-year&subjectpage=0&subcategories=0&sort=views&direction=1&view=list&target=https://sv.wikipedia.org/wiki/Kategori:Wikipediaartiklar_med_identifierare_fr%25C3%25A5n_SKBL)\n",
    "  * vi borde kunna lyfta detta vidare och ha samma som för orter/församlingar/organisationer/skolor\n",
    "  \n",
    "### sv:Wikipedia     \n",
    "* SKBL kopplade artiklar som [saknar motsvarande artikel på sv:Wikipedia](https://w.wiki/a9P) 70 stycken \n",
    "* SKBL kopplade artiklar som [saknar Auktoritetsdatamallen](https://petscan.wmflabs.org/?psid=17145215)\n",
    "* SKBL kopplade artiklar som [saknar SKBL](https://petscan.wmflabs.org/?psid=17155698)\n",
    "\n",
    "### en:Wikipedia    \n",
    "en:Wikipedia är en av världens 10 största siter så SKBLs engelska artiklar borde försöka länkas därifrån se [länk visningar](https://stats.wikimedia.org/v2/#/en.wikipedia.org)\n",
    "* SKBL kopplade poster som [har en:Wikipedia artikel](https://w.wiki/aBC) = 680 stycken \n",
    "  * som [saknar en:Wikipedia artikel](https://w.wiki/Zup)\n",
    "* ~~borde tas fram en [SKBL mall](https://sv.wikipedia.org/wiki/Mall:SKBL) på engelsk Wikipedia som pekar på SKBLs engelska artikel~~\n",
    "  * [Q98518115](https://www.wikidata.org/wiki/Q98518115)  \n",
    "* borde försöka få med SKBL i en:Wikipedia motsvarighet till Auktoritetsdata [Template:Authority_control](https://en.wikipedia.org/wiki/Template:Authority_control)  \n",
    "\n",
    "#### SKBL template  live  på en:Wikipedia\n",
    "Update its live se [video](https://youtu.be/a8Uty1etPdQ) \n",
    "* Mall SKBL finns nu på en:Wikipedia se [Template:SKBL](https://en.wikipedia.org/wiki/Template:SKBL) \n",
    "  * används på 680 sidorna -> [Category:SKBL_template_using_Wikidata_property_P4963](https://en.wikipedia.org/wiki/Category:SKBL_template_using_Wikidata_property_P4963) \n",
    "  * [visningsstatistik på dessa sidor](https://pageviews.toolforge.org/massviews/?platform=all-access&agent=user&source=category&range=this-year&subjectpage=0&subcategories=0&sort=views&direction=1&view=list&target=https://en.wikipedia.org/wiki/Category:SKBL_template_using_Wikidata_property_P4963) > 4,3 milj hitills 2019, 2018 > [6,4 miljoner visningar](https://pageviews.toolforge.org/massviews/?platform=all-access&agent=user&source=category&range=last-year&subjectpage=0&subcategories=0&sort=views&direction=1&view=list&target=https://en.wikipedia.org/wiki/Category:SKBL_template_using_Wikidata_property_P4963)\n",
    "* SKBL artiklar på en:Wikipedia som [saknar SKBL mallen](https://petscan.wmflabs.org/?psid=17136250)\n",
    "  * idag finns 680 en:Wikipedia artiklar som i Wikidata har koppling SKBL i Wikidata se [Petscan fråga](https://petscan.wmflabs.org/?psid=17144813)\n",
    "    * video hur [petscan sparql fungerar](https://youtu.be/hOIOc3SKKW4) \n",
    "    * en:Wikipedia sidor som saknar mall [Template:SKBL](https://en.wikipedia.org/wiki/Template:SKBL) [petscan 17154918](https://petscan.wmflabs.org/?psid=17154918)\n",
    "    \n",
    "### ru:Wikipedia\n",
    "video om hur [Wikipedia och olika språkversioner fungerar](https://youtu.be/GzJfXsdmfeU)\n",
    "ryska WIkipedia har varit rel enkla att lyfta in Wikidata egenskaper dom har idag [länk visningar](https://stats.wikimedia.org/v2/#/ru.wikipedia.org) 806 M visningar per månad så det kan vara ett spännande möte\n",
    "* SKBL kopplade poster som [har ru:Wikipedia artikel](https://w.wiki/Zus) = 568 stycken samma men med [länk ru artikeln](https://w.wiki/Zuz)\n",
    "  * som [saknar ru:Wikipedia artikel](https://w.wiki/Zup)\n",
    "* Auktoritetsdata på ru:Wikipedia [Шаблон:Внешние ссылки](https://ru.wikipedia.org/wiki/%D0%A8%D0%B0%D0%B1%D0%BB%D0%BE%D0%BD:%D0%92%D0%BD%D0%B5%D1%88%D0%BD%D0%B8%D0%B5_%D1%81%D1%81%D1%8B%D0%BB%D0%BA%D0%B8)\n",
    "\n",
    "## Museums och Digitaltmuseum\n",
    "En perfekt i en perfekt värld borde vara museums och lexikon som SKBL...  \n",
    "* Vad som gjorts\n",
    "  * Wikidata har egenskap SKBL [P4963](https://www.wikidata.org/wiki/Property_talk:P4963)  och Kulturnav [P1248](https://www.wikidata.org/wiki/Property_talk:P1248)  \n",
    "  * finns P1248 kan en länk skapas till det material som kopplats till denna auktoritet med http://digitaltmuseum<P1248> detta görs nu i\n",
    "    * :sv:Mall:Digitaltmuseum\n",
    "    * :en:Templats:Digitaltmuseum\n",
    "    \n",
    "## Chrome extension\n",
    "Den chrome extension som utvecklas där man kan stå på en sida hos SKBL och slå upp i Wikidata [Entity Explosion](https://chrome.google.com/webstore/detail/entity-explosion/bbcffeclligkmfiocanodamdjclgejcn) "
   ]
  },
  {
   "cell_type": "markdown",
   "metadata": {},
   "source": [
    "# Check diff SKBL Wikidata \n",
    "ett försök att hålla Wikidata / SKBL i fas \n",
    "* [KARP APIet](https://spraakbanken.gu.se/verktyg/karp/webb-api)\n",
    "* se tidigare försök att ha ISNI i synk [T219700](https://phabricator.wikimedia.org/T219700), GITHUB [salgo60/SKBLWikidata](https://github.com/salgo60/SKBLWikidata) \n",
    "  * mar 2019 kommentar om [platser i SKBL](https://phabricator.wikimedia.org/T218782)  \n",
    "  \n",
    "Viss osäkerhet hur en bra API fråga skall se ut returnerar alla personer i SKBL"
   ]
  },
  {
   "cell_type": "code",
   "execution_count": 16,
   "metadata": {},
   "outputs": [],
   "source": [
    "import urllib3, json\n",
    "import pandas as pd \n",
    "http = urllib3.PoolManager() \n",
    "pd.set_option(\"display.max.columns\", None)\n",
    "pd.set_option('display.max_rows', None)\n",
    "\n",
    "dftot = pd.DataFrame()\n",
    " \n",
    "url = \"https://ws.spraakbanken.gu.se/ws/karp/v5/minientry?q=extended%7C%7Cand%7Cnamn%7Cexists&mode=skbllinks&show=name%2Curl&sort=sorteringsnamn.sort%2Csorteringsnamn.init%2Ctilltalsnamn.sort&size=10000&resource=skbl\"\n",
    "r = http.request('GET', url) \n",
    "data = json.loads(r.data.decode('utf-8')) \n",
    "#print(type(data))\n",
    "#print(r.info())\n",
    "listSKBL = []\n",
    "i = 0 \n",
    "for row in (data[\"hits\"][\"hits\"]):\n",
    "    #print (row[\"_source\"][\"url\"])\n",
    "    listSKBL.append(row[\"_source\"][\"url\"])\n",
    "    i = i + 1 \n",
    "    #print (i)\n",
    "SKBLtot = pd.DataFrame(listSKBL,\n",
    "                  columns=['skblid'])\n"
   ]
  },
  {
   "cell_type": "code",
   "execution_count": 17,
   "metadata": {},
   "outputs": [
    {
     "name": "stdout",
     "output_type": "stream",
     "text": [
      "<class 'pandas.core.frame.DataFrame'>\n",
      "RangeIndex: 1517 entries, 0 to 1516\n",
      "Data columns (total 1 columns):\n",
      "skblid    1517 non-null object\n",
      "dtypes: object(1)\n",
      "memory usage: 12.0+ KB\n"
     ]
    }
   ],
   "source": [
    "SKBLtot.info()"
   ]
  },
  {
   "cell_type": "code",
   "execution_count": 18,
   "metadata": {},
   "outputs": [],
   "source": [
    "#SKBLtot"
   ]
  },
  {
   "cell_type": "code",
   "execution_count": 19,
   "metadata": {},
   "outputs": [],
   "source": [
    "#SKBLtot.sort_index(inplace=True) \n",
    "SKBLtot.sort_values(['skblid'], ascending=[1],inplace=True) "
   ]
  },
  {
   "cell_type": "code",
   "execution_count": 20,
   "metadata": {},
   "outputs": [
    {
     "name": "stdout",
     "output_type": "stream",
     "text": [
      "<class 'pandas.core.frame.DataFrame'>\n",
      "Int64Index: 1388 entries, 538 to 817\n",
      "Data columns (total 1 columns):\n",
      "skblid    1388 non-null object\n",
      "dtypes: object(1)\n",
      "memory usage: 21.7+ KB\n"
     ]
    }
   ],
   "source": [
    "# The API gives us some duplicates \n",
    "SKBLtot.drop_duplicates(subset =\"skblid\", keep = False, inplace = True)\n",
    "SKBLtot.info() "
   ]
  },
  {
   "cell_type": "code",
   "execution_count": 21,
   "metadata": {},
   "outputs": [],
   "source": [
    "SKBLtot = SKBLtot.reset_index(drop=True)  \n",
    "#SKBLtot"
   ]
  },
  {
   "cell_type": "markdown",
   "metadata": {},
   "source": [
    "# Wikidata"
   ]
  },
  {
   "cell_type": "code",
   "execution_count": 22,
   "metadata": {},
   "outputs": [
    {
     "name": "stdout",
     "output_type": "stream",
     "text": [
      "<class 'pandas.core.frame.DataFrame'>\n",
      "RangeIndex: 1450 entries, 0 to 1449\n",
      "Data columns (total 1 columns):\n",
      "skblid    1450 non-null object\n",
      "dtypes: object(1)\n",
      "memory usage: 11.5+ KB\n"
     ]
    }
   ],
   "source": [
    "# pip install sparqlwrapper\n",
    "# https://rdflib.github.io/sparqlwrapper/\n",
    "\n",
    "import sys\n",
    "from SPARQLWrapper import SPARQLWrapper, JSON\n",
    "\n",
    "endpoint_url = \"https://query.wikidata.org/sparql\"\n",
    "\n",
    "query = \"\"\"SELECT * WHERE {\n",
    "?item wdt:P31 wd:Q5.\n",
    "?item wdt:P4963 ?skbl\n",
    "} order by ?skbl\"\"\"\n",
    "\n",
    "\n",
    "def get_results(endpoint_url, query):\n",
    "    user_agent = \"User:salgo60/%s.%s\" % (sys.version_info[0], sys.version_info[1])\n",
    "    sparql = SPARQLWrapper(endpoint_url, agent=user_agent)\n",
    "    sparql.setQuery(query)\n",
    "    sparql.setReturnFormat(JSON)\n",
    "    return sparql.query().convert()\n",
    "\n",
    "\n",
    "results = get_results(endpoint_url, query)\n",
    " \n",
    "lst = []\n",
    "for result in results[\"results\"][\"bindings\"]:\n",
    "    lst.append((result[\"skbl\"][\"value\"]))\n",
    "WDtot = pd.DataFrame(lst,columns={'skblid'}) \n",
    "WDtot.info()"
   ]
  },
  {
   "cell_type": "code",
   "execution_count": 23,
   "metadata": {},
   "outputs": [],
   "source": [
    "WDtot.sort_index(inplace=True)  "
   ]
  },
  {
   "cell_type": "code",
   "execution_count": 24,
   "metadata": {},
   "outputs": [
    {
     "name": "stdout",
     "output_type": "stream",
     "text": [
      "<class 'pandas.core.frame.DataFrame'>\n",
      "RangeIndex: 1450 entries, 0 to 1449\n",
      "Data columns (total 1 columns):\n",
      "skblid    1450 non-null object\n",
      "dtypes: object(1)\n",
      "memory usage: 11.5+ KB\n"
     ]
    }
   ],
   "source": [
    "WDtot.info()"
   ]
  },
  {
   "cell_type": "code",
   "execution_count": 25,
   "metadata": {},
   "outputs": [],
   "source": [
    "#WDtot"
   ]
  },
  {
   "cell_type": "markdown",
   "metadata": {},
   "source": [
    "### Check duplicates SKBL and Wikidata"
   ]
  },
  {
   "cell_type": "code",
   "execution_count": 26,
   "metadata": {},
   "outputs": [],
   "source": [
    "dfmerge = pd.merge(WDtot, SKBLtot,how='outer', indicator=True)"
   ]
  },
  {
   "cell_type": "code",
   "execution_count": 27,
   "metadata": {},
   "outputs": [
    {
     "data": {
      "text/plain": [
       "both          1387\n",
       "left_only       63\n",
       "right_only       1\n",
       "Name: _merge, dtype: int64"
      ]
     },
     "execution_count": 27,
     "metadata": {},
     "output_type": "execute_result"
    }
   ],
   "source": [
    "# check whatsnew / deleted  \n",
    "dfmerge['_merge'].value_counts()"
   ]
  },
  {
   "cell_type": "code",
   "execution_count": 28,
   "metadata": {},
   "outputs": [],
   "source": [
    "#dfmerge"
   ]
  },
  {
   "cell_type": "code",
   "execution_count": 29,
   "metadata": {},
   "outputs": [],
   "source": [
    "SKBLnew = dfmerge[dfmerge['_merge']==\"right_only\"]\n"
   ]
  },
  {
   "cell_type": "code",
   "execution_count": 30,
   "metadata": {},
   "outputs": [
    {
     "data": {
      "text/html": [
       "<div>\n",
       "<style scoped>\n",
       "    .dataframe tbody tr th:only-of-type {\n",
       "        vertical-align: middle;\n",
       "    }\n",
       "\n",
       "    .dataframe tbody tr th {\n",
       "        vertical-align: top;\n",
       "    }\n",
       "\n",
       "    .dataframe thead th {\n",
       "        text-align: right;\n",
       "    }\n",
       "</style>\n",
       "<table border=\"1\" class=\"dataframe\">\n",
       "  <thead>\n",
       "    <tr style=\"text-align: right;\">\n",
       "      <th></th>\n",
       "      <th>skblid</th>\n",
       "      <th>_merge</th>\n",
       "    </tr>\n",
       "  </thead>\n",
       "  <tbody>\n",
       "    <tr>\n",
       "      <th>1450</th>\n",
       "      <td>EsterNilsson</td>\n",
       "      <td>right_only</td>\n",
       "    </tr>\n",
       "  </tbody>\n",
       "</table>\n",
       "</div>"
      ],
      "text/plain": [
       "            skblid      _merge\n",
       "1450  EsterNilsson  right_only"
      ]
     },
     "execution_count": 30,
     "metadata": {},
     "output_type": "execute_result"
    }
   ],
   "source": [
    "SKBLnew"
   ]
  },
  {
   "cell_type": "code",
   "execution_count": 16,
   "metadata": {},
   "outputs": [
    {
     "name": "stdout",
     "output_type": "stream",
     "text": [
      "<class 'pandas.core.frame.DataFrame'>\n",
      "Int64Index: 0 entries\n",
      "Data columns (total 2 columns):\n",
      "skblid    0 non-null object\n",
      "_merge    0 non-null category\n",
      "dtypes: category(1), object(1)\n",
      "memory usage: 104.0+ bytes\n"
     ]
    }
   ],
   "source": [
    "SKBLnew.info()"
   ]
  },
  {
   "cell_type": "code",
   "execution_count": 17,
   "metadata": {},
   "outputs": [
    {
     "ename": "NameError",
     "evalue": "name 'keys' is not defined",
     "output_type": "error",
     "traceback": [
      "\u001b[0;31m---------------------------------------------------------------------------\u001b[0m",
      "\u001b[0;31mNameError\u001b[0m                                 Traceback (most recent call last)",
      "\u001b[0;32m<ipython-input-17-c3799ac7ade8>\u001b[0m in \u001b[0;36m<module>\u001b[0;34m\u001b[0m\n\u001b[1;32m     44\u001b[0m     \u001b[0mkeys\u001b[0m \u001b[0;34m=\u001b[0m \u001b[0mlistNewItems\u001b[0m\u001b[0;34m[\u001b[0m\u001b[0;36m0\u001b[0m\u001b[0;34m]\u001b[0m\u001b[0;34m.\u001b[0m\u001b[0mkeys\u001b[0m\u001b[0;34m(\u001b[0m\u001b[0;34m)\u001b[0m\u001b[0;34m\u001b[0m\u001b[0;34m\u001b[0m\u001b[0m\n\u001b[1;32m     45\u001b[0m \u001b[0;32mwith\u001b[0m \u001b[0mopen\u001b[0m\u001b[0;34m(\u001b[0m\u001b[0;34m\"SKBL_newfile.csv\"\u001b[0m\u001b[0;34m,\u001b[0m \u001b[0;34m\"w\"\u001b[0m\u001b[0;34m,\u001b[0m \u001b[0mnewline\u001b[0m\u001b[0;34m=\u001b[0m\u001b[0;34m''\u001b[0m\u001b[0;34m)\u001b[0m \u001b[0;32mas\u001b[0m \u001b[0mSKBLfile\u001b[0m\u001b[0;34m:\u001b[0m\u001b[0;34m\u001b[0m\u001b[0;34m\u001b[0m\u001b[0m\n\u001b[0;32m---> 46\u001b[0;31m     \u001b[0mdict_writer\u001b[0m \u001b[0;34m=\u001b[0m \u001b[0mcsv\u001b[0m\u001b[0;34m.\u001b[0m\u001b[0mDictWriter\u001b[0m\u001b[0;34m(\u001b[0m\u001b[0mSKBLfile\u001b[0m\u001b[0;34m,\u001b[0m \u001b[0mkeys\u001b[0m\u001b[0;34m)\u001b[0m\u001b[0;34m\u001b[0m\u001b[0;34m\u001b[0m\u001b[0m\n\u001b[0m\u001b[1;32m     47\u001b[0m     \u001b[0mdict_writer\u001b[0m\u001b[0;34m.\u001b[0m\u001b[0mwriteheader\u001b[0m\u001b[0;34m(\u001b[0m\u001b[0;34m)\u001b[0m\u001b[0;34m\u001b[0m\u001b[0;34m\u001b[0m\u001b[0m\n\u001b[1;32m     48\u001b[0m     \u001b[0mdict_writer\u001b[0m\u001b[0;34m.\u001b[0m\u001b[0mwriterows\u001b[0m\u001b[0;34m(\u001b[0m\u001b[0mlistNewItems\u001b[0m\u001b[0;34m)\u001b[0m\u001b[0;34m\u001b[0m\u001b[0;34m\u001b[0m\u001b[0m\n",
      "\u001b[0;31mNameError\u001b[0m: name 'keys' is not defined"
     ]
    }
   ],
   "source": [
    "import csv  \n",
    "jsonURL = \"https://skbl.se/sv/artikel/\"\n",
    "listNewItems =[]\n",
    "for index,row in SKBLnew.iterrows():\n",
    "    url = jsonURL + row[\"skblid\"] + \".json\"\n",
    "    r = http.request('GET', url) \n",
    "    data = json.loads(r.data.decode('utf-8'))  \n",
    "    \n",
    "    new_item = dict()\n",
    "    try:\n",
    "        birthdate = data['lifespan']['from']['date']['date'],\n",
    "    except:\n",
    "        birtdate =\"\"\n",
    "    new_item['birthdate'] = birthdate\n",
    "    try:\n",
    "        deathdate = data['lifespan']['to']['date']['date']\n",
    "    except:\n",
    "        deathdate=\"\"\n",
    "    new_item['deathdate'] = deathdate\n",
    "    try:\n",
    "        birthparish = data['lifespan']['from']['place']['parish']\n",
    "    except:\n",
    "        birthparish = \"\"        \n",
    "    new_item['birthparish'] = birthparish\n",
    "    try:\n",
    "        deathparish = data['lifespan']['to']['place']['parish']\n",
    "    except:\n",
    "        deathparish = \"\"\n",
    "    new_item['deathparish'] = deathparish\n",
    "    try:\n",
    "        ISNI = data['id']['id']\n",
    "    except:\n",
    "        ISNI = \"\"\n",
    "    new_item['ISNI'] = ISNI\n",
    "    new_item['SKBL'] = row[\"skblid\"]\n",
    "    new_item['index'] = index\n",
    "    new_item['skbl_status'] = data['skbl_status']\n",
    "    new_item['firstname'] = data['name'].get('firstname')\n",
    "    new_item['lastname'] = data['name'].get('lastname')\n",
    "    new_item['subtitle'] = data['subtitle']\n",
    "    listNewItems.append(new_item)\n",
    "\n",
    "if len(listNewItems):\n",
    "    keys = listNewItems[0].keys()\n",
    "with open(\"SKBL_newfile.csv\", \"w\", newline='') as SKBLfile:\n",
    "    dict_writer = csv.DictWriter(SKBLfile, keys)\n",
    "    dict_writer.writeheader()\n",
    "    dict_writer.writerows(listNewItems)\n",
    "\n",
    "            \n",
    "    "
   ]
  },
  {
   "cell_type": "code",
   "execution_count": 344,
   "metadata": {},
   "outputs": [],
   "source": [
    "#dfmerge"
   ]
  },
  {
   "cell_type": "code",
   "execution_count": 345,
   "metadata": {},
   "outputs": [],
   "source": [
    "def make_WDclickable(val):\n",
    "    return '<a target=\"_blank\" href=\"https://hub.toolforge.org/P4963:{}?site=wikidata\">WD {}</a>'.format(val, val)\n",
    "def make_SKBLclickable(val):\n",
    "    return '<a target=\"_blank\" href=\"https://skbl.se/en/article/{}\">SKBL {}</a>'.format(val, val)\n",
    "\n",
    "\n",
    "#dfmerge['WD'] = dfmerge.apply(lambda x: make_WDclickable(x['skblid']), axis=1)\n",
    "#dfmerge['SKBL'] = dfmerge.apply(lambda x: make_SKBLclickable(x['skblid']), axis=1)\n",
    " \n",
    "#dfmerge['WD'] = dfmerge['skblid']\n",
    "#dfmerge['SKBL'] = dfmerge['skblid']\n",
    "#dfmerge = dfmerge.style.format({'WD': make_WDclickable})  \n",
    "#dfmergedfmerge.style.format({'SKBL': make_SKBLclickable})  \n",
    "SKBLnew_left = dfmerge[dfmerge['_merge']==\"left_only\"]\n",
    "\n",
    "#SKBLnew_left = SKBLnew_left.to_html(escape=False)\n",
    "#SKBLnew_left.write(SKBLnew_left, unsafe_allow_html=True)\n",
    "#SKBLnew_left"
   ]
  },
  {
   "cell_type": "code",
   "execution_count": null,
   "metadata": {},
   "outputs": [],
   "source": []
  }
 ],
 "metadata": {
  "kernelspec": {
   "display_name": "Python 3",
   "language": "python",
   "name": "python3"
  },
  "language_info": {
   "codemirror_mode": {
    "name": "ipython",
    "version": 3
   },
   "file_extension": ".py",
   "mimetype": "text/x-python",
   "name": "python",
   "nbconvert_exporter": "python",
   "pygments_lexer": "ipython3",
   "version": "3.8.0"
  }
 },
 "nbformat": 4,
 "nbformat_minor": 4
}
