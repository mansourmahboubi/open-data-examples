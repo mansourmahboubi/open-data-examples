{
 "cells": [
  {
   "cell_type": "markdown",
   "metadata": {},
   "source": [
    "# Svenskt Kvinnobiografiskt lexikon part 1\n",
    "version 1.3.4.31 \n",
    "\n",
    "\n",
    "* Denna [Jupityr Notebook](https://github.com/salgo60/open-data-examples/blob/master/Svenskt%20Kvinnobiografiskt%20lexikon.ipynb) \n",
    "  * [del 2](https://github.com/salgo60/open-data-examples/blob/master/Svenskt%20Kvinnobiografiskt%20lexikon%20part%202.ipynb)\n",
    "* Wikidata property [P4963](https://www.wikidata.org/wiki/Property_talk:P4963) \n"
   ]
  },
  {
   "cell_type": "markdown",
   "metadata": {},
   "source": [
    "# Check diff SKBL Wikidata \n",
    "ett försök att hålla Wikidata / SKBL i fas \n",
    "* [KARP APIet](https://spraakbanken.gu.se/verktyg/karp/webb-api)\n",
    "* se tidigare försök att ha ISNI i synk [T219700](https://phabricator.wikimedia.org/T219700), GITHUB [salgo60/SKBLWikidata](https://github.com/salgo60/SKBLWikidata) \n",
    "  * mar 2019 kommentar om [platser i SKBL](https://phabricator.wikimedia.org/T218782)  \n",
    "  \n",
    "Viss osäkerhet hur en bra API fråga skall se ut returnerar alla personer i SKBL"
   ]
  },
  {
   "cell_type": "code",
   "execution_count": 139,
   "metadata": {},
   "outputs": [],
   "source": [
    "import urllib3, json\n",
    "import pandas as pd \n",
    "http = urllib3.PoolManager() \n",
    "pd.set_option(\"display.max.columns\", None)\n",
    "pd.set_option('display.max_rows', None)\n",
    "\n",
    "dftot = pd.DataFrame()\n",
    " \n",
    "url = \"https://ws.spraakbanken.gu.se/ws/karp/v5/minientry?q=extended%7C%7Cand%7Cnamn%7Cexists&mode=skbllinks&show=name%2Curl&sort=sorteringsnamn.sort%2Csorteringsnamn.init%2Ctilltalsnamn.sort&size=10000&resource=skbl\"\n",
    "r = http.request('GET', url) \n",
    "data = json.loads(r.data.decode('utf-8')) \n",
    "#print(type(data))\n",
    "#print(r.info())\n",
    "listSKBL = []\n",
    "i = 0 \n",
    "for row in (data[\"hits\"][\"hits\"]):\n",
    "    #print (row[\"_source\"][\"url\"])\n",
    "    listSKBL.append(row[\"_source\"][\"url\"])\n",
    "    i = i + 1 \n",
    "    #print (i)\n",
    "SKBLtot = pd.DataFrame(listSKBL,\n",
    "                  columns=['skblid'])\n"
   ]
  },
  {
   "cell_type": "code",
   "execution_count": 140,
   "metadata": {},
   "outputs": [
    {
     "name": "stdout",
     "output_type": "stream",
     "text": [
      "<class 'pandas.core.frame.DataFrame'>\n",
      "RangeIndex: 1520 entries, 0 to 1519\n",
      "Data columns (total 1 columns):\n",
      "skblid    1520 non-null object\n",
      "dtypes: object(1)\n",
      "memory usage: 12.0+ KB\n"
     ]
    }
   ],
   "source": [
    "SKBLtot.info()"
   ]
  },
  {
   "cell_type": "code",
   "execution_count": 141,
   "metadata": {},
   "outputs": [],
   "source": [
    "#SKBLtot"
   ]
  },
  {
   "cell_type": "code",
   "execution_count": 142,
   "metadata": {},
   "outputs": [],
   "source": [
    "#SKBLtot.sort_index(inplace=True) \n",
    "SKBLtot.sort_values(['skblid'], ascending=[1],inplace=True) "
   ]
  },
  {
   "cell_type": "code",
   "execution_count": 143,
   "metadata": {},
   "outputs": [
    {
     "name": "stdout",
     "output_type": "stream",
     "text": [
      "<class 'pandas.core.frame.DataFrame'>\n",
      "Int64Index: 1391 entries, 539 to 818\n",
      "Data columns (total 1 columns):\n",
      "skblid    1391 non-null object\n",
      "dtypes: object(1)\n",
      "memory usage: 21.7+ KB\n"
     ]
    }
   ],
   "source": [
    "# The API gives us some duplicates \n",
    "SKBLtot.drop_duplicates(subset =\"skblid\", keep = False, inplace = True)\n",
    "SKBLtot.info() "
   ]
  },
  {
   "cell_type": "code",
   "execution_count": 144,
   "metadata": {},
   "outputs": [],
   "source": [
    "SKBLtot = SKBLtot.reset_index(drop=True)  \n",
    "#SKBLtot"
   ]
  },
  {
   "cell_type": "markdown",
   "metadata": {},
   "source": [
    "# Wikidata"
   ]
  },
  {
   "cell_type": "code",
   "execution_count": 145,
   "metadata": {},
   "outputs": [
    {
     "name": "stdout",
     "output_type": "stream",
     "text": [
      "<class 'pandas.core.frame.DataFrame'>\n",
      "RangeIndex: 1454 entries, 0 to 1453\n",
      "Data columns (total 1 columns):\n",
      "skblid    1454 non-null object\n",
      "dtypes: object(1)\n",
      "memory usage: 11.5+ KB\n"
     ]
    }
   ],
   "source": [
    "# pip install sparqlwrapper\n",
    "# https://rdflib.github.io/sparqlwrapper/\n",
    "\n",
    "import sys\n",
    "from SPARQLWrapper import SPARQLWrapper, JSON\n",
    "\n",
    "endpoint_url = \"https://query.wikidata.org/sparql\"\n",
    "\n",
    "query = \"\"\"SELECT * WHERE {\n",
    "?item wdt:P31 wd:Q5.\n",
    "?item wdt:P4963 ?skbl\n",
    "} order by ?skbl\"\"\"\n",
    "\n",
    "\n",
    "def get_results(endpoint_url, query):\n",
    "    user_agent = \"User:salgo60/%s.%s\" % (sys.version_info[0], sys.version_info[1])\n",
    "    sparql = SPARQLWrapper(endpoint_url, agent=user_agent)\n",
    "    sparql.setQuery(query)\n",
    "    sparql.setReturnFormat(JSON)\n",
    "    return sparql.query().convert()\n",
    "\n",
    "\n",
    "results = get_results(endpoint_url, query)\n",
    " \n",
    "lst = []\n",
    "for result in results[\"results\"][\"bindings\"]:\n",
    "    lst.append((result[\"skbl\"][\"value\"]))\n",
    "WDtot = pd.DataFrame(lst,columns={'skblid'}) \n",
    "WDtot.info()"
   ]
  },
  {
   "cell_type": "code",
   "execution_count": 146,
   "metadata": {},
   "outputs": [],
   "source": [
    "WDtot.sort_index(inplace=True)  "
   ]
  },
  {
   "cell_type": "code",
   "execution_count": 147,
   "metadata": {},
   "outputs": [
    {
     "name": "stdout",
     "output_type": "stream",
     "text": [
      "<class 'pandas.core.frame.DataFrame'>\n",
      "RangeIndex: 1454 entries, 0 to 1453\n",
      "Data columns (total 1 columns):\n",
      "skblid    1454 non-null object\n",
      "dtypes: object(1)\n",
      "memory usage: 11.5+ KB\n"
     ]
    }
   ],
   "source": [
    "WDtot.info()"
   ]
  },
  {
   "cell_type": "code",
   "execution_count": 148,
   "metadata": {},
   "outputs": [],
   "source": [
    "#WDtot"
   ]
  },
  {
   "cell_type": "markdown",
   "metadata": {},
   "source": [
    "### Check duplicates SKBL and Wikidata"
   ]
  },
  {
   "cell_type": "code",
   "execution_count": 149,
   "metadata": {},
   "outputs": [],
   "source": [
    "dfmerge = pd.merge(WDtot, SKBLtot,how='outer', indicator=True)"
   ]
  },
  {
   "cell_type": "code",
   "execution_count": 150,
   "metadata": {},
   "outputs": [
    {
     "data": {
      "text/plain": [
       "both          1391\n",
       "left_only       63\n",
       "right_only       0\n",
       "Name: _merge, dtype: int64"
      ]
     },
     "execution_count": 150,
     "metadata": {},
     "output_type": "execute_result"
    }
   ],
   "source": [
    "# check whatsnew / deleted  \n",
    "dfmerge['_merge'].value_counts()"
   ]
  },
  {
   "cell_type": "code",
   "execution_count": 151,
   "metadata": {},
   "outputs": [],
   "source": [
    "#dfmerge"
   ]
  },
  {
   "cell_type": "code",
   "execution_count": 152,
   "metadata": {},
   "outputs": [],
   "source": [
    "SKBLnew = dfmerge[dfmerge['_merge']==\"right_only\"]\n"
   ]
  },
  {
   "cell_type": "code",
   "execution_count": 153,
   "metadata": {},
   "outputs": [
    {
     "data": {
      "text/html": [
       "<div>\n",
       "<style scoped>\n",
       "    .dataframe tbody tr th:only-of-type {\n",
       "        vertical-align: middle;\n",
       "    }\n",
       "\n",
       "    .dataframe tbody tr th {\n",
       "        vertical-align: top;\n",
       "    }\n",
       "\n",
       "    .dataframe thead th {\n",
       "        text-align: right;\n",
       "    }\n",
       "</style>\n",
       "<table border=\"1\" class=\"dataframe\">\n",
       "  <thead>\n",
       "    <tr style=\"text-align: right;\">\n",
       "      <th></th>\n",
       "      <th>skblid</th>\n",
       "      <th>_merge</th>\n",
       "    </tr>\n",
       "  </thead>\n",
       "  <tbody>\n",
       "  </tbody>\n",
       "</table>\n",
       "</div>"
      ],
      "text/plain": [
       "Empty DataFrame\n",
       "Columns: [skblid, _merge]\n",
       "Index: []"
      ]
     },
     "execution_count": 153,
     "metadata": {},
     "output_type": "execute_result"
    }
   ],
   "source": [
    "SKBLnew"
   ]
  },
  {
   "cell_type": "code",
   "execution_count": 154,
   "metadata": {},
   "outputs": [
    {
     "name": "stdout",
     "output_type": "stream",
     "text": [
      "<class 'pandas.core.frame.DataFrame'>\n",
      "Int64Index: 0 entries\n",
      "Data columns (total 2 columns):\n",
      "skblid    0 non-null object\n",
      "_merge    0 non-null category\n",
      "dtypes: category(1), object(1)\n",
      "memory usage: 104.0+ bytes\n"
     ]
    }
   ],
   "source": [
    "SKBLnew.info()"
   ]
  },
  {
   "cell_type": "code",
   "execution_count": 155,
   "metadata": {},
   "outputs": [
    {
     "name": "stdout",
     "output_type": "stream",
     "text": [
      "0  antal poster\n",
      "Ingen fil skapas inga nya poster\n"
     ]
    }
   ],
   "source": [
    "import csv  \n",
    "jsonURL = \"https://skbl.se/sv/artikel/\"\n",
    "listNewItems =[]\n",
    "for index,row in SKBLnew.iterrows():\n",
    "    url = jsonURL + row[\"skblid\"] + \".json\"\n",
    "    r = http.request('GET', url) \n",
    "    data = json.loads(r.data.decode('utf-8'))  \n",
    "    \n",
    "    new_item = dict()\n",
    "    try:\n",
    "        birthdate = data['lifespan']['from']['date']['date'],\n",
    "    except:\n",
    "        birtdate =\"\"\n",
    "    new_item['birthdate'] = birthdate\n",
    "    try:\n",
    "        deathdate = data['lifespan']['to']['date']['date']\n",
    "    except:\n",
    "        deathdate=\"\"\n",
    "    new_item['deathdate'] = deathdate\n",
    "    try:\n",
    "        birthparish = data['lifespan']['from']['place']['parish']\n",
    "    except:\n",
    "        birthparish = \"\"        \n",
    "    new_item['birthparish'] = birthparish\n",
    "    try:\n",
    "        deathparish = data['lifespan']['to']['place']['parish']\n",
    "    except:\n",
    "        deathparish = \"\"\n",
    "    new_item['deathparish'] = deathparish\n",
    "    try:\n",
    "        ISNI = data['id']['id']\n",
    "    except:\n",
    "        ISNI = \"\"\n",
    "    new_item['ISNI'] = ISNI\n",
    "    new_item['SKBL'] = row[\"skblid\"]\n",
    "    new_item['index'] = index\n",
    "    new_item['skbl_status'] = data['skbl_status']\n",
    "    new_item['firstname'] = data['name'].get('firstname')\n",
    "    new_item['lastname'] = data['name'].get('lastname')\n",
    "    new_item['subtitle'] = data['subtitle']\n",
    "    listNewItems.append(new_item)\n",
    "print (len(listNewItems) ,\" antal poster\")\n",
    "if len(listNewItems) > 0:\n",
    "    keys = listNewItems[0].keys()\n",
    "    with open(\"SKBL_newfile.csv\", \"w\", newline='') as SKBLfile:\n",
    "        dict_writer = csv.DictWriter(SKBLfile, keys)\n",
    "        dict_writer.writeheader()\n",
    "        dict_writer.writerows(listNewItems)\n",
    "else:\n",
    "    print (\"Ingen fil skapas inga nya poster\") \n",
    "            \n",
    "    "
   ]
  },
  {
   "cell_type": "code",
   "execution_count": 156,
   "metadata": {},
   "outputs": [],
   "source": [
    "#dfmerge"
   ]
  },
  {
   "cell_type": "code",
   "execution_count": 157,
   "metadata": {},
   "outputs": [],
   "source": [
    "def make_WDclickable(val):\n",
    "    return '<a target=\"_blank\" href=\"https://hub.toolforge.org/P4963:{}?site=wikidata\">WD {}</a>'.format(val, val)\n",
    "def make_SKBLclickable(val):\n",
    "    return '<a target=\"_blank\" href=\"https://skbl.se/en/article/{}\">SKBL {}</a>'.format(val, val)\n",
    "\n",
    "\n",
    "#dfmerge['WD'] = dfmerge.apply(lambda x: make_WDclickable(x['skblid']), axis=1)\n",
    "#dfmerge['SKBL'] = dfmerge.apply(lambda x: make_SKBLclickable(x['skblid']), axis=1)\n",
    " \n",
    "#dfmerge['WD'] = dfmerge['skblid']\n",
    "#dfmerge['SKBL'] = dfmerge['skblid']\n",
    "#dfmerge = dfmerge.style.format({'WD': make_WDclickable})  \n",
    "#dfmergedfmerge.style.format({'SKBL': make_SKBLclickable})  \n",
    "SKBLnew_left = dfmerge[dfmerge['_merge']==\"left_only\"]\n",
    "\n",
    "#SKBLnew_left = SKBLnew_left.to_html(escape=False)\n",
    "#SKBLnew_left.write(SKBLnew_left, unsafe_allow_html=True)\n",
    "#SKBLnew_left"
   ]
  },
  {
   "cell_type": "code",
   "execution_count": null,
   "metadata": {},
   "outputs": [],
   "source": []
  },
  {
   "cell_type": "code",
   "execution_count": null,
   "metadata": {},
   "outputs": [],
   "source": []
  }
 ],
 "metadata": {
  "kernelspec": {
   "display_name": "Python 3",
   "language": "python",
   "name": "python3"
  },
  "language_info": {
   "codemirror_mode": {
    "name": "ipython",
    "version": 3
   },
   "file_extension": ".py",
   "mimetype": "text/x-python",
   "name": "python",
   "nbconvert_exporter": "python",
   "pygments_lexer": "ipython3",
   "version": "3.8.0"
  }
 },
 "nbformat": 4,
 "nbformat_minor": 4
}
