{
 "cells": [
  {
   "cell_type": "markdown",
   "metadata": {},
   "source": [
    "## Icke fungerande RAÄ länkar ofta kallat länkröta  \n",
    "\n",
    "Enligt Bybrunnen \n"
   ]
  },
  {
   "cell_type": "code",
   "execution_count": 57,
   "metadata": {},
   "outputs": [
    {
     "name": "stdout",
     "output_type": "stream",
     "text": [
      "Files:  4721 94\n",
      "4815\n"
     ]
    }
   ],
   "source": [
    "import urllib3, json  \n",
    "import pandas as pd\n",
    "nonWorkingfiles1 = \"https://gist.githubusercontent.com/salgo60/4f2fa0370a5541712fd274e5b9e84b26/raw/0d514aa8daa46666748f8d3cb2c6d48d0dcf1db3/nonWorkingURLS.txt\"\n",
    "nonWorkingfiles2 = \"https://gist.githubusercontent.com/salgo60/4af406c16e763ae02c4d12acb8b7a0aa/raw/830313009a64c88131f4d85e9c182700e170e3fa/nonWorkingURLs\"\n",
    " \n",
    "http = urllib3.PoolManager()\n",
    "r1 = http.request('GET', nonWorkingfiles1) \n",
    "files1 = r1.data.decode('utf-8').split(\"\\n\")   \n",
    "r2 = http.request('GET', nonWorkingfiles2) \n",
    "files2 = r2.data.decode('utf-8').split(\"\\n\")   \n",
    "files = files1 + files2 \n",
    "print(len(files))\n"
   ]
  },
  {
   "cell_type": "code",
   "execution_count": 58,
   "metadata": {},
   "outputs": [
    {
     "name": "stdout",
     "output_type": "stream",
     "text": [
      "<class 'pandas.core.frame.DataFrame'>\n",
      "RangeIndex: 4815 entries, 0 to 4814\n",
      "Data columns (total 1 columns):\n",
      "URL    4815 non-null object\n",
      "dtypes: object(1)\n",
      "memory usage: 37.7+ KB\n"
     ]
    }
   ],
   "source": [
    "df=pd.DataFrame(files,columns=[\"URL\"])  \n",
    "df.info()"
   ]
  },
  {
   "cell_type": "code",
   "execution_count": 75,
   "metadata": {},
   "outputs": [],
   "source": [
    "pd.set_option(\"display.max.rows\", None)   \n",
    "pd.set_option(\"display.max.columns\", None) "
   ]
  },
  {
   "cell_type": "code",
   "execution_count": 77,
   "metadata": {},
   "outputs": [],
   "source": [
    "dfsplit = df.URL.str.split(\"/\",n=0,expand = True)\n"
   ]
  },
  {
   "cell_type": "code",
   "execution_count": 78,
   "metadata": {},
   "outputs": [
    {
     "name": "stdout",
     "output_type": "stream",
     "text": [
      "<class 'pandas.core.frame.DataFrame'>\n",
      "RangeIndex: 4815 entries, 0 to 4814\n",
      "Data columns (total 11 columns):\n",
      "0     4815 non-null object\n",
      "1     4814 non-null object\n",
      "2     4814 non-null object\n",
      "3     4813 non-null object\n",
      "4     4813 non-null object\n",
      "5     4813 non-null object\n",
      "6     4805 non-null object\n",
      "7     1 non-null object\n",
      "8     1 non-null object\n",
      "9     1 non-null object\n",
      "10    1 non-null object\n",
      "dtypes: object(11)\n",
      "memory usage: 413.9+ KB\n"
     ]
    }
   ],
   "source": [
    "dfsplit.info()"
   ]
  },
  {
   "cell_type": "code",
   "execution_count": 80,
   "metadata": {},
   "outputs": [
    {
     "data": {
      "text/html": [
       "<div>\n",
       "<style scoped>\n",
       "    .dataframe tbody tr th:only-of-type {\n",
       "        vertical-align: middle;\n",
       "    }\n",
       "\n",
       "    .dataframe tbody tr th {\n",
       "        vertical-align: top;\n",
       "    }\n",
       "\n",
       "    .dataframe thead th {\n",
       "        text-align: right;\n",
       "    }\n",
       "</style>\n",
       "<table border=\"1\" class=\"dataframe\">\n",
       "  <thead>\n",
       "    <tr style=\"text-align: right;\">\n",
       "      <th></th>\n",
       "      <th>0</th>\n",
       "      <th>1</th>\n",
       "      <th>2</th>\n",
       "      <th>3</th>\n",
       "      <th>4</th>\n",
       "      <th>5</th>\n",
       "      <th>6</th>\n",
       "      <th>7</th>\n",
       "      <th>8</th>\n",
       "      <th>9</th>\n",
       "      <th>10</th>\n",
       "    </tr>\n",
       "  </thead>\n",
       "  <tbody>\n",
       "    <tr>\n",
       "      <th>0</th>\n",
       "      <td>http:</td>\n",
       "      <td></td>\n",
       "      <td>kulturarvsdata.se</td>\n",
       "      <td>VGM</td>\n",
       "      <td>media</td>\n",
       "      <td>html</td>\n",
       "      <td>VGM_B145048_1929</td>\n",
       "      <td>None</td>\n",
       "      <td>None</td>\n",
       "      <td>None</td>\n",
       "      <td>None</td>\n",
       "    </tr>\n",
       "    <tr>\n",
       "      <th>1</th>\n",
       "      <td>http:</td>\n",
       "      <td></td>\n",
       "      <td>kulturarvsdata.se</td>\n",
       "      <td>raa</td>\n",
       "      <td>bbr</td>\n",
       "      <td>html</td>\n",
       "      <td>21300000004775</td>\n",
       "      <td>None</td>\n",
       "      <td>None</td>\n",
       "      <td>None</td>\n",
       "      <td>None</td>\n",
       "    </tr>\n",
       "    <tr>\n",
       "      <th>2</th>\n",
       "      <td>http:</td>\n",
       "      <td></td>\n",
       "      <td>kulturarvsdata.se</td>\n",
       "      <td>raa</td>\n",
       "      <td>bbr</td>\n",
       "      <td>html</td>\n",
       "      <td>21300000003764</td>\n",
       "      <td>None</td>\n",
       "      <td>None</td>\n",
       "      <td>None</td>\n",
       "      <td>None</td>\n",
       "    </tr>\n",
       "    <tr>\n",
       "      <th>3</th>\n",
       "      <td>http:</td>\n",
       "      <td></td>\n",
       "      <td>kulturarvsdata.se</td>\n",
       "      <td>raa</td>\n",
       "      <td>bbr</td>\n",
       "      <td>html</td>\n",
       "      <td>21300000004043</td>\n",
       "      <td>None</td>\n",
       "      <td>None</td>\n",
       "      <td>None</td>\n",
       "      <td>None</td>\n",
       "    </tr>\n",
       "    <tr>\n",
       "      <th>4</th>\n",
       "      <td>http:</td>\n",
       "      <td></td>\n",
       "      <td>kulturarvsdata.se</td>\n",
       "      <td>raa</td>\n",
       "      <td>bbr</td>\n",
       "      <td>html</td>\n",
       "      <td>21300000004542</td>\n",
       "      <td>None</td>\n",
       "      <td>None</td>\n",
       "      <td>None</td>\n",
       "      <td>None</td>\n",
       "    </tr>\n",
       "  </tbody>\n",
       "</table>\n",
       "</div>"
      ],
      "text/plain": [
       "       0 1                  2    3      4     5                 6     7     8  \\\n",
       "0  http:    kulturarvsdata.se  VGM  media  html  VGM_B145048_1929  None  None   \n",
       "1  http:    kulturarvsdata.se  raa    bbr  html    21300000004775  None  None   \n",
       "2  http:    kulturarvsdata.se  raa    bbr  html    21300000003764  None  None   \n",
       "3  http:    kulturarvsdata.se  raa    bbr  html    21300000004043  None  None   \n",
       "4  http:    kulturarvsdata.se  raa    bbr  html    21300000004542  None  None   \n",
       "\n",
       "      9    10  \n",
       "0  None  None  \n",
       "1  None  None  \n",
       "2  None  None  \n",
       "3  None  None  \n",
       "4  None  None  "
      ]
     },
     "execution_count": 80,
     "metadata": {},
     "output_type": "execute_result"
    }
   ],
   "source": [
    "dfsplit.head()"
   ]
  },
  {
   "cell_type": "code",
   "execution_count": 92,
   "metadata": {},
   "outputs": [
    {
     "data": {
      "text/plain": [
       "    4814\n",
       "Name: 1, dtype: int64"
      ]
     },
     "execution_count": 92,
     "metadata": {},
     "output_type": "execute_result"
    }
   ],
   "source": [
    "dfsplit[1].value_counts()"
   ]
  },
  {
   "cell_type": "code",
   "execution_count": 93,
   "metadata": {},
   "outputs": [
    {
     "data": {
      "text/plain": [
       "kulturarvsdata.se    4813\n",
       "k                       1\n",
       "Name: 2, dtype: int64"
      ]
     },
     "execution_count": 93,
     "metadata": {},
     "output_type": "execute_result"
    }
   ],
   "source": [
    "dfsplit[2].value_counts()"
   ]
  },
  {
   "cell_type": "code",
   "execution_count": 94,
   "metadata": {},
   "outputs": [
    {
     "data": {
      "text/plain": [
       "raa        4788\n",
       "VGM           9\n",
       "BHM           5\n",
       "KLVM          3\n",
       "smha          2\n",
       "S-FV          1\n",
       "DFH           1\n",
       "ksamsok       1\n",
       "NOMU          1\n",
       "vasa          1\n",
       "GNM           1\n",
       "Name: 3, dtype: int64"
      ]
     },
     "execution_count": 94,
     "metadata": {},
     "output_type": "execute_result"
    }
   ],
   "source": [
    "dfsplit[3].value_counts()"
   ]
  },
  {
   "cell_type": "code",
   "execution_count": 95,
   "metadata": {},
   "outputs": [
    {
     "data": {
      "text/plain": [
       "bbr                                    4273\n",
       "fmi                                     395\n",
       "bbra                                    108\n",
       "media                                    17\n",
       "kmb                                       8\n",
       "object                                    5\n",
       "fornvannen                                2\n",
       "ecofacts                                  1\n",
       "bbrb                                      1\n",
       "samla                                     1\n",
       "photo                                     1\n",
       "api?method=getGeoResource&uri=http:       1\n",
       "Name: 4, dtype: int64"
      ]
     },
     "execution_count": 95,
     "metadata": {},
     "output_type": "execute_result"
    }
   ],
   "source": [
    "dfsplit[4].value_counts()"
   ]
  },
  {
   "cell_type": "code",
   "execution_count": 96,
   "metadata": {},
   "outputs": [
    {
     "data": {
      "image/png": "[encoded data removed]",
      "text/plain": [
       "<Figure size 432x288 with 1 Axes>"
      ]
     },
     "metadata": {},
     "output_type": "display_data"
    }
   ],
   "source": [
    "%matplotlib inline  \n",
    "import matplotlib.pyplot as plt \n",
    "dfsplit[4].value_counts().plot.pie()\n",
    "plt.show()"
   ]
  },
  {
   "cell_type": "code",
   "execution_count": 99,
   "metadata": {},
   "outputs": [
    {
     "data": {
      "image/png": "[encoded data removed]",
      "text/plain": [
       "<Figure size 432x288 with 1 Axes>"
      ]
     },
     "metadata": {},
     "output_type": "display_data"
    }
   ],
   "source": [
    "dfsplit[4].value_counts()[1:10].plot.pie()\n",
    "plt.show()"
   ]
  },
  {
   "cell_type": "code",
   "execution_count": 100,
   "metadata": {},
   "outputs": [
    {
     "data": {
      "image/png": "[encoded data removed]",
      "text/plain": [
       "<Figure size 432x288 with 1 Axes>"
      ]
     },
     "metadata": {},
     "output_type": "display_data"
    }
   ],
   "source": [
    "dfsplit[4].value_counts()[2:].plot.pie()\n",
    "plt.show()"
   ]
  },
  {
   "cell_type": "code",
   "execution_count": null,
   "metadata": {},
   "outputs": [],
   "source": []
  }
 ],
 "metadata": {
  "kernelspec": {
   "display_name": "Python 3",
   "language": "python",
   "name": "python3"
  },
  "language_info": {
   "codemirror_mode": {
    "name": "ipython",
    "version": 3
   },
   "file_extension": ".py",
   "mimetype": "text/x-python",
   "name": "python",
   "nbconvert_exporter": "python",
   "pygments_lexer": "ipython3",
   "version": "3.8.0"
  }
 },
 "nbformat": 4,
 "nbformat_minor": 4
}
