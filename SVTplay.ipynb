{
 "cells": [
  {
   "cell_type": "markdown",
   "metadata": {},
   "source": [
    "### SVT Play \n",
    "version 0.101\n",
    "* This [notebook](https://github.com/salgo60/open-data-examples/blob/master/SVTplay.ipynb)\n",
    "   * Havnt found an offical API but [origin-www.svt.se/oppet-arkiv-api](https://origin-www.svt.se/oppet-arkiv-api)\n",
    "     * SVT play id [1089610](https://origin-www.svt.se/oppet-arkiv-api/video/1089610) Operation Argus\n",
    "     * [Latest](https://origin-www.svt.se/oppet-arkiv-api/latest?page=1&count=12pretty=true)\n",
    "* we need an official copyright statement and API with the SVTprogramid \n",
    "   * id in this data looks like the SVT Öppet arkiv id"
   ]
  },
  {
   "cell_type": "code",
   "execution_count": 1,
   "metadata": {},
   "outputs": [
    {
     "name": "stdout",
     "output_type": "stream",
     "text": [
      "Last run:  2020-12-16 19:49:16.543374\n"
     ]
    }
   ],
   "source": [
    "from datetime import datetime\n",
    "start_time  = datetime.now()\n",
    "print(\"Last run: \", start_time)"
   ]
  },
  {
   "cell_type": "code",
   "execution_count": 2,
   "metadata": {},
   "outputs": [
    {
     "name": "stderr",
     "output_type": "stream",
     "text": [
      "  0%|          | 1/570 [00:00<03:16,  2.89it/s]"
     ]
    },
    {
     "name": "stdout",
     "output_type": "stream",
     "text": [
      "Lena Nyman\n",
      "Max von Sydow\n",
      "Keve Hjelm\n",
      "Sören Olsson\n",
      "Sören Olsson\n",
      "Måns Herngren\n",
      "Sören Olsson\n",
      "Sören Olsson\n",
      "Sören Olsson\n",
      "Hans Alfredson\n",
      "Sören Olsson\n"
     ]
    },
    {
     "name": "stderr",
     "output_type": "stream",
     "text": [
      "\r",
      "  0%|          | 2/570 [00:00<03:01,  3.13it/s]"
     ]
    },
    {
     "name": "stdout",
     "output_type": "stream",
     "text": [
      "Curt Strömblad\n",
      "Lars Weiss\n",
      "Keve Hjelm\n",
      "Lena Nyman\n",
      "Keve Hjelm\n",
      "Sören Olsson\n",
      "Sören Olsson\n",
      "Måns Herngren\n",
      "Sören Olsson\n",
      "Barbro Hiort af Ornäs\n"
     ]
    },
    {
     "name": "stderr",
     "output_type": "stream",
     "text": [
      "\r",
      "  1%|          | 3/570 [00:00<03:05,  3.06it/s]"
     ]
    },
    {
     "name": "stdout",
     "output_type": "stream",
     "text": [
      "Birgit Janrup\n",
      "Ted Gärdestad\n",
      "Marianne Anderberg\n",
      "Barbro Hiort af Ornäs\n",
      "Sören Olsson\n",
      "Sören Olsson\n",
      "Birgit Janrup\n",
      "Sören Olsson\n",
      "Lillebil Björkman\n",
      "Brasse Brännström\n",
      "Brasse Brännström\n"
     ]
    },
    {
     "name": "stderr",
     "output_type": "stream",
     "text": [
      "\r",
      "  1%|          | 4/570 [00:01<02:55,  3.22it/s]"
     ]
    },
    {
     "name": "stdout",
     "output_type": "stream",
     "text": [
      "Brasse Brännström\n",
      "Anna Åström\n",
      "Fred Sjöberg\n",
      "Brasse Brännström\n",
      "Brasse Brännström\n",
      "Brasse Brännström\n",
      "Ted Gärdestad\n",
      "Brasse Brännström\n",
      "Brasse Brännström\n",
      "Brasse Brännström\n",
      "Brasse Brännström\n"
     ]
    },
    {
     "name": "stderr",
     "output_type": "stream",
     "text": [
      "\r",
      "  1%|          | 5/570 [00:01<02:46,  3.39it/s]"
     ]
    },
    {
     "name": "stdout",
     "output_type": "stream",
     "text": [
      "Sören Olsson\n",
      "Anders Jacobsson\n",
      "Sören Olsson\n",
      "Birgit Janrup\n",
      "Sören Olsson\n",
      "Lillebil Björkman\n",
      "Brasse Brännström\n",
      "Brasse Brännström\n",
      "Brasse Brännström\n",
      "Fred Sjöberg\n",
      "Brasse Brännström\n"
     ]
    },
    {
     "name": "stderr",
     "output_type": "stream",
     "text": [
      "\r",
      "  1%|          | 6/570 [00:01<02:42,  3.48it/s]"
     ]
    },
    {
     "name": "stdout",
     "output_type": "stream",
     "text": [
      "Brasse Brännström\n",
      "Anna Åström\n",
      "Brasse Brännström\n",
      "Ted Gärdestad\n",
      "Brasse Brännström\n",
      "Brasse Brännström\n",
      "Brasse Brännström\n",
      "Brasse Brännström\n",
      "Brasse Brännström\n",
      "Brasse Brännström\n",
      "Brasse Brännström\n"
     ]
    },
    {
     "name": "stderr",
     "output_type": "stream",
     "text": [
      "\r",
      "  1%|          | 7/570 [00:02<02:47,  3.36it/s]"
     ]
    },
    {
     "name": "stdout",
     "output_type": "stream",
     "text": [
      "Brasse Brännström\n",
      "Anna Åström\n",
      "Brasse Brännström\n",
      "Brasse Brännström\n",
      "Brasse Brännström\n",
      "Brasse Brännström\n",
      "Brasse Brännström\n",
      "Brasse Brännström\n",
      "Brasse Brännström\n",
      "Shanti Roney\n",
      "Rune Turesson\n"
     ]
    },
    {
     "name": "stderr",
     "output_type": "stream",
     "text": [
      "\r",
      "  1%|▏         | 8/570 [00:02<02:45,  3.40it/s]"
     ]
    },
    {
     "name": "stdout",
     "output_type": "stream",
     "text": [
      "Shanti Roney\n",
      "Axel Zuber\n",
      "Birgit Hageby\n",
      "Shanti Roney\n",
      "Shanti Roney\n",
      "Birgit Hageby\n",
      "Birgit Hageby\n",
      "Birgit Hageby\n",
      "Birgit Hageby\n",
      "Shanti Roney\n",
      "Birgit Hageby\n"
     ]
    },
    {
     "name": "stderr",
     "output_type": "stream",
     "text": [
      "\r",
      "  2%|▏         | 9/570 [00:02<02:41,  3.48it/s]"
     ]
    },
    {
     "name": "stdout",
     "output_type": "stream",
     "text": [
      "Shanti Roney\n",
      "Axel Zuber\n",
      "Shanti Roney\n",
      "Shanti Roney\n",
      "Shanti Roney\n",
      "Shanti Roney\n",
      "Shanti Roney\n",
      "Shanti Roney\n",
      "Birgit Hageby\n",
      "Shanti Roney\n",
      "Shanti Roney\n"
     ]
    },
    {
     "name": "stderr",
     "output_type": "stream",
     "text": [
      "\r",
      "  2%|▏         | 10/570 [00:02<02:36,  3.58it/s]"
     ]
    },
    {
     "name": "stdout",
     "output_type": "stream",
     "text": [
      "Lasse Brandeby\n",
      "Hans Wiktorsson\n",
      "Kurt Olsson\n",
      "Birgit Hageby\n",
      "Kurt Olsson\n",
      "Kurt Olsson\n",
      "Kurt Olsson\n",
      "Kurt Olsson\n",
      "Kurt Olsson\n",
      "Kurt Olsson\n",
      "Birgit Hageby\n"
     ]
    },
    {
     "name": "stderr",
     "output_type": "stream",
     "text": [
      "\r",
      "  2%|▏         | 11/570 [00:03<02:58,  3.12it/s]"
     ]
    },
    {
     "name": "stdout",
     "output_type": "stream",
     "text": [
      "Staffan Ling\n",
      "Bengt Andersson\n",
      "Staffan Ling\n",
      "Staffan Ling\n",
      "Staffan Ling\n",
      "Staffan Ling\n",
      "Staffan Ling\n",
      "Staffan Ling\n",
      "Shanti Roney\n",
      "Staffan Ling\n",
      "Birgit Hageby\n"
     ]
    },
    {
     "name": "stderr",
     "output_type": "stream",
     "text": [
      "\r",
      "  2%|▏         | 12/570 [00:03<02:51,  3.25it/s]"
     ]
    },
    {
     "name": "stdout",
     "output_type": "stream",
     "text": [
      "Ulla Berglund\n",
      "Pi Lind\n",
      "Ulla Berglund\n",
      "Ulla Berglund\n",
      "Ulla Berglund\n",
      "Pi Lind\n",
      "Ulla Berglund\n",
      "Ulla Berglund\n",
      "Ulla Berglund\n",
      "Ulla Berglund\n",
      "Viktoria Kahn\n"
     ]
    },
    {
     "name": "stderr",
     "output_type": "stream",
     "text": [
      "\r",
      "  2%|▏         | 13/570 [00:04<03:31,  2.64it/s]"
     ]
    },
    {
     "name": "stdout",
     "output_type": "stream",
     "text": [
      "Viktoria Kahn\n",
      "Gerd Hallberg\n",
      "Viktoria Kahn\n",
      "Viktoria Kahn\n",
      "Tove Jansson\n",
      "Birgitta Zachrisson\n",
      "Ulla Berglund\n",
      "Tove Jansson\n",
      "Ulla Berglund\n",
      "Pi Lind\n",
      "Tove Jansson\n"
     ]
    },
    {
     "name": "stderr",
     "output_type": "stream",
     "text": [
      "\r",
      "  2%|▏         | 14/570 [00:04<03:18,  2.80it/s]"
     ]
    },
    {
     "name": "stdout",
     "output_type": "stream",
     "text": [
      "Tove Jansson\n",
      "Lars Jansson\n",
      "Tove Jansson\n",
      "Tove Jansson\n",
      "Tove Jansson\n",
      "Tove Jansson\n",
      "Ulla Berglund\n",
      "Brasse Brännström\n",
      "Staffan Ling\n",
      "Staffan Ling\n",
      "Staffan Ling\n"
     ]
    },
    {
     "name": "stderr",
     "output_type": "stream",
     "text": [
      "\r",
      "  3%|▎         | 15/570 [00:04<03:22,  2.75it/s]"
     ]
    },
    {
     "name": "stdout",
     "output_type": "stream",
     "text": [
      "Kurt Olsson\n",
      "Lasse Brandeby\n",
      "Kurt Olsson\n",
      "Brasse Brännström\n",
      "Staffan Ling\n",
      "Staffan Ling\n",
      "Staffan Ling\n",
      "Brasse Brännström\n",
      "Staffan Ling\n",
      "Brasse Brännström\n",
      "Staffan Ling\n"
     ]
    },
    {
     "name": "stderr",
     "output_type": "stream",
     "text": [
      "\r",
      "  3%|▎         | 16/570 [00:05<03:44,  2.47it/s]"
     ]
    },
    {
     "name": "stdout",
     "output_type": "stream",
     "text": [
      "Staffan Ling\n",
      "Bengt Andersson\n",
      "Staffan Ling\n",
      "Staffan Ling\n",
      "Staffan Ling\n",
      "Mark Levengood\n",
      "Tom Ljungman\n",
      "Mark Levengood\n",
      "Mark Levengood\n",
      "Kurt Olsson\n",
      "Kurt Olsson\n"
     ]
    },
    {
     "name": "stderr",
     "output_type": "stream",
     "text": [
      "\r",
      "  3%|▎         | 17/570 [00:05<03:32,  2.61it/s]"
     ]
    },
    {
     "name": "stdout",
     "output_type": "stream",
     "text": [
      "Staffan Ling\n",
      "Bengt Andersson\n",
      "Shanti Roney\n",
      "Rune Turesson\n",
      "Rune Turesson\n",
      "Staffan Ling\n",
      "Shanti Roney\n",
      "Rune Turesson\n",
      "Thore Skogman\n",
      "Staffan Ling\n",
      "Shanti Roney\n"
     ]
    },
    {
     "name": "stderr",
     "output_type": "stream",
     "text": [
      "\r",
      "  3%|▎         | 18/570 [00:05<03:18,  2.78it/s]"
     ]
    },
    {
     "name": "stdout",
     "output_type": "stream",
     "text": [
      "Rune Turesson\n",
      "Kent Andersson\n",
      "Staffan Ling\n",
      "Rune Turesson\n",
      "Shanti Roney\n",
      "Shanti Roney\n",
      "Shanti Roney\n",
      "Brasse Brännström\n",
      "Brasse Brännström\n",
      "Brasse Brännström\n",
      "Brasse Brännström\n"
     ]
    },
    {
     "name": "stderr",
     "output_type": "stream",
     "text": [
      "\r",
      "  3%|▎         | 19/570 [00:06<03:06,  2.95it/s]"
     ]
    },
    {
     "name": "stdout",
     "output_type": "stream",
     "text": [
      "Mark Levengood\n",
      "Katarina Ekholm\n",
      "Mark Levengood\n",
      "Mark Levengood\n",
      "Karl Axel Sjöblom\n",
      "Mark Levengood\n",
      "Mark Levengood\n",
      "Tove Jansson\n",
      "Torsten Nilsson\n",
      "Mark Levengood\n",
      "Alf Hambe\n"
     ]
    },
    {
     "name": "stderr",
     "output_type": "stream",
     "text": [
      "\r",
      "  4%|▎         | 20/570 [00:06<02:54,  3.16it/s]"
     ]
    },
    {
     "name": "stdout",
     "output_type": "stream",
     "text": [
      "Mark Levengood\n",
      "Katarina Ekholm\n",
      "Mark Levengood\n",
      "Mark Levengood\n",
      "Mark Levengood\n",
      "Mark Levengood\n",
      "Karl Axel Sjöblom\n",
      "Mark Levengood\n",
      "Mark Levengood\n",
      "Tove Jansson\n",
      "Kurt Olsson\n"
     ]
    },
    {
     "name": "stderr",
     "output_type": "stream",
     "text": [
      "\r",
      "  4%|▎         | 21/570 [00:06<03:02,  3.00it/s]"
     ]
    },
    {
     "name": "stdout",
     "output_type": "stream",
     "text": [
      "Kurt Olsson\n",
      "Lasse Brandeby\n",
      "Kurt Olsson\n",
      "Kurt Olsson\n",
      "Kurt Olsson\n",
      "Kurt Olsson\n",
      "Kurt Olsson\n",
      "Kurt Olsson\n",
      "Tom Ljungman\n",
      "Tommy Starck\n",
      "Mark Levengood\n"
     ]
    },
    {
     "name": "stderr",
     "output_type": "stream",
     "text": [
      "\r",
      "  4%|▍         | 22/570 [00:07<02:55,  3.13it/s]"
     ]
    },
    {
     "name": "stdout",
     "output_type": "stream",
     "text": [
      "Mark Levengood\n",
      "Katarina Ekholm\n",
      "Mark Levengood\n",
      "Tom Ljungman\n",
      "Mark Levengood\n",
      "Mark Levengood\n",
      "Kurt Olsson\n",
      "Kurt Olsson\n",
      "Torsten Nilsson\n",
      "Mark Levengood\n",
      "Alf Hambe\n"
     ]
    },
    {
     "name": "stderr",
     "output_type": "stream",
     "text": [
      "\r",
      "  4%|▍         | 23/570 [00:07<02:46,  3.28it/s]"
     ]
    },
    {
     "name": "stdout",
     "output_type": "stream",
     "text": [
      "Kurt Olsson\n",
      "Lasse Brandeby\n",
      "Kurt Olsson\n",
      "Kurt Olsson\n",
      "Keve Hjelm\n",
      "Shanti Roney\n",
      "Shanti Roney\n",
      "Shanti Roney\n",
      "Shanti Roney\n",
      "Shanti Roney\n",
      "Shanti Roney\n"
     ]
    },
    {
     "name": "stderr",
     "output_type": "stream",
     "text": [
      "\r",
      "  4%|▍         | 24/570 [00:07<02:43,  3.34it/s]"
     ]
    },
    {
     "name": "stdout",
     "output_type": "stream",
     "text": [
      "Shanti Roney\n",
      "Axel Zuber\n",
      "Shanti Roney\n",
      "Shanti Roney\n",
      "Shanti Roney\n",
      "Anne Nord-Kulle\n",
      "Anna-Lena Löfgren\n",
      "Bengt Roslund\n",
      "Tom Ljungman\n",
      "Sigurd Jörgensen\n",
      "Lars Weiss\n"
     ]
    },
    {
     "name": "stderr",
     "output_type": "stream",
     "text": [
      "\r",
      "  4%|▍         | 25/570 [00:08<02:56,  3.08it/s]"
     ]
    },
    {
     "name": "stdout",
     "output_type": "stream",
     "text": [
      "Curt Strömblad\n",
      "Rune Turesson\n",
      "Björn Hellberg\n",
      "Ingvar Oldsberg\n",
      "Björn Hellberg\n",
      "Ingvar Oldsberg\n",
      "Björn Hellberg\n",
      "Björn Hellberg\n",
      "Björn Hellberg\n",
      "Charlotte Perrelli\n"
     ]
    },
    {
     "name": "stderr",
     "output_type": "stream",
     "text": [
      "\r",
      "  5%|▍         | 26/570 [00:08<03:09,  2.87it/s]"
     ]
    },
    {
     "name": "stdout",
     "output_type": "stream",
     "text": [
      "Björn Hellberg\n",
      "Ingvar Oldsberg\n",
      "Björn Hellberg\n",
      "Björn Hellberg\n",
      "Ingvar Oldsberg\n",
      "Björn Hellberg\n",
      "Kjell-Åke Hansson\n",
      "Björn Hellberg\n",
      "Björn Hellberg\n",
      "Tommy Engstrand\n",
      "Ingvar Oldsberg\n"
     ]
    },
    {
     "name": "stderr",
     "output_type": "stream",
     "text": [
      "\r",
      "  5%|▍         | 27/570 [00:08<02:54,  3.11it/s]"
     ]
    },
    {
     "name": "stdout",
     "output_type": "stream",
     "text": [
      "Slipers\n",
      "Monica Forsberg\n",
      "Lasse Strömstedt\n",
      "Birgit Carlstén\n",
      "Sven Melander\n",
      "Sven Melander\n",
      "Sven Melander\n",
      "Sven Melander\n",
      "Sven Melander\n",
      "Sven Melander\n",
      "Sven Melander\n"
     ]
    },
    {
     "name": "stderr",
     "output_type": "stream",
     "text": [
      "\r",
      "  5%|▍         | 28/570 [00:09<02:49,  3.21it/s]"
     ]
    },
    {
     "name": "stdout",
     "output_type": "stream",
     "text": [
      "Sven Melander\n",
      "Åke Cato\n",
      "Peter Fischer\n",
      "Kåge Gimtell\n",
      "Sven \"Furtan\" Andersson\n",
      "Erik Carlsson\n",
      "Ingeborg Stille\n",
      "Lennart Bohlin\n",
      "Harry Lundberger\n",
      "Martin Ljung\n",
      "Curt Borgenstam\n"
     ]
    },
    {
     "name": "stderr",
     "output_type": "stream",
     "text": [
      "\r",
      "  5%|▌         | 29/570 [00:09<02:58,  3.04it/s]"
     ]
    },
    {
     "name": "stdout",
     "output_type": "stream",
     "text": [
      "Curt Borgenstam\n",
      "Folke Mannerstedt\n",
      "Bo Rehnberg\n",
      "Ernst Kirchsteiger\n",
      "Ernst Kirchsteiger\n",
      "Ernst Kirchsteiger\n",
      "Ernst Kirchsteiger\n",
      "Calle Ahlström\n",
      "Ernst Kirchsteiger\n",
      "Ernst Kirchsteiger\n",
      "Erik Hedenstedt\n"
     ]
    },
    {
     "name": "stderr",
     "output_type": "stream",
     "text": [
      "\r",
      "  5%|▌         | 30/570 [00:09<02:43,  3.30it/s]"
     ]
    },
    {
     "name": "stdout",
     "output_type": "stream",
     "text": [
      "Ernst Kirchsteiger\n",
      "Gila Bergqvist-Ulfung\n",
      "Ernst Kirchsteiger\n",
      "Astrid Lindgren\n",
      "Festfolket\n",
      "Astrid Lindgren\n",
      "Erik Bergsten\n",
      "Herman Lindqvist\n",
      "Herman Lindqvist\n",
      "Jean Baptiste Bernadotte\n",
      "Anders Gernandt\n"
     ]
    },
    {
     "name": "stderr",
     "output_type": "stream",
     "text": [
      "\r",
      "  5%|▌         | 31/570 [00:09<02:36,  3.45it/s]"
     ]
    },
    {
     "name": "stdout",
     "output_type": "stream",
     "text": [
      "Anders Gernandt\n",
      "Anders Gernandt\n",
      "Anders Gernandt\n",
      "Anders Gernandt\n",
      "Anders Gernandt\n",
      "Anders Gernandt\n",
      "Anders Gernandt\n",
      "Hans Alfredson\n",
      "Herman Lindqvist\n",
      "Gunnel Carlson\n"
     ]
    },
    {
     "name": "stderr",
     "output_type": "stream",
     "text": [
      "\r",
      "  6%|▌         | 32/570 [00:10<02:40,  3.35it/s]"
     ]
    },
    {
     "name": "stdout",
     "output_type": "stream",
     "text": [
      "Anders Gernandt\n",
      "Anders Gernandt\n",
      "Anders Gernandt\n",
      "Anders Gernandt\n",
      "Lars Åke Engblom\n",
      "Gunnel Carlson\n",
      "Jacob Hård\n",
      "Arne Hedlund\n",
      "Martin Berggren\n",
      "Arne Hedlund\n"
     ]
    },
    {
     "name": "stderr",
     "output_type": "stream",
     "text": [
      "\r",
      "  6%|▌         | 33/570 [00:10<02:47,  3.20it/s]"
     ]
    },
    {
     "name": "stdout",
     "output_type": "stream",
     "text": [
      "Arne Hedlund\n",
      "Måns Westfelt\n",
      "Arne Hedlund\n",
      "Anders Gernandt\n",
      "Erik Bergsten\n",
      "Erik Bergsten\n",
      "Erik Bergsten\n",
      "Ilgars Linde\n",
      "The Jam\n",
      "Max Martin\n",
      "Öivind Eigard\n"
     ]
    },
    {
     "name": "stderr",
     "output_type": "stream",
     "text": [
      "\r",
      "  6%|▌         | 34/570 [00:10<02:49,  3.17it/s]"
     ]
    },
    {
     "name": "stdout",
     "output_type": "stream",
     "text": [
      "Johan Sandström\n",
      "Jonas Hallberg\n",
      "Paal Wesenlund\n",
      "K G Larsson\n",
      "Bengt Bratt\n",
      "Bengt Bratt\n",
      "Bengt Bratt\n",
      "Ainbusk Singers\n",
      "Astrid Lindgren\n",
      "Christer Boustedt\n",
      "Anders Glenmark\n"
     ]
    },
    {
     "name": "stderr",
     "output_type": "stream",
     "text": [
      "\r",
      "  6%|▌         | 35/570 [00:11<02:56,  3.03it/s]"
     ]
    },
    {
     "name": "stdout",
     "output_type": "stream",
     "text": [
      "Ola Holmgren\n",
      "Rhapsody\n",
      "Sabu Martinez\n",
      "Björn Schüldt\n",
      "Red Mitchell\n",
      "Eric Ericson (f 1918)\n",
      "Eric Ericson (f 1918)\n",
      "Joakim Berg\n",
      "Kent\n",
      "Laila Westersund\n",
      "Kent\n"
     ]
    },
    {
     "name": "stderr",
     "output_type": "stream",
     "text": [
      "\r",
      "  6%|▋         | 36/570 [00:11<03:08,  2.84it/s]"
     ]
    },
    {
     "name": "stdout",
     "output_type": "stream",
     "text": [
      "Lasse Berghagen\n",
      "Bjarne Lundqvist\n",
      "Bjarne Lundqvist\n",
      "Per Blomquist\n",
      "Per Sinding-Larsen\n",
      "Kåge Gustafsson\n",
      "Kåge Gustafsson\n",
      "Magnus Uggla\n",
      "Håkan Hellström\n",
      "Bjarne Lundqvist\n",
      "Per Sinding-Larsen\n"
     ]
    },
    {
     "name": "stderr",
     "output_type": "stream",
     "text": [
      "\r",
      "  6%|▋         | 37/570 [00:11<02:48,  3.16it/s]"
     ]
    },
    {
     "name": "stdout",
     "output_type": "stream",
     "text": [
      "Hans Marklund\n",
      "Per Blomquist\n",
      "John Hiatt\n",
      "Hans Marklund\n",
      "Per Blomquist\n",
      "Eric Ericson (f 1918)\n",
      "Christina Holm\n",
      "Margareta Söderberg\n",
      "Fred Åkerström\n",
      "Daniel Helldén\n",
      "Stefan Demert\n"
     ]
    },
    {
     "name": "stderr",
     "output_type": "stream",
     "text": [
      "\r",
      "  7%|▋         | 38/570 [00:12<02:39,  3.33it/s]"
     ]
    },
    {
     "name": "stdout",
     "output_type": "stream",
     "text": [
      "Lars Gustafsson\n",
      "Lars Gustafsson\n",
      "Lars Gustafsson\n",
      "Lars Gustafsson\n",
      "Lars Gustafsson\n",
      "Lars Gustafsson\n",
      "Lars Gustafsson\n",
      "Håkan Hellström\n",
      "Per Sinding-Larsen\n",
      "Per Sinding-Larsen\n"
     ]
    },
    {
     "name": "stderr",
     "output_type": "stream",
     "text": [
      "\r",
      "  7%|▋         | 39/570 [00:12<02:43,  3.25it/s]"
     ]
    },
    {
     "name": "stdout",
     "output_type": "stream",
     "text": [
      "Per Sinding-Larsen\n",
      "Ika Johannesson\n",
      "Per Sinding-Larsen\n",
      "Per Sinding-Larsen\n",
      "Per Sinding-Larsen\n",
      "Sahara Hotnights\n",
      "Hoola Bandoola Band\n",
      "Olle Ljungström\n",
      "Duran Duran\n",
      "Erik Fichtelius\n",
      "Tomas Tengby\n"
     ]
    },
    {
     "name": "stderr",
     "output_type": "stream",
     "text": [
      "\r",
      "  7%|▋         | 40/570 [00:12<02:58,  2.98it/s]"
     ]
    },
    {
     "name": "stdout",
     "output_type": "stream",
     "text": [
      "Lasse Holm\n",
      "Magnus Härenstam\n",
      "Max Martin\n",
      "Bjarne Lundqvist\n",
      "Staffan Hellstrand\n",
      "Per Blomquist\n",
      "Hans Marklund\n",
      "Anne-Marie Ameln\n",
      "Cornelis Vreeswijk\n",
      "Beppe Wolgers\n",
      "Olle Ljungström\n"
     ]
    },
    {
     "name": "stderr",
     "output_type": "stream",
     "text": [
      "\r",
      "  7%|▋         | 41/570 [00:13<03:07,  2.83it/s]"
     ]
    },
    {
     "name": "stdout",
     "output_type": "stream",
     "text": [
      "Sigurd Jörgensen\n",
      "Bernt Nilsson\n",
      "Sara Edwardsson\n",
      "Freddie Wadling\n",
      "Kent\n",
      "Philip Zandén\n",
      "Christer Boustedt\n",
      "Christer Boustedt\n",
      "Christer Boustedt\n",
      "Christer Boustedt\n",
      "Christer Boustedt\n"
     ]
    },
    {
     "name": "stderr",
     "output_type": "stream",
     "text": [
      "\r",
      "  7%|▋         | 42/570 [00:13<02:56,  2.99it/s]"
     ]
    },
    {
     "name": "stdout",
     "output_type": "stream",
     "text": [
      "Christer Boustedt\n",
      "Robert Gustafsson\n",
      "Christer Boustedt\n",
      "Christer Boustedt\n",
      "Christer Boustedt\n",
      "Christer Boustedt\n",
      "Christer Boustedt\n",
      "Christer Boustedt\n",
      "Pippi Långstrump\n",
      "Ola Holmgren\n",
      "Olof Palme\n"
     ]
    },
    {
     "name": "stderr",
     "output_type": "stream",
     "text": [
      "\r",
      "  8%|▊         | 43/570 [00:13<02:51,  3.08it/s]"
     ]
    },
    {
     "name": "stdout",
     "output_type": "stream",
     "text": [
      "Ingrid Dahlberg\n",
      "Ulf Adelsohn\n",
      "Ann-Louise Hanson\n",
      "Per Sinding-Larsen\n",
      "Depeche Mode\n",
      "Lennart Wetterholm\n",
      "Lennart Wetterholm\n",
      "Tomas Tengby\n",
      "Jan Nygren\n",
      "The Soundtrack of Our Lives\n",
      "Orup\n"
     ]
    },
    {
     "name": "stderr",
     "output_type": "stream",
     "text": [
      "\r",
      "  8%|▊         | 44/570 [00:14<02:40,  3.27it/s]"
     ]
    },
    {
     "name": "stdout",
     "output_type": "stream",
     "text": [
      "Shan Atci\n",
      "Tomas Hall\n",
      "Lotta Engberg\n",
      "Håkan Alexandersson\n",
      "Håkan Alexandersson\n",
      "Håkan Alexandersson\n",
      "Håkan Alexandersson\n",
      "Jan Lööf\n",
      "Jan Lööf\n",
      "Håkan Alexandersson\n",
      "Jan Lööf\n"
     ]
    },
    {
     "name": "stderr",
     "output_type": "stream",
     "text": [
      "\r",
      "  8%|▊         | 45/570 [00:14<02:32,  3.44it/s]"
     ]
    },
    {
     "name": "stdout",
     "output_type": "stream",
     "text": [
      "Håkan Alexandersson\n",
      "Carl Johan de Geer\n",
      "Inez Svensson\n",
      "Jan Lööf\n",
      "Håkan Alexandersson\n",
      "Staffan Hallerstam\n",
      "Staffan Hallerstam\n",
      "Staffan Hallerstam\n",
      "Staffan Hallerstam\n",
      "Staffan Hallerstam\n",
      "Staffan Hallerstam\n"
     ]
    },
    {
     "name": "stderr",
     "output_type": "stream",
     "text": [
      "\r",
      "  8%|▊         | 46/570 [00:14<02:28,  3.53it/s]"
     ]
    },
    {
     "name": "stdout",
     "output_type": "stream",
     "text": [
      "Staffan Hallerstam\n",
      "Olle Myrberg\n",
      "Beppe Wolgers\n",
      "Åke Strömmer\n",
      "Magnus Bengtsson\n",
      "Astrid Lindgren\n",
      "Bob Dylan\n",
      "Astrid Lindgren\n",
      "Astrid Lindgren\n",
      "Carl-Ingemar Perstad\n",
      "Carl-Ingemar Perstad\n"
     ]
    },
    {
     "name": "stderr",
     "output_type": "stream",
     "text": [
      "\r",
      "  8%|▊         | 47/570 [00:14<02:27,  3.55it/s]"
     ]
    },
    {
     "name": "stdout",
     "output_type": "stream",
     "text": [
      "Göran Hellsin\n",
      "Åke Grönberg\n",
      "Celine Dion\n",
      "Humle och Dumle\n",
      "Susann Frennberg\n",
      "Susann Frennberg\n",
      "Susann Frennberg\n",
      "Susann Frennberg\n",
      "Susann Frennberg\n",
      "Susann Frennberg\n",
      "Susann Frennberg\n"
     ]
    },
    {
     "name": "stderr",
     "output_type": "stream",
     "text": [
      "\r",
      "  8%|▊         | 48/570 [00:15<02:25,  3.59it/s]"
     ]
    },
    {
     "name": "stdout",
     "output_type": "stream",
     "text": [
      "Ika Nord\n",
      "Ika Nord\n",
      "Ika Nord\n",
      "Ika Nord\n",
      "Ika Nord\n",
      "Ika Nord\n",
      "Ika Nord\n",
      "Ika Nord\n",
      "Ika Nord\n",
      "Ika Nord\n"
     ]
    },
    {
     "name": "stderr",
     "output_type": "stream",
     "text": [
      "\r",
      "  9%|▊         | 49/570 [00:15<02:22,  3.65it/s]"
     ]
    },
    {
     "name": "stdout",
     "output_type": "stream",
     "text": [
      "Tina Nordström\n",
      "Tomas Tengby\n",
      "Tina Nordström\n",
      "Tina Nordström\n",
      "Tina Nordström\n",
      "Hans-Uno Bengtsson\n",
      "Tina Nordström\n",
      "Tina Nordström\n",
      "Tina Nordström\n",
      "Tina Nordström\n",
      "Tina Nordström\n"
     ]
    },
    {
     "name": "stderr",
     "output_type": "stream",
     "text": [
      "\r",
      "  9%|▉         | 50/570 [00:15<02:18,  3.76it/s]"
     ]
    },
    {
     "name": "stdout",
     "output_type": "stream",
     "text": [
      "Tina Nordström\n",
      "Tomas Tengby\n",
      "Tina Nordström\n",
      "Tina Nordström\n",
      "Tina Nordström\n",
      "Tina Nordström\n",
      "Tina Nordström\n",
      "Gunilla Röör\n",
      "Gunilla Röör\n",
      "Gunilla Röör\n",
      "Gunilla Röör\n"
     ]
    },
    {
     "name": "stderr",
     "output_type": "stream",
     "text": [
      "\r",
      "  9%|▉         | 51/570 [00:15<02:17,  3.77it/s]"
     ]
    },
    {
     "name": "stdout",
     "output_type": "stream",
     "text": [
      "Gunilla Röör\n",
      "Ulla Skoog\n",
      "Gunilla Röör\n",
      "Guns N' Roses\n",
      "Peter Dalle\n",
      "Lena Endre\n",
      "Lena Endre\n",
      "Lena Endre\n",
      "Karin Arvidsson\n",
      "Karin Arvidsson\n",
      "Karin Arvidsson\n"
     ]
    },
    {
     "name": "stderr",
     "output_type": "stream",
     "text": [
      "\r",
      "  9%|▉         | 52/570 [00:16<02:37,  3.29it/s]"
     ]
    },
    {
     "name": "stdout",
     "output_type": "stream",
     "text": [
      "Karin Arvidsson\n",
      "Hüsseyin Ayata\n",
      "Karin Arvidsson\n",
      "Göran Willis\n",
      "Göran Willis\n",
      "Karin Wilhelmson\n",
      "Johan Hagelbäck\n",
      "Johan Hagelbäck\n",
      "Sixten Svensson\n",
      "Barbara Enander\n",
      "Anna-Lena Brundin\n"
     ]
    },
    {
     "name": "stderr",
     "output_type": "stream",
     "text": [
      "\r",
      "  9%|▉         | 53/570 [00:16<02:53,  2.97it/s]"
     ]
    },
    {
     "name": "stdout",
     "output_type": "stream",
     "text": [
      "Sixten Svensson\n",
      "Jan de Laval\n",
      "Annika Dopping\n",
      "Jan de Laval\n",
      "Johan Helmich Roman\n",
      "Stikkan Anderson\n",
      "Christer Glenning\n",
      "Christer Glenning\n",
      "Kerstin Holm\n",
      "Jarl Alfredius\n",
      "Torbjörn Olausson\n"
     ]
    },
    {
     "name": "stderr",
     "output_type": "stream",
     "text": [
      "\r",
      "  9%|▉         | 54/570 [00:17<02:43,  3.15it/s]"
     ]
    },
    {
     "name": "stdout",
     "output_type": "stream",
     "text": [
      "Fredde Granberg\n",
      "Peter Settman\n",
      "Anna-Lena Strindlund\n",
      "Fredde Granberg\n",
      "Anna Björk\n",
      "Camilla Kvartoft\n",
      "Fredde Granberg\n",
      "Annika Lantz\n",
      "Fredde Granberg\n",
      "Fredde Granberg\n",
      "Anna-Lena Strindlund\n"
     ]
    },
    {
     "name": "stderr",
     "output_type": "stream",
     "text": [
      "\r",
      " 10%|▉         | 55/570 [00:17<03:05,  2.78it/s]"
     ]
    },
    {
     "name": "stdout",
     "output_type": "stream",
     "text": [
      "Pär Lorentzon\n",
      "Gry Forsell\n",
      "Per Dahlberg\n",
      "Camilla Kvartoft\n",
      "Gila Bergqvist-Ulfung\n",
      "Leif Aldal\n",
      "Berit Palm\n",
      "Kronprinsessan Victoria\n",
      "Olyckan\n",
      "Janne Schaffer\n",
      "Janne Schaffer\n"
     ]
    },
    {
     "name": "stderr",
     "output_type": "stream",
     "text": [
      "\r",
      " 10%|▉         | 56/570 [00:17<02:50,  3.01it/s]"
     ]
    },
    {
     "name": "stdout",
     "output_type": "stream",
     "text": [
      "August Strindberg\n",
      "Carl Billquist\n",
      "Bo Holmström\n",
      "Örjan Öberg\n",
      "Roland Jansson\n",
      "Jan-Erik Göransson\n",
      "Lasse Berghagen\n",
      "Lasse Berghagen\n",
      "Lasse Berghagen\n",
      "Lasse Berghagen\n"
     ]
    },
    {
     "name": "stderr",
     "output_type": "stream",
     "text": [
      "\r",
      " 10%|█         | 57/570 [00:18<02:49,  3.02it/s]"
     ]
    },
    {
     "name": "stdout",
     "output_type": "stream",
     "text": [
      "Lasse Berghagen\n",
      "Lennart Swahn\n",
      "Eva Hörnfeldt\n",
      "Magnus Bejmar\n",
      "Lars Ek\n",
      "Pälle Näver\n",
      "Lasse Holmqvist\n",
      "Lasse Holmqvist\n",
      "Tapio Tuominen\n",
      "Gun Hägglund\n"
     ]
    },
    {
     "name": "stderr",
     "output_type": "stream",
     "text": [
      "\r",
      " 10%|█         | 58/570 [00:18<02:49,  3.03it/s]"
     ]
    },
    {
     "name": "stdout",
     "output_type": "stream",
     "text": [
      "Lars Tilling\n",
      "Kjell Åke Hansson\n",
      "Olav Sandström\n",
      "Sylvia Vrethammar\n",
      "Anders Gernandt\n",
      "Harry Schein\n",
      "Malena Ivarsson\n",
      "Kjell-Olof Feldt\n",
      "Leif Boork\n",
      "Siewert Öholm\n",
      "Björn Gillberg\n"
     ]
    },
    {
     "name": "stderr",
     "output_type": "stream",
     "text": [
      "\r",
      " 10%|█         | 59/570 [00:18<02:58,  2.87it/s]"
     ]
    },
    {
     "name": "stdout",
     "output_type": "stream",
     "text": [
      "Hagge Geigert\n",
      "Bert Karlsson\n",
      "Siewert Öholm\n",
      "Siewert Öholm\n",
      "Siewert Öholm\n",
      "Siewert Öholm\n",
      "Siewert Öholm\n",
      "Stefan Demert\n",
      "Bob Arno\n",
      "Ronnie Gardiner\n",
      "Mikael Neumann\n"
     ]
    },
    {
     "name": "stderr",
     "output_type": "stream",
     "text": [
      "\r",
      " 11%|█         | 60/570 [00:19<03:05,  2.75it/s]"
     ]
    },
    {
     "name": "stdout",
     "output_type": "stream",
     "text": [
      "Stikkan Anderson\n",
      "Bengt Bedrup\n",
      "Ola Thörngren\n",
      "Lars Tilling\n",
      "Hagge Geigert\n",
      "Sam Nilsson\n",
      "Christina Indrenius-Zalewski\n",
      "Gunneli Leistam\n",
      "Erik Carlsson\n",
      "Gunneli Leistam\n",
      "Gunneli Leistam\n"
     ]
    },
    {
     "name": "stderr",
     "output_type": "stream",
     "text": [
      "\r",
      " 11%|█         | 61/570 [00:19<02:46,  3.05it/s]"
     ]
    },
    {
     "name": "stdout",
     "output_type": "stream",
     "text": [
      "Anna Maria Lenngren\n",
      "Margaretha Krook\n",
      "Bibi Andersson\n",
      "Karin Boye\n",
      "Gunneli Leistam\n",
      "Magnus Bergqvist\n",
      "Gunilla Nilars\n",
      "Täppas Fogelberg\n",
      "Franco Battiato\n",
      "Lena Fürst\n",
      "Lena Fürst\n"
     ]
    },
    {
     "name": "stderr",
     "output_type": "stream",
     "text": [
      "\r",
      " 11%|█         | 62/570 [00:19<02:38,  3.21it/s]"
     ]
    },
    {
     "name": "stdout",
     "output_type": "stream",
     "text": [
      "Täppas Fogelberg\n",
      "Jurij Nikolajev\n",
      "Täppas Fogelberg\n",
      "Täppas Fogelberg\n",
      "Tanita Tikaram\n",
      "Ingemar Odlander\n",
      "Arne Jakobsson\n",
      "Anne-Marie Dahlgren\n",
      "Harriet Andersson\n",
      "Olle Mannberg\n",
      "Carl Johan Svanfeldt\n"
     ]
    },
    {
     "name": "stderr",
     "output_type": "stream",
     "text": [
      "\r",
      " 11%|█         | 63/570 [00:20<02:29,  3.39it/s]"
     ]
    },
    {
     "name": "stdout",
     "output_type": "stream",
     "text": [
      "Åsa Stöckel\n",
      "Erik Dalunde\n",
      "Mats Johansson\n",
      "Göran Willis\n",
      "Ralph Erskine\n",
      "Göran Willis\n",
      "Harald Norbelie\n",
      "Harald Norbelie\n",
      "Göran Willis\n",
      "Göran Willis\n"
     ]
    },
    {
     "name": "stderr",
     "output_type": "stream",
     "text": [
      "\r",
      " 11%|█         | 64/570 [00:20<02:21,  3.58it/s]"
     ]
    },
    {
     "name": "stdout",
     "output_type": "stream",
     "text": [
      "Harald Norbelie\n",
      "Göran Willis\n",
      "Erik Bergsten\n",
      "Erik Bergsten\n",
      "Erik Bergsten\n",
      "Erik Bergsten\n",
      "Erik Bergsten\n",
      "Erik Bergsten\n",
      "Erik Bergsten\n",
      "Erik Bergsten\n",
      "Kjerstin Dellert\n"
     ]
    },
    {
     "name": "stderr",
     "output_type": "stream",
     "text": [
      "\r",
      " 11%|█▏        | 65/570 [00:20<02:17,  3.68it/s]"
     ]
    },
    {
     "name": "stdout",
     "output_type": "stream",
     "text": [
      "Curt-Eric Holmquist\n",
      "Tage Erlander\n",
      "Lasse Sarri\n",
      "Roland Hjelte\n",
      "Jan Pethrus\n",
      "Curt Eric Holmquist\n",
      "Lukas Bonnier\n",
      "Kjerstin Dellert\n",
      "Börje Gustavsson\n",
      "Sune Nordgren\n",
      "Peter Ström\n"
     ]
    },
    {
     "name": "stderr",
     "output_type": "stream",
     "text": [
      "\r",
      " 12%|█▏        | 66/570 [00:20<02:25,  3.46it/s]"
     ]
    },
    {
     "name": "stdout",
     "output_type": "stream",
     "text": [
      "Peter Ström\n",
      "Leonard Eek\n",
      "Peter Ström\n",
      "Leonard Eek\n",
      "Peter Ström\n",
      "Cecilia Bruce\n",
      "Anna-Britta Holm-Larsson\n",
      "Birgitta von Otter\n",
      "Hans Dahlman\n",
      "Torbjörn Fälldin\n",
      "Jörgen Mörnbäck\n"
     ]
    },
    {
     "name": "stderr",
     "output_type": "stream",
     "text": [
      "\r",
      " 12%|█▏        | 67/570 [00:21<02:20,  3.58it/s]"
     ]
    },
    {
     "name": "stdout",
     "output_type": "stream",
     "text": [
      "Jonas Gardell\n",
      "Adde Malmberg\n",
      "Eva Dahlgren\n",
      "Bizazz\n",
      "Paula Abdul\n",
      "Agnetha Fältskog\n",
      "Göran Zachrisson\n",
      "Bengt Gustafsson\n",
      "Olle Hagström\n",
      "Gunilla Nilars\n"
     ]
    },
    {
     "name": "stderr",
     "output_type": "stream",
     "text": [
      "\r",
      " 12%|█▏        | 68/570 [00:21<02:20,  3.56it/s]"
     ]
    },
    {
     "name": "stdout",
     "output_type": "stream",
     "text": [
      "Anna-Britta Holm-Larsson\n",
      "Henryk Zwolinski\n",
      "Magnus Uggla Band\n",
      "Ingemar Stenmark\n",
      "Ingemar Stenmark\n",
      "Jan Guillou\n",
      "Ilon Wikland\n",
      "Ilon Wikland\n",
      "Berit Nygren\n",
      "Ilon Wikland\n",
      "Ilon Wikland\n"
     ]
    },
    {
     "name": "stderr",
     "output_type": "stream",
     "text": [
      "\r",
      " 12%|█▏        | 69/570 [00:21<02:44,  3.04it/s]"
     ]
    },
    {
     "name": "stdout",
     "output_type": "stream",
     "text": [
      "Ilon Wikland\n",
      "Berit Nygren\n",
      "Ilon Wikland\n",
      "Ilon Wikland\n",
      "Ilon Wikland\n",
      "Ilon Wikland\n",
      "Jack Daniel's band\n",
      "Kåge Gimtell\n",
      "Elisabeth Andreassen\n",
      "Kåge Gimtell\n",
      "Kentucky\n"
     ]
    },
    {
     "name": "stderr",
     "output_type": "stream",
     "text": [
      "\r",
      " 12%|█▏        | 70/570 [00:22<02:29,  3.34it/s]"
     ]
    },
    {
     "name": "stdout",
     "output_type": "stream",
     "text": [
      "Elsa Magnusson\n",
      "Anita Dahlberg\n",
      "Hans Abramson\n",
      "Hans Abramson\n",
      "Jonas Olsson\n",
      "Bo Holmström\n",
      "Lasse Holmqvist\n",
      "Cecilia Nyberg\n",
      "Beppe Wolgers\n"
     ]
    },
    {
     "name": "stderr",
     "output_type": "stream",
     "text": [
      "\r",
      " 12%|█▏        | 71/570 [00:22<02:23,  3.48it/s]"
     ]
    },
    {
     "name": "stdout",
     "output_type": "stream",
     "text": [
      "Beppe Wolgers\n",
      "Ulla Berglund\n",
      "Beppe Wolgers\n",
      "Beppe Wolgers\n",
      "Beppe Wolgers\n",
      "Beppe Wolgers\n",
      "Beppe Wolgers\n",
      "Beppe Wolgers\n",
      "Beppe Wolgers\n",
      "Beppe Wolgers\n",
      "Åke Söderqvist\n"
     ]
    },
    {
     "name": "stderr",
     "output_type": "stream",
     "text": [
      "\r",
      " 13%|█▎        | 72/570 [00:22<02:27,  3.36it/s]"
     ]
    },
    {
     "name": "stdout",
     "output_type": "stream",
     "text": [
      "Edvard Matz\n",
      "Beppe Wolgers\n",
      "Edvard Matz\n",
      "Åke Söderqvist\n",
      "Beppe Wolgers\n",
      "Ann Britt Ryd Pettersson\n",
      "Gunnel Linde\n",
      "Gunnel Linde\n",
      "Gunnel Linde\n",
      "Gunnel Linde\n",
      "Gunnel Linde\n"
     ]
    },
    {
     "name": "stderr",
     "output_type": "stream",
     "text": [
      "\r",
      " 13%|█▎        | 73/570 [00:22<02:21,  3.51it/s]"
     ]
    },
    {
     "name": "stdout",
     "output_type": "stream",
     "text": [
      "Gunnel Linde\n",
      "Ann-Sofi Nilsson\n",
      "Ardy Strüwer\n",
      "Bo Strömstedt\n",
      "Bo Strömstedt\n",
      "Bo Strömstedt\n",
      "Bo Strömstedt\n",
      "Bo Strömstedt\n",
      "Bo Strömstedt\n",
      "Bo Strömstedt\n",
      "Bo Strömstedt\n"
     ]
    },
    {
     "name": "stderr",
     "output_type": "stream",
     "text": [
      "\r",
      " 13%|█▎        | 74/570 [00:23<02:21,  3.51it/s]"
     ]
    },
    {
     "name": "stdout",
     "output_type": "stream",
     "text": [
      "Bo Strömstedt\n",
      "Bo Strömstedt\n",
      "Mikael Rickfors\n",
      "Staffan Bengtsson\n",
      "Staffan Bengtsson\n",
      "Staffan Bengtsson\n",
      "Staffan Bengtsson\n",
      "Staffan Bengtsson\n",
      "Staffan Bengtsson\n",
      "Staffan Bengtsson\n"
     ]
    },
    {
     "name": "stderr",
     "output_type": "stream",
     "text": [
      "\r",
      " 13%|█▎        | 75/570 [00:23<02:19,  3.55it/s]"
     ]
    },
    {
     "name": "stdout",
     "output_type": "stream",
     "text": [
      "Staffan Bengtsson\n",
      "Göran Willis\n",
      "Staffan Bengtsson\n",
      "Carl-Magnus Dellow\n",
      "Pierre Lindstedt\n",
      "Per Eggers\n",
      "Pierre Lindstedt\n",
      "Margareta Stone\n",
      "Margareta Stone\n",
      "Daniel Alfredson\n",
      "Rachel Molin\n"
     ]
    },
    {
     "name": "stderr",
     "output_type": "stream",
     "text": [
      "\r",
      " 13%|█▎        | 76/570 [00:23<02:21,  3.50it/s]"
     ]
    },
    {
     "name": "stdout",
     "output_type": "stream",
     "text": [
      "Kalle Westerdahl\n",
      "Kelly Tainton\n",
      "Mikael Syrén\n",
      "Kalle Westerdahl\n",
      "Sofia Rönnegård\n",
      "Mikael Syrén\n",
      "Mikael Syrén\n",
      "Martin Ahlberg\n",
      "Mikael Syrén\n",
      "Kalle Westerdahl\n",
      "Mats Rudal\n"
     ]
    },
    {
     "name": "stderr",
     "output_type": "stream",
     "text": [
      "\r",
      " 14%|█▎        | 77/570 [00:24<02:24,  3.42it/s]"
     ]
    },
    {
     "name": "stdout",
     "output_type": "stream",
     "text": [
      "Claes Elfsberg\n",
      "Sven Lindholm\n",
      "Lennart Jelbe\n",
      "Lennart Jelbe\n",
      "Lennart Jelbe\n",
      "Lennart Jelbe\n",
      "Lennart Jelbe\n",
      "Sofia Helin\n",
      "Sofia Helin\n",
      "Özz Nujen\n"
     ]
    },
    {
     "name": "stderr",
     "output_type": "stream",
     "text": [
      "\r",
      " 14%|█▎        | 78/570 [00:24<02:28,  3.31it/s]"
     ]
    },
    {
     "name": "stdout",
     "output_type": "stream",
     "text": [
      "Sofia Helin\n",
      "Tobias G Kronqvist\n",
      "Sofia Helin\n",
      "Ivan Mathias Petersson\n",
      "Mats Randér\n",
      "Magnus Skogsberg\n",
      "Karin Weywadt\n",
      "Donald Högberg\n",
      "Lauritz Falk\n",
      "Lauritz Falk\n",
      "Lauritz Falk\n"
     ]
    },
    {
     "name": "stderr",
     "output_type": "stream",
     "text": [
      "\r",
      " 14%|█▍        | 79/570 [00:24<02:25,  3.38it/s]"
     ]
    },
    {
     "name": "stdout",
     "output_type": "stream",
     "text": [
      "Lauritz Falk\n",
      "Willy Peters\n",
      "Lauritz Falk\n",
      "Lauritz Falk\n",
      "Lauritz Falk\n",
      "Ulf Eklund\n",
      "Michael Nyqvist\n",
      "Michael Nyqvist\n",
      "Seth Ericsson\n",
      "Bojan Westin\n",
      "Evert Jansson\n"
     ]
    },
    {
     "name": "stderr",
     "output_type": "stream",
     "text": [
      "\r",
      " 14%|█▍        | 80/570 [00:24<02:23,  3.41it/s]"
     ]
    },
    {
     "name": "stdout",
     "output_type": "stream",
     "text": [
      "Mats Helin\n",
      "Ulla Skoog\n",
      "Bojan Westin\n",
      "Christer Glenning\n",
      "Carola Häggkvist\n",
      "Michael Stolt\n",
      "Katrin Sundberg\n",
      "Lili & Susie\n",
      "Owe Gustafson\n",
      "Owe Gustafson\n",
      "Owe Gustafson\n"
     ]
    },
    {
     "name": "stderr",
     "output_type": "stream",
     "text": [
      "\r",
      " 14%|█▍        | 81/570 [00:25<02:22,  3.43it/s]"
     ]
    },
    {
     "name": "stdout",
     "output_type": "stream",
     "text": [
      "Owe Gustafson\n",
      "Bengt Ernryd\n",
      "Owe Gustafson\n",
      "Owe Gustafson\n",
      "Owe Gustafson\n",
      "Owe Gustafson\n",
      "Owe Gustafson\n",
      "Owe Gustafson\n",
      "Eva Remaeus\n",
      "Eva Remaeus\n",
      "Owe Gustafson\n"
     ]
    },
    {
     "name": "stderr",
     "output_type": "stream",
     "text": [
      "\r",
      " 14%|█▍        | 82/570 [00:25<02:18,  3.52it/s]"
     ]
    },
    {
     "name": "stdout",
     "output_type": "stream",
     "text": [
      "Owe Gustafson\n",
      "Bengt Ernryd\n",
      "Owe Gustafson\n",
      "Lars Haglund\n",
      "Owe Gustafson\n",
      "Owe Gustafson\n",
      "Owe Gustafson\n",
      "Owe Gustafson\n",
      "Owe Gustafson\n",
      "Bengt Ernryd\n",
      "Owe Gustafson\n"
     ]
    },
    {
     "name": "stderr",
     "output_type": "stream",
     "text": [
      "\r",
      " 15%|█▍        | 83/570 [00:25<02:19,  3.48it/s]"
     ]
    },
    {
     "name": "stdout",
     "output_type": "stream",
     "text": [
      "Owe Gustafson\n",
      "Bengt Ernryd\n",
      "Owe Gustafson\n",
      "Owe Gustafson\n",
      "Owe Gustafson\n",
      "Owe Gustafson\n",
      "Hans Alfredson\n",
      "Peter Falck\n",
      "Eva Marling\n",
      "Tommy Johnson\n",
      "David Bowie\n"
     ]
    },
    {
     "name": "stderr",
     "output_type": "stream",
     "text": [
      "\r",
      " 15%|█▍        | 84/570 [00:26<02:24,  3.37it/s]"
     ]
    },
    {
     "name": "stdout",
     "output_type": "stream",
     "text": [
      "Eric Ericson (f 1918)\n",
      "Bengt Feldreich\n",
      "Thomas Borgström\n",
      "Dag Vag\n",
      "Gösta Ekman\n",
      "Fredrik Ådén\n",
      "Marie Fredriksson\n",
      "Sara Edwardsson\n",
      "Bertil Svensson\n",
      "Tomas Ledin\n"
     ]
    },
    {
     "name": "stderr",
     "output_type": "stream",
     "text": [
      "\r",
      " 15%|█▍        | 85/570 [00:26<02:41,  3.01it/s]"
     ]
    },
    {
     "name": "stdout",
     "output_type": "stream",
     "text": [
      "Victor Ström\n",
      "Sandra Medina\n",
      "Galenskaparna\n",
      "Tomas Norström\n",
      "Jonas Cornell\n",
      "Malin Hülphers\n",
      "Janne Schaffer\n",
      "Bengt Bratt\n",
      "Lotta Unger\n",
      "Åke Falck\n",
      "Hélène Benno\n"
     ]
    },
    {
     "name": "stderr",
     "output_type": "stream",
     "text": [
      "\r",
      " 15%|█▌        | 86/570 [00:26<02:52,  2.81it/s]"
     ]
    },
    {
     "name": "stdout",
     "output_type": "stream",
     "text": [
      "Per Berglund\n",
      "Tomas Arvidsson\n",
      "Per Berglund\n",
      "Tomas Arvidsson\n",
      "Per Berglund\n",
      "Per Berglund\n",
      "Tomas Arvidsson\n",
      "Haakon Svenson\n",
      "Peter Falck\n",
      "Pia Sundhage\n",
      "Pia Sundhage\n"
     ]
    },
    {
     "name": "stderr",
     "output_type": "stream",
     "text": [
      "\r",
      " 15%|█▌        | 87/570 [00:27<02:47,  2.88it/s]"
     ]
    },
    {
     "name": "stdout",
     "output_type": "stream",
     "text": [
      "Alien\n",
      "Pia Sundhage\n",
      "Pia Sundhage\n",
      "Annete Börjesson\n",
      "Roman Greenbaum\n",
      "Thomas Di Leva\n",
      "Mats Claesson\n",
      "Irma Schultz\n",
      "Gösta Ekman\n",
      "Lars Bill Lundholm\n",
      "Bo Hermansson\n"
     ]
    },
    {
     "name": "stderr",
     "output_type": "stream",
     "text": [
      "\r",
      " 15%|█▌        | 88/570 [00:27<02:32,  3.16it/s]"
     ]
    },
    {
     "name": "stdout",
     "output_type": "stream",
     "text": [
      "Olle Häger\n",
      "Hans Villius\n",
      "P C Jersild\n",
      "Ulf Löfgren\n",
      "Ulf Löfgren\n",
      "Ulf Löfgren\n",
      "Ulf Löfgren\n",
      "Ulf Löfgren\n",
      "Sanna Nielsen\n",
      "Dag Strömqvist\n",
      "Dag Strömqvist\n"
     ]
    },
    {
     "name": "stderr",
     "output_type": "stream",
     "text": [
      "\r",
      " 16%|█▌        | 89/570 [00:27<02:50,  2.82it/s]"
     ]
    },
    {
     "name": "stdout",
     "output_type": "stream",
     "text": [
      "Dag Strömqvist\n",
      "Anna Fredriksson\n",
      "Henrik S Järrel\n",
      "Dag Strömqvist\n",
      "Gösta Knutsson\n",
      "Gösta Knutsson\n",
      "Anna Fredriksson\n",
      "Jonas Frykberg\n",
      "Gösta Knutsson\n",
      "Gösta Knutsson\n",
      "Allan Schulman\n"
     ]
    },
    {
     "name": "stderr",
     "output_type": "stream",
     "text": [
      "\r",
      " 16%|█▌        | 90/570 [00:28<02:58,  2.69it/s]"
     ]
    },
    {
     "name": "stdout",
     "output_type": "stream",
     "text": [
      "Britt Lidne\n",
      "Bengt Hallberg\n",
      "Bo Billtén\n",
      "Lena Endre\n",
      "David Bowie\n",
      "Ulf Wahlström\n",
      "Ulf Björlin\n",
      "Jackie Söderman\n",
      "Jackie Söderman\n",
      "Jackie Söderman\n",
      "Jackie Söderman\n"
     ]
    },
    {
     "name": "stderr",
     "output_type": "stream",
     "text": [
      "\r",
      " 16%|█▌        | 91/570 [00:28<03:02,  2.62it/s]"
     ]
    },
    {
     "name": "stdout",
     "output_type": "stream",
     "text": [
      "Jackie Söderman\n",
      "Bengt Bratt\n",
      "Jackie Söderman\n",
      "Karin Huldt\n",
      "Göte Fyhring\n",
      "Roland Bengtsson\n",
      "Fred Asp\n",
      "Per Olov Enquist\n",
      "Dee Murray\n",
      "Olle Nordemar\n"
     ]
    },
    {
     "name": "stderr",
     "output_type": "stream",
     "text": [
      "\r",
      " 16%|█▌        | 92/570 [00:29<02:47,  2.85it/s]"
     ]
    },
    {
     "name": "stdout",
     "output_type": "stream",
     "text": [
      "Jim Jidhed\n",
      "Maria Hagberg\n",
      "Marie Fredriksson\n",
      "Marie Fredriksson\n",
      "Roxette\n",
      "Roxette\n",
      "Henryk Lipp\n",
      "Kronprinsessan Victoria\n",
      "Lennart \"Nacka\" Skoglund\n",
      "Johan Rabaeus\n"
     ]
    },
    {
     "name": "stderr",
     "output_type": "stream",
     "text": [
      "\r",
      " 16%|█▋        | 93/570 [00:29<02:36,  3.05it/s]"
     ]
    },
    {
     "name": "stdout",
     "output_type": "stream",
     "text": [
      "Peter Birro\n",
      "Viveka Seldahl\n",
      "Henning Mankell\n",
      "Pär Ericson\n",
      "Grynet\n",
      "Suzanne Reuter\n",
      "Peter Birro\n",
      "Lasse Holmqvist\n",
      "Jan Fridegård\n",
      "Jan Fridegård\n",
      "Lasse Brandeby\n"
     ]
    },
    {
     "name": "stderr",
     "output_type": "stream",
     "text": [
      "\r",
      " 16%|█▋        | 94/570 [00:29<02:27,  3.22it/s]"
     ]
    },
    {
     "name": "stdout",
     "output_type": "stream",
     "text": [
      "Gunnel Carlson\n",
      "Hillevi Hennix\n",
      "Suzanne Reuter\n",
      "Suzanne Reuter\n",
      "Suzanne Reuter\n",
      "Suzanne Reuter\n",
      "Suzanne Reuter\n",
      "Suzanne Reuter\n",
      "Suzanne Reuter\n",
      "Suzanne Reuter\n",
      "Suzanne Reuter\n"
     ]
    },
    {
     "name": "stderr",
     "output_type": "stream",
     "text": [
      "\r",
      " 17%|█▋        | 95/570 [00:29<02:28,  3.20it/s]"
     ]
    },
    {
     "name": "stdout",
     "output_type": "stream",
     "text": [
      "Suzanne Reuter\n",
      "Allan Svensson\n",
      "Magnus Francke\n",
      "Magnus Francke\n",
      "Magnus Francke\n",
      "Magnus Francke\n",
      "Magnus Francke\n",
      "Magnus Francke\n",
      "Magnus Francke\n",
      "Emmylou Harris\n",
      "Åke Falck\n"
     ]
    },
    {
     "name": "stderr",
     "output_type": "stream",
     "text": [
      "\r",
      " 17%|█▋        | 96/570 [00:30<02:19,  3.41it/s]"
     ]
    },
    {
     "name": "stdout",
     "output_type": "stream",
     "text": [
      "Bertil Norström\n",
      "Åke Falck\n",
      "Åke Falck\n",
      "Åke Falck\n",
      "Åke Falck\n",
      "Casper Verner-Carlsson\n",
      "Åke Falck\n",
      "Åke Falck\n",
      "Åke Falck\n",
      "Åke Falck\n",
      "Gunnar Svensson\n"
     ]
    },
    {
     "name": "stderr",
     "output_type": "stream",
     "text": [
      "\r",
      " 17%|█▋        | 97/570 [00:30<02:27,  3.20it/s]"
     ]
    },
    {
     "name": "stdout",
     "output_type": "stream",
     "text": [
      "Åke Falck\n",
      "Gregor Dahlman\n",
      "Åke Falck\n",
      "Åke Falck\n",
      "Tom Alandh\n",
      "Suzanne Reuter\n",
      "Suzanne Reuter\n",
      "Suzanne Reuter\n",
      "Suzanne Reuter\n",
      "Suzanne Reuter\n",
      "Suzanne Reuter\n"
     ]
    },
    {
     "name": "stderr",
     "output_type": "stream",
     "text": [
      "\r",
      " 17%|█▋        | 98/570 [00:30<02:20,  3.35it/s]"
     ]
    },
    {
     "name": "stdout",
     "output_type": "stream",
     "text": [
      "Suzanne Reuter\n",
      "Allan Svensson\n",
      "Suzanne Reuter\n",
      "Eva Marling\n",
      "Sigvard Gustavsson\n",
      "Bengt Lagerkvist\n",
      "Hans Lagerkvist\n",
      "Bengt Feldreich\n",
      "Anders Neglin\n",
      "Haakon Svenson\n",
      "Ola Olsson\n"
     ]
    },
    {
     "name": "stderr",
     "output_type": "stream",
     "text": [
      "\r",
      " 17%|█▋        | 99/570 [00:31<02:16,  3.46it/s]"
     ]
    },
    {
     "name": "stdout",
     "output_type": "stream",
     "text": [
      "Malin Toverud\n",
      "Lil Terselius\n",
      "Jan Nyman\n",
      "Anders Neglin\n",
      "Lena Thorsén\n",
      "Haakon Svenson\n",
      "Anders Neglin\n",
      "Anders Neglin\n",
      "Hans Klinga\n",
      "Staffan Roos\n",
      "Anders Neglin\n"
     ]
    },
    {
     "name": "stderr",
     "output_type": "stream",
     "text": [
      "\r",
      " 18%|█▊        | 100/570 [00:31<02:18,  3.40it/s]"
     ]
    },
    {
     "name": "stdout",
     "output_type": "stream",
     "text": [
      "Malin Toverud\n",
      "Lena Thorsén\n",
      "Lena Thorsén\n",
      "Saeed Hooshidar\n",
      "Anders Neglin\n",
      "Gudmar Wivesson\n",
      "Gudmar Wivesson\n",
      "Anders Neglin\n",
      "Anders Neglin\n",
      "Gudmar Wivesson\n",
      "Anders Neglin\n"
     ]
    },
    {
     "name": "stderr",
     "output_type": "stream",
     "text": [
      "\r",
      " 18%|█▊        | 101/570 [00:31<02:14,  3.49it/s]"
     ]
    },
    {
     "name": "stdout",
     "output_type": "stream",
     "text": [
      "Anders Neglin\n",
      "Karin Falck\n",
      "Anders Neglin\n",
      "Peter Emanuel Falck\n",
      "Ola Olsson\n",
      "Anders Neglin\n",
      "Anders Neglin\n",
      "Anders Neglin\n",
      "Anders Neglin\n",
      "Marielouise Samuelsson\n",
      "Magnus Lind\n"
     ]
    },
    {
     "name": "stderr",
     "output_type": "stream",
     "text": [
      "\r",
      " 18%|█▊        | 102/570 [00:31<02:19,  3.35it/s]"
     ]
    },
    {
     "name": "stdout",
     "output_type": "stream",
     "text": [
      "Lasse Berghagen\n",
      "Gunilla Åkesson\n",
      "Ingmar Bergman\n",
      "Kåge Gustafsson\n",
      "Kåge Gustafsson\n",
      "Kåge Gustafsson\n",
      "Hans Wahlgren\n",
      "Ewa Fröling\n",
      "Marielouise Samuelsson\n",
      "Björn Granath\n",
      "Magnus Lind\n"
     ]
    },
    {
     "name": "stderr",
     "output_type": "stream",
     "text": [
      "\r",
      " 18%|█▊        | 103/570 [00:32<02:21,  3.30it/s]"
     ]
    },
    {
     "name": "stdout",
     "output_type": "stream",
     "text": [
      "Bertil Norström\n",
      "Thomas Widman\n",
      "Anders Neglin\n",
      "Ove Magnusson\n",
      "Bertil Norström\n",
      "Anders Neglin\n",
      "Håkan Jaensson\n",
      "Bertil Norström\n",
      "Johanna Hald\n",
      "Anders Neglin\n",
      "Anders Neglin\n"
     ]
    },
    {
     "name": "stderr",
     "output_type": "stream",
     "text": [
      "\r",
      " 18%|█▊        | 104/570 [00:32<02:20,  3.31it/s]"
     ]
    },
    {
     "name": "stdout",
     "output_type": "stream",
     "text": [
      "Marielouise Samuelsson\n",
      "Lars Hansson\n",
      "Peter Lindforss\n",
      "Lasse Pettersson\n",
      "Magnus Lind\n",
      "Marielouise Samuelsson\n",
      "Lasse Pettersson\n",
      "Barbro \"Lill-Babs\" Svensson\n",
      "David Bowie\n",
      "Carl Lidbom\n",
      "Ronnie Peterson\n"
     ]
    },
    {
     "name": "stderr",
     "output_type": "stream",
     "text": [
      "\r",
      " 18%|█▊        | 105/570 [00:32<02:36,  2.98it/s]"
     ]
    },
    {
     "name": "stdout",
     "output_type": "stream",
     "text": [
      "Christian Hollbrink\n",
      "Johan Kindblom\n",
      "Christian Hollbrink\n",
      "Johan Kindblom\n",
      "Johan Kindblom\n",
      "Göthe Grefbo\n",
      "Beppe Wolgers\n",
      "Beppe Wolgers\n",
      "Jarl Borssén\n",
      "Curt Åström\n",
      "Öllegård Wellton\n"
     ]
    },
    {
     "name": "stderr",
     "output_type": "stream",
     "text": [
      "\r",
      " 19%|█▊        | 106/570 [00:33<02:32,  3.05it/s]"
     ]
    },
    {
     "name": "stdout",
     "output_type": "stream",
     "text": [
      "Marianna Widmalm\n",
      "Michael Hjorth\n",
      "Johan Kindblom\n",
      "Christian Hollbrink\n",
      "Johan Kindblom\n",
      "Christian Hollbrink\n",
      "Anna-Lena Brundin\n",
      "Anna-Lena Brundin\n",
      "Anagil de Melo Nascimento\n",
      "Anagil de Melo Nascimento\n",
      "Anna-Lena Brundin\n"
     ]
    },
    {
     "name": "stderr",
     "output_type": "stream",
     "text": [
      "\r",
      " 19%|█▉        | 107/570 [00:33<02:24,  3.20it/s]"
     ]
    },
    {
     "name": "stdout",
     "output_type": "stream",
     "text": [
      "Anagil de Melo Nascimento\n",
      "Rune Bergman\n",
      "Isidor Torkar\n",
      "Anna-Lena Brundin\n",
      "Andreas Andersson\n",
      "Anna-Lena Brundin\n",
      "Andreas Andersson\n",
      "Jesper Harrie\n",
      "Jesper Harrie\n",
      "Peter Fridh\n",
      "Jesper Harrie\n"
     ]
    },
    {
     "name": "stderr",
     "output_type": "stream",
     "text": [
      "\r",
      " 19%|█▉        | 108/570 [00:33<02:17,  3.35it/s]"
     ]
    },
    {
     "name": "stdout",
     "output_type": "stream",
     "text": [
      "Jesper Harrie\n",
      "Dan Zethraeus\n",
      "Hanna Malmberg\n",
      "Dan Zethraeus\n",
      "Dan Zethraeus\n",
      "Dan Zethraeus\n",
      "Dan Zethraeus\n",
      "Jesper Harrie\n",
      "Dan Zethraeus\n",
      "Claude Stephenson\n",
      "Åke Falck\n"
     ]
    },
    {
     "name": "stderr",
     "output_type": "stream",
     "text": [
      "\r",
      " 19%|█▉        | 109/570 [00:34<02:57,  2.60it/s]"
     ]
    },
    {
     "name": "stdout",
     "output_type": "stream",
     "text": [
      "Åke Falck\n",
      "Maud Hyttenberg\n",
      "Åke Falck\n",
      "Åke Falck\n",
      "Åke Falck\n",
      "Åke Falck\n",
      "Karin Miller\n",
      "Mille Schmidt\n",
      "Åke Falck\n",
      "Mira Mandoki\n",
      "Hans Iveberg\n"
     ]
    },
    {
     "name": "stderr",
     "output_type": "stream",
     "text": [
      "\r",
      " 19%|█▉        | 110/570 [00:34<03:00,  2.55it/s]"
     ]
    },
    {
     "name": "stdout",
     "output_type": "stream",
     "text": [
      "Rikard Bergqvist\n",
      "Torgny Karlsson\n",
      "Anette Phillips\n",
      "Hans Iveberg\n",
      "Rikard Bergqvist\n",
      "Hans Iveberg\n",
      "Hans Iveberg\n",
      "Robert Pukitis\n",
      "Tove Edfeldt\n",
      "Mira Mandoki\n",
      "Mira Mandoki\n"
     ]
    },
    {
     "name": "stderr",
     "output_type": "stream",
     "text": [
      "\r",
      " 19%|█▉        | 111/570 [00:35<03:02,  2.51it/s]"
     ]
    },
    {
     "name": "stdout",
     "output_type": "stream",
     "text": [
      "Åke Ortmark\n",
      "Ingemar Odlander\n",
      "Jonas Karlsson\n",
      "Jonas Karlsson\n",
      "Jackie Söderman\n",
      "Jackie Söderman\n",
      "Mick Jagger\n",
      "Kattis Ahlström\n",
      "Grynet\n",
      "Grynet\n",
      "Grynet\n"
     ]
    },
    {
     "name": "stderr",
     "output_type": "stream",
     "text": [
      "\r",
      " 20%|█▉        | 112/570 [00:35<02:47,  2.73it/s]"
     ]
    },
    {
     "name": "stdout",
     "output_type": "stream",
     "text": [
      "Grynet\n",
      "Anders Laag\n",
      "Grynet\n",
      "Grynet\n",
      "Ingemar Johansson\n",
      "Anja Pärson\n",
      "John Pohlman\n",
      "Dr Alban\n",
      "Broder Daniel\n",
      "Lars Bill Lundholm\n",
      "Tomas Lehtinen\n"
     ]
    },
    {
     "name": "stderr",
     "output_type": "stream",
     "text": [
      "\r",
      " 20%|█▉        | 113/570 [00:35<02:41,  2.83it/s]"
     ]
    },
    {
     "name": "stdout",
     "output_type": "stream",
     "text": [
      "Henrik Linnros\n",
      "David Peterson\n",
      "Lars Bill Lundholm\n",
      "Lars Bill Lundholm\n",
      "Lena Haglund\n",
      "Fredrik af Trampe\n",
      "Fredrik af Trampe\n",
      "Jonas Uddenmyr\n",
      "Gunnar Svensson\n",
      "Jerry Williams\n",
      "Miles Davis\n"
     ]
    },
    {
     "name": "stderr",
     "output_type": "stream",
     "text": [
      "\r",
      " 20%|██        | 114/570 [00:36<02:48,  2.71it/s]"
     ]
    },
    {
     "name": "stdout",
     "output_type": "stream",
     "text": [
      "Hans Alfredson\n",
      "Tage Danielsson\n",
      "Hans Alfredson\n",
      "Hans Alfredson\n",
      "Owe Thörnqvist\n",
      "John Pohlman\n",
      "Ingvar Kamprad\n",
      "Björn Afzelius\n",
      "Jonas Sykfont\n",
      "Jonas Sykfont\n",
      "Jonas Sykfont\n"
     ]
    },
    {
     "name": "stderr",
     "output_type": "stream",
     "text": [
      "\r",
      " 20%|██        | 115/570 [00:36<02:49,  2.69it/s]"
     ]
    },
    {
     "name": "stdout",
     "output_type": "stream",
     "text": [
      "Jonas Sykfont\n",
      "Anders Andersson\n",
      "Fredrik Lindström\n",
      "Kattis Ahlström\n",
      "The Soundtrack of Our Lives\n",
      "The Soundtrack of Our Lives\n",
      "Busk Margit Jonsson\n",
      "Lars Säfström\n",
      "Lars Säfström\n",
      "Lars Säfström\n",
      "Lisa Ekdahl\n"
     ]
    },
    {
     "name": "stderr",
     "output_type": "stream",
     "text": [
      "\r",
      " 20%|██        | 116/570 [00:37<02:57,  2.56it/s]"
     ]
    },
    {
     "name": "stdout",
     "output_type": "stream",
     "text": [
      "Lennart Wetterholm\n",
      "Olle Helander\n",
      "Elisabeth Söderström\n",
      "Weeping Willows\n",
      "Per Niia\n",
      "Carin Mannheimer\n",
      "Elisabeth Söderström\n",
      "Tom Alandh\n",
      "Hans Alfredson\n",
      "Nina Hedenius\n"
     ]
    },
    {
     "name": "stderr",
     "output_type": "stream",
     "text": [
      "\r",
      " 21%|██        | 117/570 [00:37<03:01,  2.49it/s]"
     ]
    },
    {
     "name": "stdout",
     "output_type": "stream",
     "text": [
      "Lars Säfström\n",
      "Thomas Sundström\n",
      "Thomas Schuback\n",
      "Lars Molin\n",
      "Per Öhnell\n",
      "Lars Molin\n",
      "Lars Molin\n",
      "Lars Molin\n",
      "Lars Molin\n",
      "Lars Molin\n"
     ]
    },
    {
     "name": "stderr",
     "output_type": "stream",
     "text": [
      "\r",
      " 21%|██        | 118/570 [00:37<02:41,  2.80it/s]"
     ]
    },
    {
     "name": "stdout",
     "output_type": "stream",
     "text": [
      "Lars Molin\n",
      "Samuel Fröler\n",
      "Lars Molin\n",
      "Lars Molin\n",
      "Lars Molin\n",
      "Lars Molin\n",
      "Lars Molin\n",
      "Lars Molin\n",
      "Paul Jerndal\n",
      "Karin af Klintberg\n",
      "Karin af Klintberg\n"
     ]
    },
    {
     "name": "stderr",
     "output_type": "stream",
     "text": [
      "\r",
      " 21%|██        | 119/570 [00:38<02:39,  2.83it/s]"
     ]
    },
    {
     "name": "stdout",
     "output_type": "stream",
     "text": [
      "Paul Jerndal\n",
      "Karin af Klintberg\n",
      "Mikaela Périer\n",
      "Fredrik Lindström\n",
      "Peter Jihde\n",
      "Olof Wallberg\n",
      "Peps Persson\n",
      "Rune Rustman\n",
      "Thomas Ravelli\n",
      "Karin af Klintberg\n",
      "Lars Leijonborg\n"
     ]
    },
    {
     "name": "stderr",
     "output_type": "stream",
     "text": [
      "\r",
      " 21%|██        | 120/570 [00:38<02:27,  3.06it/s]"
     ]
    },
    {
     "name": "stdout",
     "output_type": "stream",
     "text": [
      "Karin af Klintberg\n",
      "Angelica Rundberg\n",
      "Karin af Klintberg\n",
      "Maria Magnusson\n",
      "Paul Jerndal\n",
      "Hep Stars\n",
      "Paul Stanley\n",
      "Gene Simmons\n",
      "Christian Wistrand\n",
      "Jan Fridegård\n",
      "Suzanne Reuter\n"
     ]
    },
    {
     "name": "stderr",
     "output_type": "stream",
     "text": [
      "\r",
      " 21%|██        | 121/570 [00:38<02:21,  3.18it/s]"
     ]
    },
    {
     "name": "stdout",
     "output_type": "stream",
     "text": [
      "Marianna Widmalm\n",
      "Michael Hjorth\n",
      "Hans Alfredson\n",
      "Måns Edwall\n",
      "Prinsessan Madeleine\n",
      "Astrid Lindgren\n",
      "Gunnar Svensson\n",
      "Lars Norén\n",
      "Sven Delblanc\n",
      "Stefan Nipstad\n",
      "Jan Mybrand\n"
     ]
    },
    {
     "name": "stderr",
     "output_type": "stream",
     "text": [
      "\r",
      " 21%|██▏       | 122/570 [00:38<02:15,  3.31it/s]"
     ]
    },
    {
     "name": "stdout",
     "output_type": "stream",
     "text": [
      "Margit Carlson-Regolo\n",
      "Eva Hamilton\n",
      "Peter Falck\n",
      "Louise Boije af Gennäs\n",
      "Louise Boije af Gennäs\n",
      "Peter Falck\n",
      "Peter Falck\n",
      "Louise Boije af Gennäs\n",
      "Peter Falck\n",
      "Stefan Lundberg\n",
      "Stefan Lundberg\n"
     ]
    },
    {
     "name": "stderr",
     "output_type": "stream",
     "text": [
      "\r",
      " 22%|██▏       | 123/570 [00:39<02:56,  2.53it/s]"
     ]
    },
    {
     "name": "stdout",
     "output_type": "stream",
     "text": [
      "Kerstin Wretmark\n",
      "Göran Fristorp\n",
      "Stefan Lundberg\n",
      "Stefan Lundberg\n",
      "Stefan Lundberg\n",
      "Tomas Ledin\n",
      "Ebbe Schön\n",
      "Joakim Thåström\n",
      "Stefan Rylander\n",
      "Hasse Jonsson\n",
      "Fredrik Åkerman\n"
     ]
    },
    {
     "name": "stderr",
     "output_type": "stream",
     "text": [
      "\r",
      " 22%|██▏       | 124/570 [00:39<02:38,  2.82it/s]"
     ]
    },
    {
     "name": "stdout",
     "output_type": "stream",
     "text": [
      "Fredrik Åkerman\n",
      "Anders Andersson\n",
      "Fredrik Åkerman\n",
      "Fredrik Åkerman\n",
      "Fredrik Åkerman\n",
      "Fredrik Åkerman\n",
      "Fredrik Åkerman\n",
      "Fredrik Åkerman\n",
      "Magnus Eriksson\n",
      "Hanna Alström\n",
      "Kim Jansson\n"
     ]
    },
    {
     "name": "stderr",
     "output_type": "stream",
     "text": [
      "\r",
      " 22%|██▏       | 125/570 [00:40<02:30,  2.96it/s]"
     ]
    },
    {
     "name": "stdout",
     "output_type": "stream",
     "text": [
      "Evabritt Strandberg\n",
      "Kim Jansson\n",
      "Rebecca Petersson\n",
      "Cardigans\n",
      "Kim Jansson\n",
      "Evabritt Strandberg\n",
      "Sven-Ingvars\n",
      "Sven-Ingvars\n",
      "Sven-Ingvars\n",
      "Lisa Ekdahl\n",
      "After Dark\n"
     ]
    },
    {
     "name": "stderr",
     "output_type": "stream",
     "text": [
      "\r",
      " 22%|██▏       | 126/570 [00:40<02:22,  3.12it/s]"
     ]
    },
    {
     "name": "stdout",
     "output_type": "stream",
     "text": [
      "Sam Nilsson\n",
      "Tim Hebb\n",
      "Robert \"Strängen\" Dahlqvist\n",
      "Allan Edwall\n",
      "Lena Philipsson\n",
      "Kikki Danielsson\n",
      "Monica Zetterlund\n",
      "Bo Billtén\n",
      "Brita Borg\n",
      "Olle Björklund\n",
      "Ylva Hemstad\n"
     ]
    },
    {
     "name": "stderr",
     "output_type": "stream",
     "text": [
      "\r",
      " 22%|██▏       | 127/570 [00:40<02:30,  2.94it/s]"
     ]
    },
    {
     "name": "stdout",
     "output_type": "stream",
     "text": [
      "Calle Norlén\n",
      "Ulla Skoog\n",
      "Johan Paulsen\n",
      "Johan Paulsen\n",
      "Ulla Skoog\n",
      "Yvette Palm\n",
      "Elisabet Aldén\n",
      "Anni-Frid Lyngstad\n",
      "Keith Moon\n",
      "Luis Gasca\n",
      "Helén Elmquist\n"
     ]
    },
    {
     "name": "stderr",
     "output_type": "stream",
     "text": [
      "\r",
      " 22%|██▏       | 128/570 [00:41<02:21,  3.12it/s]"
     ]
    },
    {
     "name": "stdout",
     "output_type": "stream",
     "text": [
      "Jonas Sykfont\n",
      "Anders Andersson\n",
      "Robert Gustafsson\n",
      "Stefan Lundberg\n",
      "Stefan Lundberg\n",
      "Lars Göran Pettersson\n",
      "Lars Göran Pettersson\n",
      "Lennart Tollén\n",
      "Ingrid Dahlberg\n",
      "Tomas Alfredson\n",
      "Tomas Alfredson\n"
     ]
    },
    {
     "name": "stderr",
     "output_type": "stream",
     "text": [
      "\r",
      " 23%|██▎       | 129/570 [00:41<02:17,  3.20it/s]"
     ]
    },
    {
     "name": "stdout",
     "output_type": "stream",
     "text": [
      "Robert Gustafsson\n",
      "Jonas Inde\n",
      "Robert Gustafsson\n",
      "Anita Wall\n",
      "Anita Wall\n",
      "Anita Wall\n",
      "Anita Wall\n",
      "Anita Wall\n",
      "Anita Wall\n",
      "Anita Wall\n",
      "Anita Wall\n"
     ]
    },
    {
     "name": "stderr",
     "output_type": "stream",
     "text": [
      "\r",
      " 23%|██▎       | 130/570 [00:41<02:23,  3.06it/s]"
     ]
    },
    {
     "name": "stdout",
     "output_type": "stream",
     "text": [
      "Anita Wall\n",
      "Ulf Brunnberg\n",
      "Anita Wall\n",
      "Anita Wall\n",
      "Fredrik Ekelund\n",
      "Stefan Lundberg\n",
      "Stefan Lundberg\n",
      "Lars Göran Pettersson\n",
      "Depeche Mode\n",
      "Depeche Mode\n",
      "Dave Gahan\n"
     ]
    },
    {
     "name": "stderr",
     "output_type": "stream",
     "text": [
      "\r",
      " 23%|██▎       | 131/570 [00:41<02:14,  3.27it/s]"
     ]
    },
    {
     "name": "stdout",
     "output_type": "stream",
     "text": [
      "Siewert Öholm\n",
      "Gun Allroth\n",
      "Björn Ågeryd\n",
      "Curt-Eric Holmquist\n",
      "Eric Ericson (f 1974)\n",
      "Annalisa Ericson\n",
      "Mikael Riesebeck\n",
      "Sven Erik Vikström\n",
      "Bengt Hallberg\n",
      "Sara Edwardsson\n",
      "Sara Edwardsson\n"
     ]
    },
    {
     "name": "stderr",
     "output_type": "stream",
     "text": [
      "\r",
      " 23%|██▎       | 132/570 [00:42<02:20,  3.11it/s]"
     ]
    },
    {
     "name": "stdout",
     "output_type": "stream",
     "text": [
      "Sara Edwardsson\n",
      "Henrik Ståhl\n",
      "Sara Edwardsson\n",
      "Sara Edwardsson\n",
      "Sara Edwardsson\n",
      "Janne Schaffer\n",
      "Janne Schaffer\n",
      "Janne Schaffer\n",
      "Janne Schaffer\n",
      "Marianne Ekström\n",
      "Martha Branting\n"
     ]
    },
    {
     "name": "stderr",
     "output_type": "stream",
     "text": [
      "\r",
      " 23%|██▎       | 133/570 [00:42<02:22,  3.07it/s]"
     ]
    },
    {
     "name": "stdout",
     "output_type": "stream",
     "text": [
      "Martha Branting\n",
      "Marianne Ekström\n",
      "Christina Lagerson\n",
      "Sara Edwardsson\n",
      "Sara Edwardsson\n",
      "Sara Edwardsson\n",
      "Håkan Alexandersson\n",
      "Jan Lööf\n",
      "Christina Lagerson\n",
      "Allan Schulman\n",
      "Christina Lagerson\n"
     ]
    },
    {
     "name": "stderr",
     "output_type": "stream",
     "text": [
      "\r",
      " 24%|██▎       | 134/570 [00:42<02:14,  3.25it/s]"
     ]
    },
    {
     "name": "stdout",
     "output_type": "stream",
     "text": [
      "Christina Lagerson\n",
      "Britt G Hallqvist\n",
      "Christina Lagerson\n",
      "Christina Lagerson\n",
      "Christina Lagerson\n",
      "Christina Lagerson\n",
      "Christina Lagerson\n",
      "Christina Lagerson\n",
      "Christina Lagerson\n",
      "Christina Lagerson\n",
      "Christina Lagerson\n"
     ]
    },
    {
     "name": "stderr",
     "output_type": "stream",
     "text": [
      "\r",
      " 24%|██▎       | 135/570 [00:45<06:56,  1.04it/s]"
     ]
    },
    {
     "name": "stdout",
     "output_type": "stream",
     "text": [
      "Christina Lagerson\n",
      "Britt G Hallqvist\n",
      "Christina Lagerson\n",
      "Christina Lagerson\n",
      "Christina Lagerson\n",
      "Christina Lagerson\n",
      "Christina Lagerson\n",
      "Christina Lagerson\n",
      "Christina Lagerson\n",
      "Christina Lagerson\n",
      "Christina Lagerson\n"
     ]
    },
    {
     "name": "stderr",
     "output_type": "stream",
     "text": [
      "\r",
      " 24%|██▍       | 136/570 [00:45<05:42,  1.27it/s]"
     ]
    },
    {
     "name": "stdout",
     "output_type": "stream",
     "text": [
      "Liselotte Blomberg\n",
      "Anna-Clara Tidholm\n",
      "Hasse Johansson\n",
      "Jan Olof Ohlsson\n",
      "Carin Mannheimer\n",
      "Robert Gustafsson\n",
      "Robert Gustafsson\n",
      "Anna Alandh\n",
      "Anna Alandh\n",
      "Robert Gustafsson\n",
      "Robert Gustafsson\n"
     ]
    },
    {
     "name": "stderr",
     "output_type": "stream",
     "text": [
      "\r",
      " 24%|██▍       | 137/570 [00:46<06:26,  1.12it/s]"
     ]
    },
    {
     "name": "stdout",
     "output_type": "stream",
     "text": [
      "Robert Gustafsson\n",
      "Grynet\n",
      "Grynet\n",
      "Grynet\n",
      "Grynet\n",
      "Grynet\n",
      "Grynet\n",
      "Grynet\n",
      "Anna Alandh\n",
      "Anna Alandh\n"
     ]
    },
    {
     "name": "stderr",
     "output_type": "stream",
     "text": [
      "\r",
      " 24%|██▍       | 138/570 [00:47<05:05,  1.41it/s]"
     ]
    },
    {
     "name": "stdout",
     "output_type": "stream",
     "text": [
      "Anna Alandh\n",
      "Eva Funck\n",
      "Anna Alandh\n",
      "Anna Alandh\n",
      "Maria Groop-Russel\n",
      "Katrin Sundberg\n",
      "Maria Groop-Russel\n",
      "Maria Groop-Russel\n",
      "Anna Alandh\n",
      "Anna Alandh\n",
      "Anna Alandh\n"
     ]
    },
    {
     "name": "stderr",
     "output_type": "stream",
     "text": [
      "\r",
      " 24%|██▍       | 139/570 [00:47<04:28,  1.60it/s]"
     ]
    },
    {
     "name": "stdout",
     "output_type": "stream",
     "text": [
      "Kari Thomée\n",
      "Sussie Eriksson\n",
      "Christina Lagerson\n",
      "Sussie Eriksson\n",
      "Christina Lagerson\n",
      "Kari Thomée\n",
      "Christina Lagerson\n",
      "Christina Lagerson\n",
      "Christina Lagerson\n",
      "Christina Lagerson\n",
      "Christina Lagerson\n"
     ]
    },
    {
     "name": "stderr",
     "output_type": "stream",
     "text": [
      "\r",
      " 25%|██▍       | 140/570 [00:47<03:48,  1.88it/s]"
     ]
    },
    {
     "name": "stdout",
     "output_type": "stream",
     "text": [
      "Christina Lagerson\n",
      "Kari Thomée\n",
      "Christina Lagerson\n",
      "Christina Lagerson\n",
      "Stig Grybe\n",
      "Christina Lagerson\n",
      "Christina Lagerson\n",
      "Jörgen Lantz\n",
      "Stig Ossian Ericson\n",
      "Christina Lagerson\n",
      "Christina Lagerson\n"
     ]
    },
    {
     "name": "stderr",
     "output_type": "stream",
     "text": [
      "\r",
      " 25%|██▍       | 141/570 [00:48<03:19,  2.15it/s]"
     ]
    },
    {
     "name": "stdout",
     "output_type": "stream",
     "text": [
      "Christina Lagerson\n",
      "Kari Thomée\n",
      "Christina Lagerson\n",
      "Christina Lagerson\n",
      "Christina Lagerson\n",
      "Kristina Adolphson\n",
      "Ulla Skoog\n",
      "Johan Petersson\n",
      "Johan Petersson\n",
      "Johan Petersson\n",
      "Johan Petersson\n"
     ]
    },
    {
     "name": "stderr",
     "output_type": "stream",
     "text": [
      "\r",
      " 25%|██▍       | 142/570 [00:48<02:54,  2.45it/s]"
     ]
    },
    {
     "name": "stdout",
     "output_type": "stream",
     "text": [
      "Johan Petersson\n",
      "Magdalena Johannesson\n",
      "Johan Petersson\n",
      "Johan Petersson\n",
      "Johan Petersson\n",
      "Calle Åstrand\n",
      "Johan Rheborg\n",
      "Calle Åstrand\n",
      "Johan Rheborg\n",
      "Calle Åstrand\n",
      "Kari Thomée\n"
     ]
    },
    {
     "name": "stderr",
     "output_type": "stream",
     "text": [
      "\r",
      " 25%|██▌       | 143/570 [00:48<02:47,  2.55it/s]"
     ]
    },
    {
     "name": "stdout",
     "output_type": "stream",
     "text": [
      "Kari Thomée\n",
      "Sven Melander\n",
      "Kari Thomée\n",
      "Kari Thomée\n",
      "Gunnel Linde\n",
      "Gunnel Linde\n",
      "Gunnel Linde\n",
      "Ramon Sylvan\n",
      "Hans Clarin\n",
      "Göthe Grefbo\n",
      "Olle Hilding\n"
     ]
    },
    {
     "name": "stderr",
     "output_type": "stream",
     "text": [
      "\r",
      " 25%|██▌       | 144/570 [00:49<02:47,  2.54it/s]"
     ]
    },
    {
     "name": "stdout",
     "output_type": "stream",
     "text": [
      "Öllegård Wellton\n",
      "Fredrik Ohlsson\n",
      "Öllegård Wellton\n",
      "Göran Graffman\n",
      "Thomas Wiehe\n",
      "Thomas Wiehe\n",
      "Tommy Johnson\n",
      "Thomas Wiehe\n",
      "Tommy Johnson\n",
      "Thomas Wiehe\n",
      "Curt Åström\n"
     ]
    },
    {
     "name": "stderr",
     "output_type": "stream",
     "text": [
      "\r",
      " 25%|██▌       | 145/570 [00:49<02:32,  2.78it/s]"
     ]
    },
    {
     "name": "stdout",
     "output_type": "stream",
     "text": [
      "Thomas Wiehe\n",
      "Christoffer Barnekow\n",
      "Tommy Johnson\n",
      "Olle Nordemar\n",
      "Olle Nordemar\n",
      "Thomas Wiehe\n",
      "Thomas Wiehe\n",
      "Olle Nordemar\n",
      "Thomas Wiehe\n",
      "Tommy Johnson\n",
      "Curt Åström\n"
     ]
    },
    {
     "name": "stderr",
     "output_type": "stream",
     "text": [
      "\r",
      " 26%|██▌       | 146/570 [00:49<02:23,  2.96it/s]"
     ]
    },
    {
     "name": "stdout",
     "output_type": "stream",
     "text": [
      "Thomas Wiehe\n",
      "Christoffer Barnekow\n",
      "Elsa-Gun Gustafson\n",
      "Thomas Wiehe\n",
      "Göran Graffman\n",
      "Göran Graffman\n",
      "Göran Graffman\n",
      "Göran Graffman\n",
      "Göran Graffman\n",
      "Göran Graffman\n",
      "Göran Graffman\n"
     ]
    },
    {
     "name": "stderr",
     "output_type": "stream",
     "text": [
      "\r",
      " 26%|██▌       | 147/570 [00:50<02:24,  2.92it/s]"
     ]
    },
    {
     "name": "stdout",
     "output_type": "stream",
     "text": [
      "Göran Graffman\n",
      "Gunnel Linde\n",
      "Göran Graffman\n",
      "Rune Andréasson\n",
      "Rune Andréasson\n",
      "Rune Andréasson\n",
      "Rune Andréasson\n",
      "Rune Andréasson\n",
      "Rune Andréasson\n",
      "Ulf Kvensler\n",
      "Kjell Bergqvist\n"
     ]
    },
    {
     "name": "stderr",
     "output_type": "stream",
     "text": [
      "\r",
      " 26%|██▌       | 148/570 [00:50<02:08,  3.29it/s]"
     ]
    },
    {
     "name": "stdout",
     "output_type": "stream",
     "text": [
      "Olov Svedelid\n",
      "Mikael Ekman\n",
      "Mikael Håfström\n",
      "Henning Mankell\n",
      "Per Arne Norell\n",
      "Per Arne Norell\n",
      "Per Arne Norell\n",
      "Isa Quensel\n",
      "Elise Ottesen-Jensen\n"
     ]
    },
    {
     "name": "stderr",
     "output_type": "stream",
     "text": [
      "\r",
      " 26%|██▌       | 149/570 [00:50<02:21,  2.97it/s]"
     ]
    },
    {
     "name": "stdout",
     "output_type": "stream",
     "text": [
      "Per Arne Norell\n",
      "Peter Rangmar\n",
      "Lotta Blomberg\n",
      "Tomas Norström\n",
      "Kjerstin Dellert\n",
      "Kjerstin Dellert\n",
      "Jan Olof Ohlsson\n",
      "Elin Wägner\n",
      "Lauritz Falk\n",
      "Jan Hemmel\n",
      "Birgitta Holm\n"
     ]
    },
    {
     "name": "stderr",
     "output_type": "stream",
     "text": [
      "\r",
      " 26%|██▋       | 150/570 [00:51<02:18,  3.02it/s]"
     ]
    },
    {
     "name": "stdout",
     "output_type": "stream",
     "text": [
      "Mikael Syrén\n",
      "Johan Glans\n",
      "Mats Pettersson\n",
      "Ralph Erskine\n",
      "Staffan Bengtsson\n",
      "Ellinor\n",
      "Jacob Dahlin\n",
      "Rumle Hammerich\n",
      "Stina Lundberg Dabrowski\n",
      "Gun Allroth\n",
      "Christian Wistrand\n"
     ]
    },
    {
     "name": "stderr",
     "output_type": "stream",
     "text": [
      "\r",
      " 26%|██▋       | 151/570 [00:51<02:12,  3.16it/s]"
     ]
    },
    {
     "name": "stdout",
     "output_type": "stream",
     "text": [
      "Göran Danasten\n",
      "Stephan Apelgren\n",
      "Johan Bogaeus\n",
      "Johan Bogaeus\n",
      "Göran Danasten\n",
      "Göran Danasten\n",
      "Johan Bogaeus\n",
      "Johan Bogaeus\n",
      "Nikolett Horvath\n",
      "Christian Wistrand\n",
      "Marianne Stjernqvist\n"
     ]
    },
    {
     "name": "stderr",
     "output_type": "stream",
     "text": [
      "\r",
      " 27%|██▋       | 152/570 [00:51<02:23,  2.91it/s]"
     ]
    },
    {
     "name": "stdout",
     "output_type": "stream",
     "text": [
      "Marianne Stjernqvist\n",
      "Gösta Ekman\n",
      "Alice Lyttkens\n",
      "Stig Yngve Palm\n",
      "Carl B Hamilton\n",
      "Leif GW Persson\n",
      "Tage Danielsson\n",
      "Hans Alfredson\n",
      "Nisse Hellberg\n",
      "Ulla Akselson\n"
     ]
    },
    {
     "name": "stderr",
     "output_type": "stream",
     "text": [
      "\r",
      " 27%|██▋       | 153/570 [00:52<02:31,  2.75it/s]"
     ]
    },
    {
     "name": "stdout",
     "output_type": "stream",
     "text": [
      "Lena B Eriksson\n",
      "Anna Lindholm\n",
      "Bengt Hallberg\n",
      "Johan Rabaeus\n",
      "Åke Falck\n",
      "Petronella Lindfors\n",
      "Annika McLachlan\n",
      "P C Jersild\n",
      "Stig Larsson\n",
      "Suzanne Reuter\n",
      "Lena Haglund\n"
     ]
    },
    {
     "name": "stderr",
     "output_type": "stream",
     "text": [
      "\r",
      " 27%|██▋       | 154/570 [00:52<02:21,  2.94it/s]"
     ]
    },
    {
     "name": "stdout",
     "output_type": "stream",
     "text": [
      "Per Olov Enquist\n",
      "Göran Graffman\n",
      "Pia Ehrnvall\n",
      "Jackie Söderman\n",
      "Felix Herngren\n",
      "Leif Jakobsson\n",
      "Leif Jakobsson\n",
      "Leif Jakobsson\n",
      "Leif Jakobsson\n",
      "Leif Jakobsson\n"
     ]
    },
    {
     "name": "stderr",
     "output_type": "stream",
     "text": [
      "\r",
      " 27%|██▋       | 155/570 [00:52<02:17,  3.02it/s]"
     ]
    },
    {
     "name": "stdout",
     "output_type": "stream",
     "text": [
      "Leif Jakobsson\n",
      "Bengt Lagerkvist\n",
      "Secret Service\n",
      "Jackie Söderman\n",
      "Jackie Söderman\n",
      "Jackie Söderman\n",
      "Jackie Söderman\n",
      "Jackie Söderman\n",
      "Jackie Söderman\n",
      "Jackie Söderman\n",
      "Jackie Söderman\n"
     ]
    },
    {
     "name": "stderr",
     "output_type": "stream",
     "text": [
      "\r",
      " 27%|██▋       | 156/570 [00:53<02:11,  3.14it/s]"
     ]
    },
    {
     "name": "stdout",
     "output_type": "stream",
     "text": [
      "Peter Schildt\n",
      "Suzanne Reuter\n",
      "Staffan Bengtsson\n",
      "Staffan Bengtsson\n",
      "Peter Schildt\n",
      "Peter Schildt\n",
      "Peter Schildt\n",
      "Peter Schildt\n",
      "Peter Schildt\n",
      "Peter Schildt\n",
      "Peter Schildt\n"
     ]
    },
    {
     "name": "stderr",
     "output_type": "stream",
     "text": [
      "\r",
      " 28%|██▊       | 157/570 [00:53<02:06,  3.27it/s]"
     ]
    },
    {
     "name": "stdout",
     "output_type": "stream",
     "text": [
      "Peter Schildt\n",
      "Suzanne Reuter\n",
      "Staffan Bengtsson\n",
      "Staffan Bengtsson\n",
      "Shanti Roney\n",
      "Anna Lindholm\n",
      "Mats Rudal\n",
      "Inga Ålenius\n",
      "Inga Ålenius\n",
      "Robert Sjöblom\n",
      "Björn Gedda\n"
     ]
    },
    {
     "name": "stderr",
     "output_type": "stream",
     "text": [
      "\r",
      " 28%|██▊       | 158/570 [00:53<02:15,  3.05it/s]"
     ]
    },
    {
     "name": "stdout",
     "output_type": "stream",
     "text": [
      "Birgit Nilsson\n",
      "Lennart Swahn\n",
      "Per Sjöstrand\n",
      "Bo Strömstedt\n",
      "BIG\n",
      "Loa Falkman\n",
      "Lena Pålsson\n",
      "Janne Lucas Persson\n",
      "Maynard Gerber\n",
      "Victor Ström\n"
     ]
    },
    {
     "name": "stderr",
     "output_type": "stream",
     "text": [
      "\r",
      " 28%|██▊       | 159/570 [00:54<02:09,  3.18it/s]"
     ]
    },
    {
     "name": "stdout",
     "output_type": "stream",
     "text": [
      "Mats Wahl\n",
      "Anders Björne\n",
      "Christel Dahlgren\n",
      "Ragna Wallmark\n",
      "David Boati\n",
      "Jan Dolata\n"
     ]
    },
    {
     "name": "stderr",
     "output_type": "stream",
     "text": [
      "\r",
      " 28%|██▊       | 160/570 [00:54<02:04,  3.29it/s]"
     ]
    },
    {
     "name": "stdout",
     "output_type": "stream",
     "text": [
      "Kronprinsessan Victoria\n",
      "Prins Carl Philip\n",
      "Rod Stewart\n",
      "Jan Dolata\n",
      "Lennart Jähkel\n",
      "Ayla Kabaca\n",
      "Ayla Kabaca\n",
      "Mats Wahl\n",
      "Ayla Kabaca\n",
      "Ayla Kabaca\n"
     ]
    },
    {
     "name": "stderr",
     "output_type": "stream",
     "text": [
      "\r",
      " 28%|██▊       | 161/570 [00:54<02:23,  2.85it/s]"
     ]
    },
    {
     "name": "stdout",
     "output_type": "stream",
     "text": [
      "Mats Wahl\n",
      "Jan Dolata\n",
      "Mats Wahl\n",
      "Ayla Kabaca\n",
      "Mats Wahl\n",
      "Tony Ernst\n",
      "Claes Åkeson\n",
      "Britt Damberg\n",
      "Charlotte Perrelli\n",
      "Gunilla Marcus\n",
      "Maud Husberg\n"
     ]
    },
    {
     "name": "stderr",
     "output_type": "stream",
     "text": [
      "\r",
      " 28%|██▊       | 162/570 [00:55<02:14,  3.03it/s]"
     ]
    },
    {
     "name": "stdout",
     "output_type": "stream",
     "text": [
      "Svante Thuresson\n",
      "Olle Helander\n",
      "William Lind\n",
      "Lotta Unger\n",
      "Fredrik af Trampe\n",
      "Christian Falk\n",
      "Sarah Dawn Finer\n",
      "Torbjörn Herminge\n",
      "Nelson Mandela\n",
      "Peter Lundblad\n"
     ]
    },
    {
     "name": "stderr",
     "output_type": "stream",
     "text": [
      "\r",
      " 29%|██▊       | 163/570 [00:55<02:16,  2.97it/s]"
     ]
    },
    {
     "name": "stdout",
     "output_type": "stream",
     "text": [
      "Petra Nielsen\n",
      "Stig Engström\n",
      "Mats Johansson\n",
      "Rumle Hammerich\n",
      "Tom Alandh\n",
      "Mikael Riesebeck\n",
      "Anna Alandh\n",
      "Anna Alandh\n",
      "Anna Alandh\n",
      "Anna Alandh\n",
      "Anna Alandh\n"
     ]
    },
    {
     "name": "stderr",
     "output_type": "stream",
     "text": [
      "\r",
      " 29%|██▉       | 164/570 [00:55<02:08,  3.17it/s]"
     ]
    },
    {
     "name": "stdout",
     "output_type": "stream",
     "text": [
      "Sofia Lind\n",
      "Oskar Svärd\n",
      "Anna Alandh\n",
      "Anna Alandh\n",
      "Anna Alandh\n",
      "Anna Alandh\n",
      "Anna Alandh\n"
     ]
    },
    {
     "name": "stderr",
     "output_type": "stream",
     "text": [
      "\r",
      " 29%|██▉       | 165/570 [00:55<01:58,  3.41it/s]"
     ]
    },
    {
     "name": "stdout",
     "output_type": "stream",
     "text": [
      "Werner Modiggård\n",
      "Tony Thorén\n",
      "Ragnhild Fjällhed\n"
     ]
    },
    {
     "name": "stderr",
     "output_type": "stream",
     "text": [
      "\r",
      " 29%|██▉       | 166/570 [00:56<02:11,  3.07it/s]"
     ]
    },
    {
     "name": "stdout",
     "output_type": "stream",
     "text": [
      "Annika Lantz\n",
      "Carina Berg\n",
      "Sigurd Jörgensen\n",
      "Sigurd Jörgensen\n",
      "Jackie Söderman\n",
      "Marianne Stjernqvist\n",
      "Åke Edwardson\n",
      "Åke Edwardson\n",
      "Åke Edwardson\n",
      "Åke Edwardson\n",
      "Lena Hansson\n"
     ]
    },
    {
     "name": "stderr",
     "output_type": "stream",
     "text": [
      "\r",
      " 29%|██▉       | 167/570 [00:57<02:57,  2.26it/s]"
     ]
    },
    {
     "name": "stdout",
     "output_type": "stream",
     "text": [
      "Marie Delleskog\n",
      "Carin Mannheimer\n",
      "ABBA\n",
      "ABBA\n",
      "Bobbo Nordenskiöld\n",
      "Bobbo Nordenskiöld\n",
      "Bobbo Nordenskiöld\n",
      "Oddmund Dyrhaug\n",
      "Bobbo Nordenskiöld\n",
      "Hasse Johansson\n",
      "Artur Erikson\n"
     ]
    },
    {
     "name": "stderr",
     "output_type": "stream",
     "text": [
      "\r",
      " 29%|██▉       | 168/570 [00:57<02:53,  2.32it/s]"
     ]
    },
    {
     "name": "stdout",
     "output_type": "stream",
     "text": [
      "Monica Zetterlund\n",
      "Lars Lennart Forsberg\n",
      "Lasse Holmqvist\n",
      "Lasse Holmqvist\n",
      "Carl-Gustaf Lindstedt\n",
      "Nisse Hansén\n",
      "Hagge Geigert\n",
      "Lars Molin\n",
      "Rune Andréasson\n",
      "Haakon Svenson\n",
      "Ingrid Dahlberg\n"
     ]
    },
    {
     "name": "stderr",
     "output_type": "stream",
     "text": [
      "\r",
      " 30%|██▉       | 169/570 [00:57<02:36,  2.56it/s]"
     ]
    },
    {
     "name": "stdout",
     "output_type": "stream",
     "text": [
      "Suzanne Reuter\n",
      "Allan Svensson\n",
      "Stefan Lundberg\n",
      "Pia Ehrnvall\n",
      "Lena Endre\n",
      "Yvonne Olsson\n",
      "Johan Wester\n",
      "Dan Sjögren\n",
      "Lasse Holmqvist\n",
      "Sigurd Jörgensen\n",
      "Sven Delblanc\n"
     ]
    },
    {
     "name": "stderr",
     "output_type": "stream",
     "text": [
      "\r",
      " 30%|██▉       | 170/570 [00:58<02:27,  2.71it/s]"
     ]
    },
    {
     "name": "stdout",
     "output_type": "stream",
     "text": [
      "Felix Herngren\n",
      "Johan Ulveson\n",
      "Johan Ulveson\n",
      "Johan Ulveson\n",
      "Johan Ulveson\n",
      "Lotta Blomberg\n",
      "Iwa Boman\n",
      "Maria Krantz\n",
      "Soij Kawakita\n",
      "Petra Nielsen\n",
      "Göran Gillinger\n"
     ]
    },
    {
     "name": "stderr",
     "output_type": "stream",
     "text": [
      "\r",
      " 30%|███       | 171/570 [00:58<02:21,  2.83it/s]"
     ]
    },
    {
     "name": "stdout",
     "output_type": "stream",
     "text": [
      "Göran Gillinger\n",
      "Maria Johansson\n",
      "Rickard Petrelius\n",
      "Louise Boije af Gennäs\n",
      "Roger Kihlblom\n",
      "Louise Boije af Gennäs\n",
      "Helena von Zweigbergk\n",
      "Roger Kihlblom\n",
      "Roger Kihlblom\n",
      "Roger Kihlblom\n",
      "Roger Kihlblom\n"
     ]
    },
    {
     "name": "stderr",
     "output_type": "stream",
     "text": [
      "\r",
      " 30%|███       | 172/570 [00:58<02:26,  2.72it/s]"
     ]
    },
    {
     "name": "stdout",
     "output_type": "stream",
     "text": [
      "Roger Kihlblom\n",
      "Peter Falck\n",
      "Roger Kihlblom\n",
      "Peter Falck\n",
      "Roger Kihlblom\n",
      "Roger Kihlblom\n",
      "Roger Kihlblom\n",
      "Roger Kihlblom\n",
      "Tomas Laustiola\n",
      "Roger Kihlblom\n",
      "Roger Kihlblom\n"
     ]
    },
    {
     "name": "stderr",
     "output_type": "stream",
     "text": [
      "\r",
      " 30%|███       | 173/570 [00:59<02:12,  3.00it/s]"
     ]
    },
    {
     "name": "stdout",
     "output_type": "stream",
     "text": [
      "Roger Kihlblom\n",
      "Tomas Laustiola\n",
      "Tomas Laustiola\n",
      "Roger Kihlblom\n",
      "Roger Kihlblom\n",
      "Anna Lindholm\n",
      "Inga Ålenius\n",
      "Alexandra Dahlström\n",
      "Inga Ålenius\n",
      "Marianne Söderberg\n",
      "Marianne Söderberg\n"
     ]
    },
    {
     "name": "stderr",
     "output_type": "stream",
     "text": [
      "\r",
      " 31%|███       | 174/570 [00:59<02:09,  3.06it/s]"
     ]
    },
    {
     "name": "stdout",
     "output_type": "stream",
     "text": [
      "Marianne Söderberg\n",
      "Agneta Ulfsäter-Troell\n",
      "Bo Strömstedt\n",
      "Sven Delblanc\n",
      "Peter Harryson\n",
      "Marian Gräns\n",
      "Gunnel Fred\n",
      "Johan Rabaeus\n",
      "Tomas von Brömssen\n",
      "Carl Bildt\n",
      "Tomas von Brömssen\n"
     ]
    },
    {
     "name": "stderr",
     "output_type": "stream",
     "text": [
      "\r",
      " 31%|███       | 175/570 [00:59<02:03,  3.19it/s]"
     ]
    },
    {
     "name": "stdout",
     "output_type": "stream",
     "text": [
      "Stellan Skarsgård\n",
      "Stina Lundberg Dabrowski\n",
      "LenaMaria Johansson\n",
      "Gunnel Fred\n",
      "Gunnel Fred\n",
      "Gunnel Fred\n",
      "Gunnel Fred\n",
      "Pija Lindenbaum\n",
      "Victor Ström\n",
      "Victor Ström\n",
      "Victor Ström\n"
     ]
    },
    {
     "name": "stderr",
     "output_type": "stream",
     "text": [
      "\r",
      " 31%|███       | 176/570 [00:59<02:05,  3.14it/s]"
     ]
    },
    {
     "name": "stdout",
     "output_type": "stream",
     "text": [
      "Victor Ström\n",
      "Sandra Medina\n",
      "Victor Ström\n",
      "Victor Ström\n",
      "Victor Ström\n",
      "Daniel Larsson\n",
      "Victor Ström\n",
      "Victor Ström\n",
      "Isabelle Rhedin-Hüttner\n",
      "Johan Ström\n",
      "Lotta Unger\n"
     ]
    },
    {
     "name": "stderr",
     "output_type": "stream",
     "text": [
      "\r",
      " 31%|███       | 177/570 [01:00<02:01,  3.23it/s]"
     ]
    },
    {
     "name": "stdout",
     "output_type": "stream",
     "text": [
      "Mikael Riesebeck\n",
      "Johan Wester\n",
      "Gunnel Carlson\n",
      "Alice Lyttkens\n",
      "P C Jersild\n",
      "P C Jersild\n",
      "Pierre Dahlander\n",
      "Petra Nielsen\n",
      "Leif GW Persson\n",
      "Björn Henriksson\n",
      "Kari Thomée\n"
     ]
    },
    {
     "name": "stderr",
     "output_type": "stream",
     "text": [
      "\r",
      " 31%|███       | 178/570 [01:00<02:00,  3.27it/s]"
     ]
    },
    {
     "name": "stdout",
     "output_type": "stream",
     "text": [
      "Kari Thomée\n",
      "Elisabeth Skarp\n",
      "Marianne Stjernqvist\n",
      "Marianne Stjernqvist\n",
      "Marianne Stjernqvist\n",
      "Marianne Stjernqvist\n",
      "Marianne Stjernqvist\n",
      "Marianne Stjernqvist\n",
      "Hagge Geigert\n",
      "Carin Mannheimer\n",
      "Koshan Shojaiyan\n"
     ]
    },
    {
     "name": "stderr",
     "output_type": "stream",
     "text": [
      "\r",
      " 31%|███▏      | 179/570 [01:00<01:55,  3.38it/s]"
     ]
    },
    {
     "name": "stdout",
     "output_type": "stream",
     "text": [
      "Ingrid Dahlberg\n",
      "Eva Barkman\n",
      "Ingrid Dahlberg\n",
      "Ingrid Dahlberg\n",
      "Ingrid Dahlberg\n",
      "Sigurd Jörgensen\n",
      "Sigurd Jörgensen\n",
      "Bengt-Arne Wallin\n",
      "Sigurd Jörgensen\n",
      "Sigurd Jörgensen\n",
      "Sigurd Jörgensen\n"
     ]
    },
    {
     "name": "stderr",
     "output_type": "stream",
     "text": [
      "\r",
      " 32%|███▏      | 180/570 [01:01<01:51,  3.51it/s]"
     ]
    },
    {
     "name": "stdout",
     "output_type": "stream",
     "text": [
      "Sigurd Jörgensen\n",
      "Lia Boysen\n",
      "Sigurd Jörgensen\n",
      "Sigurd Jörgensen\n",
      "Sigurd Jörgensen\n",
      "Sigurd Jörgensen\n",
      "Sigurd Jörgensen\n",
      "Sigurd Jörgensen\n",
      "Sigurd Jörgensen\n",
      "Sigurd Jörgensen\n",
      "Kjell Bergqvist\n"
     ]
    },
    {
     "name": "stderr",
     "output_type": "stream",
     "text": [
      "\r",
      " 32%|███▏      | 181/570 [01:01<01:52,  3.47it/s]"
     ]
    },
    {
     "name": "stdout",
     "output_type": "stream",
     "text": [
      "Kjell Bergqvist\n",
      "Cecilia Nilsson\n",
      "Carin Mannheimer\n",
      "Carin Mannheimer\n",
      "Carin Mannheimer\n",
      "Carin Mannheimer\n",
      "Carin Mannheimer\n",
      "Carin Mannheimer\n",
      "Carin Mannheimer\n",
      "Carin Mannheimer\n",
      "Carin Mannheimer\n"
     ]
    },
    {
     "name": "stderr",
     "output_type": "stream",
     "text": [
      "\r",
      " 32%|███▏      | 182/570 [01:01<01:52,  3.46it/s]"
     ]
    },
    {
     "name": "stdout",
     "output_type": "stream",
     "text": [
      "Berndt Berndtson\n",
      "Carin Mannheimer\n",
      "Carin Mannheimer\n",
      "Berndt Berndtson\n",
      "Berndt Berndtson\n",
      "Else-Marie Brandt\n",
      "Sven Lind\n",
      "Lasse Brandeby\n",
      "Göran Willis\n",
      "Göran Willis\n",
      "Göran Willis\n"
     ]
    },
    {
     "name": "stderr",
     "output_type": "stream",
     "text": [
      "\r",
      " 32%|███▏      | 183/570 [01:02<02:03,  3.13it/s]"
     ]
    },
    {
     "name": "stdout",
     "output_type": "stream",
     "text": [
      "Göran Willis\n",
      "Staffan Bengtsson\n",
      "Göran Willis\n",
      "Göran Willis\n",
      "Göran Willis\n",
      "Jan Hermansson\n",
      "Helena Brodin\n",
      "Sven Holmberg\n",
      "Marvin Yxner\n",
      "Irma Schultz\n",
      "Erik Haag\n"
     ]
    },
    {
     "name": "stderr",
     "output_type": "stream",
     "text": [
      "\r",
      " 32%|███▏      | 184/570 [01:02<01:59,  3.24it/s]"
     ]
    },
    {
     "name": "stdout",
     "output_type": "stream",
     "text": [
      "Olle Häger\n",
      "Hans Villius\n",
      "Hans Villius\n",
      "Olle Häger\n",
      "Olle Häger\n",
      "Olle Häger\n",
      "Olle Häger\n",
      "Stina Lundberg Dabrowski\n",
      "Gunnel Carlson\n",
      "Gunnel Carlson\n",
      "Gunnel Carlson\n"
     ]
    },
    {
     "name": "stderr",
     "output_type": "stream",
     "text": [
      "\r",
      " 32%|███▏      | 185/570 [01:02<02:02,  3.15it/s]"
     ]
    },
    {
     "name": "stdout",
     "output_type": "stream",
     "text": [
      "Gunnel Carlson\n",
      "Gunnel Carlson\n",
      "Gunnel Carlson\n",
      "Gunnel Carlson\n",
      "Gunnel Carlson\n",
      "Ingrid Dahlberg\n",
      "Lars Bill Lundholm\n",
      "Lars Bill Lundholm\n",
      "Lena Hansson\n",
      "Richard Hobert\n"
     ]
    },
    {
     "name": "stderr",
     "output_type": "stream",
     "text": [
      "\r",
      " 33%|███▎      | 186/570 [01:03<02:07,  3.02it/s]"
     ]
    },
    {
     "name": "stdout",
     "output_type": "stream",
     "text": [
      "Bengt Lagerkvist\n",
      "Ulf Palme\n",
      "Bengt Lagerkvist\n",
      "Lasse Brandeby\n",
      "Lasse Brandeby\n",
      "Lasse Brandeby\n",
      "Lasse Brandeby\n",
      "Lasse Brandeby\n",
      "Lasse Brandeby\n",
      "Lasse Brandeby\n",
      "Lasse Brandeby\n"
     ]
    },
    {
     "name": "stderr",
     "output_type": "stream",
     "text": [
      "\r",
      " 33%|███▎      | 187/570 [01:03<02:09,  2.95it/s]"
     ]
    },
    {
     "name": "stdout",
     "output_type": "stream",
     "text": [
      "Ragnar Lyth\n",
      "Bert Sundberg\n",
      "Jan \"Tollarparn\" Eriksson\n",
      "Marianne Stjernqvist\n",
      "Bodil Malmsten\n",
      "Carin Mannheimer\n",
      "Carin Mannheimer\n",
      "Carin Mannheimer\n",
      "Irma Erixson\n",
      "Carin Mannheimer\n",
      "Carin Mannheimer\n"
     ]
    },
    {
     "name": "stderr",
     "output_type": "stream",
     "text": [
      "\r",
      " 33%|███▎      | 188/570 [01:03<02:02,  3.12it/s]"
     ]
    },
    {
     "name": "stdout",
     "output_type": "stream",
     "text": [
      "Galenskaparna\n",
      "After Shave\n",
      "Galenskaparna\n",
      "Galenskaparna\n",
      "Galenskaparna\n",
      "Sigurd Jörgensen\n",
      "Pia Sjögren\n",
      "Ingmar Bergman\n",
      "Bengt Hallberg\n",
      "Tom Alandh\n",
      "Jan Hemmel\n"
     ]
    },
    {
     "name": "stderr",
     "output_type": "stream",
     "text": [
      "\r",
      " 33%|███▎      | 189/570 [01:03<02:00,  3.16it/s]"
     ]
    },
    {
     "name": "stdout",
     "output_type": "stream",
     "text": [
      "Killinggänget\n",
      "Ingrid Dahlberg\n",
      "Carin Mannheimer\n",
      "Tomas Laustiola\n",
      "Per Waldvik\n",
      "Gunnel Carlson\n",
      "Gösta Ekman\n",
      "Jan Olof Ohlsson\n",
      "Kjerstin Dellert\n",
      "Sigurd Jörgensen\n",
      "Staffan Bengtsson\n"
     ]
    },
    {
     "name": "stderr",
     "output_type": "stream",
     "text": [
      "\r",
      " 33%|███▎      | 190/570 [01:04<01:56,  3.25it/s]"
     ]
    },
    {
     "name": "stdout",
     "output_type": "stream",
     "text": [
      "Göran Willis\n",
      "Staffan Bengtsson\n",
      "Annika McLachlan\n",
      "Henning Mankell\n",
      "Henning Mankell\n",
      "Bo Hermansson\n",
      "Alan Simpson\n",
      "Bo Hermansson\n",
      "Alan Simpson\n",
      "Bo Hermansson\n",
      "Mikael Agaton\n"
     ]
    },
    {
     "name": "stderr",
     "output_type": "stream",
     "text": [
      "\r",
      " 34%|███▎      | 191/570 [01:04<02:03,  3.07it/s]"
     ]
    },
    {
     "name": "stdout",
     "output_type": "stream",
     "text": [
      "Mikael Agaton\n",
      "Lennart Nilsson\n",
      "Raoul Wallenberg\n",
      "Raoul Wallenberg\n",
      "Raoul Wallenberg\n",
      "Magnus Francke\n",
      "Lars Björkman\n",
      "Jonas Cornell\n",
      "Tjadden Hällström\n",
      "Olov Svedelid\n",
      "Lars Björkman\n"
     ]
    },
    {
     "name": "stderr",
     "output_type": "stream",
     "text": [
      "\r",
      " 34%|███▎      | 192/570 [01:05<02:10,  2.89it/s]"
     ]
    },
    {
     "name": "stdout",
     "output_type": "stream",
     "text": [
      "Lars Bjälkeskog\n",
      "Gunnar Forsmark\n",
      "Peter Birro\n",
      "Jonas Cornell\n",
      "Jonas Cornell\n",
      "Anna von Rosen\n",
      "Jonas Cornell\n",
      "Nanna Blondell\n",
      "Nanna Blondell\n",
      "Nanna Blondell\n",
      "Evert Taube\n"
     ]
    },
    {
     "name": "stderr",
     "output_type": "stream",
     "text": [
      "\r",
      " 34%|███▍      | 193/570 [01:05<02:18,  2.73it/s]"
     ]
    },
    {
     "name": "stdout",
     "output_type": "stream",
     "text": [
      "Magnus Nilsson\n",
      "David Odell\n",
      "Magnus Nilsson\n",
      "Magnus Nilsson\n",
      "Magnus Nilsson\n",
      "Magnus Nilsson\n",
      "Magnus Nilsson\n",
      "Magnus Nilsson\n",
      "Christian Wistrand\n",
      "Alice Lyttkens\n",
      "Kari Thomée\n"
     ]
    },
    {
     "name": "stderr",
     "output_type": "stream",
     "text": [
      "\r",
      " 34%|███▍      | 194/570 [01:05<02:15,  2.77it/s]"
     ]
    },
    {
     "name": "stdout",
     "output_type": "stream",
     "text": [
      "Ragnar Lyth\n",
      "Bert Sundberg\n",
      "Ingmar Bergman\n",
      "Kåge Jonsson\n",
      "Ylva Hemstad\n",
      "Måns Reuterswärd\n",
      "Gösta Ekman\n",
      "Olle Häger\n",
      "Bengt Lagerkvist\n",
      "Staffan Bengtsson\n",
      "Staffan Bengtsson\n"
     ]
    },
    {
     "name": "stderr",
     "output_type": "stream",
     "text": [
      "\r",
      " 34%|███▍      | 195/570 [01:06<02:23,  2.61it/s]"
     ]
    },
    {
     "name": "stdout",
     "output_type": "stream",
     "text": [
      "Astrid Lindgren\n",
      "Louise Raeder\n",
      "Johan Ulveson\n",
      "Felix Herngren\n",
      "Felix Herngren\n",
      "Felix Herngren\n",
      "Johan Ulveson\n",
      "Johan Ulveson\n",
      "Felix Herngren\n",
      "Fredrik af Trampe\n",
      "Annika McLachlan\n"
     ]
    },
    {
     "name": "stderr",
     "output_type": "stream",
     "text": [
      "\r",
      " 34%|███▍      | 196/570 [01:06<02:18,  2.70it/s]"
     ]
    },
    {
     "name": "stdout",
     "output_type": "stream",
     "text": [
      "Fredrik af Trampe\n",
      "Magnus Nilsson\n",
      "Fredrik af Trampe\n",
      "Fredrik af Trampe\n",
      "Babben Larsson\n",
      "Lotta Blomberg\n",
      "Mikael Agaton\n",
      "Nanna Blondell\n",
      "Nanna Blondell\n",
      "Nanna Blondell\n"
     ]
    },
    {
     "name": "stderr",
     "output_type": "stream",
     "text": [
      "\r",
      " 35%|███▍      | 197/570 [01:06<02:22,  2.62it/s]"
     ]
    },
    {
     "name": "stdout",
     "output_type": "stream",
     "text": [
      "Nanna Blondell\n",
      "Freddy Åsblom\n",
      "Nanna Blondell\n",
      "Nanna Blondell\n",
      "Nanna Blondell\n",
      "Nanna Blondell\n",
      "Christian Wistrand\n",
      "Christian Wistrand\n",
      "Nikolett Horvath\n",
      "Lasse Holmqvist\n",
      "Christian Wistrand\n"
     ]
    },
    {
     "name": "stderr",
     "output_type": "stream",
     "text": [
      "\r",
      " 35%|███▍      | 198/570 [01:07<02:32,  2.44it/s]"
     ]
    },
    {
     "name": "stdout",
     "output_type": "stream",
     "text": [
      "Jackie Söderman\n",
      "Elin Lennström\n",
      "Jackie Söderman\n",
      "Jackie Söderman\n",
      "Jackie Söderman\n",
      "Jackie Söderman\n",
      "Bengt Bratt\n",
      "Jackie Söderman\n",
      "Jackie Söderman\n",
      "Peter Falck\n",
      "Hans V Engström\n"
     ]
    },
    {
     "name": "stderr",
     "output_type": "stream",
     "text": [
      "\r",
      " 35%|███▍      | 199/570 [01:07<02:26,  2.52it/s]"
     ]
    },
    {
     "name": "stdout",
     "output_type": "stream",
     "text": [
      "Niklas Agaton\n",
      "Bengt Järnblad\n",
      "Stina Lundberg Dabrowski\n",
      "Leif Jakobsson\n",
      "Per Arne Norell\n",
      "Timo Kärnekull\n",
      "Jan \"Tollarparn\" Eriksson\n",
      "Annika McLachlan\n",
      "Annika McLachlan\n",
      "Hatte Furuhagen\n",
      "Hatte Furuhagen\n"
     ]
    },
    {
     "name": "stderr",
     "output_type": "stream",
     "text": [
      "\r",
      " 35%|███▌      | 200/570 [01:08<02:26,  2.52it/s]"
     ]
    },
    {
     "name": "stdout",
     "output_type": "stream",
     "text": [
      "Hatte Furuhagen\n",
      "Stina Lundberg Dabrowski\n",
      "Lars Bill Lundholm\n",
      "Linn Ullmann\n",
      "Anna Johansson\n",
      "Johan Sandström\n",
      "Roland Söderberg\n",
      "Inga Ålenius\n",
      "Aino Taube\n",
      "Roland Söderberg\n"
     ]
    },
    {
     "name": "stderr",
     "output_type": "stream",
     "text": [
      "\r",
      " 35%|███▌      | 201/570 [01:08<02:31,  2.43it/s]"
     ]
    },
    {
     "name": "stdout",
     "output_type": "stream",
     "text": [
      "Roland Söderberg\n",
      "Allan Svensson\n",
      "Marian Gräns\n",
      "Marian Gräns\n",
      "Brasse Brännström\n",
      "Magnus Nilsson\n",
      "Magnus Bejmar\n",
      "Jackie Söderman\n",
      "Jackie Söderman\n",
      "Jackie Söderman\n",
      "Jackie Söderman\n"
     ]
    },
    {
     "name": "stderr",
     "output_type": "stream",
     "text": [
      "\r",
      " 35%|███▌      | 202/570 [01:09<02:33,  2.40it/s]"
     ]
    },
    {
     "name": "stdout",
     "output_type": "stream",
     "text": [
      "Kent Andersson\n",
      "Lena-Pia Bernhardsson\n",
      "Jackie Söderman\n",
      "Jackie Söderman\n",
      "Kjell Gustavsson\n",
      "Lars Lennart Forsberg\n",
      "Fredrik af Trampe\n",
      "Ingrid Dahlberg\n",
      "Måns Westfelt\n",
      "Ingrid Dahlberg\n",
      "Lotta Unger\n"
     ]
    },
    {
     "name": "stderr",
     "output_type": "stream",
     "text": [
      "\r",
      " 36%|███▌      | 203/570 [01:09<02:17,  2.67it/s]"
     ]
    },
    {
     "name": "stdout",
     "output_type": "stream",
     "text": [
      "Johan Wester\n",
      "Anders Jansson\n",
      "Christian Wistrand\n",
      "Marianne Söderberg\n",
      "Claire Wikholm\n",
      "Monica Zetterlund\n",
      "Kjell Bergqvist\n",
      "Kjell Bergqvist\n",
      "Lars Edström\n",
      "Kjell Bergqvist\n",
      "Kjell Bergqvist\n"
     ]
    },
    {
     "name": "stderr",
     "output_type": "stream",
     "text": [
      "\r",
      " 36%|███▌      | 204/570 [01:09<02:17,  2.67it/s]"
     ]
    },
    {
     "name": "stdout",
     "output_type": "stream",
     "text": [
      "Marianne Stjernqvist\n",
      "Gösta Ekman\n",
      "P C Jersild\n",
      "P C Jersild\n",
      "Pierre Dahlander\n",
      "Pierre Dahlander\n",
      "Kari Thomée\n",
      "Kari Thomée\n",
      "Marianne Stjernqvist\n",
      "Marianne Stjernqvist\n",
      "Ingrid Dahlberg\n"
     ]
    },
    {
     "name": "stderr",
     "output_type": "stream",
     "text": [
      "\r",
      " 36%|███▌      | 205/570 [01:10<02:42,  2.25it/s]"
     ]
    },
    {
     "name": "stdout",
     "output_type": "stream",
     "text": [
      "Ingrid Dahlberg\n",
      "Agneta Ehrensvärd\n",
      "Ingrid Dahlberg\n",
      "Ingrid Dahlberg\n",
      "Sigurd Jörgensen\n",
      "Ingrid Dahlberg\n",
      "Ingrid Dahlberg\n",
      "Sigurd Jörgensen\n",
      "Sigurd Jörgensen\n",
      "Sigurd Jörgensen\n",
      "Sigurd Jörgensen\n"
     ]
    },
    {
     "name": "stderr",
     "output_type": "stream",
     "text": [
      "\r",
      " 36%|███▌      | 206/570 [01:10<02:30,  2.42it/s]"
     ]
    },
    {
     "name": "stdout",
     "output_type": "stream",
     "text": [
      "Sigurd Jörgensen\n",
      "Bernt Nilsson\n",
      "Sigurd Jörgensen\n",
      "Sigurd Jörgensen\n",
      "Sigurd Jörgensen\n",
      "Sigurd Jörgensen\n",
      "Sigurd Jörgensen\n",
      "Sigurd Jörgensen\n",
      "Sigurd Jörgensen\n",
      "Sigurd Jörgensen\n",
      "Sigurd Jörgensen\n"
     ]
    },
    {
     "name": "stderr",
     "output_type": "stream",
     "text": [
      "\r",
      " 36%|███▋      | 207/570 [01:10<02:14,  2.69it/s]"
     ]
    },
    {
     "name": "stdout",
     "output_type": "stream",
     "text": [
      "Kjell Bergqvist\n",
      "Cecilia Nilsson\n",
      "Lars Molin\n",
      "Jackie Söderman\n",
      "Tomas von Brömssen\n",
      "Kelly Tainton\n",
      "Per Sjöstrand\n",
      "Per Sjöstrand\n",
      "Per Sjöstrand\n",
      "Per Sjöstrand\n",
      "Per Sjöstrand\n"
     ]
    },
    {
     "name": "stderr",
     "output_type": "stream",
     "text": [
      "\r",
      " 36%|███▋      | 208/570 [01:11<02:04,  2.92it/s]"
     ]
    },
    {
     "name": "stdout",
     "output_type": "stream",
     "text": [
      "Per Sjöstrand\n",
      "Berta Hall\n",
      "Per Sjöstrand\n",
      "Mats Andersson\n",
      "Henrik Ekman\n",
      "Sverker Olofsson\n",
      "Lotta Unger\n",
      "Stefan Lundberg\n",
      "Curt Eric Holmquist\n",
      "Björn Gustafson\n",
      "Bengt Hallberg\n"
     ]
    },
    {
     "name": "stderr",
     "output_type": "stream",
     "text": [
      "\r",
      " 37%|███▋      | 209/570 [01:11<02:12,  2.73it/s]"
     ]
    },
    {
     "name": "stdout",
     "output_type": "stream",
     "text": [
      "Killinggänget\n",
      "Ingrid Dahlberg\n",
      "Killinggänget\n",
      "Killinggänget\n",
      "Killinggänget\n",
      "Killinggänget\n",
      "Lars Molin\n",
      "Lasse Berghagen\n",
      "Anders Barnö\n",
      "Aino Taube\n"
     ]
    },
    {
     "name": "stderr",
     "output_type": "stream",
     "text": [
      "\r",
      " 37%|███▋      | 210/570 [01:11<02:02,  2.93it/s]"
     ]
    },
    {
     "name": "stdout",
     "output_type": "stream",
     "text": [
      "Jan Eriksson\n",
      "Tage Erlander\n",
      "Berndt Berndtson\n",
      "Anna von Rosen\n",
      "Gunnel Fred\n",
      "Måns Reuterswärd\n",
      "Gunnel Fred\n",
      "Ingmar Bergman\n",
      "Meta Bergqvist\n",
      "Pippi Långstrump\n",
      "Sven Stolpe\n"
     ]
    },
    {
     "name": "stderr",
     "output_type": "stream",
     "text": [
      "\r",
      " 37%|███▋      | 211/570 [01:12<02:27,  2.43it/s]"
     ]
    },
    {
     "name": "stdout",
     "output_type": "stream",
     "text": [
      "Lars Adaktusson\n",
      "Fredrik Reinfeldt\n",
      "Lars Molin\n",
      "Eric Ericson (f 1918)\n",
      "Jan Moltas Erikson\n",
      "Jan Moltas Erikson\n",
      "Jan Moltas Erikson\n",
      "Mikael Syrén\n",
      "Göran Willis\n",
      "Bengt Lagerkvist\n",
      "Hans-Ove Larsson\n"
     ]
    },
    {
     "name": "stderr",
     "output_type": "stream",
     "text": [
      "\r",
      " 37%|███▋      | 212/570 [01:12<02:12,  2.71it/s]"
     ]
    },
    {
     "name": "stdout",
     "output_type": "stream",
     "text": [
      "Pia Sjögren\n",
      "Björn Henriksson\n",
      "Meta Bergqvist\n",
      "Lena Andersson\n",
      "Linus Lauthers\n",
      "Tomas Norström\n",
      "Harald Norbelie\n",
      "Hasse Alatalo\n",
      "Hasse Alatalo\n",
      "Olle Häger\n",
      "Meta Bergqvist\n"
     ]
    },
    {
     "name": "stderr",
     "output_type": "stream",
     "text": [
      "\r",
      " 37%|███▋      | 213/570 [01:13<02:12,  2.70it/s]"
     ]
    },
    {
     "name": "stdout",
     "output_type": "stream",
     "text": [
      "Meta Bergqvist\n",
      "Jonas Wahlström\n",
      "Marianne Söderberg\n",
      "Kjell Tunegård\n",
      "Lena Endre\n",
      "Ulf Kvensler\n",
      "Inger Nilsson\n",
      "Inger Nilsson\n",
      "Meta Bergqvist\n",
      "Allan Schulman\n"
     ]
    },
    {
     "name": "stderr",
     "output_type": "stream",
     "text": [
      "\r",
      " 38%|███▊      | 214/570 [01:13<02:34,  2.30it/s]"
     ]
    },
    {
     "name": "stdout",
     "output_type": "stream",
     "text": [
      "Lasse Brandeby\n",
      "Hans Wiktorsson\n",
      "Pippi Långstrump\n",
      "Dalai Lama\n",
      "Inger Nilsson\n",
      "Lasse Berghagen\n",
      "Pär Ericson\n",
      "Pär Ericson\n",
      "Pär Ericson\n",
      "Pär Ericson\n",
      "Pär Ericson\n"
     ]
    },
    {
     "name": "stderr",
     "output_type": "stream",
     "text": [
      "\r",
      " 38%|███▊      | 215/570 [01:14<02:14,  2.64it/s]"
     ]
    },
    {
     "name": "stdout",
     "output_type": "stream",
     "text": [
      "Pär Ericson\n",
      "Kim Anderzon\n",
      "Pär Ericson\n",
      "Pär Ericson\n",
      "Pär Ericson\n",
      "Pär Ericson\n",
      "Pär Ericson\n",
      "Johan Bogaeus\n",
      "Pär Ericson\n",
      "Johan Bogaeus\n",
      "Johan Bogaeus\n"
     ]
    },
    {
     "name": "stderr",
     "output_type": "stream",
     "text": [
      "\r",
      " 38%|███▊      | 216/570 [01:14<02:03,  2.86it/s]"
     ]
    },
    {
     "name": "stdout",
     "output_type": "stream",
     "text": [
      "Göran Danasten\n",
      "Stephan Apelgren\n",
      "Henrik Lagercrantz\n",
      "Broder Daniel\n",
      "Bob Dylan\n",
      "Bob Dylan\n",
      "Hans Marklund\n",
      "Staffan Schmidt\n",
      "The Rolling Stones\n",
      "The Hives\n",
      "Eric Ericson (f 1974)\n"
     ]
    },
    {
     "name": "stderr",
     "output_type": "stream",
     "text": [
      "\r",
      " 38%|███▊      | 217/570 [01:14<02:12,  2.67it/s]"
     ]
    },
    {
     "name": "stdout",
     "output_type": "stream",
     "text": [
      "Bo Nilsson\n",
      "Per Myrberg\n",
      "Eric Ericson (f 1974)\n",
      "Lars Forssell\n",
      "Thomas Schuback\n",
      "Thomas Schuback\n",
      "Eric Ericson (f 1974)\n",
      "Eric Ericson (f 1974)\n",
      "Eric Ericson (f 1974)\n",
      "Ralph Carlsson\n"
     ]
    },
    {
     "name": "stderr",
     "output_type": "stream",
     "text": [
      "\r",
      " 38%|███▊      | 218/570 [01:15<02:13,  2.63it/s]"
     ]
    },
    {
     "name": "stdout",
     "output_type": "stream",
     "text": [
      "Eric Ericson (f 1974)\n",
      "Magnus Krepper\n",
      "Elisabeth Andreassen\n",
      "Tage Danielsson\n",
      "The Hives\n",
      "Eric Ericson (f 1974)\n",
      "Eric Ericson (f 1974)\n",
      "Eric Ericson (f 1974)\n",
      "Staffan Schmidt\n",
      "Börje Mellvig\n",
      "Catrin Westerlund\n"
     ]
    },
    {
     "name": "stderr",
     "output_type": "stream",
     "text": [
      "\r",
      " 38%|███▊      | 219/570 [01:15<02:07,  2.75it/s]"
     ]
    },
    {
     "name": "stdout",
     "output_type": "stream",
     "text": [
      "Börje Mellvig\n",
      "Catrin Westerlund\n",
      "Henrik Berggren\n",
      "Niklas Strömstedt\n",
      "Per Olov Enquist\n",
      "Per Olov Enquist\n",
      "Per Olov Enquist\n",
      "Per Olov Enquist\n",
      "The Beatles\n",
      "Dr Alban\n",
      "Eric Ericson (f 1918)\n"
     ]
    },
    {
     "name": "stderr",
     "output_type": "stream",
     "text": [
      "\r",
      " 39%|███▊      | 220/570 [01:15<01:57,  2.99it/s]"
     ]
    },
    {
     "name": "stdout",
     "output_type": "stream",
     "text": [
      "Hasse Alatalo\n",
      "Ville Carlström\n",
      "Leonard Cohen\n",
      "Ellinor Persson\n",
      "Öllegård Wellton\n",
      "Cornelis Vreeswijk\n",
      "Catrin Westerlund\n",
      "Peter Henriksson\n",
      "Irene Bengtsson\n",
      "Eric Ericson (f 1974)\n"
     ]
    },
    {
     "name": "stderr",
     "output_type": "stream",
     "text": [
      "\r",
      " 39%|███▉      | 221/570 [01:16<01:55,  3.02it/s]"
     ]
    },
    {
     "name": "stdout",
     "output_type": "stream",
     "text": [
      "Carl-Ingemar Perstad\n",
      "Kerstin Eriksson\n",
      "Carl-Ingmar Perstad\n",
      "Johan Ulveson\n",
      "Åke Edin\n",
      "Åke Edin\n",
      "Åke Edin\n",
      "Åke Edin\n",
      "Åke Edin\n",
      "Johan Kindblom\n",
      "Johan Kindblom\n"
     ]
    },
    {
     "name": "stderr",
     "output_type": "stream",
     "text": [
      "\r",
      " 39%|███▉      | 222/570 [01:16<01:51,  3.11it/s]"
     ]
    },
    {
     "name": "stdout",
     "output_type": "stream",
     "text": [
      "Johan Kindblom\n",
      "Tomas Tivemark\n",
      "Christian Hollbrink\n",
      "Christian Hollbrink\n",
      "Christian Hollbrink\n",
      "Johan Kindblom\n",
      "Suzanne Reuter\n",
      "Suzanne Reuter\n",
      "Lena Haglund\n",
      "Magnus Högberg\n",
      "Helena Bergström\n"
     ]
    },
    {
     "name": "stderr",
     "output_type": "stream",
     "text": [
      "\r",
      " 39%|███▉      | 223/570 [01:16<01:59,  2.91it/s]"
     ]
    },
    {
     "name": "stdout",
     "output_type": "stream",
     "text": [
      "Bo Gentzel\n",
      "Niklas Hyland\n",
      "Jon Thunqvist\n",
      "Lars Brandström\n",
      "Nils Brandt\n",
      "Nils Brandt\n",
      "Nils Brandt\n",
      "Nils Brandt\n",
      "La Cumparsita\n",
      "Nils Brandt\n",
      "Olli Hörkkö\n"
     ]
    },
    {
     "name": "stderr",
     "output_type": "stream",
     "text": [
      "\r",
      " 39%|███▉      | 224/570 [01:17<02:16,  2.54it/s]"
     ]
    },
    {
     "name": "stdout",
     "output_type": "stream",
     "text": [
      "Dag Strömqvist\n",
      "Jonas Frykberg\n",
      "Sven-Bertil Taube\n",
      "Dag Strömqvist\n",
      "Dag Strömqvist\n",
      "Dag Strömqvist\n",
      "Dag Strömqvist\n",
      "Dag Strömqvist\n",
      "Pernilla Oljelund\n",
      "Dag Strömqvist\n",
      "Tomas von Brömssen\n"
     ]
    },
    {
     "name": "stderr",
     "output_type": "stream",
     "text": [
      "\r",
      " 39%|███▉      | 225/570 [01:17<02:18,  2.50it/s]"
     ]
    },
    {
     "name": "stdout",
     "output_type": "stream",
     "text": [
      "Arne Hegerfors\n",
      "Staffan Lindeborg\n",
      "Arne Hegerfors\n",
      "Christer Björkvall\n",
      "Arne Hegerfors\n",
      "Susanne Valentin\n",
      "Mats Wegmann\n",
      "Anton Tjechov\n",
      "Peggy Faith-Ell\n",
      "Andreas Rocksén\n"
     ]
    },
    {
     "name": "stderr",
     "output_type": "stream",
     "text": [
      "\r",
      " 40%|███▉      | 226/570 [01:17<02:06,  2.72it/s]"
     ]
    },
    {
     "name": "stdout",
     "output_type": "stream",
     "text": [
      "Gunnel Fred\n",
      "Suzanne Reuter\n",
      "Ann-Marie Gyllenspetz\n",
      "Inger Nilsson\n",
      "Ingrid Dahlberg\n",
      "Claes Åström\n",
      "Ebbe Schön\n",
      "Malin Toverud\n",
      "Olle Strömdahl\n",
      "Jackie Söderman\n",
      "Mikael Syrén\n"
     ]
    },
    {
     "name": "stderr",
     "output_type": "stream",
     "text": [
      "\r",
      " 40%|███▉      | 227/570 [01:18<02:02,  2.81it/s]"
     ]
    },
    {
     "name": "stdout",
     "output_type": "stream",
     "text": [
      "Inger Nilsson\n",
      "Maria Persson\n",
      "Öllegård Wellton\n",
      "Ann-Marie Gyllenspetz\n",
      "Inger Nilsson\n",
      "Göthe Grefbo\n",
      "Hans Clarin\n",
      "Olle Hilding\n",
      "Pia Ehrnvall\n",
      "Meta Bergqvist\n"
     ]
    },
    {
     "name": "stderr",
     "output_type": "stream",
     "text": [
      "\r",
      " 40%|████      | 228/570 [01:18<01:57,  2.91it/s]"
     ]
    },
    {
     "name": "stdout",
     "output_type": "stream",
     "text": [
      "KG Rickhamre\n",
      "Sten Wickbom\n",
      "Sven-Erik Bäck\n",
      "Carl-Ingemar Perstad\n",
      "Karin Falck\n",
      "Sten Heckscher\n",
      "Olof Palme\n",
      "Per-Erik Lindorm\n",
      "Karin Falck\n",
      "Allan Rubin\n",
      "Mia Björkström\n"
     ]
    },
    {
     "name": "stderr",
     "output_type": "stream",
     "text": [
      "\r",
      " 40%|████      | 229/570 [01:18<02:01,  2.80it/s]"
     ]
    },
    {
     "name": "stdout",
     "output_type": "stream",
     "text": [
      "Peter Falck\n",
      "Rolf Sohlman\n",
      "Bo Bjelfvenstam\n",
      "Ann-Ci Lifmark\n",
      "Margareta Feldt-Arehn\n",
      "Tommy Bennwik\n",
      "Peggy Faith-Ell\n",
      "Tommy Bennwik\n",
      "Daniel Moll\n",
      "Tommy Bennwik\n",
      "Tommy Bennwik\n"
     ]
    },
    {
     "name": "stderr",
     "output_type": "stream",
     "text": [
      "\r",
      " 40%|████      | 230/570 [01:19<02:05,  2.71it/s]"
     ]
    },
    {
     "name": "stdout",
     "output_type": "stream",
     "text": [
      "Tomas Alfredson\n",
      "Jonas Inde\n",
      "Suzanne Reuter\n",
      "Rolf Lassgård\n",
      "Jan Moltas Erikson\n",
      "Siewert Öholm\n",
      "Margit Borgström\n",
      "Helena Bergström\n",
      "Helena Bergström\n",
      "Helena Bergström\n",
      "Magnus Högberg\n"
     ]
    },
    {
     "name": "stderr",
     "output_type": "stream",
     "text": [
      "\r",
      " 41%|████      | 231/570 [01:19<01:56,  2.90it/s]"
     ]
    },
    {
     "name": "stdout",
     "output_type": "stream",
     "text": [
      "Magnus Högberg\n",
      "Helena Bergström\n",
      "Helena Bergström\n",
      "Helena Bergström\n",
      "Helena Bergström\n",
      "Helena Bergström\n",
      "Helena Bergström\n",
      "Magnus Högberg\n",
      "Magnus Högberg\n",
      "Magnus Högberg\n"
     ]
    },
    {
     "name": "stderr",
     "output_type": "stream",
     "text": [
      "\r",
      " 41%|████      | 232/570 [01:19<01:50,  3.06it/s]"
     ]
    },
    {
     "name": "stdout",
     "output_type": "stream",
     "text": [
      "Hans Åke Nordström\n",
      "Christer Glenning\n",
      "Christer Glenning\n",
      "Johan Sandström\n",
      "Karin af Klintberg\n",
      "Åke Edwardson\n",
      "Rune Rustman\n",
      "Jan-Hugo Norman\n"
     ]
    },
    {
     "name": "stderr",
     "output_type": "stream",
     "text": [
      "\r",
      " 41%|████      | 233/570 [01:20<02:24,  2.33it/s]"
     ]
    },
    {
     "name": "stdout",
     "output_type": "stream",
     "text": [
      "The Hollies\n",
      "Tages\n",
      "Hans Holmér\n",
      "Bengt Lagerkvist\n",
      "Per Oscarsson\n",
      "Per Oscarsson\n",
      "Per Oscarsson\n",
      "Per Oscarsson\n",
      "Per Oscarsson\n",
      "Per Oscarsson\n",
      "Arne Hegerfors\n"
     ]
    },
    {
     "name": "stderr",
     "output_type": "stream",
     "text": [
      "\r",
      " 41%|████      | 234/570 [01:20<02:10,  2.58it/s]"
     ]
    },
    {
     "name": "stdout",
     "output_type": "stream",
     "text": [
      "Jonas Olsson\n",
      "Björn von Sydow\n",
      "Tomas Norström\n",
      "Ulla Sjöblom\n",
      "Ingemar Stenmark\n",
      "Tomas Norström\n",
      "Tomas Norström\n",
      "Tomas Norström\n",
      "Torbjörn Olausson\n",
      "Frej Lindqvist\n",
      "Mauro Scocco\n"
     ]
    },
    {
     "name": "stderr",
     "output_type": "stream",
     "text": [
      "\r",
      " 41%|████      | 235/570 [01:21<02:02,  2.73it/s]"
     ]
    },
    {
     "name": "stdout",
     "output_type": "stream",
     "text": [
      "Leif Jakobsson\n",
      "Staffan Bengtsson\n",
      "Bengt Lagerkvist\n",
      "Lars Amble\n",
      "Mikael Syrén\n",
      "Carl Norén\n",
      "Eric Ericson (f 1918)\n",
      "Jens Lind\n",
      "Staffan Bengtsson\n",
      "Bengt Lagerkvist\n"
     ]
    },
    {
     "name": "stderr",
     "output_type": "stream",
     "text": [
      "\r",
      " 41%|████▏     | 236/570 [01:21<02:18,  2.41it/s]"
     ]
    },
    {
     "name": "stdout",
     "output_type": "stream",
     "text": [
      "Mikael Håfström\n",
      "Lars Björkman\n",
      "Prinsessan Madeleine\n",
      "Tuva Petersdotter\n",
      "Maria Bolme\n",
      "David Arnesen\n",
      "Carina Ernryd\n",
      "Miranda Nord\n",
      "Anna Bernardsson\n",
      "Lena Ringqvist\n",
      "Birgitta Svensson\n"
     ]
    },
    {
     "name": "stderr",
     "output_type": "stream",
     "text": [
      "\r",
      " 42%|████▏     | 237/570 [01:22<02:04,  2.67it/s]"
     ]
    },
    {
     "name": "stdout",
     "output_type": "stream",
     "text": [
      "Katarina Dunér\n",
      "Marianne Söderberg\n",
      "Suzanne Axell\n",
      "Ingrid Dahlberg\n",
      "Barbro Hiort af Ornäs\n",
      "Jonas Uddenmyr\n",
      "Folke Olhagen\n",
      "Peter Birro\n",
      "Peter Birro\n",
      "Peter Birro\n"
     ]
    },
    {
     "name": "stderr",
     "output_type": "stream",
     "text": [
      "\r",
      " 42%|████▏     | 238/570 [01:22<02:10,  2.55it/s]"
     ]
    },
    {
     "name": "stdout",
     "output_type": "stream",
     "text": [
      "Tomas von Brömssen\n",
      "Sten-Åke Cederhök\n",
      "Tomas von Brömssen\n",
      "Tomas von Brömssen\n",
      "Sten-Åke Cederhök\n",
      "Tomas von Brömssen\n",
      "Alan Simpson\n",
      "Anders Björhammar\n",
      "Barbro Svinhufvud\n",
      "Ann-Mari Jartelius\n",
      "Sam Nilsson\n"
     ]
    },
    {
     "name": "stderr",
     "output_type": "stream",
     "text": [
      "\r",
      " 42%|████▏     | 239/570 [01:22<01:59,  2.77it/s]"
     ]
    },
    {
     "name": "stdout",
     "output_type": "stream",
     "text": [
      "William Shakespeare\n",
      "Hans Dahlin\n",
      "Lars Norén\n",
      "Anders Erik Malm\n",
      "Jan Svanlund\n",
      "Jan Svanlund\n",
      "Fredde Granberg\n",
      "A-ha\n",
      "Fredde Granberg\n",
      "Peder Lamm\n",
      "Charlotte Perrelli\n"
     ]
    },
    {
     "name": "stderr",
     "output_type": "stream",
     "text": [
      "\r",
      " 42%|████▏     | 240/570 [01:23<01:53,  2.91it/s]"
     ]
    },
    {
     "name": "stdout",
     "output_type": "stream",
     "text": [
      "Lars Norén\n",
      "Reine Brynolfsson\n",
      "Folke Olhagen\n",
      "Stage Four\n",
      "Börje Ahlstedt\n",
      "Börje Ahlstedt\n",
      "Börje Ahlstedt\n",
      "Börje Ahlstedt\n",
      "Börje Ahlstedt\n",
      "Börje Ahlstedt\n"
     ]
    },
    {
     "name": "stderr",
     "output_type": "stream",
     "text": [
      "\r",
      " 42%|████▏     | 241/570 [01:23<02:00,  2.74it/s]"
     ]
    },
    {
     "name": "stdout",
     "output_type": "stream",
     "text": [
      "Börje Ahlstedt\n",
      "Jonna Arb\n",
      "Börje Ahlstedt\n",
      "Tom Alandh\n",
      "Börje Ahlstedt\n",
      "Börje Ahlstedt\n",
      "Börje Ahlstedt\n",
      "Börje Ahlstedt\n",
      "Börje Ahlstedt\n",
      "Börje Ahlstedt\n",
      "Börje Ahlstedt\n"
     ]
    },
    {
     "name": "stderr",
     "output_type": "stream",
     "text": [
      "\r",
      " 42%|████▏     | 242/570 [01:23<01:49,  2.99it/s]"
     ]
    },
    {
     "name": "stdout",
     "output_type": "stream",
     "text": [
      "Hans Alsér\n",
      "Stellan Bengtsson\n",
      "Bengt Westerberg\n",
      "Bengt Westerberg\n",
      "Erik Fichtelius\n",
      "Bengt Grive\n",
      "Barna Both\n",
      "Lena Logren\n",
      "Lena Logren\n",
      "Lena Logren\n",
      "Anna Lindman\n"
     ]
    },
    {
     "name": "stderr",
     "output_type": "stream",
     "text": [
      "\r",
      " 43%|████▎     | 243/570 [01:24<01:47,  3.04it/s]"
     ]
    },
    {
     "name": "stdout",
     "output_type": "stream",
     "text": [
      "Karin Boye\n",
      "Signe Boye\n",
      "Börje Ahlstedt\n",
      "Börje Ahlstedt\n",
      "Börje Ahlstedt\n",
      "Katarina Dunér\n",
      "Katarina Dunér\n",
      "Katarina Dunér\n",
      "Katarina Dunér\n",
      "Peter Dalle\n",
      "Peter Dalle\n"
     ]
    },
    {
     "name": "stderr",
     "output_type": "stream",
     "text": [
      "\r",
      " 43%|████▎     | 244/570 [01:24<01:46,  3.07it/s]"
     ]
    },
    {
     "name": "stdout",
     "output_type": "stream",
     "text": [
      "Peter Dalle\n",
      "Lena Endre\n",
      "Peter Dalle\n",
      "Lena Endre\n",
      "Lena Endre\n",
      "Nina Hedenius\n",
      "Johan Kindblom\n",
      "Johan Kindblom\n",
      "Johan Kindblom\n",
      "Johan Kindblom\n",
      "Johan Kindblom\n"
     ]
    },
    {
     "name": "stderr",
     "output_type": "stream",
     "text": [
      "\r",
      " 43%|████▎     | 245/570 [01:24<01:40,  3.22it/s]"
     ]
    },
    {
     "name": "stdout",
     "output_type": "stream",
     "text": [
      "Björn Gustafson\n",
      "Johan Rabaeus\n",
      "Björn Gustafson\n",
      "Björn Gustafson\n",
      "Björn Gustafson\n",
      "Björn Gustafson\n",
      "Björn Gustafson\n",
      "Bo Hermansson\n",
      "Bo Hermansson\n",
      "Ingrid Dahlberg\n",
      "Gunnar Hellström\n"
     ]
    },
    {
     "name": "stderr",
     "output_type": "stream",
     "text": [
      "\r",
      " 43%|████▎     | 246/570 [01:24<01:38,  3.29it/s]"
     ]
    },
    {
     "name": "stdout",
     "output_type": "stream",
     "text": [
      "Gunnar Hellström\n",
      "Linda Kozlowski\n",
      "Bengt Lagerkvist\n",
      "Lasse Hallström\n",
      "Rikard Wolff\n",
      "Roger Sellberg\n",
      "Johan Kindblom\n",
      "Katharina Bothén\n",
      "Björn Gustafson\n",
      "Johan Kindblom\n",
      "Björn Gustafson\n"
     ]
    },
    {
     "name": "stderr",
     "output_type": "stream",
     "text": [
      "\r",
      " 43%|████▎     | 247/570 [01:25<01:45,  3.06it/s]"
     ]
    },
    {
     "name": "stdout",
     "output_type": "stream",
     "text": [
      "Björn Gustafson\n",
      "Johan Rabaeus\n",
      "Ingrid Dahlberg\n",
      "Ingrid Dahlberg\n",
      "Gunnar Hellström\n",
      "Bengt Lagerkvist\n",
      "Bengt Lagerkvist\n",
      "Tom Alandh\n",
      "Tom Alandh\n",
      "Lasse Hallström\n",
      "Philippa Wallér\n"
     ]
    },
    {
     "name": "stderr",
     "output_type": "stream",
     "text": [
      "\r",
      " 44%|████▎     | 248/570 [01:25<01:39,  3.24it/s]"
     ]
    },
    {
     "name": "stdout",
     "output_type": "stream",
     "text": [
      "Philippa Wallér\n",
      "Johan Kindblom\n",
      "Johan Kindblom\n",
      "Björn Gustafson\n",
      "Björn Gustafson\n",
      "Björn Gustafson\n",
      "Ingrid Dahlberg\n",
      "Björn Isfält\n",
      "Bo Hermansson\n",
      "Ingrid Dahlberg\n",
      "Bengt Lagerkvist\n"
     ]
    },
    {
     "name": "stderr",
     "output_type": "stream",
     "text": [
      "\r",
      " 44%|████▎     | 249/570 [01:25<01:39,  3.22it/s]"
     ]
    },
    {
     "name": "stdout",
     "output_type": "stream",
     "text": [
      "Lasse Hallström\n",
      "Torsten Lilliecrona\n",
      "Anna von Rosen\n",
      "Anna von Rosen\n",
      "Lasse Hallström\n",
      "Martin Ljung\n",
      "Katharina Bothén\n",
      "Olle Häger\n",
      "Kristian Hoberstorfer\n",
      "Kaj Larsen\n",
      "Kristian Hoberstorfer\n"
     ]
    },
    {
     "name": "stderr",
     "output_type": "stream",
     "text": [
      "\r",
      " 44%|████▍     | 250/570 [01:26<01:36,  3.32it/s]"
     ]
    },
    {
     "name": "stdout",
     "output_type": "stream",
     "text": [
      "Bo Hermansson\n",
      "Suzanne Reuter\n",
      "Björn Gustafson\n",
      "Olle Grönstedt\n",
      "Rikard Wolff\n",
      "Emma Kronqvist\n",
      "Emma Kronqvist\n",
      "Ingvar Ernblad\n",
      "Olof Palme\n",
      "Berne Wilhelmsson\n",
      "Harald Norbelie\n"
     ]
    },
    {
     "name": "stderr",
     "output_type": "stream",
     "text": [
      "\r",
      " 44%|████▍     | 251/570 [01:26<01:42,  3.11it/s]"
     ]
    },
    {
     "name": "stdout",
     "output_type": "stream",
     "text": [
      "Gonks\n",
      "Four Seven\n",
      "Benny Andersson\n",
      "The Shakers\n",
      "Anders Jansson\n",
      "Zaintz\n",
      "New Look\n",
      "Benny Andersson\n",
      "After Dark\n",
      "Streaplers\n",
      "Kåge Gimtell\n"
     ]
    },
    {
     "name": "stderr",
     "output_type": "stream",
     "text": [
      "\r",
      " 44%|████▍     | 252/570 [01:26<01:39,  3.20it/s]"
     ]
    },
    {
     "name": "stdout",
     "output_type": "stream",
     "text": [
      "Edward Wojcicki\n",
      "Hans Pålsson\n",
      "Edward Wojcicki\n",
      "Edward Wojcicki\n",
      "Hans Pålsson\n",
      "Marianne Söderberg\n",
      "Edward Wojcicki\n",
      "Gunnel Linde\n",
      "Pontus Hultgren\n"
     ]
    },
    {
     "name": "stderr",
     "output_type": "stream",
     "text": [
      "\r",
      " 44%|████▍     | 253/570 [01:27<01:38,  3.20it/s]"
     ]
    },
    {
     "name": "stdout",
     "output_type": "stream",
     "text": [
      "Maud Walter\n",
      "Sven Hallberg\n",
      "Maud Walter\n",
      "Maud Walter\n",
      "Maud Walter\n",
      "Maud Walter\n",
      "Anders Beckman\n",
      "Anders Beckman\n",
      "Anders Beckman\n",
      "Karl Axel Sjöblom\n",
      "Anders Beckman\n"
     ]
    },
    {
     "name": "stderr",
     "output_type": "stream",
     "text": [
      "\r",
      " 45%|████▍     | 254/570 [01:27<01:35,  3.31it/s]"
     ]
    },
    {
     "name": "stdout",
     "output_type": "stream",
     "text": [
      "Emma Kronqvist\n",
      "Ingvar Ernblad\n",
      "Emma Kronqvist\n",
      "Emma Kronqvist\n",
      "Bengt Hallberg\n",
      "Toivo Öhman\n",
      "Ingemar Odlander\n",
      "Inga-Lill Usterud\n",
      "Leonard Cohen\n",
      "Per Eggers\n"
     ]
    },
    {
     "name": "stderr",
     "output_type": "stream",
     "text": [
      "\r",
      " 45%|████▍     | 255/570 [01:27<01:34,  3.35it/s]"
     ]
    },
    {
     "name": "stdout",
     "output_type": "stream",
     "text": [
      "Anders Beckman\n",
      "Ally Wanngård\n",
      "Anders Beckman\n",
      "Anders Beckman\n",
      "Anders Beckman\n",
      "Anders Beckman\n",
      "Anders Beckman\n",
      "Anders Beckman\n",
      "Berit Nygren\n",
      "Anders Beckman\n",
      "Anders Beckman\n"
     ]
    },
    {
     "name": "stderr",
     "output_type": "stream",
     "text": [
      "\r",
      " 45%|████▍     | 256/570 [01:28<01:35,  3.30it/s]"
     ]
    },
    {
     "name": "stdout",
     "output_type": "stream",
     "text": [
      "Berit Nygren\n",
      "Ulf Löfgren\n",
      "Berit Nygren\n",
      "Berit Nygren\n",
      "Hans Dahlberg\n",
      "Göran Bengtson\n",
      "Per Sjöstrand\n",
      "Ingvar Kjellson\n",
      "Sven Nordqvist\n",
      "Berit Nygren\n",
      "Barbro Lindgren\n"
     ]
    },
    {
     "name": "stderr",
     "output_type": "stream",
     "text": [
      "\r",
      " 45%|████▌     | 257/570 [01:28<01:45,  2.97it/s]"
     ]
    },
    {
     "name": "stdout",
     "output_type": "stream",
     "text": [
      "Berit Nygren\n",
      "Jenny Myrberg\n",
      "Per Nilsson\n",
      "Stefan Mählqvist\n",
      "Berit Nygren\n",
      "Berit Nygren\n",
      "Hans Iveberg\n",
      "Hans Iveberg\n",
      "Hans Iveberg\n",
      "Hans Iveberg\n",
      "Tomas Bresky\n"
     ]
    },
    {
     "name": "stderr",
     "output_type": "stream",
     "text": [
      "\r",
      " 45%|████▌     | 258/570 [01:28<01:47,  2.90it/s]"
     ]
    },
    {
     "name": "stdout",
     "output_type": "stream",
     "text": [
      "Hans Iveberg\n",
      "Per Berglund\n",
      "Tomas Bresky\n",
      "Henrik Sylvén\n",
      "Christer Ulfbåge\n",
      "Kari Thomée\n",
      "Alan Simpson\n",
      "Märta Ternstedt\n",
      "Anton Tjechov\n",
      "Alan Simpson\n",
      "Göran Stangertz\n"
     ]
    },
    {
     "name": "stderr",
     "output_type": "stream",
     "text": [
      "\r",
      " 45%|████▌     | 259/570 [01:29<01:53,  2.74it/s]"
     ]
    },
    {
     "name": "stdout",
     "output_type": "stream",
     "text": [
      "Björn Runeborg\n",
      "Peter Schildt\n",
      "Victoria Kahn\n",
      "Inger Davidson\n",
      "Svenne Hedlund\n",
      "Svenne Hedlund\n",
      "Bo Strömstedt\n",
      "Lars Forssell\n",
      "Bo Strömstedt\n",
      "Bo Strömstedt\n",
      "Evert Taube\n"
     ]
    },
    {
     "name": "stderr",
     "output_type": "stream",
     "text": [
      "\r",
      " 46%|████▌     | 260/570 [01:29<01:46,  2.90it/s]"
     ]
    },
    {
     "name": "stdout",
     "output_type": "stream",
     "text": [
      "Gunilla Knutsson\n",
      "Carl-Johan Svanfeldt\n",
      "Curry Melin\n",
      "Carl-Ingemar Perstad\n",
      "Carl-Ingemar Perstad\n",
      "Christer Glenning\n",
      "Hans Lagerkvist\n",
      "Jan Bergman\n",
      "Bo Holmström\n",
      "Knut Martin\n"
     ]
    },
    {
     "name": "stderr",
     "output_type": "stream",
     "text": [
      "\r",
      " 46%|████▌     | 261/570 [01:29<01:39,  3.10it/s]"
     ]
    },
    {
     "name": "stdout",
     "output_type": "stream",
     "text": [
      "Gerd Edwards\n",
      "Olof Thunberg\n",
      "Håkan Pieniowski\n",
      "Berit Nygren\n",
      "Berit Nygren\n",
      "Berit Nygren\n",
      "Berit Nygren\n",
      "Katarina Dunér\n",
      "Katarina Dunér\n",
      "Erik Bergsten\n",
      "Katarina Dunér\n"
     ]
    },
    {
     "name": "stderr",
     "output_type": "stream",
     "text": [
      "\r",
      " 46%|████▌     | 262/570 [01:30<01:42,  3.02it/s]"
     ]
    },
    {
     "name": "stdout",
     "output_type": "stream",
     "text": [
      "Katarina Dunér\n",
      "Hans Alfredson\n",
      "Katarina Dunér\n",
      "Carl-Gustaf Lindstedt\n",
      "Berit Nygren\n",
      "Staffan Bengtsson\n",
      "Bodil Malmsten\n",
      "Göran Willis\n",
      "Staffan Bengtsson\n",
      "Katarina Dunér\n",
      "Katarina Dunér\n"
     ]
    },
    {
     "name": "stderr",
     "output_type": "stream",
     "text": [
      "\r",
      " 46%|████▌     | 263/570 [01:30<01:36,  3.19it/s]"
     ]
    },
    {
     "name": "stdout",
     "output_type": "stream",
     "text": [
      "Katarina Dunér\n",
      "Hans Alfredson\n",
      "Gösta Pettersson\n",
      "Elisabeth Aldén\n",
      "B B King\n",
      "Olle Palmlöf\n",
      "Electric Boys\n",
      "Christer Glenning\n",
      "Christer Glenning\n",
      "Christer Glenning\n",
      "Christer Glenning\n"
     ]
    },
    {
     "name": "stderr",
     "output_type": "stream",
     "text": [
      "\r",
      " 46%|████▋     | 264/570 [01:30<01:30,  3.40it/s]"
     ]
    },
    {
     "name": "stdout",
     "output_type": "stream",
     "text": [
      "Staffan Husáhr\n",
      "Christer Glenning\n",
      "Christer Glenning\n",
      "Christer Glenning\n",
      "Björn Carlgren\n",
      "Christer Glenning\n",
      "Carl-Ingemar Perstad\n",
      "Leif Hedman\n",
      "Carl-Ingemar Perstad\n",
      "Christer Glenning\n",
      "Lars Bergquist\n"
     ]
    },
    {
     "name": "stderr",
     "output_type": "stream",
     "text": [
      "\r",
      " 46%|████▋     | 265/570 [01:31<01:36,  3.15it/s]"
     ]
    },
    {
     "name": "stdout",
     "output_type": "stream",
     "text": [
      "Lars Westman\n",
      "Ebbe Gilbe\n",
      "Ethel Karström\n",
      "Gunilla Nilars\n",
      "Ivan Öhlin\n",
      "Ivan Öhlin\n",
      "Ivan Öhlin\n",
      "Joey Tempest\n",
      "Ulf Christiansson\n",
      "Marie Ledin\n",
      "Pugh Rogefeldt\n"
     ]
    },
    {
     "name": "stderr",
     "output_type": "stream",
     "text": [
      "\r",
      " 47%|████▋     | 266/570 [01:31<01:30,  3.34it/s]"
     ]
    },
    {
     "name": "stdout",
     "output_type": "stream",
     "text": [
      "Hans Werthén\n",
      "Jules Dassin\n",
      "Lena Haglund\n",
      "Johannes Brost\n",
      "Johannes Brost\n",
      "Johannes Brost\n",
      "Johannes Brost\n",
      "Johannes Brost\n",
      "Johannes Brost\n",
      "Hans Bergström\n",
      "Johannes Brost\n"
     ]
    },
    {
     "name": "stderr",
     "output_type": "stream",
     "text": [
      "\r",
      " 47%|████▋     | 267/570 [01:31<01:38,  3.07it/s]"
     ]
    },
    {
     "name": "stdout",
     "output_type": "stream",
     "text": [
      "Lena Nylén\n",
      "Lars Passgård\n",
      "Lena Nylén\n",
      "Lena Nylén\n",
      "Sonja Döhre\n",
      "Hjalmar Bergman\n",
      "Bo Strömstedt\n",
      "Bo Strömstedt\n",
      "Bo Strömstedt\n",
      "Ulla-Carin Lindquist\n",
      "Toivo Pawlo\n"
     ]
    },
    {
     "name": "stderr",
     "output_type": "stream",
     "text": [
      "\r",
      " 47%|████▋     | 268/570 [01:31<01:35,  3.15it/s]"
     ]
    },
    {
     "name": "stdout",
     "output_type": "stream",
     "text": [
      "Birgitta Zachrisson\n",
      "Per Oscarsson\n",
      "Birgitta Zachrisson\n",
      "Cissi Elwin\n",
      "Kerstin Magnusson\n",
      "Neil Armstrong\n",
      "Leif Jakobsson\n",
      "Leif Jakobsson\n",
      "Nils Dardel\n",
      "Leif Jakobsson\n",
      "Leif Jakobsson\n"
     ]
    },
    {
     "name": "stderr",
     "output_type": "stream",
     "text": [
      "\r",
      " 47%|████▋     | 269/570 [01:32<01:35,  3.17it/s]"
     ]
    },
    {
     "name": "stdout",
     "output_type": "stream",
     "text": [
      "Ingmar Bergman\n",
      "Alf Sjöberg\n",
      "Eric Ericson (f 1974)\n",
      "Lena Nylén\n",
      "Toivo Pawlo\n",
      "Toivo Pawlo\n",
      "Toivo Pawlo\n",
      "Anita Lindman\n",
      "Anita Lindman\n",
      "Anita Lindman\n",
      "Anita Lindman\n"
     ]
    },
    {
     "name": "stderr",
     "output_type": "stream",
     "text": [
      "\r",
      " 47%|████▋     | 270/570 [01:32<01:32,  3.23it/s]"
     ]
    },
    {
     "name": "stdout",
     "output_type": "stream",
     "text": [
      "Susanne Ljung\n",
      "Jan Sundén\n",
      "Niclas Grunewald\n"
     ]
    },
    {
     "name": "stderr",
     "output_type": "stream",
     "text": [
      "\r",
      " 48%|████▊     | 271/570 [01:33<01:45,  2.83it/s]"
     ]
    },
    {
     "name": "stdout",
     "output_type": "stream",
     "text": [
      "Lena Liljeborg\n",
      "Nils Chöler\n",
      "Alf Lundkvist\n",
      "Rolf Tardell\n",
      "Yvonne Åstrand\n",
      "Elsa Magnusson\n",
      "Göran Persson\n",
      "Signe Höijer\n",
      "Eyvind Johnson\n",
      "Anna Lindmarker\n"
     ]
    },
    {
     "name": "stderr",
     "output_type": "stream",
     "text": [
      "\r",
      " 48%|████▊     | 272/570 [01:33<01:42,  2.90it/s]"
     ]
    },
    {
     "name": "stdout",
     "output_type": "stream",
     "text": [
      "Johnny Blomgren\n",
      "Gösta Unefäldt\n",
      "Johnny Blomgren\n",
      "Johnny Blomgren\n",
      "Arne Lifmark\n",
      "Arne Lifmark\n",
      "Arne Lifmark\n",
      "Arne Lifmark\n",
      "Arne Lifmark\n",
      "Johnny Blomgren\n",
      "Johnny Blomgren\n"
     ]
    },
    {
     "name": "stderr",
     "output_type": "stream",
     "text": [
      "\r",
      " 48%|████▊     | 273/570 [01:33<01:41,  2.94it/s]"
     ]
    },
    {
     "name": "stdout",
     "output_type": "stream",
     "text": [
      "Sonny Johnson\n",
      "Johnny Blomgren\n",
      "Johnny Blomgren\n",
      "Björn Gustafson\n",
      "Ingmar Bergman\n",
      "Katharina Bothén\n",
      "Johan Kindblom\n",
      "Katharina Bothén\n",
      "Svante Kettner\n",
      "Svante Kettner\n",
      "Johan Kindblom\n"
     ]
    },
    {
     "name": "stderr",
     "output_type": "stream",
     "text": [
      "\r",
      " 48%|████▊     | 274/570 [01:34<01:39,  2.97it/s]"
     ]
    },
    {
     "name": "stdout",
     "output_type": "stream",
     "text": [
      "Kronprinsessan Victoria\n",
      "Gunnar Palin\n",
      "Mildred Erikson\n",
      "Anna Lindh\n",
      "Kung Carl XVI Gustaf\n",
      "Åke Holmberg\n",
      "Peter Ekstrand\n"
     ]
    },
    {
     "name": "stderr",
     "output_type": "stream",
     "text": [
      "\r",
      " 48%|████▊     | 275/570 [01:34<01:43,  2.86it/s]"
     ]
    },
    {
     "name": "stdout",
     "output_type": "stream",
     "text": [
      "Lennart Anebäck\n",
      "Lennart Ljung\n",
      "Ulrica Messing\n",
      "Jonas Gardell\n",
      "Torsten von Wachenfeldt\n",
      "Christer Petersson\n",
      "Elisabet Höglund\n",
      "Lennart Geijer\n",
      "Ingeleif Öhman\n"
     ]
    },
    {
     "name": "stderr",
     "output_type": "stream",
     "text": [
      "\r",
      " 48%|████▊     | 276/570 [01:34<01:39,  2.95it/s]"
     ]
    },
    {
     "name": "stdout",
     "output_type": "stream",
     "text": [
      "Göran Åhgren\n",
      "Eva Landahl\n",
      "Peter Ekstrand\n",
      "Birgitta Dahl\n",
      "Anders Rosén\n",
      "Birgitta Dahl\n",
      "Christina Jutterström\n",
      "Sten Wickbom\n",
      "Frida Östberg\n",
      "Göran Åhgren\n"
     ]
    },
    {
     "name": "stderr",
     "output_type": "stream",
     "text": [
      "\r",
      " 49%|████▊     | 277/570 [01:35<01:41,  2.90it/s]"
     ]
    },
    {
     "name": "stdout",
     "output_type": "stream",
     "text": [
      "Johannes Brost\n",
      "Sif Ruud\n",
      "Tom Alandh\n",
      "Lasse Berghagen\n",
      "Anders Wahlgren\n",
      "Olle Häger\n",
      "Keve Hjelm\n",
      "Tania\n",
      "Nina Hedenius\n",
      "Tomas von Brömssen\n",
      "Lars Hjelm\n"
     ]
    },
    {
     "name": "stderr",
     "output_type": "stream",
     "text": [
      "\r",
      " 49%|████▉     | 278/570 [01:35<01:48,  2.68it/s]"
     ]
    },
    {
     "name": "stdout",
     "output_type": "stream",
     "text": [
      "Henning Mankell\n",
      "Rolf Lassgård\n",
      "Rolf Lassgård\n",
      "Forbes\n",
      "Bill Gezon\n",
      "Jill Johnson\n",
      "Henning Mankell\n",
      "Lars Norén\n",
      "Mikaela Périer\n",
      "Olle Häger\n"
     ]
    },
    {
     "name": "stderr",
     "output_type": "stream",
     "text": [
      "\r",
      " 49%|████▉     | 279/570 [01:35<01:46,  2.72it/s]"
     ]
    },
    {
     "name": "stdout",
     "output_type": "stream",
     "text": [
      "Lasse Nilsson\n",
      "Gustaf Molander\n",
      "Lars Hjelm\n",
      "Lars Norén\n",
      "Per Åhlin\n",
      "Per Åhlin\n",
      "Kerstin Hedberg\n",
      "Per Åhlin\n",
      "Per Åhlin\n",
      "Per Åhlin\n",
      "Per Åhlin\n"
     ]
    },
    {
     "name": "stderr",
     "output_type": "stream",
     "text": [
      "\r",
      " 49%|████▉     | 280/570 [01:36<01:45,  2.75it/s]"
     ]
    },
    {
     "name": "stdout",
     "output_type": "stream",
     "text": [
      "Per Åhlin\n",
      "Kerstin Hedberg\n",
      "Helena Sandblad\n",
      "Per Åhlin\n",
      "Per Åhlin\n",
      "Per Åhlin\n",
      "Per Åhlin\n",
      "Kerstin Hedberg\n",
      "Kerstin Hedberg\n",
      "Ebbe Gilbe\n",
      "Jan Moltas Erikson\n"
     ]
    },
    {
     "name": "stderr",
     "output_type": "stream",
     "text": [
      "\r",
      " 49%|████▉     | 281/570 [01:36<01:41,  2.86it/s]"
     ]
    },
    {
     "name": "stdout",
     "output_type": "stream",
     "text": [
      "Ulla Berglund\n",
      "Monica Andrae\n",
      "Ilon Wikland\n",
      "Monica Andrae\n",
      "Ilon Wikland\n",
      "Ilon Wikland\n",
      "Monica Andrae\n",
      "Ilon Wikland\n",
      "Ilon Wikland\n",
      "Ilon Wikland\n",
      "Sten Broman\n"
     ]
    },
    {
     "name": "stderr",
     "output_type": "stream",
     "text": [
      "\r",
      " 49%|████▉     | 282/570 [01:36<01:39,  2.90it/s]"
     ]
    },
    {
     "name": "stdout",
     "output_type": "stream",
     "text": [
      "Sven Kruckenberg\n",
      "Anna-Lena Norlander\n",
      "Tore Lindwall\n",
      "Tore Lindwall\n",
      "Tore Lindwall\n",
      "Tore Lindwall\n",
      "Maria Groop-Russel\n",
      "Cronja Hultin\n",
      "Lars In De Betou\n",
      "Lars In De Betou\n",
      "Lars In De Betou\n"
     ]
    },
    {
     "name": "stderr",
     "output_type": "stream",
     "text": [
      "\r",
      " 50%|████▉     | 283/570 [01:37<02:00,  2.38it/s]"
     ]
    },
    {
     "name": "stdout",
     "output_type": "stream",
     "text": [
      "Curt Edman\n",
      "Björn Melander\n",
      "Lars Norén\n",
      "Jesper Aspegren\n",
      "Jesper Aspegren\n",
      "Jesper Aspegren\n",
      "Malcolm Dixelius\n",
      "Jesper Aspegren\n",
      "Jesper Aspegren\n",
      "Jesper Aspegren\n",
      "Nils Linnman\n"
     ]
    },
    {
     "name": "stderr",
     "output_type": "stream",
     "text": [
      "\r",
      " 50%|████▉     | 284/570 [01:37<01:50,  2.60it/s]"
     ]
    },
    {
     "name": "stdout",
     "output_type": "stream",
     "text": [
      "Lasse Sarri\n",
      "Gunnel Linde\n",
      "Gunnel Linde\n",
      "JohnErik Eleby\n",
      "Hans Bendrik\n",
      "Maj-Britt Lindholm\n",
      "Erland Beskow\n",
      "Erland Beskow\n",
      "Erland Beskow\n",
      "Erland Beskow\n",
      "Erland Beskow\n"
     ]
    },
    {
     "name": "stderr",
     "output_type": "stream",
     "text": [
      "\r",
      " 50%|█████     | 285/570 [01:38<01:40,  2.83it/s]"
     ]
    },
    {
     "name": "stdout",
     "output_type": "stream",
     "text": [
      "Basia Frydman\n",
      "Staffan Westerberg\n",
      "Basia Frydman\n",
      "Basia Frydman\n",
      "Basia Frydman\n",
      "Basia Frydman\n",
      "Basia Frydman\n",
      "Basia Frydman\n",
      "Basia Frydman\n",
      "Basia Frydman\n",
      "Basia Frydman\n"
     ]
    },
    {
     "name": "stderr",
     "output_type": "stream",
     "text": [
      "\r",
      " 50%|█████     | 286/570 [01:38<01:32,  3.06it/s]"
     ]
    },
    {
     "name": "stdout",
     "output_type": "stream",
     "text": [
      "Lennart Jähkel\n",
      "Johanna Westman\n"
     ]
    },
    {
     "name": "stderr",
     "output_type": "stream",
     "text": [
      "\r",
      " 50%|█████     | 287/570 [01:38<01:40,  2.81it/s]"
     ]
    },
    {
     "name": "stdout",
     "output_type": "stream",
     "text": [
      "Muammar Khadaffi\n",
      "Calle Norlén\n",
      "Svante Kettner\n",
      "Calle Norlén\n",
      "Bette Midler\n",
      "Leila K\n",
      "Rolf Börjlind\n",
      "Åsa Moberg\n",
      "Peter Lundberg\n",
      "Maaret Koskinen\n",
      "Roger Wallis\n"
     ]
    },
    {
     "name": "stderr",
     "output_type": "stream",
     "text": [
      "\r",
      " 51%|█████     | 288/570 [01:39<01:34,  2.99it/s]"
     ]
    },
    {
     "name": "stdout",
     "output_type": "stream",
     "text": [
      "Mårten Blomqvist\n",
      "Carl Johan de Geer\n",
      "Mats Linday\n",
      "Johan Ehrenberg\n",
      "Per Ahlmark\n",
      "Solweig Andersson\n",
      "Anders Roslund\n",
      "K-G Bergström\n",
      "Lasse Wallén\n",
      "K-G Bergström\n"
     ]
    },
    {
     "name": "stderr",
     "output_type": "stream",
     "text": [
      "\r",
      " 51%|█████     | 289/570 [01:39<01:28,  3.16it/s]"
     ]
    },
    {
     "name": "stdout",
     "output_type": "stream",
     "text": [
      "Berth Gustafsson\n",
      "Niclas Fransson\n",
      "Berth Gustafsson\n",
      "Berth Gustafsson\n",
      "Berth Gustafsson\n",
      "Niclas Fransson\n",
      "Niclas Fransson\n",
      "Niclas Fransson\n",
      "Niclas Fransson\n",
      "Niclas Fransson\n",
      "Niclas Fransson\n"
     ]
    },
    {
     "name": "stderr",
     "output_type": "stream",
     "text": [
      "\r",
      " 51%|█████     | 290/570 [01:39<01:49,  2.55it/s]"
     ]
    },
    {
     "name": "stdout",
     "output_type": "stream",
     "text": [
      "Niclas Fransson\n",
      "Albin Holmberg\n",
      "Lotta Jankell\n",
      "Annika Jankell\n",
      "Lotta Jankell\n",
      "Lotta Jankell\n",
      "Lotta Jankell\n",
      "Annika Jankell\n",
      "Lotta Jankell\n",
      "Lotta Jankell\n",
      "Lotta Jankell\n"
     ]
    },
    {
     "name": "stderr",
     "output_type": "stream",
     "text": [
      "\r",
      " 51%|█████     | 291/570 [01:40<01:51,  2.50it/s]"
     ]
    },
    {
     "name": "stdout",
     "output_type": "stream",
     "text": [
      "Lotta Jankell\n",
      "Cajsa Winqvist\n",
      "Lotta Jankell\n",
      "Lotta Jankell\n",
      "Bo Hagström\n",
      "Eric Ericson (f 1974)\n",
      "Eric Ericson (f 1974)\n",
      "Eric Ericson (f 1974)\n",
      "Eric Ericson (f 1974)\n",
      "Eric Ericson (f 1974)\n",
      "Eric Ericson (f 1974)\n"
     ]
    },
    {
     "name": "stderr",
     "output_type": "stream",
     "text": [
      "\r",
      " 51%|█████     | 292/570 [01:40<02:00,  2.32it/s]"
     ]
    },
    {
     "name": "stdout",
     "output_type": "stream",
     "text": [
      "Lars-Anders Sikku\n",
      "Bjarne Store Jakobsen\n",
      "Larz-Thure Ljungdahl\n",
      "Larz-Thure Ljungdahl\n",
      "Lars Göran Pettersson\n",
      "Tomas Sarri\n",
      "Göran Samuelsson\n",
      "Stig Blomqvist\n",
      "Leif Göthlund\n",
      "Marlene Dietrich\n",
      "Sven Anér\n"
     ]
    },
    {
     "name": "stderr",
     "output_type": "stream",
     "text": [
      "\r",
      " 51%|█████▏    | 293/570 [01:41<01:57,  2.36it/s]"
     ]
    },
    {
     "name": "stdout",
     "output_type": "stream",
     "text": [
      "Eric Ericson (f 1974)\n",
      "Tina Lenne\n",
      "Eric Ericson (f 1974)\n",
      "Eric Ericson (f 1974)\n",
      "Eric Ericson (f 1974)\n",
      "Eric Ericson (f 1974)\n",
      "Eric Ericson (f 1974)\n",
      "Henrik Elmér\n",
      "Anders Post\n",
      "Fredrik Lindvall\n",
      "Fredrik Lindvall\n"
     ]
    },
    {
     "name": "stderr",
     "output_type": "stream",
     "text": [
      "\r",
      " 52%|█████▏    | 294/570 [01:41<01:50,  2.49it/s]"
     ]
    },
    {
     "name": "stdout",
     "output_type": "stream",
     "text": [
      "Lars Bjälkeskog\n",
      "Göran Graffman\n",
      "Sten Sundquist\n",
      "Inger Åby\n",
      "Mona Malm\n",
      "Ellika Mann\n",
      "Manne Stenbeck\n"
     ]
    },
    {
     "name": "stderr",
     "output_type": "stream",
     "text": [
      "\r",
      " 52%|█████▏    | 295/570 [01:41<01:48,  2.54it/s]"
     ]
    },
    {
     "name": "stdout",
     "output_type": "stream",
     "text": [
      "Leif Furhammar\n",
      "Pia Green\n",
      "John Pohlman\n",
      "Per Hellsten\n",
      "Max Bursell\n"
     ]
    },
    {
     "name": "stderr",
     "output_type": "stream",
     "text": [
      "\r",
      " 52%|█████▏    | 296/570 [01:42<01:48,  2.52it/s]"
     ]
    },
    {
     "name": "stdout",
     "output_type": "stream",
     "text": [
      "Max Bursell\n",
      "Max Bursell\n",
      "Max Bursell\n",
      "Aljosha Taikon\n",
      "Jan Boklöv\n",
      "Bernt Lagergren\n",
      "Gunilla Bruhner\n",
      "Roland Hjelte\n"
     ]
    },
    {
     "name": "stderr",
     "output_type": "stream",
     "text": [
      "\r",
      " 52%|█████▏    | 297/570 [01:42<01:38,  2.77it/s]"
     ]
    },
    {
     "name": "stdout",
     "output_type": "stream",
     "text": [
      "Elin Wägner\n",
      "Solveig Ternström\n",
      "Lasse Pettersson\n",
      "Benny Andersson\n",
      "Jonas Cornell\n",
      "Elsa Magnusson\n",
      "Åke Wilhelmsson\n",
      "Mercer Mayer\n",
      "Mercer Mayer\n",
      "Mercer Mayer\n",
      "Mercer Mayer\n"
     ]
    },
    {
     "name": "stderr",
     "output_type": "stream",
     "text": [
      "\r",
      " 52%|█████▏    | 298/570 [01:43<01:46,  2.56it/s]"
     ]
    },
    {
     "name": "stdout",
     "output_type": "stream",
     "text": [
      "Mercer Mayer\n",
      "Helena Forsman\n",
      "Rogert Svanedahl\n",
      "Stefan Zetterberg\n",
      "Per-Olof Bransell\n",
      "Stefan Zetterberg\n",
      "Gösta Bohman\n",
      "Rogert Svanedahl\n",
      "Gullan Bornemark\n",
      "Jan Sederholm\n",
      "Tomas Brolin\n"
     ]
    },
    {
     "name": "stderr",
     "output_type": "stream",
     "text": [
      "\r",
      " 52%|█████▏    | 299/570 [01:43<01:41,  2.67it/s]"
     ]
    },
    {
     "name": "stdout",
     "output_type": "stream",
     "text": [
      "Viktor Ström\n",
      "Sandra Medina\n",
      "Victor Ström\n",
      "Victor Ström\n",
      "Victor Ström\n",
      "Victor Ström\n",
      "Bengt Bratt\n",
      "Bengt Bratt\n",
      "Bengt Bratt\n",
      "Bengt Bratt\n",
      "Bengt Bratt\n"
     ]
    },
    {
     "name": "stderr",
     "output_type": "stream",
     "text": [
      "\r",
      " 53%|█████▎    | 300/570 [01:46<04:50,  1.08s/it]"
     ]
    },
    {
     "name": "stdout",
     "output_type": "stream",
     "text": [
      "Jannike Huss\n",
      "Mats Backlund\n",
      "Ingemar Leijonborg\n",
      "Gunnar Harding\n",
      "Gunnar Harding\n",
      "Martin Höög\n",
      "Martin Höög\n",
      "Per Melander\n",
      "Per Melander\n",
      "Yvonne Schaloske\n",
      "Berit Carlberg\n"
     ]
    },
    {
     "name": "stderr",
     "output_type": "stream",
     "text": [
      "\r",
      " 53%|█████▎    | 301/570 [01:46<03:54,  1.15it/s]"
     ]
    },
    {
     "name": "stdout",
     "output_type": "stream",
     "text": [
      "Mats Segerblom\n",
      "Helge Andersson\n",
      "Helge Andersson\n",
      "Olof Buckard\n",
      "Ola Ström\n",
      "Ola Ström\n",
      "Ola Ström\n",
      "Orvar Bergmark\n",
      "Gladys del Pilar\n",
      "Bengt Feldreich\n"
     ]
    },
    {
     "name": "stderr",
     "output_type": "stream",
     "text": [
      "\r",
      " 53%|█████▎    | 302/570 [01:46<03:09,  1.41it/s]"
     ]
    },
    {
     "name": "stdout",
     "output_type": "stream",
     "text": [
      "Peter Flack\n",
      "Olle Persson\n",
      "Bengt Feldreich\n",
      "Nina Gunke\n",
      "Bengt Feldreich\n",
      "Olle Häger\n",
      "Helge Brilioth\n",
      "Urban Grape\n",
      "Claes Andersson\n",
      "Per Melander\n",
      "Per Melander\n"
     ]
    },
    {
     "name": "stderr",
     "output_type": "stream",
     "text": [
      "\r",
      " 53%|█████▎    | 303/570 [01:47<02:44,  1.62it/s]"
     ]
    },
    {
     "name": "stdout",
     "output_type": "stream",
     "text": [
      "Martin Höög\n",
      "Liza Lundqvist\n",
      "Benjamin Wolff\n",
      "Måns Reuterswärd\n",
      "Bengt Roslund\n",
      "Ingvar Ernblad\n",
      "Tomas Tranströmer\n",
      "Elisabeth Hedborg\n",
      "Lotta Engberg\n",
      "Katarina Dunér\n",
      "Sune Enoksson\n"
     ]
    },
    {
     "name": "stderr",
     "output_type": "stream",
     "text": [
      "\r",
      " 53%|█████▎    | 304/570 [01:47<02:27,  1.80it/s]"
     ]
    },
    {
     "name": "stdout",
     "output_type": "stream",
     "text": [
      "Gustaf Olivecrona\n",
      "Bertil Ohlin\n",
      "Sigge Fürst\n",
      "Beppe Wolgers\n",
      "Gunnel Linde\n",
      "Margareta Garpe\n",
      "Per-Arne Wahlgren\n",
      "Ulla Sonesson\n",
      "Bengt Roslund\n",
      "Tomas Alfredson\n"
     ]
    },
    {
     "name": "stderr",
     "output_type": "stream",
     "text": [
      "\r",
      " 54%|█████▎    | 305/570 [01:47<02:05,  2.11it/s]"
     ]
    },
    {
     "name": "stdout",
     "output_type": "stream",
     "text": [
      "Lena Scherman\n",
      "Michael Landon\n",
      "Leif GW Persson\n",
      "Gary Engman\n",
      "Jan-Öjvind Swahn\n",
      "Bertil Svensson\n",
      "Jan-Öjvind Swahn\n",
      "Herman Lindqvist\n",
      "Herman Lindqvist\n",
      "Herman Lindqvist\n"
     ]
    },
    {
     "name": "stderr",
     "output_type": "stream",
     "text": [
      "\r",
      " 54%|█████▎    | 306/570 [01:48<01:46,  2.48it/s]"
     ]
    },
    {
     "name": "stdout",
     "output_type": "stream",
     "text": [
      "David Bowie\n",
      "Jonas Åkerlund\n",
      "Lasse Stefanz\n",
      "Roland Grönros\n",
      "Ulf von Strauss\n",
      "Margareta Strömstedt\n",
      "Åke Edin\n",
      "Rogert Svanedahl\n",
      "Lasse Hallström\n",
      "Carl Anton Axelsson\n"
     ]
    },
    {
     "name": "stderr",
     "output_type": "stream",
     "text": [
      "\r",
      " 54%|█████▍    | 307/570 [01:48<01:45,  2.49it/s]"
     ]
    },
    {
     "name": "stdout",
     "output_type": "stream",
     "text": [
      "Herman Lindqvist\n",
      "Herman Lindqvist\n",
      "Herman Lindqvist\n",
      "Herman Lindqvist\n",
      "Herman Lindqvist\n",
      "Herman Lindqvist\n",
      "Herman Lindqvist\n",
      "Herman Lindqvist\n",
      "Herman Lindqvist\n",
      "Anders Bauer\n"
     ]
    },
    {
     "name": "stderr",
     "output_type": "stream",
     "text": [
      "\r",
      " 54%|█████▍    | 308/570 [01:48<01:45,  2.47it/s]"
     ]
    },
    {
     "name": "stdout",
     "output_type": "stream",
     "text": [
      "Ragnar Eklund\n",
      "Michael Mansson\n",
      "Per Oscarsson\n",
      "Per Oscarsson\n",
      "Per Oscarsson\n",
      "Bengt Åke Kimbré\n",
      "Lia Schubert\n",
      "Dag Stålsjö\n",
      "Björn Tarras-Wahlberg\n",
      "Thor Heyerdahl\n",
      "Ulf Elfving\n"
     ]
    },
    {
     "name": "stderr",
     "output_type": "stream",
     "text": [
      "\r",
      " 54%|█████▍    | 309/570 [01:49<01:46,  2.46it/s]"
     ]
    },
    {
     "name": "stdout",
     "output_type": "stream",
     "text": [
      "Ola Vading\n",
      "Ewert Ljusberg\n",
      "Ola Vading\n",
      "Ola Vading\n",
      "Ola Vading\n",
      "Ola Vading\n",
      "Ola Vading\n",
      "Bertil Askelöf\n",
      "Jan Sundström\n",
      "Dag Stålsjö\n",
      "Dag Stålsjö\n"
     ]
    },
    {
     "name": "stderr",
     "output_type": "stream",
     "text": [
      "\r",
      " 54%|█████▍    | 310/570 [01:49<01:46,  2.45it/s]"
     ]
    },
    {
     "name": "stdout",
     "output_type": "stream",
     "text": [
      "Anna Christensen\n",
      "Thor Heyerdahl\n",
      "Ylva Hemstad\n",
      "Jakob Hård\n",
      "Ola Vading\n",
      "Ola Vading\n",
      "Ola Vading\n",
      "Marie Finnson\n",
      "Ola Vading\n",
      "Robert Engström\n",
      "Måns Reuterswärd\n"
     ]
    },
    {
     "name": "stderr",
     "output_type": "stream",
     "text": [
      "\r",
      " 55%|█████▍    | 311/570 [01:50<01:54,  2.27it/s]"
     ]
    },
    {
     "name": "stdout",
     "output_type": "stream",
     "text": [
      "Anna Söderling\n",
      "Clarence Öfwerman\n",
      "Bengt Brunskog\n",
      "Bengt-Åke Kimbré\n",
      "Kjerstin Dellert\n",
      "Göran Skytte\n",
      "Carin Mannheimer\n",
      "Stig Larsson\n"
     ]
    },
    {
     "name": "stderr",
     "output_type": "stream",
     "text": [
      "\r",
      " 55%|█████▍    | 312/570 [01:51<02:30,  1.71it/s]"
     ]
    },
    {
     "name": "stdout",
     "output_type": "stream",
     "text": [
      "Johanna Mork\n",
      "Jonas Gardell\n",
      "Johanna Mork\n",
      "Nils-Aslak Valkeapää\n",
      "Ulf Stark\n",
      "Johan Mardell\n",
      "Sofie Mällström\n",
      "Rumle Hammerich\n",
      "Sylvia Filipsson\n"
     ]
    },
    {
     "name": "stderr",
     "output_type": "stream",
     "text": [
      "\r",
      " 55%|█████▍    | 313/570 [01:51<02:06,  2.04it/s]"
     ]
    },
    {
     "name": "stdout",
     "output_type": "stream",
     "text": [
      "Nils Landgren\n",
      "Mike Watson\n",
      "Lennart Jelbe\n",
      "Mats Sundin\n",
      "Karin Falck\n",
      "Povel Randén\n",
      "Örjan Larsson\n",
      "Örjan Larsson\n",
      "Örjan Larsson\n",
      "Örjan Larsson\n",
      "Jörgen Lantz\n"
     ]
    },
    {
     "name": "stderr",
     "output_type": "stream",
     "text": [
      "\r",
      " 55%|█████▌    | 314/570 [01:51<01:50,  2.32it/s]"
     ]
    },
    {
     "name": "stdout",
     "output_type": "stream",
     "text": [
      "Jörgen Lantz\n",
      "Jörgen Lantz\n",
      "Jörgen Lantz\n",
      "Anneli Gustafsson\n",
      "Alice Babs\n",
      "Anneli Gustafsson\n",
      "Per Engström\n",
      "Charles Falk\n",
      "Per Engström\n",
      "Ingmar Bergman\n"
     ]
    },
    {
     "name": "stderr",
     "output_type": "stream",
     "text": [
      "\r",
      " 55%|█████▌    | 315/570 [01:52<01:43,  2.46it/s]"
     ]
    },
    {
     "name": "stdout",
     "output_type": "stream",
     "text": [
      "Jonas Bergström\n",
      "Sven Timner\n",
      "Jonas Bergström\n",
      "Carl Anton Axelsson\n",
      "Carl Anton Axelsson\n",
      "Lennart Swahn\n",
      "Gunilla Marcus\n",
      "Carl Anton Axelsson\n",
      "Keve Hjelm\n",
      "Alf Lundkvist\n",
      "Carl Anton Axelsson\n"
     ]
    },
    {
     "name": "stderr",
     "output_type": "stream",
     "text": [
      "\r",
      " 55%|█████▌    | 316/570 [01:52<01:39,  2.55it/s]"
     ]
    },
    {
     "name": "stdout",
     "output_type": "stream",
     "text": [
      "Eric Ericson (f 1974)\n",
      "Lars Säfström\n",
      "Sven Wahlström\n",
      "Carl Fredrik Reuterswärd\n",
      "Sif Ruud\n",
      "Birgit Cullberg\n",
      "Gösta Bernhard\n",
      "Carro Bergkvist\n",
      "Gösta Bernhard\n",
      "Gösta Bernhard\n",
      "Gösta Bernhard\n"
     ]
    },
    {
     "name": "stderr",
     "output_type": "stream",
     "text": [
      "\r",
      " 56%|█████▌    | 317/570 [01:52<01:31,  2.76it/s]"
     ]
    },
    {
     "name": "stdout",
     "output_type": "stream",
     "text": [
      "Gösta Bernhard\n",
      "Carl-Gustaf Lindstedt\n",
      "Hans Alfredson\n",
      "Lars Tilling\n",
      "Lars Tilling\n",
      "August Strindberg\n",
      "Kristian Romare\n",
      "Ulla Fornaeus\n",
      "Ulla Fornaeus\n",
      "Jan Gabrielsson\n",
      "Ulla Fornaeus\n"
     ]
    },
    {
     "name": "stderr",
     "output_type": "stream",
     "text": [
      "\r",
      " 56%|█████▌    | 318/570 [01:53<01:32,  2.74it/s]"
     ]
    },
    {
     "name": "stdout",
     "output_type": "stream",
     "text": [
      "Ulla Fornaeus\n",
      "Ulla Fornaeus\n",
      "Lars Ahlin\n",
      "Mats Paulson\n",
      "Svenne Hedlund\n",
      "Jan Sederholm\n",
      "Fritiof Nilsson Piraten\n",
      "Fritiof Nilsson Piraten\n",
      "Fritiof Nilsson Piraten\n",
      "Olle Häger\n"
     ]
    },
    {
     "name": "stderr",
     "output_type": "stream",
     "text": [
      "\r",
      " 56%|█████▌    | 319/570 [01:53<01:26,  2.90it/s]"
     ]
    },
    {
     "name": "stdout",
     "output_type": "stream",
     "text": [
      "Lena Nyman\n",
      "Inga Gill\n",
      "Björn Afzelius\n",
      "Birgitta Sandstedt\n",
      "Ylva Hemstad\n",
      "Kjell Andersson\n",
      "Cia Berg\n",
      "Viktor Klimenko\n",
      "Lars Säfström\n",
      "Erik Ahlsén\n",
      "Hans Alfredson\n"
     ]
    },
    {
     "name": "stderr",
     "output_type": "stream",
     "text": [
      "\r",
      " 56%|█████▌    | 320/570 [01:53<01:21,  3.06it/s]"
     ]
    },
    {
     "name": "stdout",
     "output_type": "stream",
     "text": [
      "Leif Ringman\n",
      "Håkan Ersgård\n",
      "Anders Nyström\n",
      "Jacques Werup\n",
      "Jacques Werup\n",
      "Jacques Werup\n",
      "Jacques Werup\n",
      "Jaques Werup\n",
      "Anders Nyström\n",
      "Ulla Britt Norrman\n",
      "Anders Nyström\n"
     ]
    },
    {
     "name": "stderr",
     "output_type": "stream",
     "text": [
      "\r",
      " 56%|█████▋    | 321/570 [01:54<01:16,  3.25it/s]"
     ]
    },
    {
     "name": "stdout",
     "output_type": "stream",
     "text": [
      "Sverker Olofsson\n",
      "Åsa Stöckel\n",
      "Sten Nordensköld\n",
      "Siewert Öholm\n",
      "Barbro Hörberg\n",
      "Peps Persson\n",
      "Barbro Hörberg\n",
      "Mats Segerblom\n",
      "Jerry Williams\n",
      "Tomas Ledin\n",
      "Per Anders Fogelström\n"
     ]
    },
    {
     "name": "stderr",
     "output_type": "stream",
     "text": [
      "\r",
      " 56%|█████▋    | 322/570 [01:54<01:22,  3.01it/s]"
     ]
    },
    {
     "name": "stdout",
     "output_type": "stream",
     "text": [
      "Eva Rydberg\n",
      "J C Barreto\n",
      "Gunnar Ekelöf\n",
      "Mariah Carey\n",
      "Gunnar Ekelöf\n",
      "Gunnar Ekelöf\n",
      "Gunnar Ekelöf\n",
      "Christer Åhström\n",
      "Per Anders Fogelström\n",
      "Mora Träsk\n",
      "Bengt Fahlström\n"
     ]
    },
    {
     "name": "stderr",
     "output_type": "stream",
     "text": [
      "\r",
      " 57%|█████▋    | 323/570 [01:54<01:17,  3.20it/s]"
     ]
    },
    {
     "name": "stdout",
     "output_type": "stream",
     "text": [
      "Bengt Fahlström\n",
      "Ola Ström\n",
      "Bengt Fahlström\n",
      "Bengt Fahlström\n",
      "Thomas Di Leva\n",
      "Mathias Henrikson\n",
      "Robert Gustafsson\n",
      "Robert Gustafsson\n",
      "Robert Gustafsson\n",
      "Robert Gustafsson\n"
     ]
    },
    {
     "name": "stderr",
     "output_type": "stream",
     "text": [
      "\r",
      " 57%|█████▋    | 324/570 [01:54<01:14,  3.30it/s]"
     ]
    },
    {
     "name": "stdout",
     "output_type": "stream",
     "text": [
      "Robert Gustafsson\n",
      "Jonas Inde\n",
      "Robert Gustafsson\n",
      "Robert Gustafsson\n",
      "Torbjörn Wiléen\n",
      "Torbjörn Wiléen\n",
      "Torbjörn Wiléen\n",
      "Janos Solyom\n",
      "Kristian Romare\n",
      "Janos Solyom\n",
      "Janos Solyom\n"
     ]
    },
    {
     "name": "stderr",
     "output_type": "stream",
     "text": [
      "\r",
      " 57%|█████▋    | 325/570 [01:55<01:13,  3.33it/s]"
     ]
    },
    {
     "name": "stdout",
     "output_type": "stream",
     "text": [
      "Janos Solyom\n",
      "Måns Reuterswärd\n",
      "Inger Etzler\n",
      "Michael Stenberg\n",
      "Carin Mannheimer\n",
      "Bengt Polo Johanson\n",
      "Gordana Pavlovic\n",
      "Hans-Elis Johansson\n",
      "Bo Hansson\n",
      "Bo Hansson\n"
     ]
    },
    {
     "name": "stderr",
     "output_type": "stream",
     "text": [
      "\r",
      " 57%|█████▋    | 326/570 [01:55<01:19,  3.08it/s]"
     ]
    },
    {
     "name": "stdout",
     "output_type": "stream",
     "text": [
      "Arne Källerud\n",
      "Stig Ossian Ericson\n",
      "August Strindberg\n",
      "Loa Falkman\n",
      "Hans Lindgren\n",
      "Daniel af Klintberg\n",
      "Örjan Blomqvist\n",
      "Hjalmar Bergman\n",
      "Torgny Mogren\n",
      "Matti Bye\n",
      "Ernst Günther\n"
     ]
    },
    {
     "name": "stderr",
     "output_type": "stream",
     "text": [
      "\r",
      " 57%|█████▋    | 327/570 [01:55<01:20,  3.03it/s]"
     ]
    },
    {
     "name": "stdout",
     "output_type": "stream",
     "text": [
      "Lars Bjälkeskog\n",
      "Göran Graffman\n",
      "Sten Sundquist\n",
      "Inger Åby\n",
      "Mona Malm\n",
      "Ellika Mann\n",
      "Manne Stenbeck\n"
     ]
    },
    {
     "name": "stderr",
     "output_type": "stream",
     "text": [
      "\r",
      " 58%|█████▊    | 328/570 [01:56<01:18,  3.07it/s]"
     ]
    },
    {
     "name": "stdout",
     "output_type": "stream",
     "text": [
      "Leif Furhammar\n",
      "Pia Green\n",
      "John Pohlman\n",
      "Per Hellsten\n",
      "Max Bursell\n"
     ]
    },
    {
     "name": "stderr",
     "output_type": "stream",
     "text": [
      "\r",
      " 58%|█████▊    | 329/570 [01:56<01:22,  2.92it/s]"
     ]
    },
    {
     "name": "stdout",
     "output_type": "stream",
     "text": [
      "Ola Ström\n",
      "Per Dunsö\n",
      "Ted Ström\n",
      "Sten-Åke Cederhök\n",
      "Sten-Åke Cederhök\n",
      "Sten-Åke Cederhök\n",
      "Ola Ström\n",
      "Ola Ström\n",
      "Ola Ström\n",
      "Sten-Åke Cederhök\n",
      "Sten-Åke Cederhök\n"
     ]
    },
    {
     "name": "stderr",
     "output_type": "stream",
     "text": [
      "\r",
      " 58%|█████▊    | 330/570 [01:56<01:17,  3.09it/s]"
     ]
    },
    {
     "name": "stdout",
     "output_type": "stream",
     "text": [
      "Sten-Åke Cederhök\n",
      "Tomas von Brömssen\n",
      "Sten-Åke Cederhök\n",
      "Sten-Åke Cederhök\n",
      "Sten-Åke Cederhök\n",
      "Sten-Åke Cederhök\n",
      "Sten-Åke Cederhök\n",
      "Sten-Åke Cederhök\n",
      "Sten-Åke Cederhök\n",
      "Sten-Åke Cederhök\n",
      "Sten-Åke Cederhök\n"
     ]
    },
    {
     "name": "stderr",
     "output_type": "stream",
     "text": [
      "\r",
      " 58%|█████▊    | 331/570 [01:57<01:25,  2.81it/s]"
     ]
    },
    {
     "name": "stdout",
     "output_type": "stream",
     "text": [
      "Sten-Åke Cederhök\n",
      "Tomas von Brömssen\n",
      "Sten-Åke Cederhök\n",
      "Sten-Åke Cederhök\n",
      "Sten-Åke Cederhök\n",
      "Sten-Åke Cederhök\n",
      "Sten-Åke Cederhök\n",
      "Sten-Åke Cederhök\n",
      "Sten-Åke Cederhök\n",
      "Sten-Åke Cederhök\n",
      "Nils Jerring\n"
     ]
    },
    {
     "name": "stderr",
     "output_type": "stream",
     "text": [
      "\r",
      " 58%|█████▊    | 332/570 [01:57<01:18,  3.02it/s]"
     ]
    },
    {
     "name": "stdout",
     "output_type": "stream",
     "text": [
      "Hans Mosesson\n",
      "Nationalteatern\n",
      "Hans Mosesson\n",
      "Hans Mosesson\n",
      "Lars Johan Werle\n",
      "Sonja Döhre\n",
      "Gösta Ekman\n",
      "Per Ragnar\n",
      "Sonja Döhre\n",
      "Sonja Döhre\n"
     ]
    },
    {
     "name": "stderr",
     "output_type": "stream",
     "text": [
      "\r",
      " 58%|█████▊    | 333/570 [01:58<01:35,  2.48it/s]"
     ]
    },
    {
     "name": "stdout",
     "output_type": "stream",
     "text": [
      "Viveca Sundvall\n",
      "Susann Frennberg\n",
      "Viveca Sundvall\n",
      "Viveca Sundvall\n",
      "Torbjörn Ehrnvall\n",
      "Jan Blomberg\n",
      "Jan Blomberg\n",
      "Jan Blomberg\n",
      "Jan Blomberg\n",
      "Jan Blomberg\n",
      "Jan Blomberg\n"
     ]
    },
    {
     "name": "stderr",
     "output_type": "stream",
     "text": [
      "\r",
      " 59%|█████▊    | 334/570 [01:58<01:27,  2.70it/s]"
     ]
    },
    {
     "name": "stdout",
     "output_type": "stream",
     "text": [
      "Jan Blomberg\n",
      "Johan Ulveson\n",
      "Jan Blomberg\n",
      "Johan Ulveson\n",
      "Mary Andersson\n",
      "Ari Korvola\n",
      "Jesper Andersson\n",
      "Hans Mosesson\n",
      "Bodil Malmsten\n",
      "Per Ragnar\n",
      "Sonja Döhre\n"
     ]
    },
    {
     "name": "stderr",
     "output_type": "stream",
     "text": [
      "\r",
      " 59%|█████▉    | 335/570 [01:59<01:37,  2.42it/s]"
     ]
    },
    {
     "name": "stdout",
     "output_type": "stream",
     "text": [
      "Viveca Sundvall\n",
      "Susann Frennberg\n",
      "Viveca Sundvall\n",
      "Viveca Sundvall\n",
      "Nils Moritz\n",
      "Jan Blomberg\n",
      "Jan Blomberg\n",
      "Jan Blomberg\n",
      "Jan Blomberg\n",
      "Jan Blomberg\n",
      "Jan Blomberg\n"
     ]
    },
    {
     "name": "stderr",
     "output_type": "stream",
     "text": [
      "\r",
      " 59%|█████▉    | 336/570 [01:59<01:31,  2.55it/s]"
     ]
    },
    {
     "name": "stdout",
     "output_type": "stream",
     "text": [
      "Jan Blomberg\n",
      "Johan Ulveson\n",
      "Jan Blomberg\n",
      "Jan Blomberg\n",
      "Jan Blomberg\n",
      "Sten Carlberg\n",
      "Alexander Skorohed\n",
      "Bengt Lagerkvist\n",
      "Bengt Lagerkvist\n",
      "Peter Apelgren\n",
      "Rolf Knutsson\n"
     ]
    },
    {
     "name": "stderr",
     "output_type": "stream",
     "text": [
      "\r",
      " 59%|█████▉    | 337/570 [01:59<01:43,  2.26it/s]"
     ]
    },
    {
     "name": "stdout",
     "output_type": "stream",
     "text": [
      "Olli Hörkkö\n",
      "Bosse Parnevik\n",
      "Leif Pettersson\n",
      "Claes Malmberg\n",
      "Stellan Sundahl\n",
      "Agne Jälevik\n",
      "Walter Röhrl\n",
      "Ingvar Storm\n",
      "Jan Svanlund\n",
      "Göran Lagerberg\n"
     ]
    },
    {
     "name": "stderr",
     "output_type": "stream",
     "text": [
      "\r",
      " 59%|█████▉    | 338/570 [02:00<01:47,  2.16it/s]"
     ]
    },
    {
     "name": "stdout",
     "output_type": "stream",
     "text": [
      "Benny Andersson\n",
      "Svenne Hedlund\n",
      "Gonks\n",
      "Benny Andersson\n",
      "The Shakers\n",
      "Anders Jansson\n",
      "Zaintz\n",
      "New Look\n",
      "Benny Andersson\n",
      "After Dark\n",
      "Streaplers\n"
     ]
    },
    {
     "name": "stderr",
     "output_type": "stream",
     "text": [
      "\r",
      " 59%|█████▉    | 339/570 [02:00<01:34,  2.44it/s]"
     ]
    },
    {
     "name": "stdout",
     "output_type": "stream",
     "text": [
      "Göran Samuelsson\n",
      "Lasse Larsson\n",
      "Stig Blomqvist\n",
      "Leif Göthlund\n",
      "Marlene Dietrich\n",
      "Sven Anér\n",
      "Mercer Mayer\n",
      "Mercer Mayer\n",
      "Mercer Mayer\n",
      "Mercer Mayer\n",
      "Mercer Mayer\n"
     ]
    },
    {
     "name": "stderr",
     "output_type": "stream",
     "text": [
      "\r",
      " 60%|█████▉    | 340/570 [02:00<01:24,  2.74it/s]"
     ]
    },
    {
     "name": "stdout",
     "output_type": "stream",
     "text": [
      "Rogert Svanedahl\n",
      "Jörgen Sjödin\n",
      "Stefan Zetterberg\n",
      "Per-Olof Bransell\n",
      "Stefan Zetterberg\n",
      "Gösta Bohman\n",
      "Rogert Svanedahl\n",
      "Gullan Bornemark\n",
      "Jan Sederholm\n",
      "Lena Haglund\n",
      "Sven Lindholm\n"
     ]
    },
    {
     "name": "stderr",
     "output_type": "stream",
     "text": [
      "\r",
      " 60%|█████▉    | 341/570 [02:01<01:25,  2.67it/s]"
     ]
    },
    {
     "name": "stdout",
     "output_type": "stream",
     "text": [
      "Eva Landgren\n",
      "Stefan Nilsson\n",
      "Erik Öhnell\n",
      "Björn Hedman\n",
      "Lena Videkull\n",
      "Lena Videkull\n",
      "Sigurd Jörgensen\n",
      "Jane Björck\n",
      "Sigurd Jörgensen\n",
      "Staffan Lindeborg\n",
      "Sigurd Jörgensen\n"
     ]
    },
    {
     "name": "stderr",
     "output_type": "stream",
     "text": [
      "\r",
      " 60%|██████    | 342/570 [02:01<01:20,  2.84it/s]"
     ]
    },
    {
     "name": "stdout",
     "output_type": "stream",
     "text": [
      "Sigurd Jörgensen\n",
      "Björn Lindroth\n",
      "Sigurd Jörgensen\n",
      "Pete Sampras\n",
      "Sigurd Jörgensen\n",
      "Ilse-Nore Tromm\n",
      "Sigurd Jörgensen\n",
      "Stig Lundbom\n",
      "Staffan Lindeborg\n",
      "Anna Lindberg\n",
      "Staffan Lindeborg\n"
     ]
    },
    {
     "name": "stderr",
     "output_type": "stream",
     "text": [
      "\r",
      " 60%|██████    | 343/570 [02:01<01:16,  2.98it/s]"
     ]
    },
    {
     "name": "stdout",
     "output_type": "stream",
     "text": [
      "Sigurd Jörgensen\n",
      "Björn Lindroth\n",
      "Staffan Lindeborg\n",
      "Staffan Lindeborg\n",
      "Sigurd Jörgensen\n",
      "Staffan Lindeborg\n",
      "Staffan Lindeborg\n",
      "Sigurd Jörgensen\n",
      "Staffan Lindeborg\n",
      "Jan Forssell\n",
      "Staffan Lindeborg\n"
     ]
    },
    {
     "name": "stderr",
     "output_type": "stream",
     "text": [
      "\r",
      " 60%|██████    | 344/570 [02:02<01:20,  2.79it/s]"
     ]
    },
    {
     "name": "stdout",
     "output_type": "stream",
     "text": [
      "Lars Frölander\n",
      "Staffan Lindeborg\n",
      "Staffan Lindeborg\n",
      "Staffan Lindeborg\n",
      "Mathias Engstrand\n",
      "Jan Gunnarsson\n",
      "Gunnel Linde\n",
      "Gunnel Linde\n",
      "Gunnel Linde\n",
      "Gunnel Linde\n",
      "Gunnel Linde\n"
     ]
    },
    {
     "name": "stderr",
     "output_type": "stream",
     "text": [
      "\r",
      " 61%|██████    | 345/570 [02:02<01:13,  3.05it/s]"
     ]
    },
    {
     "name": "stdout",
     "output_type": "stream",
     "text": [
      "Ulf Brantås\n",
      "Roy Andersson\n",
      "Olle Häger\n",
      "Lotta Thorell\n",
      "Lotta Thorell\n",
      "Bernt Viklund\n",
      "Lotta Thorell\n",
      "Bernt Viklund\n",
      "Lotta Thorell\n",
      "Bernt Viklund\n",
      "Bernt Viklund\n"
     ]
    },
    {
     "name": "stderr",
     "output_type": "stream",
     "text": [
      "\r",
      " 61%|██████    | 346/570 [02:03<01:15,  2.97it/s]"
     ]
    },
    {
     "name": "stdout",
     "output_type": "stream",
     "text": [
      "Berndt Egerbladh\n",
      "Håkan Serner\n",
      "Javier Sotomayor\n",
      "Birgitta Sandstedt\n",
      "Anders Gärderud\n",
      "Sten Rosenberg\n",
      "Åke Edwardson\n",
      "Åke Edwardson\n",
      "Åke Edwardson\n",
      "Sten Rosenberg\n",
      "Jacob Hård\n"
     ]
    },
    {
     "name": "stderr",
     "output_type": "stream",
     "text": [
      "\r",
      " 61%|██████    | 347/570 [02:03<01:11,  3.11it/s]"
     ]
    },
    {
     "name": "stdout",
     "output_type": "stream",
     "text": [
      "Johannes Paulus II\n",
      "Bertil Werkström\n",
      "Vebjörn Rodal\n",
      "Peter Häggström\n",
      "Åke Edwardson\n",
      "Åke Edwardson\n",
      "Åke Edwardson\n",
      "Christer Ulfbåge\n",
      "Nils Fläcke\n",
      "Barbro \"Lill-Babs\" Svensson\n"
     ]
    },
    {
     "name": "stderr",
     "output_type": "stream",
     "text": [
      "\r",
      " 61%|██████    | 348/570 [02:03<01:08,  3.26it/s]"
     ]
    },
    {
     "name": "stdout",
     "output_type": "stream",
     "text": [
      "Bo Isaksson\n",
      "Björn Tiberg\n",
      "Hannes Oljelund\n",
      "Kung Carl XVI Gustaf\n",
      "Göran Willis\n",
      "Göran Willis\n",
      "Johan Sandström\n",
      "Göran Willis\n",
      "Göran Willis\n",
      "Göran Willis\n"
     ]
    },
    {
     "name": "stderr",
     "output_type": "stream",
     "text": [
      "\r",
      " 61%|██████    | 349/570 [02:03<01:09,  3.19it/s]"
     ]
    },
    {
     "name": "stdout",
     "output_type": "stream",
     "text": [
      "Gunnar Skoglund\n",
      "Sven Persson\n",
      "Krister Wickman\n",
      "Gösta Roosling\n",
      "Olof Thörnell\n",
      "Gösta Roosling\n",
      "Per Oscarsson\n",
      "Tage Danielsson\n",
      "Sven Jerring\n",
      "Lennart Persson\n"
     ]
    },
    {
     "name": "stderr",
     "output_type": "stream",
     "text": [
      "\r",
      " 61%|██████▏   | 350/570 [02:04<01:05,  3.34it/s]"
     ]
    },
    {
     "name": "stdout",
     "output_type": "stream",
     "text": [
      "Micael Waldenby\n",
      "Rune Lundblad\n",
      "Rune Lundblad\n",
      "Nenne Petersen\n",
      "Rune Lundblad\n",
      "Nenne Petersen\n",
      "Rune Lundblad\n",
      "Ny-David Nygren\n",
      "Sigurd Jörgensen\n",
      "Sigurd Jörgensen\n"
     ]
    },
    {
     "name": "stderr",
     "output_type": "stream",
     "text": [
      "\r",
      " 62%|██████▏   | 351/570 [02:04<01:07,  3.23it/s]"
     ]
    },
    {
     "name": "stdout",
     "output_type": "stream",
     "text": [
      "Mats Knutson\n",
      "Ingvar Carlsson\n",
      "Prinsessan Madeleine\n",
      "Alva Myrdal\n",
      "Helena Stålnert\n",
      "Marianne Rundström\n",
      "Siewert Öholm\n"
     ]
    },
    {
     "name": "stderr",
     "output_type": "stream",
     "text": [
      "\r",
      " 62%|██████▏   | 352/570 [02:04<01:10,  3.09it/s]"
     ]
    },
    {
     "name": "stdout",
     "output_type": "stream",
     "text": [
      "Bengt Lagerkvist\n",
      "H C Andersen\n",
      "René Magritte\n",
      "Bengt Lagerkvist\n",
      "Bengt Lagerkvist\n",
      "Alexander Skorohed\n",
      "Bengt Lagerkvist\n",
      "Bengt Lagerkvist\n",
      "Peter Apelgren\n",
      "Rolf Knutsson\n"
     ]
    },
    {
     "name": "stderr",
     "output_type": "stream",
     "text": [
      "\r",
      " 62%|██████▏   | 353/570 [02:05<01:08,  3.18it/s]"
     ]
    },
    {
     "name": "stdout",
     "output_type": "stream",
     "text": [
      "Rolf Knutsson\n",
      "Peter Apelgren\n",
      "Agne Jälevik\n",
      "Rolf Knutsson\n",
      "Bengt Lagerkvist\n",
      "Hans Bonnevier\n",
      "Rolf Knutsson\n",
      "Peter Apelgren\n",
      "Rolf Knutsson\n"
     ]
    },
    {
     "name": "stderr",
     "output_type": "stream",
     "text": [
      "\r",
      " 62%|██████▏   | 354/570 [02:05<01:07,  3.18it/s]"
     ]
    },
    {
     "name": "stdout",
     "output_type": "stream",
     "text": [
      "Peter Apelgren\n",
      "Robert Gustafsson\n",
      "Karin Tideström\n",
      "Peter Apelgren\n",
      "Wassily Kandinsky\n",
      "Bengt Lagerkvist\n",
      "Giacomo Balla\n",
      "Bengt Lagerkvist\n",
      "Bengt Lagerkvist\n",
      "Bengt Lagerkvist\n",
      "Henry Moore\n"
     ]
    },
    {
     "name": "stderr",
     "output_type": "stream",
     "text": [
      "\r",
      " 62%|██████▏   | 355/570 [02:05<01:07,  3.21it/s]"
     ]
    },
    {
     "name": "stdout",
     "output_type": "stream",
     "text": [
      "Bengt Lagerkvist\n",
      "Piet Mondrian\n",
      "Bengt Lagerkvist\n",
      "Bengt Lagerkvist\n",
      "Alberto Giacometti\n",
      "Jonas Hallberg\n",
      "Bengt Lagerkvist\n",
      "Sanna Nielsen\n",
      "Janne Lucas Persson\n",
      "Agne Jälevik\n"
     ]
    },
    {
     "name": "stderr",
     "output_type": "stream",
     "text": [
      "\r",
      " 62%|██████▏   | 356/570 [02:06<01:05,  3.28it/s]"
     ]
    },
    {
     "name": "stdout",
     "output_type": "stream",
     "text": [
      "Lennart \"Hoa-Hoa\" Dahlgren\n",
      "Frank Andersson\n",
      "Jeanette von Heidenstam\n",
      "Jacob Dahlin\n",
      "Dolph Lundgren\n",
      "Ingemar Stenmark\n",
      "Prins Carl Philip\n",
      "Björn Ferry\n",
      "Kung Carl XVI Gustaf\n",
      "Måns Zelmerlöw\n"
     ]
    },
    {
     "name": "stderr",
     "output_type": "stream",
     "text": [
      "\r",
      " 63%|██████▎   | 357/570 [02:06<01:01,  3.44it/s]"
     ]
    },
    {
     "name": "stdout",
     "output_type": "stream",
     "text": [
      "Nils Linnman\n",
      "Mauritz Jesperson\n",
      "Ingrid Persson\n",
      "Måns Reuterswärd\n",
      "Einar Linde\n",
      "Jan Moltas Erikson\n",
      "Einar Linde\n",
      "Einar Linde\n",
      "Jan Moltas Erikson\n",
      "Jan Moltas Erikson\n",
      "Einar Linde\n"
     ]
    },
    {
     "name": "stderr",
     "output_type": "stream",
     "text": [
      "\r",
      " 63%|██████▎   | 358/570 [02:06<01:04,  3.28it/s]"
     ]
    },
    {
     "name": "stdout",
     "output_type": "stream",
     "text": [
      "Kim Söderlund\n",
      "Erik Skoglund\n",
      "Dominik Henzel\n",
      "Selma Lagerlöf\n",
      "Christina Jutterström\n"
     ]
    },
    {
     "name": "stderr",
     "output_type": "stream",
     "text": [
      "\r",
      " 63%|██████▎   | 359/570 [02:07<01:20,  2.61it/s]"
     ]
    },
    {
     "name": "stdout",
     "output_type": "stream",
     "text": [
      "Malik Bendjelloul\n",
      "Mikael Persbrandt\n",
      "Ulf Larsson\n",
      "Roland Sandberg\n",
      "Franz Beckenbauer\n",
      "Göran Zachrisson\n",
      "Ove Grahn\n",
      "Ronnie Peterson\n",
      "Frank Andersson\n",
      "Zlatan Ibrahimovic\n",
      "Frank Andersson\n"
     ]
    },
    {
     "name": "stderr",
     "output_type": "stream",
     "text": [
      "\r",
      " 63%|██████▎   | 360/570 [02:07<01:22,  2.53it/s]"
     ]
    },
    {
     "name": "stdout",
     "output_type": "stream",
     "text": [
      "Roger Asserståhl\n",
      "Rinaldo Karlsson\n",
      "Ulla-Maj Andersson\n",
      "Ulf Ekman\n",
      "Thomas Engström\n",
      "Sven Hagströmer\n",
      "Lasse Holmqvist\n",
      "Barbro Oborg\n",
      "Jackie Söderman\n",
      "Jackie Söderman\n",
      "Börje Ahlstedt\n"
     ]
    },
    {
     "name": "stderr",
     "output_type": "stream",
     "text": [
      "\r",
      " 63%|██████▎   | 361/570 [02:08<01:22,  2.55it/s]"
     ]
    },
    {
     "name": "stdout",
     "output_type": "stream",
     "text": [
      "William Shakespeare\n",
      "Keve Hjelm\n",
      "William Shakespeare\n",
      "Drottning Louise\n",
      "Kim Söderlund\n",
      "Erik Skoglund\n"
     ]
    },
    {
     "name": "stderr",
     "output_type": "stream",
     "text": [
      "\r",
      " 64%|██████▎   | 362/570 [02:08<01:14,  2.79it/s]"
     ]
    },
    {
     "name": "stdout",
     "output_type": "stream",
     "text": [
      "Knut Martin\n",
      "Selma Lagerlöf\n",
      "Christina Jutterström\n",
      "Sverker Olofsson\n",
      "Malik Bendjelloul\n",
      "Ulf Larsson\n",
      "Tage Danielsson\n",
      "Sven Jerring\n",
      "Karin Pilsäter\n"
     ]
    },
    {
     "name": "stderr",
     "output_type": "stream",
     "text": [
      "\r",
      " 64%|██████▎   | 363/570 [02:08<01:12,  2.87it/s]"
     ]
    },
    {
     "name": "stdout",
     "output_type": "stream",
     "text": [
      "Lars Orup\n",
      "Harald Hallén\n",
      "Annie Lööf\n",
      "Isabella Lövin\n",
      "Bo Holmström\n",
      "Ebba Busch Thor\n",
      "Jonas Sjöstedt\n",
      "Jimmie Åkesson\n",
      "Jan Björklund\n",
      "Gösta Bohman\n"
     ]
    },
    {
     "name": "stderr",
     "output_type": "stream",
     "text": [
      "\r",
      " 64%|██████▍   | 364/570 [02:08<01:09,  2.95it/s]"
     ]
    },
    {
     "name": "stdout",
     "output_type": "stream",
     "text": [
      "Hanna Stjärne\n",
      "Anders Tegner\n",
      "Siewert Öholm\n",
      "Pia Helenius\n",
      "Thomas Lundkvist\n",
      "Michael Kucera\n",
      "Mats Knutson\n",
      "Prinsessan Madeleine\n"
     ]
    },
    {
     "name": "stderr",
     "output_type": "stream",
     "text": [
      "\r",
      " 64%|██████▍   | 365/570 [02:09<01:14,  2.77it/s]"
     ]
    },
    {
     "name": "stdout",
     "output_type": "stream",
     "text": [
      "Rolf Hammarlund\n",
      "Roger Carlsson\n",
      "Martina Schaub\n",
      "Stefan Löfven\n",
      "Thorbjörn Fälldin\n",
      "Tage Erlander\n",
      "Ulf Kristersson\n",
      "Lars Orup\n",
      "Hasse Aro\n",
      "Olof Palme\n",
      "Märit Andersson\n"
     ]
    },
    {
     "name": "stderr",
     "output_type": "stream",
     "text": [
      "\r",
      " 64%|██████▍   | 366/570 [02:09<01:09,  2.96it/s]"
     ]
    },
    {
     "name": "stdout",
     "output_type": "stream",
     "text": [
      "Gösta Roosling\n",
      "Gunnar Skoglund\n",
      "Olof Thörnell\n",
      "Gösta Roosling\n",
      "Per Oscarsson\n",
      "Kristian Hoberstorfer\n",
      "Ebbe Schön\n",
      "Lasse Hallström\n"
     ]
    },
    {
     "name": "stderr",
     "output_type": "stream",
     "text": [
      "\r",
      " 64%|██████▍   | 367/570 [02:10<01:10,  2.87it/s]"
     ]
    },
    {
     "name": "stdout",
     "output_type": "stream",
     "text": [
      "John McEnroe\n",
      "Jan-Erik Lundqvist\n",
      "Ronnie Peterson\n",
      "Frank Andersson\n",
      "Zlatan Ibrahimovic\n",
      "Frank Andersson\n",
      "Ove Grahn\n",
      "Therese Eliasson\n"
     ]
    },
    {
     "name": "stderr",
     "output_type": "stream",
     "text": [
      "\r",
      " 65%|██████▍   | 368/570 [02:10<01:07,  2.99it/s]"
     ]
    },
    {
     "name": "stdout",
     "output_type": "stream",
     "text": [
      "Franz Beckenbauer\n",
      "Gerd Müller\n",
      "Göran Zachrisson\n",
      "Roland Sandberg\n",
      "Rodrigo Pessoa\n",
      "Ulrika Knutson\n",
      "Dominik Henzel\n",
      "Janne Nilsson\n",
      "Birgitta Stenberg\n",
      "Sverker Olofsson\n",
      "Sverker Olofsson\n"
     ]
    },
    {
     "name": "stderr",
     "output_type": "stream",
     "text": [
      "\r",
      " 65%|██████▍   | 369/570 [02:10<01:04,  3.10it/s]"
     ]
    },
    {
     "name": "stdout",
     "output_type": "stream",
     "text": [
      "Kung Carl XVI Gustaf\n",
      "Jan-Erik Göransson\n",
      "Mikael Hvinlund\n",
      "Mats Nyström\n",
      "Anders Rosén\n",
      "Nils \"Mora-Nisse\" Karlsson\n",
      "Carola Isaksson\n",
      "Ulf Thorén\n",
      "Sven Plex Petersson\n"
     ]
    },
    {
     "name": "stderr",
     "output_type": "stream",
     "text": [
      "\r",
      " 65%|██████▍   | 370/570 [02:11<01:33,  2.14it/s]"
     ]
    },
    {
     "name": "stdout",
     "output_type": "stream",
     "text": [
      "Gary Engman\n",
      "Knut Wiggen\n",
      "Torbjörn Axelman\n",
      "Moa Martinson\n",
      "Dario Fo\n",
      "Per Anders Fogelström\n",
      "Per Anders Fogelström\n",
      "Rosa Taikon\n",
      "Ulf Stark\n",
      "Alf Svensson\n",
      "Ruben Östlund\n"
     ]
    },
    {
     "name": "stderr",
     "output_type": "stream",
     "text": [
      "\r",
      " 65%|██████▌   | 371/570 [02:11<01:23,  2.39it/s]"
     ]
    },
    {
     "name": "stdout",
     "output_type": "stream",
     "text": [
      "Albert Svanberg\n",
      "Thomas Ravelli\n",
      "Jane Björck\n",
      "Gunnar Sandell\n",
      "Jacob Hård\n",
      "Stig Strand\n"
     ]
    },
    {
     "name": "stderr",
     "output_type": "stream",
     "text": [
      "\r",
      " 65%|██████▌   | 372/570 [02:12<01:16,  2.58it/s]"
     ]
    },
    {
     "name": "stdout",
     "output_type": "stream",
     "text": [
      "Knut Martin\n",
      "Nils \"Mora-Nisse\" Karlsson\n",
      "Nils \"Mora-Nisse\" Karlsson\n",
      "Glenn Hysén\n",
      "Magnus Höjer\n",
      "Jan-Ove Waldner\n",
      "Jan Svanlund\n",
      "Zlatan Ibrahimovic\n",
      "Zlatan Ibrahimovic\n"
     ]
    },
    {
     "name": "stderr",
     "output_type": "stream",
     "text": [
      "\r",
      " 65%|██████▌   | 373/570 [02:12<01:09,  2.83it/s]"
     ]
    },
    {
     "name": "stdout",
     "output_type": "stream",
     "text": [
      "Arne Hegerfors\n",
      "Zlatan Ibrahimovic\n",
      "Björn Ranelid\n",
      "Picko Troberg\n",
      "Erik Bergvall\n",
      "Anja Pärson\n",
      "Jan Lorentzon\n",
      "Thomas Wassberg\n",
      "Arne Hegerfors\n"
     ]
    },
    {
     "name": "stderr",
     "output_type": "stream",
     "text": [
      "\r",
      " 66%|██████▌   | 374/570 [02:12<01:13,  2.68it/s]"
     ]
    },
    {
     "name": "stdout",
     "output_type": "stream",
     "text": [
      "Anders Ygeman\n",
      "Mats Hulth\n",
      "Göran Persson\n",
      "Jimmie Åkesson\n",
      "Gustav Fridolin\n",
      "Jonas Sjöstedt\n",
      "Lars Orup\n",
      "Annie Lööf\n",
      "Isabella Lövin\n",
      "Carin Ahlqvist\n"
     ]
    },
    {
     "name": "stderr",
     "output_type": "stream",
     "text": [
      "\r",
      " 66%|██████▌   | 375/570 [02:13<01:08,  2.84it/s]"
     ]
    },
    {
     "name": "stdout",
     "output_type": "stream",
     "text": [
      "Gunnel Fred\n",
      "Suzanne Reuter\n",
      "Nils Nystrand\n",
      "Tomas Tengby\n",
      "Anna Stål Isaksson\n",
      "Anders Ygeman\n",
      "Anders Ekborg\n"
     ]
    },
    {
     "name": "stderr",
     "output_type": "stream",
     "text": [
      "\r",
      " 66%|██████▌   | 376/570 [02:13<01:04,  3.01it/s]"
     ]
    },
    {
     "name": "stdout",
     "output_type": "stream",
     "text": [
      "Meta Bergqvist\n",
      "Kjell Öhman\n",
      "Benny Persson\n",
      "Bosse Larsson\n",
      "Bosse Larsson\n",
      "Kenneth Staag\n",
      "Sven Uslings trio\n",
      "Erik Blix\n",
      "Jackie Söderman\n",
      "Ragna Wallmark\n",
      "Mati Lepp\n"
     ]
    },
    {
     "name": "stderr",
     "output_type": "stream",
     "text": [
      "\r",
      " 66%|██████▌   | 377/570 [02:13<01:02,  3.11it/s]"
     ]
    },
    {
     "name": "stdout",
     "output_type": "stream",
     "text": [
      "Tor Isedal\n",
      "Tom Deutgen\n",
      "Marianne Stjernqvist\n",
      "Berit Nygren\n",
      "Tor Isedal\n",
      "Tor Isedal\n",
      "Tor Isedal\n",
      "Berit Nygren\n",
      "Berit Nygren\n",
      "Pippi Långstrump\n",
      "Pippi Långstrump\n"
     ]
    },
    {
     "name": "stderr",
     "output_type": "stream",
     "text": [
      "\r",
      " 66%|██████▋   | 378/570 [02:13<00:59,  3.23it/s]"
     ]
    },
    {
     "name": "stdout",
     "output_type": "stream",
     "text": [
      "Pippi Långstrump\n",
      "Astrid Lindgren\n",
      "Johan Becker\n",
      "Per Eggers\n",
      "Per Eggers\n",
      "Marie Andersson\n",
      "Per Eggers\n",
      "Björn Granath\n",
      "Christina Göransson\n",
      "Stina Temdahl Sundström\n",
      "Christina Göransson\n"
     ]
    },
    {
     "name": "stderr",
     "output_type": "stream",
     "text": [
      "\r",
      " 66%|██████▋   | 379/570 [02:14<01:16,  2.51it/s]"
     ]
    },
    {
     "name": "stdout",
     "output_type": "stream",
     "text": [
      "Ingemar Stenmark\n",
      "Kung Carl XVI Gustaf\n",
      "Pernilla Wiberg\n",
      "Göran Persson\n",
      "Leif GW Persson\n"
     ]
    },
    {
     "name": "stderr",
     "output_type": "stream",
     "text": [
      " 67%|██████▋   | 381/570 [02:15<01:06,  2.83it/s]"
     ]
    },
    {
     "name": "stdout",
     "output_type": "stream",
     "text": [
      "Bengt Lagerkvist\n",
      "Thommy Berggren\n",
      "Thommy Berggren\n",
      "Sven Wollter\n",
      "Carin Mannheimer\n"
     ]
    },
    {
     "name": "stderr",
     "output_type": "stream",
     "text": [
      "\r",
      " 67%|██████▋   | 382/570 [02:15<01:02,  3.03it/s]"
     ]
    },
    {
     "name": "stdout",
     "output_type": "stream",
     "text": [
      "Sven Wollter\n",
      "Samuel Fröler\n"
     ]
    },
    {
     "name": "stderr",
     "output_type": "stream",
     "text": [
      "\r",
      " 67%|██████▋   | 383/570 [02:15<00:59,  3.16it/s]"
     ]
    },
    {
     "name": "stdout",
     "output_type": "stream",
     "text": [
      "Rigmor Gustafsson\n",
      "Pernilla August\n",
      "Christina Göransson\n",
      "Thorvald Fyr Strömberg\n",
      "Rigmor Gustafsson\n",
      "Rigmor Gustafsson\n",
      "Inga Sarri\n",
      "Gunnar Höglund\n",
      "P G Holmgren\n",
      "Ingela Schale\n"
     ]
    },
    {
     "name": "stderr",
     "output_type": "stream",
     "text": [
      "\r",
      " 67%|██████▋   | 384/570 [02:16<01:02,  2.97it/s]"
     ]
    },
    {
     "name": "stdout",
     "output_type": "stream",
     "text": [
      "Kjell Wigers\n",
      "Kjell Wigers\n",
      "Kjell Wigers\n",
      "Kjell Wigers\n",
      "Kjell Wigers\n",
      "Kjell Wigers\n",
      "Kjell Wigers\n",
      "Jonas Franksson\n",
      "Gunnar Skoglund\n",
      "Staffan Ling\n"
     ]
    },
    {
     "name": "stderr",
     "output_type": "stream",
     "text": [
      "\r",
      " 68%|██████▊   | 385/570 [02:16<01:01,  3.02it/s]"
     ]
    },
    {
     "name": "stdout",
     "output_type": "stream",
     "text": [
      "Marianne Söderberg\n",
      "Henrik S Järrel\n",
      "Niklas Lindblad\n",
      "Henrik von Sydow\n",
      "Gabriel Romanus\n"
     ]
    },
    {
     "name": "stderr",
     "output_type": "stream",
     "text": [
      "\r",
      " 68%|██████▊   | 386/570 [02:16<01:01,  3.00it/s]"
     ]
    },
    {
     "name": "stdout",
     "output_type": "stream",
     "text": [
      "Lennart Ehrenborg\n",
      "Stig Lindberg\n",
      "Rolf Blomberg\n",
      "Bengt Roslund\n",
      "Nils Jerring\n",
      "Rolf Blomberg\n"
     ]
    },
    {
     "name": "stderr",
     "output_type": "stream",
     "text": [
      "\r",
      " 68%|██████▊   | 387/570 [02:17<00:58,  3.11it/s]"
     ]
    },
    {
     "name": "stdout",
     "output_type": "stream",
     "text": [
      "Linda Olofsson\n",
      "Rolf Egil Bergström\n",
      "Ing-Marie Montero\n",
      "Gerd Almgren\n",
      "Tomas Dillén\n",
      "Gustav VI Adolf\n",
      "Lennart Ahlin\n",
      "Stig Ehnebom\n",
      "Prins Wilhelm\n"
     ]
    },
    {
     "name": "stderr",
     "output_type": "stream",
     "text": [
      "\r",
      " 68%|██████▊   | 388/570 [02:17<00:56,  3.23it/s]"
     ]
    },
    {
     "name": "stdout",
     "output_type": "stream",
     "text": [
      "Kristian Hoberstorfer\n",
      "Leif Lindblom\n",
      "Kristian Hoberstorfer\n",
      "Kristian Hoberstorfer\n",
      "Kristian Hoberstorfer\n",
      "Kristian Hoberstorfer\n",
      "Kristian Hoberstorfer\n",
      "Kristian Hoberstorfer\n",
      "Kristian Hoberstorfer\n",
      "Kristian Hoberstorfer\n",
      "Kristian Hoberstorfer\n"
     ]
    },
    {
     "name": "stderr",
     "output_type": "stream",
     "text": [
      "\r",
      " 68%|██████▊   | 389/570 [02:17<00:56,  3.20it/s]"
     ]
    },
    {
     "name": "stdout",
     "output_type": "stream",
     "text": [
      "Kristian Hoberstorfer\n",
      "Leif Lindblom\n",
      "Kristian Hoberstorfer\n",
      "Kristian Hoberstorfer\n",
      "Kristian Hoberstorfer\n",
      "Kristian Hoberstorfer\n",
      "Kristian Hoberstorfer\n",
      "Kristian Hoberstorfer\n",
      "Kristian Hoberstorfer\n",
      "Bengt Lagerkvist\n",
      "Bengt Lagerkvist\n"
     ]
    },
    {
     "name": "stderr",
     "output_type": "stream",
     "text": [
      "\r",
      " 68%|██████▊   | 390/570 [02:17<00:55,  3.26it/s]"
     ]
    },
    {
     "name": "stdout",
     "output_type": "stream",
     "text": [
      "Bengt Lagerkvist\n",
      "Bengt Lagerkvist\n",
      "Bengt Lagerkvist\n",
      "Jan Mybrand\n",
      "Hans Bendrik\n",
      "Bengt Lagerkvist\n",
      "Björn Gedda\n",
      "Erik Åsbrink\n",
      "Robert Broberg\n",
      "Robert Broberg\n"
     ]
    },
    {
     "name": "stderr",
     "output_type": "stream",
     "text": [
      "\r",
      " 69%|██████▊   | 391/570 [02:18<00:58,  3.07it/s]"
     ]
    },
    {
     "name": "stdout",
     "output_type": "stream",
     "text": [
      "Robert Broberg\n",
      "Robert Broberg\n",
      "Mathias Henrikson\n",
      "Ulla-Britt Norrman-Olsson\n",
      "Lennart Jähkel\n",
      "Inga Ålenius\n"
     ]
    },
    {
     "name": "stderr",
     "output_type": "stream",
     "text": [
      "\r",
      " 69%|██████▉   | 392/570 [02:18<01:05,  2.70it/s]"
     ]
    },
    {
     "name": "stdout",
     "output_type": "stream",
     "text": [
      "Carl Bildt\n",
      "Bert Karlsson\n",
      "Pia Brandelius\n",
      "Anna Hedenmo\n",
      "Mats Knutson\n",
      "Per Olov Enquist\n",
      "Christina Jutterström\n",
      "Jacques Delors\n",
      "Sven Lindahl\n"
     ]
    },
    {
     "name": "stderr",
     "output_type": "stream",
     "text": [
      "\r",
      " 69%|██████▉   | 393/570 [02:19<01:00,  2.90it/s]"
     ]
    },
    {
     "name": "stdout",
     "output_type": "stream",
     "text": [
      "Mikael Ljung\n",
      "Pelle Hanaeus\n",
      "Per-Axel Gjöres\n",
      "Mikael Ljung\n",
      "Inga Sarri\n",
      "Christina Göransson\n",
      "Henrik Olsson\n",
      "Pelle Hanaeus\n",
      "Bo Hagström\n",
      "Bo Hagström\n",
      "Bo Hagström\n"
     ]
    },
    {
     "name": "stderr",
     "output_type": "stream",
     "text": [
      "\r",
      " 69%|██████▉   | 394/570 [02:19<00:59,  2.98it/s]"
     ]
    },
    {
     "name": "stdout",
     "output_type": "stream",
     "text": [
      "Mikael Ljung\n",
      "Per-Axel Gjöres\n",
      "Mikael Ljung\n",
      "Per-Axel Gjöres\n",
      "Per-Axel Gjöres\n",
      "Pelle Hanaeus\n",
      "Henrik Ståhl\n",
      "Pelle Hanaeus\n",
      "Christina Göransson\n",
      "Christina Göransson\n",
      "Kung Carl XVI Gustaf\n"
     ]
    },
    {
     "name": "stderr",
     "output_type": "stream",
     "text": [
      "\r",
      " 69%|██████▉   | 395/570 [02:19<01:03,  2.77it/s]"
     ]
    },
    {
     "name": "stdout",
     "output_type": "stream",
     "text": [
      "Nils Jerring\n",
      "Kristian Romare\n",
      "Ingvar Carlsson\n",
      "Astrid Lindgren\n",
      "Ann-Sofie Gälman\n",
      "Per Edvin Fälting\n",
      "Annie Wegelius\n",
      "Frank Nystrandh\n",
      "Lena Birgersson\n",
      "Leo Rannaleet\n"
     ]
    },
    {
     "name": "stderr",
     "output_type": "stream",
     "text": [
      "\r",
      " 69%|██████▉   | 396/570 [02:20<01:01,  2.82it/s]"
     ]
    },
    {
     "name": "stdout",
     "output_type": "stream",
     "text": [
      "John Ausonius\n",
      "Eva Milger\n",
      "Knut Ståhlberg\n",
      "Lasse Hallström\n",
      "Martin Hedberg\n",
      "Thommy Berggren\n",
      "Erik Fichtelius\n"
     ]
    },
    {
     "name": "stderr",
     "output_type": "stream",
     "text": [
      "\r",
      " 70%|██████▉   | 397/570 [02:20<00:57,  3.03it/s]"
     ]
    },
    {
     "name": "stdout",
     "output_type": "stream",
     "text": [
      "Hans Alfredson\n",
      "Tage Danielsson\n",
      "Anders Mohlin\n",
      "Kristofer Lundström\n",
      "Hans Alfredson\n",
      "Claes Eriksson\n",
      "John Pohlman\n",
      "Pär Holmgren\n",
      "Mats Andersson\n"
     ]
    },
    {
     "name": "stderr",
     "output_type": "stream",
     "text": [
      "\r",
      " 70%|██████▉   | 398/570 [02:20<00:53,  3.19it/s]"
     ]
    },
    {
     "name": "stdout",
     "output_type": "stream",
     "text": [
      "Per Stenborg\n",
      "Hans Alfredson\n",
      "Gösta Ekman\n",
      "Gösta Ekman\n",
      "Gösta Ekman\n",
      "Tina Nordström\n",
      "Sven Melander\n",
      "Sven Melander\n",
      "Jarl Borssén\n"
     ]
    },
    {
     "name": "stderr",
     "output_type": "stream",
     "text": [
      "\r",
      " 70%|███████   | 399/570 [02:20<00:52,  3.23it/s]"
     ]
    },
    {
     "name": "stdout",
     "output_type": "stream",
     "text": [
      "Bernt Callenbo\n",
      "Sture Hovstadius\n",
      "Per Gunnar Evander\n",
      "Arne Hegerfors\n",
      "Lars Molin\n",
      "Ulf Elfving\n",
      "Ola Vading\n",
      "Ola Vading\n",
      "Ola Vading\n",
      "Bertil Askelöf\n",
      "Göran Johansson\n"
     ]
    },
    {
     "name": "stderr",
     "output_type": "stream",
     "text": [
      "\r",
      " 70%|███████   | 400/570 [02:21<00:51,  3.33it/s]"
     ]
    },
    {
     "name": "stdout",
     "output_type": "stream",
     "text": [
      "Arne Hegerfors\n",
      "Ove Bengtsson\n",
      "Arne Hegerfors\n",
      "Arne Hegerfors\n",
      "Anton Tjechov\n",
      "Peggy Faith-Ell\n",
      "Andreas Rocksén\n",
      "Lars Löfgren\n",
      "Anna Christensen\n",
      "Ola Vading\n",
      "Ola Vading\n"
     ]
    },
    {
     "name": "stderr",
     "output_type": "stream",
     "text": [
      "\r",
      " 70%|███████   | 401/570 [02:21<00:50,  3.37it/s]"
     ]
    },
    {
     "name": "stdout",
     "output_type": "stream",
     "text": [
      "Ola Vading\n",
      "Östen Eriksson\n",
      "Robert Engström\n",
      "Arne Hegerfors\n",
      "Susanne Valentin\n",
      "Mats Wegmann\n",
      "Zenia Larsson\n",
      "Agne Jälevik\n",
      "Ingmar Bergman\n",
      "Dag Stålsjö\n"
     ]
    },
    {
     "name": "stderr",
     "output_type": "stream",
     "text": [
      "\r",
      " 71%|███████   | 402/570 [02:21<00:50,  3.35it/s]"
     ]
    },
    {
     "name": "stdout",
     "output_type": "stream",
     "text": [
      "Dag Stålsjö\n",
      "Jakob Hård\n",
      "Ola Vading\n",
      "Ola Vading\n",
      "Beppe Wolgers\n",
      "Jan Sundström\n",
      "Erik Dalunde\n",
      "Bengt Westerberg\n",
      "Christer Björkvall\n"
     ]
    },
    {
     "name": "stderr",
     "output_type": "stream",
     "text": [
      "\r",
      " 71%|███████   | 403/570 [02:22<00:54,  3.04it/s]"
     ]
    },
    {
     "name": "stdout",
     "output_type": "stream",
     "text": [
      "Ilon Wikland\n",
      "Kerstin Thorvall\n",
      "Ulf von Strauss\n",
      "Margareta Strömstedt\n",
      "Åke Edin\n",
      "Rogert Svanedahl\n",
      "Lasse Hallström\n",
      "Grynet Molvig\n",
      "Einar Linde\n",
      "Erik Fichtelius\n",
      "Ulla Sallert\n"
     ]
    },
    {
     "name": "stderr",
     "output_type": "stream",
     "text": [
      "\r",
      " 71%|███████   | 404/570 [02:22<00:53,  3.12it/s]"
     ]
    },
    {
     "name": "stdout",
     "output_type": "stream",
     "text": [
      "Lapp-Lisa\n",
      "Anna-Lisa Öst\n",
      "Anders Beckman\n",
      "Monica Andrae\n",
      "Ebbe Carlsson\n",
      "Ann-Mari Jartelius\n",
      "Lena Nyman\n",
      "Anna-Greta Leijon\n",
      "Jan Halldoff\n",
      "Kjell Melin\n",
      "Anders Johansson\n"
     ]
    },
    {
     "name": "stderr",
     "output_type": "stream",
     "text": [
      "\r",
      " 71%|███████   | 405/570 [02:22<00:50,  3.29it/s]"
     ]
    },
    {
     "name": "stdout",
     "output_type": "stream",
     "text": [
      "Anders Johansson\n",
      "Måns Nilsson\n",
      "Anders Johansson\n",
      "Anders Johansson\n",
      "Anders Johansson\n",
      "Anders Johansson\n",
      "Anders Johansson\n",
      "Anders Johansson\n",
      "Anders Johansson\n",
      "Jonas Bergström\n",
      "Jonas Bergström\n"
     ]
    },
    {
     "name": "stderr",
     "output_type": "stream",
     "text": [
      "\r",
      " 71%|███████   | 406/570 [02:23<00:52,  3.13it/s]"
     ]
    },
    {
     "name": "stdout",
     "output_type": "stream",
     "text": [
      "Jonas Bergström\n",
      "Lars Elwin\n",
      "Hannah Ryggen\n",
      "Jan Gabrielsson\n",
      "Ernst-Hugo Järegård\n",
      "Ernst Idla\n",
      "Ernst-Hugo Järegård\n",
      "Ernst-Hugo Järegård\n",
      "Ernst-Hugo Järegård\n",
      "Fritiof Nilsson Piraten\n",
      "Fritiof Nilsson Piraten\n"
     ]
    },
    {
     "name": "stderr",
     "output_type": "stream",
     "text": [
      "\r",
      " 71%|███████▏  | 407/570 [02:23<00:56,  2.87it/s]"
     ]
    },
    {
     "name": "stdout",
     "output_type": "stream",
     "text": [
      "Alicia Vikander\n",
      "Anna Fägerblad\n",
      "Åke Wilhelmsson\n",
      "Svenne Hedlund\n",
      "Jan Sederholm\n",
      "Fritiof Nilsson Piraten\n",
      "Olle Häger\n",
      "Thorbjörn Fälldin\n",
      "Jan Halldoff\n",
      "Jan Halldoff\n",
      "Jan Halldoff\n"
     ]
    },
    {
     "name": "stderr",
     "output_type": "stream",
     "text": [
      "\r",
      " 72%|███████▏  | 408/570 [02:23<00:51,  3.12it/s]"
     ]
    },
    {
     "name": "stdout",
     "output_type": "stream",
     "text": [
      "Jan Halldoff\n",
      "Kjell Melin\n",
      "Ulf Schenkmanis\n",
      "Leif Nylén\n",
      "Rune Andréasson\n",
      "Nils Gustav Labba\n",
      "Cia Berg\n",
      "Ingegerd Råman\n",
      "Erik Ahlsén\n",
      "Ylva Hemstad\n",
      "John Berger\n"
     ]
    },
    {
     "name": "stderr",
     "output_type": "stream",
     "text": [
      "\r",
      " 72%|███████▏  | 409/570 [02:24<00:49,  3.25it/s]"
     ]
    },
    {
     "name": "stdout",
     "output_type": "stream",
     "text": [
      "Robert Broberg\n"
     ]
    },
    {
     "name": "stderr",
     "output_type": "stream",
     "text": [
      "\r",
      " 72%|███████▏  | 410/570 [02:24<00:52,  3.03it/s]"
     ]
    },
    {
     "name": "stdout",
     "output_type": "stream",
     "text": [
      "Ditte Feuk\n",
      "Karin Forslind\n",
      "Ulla-Britt Norrman-Olsson\n",
      "Lennart Jähkel\n",
      "Willie Andréason\n",
      "Göran Thorell\n",
      "Sannamari Patjas\n",
      "Måns Westfelt\n",
      "Bo Hagström\n"
     ]
    },
    {
     "name": "stderr",
     "output_type": "stream",
     "text": [
      "\r",
      " 72%|███████▏  | 411/570 [02:24<00:56,  2.81it/s]"
     ]
    },
    {
     "name": "stdout",
     "output_type": "stream",
     "text": [
      "Bo Hagström\n",
      "Olle Häger\n",
      "Olle Häger\n",
      "Olle Häger\n",
      "Olle Häger\n",
      "Clary Jansson\n",
      "Henrik Olsson\n",
      "Per-Axel Gjöres\n",
      "Henrik Ståhl\n",
      "Pelle Hanaeus\n"
     ]
    },
    {
     "name": "stderr",
     "output_type": "stream",
     "text": [
      "\r",
      " 72%|███████▏  | 412/570 [02:25<01:04,  2.47it/s]"
     ]
    },
    {
     "name": "stdout",
     "output_type": "stream",
     "text": [
      "Mia Björkström\n",
      "Mikael Horvath\n",
      "Eleanor Bodel\n",
      "Sven-Erik Bäck\n",
      "Bo Bjelfvenstam\n",
      "Peter Falck\n",
      "Åke Edwardson\n",
      "Ulla Sonesson\n",
      "Per-Arne Wahlgren\n",
      "Carin Hjulström\n",
      "Ulrika Knutson\n"
     ]
    },
    {
     "name": "stderr",
     "output_type": "stream",
     "text": [
      "\r",
      " 72%|███████▏  | 413/570 [02:25<00:57,  2.74it/s]"
     ]
    },
    {
     "name": "stdout",
     "output_type": "stream",
     "text": [
      "Ebbe Westergren\n",
      "Åke Larsson\n",
      "Josefine Sundström\n",
      "Bodil Ekelund\n",
      "Mikael Ljung\n",
      "Inga Sarri\n",
      "Gunnar Höglund\n",
      "P G Holmgren\n",
      "Ingela Schale\n",
      "Bengt Lagerkvist\n"
     ]
    },
    {
     "name": "stderr",
     "output_type": "stream",
     "text": [
      "\r",
      " 73%|███████▎  | 414/570 [02:26<00:58,  2.68it/s]"
     ]
    },
    {
     "name": "stdout",
     "output_type": "stream",
     "text": [
      "August Strindberg\n",
      "Mathias Henrikson\n",
      "August Strindberg\n",
      "August Strindberg\n",
      "August Strindberg\n",
      "August Strindberg\n",
      "Börje Ahlstedt\n",
      "Anders Wahlgren\n",
      "August Strindberg\n",
      "Margareta Garpe\n",
      "Tomas Alfredson\n"
     ]
    },
    {
     "name": "stderr",
     "output_type": "stream",
     "text": [
      "\r",
      " 73%|███████▎  | 415/570 [02:26<00:56,  2.75it/s]"
     ]
    },
    {
     "name": "stdout",
     "output_type": "stream",
     "text": [
      "Robert Broberg\n",
      "Robert Broberg\n",
      "Robert Broberg\n",
      "Mathias Henrikson\n",
      "Inga Ålenius\n",
      "Hans Henriksson\n",
      "Göran Forsmark\n"
     ]
    },
    {
     "name": "stderr",
     "output_type": "stream",
     "text": [
      "\r",
      " 73%|███████▎  | 416/570 [02:26<00:54,  2.84it/s]"
     ]
    },
    {
     "name": "stdout",
     "output_type": "stream",
     "text": [
      "Sven-Åke Wahlström\n",
      "Cilla Thorell\n",
      "Bo Hagström\n",
      "Hans Villius\n",
      "Olle Häger\n",
      "Olle Häger\n",
      "Olle Häger\n",
      "Olle Häger\n",
      "Olle Häger\n",
      "Claudio Sapiain\n"
     ]
    },
    {
     "name": "stderr",
     "output_type": "stream",
     "text": [
      "\r",
      " 73%|███████▎  | 417/570 [02:27<00:55,  2.74it/s]"
     ]
    },
    {
     "name": "stdout",
     "output_type": "stream",
     "text": [
      "Erik Öhnell\n",
      "Ria Wägner\n",
      "Staffan Lindeborg\n",
      "Lars Frölander\n",
      "Staffan Lindeborg\n",
      "Staffan Lindeborg\n",
      "Mathias Engstrand\n",
      "Elisabeth Aldén\n",
      "B B King\n",
      "Olle Palmlöf\n",
      "Electric Boys\n"
     ]
    },
    {
     "name": "stderr",
     "output_type": "stream",
     "text": [
      "\r",
      " 73%|███████▎  | 418/570 [02:27<00:51,  2.96it/s]"
     ]
    },
    {
     "name": "stdout",
     "output_type": "stream",
     "text": [
      "Sten-Åke Cederhök\n",
      "Tomas von Brömssen\n",
      "Sten-Åke Cederhök\n",
      "Sten-Åke Cederhök\n",
      "Sten-Åke Cederhök\n",
      "Sten-Åke Cederhök\n",
      "Sten-Åke Cederhök\n",
      "Sten-Åke Cederhök\n",
      "Sten-Åke Cederhök\n",
      "Sten-Åke Cederhök\n",
      "Sten-Åke Cederhök\n"
     ]
    },
    {
     "name": "stderr",
     "output_type": "stream",
     "text": [
      "\r",
      " 74%|███████▎  | 419/570 [02:27<00:48,  3.09it/s]"
     ]
    },
    {
     "name": "stdout",
     "output_type": "stream",
     "text": [
      "Bo Hagström\n",
      "Folke Isaksson\n",
      "Folke Isaksson\n",
      "Björn Hedman\n",
      "Lena Videkull\n",
      "Lena Videkull\n",
      "Sigurd Jörgensen\n",
      "Jane Björck\n",
      "Sigurd Jörgensen\n",
      "Staffan Lindeborg\n"
     ]
    },
    {
     "name": "stderr",
     "output_type": "stream",
     "text": [
      "\r",
      " 74%|███████▎  | 420/570 [02:28<00:54,  2.75it/s]"
     ]
    },
    {
     "name": "stdout",
     "output_type": "stream",
     "text": [
      "Jan Guillou\n",
      "Hans von Hofsten\n",
      "Olof Palme\n",
      "Kjell Larsson\n",
      "Hans-Elis Johansson\n",
      "Bo Hansson\n",
      "Bo Hansson\n",
      "Gordana Pavlovic\n",
      "Marianne Nielsen\n",
      "Siewert Öholm\n",
      "Siewert Öholm\n"
     ]
    },
    {
     "name": "stderr",
     "output_type": "stream",
     "text": [
      "\r",
      " 74%|███████▍  | 421/570 [02:28<00:49,  2.98it/s]"
     ]
    },
    {
     "name": "stdout",
     "output_type": "stream",
     "text": [
      "Siewert Öholm\n",
      "Lasse Lindroth\n",
      "Helena Brodin\n",
      "Margit Borgström\n",
      "Sverker Olofsson\n",
      "Sten Nordensköld\n",
      "Siewert Öholm\n",
      "Barbro Hörberg\n",
      "Peps Persson\n",
      "Barbro Hörberg\n",
      "Mats Segerblom\n"
     ]
    },
    {
     "name": "stderr",
     "output_type": "stream",
     "text": [
      "\r",
      " 74%|███████▍  | 422/570 [02:29<01:04,  2.31it/s]"
     ]
    },
    {
     "name": "stdout",
     "output_type": "stream",
     "text": [
      "Jan Gunnarsson\n",
      "Björn Hedman\n",
      "Gunnel Linde\n",
      "Gunnel Linde\n",
      "Gunnel Linde\n",
      "Gunnel Linde\n",
      "Gunnel Linde\n",
      "Gunnel Linde\n",
      "Gunnel Linde\n",
      "Eva Ahlberg\n",
      "Gunnel Linde\n"
     ]
    },
    {
     "name": "stderr",
     "output_type": "stream",
     "text": [
      "\r",
      " 74%|███████▍  | 423/570 [02:29<01:02,  2.36it/s]"
     ]
    },
    {
     "name": "stdout",
     "output_type": "stream",
     "text": [
      "Sif Ruud\n",
      "Hans-Eric Stenborg\n",
      "Gösta Bernhard\n",
      "Carro Bergkvist\n",
      "Gösta Bernhard\n",
      "Gösta Bernhard\n",
      "Gösta Bernhard\n",
      "Hans Alfredson\n",
      "Lars Tilling\n",
      "Kristian Romare\n",
      "Jan Gabrielsson\n"
     ]
    },
    {
     "name": "stderr",
     "output_type": "stream",
     "text": [
      "\r",
      " 74%|███████▍  | 424/570 [02:29<01:01,  2.37it/s]"
     ]
    },
    {
     "name": "stdout",
     "output_type": "stream",
     "text": [
      "Birgitta Sandstedt\n",
      "Vebjörn Rodal\n",
      "Anders Gärderud\n",
      "Peter Häggström\n",
      "Sten Rosenberg\n",
      "Åke Edwardson\n",
      "Åke Edwardson\n",
      "Åke Edwardson\n",
      "Åke Edwardson\n"
     ]
    },
    {
     "name": "stderr",
     "output_type": "stream",
     "text": [
      "\r",
      " 75%|███████▍  | 425/570 [02:30<01:00,  2.40it/s]"
     ]
    },
    {
     "name": "stdout",
     "output_type": "stream",
     "text": [
      "Åke Edwardson\n",
      "Johan Gry\n",
      "Christer Ulfbåge\n",
      "Åke Edwardson\n",
      "Sten Rosenberg\n",
      "Bo Isaksson\n",
      "Anna Lindh\n",
      "Göran Elwin\n",
      "Nadja Petersen\n",
      "Ulf Karlsson\n"
     ]
    },
    {
     "name": "stderr",
     "output_type": "stream",
     "text": [
      "\r",
      " 75%|███████▍  | 426/570 [02:30<00:54,  2.63it/s]"
     ]
    },
    {
     "name": "stdout",
     "output_type": "stream",
     "text": [
      "Robert Gustafsson\n",
      "Jonas Inde\n",
      "Robert Gustafsson\n",
      "Robert Gustafsson\n",
      "Robert Gustafsson\n",
      "Robert Gustafsson\n",
      "Robert Gustafsson\n",
      "Robert Gustafsson\n",
      "Torbjörn Wiléen\n",
      "Torbjörn Wiléen\n"
     ]
    },
    {
     "name": "stderr",
     "output_type": "stream",
     "text": [
      "\r",
      " 75%|███████▍  | 427/570 [02:30<00:50,  2.82it/s]"
     ]
    },
    {
     "name": "stdout",
     "output_type": "stream",
     "text": [
      "Johan Petersson\n",
      "Eva Röse\n",
      "Per Melander\n",
      "Inger Nildén\n",
      "Peter Birro\n",
      "Peter Birro\n",
      "Peter Birro\n",
      "Arne Weise\n",
      "Meja\n",
      "Staffan Lindström\n",
      "Folke Mossfeldt\n"
     ]
    },
    {
     "name": "stderr",
     "output_type": "stream",
     "text": [
      "\r",
      " 75%|███████▌  | 428/570 [02:31<00:47,  2.98it/s]"
     ]
    },
    {
     "name": "stdout",
     "output_type": "stream",
     "text": [
      "Åsa Wahlbom\n",
      "Gunilla Haxbender\n",
      "Åsa Wahlbom\n",
      "Alexandra Pascalidou\n",
      "Anja Pärson\n",
      "Olle Adolphson\n",
      "Sven Trolldal\n",
      "Ebba Grön\n",
      "Siw Malmkvist\n",
      "Elisabet Ald\n",
      "Olle Adolphson\n"
     ]
    },
    {
     "name": "stderr",
     "output_type": "stream",
     "text": [
      "\r",
      " 75%|███████▌  | 429/570 [02:31<00:49,  2.83it/s]"
     ]
    },
    {
     "name": "stdout",
     "output_type": "stream",
     "text": [
      "Bobbo Nordenskiöld\n",
      "Bobbo Nordenskiöld\n",
      "Bobbo Nordenskiöld\n",
      "Bobbo Nordenskiöld\n",
      "Carl-Axel Thernberg\n",
      "Arne Weise\n",
      "Bengt Pohjanen\n",
      "Jan Bergquist\n",
      "Jan Bergquist\n",
      "Jan Bergquist\n"
     ]
    },
    {
     "name": "stderr",
     "output_type": "stream",
     "text": [
      "\r",
      " 75%|███████▌  | 430/570 [02:32<01:07,  2.07it/s]"
     ]
    },
    {
     "name": "stdout",
     "output_type": "stream",
     "text": [
      "Stig Yngve Palm\n",
      "Gun Robertson\n",
      "Tuva Petersdotter\n",
      "David Arnesen\n",
      "Carina Ernryd\n",
      "Maria Bolme\n",
      "Miranda Nord\n",
      "Anna Bernardsson\n",
      "Lena Ringqvist\n",
      "Lars Bill Lundholm\n",
      "Leif Jakobsson\n"
     ]
    },
    {
     "name": "stderr",
     "output_type": "stream",
     "text": [
      "\r",
      " 76%|███████▌  | 431/570 [02:32<00:57,  2.41it/s]"
     ]
    },
    {
     "name": "stdout",
     "output_type": "stream",
     "text": [
      "Leif Jakobsson\n",
      "Bengt Lagerkvist\n",
      "Nils Dardel\n",
      "Leif Jakobsson\n",
      "Leif Jakobsson\n",
      "Mikael Håfström\n",
      "Catrin Westerlund\n",
      "Christina Schollin\n",
      "Bo Hagström\n",
      "Bo Hagström\n",
      "Bo Hagström\n"
     ]
    },
    {
     "name": "stderr",
     "output_type": "stream",
     "text": [
      "\r",
      " 76%|███████▌  | 432/570 [02:33<00:55,  2.51it/s]"
     ]
    },
    {
     "name": "stdout",
     "output_type": "stream",
     "text": [
      "Birgitta Zachrisson\n",
      "Birgitta Molin\n",
      "Birgitta Zachrisson\n",
      "Birgitta Zachrisson\n",
      "Birgitta Zachrisson\n",
      "Birgitta Zachrisson\n",
      "Birgitta Zachrisson\n",
      "Birgitta Zachrisson\n",
      "Birgitta Zachrisson\n",
      "Birgitta Zachrisson\n"
     ]
    },
    {
     "name": "stderr",
     "output_type": "stream",
     "text": [
      "\r",
      " 76%|███████▌  | 433/570 [02:33<01:00,  2.26it/s]"
     ]
    },
    {
     "name": "stdout",
     "output_type": "stream",
     "text": [
      "Lennart Hjulström\n",
      "Kent Andersson\n",
      "Lennart Hjulström\n",
      "Lennart Hjulström\n",
      "Sten-Åke Cederhök\n",
      "Sten-Åke Cederhök\n",
      "Kent Andersson\n",
      "Annika McLachlan\n",
      "Per Sjöstrand\n",
      "Per Sjöstrand\n",
      "Per Sjöstrand\n"
     ]
    },
    {
     "name": "stderr",
     "output_type": "stream",
     "text": [
      "\r",
      " 76%|███████▌  | 434/570 [02:33<00:53,  2.55it/s]"
     ]
    },
    {
     "name": "stdout",
     "output_type": "stream",
     "text": [
      "Per Sjöstrand\n",
      "Tore Lindwall\n",
      "Per Sjöstrand\n",
      "Vilhelm Moberg\n",
      "Gustav Bartfay\n",
      "Gustav Bartfay\n",
      "Christina Hörnblad\n",
      "Kronprinsessan Victoria\n",
      "Gunnar Palin\n",
      "Mildred Erikson\n",
      "Anna Lindh\n"
     ]
    },
    {
     "name": "stderr",
     "output_type": "stream",
     "text": [
      "\r",
      " 76%|███████▋  | 435/570 [02:34<00:48,  2.79it/s]"
     ]
    },
    {
     "name": "stdout",
     "output_type": "stream",
     "text": [
      "Kung Carl XVI Gustaf\n",
      "Björn Anderö\n",
      "Åke Holmberg\n",
      "Peter Ekstrand\n",
      "Lena Liljeborg\n",
      "Alf Lundkvist\n",
      "Rolf Tardell\n",
      "Yvonne Åstrand\n",
      "Elsa Magnusson\n"
     ]
    },
    {
     "name": "stderr",
     "output_type": "stream",
     "text": [
      "\r",
      " 76%|███████▋  | 436/570 [02:34<00:44,  2.98it/s]"
     ]
    },
    {
     "name": "stdout",
     "output_type": "stream",
     "text": [
      "Göran Persson\n",
      "Elisabet Höglund\n",
      "Signe Höijer\n",
      "Eyvind Johnson\n",
      "Anna Lindmarker\n",
      "Ingvar Carlsson\n",
      "Bo Holmqvist\n",
      "Jarl Alfredius\n",
      "Egon Krenz\n"
     ]
    },
    {
     "name": "stderr",
     "output_type": "stream",
     "text": [
      "\r",
      " 77%|███████▋  | 437/570 [02:34<00:41,  3.24it/s]"
     ]
    },
    {
     "name": "stdout",
     "output_type": "stream",
     "text": [
      "George Bush\n",
      "Ingvar Carlsson\n",
      "Birgitta Sandstedt\n",
      "Prins Carl Philip\n",
      "Gösta Spjuth\n",
      "Ingeleif Öhman\n",
      "Torsten von Wachenfeldt\n",
      "Christer Petersson\n",
      "Elisabet Höglund\n",
      "Lennart Geijer\n"
     ]
    },
    {
     "name": "stderr",
     "output_type": "stream",
     "text": [
      "\r",
      " 77%|███████▋  | 438/570 [02:35<00:44,  2.97it/s]"
     ]
    },
    {
     "name": "stdout",
     "output_type": "stream",
     "text": [
      "Lars Bergquist\n",
      "Heidi von Born\n",
      "Ivan Öhlin\n",
      "Ivan Öhlin\n",
      "Ivan Öhlin\n",
      "Joey Tempest\n",
      "Ulf Christiansson\n",
      "Marie Ledin\n",
      "Pugh Rogefeldt\n",
      "Hans Werthén\n",
      "Lars Westman\n"
     ]
    },
    {
     "name": "stderr",
     "output_type": "stream",
     "text": [
      "\r",
      " 77%|███████▋  | 439/570 [02:35<00:51,  2.56it/s]"
     ]
    },
    {
     "name": "stdout",
     "output_type": "stream",
     "text": [
      "Ethel Karström\n",
      "Bengt Bedrup\n",
      "Gunilla Nilars\n",
      "Tomas Andersson Wij\n",
      "Claes Jönke\n",
      "Joakim Haeggman\n",
      "Hoola Bandoola Band\n",
      "Kent Andersson\n",
      "Rolf Beckman\n",
      "Curry Melin\n",
      "Carl-Ingemar Perstad\n"
     ]
    },
    {
     "name": "stderr",
     "output_type": "stream",
     "text": [
      "\r",
      " 77%|███████▋  | 440/570 [02:36<01:00,  2.13it/s]"
     ]
    },
    {
     "name": "stdout",
     "output_type": "stream",
     "text": [
      "Charlotte Reimerson\n",
      "Elise Ottesen-Jensen\n",
      "Erik Fåglum\n",
      "Jonas Gardell\n",
      "Claes Elfsberg\n",
      "Stig Synnergren\n",
      "Frank Hirschfeldt\n",
      "Rikard Wolff\n"
     ]
    },
    {
     "name": "stderr",
     "output_type": "stream",
     "text": [
      "\r",
      " 77%|███████▋  | 441/570 [02:36<01:00,  2.13it/s]"
     ]
    },
    {
     "name": "stdout",
     "output_type": "stream",
     "text": [
      "Christer Glenning\n",
      "Carl-Ingemar Perstad\n",
      "Carl-Ingemar Perstad\n",
      "Christer Glenning\n",
      "Leif Hedman\n",
      "Carl-Ingemar Perstad\n",
      "Camilla Lundén\n",
      "Camilla Lundén\n",
      "Allan Manson\n",
      "Agne Jälevik\n",
      "Marianne Anderberg\n"
     ]
    },
    {
     "name": "stderr",
     "output_type": "stream",
     "text": [
      "\r",
      " 78%|███████▊  | 442/570 [02:36<00:53,  2.40it/s]"
     ]
    },
    {
     "name": "stdout",
     "output_type": "stream",
     "text": [
      "Marianne Anderberg\n",
      "Ingela Agardh\n",
      "Gunnar Nordahl\n",
      "Björn Borg\n",
      "Pia Sundhage\n",
      "Björn Holmberg\n",
      "Göran Ragnerstam\n",
      "Joe Deloach\n",
      "Eva Landgren\n",
      "Lena Haglund\n"
     ]
    },
    {
     "name": "stderr",
     "output_type": "stream",
     "text": [
      "\r",
      " 78%|███████▊  | 443/570 [02:37<00:48,  2.64it/s]"
     ]
    },
    {
     "name": "stdout",
     "output_type": "stream",
     "text": [
      "Jan Blomberg\n",
      "Malin Toverud\n",
      "Nils Gustav Labba\n",
      "Jan Blomberg\n",
      "Margit Sahlin\n",
      "Rosa Taikon\n",
      "Willy Kyrklund\n",
      "Sven Lindholm\n",
      "Allan Schulman\n"
     ]
    },
    {
     "name": "stderr",
     "output_type": "stream",
     "text": [
      "\r",
      " 78%|███████▊  | 444/570 [02:37<00:49,  2.52it/s]"
     ]
    },
    {
     "name": "stdout",
     "output_type": "stream",
     "text": [
      "Berndt Ahlqvist\n",
      "Christer Petersson\n",
      "Norman Baker\n",
      "Olof Palme\n",
      "Bo Holmström\n",
      "Hans-Göran Wickström\n",
      "Olof Palme\n",
      "Olle Björklund\n",
      "Boris Jeltsin\n",
      "Carl Fredrik Reuterswärd\n"
     ]
    },
    {
     "name": "stderr",
     "output_type": "stream",
     "text": [
      "\r",
      " 78%|███████▊  | 445/570 [02:38<00:45,  2.74it/s]"
     ]
    },
    {
     "name": "stdout",
     "output_type": "stream",
     "text": [
      "Martin Olsson\n",
      "Bo Holmström\n",
      "Ilgars Linde\n",
      "Bo Holmström\n",
      "Torbjörn Stålmarck\n",
      "Sven Plex Petersson\n",
      "Ulf Thorén\n",
      "Claes Elfsberg\n"
     ]
    },
    {
     "name": "stderr",
     "output_type": "stream",
     "text": [
      "\r",
      " 78%|███████▊  | 446/570 [02:38<00:42,  2.94it/s]"
     ]
    },
    {
     "name": "stdout",
     "output_type": "stream",
     "text": [
      "Örjan Larsson\n",
      "Fred Åkerström\n",
      "Jörgen Lantz\n",
      "Jörgen Lantz\n",
      "Jörgen Lantz\n",
      "Jörgen Lantz\n",
      "Anneli Gustafsson\n",
      "Alice Babs\n",
      "Anneli Gustafsson\n",
      "Per Engström\n",
      "Charles Falk\n"
     ]
    },
    {
     "name": "stderr",
     "output_type": "stream",
     "text": [
      "\r",
      " 78%|███████▊  | 447/570 [02:38<00:40,  3.05it/s]"
     ]
    },
    {
     "name": "stdout",
     "output_type": "stream",
     "text": [
      "Per Engström\n",
      "Totte Wallin\n",
      "Ingmar Bergman\n",
      "Lasse Holmqvist\n",
      "Lasse Holmqvist\n",
      "Bertil Svensson\n",
      "Bertil Svensson\n",
      "Stig Claesson\n",
      "Stig Claesson\n",
      "Ingmar Bergman\n",
      "Stig Claesson\n"
     ]
    },
    {
     "name": "stderr",
     "output_type": "stream",
     "text": [
      "\r",
      " 79%|███████▊  | 448/570 [02:38<00:38,  3.16it/s]"
     ]
    },
    {
     "name": "stdout",
     "output_type": "stream",
     "text": [
      "Stig Claesson\n",
      "Stig Claesson\n",
      "Hasse Alatalo\n",
      "Hasse Alatalo\n",
      "Stig Claesson\n",
      "Stig Claesson\n",
      "Stig Claesson\n",
      "Cyndee Peters\n",
      "Charlotte Hult\n"
     ]
    },
    {
     "name": "stderr",
     "output_type": "stream",
     "text": [
      "\r",
      " 79%|███████▉  | 449/570 [02:39<00:37,  3.23it/s]"
     ]
    },
    {
     "name": "stdout",
     "output_type": "stream",
     "text": [
      "Anna Lindh\n",
      "Norman Baker\n",
      "Göran Persson\n",
      "Peter \"Foppa\" Forsberg\n",
      "Bertil Werkström\n",
      "Robert Olsson\n",
      "Johannes Paulus II\n",
      "George W Bush\n",
      "Michael Landon\n"
     ]
    },
    {
     "name": "stderr",
     "output_type": "stream",
     "text": [
      "\r",
      " 79%|███████▉  | 450/570 [02:39<00:40,  2.97it/s]"
     ]
    },
    {
     "name": "stdout",
     "output_type": "stream",
     "text": [
      "Per Oscarsson\n",
      "Lennart Hyland\n",
      "Jan Guillou\n",
      "Evert Taube\n",
      "Jeanette von Heidenstam\n",
      "Lennart \"Hoa-Hoa\" Dahlgren\n",
      "Kattis Ahlström\n",
      "Sven Melander\n",
      "Sven Melander\n",
      "Sven Melander\n",
      "Mats Wilander\n"
     ]
    },
    {
     "name": "stderr",
     "output_type": "stream",
     "text": [
      "\r",
      " 79%|███████▉  | 451/570 [02:40<00:49,  2.40it/s]"
     ]
    },
    {
     "name": "stdout",
     "output_type": "stream",
     "text": [
      "C H Hermansson\n",
      "Rolf Knutsson\n",
      "Svante Grundberg\n",
      "John Chrispinsson\n",
      "Justine Kirk\n",
      "Hans Alfredson\n",
      "Lisa Ekdahl\n",
      "Gene Simmons\n",
      "Sven Melander\n",
      "Sven Melander\n",
      "Cia Berg\n"
     ]
    },
    {
     "name": "stderr",
     "output_type": "stream",
     "text": [
      "\r",
      " 79%|███████▉  | 452/570 [02:40<00:43,  2.70it/s]"
     ]
    },
    {
     "name": "stdout",
     "output_type": "stream",
     "text": [
      "Ingela Agardh\n",
      "Lars Boberg\n",
      "Gösta Ekman\n",
      "Gösta Ekman\n",
      "Gösta Ekman\n",
      "Tina Nordström\n",
      "Sven Melander\n",
      "Jarl Borssén\n",
      "Jarl Borssén\n",
      "Mikael Ekman\n",
      "Tage Erlander\n"
     ]
    },
    {
     "name": "stderr",
     "output_type": "stream",
     "text": [
      "\r",
      " 79%|███████▉  | 453/570 [02:40<00:42,  2.73it/s]"
     ]
    },
    {
     "name": "stdout",
     "output_type": "stream",
     "text": [
      "Stig Larsson\n",
      "Thorsten Flinck\n",
      "Johanna Mork\n",
      "Sofie Mällström\n",
      "Rumle Hammerich\n",
      "Ulf Stark\n",
      "Anders Nyström\n",
      "Ulla Britt Norrman\n"
     ]
    },
    {
     "name": "stderr",
     "output_type": "stream",
     "text": [
      "\r",
      " 80%|███████▉  | 454/570 [02:41<00:50,  2.28it/s]"
     ]
    },
    {
     "name": "stdout",
     "output_type": "stream",
     "text": [
      "Anders Nyström\n",
      "Lis Nilheim\n",
      "Jaques Werup\n",
      "Jacques Werup\n",
      "Jacques Werup\n",
      "Jacques Werup\n",
      "Jaques Werup\n",
      "Jaques Werup\n",
      "John Harryson\n",
      "Jaques Werup\n",
      "Åke Engfeldt\n"
     ]
    },
    {
     "name": "stderr",
     "output_type": "stream",
     "text": [
      "\r",
      " 80%|███████▉  | 455/570 [02:41<00:45,  2.54it/s]"
     ]
    },
    {
     "name": "stdout",
     "output_type": "stream",
     "text": [
      "Ulf Thorén\n",
      "Alicia Lundberg\n",
      "Leif GW Persson\n"
     ]
    },
    {
     "name": "stderr",
     "output_type": "stream",
     "text": [
      "\r",
      " 80%|████████  | 456/570 [02:42<00:46,  2.45it/s]"
     ]
    },
    {
     "name": "stdout",
     "output_type": "stream",
     "text": [
      "Johan Mardell\n",
      "Ulf Stark\n",
      "Stellan Olsson\n",
      "Stellan Olsson\n",
      "Stellan Olsson\n",
      "Olof Huddén\n",
      "Ursula Tengelin\n",
      "Sten Andersson\n",
      "Widar Andersson\n",
      "Olivia Wigzell\n"
     ]
    },
    {
     "name": "stderr",
     "output_type": "stream",
     "text": [
      "\r",
      " 80%|████████  | 457/570 [02:42<00:56,  2.01it/s]"
     ]
    },
    {
     "name": "stdout",
     "output_type": "stream",
     "text": [
      "Nordal Åkerman\n",
      "Mona Sahlin\n",
      "Siewert Öholm\n",
      "Per Unckel\n",
      "Peter Forssman\n",
      "Mailis Dahlberg\n",
      "Stig Ramel\n",
      "Stig Yngve Palm\n",
      "Stig Yngve Palm\n",
      "Stig Yngve Palm\n",
      "Stig Yngve Palm\n"
     ]
    },
    {
     "name": "stderr",
     "output_type": "stream",
     "text": [
      "\r",
      " 80%|████████  | 458/570 [02:43<00:52,  2.12it/s]"
     ]
    },
    {
     "name": "stdout",
     "output_type": "stream",
     "text": [
      "Grynet\n",
      "Carolina Krook\n",
      "Inga-Lill Åhström\n",
      "Stig Yngve Palm\n",
      "Stig Yngve Palm\n",
      "P C Jersild\n",
      "Irma Erixson\n",
      "Carin Mannheimer\n",
      "Carin Mannheimer\n",
      "Knut Ståhlberg\n",
      "Carin Mannheimer\n"
     ]
    },
    {
     "name": "stderr",
     "output_type": "stream",
     "text": [
      "\r",
      " 81%|████████  | 459/570 [02:45<02:03,  1.11s/it]"
     ]
    },
    {
     "name": "stdout",
     "output_type": "stream",
     "text": [
      "Rolf Egil Bergström\n",
      "Göran Larsson\n",
      "Gerd Almgren\n",
      "Tomas Dillén\n",
      "Gustav VI Adolf\n",
      "Lennart Ahlin\n",
      "Stig Ehnebom\n",
      "Prins Wilhelm\n",
      "Erik Bergsten\n",
      "Erik Skoglund\n"
     ]
    },
    {
     "name": "stderr",
     "output_type": "stream",
     "text": [
      "\r",
      " 81%|████████  | 460/570 [02:46<01:34,  1.16it/s]"
     ]
    },
    {
     "name": "stdout",
     "output_type": "stream",
     "text": [
      "Roland Hedlund\n",
      "Thomas Segerström\n",
      "Hjalmar Bergman\n",
      "Hjalmar Bergman\n",
      "Hjalmar Bergman\n",
      "Jacques Werup\n",
      "Jacques Werup\n",
      "Leif Ringman\n",
      "Herman Lindqvist\n",
      "Herman Lindqvist\n",
      "Herman Lindqvist\n"
     ]
    },
    {
     "name": "stderr",
     "output_type": "stream",
     "text": [
      "\r",
      " 81%|████████  | 461/570 [02:46<01:28,  1.23it/s]"
     ]
    },
    {
     "name": "stdout",
     "output_type": "stream",
     "text": [
      "Herman Lindqvist\n",
      "Heliga Birgitta\n",
      "Herman Lindqvist\n",
      "Herman Lindqvist\n",
      "Herman Lindqvist\n",
      "Herman Lindqvist\n",
      "Herman Lindqvist\n",
      "Herman Lindqvist\n",
      "Herman Lindqvist\n",
      "Herman Lindqvist\n",
      "Herman Lindqvist\n"
     ]
    },
    {
     "name": "stderr",
     "output_type": "stream",
     "text": [
      "\r",
      " 81%|████████  | 462/570 [02:47<01:13,  1.47it/s]"
     ]
    },
    {
     "name": "stdout",
     "output_type": "stream",
     "text": [
      "Herman Lindqvist\n",
      "Herman Lindqvist\n",
      "Herman Lindqvist\n",
      "Herman Lindqvist\n",
      "Herman Lindqvist\n",
      "Herman Lindqvist\n",
      "Herman Lindqvist\n",
      "Herman Lindqvist\n",
      "Herman Lindqvist\n",
      "Anders Bauer\n"
     ]
    },
    {
     "name": "stderr",
     "output_type": "stream",
     "text": [
      "\r",
      " 81%|████████  | 463/570 [02:47<01:00,  1.76it/s]"
     ]
    },
    {
     "name": "stdout",
     "output_type": "stream",
     "text": [
      "Erik Fichtelius\n",
      "Hans Alfredson\n",
      "Hans Alfredson\n",
      "Kristofer Lundström\n",
      "Prins Wilhelm\n",
      "August Strindberg\n"
     ]
    },
    {
     "name": "stderr",
     "output_type": "stream",
     "text": [
      "\r",
      " 81%|████████▏ | 464/570 [02:48<01:12,  1.45it/s]"
     ]
    },
    {
     "name": "stdout",
     "output_type": "stream",
     "text": [
      "Kjell Wigers\n",
      "Nils Jerring\n",
      "Kjell Wigers\n",
      "Kjell Wigers\n",
      "Kjell Wigers\n",
      "Kjell Wigers\n",
      "Kjell Wigers\n"
     ]
    },
    {
     "name": "stderr",
     "output_type": "stream",
     "text": [
      "\r",
      " 82%|████████▏ | 465/570 [02:48<01:06,  1.58it/s]"
     ]
    },
    {
     "name": "stdout",
     "output_type": "stream",
     "text": [
      "Allan Edwall\n",
      "Cecilia Torudd\n",
      "Allan Edwall\n",
      "Allan Edwall\n",
      "Allan Edwall\n",
      "Olle Häger\n",
      "Kristian Hoberstorfer\n",
      "Kristian Hoberstorfer\n",
      "Kristian Hoberstorfer\n",
      "Kristian Hoberstorfer\n",
      "Kristian Hoberstorfer\n"
     ]
    },
    {
     "name": "stderr",
     "output_type": "stream",
     "text": [
      "\r",
      " 82%|████████▏ | 466/570 [02:49<00:58,  1.78it/s]"
     ]
    },
    {
     "name": "stdout",
     "output_type": "stream",
     "text": [
      "Henrik von Sydow\n",
      "Gabriel Romanus\n",
      "Lennart Ehrenborg\n"
     ]
    },
    {
     "name": "stderr",
     "output_type": "stream",
     "text": [
      "\r",
      " 82%|████████▏ | 467/570 [02:49<00:51,  2.00it/s]"
     ]
    },
    {
     "name": "stdout",
     "output_type": "stream",
     "text": [
      "Anders Mohlin\n",
      "Claes Eriksson\n",
      "John Pohlman\n",
      "Mats Knutson\n",
      "Per Olov Enquist\n",
      "Christina Jutterström\n"
     ]
    },
    {
     "name": "stderr",
     "output_type": "stream",
     "text": [
      "\r",
      " 82%|████████▏ | 468/570 [02:50<00:47,  2.16it/s]"
     ]
    },
    {
     "name": "stdout",
     "output_type": "stream",
     "text": [
      "Kristian Hoberstorfer\n",
      "Leif Lindblom\n",
      "Kristian Hoberstorfer\n",
      "Kristian Hoberstorfer\n",
      "Bengt Lagerkvist\n",
      "Bengt Lagerkvist\n",
      "Hans Bendrik\n",
      "Bengt Lagerkvist\n",
      "Erik Åsbrink\n",
      "Börje Ahlstedt\n",
      "Sonja Döhre\n"
     ]
    },
    {
     "name": "stderr",
     "output_type": "stream",
     "text": [
      "\r",
      " 82%|████████▏ | 469/570 [02:51<01:06,  1.51it/s]"
     ]
    },
    {
     "name": "stdout",
     "output_type": "stream",
     "text": [
      "Raoul Wallenberg\n",
      "Bo Holmström\n",
      "Håkan Pieniowski\n",
      "Astrid Lindgren\n",
      "Sven Lindahl\n",
      "Kung Carl XVI Gustaf\n",
      "Jarl Alfredius\n",
      "Donald Trump\n",
      "Ulla-Carin Lindquist\n",
      "Ulla-Carin Lindquist\n"
     ]
    },
    {
     "name": "stderr",
     "output_type": "stream",
     "text": [
      "\r",
      " 82%|████████▏ | 470/570 [02:51<00:58,  1.72it/s]"
     ]
    },
    {
     "name": "stdout",
     "output_type": "stream",
     "text": [
      "Per Anders Fogelström\n",
      "Joakim Garpe\n",
      "Björn Lundholm\n",
      "Ann-Sofie Gälman\n",
      "Annie Wegelius\n",
      "Per Edvin Fälting\n",
      "Annie Wegelius\n",
      "Ingvar Kamprad\n",
      "Beatrice Ask\n",
      "Leo Rannaleet\n",
      "Bengt Feldreich\n"
     ]
    },
    {
     "name": "stderr",
     "output_type": "stream",
     "text": [
      "\r",
      " 83%|████████▎ | 471/570 [02:51<00:49,  1.99it/s]"
     ]
    },
    {
     "name": "stdout",
     "output_type": "stream",
     "text": [
      "Colin Nutley\n",
      "Torbjörn Ehrnvall\n",
      "Eric Ericson (f 1974)\n",
      "Lars Hjelm\n",
      "Eric Ericson (f 1974)\n",
      "Lena Nylén\n",
      "Anna Sundqvist\n",
      "Lasse Berghagen\n",
      "Anders Wahlgren\n",
      "Johannes Brost\n"
     ]
    },
    {
     "name": "stderr",
     "output_type": "stream",
     "text": [
      "\r",
      " 83%|████████▎ | 472/570 [02:52<00:43,  2.26it/s]"
     ]
    },
    {
     "name": "stdout",
     "output_type": "stream",
     "text": [
      "Lennart Hyland\n",
      "Maria Johansson\n",
      "Dolph Lundgren\n",
      "Stina Dabrowski\n",
      "Ulf Larsson\n"
     ]
    },
    {
     "name": "stderr",
     "output_type": "stream",
     "text": [
      "\r",
      " 83%|████████▎ | 473/570 [02:52<00:42,  2.31it/s]"
     ]
    },
    {
     "name": "stdout",
     "output_type": "stream",
     "text": [
      "Johannes Brost\n",
      "Sif Ruud\n",
      "Johannes Brost\n",
      "Johannes Brost\n",
      "Johannes Brost\n",
      "Johannes Brost\n",
      "Johannes Brost\n",
      "Johannes Brost\n",
      "Johannes Brost\n",
      "Johannes Brost\n",
      "Johannes Brost\n"
     ]
    },
    {
     "name": "stderr",
     "output_type": "stream",
     "text": [
      "\r",
      " 83%|████████▎ | 474/570 [02:53<00:40,  2.34it/s]"
     ]
    },
    {
     "name": "stdout",
     "output_type": "stream",
     "text": [
      "Hans Bergström\n",
      "Ingvar Ernblad\n",
      "Johannes Brost\n",
      "Lena Nylén\n",
      "Lena Nylén\n",
      "Lena Nylén\n",
      "Eric Ericson (f 1974)\n",
      "Lars Theodor Jonsson\n",
      "Hjalmar Bergman\n",
      "Jan Guillou\n",
      "Ingmar Bergman\n"
     ]
    },
    {
     "name": "stderr",
     "output_type": "stream",
     "text": [
      "\r",
      " 83%|████████▎ | 475/570 [02:53<00:39,  2.38it/s]"
     ]
    },
    {
     "name": "stdout",
     "output_type": "stream",
     "text": [
      "Keve Hjelm\n",
      "Toivo Pawlo\n",
      "Sten-Åke Cederhök\n",
      "Sten-Åke Cederhök\n",
      "Sten-Åke Cederhök\n",
      "Sten-Åke Cederhök\n",
      "Olle Häger\n",
      "Keve Hjelm\n",
      "Rolf Lassgård\n",
      "Forbes\n"
     ]
    },
    {
     "name": "stderr",
     "output_type": "stream",
     "text": [
      "\r",
      " 84%|████████▎ | 476/570 [02:53<00:39,  2.40it/s]"
     ]
    },
    {
     "name": "stdout",
     "output_type": "stream",
     "text": [
      "Tania\n",
      "Janne Lucas Persson\n",
      "Bill Gezon\n",
      "Jill Johnson\n",
      "Nina Hedenius\n",
      "Tomas von Brömssen\n",
      "Henning Mankell\n",
      "Lars Hjelm\n",
      "Henning Mankell\n",
      "Lars Norén\n",
      "Paul Thompson\n"
     ]
    },
    {
     "name": "stderr",
     "output_type": "stream",
     "text": [
      "\r",
      " 84%|████████▎ | 477/570 [02:54<00:34,  2.68it/s]"
     ]
    },
    {
     "name": "stdout",
     "output_type": "stream",
     "text": [
      "Ulrich Salchow\n",
      "Sven Jerring\n",
      "Stig Strand\n",
      "Knut Martin\n"
     ]
    },
    {
     "name": "stderr",
     "output_type": "stream",
     "text": [
      "\r",
      " 84%|████████▍ | 478/570 [02:54<00:34,  2.65it/s]"
     ]
    },
    {
     "name": "stdout",
     "output_type": "stream",
     "text": [
      "Nils \"Mora-Nisse\" Karlsson\n",
      "Nils \"Mora-Nisse\" Karlsson\n",
      "Nils \"Mora-Nisse\" Karlsson\n",
      "Glenn Hysén\n",
      "Kronprinsessan Margareta\n",
      "Magnus Höjer\n",
      "Bengt Johansson\n",
      "Thomas Pettersson\n"
     ]
    },
    {
     "name": "stderr",
     "output_type": "stream",
     "text": [
      "\r",
      " 84%|████████▍ | 479/570 [02:54<00:34,  2.67it/s]"
     ]
    },
    {
     "name": "stdout",
     "output_type": "stream",
     "text": [
      "Susanna Kallur\n",
      "Jenny Kallur\n",
      "Jan-Ove Waldner\n",
      "Sven Plex Petersson\n",
      "Jan Svanlund\n",
      "Zlatan Ibrahimovic\n",
      "Zlatan Ibrahimovic\n",
      "Arne Hegerfors\n",
      "Zlatan Ibrahimovic\n",
      "Björn Ranelid\n"
     ]
    },
    {
     "name": "stderr",
     "output_type": "stream",
     "text": [
      "\r",
      " 84%|████████▍ | 480/570 [02:55<00:34,  2.58it/s]"
     ]
    },
    {
     "name": "stdout",
     "output_type": "stream",
     "text": [
      "Olof Palme\n",
      "Bengt Öste\n",
      "Olof Palme\n",
      "Stig Gustavsson\n",
      "Olof Palme\n",
      "Ingemar Stenmark\n",
      "Edward Wojcicki\n",
      "Hans Pålsson\n",
      "Marianne Söderberg\n",
      "Edward Wojcicki\n"
     ]
    },
    {
     "name": "stderr",
     "output_type": "stream",
     "text": [
      "\r",
      " 84%|████████▍ | 481/570 [02:55<00:34,  2.55it/s]"
     ]
    },
    {
     "name": "stdout",
     "output_type": "stream",
     "text": [
      "Thomas Wassberg\n",
      "Arne Hegerfors\n",
      "Sven Tumba\n",
      "Frank Andersson\n",
      "Bengt Bedrup\n",
      "Arne Hegerfors\n",
      "Putte Kock\n",
      "Gunnar Nordahl\n",
      "Patrik Sjöberg\n"
     ]
    },
    {
     "name": "stderr",
     "output_type": "stream",
     "text": [
      "\r",
      " 85%|████████▍ | 482/570 [02:56<00:32,  2.68it/s]"
     ]
    },
    {
     "name": "stdout",
     "output_type": "stream",
     "text": [
      "Nils \"Mora-Nisse\" Karlsson\n",
      "Nils Jerring\n",
      "Henrik Lundqvist\n",
      "Lennart Marklund\n",
      "Hedvig Lindahl\n",
      "Therese Sjögran\n",
      "Håkan \"Carla\" Carlqvist\n",
      "Ernst Johan Nordin\n",
      "Håkan \"Carla\" Carlqvist\n",
      "Carl-Johan Bernhardt\n",
      "Albert Svanberg\n"
     ]
    },
    {
     "name": "stderr",
     "output_type": "stream",
     "text": [
      "\r",
      " 85%|████████▍ | 483/570 [02:56<00:32,  2.66it/s]"
     ]
    },
    {
     "name": "stdout",
     "output_type": "stream",
     "text": [
      "Ulf Sterner\n",
      "Göran Littke\n",
      "Mats Näslund\n",
      "Boo Thorin\n",
      "Sixten Jernberg\n",
      "Sixten Jernberg\n",
      "Anette Norberg\n",
      "Ingemar Stenmark\n"
     ]
    },
    {
     "name": "stderr",
     "output_type": "stream",
     "text": [
      "\r",
      " 85%|████████▍ | 484/570 [02:56<00:33,  2.57it/s]"
     ]
    },
    {
     "name": "stdout",
     "output_type": "stream",
     "text": [
      "Lars Norén\n",
      "Reine Brynolfsson\n",
      "Lars Norén\n",
      "Folke Olhagen\n",
      "Bill Clinton\n",
      "Sven-Åke Wahlström\n",
      "Viktor Brobacke\n",
      "Ana-Yrsa Falenius\n",
      "Lars Hansson\n",
      "Claes Ljungmark\n"
     ]
    },
    {
     "name": "stderr",
     "output_type": "stream",
     "text": [
      "\r",
      " 85%|████████▌ | 485/570 [02:57<00:30,  2.75it/s]"
     ]
    },
    {
     "name": "stdout",
     "output_type": "stream",
     "text": [
      "Richard Stöhr\n",
      "Johan Rabaeus\n",
      "Olle Myrberg\n",
      "Claes Ljungmark\n",
      "Ola Lindegren\n",
      "Claes Ljungmark\n",
      "Olof Willgren\n",
      "Claes Ljungmark\n",
      "Anna-Yrsa Falenius\n",
      "Olle Myrberg\n",
      "Agneta Dahl\n"
     ]
    },
    {
     "name": "stderr",
     "output_type": "stream",
     "text": [
      "\r",
      " 85%|████████▌ | 486/570 [02:57<00:30,  2.73it/s]"
     ]
    },
    {
     "name": "stdout",
     "output_type": "stream",
     "text": [
      "Jonas Sjöstedt\n",
      "Eva Hamilton\n",
      "Jimmie Åkesson\n",
      "Jan Björklund\n",
      "Gösta Bohman\n",
      "Tiina Rosenberg\n",
      "Magdalena Andersson\n",
      "Alf Svensson\n",
      "Carl Bildt\n",
      "Gunnar Sträng\n",
      "Karin Söder\n"
     ]
    },
    {
     "name": "stderr",
     "output_type": "stream",
     "text": [
      "\r",
      " 85%|████████▌ | 487/570 [02:57<00:29,  2.79it/s]"
     ]
    },
    {
     "name": "stdout",
     "output_type": "stream",
     "text": [
      "Inga-Lill Usterud\n",
      "Lennart Daléus\n",
      "Alexandra Pascalidou\n",
      "Sven Rosenhall\n",
      "Toivo Öhman\n",
      "Allan Boesak\n",
      "Peter Schildt\n"
     ]
    },
    {
     "name": "stderr",
     "output_type": "stream",
     "text": [
      "\r",
      " 86%|████████▌ | 488/570 [02:58<00:43,  1.88it/s]"
     ]
    },
    {
     "name": "stdout",
     "output_type": "stream",
     "text": [
      "Lars Orup\n",
      "Hasse Aro\n",
      "Olof Palme\n",
      "Märit Andersson\n",
      "Alf Svensson\n",
      "Helena Bohm-Nilsson\n",
      "K-G Bergström\n",
      "Fredrik Reinfeldt\n",
      "Göran Persson\n",
      "Claes Elfsberg\n"
     ]
    },
    {
     "name": "stderr",
     "output_type": "stream",
     "text": [
      "\r",
      " 86%|████████▌ | 489/570 [02:59<00:37,  2.18it/s]"
     ]
    },
    {
     "name": "stdout",
     "output_type": "stream",
     "text": [
      "Fredrik Reinfeldt\n",
      "Mona Sahlin\n",
      "Lars Adaktusson\n",
      "Jan Eliasson\n",
      "Per Arne Axelsson\n",
      "Gunnel Werner\n",
      "Björn Gustafson\n",
      "Jan Olsson\n",
      "Jan Olsson\n",
      "Astrid Lindgren\n"
     ]
    },
    {
     "name": "stderr",
     "output_type": "stream",
     "text": [
      "\r",
      " 86%|████████▌ | 490/570 [02:59<00:33,  2.42it/s]"
     ]
    },
    {
     "name": "stdout",
     "output_type": "stream",
     "text": [
      "Rune Andréasson\n",
      "Olof Thunberg\n",
      "Anders Linder\n",
      "Anders Linder\n",
      "Anders Linder\n",
      "Anders Linder\n",
      "Anders Linder\n"
     ]
    },
    {
     "name": "stderr",
     "output_type": "stream",
     "text": [
      "\r",
      " 86%|████████▌ | 491/570 [02:59<00:29,  2.69it/s]"
     ]
    },
    {
     "name": "stdout",
     "output_type": "stream",
     "text": [
      "Lennart Jähkel\n",
      "Johanna Westman\n",
      "Tore Lindwall\n",
      "Tore Lindwall\n",
      "JohnErik Eleby\n"
     ]
    },
    {
     "name": "stderr",
     "output_type": "stream",
     "text": [
      "\r",
      " 86%|████████▋ | 492/570 [03:00<00:30,  2.53it/s]"
     ]
    },
    {
     "name": "stdout",
     "output_type": "stream",
     "text": [
      "Paula McManus\n",
      "Fredrik Berling\n",
      "Bengt Alsterlind\n",
      "Bengt Fahlström\n",
      "Bengt Alsterlind\n",
      "Bengt Alsterlind\n",
      "Martin Timell\n",
      "Bengt Alsterlind\n",
      "Morgan Alling\n",
      "Martin Timell\n",
      "Eva Funck\n"
     ]
    },
    {
     "name": "stderr",
     "output_type": "stream",
     "text": [
      "\r",
      " 86%|████████▋ | 493/570 [03:00<00:30,  2.51it/s]"
     ]
    },
    {
     "name": "stdout",
     "output_type": "stream",
     "text": [
      "Lasse Sarri\n",
      "Gunnel Linde\n",
      "Gunnel Linde\n",
      "Maj-Britt Lindholm\n",
      "Erland Beskow\n",
      "Erland Beskow\n",
      "Erland Beskow\n",
      "Erland Beskow\n",
      "Johan Becker\n",
      "Per Eggers\n",
      "Per Eggers\n"
     ]
    },
    {
     "name": "stderr",
     "output_type": "stream",
     "text": [
      "\r",
      " 87%|████████▋ | 494/570 [03:00<00:29,  2.55it/s]"
     ]
    },
    {
     "name": "stdout",
     "output_type": "stream",
     "text": [
      "Marie Andersson\n",
      "Per Eggers\n",
      "Per Eggers\n",
      "Cecilia Frode\n",
      "Cecilia Frode\n",
      "Ivan Mathias Petersson\n",
      "Cecilia Frode\n",
      "Ivan Mathias Petersson\n",
      "Fredrik Hammar\n",
      "Lennart Nilsson\n",
      "Ivan Mathias Petersson\n"
     ]
    },
    {
     "name": "stderr",
     "output_type": "stream",
     "text": [
      "\r",
      " 87%|████████▋ | 495/570 [03:01<00:30,  2.45it/s]"
     ]
    },
    {
     "name": "stdout",
     "output_type": "stream",
     "text": [
      "Martin Timell\n",
      "Peter Emanuel Falck\n",
      "Arlette Brorsson-Kaiser\n",
      "Jonas Eriksson\n",
      "Lasse Åberg\n",
      "Ivar Lo-Johansson\n",
      "Bengt Bedrup\n",
      "Ola Ström\n",
      "Johan Anders Baer\n",
      "Anna Kärrstedt\n",
      "Göran Persson\n"
     ]
    },
    {
     "name": "stderr",
     "output_type": "stream",
     "text": [
      "\r",
      " 87%|████████▋ | 496/570 [03:01<00:30,  2.44it/s]"
     ]
    },
    {
     "name": "stdout",
     "output_type": "stream",
     "text": [
      "Sigvard Gustavsson\n",
      "Erik Gustavsson\n",
      "Christer Wiklund\n",
      "After Shave\n",
      "Nanna Blondell\n",
      "Sigge Fürst\n",
      "Bengt Högberg\n",
      "Tord Magnuson\n",
      "Bengt Högberg\n",
      "Bengt Högberg\n",
      "Lasse Hallström\n"
     ]
    },
    {
     "name": "stderr",
     "output_type": "stream",
     "text": [
      "\r",
      " 87%|████████▋ | 497/570 [03:02<00:29,  2.45it/s]"
     ]
    },
    {
     "name": "stdout",
     "output_type": "stream",
     "text": [
      "Ulf Nilsson\n",
      "Ernst Klein\n",
      "Torsten Åhlander\n",
      "Ann-Kristin Hahne\n",
      "Torsten Åhlander\n",
      "Katarina Dunér\n",
      "Gustaf Olivecrona\n",
      "Beppe Wolgers\n",
      "Ann-Mari Jartelius\n",
      "Bengt Högberg\n",
      "Dalai Lama\n"
     ]
    },
    {
     "name": "stderr",
     "output_type": "stream",
     "text": [
      "\r",
      " 87%|████████▋ | 498/570 [03:02<00:29,  2.44it/s]"
     ]
    },
    {
     "name": "stdout",
     "output_type": "stream",
     "text": [
      "Catharina Falkengård\n",
      "Kristin Cullman\n",
      "Franco Bieler\n",
      "Elisabeth Hedborg\n",
      "Lotta Engberg\n",
      "Sune Enoksson\n",
      "Barbro Svinhufvud\n",
      "Magnus Nilsson\n",
      "Ann-Mari Jartelius\n",
      "Sven Plex Petersson\n"
     ]
    },
    {
     "name": "stderr",
     "output_type": "stream",
     "text": [
      "\r",
      " 88%|████████▊ | 499/570 [03:03<00:28,  2.45it/s]"
     ]
    },
    {
     "name": "stdout",
     "output_type": "stream",
     "text": [
      "Camilla Larsson\n",
      "Anna Littorin\n",
      "Camilla Larsson\n",
      "Camilla Larsson\n",
      "Berth Gustafsson\n",
      "Berth Gustafsson\n",
      "Berth Gustafsson\n",
      "Berth Gustafsson\n",
      "Niclas Fransson\n",
      "Niclas Fransson\n",
      "Niclas Fransson\n"
     ]
    },
    {
     "name": "stderr",
     "output_type": "stream",
     "text": [
      "\r",
      " 88%|████████▊ | 500/570 [03:03<00:28,  2.43it/s]"
     ]
    },
    {
     "name": "stdout",
     "output_type": "stream",
     "text": [
      "Nils Brandt\n",
      "Birgitta Wahlberg\n",
      "La Cumparsita\n",
      "Nils Brandt\n",
      "Olli Hörkkö\n",
      "Nils Brandt\n",
      "Nils Brandt\n",
      "Nils Brandt\n",
      "Nils Brandt\n",
      "Nils Brandt\n",
      "Nils Brandt\n"
     ]
    },
    {
     "name": "stderr",
     "output_type": "stream",
     "text": [
      "\r",
      " 88%|████████▊ | 501/570 [03:03<00:28,  2.44it/s]"
     ]
    },
    {
     "name": "stdout",
     "output_type": "stream",
     "text": [
      "Nils Brandt\n",
      "Mårten Larsson\n",
      "Nils Brandt\n",
      "Bo Billtén\n",
      "Evert Taube\n",
      "Sif Ruud\n",
      "Margareta Strömstedt\n",
      "Kersti Adams-Ray\n",
      "Daniel Moll\n",
      "Tommy Bennwik\n",
      "Jan Bergman\n"
     ]
    },
    {
     "name": "stderr",
     "output_type": "stream",
     "text": [
      "\r",
      " 88%|████████▊ | 502/570 [03:04<00:25,  2.71it/s]"
     ]
    },
    {
     "name": "stdout",
     "output_type": "stream",
     "text": [
      "Rigmor Gustafsson\n",
      "Pernilla August\n",
      "Rigmor Gustafsson\n",
      "Christina Göransson\n",
      "Thorvald Fyr Strömberg\n",
      "Rigmor Gustafsson\n",
      "Mikael Ljung\n",
      "Mikael Ljung\n",
      "Marcus Berglund\n",
      "Pelle Hanaeus\n",
      "Mikael Ljung\n"
     ]
    },
    {
     "name": "stderr",
     "output_type": "stream",
     "text": [
      "\r",
      " 88%|████████▊ | 503/570 [03:04<00:26,  2.56it/s]"
     ]
    },
    {
     "name": "stdout",
     "output_type": "stream",
     "text": [
      "Ernst-Hugo Järegård\n",
      "Åke Arenhill\n",
      "Ernst-Hugo Järegård\n",
      "Ernst-Hugo Järegård\n",
      "Lars Orup\n",
      "Karin Andersson\n",
      "Ingemar Odlander\n",
      "Tom Alandh\n",
      "Tommy Bennwik\n",
      "Tommy Bennwik\n",
      "Tommy Bennwik\n"
     ]
    },
    {
     "name": "stderr",
     "output_type": "stream",
     "text": [
      "\r",
      " 88%|████████▊ | 504/570 [03:04<00:26,  2.52it/s]"
     ]
    },
    {
     "name": "stdout",
     "output_type": "stream",
     "text": [
      "Lars Väringer\n",
      "Jan Åström\n",
      "Gösta Unefäldt\n",
      "Arne Lifmark\n",
      "Arne Lifmark\n",
      "Arne Lifmark\n",
      "Björn Gustafson\n",
      "Johnny Blomgren\n",
      "Johnny Blomgren\n",
      "Johnny Blomgren\n",
      "Johnny Blomgren\n"
     ]
    },
    {
     "name": "stderr",
     "output_type": "stream",
     "text": [
      "\r",
      " 89%|████████▊ | 505/570 [03:05<00:25,  2.52it/s]"
     ]
    },
    {
     "name": "stdout",
     "output_type": "stream",
     "text": [
      "Johnny Blomgren\n",
      "Gösta Unefäldt\n",
      "Johnny Blomgren\n",
      "Johnny Blomgren\n",
      "Johnny Blomgren\n",
      "Johnny Blomgren\n",
      "Johnny Blomgren\n",
      "Sonny Johnson\n",
      "Johnny Blomgren\n",
      "Arne Lifmark\n",
      "Arne Lifmark\n"
     ]
    },
    {
     "name": "stderr",
     "output_type": "stream",
     "text": [
      "\r",
      " 89%|████████▉ | 506/570 [03:05<00:25,  2.48it/s]"
     ]
    },
    {
     "name": "stdout",
     "output_type": "stream",
     "text": [
      "Nils Dahlbeck\n",
      "Sten Broman\n",
      "Lasse Åberg\n",
      "Lasse Hallström\n",
      "Lasse Hallström\n",
      "Lasse Hallström\n",
      "Göran Stangertz\n",
      "Göran Stangertz\n",
      "Göran Stangertz\n",
      "Göran Stangertz\n",
      "Peter Eggers\n"
     ]
    },
    {
     "name": "stderr",
     "output_type": "stream",
     "text": [
      "\r",
      " 89%|████████▉ | 507/570 [03:06<00:28,  2.18it/s]"
     ]
    },
    {
     "name": "stdout",
     "output_type": "stream",
     "text": [
      "Liselott Svensson\n",
      "Ingrid Dahlberg\n",
      "Ingrid Dahlberg\n",
      "Kjell Sundvall\n",
      "Ingrid Dahlberg\n",
      "Rikard Wolff\n",
      "Lars-Olof Jiveskog\n",
      "Fredrik Hammar\n",
      "Hanna Nilsson\n",
      "Bergljót Árnadóttir\n",
      "Kjell-Hugo Grandin\n"
     ]
    },
    {
     "name": "stderr",
     "output_type": "stream",
     "text": [
      "\r",
      " 89%|████████▉ | 508/570 [03:06<00:26,  2.38it/s]"
     ]
    },
    {
     "name": "stdout",
     "output_type": "stream",
     "text": [
      "Hans Holmér\n",
      "Olle Svensson\n",
      "Bengt Lagerkvist\n",
      "Per Oscarsson\n",
      "Per Oscarsson\n",
      "Per Oscarsson\n",
      "Per Oscarsson\n",
      "Per Oscarsson\n",
      "Per Oscarsson\n",
      "Arne Hegerfors\n",
      "Ingvar Kjellson\n"
     ]
    },
    {
     "name": "stderr",
     "output_type": "stream",
     "text": [
      "\r",
      " 89%|████████▉ | 509/570 [03:07<00:25,  2.38it/s]"
     ]
    },
    {
     "name": "stdout",
     "output_type": "stream",
     "text": [
      "Eric Ericson (f 1974)\n",
      "Tina Lenne\n",
      "Eric Ericson (f 1974)\n",
      "Eric Ericson (f 1974)\n",
      "Eric Ericson (f 1974)\n",
      "Eric Ericson (f 1974)\n",
      "Eric Ericson (f 1974)\n",
      "Barbro Hiort af Ornäs\n",
      "Victor Ström\n",
      "Victor Ström\n",
      "Tina Lenne\n"
     ]
    },
    {
     "name": "stderr",
     "output_type": "stream",
     "text": [
      "\r",
      " 89%|████████▉ | 510/570 [03:07<00:24,  2.40it/s]"
     ]
    },
    {
     "name": "stdout",
     "output_type": "stream",
     "text": [
      "Hasse Alatalo\n",
      "Anders Hjertström\n",
      "Jaana Johansson\n",
      "Lotta Bromé\n",
      "Britt Bass\n",
      "Patrik Isaksson\n",
      "Staffan Lindström\n",
      "Folke Mossfeldt\n",
      "Lars Molin\n",
      "Lars Molin\n"
     ]
    },
    {
     "name": "stderr",
     "output_type": "stream",
     "text": [
      "\r",
      " 90%|████████▉ | 511/570 [03:07<00:22,  2.65it/s]"
     ]
    },
    {
     "name": "stdout",
     "output_type": "stream",
     "text": [
      "Ulf Gudmundson\n",
      "Lars Orup\n",
      "Allan Schulman\n",
      "Folke Bernadotte\n",
      "Maria-Pia Boëthius\n",
      "Peter Borenstein\n",
      "Pär Lagerkvist\n",
      "Putte Kock\n",
      "Tomas Andersson Wij\n",
      "Eva Rydberg\n",
      "Kung Carl XVI Gustaf\n"
     ]
    },
    {
     "name": "stderr",
     "output_type": "stream",
     "text": [
      "\r",
      " 90%|████████▉ | 512/570 [03:08<00:24,  2.35it/s]"
     ]
    },
    {
     "name": "stdout",
     "output_type": "stream",
     "text": [
      "Eric Ericson (f 1974)\n",
      "Tina Lenne\n",
      "Eric Ericson (f 1974)\n",
      "Eric Ericson (f 1974)\n",
      "Barbro Hiort af Ornäs\n",
      "Victor Ström\n",
      "Jan Moltas Erikson\n",
      "Ulla Berglund\n",
      "Ilon Wikland\n",
      "Ilon Wikland\n",
      "Monica Andrae\n"
     ]
    },
    {
     "name": "stderr",
     "output_type": "stream",
     "text": [
      "\r",
      " 90%|█████████ | 513/570 [03:08<00:22,  2.53it/s]"
     ]
    },
    {
     "name": "stdout",
     "output_type": "stream",
     "text": [
      "Ilon Wikland\n",
      "Kerstin Thorvall\n",
      "Monica Andrae\n",
      "Ilon Wikland\n",
      "Ilon Wikland\n",
      "Ilon Wikland\n",
      "Sten Broman\n",
      "Sven Kruckenberg\n",
      "Sören Engelbrektson\n",
      "Sören Engelbrektson\n",
      "Henrik Elmér\n"
     ]
    },
    {
     "name": "stderr",
     "output_type": "stream",
     "text": [
      "\r",
      " 90%|█████████ | 514/570 [03:09<00:21,  2.56it/s]"
     ]
    },
    {
     "name": "stdout",
     "output_type": "stream",
     "text": [
      "Eva Ericsson\n",
      "Barbro Lilja Brattgård\n",
      "Lennart Jelbe\n",
      "Sven Petersson\n",
      "Ulf Carlsson\n",
      "Claudio Sapiain\n",
      "Stellan Bengtsson\n",
      "Mikael Appelgren\n",
      "Åke Söderlind\n",
      "Berndt Egerbladh\n",
      "Berndt Egerbladh\n"
     ]
    },
    {
     "name": "stderr",
     "output_type": "stream",
     "text": [
      "\r",
      " 90%|█████████ | 515/570 [03:09<00:21,  2.52it/s]"
     ]
    },
    {
     "name": "stdout",
     "output_type": "stream",
     "text": [
      "Anders Post\n",
      "Jan Mybrand\n",
      "Fredrik Lindvall\n",
      "Fredrik Lindvall\n",
      "Fredrik Lindvall\n",
      "Lasse Berghagen\n",
      "Fredrik Lindvall\n",
      "Fredrik Lindvall\n",
      "Fredrik Lindvall\n",
      "Elisabeth Söderström\n",
      "Bengt Hallberg\n"
     ]
    },
    {
     "name": "stderr",
     "output_type": "stream",
     "text": [
      "\r",
      " 91%|█████████ | 516/570 [03:09<00:19,  2.82it/s]"
     ]
    },
    {
     "name": "stdout",
     "output_type": "stream",
     "text": [
      "Arne Weise\n",
      "Anna-Lisa Hillbom\n",
      "Fuad Alibebovic\n",
      "Mostafa Kharraki\n",
      "Ronnie Peterson\n",
      "Peter Lennby\n",
      "Bo Isaksson\n",
      "Anna Lindh\n",
      "Lennart Geijer\n",
      "Gösta Bredefeldt\n",
      "Gösta Bredefeldt\n"
     ]
    },
    {
     "name": "stderr",
     "output_type": "stream",
     "text": [
      "\r",
      " 91%|█████████ | 517/570 [03:10<00:18,  2.79it/s]"
     ]
    },
    {
     "name": "stdout",
     "output_type": "stream",
     "text": [
      "Sigrid Hultare\n",
      "Einar Herlitz\n",
      "Gösta Bredefeldt\n",
      "Ulric Bellman\n",
      "Bobbo Nordenskiöld\n",
      "Bobbo Nordenskiöld\n",
      "Bengt Pohjanen\n",
      "Jan Bergquist\n",
      "Jan Bergquist\n",
      "Lars Molin\n",
      "Lars Molin\n"
     ]
    },
    {
     "name": "stderr",
     "output_type": "stream",
     "text": [
      "\r",
      " 91%|█████████ | 518/570 [03:10<00:19,  2.70it/s]"
     ]
    },
    {
     "name": "stdout",
     "output_type": "stream",
     "text": [
      "Bengt Bratt\n",
      "Jan-Erik Emretsson\n",
      "Bengt Bratt\n",
      "Bengt Bratt\n",
      "Bengt Bratt\n",
      "Bengt Bratt\n",
      "Bengt Bratt\n",
      "Bengt Bratt\n"
     ]
    },
    {
     "name": "stderr",
     "output_type": "stream",
     "text": [
      "\r",
      " 91%|█████████ | 519/570 [03:10<00:17,  2.91it/s]"
     ]
    },
    {
     "name": "stdout",
     "output_type": "stream",
     "text": [
      "Börje Ahlstedt\n",
      "Jonna Arb\n",
      "Börje Ahlstedt\n",
      "Börje Ahlstedt\n",
      "Börje Ahlstedt\n",
      "Börje Ahlstedt\n",
      "Börje Ahlstedt\n",
      "Börje Ahlstedt\n",
      "Tom Alandh\n",
      "Börje Ahlstedt\n",
      "Börje Ahlstedt\n"
     ]
    },
    {
     "name": "stderr",
     "output_type": "stream",
     "text": [
      "\r",
      " 91%|█████████ | 520/570 [03:11<00:16,  3.06it/s]"
     ]
    },
    {
     "name": "stdout",
     "output_type": "stream",
     "text": [
      "Sonja Döhre\n",
      "Per Ragnar\n",
      "Viveca Sundvall\n",
      "Viveca Sundvall\n",
      "Viveca Sundvall\n",
      "Jan Blomberg\n",
      "Jan Blomberg\n",
      "Jan Blomberg\n",
      "Jan Blomberg\n",
      "Jan Blomberg\n",
      "Jan Blomberg\n"
     ]
    },
    {
     "name": "stderr",
     "output_type": "stream",
     "text": [
      "\r",
      " 91%|█████████▏| 521/570 [03:11<00:16,  2.97it/s]"
     ]
    },
    {
     "name": "stdout",
     "output_type": "stream",
     "text": [
      "Börje Ahlstedt\n",
      "Jonna Arb\n",
      "Börje Ahlstedt\n",
      "Börje Ahlstedt\n",
      "Börje Ahlstedt\n",
      "Börje Ahlstedt\n",
      "Karin Boye\n",
      "Börje Ahlstedt\n",
      "Börje Ahlstedt\n",
      "Börje Ahlstedt\n",
      "Katarina Dunér\n"
     ]
    },
    {
     "name": "stderr",
     "output_type": "stream",
     "text": [
      "\r",
      " 92%|█████████▏| 522/570 [03:11<00:15,  3.07it/s]"
     ]
    },
    {
     "name": "stdout",
     "output_type": "stream",
     "text": [
      "Katarina Dunér\n",
      "Katarina Dunér\n",
      "Katarina Dunér\n",
      "Peter Dalle\n",
      "Peter Dalle\n",
      "Peter Dalle\n",
      "Peter Dalle\n",
      "Lena Endre\n",
      "Lena Endre\n",
      "Nina Hedenius\n"
     ]
    },
    {
     "name": "stderr",
     "output_type": "stream",
     "text": [
      "\r",
      " 92%|█████████▏| 523/570 [03:12<00:16,  2.84it/s]"
     ]
    },
    {
     "name": "stdout",
     "output_type": "stream",
     "text": [
      "ABBA\n",
      "Jan \"Tollarparn\" Eriksson\n",
      "Ola Salo\n",
      "Esa-Pekka Salonen\n",
      "Tjadden Hällström\n",
      "Björn Ulvaeus\n",
      "Hugo Björne\n",
      "Tomas Sarri\n",
      "Tomas Sarri\n",
      "Nils-Josef Labba\n",
      "Tomas Sarri\n"
     ]
    },
    {
     "name": "stderr",
     "output_type": "stream",
     "text": [
      "\r",
      " 92%|█████████▏| 524/570 [03:12<00:15,  3.02it/s]"
     ]
    },
    {
     "name": "stdout",
     "output_type": "stream",
     "text": [
      "Per Åhlin\n",
      "Kerstin Hedberg\n",
      "Per Åhlin\n",
      "Per Åhlin\n",
      "Helena Sandblad\n",
      "Per Åhlin\n",
      "Per Åhlin\n",
      "Per Åhlin\n",
      "Per Åhlin\n",
      "Kerstin Hedberg\n",
      "Kerstin Hedberg\n"
     ]
    },
    {
     "name": "stderr",
     "output_type": "stream",
     "text": [
      "\r",
      " 92%|█████████▏| 525/570 [03:12<00:14,  3.17it/s]"
     ]
    },
    {
     "name": "stdout",
     "output_type": "stream",
     "text": [
      "Sigurd Jörgensen\n",
      "Anders Åberg\n",
      "Peter Birro\n",
      "Birgitta Zachrisson\n",
      "Noomi Liljefors\n",
      "Ragnhild Fjällhed\n",
      "Emy Storm\n",
      "Torbjörn Axelman\n",
      "Olle Lindgren\n",
      "Pehr G Gyllenhammar\n",
      "Anders Rosén\n"
     ]
    },
    {
     "name": "stderr",
     "output_type": "stream",
     "text": [
      "\r",
      " 92%|█████████▏| 526/570 [03:13<00:18,  2.36it/s]"
     ]
    },
    {
     "name": "stdout",
     "output_type": "stream",
     "text": [
      "Allan Edwall\n",
      "Cecilia Torudd\n",
      "Allan Edwall\n",
      "Allan Edwall\n",
      "Allan Edwall\n",
      "Katharina Bothén\n",
      "Katharina Bothén\n",
      "Johan Kindblom\n",
      "Svante Kettner\n",
      "Svante Kettner\n",
      "Johan Kindblom\n"
     ]
    },
    {
     "name": "stderr",
     "output_type": "stream",
     "text": [
      "\r",
      " 92%|█████████▏| 527/570 [03:13<00:17,  2.52it/s]"
     ]
    },
    {
     "name": "stdout",
     "output_type": "stream",
     "text": [
      "Philippa Wallér\n",
      "Johan Kindblom\n",
      "Johan Kindblom\n",
      "Katharina Bothén\n",
      "Philippa Wallér\n",
      "Johan Kindblom\n",
      "Johan Kindblom\n",
      "Johan Kindblom\n",
      "Johan Kindblom\n",
      "Johan Kindblom\n",
      "Johan Kindblom\n"
     ]
    },
    {
     "name": "stderr",
     "output_type": "stream",
     "text": [
      "\r",
      " 93%|█████████▎| 528/570 [03:14<00:16,  2.56it/s]"
     ]
    },
    {
     "name": "stdout",
     "output_type": "stream",
     "text": [
      "Björn Gustafson\n",
      "Johan Rabaeus\n",
      "Björn Gustafson\n",
      "Björn Gustafson\n",
      "Björn Gustafson\n",
      "Johan Kindblom\n",
      "Björn Gustafson\n",
      "Björn Gustafson\n",
      "Björn Gustafson\n",
      "Björn Gustafson\n",
      "Björn Gustafson\n"
     ]
    },
    {
     "name": "stderr",
     "output_type": "stream",
     "text": [
      "\r",
      " 93%|█████████▎| 529/570 [03:14<00:14,  2.77it/s]"
     ]
    },
    {
     "name": "stdout",
     "output_type": "stream",
     "text": [
      "Bodil Malmsten\n",
      "Sonja Döhre\n",
      "Per Ragnar\n",
      "Sonja Döhre\n",
      "Viveca Sundvall\n",
      "Viveca Sundvall\n",
      "Viveca Sundvall\n",
      "Jan Blomberg\n",
      "Jan Blomberg\n",
      "Jan Blomberg\n"
     ]
    },
    {
     "name": "stderr",
     "output_type": "stream",
     "text": [
      "\r",
      " 93%|█████████▎| 530/570 [03:14<00:14,  2.84it/s]"
     ]
    },
    {
     "name": "stdout",
     "output_type": "stream",
     "text": [
      "Jan Blomberg\n",
      "Kai Konuk\n",
      "Jan Blomberg\n",
      "Jan Blomberg\n",
      "Jan Blomberg\n",
      "Jan Blomberg\n",
      "Gunilla Nilars\n",
      "Ruth Hamrin-Thorell\n",
      "Ulf Brantås\n",
      "Jan Axelsson\n",
      "Gunilla Hylén\n"
     ]
    },
    {
     "name": "stderr",
     "output_type": "stream",
     "text": [
      "\r",
      " 93%|█████████▎| 531/570 [03:15<00:14,  2.74it/s]"
     ]
    },
    {
     "name": "stdout",
     "output_type": "stream",
     "text": [
      "Jan Bergquist\n",
      "Jan Guillou\n",
      "Tommy Svensson\n",
      "Hans Wahlgren\n",
      "Basia Frydman\n",
      "Basia Frydman\n",
      "Basia Frydman\n",
      "Basia Frydman\n",
      "Basia Frydman\n",
      "Basia Frydman\n",
      "Basia Frydman\n"
     ]
    },
    {
     "name": "stderr",
     "output_type": "stream",
     "text": [
      "\r",
      " 93%|█████████▎| 532/570 [03:15<00:12,  2.94it/s]"
     ]
    },
    {
     "name": "stdout",
     "output_type": "stream",
     "text": [
      "Basia Frydman\n",
      "Staffan Westerberg\n",
      "Basia Frydman\n",
      "Basia Frydman\n",
      "Erik Fichtelius\n",
      "Basia Frydman\n",
      "Erik Fichtelius\n",
      "Erik Fichtelius\n",
      "Basia Frydman\n",
      "Basia Frydman\n",
      "Erik Fichtelius\n"
     ]
    },
    {
     "name": "stderr",
     "output_type": "stream",
     "text": [
      "\r",
      " 94%|█████████▎| 533/570 [03:15<00:13,  2.71it/s]"
     ]
    },
    {
     "name": "stdout",
     "output_type": "stream",
     "text": [
      "Erik Fichtelius\n",
      "Stina Lundberg Dabrowski\n",
      "Basia Frydman\n",
      "Erik Fichtelius\n",
      "Basia Frydman\n",
      "Muammar Khadaffi\n",
      "Svante Kettner\n",
      "Calle Norlén\n",
      "Bette Midler\n",
      "Leila K\n",
      "Rolf Börjlind\n"
     ]
    },
    {
     "name": "stderr",
     "output_type": "stream",
     "text": [
      "\r",
      " 94%|█████████▎| 534/570 [03:16<00:13,  2.62it/s]"
     ]
    },
    {
     "name": "stdout",
     "output_type": "stream",
     "text": [
      "Åsa Moberg\n",
      "Carl-Göran Ekerwald\n",
      "Peter Lundberg\n",
      "Maaret Koskinen\n",
      "Roger Wallis\n",
      "Mårten Blomqvist\n",
      "Mats Linday\n",
      "Johan Ehrenberg\n",
      "Per Ahlmark\n",
      "Solweig Andersson\n",
      "Anders Roslund\n"
     ]
    },
    {
     "name": "stderr",
     "output_type": "stream",
     "text": [
      "\r",
      " 94%|█████████▍| 535/570 [03:16<00:14,  2.38it/s]"
     ]
    },
    {
     "name": "stdout",
     "output_type": "stream",
     "text": [
      "Staffan Bengtsson\n",
      "Göran Willis\n",
      "Göran Willis\n",
      "Olle Häger\n",
      "Jackie Söderman\n",
      "Jackie Söderman\n",
      "Jackie Söderman\n",
      "Jackie Söderman\n",
      "Jackie Söderman\n",
      "Jackie Söderman\n",
      "Kjell Gustavsson\n"
     ]
    },
    {
     "name": "stderr",
     "output_type": "stream",
     "text": [
      "\r",
      " 94%|█████████▍| 536/570 [03:17<00:12,  2.63it/s]"
     ]
    },
    {
     "name": "stdout",
     "output_type": "stream",
     "text": [
      "Jackie Söderman\n",
      "Kjell Gustavsson\n",
      "Jackie Söderman\n",
      "Jackie Söderman\n",
      "Bo Hermansson\n",
      "Anita Wall\n",
      "Tomas Alfredson\n",
      "Suzanne Reuter\n",
      "Rolf Lassgård\n",
      "Jan Moltas Erikson\n",
      "ABBA\n"
     ]
    },
    {
     "name": "stderr",
     "output_type": "stream",
     "text": [
      "\r",
      " 94%|█████████▍| 537/570 [03:17<00:12,  2.71it/s]"
     ]
    },
    {
     "name": "stdout",
     "output_type": "stream",
     "text": [
      "Svenne Hedlund\n",
      "Sten Nilsson\n",
      "Gunnel Fred\n",
      "Bengt Bratt\n",
      "Vibeke Bjelke\n",
      "Fredde Granberg\n",
      "Ragnhild Fjällhed\n",
      "Mats Johansson\n",
      "Peter Birro\n"
     ]
    },
    {
     "name": "stderr",
     "output_type": "stream",
     "text": [
      "\r",
      " 94%|█████████▍| 538/570 [03:17<00:12,  2.65it/s]"
     ]
    },
    {
     "name": "stdout",
     "output_type": "stream",
     "text": [
      "Bengt Bratt\n",
      "Jan-Erik Emretsson\n",
      "Leif Krantz\n",
      "Bengt Lagerkvist\n",
      "Bengt Lagerkvist\n",
      "Johanna Westman\n",
      "Carl Anton Axelsson\n",
      "Carin Ahlqvist\n",
      "Kristina Törnquist\n",
      "Inger Holmstrand\n",
      "Erik Blix\n"
     ]
    },
    {
     "name": "stderr",
     "output_type": "stream",
     "text": [
      "\r",
      " 95%|█████████▍| 539/570 [03:18<00:10,  2.88it/s]"
     ]
    },
    {
     "name": "stdout",
     "output_type": "stream",
     "text": [
      "Ingvar Ernblad\n",
      "Lotta Thorell\n",
      "Lotta Thorell\n",
      "Ingvar Ernblad\n",
      "Anna Björk\n",
      "Ragnar Eklund\n",
      "Ragnar Eklund\n",
      "Ragnar Eklund\n",
      "Ragnar Eklund\n",
      "Arne Hegerfors\n",
      "Stig Grybe\n"
     ]
    },
    {
     "name": "stderr",
     "output_type": "stream",
     "text": [
      "\r",
      " 95%|█████████▍| 540/570 [03:18<00:10,  2.90it/s]"
     ]
    },
    {
     "name": "stdout",
     "output_type": "stream",
     "text": [
      "Ragnar Eklund\n",
      "Michael Mansson\n",
      "Ragnar Eklund\n",
      "Ragnar Eklund\n",
      "Ragnar Eklund\n",
      "Per Oscarsson\n",
      "Per Oscarsson\n",
      "Per Oscarsson\n",
      "Bengt Åke Kimbré\n",
      "Lia Schubert\n"
     ]
    },
    {
     "name": "stderr",
     "output_type": "stream",
     "text": [
      "\r",
      " 95%|█████████▍| 541/570 [03:18<00:09,  2.92it/s]"
     ]
    },
    {
     "name": "stdout",
     "output_type": "stream",
     "text": [
      "Kåge Gimtell\n",
      "Willy Peters\n",
      "Kåge Gimtell\n",
      "Kåge Gustafsson\n",
      "Maud Walter\n",
      "Anders Beckman\n",
      "Anders Beckman\n",
      "Anders Beckman\n",
      "Karl Axel Sjöblom\n",
      "Anders Beckman\n",
      "Anders Beckman\n"
     ]
    },
    {
     "name": "stderr",
     "output_type": "stream",
     "text": [
      "\r",
      " 95%|█████████▌| 542/570 [03:18<00:09,  3.11it/s]"
     ]
    },
    {
     "name": "stdout",
     "output_type": "stream",
     "text": [
      "Anders Beckman\n",
      "Ally Wanngård\n",
      "Anders Beckman\n",
      "Anders Beckman\n",
      "Anders Beckman\n",
      "Anders Beckman\n",
      "Anders Beckman\n",
      "Anders Beckman\n",
      "Anders Beckman\n",
      "Anders Beckman\n",
      "Anders Beckman\n"
     ]
    },
    {
     "name": "stderr",
     "output_type": "stream",
     "text": [
      "\r",
      " 95%|█████████▌| 543/570 [03:19<00:09,  2.88it/s]"
     ]
    },
    {
     "name": "stdout",
     "output_type": "stream",
     "text": [
      "Kåge Gustafsson\n",
      "Willy Peters\n",
      "Olle Häger\n",
      "Ulrika Skogström\n",
      "Kåge Glimtell\n",
      "Kåge Gustafsson\n",
      "Kåge Gustafsson\n",
      "Kåge Gustafsson\n",
      "Anders Beckman\n",
      "Berit Nygren\n",
      "Anders Beckman\n"
     ]
    },
    {
     "name": "stderr",
     "output_type": "stream",
     "text": [
      "\r",
      " 95%|█████████▌| 544/570 [03:19<00:09,  2.75it/s]"
     ]
    },
    {
     "name": "stdout",
     "output_type": "stream",
     "text": [
      "Lars Amble\n",
      "Ingvar Kjellson\n",
      "Mikael Syrén\n",
      "Carl Norén\n",
      "Eric Ericson (f 1918)\n",
      "Jens Lind\n",
      "Staffan Bengtsson\n",
      "Bengt Lagerkvist\n",
      "Staffan Bengtsson\n",
      "Staffan Bengtsson\n"
     ]
    },
    {
     "name": "stderr",
     "output_type": "stream",
     "text": [
      "\r",
      " 96%|█████████▌| 545/570 [03:20<00:08,  2.95it/s]"
     ]
    },
    {
     "name": "stdout",
     "output_type": "stream",
     "text": [
      "Staffan Bengtsson\n",
      "Göran Willis\n",
      "Mikael Syrén\n",
      "Eric Ericson (f 1918)\n",
      "Eric Ericson (f 1918)\n",
      "Topsy Frankl\n",
      "Krister Henriksson\n",
      "Mikael Syrén\n",
      "Sven Olving\n",
      "Tjadden Hällström\n",
      "Mathias Engstrand\n"
     ]
    },
    {
     "name": "stderr",
     "output_type": "stream",
     "text": [
      "\r",
      " 96%|█████████▌| 546/570 [03:20<00:08,  2.94it/s]"
     ]
    },
    {
     "name": "stdout",
     "output_type": "stream",
     "text": [
      "Hans Iveberg\n",
      "Per Berglund\n",
      "Gustaf Olivecrona\n",
      "Kjell Kjellman\n",
      "Jane Björck\n",
      "Bo Gentzel\n",
      "Jon Thunqvist\n",
      "Kari Thomée\n",
      "Olle Häger\n",
      "Alan Simpson\n",
      "Anton Tjechov\n"
     ]
    },
    {
     "name": "stderr",
     "output_type": "stream",
     "text": [
      "\r",
      " 96%|█████████▌| 547/570 [03:20<00:07,  3.05it/s]"
     ]
    },
    {
     "name": "stdout",
     "output_type": "stream",
     "text": [
      "Alan Simpson\n",
      "Ray Galton\n",
      "Ania Monahof\n",
      "Jacques Werup\n",
      "Tomas von Brömssen\n",
      "Tomas von Brömssen\n",
      "Tomas von Brömssen\n",
      "Alan Simpson\n",
      "Alan Simpson\n",
      "Märta Ternstedt\n",
      "Torun Bülow-Hübe\n"
     ]
    },
    {
     "name": "stderr",
     "output_type": "stream",
     "text": [
      "\r",
      " 96%|█████████▌| 548/570 [03:20<00:06,  3.22it/s]"
     ]
    },
    {
     "name": "stdout",
     "output_type": "stream",
     "text": [
      "Göran Persson\n",
      "Wanja Lundby-Wedin\n",
      "Claes Elfsberg\n",
      "Fredrik Reinfeldt\n",
      "Fredrik Reinfeldt\n",
      "Lars Adaktusson\n",
      "Jan Eliasson\n",
      "Per Arne Axelsson\n",
      "Gunnel Werner\n",
      "Björn Gustafson\n",
      "Jan Olsson\n"
     ]
    },
    {
     "name": "stderr",
     "output_type": "stream",
     "text": [
      "\r",
      " 96%|█████████▋| 549/570 [03:21<00:06,  3.11it/s]"
     ]
    },
    {
     "name": "stdout",
     "output_type": "stream",
     "text": [
      "Jan Olsson\n",
      "Bengt Nordlund\n",
      "Astrid Lindgren\n",
      "Anders Lundin\n",
      "Per Sandberg\n",
      "Eric Kearley\n",
      "Eric Kearley\n"
     ]
    },
    {
     "name": "stderr",
     "output_type": "stream",
     "text": [
      "\r",
      " 96%|█████████▋| 550/570 [03:21<00:06,  2.86it/s]"
     ]
    },
    {
     "name": "stdout",
     "output_type": "stream",
     "text": [
      "Orvar Bergmark\n",
      "Lars Arvidson\n",
      "Gladys del Pilar\n",
      "Bengt Feldreich\n",
      "Jannike Huss\n",
      "Nina Gunke\n",
      "Bengt Feldreich\n",
      "Olle Häger\n",
      "Martin Höög\n",
      "Ola Ström\n",
      "Ola Ström\n"
     ]
    },
    {
     "name": "stderr",
     "output_type": "stream",
     "text": [
      "\r",
      " 97%|█████████▋| 551/570 [03:22<00:06,  2.98it/s]"
     ]
    },
    {
     "name": "stdout",
     "output_type": "stream",
     "text": [
      "Tomas Dillén\n",
      "Vilgot Sjöman\n",
      "Börje Ström\n",
      "Peter Flack\n",
      "Hans Hederberg\n",
      "Bengt Feldreich\n",
      "Ingemar Leijonborg\n",
      "Helge Brilioth\n",
      "Per Melander\n",
      "Yvonne Schaloske\n",
      "Bengt Roslund\n"
     ]
    },
    {
     "name": "stderr",
     "output_type": "stream",
     "text": [
      "\r",
      " 97%|█████████▋| 552/570 [03:22<00:05,  3.12it/s]"
     ]
    },
    {
     "name": "stdout",
     "output_type": "stream",
     "text": [
      "Morgan Alling\n",
      "Lars Beischer\n",
      "Martin Timell\n",
      "Eva Funck\n",
      "Justine Kirk\n",
      "Rut Samuelsson\n",
      "Astrid Lindgren\n",
      "Astrid Lindgren\n",
      "George Best\n",
      "Tage Danielsson\n"
     ]
    },
    {
     "name": "stderr",
     "output_type": "stream",
     "text": [
      "\r",
      " 97%|█████████▋| 553/570 [03:22<00:05,  3.21it/s]"
     ]
    },
    {
     "name": "stdout",
     "output_type": "stream",
     "text": [
      "Lennart \"Hoa-Hoa\" Dahlgren\n",
      "Ewa Landgren\n",
      "Kerstin Magnusson\n",
      "Neil Armstrong\n",
      "Lars-Magnus Meijer\n",
      "Leonard Eek\n",
      "Cissi Elwin\n",
      "Christina Schadewitz\n",
      "Inga Landgré\n",
      "Doris Funcke\n",
      "Göran Willis\n"
     ]
    },
    {
     "name": "stderr",
     "output_type": "stream",
     "text": [
      "\r",
      " 97%|█████████▋| 554/570 [03:23<00:05,  3.02it/s]"
     ]
    },
    {
     "name": "stdout",
     "output_type": "stream",
     "text": [
      "Rickard Olsson\n",
      "Martin Timell\n",
      "Martin Timell\n",
      "Arlette Brorsson-Kaiser\n",
      "Jonas Eriksson\n",
      "Lasse Åberg\n",
      "Ivar Lo-Johansson\n",
      "Bengt Bedrup\n",
      "Ola Ström\n"
     ]
    },
    {
     "name": "stderr",
     "output_type": "stream",
     "text": [
      "\r",
      " 97%|█████████▋| 555/570 [03:23<00:05,  2.89it/s]"
     ]
    },
    {
     "name": "stdout",
     "output_type": "stream",
     "text": [
      "Johan Anders Baer\n",
      "Margit Sahlin\n",
      "Jan Blomberg\n",
      "Nils Gustav Labba\n",
      "Thorbjörn Fälldin\n",
      "Jan Blomberg\n",
      "Rosa Taikon\n",
      "Willy Kyrklund\n"
     ]
    },
    {
     "name": "stderr",
     "output_type": "stream",
     "text": [
      "\r",
      " 98%|█████████▊| 556/570 [03:23<00:04,  2.96it/s]"
     ]
    },
    {
     "name": "stdout",
     "output_type": "stream",
     "text": [
      "Peter Birro\n",
      "Bengt Bratt\n",
      "Leif Krantz\n",
      "Ragnhild Fjällhed\n",
      "Bengt Bratt\n",
      "ABBA\n",
      "Svenne Hedlund\n",
      "Vibeke Bjelke\n",
      "Fredde Granberg\n"
     ]
    },
    {
     "name": "stderr",
     "output_type": "stream",
     "text": [
      "\r",
      " 98%|█████████▊| 557/570 [03:24<00:04,  2.81it/s]"
     ]
    },
    {
     "name": "stdout",
     "output_type": "stream",
     "text": [
      "Kristina Törnquist\n",
      "Sten Johan Hedman\n",
      "Jonas Wahlström\n",
      "Jan Danielson\n",
      "Hans Linderberg\n",
      "Jonas Wahlström\n",
      "Ingemar Lind\n",
      "Ove Eklund\n",
      "Britta-Karin Fjellström\n"
     ]
    },
    {
     "name": "stderr",
     "output_type": "stream",
     "text": [
      "\r",
      " 98%|█████████▊| 558/570 [03:24<00:04,  2.67it/s]"
     ]
    },
    {
     "name": "stdout",
     "output_type": "stream",
     "text": [
      "Ingmar Bergman\n",
      "Samuel Fröler\n",
      "Ingmar Bergman\n",
      "Samuel Fröler\n",
      "Jan Danielson\n",
      "Hans Linderberg\n",
      "Jonas Wahlström\n",
      "Jonas Wahlström\n",
      "Ingemar Lind\n",
      "Ove Eklund\n",
      "Britta-Karin Fjellström\n"
     ]
    },
    {
     "name": "stderr",
     "output_type": "stream",
     "text": [
      "\r",
      " 98%|█████████▊| 559/570 [03:24<00:04,  2.60it/s]"
     ]
    },
    {
     "name": "stdout",
     "output_type": "stream",
     "text": [
      "Bertil Danielsson\n",
      "Rogert Svanedahl\n",
      "Pär Lorentzon\n",
      "Martin Emtenäs\n",
      "Charlotte Permell\n",
      "Jan Danielson\n",
      "Putte Palm\n"
     ]
    },
    {
     "name": "stderr",
     "output_type": "stream",
     "text": [
      "\r",
      " 98%|█████████▊| 560/570 [03:25<00:03,  2.84it/s]"
     ]
    },
    {
     "name": "stdout",
     "output_type": "stream",
     "text": [
      "Gunnar Brusewitz\n",
      "Boris Engström\n",
      "Bertil Hedlund\n",
      "Jonas Wahlström\n",
      "Jonas Wahlström\n",
      "Rogert Svanedahl\n",
      "Ove Eklund\n",
      "Bernt Nilsson\n"
     ]
    },
    {
     "name": "stderr",
     "output_type": "stream",
     "text": [
      "\r",
      " 98%|█████████▊| 561/570 [03:25<00:03,  2.66it/s]"
     ]
    },
    {
     "name": "stdout",
     "output_type": "stream",
     "text": [
      "Bertil Danielsson\n",
      "Tom Alandh\n",
      "Eric Forsgren\n",
      "Ingemar Lind\n",
      "Torbjörn Wiléen\n",
      "Ingemar Lind\n",
      "Eric Forsgren\n",
      "Staffan Roswall\n",
      "Sune Jonsson\n",
      "Jonas Wahlström\n"
     ]
    },
    {
     "name": "stderr",
     "output_type": "stream",
     "text": [
      "\r",
      " 99%|█████████▊| 562/570 [03:26<00:03,  2.40it/s]"
     ]
    },
    {
     "name": "stdout",
     "output_type": "stream",
     "text": [
      "Lotta Jankell\n",
      "Eva Mueller\n",
      "Lars-Jonas Johansson\n",
      "Bertil Hedlund\n",
      "Eric Forsgren\n",
      "Jonas Wahlström\n",
      "Sverker Olofsson\n",
      "Lotta Jankell\n",
      "Jonas Wahlström\n",
      "Jonas Wahlström\n"
     ]
    },
    {
     "name": "stderr",
     "output_type": "stream",
     "text": [
      "\r",
      " 99%|█████████▉| 563/570 [03:26<00:03,  2.24it/s]"
     ]
    },
    {
     "name": "stdout",
     "output_type": "stream",
     "text": [
      "Eric Forsgren\n",
      "Gunnel Linde\n",
      "Ingemar Lind\n",
      "Jonas Wahlström\n",
      "Ingemar Lind\n",
      "Lotta Jankell\n",
      "Bertil Hedlund\n",
      "Ingemar Lind\n",
      "Ingemar Lind\n",
      "Eric Forsgren\n"
     ]
    },
    {
     "name": "stderr",
     "output_type": "stream",
     "text": [
      "\r",
      " 99%|█████████▉| 564/570 [03:27<00:02,  2.14it/s]"
     ]
    },
    {
     "name": "stdout",
     "output_type": "stream",
     "text": [
      "Lotta Jankell\n",
      "Eva Mueller\n",
      "Triple & Touch\n",
      "Yngve Henriksen\n",
      "Ragnhild Fjällhed\n",
      "Johan Forssblad\n",
      "Kjell-Åke Hansson\n",
      "Kjell-Åke Hansson\n",
      "Ingmar Bergman\n",
      "Ingmar Bergman\n",
      "Ingmar Bergman\n"
     ]
    },
    {
     "name": "stderr",
     "output_type": "stream",
     "text": [
      "\r",
      " 99%|█████████▉| 565/570 [03:27<00:02,  2.23it/s]"
     ]
    },
    {
     "name": "stdout",
     "output_type": "stream",
     "text": [
      "Bernt Viklund\n",
      "Staffan Erstam\n",
      "Samuel Fröler\n",
      "Willy Kyrklund\n",
      "Bo Hansson\n",
      "Storfors flickkör\n",
      "Gösta Engström\n",
      "Gustav Bartfay\n",
      "Anders Österling\n",
      "Lennart Wetterholm\n"
     ]
    },
    {
     "name": "stderr",
     "output_type": "stream",
     "text": [
      "\r",
      " 99%|█████████▉| 566/570 [03:27<00:01,  2.29it/s]"
     ]
    },
    {
     "name": "stdout",
     "output_type": "stream",
     "text": [
      "Kjell-Åke Hansson\n",
      "Björn Hellberg\n",
      "Kjell-Åke Hansson\n",
      "Bo Hansson\n",
      "Storfors flickkör\n",
      "Olle Häger\n",
      "Håkan Pieniowski\n",
      "Suzanne Reuter\n",
      "Willy Kyrklund\n",
      "Sam Nilsson\n"
     ]
    },
    {
     "name": "stderr",
     "output_type": "stream",
     "text": [
      "\r",
      " 99%|█████████▉| 567/570 [03:28<00:01,  2.33it/s]"
     ]
    },
    {
     "name": "stdout",
     "output_type": "stream",
     "text": [
      "Per Söderberg\n",
      "Håkan Pieniowski\n",
      "Suzanne Reuter\n",
      "Olle Häger\n",
      "Ingvar Oldsberg\n",
      "Susann Wessely\n",
      "Carl Magnus Carlsson\n",
      "Slipers\n",
      "Ingrid Dahlberg\n"
     ]
    },
    {
     "name": "stderr",
     "output_type": "stream",
     "text": [
      "\r",
      "100%|█████████▉| 568/570 [03:28<00:00,  2.49it/s]"
     ]
    },
    {
     "name": "stdout",
     "output_type": "stream",
     "text": [
      "Ingrid Dahlberg\n",
      "Gunnar Nielsen\n",
      "Ingrid Dahlberg\n",
      "Ingrid Dahlberg\n",
      "Ingrid Dahlberg\n",
      "Ingrid Dahlberg\n",
      "Tomas Pontén\n",
      "Tomas Pontén\n",
      "Ingrid Dahlberg\n",
      "Gösta Bredefeldt\n",
      "Gunnar Nielsen\n"
     ]
    },
    {
     "name": "stderr",
     "output_type": "stream",
     "text": [
      "100%|██████████| 570/570 [03:29<00:00,  2.73it/s]"
     ]
    },
    {
     "name": "stdout",
     "output_type": "stream",
     "text": [
      "Gunnar Nielsen\n",
      "Karin Hagås\n",
      "Tomas Pontén\n",
      "Tomas Pontén\n",
      "Tomas Pontén\n",
      "Magnus Roosmann\n",
      "Tomas Pontén\n",
      "Anders Österling\n",
      "Lennart Wetterholm\n",
      "Kung Carl XVI Gustaf\n",
      "<class 'pandas.core.frame.DataFrame'>\n",
      "RangeIndex: 5682 entries, 0 to 5681\n",
      "Data columns (total 10 columns):\n",
      " #   Column                 Non-Null Count  Dtype \n",
      "---  ------                 --------------  ----- \n",
      " 0   id                     5682 non-null   object\n",
      " 1   programTitle           5682 non-null   object\n",
      " 2   summary                5682 non-null   object\n",
      " 3   materialLength         5682 non-null   object\n",
      " 4   broadcastChannel       5682 non-null   object\n",
      " 5   seasonNumber           5682 non-null   object\n",
      " 6   episodeNumber          5682 non-null   object\n",
      " 7   onlyAvailableInSweden  5682 non-null   object\n",
      " 8   summary                5682 non-null   object\n",
      " 9   dfparticipant          94 non-null     object\n",
      "dtypes: object(10)\n",
      "memory usage: 444.0+ KB\n"
     ]
    },
    {
     "name": "stderr",
     "output_type": "stream",
     "text": [
      "\n"
     ]
    }
   ],
   "source": [
    "import sys,json\n",
    "import pandas as pd \n",
    "from tqdm import tqdm\n",
    "import urllib3\n",
    "\n",
    "http = urllib3.PoolManager()\n",
    "\n",
    "count= 10\n",
    "# https://origin-www.svt.se/oppet-arkiv-api/latest?page=1&count=1000&pretty=true\n",
    "urlbase =\"https://origin-www.svt.se/oppet-arkiv-api/latest?count=\" + str(count) + \"&page=\"\n",
    "\n",
    "dftot = pd.DataFrame(columns=['id','programTitle','summary','materialLength','broadcastChannel',\n",
    "                             'seasonNumber','episodeNumber',\n",
    "                             'onlyAvailableInSweden','summary','dfparticipant'])\n",
    "# number 5680\n",
    "#for i in trange(0,570):\n",
    "for i in tqdm(range(0,570)):    \n",
    "    url = urlbase + str(i)\n",
    "    dfparticipant = []\n",
    "    #print (i, url)\n",
    "    r = http.request('GET', url,headers={\"Accept\" : 'application/json'})\n",
    "    data = json.loads(r.data)\n",
    "    for e in data[\"entries\"]:\n",
    "        try:        \n",
    "            id = e[\"id\"]\n",
    "        except:\n",
    "            id = \"\"\n",
    "        try:\n",
    "            programTitle = e[\"programTitle\"]\n",
    "        except:\n",
    "            programTitle = \"\"\n",
    "        try:\n",
    "            summary = e[\"summary\"]\n",
    "        except:\n",
    "            summary =\"\"\n",
    "        try:\n",
    "            materialLength = e[\"materialLength\"]\n",
    "        except:\n",
    "            pass\n",
    "        try:\n",
    "            broadcastChannel = e[\"broadcastChannel\"]\n",
    "        except:\n",
    "            pass\n",
    "        try:\n",
    "            seasonNumber = e[\"seasonNumber\"]\n",
    "        except:\n",
    "            seasonNumber = \"\"\n",
    "        try:\n",
    "            episodeNumber = e[\"episodeNumber\"]\n",
    "        except:\n",
    "            episodeNumber =\"\"\n",
    "        try:\n",
    "            onlyAvailableInSweden = e[\"onlyAvailableInSweden\"]\n",
    "        except:\n",
    "            onlyAvailableInSweden =\"\"\n",
    "        try:\n",
    "            for p in e[\"tagList\"]:\n",
    "                if p[\"facet\"] in \"participantFacet\":\n",
    "                    print(p[\"name\"])\n",
    "                    dfparticipant = dfparticipant.append(p[\"name\"])\n",
    "        except:\n",
    "            pass\n",
    "        #print(\"dfparticipant:\",dfparticipant)\n",
    "        dftot = dftot.append({'id': id,'programTitle': programTitle,'materialLength': materialLength,\n",
    "                             'broadcastChannel': broadcastChannel, 'seasonNumber':seasonNumber,\n",
    "                             'episodeNumber': episodeNumber,'onlyAvailableInSweden': onlyAvailableInSweden,\n",
    "                             'summary': summary, 'dfparticipant' : dfparticipant}, ignore_index=True)\n",
    "dftot.info()"
   ]
  },
  {
   "cell_type": "code",
   "execution_count": 3,
   "metadata": {},
   "outputs": [
    {
     "data": {
      "text/html": [
       "<div>\n",
       "<style scoped>\n",
       "    .dataframe tbody tr th:only-of-type {\n",
       "        vertical-align: middle;\n",
       "    }\n",
       "\n",
       "    .dataframe tbody tr th {\n",
       "        vertical-align: top;\n",
       "    }\n",
       "\n",
       "    .dataframe thead th {\n",
       "        text-align: right;\n",
       "    }\n",
       "</style>\n",
       "<table border=\"1\" class=\"dataframe\">\n",
       "  <thead>\n",
       "    <tr style=\"text-align: right;\">\n",
       "      <th></th>\n",
       "      <th>id</th>\n",
       "      <th>programTitle</th>\n",
       "      <th>summary</th>\n",
       "      <th>materialLength</th>\n",
       "      <th>broadcastChannel</th>\n",
       "      <th>seasonNumber</th>\n",
       "      <th>episodeNumber</th>\n",
       "      <th>onlyAvailableInSweden</th>\n",
       "      <th>summary</th>\n",
       "      <th>dfparticipant</th>\n",
       "    </tr>\n",
       "  </thead>\n",
       "  <tbody>\n",
       "    <tr>\n",
       "      <th>1436</th>\n",
       "      <td>3196542</td>\n",
       "      <td>Vi på Saltkråkan</td>\n",
       "      <td>De första upptågen med Tjorven, Båtsman, Skrål...</td>\n",
       "      <td>1621</td>\n",
       "      <td>SVT1</td>\n",
       "      <td></td>\n",
       "      <td>9</td>\n",
       "      <td>True</td>\n",
       "      <td>De första upptågen med Tjorven, Båtsman, Skrål...</td>\n",
       "      <td>None</td>\n",
       "    </tr>\n",
       "    <tr>\n",
       "      <th>4164</th>\n",
       "      <td>19224151</td>\n",
       "      <td>Julkalendern 1982 - Albert och Herberts julkal...</td>\n",
       "      <td>Julkalendern 1982</td>\n",
       "      <td>940</td>\n",
       "      <td>SVT1</td>\n",
       "      <td>1</td>\n",
       "      <td>13</td>\n",
       "      <td>True</td>\n",
       "      <td>Julkalendern 1982</td>\n",
       "      <td>None</td>\n",
       "    </tr>\n",
       "    <tr>\n",
       "      <th>3068</th>\n",
       "      <td>3087281</td>\n",
       "      <td>Drömmen om Atlantis</td>\n",
       "      <td>I fem program får vi följa Dag Stålsjö i hans ...</td>\n",
       "      <td>2617</td>\n",
       "      <td>SVT 2</td>\n",
       "      <td>0</td>\n",
       "      <td>1</td>\n",
       "      <td>True</td>\n",
       "      <td>I fem program får vi följa Dag Stålsjö i hans ...</td>\n",
       "      <td>None</td>\n",
       "    </tr>\n",
       "    <tr>\n",
       "      <th>2226</th>\n",
       "      <td>4549599</td>\n",
       "      <td>Pelle Svanslös</td>\n",
       "      <td>Julkalendern 1997</td>\n",
       "      <td>851</td>\n",
       "      <td>SVT1</td>\n",
       "      <td>1</td>\n",
       "      <td>4</td>\n",
       "      <td>True</td>\n",
       "      <td>Julkalendern 1997</td>\n",
       "      <td>None</td>\n",
       "    </tr>\n",
       "    <tr>\n",
       "      <th>990</th>\n",
       "      <td>2581952</td>\n",
       "      <td>Varuhuset</td>\n",
       "      <td>Kärlek, dramatik och maktkamp på ett svenskt v...</td>\n",
       "      <td>2681</td>\n",
       "      <td>SVT1</td>\n",
       "      <td>0</td>\n",
       "      <td>33</td>\n",
       "      <td>True</td>\n",
       "      <td>Kärlek, dramatik och maktkamp på ett svenskt v...</td>\n",
       "      <td>None</td>\n",
       "    </tr>\n",
       "    <tr>\n",
       "      <th>...</th>\n",
       "      <td>...</td>\n",
       "      <td>...</td>\n",
       "      <td>...</td>\n",
       "      <td>...</td>\n",
       "      <td>...</td>\n",
       "      <td>...</td>\n",
       "      <td>...</td>\n",
       "      <td>...</td>\n",
       "      <td>...</td>\n",
       "      <td>...</td>\n",
       "    </tr>\n",
       "    <tr>\n",
       "      <th>3239</th>\n",
       "      <td>11821618</td>\n",
       "      <td>VM i bandy 1997</td>\n",
       "      <td>Finalen mellan Sverige och Ryssland i Västerås.</td>\n",
       "      <td>6756</td>\n",
       "      <td>SVT2</td>\n",
       "      <td>0</td>\n",
       "      <td>3</td>\n",
       "      <td>True</td>\n",
       "      <td>Finalen mellan Sverige och Ryssland i Västerås.</td>\n",
       "      <td>None</td>\n",
       "    </tr>\n",
       "    <tr>\n",
       "      <th>4031</th>\n",
       "      <td>14523732</td>\n",
       "      <td>Anders och Måns</td>\n",
       "      <td>Ett underhållande och underfundigt magasin med...</td>\n",
       "      <td>1711</td>\n",
       "      <td>SVT 2</td>\n",
       "      <td>0</td>\n",
       "      <td>1</td>\n",
       "      <td>True</td>\n",
       "      <td>Ett underhållande och underfundigt magasin med...</td>\n",
       "      <td>None</td>\n",
       "    </tr>\n",
       "    <tr>\n",
       "      <th>1809</th>\n",
       "      <td>4441119</td>\n",
       "      <td>K-märkts modärna</td>\n",
       "      <td>Program om arkitektur</td>\n",
       "      <td>225</td>\n",
       "      <td>SVT1</td>\n",
       "      <td></td>\n",
       "      <td>6</td>\n",
       "      <td>False</td>\n",
       "      <td>Program om arkitektur</td>\n",
       "      <td>None</td>\n",
       "    </tr>\n",
       "    <tr>\n",
       "      <th>3048</th>\n",
       "      <td>3068702</td>\n",
       "      <td>Allsångskonsert med Kjell Lönnå</td>\n",
       "      <td>Allsångskonsert från Sundsvall med Kjell Lönnå...</td>\n",
       "      <td>3524</td>\n",
       "      <td>SVT 1</td>\n",
       "      <td>0</td>\n",
       "      <td>3</td>\n",
       "      <td>True</td>\n",
       "      <td>Allsångskonsert från Sundsvall med Kjell Lönnå...</td>\n",
       "      <td>None</td>\n",
       "    </tr>\n",
       "    <tr>\n",
       "      <th>4052</th>\n",
       "      <td>6816853</td>\n",
       "      <td>Bubbel</td>\n",
       "      <td>Tävlingsprogram</td>\n",
       "      <td>1690</td>\n",
       "      <td>SVT1</td>\n",
       "      <td>0</td>\n",
       "      <td>12</td>\n",
       "      <td>True</td>\n",
       "      <td>Tävlingsprogram</td>\n",
       "      <td>None</td>\n",
       "    </tr>\n",
       "  </tbody>\n",
       "</table>\n",
       "<p>100 rows × 10 columns</p>\n",
       "</div>"
      ],
      "text/plain": [
       "            id  ... dfparticipant\n",
       "1436   3196542  ...          None\n",
       "4164  19224151  ...          None\n",
       "3068   3087281  ...          None\n",
       "2226   4549599  ...          None\n",
       "990    2581952  ...          None\n",
       "...        ...  ...           ...\n",
       "3239  11821618  ...          None\n",
       "4031  14523732  ...          None\n",
       "1809   4441119  ...          None\n",
       "3048   3068702  ...          None\n",
       "4052   6816853  ...          None\n",
       "\n",
       "[100 rows x 10 columns]"
      ]
     },
     "execution_count": 3,
     "metadata": {},
     "output_type": "execute_result"
    }
   ],
   "source": [
    "dftot.sample(100)"
   ]
  },
  {
   "cell_type": "code",
   "execution_count": 4,
   "metadata": {},
   "outputs": [
    {
     "data": {
      "text/plain": [
       "SVT 2              1847\n",
       "SVT1                899\n",
       "SVT2                295\n",
       "                     16\n",
       "NLOA                 11\n",
       "TV2                   8\n",
       "SVT  1                7\n",
       "SVT 1 och SVT 2       5\n",
       "SF journalen          4\n",
       "SVT                   3\n",
       "SVT 1, SVT 2          2\n",
       "SVT 1                 2\n",
       "SVT1\\n                1\n",
       "SVT 24                1\n",
       "SVT 1​                1\n",
       "SVT 2                 1\n",
       "Name: broadcastChannel, dtype: int64"
      ]
     },
     "execution_count": 4,
     "metadata": {},
     "output_type": "execute_result"
    }
   ],
   "source": [
    "dftot[\"broadcastChannel\"].value_counts()[1:50]  \n"
   ]
  },
  {
   "cell_type": "code",
   "execution_count": 5,
   "metadata": {},
   "outputs": [
    {
     "data": {
      "text/plain": [
       "False    95\n",
       "Name: onlyAvailableInSweden, dtype: int64"
      ]
     },
     "execution_count": 5,
     "metadata": {},
     "output_type": "execute_result"
    }
   ],
   "source": [
    "dftot[\"onlyAvailableInSweden\"].value_counts()[1:50]  "
   ]
  },
  {
   "cell_type": "code",
   "execution_count": 6,
   "metadata": {},
   "outputs": [
    {
     "data": {
      "text/plain": [
       "Öppet arkiv: Sport                                     124\n",
       "Öppet arkiv: fakta                                     107\n",
       "Öppet arkiv: barn                                       67\n",
       "Varuhuset                                               59\n",
       "Cleo                                                    53\n",
       "Storstad                                                47\n",
       "ÖPPET ARKIV: KULTUR                                     47\n",
       "Goda grannar                                            46\n",
       "Öppet arkiv: humor                                      46\n",
       "Hem till byn                                            46\n",
       "Tillbaka till Vintergatan                               40\n",
       "Dieselråttor och sjömansmöss                            39\n",
       "Julkalendern 1989 - Ture Sventon privatdetektiv         39\n",
       "På spåret                                               38\n",
       "Lösa förbindelser                                       38\n",
       "Trafikmagasinet                                         35\n",
       "Julkalendern 1982 - Albert och Herberts julkalender     34\n",
       "Sjukan                                                  33\n",
       "Julkalendern: Kaspar i Nudådalen                        31\n",
       "Name: programTitle, dtype: int64"
      ]
     },
     "execution_count": 6,
     "metadata": {},
     "output_type": "execute_result"
    }
   ],
   "source": [
    "dftot[\"programTitle\"].value_counts()[1:20]  "
   ]
  },
  {
   "cell_type": "code",
   "execution_count": 7,
   "metadata": {},
   "outputs": [
    {
     "name": "stdout",
     "output_type": "stream",
     "text": [
      "<class 'pandas.core.frame.DataFrame'>\n",
      "RangeIndex: 5682 entries, 0 to 5681\n",
      "Data columns (total 10 columns):\n",
      " #   Column                 Non-Null Count  Dtype \n",
      "---  ------                 --------------  ----- \n",
      " 0   id                     5682 non-null   object\n",
      " 1   programTitle           5682 non-null   object\n",
      " 2   summary                5682 non-null   object\n",
      " 3   materialLength         5682 non-null   object\n",
      " 4   broadcastChannel       5682 non-null   object\n",
      " 5   seasonNumber           5682 non-null   object\n",
      " 6   episodeNumber          5682 non-null   object\n",
      " 7   onlyAvailableInSweden  5682 non-null   object\n",
      " 8   summary                5682 non-null   object\n",
      " 9   dfparticipant          94 non-null     object\n",
      "dtypes: object(10)\n",
      "memory usage: 444.0+ KB\n"
     ]
    }
   ],
   "source": [
    "dftot.info()"
   ]
  },
  {
   "cell_type": "code",
   "execution_count": 8,
   "metadata": {},
   "outputs": [
    {
     "name": "stdout",
     "output_type": "stream",
     "text": [
      "1582\n",
      "Kronprinsessan Victoria\n",
      "1632\n",
      "Werner Modiggård\n",
      "1633\n",
      "Werner Modiggård\n",
      "1634\n",
      "Werner Modiggård\n",
      "1635\n",
      "Werner Modiggård\n",
      "1636\n",
      "Werner Modiggård\n",
      "1637\n",
      "Werner Modiggård\n",
      "1638\n",
      "Werner Modiggård\n",
      "1639\n",
      "Werner Modiggård\n",
      "2302\n",
      "Hans Åke Nordström\n",
      "2502\n",
      "Edward Wojcicki\n",
      "2682\n",
      "Susanne Ljung\n",
      "2683\n",
      "Susanne Ljung\n",
      "2684\n",
      "Susanne Ljung\n",
      "2685\n",
      "Susanne Ljung\n",
      "2722\n",
      "Kronprinsessan Victoria\n",
      "2842\n",
      "Lennart Jähkel\n",
      "2843\n",
      "Lennart Jähkel\n",
      "2844\n",
      "Lennart Jähkel\n",
      "2845\n",
      "Lennart Jähkel\n",
      "2846\n",
      "Lennart Jähkel\n",
      "2847\n",
      "Lennart Jähkel\n",
      "2848\n",
      "Lennart Jähkel\n",
      "2849\n",
      "Lennart Jähkel\n",
      "2850\n",
      "Lennart Jähkel\n",
      "2922\n",
      "Lars Bjälkeskog\n",
      "2923\n",
      "Lars Bjälkeskog\n",
      "2924\n",
      "Lars Bjälkeskog\n",
      "2932\n",
      "Leif Furhammar\n",
      "2942\n",
      "Max Bursell\n",
      "2992\n",
      "Mats Segerblom\n",
      "3102\n",
      "Johanna Mork\n",
      "3252\n",
      "Lars Bjälkeskog\n",
      "3253\n",
      "Lars Bjälkeskog\n",
      "3254\n",
      "Lars Bjälkeskog\n",
      "3262\n",
      "Leif Furhammar\n",
      "3302\n",
      "Hans Mosesson\n",
      "3602\n",
      "Knut Martin\n",
      "3642\n",
      "Gösta Roosling\n",
      "3643\n",
      "Gösta Roosling\n",
      "3652\n",
      "John McEnroe\n",
      "3782\n",
      "3783\n",
      "3784\n",
      "3785\n",
      "3786\n",
      "3787\n",
      "3788\n",
      "3789\n",
      "3790\n",
      "3791\n",
      "3812\n",
      "Rigmor Gustafsson\n",
      "3842\n",
      "Lennart Ehrenborg\n",
      "3852\n",
      "Linda Olofsson\n",
      "3962\n",
      "Per Stenborg\n",
      "4072\n",
      "Robert Broberg\n",
      "4073\n",
      "Robert Broberg\n",
      "4074\n",
      "Robert Broberg\n",
      "4075\n",
      "Robert Broberg\n",
      "4076\n",
      "Robert Broberg\n",
      "4077\n",
      "Robert Broberg\n",
      "4078\n",
      "Robert Broberg\n",
      "4079\n",
      "Robert Broberg\n",
      "4082\n",
      "Ditte Feuk\n",
      "4083\n",
      "Ditte Feuk\n",
      "4132\n",
      "Robert Broberg\n",
      "4133\n",
      "Robert Broberg\n",
      "4242\n",
      "Robert Gustafsson\n",
      "4302\n",
      "Birgitta Zachrisson\n",
      "4512\n",
      "Stig Larsson\n",
      "4513\n",
      "Stig Larsson\n",
      "4542\n",
      "Johan Mardell\n",
      "4622\n",
      "Kjell Wigers\n",
      "4623\n",
      "Kjell Wigers\n",
      "4624\n",
      "Kjell Wigers\n",
      "4642\n",
      "Henrik von Sydow\n",
      "4643\n",
      "Henrik von Sydow\n",
      "4644\n",
      "Henrik von Sydow\n",
      "4652\n",
      "Anders Mohlin\n",
      "4653\n",
      "Anders Mohlin\n",
      "4702\n",
      "Lennart Hyland\n",
      "4703\n",
      "Lennart Hyland\n",
      "4704\n",
      "Lennart Hyland\n",
      "4705\n",
      "Lennart Hyland\n",
      "4706\n",
      "Lennart Hyland\n",
      "4762\n",
      "Nils \"Mora-Nisse\" Karlsson\n",
      "4763\n",
      "Nils \"Mora-Nisse\" Karlsson\n",
      "4892\n",
      "Lennart Jähkel\n",
      "4893\n",
      "Lennart Jähkel\n",
      "4894\n",
      "Lennart Jähkel\n",
      "4895\n",
      "Lennart Jähkel\n",
      "4896\n",
      "Lennart Jähkel\n",
      "4897\n",
      "Lennart Jähkel\n",
      "5572\n",
      "Bertil Danielsson\n"
     ]
    }
   ],
   "source": [
    "#dftot.explode('dfparticipant')\n",
    "participant = set()\n",
    "for index, row in dftot.iterrows():\n",
    "    if row['dfparticipant'] is not None:\n",
    "        print(index)\n",
    "        for p in row['dfparticipant']:\n",
    "            participant.add(p)\n",
    "            print(p)\n",
    "    "
   ]
  },
  {
   "cell_type": "code",
   "execution_count": 9,
   "metadata": {},
   "outputs": [
    {
     "data": {
      "text/plain": [
       "{'Anders Mohlin',\n",
       " 'Bertil Danielsson',\n",
       " 'Birgitta Zachrisson',\n",
       " 'Ditte Feuk',\n",
       " 'Edward Wojcicki',\n",
       " 'Gösta Roosling',\n",
       " 'Hans Mosesson',\n",
       " 'Hans Åke Nordström',\n",
       " 'Henrik von Sydow',\n",
       " 'Johan Mardell',\n",
       " 'Johanna Mork',\n",
       " 'John McEnroe',\n",
       " 'Kjell Wigers',\n",
       " 'Knut Martin',\n",
       " 'Kronprinsessan Victoria',\n",
       " 'Lars Bjälkeskog',\n",
       " 'Leif Furhammar',\n",
       " 'Lennart Ehrenborg',\n",
       " 'Lennart Hyland',\n",
       " 'Lennart Jähkel',\n",
       " 'Linda Olofsson',\n",
       " 'Mats Segerblom',\n",
       " 'Max Bursell',\n",
       " 'Nils \"Mora-Nisse\" Karlsson',\n",
       " 'Per Stenborg',\n",
       " 'Rigmor Gustafsson',\n",
       " 'Robert Broberg',\n",
       " 'Robert Gustafsson',\n",
       " 'Stig Larsson',\n",
       " 'Susanne Ljung',\n",
       " 'Werner Modiggård'}"
      ]
     },
     "execution_count": 9,
     "metadata": {},
     "output_type": "execute_result"
    }
   ],
   "source": [
    "participant"
   ]
  },
  {
   "cell_type": "code",
   "execution_count": null,
   "metadata": {},
   "outputs": [],
   "source": []
  }
 ],
 "metadata": {
  "kernelspec": {
   "display_name": "Python 3",
   "language": "python",
   "name": "python3"
  },
  "language_info": {
   "codemirror_mode": {
    "name": "ipython",
    "version": 3
   },
   "file_extension": ".py",
   "mimetype": "text/x-python",
   "name": "python",
   "nbconvert_exporter": "python",
   "pygments_lexer": "ipython3",
   "version": "3.8.0"
  }
 },
 "nbformat": 4,
 "nbformat_minor": 4
}
