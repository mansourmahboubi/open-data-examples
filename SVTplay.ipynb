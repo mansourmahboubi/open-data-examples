{
 "cells": [
  {
   "cell_type": "markdown",
   "metadata": {},
   "source": [
    "### SVT Play \n",
    "version 0.101\n",
    "* This [notebook](https://github.com/salgo60/open-data-examples/blob/master/SVTplay.ipynb)\n",
    "   * Havnt found an offical API but [origin-www.svt.se/oppet-arkiv-api](https://origin-www.svt.se/oppet-arkiv-api)\n",
    "     * SVT play id [1089610](https://origin-www.svt.se/oppet-arkiv-api/video/1089610) Operation Argus\n",
    "     * [Latest](https://origin-www.svt.se/oppet-arkiv-api/latest?page=1&count=12pretty=true)\n",
    "* we need an official copyright statement and API with the SVTprogramid \n",
    "   * id in this data looks like the SVT Öppet arkiv id"
   ]
  },
  {
   "cell_type": "code",
   "execution_count": 1,
   "metadata": {},
   "outputs": [
    {
     "name": "stdout",
     "output_type": "stream",
     "text": [
      "Last run:  2020-12-16 22:39:55.097533\n"
     ]
    }
   ],
   "source": [
    "from datetime import datetime\n",
    "start_time  = datetime.now()\n",
    "print(\"Last run: \", start_time)"
   ]
  },
  {
   "cell_type": "code",
   "execution_count": 2,
   "metadata": {},
   "outputs": [
    {
     "name": "stderr",
     "output_type": "stream",
     "text": [
      "100%|██████████| 570/570 [03:22<00:00,  2.82it/s]"
     ]
    },
    {
     "name": "stdout",
     "output_type": "stream",
     "text": [
      "<class 'pandas.core.frame.DataFrame'>\n",
      "RangeIndex: 5682 entries, 0 to 5681\n",
      "Data columns (total 10 columns):\n",
      " #   Column                 Non-Null Count  Dtype \n",
      "---  ------                 --------------  ----- \n",
      " 0   id                     5682 non-null   object\n",
      " 1   programTitle           5682 non-null   object\n",
      " 2   summary                5682 non-null   object\n",
      " 3   materialLength         5682 non-null   object\n",
      " 4   broadcastChannel       5682 non-null   object\n",
      " 5   seasonNumber           5682 non-null   object\n",
      " 6   episodeNumber          5682 non-null   object\n",
      " 7   onlyAvailableInSweden  5682 non-null   object\n",
      " 8   summary                5682 non-null   object\n",
      " 9   dfparticipant          5682 non-null   object\n",
      "dtypes: object(10)\n",
      "memory usage: 444.0+ KB\n"
     ]
    },
    {
     "name": "stderr",
     "output_type": "stream",
     "text": [
      "\n"
     ]
    }
   ],
   "source": [
    "import sys,json\n",
    "import pandas as pd \n",
    "from tqdm import tqdm\n",
    "import urllib3\n",
    "\n",
    "http = urllib3.PoolManager()\n",
    "\n",
    "count= 10\n",
    "# https://origin-www.svt.se/oppet-arkiv-api/latest?page=1&count=1000&pretty=true\n",
    "urlbase =\"https://origin-www.svt.se/oppet-arkiv-api/latest?count=\" + str(count) + \"&page=\"\n",
    "\n",
    "dftot = pd.DataFrame(columns=['id','programTitle','summary','materialLength','broadcastChannel',\n",
    "                             'seasonNumber','episodeNumber',\n",
    "                             'onlyAvailableInSweden','summary','dfparticipant'])\n",
    "# number 5680\n",
    "#for i in trange(0,570):\n",
    "for i in tqdm(range(0,570)):    \n",
    "    url = urlbase + str(i)\n",
    "    dfparticipant = []\n",
    "    #print (i, url)\n",
    "    r = http.request('GET', url,headers={\"Accept\" : 'application/json'})\n",
    "    data = json.loads(r.data)\n",
    "    for e in data[\"entries\"]:\n",
    "        try:        \n",
    "            id = e[\"id\"]\n",
    "        except:\n",
    "            id = \"\"\n",
    "        try:\n",
    "            programTitle = e[\"programTitle\"]\n",
    "        except:\n",
    "            programTitle = \"\"\n",
    "        try:\n",
    "            summary = e[\"summary\"]\n",
    "        except:\n",
    "            summary =\"\"\n",
    "        try:\n",
    "            materialLength = e[\"materialLength\"]\n",
    "        except:\n",
    "            pass\n",
    "        try:\n",
    "            broadcastChannel = e[\"broadcastChannel\"]\n",
    "        except:\n",
    "            pass\n",
    "        try:\n",
    "            seasonNumber = e[\"seasonNumber\"]\n",
    "        except:\n",
    "            seasonNumber = \"\"\n",
    "        try:\n",
    "            episodeNumber = e[\"episodeNumber\"]\n",
    "        except:\n",
    "            episodeNumber =\"\"\n",
    "        try:\n",
    "            onlyAvailableInSweden = e[\"onlyAvailableInSweden\"]\n",
    "        except:\n",
    "            onlyAvailableInSweden =\"\"\n",
    "        try:\n",
    "            for p in e[\"tagList\"]:\n",
    "                \n",
    "                if p[\"facet\"] in \"participantFacet\":\n",
    "                    try: \n",
    "                        if p['name'] is not None:\n",
    "                            dfparticipant.append(p[\"name\"])\n",
    "                    except Exception as e: \n",
    "                        print (e)\n",
    "        except:\n",
    "            pass\n",
    "        dftot = dftot.append({'id': id,'programTitle': programTitle,'materialLength': materialLength,\n",
    "                             'broadcastChannel': broadcastChannel, 'seasonNumber':seasonNumber,\n",
    "                             'episodeNumber': episodeNumber,'onlyAvailableInSweden': onlyAvailableInSweden,\n",
    "                             'summary': summary, 'dfparticipant' : dfparticipant}, ignore_index=True)\n",
    "dftot.info()"
   ]
  },
  {
   "cell_type": "code",
   "execution_count": 3,
   "metadata": {},
   "outputs": [
    {
     "data": {
      "text/html": [
       "<div>\n",
       "<style scoped>\n",
       "    .dataframe tbody tr th:only-of-type {\n",
       "        vertical-align: middle;\n",
       "    }\n",
       "\n",
       "    .dataframe tbody tr th {\n",
       "        vertical-align: top;\n",
       "    }\n",
       "\n",
       "    .dataframe thead th {\n",
       "        text-align: right;\n",
       "    }\n",
       "</style>\n",
       "<table border=\"1\" class=\"dataframe\">\n",
       "  <thead>\n",
       "    <tr style=\"text-align: right;\">\n",
       "      <th></th>\n",
       "      <th>id</th>\n",
       "      <th>programTitle</th>\n",
       "      <th>summary</th>\n",
       "      <th>materialLength</th>\n",
       "      <th>broadcastChannel</th>\n",
       "      <th>seasonNumber</th>\n",
       "      <th>episodeNumber</th>\n",
       "      <th>onlyAvailableInSweden</th>\n",
       "      <th>summary</th>\n",
       "      <th>dfparticipant</th>\n",
       "    </tr>\n",
       "  </thead>\n",
       "  <tbody>\n",
       "    <tr>\n",
       "      <th>2058</th>\n",
       "      <td>1484528</td>\n",
       "      <td>Raskens</td>\n",
       "      <td>Om Fattigsverige i 1800-talets Småland med Sve...</td>\n",
       "      <td>3558</td>\n",
       "      <td>SVT 1</td>\n",
       "      <td></td>\n",
       "      <td>2</td>\n",
       "      <td>True</td>\n",
       "      <td>Om Fattigsverige i 1800-talets Småland med Sve...</td>\n",
       "      <td>[Kjell Bergqvist, Cecilia Nilsson, Göran Ragne...</td>\n",
       "    </tr>\n",
       "    <tr>\n",
       "      <th>4224</th>\n",
       "      <td>1399333</td>\n",
       "      <td>Friidrott: DN-galan</td>\n",
       "      <td>TV-sporten visar ett sammandrag från årets stj...</td>\n",
       "      <td>6921</td>\n",
       "      <td>SVT 1</td>\n",
       "      <td>0</td>\n",
       "      <td>1</td>\n",
       "      <td>True</td>\n",
       "      <td>TV-sporten visar ett sammandrag från årets stj...</td>\n",
       "      <td>[Birgitta Sandstedt, Vebjörn Rodal, Marlene Ot...</td>\n",
       "    </tr>\n",
       "    <tr>\n",
       "      <th>4488</th>\n",
       "      <td>2547058</td>\n",
       "      <td>N P Möller fastighetsskötare</td>\n",
       "      <td>Fem händelser ur livet på Solgatan 16.</td>\n",
       "      <td>1843</td>\n",
       "      <td>SVT2</td>\n",
       "      <td>1</td>\n",
       "      <td>4</td>\n",
       "      <td>True</td>\n",
       "      <td>Fem händelser ur livet på Solgatan 16.</td>\n",
       "      <td>[Leif GW Persson, Johanna Johnsson, Gary Engma...</td>\n",
       "    </tr>\n",
       "    <tr>\n",
       "      <th>90</th>\n",
       "      <td>15983271</td>\n",
       "      <td>Kurt Olssons julkalender</td>\n",
       "      <td>Julkalendern 1990</td>\n",
       "      <td>858</td>\n",
       "      <td>SVT1</td>\n",
       "      <td>0</td>\n",
       "      <td>2</td>\n",
       "      <td>True</td>\n",
       "      <td>Julkalendern 1990</td>\n",
       "      <td>[Lasse Brandeby, Hans Wiktorsson, Ulla Skoog, ...</td>\n",
       "    </tr>\n",
       "    <tr>\n",
       "      <th>2305</th>\n",
       "      <td>3074277</td>\n",
       "      <td>Trafikmagasinet</td>\n",
       "      <td>Magasin om fordon och trafik.</td>\n",
       "      <td>3474</td>\n",
       "      <td>SVT1</td>\n",
       "      <td></td>\n",
       "      <td>1</td>\n",
       "      <td>True</td>\n",
       "      <td>Magasin om fordon och trafik.</td>\n",
       "      <td>[Hans Åke Nordström, Christer Glenning, Carl-I...</td>\n",
       "    </tr>\n",
       "    <tr>\n",
       "      <th>...</th>\n",
       "      <td>...</td>\n",
       "      <td>...</td>\n",
       "      <td>...</td>\n",
       "      <td>...</td>\n",
       "      <td>...</td>\n",
       "      <td>...</td>\n",
       "      <td>...</td>\n",
       "      <td>...</td>\n",
       "      <td>...</td>\n",
       "      <td>...</td>\n",
       "    </tr>\n",
       "    <tr>\n",
       "      <th>3726</th>\n",
       "      <td>14106928</td>\n",
       "      <td></td>\n",
       "      <td>Arkivinslag med Jonas Sjöstedt (V) 2011 - 2014.</td>\n",
       "      <td>623</td>\n",
       "      <td>SVT1</td>\n",
       "      <td>1</td>\n",
       "      <td>121</td>\n",
       "      <td>True</td>\n",
       "      <td>Arkivinslag med Jonas Sjöstedt (V) 2011 - 2014.</td>\n",
       "      <td>[Anders Ygeman, Mats Hulth, Ulf Karlsson, Ingv...</td>\n",
       "    </tr>\n",
       "    <tr>\n",
       "      <th>2061</th>\n",
       "      <td>1484471</td>\n",
       "      <td>Raskens</td>\n",
       "      <td>Om Fattigsverige i 1800-talets Småland med Sve...</td>\n",
       "      <td>3357</td>\n",
       "      <td>SVT 1</td>\n",
       "      <td></td>\n",
       "      <td>5</td>\n",
       "      <td>True</td>\n",
       "      <td>Om Fattigsverige i 1800-talets Småland med Sve...</td>\n",
       "      <td>[Kjell Bergqvist, Cecilia Nilsson, Göran Ragne...</td>\n",
       "    </tr>\n",
       "    <tr>\n",
       "      <th>4295</th>\n",
       "      <td>1451622</td>\n",
       "      <td>Kungen och jag - och folket runt omkring</td>\n",
       "      <td>Tom Alandh följer kung Carl XVI Gustaf i 2 pro...</td>\n",
       "      <td>3456</td>\n",
       "      <td>SVT 2</td>\n",
       "      <td>0</td>\n",
       "      <td>1</td>\n",
       "      <td>True</td>\n",
       "      <td>Tom Alandh följer kung Carl XVI Gustaf i 2 pro...</td>\n",
       "      <td>[Bengt Wadensjö, Claes-Bertil Ytterberg, Karl ...</td>\n",
       "    </tr>\n",
       "    <tr>\n",
       "      <th>2825</th>\n",
       "      <td>1941650</td>\n",
       "      <td>Upp med händerna</td>\n",
       "      <td>Träningsprogram på tecknad svenska.</td>\n",
       "      <td>1121</td>\n",
       "      <td>SVT 2</td>\n",
       "      <td>0</td>\n",
       "      <td>1</td>\n",
       "      <td>True</td>\n",
       "      <td>Träningsprogram på tecknad svenska.</td>\n",
       "      <td>[Ingrid Persson, Einar Linde, Gunnel Linde, Ma...</td>\n",
       "    </tr>\n",
       "    <tr>\n",
       "      <th>3172</th>\n",
       "      <td>2764073</td>\n",
       "      <td></td>\n",
       "      <td>Freden efter Andra världskrigets slut firas i ...</td>\n",
       "      <td>141</td>\n",
       "      <td>SVT 2</td>\n",
       "      <td>1</td>\n",
       "      <td>172</td>\n",
       "      <td>True</td>\n",
       "      <td>Freden efter Andra världskrigets slut firas i ...</td>\n",
       "      <td>[Pia Sundhage, Roland Hedlund, Siw Malmkvist, ...</td>\n",
       "    </tr>\n",
       "  </tbody>\n",
       "</table>\n",
       "<p>100 rows × 10 columns</p>\n",
       "</div>"
      ],
      "text/plain": [
       "            id  ...                                      dfparticipant\n",
       "2058   1484528  ...  [Kjell Bergqvist, Cecilia Nilsson, Göran Ragne...\n",
       "4224   1399333  ...  [Birgitta Sandstedt, Vebjörn Rodal, Marlene Ot...\n",
       "4488   2547058  ...  [Leif GW Persson, Johanna Johnsson, Gary Engma...\n",
       "90    15983271  ...  [Lasse Brandeby, Hans Wiktorsson, Ulla Skoog, ...\n",
       "2305   3074277  ...  [Hans Åke Nordström, Christer Glenning, Carl-I...\n",
       "...        ...  ...                                                ...\n",
       "3726  14106928  ...  [Anders Ygeman, Mats Hulth, Ulf Karlsson, Ingv...\n",
       "2061   1484471  ...  [Kjell Bergqvist, Cecilia Nilsson, Göran Ragne...\n",
       "4295   1451622  ...  [Bengt Wadensjö, Claes-Bertil Ytterberg, Karl ...\n",
       "2825   1941650  ...  [Ingrid Persson, Einar Linde, Gunnel Linde, Ma...\n",
       "3172   2764073  ...  [Pia Sundhage, Roland Hedlund, Siw Malmkvist, ...\n",
       "\n",
       "[100 rows x 10 columns]"
      ]
     },
     "execution_count": 3,
     "metadata": {},
     "output_type": "execute_result"
    }
   ],
   "source": [
    "dftot.sample(100)"
   ]
  },
  {
   "cell_type": "code",
   "execution_count": 4,
   "metadata": {},
   "outputs": [
    {
     "data": {
      "text/plain": [
       "SVT 2              1828\n",
       "SVT1                934\n",
       "SVT2                318\n",
       "                     17\n",
       "NLOA                 11\n",
       "SVT 1 och SVT 2      10\n",
       "SVT  1                7\n",
       "TV2                   5\n",
       "SF journalen          4\n",
       "SVT                   2\n",
       "SVT 1, SVT 2          2\n",
       "SVT1\\n                2\n",
       "SVT 1                 2\n",
       "SVT  2                1\n",
       "SVT24                 1\n",
       "SVT 24                1\n",
       "SVT                   1\n",
       "SVT 2                 1\n",
       "Name: broadcastChannel, dtype: int64"
      ]
     },
     "execution_count": 4,
     "metadata": {},
     "output_type": "execute_result"
    }
   ],
   "source": [
    "dftot[\"broadcastChannel\"].value_counts()[1:50]  \n"
   ]
  },
  {
   "cell_type": "code",
   "execution_count": 5,
   "metadata": {},
   "outputs": [
    {
     "data": {
      "text/plain": [
       "False    101\n",
       "Name: onlyAvailableInSweden, dtype: int64"
      ]
     },
     "execution_count": 5,
     "metadata": {},
     "output_type": "execute_result"
    }
   ],
   "source": [
    "dftot[\"onlyAvailableInSweden\"].value_counts()[1:50]  "
   ]
  },
  {
   "cell_type": "code",
   "execution_count": 6,
   "metadata": {},
   "outputs": [
    {
     "data": {
      "text/plain": [
       "Öppet arkiv: Sport                                     119\n",
       "Öppet arkiv: fakta                                     107\n",
       "Varuhuset                                               63\n",
       "Öppet arkiv klipp: Nöje/underhållning                   62\n",
       "Öppet arkiv: humor                                      61\n",
       "Hem till byn                                            56\n",
       "ÖPPET ARKIV: KULTUR                                     56\n",
       "Goda grannar                                            49\n",
       "Storstad                                                48\n",
       "Öppet arkiv: barn                                       46\n",
       "Tillbaka till Vintergatan                               39\n",
       "Sunes jul                                               36\n",
       "Lösa förbindelser                                       36\n",
       "Melodifestivalen                                        35\n",
       "Stackarsramsor                                          35\n",
       "Spung 2.0                                               34\n",
       "Pippi Långstrump                                        33\n",
       "På spåret                                               32\n",
       "Julkalendern 1982 - Albert och Herberts julkalender     32\n",
       "Name: programTitle, dtype: int64"
      ]
     },
     "execution_count": 6,
     "metadata": {},
     "output_type": "execute_result"
    }
   ],
   "source": [
    "dftot[\"programTitle\"].value_counts()[1:20]  "
   ]
  },
  {
   "cell_type": "code",
   "execution_count": 7,
   "metadata": {},
   "outputs": [
    {
     "name": "stdout",
     "output_type": "stream",
     "text": [
      "<class 'pandas.core.frame.DataFrame'>\n",
      "RangeIndex: 5682 entries, 0 to 5681\n",
      "Data columns (total 10 columns):\n",
      " #   Column                 Non-Null Count  Dtype \n",
      "---  ------                 --------------  ----- \n",
      " 0   id                     5682 non-null   object\n",
      " 1   programTitle           5682 non-null   object\n",
      " 2   summary                5682 non-null   object\n",
      " 3   materialLength         5682 non-null   object\n",
      " 4   broadcastChannel       5682 non-null   object\n",
      " 5   seasonNumber           5682 non-null   object\n",
      " 6   episodeNumber          5682 non-null   object\n",
      " 7   onlyAvailableInSweden  5682 non-null   object\n",
      " 8   summary                5682 non-null   object\n",
      " 9   dfparticipant          5682 non-null   object\n",
      "dtypes: object(10)\n",
      "memory usage: 444.0+ KB\n"
     ]
    }
   ],
   "source": [
    "dftot.info()"
   ]
  },
  {
   "cell_type": "code",
   "execution_count": 11,
   "metadata": {},
   "outputs": [],
   "source": [
    "#dftot.explode('dfparticipant')\n",
    "participantSet = set()\n",
    "for index, row in dftot.iterrows():\n",
    "    if row['dfparticipant'] is not None:\n",
    "        for p in row['dfparticipant']:\n",
    "            participantSet.add(p)\n",
    "    "
   ]
  },
  {
   "cell_type": "code",
   "execution_count": 14,
   "metadata": {},
   "outputs": [
    {
     "name": "stdout",
     "output_type": "stream",
     "text": [
      "Length:  6451\n"
     ]
    }
   ],
   "source": [
    "print(\"Length: \", len(participantSet))"
   ]
  },
  {
   "cell_type": "code",
   "execution_count": 17,
   "metadata": {},
   "outputs": [
    {
     "name": "stdout",
     "output_type": "stream",
     "text": [
      "['Ulla Rodhe', 'The Latin Kings', 'Gun Holmqvist', 'Nils Lundgren', 'Carro Bergkvist', 'Stefan Comwell', 'Inga Ålenius', 'Halvard Jensen', 'Peje Emilsson', 'Kalle Westerdahl', 'Ittla Frodi', 'Tom Cruise', 'Walter Nicks', 'Karin Miller', 'Ulla Fornaeus', 'Kim Johansson', 'Tina Lenne', 'Lennart Holm', 'Ai', 'Elisabeth Aldén', 'Nils Fläcke', 'Antti Reini', 'Johanna Mork', 'Dan Lindhe', 'Hans-Elis Johansson', 'Rolf Lassgård', 'Rune Ek', 'J M Santana', 'Birgitta Dahl']\n"
     ]
    }
   ],
   "source": [
    "print( list(participantSet)[1:30])"
   ]
  },
  {
   "cell_type": "code",
   "execution_count": null,
   "metadata": {},
   "outputs": [],
   "source": []
  }
 ],
 "metadata": {
  "kernelspec": {
   "display_name": "Python 3",
   "language": "python",
   "name": "python3"
  },
  "language_info": {
   "codemirror_mode": {
    "name": "ipython",
    "version": 3
   },
   "file_extension": ".py",
   "mimetype": "text/x-python",
   "name": "python",
   "nbconvert_exporter": "python",
   "pygments_lexer": "ipython3",
   "version": "3.8.0"
  }
 },
 "nbformat": 4,
 "nbformat_minor": 4
}
