{
 "cells": [
  {
   "cell_type": "markdown",
   "metadata": {},
   "source": [
    "## Naturvårdsregistret\n",
    "OmradeService [Resource GET /omrade ](http://nvpub.vic-metria.nu/naturvardsregistret/resource_OmradeService.html#resource_OmradeService_find_GET) \n"
   ]
  },
  {
   "cell_type": "code",
   "execution_count": 2,
   "metadata": {},
   "outputs": [],
   "source": [
    "import requests\n",
    "import json\n",
    "url = \"http://nvpub.vic-metria.nu/naturvardsregistret/rest/omrade\"\n",
    "req = requests.get(url) \n",
    "# Ensure we fail fast if the web request failed\n",
    "req.raise_for_status() \n",
    "data = json.loads(req.text)"
   ]
  },
  {
   "cell_type": "code",
   "execution_count": 4,
   "metadata": {},
   "outputs": [],
   "source": [
    "import pandas as pd\n",
    "df = pd.DataFrame(data)"
   ]
  },
  {
   "cell_type": "code",
   "execution_count": 5,
   "metadata": {},
   "outputs": [
    {
     "data": {
      "text/html": [
       "<div>\n",
       "<style scoped>\n",
       "    .dataframe tbody tr th:only-of-type {\n",
       "        vertical-align: middle;\n",
       "    }\n",
       "\n",
       "    .dataframe tbody tr th {\n",
       "        vertical-align: top;\n",
       "    }\n",
       "\n",
       "    .dataframe thead th {\n",
       "        text-align: right;\n",
       "    }\n",
       "</style>\n",
       "<table border=\"1\" class=\"dataframe\">\n",
       "  <thead>\n",
       "    <tr style=\"text-align: right;\">\n",
       "      <th></th>\n",
       "      <th>omrade</th>\n",
       "    </tr>\n",
       "  </thead>\n",
       "  <tbody>\n",
       "    <tr>\n",
       "      <th>0</th>\n",
       "      <td>{'areaHa': 633.58, 'atom.link': [{'@rel': 'mil...</td>\n",
       "    </tr>\n",
       "    <tr>\n",
       "      <th>1</th>\n",
       "      <td>{'areaHa': 13.736, 'atom.link': [{'@rel': 'mil...</td>\n",
       "    </tr>\n",
       "    <tr>\n",
       "      <th>2</th>\n",
       "      <td>{'areaHa': 3.615, 'atom.link': [{'@rel': 'milj...</td>\n",
       "    </tr>\n",
       "    <tr>\n",
       "      <th>3</th>\n",
       "      <td>{'areaHa': 0.564, 'atom.link': [{'@rel': 'milj...</td>\n",
       "    </tr>\n",
       "    <tr>\n",
       "      <th>4</th>\n",
       "      <td>{'areaHa': 1619.646, 'atom.link': [{'@rel': 'm...</td>\n",
       "    </tr>\n",
       "  </tbody>\n",
       "</table>\n",
       "</div>"
      ],
      "text/plain": [
       "                                              omrade\n",
       "0  {'areaHa': 633.58, 'atom.link': [{'@rel': 'mil...\n",
       "1  {'areaHa': 13.736, 'atom.link': [{'@rel': 'mil...\n",
       "2  {'areaHa': 3.615, 'atom.link': [{'@rel': 'milj...\n",
       "3  {'areaHa': 0.564, 'atom.link': [{'@rel': 'milj...\n",
       "4  {'areaHa': 1619.646, 'atom.link': [{'@rel': 'm..."
      ]
     },
     "execution_count": 5,
     "metadata": {},
     "output_type": "execute_result"
    }
   ],
   "source": [
    "df.head()"
   ]
  },
  {
   "cell_type": "code",
   "execution_count": 9,
   "metadata": {},
   "outputs": [
    {
     "data": {
      "text/plain": [
       "<bound method DataFrame.info of                                                omrade\n",
       "0   {'areaHa': 633.58, 'atom.link': [{'@rel': 'mil...\n",
       "1   {'areaHa': 13.736, 'atom.link': [{'@rel': 'mil...\n",
       "2   {'areaHa': 3.615, 'atom.link': [{'@rel': 'milj...\n",
       "3   {'areaHa': 0.564, 'atom.link': [{'@rel': 'milj...\n",
       "4   {'areaHa': 1619.646, 'atom.link': [{'@rel': 'm...\n",
       "..                                                ...\n",
       "95  {'areaHa': 6.824, 'atom.link': [{'@rel': 'milj...\n",
       "96  {'areaHa': 0.719, 'atom.link': [{'@rel': 'milj...\n",
       "97  {'areaHa': 1.104, 'atom.link': [{'@rel': 'milj...\n",
       "98  {'areaHa': 2.555, 'atom.link': [{'@rel': 'milj...\n",
       "99  {'areaHa': 19.848, 'atom.link': [{'@rel': 'mil...\n",
       "\n",
       "[100 rows x 1 columns]>"
      ]
     },
     "execution_count": 9,
     "metadata": {},
     "output_type": "execute_result"
    }
   ],
   "source": [
    "df.info"
   ]
  },
  {
   "cell_type": "code",
   "execution_count": null,
   "metadata": {},
   "outputs": [],
   "source": []
  }
 ],
 "metadata": {
  "kernelspec": {
   "display_name": "Python 3",
   "language": "python",
   "name": "python3"
  },
  "language_info": {
   "codemirror_mode": {
    "name": "ipython",
    "version": 3
   },
   "file_extension": ".py",
   "mimetype": "text/x-python",
   "name": "python",
   "nbconvert_exporter": "python",
   "pygments_lexer": "ipython3",
   "version": "3.9.13"
  }
 },
 "nbformat": 4,
 "nbformat_minor": 4
}
