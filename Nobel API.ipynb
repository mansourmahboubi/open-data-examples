{
 "cells": [
  {
   "cell_type": "markdown",
   "metadata": {},
   "source": [
    "# Nobel API - check Wikidata and Nobel API\n",
    "version. 0.42 added video and view statistics for Nobelweek 5-12 October 2020\n",
    "\n",
    "The purpose of this Notebook is to have Nobelprize winners in Wikidata in synch with the prizewinners at Nobelprize... lesson learned is that we also find vandalization in Wikidata....\n",
    "\n",
    "\n",
    "* This [Jupyter Notebook](https://tinyurl.com/SynchWSNobel)  \n",
    "\n",
    "\n",
    "  * Wikidata property [Property:P8024](https://www.wikidata.org/wiki/Property:P8024)\n",
    "  * [Developer zone nobelprize.org](https://www.nobelprize.org/about/developer-zone-2/)\n",
    "      * maybe better API is [api.nobelprize.org/2.0/laureates](https://api.nobelprize.org/2.0/laureates)\n",
    "  * [video](https://youtu.be/Iu1JtefueM8) explaining what we do\n",
    "      \n",
    "#### Other sources we sync\n",
    "* Famous people on Uppsala old cemetery [Kulturpersoner Uppsalakyrkogård](https://github.com/salgo60/open-data-examples/blob/master/Check%20WD%20kulturpersoner%20uppsalakyrkogardar.ipynb)\n",
    "* Swedish Literature Bank - [Litteraturbanken](https://github.com/salgo60/open-data-examples/blob/master/Litteraturbanken%20Author.ipynb) \n",
    "  * WD property [P5101](https://www.wikidata.org/wiki/Property_talk:P5101) [P5123](https://www.wikidata.org/wiki/Property_talk:P5123)\n",
    "* [Nobelprize.org](https://github.com/salgo60/open-data-examples/blob/master/Nobel%20API.ipynb)\n",
    "  * WD [property 8024](https://www.wikidata.org/wiki/Property:P8024)\n",
    "* The Swedish National Archive [SBL](https://github.com/salgo60/open-data-examples/blob/master/SBL.ipynb) \n",
    "  * WD [property 3217](https://www.wikidata.org/wiki/Property:P3217) \n",
    "* The Biographical Dictionary of Swedish Women [SKBL](https://github.com/salgo60/open-data-examples/blob/master/Svenskt%20Kvinnobiografiskt%20lexikon%20part%203.ipynb)\n",
    "  * WD [property 4963](https://www.wikidata.org/wiki/Property:P4963)\n",
    "* Swedish Academy - [Svenska Akademien](https://github.com/salgo60/open-data-examples/blob/master/Svenska%20Akademien.ipynb) \n",
    "  * WD [property 5325](https://www.wikidata.org/wiki/Property:P5325) \n"
   ]
  },
  {
   "cell_type": "code",
   "execution_count": 1,
   "metadata": {},
   "outputs": [
    {
     "name": "stdout",
     "output_type": "stream",
     "text": [
      "Last run:  2020-10-12 12:13:18.575725\n"
     ]
    }
   ],
   "source": [
    "from datetime import datetime\n",
    "start_time = datetime.now()\n",
    "print(\"Last run: \", datetime.now())"
   ]
  },
  {
   "cell_type": "code",
   "execution_count": 2,
   "metadata": {},
   "outputs": [],
   "source": [
    "import urllib3, json\n",
    "import pandas as pd \n",
    "http = urllib3.PoolManager() \n",
    "\n",
    "url =\"https://api.nobelprize.org/2.0/laureates?offset=0&limit=1500\"\n",
    "dftot = pd.DataFrame()\n",
    "r = http.request('GET', url)\n",
    "data = json.loads(r.data)\n",
    "dftot = dftot.append(pd.DataFrame(data[\"laureates\"]),sort=False)\n"
   ]
  },
  {
   "cell_type": "code",
   "execution_count": 3,
   "metadata": {},
   "outputs": [
    {
     "name": "stdout",
     "output_type": "stream",
     "text": [
      "<class 'pandas.core.frame.DataFrame'>\n",
      "RangeIndex: 955 entries, 0 to 954\n",
      "Data columns (total 18 columns):\n",
      " #   Column           Non-Null Count  Dtype \n",
      "---  ------           --------------  ----- \n",
      " 0   id               955 non-null    object\n",
      " 1   knownName        930 non-null    object\n",
      " 2   givenName        930 non-null    object\n",
      " 3   familyName       928 non-null    object\n",
      " 4   fullName         930 non-null    object\n",
      " 5   gender           930 non-null    object\n",
      " 6   birth            929 non-null    object\n",
      " 7   links            955 non-null    object\n",
      " 8   nobelPrizes      955 non-null    object\n",
      " 9   death            629 non-null    object\n",
      " 10  orgName          25 non-null     object\n",
      " 11  nativeName       24 non-null     object\n",
      " 12  acronym          11 non-null     object\n",
      " 13  founded          24 non-null     object\n",
      " 14  penName          11 non-null     object\n",
      " 15  birthCountry     1 non-null      object\n",
      " 16  birthCountryNow  1 non-null      object\n",
      " 17  birthContinent   1 non-null      object\n",
      "dtypes: object(18)\n",
      "memory usage: 134.4+ KB\n"
     ]
    }
   ],
   "source": [
    "dftot.info()"
   ]
  },
  {
   "cell_type": "code",
   "execution_count": 16,
   "metadata": {},
   "outputs": [],
   "source": [
    "dftot[\"id\"] = dftot[\"id\"].astype(\"int\")\n",
    "\n",
    "dftot.sort_values(by=['id'], ascending=[True], inplace=True)\n",
    "#dftot.tail(10)\n"
   ]
  },
  {
   "cell_type": "code",
   "execution_count": 5,
   "metadata": {},
   "outputs": [],
   "source": [
    "#dftot.sample(10)"
   ]
  },
  {
   "cell_type": "code",
   "execution_count": 6,
   "metadata": {},
   "outputs": [
    {
     "name": "stdout",
     "output_type": "stream",
     "text": [
      "<class 'pandas.core.frame.DataFrame'>\n",
      "RangeIndex: 955 entries, 0 to 954\n",
      "Data columns (total 7 columns):\n",
      " #   Column     Non-Null Count  Dtype \n",
      "---  ------     --------------  ----- \n",
      " 0   id         955 non-null    int64 \n",
      " 1   name_en    930 non-null    object\n",
      " 2   name_se    930 non-null    object\n",
      " 3   link       955 non-null    object\n",
      " 4   gender     930 non-null    object\n",
      " 5   awardYear  955 non-null    object\n",
      " 6   category   955 non-null    object\n",
      "dtypes: int64(1), object(6)\n",
      "memory usage: 52.4+ KB\n"
     ]
    }
   ],
   "source": [
    "listNobel = []\n",
    "for index,row in dftot.iterrows():\n",
    "    new_item = dict()\n",
    "    new_item['id'] = row['id']\n",
    "    try:\n",
    "        new_item['name_en'] = row['knownName']['en']\n",
    "    except:\n",
    "        pass\n",
    "    try:\n",
    "        new_item['name_se'] = row['knownName']['se']\n",
    "    except:\n",
    "        pass\n",
    "    new_item['link'] = row['links']['href']\n",
    "    try:\n",
    "        new_item['awardYear'] = row['nobelPrizes'][0]['awardYear']\n",
    "        new_item['category'] = row['nobelPrizes'][0]['category']['en']\n",
    "    except:\n",
    "        pass\n",
    "    try:\n",
    "        new_item['gender'] = row['gender']\n",
    "    except:\n",
    "        pass\n",
    "    listNobel.append(new_item)\n",
    "NobelTot = pd.DataFrame(listNobel,\n",
    "                  columns=['id','name_en','name_se','link','gender','awardYear','category'])\n",
    "\n",
    "NobelTot.info()    \n"
   ]
  },
  {
   "cell_type": "markdown",
   "metadata": {},
   "source": [
    "## Check Wikidata matches"
   ]
  },
  {
   "cell_type": "code",
   "execution_count": 7,
   "metadata": {},
   "outputs": [],
   "source": [
    "# pip install sparqlwrapper\n",
    "# https://rdflib.github.io/sparqlwrapper/\n",
    "\n",
    "import sys\n",
    "from SPARQLWrapper import SPARQLWrapper, JSON\n",
    "\n",
    "endpoint_url = \"https://query.wikidata.org/sparql\"\n",
    "\n",
    "query = \"\"\"SELECT ?item ?itemLabel ?NobelAPI WHERE {\n",
    "  ?item wdt:P8024 ?NobelAPI.\n",
    "  SERVICE wikibase:label { bd:serviceParam wikibase:language \"en\". }\n",
    "} order by xsd:integer(?NobelAPI)\"\"\"\n",
    "\n",
    "\n",
    "def get_sparql_dataframe(endpoint_url, query):\n",
    "    \"\"\"\n",
    "    Helper function to convert SPARQL results into a Pandas data frame.\n",
    "    \"\"\"\n",
    "    user_agent = \"salgo60/%s.%s\" % (sys.version_info[0], sys.version_info[1])\n",
    " \n",
    "    sparql = SPARQLWrapper(endpoint_url, agent=user_agent)\n",
    "    sparql.setQuery(query)\n",
    "    sparql.setReturnFormat(JSON)\n",
    "    result = sparql.query()\n",
    "\n",
    "    processed_results = json.load(result.response)\n",
    "    cols = processed_results['head']['vars']\n",
    "    out = []\n",
    "    for row in processed_results['results']['bindings']:\n",
    "        item = []\n",
    "        for c in cols:\n",
    "            item.append(row.get(c, {}).get('value'))\n",
    "        out.append(item)\n",
    "\n",
    "    return pd.DataFrame(out, columns=cols)\n",
    "\n",
    "WDNobel = get_sparql_dataframe(endpoint_url, query)"
   ]
  },
  {
   "cell_type": "code",
   "execution_count": 8,
   "metadata": {},
   "outputs": [
    {
     "name": "stdout",
     "output_type": "stream",
     "text": [
      "<class 'pandas.core.frame.DataFrame'>\n",
      "RangeIndex: 955 entries, 0 to 954\n",
      "Data columns (total 3 columns):\n",
      " #   Column     Non-Null Count  Dtype \n",
      "---  ------     --------------  ----- \n",
      " 0   item       955 non-null    object\n",
      " 1   itemLabel  955 non-null    object\n",
      " 2   NobelAPI   955 non-null    int64 \n",
      "dtypes: int64(1), object(2)\n",
      "memory usage: 22.5+ KB\n"
     ]
    }
   ],
   "source": [
    "WDNobel[\"NobelAPI\"] = WDNobel[\"NobelAPI\"].astype(\"int\")\n",
    "WDNobel.info()"
   ]
  },
  {
   "cell_type": "markdown",
   "metadata": {},
   "source": [
    "### Compare WD <-> Nobel "
   ]
  },
  {
   "cell_type": "code",
   "execution_count": 9,
   "metadata": {},
   "outputs": [
    {
     "data": {
      "text/html": [
       "<div>\n",
       "<style scoped>\n",
       "    .dataframe tbody tr th:only-of-type {\n",
       "        vertical-align: middle;\n",
       "    }\n",
       "\n",
       "    .dataframe tbody tr th {\n",
       "        vertical-align: top;\n",
       "    }\n",
       "\n",
       "    .dataframe thead th {\n",
       "        text-align: right;\n",
       "    }\n",
       "</style>\n",
       "<table border=\"1\" class=\"dataframe\">\n",
       "  <thead>\n",
       "    <tr style=\"text-align: right;\">\n",
       "      <th></th>\n",
       "      <th>item</th>\n",
       "      <th>itemLabel</th>\n",
       "      <th>NobelAPI</th>\n",
       "      <th>id</th>\n",
       "      <th>name_en</th>\n",
       "      <th>name_se</th>\n",
       "      <th>link</th>\n",
       "      <th>gender</th>\n",
       "      <th>awardYear</th>\n",
       "      <th>category</th>\n",
       "      <th>WD_Nobel</th>\n",
       "    </tr>\n",
       "  </thead>\n",
       "  <tbody>\n",
       "    <tr>\n",
       "      <th>945</th>\n",
       "      <td>http://www.wikidata.org/entity/Q22669757</td>\n",
       "      <td>Charles M. Rice</td>\n",
       "      <td>987</td>\n",
       "      <td>987</td>\n",
       "      <td>Charles M. Rice</td>\n",
       "      <td>Charles M. Rice</td>\n",
       "      <td>http://masterdataapi.nobelprize.org/2/laureate...</td>\n",
       "      <td>male</td>\n",
       "      <td>2020</td>\n",
       "      <td>Physiology or Medicine</td>\n",
       "      <td>both</td>\n",
       "    </tr>\n",
       "    <tr>\n",
       "      <th>946</th>\n",
       "      <td>http://www.wikidata.org/entity/Q193803</td>\n",
       "      <td>Roger Penrose</td>\n",
       "      <td>988</td>\n",
       "      <td>988</td>\n",
       "      <td>Roger Penrose</td>\n",
       "      <td>Roger Penrose</td>\n",
       "      <td>http://masterdataapi.nobelprize.org/2/laureate...</td>\n",
       "      <td>male</td>\n",
       "      <td>2020</td>\n",
       "      <td>Physics</td>\n",
       "      <td>both</td>\n",
       "    </tr>\n",
       "    <tr>\n",
       "      <th>947</th>\n",
       "      <td>http://www.wikidata.org/entity/Q65807</td>\n",
       "      <td>Reinhard Genzel</td>\n",
       "      <td>989</td>\n",
       "      <td>989</td>\n",
       "      <td>Reinhard Genzel</td>\n",
       "      <td>Reinhard Genzel</td>\n",
       "      <td>http://masterdataapi.nobelprize.org/2/laureate...</td>\n",
       "      <td>male</td>\n",
       "      <td>2020</td>\n",
       "      <td>Physics</td>\n",
       "      <td>both</td>\n",
       "    </tr>\n",
       "    <tr>\n",
       "      <th>948</th>\n",
       "      <td>http://www.wikidata.org/entity/Q493956</td>\n",
       "      <td>Andrea M. Ghez</td>\n",
       "      <td>990</td>\n",
       "      <td>990</td>\n",
       "      <td>Andrea Ghez</td>\n",
       "      <td>Andrea Ghez</td>\n",
       "      <td>http://masterdataapi.nobelprize.org/2/laureate...</td>\n",
       "      <td>female</td>\n",
       "      <td>2020</td>\n",
       "      <td>Physics</td>\n",
       "      <td>both</td>\n",
       "    </tr>\n",
       "    <tr>\n",
       "      <th>949</th>\n",
       "      <td>http://www.wikidata.org/entity/Q17280087</td>\n",
       "      <td>Emmanuelle Charpentier</td>\n",
       "      <td>991</td>\n",
       "      <td>991</td>\n",
       "      <td>Emmanuelle Charpentier</td>\n",
       "      <td>Emmanuelle Charpentier</td>\n",
       "      <td>http://masterdataapi.nobelprize.org/2/laureate...</td>\n",
       "      <td>female</td>\n",
       "      <td>2020</td>\n",
       "      <td>Chemistry</td>\n",
       "      <td>both</td>\n",
       "    </tr>\n",
       "    <tr>\n",
       "      <th>950</th>\n",
       "      <td>http://www.wikidata.org/entity/Q56068</td>\n",
       "      <td>Jennifer Doudna</td>\n",
       "      <td>992</td>\n",
       "      <td>992</td>\n",
       "      <td>Jennifer A. Doudna</td>\n",
       "      <td>Jennifer A. Doudna</td>\n",
       "      <td>http://masterdataapi.nobelprize.org/2/laureate...</td>\n",
       "      <td>female</td>\n",
       "      <td>2020</td>\n",
       "      <td>Chemistry</td>\n",
       "      <td>both</td>\n",
       "    </tr>\n",
       "    <tr>\n",
       "      <th>951</th>\n",
       "      <td>http://www.wikidata.org/entity/Q2344210</td>\n",
       "      <td>Louise Glück</td>\n",
       "      <td>993</td>\n",
       "      <td>993</td>\n",
       "      <td>Louise Glück</td>\n",
       "      <td>Louise Glück</td>\n",
       "      <td>http://masterdataapi.nobelprize.org/2/laureate...</td>\n",
       "      <td>female</td>\n",
       "      <td>2020</td>\n",
       "      <td>Literature</td>\n",
       "      <td>both</td>\n",
       "    </tr>\n",
       "    <tr>\n",
       "      <th>952</th>\n",
       "      <td>http://www.wikidata.org/entity/Q204344</td>\n",
       "      <td>World Food Programme</td>\n",
       "      <td>994</td>\n",
       "      <td>994</td>\n",
       "      <td>NaN</td>\n",
       "      <td>NaN</td>\n",
       "      <td>http://masterdataapi.nobelprize.org/2/laureate...</td>\n",
       "      <td>NaN</td>\n",
       "      <td>2020</td>\n",
       "      <td>Peace</td>\n",
       "      <td>both</td>\n",
       "    </tr>\n",
       "    <tr>\n",
       "      <th>953</th>\n",
       "      <td>http://www.wikidata.org/entity/Q1359990</td>\n",
       "      <td>Paul Milgrom</td>\n",
       "      <td>995</td>\n",
       "      <td>995</td>\n",
       "      <td>Paul R. Milgrom</td>\n",
       "      <td>Paul R. Milgrom</td>\n",
       "      <td>http://masterdataapi.nobelprize.org/2/laureate...</td>\n",
       "      <td>male</td>\n",
       "      <td>2020</td>\n",
       "      <td>Economic Sciences</td>\n",
       "      <td>both</td>\n",
       "    </tr>\n",
       "    <tr>\n",
       "      <th>954</th>\n",
       "      <td>http://www.wikidata.org/entity/Q377265</td>\n",
       "      <td>Robert B. Wilson</td>\n",
       "      <td>996</td>\n",
       "      <td>996</td>\n",
       "      <td>Robert B. Wilson</td>\n",
       "      <td>Robert B. Wilson</td>\n",
       "      <td>http://masterdataapi.nobelprize.org/2/laureate...</td>\n",
       "      <td>male</td>\n",
       "      <td>2020</td>\n",
       "      <td>Economic Sciences</td>\n",
       "      <td>both</td>\n",
       "    </tr>\n",
       "  </tbody>\n",
       "</table>\n",
       "</div>"
      ],
      "text/plain": [
       "                                         item  ... WD_Nobel\n",
       "945  http://www.wikidata.org/entity/Q22669757  ...     both\n",
       "946    http://www.wikidata.org/entity/Q193803  ...     both\n",
       "947     http://www.wikidata.org/entity/Q65807  ...     both\n",
       "948    http://www.wikidata.org/entity/Q493956  ...     both\n",
       "949  http://www.wikidata.org/entity/Q17280087  ...     both\n",
       "950     http://www.wikidata.org/entity/Q56068  ...     both\n",
       "951   http://www.wikidata.org/entity/Q2344210  ...     both\n",
       "952    http://www.wikidata.org/entity/Q204344  ...     both\n",
       "953   http://www.wikidata.org/entity/Q1359990  ...     both\n",
       "954    http://www.wikidata.org/entity/Q377265  ...     both\n",
       "\n",
       "[10 rows x 11 columns]"
      ]
     },
     "execution_count": 9,
     "metadata": {},
     "output_type": "execute_result"
    }
   ],
   "source": [
    "dfmerge = pd.merge(WDNobel, NobelTot,how='outer', left_on=\"NobelAPI\",right_on=\"id\",indicator=True)\n",
    "dfmerge['_merge'] = dfmerge['_merge'].str.replace('left_only','WD_only').str.replace('right_only','Nobel_only')\n",
    "dfmerge.rename(columns={\"_merge\": \"WD_Nobel\"},inplace = True)    \n",
    "dfmerge[-10:]  "
   ]
  },
  {
   "cell_type": "markdown",
   "metadata": {},
   "source": [
    "#### Check that Wikidata and api.nobelprize.org is in synch"
   ]
  },
  {
   "cell_type": "code",
   "execution_count": 10,
   "metadata": {},
   "outputs": [
    {
     "data": {
      "text/plain": [
       "both    955\n",
       "Name: WD_Nobel, dtype: int64"
      ]
     },
     "execution_count": 10,
     "metadata": {},
     "output_type": "execute_result"
    }
   ],
   "source": [
    "dfmerge[\"WD_Nobel\"].value_counts()  "
   ]
  },
  {
   "cell_type": "code",
   "execution_count": 11,
   "metadata": {},
   "outputs": [
    {
     "data": {
      "text/html": [
       "<table border=\"1\" class=\"dataframe\">\n",
       "  <thead>\n",
       "    <tr style=\"text-align: right;\">\n",
       "      <th></th>\n",
       "      <th>item</th>\n",
       "      <th>itemLabel</th>\n",
       "      <th>NobelAPI</th>\n",
       "      <th>id</th>\n",
       "      <th>name_en</th>\n",
       "      <th>name_se</th>\n",
       "      <th>link</th>\n",
       "      <th>gender</th>\n",
       "      <th>awardYear</th>\n",
       "      <th>category</th>\n",
       "      <th>WD_Nobel</th>\n",
       "      <th>Nobel</th>\n",
       "      <th>Nobelhtml</th>\n",
       "    </tr>\n",
       "  </thead>\n",
       "  <tbody>\n",
       "  </tbody>\n",
       "</table>"
      ],
      "text/plain": [
       "<IPython.core.display.HTML object>"
      ]
     },
     "execution_count": 11,
     "metadata": {},
     "output_type": "execute_result"
    }
   ],
   "source": [
    "Nobelonly = dfmerge[dfmerge[\"WD_Nobel\"]==\"Nobel_only\"].copy() \n",
    "\n",
    "from IPython.display import HTML\n",
    "Nobelonly[\"Nobel\"] = \"<a href='https://api.nobelprize.org/v1/laureate.json?id=\" + Nobelonly[\"id\"] + \"'>link</a>\"\n",
    "Nobelonly[\"Nobelhtml\"] = \"<a href='https://www.nobelprize.org/laureate/\" + Nobelonly[\"id\"] + \"'>html</a>\"\n",
    "pd.set_option(\"display.max.columns\", None) \n",
    "HTML(Nobelonly.to_html(escape=False))"
   ]
  },
  {
   "cell_type": "code",
   "execution_count": 12,
   "metadata": {},
   "outputs": [
    {
     "data": {
      "text/html": [
       "<div>\n",
       "<style scoped>\n",
       "    .dataframe tbody tr th:only-of-type {\n",
       "        vertical-align: middle;\n",
       "    }\n",
       "\n",
       "    .dataframe tbody tr th {\n",
       "        vertical-align: top;\n",
       "    }\n",
       "\n",
       "    .dataframe thead th {\n",
       "        text-align: right;\n",
       "    }\n",
       "</style>\n",
       "<table border=\"1\" class=\"dataframe\">\n",
       "  <thead>\n",
       "    <tr style=\"text-align: right;\">\n",
       "      <th></th>\n",
       "      <th>item</th>\n",
       "      <th>itemLabel</th>\n",
       "      <th>NobelAPI</th>\n",
       "      <th>id</th>\n",
       "      <th>name_en</th>\n",
       "      <th>name_se</th>\n",
       "      <th>link</th>\n",
       "      <th>gender</th>\n",
       "      <th>awardYear</th>\n",
       "      <th>category</th>\n",
       "      <th>WD_Nobel</th>\n",
       "    </tr>\n",
       "  </thead>\n",
       "  <tbody>\n",
       "  </tbody>\n",
       "</table>\n",
       "</div>"
      ],
      "text/plain": [
       "Empty DataFrame\n",
       "Columns: [item, itemLabel, NobelAPI, id, name_en, name_se, link, gender, awardYear, category, WD_Nobel]\n",
       "Index: []"
      ]
     },
     "execution_count": 12,
     "metadata": {},
     "output_type": "execute_result"
    }
   ],
   "source": [
    "WDonly = dfmerge[dfmerge[\"WD_Nobel\"]==\"WD_only\"].copy() \n",
    "WDonly"
   ]
  },
  {
   "cell_type": "code",
   "execution_count": 13,
   "metadata": {},
   "outputs": [
    {
     "name": "stdout",
     "output_type": "stream",
     "text": [
      "End run:  2020-10-12 12:13:22.146677\n"
     ]
    }
   ],
   "source": [
    "print(\"End run: \", datetime.now())"
   ]
  },
  {
   "cell_type": "code",
   "execution_count": 14,
   "metadata": {},
   "outputs": [
    {
     "name": "stdout",
     "output_type": "stream",
     "text": [
      "Time elapsed (hh:mm:ss.ms) 0:00:03.582088\n"
     ]
    }
   ],
   "source": [
    "print('Time elapsed (hh:mm:ss.ms) {}'.format(datetime.now() - start_time))"
   ]
  },
  {
   "cell_type": "markdown",
   "metadata": {},
   "source": [
    "#### Lesson learned\n",
    "Its a delay when the html page is linked after the announcement --> we do this list below to check when its ready and we can add it to Wikidata and the WIkipedia article"
   ]
  },
  {
   "cell_type": "code",
   "execution_count": 15,
   "metadata": {},
   "outputs": [
    {
     "data": {
      "text/html": [
       "<table border=\"1\" class=\"dataframe\">\n",
       "  <thead>\n",
       "    <tr style=\"text-align: right;\">\n",
       "      <th></th>\n",
       "      <th>linkhtml</th>\n",
       "      <th>awardYear</th>\n",
       "      <th>name_en</th>\n",
       "      <th>category</th>\n",
       "      <th>wd</th>\n",
       "      <th>linkjson</th>\n",
       "    </tr>\n",
       "  </thead>\n",
       "  <tbody>\n",
       "    <tr>\n",
       "      <th>940</th>\n",
       "      <td><a href='https://www.nobelprize.org/laureate/982'>html</a></td>\n",
       "      <td>2019</td>\n",
       "      <td>Abhijit Banerjee</td>\n",
       "      <td>Economic Sciences</td>\n",
       "      <td><a href='http://www.wikidata.org/entity/Q320578'>Wikidata</a></td>\n",
       "      <td><a href='https://api.nobelprize.org/v1/laureate.json?id=982'>json</a></td>\n",
       "    </tr>\n",
       "    <tr>\n",
       "      <th>941</th>\n",
       "      <td><a href='https://www.nobelprize.org/laureate/983'>html</a></td>\n",
       "      <td>2019</td>\n",
       "      <td>Esther Duflo</td>\n",
       "      <td>Economic Sciences</td>\n",
       "      <td><a href='http://www.wikidata.org/entity/Q434509'>Wikidata</a></td>\n",
       "      <td><a href='https://api.nobelprize.org/v1/laureate.json?id=983'>json</a></td>\n",
       "    </tr>\n",
       "    <tr>\n",
       "      <th>942</th>\n",
       "      <td><a href='https://www.nobelprize.org/laureate/984'>html</a></td>\n",
       "      <td>2019</td>\n",
       "      <td>Michael Kremer</td>\n",
       "      <td>Economic Sciences</td>\n",
       "      <td><a href='http://www.wikidata.org/entity/Q1635006'>Wikidata</a></td>\n",
       "      <td><a href='https://api.nobelprize.org/v1/laureate.json?id=984'>json</a></td>\n",
       "    </tr>\n",
       "    <tr>\n",
       "      <th>943</th>\n",
       "      <td><a href='https://www.nobelprize.org/laureate/985'>html</a></td>\n",
       "      <td>2020</td>\n",
       "      <td>Harvey J. Alter</td>\n",
       "      <td>Physiology or Medicine</td>\n",
       "      <td><a href='http://www.wikidata.org/entity/Q5677307'>Wikidata</a></td>\n",
       "      <td><a href='https://api.nobelprize.org/v1/laureate.json?id=985'>json</a></td>\n",
       "    </tr>\n",
       "    <tr>\n",
       "      <th>944</th>\n",
       "      <td><a href='https://www.nobelprize.org/laureate/986'>html</a></td>\n",
       "      <td>2020</td>\n",
       "      <td>Michael Houghton</td>\n",
       "      <td>Physiology or Medicine</td>\n",
       "      <td><a href='http://www.wikidata.org/entity/Q1927895'>Wikidata</a></td>\n",
       "      <td><a href='https://api.nobelprize.org/v1/laureate.json?id=986'>json</a></td>\n",
       "    </tr>\n",
       "    <tr>\n",
       "      <th>945</th>\n",
       "      <td><a href='https://www.nobelprize.org/laureate/987'>html</a></td>\n",
       "      <td>2020</td>\n",
       "      <td>Charles M. Rice</td>\n",
       "      <td>Physiology or Medicine</td>\n",
       "      <td><a href='http://www.wikidata.org/entity/Q22669757'>Wikidata</a></td>\n",
       "      <td><a href='https://api.nobelprize.org/v1/laureate.json?id=987'>json</a></td>\n",
       "    </tr>\n",
       "    <tr>\n",
       "      <th>946</th>\n",
       "      <td><a href='https://www.nobelprize.org/laureate/988'>html</a></td>\n",
       "      <td>2020</td>\n",
       "      <td>Roger Penrose</td>\n",
       "      <td>Physics</td>\n",
       "      <td><a href='http://www.wikidata.org/entity/Q193803'>Wikidata</a></td>\n",
       "      <td><a href='https://api.nobelprize.org/v1/laureate.json?id=988'>json</a></td>\n",
       "    </tr>\n",
       "    <tr>\n",
       "      <th>947</th>\n",
       "      <td><a href='https://www.nobelprize.org/laureate/989'>html</a></td>\n",
       "      <td>2020</td>\n",
       "      <td>Reinhard Genzel</td>\n",
       "      <td>Physics</td>\n",
       "      <td><a href='http://www.wikidata.org/entity/Q65807'>Wikidata</a></td>\n",
       "      <td><a href='https://api.nobelprize.org/v1/laureate.json?id=989'>json</a></td>\n",
       "    </tr>\n",
       "    <tr>\n",
       "      <th>948</th>\n",
       "      <td><a href='https://www.nobelprize.org/laureate/990'>html</a></td>\n",
       "      <td>2020</td>\n",
       "      <td>Andrea Ghez</td>\n",
       "      <td>Physics</td>\n",
       "      <td><a href='http://www.wikidata.org/entity/Q493956'>Wikidata</a></td>\n",
       "      <td><a href='https://api.nobelprize.org/v1/laureate.json?id=990'>json</a></td>\n",
       "    </tr>\n",
       "    <tr>\n",
       "      <th>949</th>\n",
       "      <td><a href='https://www.nobelprize.org/laureate/991'>html</a></td>\n",
       "      <td>2020</td>\n",
       "      <td>Emmanuelle Charpentier</td>\n",
       "      <td>Chemistry</td>\n",
       "      <td><a href='http://www.wikidata.org/entity/Q17280087'>Wikidata</a></td>\n",
       "      <td><a href='https://api.nobelprize.org/v1/laureate.json?id=991'>json</a></td>\n",
       "    </tr>\n",
       "    <tr>\n",
       "      <th>950</th>\n",
       "      <td><a href='https://www.nobelprize.org/laureate/992'>html</a></td>\n",
       "      <td>2020</td>\n",
       "      <td>Jennifer A. Doudna</td>\n",
       "      <td>Chemistry</td>\n",
       "      <td><a href='http://www.wikidata.org/entity/Q56068'>Wikidata</a></td>\n",
       "      <td><a href='https://api.nobelprize.org/v1/laureate.json?id=992'>json</a></td>\n",
       "    </tr>\n",
       "    <tr>\n",
       "      <th>951</th>\n",
       "      <td><a href='https://www.nobelprize.org/laureate/993'>html</a></td>\n",
       "      <td>2020</td>\n",
       "      <td>Louise Glück</td>\n",
       "      <td>Literature</td>\n",
       "      <td><a href='http://www.wikidata.org/entity/Q2344210'>Wikidata</a></td>\n",
       "      <td><a href='https://api.nobelprize.org/v1/laureate.json?id=993'>json</a></td>\n",
       "    </tr>\n",
       "    <tr>\n",
       "      <th>952</th>\n",
       "      <td><a href='https://www.nobelprize.org/laureate/994'>html</a></td>\n",
       "      <td>2020</td>\n",
       "      <td>NaN</td>\n",
       "      <td>Peace</td>\n",
       "      <td><a href='http://www.wikidata.org/entity/Q204344'>Wikidata</a></td>\n",
       "      <td><a href='https://api.nobelprize.org/v1/laureate.json?id=994'>json</a></td>\n",
       "    </tr>\n",
       "    <tr>\n",
       "      <th>953</th>\n",
       "      <td><a href='https://www.nobelprize.org/laureate/995'>html</a></td>\n",
       "      <td>2020</td>\n",
       "      <td>Paul R. Milgrom</td>\n",
       "      <td>Economic Sciences</td>\n",
       "      <td><a href='http://www.wikidata.org/entity/Q1359990'>Wikidata</a></td>\n",
       "      <td><a href='https://api.nobelprize.org/v1/laureate.json?id=995'>json</a></td>\n",
       "    </tr>\n",
       "    <tr>\n",
       "      <th>954</th>\n",
       "      <td><a href='https://www.nobelprize.org/laureate/996'>html</a></td>\n",
       "      <td>2020</td>\n",
       "      <td>Robert B. Wilson</td>\n",
       "      <td>Economic Sciences</td>\n",
       "      <td><a href='http://www.wikidata.org/entity/Q377265'>Wikidata</a></td>\n",
       "      <td><a href='https://api.nobelprize.org/v1/laureate.json?id=996'>json</a></td>\n",
       "    </tr>\n",
       "  </tbody>\n",
       "</table>"
      ],
      "text/plain": [
       "<IPython.core.display.HTML object>"
      ]
     },
     "execution_count": 15,
     "metadata": {},
     "output_type": "execute_result"
    }
   ],
   "source": [
    "# see task xxx we can create links JSOn and HTML using the ID\n",
    "dfmerge[\"linkjson\"] = \"<a href='https://api.nobelprize.org/v1/laureate.json?id=\" + dfmerge[\"id\"].astype(str) + \"'>json</a>\"\n",
    "dfmerge[\"linkhtml\"] = \"<a href='https://www.nobelprize.org/laureate/\" + dfmerge[\"id\"].astype(str) + \"'>html</a>\"\n",
    "dfmerge[\"wd\"] = \"<a href='\" + dfmerge[\"item\"].astype(str) + \"'>Wikidata</a>\"\n",
    "\n",
    "pd.set_option(\"display.max.columns\", None) \n",
    "HTML(dfmerge[{'wd','name_en','awardYear','category','linkjson','linkhtml'}].tail(15).to_html(escape=False))"
   ]
  },
  {
   "cell_type": "markdown",
   "metadata": {},
   "source": [
    "Status 20201009 :\n",
    "* Ok all has html pages\n",
    "\n",
    "Templates supporting Wikidata Property 8024 = Wikidata [Q91652187](https://www.wikidata.org/wiki/Q91652187)\n",
    "* ar:Wikipedia [قالب:جائزة_نوبل](https://ar.wikipedia.org/wiki/%D9%82%D8%A7%D9%84%D8%A8:%D8%AC%D8%A7%D8%A6%D8%B2%D8%A9_%D9%86%D9%88%D8%A8%D9%84)\n",
    "* ca:wikipedia [Plantilla:Nobelprize](https://ca.wikipedia.org/wiki/Plantilla:Nobelprize)\n",
    "* en:Wikipedia [Template:Nobelprize](https://en.wikipedia.org/wiki/Template:Nobelprize)\n",
    "* ka:Wikipedia [თარგი:Nobelprize](https://ka.wikipedia.org/wiki/%E1%83%97%E1%83%90%E1%83%A0%E1%83%92%E1%83%98:Nobelprize)\n",
    "* nn:Wikipedia [Mal:Nobelprize](https://nn.wikipedia.org/wiki/Mal:Nobelprize)\n",
    "* pt:Wikipedia [Predefinição:Prémio Nobel](https://pt.wikipedia.org/wiki/Predefini%C3%A7%C3%A3o:Pr%C3%A9mio_Nobel)\n",
    "* sv:Wikipedia [Mall:Nobelprize](https://sv.wikipedia.org/wiki/Mall:Nobelprize)\n",
    "* sr:WIkipedia [Шаблон:Nobelprize](https://sr.wikipedia.org/wiki/%D0%A8%D0%B0%D0%B1%D0%BB%D0%BE%D0%BD:Nobelprize)"
   ]
  },
  {
   "cell_type": "markdown",
   "metadata": {},
   "source": [
    "* Articles using [template](https://www.wikidata.org/wiki/Q91652187) and view statistics this year and during the [Nobel week](https://www.nobelprize.org/press/#/publication/5f1719e411aab40004a17f36/552bd85dccc8e20c00e7f979?&sh=false)  5-12 October 2020 on those articles see also [video](https://youtu.be/Iu1JtefueM8)\n",
    "  * ar:Wikipedia [using](https://petscan.wmflabs.org/?psid=17573153) / not using\n",
    "    * [statistics](https://pageviews.toolforge.org/massviews/?platform=all-access&agent=user&source=category&range=this-year&subjectpage=0&subcategories=0&sort=views&direction=1&view=list&target=https://ar.wikipedia.org/wiki/%25D8%25AA%25D8%25B5%25D9%2586%25D9%258A%25D9%2581:%25D9%2582%25D8%25A7%25D9%2584%25D8%25A8_%25D8%25AC%25D8%25A7%25D8%25A6%25D8%25B2%25D8%25A9_%25D9%2586%25D9%2588%25D8%25A8%25D9%2584_%25D9%258A%25D8%25B3%25D8%25AA%25D8%25B9%25D9%2585%25D9%2584_%25D8%25AE%25D8%25A7%25D8%25B5%25D8%25A9_%25D9%2588%25D9%258A%25D9%2583%25D9%258A_%25D8%25A8%25D9%258A%25D8%25A7%25D9%2586%25D8%25A7%25D8%25AA_P8024) / [Nobel week](https://pageviews.toolforge.org/massviews/?platform=all-access&agent=user&source=category&start=2020-10-05&end=2020-10-12&subjectpage=0&subcategories=0&sort=views&direction=1&view=list&target=https://ar.wikipedia.org/wiki/%25D8%25AA%25D8%25B5%25D9%2586%25D9%258A%25D9%2581:%25D9%2582%25D8%25A7%25D9%2584%25D8%25A8_%25D8%25AC%25D8%25A7%25D8%25A6%25D8%25B2%25D8%25A9_%25D9%2586%25D9%2588%25D8%25A8%25D9%2584_%25D9%258A%25D8%25B3%25D8%25AA%25D8%25B9%25D9%2585%25D9%2584_%25D8%25AE%25D8%25A7%25D8%25B5%25D8%25A9_%25D9%2588%25D9%258A%25D9%2583%25D9%258A_%25D8%25A8%25D9%258A%25D8%25A7%25D9%2586%25D8%25A7%25D8%25AA_P8024)\n",
    "  * ca:Wikipedia miss track category [Q91672712](https://www.wikidata.org/wiki/Q91672712#sitelinks-wikipedia)\n",
    "  * en:Wikipedia [using](https://petscan.wmflabs.org/?psid=17573140) / [not using](https://petscan.wmflabs.org/?psid=17579263) \n",
    "    * [statistics](https://pageviews.toolforge.org/massviews/?platform=all-access&agent=user&source=category&range=this-year&subjectpage=0&subcategories=0&sort=views&direction=1&view=list&target=https://en.wikipedia.org/wiki/Category:Nobelprize_template_using_Wikidata_property_P8024) / [Nobel week](https://pageviews.toolforge.org/massviews/?platform=all-access&agent=user&source=category&start=2020-10-05&end=2020-10-12&subjectpage=0&subcategories=0&sort=views&direction=1&view=list&target=https://en.wikipedia.org/wiki/Category:Nobelprize_template_using_Wikidata_property_P8024) as a [chart](https://pageviews.toolforge.org/massviews/?platform=all-access&agent=user&source=category&start=2020-10-05&end=2020-10-10&subjectpage=0&subcategories=0&sort=views&direction=1&view=chart&target=https://en.wikipedia.org/wiki/Category:Nobelprize%20template%20using%20Wikidata%20property%20P8024)\n",
    "  * ka:Wikipedia miss track category [Q91672712](https://www.wikidata.org/wiki/Q91672712#sitelinks-wikipedia)\n",
    "  * nn:Wikipedia [using](https://petscan.wmflabs.org/?psid=17573155) / not using \n",
    "     * [statistics](https://pageviews.toolforge.org/massviews/?platform=all-access&agent=user&source=category&range=this-year&subjectpage=0&subcategories=0&sort=views&direction=1&view=list&target=https://nn.wikipedia.org/wiki/Kategori:Sider_som_nyttar_Mal:Nobelprize) / [Nobel week](https://pageviews.toolforge.org/massviews/?platform=all-access&agent=user&source=category&start=2020-10-05&end=2020-10-12&subjectpage=0&subcategories=0&sort=views&direction=1&view=list&target=https://nn.wikipedia.org/wiki/Kategori:Sider_som_nyttar_Mal:Nobelprize)\n",
    "  * pt:Wikipedia [using](https://petscan.wmflabs.org/?psid=17573158) / [not using](https://petscan.wmflabs.org/?psid=17579612) \n",
    "     * [statistics](https://pageviews.toolforge.org/massviews/?platform=all-access&agent=user&source=category&range=this-year&subjectpage=0&subcategories=0&sort=views&direction=1&view=list&target=https://pt.wikipedia.org/wiki/Categoria:Predefini%25C3%25A7%25C3%25A3o_sobre_pr%25C3%25A9mios_Nobel_que_usam_a_propriedade_do_Wikidata_P8024) / [Nobel week](https://pageviews.toolforge.org/massviews/?platform=all-access&agent=user&source=category&start=2020-10-05&end=2020-10-12&subjectpage=0&subcategories=0&sort=views&direction=1&view=list&target=https://pt.wikipedia.org/wiki/Categoria:Predefini%25C3%25A7%25C3%25A3o_sobre_pr%25C3%25A9mios_Nobel_que_usam_a_propriedade_do_Wikidata_P8024)\n",
    "  * sv:Wikipedia [using](https://petscan.wmflabs.org/?psid=17573129) / not using \n",
    "    * [statistics](https://pageviews.toolforge.org/massviews/?platform=all-access&agent=user&source=category&range=this-year&subjectpage=0&subcategories=0&sort=views&direction=1&view=list&target=https://sv.wikipedia.org/wiki/Kategori:Sidor_som_anv%25C3%25A4nder_Mall:Nobelprize) / [Nobel week](https://pageviews.toolforge.org/massviews/?platform=all-access&agent=user&source=category&start=2020-10-05&end=2020-10-12&subjectpage=0&subcategories=0&sort=views&direction=1&view=list&target=https://sv.wikipedia.org/wiki/Kategori:Sidor_som_anv%25C3%25A4nder_Mall:Nobelprize)\n",
    "  * sr:Wikipedia miss track category [Q91672712](https://www.wikidata.org/wiki/Q91672712#sitelinks-wikipedia)\n",
    "  \n",
    "Task [T251055](https://phabricator.wikimedia.org/T251055)  "
   ]
  },
  {
   "cell_type": "markdown",
   "metadata": {},
   "source": [
    "# Next Nobelprize announcement\n",
    "see https://www.nobelprize.org/"
   ]
  },
  {
   "cell_type": "code",
   "execution_count": null,
   "metadata": {},
   "outputs": [],
   "source": []
  }
 ],
 "metadata": {
  "kernelspec": {
   "display_name": "Python 3",
   "language": "python",
   "name": "python3"
  },
  "language_info": {
   "codemirror_mode": {
    "name": "ipython",
    "version": 3
   },
   "file_extension": ".py",
   "mimetype": "text/x-python",
   "name": "python",
   "nbconvert_exporter": "python",
   "pygments_lexer": "ipython3",
   "version": "3.8.0"
  }
 },
 "nbformat": 4,
 "nbformat_minor": 4
}
