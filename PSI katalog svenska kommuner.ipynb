{
 "cells": [
  {
   "cell_type": "markdown",
   "id": "69b3cebd",
   "metadata": {},
   "source": [
    "Hitta kommuner som inte har en öppan data portal i WD\n",
    "* denna [Notebook](https://github.com/salgo60/open-data-examples/blob/master/PSI%20katalog%20svenska%20kommuner.ipynb)\n",
    "* [GIST](https://gist.github.com/salgo60/62332ca873087edddb7f58397944e62e)\n"
   ]
  },
  {
   "cell_type": "code",
   "execution_count": 1,
   "id": "642b50f6",
   "metadata": {},
   "outputs": [
    {
     "name": "stdout",
     "output_type": "stream",
     "text": [
      "Last run:  2022-06-24 11:51:02.432391\n"
     ]
    }
   ],
   "source": [
    "from datetime import datetime\n",
    "start_time  = datetime.now()\n",
    "print(\"Last run: \", start_time)"
   ]
  },
  {
   "cell_type": "code",
   "execution_count": 2,
   "id": "3cd0bc5c",
   "metadata": {},
   "outputs": [
    {
     "name": "stdout",
     "output_type": "stream",
     "text": [
      "Status:  200  \t http://www.are.se/psi\n",
      "Status:  200  \t http://www.vastervik.se/psi\n",
      "Status:  200  \t http://www.torsas.se/psi\n",
      "Status:  200  \t http://www.tibro.se/psi\n",
      "Status:  200  \t https://nykoping.se/psi\n",
      "Status:  200  \t https://www.karlsborg.se/psi\n",
      "Status:  200  \t http://www.hjo.se/psi\n",
      "Status:  200  \t http://www.danderyd.se/psi\n",
      "Status:  200  \t http://www.boden.se/psi\n",
      "OK:  16 \t not ok 145 Antal utan Öppen data portal enl. Wikidata:  161\n"
     ]
    }
   ],
   "source": [
    "import sys\n",
    "import  urllib3       \n",
    "\n",
    "from SPARQLWrapper import SPARQLWrapper, JSON\n",
    "\n",
    "endpoint_url = \"https://query.wikidata.org/sparql\"\n",
    "http = urllib3.PoolManager()\n",
    "\n",
    "#\n",
    "# SPARQL https://w.wiki/5LSY \n",
    "# Kommuner utan öppna data portal\n",
    "query = \"\"\"SELECT DISTINCT ?item ?wdLabel ?url ?PSIdata WHERE {\n",
    "  ?item wdt:P31 wd:Q127448.\n",
    "  OPTIONAL { ?item wdt:P856 ?url. }\n",
    "  minus { ?item wdt:P8402 ?openDataPortal. }\n",
    "  OPTIONAL { ?item (wdt:P8402/wdt:P856) ?PSIdata. }\n",
    "  OPTIONAL {\n",
    "    ?item rdfs:label ?wdLabel.\n",
    "    FILTER((LANG(?wdLabel)) = \"sv\")\n",
    "  }\n",
    "  FILTER(?item != wd:Q42009)\n",
    "}\n",
    "ORDER BY desc(?wdLabel)\n",
    "\"\"\"\n",
    "\n",
    "\n",
    "def get_results(endpoint_url, query):\n",
    "    user_agent = \"user Salgo50/%s.%s\" % (sys.version_info[0], sys.version_info[1])\n",
    "    sparql = SPARQLWrapper(endpoint_url, agent=user_agent)\n",
    "    sparql.setQuery(query)\n",
    "    sparql.setReturnFormat(JSON)\n",
    "    return sparql.query().convert()\n",
    "\n",
    "\n",
    "''' Check if URLS is ok'''\n",
    "def check(url):\n",
    "    try:\n",
    "        r = http.request('GET', url)\n",
    "        \n",
    "        #print(\"\\tStatus: \", r.status, \" \\t\", url, \" \\t\",print(r.headers))\n",
    "        try:\n",
    "            print(\"\\t\\tX-TEC-API-ROOT: \",r.headers['X-TEC-API-ROOT'])\n",
    "        except:\n",
    "            pass\n",
    "        if r.status == 200:\n",
    "                print(\"Status: \",r.status, \" \\t\", url)\n",
    "\n",
    "        if r.status == 404:\n",
    "            return False\n",
    "        return True\n",
    "    except:\n",
    "        pass\n",
    "    return False\n",
    "\n",
    "def getUrl(inUrl):\n",
    "    if inUrl.endswith(\"/\"):\n",
    "        return inUrl\n",
    "    else:\n",
    "        return inUrl+\"/\"\n",
    "    pass\n",
    "\n",
    "\n",
    "def checkResult(results):\n",
    "    global ok, notok , listSites\n",
    "    for result in results[\"results\"][\"bindings\"]:\n",
    "        #print(result)\n",
    "        currSite = {}\n",
    "        #currSite[\"URL\"] = getUrl(result[\"url\"][\"value\"]) + \"PSIdata\"\n",
    "        currSite[\"URL\"] = getUrl(result[\"url\"][\"value\"]) + \"psi\"\n",
    "        currSite[\"item\"] = result[\"item\"][\"value\"].replace(\"http://www.wikidata.org/entity/\",\"\")\n",
    "        currSite[\"name\"] = result[\"wdLabel\"][\"value\"]\n",
    "        currSite[\"URLStatus\"] = check(currSite[\"URL\"])\n",
    "        try:\n",
    "            currSite[\"PSIdata\"] = result[\"PSIdata\"][\"value\"]\n",
    "            currSite[\"PSIdataStatus\"] = check(result[\"PSIdata\"][\"value\"])\n",
    "        except:\n",
    "            pass\n",
    "        listSites.append(currSite)\n",
    "    return\n",
    "\n",
    "listSites = []\n",
    "results = get_results(endpoint_url, query)\n",
    "checkResult(results)\n",
    "\n",
    "\n",
    "def checkOKPSIData(listSites):\n",
    "    ok = 0\n",
    "    notok = 0\n",
    "    for site in listSites:\n",
    "        if site[\"URLStatus\"]:\n",
    "            ok += 1\n",
    "        else:\n",
    "            notok += 1\n",
    "    return ok, notok\n",
    "\n",
    "\n",
    "ok, notok  = checkOKPSIData(listSites)\n",
    "\n",
    "print(\"OK: \",ok,\"\\t not ok\",notok, \"Antal utan Öppen data portal enl. Wikidata: \", len(listSites))"
   ]
  },
  {
   "cell_type": "code",
   "execution_count": 3,
   "id": "e8bd1f62",
   "metadata": {},
   "outputs": [],
   "source": [
    "#listSites"
   ]
  },
  {
   "cell_type": "code",
   "execution_count": 4,
   "id": "e0cf5d07",
   "metadata": {},
   "outputs": [
    {
     "name": "stdout",
     "output_type": "stream",
     "text": [
      "Ended:  2022-06-24 11:51:51.336025\n",
      "Time elapsed (hh:mm:ss.ms) 0:00:48.904711\n"
     ]
    }
   ],
   "source": [
    "end = datetime.now()\n",
    "print(\"Ended: \", end) \n",
    "print('Time elapsed (hh:mm:ss.ms) {}'.format(datetime.now() - start_time))"
   ]
  }
 ],
 "metadata": {
  "kernelspec": {
   "display_name": "Python 3",
   "language": "python",
   "name": "python3"
  },
  "language_info": {
   "codemirror_mode": {
    "name": "ipython",
    "version": 3
   },
   "file_extension": ".py",
   "mimetype": "text/x-python",
   "name": "python",
   "nbconvert_exporter": "python",
   "pygments_lexer": "ipython3",
   "version": "3.9.13"
  }
 },
 "nbformat": 4,
 "nbformat_minor": 5
}
