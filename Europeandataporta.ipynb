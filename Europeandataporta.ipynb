{
 "cells": [
  {
   "cell_type": "markdown",
   "metadata": {},
   "source": [
    "## Europeandataportal.eu \n",
    "Test access SPARQL endpoint \n"
   ]
  },
  {
   "cell_type": "code",
   "execution_count": 29,
   "metadata": {},
   "outputs": [],
   "source": [
    "import sys\n",
    "from SPARQLWrapper import SPARQLWrapper, JSON\n",
    "endpoint_url = \"https://www.europeandataportal.eu/sparql\"\n",
    "\n",
    "query = \"\"\"SELECT * WHERE {\n",
    "  ?s ?p ?o\n",
    "}\n",
    "limit 100\"\"\"\n",
    "\n",
    "\n",
    "def get_sparql_dataframe(endpoint_url, query):\n",
    "    print (query)\n",
    "    user_agent = \"user: salgo60/%s.%s\" % (sys.version_info[0], sys.version_info[1])\n",
    "    # TODO adjust user agent; see https://w.wiki/CX6\n",
    "    sparql = SPARQLWrapper(endpoint_url, agent=user_agent)\n",
    "    sparql.setQuery(query)\n",
    "    sparql.setReturnFormat(JSON)\n",
    "    return sparql.query().convert()\n",
    "\n",
    "    processed_results = json.(endpoint_url, query) \n",
    "    column_names = [\"s\", \"p\", \"q\"]\n",
    "    cols = processed_results['head']['vars'] \n",
    "    out = [] \n",
    "    print (out)\n",
    "    for row in processed_results['results']['bindings']:\n",
    "        item = [] \n",
    "        for c in cols: \n",
    "            item.append(row.get(c, {}).get('value'))\n",
    "        \n",
    "        out.append(item) \n",
    "    print (\"Hej\")\n",
    "    return pd.DataFrame(out, columns=cols) \n",
    "df = get_sparql_dataframe(endpoint_url, query) \n",
    "\n"
   ]
  },
  {
   "cell_type": "code",
   "execution_count": 22,
   "metadata": {},
   "outputs": [
    {
     "name": "stdout",
     "output_type": "stream",
     "text": [
      "<class 'dict'>\n"
     ]
    }
   ],
   "source": [
    "  \n",
    "df = get_sparql_dataframe(endpoint_url, query) \n",
    "print (type(df))"
   ]
  },
  {
   "cell_type": "code",
   "execution_count": null,
   "metadata": {},
   "outputs": [],
   "source": []
  }
 ],
 "metadata": {
  "kernelspec": {
   "display_name": "Python 3",
   "language": "python",
   "name": "python3"
  },
  "language_info": {
   "codemirror_mode": {
    "name": "ipython",
    "version": 3
   },
   "file_extension": ".py",
   "mimetype": "text/x-python",
   "name": "python",
   "nbconvert_exporter": "python",
   "pygments_lexer": "ipython3",
   "version": "3.8.0"
  }
 },
 "nbformat": 4,
 "nbformat_minor": 4
}
