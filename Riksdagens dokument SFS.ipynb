{
 "cells": [
  {
   "cell_type": "markdown",
   "metadata": {},
   "source": [
    "## Test Riksdagen SFS dokument \n",
    "\n",
    "* Denna [Jupyter Notebook](https://github.com/salgo60/open-data-examples/blob/master/Riksdagens%20dokument%20SFS.ipynb)  \n",
    " * [KU anmälningar](https://github.com/salgo60/open-data-examples/blob/master/Riksdagens%20dokument%20KU-anm%C3%A4lningar.ipynb) \n",
    " * [Motioner](https://github.com/salgo60/open-data-examples/blob/master/Riksdagens%20dokument%20Motioner.ipynb)\n",
    " * [Ledamöter](https://github.com/salgo60/open-data-examples/blob/master/Riksdagens%20ledam%C3%B6ter.ipynb)\n",
    " * [Dokumenttyper](https://github.com/salgo60/open-data-examples/blob/master/Riksdagens%20dokumenttyper.ipynb)\n",
    "* [Skapa sökfråga](http://data.riksdagen.se/dokumentlista/)   \n",
    "\n",
    "* 13980 hämtade verkar som diff med [Dokument & lagar (10 504 träffar)](https://www.riksdagen.se/sv/dokument-lagar/?doktyp=sfs) \n",
    "\n",
    "### Test SFS nr 2020-577\n",
    "* [Fulltext](https://www.riksdagen.se/sv/dokument-lagar/dokument/svensk-forfattningssamling/forordning-2020577-om-statligt-stod-for_sfs-2020-577) [text](http://data.riksdagen.se/dokument/sfs-2020-577.text) / [html](http://data.riksdagen.se/dokument/sfs-2020-577.html) /  [json](http://data.riksdagen.se/dokument/sfs-2020-577.json) \n"
   ]
  },
  {
   "cell_type": "code",
   "execution_count": 1,
   "metadata": {},
   "outputs": [
    {
     "name": "stdout",
     "output_type": "stream",
     "text": [
      "Last run:  2020-10-04 15:00:07.695637\n"
     ]
    }
   ],
   "source": [
    "from datetime import datetime\n",
    "now = datetime.now()\n",
    "print(\"Last run: \", datetime.now())"
   ]
  },
  {
   "cell_type": "code",
   "execution_count": 2,
   "metadata": {},
   "outputs": [
    {
     "data": {
      "application/vnd.jupyter.widget-view+json": {
       "model_id": "2dc68d95ee544ccfa9207aa68a121e16",
       "version_major": 2,
       "version_minor": 0
      },
      "text/plain": [
       "HBox(children=(FloatProgress(value=0.0, max=699.0), HTML(value='')))"
      ]
     },
     "metadata": {},
     "output_type": "display_data"
    },
    {
     "name": "stdout",
     "output_type": "stream",
     "text": [
      "\n"
     ]
    },
    {
     "data": {
      "text/html": [
       "<div>\n",
       "<style scoped>\n",
       "    .dataframe tbody tr th:only-of-type {\n",
       "        vertical-align: middle;\n",
       "    }\n",
       "\n",
       "    .dataframe tbody tr th {\n",
       "        vertical-align: top;\n",
       "    }\n",
       "\n",
       "    .dataframe thead th {\n",
       "        text-align: right;\n",
       "    }\n",
       "</style>\n",
       "<table border=\"1\" class=\"dataframe\">\n",
       "  <thead>\n",
       "    <tr style=\"text-align: right;\">\n",
       "      <th></th>\n",
       "      <th>traff</th>\n",
       "      <th>domain</th>\n",
       "      <th>database</th>\n",
       "      <th>datum</th>\n",
       "      <th>id</th>\n",
       "      <th>rdrest</th>\n",
       "      <th>slutdatum</th>\n",
       "      <th>rddata</th>\n",
       "      <th>plats</th>\n",
       "      <th>klockslag</th>\n",
       "      <th>publicerad</th>\n",
       "      <th>systemdatum</th>\n",
       "      <th>undertitel</th>\n",
       "      <th>kalla</th>\n",
       "      <th>kall_id</th>\n",
       "      <th>dok_id</th>\n",
       "      <th>dokumentformat</th>\n",
       "      <th>dokument_url_text</th>\n",
       "      <th>dokument_url_html</th>\n",
       "      <th>inlamnad</th>\n",
       "      <th>motionstid</th>\n",
       "      <th>tilldelat</th>\n",
       "      <th>lang</th>\n",
       "      <th>url</th>\n",
       "      <th>relurl</th>\n",
       "      <th>titel</th>\n",
       "      <th>rm</th>\n",
       "      <th>organ</th>\n",
       "      <th>relaterat_id</th>\n",
       "      <th>doktyp</th>\n",
       "      <th>typ</th>\n",
       "      <th>subtyp</th>\n",
       "      <th>beteckning</th>\n",
       "      <th>tempbeteckning</th>\n",
       "      <th>nummer</th>\n",
       "      <th>status</th>\n",
       "      <th>score</th>\n",
       "      <th>sokdata</th>\n",
       "      <th>summary</th>\n",
       "      <th>notisrubrik</th>\n",
       "      <th>notis</th>\n",
       "      <th>dokintressent</th>\n",
       "      <th>filbilaga</th>\n",
       "      <th>avdelning</th>\n",
       "      <th>struktur</th>\n",
       "      <th>audio</th>\n",
       "      <th>video</th>\n",
       "      <th>debattgrupp</th>\n",
       "      <th>debattdag</th>\n",
       "      <th>beslutsdag</th>\n",
       "      <th>beredningsdag</th>\n",
       "      <th>justeringsdag</th>\n",
       "      <th>beslutad</th>\n",
       "      <th>debattsekunder</th>\n",
       "      <th>ardometyp</th>\n",
       "      <th>reservationer</th>\n",
       "      <th>debatt</th>\n",
       "      <th>debattnamn</th>\n",
       "      <th>dokumentnamn</th>\n",
       "    </tr>\n",
       "  </thead>\n",
       "  <tbody>\n",
       "    <tr>\n",
       "      <th>0</th>\n",
       "      <td>1</td>\n",
       "      <td>rdwebb</td>\n",
       "      <td>dokument</td>\n",
       "      <td>2020-10-01</td>\n",
       "      <td>sfs-2020-827</td>\n",
       "      <td>None</td>\n",
       "      <td>None</td>\n",
       "      <td>None</td>\n",
       "      <td>None</td>\n",
       "      <td>None</td>\n",
       "      <td>2020-10-03 04:43:50</td>\n",
       "      <td>2020-10-03 04:43:50</td>\n",
       "      <td>None</td>\n",
       "      <td>None</td>\n",
       "      <td>None</td>\n",
       "      <td>sfs-2020-827</td>\n",
       "      <td>None</td>\n",
       "      <td>//data.riksdagen.se/dokument/sfs-2020-827.text</td>\n",
       "      <td>//data.riksdagen.se/dokument/sfs-2020-827.html</td>\n",
       "      <td>None</td>\n",
       "      <td>None</td>\n",
       "      <td>None</td>\n",
       "      <td>None</td>\n",
       "      <td>None</td>\n",
       "      <td>None</td>\n",
       "      <td>Förordning med (2020:827) kompletterande bestä...</td>\n",
       "      <td>2020</td>\n",
       "      <td>Justitiedepartementet L4</td>\n",
       "      <td>None</td>\n",
       "      <td>sfs</td>\n",
       "      <td>sfs</td>\n",
       "      <td>sfst</td>\n",
       "      <td>2020:827</td>\n",
       "      <td>None</td>\n",
       "      <td>827</td>\n",
       "      <td>None</td>\n",
       "      <td>220</td>\n",
       "      <td>{'titel': 'Förordning med (2020:827) komplette...</td>\n",
       "      <td>None</td>\n",
       "      <td>Förordning med (2020:827) kompletterande bestä...</td>\n",
       "      <td>None</td>\n",
       "      <td>None</td>\n",
       "      <td>None</td>\n",
       "      <td>dokument</td>\n",
       "      <td>None</td>\n",
       "      <td>None</td>\n",
       "      <td>None</td>\n",
       "      <td>None</td>\n",
       "      <td>None</td>\n",
       "      <td>None</td>\n",
       "      <td>None</td>\n",
       "      <td>None</td>\n",
       "      <td>None</td>\n",
       "      <td>None</td>\n",
       "      <td>None</td>\n",
       "      <td>None</td>\n",
       "      <td>None</td>\n",
       "      <td>Svensk författningssamling</td>\n",
       "      <td>Svensk författningssamling</td>\n",
       "    </tr>\n",
       "    <tr>\n",
       "      <th>1</th>\n",
       "      <td>2</td>\n",
       "      <td>rdwebb</td>\n",
       "      <td>dokument</td>\n",
       "      <td>2020-10-01</td>\n",
       "      <td>sfs-2020-824</td>\n",
       "      <td>None</td>\n",
       "      <td>None</td>\n",
       "      <td>None</td>\n",
       "      <td>None</td>\n",
       "      <td>None</td>\n",
       "      <td>2020-10-03 04:43:49</td>\n",
       "      <td>2020-10-03 04:43:49</td>\n",
       "      <td>None</td>\n",
       "      <td>None</td>\n",
       "      <td>None</td>\n",
       "      <td>sfs-2020-824</td>\n",
       "      <td>None</td>\n",
       "      <td>//data.riksdagen.se/dokument/sfs-2020-824.text</td>\n",
       "      <td>//data.riksdagen.se/dokument/sfs-2020-824.html</td>\n",
       "      <td>None</td>\n",
       "      <td>None</td>\n",
       "      <td>None</td>\n",
       "      <td>None</td>\n",
       "      <td>None</td>\n",
       "      <td>None</td>\n",
       "      <td>Förordning (2020:824) om försöksverksamhet med...</td>\n",
       "      <td>2020</td>\n",
       "      <td>Utbildningsdepartementet</td>\n",
       "      <td>None</td>\n",
       "      <td>sfs</td>\n",
       "      <td>sfs</td>\n",
       "      <td>sfst</td>\n",
       "      <td>2020:824</td>\n",
       "      <td>None</td>\n",
       "      <td>824</td>\n",
       "      <td>None</td>\n",
       "      <td>220</td>\n",
       "      <td>{'titel': 'Förordning (2020:824) om försöksver...</td>\n",
       "      <td>None</td>\n",
       "      <td>Förordning (2020:824) om försöksverksamhet med...</td>\n",
       "      <td>None</td>\n",
       "      <td>None</td>\n",
       "      <td>None</td>\n",
       "      <td>dokument</td>\n",
       "      <td>None</td>\n",
       "      <td>None</td>\n",
       "      <td>None</td>\n",
       "      <td>None</td>\n",
       "      <td>None</td>\n",
       "      <td>None</td>\n",
       "      <td>None</td>\n",
       "      <td>None</td>\n",
       "      <td>None</td>\n",
       "      <td>None</td>\n",
       "      <td>None</td>\n",
       "      <td>None</td>\n",
       "      <td>None</td>\n",
       "      <td>Svensk författningssamling</td>\n",
       "      <td>Svensk författningssamling</td>\n",
       "    </tr>\n",
       "    <tr>\n",
       "      <th>2</th>\n",
       "      <td>3</td>\n",
       "      <td>rdwebb</td>\n",
       "      <td>dokument</td>\n",
       "      <td>2020-10-01</td>\n",
       "      <td>sfs-2020-826</td>\n",
       "      <td>None</td>\n",
       "      <td>None</td>\n",
       "      <td>None</td>\n",
       "      <td>None</td>\n",
       "      <td>None</td>\n",
       "      <td>2020-10-03 04:43:50</td>\n",
       "      <td>2020-10-03 04:43:50</td>\n",
       "      <td>None</td>\n",
       "      <td>None</td>\n",
       "      <td>None</td>\n",
       "      <td>sfs-2020-826</td>\n",
       "      <td>None</td>\n",
       "      <td>//data.riksdagen.se/dokument/sfs-2020-826.text</td>\n",
       "      <td>//data.riksdagen.se/dokument/sfs-2020-826.html</td>\n",
       "      <td>None</td>\n",
       "      <td>None</td>\n",
       "      <td>None</td>\n",
       "      <td>None</td>\n",
       "      <td>None</td>\n",
       "      <td>None</td>\n",
       "      <td>Lag med (2020:826) kompletterande bestämmelser...</td>\n",
       "      <td>2020</td>\n",
       "      <td>Justitiedepartementet L4</td>\n",
       "      <td>None</td>\n",
       "      <td>sfs</td>\n",
       "      <td>sfs</td>\n",
       "      <td>sfst</td>\n",
       "      <td>2020:826</td>\n",
       "      <td>None</td>\n",
       "      <td>826</td>\n",
       "      <td>None</td>\n",
       "      <td>220</td>\n",
       "      <td>{'titel': 'Lag med (2020:826) kompletterande b...</td>\n",
       "      <td>None</td>\n",
       "      <td>Lag med (2020:826) kompletterande bestämmelser...</td>\n",
       "      <td>None</td>\n",
       "      <td>None</td>\n",
       "      <td>None</td>\n",
       "      <td>dokument</td>\n",
       "      <td>None</td>\n",
       "      <td>None</td>\n",
       "      <td>None</td>\n",
       "      <td>None</td>\n",
       "      <td>None</td>\n",
       "      <td>None</td>\n",
       "      <td>None</td>\n",
       "      <td>None</td>\n",
       "      <td>None</td>\n",
       "      <td>None</td>\n",
       "      <td>None</td>\n",
       "      <td>None</td>\n",
       "      <td>None</td>\n",
       "      <td>Svensk författningssamling</td>\n",
       "      <td>Svensk författningssamling</td>\n",
       "    </tr>\n",
       "    <tr>\n",
       "      <th>3</th>\n",
       "      <td>4</td>\n",
       "      <td>rdwebb</td>\n",
       "      <td>dokument</td>\n",
       "      <td>2020-09-24</td>\n",
       "      <td>sfs-2020-813</td>\n",
       "      <td>None</td>\n",
       "      <td>None</td>\n",
       "      <td>None</td>\n",
       "      <td>None</td>\n",
       "      <td>None</td>\n",
       "      <td>2020-09-29 04:35:04</td>\n",
       "      <td>2020-09-29 04:35:04</td>\n",
       "      <td>None</td>\n",
       "      <td>None</td>\n",
       "      <td>None</td>\n",
       "      <td>sfs-2020-813</td>\n",
       "      <td>None</td>\n",
       "      <td>//data.riksdagen.se/dokument/sfs-2020-813.text</td>\n",
       "      <td>//data.riksdagen.se/dokument/sfs-2020-813.html</td>\n",
       "      <td>None</td>\n",
       "      <td>None</td>\n",
       "      <td>None</td>\n",
       "      <td>None</td>\n",
       "      <td>None</td>\n",
       "      <td>None</td>\n",
       "      <td>Förordning (2020:813) om uppräkningsfaktorer v...</td>\n",
       "      <td>2020</td>\n",
       "      <td>Finansdepartementet</td>\n",
       "      <td>None</td>\n",
       "      <td>sfs</td>\n",
       "      <td>sfs</td>\n",
       "      <td>sfst</td>\n",
       "      <td>2020:813</td>\n",
       "      <td>None</td>\n",
       "      <td>813</td>\n",
       "      <td>None</td>\n",
       "      <td>220</td>\n",
       "      <td>{'titel': 'Förordning (2020:813) om uppräkning...</td>\n",
       "      <td>None</td>\n",
       "      <td>Förordning (2020:813) om uppräkningsfaktorer v...</td>\n",
       "      <td>None</td>\n",
       "      <td>None</td>\n",
       "      <td>None</td>\n",
       "      <td>dokument</td>\n",
       "      <td>None</td>\n",
       "      <td>None</td>\n",
       "      <td>None</td>\n",
       "      <td>None</td>\n",
       "      <td>None</td>\n",
       "      <td>None</td>\n",
       "      <td>None</td>\n",
       "      <td>None</td>\n",
       "      <td>None</td>\n",
       "      <td>None</td>\n",
       "      <td>None</td>\n",
       "      <td>None</td>\n",
       "      <td>None</td>\n",
       "      <td>Svensk författningssamling</td>\n",
       "      <td>Svensk författningssamling</td>\n",
       "    </tr>\n",
       "    <tr>\n",
       "      <th>4</th>\n",
       "      <td>5</td>\n",
       "      <td>rdwebb</td>\n",
       "      <td>dokument</td>\n",
       "      <td>2020-09-17</td>\n",
       "      <td>sfs-2020-792</td>\n",
       "      <td>None</td>\n",
       "      <td>None</td>\n",
       "      <td>None</td>\n",
       "      <td>None</td>\n",
       "      <td>None</td>\n",
       "      <td>2020-09-19 04:33:51</td>\n",
       "      <td>2020-09-19 04:33:51</td>\n",
       "      <td>None</td>\n",
       "      <td>None</td>\n",
       "      <td>None</td>\n",
       "      <td>sfs-2020-792</td>\n",
       "      <td>None</td>\n",
       "      <td>//data.riksdagen.se/dokument/sfs-2020-792.text</td>\n",
       "      <td>//data.riksdagen.se/dokument/sfs-2020-792.html</td>\n",
       "      <td>None</td>\n",
       "      <td>None</td>\n",
       "      <td>None</td>\n",
       "      <td>None</td>\n",
       "      <td>None</td>\n",
       "      <td>None</td>\n",
       "      <td>Förordning (2020:792) om verkställighet av ung...</td>\n",
       "      <td>2020</td>\n",
       "      <td>Justitiedepartementet L5</td>\n",
       "      <td>None</td>\n",
       "      <td>sfs</td>\n",
       "      <td>sfs</td>\n",
       "      <td>sfst</td>\n",
       "      <td>2020:792</td>\n",
       "      <td>None</td>\n",
       "      <td>792</td>\n",
       "      <td>None</td>\n",
       "      <td>220</td>\n",
       "      <td>{'titel': 'Förordning (2020:792) om verkställi...</td>\n",
       "      <td>None</td>\n",
       "      <td>Förordning (2020:792) om verkställighet av ung...</td>\n",
       "      <td>None</td>\n",
       "      <td>None</td>\n",
       "      <td>None</td>\n",
       "      <td>dokument</td>\n",
       "      <td>None</td>\n",
       "      <td>None</td>\n",
       "      <td>None</td>\n",
       "      <td>None</td>\n",
       "      <td>None</td>\n",
       "      <td>None</td>\n",
       "      <td>None</td>\n",
       "      <td>None</td>\n",
       "      <td>None</td>\n",
       "      <td>None</td>\n",
       "      <td>None</td>\n",
       "      <td>None</td>\n",
       "      <td>None</td>\n",
       "      <td>Svensk författningssamling</td>\n",
       "      <td>Svensk författningssamling</td>\n",
       "    </tr>\n",
       "  </tbody>\n",
       "</table>\n",
       "</div>"
      ],
      "text/plain": [
       "  traff  domain  database       datum            id rdrest slutdatum rddata  \\\n",
       "0     1  rdwebb  dokument  2020-10-01  sfs-2020-827   None      None   None   \n",
       "1     2  rdwebb  dokument  2020-10-01  sfs-2020-824   None      None   None   \n",
       "2     3  rdwebb  dokument  2020-10-01  sfs-2020-826   None      None   None   \n",
       "3     4  rdwebb  dokument  2020-09-24  sfs-2020-813   None      None   None   \n",
       "4     5  rdwebb  dokument  2020-09-17  sfs-2020-792   None      None   None   \n",
       "\n",
       "  plats klockslag           publicerad          systemdatum undertitel kalla  \\\n",
       "0  None      None  2020-10-03 04:43:50  2020-10-03 04:43:50       None  None   \n",
       "1  None      None  2020-10-03 04:43:49  2020-10-03 04:43:49       None  None   \n",
       "2  None      None  2020-10-03 04:43:50  2020-10-03 04:43:50       None  None   \n",
       "3  None      None  2020-09-29 04:35:04  2020-09-29 04:35:04       None  None   \n",
       "4  None      None  2020-09-19 04:33:51  2020-09-19 04:33:51       None  None   \n",
       "\n",
       "  kall_id        dok_id dokumentformat  \\\n",
       "0    None  sfs-2020-827           None   \n",
       "1    None  sfs-2020-824           None   \n",
       "2    None  sfs-2020-826           None   \n",
       "3    None  sfs-2020-813           None   \n",
       "4    None  sfs-2020-792           None   \n",
       "\n",
       "                                dokument_url_text  \\\n",
       "0  //data.riksdagen.se/dokument/sfs-2020-827.text   \n",
       "1  //data.riksdagen.se/dokument/sfs-2020-824.text   \n",
       "2  //data.riksdagen.se/dokument/sfs-2020-826.text   \n",
       "3  //data.riksdagen.se/dokument/sfs-2020-813.text   \n",
       "4  //data.riksdagen.se/dokument/sfs-2020-792.text   \n",
       "\n",
       "                                dokument_url_html inlamnad motionstid  \\\n",
       "0  //data.riksdagen.se/dokument/sfs-2020-827.html     None       None   \n",
       "1  //data.riksdagen.se/dokument/sfs-2020-824.html     None       None   \n",
       "2  //data.riksdagen.se/dokument/sfs-2020-826.html     None       None   \n",
       "3  //data.riksdagen.se/dokument/sfs-2020-813.html     None       None   \n",
       "4  //data.riksdagen.se/dokument/sfs-2020-792.html     None       None   \n",
       "\n",
       "  tilldelat  lang   url relurl  \\\n",
       "0      None  None  None   None   \n",
       "1      None  None  None   None   \n",
       "2      None  None  None   None   \n",
       "3      None  None  None   None   \n",
       "4      None  None  None   None   \n",
       "\n",
       "                                               titel    rm  \\\n",
       "0  Förordning med (2020:827) kompletterande bestä...  2020   \n",
       "1  Förordning (2020:824) om försöksverksamhet med...  2020   \n",
       "2  Lag med (2020:826) kompletterande bestämmelser...  2020   \n",
       "3  Förordning (2020:813) om uppräkningsfaktorer v...  2020   \n",
       "4  Förordning (2020:792) om verkställighet av ung...  2020   \n",
       "\n",
       "                      organ relaterat_id doktyp  typ subtyp beteckning  \\\n",
       "0  Justitiedepartementet L4         None    sfs  sfs   sfst   2020:827   \n",
       "1  Utbildningsdepartementet         None    sfs  sfs   sfst   2020:824   \n",
       "2  Justitiedepartementet L4         None    sfs  sfs   sfst   2020:826   \n",
       "3       Finansdepartementet         None    sfs  sfs   sfst   2020:813   \n",
       "4  Justitiedepartementet L5         None    sfs  sfs   sfst   2020:792   \n",
       "\n",
       "  tempbeteckning nummer status score  \\\n",
       "0           None    827   None   220   \n",
       "1           None    824   None   220   \n",
       "2           None    826   None   220   \n",
       "3           None    813   None   220   \n",
       "4           None    792   None   220   \n",
       "\n",
       "                                             sokdata summary  \\\n",
       "0  {'titel': 'Förordning med (2020:827) komplette...    None   \n",
       "1  {'titel': 'Förordning (2020:824) om försöksver...    None   \n",
       "2  {'titel': 'Lag med (2020:826) kompletterande b...    None   \n",
       "3  {'titel': 'Förordning (2020:813) om uppräkning...    None   \n",
       "4  {'titel': 'Förordning (2020:792) om verkställi...    None   \n",
       "\n",
       "                                         notisrubrik notis dokintressent  \\\n",
       "0  Förordning med (2020:827) kompletterande bestä...  None          None   \n",
       "1  Förordning (2020:824) om försöksverksamhet med...  None          None   \n",
       "2  Lag med (2020:826) kompletterande bestämmelser...  None          None   \n",
       "3  Förordning (2020:813) om uppräkningsfaktorer v...  None          None   \n",
       "4  Förordning (2020:792) om verkställighet av ung...  None          None   \n",
       "\n",
       "  filbilaga avdelning struktur audio video debattgrupp debattdag beslutsdag  \\\n",
       "0      None  dokument     None  None  None        None      None       None   \n",
       "1      None  dokument     None  None  None        None      None       None   \n",
       "2      None  dokument     None  None  None        None      None       None   \n",
       "3      None  dokument     None  None  None        None      None       None   \n",
       "4      None  dokument     None  None  None        None      None       None   \n",
       "\n",
       "  beredningsdag justeringsdag beslutad debattsekunder ardometyp reservationer  \\\n",
       "0          None          None     None           None      None          None   \n",
       "1          None          None     None           None      None          None   \n",
       "2          None          None     None           None      None          None   \n",
       "3          None          None     None           None      None          None   \n",
       "4          None          None     None           None      None          None   \n",
       "\n",
       "  debatt                  debattnamn                dokumentnamn  \n",
       "0   None  Svensk författningssamling  Svensk författningssamling  \n",
       "1   None  Svensk författningssamling  Svensk författningssamling  \n",
       "2   None  Svensk författningssamling  Svensk författningssamling  \n",
       "3   None  Svensk författningssamling  Svensk författningssamling  \n",
       "4   None  Svensk författningssamling  Svensk författningssamling  "
      ]
     },
     "execution_count": 2,
     "metadata": {},
     "output_type": "execute_result"
    }
   ],
   "source": [
    "import urllib3, json\n",
    "import pandas as pd \n",
    "from tqdm.notebook import trange  \n",
    "http = urllib3.PoolManager() \n",
    "pd.set_option(\"display.max.columns\", None) \n",
    "urlbase =\"http://data.riksdagen.se/dokumentlista/?sok=&doktyp=SFS&utformat=json&start=\"\n",
    "\n",
    "dftot = pd.DataFrame()\n",
    "for i in trange(1,700): # looks we today have 10504 SFS --> 10503/20\n",
    "    url = urlbase + str(i)\n",
    "    r = http.request('GET', url)\n",
    "    data = json.loads(r.data)\n",
    "    r = http.request('GET', url)\n",
    "    dftot = dftot.append(pd.DataFrame(data[\"dokumentlista\"][\"dokument\"]),sort=False)\n",
    "dftot.head()\n"
   ]
  },
  {
   "cell_type": "code",
   "execution_count": 3,
   "metadata": {},
   "outputs": [
    {
     "name": "stdout",
     "output_type": "stream",
     "text": [
      "Min och Max publicerad:  2015-01-26 18:18:04 2020-10-04 04:37:57\n"
     ]
    }
   ],
   "source": [
    "print(\"Min och Max publicerad: \", dftot.publicerad.min(), dftot.publicerad.max())"
   ]
  },
  {
   "cell_type": "code",
   "execution_count": 4,
   "metadata": {},
   "outputs": [
    {
     "name": "stdout",
     "output_type": "stream",
     "text": [
      "Min och Max datum:  1942-12-04 2020-10-01\n"
     ]
    }
   ],
   "source": [
    "print(\"Min och Max datum: \", dftot.datum.min(), dftot.datum.max())"
   ]
  },
  {
   "cell_type": "code",
   "execution_count": 5,
   "metadata": {},
   "outputs": [
    {
     "name": "stdout",
     "output_type": "stream",
     "text": [
      "Min och Max systemdatum:  2015-01-26 18:18:04 2020-10-04 04:37:57\n"
     ]
    }
   ],
   "source": [
    "print(\"Min och Max systemdatum: \", dftot.systemdatum.min(), dftot.systemdatum.max())"
   ]
  },
  {
   "cell_type": "code",
   "execution_count": 6,
   "metadata": {},
   "outputs": [
    {
     "name": "stdout",
     "output_type": "stream",
     "text": [
      "<class 'pandas.core.frame.DataFrame'>\n",
      "Int64Index: 13980 entries, 0 to 19\n",
      "Data columns (total 59 columns):\n",
      " #   Column             Non-Null Count  Dtype \n",
      "---  ------             --------------  ----- \n",
      " 0   traff              13980 non-null  object\n",
      " 1   domain             13980 non-null  object\n",
      " 2   database           13980 non-null  object\n",
      " 3   datum              13980 non-null  object\n",
      " 4   id                 13980 non-null  object\n",
      " 5   rdrest             0 non-null      object\n",
      " 6   slutdatum          0 non-null      object\n",
      " 7   rddata             0 non-null      object\n",
      " 8   plats              0 non-null      object\n",
      " 9   klockslag          0 non-null      object\n",
      " 10  publicerad         13980 non-null  object\n",
      " 11  systemdatum        13980 non-null  object\n",
      " 12  undertitel         6138 non-null   object\n",
      " 13  kalla              204 non-null    object\n",
      " 14  kall_id            204 non-null    object\n",
      " 15  dok_id             13980 non-null  object\n",
      " 16  dokumentformat     0 non-null      object\n",
      " 17  dokument_url_text  13980 non-null  object\n",
      " 18  dokument_url_html  13980 non-null  object\n",
      " 19  inlamnad           0 non-null      object\n",
      " 20  motionstid         0 non-null      object\n",
      " 21  tilldelat          0 non-null      object\n",
      " 22  lang               0 non-null      object\n",
      " 23  url                0 non-null      object\n",
      " 24  relurl             0 non-null      object\n",
      " 25  titel              13980 non-null  object\n",
      " 26  rm                 13980 non-null  object\n",
      " 27  organ              13964 non-null  object\n",
      " 28  relaterat_id       0 non-null      object\n",
      " 29  doktyp             13980 non-null  object\n",
      " 30  typ                13980 non-null  object\n",
      " 31  subtyp             13980 non-null  object\n",
      " 32  beteckning         13776 non-null  object\n",
      " 33  tempbeteckning     204 non-null    object\n",
      " 34  nummer             13980 non-null  object\n",
      " 35  status             204 non-null    object\n",
      " 36  score              13980 non-null  object\n",
      " 37  sokdata            13980 non-null  object\n",
      " 38  summary            204 non-null    object\n",
      " 39  notisrubrik        13980 non-null  object\n",
      " 40  notis              204 non-null    object\n",
      " 41  dokintressent      0 non-null      object\n",
      " 42  filbilaga          204 non-null    object\n",
      " 43  avdelning          13980 non-null  object\n",
      " 44  struktur           0 non-null      object\n",
      " 45  audio              0 non-null      object\n",
      " 46  video              0 non-null      object\n",
      " 47  debattgrupp        0 non-null      object\n",
      " 48  debattdag          0 non-null      object\n",
      " 49  beslutsdag         0 non-null      object\n",
      " 50  beredningsdag      0 non-null      object\n",
      " 51  justeringsdag      0 non-null      object\n",
      " 52  beslutad           0 non-null      object\n",
      " 53  debattsekunder     0 non-null      object\n",
      " 54  ardometyp          0 non-null      object\n",
      " 55  reservationer      0 non-null      object\n",
      " 56  debatt             0 non-null      object\n",
      " 57  debattnamn         13980 non-null  object\n",
      " 58  dokumentnamn       13980 non-null  object\n",
      "dtypes: object(59)\n",
      "memory usage: 6.4+ MB\n"
     ]
    }
   ],
   "source": [
    "dftot.info()"
   ]
  },
  {
   "cell_type": "code",
   "execution_count": 7,
   "metadata": {},
   "outputs": [
    {
     "data": {
      "text/html": [
       "<div>\n",
       "<style scoped>\n",
       "    .dataframe tbody tr th:only-of-type {\n",
       "        vertical-align: middle;\n",
       "    }\n",
       "\n",
       "    .dataframe tbody tr th {\n",
       "        vertical-align: top;\n",
       "    }\n",
       "\n",
       "    .dataframe thead th {\n",
       "        text-align: right;\n",
       "    }\n",
       "</style>\n",
       "<table border=\"1\" class=\"dataframe\">\n",
       "  <thead>\n",
       "    <tr style=\"text-align: right;\">\n",
       "      <th></th>\n",
       "      <th>nummer</th>\n",
       "      <th>titel</th>\n",
       "      <th>publicerad</th>\n",
       "      <th>beslutad</th>\n",
       "      <th>datum</th>\n",
       "      <th>summary</th>\n",
       "    </tr>\n",
       "  </thead>\n",
       "  <tbody>\n",
       "    <tr>\n",
       "      <th>0</th>\n",
       "      <td>827</td>\n",
       "      <td>Förordning med (2020:827) kompletterande bestä...</td>\n",
       "      <td>2020-10-03 04:43:50</td>\n",
       "      <td>None</td>\n",
       "      <td>2020-10-01</td>\n",
       "      <td>None</td>\n",
       "    </tr>\n",
       "    <tr>\n",
       "      <th>1</th>\n",
       "      <td>824</td>\n",
       "      <td>Förordning (2020:824) om försöksverksamhet med...</td>\n",
       "      <td>2020-10-03 04:43:49</td>\n",
       "      <td>None</td>\n",
       "      <td>2020-10-01</td>\n",
       "      <td>None</td>\n",
       "    </tr>\n",
       "    <tr>\n",
       "      <th>2</th>\n",
       "      <td>826</td>\n",
       "      <td>Lag med (2020:826) kompletterande bestämmelser...</td>\n",
       "      <td>2020-10-03 04:43:50</td>\n",
       "      <td>None</td>\n",
       "      <td>2020-10-01</td>\n",
       "      <td>None</td>\n",
       "    </tr>\n",
       "    <tr>\n",
       "      <th>3</th>\n",
       "      <td>813</td>\n",
       "      <td>Förordning (2020:813) om uppräkningsfaktorer v...</td>\n",
       "      <td>2020-09-29 04:35:04</td>\n",
       "      <td>None</td>\n",
       "      <td>2020-09-24</td>\n",
       "      <td>None</td>\n",
       "    </tr>\n",
       "    <tr>\n",
       "      <th>4</th>\n",
       "      <td>792</td>\n",
       "      <td>Förordning (2020:792) om verkställighet av ung...</td>\n",
       "      <td>2020-09-19 04:33:51</td>\n",
       "      <td>None</td>\n",
       "      <td>2020-09-17</td>\n",
       "      <td>None</td>\n",
       "    </tr>\n",
       "    <tr>\n",
       "      <th>...</th>\n",
       "      <td>...</td>\n",
       "      <td>...</td>\n",
       "      <td>...</td>\n",
       "      <td>...</td>\n",
       "      <td>...</td>\n",
       "      <td>...</td>\n",
       "    </tr>\n",
       "    <tr>\n",
       "      <th>15</th>\n",
       "      <td>937</td>\n",
       "      <td>Kungörelse (1942:937) med föreskrift jämlikt 1...</td>\n",
       "      <td>2016-02-11 15:28:14</td>\n",
       "      <td>None</td>\n",
       "      <td>1942-12-18</td>\n",
       "      <td>None</td>\n",
       "    </tr>\n",
       "    <tr>\n",
       "      <th>16</th>\n",
       "      <td>929</td>\n",
       "      <td>Förordning (1942:929)\\nom vården av vissa kyrk...</td>\n",
       "      <td>2016-02-11 15:26:14</td>\n",
       "      <td>None</td>\n",
       "      <td>1942-12-11</td>\n",
       "      <td>None</td>\n",
       "    </tr>\n",
       "    <tr>\n",
       "      <th>17</th>\n",
       "      <td>927</td>\n",
       "      <td>/r1/ Kungl. Maj:ts Brev (1942:927) \\ntill riks...</td>\n",
       "      <td>2016-02-11 15:26:18</td>\n",
       "      <td>None</td>\n",
       "      <td>1942-12-11</td>\n",
       "      <td>None</td>\n",
       "    </tr>\n",
       "    <tr>\n",
       "      <th>18</th>\n",
       "      <td>926</td>\n",
       "      <td>Förordning (1942:926)\\nom fornminnen\\n</td>\n",
       "      <td>2016-02-11 15:25:55</td>\n",
       "      <td>None</td>\n",
       "      <td>1942-12-11</td>\n",
       "      <td>None</td>\n",
       "    </tr>\n",
       "    <tr>\n",
       "      <th>19</th>\n",
       "      <td>981</td>\n",
       "      <td>Brev (1942:981) till vetenskapsakademien angåe...</td>\n",
       "      <td>2016-02-11 15:26:15</td>\n",
       "      <td>None</td>\n",
       "      <td>1942-12-04</td>\n",
       "      <td>None</td>\n",
       "    </tr>\n",
       "  </tbody>\n",
       "</table>\n",
       "<p>13980 rows × 6 columns</p>\n",
       "</div>"
      ],
      "text/plain": [
       "   nummer                                              titel  \\\n",
       "0     827  Förordning med (2020:827) kompletterande bestä...   \n",
       "1     824  Förordning (2020:824) om försöksverksamhet med...   \n",
       "2     826  Lag med (2020:826) kompletterande bestämmelser...   \n",
       "3     813  Förordning (2020:813) om uppräkningsfaktorer v...   \n",
       "4     792  Förordning (2020:792) om verkställighet av ung...   \n",
       "..    ...                                                ...   \n",
       "15    937  Kungörelse (1942:937) med föreskrift jämlikt 1...   \n",
       "16    929  Förordning (1942:929)\\nom vården av vissa kyrk...   \n",
       "17    927  /r1/ Kungl. Maj:ts Brev (1942:927) \\ntill riks...   \n",
       "18    926             Förordning (1942:926)\\nom fornminnen\\n   \n",
       "19    981  Brev (1942:981) till vetenskapsakademien angåe...   \n",
       "\n",
       "             publicerad beslutad       datum summary  \n",
       "0   2020-10-03 04:43:50     None  2020-10-01    None  \n",
       "1   2020-10-03 04:43:49     None  2020-10-01    None  \n",
       "2   2020-10-03 04:43:50     None  2020-10-01    None  \n",
       "3   2020-09-29 04:35:04     None  2020-09-24    None  \n",
       "4   2020-09-19 04:33:51     None  2020-09-17    None  \n",
       "..                  ...      ...         ...     ...  \n",
       "15  2016-02-11 15:28:14     None  1942-12-18    None  \n",
       "16  2016-02-11 15:26:14     None  1942-12-11    None  \n",
       "17  2016-02-11 15:26:18     None  1942-12-11    None  \n",
       "18  2016-02-11 15:25:55     None  1942-12-11    None  \n",
       "19  2016-02-11 15:26:15     None  1942-12-04    None  \n",
       "\n",
       "[13980 rows x 6 columns]"
      ]
     },
     "execution_count": 7,
     "metadata": {},
     "output_type": "execute_result"
    }
   ],
   "source": [
    "dftot[['nummer','titel','publicerad','beslutad','datum','summary']] \n"
   ]
  },
  {
   "cell_type": "code",
   "execution_count": 8,
   "metadata": {},
   "outputs": [
    {
     "data": {
      "text/plain": [
       "array(['2020-10-03 04:43:50', '2020-10-03 04:43:49',\n",
       "       '2020-09-29 04:35:04', ..., '2017-12-30 04:34:35',\n",
       "       '2019-04-17 04:33:19', '2019-02-20 04:39:28'], dtype=object)"
      ]
     },
     "execution_count": 8,
     "metadata": {},
     "output_type": "execute_result"
    }
   ],
   "source": [
    "dftot.publicerad.unique()"
   ]
  },
  {
   "cell_type": "code",
   "execution_count": 9,
   "metadata": {},
   "outputs": [
    {
     "data": {
      "text/plain": [
       "2016-02-11 15:25:55    1022\n",
       "2016-02-11 15:25:07     423\n",
       "2016-02-11 15:28:14     417\n",
       "2016-02-11 15:26:10     255\n",
       "2016-02-11 15:26:19     248\n",
       "                       ... \n",
       "2020-06-13 04:38:40       1\n",
       "2019-03-22 04:34:59       1\n",
       "2019-03-06 04:34:49       1\n",
       "2018-11-06 04:41:21       1\n",
       "2017-01-25 04:38:03       1\n",
       "Name: publicerad, Length: 2235, dtype: int64"
      ]
     },
     "execution_count": 9,
     "metadata": {},
     "output_type": "execute_result"
    }
   ],
   "source": [
    "dftot.publicerad.value_counts()"
   ]
  },
  {
   "cell_type": "code",
   "execution_count": 10,
   "metadata": {},
   "outputs": [
    {
     "data": {
      "text/plain": [
       "2020-10-04 04:37:57     1\n",
       "2020-10-03 04:43:50     2\n",
       "2020-10-03 04:43:49     1\n",
       "2020-10-03 04:43:48     1\n",
       "2020-10-03 04:43:43     1\n",
       "                       ..\n",
       "2016-02-11 15:24:56    26\n",
       "2016-02-11 15:24:55    32\n",
       "2016-02-11 15:24:54    22\n",
       "2015-12-22 04:36:11     1\n",
       "2015-01-26 18:18:04     5\n",
       "Name: publicerad, Length: 2235, dtype: int64"
      ]
     },
     "execution_count": 10,
     "metadata": {},
     "output_type": "execute_result"
    }
   ],
   "source": [
    "dftot.publicerad.value_counts().sort_index(ascending=False)"
   ]
  },
  {
   "cell_type": "code",
   "execution_count": 11,
   "metadata": {},
   "outputs": [
    {
     "ename": "NameError",
     "evalue": "name 'ftot' is not defined",
     "output_type": "error",
     "traceback": [
      "\u001b[0;31m---------------------------------------------------------------------------\u001b[0m",
      "\u001b[0;31mNameError\u001b[0m                                 Traceback (most recent call last)",
      "\u001b[0;32m<ipython-input-11-f12b39070b7f>\u001b[0m in \u001b[0;36m<module>\u001b[0;34m\u001b[0m\n\u001b[0;32m----> 1\u001b[0;31m \u001b[0mftot\u001b[0m\u001b[0;34m.\u001b[0m\u001b[0mpublicerad\u001b[0m\u001b[0;34m.\u001b[0m\u001b[0mvalue_counts\u001b[0m\u001b[0;34m(\u001b[0m\u001b[0;34m)\u001b[0m\u001b[0;34m.\u001b[0m\u001b[0msort_index\u001b[0m\u001b[0;34m(\u001b[0m\u001b[0mascending\u001b[0m\u001b[0;34m=\u001b[0m\u001b[0;32mFalse\u001b[0m\u001b[0;34m)\u001b[0m\u001b[0;34m[\u001b[0m\u001b[0;34m:\u001b[0m\u001b[0;36m50\u001b[0m\u001b[0;34m]\u001b[0m\u001b[0;34m\u001b[0m\u001b[0;34m\u001b[0m\u001b[0m\n\u001b[0m",
      "\u001b[0;31mNameError\u001b[0m: name 'ftot' is not defined"
     ]
    }
   ],
   "source": [
    "ftot.publicerad.value_counts().sort_index(ascending=False)[:50]"
   ]
  },
  {
   "cell_type": "code",
   "execution_count": null,
   "metadata": {},
   "outputs": [],
   "source": [
    "%matplotlib inline  \n",
    "import matplotlib.pyplot as plt   \n",
    "plot = dftot.publicerad.value_counts()[1:30].plot.bar(y='counts', figsize=(25, 5)) \n",
    "plt.show()"
   ]
  },
  {
   "cell_type": "code",
   "execution_count": null,
   "metadata": {},
   "outputs": [],
   "source": [
    "%matplotlib inline  \n",
    "import matplotlib.pyplot as plt   \n",
    "plot = dftot.datum.value_counts()[1:30].plot.bar(y='counts', figsize=(25, 5)) \n",
    "plt.show()"
   ]
  },
  {
   "cell_type": "code",
   "execution_count": null,
   "metadata": {},
   "outputs": [],
   "source": [
    "plotPublishedSFSperMonth = dftot['publicerad'].groupby(dftot.publicerad.dt.to_period(\"M\")).agg('count')\n",
    "plotPublishedSFSperMonth.plot( kind = 'bar') \n",
    "plt.title(\"SFS per month\")\n",
    "plt.show()"
   ]
  },
  {
   "cell_type": "code",
   "execution_count": null,
   "metadata": {},
   "outputs": [],
   "source": [
    "plotDatumSFSperMonth = dftot['datum'].groupby(dftot.datum.dt.to_period(\"M\")).agg('count')\n",
    "plotDatumSFSperMonth.plot( kind = 'bar') \n",
    "plt.title(\"SFS Datum per month\")\n",
    "plt.show()"
   ]
  },
  {
   "cell_type": "code",
   "execution_count": null,
   "metadata": {},
   "outputs": [],
   "source": [
    "plotDatumSFSperMonth = dftot['datum'].groupby(dftot.datum.dt.to_period(\"M\")).agg('count')[10:]\n",
    "plotDatumSFSperMonth.plot( kind = 'bar') \n",
    "plt.title(\"SFS Datum per month\")\n",
    "plt.figsize=(5, 35) \n",
    "\n",
    "plt.show()"
   ]
  },
  {
   "cell_type": "code",
   "execution_count": null,
   "metadata": {},
   "outputs": [],
   "source": [
    "plotDatumSFSperMonth"
   ]
  },
  {
   "cell_type": "code",
   "execution_count": null,
   "metadata": {},
   "outputs": [],
   "source": [
    "#Last year \n",
    "PublishedSFS2016perMonth =  dftot[dftot[\"publicerad\"].dt.year > 2016 ]\n",
    "plotPublishedSFS2016perMonth = PublishedSFS2016perMonth['publicerad'].groupby(PublishedSFS2016perMonth.publicerad.dt.to_period(\"M\")).agg('count')\n",
    "plotPublishedSFS2016perMonth.plot( kind = 'bar',) \n",
    "plt.title(\"SFS > 2016 per month\")\n",
    "plt.figsize=(5, 35) \n",
    "figure(figsize=(1,1)) \n",
    "plt.show()\n"
   ]
  },
  {
   "cell_type": "code",
   "execution_count": null,
   "metadata": {},
   "outputs": [],
   "source": [
    "plotDatumSFSperMonth[100:]"
   ]
  },
  {
   "cell_type": "code",
   "execution_count": null,
   "metadata": {},
   "outputs": [],
   "source": [
    " dftot.debattnamn.value_counts()"
   ]
  },
  {
   "cell_type": "code",
   "execution_count": null,
   "metadata": {},
   "outputs": [],
   "source": [
    "dftot.info()"
   ]
  },
  {
   "cell_type": "code",
   "execution_count": null,
   "metadata": {},
   "outputs": [],
   "source": [
    "organCount = dftot.organ.value_counts() \n",
    "organCount"
   ]
  },
  {
   "cell_type": "code",
   "execution_count": null,
   "metadata": {},
   "outputs": [],
   "source": [
    "dftot.organ.value_counts().plot.pie(y='counts', figsize=(15, 15)) \n",
    "plt.show()"
   ]
  },
  {
   "cell_type": "code",
   "execution_count": null,
   "metadata": {},
   "outputs": [],
   "source": [
    "dftot.organ.value_counts()[1:50]"
   ]
  },
  {
   "cell_type": "code",
   "execution_count": null,
   "metadata": {},
   "outputs": [],
   "source": [
    "dftot.organ.value_counts()[50:100]"
   ]
  },
  {
   "cell_type": "code",
   "execution_count": null,
   "metadata": {},
   "outputs": [],
   "source": [
    "dftot.organ.value_counts()[100:150]"
   ]
  },
  {
   "cell_type": "code",
   "execution_count": null,
   "metadata": {},
   "outputs": [],
   "source": [
    "dftot.domain.value_counts()"
   ]
  },
  {
   "cell_type": "code",
   "execution_count": null,
   "metadata": {},
   "outputs": [],
   "source": [
    "dftot.rm.value_counts() \n",
    "plotRM = dftot.rm.value_counts().plot.bar(y='counts', figsize=(25, 5)) \n",
    "plt.show()"
   ]
  },
  {
   "cell_type": "code",
   "execution_count": null,
   "metadata": {},
   "outputs": [],
   "source": [
    "dftot['datum'] =pd.to_datetime(dftot.datum)  \n",
    "dftot['publicerad'] =pd.to_datetime(dftot.publicerad)  \n",
    "dftot['systemdatum'] =pd.to_datetime(dftot.systemdatum, format='%Y-%m-%d')\n",
    "# 2016-02-11 15:26:06"
   ]
  },
  {
   "cell_type": "code",
   "execution_count": null,
   "metadata": {},
   "outputs": [],
   "source": [
    "dftot.info()"
   ]
  },
  {
   "cell_type": "code",
   "execution_count": null,
   "metadata": {},
   "outputs": [],
   "source": [
    "dftot = dftot.sort_values('datum') \n",
    "dftot.head()"
   ]
  },
  {
   "cell_type": "code",
   "execution_count": null,
   "metadata": {},
   "outputs": [],
   "source": [
    "dftot.tail()"
   ]
  },
  {
   "cell_type": "code",
   "execution_count": null,
   "metadata": {},
   "outputs": [],
   "source": [
    "dftot.subtyp.value_counts()"
   ]
  },
  {
   "cell_type": "markdown",
   "metadata": {},
   "source": [
    "Gissning \n",
    "* regl-riksg verkar vara Reglemente för Riksgäldskontoret \n",
    "* regl-riksb är nog Riksbanken"
   ]
  },
  {
   "cell_type": "code",
   "execution_count": null,
   "metadata": {},
   "outputs": [],
   "source": [
    "dftot.debattnamn.value_counts()"
   ]
  },
  {
   "cell_type": "code",
   "execution_count": null,
   "metadata": {},
   "outputs": [],
   "source": [
    "ftot = dftot.sort_values(by='id', ascending=False) "
   ]
  },
  {
   "cell_type": "code",
   "execution_count": null,
   "metadata": {},
   "outputs": [],
   "source": [
    "dftot.info()"
   ]
  },
  {
   "cell_type": "code",
   "execution_count": null,
   "metadata": {},
   "outputs": [],
   "source": [
    "dftot.head(1000) "
   ]
  },
  {
   "cell_type": "code",
   "execution_count": null,
   "metadata": {},
   "outputs": [],
   "source": [
    "print(\"End run: \", datetime.now())"
   ]
  },
  {
   "cell_type": "code",
   "execution_count": null,
   "metadata": {},
   "outputs": [],
   "source": []
  }
 ],
 "metadata": {
  "kernelspec": {
   "display_name": "Python 3",
   "language": "python",
   "name": "python3"
  },
  "language_info": {
   "codemirror_mode": {
    "name": "ipython",
    "version": 3
   },
   "file_extension": ".py",
   "mimetype": "text/x-python",
   "name": "python",
   "nbconvert_exporter": "python",
   "pygments_lexer": "ipython3",
   "version": "3.8.0"
  }
 },
 "nbformat": 4,
 "nbformat_minor": 4
}
