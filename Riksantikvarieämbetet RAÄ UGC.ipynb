{
 "cells": [
  {
   "cell_type": "markdown",
   "metadata": {},
   "source": [
    "## Riksantikvarieämbetet RAÄ - kulturarvsdata - UGC\n",
    "version 1.3 \n",
    "\n",
    "get UGC data [see API](http://ugc.kulturarvsdata.se/UGC-hub/api/documentation)\n",
    "and understand how they link Europeana etc... \n",
    "\n",
    "* this [notebook](https://github.com/salgo60/open-data-examples/blob/master/Riksantikvarie%C3%A4mbetet%20RA%C3%84%20UGC.ipynb)\n",
    "* [blogpost](https://minancestry.blogspot.com/2020/06/check-status-kulturnav-raa.html)"
   ]
  },
  {
   "cell_type": "code",
   "execution_count": 2,
   "metadata": {},
   "outputs": [
    {
     "data": {
      "application/vnd.jupyter.widget-view+json": {
       "model_id": "81d3f361bb9444fabc14660e83d395e7",
       "version_major": 2,
       "version_minor": 0
      },
      "text/plain": [
       "  0%|          | 0/3000 [00:00<?, ?it/s]"
      ]
     },
     "metadata": {},
     "output_type": "display_data"
    },
    {
     "ename": "KeyError",
     "evalue": "'relations'",
     "output_type": "error",
     "traceback": [
      "\u001b[0;31m---------------------------------------------------------------------------\u001b[0m",
      "\u001b[0;31mKeyError\u001b[0m                                  Traceback (most recent call last)",
      "\u001b[0;32m<ipython-input-2-6f3fe07ba937>\u001b[0m in \u001b[0;36m<module>\u001b[0;34m\u001b[0m\n\u001b[1;32m     14\u001b[0m     \u001b[0mdata\u001b[0m \u001b[0;34m=\u001b[0m \u001b[0mjson\u001b[0m\u001b[0;34m.\u001b[0m\u001b[0mloads\u001b[0m\u001b[0;34m(\u001b[0m\u001b[0mr\u001b[0m\u001b[0;34m.\u001b[0m\u001b[0mdata\u001b[0m\u001b[0;34m)\u001b[0m\u001b[0;34m\u001b[0m\u001b[0;34m\u001b[0m\u001b[0m\n\u001b[1;32m     15\u001b[0m     \u001b[0;31m#print(data[\"response\"])\u001b[0m\u001b[0;34m\u001b[0m\u001b[0;34m\u001b[0m\u001b[0;34m\u001b[0m\u001b[0m\n\u001b[0;32m---> 16\u001b[0;31m     \u001b[0mdftot\u001b[0m \u001b[0;34m=\u001b[0m \u001b[0mdftot\u001b[0m\u001b[0;34m.\u001b[0m\u001b[0mappend\u001b[0m\u001b[0;34m(\u001b[0m\u001b[0mpd\u001b[0m\u001b[0;34m.\u001b[0m\u001b[0mDataFrame\u001b[0m\u001b[0;34m(\u001b[0m\u001b[0mdata\u001b[0m\u001b[0;34m[\u001b[0m\u001b[0;34m\"response\"\u001b[0m\u001b[0;34m]\u001b[0m\u001b[0;34m[\u001b[0m\u001b[0;34m\"relations\"\u001b[0m\u001b[0;34m]\u001b[0m\u001b[0;34m)\u001b[0m\u001b[0;34m,\u001b[0m\u001b[0msort\u001b[0m\u001b[0;34m=\u001b[0m\u001b[0;32mFalse\u001b[0m\u001b[0;34m)\u001b[0m\u001b[0;34m\u001b[0m\u001b[0;34m\u001b[0m\u001b[0m\n\u001b[0m\u001b[1;32m     17\u001b[0m \u001b[0mprint\u001b[0m\u001b[0;34m(\u001b[0m\u001b[0mdftot\u001b[0m\u001b[0;34m.\u001b[0m\u001b[0mhead\u001b[0m\u001b[0;34m(\u001b[0m\u001b[0;34m)\u001b[0m\u001b[0;34m)\u001b[0m\u001b[0;34m\u001b[0m\u001b[0;34m\u001b[0m\u001b[0m\n\u001b[1;32m     18\u001b[0m \u001b[0mprint\u001b[0m\u001b[0;34m(\u001b[0m\u001b[0mdftot\u001b[0m\u001b[0;34m.\u001b[0m\u001b[0muserName\u001b[0m\u001b[0;34m.\u001b[0m\u001b[0munique\u001b[0m\u001b[0;34m(\u001b[0m\u001b[0;34m)\u001b[0m\u001b[0;34m)\u001b[0m\u001b[0;34m\u001b[0m\u001b[0;34m\u001b[0m\u001b[0m\n",
      "\u001b[0;31mKeyError\u001b[0m: 'relations'"
     ]
    }
   ],
   "source": [
    "# get all records UGC just sends 200 records --> we need to loop and I guess max3000000 records\n",
    "import urllib3, json\n",
    "import pandas as pd  \n",
    "from tqdm.notebook import trange \n",
    "http = urllib3.PoolManager()\n",
    "maxCount=1000\n",
    "urlbase = \"http://ugc.kulturarvsdata.se/UGC-hub/api?method=retrieve&scope=all&maxCount=\" + str(maxCount) + \"&objectUri=all&format=json&selectFrom=\"\n",
    "pd.set_option(\"display.max.columns\", None) \n",
    "dftot = pd.DataFrame()\n",
    "maxCount=1000\n",
    "for i in trange(1,3000000,maxCount):\n",
    "    url = urlbase + str(i)\n",
    "    r = http.request('GET', url)\n",
    "    data = json.loads(r.data)\n",
    "    #print(data[\"response\"])\n",
    "    dftot = dftot.append(pd.DataFrame(data[\"response\"][\"relations\"]),sort=False)\n",
    "print(dftot.head())\n",
    "print(dftot.userName.unique()) \n"
   ]
  },
  {
   "cell_type": "code",
   "execution_count": null,
   "metadata": {},
   "outputs": [],
   "source": [
    "print(dftot.info())"
   ]
  },
  {
   "cell_type": "code",
   "execution_count": null,
   "metadata": {},
   "outputs": [],
   "source": [
    "print(dftot.applicationName.unique())"
   ]
  },
  {
   "cell_type": "code",
   "execution_count": null,
   "metadata": {},
   "outputs": [],
   "source": [
    "dftot.relationType.unique()"
   ]
  },
  {
   "cell_type": "markdown",
   "metadata": {},
   "source": [
    "### UGC  \n",
    "11 relationstyper jmf Wikidata > [7650 egenskaper](https://w.wiki/DYS) dvs. om målet är att \"användare kan bidra själv med semantiska länkar\" så känns det bättre om användaren gör det hos Wikidata där det finns stöd att även ange [semantiska länkar i bilderna](https://www.youtube.com/watch?v=lmWmMIuCJVM&t=158s) ?!?!? "
   ]
  },
  {
   "cell_type": "code",
   "execution_count": null,
   "metadata": {},
   "outputs": [],
   "source": [
    "dftot[\"relationType\"].value_counts()"
   ]
  },
  {
   "cell_type": "code",
   "execution_count": null,
   "metadata": {},
   "outputs": [],
   "source": [
    "%matplotlib inline  \n",
    "import matplotlib.pyplot as plt  \n",
    "plot = dftot[\"relationType\"].value_counts().plot.pie(y='counts', figsize=(5, 5))  \n",
    "plt.show()"
   ]
  },
  {
   "cell_type": "code",
   "execution_count": null,
   "metadata": {},
   "outputs": [],
   "source": [
    "# objekt med relatedUri borde finnas med Wikicommon objektet som sedan borde \n",
    "# peka tillbaka till K-samsök ? \n",
    "dftot.head(30)"
   ]
  },
  {
   "cell_type": "code",
   "execution_count": null,
   "metadata": {},
   "outputs": [],
   "source": [
    "dftot.tail(30)"
   ]
  },
  {
   "cell_type": "code",
   "execution_count": null,
   "metadata": {},
   "outputs": [],
   "source": [
    "isCommon = dftot[dftot['relatedUri'].str.contains(\"commons.wikimedia.org\", na=False)]\n",
    "isCommon.head()"
   ]
  },
  {
   "cell_type": "code",
   "execution_count": null,
   "metadata": {},
   "outputs": [],
   "source": [
    "isCommon.info()"
   ]
  },
  {
   "cell_type": "code",
   "execution_count": null,
   "metadata": {},
   "outputs": [],
   "source": [
    "isCommon.relationType.unique()"
   ]
  },
  {
   "cell_type": "code",
   "execution_count": null,
   "metadata": {},
   "outputs": [],
   "source": [
    "isCommon[\"relationType\"].value_counts()"
   ]
  },
  {
   "cell_type": "code",
   "execution_count": null,
   "metadata": {},
   "outputs": [],
   "source": [
    "isCommon[\"userName\"].value_counts() "
   ]
  },
  {
   "cell_type": "code",
   "execution_count": null,
   "metadata": {},
   "outputs": [],
   "source": [
    "isCommon.tail(100)"
   ]
  },
  {
   "cell_type": "markdown",
   "metadata": {},
   "source": [
    "## [Dataroundtrip Wikicommon <-> Kulturarvsdata](#dataroundtrip) \n",
    "se även tankar om [Digitaltmuseum dataroundtrip](https://minancestry.blogspot.com/2020/06/draft-kulturnav.html#Dataroundtrip) och [blogpost](https://minancestry.blogspot.com/2020/06/check-status-kulturnav-raa.html)\n",
    "\n",
    "Skall dataroundtrip fungera behöver vi koppla ihop bilderna så att Wikicommons vet om kulturarvsdata och vice versa\n",
    "\n",
    "id 1079458  \n",
    "\n",
    "http://ugc.kulturarvsdata.se/UGC-hub/api?method=retrieve&objectUri=all&contentId=1079458&scope=single  \n",
    " \n",
    "``` \n",
    "<response>\n",
    " <apiVersion>1.0</apiVersion>\n",
    " <relations>\n",
    "  <relationType>isVisualizedBy</relationType>\n",
    "  <relatedUri>https://commons.wikimedia.org/wiki/File:Skeppshamns_kapell,_Tyndero_2006-02-27.jpg</relatedUri>\n",
    "  <tagValue/>\n",
    "  <coordinateValue/>\n",
    "  <commentValue/>\n",
    "  <imageUrl/>\n",
    "  <id>1079458</id>\n",
    "  <uri>http://kulturarvsdata.se/raa/kmb/16000200045362</uri>\n",
    "  <userName>blajo</userName>\n",
    "  <applicationName>Kringla</applicationName>\n",
    "  <createDate>2013-09-14</createDate>\n",
    "  <updateDate/>\n",
    " </relations>\n",
    "</response> \n",
    "```\n",
    "-->   [File:Skeppshamns_kapell,_Tyndero_2006-02-27.jpg](https://commons.wikimedia.org/wiki/File:Skeppshamns_kapell,_Tyndero_2006-02-27.jpg)  \n",
    "1. används i Wikidata [Q30313619](https://www.wikidata.org/wiki/Q30313619)\n",
    "1. Wikicommon [M723463](https://commons.wikimedia.org/wiki/Special:EntityData/M723463.json) \n",
    "```\n",
    "{\n",
    "   entities: {\n",
    "   M723463: {\n",
    "   pageid: 723463,\n",
    "   ns: 6,\n",
    "   title: \"File:Skeppshamns kapell, Tyndero 2006-02-27.jpg\",\n",
    "   lastrevid: 427376612,\n",
    "   modified: \"2020-06-18T20:24:28Z\",\n",
    "   type: \"mediainfo\",\n",
    "   id: \"M723463\",\n",
    "   labels: { },\n",
    "   descriptions: { },\n",
    "   statements: {\n",
    "      P180: [\n",
    "          {\n",
    "             mainsnak: {\n",
    "                snaktype: \"value\",\n",
    "                property: \"P180\",\n",
    "                datavalue: {\n",
    "                   value: {\n",
    "                      entity-type: \"item\",\n",
    "                      numeric-id: 30313619,\n",
    "                      id: \"Q30313619\"\n",
    "                   },\n",
    "                   type: \"wikibase-entityid\"\n",
    "                }\n",
    "              },\n",
    "              type: \"statement\",\n",
    "              id: \"M723463$C3F19032-D57A-4208-B967-0F4C0C8D9E3D\",\n",
    "              rank: \"normal\"\n",
    "           }\n",
    "        ]\n",
    "     }\n",
    "    }\n",
    "  }\n",
    "}\n",
    "``` \n",
    "\n",
    "### Wikicommons bilden bör peka tillbaka till K-samsök URI  \n",
    "K-samsök URI = [Wikidata Property 1260](https://www.wikidata.org/wiki/Property:P1260) \n",
    "\n",
    "==> **Ny Wikicommon** [M723463](https://commons.wikimedia.org/wiki/Special:EntityData/M723463.json) med länk ** [raa/kmb/16000200045362](http://kulturarvsdata.se/raa/kmb/16000200045362) ** \n",
    "\n",
    "```  \n",
    "{\n",
    "   entities: {\n",
    "   M723463: {\n",
    "   pageid: 723463,\n",
    "   ns: 6,\n",
    "   title: \"File:Skeppshamns kapell, Tyndero 2006-02-27.jpg\",\n",
    "   lastrevid: 427376612,\n",
    "   modified: \"2020-06-18T20:24:28Z\",\n",
    "   type: \"mediainfo\",\n",
    "   id: \"M723463\",\n",
    "   labels: { },\n",
    "   descriptions: { },\n",
    "   statements: {\n",
    "      P180: [\n",
    "          {\n",
    "             mainsnak: {\n",
    "                snaktype: \"value\",\n",
    "                property: \"P180\",\n",
    "                datavalue: {\n",
    "                   value: {\n",
    "                      entity-type: \"item\",\n",
    "                      numeric-id: 30313619,\n",
    "                      id: \"Q30313619\"\n",
    "                   },\n",
    "                   type: \"wikibase-entityid\"\n",
    "                }\n",
    "              },\n",
    "              type: \"statement\",\n",
    "              id: \"M723463$C3F19032-D57A-4208-B967-0F4C0C8D9E3D\",\n",
    "              rank: \"normal\"\n",
    "           }\n",
    "       ]. \n",
    "       P1260: [\n",
    "          {\n",
    "             mainsnak: {\n",
    "               snaktype: \"value\",\n",
    "               property: \"P1260\",\n",
    "               datavalue: {        \n",
    "                   value: \"raa/kmb/16000200045362\",\n",
    "                   type: \"string\"\n",
    "                 }\n",
    "              },\n",
    "              type: \"statement\",\n",
    "              id: \"M723463$5369f899-4667-be9a-f9ba-40d8b90dabcc\",\n",
    "              rank: \"normal\"\n",
    "              }\n",
    "         ]\n",
    "     }\n",
    "    }\n",
    "  }\n",
    "}\n",
    "``` \n",
    "\n"
   ]
  },
  {
   "cell_type": "markdown",
   "metadata": {},
   "source": [
    "## Listar unika användare som bidragit\n"
   ]
  },
  {
   "cell_type": "code",
   "execution_count": null,
   "metadata": {},
   "outputs": [],
   "source": [
    "print(dftot.userName.unique())"
   ]
  },
  {
   "cell_type": "code",
   "execution_count": null,
   "metadata": {},
   "outputs": [],
   "source": [
    "usersActivity = dftot[\"userName\"].value_counts() \n",
    "for i,v in dftot[\"userName\"].value_counts().items():\n",
    "    print(i,\"\\t\",v)"
   ]
  },
  {
   "cell_type": "code",
   "execution_count": null,
   "metadata": {},
   "outputs": [],
   "source": [
    "percentage = dftot[\"userName\"].value_counts(normalize=True) \n"
   ]
  },
  {
   "cell_type": "code",
   "execution_count": null,
   "metadata": {},
   "outputs": [],
   "source": [
    "# Top 5 med procent andel --> 96 % gissar jag gjorts med program\n",
    "percentage[:5]"
   ]
  },
  {
   "cell_type": "code",
   "execution_count": null,
   "metadata": {},
   "outputs": [],
   "source": [
    "#Visa piechart \n",
    "plot = percentage.plot.pie(y='counts', figsize=(5, 5)) \n",
    "plt.show()"
   ]
  },
  {
   "cell_type": "code",
   "execution_count": null,
   "metadata": {},
   "outputs": [],
   "source": [
    "# Visa top 15 \n",
    "plot2 = percentage[:15].plot.bar(y='counts', figsize=(30, 5))  \n",
    "plt.show()"
   ]
  },
  {
   "cell_type": "code",
   "execution_count": null,
   "metadata": {},
   "outputs": [],
   "source": [
    "# Visa plats 6-40 \n",
    "plot2 = percentage[5:40].plot.bar(y='counts', figsize=(25, 5)) \n",
    "plt.show()"
   ]
  },
  {
   "cell_type": "code",
   "execution_count": null,
   "metadata": {},
   "outputs": [],
   "source": [
    "\n",
    "users = dftot[\"userName\"].value_counts()\n",
    "\n",
    "users.plot( kind = 'bar') \n",
    "plt.show()"
   ]
  },
  {
   "cell_type": "code",
   "execution_count": null,
   "metadata": {},
   "outputs": [],
   "source": [
    "dftot[\"createDate\"].value_counts()"
   ]
  },
  {
   "cell_type": "code",
   "execution_count": null,
   "metadata": {},
   "outputs": [],
   "source": [
    "dftot[\"createDate\"].value_counts().sort_index(ascending=False)"
   ]
  },
  {
   "cell_type": "code",
   "execution_count": null,
   "metadata": {},
   "outputs": [],
   "source": [
    "# UGC äldsta värde är 2012-02-02 (samma år som WD skapades) och \n",
    "# mer än hälften av posterna skapades under en dag 2020-06-17 igår...?!?!?\n",
    "dftot[\"createDate\"].value_counts().sort_index()"
   ]
  },
  {
   "cell_type": "code",
   "execution_count": null,
   "metadata": {},
   "outputs": [],
   "source": [
    "dfCreateDate = dftot[\"createDate\"].value_counts().sort_index()\n",
    "plotCreateDate = dfCreateDate.plot.pie(y='counts', figsize=(5, 5))  \n",
    "plt.show()"
   ]
  },
  {
   "cell_type": "code",
   "execution_count": null,
   "metadata": {},
   "outputs": [],
   "source": [
    "#Plot was hase been done the 100 latest  \n",
    "plotCreateDate1 =   dfCreateDate.sort_index(ascending=False)[:100].plot.pie(y='counts', figsize=(10, 10))  \n",
    "plt.show()"
   ]
  },
  {
   "cell_type": "code",
   "execution_count": null,
   "metadata": {},
   "outputs": [],
   "source": [
    "plotCreateDate1 =   dfCreateDate.sort_index(ascending=False)[:100].plot.bar(y='counts', figsize=(5, 5))  \n",
    "plt.show()"
   ]
  },
  {
   "cell_type": "code",
   "execution_count": null,
   "metadata": {},
   "outputs": [],
   "source": [
    "dfCreateDate.sort_index(level=0) "
   ]
  },
  {
   "cell_type": "code",
   "execution_count": null,
   "metadata": {},
   "outputs": [],
   "source": [
    "dfCreateDate.sort_index(level=0)"
   ]
  },
  {
   "cell_type": "markdown",
   "metadata": {},
   "source": [
    "Plot piechart user"
   ]
  },
  {
   "cell_type": "markdown",
   "metadata": {},
   "source": [
    "check links Europeana and if we have Linkeddata to agents ...."
   ]
  },
  {
   "cell_type": "code",
   "execution_count": null,
   "metadata": {},
   "outputs": [],
   "source": [
    "europeana = dftot['relatedUri'].str.contains(\"data.europeana.eu\") \n",
    "europeana.describe()"
   ]
  },
  {
   "cell_type": "code",
   "execution_count": null,
   "metadata": {},
   "outputs": [],
   "source": [
    "# 75 procent är länkar till Europeana dvs. troligen att samma objekt flyttats till Europeana \n",
    "# \n",
    "plotEuropeana = europeana.value_counts().plot.pie(y='counts', figsize=(5, 5))  "
   ]
  },
  {
   "cell_type": "markdown",
   "metadata": {},
   "source": [
    "## Koll om det finns kopplingar länkad data dvs agent  \n",
    "1966045 kopplingar verkar vara mellan objekt i kulturarvsdata till data.europeana.eu/item/  \n",
    "Koppling Länkad data hittad dvs. samma som [Europeana Entity](https://www.wikidata.org/wiki/Property:P7704) samma som [Europeana Entity API](https://pro.europeana.eu/page/entity) verkar vara 46 stycken jmf Wikidata Europeana Entity > [160 000](https://www.wikidata.org/wiki/Property:P7704). Gissar att man pekar på uppladdade objekt... \n",
    "\n",
    "Dvs. det är i princip ingen semantik som tillförs utan mer info om att en bild flyttats. Europeana i sig är väldigt svagt semantiskt utan verkar bara sitta och gissa se [the sad story of Carl Larsson](https://minancestry.blogspot.com/2020/03/carl-larsson-who-is-that-sadly.html)"
   ]
  },
  {
   "cell_type": "code",
   "execution_count": null,
   "metadata": {},
   "outputs": [],
   "source": [
    "europeanaagent = dftot['relatedUri'].str.contains(\"agent\",\"data.europeana.eu\") \n",
    "europeanaagent2 = europeanaagent[europeanaagent == True] \n",
    "europeanaagent2.describe()"
   ]
  },
  {
   "cell_type": "code",
   "execution_count": null,
   "metadata": {},
   "outputs": [],
   "source": [
    "pd.set_option('display.max_rows', None)"
   ]
  },
  {
   "cell_type": "code",
   "execution_count": null,
   "metadata": {},
   "outputs": [],
   "source": [
    "pd.options.display.max_rows"
   ]
  },
  {
   "cell_type": "code",
   "execution_count": null,
   "metadata": {},
   "outputs": [],
   "source": [
    "#Save session \n",
    "#import dill \n",
    "#dill.dump_session('ugc_env.db') \n",
    "# dill.load_session('ugc_env.db')"
   ]
  },
  {
   "cell_type": "markdown",
   "metadata": {},
   "source": [
    "## Svensk runbibliografi"
   ]
  },
  {
   "cell_type": "code",
   "execution_count": null,
   "metadata": {},
   "outputs": [],
   "source": [
    "Svenskrunbibliografi = dftot[dftot['applicationName'].str.contains(\"Svensk runbibliografi\",na=False)] \n"
   ]
  },
  {
   "cell_type": "code",
   "execution_count": null,
   "metadata": {},
   "outputs": [],
   "source": [
    "Svenskrunbibliografi.relationType.unique()"
   ]
  },
  {
   "cell_type": "code",
   "execution_count": null,
   "metadata": {},
   "outputs": [],
   "source": [
    "Svenskrunbibliografi.info()"
   ]
  },
  {
   "cell_type": "code",
   "execution_count": null,
   "metadata": {},
   "outputs": [],
   "source": [
    "Svenskrunbibliografi.userName.unique()"
   ]
  },
  {
   "cell_type": "code",
   "execution_count": null,
   "metadata": {},
   "outputs": [],
   "source": [
    "Svenskrunbibliografi.createDate.unique()"
   ]
  },
  {
   "cell_type": "code",
   "execution_count": null,
   "metadata": {},
   "outputs": [],
   "source": [
    "Svenskrunbibliografi.comment.unique()"
   ]
  },
  {
   "cell_type": "code",
   "execution_count": null,
   "metadata": {},
   "outputs": [],
   "source": [
    "Svenskrunbibliografi.relatedUri.head(10)"
   ]
  },
  {
   "cell_type": "code",
   "execution_count": null,
   "metadata": {},
   "outputs": [],
   "source": [
    "Svenskrunbibliografi.head(20)"
   ]
  },
  {
   "cell_type": "markdown",
   "metadata": {},
   "source": [
    "Still using the old system not LIBRISXL and LIBRISXL seems not link back RAÄ....\n",
    "* http://libris.kb.se/bib/2839747 correct is   \n",
    "  * https://libris.kb.se/katalogisering/wd6wddh75pcpmxv ==> \n",
    "    * https://libris.kb.se/wd6wddh75pcpmxv/data.jsonld "
   ]
  },
  {
   "cell_type": "code",
   "execution_count": null,
   "metadata": {},
   "outputs": [],
   "source": [
    "# get number of  libris items we reference  \n",
    "libris = set() \n",
    "librisurl = \"http://libris.kb.se/resource/bib/\"\n",
    "for index, row in Svenskrunbibliografi.iterrows():\n",
    "    librisref = row['relatedUri'].split(\".se/\")[1].split(\"bib/\")[1]\n",
    "    libris.add(librisref)\n",
    "    url = librisurl + librisref \n",
    "    # Looks like we get status 500 internal error from LIBRIS\n",
    "    #try: \n",
    "        #print (url,librisref)\n",
    "        #r = http.request('GET', url) \n",
    "        #print(r.headers) \n",
    "    #except : \n",
    "        #print (\"\\tError\")\n",
    "\n",
    "\n",
    "print (\"Number of books linking: \",len(libris))\n",
    "    "
   ]
  },
  {
   "cell_type": "code",
   "execution_count": null,
   "metadata": {},
   "outputs": [],
   "source": [
    "carwashCreated = dftot[dftot['userName'].str.contains(\"carwash\",na=False)] \n"
   ]
  },
  {
   "cell_type": "code",
   "execution_count": null,
   "metadata": {},
   "outputs": [],
   "source": [
    "carwashCreated.head(10)"
   ]
  },
  {
   "cell_type": "code",
   "execution_count": null,
   "metadata": {},
   "outputs": [],
   "source": [
    "carwashCreated.info()"
   ]
  },
  {
   "cell_type": "code",
   "execution_count": null,
   "metadata": {},
   "outputs": [],
   "source": [
    "carwashCreatedDate = carwashCreated[\"createDate\"].value_counts().sort_index()\n",
    "plotcarwashCreateDate = carwashCreatedDate.plot.pie(y='counts', figsize=(5, 5))  \n",
    "plt.show()"
   ]
  },
  {
   "cell_type": "code",
   "execution_count": null,
   "metadata": {},
   "outputs": [],
   "source": [
    "import seaborn as sns\n",
    "%matplotlib inline\n",
    "%config InlineBackend.figure_format = 'svg'"
   ]
  },
  {
   "cell_type": "code",
   "execution_count": null,
   "metadata": {},
   "outputs": [],
   "source": [
    "sns.heatmap(dftot.isnull(), \n",
    "            yticklabels=False, \n",
    "            cbar=False, \n",
    "            cmap='viridis')"
   ]
  },
  {
   "cell_type": "code",
   "execution_count": null,
   "metadata": {},
   "outputs": [],
   "source": [
    "#Show empty fields --> no coordinate values \n",
    "sns.heatmap(carwashCreated.isnull(), \n",
    "            yticklabels=False, \n",
    "            cbar=False, \n",
    "            cmap='viridis')"
   ]
  },
  {
   "cell_type": "code",
   "execution_count": null,
   "metadata": {},
   "outputs": [],
   "source": []
  }
 ],
 "metadata": {
  "kernelspec": {
   "display_name": "Python 3",
   "language": "python",
   "name": "python3"
  },
  "language_info": {
   "codemirror_mode": {
    "name": "ipython",
    "version": 3
   },
   "file_extension": ".py",
   "mimetype": "text/x-python",
   "name": "python",
   "nbconvert_exporter": "python",
   "pygments_lexer": "ipython3",
   "version": "3.9.4"
  }
 },
 "nbformat": 4,
 "nbformat_minor": 4
}
