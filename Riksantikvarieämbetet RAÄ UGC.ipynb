{
 "cells": [
  {
   "cell_type": "markdown",
   "metadata": {},
   "source": [
    "## Riksantikvarieämbetet RAÄ - kulturarvsdata - UGC\n",
    "version 1.3 \n",
    "\n",
    "get UGC data [see API](http://ugc.kulturarvsdata.se/UGC-hub/api/documentation)\n",
    "and understand how they link Europeana etc... \n",
    "\n",
    "* this [notebook](https://github.com/salgo60/open-data-examples/blob/master/Riksantikvarie%C3%A4mbetet%20RA%C3%84%20UGC.ipynb)\n",
    "* [blogpost](https://minancestry.blogspot.com/2020/06/check-status-kulturnav-raa.html)"
   ]
  },
  {
   "cell_type": "code",
   "execution_count": 5,
   "metadata": {},
   "outputs": [
    {
     "data": {
      "application/vnd.jupyter.widget-view+json": {
       "model_id": "d77fd5d4ec894dc9b0b98242176f8c7b",
       "version_major": 2,
       "version_minor": 0
      },
      "text/plain": [
       "HBox(children=(FloatProgress(value=0.0, max=15000.0), HTML(value='')))"
      ]
     },
     "metadata": {},
     "output_type": "display_data"
    },
    {
     "ename": "KeyError",
     "evalue": "'relations'",
     "output_type": "error",
     "traceback": [
      "\u001b[0;31m---------------------------------------------------------------------------\u001b[0m",
      "\u001b[0;31mKeyError\u001b[0m                                  Traceback (most recent call last)",
      "\u001b[0;32m<ipython-input-5-4c39ed111288>\u001b[0m in \u001b[0;36m<module>\u001b[0;34m\u001b[0m\n\u001b[1;32m     11\u001b[0m     \u001b[0mr\u001b[0m \u001b[0;34m=\u001b[0m \u001b[0mhttp\u001b[0m\u001b[0;34m.\u001b[0m\u001b[0mrequest\u001b[0m\u001b[0;34m(\u001b[0m\u001b[0;34m'GET'\u001b[0m\u001b[0;34m,\u001b[0m \u001b[0murl\u001b[0m\u001b[0;34m)\u001b[0m\u001b[0;34m\u001b[0m\u001b[0;34m\u001b[0m\u001b[0m\n\u001b[1;32m     12\u001b[0m     \u001b[0mdata\u001b[0m \u001b[0;34m=\u001b[0m \u001b[0mjson\u001b[0m\u001b[0;34m.\u001b[0m\u001b[0mloads\u001b[0m\u001b[0;34m(\u001b[0m\u001b[0mr\u001b[0m\u001b[0;34m.\u001b[0m\u001b[0mdata\u001b[0m\u001b[0;34m)\u001b[0m\u001b[0;34m\u001b[0m\u001b[0;34m\u001b[0m\u001b[0m\n\u001b[0;32m---> 13\u001b[0;31m     \u001b[0mdftot\u001b[0m \u001b[0;34m=\u001b[0m \u001b[0mdftot\u001b[0m\u001b[0;34m.\u001b[0m\u001b[0mappend\u001b[0m\u001b[0;34m(\u001b[0m\u001b[0mpd\u001b[0m\u001b[0;34m.\u001b[0m\u001b[0mDataFrame\u001b[0m\u001b[0;34m(\u001b[0m\u001b[0mdata\u001b[0m\u001b[0;34m[\u001b[0m\u001b[0;34m\"response\"\u001b[0m\u001b[0;34m]\u001b[0m\u001b[0;34m[\u001b[0m\u001b[0;34m\"relations\"\u001b[0m\u001b[0;34m]\u001b[0m\u001b[0;34m)\u001b[0m\u001b[0;34m,\u001b[0m\u001b[0msort\u001b[0m\u001b[0;34m=\u001b[0m\u001b[0;32mFalse\u001b[0m\u001b[0;34m)\u001b[0m\u001b[0;34m\u001b[0m\u001b[0;34m\u001b[0m\u001b[0m\n\u001b[0m\u001b[1;32m     14\u001b[0m \u001b[0mprint\u001b[0m\u001b[0;34m(\u001b[0m\u001b[0mdftot\u001b[0m\u001b[0;34m.\u001b[0m\u001b[0mhead\u001b[0m\u001b[0;34m(\u001b[0m\u001b[0;34m)\u001b[0m\u001b[0;34m)\u001b[0m\u001b[0;34m\u001b[0m\u001b[0;34m\u001b[0m\u001b[0m\n\u001b[1;32m     15\u001b[0m \u001b[0mprint\u001b[0m\u001b[0;34m(\u001b[0m\u001b[0mdftot\u001b[0m\u001b[0;34m.\u001b[0m\u001b[0muserName\u001b[0m\u001b[0;34m.\u001b[0m\u001b[0munique\u001b[0m\u001b[0;34m(\u001b[0m\u001b[0;34m)\u001b[0m\u001b[0;34m)\u001b[0m\u001b[0;34m\u001b[0m\u001b[0;34m\u001b[0m\u001b[0m\n",
      "\u001b[0;31mKeyError\u001b[0m: 'relations'"
     ]
    }
   ],
   "source": [
    "# get all records UGC just sends 200 records --> we need to loop and I guess max3000000 records\n",
    "import urllib3, json\n",
    "import pandas as pd  \n",
    "from tqdm.notebook import trange \n",
    "http = urllib3.PoolManager()\n",
    "urlbase = \"http://ugc.kulturarvsdata.se/UGC-hub/api?method=retrieve&scope=all&maxCount=40000&objectUri=all&format=json&selectFrom=\"\n",
    "pd.set_option(\"display.max.columns\", None) \n",
    "dftot = pd.DataFrame()\n",
    "for i in trange(1,3000000,200):\n",
    "    url = urlbase + str(i)\n",
    "    r = http.request('GET', url)\n",
    "    data = json.loads(r.data)\n",
    "    dftot = dftot.append(pd.DataFrame(data[\"response\"][\"relations\"]),sort=False)\n",
    "print(dftot.head())\n",
    "print(dftot.userName.unique())\n"
   ]
  },
  {
   "cell_type": "code",
   "execution_count": 6,
   "metadata": {},
   "outputs": [
    {
     "name": "stdout",
     "output_type": "stream",
     "text": [
      "<class 'pandas.core.frame.DataFrame'>\n",
      "Int64Index: 2588030 entries, 0 to 29\n",
      "Data columns (total 12 columns):\n",
      "relationType       object\n",
      "id                 int64\n",
      "objectUri          object\n",
      "userName           object\n",
      "relatedUri         object\n",
      "applicationName    object\n",
      "createDate         object\n",
      "updateDate         object\n",
      "imageUrl           object\n",
      "comment            object\n",
      "tag                object\n",
      "coordinateValue    object\n",
      "dtypes: int64(1), object(11)\n",
      "memory usage: 256.7+ MB\n",
      "None\n"
     ]
    }
   ],
   "source": [
    "print(dftot.info())"
   ]
  },
  {
   "cell_type": "code",
   "execution_count": 7,
   "metadata": {},
   "outputs": [
    {
     "name": "stdout",
     "output_type": "stream",
     "text": [
      "['Kringla' 'Albin Larsson 1' 'Marcus Smith 1' 'Svensk runbibliografi']\n"
     ]
    }
   ],
   "source": [
    "print(dftot.applicationName.unique())"
   ]
  },
  {
   "cell_type": "code",
   "execution_count": 8,
   "metadata": {},
   "outputs": [
    {
     "data": {
      "text/plain": [
       "array(['isVisualizedBy', 'sameAsWikipedia', 'sameAs', 'describes',\n",
       "       'visualizes', 'isDescribedBy', 'isDescribedByWikipedia', 'hasPart',\n",
       "       'isRelatedTo', 'isPartOf', nan, 'has_created'], dtype=object)"
      ]
     },
     "execution_count": 8,
     "metadata": {},
     "output_type": "execute_result"
    }
   ],
   "source": [
    "dftot.relationType.unique()"
   ]
  },
  {
   "cell_type": "markdown",
   "metadata": {},
   "source": [
    "### UGC  \n",
    "11 relationstyper jmf Wikidata > [7650 egenskaper](https://w.wiki/DYS) dvs. om målet är att \"användare kan bidra själv med semantiska länkar\" så känns det bättre om användaren gör det hos Wikidata där det finns stöd att även ange [semantiska länkar i bilderna](https://www.youtube.com/watch?v=lmWmMIuCJVM&t=158s) ?!?!? "
   ]
  },
  {
   "cell_type": "code",
   "execution_count": 9,
   "metadata": {},
   "outputs": [
    {
     "data": {
      "text/plain": [
       "sameAs                    2204256\n",
       "isRelatedTo                216265\n",
       "isVisualizedBy             135525\n",
       "isDescribedBy               13465\n",
       "sameAsWikipedia             12017\n",
       "visualizes                   6125\n",
       "isDescribedByWikipedia        193\n",
       "hasPart                        98\n",
       "isPartOf                       81\n",
       "describes                       2\n",
       "has_created                     1\n",
       "Name: relationType, dtype: int64"
      ]
     },
     "execution_count": 9,
     "metadata": {},
     "output_type": "execute_result"
    }
   ],
   "source": [
    "dftot[\"relationType\"].value_counts()"
   ]
  },
  {
   "cell_type": "code",
   "execution_count": 10,
   "metadata": {},
   "outputs": [
    {
     "ename": "NameError",
     "evalue": "name 'plt' is not defined",
     "output_type": "error",
     "traceback": [
      "\u001b[0;31m---------------------------------------------------------------------------\u001b[0m",
      "\u001b[0;31mNameError\u001b[0m                                 Traceback (most recent call last)",
      "\u001b[0;32m<ipython-input-10-17d2c79e2846>\u001b[0m in \u001b[0;36m<module>\u001b[0;34m\u001b[0m\n\u001b[1;32m      1\u001b[0m \u001b[0mplot\u001b[0m \u001b[0;34m=\u001b[0m \u001b[0mdftot\u001b[0m\u001b[0;34m[\u001b[0m\u001b[0;34m\"relationType\"\u001b[0m\u001b[0;34m]\u001b[0m\u001b[0;34m.\u001b[0m\u001b[0mvalue_counts\u001b[0m\u001b[0;34m(\u001b[0m\u001b[0;34m)\u001b[0m\u001b[0;34m.\u001b[0m\u001b[0mplot\u001b[0m\u001b[0;34m.\u001b[0m\u001b[0mpie\u001b[0m\u001b[0;34m(\u001b[0m\u001b[0my\u001b[0m\u001b[0;34m=\u001b[0m\u001b[0;34m'counts'\u001b[0m\u001b[0;34m,\u001b[0m \u001b[0mfigsize\u001b[0m\u001b[0;34m=\u001b[0m\u001b[0;34m(\u001b[0m\u001b[0;36m5\u001b[0m\u001b[0;34m,\u001b[0m \u001b[0;36m5\u001b[0m\u001b[0;34m)\u001b[0m\u001b[0;34m)\u001b[0m\u001b[0;34m\u001b[0m\u001b[0;34m\u001b[0m\u001b[0m\n\u001b[0;32m----> 2\u001b[0;31m \u001b[0mplt\u001b[0m\u001b[0;34m.\u001b[0m\u001b[0mshow\u001b[0m\u001b[0;34m(\u001b[0m\u001b[0;34m)\u001b[0m\u001b[0;34m\u001b[0m\u001b[0;34m\u001b[0m\u001b[0m\n\u001b[0m",
      "\u001b[0;31mNameError\u001b[0m: name 'plt' is not defined"
     ]
    }
   ],
   "source": [
    "plot = dftot[\"relationType\"].value_counts().plot.pie(y='counts', figsize=(5, 5))  \n",
    "plt.show()"
   ]
  },
  {
   "cell_type": "code",
   "execution_count": null,
   "metadata": {},
   "outputs": [],
   "source": [
    "# objekt med relatedUri borde finnas med Wikicommon objektet som sedan borde \n",
    "# peka tillbaka till K-samsök ? \n",
    "dftot.head(30)"
   ]
  },
  {
   "cell_type": "code",
   "execution_count": null,
   "metadata": {},
   "outputs": [],
   "source": [
    "dftot.tail(30)"
   ]
  },
  {
   "cell_type": "code",
   "execution_count": 11,
   "metadata": {},
   "outputs": [
    {
     "data": {
      "text/html": [
       "<div>\n",
       "<style scoped>\n",
       "    .dataframe tbody tr th:only-of-type {\n",
       "        vertical-align: middle;\n",
       "    }\n",
       "\n",
       "    .dataframe tbody tr th {\n",
       "        vertical-align: top;\n",
       "    }\n",
       "\n",
       "    .dataframe thead th {\n",
       "        text-align: right;\n",
       "    }\n",
       "</style>\n",
       "<table border=\"1\" class=\"dataframe\">\n",
       "  <thead>\n",
       "    <tr style=\"text-align: right;\">\n",
       "      <th></th>\n",
       "      <th>relationType</th>\n",
       "      <th>id</th>\n",
       "      <th>objectUri</th>\n",
       "      <th>userName</th>\n",
       "      <th>relatedUri</th>\n",
       "      <th>applicationName</th>\n",
       "      <th>createDate</th>\n",
       "      <th>updateDate</th>\n",
       "      <th>imageUrl</th>\n",
       "      <th>comment</th>\n",
       "      <th>tag</th>\n",
       "      <th>coordinateValue</th>\n",
       "    </tr>\n",
       "  </thead>\n",
       "  <tbody>\n",
       "    <tr>\n",
       "      <th>0</th>\n",
       "      <td>isVisualizedBy</td>\n",
       "      <td>35010720</td>\n",
       "      <td>http://kulturarvsdata.se/arme/object/AM140132</td>\n",
       "      <td>WikimediaC</td>\n",
       "      <td>http://commons.wikimedia.org/wiki/File:Pansarv...</td>\n",
       "      <td>Kringla</td>\n",
       "      <td>2020-06-24</td>\n",
       "      <td>NaN</td>\n",
       "      <td>NaN</td>\n",
       "      <td>NaN</td>\n",
       "      <td>NaN</td>\n",
       "      <td>NaN</td>\n",
       "    </tr>\n",
       "    <tr>\n",
       "      <th>1</th>\n",
       "      <td>isVisualizedBy</td>\n",
       "      <td>35010719</td>\n",
       "      <td>http://kulturarvsdata.se/arme/object/AM140132</td>\n",
       "      <td>WikimediaC</td>\n",
       "      <td>http://commons.wikimedia.org/wiki/File:Pansarv...</td>\n",
       "      <td>Kringla</td>\n",
       "      <td>2020-06-24</td>\n",
       "      <td>NaN</td>\n",
       "      <td>NaN</td>\n",
       "      <td>NaN</td>\n",
       "      <td>NaN</td>\n",
       "      <td>NaN</td>\n",
       "    </tr>\n",
       "    <tr>\n",
       "      <th>2</th>\n",
       "      <td>isVisualizedBy</td>\n",
       "      <td>35010718</td>\n",
       "      <td>http://kulturarvsdata.se/arme/object/AM140132</td>\n",
       "      <td>WikimediaC</td>\n",
       "      <td>http://commons.wikimedia.org/wiki/File:Pansarv...</td>\n",
       "      <td>Kringla</td>\n",
       "      <td>2020-06-24</td>\n",
       "      <td>NaN</td>\n",
       "      <td>NaN</td>\n",
       "      <td>NaN</td>\n",
       "      <td>NaN</td>\n",
       "      <td>NaN</td>\n",
       "    </tr>\n",
       "    <tr>\n",
       "      <th>3</th>\n",
       "      <td>isVisualizedBy</td>\n",
       "      <td>35010717</td>\n",
       "      <td>http://kulturarvsdata.se/arme/object/AM140139</td>\n",
       "      <td>WikimediaC</td>\n",
       "      <td>http://commons.wikimedia.org/wiki/File:Bandvag...</td>\n",
       "      <td>Kringla</td>\n",
       "      <td>2020-06-24</td>\n",
       "      <td>NaN</td>\n",
       "      <td>NaN</td>\n",
       "      <td>NaN</td>\n",
       "      <td>NaN</td>\n",
       "      <td>NaN</td>\n",
       "    </tr>\n",
       "    <tr>\n",
       "      <th>4</th>\n",
       "      <td>isVisualizedBy</td>\n",
       "      <td>35010716</td>\n",
       "      <td>http://kulturarvsdata.se/arme/object/AM140139</td>\n",
       "      <td>WikimediaC</td>\n",
       "      <td>http://commons.wikimedia.org/wiki/File:Bandvag...</td>\n",
       "      <td>Kringla</td>\n",
       "      <td>2020-06-24</td>\n",
       "      <td>NaN</td>\n",
       "      <td>NaN</td>\n",
       "      <td>NaN</td>\n",
       "      <td>NaN</td>\n",
       "      <td>NaN</td>\n",
       "    </tr>\n",
       "  </tbody>\n",
       "</table>\n",
       "</div>"
      ],
      "text/plain": [
       "     relationType        id                                      objectUri  \\\n",
       "0  isVisualizedBy  35010720  http://kulturarvsdata.se/arme/object/AM140132   \n",
       "1  isVisualizedBy  35010719  http://kulturarvsdata.se/arme/object/AM140132   \n",
       "2  isVisualizedBy  35010718  http://kulturarvsdata.se/arme/object/AM140132   \n",
       "3  isVisualizedBy  35010717  http://kulturarvsdata.se/arme/object/AM140139   \n",
       "4  isVisualizedBy  35010716  http://kulturarvsdata.se/arme/object/AM140139   \n",
       "\n",
       "     userName                                         relatedUri  \\\n",
       "0  WikimediaC  http://commons.wikimedia.org/wiki/File:Pansarv...   \n",
       "1  WikimediaC  http://commons.wikimedia.org/wiki/File:Pansarv...   \n",
       "2  WikimediaC  http://commons.wikimedia.org/wiki/File:Pansarv...   \n",
       "3  WikimediaC  http://commons.wikimedia.org/wiki/File:Bandvag...   \n",
       "4  WikimediaC  http://commons.wikimedia.org/wiki/File:Bandvag...   \n",
       "\n",
       "  applicationName  createDate updateDate imageUrl comment  tag coordinateValue  \n",
       "0         Kringla  2020-06-24        NaN      NaN     NaN  NaN             NaN  \n",
       "1         Kringla  2020-06-24        NaN      NaN     NaN  NaN             NaN  \n",
       "2         Kringla  2020-06-24        NaN      NaN     NaN  NaN             NaN  \n",
       "3         Kringla  2020-06-24        NaN      NaN     NaN  NaN             NaN  \n",
       "4         Kringla  2020-06-24        NaN      NaN     NaN  NaN             NaN  "
      ]
     },
     "execution_count": 11,
     "metadata": {},
     "output_type": "execute_result"
    }
   ],
   "source": [
    "isCommon = dftot[dftot['relatedUri'].str.contains(\"commons.wikimedia.org\", na=False)]\n",
    "isCommon.head()"
   ]
  },
  {
   "cell_type": "code",
   "execution_count": 12,
   "metadata": {},
   "outputs": [
    {
     "name": "stdout",
     "output_type": "stream",
     "text": [
      "<class 'pandas.core.frame.DataFrame'>\n",
      "Int64Index: 216281 entries, 0 to 100\n",
      "Data columns (total 12 columns):\n",
      "relationType       216281 non-null object\n",
      "id                 216281 non-null int64\n",
      "objectUri          216281 non-null object\n",
      "userName           216281 non-null object\n",
      "relatedUri         216281 non-null object\n",
      "applicationName    216281 non-null object\n",
      "createDate         216281 non-null object\n",
      "updateDate         7 non-null object\n",
      "imageUrl           0 non-null object\n",
      "comment            0 non-null object\n",
      "tag                0 non-null object\n",
      "coordinateValue    0 non-null object\n",
      "dtypes: int64(1), object(11)\n",
      "memory usage: 21.5+ MB\n"
     ]
    }
   ],
   "source": [
    "isCommon.info()"
   ]
  },
  {
   "cell_type": "code",
   "execution_count": 13,
   "metadata": {},
   "outputs": [
    {
     "data": {
      "text/plain": [
       "array(['isVisualizedBy', 'sameAs', 'isRelatedTo'], dtype=object)"
      ]
     },
     "execution_count": 13,
     "metadata": {},
     "output_type": "execute_result"
    }
   ],
   "source": [
    "isCommon.relationType.unique()"
   ]
  },
  {
   "cell_type": "code",
   "execution_count": 14,
   "metadata": {},
   "outputs": [
    {
     "data": {
      "text/plain": [
       "isVisualizedBy    134872\n",
       "sameAs             81346\n",
       "isRelatedTo           63\n",
       "Name: relationType, dtype: int64"
      ]
     },
     "execution_count": 14,
     "metadata": {},
     "output_type": "execute_result"
    }
   ],
   "source": [
    "isCommon[\"relationType\"].value_counts()"
   ]
  },
  {
   "cell_type": "code",
   "execution_count": 15,
   "metadata": {},
   "outputs": [
    {
     "data": {
      "text/plain": [
       "WikimediaC                  134350\n",
       "Albin Larsson                81346\n",
       "Bernt Fransson                 196\n",
       "carwash                         90\n",
       "Larissa                         52\n",
       "Holger.Ellgaard                 49\n",
       "Magnus Johansson                38\n",
       "Adlitam                         27\n",
       "Örjan Mattsson                  24\n",
       "blajo                           19\n",
       "Lasse Lundqvist                 11\n",
       "Åsa Johansson                   10\n",
       "Henrik Summanen                  9\n",
       "DavidH                           7\n",
       "jssfrk                           6\n",
       "Jomal                            5\n",
       "Eva Vedin                        5\n",
       "Johan                            4\n",
       "Dan Albert Koehl                 3\n",
       "Tore Danielsson                  3\n",
       "Magnus Sälgö                     3\n",
       "kallep                           2\n",
       "salgo60                          2\n",
       "Hammarkind                       2\n",
       "Allivet                          2\n",
       "hamrelius                        2\n",
       "David Haskiya                    2\n",
       "Jan Ainali                       2\n",
       "Wilhelm Lagercrantz              1\n",
       "Anders Lindeberg-Lindvet         1\n",
       "LA2                              1\n",
       "magnussonp                       1\n",
       "Boberger                         1\n",
       "Nils Weinander                   1\n",
       "Work with Sounds                 1\n",
       "Sendelbach                       1\n",
       "carin                            1\n",
       "Little Gun                       1\n",
       "Name: userName, dtype: int64"
      ]
     },
     "execution_count": 15,
     "metadata": {},
     "output_type": "execute_result"
    }
   ],
   "source": [
    "isCommon[\"userName\"].value_counts() "
   ]
  },
  {
   "cell_type": "code",
   "execution_count": 16,
   "metadata": {},
   "outputs": [
    {
     "data": {
      "text/html": [
       "<div>\n",
       "<style scoped>\n",
       "    .dataframe tbody tr th:only-of-type {\n",
       "        vertical-align: middle;\n",
       "    }\n",
       "\n",
       "    .dataframe tbody tr th {\n",
       "        vertical-align: top;\n",
       "    }\n",
       "\n",
       "    .dataframe thead th {\n",
       "        text-align: right;\n",
       "    }\n",
       "</style>\n",
       "<table border=\"1\" class=\"dataframe\">\n",
       "  <thead>\n",
       "    <tr style=\"text-align: right;\">\n",
       "      <th></th>\n",
       "      <th>relationType</th>\n",
       "      <th>id</th>\n",
       "      <th>objectUri</th>\n",
       "      <th>userName</th>\n",
       "      <th>relatedUri</th>\n",
       "      <th>applicationName</th>\n",
       "      <th>createDate</th>\n",
       "      <th>updateDate</th>\n",
       "      <th>imageUrl</th>\n",
       "      <th>comment</th>\n",
       "      <th>tag</th>\n",
       "      <th>coordinateValue</th>\n",
       "    </tr>\n",
       "  </thead>\n",
       "  <tbody>\n",
       "    <tr>\n",
       "      <th>17</th>\n",
       "      <td>isVisualizedBy</td>\n",
       "      <td>1669673</td>\n",
       "      <td>http://kulturarvsdata.se/raa/lamning/065f1628-...</td>\n",
       "      <td>Adlitam</td>\n",
       "      <td>https://commons.wikimedia.org/wiki/File:Skepps...</td>\n",
       "      <td>Kringla</td>\n",
       "      <td>2013-12-06</td>\n",
       "      <td>NaN</td>\n",
       "      <td>NaN</td>\n",
       "      <td>NaN</td>\n",
       "      <td>NaN</td>\n",
       "      <td>NaN</td>\n",
       "    </tr>\n",
       "    <tr>\n",
       "      <th>32</th>\n",
       "      <td>isVisualizedBy</td>\n",
       "      <td>1669655</td>\n",
       "      <td>http://kulturarvsdata.se/raa/lamning/7ea73cbb-...</td>\n",
       "      <td>Adlitam</td>\n",
       "      <td>https://commons.wikimedia.org/wiki/File:Algbac...</td>\n",
       "      <td>Kringla</td>\n",
       "      <td>2013-12-06</td>\n",
       "      <td>NaN</td>\n",
       "      <td>NaN</td>\n",
       "      <td>NaN</td>\n",
       "      <td>NaN</td>\n",
       "      <td>NaN</td>\n",
       "    </tr>\n",
       "    <tr>\n",
       "      <th>34</th>\n",
       "      <td>isVisualizedBy</td>\n",
       "      <td>1669653</td>\n",
       "      <td>http://kulturarvsdata.se/LSH/agents/9534</td>\n",
       "      <td>David Haskiya</td>\n",
       "      <td>http://commons.wikimedia.org/wiki/File:Gustave...</td>\n",
       "      <td>Kringla</td>\n",
       "      <td>2013-12-05</td>\n",
       "      <td>NaN</td>\n",
       "      <td>NaN</td>\n",
       "      <td>NaN</td>\n",
       "      <td>NaN</td>\n",
       "      <td>NaN</td>\n",
       "    </tr>\n",
       "    <tr>\n",
       "      <th>35</th>\n",
       "      <td>isVisualizedBy</td>\n",
       "      <td>1669652</td>\n",
       "      <td>http://kulturarvsdata.se/LSH/agents/9534</td>\n",
       "      <td>David Haskiya</td>\n",
       "      <td>http://commons.wikimedia.org/wiki/File:Gustav_...</td>\n",
       "      <td>Kringla</td>\n",
       "      <td>2013-12-05</td>\n",
       "      <td>NaN</td>\n",
       "      <td>NaN</td>\n",
       "      <td>NaN</td>\n",
       "      <td>NaN</td>\n",
       "      <td>NaN</td>\n",
       "    </tr>\n",
       "    <tr>\n",
       "      <th>67</th>\n",
       "      <td>isVisualizedBy</td>\n",
       "      <td>1498059</td>\n",
       "      <td>http://kulturarvsdata.se/raa/lamning/ac61481c-...</td>\n",
       "      <td>blajo</td>\n",
       "      <td>https://commons.wikimedia.org/wiki/File:Kvissl...</td>\n",
       "      <td>Kringla</td>\n",
       "      <td>2013-11-09</td>\n",
       "      <td>NaN</td>\n",
       "      <td>NaN</td>\n",
       "      <td>NaN</td>\n",
       "      <td>NaN</td>\n",
       "      <td>NaN</td>\n",
       "    </tr>\n",
       "    <tr>\n",
       "      <th>...</th>\n",
       "      <td>...</td>\n",
       "      <td>...</td>\n",
       "      <td>...</td>\n",
       "      <td>...</td>\n",
       "      <td>...</td>\n",
       "      <td>...</td>\n",
       "      <td>...</td>\n",
       "      <td>...</td>\n",
       "      <td>...</td>\n",
       "      <td>...</td>\n",
       "      <td>...</td>\n",
       "      <td>...</td>\n",
       "    </tr>\n",
       "    <tr>\n",
       "      <th>28</th>\n",
       "      <td>isVisualizedBy</td>\n",
       "      <td>112887</td>\n",
       "      <td>http://kulturarvsdata.se/raa/bbrp/21620000000042</td>\n",
       "      <td>Jomal</td>\n",
       "      <td>http://commons.wikimedia.org/wiki/File:Osvald_...</td>\n",
       "      <td>Kringla</td>\n",
       "      <td>2012-12-12</td>\n",
       "      <td>NaN</td>\n",
       "      <td>NaN</td>\n",
       "      <td>NaN</td>\n",
       "      <td>NaN</td>\n",
       "      <td>NaN</td>\n",
       "    </tr>\n",
       "    <tr>\n",
       "      <th>29</th>\n",
       "      <td>isVisualizedBy</td>\n",
       "      <td>112886</td>\n",
       "      <td>http://kulturarvsdata.se/raa/bbrp/21600000001859</td>\n",
       "      <td>Jomal</td>\n",
       "      <td>http://commons.wikimedia.org/wiki/File:Boberg_...</td>\n",
       "      <td>Kringla</td>\n",
       "      <td>2012-12-12</td>\n",
       "      <td>NaN</td>\n",
       "      <td>NaN</td>\n",
       "      <td>NaN</td>\n",
       "      <td>NaN</td>\n",
       "      <td>NaN</td>\n",
       "    </tr>\n",
       "    <tr>\n",
       "      <th>92</th>\n",
       "      <td>isVisualizedBy</td>\n",
       "      <td>94074</td>\n",
       "      <td>http://kulturarvsdata.se/raa/bbrp/21600000013187</td>\n",
       "      <td>Lasse Lundqvist</td>\n",
       "      <td>http://commons.wikimedia.org/wiki/File%3ANicod...</td>\n",
       "      <td>Kringla</td>\n",
       "      <td>2012-12-06</td>\n",
       "      <td>NaN</td>\n",
       "      <td>NaN</td>\n",
       "      <td>NaN</td>\n",
       "      <td>NaN</td>\n",
       "      <td>NaN</td>\n",
       "    </tr>\n",
       "    <tr>\n",
       "      <th>97</th>\n",
       "      <td>isVisualizedBy</td>\n",
       "      <td>19379</td>\n",
       "      <td>http://kulturarvsdata.se/raa/bbrp/21600000003542</td>\n",
       "      <td>Henrik Summanen</td>\n",
       "      <td>http://commons.wikimedia.org/wiki/File:Gunnar_...</td>\n",
       "      <td>Kringla</td>\n",
       "      <td>2012-11-12</td>\n",
       "      <td>NaN</td>\n",
       "      <td>NaN</td>\n",
       "      <td>NaN</td>\n",
       "      <td>NaN</td>\n",
       "      <td>NaN</td>\n",
       "    </tr>\n",
       "    <tr>\n",
       "      <th>100</th>\n",
       "      <td>isVisualizedBy</td>\n",
       "      <td>19376</td>\n",
       "      <td>http://kulturarvsdata.se/raa/bbr/21400000442739</td>\n",
       "      <td>Jomal</td>\n",
       "      <td>http://commons.wikimedia.org/wiki/File:Kr%C3%A...</td>\n",
       "      <td>Kringla</td>\n",
       "      <td>2012-11-08</td>\n",
       "      <td>NaN</td>\n",
       "      <td>NaN</td>\n",
       "      <td>NaN</td>\n",
       "      <td>NaN</td>\n",
       "      <td>NaN</td>\n",
       "    </tr>\n",
       "  </tbody>\n",
       "</table>\n",
       "<p>100 rows × 12 columns</p>\n",
       "</div>"
      ],
      "text/plain": [
       "       relationType       id  \\\n",
       "17   isVisualizedBy  1669673   \n",
       "32   isVisualizedBy  1669655   \n",
       "34   isVisualizedBy  1669653   \n",
       "35   isVisualizedBy  1669652   \n",
       "67   isVisualizedBy  1498059   \n",
       "..              ...      ...   \n",
       "28   isVisualizedBy   112887   \n",
       "29   isVisualizedBy   112886   \n",
       "92   isVisualizedBy    94074   \n",
       "97   isVisualizedBy    19379   \n",
       "100  isVisualizedBy    19376   \n",
       "\n",
       "                                             objectUri         userName  \\\n",
       "17   http://kulturarvsdata.se/raa/lamning/065f1628-...          Adlitam   \n",
       "32   http://kulturarvsdata.se/raa/lamning/7ea73cbb-...          Adlitam   \n",
       "34            http://kulturarvsdata.se/LSH/agents/9534    David Haskiya   \n",
       "35            http://kulturarvsdata.se/LSH/agents/9534    David Haskiya   \n",
       "67   http://kulturarvsdata.se/raa/lamning/ac61481c-...            blajo   \n",
       "..                                                 ...              ...   \n",
       "28    http://kulturarvsdata.se/raa/bbrp/21620000000042            Jomal   \n",
       "29    http://kulturarvsdata.se/raa/bbrp/21600000001859            Jomal   \n",
       "92    http://kulturarvsdata.se/raa/bbrp/21600000013187  Lasse Lundqvist   \n",
       "97    http://kulturarvsdata.se/raa/bbrp/21600000003542  Henrik Summanen   \n",
       "100    http://kulturarvsdata.se/raa/bbr/21400000442739            Jomal   \n",
       "\n",
       "                                            relatedUri applicationName  \\\n",
       "17   https://commons.wikimedia.org/wiki/File:Skepps...         Kringla   \n",
       "32   https://commons.wikimedia.org/wiki/File:Algbac...         Kringla   \n",
       "34   http://commons.wikimedia.org/wiki/File:Gustave...         Kringla   \n",
       "35   http://commons.wikimedia.org/wiki/File:Gustav_...         Kringla   \n",
       "67   https://commons.wikimedia.org/wiki/File:Kvissl...         Kringla   \n",
       "..                                                 ...             ...   \n",
       "28   http://commons.wikimedia.org/wiki/File:Osvald_...         Kringla   \n",
       "29   http://commons.wikimedia.org/wiki/File:Boberg_...         Kringla   \n",
       "92   http://commons.wikimedia.org/wiki/File%3ANicod...         Kringla   \n",
       "97   http://commons.wikimedia.org/wiki/File:Gunnar_...         Kringla   \n",
       "100  http://commons.wikimedia.org/wiki/File:Kr%C3%A...         Kringla   \n",
       "\n",
       "     createDate updateDate imageUrl comment  tag coordinateValue  \n",
       "17   2013-12-06        NaN      NaN     NaN  NaN             NaN  \n",
       "32   2013-12-06        NaN      NaN     NaN  NaN             NaN  \n",
       "34   2013-12-05        NaN      NaN     NaN  NaN             NaN  \n",
       "35   2013-12-05        NaN      NaN     NaN  NaN             NaN  \n",
       "67   2013-11-09        NaN      NaN     NaN  NaN             NaN  \n",
       "..          ...        ...      ...     ...  ...             ...  \n",
       "28   2012-12-12        NaN      NaN     NaN  NaN             NaN  \n",
       "29   2012-12-12        NaN      NaN     NaN  NaN             NaN  \n",
       "92   2012-12-06        NaN      NaN     NaN  NaN             NaN  \n",
       "97   2012-11-12        NaN      NaN     NaN  NaN             NaN  \n",
       "100  2012-11-08        NaN      NaN     NaN  NaN             NaN  \n",
       "\n",
       "[100 rows x 12 columns]"
      ]
     },
     "execution_count": 16,
     "metadata": {},
     "output_type": "execute_result"
    }
   ],
   "source": [
    "isCommon.tail(100)"
   ]
  },
  {
   "cell_type": "markdown",
   "metadata": {},
   "source": [
    "## [Dataroundtrip Wikicommon <-> Kulturarvsdata](#dataroundtrip) \n",
    "se även tankar om [Digitaltmuseum dataroundtrip](https://minancestry.blogspot.com/2020/06/draft-kulturnav.html#Dataroundtrip) och [blogpost](https://minancestry.blogspot.com/2020/06/check-status-kulturnav-raa.html)\n",
    "\n",
    "Skall dataroundtrip fungera behöver vi koppla ihop bilderna så att Wikicommons vet om kulturarvsdata och vice versa\n",
    "\n",
    "id 1079458  \n",
    "\n",
    "http://ugc.kulturarvsdata.se/UGC-hub/api?method=retrieve&objectUri=all&contentId=1079458&scope=single  \n",
    " \n",
    "``` \n",
    "<response>\n",
    " <apiVersion>1.0</apiVersion>\n",
    " <relations>\n",
    "  <relationType>isVisualizedBy</relationType>\n",
    "  <relatedUri>https://commons.wikimedia.org/wiki/File:Skeppshamns_kapell,_Tyndero_2006-02-27.jpg</relatedUri>\n",
    "  <tagValue/>\n",
    "  <coordinateValue/>\n",
    "  <commentValue/>\n",
    "  <imageUrl/>\n",
    "  <id>1079458</id>\n",
    "  <uri>http://kulturarvsdata.se/raa/kmb/16000200045362</uri>\n",
    "  <userName>blajo</userName>\n",
    "  <applicationName>Kringla</applicationName>\n",
    "  <createDate>2013-09-14</createDate>\n",
    "  <updateDate/>\n",
    " </relations>\n",
    "</response> \n",
    "```\n",
    "-->   [File:Skeppshamns_kapell,_Tyndero_2006-02-27.jpg](https://commons.wikimedia.org/wiki/File:Skeppshamns_kapell,_Tyndero_2006-02-27.jpg)  \n",
    "1. används i Wikidata [Q30313619](https://www.wikidata.org/wiki/Q30313619)\n",
    "1. Wikicommon [M723463](https://commons.wikimedia.org/wiki/Special:EntityData/M723463.json) \n",
    "```\n",
    "{\n",
    "   entities: {\n",
    "   M723463: {\n",
    "   pageid: 723463,\n",
    "   ns: 6,\n",
    "   title: \"File:Skeppshamns kapell, Tyndero 2006-02-27.jpg\",\n",
    "   lastrevid: 427376612,\n",
    "   modified: \"2020-06-18T20:24:28Z\",\n",
    "   type: \"mediainfo\",\n",
    "   id: \"M723463\",\n",
    "   labels: { },\n",
    "   descriptions: { },\n",
    "   statements: {\n",
    "      P180: [\n",
    "          {\n",
    "             mainsnak: {\n",
    "                snaktype: \"value\",\n",
    "                property: \"P180\",\n",
    "                datavalue: {\n",
    "                   value: {\n",
    "                      entity-type: \"item\",\n",
    "                      numeric-id: 30313619,\n",
    "                      id: \"Q30313619\"\n",
    "                   },\n",
    "                   type: \"wikibase-entityid\"\n",
    "                }\n",
    "              },\n",
    "              type: \"statement\",\n",
    "              id: \"M723463$C3F19032-D57A-4208-B967-0F4C0C8D9E3D\",\n",
    "              rank: \"normal\"\n",
    "           }\n",
    "        ]\n",
    "     }\n",
    "    }\n",
    "  }\n",
    "}\n",
    "``` \n",
    "\n",
    "### Wikicommons bilden bör peka tillbaka till K-samsök URI  \n",
    "K-samsök URI = [Wikidata Property 1260](https://www.wikidata.org/wiki/Property:P1260) \n",
    "\n",
    "==> **Ny Wikicommon** [M723463](https://commons.wikimedia.org/wiki/Special:EntityData/M723463.json) med länk ** [raa/kmb/16000200045362](http://kulturarvsdata.se/raa/kmb/16000200045362) ** \n",
    "\n",
    "```  \n",
    "{\n",
    "   entities: {\n",
    "   M723463: {\n",
    "   pageid: 723463,\n",
    "   ns: 6,\n",
    "   title: \"File:Skeppshamns kapell, Tyndero 2006-02-27.jpg\",\n",
    "   lastrevid: 427376612,\n",
    "   modified: \"2020-06-18T20:24:28Z\",\n",
    "   type: \"mediainfo\",\n",
    "   id: \"M723463\",\n",
    "   labels: { },\n",
    "   descriptions: { },\n",
    "   statements: {\n",
    "      P180: [\n",
    "          {\n",
    "             mainsnak: {\n",
    "                snaktype: \"value\",\n",
    "                property: \"P180\",\n",
    "                datavalue: {\n",
    "                   value: {\n",
    "                      entity-type: \"item\",\n",
    "                      numeric-id: 30313619,\n",
    "                      id: \"Q30313619\"\n",
    "                   },\n",
    "                   type: \"wikibase-entityid\"\n",
    "                }\n",
    "              },\n",
    "              type: \"statement\",\n",
    "              id: \"M723463$C3F19032-D57A-4208-B967-0F4C0C8D9E3D\",\n",
    "              rank: \"normal\"\n",
    "           }\n",
    "       ]. \n",
    "       P1260: [\n",
    "          {\n",
    "             mainsnak: {\n",
    "               snaktype: \"value\",\n",
    "               property: \"P1260\",\n",
    "               datavalue: {        \n",
    "                   value: \"raa/kmb/16000200045362\",\n",
    "                   type: \"string\"\n",
    "                 }\n",
    "              },\n",
    "              type: \"statement\",\n",
    "              id: \"M723463$5369f899-4667-be9a-f9ba-40d8b90dabcc\",\n",
    "              rank: \"normal\"\n",
    "              }\n",
    "         ]\n",
    "     }\n",
    "    }\n",
    "  }\n",
    "}\n",
    "``` \n",
    "\n"
   ]
  },
  {
   "cell_type": "markdown",
   "metadata": {},
   "source": [
    "## Listar unika användare som bidragit\n"
   ]
  },
  {
   "cell_type": "code",
   "execution_count": 17,
   "metadata": {},
   "outputs": [
    {
     "name": "stdout",
     "output_type": "stream",
     "text": [
      "['WikimediaC' 'Wikipedia' 'Albin Larsson' 'carwash' 'Nixdorf' 'Boberger'\n",
      " 'Holger.Ellgaard' 'salgo60' 'DavidH' 'Bernt Fransson' 'kallep' 'Larissa'\n",
      " 'Lasse Lundqvist' 'HLP' 'babben' 'Allivet' 'demithor' 'Allvet'\n",
      " 'Jan Ainali' 'Anders Lindeberg-Lindvet' 'Magnus Sälgö' 'andersthe'\n",
      " 'Little Gun' 'kringelkrok' 'Magnus Johansson' 'Lennart T Olsson'\n",
      " 'tompahvall' 'Tore Danielsson' 'hamrelius' 'Julie' 'Johan' 'nilsw'\n",
      " 'David Haskiya' 'filosofiedoktor' 'kalle' 'Adlitam' 'Eva Vedin'\n",
      " 'Hammarkind' 'Work with Sounds' 'jssfrk' 'blajo' 'Dan Albert Koehl'\n",
      " 'Wilhelm Lagercrantz' 'Tester Testersson' 'Sendelbach' 'Johan Carlström'\n",
      " 'Anders Wennersten' 'Örjan Mattsson' 'carin' 'Anders Olsson'\n",
      " 'paulinadevries' 'anna söderström' 'Kalle Johansson' 'Sophie' 'henning'\n",
      " 'helenabjork' 'Kaysara' 'ekstahagar' 'Åsa Johansson' 'magnussonp'\n",
      " 'Kicki Ericson' 'LA2' 'Nils Weinander' 'Lotta' 'Per Rohdin'\n",
      " 'Henrik Summanen' 'Jomal' 'Mikael Lindmark' 'LittleGun99' 'Mjohansson2']\n"
     ]
    }
   ],
   "source": [
    "print(dftot.userName.unique())"
   ]
  },
  {
   "cell_type": "code",
   "execution_count": 18,
   "metadata": {},
   "outputs": [
    {
     "name": "stdout",
     "output_type": "stream",
     "text": [
      "Albin Larsson \t 2420261\n",
      "WikimediaC \t 134350\n",
      "carwash \t 20152\n",
      "Wikipedia \t 11030\n",
      "Jomal \t 604\n",
      "Adlitam \t 338\n",
      "Lasse Lundqvist \t 232\n",
      "Bernt Fransson \t 196\n",
      "Larissa \t 159\n",
      "Magnus Johansson \t 100\n",
      "Johan \t 93\n",
      "Holger.Ellgaard \t 82\n",
      "Eva Vedin \t 50\n",
      "Allvet \t 40\n",
      "blajo \t 30\n",
      "jssfrk \t 27\n",
      "Örjan Mattsson \t 24\n",
      "DavidH \t 23\n",
      "Jan Ainali \t 22\n",
      "David Haskiya \t 18\n",
      "Henrik Summanen \t 18\n",
      "Åsa Johansson \t 16\n",
      "Kicki Ericson \t 15\n",
      "tompahvall \t 15\n",
      "salgo60 \t 11\n",
      "nilsw \t 9\n",
      "Nixdorf \t 9\n",
      "HLP \t 9\n",
      "Allivet \t 8\n",
      "Anders Lindeberg-Lindvet \t 6\n",
      "paulinadevries \t 5\n",
      "Magnus Sälgö \t 5\n",
      "andersthe \t 5\n",
      "Mikael Lindmark \t 5\n",
      "Tore Danielsson \t 4\n",
      "Dan Albert Koehl \t 4\n",
      "carin \t 3\n",
      "Sendelbach \t 3\n",
      "Little Gun \t 3\n",
      "kalle \t 3\n",
      "LA2 \t 2\n",
      "kringelkrok \t 2\n",
      "kallep \t 2\n",
      "helenabjork \t 2\n",
      "Work with Sounds \t 2\n",
      "Julie \t 2\n",
      "Sophie \t 2\n",
      "Johan Carlström \t 2\n",
      "babben \t 2\n",
      "Mjohansson2 \t 2\n",
      "hamrelius \t 2\n",
      "Wilhelm Lagercrantz \t 2\n",
      "Hammarkind \t 2\n",
      "anna söderström \t 1\n",
      "Anders Olsson \t 1\n",
      "filosofiedoktor \t 1\n",
      "Nils Weinander \t 1\n",
      "Lotta \t 1\n",
      "Per Rohdin \t 1\n",
      "Kaysara \t 1\n",
      "Anders Wennersten \t 1\n",
      "Lennart T Olsson \t 1\n",
      "Boberger \t 1\n",
      "magnussonp \t 1\n",
      "ekstahagar \t 1\n",
      "Kalle Johansson \t 1\n",
      "Tester Testersson \t 1\n",
      "demithor \t 1\n",
      "LittleGun99 \t 1\n",
      "henning \t 1\n"
     ]
    }
   ],
   "source": [
    "usersActivity = dftot[\"userName\"].value_counts() \n",
    "for i,v in dftot[\"userName\"].value_counts().items():\n",
    "    print(i,\"\\t\",v)"
   ]
  },
  {
   "cell_type": "code",
   "execution_count": 19,
   "metadata": {},
   "outputs": [],
   "source": [
    "percentage = dftot[\"userName\"].value_counts(normalize=True) \n"
   ]
  },
  {
   "cell_type": "code",
   "execution_count": 20,
   "metadata": {},
   "outputs": [
    {
     "data": {
      "text/plain": [
       "Albin Larsson    0.935175\n",
       "WikimediaC       0.051912\n",
       "carwash          0.007787\n",
       "Wikipedia        0.004262\n",
       "Jomal            0.000233\n",
       "Name: userName, dtype: float64"
      ]
     },
     "execution_count": 20,
     "metadata": {},
     "output_type": "execute_result"
    }
   ],
   "source": [
    "# Top 5 med procent andel --> 96 % gissar jag gjorts med program\n",
    "percentage[:5]"
   ]
  },
  {
   "cell_type": "code",
   "execution_count": 21,
   "metadata": {},
   "outputs": [
    {
     "ename": "NameError",
     "evalue": "name 'plt' is not defined",
     "output_type": "error",
     "traceback": [
      "\u001b[0;31m---------------------------------------------------------------------------\u001b[0m",
      "\u001b[0;31mNameError\u001b[0m                                 Traceback (most recent call last)",
      "\u001b[0;32m<ipython-input-21-3257b874d3c6>\u001b[0m in \u001b[0;36m<module>\u001b[0;34m\u001b[0m\n\u001b[1;32m      1\u001b[0m \u001b[0;31m#Visa piechart\u001b[0m\u001b[0;34m\u001b[0m\u001b[0;34m\u001b[0m\u001b[0;34m\u001b[0m\u001b[0m\n\u001b[1;32m      2\u001b[0m \u001b[0mplot\u001b[0m \u001b[0;34m=\u001b[0m \u001b[0mpercentage\u001b[0m\u001b[0;34m.\u001b[0m\u001b[0mplot\u001b[0m\u001b[0;34m.\u001b[0m\u001b[0mpie\u001b[0m\u001b[0;34m(\u001b[0m\u001b[0my\u001b[0m\u001b[0;34m=\u001b[0m\u001b[0;34m'counts'\u001b[0m\u001b[0;34m,\u001b[0m \u001b[0mfigsize\u001b[0m\u001b[0;34m=\u001b[0m\u001b[0;34m(\u001b[0m\u001b[0;36m5\u001b[0m\u001b[0;34m,\u001b[0m \u001b[0;36m5\u001b[0m\u001b[0;34m)\u001b[0m\u001b[0;34m)\u001b[0m\u001b[0;34m\u001b[0m\u001b[0;34m\u001b[0m\u001b[0m\n\u001b[0;32m----> 3\u001b[0;31m \u001b[0mplt\u001b[0m\u001b[0;34m.\u001b[0m\u001b[0mshow\u001b[0m\u001b[0;34m(\u001b[0m\u001b[0;34m)\u001b[0m\u001b[0;34m\u001b[0m\u001b[0;34m\u001b[0m\u001b[0m\n\u001b[0m",
      "\u001b[0;31mNameError\u001b[0m: name 'plt' is not defined"
     ]
    }
   ],
   "source": [
    "#Visa piechart \n",
    "plot = percentage.plot.pie(y='counts', figsize=(5, 5)) \n",
    "plt.show()"
   ]
  },
  {
   "cell_type": "code",
   "execution_count": 22,
   "metadata": {},
   "outputs": [
    {
     "ename": "NameError",
     "evalue": "name 'plt' is not defined",
     "output_type": "error",
     "traceback": [
      "\u001b[0;31m---------------------------------------------------------------------------\u001b[0m",
      "\u001b[0;31mNameError\u001b[0m                                 Traceback (most recent call last)",
      "\u001b[0;32m<ipython-input-22-40798a372826>\u001b[0m in \u001b[0;36m<module>\u001b[0;34m\u001b[0m\n\u001b[1;32m      1\u001b[0m \u001b[0;31m# Visa top 15\u001b[0m\u001b[0;34m\u001b[0m\u001b[0;34m\u001b[0m\u001b[0;34m\u001b[0m\u001b[0m\n\u001b[1;32m      2\u001b[0m \u001b[0mplot2\u001b[0m \u001b[0;34m=\u001b[0m \u001b[0mpercentage\u001b[0m\u001b[0;34m[\u001b[0m\u001b[0;34m:\u001b[0m\u001b[0;36m15\u001b[0m\u001b[0;34m]\u001b[0m\u001b[0;34m.\u001b[0m\u001b[0mplot\u001b[0m\u001b[0;34m.\u001b[0m\u001b[0mbar\u001b[0m\u001b[0;34m(\u001b[0m\u001b[0my\u001b[0m\u001b[0;34m=\u001b[0m\u001b[0;34m'counts'\u001b[0m\u001b[0;34m,\u001b[0m \u001b[0mfigsize\u001b[0m\u001b[0;34m=\u001b[0m\u001b[0;34m(\u001b[0m\u001b[0;36m30\u001b[0m\u001b[0;34m,\u001b[0m \u001b[0;36m5\u001b[0m\u001b[0;34m)\u001b[0m\u001b[0;34m)\u001b[0m\u001b[0;34m\u001b[0m\u001b[0;34m\u001b[0m\u001b[0m\n\u001b[0;32m----> 3\u001b[0;31m \u001b[0mplt\u001b[0m\u001b[0;34m.\u001b[0m\u001b[0mshow\u001b[0m\u001b[0;34m(\u001b[0m\u001b[0;34m)\u001b[0m\u001b[0;34m\u001b[0m\u001b[0;34m\u001b[0m\u001b[0m\n\u001b[0m",
      "\u001b[0;31mNameError\u001b[0m: name 'plt' is not defined"
     ]
    }
   ],
   "source": [
    "# Visa top 15 \n",
    "plot2 = percentage[:15].plot.bar(y='counts', figsize=(30, 5))  \n",
    "plt.show()"
   ]
  },
  {
   "cell_type": "code",
   "execution_count": 23,
   "metadata": {},
   "outputs": [
    {
     "ename": "NameError",
     "evalue": "name 'plt' is not defined",
     "output_type": "error",
     "traceback": [
      "\u001b[0;31m---------------------------------------------------------------------------\u001b[0m",
      "\u001b[0;31mNameError\u001b[0m                                 Traceback (most recent call last)",
      "\u001b[0;32m<ipython-input-23-cfa8d27898ae>\u001b[0m in \u001b[0;36m<module>\u001b[0;34m\u001b[0m\n\u001b[1;32m      1\u001b[0m \u001b[0;31m# Visa plats 6-40\u001b[0m\u001b[0;34m\u001b[0m\u001b[0;34m\u001b[0m\u001b[0;34m\u001b[0m\u001b[0m\n\u001b[1;32m      2\u001b[0m \u001b[0mplot2\u001b[0m \u001b[0;34m=\u001b[0m \u001b[0mpercentage\u001b[0m\u001b[0;34m[\u001b[0m\u001b[0;36m5\u001b[0m\u001b[0;34m:\u001b[0m\u001b[0;36m40\u001b[0m\u001b[0;34m]\u001b[0m\u001b[0;34m.\u001b[0m\u001b[0mplot\u001b[0m\u001b[0;34m.\u001b[0m\u001b[0mbar\u001b[0m\u001b[0;34m(\u001b[0m\u001b[0my\u001b[0m\u001b[0;34m=\u001b[0m\u001b[0;34m'counts'\u001b[0m\u001b[0;34m,\u001b[0m \u001b[0mfigsize\u001b[0m\u001b[0;34m=\u001b[0m\u001b[0;34m(\u001b[0m\u001b[0;36m25\u001b[0m\u001b[0;34m,\u001b[0m \u001b[0;36m5\u001b[0m\u001b[0;34m)\u001b[0m\u001b[0;34m)\u001b[0m\u001b[0;34m\u001b[0m\u001b[0;34m\u001b[0m\u001b[0m\n\u001b[0;32m----> 3\u001b[0;31m \u001b[0mplt\u001b[0m\u001b[0;34m.\u001b[0m\u001b[0mshow\u001b[0m\u001b[0;34m(\u001b[0m\u001b[0;34m)\u001b[0m\u001b[0;34m\u001b[0m\u001b[0;34m\u001b[0m\u001b[0m\n\u001b[0m",
      "\u001b[0;31mNameError\u001b[0m: name 'plt' is not defined"
     ]
    }
   ],
   "source": [
    "# Visa plats 6-40 \n",
    "plot2 = percentage[5:40].plot.bar(y='counts', figsize=(25, 5)) \n",
    "plt.show()"
   ]
  },
  {
   "cell_type": "code",
   "execution_count": 24,
   "metadata": {},
   "outputs": [
    {
     "data": {
      "image/png": "[encoded data removed]",
      "text/plain": [
       "<Figure size 432x288 with 1 Axes>"
      ]
     },
     "metadata": {
      "needs_background": "light"
     },
     "output_type": "display_data"
    }
   ],
   "source": [
    "%matplotlib inline  \n",
    "import matplotlib.pyplot as plt \n",
    "users = dftot[\"userName\"].value_counts()\n",
    "\n",
    "users.plot( kind = 'bar') \n",
    "plt.show()"
   ]
  },
  {
   "cell_type": "code",
   "execution_count": 25,
   "metadata": {},
   "outputs": [
    {
     "data": {
      "text/plain": [
       "2018-11-28    1000004\n",
       "2018-12-03     955563\n",
       "2019-08-05     216202\n",
       "2018-10-06     156895\n",
       "2020-06-24     145380\n",
       "               ...   \n",
       "2014-12-05          1\n",
       "2019-03-01          1\n",
       "2019-05-06          1\n",
       "2014-05-02          1\n",
       "2014-10-31          1\n",
       "Name: createDate, Length: 502, dtype: int64"
      ]
     },
     "execution_count": 25,
     "metadata": {},
     "output_type": "execute_result"
    }
   ],
   "source": [
    "dftot[\"createDate\"].value_counts()"
   ]
  },
  {
   "cell_type": "code",
   "execution_count": 28,
   "metadata": {},
   "outputs": [
    {
     "data": {
      "text/plain": [
       "2020-06-24    145380\n",
       "2020-06-04      2708\n",
       "2020-06-03      2773\n",
       "2020-06-02        15\n",
       "2020-05-14         1\n",
       "               ...  \n",
       "2012-02-09         1\n",
       "2012-02-08         1\n",
       "2012-02-07         1\n",
       "2012-02-03         2\n",
       "2012-02-02         2\n",
       "Name: createDate, Length: 502, dtype: int64"
      ]
     },
     "execution_count": 28,
     "metadata": {},
     "output_type": "execute_result"
    }
   ],
   "source": [
    "dftot[\"createDate\"].value_counts().sort_index(ascending=False)"
   ]
  },
  {
   "cell_type": "code",
   "execution_count": 29,
   "metadata": {},
   "outputs": [
    {
     "data": {
      "text/plain": [
       "2012-02-02         2\n",
       "2012-02-03         2\n",
       "2012-02-07         1\n",
       "2012-02-08         1\n",
       "2012-02-09         1\n",
       "               ...  \n",
       "2020-05-14         1\n",
       "2020-06-02        15\n",
       "2020-06-03      2773\n",
       "2020-06-04      2708\n",
       "2020-06-24    145380\n",
       "Name: createDate, Length: 502, dtype: int64"
      ]
     },
     "execution_count": 29,
     "metadata": {},
     "output_type": "execute_result"
    }
   ],
   "source": [
    "# UGC äldsta värde är 2012-02-02 (samma år som WD skapades) och \n",
    "# mer än hälften av posterna skapades under en dag 2020-06-17 igår...?!?!?\n",
    "dftot[\"createDate\"].value_counts().sort_index()"
   ]
  },
  {
   "cell_type": "code",
   "execution_count": 35,
   "metadata": {},
   "outputs": [
    {
     "data": {
      "image/png": "[encoded data removed]",
      "text/plain": [
       "<Figure size 360x360 with 1 Axes>"
      ]
     },
     "metadata": {},
     "output_type": "display_data"
    }
   ],
   "source": [
    "dfCreateDate = dftot[\"createDate\"].value_counts().sort_index()\n",
    "plotCreateDate = dfCreateDate.plot.pie(y='counts', figsize=(5, 5))  \n",
    "plt.show()"
   ]
  },
  {
   "cell_type": "code",
   "execution_count": 44,
   "metadata": {},
   "outputs": [
    {
     "data": {
      "image/png": "[encoded data removed]",
      "text/plain": [
       "<Figure size 720x720 with 1 Axes>"
      ]
     },
     "metadata": {},
     "output_type": "display_data"
    }
   ],
   "source": [
    "#Plot was hase been done the 100 latest  \n",
    "plotCreateDate1 =   dfCreateDate.sort_index(ascending=False)[:100].plot.pie(y='counts', figsize=(10, 10))  \n",
    "plt.show()"
   ]
  },
  {
   "cell_type": "code",
   "execution_count": 46,
   "metadata": {},
   "outputs": [
    {
     "data": {
      "image/png": "[encoded data removed]",
      "text/plain": [
       "<Figure size 360x360 with 1 Axes>"
      ]
     },
     "metadata": {
      "needs_background": "light"
     },
     "output_type": "display_data"
    }
   ],
   "source": [
    "plotCreateDate1 =   dfCreateDate.sort_index(ascending=False)[:100].plot.bar(y='counts', figsize=(5, 5))  \n",
    "plt.show()"
   ]
  },
  {
   "cell_type": "code",
   "execution_count": 47,
   "metadata": {},
   "outputs": [
    {
     "data": {
      "text/plain": [
       "2012-02-02         2\n",
       "2012-02-03         2\n",
       "2012-02-07         1\n",
       "2012-02-08         1\n",
       "2012-02-09         1\n",
       "               ...  \n",
       "2020-05-14         1\n",
       "2020-06-02        15\n",
       "2020-06-03      2773\n",
       "2020-06-04      2708\n",
       "2020-06-24    145380\n",
       "Name: createDate, Length: 502, dtype: int64"
      ]
     },
     "execution_count": 47,
     "metadata": {},
     "output_type": "execute_result"
    }
   ],
   "source": [
    "dfCreateDate.sort_index(level=0) "
   ]
  },
  {
   "cell_type": "code",
   "execution_count": 48,
   "metadata": {},
   "outputs": [
    {
     "data": {
      "text/plain": [
       "2012-02-02         2\n",
       "2012-02-03         2\n",
       "2012-02-07         1\n",
       "2012-02-08         1\n",
       "2012-02-09         1\n",
       "               ...  \n",
       "2020-05-14         1\n",
       "2020-06-02        15\n",
       "2020-06-03      2773\n",
       "2020-06-04      2708\n",
       "2020-06-24    145380\n",
       "Name: createDate, Length: 502, dtype: int64"
      ]
     },
     "execution_count": 48,
     "metadata": {},
     "output_type": "execute_result"
    }
   ],
   "source": [
    "dfCreateDate.sort_index(level=0)"
   ]
  },
  {
   "cell_type": "markdown",
   "metadata": {},
   "source": [
    "Plot piechart user"
   ]
  },
  {
   "cell_type": "markdown",
   "metadata": {},
   "source": [
    "check links Europeana and if we have Linkeddata to agents ...."
   ]
  },
  {
   "cell_type": "code",
   "execution_count": 49,
   "metadata": {},
   "outputs": [
    {
     "data": {
      "text/plain": [
       "count     2588028\n",
       "unique          2\n",
       "top          True\n",
       "freq      1966045\n",
       "Name: relatedUri, dtype: object"
      ]
     },
     "execution_count": 49,
     "metadata": {},
     "output_type": "execute_result"
    }
   ],
   "source": [
    "europeana = dftot['relatedUri'].str.contains(\"data.europeana.eu\") \n",
    "europeana.describe()"
   ]
  },
  {
   "cell_type": "code",
   "execution_count": 50,
   "metadata": {},
   "outputs": [
    {
     "data": {
      "image/png": "[encoded data removed]",
      "text/plain": [
       "<Figure size 360x360 with 1 Axes>"
      ]
     },
     "metadata": {},
     "output_type": "display_data"
    }
   ],
   "source": [
    "# 75 procent är länkar till Europeana dvs. troligen att samma objekt flyttats till Europeana \n",
    "# \n",
    "plotEuropeana = europeana.value_counts().plot.pie(y='counts', figsize=(5, 5))  "
   ]
  },
  {
   "cell_type": "markdown",
   "metadata": {},
   "source": [
    "## Koll om det finns kopplingar länkad data dvs agent  \n",
    "1966045 kopplingar verkar vara mellan objekt i kulturarvsdata till data.europeana.eu/item/  \n",
    "Koppling Länkad data hittad dvs. samma som [Europeana Entity](https://www.wikidata.org/wiki/Property:P7704) samma som [Europeana Entity API](https://pro.europeana.eu/page/entity) verkar vara 46 stycken jmf Wikidata Europeana Entity > [160 000](https://www.wikidata.org/wiki/Property:P7704). Gissar att man pekar på uppladdade objekt... \n",
    "\n",
    "Dvs. det är i princip ingen semantik som tillförs utan mer info om att en bild flyttats. Europeana i sig är väldigt svagt semantiskt utan verkar bara sitta och gissa se [the sad story of Carl Larsson](https://minancestry.blogspot.com/2020/03/carl-larsson-who-is-that-sadly.html)"
   ]
  },
  {
   "cell_type": "code",
   "execution_count": 51,
   "metadata": {},
   "outputs": [
    {
     "data": {
      "text/plain": [
       "count       46\n",
       "unique       1\n",
       "top       True\n",
       "freq        46\n",
       "Name: relatedUri, dtype: object"
      ]
     },
     "execution_count": 51,
     "metadata": {},
     "output_type": "execute_result"
    }
   ],
   "source": [
    "europeanaagent = dftot['relatedUri'].str.contains(\"agent\",\"data.europeana.eu\") \n",
    "europeanaagent2 = europeanaagent[europeanaagent == True] \n",
    "europeanaagent2.describe()"
   ]
  },
  {
   "cell_type": "code",
   "execution_count": 52,
   "metadata": {},
   "outputs": [],
   "source": [
    "pd.set_option('display.max_rows', None)"
   ]
  },
  {
   "cell_type": "code",
   "execution_count": 53,
   "metadata": {},
   "outputs": [],
   "source": [
    "pd.options.display.max_rows"
   ]
  },
  {
   "cell_type": "code",
   "execution_count": 54,
   "metadata": {},
   "outputs": [],
   "source": [
    "#Save session \n",
    "#import dill \n",
    "#dill.dump_session('ugc_env.db') \n",
    "# dill.load_session('ugc_env.db')"
   ]
  },
  {
   "cell_type": "markdown",
   "metadata": {},
   "source": [
    "## Svensk runbibliografi"
   ]
  },
  {
   "cell_type": "code",
   "execution_count": 55,
   "metadata": {},
   "outputs": [],
   "source": [
    "Svenskrunbibliografi = dftot[dftot['applicationName'].str.contains(\"Svensk runbibliografi\",na=False)] \n"
   ]
  },
  {
   "cell_type": "code",
   "execution_count": 56,
   "metadata": {},
   "outputs": [
    {
     "data": {
      "text/plain": [
       "array(['isDescribedBy'], dtype=object)"
      ]
     },
     "execution_count": 56,
     "metadata": {},
     "output_type": "execute_result"
    }
   ],
   "source": [
    "Svenskrunbibliografi.relationType.unique()"
   ]
  },
  {
   "cell_type": "code",
   "execution_count": 57,
   "metadata": {},
   "outputs": [
    {
     "name": "stdout",
     "output_type": "stream",
     "text": [
      "<class 'pandas.core.frame.DataFrame'>\n",
      "Int64Index: 10822 entries, 77 to 98\n",
      "Data columns (total 12 columns):\n",
      "relationType       10822 non-null object\n",
      "id                 10822 non-null int64\n",
      "objectUri          10822 non-null object\n",
      "userName           10822 non-null object\n",
      "relatedUri         10822 non-null object\n",
      "applicationName    10822 non-null object\n",
      "createDate         10822 non-null object\n",
      "updateDate         0 non-null object\n",
      "imageUrl           0 non-null object\n",
      "comment            10822 non-null object\n",
      "tag                0 non-null object\n",
      "coordinateValue    0 non-null object\n",
      "dtypes: int64(1), object(11)\n",
      "memory usage: 1.1+ MB\n"
     ]
    }
   ],
   "source": [
    "Svenskrunbibliografi.info()"
   ]
  },
  {
   "cell_type": "code",
   "execution_count": 58,
   "metadata": {},
   "outputs": [
    {
     "data": {
      "text/plain": [
       "array(['carwash'], dtype=object)"
      ]
     },
     "execution_count": 58,
     "metadata": {},
     "output_type": "execute_result"
    }
   ],
   "source": [
    "Svenskrunbibliografi.userName.unique()"
   ]
  },
  {
   "cell_type": "code",
   "execution_count": 59,
   "metadata": {},
   "outputs": [
    {
     "data": {
      "text/plain": [
       "array(['2014-10-17'], dtype=object)"
      ]
     },
     "execution_count": 59,
     "metadata": {},
     "output_type": "execute_result"
    }
   ],
   "source": [
    "Svenskrunbibliografi.createDate.unique()"
   ]
  },
  {
   "cell_type": "code",
   "execution_count": 60,
   "metadata": {},
   "outputs": [
    {
     "data": {
      "text/plain": [
       "array(['Data från Samnordisk runtextdatabas och Svensk runbibliografi'],\n",
       "      dtype=object)"
      ]
     },
     "execution_count": 60,
     "metadata": {},
     "output_type": "execute_result"
    }
   ],
   "source": [
    "Svenskrunbibliografi.comment.unique()"
   ]
  },
  {
   "cell_type": "code",
   "execution_count": 61,
   "metadata": {},
   "outputs": [
    {
     "data": {
      "text/plain": [
       "77    http://libris.kb.se/bib/2839747\n",
       "78    http://libris.kb.se/bib/2839747\n",
       "79    http://libris.kb.se/bib/2839747\n",
       "80    http://libris.kb.se/bib/2839747\n",
       "81    http://libris.kb.se/bib/2839747\n",
       "82    http://libris.kb.se/bib/2839747\n",
       "83    http://libris.kb.se/bib/2804388\n",
       "84    http://libris.kb.se/bib/7644789\n",
       "85    http://libris.kb.se/bib/7644789\n",
       "86    http://libris.kb.se/bib/7644789\n",
       "Name: relatedUri, dtype: object"
      ]
     },
     "execution_count": 61,
     "metadata": {},
     "output_type": "execute_result"
    }
   ],
   "source": [
    "Svenskrunbibliografi.relatedUri.head(10)"
   ]
  },
  {
   "cell_type": "code",
   "execution_count": 62,
   "metadata": {},
   "outputs": [
    {
     "data": {
      "text/html": [
       "<div>\n",
       "<style scoped>\n",
       "    .dataframe tbody tr th:only-of-type {\n",
       "        vertical-align: middle;\n",
       "    }\n",
       "\n",
       "    .dataframe tbody tr th {\n",
       "        vertical-align: top;\n",
       "    }\n",
       "\n",
       "    .dataframe thead th {\n",
       "        text-align: right;\n",
       "    }\n",
       "</style>\n",
       "<table border=\"1\" class=\"dataframe\">\n",
       "  <thead>\n",
       "    <tr style=\"text-align: right;\">\n",
       "      <th></th>\n",
       "      <th>relationType</th>\n",
       "      <th>id</th>\n",
       "      <th>objectUri</th>\n",
       "      <th>userName</th>\n",
       "      <th>relatedUri</th>\n",
       "      <th>applicationName</th>\n",
       "      <th>createDate</th>\n",
       "      <th>updateDate</th>\n",
       "      <th>imageUrl</th>\n",
       "      <th>comment</th>\n",
       "      <th>tag</th>\n",
       "      <th>coordinateValue</th>\n",
       "    </tr>\n",
       "  </thead>\n",
       "  <tbody>\n",
       "    <tr>\n",
       "      <th>77</th>\n",
       "      <td>isDescribedBy</td>\n",
       "      <td>3855996</td>\n",
       "      <td>http://kulturarvsdata.se/raa/lamning/4b8d0857-...</td>\n",
       "      <td>carwash</td>\n",
       "      <td>http://libris.kb.se/bib/2839747</td>\n",
       "      <td>Svensk runbibliografi</td>\n",
       "      <td>2014-10-17</td>\n",
       "      <td>NaN</td>\n",
       "      <td>NaN</td>\n",
       "      <td>Data från Samnordisk runtextdatabas och Svensk...</td>\n",
       "      <td>NaN</td>\n",
       "      <td>NaN</td>\n",
       "    </tr>\n",
       "    <tr>\n",
       "      <th>78</th>\n",
       "      <td>isDescribedBy</td>\n",
       "      <td>3855995</td>\n",
       "      <td>http://kulturarvsdata.se/raa/lamning/59430be1-...</td>\n",
       "      <td>carwash</td>\n",
       "      <td>http://libris.kb.se/bib/2839747</td>\n",
       "      <td>Svensk runbibliografi</td>\n",
       "      <td>2014-10-17</td>\n",
       "      <td>NaN</td>\n",
       "      <td>NaN</td>\n",
       "      <td>Data från Samnordisk runtextdatabas och Svensk...</td>\n",
       "      <td>NaN</td>\n",
       "      <td>NaN</td>\n",
       "    </tr>\n",
       "    <tr>\n",
       "      <th>79</th>\n",
       "      <td>isDescribedBy</td>\n",
       "      <td>3855994</td>\n",
       "      <td>http://kulturarvsdata.se/raa/lamning/9521c087-...</td>\n",
       "      <td>carwash</td>\n",
       "      <td>http://libris.kb.se/bib/2839747</td>\n",
       "      <td>Svensk runbibliografi</td>\n",
       "      <td>2014-10-17</td>\n",
       "      <td>NaN</td>\n",
       "      <td>NaN</td>\n",
       "      <td>Data från Samnordisk runtextdatabas och Svensk...</td>\n",
       "      <td>NaN</td>\n",
       "      <td>NaN</td>\n",
       "    </tr>\n",
       "    <tr>\n",
       "      <th>80</th>\n",
       "      <td>isDescribedBy</td>\n",
       "      <td>3855993</td>\n",
       "      <td>http://kulturarvsdata.se/raa/lamning/cbdc6e0f-...</td>\n",
       "      <td>carwash</td>\n",
       "      <td>http://libris.kb.se/bib/2839747</td>\n",
       "      <td>Svensk runbibliografi</td>\n",
       "      <td>2014-10-17</td>\n",
       "      <td>NaN</td>\n",
       "      <td>NaN</td>\n",
       "      <td>Data från Samnordisk runtextdatabas och Svensk...</td>\n",
       "      <td>NaN</td>\n",
       "      <td>NaN</td>\n",
       "    </tr>\n",
       "    <tr>\n",
       "      <th>81</th>\n",
       "      <td>isDescribedBy</td>\n",
       "      <td>3855992</td>\n",
       "      <td>http://kulturarvsdata.se/raa/lamning/a9b02724-...</td>\n",
       "      <td>carwash</td>\n",
       "      <td>http://libris.kb.se/bib/2839747</td>\n",
       "      <td>Svensk runbibliografi</td>\n",
       "      <td>2014-10-17</td>\n",
       "      <td>NaN</td>\n",
       "      <td>NaN</td>\n",
       "      <td>Data från Samnordisk runtextdatabas och Svensk...</td>\n",
       "      <td>NaN</td>\n",
       "      <td>NaN</td>\n",
       "    </tr>\n",
       "    <tr>\n",
       "      <th>82</th>\n",
       "      <td>isDescribedBy</td>\n",
       "      <td>3855991</td>\n",
       "      <td>http://kulturarvsdata.se/raa/lamning/35354cc0-...</td>\n",
       "      <td>carwash</td>\n",
       "      <td>http://libris.kb.se/bib/2839747</td>\n",
       "      <td>Svensk runbibliografi</td>\n",
       "      <td>2014-10-17</td>\n",
       "      <td>NaN</td>\n",
       "      <td>NaN</td>\n",
       "      <td>Data från Samnordisk runtextdatabas och Svensk...</td>\n",
       "      <td>NaN</td>\n",
       "      <td>NaN</td>\n",
       "    </tr>\n",
       "    <tr>\n",
       "      <th>83</th>\n",
       "      <td>isDescribedBy</td>\n",
       "      <td>3855990</td>\n",
       "      <td>http://kulturarvsdata.se/raa/lamning/815a7ccd-...</td>\n",
       "      <td>carwash</td>\n",
       "      <td>http://libris.kb.se/bib/2804388</td>\n",
       "      <td>Svensk runbibliografi</td>\n",
       "      <td>2014-10-17</td>\n",
       "      <td>NaN</td>\n",
       "      <td>NaN</td>\n",
       "      <td>Data från Samnordisk runtextdatabas och Svensk...</td>\n",
       "      <td>NaN</td>\n",
       "      <td>NaN</td>\n",
       "    </tr>\n",
       "    <tr>\n",
       "      <th>84</th>\n",
       "      <td>isDescribedBy</td>\n",
       "      <td>3855989</td>\n",
       "      <td>http://kulturarvsdata.se/raa/lamning/73e95cf8-...</td>\n",
       "      <td>carwash</td>\n",
       "      <td>http://libris.kb.se/bib/7644789</td>\n",
       "      <td>Svensk runbibliografi</td>\n",
       "      <td>2014-10-17</td>\n",
       "      <td>NaN</td>\n",
       "      <td>NaN</td>\n",
       "      <td>Data från Samnordisk runtextdatabas och Svensk...</td>\n",
       "      <td>NaN</td>\n",
       "      <td>NaN</td>\n",
       "    </tr>\n",
       "    <tr>\n",
       "      <th>85</th>\n",
       "      <td>isDescribedBy</td>\n",
       "      <td>3855988</td>\n",
       "      <td>http://kulturarvsdata.se/raa/lamning/49c11fb8-...</td>\n",
       "      <td>carwash</td>\n",
       "      <td>http://libris.kb.se/bib/7644789</td>\n",
       "      <td>Svensk runbibliografi</td>\n",
       "      <td>2014-10-17</td>\n",
       "      <td>NaN</td>\n",
       "      <td>NaN</td>\n",
       "      <td>Data från Samnordisk runtextdatabas och Svensk...</td>\n",
       "      <td>NaN</td>\n",
       "      <td>NaN</td>\n",
       "    </tr>\n",
       "    <tr>\n",
       "      <th>86</th>\n",
       "      <td>isDescribedBy</td>\n",
       "      <td>3855987</td>\n",
       "      <td>http://kulturarvsdata.se/raa/lamning/4eadf213-...</td>\n",
       "      <td>carwash</td>\n",
       "      <td>http://libris.kb.se/bib/7644789</td>\n",
       "      <td>Svensk runbibliografi</td>\n",
       "      <td>2014-10-17</td>\n",
       "      <td>NaN</td>\n",
       "      <td>NaN</td>\n",
       "      <td>Data från Samnordisk runtextdatabas och Svensk...</td>\n",
       "      <td>NaN</td>\n",
       "      <td>NaN</td>\n",
       "    </tr>\n",
       "    <tr>\n",
       "      <th>87</th>\n",
       "      <td>isDescribedBy</td>\n",
       "      <td>3855986</td>\n",
       "      <td>http://kulturarvsdata.se/raa/lamning/2933ce68-...</td>\n",
       "      <td>carwash</td>\n",
       "      <td>http://libris.kb.se/bib/7644789</td>\n",
       "      <td>Svensk runbibliografi</td>\n",
       "      <td>2014-10-17</td>\n",
       "      <td>NaN</td>\n",
       "      <td>NaN</td>\n",
       "      <td>Data från Samnordisk runtextdatabas och Svensk...</td>\n",
       "      <td>NaN</td>\n",
       "      <td>NaN</td>\n",
       "    </tr>\n",
       "    <tr>\n",
       "      <th>88</th>\n",
       "      <td>isDescribedBy</td>\n",
       "      <td>3855985</td>\n",
       "      <td>http://kulturarvsdata.se/raa/lamning/ceab8e3f-...</td>\n",
       "      <td>carwash</td>\n",
       "      <td>http://libris.kb.se/bib/7644789</td>\n",
       "      <td>Svensk runbibliografi</td>\n",
       "      <td>2014-10-17</td>\n",
       "      <td>NaN</td>\n",
       "      <td>NaN</td>\n",
       "      <td>Data från Samnordisk runtextdatabas och Svensk...</td>\n",
       "      <td>NaN</td>\n",
       "      <td>NaN</td>\n",
       "    </tr>\n",
       "    <tr>\n",
       "      <th>89</th>\n",
       "      <td>isDescribedBy</td>\n",
       "      <td>3855984</td>\n",
       "      <td>http://kulturarvsdata.se/raa/lamning/e24ba704-...</td>\n",
       "      <td>carwash</td>\n",
       "      <td>http://libris.kb.se/bib/7644789</td>\n",
       "      <td>Svensk runbibliografi</td>\n",
       "      <td>2014-10-17</td>\n",
       "      <td>NaN</td>\n",
       "      <td>NaN</td>\n",
       "      <td>Data från Samnordisk runtextdatabas och Svensk...</td>\n",
       "      <td>NaN</td>\n",
       "      <td>NaN</td>\n",
       "    </tr>\n",
       "    <tr>\n",
       "      <th>90</th>\n",
       "      <td>isDescribedBy</td>\n",
       "      <td>3855983</td>\n",
       "      <td>http://kulturarvsdata.se/raa/lamning/4a2b5822-...</td>\n",
       "      <td>carwash</td>\n",
       "      <td>http://libris.kb.se/bib/7644789</td>\n",
       "      <td>Svensk runbibliografi</td>\n",
       "      <td>2014-10-17</td>\n",
       "      <td>NaN</td>\n",
       "      <td>NaN</td>\n",
       "      <td>Data från Samnordisk runtextdatabas och Svensk...</td>\n",
       "      <td>NaN</td>\n",
       "      <td>NaN</td>\n",
       "    </tr>\n",
       "    <tr>\n",
       "      <th>91</th>\n",
       "      <td>isDescribedBy</td>\n",
       "      <td>3855982</td>\n",
       "      <td>http://kulturarvsdata.se/raa/lamning/cc1a8e37-...</td>\n",
       "      <td>carwash</td>\n",
       "      <td>http://libris.kb.se/bib/7644789</td>\n",
       "      <td>Svensk runbibliografi</td>\n",
       "      <td>2014-10-17</td>\n",
       "      <td>NaN</td>\n",
       "      <td>NaN</td>\n",
       "      <td>Data från Samnordisk runtextdatabas och Svensk...</td>\n",
       "      <td>NaN</td>\n",
       "      <td>NaN</td>\n",
       "    </tr>\n",
       "    <tr>\n",
       "      <th>92</th>\n",
       "      <td>isDescribedBy</td>\n",
       "      <td>3855981</td>\n",
       "      <td>http://kulturarvsdata.se/raa/lamning/d02e18c6-...</td>\n",
       "      <td>carwash</td>\n",
       "      <td>http://libris.kb.se/bib/7644789</td>\n",
       "      <td>Svensk runbibliografi</td>\n",
       "      <td>2014-10-17</td>\n",
       "      <td>NaN</td>\n",
       "      <td>NaN</td>\n",
       "      <td>Data från Samnordisk runtextdatabas och Svensk...</td>\n",
       "      <td>NaN</td>\n",
       "      <td>NaN</td>\n",
       "    </tr>\n",
       "    <tr>\n",
       "      <th>93</th>\n",
       "      <td>isDescribedBy</td>\n",
       "      <td>3855980</td>\n",
       "      <td>http://kulturarvsdata.se/raa/lamning/e830319c-...</td>\n",
       "      <td>carwash</td>\n",
       "      <td>http://libris.kb.se/bib/7644789</td>\n",
       "      <td>Svensk runbibliografi</td>\n",
       "      <td>2014-10-17</td>\n",
       "      <td>NaN</td>\n",
       "      <td>NaN</td>\n",
       "      <td>Data från Samnordisk runtextdatabas och Svensk...</td>\n",
       "      <td>NaN</td>\n",
       "      <td>NaN</td>\n",
       "    </tr>\n",
       "    <tr>\n",
       "      <th>94</th>\n",
       "      <td>isDescribedBy</td>\n",
       "      <td>3855979</td>\n",
       "      <td>http://kulturarvsdata.se/raa/lamning/d0c914e7-...</td>\n",
       "      <td>carwash</td>\n",
       "      <td>http://libris.kb.se/bib/7644789</td>\n",
       "      <td>Svensk runbibliografi</td>\n",
       "      <td>2014-10-17</td>\n",
       "      <td>NaN</td>\n",
       "      <td>NaN</td>\n",
       "      <td>Data från Samnordisk runtextdatabas och Svensk...</td>\n",
       "      <td>NaN</td>\n",
       "      <td>NaN</td>\n",
       "    </tr>\n",
       "    <tr>\n",
       "      <th>95</th>\n",
       "      <td>isDescribedBy</td>\n",
       "      <td>3855978</td>\n",
       "      <td>http://kulturarvsdata.se/raa/lamning/f223b223-...</td>\n",
       "      <td>carwash</td>\n",
       "      <td>http://libris.kb.se/bib/7644789</td>\n",
       "      <td>Svensk runbibliografi</td>\n",
       "      <td>2014-10-17</td>\n",
       "      <td>NaN</td>\n",
       "      <td>NaN</td>\n",
       "      <td>Data från Samnordisk runtextdatabas och Svensk...</td>\n",
       "      <td>NaN</td>\n",
       "      <td>NaN</td>\n",
       "    </tr>\n",
       "    <tr>\n",
       "      <th>96</th>\n",
       "      <td>isDescribedBy</td>\n",
       "      <td>3855977</td>\n",
       "      <td>http://kulturarvsdata.se/raa/lamning/c51d7a51-...</td>\n",
       "      <td>carwash</td>\n",
       "      <td>http://libris.kb.se/bib/7644789</td>\n",
       "      <td>Svensk runbibliografi</td>\n",
       "      <td>2014-10-17</td>\n",
       "      <td>NaN</td>\n",
       "      <td>NaN</td>\n",
       "      <td>Data från Samnordisk runtextdatabas och Svensk...</td>\n",
       "      <td>NaN</td>\n",
       "      <td>NaN</td>\n",
       "    </tr>\n",
       "  </tbody>\n",
       "</table>\n",
       "</div>"
      ],
      "text/plain": [
       "     relationType       id                                          objectUri  \\\n",
       "77  isDescribedBy  3855996  http://kulturarvsdata.se/raa/lamning/4b8d0857-...   \n",
       "78  isDescribedBy  3855995  http://kulturarvsdata.se/raa/lamning/59430be1-...   \n",
       "79  isDescribedBy  3855994  http://kulturarvsdata.se/raa/lamning/9521c087-...   \n",
       "80  isDescribedBy  3855993  http://kulturarvsdata.se/raa/lamning/cbdc6e0f-...   \n",
       "81  isDescribedBy  3855992  http://kulturarvsdata.se/raa/lamning/a9b02724-...   \n",
       "82  isDescribedBy  3855991  http://kulturarvsdata.se/raa/lamning/35354cc0-...   \n",
       "83  isDescribedBy  3855990  http://kulturarvsdata.se/raa/lamning/815a7ccd-...   \n",
       "84  isDescribedBy  3855989  http://kulturarvsdata.se/raa/lamning/73e95cf8-...   \n",
       "85  isDescribedBy  3855988  http://kulturarvsdata.se/raa/lamning/49c11fb8-...   \n",
       "86  isDescribedBy  3855987  http://kulturarvsdata.se/raa/lamning/4eadf213-...   \n",
       "87  isDescribedBy  3855986  http://kulturarvsdata.se/raa/lamning/2933ce68-...   \n",
       "88  isDescribedBy  3855985  http://kulturarvsdata.se/raa/lamning/ceab8e3f-...   \n",
       "89  isDescribedBy  3855984  http://kulturarvsdata.se/raa/lamning/e24ba704-...   \n",
       "90  isDescribedBy  3855983  http://kulturarvsdata.se/raa/lamning/4a2b5822-...   \n",
       "91  isDescribedBy  3855982  http://kulturarvsdata.se/raa/lamning/cc1a8e37-...   \n",
       "92  isDescribedBy  3855981  http://kulturarvsdata.se/raa/lamning/d02e18c6-...   \n",
       "93  isDescribedBy  3855980  http://kulturarvsdata.se/raa/lamning/e830319c-...   \n",
       "94  isDescribedBy  3855979  http://kulturarvsdata.se/raa/lamning/d0c914e7-...   \n",
       "95  isDescribedBy  3855978  http://kulturarvsdata.se/raa/lamning/f223b223-...   \n",
       "96  isDescribedBy  3855977  http://kulturarvsdata.se/raa/lamning/c51d7a51-...   \n",
       "\n",
       "   userName                       relatedUri        applicationName  \\\n",
       "77  carwash  http://libris.kb.se/bib/2839747  Svensk runbibliografi   \n",
       "78  carwash  http://libris.kb.se/bib/2839747  Svensk runbibliografi   \n",
       "79  carwash  http://libris.kb.se/bib/2839747  Svensk runbibliografi   \n",
       "80  carwash  http://libris.kb.se/bib/2839747  Svensk runbibliografi   \n",
       "81  carwash  http://libris.kb.se/bib/2839747  Svensk runbibliografi   \n",
       "82  carwash  http://libris.kb.se/bib/2839747  Svensk runbibliografi   \n",
       "83  carwash  http://libris.kb.se/bib/2804388  Svensk runbibliografi   \n",
       "84  carwash  http://libris.kb.se/bib/7644789  Svensk runbibliografi   \n",
       "85  carwash  http://libris.kb.se/bib/7644789  Svensk runbibliografi   \n",
       "86  carwash  http://libris.kb.se/bib/7644789  Svensk runbibliografi   \n",
       "87  carwash  http://libris.kb.se/bib/7644789  Svensk runbibliografi   \n",
       "88  carwash  http://libris.kb.se/bib/7644789  Svensk runbibliografi   \n",
       "89  carwash  http://libris.kb.se/bib/7644789  Svensk runbibliografi   \n",
       "90  carwash  http://libris.kb.se/bib/7644789  Svensk runbibliografi   \n",
       "91  carwash  http://libris.kb.se/bib/7644789  Svensk runbibliografi   \n",
       "92  carwash  http://libris.kb.se/bib/7644789  Svensk runbibliografi   \n",
       "93  carwash  http://libris.kb.se/bib/7644789  Svensk runbibliografi   \n",
       "94  carwash  http://libris.kb.se/bib/7644789  Svensk runbibliografi   \n",
       "95  carwash  http://libris.kb.se/bib/7644789  Svensk runbibliografi   \n",
       "96  carwash  http://libris.kb.se/bib/7644789  Svensk runbibliografi   \n",
       "\n",
       "    createDate updateDate imageUrl  \\\n",
       "77  2014-10-17        NaN      NaN   \n",
       "78  2014-10-17        NaN      NaN   \n",
       "79  2014-10-17        NaN      NaN   \n",
       "80  2014-10-17        NaN      NaN   \n",
       "81  2014-10-17        NaN      NaN   \n",
       "82  2014-10-17        NaN      NaN   \n",
       "83  2014-10-17        NaN      NaN   \n",
       "84  2014-10-17        NaN      NaN   \n",
       "85  2014-10-17        NaN      NaN   \n",
       "86  2014-10-17        NaN      NaN   \n",
       "87  2014-10-17        NaN      NaN   \n",
       "88  2014-10-17        NaN      NaN   \n",
       "89  2014-10-17        NaN      NaN   \n",
       "90  2014-10-17        NaN      NaN   \n",
       "91  2014-10-17        NaN      NaN   \n",
       "92  2014-10-17        NaN      NaN   \n",
       "93  2014-10-17        NaN      NaN   \n",
       "94  2014-10-17        NaN      NaN   \n",
       "95  2014-10-17        NaN      NaN   \n",
       "96  2014-10-17        NaN      NaN   \n",
       "\n",
       "                                              comment  tag coordinateValue  \n",
       "77  Data från Samnordisk runtextdatabas och Svensk...  NaN             NaN  \n",
       "78  Data från Samnordisk runtextdatabas och Svensk...  NaN             NaN  \n",
       "79  Data från Samnordisk runtextdatabas och Svensk...  NaN             NaN  \n",
       "80  Data från Samnordisk runtextdatabas och Svensk...  NaN             NaN  \n",
       "81  Data från Samnordisk runtextdatabas och Svensk...  NaN             NaN  \n",
       "82  Data från Samnordisk runtextdatabas och Svensk...  NaN             NaN  \n",
       "83  Data från Samnordisk runtextdatabas och Svensk...  NaN             NaN  \n",
       "84  Data från Samnordisk runtextdatabas och Svensk...  NaN             NaN  \n",
       "85  Data från Samnordisk runtextdatabas och Svensk...  NaN             NaN  \n",
       "86  Data från Samnordisk runtextdatabas och Svensk...  NaN             NaN  \n",
       "87  Data från Samnordisk runtextdatabas och Svensk...  NaN             NaN  \n",
       "88  Data från Samnordisk runtextdatabas och Svensk...  NaN             NaN  \n",
       "89  Data från Samnordisk runtextdatabas och Svensk...  NaN             NaN  \n",
       "90  Data från Samnordisk runtextdatabas och Svensk...  NaN             NaN  \n",
       "91  Data från Samnordisk runtextdatabas och Svensk...  NaN             NaN  \n",
       "92  Data från Samnordisk runtextdatabas och Svensk...  NaN             NaN  \n",
       "93  Data från Samnordisk runtextdatabas och Svensk...  NaN             NaN  \n",
       "94  Data från Samnordisk runtextdatabas och Svensk...  NaN             NaN  \n",
       "95  Data från Samnordisk runtextdatabas och Svensk...  NaN             NaN  \n",
       "96  Data från Samnordisk runtextdatabas och Svensk...  NaN             NaN  "
      ]
     },
     "execution_count": 62,
     "metadata": {},
     "output_type": "execute_result"
    }
   ],
   "source": [
    "Svenskrunbibliografi.head(20)"
   ]
  },
  {
   "cell_type": "markdown",
   "metadata": {},
   "source": [
    "Still using the old system not LIBRISXL and LIBRISXL seems not link back RAÄ....\n",
    "* http://libris.kb.se/bib/2839747 correct is   \n",
    "  * https://libris.kb.se/katalogisering/wd6wddh75pcpmxv ==> \n",
    "    * https://libris.kb.se/wd6wddh75pcpmxv/data.jsonld "
   ]
  },
  {
   "cell_type": "code",
   "execution_count": 63,
   "metadata": {},
   "outputs": [
    {
     "name": "stdout",
     "output_type": "stream",
     "text": [
      "Number of books linking:  676\n"
     ]
    }
   ],
   "source": [
    "# get number of  libris items we reference  \n",
    "libris = set() \n",
    "librisurl = \"http://libris.kb.se/resource/bib/\"\n",
    "for index, row in Svenskrunbibliografi.iterrows():\n",
    "    librisref = row['relatedUri'].split(\".se/\")[1].split(\"bib/\")[1]\n",
    "    libris.add(librisref)\n",
    "    url = librisurl + librisref \n",
    "    # Looks like we get status 500 internal error from LIBRIS\n",
    "    #try: \n",
    "        #print (url,librisref)\n",
    "        #r = http.request('GET', url) \n",
    "        #print(r.headers) \n",
    "    #except : \n",
    "        #print (\"\\tError\")\n",
    "\n",
    "\n",
    "print (\"Number of books linking: \",len(libris))\n",
    "    "
   ]
  },
  {
   "cell_type": "code",
   "execution_count": 64,
   "metadata": {},
   "outputs": [],
   "source": [
    "carwashCreated = dftot[dftot['userName'].str.contains(\"carwash\",na=False)] \n"
   ]
  },
  {
   "cell_type": "code",
   "execution_count": 65,
   "metadata": {},
   "outputs": [
    {
     "data": {
      "text/html": [
       "<div>\n",
       "<style scoped>\n",
       "    .dataframe tbody tr th:only-of-type {\n",
       "        vertical-align: middle;\n",
       "    }\n",
       "\n",
       "    .dataframe tbody tr th {\n",
       "        vertical-align: top;\n",
       "    }\n",
       "\n",
       "    .dataframe thead th {\n",
       "        text-align: right;\n",
       "    }\n",
       "</style>\n",
       "<table border=\"1\" class=\"dataframe\">\n",
       "  <thead>\n",
       "    <tr style=\"text-align: right;\">\n",
       "      <th></th>\n",
       "      <th>relationType</th>\n",
       "      <th>id</th>\n",
       "      <th>objectUri</th>\n",
       "      <th>userName</th>\n",
       "      <th>relatedUri</th>\n",
       "      <th>applicationName</th>\n",
       "      <th>createDate</th>\n",
       "      <th>updateDate</th>\n",
       "      <th>imageUrl</th>\n",
       "      <th>comment</th>\n",
       "      <th>tag</th>\n",
       "      <th>coordinateValue</th>\n",
       "    </tr>\n",
       "  </thead>\n",
       "  <tbody>\n",
       "    <tr>\n",
       "      <th>61</th>\n",
       "      <td>visualizes</td>\n",
       "      <td>34424124</td>\n",
       "      <td>http://kulturarvsdata.se/blm/item/101798</td>\n",
       "      <td>carwash</td>\n",
       "      <td>http://kulturarvsdata.se/raa/lamning/d86bdb3e-...</td>\n",
       "      <td>Kringla</td>\n",
       "      <td>2020-06-02</td>\n",
       "      <td>NaN</td>\n",
       "      <td>NaN</td>\n",
       "      <td>NaN</td>\n",
       "      <td>NaN</td>\n",
       "      <td>NaN</td>\n",
       "    </tr>\n",
       "    <tr>\n",
       "      <th>62</th>\n",
       "      <td>visualizes</td>\n",
       "      <td>34424123</td>\n",
       "      <td>http://kulturarvsdata.se/blm/item/101798</td>\n",
       "      <td>carwash</td>\n",
       "      <td>http://kulturarvsdata.se/raa/lamning/3e2e18d7-...</td>\n",
       "      <td>Kringla</td>\n",
       "      <td>2020-06-02</td>\n",
       "      <td>NaN</td>\n",
       "      <td>NaN</td>\n",
       "      <td>NaN</td>\n",
       "      <td>NaN</td>\n",
       "      <td>NaN</td>\n",
       "    </tr>\n",
       "    <tr>\n",
       "      <th>63</th>\n",
       "      <td>visualizes</td>\n",
       "      <td>34424122</td>\n",
       "      <td>http://kulturarvsdata.se/SLM/item/405590</td>\n",
       "      <td>carwash</td>\n",
       "      <td>http://kulturarvsdata.se/raa/lamning/27799f1f-...</td>\n",
       "      <td>Kringla</td>\n",
       "      <td>2020-06-02</td>\n",
       "      <td>NaN</td>\n",
       "      <td>NaN</td>\n",
       "      <td>NaN</td>\n",
       "      <td>NaN</td>\n",
       "      <td>NaN</td>\n",
       "    </tr>\n",
       "    <tr>\n",
       "      <th>64</th>\n",
       "      <td>visualizes</td>\n",
       "      <td>34424121</td>\n",
       "      <td>http://kulturarvsdata.se/SLM/item/405589</td>\n",
       "      <td>carwash</td>\n",
       "      <td>http://kulturarvsdata.se/raa/lamning/27799f1f-...</td>\n",
       "      <td>Kringla</td>\n",
       "      <td>2020-06-02</td>\n",
       "      <td>NaN</td>\n",
       "      <td>NaN</td>\n",
       "      <td>NaN</td>\n",
       "      <td>NaN</td>\n",
       "      <td>NaN</td>\n",
       "    </tr>\n",
       "    <tr>\n",
       "      <th>65</th>\n",
       "      <td>visualizes</td>\n",
       "      <td>34424120</td>\n",
       "      <td>http://kulturarvsdata.se/SLM/item/405642</td>\n",
       "      <td>carwash</td>\n",
       "      <td>http://kulturarvsdata.se/raa/lamning/27799f1f-...</td>\n",
       "      <td>Kringla</td>\n",
       "      <td>2020-06-02</td>\n",
       "      <td>NaN</td>\n",
       "      <td>NaN</td>\n",
       "      <td>NaN</td>\n",
       "      <td>NaN</td>\n",
       "      <td>NaN</td>\n",
       "    </tr>\n",
       "    <tr>\n",
       "      <th>66</th>\n",
       "      <td>visualizes</td>\n",
       "      <td>34424119</td>\n",
       "      <td>http://kulturarvsdata.se/SLM/item/350828</td>\n",
       "      <td>carwash</td>\n",
       "      <td>http://kulturarvsdata.se/raa/lamning/e948ce47-...</td>\n",
       "      <td>Kringla</td>\n",
       "      <td>2020-06-02</td>\n",
       "      <td>NaN</td>\n",
       "      <td>NaN</td>\n",
       "      <td>NaN</td>\n",
       "      <td>NaN</td>\n",
       "      <td>NaN</td>\n",
       "    </tr>\n",
       "    <tr>\n",
       "      <th>67</th>\n",
       "      <td>visualizes</td>\n",
       "      <td>34424118</td>\n",
       "      <td>http://kulturarvsdata.se/SLM/item/395374</td>\n",
       "      <td>carwash</td>\n",
       "      <td>http://kulturarvsdata.se/raa/lamning/6835d2ff-...</td>\n",
       "      <td>Kringla</td>\n",
       "      <td>2020-06-02</td>\n",
       "      <td>NaN</td>\n",
       "      <td>NaN</td>\n",
       "      <td>NaN</td>\n",
       "      <td>NaN</td>\n",
       "      <td>NaN</td>\n",
       "    </tr>\n",
       "    <tr>\n",
       "      <th>68</th>\n",
       "      <td>visualizes</td>\n",
       "      <td>34424117</td>\n",
       "      <td>http://kulturarvsdata.se/SLM/item/395359</td>\n",
       "      <td>carwash</td>\n",
       "      <td>http://kulturarvsdata.se/raa/lamning/6835d2ff-...</td>\n",
       "      <td>Kringla</td>\n",
       "      <td>2020-06-02</td>\n",
       "      <td>NaN</td>\n",
       "      <td>NaN</td>\n",
       "      <td>NaN</td>\n",
       "      <td>NaN</td>\n",
       "      <td>NaN</td>\n",
       "    </tr>\n",
       "    <tr>\n",
       "      <th>69</th>\n",
       "      <td>visualizes</td>\n",
       "      <td>34424116</td>\n",
       "      <td>http://kulturarvsdata.se/SLM/item/405236</td>\n",
       "      <td>carwash</td>\n",
       "      <td>http://kulturarvsdata.se/raa/lamning/00efdeae-...</td>\n",
       "      <td>Kringla</td>\n",
       "      <td>2020-06-02</td>\n",
       "      <td>NaN</td>\n",
       "      <td>NaN</td>\n",
       "      <td>NaN</td>\n",
       "      <td>NaN</td>\n",
       "      <td>NaN</td>\n",
       "    </tr>\n",
       "    <tr>\n",
       "      <th>70</th>\n",
       "      <td>visualizes</td>\n",
       "      <td>34424115</td>\n",
       "      <td>http://kulturarvsdata.se/SLM/item/405239</td>\n",
       "      <td>carwash</td>\n",
       "      <td>http://kulturarvsdata.se/raa/lamning/00efdeae-...</td>\n",
       "      <td>Kringla</td>\n",
       "      <td>2020-06-02</td>\n",
       "      <td>NaN</td>\n",
       "      <td>NaN</td>\n",
       "      <td>NaN</td>\n",
       "      <td>NaN</td>\n",
       "      <td>NaN</td>\n",
       "    </tr>\n",
       "  </tbody>\n",
       "</table>\n",
       "</div>"
      ],
      "text/plain": [
       "   relationType        id                                 objectUri userName  \\\n",
       "61   visualizes  34424124  http://kulturarvsdata.se/blm/item/101798  carwash   \n",
       "62   visualizes  34424123  http://kulturarvsdata.se/blm/item/101798  carwash   \n",
       "63   visualizes  34424122  http://kulturarvsdata.se/SLM/item/405590  carwash   \n",
       "64   visualizes  34424121  http://kulturarvsdata.se/SLM/item/405589  carwash   \n",
       "65   visualizes  34424120  http://kulturarvsdata.se/SLM/item/405642  carwash   \n",
       "66   visualizes  34424119  http://kulturarvsdata.se/SLM/item/350828  carwash   \n",
       "67   visualizes  34424118  http://kulturarvsdata.se/SLM/item/395374  carwash   \n",
       "68   visualizes  34424117  http://kulturarvsdata.se/SLM/item/395359  carwash   \n",
       "69   visualizes  34424116  http://kulturarvsdata.se/SLM/item/405236  carwash   \n",
       "70   visualizes  34424115  http://kulturarvsdata.se/SLM/item/405239  carwash   \n",
       "\n",
       "                                           relatedUri applicationName  \\\n",
       "61  http://kulturarvsdata.se/raa/lamning/d86bdb3e-...         Kringla   \n",
       "62  http://kulturarvsdata.se/raa/lamning/3e2e18d7-...         Kringla   \n",
       "63  http://kulturarvsdata.se/raa/lamning/27799f1f-...         Kringla   \n",
       "64  http://kulturarvsdata.se/raa/lamning/27799f1f-...         Kringla   \n",
       "65  http://kulturarvsdata.se/raa/lamning/27799f1f-...         Kringla   \n",
       "66  http://kulturarvsdata.se/raa/lamning/e948ce47-...         Kringla   \n",
       "67  http://kulturarvsdata.se/raa/lamning/6835d2ff-...         Kringla   \n",
       "68  http://kulturarvsdata.se/raa/lamning/6835d2ff-...         Kringla   \n",
       "69  http://kulturarvsdata.se/raa/lamning/00efdeae-...         Kringla   \n",
       "70  http://kulturarvsdata.se/raa/lamning/00efdeae-...         Kringla   \n",
       "\n",
       "    createDate updateDate imageUrl comment  tag coordinateValue  \n",
       "61  2020-06-02        NaN      NaN     NaN  NaN             NaN  \n",
       "62  2020-06-02        NaN      NaN     NaN  NaN             NaN  \n",
       "63  2020-06-02        NaN      NaN     NaN  NaN             NaN  \n",
       "64  2020-06-02        NaN      NaN     NaN  NaN             NaN  \n",
       "65  2020-06-02        NaN      NaN     NaN  NaN             NaN  \n",
       "66  2020-06-02        NaN      NaN     NaN  NaN             NaN  \n",
       "67  2020-06-02        NaN      NaN     NaN  NaN             NaN  \n",
       "68  2020-06-02        NaN      NaN     NaN  NaN             NaN  \n",
       "69  2020-06-02        NaN      NaN     NaN  NaN             NaN  \n",
       "70  2020-06-02        NaN      NaN     NaN  NaN             NaN  "
      ]
     },
     "execution_count": 65,
     "metadata": {},
     "output_type": "execute_result"
    }
   ],
   "source": [
    "carwashCreated.head(10)"
   ]
  },
  {
   "cell_type": "code",
   "execution_count": 66,
   "metadata": {},
   "outputs": [
    {
     "name": "stdout",
     "output_type": "stream",
     "text": [
      "<class 'pandas.core.frame.DataFrame'>\n",
      "Int64Index: 20152 entries, 61 to 174\n",
      "Data columns (total 12 columns):\n",
      "relationType       20152 non-null object\n",
      "id                 20152 non-null int64\n",
      "objectUri          20152 non-null object\n",
      "userName           20152 non-null object\n",
      "relatedUri         20152 non-null object\n",
      "applicationName    20152 non-null object\n",
      "createDate         20152 non-null object\n",
      "updateDate         152 non-null object\n",
      "imageUrl           6 non-null object\n",
      "comment            10933 non-null object\n",
      "tag                6 non-null object\n",
      "coordinateValue    6 non-null object\n",
      "dtypes: int64(1), object(11)\n",
      "memory usage: 2.0+ MB\n"
     ]
    }
   ],
   "source": [
    "carwashCreated.info()"
   ]
  },
  {
   "cell_type": "code",
   "execution_count": 67,
   "metadata": {},
   "outputs": [
    {
     "data": {
      "image/png": "[encoded data removed]",
      "text/plain": [
       "<Figure size 360x360 with 1 Axes>"
      ]
     },
     "metadata": {},
     "output_type": "display_data"
    }
   ],
   "source": [
    "carwashCreatedDate = carwashCreated[\"createDate\"].value_counts().sort_index()\n",
    "plotcarwashCreateDate = carwashCreatedDate.plot.pie(y='counts', figsize=(5, 5))  \n",
    "plt.show()"
   ]
  },
  {
   "cell_type": "code",
   "execution_count": 139,
   "metadata": {},
   "outputs": [],
   "source": [
    "import seaborn as sns\n",
    "%matplotlib inline\n",
    "%config InlineBackend.figure_format = 'svg'"
   ]
  },
  {
   "cell_type": "code",
   "execution_count": 141,
   "metadata": {},
   "outputs": [
    {
     "data": {
      "text/plain": [
       "<matplotlib.axes._subplots.AxesSubplot at 0x17f9b4070>"
      ]
     },
     "execution_count": 141,
     "metadata": {},
     "output_type": "execute_result"
    },
    {
     "name": "stdout",
     "output_type": "stream",
     "text": [
      "Error in callback <function flush_figures at 0x17f496f70> (for post_execute):\n"
     ]
    },
    {
     "ename": "KeyboardInterrupt",
     "evalue": "",
     "output_type": "error",
     "traceback": [
      "\u001b[0;31m---------------------------------------------------------------------------\u001b[0m",
      "\u001b[0;31mKeyboardInterrupt\u001b[0m                         Traceback (most recent call last)",
      "\u001b[0;32m/Library/Frameworks/Python.framework/Versions/3.8/lib/python3.8/site-packages/ipykernel/pylab/backend_inline.py\u001b[0m in \u001b[0;36mflush_figures\u001b[0;34m()\u001b[0m\n\u001b[1;32m    119\u001b[0m         \u001b[0;31m# ignore the tracking, just draw and close all figures\u001b[0m\u001b[0;34m\u001b[0m\u001b[0;34m\u001b[0m\u001b[0;34m\u001b[0m\u001b[0m\n\u001b[1;32m    120\u001b[0m         \u001b[0;32mtry\u001b[0m\u001b[0;34m:\u001b[0m\u001b[0;34m\u001b[0m\u001b[0;34m\u001b[0m\u001b[0m\n\u001b[0;32m--> 121\u001b[0;31m             \u001b[0;32mreturn\u001b[0m \u001b[0mshow\u001b[0m\u001b[0;34m(\u001b[0m\u001b[0;32mTrue\u001b[0m\u001b[0;34m)\u001b[0m\u001b[0;34m\u001b[0m\u001b[0;34m\u001b[0m\u001b[0m\n\u001b[0m\u001b[1;32m    122\u001b[0m         \u001b[0;32mexcept\u001b[0m \u001b[0mException\u001b[0m \u001b[0;32mas\u001b[0m \u001b[0me\u001b[0m\u001b[0;34m:\u001b[0m\u001b[0;34m\u001b[0m\u001b[0;34m\u001b[0m\u001b[0m\n\u001b[1;32m    123\u001b[0m             \u001b[0;31m# safely show traceback if in IPython, else raise\u001b[0m\u001b[0;34m\u001b[0m\u001b[0;34m\u001b[0m\u001b[0;34m\u001b[0m\u001b[0m\n",
      "\u001b[0;32m/Library/Frameworks/Python.framework/Versions/3.8/lib/python3.8/site-packages/ipykernel/pylab/backend_inline.py\u001b[0m in \u001b[0;36mshow\u001b[0;34m(close, block)\u001b[0m\n\u001b[1;32m     39\u001b[0m     \u001b[0;32mtry\u001b[0m\u001b[0;34m:\u001b[0m\u001b[0;34m\u001b[0m\u001b[0;34m\u001b[0m\u001b[0m\n\u001b[1;32m     40\u001b[0m         \u001b[0;32mfor\u001b[0m \u001b[0mfigure_manager\u001b[0m \u001b[0;32min\u001b[0m \u001b[0mGcf\u001b[0m\u001b[0;34m.\u001b[0m\u001b[0mget_all_fig_managers\u001b[0m\u001b[0;34m(\u001b[0m\u001b[0;34m)\u001b[0m\u001b[0;34m:\u001b[0m\u001b[0;34m\u001b[0m\u001b[0;34m\u001b[0m\u001b[0m\n\u001b[0;32m---> 41\u001b[0;31m             display(\n\u001b[0m\u001b[1;32m     42\u001b[0m                 \u001b[0mfigure_manager\u001b[0m\u001b[0;34m.\u001b[0m\u001b[0mcanvas\u001b[0m\u001b[0;34m.\u001b[0m\u001b[0mfigure\u001b[0m\u001b[0;34m,\u001b[0m\u001b[0;34m\u001b[0m\u001b[0;34m\u001b[0m\u001b[0m\n\u001b[1;32m     43\u001b[0m                 \u001b[0mmetadata\u001b[0m\u001b[0;34m=\u001b[0m\u001b[0m_fetch_figure_metadata\u001b[0m\u001b[0;34m(\u001b[0m\u001b[0mfigure_manager\u001b[0m\u001b[0;34m.\u001b[0m\u001b[0mcanvas\u001b[0m\u001b[0;34m.\u001b[0m\u001b[0mfigure\u001b[0m\u001b[0;34m)\u001b[0m\u001b[0;34m\u001b[0m\u001b[0;34m\u001b[0m\u001b[0m\n",
      "\u001b[0;32m/Library/Frameworks/Python.framework/Versions/3.8/lib/python3.8/site-packages/IPython/core/display.py\u001b[0m in \u001b[0;36mdisplay\u001b[0;34m(include, exclude, metadata, transient, display_id, *objs, **kwargs)\u001b[0m\n\u001b[1;32m    311\u001b[0m             \u001b[0mpublish_display_data\u001b[0m\u001b[0;34m(\u001b[0m\u001b[0mdata\u001b[0m\u001b[0;34m=\u001b[0m\u001b[0mobj\u001b[0m\u001b[0;34m,\u001b[0m \u001b[0mmetadata\u001b[0m\u001b[0;34m=\u001b[0m\u001b[0mmetadata\u001b[0m\u001b[0;34m,\u001b[0m \u001b[0;34m**\u001b[0m\u001b[0mkwargs\u001b[0m\u001b[0;34m)\u001b[0m\u001b[0;34m\u001b[0m\u001b[0;34m\u001b[0m\u001b[0m\n\u001b[1;32m    312\u001b[0m         \u001b[0;32melse\u001b[0m\u001b[0;34m:\u001b[0m\u001b[0;34m\u001b[0m\u001b[0;34m\u001b[0m\u001b[0m\n\u001b[0;32m--> 313\u001b[0;31m             \u001b[0mformat_dict\u001b[0m\u001b[0;34m,\u001b[0m \u001b[0mmd_dict\u001b[0m \u001b[0;34m=\u001b[0m \u001b[0mformat\u001b[0m\u001b[0;34m(\u001b[0m\u001b[0mobj\u001b[0m\u001b[0;34m,\u001b[0m \u001b[0minclude\u001b[0m\u001b[0;34m=\u001b[0m\u001b[0minclude\u001b[0m\u001b[0;34m,\u001b[0m \u001b[0mexclude\u001b[0m\u001b[0;34m=\u001b[0m\u001b[0mexclude\u001b[0m\u001b[0;34m)\u001b[0m\u001b[0;34m\u001b[0m\u001b[0;34m\u001b[0m\u001b[0m\n\u001b[0m\u001b[1;32m    314\u001b[0m             \u001b[0;32mif\u001b[0m \u001b[0;32mnot\u001b[0m \u001b[0mformat_dict\u001b[0m\u001b[0;34m:\u001b[0m\u001b[0;34m\u001b[0m\u001b[0;34m\u001b[0m\u001b[0m\n\u001b[1;32m    315\u001b[0m                 \u001b[0;31m# nothing to display (e.g. _ipython_display_ took over)\u001b[0m\u001b[0;34m\u001b[0m\u001b[0;34m\u001b[0m\u001b[0;34m\u001b[0m\u001b[0m\n",
      "\u001b[0;32m/Library/Frameworks/Python.framework/Versions/3.8/lib/python3.8/site-packages/IPython/core/formatters.py\u001b[0m in \u001b[0;36mformat\u001b[0;34m(self, obj, include, exclude)\u001b[0m\n\u001b[1;32m    178\u001b[0m             \u001b[0mmd\u001b[0m \u001b[0;34m=\u001b[0m \u001b[0;32mNone\u001b[0m\u001b[0;34m\u001b[0m\u001b[0;34m\u001b[0m\u001b[0m\n\u001b[1;32m    179\u001b[0m             \u001b[0;32mtry\u001b[0m\u001b[0;34m:\u001b[0m\u001b[0;34m\u001b[0m\u001b[0;34m\u001b[0m\u001b[0m\n\u001b[0;32m--> 180\u001b[0;31m                 \u001b[0mdata\u001b[0m \u001b[0;34m=\u001b[0m \u001b[0mformatter\u001b[0m\u001b[0;34m(\u001b[0m\u001b[0mobj\u001b[0m\u001b[0;34m)\u001b[0m\u001b[0;34m\u001b[0m\u001b[0;34m\u001b[0m\u001b[0m\n\u001b[0m\u001b[1;32m    181\u001b[0m             \u001b[0;32mexcept\u001b[0m\u001b[0;34m:\u001b[0m\u001b[0;34m\u001b[0m\u001b[0;34m\u001b[0m\u001b[0m\n\u001b[1;32m    182\u001b[0m                 \u001b[0;31m# FIXME: log the exception\u001b[0m\u001b[0;34m\u001b[0m\u001b[0;34m\u001b[0m\u001b[0;34m\u001b[0m\u001b[0m\n",
      "\u001b[0;32m<decorator-gen-9>\u001b[0m in \u001b[0;36m__call__\u001b[0;34m(self, obj)\u001b[0m\n",
      "\u001b[0;32m/Library/Frameworks/Python.framework/Versions/3.8/lib/python3.8/site-packages/IPython/core/formatters.py\u001b[0m in \u001b[0;36mcatch_format_error\u001b[0;34m(method, self, *args, **kwargs)\u001b[0m\n\u001b[1;32m    222\u001b[0m     \u001b[0;34m\"\"\"show traceback on failed format call\"\"\"\u001b[0m\u001b[0;34m\u001b[0m\u001b[0;34m\u001b[0m\u001b[0m\n\u001b[1;32m    223\u001b[0m     \u001b[0;32mtry\u001b[0m\u001b[0;34m:\u001b[0m\u001b[0;34m\u001b[0m\u001b[0;34m\u001b[0m\u001b[0m\n\u001b[0;32m--> 224\u001b[0;31m         \u001b[0mr\u001b[0m \u001b[0;34m=\u001b[0m \u001b[0mmethod\u001b[0m\u001b[0;34m(\u001b[0m\u001b[0mself\u001b[0m\u001b[0;34m,\u001b[0m \u001b[0;34m*\u001b[0m\u001b[0margs\u001b[0m\u001b[0;34m,\u001b[0m \u001b[0;34m**\u001b[0m\u001b[0mkwargs\u001b[0m\u001b[0;34m)\u001b[0m\u001b[0;34m\u001b[0m\u001b[0;34m\u001b[0m\u001b[0m\n\u001b[0m\u001b[1;32m    225\u001b[0m     \u001b[0;32mexcept\u001b[0m \u001b[0mNotImplementedError\u001b[0m\u001b[0;34m:\u001b[0m\u001b[0;34m\u001b[0m\u001b[0;34m\u001b[0m\u001b[0m\n\u001b[1;32m    226\u001b[0m         \u001b[0;31m# don't warn on NotImplementedErrors\u001b[0m\u001b[0;34m\u001b[0m\u001b[0;34m\u001b[0m\u001b[0;34m\u001b[0m\u001b[0m\n",
      "\u001b[0;32m/Library/Frameworks/Python.framework/Versions/3.8/lib/python3.8/site-packages/IPython/core/formatters.py\u001b[0m in \u001b[0;36m__call__\u001b[0;34m(self, obj)\u001b[0m\n\u001b[1;32m    339\u001b[0m                 \u001b[0;32mpass\u001b[0m\u001b[0;34m\u001b[0m\u001b[0;34m\u001b[0m\u001b[0m\n\u001b[1;32m    340\u001b[0m             \u001b[0;32melse\u001b[0m\u001b[0;34m:\u001b[0m\u001b[0;34m\u001b[0m\u001b[0;34m\u001b[0m\u001b[0m\n\u001b[0;32m--> 341\u001b[0;31m                 \u001b[0;32mreturn\u001b[0m \u001b[0mprinter\u001b[0m\u001b[0;34m(\u001b[0m\u001b[0mobj\u001b[0m\u001b[0;34m)\u001b[0m\u001b[0;34m\u001b[0m\u001b[0;34m\u001b[0m\u001b[0m\n\u001b[0m\u001b[1;32m    342\u001b[0m             \u001b[0;31m# Finally look for special method names\u001b[0m\u001b[0;34m\u001b[0m\u001b[0;34m\u001b[0m\u001b[0;34m\u001b[0m\u001b[0m\n\u001b[1;32m    343\u001b[0m             \u001b[0mmethod\u001b[0m \u001b[0;34m=\u001b[0m \u001b[0mget_real_method\u001b[0m\u001b[0;34m(\u001b[0m\u001b[0mobj\u001b[0m\u001b[0;34m,\u001b[0m \u001b[0mself\u001b[0m\u001b[0;34m.\u001b[0m\u001b[0mprint_method\u001b[0m\u001b[0;34m)\u001b[0m\u001b[0;34m\u001b[0m\u001b[0;34m\u001b[0m\u001b[0m\n",
      "\u001b[0;32m/Library/Frameworks/Python.framework/Versions/3.8/lib/python3.8/site-packages/IPython/core/pylabtools.py\u001b[0m in \u001b[0;36m<lambda>\u001b[0;34m(fig)\u001b[0m\n\u001b[1;32m    252\u001b[0m         \u001b[0mjpg_formatter\u001b[0m\u001b[0;34m.\u001b[0m\u001b[0mfor_type\u001b[0m\u001b[0;34m(\u001b[0m\u001b[0mFigure\u001b[0m\u001b[0;34m,\u001b[0m \u001b[0;32mlambda\u001b[0m \u001b[0mfig\u001b[0m\u001b[0;34m:\u001b[0m \u001b[0mprint_figure\u001b[0m\u001b[0;34m(\u001b[0m\u001b[0mfig\u001b[0m\u001b[0;34m,\u001b[0m \u001b[0;34m'jpg'\u001b[0m\u001b[0;34m,\u001b[0m \u001b[0;34m**\u001b[0m\u001b[0mkwargs\u001b[0m\u001b[0;34m)\u001b[0m\u001b[0;34m)\u001b[0m\u001b[0;34m\u001b[0m\u001b[0;34m\u001b[0m\u001b[0m\n\u001b[1;32m    253\u001b[0m     \u001b[0;32mif\u001b[0m \u001b[0;34m'svg'\u001b[0m \u001b[0;32min\u001b[0m \u001b[0mformats\u001b[0m\u001b[0;34m:\u001b[0m\u001b[0;34m\u001b[0m\u001b[0;34m\u001b[0m\u001b[0m\n\u001b[0;32m--> 254\u001b[0;31m         \u001b[0msvg_formatter\u001b[0m\u001b[0;34m.\u001b[0m\u001b[0mfor_type\u001b[0m\u001b[0;34m(\u001b[0m\u001b[0mFigure\u001b[0m\u001b[0;34m,\u001b[0m \u001b[0;32mlambda\u001b[0m \u001b[0mfig\u001b[0m\u001b[0;34m:\u001b[0m \u001b[0mprint_figure\u001b[0m\u001b[0;34m(\u001b[0m\u001b[0mfig\u001b[0m\u001b[0;34m,\u001b[0m \u001b[0;34m'svg'\u001b[0m\u001b[0;34m,\u001b[0m \u001b[0;34m**\u001b[0m\u001b[0mkwargs\u001b[0m\u001b[0;34m)\u001b[0m\u001b[0;34m)\u001b[0m\u001b[0;34m\u001b[0m\u001b[0;34m\u001b[0m\u001b[0m\n\u001b[0m\u001b[1;32m    255\u001b[0m     \u001b[0;32mif\u001b[0m \u001b[0;34m'pdf'\u001b[0m \u001b[0;32min\u001b[0m \u001b[0mformats\u001b[0m\u001b[0;34m:\u001b[0m\u001b[0;34m\u001b[0m\u001b[0;34m\u001b[0m\u001b[0m\n\u001b[1;32m    256\u001b[0m         \u001b[0mpdf_formatter\u001b[0m\u001b[0;34m.\u001b[0m\u001b[0mfor_type\u001b[0m\u001b[0;34m(\u001b[0m\u001b[0mFigure\u001b[0m\u001b[0;34m,\u001b[0m \u001b[0;32mlambda\u001b[0m \u001b[0mfig\u001b[0m\u001b[0;34m:\u001b[0m \u001b[0mprint_figure\u001b[0m\u001b[0;34m(\u001b[0m\u001b[0mfig\u001b[0m\u001b[0;34m,\u001b[0m \u001b[0;34m'pdf'\u001b[0m\u001b[0;34m,\u001b[0m \u001b[0;34m**\u001b[0m\u001b[0mkwargs\u001b[0m\u001b[0;34m)\u001b[0m\u001b[0;34m)\u001b[0m\u001b[0;34m\u001b[0m\u001b[0;34m\u001b[0m\u001b[0m\n",
      "\u001b[0;32m/Library/Frameworks/Python.framework/Versions/3.8/lib/python3.8/site-packages/IPython/core/pylabtools.py\u001b[0m in \u001b[0;36mprint_figure\u001b[0;34m(fig, fmt, bbox_inches, **kwargs)\u001b[0m\n\u001b[1;32m    130\u001b[0m         \u001b[0mFigureCanvasBase\u001b[0m\u001b[0;34m(\u001b[0m\u001b[0mfig\u001b[0m\u001b[0;34m)\u001b[0m\u001b[0;34m\u001b[0m\u001b[0;34m\u001b[0m\u001b[0m\n\u001b[1;32m    131\u001b[0m \u001b[0;34m\u001b[0m\u001b[0m\n\u001b[0;32m--> 132\u001b[0;31m     \u001b[0mfig\u001b[0m\u001b[0;34m.\u001b[0m\u001b[0mcanvas\u001b[0m\u001b[0;34m.\u001b[0m\u001b[0mprint_figure\u001b[0m\u001b[0;34m(\u001b[0m\u001b[0mbytes_io\u001b[0m\u001b[0;34m,\u001b[0m \u001b[0;34m**\u001b[0m\u001b[0mkw\u001b[0m\u001b[0;34m)\u001b[0m\u001b[0;34m\u001b[0m\u001b[0;34m\u001b[0m\u001b[0m\n\u001b[0m\u001b[1;32m    133\u001b[0m     \u001b[0mdata\u001b[0m \u001b[0;34m=\u001b[0m \u001b[0mbytes_io\u001b[0m\u001b[0;34m.\u001b[0m\u001b[0mgetvalue\u001b[0m\u001b[0;34m(\u001b[0m\u001b[0;34m)\u001b[0m\u001b[0;34m\u001b[0m\u001b[0;34m\u001b[0m\u001b[0m\n\u001b[1;32m    134\u001b[0m     \u001b[0;32mif\u001b[0m \u001b[0mfmt\u001b[0m \u001b[0;34m==\u001b[0m \u001b[0;34m'svg'\u001b[0m\u001b[0;34m:\u001b[0m\u001b[0;34m\u001b[0m\u001b[0;34m\u001b[0m\u001b[0m\n",
      "\u001b[0;32m/Library/Frameworks/Python.framework/Versions/3.8/lib/python3.8/site-packages/matplotlib/backend_bases.py\u001b[0m in \u001b[0;36mprint_figure\u001b[0;34m(self, filename, dpi, facecolor, edgecolor, orientation, format, bbox_inches, **kwargs)\u001b[0m\n\u001b[1;32m   2096\u001b[0m \u001b[0;34m\u001b[0m\u001b[0m\n\u001b[1;32m   2097\u001b[0m             \u001b[0;32mtry\u001b[0m\u001b[0;34m:\u001b[0m\u001b[0;34m\u001b[0m\u001b[0;34m\u001b[0m\u001b[0m\n\u001b[0;32m-> 2098\u001b[0;31m                 result = print_method(\n\u001b[0m\u001b[1;32m   2099\u001b[0m                     \u001b[0mfilename\u001b[0m\u001b[0;34m,\u001b[0m\u001b[0;34m\u001b[0m\u001b[0;34m\u001b[0m\u001b[0m\n\u001b[1;32m   2100\u001b[0m                     \u001b[0mdpi\u001b[0m\u001b[0;34m=\u001b[0m\u001b[0mdpi\u001b[0m\u001b[0;34m,\u001b[0m\u001b[0;34m\u001b[0m\u001b[0;34m\u001b[0m\u001b[0m\n",
      "\u001b[0;32m/Library/Frameworks/Python.framework/Versions/3.8/lib/python3.8/site-packages/matplotlib/backends/backend_svg.py\u001b[0m in \u001b[0;36mprint_svg\u001b[0;34m(self, filename, *args, **kwargs)\u001b[0m\n\u001b[1;32m   1194\u001b[0m                 \u001b[0mdetach\u001b[0m \u001b[0;34m=\u001b[0m \u001b[0;32mTrue\u001b[0m\u001b[0;34m\u001b[0m\u001b[0;34m\u001b[0m\u001b[0m\n\u001b[1;32m   1195\u001b[0m \u001b[0;34m\u001b[0m\u001b[0m\n\u001b[0;32m-> 1196\u001b[0;31m             \u001b[0mresult\u001b[0m \u001b[0;34m=\u001b[0m \u001b[0mself\u001b[0m\u001b[0;34m.\u001b[0m\u001b[0m_print_svg\u001b[0m\u001b[0;34m(\u001b[0m\u001b[0mfilename\u001b[0m\u001b[0;34m,\u001b[0m \u001b[0mfh\u001b[0m\u001b[0;34m,\u001b[0m \u001b[0;34m**\u001b[0m\u001b[0mkwargs\u001b[0m\u001b[0;34m)\u001b[0m\u001b[0;34m\u001b[0m\u001b[0;34m\u001b[0m\u001b[0m\n\u001b[0m\u001b[1;32m   1197\u001b[0m \u001b[0;34m\u001b[0m\u001b[0m\n\u001b[1;32m   1198\u001b[0m             \u001b[0;31m# Detach underlying stream from wrapper so that it remains open in\u001b[0m\u001b[0;34m\u001b[0m\u001b[0;34m\u001b[0m\u001b[0;34m\u001b[0m\u001b[0m\n",
      "\u001b[0;32m/Library/Frameworks/Python.framework/Versions/3.8/lib/python3.8/site-packages/matplotlib/backends/backend_svg.py\u001b[0m in \u001b[0;36m_print_svg\u001b[0;34m(self, filename, fh, dpi, bbox_inches_restore, **kwargs)\u001b[0m\n\u001b[1;32m   1219\u001b[0m             bbox_inches_restore=bbox_inches_restore)\n\u001b[1;32m   1220\u001b[0m \u001b[0;34m\u001b[0m\u001b[0m\n\u001b[0;32m-> 1221\u001b[0;31m         \u001b[0mself\u001b[0m\u001b[0;34m.\u001b[0m\u001b[0mfigure\u001b[0m\u001b[0;34m.\u001b[0m\u001b[0mdraw\u001b[0m\u001b[0;34m(\u001b[0m\u001b[0mrenderer\u001b[0m\u001b[0;34m)\u001b[0m\u001b[0;34m\u001b[0m\u001b[0;34m\u001b[0m\u001b[0m\n\u001b[0m\u001b[1;32m   1222\u001b[0m         \u001b[0mrenderer\u001b[0m\u001b[0;34m.\u001b[0m\u001b[0mfinalize\u001b[0m\u001b[0;34m(\u001b[0m\u001b[0;34m)\u001b[0m\u001b[0;34m\u001b[0m\u001b[0;34m\u001b[0m\u001b[0m\n\u001b[1;32m   1223\u001b[0m \u001b[0;34m\u001b[0m\u001b[0m\n",
      "\u001b[0;32m/Library/Frameworks/Python.framework/Versions/3.8/lib/python3.8/site-packages/matplotlib/artist.py\u001b[0m in \u001b[0;36mdraw_wrapper\u001b[0;34m(artist, renderer, *args, **kwargs)\u001b[0m\n\u001b[1;32m     36\u001b[0m                 \u001b[0mrenderer\u001b[0m\u001b[0;34m.\u001b[0m\u001b[0mstart_filter\u001b[0m\u001b[0;34m(\u001b[0m\u001b[0;34m)\u001b[0m\u001b[0;34m\u001b[0m\u001b[0;34m\u001b[0m\u001b[0m\n\u001b[1;32m     37\u001b[0m \u001b[0;34m\u001b[0m\u001b[0m\n\u001b[0;32m---> 38\u001b[0;31m             \u001b[0;32mreturn\u001b[0m \u001b[0mdraw\u001b[0m\u001b[0;34m(\u001b[0m\u001b[0martist\u001b[0m\u001b[0;34m,\u001b[0m \u001b[0mrenderer\u001b[0m\u001b[0;34m,\u001b[0m \u001b[0;34m*\u001b[0m\u001b[0margs\u001b[0m\u001b[0;34m,\u001b[0m \u001b[0;34m**\u001b[0m\u001b[0mkwargs\u001b[0m\u001b[0;34m)\u001b[0m\u001b[0;34m\u001b[0m\u001b[0;34m\u001b[0m\u001b[0m\n\u001b[0m\u001b[1;32m     39\u001b[0m         \u001b[0;32mfinally\u001b[0m\u001b[0;34m:\u001b[0m\u001b[0;34m\u001b[0m\u001b[0;34m\u001b[0m\u001b[0m\n\u001b[1;32m     40\u001b[0m             \u001b[0;32mif\u001b[0m \u001b[0martist\u001b[0m\u001b[0;34m.\u001b[0m\u001b[0mget_agg_filter\u001b[0m\u001b[0;34m(\u001b[0m\u001b[0;34m)\u001b[0m \u001b[0;32mis\u001b[0m \u001b[0;32mnot\u001b[0m \u001b[0;32mNone\u001b[0m\u001b[0;34m:\u001b[0m\u001b[0;34m\u001b[0m\u001b[0;34m\u001b[0m\u001b[0m\n",
      "\u001b[0;32m/Library/Frameworks/Python.framework/Versions/3.8/lib/python3.8/site-packages/matplotlib/figure.py\u001b[0m in \u001b[0;36mdraw\u001b[0;34m(self, renderer)\u001b[0m\n\u001b[1;32m   1733\u001b[0m \u001b[0;34m\u001b[0m\u001b[0m\n\u001b[1;32m   1734\u001b[0m             \u001b[0mself\u001b[0m\u001b[0;34m.\u001b[0m\u001b[0mpatch\u001b[0m\u001b[0;34m.\u001b[0m\u001b[0mdraw\u001b[0m\u001b[0;34m(\u001b[0m\u001b[0mrenderer\u001b[0m\u001b[0;34m)\u001b[0m\u001b[0;34m\u001b[0m\u001b[0;34m\u001b[0m\u001b[0m\n\u001b[0;32m-> 1735\u001b[0;31m             mimage._draw_list_compositing_images(\n\u001b[0m\u001b[1;32m   1736\u001b[0m                 renderer, self, artists, self.suppressComposite)\n\u001b[1;32m   1737\u001b[0m \u001b[0;34m\u001b[0m\u001b[0m\n",
      "\u001b[0;32m/Library/Frameworks/Python.framework/Versions/3.8/lib/python3.8/site-packages/matplotlib/image.py\u001b[0m in \u001b[0;36m_draw_list_compositing_images\u001b[0;34m(renderer, parent, artists, suppress_composite)\u001b[0m\n\u001b[1;32m    135\u001b[0m     \u001b[0;32mif\u001b[0m \u001b[0mnot_composite\u001b[0m \u001b[0;32mor\u001b[0m \u001b[0;32mnot\u001b[0m \u001b[0mhas_images\u001b[0m\u001b[0;34m:\u001b[0m\u001b[0;34m\u001b[0m\u001b[0;34m\u001b[0m\u001b[0m\n\u001b[1;32m    136\u001b[0m         \u001b[0;32mfor\u001b[0m \u001b[0ma\u001b[0m \u001b[0;32min\u001b[0m \u001b[0martists\u001b[0m\u001b[0;34m:\u001b[0m\u001b[0;34m\u001b[0m\u001b[0;34m\u001b[0m\u001b[0m\n\u001b[0;32m--> 137\u001b[0;31m             \u001b[0ma\u001b[0m\u001b[0;34m.\u001b[0m\u001b[0mdraw\u001b[0m\u001b[0;34m(\u001b[0m\u001b[0mrenderer\u001b[0m\u001b[0;34m)\u001b[0m\u001b[0;34m\u001b[0m\u001b[0;34m\u001b[0m\u001b[0m\n\u001b[0m\u001b[1;32m    138\u001b[0m     \u001b[0;32melse\u001b[0m\u001b[0;34m:\u001b[0m\u001b[0;34m\u001b[0m\u001b[0;34m\u001b[0m\u001b[0m\n\u001b[1;32m    139\u001b[0m         \u001b[0;31m# Composite any adjacent images together\u001b[0m\u001b[0;34m\u001b[0m\u001b[0;34m\u001b[0m\u001b[0;34m\u001b[0m\u001b[0m\n",
      "\u001b[0;32m/Library/Frameworks/Python.framework/Versions/3.8/lib/python3.8/site-packages/matplotlib/artist.py\u001b[0m in \u001b[0;36mdraw_wrapper\u001b[0;34m(artist, renderer, *args, **kwargs)\u001b[0m\n\u001b[1;32m     36\u001b[0m                 \u001b[0mrenderer\u001b[0m\u001b[0;34m.\u001b[0m\u001b[0mstart_filter\u001b[0m\u001b[0;34m(\u001b[0m\u001b[0;34m)\u001b[0m\u001b[0;34m\u001b[0m\u001b[0;34m\u001b[0m\u001b[0m\n\u001b[1;32m     37\u001b[0m \u001b[0;34m\u001b[0m\u001b[0m\n\u001b[0;32m---> 38\u001b[0;31m             \u001b[0;32mreturn\u001b[0m \u001b[0mdraw\u001b[0m\u001b[0;34m(\u001b[0m\u001b[0martist\u001b[0m\u001b[0;34m,\u001b[0m \u001b[0mrenderer\u001b[0m\u001b[0;34m,\u001b[0m \u001b[0;34m*\u001b[0m\u001b[0margs\u001b[0m\u001b[0;34m,\u001b[0m \u001b[0;34m**\u001b[0m\u001b[0mkwargs\u001b[0m\u001b[0;34m)\u001b[0m\u001b[0;34m\u001b[0m\u001b[0;34m\u001b[0m\u001b[0m\n\u001b[0m\u001b[1;32m     39\u001b[0m         \u001b[0;32mfinally\u001b[0m\u001b[0;34m:\u001b[0m\u001b[0;34m\u001b[0m\u001b[0;34m\u001b[0m\u001b[0m\n\u001b[1;32m     40\u001b[0m             \u001b[0;32mif\u001b[0m \u001b[0martist\u001b[0m\u001b[0;34m.\u001b[0m\u001b[0mget_agg_filter\u001b[0m\u001b[0;34m(\u001b[0m\u001b[0;34m)\u001b[0m \u001b[0;32mis\u001b[0m \u001b[0;32mnot\u001b[0m \u001b[0;32mNone\u001b[0m\u001b[0;34m:\u001b[0m\u001b[0;34m\u001b[0m\u001b[0;34m\u001b[0m\u001b[0m\n",
      "\u001b[0;32m/Library/Frameworks/Python.framework/Versions/3.8/lib/python3.8/site-packages/matplotlib/axes/_base.py\u001b[0m in \u001b[0;36mdraw\u001b[0;34m(self, renderer, inframe)\u001b[0m\n\u001b[1;32m   2628\u001b[0m             \u001b[0mrenderer\u001b[0m\u001b[0;34m.\u001b[0m\u001b[0mstop_rasterizing\u001b[0m\u001b[0;34m(\u001b[0m\u001b[0;34m)\u001b[0m\u001b[0;34m\u001b[0m\u001b[0;34m\u001b[0m\u001b[0m\n\u001b[1;32m   2629\u001b[0m \u001b[0;34m\u001b[0m\u001b[0m\n\u001b[0;32m-> 2630\u001b[0;31m         \u001b[0mmimage\u001b[0m\u001b[0;34m.\u001b[0m\u001b[0m_draw_list_compositing_images\u001b[0m\u001b[0;34m(\u001b[0m\u001b[0mrenderer\u001b[0m\u001b[0;34m,\u001b[0m \u001b[0mself\u001b[0m\u001b[0;34m,\u001b[0m \u001b[0martists\u001b[0m\u001b[0;34m)\u001b[0m\u001b[0;34m\u001b[0m\u001b[0;34m\u001b[0m\u001b[0m\n\u001b[0m\u001b[1;32m   2631\u001b[0m \u001b[0;34m\u001b[0m\u001b[0m\n\u001b[1;32m   2632\u001b[0m         \u001b[0mrenderer\u001b[0m\u001b[0;34m.\u001b[0m\u001b[0mclose_group\u001b[0m\u001b[0;34m(\u001b[0m\u001b[0;34m'axes'\u001b[0m\u001b[0;34m)\u001b[0m\u001b[0;34m\u001b[0m\u001b[0;34m\u001b[0m\u001b[0m\n",
      "\u001b[0;32m/Library/Frameworks/Python.framework/Versions/3.8/lib/python3.8/site-packages/matplotlib/image.py\u001b[0m in \u001b[0;36m_draw_list_compositing_images\u001b[0;34m(renderer, parent, artists, suppress_composite)\u001b[0m\n\u001b[1;32m    135\u001b[0m     \u001b[0;32mif\u001b[0m \u001b[0mnot_composite\u001b[0m \u001b[0;32mor\u001b[0m \u001b[0;32mnot\u001b[0m \u001b[0mhas_images\u001b[0m\u001b[0;34m:\u001b[0m\u001b[0;34m\u001b[0m\u001b[0;34m\u001b[0m\u001b[0m\n\u001b[1;32m    136\u001b[0m         \u001b[0;32mfor\u001b[0m \u001b[0ma\u001b[0m \u001b[0;32min\u001b[0m \u001b[0martists\u001b[0m\u001b[0;34m:\u001b[0m\u001b[0;34m\u001b[0m\u001b[0;34m\u001b[0m\u001b[0m\n\u001b[0;32m--> 137\u001b[0;31m             \u001b[0ma\u001b[0m\u001b[0;34m.\u001b[0m\u001b[0mdraw\u001b[0m\u001b[0;34m(\u001b[0m\u001b[0mrenderer\u001b[0m\u001b[0;34m)\u001b[0m\u001b[0;34m\u001b[0m\u001b[0;34m\u001b[0m\u001b[0m\n\u001b[0m\u001b[1;32m    138\u001b[0m     \u001b[0;32melse\u001b[0m\u001b[0;34m:\u001b[0m\u001b[0;34m\u001b[0m\u001b[0;34m\u001b[0m\u001b[0m\n\u001b[1;32m    139\u001b[0m         \u001b[0;31m# Composite any adjacent images together\u001b[0m\u001b[0;34m\u001b[0m\u001b[0;34m\u001b[0m\u001b[0;34m\u001b[0m\u001b[0m\n",
      "\u001b[0;32m/Library/Frameworks/Python.framework/Versions/3.8/lib/python3.8/site-packages/matplotlib/artist.py\u001b[0m in \u001b[0;36mdraw_wrapper\u001b[0;34m(artist, renderer, *args, **kwargs)\u001b[0m\n\u001b[1;32m     36\u001b[0m                 \u001b[0mrenderer\u001b[0m\u001b[0;34m.\u001b[0m\u001b[0mstart_filter\u001b[0m\u001b[0;34m(\u001b[0m\u001b[0;34m)\u001b[0m\u001b[0;34m\u001b[0m\u001b[0;34m\u001b[0m\u001b[0m\n\u001b[1;32m     37\u001b[0m \u001b[0;34m\u001b[0m\u001b[0m\n\u001b[0;32m---> 38\u001b[0;31m             \u001b[0;32mreturn\u001b[0m \u001b[0mdraw\u001b[0m\u001b[0;34m(\u001b[0m\u001b[0martist\u001b[0m\u001b[0;34m,\u001b[0m \u001b[0mrenderer\u001b[0m\u001b[0;34m,\u001b[0m \u001b[0;34m*\u001b[0m\u001b[0margs\u001b[0m\u001b[0;34m,\u001b[0m \u001b[0;34m**\u001b[0m\u001b[0mkwargs\u001b[0m\u001b[0;34m)\u001b[0m\u001b[0;34m\u001b[0m\u001b[0;34m\u001b[0m\u001b[0m\n\u001b[0m\u001b[1;32m     39\u001b[0m         \u001b[0;32mfinally\u001b[0m\u001b[0;34m:\u001b[0m\u001b[0;34m\u001b[0m\u001b[0;34m\u001b[0m\u001b[0m\n\u001b[1;32m     40\u001b[0m             \u001b[0;32mif\u001b[0m \u001b[0martist\u001b[0m\u001b[0;34m.\u001b[0m\u001b[0mget_agg_filter\u001b[0m\u001b[0;34m(\u001b[0m\u001b[0;34m)\u001b[0m \u001b[0;32mis\u001b[0m \u001b[0;32mnot\u001b[0m \u001b[0;32mNone\u001b[0m\u001b[0;34m:\u001b[0m\u001b[0;34m\u001b[0m\u001b[0;34m\u001b[0m\u001b[0m\n",
      "\u001b[0;32m/Library/Frameworks/Python.framework/Versions/3.8/lib/python3.8/site-packages/matplotlib/collections.py\u001b[0m in \u001b[0;36mdraw\u001b[0;34m(self, renderer)\u001b[0m\n\u001b[1;32m   2069\u001b[0m                 gc, triangles, colors, transform.frozen())\n\u001b[1;32m   2070\u001b[0m         \u001b[0;32melse\u001b[0m\u001b[0;34m:\u001b[0m\u001b[0;34m\u001b[0m\u001b[0;34m\u001b[0m\u001b[0m\n\u001b[0;32m-> 2071\u001b[0;31m             renderer.draw_quad_mesh(\n\u001b[0m\u001b[1;32m   2072\u001b[0m                 \u001b[0mgc\u001b[0m\u001b[0;34m,\u001b[0m \u001b[0mtransform\u001b[0m\u001b[0;34m.\u001b[0m\u001b[0mfrozen\u001b[0m\u001b[0;34m(\u001b[0m\u001b[0;34m)\u001b[0m\u001b[0;34m,\u001b[0m \u001b[0mself\u001b[0m\u001b[0;34m.\u001b[0m\u001b[0m_meshWidth\u001b[0m\u001b[0;34m,\u001b[0m \u001b[0mself\u001b[0m\u001b[0;34m.\u001b[0m\u001b[0m_meshHeight\u001b[0m\u001b[0;34m,\u001b[0m\u001b[0;34m\u001b[0m\u001b[0;34m\u001b[0m\u001b[0m\n\u001b[1;32m   2073\u001b[0m                 \u001b[0mcoordinates\u001b[0m\u001b[0;34m,\u001b[0m \u001b[0moffsets\u001b[0m\u001b[0;34m,\u001b[0m \u001b[0mtransOffset\u001b[0m\u001b[0;34m,\u001b[0m \u001b[0mself\u001b[0m\u001b[0;34m.\u001b[0m\u001b[0mget_facecolor\u001b[0m\u001b[0;34m(\u001b[0m\u001b[0;34m)\u001b[0m\u001b[0;34m,\u001b[0m\u001b[0;34m\u001b[0m\u001b[0;34m\u001b[0m\u001b[0m\n",
      "\u001b[0;32m/Library/Frameworks/Python.framework/Versions/3.8/lib/python3.8/site-packages/matplotlib/backend_bases.py\u001b[0m in \u001b[0;36mdraw_quad_mesh\u001b[0;34m(self, gc, master_transform, meshWidth, meshHeight, coordinates, offsets, offsetTrans, facecolors, antialiased, edgecolors)\u001b[0m\n\u001b[1;32m    253\u001b[0m \u001b[0;34m\u001b[0m\u001b[0m\n\u001b[1;32m    254\u001b[0m         \u001b[0;32mfrom\u001b[0m \u001b[0mmatplotlib\u001b[0m\u001b[0;34m.\u001b[0m\u001b[0mcollections\u001b[0m \u001b[0;32mimport\u001b[0m \u001b[0mQuadMesh\u001b[0m\u001b[0;34m\u001b[0m\u001b[0;34m\u001b[0m\u001b[0m\n\u001b[0;32m--> 255\u001b[0;31m         paths = QuadMesh.convert_mesh_to_paths(\n\u001b[0m\u001b[1;32m    256\u001b[0m             meshWidth, meshHeight, coordinates)\n\u001b[1;32m    257\u001b[0m \u001b[0;34m\u001b[0m\u001b[0m\n",
      "\u001b[0;32m/Library/Frameworks/Python.framework/Versions/3.8/lib/python3.8/site-packages/matplotlib/collections.py\u001b[0m in \u001b[0;36mconvert_mesh_to_paths\u001b[0;34m(meshWidth, meshHeight, coordinates)\u001b[0m\n\u001b[1;32m   1986\u001b[0m                 ), axis=2)\n\u001b[1;32m   1987\u001b[0m         \u001b[0mpoints\u001b[0m \u001b[0;34m=\u001b[0m \u001b[0mpoints\u001b[0m\u001b[0;34m.\u001b[0m\u001b[0mreshape\u001b[0m\u001b[0;34m(\u001b[0m\u001b[0;34m(\u001b[0m\u001b[0mmeshWidth\u001b[0m \u001b[0;34m*\u001b[0m \u001b[0mmeshHeight\u001b[0m\u001b[0;34m,\u001b[0m \u001b[0;36m5\u001b[0m\u001b[0;34m,\u001b[0m \u001b[0;36m2\u001b[0m\u001b[0;34m)\u001b[0m\u001b[0;34m)\u001b[0m\u001b[0;34m\u001b[0m\u001b[0;34m\u001b[0m\u001b[0m\n\u001b[0;32m-> 1988\u001b[0;31m         \u001b[0;32mreturn\u001b[0m \u001b[0;34m[\u001b[0m\u001b[0mmpath\u001b[0m\u001b[0;34m.\u001b[0m\u001b[0mPath\u001b[0m\u001b[0;34m(\u001b[0m\u001b[0mx\u001b[0m\u001b[0;34m)\u001b[0m \u001b[0;32mfor\u001b[0m \u001b[0mx\u001b[0m \u001b[0;32min\u001b[0m \u001b[0mpoints\u001b[0m\u001b[0;34m]\u001b[0m\u001b[0;34m\u001b[0m\u001b[0;34m\u001b[0m\u001b[0m\n\u001b[0m\u001b[1;32m   1989\u001b[0m \u001b[0;34m\u001b[0m\u001b[0m\n\u001b[1;32m   1990\u001b[0m     \u001b[0;32mdef\u001b[0m \u001b[0mconvert_mesh_to_triangles\u001b[0m\u001b[0;34m(\u001b[0m\u001b[0mself\u001b[0m\u001b[0;34m,\u001b[0m \u001b[0mmeshWidth\u001b[0m\u001b[0;34m,\u001b[0m \u001b[0mmeshHeight\u001b[0m\u001b[0;34m,\u001b[0m \u001b[0mcoordinates\u001b[0m\u001b[0;34m)\u001b[0m\u001b[0;34m:\u001b[0m\u001b[0;34m\u001b[0m\u001b[0;34m\u001b[0m\u001b[0m\n",
      "\u001b[0;32m/Library/Frameworks/Python.framework/Versions/3.8/lib/python3.8/site-packages/matplotlib/collections.py\u001b[0m in \u001b[0;36m<listcomp>\u001b[0;34m(.0)\u001b[0m\n\u001b[1;32m   1986\u001b[0m                 ), axis=2)\n\u001b[1;32m   1987\u001b[0m         \u001b[0mpoints\u001b[0m \u001b[0;34m=\u001b[0m \u001b[0mpoints\u001b[0m\u001b[0;34m.\u001b[0m\u001b[0mreshape\u001b[0m\u001b[0;34m(\u001b[0m\u001b[0;34m(\u001b[0m\u001b[0mmeshWidth\u001b[0m \u001b[0;34m*\u001b[0m \u001b[0mmeshHeight\u001b[0m\u001b[0;34m,\u001b[0m \u001b[0;36m5\u001b[0m\u001b[0;34m,\u001b[0m \u001b[0;36m2\u001b[0m\u001b[0;34m)\u001b[0m\u001b[0;34m)\u001b[0m\u001b[0;34m\u001b[0m\u001b[0;34m\u001b[0m\u001b[0m\n\u001b[0;32m-> 1988\u001b[0;31m         \u001b[0;32mreturn\u001b[0m \u001b[0;34m[\u001b[0m\u001b[0mmpath\u001b[0m\u001b[0;34m.\u001b[0m\u001b[0mPath\u001b[0m\u001b[0;34m(\u001b[0m\u001b[0mx\u001b[0m\u001b[0;34m)\u001b[0m \u001b[0;32mfor\u001b[0m \u001b[0mx\u001b[0m \u001b[0;32min\u001b[0m \u001b[0mpoints\u001b[0m\u001b[0;34m]\u001b[0m\u001b[0;34m\u001b[0m\u001b[0;34m\u001b[0m\u001b[0m\n\u001b[0m\u001b[1;32m   1989\u001b[0m \u001b[0;34m\u001b[0m\u001b[0m\n\u001b[1;32m   1990\u001b[0m     \u001b[0;32mdef\u001b[0m \u001b[0mconvert_mesh_to_triangles\u001b[0m\u001b[0;34m(\u001b[0m\u001b[0mself\u001b[0m\u001b[0;34m,\u001b[0m \u001b[0mmeshWidth\u001b[0m\u001b[0;34m,\u001b[0m \u001b[0mmeshHeight\u001b[0m\u001b[0;34m,\u001b[0m \u001b[0mcoordinates\u001b[0m\u001b[0;34m)\u001b[0m\u001b[0;34m:\u001b[0m\u001b[0;34m\u001b[0m\u001b[0;34m\u001b[0m\u001b[0m\n",
      "\u001b[0;32m/Library/Frameworks/Python.framework/Versions/3.8/lib/python3.8/site-packages/matplotlib/path.py\u001b[0m in \u001b[0;36m__init__\u001b[0;34m(self, vertices, codes, _interpolation_steps, closed, readonly)\u001b[0m\n\u001b[1;32m     94\u001b[0m                              CLOSEPOLY: 1}\n\u001b[1;32m     95\u001b[0m \u001b[0;34m\u001b[0m\u001b[0m\n\u001b[0;32m---> 96\u001b[0;31m     def __init__(self, vertices, codes=None, _interpolation_steps=1,\n\u001b[0m\u001b[1;32m     97\u001b[0m                  closed=False, readonly=False):\n\u001b[1;32m     98\u001b[0m         \"\"\"\n",
      "\u001b[0;31mKeyboardInterrupt\u001b[0m: "
     ]
    }
   ],
   "source": [
    "sns.heatmap(dftot.isnull(), \n",
    "            yticklabels=False, \n",
    "            cbar=False, \n",
    "            cmap='viridis')"
   ]
  },
  {
   "cell_type": "code",
   "execution_count": null,
   "metadata": {},
   "outputs": [
    {
     "data": {
      "text/plain": [
       "<matplotlib.axes._subplots.AxesSubplot at 0x1a7b04c10>"
      ]
     },
     "execution_count": 146,
     "metadata": {},
     "output_type": "execute_result"
    }
   ],
   "source": [
    "#Show empty fields --> no coordinate values \n",
    "sns.heatmap(carwashCreated.isnull(), \n",
    "            yticklabels=False, \n",
    "            cbar=False, \n",
    "            cmap='viridis')"
   ]
  },
  {
   "cell_type": "code",
   "execution_count": null,
   "metadata": {},
   "outputs": [],
   "source": []
  }
 ],
 "metadata": {
  "kernelspec": {
   "display_name": "Python 3",
   "language": "python",
   "name": "python3"
  }
 },
 "nbformat": 4,
 "nbformat_minor": 4
}
