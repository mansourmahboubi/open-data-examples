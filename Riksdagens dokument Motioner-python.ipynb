{
 "cells": [
  {
   "cell_type": "markdown",
   "metadata": {},
   "source": [
    "## Riksdagen motioner \n",
    "\n",
    "* Denna [Jupyter Notebook](https://github.com/salgo60/open-data-examples/blob/master/Riksdagens%20dokument%20Motioner-python.ipynb)  \n",
    "  * [GITHUB Riksdagen](https://github.com/salgo60/Riksdagen)\n",
    "* [Skapa sökfråga](http://data.riksdagen.se/dokumentlista/)  --> 245204 Motioner \n",
    "  \n",
    "* Wikipedia [WikiProject_Sweden/Swedish_Riksdag_documents](https://www.wikidata.org/wiki/Wikidata:WikiProject_Sweden/Swedish_Riksdag_documents) \n",
    "\n",
    "* [Sida med prefix](https://data.riksdagen.se/dokumentation/sa-funkar-dokument-id/#:~:text=kod%20for%20riksmote%20eller%20ar)\n",
    "\n",
    "* [Buggar Riksdagens öppna api](https://github.com/salgo60/Wikidata_riksdagen-corpus/issues/50)\n",
    "  * verkar vara en bug att man måste ange rm för att äldre dokument skall hämtas\n",
    " \n",
    "Tanken skapa Pytho som kollar alla Riksdagsdokument i WIkidata om det finns lagstiftandeförsamling hos Riksdagen\n",
    "\n",
    "### Test H7023008 Motion 2019/20:3008 av Jonas Sjöstedt m.fl. (V)\n",
    "* [text](http://data.riksdagen.se/dokument/H7023008.text) / [html](http://data.riksdagen.se/dokument/H7023008.html) /  [json](http://data.riksdagen.se/dokumentlista/?sok=H7023008&utformat=json) \n"
   ]
  },
  {
   "cell_type": "code",
   "execution_count": 1,
   "metadata": {},
   "outputs": [
    {
     "name": "stdout",
     "output_type": "stream",
     "text": [
      "Last run:  2022-10-02 19:36:35.977986\n"
     ]
    }
   ],
   "source": [
    "from datetime import datetime\n",
    "start_time  = datetime.now()\n",
    "print(\"Last run: \", start_time)"
   ]
  },
  {
   "cell_type": "code",
   "execution_count": 2,
   "metadata": {},
   "outputs": [],
   "source": [
    "import sys\n",
    "from SPARQLWrapper import SPARQLWrapper, JSON\n",
    "from tqdm.auto import tqdm\n",
    "tqdm.pandas()\n",
    "import urllib3, json\n",
    "import pandas as pd\n",
    "\n",
    "endpoint_url = \"https://query.wikidata.org/sparql\"\n",
    "\n",
    "queryMotioner = \"\"\"#title: Missing lagstiftande\n",
    "SELECT (Replace(str(?doc),\".*Q\", \"Q\") AS ?WD) ?api\n",
    "WHERE\n",
    "{\n",
    "  ?doc wdt:P8433 ?rid.\n",
    "  ?doc wdt:P31 ?instance.\n",
    "  ?doc wdt:P31/wdt:P279* wd:Q452237.\n",
    "  BIND(URI(CONCAT(\"https://data.riksdagen.se/dokument/\",?rid,\".json\")) AS ?api)\n",
    "  minus{?doc wdt:P7727 ?miss}\n",
    "  SERVICE wikibase:label { bd:serviceParam wikibase:language \"sv,en\". }\n",
    "} \n",
    "\"\"\"\n",
    "\n",
    "def get_sparql_dataframe(endpoint_url, query):\n",
    "    \"\"\"\n",
    "    Helper function to convert SPARQL results into a Pandas data frame.\n",
    "    \"\"\"\n",
    "    user_agent = \"salgo60/%s.%s\" % (sys.version_info[0], sys.version_info[1])\n",
    " \n",
    "    sparql = SPARQLWrapper(endpoint_url, agent=user_agent)\n",
    "    sparql.setQuery(query)\n",
    "    sparql.setReturnFormat(JSON)\n",
    "    result = sparql.query()\n",
    "\n",
    "    processed_results = json.load(result.response)\n",
    "    cols = processed_results['head']['vars']\n",
    "\n",
    "    out = []\n",
    "    for row in processed_results['results']['bindings']:\n",
    "        item = []\n",
    "        for c in cols:\n",
    "            item.append(row.get(c, {}).get('value'))\n",
    "        out.append(item)\n",
    "\n",
    "    return pd.DataFrame(out, columns=cols)\n",
    "\n",
    "WDMotioner = get_sparql_dataframe(endpoint_url, queryMotioner)\n"
   ]
  },
  {
   "cell_type": "code",
   "execution_count": 3,
   "metadata": {},
   "outputs": [
    {
     "name": "stdout",
     "output_type": "stream",
     "text": [
      "<class 'pandas.core.frame.DataFrame'>\n",
      "RangeIndex: 47802 entries, 0 to 47801\n",
      "Data columns (total 2 columns):\n",
      " #   Column  Non-Null Count  Dtype \n",
      "---  ------  --------------  ----- \n",
      " 0   WD      47802 non-null  object\n",
      " 1   api     47802 non-null  object\n",
      "dtypes: object(2)\n",
      "memory usage: 747.0+ KB\n"
     ]
    }
   ],
   "source": [
    "WDMotioner.info()"
   ]
  },
  {
   "cell_type": "code",
   "execution_count": null,
   "metadata": {},
   "outputs": [],
   "source": [
    "http = urllib3.PoolManager() \n",
    "listP7277 = []\n",
    "dftot = pd.DataFrame()\n",
    "for index, row in WDMotioner.iterrows():\n",
    "    url = row['api']\n",
    "    #print(row['WD'],url)\n",
    "    try:\n",
    "        r = http.request('GET', url)\n",
    "        #print(r.data)\n",
    "        data = json.loads(r.data)\n",
    "        organ = data[\"dokumentstatus\"][\"dokument\"][\"organ\"]\n",
    "        listP7277.append([row[\"WD\"],organ])\n",
    "    except Exception as e:\n",
    "        print(\"\\tError in \",url, e) \n",
    "dftot = pd.DataFrame(listP7277)\n",
    "dftot.columns =['WD', 'lagstiftande']\n"
   ]
  },
  {
   "cell_type": "code",
   "execution_count": null,
   "metadata": {},
   "outputs": [],
   "source": [
    "dftot"
   ]
  },
  {
   "cell_type": "code",
   "execution_count": null,
   "metadata": {},
   "outputs": [],
   "source": [
    "dftot[\"lagstiftande\"].value_counts()\n"
   ]
  },
  {
   "cell_type": "code",
   "execution_count": null,
   "metadata": {},
   "outputs": [],
   "source": [
    "dfWD = dftot[dftot[\"lagstiftande\"] != \"\"]"
   ]
  },
  {
   "cell_type": "code",
   "execution_count": null,
   "metadata": {},
   "outputs": [],
   "source": [
    "dfWD.info()"
   ]
  },
  {
   "cell_type": "code",
   "execution_count": null,
   "metadata": {},
   "outputs": [],
   "source": [
    "dfWD.to_csv(\"Lagstiftande.csv\")"
   ]
  },
  {
   "cell_type": "code",
   "execution_count": null,
   "metadata": {},
   "outputs": [],
   "source": [
    "end = datetime.now()\n",
    "print(\"Ended: \", end) \n",
    "print('Time elapsed (hh:mm:ss.ms) {}'.format(datetime.now() - start_time))"
   ]
  },
  {
   "cell_type": "code",
   "execution_count": null,
   "metadata": {},
   "outputs": [],
   "source": [
    "# GE02Bo518\n",
    "#dftot[dftot[\"id\"] == \"GE02Bo518\"]\n"
   ]
  },
  {
   "cell_type": "code",
   "execution_count": null,
   "metadata": {},
   "outputs": [],
   "source": []
  },
  {
   "cell_type": "code",
   "execution_count": null,
   "metadata": {},
   "outputs": [],
   "source": []
  }
 ],
 "metadata": {
  "kernelspec": {
   "display_name": "Python 3",
   "language": "python",
   "name": "python3"
  },
  "language_info": {
   "codemirror_mode": {
    "name": "ipython",
    "version": 3
   },
   "file_extension": ".py",
   "mimetype": "text/x-python",
   "name": "python",
   "nbconvert_exporter": "python",
   "pygments_lexer": "ipython3",
   "version": "3.9.13"
  }
 },
 "nbformat": 4,
 "nbformat_minor": 4
}
